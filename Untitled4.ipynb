{
 "cells": [
  {
   "cell_type": "code",
   "execution_count": 1,
   "id": "cb15e77a-fa23-4d15-8f9d-e0b8d4b1b77e",
   "metadata": {},
   "outputs": [],
   "source": [
    "from edsl import AgentList\n",
    "from edsl.widgets.agent_list_builder import AgentListBuilderWidget\n",
    "from edsl.widgets.agent_list_manager import AgentListManagerWidget"
   ]
  },
  {
   "cell_type": "code",
   "execution_count": 3,
   "id": "c5ff2aa9-8f0e-4a47-8f27-3da114380f34",
   "metadata": {},
   "outputs": [],
   "source": []
  },
  {
   "cell_type": "code",
   "execution_count": 2,
   "id": "d6134f65-6a2a-4058-98f1-2bd30f7166de",
   "metadata": {},
   "outputs": [
    {
     "data": {
      "application/vnd.jupyter.widget-view+json": {
       "model_id": "f0de57a68ae84ff6878611e5c8f2a024",
       "version_major": 2,
       "version_minor": 1
      },
      "text/plain": [
       "AgentListManagerWidget(agent_lists=[{'uuid': '81a2f191-aa9e-4031-bb9c-b71ae20aa4a3', 'name': 'jovial-median-de…"
      ]
     },
     "execution_count": 2,
     "metadata": {},
     "output_type": "execute_result"
    }
   ],
   "source": [
    "AgentListManagerWidget()"
   ]
  },
  {
   "cell_type": "code",
   "execution_count": 3,
   "id": "14cf1628-91ca-4340-9218-f524dc9dd301",
   "metadata": {},
   "outputs": [],
   "source": [
    "from edsl import AgentList \n",
    "al = AgentList.pull('81a2f191-aa9e-4031-bb9c-b71ae20aa4a3')"
   ]
  },
  {
   "cell_type": "code",
   "execution_count": 1,
   "id": "1953edb8-ac9a-4f04-bab2-172258a0bb83",
   "metadata": {},
   "outputs": [
    {
     "ename": "NameError",
     "evalue": "name 'AgentListBuilderWidget' is not defined",
     "output_type": "error",
     "traceback": [
      "\u001b[0;31m---------------------------------------------------------------------------\u001b[0m",
      "\u001b[0;31mNameError\u001b[0m                                 Traceback (most recent call last)",
      "Cell \u001b[0;32mIn[1], line 1\u001b[0m\n\u001b[0;32m----> 1\u001b[0m \u001b[43mAgentListBuilderWidget\u001b[49m(al)\n",
      "\u001b[0;31mNameError\u001b[0m: name 'AgentListBuilderWidget' is not defined"
     ]
    }
   ],
   "source": [
    "AgentListBuilderWidget(al)"
   ]
  },
  {
   "cell_type": "code",
   "execution_count": 3,
   "id": "0221a609-d3a0-47a3-bcce-587c18949065",
   "metadata": {},
   "outputs": [
    {
     "data": {
      "application/vnd.jupyter.widget-view+json": {
       "model_id": "517f26aee2244badb0141039f3e7fe54",
       "version_major": 2,
       "version_minor": 1
      },
      "text/plain": [
       "ResultsInspectorWidget()"
      ]
     },
     "execution_count": 3,
     "metadata": {},
     "output_type": "execute_result"
    }
   ],
   "source": [
    "from edsl.widgets.unified_results_inspector import UnifiedResultsInspectorWidget\n",
    "from edsl import Results\n",
    "from edsl.widgets import ResultsInspectorWidget\n",
    "\n",
    "  # Create widget with EDSL results\n",
    "ResultsInspectorWidget(results= Results.example())"
   ]
  },
  {
   "cell_type": "code",
   "execution_count": 5,
   "id": "fd75ffed-2d8a-4d88-8096-31a49f8e00b2",
   "metadata": {},
   "outputs": [
    {
     "ename": "NameError",
     "evalue": "name 'widget' is not defined",
     "output_type": "error",
     "traceback": [
      "\u001b[0;31m---------------------------------------------------------------------------\u001b[0m",
      "\u001b[0;31mNameError\u001b[0m                                 Traceback (most recent call last)",
      "Cell \u001b[0;32mIn[5], line 1\u001b[0m\n\u001b[0;32m----> 1\u001b[0m \u001b[43mwidget\u001b[49m\n",
      "\u001b[0;31mNameError\u001b[0m: name 'widget' is not defined"
     ]
    }
   ],
   "source": [
    "widget"
   ]
  },
  {
   "cell_type": "code",
   "execution_count": 4,
   "id": "fd92ec8d-1a8a-4f5f-9f65-564438c4c74e",
   "metadata": {},
   "outputs": [
    {
     "data": {
      "application/vnd.jupyter.widget-view+json": {
       "model_id": "fd0a4974fd9c4a9a913691e1e343b036",
       "version_major": 2,
       "version_minor": 1
      },
      "text/plain": [
       "ResultInspectorWidget(data={'agent': {'traits': {'status': 'Joyful'}, 'edsl_version': '1.0.3.dev1', 'edsl_clas…"
      ]
     },
     "execution_count": 4,
     "metadata": {},
     "output_type": "execute_result"
    }
   ],
   "source": [
    "Results.example()[0].inspect()"
   ]
  },
  {
   "cell_type": "code",
   "execution_count": null,
   "id": "1dd069c1-021d-43b5-8547-cc7716d994b0",
   "metadata": {},
   "outputs": [],
   "source": []
  }
 ],
 "metadata": {
  "kernelspec": {
   "display_name": "Python 3 (ipykernel)",
   "language": "python",
   "name": "python3"
  },
  "language_info": {
   "codemirror_mode": {
    "name": "ipython",
    "version": 3
   },
   "file_extension": ".py",
   "mimetype": "text/x-python",
   "name": "python",
   "nbconvert_exporter": "python",
   "pygments_lexer": "ipython3",
   "version": "3.11.0"
  }
 },
 "nbformat": 4,
 "nbformat_minor": 5
}
