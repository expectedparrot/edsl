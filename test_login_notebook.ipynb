{
 "cells": [
  {
   "cell_type": "markdown",
   "metadata": {},
   "source": [
    "# Test EDSL Login Function\n",
    "This notebook tests the enhanced login function with dynamic status updates."
   ]
  },
  {
   "cell_type": "code",
   "execution_count": null,
   "metadata": {},
   "source": [
    "# Import the login function\n",
    "from edsl import login\n",
    "print(\"Login function imported successfully!\")"
   ]
  },
  {
   "cell_type": "code",
   "execution_count": null,
   "metadata": {},
   "source": [
    "# Test the login function\n",
    "print(\"Starting login test...\")\n",
    "login(timeout=10)  # Short timeout for testing\n",
    "print(\"Login test completed!\")"
   ]
  },
  {
   "cell_type": "markdown", 
   "metadata": {},
   "source": [
    "Watch for:\n",
    "1. Styled login interface appears\n",
    "2. Dynamic spinner updates\n",
    "3. **No newlines** pushing this cell down\n",
    "4. Final result message"
   ]
  }
 ],
 "metadata": {
  "kernelspec": {
   "display_name": "Python 3",
   "language": "python",
   "name": "python3"
  },
  "language_info": {
   "name": "python",
   "version": "3.11.0"
  }
 },
 "nbformat": 4,
 "nbformat_minor": 4
}