{
 "cells": [
  {
   "cell_type": "code",
   "execution_count": 2,
   "id": "07b996bc-ebd1-43e6-8685-f5c477e4ccd1",
   "metadata": {},
   "outputs": [],
   "source": [
    "from edsl import Results, Survey"
   ]
  },
  {
   "cell_type": "code",
   "execution_count": 4,
   "id": "60750ea7-dc80-48f2-9c67-70cd9c5c778c",
   "metadata": {},
   "outputs": [
    {
     "name": "stderr",
     "output_type": "stream",
     "text": [
      "❌ E[🦃] EDSL ERROR: CoopServerResponseError: Not Found\n",
      "\n",
      "\n",
      "Exception raised when the server returns an error response.\n",
      "\n",
      "    This exception is raised when the Expected Parrot API returns an error\n",
      "    response, such as authentication failures, rate limits, or server errors.\n",
      "    The exception message typically includes the error details from the server.\n",
      "\n",
      "    To fix this error:\n",
      "    1. Check the exception message for specific error details from the server\n",
      "    2. For authentication errors (401), verify your API key is correct and not expired\n",
      "    3. For rate limit errors (429), reduce the frequency of your requests\n",
      "    4. For server errors (500+), the issue may be temporary - wait and try again\n",
      "    5. Check your network connection if you're getting connection timeout errors\n",
      "\n",
      "    Example:\n",
      "        ```python\n",
      "        coop = Coop(api_key=\"invalid-key\")\n",
      "        coop.get(\"valid-uuid\")  # Raises CoopServerResponseError with 401 Unauthorized\n",
      "        ```\n",
      "\n",
      "\n",
      "For more information, see: https://docs.expectedparrot.com/en/latest/api_keys.html\n"
     ]
    }
   ],
   "source": [
    "s = Survey.pull('1646e0e9-b4a5-43c2-ab3e-3d5c1d3931ec')"
   ]
  },
  {
   "cell_type": "code",
   "execution_count": 4,
   "id": "8e73ad38-7d78-4df8-b3ea-b474351ed99f",
   "metadata": {},
   "outputs": [
    {
     "data": {
      "application/vnd.jupyter.widget-view+json": {
       "model_id": "bfc8cd6343e84866a575494869801e03",
       "version_major": 2,
       "version_minor": 1
      },
      "text/plain": [
       "ResultsInspectorWidget(data={'data': [{'agent': {'traits': {'status': 'Joyful'}, 'edsl_version': '1.0.2.dev1',…"
      ]
     },
     "execution_count": 4,
     "metadata": {},
     "output_type": "execute_result"
    }
   ],
   "source": [
    "Results.example().inspect()"
   ]
  },
  {
   "cell_type": "code",
   "execution_count": 1,
   "id": "b1da987c-5233-44bd-9808-a1ab5cce0b53",
   "metadata": {},
   "outputs": [
    {
     "data": {
      "text/html": [
       "<p><a href='https://docs.expectedparrot.com/en/latest/agents.html#agentlist-class'>AgentList</a> agents: 2;</p>\n",
       "            <div style=\"max-height: 500px; overflow-y: auto;\">\n",
       "                <style type=\"text/css\">\n",
       "#T_b93ea_row0_col0, #T_b93ea_row0_col2, #T_b93ea_row1_col0, #T_b93ea_row1_col2 {\n",
       "  text-align: left;\n",
       "  white-space: pre-wrap;\n",
       "  max-width: 300px;\n",
       "  word-wrap: break-word;\n",
       "  background-color: #fff7fb;\n",
       "  color: #000000;\n",
       "}\n",
       "#T_b93ea_row0_col1, #T_b93ea_row0_col3, #T_b93ea_row1_col1, #T_b93ea_row1_col3 {\n",
       "  text-align: left;\n",
       "  white-space: pre-wrap;\n",
       "  max-width: 300px;\n",
       "  word-wrap: break-word;\n",
       "}\n",
       "</style>\n",
       "<table id=\"T_b93ea\">\n",
       "  <thead>\n",
       "    <tr>\n",
       "      <th class=\"blank level0\" >&nbsp;</th>\n",
       "      <th id=\"T_b93ea_level0_col0\" class=\"col_heading level0 col0\" >age</th>\n",
       "      <th id=\"T_b93ea_level0_col1\" class=\"col_heading level0 col1\" >hair</th>\n",
       "      <th id=\"T_b93ea_level0_col2\" class=\"col_heading level0 col2\" >height</th>\n",
       "      <th id=\"T_b93ea_level0_col3\" class=\"col_heading level0 col3\" >agent_parameters</th>\n",
       "    </tr>\n",
       "  </thead>\n",
       "  <tbody>\n",
       "    <tr>\n",
       "      <th id=\"T_b93ea_level0_row0\" class=\"row_heading level0 row0\" >0</th>\n",
       "      <td id=\"T_b93ea_row0_col0\" class=\"data row0 col0\" >22</td>\n",
       "      <td id=\"T_b93ea_row0_col1\" class=\"data row0 col1\" >brown</td>\n",
       "      <td id=\"T_b93ea_row0_col2\" class=\"data row0 col2\" >5.500000</td>\n",
       "      <td id=\"T_b93ea_row0_col3\" class=\"data row0 col3\" >{'instruction': 'You are answering questions as if you were a human. Do not break character.', 'agent_name': None, 'traits_presentation_template': 'Your traits: {{traits}}'}</td>\n",
       "    </tr>\n",
       "    <tr>\n",
       "      <th id=\"T_b93ea_level0_row1\" class=\"row_heading level0 row1\" >1</th>\n",
       "      <td id=\"T_b93ea_row1_col0\" class=\"data row1 col0\" >22</td>\n",
       "      <td id=\"T_b93ea_row1_col1\" class=\"data row1 col1\" >brown</td>\n",
       "      <td id=\"T_b93ea_row1_col2\" class=\"data row1 col2\" >5.500000</td>\n",
       "      <td id=\"T_b93ea_row1_col3\" class=\"data row1 col3\" >{'instruction': 'You are answering questions as if you were a human. Do not break character.', 'agent_name': None, 'traits_presentation_template': 'Your traits: {{traits}}'}</td>\n",
       "    </tr>\n",
       "  </tbody>\n",
       "</table>\n",
       "\n",
       "            </div>\n",
       "            "
      ],
      "text/plain": [
       "AgentList([Agent(traits = {'age': 22, 'hair': 'brown', 'height': 5.5}), Agent(traits = {'age': 22, 'hair': 'brown', 'height': 5.5})])"
      ]
     },
     "execution_count": 1,
     "metadata": {},
     "output_type": "execute_result"
    }
   ],
   "source": [
    "from edsl import AgentList\n",
    "AgentList.example()"
   ]
  },
  {
   "cell_type": "code",
   "execution_count": null,
   "id": "39b88677-2160-4a44-a0eb-5350970db9e7",
   "metadata": {},
   "outputs": [],
   "source": []
  }
 ],
 "metadata": {
  "kernelspec": {
   "display_name": "Python 3 (ipykernel)",
   "language": "python",
   "name": "python3"
  },
  "language_info": {
   "codemirror_mode": {
    "name": "ipython",
    "version": 3
   },
   "file_extension": ".py",
   "mimetype": "text/x-python",
   "name": "python",
   "nbconvert_exporter": "python",
   "pygments_lexer": "ipython3",
   "version": "3.11.0"
  }
 },
 "nbformat": 4,
 "nbformat_minor": 5
}
