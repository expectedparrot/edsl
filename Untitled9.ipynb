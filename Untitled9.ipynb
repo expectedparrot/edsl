{
 "cells": [
  {
   "cell_type": "code",
   "execution_count": 1,
   "id": "968b0db5-615b-4aa7-bde2-3fbcbeaa8e41",
   "metadata": {},
   "outputs": [],
   "source": [
    "from edsl.app.app import App\n",
    "app = App.example()"
   ]
  },
  {
   "cell_type": "code",
   "execution_count": 2,
   "id": "716f84f7-e975-46ea-846d-0fee07511874",
   "metadata": {},
   "outputs": [
    {
     "data": {
      "text/html": [
       "<p><a href='https://docs.expectedparrot.com/en/latest/scenarios.html'>Scenario</a></p>\n",
       "            <div style=\"max-height: 500px; overflow-y: auto;\">\n",
       "                <style type=\"text/css\">\n",
       "#T_01be8_row0_col0, #T_01be8_row0_col1, #T_01be8_row1_col0, #T_01be8_row1_col1, #T_01be8_row2_col0, #T_01be8_row2_col1, #T_01be8_row3_col0, #T_01be8_row3_col1, #T_01be8_row4_col0, #T_01be8_row4_col1, #T_01be8_row5_col0, #T_01be8_row5_col1, #T_01be8_row6_col0, #T_01be8_row6_col1 {\n",
       "  text-align: left;\n",
       "  white-space: pre-wrap;\n",
       "  max-width: 300px;\n",
       "  word-wrap: break-word;\n",
       "}\n",
       "</style>\n",
       "<table id=\"T_01be8\">\n",
       "  <thead>\n",
       "    <tr>\n",
       "      <th class=\"blank level0\" >&nbsp;</th>\n",
       "      <th id=\"T_01be8_level0_col0\" class=\"col_heading level0 col0\" >key</th>\n",
       "      <th id=\"T_01be8_level0_col1\" class=\"col_heading level0 col1\" >value</th>\n",
       "    </tr>\n",
       "  </thead>\n",
       "  <tbody>\n",
       "    <tr>\n",
       "      <th id=\"T_01be8_level0_row0\" class=\"row_heading level0 row0\" >0</th>\n",
       "      <td id=\"T_01be8_row0_col0\" class=\"data row0 col0\" >description</td>\n",
       "      <td id=\"T_01be8_row0_col1\" class=\"data row0 col1\" >Application for telling you courses to take</td>\n",
       "    </tr>\n",
       "    <tr>\n",
       "      <th id=\"T_01be8_level0_row1\" class=\"row_heading level0 row1\" >1</th>\n",
       "      <td id=\"T_01be8_row1_col0\" class=\"data row1 col0\" >object_type</td>\n",
       "      <td id=\"T_01be8_row1_col1\" class=\"data row1 col1\" >scenario</td>\n",
       "    </tr>\n",
       "    <tr>\n",
       "      <th id=\"T_01be8_level0_row2\" class=\"row_heading level0 row2\" >2</th>\n",
       "      <td id=\"T_01be8_row2_col0\" class=\"data row2 col0\" >url</td>\n",
       "      <td id=\"T_01be8_row2_col1\" class=\"data row2 col1\" >https://www.expectedparrot.com/content/2d1eadac-9e38-45df-89d3-696dc4835f4d</td>\n",
       "    </tr>\n",
       "    <tr>\n",
       "      <th id=\"T_01be8_level0_row3\" class=\"row_heading level0 row3\" >3</th>\n",
       "      <td id=\"T_01be8_row3_col0\" class=\"data row3 col0\" >alias_url</td>\n",
       "      <td id=\"T_01be8_row3_col1\" class=\"data row3 col1\" >https://www.expectedparrot.com/content/johnjhorton/course-planner-new</td>\n",
       "    </tr>\n",
       "    <tr>\n",
       "      <th id=\"T_01be8_level0_row4\" class=\"row_heading level0 row4\" >4</th>\n",
       "      <td id=\"T_01be8_row4_col0\" class=\"data row4 col0\" >uuid</td>\n",
       "      <td id=\"T_01be8_row4_col1\" class=\"data row4 col1\" >2d1eadac-9e38-45df-89d3-696dc4835f4d</td>\n",
       "    </tr>\n",
       "    <tr>\n",
       "      <th id=\"T_01be8_level0_row5\" class=\"row_heading level0 row5\" >5</th>\n",
       "      <td id=\"T_01be8_row5_col0\" class=\"data row5 col0\" >version</td>\n",
       "      <td id=\"T_01be8_row5_col1\" class=\"data row5 col1\" >1.0.5.dev1</td>\n",
       "    </tr>\n",
       "    <tr>\n",
       "      <th id=\"T_01be8_level0_row6\" class=\"row_heading level0 row6\" >6</th>\n",
       "      <td id=\"T_01be8_row6_col0\" class=\"data row6 col0\" >visibility</td>\n",
       "      <td id=\"T_01be8_row6_col1\" class=\"data row6 col1\" >public</td>\n",
       "    </tr>\n",
       "  </tbody>\n",
       "</table>\n",
       "\n",
       "            </div>\n",
       "            "
      ],
      "text/plain": [
       "Scenario({'description': 'Application for telling you courses to take', 'object_type': 'scenario', 'url': 'https://www.expectedparrot.com/content/2d1eadac-9e38-45df-89d3-696dc4835f4d', 'alias_url': 'https://www.expectedparrot.com/content/johnjhorton/course-planner-new', 'uuid': '2d1eadac-9e38-45df-89d3-696dc4835f4d', 'version': '1.0.5.dev1', 'visibility': 'public'})"
      ]
     },
     "execution_count": 2,
     "metadata": {},
     "output_type": "execute_result"
    }
   ],
   "source": [
    "app.push(visibility = \"public\", description = \"Application for telling you courses to take\", alias=\"course-planner-new\")"
   ]
  },
  {
   "cell_type": "code",
   "execution_count": 2,
   "id": "23ec4c26-2a22-41f7-a69c-1e2cea2da045",
   "metadata": {},
   "outputs": [
    {
     "data": {
      "text/html": [
       "<p><a href='https://docs.expectedparrot.com/en/latest/scenarios.html#scenariolist'>ScenarioList</a> scenarios: 1; keys: ['question_text', 'question_type', 'question_name'];</p>\n",
       "            <div style=\"max-height: 500px; overflow-y: auto;\">\n",
       "                <style type=\"text/css\">\n",
       "#T_10148_row0_col0, #T_10148_row0_col1, #T_10148_row0_col2 {\n",
       "  text-align: left;\n",
       "  white-space: pre-wrap;\n",
       "  max-width: 300px;\n",
       "  word-wrap: break-word;\n",
       "}\n",
       "</style>\n",
       "<table id=\"T_10148\">\n",
       "  <thead>\n",
       "    <tr>\n",
       "      <th class=\"blank level0\" >&nbsp;</th>\n",
       "      <th id=\"T_10148_level0_col0\" class=\"col_heading level0 col0\" >question_name</th>\n",
       "      <th id=\"T_10148_level0_col1\" class=\"col_heading level0 col1\" >question_type</th>\n",
       "      <th id=\"T_10148_level0_col2\" class=\"col_heading level0 col2\" >question_text</th>\n",
       "    </tr>\n",
       "  </thead>\n",
       "  <tbody>\n",
       "    <tr>\n",
       "      <th id=\"T_10148_level0_row0\" class=\"row_heading level0 row0\" >0</th>\n",
       "      <td id=\"T_10148_row0_col0\" class=\"data row0 col0\" >intended_college_major</td>\n",
       "      <td id=\"T_10148_row0_col1\" class=\"data row0 col1\" >free_text</td>\n",
       "      <td id=\"T_10148_row0_col2\" class=\"data row0 col2\" >What is your intended college major</td>\n",
       "    </tr>\n",
       "  </tbody>\n",
       "</table>\n",
       "\n",
       "            </div>\n",
       "            "
      ],
      "text/plain": [
       "ScenarioList([Scenario({'question_name': 'intended_college_major', 'question_type': 'free_text', 'question_text': 'What is your intended college major'})])"
      ]
     },
     "execution_count": 2,
     "metadata": {},
     "output_type": "execute_result"
    }
   ],
   "source": [
    "app.parameters"
   ]
  },
  {
   "cell_type": "code",
   "execution_count": 3,
   "id": "7680db9f-4da9-4d91-8095-8228b075166d",
   "metadata": {},
   "outputs": [],
   "source": [
    "new_app = App.pull(\"https://expectedparrot.com/content/johnjhorton/course-planner-new\")"
   ]
  },
  {
   "cell_type": "code",
   "execution_count": 4,
   "id": "90339c01-8e80-4e6b-a79e-a9e9b7337d72",
   "metadata": {},
   "outputs": [
    {
     "data": {
      "text/html": [],
      "text/plain": [
       "<IPython.core.display.HTML object>"
      ]
     },
     "metadata": {},
     "output_type": "display_data"
    },
    {
     "data": {
      "text/plain": [
       "['General Biology',\n",
       " 'Chemistry',\n",
       " 'Physics',\n",
       " 'Calculus',\n",
       " 'Genetics',\n",
       " 'Ecology',\n",
       " 'Cell Biology',\n",
       " 'Biochemistry',\n",
       " 'Molecular Biology',\n",
       " 'Microbiology']"
      ]
     },
     "execution_count": 4,
     "metadata": {},
     "output_type": "execute_result"
    }
   ],
   "source": [
    "new_app.output({'intended_college_major': \"Biology\"})"
   ]
  },
  {
   "cell_type": "code",
   "execution_count": 11,
   "id": "894144ff-9c21-4620-9331-2dcecd9417d7",
   "metadata": {},
   "outputs": [
    {
     "data": {
      "text/html": [
       "\n",
       "            <div style=\"max-height: 500px; overflow-y: auto;\">\n",
       "                <style type=\"text/css\">\n",
       "#T_fea38_row0_col0 {\n",
       "  text-align: left;\n",
       "  white-space: pre-wrap;\n",
       "  max-width: 300px;\n",
       "  word-wrap: break-word;\n",
       "}\n",
       "</style>\n",
       "<table id=\"T_fea38\">\n",
       "  <thead>\n",
       "    <tr>\n",
       "      <th class=\"blank level0\" >&nbsp;</th>\n",
       "      <th id=\"T_fea38_level0_col0\" class=\"col_heading level0 col0\" >answer.courses_to_take</th>\n",
       "    </tr>\n",
       "  </thead>\n",
       "  <tbody>\n",
       "    <tr>\n",
       "      <th id=\"T_fea38_level0_row0\" class=\"row_heading level0 row0\" >0</th>\n",
       "      <td id=\"T_fea38_row0_col0\" class=\"data row0 col0\" >['General Biology', 'Chemistry', 'Physics', 'Calculus', 'Genetics', 'Ecology', 'Cell Biology', 'Biochemistry', 'Molecular Biology', 'Microbiology']</td>\n",
       "    </tr>\n",
       "  </tbody>\n",
       "</table>\n",
       "\n",
       "            </div>\n",
       "            "
      ],
      "text/plain": [
       "Dataset([{'answer.courses_to_take': [['General Biology', 'Chemistry', 'Physics', 'Calculus', 'Genetics', 'Ecology', 'Cell Biology', 'Biochemistry', 'Molecular Biology', 'Microbiology']]}])"
      ]
     },
     "execution_count": 11,
     "metadata": {},
     "output_type": "execute_result"
    }
   ],
   "source": [
    "new_app._results.select('answer.*')"
   ]
  },
  {
   "cell_type": "code",
   "execution_count": null,
   "id": "c0fdeeb7-fd2f-4d5d-b6c5-e1cc0213351e",
   "metadata": {
    "scrolled": true
   },
   "outputs": [
    {
     "data": {
      "application/vnd.jupyter.widget-view+json": {
       "model_id": "5ad8247950da464f8dc3aae04c817d14",
       "version_major": 2,
       "version_minor": 1
      },
      "text/plain": [
       "SurveyWidget(current_question_html='\\n        <div id=\"q0\" class=\"survey_question\" data-type=\"multiple_choice\"…"
      ]
     },
     "metadata": {},
     "output_type": "display_data"
    },
    {
     "data": {
      "text/html": [
       "<pre style=\"white-space:pre;overflow-x:auto;line-height:normal;font-family:Menlo,'DejaVu Sans Mono',consolas,'Courier New',monospace\"></pre>\n"
      ],
      "text/plain": []
     },
     "metadata": {},
     "output_type": "display_data"
    },
    {
     "data": {
      "text/html": [
       "<pre style=\"white-space:pre;overflow-x:auto;line-height:normal;font-family:Menlo,'DejaVu Sans Mono',consolas,'Courier New',monospace\"><span style=\"color: #800080; text-decoration-color: #800080\">╭──────── q0 ─────────╮</span>\n",
       "<span style=\"color: #800080; text-decoration-color: #800080\">│</span> Do you like school? <span style=\"color: #800080; text-decoration-color: #800080\">│</span>\n",
       "<span style=\"color: #800080; text-decoration-color: #800080\">╰─────────────────────╯</span>\n",
       "</pre>\n"
      ],
      "text/plain": [
       "\u001b[35m╭─\u001b[0m\u001b[35m───────\u001b[0m\u001b[35m q0 \u001b[0m\u001b[35m────────\u001b[0m\u001b[35m─╮\u001b[0m\n",
       "\u001b[35m│\u001b[0m Do you like school? \u001b[35m│\u001b[0m\n",
       "\u001b[35m╰─────────────────────╯\u001b[0m\n"
      ]
     },
     "metadata": {},
     "output_type": "display_data"
    },
    {
     "data": {
      "text/html": [
       "<pre style=\"white-space:pre;overflow-x:auto;line-height:normal;font-family:Menlo,'DejaVu Sans Mono',consolas,'Courier New',monospace\">┏━━━┳━━━━━━━━┓\n",
       "┃<span style=\"color: #000080; text-decoration-color: #000080; font-weight: bold\"> # </span>┃<span style=\"color: #000080; text-decoration-color: #000080; font-weight: bold\"> Option </span>┃\n",
       "┡━━━╇━━━━━━━━┩\n",
       "│ 1 │ yes    │\n",
       "│ 2 │ no     │\n",
       "└───┴────────┘\n",
       "</pre>\n"
      ],
      "text/plain": [
       "┏━━━┳━━━━━━━━┓\n",
       "┃\u001b[1;34m \u001b[0m\u001b[1;34m#\u001b[0m\u001b[1;34m \u001b[0m┃\u001b[1;34m \u001b[0m\u001b[1;34mOption\u001b[0m\u001b[1;34m \u001b[0m┃\n",
       "┡━━━╇━━━━━━━━┩\n",
       "│ 1 │ yes    │\n",
       "│ 2 │ no     │\n",
       "└───┴────────┘\n"
      ]
     },
     "metadata": {},
     "output_type": "display_data"
    },
    {
     "data": {
      "text/html": [
       "<pre style=\"white-space:pre;overflow-x:auto;line-height:normal;font-family:Menlo,'DejaVu Sans Mono',consolas,'Courier New',monospace\"><span style=\"color: #7f7f7f; text-decoration-color: #7f7f7f\">Type the option number or the option text exactly, then press Enter:</span>\n",
       "</pre>\n"
      ],
      "text/plain": [
       "\u001b[2mType the option number or the option text exactly, then press Enter:\u001b[0m\n"
      ]
     },
     "metadata": {},
     "output_type": "display_data"
    }
   ],
   "source": [
    "from edsl.surveys.interactive_survey import InteractiveSurvey\n",
    "from edsl import Survey \n",
    "s = Survey.example()\n",
    "answers = InteractiveSurvey(s).run()"
   ]
  },
  {
   "cell_type": "code",
   "execution_count": null,
   "id": "c607ee79-2549-41ec-b985-164b71b96a0f",
   "metadata": {},
   "outputs": [],
   "source": []
  }
 ],
 "metadata": {
  "kernelspec": {
   "display_name": "Python 3 (ipykernel)",
   "language": "python",
   "name": "python3"
  },
  "language_info": {
   "codemirror_mode": {
    "name": "ipython",
    "version": 3
   },
   "file_extension": ".py",
   "mimetype": "text/x-python",
   "name": "python",
   "nbconvert_exporter": "python",
   "pygments_lexer": "ipython3",
   "version": "3.11.0"
  }
 },
 "nbformat": 4,
 "nbformat_minor": 5
}
