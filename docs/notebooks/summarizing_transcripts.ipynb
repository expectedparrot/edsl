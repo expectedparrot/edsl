{
 "cells": [
  {
   "cell_type": "markdown",
   "id": "8932508c-9e34-4992-bae0-ee7cf22cdf49",
   "metadata": {
    "editable": true,
    "slideshow": {
     "slide_type": ""
    },
    "tags": []
   },
   "source": [
    "# Analyzing customer service calls\n",
    "This notebook provides sample [EDSL](https://docs.expectedparrot.com/) code for conducting an analysis of textual content with AI agents and large language models. Using a set of transcripts of mock customer calls as an example, we use EDSL to prompt an AI agent to identify the callers' names, emails, questions and requests and return the results as a formatted dataset. The code is readily editable for reviewing other content, giving the agent different personas, and prompting the agent to extract other information.\n",
    "\n",
    "## Technical setup\n",
    "Before running the code below, please ensure that you have [installed the EDSL library](https://docs.expectedparrot.com/en/latest/installation.html) and either [activated remote inference](https://docs.expectedparrot.com/en/latest/remote_inference.html) from your [Coop account](https://docs.expectedparrot.com/en/latest/coop.html) or [stored API keys](https://docs.expectedparrot.com/en/latest/api_keys.html) for the language models that you want to use with EDSL. Please also see our [documentation page](https://docs.expectedparrot.com/) for tips and tutorials on getting started using EDSL."
   ]
  },
  {
   "cell_type": "markdown",
   "id": "0870ea06-1e54-4747-b7a6-84470879faa1",
   "metadata": {
    "editable": true,
    "slideshow": {
     "slide_type": ""
    },
    "tags": []
   },
   "source": [
    "## Constructing questions about the data\n",
    "We start by constructing questions about the content we want to analyze. \n",
    "[EDSL comes with a variety of question types](https://docs.expectedparrot.com/en/latest/questions.html) that we can choose from based on the form of the response that we want to get back from the model (multiple choice, linear scale, free text, etc.). \n",
    "Here we use `QuestionFreeText` to get the caller names and emails and `QuestionList` to list out any questions and requests of the callers, with a `{{ placeholder }}` for a transcript:"
   ]
  },
  {
   "cell_type": "code",
   "execution_count": 1,
   "id": "7a89784e-5970-4d00-89f3-5209619e88b4",
   "metadata": {
    "editable": true,
    "slideshow": {
     "slide_type": ""
    },
    "tags": []
   },
   "outputs": [],
   "source": [
    "from edsl import QuestionFreeText, QuestionList\n",
    "\n",
    "# Construct questions in the relevant question type templates\n",
    "# Use a placeholder for the transcripts to be reviewed\n",
    "q_name = QuestionFreeText(\n",
    "    question_name=\"name\",\n",
    "    question_text=\"\"\"\n",
    "    What is caller's name? Transcript: {{ transcript }}\n",
    "    Return just the name of the caller.\n",
    "    \"\"\",\n",
    ")\n",
    "\n",
    "q_email = QuestionFreeText(\n",
    "    question_name=\"email\",\n",
    "    question_text=\"\"\"What is caller's email address? Transcript: {{ transcript }}\n",
    "    Return just the email address.\n",
    "    \"\"\",\n",
    ")\n",
    "\n",
    "q_questions = QuestionList(\n",
    "    question_name=\"questions\",\n",
    "    question_text=\"What questions does the caller have? Transcript: {{ transcript }}?\",\n",
    ")\n",
    "\n",
    "q_requests = QuestionList(\n",
    "    question_name=\"requests\",\n",
    "    question_text=\"What is the caller requesting? Transcript: {{ transcript }}?\",\n",
    ")"
   ]
  },
  {
   "cell_type": "markdown",
   "id": "3ebd95f5-948e-4fbe-848f-b6cc9899f944",
   "metadata": {
    "editable": true,
    "slideshow": {
     "slide_type": ""
    },
    "tags": []
   },
   "source": [
    "## Creating a survey\n",
    "We combine the questions into a `Survey` in order to administer them all together:"
   ]
  },
  {
   "cell_type": "code",
   "execution_count": 2,
   "id": "8bb84bbd-c8d8-462e-9e4f-ae5088d6bf3b",
   "metadata": {
    "editable": true,
    "slideshow": {
     "slide_type": ""
    },
    "tags": []
   },
   "outputs": [],
   "source": [
    "from edsl import Survey\n",
    "\n",
    "survey = Survey([q_name, q_email, q_questions, q_requests])"
   ]
  },
  {
   "cell_type": "markdown",
   "id": "88231780-b81f-4f9c-b817-a04295015339",
   "metadata": {
    "editable": true,
    "slideshow": {
     "slide_type": ""
    },
    "tags": []
   },
   "source": [
    "## Adding context to questions\n",
    "Next we import a dataset of transcripts to add to the questions, creating a `Scenario` dictionary for each transcript. \n",
    "[EDSL provides methods for importing content from many different data sources](https://docs.expectedparrot.com/en/latest/scenarios.html), including PDFs, CSVs, docs, images, tables, lists, dicts, etc. \n",
    "Here we use a CSV of texts, [retrieved from the Coop](https://www.expectedparrot.com/content/01474c60-d02b-4874-a577-953e870d8bff):"
   ]
  },
  {
   "cell_type": "code",
   "execution_count": 3,
   "id": "34a8908f-3722-4e70-82f2-468c3b60a4d3",
   "metadata": {
    "editable": true,
    "slideshow": {
     "slide_type": ""
    },
    "tags": []
   },
   "outputs": [],
   "source": [
    "from edsl.scenarios.FileStore import CSVFileStore\n",
    "\n",
    "csv_file = CSVFileStore.pull('01474c60-d02b-4874-a577-953e870d8bff', expected_parrot_url='https://www.expectedparrot.com')"
   ]
  },
  {
   "cell_type": "code",
   "execution_count": 4,
   "id": "5e4983a5-bc02-4aa7-bf10-40f6f08a47c5",
   "metadata": {
    "editable": true,
    "slideshow": {
     "slide_type": ""
    },
    "tags": []
   },
   "outputs": [],
   "source": [
    "from edsl import ScenarioList, Scenario\n",
    "\n",
    "scenarios = ScenarioList.from_csv(csv_file.to_tempfile()) "
   ]
  },
  {
   "cell_type": "markdown",
   "id": "ddd2d761-d875-4404-b388-36db33fc05bf",
   "metadata": {
    "editable": true,
    "slideshow": {
     "slide_type": ""
    },
    "tags": []
   },
   "source": [
    "We can inspect the scenarios ([and rename or edit them as desired](https://docs.expectedparrot.com/en/latest/scenarios.html)):"
   ]
  },
  {
   "cell_type": "code",
   "execution_count": 5,
   "id": "e031482f-c3de-48b7-99c1-0dbd7f1a1666",
   "metadata": {
    "editable": true,
    "slideshow": {
     "slide_type": ""
    },
    "tags": []
   },
   "outputs": [
    {
     "data": {
      "text/html": [
       "<div class=\"highlight\"><pre><span></span><span class=\"p\">{</span>\n",
       "<span class=\"w\">    </span><span class=\"nt\">&quot;scenarios&quot;</span><span class=\"p\">:</span><span class=\"w\"> </span><span class=\"p\">[</span>\n",
       "<span class=\"w\">        </span><span class=\"p\">{</span>\n",
       "<span class=\"w\">            </span><span class=\"nt\">&quot;transcript&quot;</span><span class=\"p\">:</span><span class=\"w\"> </span><span class=\"s2\">&quot;\\&quot;Agent: Good morning, thank you for calling Renovation Software Solutions. How can I assist you today? Customer: Hi, I&#39;m having trouble with the 3D rendering feature. It seems to crash every time I try to add a new room. Agent: I&#39;m sorry to hear that. Let me check if there are any known issues with the 3D rendering feature. Can you tell me which version of the software you&#39;re using? Customer: I&#39;m using version 5.3.2 on a Windows 10 PC. Agent: Thank you. There was a recent update that might resolve this issue. Please make sure your software is updated to the latest version. If the problem persists, we can arrange a remote support session to troubleshoot further. Could I have your name and email address to send you further instructions? Customer: Sure, it&#39;s Emily Davis, emily.davis@example.com. Agent: Great, I&#39;ll send the instructions to your email. I&#39;ll update the software and try again. If it still crashes, I&#39;ll call back. Thanks for your help. Agent: You&#39;re welcome. Have a great day! [Caller sounded frustrated]\\&quot;,&quot;</span>\n",
       "<span class=\"w\">        </span><span class=\"p\">},</span>\n",
       "<span class=\"w\">        </span><span class=\"p\">{</span>\n",
       "<span class=\"w\">            </span><span class=\"nt\">&quot;transcript&quot;</span><span class=\"p\">:</span><span class=\"w\"> </span><span class=\"s2\">&quot;\\&quot;Agent: Good afternoon, Renovation Software Solutions. How may I help you? Customer: Hi, I&#39;m looking for a tutorial on how to use the budget tracking feature. Is there a video or a guide available? Agent: Yes, we have several resources available. You can find tutorial videos and step-by-step guides on our website under the &#39;Support&#39; section. If you need further assistance, we can also schedule a live demo with one of our specialists. Could I get your name and email address to send you the details? Customer: That sounds perfect. My name is Sarah Johnson, and my email is sarah.johnson@example.com. Agent: Thank you, Sarah. I&#39;ll send you the details shortly. Have a great day! Customer: Thank you! Agent: My pleasure. Have a great day! [Caller sounded satisfied]\\&quot;,&quot;</span>\n",
       "<span class=\"w\">        </span><span class=\"p\">},</span>\n",
       "<span class=\"w\">        </span><span class=\"p\">{</span>\n",
       "<span class=\"w\">            </span><span class=\"nt\">&quot;transcript&quot;</span><span class=\"p\">:</span><span class=\"w\"> </span><span class=\"s2\">&quot;\\&quot;Agent: Hello, thank you for calling Renovation Software Solutions. How can I assist you today? Customer: Hi, I need help with my account. I can&#39;t seem to reset my password, and I&#39;m locked out. Agent: I&#39;m sorry to hear that. Let&#39;s get that sorted out. Can you provide me with your email address associated with the account? Customer: Sure, it&#39;s mike.thomas@example.com. Agent: And may I have your name, please? Customer: Mike Thomas. Agent: Thank you, Mike. I&#39;ll send you a password reset link. Please check your email and follow the instructions. If you don&#39;t receive the email within a few minutes, check your spam folder or give us a call back. Customer: Got it. I&#39;ll keep an eye out for the email. Thanks for your help. Agent: You&#39;re welcome. Have a great day!\\&quot;,&quot;</span>\n",
       "<span class=\"w\">        </span><span class=\"p\">},</span>\n",
       "<span class=\"w\">        </span><span class=\"p\">{</span>\n",
       "<span class=\"w\">            </span><span class=\"nt\">&quot;transcript&quot;</span><span class=\"p\">:</span><span class=\"w\"> </span><span class=\"s2\">&quot;\\&quot;Agent: Good morning, Renovation Software Solutions. How may I help you today? Customer: Hi, I&#39;m interested in upgrading my subscription plan. What are the options available? Agent: We offer several subscription plans to suit different needs. Our standard plan includes basic features, while our premium plan includes advanced tools and priority support. You can find detailed information on our website or I can email you a comparison chart. Customer: Please email me the comparison chart. My email is laura.miller@example.com. Agent: Certainly. Could I get your name as well? Customer: Laura Miller. Agent: Thank you, Laura. I&#39;ll send that over right away. If you have any questions after reviewing it, feel free to contact us. Customer: Will do. Thanks a lot! Agent: You&#39;re welcome. Have a great day!\\&quot;,&quot;</span>\n",
       "<span class=\"w\">        </span><span class=\"p\">},</span>\n",
       "<span class=\"w\">        </span><span class=\"p\">{</span>\n",
       "<span class=\"w\">            </span><span class=\"nt\">&quot;transcript&quot;</span><span class=\"p\">:</span><span class=\"w\"> </span><span class=\"s2\">&quot;\\&quot;Agent: Good afternoon, thank you for calling Renovation Software Solutions. How can I help you today? Customer: Hi, I&#39;m having an issue with exporting my project to PDF. The file seems to be corrupted every time I try. Agent: I&#39;m sorry to hear that. Can you tell me which version of the software you&#39;re using and the operating system? Customer: I&#39;m using version 5.3.2 on macOS. Agent: Thank you. This issue can sometimes be resolved by updating to the latest version of the software. If the problem persists, please try reinstalling the software. If you continue to experience issues, our technical support team can assist you further. Could I get your name and email address for follow-up? Customer: My name is Jason Lee, and my email is jason.lee@example.com. Agent: Thanks, Jason. I&#39;ll make sure our support team reaches out if needed. Have a great day! Customer: I&#39;ll try updating and reinstalling. If that doesn&#39;t work, I&#39;ll reach out again. Thanks for your help. Agent: You&#39;re welcome. Have a great day!\\&quot;,&quot;</span>\n",
       "<span class=\"w\">        </span><span class=\"p\">},</span>\n",
       "<span class=\"w\">        </span><span class=\"p\">{</span>\n",
       "<span class=\"w\">            </span><span class=\"nt\">&quot;transcript&quot;</span><span class=\"p\">:</span><span class=\"w\"> </span><span class=\"s2\">&quot;\\&quot;Agent: Good morning, Renovation Software Solutions. How may I help you today? Customer: Hi, I have a question about your collaboration tools. Can multiple users work on the same project simultaneously? Agent: Yes, our software supports real-time collaboration, allowing multiple users to work on the same project at the same time. You&#39;ll need to invite team members to your project, and they can join and make changes live. Could I have your name and email address to send you detailed instructions? Customer: My name is Olivia Brown, and my email is olivia.brown@example.com. Agent: Perfect, Olivia. I&#39;ll send you the instructions right away. Customer: That&#39;s great! How do I invite team members to my project? Agent: You can invite team members by clicking on the &#39;Invite&#39; button within your project. Enter their email addresses, and they&#39;ll receive an invitation to join your project. Customer: Perfect. Thanks for the information. Agent: You&#39;re welcome. Have a great day! [Caller sounded curious]\\&quot;,&quot;</span>\n",
       "<span class=\"w\">        </span><span class=\"p\">},</span>\n",
       "<span class=\"w\">        </span><span class=\"p\">{</span>\n",
       "<span class=\"w\">            </span><span class=\"nt\">&quot;transcript&quot;</span><span class=\"p\">:</span><span class=\"w\"> </span><span class=\"s2\">&quot;\\&quot;Agent: Good afternoon, thank you for calling Renovation Software Solutions. How can I assist you today? Customer: Hi, I&#39;m trying to generate a cost estimate for my renovation project, but the numbers don&#39;t seem to add up correctly. Agent: I&#39;m sorry to hear that. Let&#39;s take a look. Are you using the automated cost estimation tool, or are you entering costs manually? Customer: I&#39;m using the automated tool. Agent: Sometimes, the cost estimation tool needs to be calibrated based on your specific inputs. Make sure all your project details are entered accurately. If you continue to see discrepancies, our support team can help you adjust the settings. Could I get your name and email address for follow-up? Customer: My name is Kevin Turner, and my email is kevin.turner@example.com. Agent: Thanks, Kevin. I&#39;ll make sure our support team follows up with you if needed. Customer: I&#39;ll double-check my inputs and try again. If I still have issues, I&#39;ll call back. Thank you. Agent: You&#39;re welcome. Have a great day! [Caller sounded frustrated]\\&quot;,&quot;</span>\n",
       "<span class=\"w\">        </span><span class=\"p\">},</span>\n",
       "<span class=\"w\">        </span><span class=\"p\">{</span>\n",
       "<span class=\"w\">            </span><span class=\"nt\">&quot;transcript&quot;</span><span class=\"p\">:</span><span class=\"w\"> </span><span class=\"s2\">&quot;\\&quot;Agent: Good morning, thank you for calling Renovation Software Solutions. How can I help you today? Customer: Hi, I&#39;m having trouble accessing my saved projects. They don&#39;t appear in my account anymore. Agent: I&#39;m sorry to hear that. Let me check your account. Can you provide me with your username or email address? Customer: My username is buildmaster123. Agent: And could I have your name and email address as well? Customer: Sure, it&#39;s Lisa Harris, lisa.harris@example.com. Agent: Thank you, Lisa. It appears there was a synchronization issue. I&#39;ve re-synced your account, and your projects should now be visible. Please log out and log back in to check. Customer: Great, I see them now. Thanks for your help! Agent: You&#39;re welcome. Have a great day!\\&quot;,&quot;</span>\n",
       "<span class=\"w\">        </span><span class=\"p\">},</span>\n",
       "<span class=\"w\">        </span><span class=\"p\">{</span>\n",
       "<span class=\"w\">            </span><span class=\"nt\">&quot;transcript&quot;</span><span class=\"p\">:</span><span class=\"w\"> </span><span class=\"s2\">&quot;\\&quot;Agent: Good afternoon, Renovation Software Solutions. How may I assist you today? Customer: Hi, I have a suggestion for a new feature. It would be great to have a tool that helps with project scheduling and timelines. Agent: Thank you for your suggestion. We always appreciate feedback from our users. I&#39;ll pass this on to our development team for consideration. Is there anything specific you&#39;d like to see in this scheduling tool? Customer: It would be helpful to have Gantt charts and reminders for key milestones. Agent: That&#39;s a great idea. I&#39;ll make sure to include your details in the feedback. Could I get your name and email address in case we need more information? Customer: Sure, it&#39;s Daniel Moore, daniel.moore@example.com. Agent: Thanks, Daniel. We appreciate your input. Customer: You&#39;re welcome. Thanks for listening. Agent: My pleasure. Have a great day!\\&quot;,&quot;</span>\n",
       "<span class=\"w\">        </span><span class=\"p\">},</span>\n",
       "<span class=\"w\">        </span><span class=\"p\">{</span>\n",
       "<span class=\"w\">            </span><span class=\"nt\">&quot;transcript&quot;</span><span class=\"p\">:</span><span class=\"w\"> </span><span class=\"s2\">&quot;\\&quot;Agent: Good morning, Renovation Software Solutions. How may I assist you today? Customer: Hi, I&#39;m considering purchasing your software, but I have a few questions about the trial period. Agent: I&#39;d be happy to help. Our trial period lasts for 30 days and gives you access to all the features of our premium plan. You can explore the software and see if it meets your needs before committing to a subscription. Could I get your name and email address to set up your trial account? Customer: My name is Amanda Clark, and my email is amanda.clark@example.com. Agent: Thank you, Amanda. You can switch between plans at any time during the trial period to see which one suits you best. Customer: Excellent. I&#39;ll sign up for the trial and see how it goes. Thank you for the information. Agent: You&#39;re welcome. Enjoy exploring our software, and feel free to reach out if you have any questions. Customer: Will do. Thanks again! Agent: Have a great day! [Caller sounded enthusiastic]\\&quot;,&quot;</span>\n",
       "<span class=\"w\">        </span><span class=\"p\">}</span>\n",
       "<span class=\"w\">    </span><span class=\"p\">]</span>\n",
       "<span class=\"p\">}</span>\n",
       "</pre></div>\n"
      ],
      "text/plain": [
       "ScenarioList([Scenario({'transcript': '\"Agent: Good morning, thank you for calling Renovation Software Solutions. How can I assist you today? Customer: Hi, I\\'m having trouble with the 3D rendering feature. It seems to crash every time I try to add a new room. Agent: I\\'m sorry to hear that. Let me check if there are any known issues with the 3D rendering feature. Can you tell me which version of the software you\\'re using? Customer: I\\'m using version 5.3.2 on a Windows 10 PC. Agent: Thank you. There was a recent update that might resolve this issue. Please make sure your software is updated to the latest version. If the problem persists, we can arrange a remote support session to troubleshoot further. Could I have your name and email address to send you further instructions? Customer: Sure, it\\'s Emily Davis, emily.davis@example.com. Agent: Great, I\\'ll send the instructions to your email. I\\'ll update the software and try again. If it still crashes, I\\'ll call back. Thanks for your help. Agent: You\\'re welcome. Have a great day! [Caller sounded frustrated]\",'}), Scenario({'transcript': '\"Agent: Good afternoon, Renovation Software Solutions. How may I help you? Customer: Hi, I\\'m looking for a tutorial on how to use the budget tracking feature. Is there a video or a guide available? Agent: Yes, we have several resources available. You can find tutorial videos and step-by-step guides on our website under the \\'Support\\' section. If you need further assistance, we can also schedule a live demo with one of our specialists. Could I get your name and email address to send you the details? Customer: That sounds perfect. My name is Sarah Johnson, and my email is sarah.johnson@example.com. Agent: Thank you, Sarah. I\\'ll send you the details shortly. Have a great day! Customer: Thank you! Agent: My pleasure. Have a great day! [Caller sounded satisfied]\",'}), Scenario({'transcript': '\"Agent: Hello, thank you for calling Renovation Software Solutions. How can I assist you today? Customer: Hi, I need help with my account. I can\\'t seem to reset my password, and I\\'m locked out. Agent: I\\'m sorry to hear that. Let\\'s get that sorted out. Can you provide me with your email address associated with the account? Customer: Sure, it\\'s mike.thomas@example.com. Agent: And may I have your name, please? Customer: Mike Thomas. Agent: Thank you, Mike. I\\'ll send you a password reset link. Please check your email and follow the instructions. If you don\\'t receive the email within a few minutes, check your spam folder or give us a call back. Customer: Got it. I\\'ll keep an eye out for the email. Thanks for your help. Agent: You\\'re welcome. Have a great day!\",'}), Scenario({'transcript': '\"Agent: Good morning, Renovation Software Solutions. How may I help you today? Customer: Hi, I\\'m interested in upgrading my subscription plan. What are the options available? Agent: We offer several subscription plans to suit different needs. Our standard plan includes basic features, while our premium plan includes advanced tools and priority support. You can find detailed information on our website or I can email you a comparison chart. Customer: Please email me the comparison chart. My email is laura.miller@example.com. Agent: Certainly. Could I get your name as well? Customer: Laura Miller. Agent: Thank you, Laura. I\\'ll send that over right away. If you have any questions after reviewing it, feel free to contact us. Customer: Will do. Thanks a lot! Agent: You\\'re welcome. Have a great day!\",'}), Scenario({'transcript': '\"Agent: Good afternoon, thank you for calling Renovation Software Solutions. How can I help you today? Customer: Hi, I\\'m having an issue with exporting my project to PDF. The file seems to be corrupted every time I try. Agent: I\\'m sorry to hear that. Can you tell me which version of the software you\\'re using and the operating system? Customer: I\\'m using version 5.3.2 on macOS. Agent: Thank you. This issue can sometimes be resolved by updating to the latest version of the software. If the problem persists, please try reinstalling the software. If you continue to experience issues, our technical support team can assist you further. Could I get your name and email address for follow-up? Customer: My name is Jason Lee, and my email is jason.lee@example.com. Agent: Thanks, Jason. I\\'ll make sure our support team reaches out if needed. Have a great day! Customer: I\\'ll try updating and reinstalling. If that doesn\\'t work, I\\'ll reach out again. Thanks for your help. Agent: You\\'re welcome. Have a great day!\",'}), Scenario({'transcript': '\"Agent: Good morning, Renovation Software Solutions. How may I help you today? Customer: Hi, I have a question about your collaboration tools. Can multiple users work on the same project simultaneously? Agent: Yes, our software supports real-time collaboration, allowing multiple users to work on the same project at the same time. You\\'ll need to invite team members to your project, and they can join and make changes live. Could I have your name and email address to send you detailed instructions? Customer: My name is Olivia Brown, and my email is olivia.brown@example.com. Agent: Perfect, Olivia. I\\'ll send you the instructions right away. Customer: That\\'s great! How do I invite team members to my project? Agent: You can invite team members by clicking on the \\'Invite\\' button within your project. Enter their email addresses, and they\\'ll receive an invitation to join your project. Customer: Perfect. Thanks for the information. Agent: You\\'re welcome. Have a great day! [Caller sounded curious]\",'}), Scenario({'transcript': '\"Agent: Good afternoon, thank you for calling Renovation Software Solutions. How can I assist you today? Customer: Hi, I\\'m trying to generate a cost estimate for my renovation project, but the numbers don\\'t seem to add up correctly. Agent: I\\'m sorry to hear that. Let\\'s take a look. Are you using the automated cost estimation tool, or are you entering costs manually? Customer: I\\'m using the automated tool. Agent: Sometimes, the cost estimation tool needs to be calibrated based on your specific inputs. Make sure all your project details are entered accurately. If you continue to see discrepancies, our support team can help you adjust the settings. Could I get your name and email address for follow-up? Customer: My name is Kevin Turner, and my email is kevin.turner@example.com. Agent: Thanks, Kevin. I\\'ll make sure our support team follows up with you if needed. Customer: I\\'ll double-check my inputs and try again. If I still have issues, I\\'ll call back. Thank you. Agent: You\\'re welcome. Have a great day! [Caller sounded frustrated]\",'}), Scenario({'transcript': '\"Agent: Good morning, thank you for calling Renovation Software Solutions. How can I help you today? Customer: Hi, I\\'m having trouble accessing my saved projects. They don\\'t appear in my account anymore. Agent: I\\'m sorry to hear that. Let me check your account. Can you provide me with your username or email address? Customer: My username is buildmaster123. Agent: And could I have your name and email address as well? Customer: Sure, it\\'s Lisa Harris, lisa.harris@example.com. Agent: Thank you, Lisa. It appears there was a synchronization issue. I\\'ve re-synced your account, and your projects should now be visible. Please log out and log back in to check. Customer: Great, I see them now. Thanks for your help! Agent: You\\'re welcome. Have a great day!\",'}), Scenario({'transcript': '\"Agent: Good afternoon, Renovation Software Solutions. How may I assist you today? Customer: Hi, I have a suggestion for a new feature. It would be great to have a tool that helps with project scheduling and timelines. Agent: Thank you for your suggestion. We always appreciate feedback from our users. I\\'ll pass this on to our development team for consideration. Is there anything specific you\\'d like to see in this scheduling tool? Customer: It would be helpful to have Gantt charts and reminders for key milestones. Agent: That\\'s a great idea. I\\'ll make sure to include your details in the feedback. Could I get your name and email address in case we need more information? Customer: Sure, it\\'s Daniel Moore, daniel.moore@example.com. Agent: Thanks, Daniel. We appreciate your input. Customer: You\\'re welcome. Thanks for listening. Agent: My pleasure. Have a great day!\",'}), Scenario({'transcript': '\"Agent: Good morning, Renovation Software Solutions. How may I assist you today? Customer: Hi, I\\'m considering purchasing your software, but I have a few questions about the trial period. Agent: I\\'d be happy to help. Our trial period lasts for 30 days and gives you access to all the features of our premium plan. You can explore the software and see if it meets your needs before committing to a subscription. Could I get your name and email address to set up your trial account? Customer: My name is Amanda Clark, and my email is amanda.clark@example.com. Agent: Thank you, Amanda. You can switch between plans at any time during the trial period to see which one suits you best. Customer: Excellent. I\\'ll sign up for the trial and see how it goes. Thank you for the information. Agent: You\\'re welcome. Enjoy exploring our software, and feel free to reach out if you have any questions. Customer: Will do. Thanks again! Agent: Have a great day! [Caller sounded enthusiastic]\",'})])"
      ]
     },
     "execution_count": 5,
     "metadata": {},
     "output_type": "execute_result"
    }
   ],
   "source": [
    "scenarios"
   ]
  },
  {
   "cell_type": "markdown",
   "id": "b971e79c-0dbd-49cf-ade5-ccf5b0616af7",
   "metadata": {
    "editable": true,
    "slideshow": {
     "slide_type": ""
    },
    "tags": []
   },
   "source": [
    "## Designing an AI agent to answer the survey\n",
    "We can create a persona for an AI `Agent` that a language model will use to answer the questions, and give it instructions on the task:"
   ]
  },
  {
   "cell_type": "code",
   "execution_count": 6,
   "id": "fd087fec-8e0a-414c-b30c-77adf4f41dfd",
   "metadata": {
    "editable": true,
    "slideshow": {
     "slide_type": ""
    },
    "tags": []
   },
   "outputs": [],
   "source": [
    "from edsl import Agent\n",
    "\n",
    "agent = Agent(\n",
    "    traits={\"persona\": \"Customer service agent\"},\n",
    "    instruction=\"You are answering questions about transcripts of customer service calls.\",\n",
    ")"
   ]
  },
  {
   "cell_type": "markdown",
   "id": "bdc23b0d-4f0d-4676-b3d3-896d4f612de3",
   "metadata": {
    "editable": true,
    "slideshow": {
     "slide_type": ""
    },
    "tags": []
   },
   "source": [
    "## Selecting a language model\n",
    "We can select one or more specific models to generate the responses (if no model is specified the default model is used).\n",
    "\n",
    "To see a list of all available models:"
   ]
  },
  {
   "cell_type": "code",
   "execution_count": 7,
   "id": "91381d20-175d-42fa-92c2-d5936f9d82b8",
   "metadata": {
    "editable": true,
    "slideshow": {
     "slide_type": ""
    },
    "tags": []
   },
   "outputs": [],
   "source": [
    "from edsl import Model\n",
    "\n",
    "# Model.available()"
   ]
  },
  {
   "cell_type": "markdown",
   "id": "0cffdca2-24ae-436e-9d7b-775b72913128",
   "metadata": {
    "editable": true,
    "slideshow": {
     "slide_type": ""
    },
    "tags": []
   },
   "source": [
    "To check the current default model:"
   ]
  },
  {
   "cell_type": "code",
   "execution_count": 8,
   "id": "fe48f229-047f-4f71-8511-7021e9c799a6",
   "metadata": {
    "editable": true,
    "slideshow": {
     "slide_type": ""
    },
    "tags": []
   },
   "outputs": [],
   "source": [
    "# Model()"
   ]
  },
  {
   "cell_type": "markdown",
   "id": "73aa528d-6102-40e5-8e7d-bf9d2981e471",
   "metadata": {
    "editable": true,
    "slideshow": {
     "slide_type": ""
    },
    "tags": []
   },
   "source": [
    "Here we select a model:"
   ]
  },
  {
   "cell_type": "code",
   "execution_count": 9,
   "id": "6168aee3-3c21-4720-bd45-01e735acc591",
   "metadata": {
    "editable": true,
    "slideshow": {
     "slide_type": ""
    },
    "tags": []
   },
   "outputs": [],
   "source": [
    "model = Model(\"gpt-4o\")"
   ]
  },
  {
   "cell_type": "markdown",
   "id": "c9642f41-0406-4884-9775-621ade53ab64",
   "metadata": {
    "editable": true,
    "slideshow": {
     "slide_type": ""
    },
    "tags": []
   },
   "source": [
    "## Getting responses\n",
    "We generate responses by adding the scenarios, agent and model to the survey and then calling the `run()` method:"
   ]
  },
  {
   "cell_type": "code",
   "execution_count": 10,
   "id": "16d7e03b-ea6b-42ec-aceb-295901b3ae21",
   "metadata": {
    "editable": true,
    "slideshow": {
     "slide_type": ""
    },
    "tags": []
   },
   "outputs": [],
   "source": [
    "results = survey.by(scenarios).by(agent).by(model).run()"
   ]
  },
  {
   "cell_type": "markdown",
   "id": "cd7434e2-5dc7-45c9-b708-737ad2178234",
   "metadata": {
    "editable": true,
    "slideshow": {
     "slide_type": ""
    },
    "tags": []
   },
   "source": [
    "This generates a dataset of `Results` that we can begin analyzing. \n",
    "EDSL comes with [built-in methods for analyzing results](https://docs.expectedparrot.com/en/latest/results.html).\n",
    "For example, we can print the responses in a table:"
   ]
  },
  {
   "cell_type": "code",
   "execution_count": 11,
   "id": "d64e159e-2ab1-40fb-9573-00151330f3a0",
   "metadata": {
    "editable": true,
    "slideshow": {
     "slide_type": ""
    },
    "tags": []
   },
   "outputs": [
    {
     "data": {
      "text/html": [
       "<pre style=\"white-space:pre;overflow-x:auto;line-height:normal;font-family:Menlo,'DejaVu Sans Mono',consolas,'Courier New',monospace\">┏━━━━━━━━━━━━━━━┳━━━━━━━━━━━━━━━━━━━━━━━━━━━┳━━━━━━━━━━━━━━━━━━━━━━━━━━━━━━━━━━┳━━━━━━━━━━━━━━━━━━━━━━━━━━━━━━━━━━┓\n",
       "┃<span style=\"color: #800080; text-decoration-color: #800080; font-weight: bold\"> answer        </span>┃<span style=\"color: #800080; text-decoration-color: #800080; font-weight: bold\"> answer                    </span>┃<span style=\"color: #800080; text-decoration-color: #800080; font-weight: bold\"> answer                           </span>┃<span style=\"color: #800080; text-decoration-color: #800080; font-weight: bold\"> answer                           </span>┃\n",
       "┃<span style=\"color: #800080; text-decoration-color: #800080; font-weight: bold\"> .name         </span>┃<span style=\"color: #800080; text-decoration-color: #800080; font-weight: bold\"> .email                    </span>┃<span style=\"color: #800080; text-decoration-color: #800080; font-weight: bold\"> .questions                       </span>┃<span style=\"color: #800080; text-decoration-color: #800080; font-weight: bold\"> .requests                        </span>┃\n",
       "┡━━━━━━━━━━━━━━━╇━━━━━━━━━━━━━━━━━━━━━━━━━━━╇━━━━━━━━━━━━━━━━━━━━━━━━━━━━━━━━━━╇━━━━━━━━━━━━━━━━━━━━━━━━━━━━━━━━━━┩\n",
       "│<span style=\"color: #7f7f7f; text-decoration-color: #7f7f7f\"> Emily Davis   </span>│<span style=\"color: #7f7f7f; text-decoration-color: #7f7f7f\"> emily.davis@example.com   </span>│<span style=\"color: #7f7f7f; text-decoration-color: #7f7f7f\"> [\"I'm having trouble with the 3D </span>│<span style=\"color: #7f7f7f; text-decoration-color: #7f7f7f\"> ['Troubleshooting the 3D         </span>│\n",
       "│<span style=\"color: #7f7f7f; text-decoration-color: #7f7f7f\">               </span>│<span style=\"color: #7f7f7f; text-decoration-color: #7f7f7f\">                           </span>│<span style=\"color: #7f7f7f; text-decoration-color: #7f7f7f\"> rendering feature. It seems to   </span>│<span style=\"color: #7f7f7f; text-decoration-color: #7f7f7f\"> rendering feature', 'Updating    </span>│\n",
       "│<span style=\"color: #7f7f7f; text-decoration-color: #7f7f7f\">               </span>│<span style=\"color: #7f7f7f; text-decoration-color: #7f7f7f\">                           </span>│<span style=\"color: #7f7f7f; text-decoration-color: #7f7f7f\"> crash every time I try to add a  </span>│<span style=\"color: #7f7f7f; text-decoration-color: #7f7f7f\"> the software', 'Remote support   </span>│\n",
       "│<span style=\"color: #7f7f7f; text-decoration-color: #7f7f7f\">               </span>│<span style=\"color: #7f7f7f; text-decoration-color: #7f7f7f\">                           </span>│<span style=\"color: #7f7f7f; text-decoration-color: #7f7f7f\"> new room.\", \"Can you tell me     </span>│<span style=\"color: #7f7f7f; text-decoration-color: #7f7f7f\"> session instructions']           </span>│\n",
       "│<span style=\"color: #7f7f7f; text-decoration-color: #7f7f7f\">               </span>│<span style=\"color: #7f7f7f; text-decoration-color: #7f7f7f\">                           </span>│<span style=\"color: #7f7f7f; text-decoration-color: #7f7f7f\"> which version of the software    </span>│<span style=\"color: #7f7f7f; text-decoration-color: #7f7f7f\">                                  </span>│\n",
       "│<span style=\"color: #7f7f7f; text-decoration-color: #7f7f7f\">               </span>│<span style=\"color: #7f7f7f; text-decoration-color: #7f7f7f\">                           </span>│<span style=\"color: #7f7f7f; text-decoration-color: #7f7f7f\"> you're using?\", 'Could I have    </span>│<span style=\"color: #7f7f7f; text-decoration-color: #7f7f7f\">                                  </span>│\n",
       "│<span style=\"color: #7f7f7f; text-decoration-color: #7f7f7f\">               </span>│<span style=\"color: #7f7f7f; text-decoration-color: #7f7f7f\">                           </span>│<span style=\"color: #7f7f7f; text-decoration-color: #7f7f7f\"> your name and email address to   </span>│<span style=\"color: #7f7f7f; text-decoration-color: #7f7f7f\">                                  </span>│\n",
       "│<span style=\"color: #7f7f7f; text-decoration-color: #7f7f7f\">               </span>│<span style=\"color: #7f7f7f; text-decoration-color: #7f7f7f\">                           </span>│<span style=\"color: #7f7f7f; text-decoration-color: #7f7f7f\"> send you further instructions?'] </span>│<span style=\"color: #7f7f7f; text-decoration-color: #7f7f7f\">                                  </span>│\n",
       "├───────────────┼───────────────────────────┼──────────────────────────────────┼──────────────────────────────────┤\n",
       "│<span style=\"color: #7f7f7f; text-decoration-color: #7f7f7f\"> Sarah Johnson </span>│<span style=\"color: #7f7f7f; text-decoration-color: #7f7f7f\"> sarah.johnson@example.com </span>│<span style=\"color: #7f7f7f; text-decoration-color: #7f7f7f\"> ['Is there a video or a guide    </span>│<span style=\"color: #7f7f7f; text-decoration-color: #7f7f7f\"> ['a tutorial on how to use the   </span>│\n",
       "│<span style=\"color: #7f7f7f; text-decoration-color: #7f7f7f\">               </span>│<span style=\"color: #7f7f7f; text-decoration-color: #7f7f7f\">                           </span>│<span style=\"color: #7f7f7f; text-decoration-color: #7f7f7f\"> available?']                     </span>│<span style=\"color: #7f7f7f; text-decoration-color: #7f7f7f\"> budget tracking feature']        </span>│\n",
       "├───────────────┼───────────────────────────┼──────────────────────────────────┼──────────────────────────────────┤\n",
       "│<span style=\"color: #7f7f7f; text-decoration-color: #7f7f7f\"> Mike Thomas   </span>│<span style=\"color: #7f7f7f; text-decoration-color: #7f7f7f\"> mike.thomas@example.com   </span>│<span style=\"color: #7f7f7f; text-decoration-color: #7f7f7f\"> ['I need help with my account',  </span>│<span style=\"color: #7f7f7f; text-decoration-color: #7f7f7f\"> ['reset his password', 'get back </span>│\n",
       "│<span style=\"color: #7f7f7f; text-decoration-color: #7f7f7f\">               </span>│<span style=\"color: #7f7f7f; text-decoration-color: #7f7f7f\">                           </span>│<span style=\"color: #7f7f7f; text-decoration-color: #7f7f7f\"> \"I can't seem to reset my        </span>│<span style=\"color: #7f7f7f; text-decoration-color: #7f7f7f\"> into his account']               </span>│\n",
       "│<span style=\"color: #7f7f7f; text-decoration-color: #7f7f7f\">               </span>│<span style=\"color: #7f7f7f; text-decoration-color: #7f7f7f\">                           </span>│<span style=\"color: #7f7f7f; text-decoration-color: #7f7f7f\"> password\", \"I'm locked out\"]     </span>│<span style=\"color: #7f7f7f; text-decoration-color: #7f7f7f\">                                  </span>│\n",
       "├───────────────┼───────────────────────────┼──────────────────────────────────┼──────────────────────────────────┤\n",
       "│<span style=\"color: #7f7f7f; text-decoration-color: #7f7f7f\"> Laura Miller  </span>│<span style=\"color: #7f7f7f; text-decoration-color: #7f7f7f\"> laura.miller@example.com  </span>│<span style=\"color: #7f7f7f; text-decoration-color: #7f7f7f\"> ['What are the options available </span>│<span style=\"color: #7f7f7f; text-decoration-color: #7f7f7f\"> ['upgrading subscription plan',  </span>│\n",
       "│<span style=\"color: #7f7f7f; text-decoration-color: #7f7f7f\">               </span>│<span style=\"color: #7f7f7f; text-decoration-color: #7f7f7f\">                           </span>│<span style=\"color: #7f7f7f; text-decoration-color: #7f7f7f\"> for upgrading my subscription    </span>│<span style=\"color: #7f7f7f; text-decoration-color: #7f7f7f\"> 'comparison chart via email']    </span>│\n",
       "│<span style=\"color: #7f7f7f; text-decoration-color: #7f7f7f\">               </span>│<span style=\"color: #7f7f7f; text-decoration-color: #7f7f7f\">                           </span>│<span style=\"color: #7f7f7f; text-decoration-color: #7f7f7f\"> plan?']                          </span>│<span style=\"color: #7f7f7f; text-decoration-color: #7f7f7f\">                                  </span>│\n",
       "├───────────────┼───────────────────────────┼──────────────────────────────────┼──────────────────────────────────┤\n",
       "│<span style=\"color: #7f7f7f; text-decoration-color: #7f7f7f\"> Jason Lee     </span>│<span style=\"color: #7f7f7f; text-decoration-color: #7f7f7f\"> jason.lee@example.com     </span>│<span style=\"color: #7f7f7f; text-decoration-color: #7f7f7f\"> [\"Hi, I'm having an issue with   </span>│<span style=\"color: #7f7f7f; text-decoration-color: #7f7f7f\"> ['Exporting project to PDF       </span>│\n",
       "│<span style=\"color: #7f7f7f; text-decoration-color: #7f7f7f\">               </span>│<span style=\"color: #7f7f7f; text-decoration-color: #7f7f7f\">                           </span>│<span style=\"color: #7f7f7f; text-decoration-color: #7f7f7f\"> exporting my project to PDF. The </span>│<span style=\"color: #7f7f7f; text-decoration-color: #7f7f7f\"> issue', 'Software version and    </span>│\n",
       "│<span style=\"color: #7f7f7f; text-decoration-color: #7f7f7f\">               </span>│<span style=\"color: #7f7f7f; text-decoration-color: #7f7f7f\">                           </span>│<span style=\"color: #7f7f7f; text-decoration-color: #7f7f7f\"> file seems to be corrupted every </span>│<span style=\"color: #7f7f7f; text-decoration-color: #7f7f7f\"> operating system details', 'Name </span>│\n",
       "│<span style=\"color: #7f7f7f; text-decoration-color: #7f7f7f\">               </span>│<span style=\"color: #7f7f7f; text-decoration-color: #7f7f7f\">                           </span>│<span style=\"color: #7f7f7f; text-decoration-color: #7f7f7f\"> time I try.\"]                    </span>│<span style=\"color: #7f7f7f; text-decoration-color: #7f7f7f\"> and email address for            </span>│\n",
       "│<span style=\"color: #7f7f7f; text-decoration-color: #7f7f7f\">               </span>│<span style=\"color: #7f7f7f; text-decoration-color: #7f7f7f\">                           </span>│<span style=\"color: #7f7f7f; text-decoration-color: #7f7f7f\">                                  </span>│<span style=\"color: #7f7f7f; text-decoration-color: #7f7f7f\"> follow-up']                      </span>│\n",
       "├───────────────┼───────────────────────────┼──────────────────────────────────┼──────────────────────────────────┤\n",
       "│<span style=\"color: #7f7f7f; text-decoration-color: #7f7f7f\"> Olivia Brown  </span>│<span style=\"color: #7f7f7f; text-decoration-color: #7f7f7f\"> olivia.brown@example.com  </span>│<span style=\"color: #7f7f7f; text-decoration-color: #7f7f7f\"> ['Can multiple users work on the </span>│<span style=\"color: #7f7f7f; text-decoration-color: #7f7f7f\"> ['If multiple users can work on  </span>│\n",
       "│<span style=\"color: #7f7f7f; text-decoration-color: #7f7f7f\">               </span>│<span style=\"color: #7f7f7f; text-decoration-color: #7f7f7f\">                           </span>│<span style=\"color: #7f7f7f; text-decoration-color: #7f7f7f\"> same project simultaneously?',   </span>│<span style=\"color: #7f7f7f; text-decoration-color: #7f7f7f\"> the same project                 </span>│\n",
       "│<span style=\"color: #7f7f7f; text-decoration-color: #7f7f7f\">               </span>│<span style=\"color: #7f7f7f; text-decoration-color: #7f7f7f\">                           </span>│<span style=\"color: #7f7f7f; text-decoration-color: #7f7f7f\"> 'How do I invite team members to </span>│<span style=\"color: #7f7f7f; text-decoration-color: #7f7f7f\"> simultaneously', 'How to invite  </span>│\n",
       "│<span style=\"color: #7f7f7f; text-decoration-color: #7f7f7f\">               </span>│<span style=\"color: #7f7f7f; text-decoration-color: #7f7f7f\">                           </span>│<span style=\"color: #7f7f7f; text-decoration-color: #7f7f7f\"> my project?']                    </span>│<span style=\"color: #7f7f7f; text-decoration-color: #7f7f7f\"> team members to the project']    </span>│\n",
       "├───────────────┼───────────────────────────┼──────────────────────────────────┼──────────────────────────────────┤\n",
       "│<span style=\"color: #7f7f7f; text-decoration-color: #7f7f7f\"> Kevin Turner  </span>│<span style=\"color: #7f7f7f; text-decoration-color: #7f7f7f\"> kevin.turner@example.com  </span>│<span style=\"color: #7f7f7f; text-decoration-color: #7f7f7f\"> ['How can I generate a cost      </span>│<span style=\"color: #7f7f7f; text-decoration-color: #7f7f7f\"> ['generate a cost estimate for a </span>│\n",
       "│<span style=\"color: #7f7f7f; text-decoration-color: #7f7f7f\">               </span>│<span style=\"color: #7f7f7f; text-decoration-color: #7f7f7f\">                           </span>│<span style=\"color: #7f7f7f; text-decoration-color: #7f7f7f\"> estimate for my renovation       </span>│<span style=\"color: #7f7f7f; text-decoration-color: #7f7f7f\"> renovation project', 'resolve    </span>│\n",
       "│<span style=\"color: #7f7f7f; text-decoration-color: #7f7f7f\">               </span>│<span style=\"color: #7f7f7f; text-decoration-color: #7f7f7f\">                           </span>│<span style=\"color: #7f7f7f; text-decoration-color: #7f7f7f\"> project correctly?', \"What       </span>│<span style=\"color: #7f7f7f; text-decoration-color: #7f7f7f\"> discrepancies with the automated </span>│\n",
       "│<span style=\"color: #7f7f7f; text-decoration-color: #7f7f7f\">               </span>│<span style=\"color: #7f7f7f; text-decoration-color: #7f7f7f\">                           </span>│<span style=\"color: #7f7f7f; text-decoration-color: #7f7f7f\"> should I do if the numbers don't </span>│<span style=\"color: #7f7f7f; text-decoration-color: #7f7f7f\"> cost estimation tool']           </span>│\n",
       "│<span style=\"color: #7f7f7f; text-decoration-color: #7f7f7f\">               </span>│<span style=\"color: #7f7f7f; text-decoration-color: #7f7f7f\">                           </span>│<span style=\"color: #7f7f7f; text-decoration-color: #7f7f7f\"> add up?\", 'Should I use the      </span>│<span style=\"color: #7f7f7f; text-decoration-color: #7f7f7f\">                                  </span>│\n",
       "│<span style=\"color: #7f7f7f; text-decoration-color: #7f7f7f\">               </span>│<span style=\"color: #7f7f7f; text-decoration-color: #7f7f7f\">                           </span>│<span style=\"color: #7f7f7f; text-decoration-color: #7f7f7f\"> automated cost estimation tool   </span>│<span style=\"color: #7f7f7f; text-decoration-color: #7f7f7f\">                                  </span>│\n",
       "│<span style=\"color: #7f7f7f; text-decoration-color: #7f7f7f\">               </span>│<span style=\"color: #7f7f7f; text-decoration-color: #7f7f7f\">                           </span>│<span style=\"color: #7f7f7f; text-decoration-color: #7f7f7f\"> or enter costs manually?', 'How  </span>│<span style=\"color: #7f7f7f; text-decoration-color: #7f7f7f\">                                  </span>│\n",
       "│<span style=\"color: #7f7f7f; text-decoration-color: #7f7f7f\">               </span>│<span style=\"color: #7f7f7f; text-decoration-color: #7f7f7f\">                           </span>│<span style=\"color: #7f7f7f; text-decoration-color: #7f7f7f\"> do I ensure the cost estimation  </span>│<span style=\"color: #7f7f7f; text-decoration-color: #7f7f7f\">                                  </span>│\n",
       "│<span style=\"color: #7f7f7f; text-decoration-color: #7f7f7f\">               </span>│<span style=\"color: #7f7f7f; text-decoration-color: #7f7f7f\">                           </span>│<span style=\"color: #7f7f7f; text-decoration-color: #7f7f7f\"> tool is calibrated correctly?',  </span>│<span style=\"color: #7f7f7f; text-decoration-color: #7f7f7f\">                                  </span>│\n",
       "│<span style=\"color: #7f7f7f; text-decoration-color: #7f7f7f\">               </span>│<span style=\"color: #7f7f7f; text-decoration-color: #7f7f7f\">                           </span>│<span style=\"color: #7f7f7f; text-decoration-color: #7f7f7f\"> 'What details do I need to enter </span>│<span style=\"color: #7f7f7f; text-decoration-color: #7f7f7f\">                                  </span>│\n",
       "│<span style=\"color: #7f7f7f; text-decoration-color: #7f7f7f\">               </span>│<span style=\"color: #7f7f7f; text-decoration-color: #7f7f7f\">                           </span>│<span style=\"color: #7f7f7f; text-decoration-color: #7f7f7f\"> accurately?', 'Can the support   </span>│<span style=\"color: #7f7f7f; text-decoration-color: #7f7f7f\">                                  </span>│\n",
       "│<span style=\"color: #7f7f7f; text-decoration-color: #7f7f7f\">               </span>│<span style=\"color: #7f7f7f; text-decoration-color: #7f7f7f\">                           </span>│<span style=\"color: #7f7f7f; text-decoration-color: #7f7f7f\"> team help me adjust the          </span>│<span style=\"color: #7f7f7f; text-decoration-color: #7f7f7f\">                                  </span>│\n",
       "│<span style=\"color: #7f7f7f; text-decoration-color: #7f7f7f\">               </span>│<span style=\"color: #7f7f7f; text-decoration-color: #7f7f7f\">                           </span>│<span style=\"color: #7f7f7f; text-decoration-color: #7f7f7f\"> settings?']                      </span>│<span style=\"color: #7f7f7f; text-decoration-color: #7f7f7f\">                                  </span>│\n",
       "├───────────────┼───────────────────────────┼──────────────────────────────────┼──────────────────────────────────┤\n",
       "│<span style=\"color: #7f7f7f; text-decoration-color: #7f7f7f\"> Lisa Harris   </span>│<span style=\"color: #7f7f7f; text-decoration-color: #7f7f7f\"> lisa.harris@example.com   </span>│<span style=\"color: #7f7f7f; text-decoration-color: #7f7f7f\"> [\"Hi, I'm having trouble         </span>│<span style=\"color: #7f7f7f; text-decoration-color: #7f7f7f\"> ['accessing saved projects',     </span>│\n",
       "│<span style=\"color: #7f7f7f; text-decoration-color: #7f7f7f\">               </span>│<span style=\"color: #7f7f7f; text-decoration-color: #7f7f7f\">                           </span>│<span style=\"color: #7f7f7f; text-decoration-color: #7f7f7f\"> accessing my saved projects.     </span>│<span style=\"color: #7f7f7f; text-decoration-color: #7f7f7f\"> 'synchronization issue',         </span>│\n",
       "│<span style=\"color: #7f7f7f; text-decoration-color: #7f7f7f\">               </span>│<span style=\"color: #7f7f7f; text-decoration-color: #7f7f7f\">                           </span>│<span style=\"color: #7f7f7f; text-decoration-color: #7f7f7f\"> They don't appear in my account  </span>│<span style=\"color: #7f7f7f; text-decoration-color: #7f7f7f\"> 'username and email address',    </span>│\n",
       "│<span style=\"color: #7f7f7f; text-decoration-color: #7f7f7f\">               </span>│<span style=\"color: #7f7f7f; text-decoration-color: #7f7f7f\">                           </span>│<span style=\"color: #7f7f7f; text-decoration-color: #7f7f7f\"> anymore.\"]                       </span>│<span style=\"color: #7f7f7f; text-decoration-color: #7f7f7f\"> 're-synced account']             </span>│\n",
       "├───────────────┼───────────────────────────┼──────────────────────────────────┼──────────────────────────────────┤\n",
       "│<span style=\"color: #7f7f7f; text-decoration-color: #7f7f7f\"> Daniel Moore  </span>│<span style=\"color: #7f7f7f; text-decoration-color: #7f7f7f\"> daniel.moore@example.com  </span>│<span style=\"color: #7f7f7f; text-decoration-color: #7f7f7f\"> ['Does Renovation Software       </span>│<span style=\"color: #7f7f7f; text-decoration-color: #7f7f7f\"> ['a tool that helps with project </span>│\n",
       "│<span style=\"color: #7f7f7f; text-decoration-color: #7f7f7f\">               </span>│<span style=\"color: #7f7f7f; text-decoration-color: #7f7f7f\">                           </span>│<span style=\"color: #7f7f7f; text-decoration-color: #7f7f7f\"> Solutions take feature           </span>│<span style=\"color: #7f7f7f; text-decoration-color: #7f7f7f\"> scheduling and timelines',       </span>│\n",
       "│<span style=\"color: #7f7f7f; text-decoration-color: #7f7f7f\">               </span>│<span style=\"color: #7f7f7f; text-decoration-color: #7f7f7f\">                           </span>│<span style=\"color: #7f7f7f; text-decoration-color: #7f7f7f\"> suggestions?', 'Is there         </span>│<span style=\"color: #7f7f7f; text-decoration-color: #7f7f7f\"> 'Gantt charts', 'reminders for   </span>│\n",
       "│<span style=\"color: #7f7f7f; text-decoration-color: #7f7f7f\">               </span>│<span style=\"color: #7f7f7f; text-decoration-color: #7f7f7f\">                           </span>│<span style=\"color: #7f7f7f; text-decoration-color: #7f7f7f\"> anything specific you would like </span>│<span style=\"color: #7f7f7f; text-decoration-color: #7f7f7f\"> key milestones']                 </span>│\n",
       "│<span style=\"color: #7f7f7f; text-decoration-color: #7f7f7f\">               </span>│<span style=\"color: #7f7f7f; text-decoration-color: #7f7f7f\">                           </span>│<span style=\"color: #7f7f7f; text-decoration-color: #7f7f7f\"> to see in the scheduling tool?', </span>│<span style=\"color: #7f7f7f; text-decoration-color: #7f7f7f\">                                  </span>│\n",
       "│<span style=\"color: #7f7f7f; text-decoration-color: #7f7f7f\">               </span>│<span style=\"color: #7f7f7f; text-decoration-color: #7f7f7f\">                           </span>│<span style=\"color: #7f7f7f; text-decoration-color: #7f7f7f\"> 'Could I get your name and email </span>│<span style=\"color: #7f7f7f; text-decoration-color: #7f7f7f\">                                  </span>│\n",
       "│<span style=\"color: #7f7f7f; text-decoration-color: #7f7f7f\">               </span>│<span style=\"color: #7f7f7f; text-decoration-color: #7f7f7f\">                           </span>│<span style=\"color: #7f7f7f; text-decoration-color: #7f7f7f\"> address in case we need more     </span>│<span style=\"color: #7f7f7f; text-decoration-color: #7f7f7f\">                                  </span>│\n",
       "│<span style=\"color: #7f7f7f; text-decoration-color: #7f7f7f\">               </span>│<span style=\"color: #7f7f7f; text-decoration-color: #7f7f7f\">                           </span>│<span style=\"color: #7f7f7f; text-decoration-color: #7f7f7f\"> information?']                   </span>│<span style=\"color: #7f7f7f; text-decoration-color: #7f7f7f\">                                  </span>│\n",
       "├───────────────┼───────────────────────────┼──────────────────────────────────┼──────────────────────────────────┤\n",
       "│<span style=\"color: #7f7f7f; text-decoration-color: #7f7f7f\"> Amanda Clark  </span>│<span style=\"color: #7f7f7f; text-decoration-color: #7f7f7f\"> amanda.clark@example.com  </span>│<span style=\"color: #7f7f7f; text-decoration-color: #7f7f7f\"> ['questions about the trial      </span>│<span style=\"color: #7f7f7f; text-decoration-color: #7f7f7f\"> ['trial period details',         </span>│\n",
       "│<span style=\"color: #7f7f7f; text-decoration-color: #7f7f7f\">               </span>│<span style=\"color: #7f7f7f; text-decoration-color: #7f7f7f\">                           </span>│<span style=\"color: #7f7f7f; text-decoration-color: #7f7f7f\"> period']                         </span>│<span style=\"color: #7f7f7f; text-decoration-color: #7f7f7f\"> 'signing up for the trial']      </span>│\n",
       "└───────────────┴───────────────────────────┴──────────────────────────────────┴──────────────────────────────────┘\n",
       "</pre>\n"
      ],
      "text/plain": [
       "┏━━━━━━━━━━━━━━━┳━━━━━━━━━━━━━━━━━━━━━━━━━━━┳━━━━━━━━━━━━━━━━━━━━━━━━━━━━━━━━━━┳━━━━━━━━━━━━━━━━━━━━━━━━━━━━━━━━━━┓\n",
       "┃\u001b[1;35m \u001b[0m\u001b[1;35manswer       \u001b[0m\u001b[1;35m \u001b[0m┃\u001b[1;35m \u001b[0m\u001b[1;35manswer                   \u001b[0m\u001b[1;35m \u001b[0m┃\u001b[1;35m \u001b[0m\u001b[1;35manswer                          \u001b[0m\u001b[1;35m \u001b[0m┃\u001b[1;35m \u001b[0m\u001b[1;35manswer                          \u001b[0m\u001b[1;35m \u001b[0m┃\n",
       "┃\u001b[1;35m \u001b[0m\u001b[1;35m.name        \u001b[0m\u001b[1;35m \u001b[0m┃\u001b[1;35m \u001b[0m\u001b[1;35m.email                   \u001b[0m\u001b[1;35m \u001b[0m┃\u001b[1;35m \u001b[0m\u001b[1;35m.questions                      \u001b[0m\u001b[1;35m \u001b[0m┃\u001b[1;35m \u001b[0m\u001b[1;35m.requests                       \u001b[0m\u001b[1;35m \u001b[0m┃\n",
       "┡━━━━━━━━━━━━━━━╇━━━━━━━━━━━━━━━━━━━━━━━━━━━╇━━━━━━━━━━━━━━━━━━━━━━━━━━━━━━━━━━╇━━━━━━━━━━━━━━━━━━━━━━━━━━━━━━━━━━┩\n",
       "│\u001b[2m \u001b[0m\u001b[2mEmily Davis  \u001b[0m\u001b[2m \u001b[0m│\u001b[2m \u001b[0m\u001b[2memily.davis@example.com  \u001b[0m\u001b[2m \u001b[0m│\u001b[2m \u001b[0m\u001b[2m[\"I'm having trouble with the 3D\u001b[0m\u001b[2m \u001b[0m│\u001b[2m \u001b[0m\u001b[2m['Troubleshooting the 3D        \u001b[0m\u001b[2m \u001b[0m│\n",
       "│\u001b[2m               \u001b[0m│\u001b[2m                           \u001b[0m│\u001b[2m \u001b[0m\u001b[2mrendering feature. It seems to  \u001b[0m\u001b[2m \u001b[0m│\u001b[2m \u001b[0m\u001b[2mrendering feature', 'Updating   \u001b[0m\u001b[2m \u001b[0m│\n",
       "│\u001b[2m               \u001b[0m│\u001b[2m                           \u001b[0m│\u001b[2m \u001b[0m\u001b[2mcrash every time I try to add a \u001b[0m\u001b[2m \u001b[0m│\u001b[2m \u001b[0m\u001b[2mthe software', 'Remote support  \u001b[0m\u001b[2m \u001b[0m│\n",
       "│\u001b[2m               \u001b[0m│\u001b[2m                           \u001b[0m│\u001b[2m \u001b[0m\u001b[2mnew room.\", \"Can you tell me    \u001b[0m\u001b[2m \u001b[0m│\u001b[2m \u001b[0m\u001b[2msession instructions']          \u001b[0m\u001b[2m \u001b[0m│\n",
       "│\u001b[2m               \u001b[0m│\u001b[2m                           \u001b[0m│\u001b[2m \u001b[0m\u001b[2mwhich version of the software   \u001b[0m\u001b[2m \u001b[0m│\u001b[2m                                  \u001b[0m│\n",
       "│\u001b[2m               \u001b[0m│\u001b[2m                           \u001b[0m│\u001b[2m \u001b[0m\u001b[2myou're using?\", 'Could I have   \u001b[0m\u001b[2m \u001b[0m│\u001b[2m                                  \u001b[0m│\n",
       "│\u001b[2m               \u001b[0m│\u001b[2m                           \u001b[0m│\u001b[2m \u001b[0m\u001b[2myour name and email address to  \u001b[0m\u001b[2m \u001b[0m│\u001b[2m                                  \u001b[0m│\n",
       "│\u001b[2m               \u001b[0m│\u001b[2m                           \u001b[0m│\u001b[2m \u001b[0m\u001b[2msend you further instructions?']\u001b[0m\u001b[2m \u001b[0m│\u001b[2m                                  \u001b[0m│\n",
       "├───────────────┼───────────────────────────┼──────────────────────────────────┼──────────────────────────────────┤\n",
       "│\u001b[2m \u001b[0m\u001b[2mSarah Johnson\u001b[0m\u001b[2m \u001b[0m│\u001b[2m \u001b[0m\u001b[2msarah.johnson@example.com\u001b[0m\u001b[2m \u001b[0m│\u001b[2m \u001b[0m\u001b[2m['Is there a video or a guide   \u001b[0m\u001b[2m \u001b[0m│\u001b[2m \u001b[0m\u001b[2m['a tutorial on how to use the  \u001b[0m\u001b[2m \u001b[0m│\n",
       "│\u001b[2m               \u001b[0m│\u001b[2m                           \u001b[0m│\u001b[2m \u001b[0m\u001b[2mavailable?']                    \u001b[0m\u001b[2m \u001b[0m│\u001b[2m \u001b[0m\u001b[2mbudget tracking feature']       \u001b[0m\u001b[2m \u001b[0m│\n",
       "├───────────────┼───────────────────────────┼──────────────────────────────────┼──────────────────────────────────┤\n",
       "│\u001b[2m \u001b[0m\u001b[2mMike Thomas  \u001b[0m\u001b[2m \u001b[0m│\u001b[2m \u001b[0m\u001b[2mmike.thomas@example.com  \u001b[0m\u001b[2m \u001b[0m│\u001b[2m \u001b[0m\u001b[2m['I need help with my account', \u001b[0m\u001b[2m \u001b[0m│\u001b[2m \u001b[0m\u001b[2m['reset his password', 'get back\u001b[0m\u001b[2m \u001b[0m│\n",
       "│\u001b[2m               \u001b[0m│\u001b[2m                           \u001b[0m│\u001b[2m \u001b[0m\u001b[2m\"I can't seem to reset my       \u001b[0m\u001b[2m \u001b[0m│\u001b[2m \u001b[0m\u001b[2minto his account']              \u001b[0m\u001b[2m \u001b[0m│\n",
       "│\u001b[2m               \u001b[0m│\u001b[2m                           \u001b[0m│\u001b[2m \u001b[0m\u001b[2mpassword\", \"I'm locked out\"]    \u001b[0m\u001b[2m \u001b[0m│\u001b[2m                                  \u001b[0m│\n",
       "├───────────────┼───────────────────────────┼──────────────────────────────────┼──────────────────────────────────┤\n",
       "│\u001b[2m \u001b[0m\u001b[2mLaura Miller \u001b[0m\u001b[2m \u001b[0m│\u001b[2m \u001b[0m\u001b[2mlaura.miller@example.com \u001b[0m\u001b[2m \u001b[0m│\u001b[2m \u001b[0m\u001b[2m['What are the options available\u001b[0m\u001b[2m \u001b[0m│\u001b[2m \u001b[0m\u001b[2m['upgrading subscription plan', \u001b[0m\u001b[2m \u001b[0m│\n",
       "│\u001b[2m               \u001b[0m│\u001b[2m                           \u001b[0m│\u001b[2m \u001b[0m\u001b[2mfor upgrading my subscription   \u001b[0m\u001b[2m \u001b[0m│\u001b[2m \u001b[0m\u001b[2m'comparison chart via email']   \u001b[0m\u001b[2m \u001b[0m│\n",
       "│\u001b[2m               \u001b[0m│\u001b[2m                           \u001b[0m│\u001b[2m \u001b[0m\u001b[2mplan?']                         \u001b[0m\u001b[2m \u001b[0m│\u001b[2m                                  \u001b[0m│\n",
       "├───────────────┼───────────────────────────┼──────────────────────────────────┼──────────────────────────────────┤\n",
       "│\u001b[2m \u001b[0m\u001b[2mJason Lee    \u001b[0m\u001b[2m \u001b[0m│\u001b[2m \u001b[0m\u001b[2mjason.lee@example.com    \u001b[0m\u001b[2m \u001b[0m│\u001b[2m \u001b[0m\u001b[2m[\"Hi, I'm having an issue with  \u001b[0m\u001b[2m \u001b[0m│\u001b[2m \u001b[0m\u001b[2m['Exporting project to PDF      \u001b[0m\u001b[2m \u001b[0m│\n",
       "│\u001b[2m               \u001b[0m│\u001b[2m                           \u001b[0m│\u001b[2m \u001b[0m\u001b[2mexporting my project to PDF. The\u001b[0m\u001b[2m \u001b[0m│\u001b[2m \u001b[0m\u001b[2missue', 'Software version and   \u001b[0m\u001b[2m \u001b[0m│\n",
       "│\u001b[2m               \u001b[0m│\u001b[2m                           \u001b[0m│\u001b[2m \u001b[0m\u001b[2mfile seems to be corrupted every\u001b[0m\u001b[2m \u001b[0m│\u001b[2m \u001b[0m\u001b[2moperating system details', 'Name\u001b[0m\u001b[2m \u001b[0m│\n",
       "│\u001b[2m               \u001b[0m│\u001b[2m                           \u001b[0m│\u001b[2m \u001b[0m\u001b[2mtime I try.\"]                   \u001b[0m\u001b[2m \u001b[0m│\u001b[2m \u001b[0m\u001b[2mand email address for           \u001b[0m\u001b[2m \u001b[0m│\n",
       "│\u001b[2m               \u001b[0m│\u001b[2m                           \u001b[0m│\u001b[2m                                  \u001b[0m│\u001b[2m \u001b[0m\u001b[2mfollow-up']                     \u001b[0m\u001b[2m \u001b[0m│\n",
       "├───────────────┼───────────────────────────┼──────────────────────────────────┼──────────────────────────────────┤\n",
       "│\u001b[2m \u001b[0m\u001b[2mOlivia Brown \u001b[0m\u001b[2m \u001b[0m│\u001b[2m \u001b[0m\u001b[2molivia.brown@example.com \u001b[0m\u001b[2m \u001b[0m│\u001b[2m \u001b[0m\u001b[2m['Can multiple users work on the\u001b[0m\u001b[2m \u001b[0m│\u001b[2m \u001b[0m\u001b[2m['If multiple users can work on \u001b[0m\u001b[2m \u001b[0m│\n",
       "│\u001b[2m               \u001b[0m│\u001b[2m                           \u001b[0m│\u001b[2m \u001b[0m\u001b[2msame project simultaneously?',  \u001b[0m\u001b[2m \u001b[0m│\u001b[2m \u001b[0m\u001b[2mthe same project                \u001b[0m\u001b[2m \u001b[0m│\n",
       "│\u001b[2m               \u001b[0m│\u001b[2m                           \u001b[0m│\u001b[2m \u001b[0m\u001b[2m'How do I invite team members to\u001b[0m\u001b[2m \u001b[0m│\u001b[2m \u001b[0m\u001b[2msimultaneously', 'How to invite \u001b[0m\u001b[2m \u001b[0m│\n",
       "│\u001b[2m               \u001b[0m│\u001b[2m                           \u001b[0m│\u001b[2m \u001b[0m\u001b[2mmy project?']                   \u001b[0m\u001b[2m \u001b[0m│\u001b[2m \u001b[0m\u001b[2mteam members to the project']   \u001b[0m\u001b[2m \u001b[0m│\n",
       "├───────────────┼───────────────────────────┼──────────────────────────────────┼──────────────────────────────────┤\n",
       "│\u001b[2m \u001b[0m\u001b[2mKevin Turner \u001b[0m\u001b[2m \u001b[0m│\u001b[2m \u001b[0m\u001b[2mkevin.turner@example.com \u001b[0m\u001b[2m \u001b[0m│\u001b[2m \u001b[0m\u001b[2m['How can I generate a cost     \u001b[0m\u001b[2m \u001b[0m│\u001b[2m \u001b[0m\u001b[2m['generate a cost estimate for a\u001b[0m\u001b[2m \u001b[0m│\n",
       "│\u001b[2m               \u001b[0m│\u001b[2m                           \u001b[0m│\u001b[2m \u001b[0m\u001b[2mestimate for my renovation      \u001b[0m\u001b[2m \u001b[0m│\u001b[2m \u001b[0m\u001b[2mrenovation project', 'resolve   \u001b[0m\u001b[2m \u001b[0m│\n",
       "│\u001b[2m               \u001b[0m│\u001b[2m                           \u001b[0m│\u001b[2m \u001b[0m\u001b[2mproject correctly?', \"What      \u001b[0m\u001b[2m \u001b[0m│\u001b[2m \u001b[0m\u001b[2mdiscrepancies with the automated\u001b[0m\u001b[2m \u001b[0m│\n",
       "│\u001b[2m               \u001b[0m│\u001b[2m                           \u001b[0m│\u001b[2m \u001b[0m\u001b[2mshould I do if the numbers don't\u001b[0m\u001b[2m \u001b[0m│\u001b[2m \u001b[0m\u001b[2mcost estimation tool']          \u001b[0m\u001b[2m \u001b[0m│\n",
       "│\u001b[2m               \u001b[0m│\u001b[2m                           \u001b[0m│\u001b[2m \u001b[0m\u001b[2madd up?\", 'Should I use the     \u001b[0m\u001b[2m \u001b[0m│\u001b[2m                                  \u001b[0m│\n",
       "│\u001b[2m               \u001b[0m│\u001b[2m                           \u001b[0m│\u001b[2m \u001b[0m\u001b[2mautomated cost estimation tool  \u001b[0m\u001b[2m \u001b[0m│\u001b[2m                                  \u001b[0m│\n",
       "│\u001b[2m               \u001b[0m│\u001b[2m                           \u001b[0m│\u001b[2m \u001b[0m\u001b[2mor enter costs manually?', 'How \u001b[0m\u001b[2m \u001b[0m│\u001b[2m                                  \u001b[0m│\n",
       "│\u001b[2m               \u001b[0m│\u001b[2m                           \u001b[0m│\u001b[2m \u001b[0m\u001b[2mdo I ensure the cost estimation \u001b[0m\u001b[2m \u001b[0m│\u001b[2m                                  \u001b[0m│\n",
       "│\u001b[2m               \u001b[0m│\u001b[2m                           \u001b[0m│\u001b[2m \u001b[0m\u001b[2mtool is calibrated correctly?', \u001b[0m\u001b[2m \u001b[0m│\u001b[2m                                  \u001b[0m│\n",
       "│\u001b[2m               \u001b[0m│\u001b[2m                           \u001b[0m│\u001b[2m \u001b[0m\u001b[2m'What details do I need to enter\u001b[0m\u001b[2m \u001b[0m│\u001b[2m                                  \u001b[0m│\n",
       "│\u001b[2m               \u001b[0m│\u001b[2m                           \u001b[0m│\u001b[2m \u001b[0m\u001b[2maccurately?', 'Can the support  \u001b[0m\u001b[2m \u001b[0m│\u001b[2m                                  \u001b[0m│\n",
       "│\u001b[2m               \u001b[0m│\u001b[2m                           \u001b[0m│\u001b[2m \u001b[0m\u001b[2mteam help me adjust the         \u001b[0m\u001b[2m \u001b[0m│\u001b[2m                                  \u001b[0m│\n",
       "│\u001b[2m               \u001b[0m│\u001b[2m                           \u001b[0m│\u001b[2m \u001b[0m\u001b[2msettings?']                     \u001b[0m\u001b[2m \u001b[0m│\u001b[2m                                  \u001b[0m│\n",
       "├───────────────┼───────────────────────────┼──────────────────────────────────┼──────────────────────────────────┤\n",
       "│\u001b[2m \u001b[0m\u001b[2mLisa Harris  \u001b[0m\u001b[2m \u001b[0m│\u001b[2m \u001b[0m\u001b[2mlisa.harris@example.com  \u001b[0m\u001b[2m \u001b[0m│\u001b[2m \u001b[0m\u001b[2m[\"Hi, I'm having trouble        \u001b[0m\u001b[2m \u001b[0m│\u001b[2m \u001b[0m\u001b[2m['accessing saved projects',    \u001b[0m\u001b[2m \u001b[0m│\n",
       "│\u001b[2m               \u001b[0m│\u001b[2m                           \u001b[0m│\u001b[2m \u001b[0m\u001b[2maccessing my saved projects.    \u001b[0m\u001b[2m \u001b[0m│\u001b[2m \u001b[0m\u001b[2m'synchronization issue',        \u001b[0m\u001b[2m \u001b[0m│\n",
       "│\u001b[2m               \u001b[0m│\u001b[2m                           \u001b[0m│\u001b[2m \u001b[0m\u001b[2mThey don't appear in my account \u001b[0m\u001b[2m \u001b[0m│\u001b[2m \u001b[0m\u001b[2m'username and email address',   \u001b[0m\u001b[2m \u001b[0m│\n",
       "│\u001b[2m               \u001b[0m│\u001b[2m                           \u001b[0m│\u001b[2m \u001b[0m\u001b[2manymore.\"]                      \u001b[0m\u001b[2m \u001b[0m│\u001b[2m \u001b[0m\u001b[2m're-synced account']            \u001b[0m\u001b[2m \u001b[0m│\n",
       "├───────────────┼───────────────────────────┼──────────────────────────────────┼──────────────────────────────────┤\n",
       "│\u001b[2m \u001b[0m\u001b[2mDaniel Moore \u001b[0m\u001b[2m \u001b[0m│\u001b[2m \u001b[0m\u001b[2mdaniel.moore@example.com \u001b[0m\u001b[2m \u001b[0m│\u001b[2m \u001b[0m\u001b[2m['Does Renovation Software      \u001b[0m\u001b[2m \u001b[0m│\u001b[2m \u001b[0m\u001b[2m['a tool that helps with project\u001b[0m\u001b[2m \u001b[0m│\n",
       "│\u001b[2m               \u001b[0m│\u001b[2m                           \u001b[0m│\u001b[2m \u001b[0m\u001b[2mSolutions take feature          \u001b[0m\u001b[2m \u001b[0m│\u001b[2m \u001b[0m\u001b[2mscheduling and timelines',      \u001b[0m\u001b[2m \u001b[0m│\n",
       "│\u001b[2m               \u001b[0m│\u001b[2m                           \u001b[0m│\u001b[2m \u001b[0m\u001b[2msuggestions?', 'Is there        \u001b[0m\u001b[2m \u001b[0m│\u001b[2m \u001b[0m\u001b[2m'Gantt charts', 'reminders for  \u001b[0m\u001b[2m \u001b[0m│\n",
       "│\u001b[2m               \u001b[0m│\u001b[2m                           \u001b[0m│\u001b[2m \u001b[0m\u001b[2manything specific you would like\u001b[0m\u001b[2m \u001b[0m│\u001b[2m \u001b[0m\u001b[2mkey milestones']                \u001b[0m\u001b[2m \u001b[0m│\n",
       "│\u001b[2m               \u001b[0m│\u001b[2m                           \u001b[0m│\u001b[2m \u001b[0m\u001b[2mto see in the scheduling tool?',\u001b[0m\u001b[2m \u001b[0m│\u001b[2m                                  \u001b[0m│\n",
       "│\u001b[2m               \u001b[0m│\u001b[2m                           \u001b[0m│\u001b[2m \u001b[0m\u001b[2m'Could I get your name and email\u001b[0m\u001b[2m \u001b[0m│\u001b[2m                                  \u001b[0m│\n",
       "│\u001b[2m               \u001b[0m│\u001b[2m                           \u001b[0m│\u001b[2m \u001b[0m\u001b[2maddress in case we need more    \u001b[0m\u001b[2m \u001b[0m│\u001b[2m                                  \u001b[0m│\n",
       "│\u001b[2m               \u001b[0m│\u001b[2m                           \u001b[0m│\u001b[2m \u001b[0m\u001b[2minformation?']                  \u001b[0m\u001b[2m \u001b[0m│\u001b[2m                                  \u001b[0m│\n",
       "├───────────────┼───────────────────────────┼──────────────────────────────────┼──────────────────────────────────┤\n",
       "│\u001b[2m \u001b[0m\u001b[2mAmanda Clark \u001b[0m\u001b[2m \u001b[0m│\u001b[2m \u001b[0m\u001b[2mamanda.clark@example.com \u001b[0m\u001b[2m \u001b[0m│\u001b[2m \u001b[0m\u001b[2m['questions about the trial     \u001b[0m\u001b[2m \u001b[0m│\u001b[2m \u001b[0m\u001b[2m['trial period details',        \u001b[0m\u001b[2m \u001b[0m│\n",
       "│\u001b[2m               \u001b[0m│\u001b[2m                           \u001b[0m│\u001b[2m \u001b[0m\u001b[2mperiod']                        \u001b[0m\u001b[2m \u001b[0m│\u001b[2m \u001b[0m\u001b[2m'signing up for the trial']     \u001b[0m\u001b[2m \u001b[0m│\n",
       "└───────────────┴───────────────────────────┴──────────────────────────────────┴──────────────────────────────────┘\n"
      ]
     },
     "metadata": {},
     "output_type": "display_data"
    }
   ],
   "source": [
    "results.select(\"name\", \"email\", \"questions\", \"requests\").print(format=\"rich\")"
   ]
  },
  {
   "cell_type": "markdown",
   "id": "c0e8fddf-2389-4ae9-a5ec-0daa74efa2d7",
   "metadata": {
    "editable": true,
    "slideshow": {
     "slide_type": ""
    },
    "tags": []
   },
   "source": [
    "## Quantifying responses\n",
    "We can use the lists of caller questions and requests to quantify them (how often do they appear in the calls?). We start by prompting an agent to synthesize the lists into comprehensive lists that we can use as question options for new questions:"
   ]
  },
  {
   "cell_type": "code",
   "execution_count": 12,
   "id": "4a2f43db-7128-4918-97c1-d55c8b7e7f53",
   "metadata": {
    "editable": true,
    "slideshow": {
     "slide_type": ""
    },
    "tags": []
   },
   "outputs": [
    {
     "data": {
      "text/plain": [
       "22"
      ]
     },
     "execution_count": 12,
     "metadata": {},
     "output_type": "execute_result"
    }
   ],
   "source": [
    "caller_questions = results.select(\"questions\").to_list(flatten=True)\n",
    "len(caller_questions)"
   ]
  },
  {
   "cell_type": "code",
   "execution_count": 13,
   "id": "58057d4b-2c12-4de6-a56e-a9f308ed33f5",
   "metadata": {
    "editable": true,
    "slideshow": {
     "slide_type": ""
    },
    "tags": []
   },
   "outputs": [
    {
     "data": {
      "text/plain": [
       "24"
      ]
     },
     "execution_count": 13,
     "metadata": {},
     "output_type": "execute_result"
    }
   ],
   "source": [
    "caller_requests = results.select(\"requests\").to_list(flatten=True)\n",
    "len(caller_requests)"
   ]
  },
  {
   "cell_type": "code",
   "execution_count": 14,
   "id": "20179f02-a7b1-4388-8c2f-632dc523d63f",
   "metadata": {
    "editable": true,
    "slideshow": {
     "slide_type": ""
    },
    "tags": []
   },
   "outputs": [],
   "source": [
    "q_condense = QuestionList(\n",
    "    question_name=\"condense\",\n",
    "    question_text=\"\"\"\n",
    "    You have reviewed a set of call transcripts and compiled a detailed list of {{ topic }}. \n",
    "    Now you are being asked to condense this list into a more generalized but comprehensive \n",
    "    list that can be used to quanitfy the {{ topic }} efficiently (i.e., combine like items \n",
    "    on the list). Here is the list to be condensed: {{ list }}\n",
    "    \"\"\",\n",
    "    max_list_items=10,  # Optional\n",
    ")\n",
    "\n",
    "scenarios = ScenarioList([\n",
    "    Scenario({\"topic\": \"caller questions\", \"list\": caller_questions}),\n",
    "    Scenario({\"topic\": \"caller requests\", \"list\": caller_requests}),\n",
    "])\n",
    "\n",
    "condensed_lists = q_condense.by(scenarios).run()"
   ]
  },
  {
   "cell_type": "code",
   "execution_count": 15,
   "id": "e080107d-40a5-4439-90ce-a67c1aaa9c44",
   "metadata": {
    "editable": true,
    "slideshow": {
     "slide_type": ""
    },
    "tags": []
   },
   "outputs": [
    {
     "data": {
      "text/html": [
       "<pre style=\"white-space:pre;overflow-x:auto;line-height:normal;font-family:Menlo,'DejaVu Sans Mono',consolas,'Courier New',monospace\">┏━━━━━━━━━━━━━━━━━━┳━━━━━━━━━━━━━━━━━━━━━━━━━━━━━━━━━━━━━━━━━━━━━━━━━━━━━━━━━━━━━━━━━━━━━━━━━━━━━━━━━━━━━━━━━━━━━━┓\n",
       "┃<span style=\"color: #800080; text-decoration-color: #800080; font-weight: bold\"> scenario         </span>┃<span style=\"color: #800080; text-decoration-color: #800080; font-weight: bold\"> answer                                                                                       </span>┃\n",
       "┃<span style=\"color: #800080; text-decoration-color: #800080; font-weight: bold\"> .topic           </span>┃<span style=\"color: #800080; text-decoration-color: #800080; font-weight: bold\"> .condense                                                                                    </span>┃\n",
       "┡━━━━━━━━━━━━━━━━━━╇━━━━━━━━━━━━━━━━━━━━━━━━━━━━━━━━━━━━━━━━━━━━━━━━━━━━━━━━━━━━━━━━━━━━━━━━━━━━━━━━━━━━━━━━━━━━━━┩\n",
       "│<span style=\"color: #7f7f7f; text-decoration-color: #7f7f7f\"> caller questions </span>│<span style=\"color: #7f7f7f; text-decoration-color: #7f7f7f\"> ['Technical issues with software features', 'Account access and password issues',            </span>│\n",
       "│<span style=\"color: #7f7f7f; text-decoration-color: #7f7f7f\">                  </span>│<span style=\"color: #7f7f7f; text-decoration-color: #7f7f7f\"> 'Subscription and upgrade options', 'Project exporting and file issues', 'Team collaboration </span>│\n",
       "│<span style=\"color: #7f7f7f; text-decoration-color: #7f7f7f\">                  </span>│<span style=\"color: #7f7f7f; text-decoration-color: #7f7f7f\"> and project sharing', 'Cost estimation and calculation concerns', 'User guides and           </span>│\n",
       "│<span style=\"color: #7f7f7f; text-decoration-color: #7f7f7f\">                  </span>│<span style=\"color: #7f7f7f; text-decoration-color: #7f7f7f\"> instructional materials', 'Support for adjusting settings', 'Feature suggestions and         </span>│\n",
       "│<span style=\"color: #7f7f7f; text-decoration-color: #7f7f7f\">                  </span>│<span style=\"color: #7f7f7f; text-decoration-color: #7f7f7f\"> feedback', 'Trial period and general inquiries']                                             </span>│\n",
       "├──────────────────┼──────────────────────────────────────────────────────────────────────────────────────────────┤\n",
       "│<span style=\"color: #7f7f7f; text-decoration-color: #7f7f7f\"> caller requests  </span>│<span style=\"color: #7f7f7f; text-decoration-color: #7f7f7f\"> ['Technical support and troubleshooting', 'Account access and password issues', 'Software    </span>│\n",
       "│<span style=\"color: #7f7f7f; text-decoration-color: #7f7f7f\">                  </span>│<span style=\"color: #7f7f7f; text-decoration-color: #7f7f7f\"> updates and upgrades', 'Subscription and trial information', 'Feature usage tutorials and    </span>│\n",
       "│<span style=\"color: #7f7f7f; text-decoration-color: #7f7f7f\">                  </span>│<span style=\"color: #7f7f7f; text-decoration-color: #7f7f7f\"> instructions', 'Project management tools and features', 'Team collaboration and user         </span>│\n",
       "│<span style=\"color: #7f7f7f; text-decoration-color: #7f7f7f\">                  </span>│<span style=\"color: #7f7f7f; text-decoration-color: #7f7f7f\"> management', 'Exporting and synchronization issues', 'Cost estimation and budgeting tools',  </span>│\n",
       "│<span style=\"color: #7f7f7f; text-decoration-color: #7f7f7f\">                  </span>│<span style=\"color: #7f7f7f; text-decoration-color: #7f7f7f\"> 'Follow-up and contact information']                                                         </span>│\n",
       "└──────────────────┴──────────────────────────────────────────────────────────────────────────────────────────────┘\n",
       "</pre>\n"
      ],
      "text/plain": [
       "┏━━━━━━━━━━━━━━━━━━┳━━━━━━━━━━━━━━━━━━━━━━━━━━━━━━━━━━━━━━━━━━━━━━━━━━━━━━━━━━━━━━━━━━━━━━━━━━━━━━━━━━━━━━━━━━━━━━┓\n",
       "┃\u001b[1;35m \u001b[0m\u001b[1;35mscenario        \u001b[0m\u001b[1;35m \u001b[0m┃\u001b[1;35m \u001b[0m\u001b[1;35manswer                                                                                      \u001b[0m\u001b[1;35m \u001b[0m┃\n",
       "┃\u001b[1;35m \u001b[0m\u001b[1;35m.topic          \u001b[0m\u001b[1;35m \u001b[0m┃\u001b[1;35m \u001b[0m\u001b[1;35m.condense                                                                                   \u001b[0m\u001b[1;35m \u001b[0m┃\n",
       "┡━━━━━━━━━━━━━━━━━━╇━━━━━━━━━━━━━━━━━━━━━━━━━━━━━━━━━━━━━━━━━━━━━━━━━━━━━━━━━━━━━━━━━━━━━━━━━━━━━━━━━━━━━━━━━━━━━━┩\n",
       "│\u001b[2m \u001b[0m\u001b[2mcaller questions\u001b[0m\u001b[2m \u001b[0m│\u001b[2m \u001b[0m\u001b[2m['Technical issues with software features', 'Account access and password issues',           \u001b[0m\u001b[2m \u001b[0m│\n",
       "│\u001b[2m                  \u001b[0m│\u001b[2m \u001b[0m\u001b[2m'Subscription and upgrade options', 'Project exporting and file issues', 'Team collaboration\u001b[0m\u001b[2m \u001b[0m│\n",
       "│\u001b[2m                  \u001b[0m│\u001b[2m \u001b[0m\u001b[2mand project sharing', 'Cost estimation and calculation concerns', 'User guides and          \u001b[0m\u001b[2m \u001b[0m│\n",
       "│\u001b[2m                  \u001b[0m│\u001b[2m \u001b[0m\u001b[2minstructional materials', 'Support for adjusting settings', 'Feature suggestions and        \u001b[0m\u001b[2m \u001b[0m│\n",
       "│\u001b[2m                  \u001b[0m│\u001b[2m \u001b[0m\u001b[2mfeedback', 'Trial period and general inquiries']                                            \u001b[0m\u001b[2m \u001b[0m│\n",
       "├──────────────────┼──────────────────────────────────────────────────────────────────────────────────────────────┤\n",
       "│\u001b[2m \u001b[0m\u001b[2mcaller requests \u001b[0m\u001b[2m \u001b[0m│\u001b[2m \u001b[0m\u001b[2m['Technical support and troubleshooting', 'Account access and password issues', 'Software   \u001b[0m\u001b[2m \u001b[0m│\n",
       "│\u001b[2m                  \u001b[0m│\u001b[2m \u001b[0m\u001b[2mupdates and upgrades', 'Subscription and trial information', 'Feature usage tutorials and   \u001b[0m\u001b[2m \u001b[0m│\n",
       "│\u001b[2m                  \u001b[0m│\u001b[2m \u001b[0m\u001b[2minstructions', 'Project management tools and features', 'Team collaboration and user        \u001b[0m\u001b[2m \u001b[0m│\n",
       "│\u001b[2m                  \u001b[0m│\u001b[2m \u001b[0m\u001b[2mmanagement', 'Exporting and synchronization issues', 'Cost estimation and budgeting tools', \u001b[0m\u001b[2m \u001b[0m│\n",
       "│\u001b[2m                  \u001b[0m│\u001b[2m \u001b[0m\u001b[2m'Follow-up and contact information']                                                        \u001b[0m\u001b[2m \u001b[0m│\n",
       "└──────────────────┴──────────────────────────────────────────────────────────────────────────────────────────────┘\n"
      ]
     },
     "metadata": {},
     "output_type": "display_data"
    }
   ],
   "source": [
    "condensed_lists.select(\"topic\", \"condense\").print(format=\"rich\")"
   ]
  },
  {
   "cell_type": "markdown",
   "id": "2eea9f63-adf2-4ef9-bde2-ebf9d2c61433",
   "metadata": {
    "editable": true,
    "slideshow": {
     "slide_type": ""
    },
    "tags": []
   },
   "source": [
    "We can use the condensed lists as options for new questions quantifying the topics:"
   ]
  },
  {
   "cell_type": "code",
   "execution_count": 16,
   "id": "dbd4702c-e983-449d-a135-de9434798fda",
   "metadata": {
    "editable": true,
    "slideshow": {
     "slide_type": ""
    },
    "tags": []
   },
   "outputs": [
    {
     "data": {
      "text/plain": [
       "['Technical issues with software features',\n",
       " 'Account access and password issues',\n",
       " 'Subscription and upgrade options',\n",
       " 'Project exporting and file issues',\n",
       " 'Team collaboration and project sharing',\n",
       " 'Cost estimation and calculation concerns',\n",
       " 'User guides and instructional materials',\n",
       " 'Support for adjusting settings',\n",
       " 'Feature suggestions and feedback',\n",
       " 'Trial period and general inquiries']"
      ]
     },
     "execution_count": 16,
     "metadata": {},
     "output_type": "execute_result"
    }
   ],
   "source": [
    "condensed_questions = (\n",
    "    condensed_lists.filter(\"topic == 'caller questions'\").select(\"condense\").first()\n",
    ")\n",
    "condensed_questions"
   ]
  },
  {
   "cell_type": "code",
   "execution_count": 17,
   "id": "702fe3f9-bedc-4f46-a3bc-b83147e6bfc0",
   "metadata": {
    "editable": true,
    "slideshow": {
     "slide_type": ""
    },
    "tags": []
   },
   "outputs": [
    {
     "data": {
      "text/plain": [
       "['Technical support and troubleshooting',\n",
       " 'Account access and password issues',\n",
       " 'Software updates and upgrades',\n",
       " 'Subscription and trial information',\n",
       " 'Feature usage tutorials and instructions',\n",
       " 'Project management tools and features',\n",
       " 'Team collaboration and user management',\n",
       " 'Exporting and synchronization issues',\n",
       " 'Cost estimation and budgeting tools',\n",
       " 'Follow-up and contact information']"
      ]
     },
     "execution_count": 17,
     "metadata": {},
     "output_type": "execute_result"
    }
   ],
   "source": [
    "condensed_requests = (\n",
    "    condensed_lists.filter(\"topic == 'caller requests'\").select(\"condense\").first()\n",
    ")\n",
    "condensed_requests"
   ]
  },
  {
   "cell_type": "code",
   "execution_count": 18,
   "id": "83f61405-e3c5-430f-b170-72b63dbb3974",
   "metadata": {
    "editable": true,
    "slideshow": {
     "slide_type": ""
    },
    "tags": []
   },
   "outputs": [],
   "source": [
    "from edsl import QuestionCheckBox\n",
    "\n",
    "q_questions_agg = QuestionCheckBox(\n",
    "    question_name=\"questions_agg\",\n",
    "    question_text=\"\"\"\n",
    "    Review the following call transcript and then identify the topic(s)\n",
    "    that the caller has questions about. Transcript: {{ transcript }}\n",
    "    \"\"\",\n",
    "    question_options=condensed_questions + [\"Something else\", \"None of these\"],\n",
    ")\n",
    "\n",
    "q_requests_agg = QuestionCheckBox(\n",
    "    question_name=\"requests_agg\",\n",
    "    question_text=\"\"\"\n",
    "    Review the following call transcript and then identify the topic(s)\n",
    "    that the caller has requests about. Transcript: {{ transcript }}\n",
    "    \"\"\",\n",
    "    question_options=condensed_requests + [\"Something else\", \"None of these\"],\n",
    ")\n",
    "\n",
    "survey = Survey([q_questions_agg, q_requests_agg])"
   ]
  },
  {
   "cell_type": "markdown",
   "id": "5286f3b6-b71f-4173-a409-6faa4c03eceb",
   "metadata": {
    "editable": true,
    "slideshow": {
     "slide_type": ""
    },
    "tags": []
   },
   "source": [
    "We can use the results of the initial survey as scenarios of our follow-on questions. The `to_scenario_list()` method lets us do this in a single step:"
   ]
  },
  {
   "cell_type": "code",
   "execution_count": 19,
   "id": "940495f8-bacf-4bde-9c1a-4593a3781679",
   "metadata": {
    "editable": true,
    "slideshow": {
     "slide_type": ""
    },
    "tags": []
   },
   "outputs": [
    {
     "data": {
      "text/html": [
       "<div class=\"highlight\"><pre><span></span><span class=\"p\">{</span>\n",
       "<span class=\"w\">    </span><span class=\"nt\">&quot;name&quot;</span><span class=\"p\">:</span><span class=\"w\"> </span><span class=\"s2\">&quot;Emily Davis&quot;</span><span class=\"p\">,</span>\n",
       "<span class=\"w\">    </span><span class=\"nt\">&quot;email&quot;</span><span class=\"p\">:</span><span class=\"w\"> </span><span class=\"s2\">&quot;emily.davis@example.com&quot;</span><span class=\"p\">,</span>\n",
       "<span class=\"w\">    </span><span class=\"nt\">&quot;transcript&quot;</span><span class=\"p\">:</span><span class=\"w\"> </span><span class=\"s2\">&quot;\\&quot;Agent: Good morning, thank you for calling Renovation Software Solutions. How can I assist you today? Customer: Hi, I&#39;m having trouble with the 3D rendering feature. It seems to crash every time I try to add a new room. Agent: I&#39;m sorry to hear that. Let me check if there are any known issues with the 3D rendering feature. Can you tell me which version of the software you&#39;re using? Customer: I&#39;m using version 5.3.2 on a Windows 10 PC. Agent: Thank you. There was a recent update that might resolve this issue. Please make sure your software is updated to the latest version. If the problem persists, we can arrange a remote support session to troubleshoot further. Could I have your name and email address to send you further instructions? Customer: Sure, it&#39;s Emily Davis, emily.davis@example.com. Agent: Great, I&#39;ll send the instructions to your email. I&#39;ll update the software and try again. If it still crashes, I&#39;ll call back. Thanks for your help. Agent: You&#39;re welcome. Have a great day! [Caller sounded frustrated]\\&quot;,&quot;</span>\n",
       "<span class=\"p\">}</span>\n",
       "</pre></div>\n"
      ],
      "text/plain": [
       "Scenario({'name': 'Emily Davis', 'email': 'emily.davis@example.com', 'transcript': '\"Agent: Good morning, thank you for calling Renovation Software Solutions. How can I assist you today? Customer: Hi, I\\'m having trouble with the 3D rendering feature. It seems to crash every time I try to add a new room. Agent: I\\'m sorry to hear that. Let me check if there are any known issues with the 3D rendering feature. Can you tell me which version of the software you\\'re using? Customer: I\\'m using version 5.3.2 on a Windows 10 PC. Agent: Thank you. There was a recent update that might resolve this issue. Please make sure your software is updated to the latest version. If the problem persists, we can arrange a remote support session to troubleshoot further. Could I have your name and email address to send you further instructions? Customer: Sure, it\\'s Emily Davis, emily.davis@example.com. Agent: Great, I\\'ll send the instructions to your email. I\\'ll update the software and try again. If it still crashes, I\\'ll call back. Thanks for your help. Agent: You\\'re welcome. Have a great day! [Caller sounded frustrated]\",'})"
      ]
     },
     "execution_count": 19,
     "metadata": {},
     "output_type": "execute_result"
    }
   ],
   "source": [
    "scenarios = results.select(\"name\", \"email\", \"transcript\").to_scenario_list(\n",
    "    remove_prefix=True\n",
    ")\n",
    "scenarios[0]"
   ]
  },
  {
   "cell_type": "code",
   "execution_count": 20,
   "id": "3ba3b401-31b8-42f6-a2af-5e252105dde8",
   "metadata": {
    "editable": true,
    "slideshow": {
     "slide_type": ""
    },
    "tags": []
   },
   "outputs": [],
   "source": [
    "agg_results = survey.by(scenarios).by(agent).run()"
   ]
  },
  {
   "cell_type": "code",
   "execution_count": 21,
   "id": "e32389c3-7d31-4f95-b566-dd0a95bf617a",
   "metadata": {
    "editable": true,
    "slideshow": {
     "slide_type": ""
    },
    "tags": []
   },
   "outputs": [
    {
     "data": {
      "text/plain": [
       "['agent.agent_instruction',\n",
       " 'agent.agent_name',\n",
       " 'agent.persona',\n",
       " 'answer.questions_agg',\n",
       " 'answer.requests_agg',\n",
       " 'comment.questions_agg_comment',\n",
       " 'comment.requests_agg_comment',\n",
       " 'generated_tokens.questions_agg_generated_tokens',\n",
       " 'generated_tokens.requests_agg_generated_tokens',\n",
       " 'iteration.iteration',\n",
       " 'model.frequency_penalty',\n",
       " 'model.logprobs',\n",
       " 'model.max_tokens',\n",
       " 'model.model',\n",
       " 'model.presence_penalty',\n",
       " 'model.temperature',\n",
       " 'model.top_logprobs',\n",
       " 'model.top_p',\n",
       " 'prompt.questions_agg_system_prompt',\n",
       " 'prompt.questions_agg_user_prompt',\n",
       " 'prompt.requests_agg_system_prompt',\n",
       " 'prompt.requests_agg_user_prompt',\n",
       " 'question_options.questions_agg_question_options',\n",
       " 'question_options.requests_agg_question_options',\n",
       " 'question_text.questions_agg_question_text',\n",
       " 'question_text.requests_agg_question_text',\n",
       " 'question_type.questions_agg_question_type',\n",
       " 'question_type.requests_agg_question_type',\n",
       " 'raw_model_response.questions_agg_cost',\n",
       " 'raw_model_response.questions_agg_one_usd_buys',\n",
       " 'raw_model_response.questions_agg_raw_model_response',\n",
       " 'raw_model_response.requests_agg_cost',\n",
       " 'raw_model_response.requests_agg_one_usd_buys',\n",
       " 'raw_model_response.requests_agg_raw_model_response',\n",
       " 'scenario.email',\n",
       " 'scenario.name',\n",
       " 'scenario.transcript']"
      ]
     },
     "execution_count": 21,
     "metadata": {},
     "output_type": "execute_result"
    }
   ],
   "source": [
    "agg_results.columns"
   ]
  },
  {
   "cell_type": "code",
   "execution_count": 22,
   "id": "11b32d96-6911-4190-945f-cc254c395c23",
   "metadata": {
    "editable": true,
    "slideshow": {
     "slide_type": ""
    },
    "tags": []
   },
   "outputs": [
    {
     "data": {
      "text/html": [
       "<pre style=\"white-space:pre;overflow-x:auto;line-height:normal;font-family:Menlo,'DejaVu Sans Mono',consolas,'Courier New',monospace\">┏━━━━━━━━━━━━━━━━━━━━━━━━━━━━━━━━━━━━━━━━━━━━━━━━━━━━━━━━┳━━━━━━━━━━━━━━━━━━━━━━━━━━━━━━━━━━━━━━━━━━━━━━━━━━━━━━━━┓\n",
       "┃<span style=\"color: #800080; text-decoration-color: #800080; font-weight: bold\"> answer                                                 </span>┃<span style=\"color: #800080; text-decoration-color: #800080; font-weight: bold\"> answer                                                 </span>┃\n",
       "┃<span style=\"color: #800080; text-decoration-color: #800080; font-weight: bold\"> .questions_agg                                         </span>┃<span style=\"color: #800080; text-decoration-color: #800080; font-weight: bold\"> .requests_agg                                          </span>┃\n",
       "┡━━━━━━━━━━━━━━━━━━━━━━━━━━━━━━━━━━━━━━━━━━━━━━━━━━━━━━━━╇━━━━━━━━━━━━━━━━━━━━━━━━━━━━━━━━━━━━━━━━━━━━━━━━━━━━━━━━┩\n",
       "│<span style=\"color: #7f7f7f; text-decoration-color: #7f7f7f\"> ['Technical issues with software features']            </span>│<span style=\"color: #7f7f7f; text-decoration-color: #7f7f7f\"> ['Technical support and troubleshooting', 'Exporting   </span>│\n",
       "│<span style=\"color: #7f7f7f; text-decoration-color: #7f7f7f\">                                                        </span>│<span style=\"color: #7f7f7f; text-decoration-color: #7f7f7f\"> and synchronization issues']                           </span>│\n",
       "├────────────────────────────────────────────────────────┼────────────────────────────────────────────────────────┤\n",
       "│<span style=\"color: #7f7f7f; text-decoration-color: #7f7f7f\"> ['Technical issues with software features']            </span>│<span style=\"color: #7f7f7f; text-decoration-color: #7f7f7f\"> ['Technical support and troubleshooting', 'Software    </span>│\n",
       "│<span style=\"color: #7f7f7f; text-decoration-color: #7f7f7f\">                                                        </span>│<span style=\"color: #7f7f7f; text-decoration-color: #7f7f7f\"> updates and upgrades', 'Follow-up and contact          </span>│\n",
       "│<span style=\"color: #7f7f7f; text-decoration-color: #7f7f7f\">                                                        </span>│<span style=\"color: #7f7f7f; text-decoration-color: #7f7f7f\"> information']                                          </span>│\n",
       "├────────────────────────────────────────────────────────┼────────────────────────────────────────────────────────┤\n",
       "│<span style=\"color: #7f7f7f; text-decoration-color: #7f7f7f\"> ['User guides and instructional materials']            </span>│<span style=\"color: #7f7f7f; text-decoration-color: #7f7f7f\"> ['Feature usage tutorials and instructions',           </span>│\n",
       "│<span style=\"color: #7f7f7f; text-decoration-color: #7f7f7f\">                                                        </span>│<span style=\"color: #7f7f7f; text-decoration-color: #7f7f7f\"> 'Follow-up and contact information']                   </span>│\n",
       "├────────────────────────────────────────────────────────┼────────────────────────────────────────────────────────┤\n",
       "│<span style=\"color: #7f7f7f; text-decoration-color: #7f7f7f\"> ['Subscription and upgrade options']                   </span>│<span style=\"color: #7f7f7f; text-decoration-color: #7f7f7f\"> ['Subscription and trial information', 'Follow-up and  </span>│\n",
       "│<span style=\"color: #7f7f7f; text-decoration-color: #7f7f7f\">                                                        </span>│<span style=\"color: #7f7f7f; text-decoration-color: #7f7f7f\"> contact information']                                  </span>│\n",
       "├────────────────────────────────────────────────────────┼────────────────────────────────────────────────────────┤\n",
       "│<span style=\"color: #7f7f7f; text-decoration-color: #7f7f7f\"> ['Technical issues with software features', 'Cost      </span>│<span style=\"color: #7f7f7f; text-decoration-color: #7f7f7f\"> ['Technical support and troubleshooting', 'Cost        </span>│\n",
       "│<span style=\"color: #7f7f7f; text-decoration-color: #7f7f7f\"> estimation and calculation concerns', 'Support for     </span>│<span style=\"color: #7f7f7f; text-decoration-color: #7f7f7f\"> estimation and budgeting tools', 'Follow-up and        </span>│\n",
       "│<span style=\"color: #7f7f7f; text-decoration-color: #7f7f7f\"> adjusting settings']                                   </span>│<span style=\"color: #7f7f7f; text-decoration-color: #7f7f7f\"> contact information']                                  </span>│\n",
       "├────────────────────────────────────────────────────────┼────────────────────────────────────────────────────────┤\n",
       "│<span style=\"color: #7f7f7f; text-decoration-color: #7f7f7f\"> ['Account access and password issues']                 </span>│<span style=\"color: #7f7f7f; text-decoration-color: #7f7f7f\"> ['Account access and password issues']                 </span>│\n",
       "├────────────────────────────────────────────────────────┼────────────────────────────────────────────────────────┤\n",
       "│<span style=\"color: #7f7f7f; text-decoration-color: #7f7f7f\"> ['Feature suggestions and feedback']                   </span>│<span style=\"color: #7f7f7f; text-decoration-color: #7f7f7f\"> ['Project management tools and features', 'Follow-up   </span>│\n",
       "│<span style=\"color: #7f7f7f; text-decoration-color: #7f7f7f\">                                                        </span>│<span style=\"color: #7f7f7f; text-decoration-color: #7f7f7f\"> and contact information']                              </span>│\n",
       "├────────────────────────────────────────────────────────┼────────────────────────────────────────────────────────┤\n",
       "│<span style=\"color: #7f7f7f; text-decoration-color: #7f7f7f\"> ['Team collaboration and project sharing']             </span>│<span style=\"color: #7f7f7f; text-decoration-color: #7f7f7f\"> ['Feature usage tutorials and instructions', 'Team     </span>│\n",
       "│<span style=\"color: #7f7f7f; text-decoration-color: #7f7f7f\">                                                        </span>│<span style=\"color: #7f7f7f; text-decoration-color: #7f7f7f\"> collaboration and user management']                    </span>│\n",
       "├────────────────────────────────────────────────────────┼────────────────────────────────────────────────────────┤\n",
       "│<span style=\"color: #7f7f7f; text-decoration-color: #7f7f7f\"> ['Trial period and general inquiries']                 </span>│<span style=\"color: #7f7f7f; text-decoration-color: #7f7f7f\"> ['Subscription and trial information', 'Follow-up and  </span>│\n",
       "│<span style=\"color: #7f7f7f; text-decoration-color: #7f7f7f\">                                                        </span>│<span style=\"color: #7f7f7f; text-decoration-color: #7f7f7f\"> contact information']                                  </span>│\n",
       "├────────────────────────────────────────────────────────┼────────────────────────────────────────────────────────┤\n",
       "│<span style=\"color: #7f7f7f; text-decoration-color: #7f7f7f\"> ['Technical issues with software features', 'Project   </span>│<span style=\"color: #7f7f7f; text-decoration-color: #7f7f7f\"> ['Technical support and troubleshooting', 'Software    </span>│\n",
       "│<span style=\"color: #7f7f7f; text-decoration-color: #7f7f7f\"> exporting and file issues']                            </span>│<span style=\"color: #7f7f7f; text-decoration-color: #7f7f7f\"> updates and upgrades', 'Exporting and synchronization  </span>│\n",
       "│<span style=\"color: #7f7f7f; text-decoration-color: #7f7f7f\">                                                        </span>│<span style=\"color: #7f7f7f; text-decoration-color: #7f7f7f\"> issues', 'Follow-up and contact information']          </span>│\n",
       "└────────────────────────────────────────────────────────┴────────────────────────────────────────────────────────┘\n",
       "</pre>\n"
      ],
      "text/plain": [
       "┏━━━━━━━━━━━━━━━━━━━━━━━━━━━━━━━━━━━━━━━━━━━━━━━━━━━━━━━━┳━━━━━━━━━━━━━━━━━━━━━━━━━━━━━━━━━━━━━━━━━━━━━━━━━━━━━━━━┓\n",
       "┃\u001b[1;35m \u001b[0m\u001b[1;35manswer                                                \u001b[0m\u001b[1;35m \u001b[0m┃\u001b[1;35m \u001b[0m\u001b[1;35manswer                                                \u001b[0m\u001b[1;35m \u001b[0m┃\n",
       "┃\u001b[1;35m \u001b[0m\u001b[1;35m.questions_agg                                        \u001b[0m\u001b[1;35m \u001b[0m┃\u001b[1;35m \u001b[0m\u001b[1;35m.requests_agg                                         \u001b[0m\u001b[1;35m \u001b[0m┃\n",
       "┡━━━━━━━━━━━━━━━━━━━━━━━━━━━━━━━━━━━━━━━━━━━━━━━━━━━━━━━━╇━━━━━━━━━━━━━━━━━━━━━━━━━━━━━━━━━━━━━━━━━━━━━━━━━━━━━━━━┩\n",
       "│\u001b[2m \u001b[0m\u001b[2m['Technical issues with software features']           \u001b[0m\u001b[2m \u001b[0m│\u001b[2m \u001b[0m\u001b[2m['Technical support and troubleshooting', 'Exporting  \u001b[0m\u001b[2m \u001b[0m│\n",
       "│\u001b[2m                                                        \u001b[0m│\u001b[2m \u001b[0m\u001b[2mand synchronization issues']                          \u001b[0m\u001b[2m \u001b[0m│\n",
       "├────────────────────────────────────────────────────────┼────────────────────────────────────────────────────────┤\n",
       "│\u001b[2m \u001b[0m\u001b[2m['Technical issues with software features']           \u001b[0m\u001b[2m \u001b[0m│\u001b[2m \u001b[0m\u001b[2m['Technical support and troubleshooting', 'Software   \u001b[0m\u001b[2m \u001b[0m│\n",
       "│\u001b[2m                                                        \u001b[0m│\u001b[2m \u001b[0m\u001b[2mupdates and upgrades', 'Follow-up and contact         \u001b[0m\u001b[2m \u001b[0m│\n",
       "│\u001b[2m                                                        \u001b[0m│\u001b[2m \u001b[0m\u001b[2minformation']                                         \u001b[0m\u001b[2m \u001b[0m│\n",
       "├────────────────────────────────────────────────────────┼────────────────────────────────────────────────────────┤\n",
       "│\u001b[2m \u001b[0m\u001b[2m['User guides and instructional materials']           \u001b[0m\u001b[2m \u001b[0m│\u001b[2m \u001b[0m\u001b[2m['Feature usage tutorials and instructions',          \u001b[0m\u001b[2m \u001b[0m│\n",
       "│\u001b[2m                                                        \u001b[0m│\u001b[2m \u001b[0m\u001b[2m'Follow-up and contact information']                  \u001b[0m\u001b[2m \u001b[0m│\n",
       "├────────────────────────────────────────────────────────┼────────────────────────────────────────────────────────┤\n",
       "│\u001b[2m \u001b[0m\u001b[2m['Subscription and upgrade options']                  \u001b[0m\u001b[2m \u001b[0m│\u001b[2m \u001b[0m\u001b[2m['Subscription and trial information', 'Follow-up and \u001b[0m\u001b[2m \u001b[0m│\n",
       "│\u001b[2m                                                        \u001b[0m│\u001b[2m \u001b[0m\u001b[2mcontact information']                                 \u001b[0m\u001b[2m \u001b[0m│\n",
       "├────────────────────────────────────────────────────────┼────────────────────────────────────────────────────────┤\n",
       "│\u001b[2m \u001b[0m\u001b[2m['Technical issues with software features', 'Cost     \u001b[0m\u001b[2m \u001b[0m│\u001b[2m \u001b[0m\u001b[2m['Technical support and troubleshooting', 'Cost       \u001b[0m\u001b[2m \u001b[0m│\n",
       "│\u001b[2m \u001b[0m\u001b[2mestimation and calculation concerns', 'Support for    \u001b[0m\u001b[2m \u001b[0m│\u001b[2m \u001b[0m\u001b[2mestimation and budgeting tools', 'Follow-up and       \u001b[0m\u001b[2m \u001b[0m│\n",
       "│\u001b[2m \u001b[0m\u001b[2madjusting settings']                                  \u001b[0m\u001b[2m \u001b[0m│\u001b[2m \u001b[0m\u001b[2mcontact information']                                 \u001b[0m\u001b[2m \u001b[0m│\n",
       "├────────────────────────────────────────────────────────┼────────────────────────────────────────────────────────┤\n",
       "│\u001b[2m \u001b[0m\u001b[2m['Account access and password issues']                \u001b[0m\u001b[2m \u001b[0m│\u001b[2m \u001b[0m\u001b[2m['Account access and password issues']                \u001b[0m\u001b[2m \u001b[0m│\n",
       "├────────────────────────────────────────────────────────┼────────────────────────────────────────────────────────┤\n",
       "│\u001b[2m \u001b[0m\u001b[2m['Feature suggestions and feedback']                  \u001b[0m\u001b[2m \u001b[0m│\u001b[2m \u001b[0m\u001b[2m['Project management tools and features', 'Follow-up  \u001b[0m\u001b[2m \u001b[0m│\n",
       "│\u001b[2m                                                        \u001b[0m│\u001b[2m \u001b[0m\u001b[2mand contact information']                             \u001b[0m\u001b[2m \u001b[0m│\n",
       "├────────────────────────────────────────────────────────┼────────────────────────────────────────────────────────┤\n",
       "│\u001b[2m \u001b[0m\u001b[2m['Team collaboration and project sharing']            \u001b[0m\u001b[2m \u001b[0m│\u001b[2m \u001b[0m\u001b[2m['Feature usage tutorials and instructions', 'Team    \u001b[0m\u001b[2m \u001b[0m│\n",
       "│\u001b[2m                                                        \u001b[0m│\u001b[2m \u001b[0m\u001b[2mcollaboration and user management']                   \u001b[0m\u001b[2m \u001b[0m│\n",
       "├────────────────────────────────────────────────────────┼────────────────────────────────────────────────────────┤\n",
       "│\u001b[2m \u001b[0m\u001b[2m['Trial period and general inquiries']                \u001b[0m\u001b[2m \u001b[0m│\u001b[2m \u001b[0m\u001b[2m['Subscription and trial information', 'Follow-up and \u001b[0m\u001b[2m \u001b[0m│\n",
       "│\u001b[2m                                                        \u001b[0m│\u001b[2m \u001b[0m\u001b[2mcontact information']                                 \u001b[0m\u001b[2m \u001b[0m│\n",
       "├────────────────────────────────────────────────────────┼────────────────────────────────────────────────────────┤\n",
       "│\u001b[2m \u001b[0m\u001b[2m['Technical issues with software features', 'Project  \u001b[0m\u001b[2m \u001b[0m│\u001b[2m \u001b[0m\u001b[2m['Technical support and troubleshooting', 'Software   \u001b[0m\u001b[2m \u001b[0m│\n",
       "│\u001b[2m \u001b[0m\u001b[2mexporting and file issues']                           \u001b[0m\u001b[2m \u001b[0m│\u001b[2m \u001b[0m\u001b[2mupdates and upgrades', 'Exporting and synchronization \u001b[0m\u001b[2m \u001b[0m│\n",
       "│\u001b[2m                                                        \u001b[0m│\u001b[2m \u001b[0m\u001b[2missues', 'Follow-up and contact information']         \u001b[0m\u001b[2m \u001b[0m│\n",
       "└────────────────────────────────────────────────────────┴────────────────────────────────────────────────────────┘\n"
      ]
     },
     "metadata": {},
     "output_type": "display_data"
    }
   ],
   "source": [
    "agg_results.select(\"questions_agg\", \"requests_agg\").print(format=\"rich\")"
   ]
  },
  {
   "cell_type": "markdown",
   "id": "9afdbffd-4cd2-4417-9b3e-9c97e2c0a537",
   "metadata": {
    "editable": true,
    "slideshow": {
     "slide_type": ""
    },
    "tags": []
   },
   "source": [
    "## Visualizations\n",
    "We can turn the results into a dataframe and inspect the totals:"
   ]
  },
  {
   "cell_type": "code",
   "execution_count": 23,
   "id": "5426e180-d5d0-4d51-a8b8-e2691948147f",
   "metadata": {
    "editable": true,
    "slideshow": {
     "slide_type": ""
    },
    "tags": []
   },
   "outputs": [],
   "source": [
    "import matplotlib.pyplot as plt\n",
    "import ast"
   ]
  },
  {
   "cell_type": "code",
   "execution_count": 24,
   "id": "35162f8b-d28b-4974-a172-1fedf5416a2f",
   "metadata": {
    "editable": true,
    "slideshow": {
     "slide_type": ""
    },
    "tags": []
   },
   "outputs": [],
   "source": [
    "df = agg_results.to_pandas(remove_prefix=True)"
   ]
  },
  {
   "cell_type": "code",
   "execution_count": 25,
   "id": "647ec30b-f5ce-4ecd-96a7-bdcabd3163bc",
   "metadata": {
    "editable": true,
    "slideshow": {
     "slide_type": ""
    },
    "tags": []
   },
   "outputs": [],
   "source": [
    "# Convert the string representations of lists to actual lists\n",
    "df[\"questions_agg\"] = df[\"questions_agg\"].apply(ast.literal_eval)\n",
    "df[\"requests_agg\"] = df[\"requests_agg\"].apply(ast.literal_eval)\n",
    "\n",
    "# Explode the lists into individual rows\n",
    "questions_exploded = df.explode(\"questions_agg\")\n",
    "requests_exploded = df.explode(\"requests_agg\")\n",
    "\n",
    "# Count the frequency of each item\n",
    "questions_counts = questions_exploded[\"questions_agg\"].value_counts().reset_index()\n",
    "questions_counts.columns = [\"Question\", \"Count\"]\n",
    "\n",
    "requests_counts = requests_exploded[\"requests_agg\"].value_counts().reset_index()\n",
    "requests_counts.columns = [\"Request\", \"Count\"]"
   ]
  },
  {
   "cell_type": "code",
   "execution_count": 26,
   "id": "e9fd5f3c-bae6-4b9c-a8ec-fe77122b48d4",
   "metadata": {
    "editable": true,
    "slideshow": {
     "slide_type": ""
    },
    "tags": []
   },
   "outputs": [
    {
     "data": {
      "image/png": "[encoded data removed]",
      "text/plain": [
       "<Figure size 1400x700 with 2 Axes>"
      ]
     },
     "metadata": {},
     "output_type": "display_data"
    }
   ],
   "source": [
    "# Plotting\n",
    "fig, axes = plt.subplots(1, 2, figsize=(14, 7))\n",
    "\n",
    "# Bar plot for questions\n",
    "axes[0].barh(questions_counts[\"Question\"], questions_counts[\"Count\"], color=\"skyblue\")\n",
    "axes[0].set_title(\"Frequency of Questions\")\n",
    "axes[0].set_xlabel(\"Count\")\n",
    "axes[0].set_ylabel(\"Question\")\n",
    "\n",
    "# Bar plot for requests\n",
    "axes[1].barh(requests_counts[\"Request\"], requests_counts[\"Count\"], color=\"lightgreen\")\n",
    "axes[1].set_title(\"Frequency of Requests\")\n",
    "axes[1].set_xlabel(\"Count\")\n",
    "axes[1].set_ylabel(\"Request\")\n",
    "\n",
    "plt.tight_layout()\n",
    "plt.show()"
   ]
  },
  {
   "cell_type": "code",
   "execution_count": 27,
   "id": "ab83ed70-1e7b-491c-8351-3ff1e4a1e42c",
   "metadata": {
    "editable": true,
    "slideshow": {
     "slide_type": ""
    },
    "tags": []
   },
   "outputs": [
    {
     "name": "stdout",
     "output_type": "stream",
     "text": [
      "Questions Count Table:\n",
      "                                   Question  Count\n",
      "0   Technical issues with software features      4\n",
      "1   User guides and instructional materials      1\n",
      "2          Subscription and upgrade options      1\n",
      "3  Cost estimation and calculation concerns      1\n",
      "4            Support for adjusting settings      1\n",
      "5        Account access and password issues      1\n",
      "6          Feature suggestions and feedback      1\n",
      "7    Team collaboration and project sharing      1\n",
      "8        Trial period and general inquiries      1\n",
      "9         Project exporting and file issues      1\n",
      "\n",
      "Requests Count Table:\n",
      "                                    Request  Count\n",
      "0         Follow-up and contact information      7\n",
      "1     Technical support and troubleshooting      4\n",
      "2      Exporting and synchronization issues      2\n",
      "3             Software updates and upgrades      2\n",
      "4  Feature usage tutorials and instructions      2\n",
      "5        Subscription and trial information      2\n",
      "6       Cost estimation and budgeting tools      1\n",
      "7        Account access and password issues      1\n",
      "8     Project management tools and features      1\n",
      "9    Team collaboration and user management      1\n"
     ]
    }
   ],
   "source": [
    "# Display the counts\n",
    "print(\"Questions Count Table:\")\n",
    "print(questions_counts)\n",
    "\n",
    "print(\"\\nRequests Count Table:\")\n",
    "print(requests_counts)"
   ]
  },
  {
   "cell_type": "markdown",
   "id": "aba48919-1a60-4a60-b0cd-a959fd07b5e4",
   "metadata": {
    "editable": true,
    "slideshow": {
     "slide_type": ""
    },
    "tags": []
   },
   "source": [
    "## Exporting results\n",
    "We can export the results as a CSV:"
   ]
  },
  {
   "cell_type": "code",
   "execution_count": 28,
   "id": "ca2530c9-6f83-457b-8db0-ab5227a9730d",
   "metadata": {
    "editable": true,
    "slideshow": {
     "slide_type": ""
    },
    "tags": []
   },
   "outputs": [],
   "source": [
    "agg_results.to_csv(\"customer_calls_analysis.csv\")"
   ]
  },
  {
   "cell_type": "markdown",
   "id": "fbaa8a4d-b2e3-4241-bab7-c62123ed2252",
   "metadata": {
    "editable": true,
    "slideshow": {
     "slide_type": ""
    },
    "tags": []
   },
   "source": [
    "Please see our [documentation page](https://docs.expectedparrot.com/) for examples of other methods and use cases!"
   ]
  },
  {
   "cell_type": "markdown",
   "id": "67ec93b9-8828-4a58-bfa6-a8050b884326",
   "metadata": {
    "editable": true,
    "slideshow": {
     "slide_type": ""
    },
    "tags": []
   },
   "source": [
    "## Posting content to the Coop"
   ]
  },
  {
   "cell_type": "code",
   "execution_count": 29,
   "id": "0fb1be94-0f4b-41ee-aa1d-3c9aa0a01590",
   "metadata": {
    "editable": true,
    "slideshow": {
     "slide_type": ""
    },
    "tags": [
     "skip-execution"
    ]
   },
   "outputs": [],
   "source": [
    "from edsl import Notebook"
   ]
  },
  {
   "cell_type": "code",
   "execution_count": 30,
   "id": "67aff71f-4edd-4a44-a4aa-92b4a3fca7b1",
   "metadata": {
    "editable": true,
    "slideshow": {
     "slide_type": ""
    },
    "tags": [
     "skip-execution"
    ]
   },
   "outputs": [],
   "source": [
    "n = Notebook(path = \"summarizing_transcripts.ipynb\")"
   ]
  },
  {
   "cell_type": "code",
   "execution_count": 31,
   "id": "4576d646-6ffc-49f5-9678-4df0a3007acc",
   "metadata": {
    "editable": true,
    "slideshow": {
     "slide_type": ""
    },
    "tags": [
     "skip-execution"
    ]
   },
   "outputs": [
    {
     "data": {
      "text/plain": [
       "{'description': 'Example code for summarizing transcripts',\n",
       " 'object_type': 'notebook',\n",
       " 'url': 'https://www.expectedparrot.com/content/0e6c9fa1-402e-41e7-8730-e35d45284383',\n",
       " 'uuid': '0e6c9fa1-402e-41e7-8730-e35d45284383',\n",
       " 'version': '0.1.33.dev1',\n",
       " 'visibility': 'public'}"
      ]
     },
     "execution_count": 31,
     "metadata": {},
     "output_type": "execute_result"
    }
   ],
   "source": [
    "n.push(description = \"Example code for summarizing transcripts\", visibility = \"public\")"
   ]
  },
  {
   "cell_type": "markdown",
   "id": "52613418-c687-4108-bec6-07fede380e92",
   "metadata": {
    "editable": true,
    "slideshow": {
     "slide_type": ""
    },
    "tags": []
   },
   "source": [
    "Updating content at the Coop:"
   ]
  },
  {
   "cell_type": "code",
   "execution_count": 32,
   "id": "2b84bbe9-7b7f-44b2-82bc-fcfee18d4c7f",
   "metadata": {
    "editable": true,
    "slideshow": {
     "slide_type": ""
    },
    "tags": [
     "skip-execution"
    ]
   },
   "outputs": [],
   "source": [
    "n = Notebook(path = \"summarizing_transcripts.ipynb\") # resave"
   ]
  },
  {
   "cell_type": "code",
   "execution_count": 33,
   "id": "9bc2562a-b1be-445c-90ab-d1af67c7723e",
   "metadata": {
    "editable": true,
    "slideshow": {
     "slide_type": ""
    },
    "tags": [
     "skip-execution"
    ]
   },
   "outputs": [
    {
     "data": {
      "text/plain": [
       "{'status': 'success'}"
      ]
     },
     "execution_count": 33,
     "metadata": {},
     "output_type": "execute_result"
    }
   ],
   "source": [
    "n.patch(uuid = \"0e6c9fa1-402e-41e7-8730-e35d45284383\", value = n)"
   ]
  }
 ],
 "metadata": {
  "kernelspec": {
   "display_name": "Python 3 (ipykernel)",
   "language": "python",
   "name": "python3"
  },
  "language_info": {
   "codemirror_mode": {
    "name": "ipython",
    "version": 3
   },
   "file_extension": ".py",
   "mimetype": "text/x-python",
   "name": "python",
   "nbconvert_exporter": "python",
   "pygments_lexer": "ipython3",
   "version": "3.11.7"
  }
 },
 "nbformat": 4,
 "nbformat_minor": 5
}
