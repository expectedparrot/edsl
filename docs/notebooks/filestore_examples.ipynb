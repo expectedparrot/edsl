{
 "cells": [
  {
   "cell_type": "markdown",
   "id": "19b1b109-8704-406a-a79a-b2c7a899a580",
   "metadata": {},
   "source": [
    "# FileStore examples\n",
    "This notebook contains examples of methods for posting CSV, PDF and PNG files at the Coop to use with surveys. \n",
    "\n",
    "Please see more information in the [FileStore documentation page](https://docs.expectedparrot.com/filestore.html)."
   ]
  },
  {
   "cell_type": "markdown",
   "id": "4ed1f6b9-329c-4719-bd1b-a949704f529f",
   "metadata": {},
   "source": [
    "## CSV example"
   ]
  },
  {
   "cell_type": "code",
   "execution_count": 1,
   "id": "36b46c11-014d-4799-81f7-5148b652f119",
   "metadata": {
    "editable": true,
    "slideshow": {
     "slide_type": ""
    },
    "tags": []
   },
   "outputs": [],
   "source": [
    "from edsl.scenarios.FileStore import CSVFileStore"
   ]
  },
  {
   "cell_type": "markdown",
   "id": "b06d37ad-2a7a-4dac-8a5a-6e0e8fe7a7ec",
   "metadata": {
    "editable": true,
    "slideshow": {
     "slide_type": ""
    },
    "tags": []
   },
   "source": [
    "#### Posting"
   ]
  },
  {
   "cell_type": "code",
   "execution_count": 2,
   "id": "1d8ce313-0d36-404b-8fee-46ee4e373328",
   "metadata": {
    "editable": true,
    "slideshow": {
     "slide_type": ""
    },
    "tags": []
   },
   "outputs": [
    {
     "name": "stdout",
     "output_type": "stream",
     "text": [
      "{'description': 'File: example.csv', 'object_type': 'scenario', 'url': 'https://www.expectedparrot.com/content/4531d6ac-5425-4c93-aa02-07c1fa64aaa3', 'uuid': '4531d6ac-5425-4c93-aa02-07c1fa64aaa3', 'version': '0.1.33.dev1', 'visibility': 'unlisted'}\n"
     ]
    }
   ],
   "source": [
    "# fs = CSVFileStore(\"example.csv\")\n",
    "# info = fs.push()\n",
    "\n",
    "# print(info)"
   ]
  },
  {
   "cell_type": "markdown",
   "id": "70918576-9f1a-439d-9f0a-0c46a8ab3ec3",
   "metadata": {
    "editable": true,
    "slideshow": {
     "slide_type": ""
    },
    "tags": []
   },
   "source": [
    "#### Retrieving"
   ]
  },
  {
   "cell_type": "code",
   "execution_count": 3,
   "id": "7a152897-85ab-4d96-b1c8-64011cfd876b",
   "metadata": {
    "editable": true,
    "slideshow": {
     "slide_type": ""
    },
    "tags": []
   },
   "outputs": [],
   "source": [
    "csv_file = CSVFileStore.pull(\"4531d6ac-5425-4c93-aa02-07c1fa64aaa3\", expected_parrot_url=\"https://www.expectedparrot.com\")"
   ]
  },
  {
   "cell_type": "markdown",
   "id": "7edb283e-6d36-4b7e-a856-5e0ebab99152",
   "metadata": {},
   "source": [
    "#### Creating scenarios"
   ]
  },
  {
   "cell_type": "code",
   "execution_count": 4,
   "id": "b86e2701-2da3-42e8-ab1d-97e0025a7bb9",
   "metadata": {},
   "outputs": [],
   "source": [
    "from edsl import ScenarioList"
   ]
  },
  {
   "cell_type": "code",
   "execution_count": 5,
   "id": "53d11b2a-908a-4c5d-bdc0-b533840f8961",
   "metadata": {
    "editable": true,
    "slideshow": {
     "slide_type": ""
    },
    "tags": []
   },
   "outputs": [],
   "source": [
    "scenarios = ScenarioList.from_csv(csv_file.to_tempfile())"
   ]
  },
  {
   "cell_type": "markdown",
   "id": "d644f354-989c-4b53-a477-054238ba8f34",
   "metadata": {},
   "source": [
    "#### Inspecting scenarios"
   ]
  },
  {
   "cell_type": "code",
   "execution_count": 6,
   "id": "87492ebf-052b-45c8-9a52-9a83894adaa7",
   "metadata": {},
   "outputs": [
    {
     "data": {
      "text/html": [
       "<div class=\"highlight\"><pre><span></span><span class=\"p\">{</span>\n",
       "<span class=\"w\">    </span><span class=\"nt\">&quot;scenarios&quot;</span><span class=\"p\">:</span><span class=\"w\"> </span><span class=\"p\">[</span>\n",
       "<span class=\"w\">        </span><span class=\"p\">{</span>\n",
       "<span class=\"w\">            </span><span class=\"nt\">&quot;id&quot;</span><span class=\"p\">:</span><span class=\"w\"> </span><span class=\"s2\">&quot;1&quot;</span><span class=\"p\">,</span>\n",
       "<span class=\"w\">            </span><span class=\"nt\">&quot;date&quot;</span><span class=\"p\">:</span><span class=\"w\"> </span><span class=\"s2\">&quot;2024-09-21&quot;</span><span class=\"p\">,</span>\n",
       "<span class=\"w\">            </span><span class=\"nt\">&quot;message&quot;</span><span class=\"p\">:</span><span class=\"w\"> </span><span class=\"s2\">&quot;&#39;How are you?&#39;&quot;</span>\n",
       "<span class=\"w\">        </span><span class=\"p\">},</span>\n",
       "<span class=\"w\">        </span><span class=\"p\">{</span>\n",
       "<span class=\"w\">            </span><span class=\"nt\">&quot;id&quot;</span><span class=\"p\">:</span><span class=\"w\"> </span><span class=\"s2\">&quot;2&quot;</span><span class=\"p\">,</span>\n",
       "<span class=\"w\">            </span><span class=\"nt\">&quot;date&quot;</span><span class=\"p\">:</span><span class=\"w\"> </span><span class=\"s2\">&quot;2001-06-09&quot;</span><span class=\"p\">,</span>\n",
       "<span class=\"w\">            </span><span class=\"nt\">&quot;message&quot;</span><span class=\"p\">:</span><span class=\"w\"> </span><span class=\"s2\">&quot;&#39;A day to remember!&#39;&quot;</span>\n",
       "<span class=\"w\">        </span><span class=\"p\">},</span>\n",
       "<span class=\"w\">        </span><span class=\"p\">{</span>\n",
       "<span class=\"w\">            </span><span class=\"nt\">&quot;id&quot;</span><span class=\"p\">:</span><span class=\"w\"> </span><span class=\"s2\">&quot;3&quot;</span><span class=\"p\">,</span>\n",
       "<span class=\"w\">            </span><span class=\"nt\">&quot;date&quot;</span><span class=\"p\">:</span><span class=\"w\"> </span><span class=\"s2\">&quot;1979-03-26&quot;</span><span class=\"p\">,</span>\n",
       "<span class=\"w\">            </span><span class=\"nt\">&quot;message&quot;</span><span class=\"p\">:</span><span class=\"w\"> </span><span class=\"s2\">&quot;&#39;Happy birthday&#39;&quot;</span>\n",
       "<span class=\"w\">        </span><span class=\"p\">}</span>\n",
       "<span class=\"w\">    </span><span class=\"p\">]</span>\n",
       "<span class=\"p\">}</span>\n",
       "</pre></div>\n"
      ],
      "text/plain": [
       "ScenarioList([Scenario({'id': '1', 'date': '2024-09-21', 'message': \"'How are you?'\"}), Scenario({'id': '2', 'date': '2001-06-09', 'message': \"'A day to remember!'\"}), Scenario({'id': '3', 'date': '1979-03-26', 'message': \"'Happy birthday'\"})])"
      ]
     },
     "execution_count": 6,
     "metadata": {},
     "output_type": "execute_result"
    }
   ],
   "source": [
    "scenarios"
   ]
  },
  {
   "cell_type": "markdown",
   "id": "66517a28-57e5-490d-9b5c-19b7ff062db5",
   "metadata": {},
   "source": [
    "## PDF example"
   ]
  },
  {
   "cell_type": "code",
   "execution_count": 7,
   "id": "08f4fc2d-a817-419d-875d-501835fd7826",
   "metadata": {},
   "outputs": [],
   "source": [
    "from edsl.scenarios.FileStore import PDFFileStore"
   ]
  },
  {
   "cell_type": "markdown",
   "id": "9401dc7f-7a9f-45c9-9c7b-7ca1f86ca362",
   "metadata": {},
   "source": [
    "#### Posting"
   ]
  },
  {
   "cell_type": "code",
   "execution_count": 8,
   "id": "9c646b52-0cbb-447d-9d97-c5df5ce07a88",
   "metadata": {
    "editable": true,
    "slideshow": {
     "slide_type": ""
    },
    "tags": []
   },
   "outputs": [
    {
     "name": "stdout",
     "output_type": "stream",
     "text": [
      "{'description': 'File: top_secret.pdf', 'object_type': 'scenario', 'url': 'https://www.expectedparrot.com/content/a6231668-3166-4741-93d8-f3248b91660f', 'uuid': 'a6231668-3166-4741-93d8-f3248b91660f', 'version': '0.1.33.dev1', 'visibility': 'unlisted'}\n"
     ]
    }
   ],
   "source": [
    "# fs = PDFFileStore(\"top_secret.pdf\")\n",
    "# info = fs.push()\n",
    "\n",
    "# print(info)"
   ]
  },
  {
   "cell_type": "markdown",
   "id": "251a920d-587f-47d6-be3d-df6c88e2b9d4",
   "metadata": {},
   "source": [
    "#### Retrieving"
   ]
  },
  {
   "cell_type": "code",
   "execution_count": 9,
   "id": "c2a6c85c-ea0a-44cc-8bf3-7ce3ce1e6753",
   "metadata": {
    "editable": true,
    "slideshow": {
     "slide_type": ""
    },
    "tags": []
   },
   "outputs": [],
   "source": [
    "pdf_file = PDFFileStore.pull(\"a6231668-3166-4741-93d8-f3248b91660f\", expected_parrot_url=\"https://www.expectedparrot.com\")"
   ]
  },
  {
   "cell_type": "markdown",
   "id": "bcfca6cc-9319-4e9e-9091-082ba278e69d",
   "metadata": {},
   "source": [
    "#### Creating scenarios"
   ]
  },
  {
   "cell_type": "code",
   "execution_count": 10,
   "id": "e9b681da-db15-4ef4-a7ab-8763f64a45cb",
   "metadata": {},
   "outputs": [],
   "source": [
    "from edsl import ScenarioList"
   ]
  },
  {
   "cell_type": "code",
   "execution_count": 11,
   "id": "214fd6f4-9996-4a06-939e-ed2c6b7a6ea3",
   "metadata": {},
   "outputs": [],
   "source": [
    "scenarios = ScenarioList.from_pdf(pdf_file.to_tempfile())"
   ]
  },
  {
   "cell_type": "markdown",
   "id": "74af3df7-7b33-4ba5-a0e8-c2c683559046",
   "metadata": {},
   "source": [
    "#### Checking scenario keys"
   ]
  },
  {
   "cell_type": "code",
   "execution_count": 12,
   "id": "b2ff8a00-b6f3-46d9-944d-e567f37343a3",
   "metadata": {},
   "outputs": [
    {
     "data": {
      "text/plain": [
       "{'filename', 'page', 'text'}"
      ]
     },
     "execution_count": 12,
     "metadata": {},
     "output_type": "execute_result"
    }
   ],
   "source": [
    "scenarios.parameters"
   ]
  },
  {
   "cell_type": "markdown",
   "id": "92ce1247-b744-4cf0-8dcc-95c5e338003c",
   "metadata": {},
   "source": [
    "## PNG example"
   ]
  },
  {
   "cell_type": "code",
   "execution_count": 13,
   "id": "1d286fb4-5aaf-4389-8dc1-c54d304c1478",
   "metadata": {},
   "outputs": [],
   "source": [
    "from edsl.scenarios.FileStore import PNGFileStore"
   ]
  },
  {
   "cell_type": "markdown",
   "id": "99820285-d3d9-4716-ac0e-3f69c245e5f2",
   "metadata": {},
   "source": [
    "#### Posting"
   ]
  },
  {
   "cell_type": "code",
   "execution_count": 14,
   "id": "3fe472d8-2c6f-482c-92cc-6f84503f3b83",
   "metadata": {
    "editable": true,
    "slideshow": {
     "slide_type": ""
    },
    "tags": []
   },
   "outputs": [
    {
     "name": "stdout",
     "output_type": "stream",
     "text": [
      "{'description': 'File: parrot_logo.png', 'object_type': 'scenario', 'url': 'https://www.expectedparrot.com/content/148e6320-5642-486c-9332-a6d30be0daae', 'uuid': '148e6320-5642-486c-9332-a6d30be0daae', 'version': '0.1.33.dev1', 'visibility': 'unlisted'}\n"
     ]
    }
   ],
   "source": [
    "# fs = PNGFileStore(\"parrot_logo.png\")\n",
    "# info = fs.push()\n",
    "\n",
    "# print(info)"
   ]
  },
  {
   "cell_type": "markdown",
   "id": "b8829f67-f257-4519-b1a5-b3530d86c940",
   "metadata": {},
   "source": [
    "#### Retrieving"
   ]
  },
  {
   "cell_type": "code",
   "execution_count": 15,
   "id": "382c843b-c357-4dc6-b14d-8c229a1218b6",
   "metadata": {},
   "outputs": [],
   "source": [
    "png_file = PNGFileStore.pull(\"148e6320-5642-486c-9332-a6d30be0daae\", expected_parrot_url=\"https://www.expectedparrot.com\")"
   ]
  },
  {
   "cell_type": "markdown",
   "id": "3add807d-1fe0-4352-b4d2-814c1cbaca3c",
   "metadata": {},
   "source": [
    "#### Creating a scenario"
   ]
  },
  {
   "cell_type": "code",
   "execution_count": 16,
   "id": "007b0b85-62db-46a0-a977-60d061e22a4f",
   "metadata": {},
   "outputs": [],
   "source": [
    "from edsl import Scenario"
   ]
  },
  {
   "cell_type": "code",
   "execution_count": 17,
   "id": "c2e9e10f-bc25-439a-bcf1-3a4ac859b548",
   "metadata": {},
   "outputs": [],
   "source": [
    "scenario = Scenario.from_image(png_file.to_tempfile(), \"parrot_logo\")"
   ]
  },
  {
   "cell_type": "markdown",
   "id": "826766db-c029-4877-b0a2-586db2e946bb",
   "metadata": {},
   "source": [
    "#### Checking scenario keys"
   ]
  },
  {
   "cell_type": "code",
   "execution_count": 18,
   "id": "67833e2d-b368-4254-91c8-4d86de550f32",
   "metadata": {},
   "outputs": [
    {
     "data": {
      "text/plain": [
       "['parrot_logo']"
      ]
     },
     "execution_count": 18,
     "metadata": {},
     "output_type": "execute_result"
    }
   ],
   "source": [
    "scenario.keys()"
   ]
  },
  {
   "cell_type": "markdown",
   "id": "fb46b2da-322f-4d1f-952c-20fc2b76a673",
   "metadata": {},
   "source": [
    "#### Renaming a scenario key"
   ]
  },
  {
   "cell_type": "code",
   "execution_count": 19,
   "id": "da4eeb05-d14e-48e7-b52f-425b05820128",
   "metadata": {},
   "outputs": [],
   "source": [
    "scenario = scenario.rename({\"parrot_logo\": \"logo\"})"
   ]
  },
  {
   "cell_type": "code",
   "execution_count": 20,
   "id": "1bb592d7-7c7b-48dc-aa05-a24a2e1ef361",
   "metadata": {
    "editable": true,
    "slideshow": {
     "slide_type": ""
    },
    "tags": []
   },
   "outputs": [
    {
     "data": {
      "text/plain": [
       "['logo']"
      ]
     },
     "execution_count": 20,
     "metadata": {},
     "output_type": "execute_result"
    }
   ],
   "source": [
    "scenario.keys()"
   ]
  },
  {
   "cell_type": "markdown",
   "id": "5e9e7beb-f057-4ecc-99bf-8b6cd6cc79e2",
   "metadata": {},
   "source": [
    "## Posting to the Coop"
   ]
  },
  {
   "cell_type": "code",
   "execution_count": 21,
   "id": "7c055a14-0344-4879-a185-bbcf04f83f9d",
   "metadata": {
    "editable": true,
    "slideshow": {
     "slide_type": ""
    },
    "tags": [
     "skip-execution"
    ]
   },
   "outputs": [],
   "source": [
    "from edsl import Notebook"
   ]
  },
  {
   "cell_type": "code",
   "execution_count": 22,
   "id": "e24995b4-7b3c-474c-88a5-8c1da26ce7fc",
   "metadata": {
    "editable": true,
    "slideshow": {
     "slide_type": ""
    },
    "tags": [
     "skip-execution"
    ]
   },
   "outputs": [],
   "source": [
    "n = Notebook(path = \"filestore_examples.ipynb\")"
   ]
  },
  {
   "cell_type": "code",
   "execution_count": 23,
   "id": "b6bc62cc-4e2c-4839-ad44-0b06dd1efafe",
   "metadata": {
    "editable": true,
    "slideshow": {
     "slide_type": ""
    },
    "tags": [
     "skip-execution"
    ]
   },
   "outputs": [
    {
     "data": {
      "text/plain": [
       "{'description': 'FileStore examples',\n",
       " 'object_type': 'notebook',\n",
       " 'url': 'https://www.expectedparrot.com/content/e1a00873-dfc6-4383-9426-cc032296bab1',\n",
       " 'uuid': 'e1a00873-dfc6-4383-9426-cc032296bab1',\n",
       " 'version': '0.1.33.dev1',\n",
       " 'visibility': 'public'}"
      ]
     },
     "execution_count": 23,
     "metadata": {},
     "output_type": "execute_result"
    }
   ],
   "source": [
    "n.push(description = \"FileStore examples\", visibility = \"public\")"
   ]
  },
  {
   "cell_type": "markdown",
   "id": "1994f140-ff7f-4ab6-ad2e-b7d21a6e6548",
   "metadata": {},
   "source": [
    "To update an object at the Coop:"
   ]
  },
  {
   "cell_type": "code",
   "execution_count": 25,
   "id": "82686871-c1ab-4dc4-b9e2-2371b4a6b2ed",
   "metadata": {
    "editable": true,
    "slideshow": {
     "slide_type": ""
    },
    "tags": [
     "skip-execution"
    ]
   },
   "outputs": [],
   "source": [
    "n = Notebook(path = \"filestore_examples.ipynb\") # resave"
   ]
  },
  {
   "cell_type": "code",
   "execution_count": 26,
   "id": "584a7aaa-b09d-4f77-8a33-ca921f9acc73",
   "metadata": {
    "editable": true,
    "slideshow": {
     "slide_type": ""
    },
    "tags": [
     "skip-execution"
    ]
   },
   "outputs": [
    {
     "data": {
      "text/plain": [
       "{'status': 'success'}"
      ]
     },
     "execution_count": 26,
     "metadata": {},
     "output_type": "execute_result"
    }
   ],
   "source": [
    "n.patch(uuid = \"e1a00873-dfc6-4383-9426-cc032296bab1\", value = n)"
   ]
  }
 ],
 "metadata": {
  "kernelspec": {
   "display_name": "Python 3 (ipykernel)",
   "language": "python",
   "name": "python3"
  },
  "language_info": {
   "codemirror_mode": {
    "name": "ipython",
    "version": 3
   },
   "file_extension": ".py",
   "mimetype": "text/x-python",
   "name": "python",
   "nbconvert_exporter": "python",
   "pygments_lexer": "ipython3",
   "version": "3.11.7"
  }
 },
 "nbformat": 4,
 "nbformat_minor": 5
}
