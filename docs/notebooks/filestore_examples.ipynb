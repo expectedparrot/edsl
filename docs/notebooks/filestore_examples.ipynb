{
 "cells": [
  {
   "cell_type": "markdown",
   "id": "19b1b109-8704-406a-a79a-b2c7a899a580",
   "metadata": {},
   "source": [
    "# FileStore examples\n",
    "This notebook contains examples of methods for posting CSV, PDF and PNG files at the Coop to use with surveys. \n",
    "\n",
    "Please see more information in the [FileStore documentation page](https://docs.expectedparrot.com/filestore.html)."
   ]
  },
  {
   "cell_type": "markdown",
   "id": "4ed1f6b9-329c-4719-bd1b-a949704f529f",
   "metadata": {},
   "source": [
    "## CSV example"
   ]
  },
  {
   "cell_type": "code",
   "execution_count": 1,
   "id": "36b46c11-014d-4799-81f7-5148b652f119",
   "metadata": {
    "editable": true,
    "slideshow": {
     "slide_type": ""
    },
    "tags": []
   },
   "outputs": [],
   "source": [
    "from edsl.scenarios.FileStore import CSVFileStore"
   ]
  },
  {
   "cell_type": "markdown",
   "id": "b06d37ad-2a7a-4dac-8a5a-6e0e8fe7a7ec",
   "metadata": {
    "editable": true,
    "slideshow": {
     "slide_type": ""
    },
    "tags": []
   },
   "source": [
    "#### Posting"
   ]
  },
  {
   "cell_type": "code",
   "execution_count": 2,
   "id": "1d8ce313-0d36-404b-8fee-46ee4e373328",
   "metadata": {
    "editable": true,
    "slideshow": {
     "slide_type": ""
    },
    "tags": []
   },
   "outputs": [
    {
     "data": {
      "text/plain": [
       "{'description': 'File: example.csv',\n",
       " 'object_type': 'scenario',\n",
       " 'url': 'https://www.expectedparrot.com/content/ef3e5d27-0e85-465d-86e2-27480cf25526',\n",
       " 'uuid': 'ef3e5d27-0e85-465d-86e2-27480cf25526',\n",
       " 'version': '0.1.38.dev1',\n",
       " 'visibility': 'unlisted'}"
      ]
     },
     "execution_count": 2,
     "metadata": {},
     "output_type": "execute_result"
    }
   ],
   "source": [
    "fs = CSVFileStore(\"example.csv\")\n",
    "info = fs.push()\n",
    "info"
   ]
  },
  {
   "cell_type": "markdown",
   "id": "70918576-9f1a-439d-9f0a-0c46a8ab3ec3",
   "metadata": {
    "editable": true,
    "slideshow": {
     "slide_type": ""
    },
    "tags": []
   },
   "source": [
    "#### Retrieving"
   ]
  },
  {
   "cell_type": "code",
   "execution_count": 3,
   "id": "7a152897-85ab-4d96-b1c8-64011cfd876b",
   "metadata": {
    "editable": true,
    "slideshow": {
     "slide_type": ""
    },
    "tags": []
   },
   "outputs": [],
   "source": [
    "csv_file = CSVFileStore.pull(info[\"uuid\"], expected_parrot_url=\"https://www.expectedparrot.com\")"
   ]
  },
  {
   "cell_type": "markdown",
   "id": "7edb283e-6d36-4b7e-a856-5e0ebab99152",
   "metadata": {},
   "source": [
    "#### Creating scenarios"
   ]
  },
  {
   "cell_type": "code",
   "execution_count": 4,
   "id": "b86e2701-2da3-42e8-ab1d-97e0025a7bb9",
   "metadata": {},
   "outputs": [],
   "source": [
    "from edsl import ScenarioList"
   ]
  },
  {
   "cell_type": "code",
   "execution_count": 5,
   "id": "53d11b2a-908a-4c5d-bdc0-b533840f8961",
   "metadata": {
    "editable": true,
    "slideshow": {
     "slide_type": ""
    },
    "tags": []
   },
   "outputs": [],
   "source": [
    "scenarios = ScenarioList.from_csv(csv_file.to_tempfile())"
   ]
  },
  {
   "cell_type": "markdown",
   "id": "d644f354-989c-4b53-a477-054238ba8f34",
   "metadata": {},
   "source": [
    "#### Inspecting scenarios"
   ]
  },
  {
   "cell_type": "code",
   "execution_count": 6,
   "id": "87492ebf-052b-45c8-9a52-9a83894adaa7",
   "metadata": {},
   "outputs": [
    {
     "data": {
      "text/html": [
       "<table>\n",
       "<thead>\n",
       "<tr><th>key            </th><th>value                    </th></tr>\n",
       "</thead>\n",
       "<tbody>\n",
       "<tr><td>EDSL Class name</td><td>ScenarioList             </td></tr>\n",
       "<tr><td># Scenarios    </td><td>3                        </td></tr>\n",
       "<tr><td>Scenario Keys  </td><td>[&#x27;message&#x27;, &#x27;date&#x27;, &#x27;id&#x27;]</td></tr>\n",
       "</tbody>\n",
       "</table><a href=https://docs.expectedparrot.com/en/latest/scenarios.html#scenariolist>(docs)</a>"
      ],
      "text/plain": [
       "ScenarioList([Scenario({'id': '1', 'date': '2024-09-21', 'message': \"'How are you?'\"}), Scenario({'id': '2', 'date': '2001-06-09', 'message': \"'A day to remember!'\"}), Scenario({'id': '3', 'date': '1979-03-26', 'message': \"'Happy birthday'\"})])"
      ]
     },
     "execution_count": 6,
     "metadata": {},
     "output_type": "execute_result"
    }
   ],
   "source": [
    "scenarios"
   ]
  },
  {
   "cell_type": "markdown",
   "id": "66517a28-57e5-490d-9b5c-19b7ff062db5",
   "metadata": {},
   "source": [
    "## PDF example"
   ]
  },
  {
   "cell_type": "code",
   "execution_count": 7,
   "id": "08f4fc2d-a817-419d-875d-501835fd7826",
   "metadata": {},
   "outputs": [],
   "source": [
    "from edsl.scenarios.FileStore import PDFFileStore"
   ]
  },
  {
   "cell_type": "markdown",
   "id": "9401dc7f-7a9f-45c9-9c7b-7ca1f86ca362",
   "metadata": {},
   "source": [
    "#### Posting"
   ]
  },
  {
   "cell_type": "code",
   "execution_count": 8,
   "id": "9c646b52-0cbb-447d-9d97-c5df5ce07a88",
   "metadata": {
    "editable": true,
    "slideshow": {
     "slide_type": ""
    },
    "tags": []
   },
   "outputs": [
    {
     "data": {
      "text/plain": [
       "{'description': 'File: top_secret.pdf',\n",
       " 'object_type': 'scenario',\n",
       " 'url': 'https://www.expectedparrot.com/content/71926d8d-df37-42bb-8b08-2cdbfdbfa430',\n",
       " 'uuid': '71926d8d-df37-42bb-8b08-2cdbfdbfa430',\n",
       " 'version': '0.1.38.dev1',\n",
       " 'visibility': 'unlisted'}"
      ]
     },
     "execution_count": 8,
     "metadata": {},
     "output_type": "execute_result"
    }
   ],
   "source": [
    "fs = PDFFileStore(\"top_secret.pdf\")\n",
    "info = fs.push()\n",
    "info"
   ]
  },
  {
   "cell_type": "markdown",
   "id": "251a920d-587f-47d6-be3d-df6c88e2b9d4",
   "metadata": {},
   "source": [
    "#### Retrieving"
   ]
  },
  {
   "cell_type": "code",
   "execution_count": 9,
   "id": "c2a6c85c-ea0a-44cc-8bf3-7ce3ce1e6753",
   "metadata": {
    "editable": true,
    "slideshow": {
     "slide_type": ""
    },
    "tags": []
   },
   "outputs": [],
   "source": [
    "pdf_file = PDFFileStore.pull(info[\"uuid\"], expected_parrot_url=\"https://www.expectedparrot.com\")"
   ]
  },
  {
   "cell_type": "markdown",
   "id": "bcfca6cc-9319-4e9e-9091-082ba278e69d",
   "metadata": {},
   "source": [
    "#### Creating scenarios"
   ]
  },
  {
   "cell_type": "code",
   "execution_count": 10,
   "id": "e9b681da-db15-4ef4-a7ab-8763f64a45cb",
   "metadata": {},
   "outputs": [],
   "source": [
    "from edsl import ScenarioList"
   ]
  },
  {
   "cell_type": "code",
   "execution_count": 11,
   "id": "214fd6f4-9996-4a06-939e-ed2c6b7a6ea3",
   "metadata": {},
   "outputs": [],
   "source": [
    "scenarios = ScenarioList.from_pdf(pdf_file.to_tempfile())"
   ]
  },
  {
   "cell_type": "markdown",
   "id": "74af3df7-7b33-4ba5-a0e8-c2c683559046",
   "metadata": {},
   "source": [
    "#### Checking scenario keys"
   ]
  },
  {
   "cell_type": "code",
   "execution_count": 12,
   "id": "b2ff8a00-b6f3-46d9-944d-e567f37343a3",
   "metadata": {},
   "outputs": [
    {
     "data": {
      "text/html": [
       "<table>\n",
       "<thead>\n",
       "<tr><th>key            </th><th>value                       </th></tr>\n",
       "</thead>\n",
       "<tbody>\n",
       "<tr><td>EDSL Class name</td><td>ScenarioList                </td></tr>\n",
       "<tr><td># Scenarios    </td><td>1                           </td></tr>\n",
       "<tr><td>Scenario Keys  </td><td>[&#x27;page&#x27;, &#x27;filename&#x27;, &#x27;text&#x27;]</td></tr>\n",
       "</tbody>\n",
       "</table><a href=https://docs.expectedparrot.com/en/latest/scenarios.html#scenariolist>(docs)</a>"
      ],
      "text/plain": [
       "ScenarioList([Scenario({'filename': 'tmpk3pu4y79.pdf', 'page': 1, 'text': ''})])"
      ]
     },
     "execution_count": 12,
     "metadata": {},
     "output_type": "execute_result"
    }
   ],
   "source": [
    "scenarios"
   ]
  },
  {
   "cell_type": "markdown",
   "id": "92ce1247-b744-4cf0-8dcc-95c5e338003c",
   "metadata": {},
   "source": [
    "## PNG example"
   ]
  },
  {
   "cell_type": "code",
   "execution_count": 13,
   "id": "1d286fb4-5aaf-4389-8dc1-c54d304c1478",
   "metadata": {},
   "outputs": [],
   "source": [
    "from edsl.scenarios.FileStore import PNGFileStore"
   ]
  },
  {
   "cell_type": "markdown",
   "id": "99820285-d3d9-4716-ac0e-3f69c245e5f2",
   "metadata": {},
   "source": [
    "#### Posting"
   ]
  },
  {
   "cell_type": "code",
   "execution_count": 14,
   "id": "3fe472d8-2c6f-482c-92cc-6f84503f3b83",
   "metadata": {
    "editable": true,
    "slideshow": {
     "slide_type": ""
    },
    "tags": []
   },
   "outputs": [
    {
     "data": {
      "text/plain": [
       "{'description': 'File: parrot_logo.png',\n",
       " 'object_type': 'scenario',\n",
       " 'url': 'https://www.expectedparrot.com/content/1bb4a1e4-bf1f-4267-9039-dcb5fab0e52a',\n",
       " 'uuid': '1bb4a1e4-bf1f-4267-9039-dcb5fab0e52a',\n",
       " 'version': '0.1.38.dev1',\n",
       " 'visibility': 'unlisted'}"
      ]
     },
     "execution_count": 14,
     "metadata": {},
     "output_type": "execute_result"
    }
   ],
   "source": [
    "fs = PNGFileStore(\"parrot_logo.png\")\n",
    "info = fs.push()\n",
    "info"
   ]
  },
  {
   "cell_type": "markdown",
   "id": "b8829f67-f257-4519-b1a5-b3530d86c940",
   "metadata": {},
   "source": [
    "#### Retrieving"
   ]
  },
  {
   "cell_type": "code",
   "execution_count": 15,
   "id": "382c843b-c357-4dc6-b14d-8c229a1218b6",
   "metadata": {},
   "outputs": [],
   "source": [
    "png_file = PNGFileStore.pull(info[\"uuid\"], expected_parrot_url=\"https://www.expectedparrot.com\")"
   ]
  },
  {
   "cell_type": "markdown",
   "id": "3add807d-1fe0-4352-b4d2-814c1cbaca3c",
   "metadata": {},
   "source": [
    "#### Creating a scenario"
   ]
  },
  {
   "cell_type": "code",
   "execution_count": 16,
   "id": "007b0b85-62db-46a0-a977-60d061e22a4f",
   "metadata": {},
   "outputs": [],
   "source": [
    "from edsl import Scenario"
   ]
  },
  {
   "cell_type": "code",
   "execution_count": 17,
   "id": "c2e9e10f-bc25-439a-bcf1-3a4ac859b548",
   "metadata": {},
   "outputs": [],
   "source": [
    "scenario = Scenario.from_image(png_file.to_tempfile(), \"parrot_logo\")"
   ]
  },
  {
   "cell_type": "markdown",
   "id": "826766db-c029-4877-b0a2-586db2e946bb",
   "metadata": {},
   "source": [
    "#### Checking scenario keys"
   ]
  },
  {
   "cell_type": "code",
   "execution_count": 18,
   "id": "5585dbca-3122-4afc-a710-fbca0f7e8095",
   "metadata": {},
   "outputs": [
    {
     "data": {
      "text/html": [
       "<pre><table>\n",
       "<thead>\n",
       "<tr><th>keys       </th><th>values                                                                                                                                                            </th></tr>\n",
       "</thead>\n",
       "<tbody>\n",
       "<tr><td>parrot_logo</td><td>{&#x27;base64_string&#x27;: &#x27;iVBORw0KGgoAAAANSUhEUgAAA8AAAAIc...F/wMG2xxIp+mtfQAAAABJRU5ErkJggg==&#x27;, &#x27;binary&#x27;: True, &#x27;external_locations&#x27;: {}, &#x27;mime_type&#x27;: &#x27;image/png&#x27;, ...}</td></tr>\n",
       "</tbody>\n",
       "</table></pre><a href='https://docs.expectedparrot.com/en/latest/scenarios.html'>(docs)</a></p>"
      ],
      "text/plain": [
       "Scenario({'parrot_logo': FileStore(path='/var/folders/j0/xq1nxxt51j7_1dgv8s116fmh0000gn/T/tmpj8b9exu1.png')})"
      ]
     },
     "execution_count": 18,
     "metadata": {},
     "output_type": "execute_result"
    }
   ],
   "source": [
    "scenario"
   ]
  },
  {
   "cell_type": "markdown",
   "id": "fb46b2da-322f-4d1f-952c-20fc2b76a673",
   "metadata": {},
   "source": [
    "#### Renaming a scenario key"
   ]
  },
  {
   "cell_type": "code",
   "execution_count": 19,
   "id": "da4eeb05-d14e-48e7-b52f-425b05820128",
   "metadata": {},
   "outputs": [],
   "source": [
    "scenario = scenario.rename({\"parrot_logo\": \"logo\"})"
   ]
  },
  {
   "cell_type": "code",
   "execution_count": 20,
   "id": "1bb592d7-7c7b-48dc-aa05-a24a2e1ef361",
   "metadata": {
    "editable": true,
    "slideshow": {
     "slide_type": ""
    },
    "tags": []
   },
   "outputs": [
    {
     "data": {
      "text/html": [
       "<pre><table>\n",
       "<thead>\n",
       "<tr><th>keys  </th><th>values                                                                                                                                                            </th></tr>\n",
       "</thead>\n",
       "<tbody>\n",
       "<tr><td>logo  </td><td>{&#x27;base64_string&#x27;: &#x27;iVBORw0KGgoAAAANSUhEUgAAA8AAAAIc...F/wMG2xxIp+mtfQAAAABJRU5ErkJggg==&#x27;, &#x27;binary&#x27;: True, &#x27;external_locations&#x27;: {}, &#x27;mime_type&#x27;: &#x27;image/png&#x27;, ...}</td></tr>\n",
       "</tbody>\n",
       "</table></pre><a href='https://docs.expectedparrot.com/en/latest/scenarios.html'>(docs)</a></p>"
      ],
      "text/plain": [
       "Scenario({'logo': FileStore(path='/var/folders/j0/xq1nxxt51j7_1dgv8s116fmh0000gn/T/tmpj8b9exu1.png')})"
      ]
     },
     "execution_count": 20,
     "metadata": {},
     "output_type": "execute_result"
    }
   ],
   "source": [
    "scenario"
   ]
  },
  {
   "cell_type": "markdown",
   "id": "5e9e7beb-f057-4ecc-99bf-8b6cd6cc79e2",
   "metadata": {},
   "source": [
    "## Posting to the Coop"
   ]
  },
  {
   "cell_type": "code",
   "execution_count": 21,
   "id": "7c055a14-0344-4879-a185-bbcf04f83f9d",
   "metadata": {
    "editable": true,
    "slideshow": {
     "slide_type": ""
    },
    "tags": [
     "skip-execution"
    ]
   },
   "outputs": [],
   "source": [
    "from edsl import Notebook"
   ]
  },
  {
   "cell_type": "code",
   "execution_count": 22,
   "id": "690ec917-0e28-453b-8407-9604912bfaef",
   "metadata": {
    "editable": true,
    "slideshow": {
     "slide_type": ""
    },
    "tags": [
     "skip-execution"
    ]
   },
   "outputs": [],
   "source": [
    "n = Notebook(path = \"filestore_examples.ipynb\")"
   ]
  },
  {
   "cell_type": "code",
   "execution_count": 23,
   "id": "e2000f36-972d-48b6-9d93-76c445351644",
   "metadata": {
    "editable": true,
    "slideshow": {
     "slide_type": ""
    },
    "tags": [
     "skip-execution"
    ]
   },
   "outputs": [],
   "source": [
    "info = n.push(description = \"FileStore examples\", visibility = \"public\")"
   ]
  },
  {
   "cell_type": "code",
   "execution_count": 24,
   "id": "39c458a2-63bd-4beb-b0ba-64f2f33b156b",
   "metadata": {
    "editable": true,
    "slideshow": {
     "slide_type": ""
    },
    "tags": [
     "skip-execution"
    ]
   },
   "outputs": [
    {
     "data": {
      "text/plain": [
       "{'description': 'FileStore examples',\n",
       " 'object_type': 'notebook',\n",
       " 'url': 'https://www.expectedparrot.com/content/c796425c-bdc2-4b35-840a-d2145b4b49d1',\n",
       " 'uuid': 'c796425c-bdc2-4b35-840a-d2145b4b49d1',\n",
       " 'version': '0.1.38.dev1',\n",
       " 'visibility': 'public'}"
      ]
     },
     "execution_count": 24,
     "metadata": {},
     "output_type": "execute_result"
    }
   ],
   "source": [
    "info"
   ]
  },
  {
   "cell_type": "markdown",
   "id": "1994f140-ff7f-4ab6-ad2e-b7d21a6e6548",
   "metadata": {},
   "source": [
    "To update an object at the Coop:"
   ]
  },
  {
   "cell_type": "code",
   "execution_count": 25,
   "id": "bdd2e565-4213-4a19-91a6-abb728a449d1",
   "metadata": {
    "editable": true,
    "slideshow": {
     "slide_type": ""
    },
    "tags": [
     "skip-execution"
    ]
   },
   "outputs": [],
   "source": [
    "n = Notebook(path = \"filestore_examples.ipynb\") # resave"
   ]
  },
  {
   "cell_type": "code",
   "execution_count": 26,
   "id": "4adedc43-7e9b-488a-9ef2-d10e2908a63d",
   "metadata": {
    "editable": true,
    "slideshow": {
     "slide_type": ""
    },
    "tags": [
     "skip-execution"
    ]
   },
   "outputs": [
    {
     "data": {
      "text/plain": [
       "{'status': 'success'}"
      ]
     },
     "execution_count": 26,
     "metadata": {},
     "output_type": "execute_result"
    }
   ],
   "source": [
    "n.patch(info[\"uuid\"], value = n)"
   ]
  }
 ],
 "metadata": {
  "kernelspec": {
   "display_name": "Python 3 (ipykernel)",
   "language": "python",
   "name": "python3"
  },
  "language_info": {
   "codemirror_mode": {
    "name": "ipython",
    "version": 3
   },
   "file_extension": ".py",
   "mimetype": "text/x-python",
   "name": "python",
   "nbconvert_exporter": "python",
   "pygments_lexer": "ipython3",
   "version": "3.11.7"
  }
 },
 "nbformat": 4,
 "nbformat_minor": 5
}
