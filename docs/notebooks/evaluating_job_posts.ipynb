{
 "cells": [
  {
   "cell_type": "markdown",
   "id": "a2acc559-1a59-4c80-b611-879385b2bb76",
   "metadata": {
    "editable": true,
    "slideshow": {
     "slide_type": ""
    },
    "tags": []
   },
   "source": [
    "# Evaluating job posts\n",
    "This notebook provides sample code for conducting a text analysis using [EDSL](https://docs.expectedparrot.com), an open-source library for simulating surveys, experiments and other research with AI agents and large language models. \n",
    "\n",
    "Using a dataset of job posts as an example, we demonstrate how to: \n",
    "\n",
    "1. Import data into EDSL \n",
    "2. Create questions about the data \n",
    "3. Design an AI agent to answer the questions\n",
    "4. Select a language model to generate responses\n",
    "5. Analyze results as a formatted dataset\n",
    "\n",
    "\n",
    "## Technical setup\n",
    "Before running the code below please ensure that you have completed setup:\n",
    "\n",
    "* [Install EDSL](https://docs.expectedparrot.com/en/latest/installation.html).\n",
    "* Create a [Coop account](https://www.expectedparrot.com/login) and activate [remote inference](https://docs.expectedparrot.com/en/latest/remote_inference.html) OR store your own [API Keys](https://docs.expectedparrot.com/en/latest/api_keys.html) for language models that you want to use.\n",
    "\n",
    "Our [Starter Tutorial](https://docs.expectedparrot.com/en/latest/starter_tutorial.html) also provides examples of EDSL basic components. "
   ]
  },
  {
   "cell_type": "markdown",
   "id": "d415db24-0a00-408e-a118-0bf00aca7611",
   "metadata": {
    "editable": true,
    "slideshow": {
     "slide_type": ""
    },
    "tags": []
   },
   "source": [
    "## Selecting data for review\n",
    "First we identify some data for review. Data can be created using the EDSL tools or [imported from other sources](https://docs.expectedparrot.com/en/latest/scenarios.html). For purposes of this demo we import a set of job posts:"
   ]
  },
  {
   "cell_type": "code",
   "execution_count": 1,
   "id": "83c51991-92db-4b89-bcc7-e7c75e3e5f85",
   "metadata": {
    "editable": true,
    "slideshow": {
     "slide_type": ""
    },
    "tags": []
   },
   "outputs": [],
   "source": [
    "job_posts = [\n",
    "    \"Oversee daily operations, manage staff, and ensure customer satisfaction in a fast-paced retail environment.\",\n",
    "    \"Craft engaging and informative blog posts on health and wellness topics to boost website traffic and engage readers.\",\n",
    "    \"Analyze sales data using statistical tools to identify trends and provide actionable insights to the marketing team.\",\n",
    "    \"Prepare gourmet dishes that comply with restaurant standards and delight customers with unique flavor combinations.\",\n",
    "    \"Design creative visual content for marketing materials, including brochures, banners, and digital ads, using Adobe Creative Suite.\",\n",
    "    \"Develop, test, and maintain robust software solutions to improve business processes using Python and Java.\",\n",
    "    \"Craft coffee drinks and manage the coffee station while providing excellent customer service in a busy café.\",\n",
    "    \"Manage recruitment processes, conduct interviews, and oversee employee benefit programs to ensure a motivated workforce.\",\n",
    "    \"Assist veterinarians by preparing animals for surgery, administering injections, and providing post-operative care.\",\n",
    "    \"Design aesthetic and practical outdoor spaces for clients, from residential gardens to public parks.\",\n",
    "    \"Install and repair residential plumbing systems, including water heaters, pipes, and fixtures to ensure proper functionality.\",\n",
    "    \"Develop comprehensive marketing strategies that align with company goals, including digital campaigns and branding efforts.\",\n",
    "    \"Install, maintain, and repair electrical wiring, equipment, and fixtures to ensure safe and effective operation.\",\n",
    "    \"Provide personalized fitness programs and conduct group fitness classes to help clients achieve their health goals.\",\n",
    "    \"Diagnose and repair automotive issues, perform routine maintenance, and ensure vehicles meet safety standards.\",\n",
    "    \"Lead creative campaigns, from concept through execution, coordinating with graphic designers and content creators.\",\n",
    "    \"Educate students in mathematics using innovative teaching strategies to enhance understanding and interest in the subject.\",\n",
    "    \"Drive sales through engaging customer interactions, understanding client needs, and providing product solutions.\",\n",
    "    \"Fold dough into pretzel shapes ensuring each is uniformly twisted and perfectly salted before baking.\",\n",
    "    \"Address customer inquiries and issues via phone and email, ensuring high levels of satisfaction and timely resolution.\",\n",
    "]"
   ]
  },
  {
   "cell_type": "markdown",
   "id": "cbe0e080-5d8f-4de8-ba46-edfb0ad45027",
   "metadata": {
    "editable": true,
    "slideshow": {
     "slide_type": ""
    },
    "tags": []
   },
   "source": [
    "## Constructing questions about the data\n",
    "Next we create some questions about the data. EDSL provides a variety of question types that we can choose from based on the form of the response that we want to get back from the model (multiple choice, free text, checkbox, linear scale, etc.). [Learn more about question types](https://docs.expectedparrot.com/en/latest/questions.html). \n",
    "\n",
    "Note that we use a `{{ placeholder }}` in each question text in order to parameterize the questions with the individual job posts in the next step:"
   ]
  },
  {
   "cell_type": "code",
   "execution_count": 4,
   "id": "58842779-beb5-4c95-b940-2575dc6c800c",
   "metadata": {
    "editable": true,
    "slideshow": {
     "slide_type": ""
    },
    "tags": []
   },
   "outputs": [],
   "source": [
    "from edsl import (\n",
    "    QuestionList,\n",
    "    QuestionLinearScale,\n",
    "    QuestionMultipleChoice,\n",
    "    QuestionYesNo,\n",
    "    QuestionFreeText,\n",
    ")\n",
    "\n",
    "q1 = QuestionList(\n",
    "    question_name=\"category_list\",\n",
    "    question_text=\"Draft a list of increasingly specific categories for the following job post: {{ job_post }}\",\n",
    "    max_list_items=3,  # optional\n",
    ")\n",
    "\n",
    "q2 = QuestionLinearScale(\n",
    "    question_name=\"specific_scale\",\n",
    "    question_text=\"How specific is this job post: {{ job_post }}\",\n",
    "    question_options=[0, 1, 2, 3, 4, 5],\n",
    "    option_labels={0: \"Unclear\", 1: \"Not at all specific\", 5: \"Highly specific\"},\n",
    ")\n",
    "\n",
    "q3 = QuestionMultipleChoice(\n",
    "    question_name=\"skill_choice\",\n",
    "    question_text=\"What is the skill level required for this job: {{ job_post }}\",\n",
    "    question_options=[\"Entry level\", \"Intermediate\", \"Advanced\", \"Expert\"],\n",
    ")\n",
    "\n",
    "q4 = QuestionYesNo(\n",
    "    question_name=\"technical_yn\",\n",
    "    question_text=\"Is this a technical job? Job post: {{ job_post }}\",\n",
    ")\n",
    "\n",
    "q5 = QuestionFreeText(\n",
    "    question_name=\"rewrite_text\",\n",
    "    question_text=\"\"\"Draft an improved version of the following job post: {{ job_post }}\"\"\",\n",
    ")"
   ]
  },
  {
   "cell_type": "markdown",
   "id": "d560a34f-b921-46c6-88c0-6f19f0cc555b",
   "metadata": {
    "editable": true,
    "slideshow": {
     "slide_type": ""
    },
    "tags": []
   },
   "source": [
    "## Building a survey\n",
    "We combine the questions into a survey in order to administer them together:"
   ]
  },
  {
   "cell_type": "code",
   "execution_count": 5,
   "id": "f1498112-9395-4718-aca7-49d283058521",
   "metadata": {
    "editable": true,
    "slideshow": {
     "slide_type": ""
    },
    "tags": []
   },
   "outputs": [],
   "source": [
    "from edsl import Survey\n",
    "\n",
    "questions = [q1, q2, q3, q4, q5]\n",
    "\n",
    "survey = Survey(questions)"
   ]
  },
  {
   "cell_type": "markdown",
   "id": "2622ebbb-7299-47a5-baeb-00c6120f65c8",
   "metadata": {
    "editable": true,
    "slideshow": {
     "slide_type": ""
    },
    "tags": []
   },
   "source": [
    "If we want the agent/model to have information about prior questions in the survey we can add targeted or full memories ([learn more about adding survey rules/logic](https://docs.expectedparrot.com/en/latest/surveys.html)):"
   ]
  },
  {
   "cell_type": "code",
   "execution_count": 6,
   "id": "03d4ac05-0e82-41c3-b89a-011d92db96a0",
   "metadata": {
    "editable": true,
    "slideshow": {
     "slide_type": ""
    },
    "tags": []
   },
   "outputs": [],
   "source": [
    "# Memory of a specific question is presented with another question:\n",
    "# survey = survey.add_targeted_memory(q2, q1)\n",
    "\n",
    "# Full memory of all prior questions is presented with each question (token-intensive):\n",
    "# survey = survey.set_full_memory_mode()"
   ]
  },
  {
   "cell_type": "markdown",
   "id": "de6f4641-8bf3-4122-88ed-7409876c9ffc",
   "metadata": {
    "editable": true,
    "slideshow": {
     "slide_type": ""
    },
    "tags": []
   },
   "source": [
    "## Adding data to the questions\n",
    "We add the contents of each ticket into each question as an independent \"scenario\" for review. This allows us to create versions of the questions for each job post and deliver them to the model all at once. [EDSL provides many methods for generating scenarios](https://docs.expectedparrot.com/en/latest/scenarios.html) from different data sources (PDFs, CSVs, docs, images, tables, dicts, etc.). Here we import the list from above:"
   ]
  },
  {
   "cell_type": "code",
   "execution_count": 7,
   "id": "abb3c4f9-0e33-4480-8159-6d07df862347",
   "metadata": {
    "editable": true,
    "slideshow": {
     "slide_type": ""
    },
    "tags": []
   },
   "outputs": [],
   "source": [
    "from edsl import ScenarioList, Scenario\n",
    "\n",
    "scenarios = ScenarioList.from_list(\"job_post\", job_posts)"
   ]
  },
  {
   "cell_type": "markdown",
   "id": "4d909c70-382e-4157-986a-0cf9505ad2a4",
   "metadata": {
    "editable": true,
    "slideshow": {
     "slide_type": ""
    },
    "tags": []
   },
   "source": [
    "## Designing AI agents\n",
    "A key feature of EDSL is the ability to create personas for AI agents that the language models are prompted to use in generating responses to the questions. This is done by passing a dictionary of traits to Agent objects:"
   ]
  },
  {
   "cell_type": "code",
   "execution_count": 8,
   "id": "fb25a439-2d61-4db2-9620-c5ab6f540ee6",
   "metadata": {
    "editable": true,
    "slideshow": {
     "slide_type": ""
    },
    "tags": []
   },
   "outputs": [],
   "source": [
    "from edsl import AgentList, Agent\n",
    "\n",
    "agent = Agent(traits={\"persona\":\"You are a labor economist.\"})"
   ]
  },
  {
   "cell_type": "markdown",
   "id": "6e92a475-d7ca-4426-b348-c5e419eaf558",
   "metadata": {
    "editable": true,
    "slideshow": {
     "slide_type": ""
    },
    "tags": []
   },
   "source": [
    "## Selecting language models\n",
    "EDSL allows us to select the language models to use in generating results. To see all available models:"
   ]
  },
  {
   "cell_type": "code",
   "execution_count": 9,
   "id": "c8f75434-e461-435a-b7a7-6409848d8cd8",
   "metadata": {
    "editable": true,
    "slideshow": {
     "slide_type": ""
    },
    "tags": []
   },
   "outputs": [],
   "source": [
    "from edsl import ModelList, Model\n",
    "\n",
    "# Model.available()"
   ]
  },
  {
   "cell_type": "markdown",
   "id": "0d9d9bdc-91fb-47f0-a76e-f788f4f4ccfc",
   "metadata": {
    "editable": true,
    "slideshow": {
     "slide_type": ""
    },
    "tags": []
   },
   "source": [
    "Here we select GPT 4o (if no model is specified, GPT 4 preview is used by default):"
   ]
  },
  {
   "cell_type": "code",
   "execution_count": 10,
   "id": "2c27e503-98fd-4775-b396-dfbfc6548e25",
   "metadata": {
    "editable": true,
    "slideshow": {
     "slide_type": ""
    },
    "tags": []
   },
   "outputs": [],
   "source": [
    "model = Model(\"gpt-4o\")"
   ]
  },
  {
   "cell_type": "markdown",
   "id": "9876c3c4-be95-4641-9993-6d9d9c8092bb",
   "metadata": {
    "editable": true,
    "slideshow": {
     "slide_type": ""
    },
    "tags": []
   },
   "source": [
    "## Running the survey\n",
    "We run the survey by adding the scenarios, agent and model with the `by()` method and then calling the `run()` method:"
   ]
  },
  {
   "cell_type": "code",
   "execution_count": 11,
   "id": "deae48b6-8c2a-4483-b26b-380d923dbf85",
   "metadata": {
    "editable": true,
    "slideshow": {
     "slide_type": ""
    },
    "tags": []
   },
   "outputs": [],
   "source": [
    "results = survey.by(scenarios).by(agent).by(model).run()"
   ]
  },
  {
   "cell_type": "markdown",
   "id": "8e09b07a-5c4a-46d5-acf5-09fc8d4746ae",
   "metadata": {
    "editable": true,
    "slideshow": {
     "slide_type": ""
    },
    "tags": []
   },
   "source": [
    "This generates a dataset of `Results` that we can analyze with built-in methods for data tables, dataframes, SQL, etc. We can see a list of all the components that can be analyzed:"
   ]
  },
  {
   "cell_type": "code",
   "execution_count": 12,
   "id": "137487ab-89e8-460c-8169-bb74a8d16a8a",
   "metadata": {
    "editable": true,
    "slideshow": {
     "slide_type": ""
    },
    "tags": []
   },
   "outputs": [],
   "source": [
    "# results.columns"
   ]
  },
  {
   "cell_type": "markdown",
   "id": "a9a6adee-9c0c-4e03-9aaf-9bec16fc6526",
   "metadata": {
    "editable": true,
    "slideshow": {
     "slide_type": ""
    },
    "tags": []
   },
   "source": [
    "For example, we can filter, sort, select, limit, shuffle, sample and print some components of results in a table:"
   ]
  },
  {
   "cell_type": "code",
   "execution_count": 13,
   "id": "6b1e375b-ffbf-42d4-9ac0-bbafbd282114",
   "metadata": {
    "editable": true,
    "slideshow": {
     "slide_type": ""
    },
    "tags": []
   },
   "outputs": [
    {
     "data": {
      "text/html": [
       "<pre style=\"white-space:pre;overflow-x:auto;line-height:normal;font-family:Menlo,'DejaVu Sans Mono',consolas,'Courier New',monospace\">┏━━━━━━━━┳━━━━━━━━━━━━━━━━━┳━━━━━━━━━━━━━━━━━━┳━━━━━━━━━━━━━━━━━┳━━━━━━━━━━━━━━━━━┳━━━━━━━━━━━━━━━┳━━━━━━━━━━━━━━━┓\n",
       "┃<span style=\"color: #800080; text-decoration-color: #800080; font-weight: bold\"> model  </span>┃<span style=\"color: #800080; text-decoration-color: #800080; font-weight: bold\"> agent           </span>┃<span style=\"color: #800080; text-decoration-color: #800080; font-weight: bold\"> scenario         </span>┃<span style=\"color: #800080; text-decoration-color: #800080; font-weight: bold\"> answer          </span>┃<span style=\"color: #800080; text-decoration-color: #800080; font-weight: bold\"> answer          </span>┃<span style=\"color: #800080; text-decoration-color: #800080; font-weight: bold\"> answer        </span>┃<span style=\"color: #800080; text-decoration-color: #800080; font-weight: bold\"> answer        </span>┃\n",
       "┃<span style=\"color: #800080; text-decoration-color: #800080; font-weight: bold\"> .model </span>┃<span style=\"color: #800080; text-decoration-color: #800080; font-weight: bold\"> .persona        </span>┃<span style=\"color: #800080; text-decoration-color: #800080; font-weight: bold\"> .job_post        </span>┃<span style=\"color: #800080; text-decoration-color: #800080; font-weight: bold\"> .category_list  </span>┃<span style=\"color: #800080; text-decoration-color: #800080; font-weight: bold\"> .specific_scale </span>┃<span style=\"color: #800080; text-decoration-color: #800080; font-weight: bold\"> .skill_choice </span>┃<span style=\"color: #800080; text-decoration-color: #800080; font-weight: bold\"> .technical_yn </span>┃\n",
       "┡━━━━━━━━╇━━━━━━━━━━━━━━━━━╇━━━━━━━━━━━━━━━━━━╇━━━━━━━━━━━━━━━━━╇━━━━━━━━━━━━━━━━━╇━━━━━━━━━━━━━━━╇━━━━━━━━━━━━━━━┩\n",
       "│<span style=\"color: #7f7f7f; text-decoration-color: #7f7f7f\"> gpt-4o </span>│<span style=\"color: #7f7f7f; text-decoration-color: #7f7f7f\"> You are a labor </span>│<span style=\"color: #7f7f7f; text-decoration-color: #7f7f7f\"> Design creative  </span>│<span style=\"color: #7f7f7f; text-decoration-color: #7f7f7f\"> ['Graphic       </span>│<span style=\"color: #7f7f7f; text-decoration-color: #7f7f7f\"> 3               </span>│<span style=\"color: #7f7f7f; text-decoration-color: #7f7f7f\"> Advanced      </span>│<span style=\"color: #7f7f7f; text-decoration-color: #7f7f7f\"> Yes           </span>│\n",
       "│<span style=\"color: #7f7f7f; text-decoration-color: #7f7f7f\">        </span>│<span style=\"color: #7f7f7f; text-decoration-color: #7f7f7f\"> economist.      </span>│<span style=\"color: #7f7f7f; text-decoration-color: #7f7f7f\"> visual content   </span>│<span style=\"color: #7f7f7f; text-decoration-color: #7f7f7f\"> Design',        </span>│<span style=\"color: #7f7f7f; text-decoration-color: #7f7f7f\">                 </span>│<span style=\"color: #7f7f7f; text-decoration-color: #7f7f7f\">               </span>│<span style=\"color: #7f7f7f; text-decoration-color: #7f7f7f\">               </span>│\n",
       "│<span style=\"color: #7f7f7f; text-decoration-color: #7f7f7f\">        </span>│<span style=\"color: #7f7f7f; text-decoration-color: #7f7f7f\">                 </span>│<span style=\"color: #7f7f7f; text-decoration-color: #7f7f7f\"> for marketing    </span>│<span style=\"color: #7f7f7f; text-decoration-color: #7f7f7f\"> 'Marketing      </span>│<span style=\"color: #7f7f7f; text-decoration-color: #7f7f7f\">                 </span>│<span style=\"color: #7f7f7f; text-decoration-color: #7f7f7f\">               </span>│<span style=\"color: #7f7f7f; text-decoration-color: #7f7f7f\">               </span>│\n",
       "│<span style=\"color: #7f7f7f; text-decoration-color: #7f7f7f\">        </span>│<span style=\"color: #7f7f7f; text-decoration-color: #7f7f7f\">                 </span>│<span style=\"color: #7f7f7f; text-decoration-color: #7f7f7f\"> materials,       </span>│<span style=\"color: #7f7f7f; text-decoration-color: #7f7f7f\"> Visual Content  </span>│<span style=\"color: #7f7f7f; text-decoration-color: #7f7f7f\">                 </span>│<span style=\"color: #7f7f7f; text-decoration-color: #7f7f7f\">               </span>│<span style=\"color: #7f7f7f; text-decoration-color: #7f7f7f\">               </span>│\n",
       "│<span style=\"color: #7f7f7f; text-decoration-color: #7f7f7f\">        </span>│<span style=\"color: #7f7f7f; text-decoration-color: #7f7f7f\">                 </span>│<span style=\"color: #7f7f7f; text-decoration-color: #7f7f7f\"> including        </span>│<span style=\"color: #7f7f7f; text-decoration-color: #7f7f7f\"> Creation',      </span>│<span style=\"color: #7f7f7f; text-decoration-color: #7f7f7f\">                 </span>│<span style=\"color: #7f7f7f; text-decoration-color: #7f7f7f\">               </span>│<span style=\"color: #7f7f7f; text-decoration-color: #7f7f7f\">               </span>│\n",
       "│<span style=\"color: #7f7f7f; text-decoration-color: #7f7f7f\">        </span>│<span style=\"color: #7f7f7f; text-decoration-color: #7f7f7f\">                 </span>│<span style=\"color: #7f7f7f; text-decoration-color: #7f7f7f\"> brochures,       </span>│<span style=\"color: #7f7f7f; text-decoration-color: #7f7f7f\"> 'Adobe Creative </span>│<span style=\"color: #7f7f7f; text-decoration-color: #7f7f7f\">                 </span>│<span style=\"color: #7f7f7f; text-decoration-color: #7f7f7f\">               </span>│<span style=\"color: #7f7f7f; text-decoration-color: #7f7f7f\">               </span>│\n",
       "│<span style=\"color: #7f7f7f; text-decoration-color: #7f7f7f\">        </span>│<span style=\"color: #7f7f7f; text-decoration-color: #7f7f7f\">                 </span>│<span style=\"color: #7f7f7f; text-decoration-color: #7f7f7f\"> banners, and     </span>│<span style=\"color: #7f7f7f; text-decoration-color: #7f7f7f\"> Suite           </span>│<span style=\"color: #7f7f7f; text-decoration-color: #7f7f7f\">                 </span>│<span style=\"color: #7f7f7f; text-decoration-color: #7f7f7f\">               </span>│<span style=\"color: #7f7f7f; text-decoration-color: #7f7f7f\">               </span>│\n",
       "│<span style=\"color: #7f7f7f; text-decoration-color: #7f7f7f\">        </span>│<span style=\"color: #7f7f7f; text-decoration-color: #7f7f7f\">                 </span>│<span style=\"color: #7f7f7f; text-decoration-color: #7f7f7f\"> digital ads,     </span>│<span style=\"color: #7f7f7f; text-decoration-color: #7f7f7f\"> Expertise']     </span>│<span style=\"color: #7f7f7f; text-decoration-color: #7f7f7f\">                 </span>│<span style=\"color: #7f7f7f; text-decoration-color: #7f7f7f\">               </span>│<span style=\"color: #7f7f7f; text-decoration-color: #7f7f7f\">               </span>│\n",
       "│<span style=\"color: #7f7f7f; text-decoration-color: #7f7f7f\">        </span>│<span style=\"color: #7f7f7f; text-decoration-color: #7f7f7f\">                 </span>│<span style=\"color: #7f7f7f; text-decoration-color: #7f7f7f\"> using Adobe      </span>│<span style=\"color: #7f7f7f; text-decoration-color: #7f7f7f\">                 </span>│<span style=\"color: #7f7f7f; text-decoration-color: #7f7f7f\">                 </span>│<span style=\"color: #7f7f7f; text-decoration-color: #7f7f7f\">               </span>│<span style=\"color: #7f7f7f; text-decoration-color: #7f7f7f\">               </span>│\n",
       "│<span style=\"color: #7f7f7f; text-decoration-color: #7f7f7f\">        </span>│<span style=\"color: #7f7f7f; text-decoration-color: #7f7f7f\">                 </span>│<span style=\"color: #7f7f7f; text-decoration-color: #7f7f7f\"> Creative Suite.  </span>│<span style=\"color: #7f7f7f; text-decoration-color: #7f7f7f\">                 </span>│<span style=\"color: #7f7f7f; text-decoration-color: #7f7f7f\">                 </span>│<span style=\"color: #7f7f7f; text-decoration-color: #7f7f7f\">               </span>│<span style=\"color: #7f7f7f; text-decoration-color: #7f7f7f\">               </span>│\n",
       "├────────┼─────────────────┼──────────────────┼─────────────────┼─────────────────┼───────────────┼───────────────┤\n",
       "│<span style=\"color: #7f7f7f; text-decoration-color: #7f7f7f\"> gpt-4o </span>│<span style=\"color: #7f7f7f; text-decoration-color: #7f7f7f\"> You are a labor </span>│<span style=\"color: #7f7f7f; text-decoration-color: #7f7f7f\"> Install and      </span>│<span style=\"color: #7f7f7f; text-decoration-color: #7f7f7f\"> ['Install and   </span>│<span style=\"color: #7f7f7f; text-decoration-color: #7f7f7f\"> 4               </span>│<span style=\"color: #7f7f7f; text-decoration-color: #7f7f7f\"> Advanced      </span>│<span style=\"color: #7f7f7f; text-decoration-color: #7f7f7f\"> Yes           </span>│\n",
       "│<span style=\"color: #7f7f7f; text-decoration-color: #7f7f7f\">        </span>│<span style=\"color: #7f7f7f; text-decoration-color: #7f7f7f\"> economist.      </span>│<span style=\"color: #7f7f7f; text-decoration-color: #7f7f7f\"> repair           </span>│<span style=\"color: #7f7f7f; text-decoration-color: #7f7f7f\"> repair plumbing </span>│<span style=\"color: #7f7f7f; text-decoration-color: #7f7f7f\">                 </span>│<span style=\"color: #7f7f7f; text-decoration-color: #7f7f7f\">               </span>│<span style=\"color: #7f7f7f; text-decoration-color: #7f7f7f\">               </span>│\n",
       "│<span style=\"color: #7f7f7f; text-decoration-color: #7f7f7f\">        </span>│<span style=\"color: #7f7f7f; text-decoration-color: #7f7f7f\">                 </span>│<span style=\"color: #7f7f7f; text-decoration-color: #7f7f7f\"> residential      </span>│<span style=\"color: #7f7f7f; text-decoration-color: #7f7f7f\"> systems',       </span>│<span style=\"color: #7f7f7f; text-decoration-color: #7f7f7f\">                 </span>│<span style=\"color: #7f7f7f; text-decoration-color: #7f7f7f\">               </span>│<span style=\"color: #7f7f7f; text-decoration-color: #7f7f7f\">               </span>│\n",
       "│<span style=\"color: #7f7f7f; text-decoration-color: #7f7f7f\">        </span>│<span style=\"color: #7f7f7f; text-decoration-color: #7f7f7f\">                 </span>│<span style=\"color: #7f7f7f; text-decoration-color: #7f7f7f\"> plumbing         </span>│<span style=\"color: #7f7f7f; text-decoration-color: #7f7f7f\"> 'Install and    </span>│<span style=\"color: #7f7f7f; text-decoration-color: #7f7f7f\">                 </span>│<span style=\"color: #7f7f7f; text-decoration-color: #7f7f7f\">               </span>│<span style=\"color: #7f7f7f; text-decoration-color: #7f7f7f\">               </span>│\n",
       "│<span style=\"color: #7f7f7f; text-decoration-color: #7f7f7f\">        </span>│<span style=\"color: #7f7f7f; text-decoration-color: #7f7f7f\">                 </span>│<span style=\"color: #7f7f7f; text-decoration-color: #7f7f7f\"> systems,         </span>│<span style=\"color: #7f7f7f; text-decoration-color: #7f7f7f\"> repair water    </span>│<span style=\"color: #7f7f7f; text-decoration-color: #7f7f7f\">                 </span>│<span style=\"color: #7f7f7f; text-decoration-color: #7f7f7f\">               </span>│<span style=\"color: #7f7f7f; text-decoration-color: #7f7f7f\">               </span>│\n",
       "│<span style=\"color: #7f7f7f; text-decoration-color: #7f7f7f\">        </span>│<span style=\"color: #7f7f7f; text-decoration-color: #7f7f7f\">                 </span>│<span style=\"color: #7f7f7f; text-decoration-color: #7f7f7f\"> including water  </span>│<span style=\"color: #7f7f7f; text-decoration-color: #7f7f7f\"> heaters',       </span>│<span style=\"color: #7f7f7f; text-decoration-color: #7f7f7f\">                 </span>│<span style=\"color: #7f7f7f; text-decoration-color: #7f7f7f\">               </span>│<span style=\"color: #7f7f7f; text-decoration-color: #7f7f7f\">               </span>│\n",
       "│<span style=\"color: #7f7f7f; text-decoration-color: #7f7f7f\">        </span>│<span style=\"color: #7f7f7f; text-decoration-color: #7f7f7f\">                 </span>│<span style=\"color: #7f7f7f; text-decoration-color: #7f7f7f\"> heaters, pipes,  </span>│<span style=\"color: #7f7f7f; text-decoration-color: #7f7f7f\"> 'Install and    </span>│<span style=\"color: #7f7f7f; text-decoration-color: #7f7f7f\">                 </span>│<span style=\"color: #7f7f7f; text-decoration-color: #7f7f7f\">               </span>│<span style=\"color: #7f7f7f; text-decoration-color: #7f7f7f\">               </span>│\n",
       "│<span style=\"color: #7f7f7f; text-decoration-color: #7f7f7f\">        </span>│<span style=\"color: #7f7f7f; text-decoration-color: #7f7f7f\">                 </span>│<span style=\"color: #7f7f7f; text-decoration-color: #7f7f7f\"> and fixtures to  </span>│<span style=\"color: #7f7f7f; text-decoration-color: #7f7f7f\"> repair pipes    </span>│<span style=\"color: #7f7f7f; text-decoration-color: #7f7f7f\">                 </span>│<span style=\"color: #7f7f7f; text-decoration-color: #7f7f7f\">               </span>│<span style=\"color: #7f7f7f; text-decoration-color: #7f7f7f\">               </span>│\n",
       "│<span style=\"color: #7f7f7f; text-decoration-color: #7f7f7f\">        </span>│<span style=\"color: #7f7f7f; text-decoration-color: #7f7f7f\">                 </span>│<span style=\"color: #7f7f7f; text-decoration-color: #7f7f7f\"> ensure proper    </span>│<span style=\"color: #7f7f7f; text-decoration-color: #7f7f7f\"> and fixtures']  </span>│<span style=\"color: #7f7f7f; text-decoration-color: #7f7f7f\">                 </span>│<span style=\"color: #7f7f7f; text-decoration-color: #7f7f7f\">               </span>│<span style=\"color: #7f7f7f; text-decoration-color: #7f7f7f\">               </span>│\n",
       "│<span style=\"color: #7f7f7f; text-decoration-color: #7f7f7f\">        </span>│<span style=\"color: #7f7f7f; text-decoration-color: #7f7f7f\">                 </span>│<span style=\"color: #7f7f7f; text-decoration-color: #7f7f7f\"> functionality.   </span>│<span style=\"color: #7f7f7f; text-decoration-color: #7f7f7f\">                 </span>│<span style=\"color: #7f7f7f; text-decoration-color: #7f7f7f\">                 </span>│<span style=\"color: #7f7f7f; text-decoration-color: #7f7f7f\">               </span>│<span style=\"color: #7f7f7f; text-decoration-color: #7f7f7f\">               </span>│\n",
       "├────────┼─────────────────┼──────────────────┼─────────────────┼─────────────────┼───────────────┼───────────────┤\n",
       "│<span style=\"color: #7f7f7f; text-decoration-color: #7f7f7f\"> gpt-4o </span>│<span style=\"color: #7f7f7f; text-decoration-color: #7f7f7f\"> You are a labor </span>│<span style=\"color: #7f7f7f; text-decoration-color: #7f7f7f\"> Fold dough into  </span>│<span style=\"color: #7f7f7f; text-decoration-color: #7f7f7f\"> ['Food          </span>│<span style=\"color: #7f7f7f; text-decoration-color: #7f7f7f\"> 5               </span>│<span style=\"color: #7f7f7f; text-decoration-color: #7f7f7f\"> Intermediate  </span>│<span style=\"color: #7f7f7f; text-decoration-color: #7f7f7f\"> No            </span>│\n",
       "│<span style=\"color: #7f7f7f; text-decoration-color: #7f7f7f\">        </span>│<span style=\"color: #7f7f7f; text-decoration-color: #7f7f7f\"> economist.      </span>│<span style=\"color: #7f7f7f; text-decoration-color: #7f7f7f\"> pretzel shapes   </span>│<span style=\"color: #7f7f7f; text-decoration-color: #7f7f7f\"> Preparation',   </span>│<span style=\"color: #7f7f7f; text-decoration-color: #7f7f7f\">                 </span>│<span style=\"color: #7f7f7f; text-decoration-color: #7f7f7f\">               </span>│<span style=\"color: #7f7f7f; text-decoration-color: #7f7f7f\">               </span>│\n",
       "│<span style=\"color: #7f7f7f; text-decoration-color: #7f7f7f\">        </span>│<span style=\"color: #7f7f7f; text-decoration-color: #7f7f7f\">                 </span>│<span style=\"color: #7f7f7f; text-decoration-color: #7f7f7f\"> ensuring each is </span>│<span style=\"color: #7f7f7f; text-decoration-color: #7f7f7f\"> 'Baking',       </span>│<span style=\"color: #7f7f7f; text-decoration-color: #7f7f7f\">                 </span>│<span style=\"color: #7f7f7f; text-decoration-color: #7f7f7f\">               </span>│<span style=\"color: #7f7f7f; text-decoration-color: #7f7f7f\">               </span>│\n",
       "│<span style=\"color: #7f7f7f; text-decoration-color: #7f7f7f\">        </span>│<span style=\"color: #7f7f7f; text-decoration-color: #7f7f7f\">                 </span>│<span style=\"color: #7f7f7f; text-decoration-color: #7f7f7f\"> uniformly        </span>│<span style=\"color: #7f7f7f; text-decoration-color: #7f7f7f\"> 'Pretzel        </span>│<span style=\"color: #7f7f7f; text-decoration-color: #7f7f7f\">                 </span>│<span style=\"color: #7f7f7f; text-decoration-color: #7f7f7f\">               </span>│<span style=\"color: #7f7f7f; text-decoration-color: #7f7f7f\">               </span>│\n",
       "│<span style=\"color: #7f7f7f; text-decoration-color: #7f7f7f\">        </span>│<span style=\"color: #7f7f7f; text-decoration-color: #7f7f7f\">                 </span>│<span style=\"color: #7f7f7f; text-decoration-color: #7f7f7f\"> twisted and      </span>│<span style=\"color: #7f7f7f; text-decoration-color: #7f7f7f\"> Shaping']       </span>│<span style=\"color: #7f7f7f; text-decoration-color: #7f7f7f\">                 </span>│<span style=\"color: #7f7f7f; text-decoration-color: #7f7f7f\">               </span>│<span style=\"color: #7f7f7f; text-decoration-color: #7f7f7f\">               </span>│\n",
       "│<span style=\"color: #7f7f7f; text-decoration-color: #7f7f7f\">        </span>│<span style=\"color: #7f7f7f; text-decoration-color: #7f7f7f\">                 </span>│<span style=\"color: #7f7f7f; text-decoration-color: #7f7f7f\"> perfectly salted </span>│<span style=\"color: #7f7f7f; text-decoration-color: #7f7f7f\">                 </span>│<span style=\"color: #7f7f7f; text-decoration-color: #7f7f7f\">                 </span>│<span style=\"color: #7f7f7f; text-decoration-color: #7f7f7f\">               </span>│<span style=\"color: #7f7f7f; text-decoration-color: #7f7f7f\">               </span>│\n",
       "│<span style=\"color: #7f7f7f; text-decoration-color: #7f7f7f\">        </span>│<span style=\"color: #7f7f7f; text-decoration-color: #7f7f7f\">                 </span>│<span style=\"color: #7f7f7f; text-decoration-color: #7f7f7f\"> before baking.   </span>│<span style=\"color: #7f7f7f; text-decoration-color: #7f7f7f\">                 </span>│<span style=\"color: #7f7f7f; text-decoration-color: #7f7f7f\">                 </span>│<span style=\"color: #7f7f7f; text-decoration-color: #7f7f7f\">               </span>│<span style=\"color: #7f7f7f; text-decoration-color: #7f7f7f\">               </span>│\n",
       "├────────┼─────────────────┼──────────────────┼─────────────────┼─────────────────┼───────────────┼───────────────┤\n",
       "│<span style=\"color: #7f7f7f; text-decoration-color: #7f7f7f\"> gpt-4o </span>│<span style=\"color: #7f7f7f; text-decoration-color: #7f7f7f\"> You are a labor </span>│<span style=\"color: #7f7f7f; text-decoration-color: #7f7f7f\"> Craft coffee     </span>│<span style=\"color: #7f7f7f; text-decoration-color: #7f7f7f\"> ['Service       </span>│<span style=\"color: #7f7f7f; text-decoration-color: #7f7f7f\"> 3               </span>│<span style=\"color: #7f7f7f; text-decoration-color: #7f7f7f\"> Intermediate  </span>│<span style=\"color: #7f7f7f; text-decoration-color: #7f7f7f\"> No            </span>│\n",
       "│<span style=\"color: #7f7f7f; text-decoration-color: #7f7f7f\">        </span>│<span style=\"color: #7f7f7f; text-decoration-color: #7f7f7f\"> economist.      </span>│<span style=\"color: #7f7f7f; text-decoration-color: #7f7f7f\"> drinks and       </span>│<span style=\"color: #7f7f7f; text-decoration-color: #7f7f7f\"> Industry',      </span>│<span style=\"color: #7f7f7f; text-decoration-color: #7f7f7f\">                 </span>│<span style=\"color: #7f7f7f; text-decoration-color: #7f7f7f\">               </span>│<span style=\"color: #7f7f7f; text-decoration-color: #7f7f7f\">               </span>│\n",
       "│<span style=\"color: #7f7f7f; text-decoration-color: #7f7f7f\">        </span>│<span style=\"color: #7f7f7f; text-decoration-color: #7f7f7f\">                 </span>│<span style=\"color: #7f7f7f; text-decoration-color: #7f7f7f\"> manage the       </span>│<span style=\"color: #7f7f7f; text-decoration-color: #7f7f7f\"> 'Food and       </span>│<span style=\"color: #7f7f7f; text-decoration-color: #7f7f7f\">                 </span>│<span style=\"color: #7f7f7f; text-decoration-color: #7f7f7f\">               </span>│<span style=\"color: #7f7f7f; text-decoration-color: #7f7f7f\">               </span>│\n",
       "│<span style=\"color: #7f7f7f; text-decoration-color: #7f7f7f\">        </span>│<span style=\"color: #7f7f7f; text-decoration-color: #7f7f7f\">                 </span>│<span style=\"color: #7f7f7f; text-decoration-color: #7f7f7f\"> coffee station   </span>│<span style=\"color: #7f7f7f; text-decoration-color: #7f7f7f\"> Beverage        </span>│<span style=\"color: #7f7f7f; text-decoration-color: #7f7f7f\">                 </span>│<span style=\"color: #7f7f7f; text-decoration-color: #7f7f7f\">               </span>│<span style=\"color: #7f7f7f; text-decoration-color: #7f7f7f\">               </span>│\n",
       "│<span style=\"color: #7f7f7f; text-decoration-color: #7f7f7f\">        </span>│<span style=\"color: #7f7f7f; text-decoration-color: #7f7f7f\">                 </span>│<span style=\"color: #7f7f7f; text-decoration-color: #7f7f7f\"> while providing  </span>│<span style=\"color: #7f7f7f; text-decoration-color: #7f7f7f\"> Service',       </span>│<span style=\"color: #7f7f7f; text-decoration-color: #7f7f7f\">                 </span>│<span style=\"color: #7f7f7f; text-decoration-color: #7f7f7f\">               </span>│<span style=\"color: #7f7f7f; text-decoration-color: #7f7f7f\">               </span>│\n",
       "│<span style=\"color: #7f7f7f; text-decoration-color: #7f7f7f\">        </span>│<span style=\"color: #7f7f7f; text-decoration-color: #7f7f7f\">                 </span>│<span style=\"color: #7f7f7f; text-decoration-color: #7f7f7f\"> excellent        </span>│<span style=\"color: #7f7f7f; text-decoration-color: #7f7f7f\"> 'Barista']      </span>│<span style=\"color: #7f7f7f; text-decoration-color: #7f7f7f\">                 </span>│<span style=\"color: #7f7f7f; text-decoration-color: #7f7f7f\">               </span>│<span style=\"color: #7f7f7f; text-decoration-color: #7f7f7f\">               </span>│\n",
       "│<span style=\"color: #7f7f7f; text-decoration-color: #7f7f7f\">        </span>│<span style=\"color: #7f7f7f; text-decoration-color: #7f7f7f\">                 </span>│<span style=\"color: #7f7f7f; text-decoration-color: #7f7f7f\"> customer service </span>│<span style=\"color: #7f7f7f; text-decoration-color: #7f7f7f\">                 </span>│<span style=\"color: #7f7f7f; text-decoration-color: #7f7f7f\">                 </span>│<span style=\"color: #7f7f7f; text-decoration-color: #7f7f7f\">               </span>│<span style=\"color: #7f7f7f; text-decoration-color: #7f7f7f\">               </span>│\n",
       "│<span style=\"color: #7f7f7f; text-decoration-color: #7f7f7f\">        </span>│<span style=\"color: #7f7f7f; text-decoration-color: #7f7f7f\">                 </span>│<span style=\"color: #7f7f7f; text-decoration-color: #7f7f7f\"> in a busy café.  </span>│<span style=\"color: #7f7f7f; text-decoration-color: #7f7f7f\">                 </span>│<span style=\"color: #7f7f7f; text-decoration-color: #7f7f7f\">                 </span>│<span style=\"color: #7f7f7f; text-decoration-color: #7f7f7f\">               </span>│<span style=\"color: #7f7f7f; text-decoration-color: #7f7f7f\">               </span>│\n",
       "├────────┼─────────────────┼──────────────────┼─────────────────┼─────────────────┼───────────────┼───────────────┤\n",
       "│<span style=\"color: #7f7f7f; text-decoration-color: #7f7f7f\"> gpt-4o </span>│<span style=\"color: #7f7f7f; text-decoration-color: #7f7f7f\"> You are a labor </span>│<span style=\"color: #7f7f7f; text-decoration-color: #7f7f7f\"> Assist           </span>│<span style=\"color: #7f7f7f; text-decoration-color: #7f7f7f\"> ['Animal Care', </span>│<span style=\"color: #7f7f7f; text-decoration-color: #7f7f7f\"> 4               </span>│<span style=\"color: #7f7f7f; text-decoration-color: #7f7f7f\"> Intermediate  </span>│<span style=\"color: #7f7f7f; text-decoration-color: #7f7f7f\"> Yes           </span>│\n",
       "│<span style=\"color: #7f7f7f; text-decoration-color: #7f7f7f\">        </span>│<span style=\"color: #7f7f7f; text-decoration-color: #7f7f7f\"> economist.      </span>│<span style=\"color: #7f7f7f; text-decoration-color: #7f7f7f\"> veterinarians by </span>│<span style=\"color: #7f7f7f; text-decoration-color: #7f7f7f\"> 'Veterinary     </span>│<span style=\"color: #7f7f7f; text-decoration-color: #7f7f7f\">                 </span>│<span style=\"color: #7f7f7f; text-decoration-color: #7f7f7f\">               </span>│<span style=\"color: #7f7f7f; text-decoration-color: #7f7f7f\">               </span>│\n",
       "│<span style=\"color: #7f7f7f; text-decoration-color: #7f7f7f\">        </span>│<span style=\"color: #7f7f7f; text-decoration-color: #7f7f7f\">                 </span>│<span style=\"color: #7f7f7f; text-decoration-color: #7f7f7f\"> preparing        </span>│<span style=\"color: #7f7f7f; text-decoration-color: #7f7f7f\"> Assistance',    </span>│<span style=\"color: #7f7f7f; text-decoration-color: #7f7f7f\">                 </span>│<span style=\"color: #7f7f7f; text-decoration-color: #7f7f7f\">               </span>│<span style=\"color: #7f7f7f; text-decoration-color: #7f7f7f\">               </span>│\n",
       "│<span style=\"color: #7f7f7f; text-decoration-color: #7f7f7f\">        </span>│<span style=\"color: #7f7f7f; text-decoration-color: #7f7f7f\">                 </span>│<span style=\"color: #7f7f7f; text-decoration-color: #7f7f7f\"> animals for      </span>│<span style=\"color: #7f7f7f; text-decoration-color: #7f7f7f\"> 'Surgical       </span>│<span style=\"color: #7f7f7f; text-decoration-color: #7f7f7f\">                 </span>│<span style=\"color: #7f7f7f; text-decoration-color: #7f7f7f\">               </span>│<span style=\"color: #7f7f7f; text-decoration-color: #7f7f7f\">               </span>│\n",
       "│<span style=\"color: #7f7f7f; text-decoration-color: #7f7f7f\">        </span>│<span style=\"color: #7f7f7f; text-decoration-color: #7f7f7f\">                 </span>│<span style=\"color: #7f7f7f; text-decoration-color: #7f7f7f\"> surgery,         </span>│<span style=\"color: #7f7f7f; text-decoration-color: #7f7f7f\"> Veterinary      </span>│<span style=\"color: #7f7f7f; text-decoration-color: #7f7f7f\">                 </span>│<span style=\"color: #7f7f7f; text-decoration-color: #7f7f7f\">               </span>│<span style=\"color: #7f7f7f; text-decoration-color: #7f7f7f\">               </span>│\n",
       "│<span style=\"color: #7f7f7f; text-decoration-color: #7f7f7f\">        </span>│<span style=\"color: #7f7f7f; text-decoration-color: #7f7f7f\">                 </span>│<span style=\"color: #7f7f7f; text-decoration-color: #7f7f7f\"> administering    </span>│<span style=\"color: #7f7f7f; text-decoration-color: #7f7f7f\"> Technician']    </span>│<span style=\"color: #7f7f7f; text-decoration-color: #7f7f7f\">                 </span>│<span style=\"color: #7f7f7f; text-decoration-color: #7f7f7f\">               </span>│<span style=\"color: #7f7f7f; text-decoration-color: #7f7f7f\">               </span>│\n",
       "│<span style=\"color: #7f7f7f; text-decoration-color: #7f7f7f\">        </span>│<span style=\"color: #7f7f7f; text-decoration-color: #7f7f7f\">                 </span>│<span style=\"color: #7f7f7f; text-decoration-color: #7f7f7f\"> injections, and  </span>│<span style=\"color: #7f7f7f; text-decoration-color: #7f7f7f\">                 </span>│<span style=\"color: #7f7f7f; text-decoration-color: #7f7f7f\">                 </span>│<span style=\"color: #7f7f7f; text-decoration-color: #7f7f7f\">               </span>│<span style=\"color: #7f7f7f; text-decoration-color: #7f7f7f\">               </span>│\n",
       "│<span style=\"color: #7f7f7f; text-decoration-color: #7f7f7f\">        </span>│<span style=\"color: #7f7f7f; text-decoration-color: #7f7f7f\">                 </span>│<span style=\"color: #7f7f7f; text-decoration-color: #7f7f7f\"> providing        </span>│<span style=\"color: #7f7f7f; text-decoration-color: #7f7f7f\">                 </span>│<span style=\"color: #7f7f7f; text-decoration-color: #7f7f7f\">                 </span>│<span style=\"color: #7f7f7f; text-decoration-color: #7f7f7f\">               </span>│<span style=\"color: #7f7f7f; text-decoration-color: #7f7f7f\">               </span>│\n",
       "│<span style=\"color: #7f7f7f; text-decoration-color: #7f7f7f\">        </span>│<span style=\"color: #7f7f7f; text-decoration-color: #7f7f7f\">                 </span>│<span style=\"color: #7f7f7f; text-decoration-color: #7f7f7f\"> post-operative   </span>│<span style=\"color: #7f7f7f; text-decoration-color: #7f7f7f\">                 </span>│<span style=\"color: #7f7f7f; text-decoration-color: #7f7f7f\">                 </span>│<span style=\"color: #7f7f7f; text-decoration-color: #7f7f7f\">               </span>│<span style=\"color: #7f7f7f; text-decoration-color: #7f7f7f\">               </span>│\n",
       "│<span style=\"color: #7f7f7f; text-decoration-color: #7f7f7f\">        </span>│<span style=\"color: #7f7f7f; text-decoration-color: #7f7f7f\">                 </span>│<span style=\"color: #7f7f7f; text-decoration-color: #7f7f7f\"> care.            </span>│<span style=\"color: #7f7f7f; text-decoration-color: #7f7f7f\">                 </span>│<span style=\"color: #7f7f7f; text-decoration-color: #7f7f7f\">                 </span>│<span style=\"color: #7f7f7f; text-decoration-color: #7f7f7f\">               </span>│<span style=\"color: #7f7f7f; text-decoration-color: #7f7f7f\">               </span>│\n",
       "└────────┴─────────────────┴──────────────────┴─────────────────┴─────────────────┴───────────────┴───────────────┘\n",
       "</pre>\n"
      ],
      "text/plain": [
       "┏━━━━━━━━┳━━━━━━━━━━━━━━━━━┳━━━━━━━━━━━━━━━━━━┳━━━━━━━━━━━━━━━━━┳━━━━━━━━━━━━━━━━━┳━━━━━━━━━━━━━━━┳━━━━━━━━━━━━━━━┓\n",
       "┃\u001b[1;35m \u001b[0m\u001b[1;35mmodel \u001b[0m\u001b[1;35m \u001b[0m┃\u001b[1;35m \u001b[0m\u001b[1;35magent          \u001b[0m\u001b[1;35m \u001b[0m┃\u001b[1;35m \u001b[0m\u001b[1;35mscenario        \u001b[0m\u001b[1;35m \u001b[0m┃\u001b[1;35m \u001b[0m\u001b[1;35manswer         \u001b[0m\u001b[1;35m \u001b[0m┃\u001b[1;35m \u001b[0m\u001b[1;35manswer         \u001b[0m\u001b[1;35m \u001b[0m┃\u001b[1;35m \u001b[0m\u001b[1;35manswer       \u001b[0m\u001b[1;35m \u001b[0m┃\u001b[1;35m \u001b[0m\u001b[1;35manswer       \u001b[0m\u001b[1;35m \u001b[0m┃\n",
       "┃\u001b[1;35m \u001b[0m\u001b[1;35m.model\u001b[0m\u001b[1;35m \u001b[0m┃\u001b[1;35m \u001b[0m\u001b[1;35m.persona       \u001b[0m\u001b[1;35m \u001b[0m┃\u001b[1;35m \u001b[0m\u001b[1;35m.job_post       \u001b[0m\u001b[1;35m \u001b[0m┃\u001b[1;35m \u001b[0m\u001b[1;35m.category_list \u001b[0m\u001b[1;35m \u001b[0m┃\u001b[1;35m \u001b[0m\u001b[1;35m.specific_scale\u001b[0m\u001b[1;35m \u001b[0m┃\u001b[1;35m \u001b[0m\u001b[1;35m.skill_choice\u001b[0m\u001b[1;35m \u001b[0m┃\u001b[1;35m \u001b[0m\u001b[1;35m.technical_yn\u001b[0m\u001b[1;35m \u001b[0m┃\n",
       "┡━━━━━━━━╇━━━━━━━━━━━━━━━━━╇━━━━━━━━━━━━━━━━━━╇━━━━━━━━━━━━━━━━━╇━━━━━━━━━━━━━━━━━╇━━━━━━━━━━━━━━━╇━━━━━━━━━━━━━━━┩\n",
       "│\u001b[2m \u001b[0m\u001b[2mgpt-4o\u001b[0m\u001b[2m \u001b[0m│\u001b[2m \u001b[0m\u001b[2mYou are a labor\u001b[0m\u001b[2m \u001b[0m│\u001b[2m \u001b[0m\u001b[2mDesign creative \u001b[0m\u001b[2m \u001b[0m│\u001b[2m \u001b[0m\u001b[2m['Graphic      \u001b[0m\u001b[2m \u001b[0m│\u001b[2m \u001b[0m\u001b[2m3              \u001b[0m\u001b[2m \u001b[0m│\u001b[2m \u001b[0m\u001b[2mAdvanced     \u001b[0m\u001b[2m \u001b[0m│\u001b[2m \u001b[0m\u001b[2mYes          \u001b[0m\u001b[2m \u001b[0m│\n",
       "│\u001b[2m        \u001b[0m│\u001b[2m \u001b[0m\u001b[2meconomist.     \u001b[0m\u001b[2m \u001b[0m│\u001b[2m \u001b[0m\u001b[2mvisual content  \u001b[0m\u001b[2m \u001b[0m│\u001b[2m \u001b[0m\u001b[2mDesign',       \u001b[0m\u001b[2m \u001b[0m│\u001b[2m                 \u001b[0m│\u001b[2m               \u001b[0m│\u001b[2m               \u001b[0m│\n",
       "│\u001b[2m        \u001b[0m│\u001b[2m                 \u001b[0m│\u001b[2m \u001b[0m\u001b[2mfor marketing   \u001b[0m\u001b[2m \u001b[0m│\u001b[2m \u001b[0m\u001b[2m'Marketing     \u001b[0m\u001b[2m \u001b[0m│\u001b[2m                 \u001b[0m│\u001b[2m               \u001b[0m│\u001b[2m               \u001b[0m│\n",
       "│\u001b[2m        \u001b[0m│\u001b[2m                 \u001b[0m│\u001b[2m \u001b[0m\u001b[2mmaterials,      \u001b[0m\u001b[2m \u001b[0m│\u001b[2m \u001b[0m\u001b[2mVisual Content \u001b[0m\u001b[2m \u001b[0m│\u001b[2m                 \u001b[0m│\u001b[2m               \u001b[0m│\u001b[2m               \u001b[0m│\n",
       "│\u001b[2m        \u001b[0m│\u001b[2m                 \u001b[0m│\u001b[2m \u001b[0m\u001b[2mincluding       \u001b[0m\u001b[2m \u001b[0m│\u001b[2m \u001b[0m\u001b[2mCreation',     \u001b[0m\u001b[2m \u001b[0m│\u001b[2m                 \u001b[0m│\u001b[2m               \u001b[0m│\u001b[2m               \u001b[0m│\n",
       "│\u001b[2m        \u001b[0m│\u001b[2m                 \u001b[0m│\u001b[2m \u001b[0m\u001b[2mbrochures,      \u001b[0m\u001b[2m \u001b[0m│\u001b[2m \u001b[0m\u001b[2m'Adobe Creative\u001b[0m\u001b[2m \u001b[0m│\u001b[2m                 \u001b[0m│\u001b[2m               \u001b[0m│\u001b[2m               \u001b[0m│\n",
       "│\u001b[2m        \u001b[0m│\u001b[2m                 \u001b[0m│\u001b[2m \u001b[0m\u001b[2mbanners, and    \u001b[0m\u001b[2m \u001b[0m│\u001b[2m \u001b[0m\u001b[2mSuite          \u001b[0m\u001b[2m \u001b[0m│\u001b[2m                 \u001b[0m│\u001b[2m               \u001b[0m│\u001b[2m               \u001b[0m│\n",
       "│\u001b[2m        \u001b[0m│\u001b[2m                 \u001b[0m│\u001b[2m \u001b[0m\u001b[2mdigital ads,    \u001b[0m\u001b[2m \u001b[0m│\u001b[2m \u001b[0m\u001b[2mExpertise']    \u001b[0m\u001b[2m \u001b[0m│\u001b[2m                 \u001b[0m│\u001b[2m               \u001b[0m│\u001b[2m               \u001b[0m│\n",
       "│\u001b[2m        \u001b[0m│\u001b[2m                 \u001b[0m│\u001b[2m \u001b[0m\u001b[2musing Adobe     \u001b[0m\u001b[2m \u001b[0m│\u001b[2m                 \u001b[0m│\u001b[2m                 \u001b[0m│\u001b[2m               \u001b[0m│\u001b[2m               \u001b[0m│\n",
       "│\u001b[2m        \u001b[0m│\u001b[2m                 \u001b[0m│\u001b[2m \u001b[0m\u001b[2mCreative Suite. \u001b[0m\u001b[2m \u001b[0m│\u001b[2m                 \u001b[0m│\u001b[2m                 \u001b[0m│\u001b[2m               \u001b[0m│\u001b[2m               \u001b[0m│\n",
       "├────────┼─────────────────┼──────────────────┼─────────────────┼─────────────────┼───────────────┼───────────────┤\n",
       "│\u001b[2m \u001b[0m\u001b[2mgpt-4o\u001b[0m\u001b[2m \u001b[0m│\u001b[2m \u001b[0m\u001b[2mYou are a labor\u001b[0m\u001b[2m \u001b[0m│\u001b[2m \u001b[0m\u001b[2mInstall and     \u001b[0m\u001b[2m \u001b[0m│\u001b[2m \u001b[0m\u001b[2m['Install and  \u001b[0m\u001b[2m \u001b[0m│\u001b[2m \u001b[0m\u001b[2m4              \u001b[0m\u001b[2m \u001b[0m│\u001b[2m \u001b[0m\u001b[2mAdvanced     \u001b[0m\u001b[2m \u001b[0m│\u001b[2m \u001b[0m\u001b[2mYes          \u001b[0m\u001b[2m \u001b[0m│\n",
       "│\u001b[2m        \u001b[0m│\u001b[2m \u001b[0m\u001b[2meconomist.     \u001b[0m\u001b[2m \u001b[0m│\u001b[2m \u001b[0m\u001b[2mrepair          \u001b[0m\u001b[2m \u001b[0m│\u001b[2m \u001b[0m\u001b[2mrepair plumbing\u001b[0m\u001b[2m \u001b[0m│\u001b[2m                 \u001b[0m│\u001b[2m               \u001b[0m│\u001b[2m               \u001b[0m│\n",
       "│\u001b[2m        \u001b[0m│\u001b[2m                 \u001b[0m│\u001b[2m \u001b[0m\u001b[2mresidential     \u001b[0m\u001b[2m \u001b[0m│\u001b[2m \u001b[0m\u001b[2msystems',      \u001b[0m\u001b[2m \u001b[0m│\u001b[2m                 \u001b[0m│\u001b[2m               \u001b[0m│\u001b[2m               \u001b[0m│\n",
       "│\u001b[2m        \u001b[0m│\u001b[2m                 \u001b[0m│\u001b[2m \u001b[0m\u001b[2mplumbing        \u001b[0m\u001b[2m \u001b[0m│\u001b[2m \u001b[0m\u001b[2m'Install and   \u001b[0m\u001b[2m \u001b[0m│\u001b[2m                 \u001b[0m│\u001b[2m               \u001b[0m│\u001b[2m               \u001b[0m│\n",
       "│\u001b[2m        \u001b[0m│\u001b[2m                 \u001b[0m│\u001b[2m \u001b[0m\u001b[2msystems,        \u001b[0m\u001b[2m \u001b[0m│\u001b[2m \u001b[0m\u001b[2mrepair water   \u001b[0m\u001b[2m \u001b[0m│\u001b[2m                 \u001b[0m│\u001b[2m               \u001b[0m│\u001b[2m               \u001b[0m│\n",
       "│\u001b[2m        \u001b[0m│\u001b[2m                 \u001b[0m│\u001b[2m \u001b[0m\u001b[2mincluding water \u001b[0m\u001b[2m \u001b[0m│\u001b[2m \u001b[0m\u001b[2mheaters',      \u001b[0m\u001b[2m \u001b[0m│\u001b[2m                 \u001b[0m│\u001b[2m               \u001b[0m│\u001b[2m               \u001b[0m│\n",
       "│\u001b[2m        \u001b[0m│\u001b[2m                 \u001b[0m│\u001b[2m \u001b[0m\u001b[2mheaters, pipes, \u001b[0m\u001b[2m \u001b[0m│\u001b[2m \u001b[0m\u001b[2m'Install and   \u001b[0m\u001b[2m \u001b[0m│\u001b[2m                 \u001b[0m│\u001b[2m               \u001b[0m│\u001b[2m               \u001b[0m│\n",
       "│\u001b[2m        \u001b[0m│\u001b[2m                 \u001b[0m│\u001b[2m \u001b[0m\u001b[2mand fixtures to \u001b[0m\u001b[2m \u001b[0m│\u001b[2m \u001b[0m\u001b[2mrepair pipes   \u001b[0m\u001b[2m \u001b[0m│\u001b[2m                 \u001b[0m│\u001b[2m               \u001b[0m│\u001b[2m               \u001b[0m│\n",
       "│\u001b[2m        \u001b[0m│\u001b[2m                 \u001b[0m│\u001b[2m \u001b[0m\u001b[2mensure proper   \u001b[0m\u001b[2m \u001b[0m│\u001b[2m \u001b[0m\u001b[2mand fixtures'] \u001b[0m\u001b[2m \u001b[0m│\u001b[2m                 \u001b[0m│\u001b[2m               \u001b[0m│\u001b[2m               \u001b[0m│\n",
       "│\u001b[2m        \u001b[0m│\u001b[2m                 \u001b[0m│\u001b[2m \u001b[0m\u001b[2mfunctionality.  \u001b[0m\u001b[2m \u001b[0m│\u001b[2m                 \u001b[0m│\u001b[2m                 \u001b[0m│\u001b[2m               \u001b[0m│\u001b[2m               \u001b[0m│\n",
       "├────────┼─────────────────┼──────────────────┼─────────────────┼─────────────────┼───────────────┼───────────────┤\n",
       "│\u001b[2m \u001b[0m\u001b[2mgpt-4o\u001b[0m\u001b[2m \u001b[0m│\u001b[2m \u001b[0m\u001b[2mYou are a labor\u001b[0m\u001b[2m \u001b[0m│\u001b[2m \u001b[0m\u001b[2mFold dough into \u001b[0m\u001b[2m \u001b[0m│\u001b[2m \u001b[0m\u001b[2m['Food         \u001b[0m\u001b[2m \u001b[0m│\u001b[2m \u001b[0m\u001b[2m5              \u001b[0m\u001b[2m \u001b[0m│\u001b[2m \u001b[0m\u001b[2mIntermediate \u001b[0m\u001b[2m \u001b[0m│\u001b[2m \u001b[0m\u001b[2mNo           \u001b[0m\u001b[2m \u001b[0m│\n",
       "│\u001b[2m        \u001b[0m│\u001b[2m \u001b[0m\u001b[2meconomist.     \u001b[0m\u001b[2m \u001b[0m│\u001b[2m \u001b[0m\u001b[2mpretzel shapes  \u001b[0m\u001b[2m \u001b[0m│\u001b[2m \u001b[0m\u001b[2mPreparation',  \u001b[0m\u001b[2m \u001b[0m│\u001b[2m                 \u001b[0m│\u001b[2m               \u001b[0m│\u001b[2m               \u001b[0m│\n",
       "│\u001b[2m        \u001b[0m│\u001b[2m                 \u001b[0m│\u001b[2m \u001b[0m\u001b[2mensuring each is\u001b[0m\u001b[2m \u001b[0m│\u001b[2m \u001b[0m\u001b[2m'Baking',      \u001b[0m\u001b[2m \u001b[0m│\u001b[2m                 \u001b[0m│\u001b[2m               \u001b[0m│\u001b[2m               \u001b[0m│\n",
       "│\u001b[2m        \u001b[0m│\u001b[2m                 \u001b[0m│\u001b[2m \u001b[0m\u001b[2muniformly       \u001b[0m\u001b[2m \u001b[0m│\u001b[2m \u001b[0m\u001b[2m'Pretzel       \u001b[0m\u001b[2m \u001b[0m│\u001b[2m                 \u001b[0m│\u001b[2m               \u001b[0m│\u001b[2m               \u001b[0m│\n",
       "│\u001b[2m        \u001b[0m│\u001b[2m                 \u001b[0m│\u001b[2m \u001b[0m\u001b[2mtwisted and     \u001b[0m\u001b[2m \u001b[0m│\u001b[2m \u001b[0m\u001b[2mShaping']      \u001b[0m\u001b[2m \u001b[0m│\u001b[2m                 \u001b[0m│\u001b[2m               \u001b[0m│\u001b[2m               \u001b[0m│\n",
       "│\u001b[2m        \u001b[0m│\u001b[2m                 \u001b[0m│\u001b[2m \u001b[0m\u001b[2mperfectly salted\u001b[0m\u001b[2m \u001b[0m│\u001b[2m                 \u001b[0m│\u001b[2m                 \u001b[0m│\u001b[2m               \u001b[0m│\u001b[2m               \u001b[0m│\n",
       "│\u001b[2m        \u001b[0m│\u001b[2m                 \u001b[0m│\u001b[2m \u001b[0m\u001b[2mbefore baking.  \u001b[0m\u001b[2m \u001b[0m│\u001b[2m                 \u001b[0m│\u001b[2m                 \u001b[0m│\u001b[2m               \u001b[0m│\u001b[2m               \u001b[0m│\n",
       "├────────┼─────────────────┼──────────────────┼─────────────────┼─────────────────┼───────────────┼───────────────┤\n",
       "│\u001b[2m \u001b[0m\u001b[2mgpt-4o\u001b[0m\u001b[2m \u001b[0m│\u001b[2m \u001b[0m\u001b[2mYou are a labor\u001b[0m\u001b[2m \u001b[0m│\u001b[2m \u001b[0m\u001b[2mCraft coffee    \u001b[0m\u001b[2m \u001b[0m│\u001b[2m \u001b[0m\u001b[2m['Service      \u001b[0m\u001b[2m \u001b[0m│\u001b[2m \u001b[0m\u001b[2m3              \u001b[0m\u001b[2m \u001b[0m│\u001b[2m \u001b[0m\u001b[2mIntermediate \u001b[0m\u001b[2m \u001b[0m│\u001b[2m \u001b[0m\u001b[2mNo           \u001b[0m\u001b[2m \u001b[0m│\n",
       "│\u001b[2m        \u001b[0m│\u001b[2m \u001b[0m\u001b[2meconomist.     \u001b[0m\u001b[2m \u001b[0m│\u001b[2m \u001b[0m\u001b[2mdrinks and      \u001b[0m\u001b[2m \u001b[0m│\u001b[2m \u001b[0m\u001b[2mIndustry',     \u001b[0m\u001b[2m \u001b[0m│\u001b[2m                 \u001b[0m│\u001b[2m               \u001b[0m│\u001b[2m               \u001b[0m│\n",
       "│\u001b[2m        \u001b[0m│\u001b[2m                 \u001b[0m│\u001b[2m \u001b[0m\u001b[2mmanage the      \u001b[0m\u001b[2m \u001b[0m│\u001b[2m \u001b[0m\u001b[2m'Food and      \u001b[0m\u001b[2m \u001b[0m│\u001b[2m                 \u001b[0m│\u001b[2m               \u001b[0m│\u001b[2m               \u001b[0m│\n",
       "│\u001b[2m        \u001b[0m│\u001b[2m                 \u001b[0m│\u001b[2m \u001b[0m\u001b[2mcoffee station  \u001b[0m\u001b[2m \u001b[0m│\u001b[2m \u001b[0m\u001b[2mBeverage       \u001b[0m\u001b[2m \u001b[0m│\u001b[2m                 \u001b[0m│\u001b[2m               \u001b[0m│\u001b[2m               \u001b[0m│\n",
       "│\u001b[2m        \u001b[0m│\u001b[2m                 \u001b[0m│\u001b[2m \u001b[0m\u001b[2mwhile providing \u001b[0m\u001b[2m \u001b[0m│\u001b[2m \u001b[0m\u001b[2mService',      \u001b[0m\u001b[2m \u001b[0m│\u001b[2m                 \u001b[0m│\u001b[2m               \u001b[0m│\u001b[2m               \u001b[0m│\n",
       "│\u001b[2m        \u001b[0m│\u001b[2m                 \u001b[0m│\u001b[2m \u001b[0m\u001b[2mexcellent       \u001b[0m\u001b[2m \u001b[0m│\u001b[2m \u001b[0m\u001b[2m'Barista']     \u001b[0m\u001b[2m \u001b[0m│\u001b[2m                 \u001b[0m│\u001b[2m               \u001b[0m│\u001b[2m               \u001b[0m│\n",
       "│\u001b[2m        \u001b[0m│\u001b[2m                 \u001b[0m│\u001b[2m \u001b[0m\u001b[2mcustomer service\u001b[0m\u001b[2m \u001b[0m│\u001b[2m                 \u001b[0m│\u001b[2m                 \u001b[0m│\u001b[2m               \u001b[0m│\u001b[2m               \u001b[0m│\n",
       "│\u001b[2m        \u001b[0m│\u001b[2m                 \u001b[0m│\u001b[2m \u001b[0m\u001b[2min a busy café. \u001b[0m\u001b[2m \u001b[0m│\u001b[2m                 \u001b[0m│\u001b[2m                 \u001b[0m│\u001b[2m               \u001b[0m│\u001b[2m               \u001b[0m│\n",
       "├────────┼─────────────────┼──────────────────┼─────────────────┼─────────────────┼───────────────┼───────────────┤\n",
       "│\u001b[2m \u001b[0m\u001b[2mgpt-4o\u001b[0m\u001b[2m \u001b[0m│\u001b[2m \u001b[0m\u001b[2mYou are a labor\u001b[0m\u001b[2m \u001b[0m│\u001b[2m \u001b[0m\u001b[2mAssist          \u001b[0m\u001b[2m \u001b[0m│\u001b[2m \u001b[0m\u001b[2m['Animal Care',\u001b[0m\u001b[2m \u001b[0m│\u001b[2m \u001b[0m\u001b[2m4              \u001b[0m\u001b[2m \u001b[0m│\u001b[2m \u001b[0m\u001b[2mIntermediate \u001b[0m\u001b[2m \u001b[0m│\u001b[2m \u001b[0m\u001b[2mYes          \u001b[0m\u001b[2m \u001b[0m│\n",
       "│\u001b[2m        \u001b[0m│\u001b[2m \u001b[0m\u001b[2meconomist.     \u001b[0m\u001b[2m \u001b[0m│\u001b[2m \u001b[0m\u001b[2mveterinarians by\u001b[0m\u001b[2m \u001b[0m│\u001b[2m \u001b[0m\u001b[2m'Veterinary    \u001b[0m\u001b[2m \u001b[0m│\u001b[2m                 \u001b[0m│\u001b[2m               \u001b[0m│\u001b[2m               \u001b[0m│\n",
       "│\u001b[2m        \u001b[0m│\u001b[2m                 \u001b[0m│\u001b[2m \u001b[0m\u001b[2mpreparing       \u001b[0m\u001b[2m \u001b[0m│\u001b[2m \u001b[0m\u001b[2mAssistance',   \u001b[0m\u001b[2m \u001b[0m│\u001b[2m                 \u001b[0m│\u001b[2m               \u001b[0m│\u001b[2m               \u001b[0m│\n",
       "│\u001b[2m        \u001b[0m│\u001b[2m                 \u001b[0m│\u001b[2m \u001b[0m\u001b[2manimals for     \u001b[0m\u001b[2m \u001b[0m│\u001b[2m \u001b[0m\u001b[2m'Surgical      \u001b[0m\u001b[2m \u001b[0m│\u001b[2m                 \u001b[0m│\u001b[2m               \u001b[0m│\u001b[2m               \u001b[0m│\n",
       "│\u001b[2m        \u001b[0m│\u001b[2m                 \u001b[0m│\u001b[2m \u001b[0m\u001b[2msurgery,        \u001b[0m\u001b[2m \u001b[0m│\u001b[2m \u001b[0m\u001b[2mVeterinary     \u001b[0m\u001b[2m \u001b[0m│\u001b[2m                 \u001b[0m│\u001b[2m               \u001b[0m│\u001b[2m               \u001b[0m│\n",
       "│\u001b[2m        \u001b[0m│\u001b[2m                 \u001b[0m│\u001b[2m \u001b[0m\u001b[2madministering   \u001b[0m\u001b[2m \u001b[0m│\u001b[2m \u001b[0m\u001b[2mTechnician']   \u001b[0m\u001b[2m \u001b[0m│\u001b[2m                 \u001b[0m│\u001b[2m               \u001b[0m│\u001b[2m               \u001b[0m│\n",
       "│\u001b[2m        \u001b[0m│\u001b[2m                 \u001b[0m│\u001b[2m \u001b[0m\u001b[2minjections, and \u001b[0m\u001b[2m \u001b[0m│\u001b[2m                 \u001b[0m│\u001b[2m                 \u001b[0m│\u001b[2m               \u001b[0m│\u001b[2m               \u001b[0m│\n",
       "│\u001b[2m        \u001b[0m│\u001b[2m                 \u001b[0m│\u001b[2m \u001b[0m\u001b[2mproviding       \u001b[0m\u001b[2m \u001b[0m│\u001b[2m                 \u001b[0m│\u001b[2m                 \u001b[0m│\u001b[2m               \u001b[0m│\u001b[2m               \u001b[0m│\n",
       "│\u001b[2m        \u001b[0m│\u001b[2m                 \u001b[0m│\u001b[2m \u001b[0m\u001b[2mpost-operative  \u001b[0m\u001b[2m \u001b[0m│\u001b[2m                 \u001b[0m│\u001b[2m                 \u001b[0m│\u001b[2m               \u001b[0m│\u001b[2m               \u001b[0m│\n",
       "│\u001b[2m        \u001b[0m│\u001b[2m                 \u001b[0m│\u001b[2m \u001b[0m\u001b[2mcare.           \u001b[0m\u001b[2m \u001b[0m│\u001b[2m                 \u001b[0m│\u001b[2m                 \u001b[0m│\u001b[2m               \u001b[0m│\u001b[2m               \u001b[0m│\n",
       "└────────┴─────────────────┴──────────────────┴─────────────────┴─────────────────┴───────────────┴───────────────┘\n"
      ]
     },
     "metadata": {},
     "output_type": "display_data"
    }
   ],
   "source": [
    "(\n",
    "    results\n",
    "    .filter(\"specific_scale in [3,4,5]\")\n",
    "    .sort_by(\"skill_choice\")\n",
    "    .select(\n",
    "        \"model\",\n",
    "        \"persona\",\n",
    "        \"job_post\",\n",
    "        \"category_list\",\n",
    "        \"specific_scale\",\n",
    "        \"skill_choice\",\n",
    "        \"technical_yn\",\n",
    "    )\n",
    "    .print(pretty_labels={}, format=\"rich\", max_rows=5)\n",
    ")"
   ]
  },
  {
   "cell_type": "code",
   "execution_count": 14,
   "id": "966225f7-5a8e-477f-bbaf-155f06945ee1",
   "metadata": {
    "editable": true,
    "slideshow": {
     "slide_type": ""
    },
    "tags": []
   },
   "outputs": [
    {
     "data": {
      "text/html": [
       "<pre style=\"white-space:pre;overflow-x:auto;line-height:normal;font-family:Menlo,'DejaVu Sans Mono',consolas,'Courier New',monospace\">┏━━━━━━━━━━━━━━━━━━━━━━━━━━━━━━━━━━━━━━━━━━━━━━━━━━━━━━━━━━━━━━━━━━━━━━━━━━━━━━━━━━━━━━━━━━━━━━━━━━━━━━━━━━━━━━━━━┓\n",
       "┃<span style=\"color: #800080; text-decoration-color: #800080; font-weight: bold\"> answer                                                                                                          </span>┃\n",
       "┃<span style=\"color: #800080; text-decoration-color: #800080; font-weight: bold\"> .rewrite_text                                                                                                   </span>┃\n",
       "┡━━━━━━━━━━━━━━━━━━━━━━━━━━━━━━━━━━━━━━━━━━━━━━━━━━━━━━━━━━━━━━━━━━━━━━━━━━━━━━━━━━━━━━━━━━━━━━━━━━━━━━━━━━━━━━━━━┩\n",
       "│<span style=\"color: #7f7f7f; text-decoration-color: #7f7f7f\"> We are seeking a dedicated Customer Service Representative to manage and resolve customer inquiries and issues  </span>│\n",
       "│<span style=\"color: #7f7f7f; text-decoration-color: #7f7f7f\"> through phone and email communications. The ideal candidate will ensure high levels of customer satisfaction by </span>│\n",
       "│<span style=\"color: #7f7f7f; text-decoration-color: #7f7f7f\"> providing timely and effective solutions.                                                                       </span>│\n",
       "├─────────────────────────────────────────────────────────────────────────────────────────────────────────────────┤\n",
       "│<span style=\"color: #7f7f7f; text-decoration-color: #7f7f7f\"> We are seeking a talented writer to create captivating and informative blog posts on health and wellness        </span>│\n",
       "│<span style=\"color: #7f7f7f; text-decoration-color: #7f7f7f\"> topics. Your work will play a crucial role in driving website traffic and engaging our readers.                 </span>│\n",
       "├─────────────────────────────────────────────────────────────────────────────────────────────────────────────────┤\n",
       "│<span style=\"color: #7f7f7f; text-decoration-color: #7f7f7f\"> We are seeking a dynamic and customer-focused professional to drive sales by engaging with clients,             </span>│\n",
       "│<span style=\"color: #7f7f7f; text-decoration-color: #7f7f7f\"> understanding their unique needs, and offering tailored product solutions. If you have a passion for building   </span>│\n",
       "│<span style=\"color: #7f7f7f; text-decoration-color: #7f7f7f\"> relationships and delivering exceptional service, we want to hear from you!                                     </span>│\n",
       "├─────────────────────────────────────────────────────────────────────────────────────────────────────────────────┤\n",
       "│<span style=\"color: #7f7f7f; text-decoration-color: #7f7f7f\"> Join our culinary team and showcase your talent by preparing exquisite gourmet dishes that adhere to our high   </span>│\n",
       "│<span style=\"color: #7f7f7f; text-decoration-color: #7f7f7f\"> restaurant standards. Delight our customers with your creativity and unique flavor combinations, ensuring an    </span>│\n",
       "│<span style=\"color: #7f7f7f; text-decoration-color: #7f7f7f\"> exceptional dining experience with every meal.                                                                  </span>│\n",
       "├─────────────────────────────────────────────────────────────────────────────────────────────────────────────────┤\n",
       "│<span style=\"color: #7f7f7f; text-decoration-color: #7f7f7f\"> We're seeking a dynamic Marketing Strategist to develop and implement comprehensive marketing strategies that   </span>│\n",
       "│<span style=\"color: #7f7f7f; text-decoration-color: #7f7f7f\"> align with our company's goals. This role involves creating and executing impactful digital campaigns and       </span>│\n",
       "│<span style=\"color: #7f7f7f; text-decoration-color: #7f7f7f\"> enhancing our brand presence.                                                                                   </span>│\n",
       "├─────────────────────────────────────────────────────────────────────────────────────────────────────────────────┤\n",
       "│<span style=\"color: #7f7f7f; text-decoration-color: #7f7f7f\"> We are seeking a talented Graphic Designer to join our team. In this role, you will create visually engaging    </span>│\n",
       "│<span style=\"color: #7f7f7f; text-decoration-color: #7f7f7f\"> marketing materials, including brochures, banners, and digital ads, utilizing Adobe Creative Suite. Your        </span>│\n",
       "│<span style=\"color: #7f7f7f; text-decoration-color: #7f7f7f\"> creativity and attention to detail will help us effectively communicate our brand message and captivate our     </span>│\n",
       "│<span style=\"color: #7f7f7f; text-decoration-color: #7f7f7f\"> audience.                                                                                                       </span>│\n",
       "├─────────────────────────────────────────────────────────────────────────────────────────────────────────────────┤\n",
       "│<span style=\"color: #7f7f7f; text-decoration-color: #7f7f7f\"> Join our dynamic team as a Software Developer, where you will leverage your expertise in Python and Java to     </span>│\n",
       "│<span style=\"color: #7f7f7f; text-decoration-color: #7f7f7f\"> design, develop, and maintain innovative software solutions that enhance our business operations. Your          </span>│\n",
       "│<span style=\"color: #7f7f7f; text-decoration-color: #7f7f7f\"> contributions will be pivotal in streamlining processes and driving efficiency across the organization. If you  </span>│\n",
       "│<span style=\"color: #7f7f7f; text-decoration-color: #7f7f7f\"> are passionate about creating robust and scalable systems, we want to hear from you!                            </span>│\n",
       "├─────────────────────────────────────────────────────────────────────────────────────────────────────────────────┤\n",
       "│<span style=\"color: #7f7f7f; text-decoration-color: #7f7f7f\"> Job Opportunity: HR Manager                                                                                     </span>│\n",
       "│<span style=\"color: #7f7f7f; text-decoration-color: #7f7f7f\">                                                                                                                 </span>│\n",
       "│<span style=\"color: #7f7f7f; text-decoration-color: #7f7f7f\"> We are seeking a dedicated HR Manager to join our team. In this role, you will:                                 </span>│\n",
       "│<span style=\"color: #7f7f7f; text-decoration-color: #7f7f7f\">                                                                                                                 </span>│\n",
       "│<span style=\"color: #7f7f7f; text-decoration-color: #7f7f7f\"> - Lead and manage the recruitment process to attract top talent.                                                </span>│\n",
       "│<span style=\"color: #7f7f7f; text-decoration-color: #7f7f7f\"> - Conduct comprehensive interviews to identify the best candidates.                                             </span>│\n",
       "│<span style=\"color: #7f7f7f; text-decoration-color: #7f7f7f\"> - Oversee and enhance employee benefit programs to ensure a motivated and satisfied workforce.                  </span>│\n",
       "├─────────────────────────────────────────────────────────────────────────────────────────────────────────────────┤\n",
       "│<span style=\"color: #7f7f7f; text-decoration-color: #7f7f7f\"> Job Opportunity: Expert Pretzel Maker                                                                           </span>│\n",
       "├─────────────────────────────────────────────────────────────────────────────────────────────────────────────────┤\n",
       "│<span style=\"color: #7f7f7f; text-decoration-color: #7f7f7f\"> Job Opportunity: Barista and Coffee Station Manager                                                             </span>│\n",
       "├─────────────────────────────────────────────────────────────────────────────────────────────────────────────────┤\n",
       "│<span style=\"color: #7f7f7f; text-decoration-color: #7f7f7f\"> Join our dynamic team as a Fitness Instructor!                                                                  </span>│\n",
       "├─────────────────────────────────────────────────────────────────────────────────────────────────────────────────┤\n",
       "│<span style=\"color: #7f7f7f; text-decoration-color: #7f7f7f\"> We are seeking a dynamic and visionary leader to spearhead our creative campaigns from inception to completion. </span>│\n",
       "│<span style=\"color: #7f7f7f; text-decoration-color: #7f7f7f\"> In this role, you will collaborate closely with graphic designers and content creators to bring innovative      </span>│\n",
       "│<span style=\"color: #7f7f7f; text-decoration-color: #7f7f7f\"> concepts to life. If you have a passion for creativity and a knack for project management, we want to hear from </span>│\n",
       "│<span style=\"color: #7f7f7f; text-decoration-color: #7f7f7f\"> you.                                                                                                            </span>│\n",
       "├─────────────────────────────────────────────────────────────────────────────────────────────────────────────────┤\n",
       "│<span style=\"color: #7f7f7f; text-decoration-color: #7f7f7f\"> Join our team as a Landscape Designer and create stunning, functional outdoor spaces for a diverse range of     </span>│\n",
       "│<span style=\"color: #7f7f7f; text-decoration-color: #7f7f7f\"> clients. From crafting serene residential gardens to designing vibrant public parks, your expertise will bring  </span>│\n",
       "│<span style=\"color: #7f7f7f; text-decoration-color: #7f7f7f\"> beauty and practicality to every project.                                                                       </span>│\n",
       "├─────────────────────────────────────────────────────────────────────────────────────────────────────────────────┤\n",
       "│<span style=\"color: #7f7f7f; text-decoration-color: #7f7f7f\"> **Job Opportunity: Electrical Technician**                                                                      </span>│\n",
       "│<span style=\"color: #7f7f7f; text-decoration-color: #7f7f7f\">                                                                                                                 </span>│\n",
       "│<span style=\"color: #7f7f7f; text-decoration-color: #7f7f7f\"> We are seeking a skilled Electrical Technician to join our team. In this role, you will be responsible for      </span>│\n",
       "│<span style=\"color: #7f7f7f; text-decoration-color: #7f7f7f\"> installing, maintaining, and repairing electrical wiring, equipment, and fixtures to ensure their safe and      </span>│\n",
       "│<span style=\"color: #7f7f7f; text-decoration-color: #7f7f7f\"> efficient operation.                                                                                            </span>│\n",
       "│<span style=\"color: #7f7f7f; text-decoration-color: #7f7f7f\">                                                                                                                 </span>│\n",
       "│<span style=\"color: #7f7f7f; text-decoration-color: #7f7f7f\"> **Key Responsibilities:**                                                                                       </span>│\n",
       "│<span style=\"color: #7f7f7f; text-decoration-color: #7f7f7f\"> - Install electrical systems and components according to specifications and safety standards.                   </span>│\n",
       "│<span style=\"color: #7f7f7f; text-decoration-color: #7f7f7f\"> - Perform routine maintenance and inspections to ensure optimal performance of electrical equipment.            </span>│\n",
       "│<span style=\"color: #7f7f7f; text-decoration-color: #7f7f7f\"> - Diagnose and repair electrical issues to minimize downtime and enhance safety.                                </span>│\n",
       "│<span style=\"color: #7f7f7f; text-decoration-color: #7f7f7f\"> - Ensure compliance with all relevant codes and regulations.                                                    </span>│\n",
       "│<span style=\"color: #7f7f7f; text-decoration-color: #7f7f7f\">                                                                                                                 </span>│\n",
       "│<span style=\"color: #7f7f7f; text-decoration-color: #7f7f7f\"> **Qualifications:**                                                                                             </span>│\n",
       "│<span style=\"color: #7f7f7f; text-decoration-color: #7f7f7f\"> - Proven experience as an Electrical Technician or similar role.                                                </span>│\n",
       "│<span style=\"color: #7f7f7f; text-decoration-color: #7f7f7f\"> - Strong knowledge of electrical systems, tools, and equipment.                                                 </span>│\n",
       "│<span style=\"color: #7f7f7f; text-decoration-color: #7f7f7f\"> - Ability to read and interpret technical diagrams and blueprints.                                              </span>│\n",
       "│<span style=\"color: #7f7f7f; text-decoration-color: #7f7f7f\"> - Excellent problem-solving skills and attention to detail.                                                     </span>│\n",
       "├─────────────────────────────────────────────────────────────────────────────────────────────────────────────────┤\n",
       "│<span style=\"color: #7f7f7f; text-decoration-color: #7f7f7f\"> We are seeking a passionate and innovative mathematics educator to inspire and engage students through creative </span>│\n",
       "│<span style=\"color: #7f7f7f; text-decoration-color: #7f7f7f\"> teaching strategies. The ideal candidate will utilize cutting-edge methods to deepen students' understanding    </span>│\n",
       "│<span style=\"color: #7f7f7f; text-decoration-color: #7f7f7f\"> and foster a genuine interest in mathematics. Join our team and make a meaningful impact on students' academic  </span>│\n",
       "│<span style=\"color: #7f7f7f; text-decoration-color: #7f7f7f\"> journeys!                                                                                                       </span>│\n",
       "├─────────────────────────────────────────────────────────────────────────────────────────────────────────────────┤\n",
       "│<span style=\"color: #7f7f7f; text-decoration-color: #7f7f7f\"> **Job Opportunity: Veterinary Assistant**                                                                       </span>│\n",
       "│<span style=\"color: #7f7f7f; text-decoration-color: #7f7f7f\">                                                                                                                 </span>│\n",
       "│<span style=\"color: #7f7f7f; text-decoration-color: #7f7f7f\"> Are you passionate about animal care and looking to make a meaningful impact in the veterinary field? We are    </span>│\n",
       "│<span style=\"color: #7f7f7f; text-decoration-color: #7f7f7f\"> seeking a dedicated Veterinary Assistant to join our team. In this role, you will play a crucial part in        </span>│\n",
       "│<span style=\"color: #7f7f7f; text-decoration-color: #7f7f7f\"> supporting our veterinarians and ensuring the well-being of our animal patients.                                </span>│\n",
       "│<span style=\"color: #7f7f7f; text-decoration-color: #7f7f7f\">                                                                                                                 </span>│\n",
       "│<span style=\"color: #7f7f7f; text-decoration-color: #7f7f7f\"> **Key Responsibilities:**                                                                                       </span>│\n",
       "│<span style=\"color: #7f7f7f; text-decoration-color: #7f7f7f\">                                                                                                                 </span>│\n",
       "│<span style=\"color: #7f7f7f; text-decoration-color: #7f7f7f\"> - Prepare animals for surgery, ensuring they are ready for procedures                                           </span>│\n",
       "│<span style=\"color: #7f7f7f; text-decoration-color: #7f7f7f\"> - Administer injections and medications as directed by veterinarians                                            </span>│\n",
       "│<span style=\"color: #7f7f7f; text-decoration-color: #7f7f7f\"> - Provide compassionate post-operative care to aid in the recovery of animals                                   </span>│\n",
       "│<span style=\"color: #7f7f7f; text-decoration-color: #7f7f7f\"> - Assist with routine examinations and treatments                                                               </span>│\n",
       "│<span style=\"color: #7f7f7f; text-decoration-color: #7f7f7f\"> - Maintain a clean and organized work environment                                                               </span>│\n",
       "│<span style=\"color: #7f7f7f; text-decoration-color: #7f7f7f\"> - Communicate effectively with pet owners, addressing their concerns and providing updates on their pets'       </span>│\n",
       "│<span style=\"color: #7f7f7f; text-decoration-color: #7f7f7f\"> progress                                                                                                        </span>│\n",
       "│<span style=\"color: #7f7f7f; text-decoration-color: #7f7f7f\">                                                                                                                 </span>│\n",
       "│<span style=\"color: #7f7f7f; text-decoration-color: #7f7f7f\"> **Qualifications:**                                                                                             </span>│\n",
       "│<span style=\"color: #7f7f7f; text-decoration-color: #7f7f7f\">                                                                                                                 </span>│\n",
       "│<span style=\"color: #7f7f7f; text-decoration-color: #7f7f7f\"> - Prior experience in a veterinary or animal care setting is preferred                                          </span>│\n",
       "│<span style=\"color: #7f7f7f; text-decoration-color: #7f7f7f\"> - Strong attention to detail and ability to follow precise instructions                                         </span>│\n",
       "│<span style=\"color: #7f7f7f; text-decoration-color: #7f7f7f\"> - Excellent communication and interpersonal skills                                                              </span>│\n",
       "│<span style=\"color: #7f7f7f; text-decoration-color: #7f7f7f\"> - Compassionate and empathetic approach to animal care                                                          </span>│\n",
       "│<span style=\"color: #7f7f7f; text-decoration-color: #7f7f7f\"> - Ability to work effectively in a fast-paced environment                                                       </span>│\n",
       "├─────────────────────────────────────────────────────────────────────────────────────────────────────────────────┤\n",
       "│<span style=\"color: #7f7f7f; text-decoration-color: #7f7f7f\"> None                                                                                                            </span>│\n",
       "├─────────────────────────────────────────────────────────────────────────────────────────────────────────────────┤\n",
       "│<span style=\"color: #7f7f7f; text-decoration-color: #7f7f7f\"> Job Title: Sales Data Analyst                                                                                   </span>│\n",
       "│<span style=\"color: #7f7f7f; text-decoration-color: #7f7f7f\">                                                                                                                 </span>│\n",
       "│<span style=\"color: #7f7f7f; text-decoration-color: #7f7f7f\"> Job Description:                                                                                                </span>│\n",
       "│<span style=\"color: #7f7f7f; text-decoration-color: #7f7f7f\">                                                                                                                 </span>│\n",
       "│<span style=\"color: #7f7f7f; text-decoration-color: #7f7f7f\"> We are seeking a skilled Sales Data Analyst to join our dynamic team. In this role, you will leverage your      </span>│\n",
       "│<span style=\"color: #7f7f7f; text-decoration-color: #7f7f7f\"> expertise in statistical analysis to examine sales data, identify emerging trends, and deliver actionable       </span>│\n",
       "│<span style=\"color: #7f7f7f; text-decoration-color: #7f7f7f\"> insights that will drive our marketing strategies. Your analytical skills and attention to detail will be       </span>│\n",
       "│<span style=\"color: #7f7f7f; text-decoration-color: #7f7f7f\"> crucial in helping our marketing team make informed decisions and optimize performance.                         </span>│\n",
       "│<span style=\"color: #7f7f7f; text-decoration-color: #7f7f7f\">                                                                                                                 </span>│\n",
       "│<span style=\"color: #7f7f7f; text-decoration-color: #7f7f7f\"> Key Responsibilities:                                                                                           </span>│\n",
       "│<span style=\"color: #7f7f7f; text-decoration-color: #7f7f7f\">                                                                                                                 </span>│\n",
       "│<span style=\"color: #7f7f7f; text-decoration-color: #7f7f7f\"> - Utilize advanced statistical tools and methodologies to analyze sales data.                                   </span>│\n",
       "│<span style=\"color: #7f7f7f; text-decoration-color: #7f7f7f\"> - Identify and interpret sales trends, patterns, and anomalies.                                                 </span>│\n",
       "│<span style=\"color: #7f7f7f; text-decoration-color: #7f7f7f\"> - Provide clear, data-driven insights and recommendations to the marketing team.                                </span>│\n",
       "│<span style=\"color: #7f7f7f; text-decoration-color: #7f7f7f\"> - Collaborate with cross-functional teams to support data-driven decision making.                               </span>│\n",
       "│<span style=\"color: #7f7f7f; text-decoration-color: #7f7f7f\"> - Develop and maintain comprehensive reports and dashboards.                                                    </span>│\n",
       "│<span style=\"color: #7f7f7f; text-decoration-color: #7f7f7f\">                                                                                                                 </span>│\n",
       "│<span style=\"color: #7f7f7f; text-decoration-color: #7f7f7f\"> Qualifications:                                                                                                 </span>│\n",
       "│<span style=\"color: #7f7f7f; text-decoration-color: #7f7f7f\">                                                                                                                 </span>│\n",
       "│<span style=\"color: #7f7f7f; text-decoration-color: #7f7f7f\"> - Bachelor’s degree in Statistics, Economics, Data Science, or a related field.                                 </span>│\n",
       "│<span style=\"color: #7f7f7f; text-decoration-color: #7f7f7f\"> - Proven experience in data analysis, preferably in a sales or marketing environment.                           </span>│\n",
       "│<span style=\"color: #7f7f7f; text-decoration-color: #7f7f7f\"> - Proficiency with statistical software and data visualization tools (e.g., R, Python, Tableau).                </span>│\n",
       "│<span style=\"color: #7f7f7f; text-decoration-color: #7f7f7f\"> - Strong analytical and problem-solving skills.                                                                 </span>│\n",
       "│<span style=\"color: #7f7f7f; text-decoration-color: #7f7f7f\"> - Excellent communication skills, with the ability to convey complex data insights to non-technical             </span>│\n",
       "│<span style=\"color: #7f7f7f; text-decoration-color: #7f7f7f\"> stakeholders.                                                                                                   </span>│\n",
       "├─────────────────────────────────────────────────────────────────────────────────────────────────────────────────┤\n",
       "│<span style=\"color: #7f7f7f; text-decoration-color: #7f7f7f\"> Position: Retail Operations Manager                                                                             </span>│\n",
       "│<span style=\"color: #7f7f7f; text-decoration-color: #7f7f7f\">                                                                                                                 </span>│\n",
       "│<span style=\"color: #7f7f7f; text-decoration-color: #7f7f7f\"> We are seeking a dynamic and experienced Retail Operations Manager to lead and oversee our daily operations,    </span>│\n",
       "│<span style=\"color: #7f7f7f; text-decoration-color: #7f7f7f\"> manage a dedicated team of staff, and ensure exceptional customer satisfaction in our fast-paced retail         </span>│\n",
       "│<span style=\"color: #7f7f7f; text-decoration-color: #7f7f7f\"> environment. The ideal candidate will possess strong leadership skills, a keen eye for detail, and a passion    </span>│\n",
       "│<span style=\"color: #7f7f7f; text-decoration-color: #7f7f7f\"> for delivering outstanding customer service. If you thrive in a bustling retail setting and are committed to    </span>│\n",
       "│<span style=\"color: #7f7f7f; text-decoration-color: #7f7f7f\"> driving operational excellence, we want to hear from you!                                                       </span>│\n",
       "│<span style=\"color: #7f7f7f; text-decoration-color: #7f7f7f\">                                                                                                                 </span>│\n",
       "│<span style=\"color: #7f7f7f; text-decoration-color: #7f7f7f\"> Key Responsibilities:                                                                                           </span>│\n",
       "│<span style=\"color: #7f7f7f; text-decoration-color: #7f7f7f\"> - Lead and manage daily store operations to ensure efficiency and effectiveness.                                </span>│\n",
       "│<span style=\"color: #7f7f7f; text-decoration-color: #7f7f7f\"> - Supervise, mentor, and support staff members, fostering a positive and productive work environment.           </span>│\n",
       "│<span style=\"color: #7f7f7f; text-decoration-color: #7f7f7f\"> - Implement strategies to enhance customer satisfaction and ensure a superior shopping experience.              </span>│\n",
       "│<span style=\"color: #7f7f7f; text-decoration-color: #7f7f7f\"> - Monitor inventory levels, manage stock, and coordinate with suppliers to maintain optimal product             </span>│\n",
       "│<span style=\"color: #7f7f7f; text-decoration-color: #7f7f7f\"> availability.                                                                                                   </span>│\n",
       "│<span style=\"color: #7f7f7f; text-decoration-color: #7f7f7f\"> - Analyze sales data and performance metrics to identify opportunities for improvement and growth.              </span>│\n",
       "│<span style=\"color: #7f7f7f; text-decoration-color: #7f7f7f\"> - Ensure compliance with company policies, procedures, and safety regulations.                                  </span>│\n",
       "│<span style=\"color: #7f7f7f; text-decoration-color: #7f7f7f\"> - Address and resolve customer inquiries and concerns promptly and professionally.                              </span>│\n",
       "│<span style=\"color: #7f7f7f; text-decoration-color: #7f7f7f\">                                                                                                                 </span>│\n",
       "│<span style=\"color: #7f7f7f; text-decoration-color: #7f7f7f\"> Qualifications:                                                                                                 </span>│\n",
       "│<span style=\"color: #7f7f7f; text-decoration-color: #7f7f7f\"> - Proven experience in retail management or a similar role.                                                     </span>│\n",
       "│<span style=\"color: #7f7f7f; text-decoration-color: #7f7f7f\"> - Strong leadership and team management skills.                                                                 </span>│\n",
       "│<span style=\"color: #7f7f7f; text-decoration-color: #7f7f7f\"> - Excellent communication and interpersonal abilities.                                                          </span>│\n",
       "│<span style=\"color: #7f7f7f; text-decoration-color: #7f7f7f\"> - Ability to thrive in a fast-paced and dynamic environment.                                                    </span>│\n",
       "│<span style=\"color: #7f7f7f; text-decoration-color: #7f7f7f\"> - Detail-oriented with strong organizational and problem-solving skills.                                        </span>│\n",
       "│<span style=\"color: #7f7f7f; text-decoration-color: #7f7f7f\"> - Customer-focused mindset with a commitment to delivering exceptional service.                                 </span>│\n",
       "├─────────────────────────────────────────────────────────────────────────────────────────────────────────────────┤\n",
       "│<span style=\"color: #7f7f7f; text-decoration-color: #7f7f7f\"> Job Opening: Automotive Technician                                                                              </span>│\n",
       "│<span style=\"color: #7f7f7f; text-decoration-color: #7f7f7f\">                                                                                                                 </span>│\n",
       "│<span style=\"color: #7f7f7f; text-decoration-color: #7f7f7f\"> We are seeking a skilled Automotive Technician to join our team. The ideal candidate will be responsible for    </span>│\n",
       "│<span style=\"color: #7f7f7f; text-decoration-color: #7f7f7f\"> diagnosing and repairing automotive issues, performing routine maintenance, and ensuring all vehicles meet      </span>│\n",
       "│<span style=\"color: #7f7f7f; text-decoration-color: #7f7f7f\"> stringent safety standards. If you have a passion for cars and a commitment to excellence, we want to hear from </span>│\n",
       "│<span style=\"color: #7f7f7f; text-decoration-color: #7f7f7f\"> you!                                                                                                            </span>│\n",
       "│<span style=\"color: #7f7f7f; text-decoration-color: #7f7f7f\">                                                                                                                 </span>│\n",
       "│<span style=\"color: #7f7f7f; text-decoration-color: #7f7f7f\"> Key Responsibilities:                                                                                           </span>│\n",
       "│<span style=\"color: #7f7f7f; text-decoration-color: #7f7f7f\"> - Diagnose and troubleshoot mechanical and electrical problems in vehicles                                      </span>│\n",
       "│<span style=\"color: #7f7f7f; text-decoration-color: #7f7f7f\"> - Perform routine maintenance tasks such as oil changes, tire rotations, and brake inspections                  </span>│\n",
       "│<span style=\"color: #7f7f7f; text-decoration-color: #7f7f7f\"> - Conduct comprehensive safety inspections to ensure all vehicles meet regulatory and company standards         </span>│\n",
       "│<span style=\"color: #7f7f7f; text-decoration-color: #7f7f7f\"> - Utilize advanced diagnostic tools and equipment to efficiently identify and resolve issues                    </span>│\n",
       "│<span style=\"color: #7f7f7f; text-decoration-color: #7f7f7f\"> - Maintain accurate records of all repairs and services performed                                               </span>│\n",
       "│<span style=\"color: #7f7f7f; text-decoration-color: #7f7f7f\"> - Provide exceptional customer service by clearly explaining technical issues and repair options to clients     </span>│\n",
       "│<span style=\"color: #7f7f7f; text-decoration-color: #7f7f7f\">                                                                                                                 </span>│\n",
       "│<span style=\"color: #7f7f7f; text-decoration-color: #7f7f7f\"> Qualifications:                                                                                                 </span>│\n",
       "│<span style=\"color: #7f7f7f; text-decoration-color: #7f7f7f\"> - Proven experience as an Automotive Technician or similar role                                                 </span>│\n",
       "│<span style=\"color: #7f7f7f; text-decoration-color: #7f7f7f\"> - Strong knowledge of automotive systems and components                                                         </span>│\n",
       "│<span style=\"color: #7f7f7f; text-decoration-color: #7f7f7f\"> - Proficiency with diagnostic tools and repair equipment                                                        </span>│\n",
       "│<span style=\"color: #7f7f7f; text-decoration-color: #7f7f7f\"> - Excellent problem-solving skills and attention to detail                                                      </span>│\n",
       "│<span style=\"color: #7f7f7f; text-decoration-color: #7f7f7f\"> - Ability to work independently and as part of a team                                                           </span>│\n",
       "│<span style=\"color: #7f7f7f; text-decoration-color: #7f7f7f\"> - ASE certification or equivalent is preferred                                                                  </span>│\n",
       "│<span style=\"color: #7f7f7f; text-decoration-color: #7f7f7f\">                                                                                                                 </span>│\n",
       "│<span style=\"color: #7f7f7f; text-decoration-color: #7f7f7f\"> What We Offer:                                                                                                  </span>│\n",
       "│<span style=\"color: #7f7f7f; text-decoration-color: #7f7f7f\"> - Competitive salary and benefits package                                                                       </span>│\n",
       "│<span style=\"color: #7f7f7f; text-decoration-color: #7f7f7f\"> - Opportunities for professional growth and development                                                         </span>│\n",
       "│<span style=\"color: #7f7f7f; text-decoration-color: #7f7f7f\"> - A supportive and collaborative work environment                                                               </span>│\n",
       "│<span style=\"color: #7f7f7f; text-decoration-color: #7f7f7f\"> - Access to the latest diagnostic tools and technology                                                          </span>│\n",
       "└─────────────────────────────────────────────────────────────────────────────────────────────────────────────────┘\n",
       "</pre>\n"
      ],
      "text/plain": [
       "┏━━━━━━━━━━━━━━━━━━━━━━━━━━━━━━━━━━━━━━━━━━━━━━━━━━━━━━━━━━━━━━━━━━━━━━━━━━━━━━━━━━━━━━━━━━━━━━━━━━━━━━━━━━━━━━━━━┓\n",
       "┃\u001b[1;35m \u001b[0m\u001b[1;35manswer                                                                                                         \u001b[0m\u001b[1;35m \u001b[0m┃\n",
       "┃\u001b[1;35m \u001b[0m\u001b[1;35m.rewrite_text                                                                                                  \u001b[0m\u001b[1;35m \u001b[0m┃\n",
       "┡━━━━━━━━━━━━━━━━━━━━━━━━━━━━━━━━━━━━━━━━━━━━━━━━━━━━━━━━━━━━━━━━━━━━━━━━━━━━━━━━━━━━━━━━━━━━━━━━━━━━━━━━━━━━━━━━━┩\n",
       "│\u001b[2m \u001b[0m\u001b[2mWe are seeking a dedicated Customer Service Representative to manage and resolve customer inquiries and issues \u001b[0m\u001b[2m \u001b[0m│\n",
       "│\u001b[2m \u001b[0m\u001b[2mthrough phone and email communications. The ideal candidate will ensure high levels of customer satisfaction by\u001b[0m\u001b[2m \u001b[0m│\n",
       "│\u001b[2m \u001b[0m\u001b[2mproviding timely and effective solutions.                                                                      \u001b[0m\u001b[2m \u001b[0m│\n",
       "├─────────────────────────────────────────────────────────────────────────────────────────────────────────────────┤\n",
       "│\u001b[2m \u001b[0m\u001b[2mWe are seeking a talented writer to create captivating and informative blog posts on health and wellness       \u001b[0m\u001b[2m \u001b[0m│\n",
       "│\u001b[2m \u001b[0m\u001b[2mtopics. Your work will play a crucial role in driving website traffic and engaging our readers.                \u001b[0m\u001b[2m \u001b[0m│\n",
       "├─────────────────────────────────────────────────────────────────────────────────────────────────────────────────┤\n",
       "│\u001b[2m \u001b[0m\u001b[2mWe are seeking a dynamic and customer-focused professional to drive sales by engaging with clients,            \u001b[0m\u001b[2m \u001b[0m│\n",
       "│\u001b[2m \u001b[0m\u001b[2munderstanding their unique needs, and offering tailored product solutions. If you have a passion for building  \u001b[0m\u001b[2m \u001b[0m│\n",
       "│\u001b[2m \u001b[0m\u001b[2mrelationships and delivering exceptional service, we want to hear from you!                                    \u001b[0m\u001b[2m \u001b[0m│\n",
       "├─────────────────────────────────────────────────────────────────────────────────────────────────────────────────┤\n",
       "│\u001b[2m \u001b[0m\u001b[2mJoin our culinary team and showcase your talent by preparing exquisite gourmet dishes that adhere to our high  \u001b[0m\u001b[2m \u001b[0m│\n",
       "│\u001b[2m \u001b[0m\u001b[2mrestaurant standards. Delight our customers with your creativity and unique flavor combinations, ensuring an   \u001b[0m\u001b[2m \u001b[0m│\n",
       "│\u001b[2m \u001b[0m\u001b[2mexceptional dining experience with every meal.                                                                 \u001b[0m\u001b[2m \u001b[0m│\n",
       "├─────────────────────────────────────────────────────────────────────────────────────────────────────────────────┤\n",
       "│\u001b[2m \u001b[0m\u001b[2mWe're seeking a dynamic Marketing Strategist to develop and implement comprehensive marketing strategies that  \u001b[0m\u001b[2m \u001b[0m│\n",
       "│\u001b[2m \u001b[0m\u001b[2malign with our company's goals. This role involves creating and executing impactful digital campaigns and      \u001b[0m\u001b[2m \u001b[0m│\n",
       "│\u001b[2m \u001b[0m\u001b[2menhancing our brand presence.                                                                                  \u001b[0m\u001b[2m \u001b[0m│\n",
       "├─────────────────────────────────────────────────────────────────────────────────────────────────────────────────┤\n",
       "│\u001b[2m \u001b[0m\u001b[2mWe are seeking a talented Graphic Designer to join our team. In this role, you will create visually engaging   \u001b[0m\u001b[2m \u001b[0m│\n",
       "│\u001b[2m \u001b[0m\u001b[2mmarketing materials, including brochures, banners, and digital ads, utilizing Adobe Creative Suite. Your       \u001b[0m\u001b[2m \u001b[0m│\n",
       "│\u001b[2m \u001b[0m\u001b[2mcreativity and attention to detail will help us effectively communicate our brand message and captivate our    \u001b[0m\u001b[2m \u001b[0m│\n",
       "│\u001b[2m \u001b[0m\u001b[2maudience.                                                                                                      \u001b[0m\u001b[2m \u001b[0m│\n",
       "├─────────────────────────────────────────────────────────────────────────────────────────────────────────────────┤\n",
       "│\u001b[2m \u001b[0m\u001b[2mJoin our dynamic team as a Software Developer, where you will leverage your expertise in Python and Java to    \u001b[0m\u001b[2m \u001b[0m│\n",
       "│\u001b[2m \u001b[0m\u001b[2mdesign, develop, and maintain innovative software solutions that enhance our business operations. Your         \u001b[0m\u001b[2m \u001b[0m│\n",
       "│\u001b[2m \u001b[0m\u001b[2mcontributions will be pivotal in streamlining processes and driving efficiency across the organization. If you \u001b[0m\u001b[2m \u001b[0m│\n",
       "│\u001b[2m \u001b[0m\u001b[2mare passionate about creating robust and scalable systems, we want to hear from you!                           \u001b[0m\u001b[2m \u001b[0m│\n",
       "├─────────────────────────────────────────────────────────────────────────────────────────────────────────────────┤\n",
       "│\u001b[2m \u001b[0m\u001b[2mJob Opportunity: HR Manager                                                                                    \u001b[0m\u001b[2m \u001b[0m│\n",
       "│\u001b[2m \u001b[0m\u001b[2m                                                                                                               \u001b[0m\u001b[2m \u001b[0m│\n",
       "│\u001b[2m \u001b[0m\u001b[2mWe are seeking a dedicated HR Manager to join our team. In this role, you will:                                \u001b[0m\u001b[2m \u001b[0m│\n",
       "│\u001b[2m \u001b[0m\u001b[2m                                                                                                               \u001b[0m\u001b[2m \u001b[0m│\n",
       "│\u001b[2m \u001b[0m\u001b[2m- Lead and manage the recruitment process to attract top talent.                                               \u001b[0m\u001b[2m \u001b[0m│\n",
       "│\u001b[2m \u001b[0m\u001b[2m- Conduct comprehensive interviews to identify the best candidates.                                            \u001b[0m\u001b[2m \u001b[0m│\n",
       "│\u001b[2m \u001b[0m\u001b[2m- Oversee and enhance employee benefit programs to ensure a motivated and satisfied workforce.                 \u001b[0m\u001b[2m \u001b[0m│\n",
       "├─────────────────────────────────────────────────────────────────────────────────────────────────────────────────┤\n",
       "│\u001b[2m \u001b[0m\u001b[2mJob Opportunity: Expert Pretzel Maker                                                                          \u001b[0m\u001b[2m \u001b[0m│\n",
       "├─────────────────────────────────────────────────────────────────────────────────────────────────────────────────┤\n",
       "│\u001b[2m \u001b[0m\u001b[2mJob Opportunity: Barista and Coffee Station Manager                                                            \u001b[0m\u001b[2m \u001b[0m│\n",
       "├─────────────────────────────────────────────────────────────────────────────────────────────────────────────────┤\n",
       "│\u001b[2m \u001b[0m\u001b[2mJoin our dynamic team as a Fitness Instructor!                                                                 \u001b[0m\u001b[2m \u001b[0m│\n",
       "├─────────────────────────────────────────────────────────────────────────────────────────────────────────────────┤\n",
       "│\u001b[2m \u001b[0m\u001b[2mWe are seeking a dynamic and visionary leader to spearhead our creative campaigns from inception to completion.\u001b[0m\u001b[2m \u001b[0m│\n",
       "│\u001b[2m \u001b[0m\u001b[2mIn this role, you will collaborate closely with graphic designers and content creators to bring innovative     \u001b[0m\u001b[2m \u001b[0m│\n",
       "│\u001b[2m \u001b[0m\u001b[2mconcepts to life. If you have a passion for creativity and a knack for project management, we want to hear from\u001b[0m\u001b[2m \u001b[0m│\n",
       "│\u001b[2m \u001b[0m\u001b[2myou.                                                                                                           \u001b[0m\u001b[2m \u001b[0m│\n",
       "├─────────────────────────────────────────────────────────────────────────────────────────────────────────────────┤\n",
       "│\u001b[2m \u001b[0m\u001b[2mJoin our team as a Landscape Designer and create stunning, functional outdoor spaces for a diverse range of    \u001b[0m\u001b[2m \u001b[0m│\n",
       "│\u001b[2m \u001b[0m\u001b[2mclients. From crafting serene residential gardens to designing vibrant public parks, your expertise will bring \u001b[0m\u001b[2m \u001b[0m│\n",
       "│\u001b[2m \u001b[0m\u001b[2mbeauty and practicality to every project.                                                                      \u001b[0m\u001b[2m \u001b[0m│\n",
       "├─────────────────────────────────────────────────────────────────────────────────────────────────────────────────┤\n",
       "│\u001b[2m \u001b[0m\u001b[2m**Job Opportunity: Electrical Technician**                                                                     \u001b[0m\u001b[2m \u001b[0m│\n",
       "│\u001b[2m \u001b[0m\u001b[2m                                                                                                               \u001b[0m\u001b[2m \u001b[0m│\n",
       "│\u001b[2m \u001b[0m\u001b[2mWe are seeking a skilled Electrical Technician to join our team. In this role, you will be responsible for     \u001b[0m\u001b[2m \u001b[0m│\n",
       "│\u001b[2m \u001b[0m\u001b[2minstalling, maintaining, and repairing electrical wiring, equipment, and fixtures to ensure their safe and     \u001b[0m\u001b[2m \u001b[0m│\n",
       "│\u001b[2m \u001b[0m\u001b[2mefficient operation.                                                                                           \u001b[0m\u001b[2m \u001b[0m│\n",
       "│\u001b[2m \u001b[0m\u001b[2m                                                                                                               \u001b[0m\u001b[2m \u001b[0m│\n",
       "│\u001b[2m \u001b[0m\u001b[2m**Key Responsibilities:**                                                                                      \u001b[0m\u001b[2m \u001b[0m│\n",
       "│\u001b[2m \u001b[0m\u001b[2m- Install electrical systems and components according to specifications and safety standards.                  \u001b[0m\u001b[2m \u001b[0m│\n",
       "│\u001b[2m \u001b[0m\u001b[2m- Perform routine maintenance and inspections to ensure optimal performance of electrical equipment.           \u001b[0m\u001b[2m \u001b[0m│\n",
       "│\u001b[2m \u001b[0m\u001b[2m- Diagnose and repair electrical issues to minimize downtime and enhance safety.                               \u001b[0m\u001b[2m \u001b[0m│\n",
       "│\u001b[2m \u001b[0m\u001b[2m- Ensure compliance with all relevant codes and regulations.                                                   \u001b[0m\u001b[2m \u001b[0m│\n",
       "│\u001b[2m \u001b[0m\u001b[2m                                                                                                               \u001b[0m\u001b[2m \u001b[0m│\n",
       "│\u001b[2m \u001b[0m\u001b[2m**Qualifications:**                                                                                            \u001b[0m\u001b[2m \u001b[0m│\n",
       "│\u001b[2m \u001b[0m\u001b[2m- Proven experience as an Electrical Technician or similar role.                                               \u001b[0m\u001b[2m \u001b[0m│\n",
       "│\u001b[2m \u001b[0m\u001b[2m- Strong knowledge of electrical systems, tools, and equipment.                                                \u001b[0m\u001b[2m \u001b[0m│\n",
       "│\u001b[2m \u001b[0m\u001b[2m- Ability to read and interpret technical diagrams and blueprints.                                             \u001b[0m\u001b[2m \u001b[0m│\n",
       "│\u001b[2m \u001b[0m\u001b[2m- Excellent problem-solving skills and attention to detail.                                                    \u001b[0m\u001b[2m \u001b[0m│\n",
       "├─────────────────────────────────────────────────────────────────────────────────────────────────────────────────┤\n",
       "│\u001b[2m \u001b[0m\u001b[2mWe are seeking a passionate and innovative mathematics educator to inspire and engage students through creative\u001b[0m\u001b[2m \u001b[0m│\n",
       "│\u001b[2m \u001b[0m\u001b[2mteaching strategies. The ideal candidate will utilize cutting-edge methods to deepen students' understanding   \u001b[0m\u001b[2m \u001b[0m│\n",
       "│\u001b[2m \u001b[0m\u001b[2mand foster a genuine interest in mathematics. Join our team and make a meaningful impact on students' academic \u001b[0m\u001b[2m \u001b[0m│\n",
       "│\u001b[2m \u001b[0m\u001b[2mjourneys!                                                                                                      \u001b[0m\u001b[2m \u001b[0m│\n",
       "├─────────────────────────────────────────────────────────────────────────────────────────────────────────────────┤\n",
       "│\u001b[2m \u001b[0m\u001b[2m**Job Opportunity: Veterinary Assistant**                                                                      \u001b[0m\u001b[2m \u001b[0m│\n",
       "│\u001b[2m \u001b[0m\u001b[2m                                                                                                               \u001b[0m\u001b[2m \u001b[0m│\n",
       "│\u001b[2m \u001b[0m\u001b[2mAre you passionate about animal care and looking to make a meaningful impact in the veterinary field? We are   \u001b[0m\u001b[2m \u001b[0m│\n",
       "│\u001b[2m \u001b[0m\u001b[2mseeking a dedicated Veterinary Assistant to join our team. In this role, you will play a crucial part in       \u001b[0m\u001b[2m \u001b[0m│\n",
       "│\u001b[2m \u001b[0m\u001b[2msupporting our veterinarians and ensuring the well-being of our animal patients.                               \u001b[0m\u001b[2m \u001b[0m│\n",
       "│\u001b[2m \u001b[0m\u001b[2m                                                                                                               \u001b[0m\u001b[2m \u001b[0m│\n",
       "│\u001b[2m \u001b[0m\u001b[2m**Key Responsibilities:**                                                                                      \u001b[0m\u001b[2m \u001b[0m│\n",
       "│\u001b[2m \u001b[0m\u001b[2m                                                                                                               \u001b[0m\u001b[2m \u001b[0m│\n",
       "│\u001b[2m \u001b[0m\u001b[2m- Prepare animals for surgery, ensuring they are ready for procedures                                          \u001b[0m\u001b[2m \u001b[0m│\n",
       "│\u001b[2m \u001b[0m\u001b[2m- Administer injections and medications as directed by veterinarians                                           \u001b[0m\u001b[2m \u001b[0m│\n",
       "│\u001b[2m \u001b[0m\u001b[2m- Provide compassionate post-operative care to aid in the recovery of animals                                  \u001b[0m\u001b[2m \u001b[0m│\n",
       "│\u001b[2m \u001b[0m\u001b[2m- Assist with routine examinations and treatments                                                              \u001b[0m\u001b[2m \u001b[0m│\n",
       "│\u001b[2m \u001b[0m\u001b[2m- Maintain a clean and organized work environment                                                              \u001b[0m\u001b[2m \u001b[0m│\n",
       "│\u001b[2m \u001b[0m\u001b[2m- Communicate effectively with pet owners, addressing their concerns and providing updates on their pets'      \u001b[0m\u001b[2m \u001b[0m│\n",
       "│\u001b[2m \u001b[0m\u001b[2mprogress                                                                                                       \u001b[0m\u001b[2m \u001b[0m│\n",
       "│\u001b[2m \u001b[0m\u001b[2m                                                                                                               \u001b[0m\u001b[2m \u001b[0m│\n",
       "│\u001b[2m \u001b[0m\u001b[2m**Qualifications:**                                                                                            \u001b[0m\u001b[2m \u001b[0m│\n",
       "│\u001b[2m \u001b[0m\u001b[2m                                                                                                               \u001b[0m\u001b[2m \u001b[0m│\n",
       "│\u001b[2m \u001b[0m\u001b[2m- Prior experience in a veterinary or animal care setting is preferred                                         \u001b[0m\u001b[2m \u001b[0m│\n",
       "│\u001b[2m \u001b[0m\u001b[2m- Strong attention to detail and ability to follow precise instructions                                        \u001b[0m\u001b[2m \u001b[0m│\n",
       "│\u001b[2m \u001b[0m\u001b[2m- Excellent communication and interpersonal skills                                                             \u001b[0m\u001b[2m \u001b[0m│\n",
       "│\u001b[2m \u001b[0m\u001b[2m- Compassionate and empathetic approach to animal care                                                         \u001b[0m\u001b[2m \u001b[0m│\n",
       "│\u001b[2m \u001b[0m\u001b[2m- Ability to work effectively in a fast-paced environment                                                      \u001b[0m\u001b[2m \u001b[0m│\n",
       "├─────────────────────────────────────────────────────────────────────────────────────────────────────────────────┤\n",
       "│\u001b[2m \u001b[0m\u001b[2mNone                                                                                                           \u001b[0m\u001b[2m \u001b[0m│\n",
       "├─────────────────────────────────────────────────────────────────────────────────────────────────────────────────┤\n",
       "│\u001b[2m \u001b[0m\u001b[2mJob Title: Sales Data Analyst                                                                                  \u001b[0m\u001b[2m \u001b[0m│\n",
       "│\u001b[2m \u001b[0m\u001b[2m                                                                                                               \u001b[0m\u001b[2m \u001b[0m│\n",
       "│\u001b[2m \u001b[0m\u001b[2mJob Description:                                                                                               \u001b[0m\u001b[2m \u001b[0m│\n",
       "│\u001b[2m \u001b[0m\u001b[2m                                                                                                               \u001b[0m\u001b[2m \u001b[0m│\n",
       "│\u001b[2m \u001b[0m\u001b[2mWe are seeking a skilled Sales Data Analyst to join our dynamic team. In this role, you will leverage your     \u001b[0m\u001b[2m \u001b[0m│\n",
       "│\u001b[2m \u001b[0m\u001b[2mexpertise in statistical analysis to examine sales data, identify emerging trends, and deliver actionable      \u001b[0m\u001b[2m \u001b[0m│\n",
       "│\u001b[2m \u001b[0m\u001b[2minsights that will drive our marketing strategies. Your analytical skills and attention to detail will be      \u001b[0m\u001b[2m \u001b[0m│\n",
       "│\u001b[2m \u001b[0m\u001b[2mcrucial in helping our marketing team make informed decisions and optimize performance.                        \u001b[0m\u001b[2m \u001b[0m│\n",
       "│\u001b[2m \u001b[0m\u001b[2m                                                                                                               \u001b[0m\u001b[2m \u001b[0m│\n",
       "│\u001b[2m \u001b[0m\u001b[2mKey Responsibilities:                                                                                          \u001b[0m\u001b[2m \u001b[0m│\n",
       "│\u001b[2m \u001b[0m\u001b[2m                                                                                                               \u001b[0m\u001b[2m \u001b[0m│\n",
       "│\u001b[2m \u001b[0m\u001b[2m- Utilize advanced statistical tools and methodologies to analyze sales data.                                  \u001b[0m\u001b[2m \u001b[0m│\n",
       "│\u001b[2m \u001b[0m\u001b[2m- Identify and interpret sales trends, patterns, and anomalies.                                                \u001b[0m\u001b[2m \u001b[0m│\n",
       "│\u001b[2m \u001b[0m\u001b[2m- Provide clear, data-driven insights and recommendations to the marketing team.                               \u001b[0m\u001b[2m \u001b[0m│\n",
       "│\u001b[2m \u001b[0m\u001b[2m- Collaborate with cross-functional teams to support data-driven decision making.                              \u001b[0m\u001b[2m \u001b[0m│\n",
       "│\u001b[2m \u001b[0m\u001b[2m- Develop and maintain comprehensive reports and dashboards.                                                   \u001b[0m\u001b[2m \u001b[0m│\n",
       "│\u001b[2m \u001b[0m\u001b[2m                                                                                                               \u001b[0m\u001b[2m \u001b[0m│\n",
       "│\u001b[2m \u001b[0m\u001b[2mQualifications:                                                                                                \u001b[0m\u001b[2m \u001b[0m│\n",
       "│\u001b[2m \u001b[0m\u001b[2m                                                                                                               \u001b[0m\u001b[2m \u001b[0m│\n",
       "│\u001b[2m \u001b[0m\u001b[2m- Bachelor’s degree in Statistics, Economics, Data Science, or a related field.                                \u001b[0m\u001b[2m \u001b[0m│\n",
       "│\u001b[2m \u001b[0m\u001b[2m- Proven experience in data analysis, preferably in a sales or marketing environment.                          \u001b[0m\u001b[2m \u001b[0m│\n",
       "│\u001b[2m \u001b[0m\u001b[2m- Proficiency with statistical software and data visualization tools (e.g., R, Python, Tableau).               \u001b[0m\u001b[2m \u001b[0m│\n",
       "│\u001b[2m \u001b[0m\u001b[2m- Strong analytical and problem-solving skills.                                                                \u001b[0m\u001b[2m \u001b[0m│\n",
       "│\u001b[2m \u001b[0m\u001b[2m- Excellent communication skills, with the ability to convey complex data insights to non-technical            \u001b[0m\u001b[2m \u001b[0m│\n",
       "│\u001b[2m \u001b[0m\u001b[2mstakeholders.                                                                                                  \u001b[0m\u001b[2m \u001b[0m│\n",
       "├─────────────────────────────────────────────────────────────────────────────────────────────────────────────────┤\n",
       "│\u001b[2m \u001b[0m\u001b[2mPosition: Retail Operations Manager                                                                            \u001b[0m\u001b[2m \u001b[0m│\n",
       "│\u001b[2m \u001b[0m\u001b[2m                                                                                                               \u001b[0m\u001b[2m \u001b[0m│\n",
       "│\u001b[2m \u001b[0m\u001b[2mWe are seeking a dynamic and experienced Retail Operations Manager to lead and oversee our daily operations,   \u001b[0m\u001b[2m \u001b[0m│\n",
       "│\u001b[2m \u001b[0m\u001b[2mmanage a dedicated team of staff, and ensure exceptional customer satisfaction in our fast-paced retail        \u001b[0m\u001b[2m \u001b[0m│\n",
       "│\u001b[2m \u001b[0m\u001b[2menvironment. The ideal candidate will possess strong leadership skills, a keen eye for detail, and a passion   \u001b[0m\u001b[2m \u001b[0m│\n",
       "│\u001b[2m \u001b[0m\u001b[2mfor delivering outstanding customer service. If you thrive in a bustling retail setting and are committed to   \u001b[0m\u001b[2m \u001b[0m│\n",
       "│\u001b[2m \u001b[0m\u001b[2mdriving operational excellence, we want to hear from you!                                                      \u001b[0m\u001b[2m \u001b[0m│\n",
       "│\u001b[2m \u001b[0m\u001b[2m                                                                                                               \u001b[0m\u001b[2m \u001b[0m│\n",
       "│\u001b[2m \u001b[0m\u001b[2mKey Responsibilities:                                                                                          \u001b[0m\u001b[2m \u001b[0m│\n",
       "│\u001b[2m \u001b[0m\u001b[2m- Lead and manage daily store operations to ensure efficiency and effectiveness.                               \u001b[0m\u001b[2m \u001b[0m│\n",
       "│\u001b[2m \u001b[0m\u001b[2m- Supervise, mentor, and support staff members, fostering a positive and productive work environment.          \u001b[0m\u001b[2m \u001b[0m│\n",
       "│\u001b[2m \u001b[0m\u001b[2m- Implement strategies to enhance customer satisfaction and ensure a superior shopping experience.             \u001b[0m\u001b[2m \u001b[0m│\n",
       "│\u001b[2m \u001b[0m\u001b[2m- Monitor inventory levels, manage stock, and coordinate with suppliers to maintain optimal product            \u001b[0m\u001b[2m \u001b[0m│\n",
       "│\u001b[2m \u001b[0m\u001b[2mavailability.                                                                                                  \u001b[0m\u001b[2m \u001b[0m│\n",
       "│\u001b[2m \u001b[0m\u001b[2m- Analyze sales data and performance metrics to identify opportunities for improvement and growth.             \u001b[0m\u001b[2m \u001b[0m│\n",
       "│\u001b[2m \u001b[0m\u001b[2m- Ensure compliance with company policies, procedures, and safety regulations.                                 \u001b[0m\u001b[2m \u001b[0m│\n",
       "│\u001b[2m \u001b[0m\u001b[2m- Address and resolve customer inquiries and concerns promptly and professionally.                             \u001b[0m\u001b[2m \u001b[0m│\n",
       "│\u001b[2m \u001b[0m\u001b[2m                                                                                                               \u001b[0m\u001b[2m \u001b[0m│\n",
       "│\u001b[2m \u001b[0m\u001b[2mQualifications:                                                                                                \u001b[0m\u001b[2m \u001b[0m│\n",
       "│\u001b[2m \u001b[0m\u001b[2m- Proven experience in retail management or a similar role.                                                    \u001b[0m\u001b[2m \u001b[0m│\n",
       "│\u001b[2m \u001b[0m\u001b[2m- Strong leadership and team management skills.                                                                \u001b[0m\u001b[2m \u001b[0m│\n",
       "│\u001b[2m \u001b[0m\u001b[2m- Excellent communication and interpersonal abilities.                                                         \u001b[0m\u001b[2m \u001b[0m│\n",
       "│\u001b[2m \u001b[0m\u001b[2m- Ability to thrive in a fast-paced and dynamic environment.                                                   \u001b[0m\u001b[2m \u001b[0m│\n",
       "│\u001b[2m \u001b[0m\u001b[2m- Detail-oriented with strong organizational and problem-solving skills.                                       \u001b[0m\u001b[2m \u001b[0m│\n",
       "│\u001b[2m \u001b[0m\u001b[2m- Customer-focused mindset with a commitment to delivering exceptional service.                                \u001b[0m\u001b[2m \u001b[0m│\n",
       "├─────────────────────────────────────────────────────────────────────────────────────────────────────────────────┤\n",
       "│\u001b[2m \u001b[0m\u001b[2mJob Opening: Automotive Technician                                                                             \u001b[0m\u001b[2m \u001b[0m│\n",
       "│\u001b[2m \u001b[0m\u001b[2m                                                                                                               \u001b[0m\u001b[2m \u001b[0m│\n",
       "│\u001b[2m \u001b[0m\u001b[2mWe are seeking a skilled Automotive Technician to join our team. The ideal candidate will be responsible for   \u001b[0m\u001b[2m \u001b[0m│\n",
       "│\u001b[2m \u001b[0m\u001b[2mdiagnosing and repairing automotive issues, performing routine maintenance, and ensuring all vehicles meet     \u001b[0m\u001b[2m \u001b[0m│\n",
       "│\u001b[2m \u001b[0m\u001b[2mstringent safety standards. If you have a passion for cars and a commitment to excellence, we want to hear from\u001b[0m\u001b[2m \u001b[0m│\n",
       "│\u001b[2m \u001b[0m\u001b[2myou!                                                                                                           \u001b[0m\u001b[2m \u001b[0m│\n",
       "│\u001b[2m \u001b[0m\u001b[2m                                                                                                               \u001b[0m\u001b[2m \u001b[0m│\n",
       "│\u001b[2m \u001b[0m\u001b[2mKey Responsibilities:                                                                                          \u001b[0m\u001b[2m \u001b[0m│\n",
       "│\u001b[2m \u001b[0m\u001b[2m- Diagnose and troubleshoot mechanical and electrical problems in vehicles                                     \u001b[0m\u001b[2m \u001b[0m│\n",
       "│\u001b[2m \u001b[0m\u001b[2m- Perform routine maintenance tasks such as oil changes, tire rotations, and brake inspections                 \u001b[0m\u001b[2m \u001b[0m│\n",
       "│\u001b[2m \u001b[0m\u001b[2m- Conduct comprehensive safety inspections to ensure all vehicles meet regulatory and company standards        \u001b[0m\u001b[2m \u001b[0m│\n",
       "│\u001b[2m \u001b[0m\u001b[2m- Utilize advanced diagnostic tools and equipment to efficiently identify and resolve issues                   \u001b[0m\u001b[2m \u001b[0m│\n",
       "│\u001b[2m \u001b[0m\u001b[2m- Maintain accurate records of all repairs and services performed                                              \u001b[0m\u001b[2m \u001b[0m│\n",
       "│\u001b[2m \u001b[0m\u001b[2m- Provide exceptional customer service by clearly explaining technical issues and repair options to clients    \u001b[0m\u001b[2m \u001b[0m│\n",
       "│\u001b[2m \u001b[0m\u001b[2m                                                                                                               \u001b[0m\u001b[2m \u001b[0m│\n",
       "│\u001b[2m \u001b[0m\u001b[2mQualifications:                                                                                                \u001b[0m\u001b[2m \u001b[0m│\n",
       "│\u001b[2m \u001b[0m\u001b[2m- Proven experience as an Automotive Technician or similar role                                                \u001b[0m\u001b[2m \u001b[0m│\n",
       "│\u001b[2m \u001b[0m\u001b[2m- Strong knowledge of automotive systems and components                                                        \u001b[0m\u001b[2m \u001b[0m│\n",
       "│\u001b[2m \u001b[0m\u001b[2m- Proficiency with diagnostic tools and repair equipment                                                       \u001b[0m\u001b[2m \u001b[0m│\n",
       "│\u001b[2m \u001b[0m\u001b[2m- Excellent problem-solving skills and attention to detail                                                     \u001b[0m\u001b[2m \u001b[0m│\n",
       "│\u001b[2m \u001b[0m\u001b[2m- Ability to work independently and as part of a team                                                          \u001b[0m\u001b[2m \u001b[0m│\n",
       "│\u001b[2m \u001b[0m\u001b[2m- ASE certification or equivalent is preferred                                                                 \u001b[0m\u001b[2m \u001b[0m│\n",
       "│\u001b[2m \u001b[0m\u001b[2m                                                                                                               \u001b[0m\u001b[2m \u001b[0m│\n",
       "│\u001b[2m \u001b[0m\u001b[2mWhat We Offer:                                                                                                 \u001b[0m\u001b[2m \u001b[0m│\n",
       "│\u001b[2m \u001b[0m\u001b[2m- Competitive salary and benefits package                                                                      \u001b[0m\u001b[2m \u001b[0m│\n",
       "│\u001b[2m \u001b[0m\u001b[2m- Opportunities for professional growth and development                                                        \u001b[0m\u001b[2m \u001b[0m│\n",
       "│\u001b[2m \u001b[0m\u001b[2m- A supportive and collaborative work environment                                                              \u001b[0m\u001b[2m \u001b[0m│\n",
       "│\u001b[2m \u001b[0m\u001b[2m- Access to the latest diagnostic tools and technology                                                         \u001b[0m\u001b[2m \u001b[0m│\n",
       "└─────────────────────────────────────────────────────────────────────────────────────────────────────────────────┘\n"
      ]
     },
     "metadata": {},
     "output_type": "display_data"
    }
   ],
   "source": [
    "results.select(\"rewrite_text\").print(format=\"rich\")"
   ]
  },
  {
   "cell_type": "markdown",
   "id": "82902498-d6de-47b0-9aa8-13b8ae8050a1",
   "metadata": {
    "editable": true,
    "slideshow": {
     "slide_type": ""
    },
    "tags": []
   },
   "source": [
    "## Posting content to the Coop\n",
    "We can post any objects to the Coop, including this notebook. Objects can be updated or modified at your Coop account, and shared with others or stored privately (default visibility is *unlisted*):"
   ]
  },
  {
   "cell_type": "code",
   "execution_count": 15,
   "id": "92712a74-6aff-4ee4-8558-1b4b99bd4a25",
   "metadata": {
    "editable": true,
    "slideshow": {
     "slide_type": ""
    },
    "tags": [
     "skip-execution"
    ]
   },
   "outputs": [
    {
     "data": {
      "text/plain": [
       "{'description': 'Example survey: Job posts analysis',\n",
       " 'object_type': 'survey',\n",
       " 'url': 'https://www.expectedparrot.com/content/d53dce63-0a02-4383-88f6-7ae8c5a8534b',\n",
       " 'uuid': 'd53dce63-0a02-4383-88f6-7ae8c5a8534b',\n",
       " 'version': '0.1.33.dev1',\n",
       " 'visibility': 'public'}"
      ]
     },
     "execution_count": 15,
     "metadata": {},
     "output_type": "execute_result"
    }
   ],
   "source": [
    "survey.push(description = \"Example survey: Job posts analysis\", visibility = \"public\")"
   ]
  },
  {
   "cell_type": "code",
   "execution_count": 16,
   "id": "0b4db295-5a20-4007-9561-a98f9a10cb01",
   "metadata": {
    "editable": true,
    "slideshow": {
     "slide_type": ""
    },
    "tags": [
     "skip-execution"
    ]
   },
   "outputs": [
    {
     "data": {
      "text/plain": [
       "{'description': 'Example results: Job posts analysis',\n",
       " 'object_type': 'results',\n",
       " 'url': 'https://www.expectedparrot.com/content/4730e6db-bd98-4ccc-a663-b4cf84af0313',\n",
       " 'uuid': '4730e6db-bd98-4ccc-a663-b4cf84af0313',\n",
       " 'version': '0.1.33.dev1',\n",
       " 'visibility': 'public'}"
      ]
     },
     "execution_count": 16,
     "metadata": {},
     "output_type": "execute_result"
    }
   ],
   "source": [
    "results.push(description = \"Example results: Job posts analysis\", visibility = \"public\")"
   ]
  },
  {
   "cell_type": "code",
   "execution_count": 17,
   "id": "7055bb88-fc71-413b-a068-957838dc99f3",
   "metadata": {
    "editable": true,
    "slideshow": {
     "slide_type": ""
    },
    "tags": [
     "skip-execution"
    ]
   },
   "outputs": [],
   "source": [
    "from edsl import Notebook\n",
    "\n",
    "n = Notebook(path = \"evaluating_job_posts.ipynb\")"
   ]
  },
  {
   "cell_type": "code",
   "execution_count": 18,
   "id": "39dec191-30c0-4aa9-9f90-9661a9457ba0",
   "metadata": {
    "editable": true,
    "slideshow": {
     "slide_type": ""
    },
    "tags": [
     "skip-execution"
    ]
   },
   "outputs": [
    {
     "data": {
      "text/plain": [
       "{'description': 'Example text analysis: evaluating job posts',\n",
       " 'object_type': 'notebook',\n",
       " 'url': 'https://www.expectedparrot.com/content/f0158719-6a94-461f-92e3-8ca045cc1a9d',\n",
       " 'uuid': 'f0158719-6a94-461f-92e3-8ca045cc1a9d',\n",
       " 'version': '0.1.33.dev1',\n",
       " 'visibility': 'public'}"
      ]
     },
     "execution_count": 18,
     "metadata": {},
     "output_type": "execute_result"
    }
   ],
   "source": [
    "n.push(description = \"Example text analysis: evaluating job posts\", visibility = \"public\")"
   ]
  },
  {
   "cell_type": "markdown",
   "id": "6b01c422-4561-4be7-81b0-749f47001c2c",
   "metadata": {
    "editable": true,
    "slideshow": {
     "slide_type": ""
    },
    "tags": []
   },
   "source": [
    "To update an object at the Coop:"
   ]
  },
  {
   "cell_type": "code",
   "execution_count": 19,
   "id": "da4f6da7-dbe6-4382-923a-7ddd28292418",
   "metadata": {
    "editable": true,
    "slideshow": {
     "slide_type": ""
    },
    "tags": [
     "skip-execution"
    ]
   },
   "outputs": [
    {
     "data": {
      "text/plain": [
       "{'status': 'success'}"
      ]
     },
     "execution_count": 19,
     "metadata": {},
     "output_type": "execute_result"
    }
   ],
   "source": [
    "n = Notebook(path = \"evaluating_job_posts.ipynb\") # resave the object\n",
    "\n",
    "n.patch(uuid = \"f0158719-6a94-461f-92e3-8ca045cc1a9d\", value = n)"
   ]
  }
 ],
 "metadata": {
  "kernelspec": {
   "display_name": "Python 3 (ipykernel)",
   "language": "python",
   "name": "python3"
  },
  "language_info": {
   "codemirror_mode": {
    "name": "ipython",
    "version": 3
   },
   "file_extension": ".py",
   "mimetype": "text/x-python",
   "name": "python",
   "nbconvert_exporter": "python",
   "pygments_lexer": "ipython3",
   "version": "3.11.7"
  }
 },
 "nbformat": 4,
 "nbformat_minor": 5
}
