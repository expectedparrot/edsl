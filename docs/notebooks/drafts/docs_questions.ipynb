{
 "cells": [
  {
   "cell_type": "markdown",
   "metadata": {
    "cell_id": "222dfedff7194fed919240ae6eb7fc9e",
    "deepnote_app_block_visible": true,
    "deepnote_cell_type": "markdown"
   },
   "source": [
    "# Question types\n",
    "This notebook contains code for creating different types of questions in `edsl`."
   ]
  },
  {
   "cell_type": "markdown",
   "metadata": {
    "cell_id": "c3249c448a6441f2b3d90155ec8117c3",
    "deepnote_app_block_visible": true,
    "deepnote_cell_type": "markdown"
   },
   "source": [
    "[Multiple Choice](#Multiple-Choice)\n",
    "[Checkbox](#Checkbox)\n",
    "[Linear Scale](#Linear-Scale)\n",
    "[Yes / No](#Yes-/-No)\n",
    "[Budget](#Budget)\n",
    "[Free Text](#Free-Text)\n",
    "[List](#List)\n",
    "[Numerical](#Numerical)\n",
    "[Extract](#Extract)\n",
    "[Administering questions](#Administering-questions)"
   ]
  },
  {
   "cell_type": "code",
   "execution_count": 1,
   "metadata": {
    "cell_id": "83e4db32d37a48d692c632d9224ae5a6",
    "deepnote_app_block_visible": true,
    "deepnote_cell_type": "code"
   },
   "outputs": [],
   "source": [
    "# ! pip install edsl"
   ]
  },
  {
   "cell_type": "markdown",
   "metadata": {
    "cell_id": "a3ba54d1e3f645678813fb4a0b2c48d4",
    "deepnote_app_block_visible": true,
    "deepnote_cell_type": "markdown"
   },
   "source": [
    "## Multiple Choice\n",
    "A multiple choice question prompts the respondent to select a single option from a given set of options."
   ]
  },
  {
   "cell_type": "code",
   "execution_count": 2,
   "metadata": {
    "allow_embed": "code",
    "cell_id": "f1ad17f996da45279e7348c06fcf6af4",
    "deepnote_app_block_visible": true,
    "deepnote_cell_type": "code",
    "deepnote_to_be_reexecuted": false,
    "execution_millis": 35,
    "execution_start": 1710805156124,
    "source_hash": null
   },
   "outputs": [],
   "source": [
    "from edsl.questions import QuestionMultipleChoice\n",
    "\n",
    "q_mc = QuestionMultipleChoice(\n",
    "    question_name=\"q_mc\",\n",
    "    question_text=\"How often do you shop for clothes?\",\n",
    "    question_options=[\"Rarely or never\", \"Annually\", \"Seasonally\", \"Monthly\", \"Daily\"],\n",
    ")"
   ]
  },
  {
   "cell_type": "markdown",
   "metadata": {
    "cell_id": "92bbc509629f4bb7a9a096c89f717386",
    "deepnote_app_block_visible": true,
    "deepnote_cell_type": "markdown"
   },
   "source": [
    "## Checkbox\n",
    "A checkbox question prompts the respondent to select one or more of the given options, which are returned as a list."
   ]
  },
  {
   "cell_type": "code",
   "execution_count": 3,
   "metadata": {
    "allow_embed": "code",
    "cell_id": "2b17ff3f679b4cb8a84678d8e6604021",
    "deepnote_app_block_visible": true,
    "deepnote_cell_type": "code",
    "deepnote_to_be_reexecuted": false,
    "execution_millis": 105,
    "execution_start": 1710805191053,
    "source_hash": null
   },
   "outputs": [],
   "source": [
    "from edsl.questions import QuestionCheckBox\n",
    "\n",
    "q_cb = QuestionCheckBox(\n",
    "    question_name=\"q_cb\",\n",
    "    question_text=\"\"\"Which of the following factors are important to you in making decisions about clothes shopping? \n",
    "    Select all that apply.\"\"\",\n",
    "    question_options=[\n",
    "        \"Price\",\n",
    "        \"Quality\",\n",
    "        \"Brand Reputation\",\n",
    "        \"Style and Design\",\n",
    "        \"Fit and Comfort\",\n",
    "        \"Customer Reviews and Recommendations\",\n",
    "        \"Ethical and Sustainable Practices\",\n",
    "        \"Return Policy\",\n",
    "        \"Convenience\",\n",
    "        \"Other\",\n",
    "    ],\n",
    "    min_selections=1,  # This is optional\n",
    "    max_selections=3,  # This is optional\n",
    ")"
   ]
  },
  {
   "cell_type": "markdown",
   "metadata": {
    "cell_id": "3a34bfaf59dc44d4bb6dd816d77c3c50",
    "deepnote_app_block_visible": true,
    "deepnote_cell_type": "markdown"
   },
   "source": [
    "## Linear Scale\n",
    "A linear scale question prompts the respondent to choose from a set of numerical options."
   ]
  },
  {
   "cell_type": "code",
   "execution_count": 4,
   "metadata": {
    "allow_embed": "code",
    "cell_id": "ac616cd80351428fa13892e797406490",
    "deepnote_app_block_visible": true,
    "deepnote_cell_type": "code",
    "deepnote_to_be_reexecuted": false,
    "execution_millis": 13,
    "execution_start": 1710805218096,
    "source_hash": null
   },
   "outputs": [],
   "source": [
    "from edsl.questions import QuestionLinearScale\n",
    "\n",
    "q_ls = QuestionLinearScale(\n",
    "    question_name=\"q_ls\",\n",
    "    question_text=\"\"\"On a scale of 0-10, how much do you typically enjoy clothes shopping? \n",
    "    (0 = Not at all, 10 = Very much)\"\"\",\n",
    "    question_options=[0, 1, 2, 3, 4, 5, 6, 7, 8, 9, 10],\n",
    ")"
   ]
  },
  {
   "cell_type": "markdown",
   "metadata": {
    "cell_id": "73d355c2960d48fe9d5ddba92e899f09",
    "deepnote_app_block_visible": true,
    "deepnote_cell_type": "markdown"
   },
   "source": [
    "## Yes / No\n",
    "A yes/no question requires the respondent to respond \"yes\" or \"no\". Response options are set by default and not modifiable. To include other options use a multiple choice question."
   ]
  },
  {
   "cell_type": "code",
   "execution_count": 5,
   "metadata": {
    "allow_embed": "code",
    "cell_id": "890dc7c0e2f045edb75346c3e764c23a",
    "deepnote_app_block_visible": true,
    "deepnote_cell_type": "code",
    "deepnote_to_be_reexecuted": false,
    "execution_millis": 108,
    "execution_start": 1710805223624,
    "source_hash": null
   },
   "outputs": [],
   "source": [
    "from edsl.questions import QuestionYesNo\n",
    "\n",
    "q_yn = QuestionYesNo(\n",
    "    question_name=\"q_yn\",\n",
    "    question_text=\"Have you ever felt excluded or frustrated by the standard sizes of the fashion industry?\",\n",
    ")"
   ]
  },
  {
   "cell_type": "markdown",
   "metadata": {
    "cell_id": "1db440afd71d46039490181514578291",
    "deepnote_app_block_visible": true,
    "deepnote_cell_type": "markdown"
   },
   "source": [
    "## Budget\n",
    "A budget question prompts the respondent to allocation a specified sum among a set of options."
   ]
  },
  {
   "cell_type": "code",
   "execution_count": 6,
   "metadata": {
    "allow_embed": "code",
    "cell_id": "70979438f66f45e79e25796fcea66eb5",
    "deepnote_app_block_visible": true,
    "deepnote_cell_type": "code",
    "deepnote_to_be_reexecuted": false,
    "execution_millis": 83,
    "execution_start": 1710805253604,
    "source_hash": null
   },
   "outputs": [],
   "source": [
    "from edsl.questions import QuestionBudget\n",
    "\n",
    "q_bg = QuestionBudget(\n",
    "    question_name=\"q_bg\",\n",
    "    question_text=\"\"\"Estimate the percentage of your total time spent shopping for clothes in each of the \n",
    "    following modes.\"\"\",\n",
    "    question_options=[\n",
    "        \"Online\",\n",
    "        \"Malls\",\n",
    "        \"Freestanding stores\",\n",
    "        \"Mail order catalogs\",\n",
    "        \"Other\",\n",
    "    ],\n",
    "    budget_sum=100,\n",
    ")"
   ]
  },
  {
   "cell_type": "markdown",
   "metadata": {
    "cell_id": "7a57974cd2c54ae389707768e361e55d",
    "deepnote_app_block_visible": true,
    "deepnote_cell_type": "markdown"
   },
   "source": [
    "## Free Text\n",
    "A free text question prompts the respondent to provide a short unstructured response."
   ]
  },
  {
   "cell_type": "code",
   "execution_count": 7,
   "metadata": {
    "allow_embed": "code",
    "cell_id": "975f947c0b3041a6bb56c2be712ecc5a",
    "deepnote_app_block_visible": true,
    "deepnote_cell_type": "code",
    "deepnote_to_be_reexecuted": false,
    "execution_millis": 90,
    "execution_start": 1710805207451,
    "source_hash": null
   },
   "outputs": [],
   "source": [
    "from edsl.questions import QuestionFreeText\n",
    "\n",
    "q_ft = QuestionFreeText(\n",
    "    question_name=\"q_ft\",\n",
    "    question_text=\"What improvements would you like to see in options for clothes shopping?\",\n",
    ")"
   ]
  },
  {
   "cell_type": "markdown",
   "metadata": {
    "cell_id": "eb3993d8face40e9b34a5b13fd7bcbfb",
    "deepnote_app_block_visible": true,
    "deepnote_cell_type": "markdown"
   },
   "source": [
    "## List\n",
    "A list question prompts the respondent to provide a response in the form of a list. This can be a convenient way to reformat free text questions."
   ]
  },
  {
   "cell_type": "code",
   "execution_count": 8,
   "metadata": {
    "allow_embed": "code",
    "cell_id": "94e430250d3e4468afc353d6d64e92b7",
    "deepnote_app_block_visible": true,
    "deepnote_cell_type": "code",
    "deepnote_to_be_reexecuted": false,
    "execution_millis": 35,
    "execution_start": 1710805365304,
    "source_hash": null
   },
   "outputs": [],
   "source": [
    "from edsl.questions import QuestionList\n",
    "\n",
    "q_li = QuestionList(\n",
    "    question_name=\"q_li\",\n",
    "    question_text=\"What considerations are important to youin shopping for clothes?\",\n",
    ")"
   ]
  },
  {
   "cell_type": "markdown",
   "metadata": {
    "cell_id": "67c81fd8482141489be26434583b8820",
    "deepnote_app_block_visible": true,
    "deepnote_cell_type": "markdown"
   },
   "source": [
    "## Numerical\n",
    "A numerical question prompts the respondent to provide a response that is a number. "
   ]
  },
  {
   "cell_type": "code",
   "execution_count": 9,
   "metadata": {
    "allow_embed": "code",
    "cell_id": "b3c06ee221a54bf3a414049031627352",
    "deepnote_app_block_visible": true,
    "deepnote_cell_type": "code",
    "deepnote_to_be_reexecuted": false,
    "execution_millis": 57,
    "execution_start": 1710805369037,
    "source_hash": null
   },
   "outputs": [],
   "source": [
    "from edsl.questions import QuestionNumerical\n",
    "\n",
    "q_nu = QuestionNumerical(\n",
    "    question_name=\"q_nu\",\n",
    "    question_text=\"Estimate the amount of money that you spent on clothing in the past year (in $USD).\",\n",
    ")"
   ]
  },
  {
   "cell_type": "markdown",
   "metadata": {
    "cell_id": "1fdbee5a83b74681843fd3a0673c6930",
    "deepnote_app_block_visible": true,
    "deepnote_cell_type": "markdown"
   },
   "source": [
    "## Extract\n",
    "A question type thatprompts the respondent to provide a response in the form of a dictionary, where the keys and example values are provided. "
   ]
  },
  {
   "cell_type": "code",
   "execution_count": 10,
   "metadata": {
    "allow_embed": false,
    "cell_id": "4defaa1ba59a417485055349e7c4c037",
    "deepnote_app_block_visible": true,
    "deepnote_cell_type": "code",
    "deepnote_to_be_reexecuted": false,
    "execution_millis": 91,
    "execution_start": 1710805405692,
    "source_hash": null
   },
   "outputs": [],
   "source": [
    "from edsl.questions import QuestionExtract\n",
    "\n",
    "q_ex = QuestionExtract(\n",
    "    question_name=\"q_ex\",\n",
    "    question_text=\"\"\"Consider all of the articles of clothing in your closet. \n",
    "    Identify the categories of clothing that are most and least valuable to you.\"\"\",\n",
    "    answer_template={\"most_valuable\": \"socks\", \"least_valuable\": \"shoes\"},\n",
    ")"
   ]
  },
  {
   "cell_type": "markdown",
   "metadata": {
    "cell_id": "0735d5d26aa6417696b7ff926952ddb3",
    "deepnote_app_block_visible": true,
    "deepnote_cell_type": "markdown"
   },
   "source": [
    "## Administering questions\n",
    "Here we administer each question to the default LLM. We do this by simply appending the `run()` method to a question. (See how to administer questions and surveys to specific agent personas and LLMs in example [Agents](https://examples.expectedparrot.com/example_agent/) and [Surveys](https://examples.expectedparrot.com/example_survey/).)"
   ]
  },
  {
   "cell_type": "code",
   "execution_count": 11,
   "metadata": {
    "cell_id": "d87fa5b46fea4713ac4c075b48412e58",
    "deepnote_app_block_visible": true,
    "deepnote_cell_type": "code",
    "deepnote_to_be_reexecuted": false,
    "execution_millis": 24607,
    "execution_start": 1710805464612,
    "source_hash": null
   },
   "outputs": [],
   "source": [
    "result_mc = q_mc.run()\n",
    "result_cb = q_cb.run()\n",
    "result_ls = q_ls.run()\n",
    "result_yn = q_yn.run()\n",
    "result_bg = q_bg.run()\n",
    "result_ft = q_ft.run()\n",
    "result_li = q_li.run()\n",
    "result_nu = q_nu.run()\n",
    "result_ex = q_ex.run()"
   ]
  },
  {
   "cell_type": "markdown",
   "metadata": {
    "cell_id": "abbdd490e493477da705c316c25072ae",
    "deepnote_app_block_visible": true,
    "deepnote_cell_type": "markdown"
   },
   "source": [
    "<p>We can select the fields to inspect (e.g., just the response):</p>"
   ]
  },
  {
   "cell_type": "code",
   "execution_count": 12,
   "metadata": {
    "cell_id": "0e528d5edb8d458cbea5cdf2d5d98098",
    "deepnote_app_block_visible": true,
    "deepnote_cell_type": "code",
    "deepnote_to_be_reexecuted": false,
    "execution_millis": 219,
    "execution_start": 1710805493279,
    "source_hash": null
   },
   "outputs": [
    {
     "data": {
      "text/html": [
       "<table id=\"myTable\" class=\"display\">\n",
       "  <thead>\n",
       "  <tr>\n",
       "    <th>answer.q_mc</th>\n",
       "  </tr>\n",
       "  </thead>\n",
       "</tbody>\n",
       "  <tr>\n",
       "    <td>Seasonally</td>\n",
       "  </tr>\n",
       "</tbody>\n",
       "</table>"
      ],
      "text/plain": [
       "<IPython.core.display.HTML object>"
      ]
     },
     "metadata": {},
     "output_type": "display_data"
    }
   ],
   "source": [
    "result_mc.select(\"q_mc\").print()\n",
    "# result_cb.select(\"q_cb\").print()\n",
    "# result_ls.select(\"q_ls\").print()\n",
    "# result_yn.select(\"q_yn\").print()\n",
    "# result_bg.select(\"q_bg\").print()\n",
    "# result_ft.select(\"q_ft\").print()\n",
    "# result_li.select(\"q_li\").print()\n",
    "# result_nu.select(\"q_nu\").print()\n",
    "# result_ex.select(\"q_ex\").print()"
   ]
  },
  {
   "cell_type": "markdown",
   "metadata": {
    "cell_id": "eb6469986c104ec5b255b3a43a0b3b14",
    "deepnote_app_block_visible": true,
    "deepnote_cell_type": "markdown"
   },
   "source": [
    "<p>We can add some pretty labels to our tables:</p>"
   ]
  },
  {
   "cell_type": "code",
   "execution_count": 13,
   "metadata": {
    "cell_id": "c0a1fdd2d8fc447e9629b9d9a5e0c127",
    "deepnote_app_block_visible": true,
    "deepnote_cell_type": "code",
    "deepnote_to_be_reexecuted": false,
    "execution_millis": 269,
    "execution_start": 1710805500614,
    "source_hash": null
   },
   "outputs": [
    {
     "data": {
      "text/html": [
       "<table id=\"myTable\" class=\"display\">\n",
       "  <thead>\n",
       "  <tr>\n",
       "    <th>How often do you shop for clothes?</th>\n",
       "  </tr>\n",
       "  </thead>\n",
       "</tbody>\n",
       "  <tr>\n",
       "    <td>Seasonally</td>\n",
       "  </tr>\n",
       "</tbody>\n",
       "</table>"
      ],
      "text/plain": [
       "<IPython.core.display.HTML object>"
      ]
     },
     "metadata": {},
     "output_type": "display_data"
    },
    {
     "data": {
      "text/html": [
       "<table id=\"myTable\" class=\"display\">\n",
       "  <thead>\n",
       "  <tr>\n",
       "    <th>Which of the following factors are important to you in making decisions about clothes shopping? \n",
       "    Select all that apply.</th>\n",
       "  </tr>\n",
       "  </thead>\n",
       "</tbody>\n",
       "  <tr>\n",
       "    <td>['Quality', 'Style and Design', 'Fit and Comfort']</td>\n",
       "  </tr>\n",
       "</tbody>\n",
       "</table>"
      ],
      "text/plain": [
       "<IPython.core.display.HTML object>"
      ]
     },
     "metadata": {},
     "output_type": "display_data"
    },
    {
     "data": {
      "text/html": [
       "<table id=\"myTable\" class=\"display\">\n",
       "  <thead>\n",
       "  <tr>\n",
       "    <th>On a scale of 0-10, how much do you typically enjoy clothes shopping? \n",
       "    (0 = Not at all, 10 = Very much)</th>\n",
       "  </tr>\n",
       "  </thead>\n",
       "</tbody>\n",
       "  <tr>\n",
       "    <td>7</td>\n",
       "  </tr>\n",
       "</tbody>\n",
       "</table>"
      ],
      "text/plain": [
       "<IPython.core.display.HTML object>"
      ]
     },
     "metadata": {},
     "output_type": "display_data"
    },
    {
     "data": {
      "text/html": [
       "<table id=\"myTable\" class=\"display\">\n",
       "  <thead>\n",
       "  <tr>\n",
       "    <th>Have you ever felt excluded or frustrated by the standard sizes of the fashion industry?</th>\n",
       "  </tr>\n",
       "  </thead>\n",
       "</tbody>\n",
       "  <tr>\n",
       "    <td>Yes</td>\n",
       "  </tr>\n",
       "</tbody>\n",
       "</table>"
      ],
      "text/plain": [
       "<IPython.core.display.HTML object>"
      ]
     },
     "metadata": {},
     "output_type": "display_data"
    },
    {
     "data": {
      "text/html": [
       "<table id=\"myTable\" class=\"display\">\n",
       "  <thead>\n",
       "  <tr>\n",
       "    <th>Estimate the percentage of your total time spent shopping for clothes in each of the \n",
       "    following modes.</th>\n",
       "  </tr>\n",
       "  </thead>\n",
       "</tbody>\n",
       "  <tr>\n",
       "    <td>[{'Online': 50}, {'Malls': 30}, {'Freestanding stores': 15}, {'Mail order catalogs': 0}, {'Other': 5}]</td>\n",
       "  </tr>\n",
       "</tbody>\n",
       "</table>"
      ],
      "text/plain": [
       "<IPython.core.display.HTML object>"
      ]
     },
     "metadata": {},
     "output_type": "display_data"
    },
    {
     "data": {
      "text/html": [
       "<table id=\"myTable\" class=\"display\">\n",
       "  <thead>\n",
       "  <tr>\n",
       "    <th>What improvements would you like to see in options for clothes shopping?</th>\n",
       "  </tr>\n",
       "  </thead>\n",
       "</tbody>\n",
       "  <tr>\n",
       "    <td>I'd like to see improvements in the variety and inclusivity of sizes to cater to all body types, better use of sustainable and eco-friendly materials, enhanced virtual fitting technologies to help with online shopping, and more personalized shopping experiences through AI recommendations. Additionally, streamlined and hassle-free return policies would make the process more convenient for customers.</td>\n",
       "  </tr>\n",
       "</tbody>\n",
       "</table>"
      ],
      "text/plain": [
       "<IPython.core.display.HTML object>"
      ]
     },
     "metadata": {},
     "output_type": "display_data"
    },
    {
     "data": {
      "text/html": [
       "<table id=\"myTable\" class=\"display\">\n",
       "  <thead>\n",
       "  <tr>\n",
       "    <th>What considerations are important to youin shopping for clothes?</th>\n",
       "  </tr>\n",
       "  </thead>\n",
       "</tbody>\n",
       "  <tr>\n",
       "    <td>['fit', 'comfort', 'style', 'fabric', 'durability', 'price', 'brand', 'occasion', 'seasonality', 'maintenance', 'sustainability', 'color', 'trends', 'return policy']</td>\n",
       "  </tr>\n",
       "</tbody>\n",
       "</table>"
      ],
      "text/plain": [
       "<IPython.core.display.HTML object>"
      ]
     },
     "metadata": {},
     "output_type": "display_data"
    },
    {
     "data": {
      "text/html": [
       "<table id=\"myTable\" class=\"display\">\n",
       "  <thead>\n",
       "  <tr>\n",
       "    <th>Estimate the amount of money that you spent on clothing in the past year (in $USD).</th>\n",
       "  </tr>\n",
       "  </thead>\n",
       "</tbody>\n",
       "  <tr>\n",
       "    <td>500</td>\n",
       "  </tr>\n",
       "</tbody>\n",
       "</table>"
      ],
      "text/plain": [
       "<IPython.core.display.HTML object>"
      ]
     },
     "metadata": {},
     "output_type": "display_data"
    },
    {
     "data": {
      "text/html": [
       "<table id=\"myTable\" class=\"display\">\n",
       "  <thead>\n",
       "  <tr>\n",
       "    <th>Consider all of the articles of clothing in your closet. \n",
       "    Identify the categories of clothing that are most and least valuable to you.</th>\n",
       "  </tr>\n",
       "  </thead>\n",
       "</tbody>\n",
       "  <tr>\n",
       "    <td>{'most_valuable': 'null', 'least_valuable': 'null'}</td>\n",
       "  </tr>\n",
       "</tbody>\n",
       "</table>"
      ],
      "text/plain": [
       "<IPython.core.display.HTML object>"
      ]
     },
     "metadata": {},
     "output_type": "display_data"
    }
   ],
   "source": [
    "result_mc.select(\"q_mc\").print(pretty_labels={\"answer.q_mc\": q_mc.question_text})\n",
    "result_cb.select(\"q_cb\").print(pretty_labels={\"answer.q_cb\": q_cb.question_text})\n",
    "result_ls.select(\"q_ls\").print(pretty_labels={\"answer.q_ls\": q_ls.question_text})\n",
    "result_yn.select(\"q_yn\").print(pretty_labels={\"answer.q_yn\": q_yn.question_text})\n",
    "result_bg.select(\"q_bg\").print(pretty_labels={\"answer.q_bg\": q_bg.question_text})\n",
    "result_ft.select(\"q_ft\").print(pretty_labels={\"answer.q_ft\": q_ft.question_text})\n",
    "result_li.select(\"q_li\").print(pretty_labels={\"answer.q_li\": q_li.question_text})\n",
    "result_nu.select(\"q_nu\").print(pretty_labels={\"answer.q_nu\": q_nu.question_text})\n",
    "result_ex.select(\"q_ex\").print(pretty_labels={\"answer.q_ex\": q_ex.question_text})"
   ]
  },
  {
   "cell_type": "markdown",
   "metadata": {
    "cell_id": "e8ae8f6d35634c8ebb4a4ae7149fe7c7",
    "deepnote_app_block_visible": true,
    "deepnote_cell_type": "markdown"
   },
   "source": [
    "## Constructing a survey\n",
    "We can also combine our questions into a survey to adminster them asynchronously:"
   ]
  },
  {
   "cell_type": "code",
   "execution_count": 14,
   "metadata": {
    "cell_id": "f94fb91ea93f48a18a4e6bd957898e1d",
    "deepnote_app_block_visible": true,
    "deepnote_cell_type": "code",
    "deepnote_to_be_reexecuted": false,
    "execution_millis": 2003,
    "execution_start": 1710805614325,
    "source_hash": null
   },
   "outputs": [],
   "source": [
    "from edsl import Survey\n",
    "\n",
    "survey = Survey(questions=[q_mc, q_cb, q_ls, q_yn, q_bg, q_ft, q_li, q_nu, q_ex])\n",
    "\n",
    "results = survey.run()"
   ]
  },
  {
   "cell_type": "code",
   "execution_count": 15,
   "metadata": {
    "allow_embed": false,
    "cell_id": "711b1af75abf4d8ea86b5f746591daba",
    "deepnote_app_block_visible": true,
    "deepnote_cell_type": "code",
    "deepnote_to_be_reexecuted": false,
    "execution_millis": 39,
    "execution_start": 1710805621764,
    "source_hash": null
   },
   "outputs": [
    {
     "data": {
      "text/html": [
       "<table id=\"myTable\" class=\"display\">\n",
       "  <thead>\n",
       "  <tr>\n",
       "    <th>answer.q_mc</th>\n",
       "    <th>answer.q_cb</th>\n",
       "    <th>answer.q_ls</th>\n",
       "    <th>answer.q_yn</th>\n",
       "    <th>answer.q_bg</th>\n",
       "  </tr>\n",
       "  </thead>\n",
       "</tbody>\n",
       "  <tr>\n",
       "    <td>Seasonally</td>\n",
       "    <td>['Quality', 'Style and Design', 'Fit and Comfort']</td>\n",
       "    <td>7</td>\n",
       "    <td>Yes</td>\n",
       "    <td>[{'Online': 50}, {'Malls': 30}, {'Freestanding stores': 15}, {'Mail order catalogs': 0}, {'Other': 5}]</td>\n",
       "  </tr>\n",
       "</tbody>\n",
       "</table>"
      ],
      "text/plain": [
       "<IPython.core.display.HTML object>"
      ]
     },
     "metadata": {},
     "output_type": "display_data"
    }
   ],
   "source": [
    "results.select(\"q_mc\", \"q_cb\", \"q_ls\", \"q_yn\", \"q_bg\").print()"
   ]
  },
  {
   "cell_type": "code",
   "execution_count": 16,
   "metadata": {
    "allow_embed": false,
    "cell_id": "efb65b2d8408429797d928e4a48548d0",
    "deepnote_app_block_visible": true,
    "deepnote_cell_type": "code",
    "deepnote_to_be_reexecuted": false,
    "execution_millis": 13,
    "execution_start": 1710805631000,
    "source_hash": null
   },
   "outputs": [
    {
     "data": {
      "text/html": [
       "<table id=\"myTable\" class=\"display\">\n",
       "  <thead>\n",
       "  <tr>\n",
       "    <th>answer.q_ft</th>\n",
       "    <th>answer.q_li</th>\n",
       "    <th>answer.q_nu</th>\n",
       "    <th>answer.q_ex</th>\n",
       "  </tr>\n",
       "  </thead>\n",
       "</tbody>\n",
       "  <tr>\n",
       "    <td>I'd like to see improvements in the variety and inclusivity of sizes to cater to all body types, better use of sustainable and eco-friendly materials, enhanced virtual fitting technologies to help with online shopping, and more personalized shopping experiences through AI recommendations. Additionally, streamlined and hassle-free return policies would make the process more convenient for customers.</td>\n",
       "    <td>['fit', 'comfort', 'style', 'fabric', 'durability', 'price', 'brand', 'occasion', 'seasonality', 'maintenance', 'sustainability', 'color', 'trends', 'return policy']</td>\n",
       "    <td>500</td>\n",
       "    <td>{'most_valuable': 'null', 'least_valuable': 'null'}</td>\n",
       "  </tr>\n",
       "</tbody>\n",
       "</table>"
      ],
      "text/plain": [
       "<IPython.core.display.HTML object>"
      ]
     },
     "metadata": {},
     "output_type": "display_data"
    }
   ],
   "source": [
    "results.select(\"q_ft\", \"q_li\", \"q_nu\", \"q_ex\").print()"
   ]
  },
  {
   "cell_type": "markdown",
   "metadata": {
    "cell_id": "05471df5adc646abb539dffb6002b4df",
    "deepnote_app_block_visible": true,
    "deepnote_cell_type": "markdown"
   },
   "source": [
    "## Parameterizing questions\n",
    "We can create different versions or scenarios of questions by parameterizing them:"
   ]
  },
  {
   "cell_type": "code",
   "execution_count": 17,
   "metadata": {
    "cell_id": "23fe91d998304903a86d2504bdd8fff8",
    "deepnote_app_block_visible": true,
    "deepnote_cell_type": "code",
    "deepnote_to_be_reexecuted": false,
    "execution_millis": 3265,
    "execution_start": 1710805884064,
    "source_hash": null
   },
   "outputs": [
    {
     "data": {
      "text/html": [
       "<table id=\"myTable\" class=\"display\">\n",
       "  <thead>\n",
       "  <tr>\n",
       "    <th>scenario.item</th>\n",
       "    <th>answer.annual_item_spending</th>\n",
       "  </tr>\n",
       "  </thead>\n",
       "</tbody>\n",
       "  <tr>\n",
       "    <td>shoes</td>\n",
       "    <td>0</td>\n",
       "  </tr>\n",
       "  <tr>\n",
       "    <td>hats</td>\n",
       "    <td>0</td>\n",
       "  </tr>\n",
       "  <tr>\n",
       "    <td>tshirts</td>\n",
       "    <td>0</td>\n",
       "  </tr>\n",
       "</tbody>\n",
       "</table>"
      ],
      "text/plain": [
       "<IPython.core.display.HTML object>"
      ]
     },
     "metadata": {},
     "output_type": "display_data"
    }
   ],
   "source": [
    "from edsl import Scenario\n",
    "\n",
    "scenarios = [Scenario({\"item\": i}) for i in [\"shoes\", \"hats\", \"tshirts\"]]\n",
    "\n",
    "q = QuestionNumerical(\n",
    "    question_name=\"annual_item_spending\",\n",
    "    question_text=\"How much do you spend shopping for {{ item }} on an annual basis (in $USD)?\",\n",
    ")\n",
    "\n",
    "results = q.by(scenarios).run()\n",
    "results.select(\"scenario.*\", \"annual_item_spending\").print()"
   ]
  },
  {
   "cell_type": "markdown",
   "metadata": {
    "cell_id": "3b7a2f758cf54a069956baa7787e847a",
    "deepnote_app_block_visible": true,
    "deepnote_cell_type": "markdown"
   },
   "source": [
    "### Filtering results\n",
    "We can filter results by adding a logical expression to the `select()` method. Note that all question types other than free text automatically include a \"comment\" field for the response:"
   ]
  },
  {
   "cell_type": "code",
   "execution_count": 18,
   "metadata": {
    "cell_id": "af8c8dd8da2646a08f77077b1e095f6b",
    "deepnote_app_block_visible": true,
    "deepnote_cell_type": "code",
    "deepnote_to_be_reexecuted": false,
    "execution_millis": 211,
    "execution_start": 1710805903337,
    "source_hash": null
   },
   "outputs": [
    {
     "data": {
      "text/html": [
       "<table id=\"myTable\" class=\"display\">\n",
       "  <thead>\n",
       "  <tr>\n",
       "    <th>scenario.item</th>\n",
       "    <th>answer.annual_item_spending_comment</th>\n",
       "    <th>answer.annual_item_spending</th>\n",
       "  </tr>\n",
       "  </thead>\n",
       "</tbody>\n",
       "  <tr>\n",
       "    <td>shoes</td>\n",
       "    <td>As an AI, I do not have personal experiences or expenses, so I do not spend any money on shoes or anything else.</td>\n",
       "    <td>0</td>\n",
       "  </tr>\n",
       "</tbody>\n",
       "</table>"
      ],
      "text/plain": [
       "<IPython.core.display.HTML object>"
      ]
     },
     "metadata": {},
     "output_type": "display_data"
    }
   ],
   "source": [
    "(results.filter(\"scenario.item == 'shoes'\").select(\"scenario.item\", \"answer.*\").print())"
   ]
  },
  {
   "cell_type": "markdown",
   "metadata": {
    "cell_id": "1251d5adc9ec4f0cbe8a62631bea7b5f",
    "deepnote_app_block_visible": true,
    "deepnote_cell_type": "markdown"
   },
   "source": [
    "## Adding AI agents\n",
    "We can design an agent with a persona to reference in responding to the survey questions:"
   ]
  },
  {
   "cell_type": "code",
   "execution_count": 19,
   "metadata": {
    "cell_id": "df3f54efd5b24d78b3638efb1efe5d0e",
    "deepnote_app_block_visible": true,
    "deepnote_cell_type": "code",
    "deepnote_to_be_reexecuted": false,
    "execution_millis": 4860,
    "execution_start": 1710805912804,
    "source_hash": null
   },
   "outputs": [
    {
     "data": {
      "text/html": [
       "<table id=\"myTable\" class=\"display\">\n",
       "  <thead>\n",
       "  <tr>\n",
       "    <th>agent.persona</th>\n",
       "    <th>answer.q_ft</th>\n",
       "  </tr>\n",
       "  </thead>\n",
       "</tbody>\n",
       "  <tr>\n",
       "    <td>You are an expert in fashion design.</td>\n",
       "    <td>I'd like to see advancements in virtual fitting technology to help customers better visualize how clothes would fit their bodies without trying them on in-store. Additionally, increased personalization options where algorithms suggest clothing based on personal style, body type, and past purchases could enhance the shopping experience. More sustainable and transparent clothing options, with detailed information about materials and ethical sourcing, are also important. Finally, a broader range of sizes and adaptive clothing options to cater to all body types and abilities would be a significant improvement.</td>\n",
       "  </tr>\n",
       "</tbody>\n",
       "</table>"
      ],
      "text/plain": [
       "<IPython.core.display.HTML object>"
      ]
     },
     "metadata": {},
     "output_type": "display_data"
    }
   ],
   "source": [
    "from edsl import Agent\n",
    "\n",
    "agent = Agent(\n",
    "    name=\"Fashion expert\", traits={\"persona\": \"You are an expert in fashion design.\"}\n",
    ")\n",
    "\n",
    "results = survey.by(agent).run()\n",
    "results.select(\"persona\", \"answer.q_ft\").print()"
   ]
  },
  {
   "cell_type": "markdown",
   "metadata": {
    "cell_id": "a7e690d6f04f4594a0745b75fb76ee65",
    "deepnote_app_block_visible": true,
    "deepnote_cell_type": "markdown"
   },
   "source": [
    "## Adding question memory\n",
    "We can include a \"memory\" of a prior question/answer in the prompt for a subsequent question. Here we include the question and response to q_mc in the prompt for q_ft and inspect it:"
   ]
  },
  {
   "cell_type": "code",
   "execution_count": 20,
   "metadata": {
    "cell_id": "46c7d981f9d342ef838fc9fb998ad44d",
    "deepnote_app_block_visible": true,
    "deepnote_cell_type": "code",
    "deepnote_to_be_reexecuted": false,
    "execution_millis": 4485,
    "execution_start": 1710805921889,
    "source_hash": null
   },
   "outputs": [],
   "source": [
    "survey.add_targeted_memory(q_li, q_ft)\n",
    "\n",
    "results = survey.by(agent).run()"
   ]
  },
  {
   "cell_type": "code",
   "execution_count": 21,
   "metadata": {
    "allow_embed": false,
    "cell_id": "2da37c938ff542549ffee6d0ee8a7614",
    "deepnote_app_block_visible": true,
    "deepnote_cell_type": "code",
    "deepnote_to_be_reexecuted": false,
    "execution_millis": 321,
    "execution_start": 1710805928483,
    "source_hash": null
   },
   "outputs": [
    {
     "data": {
      "text/html": [
       "<table id=\"myTable\" class=\"display\">\n",
       "  <thead>\n",
       "  <tr>\n",
       "    <th>(List version) What considerations are important to youin shopping for clothes?</th>\n",
       "    <th>(Free text version) What improvements would you like to see in options for clothes shopping?</th>\n",
       "    <th>Prompt for q_ft</th>\n",
       "  </tr>\n",
       "  </thead>\n",
       "</tbody>\n",
       "  <tr>\n",
       "    <td>['Fit', 'Material', 'Style', 'Versatility', 'Durability', 'Brand reputation', 'Ethical sourcing', 'Price', 'Care instructions', 'Seasonality', 'Occasion appropriateness', 'Trendiness', 'Size availability', 'Color']</td>\n",
       "    <td>I'd like to see advancements in virtual fitting technology to help customers better visualize how clothes would fit their bodies without trying them on in-store. Additionally, increased personalization options where algorithms suggest clothing based on personal style, body type, and past purchases could enhance the shopping experience. More sustainable and transparent clothing options, with detailed information about materials and ethical sourcing, are also important. Finally, a broader range of sizes and adaptive clothing options to cater to all body types and abilities would be a significant improvement.</td>\n",
       "    <td>{'text': 'You are being asked the following question: What improvements would you like to see in options for clothes shopping?\\nReturn a valid JSON formatted like this:\\n{\"answer\": \"<put free text answer here>\"}', 'class_name': 'FreeText'}</td>\n",
       "  </tr>\n",
       "</tbody>\n",
       "</table>"
      ],
      "text/plain": [
       "<IPython.core.display.HTML object>"
      ]
     },
     "metadata": {},
     "output_type": "display_data"
    }
   ],
   "source": [
    "(\n",
    "    results.select(\"q_li\", \"q_ft_user_prompt\", \"q_ft\").print(\n",
    "        {\n",
    "            \"answer.q_li\": \"(List version) \" + q_li.question_text,\n",
    "            \"prompt.q_ft_user_prompt\": \"Prompt for q_ft\",\n",
    "            \"answer.q_ft\": \"(Free text version) \" + q_ft.question_text,\n",
    "        }\n",
    "    )\n",
    ")"
   ]
  },
  {
   "cell_type": "markdown",
   "metadata": {
    "cell_id": "c9466e0ccd424e728743ff7de0ff27c6",
    "deepnote_app_block_visible": true,
    "deepnote_cell_type": "markdown"
   },
   "source": [
    "## Specifying LLMs\n",
    "We can specify the language models to use in running a survey:"
   ]
  },
  {
   "cell_type": "code",
   "execution_count": 22,
   "metadata": {
    "cell_id": "e16cb3a8554e43b79d7f3caeda48c296",
    "deepnote_app_block_visible": true,
    "deepnote_cell_type": "code",
    "deepnote_to_be_reexecuted": false,
    "execution_millis": 100,
    "execution_start": 1710805934071,
    "source_hash": null
   },
   "outputs": [
    {
     "data": {
      "text/plain": [
       "[['01-ai/Yi-34B-Chat', 'deep_infra', 0],\n",
       " ['Austism/chronos-hermes-13b-v2', 'deep_infra', 1],\n",
       " ['Gryphe/MythoMax-L2-13b', 'deep_infra', 2],\n",
       " ['HuggingFaceH4/zephyr-orpo-141b-A35b-v0.1', 'deep_infra', 3],\n",
       " ['Phind/Phind-CodeLlama-34B-v2', 'deep_infra', 4],\n",
       " ['bigcode/starcoder2-15b', 'deep_infra', 5],\n",
       " ['claude-3-haiku-20240307', 'anthropic', 6],\n",
       " ['claude-3-opus-20240229', 'anthropic', 7],\n",
       " ['claude-3-sonnet-20240229', 'anthropic', 8],\n",
       " ['codellama/CodeLlama-34b-Instruct-hf', 'deep_infra', 9],\n",
       " ['codellama/CodeLlama-70b-Instruct-hf', 'deep_infra', 10],\n",
       " ['cognitivecomputations/dolphin-2.6-mixtral-8x7b', 'deep_infra', 11],\n",
       " ['databricks/dbrx-instruct', 'deep_infra', 12],\n",
       " ['deepinfra/airoboros-70b', 'deep_infra', 13],\n",
       " ['gemini-pro', 'google', 14],\n",
       " ['google/gemma-1.1-7b-it', 'deep_infra', 15],\n",
       " ['gpt-3.5-turbo', 'openai', 16],\n",
       " ['gpt-3.5-turbo-0125', 'openai', 17],\n",
       " ['gpt-3.5-turbo-0301', 'openai', 18],\n",
       " ['gpt-3.5-turbo-0613', 'openai', 19],\n",
       " ['gpt-3.5-turbo-1106', 'openai', 20],\n",
       " ['gpt-3.5-turbo-16k', 'openai', 21],\n",
       " ['gpt-3.5-turbo-16k-0613', 'openai', 22],\n",
       " ['gpt-3.5-turbo-instruct', 'openai', 23],\n",
       " ['gpt-3.5-turbo-instruct-0914', 'openai', 24],\n",
       " ['gpt-4', 'openai', 25],\n",
       " ['gpt-4-0125-preview', 'openai', 26],\n",
       " ['gpt-4-0613', 'openai', 27],\n",
       " ['gpt-4-1106-preview', 'openai', 28],\n",
       " ['gpt-4-1106-vision-preview', 'openai', 29],\n",
       " ['gpt-4-turbo', 'openai', 30],\n",
       " ['gpt-4-turbo-2024-04-09', 'openai', 31],\n",
       " ['gpt-4-turbo-preview', 'openai', 32],\n",
       " ['gpt-4-vision-preview', 'openai', 33],\n",
       " ['lizpreciatior/lzlv_70b_fp16_hf', 'deep_infra', 34],\n",
       " ['llava-hf/llava-1.5-7b-hf', 'deep_infra', 35],\n",
       " ['meta-llama/Llama-2-13b-chat-hf', 'deep_infra', 36],\n",
       " ['meta-llama/Llama-2-70b-chat-hf', 'deep_infra', 37],\n",
       " ['meta-llama/Llama-2-7b-chat-hf', 'deep_infra', 38],\n",
       " ['meta-llama/Meta-Llama-3-70B-Instruct', 'deep_infra', 39],\n",
       " ['meta-llama/Meta-Llama-3-8B-Instruct', 'deep_infra', 40],\n",
       " ['microsoft/WizardLM-2-7B', 'deep_infra', 41],\n",
       " ['microsoft/WizardLM-2-8x22B', 'deep_infra', 42],\n",
       " ['mistralai/Mistral-7B-Instruct-v0.1', 'deep_infra', 43],\n",
       " ['mistralai/Mistral-7B-Instruct-v0.2', 'deep_infra', 44],\n",
       " ['mistralai/Mixtral-8x22B-Instruct-v0.1', 'deep_infra', 45],\n",
       " ['mistralai/Mixtral-8x22B-v0.1', 'deep_infra', 46],\n",
       " ['mistralai/Mixtral-8x7B-Instruct-v0.1', 'deep_infra', 47],\n",
       " ['openchat/openchat_3.5', 'deep_infra', 48]]"
      ]
     },
     "execution_count": 22,
     "metadata": {},
     "output_type": "execute_result"
    }
   ],
   "source": [
    "from edsl import Model\n",
    "\n",
    "Model.available()"
   ]
  },
  {
   "cell_type": "code",
   "execution_count": 23,
   "metadata": {
    "allow_embed": false,
    "cell_id": "44cf6e37b0bb475e8b12720039878834",
    "deepnote_app_block_visible": true,
    "deepnote_cell_type": "code",
    "deepnote_to_be_reexecuted": false,
    "execution_millis": 11285,
    "execution_start": 1710805937200,
    "source_hash": null
   },
   "outputs": [
    {
     "data": {
      "text/html": [
       "<table id=\"myTable\" class=\"display\">\n",
       "  <thead>\n",
       "  <tr>\n",
       "    <th>model.model</th>\n",
       "    <th>answer.q_bg</th>\n",
       "    <th>answer.q_li</th>\n",
       "  </tr>\n",
       "  </thead>\n",
       "</tbody>\n",
       "  <tr>\n",
       "    <td>gpt-3.5-turbo</td>\n",
       "    <td>[{'Online': 40}, {'Malls': 20}, {'Freestanding stores': 30}, {'Mail order catalogs': 5}, {'Other': 5}]</td>\n",
       "    <td>['Quality', 'Fit', 'Material', 'Style', 'Brand reputation', 'Price', 'Functionality']</td>\n",
       "  </tr>\n",
       "  <tr>\n",
       "    <td>gpt-4-1106-preview</td>\n",
       "    <td>[{'Online': 40}, {'Malls': 30}, {'Freestanding stores': 20}, {'Mail order catalogs': 5}, {'Other': 5}]</td>\n",
       "    <td>['Fit', 'Material', 'Style', 'Versatility', 'Durability', 'Brand reputation', 'Ethical sourcing', 'Price', 'Care instructions', 'Seasonality', 'Occasion appropriateness', 'Trendiness', 'Size availability', 'Color']</td>\n",
       "  </tr>\n",
       "</tbody>\n",
       "</table>"
      ],
      "text/plain": [
       "<IPython.core.display.HTML object>"
      ]
     },
     "metadata": {},
     "output_type": "display_data"
    }
   ],
   "source": [
    "models = [Model(m) for m in [\"gpt-3.5-turbo\", \"gpt-4-1106-preview\"]]\n",
    "\n",
    "results = survey.by(agent).by(models).run()\n",
    "results.select(\"model.model\", \"q_bg\", \"q_li\").print()"
   ]
  },
  {
   "cell_type": "markdown",
   "metadata": {
    "cell_id": "cdb19fe7afdb485488df22de2d1319a4",
    "deepnote_app_block_visible": true,
    "deepnote_cell_type": "markdown"
   },
   "source": [
    "## Show columns\n",
    "We can check a list all of the components of the results with the `columns` method:"
   ]
  },
  {
   "cell_type": "code",
   "execution_count": 24,
   "metadata": {
    "allow_embed": false,
    "cell_id": "b19c5f4aa34942e393b393f9d1fa2e89",
    "deepnote_app_block_visible": true,
    "deepnote_cell_type": "code",
    "deepnote_to_be_reexecuted": false,
    "execution_millis": 3873,
    "execution_start": 1710805952297,
    "source_hash": null
   },
   "outputs": [
    {
     "data": {
      "text/plain": [
       "['agent.agent_name',\n",
       " 'agent.persona',\n",
       " 'answer.q_mc',\n",
       " 'answer.q_mc_comment',\n",
       " 'iteration.iteration',\n",
       " 'model.frequency_penalty',\n",
       " 'model.logprobs',\n",
       " 'model.max_tokens',\n",
       " 'model.model',\n",
       " 'model.presence_penalty',\n",
       " 'model.temperature',\n",
       " 'model.top_logprobs',\n",
       " 'model.top_p',\n",
       " 'prompt.q_mc_system_prompt',\n",
       " 'prompt.q_mc_user_prompt',\n",
       " 'raw_model_response.q_mc_raw_model_response',\n",
       " 'scenario.item']"
      ]
     },
     "execution_count": 24,
     "metadata": {},
     "output_type": "execute_result"
    }
   ],
   "source": [
    "results = q_mc.by(scenarios).by(agent).by(models).run()\n",
    "results.columns"
   ]
  }
 ],
 "metadata": {
  "deepnote_app_clear_outputs": false,
  "deepnote_app_layout": "powerful-article",
  "deepnote_app_reactivity_enabled": true,
  "deepnote_app_width": "full-width",
  "deepnote_execution_queue": [],
  "deepnote_notebook_id": "17430978a5634fc4ada3127b6b9bcd66",
  "kernelspec": {
   "display_name": "Python 3 (ipykernel)",
   "language": "python",
   "name": "python3"
  },
  "language_info": {
   "codemirror_mode": {
    "name": "ipython",
    "version": 3
   },
   "file_extension": ".py",
   "mimetype": "text/x-python",
   "name": "python",
   "nbconvert_exporter": "python",
   "pygments_lexer": "ipython3",
   "version": "3.11.7"
  }
 },
 "nbformat": 4,
 "nbformat_minor": 4
}
