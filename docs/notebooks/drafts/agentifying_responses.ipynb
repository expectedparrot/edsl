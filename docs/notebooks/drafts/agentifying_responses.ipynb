{
 "cells": [
  {
   "cell_type": "markdown",
   "id": "af724214-d765-4d9c-9267-cfbbf724bb0f",
   "metadata": {
    "editable": true,
    "slideshow": {
     "slide_type": ""
    },
    "tags": []
   },
   "source": [
    "# Agent conversations\n",
    "This notebook provides sample [EDSL](https://docs.expectedparrot.com/) code for creating AI agents representing survey respondents and simulating follow-on interviews with them.\n",
    "\n",
    "[EDSL is an open-source library](https://github.com/expectedparrot/edsl) for simulating surveys, experiments and other research with AI agents and large language models. \n",
    "Before running the code below, please ensure that you have [installed the EDSL library](https://docs.expectedparrot.com/en/latest/installation.html) and either [activated remote inference](https://docs.expectedparrot.com/en/latest/remote_inference.html) from your [Coop account](https://docs.expectedparrot.com/en/latest/coop.html) or [stored API keys](https://docs.expectedparrot.com/en/latest/api_keys.html) for the language models that you want to use with EDSL. Please also see our [documentation page](https://docs.expectedparrot.com/) for tips and tutorials on getting started using EDSL."
   ]
  },
  {
   "cell_type": "markdown",
   "id": "32c0cef5-da9f-4e24-82ef-d0d80f9e0418",
   "metadata": {},
   "source": [
    "## Importing survey data\n",
    "We start by using the `Conjure` module to import a dataset of survey responses and convert it into EDSL objects. \n",
    "For purposes of demonstration we'll use a set of mock responses to a reader survey about a home renovation newsletter:"
   ]
  },
  {
   "cell_type": "code",
   "execution_count": 1,
   "id": "0c4086d6-cb87-41ea-8cbf-84bc66b781ec",
   "metadata": {},
   "outputs": [],
   "source": [
    "# \"How often do you read our home renovation tips newsletter?\",\"On a scale of 1-10, how useful do you find the content in our newsletter? (1 = Not useful at all, 10 = Extremely useful)\",\"Would you recommend our newsletter to a friend or family member?\",\"What topics would you like to see covered in future issues of our newsletter?\"\n",
    "# \"Weekly\",9,\"Yes\",\"More articles on upcycling old furniture, please! I'm all about that eco-friendly life.\"\n",
    "# \"Monthly\",7,\"Yes\",\"How about some tips for renovating tiny apartments? Not all of us live in mansions, you know!\"\n",
    "# \"Quarterly\",4,\"No\",\"Honestly, I find most of the content too advanced. Could you include a 'Renovation 101' section for us newbies?\"\n",
    "# \"Rarely\",2,\"No\",\"Your newsletter is way too text-heavy. Ever heard of infographics? Or videos? Join the 21st century, folks!\"\n",
    "# \"Weekly\",10,\"Yes\",\"I'd kill for a deep dive into historical home restoration techniques. Let's get nerdy with it!\"\n",
    "# \"Monthly\",6,\"No\",\"Meh, it's okay. Maybe feature some celebrity home renos? That'd spice things up a bit.\"\n",
    "# \"Quarterly\",8,\"Yes\",\"As a contractor, I'd love to see a section addressing common client misconceptions about renovations.\"\n",
    "# \"Weekly\",9,\"Yes\",\"Your content rocks, but how about some love for us renters? Removable upgrades are my jam!\"\n",
    "# \"Monthly\",5,\"No\",\"Too many ads, not enough substance. I feel like I'm reading a catalog half the time.\"\n",
    "# \"Rarely\",3,\"No\",\"Snooze fest. Where's the excitement? How about some extreme home makeover challenges?\"\n",
    "# \"Weekly\",10,\"Yes\",\"I'm obsessed with smart home tech. Can we get more articles on integrating tech into older homes?\"\n",
    "# \"Monthly\",7,\"Yes\",\"Love the newsletter, but please proofread! The typos are driving my inner grammar nerd crazy.\"\n",
    "# \"Quarterly\",6,\"Yes\",\"How about a series on renovation horror stories and how to avoid them? Could be both helpful and entertaining!\"\n",
    "# \"Rarely\",1,\"No\",\"Unsubscribe button, where art thou? This newsletter is about as useful as a chocolate teapot.\"\n",
    "# \"Monthly\",8,\"Yes\",\"Any chance of including a Q&A section with real architects or designers? I've got questions!\"\n",
    "# \"Weekly\",9,\"Yes\",\"More budget breakdowns, please! I want to know exactly where my renovation dollars are going.\"\n",
    "# \"Quarterly\",5,\"No\",\"It's fine, I guess. But could you cover more international design trends? It's a big world out there!\"\n",
    "# \"Monthly\",7,\"Yes\",\"Hey, how about some tips for pet-friendly renovations? My cats are destroying everything!\"\n",
    "# \"Weekly\",10,\"Yes\",\"Absolutely adore your content! But I'm dying to see more about incorporating art into home design. Let's get creative!\"\n",
    "# \"Rarely\",4,\"No\",\"Too mainstream for my taste. Where are the articles on avant-garde design or extreme home modifications?\""
   ]
  },
  {
   "cell_type": "markdown",
   "id": "7d54d300-b9a4-49b7-bcd7-f5dd656f062f",
   "metadata": {},
   "source": [
    "We've saved the CSV at the Coop and can re-import it here:"
   ]
  },
  {
   "cell_type": "code",
   "execution_count": 2,
   "id": "5447d440",
   "metadata": {},
   "outputs": [],
   "source": [
    "from edsl.scenarios.FileStore import CSVFileStore"
   ]
  },
  {
   "cell_type": "code",
   "execution_count": 3,
   "id": "b569752c-0fd6-4a67-a72f-ba2adffd7ba3",
   "metadata": {},
   "outputs": [],
   "source": [
    "csv_file = CSVFileStore.pull('fa512b3e-f060-49f8-b7bf-bf20b1132ab2', expected_parrot_url='https://www.expectedparrot.com')"
   ]
  },
  {
   "cell_type": "code",
   "execution_count": 4,
   "id": "619a6488-4026-4a74-b98f-f0fb95968ee7",
   "metadata": {},
   "outputs": [],
   "source": [
    "# Code for uploading a CSV to the Coop:\n",
    "\n",
    "# refresh = False\n",
    "# if refresh:\n",
    "#     from edsl.scenarios.FileStore import CSVFileStore\n",
    "#     fs = CSVFileStore(\"newsletter_survey_responses.csv\")\n",
    "#     info = fs.push()\n",
    "#     print(info)"
   ]
  },
  {
   "cell_type": "markdown",
   "id": "b9925a20-a80e-45c3-9540-227b4b430718",
   "metadata": {},
   "source": [
    "Conjure allows us to recreate the file as EDSL objects ([learn more about using Conjure](https://docs.expectedparrot.com/en/latest/conjure.html)):"
   ]
  },
  {
   "cell_type": "code",
   "execution_count": 5,
   "id": "98df882e-d624-4100-baae-d86d295258b9",
   "metadata": {},
   "outputs": [],
   "source": [
    "from edsl import Conjure"
   ]
  },
  {
   "cell_type": "code",
   "execution_count": 6,
   "id": "ed042f0f-f182-4da4-82d2-9133d476975a",
   "metadata": {},
   "outputs": [],
   "source": [
    "c = Conjure(csv_file.to_tempfile())"
   ]
  },
  {
   "cell_type": "markdown",
   "id": "c89ccf03-a79b-42ec-8312-dfe5b4c5f452",
   "metadata": {},
   "source": [
    "We can inspect the questions that were in the survey:"
   ]
  },
  {
   "cell_type": "code",
   "execution_count": 7,
   "id": "aec98ea6-5052-4830-9258-889a076d5c3f",
   "metadata": {},
   "outputs": [
    {
     "data": {
      "text/plain": [
       "['How often do you read the newsletter?',\n",
       " 'What topics would you like to see covered in future issues?',\n",
       " 'On a scale of 1 to 10, how would you rate the overall quality of the newsletter?',\n",
       " 'Which section of the newsletter do you find most valuable?',\n",
       " 'What improvements would you suggest for the newsletter?']"
      ]
     },
     "execution_count": 7,
     "metadata": {},
     "output_type": "execute_result"
    }
   ],
   "source": [
    "c.question_texts"
   ]
  },
  {
   "cell_type": "markdown",
   "id": "1315a702-6f1e-4749-a8a3-450195a21921",
   "metadata": {},
   "source": [
    "## Generating EDSL objects\n",
    "The `Conjure` module provides methods for automatically generating `Survey`, `Results` and `Agent` objects from the survey data. These methods allow us to use [built-in methods for analyzing the results](https://docs.expectedparrot.com/en/latest/results.html) and [create AI agents](https://docs.expectedparrot.com/en/latest/agents.html) representing the original survey respondents.\n",
    "\n",
    "### Recreating results\n",
    "For example, we can recreate the responses as EDSL `Results` and sample, filter, select and print them:"
   ]
  },
  {
   "cell_type": "code",
   "execution_count": 8,
   "id": "2d156f02-2923-4a22-9fc2-fd6ee88ea73a",
   "metadata": {},
   "outputs": [],
   "source": [
    "results = c.to_results(disable_remote_inference=True)"
   ]
  },
  {
   "cell_type": "code",
   "execution_count": 9,
   "id": "b4c36a29-57f7-4711-95b0-2930ca023798",
   "metadata": {},
   "outputs": [
    {
     "name": "stderr",
     "output_type": "stream",
     "text": [
      "/Users/a16174/edsl/edsl/results/Result.py:267: UserWarning: Key 'often_read_newsletter' of data type 'answer' is already in use. Renaming to often_read_newsletter_answer\n",
      "  warnings.warn(\n",
      "/Users/a16174/edsl/edsl/results/Result.py:267: UserWarning: Key 'topics_would_like_see_covered' of data type 'answer' is already in use. Renaming to topics_would_like_see_covered_answer\n",
      "  warnings.warn(\n",
      "/Users/a16174/edsl/edsl/results/Result.py:267: UserWarning: Key 'scale_1_10_would_rate_overall' of data type 'answer' is already in use. Renaming to scale_1_10_would_rate_overall_answer\n",
      "  warnings.warn(\n",
      "/Users/a16174/edsl/edsl/results/Result.py:267: UserWarning: Key 'section_newsletter_find_valuable' of data type 'answer' is already in use. Renaming to section_newsletter_find_valuable_answer\n",
      "  warnings.warn(\n",
      "/Users/a16174/edsl/edsl/results/Result.py:267: UserWarning: Key 'improvements_would_suggest' of data type 'answer' is already in use. Renaming to improvements_would_suggest_answer\n",
      "  warnings.warn(\n"
     ]
    },
    {
     "data": {
      "text/html": [
       "<pre style=\"white-space:pre;overflow-x:auto;line-height:normal;font-family:Menlo,'DejaVu Sans Mono',consolas,'Courier New',monospace\">┏━━━━━━━━━━━━━━━━━━━━━━┳━━━━━━━━━━━━━━━━━━━━━━┳━━━━━━━━━━━━━━━━━━━━━━┳━━━━━━━━━━━━━━━━━━━━━┳━━━━━━━━━━━━━━━━━━━━━━┓\n",
       "┃<span style=\"color: #800080; text-decoration-color: #800080; font-weight: bold\"> answer               </span>┃<span style=\"color: #800080; text-decoration-color: #800080; font-weight: bold\"> answer               </span>┃<span style=\"color: #800080; text-decoration-color: #800080; font-weight: bold\"> answer               </span>┃<span style=\"color: #800080; text-decoration-color: #800080; font-weight: bold\"> answer              </span>┃<span style=\"color: #800080; text-decoration-color: #800080; font-weight: bold\"> answer               </span>┃\n",
       "┃<span style=\"color: #800080; text-decoration-color: #800080; font-weight: bold\"> .often_read_newslet… </span>┃<span style=\"color: #800080; text-decoration-color: #800080; font-weight: bold\"> .topics_would_like_… </span>┃<span style=\"color: #800080; text-decoration-color: #800080; font-weight: bold\"> .improvements_would… </span>┃<span style=\"color: #800080; text-decoration-color: #800080; font-weight: bold\"> .section_newslette… </span>┃<span style=\"color: #800080; text-decoration-color: #800080; font-weight: bold\"> .scale_1_10_would_r… </span>┃\n",
       "┡━━━━━━━━━━━━━━━━━━━━━━╇━━━━━━━━━━━━━━━━━━━━━━╇━━━━━━━━━━━━━━━━━━━━━━╇━━━━━━━━━━━━━━━━━━━━━╇━━━━━━━━━━━━━━━━━━━━━━┩\n",
       "│<span style=\"color: #7f7f7f; text-decoration-color: #7f7f7f\"> Monthly              </span>│<span style=\"color: #7f7f7f; text-decoration-color: #7f7f7f\"> I think the          </span>│<span style=\"color: #7f7f7f; text-decoration-color: #7f7f7f\"> The layout of the    </span>│<span style=\"color: #7f7f7f; text-decoration-color: #7f7f7f\"> Product Reviews     </span>│<span style=\"color: #7f7f7f; text-decoration-color: #7f7f7f\"> 7                    </span>│\n",
       "│<span style=\"color: #7f7f7f; text-decoration-color: #7f7f7f\">                      </span>│<span style=\"color: #7f7f7f; text-decoration-color: #7f7f7f\"> newsletter could     </span>│<span style=\"color: #7f7f7f; text-decoration-color: #7f7f7f\"> newsletter could be  </span>│<span style=\"color: #7f7f7f; text-decoration-color: #7f7f7f\">                     </span>│<span style=\"color: #7f7f7f; text-decoration-color: #7f7f7f\">                      </span>│\n",
       "│<span style=\"color: #7f7f7f; text-decoration-color: #7f7f7f\">                      </span>│<span style=\"color: #7f7f7f; text-decoration-color: #7f7f7f\"> benefit from a       </span>│<span style=\"color: #7f7f7f; text-decoration-color: #7f7f7f\"> improved with more   </span>│<span style=\"color: #7f7f7f; text-decoration-color: #7f7f7f\">                     </span>│<span style=\"color: #7f7f7f; text-decoration-color: #7f7f7f\">                      </span>│\n",
       "│<span style=\"color: #7f7f7f; text-decoration-color: #7f7f7f\">                      </span>│<span style=\"color: #7f7f7f; text-decoration-color: #7f7f7f\"> series on advanced   </span>│<span style=\"color: #7f7f7f; text-decoration-color: #7f7f7f\"> visual elements like </span>│<span style=\"color: #7f7f7f; text-decoration-color: #7f7f7f\">                     </span>│<span style=\"color: #7f7f7f; text-decoration-color: #7f7f7f\">                      </span>│\n",
       "│<span style=\"color: #7f7f7f; text-decoration-color: #7f7f7f\">                      </span>│<span style=\"color: #7f7f7f; text-decoration-color: #7f7f7f\"> home automation      </span>│<span style=\"color: #7f7f7f; text-decoration-color: #7f7f7f\"> diagrams and photos. </span>│<span style=\"color: #7f7f7f; text-decoration-color: #7f7f7f\">                     </span>│<span style=\"color: #7f7f7f; text-decoration-color: #7f7f7f\">                      </span>│\n",
       "│<span style=\"color: #7f7f7f; text-decoration-color: #7f7f7f\">                      </span>│<span style=\"color: #7f7f7f; text-decoration-color: #7f7f7f\"> techniques.          </span>│<span style=\"color: #7f7f7f; text-decoration-color: #7f7f7f\"> Simplifying the      </span>│<span style=\"color: #7f7f7f; text-decoration-color: #7f7f7f\">                     </span>│<span style=\"color: #7f7f7f; text-decoration-color: #7f7f7f\">                      </span>│\n",
       "│<span style=\"color: #7f7f7f; text-decoration-color: #7f7f7f\">                      </span>│<span style=\"color: #7f7f7f; text-decoration-color: #7f7f7f\"> Tutorials on         </span>│<span style=\"color: #7f7f7f; text-decoration-color: #7f7f7f\"> design for easier    </span>│<span style=\"color: #7f7f7f; text-decoration-color: #7f7f7f\">                     </span>│<span style=\"color: #7f7f7f; text-decoration-color: #7f7f7f\">                      </span>│\n",
       "│<span style=\"color: #7f7f7f; text-decoration-color: #7f7f7f\">                      </span>│<span style=\"color: #7f7f7f; text-decoration-color: #7f7f7f\"> installing smart     </span>│<span style=\"color: #7f7f7f; text-decoration-color: #7f7f7f\"> readability would    </span>│<span style=\"color: #7f7f7f; text-decoration-color: #7f7f7f\">                     </span>│<span style=\"color: #7f7f7f; text-decoration-color: #7f7f7f\">                      </span>│\n",
       "│<span style=\"color: #7f7f7f; text-decoration-color: #7f7f7f\">                      </span>│<span style=\"color: #7f7f7f; text-decoration-color: #7f7f7f\"> home devices and     </span>│<span style=\"color: #7f7f7f; text-decoration-color: #7f7f7f\"> enhance the overall  </span>│<span style=\"color: #7f7f7f; text-decoration-color: #7f7f7f\">                     </span>│<span style=\"color: #7f7f7f; text-decoration-color: #7f7f7f\">                      </span>│\n",
       "│<span style=\"color: #7f7f7f; text-decoration-color: #7f7f7f\">                      </span>│<span style=\"color: #7f7f7f; text-decoration-color: #7f7f7f\"> interviews with      </span>│<span style=\"color: #7f7f7f; text-decoration-color: #7f7f7f\"> experience.          </span>│<span style=\"color: #7f7f7f; text-decoration-color: #7f7f7f\">                     </span>│<span style=\"color: #7f7f7f; text-decoration-color: #7f7f7f\">                      </span>│\n",
       "│<span style=\"color: #7f7f7f; text-decoration-color: #7f7f7f\">                      </span>│<span style=\"color: #7f7f7f; text-decoration-color: #7f7f7f\"> professionals in the </span>│<span style=\"color: #7f7f7f; text-decoration-color: #7f7f7f\"> Including            </span>│<span style=\"color: #7f7f7f; text-decoration-color: #7f7f7f\">                     </span>│<span style=\"color: #7f7f7f; text-decoration-color: #7f7f7f\">                      </span>│\n",
       "│<span style=\"color: #7f7f7f; text-decoration-color: #7f7f7f\">                      </span>│<span style=\"color: #7f7f7f; text-decoration-color: #7f7f7f\"> field would be very  </span>│<span style=\"color: #7f7f7f; text-decoration-color: #7f7f7f\"> interactive elements </span>│<span style=\"color: #7f7f7f; text-decoration-color: #7f7f7f\">                     </span>│<span style=\"color: #7f7f7f; text-decoration-color: #7f7f7f\">                      </span>│\n",
       "│<span style=\"color: #7f7f7f; text-decoration-color: #7f7f7f\">                      </span>│<span style=\"color: #7f7f7f; text-decoration-color: #7f7f7f\"> useful.              </span>│<span style=\"color: #7f7f7f; text-decoration-color: #7f7f7f\"> like polls and Q&amp;A   </span>│<span style=\"color: #7f7f7f; text-decoration-color: #7f7f7f\">                     </span>│<span style=\"color: #7f7f7f; text-decoration-color: #7f7f7f\">                      </span>│\n",
       "│<span style=\"color: #7f7f7f; text-decoration-color: #7f7f7f\">                      </span>│<span style=\"color: #7f7f7f; text-decoration-color: #7f7f7f\"> Additionally, I'd    </span>│<span style=\"color: #7f7f7f; text-decoration-color: #7f7f7f\"> sections would also  </span>│<span style=\"color: #7f7f7f; text-decoration-color: #7f7f7f\">                     </span>│<span style=\"color: #7f7f7f; text-decoration-color: #7f7f7f\">                      </span>│\n",
       "│<span style=\"color: #7f7f7f; text-decoration-color: #7f7f7f\">                      </span>│<span style=\"color: #7f7f7f; text-decoration-color: #7f7f7f\"> love to see articles </span>│<span style=\"color: #7f7f7f; text-decoration-color: #7f7f7f\"> add value.           </span>│<span style=\"color: #7f7f7f; text-decoration-color: #7f7f7f\">                     </span>│<span style=\"color: #7f7f7f; text-decoration-color: #7f7f7f\">                      </span>│\n",
       "│<span style=\"color: #7f7f7f; text-decoration-color: #7f7f7f\">                      </span>│<span style=\"color: #7f7f7f; text-decoration-color: #7f7f7f\"> on integrating       </span>│<span style=\"color: #7f7f7f; text-decoration-color: #7f7f7f\">                      </span>│<span style=\"color: #7f7f7f; text-decoration-color: #7f7f7f\">                     </span>│<span style=\"color: #7f7f7f; text-decoration-color: #7f7f7f\">                      </span>│\n",
       "│<span style=\"color: #7f7f7f; text-decoration-color: #7f7f7f\">                      </span>│<span style=\"color: #7f7f7f; text-decoration-color: #7f7f7f\"> renewable energy     </span>│<span style=\"color: #7f7f7f; text-decoration-color: #7f7f7f\">                      </span>│<span style=\"color: #7f7f7f; text-decoration-color: #7f7f7f\">                     </span>│<span style=\"color: #7f7f7f; text-decoration-color: #7f7f7f\">                      </span>│\n",
       "│<span style=\"color: #7f7f7f; text-decoration-color: #7f7f7f\">                      </span>│<span style=\"color: #7f7f7f; text-decoration-color: #7f7f7f\"> solutions into home  </span>│<span style=\"color: #7f7f7f; text-decoration-color: #7f7f7f\">                      </span>│<span style=\"color: #7f7f7f; text-decoration-color: #7f7f7f\">                     </span>│<span style=\"color: #7f7f7f; text-decoration-color: #7f7f7f\">                      </span>│\n",
       "│<span style=\"color: #7f7f7f; text-decoration-color: #7f7f7f\">                      </span>│<span style=\"color: #7f7f7f; text-decoration-color: #7f7f7f\"> construction.        </span>│<span style=\"color: #7f7f7f; text-decoration-color: #7f7f7f\">                      </span>│<span style=\"color: #7f7f7f; text-decoration-color: #7f7f7f\">                     </span>│<span style=\"color: #7f7f7f; text-decoration-color: #7f7f7f\">                      </span>│\n",
       "├──────────────────────┼──────────────────────┼──────────────────────┼─────────────────────┼──────────────────────┤\n",
       "│<span style=\"color: #7f7f7f; text-decoration-color: #7f7f7f\"> Weekly               </span>│<span style=\"color: #7f7f7f; text-decoration-color: #7f7f7f\"> I would love to see  </span>│<span style=\"color: #7f7f7f; text-decoration-color: #7f7f7f\"> Adding more video    </span>│<span style=\"color: #7f7f7f; text-decoration-color: #7f7f7f\"> Construction Tips   </span>│<span style=\"color: #7f7f7f; text-decoration-color: #7f7f7f\"> 8                    </span>│\n",
       "│<span style=\"color: #7f7f7f; text-decoration-color: #7f7f7f\">                      </span>│<span style=\"color: #7f7f7f; text-decoration-color: #7f7f7f\"> more in-depth guides </span>│<span style=\"color: #7f7f7f; text-decoration-color: #7f7f7f\"> content, such as     </span>│<span style=\"color: #7f7f7f; text-decoration-color: #7f7f7f\">                     </span>│<span style=\"color: #7f7f7f; text-decoration-color: #7f7f7f\">                      </span>│\n",
       "│<span style=\"color: #7f7f7f; text-decoration-color: #7f7f7f\">                      </span>│<span style=\"color: #7f7f7f; text-decoration-color: #7f7f7f\"> on sustainable       </span>│<span style=\"color: #7f7f7f; text-decoration-color: #7f7f7f\"> tutorials and        </span>│<span style=\"color: #7f7f7f; text-decoration-color: #7f7f7f\">                     </span>│<span style=\"color: #7f7f7f; text-decoration-color: #7f7f7f\">                      </span>│\n",
       "│<span style=\"color: #7f7f7f; text-decoration-color: #7f7f7f\">                      </span>│<span style=\"color: #7f7f7f; text-decoration-color: #7f7f7f\"> building practices.  </span>│<span style=\"color: #7f7f7f; text-decoration-color: #7f7f7f\"> walk-throughs, would </span>│<span style=\"color: #7f7f7f; text-decoration-color: #7f7f7f\">                     </span>│<span style=\"color: #7f7f7f; text-decoration-color: #7f7f7f\">                      </span>│\n",
       "│<span style=\"color: #7f7f7f; text-decoration-color: #7f7f7f\">                      </span>│<span style=\"color: #7f7f7f; text-decoration-color: #7f7f7f\"> Including case       </span>│<span style=\"color: #7f7f7f; text-decoration-color: #7f7f7f\"> make the newsletter  </span>│<span style=\"color: #7f7f7f; text-decoration-color: #7f7f7f\">                     </span>│<span style=\"color: #7f7f7f; text-decoration-color: #7f7f7f\">                      </span>│\n",
       "│<span style=\"color: #7f7f7f; text-decoration-color: #7f7f7f\">                      </span>│<span style=\"color: #7f7f7f; text-decoration-color: #7f7f7f\"> studies from         </span>│<span style=\"color: #7f7f7f; text-decoration-color: #7f7f7f\"> more engaging.       </span>│<span style=\"color: #7f7f7f; text-decoration-color: #7f7f7f\">                     </span>│<span style=\"color: #7f7f7f; text-decoration-color: #7f7f7f\">                      </span>│\n",
       "│<span style=\"color: #7f7f7f; text-decoration-color: #7f7f7f\">                      </span>│<span style=\"color: #7f7f7f; text-decoration-color: #7f7f7f\"> different types of   </span>│<span style=\"color: #7f7f7f; text-decoration-color: #7f7f7f\"> Summaries of key     </span>│<span style=\"color: #7f7f7f; text-decoration-color: #7f7f7f\">                     </span>│<span style=\"color: #7f7f7f; text-decoration-color: #7f7f7f\">                      </span>│\n",
       "│<span style=\"color: #7f7f7f; text-decoration-color: #7f7f7f\">                      </span>│<span style=\"color: #7f7f7f; text-decoration-color: #7f7f7f\"> projects would be    </span>│<span style=\"color: #7f7f7f; text-decoration-color: #7f7f7f\"> points at the end of </span>│<span style=\"color: #7f7f7f; text-decoration-color: #7f7f7f\">                     </span>│<span style=\"color: #7f7f7f; text-decoration-color: #7f7f7f\">                      </span>│\n",
       "│<span style=\"color: #7f7f7f; text-decoration-color: #7f7f7f\">                      </span>│<span style=\"color: #7f7f7f; text-decoration-color: #7f7f7f\"> very helpful.        </span>│<span style=\"color: #7f7f7f; text-decoration-color: #7f7f7f\"> each issue would     </span>│<span style=\"color: #7f7f7f; text-decoration-color: #7f7f7f\">                     </span>│<span style=\"color: #7f7f7f; text-decoration-color: #7f7f7f\">                      </span>│\n",
       "│<span style=\"color: #7f7f7f; text-decoration-color: #7f7f7f\">                      </span>│<span style=\"color: #7f7f7f; text-decoration-color: #7f7f7f\"> Interviews with      </span>│<span style=\"color: #7f7f7f; text-decoration-color: #7f7f7f\"> also be beneficial.  </span>│<span style=\"color: #7f7f7f; text-decoration-color: #7f7f7f\">                     </span>│<span style=\"color: #7f7f7f; text-decoration-color: #7f7f7f\">                      </span>│\n",
       "│<span style=\"color: #7f7f7f; text-decoration-color: #7f7f7f\">                      </span>│<span style=\"color: #7f7f7f; text-decoration-color: #7f7f7f\"> experts about their  </span>│<span style=\"color: #7f7f7f; text-decoration-color: #7f7f7f\"> It would also be     </span>│<span style=\"color: #7f7f7f; text-decoration-color: #7f7f7f\">                     </span>│<span style=\"color: #7f7f7f; text-decoration-color: #7f7f7f\">                      </span>│\n",
       "│<span style=\"color: #7f7f7f; text-decoration-color: #7f7f7f\">                      </span>│<span style=\"color: #7f7f7f; text-decoration-color: #7f7f7f\"> experiences, tips,   </span>│<span style=\"color: #7f7f7f; text-decoration-color: #7f7f7f\"> great to include     </span>│<span style=\"color: #7f7f7f; text-decoration-color: #7f7f7f\">                     </span>│<span style=\"color: #7f7f7f; text-decoration-color: #7f7f7f\">                      </span>│\n",
       "│<span style=\"color: #7f7f7f; text-decoration-color: #7f7f7f\">                      </span>│<span style=\"color: #7f7f7f; text-decoration-color: #7f7f7f\"> and challenges they  </span>│<span style=\"color: #7f7f7f; text-decoration-color: #7f7f7f\"> downloadable         </span>│<span style=\"color: #7f7f7f; text-decoration-color: #7f7f7f\">                     </span>│<span style=\"color: #7f7f7f; text-decoration-color: #7f7f7f\">                      </span>│\n",
       "│<span style=\"color: #7f7f7f; text-decoration-color: #7f7f7f\">                      </span>│<span style=\"color: #7f7f7f; text-decoration-color: #7f7f7f\"> faced would also be  </span>│<span style=\"color: #7f7f7f; text-decoration-color: #7f7f7f\"> templates and        </span>│<span style=\"color: #7f7f7f; text-decoration-color: #7f7f7f\">                     </span>│<span style=\"color: #7f7f7f; text-decoration-color: #7f7f7f\">                      </span>│\n",
       "│<span style=\"color: #7f7f7f; text-decoration-color: #7f7f7f\">                      </span>│<span style=\"color: #7f7f7f; text-decoration-color: #7f7f7f\"> appreciated.         </span>│<span style=\"color: #7f7f7f; text-decoration-color: #7f7f7f\"> checklists for       </span>│<span style=\"color: #7f7f7f; text-decoration-color: #7f7f7f\">                     </span>│<span style=\"color: #7f7f7f; text-decoration-color: #7f7f7f\">                      </span>│\n",
       "│<span style=\"color: #7f7f7f; text-decoration-color: #7f7f7f\">                      </span>│<span style=\"color: #7f7f7f; text-decoration-color: #7f7f7f\"> Additionally,        </span>│<span style=\"color: #7f7f7f; text-decoration-color: #7f7f7f\"> various construction </span>│<span style=\"color: #7f7f7f; text-decoration-color: #7f7f7f\">                     </span>│<span style=\"color: #7f7f7f; text-decoration-color: #7f7f7f\">                      </span>│\n",
       "│<span style=\"color: #7f7f7f; text-decoration-color: #7f7f7f\">                      </span>│<span style=\"color: #7f7f7f; text-decoration-color: #7f7f7f\"> insights into        </span>│<span style=\"color: #7f7f7f; text-decoration-color: #7f7f7f\"> projects.            </span>│<span style=\"color: #7f7f7f; text-decoration-color: #7f7f7f\">                     </span>│<span style=\"color: #7f7f7f; text-decoration-color: #7f7f7f\">                      </span>│\n",
       "│<span style=\"color: #7f7f7f; text-decoration-color: #7f7f7f\">                      </span>│<span style=\"color: #7f7f7f; text-decoration-color: #7f7f7f\"> cost-saving          </span>│<span style=\"color: #7f7f7f; text-decoration-color: #7f7f7f\">                      </span>│<span style=\"color: #7f7f7f; text-decoration-color: #7f7f7f\">                     </span>│<span style=\"color: #7f7f7f; text-decoration-color: #7f7f7f\">                      </span>│\n",
       "│<span style=\"color: #7f7f7f; text-decoration-color: #7f7f7f\">                      </span>│<span style=\"color: #7f7f7f; text-decoration-color: #7f7f7f\"> techniques would be  </span>│<span style=\"color: #7f7f7f; text-decoration-color: #7f7f7f\">                      </span>│<span style=\"color: #7f7f7f; text-decoration-color: #7f7f7f\">                     </span>│<span style=\"color: #7f7f7f; text-decoration-color: #7f7f7f\">                      </span>│\n",
       "│<span style=\"color: #7f7f7f; text-decoration-color: #7f7f7f\">                      </span>│<span style=\"color: #7f7f7f; text-decoration-color: #7f7f7f\"> very beneficial.     </span>│<span style=\"color: #7f7f7f; text-decoration-color: #7f7f7f\">                      </span>│<span style=\"color: #7f7f7f; text-decoration-color: #7f7f7f\">                     </span>│<span style=\"color: #7f7f7f; text-decoration-color: #7f7f7f\">                      </span>│\n",
       "├──────────────────────┼──────────────────────┼──────────────────────┼─────────────────────┼──────────────────────┤\n",
       "│<span style=\"color: #7f7f7f; text-decoration-color: #7f7f7f\"> Weekly               </span>│<span style=\"color: #7f7f7f; text-decoration-color: #7f7f7f\"> I would love to see  </span>│<span style=\"color: #7f7f7f; text-decoration-color: #7f7f7f\"> Adding more video    </span>│<span style=\"color: #7f7f7f; text-decoration-color: #7f7f7f\"> Construction Tips   </span>│<span style=\"color: #7f7f7f; text-decoration-color: #7f7f7f\"> 8                    </span>│\n",
       "│<span style=\"color: #7f7f7f; text-decoration-color: #7f7f7f\">                      </span>│<span style=\"color: #7f7f7f; text-decoration-color: #7f7f7f\"> more in-depth guides </span>│<span style=\"color: #7f7f7f; text-decoration-color: #7f7f7f\"> content, such as     </span>│<span style=\"color: #7f7f7f; text-decoration-color: #7f7f7f\">                     </span>│<span style=\"color: #7f7f7f; text-decoration-color: #7f7f7f\">                      </span>│\n",
       "│<span style=\"color: #7f7f7f; text-decoration-color: #7f7f7f\">                      </span>│<span style=\"color: #7f7f7f; text-decoration-color: #7f7f7f\"> on sustainable       </span>│<span style=\"color: #7f7f7f; text-decoration-color: #7f7f7f\"> tutorials and        </span>│<span style=\"color: #7f7f7f; text-decoration-color: #7f7f7f\">                     </span>│<span style=\"color: #7f7f7f; text-decoration-color: #7f7f7f\">                      </span>│\n",
       "│<span style=\"color: #7f7f7f; text-decoration-color: #7f7f7f\">                      </span>│<span style=\"color: #7f7f7f; text-decoration-color: #7f7f7f\"> building practices.  </span>│<span style=\"color: #7f7f7f; text-decoration-color: #7f7f7f\"> walk-throughs, would </span>│<span style=\"color: #7f7f7f; text-decoration-color: #7f7f7f\">                     </span>│<span style=\"color: #7f7f7f; text-decoration-color: #7f7f7f\">                      </span>│\n",
       "│<span style=\"color: #7f7f7f; text-decoration-color: #7f7f7f\">                      </span>│<span style=\"color: #7f7f7f; text-decoration-color: #7f7f7f\"> Including case       </span>│<span style=\"color: #7f7f7f; text-decoration-color: #7f7f7f\"> make the newsletter  </span>│<span style=\"color: #7f7f7f; text-decoration-color: #7f7f7f\">                     </span>│<span style=\"color: #7f7f7f; text-decoration-color: #7f7f7f\">                      </span>│\n",
       "│<span style=\"color: #7f7f7f; text-decoration-color: #7f7f7f\">                      </span>│<span style=\"color: #7f7f7f; text-decoration-color: #7f7f7f\"> studies from         </span>│<span style=\"color: #7f7f7f; text-decoration-color: #7f7f7f\"> more engaging.       </span>│<span style=\"color: #7f7f7f; text-decoration-color: #7f7f7f\">                     </span>│<span style=\"color: #7f7f7f; text-decoration-color: #7f7f7f\">                      </span>│\n",
       "│<span style=\"color: #7f7f7f; text-decoration-color: #7f7f7f\">                      </span>│<span style=\"color: #7f7f7f; text-decoration-color: #7f7f7f\"> different types of   </span>│<span style=\"color: #7f7f7f; text-decoration-color: #7f7f7f\"> Summaries of key     </span>│<span style=\"color: #7f7f7f; text-decoration-color: #7f7f7f\">                     </span>│<span style=\"color: #7f7f7f; text-decoration-color: #7f7f7f\">                      </span>│\n",
       "│<span style=\"color: #7f7f7f; text-decoration-color: #7f7f7f\">                      </span>│<span style=\"color: #7f7f7f; text-decoration-color: #7f7f7f\"> projects would be    </span>│<span style=\"color: #7f7f7f; text-decoration-color: #7f7f7f\"> points at the end of </span>│<span style=\"color: #7f7f7f; text-decoration-color: #7f7f7f\">                     </span>│<span style=\"color: #7f7f7f; text-decoration-color: #7f7f7f\">                      </span>│\n",
       "│<span style=\"color: #7f7f7f; text-decoration-color: #7f7f7f\">                      </span>│<span style=\"color: #7f7f7f; text-decoration-color: #7f7f7f\"> very helpful.        </span>│<span style=\"color: #7f7f7f; text-decoration-color: #7f7f7f\"> each issue would     </span>│<span style=\"color: #7f7f7f; text-decoration-color: #7f7f7f\">                     </span>│<span style=\"color: #7f7f7f; text-decoration-color: #7f7f7f\">                      </span>│\n",
       "│<span style=\"color: #7f7f7f; text-decoration-color: #7f7f7f\">                      </span>│<span style=\"color: #7f7f7f; text-decoration-color: #7f7f7f\"> Interviews with      </span>│<span style=\"color: #7f7f7f; text-decoration-color: #7f7f7f\"> also be beneficial.  </span>│<span style=\"color: #7f7f7f; text-decoration-color: #7f7f7f\">                     </span>│<span style=\"color: #7f7f7f; text-decoration-color: #7f7f7f\">                      </span>│\n",
       "│<span style=\"color: #7f7f7f; text-decoration-color: #7f7f7f\">                      </span>│<span style=\"color: #7f7f7f; text-decoration-color: #7f7f7f\"> experts about their  </span>│<span style=\"color: #7f7f7f; text-decoration-color: #7f7f7f\"> It would also be     </span>│<span style=\"color: #7f7f7f; text-decoration-color: #7f7f7f\">                     </span>│<span style=\"color: #7f7f7f; text-decoration-color: #7f7f7f\">                      </span>│\n",
       "│<span style=\"color: #7f7f7f; text-decoration-color: #7f7f7f\">                      </span>│<span style=\"color: #7f7f7f; text-decoration-color: #7f7f7f\"> experiences, tips,   </span>│<span style=\"color: #7f7f7f; text-decoration-color: #7f7f7f\"> great to include     </span>│<span style=\"color: #7f7f7f; text-decoration-color: #7f7f7f\">                     </span>│<span style=\"color: #7f7f7f; text-decoration-color: #7f7f7f\">                      </span>│\n",
       "│<span style=\"color: #7f7f7f; text-decoration-color: #7f7f7f\">                      </span>│<span style=\"color: #7f7f7f; text-decoration-color: #7f7f7f\"> and challenges they  </span>│<span style=\"color: #7f7f7f; text-decoration-color: #7f7f7f\"> downloadable         </span>│<span style=\"color: #7f7f7f; text-decoration-color: #7f7f7f\">                     </span>│<span style=\"color: #7f7f7f; text-decoration-color: #7f7f7f\">                      </span>│\n",
       "│<span style=\"color: #7f7f7f; text-decoration-color: #7f7f7f\">                      </span>│<span style=\"color: #7f7f7f; text-decoration-color: #7f7f7f\"> faced would also be  </span>│<span style=\"color: #7f7f7f; text-decoration-color: #7f7f7f\"> templates and        </span>│<span style=\"color: #7f7f7f; text-decoration-color: #7f7f7f\">                     </span>│<span style=\"color: #7f7f7f; text-decoration-color: #7f7f7f\">                      </span>│\n",
       "│<span style=\"color: #7f7f7f; text-decoration-color: #7f7f7f\">                      </span>│<span style=\"color: #7f7f7f; text-decoration-color: #7f7f7f\"> appreciated.         </span>│<span style=\"color: #7f7f7f; text-decoration-color: #7f7f7f\"> checklists for       </span>│<span style=\"color: #7f7f7f; text-decoration-color: #7f7f7f\">                     </span>│<span style=\"color: #7f7f7f; text-decoration-color: #7f7f7f\">                      </span>│\n",
       "│<span style=\"color: #7f7f7f; text-decoration-color: #7f7f7f\">                      </span>│<span style=\"color: #7f7f7f; text-decoration-color: #7f7f7f\"> Additionally,        </span>│<span style=\"color: #7f7f7f; text-decoration-color: #7f7f7f\"> various construction </span>│<span style=\"color: #7f7f7f; text-decoration-color: #7f7f7f\">                     </span>│<span style=\"color: #7f7f7f; text-decoration-color: #7f7f7f\">                      </span>│\n",
       "│<span style=\"color: #7f7f7f; text-decoration-color: #7f7f7f\">                      </span>│<span style=\"color: #7f7f7f; text-decoration-color: #7f7f7f\"> insights into        </span>│<span style=\"color: #7f7f7f; text-decoration-color: #7f7f7f\"> projects.            </span>│<span style=\"color: #7f7f7f; text-decoration-color: #7f7f7f\">                     </span>│<span style=\"color: #7f7f7f; text-decoration-color: #7f7f7f\">                      </span>│\n",
       "│<span style=\"color: #7f7f7f; text-decoration-color: #7f7f7f\">                      </span>│<span style=\"color: #7f7f7f; text-decoration-color: #7f7f7f\"> cost-saving          </span>│<span style=\"color: #7f7f7f; text-decoration-color: #7f7f7f\">                      </span>│<span style=\"color: #7f7f7f; text-decoration-color: #7f7f7f\">                     </span>│<span style=\"color: #7f7f7f; text-decoration-color: #7f7f7f\">                      </span>│\n",
       "│<span style=\"color: #7f7f7f; text-decoration-color: #7f7f7f\">                      </span>│<span style=\"color: #7f7f7f; text-decoration-color: #7f7f7f\"> techniques would be  </span>│<span style=\"color: #7f7f7f; text-decoration-color: #7f7f7f\">                      </span>│<span style=\"color: #7f7f7f; text-decoration-color: #7f7f7f\">                     </span>│<span style=\"color: #7f7f7f; text-decoration-color: #7f7f7f\">                      </span>│\n",
       "│<span style=\"color: #7f7f7f; text-decoration-color: #7f7f7f\">                      </span>│<span style=\"color: #7f7f7f; text-decoration-color: #7f7f7f\"> very beneficial.     </span>│<span style=\"color: #7f7f7f; text-decoration-color: #7f7f7f\">                      </span>│<span style=\"color: #7f7f7f; text-decoration-color: #7f7f7f\">                     </span>│<span style=\"color: #7f7f7f; text-decoration-color: #7f7f7f\">                      </span>│\n",
       "└──────────────────────┴──────────────────────┴──────────────────────┴─────────────────────┴──────────────────────┘\n",
       "</pre>\n"
      ],
      "text/plain": [
       "┏━━━━━━━━━━━━━━━━━━━━━━┳━━━━━━━━━━━━━━━━━━━━━━┳━━━━━━━━━━━━━━━━━━━━━━┳━━━━━━━━━━━━━━━━━━━━━┳━━━━━━━━━━━━━━━━━━━━━━┓\n",
       "┃\u001b[1;35m \u001b[0m\u001b[1;35manswer              \u001b[0m\u001b[1;35m \u001b[0m┃\u001b[1;35m \u001b[0m\u001b[1;35manswer              \u001b[0m\u001b[1;35m \u001b[0m┃\u001b[1;35m \u001b[0m\u001b[1;35manswer              \u001b[0m\u001b[1;35m \u001b[0m┃\u001b[1;35m \u001b[0m\u001b[1;35manswer             \u001b[0m\u001b[1;35m \u001b[0m┃\u001b[1;35m \u001b[0m\u001b[1;35manswer              \u001b[0m\u001b[1;35m \u001b[0m┃\n",
       "┃\u001b[1;35m \u001b[0m\u001b[1;35m.often_read_newslet…\u001b[0m\u001b[1;35m \u001b[0m┃\u001b[1;35m \u001b[0m\u001b[1;35m.topics_would_like_…\u001b[0m\u001b[1;35m \u001b[0m┃\u001b[1;35m \u001b[0m\u001b[1;35m.improvements_would…\u001b[0m\u001b[1;35m \u001b[0m┃\u001b[1;35m \u001b[0m\u001b[1;35m.section_newslette…\u001b[0m\u001b[1;35m \u001b[0m┃\u001b[1;35m \u001b[0m\u001b[1;35m.scale_1_10_would_r…\u001b[0m\u001b[1;35m \u001b[0m┃\n",
       "┡━━━━━━━━━━━━━━━━━━━━━━╇━━━━━━━━━━━━━━━━━━━━━━╇━━━━━━━━━━━━━━━━━━━━━━╇━━━━━━━━━━━━━━━━━━━━━╇━━━━━━━━━━━━━━━━━━━━━━┩\n",
       "│\u001b[2m \u001b[0m\u001b[2mMonthly             \u001b[0m\u001b[2m \u001b[0m│\u001b[2m \u001b[0m\u001b[2mI think the         \u001b[0m\u001b[2m \u001b[0m│\u001b[2m \u001b[0m\u001b[2mThe layout of the   \u001b[0m\u001b[2m \u001b[0m│\u001b[2m \u001b[0m\u001b[2mProduct Reviews    \u001b[0m\u001b[2m \u001b[0m│\u001b[2m \u001b[0m\u001b[2m7                   \u001b[0m\u001b[2m \u001b[0m│\n",
       "│\u001b[2m                      \u001b[0m│\u001b[2m \u001b[0m\u001b[2mnewsletter could    \u001b[0m\u001b[2m \u001b[0m│\u001b[2m \u001b[0m\u001b[2mnewsletter could be \u001b[0m\u001b[2m \u001b[0m│\u001b[2m                     \u001b[0m│\u001b[2m                      \u001b[0m│\n",
       "│\u001b[2m                      \u001b[0m│\u001b[2m \u001b[0m\u001b[2mbenefit from a      \u001b[0m\u001b[2m \u001b[0m│\u001b[2m \u001b[0m\u001b[2mimproved with more  \u001b[0m\u001b[2m \u001b[0m│\u001b[2m                     \u001b[0m│\u001b[2m                      \u001b[0m│\n",
       "│\u001b[2m                      \u001b[0m│\u001b[2m \u001b[0m\u001b[2mseries on advanced  \u001b[0m\u001b[2m \u001b[0m│\u001b[2m \u001b[0m\u001b[2mvisual elements like\u001b[0m\u001b[2m \u001b[0m│\u001b[2m                     \u001b[0m│\u001b[2m                      \u001b[0m│\n",
       "│\u001b[2m                      \u001b[0m│\u001b[2m \u001b[0m\u001b[2mhome automation     \u001b[0m\u001b[2m \u001b[0m│\u001b[2m \u001b[0m\u001b[2mdiagrams and photos.\u001b[0m\u001b[2m \u001b[0m│\u001b[2m                     \u001b[0m│\u001b[2m                      \u001b[0m│\n",
       "│\u001b[2m                      \u001b[0m│\u001b[2m \u001b[0m\u001b[2mtechniques.         \u001b[0m\u001b[2m \u001b[0m│\u001b[2m \u001b[0m\u001b[2mSimplifying the     \u001b[0m\u001b[2m \u001b[0m│\u001b[2m                     \u001b[0m│\u001b[2m                      \u001b[0m│\n",
       "│\u001b[2m                      \u001b[0m│\u001b[2m \u001b[0m\u001b[2mTutorials on        \u001b[0m\u001b[2m \u001b[0m│\u001b[2m \u001b[0m\u001b[2mdesign for easier   \u001b[0m\u001b[2m \u001b[0m│\u001b[2m                     \u001b[0m│\u001b[2m                      \u001b[0m│\n",
       "│\u001b[2m                      \u001b[0m│\u001b[2m \u001b[0m\u001b[2minstalling smart    \u001b[0m\u001b[2m \u001b[0m│\u001b[2m \u001b[0m\u001b[2mreadability would   \u001b[0m\u001b[2m \u001b[0m│\u001b[2m                     \u001b[0m│\u001b[2m                      \u001b[0m│\n",
       "│\u001b[2m                      \u001b[0m│\u001b[2m \u001b[0m\u001b[2mhome devices and    \u001b[0m\u001b[2m \u001b[0m│\u001b[2m \u001b[0m\u001b[2menhance the overall \u001b[0m\u001b[2m \u001b[0m│\u001b[2m                     \u001b[0m│\u001b[2m                      \u001b[0m│\n",
       "│\u001b[2m                      \u001b[0m│\u001b[2m \u001b[0m\u001b[2minterviews with     \u001b[0m\u001b[2m \u001b[0m│\u001b[2m \u001b[0m\u001b[2mexperience.         \u001b[0m\u001b[2m \u001b[0m│\u001b[2m                     \u001b[0m│\u001b[2m                      \u001b[0m│\n",
       "│\u001b[2m                      \u001b[0m│\u001b[2m \u001b[0m\u001b[2mprofessionals in the\u001b[0m\u001b[2m \u001b[0m│\u001b[2m \u001b[0m\u001b[2mIncluding           \u001b[0m\u001b[2m \u001b[0m│\u001b[2m                     \u001b[0m│\u001b[2m                      \u001b[0m│\n",
       "│\u001b[2m                      \u001b[0m│\u001b[2m \u001b[0m\u001b[2mfield would be very \u001b[0m\u001b[2m \u001b[0m│\u001b[2m \u001b[0m\u001b[2minteractive elements\u001b[0m\u001b[2m \u001b[0m│\u001b[2m                     \u001b[0m│\u001b[2m                      \u001b[0m│\n",
       "│\u001b[2m                      \u001b[0m│\u001b[2m \u001b[0m\u001b[2museful.             \u001b[0m\u001b[2m \u001b[0m│\u001b[2m \u001b[0m\u001b[2mlike polls and Q&A  \u001b[0m\u001b[2m \u001b[0m│\u001b[2m                     \u001b[0m│\u001b[2m                      \u001b[0m│\n",
       "│\u001b[2m                      \u001b[0m│\u001b[2m \u001b[0m\u001b[2mAdditionally, I'd   \u001b[0m\u001b[2m \u001b[0m│\u001b[2m \u001b[0m\u001b[2msections would also \u001b[0m\u001b[2m \u001b[0m│\u001b[2m                     \u001b[0m│\u001b[2m                      \u001b[0m│\n",
       "│\u001b[2m                      \u001b[0m│\u001b[2m \u001b[0m\u001b[2mlove to see articles\u001b[0m\u001b[2m \u001b[0m│\u001b[2m \u001b[0m\u001b[2madd value.          \u001b[0m\u001b[2m \u001b[0m│\u001b[2m                     \u001b[0m│\u001b[2m                      \u001b[0m│\n",
       "│\u001b[2m                      \u001b[0m│\u001b[2m \u001b[0m\u001b[2mon integrating      \u001b[0m\u001b[2m \u001b[0m│\u001b[2m                      \u001b[0m│\u001b[2m                     \u001b[0m│\u001b[2m                      \u001b[0m│\n",
       "│\u001b[2m                      \u001b[0m│\u001b[2m \u001b[0m\u001b[2mrenewable energy    \u001b[0m\u001b[2m \u001b[0m│\u001b[2m                      \u001b[0m│\u001b[2m                     \u001b[0m│\u001b[2m                      \u001b[0m│\n",
       "│\u001b[2m                      \u001b[0m│\u001b[2m \u001b[0m\u001b[2msolutions into home \u001b[0m\u001b[2m \u001b[0m│\u001b[2m                      \u001b[0m│\u001b[2m                     \u001b[0m│\u001b[2m                      \u001b[0m│\n",
       "│\u001b[2m                      \u001b[0m│\u001b[2m \u001b[0m\u001b[2mconstruction.       \u001b[0m\u001b[2m \u001b[0m│\u001b[2m                      \u001b[0m│\u001b[2m                     \u001b[0m│\u001b[2m                      \u001b[0m│\n",
       "├──────────────────────┼──────────────────────┼──────────────────────┼─────────────────────┼──────────────────────┤\n",
       "│\u001b[2m \u001b[0m\u001b[2mWeekly              \u001b[0m\u001b[2m \u001b[0m│\u001b[2m \u001b[0m\u001b[2mI would love to see \u001b[0m\u001b[2m \u001b[0m│\u001b[2m \u001b[0m\u001b[2mAdding more video   \u001b[0m\u001b[2m \u001b[0m│\u001b[2m \u001b[0m\u001b[2mConstruction Tips  \u001b[0m\u001b[2m \u001b[0m│\u001b[2m \u001b[0m\u001b[2m8                   \u001b[0m\u001b[2m \u001b[0m│\n",
       "│\u001b[2m                      \u001b[0m│\u001b[2m \u001b[0m\u001b[2mmore in-depth guides\u001b[0m\u001b[2m \u001b[0m│\u001b[2m \u001b[0m\u001b[2mcontent, such as    \u001b[0m\u001b[2m \u001b[0m│\u001b[2m                     \u001b[0m│\u001b[2m                      \u001b[0m│\n",
       "│\u001b[2m                      \u001b[0m│\u001b[2m \u001b[0m\u001b[2mon sustainable      \u001b[0m\u001b[2m \u001b[0m│\u001b[2m \u001b[0m\u001b[2mtutorials and       \u001b[0m\u001b[2m \u001b[0m│\u001b[2m                     \u001b[0m│\u001b[2m                      \u001b[0m│\n",
       "│\u001b[2m                      \u001b[0m│\u001b[2m \u001b[0m\u001b[2mbuilding practices. \u001b[0m\u001b[2m \u001b[0m│\u001b[2m \u001b[0m\u001b[2mwalk-throughs, would\u001b[0m\u001b[2m \u001b[0m│\u001b[2m                     \u001b[0m│\u001b[2m                      \u001b[0m│\n",
       "│\u001b[2m                      \u001b[0m│\u001b[2m \u001b[0m\u001b[2mIncluding case      \u001b[0m\u001b[2m \u001b[0m│\u001b[2m \u001b[0m\u001b[2mmake the newsletter \u001b[0m\u001b[2m \u001b[0m│\u001b[2m                     \u001b[0m│\u001b[2m                      \u001b[0m│\n",
       "│\u001b[2m                      \u001b[0m│\u001b[2m \u001b[0m\u001b[2mstudies from        \u001b[0m\u001b[2m \u001b[0m│\u001b[2m \u001b[0m\u001b[2mmore engaging.      \u001b[0m\u001b[2m \u001b[0m│\u001b[2m                     \u001b[0m│\u001b[2m                      \u001b[0m│\n",
       "│\u001b[2m                      \u001b[0m│\u001b[2m \u001b[0m\u001b[2mdifferent types of  \u001b[0m\u001b[2m \u001b[0m│\u001b[2m \u001b[0m\u001b[2mSummaries of key    \u001b[0m\u001b[2m \u001b[0m│\u001b[2m                     \u001b[0m│\u001b[2m                      \u001b[0m│\n",
       "│\u001b[2m                      \u001b[0m│\u001b[2m \u001b[0m\u001b[2mprojects would be   \u001b[0m\u001b[2m \u001b[0m│\u001b[2m \u001b[0m\u001b[2mpoints at the end of\u001b[0m\u001b[2m \u001b[0m│\u001b[2m                     \u001b[0m│\u001b[2m                      \u001b[0m│\n",
       "│\u001b[2m                      \u001b[0m│\u001b[2m \u001b[0m\u001b[2mvery helpful.       \u001b[0m\u001b[2m \u001b[0m│\u001b[2m \u001b[0m\u001b[2meach issue would    \u001b[0m\u001b[2m \u001b[0m│\u001b[2m                     \u001b[0m│\u001b[2m                      \u001b[0m│\n",
       "│\u001b[2m                      \u001b[0m│\u001b[2m \u001b[0m\u001b[2mInterviews with     \u001b[0m\u001b[2m \u001b[0m│\u001b[2m \u001b[0m\u001b[2malso be beneficial. \u001b[0m\u001b[2m \u001b[0m│\u001b[2m                     \u001b[0m│\u001b[2m                      \u001b[0m│\n",
       "│\u001b[2m                      \u001b[0m│\u001b[2m \u001b[0m\u001b[2mexperts about their \u001b[0m\u001b[2m \u001b[0m│\u001b[2m \u001b[0m\u001b[2mIt would also be    \u001b[0m\u001b[2m \u001b[0m│\u001b[2m                     \u001b[0m│\u001b[2m                      \u001b[0m│\n",
       "│\u001b[2m                      \u001b[0m│\u001b[2m \u001b[0m\u001b[2mexperiences, tips,  \u001b[0m\u001b[2m \u001b[0m│\u001b[2m \u001b[0m\u001b[2mgreat to include    \u001b[0m\u001b[2m \u001b[0m│\u001b[2m                     \u001b[0m│\u001b[2m                      \u001b[0m│\n",
       "│\u001b[2m                      \u001b[0m│\u001b[2m \u001b[0m\u001b[2mand challenges they \u001b[0m\u001b[2m \u001b[0m│\u001b[2m \u001b[0m\u001b[2mdownloadable        \u001b[0m\u001b[2m \u001b[0m│\u001b[2m                     \u001b[0m│\u001b[2m                      \u001b[0m│\n",
       "│\u001b[2m                      \u001b[0m│\u001b[2m \u001b[0m\u001b[2mfaced would also be \u001b[0m\u001b[2m \u001b[0m│\u001b[2m \u001b[0m\u001b[2mtemplates and       \u001b[0m\u001b[2m \u001b[0m│\u001b[2m                     \u001b[0m│\u001b[2m                      \u001b[0m│\n",
       "│\u001b[2m                      \u001b[0m│\u001b[2m \u001b[0m\u001b[2mappreciated.        \u001b[0m\u001b[2m \u001b[0m│\u001b[2m \u001b[0m\u001b[2mchecklists for      \u001b[0m\u001b[2m \u001b[0m│\u001b[2m                     \u001b[0m│\u001b[2m                      \u001b[0m│\n",
       "│\u001b[2m                      \u001b[0m│\u001b[2m \u001b[0m\u001b[2mAdditionally,       \u001b[0m\u001b[2m \u001b[0m│\u001b[2m \u001b[0m\u001b[2mvarious construction\u001b[0m\u001b[2m \u001b[0m│\u001b[2m                     \u001b[0m│\u001b[2m                      \u001b[0m│\n",
       "│\u001b[2m                      \u001b[0m│\u001b[2m \u001b[0m\u001b[2minsights into       \u001b[0m\u001b[2m \u001b[0m│\u001b[2m \u001b[0m\u001b[2mprojects.           \u001b[0m\u001b[2m \u001b[0m│\u001b[2m                     \u001b[0m│\u001b[2m                      \u001b[0m│\n",
       "│\u001b[2m                      \u001b[0m│\u001b[2m \u001b[0m\u001b[2mcost-saving         \u001b[0m\u001b[2m \u001b[0m│\u001b[2m                      \u001b[0m│\u001b[2m                     \u001b[0m│\u001b[2m                      \u001b[0m│\n",
       "│\u001b[2m                      \u001b[0m│\u001b[2m \u001b[0m\u001b[2mtechniques would be \u001b[0m\u001b[2m \u001b[0m│\u001b[2m                      \u001b[0m│\u001b[2m                     \u001b[0m│\u001b[2m                      \u001b[0m│\n",
       "│\u001b[2m                      \u001b[0m│\u001b[2m \u001b[0m\u001b[2mvery beneficial.    \u001b[0m\u001b[2m \u001b[0m│\u001b[2m                      \u001b[0m│\u001b[2m                     \u001b[0m│\u001b[2m                      \u001b[0m│\n",
       "├──────────────────────┼──────────────────────┼──────────────────────┼─────────────────────┼──────────────────────┤\n",
       "│\u001b[2m \u001b[0m\u001b[2mWeekly              \u001b[0m\u001b[2m \u001b[0m│\u001b[2m \u001b[0m\u001b[2mI would love to see \u001b[0m\u001b[2m \u001b[0m│\u001b[2m \u001b[0m\u001b[2mAdding more video   \u001b[0m\u001b[2m \u001b[0m│\u001b[2m \u001b[0m\u001b[2mConstruction Tips  \u001b[0m\u001b[2m \u001b[0m│\u001b[2m \u001b[0m\u001b[2m8                   \u001b[0m\u001b[2m \u001b[0m│\n",
       "│\u001b[2m                      \u001b[0m│\u001b[2m \u001b[0m\u001b[2mmore in-depth guides\u001b[0m\u001b[2m \u001b[0m│\u001b[2m \u001b[0m\u001b[2mcontent, such as    \u001b[0m\u001b[2m \u001b[0m│\u001b[2m                     \u001b[0m│\u001b[2m                      \u001b[0m│\n",
       "│\u001b[2m                      \u001b[0m│\u001b[2m \u001b[0m\u001b[2mon sustainable      \u001b[0m\u001b[2m \u001b[0m│\u001b[2m \u001b[0m\u001b[2mtutorials and       \u001b[0m\u001b[2m \u001b[0m│\u001b[2m                     \u001b[0m│\u001b[2m                      \u001b[0m│\n",
       "│\u001b[2m                      \u001b[0m│\u001b[2m \u001b[0m\u001b[2mbuilding practices. \u001b[0m\u001b[2m \u001b[0m│\u001b[2m \u001b[0m\u001b[2mwalk-throughs, would\u001b[0m\u001b[2m \u001b[0m│\u001b[2m                     \u001b[0m│\u001b[2m                      \u001b[0m│\n",
       "│\u001b[2m                      \u001b[0m│\u001b[2m \u001b[0m\u001b[2mIncluding case      \u001b[0m\u001b[2m \u001b[0m│\u001b[2m \u001b[0m\u001b[2mmake the newsletter \u001b[0m\u001b[2m \u001b[0m│\u001b[2m                     \u001b[0m│\u001b[2m                      \u001b[0m│\n",
       "│\u001b[2m                      \u001b[0m│\u001b[2m \u001b[0m\u001b[2mstudies from        \u001b[0m\u001b[2m \u001b[0m│\u001b[2m \u001b[0m\u001b[2mmore engaging.      \u001b[0m\u001b[2m \u001b[0m│\u001b[2m                     \u001b[0m│\u001b[2m                      \u001b[0m│\n",
       "│\u001b[2m                      \u001b[0m│\u001b[2m \u001b[0m\u001b[2mdifferent types of  \u001b[0m\u001b[2m \u001b[0m│\u001b[2m \u001b[0m\u001b[2mSummaries of key    \u001b[0m\u001b[2m \u001b[0m│\u001b[2m                     \u001b[0m│\u001b[2m                      \u001b[0m│\n",
       "│\u001b[2m                      \u001b[0m│\u001b[2m \u001b[0m\u001b[2mprojects would be   \u001b[0m\u001b[2m \u001b[0m│\u001b[2m \u001b[0m\u001b[2mpoints at the end of\u001b[0m\u001b[2m \u001b[0m│\u001b[2m                     \u001b[0m│\u001b[2m                      \u001b[0m│\n",
       "│\u001b[2m                      \u001b[0m│\u001b[2m \u001b[0m\u001b[2mvery helpful.       \u001b[0m\u001b[2m \u001b[0m│\u001b[2m \u001b[0m\u001b[2meach issue would    \u001b[0m\u001b[2m \u001b[0m│\u001b[2m                     \u001b[0m│\u001b[2m                      \u001b[0m│\n",
       "│\u001b[2m                      \u001b[0m│\u001b[2m \u001b[0m\u001b[2mInterviews with     \u001b[0m\u001b[2m \u001b[0m│\u001b[2m \u001b[0m\u001b[2malso be beneficial. \u001b[0m\u001b[2m \u001b[0m│\u001b[2m                     \u001b[0m│\u001b[2m                      \u001b[0m│\n",
       "│\u001b[2m                      \u001b[0m│\u001b[2m \u001b[0m\u001b[2mexperts about their \u001b[0m\u001b[2m \u001b[0m│\u001b[2m \u001b[0m\u001b[2mIt would also be    \u001b[0m\u001b[2m \u001b[0m│\u001b[2m                     \u001b[0m│\u001b[2m                      \u001b[0m│\n",
       "│\u001b[2m                      \u001b[0m│\u001b[2m \u001b[0m\u001b[2mexperiences, tips,  \u001b[0m\u001b[2m \u001b[0m│\u001b[2m \u001b[0m\u001b[2mgreat to include    \u001b[0m\u001b[2m \u001b[0m│\u001b[2m                     \u001b[0m│\u001b[2m                      \u001b[0m│\n",
       "│\u001b[2m                      \u001b[0m│\u001b[2m \u001b[0m\u001b[2mand challenges they \u001b[0m\u001b[2m \u001b[0m│\u001b[2m \u001b[0m\u001b[2mdownloadable        \u001b[0m\u001b[2m \u001b[0m│\u001b[2m                     \u001b[0m│\u001b[2m                      \u001b[0m│\n",
       "│\u001b[2m                      \u001b[0m│\u001b[2m \u001b[0m\u001b[2mfaced would also be \u001b[0m\u001b[2m \u001b[0m│\u001b[2m \u001b[0m\u001b[2mtemplates and       \u001b[0m\u001b[2m \u001b[0m│\u001b[2m                     \u001b[0m│\u001b[2m                      \u001b[0m│\n",
       "│\u001b[2m                      \u001b[0m│\u001b[2m \u001b[0m\u001b[2mappreciated.        \u001b[0m\u001b[2m \u001b[0m│\u001b[2m \u001b[0m\u001b[2mchecklists for      \u001b[0m\u001b[2m \u001b[0m│\u001b[2m                     \u001b[0m│\u001b[2m                      \u001b[0m│\n",
       "│\u001b[2m                      \u001b[0m│\u001b[2m \u001b[0m\u001b[2mAdditionally,       \u001b[0m\u001b[2m \u001b[0m│\u001b[2m \u001b[0m\u001b[2mvarious construction\u001b[0m\u001b[2m \u001b[0m│\u001b[2m                     \u001b[0m│\u001b[2m                      \u001b[0m│\n",
       "│\u001b[2m                      \u001b[0m│\u001b[2m \u001b[0m\u001b[2minsights into       \u001b[0m\u001b[2m \u001b[0m│\u001b[2m \u001b[0m\u001b[2mprojects.           \u001b[0m\u001b[2m \u001b[0m│\u001b[2m                     \u001b[0m│\u001b[2m                      \u001b[0m│\n",
       "│\u001b[2m                      \u001b[0m│\u001b[2m \u001b[0m\u001b[2mcost-saving         \u001b[0m\u001b[2m \u001b[0m│\u001b[2m                      \u001b[0m│\u001b[2m                     \u001b[0m│\u001b[2m                      \u001b[0m│\n",
       "│\u001b[2m                      \u001b[0m│\u001b[2m \u001b[0m\u001b[2mtechniques would be \u001b[0m\u001b[2m \u001b[0m│\u001b[2m                      \u001b[0m│\u001b[2m                     \u001b[0m│\u001b[2m                      \u001b[0m│\n",
       "│\u001b[2m                      \u001b[0m│\u001b[2m \u001b[0m\u001b[2mvery beneficial.    \u001b[0m\u001b[2m \u001b[0m│\u001b[2m                      \u001b[0m│\u001b[2m                     \u001b[0m│\u001b[2m                      \u001b[0m│\n",
       "└──────────────────────┴──────────────────────┴──────────────────────┴─────────────────────┴──────────────────────┘\n"
      ]
     },
     "metadata": {},
     "output_type": "display_data"
    }
   ],
   "source": [
    "(results\n",
    " .sample(3)\n",
    " .select(\"answer.*\")\n",
    " .print(format=\"rich\")\n",
    ")"
   ]
  },
  {
   "cell_type": "markdown",
   "id": "8061a0f7-14f7-4e76-a6b3-6f8df11ea833",
   "metadata": {},
   "source": [
    "### Designing AI agents\n",
    "We can also generate an `AgentList` for the respondents, each containing a dictionary of `traits` for a respondent's survey answers and a `codebook` for the questions that were asked:"
   ]
  },
  {
   "cell_type": "code",
   "execution_count": 10,
   "id": "1faa0184-277e-4ca4-b2d8-c56b4bac8580",
   "metadata": {},
   "outputs": [],
   "source": [
    "agents = c.to_agent_list()"
   ]
  },
  {
   "cell_type": "markdown",
   "id": "42aac65d-8fd5-4cd7-9944-311e08392ccb",
   "metadata": {},
   "source": [
    "We can inspect some of them:"
   ]
  },
  {
   "cell_type": "code",
   "execution_count": 11,
   "id": "534f1c13-682d-4830-a42c-a475c297fb48",
   "metadata": {},
   "outputs": [
    {
     "data": {
      "text/html": [
       "<div class=\"highlight\"><pre><span></span><span class=\"p\">[</span>\n",
       "<span class=\"w\">    </span><span class=\"p\">{</span>\n",
       "<span class=\"w\">        </span><span class=\"nt\">&quot;traits&quot;</span><span class=\"p\">:</span><span class=\"w\"> </span><span class=\"p\">{</span>\n",
       "<span class=\"w\">            </span><span class=\"nt\">&quot;often_read_newsletter&quot;</span><span class=\"p\">:</span><span class=\"w\"> </span><span class=\"s2\">&quot;Weekly&quot;</span><span class=\"p\">,</span>\n",
       "<span class=\"w\">            </span><span class=\"nt\">&quot;topics_would_like_see_covered&quot;</span><span class=\"p\">:</span><span class=\"w\"> </span><span class=\"s2\">&quot;I would love to see more in-depth guides on sustainable building practices. Including case studies from different types of projects would be very helpful. Interviews with experts about their experiences, tips, and challenges they faced would also be appreciated. Additionally, insights into cost-saving techniques would be very beneficial.&quot;</span><span class=\"p\">,</span>\n",
       "<span class=\"w\">            </span><span class=\"nt\">&quot;scale_1_10_would_rate_overall&quot;</span><span class=\"p\">:</span><span class=\"w\"> </span><span class=\"mi\">8</span><span class=\"p\">,</span>\n",
       "<span class=\"w\">            </span><span class=\"nt\">&quot;section_newsletter_find_valuable&quot;</span><span class=\"p\">:</span><span class=\"w\"> </span><span class=\"s2\">&quot;Construction Tips&quot;</span><span class=\"p\">,</span>\n",
       "<span class=\"w\">            </span><span class=\"nt\">&quot;improvements_would_suggest&quot;</span><span class=\"p\">:</span><span class=\"w\"> </span><span class=\"s2\">&quot;Adding more video content, such as tutorials and walk-throughs, would make the newsletter more engaging. Summaries of key points at the end of each issue would also be beneficial. It would also be great to include downloadable templates and checklists for various construction projects.&quot;</span>\n",
       "<span class=\"w\">        </span><span class=\"p\">},</span>\n",
       "<span class=\"w\">        </span><span class=\"nt\">&quot;codebook&quot;</span><span class=\"p\">:</span><span class=\"w\"> </span><span class=\"p\">{</span>\n",
       "<span class=\"w\">            </span><span class=\"nt\">&quot;often_read_newsletter&quot;</span><span class=\"p\">:</span><span class=\"w\"> </span><span class=\"s2\">&quot;How often do you read the newsletter?&quot;</span><span class=\"p\">,</span>\n",
       "<span class=\"w\">            </span><span class=\"nt\">&quot;topics_would_like_see_covered&quot;</span><span class=\"p\">:</span><span class=\"w\"> </span><span class=\"s2\">&quot;What topics would you like to see covered in future issues?&quot;</span><span class=\"p\">,</span>\n",
       "<span class=\"w\">            </span><span class=\"nt\">&quot;scale_1_10_would_rate_overall&quot;</span><span class=\"p\">:</span><span class=\"w\"> </span><span class=\"s2\">&quot;On a scale of 1 to 10, how would you rate the overall quality of the newsletter?&quot;</span><span class=\"p\">,</span>\n",
       "<span class=\"w\">            </span><span class=\"nt\">&quot;section_newsletter_find_valuable&quot;</span><span class=\"p\">:</span><span class=\"w\"> </span><span class=\"s2\">&quot;Which section of the newsletter do you find most valuable?&quot;</span><span class=\"p\">,</span>\n",
       "<span class=\"w\">            </span><span class=\"nt\">&quot;improvements_would_suggest&quot;</span><span class=\"p\">:</span><span class=\"w\"> </span><span class=\"s2\">&quot;What improvements would you suggest for the newsletter?&quot;</span>\n",
       "<span class=\"w\">        </span><span class=\"p\">},</span>\n",
       "<span class=\"w\">        </span><span class=\"nt\">&quot;edsl_version&quot;</span><span class=\"p\">:</span><span class=\"w\"> </span><span class=\"s2\">&quot;0.1.37.dev1&quot;</span><span class=\"p\">,</span>\n",
       "<span class=\"w\">        </span><span class=\"nt\">&quot;edsl_class_name&quot;</span><span class=\"p\">:</span><span class=\"w\"> </span><span class=\"s2\">&quot;Agent&quot;</span>\n",
       "<span class=\"w\">    </span><span class=\"p\">},</span>\n",
       "<span class=\"w\">    </span><span class=\"p\">{</span>\n",
       "<span class=\"w\">        </span><span class=\"nt\">&quot;traits&quot;</span><span class=\"p\">:</span><span class=\"w\"> </span><span class=\"p\">{</span>\n",
       "<span class=\"w\">            </span><span class=\"nt\">&quot;often_read_newsletter&quot;</span><span class=\"p\">:</span><span class=\"w\"> </span><span class=\"s2\">&quot;Monthly&quot;</span><span class=\"p\">,</span>\n",
       "<span class=\"w\">            </span><span class=\"nt\">&quot;topics_would_like_see_covered&quot;</span><span class=\"p\">:</span><span class=\"w\"> </span><span class=\"s2\">&quot;I think the newsletter could benefit from a series on advanced home automation techniques. Tutorials on installing smart home devices and interviews with professionals in the field would be very useful. Additionally, I&#39;d love to see articles on integrating renewable energy solutions into home construction.&quot;</span><span class=\"p\">,</span>\n",
       "<span class=\"w\">            </span><span class=\"nt\">&quot;scale_1_10_would_rate_overall&quot;</span><span class=\"p\">:</span><span class=\"w\"> </span><span class=\"mi\">7</span><span class=\"p\">,</span>\n",
       "<span class=\"w\">            </span><span class=\"nt\">&quot;section_newsletter_find_valuable&quot;</span><span class=\"p\">:</span><span class=\"w\"> </span><span class=\"s2\">&quot;Product Reviews&quot;</span><span class=\"p\">,</span>\n",
       "<span class=\"w\">            </span><span class=\"nt\">&quot;improvements_would_suggest&quot;</span><span class=\"p\">:</span><span class=\"w\"> </span><span class=\"s2\">&quot;The layout of the newsletter could be improved with more visual elements like diagrams and photos. Simplifying the design for easier readability would enhance the overall experience. Including interactive elements like polls and Q&amp;A sections would also add value.&quot;</span>\n",
       "<span class=\"w\">        </span><span class=\"p\">},</span>\n",
       "<span class=\"w\">        </span><span class=\"nt\">&quot;codebook&quot;</span><span class=\"p\">:</span><span class=\"w\"> </span><span class=\"p\">{</span>\n",
       "<span class=\"w\">            </span><span class=\"nt\">&quot;often_read_newsletter&quot;</span><span class=\"p\">:</span><span class=\"w\"> </span><span class=\"s2\">&quot;How often do you read the newsletter?&quot;</span><span class=\"p\">,</span>\n",
       "<span class=\"w\">            </span><span class=\"nt\">&quot;topics_would_like_see_covered&quot;</span><span class=\"p\">:</span><span class=\"w\"> </span><span class=\"s2\">&quot;What topics would you like to see covered in future issues?&quot;</span><span class=\"p\">,</span>\n",
       "<span class=\"w\">            </span><span class=\"nt\">&quot;scale_1_10_would_rate_overall&quot;</span><span class=\"p\">:</span><span class=\"w\"> </span><span class=\"s2\">&quot;On a scale of 1 to 10, how would you rate the overall quality of the newsletter?&quot;</span><span class=\"p\">,</span>\n",
       "<span class=\"w\">            </span><span class=\"nt\">&quot;section_newsletter_find_valuable&quot;</span><span class=\"p\">:</span><span class=\"w\"> </span><span class=\"s2\">&quot;Which section of the newsletter do you find most valuable?&quot;</span><span class=\"p\">,</span>\n",
       "<span class=\"w\">            </span><span class=\"nt\">&quot;improvements_would_suggest&quot;</span><span class=\"p\">:</span><span class=\"w\"> </span><span class=\"s2\">&quot;What improvements would you suggest for the newsletter?&quot;</span>\n",
       "<span class=\"w\">        </span><span class=\"p\">},</span>\n",
       "<span class=\"w\">        </span><span class=\"nt\">&quot;edsl_version&quot;</span><span class=\"p\">:</span><span class=\"w\"> </span><span class=\"s2\">&quot;0.1.37.dev1&quot;</span><span class=\"p\">,</span>\n",
       "<span class=\"w\">        </span><span class=\"nt\">&quot;edsl_class_name&quot;</span><span class=\"p\">:</span><span class=\"w\"> </span><span class=\"s2\">&quot;Agent&quot;</span>\n",
       "<span class=\"w\">    </span><span class=\"p\">}</span>\n",
       "<span class=\"p\">]</span>\n",
       "</pre></div>\n"
      ],
      "text/plain": [
       "AgentList([Agent(traits = {'often_read_newsletter': 'Weekly', 'topics_would_like_see_covered': 'I would love to see more in-depth guides on sustainable building practices. Including case studies from different types of projects would be very helpful. Interviews with experts about their experiences, tips, and challenges they faced would also be appreciated. Additionally, insights into cost-saving techniques would be very beneficial.', 'scale_1_10_would_rate_overall': 8, 'section_newsletter_find_valuable': 'Construction Tips', 'improvements_would_suggest': 'Adding more video content, such as tutorials and walk-throughs, would make the newsletter more engaging. Summaries of key points at the end of each issue would also be beneficial. It would also be great to include downloadable templates and checklists for various construction projects.'}, codebook = {'often_read_newsletter': 'How often do you read the newsletter?', 'topics_would_like_see_covered': 'What topics would you like to see covered in future issues?', 'scale_1_10_would_rate_overall': 'On a scale of 1 to 10, how would you rate the overall quality of the newsletter?', 'section_newsletter_find_valuable': 'Which section of the newsletter do you find most valuable?', 'improvements_would_suggest': 'What improvements would you suggest for the newsletter?'}), Agent(traits = {'often_read_newsletter': 'Monthly', 'topics_would_like_see_covered': \"I think the newsletter could benefit from a series on advanced home automation techniques. Tutorials on installing smart home devices and interviews with professionals in the field would be very useful. Additionally, I'd love to see articles on integrating renewable energy solutions into home construction.\", 'scale_1_10_would_rate_overall': 7, 'section_newsletter_find_valuable': 'Product Reviews', 'improvements_would_suggest': 'The layout of the newsletter could be improved with more visual elements like diagrams and photos. Simplifying the design for easier readability would enhance the overall experience. Including interactive elements like polls and Q&A sections would also add value.'}, codebook = {'often_read_newsletter': 'How often do you read the newsletter?', 'topics_would_like_see_covered': 'What topics would you like to see covered in future issues?', 'scale_1_10_would_rate_overall': 'On a scale of 1 to 10, how would you rate the overall quality of the newsletter?', 'section_newsletter_find_valuable': 'Which section of the newsletter do you find most valuable?', 'improvements_would_suggest': 'What improvements would you suggest for the newsletter?'})])"
      ]
     },
     "execution_count": 11,
     "metadata": {},
     "output_type": "execute_result"
    }
   ],
   "source": [
    "agents[0:2]"
   ]
  },
  {
   "cell_type": "markdown",
   "id": "bcbb8147-d41a-499e-8fdc-98d9472b861f",
   "metadata": {},
   "source": [
    "We can give the agents names for reference in conducting follow-on interviews:"
   ]
  },
  {
   "cell_type": "code",
   "execution_count": 12,
   "id": "774af542-537b-48b2-9474-1f5e4d11d261",
   "metadata": {},
   "outputs": [],
   "source": [
    "for i, agent in enumerate(agents):\n",
    "    setattr(agent, 'name', f\"Respondent {i+1}\")"
   ]
  },
  {
   "cell_type": "code",
   "execution_count": 13,
   "id": "46be1979-02aa-48e8-916f-d2f8297d1373",
   "metadata": {},
   "outputs": [
    {
     "data": {
      "text/html": [
       "<div class=\"highlight\"><pre><span></span><span class=\"p\">[</span>\n",
       "<span class=\"w\">    </span><span class=\"p\">{</span>\n",
       "<span class=\"w\">        </span><span class=\"nt\">&quot;name&quot;</span><span class=\"p\">:</span><span class=\"w\"> </span><span class=\"s2\">&quot;Respondent 1&quot;</span><span class=\"p\">,</span>\n",
       "<span class=\"w\">        </span><span class=\"nt\">&quot;traits&quot;</span><span class=\"p\">:</span><span class=\"w\"> </span><span class=\"p\">{</span>\n",
       "<span class=\"w\">            </span><span class=\"nt\">&quot;often_read_newsletter&quot;</span><span class=\"p\">:</span><span class=\"w\"> </span><span class=\"s2\">&quot;Weekly&quot;</span><span class=\"p\">,</span>\n",
       "<span class=\"w\">            </span><span class=\"nt\">&quot;topics_would_like_see_covered&quot;</span><span class=\"p\">:</span><span class=\"w\"> </span><span class=\"s2\">&quot;I would love to see more in-depth guides on sustainable building practices. Including case studies from different types of projects would be very helpful. Interviews with experts about their experiences, tips, and challenges they faced would also be appreciated. Additionally, insights into cost-saving techniques would be very beneficial.&quot;</span><span class=\"p\">,</span>\n",
       "<span class=\"w\">            </span><span class=\"nt\">&quot;scale_1_10_would_rate_overall&quot;</span><span class=\"p\">:</span><span class=\"w\"> </span><span class=\"mi\">8</span><span class=\"p\">,</span>\n",
       "<span class=\"w\">            </span><span class=\"nt\">&quot;section_newsletter_find_valuable&quot;</span><span class=\"p\">:</span><span class=\"w\"> </span><span class=\"s2\">&quot;Construction Tips&quot;</span><span class=\"p\">,</span>\n",
       "<span class=\"w\">            </span><span class=\"nt\">&quot;improvements_would_suggest&quot;</span><span class=\"p\">:</span><span class=\"w\"> </span><span class=\"s2\">&quot;Adding more video content, such as tutorials and walk-throughs, would make the newsletter more engaging. Summaries of key points at the end of each issue would also be beneficial. It would also be great to include downloadable templates and checklists for various construction projects.&quot;</span>\n",
       "<span class=\"w\">        </span><span class=\"p\">},</span>\n",
       "<span class=\"w\">        </span><span class=\"nt\">&quot;codebook&quot;</span><span class=\"p\">:</span><span class=\"w\"> </span><span class=\"p\">{</span>\n",
       "<span class=\"w\">            </span><span class=\"nt\">&quot;often_read_newsletter&quot;</span><span class=\"p\">:</span><span class=\"w\"> </span><span class=\"s2\">&quot;How often do you read the newsletter?&quot;</span><span class=\"p\">,</span>\n",
       "<span class=\"w\">            </span><span class=\"nt\">&quot;topics_would_like_see_covered&quot;</span><span class=\"p\">:</span><span class=\"w\"> </span><span class=\"s2\">&quot;What topics would you like to see covered in future issues?&quot;</span><span class=\"p\">,</span>\n",
       "<span class=\"w\">            </span><span class=\"nt\">&quot;scale_1_10_would_rate_overall&quot;</span><span class=\"p\">:</span><span class=\"w\"> </span><span class=\"s2\">&quot;On a scale of 1 to 10, how would you rate the overall quality of the newsletter?&quot;</span><span class=\"p\">,</span>\n",
       "<span class=\"w\">            </span><span class=\"nt\">&quot;section_newsletter_find_valuable&quot;</span><span class=\"p\">:</span><span class=\"w\"> </span><span class=\"s2\">&quot;Which section of the newsletter do you find most valuable?&quot;</span><span class=\"p\">,</span>\n",
       "<span class=\"w\">            </span><span class=\"nt\">&quot;improvements_would_suggest&quot;</span><span class=\"p\">:</span><span class=\"w\"> </span><span class=\"s2\">&quot;What improvements would you suggest for the newsletter?&quot;</span>\n",
       "<span class=\"w\">        </span><span class=\"p\">},</span>\n",
       "<span class=\"w\">        </span><span class=\"nt\">&quot;edsl_version&quot;</span><span class=\"p\">:</span><span class=\"w\"> </span><span class=\"s2\">&quot;0.1.37.dev1&quot;</span><span class=\"p\">,</span>\n",
       "<span class=\"w\">        </span><span class=\"nt\">&quot;edsl_class_name&quot;</span><span class=\"p\">:</span><span class=\"w\"> </span><span class=\"s2\">&quot;Agent&quot;</span>\n",
       "<span class=\"w\">    </span><span class=\"p\">},</span>\n",
       "<span class=\"w\">    </span><span class=\"p\">{</span>\n",
       "<span class=\"w\">        </span><span class=\"nt\">&quot;name&quot;</span><span class=\"p\">:</span><span class=\"w\"> </span><span class=\"s2\">&quot;Respondent 2&quot;</span><span class=\"p\">,</span>\n",
       "<span class=\"w\">        </span><span class=\"nt\">&quot;traits&quot;</span><span class=\"p\">:</span><span class=\"w\"> </span><span class=\"p\">{</span>\n",
       "<span class=\"w\">            </span><span class=\"nt\">&quot;often_read_newsletter&quot;</span><span class=\"p\">:</span><span class=\"w\"> </span><span class=\"s2\">&quot;Monthly&quot;</span><span class=\"p\">,</span>\n",
       "<span class=\"w\">            </span><span class=\"nt\">&quot;topics_would_like_see_covered&quot;</span><span class=\"p\">:</span><span class=\"w\"> </span><span class=\"s2\">&quot;I think the newsletter could benefit from a series on advanced home automation techniques. Tutorials on installing smart home devices and interviews with professionals in the field would be very useful. Additionally, I&#39;d love to see articles on integrating renewable energy solutions into home construction.&quot;</span><span class=\"p\">,</span>\n",
       "<span class=\"w\">            </span><span class=\"nt\">&quot;scale_1_10_would_rate_overall&quot;</span><span class=\"p\">:</span><span class=\"w\"> </span><span class=\"mi\">7</span><span class=\"p\">,</span>\n",
       "<span class=\"w\">            </span><span class=\"nt\">&quot;section_newsletter_find_valuable&quot;</span><span class=\"p\">:</span><span class=\"w\"> </span><span class=\"s2\">&quot;Product Reviews&quot;</span><span class=\"p\">,</span>\n",
       "<span class=\"w\">            </span><span class=\"nt\">&quot;improvements_would_suggest&quot;</span><span class=\"p\">:</span><span class=\"w\"> </span><span class=\"s2\">&quot;The layout of the newsletter could be improved with more visual elements like diagrams and photos. Simplifying the design for easier readability would enhance the overall experience. Including interactive elements like polls and Q&amp;A sections would also add value.&quot;</span>\n",
       "<span class=\"w\">        </span><span class=\"p\">},</span>\n",
       "<span class=\"w\">        </span><span class=\"nt\">&quot;codebook&quot;</span><span class=\"p\">:</span><span class=\"w\"> </span><span class=\"p\">{</span>\n",
       "<span class=\"w\">            </span><span class=\"nt\">&quot;often_read_newsletter&quot;</span><span class=\"p\">:</span><span class=\"w\"> </span><span class=\"s2\">&quot;How often do you read the newsletter?&quot;</span><span class=\"p\">,</span>\n",
       "<span class=\"w\">            </span><span class=\"nt\">&quot;topics_would_like_see_covered&quot;</span><span class=\"p\">:</span><span class=\"w\"> </span><span class=\"s2\">&quot;What topics would you like to see covered in future issues?&quot;</span><span class=\"p\">,</span>\n",
       "<span class=\"w\">            </span><span class=\"nt\">&quot;scale_1_10_would_rate_overall&quot;</span><span class=\"p\">:</span><span class=\"w\"> </span><span class=\"s2\">&quot;On a scale of 1 to 10, how would you rate the overall quality of the newsletter?&quot;</span><span class=\"p\">,</span>\n",
       "<span class=\"w\">            </span><span class=\"nt\">&quot;section_newsletter_find_valuable&quot;</span><span class=\"p\">:</span><span class=\"w\"> </span><span class=\"s2\">&quot;Which section of the newsletter do you find most valuable?&quot;</span><span class=\"p\">,</span>\n",
       "<span class=\"w\">            </span><span class=\"nt\">&quot;improvements_would_suggest&quot;</span><span class=\"p\">:</span><span class=\"w\"> </span><span class=\"s2\">&quot;What improvements would you suggest for the newsletter?&quot;</span>\n",
       "<span class=\"w\">        </span><span class=\"p\">},</span>\n",
       "<span class=\"w\">        </span><span class=\"nt\">&quot;edsl_version&quot;</span><span class=\"p\">:</span><span class=\"w\"> </span><span class=\"s2\">&quot;0.1.37.dev1&quot;</span><span class=\"p\">,</span>\n",
       "<span class=\"w\">        </span><span class=\"nt\">&quot;edsl_class_name&quot;</span><span class=\"p\">:</span><span class=\"w\"> </span><span class=\"s2\">&quot;Agent&quot;</span>\n",
       "<span class=\"w\">    </span><span class=\"p\">}</span>\n",
       "<span class=\"p\">]</span>\n",
       "</pre></div>\n"
      ],
      "text/plain": [
       "AgentList([Agent(name = \"\"\"Respondent 1\"\"\", traits = {'often_read_newsletter': 'Weekly', 'topics_would_like_see_covered': 'I would love to see more in-depth guides on sustainable building practices. Including case studies from different types of projects would be very helpful. Interviews with experts about their experiences, tips, and challenges they faced would also be appreciated. Additionally, insights into cost-saving techniques would be very beneficial.', 'scale_1_10_would_rate_overall': 8, 'section_newsletter_find_valuable': 'Construction Tips', 'improvements_would_suggest': 'Adding more video content, such as tutorials and walk-throughs, would make the newsletter more engaging. Summaries of key points at the end of each issue would also be beneficial. It would also be great to include downloadable templates and checklists for various construction projects.'}, codebook = {'often_read_newsletter': 'How often do you read the newsletter?', 'topics_would_like_see_covered': 'What topics would you like to see covered in future issues?', 'scale_1_10_would_rate_overall': 'On a scale of 1 to 10, how would you rate the overall quality of the newsletter?', 'section_newsletter_find_valuable': 'Which section of the newsletter do you find most valuable?', 'improvements_would_suggest': 'What improvements would you suggest for the newsletter?'}), Agent(name = \"\"\"Respondent 2\"\"\", traits = {'often_read_newsletter': 'Monthly', 'topics_would_like_see_covered': \"I think the newsletter could benefit from a series on advanced home automation techniques. Tutorials on installing smart home devices and interviews with professionals in the field would be very useful. Additionally, I'd love to see articles on integrating renewable energy solutions into home construction.\", 'scale_1_10_would_rate_overall': 7, 'section_newsletter_find_valuable': 'Product Reviews', 'improvements_would_suggest': 'The layout of the newsletter could be improved with more visual elements like diagrams and photos. Simplifying the design for easier readability would enhance the overall experience. Including interactive elements like polls and Q&A sections would also add value.'}, codebook = {'often_read_newsletter': 'How often do you read the newsletter?', 'topics_would_like_see_covered': 'What topics would you like to see covered in future issues?', 'scale_1_10_would_rate_overall': 'On a scale of 1 to 10, how would you rate the overall quality of the newsletter?', 'section_newsletter_find_valuable': 'Which section of the newsletter do you find most valuable?', 'improvements_would_suggest': 'What improvements would you suggest for the newsletter?'})])"
      ]
     },
     "execution_count": 13,
     "metadata": {},
     "output_type": "execute_result"
    }
   ],
   "source": [
    "agents[0:2]"
   ]
  },
  {
   "cell_type": "markdown",
   "id": "26caadb3-fd0d-4d27-8dc7-be3ef65925fb",
   "metadata": {},
   "source": [
    "## Conducting follow-on interviews\n",
    "We can use the `Conversation` module to automate an interview with each respondent agent. \n",
    "To start, we can create an agent interviewer and pair it with each respondent agent:"
   ]
  },
  {
   "cell_type": "code",
   "execution_count": 14,
   "id": "061151cb-1c87-479b-8898-2e6f94abac14",
   "metadata": {},
   "outputs": [],
   "source": [
    "from edsl import AgentList, Agent\n",
    "from edsl.conversation.Conversation import Conversation, ConversationList"
   ]
  },
  {
   "cell_type": "code",
   "execution_count": 15,
   "id": "85466b17-877b-4989-9f5f-bc9306944337",
   "metadata": {},
   "outputs": [],
   "source": [
    "def interview_pair(i, agents):\n",
    "    respondent = agents[i]\n",
    "    interviewer = Agent(\n",
    "        name = \"Interviewer\",\n",
    "        traits = {\n",
    "            \"motivation\": f\"\"\"\n",
    "            You are conducting a follow-on interview with someone who has just \n",
    "            answered a survey about a home construction newsletter. \n",
    "            You want to get more details about their feedback on the newsletter.\n",
    "            Here are the survey questions and the respondent's answers:\n",
    "            { respondent.codebook }\n",
    "            { respondent.traits }\n",
    "            \"\"\"\n",
    "        }\n",
    "    )\n",
    "        \n",
    "    return AgentList([interviewer, respondent])"
   ]
  },
  {
   "cell_type": "markdown",
   "id": "832e5fe0-d7a0-4d51-8682-5c373a883d84",
   "metadata": {},
   "source": [
    "Next we specify the agents and number of turns for each conversation that we want to run:"
   ]
  },
  {
   "cell_type": "code",
   "execution_count": 16,
   "id": "5c15e34e-a799-471d-baa2-e495973f00f6",
   "metadata": {},
   "outputs": [
    {
     "name": "stderr",
     "output_type": "stream",
     "text": [
      "/Users/a16174/edsl/edsl/questions/descriptors.py:386: UserWarning: WARNING: Question text contains a single-braced substring. If you intended to parameterize the question with a Scenario, this will be changed to a double-braced substring, e.g. {{variable}}.\n",
      "See details on constructing Scenarios in the docs: https://docs.expectedparrot.com/en/latest/scenarios.html\n",
      "  warnings.warn(\n"
     ]
    }
   ],
   "source": [
    "cl = ConversationList(\n",
    "    [Conversation(agent_list = interview_pair(i, agents), max_turns = 6)\n",
    "    for i in range(len(agents))]\n",
    ")"
   ]
  },
  {
   "cell_type": "markdown",
   "id": "9b6d5e48-43a6-4975-8327-c7fb6d5d85ea",
   "metadata": {},
   "source": [
    "Now we can run the conversations and convert them into `Results` objects for inspection and analysis:"
   ]
  },
  {
   "cell_type": "code",
   "execution_count": 17,
   "id": "3a16ca67-86da-4d51-a0e8-ac30eab52445",
   "metadata": {},
   "outputs": [
    {
     "ename": "TypeError",
     "evalue": "ConversationList.run() got an unexpected keyword argument 'disable_remote_inference'",
     "output_type": "error",
     "traceback": [
      "\u001b[0;31m---------------------------------------------------------------------------\u001b[0m",
      "\u001b[0;31mTypeError\u001b[0m                                 Traceback (most recent call last)",
      "Cell \u001b[0;32mIn[17], line 1\u001b[0m\n\u001b[0;32m----> 1\u001b[0m \u001b[43mcl\u001b[49m\u001b[38;5;241;43m.\u001b[39;49m\u001b[43mrun\u001b[49m\u001b[43m(\u001b[49m\u001b[43mdisable_remote_inference\u001b[49m\u001b[38;5;241;43m=\u001b[39;49m\u001b[38;5;28;43;01mTrue\u001b[39;49;00m\u001b[43m)\u001b[49m\n",
      "\u001b[0;31mTypeError\u001b[0m: ConversationList.run() got an unexpected keyword argument 'disable_remote_inference'"
     ]
    }
   ],
   "source": [
    "cl.run(disable_remote_inference=True)"
   ]
  },
  {
   "cell_type": "markdown",
   "id": "b59f2c4e-3ee0-41d9-b62f-540fa0bd12ae",
   "metadata": {},
   "source": [
    "To see all the components of the results that have been generated:"
   ]
  },
  {
   "cell_type": "code",
   "execution_count": null,
   "id": "ac332a0b-76d4-4e51-be26-03b859ceca8a",
   "metadata": {},
   "outputs": [],
   "source": [
    "results.columns"
   ]
  },
  {
   "cell_type": "markdown",
   "id": "7cf90c8f-e2db-4749-ba06-a71ab5010eca",
   "metadata": {},
   "source": [
    "As we did above, we can filter, sort, select and print the results. \n",
    "Please see documentation for [examples of other analytical methods](https://docs.expectedparrot.com/en/latest/results.html)."
   ]
  },
  {
   "cell_type": "code",
   "execution_count": null,
   "id": "63765684-c80b-4a0b-bd6d-6cc8010d71ca",
   "metadata": {},
   "outputs": [],
   "source": [
    "(results\n",
    " .sort_by(\"conversation_index\", \"index\")\n",
    " .select(\"conversation_index\", \"index\", \"agent_name\", \"dialogue\")\n",
    " .print(format=\"rich\")\n",
    ")"
   ]
  },
  {
   "cell_type": "markdown",
   "id": "78e4f6de-233e-4619-ac3e-6a7e1c8f6e9e",
   "metadata": {},
   "source": [
    "## Posting to the Coop\n",
    "The [Coop](https://www.expectedparrot.com/content/explore) is a platform for creating, storing and sharing LLM-based research.\n",
    "It is fully integrated with EDSL and accessible from your workspace or Coop account page.\n",
    "Learn more about [creating an account](https://www.expectedparrot.com/login) and [using the Coop](https://docs.expectedparrot.com/en/latest/coop.html).\n",
    "\n",
    "Here we demonstrate how to post this notebook:"
   ]
  },
  {
   "cell_type": "code",
   "execution_count": null,
   "id": "24907507-5af1-45b1-9edf-4b890936d1e1",
   "metadata": {
    "editable": true,
    "slideshow": {
     "slide_type": ""
    },
    "tags": [
     "skip-execution"
    ]
   },
   "outputs": [],
   "source": [
    "from edsl import Notebook"
   ]
  },
  {
   "cell_type": "code",
   "execution_count": null,
   "id": "2359d838-074c-4785-b751-d5896c04859c",
   "metadata": {
    "editable": true,
    "slideshow": {
     "slide_type": ""
    },
    "tags": [
     "skip-execution"
    ]
   },
   "outputs": [],
   "source": [
    "n = Notebook(path = \"agentifying_responses.ipynb\")"
   ]
  },
  {
   "cell_type": "code",
   "execution_count": null,
   "id": "438cc4e6-70f6-4cd7-96df-ac73e1e2ec45",
   "metadata": {
    "editable": true,
    "slideshow": {
     "slide_type": ""
    },
    "tags": [
     "skip-execution"
    ]
   },
   "outputs": [],
   "source": [
    "n.push(description = \"Example code for creating agents for survey respondents and simulating follow-on interviews\", visibility = \"public\")"
   ]
  },
  {
   "cell_type": "markdown",
   "id": "3caf33f1-cd8a-4923-beea-486d62ac249d",
   "metadata": {},
   "source": [
    "To update an object at the Coop:"
   ]
  },
  {
   "cell_type": "code",
   "execution_count": null,
   "id": "ff5692c4-a0ce-4106-bbb2-fecb0085f4d5",
   "metadata": {
    "editable": true,
    "slideshow": {
     "slide_type": ""
    },
    "tags": [
     "skip-execution"
    ]
   },
   "outputs": [],
   "source": [
    "n = Notebook(path = \"agentifying_responses.ipynb\")"
   ]
  },
  {
   "cell_type": "code",
   "execution_count": null,
   "id": "96ef10a6-90fd-4b66-a8a6-c59930355b30",
   "metadata": {
    "editable": true,
    "slideshow": {
     "slide_type": ""
    },
    "tags": [
     "skip-execution"
    ]
   },
   "outputs": [],
   "source": [
    "n.patch(uuid = \"2932971d-2e5a-42de-b5a7-ccbbfcea7247\", value = n)"
   ]
  }
 ],
 "metadata": {
  "kernelspec": {
   "display_name": "Python 3 (ipykernel)",
   "language": "python",
   "name": "python3"
  },
  "language_info": {
   "codemirror_mode": {
    "name": "ipython",
    "version": 3
   },
   "file_extension": ".py",
   "mimetype": "text/x-python",
   "name": "python",
   "nbconvert_exporter": "python",
   "pygments_lexer": "ipython3",
   "version": "3.11.7"
  }
 },
 "nbformat": 4,
 "nbformat_minor": 5
}
