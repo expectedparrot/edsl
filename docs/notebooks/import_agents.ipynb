{
 "cells": [
  {
   "cell_type": "markdown",
   "id": "dfa03b9e-9655-4c4f-a7e0-43cd5487b5e4",
   "metadata": {},
   "source": [
    "# Importing agents\n",
    "This notebook provides sample EDSL code for simulating surveys with agent personas imported from [Persona Hub](https://github.com/tencent-ailab/persona-hub), an open-source repository provided by [Hugging Face](https://huggingface.co/datasets/proj-persona/PersonaHub).\n",
    "\n",
    "[EDSL](https://github.com/expectedparrot/edsl) is an open-source library for simulating surveys, experiments and other research with AI agents and large language models. \n",
    "Before running the code below, please ensure that you have [installed the EDSL library](https://docs.expectedparrot.com/en/latest/installation.html) and either [activated remote inference](https://docs.expectedparrot.com/en/latest/remote_inference.html) from your [Coop account](https://docs.expectedparrot.com/en/latest/coop.html) or [stored API keys](https://docs.expectedparrot.com/en/latest/api_keys.html) for the language models that you want to use with EDSL. Please also see our [documentation page](https://docs.expectedparrot.com/) for tips and tutorials on getting started using EDSL."
   ]
  },
  {
   "cell_type": "markdown",
   "id": "69f3f75c-6908-42d2-a78b-377e1f829c54",
   "metadata": {},
   "source": [
    "### Importing the data\n",
    "Persona Hub: https://github.com/tencent-ailab/persona-hub"
   ]
  },
  {
   "cell_type": "code",
   "execution_count": 1,
   "id": "cb73e351-e150-4dbe-916e-98fcf2a6673f",
   "metadata": {},
   "outputs": [],
   "source": [
    "from datasets import load_dataset\n",
    "\n",
    "ds = load_dataset(\"proj-persona/PersonaHub\", \"instruction\")"
   ]
  },
  {
   "cell_type": "markdown",
   "id": "a4f5cfeb-4944-4045-bf5d-bae52c65a980",
   "metadata": {},
   "source": [
    "### Selecting data\n",
    "Here we select some personas to use."
   ]
  },
  {
   "cell_type": "code",
   "execution_count": 2,
   "id": "acc2abf9-bd3c-49a1-becb-f3c188f49e1b",
   "metadata": {},
   "outputs": [
    {
     "data": {
      "text/plain": [
       "['A theater manager or events coordinator interested in understanding the operational aspects, facilities, and programming of performing arts centers, such as the Broward Center.',\n",
       " 'An urban planner looking to understand the distribution and organization of public services in the Halifax Regional Municipality.',\n",
       " \"A high school literature teacher looking for supplementary materials to enrich their curriculum and provide students with a deeper understanding of their state's cultural heritage.\",\n",
       " 'A science fiction writer, exploring the use of secret trials as a theme in stories that examine surveillance, privacy, and power dynamics in society.',\n",
       " 'A financial analyst specializing in Asian markets and wealthy individuals, interested in tracking the investments and philanthropic activities of billionaires like Gerald Chan.',\n",
       " 'A high school physics teacher who enjoys applying physics concepts to various sports, curious about the effects of water resistance and body positioning in Paralympic swimming.',\n",
       " 'A high school physical education teacher seeking to incorporate Paralympic history and achievements into the curriculum to inspire and educate students about inclusivity in sports.',\n",
       " 'A high school history teacher creating lesson plans on South American civilizations and their regional diversity.',\n",
       " 'A cultural anthropologist studying the representation and adaptation of traditional folklore in contemporary media, particularly in television and film.',\n",
       " 'A high school earth science teacher looking for real-world examples to explain climate zones, soil types, and human-environment interactions.']"
      ]
     },
     "execution_count": 2,
     "metadata": {},
     "output_type": "execute_result"
    }
   ],
   "source": [
    "num_agents = 10\n",
    "\n",
    "personas_list = ds['train']['input persona'][:num_agents]\n",
    "personas_list"
   ]
  },
  {
   "cell_type": "markdown",
   "id": "0588622b-c598-4314-9b14-a9e468fdbb5a",
   "metadata": {},
   "source": [
    "### Creating agents\n",
    "We create an agent in EDSL by passing a dictionary of `traits` (such as a persona) to an `Agent` object.\n",
    "Here we use a method for generating a set of agents from a list of traits at once (a list of the personas).\n",
    "Learn more about [designing agents in EDSL](https://docs.expectedparrot.com/en/latest/agents.html)."
   ]
  },
  {
   "cell_type": "code",
   "execution_count": 3,
   "id": "9cd9b291-8c36-47b8-a0b4-534f5a9b827c",
   "metadata": {},
   "outputs": [],
   "source": [
    "from edsl import AgentList\n",
    "\n",
    "agents = AgentList.from_list(\"persona\", personas_list)"
   ]
  },
  {
   "cell_type": "markdown",
   "id": "ce2457ba-2734-47de-bfd0-1cd8bb718aae",
   "metadata": {},
   "source": [
    "### Using agents to answer a survey\n",
    "Here we construct some questions and administer them to the agents.\n",
    "EDSL comes with many [common question types](https://docs.expectedparrot.com/en/latest/questions.html) that we can choose from based on the form of the response that we want to get back from a model.\n",
    "Learn more about [constructing surveys](https://docs.expectedparrot.com/en/latest/surveys.html) with different question types, logic and rules."
   ]
  },
  {
   "cell_type": "code",
   "execution_count": 4,
   "id": "13366568-fba7-4479-ab57-577d5ebfd192",
   "metadata": {},
   "outputs": [],
   "source": [
    "from edsl import QuestionMultipleChoice, QuestionLinearScale, Survey\n",
    "\n",
    "q1 = QuestionMultipleChoice(\n",
    "    question_name = \"preferred_mode_commute\",\n",
    "    question_text = \"What is your preferred mode of commuting to work?\",\n",
    "    question_options = [ \"Car\", \"Public transportation\", \"Bike\", \"Walk\", \"Work from home\", \"Other\" ] \n",
    ")\n",
    "\n",
    "q2 = QuestionLinearScale(\n",
    "    question_name = \"work_from_home\",\n",
    "    question_text = \"On a scale from 1 to 5, how easy is it for you to work from home?\",\n",
    "    question_options = [1,2,3,4,5],\n",
    "    option_labels = {1:\"Not at all easy\", 5:\"Very easy\"}\n",
    ")\n",
    "\n",
    "survey = Survey([q1, q2])"
   ]
  },
  {
   "cell_type": "markdown",
   "id": "1be8cc3b-76d0-4c69-b734-9243e58a98ab",
   "metadata": {},
   "source": [
    "### Selecting language models\n",
    "EDSL works with many popular language models that we can select to generate the responses for the agents.\n",
    "\n",
    "To see a list of all services:"
   ]
  },
  {
   "cell_type": "code",
   "execution_count": 5,
   "id": "6f5cd071-1d7e-4e4c-8cf2-3b75a1e788a5",
   "metadata": {},
   "outputs": [
    {
     "data": {
      "text/plain": [
       "['openai',\n",
       " 'anthropic',\n",
       " 'deep_infra',\n",
       " 'google',\n",
       " 'groq',\n",
       " 'bedrock',\n",
       " 'azure',\n",
       " 'ollama',\n",
       " 'test',\n",
       " 'mistral',\n",
       " 'together']"
      ]
     },
     "execution_count": 5,
     "metadata": {},
     "output_type": "execute_result"
    }
   ],
   "source": [
    "from edsl import Model\n",
    "\n",
    "Model.services()"
   ]
  },
  {
   "cell_type": "markdown",
   "id": "00f093ed-3ba9-4aa5-a5d2-a9ae3b2e62b9",
   "metadata": {},
   "source": [
    "To see a list of all available models:"
   ]
  },
  {
   "cell_type": "code",
   "execution_count": 6,
   "id": "f509e8a0-bbb9-4242-a836-6ad9246536ff",
   "metadata": {},
   "outputs": [],
   "source": [
    "# Model.available()"
   ]
  },
  {
   "cell_type": "markdown",
   "id": "e306ddfb-8299-48d3-a1fa-b2c6c9c0eb5f",
   "metadata": {},
   "source": [
    "To select models to use with a survey:"
   ]
  },
  {
   "cell_type": "code",
   "execution_count": 7,
   "id": "af431de0-bcfb-4f92-9b5d-8eb367987a5c",
   "metadata": {},
   "outputs": [],
   "source": [
    "from edsl import ModelList, Model\n",
    "\n",
    "models = ModelList(\n",
    "    Model(m) for m in [\"gemini-1.5-flash\", \"gpt-4o\"]\n",
    ")"
   ]
  },
  {
   "cell_type": "markdown",
   "id": "6f6f7f72-fa28-403a-b652-d25ec83b683b",
   "metadata": {},
   "source": [
    "We run a survey by adding the agents and models, and then calling the `run()` method.\n",
    "This generates a formatted dataset of `Results`:"
   ]
  },
  {
   "cell_type": "code",
   "execution_count": 8,
   "id": "69247b52-f8a2-4cb6-a9e0-e44d3429bb54",
   "metadata": {},
   "outputs": [],
   "source": [
    "results = survey.by(agents).by(models).run()"
   ]
  },
  {
   "cell_type": "markdown",
   "id": "0dbbf5dc-fbf8-425f-b7e0-7546ef1957f2",
   "metadata": {},
   "source": [
    "### Analyzing results\n",
    "EDSL comes with [built-in methods for analysis](https://docs.expectedparrot.com/en/latest/results.html).\n",
    "Here we inspect the responses:"
   ]
  },
  {
   "cell_type": "code",
   "execution_count": 9,
   "id": "930a6316-7b15-4a9a-927f-514cd81ce859",
   "metadata": {},
   "outputs": [
    {
     "data": {
      "text/html": [
       "<pre style=\"white-space:pre;overflow-x:auto;line-height:normal;font-family:Menlo,'DejaVu Sans Mono',consolas,'Courier New',monospace\">┏━━━━━━━━━━━━━━━━━━┳━━━━━━━━━━━━━━━━━━━━━━━━━━━━━━━━━━━━━━━━━━━━━━━━━━┳━━━━━━━━━━━━━━━━━━━━━━━━━┳━━━━━━━━━━━━━━━━━┓\n",
       "┃<span style=\"color: #800080; text-decoration-color: #800080; font-weight: bold\"> model            </span>┃<span style=\"color: #800080; text-decoration-color: #800080; font-weight: bold\"> agent                                            </span>┃<span style=\"color: #800080; text-decoration-color: #800080; font-weight: bold\"> answer                  </span>┃<span style=\"color: #800080; text-decoration-color: #800080; font-weight: bold\"> answer          </span>┃\n",
       "┃<span style=\"color: #800080; text-decoration-color: #800080; font-weight: bold\"> .model           </span>┃<span style=\"color: #800080; text-decoration-color: #800080; font-weight: bold\"> .persona                                         </span>┃<span style=\"color: #800080; text-decoration-color: #800080; font-weight: bold\"> .preferred_mode_commute </span>┃<span style=\"color: #800080; text-decoration-color: #800080; font-weight: bold\"> .work_from_home </span>┃\n",
       "┡━━━━━━━━━━━━━━━━━━╇━━━━━━━━━━━━━━━━━━━━━━━━━━━━━━━━━━━━━━━━━━━━━━━━━━╇━━━━━━━━━━━━━━━━━━━━━━━━━╇━━━━━━━━━━━━━━━━━┩\n",
       "│<span style=\"color: #7f7f7f; text-decoration-color: #7f7f7f\"> gpt-4o           </span>│<span style=\"color: #7f7f7f; text-decoration-color: #7f7f7f\"> A theater manager or events coordinator          </span>│<span style=\"color: #7f7f7f; text-decoration-color: #7f7f7f\"> Car                     </span>│<span style=\"color: #7f7f7f; text-decoration-color: #7f7f7f\"> 2               </span>│\n",
       "│<span style=\"color: #7f7f7f; text-decoration-color: #7f7f7f\">                  </span>│<span style=\"color: #7f7f7f; text-decoration-color: #7f7f7f\"> interested in understanding the operational      </span>│<span style=\"color: #7f7f7f; text-decoration-color: #7f7f7f\">                         </span>│<span style=\"color: #7f7f7f; text-decoration-color: #7f7f7f\">                 </span>│\n",
       "│<span style=\"color: #7f7f7f; text-decoration-color: #7f7f7f\">                  </span>│<span style=\"color: #7f7f7f; text-decoration-color: #7f7f7f\"> aspects, facilities, and programming of          </span>│<span style=\"color: #7f7f7f; text-decoration-color: #7f7f7f\">                         </span>│<span style=\"color: #7f7f7f; text-decoration-color: #7f7f7f\">                 </span>│\n",
       "│<span style=\"color: #7f7f7f; text-decoration-color: #7f7f7f\">                  </span>│<span style=\"color: #7f7f7f; text-decoration-color: #7f7f7f\"> performing arts centers, such as the Broward     </span>│<span style=\"color: #7f7f7f; text-decoration-color: #7f7f7f\">                         </span>│<span style=\"color: #7f7f7f; text-decoration-color: #7f7f7f\">                 </span>│\n",
       "│<span style=\"color: #7f7f7f; text-decoration-color: #7f7f7f\">                  </span>│<span style=\"color: #7f7f7f; text-decoration-color: #7f7f7f\"> Center.                                          </span>│<span style=\"color: #7f7f7f; text-decoration-color: #7f7f7f\">                         </span>│<span style=\"color: #7f7f7f; text-decoration-color: #7f7f7f\">                 </span>│\n",
       "├──────────────────┼──────────────────────────────────────────────────┼─────────────────────────┼─────────────────┤\n",
       "│<span style=\"color: #7f7f7f; text-decoration-color: #7f7f7f\"> gpt-4o           </span>│<span style=\"color: #7f7f7f; text-decoration-color: #7f7f7f\"> An urban planner looking to understand the       </span>│<span style=\"color: #7f7f7f; text-decoration-color: #7f7f7f\"> Public transportation   </span>│<span style=\"color: #7f7f7f; text-decoration-color: #7f7f7f\"> 5               </span>│\n",
       "│<span style=\"color: #7f7f7f; text-decoration-color: #7f7f7f\">                  </span>│<span style=\"color: #7f7f7f; text-decoration-color: #7f7f7f\"> distribution and organization of public services </span>│<span style=\"color: #7f7f7f; text-decoration-color: #7f7f7f\">                         </span>│<span style=\"color: #7f7f7f; text-decoration-color: #7f7f7f\">                 </span>│\n",
       "│<span style=\"color: #7f7f7f; text-decoration-color: #7f7f7f\">                  </span>│<span style=\"color: #7f7f7f; text-decoration-color: #7f7f7f\"> in the Halifax Regional Municipality.            </span>│<span style=\"color: #7f7f7f; text-decoration-color: #7f7f7f\">                         </span>│<span style=\"color: #7f7f7f; text-decoration-color: #7f7f7f\">                 </span>│\n",
       "├──────────────────┼──────────────────────────────────────────────────┼─────────────────────────┼─────────────────┤\n",
       "│<span style=\"color: #7f7f7f; text-decoration-color: #7f7f7f\"> gpt-4o           </span>│<span style=\"color: #7f7f7f; text-decoration-color: #7f7f7f\"> A high school literature teacher looking for     </span>│<span style=\"color: #7f7f7f; text-decoration-color: #7f7f7f\"> Car                     </span>│<span style=\"color: #7f7f7f; text-decoration-color: #7f7f7f\"> 3               </span>│\n",
       "│<span style=\"color: #7f7f7f; text-decoration-color: #7f7f7f\">                  </span>│<span style=\"color: #7f7f7f; text-decoration-color: #7f7f7f\"> supplementary materials to enrich their          </span>│<span style=\"color: #7f7f7f; text-decoration-color: #7f7f7f\">                         </span>│<span style=\"color: #7f7f7f; text-decoration-color: #7f7f7f\">                 </span>│\n",
       "│<span style=\"color: #7f7f7f; text-decoration-color: #7f7f7f\">                  </span>│<span style=\"color: #7f7f7f; text-decoration-color: #7f7f7f\"> curriculum and provide students with a deeper    </span>│<span style=\"color: #7f7f7f; text-decoration-color: #7f7f7f\">                         </span>│<span style=\"color: #7f7f7f; text-decoration-color: #7f7f7f\">                 </span>│\n",
       "│<span style=\"color: #7f7f7f; text-decoration-color: #7f7f7f\">                  </span>│<span style=\"color: #7f7f7f; text-decoration-color: #7f7f7f\"> understanding of their state's cultural          </span>│<span style=\"color: #7f7f7f; text-decoration-color: #7f7f7f\">                         </span>│<span style=\"color: #7f7f7f; text-decoration-color: #7f7f7f\">                 </span>│\n",
       "│<span style=\"color: #7f7f7f; text-decoration-color: #7f7f7f\">                  </span>│<span style=\"color: #7f7f7f; text-decoration-color: #7f7f7f\"> heritage.                                        </span>│<span style=\"color: #7f7f7f; text-decoration-color: #7f7f7f\">                         </span>│<span style=\"color: #7f7f7f; text-decoration-color: #7f7f7f\">                 </span>│\n",
       "├──────────────────┼──────────────────────────────────────────────────┼─────────────────────────┼─────────────────┤\n",
       "│<span style=\"color: #7f7f7f; text-decoration-color: #7f7f7f\"> gpt-4o           </span>│<span style=\"color: #7f7f7f; text-decoration-color: #7f7f7f\"> A science fiction writer, exploring the use of   </span>│<span style=\"color: #7f7f7f; text-decoration-color: #7f7f7f\"> Work from home          </span>│<span style=\"color: #7f7f7f; text-decoration-color: #7f7f7f\"> 5               </span>│\n",
       "│<span style=\"color: #7f7f7f; text-decoration-color: #7f7f7f\">                  </span>│<span style=\"color: #7f7f7f; text-decoration-color: #7f7f7f\"> secret trials as a theme in stories that examine </span>│<span style=\"color: #7f7f7f; text-decoration-color: #7f7f7f\">                         </span>│<span style=\"color: #7f7f7f; text-decoration-color: #7f7f7f\">                 </span>│\n",
       "│<span style=\"color: #7f7f7f; text-decoration-color: #7f7f7f\">                  </span>│<span style=\"color: #7f7f7f; text-decoration-color: #7f7f7f\"> surveillance, privacy, and power dynamics in     </span>│<span style=\"color: #7f7f7f; text-decoration-color: #7f7f7f\">                         </span>│<span style=\"color: #7f7f7f; text-decoration-color: #7f7f7f\">                 </span>│\n",
       "│<span style=\"color: #7f7f7f; text-decoration-color: #7f7f7f\">                  </span>│<span style=\"color: #7f7f7f; text-decoration-color: #7f7f7f\"> society.                                         </span>│<span style=\"color: #7f7f7f; text-decoration-color: #7f7f7f\">                         </span>│<span style=\"color: #7f7f7f; text-decoration-color: #7f7f7f\">                 </span>│\n",
       "├──────────────────┼──────────────────────────────────────────────────┼─────────────────────────┼─────────────────┤\n",
       "│<span style=\"color: #7f7f7f; text-decoration-color: #7f7f7f\"> gpt-4o           </span>│<span style=\"color: #7f7f7f; text-decoration-color: #7f7f7f\"> A financial analyst specializing in Asian        </span>│<span style=\"color: #7f7f7f; text-decoration-color: #7f7f7f\"> Work from home          </span>│<span style=\"color: #7f7f7f; text-decoration-color: #7f7f7f\"> 5               </span>│\n",
       "│<span style=\"color: #7f7f7f; text-decoration-color: #7f7f7f\">                  </span>│<span style=\"color: #7f7f7f; text-decoration-color: #7f7f7f\"> markets and wealthy individuals, interested in   </span>│<span style=\"color: #7f7f7f; text-decoration-color: #7f7f7f\">                         </span>│<span style=\"color: #7f7f7f; text-decoration-color: #7f7f7f\">                 </span>│\n",
       "│<span style=\"color: #7f7f7f; text-decoration-color: #7f7f7f\">                  </span>│<span style=\"color: #7f7f7f; text-decoration-color: #7f7f7f\"> tracking the investments and philanthropic       </span>│<span style=\"color: #7f7f7f; text-decoration-color: #7f7f7f\">                         </span>│<span style=\"color: #7f7f7f; text-decoration-color: #7f7f7f\">                 </span>│\n",
       "│<span style=\"color: #7f7f7f; text-decoration-color: #7f7f7f\">                  </span>│<span style=\"color: #7f7f7f; text-decoration-color: #7f7f7f\"> activities of billionaires like Gerald Chan.     </span>│<span style=\"color: #7f7f7f; text-decoration-color: #7f7f7f\">                         </span>│<span style=\"color: #7f7f7f; text-decoration-color: #7f7f7f\">                 </span>│\n",
       "├──────────────────┼──────────────────────────────────────────────────┼─────────────────────────┼─────────────────┤\n",
       "│<span style=\"color: #7f7f7f; text-decoration-color: #7f7f7f\"> gpt-4o           </span>│<span style=\"color: #7f7f7f; text-decoration-color: #7f7f7f\"> A high school physics teacher who enjoys         </span>│<span style=\"color: #7f7f7f; text-decoration-color: #7f7f7f\"> Bike                    </span>│<span style=\"color: #7f7f7f; text-decoration-color: #7f7f7f\"> 3               </span>│\n",
       "│<span style=\"color: #7f7f7f; text-decoration-color: #7f7f7f\">                  </span>│<span style=\"color: #7f7f7f; text-decoration-color: #7f7f7f\"> applying physics concepts to various sports,     </span>│<span style=\"color: #7f7f7f; text-decoration-color: #7f7f7f\">                         </span>│<span style=\"color: #7f7f7f; text-decoration-color: #7f7f7f\">                 </span>│\n",
       "│<span style=\"color: #7f7f7f; text-decoration-color: #7f7f7f\">                  </span>│<span style=\"color: #7f7f7f; text-decoration-color: #7f7f7f\"> curious about the effects of water resistance    </span>│<span style=\"color: #7f7f7f; text-decoration-color: #7f7f7f\">                         </span>│<span style=\"color: #7f7f7f; text-decoration-color: #7f7f7f\">                 </span>│\n",
       "│<span style=\"color: #7f7f7f; text-decoration-color: #7f7f7f\">                  </span>│<span style=\"color: #7f7f7f; text-decoration-color: #7f7f7f\"> and body positioning in Paralympic swimming.     </span>│<span style=\"color: #7f7f7f; text-decoration-color: #7f7f7f\">                         </span>│<span style=\"color: #7f7f7f; text-decoration-color: #7f7f7f\">                 </span>│\n",
       "├──────────────────┼──────────────────────────────────────────────────┼─────────────────────────┼─────────────────┤\n",
       "│<span style=\"color: #7f7f7f; text-decoration-color: #7f7f7f\"> gpt-4o           </span>│<span style=\"color: #7f7f7f; text-decoration-color: #7f7f7f\"> A high school physical education teacher seeking </span>│<span style=\"color: #7f7f7f; text-decoration-color: #7f7f7f\"> Bike                    </span>│<span style=\"color: #7f7f7f; text-decoration-color: #7f7f7f\"> 1               </span>│\n",
       "│<span style=\"color: #7f7f7f; text-decoration-color: #7f7f7f\">                  </span>│<span style=\"color: #7f7f7f; text-decoration-color: #7f7f7f\"> to incorporate Paralympic history and            </span>│<span style=\"color: #7f7f7f; text-decoration-color: #7f7f7f\">                         </span>│<span style=\"color: #7f7f7f; text-decoration-color: #7f7f7f\">                 </span>│\n",
       "│<span style=\"color: #7f7f7f; text-decoration-color: #7f7f7f\">                  </span>│<span style=\"color: #7f7f7f; text-decoration-color: #7f7f7f\"> achievements into the curriculum to inspire and  </span>│<span style=\"color: #7f7f7f; text-decoration-color: #7f7f7f\">                         </span>│<span style=\"color: #7f7f7f; text-decoration-color: #7f7f7f\">                 </span>│\n",
       "│<span style=\"color: #7f7f7f; text-decoration-color: #7f7f7f\">                  </span>│<span style=\"color: #7f7f7f; text-decoration-color: #7f7f7f\"> educate students about inclusivity in sports.    </span>│<span style=\"color: #7f7f7f; text-decoration-color: #7f7f7f\">                         </span>│<span style=\"color: #7f7f7f; text-decoration-color: #7f7f7f\">                 </span>│\n",
       "├──────────────────┼──────────────────────────────────────────────────┼─────────────────────────┼─────────────────┤\n",
       "│<span style=\"color: #7f7f7f; text-decoration-color: #7f7f7f\"> gpt-4o           </span>│<span style=\"color: #7f7f7f; text-decoration-color: #7f7f7f\"> A high school history teacher creating lesson    </span>│<span style=\"color: #7f7f7f; text-decoration-color: #7f7f7f\"> Car                     </span>│<span style=\"color: #7f7f7f; text-decoration-color: #7f7f7f\"> 3               </span>│\n",
       "│<span style=\"color: #7f7f7f; text-decoration-color: #7f7f7f\">                  </span>│<span style=\"color: #7f7f7f; text-decoration-color: #7f7f7f\"> plans on South American civilizations and their  </span>│<span style=\"color: #7f7f7f; text-decoration-color: #7f7f7f\">                         </span>│<span style=\"color: #7f7f7f; text-decoration-color: #7f7f7f\">                 </span>│\n",
       "│<span style=\"color: #7f7f7f; text-decoration-color: #7f7f7f\">                  </span>│<span style=\"color: #7f7f7f; text-decoration-color: #7f7f7f\"> regional diversity.                              </span>│<span style=\"color: #7f7f7f; text-decoration-color: #7f7f7f\">                         </span>│<span style=\"color: #7f7f7f; text-decoration-color: #7f7f7f\">                 </span>│\n",
       "├──────────────────┼──────────────────────────────────────────────────┼─────────────────────────┼─────────────────┤\n",
       "│<span style=\"color: #7f7f7f; text-decoration-color: #7f7f7f\"> gpt-4o           </span>│<span style=\"color: #7f7f7f; text-decoration-color: #7f7f7f\"> A cultural anthropologist studying the           </span>│<span style=\"color: #7f7f7f; text-decoration-color: #7f7f7f\"> Work from home          </span>│<span style=\"color: #7f7f7f; text-decoration-color: #7f7f7f\"> 5               </span>│\n",
       "│<span style=\"color: #7f7f7f; text-decoration-color: #7f7f7f\">                  </span>│<span style=\"color: #7f7f7f; text-decoration-color: #7f7f7f\"> representation and adaptation of traditional     </span>│<span style=\"color: #7f7f7f; text-decoration-color: #7f7f7f\">                         </span>│<span style=\"color: #7f7f7f; text-decoration-color: #7f7f7f\">                 </span>│\n",
       "│<span style=\"color: #7f7f7f; text-decoration-color: #7f7f7f\">                  </span>│<span style=\"color: #7f7f7f; text-decoration-color: #7f7f7f\"> folklore in contemporary media, particularly in  </span>│<span style=\"color: #7f7f7f; text-decoration-color: #7f7f7f\">                         </span>│<span style=\"color: #7f7f7f; text-decoration-color: #7f7f7f\">                 </span>│\n",
       "│<span style=\"color: #7f7f7f; text-decoration-color: #7f7f7f\">                  </span>│<span style=\"color: #7f7f7f; text-decoration-color: #7f7f7f\"> television and film.                             </span>│<span style=\"color: #7f7f7f; text-decoration-color: #7f7f7f\">                         </span>│<span style=\"color: #7f7f7f; text-decoration-color: #7f7f7f\">                 </span>│\n",
       "├──────────────────┼──────────────────────────────────────────────────┼─────────────────────────┼─────────────────┤\n",
       "│<span style=\"color: #7f7f7f; text-decoration-color: #7f7f7f\"> gpt-4o           </span>│<span style=\"color: #7f7f7f; text-decoration-color: #7f7f7f\"> A high school earth science teacher looking for  </span>│<span style=\"color: #7f7f7f; text-decoration-color: #7f7f7f\"> Car                     </span>│<span style=\"color: #7f7f7f; text-decoration-color: #7f7f7f\"> 3               </span>│\n",
       "│<span style=\"color: #7f7f7f; text-decoration-color: #7f7f7f\">                  </span>│<span style=\"color: #7f7f7f; text-decoration-color: #7f7f7f\"> real-world examples to explain climate zones,    </span>│<span style=\"color: #7f7f7f; text-decoration-color: #7f7f7f\">                         </span>│<span style=\"color: #7f7f7f; text-decoration-color: #7f7f7f\">                 </span>│\n",
       "│<span style=\"color: #7f7f7f; text-decoration-color: #7f7f7f\">                  </span>│<span style=\"color: #7f7f7f; text-decoration-color: #7f7f7f\"> soil types, and human-environment interactions.  </span>│<span style=\"color: #7f7f7f; text-decoration-color: #7f7f7f\">                         </span>│<span style=\"color: #7f7f7f; text-decoration-color: #7f7f7f\">                 </span>│\n",
       "├──────────────────┼──────────────────────────────────────────────────┼─────────────────────────┼─────────────────┤\n",
       "│<span style=\"color: #7f7f7f; text-decoration-color: #7f7f7f\"> gemini-1.5-flash </span>│<span style=\"color: #7f7f7f; text-decoration-color: #7f7f7f\"> A financial analyst specializing in Asian        </span>│<span style=\"color: #7f7f7f; text-decoration-color: #7f7f7f\"> Car                     </span>│<span style=\"color: #7f7f7f; text-decoration-color: #7f7f7f\"> 4               </span>│\n",
       "│<span style=\"color: #7f7f7f; text-decoration-color: #7f7f7f\">                  </span>│<span style=\"color: #7f7f7f; text-decoration-color: #7f7f7f\"> markets and wealthy individuals, interested in   </span>│<span style=\"color: #7f7f7f; text-decoration-color: #7f7f7f\">                         </span>│<span style=\"color: #7f7f7f; text-decoration-color: #7f7f7f\">                 </span>│\n",
       "│<span style=\"color: #7f7f7f; text-decoration-color: #7f7f7f\">                  </span>│<span style=\"color: #7f7f7f; text-decoration-color: #7f7f7f\"> tracking the investments and philanthropic       </span>│<span style=\"color: #7f7f7f; text-decoration-color: #7f7f7f\">                         </span>│<span style=\"color: #7f7f7f; text-decoration-color: #7f7f7f\">                 </span>│\n",
       "│<span style=\"color: #7f7f7f; text-decoration-color: #7f7f7f\">                  </span>│<span style=\"color: #7f7f7f; text-decoration-color: #7f7f7f\"> activities of billionaires like Gerald Chan.     </span>│<span style=\"color: #7f7f7f; text-decoration-color: #7f7f7f\">                         </span>│<span style=\"color: #7f7f7f; text-decoration-color: #7f7f7f\">                 </span>│\n",
       "├──────────────────┼──────────────────────────────────────────────────┼─────────────────────────┼─────────────────┤\n",
       "│<span style=\"color: #7f7f7f; text-decoration-color: #7f7f7f\"> gemini-1.5-flash </span>│<span style=\"color: #7f7f7f; text-decoration-color: #7f7f7f\"> A high school history teacher creating lesson    </span>│<span style=\"color: #7f7f7f; text-decoration-color: #7f7f7f\"> Car                     </span>│<span style=\"color: #7f7f7f; text-decoration-color: #7f7f7f\"> 3               </span>│\n",
       "│<span style=\"color: #7f7f7f; text-decoration-color: #7f7f7f\">                  </span>│<span style=\"color: #7f7f7f; text-decoration-color: #7f7f7f\"> plans on South American civilizations and their  </span>│<span style=\"color: #7f7f7f; text-decoration-color: #7f7f7f\">                         </span>│<span style=\"color: #7f7f7f; text-decoration-color: #7f7f7f\">                 </span>│\n",
       "│<span style=\"color: #7f7f7f; text-decoration-color: #7f7f7f\">                  </span>│<span style=\"color: #7f7f7f; text-decoration-color: #7f7f7f\"> regional diversity.                              </span>│<span style=\"color: #7f7f7f; text-decoration-color: #7f7f7f\">                         </span>│<span style=\"color: #7f7f7f; text-decoration-color: #7f7f7f\">                 </span>│\n",
       "├──────────────────┼──────────────────────────────────────────────────┼─────────────────────────┼─────────────────┤\n",
       "│<span style=\"color: #7f7f7f; text-decoration-color: #7f7f7f\"> gemini-1.5-flash </span>│<span style=\"color: #7f7f7f; text-decoration-color: #7f7f7f\"> A cultural anthropologist studying the           </span>│<span style=\"color: #7f7f7f; text-decoration-color: #7f7f7f\"> Public transportation   </span>│<span style=\"color: #7f7f7f; text-decoration-color: #7f7f7f\"> 3               </span>│\n",
       "│<span style=\"color: #7f7f7f; text-decoration-color: #7f7f7f\">                  </span>│<span style=\"color: #7f7f7f; text-decoration-color: #7f7f7f\"> representation and adaptation of traditional     </span>│<span style=\"color: #7f7f7f; text-decoration-color: #7f7f7f\">                         </span>│<span style=\"color: #7f7f7f; text-decoration-color: #7f7f7f\">                 </span>│\n",
       "│<span style=\"color: #7f7f7f; text-decoration-color: #7f7f7f\">                  </span>│<span style=\"color: #7f7f7f; text-decoration-color: #7f7f7f\"> folklore in contemporary media, particularly in  </span>│<span style=\"color: #7f7f7f; text-decoration-color: #7f7f7f\">                         </span>│<span style=\"color: #7f7f7f; text-decoration-color: #7f7f7f\">                 </span>│\n",
       "│<span style=\"color: #7f7f7f; text-decoration-color: #7f7f7f\">                  </span>│<span style=\"color: #7f7f7f; text-decoration-color: #7f7f7f\"> television and film.                             </span>│<span style=\"color: #7f7f7f; text-decoration-color: #7f7f7f\">                         </span>│<span style=\"color: #7f7f7f; text-decoration-color: #7f7f7f\">                 </span>│\n",
       "├──────────────────┼──────────────────────────────────────────────────┼─────────────────────────┼─────────────────┤\n",
       "│<span style=\"color: #7f7f7f; text-decoration-color: #7f7f7f\"> gemini-1.5-flash </span>│<span style=\"color: #7f7f7f; text-decoration-color: #7f7f7f\"> A high school physical education teacher seeking </span>│<span style=\"color: #7f7f7f; text-decoration-color: #7f7f7f\"> Bike                    </span>│<span style=\"color: #7f7f7f; text-decoration-color: #7f7f7f\"> 1               </span>│\n",
       "│<span style=\"color: #7f7f7f; text-decoration-color: #7f7f7f\">                  </span>│<span style=\"color: #7f7f7f; text-decoration-color: #7f7f7f\"> to incorporate Paralympic history and            </span>│<span style=\"color: #7f7f7f; text-decoration-color: #7f7f7f\">                         </span>│<span style=\"color: #7f7f7f; text-decoration-color: #7f7f7f\">                 </span>│\n",
       "│<span style=\"color: #7f7f7f; text-decoration-color: #7f7f7f\">                  </span>│<span style=\"color: #7f7f7f; text-decoration-color: #7f7f7f\"> achievements into the curriculum to inspire and  </span>│<span style=\"color: #7f7f7f; text-decoration-color: #7f7f7f\">                         </span>│<span style=\"color: #7f7f7f; text-decoration-color: #7f7f7f\">                 </span>│\n",
       "│<span style=\"color: #7f7f7f; text-decoration-color: #7f7f7f\">                  </span>│<span style=\"color: #7f7f7f; text-decoration-color: #7f7f7f\"> educate students about inclusivity in sports.    </span>│<span style=\"color: #7f7f7f; text-decoration-color: #7f7f7f\">                         </span>│<span style=\"color: #7f7f7f; text-decoration-color: #7f7f7f\">                 </span>│\n",
       "├──────────────────┼──────────────────────────────────────────────────┼─────────────────────────┼─────────────────┤\n",
       "│<span style=\"color: #7f7f7f; text-decoration-color: #7f7f7f\"> gemini-1.5-flash </span>│<span style=\"color: #7f7f7f; text-decoration-color: #7f7f7f\"> A high school physics teacher who enjoys         </span>│<span style=\"color: #7f7f7f; text-decoration-color: #7f7f7f\"> Bike                    </span>│<span style=\"color: #7f7f7f; text-decoration-color: #7f7f7f\"> 3               </span>│\n",
       "│<span style=\"color: #7f7f7f; text-decoration-color: #7f7f7f\">                  </span>│<span style=\"color: #7f7f7f; text-decoration-color: #7f7f7f\"> applying physics concepts to various sports,     </span>│<span style=\"color: #7f7f7f; text-decoration-color: #7f7f7f\">                         </span>│<span style=\"color: #7f7f7f; text-decoration-color: #7f7f7f\">                 </span>│\n",
       "│<span style=\"color: #7f7f7f; text-decoration-color: #7f7f7f\">                  </span>│<span style=\"color: #7f7f7f; text-decoration-color: #7f7f7f\"> curious about the effects of water resistance    </span>│<span style=\"color: #7f7f7f; text-decoration-color: #7f7f7f\">                         </span>│<span style=\"color: #7f7f7f; text-decoration-color: #7f7f7f\">                 </span>│\n",
       "│<span style=\"color: #7f7f7f; text-decoration-color: #7f7f7f\">                  </span>│<span style=\"color: #7f7f7f; text-decoration-color: #7f7f7f\"> and body positioning in Paralympic swimming.     </span>│<span style=\"color: #7f7f7f; text-decoration-color: #7f7f7f\">                         </span>│<span style=\"color: #7f7f7f; text-decoration-color: #7f7f7f\">                 </span>│\n",
       "├──────────────────┼──────────────────────────────────────────────────┼─────────────────────────┼─────────────────┤\n",
       "│<span style=\"color: #7f7f7f; text-decoration-color: #7f7f7f\"> gemini-1.5-flash </span>│<span style=\"color: #7f7f7f; text-decoration-color: #7f7f7f\"> A high school literature teacher looking for     </span>│<span style=\"color: #7f7f7f; text-decoration-color: #7f7f7f\"> Car                     </span>│<span style=\"color: #7f7f7f; text-decoration-color: #7f7f7f\"> 3               </span>│\n",
       "│<span style=\"color: #7f7f7f; text-decoration-color: #7f7f7f\">                  </span>│<span style=\"color: #7f7f7f; text-decoration-color: #7f7f7f\"> supplementary materials to enrich their          </span>│<span style=\"color: #7f7f7f; text-decoration-color: #7f7f7f\">                         </span>│<span style=\"color: #7f7f7f; text-decoration-color: #7f7f7f\">                 </span>│\n",
       "│<span style=\"color: #7f7f7f; text-decoration-color: #7f7f7f\">                  </span>│<span style=\"color: #7f7f7f; text-decoration-color: #7f7f7f\"> curriculum and provide students with a deeper    </span>│<span style=\"color: #7f7f7f; text-decoration-color: #7f7f7f\">                         </span>│<span style=\"color: #7f7f7f; text-decoration-color: #7f7f7f\">                 </span>│\n",
       "│<span style=\"color: #7f7f7f; text-decoration-color: #7f7f7f\">                  </span>│<span style=\"color: #7f7f7f; text-decoration-color: #7f7f7f\"> understanding of their state's cultural          </span>│<span style=\"color: #7f7f7f; text-decoration-color: #7f7f7f\">                         </span>│<span style=\"color: #7f7f7f; text-decoration-color: #7f7f7f\">                 </span>│\n",
       "│<span style=\"color: #7f7f7f; text-decoration-color: #7f7f7f\">                  </span>│<span style=\"color: #7f7f7f; text-decoration-color: #7f7f7f\"> heritage.                                        </span>│<span style=\"color: #7f7f7f; text-decoration-color: #7f7f7f\">                         </span>│<span style=\"color: #7f7f7f; text-decoration-color: #7f7f7f\">                 </span>│\n",
       "├──────────────────┼──────────────────────────────────────────────────┼─────────────────────────┼─────────────────┤\n",
       "│<span style=\"color: #7f7f7f; text-decoration-color: #7f7f7f\"> gemini-1.5-flash </span>│<span style=\"color: #7f7f7f; text-decoration-color: #7f7f7f\"> A science fiction writer, exploring the use of   </span>│<span style=\"color: #7f7f7f; text-decoration-color: #7f7f7f\"> Other                   </span>│<span style=\"color: #7f7f7f; text-decoration-color: #7f7f7f\"> 3               </span>│\n",
       "│<span style=\"color: #7f7f7f; text-decoration-color: #7f7f7f\">                  </span>│<span style=\"color: #7f7f7f; text-decoration-color: #7f7f7f\"> secret trials as a theme in stories that examine </span>│<span style=\"color: #7f7f7f; text-decoration-color: #7f7f7f\">                         </span>│<span style=\"color: #7f7f7f; text-decoration-color: #7f7f7f\">                 </span>│\n",
       "│<span style=\"color: #7f7f7f; text-decoration-color: #7f7f7f\">                  </span>│<span style=\"color: #7f7f7f; text-decoration-color: #7f7f7f\"> surveillance, privacy, and power dynamics in     </span>│<span style=\"color: #7f7f7f; text-decoration-color: #7f7f7f\">                         </span>│<span style=\"color: #7f7f7f; text-decoration-color: #7f7f7f\">                 </span>│\n",
       "│<span style=\"color: #7f7f7f; text-decoration-color: #7f7f7f\">                  </span>│<span style=\"color: #7f7f7f; text-decoration-color: #7f7f7f\"> society.                                         </span>│<span style=\"color: #7f7f7f; text-decoration-color: #7f7f7f\">                         </span>│<span style=\"color: #7f7f7f; text-decoration-color: #7f7f7f\">                 </span>│\n",
       "├──────────────────┼──────────────────────────────────────────────────┼─────────────────────────┼─────────────────┤\n",
       "│<span style=\"color: #7f7f7f; text-decoration-color: #7f7f7f\"> gemini-1.5-flash </span>│<span style=\"color: #7f7f7f; text-decoration-color: #7f7f7f\"> A theater manager or events coordinator          </span>│<span style=\"color: #7f7f7f; text-decoration-color: #7f7f7f\"> Car                     </span>│<span style=\"color: #7f7f7f; text-decoration-color: #7f7f7f\"> 1               </span>│\n",
       "│<span style=\"color: #7f7f7f; text-decoration-color: #7f7f7f\">                  </span>│<span style=\"color: #7f7f7f; text-decoration-color: #7f7f7f\"> interested in understanding the operational      </span>│<span style=\"color: #7f7f7f; text-decoration-color: #7f7f7f\">                         </span>│<span style=\"color: #7f7f7f; text-decoration-color: #7f7f7f\">                 </span>│\n",
       "│<span style=\"color: #7f7f7f; text-decoration-color: #7f7f7f\">                  </span>│<span style=\"color: #7f7f7f; text-decoration-color: #7f7f7f\"> aspects, facilities, and programming of          </span>│<span style=\"color: #7f7f7f; text-decoration-color: #7f7f7f\">                         </span>│<span style=\"color: #7f7f7f; text-decoration-color: #7f7f7f\">                 </span>│\n",
       "│<span style=\"color: #7f7f7f; text-decoration-color: #7f7f7f\">                  </span>│<span style=\"color: #7f7f7f; text-decoration-color: #7f7f7f\"> performing arts centers, such as the Broward     </span>│<span style=\"color: #7f7f7f; text-decoration-color: #7f7f7f\">                         </span>│<span style=\"color: #7f7f7f; text-decoration-color: #7f7f7f\">                 </span>│\n",
       "│<span style=\"color: #7f7f7f; text-decoration-color: #7f7f7f\">                  </span>│<span style=\"color: #7f7f7f; text-decoration-color: #7f7f7f\"> Center.                                          </span>│<span style=\"color: #7f7f7f; text-decoration-color: #7f7f7f\">                         </span>│<span style=\"color: #7f7f7f; text-decoration-color: #7f7f7f\">                 </span>│\n",
       "├──────────────────┼──────────────────────────────────────────────────┼─────────────────────────┼─────────────────┤\n",
       "│<span style=\"color: #7f7f7f; text-decoration-color: #7f7f7f\"> gemini-1.5-flash </span>│<span style=\"color: #7f7f7f; text-decoration-color: #7f7f7f\"> An urban planner looking to understand the       </span>│<span style=\"color: #7f7f7f; text-decoration-color: #7f7f7f\"> Public transportation   </span>│<span style=\"color: #7f7f7f; text-decoration-color: #7f7f7f\"> 3               </span>│\n",
       "│<span style=\"color: #7f7f7f; text-decoration-color: #7f7f7f\">                  </span>│<span style=\"color: #7f7f7f; text-decoration-color: #7f7f7f\"> distribution and organization of public services </span>│<span style=\"color: #7f7f7f; text-decoration-color: #7f7f7f\">                         </span>│<span style=\"color: #7f7f7f; text-decoration-color: #7f7f7f\">                 </span>│\n",
       "│<span style=\"color: #7f7f7f; text-decoration-color: #7f7f7f\">                  </span>│<span style=\"color: #7f7f7f; text-decoration-color: #7f7f7f\"> in the Halifax Regional Municipality.            </span>│<span style=\"color: #7f7f7f; text-decoration-color: #7f7f7f\">                         </span>│<span style=\"color: #7f7f7f; text-decoration-color: #7f7f7f\">                 </span>│\n",
       "├──────────────────┼──────────────────────────────────────────────────┼─────────────────────────┼─────────────────┤\n",
       "│<span style=\"color: #7f7f7f; text-decoration-color: #7f7f7f\"> gemini-1.5-flash </span>│<span style=\"color: #7f7f7f; text-decoration-color: #7f7f7f\"> A high school earth science teacher looking for  </span>│<span style=\"color: #7f7f7f; text-decoration-color: #7f7f7f\"> Car                     </span>│<span style=\"color: #7f7f7f; text-decoration-color: #7f7f7f\"> 1               </span>│\n",
       "│<span style=\"color: #7f7f7f; text-decoration-color: #7f7f7f\">                  </span>│<span style=\"color: #7f7f7f; text-decoration-color: #7f7f7f\"> real-world examples to explain climate zones,    </span>│<span style=\"color: #7f7f7f; text-decoration-color: #7f7f7f\">                         </span>│<span style=\"color: #7f7f7f; text-decoration-color: #7f7f7f\">                 </span>│\n",
       "│<span style=\"color: #7f7f7f; text-decoration-color: #7f7f7f\">                  </span>│<span style=\"color: #7f7f7f; text-decoration-color: #7f7f7f\"> soil types, and human-environment interactions.  </span>│<span style=\"color: #7f7f7f; text-decoration-color: #7f7f7f\">                         </span>│<span style=\"color: #7f7f7f; text-decoration-color: #7f7f7f\">                 </span>│\n",
       "└──────────────────┴──────────────────────────────────────────────────┴─────────────────────────┴─────────────────┘\n",
       "</pre>\n"
      ],
      "text/plain": [
       "┏━━━━━━━━━━━━━━━━━━┳━━━━━━━━━━━━━━━━━━━━━━━━━━━━━━━━━━━━━━━━━━━━━━━━━━┳━━━━━━━━━━━━━━━━━━━━━━━━━┳━━━━━━━━━━━━━━━━━┓\n",
       "┃\u001b[1;35m \u001b[0m\u001b[1;35mmodel           \u001b[0m\u001b[1;35m \u001b[0m┃\u001b[1;35m \u001b[0m\u001b[1;35magent                                           \u001b[0m\u001b[1;35m \u001b[0m┃\u001b[1;35m \u001b[0m\u001b[1;35manswer                 \u001b[0m\u001b[1;35m \u001b[0m┃\u001b[1;35m \u001b[0m\u001b[1;35manswer         \u001b[0m\u001b[1;35m \u001b[0m┃\n",
       "┃\u001b[1;35m \u001b[0m\u001b[1;35m.model          \u001b[0m\u001b[1;35m \u001b[0m┃\u001b[1;35m \u001b[0m\u001b[1;35m.persona                                        \u001b[0m\u001b[1;35m \u001b[0m┃\u001b[1;35m \u001b[0m\u001b[1;35m.preferred_mode_commute\u001b[0m\u001b[1;35m \u001b[0m┃\u001b[1;35m \u001b[0m\u001b[1;35m.work_from_home\u001b[0m\u001b[1;35m \u001b[0m┃\n",
       "┡━━━━━━━━━━━━━━━━━━╇━━━━━━━━━━━━━━━━━━━━━━━━━━━━━━━━━━━━━━━━━━━━━━━━━━╇━━━━━━━━━━━━━━━━━━━━━━━━━╇━━━━━━━━━━━━━━━━━┩\n",
       "│\u001b[2m \u001b[0m\u001b[2mgpt-4o          \u001b[0m\u001b[2m \u001b[0m│\u001b[2m \u001b[0m\u001b[2mA theater manager or events coordinator         \u001b[0m\u001b[2m \u001b[0m│\u001b[2m \u001b[0m\u001b[2mCar                    \u001b[0m\u001b[2m \u001b[0m│\u001b[2m \u001b[0m\u001b[2m2              \u001b[0m\u001b[2m \u001b[0m│\n",
       "│\u001b[2m                  \u001b[0m│\u001b[2m \u001b[0m\u001b[2minterested in understanding the operational     \u001b[0m\u001b[2m \u001b[0m│\u001b[2m                         \u001b[0m│\u001b[2m                 \u001b[0m│\n",
       "│\u001b[2m                  \u001b[0m│\u001b[2m \u001b[0m\u001b[2maspects, facilities, and programming of         \u001b[0m\u001b[2m \u001b[0m│\u001b[2m                         \u001b[0m│\u001b[2m                 \u001b[0m│\n",
       "│\u001b[2m                  \u001b[0m│\u001b[2m \u001b[0m\u001b[2mperforming arts centers, such as the Broward    \u001b[0m\u001b[2m \u001b[0m│\u001b[2m                         \u001b[0m│\u001b[2m                 \u001b[0m│\n",
       "│\u001b[2m                  \u001b[0m│\u001b[2m \u001b[0m\u001b[2mCenter.                                         \u001b[0m\u001b[2m \u001b[0m│\u001b[2m                         \u001b[0m│\u001b[2m                 \u001b[0m│\n",
       "├──────────────────┼──────────────────────────────────────────────────┼─────────────────────────┼─────────────────┤\n",
       "│\u001b[2m \u001b[0m\u001b[2mgpt-4o          \u001b[0m\u001b[2m \u001b[0m│\u001b[2m \u001b[0m\u001b[2mAn urban planner looking to understand the      \u001b[0m\u001b[2m \u001b[0m│\u001b[2m \u001b[0m\u001b[2mPublic transportation  \u001b[0m\u001b[2m \u001b[0m│\u001b[2m \u001b[0m\u001b[2m5              \u001b[0m\u001b[2m \u001b[0m│\n",
       "│\u001b[2m                  \u001b[0m│\u001b[2m \u001b[0m\u001b[2mdistribution and organization of public services\u001b[0m\u001b[2m \u001b[0m│\u001b[2m                         \u001b[0m│\u001b[2m                 \u001b[0m│\n",
       "│\u001b[2m                  \u001b[0m│\u001b[2m \u001b[0m\u001b[2min the Halifax Regional Municipality.           \u001b[0m\u001b[2m \u001b[0m│\u001b[2m                         \u001b[0m│\u001b[2m                 \u001b[0m│\n",
       "├──────────────────┼──────────────────────────────────────────────────┼─────────────────────────┼─────────────────┤\n",
       "│\u001b[2m \u001b[0m\u001b[2mgpt-4o          \u001b[0m\u001b[2m \u001b[0m│\u001b[2m \u001b[0m\u001b[2mA high school literature teacher looking for    \u001b[0m\u001b[2m \u001b[0m│\u001b[2m \u001b[0m\u001b[2mCar                    \u001b[0m\u001b[2m \u001b[0m│\u001b[2m \u001b[0m\u001b[2m3              \u001b[0m\u001b[2m \u001b[0m│\n",
       "│\u001b[2m                  \u001b[0m│\u001b[2m \u001b[0m\u001b[2msupplementary materials to enrich their         \u001b[0m\u001b[2m \u001b[0m│\u001b[2m                         \u001b[0m│\u001b[2m                 \u001b[0m│\n",
       "│\u001b[2m                  \u001b[0m│\u001b[2m \u001b[0m\u001b[2mcurriculum and provide students with a deeper   \u001b[0m\u001b[2m \u001b[0m│\u001b[2m                         \u001b[0m│\u001b[2m                 \u001b[0m│\n",
       "│\u001b[2m                  \u001b[0m│\u001b[2m \u001b[0m\u001b[2munderstanding of their state's cultural         \u001b[0m\u001b[2m \u001b[0m│\u001b[2m                         \u001b[0m│\u001b[2m                 \u001b[0m│\n",
       "│\u001b[2m                  \u001b[0m│\u001b[2m \u001b[0m\u001b[2mheritage.                                       \u001b[0m\u001b[2m \u001b[0m│\u001b[2m                         \u001b[0m│\u001b[2m                 \u001b[0m│\n",
       "├──────────────────┼──────────────────────────────────────────────────┼─────────────────────────┼─────────────────┤\n",
       "│\u001b[2m \u001b[0m\u001b[2mgpt-4o          \u001b[0m\u001b[2m \u001b[0m│\u001b[2m \u001b[0m\u001b[2mA science fiction writer, exploring the use of  \u001b[0m\u001b[2m \u001b[0m│\u001b[2m \u001b[0m\u001b[2mWork from home         \u001b[0m\u001b[2m \u001b[0m│\u001b[2m \u001b[0m\u001b[2m5              \u001b[0m\u001b[2m \u001b[0m│\n",
       "│\u001b[2m                  \u001b[0m│\u001b[2m \u001b[0m\u001b[2msecret trials as a theme in stories that examine\u001b[0m\u001b[2m \u001b[0m│\u001b[2m                         \u001b[0m│\u001b[2m                 \u001b[0m│\n",
       "│\u001b[2m                  \u001b[0m│\u001b[2m \u001b[0m\u001b[2msurveillance, privacy, and power dynamics in    \u001b[0m\u001b[2m \u001b[0m│\u001b[2m                         \u001b[0m│\u001b[2m                 \u001b[0m│\n",
       "│\u001b[2m                  \u001b[0m│\u001b[2m \u001b[0m\u001b[2msociety.                                        \u001b[0m\u001b[2m \u001b[0m│\u001b[2m                         \u001b[0m│\u001b[2m                 \u001b[0m│\n",
       "├──────────────────┼──────────────────────────────────────────────────┼─────────────────────────┼─────────────────┤\n",
       "│\u001b[2m \u001b[0m\u001b[2mgpt-4o          \u001b[0m\u001b[2m \u001b[0m│\u001b[2m \u001b[0m\u001b[2mA financial analyst specializing in Asian       \u001b[0m\u001b[2m \u001b[0m│\u001b[2m \u001b[0m\u001b[2mWork from home         \u001b[0m\u001b[2m \u001b[0m│\u001b[2m \u001b[0m\u001b[2m5              \u001b[0m\u001b[2m \u001b[0m│\n",
       "│\u001b[2m                  \u001b[0m│\u001b[2m \u001b[0m\u001b[2mmarkets and wealthy individuals, interested in  \u001b[0m\u001b[2m \u001b[0m│\u001b[2m                         \u001b[0m│\u001b[2m                 \u001b[0m│\n",
       "│\u001b[2m                  \u001b[0m│\u001b[2m \u001b[0m\u001b[2mtracking the investments and philanthropic      \u001b[0m\u001b[2m \u001b[0m│\u001b[2m                         \u001b[0m│\u001b[2m                 \u001b[0m│\n",
       "│\u001b[2m                  \u001b[0m│\u001b[2m \u001b[0m\u001b[2mactivities of billionaires like Gerald Chan.    \u001b[0m\u001b[2m \u001b[0m│\u001b[2m                         \u001b[0m│\u001b[2m                 \u001b[0m│\n",
       "├──────────────────┼──────────────────────────────────────────────────┼─────────────────────────┼─────────────────┤\n",
       "│\u001b[2m \u001b[0m\u001b[2mgpt-4o          \u001b[0m\u001b[2m \u001b[0m│\u001b[2m \u001b[0m\u001b[2mA high school physics teacher who enjoys        \u001b[0m\u001b[2m \u001b[0m│\u001b[2m \u001b[0m\u001b[2mBike                   \u001b[0m\u001b[2m \u001b[0m│\u001b[2m \u001b[0m\u001b[2m3              \u001b[0m\u001b[2m \u001b[0m│\n",
       "│\u001b[2m                  \u001b[0m│\u001b[2m \u001b[0m\u001b[2mapplying physics concepts to various sports,    \u001b[0m\u001b[2m \u001b[0m│\u001b[2m                         \u001b[0m│\u001b[2m                 \u001b[0m│\n",
       "│\u001b[2m                  \u001b[0m│\u001b[2m \u001b[0m\u001b[2mcurious about the effects of water resistance   \u001b[0m\u001b[2m \u001b[0m│\u001b[2m                         \u001b[0m│\u001b[2m                 \u001b[0m│\n",
       "│\u001b[2m                  \u001b[0m│\u001b[2m \u001b[0m\u001b[2mand body positioning in Paralympic swimming.    \u001b[0m\u001b[2m \u001b[0m│\u001b[2m                         \u001b[0m│\u001b[2m                 \u001b[0m│\n",
       "├──────────────────┼──────────────────────────────────────────────────┼─────────────────────────┼─────────────────┤\n",
       "│\u001b[2m \u001b[0m\u001b[2mgpt-4o          \u001b[0m\u001b[2m \u001b[0m│\u001b[2m \u001b[0m\u001b[2mA high school physical education teacher seeking\u001b[0m\u001b[2m \u001b[0m│\u001b[2m \u001b[0m\u001b[2mBike                   \u001b[0m\u001b[2m \u001b[0m│\u001b[2m \u001b[0m\u001b[2m1              \u001b[0m\u001b[2m \u001b[0m│\n",
       "│\u001b[2m                  \u001b[0m│\u001b[2m \u001b[0m\u001b[2mto incorporate Paralympic history and           \u001b[0m\u001b[2m \u001b[0m│\u001b[2m                         \u001b[0m│\u001b[2m                 \u001b[0m│\n",
       "│\u001b[2m                  \u001b[0m│\u001b[2m \u001b[0m\u001b[2machievements into the curriculum to inspire and \u001b[0m\u001b[2m \u001b[0m│\u001b[2m                         \u001b[0m│\u001b[2m                 \u001b[0m│\n",
       "│\u001b[2m                  \u001b[0m│\u001b[2m \u001b[0m\u001b[2meducate students about inclusivity in sports.   \u001b[0m\u001b[2m \u001b[0m│\u001b[2m                         \u001b[0m│\u001b[2m                 \u001b[0m│\n",
       "├──────────────────┼──────────────────────────────────────────────────┼─────────────────────────┼─────────────────┤\n",
       "│\u001b[2m \u001b[0m\u001b[2mgpt-4o          \u001b[0m\u001b[2m \u001b[0m│\u001b[2m \u001b[0m\u001b[2mA high school history teacher creating lesson   \u001b[0m\u001b[2m \u001b[0m│\u001b[2m \u001b[0m\u001b[2mCar                    \u001b[0m\u001b[2m \u001b[0m│\u001b[2m \u001b[0m\u001b[2m3              \u001b[0m\u001b[2m \u001b[0m│\n",
       "│\u001b[2m                  \u001b[0m│\u001b[2m \u001b[0m\u001b[2mplans on South American civilizations and their \u001b[0m\u001b[2m \u001b[0m│\u001b[2m                         \u001b[0m│\u001b[2m                 \u001b[0m│\n",
       "│\u001b[2m                  \u001b[0m│\u001b[2m \u001b[0m\u001b[2mregional diversity.                             \u001b[0m\u001b[2m \u001b[0m│\u001b[2m                         \u001b[0m│\u001b[2m                 \u001b[0m│\n",
       "├──────────────────┼──────────────────────────────────────────────────┼─────────────────────────┼─────────────────┤\n",
       "│\u001b[2m \u001b[0m\u001b[2mgpt-4o          \u001b[0m\u001b[2m \u001b[0m│\u001b[2m \u001b[0m\u001b[2mA cultural anthropologist studying the          \u001b[0m\u001b[2m \u001b[0m│\u001b[2m \u001b[0m\u001b[2mWork from home         \u001b[0m\u001b[2m \u001b[0m│\u001b[2m \u001b[0m\u001b[2m5              \u001b[0m\u001b[2m \u001b[0m│\n",
       "│\u001b[2m                  \u001b[0m│\u001b[2m \u001b[0m\u001b[2mrepresentation and adaptation of traditional    \u001b[0m\u001b[2m \u001b[0m│\u001b[2m                         \u001b[0m│\u001b[2m                 \u001b[0m│\n",
       "│\u001b[2m                  \u001b[0m│\u001b[2m \u001b[0m\u001b[2mfolklore in contemporary media, particularly in \u001b[0m\u001b[2m \u001b[0m│\u001b[2m                         \u001b[0m│\u001b[2m                 \u001b[0m│\n",
       "│\u001b[2m                  \u001b[0m│\u001b[2m \u001b[0m\u001b[2mtelevision and film.                            \u001b[0m\u001b[2m \u001b[0m│\u001b[2m                         \u001b[0m│\u001b[2m                 \u001b[0m│\n",
       "├──────────────────┼──────────────────────────────────────────────────┼─────────────────────────┼─────────────────┤\n",
       "│\u001b[2m \u001b[0m\u001b[2mgpt-4o          \u001b[0m\u001b[2m \u001b[0m│\u001b[2m \u001b[0m\u001b[2mA high school earth science teacher looking for \u001b[0m\u001b[2m \u001b[0m│\u001b[2m \u001b[0m\u001b[2mCar                    \u001b[0m\u001b[2m \u001b[0m│\u001b[2m \u001b[0m\u001b[2m3              \u001b[0m\u001b[2m \u001b[0m│\n",
       "│\u001b[2m                  \u001b[0m│\u001b[2m \u001b[0m\u001b[2mreal-world examples to explain climate zones,   \u001b[0m\u001b[2m \u001b[0m│\u001b[2m                         \u001b[0m│\u001b[2m                 \u001b[0m│\n",
       "│\u001b[2m                  \u001b[0m│\u001b[2m \u001b[0m\u001b[2msoil types, and human-environment interactions. \u001b[0m\u001b[2m \u001b[0m│\u001b[2m                         \u001b[0m│\u001b[2m                 \u001b[0m│\n",
       "├──────────────────┼──────────────────────────────────────────────────┼─────────────────────────┼─────────────────┤\n",
       "│\u001b[2m \u001b[0m\u001b[2mgemini-1.5-flash\u001b[0m\u001b[2m \u001b[0m│\u001b[2m \u001b[0m\u001b[2mA financial analyst specializing in Asian       \u001b[0m\u001b[2m \u001b[0m│\u001b[2m \u001b[0m\u001b[2mCar                    \u001b[0m\u001b[2m \u001b[0m│\u001b[2m \u001b[0m\u001b[2m4              \u001b[0m\u001b[2m \u001b[0m│\n",
       "│\u001b[2m                  \u001b[0m│\u001b[2m \u001b[0m\u001b[2mmarkets and wealthy individuals, interested in  \u001b[0m\u001b[2m \u001b[0m│\u001b[2m                         \u001b[0m│\u001b[2m                 \u001b[0m│\n",
       "│\u001b[2m                  \u001b[0m│\u001b[2m \u001b[0m\u001b[2mtracking the investments and philanthropic      \u001b[0m\u001b[2m \u001b[0m│\u001b[2m                         \u001b[0m│\u001b[2m                 \u001b[0m│\n",
       "│\u001b[2m                  \u001b[0m│\u001b[2m \u001b[0m\u001b[2mactivities of billionaires like Gerald Chan.    \u001b[0m\u001b[2m \u001b[0m│\u001b[2m                         \u001b[0m│\u001b[2m                 \u001b[0m│\n",
       "├──────────────────┼──────────────────────────────────────────────────┼─────────────────────────┼─────────────────┤\n",
       "│\u001b[2m \u001b[0m\u001b[2mgemini-1.5-flash\u001b[0m\u001b[2m \u001b[0m│\u001b[2m \u001b[0m\u001b[2mA high school history teacher creating lesson   \u001b[0m\u001b[2m \u001b[0m│\u001b[2m \u001b[0m\u001b[2mCar                    \u001b[0m\u001b[2m \u001b[0m│\u001b[2m \u001b[0m\u001b[2m3              \u001b[0m\u001b[2m \u001b[0m│\n",
       "│\u001b[2m                  \u001b[0m│\u001b[2m \u001b[0m\u001b[2mplans on South American civilizations and their \u001b[0m\u001b[2m \u001b[0m│\u001b[2m                         \u001b[0m│\u001b[2m                 \u001b[0m│\n",
       "│\u001b[2m                  \u001b[0m│\u001b[2m \u001b[0m\u001b[2mregional diversity.                             \u001b[0m\u001b[2m \u001b[0m│\u001b[2m                         \u001b[0m│\u001b[2m                 \u001b[0m│\n",
       "├──────────────────┼──────────────────────────────────────────────────┼─────────────────────────┼─────────────────┤\n",
       "│\u001b[2m \u001b[0m\u001b[2mgemini-1.5-flash\u001b[0m\u001b[2m \u001b[0m│\u001b[2m \u001b[0m\u001b[2mA cultural anthropologist studying the          \u001b[0m\u001b[2m \u001b[0m│\u001b[2m \u001b[0m\u001b[2mPublic transportation  \u001b[0m\u001b[2m \u001b[0m│\u001b[2m \u001b[0m\u001b[2m3              \u001b[0m\u001b[2m \u001b[0m│\n",
       "│\u001b[2m                  \u001b[0m│\u001b[2m \u001b[0m\u001b[2mrepresentation and adaptation of traditional    \u001b[0m\u001b[2m \u001b[0m│\u001b[2m                         \u001b[0m│\u001b[2m                 \u001b[0m│\n",
       "│\u001b[2m                  \u001b[0m│\u001b[2m \u001b[0m\u001b[2mfolklore in contemporary media, particularly in \u001b[0m\u001b[2m \u001b[0m│\u001b[2m                         \u001b[0m│\u001b[2m                 \u001b[0m│\n",
       "│\u001b[2m                  \u001b[0m│\u001b[2m \u001b[0m\u001b[2mtelevision and film.                            \u001b[0m\u001b[2m \u001b[0m│\u001b[2m                         \u001b[0m│\u001b[2m                 \u001b[0m│\n",
       "├──────────────────┼──────────────────────────────────────────────────┼─────────────────────────┼─────────────────┤\n",
       "│\u001b[2m \u001b[0m\u001b[2mgemini-1.5-flash\u001b[0m\u001b[2m \u001b[0m│\u001b[2m \u001b[0m\u001b[2mA high school physical education teacher seeking\u001b[0m\u001b[2m \u001b[0m│\u001b[2m \u001b[0m\u001b[2mBike                   \u001b[0m\u001b[2m \u001b[0m│\u001b[2m \u001b[0m\u001b[2m1              \u001b[0m\u001b[2m \u001b[0m│\n",
       "│\u001b[2m                  \u001b[0m│\u001b[2m \u001b[0m\u001b[2mto incorporate Paralympic history and           \u001b[0m\u001b[2m \u001b[0m│\u001b[2m                         \u001b[0m│\u001b[2m                 \u001b[0m│\n",
       "│\u001b[2m                  \u001b[0m│\u001b[2m \u001b[0m\u001b[2machievements into the curriculum to inspire and \u001b[0m\u001b[2m \u001b[0m│\u001b[2m                         \u001b[0m│\u001b[2m                 \u001b[0m│\n",
       "│\u001b[2m                  \u001b[0m│\u001b[2m \u001b[0m\u001b[2meducate students about inclusivity in sports.   \u001b[0m\u001b[2m \u001b[0m│\u001b[2m                         \u001b[0m│\u001b[2m                 \u001b[0m│\n",
       "├──────────────────┼──────────────────────────────────────────────────┼─────────────────────────┼─────────────────┤\n",
       "│\u001b[2m \u001b[0m\u001b[2mgemini-1.5-flash\u001b[0m\u001b[2m \u001b[0m│\u001b[2m \u001b[0m\u001b[2mA high school physics teacher who enjoys        \u001b[0m\u001b[2m \u001b[0m│\u001b[2m \u001b[0m\u001b[2mBike                   \u001b[0m\u001b[2m \u001b[0m│\u001b[2m \u001b[0m\u001b[2m3              \u001b[0m\u001b[2m \u001b[0m│\n",
       "│\u001b[2m                  \u001b[0m│\u001b[2m \u001b[0m\u001b[2mapplying physics concepts to various sports,    \u001b[0m\u001b[2m \u001b[0m│\u001b[2m                         \u001b[0m│\u001b[2m                 \u001b[0m│\n",
       "│\u001b[2m                  \u001b[0m│\u001b[2m \u001b[0m\u001b[2mcurious about the effects of water resistance   \u001b[0m\u001b[2m \u001b[0m│\u001b[2m                         \u001b[0m│\u001b[2m                 \u001b[0m│\n",
       "│\u001b[2m                  \u001b[0m│\u001b[2m \u001b[0m\u001b[2mand body positioning in Paralympic swimming.    \u001b[0m\u001b[2m \u001b[0m│\u001b[2m                         \u001b[0m│\u001b[2m                 \u001b[0m│\n",
       "├──────────────────┼──────────────────────────────────────────────────┼─────────────────────────┼─────────────────┤\n",
       "│\u001b[2m \u001b[0m\u001b[2mgemini-1.5-flash\u001b[0m\u001b[2m \u001b[0m│\u001b[2m \u001b[0m\u001b[2mA high school literature teacher looking for    \u001b[0m\u001b[2m \u001b[0m│\u001b[2m \u001b[0m\u001b[2mCar                    \u001b[0m\u001b[2m \u001b[0m│\u001b[2m \u001b[0m\u001b[2m3              \u001b[0m\u001b[2m \u001b[0m│\n",
       "│\u001b[2m                  \u001b[0m│\u001b[2m \u001b[0m\u001b[2msupplementary materials to enrich their         \u001b[0m\u001b[2m \u001b[0m│\u001b[2m                         \u001b[0m│\u001b[2m                 \u001b[0m│\n",
       "│\u001b[2m                  \u001b[0m│\u001b[2m \u001b[0m\u001b[2mcurriculum and provide students with a deeper   \u001b[0m\u001b[2m \u001b[0m│\u001b[2m                         \u001b[0m│\u001b[2m                 \u001b[0m│\n",
       "│\u001b[2m                  \u001b[0m│\u001b[2m \u001b[0m\u001b[2munderstanding of their state's cultural         \u001b[0m\u001b[2m \u001b[0m│\u001b[2m                         \u001b[0m│\u001b[2m                 \u001b[0m│\n",
       "│\u001b[2m                  \u001b[0m│\u001b[2m \u001b[0m\u001b[2mheritage.                                       \u001b[0m\u001b[2m \u001b[0m│\u001b[2m                         \u001b[0m│\u001b[2m                 \u001b[0m│\n",
       "├──────────────────┼──────────────────────────────────────────────────┼─────────────────────────┼─────────────────┤\n",
       "│\u001b[2m \u001b[0m\u001b[2mgemini-1.5-flash\u001b[0m\u001b[2m \u001b[0m│\u001b[2m \u001b[0m\u001b[2mA science fiction writer, exploring the use of  \u001b[0m\u001b[2m \u001b[0m│\u001b[2m \u001b[0m\u001b[2mOther                  \u001b[0m\u001b[2m \u001b[0m│\u001b[2m \u001b[0m\u001b[2m3              \u001b[0m\u001b[2m \u001b[0m│\n",
       "│\u001b[2m                  \u001b[0m│\u001b[2m \u001b[0m\u001b[2msecret trials as a theme in stories that examine\u001b[0m\u001b[2m \u001b[0m│\u001b[2m                         \u001b[0m│\u001b[2m                 \u001b[0m│\n",
       "│\u001b[2m                  \u001b[0m│\u001b[2m \u001b[0m\u001b[2msurveillance, privacy, and power dynamics in    \u001b[0m\u001b[2m \u001b[0m│\u001b[2m                         \u001b[0m│\u001b[2m                 \u001b[0m│\n",
       "│\u001b[2m                  \u001b[0m│\u001b[2m \u001b[0m\u001b[2msociety.                                        \u001b[0m\u001b[2m \u001b[0m│\u001b[2m                         \u001b[0m│\u001b[2m                 \u001b[0m│\n",
       "├──────────────────┼──────────────────────────────────────────────────┼─────────────────────────┼─────────────────┤\n",
       "│\u001b[2m \u001b[0m\u001b[2mgemini-1.5-flash\u001b[0m\u001b[2m \u001b[0m│\u001b[2m \u001b[0m\u001b[2mA theater manager or events coordinator         \u001b[0m\u001b[2m \u001b[0m│\u001b[2m \u001b[0m\u001b[2mCar                    \u001b[0m\u001b[2m \u001b[0m│\u001b[2m \u001b[0m\u001b[2m1              \u001b[0m\u001b[2m \u001b[0m│\n",
       "│\u001b[2m                  \u001b[0m│\u001b[2m \u001b[0m\u001b[2minterested in understanding the operational     \u001b[0m\u001b[2m \u001b[0m│\u001b[2m                         \u001b[0m│\u001b[2m                 \u001b[0m│\n",
       "│\u001b[2m                  \u001b[0m│\u001b[2m \u001b[0m\u001b[2maspects, facilities, and programming of         \u001b[0m\u001b[2m \u001b[0m│\u001b[2m                         \u001b[0m│\u001b[2m                 \u001b[0m│\n",
       "│\u001b[2m                  \u001b[0m│\u001b[2m \u001b[0m\u001b[2mperforming arts centers, such as the Broward    \u001b[0m\u001b[2m \u001b[0m│\u001b[2m                         \u001b[0m│\u001b[2m                 \u001b[0m│\n",
       "│\u001b[2m                  \u001b[0m│\u001b[2m \u001b[0m\u001b[2mCenter.                                         \u001b[0m\u001b[2m \u001b[0m│\u001b[2m                         \u001b[0m│\u001b[2m                 \u001b[0m│\n",
       "├──────────────────┼──────────────────────────────────────────────────┼─────────────────────────┼─────────────────┤\n",
       "│\u001b[2m \u001b[0m\u001b[2mgemini-1.5-flash\u001b[0m\u001b[2m \u001b[0m│\u001b[2m \u001b[0m\u001b[2mAn urban planner looking to understand the      \u001b[0m\u001b[2m \u001b[0m│\u001b[2m \u001b[0m\u001b[2mPublic transportation  \u001b[0m\u001b[2m \u001b[0m│\u001b[2m \u001b[0m\u001b[2m3              \u001b[0m\u001b[2m \u001b[0m│\n",
       "│\u001b[2m                  \u001b[0m│\u001b[2m \u001b[0m\u001b[2mdistribution and organization of public services\u001b[0m\u001b[2m \u001b[0m│\u001b[2m                         \u001b[0m│\u001b[2m                 \u001b[0m│\n",
       "│\u001b[2m                  \u001b[0m│\u001b[2m \u001b[0m\u001b[2min the Halifax Regional Municipality.           \u001b[0m\u001b[2m \u001b[0m│\u001b[2m                         \u001b[0m│\u001b[2m                 \u001b[0m│\n",
       "├──────────────────┼──────────────────────────────────────────────────┼─────────────────────────┼─────────────────┤\n",
       "│\u001b[2m \u001b[0m\u001b[2mgemini-1.5-flash\u001b[0m\u001b[2m \u001b[0m│\u001b[2m \u001b[0m\u001b[2mA high school earth science teacher looking for \u001b[0m\u001b[2m \u001b[0m│\u001b[2m \u001b[0m\u001b[2mCar                    \u001b[0m\u001b[2m \u001b[0m│\u001b[2m \u001b[0m\u001b[2m1              \u001b[0m\u001b[2m \u001b[0m│\n",
       "│\u001b[2m                  \u001b[0m│\u001b[2m \u001b[0m\u001b[2mreal-world examples to explain climate zones,   \u001b[0m\u001b[2m \u001b[0m│\u001b[2m                         \u001b[0m│\u001b[2m                 \u001b[0m│\n",
       "│\u001b[2m                  \u001b[0m│\u001b[2m \u001b[0m\u001b[2msoil types, and human-environment interactions. \u001b[0m\u001b[2m \u001b[0m│\u001b[2m                         \u001b[0m│\u001b[2m                 \u001b[0m│\n",
       "└──────────────────┴──────────────────────────────────────────────────┴─────────────────────────┴─────────────────┘\n"
      ]
     },
     "metadata": {},
     "output_type": "display_data"
    }
   ],
   "source": [
    "results.select(\"model\", \"persona\", \"preferred_mode_commute\", \"work_from_home\").print(format=\"rich\")"
   ]
  },
  {
   "cell_type": "markdown",
   "id": "e2fc6367-9370-450e-a6b7-b15f6907bfb2",
   "metadata": {},
   "source": [
    "### Constructing traits\n",
    "In comparing model responses it can be convenient to include shortnames for traits in addition to narrative personas--e.g., just the name of the agent's occupation, age, etc. Here we run a question to extract the occupation from each persona in order to store it as a separate `trait` of each agent. We use `Scenario` objects to represent the data (personas) that we add to the question when we run it. [Learn more about using scenarios](https://docs.expectedparrot.com/en/latest/scenarios.html) to parameterize questions with data and context."
   ]
  },
  {
   "cell_type": "code",
   "execution_count": 10,
   "id": "ae397e67-ed35-4f5d-9d58-20e89b1151f8",
   "metadata": {},
   "outputs": [],
   "source": [
    "from edsl import QuestionExtract\n",
    "\n",
    "q = QuestionExtract(\n",
    "    question_name = \"occupation\",\n",
    "    question_text = \"{{ persona }}\",\n",
    "    answer_template = {\"occupation\":\"artist\"} \n",
    ")"
   ]
  },
  {
   "cell_type": "markdown",
   "id": "9fbc2fbe-64c7-4dec-8a7d-5f7ded6c960b",
   "metadata": {},
   "source": [
    "Creating scenarios for the personas in order to add them to the question:"
   ]
  },
  {
   "cell_type": "code",
   "execution_count": 11,
   "id": "5728dcf0-49da-45a0-b892-05f48b63efb5",
   "metadata": {},
   "outputs": [],
   "source": [
    "from edsl import ScenarioList\n",
    "\n",
    "scenarios = ScenarioList.from_list(\"persona\", personas_list)"
   ]
  },
  {
   "cell_type": "code",
   "execution_count": 12,
   "id": "4cf7023f-6ab8-4c1e-b1af-1a311ac8c3dd",
   "metadata": {},
   "outputs": [],
   "source": [
    "results = q.by(scenarios).run()"
   ]
  },
  {
   "cell_type": "code",
   "execution_count": 13,
   "id": "a32a97e9-7061-436d-8a49-5479b758a9e0",
   "metadata": {},
   "outputs": [
    {
     "data": {
      "text/html": [
       "<pre style=\"white-space:pre;overflow-x:auto;line-height:normal;font-family:Menlo,'DejaVu Sans Mono',consolas,'Courier New',monospace\">┏━━━━━━━━━━━━━━━━━━━━━━━━━━━━━━━━━━━━━━━━━━━━━━━━━━━━━━━━┳━━━━━━━━━━━━━━━━━━━━━━━━━━━━━━━━━━━━━━━━━━━━━━━━━━━━━━━━┓\n",
       "┃<span style=\"color: #800080; text-decoration-color: #800080; font-weight: bold\"> scenario                                               </span>┃<span style=\"color: #800080; text-decoration-color: #800080; font-weight: bold\"> answer                                                 </span>┃\n",
       "┃<span style=\"color: #800080; text-decoration-color: #800080; font-weight: bold\"> .persona                                               </span>┃<span style=\"color: #800080; text-decoration-color: #800080; font-weight: bold\"> .occupation                                            </span>┃\n",
       "┡━━━━━━━━━━━━━━━━━━━━━━━━━━━━━━━━━━━━━━━━━━━━━━━━━━━━━━━━╇━━━━━━━━━━━━━━━━━━━━━━━━━━━━━━━━━━━━━━━━━━━━━━━━━━━━━━━━┩\n",
       "│<span style=\"color: #7f7f7f; text-decoration-color: #7f7f7f\"> A theater manager or events coordinator interested in  </span>│<span style=\"color: #7f7f7f; text-decoration-color: #7f7f7f\"> {'occupation': 'theater manager or events              </span>│\n",
       "│<span style=\"color: #7f7f7f; text-decoration-color: #7f7f7f\"> understanding the operational aspects, facilities, and </span>│<span style=\"color: #7f7f7f; text-decoration-color: #7f7f7f\"> coordinator'}                                          </span>│\n",
       "│<span style=\"color: #7f7f7f; text-decoration-color: #7f7f7f\"> programming of performing arts centers, such as the    </span>│<span style=\"color: #7f7f7f; text-decoration-color: #7f7f7f\">                                                        </span>│\n",
       "│<span style=\"color: #7f7f7f; text-decoration-color: #7f7f7f\"> Broward Center.                                        </span>│<span style=\"color: #7f7f7f; text-decoration-color: #7f7f7f\">                                                        </span>│\n",
       "├────────────────────────────────────────────────────────┼────────────────────────────────────────────────────────┤\n",
       "│<span style=\"color: #7f7f7f; text-decoration-color: #7f7f7f\"> An urban planner looking to understand the             </span>│<span style=\"color: #7f7f7f; text-decoration-color: #7f7f7f\"> {'occupation': 'urban planner'}                        </span>│\n",
       "│<span style=\"color: #7f7f7f; text-decoration-color: #7f7f7f\"> distribution and organization of public services in    </span>│<span style=\"color: #7f7f7f; text-decoration-color: #7f7f7f\">                                                        </span>│\n",
       "│<span style=\"color: #7f7f7f; text-decoration-color: #7f7f7f\"> the Halifax Regional Municipality.                     </span>│<span style=\"color: #7f7f7f; text-decoration-color: #7f7f7f\">                                                        </span>│\n",
       "├────────────────────────────────────────────────────────┼────────────────────────────────────────────────────────┤\n",
       "│<span style=\"color: #7f7f7f; text-decoration-color: #7f7f7f\"> A high school literature teacher looking for           </span>│<span style=\"color: #7f7f7f; text-decoration-color: #7f7f7f\"> {'occupation': 'high school literature teacher'}       </span>│\n",
       "│<span style=\"color: #7f7f7f; text-decoration-color: #7f7f7f\"> supplementary materials to enrich their curriculum and </span>│<span style=\"color: #7f7f7f; text-decoration-color: #7f7f7f\">                                                        </span>│\n",
       "│<span style=\"color: #7f7f7f; text-decoration-color: #7f7f7f\"> provide students with a deeper understanding of their  </span>│<span style=\"color: #7f7f7f; text-decoration-color: #7f7f7f\">                                                        </span>│\n",
       "│<span style=\"color: #7f7f7f; text-decoration-color: #7f7f7f\"> state's cultural heritage.                             </span>│<span style=\"color: #7f7f7f; text-decoration-color: #7f7f7f\">                                                        </span>│\n",
       "├────────────────────────────────────────────────────────┼────────────────────────────────────────────────────────┤\n",
       "│<span style=\"color: #7f7f7f; text-decoration-color: #7f7f7f\"> A science fiction writer, exploring the use of secret  </span>│<span style=\"color: #7f7f7f; text-decoration-color: #7f7f7f\"> {'occupation': 'science fiction writer'}               </span>│\n",
       "│<span style=\"color: #7f7f7f; text-decoration-color: #7f7f7f\"> trials as a theme in stories that examine              </span>│<span style=\"color: #7f7f7f; text-decoration-color: #7f7f7f\">                                                        </span>│\n",
       "│<span style=\"color: #7f7f7f; text-decoration-color: #7f7f7f\"> surveillance, privacy, and power dynamics in society.  </span>│<span style=\"color: #7f7f7f; text-decoration-color: #7f7f7f\">                                                        </span>│\n",
       "├────────────────────────────────────────────────────────┼────────────────────────────────────────────────────────┤\n",
       "│<span style=\"color: #7f7f7f; text-decoration-color: #7f7f7f\"> A financial analyst specializing in Asian markets and  </span>│<span style=\"color: #7f7f7f; text-decoration-color: #7f7f7f\"> {'occupation': 'financial analyst'}                    </span>│\n",
       "│<span style=\"color: #7f7f7f; text-decoration-color: #7f7f7f\"> wealthy individuals, interested in tracking the        </span>│<span style=\"color: #7f7f7f; text-decoration-color: #7f7f7f\">                                                        </span>│\n",
       "│<span style=\"color: #7f7f7f; text-decoration-color: #7f7f7f\"> investments and philanthropic activities of            </span>│<span style=\"color: #7f7f7f; text-decoration-color: #7f7f7f\">                                                        </span>│\n",
       "│<span style=\"color: #7f7f7f; text-decoration-color: #7f7f7f\"> billionaires like Gerald Chan.                         </span>│<span style=\"color: #7f7f7f; text-decoration-color: #7f7f7f\">                                                        </span>│\n",
       "├────────────────────────────────────────────────────────┼────────────────────────────────────────────────────────┤\n",
       "│<span style=\"color: #7f7f7f; text-decoration-color: #7f7f7f\"> A high school physics teacher who enjoys applying      </span>│<span style=\"color: #7f7f7f; text-decoration-color: #7f7f7f\"> {'occupation': 'high school physics teacher'}          </span>│\n",
       "│<span style=\"color: #7f7f7f; text-decoration-color: #7f7f7f\"> physics concepts to various sports, curious about the  </span>│<span style=\"color: #7f7f7f; text-decoration-color: #7f7f7f\">                                                        </span>│\n",
       "│<span style=\"color: #7f7f7f; text-decoration-color: #7f7f7f\"> effects of water resistance and body positioning in    </span>│<span style=\"color: #7f7f7f; text-decoration-color: #7f7f7f\">                                                        </span>│\n",
       "│<span style=\"color: #7f7f7f; text-decoration-color: #7f7f7f\"> Paralympic swimming.                                   </span>│<span style=\"color: #7f7f7f; text-decoration-color: #7f7f7f\">                                                        </span>│\n",
       "├────────────────────────────────────────────────────────┼────────────────────────────────────────────────────────┤\n",
       "│<span style=\"color: #7f7f7f; text-decoration-color: #7f7f7f\"> A high school physical education teacher seeking to    </span>│<span style=\"color: #7f7f7f; text-decoration-color: #7f7f7f\"> {'occupation': 'physical education teacher'}           </span>│\n",
       "│<span style=\"color: #7f7f7f; text-decoration-color: #7f7f7f\"> incorporate Paralympic history and achievements into   </span>│<span style=\"color: #7f7f7f; text-decoration-color: #7f7f7f\">                                                        </span>│\n",
       "│<span style=\"color: #7f7f7f; text-decoration-color: #7f7f7f\"> the curriculum to inspire and educate students about   </span>│<span style=\"color: #7f7f7f; text-decoration-color: #7f7f7f\">                                                        </span>│\n",
       "│<span style=\"color: #7f7f7f; text-decoration-color: #7f7f7f\"> inclusivity in sports.                                 </span>│<span style=\"color: #7f7f7f; text-decoration-color: #7f7f7f\">                                                        </span>│\n",
       "├────────────────────────────────────────────────────────┼────────────────────────────────────────────────────────┤\n",
       "│<span style=\"color: #7f7f7f; text-decoration-color: #7f7f7f\"> A high school history teacher creating lesson plans on </span>│<span style=\"color: #7f7f7f; text-decoration-color: #7f7f7f\"> {'occupation': 'high school history teacher'}          </span>│\n",
       "│<span style=\"color: #7f7f7f; text-decoration-color: #7f7f7f\"> South American civilizations and their regional        </span>│<span style=\"color: #7f7f7f; text-decoration-color: #7f7f7f\">                                                        </span>│\n",
       "│<span style=\"color: #7f7f7f; text-decoration-color: #7f7f7f\"> diversity.                                             </span>│<span style=\"color: #7f7f7f; text-decoration-color: #7f7f7f\">                                                        </span>│\n",
       "├────────────────────────────────────────────────────────┼────────────────────────────────────────────────────────┤\n",
       "│<span style=\"color: #7f7f7f; text-decoration-color: #7f7f7f\"> A cultural anthropologist studying the representation  </span>│<span style=\"color: #7f7f7f; text-decoration-color: #7f7f7f\"> {'occupation': 'cultural anthropologist'}              </span>│\n",
       "│<span style=\"color: #7f7f7f; text-decoration-color: #7f7f7f\"> and adaptation of traditional folklore in contemporary </span>│<span style=\"color: #7f7f7f; text-decoration-color: #7f7f7f\">                                                        </span>│\n",
       "│<span style=\"color: #7f7f7f; text-decoration-color: #7f7f7f\"> media, particularly in television and film.            </span>│<span style=\"color: #7f7f7f; text-decoration-color: #7f7f7f\">                                                        </span>│\n",
       "├────────────────────────────────────────────────────────┼────────────────────────────────────────────────────────┤\n",
       "│<span style=\"color: #7f7f7f; text-decoration-color: #7f7f7f\"> A high school earth science teacher looking for        </span>│<span style=\"color: #7f7f7f; text-decoration-color: #7f7f7f\"> {'occupation': 'high school earth science teacher'}    </span>│\n",
       "│<span style=\"color: #7f7f7f; text-decoration-color: #7f7f7f\"> real-world examples to explain climate zones, soil     </span>│<span style=\"color: #7f7f7f; text-decoration-color: #7f7f7f\">                                                        </span>│\n",
       "│<span style=\"color: #7f7f7f; text-decoration-color: #7f7f7f\"> types, and human-environment interactions.             </span>│<span style=\"color: #7f7f7f; text-decoration-color: #7f7f7f\">                                                        </span>│\n",
       "└────────────────────────────────────────────────────────┴────────────────────────────────────────────────────────┘\n",
       "</pre>\n"
      ],
      "text/plain": [
       "┏━━━━━━━━━━━━━━━━━━━━━━━━━━━━━━━━━━━━━━━━━━━━━━━━━━━━━━━━┳━━━━━━━━━━━━━━━━━━━━━━━━━━━━━━━━━━━━━━━━━━━━━━━━━━━━━━━━┓\n",
       "┃\u001b[1;35m \u001b[0m\u001b[1;35mscenario                                              \u001b[0m\u001b[1;35m \u001b[0m┃\u001b[1;35m \u001b[0m\u001b[1;35manswer                                                \u001b[0m\u001b[1;35m \u001b[0m┃\n",
       "┃\u001b[1;35m \u001b[0m\u001b[1;35m.persona                                              \u001b[0m\u001b[1;35m \u001b[0m┃\u001b[1;35m \u001b[0m\u001b[1;35m.occupation                                           \u001b[0m\u001b[1;35m \u001b[0m┃\n",
       "┡━━━━━━━━━━━━━━━━━━━━━━━━━━━━━━━━━━━━━━━━━━━━━━━━━━━━━━━━╇━━━━━━━━━━━━━━━━━━━━━━━━━━━━━━━━━━━━━━━━━━━━━━━━━━━━━━━━┩\n",
       "│\u001b[2m \u001b[0m\u001b[2mA theater manager or events coordinator interested in \u001b[0m\u001b[2m \u001b[0m│\u001b[2m \u001b[0m\u001b[2m{'occupation': 'theater manager or events             \u001b[0m\u001b[2m \u001b[0m│\n",
       "│\u001b[2m \u001b[0m\u001b[2munderstanding the operational aspects, facilities, and\u001b[0m\u001b[2m \u001b[0m│\u001b[2m \u001b[0m\u001b[2mcoordinator'}                                         \u001b[0m\u001b[2m \u001b[0m│\n",
       "│\u001b[2m \u001b[0m\u001b[2mprogramming of performing arts centers, such as the   \u001b[0m\u001b[2m \u001b[0m│\u001b[2m                                                        \u001b[0m│\n",
       "│\u001b[2m \u001b[0m\u001b[2mBroward Center.                                       \u001b[0m\u001b[2m \u001b[0m│\u001b[2m                                                        \u001b[0m│\n",
       "├────────────────────────────────────────────────────────┼────────────────────────────────────────────────────────┤\n",
       "│\u001b[2m \u001b[0m\u001b[2mAn urban planner looking to understand the            \u001b[0m\u001b[2m \u001b[0m│\u001b[2m \u001b[0m\u001b[2m{'occupation': 'urban planner'}                       \u001b[0m\u001b[2m \u001b[0m│\n",
       "│\u001b[2m \u001b[0m\u001b[2mdistribution and organization of public services in   \u001b[0m\u001b[2m \u001b[0m│\u001b[2m                                                        \u001b[0m│\n",
       "│\u001b[2m \u001b[0m\u001b[2mthe Halifax Regional Municipality.                    \u001b[0m\u001b[2m \u001b[0m│\u001b[2m                                                        \u001b[0m│\n",
       "├────────────────────────────────────────────────────────┼────────────────────────────────────────────────────────┤\n",
       "│\u001b[2m \u001b[0m\u001b[2mA high school literature teacher looking for          \u001b[0m\u001b[2m \u001b[0m│\u001b[2m \u001b[0m\u001b[2m{'occupation': 'high school literature teacher'}      \u001b[0m\u001b[2m \u001b[0m│\n",
       "│\u001b[2m \u001b[0m\u001b[2msupplementary materials to enrich their curriculum and\u001b[0m\u001b[2m \u001b[0m│\u001b[2m                                                        \u001b[0m│\n",
       "│\u001b[2m \u001b[0m\u001b[2mprovide students with a deeper understanding of their \u001b[0m\u001b[2m \u001b[0m│\u001b[2m                                                        \u001b[0m│\n",
       "│\u001b[2m \u001b[0m\u001b[2mstate's cultural heritage.                            \u001b[0m\u001b[2m \u001b[0m│\u001b[2m                                                        \u001b[0m│\n",
       "├────────────────────────────────────────────────────────┼────────────────────────────────────────────────────────┤\n",
       "│\u001b[2m \u001b[0m\u001b[2mA science fiction writer, exploring the use of secret \u001b[0m\u001b[2m \u001b[0m│\u001b[2m \u001b[0m\u001b[2m{'occupation': 'science fiction writer'}              \u001b[0m\u001b[2m \u001b[0m│\n",
       "│\u001b[2m \u001b[0m\u001b[2mtrials as a theme in stories that examine             \u001b[0m\u001b[2m \u001b[0m│\u001b[2m                                                        \u001b[0m│\n",
       "│\u001b[2m \u001b[0m\u001b[2msurveillance, privacy, and power dynamics in society. \u001b[0m\u001b[2m \u001b[0m│\u001b[2m                                                        \u001b[0m│\n",
       "├────────────────────────────────────────────────────────┼────────────────────────────────────────────────────────┤\n",
       "│\u001b[2m \u001b[0m\u001b[2mA financial analyst specializing in Asian markets and \u001b[0m\u001b[2m \u001b[0m│\u001b[2m \u001b[0m\u001b[2m{'occupation': 'financial analyst'}                   \u001b[0m\u001b[2m \u001b[0m│\n",
       "│\u001b[2m \u001b[0m\u001b[2mwealthy individuals, interested in tracking the       \u001b[0m\u001b[2m \u001b[0m│\u001b[2m                                                        \u001b[0m│\n",
       "│\u001b[2m \u001b[0m\u001b[2minvestments and philanthropic activities of           \u001b[0m\u001b[2m \u001b[0m│\u001b[2m                                                        \u001b[0m│\n",
       "│\u001b[2m \u001b[0m\u001b[2mbillionaires like Gerald Chan.                        \u001b[0m\u001b[2m \u001b[0m│\u001b[2m                                                        \u001b[0m│\n",
       "├────────────────────────────────────────────────────────┼────────────────────────────────────────────────────────┤\n",
       "│\u001b[2m \u001b[0m\u001b[2mA high school physics teacher who enjoys applying     \u001b[0m\u001b[2m \u001b[0m│\u001b[2m \u001b[0m\u001b[2m{'occupation': 'high school physics teacher'}         \u001b[0m\u001b[2m \u001b[0m│\n",
       "│\u001b[2m \u001b[0m\u001b[2mphysics concepts to various sports, curious about the \u001b[0m\u001b[2m \u001b[0m│\u001b[2m                                                        \u001b[0m│\n",
       "│\u001b[2m \u001b[0m\u001b[2meffects of water resistance and body positioning in   \u001b[0m\u001b[2m \u001b[0m│\u001b[2m                                                        \u001b[0m│\n",
       "│\u001b[2m \u001b[0m\u001b[2mParalympic swimming.                                  \u001b[0m\u001b[2m \u001b[0m│\u001b[2m                                                        \u001b[0m│\n",
       "├────────────────────────────────────────────────────────┼────────────────────────────────────────────────────────┤\n",
       "│\u001b[2m \u001b[0m\u001b[2mA high school physical education teacher seeking to   \u001b[0m\u001b[2m \u001b[0m│\u001b[2m \u001b[0m\u001b[2m{'occupation': 'physical education teacher'}          \u001b[0m\u001b[2m \u001b[0m│\n",
       "│\u001b[2m \u001b[0m\u001b[2mincorporate Paralympic history and achievements into  \u001b[0m\u001b[2m \u001b[0m│\u001b[2m                                                        \u001b[0m│\n",
       "│\u001b[2m \u001b[0m\u001b[2mthe curriculum to inspire and educate students about  \u001b[0m\u001b[2m \u001b[0m│\u001b[2m                                                        \u001b[0m│\n",
       "│\u001b[2m \u001b[0m\u001b[2minclusivity in sports.                                \u001b[0m\u001b[2m \u001b[0m│\u001b[2m                                                        \u001b[0m│\n",
       "├────────────────────────────────────────────────────────┼────────────────────────────────────────────────────────┤\n",
       "│\u001b[2m \u001b[0m\u001b[2mA high school history teacher creating lesson plans on\u001b[0m\u001b[2m \u001b[0m│\u001b[2m \u001b[0m\u001b[2m{'occupation': 'high school history teacher'}         \u001b[0m\u001b[2m \u001b[0m│\n",
       "│\u001b[2m \u001b[0m\u001b[2mSouth American civilizations and their regional       \u001b[0m\u001b[2m \u001b[0m│\u001b[2m                                                        \u001b[0m│\n",
       "│\u001b[2m \u001b[0m\u001b[2mdiversity.                                            \u001b[0m\u001b[2m \u001b[0m│\u001b[2m                                                        \u001b[0m│\n",
       "├────────────────────────────────────────────────────────┼────────────────────────────────────────────────────────┤\n",
       "│\u001b[2m \u001b[0m\u001b[2mA cultural anthropologist studying the representation \u001b[0m\u001b[2m \u001b[0m│\u001b[2m \u001b[0m\u001b[2m{'occupation': 'cultural anthropologist'}             \u001b[0m\u001b[2m \u001b[0m│\n",
       "│\u001b[2m \u001b[0m\u001b[2mand adaptation of traditional folklore in contemporary\u001b[0m\u001b[2m \u001b[0m│\u001b[2m                                                        \u001b[0m│\n",
       "│\u001b[2m \u001b[0m\u001b[2mmedia, particularly in television and film.           \u001b[0m\u001b[2m \u001b[0m│\u001b[2m                                                        \u001b[0m│\n",
       "├────────────────────────────────────────────────────────┼────────────────────────────────────────────────────────┤\n",
       "│\u001b[2m \u001b[0m\u001b[2mA high school earth science teacher looking for       \u001b[0m\u001b[2m \u001b[0m│\u001b[2m \u001b[0m\u001b[2m{'occupation': 'high school earth science teacher'}   \u001b[0m\u001b[2m \u001b[0m│\n",
       "│\u001b[2m \u001b[0m\u001b[2mreal-world examples to explain climate zones, soil    \u001b[0m\u001b[2m \u001b[0m│\u001b[2m                                                        \u001b[0m│\n",
       "│\u001b[2m \u001b[0m\u001b[2mtypes, and human-environment interactions.            \u001b[0m\u001b[2m \u001b[0m│\u001b[2m                                                        \u001b[0m│\n",
       "└────────────────────────────────────────────────────────┴────────────────────────────────────────────────────────┘\n"
      ]
     },
     "metadata": {},
     "output_type": "display_data"
    }
   ],
   "source": [
    "results.select(\"persona\", \"occupation\").print(format=\"rich\")"
   ]
  },
  {
   "cell_type": "markdown",
   "id": "df63f2e6-1410-4431-af36-0dec6be935ea",
   "metadata": {},
   "source": [
    "### Designing agents\n",
    "Here we recreate agents with both the personas and occupations as traits:"
   ]
  },
  {
   "cell_type": "code",
   "execution_count": 14,
   "id": "793c7c08-8541-4d08-ab13-f9bae09d0f44",
   "metadata": {},
   "outputs": [
    {
     "data": {
      "text/plain": [
       "['theater manager or events coordinator',\n",
       " 'urban planner',\n",
       " 'high school literature teacher',\n",
       " 'science fiction writer',\n",
       " 'financial analyst',\n",
       " 'high school physics teacher',\n",
       " 'physical education teacher',\n",
       " 'high school history teacher',\n",
       " 'cultural anthropologist',\n",
       " 'high school earth science teacher']"
      ]
     },
     "execution_count": 14,
     "metadata": {},
     "output_type": "execute_result"
    }
   ],
   "source": [
    "occupations_list = [o['occupation'] for o in results.select(\"occupation\").to_list()]\n",
    "occupations_list"
   ]
  },
  {
   "cell_type": "code",
   "execution_count": 15,
   "id": "852185c0-e314-4a17-8758-ccf81f267af7",
   "metadata": {},
   "outputs": [],
   "source": [
    "t = list(zip(personas_list, occupations_list))"
   ]
  },
  {
   "cell_type": "code",
   "execution_count": 16,
   "id": "5871d656-1b84-412b-b8fd-780b714a99e7",
   "metadata": {},
   "outputs": [],
   "source": [
    "from edsl import AgentList, Agent\n",
    "\n",
    "agents = AgentList(\n",
    "    Agent(traits = {\"persona\":p, \"occupation\":o}) for p,o in t\n",
    ")"
   ]
  },
  {
   "cell_type": "markdown",
   "id": "54673d68-5167-4e42-8f77-e1eff1b5d48c",
   "metadata": {},
   "source": [
    "### Running a survey\n",
    "Here we rerun the survey and then filter and sort results by agent traits:"
   ]
  },
  {
   "cell_type": "code",
   "execution_count": 17,
   "id": "67197072-2914-4de4-b104-f4633358dfb0",
   "metadata": {},
   "outputs": [],
   "source": [
    "results = survey.by(agents).by(models).run()"
   ]
  },
  {
   "cell_type": "code",
   "execution_count": 18,
   "id": "146b105e-0fdc-49b8-b706-424a53eaeaa9",
   "metadata": {},
   "outputs": [
    {
     "data": {
      "text/html": [
       "<pre style=\"white-space:pre;overflow-x:auto;line-height:normal;font-family:Menlo,'DejaVu Sans Mono',consolas,'Courier New',monospace\">┏━━━━━━━━┳━━━━━━━━━━━━━━━━━━━━━━━━━━━━━━━━━━━━━━━┳━━━━━━━━━━━━━━━━━━━━━━━━━┳━━━━━━━━━━━━━━━━━┓\n",
       "┃<span style=\"color: #800080; text-decoration-color: #800080; font-weight: bold\"> model  </span>┃<span style=\"color: #800080; text-decoration-color: #800080; font-weight: bold\"> agent                                 </span>┃<span style=\"color: #800080; text-decoration-color: #800080; font-weight: bold\"> answer                  </span>┃<span style=\"color: #800080; text-decoration-color: #800080; font-weight: bold\"> answer          </span>┃\n",
       "┃<span style=\"color: #800080; text-decoration-color: #800080; font-weight: bold\"> .model </span>┃<span style=\"color: #800080; text-decoration-color: #800080; font-weight: bold\"> .occupation                           </span>┃<span style=\"color: #800080; text-decoration-color: #800080; font-weight: bold\"> .preferred_mode_commute </span>┃<span style=\"color: #800080; text-decoration-color: #800080; font-weight: bold\"> .work_from_home </span>┃\n",
       "┡━━━━━━━━╇━━━━━━━━━━━━━━━━━━━━━━━━━━━━━━━━━━━━━━━╇━━━━━━━━━━━━━━━━━━━━━━━━━╇━━━━━━━━━━━━━━━━━┩\n",
       "│<span style=\"color: #7f7f7f; text-decoration-color: #7f7f7f\"> gpt-4o </span>│<span style=\"color: #7f7f7f; text-decoration-color: #7f7f7f\"> science fiction writer                </span>│<span style=\"color: #7f7f7f; text-decoration-color: #7f7f7f\"> Work from home          </span>│<span style=\"color: #7f7f7f; text-decoration-color: #7f7f7f\"> 5               </span>│\n",
       "├────────┼───────────────────────────────────────┼─────────────────────────┼─────────────────┤\n",
       "│<span style=\"color: #7f7f7f; text-decoration-color: #7f7f7f\"> gpt-4o </span>│<span style=\"color: #7f7f7f; text-decoration-color: #7f7f7f\"> financial analyst                     </span>│<span style=\"color: #7f7f7f; text-decoration-color: #7f7f7f\"> Work from home          </span>│<span style=\"color: #7f7f7f; text-decoration-color: #7f7f7f\"> 5               </span>│\n",
       "├────────┼───────────────────────────────────────┼─────────────────────────┼─────────────────┤\n",
       "│<span style=\"color: #7f7f7f; text-decoration-color: #7f7f7f\"> gpt-4o </span>│<span style=\"color: #7f7f7f; text-decoration-color: #7f7f7f\"> urban planner                         </span>│<span style=\"color: #7f7f7f; text-decoration-color: #7f7f7f\"> Public transportation   </span>│<span style=\"color: #7f7f7f; text-decoration-color: #7f7f7f\"> 4               </span>│\n",
       "├────────┼───────────────────────────────────────┼─────────────────────────┼─────────────────┤\n",
       "│<span style=\"color: #7f7f7f; text-decoration-color: #7f7f7f\"> gpt-4o </span>│<span style=\"color: #7f7f7f; text-decoration-color: #7f7f7f\"> cultural anthropologist               </span>│<span style=\"color: #7f7f7f; text-decoration-color: #7f7f7f\"> Work from home          </span>│<span style=\"color: #7f7f7f; text-decoration-color: #7f7f7f\"> 4               </span>│\n",
       "├────────┼───────────────────────────────────────┼─────────────────────────┼─────────────────┤\n",
       "│<span style=\"color: #7f7f7f; text-decoration-color: #7f7f7f\"> gpt-4o </span>│<span style=\"color: #7f7f7f; text-decoration-color: #7f7f7f\"> theater manager or events coordinator </span>│<span style=\"color: #7f7f7f; text-decoration-color: #7f7f7f\"> Car                     </span>│<span style=\"color: #7f7f7f; text-decoration-color: #7f7f7f\"> 3               </span>│\n",
       "├────────┼───────────────────────────────────────┼─────────────────────────┼─────────────────┤\n",
       "│<span style=\"color: #7f7f7f; text-decoration-color: #7f7f7f\"> gpt-4o </span>│<span style=\"color: #7f7f7f; text-decoration-color: #7f7f7f\"> high school literature teacher        </span>│<span style=\"color: #7f7f7f; text-decoration-color: #7f7f7f\"> Car                     </span>│<span style=\"color: #7f7f7f; text-decoration-color: #7f7f7f\"> 3               </span>│\n",
       "├────────┼───────────────────────────────────────┼─────────────────────────┼─────────────────┤\n",
       "│<span style=\"color: #7f7f7f; text-decoration-color: #7f7f7f\"> gpt-4o </span>│<span style=\"color: #7f7f7f; text-decoration-color: #7f7f7f\"> high school physics teacher           </span>│<span style=\"color: #7f7f7f; text-decoration-color: #7f7f7f\"> Bike                    </span>│<span style=\"color: #7f7f7f; text-decoration-color: #7f7f7f\"> 3               </span>│\n",
       "├────────┼───────────────────────────────────────┼─────────────────────────┼─────────────────┤\n",
       "│<span style=\"color: #7f7f7f; text-decoration-color: #7f7f7f\"> gpt-4o </span>│<span style=\"color: #7f7f7f; text-decoration-color: #7f7f7f\"> high school history teacher           </span>│<span style=\"color: #7f7f7f; text-decoration-color: #7f7f7f\"> Car                     </span>│<span style=\"color: #7f7f7f; text-decoration-color: #7f7f7f\"> 3               </span>│\n",
       "├────────┼───────────────────────────────────────┼─────────────────────────┼─────────────────┤\n",
       "│<span style=\"color: #7f7f7f; text-decoration-color: #7f7f7f\"> gpt-4o </span>│<span style=\"color: #7f7f7f; text-decoration-color: #7f7f7f\"> high school earth science teacher     </span>│<span style=\"color: #7f7f7f; text-decoration-color: #7f7f7f\"> Car                     </span>│<span style=\"color: #7f7f7f; text-decoration-color: #7f7f7f\"> 3               </span>│\n",
       "├────────┼───────────────────────────────────────┼─────────────────────────┼─────────────────┤\n",
       "│<span style=\"color: #7f7f7f; text-decoration-color: #7f7f7f\"> gpt-4o </span>│<span style=\"color: #7f7f7f; text-decoration-color: #7f7f7f\"> physical education teacher            </span>│<span style=\"color: #7f7f7f; text-decoration-color: #7f7f7f\"> Bike                    </span>│<span style=\"color: #7f7f7f; text-decoration-color: #7f7f7f\"> 2               </span>│\n",
       "└────────┴───────────────────────────────────────┴─────────────────────────┴─────────────────┘\n",
       "</pre>\n"
      ],
      "text/plain": [
       "┏━━━━━━━━┳━━━━━━━━━━━━━━━━━━━━━━━━━━━━━━━━━━━━━━━┳━━━━━━━━━━━━━━━━━━━━━━━━━┳━━━━━━━━━━━━━━━━━┓\n",
       "┃\u001b[1;35m \u001b[0m\u001b[1;35mmodel \u001b[0m\u001b[1;35m \u001b[0m┃\u001b[1;35m \u001b[0m\u001b[1;35magent                                \u001b[0m\u001b[1;35m \u001b[0m┃\u001b[1;35m \u001b[0m\u001b[1;35manswer                 \u001b[0m\u001b[1;35m \u001b[0m┃\u001b[1;35m \u001b[0m\u001b[1;35manswer         \u001b[0m\u001b[1;35m \u001b[0m┃\n",
       "┃\u001b[1;35m \u001b[0m\u001b[1;35m.model\u001b[0m\u001b[1;35m \u001b[0m┃\u001b[1;35m \u001b[0m\u001b[1;35m.occupation                          \u001b[0m\u001b[1;35m \u001b[0m┃\u001b[1;35m \u001b[0m\u001b[1;35m.preferred_mode_commute\u001b[0m\u001b[1;35m \u001b[0m┃\u001b[1;35m \u001b[0m\u001b[1;35m.work_from_home\u001b[0m\u001b[1;35m \u001b[0m┃\n",
       "┡━━━━━━━━╇━━━━━━━━━━━━━━━━━━━━━━━━━━━━━━━━━━━━━━━╇━━━━━━━━━━━━━━━━━━━━━━━━━╇━━━━━━━━━━━━━━━━━┩\n",
       "│\u001b[2m \u001b[0m\u001b[2mgpt-4o\u001b[0m\u001b[2m \u001b[0m│\u001b[2m \u001b[0m\u001b[2mscience fiction writer               \u001b[0m\u001b[2m \u001b[0m│\u001b[2m \u001b[0m\u001b[2mWork from home         \u001b[0m\u001b[2m \u001b[0m│\u001b[2m \u001b[0m\u001b[2m5              \u001b[0m\u001b[2m \u001b[0m│\n",
       "├────────┼───────────────────────────────────────┼─────────────────────────┼─────────────────┤\n",
       "│\u001b[2m \u001b[0m\u001b[2mgpt-4o\u001b[0m\u001b[2m \u001b[0m│\u001b[2m \u001b[0m\u001b[2mfinancial analyst                    \u001b[0m\u001b[2m \u001b[0m│\u001b[2m \u001b[0m\u001b[2mWork from home         \u001b[0m\u001b[2m \u001b[0m│\u001b[2m \u001b[0m\u001b[2m5              \u001b[0m\u001b[2m \u001b[0m│\n",
       "├────────┼───────────────────────────────────────┼─────────────────────────┼─────────────────┤\n",
       "│\u001b[2m \u001b[0m\u001b[2mgpt-4o\u001b[0m\u001b[2m \u001b[0m│\u001b[2m \u001b[0m\u001b[2murban planner                        \u001b[0m\u001b[2m \u001b[0m│\u001b[2m \u001b[0m\u001b[2mPublic transportation  \u001b[0m\u001b[2m \u001b[0m│\u001b[2m \u001b[0m\u001b[2m4              \u001b[0m\u001b[2m \u001b[0m│\n",
       "├────────┼───────────────────────────────────────┼─────────────────────────┼─────────────────┤\n",
       "│\u001b[2m \u001b[0m\u001b[2mgpt-4o\u001b[0m\u001b[2m \u001b[0m│\u001b[2m \u001b[0m\u001b[2mcultural anthropologist              \u001b[0m\u001b[2m \u001b[0m│\u001b[2m \u001b[0m\u001b[2mWork from home         \u001b[0m\u001b[2m \u001b[0m│\u001b[2m \u001b[0m\u001b[2m4              \u001b[0m\u001b[2m \u001b[0m│\n",
       "├────────┼───────────────────────────────────────┼─────────────────────────┼─────────────────┤\n",
       "│\u001b[2m \u001b[0m\u001b[2mgpt-4o\u001b[0m\u001b[2m \u001b[0m│\u001b[2m \u001b[0m\u001b[2mtheater manager or events coordinator\u001b[0m\u001b[2m \u001b[0m│\u001b[2m \u001b[0m\u001b[2mCar                    \u001b[0m\u001b[2m \u001b[0m│\u001b[2m \u001b[0m\u001b[2m3              \u001b[0m\u001b[2m \u001b[0m│\n",
       "├────────┼───────────────────────────────────────┼─────────────────────────┼─────────────────┤\n",
       "│\u001b[2m \u001b[0m\u001b[2mgpt-4o\u001b[0m\u001b[2m \u001b[0m│\u001b[2m \u001b[0m\u001b[2mhigh school literature teacher       \u001b[0m\u001b[2m \u001b[0m│\u001b[2m \u001b[0m\u001b[2mCar                    \u001b[0m\u001b[2m \u001b[0m│\u001b[2m \u001b[0m\u001b[2m3              \u001b[0m\u001b[2m \u001b[0m│\n",
       "├────────┼───────────────────────────────────────┼─────────────────────────┼─────────────────┤\n",
       "│\u001b[2m \u001b[0m\u001b[2mgpt-4o\u001b[0m\u001b[2m \u001b[0m│\u001b[2m \u001b[0m\u001b[2mhigh school physics teacher          \u001b[0m\u001b[2m \u001b[0m│\u001b[2m \u001b[0m\u001b[2mBike                   \u001b[0m\u001b[2m \u001b[0m│\u001b[2m \u001b[0m\u001b[2m3              \u001b[0m\u001b[2m \u001b[0m│\n",
       "├────────┼───────────────────────────────────────┼─────────────────────────┼─────────────────┤\n",
       "│\u001b[2m \u001b[0m\u001b[2mgpt-4o\u001b[0m\u001b[2m \u001b[0m│\u001b[2m \u001b[0m\u001b[2mhigh school history teacher          \u001b[0m\u001b[2m \u001b[0m│\u001b[2m \u001b[0m\u001b[2mCar                    \u001b[0m\u001b[2m \u001b[0m│\u001b[2m \u001b[0m\u001b[2m3              \u001b[0m\u001b[2m \u001b[0m│\n",
       "├────────┼───────────────────────────────────────┼─────────────────────────┼─────────────────┤\n",
       "│\u001b[2m \u001b[0m\u001b[2mgpt-4o\u001b[0m\u001b[2m \u001b[0m│\u001b[2m \u001b[0m\u001b[2mhigh school earth science teacher    \u001b[0m\u001b[2m \u001b[0m│\u001b[2m \u001b[0m\u001b[2mCar                    \u001b[0m\u001b[2m \u001b[0m│\u001b[2m \u001b[0m\u001b[2m3              \u001b[0m\u001b[2m \u001b[0m│\n",
       "├────────┼───────────────────────────────────────┼─────────────────────────┼─────────────────┤\n",
       "│\u001b[2m \u001b[0m\u001b[2mgpt-4o\u001b[0m\u001b[2m \u001b[0m│\u001b[2m \u001b[0m\u001b[2mphysical education teacher           \u001b[0m\u001b[2m \u001b[0m│\u001b[2m \u001b[0m\u001b[2mBike                   \u001b[0m\u001b[2m \u001b[0m│\u001b[2m \u001b[0m\u001b[2m2              \u001b[0m\u001b[2m \u001b[0m│\n",
       "└────────┴───────────────────────────────────────┴─────────────────────────┴─────────────────┘\n"
      ]
     },
     "metadata": {},
     "output_type": "display_data"
    }
   ],
   "source": [
    "(\n",
    "    results\n",
    "    .filter(\"model.model == 'gpt-4o'\")\n",
    "    .sort_by(\"work_from_home\", reverse=True)\n",
    "    .select(\"model\", \"occupation\", \"preferred_mode_commute\", \"work_from_home\")\n",
    "    .print(format=\"rich\")\n",
    ")"
   ]
  },
  {
   "cell_type": "markdown",
   "id": "e810f8ff-fb8d-4b5b-bf91-98e89c6824ea",
   "metadata": {},
   "source": [
    "### Posting to the Coop\n",
    "The [Coop](https://www.expectedparrot.com/explore) is a platform for creating, storing and sharing LLM-based research.\n",
    "It is fully integrated with EDSL and accessible from your workspace or Coop account page.\n",
    "Learn more about [creating an account](https://www.expectedparrot.com/login) and [using the Coop](https://docs.expectedparrot.com/en/latest/coop.html).\n",
    "\n",
    "Here we demonstrate how to post this notebook:"
   ]
  },
  {
   "cell_type": "code",
   "execution_count": 19,
   "id": "25efb9ff-49ce-4f52-b84e-05fd7b349e5b",
   "metadata": {
    "editable": true,
    "slideshow": {
     "slide_type": ""
    },
    "tags": [
     "skip-execution"
    ]
   },
   "outputs": [],
   "source": [
    "from edsl import Notebook"
   ]
  },
  {
   "cell_type": "code",
   "execution_count": 20,
   "id": "35a158bf-41e1-4a97-8b43-3b375b0602bc",
   "metadata": {
    "editable": true,
    "slideshow": {
     "slide_type": ""
    },
    "tags": [
     "skip-execution"
    ]
   },
   "outputs": [],
   "source": [
    "n = Notebook(path = \"import_agents.ipynb\")"
   ]
  },
  {
   "cell_type": "code",
   "execution_count": 21,
   "id": "97836115-086b-49a1-bce9-124481177f13",
   "metadata": {
    "editable": true,
    "slideshow": {
     "slide_type": ""
    },
    "tags": [
     "skip-execution"
    ]
   },
   "outputs": [
    {
     "data": {
      "text/plain": [
       "{'description': 'Importing agents',\n",
       " 'object_type': 'notebook',\n",
       " 'url': 'https://www.expectedparrot.com/content/d9ae8689-f0e1-4821-ba9a-c9a4d7dcc348',\n",
       " 'uuid': 'd9ae8689-f0e1-4821-ba9a-c9a4d7dcc348',\n",
       " 'version': '0.1.33',\n",
       " 'visibility': 'public'}"
      ]
     },
     "execution_count": 21,
     "metadata": {},
     "output_type": "execute_result"
    }
   ],
   "source": [
    "n.push(description = \"Importing agents\", visibility = \"public\")"
   ]
  },
  {
   "cell_type": "markdown",
   "id": "aca5ff4e-3aef-4a8e-be67-664918fb7e48",
   "metadata": {},
   "source": [
    "To update an object at the Coop:"
   ]
  },
  {
   "cell_type": "code",
   "execution_count": 24,
   "id": "0acdc37b-af37-42ab-87e6-341153c1bd8e",
   "metadata": {
    "editable": true,
    "slideshow": {
     "slide_type": ""
    },
    "tags": [
     "skip-execution"
    ]
   },
   "outputs": [],
   "source": [
    "n = Notebook(path = \"import_agents.ipynb\")"
   ]
  },
  {
   "cell_type": "code",
   "execution_count": 25,
   "id": "5aa1736e-7d1b-476c-bd10-84df12c78297",
   "metadata": {
    "editable": true,
    "slideshow": {
     "slide_type": ""
    },
    "tags": [
     "skip-execution"
    ]
   },
   "outputs": [
    {
     "data": {
      "text/plain": [
       "{'status': 'success'}"
      ]
     },
     "execution_count": 25,
     "metadata": {},
     "output_type": "execute_result"
    }
   ],
   "source": [
    "n.patch(uuid = \"d9ae8689-f0e1-4821-ba9a-c9a4d7dcc348\", value = n)"
   ]
  }
 ],
 "metadata": {
  "kernelspec": {
   "display_name": "Python 3 (ipykernel)",
   "language": "python",
   "name": "python3"
  },
  "language_info": {
   "codemirror_mode": {
    "name": "ipython",
    "version": 3
   },
   "file_extension": ".py",
   "mimetype": "text/x-python",
   "name": "python",
   "nbconvert_exporter": "python",
   "pygments_lexer": "ipython3",
   "version": "3.11.7"
  }
 },
 "nbformat": 4,
 "nbformat_minor": 5
}
