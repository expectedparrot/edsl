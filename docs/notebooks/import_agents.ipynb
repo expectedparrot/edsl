{
 "cells": [
  {
   "cell_type": "markdown",
   "id": "dfa03b9e-9655-4c4f-a7e0-43cd5487b5e4",
   "metadata": {
    "editable": true,
    "slideshow": {
     "slide_type": ""
    },
    "tags": []
   },
   "source": [
    "# Importing agents\n",
    "This notebook provides sample EDSL code for simulating surveys with agent personas imported from [Persona Hub](https://github.com/tencent-ailab/persona-hub), an open-source repository provided by [Hugging Face](https://huggingface.co/datasets/proj-persona/PersonaHub).\n",
    "\n",
    "[EDSL](https://github.com/expectedparrot/edsl) is an open-source library for simulating surveys, experiments and other research with AI agents and large language models. \n",
    "Before running the code below, please ensure that you have [installed the EDSL library](https://docs.expectedparrot.com/en/latest/installation.html) and either [activated remote inference](https://docs.expectedparrot.com/en/latest/remote_inference.html) from your [Coop account](https://docs.expectedparrot.com/en/latest/coop.html) or [stored API keys](https://docs.expectedparrot.com/en/latest/api_keys.html) for the language models that you want to use with EDSL. Please also see our [documentation page](https://docs.expectedparrot.com/) for tips and tutorials on getting started using EDSL."
   ]
  },
  {
   "cell_type": "markdown",
   "id": "69f3f75c-6908-42d2-a78b-377e1f829c54",
   "metadata": {
    "editable": true,
    "slideshow": {
     "slide_type": ""
    },
    "tags": []
   },
   "source": [
    "### Importing the data\n",
    "Persona Hub: https://github.com/tencent-ailab/persona-hub"
   ]
  },
  {
   "cell_type": "code",
   "execution_count": 1,
   "id": "cb73e351-e150-4dbe-916e-98fcf2a6673f",
   "metadata": {
    "editable": true,
    "slideshow": {
     "slide_type": ""
    },
    "tags": []
   },
   "outputs": [],
   "source": [
    "from datasets import load_dataset\n",
    "\n",
    "ds = load_dataset(\"proj-persona/PersonaHub\", \"instruction\")"
   ]
  },
  {
   "cell_type": "markdown",
   "id": "a4f5cfeb-4944-4045-bf5d-bae52c65a980",
   "metadata": {
    "editable": true,
    "slideshow": {
     "slide_type": ""
    },
    "tags": []
   },
   "source": [
    "### Selecting data\n",
    "Here we select some personas to use."
   ]
  },
  {
   "cell_type": "code",
   "execution_count": 2,
   "id": "acc2abf9-bd3c-49a1-becb-f3c188f49e1b",
   "metadata": {
    "editable": true,
    "slideshow": {
     "slide_type": ""
    },
    "tags": []
   },
   "outputs": [
    {
     "data": {
      "text/plain": [
       "['A theater manager or events coordinator interested in understanding the operational aspects, facilities, and programming of performing arts centers, such as the Broward Center.',\n",
       " 'An urban planner looking to understand the distribution and organization of public services in the Halifax Regional Municipality.',\n",
       " \"A high school literature teacher looking for supplementary materials to enrich their curriculum and provide students with a deeper understanding of their state's cultural heritage.\",\n",
       " 'A science fiction writer, exploring the use of secret trials as a theme in stories that examine surveillance, privacy, and power dynamics in society.',\n",
       " 'A financial analyst specializing in Asian markets and wealthy individuals, interested in tracking the investments and philanthropic activities of billionaires like Gerald Chan.',\n",
       " 'A high school physics teacher who enjoys applying physics concepts to various sports, curious about the effects of water resistance and body positioning in Paralympic swimming.',\n",
       " 'A high school physical education teacher seeking to incorporate Paralympic history and achievements into the curriculum to inspire and educate students about inclusivity in sports.',\n",
       " 'A high school history teacher creating lesson plans on South American civilizations and their regional diversity.',\n",
       " 'A cultural anthropologist studying the representation and adaptation of traditional folklore in contemporary media, particularly in television and film.',\n",
       " 'A high school earth science teacher looking for real-world examples to explain climate zones, soil types, and human-environment interactions.']"
      ]
     },
     "execution_count": 2,
     "metadata": {},
     "output_type": "execute_result"
    }
   ],
   "source": [
    "num_agents = 10\n",
    "\n",
    "personas_list = ds['train']['input persona'][:num_agents]\n",
    "personas_list"
   ]
  },
  {
   "cell_type": "markdown",
   "id": "0588622b-c598-4314-9b14-a9e468fdbb5a",
   "metadata": {
    "editable": true,
    "slideshow": {
     "slide_type": ""
    },
    "tags": []
   },
   "source": [
    "### Creating agents\n",
    "We create an agent in EDSL by passing a dictionary of `traits` (such as a persona) to an `Agent` object.\n",
    "Here we use a method for generating a set of agents from a list of traits at once (a list of the personas).\n",
    "Learn more about [designing agents in EDSL](https://docs.expectedparrot.com/en/latest/agents.html)."
   ]
  },
  {
   "cell_type": "code",
   "execution_count": 3,
   "id": "9cd9b291-8c36-47b8-a0b4-534f5a9b827c",
   "metadata": {
    "editable": true,
    "slideshow": {
     "slide_type": ""
    },
    "tags": []
   },
   "outputs": [],
   "source": [
    "from edsl import AgentList\n",
    "\n",
    "agents = AgentList.from_list(\"persona\", personas_list)"
   ]
  },
  {
   "cell_type": "markdown",
   "id": "ce2457ba-2734-47de-bfd0-1cd8bb718aae",
   "metadata": {
    "editable": true,
    "slideshow": {
     "slide_type": ""
    },
    "tags": []
   },
   "source": [
    "### Using agents to answer a survey\n",
    "Here we construct some questions and administer them to the agents.\n",
    "EDSL comes with many [common question types](https://docs.expectedparrot.com/en/latest/questions.html) that we can choose from based on the form of the response that we want to get back from a model.\n",
    "Learn more about [constructing surveys](https://docs.expectedparrot.com/en/latest/surveys.html) with different question types, logic and rules."
   ]
  },
  {
   "cell_type": "code",
   "execution_count": 4,
   "id": "13366568-fba7-4479-ab57-577d5ebfd192",
   "metadata": {
    "editable": true,
    "slideshow": {
     "slide_type": ""
    },
    "tags": []
   },
   "outputs": [],
   "source": [
    "from edsl import QuestionMultipleChoice, QuestionLinearScale, Survey\n",
    "\n",
    "q1 = QuestionMultipleChoice(\n",
    "    question_name = \"preferred_mode_commute\",\n",
    "    question_text = \"What is your preferred mode of commuting to work?\",\n",
    "    question_options = [ \"Car\", \"Public transportation\", \"Bike\", \"Walk\", \"Work from home\", \"Other\" ] \n",
    ")\n",
    "\n",
    "q2 = QuestionLinearScale(\n",
    "    question_name = \"work_from_home\",\n",
    "    question_text = \"On a scale from 1 to 5, how easy is it for you to work from home?\",\n",
    "    question_options = [1,2,3,4,5],\n",
    "    option_labels = {1:\"Not at all easy\", 5:\"Very easy\"}\n",
    ")\n",
    "\n",
    "survey = Survey([q1, q2])"
   ]
  },
  {
   "cell_type": "markdown",
   "id": "1be8cc3b-76d0-4c69-b734-9243e58a98ab",
   "metadata": {
    "editable": true,
    "slideshow": {
     "slide_type": ""
    },
    "tags": []
   },
   "source": [
    "### Selecting language models\n",
    "EDSL works with many popular language models that we can select to generate the responses for the agents.\n",
    "\n",
    "To see a list of all services:"
   ]
  },
  {
   "cell_type": "code",
   "execution_count": 5,
   "id": "6f5cd071-1d7e-4e4c-8cf2-3b75a1e788a5",
   "metadata": {
    "editable": true,
    "slideshow": {
     "slide_type": ""
    },
    "tags": []
   },
   "outputs": [
    {
     "data": {
      "text/plain": [
       "['openai',\n",
       " 'anthropic',\n",
       " 'deep_infra',\n",
       " 'google',\n",
       " 'groq',\n",
       " 'bedrock',\n",
       " 'azure',\n",
       " 'ollama',\n",
       " 'test',\n",
       " 'together',\n",
       " 'perplexity',\n",
       " 'mistral']"
      ]
     },
     "execution_count": 5,
     "metadata": {},
     "output_type": "execute_result"
    }
   ],
   "source": [
    "from edsl import Model\n",
    "\n",
    "Model.services()"
   ]
  },
  {
   "cell_type": "markdown",
   "id": "00f093ed-3ba9-4aa5-a5d2-a9ae3b2e62b9",
   "metadata": {
    "editable": true,
    "slideshow": {
     "slide_type": ""
    },
    "tags": []
   },
   "source": [
    "To see a list of all available models:"
   ]
  },
  {
   "cell_type": "code",
   "execution_count": 6,
   "id": "f509e8a0-bbb9-4242-a836-6ad9246536ff",
   "metadata": {
    "editable": true,
    "slideshow": {
     "slide_type": ""
    },
    "tags": []
   },
   "outputs": [],
   "source": [
    "# Model.available()"
   ]
  },
  {
   "cell_type": "markdown",
   "id": "e306ddfb-8299-48d3-a1fa-b2c6c9c0eb5f",
   "metadata": {
    "editable": true,
    "slideshow": {
     "slide_type": ""
    },
    "tags": []
   },
   "source": [
    "To select models to use with a survey:"
   ]
  },
  {
   "cell_type": "code",
   "execution_count": 7,
   "id": "af431de0-bcfb-4f92-9b5d-8eb367987a5c",
   "metadata": {
    "editable": true,
    "slideshow": {
     "slide_type": ""
    },
    "tags": []
   },
   "outputs": [],
   "source": [
    "from edsl import ModelList, Model\n",
    "\n",
    "models = ModelList(\n",
    "    Model(m) for m in [\"gpt-3.5-turbo\", \"gpt-4o\"]\n",
    ")"
   ]
  },
  {
   "cell_type": "markdown",
   "id": "6f6f7f72-fa28-403a-b652-d25ec83b683b",
   "metadata": {
    "editable": true,
    "slideshow": {
     "slide_type": ""
    },
    "tags": []
   },
   "source": [
    "We run a survey by adding the agents and models, and then calling the `run()` method.\n",
    "This generates a formatted dataset of `Results`:"
   ]
  },
  {
   "cell_type": "code",
   "execution_count": 8,
   "id": "69247b52-f8a2-4cb6-a9e0-e44d3429bb54",
   "metadata": {
    "editable": true,
    "slideshow": {
     "slide_type": ""
    },
    "tags": []
   },
   "outputs": [
    {
     "name": "stdout",
     "output_type": "stream",
     "text": [
      "Remote inference activated. Sending job to server...\n",
      "Job sent to server. (Job uuid=67a8fd1a-681e-43c9-90b1-d7063e58e250).\n"
     ]
    },
    {
     "data": {
      "text/html": [
       "<pre style=\"white-space:pre;overflow-x:auto;line-height:normal;font-family:Menlo,'DejaVu Sans Mono',consolas,'Courier New',monospace\">View job progress here: \n",
       "<a href=\"https://www.expectedparrot.com/home/remote-job-progress/67a8fd1a-681e-43c9-90b1-d7063e58e250\" target=\"_blank\"><span style=\"color: #38bdf8; text-decoration-color: #38bdf8; text-decoration: underline\">https://www.expectedparrot.com/home/remote-job-progress/67a8fd1a-681e-43c9-90b1-d7063e58e250</span></a>\n",
       "</pre>\n"
      ],
      "text/plain": [
       "View job progress here: \n",
       "\u001b]8;id=111678;https://www.expectedparrot.com/home/remote-job-progress/67a8fd1a-681e-43c9-90b1-d7063e58e250\u001b\\\u001b[4;38;2;56;189;248mhttps://www.expectedparrot.com/home/remote-job-progress/67a8fd1a-681e-43c9-90b1-d7063e58e250\u001b[0m\u001b]8;;\u001b\\\n"
      ]
     },
     "metadata": {},
     "output_type": "display_data"
    },
    {
     "name": "stdout",
     "output_type": "stream",
     "text": [
      "Job completed and Results stored on Coop: https://www.expectedparrot.com/content/af3d5eee-0749-4478-90dd-c672310eb22b.\n"
     ]
    }
   ],
   "source": [
    "results = survey.by(agents).by(models).run()"
   ]
  },
  {
   "cell_type": "markdown",
   "id": "0dbbf5dc-fbf8-425f-b7e0-7546ef1957f2",
   "metadata": {
    "editable": true,
    "slideshow": {
     "slide_type": ""
    },
    "tags": []
   },
   "source": [
    "### Analyzing results\n",
    "EDSL comes with [built-in methods for analysis](https://docs.expectedparrot.com/en/latest/results.html).\n",
    "Here we inspect the responses in a table:"
   ]
  },
  {
   "cell_type": "code",
   "execution_count": 9,
   "id": "930a6316-7b15-4a9a-927f-514cd81ce859",
   "metadata": {
    "editable": true,
    "slideshow": {
     "slide_type": ""
    },
    "tags": []
   },
   "outputs": [
    {
     "data": {
      "text/html": [
       "\n",
       "        <style>\n",
       "            :root {\n",
       "  --containerHeight: 400px;\n",
       "  --headerColor: blue;\n",
       "}\n",
       "\n",
       ".table-container {\n",
       "    height: var(--containerHeight) !important;\n",
       "    width: 100%;\n",
       "    overflow: auto;  /* This enables both horizontal and vertical scrolling */\n",
       "    border: 1px solid #d4d4d4;\n",
       "    background: transparent;\n",
       "    position: relative;  /* Create stacking context for sticky header */\n",
       "}\n",
       "\n",
       ".scroll-table {\n",
       "    /* Remove width: 100% to prevent table from being constrained */\n",
       "    /* min-width: 100% ensures table takes at least full container width */\n",
       "    min-width: 100%;\n",
       "    border-collapse: separate;\n",
       "    border-spacing: 4px;\n",
       "    background: transparent;\n",
       "    table-layout: auto;  /* Allow table to size based on content */\n",
       "}\n",
       "\n",
       ".scroll-table th {\n",
       "    background: transparent;  /* Semi-transparent background to ensure text readability */\n",
       "    position: sticky;\n",
       "    top: 0;\n",
       "    z-index: 1;\n",
       "    text-align: left !important;\n",
       "    padding: 8px;\n",
       "    font-weight: bold;\n",
       "    white-space: nowrap;  /* Prevent header text from wrapping */\n",
       "    min-width: 100px;    /* Ensure minimum column width */\n",
       "    backdrop-filter: blur(8px);  /* Optional: adds extra clarity */\n",
       "    color: var(--headerColor);\n",
       "}\n",
       "\n",
       ".scroll-table td {\n",
       "    padding: 8px;\n",
       "    text-align: left !important;\n",
       "    white-space: pre-wrap;\n",
       "    word-wrap: break-word;\n",
       "    vertical-align: top;\n",
       "    color: inherit;\n",
       "    border-bottom: none;\n",
       "    background: transparent;\n",
       "    min-width: 100px;    /* Match header minimum width */\n",
       "}\n",
       "\n",
       ".scroll-table tbody tr:hover {\n",
       "    background: transparent;\n",
       "}\n",
       "\n",
       "/* Additional rule to ensure header background is truly transparent */\n",
       ".scroll-table thead tr {\n",
       "    background: transparent !important;\n",
       "}\n",
       "\n",
       "/* Add shadow to indicate scrollable content */\n",
       ".table-container::after {\n",
       "    content: '';\n",
       "    position: absolute;\n",
       "    top: 0;\n",
       "    right: 0;\n",
       "    bottom: 0;\n",
       "    width: 5px;\n",
       "    background: linear-gradient(to right, transparent, rgba(242, 6, 6, 0.1));\n",
       "    pointer-events: none;\n",
       "    opacity: 0;\n",
       "    transition: opacity 0.3s;\n",
       "}\n",
       "\n",
       ".table-container:hover::after {\n",
       "    opacity: 1;\n",
       "}\n",
       "\n",
       "/* Handle Jupyter notebook specific styling */\n",
       ".jp-OutputArea-output .table-container {\n",
       "    max-width: 100%;\n",
       "    margin: 0;\n",
       "    overflow-x: auto;\n",
       "}\n",
       "        </style>\n",
       "        <div class=\"table-container\">\n",
       "            <div class=\"scroll-table-wrapper\">\n",
       "                <table class=\"scroll-table\">\n",
       "<thead>\n",
       "<tr><th>model.model  </th><th>agent.persona                                                                                                                                                                       </th><th>answer.preferred_mode_commute  </th><th style=\"text-align: right;\">  answer.work_from_home</th></tr>\n",
       "</thead>\n",
       "<tbody>\n",
       "<tr><td>gpt-3.5-turbo</td><td>A theater manager or events coordinator interested in understanding the operational aspects, facilities, and programming of performing arts centers, such as the Broward Center.    </td><td>Car                            </td><td style=\"text-align: right;\">                      3</td></tr>\n",
       "<tr><td>gpt-4o       </td><td>A theater manager or events coordinator interested in understanding the operational aspects, facilities, and programming of performing arts centers, such as the Broward Center.    </td><td>Car                            </td><td style=\"text-align: right;\">                      2</td></tr>\n",
       "<tr><td>gpt-3.5-turbo</td><td>An urban planner looking to understand the distribution and organization of public services in the Halifax Regional Municipality.                                                   </td><td>Public transportation          </td><td style=\"text-align: right;\">                      3</td></tr>\n",
       "<tr><td>gpt-4o       </td><td>An urban planner looking to understand the distribution and organization of public services in the Halifax Regional Municipality.                                                   </td><td>Public transportation          </td><td style=\"text-align: right;\">                      5</td></tr>\n",
       "<tr><td>gpt-3.5-turbo</td><td>A high school literature teacher looking for supplementary materials to enrich their curriculum and provide students with a deeper understanding of their state&#x27;s cultural heritage.</td><td>Public transportation          </td><td style=\"text-align: right;\">                      3</td></tr>\n",
       "<tr><td>gpt-4o       </td><td>A high school literature teacher looking for supplementary materials to enrich their curriculum and provide students with a deeper understanding of their state&#x27;s cultural heritage.</td><td>Car                            </td><td style=\"text-align: right;\">                      3</td></tr>\n",
       "<tr><td>gpt-3.5-turbo</td><td>A science fiction writer, exploring the use of secret trials as a theme in stories that examine surveillance, privacy, and power dynamics in society.                               </td><td>Public transportation          </td><td style=\"text-align: right;\">                      3</td></tr>\n",
       "<tr><td>gpt-4o       </td><td>A science fiction writer, exploring the use of secret trials as a theme in stories that examine surveillance, privacy, and power dynamics in society.                               </td><td>Work from home                 </td><td style=\"text-align: right;\">                      5</td></tr>\n",
       "<tr><td>gpt-3.5-turbo</td><td>A financial analyst specializing in Asian markets and wealthy individuals, interested in tracking the investments and philanthropic activities of billionaires like Gerald Chan.    </td><td>Public transportation          </td><td style=\"text-align: right;\">                      4</td></tr>\n",
       "<tr><td>gpt-4o       </td><td>A financial analyst specializing in Asian markets and wealthy individuals, interested in tracking the investments and philanthropic activities of billionaires like Gerald Chan.    </td><td>Work from home                 </td><td style=\"text-align: right;\">                      4</td></tr>\n",
       "<tr><td>gpt-3.5-turbo</td><td>A high school physics teacher who enjoys applying physics concepts to various sports, curious about the effects of water resistance and body positioning in Paralympic swimming.    </td><td>Bike                           </td><td style=\"text-align: right;\">                      3</td></tr>\n",
       "<tr><td>gpt-4o       </td><td>A high school physics teacher who enjoys applying physics concepts to various sports, curious about the effects of water resistance and body positioning in Paralympic swimming.    </td><td>Bike                           </td><td style=\"text-align: right;\">                      3</td></tr>\n",
       "<tr><td>gpt-3.5-turbo</td><td>A high school physical education teacher seeking to incorporate Paralympic history and achievements into the curriculum to inspire and educate students about inclusivity in sports.</td><td>Public transportation          </td><td style=\"text-align: right;\">                      3</td></tr>\n",
       "<tr><td>gpt-4o       </td><td>A high school physical education teacher seeking to incorporate Paralympic history and achievements into the curriculum to inspire and educate students about inclusivity in sports.</td><td>Bike                           </td><td style=\"text-align: right;\">                      1</td></tr>\n",
       "<tr><td>gpt-3.5-turbo</td><td>A high school history teacher creating lesson plans on South American civilizations and their regional diversity.                                                                   </td><td>Public transportation          </td><td style=\"text-align: right;\">                      3</td></tr>\n",
       "<tr><td>gpt-4o       </td><td>A high school history teacher creating lesson plans on South American civilizations and their regional diversity.                                                                   </td><td>Car                            </td><td style=\"text-align: right;\">                      3</td></tr>\n",
       "<tr><td>gpt-3.5-turbo</td><td>A cultural anthropologist studying the representation and adaptation of traditional folklore in contemporary media, particularly in television and film.                            </td><td>Public transportation          </td><td style=\"text-align: right;\">                      3</td></tr>\n",
       "<tr><td>gpt-4o       </td><td>A cultural anthropologist studying the representation and adaptation of traditional folklore in contemporary media, particularly in television and film.                            </td><td>Work from home                 </td><td style=\"text-align: right;\">                      4</td></tr>\n",
       "<tr><td>gpt-3.5-turbo</td><td>A high school earth science teacher looking for real-world examples to explain climate zones, soil types, and human-environment interactions.                                       </td><td>Public transportation          </td><td style=\"text-align: right;\">                      3</td></tr>\n",
       "<tr><td>gpt-4o       </td><td>A high school earth science teacher looking for real-world examples to explain climate zones, soil types, and human-environment interactions.                                       </td><td>Car                            </td><td style=\"text-align: right;\">                      2</td></tr>\n",
       "</tbody>\n",
       "</table>\n",
       "            </div>\n",
       "        </div>\n",
       "        "
      ],
      "text/plain": [
       "Dataset([{'model.model': ['gpt-3.5-turbo', 'gpt-4o', 'gpt-3.5-turbo', 'gpt-4o', 'gpt-3.5-turbo', 'gpt-4o', 'gpt-3.5-turbo', 'gpt-4o', 'gpt-3.5-turbo', 'gpt-4o', 'gpt-3.5-turbo', 'gpt-4o', 'gpt-3.5-turbo', 'gpt-4o', 'gpt-3.5-turbo', 'gpt-4o', 'gpt-3.5-turbo', 'gpt-4o', 'gpt-3.5-turbo', 'gpt-4o']}, {'agent.persona': ['A theater manager or events coordinator interested in understanding the operational aspects, facilities, and programming of performing arts centers, such as the Broward Center.', 'A theater manager or events coordinator interested in understanding the operational aspects, facilities, and programming of performing arts centers, such as the Broward Center.', 'An urban planner looking to understand the distribution and organization of public services in the Halifax Regional Municipality.', 'An urban planner looking to understand the distribution and organization of public services in the Halifax Regional Municipality.', \"A high school literature teacher looking for supplementary materials to enrich their curriculum and provide students with a deeper understanding of their state's cultural heritage.\", \"A high school literature teacher looking for supplementary materials to enrich their curriculum and provide students with a deeper understanding of their state's cultural heritage.\", 'A science fiction writer, exploring the use of secret trials as a theme in stories that examine surveillance, privacy, and power dynamics in society.', 'A science fiction writer, exploring the use of secret trials as a theme in stories that examine surveillance, privacy, and power dynamics in society.', 'A financial analyst specializing in Asian markets and wealthy individuals, interested in tracking the investments and philanthropic activities of billionaires like Gerald Chan.', 'A financial analyst specializing in Asian markets and wealthy individuals, interested in tracking the investments and philanthropic activities of billionaires like Gerald Chan.', 'A high school physics teacher who enjoys applying physics concepts to various sports, curious about the effects of water resistance and body positioning in Paralympic swimming.', 'A high school physics teacher who enjoys applying physics concepts to various sports, curious about the effects of water resistance and body positioning in Paralympic swimming.', 'A high school physical education teacher seeking to incorporate Paralympic history and achievements into the curriculum to inspire and educate students about inclusivity in sports.', 'A high school physical education teacher seeking to incorporate Paralympic history and achievements into the curriculum to inspire and educate students about inclusivity in sports.', 'A high school history teacher creating lesson plans on South American civilizations and their regional diversity.', 'A high school history teacher creating lesson plans on South American civilizations and their regional diversity.', 'A cultural anthropologist studying the representation and adaptation of traditional folklore in contemporary media, particularly in television and film.', 'A cultural anthropologist studying the representation and adaptation of traditional folklore in contemporary media, particularly in television and film.', 'A high school earth science teacher looking for real-world examples to explain climate zones, soil types, and human-environment interactions.', 'A high school earth science teacher looking for real-world examples to explain climate zones, soil types, and human-environment interactions.']}, {'answer.preferred_mode_commute': ['Car', 'Car', 'Public transportation', 'Public transportation', 'Public transportation', 'Car', 'Public transportation', 'Work from home', 'Public transportation', 'Work from home', 'Bike', 'Bike', 'Public transportation', 'Bike', 'Public transportation', 'Car', 'Public transportation', 'Work from home', 'Public transportation', 'Car']}, {'answer.work_from_home': [3, 2, 3, 5, 3, 3, 3, 5, 4, 4, 3, 3, 3, 1, 3, 3, 3, 4, 3, 2]}])"
      ]
     },
     "execution_count": 9,
     "metadata": {},
     "output_type": "execute_result"
    }
   ],
   "source": [
    "results.select(\"model\", \"persona\", \"preferred_mode_commute\", \"work_from_home\")"
   ]
  },
  {
   "cell_type": "markdown",
   "id": "e2fc6367-9370-450e-a6b7-b15f6907bfb2",
   "metadata": {
    "editable": true,
    "slideshow": {
     "slide_type": ""
    },
    "tags": []
   },
   "source": [
    "### Constructing traits\n",
    "In comparing model responses it can be convenient to include shortnames for traits in addition to narrative personas--e.g., just the name of the agent's occupation, age, etc. Here we run a question to extract the occupation from each persona in order to store it as a separate `trait` of each agent. We use `Scenario` objects to represent the data (personas) that we add to the question when we run it. [Learn more about using scenarios](https://docs.expectedparrot.com/en/latest/scenarios.html) to parameterize questions with data and context."
   ]
  },
  {
   "cell_type": "code",
   "execution_count": 10,
   "id": "ae397e67-ed35-4f5d-9d58-20e89b1151f8",
   "metadata": {
    "editable": true,
    "slideshow": {
     "slide_type": ""
    },
    "tags": []
   },
   "outputs": [],
   "source": [
    "from edsl import QuestionExtract\n",
    "\n",
    "q = QuestionExtract(\n",
    "    question_name = \"occupation\",\n",
    "    question_text = \"{{ persona }}\",\n",
    "    answer_template = {\"occupation\":\"artist\"} \n",
    ")"
   ]
  },
  {
   "cell_type": "markdown",
   "id": "9fbc2fbe-64c7-4dec-8a7d-5f7ded6c960b",
   "metadata": {
    "editable": true,
    "slideshow": {
     "slide_type": ""
    },
    "tags": []
   },
   "source": [
    "Creating scenarios for the personas in order to add them to the question:"
   ]
  },
  {
   "cell_type": "code",
   "execution_count": 11,
   "id": "5728dcf0-49da-45a0-b892-05f48b63efb5",
   "metadata": {
    "editable": true,
    "slideshow": {
     "slide_type": ""
    },
    "tags": []
   },
   "outputs": [],
   "source": [
    "from edsl import ScenarioList\n",
    "\n",
    "scenarios = ScenarioList.from_list(\"persona\", personas_list)"
   ]
  },
  {
   "cell_type": "code",
   "execution_count": 12,
   "id": "4cf7023f-6ab8-4c1e-b1af-1a311ac8c3dd",
   "metadata": {
    "editable": true,
    "slideshow": {
     "slide_type": ""
    },
    "tags": []
   },
   "outputs": [
    {
     "name": "stdout",
     "output_type": "stream",
     "text": [
      "Remote inference activated. Sending job to server...\n",
      "Job sent to server. (Job uuid=2d35c658-63f7-4c76-88fe-38418cf8f099).\n"
     ]
    },
    {
     "data": {
      "text/html": [
       "<pre style=\"white-space:pre;overflow-x:auto;line-height:normal;font-family:Menlo,'DejaVu Sans Mono',consolas,'Courier New',monospace\">View job progress here: \n",
       "<a href=\"https://www.expectedparrot.com/home/remote-job-progress/2d35c658-63f7-4c76-88fe-38418cf8f099\" target=\"_blank\"><span style=\"color: #38bdf8; text-decoration-color: #38bdf8; text-decoration: underline\">https://www.expectedparrot.com/home/remote-job-progress/2d35c658-63f7-4c76-88fe-38418cf8f099</span></a>\n",
       "</pre>\n"
      ],
      "text/plain": [
       "View job progress here: \n",
       "\u001b]8;id=612288;https://www.expectedparrot.com/home/remote-job-progress/2d35c658-63f7-4c76-88fe-38418cf8f099\u001b\\\u001b[4;38;2;56;189;248mhttps://www.expectedparrot.com/home/remote-job-progress/2d35c658-63f7-4c76-88fe-38418cf8f099\u001b[0m\u001b]8;;\u001b\\\n"
      ]
     },
     "metadata": {},
     "output_type": "display_data"
    },
    {
     "name": "stdout",
     "output_type": "stream",
     "text": [
      "Job completed and Results stored on Coop: https://www.expectedparrot.com/content/57d74ceb-b7f6-415c-b751-572b922105ba.\n"
     ]
    }
   ],
   "source": [
    "results = q.by(scenarios).run()"
   ]
  },
  {
   "cell_type": "code",
   "execution_count": 13,
   "id": "a32a97e9-7061-436d-8a49-5479b758a9e0",
   "metadata": {
    "editable": true,
    "slideshow": {
     "slide_type": ""
    },
    "tags": []
   },
   "outputs": [
    {
     "data": {
      "text/html": [
       "\n",
       "        <style>\n",
       "            :root {\n",
       "  --containerHeight: 350px;\n",
       "  --headerColor: blue;\n",
       "}\n",
       "\n",
       ".table-container {\n",
       "    height: var(--containerHeight) !important;\n",
       "    width: 100%;\n",
       "    overflow: auto;  /* This enables both horizontal and vertical scrolling */\n",
       "    border: 1px solid #d4d4d4;\n",
       "    background: transparent;\n",
       "    position: relative;  /* Create stacking context for sticky header */\n",
       "}\n",
       "\n",
       ".scroll-table {\n",
       "    /* Remove width: 100% to prevent table from being constrained */\n",
       "    /* min-width: 100% ensures table takes at least full container width */\n",
       "    min-width: 100%;\n",
       "    border-collapse: separate;\n",
       "    border-spacing: 4px;\n",
       "    background: transparent;\n",
       "    table-layout: auto;  /* Allow table to size based on content */\n",
       "}\n",
       "\n",
       ".scroll-table th {\n",
       "    background: transparent;  /* Semi-transparent background to ensure text readability */\n",
       "    position: sticky;\n",
       "    top: 0;\n",
       "    z-index: 1;\n",
       "    text-align: left !important;\n",
       "    padding: 8px;\n",
       "    font-weight: bold;\n",
       "    white-space: nowrap;  /* Prevent header text from wrapping */\n",
       "    min-width: 100px;    /* Ensure minimum column width */\n",
       "    backdrop-filter: blur(8px);  /* Optional: adds extra clarity */\n",
       "    color: var(--headerColor);\n",
       "}\n",
       "\n",
       ".scroll-table td {\n",
       "    padding: 8px;\n",
       "    text-align: left !important;\n",
       "    white-space: pre-wrap;\n",
       "    word-wrap: break-word;\n",
       "    vertical-align: top;\n",
       "    color: inherit;\n",
       "    border-bottom: none;\n",
       "    background: transparent;\n",
       "    min-width: 100px;    /* Match header minimum width */\n",
       "}\n",
       "\n",
       ".scroll-table tbody tr:hover {\n",
       "    background: transparent;\n",
       "}\n",
       "\n",
       "/* Additional rule to ensure header background is truly transparent */\n",
       ".scroll-table thead tr {\n",
       "    background: transparent !important;\n",
       "}\n",
       "\n",
       "/* Add shadow to indicate scrollable content */\n",
       ".table-container::after {\n",
       "    content: '';\n",
       "    position: absolute;\n",
       "    top: 0;\n",
       "    right: 0;\n",
       "    bottom: 0;\n",
       "    width: 5px;\n",
       "    background: linear-gradient(to right, transparent, rgba(242, 6, 6, 0.1));\n",
       "    pointer-events: none;\n",
       "    opacity: 0;\n",
       "    transition: opacity 0.3s;\n",
       "}\n",
       "\n",
       ".table-container:hover::after {\n",
       "    opacity: 1;\n",
       "}\n",
       "\n",
       "/* Handle Jupyter notebook specific styling */\n",
       ".jp-OutputArea-output .table-container {\n",
       "    max-width: 100%;\n",
       "    margin: 0;\n",
       "    overflow-x: auto;\n",
       "}\n",
       "        </style>\n",
       "        <div class=\"table-container\">\n",
       "            <div class=\"scroll-table-wrapper\">\n",
       "                <table class=\"scroll-table\">\n",
       "<thead>\n",
       "<tr><th>scenario.persona                                                                                                                                                                    </th><th>answer.occupation                                      </th></tr>\n",
       "</thead>\n",
       "<tbody>\n",
       "<tr><td>A theater manager or events coordinator interested in understanding the operational aspects, facilities, and programming of performing arts centers, such as the Broward Center.    </td><td>{&#x27;occupation&#x27;: &#x27;theater manager or events coordinator&#x27;}</td></tr>\n",
       "<tr><td>An urban planner looking to understand the distribution and organization of public services in the Halifax Regional Municipality.                                                   </td><td>{&#x27;occupation&#x27;: &#x27;urban planner&#x27;}                        </td></tr>\n",
       "<tr><td>A high school literature teacher looking for supplementary materials to enrich their curriculum and provide students with a deeper understanding of their state&#x27;s cultural heritage.</td><td>{&#x27;occupation&#x27;: &#x27;high school literature teacher&#x27;}       </td></tr>\n",
       "<tr><td>A science fiction writer, exploring the use of secret trials as a theme in stories that examine surveillance, privacy, and power dynamics in society.                               </td><td>{&#x27;occupation&#x27;: &#x27;science fiction writer&#x27;}               </td></tr>\n",
       "<tr><td>A financial analyst specializing in Asian markets and wealthy individuals, interested in tracking the investments and philanthropic activities of billionaires like Gerald Chan.    </td><td>{&#x27;occupation&#x27;: &#x27;financial analyst&#x27;}                    </td></tr>\n",
       "<tr><td>A high school physics teacher who enjoys applying physics concepts to various sports, curious about the effects of water resistance and body positioning in Paralympic swimming.    </td><td>{&#x27;occupation&#x27;: &#x27;high school physics teacher&#x27;}          </td></tr>\n",
       "<tr><td>A high school physical education teacher seeking to incorporate Paralympic history and achievements into the curriculum to inspire and educate students about inclusivity in sports.</td><td>{&#x27;occupation&#x27;: &#x27;physical education teacher&#x27;}           </td></tr>\n",
       "<tr><td>A high school history teacher creating lesson plans on South American civilizations and their regional diversity.                                                                   </td><td>{&#x27;occupation&#x27;: &#x27;high school history teacher&#x27;}          </td></tr>\n",
       "<tr><td>A cultural anthropologist studying the representation and adaptation of traditional folklore in contemporary media, particularly in television and film.                            </td><td>{&#x27;occupation&#x27;: &#x27;cultural anthropologist&#x27;}              </td></tr>\n",
       "<tr><td>A high school earth science teacher looking for real-world examples to explain climate zones, soil types, and human-environment interactions.                                       </td><td>{&#x27;occupation&#x27;: &#x27;high school earth science teacher&#x27;}    </td></tr>\n",
       "</tbody>\n",
       "</table>\n",
       "            </div>\n",
       "        </div>\n",
       "        "
      ],
      "text/plain": [
       "Dataset([{'scenario.persona': ['A theater manager or events coordinator interested in understanding the operational aspects, facilities, and programming of performing arts centers, such as the Broward Center.', 'An urban planner looking to understand the distribution and organization of public services in the Halifax Regional Municipality.', \"A high school literature teacher looking for supplementary materials to enrich their curriculum and provide students with a deeper understanding of their state's cultural heritage.\", 'A science fiction writer, exploring the use of secret trials as a theme in stories that examine surveillance, privacy, and power dynamics in society.', 'A financial analyst specializing in Asian markets and wealthy individuals, interested in tracking the investments and philanthropic activities of billionaires like Gerald Chan.', 'A high school physics teacher who enjoys applying physics concepts to various sports, curious about the effects of water resistance and body positioning in Paralympic swimming.', 'A high school physical education teacher seeking to incorporate Paralympic history and achievements into the curriculum to inspire and educate students about inclusivity in sports.', 'A high school history teacher creating lesson plans on South American civilizations and their regional diversity.', 'A cultural anthropologist studying the representation and adaptation of traditional folklore in contemporary media, particularly in television and film.', 'A high school earth science teacher looking for real-world examples to explain climate zones, soil types, and human-environment interactions.']}, {'answer.occupation': [{'occupation': 'theater manager or events coordinator'}, {'occupation': 'urban planner'}, {'occupation': 'high school literature teacher'}, {'occupation': 'science fiction writer'}, {'occupation': 'financial analyst'}, {'occupation': 'high school physics teacher'}, {'occupation': 'physical education teacher'}, {'occupation': 'high school history teacher'}, {'occupation': 'cultural anthropologist'}, {'occupation': 'high school earth science teacher'}]}])"
      ]
     },
     "execution_count": 13,
     "metadata": {},
     "output_type": "execute_result"
    }
   ],
   "source": [
    "results.select(\"persona\", \"occupation\")"
   ]
  },
  {
   "cell_type": "markdown",
   "id": "df63f2e6-1410-4431-af36-0dec6be935ea",
   "metadata": {
    "editable": true,
    "slideshow": {
     "slide_type": ""
    },
    "tags": []
   },
   "source": [
    "### Designing agents\n",
    "Here we recreate agents with both the personas and occupations as traits:"
   ]
  },
  {
   "cell_type": "code",
   "execution_count": 14,
   "id": "793c7c08-8541-4d08-ab13-f9bae09d0f44",
   "metadata": {
    "editable": true,
    "slideshow": {
     "slide_type": ""
    },
    "tags": []
   },
   "outputs": [
    {
     "data": {
      "text/plain": [
       "['theater manager or events coordinator',\n",
       " 'urban planner',\n",
       " 'high school literature teacher',\n",
       " 'science fiction writer',\n",
       " 'financial analyst',\n",
       " 'high school physics teacher',\n",
       " 'physical education teacher',\n",
       " 'high school history teacher',\n",
       " 'cultural anthropologist',\n",
       " 'high school earth science teacher']"
      ]
     },
     "execution_count": 14,
     "metadata": {},
     "output_type": "execute_result"
    }
   ],
   "source": [
    "occupations_list = [o['occupation'] for o in results.select(\"occupation\").to_list()]\n",
    "occupations_list"
   ]
  },
  {
   "cell_type": "code",
   "execution_count": 15,
   "id": "852185c0-e314-4a17-8758-ccf81f267af7",
   "metadata": {
    "editable": true,
    "slideshow": {
     "slide_type": ""
    },
    "tags": []
   },
   "outputs": [],
   "source": [
    "t = list(zip(personas_list, occupations_list))"
   ]
  },
  {
   "cell_type": "code",
   "execution_count": 16,
   "id": "5871d656-1b84-412b-b8fd-780b714a99e7",
   "metadata": {
    "editable": true,
    "slideshow": {
     "slide_type": ""
    },
    "tags": []
   },
   "outputs": [],
   "source": [
    "from edsl import AgentList, Agent\n",
    "\n",
    "agents = AgentList(\n",
    "    Agent(traits = {\"persona\":p, \"occupation\":o}) for p,o in t\n",
    ")"
   ]
  },
  {
   "cell_type": "markdown",
   "id": "54673d68-5167-4e42-8f77-e1eff1b5d48c",
   "metadata": {
    "editable": true,
    "slideshow": {
     "slide_type": ""
    },
    "tags": []
   },
   "source": [
    "### Running a survey\n",
    "Here we rerun the survey and then filter and sort results by agent traits:"
   ]
  },
  {
   "cell_type": "code",
   "execution_count": 17,
   "id": "67197072-2914-4de4-b104-f4633358dfb0",
   "metadata": {
    "editable": true,
    "slideshow": {
     "slide_type": ""
    },
    "tags": []
   },
   "outputs": [
    {
     "name": "stdout",
     "output_type": "stream",
     "text": [
      "Remote inference activated. Sending job to server...\n",
      "Job sent to server. (Job uuid=5942e671-2078-4134-879a-e16c95df86ce).\n"
     ]
    },
    {
     "data": {
      "text/html": [
       "<pre style=\"white-space:pre;overflow-x:auto;line-height:normal;font-family:Menlo,'DejaVu Sans Mono',consolas,'Courier New',monospace\">View job progress here: \n",
       "<a href=\"https://www.expectedparrot.com/home/remote-job-progress/5942e671-2078-4134-879a-e16c95df86ce\" target=\"_blank\"><span style=\"color: #38bdf8; text-decoration-color: #38bdf8; text-decoration: underline\">https://www.expectedparrot.com/home/remote-job-progress/5942e671-2078-4134-879a-e16c95df86ce</span></a>\n",
       "</pre>\n"
      ],
      "text/plain": [
       "View job progress here: \n",
       "\u001b]8;id=735401;https://www.expectedparrot.com/home/remote-job-progress/5942e671-2078-4134-879a-e16c95df86ce\u001b\\\u001b[4;38;2;56;189;248mhttps://www.expectedparrot.com/home/remote-job-progress/5942e671-2078-4134-879a-e16c95df86ce\u001b[0m\u001b]8;;\u001b\\\n"
      ]
     },
     "metadata": {},
     "output_type": "display_data"
    },
    {
     "name": "stdout",
     "output_type": "stream",
     "text": [
      "Job completed and Results stored on Coop: https://www.expectedparrot.com/content/c1e050f3-d47e-4ded-8093-f2670fc51262.\n"
     ]
    }
   ],
   "source": [
    "results = survey.by(agents).by(models).run()"
   ]
  },
  {
   "cell_type": "code",
   "execution_count": 18,
   "id": "146b105e-0fdc-49b8-b706-424a53eaeaa9",
   "metadata": {
    "editable": true,
    "slideshow": {
     "slide_type": ""
    },
    "tags": []
   },
   "outputs": [
    {
     "data": {
      "text/html": [
       "\n",
       "        <style>\n",
       "            :root {\n",
       "  --containerHeight: 350px;\n",
       "  --headerColor: blue;\n",
       "}\n",
       "\n",
       ".table-container {\n",
       "    height: var(--containerHeight) !important;\n",
       "    width: 100%;\n",
       "    overflow: auto;  /* This enables both horizontal and vertical scrolling */\n",
       "    border: 1px solid #d4d4d4;\n",
       "    background: transparent;\n",
       "    position: relative;  /* Create stacking context for sticky header */\n",
       "}\n",
       "\n",
       ".scroll-table {\n",
       "    /* Remove width: 100% to prevent table from being constrained */\n",
       "    /* min-width: 100% ensures table takes at least full container width */\n",
       "    min-width: 100%;\n",
       "    border-collapse: separate;\n",
       "    border-spacing: 4px;\n",
       "    background: transparent;\n",
       "    table-layout: auto;  /* Allow table to size based on content */\n",
       "}\n",
       "\n",
       ".scroll-table th {\n",
       "    background: transparent;  /* Semi-transparent background to ensure text readability */\n",
       "    position: sticky;\n",
       "    top: 0;\n",
       "    z-index: 1;\n",
       "    text-align: left !important;\n",
       "    padding: 8px;\n",
       "    font-weight: bold;\n",
       "    white-space: nowrap;  /* Prevent header text from wrapping */\n",
       "    min-width: 100px;    /* Ensure minimum column width */\n",
       "    backdrop-filter: blur(8px);  /* Optional: adds extra clarity */\n",
       "    color: var(--headerColor);\n",
       "}\n",
       "\n",
       ".scroll-table td {\n",
       "    padding: 8px;\n",
       "    text-align: left !important;\n",
       "    white-space: pre-wrap;\n",
       "    word-wrap: break-word;\n",
       "    vertical-align: top;\n",
       "    color: inherit;\n",
       "    border-bottom: none;\n",
       "    background: transparent;\n",
       "    min-width: 100px;    /* Match header minimum width */\n",
       "}\n",
       "\n",
       ".scroll-table tbody tr:hover {\n",
       "    background: transparent;\n",
       "}\n",
       "\n",
       "/* Additional rule to ensure header background is truly transparent */\n",
       ".scroll-table thead tr {\n",
       "    background: transparent !important;\n",
       "}\n",
       "\n",
       "/* Add shadow to indicate scrollable content */\n",
       ".table-container::after {\n",
       "    content: '';\n",
       "    position: absolute;\n",
       "    top: 0;\n",
       "    right: 0;\n",
       "    bottom: 0;\n",
       "    width: 5px;\n",
       "    background: linear-gradient(to right, transparent, rgba(242, 6, 6, 0.1));\n",
       "    pointer-events: none;\n",
       "    opacity: 0;\n",
       "    transition: opacity 0.3s;\n",
       "}\n",
       "\n",
       ".table-container:hover::after {\n",
       "    opacity: 1;\n",
       "}\n",
       "\n",
       "/* Handle Jupyter notebook specific styling */\n",
       ".jp-OutputArea-output .table-container {\n",
       "    max-width: 100%;\n",
       "    margin: 0;\n",
       "    overflow-x: auto;\n",
       "}\n",
       "        </style>\n",
       "        <div class=\"table-container\">\n",
       "            <div class=\"scroll-table-wrapper\">\n",
       "                <table class=\"scroll-table\">\n",
       "<thead>\n",
       "<tr><th>model.model  </th><th>agent.occupation                     </th><th>answer.preferred_mode_commute  </th><th style=\"text-align: right;\">  answer.work_from_home</th></tr>\n",
       "</thead>\n",
       "<tbody>\n",
       "<tr><td>gpt-4o       </td><td>science fiction writer               </td><td>Work from home                 </td><td style=\"text-align: right;\">                      5</td></tr>\n",
       "<tr><td>gpt-4o       </td><td>financial analyst                    </td><td>Work from home                 </td><td style=\"text-align: right;\">                      5</td></tr>\n",
       "<tr><td>gpt-4o       </td><td>urban planner                        </td><td>Bike                           </td><td style=\"text-align: right;\">                      4</td></tr>\n",
       "<tr><td>gpt-4o       </td><td>cultural anthropologist              </td><td>Public transportation          </td><td style=\"text-align: right;\">                      4</td></tr>\n",
       "<tr><td>gpt-4o       </td><td>high school literature teacher       </td><td>Car                            </td><td style=\"text-align: right;\">                      3</td></tr>\n",
       "<tr><td>gpt-4o       </td><td>high school physics teacher          </td><td>Bike                           </td><td style=\"text-align: right;\">                      3</td></tr>\n",
       "<tr><td>gpt-4o       </td><td>high school history teacher          </td><td>Car                            </td><td style=\"text-align: right;\">                      3</td></tr>\n",
       "<tr><td>gpt-4o       </td><td>theater manager or events coordinator</td><td>Car                            </td><td style=\"text-align: right;\">                      2</td></tr>\n",
       "<tr><td>gpt-4o       </td><td>high school earth science teacher    </td><td>Car                            </td><td style=\"text-align: right;\">                      2</td></tr>\n",
       "<tr><td>gpt-4o       </td><td>physical education teacher           </td><td>Bike                           </td><td style=\"text-align: right;\">                      1</td></tr>\n",
       "</tbody>\n",
       "</table>\n",
       "            </div>\n",
       "        </div>\n",
       "        "
      ],
      "text/plain": [
       "Dataset([{'model.model': ['gpt-4o', 'gpt-4o', 'gpt-4o', 'gpt-4o', 'gpt-4o', 'gpt-4o', 'gpt-4o', 'gpt-4o', 'gpt-4o', 'gpt-4o']}, {'agent.occupation': ['science fiction writer', 'financial analyst', 'urban planner', 'cultural anthropologist', 'high school literature teacher', 'high school physics teacher', 'high school history teacher', 'theater manager or events coordinator', 'high school earth science teacher', 'physical education teacher']}, {'answer.preferred_mode_commute': ['Work from home', 'Work from home', 'Bike', 'Public transportation', 'Car', 'Bike', 'Car', 'Car', 'Car', 'Bike']}, {'answer.work_from_home': [5, 5, 4, 4, 3, 3, 3, 2, 2, 1]}])"
      ]
     },
     "execution_count": 18,
     "metadata": {},
     "output_type": "execute_result"
    }
   ],
   "source": [
    "(\n",
    "    results\n",
    "    .filter(\"model.model == 'gpt-4o'\")\n",
    "    .sort_by(\"work_from_home\", reverse=True)\n",
    "    .select(\"model\", \"occupation\", \"preferred_mode_commute\", \"work_from_home\")\n",
    ")"
   ]
  },
  {
   "cell_type": "markdown",
   "id": "e810f8ff-fb8d-4b5b-bf91-98e89c6824ea",
   "metadata": {
    "editable": true,
    "slideshow": {
     "slide_type": ""
    },
    "tags": []
   },
   "source": [
    "### Posting to the Coop\n",
    "The [Coop](https://www.expectedparrot.com/content/explore) is a platform for creating, storing and sharing LLM-based research.\n",
    "It is fully integrated with EDSL and accessible from your workspace or Coop account page.\n",
    "Learn more about [creating an account](https://www.expectedparrot.com/login) and [using the Coop](https://docs.expectedparrot.com/en/latest/coop.html).\n",
    "\n",
    "Here we demonstrate how to post this notebook:"
   ]
  },
  {
   "cell_type": "code",
   "execution_count": 19,
   "id": "25efb9ff-49ce-4f52-b84e-05fd7b349e5b",
   "metadata": {
    "editable": true,
    "slideshow": {
     "slide_type": ""
    },
    "tags": [
     "skip-execution"
    ]
   },
   "outputs": [],
   "source": [
    "from edsl import Notebook"
   ]
  },
  {
   "cell_type": "code",
   "execution_count": 21,
   "id": "9bf16347-c268-4904-b7c6-bef0e7d33a6e",
   "metadata": {
    "editable": true,
    "slideshow": {
     "slide_type": ""
    },
    "tags": [
     "skip-execution"
    ]
   },
   "outputs": [],
   "source": [
    "n = Notebook(path = \"import_agents.ipynb\")"
   ]
  },
  {
   "cell_type": "code",
   "execution_count": 22,
   "id": "5ca9d27f-9925-41b3-9688-4104402841b6",
   "metadata": {
    "editable": true,
    "slideshow": {
     "slide_type": ""
    },
    "tags": [
     "skip-execution"
    ]
   },
   "outputs": [
    {
     "data": {
      "text/plain": [
       "{'description': 'Importing agents',\n",
       " 'object_type': 'notebook',\n",
       " 'url': 'https://www.expectedparrot.com/content/f4ca8545-49d5-4d6a-a017-32ff16c2615f',\n",
       " 'uuid': 'f4ca8545-49d5-4d6a-a017-32ff16c2615f',\n",
       " 'version': '0.1.38.dev1',\n",
       " 'visibility': 'public'}"
      ]
     },
     "execution_count": 22,
     "metadata": {},
     "output_type": "execute_result"
    }
   ],
   "source": [
    "n.push(description = \"Importing agents\", visibility = \"public\")"
   ]
  },
  {
   "cell_type": "markdown",
   "id": "f372cfb2-08c4-4cc3-aafe-c61ab228cb6d",
   "metadata": {},
   "source": [
    "To update a notebook:"
   ]
  },
  {
   "cell_type": "code",
   "execution_count": 23,
   "id": "42120fde-c3ee-4e59-a482-fb4832a696d8",
   "metadata": {
    "editable": true,
    "slideshow": {
     "slide_type": ""
    },
    "tags": [
     "skip-execution"
    ]
   },
   "outputs": [
    {
     "data": {
      "text/plain": [
       "{'status': 'success'}"
      ]
     },
     "execution_count": 23,
     "metadata": {},
     "output_type": "execute_result"
    }
   ],
   "source": [
    "n = Notebook(path = \"import_agents.ipynb\")\n",
    "\n",
    "n.patch(uuid = \"f4ca8545-49d5-4d6a-a017-32ff16c2615f\", value = n)"
   ]
  }
 ],
 "metadata": {
  "kernelspec": {
   "display_name": "Python 3 (ipykernel)",
   "language": "python",
   "name": "python3"
  },
  "language_info": {
   "codemirror_mode": {
    "name": "ipython",
    "version": 3
   },
   "file_extension": ".py",
   "mimetype": "text/x-python",
   "name": "python",
   "nbconvert_exporter": "python",
   "pygments_lexer": "ipython3",
   "version": "3.11.7"
  }
 },
 "nbformat": 4,
 "nbformat_minor": 5
}
