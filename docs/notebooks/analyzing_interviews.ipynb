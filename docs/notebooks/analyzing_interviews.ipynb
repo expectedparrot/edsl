{
 "cells": [
  {
   "cell_type": "markdown",
   "id": "0ba1995f-ef02-4bc8-85ee-3477269cfd5d",
   "metadata": {
    "editable": true,
    "slideshow": {
     "slide_type": ""
    },
    "tags": []
   },
   "source": [
    "# Analyzing interviews\n",
    "This notebook provides sample [EDSL](https://docs.expectedparrot.com/) code for using a language model to analyze themes and other qualitative content in interviews. The task is designed as a survey about a set of interview transcripts that is answered by a language model, generating responses in the form of a summary dataset.\n",
    "\n",
    "[EDSL is an open-source library](https://github.com/expectedparrot/edsl) for simulating surveys, experiments and other research with AI agents and large language models. \n",
    "Before running the code below, please ensure that you have [installed the EDSL library](https://docs.expectedparrot.com/en/latest/installation.html) and either [activated remote inference](https://docs.expectedparrot.com/en/latest/remote_inference.html) from your [Coop account](https://docs.expectedparrot.com/en/latest/coop.html) or [stored API keys](https://docs.expectedparrot.com/en/latest/api_keys.html) for the language models that you want to use with EDSL. Please also see our [documentation page](https://docs.expectedparrot.com/) for tips and tutorials on getting started using EDSL."
   ]
  },
  {
   "cell_type": "markdown",
   "id": "f32750af-d7dc-4d3e-8005-7f4f8b1d9f72",
   "metadata": {
    "editable": true,
    "slideshow": {
     "slide_type": ""
    },
    "tags": []
   },
   "source": [
    "## Example\n",
    "Say we have a set of exit interview transcripts:"
   ]
  },
  {
   "cell_type": "code",
   "execution_count": 1,
   "id": "0c868e83-5596-4ee9-9756-eda3062fdd33",
   "metadata": {
    "editable": true,
    "slideshow": {
     "slide_type": ""
    },
    "tags": []
   },
   "outputs": [],
   "source": [
    "exit_interviews = {\n",
    "    \"id\": [\n",
    "        1, 2, 3, 4, 5, 6, 7, 8, 9, 10,\n",
    "        11, 12, 13, 14, 15, 16, 17, 18, 19, 20\n",
    "    ],\n",
    "    \"transcript\": [\n",
    "        \"HR Manager: Thank you for meeting with me today. What prompted you to start looking for a new job? Employee: I felt the career advancement opportunities here were quite limited, which has led me to look for roles where I can climb the ladder more quickly.\",\n",
    "        \"HR Manager: We're sorry to see you go. Could you share how you felt about the team dynamics here? Employee: The team was fantastic, very supportive. However, the work-life balance was lacking, which is why I've decided to move on.\",\n",
    "        \"HR Manager: As you leave, what improvements would you suggest for our company? Employee: I think the company could improve its remote work policies to offer more flexibility, which is crucial nowadays.\",\n",
    "        \"HR Manager: Can you describe your satisfaction with your role and responsibilities? Employee: Initially, I was satisfied, but over time, I felt my skills were underutilized, which has led to a decrease in my job satisfaction.\",\n",
    "        \"HR Manager: What's the main reason for leaving the company? Employee: I'm looking for new challenges and a change of environment to spark my creativity again, which I felt was stagnating here.\",\n",
    "        \"HR Manager: How do you feel about the management style at our company? Employee: The management style is a bit too micromanaging for me, which sometimes hampers my ability to work effectively.\",\n",
    "        \"HR Manager: What could have been done differently to improve your experience with us? Employee: More recognition and rewards would have been appreciated. I often felt that my hard work went unnoticed.\",\n",
    "        \"HR Manager: What did you appreciate the most during your time here? Employee: I really appreciated the learning opportunities and professional development workshops offered by the company.\",\n",
    "        \"HR Manager: Do you feel the company's policies supported your work and personal growth? Employee: To some extent, yes, but I believe the policies on performance evaluations could be more transparent.\",\n",
    "        \"HR Manager: Is there anything else you'd like to add about how the company could improve? Employee: I think the company would benefit from more open communication between different departments to streamline projects.\",\n",
    "        \"HR Manager: How did you find our company culture? Employee: The culture is good, very collaborative, but it could be less competitive to reduce stress among team members.\",\n",
    "        \"HR Manager: Did the company's vision align with your professional goals? Employee: Initially, it did, but as the company shifted focus, I found it less aligned with my career aspirations.\",\n",
    "        \"HR Manager: Were there any policies that you found particularly beneficial or restrictive? Employee: The education reimbursement policy was beneficial, but the travel policies were a bit restrictive and outdated.\",\n",
    "        \"HR Manager: What are your thoughts on the company's diversity and inclusion efforts? Employee: It's commendable but could definitely be pushed further to create a more inclusive environment.\",\n",
    "        \"HR Manager: Can you elaborate on why you feel the need to move on? Employee: I'm seeking a role that offers a higher level of responsibility and more direct impact on strategic decisions.\",\n",
    "        \"HR Manager: What feedback do you have about our HR policies? Employee: The HR policies are thorough, but sometimes they are too rigid, which can make adapting to unforeseen circumstances difficult.\",\n",
    "        \"HR Manager: How would you describe your overall job satisfaction here? Employee: My job satisfaction was high for the most part, but there were instances where I felt more support from management could have improved my experience.\",\n",
    "        \"HR Manager: Did you feel that your achievements were recognized appropriately? Employee: Not always, which is why I think an improved feedback system could help employees feel more valued.\",\n",
    "        \"HR Manager: What could we do to retain talent like yourself? Employee: Offering competitive salaries and clearer paths for advancement might help retain employees who are seeking growth.\",\n",
    "        \"HR Manager: Thank you for your honesty. We'll certainly take your feedback into consideration to improve. Employee: Thank you, I hope my feedback helps in making this a better workplace.\"\n",
    "    ]\n",
    "}"
   ]
  },
  {
   "cell_type": "markdown",
   "id": "b86f60cb-f95f-47c4-acb0-35e833d2d39b",
   "metadata": {
    "editable": true,
    "slideshow": {
     "slide_type": ""
    },
    "tags": []
   },
   "source": [
    "We want to summarize and quantify the themes and other qualitative content in the interviews. Simple word searches will not suffice, and we do not have bandwidth do this task manually. \n",
    "\n",
    "EDSL provides a time- and expense-saving alternative solution: we can use an AI agent to read the transcripts, identify the things that we want to extract from or know about the interviews, and then summarize and quantifying them across the interviews. \n",
    "\n",
    "## Designing an AI agent\n",
    "We start by creating an `Agent` and passing it `traits` that are relevant to the task. We can also include any special instructions:"
   ]
  },
  {
   "cell_type": "code",
   "execution_count": 2,
   "id": "874756ef-9605-4dde-b3ba-12834a5f9f42",
   "metadata": {
    "editable": true,
    "slideshow": {
     "slide_type": ""
    },
    "tags": []
   },
   "outputs": [],
   "source": [
    "from edsl import Agent\n",
    "\n",
    "agent = Agent(\n",
    "    traits = {\"persona\": \"You are an experienced human resources manager at a software company.\"}, \n",
    "    instruction = \"You are reviewing employee exit interviews to identify key themes and topics.\"\n",
    ")"
   ]
  },
  {
   "cell_type": "markdown",
   "id": "cde2d60a-2b48-4f6d-86f1-9b305ad84afa",
   "metadata": {
    "editable": true,
    "slideshow": {
     "slide_type": ""
    },
    "tags": []
   },
   "source": [
    "## Creating questions about the interviews\n",
    "Next we create questions about the transcripts for the agent to answer. EDSL comes with a [variety of standard question types](https://docs.expectedparrot.com/en/latest/questions.html) that we can choose from based on the form of the response that we want the model to return (multiple choice, free text, numerical, linear scale, etc.). Here we use free text questions to allow the agent to return unstructured responses. We can use a `{{ placeholder }}` for a transcript in each question text in order to re-run it for each transcript:"
   ]
  },
  {
   "cell_type": "code",
   "execution_count": 3,
   "id": "27c1b5fd-430b-499c-a47f-cf53671073e1",
   "metadata": {
    "editable": true,
    "slideshow": {
     "slide_type": ""
    },
    "tags": []
   },
   "outputs": [],
   "source": [
    "from edsl import QuestionFreeText\n",
    "\n",
    "q_reasons = QuestionFreeText(\n",
    "    question_name = \"reasons\",\n",
    "    question_text = \"Identify the interviewee's reasons for leaving: {{ transcript }}\"\n",
    ")\n",
    "\n",
    "q_policies = QuestionFreeText(\n",
    "    question_name = \"policies\",\n",
    "    question_text = \"Identify any feedback on company policies from the interviewee: {{ transcript }}\"\n",
    ")\n",
    "\n",
    "q_suggestions = QuestionFreeText(\n",
    "    question_name = \"suggestions\",\n",
    "    question_text = \"Identify any suggestions for improvements from the interviewee: {{ transcript }}\"\n",
    ")"
   ]
  },
  {
   "cell_type": "markdown",
   "id": "618a357c-051b-4dc3-adc8-7d2a917cb9b8",
   "metadata": {
    "editable": true,
    "slideshow": {
     "slide_type": ""
    },
    "tags": []
   },
   "source": [
    "## Combining questions into a survey\n",
    "We combine the questions into a `Survey` to administer them all together:"
   ]
  },
  {
   "cell_type": "code",
   "execution_count": 53,
   "id": "346cffcc-e64f-4fbb-88a4-ee9761b8bd1f",
   "metadata": {
    "editable": true,
    "slideshow": {
     "slide_type": ""
    },
    "tags": []
   },
   "outputs": [
    {
     "data": {
      "image/png": "[encoded data removed]",
      "text/plain": [
       "<IPython.core.display.Image object>"
      ]
     },
     "metadata": {},
     "output_type": "display_data"
    }
   ],
   "source": [
    "from edsl import Survey\n",
    "\n",
    "survey = Survey([q_reasons, \n",
    "                 q_policies, \n",
    "                 q_suggestions])\n",
    "survey.show_flow()"
   ]
  },
  {
   "cell_type": "markdown",
   "id": "fae5b801-1cd5-4750-a749-044f08766ae0",
   "metadata": {
    "editable": true,
    "slideshow": {
     "slide_type": ""
    },
    "tags": []
   },
   "source": [
    "## Creating scenarios of the questions\n",
    "Next we create a `Scenario` for each transcript that we will add to the survey when we run it:"
   ]
  },
  {
   "cell_type": "code",
   "execution_count": 5,
   "id": "44cbe9ad-8931-4b4a-9b04-ab97832569d0",
   "metadata": {
    "editable": true,
    "slideshow": {
     "slide_type": ""
    },
    "tags": []
   },
   "outputs": [],
   "source": [
    "from edsl import ScenarioList\n",
    "\n",
    "scenarios = ScenarioList.from_nested_dict(exit_interviews)"
   ]
  },
  {
   "cell_type": "code",
   "execution_count": 6,
   "id": "1ffcb31a-e730-4f8e-9ec0-b67d17cfcdee",
   "metadata": {
    "editable": true,
    "slideshow": {
     "slide_type": ""
    },
    "tags": []
   },
   "outputs": [
    {
     "data": {
      "text/html": [
       "<p><a href='https://docs.expectedparrot.com/en/latest/scenarios.html#scenariolist'>ScenarioList</a> scenarios: 20; keys: ['id', 'transcript'];</p>\n",
       "            <div style=\"max-height: 500px; overflow-y: auto;\">\n",
       "                <style type=\"text/css\">\n",
       "#T_fe8b2_row0_col0 {\n",
       "  text-align: left;\n",
       "  background-color: #fff7fb;\n",
       "  color: #000000;\n",
       "}\n",
       "#T_fe8b2_row0_col1, #T_fe8b2_row1_col1, #T_fe8b2_row2_col1, #T_fe8b2_row3_col1, #T_fe8b2_row4_col1, #T_fe8b2_row5_col1, #T_fe8b2_row6_col1, #T_fe8b2_row7_col1, #T_fe8b2_row8_col1, #T_fe8b2_row9_col1, #T_fe8b2_row10_col1, #T_fe8b2_row11_col1, #T_fe8b2_row12_col1, #T_fe8b2_row13_col1, #T_fe8b2_row14_col1, #T_fe8b2_row15_col1, #T_fe8b2_row16_col1, #T_fe8b2_row17_col1, #T_fe8b2_row18_col1, #T_fe8b2_row19_col1 {\n",
       "  text-align: left;\n",
       "}\n",
       "#T_fe8b2_row1_col0 {\n",
       "  text-align: left;\n",
       "  background-color: #f7f0f7;\n",
       "  color: #000000;\n",
       "}\n",
       "#T_fe8b2_row2_col0 {\n",
       "  text-align: left;\n",
       "  background-color: #f0eaf4;\n",
       "  color: #000000;\n",
       "}\n",
       "#T_fe8b2_row3_col0 {\n",
       "  text-align: left;\n",
       "  background-color: #e5e1ef;\n",
       "  color: #000000;\n",
       "}\n",
       "#T_fe8b2_row4_col0 {\n",
       "  text-align: left;\n",
       "  background-color: #d9d8ea;\n",
       "  color: #000000;\n",
       "}\n",
       "#T_fe8b2_row5_col0 {\n",
       "  text-align: left;\n",
       "  background-color: #cccfe5;\n",
       "  color: #000000;\n",
       "}\n",
       "#T_fe8b2_row6_col0 {\n",
       "  text-align: left;\n",
       "  background-color: #bbc7e0;\n",
       "  color: #000000;\n",
       "}\n",
       "#T_fe8b2_row7_col0 {\n",
       "  text-align: left;\n",
       "  background-color: #a8bedc;\n",
       "  color: #000000;\n",
       "}\n",
       "#T_fe8b2_row8_col0 {\n",
       "  text-align: left;\n",
       "  background-color: #94b6d7;\n",
       "  color: #000000;\n",
       "}\n",
       "#T_fe8b2_row9_col0 {\n",
       "  text-align: left;\n",
       "  background-color: #7eadd1;\n",
       "  color: #f1f1f1;\n",
       "}\n",
       "#T_fe8b2_row10_col0 {\n",
       "  text-align: left;\n",
       "  background-color: #67a4cc;\n",
       "  color: #f1f1f1;\n",
       "}\n",
       "#T_fe8b2_row11_col0 {\n",
       "  text-align: left;\n",
       "  background-color: #4c99c5;\n",
       "  color: #f1f1f1;\n",
       "}\n",
       "#T_fe8b2_row12_col0 {\n",
       "  text-align: left;\n",
       "  background-color: #348ebf;\n",
       "  color: #f1f1f1;\n",
       "}\n",
       "#T_fe8b2_row13_col0 {\n",
       "  text-align: left;\n",
       "  background-color: #1e80b8;\n",
       "  color: #f1f1f1;\n",
       "}\n",
       "#T_fe8b2_row14_col0 {\n",
       "  text-align: left;\n",
       "  background-color: #0a73b2;\n",
       "  color: #f1f1f1;\n",
       "}\n",
       "#T_fe8b2_row15_col0 {\n",
       "  text-align: left;\n",
       "  background-color: #0569a4;\n",
       "  color: #f1f1f1;\n",
       "}\n",
       "#T_fe8b2_row16_col0 {\n",
       "  text-align: left;\n",
       "  background-color: #046096;\n",
       "  color: #f1f1f1;\n",
       "}\n",
       "#T_fe8b2_row17_col0 {\n",
       "  text-align: left;\n",
       "  background-color: #045483;\n",
       "  color: #f1f1f1;\n",
       "}\n",
       "#T_fe8b2_row18_col0 {\n",
       "  text-align: left;\n",
       "  background-color: #03466e;\n",
       "  color: #f1f1f1;\n",
       "}\n",
       "#T_fe8b2_row19_col0 {\n",
       "  text-align: left;\n",
       "  background-color: #023858;\n",
       "  color: #f1f1f1;\n",
       "}\n",
       "</style>\n",
       "<table id=\"T_fe8b2\">\n",
       "  <thead>\n",
       "    <tr>\n",
       "      <th class=\"blank level0\" >&nbsp;</th>\n",
       "      <th id=\"T_fe8b2_level0_col0\" class=\"col_heading level0 col0\" >id</th>\n",
       "      <th id=\"T_fe8b2_level0_col1\" class=\"col_heading level0 col1\" >transcript</th>\n",
       "    </tr>\n",
       "  </thead>\n",
       "  <tbody>\n",
       "    <tr>\n",
       "      <th id=\"T_fe8b2_level0_row0\" class=\"row_heading level0 row0\" >0</th>\n",
       "      <td id=\"T_fe8b2_row0_col0\" class=\"data row0 col0\" >1</td>\n",
       "      <td id=\"T_fe8b2_row0_col1\" class=\"data row0 col1\" >HR Manager: Thank you for meeting with me today. What prompted you to start looking for a new job? Employee: I felt the career advancement opportunities here were quite limited, which has led me to look for roles where I can climb the ladder more quickly.</td>\n",
       "    </tr>\n",
       "    <tr>\n",
       "      <th id=\"T_fe8b2_level0_row1\" class=\"row_heading level0 row1\" >1</th>\n",
       "      <td id=\"T_fe8b2_row1_col0\" class=\"data row1 col0\" >2</td>\n",
       "      <td id=\"T_fe8b2_row1_col1\" class=\"data row1 col1\" >HR Manager: We're sorry to see you go. Could you share how you felt about the team dynamics here? Employee: The team was fantastic, very supportive. However, the work-life balance was lacking, which is why I've decided to move on.</td>\n",
       "    </tr>\n",
       "    <tr>\n",
       "      <th id=\"T_fe8b2_level0_row2\" class=\"row_heading level0 row2\" >2</th>\n",
       "      <td id=\"T_fe8b2_row2_col0\" class=\"data row2 col0\" >3</td>\n",
       "      <td id=\"T_fe8b2_row2_col1\" class=\"data row2 col1\" >HR Manager: As you leave, what improvements would you suggest for our company? Employee: I think the company could improve its remote work policies to offer more flexibility, which is crucial nowadays.</td>\n",
       "    </tr>\n",
       "    <tr>\n",
       "      <th id=\"T_fe8b2_level0_row3\" class=\"row_heading level0 row3\" >3</th>\n",
       "      <td id=\"T_fe8b2_row3_col0\" class=\"data row3 col0\" >4</td>\n",
       "      <td id=\"T_fe8b2_row3_col1\" class=\"data row3 col1\" >HR Manager: Can you describe your satisfaction with your role and responsibilities? Employee: Initially, I was satisfied, but over time, I felt my skills were underutilized, which has led to a decrease in my job satisfaction.</td>\n",
       "    </tr>\n",
       "    <tr>\n",
       "      <th id=\"T_fe8b2_level0_row4\" class=\"row_heading level0 row4\" >4</th>\n",
       "      <td id=\"T_fe8b2_row4_col0\" class=\"data row4 col0\" >5</td>\n",
       "      <td id=\"T_fe8b2_row4_col1\" class=\"data row4 col1\" >HR Manager: What's the main reason for leaving the company? Employee: I'm looking for new challenges and a change of environment to spark my creativity again, which I felt was stagnating here.</td>\n",
       "    </tr>\n",
       "    <tr>\n",
       "      <th id=\"T_fe8b2_level0_row5\" class=\"row_heading level0 row5\" >5</th>\n",
       "      <td id=\"T_fe8b2_row5_col0\" class=\"data row5 col0\" >6</td>\n",
       "      <td id=\"T_fe8b2_row5_col1\" class=\"data row5 col1\" >HR Manager: How do you feel about the management style at our company? Employee: The management style is a bit too micromanaging for me, which sometimes hampers my ability to work effectively.</td>\n",
       "    </tr>\n",
       "    <tr>\n",
       "      <th id=\"T_fe8b2_level0_row6\" class=\"row_heading level0 row6\" >6</th>\n",
       "      <td id=\"T_fe8b2_row6_col0\" class=\"data row6 col0\" >7</td>\n",
       "      <td id=\"T_fe8b2_row6_col1\" class=\"data row6 col1\" >HR Manager: What could have been done differently to improve your experience with us? Employee: More recognition and rewards would have been appreciated. I often felt that my hard work went unnoticed.</td>\n",
       "    </tr>\n",
       "    <tr>\n",
       "      <th id=\"T_fe8b2_level0_row7\" class=\"row_heading level0 row7\" >7</th>\n",
       "      <td id=\"T_fe8b2_row7_col0\" class=\"data row7 col0\" >8</td>\n",
       "      <td id=\"T_fe8b2_row7_col1\" class=\"data row7 col1\" >HR Manager: What did you appreciate the most during your time here? Employee: I really appreciated the learning opportunities and professional development workshops offered by the company.</td>\n",
       "    </tr>\n",
       "    <tr>\n",
       "      <th id=\"T_fe8b2_level0_row8\" class=\"row_heading level0 row8\" >8</th>\n",
       "      <td id=\"T_fe8b2_row8_col0\" class=\"data row8 col0\" >9</td>\n",
       "      <td id=\"T_fe8b2_row8_col1\" class=\"data row8 col1\" >HR Manager: Do you feel the company's policies supported your work and personal growth? Employee: To some extent, yes, but I believe the policies on performance evaluations could be more transparent.</td>\n",
       "    </tr>\n",
       "    <tr>\n",
       "      <th id=\"T_fe8b2_level0_row9\" class=\"row_heading level0 row9\" >9</th>\n",
       "      <td id=\"T_fe8b2_row9_col0\" class=\"data row9 col0\" >10</td>\n",
       "      <td id=\"T_fe8b2_row9_col1\" class=\"data row9 col1\" >HR Manager: Is there anything else you'd like to add about how the company could improve? Employee: I think the company would benefit from more open communication between different departments to streamline projects.</td>\n",
       "    </tr>\n",
       "    <tr>\n",
       "      <th id=\"T_fe8b2_level0_row10\" class=\"row_heading level0 row10\" >10</th>\n",
       "      <td id=\"T_fe8b2_row10_col0\" class=\"data row10 col0\" >11</td>\n",
       "      <td id=\"T_fe8b2_row10_col1\" class=\"data row10 col1\" >HR Manager: How did you find our company culture? Employee: The culture is good, very collaborative, but it could be less competitive to reduce stress among team members.</td>\n",
       "    </tr>\n",
       "    <tr>\n",
       "      <th id=\"T_fe8b2_level0_row11\" class=\"row_heading level0 row11\" >11</th>\n",
       "      <td id=\"T_fe8b2_row11_col0\" class=\"data row11 col0\" >12</td>\n",
       "      <td id=\"T_fe8b2_row11_col1\" class=\"data row11 col1\" >HR Manager: Did the company's vision align with your professional goals? Employee: Initially, it did, but as the company shifted focus, I found it less aligned with my career aspirations.</td>\n",
       "    </tr>\n",
       "    <tr>\n",
       "      <th id=\"T_fe8b2_level0_row12\" class=\"row_heading level0 row12\" >12</th>\n",
       "      <td id=\"T_fe8b2_row12_col0\" class=\"data row12 col0\" >13</td>\n",
       "      <td id=\"T_fe8b2_row12_col1\" class=\"data row12 col1\" >HR Manager: Were there any policies that you found particularly beneficial or restrictive? Employee: The education reimbursement policy was beneficial, but the travel policies were a bit restrictive and outdated.</td>\n",
       "    </tr>\n",
       "    <tr>\n",
       "      <th id=\"T_fe8b2_level0_row13\" class=\"row_heading level0 row13\" >13</th>\n",
       "      <td id=\"T_fe8b2_row13_col0\" class=\"data row13 col0\" >14</td>\n",
       "      <td id=\"T_fe8b2_row13_col1\" class=\"data row13 col1\" >HR Manager: What are your thoughts on the company's diversity and inclusion efforts? Employee: It's commendable but could definitely be pushed further to create a more inclusive environment.</td>\n",
       "    </tr>\n",
       "    <tr>\n",
       "      <th id=\"T_fe8b2_level0_row14\" class=\"row_heading level0 row14\" >14</th>\n",
       "      <td id=\"T_fe8b2_row14_col0\" class=\"data row14 col0\" >15</td>\n",
       "      <td id=\"T_fe8b2_row14_col1\" class=\"data row14 col1\" >HR Manager: Can you elaborate on why you feel the need to move on? Employee: I'm seeking a role that offers a higher level of responsibility and more direct impact on strategic decisions.</td>\n",
       "    </tr>\n",
       "    <tr>\n",
       "      <th id=\"T_fe8b2_level0_row15\" class=\"row_heading level0 row15\" >15</th>\n",
       "      <td id=\"T_fe8b2_row15_col0\" class=\"data row15 col0\" >16</td>\n",
       "      <td id=\"T_fe8b2_row15_col1\" class=\"data row15 col1\" >HR Manager: What feedback do you have about our HR policies? Employee: The HR policies are thorough, but sometimes they are too rigid, which can make adapting to unforeseen circumstances difficult.</td>\n",
       "    </tr>\n",
       "    <tr>\n",
       "      <th id=\"T_fe8b2_level0_row16\" class=\"row_heading level0 row16\" >16</th>\n",
       "      <td id=\"T_fe8b2_row16_col0\" class=\"data row16 col0\" >17</td>\n",
       "      <td id=\"T_fe8b2_row16_col1\" class=\"data row16 col1\" >HR Manager: How would you describe your overall job satisfaction here? Employee: My job satisfaction was high for the most part, but there were instances where I felt more support from management could have improved my experience.</td>\n",
       "    </tr>\n",
       "    <tr>\n",
       "      <th id=\"T_fe8b2_level0_row17\" class=\"row_heading level0 row17\" >17</th>\n",
       "      <td id=\"T_fe8b2_row17_col0\" class=\"data row17 col0\" >18</td>\n",
       "      <td id=\"T_fe8b2_row17_col1\" class=\"data row17 col1\" >HR Manager: Did you feel that your achievements were recognized appropriately? Employee: Not always, which is why I think an improved feedback system could help employees feel more valued.</td>\n",
       "    </tr>\n",
       "    <tr>\n",
       "      <th id=\"T_fe8b2_level0_row18\" class=\"row_heading level0 row18\" >18</th>\n",
       "      <td id=\"T_fe8b2_row18_col0\" class=\"data row18 col0\" >19</td>\n",
       "      <td id=\"T_fe8b2_row18_col1\" class=\"data row18 col1\" >HR Manager: What could we do to retain talent like yourself? Employee: Offering competitive salaries and clearer paths for advancement might help retain employees who are seeking growth.</td>\n",
       "    </tr>\n",
       "    <tr>\n",
       "      <th id=\"T_fe8b2_level0_row19\" class=\"row_heading level0 row19\" >19</th>\n",
       "      <td id=\"T_fe8b2_row19_col0\" class=\"data row19 col0\" >20</td>\n",
       "      <td id=\"T_fe8b2_row19_col1\" class=\"data row19 col1\" >HR Manager: Thank you for your honesty. We'll certainly take your feedback into consideration to improve. Employee: Thank you, I hope my feedback helps in making this a better workplace.</td>\n",
       "    </tr>\n",
       "  </tbody>\n",
       "</table>\n",
       "\n",
       "            </div>\n",
       "            "
      ],
      "text/plain": [
       "ScenarioList([Scenario({'id': 1, 'transcript': 'HR Manager: Thank you for meeting with me today. What prompted you to start looking for a new job? Employee: I felt the career advancement opportunities here were quite limited, which has led me to look for roles where I can climb the ladder more quickly.'}), Scenario({'id': 2, 'transcript': \"HR Manager: We're sorry to see you go. Could you share how you felt about the team dynamics here? Employee: The team was fantastic, very supportive. However, the work-life balance was lacking, which is why I've decided to move on.\"}), Scenario({'id': 3, 'transcript': 'HR Manager: As you leave, what improvements would you suggest for our company? Employee: I think the company could improve its remote work policies to offer more flexibility, which is crucial nowadays.'}), Scenario({'id': 4, 'transcript': 'HR Manager: Can you describe your satisfaction with your role and responsibilities? Employee: Initially, I was satisfied, but over time, I felt my skills were underutilized, which has led to a decrease in my job satisfaction.'}), Scenario({'id': 5, 'transcript': \"HR Manager: What's the main reason for leaving the company? Employee: I'm looking for new challenges and a change of environment to spark my creativity again, which I felt was stagnating here.\"}), Scenario({'id': 6, 'transcript': 'HR Manager: How do you feel about the management style at our company? Employee: The management style is a bit too micromanaging for me, which sometimes hampers my ability to work effectively.'}), Scenario({'id': 7, 'transcript': 'HR Manager: What could have been done differently to improve your experience with us? Employee: More recognition and rewards would have been appreciated. I often felt that my hard work went unnoticed.'}), Scenario({'id': 8, 'transcript': 'HR Manager: What did you appreciate the most during your time here? Employee: I really appreciated the learning opportunities and professional development workshops offered by the company.'}), Scenario({'id': 9, 'transcript': \"HR Manager: Do you feel the company's policies supported your work and personal growth? Employee: To some extent, yes, but I believe the policies on performance evaluations could be more transparent.\"}), Scenario({'id': 10, 'transcript': \"HR Manager: Is there anything else you'd like to add about how the company could improve? Employee: I think the company would benefit from more open communication between different departments to streamline projects.\"}), Scenario({'id': 11, 'transcript': 'HR Manager: How did you find our company culture? Employee: The culture is good, very collaborative, but it could be less competitive to reduce stress among team members.'}), Scenario({'id': 12, 'transcript': \"HR Manager: Did the company's vision align with your professional goals? Employee: Initially, it did, but as the company shifted focus, I found it less aligned with my career aspirations.\"}), Scenario({'id': 13, 'transcript': 'HR Manager: Were there any policies that you found particularly beneficial or restrictive? Employee: The education reimbursement policy was beneficial, but the travel policies were a bit restrictive and outdated.'}), Scenario({'id': 14, 'transcript': \"HR Manager: What are your thoughts on the company's diversity and inclusion efforts? Employee: It's commendable but could definitely be pushed further to create a more inclusive environment.\"}), Scenario({'id': 15, 'transcript': \"HR Manager: Can you elaborate on why you feel the need to move on? Employee: I'm seeking a role that offers a higher level of responsibility and more direct impact on strategic decisions.\"}), Scenario({'id': 16, 'transcript': 'HR Manager: What feedback do you have about our HR policies? Employee: The HR policies are thorough, but sometimes they are too rigid, which can make adapting to unforeseen circumstances difficult.'}), Scenario({'id': 17, 'transcript': 'HR Manager: How would you describe your overall job satisfaction here? Employee: My job satisfaction was high for the most part, but there were instances where I felt more support from management could have improved my experience.'}), Scenario({'id': 18, 'transcript': 'HR Manager: Did you feel that your achievements were recognized appropriately? Employee: Not always, which is why I think an improved feedback system could help employees feel more valued.'}), Scenario({'id': 19, 'transcript': 'HR Manager: What could we do to retain talent like yourself? Employee: Offering competitive salaries and clearer paths for advancement might help retain employees who are seeking growth.'}), Scenario({'id': 20, 'transcript': \"HR Manager: Thank you for your honesty. We'll certainly take your feedback into consideration to improve. Employee: Thank you, I hope my feedback helps in making this a better workplace.\"})])"
      ]
     },
     "execution_count": 6,
     "metadata": {},
     "output_type": "execute_result"
    }
   ],
   "source": [
    "scenarios"
   ]
  },
  {
   "cell_type": "markdown",
   "id": "2b9ef4bb-8eda-41e0-9940-96227334d25c",
   "metadata": {
    "editable": true,
    "slideshow": {
     "slide_type": ""
    },
    "tags": []
   },
   "source": [
    "## Selecting a language model\n",
    "EDSL works with many popular models. We can run `Model.available()` to see a current list of available models, and then create `Model` objects for the ones that we want to use. Here we select GPT 4o:"
   ]
  },
  {
   "cell_type": "code",
   "execution_count": 7,
   "id": "4a61c32b-dc4e-47fb-8124-ded94a3aa133",
   "metadata": {
    "editable": true,
    "slideshow": {
     "slide_type": ""
    },
    "tags": []
   },
   "outputs": [],
   "source": [
    "from edsl import Model"
   ]
  },
  {
   "cell_type": "code",
   "execution_count": 8,
   "id": "ffe03eca-651d-44cd-a9e6-2e746655ae83",
   "metadata": {
    "editable": true,
    "slideshow": {
     "slide_type": ""
    },
    "tags": []
   },
   "outputs": [],
   "source": [
    "# Model.available()"
   ]
  },
  {
   "cell_type": "code",
   "execution_count": 9,
   "id": "1a55cb03-ce87-4db1-8b7d-f44c91360e7e",
   "metadata": {
    "editable": true,
    "slideshow": {
     "slide_type": ""
    },
    "tags": []
   },
   "outputs": [],
   "source": [
    "model = Model(\"gpt-4o\", service_name = \"openai\")"
   ]
  },
  {
   "cell_type": "markdown",
   "id": "9cbae13e-d0a4-4d0a-b154-8deec10dc33b",
   "metadata": {
    "editable": true,
    "slideshow": {
     "slide_type": ""
    },
    "tags": []
   },
   "source": [
    "## Generating responses\n",
    "We prompt the agent to answer the survey by adding the scenarios, agent and model and then calling the `run()` method. This generates a dataset of `Results` that includes information about the agent, model, scenarios, questions and answers:"
   ]
  },
  {
   "cell_type": "code",
   "execution_count": 10,
   "id": "4d851e35-7d31-43ac-bda1-2d4f6c7930f5",
   "metadata": {
    "editable": true,
    "slideshow": {
     "slide_type": ""
    },
    "tags": []
   },
   "outputs": [],
   "source": [
    "results = survey.by(scenarios).by(agent).by(model).run(verbose = False)"
   ]
  },
  {
   "cell_type": "markdown",
   "id": "0e274ad3-dd71-4c3e-85ed-f6b228463376",
   "metadata": {
    "editable": true,
    "slideshow": {
     "slide_type": ""
    },
    "tags": []
   },
   "source": [
    "## Accessing results\n",
    "EDSL comes with built-in methods for analyzing results in datasets, data tables, dataframes, SQL queries, and other formats. Here we select the responses for a few of the transcripts to display in a table:"
   ]
  },
  {
   "cell_type": "code",
   "execution_count": 11,
   "id": "e946fa4e-5fee-48b2-bbe4-8296057a4436",
   "metadata": {
    "editable": true,
    "slideshow": {
     "slide_type": ""
    },
    "tags": []
   },
   "outputs": [
    {
     "data": {
      "text/html": [
       "\n",
       "            <div style=\"max-height: 500px; overflow-y: auto;\">\n",
       "                <style type=\"text/css\">\n",
       "#T_f607a_row0_col0, #T_f607a_row1_col0 {\n",
       "  text-align: left;\n",
       "  background-color: #fff7fb;\n",
       "  color: #000000;\n",
       "}\n",
       "#T_f607a_row0_col1, #T_f607a_row0_col2, #T_f607a_row0_col3, #T_f607a_row1_col1, #T_f607a_row1_col2, #T_f607a_row1_col3, #T_f607a_row2_col1, #T_f607a_row2_col2, #T_f607a_row2_col3, #T_f607a_row3_col1, #T_f607a_row3_col2, #T_f607a_row3_col3, #T_f607a_row4_col1, #T_f607a_row4_col2, #T_f607a_row4_col3 {\n",
       "  text-align: left;\n",
       "}\n",
       "#T_f607a_row2_col0 {\n",
       "  text-align: left;\n",
       "  background-color: #acc0dd;\n",
       "  color: #000000;\n",
       "}\n",
       "#T_f607a_row3_col0 {\n",
       "  text-align: left;\n",
       "  background-color: #91b5d6;\n",
       "  color: #000000;\n",
       "}\n",
       "#T_f607a_row4_col0 {\n",
       "  text-align: left;\n",
       "  background-color: #023858;\n",
       "  color: #f1f1f1;\n",
       "}\n",
       "</style>\n",
       "<table id=\"T_f607a\">\n",
       "  <thead>\n",
       "    <tr>\n",
       "      <th class=\"blank level0\" >&nbsp;</th>\n",
       "      <th id=\"T_f607a_level0_col0\" class=\"col_heading level0 col0\" >scenario.id</th>\n",
       "      <th id=\"T_f607a_level0_col1\" class=\"col_heading level0 col1\" >answer.reasons</th>\n",
       "      <th id=\"T_f607a_level0_col2\" class=\"col_heading level0 col2\" >answer.policies</th>\n",
       "      <th id=\"T_f607a_level0_col3\" class=\"col_heading level0 col3\" >answer.suggestions</th>\n",
       "    </tr>\n",
       "  </thead>\n",
       "  <tbody>\n",
       "    <tr>\n",
       "      <th id=\"T_f607a_level0_row0\" class=\"row_heading level0 row0\" >0</th>\n",
       "      <td id=\"T_f607a_row0_col0\" class=\"data row0 col0\" >1</td>\n",
       "      <td id=\"T_f607a_row0_col1\" class=\"data row0 col1\" >The interviewee's primary reason for leaving is the perception of limited career advancement opportunities at the company. They are seeking roles elsewhere that offer more potential for upward mobility and faster career progression.</td>\n",
       "      <td id=\"T_f607a_row0_col2\" class=\"data row0 col2\" >In this exit interview excerpt, the employee's feedback on company policies is indirectly related to career advancement opportunities. The employee feels that the current policies or practices regarding career progression within the company are inadequate or limited, prompting them to seek employment elsewhere where they perceive better opportunities for growth and advancement. This suggests that the company may need to review and potentially enhance its career development and promotion policies to retain talent.</td>\n",
       "      <td id=\"T_f607a_row0_col3\" class=\"data row0 col3\" >The suggestion for improvement from the interviewee is to enhance career advancement opportunities within the company. This could involve creating clearer career paths, offering more frequent promotions, or providing additional professional development and training opportunities to help employees progress in their careers more effectively.</td>\n",
       "    </tr>\n",
       "    <tr>\n",
       "      <th id=\"T_f607a_level0_row1\" class=\"row_heading level0 row1\" >1</th>\n",
       "      <td id=\"T_f607a_row1_col0\" class=\"data row1 col0\" >1</td>\n",
       "      <td id=\"T_f607a_row1_col1\" class=\"data row1 col1\" >The interviewee's primary reason for leaving is the perception of limited career advancement opportunities at the company. They are seeking roles elsewhere that offer more potential for upward mobility and faster career progression.</td>\n",
       "      <td id=\"T_f607a_row1_col2\" class=\"data row1 col2\" >In this exit interview excerpt, the employee's feedback on company policies is indirectly related to career advancement opportunities. The employee feels that the current policies or practices regarding career progression within the company are inadequate or limited, prompting them to seek employment elsewhere where they perceive better opportunities for growth and advancement. This suggests that the company may need to review and potentially enhance its career development and promotion policies to retain talent.</td>\n",
       "      <td id=\"T_f607a_row1_col3\" class=\"data row1 col3\" >The suggestion for improvement from the interviewee is to enhance career advancement opportunities within the company. This could involve creating clearer career paths, offering more frequent promotions, or providing additional professional development and training opportunities to help employees progress in their careers more effectively.</td>\n",
       "    </tr>\n",
       "    <tr>\n",
       "      <th id=\"T_f607a_level0_row2\" class=\"row_heading level0 row2\" >2</th>\n",
       "      <td id=\"T_f607a_row2_col0\" class=\"data row2 col0\" >6</td>\n",
       "      <td id=\"T_f607a_row2_col1\" class=\"data row2 col1\" >The interviewee's reason for leaving is dissatisfaction with the management style at the company, specifically due to micromanagement. They feel that this approach hampers their ability to work effectively.</td>\n",
       "      <td id=\"T_f607a_row2_col2\" class=\"data row2 col2\" >While the employee's response primarily focuses on management style rather than specific company policies, it does suggest an underlying issue with how management practices may be impacting employee autonomy and effectiveness. This feedback could imply that company policies regarding management practices might need to be reviewed to ensure they promote a more empowering and less micromanaged work environment.</td>\n",
       "      <td id=\"T_f607a_row2_col3\" class=\"data row2 col3\" >The suggestion for improvement from the interviewee is to reduce micromanagement within the company. This could involve giving employees more autonomy and trust to complete their tasks, which may enhance their ability to work effectively and improve overall job satisfaction.</td>\n",
       "    </tr>\n",
       "    <tr>\n",
       "      <th id=\"T_f607a_level0_row3\" class=\"row_heading level0 row3\" >3</th>\n",
       "      <td id=\"T_f607a_row3_col0\" class=\"data row3 col0\" >7</td>\n",
       "      <td id=\"T_f607a_row3_col1\" class=\"data row3 col1\" >The interviewee's reasons for leaving include a lack of recognition and rewards for their hard work. They felt that their efforts were not adequately acknowledged, which impacted their overall experience with the company.</td>\n",
       "      <td id=\"T_f607a_row3_col2\" class=\"data row3 col2\" >The feedback from the employee suggests that the company's policies on recognition and rewards could be improved. The employee felt that their hard work went unnoticed, indicating a need for more structured or frequent recognition and reward systems to acknowledge employee contributions. This feedback highlights the importance of implementing or enhancing policies that focus on employee appreciation and reward programs to improve employee satisfaction and retention.</td>\n",
       "      <td id=\"T_f607a_row3_col3\" class=\"data row3 col3\" >The suggestion for improvement from the interviewee is the need for more recognition and rewards. The employee felt that their hard work often went unnoticed, indicating a desire for a more robust system of acknowledging and rewarding employee contributions. This could involve implementing regular performance recognition programs, offering more frequent feedback, or introducing tangible rewards to motivate and engage employees effectively.</td>\n",
       "    </tr>\n",
       "    <tr>\n",
       "      <th id=\"T_f607a_level0_row4\" class=\"row_heading level0 row4\" >4</th>\n",
       "      <td id=\"T_f607a_row4_col0\" class=\"data row4 col0\" >15</td>\n",
       "      <td id=\"T_f607a_row4_col1\" class=\"data row4 col1\" >The interviewee's reasons for leaving include:\n",
       "\n",
       "1. Desire for a higher level of responsibility: The employee is looking for a role that allows them to take on more significant responsibilities.\n",
       "   \n",
       "2. Need for more direct impact on strategic decisions: The employee wants to be in a position where they can influence and contribute directly to the strategic direction of the company.</td>\n",
       "      <td id=\"T_f607a_row4_col2\" class=\"data row4 col2\" >The employee's feedback does not directly mention specific company policies. However, their desire for a higher level of responsibility and more involvement in strategic decisions may imply that current company policies or structures limit opportunities for career advancement or influence in strategic areas. It might be beneficial to review policies related to career progression, decision-making involvement, and leadership development to address these potential concerns.</td>\n",
       "      <td id=\"T_f607a_row4_col3\" class=\"data row4 col3\" >From the employee's response, a suggestion for improvement could be to provide more opportunities for employees to take on higher levels of responsibility and to be involved in strategic decision-making processes. This might include creating pathways for career advancement, offering leadership development programs, or involving employees in strategic planning sessions. This could help retain employees who are looking for growth and impact in their roles.</td>\n",
       "    </tr>\n",
       "  </tbody>\n",
       "</table>\n",
       "\n",
       "            </div>\n",
       "            "
      ],
      "text/plain": [
       "Dataset([{'scenario.id': [1, 1, 6, 7, 15]}, {'answer.reasons': [\"The interviewee's primary reason for leaving is the perception of limited career advancement opportunities at the company. They are seeking roles elsewhere that offer more potential for upward mobility and faster career progression.\", \"The interviewee's primary reason for leaving is the perception of limited career advancement opportunities at the company. They are seeking roles elsewhere that offer more potential for upward mobility and faster career progression.\", \"The interviewee's reason for leaving is dissatisfaction with the management style at the company, specifically due to micromanagement. They feel that this approach hampers their ability to work effectively.\", \"The interviewee's reasons for leaving include a lack of recognition and rewards for their hard work. They felt that their efforts were not adequately acknowledged, which impacted their overall experience with the company.\", \"The interviewee's reasons for leaving include:\\n\\n1. Desire for a higher level of responsibility: The employee is looking for a role that allows them to take on more significant responsibilities.\\n   \\n2. Need for more direct impact on strategic decisions: The employee wants to be in a position where they can influence and contribute directly to the strategic direction of the company.\"]}, {'answer.policies': [\"In this exit interview excerpt, the employee's feedback on company policies is indirectly related to career advancement opportunities. The employee feels that the current policies or practices regarding career progression within the company are inadequate or limited, prompting them to seek employment elsewhere where they perceive better opportunities for growth and advancement. This suggests that the company may need to review and potentially enhance its career development and promotion policies to retain talent.\", \"In this exit interview excerpt, the employee's feedback on company policies is indirectly related to career advancement opportunities. The employee feels that the current policies or practices regarding career progression within the company are inadequate or limited, prompting them to seek employment elsewhere where they perceive better opportunities for growth and advancement. This suggests that the company may need to review and potentially enhance its career development and promotion policies to retain talent.\", \"While the employee's response primarily focuses on management style rather than specific company policies, it does suggest an underlying issue with how management practices may be impacting employee autonomy and effectiveness. This feedback could imply that company policies regarding management practices might need to be reviewed to ensure they promote a more empowering and less micromanaged work environment.\", \"The feedback from the employee suggests that the company's policies on recognition and rewards could be improved. The employee felt that their hard work went unnoticed, indicating a need for more structured or frequent recognition and reward systems to acknowledge employee contributions. This feedback highlights the importance of implementing or enhancing policies that focus on employee appreciation and reward programs to improve employee satisfaction and retention.\", \"The employee's feedback does not directly mention specific company policies. However, their desire for a higher level of responsibility and more involvement in strategic decisions may imply that current company policies or structures limit opportunities for career advancement or influence in strategic areas. It might be beneficial to review policies related to career progression, decision-making involvement, and leadership development to address these potential concerns.\"]}, {'answer.suggestions': ['The suggestion for improvement from the interviewee is to enhance career advancement opportunities within the company. This could involve creating clearer career paths, offering more frequent promotions, or providing additional professional development and training opportunities to help employees progress in their careers more effectively.', 'The suggestion for improvement from the interviewee is to enhance career advancement opportunities within the company. This could involve creating clearer career paths, offering more frequent promotions, or providing additional professional development and training opportunities to help employees progress in their careers more effectively.', 'The suggestion for improvement from the interviewee is to reduce micromanagement within the company. This could involve giving employees more autonomy and trust to complete their tasks, which may enhance their ability to work effectively and improve overall job satisfaction.', 'The suggestion for improvement from the interviewee is the need for more recognition and rewards. The employee felt that their hard work often went unnoticed, indicating a desire for a more robust system of acknowledging and rewarding employee contributions. This could involve implementing regular performance recognition programs, offering more frequent feedback, or introducing tangible rewards to motivate and engage employees effectively.', \"From the employee's response, a suggestion for improvement could be to provide more opportunities for employees to take on higher levels of responsibility and to be involved in strategic decision-making processes. This might include creating pathways for career advancement, offering leadership development programs, or involving employees in strategic planning sessions. This could help retain employees who are looking for growth and impact in their roles.\"]}])"
      ]
     },
     "execution_count": 11,
     "metadata": {},
     "output_type": "execute_result"
    }
   ],
   "source": [
    "(results\n",
    " .sample(5)\n",
    " .sort_by(\"id\")\n",
    " .select(\"id\", \"reasons\", \"policies\", \"suggestions\")\n",
    ")"
   ]
  },
  {
   "cell_type": "markdown",
   "id": "b2aa190e-b191-4e07-9ad6-eb5bfc5ea39c",
   "metadata": {
    "editable": true,
    "slideshow": {
     "slide_type": ""
    },
    "tags": []
   },
   "source": [
    "## Quantifying themes\n",
    "We now want to quantify the responses to our original questions. One way to do this is to have an agent review all the responses to each question, create comprehensive lists of themes/topics, and then use the lists as answer options for checkbox versions of the origin questions where the agent is prompted to select the themes/topics in each transcript, generating a summary dataset.\n",
    "\n",
    "We start by creating a general question prompting an agent to review a set of responses for a question and generate a condensed list of the themes/topics in the responses:"
   ]
  },
  {
   "cell_type": "code",
   "execution_count": 12,
   "id": "5df41dba-d376-4e08-805d-f9c0dec2fb71",
   "metadata": {
    "editable": true,
    "slideshow": {
     "slide_type": ""
    },
    "tags": []
   },
   "outputs": [],
   "source": [
    "from edsl import QuestionList\n",
    "\n",
    "q_themes = QuestionList(\n",
    "    question_name = \"themes\",\n",
    "    question_text = \"\"\"\n",
    "    Consider the following question that was used to review a set of employee exit interview\n",
    "    transcripts, together with the set of responses to the question for the transcripts. \n",
    "    Draft a list of the key themes/topics in the responses that can be used to quantify them  \n",
    "    across the transcripts. \n",
    "    Question: {{ original_question }} \n",
    "    Responses: {{ responses }}\n",
    "    \"\"\",\n",
    "    max_list_items = 10\n",
    ")"
   ]
  },
  {
   "cell_type": "markdown",
   "id": "fab21cc5-355c-4ccd-900d-02d1bf9ddf26",
   "metadata": {
    "editable": true,
    "slideshow": {
     "slide_type": ""
    },
    "tags": []
   },
   "source": [
    "This question will be parameterized with the original questions and responses that we now want to quantify. This is made easy with a method for transforming survey results into scenarios for new questions:"
   ]
  },
  {
   "cell_type": "code",
   "execution_count": 13,
   "id": "78a30091-cc43-4916-90ca-2a53f753236a",
   "metadata": {
    "editable": true,
    "slideshow": {
     "slide_type": ""
    },
    "tags": []
   },
   "outputs": [
    {
     "data": {
      "text/plain": [
       "['reasons', 'policies', 'suggestions']"
      ]
     },
     "execution_count": 13,
     "metadata": {},
     "output_type": "execute_result"
    }
   ],
   "source": [
    "survey.question_names"
   ]
  },
  {
   "cell_type": "code",
   "execution_count": 14,
   "id": "076bf3f0-c8fd-4ed2-85e7-4992942805b1",
   "metadata": {
    "editable": true,
    "slideshow": {
     "slide_type": ""
    },
    "tags": []
   },
   "outputs": [],
   "source": [
    "from edsl import ScenarioList, Scenario\n",
    "\n",
    "response_scenarios = []\n",
    "\n",
    "for question_name in survey.question_names:\n",
    "    question_text = results.select(f\"question_text.{question_name}_question_text\").first()\n",
    "    responses = results.select(f\"{question_name}\").to_list(flatten=True)\n",
    "    response_scenarios.append(\n",
    "        Scenario(\n",
    "            {\n",
    "                \"question_name\": question_name,\n",
    "                \"original_question\": question_text,\n",
    "                \"responses\": responses\n",
    "            }\n",
    "        )\n",
    "    )\n",
    "\n",
    "response_scenarios = ScenarioList(response_scenarios)"
   ]
  },
  {
   "cell_type": "markdown",
   "id": "15c6dd0e-a14a-4cd9-9358-919f5d5c7b3c",
   "metadata": {},
   "source": [
    "The braces `{{` `}}` in the original question text will be automatically changed to `<<` `>>` when the question is used as a scenario value; we can also do this explicitly:"
   ]
  },
  {
   "cell_type": "code",
   "execution_count": 17,
   "id": "fb945dec-e5d1-4300-b7d2-bd3b53cca3c9",
   "metadata": {
    "editable": true,
    "slideshow": {
     "slide_type": ""
    },
    "tags": []
   },
   "outputs": [
    {
     "name": "stderr",
     "output_type": "stream",
     "text": [
      "/Users/johnhorton/tools/edsl/edsl/agents/QuestionInstructionPromptBuilder.py:228: UserWarning: Question instructions still has variables: ['transcript'].\n",
      "  warn(f\"Question instructions still has variables: {undefined_vars}.\")\n"
     ]
    }
   ],
   "source": [
    "themes_results = q_themes.by(response_scenarios).run(verbose = False)"
   ]
  },
  {
   "cell_type": "code",
   "execution_count": 18,
   "id": "fdcc7e36-5f82-44d8-a8f0-464171e6f55f",
   "metadata": {
    "editable": true,
    "slideshow": {
     "slide_type": ""
    },
    "tags": []
   },
   "outputs": [
    {
     "data": {
      "text/html": [
       "\n",
       "            <div style=\"max-height: 500px; overflow-y: auto;\">\n",
       "                <style type=\"text/css\">\n",
       "#T_fee1d_row0_col0, #T_fee1d_row0_col1, #T_fee1d_row0_col2, #T_fee1d_row1_col0, #T_fee1d_row1_col1, #T_fee1d_row1_col2, #T_fee1d_row2_col0, #T_fee1d_row2_col1, #T_fee1d_row2_col2 {\n",
       "  text-align: left;\n",
       "}\n",
       "</style>\n",
       "<table id=\"T_fee1d\">\n",
       "  <thead>\n",
       "    <tr>\n",
       "      <th class=\"blank level0\" >&nbsp;</th>\n",
       "      <th id=\"T_fee1d_level0_col0\" class=\"col_heading level0 col0\" >scenario.question_name</th>\n",
       "      <th id=\"T_fee1d_level0_col1\" class=\"col_heading level0 col1\" >scenario.original_question</th>\n",
       "      <th id=\"T_fee1d_level0_col2\" class=\"col_heading level0 col2\" >answer.themes</th>\n",
       "    </tr>\n",
       "  </thead>\n",
       "  <tbody>\n",
       "    <tr>\n",
       "      <th id=\"T_fee1d_level0_row0\" class=\"row_heading level0 row0\" >0</th>\n",
       "      <td id=\"T_fee1d_row0_col0\" class=\"data row0 col0\" >reasons</td>\n",
       "      <td id=\"T_fee1d_row0_col1\" class=\"data row0 col1\" >Identify the interviewee's reasons for leaving: {{ transcript }}</td>\n",
       "      <td id=\"T_fee1d_row0_col2\" class=\"data row0 col2\" >['Limited career advancement opportunities', 'Lack of work-life balance', 'Remote work policy flexibility', 'Underutilization of skills', 'Desire for new challenges', 'Dissatisfaction with management style', 'Lack of recognition and rewards', 'Transparency in performance evaluation', 'Interdepartmental communication', 'Company culture competitiveness']</td>\n",
       "    </tr>\n",
       "    <tr>\n",
       "      <th id=\"T_fee1d_level0_row1\" class=\"row_heading level0 row1\" >1</th>\n",
       "      <td id=\"T_fee1d_row1_col0\" class=\"data row1 col0\" >policies</td>\n",
       "      <td id=\"T_fee1d_row1_col1\" class=\"data row1 col1\" >Identify any feedback on company policies from the interviewee: {{ transcript }}</td>\n",
       "      <td id=\"T_fee1d_row1_col2\" class=\"data row1 col2\" >['Career Advancement Opportunities', 'Work-Life Balance', 'Remote Work Flexibility', 'Recognition and Rewards', 'Performance Evaluation Transparency', 'Inter-Departmental Communication', 'Diversity and Inclusion', 'Management Support and Practices', 'Competitive Salaries', 'Education Reimbursement']</td>\n",
       "    </tr>\n",
       "    <tr>\n",
       "      <th id=\"T_fee1d_level0_row2\" class=\"row_heading level0 row2\" >2</th>\n",
       "      <td id=\"T_fee1d_row2_col0\" class=\"data row2 col0\" >suggestions</td>\n",
       "      <td id=\"T_fee1d_row2_col1\" class=\"data row2 col1\" >Identify any suggestions for improvements from the interviewee: {{ transcript }}</td>\n",
       "      <td id=\"T_fee1d_row2_col2\" class=\"data row2 col2\" >['Career Advancement Opportunities', 'Work-Life Balance', 'Remote Work Flexibility', 'Skill Utilization', 'Recognition and Rewards', 'Transparency in Performance Evaluations', 'Open Communication', 'Inclusivity and Diversity', 'Management Support', 'Competitive Salaries']</td>\n",
       "    </tr>\n",
       "  </tbody>\n",
       "</table>\n",
       "\n",
       "            </div>\n",
       "            "
      ],
      "text/plain": [
       "Dataset([{'scenario.question_name': ['reasons', 'policies', 'suggestions']}, {'scenario.original_question': [\"Identify the interviewee's reasons for leaving: {{ transcript }}\", 'Identify any feedback on company policies from the interviewee: {{ transcript }}', 'Identify any suggestions for improvements from the interviewee: {{ transcript }}']}, {'answer.themes': [['Limited career advancement opportunities', 'Lack of work-life balance', 'Remote work policy flexibility', 'Underutilization of skills', 'Desire for new challenges', 'Dissatisfaction with management style', 'Lack of recognition and rewards', 'Transparency in performance evaluation', 'Interdepartmental communication', 'Company culture competitiveness'], ['Career Advancement Opportunities', 'Work-Life Balance', 'Remote Work Flexibility', 'Recognition and Rewards', 'Performance Evaluation Transparency', 'Inter-Departmental Communication', 'Diversity and Inclusion', 'Management Support and Practices', 'Competitive Salaries', 'Education Reimbursement'], ['Career Advancement Opportunities', 'Work-Life Balance', 'Remote Work Flexibility', 'Skill Utilization', 'Recognition and Rewards', 'Transparency in Performance Evaluations', 'Open Communication', 'Inclusivity and Diversity', 'Management Support', 'Competitive Salaries']]}])"
      ]
     },
     "execution_count": 18,
     "metadata": {},
     "output_type": "execute_result"
    }
   ],
   "source": [
    "themes_results.select(\"question_name\", \"original_question\", \"themes\")"
   ]
  },
  {
   "cell_type": "markdown",
   "id": "727b7fc4-1a89-42aa-acf7-a4b47046f9aa",
   "metadata": {
    "editable": true,
    "slideshow": {
     "slide_type": ""
    },
    "tags": []
   },
   "source": [
    "Now we can use the lists of themes/topics to rerun the original questions as checkbox questions:"
   ]
  },
  {
   "cell_type": "code",
   "execution_count": 54,
   "id": "08623541-554a-4930-bec6-19557dd877a9",
   "metadata": {
    "editable": true,
    "slideshow": {
     "slide_type": ""
    },
    "tags": []
   },
   "outputs": [
    {
     "data": {
      "image/png": "[encoded data removed]",
      "text/plain": [
       "<IPython.core.display.Image object>"
      ]
     },
     "metadata": {},
     "output_type": "display_data"
    }
   ],
   "source": [
    "from edsl import QuestionCheckBox\n",
    "\n",
    "q_reasons_options = QuestionCheckBox(\n",
    "    question_name = \"reasons_options\",\n",
    "    question_text = \"Identify the interviewee's reasons for leaving: {{ transcript }}\",\n",
    "    question_options = themes_results.filter(\"question_name == 'reasons'\").select(\"themes\").first() + [\"None of these\"]\n",
    ")\n",
    "\n",
    "q_policies_options = QuestionCheckBox(\n",
    "    question_name = \"policies_options\",\n",
    "    question_text = \"Identify any feedback on company policies from the interviewee: {{ transcript }}\",\n",
    "    question_options = themes_results.filter(\"question_name == 'policies'\").select(\"themes\").first() + [\"None of these\"]\n",
    ")\n",
    "\n",
    "q_suggestions_options = QuestionCheckBox(\n",
    "    question_name = \"suggestions_options\",\n",
    "    question_text = \"Identify any suggestions for improvements from the interviewee: {{ transcript }}\",\n",
    "    question_options = themes_results.filter(\"question_name == 'suggestions'\").select(\"themes\").first() + [\"None of these\"]\n",
    ")\n",
    "options_survey = Survey([q_reasons_options, q_policies_options, q_suggestions_options])\n",
    "options_survey.show_flow()"
   ]
  },
  {
   "cell_type": "code",
   "execution_count": 21,
   "id": "667fe3ce-d78c-489a-b8ed-23ce93f6d09d",
   "metadata": {
    "editable": true,
    "slideshow": {
     "slide_type": ""
    },
    "tags": []
   },
   "outputs": [],
   "source": [
    "scenarios = ScenarioList.from_nested_dict(exit_interviews) # same as above"
   ]
  },
  {
   "cell_type": "code",
   "execution_count": 22,
   "id": "b665b207-5731-4740-b755-63f3f64c8309",
   "metadata": {},
   "outputs": [],
   "source": [
    "options_results = options_survey.by(scenarios).run(verbose = False)"
   ]
  },
  {
   "cell_type": "code",
   "execution_count": 23,
   "id": "177216e4-d755-49b3-ac18-6438c79e0262",
   "metadata": {
    "editable": true,
    "slideshow": {
     "slide_type": ""
    },
    "tags": []
   },
   "outputs": [
    {
     "data": {
      "text/html": [
       "\n",
       "            <div style=\"max-height: 500px; overflow-y: auto;\">\n",
       "                <style type=\"text/css\">\n",
       "#T_3bc79_row0_col0, #T_3bc79_row0_col1, #T_3bc79_row0_col2, #T_3bc79_row1_col0, #T_3bc79_row1_col1, #T_3bc79_row1_col2, #T_3bc79_row2_col0, #T_3bc79_row2_col1, #T_3bc79_row2_col2, #T_3bc79_row3_col0, #T_3bc79_row3_col1, #T_3bc79_row3_col2, #T_3bc79_row4_col0, #T_3bc79_row4_col1, #T_3bc79_row4_col2 {\n",
       "  text-align: left;\n",
       "}\n",
       "</style>\n",
       "<table id=\"T_3bc79\">\n",
       "  <thead>\n",
       "    <tr>\n",
       "      <th class=\"blank level0\" >&nbsp;</th>\n",
       "      <th id=\"T_3bc79_level0_col0\" class=\"col_heading level0 col0\" >answer.reasons_options</th>\n",
       "      <th id=\"T_3bc79_level0_col1\" class=\"col_heading level0 col1\" >answer.policies_options</th>\n",
       "      <th id=\"T_3bc79_level0_col2\" class=\"col_heading level0 col2\" >answer.suggestions_options</th>\n",
       "    </tr>\n",
       "  </thead>\n",
       "  <tbody>\n",
       "    <tr>\n",
       "      <th id=\"T_3bc79_level0_row0\" class=\"row_heading level0 row0\" >0</th>\n",
       "      <td id=\"T_3bc79_row0_col0\" class=\"data row0 col0\" >['Lack of work-life balance']</td>\n",
       "      <td id=\"T_3bc79_row0_col1\" class=\"data row0 col1\" >['Work-Life Balance']</td>\n",
       "      <td id=\"T_3bc79_row0_col2\" class=\"data row0 col2\" >['Work-Life Balance']</td>\n",
       "    </tr>\n",
       "    <tr>\n",
       "      <th id=\"T_3bc79_level0_row1\" class=\"row_heading level0 row1\" >1</th>\n",
       "      <td id=\"T_3bc79_row1_col0\" class=\"data row1 col0\" >['Limited career advancement opportunities', 'None of these']</td>\n",
       "      <td id=\"T_3bc79_row1_col1\" class=\"data row1 col1\" >['Career Advancement Opportunities', 'Competitive Salaries']</td>\n",
       "      <td id=\"T_3bc79_row1_col2\" class=\"data row1 col2\" >['Career Advancement Opportunities', 'Competitive Salaries']</td>\n",
       "    </tr>\n",
       "    <tr>\n",
       "      <th id=\"T_3bc79_level0_row2\" class=\"row_heading level0 row2\" >2</th>\n",
       "      <td id=\"T_3bc79_row2_col0\" class=\"data row2 col0\" >['Limited career advancement opportunities', 'None of these']</td>\n",
       "      <td id=\"T_3bc79_row2_col1\" class=\"data row2 col1\" >['Career Advancement Opportunities', 'Competitive Salaries']</td>\n",
       "      <td id=\"T_3bc79_row2_col2\" class=\"data row2 col2\" >['Career Advancement Opportunities', 'Competitive Salaries']</td>\n",
       "    </tr>\n",
       "    <tr>\n",
       "      <th id=\"T_3bc79_level0_row3\" class=\"row_heading level0 row3\" >3</th>\n",
       "      <td id=\"T_3bc79_row3_col0\" class=\"data row3 col0\" >['Desire for new challenges', 'None of these']</td>\n",
       "      <td id=\"T_3bc79_row3_col1\" class=\"data row3 col1\" >['None of these']</td>\n",
       "      <td id=\"T_3bc79_row3_col2\" class=\"data row3 col2\" >['Career Advancement Opportunities', 'Skill Utilization']</td>\n",
       "    </tr>\n",
       "    <tr>\n",
       "      <th id=\"T_3bc79_level0_row4\" class=\"row_heading level0 row4\" >4</th>\n",
       "      <td id=\"T_3bc79_row4_col0\" class=\"data row4 col0\" >['Limited career advancement opportunities', 'None of these']</td>\n",
       "      <td id=\"T_3bc79_row4_col1\" class=\"data row4 col1\" >['Career Advancement Opportunities', 'Competitive Salaries']</td>\n",
       "      <td id=\"T_3bc79_row4_col2\" class=\"data row4 col2\" >['Career Advancement Opportunities', 'Competitive Salaries']</td>\n",
       "    </tr>\n",
       "  </tbody>\n",
       "</table>\n",
       "\n",
       "            </div>\n",
       "            "
      ],
      "text/plain": [
       "Dataset([{'answer.reasons_options': [['Lack of work-life balance'], ['Limited career advancement opportunities', 'None of these'], ['Limited career advancement opportunities', 'None of these'], ['Desire for new challenges', 'None of these'], ['Limited career advancement opportunities', 'None of these']]}, {'answer.policies_options': [['Work-Life Balance'], ['Career Advancement Opportunities', 'Competitive Salaries'], ['Career Advancement Opportunities', 'Competitive Salaries'], ['None of these'], ['Career Advancement Opportunities', 'Competitive Salaries']]}, {'answer.suggestions_options': [['Work-Life Balance'], ['Career Advancement Opportunities', 'Competitive Salaries'], ['Career Advancement Opportunities', 'Competitive Salaries'], ['Career Advancement Opportunities', 'Skill Utilization'], ['Career Advancement Opportunities', 'Competitive Salaries']]}])"
      ]
     },
     "execution_count": 23,
     "metadata": {},
     "output_type": "execute_result"
    }
   ],
   "source": [
    "(options_results\n",
    " .sample(5)\n",
    " .select(\"reasons_options\", \"policies_options\", \"suggestions_options\")\n",
    ")"
   ]
  },
  {
   "cell_type": "markdown",
   "id": "061390ad-8a61-4b6f-b62a-8addc8168fcc",
   "metadata": {},
   "source": [
    "## We can tally up themes by question\n",
    "Note that EDSL has extensive commands for re-shaping results objects returns from a survey."
   ]
  },
  {
   "cell_type": "code",
   "execution_count": 36,
   "id": "7c761760",
   "metadata": {},
   "outputs": [
    {
     "data": {
      "text/html": [
       "\n",
       "            <div style=\"max-height: 500px; overflow-y: auto;\">\n",
       "                <style type=\"text/css\">\n",
       "#T_c3152_row0_col0, #T_c3152_row0_col1, #T_c3152_row1_col0, #T_c3152_row1_col1, #T_c3152_row2_col0, #T_c3152_row2_col1, #T_c3152_row3_col0, #T_c3152_row3_col1, #T_c3152_row4_col0, #T_c3152_row4_col1, #T_c3152_row5_col0, #T_c3152_row5_col1, #T_c3152_row6_col0, #T_c3152_row6_col1, #T_c3152_row7_col0, #T_c3152_row7_col1, #T_c3152_row8_col0, #T_c3152_row8_col1, #T_c3152_row9_col0, #T_c3152_row9_col1, #T_c3152_row10_col0, #T_c3152_row10_col1, #T_c3152_row11_col0, #T_c3152_row11_col1, #T_c3152_row12_col0, #T_c3152_row12_col1, #T_c3152_row13_col0, #T_c3152_row13_col1, #T_c3152_row14_col0, #T_c3152_row14_col1, #T_c3152_row15_col0, #T_c3152_row15_col1, #T_c3152_row16_col0, #T_c3152_row16_col1, #T_c3152_row17_col0, #T_c3152_row17_col1, #T_c3152_row18_col0, #T_c3152_row18_col1, #T_c3152_row19_col0, #T_c3152_row19_col1, #T_c3152_row20_col0, #T_c3152_row20_col1, #T_c3152_row21_col0, #T_c3152_row21_col1, #T_c3152_row22_col0, #T_c3152_row22_col1, #T_c3152_row23_col0, #T_c3152_row23_col1, #T_c3152_row24_col0, #T_c3152_row24_col1, #T_c3152_row25_col0, #T_c3152_row25_col1, #T_c3152_row26_col0, #T_c3152_row26_col1, #T_c3152_row27_col0, #T_c3152_row27_col1, #T_c3152_row28_col0, #T_c3152_row28_col1, #T_c3152_row29_col0, #T_c3152_row29_col1, #T_c3152_row30_col0, #T_c3152_row30_col1, #T_c3152_row31_col0, #T_c3152_row31_col1, #T_c3152_row32_col0, #T_c3152_row32_col1 {\n",
       "  text-align: left;\n",
       "}\n",
       "#T_c3152_row0_col2 {\n",
       "  text-align: left;\n",
       "  background-color: #045d92;\n",
       "  color: #f1f1f1;\n",
       "}\n",
       "#T_c3152_row1_col2 {\n",
       "  text-align: left;\n",
       "  background-color: #91b5d6;\n",
       "  color: #000000;\n",
       "}\n",
       "#T_c3152_row2_col2, #T_c3152_row3_col2, #T_c3152_row4_col2, #T_c3152_row14_col2, #T_c3152_row15_col2, #T_c3152_row16_col2, #T_c3152_row25_col2, #T_c3152_row26_col2, #T_c3152_row27_col2, #T_c3152_row28_col2 {\n",
       "  text-align: left;\n",
       "  background-color: #e8e4f0;\n",
       "  color: #000000;\n",
       "}\n",
       "#T_c3152_row5_col2, #T_c3152_row6_col2, #T_c3152_row7_col2, #T_c3152_row8_col2, #T_c3152_row9_col2, #T_c3152_row10_col2, #T_c3152_row17_col2, #T_c3152_row18_col2, #T_c3152_row19_col2, #T_c3152_row20_col2, #T_c3152_row21_col2, #T_c3152_row29_col2, #T_c3152_row30_col2, #T_c3152_row31_col2, #T_c3152_row32_col2 {\n",
       "  text-align: left;\n",
       "  background-color: #fff7fb;\n",
       "  color: #000000;\n",
       "}\n",
       "#T_c3152_row11_col2 {\n",
       "  text-align: left;\n",
       "  background-color: #023858;\n",
       "  color: #f1f1f1;\n",
       "}\n",
       "#T_c3152_row12_col2, #T_c3152_row13_col2, #T_c3152_row24_col2 {\n",
       "  text-align: left;\n",
       "  background-color: #c4cbe3;\n",
       "  color: #000000;\n",
       "}\n",
       "#T_c3152_row22_col2, #T_c3152_row23_col2 {\n",
       "  text-align: left;\n",
       "  background-color: #509ac6;\n",
       "  color: #f1f1f1;\n",
       "}\n",
       "</style>\n",
       "<table id=\"T_c3152\">\n",
       "  <thead>\n",
       "    <tr>\n",
       "      <th class=\"blank level0\" >&nbsp;</th>\n",
       "      <th id=\"T_c3152_level0_col0\" class=\"col_heading level0 col0\" >key</th>\n",
       "      <th id=\"T_c3152_level0_col1\" class=\"col_heading level0 col1\" >value</th>\n",
       "      <th id=\"T_c3152_level0_col2\" class=\"col_heading level0 col2\" >num_mentions</th>\n",
       "    </tr>\n",
       "  </thead>\n",
       "  <tbody>\n",
       "    <tr>\n",
       "      <th id=\"T_c3152_level0_row0\" class=\"row_heading level0 row0\" >0</th>\n",
       "      <td id=\"T_c3152_row0_col0\" class=\"data row0 col0\" >answer.policies_options</td>\n",
       "      <td id=\"T_c3152_row0_col1\" class=\"data row0 col1\" >None of these</td>\n",
       "      <td id=\"T_c3152_row0_col2\" class=\"data row0 col2\" >7</td>\n",
       "    </tr>\n",
       "    <tr>\n",
       "      <th id=\"T_c3152_level0_row1\" class=\"row_heading level0 row1\" >1</th>\n",
       "      <td id=\"T_c3152_row1_col0\" class=\"data row1 col0\" >answer.policies_options</td>\n",
       "      <td id=\"T_c3152_row1_col1\" class=\"data row1 col1\" >Career Advancement Opportunities</td>\n",
       "      <td id=\"T_c3152_row1_col2\" class=\"data row1 col2\" >4</td>\n",
       "    </tr>\n",
       "    <tr>\n",
       "      <th id=\"T_c3152_level0_row2\" class=\"row_heading level0 row2\" >2</th>\n",
       "      <td id=\"T_c3152_row2_col0\" class=\"data row2 col0\" >answer.policies_options</td>\n",
       "      <td id=\"T_c3152_row2_col1\" class=\"data row2 col1\" >Recognition and Rewards</td>\n",
       "      <td id=\"T_c3152_row2_col2\" class=\"data row2 col2\" >2</td>\n",
       "    </tr>\n",
       "    <tr>\n",
       "      <th id=\"T_c3152_level0_row3\" class=\"row_heading level0 row3\" >3</th>\n",
       "      <td id=\"T_c3152_row3_col0\" class=\"data row3 col0\" >answer.policies_options</td>\n",
       "      <td id=\"T_c3152_row3_col1\" class=\"data row3 col1\" >Management Support and Practices</td>\n",
       "      <td id=\"T_c3152_row3_col2\" class=\"data row3 col2\" >2</td>\n",
       "    </tr>\n",
       "    <tr>\n",
       "      <th id=\"T_c3152_level0_row4\" class=\"row_heading level0 row4\" >4</th>\n",
       "      <td id=\"T_c3152_row4_col0\" class=\"data row4 col0\" >answer.policies_options</td>\n",
       "      <td id=\"T_c3152_row4_col1\" class=\"data row4 col1\" >Education Reimbursement</td>\n",
       "      <td id=\"T_c3152_row4_col2\" class=\"data row4 col2\" >2</td>\n",
       "    </tr>\n",
       "    <tr>\n",
       "      <th id=\"T_c3152_level0_row5\" class=\"row_heading level0 row5\" >5</th>\n",
       "      <td id=\"T_c3152_row5_col0\" class=\"data row5 col0\" >answer.policies_options</td>\n",
       "      <td id=\"T_c3152_row5_col1\" class=\"data row5 col1\" >Work-Life Balance</td>\n",
       "      <td id=\"T_c3152_row5_col2\" class=\"data row5 col2\" >1</td>\n",
       "    </tr>\n",
       "    <tr>\n",
       "      <th id=\"T_c3152_level0_row6\" class=\"row_heading level0 row6\" >6</th>\n",
       "      <td id=\"T_c3152_row6_col0\" class=\"data row6 col0\" >answer.policies_options</td>\n",
       "      <td id=\"T_c3152_row6_col1\" class=\"data row6 col1\" >Remote Work Flexibility</td>\n",
       "      <td id=\"T_c3152_row6_col2\" class=\"data row6 col2\" >1</td>\n",
       "    </tr>\n",
       "    <tr>\n",
       "      <th id=\"T_c3152_level0_row7\" class=\"row_heading level0 row7\" >7</th>\n",
       "      <td id=\"T_c3152_row7_col0\" class=\"data row7 col0\" >answer.policies_options</td>\n",
       "      <td id=\"T_c3152_row7_col1\" class=\"data row7 col1\" >Performance Evaluation Transparency</td>\n",
       "      <td id=\"T_c3152_row7_col2\" class=\"data row7 col2\" >1</td>\n",
       "    </tr>\n",
       "    <tr>\n",
       "      <th id=\"T_c3152_level0_row8\" class=\"row_heading level0 row8\" >8</th>\n",
       "      <td id=\"T_c3152_row8_col0\" class=\"data row8 col0\" >answer.policies_options</td>\n",
       "      <td id=\"T_c3152_row8_col1\" class=\"data row8 col1\" >Inter-Departmental Communication</td>\n",
       "      <td id=\"T_c3152_row8_col2\" class=\"data row8 col2\" >1</td>\n",
       "    </tr>\n",
       "    <tr>\n",
       "      <th id=\"T_c3152_level0_row9\" class=\"row_heading level0 row9\" >9</th>\n",
       "      <td id=\"T_c3152_row9_col0\" class=\"data row9 col0\" >answer.policies_options</td>\n",
       "      <td id=\"T_c3152_row9_col1\" class=\"data row9 col1\" >Diversity and Inclusion</td>\n",
       "      <td id=\"T_c3152_row9_col2\" class=\"data row9 col2\" >1</td>\n",
       "    </tr>\n",
       "    <tr>\n",
       "      <th id=\"T_c3152_level0_row10\" class=\"row_heading level0 row10\" >10</th>\n",
       "      <td id=\"T_c3152_row10_col0\" class=\"data row10 col0\" >answer.policies_options</td>\n",
       "      <td id=\"T_c3152_row10_col1\" class=\"data row10 col1\" >Competitive Salaries</td>\n",
       "      <td id=\"T_c3152_row10_col2\" class=\"data row10 col2\" >1</td>\n",
       "    </tr>\n",
       "    <tr>\n",
       "      <th id=\"T_c3152_level0_row11\" class=\"row_heading level0 row11\" >11</th>\n",
       "      <td id=\"T_c3152_row11_col0\" class=\"data row11 col0\" >answer.reasons_options</td>\n",
       "      <td id=\"T_c3152_row11_col1\" class=\"data row11 col1\" >None of these</td>\n",
       "      <td id=\"T_c3152_row11_col2\" class=\"data row11 col2\" >8</td>\n",
       "    </tr>\n",
       "    <tr>\n",
       "      <th id=\"T_c3152_level0_row12\" class=\"row_heading level0 row12\" >12</th>\n",
       "      <td id=\"T_c3152_row12_col0\" class=\"data row12 col0\" >answer.reasons_options</td>\n",
       "      <td id=\"T_c3152_row12_col1\" class=\"data row12 col1\" >Limited career advancement opportunities</td>\n",
       "      <td id=\"T_c3152_row12_col2\" class=\"data row12 col2\" >3</td>\n",
       "    </tr>\n",
       "    <tr>\n",
       "      <th id=\"T_c3152_level0_row13\" class=\"row_heading level0 row13\" >13</th>\n",
       "      <td id=\"T_c3152_row13_col0\" class=\"data row13 col0\" >answer.reasons_options</td>\n",
       "      <td id=\"T_c3152_row13_col1\" class=\"data row13 col1\" >Desire for new challenges</td>\n",
       "      <td id=\"T_c3152_row13_col2\" class=\"data row13 col2\" >3</td>\n",
       "    </tr>\n",
       "    <tr>\n",
       "      <th id=\"T_c3152_level0_row14\" class=\"row_heading level0 row14\" >14</th>\n",
       "      <td id=\"T_c3152_row14_col0\" class=\"data row14 col0\" >answer.reasons_options</td>\n",
       "      <td id=\"T_c3152_row14_col1\" class=\"data row14 col1\" >Transparency in performance evaluation</td>\n",
       "      <td id=\"T_c3152_row14_col2\" class=\"data row14 col2\" >2</td>\n",
       "    </tr>\n",
       "    <tr>\n",
       "      <th id=\"T_c3152_level0_row15\" class=\"row_heading level0 row15\" >15</th>\n",
       "      <td id=\"T_c3152_row15_col0\" class=\"data row15 col0\" >answer.reasons_options</td>\n",
       "      <td id=\"T_c3152_row15_col1\" class=\"data row15 col1\" >Lack of recognition and rewards</td>\n",
       "      <td id=\"T_c3152_row15_col2\" class=\"data row15 col2\" >2</td>\n",
       "    </tr>\n",
       "    <tr>\n",
       "      <th id=\"T_c3152_level0_row16\" class=\"row_heading level0 row16\" >16</th>\n",
       "      <td id=\"T_c3152_row16_col0\" class=\"data row16 col0\" >answer.reasons_options</td>\n",
       "      <td id=\"T_c3152_row16_col1\" class=\"data row16 col1\" >Dissatisfaction with management style</td>\n",
       "      <td id=\"T_c3152_row16_col2\" class=\"data row16 col2\" >2</td>\n",
       "    </tr>\n",
       "    <tr>\n",
       "      <th id=\"T_c3152_level0_row17\" class=\"row_heading level0 row17\" >17</th>\n",
       "      <td id=\"T_c3152_row17_col0\" class=\"data row17 col0\" >answer.reasons_options</td>\n",
       "      <td id=\"T_c3152_row17_col1\" class=\"data row17 col1\" >Underutilization of skills</td>\n",
       "      <td id=\"T_c3152_row17_col2\" class=\"data row17 col2\" >1</td>\n",
       "    </tr>\n",
       "    <tr>\n",
       "      <th id=\"T_c3152_level0_row18\" class=\"row_heading level0 row18\" >18</th>\n",
       "      <td id=\"T_c3152_row18_col0\" class=\"data row18 col0\" >answer.reasons_options</td>\n",
       "      <td id=\"T_c3152_row18_col1\" class=\"data row18 col1\" >Remote work policy flexibility</td>\n",
       "      <td id=\"T_c3152_row18_col2\" class=\"data row18 col2\" >1</td>\n",
       "    </tr>\n",
       "    <tr>\n",
       "      <th id=\"T_c3152_level0_row19\" class=\"row_heading level0 row19\" >19</th>\n",
       "      <td id=\"T_c3152_row19_col0\" class=\"data row19 col0\" >answer.reasons_options</td>\n",
       "      <td id=\"T_c3152_row19_col1\" class=\"data row19 col1\" >Lack of work-life balance</td>\n",
       "      <td id=\"T_c3152_row19_col2\" class=\"data row19 col2\" >1</td>\n",
       "    </tr>\n",
       "    <tr>\n",
       "      <th id=\"T_c3152_level0_row20\" class=\"row_heading level0 row20\" >20</th>\n",
       "      <td id=\"T_c3152_row20_col0\" class=\"data row20 col0\" >answer.reasons_options</td>\n",
       "      <td id=\"T_c3152_row20_col1\" class=\"data row20 col1\" >Interdepartmental communication</td>\n",
       "      <td id=\"T_c3152_row20_col2\" class=\"data row20 col2\" >1</td>\n",
       "    </tr>\n",
       "    <tr>\n",
       "      <th id=\"T_c3152_level0_row21\" class=\"row_heading level0 row21\" >21</th>\n",
       "      <td id=\"T_c3152_row21_col0\" class=\"data row21 col0\" >answer.reasons_options</td>\n",
       "      <td id=\"T_c3152_row21_col1\" class=\"data row21 col1\" >Company culture competitiveness</td>\n",
       "      <td id=\"T_c3152_row21_col2\" class=\"data row21 col2\" >1</td>\n",
       "    </tr>\n",
       "    <tr>\n",
       "      <th id=\"T_c3152_level0_row22\" class=\"row_heading level0 row22\" >22</th>\n",
       "      <td id=\"T_c3152_row22_col0\" class=\"data row22 col0\" >answer.suggestions_options</td>\n",
       "      <td id=\"T_c3152_row22_col1\" class=\"data row22 col1\" >None of these</td>\n",
       "      <td id=\"T_c3152_row22_col2\" class=\"data row22 col2\" >5</td>\n",
       "    </tr>\n",
       "    <tr>\n",
       "      <th id=\"T_c3152_level0_row23\" class=\"row_heading level0 row23\" >23</th>\n",
       "      <td id=\"T_c3152_row23_col0\" class=\"data row23 col0\" >answer.suggestions_options</td>\n",
       "      <td id=\"T_c3152_row23_col1\" class=\"data row23 col1\" >Career Advancement Opportunities</td>\n",
       "      <td id=\"T_c3152_row23_col2\" class=\"data row23 col2\" >5</td>\n",
       "    </tr>\n",
       "    <tr>\n",
       "      <th id=\"T_c3152_level0_row24\" class=\"row_heading level0 row24\" >24</th>\n",
       "      <td id=\"T_c3152_row24_col0\" class=\"data row24 col0\" >answer.suggestions_options</td>\n",
       "      <td id=\"T_c3152_row24_col1\" class=\"data row24 col1\" >Skill Utilization</td>\n",
       "      <td id=\"T_c3152_row24_col2\" class=\"data row24 col2\" >3</td>\n",
       "    </tr>\n",
       "    <tr>\n",
       "      <th id=\"T_c3152_level0_row25\" class=\"row_heading level0 row25\" >25</th>\n",
       "      <td id=\"T_c3152_row25_col0\" class=\"data row25 col0\" >answer.suggestions_options</td>\n",
       "      <td id=\"T_c3152_row25_col1\" class=\"data row25 col1\" >Transparency in Performance Evaluations</td>\n",
       "      <td id=\"T_c3152_row25_col2\" class=\"data row25 col2\" >2</td>\n",
       "    </tr>\n",
       "    <tr>\n",
       "      <th id=\"T_c3152_level0_row26\" class=\"row_heading level0 row26\" >26</th>\n",
       "      <td id=\"T_c3152_row26_col0\" class=\"data row26 col0\" >answer.suggestions_options</td>\n",
       "      <td id=\"T_c3152_row26_col1\" class=\"data row26 col1\" >Recognition and Rewards</td>\n",
       "      <td id=\"T_c3152_row26_col2\" class=\"data row26 col2\" >2</td>\n",
       "    </tr>\n",
       "    <tr>\n",
       "      <th id=\"T_c3152_level0_row27\" class=\"row_heading level0 row27\" >27</th>\n",
       "      <td id=\"T_c3152_row27_col0\" class=\"data row27 col0\" >answer.suggestions_options</td>\n",
       "      <td id=\"T_c3152_row27_col1\" class=\"data row27 col1\" >Open Communication</td>\n",
       "      <td id=\"T_c3152_row27_col2\" class=\"data row27 col2\" >2</td>\n",
       "    </tr>\n",
       "    <tr>\n",
       "      <th id=\"T_c3152_level0_row28\" class=\"row_heading level0 row28\" >28</th>\n",
       "      <td id=\"T_c3152_row28_col0\" class=\"data row28 col0\" >answer.suggestions_options</td>\n",
       "      <td id=\"T_c3152_row28_col1\" class=\"data row28 col1\" >Management Support</td>\n",
       "      <td id=\"T_c3152_row28_col2\" class=\"data row28 col2\" >2</td>\n",
       "    </tr>\n",
       "    <tr>\n",
       "      <th id=\"T_c3152_level0_row29\" class=\"row_heading level0 row29\" >29</th>\n",
       "      <td id=\"T_c3152_row29_col0\" class=\"data row29 col0\" >answer.suggestions_options</td>\n",
       "      <td id=\"T_c3152_row29_col1\" class=\"data row29 col1\" >Work-Life Balance</td>\n",
       "      <td id=\"T_c3152_row29_col2\" class=\"data row29 col2\" >1</td>\n",
       "    </tr>\n",
       "    <tr>\n",
       "      <th id=\"T_c3152_level0_row30\" class=\"row_heading level0 row30\" >30</th>\n",
       "      <td id=\"T_c3152_row30_col0\" class=\"data row30 col0\" >answer.suggestions_options</td>\n",
       "      <td id=\"T_c3152_row30_col1\" class=\"data row30 col1\" >Remote Work Flexibility</td>\n",
       "      <td id=\"T_c3152_row30_col2\" class=\"data row30 col2\" >1</td>\n",
       "    </tr>\n",
       "    <tr>\n",
       "      <th id=\"T_c3152_level0_row31\" class=\"row_heading level0 row31\" >31</th>\n",
       "      <td id=\"T_c3152_row31_col0\" class=\"data row31 col0\" >answer.suggestions_options</td>\n",
       "      <td id=\"T_c3152_row31_col1\" class=\"data row31 col1\" >Inclusivity and Diversity</td>\n",
       "      <td id=\"T_c3152_row31_col2\" class=\"data row31 col2\" >1</td>\n",
       "    </tr>\n",
       "    <tr>\n",
       "      <th id=\"T_c3152_level0_row32\" class=\"row_heading level0 row32\" >32</th>\n",
       "      <td id=\"T_c3152_row32_col0\" class=\"data row32 col0\" >answer.suggestions_options</td>\n",
       "      <td id=\"T_c3152_row32_col1\" class=\"data row32 col1\" >Competitive Salaries</td>\n",
       "      <td id=\"T_c3152_row32_col2\" class=\"data row32 col2\" >1</td>\n",
       "    </tr>\n",
       "  </tbody>\n",
       "</table>\n",
       "\n",
       "            </div>\n",
       "            "
      ],
      "text/plain": [
       "Dataset([{'key': ['answer.policies_options', 'answer.policies_options', 'answer.policies_options', 'answer.policies_options', 'answer.policies_options', 'answer.policies_options', 'answer.policies_options', 'answer.policies_options', 'answer.policies_options', 'answer.policies_options', 'answer.policies_options', 'answer.reasons_options', 'answer.reasons_options', 'answer.reasons_options', 'answer.reasons_options', 'answer.reasons_options', 'answer.reasons_options', 'answer.reasons_options', 'answer.reasons_options', 'answer.reasons_options', 'answer.reasons_options', 'answer.reasons_options', 'answer.suggestions_options', 'answer.suggestions_options', 'answer.suggestions_options', 'answer.suggestions_options', 'answer.suggestions_options', 'answer.suggestions_options', 'answer.suggestions_options', 'answer.suggestions_options', 'answer.suggestions_options', 'answer.suggestions_options', 'answer.suggestions_options']}, {'value': ['None of these', 'Career Advancement Opportunities', 'Recognition and Rewards', 'Management Support and Practices', 'Education Reimbursement', 'Work-Life Balance', 'Remote Work Flexibility', 'Performance Evaluation Transparency', 'Inter-Departmental Communication', 'Diversity and Inclusion', 'Competitive Salaries', 'None of these', 'Limited career advancement opportunities', 'Desire for new challenges', 'Transparency in performance evaluation', 'Lack of recognition and rewards', 'Dissatisfaction with management style', 'Underutilization of skills', 'Remote work policy flexibility', 'Lack of work-life balance', 'Interdepartmental communication', 'Company culture competitiveness', 'None of these', 'Career Advancement Opportunities', 'Skill Utilization', 'Transparency in Performance Evaluations', 'Recognition and Rewards', 'Open Communication', 'Management Support', 'Work-Life Balance', 'Remote Work Flexibility', 'Inclusivity and Diversity', 'Competitive Salaries']}, {'num_mentions': [7, 4, 2, 2, 2, 1, 1, 1, 1, 1, 1, 8, 3, 3, 2, 2, 2, 1, 1, 1, 1, 1, 5, 5, 3, 2, 2, 2, 2, 1, 1, 1, 1]}])"
      ]
     },
     "execution_count": 36,
     "metadata": {},
     "output_type": "execute_result"
    }
   ],
   "source": [
    "(options_results\n",
    " .select(\"reasons_options\", \"policies_options\", \"suggestions_options\")\n",
    " .long() # get all the answers in one column called 'value'\n",
    " .expand(\"value\") # expand the list of responses\n",
    " .sql(\"\"\"\n",
    "select key, value, count(*) as num_mentions \n",
    "from self group by key, value \n",
    "order by key, num_mentions desc\"\"\")\n",
    ")"
   ]
  },
  {
   "cell_type": "markdown",
   "id": "e5782bc0-9640-4f54-addf-6737377b2e84",
   "metadata": {},
   "source": [
    "## Visualizaing the data\n",
    "We can also reshape with SQL and plot our data by passing ggplot2 code. "
   ]
  },
  {
   "cell_type": "code",
   "execution_count": 49,
   "id": "32d51398-f82a-49f5-9f29-1efb3b5fbec4",
   "metadata": {},
   "outputs": [
    {
     "data": {
      "text/html": [
       "<?xml version='1.0' encoding='UTF-8' ?>\n",
       "<svg xmlns='http://www.w3.org/2000/svg' xmlns:xlink='http://www.w3.org/1999/xlink' class='svglite' width='432.00pt' height='432.00pt' viewBox='0 0 432.00 432.00'>\n",
       "<defs>\n",
       "  <style type='text/css'><![CDATA[\n",
       "    .svglite line, .svglite polyline, .svglite polygon, .svglite path, .svglite rect, .svglite circle {\n",
       "      fill: none;\n",
       "      stroke: #000000;\n",
       "      stroke-linecap: round;\n",
       "      stroke-linejoin: round;\n",
       "      stroke-miterlimit: 10.00;\n",
       "    }\n",
       "    .svglite text {\n",
       "      white-space: pre;\n",
       "    }\n",
       "  ]]></style>\n",
       "</defs>\n",
       "<rect width='100%' height='100%' style='stroke: none; fill: #FFFFFF;'/>\n",
       "<defs>\n",
       "  <clipPath id='cpMC4wMHw0MzIuMDB8MC4wMHw0MzIuMDA='>\n",
       "    <rect x='0.00' y='0.00' width='432.00' height='432.00' />\n",
       "  </clipPath>\n",
       "</defs>\n",
       "<g clip-path='url(#cpMC4wMHw0MzIuMDB8MC4wMHw0MzIuMDA=)'>\n",
       "<rect x='0.000000000000032' y='0.000000000000057' width='432.00' height='432.00' style='stroke-width: 1.07; stroke: #FFFFFF; fill: #FFFFFF;' />\n",
       "</g>\n",
       "<defs>\n",
       "  <clipPath id='cpMTg3LjMzfDQyNi41MnwyMi41MHwxMzMuNDI='>\n",
       "    <rect x='187.33' y='22.50' width='239.19' height='110.92' />\n",
       "  </clipPath>\n",
       "</defs>\n",
       "<g clip-path='url(#cpMTg3LjMzfDQyNi41MnwyMi41MHwxMzMuNDI=)'>\n",
       "<rect x='187.33' y='22.50' width='239.19' height='110.92' style='stroke-width: 1.07; stroke: none; fill: #EBEBEB;' />\n",
       "<polyline points='198.21,133.42 198.21,22.50 ' style='stroke-width: 0.53; stroke: #FFFFFF; stroke-linecap: butt;' />\n",
       "<polyline points='260.33,133.42 260.33,22.50 ' style='stroke-width: 0.53; stroke: #FFFFFF; stroke-linecap: butt;' />\n",
       "<polyline points='322.46,133.42 322.46,22.50 ' style='stroke-width: 0.53; stroke: #FFFFFF; stroke-linecap: butt;' />\n",
       "<polyline points='384.59,133.42 384.59,22.50 ' style='stroke-width: 0.53; stroke: #FFFFFF; stroke-linecap: butt;' />\n",
       "<polyline points='187.33,127.48 426.52,127.48 ' style='stroke-width: 1.07; stroke: #FFFFFF; stroke-linecap: butt;' />\n",
       "<polyline points='187.33,117.58 426.52,117.58 ' style='stroke-width: 1.07; stroke: #FFFFFF; stroke-linecap: butt;' />\n",
       "<polyline points='187.33,107.67 426.52,107.67 ' style='stroke-width: 1.07; stroke: #FFFFFF; stroke-linecap: butt;' />\n",
       "<polyline points='187.33,97.77 426.52,97.77 ' style='stroke-width: 1.07; stroke: #FFFFFF; stroke-linecap: butt;' />\n",
       "<polyline points='187.33,87.87 426.52,87.87 ' style='stroke-width: 1.07; stroke: #FFFFFF; stroke-linecap: butt;' />\n",
       "<polyline points='187.33,77.96 426.52,77.96 ' style='stroke-width: 1.07; stroke: #FFFFFF; stroke-linecap: butt;' />\n",
       "<polyline points='187.33,68.06 426.52,68.06 ' style='stroke-width: 1.07; stroke: #FFFFFF; stroke-linecap: butt;' />\n",
       "<polyline points='187.33,58.16 426.52,58.16 ' style='stroke-width: 1.07; stroke: #FFFFFF; stroke-linecap: butt;' />\n",
       "<polyline points='187.33,48.25 426.52,48.25 ' style='stroke-width: 1.07; stroke: #FFFFFF; stroke-linecap: butt;' />\n",
       "<polyline points='187.33,38.35 426.52,38.35 ' style='stroke-width: 1.07; stroke: #FFFFFF; stroke-linecap: butt;' />\n",
       "<polyline points='187.33,28.45 426.52,28.45 ' style='stroke-width: 1.07; stroke: #FFFFFF; stroke-linecap: butt;' />\n",
       "<polyline points='229.27,133.42 229.27,22.50 ' style='stroke-width: 1.07; stroke: #FFFFFF; stroke-linecap: butt;' />\n",
       "<polyline points='291.40,133.42 291.40,22.50 ' style='stroke-width: 1.07; stroke: #FFFFFF; stroke-linecap: butt;' />\n",
       "<polyline points='353.52,133.42 353.52,22.50 ' style='stroke-width: 1.07; stroke: #FFFFFF; stroke-linecap: butt;' />\n",
       "<polyline points='415.65,133.42 415.65,22.50 ' style='stroke-width: 1.07; stroke: #FFFFFF; stroke-linecap: butt;' />\n",
       "<circle cx='384.59' cy='28.45' r='1.95' style='stroke-width: 0.71; fill: #000000;' />\n",
       "<circle cx='291.40' cy='38.35' r='1.95' style='stroke-width: 0.71; fill: #000000;' />\n",
       "<circle cx='229.27' cy='48.25' r='1.95' style='stroke-width: 0.71; fill: #000000;' />\n",
       "<circle cx='229.27' cy='58.16' r='1.95' style='stroke-width: 0.71; fill: #000000;' />\n",
       "<circle cx='229.27' cy='68.06' r='1.95' style='stroke-width: 0.71; fill: #000000;' />\n",
       "<circle cx='198.21' cy='77.96' r='1.95' style='stroke-width: 0.71; fill: #000000;' />\n",
       "<circle cx='198.21' cy='87.87' r='1.95' style='stroke-width: 0.71; fill: #000000;' />\n",
       "<circle cx='198.21' cy='97.77' r='1.95' style='stroke-width: 0.71; fill: #000000;' />\n",
       "<circle cx='198.21' cy='107.67' r='1.95' style='stroke-width: 0.71; fill: #000000;' />\n",
       "<circle cx='198.21' cy='117.58' r='1.95' style='stroke-width: 0.71; fill: #000000;' />\n",
       "<circle cx='198.21' cy='127.48' r='1.95' style='stroke-width: 0.71; fill: #000000;' />\n",
       "</g>\n",
       "<g clip-path='url(#cpMC4wMHw0MzIuMDB8MC4wMHw0MzIuMDA=)'>\n",
       "</g>\n",
       "<defs>\n",
       "  <clipPath id='cpMTg3LjMzfDQyNi41MnwxNTUuOTN8MjY2Ljg0'>\n",
       "    <rect x='187.33' y='155.93' width='239.19' height='110.92' />\n",
       "  </clipPath>\n",
       "</defs>\n",
       "<g clip-path='url(#cpMTg3LjMzfDQyNi41MnwxNTUuOTN8MjY2Ljg0)'>\n",
       "<rect x='187.33' y='155.93' width='239.19' height='110.92' style='stroke-width: 1.07; stroke: none; fill: #EBEBEB;' />\n",
       "<polyline points='198.21,266.84 198.21,155.93 ' style='stroke-width: 0.53; stroke: #FFFFFF; stroke-linecap: butt;' />\n",
       "<polyline points='260.33,266.84 260.33,155.93 ' style='stroke-width: 0.53; stroke: #FFFFFF; stroke-linecap: butt;' />\n",
       "<polyline points='322.46,266.84 322.46,155.93 ' style='stroke-width: 0.53; stroke: #FFFFFF; stroke-linecap: butt;' />\n",
       "<polyline points='384.59,266.84 384.59,155.93 ' style='stroke-width: 0.53; stroke: #FFFFFF; stroke-linecap: butt;' />\n",
       "<polyline points='187.33,260.90 426.52,260.90 ' style='stroke-width: 1.07; stroke: #FFFFFF; stroke-linecap: butt;' />\n",
       "<polyline points='187.33,251.00 426.52,251.00 ' style='stroke-width: 1.07; stroke: #FFFFFF; stroke-linecap: butt;' />\n",
       "<polyline points='187.33,241.10 426.52,241.10 ' style='stroke-width: 1.07; stroke: #FFFFFF; stroke-linecap: butt;' />\n",
       "<polyline points='187.33,231.19 426.52,231.19 ' style='stroke-width: 1.07; stroke: #FFFFFF; stroke-linecap: butt;' />\n",
       "<polyline points='187.33,221.29 426.52,221.29 ' style='stroke-width: 1.07; stroke: #FFFFFF; stroke-linecap: butt;' />\n",
       "<polyline points='187.33,211.39 426.52,211.39 ' style='stroke-width: 1.07; stroke: #FFFFFF; stroke-linecap: butt;' />\n",
       "<polyline points='187.33,201.48 426.52,201.48 ' style='stroke-width: 1.07; stroke: #FFFFFF; stroke-linecap: butt;' />\n",
       "<polyline points='187.33,191.58 426.52,191.58 ' style='stroke-width: 1.07; stroke: #FFFFFF; stroke-linecap: butt;' />\n",
       "<polyline points='187.33,181.68 426.52,181.68 ' style='stroke-width: 1.07; stroke: #FFFFFF; stroke-linecap: butt;' />\n",
       "<polyline points='187.33,171.77 426.52,171.77 ' style='stroke-width: 1.07; stroke: #FFFFFF; stroke-linecap: butt;' />\n",
       "<polyline points='187.33,161.87 426.52,161.87 ' style='stroke-width: 1.07; stroke: #FFFFFF; stroke-linecap: butt;' />\n",
       "<polyline points='229.27,266.84 229.27,155.93 ' style='stroke-width: 1.07; stroke: #FFFFFF; stroke-linecap: butt;' />\n",
       "<polyline points='291.40,266.84 291.40,155.93 ' style='stroke-width: 1.07; stroke: #FFFFFF; stroke-linecap: butt;' />\n",
       "<polyline points='353.52,266.84 353.52,155.93 ' style='stroke-width: 1.07; stroke: #FFFFFF; stroke-linecap: butt;' />\n",
       "<polyline points='415.65,266.84 415.65,155.93 ' style='stroke-width: 1.07; stroke: #FFFFFF; stroke-linecap: butt;' />\n",
       "<circle cx='415.65' cy='161.87' r='1.95' style='stroke-width: 0.71; fill: #000000;' />\n",
       "<circle cx='260.33' cy='171.77' r='1.95' style='stroke-width: 0.71; fill: #000000;' />\n",
       "<circle cx='260.33' cy='181.68' r='1.95' style='stroke-width: 0.71; fill: #000000;' />\n",
       "<circle cx='229.27' cy='191.58' r='1.95' style='stroke-width: 0.71; fill: #000000;' />\n",
       "<circle cx='229.27' cy='201.48' r='1.95' style='stroke-width: 0.71; fill: #000000;' />\n",
       "<circle cx='229.27' cy='211.39' r='1.95' style='stroke-width: 0.71; fill: #000000;' />\n",
       "<circle cx='198.21' cy='221.29' r='1.95' style='stroke-width: 0.71; fill: #000000;' />\n",
       "<circle cx='198.21' cy='231.19' r='1.95' style='stroke-width: 0.71; fill: #000000;' />\n",
       "<circle cx='198.21' cy='241.10' r='1.95' style='stroke-width: 0.71; fill: #000000;' />\n",
       "<circle cx='198.21' cy='251.00' r='1.95' style='stroke-width: 0.71; fill: #000000;' />\n",
       "<circle cx='198.21' cy='260.90' r='1.95' style='stroke-width: 0.71; fill: #000000;' />\n",
       "</g>\n",
       "<g clip-path='url(#cpMC4wMHw0MzIuMDB8MC4wMHw0MzIuMDA=)'>\n",
       "</g>\n",
       "<defs>\n",
       "  <clipPath id='cpMTg3LjMzfDQyNi41MnwyODkuMzV8NDAwLjI3'>\n",
       "    <rect x='187.33' y='289.35' width='239.19' height='110.92' />\n",
       "  </clipPath>\n",
       "</defs>\n",
       "<g clip-path='url(#cpMTg3LjMzfDQyNi41MnwyODkuMzV8NDAwLjI3)'>\n",
       "<rect x='187.33' y='289.35' width='239.19' height='110.92' style='stroke-width: 1.07; stroke: none; fill: #EBEBEB;' />\n",
       "<polyline points='198.21,400.27 198.21,289.35 ' style='stroke-width: 0.53; stroke: #FFFFFF; stroke-linecap: butt;' />\n",
       "<polyline points='260.33,400.27 260.33,289.35 ' style='stroke-width: 0.53; stroke: #FFFFFF; stroke-linecap: butt;' />\n",
       "<polyline points='322.46,400.27 322.46,289.35 ' style='stroke-width: 0.53; stroke: #FFFFFF; stroke-linecap: butt;' />\n",
       "<polyline points='384.59,400.27 384.59,289.35 ' style='stroke-width: 0.53; stroke: #FFFFFF; stroke-linecap: butt;' />\n",
       "<polyline points='187.33,394.32 426.52,394.32 ' style='stroke-width: 1.07; stroke: #FFFFFF; stroke-linecap: butt;' />\n",
       "<polyline points='187.33,384.42 426.52,384.42 ' style='stroke-width: 1.07; stroke: #FFFFFF; stroke-linecap: butt;' />\n",
       "<polyline points='187.33,374.52 426.52,374.52 ' style='stroke-width: 1.07; stroke: #FFFFFF; stroke-linecap: butt;' />\n",
       "<polyline points='187.33,364.61 426.52,364.61 ' style='stroke-width: 1.07; stroke: #FFFFFF; stroke-linecap: butt;' />\n",
       "<polyline points='187.33,354.71 426.52,354.71 ' style='stroke-width: 1.07; stroke: #FFFFFF; stroke-linecap: butt;' />\n",
       "<polyline points='187.33,344.81 426.52,344.81 ' style='stroke-width: 1.07; stroke: #FFFFFF; stroke-linecap: butt;' />\n",
       "<polyline points='187.33,334.90 426.52,334.90 ' style='stroke-width: 1.07; stroke: #FFFFFF; stroke-linecap: butt;' />\n",
       "<polyline points='187.33,325.00 426.52,325.00 ' style='stroke-width: 1.07; stroke: #FFFFFF; stroke-linecap: butt;' />\n",
       "<polyline points='187.33,315.10 426.52,315.10 ' style='stroke-width: 1.07; stroke: #FFFFFF; stroke-linecap: butt;' />\n",
       "<polyline points='187.33,305.19 426.52,305.19 ' style='stroke-width: 1.07; stroke: #FFFFFF; stroke-linecap: butt;' />\n",
       "<polyline points='187.33,295.29 426.52,295.29 ' style='stroke-width: 1.07; stroke: #FFFFFF; stroke-linecap: butt;' />\n",
       "<polyline points='229.27,400.27 229.27,289.35 ' style='stroke-width: 1.07; stroke: #FFFFFF; stroke-linecap: butt;' />\n",
       "<polyline points='291.40,400.27 291.40,289.35 ' style='stroke-width: 1.07; stroke: #FFFFFF; stroke-linecap: butt;' />\n",
       "<polyline points='353.52,400.27 353.52,289.35 ' style='stroke-width: 1.07; stroke: #FFFFFF; stroke-linecap: butt;' />\n",
       "<polyline points='415.65,400.27 415.65,289.35 ' style='stroke-width: 1.07; stroke: #FFFFFF; stroke-linecap: butt;' />\n",
       "<circle cx='322.46' cy='295.29' r='1.95' style='stroke-width: 0.71; fill: #000000;' />\n",
       "<circle cx='322.46' cy='305.19' r='1.95' style='stroke-width: 0.71; fill: #000000;' />\n",
       "<circle cx='260.33' cy='315.10' r='1.95' style='stroke-width: 0.71; fill: #000000;' />\n",
       "<circle cx='229.27' cy='325.00' r='1.95' style='stroke-width: 0.71; fill: #000000;' />\n",
       "<circle cx='229.27' cy='334.90' r='1.95' style='stroke-width: 0.71; fill: #000000;' />\n",
       "<circle cx='229.27' cy='344.81' r='1.95' style='stroke-width: 0.71; fill: #000000;' />\n",
       "<circle cx='229.27' cy='354.71' r='1.95' style='stroke-width: 0.71; fill: #000000;' />\n",
       "<circle cx='198.21' cy='364.61' r='1.95' style='stroke-width: 0.71; fill: #000000;' />\n",
       "<circle cx='198.21' cy='374.52' r='1.95' style='stroke-width: 0.71; fill: #000000;' />\n",
       "<circle cx='198.21' cy='384.42' r='1.95' style='stroke-width: 0.71; fill: #000000;' />\n",
       "<circle cx='198.21' cy='394.32' r='1.95' style='stroke-width: 0.71; fill: #000000;' />\n",
       "</g>\n",
       "<g clip-path='url(#cpMC4wMHw0MzIuMDB8MC4wMHw0MzIuMDA=)'>\n",
       "</g>\n",
       "<defs>\n",
       "  <clipPath id='cpMTg3LjMzfDQyNi41MnwyNzIuMzJ8Mjg5LjM1'>\n",
       "    <rect x='187.33' y='272.32' width='239.19' height='17.03' />\n",
       "  </clipPath>\n",
       "</defs>\n",
       "<g clip-path='url(#cpMTg3LjMzfDQyNi41MnwyNzIuMzJ8Mjg5LjM1)'>\n",
       "<rect x='187.33' y='272.32' width='239.19' height='17.03' style='stroke-width: 1.07; stroke: none; fill: #D9D9D9;' />\n",
       "<text x='306.93' y='283.99' text-anchor='middle' style='font-size: 8.80px;fill: #1A1A1A; font-family: \"Arial\";' textLength='111.05px' lengthAdjust='spacingAndGlyphs'>answer.suggestions_options</text>\n",
       "</g>\n",
       "<g clip-path='url(#cpMC4wMHw0MzIuMDB8MC4wMHw0MzIuMDA=)'>\n",
       "</g>\n",
       "<defs>\n",
       "  <clipPath id='cpMTg3LjMzfDQyNi41MnwxMzguOTB8MTU1Ljkz'>\n",
       "    <rect x='187.33' y='138.90' width='239.19' height='17.03' />\n",
       "  </clipPath>\n",
       "</defs>\n",
       "<g clip-path='url(#cpMTg3LjMzfDQyNi41MnwxMzguOTB8MTU1Ljkz)'>\n",
       "<rect x='187.33' y='138.90' width='239.19' height='17.03' style='stroke-width: 1.07; stroke: none; fill: #D9D9D9;' />\n",
       "<text x='306.93' y='150.57' text-anchor='middle' style='font-size: 8.80px;fill: #1A1A1A; font-family: \"Arial\";' textLength='95.39px' lengthAdjust='spacingAndGlyphs'>answer.reasons_options</text>\n",
       "</g>\n",
       "<g clip-path='url(#cpMC4wMHw0MzIuMDB8MC4wMHw0MzIuMDA=)'>\n",
       "</g>\n",
       "<defs>\n",
       "  <clipPath id='cpMTg3LjMzfDQyNi41Mnw1LjQ4fDIyLjUw'>\n",
       "    <rect x='187.33' y='5.48' width='239.19' height='17.03' />\n",
       "  </clipPath>\n",
       "</defs>\n",
       "<g clip-path='url(#cpMTg3LjMzfDQyNi41Mnw1LjQ4fDIyLjUw)'>\n",
       "<rect x='187.33' y='5.48' width='239.19' height='17.03' style='stroke-width: 1.07; stroke: none; fill: #D9D9D9;' />\n",
       "<text x='306.93' y='17.15' text-anchor='middle' style='font-size: 8.80px;fill: #1A1A1A; font-family: \"Arial\";' textLength='93.42px' lengthAdjust='spacingAndGlyphs'>answer.policies_options</text>\n",
       "</g>\n",
       "<g clip-path='url(#cpMC4wMHw0MzIuMDB8MC4wMHw0MzIuMDA=)'>\n",
       "<polyline points='229.27,403.01 229.27,400.27 ' style='stroke-width: 1.07; stroke: #333333; stroke-linecap: butt;' />\n",
       "<polyline points='291.40,403.01 291.40,400.27 ' style='stroke-width: 1.07; stroke: #333333; stroke-linecap: butt;' />\n",
       "<polyline points='353.52,403.01 353.52,400.27 ' style='stroke-width: 1.07; stroke: #333333; stroke-linecap: butt;' />\n",
       "<polyline points='415.65,403.01 415.65,400.27 ' style='stroke-width: 1.07; stroke: #333333; stroke-linecap: butt;' />\n",
       "<text x='229.27' y='411.50' text-anchor='middle' style='font-size: 8.80px;fill: #4D4D4D; font-family: \"Arial\";' textLength='4.90px' lengthAdjust='spacingAndGlyphs'>2</text>\n",
       "<text x='291.40' y='411.50' text-anchor='middle' style='font-size: 8.80px;fill: #4D4D4D; font-family: \"Arial\";' textLength='4.90px' lengthAdjust='spacingAndGlyphs'>4</text>\n",
       "<text x='353.52' y='411.50' text-anchor='middle' style='font-size: 8.80px;fill: #4D4D4D; font-family: \"Arial\";' textLength='4.90px' lengthAdjust='spacingAndGlyphs'>6</text>\n",
       "<text x='415.65' y='411.50' text-anchor='middle' style='font-size: 8.80px;fill: #4D4D4D; font-family: \"Arial\";' textLength='4.90px' lengthAdjust='spacingAndGlyphs'>8</text>\n",
       "<text x='182.40' y='130.63' text-anchor='end' style='font-size: 8.80px;fill: #4D4D4D; font-family: \"Arial\";' textLength='80.68px' lengthAdjust='spacingAndGlyphs'>Competitive Salaries</text>\n",
       "<text x='182.40' y='120.73' text-anchor='end' style='font-size: 8.80px;fill: #4D4D4D; font-family: \"Arial\";' textLength='88.01px' lengthAdjust='spacingAndGlyphs'>Diversity and Inclusion</text>\n",
       "<text x='182.40' y='110.83' text-anchor='end' style='font-size: 8.80px;fill: #4D4D4D; font-family: \"Arial\";' textLength='136.92px' lengthAdjust='spacingAndGlyphs'>Inter-Departmental Communication</text>\n",
       "<text x='182.40' y='100.92' text-anchor='end' style='font-size: 8.80px;fill: #4D4D4D; font-family: \"Arial\";' textLength='150.16px' lengthAdjust='spacingAndGlyphs'>Performance Evaluation Transparency</text>\n",
       "<text x='182.40' y='91.02' text-anchor='end' style='font-size: 8.80px;fill: #4D4D4D; font-family: \"Arial\";' textLength='92.38px' lengthAdjust='spacingAndGlyphs'>Remote Work Flexibility</text>\n",
       "<text x='182.40' y='81.12' text-anchor='end' style='font-size: 8.80px;fill: #4D4D4D; font-family: \"Arial\";' textLength='71.88px' lengthAdjust='spacingAndGlyphs'>Work-Life Balance</text>\n",
       "<text x='182.40' y='71.21' text-anchor='end' style='font-size: 8.80px;fill: #4D4D4D; font-family: \"Arial\";' textLength='103.69px' lengthAdjust='spacingAndGlyphs'>Education Reimbursement</text>\n",
       "<text x='182.40' y='61.31' text-anchor='end' style='font-size: 8.80px;fill: #4D4D4D; font-family: \"Arial\";' textLength='140.39px' lengthAdjust='spacingAndGlyphs'>Management Support and Practices</text>\n",
       "<text x='182.40' y='51.41' text-anchor='end' style='font-size: 8.80px;fill: #4D4D4D; font-family: \"Arial\";' textLength='100.76px' lengthAdjust='spacingAndGlyphs'>Recognition and Rewards</text>\n",
       "<text x='182.40' y='41.50' text-anchor='end' style='font-size: 8.80px;fill: #4D4D4D; font-family: \"Arial\";' textLength='137.92px' lengthAdjust='spacingAndGlyphs'>Career Advancement Opportunities</text>\n",
       "<text x='182.40' y='31.60' text-anchor='end' style='font-size: 8.80px;fill: #4D4D4D; font-family: \"Arial\";' textLength='54.78px' lengthAdjust='spacingAndGlyphs'>None of these</text>\n",
       "<polyline points='184.59,127.48 187.33,127.48 ' style='stroke-width: 1.07; stroke: #333333; stroke-linecap: butt;' />\n",
       "<polyline points='184.59,117.58 187.33,117.58 ' style='stroke-width: 1.07; stroke: #333333; stroke-linecap: butt;' />\n",
       "<polyline points='184.59,107.67 187.33,107.67 ' style='stroke-width: 1.07; stroke: #333333; stroke-linecap: butt;' />\n",
       "<polyline points='184.59,97.77 187.33,97.77 ' style='stroke-width: 1.07; stroke: #333333; stroke-linecap: butt;' />\n",
       "<polyline points='184.59,87.87 187.33,87.87 ' style='stroke-width: 1.07; stroke: #333333; stroke-linecap: butt;' />\n",
       "<polyline points='184.59,77.96 187.33,77.96 ' style='stroke-width: 1.07; stroke: #333333; stroke-linecap: butt;' />\n",
       "<polyline points='184.59,68.06 187.33,68.06 ' style='stroke-width: 1.07; stroke: #333333; stroke-linecap: butt;' />\n",
       "<polyline points='184.59,58.16 187.33,58.16 ' style='stroke-width: 1.07; stroke: #333333; stroke-linecap: butt;' />\n",
       "<polyline points='184.59,48.25 187.33,48.25 ' style='stroke-width: 1.07; stroke: #333333; stroke-linecap: butt;' />\n",
       "<polyline points='184.59,38.35 187.33,38.35 ' style='stroke-width: 1.07; stroke: #333333; stroke-linecap: butt;' />\n",
       "<polyline points='184.59,28.45 187.33,28.45 ' style='stroke-width: 1.07; stroke: #333333; stroke-linecap: butt;' />\n",
       "<text x='182.40' y='264.06' text-anchor='end' style='font-size: 8.80px;fill: #4D4D4D; font-family: \"Arial\";' textLength='132.04px' lengthAdjust='spacingAndGlyphs'>Company culture competitiveness</text>\n",
       "<text x='182.40' y='254.15' text-anchor='end' style='font-size: 8.80px;fill: #4D4D4D; font-family: \"Arial\";' textLength='130.59px' lengthAdjust='spacingAndGlyphs'>Interdepartmental communication</text>\n",
       "<text x='182.40' y='244.25' text-anchor='end' style='font-size: 8.80px;fill: #4D4D4D; font-family: \"Arial\";' textLength='96.83px' lengthAdjust='spacingAndGlyphs'>Lack of work-life balance</text>\n",
       "<text x='182.40' y='234.35' text-anchor='end' style='font-size: 8.80px;fill: #4D4D4D; font-family: \"Arial\";' textLength='112.43px' lengthAdjust='spacingAndGlyphs'>Remote work policy flexibility</text>\n",
       "<text x='182.40' y='224.44' text-anchor='end' style='font-size: 8.80px;fill: #4D4D4D; font-family: \"Arial\";' textLength='91.91px' lengthAdjust='spacingAndGlyphs'>Underutilization of skills</text>\n",
       "<text x='182.40' y='214.54' text-anchor='end' style='font-size: 8.80px;fill: #4D4D4D; font-family: \"Arial\";' textLength='149.13px' lengthAdjust='spacingAndGlyphs'>Dissatisfaction with management style</text>\n",
       "<text x='182.40' y='204.64' text-anchor='end' style='font-size: 8.80px;fill: #4D4D4D; font-family: \"Arial\";' textLength='124.73px' lengthAdjust='spacingAndGlyphs'>Lack of recognition and rewards</text>\n",
       "<text x='182.40' y='194.73' text-anchor='end' style='font-size: 8.80px;fill: #4D4D4D; font-family: \"Arial\";' textLength='157.50px' lengthAdjust='spacingAndGlyphs'>Transparency in performance evaluation</text>\n",
       "<text x='182.40' y='184.83' text-anchor='end' style='font-size: 8.80px;fill: #4D4D4D; font-family: \"Arial\";' textLength='101.23px' lengthAdjust='spacingAndGlyphs'>Desire for new challenges</text>\n",
       "<text x='182.40' y='174.93' text-anchor='end' style='font-size: 8.80px;fill: #4D4D4D; font-family: \"Arial\";' textLength='163.86px' lengthAdjust='spacingAndGlyphs'>Limited career advancement opportunities</text>\n",
       "<text x='182.40' y='165.02' text-anchor='end' style='font-size: 8.80px;fill: #4D4D4D; font-family: \"Arial\";' textLength='54.78px' lengthAdjust='spacingAndGlyphs'>None of these</text>\n",
       "<polyline points='184.59,260.90 187.33,260.90 ' style='stroke-width: 1.07; stroke: #333333; stroke-linecap: butt;' />\n",
       "<polyline points='184.59,251.00 187.33,251.00 ' style='stroke-width: 1.07; stroke: #333333; stroke-linecap: butt;' />\n",
       "<polyline points='184.59,241.10 187.33,241.10 ' style='stroke-width: 1.07; stroke: #333333; stroke-linecap: butt;' />\n",
       "<polyline points='184.59,231.19 187.33,231.19 ' style='stroke-width: 1.07; stroke: #333333; stroke-linecap: butt;' />\n",
       "<polyline points='184.59,221.29 187.33,221.29 ' style='stroke-width: 1.07; stroke: #333333; stroke-linecap: butt;' />\n",
       "<polyline points='184.59,211.39 187.33,211.39 ' style='stroke-width: 1.07; stroke: #333333; stroke-linecap: butt;' />\n",
       "<polyline points='184.59,201.48 187.33,201.48 ' style='stroke-width: 1.07; stroke: #333333; stroke-linecap: butt;' />\n",
       "<polyline points='184.59,191.58 187.33,191.58 ' style='stroke-width: 1.07; stroke: #333333; stroke-linecap: butt;' />\n",
       "<polyline points='184.59,181.68 187.33,181.68 ' style='stroke-width: 1.07; stroke: #333333; stroke-linecap: butt;' />\n",
       "<polyline points='184.59,171.77 187.33,171.77 ' style='stroke-width: 1.07; stroke: #333333; stroke-linecap: butt;' />\n",
       "<polyline points='184.59,161.87 187.33,161.87 ' style='stroke-width: 1.07; stroke: #333333; stroke-linecap: butt;' />\n",
       "<text x='182.40' y='397.48' text-anchor='end' style='font-size: 8.80px;fill: #4D4D4D; font-family: \"Arial\";' textLength='80.68px' lengthAdjust='spacingAndGlyphs'>Competitive Salaries</text>\n",
       "<text x='182.40' y='387.57' text-anchor='end' style='font-size: 8.80px;fill: #4D4D4D; font-family: \"Arial\";' textLength='91.41px' lengthAdjust='spacingAndGlyphs'>Inclusivity and Diversity</text>\n",
       "<text x='182.40' y='377.67' text-anchor='end' style='font-size: 8.80px;fill: #4D4D4D; font-family: \"Arial\";' textLength='92.38px' lengthAdjust='spacingAndGlyphs'>Remote Work Flexibility</text>\n",
       "<text x='182.40' y='367.77' text-anchor='end' style='font-size: 8.80px;fill: #4D4D4D; font-family: \"Arial\";' textLength='71.88px' lengthAdjust='spacingAndGlyphs'>Work-Life Balance</text>\n",
       "<text x='182.40' y='357.86' text-anchor='end' style='font-size: 8.80px;fill: #4D4D4D; font-family: \"Arial\";' textLength='84.64px' lengthAdjust='spacingAndGlyphs'>Management Support</text>\n",
       "<text x='182.40' y='347.96' text-anchor='end' style='font-size: 8.80px;fill: #4D4D4D; font-family: \"Arial\";' textLength='85.10px' lengthAdjust='spacingAndGlyphs'>Open Communication</text>\n",
       "<text x='182.40' y='338.06' text-anchor='end' style='font-size: 8.80px;fill: #4D4D4D; font-family: \"Arial\";' textLength='100.76px' lengthAdjust='spacingAndGlyphs'>Recognition and Rewards</text>\n",
       "<text x='182.40' y='328.15' text-anchor='end' style='font-size: 8.80px;fill: #4D4D4D; font-family: \"Arial\";' textLength='163.84px' lengthAdjust='spacingAndGlyphs'>Transparency in Performance Evaluations</text>\n",
       "<text x='182.40' y='318.25' text-anchor='end' style='font-size: 8.80px;fill: #4D4D4D; font-family: \"Arial\";' textLength='56.69px' lengthAdjust='spacingAndGlyphs'>Skill Utilization</text>\n",
       "<text x='182.40' y='308.35' text-anchor='end' style='font-size: 8.80px;fill: #4D4D4D; font-family: \"Arial\";' textLength='137.92px' lengthAdjust='spacingAndGlyphs'>Career Advancement Opportunities</text>\n",
       "<text x='182.40' y='298.44' text-anchor='end' style='font-size: 8.80px;fill: #4D4D4D; font-family: \"Arial\";' textLength='54.78px' lengthAdjust='spacingAndGlyphs'>None of these</text>\n",
       "<polyline points='184.59,394.32 187.33,394.32 ' style='stroke-width: 1.07; stroke: #333333; stroke-linecap: butt;' />\n",
       "<polyline points='184.59,384.42 187.33,384.42 ' style='stroke-width: 1.07; stroke: #333333; stroke-linecap: butt;' />\n",
       "<polyline points='184.59,374.52 187.33,374.52 ' style='stroke-width: 1.07; stroke: #333333; stroke-linecap: butt;' />\n",
       "<polyline points='184.59,364.61 187.33,364.61 ' style='stroke-width: 1.07; stroke: #333333; stroke-linecap: butt;' />\n",
       "<polyline points='184.59,354.71 187.33,354.71 ' style='stroke-width: 1.07; stroke: #333333; stroke-linecap: butt;' />\n",
       "<polyline points='184.59,344.81 187.33,344.81 ' style='stroke-width: 1.07; stroke: #333333; stroke-linecap: butt;' />\n",
       "<polyline points='184.59,334.90 187.33,334.90 ' style='stroke-width: 1.07; stroke: #333333; stroke-linecap: butt;' />\n",
       "<polyline points='184.59,325.00 187.33,325.00 ' style='stroke-width: 1.07; stroke: #333333; stroke-linecap: butt;' />\n",
       "<polyline points='184.59,315.10 187.33,315.10 ' style='stroke-width: 1.07; stroke: #333333; stroke-linecap: butt;' />\n",
       "<polyline points='184.59,305.19 187.33,305.19 ' style='stroke-width: 1.07; stroke: #333333; stroke-linecap: butt;' />\n",
       "<polyline points='184.59,295.29 187.33,295.29 ' style='stroke-width: 1.07; stroke: #333333; stroke-linecap: butt;' />\n",
       "<text x='306.93' y='424.09' text-anchor='middle' style='font-size: 11.00px; font-family: \"Arial\";' textLength='72.17px' lengthAdjust='spacingAndGlyphs'>num_mentions</text>\n",
       "<text transform='translate(13.37,211.39) rotate(-90)' text-anchor='middle' style='font-size: 11.00px; font-family: \"Arial\";' textLength='147.38px' lengthAdjust='spacingAndGlyphs'>reorder(value, num_mentions)</text>\n",
       "</g>\n",
       "</svg>\n"
      ],
      "text/plain": [
       "<edsl.results.ResultsGGMixin.GGPlot at 0x17665b810>"
      ]
     },
     "execution_count": 49,
     "metadata": {},
     "output_type": "execute_result"
    }
   ],
   "source": [
    "(options_results\n",
    " .select(\"reasons_options\", \"policies_options\", \"suggestions_options\")\n",
    " .long() # get all the answers in one column called 'value'\n",
    " .expand(\"value\") # expand the list of responses\n",
    " .ggplot2(\n",
    "     \"\"\"ggplot(data = self) + \n",
    "     geom_point(aes(x = reorder(value, num_mentions), y = num_mentions)) + \n",
    "     facet_wrap(~key, ncol = 1, scales = 'free_y') + coord_flip()\"\"\", \n",
    "     sql = \"\"\"\n",
    "select key, value, count(*) as num_mentions \n",
    "from self group by key, value \n",
    "order by key, num_mentions desc\"\"\", height = 6)\n",
    ")"
   ]
  },
  {
   "cell_type": "markdown",
   "id": "89a59bc6-39ca-4198-b7d7-989c4e0fe40d",
   "metadata": {},
   "source": [
    "## Posting to the Coop\n",
    "The [Coop](https://www.expectedparrot.com/content/explore) is a platform for creating, storing and sharing LLM-based research.\n",
    "It is fully integrated with EDSL and accessible from your workspace or Coop account page.\n",
    "Learn more about [creating an account](https://www.expectedparrot.com/login) and [using the Coop](https://docs.expectedparrot.com/en/latest/coop.html).\n",
    "\n",
    "Here we post this notebook:"
   ]
  },
  {
   "cell_type": "code",
   "execution_count": 29,
   "id": "24c5198e-a993-42b2-8e71-67cea078c1ab",
   "metadata": {
    "editable": true,
    "slideshow": {
     "slide_type": ""
    },
    "tags": [
     "skip-execution"
    ]
   },
   "outputs": [],
   "source": [
    "from edsl import Notebook"
   ]
  },
  {
   "cell_type": "code",
   "execution_count": 55,
   "id": "a49738da-0bf3-452a-b875-ebc2f5a0af89",
   "metadata": {
    "editable": true,
    "slideshow": {
     "slide_type": ""
    },
    "tags": [
     "skip-execution"
    ]
   },
   "outputs": [],
   "source": [
    "nb = Notebook(path = \"analyzing_interviews.ipynb\")\n",
    "\n",
    "if refresh := False:\n",
    "    nb.push(description = \"Example code for analyzing interview transcripts\", visibility = \"public\")\n",
    "else:\n",
    "    nb.patch(uuid = '8bf837e8-7330-400e-9628-02f13ff7cb6f', value = nb)"
   ]
  },
  {
   "cell_type": "code",
   "execution_count": 31,
   "id": "f8873198-1330-4e1f-a503-819c42d1cdb0",
   "metadata": {
    "editable": true,
    "slideshow": {
     "slide_type": ""
    },
    "tags": [
     "skip-execution"
    ]
   },
   "outputs": [
    {
     "data": {
      "text/plain": [
       "{'description': 'Example code for analyzing interview transcripts',\n",
       " 'object_type': 'notebook',\n",
       " 'url': 'https://www.expectedparrot.com/content/8bf837e8-7330-400e-9628-02f13ff7cb6f',\n",
       " 'uuid': '8bf837e8-7330-400e-9628-02f13ff7cb6f',\n",
       " 'version': '0.1.46.dev1',\n",
       " 'visibility': 'public'}"
      ]
     },
     "execution_count": 31,
     "metadata": {},
     "output_type": "execute_result"
    }
   ],
   "source": []
  }
 ],
 "metadata": {
  "kernelspec": {
   "display_name": "Python 3 (ipykernel)",
   "language": "python",
   "name": "python3"
  },
  "language_info": {
   "codemirror_mode": {
    "name": "ipython",
    "version": 3
   },
   "file_extension": ".py",
   "mimetype": "text/x-python",
   "name": "python",
   "nbconvert_exporter": "python",
   "pygments_lexer": "ipython3",
   "version": "3.11.0"
  }
 },
 "nbformat": 4,
 "nbformat_minor": 5
}
