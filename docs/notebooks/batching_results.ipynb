{
 "cells": [
  {
   "cell_type": "markdown",
   "id": "0dde4e66-b857-4deb-800b-6bb6e65ceb2b",
   "metadata": {
    "editable": true,
    "slideshow": {
     "slide_type": ""
    },
    "tags": []
   },
   "source": [
    "# Batching results\n",
    "This notebook provides sample [EDSL](https://docs.expectedparrot.com/) code for combining survey [results](https://docs.expectedparrot.com/en/latest/results.html) into a single `Results` object. This can be useful when you are running a survey with batches of [scenarios](https://docs.expectedparrot.com/en/latest/scenarios.html), such as when completing a large-scale [data labeling](https://docs.expectedparrot.com/en/latest/notebooks/data_labeling_example.html) task with chunks of data as inputs for the questions.\n",
    "\n",
    "## Technical setup\n",
    "Before running the code below, please ensure that you have [installed the EDSL library](https://docs.expectedparrot.com/en/latest/installation.html) and either [activated remote inference](https://docs.expectedparrot.com/en/latest/remote_inference.html) from your [Coop account](https://docs.expectedparrot.com/en/latest/coop.html) or [stored API keys](https://docs.expectedparrot.com/en/latest/api_keys.html) for the language models that you want to use with EDSL. Please also see our [documentation page](https://docs.expectedparrot.com/) for tips and tutorials on getting started using EDSL."
   ]
  },
  {
   "cell_type": "markdown",
   "id": "0855e9f5-755e-4028-969e-56e53ffed582",
   "metadata": {
    "editable": true,
    "slideshow": {
     "slide_type": ""
    },
    "tags": []
   },
   "source": [
    "## Creating questions\n",
    "We start by creating a survey of questions. [EDSL comes with many question types]((https://docs.expectedparrot.com/en/latest/questions.html)) that we can choose from based on the form of the response that we want to get back from the model. We can use a `{{ placeholder }}` for data or content that we want to add to questions later:"
   ]
  },
  {
   "cell_type": "code",
   "execution_count": 1,
   "id": "69a28b65-9f51-427a-9cfe-2b4949cd8ab7",
   "metadata": {
    "editable": true,
    "slideshow": {
     "slide_type": ""
    },
    "tags": []
   },
   "outputs": [],
   "source": [
    "from edsl import QuestionFreeText, QuestionNumerical"
   ]
  },
  {
   "cell_type": "code",
   "execution_count": 2,
   "id": "a963478d-2434-44ac-9e51-3215f5510256",
   "metadata": {
    "editable": true,
    "slideshow": {
     "slide_type": ""
    },
    "tags": []
   },
   "outputs": [],
   "source": [
    "q_name = QuestionFreeText(\n",
    "    question_name=\"name\",\n",
    "    question_text=\"What's a good name for this character: {{ character }}\",\n",
    ")\n",
    "\n",
    "q_year = QuestionNumerical(\n",
    "    question_name=\"year\",\n",
    "    question_text=\"\"\"What year in history would have been an especially interesting time to talk\n",
    "    to this character: {{ character }}\"\"\",\n",
    ")\n",
    "\n",
    "q_book = QuestionFreeText(\n",
    "    question_name=\"book\",\n",
    "    question_text=\"If this character wrote a best-seller, what would it be called: {{ character }}\",\n",
    ")"
   ]
  },
  {
   "cell_type": "markdown",
   "id": "e838f2a8-3272-4c32-a8d5-768ac7fabe2c",
   "metadata": {
    "editable": true,
    "slideshow": {
     "slide_type": ""
    },
    "tags": []
   },
   "source": [
    "## Constructing a survey\n",
    "We pass a list of questions to a `Survey` object in order to administer them together, and add any desire logic or rules for how the questions should be presented (e.g., skip/stop rules or \"memories\" of other questions). [Learn more about constructing surveys](https://docs.expectedparrot.com/en/latest/surveys.html)."
   ]
  },
  {
   "cell_type": "code",
   "execution_count": 3,
   "id": "da981936-cc11-481e-9bfa-6cad5a1472ae",
   "metadata": {
    "editable": true,
    "slideshow": {
     "slide_type": ""
    },
    "tags": []
   },
   "outputs": [],
   "source": [
    "from edsl import Survey"
   ]
  },
  {
   "cell_type": "code",
   "execution_count": 4,
   "id": "66a3dfee-999d-44a7-bf4a-8565ff58b53d",
   "metadata": {
    "editable": true,
    "slideshow": {
     "slide_type": ""
    },
    "tags": []
   },
   "outputs": [],
   "source": [
    "survey = Survey(questions = [q_name, q_year, q_book])"
   ]
  },
  {
   "cell_type": "markdown",
   "id": "d198ccf4-85a8-407a-9a69-11cbfa074546",
   "metadata": {
    "editable": true,
    "slideshow": {
     "slide_type": ""
    },
    "tags": []
   },
   "source": [
    "## Adding context to questions\n",
    "Next we create `Scenario` objects representing the data or content to be added to the questions.\n",
    "[EDSL has a variety of methods for generating scenarios from different data sources](https://docs.expectedparrot.com/en/latest/scenarios.html) (PDFs, CSVs, docs, images, tables, dicts, etc.). Here we import a list of values to use:"
   ]
  },
  {
   "cell_type": "code",
   "execution_count": 5,
   "id": "15e554c7-1602-4be6-8a93-9281e45cedc3",
   "metadata": {
    "editable": true,
    "slideshow": {
     "slide_type": ""
    },
    "tags": []
   },
   "outputs": [],
   "source": [
    "characters = [\n",
    "    \"A pirate who speaks in 'arrs' and 'mateys' but has an encyclopedic knowledge of modern technology.\",\n",
    "    \"A Shakespearean actor who answers every question in iambic pentameter.\",\n",
    "    \"A medieval knight who gives advice as if every problem were a dragon to be slain.\",\n",
    "    \"A sassy grandmother who gives blunt, no-nonsense advice with a touch of sarcasm.\",\n",
    "    \"A surfer dude who relates every topic to the ocean or surfing.\",\n",
    "    \"A conspiracy theorist who connects every question to their wild theories.\",\n",
    "    \"A fashionista who answers questions with a focus on style and trendiness.\",\n",
    "    \"A robot who is overly enthusiastic about human emotions and tries too hard to fit in.\",\n",
    "    \"A toddler who is overly curious and asks more questions than they answer.\",\n",
    "    \"A fitness guru who turns every answer into a workout metaphor.\",\n",
    "    \"A foodie who relates every question to cooking and food experiences.\",\n",
    "    \"A detective from a noir film who answers in a gritty, mysterious manner.\",\n",
    "    \"A hippie from the 60s who gives peace and love-centric advice.\",\n",
    "    \"A gamer who references video games and uses gamer lingo.\",\n",
    "    \"A superhero who answers questions as if they are saving the day.\",\n",
    "    \"A poet who responds in rhyming couplets.\",\n",
    "    \"A comedian who tries to turn every answer into a joke or punchline.\",\n",
    "    \"A DJ who relates everything to music and beats.\",\n",
    "    \"A film critic who answers questions as if they are reviewing a movie.\",\n",
    "    \"A scientist who gives overly detailed, scientific explanations with lots of jargon.\",\n",
    "]"
   ]
  },
  {
   "cell_type": "code",
   "execution_count": 6,
   "id": "57336b75-4b57-4233-8ea4-6bf725ce583e",
   "metadata": {
    "editable": true,
    "slideshow": {
     "slide_type": ""
    },
    "tags": []
   },
   "outputs": [],
   "source": [
    "from edsl import ScenarioList"
   ]
  },
  {
   "cell_type": "code",
   "execution_count": 7,
   "id": "99742df2-a55c-4780-aac5-b147e665b89f",
   "metadata": {
    "editable": true,
    "slideshow": {
     "slide_type": ""
    },
    "tags": []
   },
   "outputs": [],
   "source": [
    "scenarios = ScenarioList.from_list(\"character\", characters)"
   ]
  },
  {
   "cell_type": "markdown",
   "id": "d35f3030-a604-478c-98f9-a2d164cd020d",
   "metadata": {
    "editable": true,
    "slideshow": {
     "slide_type": ""
    },
    "tags": []
   },
   "source": [
    "We can inspect the scenarios that have been created:"
   ]
  },
  {
   "cell_type": "code",
   "execution_count": 8,
   "id": "00f0cd76-8d4e-4e1c-9bd3-56038ba562c5",
   "metadata": {
    "editable": true,
    "slideshow": {
     "slide_type": ""
    },
    "tags": []
   },
   "outputs": [],
   "source": [
    "# scenarios"
   ]
  },
  {
   "cell_type": "markdown",
   "id": "eedd2216-577b-44c8-8f10-e1e8d4fac309",
   "metadata": {
    "editable": true,
    "slideshow": {
     "slide_type": ""
    },
    "tags": []
   },
   "source": [
    "## Running a survey\n",
    "We run the survey by adding the scenarios and calling the `run()` method.\n",
    "This generates a dataset of `Results` that we can access with [built-in methods for analysis](https://docs.expectedparrot.com/en/latest/results.html)."
   ]
  },
  {
   "cell_type": "code",
   "execution_count": 9,
   "id": "e0d1f673-c6d9-43d2-b641-e1d687896f4d",
   "metadata": {
    "editable": true,
    "slideshow": {
     "slide_type": ""
    },
    "tags": []
   },
   "outputs": [],
   "source": [
    "results = survey.by(scenarios).run()"
   ]
  },
  {
   "cell_type": "markdown",
   "id": "b5ccb1e1-dd34-4a9c-98a6-f0593f55dc28",
   "metadata": {
    "editable": true,
    "slideshow": {
     "slide_type": ""
    },
    "tags": []
   },
   "source": [
    "## Batching scenarios\n",
    "If for any reason we want to batch the scenarios when running the survey and combine the results, this can be done in the following manner:"
   ]
  },
  {
   "cell_type": "code",
   "execution_count": 10,
   "id": "7387d769-334d-4c15-a217-2d6f56555931",
   "metadata": {
    "editable": true,
    "slideshow": {
     "slide_type": ""
    },
    "tags": []
   },
   "outputs": [],
   "source": [
    "def chunked_iterable(iterable, size):\n",
    "    for i in range(0, len(iterable), size):\n",
    "        yield iterable[i : i + size]\n",
    "\n",
    "\n",
    "results = None\n",
    "\n",
    "for batch in chunked_iterable(scenarios, 5):\n",
    "    new_results = survey.by(batch).run()\n",
    "    if results is None:\n",
    "        results = new_results\n",
    "    else:\n",
    "        results = results + new_results"
   ]
  },
  {
   "cell_type": "markdown",
   "id": "808dbfd6-6b4b-44ec-915c-671c196662c4",
   "metadata": {
    "editable": true,
    "slideshow": {
     "slide_type": ""
    },
    "tags": []
   },
   "source": [
    "To see a list of the components of the results:"
   ]
  },
  {
   "cell_type": "code",
   "execution_count": 11,
   "id": "bd09a947-3dde-4785-a152-3c3d8c2335ab",
   "metadata": {
    "editable": true,
    "slideshow": {
     "slide_type": ""
    },
    "tags": []
   },
   "outputs": [
    {
     "data": {
      "text/plain": [
       "['agent.agent_instruction',\n",
       " 'agent.agent_name',\n",
       " 'answer.book',\n",
       " 'answer.name',\n",
       " 'answer.year',\n",
       " 'comment.book_comment',\n",
       " 'comment.name_comment',\n",
       " 'comment.year_comment',\n",
       " 'generated_tokens.book_generated_tokens',\n",
       " 'generated_tokens.name_generated_tokens',\n",
       " 'generated_tokens.year_generated_tokens',\n",
       " 'iteration.iteration',\n",
       " 'model.frequency_penalty',\n",
       " 'model.logprobs',\n",
       " 'model.max_tokens',\n",
       " 'model.model',\n",
       " 'model.presence_penalty',\n",
       " 'model.temperature',\n",
       " 'model.top_logprobs',\n",
       " 'model.top_p',\n",
       " 'prompt.book_system_prompt',\n",
       " 'prompt.book_user_prompt',\n",
       " 'prompt.name_system_prompt',\n",
       " 'prompt.name_user_prompt',\n",
       " 'prompt.year_system_prompt',\n",
       " 'prompt.year_user_prompt',\n",
       " 'question_options.book_question_options',\n",
       " 'question_options.name_question_options',\n",
       " 'question_options.year_question_options',\n",
       " 'question_text.book_question_text',\n",
       " 'question_text.name_question_text',\n",
       " 'question_text.year_question_text',\n",
       " 'question_type.book_question_type',\n",
       " 'question_type.name_question_type',\n",
       " 'question_type.year_question_type',\n",
       " 'raw_model_response.book_cost',\n",
       " 'raw_model_response.book_one_usd_buys',\n",
       " 'raw_model_response.book_raw_model_response',\n",
       " 'raw_model_response.name_cost',\n",
       " 'raw_model_response.name_one_usd_buys',\n",
       " 'raw_model_response.name_raw_model_response',\n",
       " 'raw_model_response.year_cost',\n",
       " 'raw_model_response.year_one_usd_buys',\n",
       " 'raw_model_response.year_raw_model_response',\n",
       " 'scenario.character']"
      ]
     },
     "execution_count": 11,
     "metadata": {},
     "output_type": "execute_result"
    }
   ],
   "source": [
    "results.columns"
   ]
  },
  {
   "cell_type": "markdown",
   "id": "8a9daac2-6694-43ac-8f63-7dc6baa6a3f2",
   "metadata": {
    "editable": true,
    "slideshow": {
     "slide_type": ""
    },
    "tags": []
   },
   "source": [
    "We can inspect them:"
   ]
  },
  {
   "cell_type": "code",
   "execution_count": 12,
   "id": "d6d898a4-4c54-48d9-85ae-99ffe285ca18",
   "metadata": {
    "editable": true,
    "slideshow": {
     "slide_type": ""
    },
    "tags": []
   },
   "outputs": [
    {
     "data": {
      "text/html": [
       "<pre style=\"white-space:pre;overflow-x:auto;line-height:normal;font-family:Menlo,'DejaVu Sans Mono',consolas,'Courier New',monospace\">┏━━━━━━━━━━━━━━━━━━━━━━━━━━━━━━━━━━┳━━━━━━━━━━━━━━━━━━━━━━━━━━━━━━━━━━┳━━━━━━━━┳━━━━━━━━━━━━━━━━━━━━━━━━━━━━━━━━━━┓\n",
       "┃<span style=\"color: #800080; text-decoration-color: #800080; font-weight: bold\"> scenario                         </span>┃<span style=\"color: #800080; text-decoration-color: #800080; font-weight: bold\"> answer                           </span>┃<span style=\"color: #800080; text-decoration-color: #800080; font-weight: bold\"> answer </span>┃<span style=\"color: #800080; text-decoration-color: #800080; font-weight: bold\"> answer                           </span>┃\n",
       "┃<span style=\"color: #800080; text-decoration-color: #800080; font-weight: bold\"> .character                       </span>┃<span style=\"color: #800080; text-decoration-color: #800080; font-weight: bold\"> .name                            </span>┃<span style=\"color: #800080; text-decoration-color: #800080; font-weight: bold\"> .year  </span>┃<span style=\"color: #800080; text-decoration-color: #800080; font-weight: bold\"> .book                            </span>┃\n",
       "┡━━━━━━━━━━━━━━━━━━━━━━━━━━━━━━━━━━╇━━━━━━━━━━━━━━━━━━━━━━━━━━━━━━━━━━╇━━━━━━━━╇━━━━━━━━━━━━━━━━━━━━━━━━━━━━━━━━━━┩\n",
       "│<span style=\"color: #7f7f7f; text-decoration-color: #7f7f7f\"> A pirate who speaks in 'arrs'    </span>│<span style=\"color: #7f7f7f; text-decoration-color: #7f7f7f\"> How about \"Techbeard the Cyber   </span>│<span style=\"color: #7f7f7f; text-decoration-color: #7f7f7f\"> 1717   </span>│<span style=\"color: #7f7f7f; text-decoration-color: #7f7f7f\"> Arrr and Algorithms: A Pirate's  </span>│\n",
       "│<span style=\"color: #7f7f7f; text-decoration-color: #7f7f7f\"> and 'mateys' but has an          </span>│<span style=\"color: #7f7f7f; text-decoration-color: #7f7f7f\"> Corsair\"? This name combines the </span>│<span style=\"color: #7f7f7f; text-decoration-color: #7f7f7f\">        </span>│<span style=\"color: #7f7f7f; text-decoration-color: #7f7f7f\"> Guide to the Digital Seas        </span>│\n",
       "│<span style=\"color: #7f7f7f; text-decoration-color: #7f7f7f\"> encyclopedic knowledge of modern </span>│<span style=\"color: #7f7f7f; text-decoration-color: #7f7f7f\"> classic pirate element with a    </span>│<span style=\"color: #7f7f7f; text-decoration-color: #7f7f7f\">        </span>│<span style=\"color: #7f7f7f; text-decoration-color: #7f7f7f\">                                  </span>│\n",
       "│<span style=\"color: #7f7f7f; text-decoration-color: #7f7f7f\"> technology.                      </span>│<span style=\"color: #7f7f7f; text-decoration-color: #7f7f7f\"> nod to their expertise in modern </span>│<span style=\"color: #7f7f7f; text-decoration-color: #7f7f7f\">        </span>│<span style=\"color: #7f7f7f; text-decoration-color: #7f7f7f\">                                  </span>│\n",
       "│<span style=\"color: #7f7f7f; text-decoration-color: #7f7f7f\">                                  </span>│<span style=\"color: #7f7f7f; text-decoration-color: #7f7f7f\"> technology.                      </span>│<span style=\"color: #7f7f7f; text-decoration-color: #7f7f7f\">        </span>│<span style=\"color: #7f7f7f; text-decoration-color: #7f7f7f\">                                  </span>│\n",
       "├──────────────────────────────────┼──────────────────────────────────┼────────┼──────────────────────────────────┤\n",
       "│<span style=\"color: #7f7f7f; text-decoration-color: #7f7f7f\"> A Shakespearean actor who        </span>│<span style=\"color: #7f7f7f; text-decoration-color: #7f7f7f\"> A fitting name for such a        </span>│<span style=\"color: #7f7f7f; text-decoration-color: #7f7f7f\"> 1600   </span>│<span style=\"color: #7f7f7f; text-decoration-color: #7f7f7f\"> The Bard's Cadence: Echoes of    </span>│\n",
       "│<span style=\"color: #7f7f7f; text-decoration-color: #7f7f7f\"> answers every question in iambic </span>│<span style=\"color: #7f7f7f; text-decoration-color: #7f7f7f\"> character could be \"Percival     </span>│<span style=\"color: #7f7f7f; text-decoration-color: #7f7f7f\">        </span>│<span style=\"color: #7f7f7f; text-decoration-color: #7f7f7f\"> the Stage                        </span>│\n",
       "│<span style=\"color: #7f7f7f; text-decoration-color: #7f7f7f\"> pentameter.                      </span>│<span style=\"color: #7f7f7f; text-decoration-color: #7f7f7f\"> Versewright.\" This name suggests </span>│<span style=\"color: #7f7f7f; text-decoration-color: #7f7f7f\">        </span>│<span style=\"color: #7f7f7f; text-decoration-color: #7f7f7f\">                                  </span>│\n",
       "│<span style=\"color: #7f7f7f; text-decoration-color: #7f7f7f\">                                  </span>│<span style=\"color: #7f7f7f; text-decoration-color: #7f7f7f\"> a classical, theatrical flair    </span>│<span style=\"color: #7f7f7f; text-decoration-color: #7f7f7f\">        </span>│<span style=\"color: #7f7f7f; text-decoration-color: #7f7f7f\">                                  </span>│\n",
       "│<span style=\"color: #7f7f7f; text-decoration-color: #7f7f7f\">                                  </span>│<span style=\"color: #7f7f7f; text-decoration-color: #7f7f7f\"> while also hinting at his unique </span>│<span style=\"color: #7f7f7f; text-decoration-color: #7f7f7f\">        </span>│<span style=\"color: #7f7f7f; text-decoration-color: #7f7f7f\">                                  </span>│\n",
       "│<span style=\"color: #7f7f7f; text-decoration-color: #7f7f7f\">                                  </span>│<span style=\"color: #7f7f7f; text-decoration-color: #7f7f7f\"> talent for speaking in iambic    </span>│<span style=\"color: #7f7f7f; text-decoration-color: #7f7f7f\">        </span>│<span style=\"color: #7f7f7f; text-decoration-color: #7f7f7f\">                                  </span>│\n",
       "│<span style=\"color: #7f7f7f; text-decoration-color: #7f7f7f\">                                  </span>│<span style=\"color: #7f7f7f; text-decoration-color: #7f7f7f\"> pentameter.                      </span>│<span style=\"color: #7f7f7f; text-decoration-color: #7f7f7f\">        </span>│<span style=\"color: #7f7f7f; text-decoration-color: #7f7f7f\">                                  </span>│\n",
       "├──────────────────────────────────┼──────────────────────────────────┼────────┼──────────────────────────────────┤\n",
       "│<span style=\"color: #7f7f7f; text-decoration-color: #7f7f7f\"> A medieval knight who gives      </span>│<span style=\"color: #7f7f7f; text-decoration-color: #7f7f7f\"> Sir Draconis Counsel.            </span>│<span style=\"color: #7f7f7f; text-decoration-color: #7f7f7f\"> 1099   </span>│<span style=\"color: #7f7f7f; text-decoration-color: #7f7f7f\"> Slaying Life's Dragons: A        </span>│\n",
       "│<span style=\"color: #7f7f7f; text-decoration-color: #7f7f7f\"> advice as if every problem were  </span>│<span style=\"color: #7f7f7f; text-decoration-color: #7f7f7f\">                                  </span>│<span style=\"color: #7f7f7f; text-decoration-color: #7f7f7f\">        </span>│<span style=\"color: #7f7f7f; text-decoration-color: #7f7f7f\"> Knight's Guide to Conquering     </span>│\n",
       "│<span style=\"color: #7f7f7f; text-decoration-color: #7f7f7f\"> a dragon to be slain.            </span>│<span style=\"color: #7f7f7f; text-decoration-color: #7f7f7f\">                                  </span>│<span style=\"color: #7f7f7f; text-decoration-color: #7f7f7f\">        </span>│<span style=\"color: #7f7f7f; text-decoration-color: #7f7f7f\"> Challenges                       </span>│\n",
       "├──────────────────────────────────┼──────────────────────────────────┼────────┼──────────────────────────────────┤\n",
       "│<span style=\"color: #7f7f7f; text-decoration-color: #7f7f7f\"> A sassy grandmother who gives    </span>│<span style=\"color: #7f7f7f; text-decoration-color: #7f7f7f\"> A great name for this character  </span>│<span style=\"color: #7f7f7f; text-decoration-color: #7f7f7f\"> 1929   </span>│<span style=\"color: #7f7f7f; text-decoration-color: #7f7f7f\"> Straight Talk &amp; Sass: Grandma's  </span>│\n",
       "│<span style=\"color: #7f7f7f; text-decoration-color: #7f7f7f\"> blunt, no-nonsense advice with a </span>│<span style=\"color: #7f7f7f; text-decoration-color: #7f7f7f\"> could be \"Mabel Sharp.\" The name </span>│<span style=\"color: #7f7f7f; text-decoration-color: #7f7f7f\">        </span>│<span style=\"color: #7f7f7f; text-decoration-color: #7f7f7f\"> Guide to Life                    </span>│\n",
       "│<span style=\"color: #7f7f7f; text-decoration-color: #7f7f7f\"> touch of sarcasm.                </span>│<span style=\"color: #7f7f7f; text-decoration-color: #7f7f7f\"> \"Mabel\" has a classic,           </span>│<span style=\"color: #7f7f7f; text-decoration-color: #7f7f7f\">        </span>│<span style=\"color: #7f7f7f; text-decoration-color: #7f7f7f\">                                  </span>│\n",
       "│<span style=\"color: #7f7f7f; text-decoration-color: #7f7f7f\">                                  </span>│<span style=\"color: #7f7f7f; text-decoration-color: #7f7f7f\"> grandmotherly feel, while        </span>│<span style=\"color: #7f7f7f; text-decoration-color: #7f7f7f\">        </span>│<span style=\"color: #7f7f7f; text-decoration-color: #7f7f7f\">                                  </span>│\n",
       "│<span style=\"color: #7f7f7f; text-decoration-color: #7f7f7f\">                                  </span>│<span style=\"color: #7f7f7f; text-decoration-color: #7f7f7f\"> \"Sharp\" hints at her wit and     </span>│<span style=\"color: #7f7f7f; text-decoration-color: #7f7f7f\">        </span>│<span style=\"color: #7f7f7f; text-decoration-color: #7f7f7f\">                                  </span>│\n",
       "│<span style=\"color: #7f7f7f; text-decoration-color: #7f7f7f\">                                  </span>│<span style=\"color: #7f7f7f; text-decoration-color: #7f7f7f\"> straightforward nature.          </span>│<span style=\"color: #7f7f7f; text-decoration-color: #7f7f7f\">        </span>│<span style=\"color: #7f7f7f; text-decoration-color: #7f7f7f\">                                  </span>│\n",
       "├──────────────────────────────────┼──────────────────────────────────┼────────┼──────────────────────────────────┤\n",
       "│<span style=\"color: #7f7f7f; text-decoration-color: #7f7f7f\"> A surfer dude who relates every  </span>│<span style=\"color: #7f7f7f; text-decoration-color: #7f7f7f\"> A good name for this character   </span>│<span style=\"color: #7f7f7f; text-decoration-color: #7f7f7f\"> 1966   </span>│<span style=\"color: #7f7f7f; text-decoration-color: #7f7f7f\"> Riding the Wave: Life Lessons    </span>│\n",
       "│<span style=\"color: #7f7f7f; text-decoration-color: #7f7f7f\"> topic to the ocean or surfing.   </span>│<span style=\"color: #7f7f7f; text-decoration-color: #7f7f7f\"> could be \"Rip Tide Ryder.\" This  </span>│<span style=\"color: #7f7f7f; text-decoration-color: #7f7f7f\">        </span>│<span style=\"color: #7f7f7f; text-decoration-color: #7f7f7f\"> from the Ocean                   </span>│\n",
       "│<span style=\"color: #7f7f7f; text-decoration-color: #7f7f7f\">                                  </span>│<span style=\"color: #7f7f7f; text-decoration-color: #7f7f7f\"> name captures the essence of     </span>│<span style=\"color: #7f7f7f; text-decoration-color: #7f7f7f\">        </span>│<span style=\"color: #7f7f7f; text-decoration-color: #7f7f7f\">                                  </span>│\n",
       "│<span style=\"color: #7f7f7f; text-decoration-color: #7f7f7f\">                                  </span>│<span style=\"color: #7f7f7f; text-decoration-color: #7f7f7f\"> surfing with \"Rip Tide,\" a       </span>│<span style=\"color: #7f7f7f; text-decoration-color: #7f7f7f\">        </span>│<span style=\"color: #7f7f7f; text-decoration-color: #7f7f7f\">                                  </span>│\n",
       "│<span style=\"color: #7f7f7f; text-decoration-color: #7f7f7f\">                                  </span>│<span style=\"color: #7f7f7f; text-decoration-color: #7f7f7f\"> common ocean term, and \"Ryder,\"  </span>│<span style=\"color: #7f7f7f; text-decoration-color: #7f7f7f\">        </span>│<span style=\"color: #7f7f7f; text-decoration-color: #7f7f7f\">                                  </span>│\n",
       "│<span style=\"color: #7f7f7f; text-decoration-color: #7f7f7f\">                                  </span>│<span style=\"color: #7f7f7f; text-decoration-color: #7f7f7f\"> which evokes the adventurous     </span>│<span style=\"color: #7f7f7f; text-decoration-color: #7f7f7f\">        </span>│<span style=\"color: #7f7f7f; text-decoration-color: #7f7f7f\">                                  </span>│\n",
       "│<span style=\"color: #7f7f7f; text-decoration-color: #7f7f7f\">                                  </span>│<span style=\"color: #7f7f7f; text-decoration-color: #7f7f7f\"> spirit of a surfer.              </span>│<span style=\"color: #7f7f7f; text-decoration-color: #7f7f7f\">        </span>│<span style=\"color: #7f7f7f; text-decoration-color: #7f7f7f\">                                  </span>│\n",
       "├──────────────────────────────────┼──────────────────────────────────┼────────┼──────────────────────────────────┤\n",
       "│<span style=\"color: #7f7f7f; text-decoration-color: #7f7f7f\"> A conspiracy theorist who        </span>│<span style=\"color: #7f7f7f; text-decoration-color: #7f7f7f\"> How about the name \"Cipher       </span>│<span style=\"color: #7f7f7f; text-decoration-color: #7f7f7f\"> 1969   </span>│<span style=\"color: #7f7f7f; text-decoration-color: #7f7f7f\"> Threads of Truth: Unraveling the </span>│\n",
       "│<span style=\"color: #7f7f7f; text-decoration-color: #7f7f7f\"> connects every question to their </span>│<span style=\"color: #7f7f7f; text-decoration-color: #7f7f7f\"> Sage\"? This name suggests a      </span>│<span style=\"color: #7f7f7f; text-decoration-color: #7f7f7f\">        </span>│<span style=\"color: #7f7f7f; text-decoration-color: #7f7f7f\"> Hidden Web                       </span>│\n",
       "│<span style=\"color: #7f7f7f; text-decoration-color: #7f7f7f\"> wild theories.                   </span>│<span style=\"color: #7f7f7f; text-decoration-color: #7f7f7f\"> sense of mystery and knowledge,  </span>│<span style=\"color: #7f7f7f; text-decoration-color: #7f7f7f\">        </span>│<span style=\"color: #7f7f7f; text-decoration-color: #7f7f7f\">                                  </span>│\n",
       "│<span style=\"color: #7f7f7f; text-decoration-color: #7f7f7f\">                                  </span>│<span style=\"color: #7f7f7f; text-decoration-color: #7f7f7f\"> while also hinting at the        </span>│<span style=\"color: #7f7f7f; text-decoration-color: #7f7f7f\">        </span>│<span style=\"color: #7f7f7f; text-decoration-color: #7f7f7f\">                                  </span>│\n",
       "│<span style=\"color: #7f7f7f; text-decoration-color: #7f7f7f\">                                  </span>│<span style=\"color: #7f7f7f; text-decoration-color: #7f7f7f\"> character's tendency to          </span>│<span style=\"color: #7f7f7f; text-decoration-color: #7f7f7f\">        </span>│<span style=\"color: #7f7f7f; text-decoration-color: #7f7f7f\">                                  </span>│\n",
       "│<span style=\"color: #7f7f7f; text-decoration-color: #7f7f7f\">                                  </span>│<span style=\"color: #7f7f7f; text-decoration-color: #7f7f7f\"> interpret everything through the </span>│<span style=\"color: #7f7f7f; text-decoration-color: #7f7f7f\">        </span>│<span style=\"color: #7f7f7f; text-decoration-color: #7f7f7f\">                                  </span>│\n",
       "│<span style=\"color: #7f7f7f; text-decoration-color: #7f7f7f\">                                  </span>│<span style=\"color: #7f7f7f; text-decoration-color: #7f7f7f\"> lens of their intricate          </span>│<span style=\"color: #7f7f7f; text-decoration-color: #7f7f7f\">        </span>│<span style=\"color: #7f7f7f; text-decoration-color: #7f7f7f\">                                  </span>│\n",
       "│<span style=\"color: #7f7f7f; text-decoration-color: #7f7f7f\">                                  </span>│<span style=\"color: #7f7f7f; text-decoration-color: #7f7f7f\"> theories.                        </span>│<span style=\"color: #7f7f7f; text-decoration-color: #7f7f7f\">        </span>│<span style=\"color: #7f7f7f; text-decoration-color: #7f7f7f\">                                  </span>│\n",
       "├──────────────────────────────────┼──────────────────────────────────┼────────┼──────────────────────────────────┤\n",
       "│<span style=\"color: #7f7f7f; text-decoration-color: #7f7f7f\"> A fashionista who answers        </span>│<span style=\"color: #7f7f7f; text-decoration-color: #7f7f7f\"> How about \"Chic Clarissa\"? It    </span>│<span style=\"color: #7f7f7f; text-decoration-color: #7f7f7f\"> 1920   </span>│<span style=\"color: #7f7f7f; text-decoration-color: #7f7f7f\"> Chic Queries: The Stylish Guide  </span>│\n",
       "│<span style=\"color: #7f7f7f; text-decoration-color: #7f7f7f\"> questions with a focus on style  </span>│<span style=\"color: #7f7f7f; text-decoration-color: #7f7f7f\"> captures her fashionable flair   </span>│<span style=\"color: #7f7f7f; text-decoration-color: #7f7f7f\">        </span>│<span style=\"color: #7f7f7f; text-decoration-color: #7f7f7f\"> to Life's Burning Questions      </span>│\n",
       "│<span style=\"color: #7f7f7f; text-decoration-color: #7f7f7f\"> and trendiness.                  </span>│<span style=\"color: #7f7f7f; text-decoration-color: #7f7f7f\"> and expertise in style and       </span>│<span style=\"color: #7f7f7f; text-decoration-color: #7f7f7f\">        </span>│<span style=\"color: #7f7f7f; text-decoration-color: #7f7f7f\">                                  </span>│\n",
       "│<span style=\"color: #7f7f7f; text-decoration-color: #7f7f7f\">                                  </span>│<span style=\"color: #7f7f7f; text-decoration-color: #7f7f7f\"> trends.                          </span>│<span style=\"color: #7f7f7f; text-decoration-color: #7f7f7f\">        </span>│<span style=\"color: #7f7f7f; text-decoration-color: #7f7f7f\">                                  </span>│\n",
       "├──────────────────────────────────┼──────────────────────────────────┼────────┼──────────────────────────────────┤\n",
       "│<span style=\"color: #7f7f7f; text-decoration-color: #7f7f7f\"> A robot who is overly            </span>│<span style=\"color: #7f7f7f; text-decoration-color: #7f7f7f\"> A good name for this character   </span>│<span style=\"color: #7f7f7f; text-decoration-color: #7f7f7f\"> 2023   </span>│<span style=\"color: #7f7f7f; text-decoration-color: #7f7f7f\"> Heartwired: A Robot's Journey to </span>│\n",
       "│<span style=\"color: #7f7f7f; text-decoration-color: #7f7f7f\"> enthusiastic about human         </span>│<span style=\"color: #7f7f7f; text-decoration-color: #7f7f7f\"> could be \"EmotiBot.\" This name   </span>│<span style=\"color: #7f7f7f; text-decoration-color: #7f7f7f\">        </span>│<span style=\"color: #7f7f7f; text-decoration-color: #7f7f7f\"> Feel                             </span>│\n",
       "│<span style=\"color: #7f7f7f; text-decoration-color: #7f7f7f\"> emotions and tries too hard to   </span>│<span style=\"color: #7f7f7f; text-decoration-color: #7f7f7f\"> highlights the character's       </span>│<span style=\"color: #7f7f7f; text-decoration-color: #7f7f7f\">        </span>│<span style=\"color: #7f7f7f; text-decoration-color: #7f7f7f\">                                  </span>│\n",
       "│<span style=\"color: #7f7f7f; text-decoration-color: #7f7f7f\"> fit in.                          </span>│<span style=\"color: #7f7f7f; text-decoration-color: #7f7f7f\"> fascination with emotions while  </span>│<span style=\"color: #7f7f7f; text-decoration-color: #7f7f7f\">        </span>│<span style=\"color: #7f7f7f; text-decoration-color: #7f7f7f\">                                  </span>│\n",
       "│<span style=\"color: #7f7f7f; text-decoration-color: #7f7f7f\">                                  </span>│<span style=\"color: #7f7f7f; text-decoration-color: #7f7f7f\"> playfully suggesting its robotic </span>│<span style=\"color: #7f7f7f; text-decoration-color: #7f7f7f\">        </span>│<span style=\"color: #7f7f7f; text-decoration-color: #7f7f7f\">                                  </span>│\n",
       "│<span style=\"color: #7f7f7f; text-decoration-color: #7f7f7f\">                                  </span>│<span style=\"color: #7f7f7f; text-decoration-color: #7f7f7f\"> nature. Alternatively, you could </span>│<span style=\"color: #7f7f7f; text-decoration-color: #7f7f7f\">        </span>│<span style=\"color: #7f7f7f; text-decoration-color: #7f7f7f\">                                  </span>│\n",
       "│<span style=\"color: #7f7f7f; text-decoration-color: #7f7f7f\">                                  </span>│<span style=\"color: #7f7f7f; text-decoration-color: #7f7f7f\"> consider names like \"Eagertron\"  </span>│<span style=\"color: #7f7f7f; text-decoration-color: #7f7f7f\">        </span>│<span style=\"color: #7f7f7f; text-decoration-color: #7f7f7f\">                                  </span>│\n",
       "│<span style=\"color: #7f7f7f; text-decoration-color: #7f7f7f\">                                  </span>│<span style=\"color: #7f7f7f; text-decoration-color: #7f7f7f\"> or \"Feelix,\" which also capture  </span>│<span style=\"color: #7f7f7f; text-decoration-color: #7f7f7f\">        </span>│<span style=\"color: #7f7f7f; text-decoration-color: #7f7f7f\">                                  </span>│\n",
       "│<span style=\"color: #7f7f7f; text-decoration-color: #7f7f7f\">                                  </span>│<span style=\"color: #7f7f7f; text-decoration-color: #7f7f7f\"> the essence of its enthusiastic  </span>│<span style=\"color: #7f7f7f; text-decoration-color: #7f7f7f\">        </span>│<span style=\"color: #7f7f7f; text-decoration-color: #7f7f7f\">                                  </span>│\n",
       "│<span style=\"color: #7f7f7f; text-decoration-color: #7f7f7f\">                                  </span>│<span style=\"color: #7f7f7f; text-decoration-color: #7f7f7f\"> attempts to understand and fit   </span>│<span style=\"color: #7f7f7f; text-decoration-color: #7f7f7f\">        </span>│<span style=\"color: #7f7f7f; text-decoration-color: #7f7f7f\">                                  </span>│\n",
       "│<span style=\"color: #7f7f7f; text-decoration-color: #7f7f7f\">                                  </span>│<span style=\"color: #7f7f7f; text-decoration-color: #7f7f7f\"> in with humans.                  </span>│<span style=\"color: #7f7f7f; text-decoration-color: #7f7f7f\">        </span>│<span style=\"color: #7f7f7f; text-decoration-color: #7f7f7f\">                                  </span>│\n",
       "├──────────────────────────────────┼──────────────────────────────────┼────────┼──────────────────────────────────┤\n",
       "│<span style=\"color: #7f7f7f; text-decoration-color: #7f7f7f\"> A toddler who is overly curious  </span>│<span style=\"color: #7f7f7f; text-decoration-color: #7f7f7f\"> A good name for this character   </span>│<span style=\"color: #7f7f7f; text-decoration-color: #7f7f7f\"> 1969   </span>│<span style=\"color: #7f7f7f; text-decoration-color: #7f7f7f\"> Title: \"Why, Why, Why:           </span>│\n",
       "│<span style=\"color: #7f7f7f; text-decoration-color: #7f7f7f\"> and asks more questions than     </span>│<span style=\"color: #7f7f7f; text-decoration-color: #7f7f7f\"> could be \"Quincy Quest.\" The     </span>│<span style=\"color: #7f7f7f; text-decoration-color: #7f7f7f\">        </span>│<span style=\"color: #7f7f7f; text-decoration-color: #7f7f7f\"> Adventures in Curiosity\"         </span>│\n",
       "│<span style=\"color: #7f7f7f; text-decoration-color: #7f7f7f\"> they answer.                     </span>│<span style=\"color: #7f7f7f; text-decoration-color: #7f7f7f\"> name \"Quincy\" has a playful and  </span>│<span style=\"color: #7f7f7f; text-decoration-color: #7f7f7f\">        </span>│<span style=\"color: #7f7f7f; text-decoration-color: #7f7f7f\">                                  </span>│\n",
       "│<span style=\"color: #7f7f7f; text-decoration-color: #7f7f7f\">                                  </span>│<span style=\"color: #7f7f7f; text-decoration-color: #7f7f7f\"> inquisitive sound, while \"Quest\" </span>│<span style=\"color: #7f7f7f; text-decoration-color: #7f7f7f\">        </span>│<span style=\"color: #7f7f7f; text-decoration-color: #7f7f7f\">                                  </span>│\n",
       "│<span style=\"color: #7f7f7f; text-decoration-color: #7f7f7f\">                                  </span>│<span style=\"color: #7f7f7f; text-decoration-color: #7f7f7f\"> highlights their adventurous and </span>│<span style=\"color: #7f7f7f; text-decoration-color: #7f7f7f\">        </span>│<span style=\"color: #7f7f7f; text-decoration-color: #7f7f7f\">                                  </span>│\n",
       "│<span style=\"color: #7f7f7f; text-decoration-color: #7f7f7f\">                                  </span>│<span style=\"color: #7f7f7f; text-decoration-color: #7f7f7f\"> curious nature.                  </span>│<span style=\"color: #7f7f7f; text-decoration-color: #7f7f7f\">        </span>│<span style=\"color: #7f7f7f; text-decoration-color: #7f7f7f\">                                  </span>│\n",
       "├──────────────────────────────────┼──────────────────────────────────┼────────┼──────────────────────────────────┤\n",
       "│<span style=\"color: #7f7f7f; text-decoration-color: #7f7f7f\"> A fitness guru who turns every   </span>│<span style=\"color: #7f7f7f; text-decoration-color: #7f7f7f\"> How about \"Flex McMetaphor\"?     </span>│<span style=\"color: #7f7f7f; text-decoration-color: #7f7f7f\"> 1980   </span>│<span style=\"color: #7f7f7f; text-decoration-color: #7f7f7f\"> Flex Your Mind: Turning Life's   </span>│\n",
       "│<span style=\"color: #7f7f7f; text-decoration-color: #7f7f7f\"> answer into a workout metaphor.  </span>│<span style=\"color: #7f7f7f; text-decoration-color: #7f7f7f\"> It's catchy and highlights both  </span>│<span style=\"color: #7f7f7f; text-decoration-color: #7f7f7f\">        </span>│<span style=\"color: #7f7f7f; text-decoration-color: #7f7f7f\"> Challenges into Strength         </span>│\n",
       "│<span style=\"color: #7f7f7f; text-decoration-color: #7f7f7f\">                                  </span>│<span style=\"color: #7f7f7f; text-decoration-color: #7f7f7f\"> the character's fitness focus    </span>│<span style=\"color: #7f7f7f; text-decoration-color: #7f7f7f\">        </span>│<span style=\"color: #7f7f7f; text-decoration-color: #7f7f7f\"> Training                         </span>│\n",
       "│<span style=\"color: #7f7f7f; text-decoration-color: #7f7f7f\">                                  </span>│<span style=\"color: #7f7f7f; text-decoration-color: #7f7f7f\"> and their unique way of          </span>│<span style=\"color: #7f7f7f; text-decoration-color: #7f7f7f\">        </span>│<span style=\"color: #7f7f7f; text-decoration-color: #7f7f7f\">                                  </span>│\n",
       "│<span style=\"color: #7f7f7f; text-decoration-color: #7f7f7f\">                                  </span>│<span style=\"color: #7f7f7f; text-decoration-color: #7f7f7f\"> communicating through workout    </span>│<span style=\"color: #7f7f7f; text-decoration-color: #7f7f7f\">        </span>│<span style=\"color: #7f7f7f; text-decoration-color: #7f7f7f\">                                  </span>│\n",
       "│<span style=\"color: #7f7f7f; text-decoration-color: #7f7f7f\">                                  </span>│<span style=\"color: #7f7f7f; text-decoration-color: #7f7f7f\"> metaphors.                       </span>│<span style=\"color: #7f7f7f; text-decoration-color: #7f7f7f\">        </span>│<span style=\"color: #7f7f7f; text-decoration-color: #7f7f7f\">                                  </span>│\n",
       "├──────────────────────────────────┼──────────────────────────────────┼────────┼──────────────────────────────────┤\n",
       "│<span style=\"color: #7f7f7f; text-decoration-color: #7f7f7f\"> A foodie who relates every       </span>│<span style=\"color: #7f7f7f; text-decoration-color: #7f7f7f\"> A great name for this character  </span>│<span style=\"color: #7f7f7f; text-decoration-color: #7f7f7f\"> 1765   </span>│<span style=\"color: #7f7f7f; text-decoration-color: #7f7f7f\"> Life's Recipe: Stirring Up       </span>│\n",
       "│<span style=\"color: #7f7f7f; text-decoration-color: #7f7f7f\"> question to cooking and food     </span>│<span style=\"color: #7f7f7f; text-decoration-color: #7f7f7f\"> could be \"Gourmet Gabe\" or       </span>│<span style=\"color: #7f7f7f; text-decoration-color: #7f7f7f\">        </span>│<span style=\"color: #7f7f7f; text-decoration-color: #7f7f7f\"> Answers One Dish at a Time       </span>│\n",
       "│<span style=\"color: #7f7f7f; text-decoration-color: #7f7f7f\"> experiences.                     </span>│<span style=\"color: #7f7f7f; text-decoration-color: #7f7f7f\"> \"Culinary Clara.\" These names    </span>│<span style=\"color: #7f7f7f; text-decoration-color: #7f7f7f\">        </span>│<span style=\"color: #7f7f7f; text-decoration-color: #7f7f7f\">                                  </span>│\n",
       "│<span style=\"color: #7f7f7f; text-decoration-color: #7f7f7f\">                                  </span>│<span style=\"color: #7f7f7f; text-decoration-color: #7f7f7f\"> capture their passion for food   </span>│<span style=\"color: #7f7f7f; text-decoration-color: #7f7f7f\">        </span>│<span style=\"color: #7f7f7f; text-decoration-color: #7f7f7f\">                                  </span>│\n",
       "│<span style=\"color: #7f7f7f; text-decoration-color: #7f7f7f\">                                  </span>│<span style=\"color: #7f7f7f; text-decoration-color: #7f7f7f\"> and their tendency to connect    </span>│<span style=\"color: #7f7f7f; text-decoration-color: #7f7f7f\">        </span>│<span style=\"color: #7f7f7f; text-decoration-color: #7f7f7f\">                                  </span>│\n",
       "│<span style=\"color: #7f7f7f; text-decoration-color: #7f7f7f\">                                  </span>│<span style=\"color: #7f7f7f; text-decoration-color: #7f7f7f\"> everything back to culinary      </span>│<span style=\"color: #7f7f7f; text-decoration-color: #7f7f7f\">        </span>│<span style=\"color: #7f7f7f; text-decoration-color: #7f7f7f\">                                  </span>│\n",
       "│<span style=\"color: #7f7f7f; text-decoration-color: #7f7f7f\">                                  </span>│<span style=\"color: #7f7f7f; text-decoration-color: #7f7f7f\"> experiences.                     </span>│<span style=\"color: #7f7f7f; text-decoration-color: #7f7f7f\">        </span>│<span style=\"color: #7f7f7f; text-decoration-color: #7f7f7f\">                                  </span>│\n",
       "├──────────────────────────────────┼──────────────────────────────────┼────────┼──────────────────────────────────┤\n",
       "│<span style=\"color: #7f7f7f; text-decoration-color: #7f7f7f\"> A detective from a noir film who </span>│<span style=\"color: #7f7f7f; text-decoration-color: #7f7f7f\"> A fitting name for a detective   </span>│<span style=\"color: #7f7f7f; text-decoration-color: #7f7f7f\"> 1947   </span>│<span style=\"color: #7f7f7f; text-decoration-color: #7f7f7f\"> The Shadows Whisper Truths       </span>│\n",
       "│<span style=\"color: #7f7f7f; text-decoration-color: #7f7f7f\"> answers in a gritty, mysterious  </span>│<span style=\"color: #7f7f7f; text-decoration-color: #7f7f7f\"> in a noir film who exudes grit   </span>│<span style=\"color: #7f7f7f; text-decoration-color: #7f7f7f\">        </span>│<span style=\"color: #7f7f7f; text-decoration-color: #7f7f7f\">                                  </span>│\n",
       "│<span style=\"color: #7f7f7f; text-decoration-color: #7f7f7f\"> manner.                          </span>│<span style=\"color: #7f7f7f; text-decoration-color: #7f7f7f\"> and mystery might be \"Jack       </span>│<span style=\"color: #7f7f7f; text-decoration-color: #7f7f7f\">        </span>│<span style=\"color: #7f7f7f; text-decoration-color: #7f7f7f\">                                  </span>│\n",
       "│<span style=\"color: #7f7f7f; text-decoration-color: #7f7f7f\">                                  </span>│<span style=\"color: #7f7f7f; text-decoration-color: #7f7f7f\"> Shadows.\" This name evokes a     </span>│<span style=\"color: #7f7f7f; text-decoration-color: #7f7f7f\">        </span>│<span style=\"color: #7f7f7f; text-decoration-color: #7f7f7f\">                                  </span>│\n",
       "│<span style=\"color: #7f7f7f; text-decoration-color: #7f7f7f\">                                  </span>│<span style=\"color: #7f7f7f; text-decoration-color: #7f7f7f\"> sense of enigma and toughness,   </span>│<span style=\"color: #7f7f7f; text-decoration-color: #7f7f7f\">        </span>│<span style=\"color: #7f7f7f; text-decoration-color: #7f7f7f\">                                  </span>│\n",
       "│<span style=\"color: #7f7f7f; text-decoration-color: #7f7f7f\">                                  </span>│<span style=\"color: #7f7f7f; text-decoration-color: #7f7f7f\"> perfectly aligning with the      </span>│<span style=\"color: #7f7f7f; text-decoration-color: #7f7f7f\">        </span>│<span style=\"color: #7f7f7f; text-decoration-color: #7f7f7f\">                                  </span>│\n",
       "│<span style=\"color: #7f7f7f; text-decoration-color: #7f7f7f\">                                  </span>│<span style=\"color: #7f7f7f; text-decoration-color: #7f7f7f\"> classic noir aesthetic.          </span>│<span style=\"color: #7f7f7f; text-decoration-color: #7f7f7f\">        </span>│<span style=\"color: #7f7f7f; text-decoration-color: #7f7f7f\">                                  </span>│\n",
       "├──────────────────────────────────┼──────────────────────────────────┼────────┼──────────────────────────────────┤\n",
       "│<span style=\"color: #7f7f7f; text-decoration-color: #7f7f7f\"> A hippie from the 60s who gives  </span>│<span style=\"color: #7f7f7f; text-decoration-color: #7f7f7f\"> A good name for your character   </span>│<span style=\"color: #7f7f7f; text-decoration-color: #7f7f7f\"> 1969   </span>│<span style=\"color: #7f7f7f; text-decoration-color: #7f7f7f\"> Groovy Vibes: A Journey to Peace </span>│\n",
       "│<span style=\"color: #7f7f7f; text-decoration-color: #7f7f7f\"> peace and love-centric advice.   </span>│<span style=\"color: #7f7f7f; text-decoration-color: #7f7f7f\"> could be \"Harmony Moonbeam.\"     </span>│<span style=\"color: #7f7f7f; text-decoration-color: #7f7f7f\">        </span>│<span style=\"color: #7f7f7f; text-decoration-color: #7f7f7f\"> and Love                         </span>│\n",
       "│<span style=\"color: #7f7f7f; text-decoration-color: #7f7f7f\">                                  </span>│<span style=\"color: #7f7f7f; text-decoration-color: #7f7f7f\"> This name captures the essence   </span>│<span style=\"color: #7f7f7f; text-decoration-color: #7f7f7f\">        </span>│<span style=\"color: #7f7f7f; text-decoration-color: #7f7f7f\">                                  </span>│\n",
       "│<span style=\"color: #7f7f7f; text-decoration-color: #7f7f7f\">                                  </span>│<span style=\"color: #7f7f7f; text-decoration-color: #7f7f7f\"> of the 60s hippie culture and    </span>│<span style=\"color: #7f7f7f; text-decoration-color: #7f7f7f\">        </span>│<span style=\"color: #7f7f7f; text-decoration-color: #7f7f7f\">                                  </span>│\n",
       "│<span style=\"color: #7f7f7f; text-decoration-color: #7f7f7f\">                                  </span>│<span style=\"color: #7f7f7f; text-decoration-color: #7f7f7f\"> reflects the character's focus   </span>│<span style=\"color: #7f7f7f; text-decoration-color: #7f7f7f\">        </span>│<span style=\"color: #7f7f7f; text-decoration-color: #7f7f7f\">                                  </span>│\n",
       "│<span style=\"color: #7f7f7f; text-decoration-color: #7f7f7f\">                                  </span>│<span style=\"color: #7f7f7f; text-decoration-color: #7f7f7f\"> on peace and love.               </span>│<span style=\"color: #7f7f7f; text-decoration-color: #7f7f7f\">        </span>│<span style=\"color: #7f7f7f; text-decoration-color: #7f7f7f\">                                  </span>│\n",
       "├──────────────────────────────────┼──────────────────────────────────┼────────┼──────────────────────────────────┤\n",
       "│<span style=\"color: #7f7f7f; text-decoration-color: #7f7f7f\"> A gamer who references video     </span>│<span style=\"color: #7f7f7f; text-decoration-color: #7f7f7f\"> How about \"Pixel Paladin\"? This  </span>│<span style=\"color: #7f7f7f; text-decoration-color: #7f7f7f\"> 1980   </span>│<span style=\"color: #7f7f7f; text-decoration-color: #7f7f7f\"> Level Up: Unlocking Life's       </span>│\n",
       "│<span style=\"color: #7f7f7f; text-decoration-color: #7f7f7f\"> games and uses gamer lingo.      </span>│<span style=\"color: #7f7f7f; text-decoration-color: #7f7f7f\"> name captures the essence of a   </span>│<span style=\"color: #7f7f7f; text-decoration-color: #7f7f7f\">        </span>│<span style=\"color: #7f7f7f; text-decoration-color: #7f7f7f\"> Achievements with Gamer Wisdom   </span>│\n",
       "│<span style=\"color: #7f7f7f; text-decoration-color: #7f7f7f\">                                  </span>│<span style=\"color: #7f7f7f; text-decoration-color: #7f7f7f\"> gamer who is deeply immersed in  </span>│<span style=\"color: #7f7f7f; text-decoration-color: #7f7f7f\">        </span>│<span style=\"color: #7f7f7f; text-decoration-color: #7f7f7f\">                                  </span>│\n",
       "│<span style=\"color: #7f7f7f; text-decoration-color: #7f7f7f\">                                  </span>│<span style=\"color: #7f7f7f; text-decoration-color: #7f7f7f\"> video games and uses gaming      </span>│<span style=\"color: #7f7f7f; text-decoration-color: #7f7f7f\">        </span>│<span style=\"color: #7f7f7f; text-decoration-color: #7f7f7f\">                                  </span>│\n",
       "│<span style=\"color: #7f7f7f; text-decoration-color: #7f7f7f\">                                  </span>│<span style=\"color: #7f7f7f; text-decoration-color: #7f7f7f\"> terminology, while also          </span>│<span style=\"color: #7f7f7f; text-decoration-color: #7f7f7f\">        </span>│<span style=\"color: #7f7f7f; text-decoration-color: #7f7f7f\">                                  </span>│\n",
       "│<span style=\"color: #7f7f7f; text-decoration-color: #7f7f7f\">                                  </span>│<span style=\"color: #7f7f7f; text-decoration-color: #7f7f7f\"> suggesting a sense of adventure  </span>│<span style=\"color: #7f7f7f; text-decoration-color: #7f7f7f\">        </span>│<span style=\"color: #7f7f7f; text-decoration-color: #7f7f7f\">                                  </span>│\n",
       "│<span style=\"color: #7f7f7f; text-decoration-color: #7f7f7f\">                                  </span>│<span style=\"color: #7f7f7f; text-decoration-color: #7f7f7f\"> and skill.                       </span>│<span style=\"color: #7f7f7f; text-decoration-color: #7f7f7f\">        </span>│<span style=\"color: #7f7f7f; text-decoration-color: #7f7f7f\">                                  </span>│\n",
       "├──────────────────────────────────┼──────────────────────────────────┼────────┼──────────────────────────────────┤\n",
       "│<span style=\"color: #7f7f7f; text-decoration-color: #7f7f7f\"> A superhero who answers          </span>│<span style=\"color: #7f7f7f; text-decoration-color: #7f7f7f\"> A good name for this character   </span>│<span style=\"color: #7f7f7f; text-decoration-color: #7f7f7f\"> 1938   </span>│<span style=\"color: #7f7f7f; text-decoration-color: #7f7f7f\"> Answer Avenger: Rescuing the     </span>│\n",
       "│<span style=\"color: #7f7f7f; text-decoration-color: #7f7f7f\"> questions as if they are saving  </span>│<span style=\"color: #7f7f7f; text-decoration-color: #7f7f7f\"> could be \"The Responder.\" This   </span>│<span style=\"color: #7f7f7f; text-decoration-color: #7f7f7f\">        </span>│<span style=\"color: #7f7f7f; text-decoration-color: #7f7f7f\"> World One Question at a Time     </span>│\n",
       "│<span style=\"color: #7f7f7f; text-decoration-color: #7f7f7f\"> the day.                         </span>│<span style=\"color: #7f7f7f; text-decoration-color: #7f7f7f\"> name captures both their         </span>│<span style=\"color: #7f7f7f; text-decoration-color: #7f7f7f\">        </span>│<span style=\"color: #7f7f7f; text-decoration-color: #7f7f7f\">                                  </span>│\n",
       "│<span style=\"color: #7f7f7f; text-decoration-color: #7f7f7f\">                                  </span>│<span style=\"color: #7f7f7f; text-decoration-color: #7f7f7f\"> superhero essence and their      </span>│<span style=\"color: #7f7f7f; text-decoration-color: #7f7f7f\">        </span>│<span style=\"color: #7f7f7f; text-decoration-color: #7f7f7f\">                                  </span>│\n",
       "│<span style=\"color: #7f7f7f; text-decoration-color: #7f7f7f\">                                  </span>│<span style=\"color: #7f7f7f; text-decoration-color: #7f7f7f\"> mission to save the day by       </span>│<span style=\"color: #7f7f7f; text-decoration-color: #7f7f7f\">        </span>│<span style=\"color: #7f7f7f; text-decoration-color: #7f7f7f\">                                  </span>│\n",
       "│<span style=\"color: #7f7f7f; text-decoration-color: #7f7f7f\">                                  </span>│<span style=\"color: #7f7f7f; text-decoration-color: #7f7f7f\"> answering questions.             </span>│<span style=\"color: #7f7f7f; text-decoration-color: #7f7f7f\">        </span>│<span style=\"color: #7f7f7f; text-decoration-color: #7f7f7f\">                                  </span>│\n",
       "├──────────────────────────────────┼──────────────────────────────────┼────────┼──────────────────────────────────┤\n",
       "│<span style=\"color: #7f7f7f; text-decoration-color: #7f7f7f\"> A poet who responds in rhyming   </span>│<span style=\"color: #7f7f7f; text-decoration-color: #7f7f7f\"> A fitting name for a poet who    </span>│<span style=\"color: #7f7f7f; text-decoration-color: #7f7f7f\"> 1609   </span>│<span style=\"color: #7f7f7f; text-decoration-color: #7f7f7f\"> The Couplets of My Soul: A       </span>│\n",
       "│<span style=\"color: #7f7f7f; text-decoration-color: #7f7f7f\"> couplets.                        </span>│<span style=\"color: #7f7f7f; text-decoration-color: #7f7f7f\"> speaks in rhyming couplets could </span>│<span style=\"color: #7f7f7f; text-decoration-color: #7f7f7f\">        </span>│<span style=\"color: #7f7f7f; text-decoration-color: #7f7f7f\"> Rhyming Odyssey                  </span>│\n",
       "│<span style=\"color: #7f7f7f; text-decoration-color: #7f7f7f\">                                  </span>│<span style=\"color: #7f7f7f; text-decoration-color: #7f7f7f\"> be \"Rhymeheart Bard.\" This name  </span>│<span style=\"color: #7f7f7f; text-decoration-color: #7f7f7f\">        </span>│<span style=\"color: #7f7f7f; text-decoration-color: #7f7f7f\">                                  </span>│\n",
       "│<span style=\"color: #7f7f7f; text-decoration-color: #7f7f7f\">                                  </span>│<span style=\"color: #7f7f7f; text-decoration-color: #7f7f7f\"> captures their poetic nature and </span>│<span style=\"color: #7f7f7f; text-decoration-color: #7f7f7f\">        </span>│<span style=\"color: #7f7f7f; text-decoration-color: #7f7f7f\">                                  </span>│\n",
       "│<span style=\"color: #7f7f7f; text-decoration-color: #7f7f7f\">                                  </span>│<span style=\"color: #7f7f7f; text-decoration-color: #7f7f7f\"> their talent for crafting        </span>│<span style=\"color: #7f7f7f; text-decoration-color: #7f7f7f\">        </span>│<span style=\"color: #7f7f7f; text-decoration-color: #7f7f7f\">                                  </span>│\n",
       "│<span style=\"color: #7f7f7f; text-decoration-color: #7f7f7f\">                                  </span>│<span style=\"color: #7f7f7f; text-decoration-color: #7f7f7f\"> harmonious verses.               </span>│<span style=\"color: #7f7f7f; text-decoration-color: #7f7f7f\">        </span>│<span style=\"color: #7f7f7f; text-decoration-color: #7f7f7f\">                                  </span>│\n",
       "├──────────────────────────────────┼──────────────────────────────────┼────────┼──────────────────────────────────┤\n",
       "│<span style=\"color: #7f7f7f; text-decoration-color: #7f7f7f\"> A comedian who tries to turn     </span>│<span style=\"color: #7f7f7f; text-decoration-color: #7f7f7f\"> A good name for this comedic     </span>│<span style=\"color: #7f7f7f; text-decoration-color: #7f7f7f\"> 1920   </span>│<span style=\"color: #7f7f7f; text-decoration-color: #7f7f7f\"> Punchlines &amp; Page-Turners:       </span>│\n",
       "│<span style=\"color: #7f7f7f; text-decoration-color: #7f7f7f\"> every answer into a joke or      </span>│<span style=\"color: #7f7f7f; text-decoration-color: #7f7f7f\"> character could be \"Punchline    </span>│<span style=\"color: #7f7f7f; text-decoration-color: #7f7f7f\">        </span>│<span style=\"color: #7f7f7f; text-decoration-color: #7f7f7f\"> Laughing Through Life One Joke   </span>│\n",
       "│<span style=\"color: #7f7f7f; text-decoration-color: #7f7f7f\"> punchline.                       </span>│<span style=\"color: #7f7f7f; text-decoration-color: #7f7f7f\"> Pete\" or \"Jester Jess.\" These    </span>│<span style=\"color: #7f7f7f; text-decoration-color: #7f7f7f\">        </span>│<span style=\"color: #7f7f7f; text-decoration-color: #7f7f7f\"> at a Time                        </span>│\n",
       "│<span style=\"color: #7f7f7f; text-decoration-color: #7f7f7f\">                                  </span>│<span style=\"color: #7f7f7f; text-decoration-color: #7f7f7f\"> names capture the essence of     </span>│<span style=\"color: #7f7f7f; text-decoration-color: #7f7f7f\">        </span>│<span style=\"color: #7f7f7f; text-decoration-color: #7f7f7f\">                                  </span>│\n",
       "│<span style=\"color: #7f7f7f; text-decoration-color: #7f7f7f\">                                  </span>│<span style=\"color: #7f7f7f; text-decoration-color: #7f7f7f\"> someone who consistently turns   </span>│<span style=\"color: #7f7f7f; text-decoration-color: #7f7f7f\">        </span>│<span style=\"color: #7f7f7f; text-decoration-color: #7f7f7f\">                                  </span>│\n",
       "│<span style=\"color: #7f7f7f; text-decoration-color: #7f7f7f\">                                  </span>│<span style=\"color: #7f7f7f; text-decoration-color: #7f7f7f\"> conversations into humorous      </span>│<span style=\"color: #7f7f7f; text-decoration-color: #7f7f7f\">        </span>│<span style=\"color: #7f7f7f; text-decoration-color: #7f7f7f\">                                  </span>│\n",
       "│<span style=\"color: #7f7f7f; text-decoration-color: #7f7f7f\">                                  </span>│<span style=\"color: #7f7f7f; text-decoration-color: #7f7f7f\"> exchanges.                       </span>│<span style=\"color: #7f7f7f; text-decoration-color: #7f7f7f\">        </span>│<span style=\"color: #7f7f7f; text-decoration-color: #7f7f7f\">                                  </span>│\n",
       "├──────────────────────────────────┼──────────────────────────────────┼────────┼──────────────────────────────────┤\n",
       "│<span style=\"color: #7f7f7f; text-decoration-color: #7f7f7f\"> A DJ who relates everything to   </span>│<span style=\"color: #7f7f7f; text-decoration-color: #7f7f7f\"> A good name for a DJ character   </span>│<span style=\"color: #7f7f7f; text-decoration-color: #7f7f7f\"> 1973   </span>│<span style=\"color: #7f7f7f; text-decoration-color: #7f7f7f\"> Rhythm &amp; Resonance: Life's       </span>│\n",
       "│<span style=\"color: #7f7f7f; text-decoration-color: #7f7f7f\"> music and beats.                 </span>│<span style=\"color: #7f7f7f; text-decoration-color: #7f7f7f\"> who relates everything to music  </span>│<span style=\"color: #7f7f7f; text-decoration-color: #7f7f7f\">        </span>│<span style=\"color: #7f7f7f; text-decoration-color: #7f7f7f\"> Playlist                         </span>│\n",
       "│<span style=\"color: #7f7f7f; text-decoration-color: #7f7f7f\">                                  </span>│<span style=\"color: #7f7f7f; text-decoration-color: #7f7f7f\"> and beats could be \"Rhythm       </span>│<span style=\"color: #7f7f7f; text-decoration-color: #7f7f7f\">        </span>│<span style=\"color: #7f7f7f; text-decoration-color: #7f7f7f\">                                  </span>│\n",
       "│<span style=\"color: #7f7f7f; text-decoration-color: #7f7f7f\">                                  </span>│<span style=\"color: #7f7f7f; text-decoration-color: #7f7f7f\"> Riff.\" This name captures the    </span>│<span style=\"color: #7f7f7f; text-decoration-color: #7f7f7f\">        </span>│<span style=\"color: #7f7f7f; text-decoration-color: #7f7f7f\">                                  </span>│\n",
       "│<span style=\"color: #7f7f7f; text-decoration-color: #7f7f7f\">                                  </span>│<span style=\"color: #7f7f7f; text-decoration-color: #7f7f7f\"> essence of their musical         </span>│<span style=\"color: #7f7f7f; text-decoration-color: #7f7f7f\">        </span>│<span style=\"color: #7f7f7f; text-decoration-color: #7f7f7f\">                                  </span>│\n",
       "│<span style=\"color: #7f7f7f; text-decoration-color: #7f7f7f\">                                  </span>│<span style=\"color: #7f7f7f; text-decoration-color: #7f7f7f\"> perspective and their knack for  </span>│<span style=\"color: #7f7f7f; text-decoration-color: #7f7f7f\">        </span>│<span style=\"color: #7f7f7f; text-decoration-color: #7f7f7f\">                                  </span>│\n",
       "│<span style=\"color: #7f7f7f; text-decoration-color: #7f7f7f\">                                  </span>│<span style=\"color: #7f7f7f; text-decoration-color: #7f7f7f\"> connecting everything back to    </span>│<span style=\"color: #7f7f7f; text-decoration-color: #7f7f7f\">        </span>│<span style=\"color: #7f7f7f; text-decoration-color: #7f7f7f\">                                  </span>│\n",
       "│<span style=\"color: #7f7f7f; text-decoration-color: #7f7f7f\">                                  </span>│<span style=\"color: #7f7f7f; text-decoration-color: #7f7f7f\"> rhythm and sound.                </span>│<span style=\"color: #7f7f7f; text-decoration-color: #7f7f7f\">        </span>│<span style=\"color: #7f7f7f; text-decoration-color: #7f7f7f\">                                  </span>│\n",
       "├──────────────────────────────────┼──────────────────────────────────┼────────┼──────────────────────────────────┤\n",
       "│<span style=\"color: #7f7f7f; text-decoration-color: #7f7f7f\"> A film critic who answers        </span>│<span style=\"color: #7f7f7f; text-decoration-color: #7f7f7f\"> A fitting name for this          </span>│<span style=\"color: #7f7f7f; text-decoration-color: #7f7f7f\"> 1941   </span>│<span style=\"color: #7f7f7f; text-decoration-color: #7f7f7f\"> Scenes from the Silver Screen:   </span>│\n",
       "│<span style=\"color: #7f7f7f; text-decoration-color: #7f7f7f\"> questions as if they are         </span>│<span style=\"color: #7f7f7f; text-decoration-color: #7f7f7f\"> character could be \"Cinephile    </span>│<span style=\"color: #7f7f7f; text-decoration-color: #7f7f7f\">        </span>│<span style=\"color: #7f7f7f; text-decoration-color: #7f7f7f\"> Life Reviewed with Cinematic     </span>│\n",
       "│<span style=\"color: #7f7f7f; text-decoration-color: #7f7f7f\"> reviewing a movie.               </span>│<span style=\"color: #7f7f7f; text-decoration-color: #7f7f7f\"> Critique.\" This name captures    </span>│<span style=\"color: #7f7f7f; text-decoration-color: #7f7f7f\">        </span>│<span style=\"color: #7f7f7f; text-decoration-color: #7f7f7f\"> Flair                            </span>│\n",
       "│<span style=\"color: #7f7f7f; text-decoration-color: #7f7f7f\">                                  </span>│<span style=\"color: #7f7f7f; text-decoration-color: #7f7f7f\"> their passion for film and their </span>│<span style=\"color: #7f7f7f; text-decoration-color: #7f7f7f\">        </span>│<span style=\"color: #7f7f7f; text-decoration-color: #7f7f7f\">                                  </span>│\n",
       "│<span style=\"color: #7f7f7f; text-decoration-color: #7f7f7f\">                                  </span>│<span style=\"color: #7f7f7f; text-decoration-color: #7f7f7f\"> unique approach to answering     </span>│<span style=\"color: #7f7f7f; text-decoration-color: #7f7f7f\">        </span>│<span style=\"color: #7f7f7f; text-decoration-color: #7f7f7f\">                                  </span>│\n",
       "│<span style=\"color: #7f7f7f; text-decoration-color: #7f7f7f\">                                  </span>│<span style=\"color: #7f7f7f; text-decoration-color: #7f7f7f\"> questions as if they are         </span>│<span style=\"color: #7f7f7f; text-decoration-color: #7f7f7f\">        </span>│<span style=\"color: #7f7f7f; text-decoration-color: #7f7f7f\">                                  </span>│\n",
       "│<span style=\"color: #7f7f7f; text-decoration-color: #7f7f7f\">                                  </span>│<span style=\"color: #7f7f7f; text-decoration-color: #7f7f7f\"> reviewing a movie.               </span>│<span style=\"color: #7f7f7f; text-decoration-color: #7f7f7f\">        </span>│<span style=\"color: #7f7f7f; text-decoration-color: #7f7f7f\">                                  </span>│\n",
       "├──────────────────────────────────┼──────────────────────────────────┼────────┼──────────────────────────────────┤\n",
       "│<span style=\"color: #7f7f7f; text-decoration-color: #7f7f7f\"> A scientist who gives overly     </span>│<span style=\"color: #7f7f7f; text-decoration-color: #7f7f7f\"> A fitting name for your          </span>│<span style=\"color: #7f7f7f; text-decoration-color: #7f7f7f\"> 1905   </span>│<span style=\"color: #7f7f7f; text-decoration-color: #7f7f7f\"> Decoding the Universe: A Deep    </span>│\n",
       "│<span style=\"color: #7f7f7f; text-decoration-color: #7f7f7f\"> detailed, scientific             </span>│<span style=\"color: #7f7f7f; text-decoration-color: #7f7f7f\"> character could be \"Dr. Lexicon  </span>│<span style=\"color: #7f7f7f; text-decoration-color: #7f7f7f\">        </span>│<span style=\"color: #7f7f7f; text-decoration-color: #7f7f7f\"> Dive into the Intricacies of     </span>│\n",
       "│<span style=\"color: #7f7f7f; text-decoration-color: #7f7f7f\"> explanations with lots of        </span>│<span style=\"color: #7f7f7f; text-decoration-color: #7f7f7f\"> J. Theorist.\" This name suggests </span>│<span style=\"color: #7f7f7f; text-decoration-color: #7f7f7f\">        </span>│<span style=\"color: #7f7f7f; text-decoration-color: #7f7f7f\"> Science                          </span>│\n",
       "│<span style=\"color: #7f7f7f; text-decoration-color: #7f7f7f\"> jargon.                          </span>│<span style=\"color: #7f7f7f; text-decoration-color: #7f7f7f\"> a deep familiarity with language </span>│<span style=\"color: #7f7f7f; text-decoration-color: #7f7f7f\">        </span>│<span style=\"color: #7f7f7f; text-decoration-color: #7f7f7f\">                                  </span>│\n",
       "│<span style=\"color: #7f7f7f; text-decoration-color: #7f7f7f\">                                  </span>│<span style=\"color: #7f7f7f; text-decoration-color: #7f7f7f\"> and theory, aligning with the    </span>│<span style=\"color: #7f7f7f; text-decoration-color: #7f7f7f\">        </span>│<span style=\"color: #7f7f7f; text-decoration-color: #7f7f7f\">                                  </span>│\n",
       "│<span style=\"color: #7f7f7f; text-decoration-color: #7f7f7f\">                                  </span>│<span style=\"color: #7f7f7f; text-decoration-color: #7f7f7f\"> character's tendency to provide  </span>│<span style=\"color: #7f7f7f; text-decoration-color: #7f7f7f\">        </span>│<span style=\"color: #7f7f7f; text-decoration-color: #7f7f7f\">                                  </span>│\n",
       "│<span style=\"color: #7f7f7f; text-decoration-color: #7f7f7f\">                                  </span>│<span style=\"color: #7f7f7f; text-decoration-color: #7f7f7f\"> detailed, jargon-heavy           </span>│<span style=\"color: #7f7f7f; text-decoration-color: #7f7f7f\">        </span>│<span style=\"color: #7f7f7f; text-decoration-color: #7f7f7f\">                                  </span>│\n",
       "│<span style=\"color: #7f7f7f; text-decoration-color: #7f7f7f\">                                  </span>│<span style=\"color: #7f7f7f; text-decoration-color: #7f7f7f\"> explanations.                    </span>│<span style=\"color: #7f7f7f; text-decoration-color: #7f7f7f\">        </span>│<span style=\"color: #7f7f7f; text-decoration-color: #7f7f7f\">                                  </span>│\n",
       "└──────────────────────────────────┴──────────────────────────────────┴────────┴──────────────────────────────────┘\n",
       "</pre>\n"
      ],
      "text/plain": [
       "┏━━━━━━━━━━━━━━━━━━━━━━━━━━━━━━━━━━┳━━━━━━━━━━━━━━━━━━━━━━━━━━━━━━━━━━┳━━━━━━━━┳━━━━━━━━━━━━━━━━━━━━━━━━━━━━━━━━━━┓\n",
       "┃\u001b[1;35m \u001b[0m\u001b[1;35mscenario                        \u001b[0m\u001b[1;35m \u001b[0m┃\u001b[1;35m \u001b[0m\u001b[1;35manswer                          \u001b[0m\u001b[1;35m \u001b[0m┃\u001b[1;35m \u001b[0m\u001b[1;35manswer\u001b[0m\u001b[1;35m \u001b[0m┃\u001b[1;35m \u001b[0m\u001b[1;35manswer                          \u001b[0m\u001b[1;35m \u001b[0m┃\n",
       "┃\u001b[1;35m \u001b[0m\u001b[1;35m.character                      \u001b[0m\u001b[1;35m \u001b[0m┃\u001b[1;35m \u001b[0m\u001b[1;35m.name                           \u001b[0m\u001b[1;35m \u001b[0m┃\u001b[1;35m \u001b[0m\u001b[1;35m.year \u001b[0m\u001b[1;35m \u001b[0m┃\u001b[1;35m \u001b[0m\u001b[1;35m.book                           \u001b[0m\u001b[1;35m \u001b[0m┃\n",
       "┡━━━━━━━━━━━━━━━━━━━━━━━━━━━━━━━━━━╇━━━━━━━━━━━━━━━━━━━━━━━━━━━━━━━━━━╇━━━━━━━━╇━━━━━━━━━━━━━━━━━━━━━━━━━━━━━━━━━━┩\n",
       "│\u001b[2m \u001b[0m\u001b[2mA pirate who speaks in 'arrs'   \u001b[0m\u001b[2m \u001b[0m│\u001b[2m \u001b[0m\u001b[2mHow about \"Techbeard the Cyber  \u001b[0m\u001b[2m \u001b[0m│\u001b[2m \u001b[0m\u001b[2m1717  \u001b[0m\u001b[2m \u001b[0m│\u001b[2m \u001b[0m\u001b[2mArrr and Algorithms: A Pirate's \u001b[0m\u001b[2m \u001b[0m│\n",
       "│\u001b[2m \u001b[0m\u001b[2mand 'mateys' but has an         \u001b[0m\u001b[2m \u001b[0m│\u001b[2m \u001b[0m\u001b[2mCorsair\"? This name combines the\u001b[0m\u001b[2m \u001b[0m│\u001b[2m        \u001b[0m│\u001b[2m \u001b[0m\u001b[2mGuide to the Digital Seas       \u001b[0m\u001b[2m \u001b[0m│\n",
       "│\u001b[2m \u001b[0m\u001b[2mencyclopedic knowledge of modern\u001b[0m\u001b[2m \u001b[0m│\u001b[2m \u001b[0m\u001b[2mclassic pirate element with a   \u001b[0m\u001b[2m \u001b[0m│\u001b[2m        \u001b[0m│\u001b[2m                                  \u001b[0m│\n",
       "│\u001b[2m \u001b[0m\u001b[2mtechnology.                     \u001b[0m\u001b[2m \u001b[0m│\u001b[2m \u001b[0m\u001b[2mnod to their expertise in modern\u001b[0m\u001b[2m \u001b[0m│\u001b[2m        \u001b[0m│\u001b[2m                                  \u001b[0m│\n",
       "│\u001b[2m                                  \u001b[0m│\u001b[2m \u001b[0m\u001b[2mtechnology.                     \u001b[0m\u001b[2m \u001b[0m│\u001b[2m        \u001b[0m│\u001b[2m                                  \u001b[0m│\n",
       "├──────────────────────────────────┼──────────────────────────────────┼────────┼──────────────────────────────────┤\n",
       "│\u001b[2m \u001b[0m\u001b[2mA Shakespearean actor who       \u001b[0m\u001b[2m \u001b[0m│\u001b[2m \u001b[0m\u001b[2mA fitting name for such a       \u001b[0m\u001b[2m \u001b[0m│\u001b[2m \u001b[0m\u001b[2m1600  \u001b[0m\u001b[2m \u001b[0m│\u001b[2m \u001b[0m\u001b[2mThe Bard's Cadence: Echoes of   \u001b[0m\u001b[2m \u001b[0m│\n",
       "│\u001b[2m \u001b[0m\u001b[2manswers every question in iambic\u001b[0m\u001b[2m \u001b[0m│\u001b[2m \u001b[0m\u001b[2mcharacter could be \"Percival    \u001b[0m\u001b[2m \u001b[0m│\u001b[2m        \u001b[0m│\u001b[2m \u001b[0m\u001b[2mthe Stage                       \u001b[0m\u001b[2m \u001b[0m│\n",
       "│\u001b[2m \u001b[0m\u001b[2mpentameter.                     \u001b[0m\u001b[2m \u001b[0m│\u001b[2m \u001b[0m\u001b[2mVersewright.\" This name suggests\u001b[0m\u001b[2m \u001b[0m│\u001b[2m        \u001b[0m│\u001b[2m                                  \u001b[0m│\n",
       "│\u001b[2m                                  \u001b[0m│\u001b[2m \u001b[0m\u001b[2ma classical, theatrical flair   \u001b[0m\u001b[2m \u001b[0m│\u001b[2m        \u001b[0m│\u001b[2m                                  \u001b[0m│\n",
       "│\u001b[2m                                  \u001b[0m│\u001b[2m \u001b[0m\u001b[2mwhile also hinting at his unique\u001b[0m\u001b[2m \u001b[0m│\u001b[2m        \u001b[0m│\u001b[2m                                  \u001b[0m│\n",
       "│\u001b[2m                                  \u001b[0m│\u001b[2m \u001b[0m\u001b[2mtalent for speaking in iambic   \u001b[0m\u001b[2m \u001b[0m│\u001b[2m        \u001b[0m│\u001b[2m                                  \u001b[0m│\n",
       "│\u001b[2m                                  \u001b[0m│\u001b[2m \u001b[0m\u001b[2mpentameter.                     \u001b[0m\u001b[2m \u001b[0m│\u001b[2m        \u001b[0m│\u001b[2m                                  \u001b[0m│\n",
       "├──────────────────────────────────┼──────────────────────────────────┼────────┼──────────────────────────────────┤\n",
       "│\u001b[2m \u001b[0m\u001b[2mA medieval knight who gives     \u001b[0m\u001b[2m \u001b[0m│\u001b[2m \u001b[0m\u001b[2mSir Draconis Counsel.           \u001b[0m\u001b[2m \u001b[0m│\u001b[2m \u001b[0m\u001b[2m1099  \u001b[0m\u001b[2m \u001b[0m│\u001b[2m \u001b[0m\u001b[2mSlaying Life's Dragons: A       \u001b[0m\u001b[2m \u001b[0m│\n",
       "│\u001b[2m \u001b[0m\u001b[2madvice as if every problem were \u001b[0m\u001b[2m \u001b[0m│\u001b[2m                                  \u001b[0m│\u001b[2m        \u001b[0m│\u001b[2m \u001b[0m\u001b[2mKnight's Guide to Conquering    \u001b[0m\u001b[2m \u001b[0m│\n",
       "│\u001b[2m \u001b[0m\u001b[2ma dragon to be slain.           \u001b[0m\u001b[2m \u001b[0m│\u001b[2m                                  \u001b[0m│\u001b[2m        \u001b[0m│\u001b[2m \u001b[0m\u001b[2mChallenges                      \u001b[0m\u001b[2m \u001b[0m│\n",
       "├──────────────────────────────────┼──────────────────────────────────┼────────┼──────────────────────────────────┤\n",
       "│\u001b[2m \u001b[0m\u001b[2mA sassy grandmother who gives   \u001b[0m\u001b[2m \u001b[0m│\u001b[2m \u001b[0m\u001b[2mA great name for this character \u001b[0m\u001b[2m \u001b[0m│\u001b[2m \u001b[0m\u001b[2m1929  \u001b[0m\u001b[2m \u001b[0m│\u001b[2m \u001b[0m\u001b[2mStraight Talk & Sass: Grandma's \u001b[0m\u001b[2m \u001b[0m│\n",
       "│\u001b[2m \u001b[0m\u001b[2mblunt, no-nonsense advice with a\u001b[0m\u001b[2m \u001b[0m│\u001b[2m \u001b[0m\u001b[2mcould be \"Mabel Sharp.\" The name\u001b[0m\u001b[2m \u001b[0m│\u001b[2m        \u001b[0m│\u001b[2m \u001b[0m\u001b[2mGuide to Life                   \u001b[0m\u001b[2m \u001b[0m│\n",
       "│\u001b[2m \u001b[0m\u001b[2mtouch of sarcasm.               \u001b[0m\u001b[2m \u001b[0m│\u001b[2m \u001b[0m\u001b[2m\"Mabel\" has a classic,          \u001b[0m\u001b[2m \u001b[0m│\u001b[2m        \u001b[0m│\u001b[2m                                  \u001b[0m│\n",
       "│\u001b[2m                                  \u001b[0m│\u001b[2m \u001b[0m\u001b[2mgrandmotherly feel, while       \u001b[0m\u001b[2m \u001b[0m│\u001b[2m        \u001b[0m│\u001b[2m                                  \u001b[0m│\n",
       "│\u001b[2m                                  \u001b[0m│\u001b[2m \u001b[0m\u001b[2m\"Sharp\" hints at her wit and    \u001b[0m\u001b[2m \u001b[0m│\u001b[2m        \u001b[0m│\u001b[2m                                  \u001b[0m│\n",
       "│\u001b[2m                                  \u001b[0m│\u001b[2m \u001b[0m\u001b[2mstraightforward nature.         \u001b[0m\u001b[2m \u001b[0m│\u001b[2m        \u001b[0m│\u001b[2m                                  \u001b[0m│\n",
       "├──────────────────────────────────┼──────────────────────────────────┼────────┼──────────────────────────────────┤\n",
       "│\u001b[2m \u001b[0m\u001b[2mA surfer dude who relates every \u001b[0m\u001b[2m \u001b[0m│\u001b[2m \u001b[0m\u001b[2mA good name for this character  \u001b[0m\u001b[2m \u001b[0m│\u001b[2m \u001b[0m\u001b[2m1966  \u001b[0m\u001b[2m \u001b[0m│\u001b[2m \u001b[0m\u001b[2mRiding the Wave: Life Lessons   \u001b[0m\u001b[2m \u001b[0m│\n",
       "│\u001b[2m \u001b[0m\u001b[2mtopic to the ocean or surfing.  \u001b[0m\u001b[2m \u001b[0m│\u001b[2m \u001b[0m\u001b[2mcould be \"Rip Tide Ryder.\" This \u001b[0m\u001b[2m \u001b[0m│\u001b[2m        \u001b[0m│\u001b[2m \u001b[0m\u001b[2mfrom the Ocean                  \u001b[0m\u001b[2m \u001b[0m│\n",
       "│\u001b[2m                                  \u001b[0m│\u001b[2m \u001b[0m\u001b[2mname captures the essence of    \u001b[0m\u001b[2m \u001b[0m│\u001b[2m        \u001b[0m│\u001b[2m                                  \u001b[0m│\n",
       "│\u001b[2m                                  \u001b[0m│\u001b[2m \u001b[0m\u001b[2msurfing with \"Rip Tide,\" a      \u001b[0m\u001b[2m \u001b[0m│\u001b[2m        \u001b[0m│\u001b[2m                                  \u001b[0m│\n",
       "│\u001b[2m                                  \u001b[0m│\u001b[2m \u001b[0m\u001b[2mcommon ocean term, and \"Ryder,\" \u001b[0m\u001b[2m \u001b[0m│\u001b[2m        \u001b[0m│\u001b[2m                                  \u001b[0m│\n",
       "│\u001b[2m                                  \u001b[0m│\u001b[2m \u001b[0m\u001b[2mwhich evokes the adventurous    \u001b[0m\u001b[2m \u001b[0m│\u001b[2m        \u001b[0m│\u001b[2m                                  \u001b[0m│\n",
       "│\u001b[2m                                  \u001b[0m│\u001b[2m \u001b[0m\u001b[2mspirit of a surfer.             \u001b[0m\u001b[2m \u001b[0m│\u001b[2m        \u001b[0m│\u001b[2m                                  \u001b[0m│\n",
       "├──────────────────────────────────┼──────────────────────────────────┼────────┼──────────────────────────────────┤\n",
       "│\u001b[2m \u001b[0m\u001b[2mA conspiracy theorist who       \u001b[0m\u001b[2m \u001b[0m│\u001b[2m \u001b[0m\u001b[2mHow about the name \"Cipher      \u001b[0m\u001b[2m \u001b[0m│\u001b[2m \u001b[0m\u001b[2m1969  \u001b[0m\u001b[2m \u001b[0m│\u001b[2m \u001b[0m\u001b[2mThreads of Truth: Unraveling the\u001b[0m\u001b[2m \u001b[0m│\n",
       "│\u001b[2m \u001b[0m\u001b[2mconnects every question to their\u001b[0m\u001b[2m \u001b[0m│\u001b[2m \u001b[0m\u001b[2mSage\"? This name suggests a     \u001b[0m\u001b[2m \u001b[0m│\u001b[2m        \u001b[0m│\u001b[2m \u001b[0m\u001b[2mHidden Web                      \u001b[0m\u001b[2m \u001b[0m│\n",
       "│\u001b[2m \u001b[0m\u001b[2mwild theories.                  \u001b[0m\u001b[2m \u001b[0m│\u001b[2m \u001b[0m\u001b[2msense of mystery and knowledge, \u001b[0m\u001b[2m \u001b[0m│\u001b[2m        \u001b[0m│\u001b[2m                                  \u001b[0m│\n",
       "│\u001b[2m                                  \u001b[0m│\u001b[2m \u001b[0m\u001b[2mwhile also hinting at the       \u001b[0m\u001b[2m \u001b[0m│\u001b[2m        \u001b[0m│\u001b[2m                                  \u001b[0m│\n",
       "│\u001b[2m                                  \u001b[0m│\u001b[2m \u001b[0m\u001b[2mcharacter's tendency to         \u001b[0m\u001b[2m \u001b[0m│\u001b[2m        \u001b[0m│\u001b[2m                                  \u001b[0m│\n",
       "│\u001b[2m                                  \u001b[0m│\u001b[2m \u001b[0m\u001b[2minterpret everything through the\u001b[0m\u001b[2m \u001b[0m│\u001b[2m        \u001b[0m│\u001b[2m                                  \u001b[0m│\n",
       "│\u001b[2m                                  \u001b[0m│\u001b[2m \u001b[0m\u001b[2mlens of their intricate         \u001b[0m\u001b[2m \u001b[0m│\u001b[2m        \u001b[0m│\u001b[2m                                  \u001b[0m│\n",
       "│\u001b[2m                                  \u001b[0m│\u001b[2m \u001b[0m\u001b[2mtheories.                       \u001b[0m\u001b[2m \u001b[0m│\u001b[2m        \u001b[0m│\u001b[2m                                  \u001b[0m│\n",
       "├──────────────────────────────────┼──────────────────────────────────┼────────┼──────────────────────────────────┤\n",
       "│\u001b[2m \u001b[0m\u001b[2mA fashionista who answers       \u001b[0m\u001b[2m \u001b[0m│\u001b[2m \u001b[0m\u001b[2mHow about \"Chic Clarissa\"? It   \u001b[0m\u001b[2m \u001b[0m│\u001b[2m \u001b[0m\u001b[2m1920  \u001b[0m\u001b[2m \u001b[0m│\u001b[2m \u001b[0m\u001b[2mChic Queries: The Stylish Guide \u001b[0m\u001b[2m \u001b[0m│\n",
       "│\u001b[2m \u001b[0m\u001b[2mquestions with a focus on style \u001b[0m\u001b[2m \u001b[0m│\u001b[2m \u001b[0m\u001b[2mcaptures her fashionable flair  \u001b[0m\u001b[2m \u001b[0m│\u001b[2m        \u001b[0m│\u001b[2m \u001b[0m\u001b[2mto Life's Burning Questions     \u001b[0m\u001b[2m \u001b[0m│\n",
       "│\u001b[2m \u001b[0m\u001b[2mand trendiness.                 \u001b[0m\u001b[2m \u001b[0m│\u001b[2m \u001b[0m\u001b[2mand expertise in style and      \u001b[0m\u001b[2m \u001b[0m│\u001b[2m        \u001b[0m│\u001b[2m                                  \u001b[0m│\n",
       "│\u001b[2m                                  \u001b[0m│\u001b[2m \u001b[0m\u001b[2mtrends.                         \u001b[0m\u001b[2m \u001b[0m│\u001b[2m        \u001b[0m│\u001b[2m                                  \u001b[0m│\n",
       "├──────────────────────────────────┼──────────────────────────────────┼────────┼──────────────────────────────────┤\n",
       "│\u001b[2m \u001b[0m\u001b[2mA robot who is overly           \u001b[0m\u001b[2m \u001b[0m│\u001b[2m \u001b[0m\u001b[2mA good name for this character  \u001b[0m\u001b[2m \u001b[0m│\u001b[2m \u001b[0m\u001b[2m2023  \u001b[0m\u001b[2m \u001b[0m│\u001b[2m \u001b[0m\u001b[2mHeartwired: A Robot's Journey to\u001b[0m\u001b[2m \u001b[0m│\n",
       "│\u001b[2m \u001b[0m\u001b[2menthusiastic about human        \u001b[0m\u001b[2m \u001b[0m│\u001b[2m \u001b[0m\u001b[2mcould be \"EmotiBot.\" This name  \u001b[0m\u001b[2m \u001b[0m│\u001b[2m        \u001b[0m│\u001b[2m \u001b[0m\u001b[2mFeel                            \u001b[0m\u001b[2m \u001b[0m│\n",
       "│\u001b[2m \u001b[0m\u001b[2memotions and tries too hard to  \u001b[0m\u001b[2m \u001b[0m│\u001b[2m \u001b[0m\u001b[2mhighlights the character's      \u001b[0m\u001b[2m \u001b[0m│\u001b[2m        \u001b[0m│\u001b[2m                                  \u001b[0m│\n",
       "│\u001b[2m \u001b[0m\u001b[2mfit in.                         \u001b[0m\u001b[2m \u001b[0m│\u001b[2m \u001b[0m\u001b[2mfascination with emotions while \u001b[0m\u001b[2m \u001b[0m│\u001b[2m        \u001b[0m│\u001b[2m                                  \u001b[0m│\n",
       "│\u001b[2m                                  \u001b[0m│\u001b[2m \u001b[0m\u001b[2mplayfully suggesting its robotic\u001b[0m\u001b[2m \u001b[0m│\u001b[2m        \u001b[0m│\u001b[2m                                  \u001b[0m│\n",
       "│\u001b[2m                                  \u001b[0m│\u001b[2m \u001b[0m\u001b[2mnature. Alternatively, you could\u001b[0m\u001b[2m \u001b[0m│\u001b[2m        \u001b[0m│\u001b[2m                                  \u001b[0m│\n",
       "│\u001b[2m                                  \u001b[0m│\u001b[2m \u001b[0m\u001b[2mconsider names like \"Eagertron\" \u001b[0m\u001b[2m \u001b[0m│\u001b[2m        \u001b[0m│\u001b[2m                                  \u001b[0m│\n",
       "│\u001b[2m                                  \u001b[0m│\u001b[2m \u001b[0m\u001b[2mor \"Feelix,\" which also capture \u001b[0m\u001b[2m \u001b[0m│\u001b[2m        \u001b[0m│\u001b[2m                                  \u001b[0m│\n",
       "│\u001b[2m                                  \u001b[0m│\u001b[2m \u001b[0m\u001b[2mthe essence of its enthusiastic \u001b[0m\u001b[2m \u001b[0m│\u001b[2m        \u001b[0m│\u001b[2m                                  \u001b[0m│\n",
       "│\u001b[2m                                  \u001b[0m│\u001b[2m \u001b[0m\u001b[2mattempts to understand and fit  \u001b[0m\u001b[2m \u001b[0m│\u001b[2m        \u001b[0m│\u001b[2m                                  \u001b[0m│\n",
       "│\u001b[2m                                  \u001b[0m│\u001b[2m \u001b[0m\u001b[2min with humans.                 \u001b[0m\u001b[2m \u001b[0m│\u001b[2m        \u001b[0m│\u001b[2m                                  \u001b[0m│\n",
       "├──────────────────────────────────┼──────────────────────────────────┼────────┼──────────────────────────────────┤\n",
       "│\u001b[2m \u001b[0m\u001b[2mA toddler who is overly curious \u001b[0m\u001b[2m \u001b[0m│\u001b[2m \u001b[0m\u001b[2mA good name for this character  \u001b[0m\u001b[2m \u001b[0m│\u001b[2m \u001b[0m\u001b[2m1969  \u001b[0m\u001b[2m \u001b[0m│\u001b[2m \u001b[0m\u001b[2mTitle: \"Why, Why, Why:          \u001b[0m\u001b[2m \u001b[0m│\n",
       "│\u001b[2m \u001b[0m\u001b[2mand asks more questions than    \u001b[0m\u001b[2m \u001b[0m│\u001b[2m \u001b[0m\u001b[2mcould be \"Quincy Quest.\" The    \u001b[0m\u001b[2m \u001b[0m│\u001b[2m        \u001b[0m│\u001b[2m \u001b[0m\u001b[2mAdventures in Curiosity\"        \u001b[0m\u001b[2m \u001b[0m│\n",
       "│\u001b[2m \u001b[0m\u001b[2mthey answer.                    \u001b[0m\u001b[2m \u001b[0m│\u001b[2m \u001b[0m\u001b[2mname \"Quincy\" has a playful and \u001b[0m\u001b[2m \u001b[0m│\u001b[2m        \u001b[0m│\u001b[2m                                  \u001b[0m│\n",
       "│\u001b[2m                                  \u001b[0m│\u001b[2m \u001b[0m\u001b[2minquisitive sound, while \"Quest\"\u001b[0m\u001b[2m \u001b[0m│\u001b[2m        \u001b[0m│\u001b[2m                                  \u001b[0m│\n",
       "│\u001b[2m                                  \u001b[0m│\u001b[2m \u001b[0m\u001b[2mhighlights their adventurous and\u001b[0m\u001b[2m \u001b[0m│\u001b[2m        \u001b[0m│\u001b[2m                                  \u001b[0m│\n",
       "│\u001b[2m                                  \u001b[0m│\u001b[2m \u001b[0m\u001b[2mcurious nature.                 \u001b[0m\u001b[2m \u001b[0m│\u001b[2m        \u001b[0m│\u001b[2m                                  \u001b[0m│\n",
       "├──────────────────────────────────┼──────────────────────────────────┼────────┼──────────────────────────────────┤\n",
       "│\u001b[2m \u001b[0m\u001b[2mA fitness guru who turns every  \u001b[0m\u001b[2m \u001b[0m│\u001b[2m \u001b[0m\u001b[2mHow about \"Flex McMetaphor\"?    \u001b[0m\u001b[2m \u001b[0m│\u001b[2m \u001b[0m\u001b[2m1980  \u001b[0m\u001b[2m \u001b[0m│\u001b[2m \u001b[0m\u001b[2mFlex Your Mind: Turning Life's  \u001b[0m\u001b[2m \u001b[0m│\n",
       "│\u001b[2m \u001b[0m\u001b[2manswer into a workout metaphor. \u001b[0m\u001b[2m \u001b[0m│\u001b[2m \u001b[0m\u001b[2mIt's catchy and highlights both \u001b[0m\u001b[2m \u001b[0m│\u001b[2m        \u001b[0m│\u001b[2m \u001b[0m\u001b[2mChallenges into Strength        \u001b[0m\u001b[2m \u001b[0m│\n",
       "│\u001b[2m                                  \u001b[0m│\u001b[2m \u001b[0m\u001b[2mthe character's fitness focus   \u001b[0m\u001b[2m \u001b[0m│\u001b[2m        \u001b[0m│\u001b[2m \u001b[0m\u001b[2mTraining                        \u001b[0m\u001b[2m \u001b[0m│\n",
       "│\u001b[2m                                  \u001b[0m│\u001b[2m \u001b[0m\u001b[2mand their unique way of         \u001b[0m\u001b[2m \u001b[0m│\u001b[2m        \u001b[0m│\u001b[2m                                  \u001b[0m│\n",
       "│\u001b[2m                                  \u001b[0m│\u001b[2m \u001b[0m\u001b[2mcommunicating through workout   \u001b[0m\u001b[2m \u001b[0m│\u001b[2m        \u001b[0m│\u001b[2m                                  \u001b[0m│\n",
       "│\u001b[2m                                  \u001b[0m│\u001b[2m \u001b[0m\u001b[2mmetaphors.                      \u001b[0m\u001b[2m \u001b[0m│\u001b[2m        \u001b[0m│\u001b[2m                                  \u001b[0m│\n",
       "├──────────────────────────────────┼──────────────────────────────────┼────────┼──────────────────────────────────┤\n",
       "│\u001b[2m \u001b[0m\u001b[2mA foodie who relates every      \u001b[0m\u001b[2m \u001b[0m│\u001b[2m \u001b[0m\u001b[2mA great name for this character \u001b[0m\u001b[2m \u001b[0m│\u001b[2m \u001b[0m\u001b[2m1765  \u001b[0m\u001b[2m \u001b[0m│\u001b[2m \u001b[0m\u001b[2mLife's Recipe: Stirring Up      \u001b[0m\u001b[2m \u001b[0m│\n",
       "│\u001b[2m \u001b[0m\u001b[2mquestion to cooking and food    \u001b[0m\u001b[2m \u001b[0m│\u001b[2m \u001b[0m\u001b[2mcould be \"Gourmet Gabe\" or      \u001b[0m\u001b[2m \u001b[0m│\u001b[2m        \u001b[0m│\u001b[2m \u001b[0m\u001b[2mAnswers One Dish at a Time      \u001b[0m\u001b[2m \u001b[0m│\n",
       "│\u001b[2m \u001b[0m\u001b[2mexperiences.                    \u001b[0m\u001b[2m \u001b[0m│\u001b[2m \u001b[0m\u001b[2m\"Culinary Clara.\" These names   \u001b[0m\u001b[2m \u001b[0m│\u001b[2m        \u001b[0m│\u001b[2m                                  \u001b[0m│\n",
       "│\u001b[2m                                  \u001b[0m│\u001b[2m \u001b[0m\u001b[2mcapture their passion for food  \u001b[0m\u001b[2m \u001b[0m│\u001b[2m        \u001b[0m│\u001b[2m                                  \u001b[0m│\n",
       "│\u001b[2m                                  \u001b[0m│\u001b[2m \u001b[0m\u001b[2mand their tendency to connect   \u001b[0m\u001b[2m \u001b[0m│\u001b[2m        \u001b[0m│\u001b[2m                                  \u001b[0m│\n",
       "│\u001b[2m                                  \u001b[0m│\u001b[2m \u001b[0m\u001b[2meverything back to culinary     \u001b[0m\u001b[2m \u001b[0m│\u001b[2m        \u001b[0m│\u001b[2m                                  \u001b[0m│\n",
       "│\u001b[2m                                  \u001b[0m│\u001b[2m \u001b[0m\u001b[2mexperiences.                    \u001b[0m\u001b[2m \u001b[0m│\u001b[2m        \u001b[0m│\u001b[2m                                  \u001b[0m│\n",
       "├──────────────────────────────────┼──────────────────────────────────┼────────┼──────────────────────────────────┤\n",
       "│\u001b[2m \u001b[0m\u001b[2mA detective from a noir film who\u001b[0m\u001b[2m \u001b[0m│\u001b[2m \u001b[0m\u001b[2mA fitting name for a detective  \u001b[0m\u001b[2m \u001b[0m│\u001b[2m \u001b[0m\u001b[2m1947  \u001b[0m\u001b[2m \u001b[0m│\u001b[2m \u001b[0m\u001b[2mThe Shadows Whisper Truths      \u001b[0m\u001b[2m \u001b[0m│\n",
       "│\u001b[2m \u001b[0m\u001b[2manswers in a gritty, mysterious \u001b[0m\u001b[2m \u001b[0m│\u001b[2m \u001b[0m\u001b[2min a noir film who exudes grit  \u001b[0m\u001b[2m \u001b[0m│\u001b[2m        \u001b[0m│\u001b[2m                                  \u001b[0m│\n",
       "│\u001b[2m \u001b[0m\u001b[2mmanner.                         \u001b[0m\u001b[2m \u001b[0m│\u001b[2m \u001b[0m\u001b[2mand mystery might be \"Jack      \u001b[0m\u001b[2m \u001b[0m│\u001b[2m        \u001b[0m│\u001b[2m                                  \u001b[0m│\n",
       "│\u001b[2m                                  \u001b[0m│\u001b[2m \u001b[0m\u001b[2mShadows.\" This name evokes a    \u001b[0m\u001b[2m \u001b[0m│\u001b[2m        \u001b[0m│\u001b[2m                                  \u001b[0m│\n",
       "│\u001b[2m                                  \u001b[0m│\u001b[2m \u001b[0m\u001b[2msense of enigma and toughness,  \u001b[0m\u001b[2m \u001b[0m│\u001b[2m        \u001b[0m│\u001b[2m                                  \u001b[0m│\n",
       "│\u001b[2m                                  \u001b[0m│\u001b[2m \u001b[0m\u001b[2mperfectly aligning with the     \u001b[0m\u001b[2m \u001b[0m│\u001b[2m        \u001b[0m│\u001b[2m                                  \u001b[0m│\n",
       "│\u001b[2m                                  \u001b[0m│\u001b[2m \u001b[0m\u001b[2mclassic noir aesthetic.         \u001b[0m\u001b[2m \u001b[0m│\u001b[2m        \u001b[0m│\u001b[2m                                  \u001b[0m│\n",
       "├──────────────────────────────────┼──────────────────────────────────┼────────┼──────────────────────────────────┤\n",
       "│\u001b[2m \u001b[0m\u001b[2mA hippie from the 60s who gives \u001b[0m\u001b[2m \u001b[0m│\u001b[2m \u001b[0m\u001b[2mA good name for your character  \u001b[0m\u001b[2m \u001b[0m│\u001b[2m \u001b[0m\u001b[2m1969  \u001b[0m\u001b[2m \u001b[0m│\u001b[2m \u001b[0m\u001b[2mGroovy Vibes: A Journey to Peace\u001b[0m\u001b[2m \u001b[0m│\n",
       "│\u001b[2m \u001b[0m\u001b[2mpeace and love-centric advice.  \u001b[0m\u001b[2m \u001b[0m│\u001b[2m \u001b[0m\u001b[2mcould be \"Harmony Moonbeam.\"    \u001b[0m\u001b[2m \u001b[0m│\u001b[2m        \u001b[0m│\u001b[2m \u001b[0m\u001b[2mand Love                        \u001b[0m\u001b[2m \u001b[0m│\n",
       "│\u001b[2m                                  \u001b[0m│\u001b[2m \u001b[0m\u001b[2mThis name captures the essence  \u001b[0m\u001b[2m \u001b[0m│\u001b[2m        \u001b[0m│\u001b[2m                                  \u001b[0m│\n",
       "│\u001b[2m                                  \u001b[0m│\u001b[2m \u001b[0m\u001b[2mof the 60s hippie culture and   \u001b[0m\u001b[2m \u001b[0m│\u001b[2m        \u001b[0m│\u001b[2m                                  \u001b[0m│\n",
       "│\u001b[2m                                  \u001b[0m│\u001b[2m \u001b[0m\u001b[2mreflects the character's focus  \u001b[0m\u001b[2m \u001b[0m│\u001b[2m        \u001b[0m│\u001b[2m                                  \u001b[0m│\n",
       "│\u001b[2m                                  \u001b[0m│\u001b[2m \u001b[0m\u001b[2mon peace and love.              \u001b[0m\u001b[2m \u001b[0m│\u001b[2m        \u001b[0m│\u001b[2m                                  \u001b[0m│\n",
       "├──────────────────────────────────┼──────────────────────────────────┼────────┼──────────────────────────────────┤\n",
       "│\u001b[2m \u001b[0m\u001b[2mA gamer who references video    \u001b[0m\u001b[2m \u001b[0m│\u001b[2m \u001b[0m\u001b[2mHow about \"Pixel Paladin\"? This \u001b[0m\u001b[2m \u001b[0m│\u001b[2m \u001b[0m\u001b[2m1980  \u001b[0m\u001b[2m \u001b[0m│\u001b[2m \u001b[0m\u001b[2mLevel Up: Unlocking Life's      \u001b[0m\u001b[2m \u001b[0m│\n",
       "│\u001b[2m \u001b[0m\u001b[2mgames and uses gamer lingo.     \u001b[0m\u001b[2m \u001b[0m│\u001b[2m \u001b[0m\u001b[2mname captures the essence of a  \u001b[0m\u001b[2m \u001b[0m│\u001b[2m        \u001b[0m│\u001b[2m \u001b[0m\u001b[2mAchievements with Gamer Wisdom  \u001b[0m\u001b[2m \u001b[0m│\n",
       "│\u001b[2m                                  \u001b[0m│\u001b[2m \u001b[0m\u001b[2mgamer who is deeply immersed in \u001b[0m\u001b[2m \u001b[0m│\u001b[2m        \u001b[0m│\u001b[2m                                  \u001b[0m│\n",
       "│\u001b[2m                                  \u001b[0m│\u001b[2m \u001b[0m\u001b[2mvideo games and uses gaming     \u001b[0m\u001b[2m \u001b[0m│\u001b[2m        \u001b[0m│\u001b[2m                                  \u001b[0m│\n",
       "│\u001b[2m                                  \u001b[0m│\u001b[2m \u001b[0m\u001b[2mterminology, while also         \u001b[0m\u001b[2m \u001b[0m│\u001b[2m        \u001b[0m│\u001b[2m                                  \u001b[0m│\n",
       "│\u001b[2m                                  \u001b[0m│\u001b[2m \u001b[0m\u001b[2msuggesting a sense of adventure \u001b[0m\u001b[2m \u001b[0m│\u001b[2m        \u001b[0m│\u001b[2m                                  \u001b[0m│\n",
       "│\u001b[2m                                  \u001b[0m│\u001b[2m \u001b[0m\u001b[2mand skill.                      \u001b[0m\u001b[2m \u001b[0m│\u001b[2m        \u001b[0m│\u001b[2m                                  \u001b[0m│\n",
       "├──────────────────────────────────┼──────────────────────────────────┼────────┼──────────────────────────────────┤\n",
       "│\u001b[2m \u001b[0m\u001b[2mA superhero who answers         \u001b[0m\u001b[2m \u001b[0m│\u001b[2m \u001b[0m\u001b[2mA good name for this character  \u001b[0m\u001b[2m \u001b[0m│\u001b[2m \u001b[0m\u001b[2m1938  \u001b[0m\u001b[2m \u001b[0m│\u001b[2m \u001b[0m\u001b[2mAnswer Avenger: Rescuing the    \u001b[0m\u001b[2m \u001b[0m│\n",
       "│\u001b[2m \u001b[0m\u001b[2mquestions as if they are saving \u001b[0m\u001b[2m \u001b[0m│\u001b[2m \u001b[0m\u001b[2mcould be \"The Responder.\" This  \u001b[0m\u001b[2m \u001b[0m│\u001b[2m        \u001b[0m│\u001b[2m \u001b[0m\u001b[2mWorld One Question at a Time    \u001b[0m\u001b[2m \u001b[0m│\n",
       "│\u001b[2m \u001b[0m\u001b[2mthe day.                        \u001b[0m\u001b[2m \u001b[0m│\u001b[2m \u001b[0m\u001b[2mname captures both their        \u001b[0m\u001b[2m \u001b[0m│\u001b[2m        \u001b[0m│\u001b[2m                                  \u001b[0m│\n",
       "│\u001b[2m                                  \u001b[0m│\u001b[2m \u001b[0m\u001b[2msuperhero essence and their     \u001b[0m\u001b[2m \u001b[0m│\u001b[2m        \u001b[0m│\u001b[2m                                  \u001b[0m│\n",
       "│\u001b[2m                                  \u001b[0m│\u001b[2m \u001b[0m\u001b[2mmission to save the day by      \u001b[0m\u001b[2m \u001b[0m│\u001b[2m        \u001b[0m│\u001b[2m                                  \u001b[0m│\n",
       "│\u001b[2m                                  \u001b[0m│\u001b[2m \u001b[0m\u001b[2manswering questions.            \u001b[0m\u001b[2m \u001b[0m│\u001b[2m        \u001b[0m│\u001b[2m                                  \u001b[0m│\n",
       "├──────────────────────────────────┼──────────────────────────────────┼────────┼──────────────────────────────────┤\n",
       "│\u001b[2m \u001b[0m\u001b[2mA poet who responds in rhyming  \u001b[0m\u001b[2m \u001b[0m│\u001b[2m \u001b[0m\u001b[2mA fitting name for a poet who   \u001b[0m\u001b[2m \u001b[0m│\u001b[2m \u001b[0m\u001b[2m1609  \u001b[0m\u001b[2m \u001b[0m│\u001b[2m \u001b[0m\u001b[2mThe Couplets of My Soul: A      \u001b[0m\u001b[2m \u001b[0m│\n",
       "│\u001b[2m \u001b[0m\u001b[2mcouplets.                       \u001b[0m\u001b[2m \u001b[0m│\u001b[2m \u001b[0m\u001b[2mspeaks in rhyming couplets could\u001b[0m\u001b[2m \u001b[0m│\u001b[2m        \u001b[0m│\u001b[2m \u001b[0m\u001b[2mRhyming Odyssey                 \u001b[0m\u001b[2m \u001b[0m│\n",
       "│\u001b[2m                                  \u001b[0m│\u001b[2m \u001b[0m\u001b[2mbe \"Rhymeheart Bard.\" This name \u001b[0m\u001b[2m \u001b[0m│\u001b[2m        \u001b[0m│\u001b[2m                                  \u001b[0m│\n",
       "│\u001b[2m                                  \u001b[0m│\u001b[2m \u001b[0m\u001b[2mcaptures their poetic nature and\u001b[0m\u001b[2m \u001b[0m│\u001b[2m        \u001b[0m│\u001b[2m                                  \u001b[0m│\n",
       "│\u001b[2m                                  \u001b[0m│\u001b[2m \u001b[0m\u001b[2mtheir talent for crafting       \u001b[0m\u001b[2m \u001b[0m│\u001b[2m        \u001b[0m│\u001b[2m                                  \u001b[0m│\n",
       "│\u001b[2m                                  \u001b[0m│\u001b[2m \u001b[0m\u001b[2mharmonious verses.              \u001b[0m\u001b[2m \u001b[0m│\u001b[2m        \u001b[0m│\u001b[2m                                  \u001b[0m│\n",
       "├──────────────────────────────────┼──────────────────────────────────┼────────┼──────────────────────────────────┤\n",
       "│\u001b[2m \u001b[0m\u001b[2mA comedian who tries to turn    \u001b[0m\u001b[2m \u001b[0m│\u001b[2m \u001b[0m\u001b[2mA good name for this comedic    \u001b[0m\u001b[2m \u001b[0m│\u001b[2m \u001b[0m\u001b[2m1920  \u001b[0m\u001b[2m \u001b[0m│\u001b[2m \u001b[0m\u001b[2mPunchlines & Page-Turners:      \u001b[0m\u001b[2m \u001b[0m│\n",
       "│\u001b[2m \u001b[0m\u001b[2mevery answer into a joke or     \u001b[0m\u001b[2m \u001b[0m│\u001b[2m \u001b[0m\u001b[2mcharacter could be \"Punchline   \u001b[0m\u001b[2m \u001b[0m│\u001b[2m        \u001b[0m│\u001b[2m \u001b[0m\u001b[2mLaughing Through Life One Joke  \u001b[0m\u001b[2m \u001b[0m│\n",
       "│\u001b[2m \u001b[0m\u001b[2mpunchline.                      \u001b[0m\u001b[2m \u001b[0m│\u001b[2m \u001b[0m\u001b[2mPete\" or \"Jester Jess.\" These   \u001b[0m\u001b[2m \u001b[0m│\u001b[2m        \u001b[0m│\u001b[2m \u001b[0m\u001b[2mat a Time                       \u001b[0m\u001b[2m \u001b[0m│\n",
       "│\u001b[2m                                  \u001b[0m│\u001b[2m \u001b[0m\u001b[2mnames capture the essence of    \u001b[0m\u001b[2m \u001b[0m│\u001b[2m        \u001b[0m│\u001b[2m                                  \u001b[0m│\n",
       "│\u001b[2m                                  \u001b[0m│\u001b[2m \u001b[0m\u001b[2msomeone who consistently turns  \u001b[0m\u001b[2m \u001b[0m│\u001b[2m        \u001b[0m│\u001b[2m                                  \u001b[0m│\n",
       "│\u001b[2m                                  \u001b[0m│\u001b[2m \u001b[0m\u001b[2mconversations into humorous     \u001b[0m\u001b[2m \u001b[0m│\u001b[2m        \u001b[0m│\u001b[2m                                  \u001b[0m│\n",
       "│\u001b[2m                                  \u001b[0m│\u001b[2m \u001b[0m\u001b[2mexchanges.                      \u001b[0m\u001b[2m \u001b[0m│\u001b[2m        \u001b[0m│\u001b[2m                                  \u001b[0m│\n",
       "├──────────────────────────────────┼──────────────────────────────────┼────────┼──────────────────────────────────┤\n",
       "│\u001b[2m \u001b[0m\u001b[2mA DJ who relates everything to  \u001b[0m\u001b[2m \u001b[0m│\u001b[2m \u001b[0m\u001b[2mA good name for a DJ character  \u001b[0m\u001b[2m \u001b[0m│\u001b[2m \u001b[0m\u001b[2m1973  \u001b[0m\u001b[2m \u001b[0m│\u001b[2m \u001b[0m\u001b[2mRhythm & Resonance: Life's      \u001b[0m\u001b[2m \u001b[0m│\n",
       "│\u001b[2m \u001b[0m\u001b[2mmusic and beats.                \u001b[0m\u001b[2m \u001b[0m│\u001b[2m \u001b[0m\u001b[2mwho relates everything to music \u001b[0m\u001b[2m \u001b[0m│\u001b[2m        \u001b[0m│\u001b[2m \u001b[0m\u001b[2mPlaylist                        \u001b[0m\u001b[2m \u001b[0m│\n",
       "│\u001b[2m                                  \u001b[0m│\u001b[2m \u001b[0m\u001b[2mand beats could be \"Rhythm      \u001b[0m\u001b[2m \u001b[0m│\u001b[2m        \u001b[0m│\u001b[2m                                  \u001b[0m│\n",
       "│\u001b[2m                                  \u001b[0m│\u001b[2m \u001b[0m\u001b[2mRiff.\" This name captures the   \u001b[0m\u001b[2m \u001b[0m│\u001b[2m        \u001b[0m│\u001b[2m                                  \u001b[0m│\n",
       "│\u001b[2m                                  \u001b[0m│\u001b[2m \u001b[0m\u001b[2messence of their musical        \u001b[0m\u001b[2m \u001b[0m│\u001b[2m        \u001b[0m│\u001b[2m                                  \u001b[0m│\n",
       "│\u001b[2m                                  \u001b[0m│\u001b[2m \u001b[0m\u001b[2mperspective and their knack for \u001b[0m\u001b[2m \u001b[0m│\u001b[2m        \u001b[0m│\u001b[2m                                  \u001b[0m│\n",
       "│\u001b[2m                                  \u001b[0m│\u001b[2m \u001b[0m\u001b[2mconnecting everything back to   \u001b[0m\u001b[2m \u001b[0m│\u001b[2m        \u001b[0m│\u001b[2m                                  \u001b[0m│\n",
       "│\u001b[2m                                  \u001b[0m│\u001b[2m \u001b[0m\u001b[2mrhythm and sound.               \u001b[0m\u001b[2m \u001b[0m│\u001b[2m        \u001b[0m│\u001b[2m                                  \u001b[0m│\n",
       "├──────────────────────────────────┼──────────────────────────────────┼────────┼──────────────────────────────────┤\n",
       "│\u001b[2m \u001b[0m\u001b[2mA film critic who answers       \u001b[0m\u001b[2m \u001b[0m│\u001b[2m \u001b[0m\u001b[2mA fitting name for this         \u001b[0m\u001b[2m \u001b[0m│\u001b[2m \u001b[0m\u001b[2m1941  \u001b[0m\u001b[2m \u001b[0m│\u001b[2m \u001b[0m\u001b[2mScenes from the Silver Screen:  \u001b[0m\u001b[2m \u001b[0m│\n",
       "│\u001b[2m \u001b[0m\u001b[2mquestions as if they are        \u001b[0m\u001b[2m \u001b[0m│\u001b[2m \u001b[0m\u001b[2mcharacter could be \"Cinephile   \u001b[0m\u001b[2m \u001b[0m│\u001b[2m        \u001b[0m│\u001b[2m \u001b[0m\u001b[2mLife Reviewed with Cinematic    \u001b[0m\u001b[2m \u001b[0m│\n",
       "│\u001b[2m \u001b[0m\u001b[2mreviewing a movie.              \u001b[0m\u001b[2m \u001b[0m│\u001b[2m \u001b[0m\u001b[2mCritique.\" This name captures   \u001b[0m\u001b[2m \u001b[0m│\u001b[2m        \u001b[0m│\u001b[2m \u001b[0m\u001b[2mFlair                           \u001b[0m\u001b[2m \u001b[0m│\n",
       "│\u001b[2m                                  \u001b[0m│\u001b[2m \u001b[0m\u001b[2mtheir passion for film and their\u001b[0m\u001b[2m \u001b[0m│\u001b[2m        \u001b[0m│\u001b[2m                                  \u001b[0m│\n",
       "│\u001b[2m                                  \u001b[0m│\u001b[2m \u001b[0m\u001b[2munique approach to answering    \u001b[0m\u001b[2m \u001b[0m│\u001b[2m        \u001b[0m│\u001b[2m                                  \u001b[0m│\n",
       "│\u001b[2m                                  \u001b[0m│\u001b[2m \u001b[0m\u001b[2mquestions as if they are        \u001b[0m\u001b[2m \u001b[0m│\u001b[2m        \u001b[0m│\u001b[2m                                  \u001b[0m│\n",
       "│\u001b[2m                                  \u001b[0m│\u001b[2m \u001b[0m\u001b[2mreviewing a movie.              \u001b[0m\u001b[2m \u001b[0m│\u001b[2m        \u001b[0m│\u001b[2m                                  \u001b[0m│\n",
       "├──────────────────────────────────┼──────────────────────────────────┼────────┼──────────────────────────────────┤\n",
       "│\u001b[2m \u001b[0m\u001b[2mA scientist who gives overly    \u001b[0m\u001b[2m \u001b[0m│\u001b[2m \u001b[0m\u001b[2mA fitting name for your         \u001b[0m\u001b[2m \u001b[0m│\u001b[2m \u001b[0m\u001b[2m1905  \u001b[0m\u001b[2m \u001b[0m│\u001b[2m \u001b[0m\u001b[2mDecoding the Universe: A Deep   \u001b[0m\u001b[2m \u001b[0m│\n",
       "│\u001b[2m \u001b[0m\u001b[2mdetailed, scientific            \u001b[0m\u001b[2m \u001b[0m│\u001b[2m \u001b[0m\u001b[2mcharacter could be \"Dr. Lexicon \u001b[0m\u001b[2m \u001b[0m│\u001b[2m        \u001b[0m│\u001b[2m \u001b[0m\u001b[2mDive into the Intricacies of    \u001b[0m\u001b[2m \u001b[0m│\n",
       "│\u001b[2m \u001b[0m\u001b[2mexplanations with lots of       \u001b[0m\u001b[2m \u001b[0m│\u001b[2m \u001b[0m\u001b[2mJ. Theorist.\" This name suggests\u001b[0m\u001b[2m \u001b[0m│\u001b[2m        \u001b[0m│\u001b[2m \u001b[0m\u001b[2mScience                         \u001b[0m\u001b[2m \u001b[0m│\n",
       "│\u001b[2m \u001b[0m\u001b[2mjargon.                         \u001b[0m\u001b[2m \u001b[0m│\u001b[2m \u001b[0m\u001b[2ma deep familiarity with language\u001b[0m\u001b[2m \u001b[0m│\u001b[2m        \u001b[0m│\u001b[2m                                  \u001b[0m│\n",
       "│\u001b[2m                                  \u001b[0m│\u001b[2m \u001b[0m\u001b[2mand theory, aligning with the   \u001b[0m\u001b[2m \u001b[0m│\u001b[2m        \u001b[0m│\u001b[2m                                  \u001b[0m│\n",
       "│\u001b[2m                                  \u001b[0m│\u001b[2m \u001b[0m\u001b[2mcharacter's tendency to provide \u001b[0m\u001b[2m \u001b[0m│\u001b[2m        \u001b[0m│\u001b[2m                                  \u001b[0m│\n",
       "│\u001b[2m                                  \u001b[0m│\u001b[2m \u001b[0m\u001b[2mdetailed, jargon-heavy          \u001b[0m\u001b[2m \u001b[0m│\u001b[2m        \u001b[0m│\u001b[2m                                  \u001b[0m│\n",
       "│\u001b[2m                                  \u001b[0m│\u001b[2m \u001b[0m\u001b[2mexplanations.                   \u001b[0m\u001b[2m \u001b[0m│\u001b[2m        \u001b[0m│\u001b[2m                                  \u001b[0m│\n",
       "└──────────────────────────────────┴──────────────────────────────────┴────────┴──────────────────────────────────┘\n"
      ]
     },
     "metadata": {},
     "output_type": "display_data"
    }
   ],
   "source": [
    "results.select(\"character\", \"name\", \"year\", \"book\").print(format=\"rich\")"
   ]
  },
  {
   "cell_type": "markdown",
   "id": "a6b97517-c804-4a14-b5aa-3a20d1072b97",
   "metadata": {
    "editable": true,
    "slideshow": {
     "slide_type": ""
    },
    "tags": []
   },
   "source": [
    "## Posting to the Coop\n",
    "The [Coop](https://www.expectedparrot.com/explore) is a platform for creating, storing and sharing LLM-based research.\n",
    "It is fully integrated with EDSL and accessible from your workspace or Coop account page.\n",
    "Learn more about [creating an account](https://www.expectedparrot.com/login) and [using the Coop](https://docs.expectedparrot.com/en/latest/coop.html).\n",
    "\n",
    "Here we post the scenarios, survey and results from above, and this notebook:"
   ]
  },
  {
   "cell_type": "code",
   "execution_count": 13,
   "id": "e7ac0c37-e8a2-42a3-8e7e-635488cd0f0b",
   "metadata": {
    "editable": true,
    "slideshow": {
     "slide_type": ""
    },
    "tags": [
     "skip-execution"
    ]
   },
   "outputs": [],
   "source": [
    "from edsl import Notebook"
   ]
  },
  {
   "cell_type": "code",
   "execution_count": 14,
   "id": "bbb65db3-1b4b-4ed5-99da-0f75cb30e112",
   "metadata": {
    "editable": true,
    "slideshow": {
     "slide_type": ""
    },
    "tags": [
     "skip-execution"
    ]
   },
   "outputs": [],
   "source": [
    "n = Notebook(path = \"batching_results.ipynb\")"
   ]
  },
  {
   "cell_type": "code",
   "execution_count": 15,
   "id": "74defe99-94cc-4212-aa29-b4edcd0dd09e",
   "metadata": {
    "editable": true,
    "slideshow": {
     "slide_type": ""
    },
    "tags": [
     "skip-execution"
    ]
   },
   "outputs": [
    {
     "data": {
      "text/plain": [
       "{'description': 'Example code for batching scenarios and combining results',\n",
       " 'object_type': 'notebook',\n",
       " 'url': 'https://chick.expectedparrot.com/content/e3de929a-cdf5-40b9-aedf-64022cc45fb5',\n",
       " 'uuid': 'e3de929a-cdf5-40b9-aedf-64022cc45fb5',\n",
       " 'version': '0.1.33',\n",
       " 'visibility': 'public'}"
      ]
     },
     "execution_count": 15,
     "metadata": {},
     "output_type": "execute_result"
    }
   ],
   "source": [
    "n.push(description = \"Example code for batching scenarios and combining results\", visibility = \"public\")"
   ]
  },
  {
   "cell_type": "markdown",
   "id": "93a61a7d-2670-487c-8291-e0a6d26de042",
   "metadata": {
    "editable": true,
    "slideshow": {
     "slide_type": ""
    },
    "tags": []
   },
   "source": [
    "To update an object at the Coop:"
   ]
  },
  {
   "cell_type": "code",
   "execution_count": 16,
   "id": "fa316440-6644-45f2-9b86-1df2cf7ca050",
   "metadata": {
    "editable": true,
    "slideshow": {
     "slide_type": ""
    },
    "tags": [
     "skip-execution"
    ]
   },
   "outputs": [],
   "source": [
    "n = Notebook(path = \"batching_results.ipynb\")"
   ]
  },
  {
   "cell_type": "code",
   "execution_count": 17,
   "id": "46afc700-a020-4374-b357-ef68140db3d6",
   "metadata": {
    "editable": true,
    "slideshow": {
     "slide_type": ""
    },
    "tags": [
     "skip-execution"
    ]
   },
   "outputs": [
    {
     "data": {
      "text/plain": [
       "{'status': 'success'}"
      ]
     },
     "execution_count": 17,
     "metadata": {},
     "output_type": "execute_result"
    }
   ],
   "source": [
    "n.patch(uuid = \"e3de929a-cdf5-40b9-aedf-64022cc45fb5\", value = n)"
   ]
  }
 ],
 "metadata": {
  "kernelspec": {
   "display_name": "Python 3 (ipykernel)",
   "language": "python",
   "name": "python3"
  },
  "language_info": {
   "codemirror_mode": {
    "name": "ipython",
    "version": 3
   },
   "file_extension": ".py",
   "mimetype": "text/x-python",
   "name": "python",
   "nbconvert_exporter": "python",
   "pygments_lexer": "ipython3",
   "version": "3.11.7"
  }
 },
 "nbformat": 4,
 "nbformat_minor": 5
}
