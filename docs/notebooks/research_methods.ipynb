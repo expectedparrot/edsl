{
 "cells": [
  {
   "cell_type": "markdown",
   "metadata": {
    "cell_id": "8d3a12ec47fb4b75b5fc8351d0da55cc",
    "deepnote_cell_type": "markdown",
    "editable": true,
    "slideshow": {
     "slide_type": ""
    },
    "tags": []
   },
   "source": [
    "# Cognitive testing & creating new methods\n",
    "This notebook shows some ways of using EDSL to conduct research, including data labeling, cognitive testing and creating new methods."
   ]
  },
  {
   "cell_type": "markdown",
   "metadata": {
    "cell_id": "c42102c4e43d4df193939499ede981fa",
    "deepnote_cell_type": "markdown",
    "editable": true,
    "slideshow": {
     "slide_type": ""
    },
    "tags": []
   },
   "source": [
    "## Cognitive testing\n",
    "In this example we use the tools to evaluate some draft survey questions and suggest improvements."
   ]
  },
  {
   "cell_type": "code",
   "execution_count": 1,
   "metadata": {
    "cell_id": "4ef542687e9147d592ef12257f2fef5b",
    "deepnote_cell_type": "code",
    "deepnote_to_be_reexecuted": false,
    "editable": true,
    "execution_millis": 241,
    "execution_start": 1709255968869,
    "slideshow": {
     "slide_type": ""
    },
    "source_hash": null,
    "tags": []
   },
   "outputs": [],
   "source": [
    "from edsl import QuestionFreeText, Agent, ScenarioList, Scenario, Model"
   ]
  },
  {
   "cell_type": "markdown",
   "metadata": {
    "cell_id": "4f5539d6a4084723b87a26dad9e737ea",
    "deepnote_cell_type": "markdown",
    "editable": true,
    "slideshow": {
     "slide_type": ""
    },
    "tags": []
   },
   "source": [
    "Create a relevant persona and assign it to an agent:"
   ]
  },
  {
   "cell_type": "code",
   "execution_count": 2,
   "metadata": {
    "cell_id": "63f1700826e64775bf5b22ea641f7f23",
    "deepnote_cell_type": "code",
    "deepnote_to_be_reexecuted": false,
    "editable": true,
    "execution_millis": 23,
    "execution_start": 1709255974214,
    "slideshow": {
     "slide_type": ""
    },
    "source_hash": null,
    "tags": []
   },
   "outputs": [],
   "source": [
    "a = Agent(traits = {\"background\": \"You are an expert in survey methodology and evaluating questionnaires.\"})"
   ]
  },
  {
   "cell_type": "markdown",
   "metadata": {
    "cell_id": "7c800923b0224f6b8ef081bc614f1f3c",
    "deepnote_cell_type": "markdown",
    "editable": true,
    "slideshow": {
     "slide_type": ""
    },
    "tags": []
   },
   "source": [
    "Identify a set of texts for review (these can also be imported):"
   ]
  },
  {
   "cell_type": "code",
   "execution_count": 3,
   "metadata": {
    "cell_id": "797649ed15674781a29ac2716890f890",
    "deepnote_cell_type": "code",
    "deepnote_to_be_reexecuted": false,
    "editable": true,
    "execution_millis": 110,
    "execution_start": 1709255976757,
    "slideshow": {
     "slide_type": ""
    },
    "source_hash": null,
    "tags": []
   },
   "outputs": [],
   "source": [
    "draft_texts = [\n",
    "    \"Do you feel the product is almost always of good quality?\",\n",
    "    \"On a scale of 1 to 5, where 1 means strongly agree and 5 means strongly disagree, how satisfied are you with our service?\",\n",
    "    \"Do you believe our IT team's collaborative synergy effectively optimizes our digital infrastructure?\",\n",
    "    \"What do you think of our recent implementation of Project X57?\",\n",
    "]"
   ]
  },
  {
   "cell_type": "markdown",
   "metadata": {
    "cell_id": "8df2503d9284419c861d33df5526c474",
    "deepnote_cell_type": "markdown",
    "editable": true,
    "slideshow": {
     "slide_type": ""
    },
    "tags": []
   },
   "source": [
    "Construct a question about the texts, which will be added as a parameter of the question individually:"
   ]
  },
  {
   "cell_type": "code",
   "execution_count": 4,
   "metadata": {
    "cell_id": "0804128d2581473b92936fea7618f3d0",
    "deepnote_cell_type": "code",
    "deepnote_to_be_reexecuted": false,
    "editable": true,
    "execution_millis": 90,
    "execution_start": 1709255979846,
    "slideshow": {
     "slide_type": ""
    },
    "source_hash": null,
    "tags": []
   },
   "outputs": [],
   "source": [
    "q = QuestionFreeText(\n",
    "    question_name = \"cognitive_review\",\n",
    "    question_text = \"\"\"Identify any cognitive issues in the following survey question\n",
    "    and then draft an improved version of it: {{ draft_text }}\"\"\",\n",
    ")"
   ]
  },
  {
   "cell_type": "markdown",
   "metadata": {
    "cell_id": "b1b17279959d4abe9255a9cb326e432c",
    "deepnote_cell_type": "markdown",
    "editable": true,
    "slideshow": {
     "slide_type": ""
    },
    "tags": []
   },
   "source": [
    "Create \"scenarios\" of the question with the texts as paraemeters:"
   ]
  },
  {
   "cell_type": "code",
   "execution_count": 5,
   "metadata": {
    "cell_id": "39746b95d16743d48e39b86280807aab",
    "deepnote_cell_type": "code",
    "deepnote_to_be_reexecuted": false,
    "editable": true,
    "execution_millis": 133,
    "execution_start": 1709255982576,
    "slideshow": {
     "slide_type": ""
    },
    "source_hash": null,
    "tags": []
   },
   "outputs": [],
   "source": [
    "s = ScenarioList.from_list(\"draft_text\", draft_texts)"
   ]
  },
  {
   "cell_type": "markdown",
   "metadata": {
    "cell_id": "9c1164c8a20c479a87cad7b1cb8443fa",
    "deepnote_cell_type": "markdown",
    "editable": true,
    "slideshow": {
     "slide_type": ""
    },
    "tags": []
   },
   "source": [
    "Check available language models:"
   ]
  },
  {
   "cell_type": "code",
   "execution_count": 6,
   "metadata": {
    "cell_id": "12b811cd5e454d499ed8234336f6d616",
    "deepnote_cell_type": "code",
    "deepnote_to_be_reexecuted": false,
    "editable": true,
    "execution_millis": 18,
    "execution_start": 1709255991411,
    "slideshow": {
     "slide_type": ""
    },
    "source_hash": null,
    "tags": []
   },
   "outputs": [],
   "source": [
    "# Model.available()"
   ]
  },
  {
   "cell_type": "markdown",
   "metadata": {
    "editable": true,
    "slideshow": {
     "slide_type": ""
    },
    "tags": []
   },
   "source": [
    "Select a language model (if no model is specified, the default model is used):"
   ]
  },
  {
   "cell_type": "code",
   "execution_count": 7,
   "metadata": {
    "cell_id": "c6c5207fa5de46ebb64d1da248e7ce7c",
    "deepnote_cell_type": "code",
    "deepnote_to_be_reexecuted": false,
    "editable": true,
    "execution_millis": 69,
    "execution_start": 1709256000175,
    "slideshow": {
     "slide_type": ""
    },
    "source_hash": null,
    "tags": []
   },
   "outputs": [],
   "source": [
    "m = Model(\"gpt-4o\")"
   ]
  },
  {
   "cell_type": "markdown",
   "metadata": {
    "editable": true,
    "slideshow": {
     "slide_type": ""
    },
    "tags": []
   },
   "source": [
    "Administer the survey:"
   ]
  },
  {
   "cell_type": "code",
   "execution_count": 8,
   "metadata": {
    "cell_id": "079d32f62e3c427f90a593c9a50c4921",
    "deepnote_cell_type": "code",
    "deepnote_to_be_reexecuted": false,
    "editable": true,
    "execution_millis": 10223,
    "execution_start": 1709256002493,
    "slideshow": {
     "slide_type": ""
    },
    "source_hash": null,
    "tags": []
   },
   "outputs": [],
   "source": [
    "results = q.by(s).by(a).by(m).run()"
   ]
  },
  {
   "cell_type": "markdown",
   "metadata": {
    "editable": true,
    "slideshow": {
     "slide_type": ""
    },
    "tags": []
   },
   "source": [
    "List the components of the results that are generated:"
   ]
  },
  {
   "cell_type": "code",
   "execution_count": 9,
   "metadata": {
    "cell_id": "3986b40662054e3ab3396fc2070888c5",
    "deepnote_cell_type": "code",
    "deepnote_to_be_reexecuted": false,
    "editable": true,
    "execution_millis": 548,
    "execution_start": 1709256035339,
    "slideshow": {
     "slide_type": ""
    },
    "source_hash": null,
    "tags": []
   },
   "outputs": [
    {
     "data": {
      "text/plain": [
       "['agent.agent_instruction',\n",
       " 'agent.agent_name',\n",
       " 'agent.background',\n",
       " 'answer.cognitive_review',\n",
       " 'comment.cognitive_review_comment',\n",
       " 'generated_tokens.cognitive_review_generated_tokens',\n",
       " 'iteration.iteration',\n",
       " 'model.frequency_penalty',\n",
       " 'model.logprobs',\n",
       " 'model.max_tokens',\n",
       " 'model.model',\n",
       " 'model.presence_penalty',\n",
       " 'model.temperature',\n",
       " 'model.top_logprobs',\n",
       " 'model.top_p',\n",
       " 'prompt.cognitive_review_system_prompt',\n",
       " 'prompt.cognitive_review_user_prompt',\n",
       " 'question_options.cognitive_review_question_options',\n",
       " 'question_text.cognitive_review_question_text',\n",
       " 'question_type.cognitive_review_question_type',\n",
       " 'raw_model_response.cognitive_review_cost',\n",
       " 'raw_model_response.cognitive_review_one_usd_buys',\n",
       " 'raw_model_response.cognitive_review_raw_model_response',\n",
       " 'scenario.draft_text']"
      ]
     },
     "execution_count": 9,
     "metadata": {},
     "output_type": "execute_result"
    }
   ],
   "source": [
    "results.columns"
   ]
  },
  {
   "cell_type": "markdown",
   "metadata": {
    "cell_id": "25d506fd9433468fb1124cc349674d9b",
    "deepnote_cell_type": "markdown",
    "editable": true,
    "slideshow": {
     "slide_type": ""
    },
    "tags": []
   },
   "source": [
    "Print select components of the results:"
   ]
  },
  {
   "cell_type": "code",
   "execution_count": 10,
   "metadata": {
    "cell_id": "8bdfd00fb07b4b05b39b6be6d1774751",
    "deepnote_cell_type": "code",
    "deepnote_to_be_reexecuted": false,
    "editable": true,
    "execution_millis": 404,
    "execution_start": 1709256059995,
    "slideshow": {
     "slide_type": ""
    },
    "source_hash": null,
    "tags": []
   },
   "outputs": [
    {
     "data": {
      "text/html": [
       "\n",
       "    <style>\n",
       "        table {\n",
       "            width: 100%;\n",
       "            border-collapse: collapse;\n",
       "        }\n",
       "        table, th, td {\n",
       "            border: 1px solid black;\n",
       "        }\n",
       "        th, td {\n",
       "            padding: 10px;\n",
       "            text-align: left;\n",
       "        }\n",
       "    </style>\n",
       "    <table id=\"myTable\" class=\"display\">\n",
       "  <thead>\n",
       "  <tr>\n",
       "    <th>Draft text</th>\n",
       "    <th>Evaluation</th>\n",
       "  </tr>\n",
       "  </thead>\n",
       "</tbody>\n",
       "  <tr>\n",
       "    <td>Do you feel the product is almost always of good quality?</td>\n",
       "    <td>The original question has a few cognitive issues that could affect the respondent's ability to provide accurate and reliable answers:\n",
       "\n",
       "1. **Ambiguity in Frequency**: The phrase \"almost always\" is subjective and can be interpreted differently by different respondents. It lacks specificity, leading to varied interpretations.\n",
       "\n",
       "2. **Vagueness in Quality**: The term \"good quality\" is also subjective. What constitutes \"good\" can vary widely among respondents depending on their standards and expectations.\n",
       "\n",
       "3. **Leading Question**: The question might lead respondents to focus on positive aspects, potentially biasing their response towards a more favorable assessment.\n",
       "\n",
       "To improve the question, we should aim for clarity, specificity, and neutrality. Here's a revised version:\n",
       "\n",
       "\"How would you rate the quality of the product you received most recently?\"</td>\n",
       "  </tr>\n",
       "  <tr>\n",
       "    <td>On a scale of 1 to 5, where 1 means strongly agree and 5 means strongly disagree, how satisfied are you with our service?</td>\n",
       "    <td>The original survey question has a few cognitive issues:\n",
       "\n",
       "1. **Scale Confusion**: The scale is labeled in a way that might confuse respondents because it mixes agreement with satisfaction. Typically, satisfaction is measured directly (e.g., very satisfied to very dissatisfied) rather than through agreement.\n",
       "\n",
       "2. **Reverse Scale**: The scale is reversed from the more common format where a lower number indicates a negative response and a higher number indicates a positive response. This can lead to confusion if respondents are used to the opposite format.\n",
       "\n",
       "3. **Ambiguity in Wording**: The question asks about satisfaction but uses a scale that implies agreement, which might confuse respondents about what exactly they are rating.\n",
       "\n",
       "Here is an improved version of the question:\n",
       "\n",
       "\"On a scale of 1 to 5, where 1 means very dissatisfied and 5 means very satisfied, how satisfied are you with our service?\"</td>\n",
       "  </tr>\n",
       "  <tr>\n",
       "    <td>Do you believe our IT team's collaborative synergy effectively optimizes our digital infrastructure?</td>\n",
       "    <td>The original survey question is complex and uses jargon that may not be easily understood by all respondents. Terms like \"collaborative synergy\" and \"optimizes our digital infrastructure\" can be vague and open to interpretation, leading to cognitive issues such as confusion and misinterpretation. Additionally, the question is double-barreled, meaning it asks about multiple concepts (collaborative synergy and optimization) at once, which can result in unclear responses.\n",
       "\n",
       "Here's an improved version of the question:\n",
       "\n",
       "\"How effective do you think our IT team is at working together to improve our digital systems?\"</td>\n",
       "  </tr>\n",
       "  <tr>\n",
       "    <td>What do you think of our recent implementation of Project X57?</td>\n",
       "    <td>The original survey question is quite broad and lacks specificity, which can lead to several cognitive issues for respondents:\n",
       "\n",
       "1. **Ambiguity**: The question doesn't specify what aspect of \"Project X57\" the respondent should consider (e.g., effectiveness, user experience, outcomes).\n",
       "2. **Vagueness**: The term \"recent implementation\" might be unclear to respondents, as they may not know the specific timeline or changes involved.\n",
       "3. **Open-ended Nature**: While open-ended questions can provide rich data, they can also be challenging for respondents to answer concisely and can lead to varied interpretations.\n",
       "\n",
       "An improved version of the question could be:\n",
       "\n",
       "\"How satisfied are you with the effectiveness of our recent implementation of Project X57 over the past three months?\"</td>\n",
       "  </tr>\n",
       "</tbody>\n",
       "</table>"
      ],
      "text/plain": [
       "<IPython.core.display.HTML object>"
      ]
     },
     "metadata": {},
     "output_type": "display_data"
    }
   ],
   "source": [
    "(\n",
    "    results.select(\"scenario.*\", \"answer.*\").print(\n",
    "        pretty_labels={\n",
    "            \"scenario.draft_text\": \"Draft text\",\n",
    "            \"answer.cognitive_review\": \"Evaluation\",\n",
    "        }\n",
    "    )\n",
    ")"
   ]
  },
  {
   "cell_type": "markdown",
   "metadata": {
    "cell_id": "33fcff38d9d14f959d23294a73fcef48",
    "deepnote_cell_type": "markdown",
    "editable": true,
    "slideshow": {
     "slide_type": ""
    },
    "tags": []
   },
   "source": [
    "## Qualitative reviews\n",
    "In this example we use a set of hypothetical customer service tickets and prompt a model to extract a set of themes that we could use in follow-on questions (e.g., as a set of options to multiple choice questions)."
   ]
  },
  {
   "cell_type": "code",
   "execution_count": 11,
   "metadata": {
    "cell_id": "b3a774c910d84625a4b11da0de00a647",
    "deepnote_cell_type": "code",
    "deepnote_to_be_reexecuted": false,
    "editable": true,
    "execution_millis": 61,
    "execution_start": 1709256071211,
    "slideshow": {
     "slide_type": ""
    },
    "source_hash": null,
    "tags": []
   },
   "outputs": [],
   "source": [
    "from edsl import QuestionList"
   ]
  },
  {
   "cell_type": "code",
   "execution_count": 12,
   "metadata": {
    "cell_id": "f15821f15aff40fca1478ac54eebe644",
    "deepnote_cell_type": "code",
    "deepnote_to_be_reexecuted": false,
    "editable": true,
    "execution_millis": 41,
    "execution_start": 1709256072751,
    "slideshow": {
     "slide_type": ""
    },
    "source_hash": null,
    "tags": []
   },
   "outputs": [],
   "source": [
    "tickets = [\n",
    "    \"I waited for 20 minutes past the estimated arrival time, and the driver still hasn't arrived. This made me late for my appointment.\",\n",
    "    \"The driver was very rude and had an unpleasant attitude during the entire ride. It was an uncomfortable experience.\",\n",
    "    \"The driver was speeding and frequently changing lanes without signaling. I felt unsafe throughout the ride.\",\n",
    "    \"The car I rode in was dirty and messy. There were crumbs on the seats, and it didn't look like it had been cleaned in a while.\",\n",
    "    \"The driver took a longer route, which resulted in a significantly higher fare than expected. I believe they intentionally extended the trip.\",\n",
    "    \"I was charged for a ride that I did not take. The ride appears on my account, but I was not in the vehicle at that time.\",\n",
    "    \"I left my wallet in the car during my last ride. I've tried contacting the driver, but I haven't received a response.\",\n",
    "]"
   ]
  },
  {
   "cell_type": "markdown",
   "metadata": {
    "editable": true,
    "slideshow": {
     "slide_type": ""
    },
    "tags": []
   },
   "source": [
    "Create an agent with a relevant persona:"
   ]
  },
  {
   "cell_type": "code",
   "execution_count": 13,
   "metadata": {
    "cell_id": "efbba29abc164ea3ba349699009a0017",
    "deepnote_cell_type": "code",
    "deepnote_to_be_reexecuted": false,
    "editable": true,
    "execution_millis": 104,
    "execution_start": 1709256074720,
    "slideshow": {
     "slide_type": ""
    },
    "source_hash": null,
    "tags": []
   },
   "outputs": [],
   "source": [
    "a_customer_service = Agent(\n",
    "    traits = {\n",
    "        \"background\": \"You are an experienced customer service agent for a ridesharing company.\"\n",
    "    }\n",
    ")"
   ]
  },
  {
   "cell_type": "markdown",
   "metadata": {
    "editable": true,
    "slideshow": {
     "slide_type": ""
    },
    "tags": []
   },
   "source": [
    "Create a question about the texts:"
   ]
  },
  {
   "cell_type": "code",
   "execution_count": 14,
   "metadata": {
    "cell_id": "148a0d908a654bf6b9e7347f67ce7995",
    "deepnote_cell_type": "code",
    "deepnote_to_be_reexecuted": false,
    "editable": true,
    "execution_millis": 162,
    "execution_start": 1709256076156,
    "slideshow": {
     "slide_type": ""
    },
    "source_hash": null,
    "tags": []
   },
   "outputs": [],
   "source": [
    "q_topics = QuestionList(\n",
    "    question_name = \"ticket_topics\",\n",
    "    question_text = \"Create a list of the topics raised in these customer service tickets: {{ tickets_texts }}.\",\n",
    ")"
   ]
  },
  {
   "cell_type": "markdown",
   "metadata": {
    "editable": true,
    "slideshow": {
     "slide_type": ""
    },
    "tags": []
   },
   "source": [
    "Add the texts to the question:"
   ]
  },
  {
   "cell_type": "code",
   "execution_count": 15,
   "metadata": {
    "cell_id": "7ffb93a3a2f444bc9c2781a9c6f88156",
    "deepnote_cell_type": "code",
    "deepnote_to_be_reexecuted": false,
    "editable": true,
    "execution_millis": 95,
    "execution_start": 1709256079048,
    "slideshow": {
     "slide_type": ""
    },
    "source_hash": null,
    "tags": []
   },
   "outputs": [],
   "source": [
    "s = Scenario({\"tickets_texts\": tickets})"
   ]
  },
  {
   "cell_type": "markdown",
   "metadata": {
    "editable": true,
    "slideshow": {
     "slide_type": ""
    },
    "tags": []
   },
   "source": [
    "Generate results:"
   ]
  },
  {
   "cell_type": "code",
   "execution_count": 16,
   "metadata": {
    "cell_id": "68ebd83c67674752a9853082a8dbda99",
    "deepnote_cell_type": "code",
    "deepnote_to_be_reexecuted": false,
    "editable": true,
    "execution_millis": 5957,
    "execution_start": 1709256080633,
    "slideshow": {
     "slide_type": ""
    },
    "source_hash": null,
    "tags": []
   },
   "outputs": [],
   "source": [
    "topics = q_topics.by(s).by(a_customer_service).by(m).run()"
   ]
  },
  {
   "cell_type": "markdown",
   "metadata": {
    "editable": true,
    "slideshow": {
     "slide_type": ""
    },
    "tags": []
   },
   "source": [
    "Inspect the results:"
   ]
  },
  {
   "cell_type": "code",
   "execution_count": 17,
   "metadata": {
    "cell_id": "80816b1f01864ec5990f0c7b85943c02",
    "deepnote_cell_type": "code",
    "deepnote_to_be_reexecuted": false,
    "editable": true,
    "execution_millis": 107,
    "execution_start": 1709256086595,
    "slideshow": {
     "slide_type": ""
    },
    "source_hash": null,
    "tags": []
   },
   "outputs": [
    {
     "data": {
      "text/plain": [
       "['Delayed arrival',\n",
       " 'Rude driver',\n",
       " 'Unsafe driving',\n",
       " 'Dirty vehicle',\n",
       " 'Longer route taken',\n",
       " 'Incorrect charge',\n",
       " 'Lost item']"
      ]
     },
     "execution_count": 17,
     "metadata": {},
     "output_type": "execute_result"
    }
   ],
   "source": [
    "topics.select(\"ticket_topics\").to_list()[0]"
   ]
  },
  {
   "cell_type": "markdown",
   "metadata": {
    "cell_id": "49864c94106d4859833e86c5273c4ed9",
    "deepnote_cell_type": "markdown",
    "editable": true,
    "slideshow": {
     "slide_type": ""
    },
    "tags": []
   },
   "source": [
    "## Data labeling\n",
    "In this example we prompt an LLM to rating the seriousness of tickets about safety issues.\n",
    "\n",
    "See this notebook as well for a more complex data labeling exercise: <a href=\"https://deepnote.com/workspace/expected-parrot-c2fa2435-01e3-451d-ba12-9c36b3b87ad9/project/Expected-Parrot-examples-b457490b-fc5d-45e1-82a5-a66e1738a4b9/notebook/Data%20Labeling%20Agents-ed823c7d26d6410cb357d0b81ff95d80\">Data Labeling Agents</a>."
   ]
  },
  {
   "cell_type": "code",
   "execution_count": 18,
   "metadata": {
    "cell_id": "bfd0c44c909e48ec9601d4895cfab1d3",
    "deepnote_cell_type": "code",
    "deepnote_to_be_reexecuted": false,
    "editable": true,
    "execution_millis": 130,
    "execution_start": 1709256114849,
    "slideshow": {
     "slide_type": ""
    },
    "source_hash": null,
    "tags": []
   },
   "outputs": [],
   "source": [
    "from edsl import QuestionLinearScale"
   ]
  },
  {
   "cell_type": "code",
   "execution_count": 19,
   "metadata": {
    "cell_id": "89dff3f166c54628baac1ec5a2c28428",
    "deepnote_cell_type": "code",
    "deepnote_to_be_reexecuted": false,
    "editable": true,
    "execution_millis": 54,
    "execution_start": 1709256116102,
    "slideshow": {
     "slide_type": ""
    },
    "source_hash": null,
    "tags": []
   },
   "outputs": [],
   "source": [
    "safety_tickets = [\n",
    "    \"During my ride, I noticed that the driver was frequently checking their phone for directions, which made me a bit uncomfortable. It didn't feel like they were fully focused on the road.\",\n",
    "    \"The driver had to brake abruptly to avoid a collision with another vehicle. It was a close call, and it left me feeling quite shaken. Please address this issue.\",\n",
    "    \"I had a ride with a driver who was clearly speeding and weaving in and out of traffic. Their reckless driving put my safety at risk, and I'm very concerned about it.\",\n",
    "    \"My ride was involved in a minor accident, and although no one was seriously injured, it was a scary experience. The driver is handling the situation, but I wanted to report it.\",\n",
    "    \"I had a ride with a driver who exhibited aggressive and threatening behavior towards me during the trip. I felt genuinely unsafe and want this matter to be taken seriously.\",\n",
    "]"
   ]
  },
  {
   "cell_type": "code",
   "execution_count": 20,
   "metadata": {
    "cell_id": "de3e872a118b43718713e6d600485ee9",
    "deepnote_cell_type": "code",
    "deepnote_to_be_reexecuted": false,
    "editable": true,
    "execution_millis": 42,
    "execution_start": 1709256118136,
    "slideshow": {
     "slide_type": ""
    },
    "source_hash": null,
    "tags": []
   },
   "outputs": [],
   "source": [
    "q_rating = QuestionLinearScale(\n",
    "    question_name = \"safety_rating\",\n",
    "    question_text = \"\"\"Rate the seriousness of the issue raised in the following customer service ticket\n",
    "    on a scale from 1 to 10: {{ ticket }}\"\"\",\n",
    "    question_options = [1, 2, 3, 4, 5, 6, 7, 8, 9, 10],\n",
    "    option_labels = {1:\"Not at all serious\", 10:\"Very serious\"}\n",
    ")"
   ]
  },
  {
   "cell_type": "code",
   "execution_count": 21,
   "metadata": {
    "cell_id": "db9aefc45979428890512d4566779a92",
    "deepnote_cell_type": "code",
    "deepnote_to_be_reexecuted": false,
    "editable": true,
    "execution_millis": 97,
    "execution_start": 1709256119940,
    "slideshow": {
     "slide_type": ""
    },
    "source_hash": null,
    "tags": []
   },
   "outputs": [],
   "source": [
    "s = ScenarioList.from_list(\"ticket\", safety_tickets)"
   ]
  },
  {
   "cell_type": "code",
   "execution_count": 22,
   "metadata": {
    "cell_id": "415c1a347a734475a1f996ef667f7b96",
    "deepnote_cell_type": "code",
    "deepnote_to_be_reexecuted": false,
    "editable": true,
    "execution_millis": 7709,
    "execution_start": 1709256121635,
    "slideshow": {
     "slide_type": ""
    },
    "source_hash": null,
    "tags": []
   },
   "outputs": [],
   "source": [
    "r_rating = q_rating.by(s).by(a_customer_service).by(m).run()"
   ]
  },
  {
   "cell_type": "code",
   "execution_count": 23,
   "metadata": {
    "cell_id": "4d6ee841c57747a4984f64787c5f1822",
    "deepnote_cell_type": "code",
    "deepnote_to_be_reexecuted": false,
    "editable": true,
    "execution_millis": 200,
    "execution_start": 1709256129358,
    "slideshow": {
     "slide_type": ""
    },
    "source_hash": null,
    "tags": []
   },
   "outputs": [
    {
     "data": {
      "text/html": [
       "\n",
       "    <style>\n",
       "        table {\n",
       "            width: 100%;\n",
       "            border-collapse: collapse;\n",
       "        }\n",
       "        table, th, td {\n",
       "            border: 1px solid black;\n",
       "        }\n",
       "        th, td {\n",
       "            padding: 10px;\n",
       "            text-align: left;\n",
       "        }\n",
       "    </style>\n",
       "    <table id=\"myTable\" class=\"display\">\n",
       "  <thead>\n",
       "  <tr>\n",
       "    <th>scenario.ticket</th>\n",
       "    <th>answer.safety_rating</th>\n",
       "  </tr>\n",
       "  </thead>\n",
       "</tbody>\n",
       "  <tr>\n",
       "    <td>I had a ride with a driver who was clearly speeding and weaving in and out of traffic. Their reckless driving put my safety at risk, and I'm very concerned about it.</td>\n",
       "    <td>10</td>\n",
       "  </tr>\n",
       "  <tr>\n",
       "    <td>I had a ride with a driver who exhibited aggressive and threatening behavior towards me during the trip. I felt genuinely unsafe and want this matter to be taken seriously.</td>\n",
       "    <td>10</td>\n",
       "  </tr>\n",
       "  <tr>\n",
       "    <td>My ride was involved in a minor accident, and although no one was seriously injured, it was a scary experience. The driver is handling the situation, but I wanted to report it.</td>\n",
       "    <td>7</td>\n",
       "  </tr>\n",
       "  <tr>\n",
       "    <td>During my ride, I noticed that the driver was frequently checking their phone for directions, which made me a bit uncomfortable. It didn't feel like they were fully focused on the road.</td>\n",
       "    <td>7</td>\n",
       "  </tr>\n",
       "  <tr>\n",
       "    <td>The driver had to brake abruptly to avoid a collision with another vehicle. It was a close call, and it left me feeling quite shaken. Please address this issue.</td>\n",
       "    <td>8</td>\n",
       "  </tr>\n",
       "</tbody>\n",
       "</table>"
      ],
      "text/plain": [
       "<IPython.core.display.HTML object>"
      ]
     },
     "metadata": {},
     "output_type": "display_data"
    }
   ],
   "source": [
    "r_rating.select(\"scenario.*\", \"answer.*\").print()"
   ]
  },
  {
   "cell_type": "markdown",
   "metadata": {
    "cell_id": "a1de032fb5304edaa79afcca384a7d83",
    "deepnote_cell_type": "markdown",
    "editable": true,
    "slideshow": {
     "slide_type": ""
    },
    "tags": []
   },
   "source": [
    "## Creating new methods\n",
    "We can use the question prompts to create new methods, such as a translator:"
   ]
  },
  {
   "cell_type": "code",
   "execution_count": 24,
   "metadata": {
    "cell_id": "d9c41b771dda4880b921f759b342fbdd",
    "deepnote_cell_type": "code",
    "deepnote_to_be_reexecuted": false,
    "editable": true,
    "execution_millis": 111,
    "execution_start": 1709256140288,
    "slideshow": {
     "slide_type": ""
    },
    "source_hash": null,
    "tags": []
   },
   "outputs": [],
   "source": [
    "def translate_to_german(text):\n",
    "    q = QuestionFreeText(\n",
    "        question_name=\"deutsch\",\n",
    "        question_text=\"Please translate '{{ text }}' into German\",\n",
    "    )\n",
    "    result = q.by(Scenario({\"text\": text})).run()\n",
    "    return result.select(\"deutsch\").print()"
   ]
  },
  {
   "cell_type": "code",
   "execution_count": 25,
   "metadata": {
    "cell_id": "f53af9c537ab4dcabb71ea7db6ce0062",
    "deepnote_cell_type": "code",
    "deepnote_to_be_reexecuted": false,
    "editable": true,
    "execution_millis": 2238,
    "execution_start": 1709256142875,
    "slideshow": {
     "slide_type": ""
    },
    "source_hash": null,
    "tags": []
   },
   "outputs": [
    {
     "data": {
      "text/html": [
       "\n",
       "    <style>\n",
       "        table {\n",
       "            width: 100%;\n",
       "            border-collapse: collapse;\n",
       "        }\n",
       "        table, th, td {\n",
       "            border: 1px solid black;\n",
       "        }\n",
       "        th, td {\n",
       "            padding: 10px;\n",
       "            text-align: left;\n",
       "        }\n",
       "    </style>\n",
       "    <table id=\"myTable\" class=\"display\">\n",
       "  <thead>\n",
       "  <tr>\n",
       "    <th>answer.deutsch</th>\n",
       "  </tr>\n",
       "  </thead>\n",
       "</tbody>\n",
       "  <tr>\n",
       "    <td>The translation of \"Hello, friend, have you been traveling?\" into German is \"Hallo, Freund, bist du gereist?\"</td>\n",
       "  </tr>\n",
       "</tbody>\n",
       "</table>"
      ],
      "text/plain": [
       "<IPython.core.display.HTML object>"
      ]
     },
     "metadata": {},
     "output_type": "display_data"
    }
   ],
   "source": [
    "translate_to_german(\"Hello, friend, have you been traveling?\")"
   ]
  }
 ],
 "metadata": {
  "deepnote_execution_queue": [],
  "deepnote_notebook_id": "38963c933f704e83be11c08115641953",
  "deepnote_persisted_session": {
   "createdAt": "2024-03-01T02:04:44.197Z"
  },
  "kernelspec": {
   "display_name": "Python 3 (ipykernel)",
   "language": "python",
   "name": "python3"
  },
  "language_info": {
   "codemirror_mode": {
    "name": "ipython",
    "version": 3
   },
   "file_extension": ".py",
   "mimetype": "text/x-python",
   "name": "python",
   "nbconvert_exporter": "python",
   "pygments_lexer": "ipython3",
   "version": "3.11.7"
  }
 },
 "nbformat": 4,
 "nbformat_minor": 4
}
