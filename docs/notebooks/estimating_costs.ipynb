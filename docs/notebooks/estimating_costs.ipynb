{
 "cells": [
  {
   "cell_type": "markdown",
   "id": "6c36859c-d3db-4f06-9c5d-e5a00fbea01e",
   "metadata": {
    "editable": true,
    "slideshow": {
     "slide_type": ""
    },
    "tags": []
   },
   "source": [
    "# Estimating costs\n",
    "\n",
    "Before running a survey, you can estimate the cost of running it (in USD and credits) in 2 different ways:\n",
    "\n",
    "* Call the `estimate_job_cost()` method on the `Job` object (a survey combined with one or more models). This will return the total estimated cost in USD, the total estimated input and output tokens, and estimated costs and tokens for each inference service and model used. \n",
    "\n",
    "* Call the `remote_inference_cost()` method on a `Coop` client object and pass it the job. This will return the estimated cost in credits and USD. (Credits are required to run surveys remotely. Learn more about using credits in the [Credits](https://docs.expectedparrot.com/en/latest/credits.html) section of the docs.)\n",
    "\n",
    "## Calculations\n",
    "\n",
    "The above-mentioned methods use the following calculation for each question in a survey to estimate the total cost of the job:\n",
    "\n",
    "1. Estimate the input tokens.\n",
    "    * Compute the number of characters in the `user_prompt` and `system_prompt`, with any `Agent` and `Scenario` data piped in. (*Note:* Previous answers cannot be piped in because they are not available until the survey is run; they are left as Jinja-bracketed variables in the prompts for purposes of estimating tokens and costs.)\n",
    "    * Apply a piping multiplier of 2 to the number of characters in the user prompt if it has an answer piped in from a previous question (i.e., if the question has Jinja braces). Otherwise, apply a multiplier of 1.\n",
    "    * Convert the number of characters into the number of input tokens using a conversion factor of 4 characters per token, rounding down to the nearest whole number. (This approximation was [established by OpenAI](https://help.openai.com/en/articles/4936856-what-are-tokens-and-how-to-count-them).)\n",
    "2. Estimate the output tokens.\n",
    "    * Apply a multiplier of 0.75 to the number of input tokens, rounding up to the nearest whole number.\n",
    "3. Apply the token rates for the model and inference service.\n",
    "    * Find the model and inference service for the question in the [Pricing](https://www.expectedparrot.com/getting-started/coop-pricing) page:\n",
    "        *Total cost = (input tokens * input token rate) + (output tokens * output token rate)*\n",
    "    * If the model is not found, a default price for the inference service provider is used. If both the model and the inference service provider are not found, the following fallback token rates are applied (you will also see a warning message that a model price was not found):\n",
    "        * USD 1.00 per 1M input tokens\n",
    "        * USD 1.00 per 1M ouput tokens\n",
    "\n",
    "4. Convert the total cost in USD to credits.\n",
    "    * Total cost in credits = total cost in USD * 100, rounded up to the nearest 1/100th credit.\n",
    "\n",
    "Then sum the costs for all question prompts to get the total cost of the job.\n",
    "\n",
    "## Example\n",
    "\n",
    "Here we create an example survey and agent, select a model and combine them to create a job.\n",
    "Then we call the above-mentioned methods for estimating costs and show the underlying calculations.\n",
    "For more details, please see the [Credits](https://docs.expectedparrot.com/en/latest/credits.html) section of the docs."
   ]
  },
  {
   "cell_type": "code",
   "execution_count": 1,
   "id": "04df63b5-e0b6-4e67-8b73-46ad45960274",
   "metadata": {
    "editable": true,
    "slideshow": {
     "slide_type": ""
    },
    "tags": []
   },
   "outputs": [],
   "source": [
    "from edsl import QuestionFreeText, Survey, Agent, Model, Coop\n",
    "from math import ceil"
   ]
  },
  {
   "cell_type": "code",
   "execution_count": 2,
   "id": "5a2557a5-35c0-4ac1-9baa-bd6a0684620b",
   "metadata": {
    "editable": true,
    "slideshow": {
     "slide_type": ""
    },
    "tags": []
   },
   "outputs": [],
   "source": [
    "q0 = QuestionFreeText(\n",
    "    question_name = \"favorite_flower\",\n",
    "    question_text = \"What is the name of your favorite flower?\"\n",
    ")\n",
    "q1 = QuestionFreeText(\n",
    "    question_name = \"flower_color\",\n",
    "    question_text = \"What color is {{ favorite_flower.answer }}?\"\n",
    ")\n",
    "\n",
    "survey = Survey(questions = [q0, q1])"
   ]
  },
  {
   "cell_type": "code",
   "execution_count": 3,
   "id": "8c625668-30e6-47e8-a269-223c9f0349ab",
   "metadata": {
    "editable": true,
    "slideshow": {
     "slide_type": ""
    },
    "tags": []
   },
   "outputs": [],
   "source": [
    "a = Agent(traits = {\"persona\":\"You are a botanist on Cape Cod.\"})"
   ]
  },
  {
   "cell_type": "code",
   "execution_count": 4,
   "id": "2dcef80e-8c55-4c0a-850d-ce7f702a3461",
   "metadata": {
    "editable": true,
    "slideshow": {
     "slide_type": ""
    },
    "tags": []
   },
   "outputs": [],
   "source": [
    "m = Model(\"gpt-4o\")"
   ]
  },
  {
   "cell_type": "code",
   "execution_count": 5,
   "id": "f3ae65b4-cc19-4489-927b-b2f452c23c08",
   "metadata": {
    "editable": true,
    "slideshow": {
     "slide_type": ""
    },
    "tags": []
   },
   "outputs": [],
   "source": [
    "job = survey.by(a).by(m)"
   ]
  },
  {
   "cell_type": "code",
   "execution_count": 6,
   "id": "db052bba-27ab-413d-993e-f0752336cad4",
   "metadata": {
    "editable": true,
    "slideshow": {
     "slide_type": ""
    },
    "tags": []
   },
   "outputs": [
    {
     "data": {
      "text/plain": [
       "{'estimated_total_cost_usd': 0.0008775000000000001,\n",
       " 'estimated_total_input_tokens': 87,\n",
       " 'estimated_total_output_tokens': 66,\n",
       " 'detailed_costs': [{'inference_service': 'openai',\n",
       "   'model': 'gpt-4o',\n",
       "   'token_type': 'input',\n",
       "   'price_per_million_tokens': 2.5,\n",
       "   'tokens': 87,\n",
       "   'cost_usd': 0.00021750000000000003},\n",
       "  {'inference_service': 'openai',\n",
       "   'model': 'gpt-4o',\n",
       "   'token_type': 'output',\n",
       "   'price_per_million_tokens': 10.0,\n",
       "   'tokens': 66,\n",
       "   'cost_usd': 0.0006600000000000001}]}"
      ]
     },
     "execution_count": 6,
     "metadata": {},
     "output_type": "execute_result"
    }
   ],
   "source": [
    "job.estimate_job_cost()"
   ]
  },
  {
   "cell_type": "code",
   "execution_count": 7,
   "id": "bfa6eae0-9727-45f5-9d70-485964e8de02",
   "metadata": {
    "editable": true,
    "slideshow": {
     "slide_type": ""
    },
    "tags": []
   },
   "outputs": [],
   "source": [
    "c = Coop()"
   ]
  },
  {
   "cell_type": "code",
   "execution_count": 8,
   "id": "e36fb6d0-1892-45f2-b7a3-4cc0ad9ce88b",
   "metadata": {
    "editable": true,
    "slideshow": {
     "slide_type": ""
    },
    "tags": []
   },
   "outputs": [
    {
     "data": {
      "text/plain": [
       "{'credits': 0.09, 'usd': 0.0008775000000000001}"
      ]
     },
     "execution_count": 8,
     "metadata": {},
     "output_type": "execute_result"
    }
   ],
   "source": [
    "c.remote_inference_cost(job)"
   ]
  },
  {
   "cell_type": "code",
   "execution_count": 9,
   "id": "55f55486-456d-4491-847c-078a7bf6e026",
   "metadata": {
    "editable": true,
    "slideshow": {
     "slide_type": ""
    },
    "tags": []
   },
   "outputs": [
    {
     "data": {
      "text/html": [
       "\n",
       "            <div style=\"max-height: 500px; overflow-y: auto;\">\n",
       "                <style type=\"text/css\">\n",
       "#T_2e67f_row0_col0, #T_2e67f_row0_col1, #T_2e67f_row0_col3, #T_2e67f_row0_col6, #T_2e67f_row0_col8, #T_2e67f_row1_col0, #T_2e67f_row1_col1, #T_2e67f_row1_col3, #T_2e67f_row1_col6, #T_2e67f_row1_col8 {\n",
       "  text-align: left;\n",
       "  white-space: pre-wrap;\n",
       "  max-width: 300px;\n",
       "  word-wrap: break-word;\n",
       "}\n",
       "#T_2e67f_row0_col2, #T_2e67f_row0_col4, #T_2e67f_row0_col5, #T_2e67f_row0_col7, #T_2e67f_row1_col2, #T_2e67f_row1_col4, #T_2e67f_row1_col5 {\n",
       "  text-align: left;\n",
       "  white-space: pre-wrap;\n",
       "  max-width: 300px;\n",
       "  word-wrap: break-word;\n",
       "  background-color: #fff7fb;\n",
       "  color: #000000;\n",
       "}\n",
       "#T_2e67f_row1_col7 {\n",
       "  text-align: left;\n",
       "  white-space: pre-wrap;\n",
       "  max-width: 300px;\n",
       "  word-wrap: break-word;\n",
       "  background-color: #023858;\n",
       "  color: #f1f1f1;\n",
       "}\n",
       "</style>\n",
       "<table id=\"T_2e67f\">\n",
       "  <thead>\n",
       "    <tr>\n",
       "      <th class=\"blank level0\" >&nbsp;</th>\n",
       "      <th id=\"T_2e67f_level0_col0\" class=\"col_heading level0 col0\" >user_prompt</th>\n",
       "      <th id=\"T_2e67f_level0_col1\" class=\"col_heading level0 col1\" >system_prompt</th>\n",
       "      <th id=\"T_2e67f_level0_col2\" class=\"col_heading level0 col2\" >interview_index</th>\n",
       "      <th id=\"T_2e67f_level0_col3\" class=\"col_heading level0 col3\" >question_name</th>\n",
       "      <th id=\"T_2e67f_level0_col4\" class=\"col_heading level0 col4\" >scenario_index</th>\n",
       "      <th id=\"T_2e67f_level0_col5\" class=\"col_heading level0 col5\" >agent_index</th>\n",
       "      <th id=\"T_2e67f_level0_col6\" class=\"col_heading level0 col6\" >model</th>\n",
       "      <th id=\"T_2e67f_level0_col7\" class=\"col_heading level0 col7\" >estimated_cost</th>\n",
       "      <th id=\"T_2e67f_level0_col8\" class=\"col_heading level0 col8\" >cache_keys</th>\n",
       "    </tr>\n",
       "  </thead>\n",
       "  <tbody>\n",
       "    <tr>\n",
       "      <th id=\"T_2e67f_level0_row0\" class=\"row_heading level0 row0\" >0</th>\n",
       "      <td id=\"T_2e67f_row0_col0\" class=\"data row0 col0\" >What is the name of your favorite flower?</td>\n",
       "      <td id=\"T_2e67f_row0_col1\" class=\"data row0 col1\" >You are answering questions as if you were a human. Do not break character.Your traits: {'persona': 'You are a botanist on Cape Cod.'}</td>\n",
       "      <td id=\"T_2e67f_row0_col2\" class=\"data row0 col2\" >0</td>\n",
       "      <td id=\"T_2e67f_row0_col3\" class=\"data row0 col3\" >favorite_flower</td>\n",
       "      <td id=\"T_2e67f_row0_col4\" class=\"data row0 col4\" >0</td>\n",
       "      <td id=\"T_2e67f_row0_col5\" class=\"data row0 col5\" >0</td>\n",
       "      <td id=\"T_2e67f_row0_col6\" class=\"data row0 col6\" >gpt-4o</td>\n",
       "      <td id=\"T_2e67f_row0_col7\" class=\"data row0 col7\" >0.000438</td>\n",
       "      <td id=\"T_2e67f_row0_col8\" class=\"data row0 col8\" >['2c5868d1cffbd9b0c2c31cfe8f05b75b']</td>\n",
       "    </tr>\n",
       "    <tr>\n",
       "      <th id=\"T_2e67f_level0_row1\" class=\"row_heading level0 row1\" >1</th>\n",
       "      <td id=\"T_2e67f_row1_col0\" class=\"data row1 col0\" >What color is <<PlaceholderAnswer:answer>>?</td>\n",
       "      <td id=\"T_2e67f_row1_col1\" class=\"data row1 col1\" >You are answering questions as if you were a human. Do not break character.Your traits: {'persona': 'You are a botanist on Cape Cod.'}</td>\n",
       "      <td id=\"T_2e67f_row1_col2\" class=\"data row1 col2\" >0</td>\n",
       "      <td id=\"T_2e67f_row1_col3\" class=\"data row1 col3\" >flower_color</td>\n",
       "      <td id=\"T_2e67f_row1_col4\" class=\"data row1 col4\" >0</td>\n",
       "      <td id=\"T_2e67f_row1_col5\" class=\"data row1 col5\" >0</td>\n",
       "      <td id=\"T_2e67f_row1_col6\" class=\"data row1 col6\" >gpt-4o</td>\n",
       "      <td id=\"T_2e67f_row1_col7\" class=\"data row1 col7\" >0.000440</td>\n",
       "      <td id=\"T_2e67f_row1_col8\" class=\"data row1 col8\" >['25a1f3576a97e3d6aa304d2b152e207a']</td>\n",
       "    </tr>\n",
       "  </tbody>\n",
       "</table>\n",
       "\n",
       "            </div>\n",
       "            "
      ],
      "text/plain": [
       "user_prompt                                  system_prompt\n",
       "-------------------------------------------  --------------------------------------------------------------------------------------------------------------------------------------\n",
       "What is the name of your favorite flower?    You are answering questions as if you were a human. Do not break character.Your traits: {'persona': 'You are a botanist on Cape Cod.'}\n",
       "What color is <<PlaceholderAnswer:answer>>?  You are answering questions as if you were a human. Do not break character.Your traits: {'persona': 'You are a botanist on Cape Cod.'}"
      ]
     },
     "execution_count": 9,
     "metadata": {},
     "output_type": "execute_result"
    }
   ],
   "source": [
    "job.show_prompts()"
   ]
  },
  {
   "cell_type": "markdown",
   "id": "5ccc637f-0787-463e-b2c7-a8666837b01d",
   "metadata": {
    "editable": true,
    "slideshow": {
     "slide_type": ""
    },
    "tags": []
   },
   "source": [
    "Count the characters in each user prompt and system prompt:"
   ]
  },
  {
   "cell_type": "code",
   "execution_count": 10,
   "id": "dfe0058a-8174-488a-9885-456bb1e87577",
   "metadata": {
    "editable": true,
    "slideshow": {
     "slide_type": ""
    },
    "tags": []
   },
   "outputs": [
    {
     "data": {
      "text/plain": [
       "41"
      ]
     },
     "execution_count": 10,
     "metadata": {},
     "output_type": "execute_result"
    }
   ],
   "source": [
    "q0_user_prompt_characters = len(\"What is the name of your favorite flower?\")\n",
    "q0_user_prompt_characters"
   ]
  },
  {
   "cell_type": "code",
   "execution_count": 11,
   "id": "7f24c2b1-d836-4804-aa7a-0e105d4a831d",
   "metadata": {
    "editable": true,
    "slideshow": {
     "slide_type": ""
    },
    "tags": []
   },
   "outputs": [
    {
     "data": {
      "text/plain": [
       "135"
      ]
     },
     "execution_count": 11,
     "metadata": {},
     "output_type": "execute_result"
    }
   ],
   "source": [
    "q0_system_prompt_characters = len(\"You are answering questions as if you were a human. Do not break character. Your traits: {'persona': 'You are a botanist on Cape Cod.'}\")\n",
    "q0_system_prompt_characters"
   ]
  },
  {
   "cell_type": "markdown",
   "id": "1228250b-309c-49c8-b27a-504956b2a76c",
   "metadata": {
    "editable": true,
    "slideshow": {
     "slide_type": ""
    },
    "tags": []
   },
   "source": [
    "Apply the piping multiplier to tbe q1 user prompt:"
   ]
  },
  {
   "cell_type": "code",
   "execution_count": 12,
   "id": "4733b7b3-b6b3-41ff-869b-9cc889981e2b",
   "metadata": {
    "editable": true,
    "slideshow": {
     "slide_type": ""
    },
    "tags": []
   },
   "outputs": [
    {
     "data": {
      "text/plain": [
       "54"
      ]
     },
     "execution_count": 12,
     "metadata": {},
     "output_type": "execute_result"
    }
   ],
   "source": [
    "q1_user_prompt_characters = len(\"What color is {{ answer }}?\") * 2\n",
    "q1_user_prompt_characters"
   ]
  },
  {
   "cell_type": "markdown",
   "id": "30f8541d-f088-49e4-8e99-16e46ac5d6a8",
   "metadata": {
    "editable": true,
    "slideshow": {
     "slide_type": ""
    },
    "tags": []
   },
   "source": [
    "The system prompt characters are identical for the single agent:"
   ]
  },
  {
   "cell_type": "code",
   "execution_count": 13,
   "id": "0fe14a7b-b794-4d6e-bdaa-243b91b31afa",
   "metadata": {
    "editable": true,
    "slideshow": {
     "slide_type": ""
    },
    "tags": []
   },
   "outputs": [
    {
     "data": {
      "text/plain": [
       "135"
      ]
     },
     "execution_count": 13,
     "metadata": {},
     "output_type": "execute_result"
    }
   ],
   "source": [
    "q1_system_prompt_characters = len(\"You are answering questions as if you were a human. Do not break character. Your traits: {'persona': 'You are a botanist on Cape Cod.'}\")\n",
    "q1_system_prompt_characters"
   ]
  },
  {
   "cell_type": "markdown",
   "id": "378a7404-683f-485e-8cc1-ea0ba5335453",
   "metadata": {
    "editable": true,
    "slideshow": {
     "slide_type": ""
    },
    "tags": []
   },
   "source": [
    "Estimate the input and output tokens for each set of prompts:"
   ]
  },
  {
   "cell_type": "code",
   "execution_count": 14,
   "id": "ccc66096-1982-4837-92b5-f3c09b60ba67",
   "metadata": {
    "editable": true,
    "slideshow": {
     "slide_type": ""
    },
    "tags": []
   },
   "outputs": [
    {
     "data": {
      "text/plain": [
       "44"
      ]
     },
     "execution_count": 14,
     "metadata": {},
     "output_type": "execute_result"
    }
   ],
   "source": [
    "q0_input_tokens = (q0_user_prompt_characters + q0_system_prompt_characters) // 4\n",
    "q0_input_tokens"
   ]
  },
  {
   "cell_type": "code",
   "execution_count": 15,
   "id": "68b52cf6-7781-4c7a-a4e5-e25d54f97d42",
   "metadata": {
    "editable": true,
    "slideshow": {
     "slide_type": ""
    },
    "tags": []
   },
   "outputs": [
    {
     "data": {
      "text/plain": [
       "33"
      ]
     },
     "execution_count": 15,
     "metadata": {},
     "output_type": "execute_result"
    }
   ],
   "source": [
    "q0_output_tokens = ceil(0.75 * q0_input_tokens) \n",
    "q0_output_tokens"
   ]
  },
  {
   "cell_type": "code",
   "execution_count": 16,
   "id": "8ef78d1b-d8d6-4aa4-9a44-53c2a90f6bc0",
   "metadata": {
    "editable": true,
    "slideshow": {
     "slide_type": ""
    },
    "tags": []
   },
   "outputs": [
    {
     "data": {
      "text/plain": [
       "47"
      ]
     },
     "execution_count": 16,
     "metadata": {},
     "output_type": "execute_result"
    }
   ],
   "source": [
    "q1_input_tokens = (q1_user_prompt_characters + q1_system_prompt_characters) // 4\n",
    "q1_input_tokens"
   ]
  },
  {
   "cell_type": "code",
   "execution_count": 17,
   "id": "c021ac5f-8f07-4700-936f-fa1dced161bc",
   "metadata": {
    "editable": true,
    "slideshow": {
     "slide_type": ""
    },
    "tags": []
   },
   "outputs": [
    {
     "data": {
      "text/plain": [
       "36"
      ]
     },
     "execution_count": 17,
     "metadata": {},
     "output_type": "execute_result"
    }
   ],
   "source": [
    "q1_output_tokens = ceil(0.75 * q1_input_tokens) \n",
    "q1_output_tokens"
   ]
  },
  {
   "cell_type": "markdown",
   "id": "686d700d-f9a8-43f0-b3c2-34f1685b3ff6",
   "metadata": {
    "editable": true,
    "slideshow": {
     "slide_type": ""
    },
    "tags": []
   },
   "source": [
    "Apply the token rates for the model:"
   ]
  },
  {
   "cell_type": "code",
   "execution_count": 18,
   "id": "b8b47251-74a0-44bb-83bf-059f45f6a6c5",
   "metadata": {
    "editable": true,
    "slideshow": {
     "slide_type": ""
    },
    "tags": []
   },
   "outputs": [
    {
     "data": {
      "text/plain": [
       "0.00044000000000000007"
      ]
     },
     "execution_count": 18,
     "metadata": {},
     "output_type": "execute_result"
    }
   ],
   "source": [
    "q0_tokens_cost = (2.50/1000000 * q0_input_tokens) + (10.00/1000000 * q0_output_tokens)\n",
    "q0_tokens_cost"
   ]
  },
  {
   "cell_type": "code",
   "execution_count": 19,
   "id": "c88ef219-6d2d-4fbd-8862-b60a75925b5a",
   "metadata": {
    "editable": true,
    "slideshow": {
     "slide_type": ""
    },
    "tags": []
   },
   "outputs": [
    {
     "data": {
      "text/plain": [
       "0.00047750000000000006"
      ]
     },
     "execution_count": 19,
     "metadata": {},
     "output_type": "execute_result"
    }
   ],
   "source": [
    "q1_tokens_cost = (2.50/1000000 * q1_input_tokens) + (10.00/1000000 * q1_output_tokens)\n",
    "q1_tokens_cost"
   ]
  },
  {
   "cell_type": "code",
   "execution_count": 20,
   "id": "b595cd19-d2c3-4d7f-a114-f2f4680d9230",
   "metadata": {
    "editable": true,
    "slideshow": {
     "slide_type": ""
    },
    "tags": []
   },
   "outputs": [
    {
     "data": {
      "text/plain": [
       "0.0009175000000000001"
      ]
     },
     "execution_count": 20,
     "metadata": {},
     "output_type": "execute_result"
    }
   ],
   "source": [
    "total_cost_usd = q0_tokens_cost + q1_tokens_cost\n",
    "total_cost_usd"
   ]
  },
  {
   "cell_type": "code",
   "execution_count": 21,
   "id": "091945fc-f71a-4673-97ae-76a876ead805",
   "metadata": {
    "editable": true,
    "slideshow": {
     "slide_type": ""
    },
    "tags": []
   },
   "outputs": [
    {
     "data": {
      "text/plain": [
       "0.05"
      ]
     },
     "execution_count": 21,
     "metadata": {},
     "output_type": "execute_result"
    }
   ],
   "source": [
    "q0_credits = ceil(q0_tokens_cost * 100 * 100) / 100\n",
    "q0_credits"
   ]
  },
  {
   "cell_type": "code",
   "execution_count": 22,
   "id": "71a152cf-f245-45da-b210-f4d9b0277aaf",
   "metadata": {
    "editable": true,
    "slideshow": {
     "slide_type": ""
    },
    "tags": []
   },
   "outputs": [
    {
     "data": {
      "text/plain": [
       "0.05"
      ]
     },
     "execution_count": 22,
     "metadata": {},
     "output_type": "execute_result"
    }
   ],
   "source": [
    "q1_credits = ceil(q1_tokens_cost * 100 * 100) / 100\n",
    "q1_credits"
   ]
  },
  {
   "cell_type": "code",
   "execution_count": 23,
   "id": "4a5097fa-3b83-4cd6-94a8-ba16708bc53b",
   "metadata": {
    "editable": true,
    "slideshow": {
     "slide_type": ""
    },
    "tags": []
   },
   "outputs": [
    {
     "data": {
      "text/plain": [
       "0.1"
      ]
     },
     "execution_count": 23,
     "metadata": {},
     "output_type": "execute_result"
    }
   ],
   "source": [
    "total_credits = q0_credits + q1_credits\n",
    "total_credits"
   ]
  },
  {
   "cell_type": "markdown",
   "id": "56f6f5e2-00dd-4c57-b791-2a7ee5c22328",
   "metadata": {
    "editable": true,
    "slideshow": {
     "slide_type": ""
    },
    "tags": []
   },
   "source": [
    "## Posting to Coop"
   ]
  },
  {
   "cell_type": "code",
   "execution_count": 24,
   "id": "11c9234a-5c20-4ece-bea7-a002a7309a49",
   "metadata": {
    "editable": true,
    "slideshow": {
     "slide_type": ""
    },
    "tags": []
   },
   "outputs": [
    {
     "data": {
      "text/plain": [
       "{'description': 'Estimating job costs',\n",
       " 'object_type': 'notebook',\n",
       " 'url': 'https://www.expectedparrot.com/content/74768662-8c2c-4e06-9f16-9d457515d249',\n",
       " 'alias_url': 'https://www.expectedparrot.com/content/RobinHorton/estimating-job-costs-notebook',\n",
       " 'uuid': '74768662-8c2c-4e06-9f16-9d457515d249',\n",
       " 'version': '0.1.56.dev1',\n",
       " 'visibility': 'public'}"
      ]
     },
     "execution_count": 24,
     "metadata": {},
     "output_type": "execute_result"
    }
   ],
   "source": [
    "from edsl import Notebook\n",
    "\n",
    "n = Notebook(path = \"estimating_costs.ipynb\")\n",
    "\n",
    "n.push(\n",
    "    description = \"Estimating job costs\", \n",
    "    alias = \"estimating-job-costs-notebook\",\n",
    "    visibility = \"public\"\n",
    ")"
   ]
  }
 ],
 "metadata": {
  "kernelspec": {
   "display_name": "Python 3 (ipykernel)",
   "language": "python",
   "name": "python3"
  },
  "language_info": {
   "codemirror_mode": {
    "name": "ipython",
    "version": 3
   },
   "file_extension": ".py",
   "mimetype": "text/x-python",
   "name": "python",
   "nbconvert_exporter": "python",
   "pygments_lexer": "ipython3",
   "version": "3.11.7"
  }
 },
 "nbformat": 4,
 "nbformat_minor": 5
}
