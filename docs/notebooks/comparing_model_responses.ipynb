{
 "cells": [
  {
   "cell_type": "markdown",
   "metadata": {
    "cell_id": "d4d5c2583fc14fdb895e689f40ba6737",
    "deepnote_cell_type": "markdown",
    "editable": true,
    "slideshow": {
     "slide_type": ""
    },
    "tags": []
   },
   "source": [
    "# Comparing model responses\n",
    "This notebook provides sample [EDSL](https://docs.expectedparrot.com/en/latest/) code for comparing content created by different language models and examining how models rate their own content versus content created by other models. \n",
    "\n",
    "In a series of steps we select some models, prompt them to generate some content, then prompt them to evaluate each piece of content that was generated, and then analyze the results in datasets.\n",
    "\n",
    "[EDSL is an open-source library](https://github.com/expectedparrot/edsl) for simulating surveys, experiments and other research with AI agents and large language models. \n",
    "Before running the code below, please ensure that you have [installed the EDSL library](https://docs.expectedparrot.com/en/latest/installation.html) and either [activated remote inference](https://docs.expectedparrot.com/en/latest/remote_inference.html) from your [Coop account](https://docs.expectedparrot.com/en/latest/coop.html) or [stored API keys](https://docs.expectedparrot.com/en/latest/api_keys.html) for the language models that you want to use with EDSL. Please also see our [documentation page](https://docs.expectedparrot.com/) for tips and tutorials on getting started using EDSL."
   ]
  },
  {
   "cell_type": "markdown",
   "metadata": {},
   "source": [
    "## Selecting language models\n",
    "[EDSL works with many popular language models](https://docs.expectedparrot.com/en/latest/language_models.html). (Please send us a request for a model you like that's missing!) \n",
    "We can check a current list of available models:"
   ]
  },
  {
   "cell_type": "code",
   "execution_count": 1,
   "metadata": {
    "cell_id": "4fa4d5aa948642b1972b84993e35f685",
    "deepnote_cell_type": "code",
    "deepnote_to_be_reexecuted": false,
    "execution_millis": 205,
    "execution_start": 1709310900433,
    "source_hash": null
   },
   "outputs": [],
   "source": [
    "from edsl import Model\n",
    "\n",
    "# Model.available() # uncomment this code and run it to see a current list of available models"
   ]
  },
  {
   "cell_type": "markdown",
   "metadata": {
    "cell_id": "cc1f7bddab344d378e8ce81dfea70a69",
    "deepnote_cell_type": "markdown"
   },
   "source": [
    "We select models to use by creating `Model` objects that we will add to our survey when we run it. \n",
    "If we do not specify a model, the default model is used.\n",
    "To check the current default model:"
   ]
  },
  {
   "cell_type": "code",
   "execution_count": 2,
   "metadata": {},
   "outputs": [],
   "source": [
    "# Model()"
   ]
  },
  {
   "cell_type": "markdown",
   "metadata": {},
   "source": [
    "Here we select several models and store them as a list in order to use them all together with our survey:"
   ]
  },
  {
   "cell_type": "code",
   "execution_count": 3,
   "metadata": {
    "cell_id": "747d40bea4eb41b5a89d8b374216837e",
    "deepnote_cell_type": "code"
   },
   "outputs": [],
   "source": [
    "from edsl import ModelList\n",
    "\n",
    "models = ModelList(Model(m) for m in [\"gpt-4o\", \"gemini-pro\", \"claude-3-opus-20240229\"])"
   ]
  },
  {
   "cell_type": "markdown",
   "metadata": {},
   "source": [
    "## Generating content\n",
    "EDSL comes with a variety of standard survey question types that we can select to use based on the desired format of the response (multiple choice, free text, etc.) [See examples of all question types](https://docs.expectedparrot.com/en/latest/questions.html#question-type-classes). \n",
    "\n",
    "Here we use `QuestionList` in order to prompt a model to provide its response in the form of a list:"
   ]
  },
  {
   "cell_type": "code",
   "execution_count": 4,
   "metadata": {
    "cell_id": "1325605571cc41a194255b80b2fb2f87",
    "deepnote_cell_type": "code"
   },
   "outputs": [],
   "source": [
    "from edsl import QuestionList\n",
    "\n",
    "q_content = QuestionList(\n",
    "    question_name = \"content\",\n",
    "    question_text = \"What are recommended steps for conducting research with large language models?\",\n",
    ")"
   ]
  },
  {
   "cell_type": "markdown",
   "metadata": {},
   "source": [
    "We generate a response by passing the question to a `Survey` object, adding the models, and then calling the `run` method. \n",
    "This will generate a `Results` object with a `Result` for each survey response:"
   ]
  },
  {
   "cell_type": "code",
   "execution_count": 5,
   "metadata": {
    "cell_id": "724ca2c7a38f4164a225ed4a8dcc2b1f",
    "deepnote_cell_type": "code"
   },
   "outputs": [],
   "source": [
    "from edsl import Survey\n",
    "\n",
    "# Pass a list of one ore more questions to be administered together in the survey\n",
    "survey = Survey([q_content])\n",
    "\n",
    "# Run the survey with the models\n",
    "results = survey.by(models).run()"
   ]
  },
  {
   "cell_type": "markdown",
   "metadata": {},
   "source": [
    "We can inspect components of the results individually:"
   ]
  },
  {
   "cell_type": "code",
   "execution_count": 6,
   "metadata": {
    "cell_id": "c68d3be8bada402ea17184b978abfa70",
    "deepnote_cell_type": "code"
   },
   "outputs": [
    {
     "data": {
      "text/html": [
       "<pre style=\"white-space:pre;overflow-x:auto;line-height:normal;font-family:Menlo,'DejaVu Sans Mono',consolas,'Courier New',monospace\">┏━━━━━━━━━━━━━━━━━━━━━━━━┳━━━━━━━━━━━━━━━━━━━━━━━━━━━━━━━━━━━━━━━━━━━━━━━━━━━━━━━━━━━━━━━━━━━━━━━━━━━━━━━━━━━━━━━━┓\n",
       "┃<span style=\"color: #800080; text-decoration-color: #800080; font-weight: bold\"> model                  </span>┃<span style=\"color: #800080; text-decoration-color: #800080; font-weight: bold\"> answer                                                                                 </span>┃\n",
       "┃<span style=\"color: #800080; text-decoration-color: #800080; font-weight: bold\"> .model                 </span>┃<span style=\"color: #800080; text-decoration-color: #800080; font-weight: bold\"> .content                                                                               </span>┃\n",
       "┡━━━━━━━━━━━━━━━━━━━━━━━━╇━━━━━━━━━━━━━━━━━━━━━━━━━━━━━━━━━━━━━━━━━━━━━━━━━━━━━━━━━━━━━━━━━━━━━━━━━━━━━━━━━━━━━━━━┩\n",
       "│<span style=\"color: #7f7f7f; text-decoration-color: #7f7f7f\"> gpt-4o                 </span>│<span style=\"color: #7f7f7f; text-decoration-color: #7f7f7f\"> ['Define research objectives', 'Select the appropriate model', 'Prepare and preprocess </span>│\n",
       "│<span style=\"color: #7f7f7f; text-decoration-color: #7f7f7f\">                        </span>│<span style=\"color: #7f7f7f; text-decoration-color: #7f7f7f\"> data', 'Design experiments', 'Evaluate model performance', 'Analyze results',          </span>│\n",
       "│<span style=\"color: #7f7f7f; text-decoration-color: #7f7f7f\">                        </span>│<span style=\"color: #7f7f7f; text-decoration-color: #7f7f7f\"> 'Document findings', 'Ensure ethical considerations']                                  </span>│\n",
       "├────────────────────────┼────────────────────────────────────────────────────────────────────────────────────────┤\n",
       "│<span style=\"color: #7f7f7f; text-decoration-color: #7f7f7f\"> gemini-pro             </span>│<span style=\"color: #7f7f7f; text-decoration-color: #7f7f7f\"> ['Define research objectives', 'Gather and prepare data', 'Select and train model',    </span>│\n",
       "│<span style=\"color: #7f7f7f; text-decoration-color: #7f7f7f\">                        </span>│<span style=\"color: #7f7f7f; text-decoration-color: #7f7f7f\"> 'Evaluate model performance', 'Interpret and communicate results']                     </span>│\n",
       "├────────────────────────┼────────────────────────────────────────────────────────────────────────────────────────┤\n",
       "│<span style=\"color: #7f7f7f; text-decoration-color: #7f7f7f\"> claude-3-opus-20240229 </span>│<span style=\"color: #7f7f7f; text-decoration-color: #7f7f7f\"> ['Define research questions and hypotheses', 'Select appropriate language model(s)',   </span>│\n",
       "│<span style=\"color: #7f7f7f; text-decoration-color: #7f7f7f\">                        </span>│<span style=\"color: #7f7f7f; text-decoration-color: #7f7f7f\"> 'Collect and preprocess data', 'Fine-tune and evaluate models', 'Analyze results and   </span>│\n",
       "│<span style=\"color: #7f7f7f; text-decoration-color: #7f7f7f\">                        </span>│<span style=\"color: #7f7f7f; text-decoration-color: #7f7f7f\"> draw conclusions', 'Document methodology and findings']                                </span>│\n",
       "└────────────────────────┴────────────────────────────────────────────────────────────────────────────────────────┘\n",
       "</pre>\n"
      ],
      "text/plain": [
       "┏━━━━━━━━━━━━━━━━━━━━━━━━┳━━━━━━━━━━━━━━━━━━━━━━━━━━━━━━━━━━━━━━━━━━━━━━━━━━━━━━━━━━━━━━━━━━━━━━━━━━━━━━━━━━━━━━━━┓\n",
       "┃\u001b[1;35m \u001b[0m\u001b[1;35mmodel                 \u001b[0m\u001b[1;35m \u001b[0m┃\u001b[1;35m \u001b[0m\u001b[1;35manswer                                                                                \u001b[0m\u001b[1;35m \u001b[0m┃\n",
       "┃\u001b[1;35m \u001b[0m\u001b[1;35m.model                \u001b[0m\u001b[1;35m \u001b[0m┃\u001b[1;35m \u001b[0m\u001b[1;35m.content                                                                              \u001b[0m\u001b[1;35m \u001b[0m┃\n",
       "┡━━━━━━━━━━━━━━━━━━━━━━━━╇━━━━━━━━━━━━━━━━━━━━━━━━━━━━━━━━━━━━━━━━━━━━━━━━━━━━━━━━━━━━━━━━━━━━━━━━━━━━━━━━━━━━━━━━┩\n",
       "│\u001b[2m \u001b[0m\u001b[2mgpt-4o                \u001b[0m\u001b[2m \u001b[0m│\u001b[2m \u001b[0m\u001b[2m['Define research objectives', 'Select the appropriate model', 'Prepare and preprocess\u001b[0m\u001b[2m \u001b[0m│\n",
       "│\u001b[2m                        \u001b[0m│\u001b[2m \u001b[0m\u001b[2mdata', 'Design experiments', 'Evaluate model performance', 'Analyze results',         \u001b[0m\u001b[2m \u001b[0m│\n",
       "│\u001b[2m                        \u001b[0m│\u001b[2m \u001b[0m\u001b[2m'Document findings', 'Ensure ethical considerations']                                 \u001b[0m\u001b[2m \u001b[0m│\n",
       "├────────────────────────┼────────────────────────────────────────────────────────────────────────────────────────┤\n",
       "│\u001b[2m \u001b[0m\u001b[2mgemini-pro            \u001b[0m\u001b[2m \u001b[0m│\u001b[2m \u001b[0m\u001b[2m['Define research objectives', 'Gather and prepare data', 'Select and train model',   \u001b[0m\u001b[2m \u001b[0m│\n",
       "│\u001b[2m                        \u001b[0m│\u001b[2m \u001b[0m\u001b[2m'Evaluate model performance', 'Interpret and communicate results']                    \u001b[0m\u001b[2m \u001b[0m│\n",
       "├────────────────────────┼────────────────────────────────────────────────────────────────────────────────────────┤\n",
       "│\u001b[2m \u001b[0m\u001b[2mclaude-3-opus-20240229\u001b[0m\u001b[2m \u001b[0m│\u001b[2m \u001b[0m\u001b[2m['Define research questions and hypotheses', 'Select appropriate language model(s)',  \u001b[0m\u001b[2m \u001b[0m│\n",
       "│\u001b[2m                        \u001b[0m│\u001b[2m \u001b[0m\u001b[2m'Collect and preprocess data', 'Fine-tune and evaluate models', 'Analyze results and  \u001b[0m\u001b[2m \u001b[0m│\n",
       "│\u001b[2m                        \u001b[0m│\u001b[2m \u001b[0m\u001b[2mdraw conclusions', 'Document methodology and findings']                               \u001b[0m\u001b[2m \u001b[0m│\n",
       "└────────────────────────┴────────────────────────────────────────────────────────────────────────────────────────┘\n"
      ]
     },
     "metadata": {},
     "output_type": "display_data"
    }
   ],
   "source": [
    "results.select(\"model\", \"content\").print(format=\"rich\")"
   ]
  },
  {
   "cell_type": "markdown",
   "metadata": {},
   "source": [
    "To see a list of all components of results we can call the `columns` method:"
   ]
  },
  {
   "cell_type": "code",
   "execution_count": 7,
   "metadata": {},
   "outputs": [
    {
     "data": {
      "text/plain": [
       "['agent.agent_instruction',\n",
       " 'agent.agent_name',\n",
       " 'answer.content',\n",
       " 'comment.content_comment',\n",
       " 'generated_tokens.content_generated_tokens',\n",
       " 'iteration.iteration',\n",
       " 'model.frequency_penalty',\n",
       " 'model.logprobs',\n",
       " 'model.maxOutputTokens',\n",
       " 'model.max_tokens',\n",
       " 'model.model',\n",
       " 'model.presence_penalty',\n",
       " 'model.stopSequences',\n",
       " 'model.temperature',\n",
       " 'model.topK',\n",
       " 'model.topP',\n",
       " 'model.top_logprobs',\n",
       " 'model.top_p',\n",
       " 'prompt.content_system_prompt',\n",
       " 'prompt.content_user_prompt',\n",
       " 'question_options.content_question_options',\n",
       " 'question_text.content_question_text',\n",
       " 'question_type.content_question_type',\n",
       " 'raw_model_response.content_cost',\n",
       " 'raw_model_response.content_one_usd_buys',\n",
       " 'raw_model_response.content_raw_model_response']"
      ]
     },
     "execution_count": 7,
     "metadata": {},
     "output_type": "execute_result"
    }
   ],
   "source": [
    "results.columns"
   ]
  },
  {
   "cell_type": "markdown",
   "metadata": {},
   "source": [
    "## Accessing results\n",
    "EDSL comes with a variety of built-in methods for working with results. [See details on methods](https://docs.expectedparrot.com/en/latest/results.html). \n",
    "Here we extract components of the results that we'll use to conduct our by-model review of the content.\n",
    "We create a `Scenario` object for each piece of content that we will add to a new question prompting a model to score it (a generalizable data labeling task). \n",
    "We also track the model that drafted the content:"
   ]
  },
  {
   "cell_type": "code",
   "execution_count": 8,
   "metadata": {},
   "outputs": [],
   "source": [
    "from edsl import ScenarioList\n",
    "\n",
    "scenarios = results.select(\"model\", \"content\").to_scenario_list().rename({\"model\":\"drafting_model\"})"
   ]
  },
  {
   "cell_type": "code",
   "execution_count": 9,
   "metadata": {},
   "outputs": [
    {
     "data": {
      "text/html": [
       "<div class=\"highlight\"><pre><span></span><span class=\"p\">{</span>\n",
       "<span class=\"w\">    </span><span class=\"nt\">&quot;scenarios&quot;</span><span class=\"p\">:</span><span class=\"w\"> </span><span class=\"p\">[</span>\n",
       "<span class=\"w\">        </span><span class=\"p\">{</span>\n",
       "<span class=\"w\">            </span><span class=\"nt\">&quot;drafting_model&quot;</span><span class=\"p\">:</span><span class=\"w\"> </span><span class=\"s2\">&quot;gpt-4o&quot;</span><span class=\"p\">,</span>\n",
       "<span class=\"w\">            </span><span class=\"nt\">&quot;content&quot;</span><span class=\"p\">:</span><span class=\"w\"> </span><span class=\"p\">[</span>\n",
       "<span class=\"w\">                </span><span class=\"s2\">&quot;Define research objectives&quot;</span><span class=\"p\">,</span>\n",
       "<span class=\"w\">                </span><span class=\"s2\">&quot;Select the appropriate model&quot;</span><span class=\"p\">,</span>\n",
       "<span class=\"w\">                </span><span class=\"s2\">&quot;Prepare and preprocess data&quot;</span><span class=\"p\">,</span>\n",
       "<span class=\"w\">                </span><span class=\"s2\">&quot;Design experiments&quot;</span><span class=\"p\">,</span>\n",
       "<span class=\"w\">                </span><span class=\"s2\">&quot;Evaluate model performance&quot;</span><span class=\"p\">,</span>\n",
       "<span class=\"w\">                </span><span class=\"s2\">&quot;Analyze results&quot;</span><span class=\"p\">,</span>\n",
       "<span class=\"w\">                </span><span class=\"s2\">&quot;Document findings&quot;</span><span class=\"p\">,</span>\n",
       "<span class=\"w\">                </span><span class=\"s2\">&quot;Ensure ethical considerations&quot;</span>\n",
       "<span class=\"w\">            </span><span class=\"p\">]</span>\n",
       "<span class=\"w\">        </span><span class=\"p\">},</span>\n",
       "<span class=\"w\">        </span><span class=\"p\">{</span>\n",
       "<span class=\"w\">            </span><span class=\"nt\">&quot;drafting_model&quot;</span><span class=\"p\">:</span><span class=\"w\"> </span><span class=\"s2\">&quot;gemini-pro&quot;</span><span class=\"p\">,</span>\n",
       "<span class=\"w\">            </span><span class=\"nt\">&quot;content&quot;</span><span class=\"p\">:</span><span class=\"w\"> </span><span class=\"p\">[</span>\n",
       "<span class=\"w\">                </span><span class=\"s2\">&quot;Define research objectives&quot;</span><span class=\"p\">,</span>\n",
       "<span class=\"w\">                </span><span class=\"s2\">&quot;Gather and prepare data&quot;</span><span class=\"p\">,</span>\n",
       "<span class=\"w\">                </span><span class=\"s2\">&quot;Select and train model&quot;</span><span class=\"p\">,</span>\n",
       "<span class=\"w\">                </span><span class=\"s2\">&quot;Evaluate model performance&quot;</span><span class=\"p\">,</span>\n",
       "<span class=\"w\">                </span><span class=\"s2\">&quot;Interpret and communicate results&quot;</span>\n",
       "<span class=\"w\">            </span><span class=\"p\">]</span>\n",
       "<span class=\"w\">        </span><span class=\"p\">},</span>\n",
       "<span class=\"w\">        </span><span class=\"p\">{</span>\n",
       "<span class=\"w\">            </span><span class=\"nt\">&quot;drafting_model&quot;</span><span class=\"p\">:</span><span class=\"w\"> </span><span class=\"s2\">&quot;claude-3-opus-20240229&quot;</span><span class=\"p\">,</span>\n",
       "<span class=\"w\">            </span><span class=\"nt\">&quot;content&quot;</span><span class=\"p\">:</span><span class=\"w\"> </span><span class=\"p\">[</span>\n",
       "<span class=\"w\">                </span><span class=\"s2\">&quot;Define research questions and hypotheses&quot;</span><span class=\"p\">,</span>\n",
       "<span class=\"w\">                </span><span class=\"s2\">&quot;Select appropriate language model(s)&quot;</span><span class=\"p\">,</span>\n",
       "<span class=\"w\">                </span><span class=\"s2\">&quot;Collect and preprocess data&quot;</span><span class=\"p\">,</span>\n",
       "<span class=\"w\">                </span><span class=\"s2\">&quot;Fine-tune and evaluate models&quot;</span><span class=\"p\">,</span>\n",
       "<span class=\"w\">                </span><span class=\"s2\">&quot;Analyze results and draw conclusions&quot;</span><span class=\"p\">,</span>\n",
       "<span class=\"w\">                </span><span class=\"s2\">&quot;Document methodology and findings&quot;</span>\n",
       "<span class=\"w\">            </span><span class=\"p\">]</span>\n",
       "<span class=\"w\">        </span><span class=\"p\">}</span>\n",
       "<span class=\"w\">    </span><span class=\"p\">]</span>\n",
       "<span class=\"p\">}</span>\n",
       "</pre></div>\n"
      ],
      "text/plain": [
       "ScenarioList([Scenario({'drafting_model': 'gpt-4o', 'content': ['Define research objectives', 'Select the appropriate model', 'Prepare and preprocess data', 'Design experiments', 'Evaluate model performance', 'Analyze results', 'Document findings', 'Ensure ethical considerations']}), Scenario({'drafting_model': 'gemini-pro', 'content': ['Define research objectives', 'Gather and prepare data', 'Select and train model', 'Evaluate model performance', 'Interpret and communicate results']}), Scenario({'drafting_model': 'claude-3-opus-20240229', 'content': ['Define research questions and hypotheses', 'Select appropriate language model(s)', 'Collect and preprocess data', 'Fine-tune and evaluate models', 'Analyze results and draw conclusions', 'Document methodology and findings']})])"
      ]
     },
     "execution_count": 9,
     "metadata": {},
     "output_type": "execute_result"
    }
   ],
   "source": [
    "scenarios"
   ]
  },
  {
   "cell_type": "markdown",
   "metadata": {},
   "source": [
    "Next we construct the scoring question to take parameters for the `content` and `drafting_model`:"
   ]
  },
  {
   "cell_type": "code",
   "execution_count": 10,
   "metadata": {},
   "outputs": [],
   "source": [
    "from edsl import QuestionLinearScale\n",
    "\n",
    "q_score = QuestionLinearScale(\n",
    "    question_name = \"score\",\n",
    "    question_text = \"\"\"Consider the following response to the question\n",
    "    'What are recommended steps for conducting research with large language models?'\n",
    "    Response: {{ content }}\n",
    "    Score this response in terms of accuracy and completeness.\n",
    "    (Drafting model: {{ drafting_model }})\"\"\",\n",
    "    question_options = [0, 1, 2, 3, 4, 5, 6, 7, 8, 9, 10],\n",
    "    option_labels = {0: \"Terrible\", 10: \"Amazing\"},\n",
    ")\n",
    "\n",
    "survey = Survey([q_score])"
   ]
  },
  {
   "cell_type": "markdown",
   "metadata": {},
   "source": [
    "Finally, we add the scenarios and models to the survey and run it, generating a dataset of results that we can begin analyzing:"
   ]
  },
  {
   "cell_type": "code",
   "execution_count": 11,
   "metadata": {},
   "outputs": [],
   "source": [
    "results = survey.by(scenarios).by(models).run()"
   ]
  },
  {
   "cell_type": "markdown",
   "metadata": {},
   "source": [
    "We can select components to inspect in a table:"
   ]
  },
  {
   "cell_type": "code",
   "execution_count": 12,
   "metadata": {},
   "outputs": [
    {
     "data": {
      "text/html": [
       "<pre style=\"white-space:pre;overflow-x:auto;line-height:normal;font-family:Menlo,'DejaVu Sans Mono',consolas,'Courier New',monospace\">┏━━━━━━━━━━━━━━━━━━━━━━━━┳━━━━━━━━━━━━━━━━━━━━━━━━━┳━━━━━━━━━━━━━━━━━━━━━━━━━━━━━━━━━━━━━━━━━━━━━━━┳━━━━━━━━━━━━━━┓\n",
       "┃<span style=\"color: #800080; text-decoration-color: #800080; font-weight: bold\"> model.model            </span>┃<span style=\"color: #800080; text-decoration-color: #800080; font-weight: bold\"> scenario.drafting_model </span>┃<span style=\"color: #800080; text-decoration-color: #800080; font-weight: bold\"> scenario.content                              </span>┃<span style=\"color: #800080; text-decoration-color: #800080; font-weight: bold\"> answer.score </span>┃\n",
       "┡━━━━━━━━━━━━━━━━━━━━━━━━╇━━━━━━━━━━━━━━━━━━━━━━━━━╇━━━━━━━━━━━━━━━━━━━━━━━━━━━━━━━━━━━━━━━━━━━━━━━╇━━━━━━━━━━━━━━┩\n",
       "│<span style=\"color: #7f7f7f; text-decoration-color: #7f7f7f\"> claude-3-opus-20240229 </span>│<span style=\"color: #7f7f7f; text-decoration-color: #7f7f7f\"> claude-3-opus-20240229  </span>│<span style=\"color: #7f7f7f; text-decoration-color: #7f7f7f\"> ['Define research questions and hypotheses',  </span>│<span style=\"color: #7f7f7f; text-decoration-color: #7f7f7f\"> 8            </span>│\n",
       "│<span style=\"color: #7f7f7f; text-decoration-color: #7f7f7f\">                        </span>│<span style=\"color: #7f7f7f; text-decoration-color: #7f7f7f\">                         </span>│<span style=\"color: #7f7f7f; text-decoration-color: #7f7f7f\"> 'Select appropriate language model(s)',       </span>│<span style=\"color: #7f7f7f; text-decoration-color: #7f7f7f\">              </span>│\n",
       "│<span style=\"color: #7f7f7f; text-decoration-color: #7f7f7f\">                        </span>│<span style=\"color: #7f7f7f; text-decoration-color: #7f7f7f\">                         </span>│<span style=\"color: #7f7f7f; text-decoration-color: #7f7f7f\"> 'Collect and preprocess data', 'Fine-tune and </span>│<span style=\"color: #7f7f7f; text-decoration-color: #7f7f7f\">              </span>│\n",
       "│<span style=\"color: #7f7f7f; text-decoration-color: #7f7f7f\">                        </span>│<span style=\"color: #7f7f7f; text-decoration-color: #7f7f7f\">                         </span>│<span style=\"color: #7f7f7f; text-decoration-color: #7f7f7f\"> evaluate models', 'Analyze results and draw   </span>│<span style=\"color: #7f7f7f; text-decoration-color: #7f7f7f\">              </span>│\n",
       "│<span style=\"color: #7f7f7f; text-decoration-color: #7f7f7f\">                        </span>│<span style=\"color: #7f7f7f; text-decoration-color: #7f7f7f\">                         </span>│<span style=\"color: #7f7f7f; text-decoration-color: #7f7f7f\"> conclusions', 'Document methodology and       </span>│<span style=\"color: #7f7f7f; text-decoration-color: #7f7f7f\">              </span>│\n",
       "│<span style=\"color: #7f7f7f; text-decoration-color: #7f7f7f\">                        </span>│<span style=\"color: #7f7f7f; text-decoration-color: #7f7f7f\">                         </span>│<span style=\"color: #7f7f7f; text-decoration-color: #7f7f7f\"> findings']                                    </span>│<span style=\"color: #7f7f7f; text-decoration-color: #7f7f7f\">              </span>│\n",
       "├────────────────────────┼─────────────────────────┼───────────────────────────────────────────────┼──────────────┤\n",
       "│<span style=\"color: #7f7f7f; text-decoration-color: #7f7f7f\"> claude-3-opus-20240229 </span>│<span style=\"color: #7f7f7f; text-decoration-color: #7f7f7f\"> gemini-pro              </span>│<span style=\"color: #7f7f7f; text-decoration-color: #7f7f7f\"> ['Define research objectives', 'Gather and    </span>│<span style=\"color: #7f7f7f; text-decoration-color: #7f7f7f\"> 8            </span>│\n",
       "│<span style=\"color: #7f7f7f; text-decoration-color: #7f7f7f\">                        </span>│<span style=\"color: #7f7f7f; text-decoration-color: #7f7f7f\">                         </span>│<span style=\"color: #7f7f7f; text-decoration-color: #7f7f7f\"> prepare data', 'Select and train model',      </span>│<span style=\"color: #7f7f7f; text-decoration-color: #7f7f7f\">              </span>│\n",
       "│<span style=\"color: #7f7f7f; text-decoration-color: #7f7f7f\">                        </span>│<span style=\"color: #7f7f7f; text-decoration-color: #7f7f7f\">                         </span>│<span style=\"color: #7f7f7f; text-decoration-color: #7f7f7f\"> 'Evaluate model performance', 'Interpret and  </span>│<span style=\"color: #7f7f7f; text-decoration-color: #7f7f7f\">              </span>│\n",
       "│<span style=\"color: #7f7f7f; text-decoration-color: #7f7f7f\">                        </span>│<span style=\"color: #7f7f7f; text-decoration-color: #7f7f7f\">                         </span>│<span style=\"color: #7f7f7f; text-decoration-color: #7f7f7f\"> communicate results']                         </span>│<span style=\"color: #7f7f7f; text-decoration-color: #7f7f7f\">              </span>│\n",
       "├────────────────────────┼─────────────────────────┼───────────────────────────────────────────────┼──────────────┤\n",
       "│<span style=\"color: #7f7f7f; text-decoration-color: #7f7f7f\"> claude-3-opus-20240229 </span>│<span style=\"color: #7f7f7f; text-decoration-color: #7f7f7f\"> gpt-4o                  </span>│<span style=\"color: #7f7f7f; text-decoration-color: #7f7f7f\"> ['Define research objectives', 'Select the    </span>│<span style=\"color: #7f7f7f; text-decoration-color: #7f7f7f\"> 8            </span>│\n",
       "│<span style=\"color: #7f7f7f; text-decoration-color: #7f7f7f\">                        </span>│<span style=\"color: #7f7f7f; text-decoration-color: #7f7f7f\">                         </span>│<span style=\"color: #7f7f7f; text-decoration-color: #7f7f7f\"> appropriate model', 'Prepare and preprocess   </span>│<span style=\"color: #7f7f7f; text-decoration-color: #7f7f7f\">              </span>│\n",
       "│<span style=\"color: #7f7f7f; text-decoration-color: #7f7f7f\">                        </span>│<span style=\"color: #7f7f7f; text-decoration-color: #7f7f7f\">                         </span>│<span style=\"color: #7f7f7f; text-decoration-color: #7f7f7f\"> data', 'Design experiments', 'Evaluate model  </span>│<span style=\"color: #7f7f7f; text-decoration-color: #7f7f7f\">              </span>│\n",
       "│<span style=\"color: #7f7f7f; text-decoration-color: #7f7f7f\">                        </span>│<span style=\"color: #7f7f7f; text-decoration-color: #7f7f7f\">                         </span>│<span style=\"color: #7f7f7f; text-decoration-color: #7f7f7f\"> performance', 'Analyze results', 'Document    </span>│<span style=\"color: #7f7f7f; text-decoration-color: #7f7f7f\">              </span>│\n",
       "│<span style=\"color: #7f7f7f; text-decoration-color: #7f7f7f\">                        </span>│<span style=\"color: #7f7f7f; text-decoration-color: #7f7f7f\">                         </span>│<span style=\"color: #7f7f7f; text-decoration-color: #7f7f7f\"> findings', 'Ensure ethical considerations']   </span>│<span style=\"color: #7f7f7f; text-decoration-color: #7f7f7f\">              </span>│\n",
       "├────────────────────────┼─────────────────────────┼───────────────────────────────────────────────┼──────────────┤\n",
       "│<span style=\"color: #7f7f7f; text-decoration-color: #7f7f7f\"> gemini-pro             </span>│<span style=\"color: #7f7f7f; text-decoration-color: #7f7f7f\"> claude-3-opus-20240229  </span>│<span style=\"color: #7f7f7f; text-decoration-color: #7f7f7f\"> ['Define research questions and hypotheses',  </span>│<span style=\"color: #7f7f7f; text-decoration-color: #7f7f7f\"> 9            </span>│\n",
       "│<span style=\"color: #7f7f7f; text-decoration-color: #7f7f7f\">                        </span>│<span style=\"color: #7f7f7f; text-decoration-color: #7f7f7f\">                         </span>│<span style=\"color: #7f7f7f; text-decoration-color: #7f7f7f\"> 'Select appropriate language model(s)',       </span>│<span style=\"color: #7f7f7f; text-decoration-color: #7f7f7f\">              </span>│\n",
       "│<span style=\"color: #7f7f7f; text-decoration-color: #7f7f7f\">                        </span>│<span style=\"color: #7f7f7f; text-decoration-color: #7f7f7f\">                         </span>│<span style=\"color: #7f7f7f; text-decoration-color: #7f7f7f\"> 'Collect and preprocess data', 'Fine-tune and </span>│<span style=\"color: #7f7f7f; text-decoration-color: #7f7f7f\">              </span>│\n",
       "│<span style=\"color: #7f7f7f; text-decoration-color: #7f7f7f\">                        </span>│<span style=\"color: #7f7f7f; text-decoration-color: #7f7f7f\">                         </span>│<span style=\"color: #7f7f7f; text-decoration-color: #7f7f7f\"> evaluate models', 'Analyze results and draw   </span>│<span style=\"color: #7f7f7f; text-decoration-color: #7f7f7f\">              </span>│\n",
       "│<span style=\"color: #7f7f7f; text-decoration-color: #7f7f7f\">                        </span>│<span style=\"color: #7f7f7f; text-decoration-color: #7f7f7f\">                         </span>│<span style=\"color: #7f7f7f; text-decoration-color: #7f7f7f\"> conclusions', 'Document methodology and       </span>│<span style=\"color: #7f7f7f; text-decoration-color: #7f7f7f\">              </span>│\n",
       "│<span style=\"color: #7f7f7f; text-decoration-color: #7f7f7f\">                        </span>│<span style=\"color: #7f7f7f; text-decoration-color: #7f7f7f\">                         </span>│<span style=\"color: #7f7f7f; text-decoration-color: #7f7f7f\"> findings']                                    </span>│<span style=\"color: #7f7f7f; text-decoration-color: #7f7f7f\">              </span>│\n",
       "├────────────────────────┼─────────────────────────┼───────────────────────────────────────────────┼──────────────┤\n",
       "│<span style=\"color: #7f7f7f; text-decoration-color: #7f7f7f\"> gemini-pro             </span>│<span style=\"color: #7f7f7f; text-decoration-color: #7f7f7f\"> gemini-pro              </span>│<span style=\"color: #7f7f7f; text-decoration-color: #7f7f7f\"> ['Define research objectives', 'Gather and    </span>│<span style=\"color: #7f7f7f; text-decoration-color: #7f7f7f\"> 8            </span>│\n",
       "│<span style=\"color: #7f7f7f; text-decoration-color: #7f7f7f\">                        </span>│<span style=\"color: #7f7f7f; text-decoration-color: #7f7f7f\">                         </span>│<span style=\"color: #7f7f7f; text-decoration-color: #7f7f7f\"> prepare data', 'Select and train model',      </span>│<span style=\"color: #7f7f7f; text-decoration-color: #7f7f7f\">              </span>│\n",
       "│<span style=\"color: #7f7f7f; text-decoration-color: #7f7f7f\">                        </span>│<span style=\"color: #7f7f7f; text-decoration-color: #7f7f7f\">                         </span>│<span style=\"color: #7f7f7f; text-decoration-color: #7f7f7f\"> 'Evaluate model performance', 'Interpret and  </span>│<span style=\"color: #7f7f7f; text-decoration-color: #7f7f7f\">              </span>│\n",
       "│<span style=\"color: #7f7f7f; text-decoration-color: #7f7f7f\">                        </span>│<span style=\"color: #7f7f7f; text-decoration-color: #7f7f7f\">                         </span>│<span style=\"color: #7f7f7f; text-decoration-color: #7f7f7f\"> communicate results']                         </span>│<span style=\"color: #7f7f7f; text-decoration-color: #7f7f7f\">              </span>│\n",
       "├────────────────────────┼─────────────────────────┼───────────────────────────────────────────────┼──────────────┤\n",
       "│<span style=\"color: #7f7f7f; text-decoration-color: #7f7f7f\"> gemini-pro             </span>│<span style=\"color: #7f7f7f; text-decoration-color: #7f7f7f\"> gpt-4o                  </span>│<span style=\"color: #7f7f7f; text-decoration-color: #7f7f7f\"> ['Define research objectives', 'Select the    </span>│<span style=\"color: #7f7f7f; text-decoration-color: #7f7f7f\"> 8            </span>│\n",
       "│<span style=\"color: #7f7f7f; text-decoration-color: #7f7f7f\">                        </span>│<span style=\"color: #7f7f7f; text-decoration-color: #7f7f7f\">                         </span>│<span style=\"color: #7f7f7f; text-decoration-color: #7f7f7f\"> appropriate model', 'Prepare and preprocess   </span>│<span style=\"color: #7f7f7f; text-decoration-color: #7f7f7f\">              </span>│\n",
       "│<span style=\"color: #7f7f7f; text-decoration-color: #7f7f7f\">                        </span>│<span style=\"color: #7f7f7f; text-decoration-color: #7f7f7f\">                         </span>│<span style=\"color: #7f7f7f; text-decoration-color: #7f7f7f\"> data', 'Design experiments', 'Evaluate model  </span>│<span style=\"color: #7f7f7f; text-decoration-color: #7f7f7f\">              </span>│\n",
       "│<span style=\"color: #7f7f7f; text-decoration-color: #7f7f7f\">                        </span>│<span style=\"color: #7f7f7f; text-decoration-color: #7f7f7f\">                         </span>│<span style=\"color: #7f7f7f; text-decoration-color: #7f7f7f\"> performance', 'Analyze results', 'Document    </span>│<span style=\"color: #7f7f7f; text-decoration-color: #7f7f7f\">              </span>│\n",
       "│<span style=\"color: #7f7f7f; text-decoration-color: #7f7f7f\">                        </span>│<span style=\"color: #7f7f7f; text-decoration-color: #7f7f7f\">                         </span>│<span style=\"color: #7f7f7f; text-decoration-color: #7f7f7f\"> findings', 'Ensure ethical considerations']   </span>│<span style=\"color: #7f7f7f; text-decoration-color: #7f7f7f\">              </span>│\n",
       "├────────────────────────┼─────────────────────────┼───────────────────────────────────────────────┼──────────────┤\n",
       "│<span style=\"color: #7f7f7f; text-decoration-color: #7f7f7f\"> gpt-4o                 </span>│<span style=\"color: #7f7f7f; text-decoration-color: #7f7f7f\"> claude-3-opus-20240229  </span>│<span style=\"color: #7f7f7f; text-decoration-color: #7f7f7f\"> ['Define research questions and hypotheses',  </span>│<span style=\"color: #7f7f7f; text-decoration-color: #7f7f7f\"> 9            </span>│\n",
       "│<span style=\"color: #7f7f7f; text-decoration-color: #7f7f7f\">                        </span>│<span style=\"color: #7f7f7f; text-decoration-color: #7f7f7f\">                         </span>│<span style=\"color: #7f7f7f; text-decoration-color: #7f7f7f\"> 'Select appropriate language model(s)',       </span>│<span style=\"color: #7f7f7f; text-decoration-color: #7f7f7f\">              </span>│\n",
       "│<span style=\"color: #7f7f7f; text-decoration-color: #7f7f7f\">                        </span>│<span style=\"color: #7f7f7f; text-decoration-color: #7f7f7f\">                         </span>│<span style=\"color: #7f7f7f; text-decoration-color: #7f7f7f\"> 'Collect and preprocess data', 'Fine-tune and </span>│<span style=\"color: #7f7f7f; text-decoration-color: #7f7f7f\">              </span>│\n",
       "│<span style=\"color: #7f7f7f; text-decoration-color: #7f7f7f\">                        </span>│<span style=\"color: #7f7f7f; text-decoration-color: #7f7f7f\">                         </span>│<span style=\"color: #7f7f7f; text-decoration-color: #7f7f7f\"> evaluate models', 'Analyze results and draw   </span>│<span style=\"color: #7f7f7f; text-decoration-color: #7f7f7f\">              </span>│\n",
       "│<span style=\"color: #7f7f7f; text-decoration-color: #7f7f7f\">                        </span>│<span style=\"color: #7f7f7f; text-decoration-color: #7f7f7f\">                         </span>│<span style=\"color: #7f7f7f; text-decoration-color: #7f7f7f\"> conclusions', 'Document methodology and       </span>│<span style=\"color: #7f7f7f; text-decoration-color: #7f7f7f\">              </span>│\n",
       "│<span style=\"color: #7f7f7f; text-decoration-color: #7f7f7f\">                        </span>│<span style=\"color: #7f7f7f; text-decoration-color: #7f7f7f\">                         </span>│<span style=\"color: #7f7f7f; text-decoration-color: #7f7f7f\"> findings']                                    </span>│<span style=\"color: #7f7f7f; text-decoration-color: #7f7f7f\">              </span>│\n",
       "├────────────────────────┼─────────────────────────┼───────────────────────────────────────────────┼──────────────┤\n",
       "│<span style=\"color: #7f7f7f; text-decoration-color: #7f7f7f\"> gpt-4o                 </span>│<span style=\"color: #7f7f7f; text-decoration-color: #7f7f7f\"> gemini-pro              </span>│<span style=\"color: #7f7f7f; text-decoration-color: #7f7f7f\"> ['Define research objectives', 'Gather and    </span>│<span style=\"color: #7f7f7f; text-decoration-color: #7f7f7f\"> 8            </span>│\n",
       "│<span style=\"color: #7f7f7f; text-decoration-color: #7f7f7f\">                        </span>│<span style=\"color: #7f7f7f; text-decoration-color: #7f7f7f\">                         </span>│<span style=\"color: #7f7f7f; text-decoration-color: #7f7f7f\"> prepare data', 'Select and train model',      </span>│<span style=\"color: #7f7f7f; text-decoration-color: #7f7f7f\">              </span>│\n",
       "│<span style=\"color: #7f7f7f; text-decoration-color: #7f7f7f\">                        </span>│<span style=\"color: #7f7f7f; text-decoration-color: #7f7f7f\">                         </span>│<span style=\"color: #7f7f7f; text-decoration-color: #7f7f7f\"> 'Evaluate model performance', 'Interpret and  </span>│<span style=\"color: #7f7f7f; text-decoration-color: #7f7f7f\">              </span>│\n",
       "│<span style=\"color: #7f7f7f; text-decoration-color: #7f7f7f\">                        </span>│<span style=\"color: #7f7f7f; text-decoration-color: #7f7f7f\">                         </span>│<span style=\"color: #7f7f7f; text-decoration-color: #7f7f7f\"> communicate results']                         </span>│<span style=\"color: #7f7f7f; text-decoration-color: #7f7f7f\">              </span>│\n",
       "├────────────────────────┼─────────────────────────┼───────────────────────────────────────────────┼──────────────┤\n",
       "│<span style=\"color: #7f7f7f; text-decoration-color: #7f7f7f\"> gpt-4o                 </span>│<span style=\"color: #7f7f7f; text-decoration-color: #7f7f7f\"> gpt-4o                  </span>│<span style=\"color: #7f7f7f; text-decoration-color: #7f7f7f\"> ['Define research objectives', 'Select the    </span>│<span style=\"color: #7f7f7f; text-decoration-color: #7f7f7f\"> 8            </span>│\n",
       "│<span style=\"color: #7f7f7f; text-decoration-color: #7f7f7f\">                        </span>│<span style=\"color: #7f7f7f; text-decoration-color: #7f7f7f\">                         </span>│<span style=\"color: #7f7f7f; text-decoration-color: #7f7f7f\"> appropriate model', 'Prepare and preprocess   </span>│<span style=\"color: #7f7f7f; text-decoration-color: #7f7f7f\">              </span>│\n",
       "│<span style=\"color: #7f7f7f; text-decoration-color: #7f7f7f\">                        </span>│<span style=\"color: #7f7f7f; text-decoration-color: #7f7f7f\">                         </span>│<span style=\"color: #7f7f7f; text-decoration-color: #7f7f7f\"> data', 'Design experiments', 'Evaluate model  </span>│<span style=\"color: #7f7f7f; text-decoration-color: #7f7f7f\">              </span>│\n",
       "│<span style=\"color: #7f7f7f; text-decoration-color: #7f7f7f\">                        </span>│<span style=\"color: #7f7f7f; text-decoration-color: #7f7f7f\">                         </span>│<span style=\"color: #7f7f7f; text-decoration-color: #7f7f7f\"> performance', 'Analyze results', 'Document    </span>│<span style=\"color: #7f7f7f; text-decoration-color: #7f7f7f\">              </span>│\n",
       "│<span style=\"color: #7f7f7f; text-decoration-color: #7f7f7f\">                        </span>│<span style=\"color: #7f7f7f; text-decoration-color: #7f7f7f\">                         </span>│<span style=\"color: #7f7f7f; text-decoration-color: #7f7f7f\"> findings', 'Ensure ethical considerations']   </span>│<span style=\"color: #7f7f7f; text-decoration-color: #7f7f7f\">              </span>│\n",
       "└────────────────────────┴─────────────────────────┴───────────────────────────────────────────────┴──────────────┘\n",
       "</pre>\n"
      ],
      "text/plain": [
       "┏━━━━━━━━━━━━━━━━━━━━━━━━┳━━━━━━━━━━━━━━━━━━━━━━━━━┳━━━━━━━━━━━━━━━━━━━━━━━━━━━━━━━━━━━━━━━━━━━━━━━┳━━━━━━━━━━━━━━┓\n",
       "┃\u001b[1;35m \u001b[0m\u001b[1;35mmodel.model           \u001b[0m\u001b[1;35m \u001b[0m┃\u001b[1;35m \u001b[0m\u001b[1;35mscenario.drafting_model\u001b[0m\u001b[1;35m \u001b[0m┃\u001b[1;35m \u001b[0m\u001b[1;35mscenario.content                             \u001b[0m\u001b[1;35m \u001b[0m┃\u001b[1;35m \u001b[0m\u001b[1;35manswer.score\u001b[0m\u001b[1;35m \u001b[0m┃\n",
       "┡━━━━━━━━━━━━━━━━━━━━━━━━╇━━━━━━━━━━━━━━━━━━━━━━━━━╇━━━━━━━━━━━━━━━━━━━━━━━━━━━━━━━━━━━━━━━━━━━━━━━╇━━━━━━━━━━━━━━┩\n",
       "│\u001b[2m \u001b[0m\u001b[2mclaude-3-opus-20240229\u001b[0m\u001b[2m \u001b[0m│\u001b[2m \u001b[0m\u001b[2mclaude-3-opus-20240229 \u001b[0m\u001b[2m \u001b[0m│\u001b[2m \u001b[0m\u001b[2m['Define research questions and hypotheses', \u001b[0m\u001b[2m \u001b[0m│\u001b[2m \u001b[0m\u001b[2m8           \u001b[0m\u001b[2m \u001b[0m│\n",
       "│\u001b[2m                        \u001b[0m│\u001b[2m                         \u001b[0m│\u001b[2m \u001b[0m\u001b[2m'Select appropriate language model(s)',      \u001b[0m\u001b[2m \u001b[0m│\u001b[2m              \u001b[0m│\n",
       "│\u001b[2m                        \u001b[0m│\u001b[2m                         \u001b[0m│\u001b[2m \u001b[0m\u001b[2m'Collect and preprocess data', 'Fine-tune and\u001b[0m\u001b[2m \u001b[0m│\u001b[2m              \u001b[0m│\n",
       "│\u001b[2m                        \u001b[0m│\u001b[2m                         \u001b[0m│\u001b[2m \u001b[0m\u001b[2mevaluate models', 'Analyze results and draw  \u001b[0m\u001b[2m \u001b[0m│\u001b[2m              \u001b[0m│\n",
       "│\u001b[2m                        \u001b[0m│\u001b[2m                         \u001b[0m│\u001b[2m \u001b[0m\u001b[2mconclusions', 'Document methodology and      \u001b[0m\u001b[2m \u001b[0m│\u001b[2m              \u001b[0m│\n",
       "│\u001b[2m                        \u001b[0m│\u001b[2m                         \u001b[0m│\u001b[2m \u001b[0m\u001b[2mfindings']                                   \u001b[0m\u001b[2m \u001b[0m│\u001b[2m              \u001b[0m│\n",
       "├────────────────────────┼─────────────────────────┼───────────────────────────────────────────────┼──────────────┤\n",
       "│\u001b[2m \u001b[0m\u001b[2mclaude-3-opus-20240229\u001b[0m\u001b[2m \u001b[0m│\u001b[2m \u001b[0m\u001b[2mgemini-pro             \u001b[0m\u001b[2m \u001b[0m│\u001b[2m \u001b[0m\u001b[2m['Define research objectives', 'Gather and   \u001b[0m\u001b[2m \u001b[0m│\u001b[2m \u001b[0m\u001b[2m8           \u001b[0m\u001b[2m \u001b[0m│\n",
       "│\u001b[2m                        \u001b[0m│\u001b[2m                         \u001b[0m│\u001b[2m \u001b[0m\u001b[2mprepare data', 'Select and train model',     \u001b[0m\u001b[2m \u001b[0m│\u001b[2m              \u001b[0m│\n",
       "│\u001b[2m                        \u001b[0m│\u001b[2m                         \u001b[0m│\u001b[2m \u001b[0m\u001b[2m'Evaluate model performance', 'Interpret and \u001b[0m\u001b[2m \u001b[0m│\u001b[2m              \u001b[0m│\n",
       "│\u001b[2m                        \u001b[0m│\u001b[2m                         \u001b[0m│\u001b[2m \u001b[0m\u001b[2mcommunicate results']                        \u001b[0m\u001b[2m \u001b[0m│\u001b[2m              \u001b[0m│\n",
       "├────────────────────────┼─────────────────────────┼───────────────────────────────────────────────┼──────────────┤\n",
       "│\u001b[2m \u001b[0m\u001b[2mclaude-3-opus-20240229\u001b[0m\u001b[2m \u001b[0m│\u001b[2m \u001b[0m\u001b[2mgpt-4o                 \u001b[0m\u001b[2m \u001b[0m│\u001b[2m \u001b[0m\u001b[2m['Define research objectives', 'Select the   \u001b[0m\u001b[2m \u001b[0m│\u001b[2m \u001b[0m\u001b[2m8           \u001b[0m\u001b[2m \u001b[0m│\n",
       "│\u001b[2m                        \u001b[0m│\u001b[2m                         \u001b[0m│\u001b[2m \u001b[0m\u001b[2mappropriate model', 'Prepare and preprocess  \u001b[0m\u001b[2m \u001b[0m│\u001b[2m              \u001b[0m│\n",
       "│\u001b[2m                        \u001b[0m│\u001b[2m                         \u001b[0m│\u001b[2m \u001b[0m\u001b[2mdata', 'Design experiments', 'Evaluate model \u001b[0m\u001b[2m \u001b[0m│\u001b[2m              \u001b[0m│\n",
       "│\u001b[2m                        \u001b[0m│\u001b[2m                         \u001b[0m│\u001b[2m \u001b[0m\u001b[2mperformance', 'Analyze results', 'Document   \u001b[0m\u001b[2m \u001b[0m│\u001b[2m              \u001b[0m│\n",
       "│\u001b[2m                        \u001b[0m│\u001b[2m                         \u001b[0m│\u001b[2m \u001b[0m\u001b[2mfindings', 'Ensure ethical considerations']  \u001b[0m\u001b[2m \u001b[0m│\u001b[2m              \u001b[0m│\n",
       "├────────────────────────┼─────────────────────────┼───────────────────────────────────────────────┼──────────────┤\n",
       "│\u001b[2m \u001b[0m\u001b[2mgemini-pro            \u001b[0m\u001b[2m \u001b[0m│\u001b[2m \u001b[0m\u001b[2mclaude-3-opus-20240229 \u001b[0m\u001b[2m \u001b[0m│\u001b[2m \u001b[0m\u001b[2m['Define research questions and hypotheses', \u001b[0m\u001b[2m \u001b[0m│\u001b[2m \u001b[0m\u001b[2m9           \u001b[0m\u001b[2m \u001b[0m│\n",
       "│\u001b[2m                        \u001b[0m│\u001b[2m                         \u001b[0m│\u001b[2m \u001b[0m\u001b[2m'Select appropriate language model(s)',      \u001b[0m\u001b[2m \u001b[0m│\u001b[2m              \u001b[0m│\n",
       "│\u001b[2m                        \u001b[0m│\u001b[2m                         \u001b[0m│\u001b[2m \u001b[0m\u001b[2m'Collect and preprocess data', 'Fine-tune and\u001b[0m\u001b[2m \u001b[0m│\u001b[2m              \u001b[0m│\n",
       "│\u001b[2m                        \u001b[0m│\u001b[2m                         \u001b[0m│\u001b[2m \u001b[0m\u001b[2mevaluate models', 'Analyze results and draw  \u001b[0m\u001b[2m \u001b[0m│\u001b[2m              \u001b[0m│\n",
       "│\u001b[2m                        \u001b[0m│\u001b[2m                         \u001b[0m│\u001b[2m \u001b[0m\u001b[2mconclusions', 'Document methodology and      \u001b[0m\u001b[2m \u001b[0m│\u001b[2m              \u001b[0m│\n",
       "│\u001b[2m                        \u001b[0m│\u001b[2m                         \u001b[0m│\u001b[2m \u001b[0m\u001b[2mfindings']                                   \u001b[0m\u001b[2m \u001b[0m│\u001b[2m              \u001b[0m│\n",
       "├────────────────────────┼─────────────────────────┼───────────────────────────────────────────────┼──────────────┤\n",
       "│\u001b[2m \u001b[0m\u001b[2mgemini-pro            \u001b[0m\u001b[2m \u001b[0m│\u001b[2m \u001b[0m\u001b[2mgemini-pro             \u001b[0m\u001b[2m \u001b[0m│\u001b[2m \u001b[0m\u001b[2m['Define research objectives', 'Gather and   \u001b[0m\u001b[2m \u001b[0m│\u001b[2m \u001b[0m\u001b[2m8           \u001b[0m\u001b[2m \u001b[0m│\n",
       "│\u001b[2m                        \u001b[0m│\u001b[2m                         \u001b[0m│\u001b[2m \u001b[0m\u001b[2mprepare data', 'Select and train model',     \u001b[0m\u001b[2m \u001b[0m│\u001b[2m              \u001b[0m│\n",
       "│\u001b[2m                        \u001b[0m│\u001b[2m                         \u001b[0m│\u001b[2m \u001b[0m\u001b[2m'Evaluate model performance', 'Interpret and \u001b[0m\u001b[2m \u001b[0m│\u001b[2m              \u001b[0m│\n",
       "│\u001b[2m                        \u001b[0m│\u001b[2m                         \u001b[0m│\u001b[2m \u001b[0m\u001b[2mcommunicate results']                        \u001b[0m\u001b[2m \u001b[0m│\u001b[2m              \u001b[0m│\n",
       "├────────────────────────┼─────────────────────────┼───────────────────────────────────────────────┼──────────────┤\n",
       "│\u001b[2m \u001b[0m\u001b[2mgemini-pro            \u001b[0m\u001b[2m \u001b[0m│\u001b[2m \u001b[0m\u001b[2mgpt-4o                 \u001b[0m\u001b[2m \u001b[0m│\u001b[2m \u001b[0m\u001b[2m['Define research objectives', 'Select the   \u001b[0m\u001b[2m \u001b[0m│\u001b[2m \u001b[0m\u001b[2m8           \u001b[0m\u001b[2m \u001b[0m│\n",
       "│\u001b[2m                        \u001b[0m│\u001b[2m                         \u001b[0m│\u001b[2m \u001b[0m\u001b[2mappropriate model', 'Prepare and preprocess  \u001b[0m\u001b[2m \u001b[0m│\u001b[2m              \u001b[0m│\n",
       "│\u001b[2m                        \u001b[0m│\u001b[2m                         \u001b[0m│\u001b[2m \u001b[0m\u001b[2mdata', 'Design experiments', 'Evaluate model \u001b[0m\u001b[2m \u001b[0m│\u001b[2m              \u001b[0m│\n",
       "│\u001b[2m                        \u001b[0m│\u001b[2m                         \u001b[0m│\u001b[2m \u001b[0m\u001b[2mperformance', 'Analyze results', 'Document   \u001b[0m\u001b[2m \u001b[0m│\u001b[2m              \u001b[0m│\n",
       "│\u001b[2m                        \u001b[0m│\u001b[2m                         \u001b[0m│\u001b[2m \u001b[0m\u001b[2mfindings', 'Ensure ethical considerations']  \u001b[0m\u001b[2m \u001b[0m│\u001b[2m              \u001b[0m│\n",
       "├────────────────────────┼─────────────────────────┼───────────────────────────────────────────────┼──────────────┤\n",
       "│\u001b[2m \u001b[0m\u001b[2mgpt-4o                \u001b[0m\u001b[2m \u001b[0m│\u001b[2m \u001b[0m\u001b[2mclaude-3-opus-20240229 \u001b[0m\u001b[2m \u001b[0m│\u001b[2m \u001b[0m\u001b[2m['Define research questions and hypotheses', \u001b[0m\u001b[2m \u001b[0m│\u001b[2m \u001b[0m\u001b[2m9           \u001b[0m\u001b[2m \u001b[0m│\n",
       "│\u001b[2m                        \u001b[0m│\u001b[2m                         \u001b[0m│\u001b[2m \u001b[0m\u001b[2m'Select appropriate language model(s)',      \u001b[0m\u001b[2m \u001b[0m│\u001b[2m              \u001b[0m│\n",
       "│\u001b[2m                        \u001b[0m│\u001b[2m                         \u001b[0m│\u001b[2m \u001b[0m\u001b[2m'Collect and preprocess data', 'Fine-tune and\u001b[0m\u001b[2m \u001b[0m│\u001b[2m              \u001b[0m│\n",
       "│\u001b[2m                        \u001b[0m│\u001b[2m                         \u001b[0m│\u001b[2m \u001b[0m\u001b[2mevaluate models', 'Analyze results and draw  \u001b[0m\u001b[2m \u001b[0m│\u001b[2m              \u001b[0m│\n",
       "│\u001b[2m                        \u001b[0m│\u001b[2m                         \u001b[0m│\u001b[2m \u001b[0m\u001b[2mconclusions', 'Document methodology and      \u001b[0m\u001b[2m \u001b[0m│\u001b[2m              \u001b[0m│\n",
       "│\u001b[2m                        \u001b[0m│\u001b[2m                         \u001b[0m│\u001b[2m \u001b[0m\u001b[2mfindings']                                   \u001b[0m\u001b[2m \u001b[0m│\u001b[2m              \u001b[0m│\n",
       "├────────────────────────┼─────────────────────────┼───────────────────────────────────────────────┼──────────────┤\n",
       "│\u001b[2m \u001b[0m\u001b[2mgpt-4o                \u001b[0m\u001b[2m \u001b[0m│\u001b[2m \u001b[0m\u001b[2mgemini-pro             \u001b[0m\u001b[2m \u001b[0m│\u001b[2m \u001b[0m\u001b[2m['Define research objectives', 'Gather and   \u001b[0m\u001b[2m \u001b[0m│\u001b[2m \u001b[0m\u001b[2m8           \u001b[0m\u001b[2m \u001b[0m│\n",
       "│\u001b[2m                        \u001b[0m│\u001b[2m                         \u001b[0m│\u001b[2m \u001b[0m\u001b[2mprepare data', 'Select and train model',     \u001b[0m\u001b[2m \u001b[0m│\u001b[2m              \u001b[0m│\n",
       "│\u001b[2m                        \u001b[0m│\u001b[2m                         \u001b[0m│\u001b[2m \u001b[0m\u001b[2m'Evaluate model performance', 'Interpret and \u001b[0m\u001b[2m \u001b[0m│\u001b[2m              \u001b[0m│\n",
       "│\u001b[2m                        \u001b[0m│\u001b[2m                         \u001b[0m│\u001b[2m \u001b[0m\u001b[2mcommunicate results']                        \u001b[0m\u001b[2m \u001b[0m│\u001b[2m              \u001b[0m│\n",
       "├────────────────────────┼─────────────────────────┼───────────────────────────────────────────────┼──────────────┤\n",
       "│\u001b[2m \u001b[0m\u001b[2mgpt-4o                \u001b[0m\u001b[2m \u001b[0m│\u001b[2m \u001b[0m\u001b[2mgpt-4o                 \u001b[0m\u001b[2m \u001b[0m│\u001b[2m \u001b[0m\u001b[2m['Define research objectives', 'Select the   \u001b[0m\u001b[2m \u001b[0m│\u001b[2m \u001b[0m\u001b[2m8           \u001b[0m\u001b[2m \u001b[0m│\n",
       "│\u001b[2m                        \u001b[0m│\u001b[2m                         \u001b[0m│\u001b[2m \u001b[0m\u001b[2mappropriate model', 'Prepare and preprocess  \u001b[0m\u001b[2m \u001b[0m│\u001b[2m              \u001b[0m│\n",
       "│\u001b[2m                        \u001b[0m│\u001b[2m                         \u001b[0m│\u001b[2m \u001b[0m\u001b[2mdata', 'Design experiments', 'Evaluate model \u001b[0m\u001b[2m \u001b[0m│\u001b[2m              \u001b[0m│\n",
       "│\u001b[2m                        \u001b[0m│\u001b[2m                         \u001b[0m│\u001b[2m \u001b[0m\u001b[2mperformance', 'Analyze results', 'Document   \u001b[0m\u001b[2m \u001b[0m│\u001b[2m              \u001b[0m│\n",
       "│\u001b[2m                        \u001b[0m│\u001b[2m                         \u001b[0m│\u001b[2m \u001b[0m\u001b[2mfindings', 'Ensure ethical considerations']  \u001b[0m\u001b[2m \u001b[0m│\u001b[2m              \u001b[0m│\n",
       "└────────────────────────┴─────────────────────────┴───────────────────────────────────────────────┴──────────────┘\n"
      ]
     },
     "metadata": {},
     "output_type": "display_data"
    }
   ],
   "source": [
    "(\n",
    "    results.sort_by(\"drafting_model\")\n",
    "    .sort_by(\"model\")\n",
    "    .select(\"model\", \"drafting_model\", \"content\", \"score\")\n",
    "    .print(\n",
    "        pretty_labels={\n",
    "            \"model\": \"Critiquing model\",\n",
    "            \"drafting_model\": \"Drafing model\",\n",
    "            \"content\": \"Content\",\n",
    "            \"score\": \"Score\",\n",
    "        },\n",
    "        format=\"rich\",\n",
    "    )\n",
    ")"
   ]
  },
  {
   "cell_type": "markdown",
   "metadata": {},
   "source": [
    "## Analyzing results as datasets\n",
    "EDSL allows us to immediately begin analyzing model responses as datasets. Here we compare each model's score of its own content versus its scores for other models' content:"
   ]
  },
  {
   "cell_type": "code",
   "execution_count": 13,
   "metadata": {},
   "outputs": [],
   "source": [
    "import pandas as pd\n",
    "import numpy as np\n",
    "\n",
    "\n",
    "def compare(df):\n",
    "    df_copy = df.copy()\n",
    "\n",
    "    # Extract the models' self scores\n",
    "    self_scores = df[df[\"model\"] == df[\"drafting_model\"]][[\"model\", \"score\"]]\n",
    "    self_scores = self_scores.rename(columns={\"score\": \"self_score\"}).drop_duplicates()\n",
    "\n",
    "    # Merge the self scores\n",
    "    df_copy = df_copy.merge(self_scores, on=\"model\", how=\"left\")\n",
    "\n",
    "    # Compare the scores and self scores\n",
    "    conditions = [\n",
    "        df_copy[\"model\"] == df_copy[\"drafting_model\"],  # Self scoring\n",
    "        df_copy[\"score\"] < df_copy[\"self_score\"],  # Score lower than self score\n",
    "        df_copy[\"score\"] > df_copy[\"self_score\"],  # Score higher than self score\n",
    "    ]\n",
    "    choices = [\"Self score\", \"Lower\", \"Higher\"]\n",
    "\n",
    "    df_copy[\"comparison\"] = np.select(conditions, choices, default=\"Equal\")\n",
    "\n",
    "    return df_copy"
   ]
  },
  {
   "cell_type": "code",
   "execution_count": 14,
   "metadata": {},
   "outputs": [
    {
     "data": {
      "text/html": [
       "<div>\n",
       "<style scoped>\n",
       "    .dataframe tbody tr th:only-of-type {\n",
       "        vertical-align: middle;\n",
       "    }\n",
       "\n",
       "    .dataframe tbody tr th {\n",
       "        vertical-align: top;\n",
       "    }\n",
       "\n",
       "    .dataframe thead th {\n",
       "        text-align: right;\n",
       "    }\n",
       "</style>\n",
       "<table border=\"1\" class=\"dataframe\">\n",
       "  <thead>\n",
       "    <tr style=\"text-align: right;\">\n",
       "      <th></th>\n",
       "      <th>model</th>\n",
       "      <th>drafting_model</th>\n",
       "      <th>score</th>\n",
       "      <th>comparison</th>\n",
       "    </tr>\n",
       "  </thead>\n",
       "  <tbody>\n",
       "    <tr>\n",
       "      <th>8</th>\n",
       "      <td>claude-3-opus-20240229</td>\n",
       "      <td>claude-3-opus-20240229</td>\n",
       "      <td>8</td>\n",
       "      <td>Self score</td>\n",
       "    </tr>\n",
       "    <tr>\n",
       "      <th>5</th>\n",
       "      <td>claude-3-opus-20240229</td>\n",
       "      <td>gemini-pro</td>\n",
       "      <td>8</td>\n",
       "      <td>Equal</td>\n",
       "    </tr>\n",
       "    <tr>\n",
       "      <th>2</th>\n",
       "      <td>claude-3-opus-20240229</td>\n",
       "      <td>gpt-4o</td>\n",
       "      <td>8</td>\n",
       "      <td>Equal</td>\n",
       "    </tr>\n",
       "    <tr>\n",
       "      <th>7</th>\n",
       "      <td>gemini-pro</td>\n",
       "      <td>claude-3-opus-20240229</td>\n",
       "      <td>9</td>\n",
       "      <td>Higher</td>\n",
       "    </tr>\n",
       "    <tr>\n",
       "      <th>4</th>\n",
       "      <td>gemini-pro</td>\n",
       "      <td>gemini-pro</td>\n",
       "      <td>8</td>\n",
       "      <td>Self score</td>\n",
       "    </tr>\n",
       "    <tr>\n",
       "      <th>1</th>\n",
       "      <td>gemini-pro</td>\n",
       "      <td>gpt-4o</td>\n",
       "      <td>8</td>\n",
       "      <td>Equal</td>\n",
       "    </tr>\n",
       "    <tr>\n",
       "      <th>6</th>\n",
       "      <td>gpt-4o</td>\n",
       "      <td>claude-3-opus-20240229</td>\n",
       "      <td>9</td>\n",
       "      <td>Higher</td>\n",
       "    </tr>\n",
       "    <tr>\n",
       "      <th>3</th>\n",
       "      <td>gpt-4o</td>\n",
       "      <td>gemini-pro</td>\n",
       "      <td>8</td>\n",
       "      <td>Equal</td>\n",
       "    </tr>\n",
       "    <tr>\n",
       "      <th>0</th>\n",
       "      <td>gpt-4o</td>\n",
       "      <td>gpt-4o</td>\n",
       "      <td>8</td>\n",
       "      <td>Self score</td>\n",
       "    </tr>\n",
       "  </tbody>\n",
       "</table>\n",
       "</div>"
      ],
      "text/plain": [
       "                    model          drafting_model  score  comparison\n",
       "8  claude-3-opus-20240229  claude-3-opus-20240229      8  Self score\n",
       "5  claude-3-opus-20240229              gemini-pro      8       Equal\n",
       "2  claude-3-opus-20240229                  gpt-4o      8       Equal\n",
       "7              gemini-pro  claude-3-opus-20240229      9      Higher\n",
       "4              gemini-pro              gemini-pro      8  Self score\n",
       "1              gemini-pro                  gpt-4o      8       Equal\n",
       "6                  gpt-4o  claude-3-opus-20240229      9      Higher\n",
       "3                  gpt-4o              gemini-pro      8       Equal\n",
       "0                  gpt-4o                  gpt-4o      8  Self score"
      ]
     },
     "execution_count": 14,
     "metadata": {},
     "output_type": "execute_result"
    }
   ],
   "source": [
    "df = results.to_pandas(remove_prefix=True)\n",
    "compare_df = compare(df)\n",
    "\n",
    "compare_df[[\"model\", \"drafting_model\", \"score\", \"comparison\"]].sort_values(\n",
    "    by=[\"model\", \"drafting_model\"]\n",
    ")"
   ]
  },
  {
   "cell_type": "code",
   "execution_count": 15,
   "metadata": {},
   "outputs": [],
   "source": [
    "import pandas as pd\n",
    "import numpy as np\n",
    "\n",
    "\n",
    "def summarize(df):\n",
    "    # Merge the self scores\n",
    "    df_self_scores = (\n",
    "        df[df[\"model\"] == df[\"drafting_model\"]]\n",
    "        .set_index(\"model\")[\"score\"]\n",
    "        .rename(\"self_score\")\n",
    "    )\n",
    "    df = df.merge(df_self_scores, on=\"model\", how=\"left\")\n",
    "\n",
    "    # Define the comparison logic\n",
    "    conditions = [\n",
    "        df[\"score\"] > df[\"self_score\"],\n",
    "        df[\"score\"] < df[\"self_score\"],\n",
    "        df[\"score\"] == df[\"self_score\"],\n",
    "    ]\n",
    "    choices = [\"better_models\", \"worse_models\", \"equal\"]\n",
    "    df[\"category\"] = np.select(conditions, choices)\n",
    "\n",
    "    # Create a df to summarize better, worse, and equal models for each model\n",
    "    summary_data = {\"model\": [], \"better_models\": [], \"worse_models\": [], \"equal\": []}\n",
    "\n",
    "    for model in df[\"model\"].unique():\n",
    "        model_data = df[df[\"model\"] == model]\n",
    "        summary_data[\"model\"].append(model)\n",
    "        summary_data[\"better_models\"].append(\n",
    "            model_data[model_data[\"category\"] == \"better_models\"][\n",
    "                \"drafting_model\"\n",
    "            ].tolist()\n",
    "        )\n",
    "        summary_data[\"worse_models\"].append(\n",
    "            model_data[model_data[\"category\"] == \"worse_models\"][\n",
    "                \"drafting_model\"\n",
    "            ].tolist()\n",
    "        )\n",
    "        summary_data[\"equal\"].append(\n",
    "            model_data[model_data[\"category\"] == \"equal\"][\"drafting_model\"].tolist()\n",
    "        )\n",
    "\n",
    "    # Convert the dictionary to a df\n",
    "    summary_df = pd.DataFrame(summary_data)\n",
    "    return summary_df"
   ]
  },
  {
   "cell_type": "code",
   "execution_count": 16,
   "metadata": {},
   "outputs": [
    {
     "data": {
      "text/html": [
       "<div>\n",
       "<style scoped>\n",
       "    .dataframe tbody tr th:only-of-type {\n",
       "        vertical-align: middle;\n",
       "    }\n",
       "\n",
       "    .dataframe tbody tr th {\n",
       "        vertical-align: top;\n",
       "    }\n",
       "\n",
       "    .dataframe thead th {\n",
       "        text-align: right;\n",
       "    }\n",
       "</style>\n",
       "<table border=\"1\" class=\"dataframe\">\n",
       "  <thead>\n",
       "    <tr style=\"text-align: right;\">\n",
       "      <th></th>\n",
       "      <th>model</th>\n",
       "      <th>better_models</th>\n",
       "      <th>worse_models</th>\n",
       "      <th>equal</th>\n",
       "    </tr>\n",
       "  </thead>\n",
       "  <tbody>\n",
       "    <tr>\n",
       "      <th>0</th>\n",
       "      <td>gpt-4o</td>\n",
       "      <td>[claude-3-opus-20240229]</td>\n",
       "      <td>[]</td>\n",
       "      <td>[gpt-4o, gemini-pro]</td>\n",
       "    </tr>\n",
       "    <tr>\n",
       "      <th>1</th>\n",
       "      <td>gemini-pro</td>\n",
       "      <td>[claude-3-opus-20240229]</td>\n",
       "      <td>[]</td>\n",
       "      <td>[gpt-4o, gemini-pro]</td>\n",
       "    </tr>\n",
       "    <tr>\n",
       "      <th>2</th>\n",
       "      <td>claude-3-opus-20240229</td>\n",
       "      <td>[]</td>\n",
       "      <td>[]</td>\n",
       "      <td>[gpt-4o, gemini-pro, claude-3-opus-20240229]</td>\n",
       "    </tr>\n",
       "  </tbody>\n",
       "</table>\n",
       "</div>"
      ],
      "text/plain": [
       "                    model             better_models worse_models  \\\n",
       "0                  gpt-4o  [claude-3-opus-20240229]           []   \n",
       "1              gemini-pro  [claude-3-opus-20240229]           []   \n",
       "2  claude-3-opus-20240229                        []           []   \n",
       "\n",
       "                                          equal  \n",
       "0                          [gpt-4o, gemini-pro]  \n",
       "1                          [gpt-4o, gemini-pro]  \n",
       "2  [gpt-4o, gemini-pro, claude-3-opus-20240229]  "
      ]
     },
     "execution_count": 16,
     "metadata": {},
     "output_type": "execute_result"
    }
   ],
   "source": [
    "df = results.to_pandas(remove_prefix=True)\n",
    "summary_df = summarize(df)\n",
    "\n",
    "summary_df"
   ]
  },
  {
   "cell_type": "markdown",
   "metadata": {},
   "source": [
    "## Further analysis\n",
    "This code is readily editable to compare results for other models and questions. It can also be expanded to compare responses among AI agents with different traits and personas that we prompt the models to use to answer the questions. Please see our docs for [details on designing AI agents](https://docs.expectedparrot.com/en/latest/agents.html) and using them to simulate responses for audiences of interest."
   ]
  },
  {
   "cell_type": "markdown",
   "metadata": {
    "editable": true,
    "slideshow": {
     "slide_type": ""
    },
    "tags": []
   },
   "source": [
    "## Posting to the Coop\n",
    "The [Coop](https://www.expectedparrot.com/explore) is a platform for creating, storing and sharing LLM-based research.\n",
    "It is fully integrated with EDSL and accessible from your workspace or Coop account page.\n",
    "Learn more about [creating an account](https://www.expectedparrot.com/login) and [using the Coop](https://docs.expectedparrot.com/en/latest/coop.html).\n",
    "\n",
    "Here we demonstrate how to post this notebook:"
   ]
  },
  {
   "cell_type": "code",
   "execution_count": 17,
   "metadata": {
    "editable": true,
    "slideshow": {
     "slide_type": ""
    },
    "tags": [
     "skip-execution"
    ]
   },
   "outputs": [],
   "source": [
    "from edsl import Notebook"
   ]
  },
  {
   "cell_type": "code",
   "execution_count": 18,
   "metadata": {
    "editable": true,
    "slideshow": {
     "slide_type": ""
    },
    "tags": [
     "skip-execution"
    ]
   },
   "outputs": [],
   "source": [
    "n = Notebook(path = \"comparing_model_responses.ipynb\")"
   ]
  },
  {
   "cell_type": "code",
   "execution_count": 19,
   "metadata": {
    "editable": true,
    "slideshow": {
     "slide_type": ""
    },
    "tags": [
     "skip-execution"
    ]
   },
   "outputs": [
    {
     "data": {
      "text/plain": [
       "{'description': 'Example code for comparing model responses',\n",
       " 'object_type': 'notebook',\n",
       " 'url': 'https://www.expectedparrot.com/content/520e5573-30f1-4c7a-a0ae-f2098ae90abf',\n",
       " 'uuid': '520e5573-30f1-4c7a-a0ae-f2098ae90abf',\n",
       " 'version': '0.1.33.dev1',\n",
       " 'visibility': 'public'}"
      ]
     },
     "execution_count": 19,
     "metadata": {},
     "output_type": "execute_result"
    }
   ],
   "source": [
    "n.push(description = \"Example code for comparing model responses\", visibility = \"public\")"
   ]
  },
  {
   "cell_type": "markdown",
   "metadata": {},
   "source": [
    "To update an object at the Coop:"
   ]
  },
  {
   "cell_type": "code",
   "execution_count": 20,
   "metadata": {
    "editable": true,
    "slideshow": {
     "slide_type": ""
    },
    "tags": [
     "skip-execution"
    ]
   },
   "outputs": [],
   "source": [
    "n = Notebook(path = \"comparing_model_responses.ipynb\") # resave"
   ]
  },
  {
   "cell_type": "code",
   "execution_count": 21,
   "metadata": {
    "editable": true,
    "slideshow": {
     "slide_type": ""
    },
    "tags": [
     "skip-execution"
    ]
   },
   "outputs": [
    {
     "data": {
      "text/plain": [
       "{'status': 'success'}"
      ]
     },
     "execution_count": 21,
     "metadata": {},
     "output_type": "execute_result"
    }
   ],
   "source": [
    "n.patch(uuid = \"520e5573-30f1-4c7a-a0ae-f2098ae90abf\", value = n)"
   ]
  }
 ],
 "metadata": {
  "deepnote_execution_queue": [],
  "deepnote_notebook_id": "6d1e666ba52649708894044c2a755567",
  "deepnote_persisted_session": {
   "createdAt": "2024-03-01T17:07:23.650Z"
  },
  "kernelspec": {
   "display_name": "Python 3 (ipykernel)",
   "language": "python",
   "name": "python3"
  },
  "language_info": {
   "codemirror_mode": {
    "name": "ipython",
    "version": 3
   },
   "file_extension": ".py",
   "mimetype": "text/x-python",
   "name": "python",
   "nbconvert_exporter": "python",
   "pygments_lexer": "ipython3",
   "version": "3.11.7"
  }
 },
 "nbformat": 4,
 "nbformat_minor": 4
}
