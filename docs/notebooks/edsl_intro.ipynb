{
 "cells": [
  {
   "cell_type": "markdown",
   "id": "e3d6e645-2d59-42f5-9b01-252abff36f4c",
   "metadata": {},
   "source": [
    "# Intro to EDSL\n",
    "This notebook provides example code for base components of [EDSL, an open-source library](https://github.com/expectedparrot/edsl) for simulating surveys, experiments and other research with AI agents and large language models. Details on the code below are provided in accompanying [slides: How to use EDSL](https://docs.google.com/presentation/d/10GxXhzu_TD09vN0gJhfne0Zum-GF5R-ppzTXb5IUKlU/edit?usp=sharing).\n",
    "\n",
    "## Technical setup\n",
    "Before running the code below, please ensure that you have [installed the EDSL library](https://docs.expectedparrot.com/en/latest/installation.html) and either [activated remote inference](https://docs.expectedparrot.com/en/latest/remote_inference.html) from your [Coop account](https://docs.expectedparrot.com/en/latest/coop.html) or [stored API keys](https://docs.expectedparrot.com/en/latest/api_keys.html) for the language models that you want to use with EDSL. \n",
    "\n",
    "## Documentation\n",
    "Please also see our [documentation page](https://docs.expectedparrot.com/) for tips, tutorials and more demo notebooks on using EDSL."
   ]
  },
  {
   "cell_type": "markdown",
   "id": "943c4147-7ea8-4953-9c8c-07f3c12d4726",
   "metadata": {},
   "source": [
    "## Simple example\n",
    "We start by [selecting a question type](https://docs.expectedparrot.com/en/latest/questions.html) and constructing a question in the relevant template:"
   ]
  },
  {
   "cell_type": "code",
   "execution_count": 1,
   "id": "6179718e-0add-4c41-b690-3eb81ce6e3ca",
   "metadata": {},
   "outputs": [],
   "source": [
    "from edsl import QuestionMultipleChoice\n",
    "\n",
    "q = QuestionMultipleChoice(\n",
    "    question_name = \"marvel_movies\",\n",
    "    question_text = \"Do you enjoy Marvel movies?\",\n",
    "    question_options = [\"Yes\", \"No\", \"I do not know\"]\n",
    ")"
   ]
  },
  {
   "cell_type": "markdown",
   "id": "f988b55f-1569-445a-87bc-0d1602b4ba14",
   "metadata": {},
   "source": [
    "We administer a question by calling the `run()` method. \n",
    "This generates a dataset of `Results` including the model's response to the question:"
   ]
  },
  {
   "cell_type": "code",
   "execution_count": 2,
   "id": "04a6ce5d-d1a9-48d6-862f-a818c0e3486c",
   "metadata": {},
   "outputs": [
    {
     "data": {
      "text/html": [
       "<pre style=\"white-space:pre;overflow-x:auto;line-height:normal;font-family:Menlo,'DejaVu Sans Mono',consolas,'Courier New',monospace\">┏━━━━━━━━━━━━━━━━┓\n",
       "┃<span style=\"color: #800080; text-decoration-color: #800080; font-weight: bold\"> answer         </span>┃\n",
       "┃<span style=\"color: #800080; text-decoration-color: #800080; font-weight: bold\"> .marvel_movies </span>┃\n",
       "┡━━━━━━━━━━━━━━━━┩\n",
       "│<span style=\"color: #7f7f7f; text-decoration-color: #7f7f7f\"> I do not know  </span>│\n",
       "└────────────────┘\n",
       "</pre>\n"
      ],
      "text/plain": [
       "┏━━━━━━━━━━━━━━━━┓\n",
       "┃\u001b[1;35m \u001b[0m\u001b[1;35manswer        \u001b[0m\u001b[1;35m \u001b[0m┃\n",
       "┃\u001b[1;35m \u001b[0m\u001b[1;35m.marvel_movies\u001b[0m\u001b[1;35m \u001b[0m┃\n",
       "┡━━━━━━━━━━━━━━━━┩\n",
       "│\u001b[2m \u001b[0m\u001b[2mI do not know \u001b[0m\u001b[2m \u001b[0m│\n",
       "└────────────────┘\n"
      ]
     },
     "metadata": {},
     "output_type": "display_data"
    }
   ],
   "source": [
    "results = q.run()\n",
    "\n",
    "results.select(\"marvel_movies\").print(format=\"rich\")"
   ]
  },
  {
   "cell_type": "markdown",
   "id": "b85c5d99-06e3-4ce9-a266-3448c58fb77e",
   "metadata": {},
   "source": [
    "## Designing AI agents\n",
    "We can [create personas for agents](https://docs.expectedparrot.com/en/latest/agents.html) to answer the question:"
   ]
  },
  {
   "cell_type": "code",
   "execution_count": 3,
   "id": "fb3bae2b-2aa0-4cdd-9acb-efe89bb409be",
   "metadata": {},
   "outputs": [],
   "source": [
    "from edsl import AgentList, Agent\n",
    "\n",
    "personas = [\"comic book collector\", \"movie critic\"]\n",
    "\n",
    "a = AgentList(\n",
    "    Agent(traits = {\"persona\": p}) for p in personas\n",
    ")"
   ]
  },
  {
   "cell_type": "markdown",
   "id": "aafdf590-0996-478c-b568-6dba2f45c3a3",
   "metadata": {},
   "source": [
    "## Selecting language models\n",
    "We can [select language models](https://docs.expectedparrot.com/en/latest/language_models.html) to generate the responses (in the example above we did not specify a model, so GPT 4 preview was used by default):"
   ]
  },
  {
   "cell_type": "code",
   "execution_count": 4,
   "id": "741e202a-7a90-4bc7-891d-11dbe489da9b",
   "metadata": {},
   "outputs": [],
   "source": [
    "from edsl import ModelList, Model\n",
    "\n",
    "models = [\"gpt-4o\", \"claude-3-5-sonnet-20240620\"]\n",
    "\n",
    "m = ModelList(\n",
    "    Model(m) for m in [\"gpt-4o\", \"claude-3-5-sonnet-20240620\"]\n",
    ")"
   ]
  },
  {
   "cell_type": "markdown",
   "id": "ae58cb3f-6088-4070-b85a-736dbca5cb31",
   "metadata": {},
   "source": [
    "## Generating results\n",
    "We add agents and models to a question when running it:"
   ]
  },
  {
   "cell_type": "code",
   "execution_count": 5,
   "id": "a3ccf07e-b4f9-4b85-9618-4358e874c35c",
   "metadata": {},
   "outputs": [
    {
     "data": {
      "text/html": [
       "<pre style=\"white-space:pre;overflow-x:auto;line-height:normal;font-family:Menlo,'DejaVu Sans Mono',consolas,'Courier New',monospace\">┏━━━━━━━━━━━━━━━━━━━━━━━━━━━━┳━━━━━━━━━━━━━━━━━━━━━━┳━━━━━━━━━━━━━━━━┓\n",
       "┃<span style=\"color: #800080; text-decoration-color: #800080; font-weight: bold\"> model                      </span>┃<span style=\"color: #800080; text-decoration-color: #800080; font-weight: bold\"> agent                </span>┃<span style=\"color: #800080; text-decoration-color: #800080; font-weight: bold\"> answer         </span>┃\n",
       "┃<span style=\"color: #800080; text-decoration-color: #800080; font-weight: bold\"> .model                     </span>┃<span style=\"color: #800080; text-decoration-color: #800080; font-weight: bold\"> .persona             </span>┃<span style=\"color: #800080; text-decoration-color: #800080; font-weight: bold\"> .marvel_movies </span>┃\n",
       "┡━━━━━━━━━━━━━━━━━━━━━━━━━━━━╇━━━━━━━━━━━━━━━━━━━━━━╇━━━━━━━━━━━━━━━━┩\n",
       "│<span style=\"color: #7f7f7f; text-decoration-color: #7f7f7f\"> gpt-4o                     </span>│<span style=\"color: #7f7f7f; text-decoration-color: #7f7f7f\"> comic book collector </span>│<span style=\"color: #7f7f7f; text-decoration-color: #7f7f7f\"> Yes            </span>│\n",
       "├────────────────────────────┼──────────────────────┼────────────────┤\n",
       "│<span style=\"color: #7f7f7f; text-decoration-color: #7f7f7f\"> claude-3-5-sonnet-20240620 </span>│<span style=\"color: #7f7f7f; text-decoration-color: #7f7f7f\"> comic book collector </span>│<span style=\"color: #7f7f7f; text-decoration-color: #7f7f7f\"> Yes            </span>│\n",
       "├────────────────────────────┼──────────────────────┼────────────────┤\n",
       "│<span style=\"color: #7f7f7f; text-decoration-color: #7f7f7f\"> gpt-4o                     </span>│<span style=\"color: #7f7f7f; text-decoration-color: #7f7f7f\"> movie critic         </span>│<span style=\"color: #7f7f7f; text-decoration-color: #7f7f7f\"> Yes            </span>│\n",
       "├────────────────────────────┼──────────────────────┼────────────────┤\n",
       "│<span style=\"color: #7f7f7f; text-decoration-color: #7f7f7f\"> claude-3-5-sonnet-20240620 </span>│<span style=\"color: #7f7f7f; text-decoration-color: #7f7f7f\"> movie critic         </span>│<span style=\"color: #7f7f7f; text-decoration-color: #7f7f7f\"> Yes            </span>│\n",
       "└────────────────────────────┴──────────────────────┴────────────────┘\n",
       "</pre>\n"
      ],
      "text/plain": [
       "┏━━━━━━━━━━━━━━━━━━━━━━━━━━━━┳━━━━━━━━━━━━━━━━━━━━━━┳━━━━━━━━━━━━━━━━┓\n",
       "┃\u001b[1;35m \u001b[0m\u001b[1;35mmodel                     \u001b[0m\u001b[1;35m \u001b[0m┃\u001b[1;35m \u001b[0m\u001b[1;35magent               \u001b[0m\u001b[1;35m \u001b[0m┃\u001b[1;35m \u001b[0m\u001b[1;35manswer        \u001b[0m\u001b[1;35m \u001b[0m┃\n",
       "┃\u001b[1;35m \u001b[0m\u001b[1;35m.model                    \u001b[0m\u001b[1;35m \u001b[0m┃\u001b[1;35m \u001b[0m\u001b[1;35m.persona            \u001b[0m\u001b[1;35m \u001b[0m┃\u001b[1;35m \u001b[0m\u001b[1;35m.marvel_movies\u001b[0m\u001b[1;35m \u001b[0m┃\n",
       "┡━━━━━━━━━━━━━━━━━━━━━━━━━━━━╇━━━━━━━━━━━━━━━━━━━━━━╇━━━━━━━━━━━━━━━━┩\n",
       "│\u001b[2m \u001b[0m\u001b[2mgpt-4o                    \u001b[0m\u001b[2m \u001b[0m│\u001b[2m \u001b[0m\u001b[2mcomic book collector\u001b[0m\u001b[2m \u001b[0m│\u001b[2m \u001b[0m\u001b[2mYes           \u001b[0m\u001b[2m \u001b[0m│\n",
       "├────────────────────────────┼──────────────────────┼────────────────┤\n",
       "│\u001b[2m \u001b[0m\u001b[2mclaude-3-5-sonnet-20240620\u001b[0m\u001b[2m \u001b[0m│\u001b[2m \u001b[0m\u001b[2mcomic book collector\u001b[0m\u001b[2m \u001b[0m│\u001b[2m \u001b[0m\u001b[2mYes           \u001b[0m\u001b[2m \u001b[0m│\n",
       "├────────────────────────────┼──────────────────────┼────────────────┤\n",
       "│\u001b[2m \u001b[0m\u001b[2mgpt-4o                    \u001b[0m\u001b[2m \u001b[0m│\u001b[2m \u001b[0m\u001b[2mmovie critic        \u001b[0m\u001b[2m \u001b[0m│\u001b[2m \u001b[0m\u001b[2mYes           \u001b[0m\u001b[2m \u001b[0m│\n",
       "├────────────────────────────┼──────────────────────┼────────────────┤\n",
       "│\u001b[2m \u001b[0m\u001b[2mclaude-3-5-sonnet-20240620\u001b[0m\u001b[2m \u001b[0m│\u001b[2m \u001b[0m\u001b[2mmovie critic        \u001b[0m\u001b[2m \u001b[0m│\u001b[2m \u001b[0m\u001b[2mYes           \u001b[0m\u001b[2m \u001b[0m│\n",
       "└────────────────────────────┴──────────────────────┴────────────────┘\n"
      ]
     },
     "metadata": {},
     "output_type": "display_data"
    }
   ],
   "source": [
    "results = q.by(a).by(m).run()\n",
    "\n",
    "results.select(\"model\", \"persona\", \"marvel_movies\").print(format=\"rich\")"
   ]
  },
  {
   "cell_type": "markdown",
   "id": "c1817b6e-341b-493c-8156-7fe634e2bc61",
   "metadata": {},
   "source": [
    "## Parameterizing questions\n",
    "We can use `Scenario` objects to [add data or content to questions](https://docs.expectedparrot.com/en/latest/scenarios.html):"
   ]
  },
  {
   "cell_type": "code",
   "execution_count": 6,
   "id": "72825f4e-31fd-47f2-9bcc-d3e8b88a5196",
   "metadata": {},
   "outputs": [],
   "source": [
    "q1 = QuestionMultipleChoice(\n",
    "    question_name = \"politically_motivated\",\n",
    "    question_text = \"\"\"\n",
    "    Read the following movie review and determine whether it is politically motivated.\n",
    "    Movie: {{ title }}\n",
    "    Review: {{ review }}\n",
    "    \"\"\",\n",
    "    question_options = [\"Yes\", \"No\", \"I do not know\"]\n",
    ")"
   ]
  },
  {
   "cell_type": "markdown",
   "id": "7feb7f9f-d48b-436f-8b93-b976973e1964",
   "metadata": {},
   "source": [
    "EDSL comes with [methods for generating scenarios from many data sources](https://docs.expectedparrot.com/en/latest/scenarios.html), including PDFs, CSVs, docs, images, tables, lists, dicts:"
   ]
  },
  {
   "cell_type": "code",
   "execution_count": 7,
   "id": "47d17b5f-4847-4f4b-82dd-b76045204961",
   "metadata": {},
   "outputs": [],
   "source": [
    "from edsl import Scenario\n",
    "\n",
    "example_review = {\n",
    "    \"year\": 2014,\n",
    "    \"title\": \"Captain America: The Winter Soldier\",\n",
    "    \"review\": \"\"\"\n",
    "    Part superhero flick, part 70s political thriller. \n",
    "    It's a bold mix that pays off, delivering a scathing \n",
    "    critique of surveillance states wrapped in spandex \n",
    "    and shield-throwing action.    \n",
    "    \"\"\"\n",
    "}\n",
    "\n",
    "s = Scenario.from_dict(example_review)"
   ]
  },
  {
   "cell_type": "code",
   "execution_count": 8,
   "id": "3cf68fa7-f276-4008-9201-27f8269a651c",
   "metadata": {},
   "outputs": [
    {
     "data": {
      "text/html": [
       "<pre style=\"white-space:pre;overflow-x:auto;line-height:normal;font-family:Menlo,'DejaVu Sans Mono',consolas,'Courier New',monospace\">┏━━━━━━━━━━━━━━━━━━━━━━━━━━━━┳━━━━━━━━━━┳━━━━━━━━━━━━━━━━━━━━━━━━━━━━━━━━━━━━━┳━━━━━━━━━━━━━━━━━━━━━━━━┓\n",
       "┃<span style=\"color: #800080; text-decoration-color: #800080; font-weight: bold\"> model                      </span>┃<span style=\"color: #800080; text-decoration-color: #800080; font-weight: bold\"> scenario </span>┃<span style=\"color: #800080; text-decoration-color: #800080; font-weight: bold\"> scenario                            </span>┃<span style=\"color: #800080; text-decoration-color: #800080; font-weight: bold\"> answer                 </span>┃\n",
       "┃<span style=\"color: #800080; text-decoration-color: #800080; font-weight: bold\"> .model                     </span>┃<span style=\"color: #800080; text-decoration-color: #800080; font-weight: bold\"> .year    </span>┃<span style=\"color: #800080; text-decoration-color: #800080; font-weight: bold\"> .title                              </span>┃<span style=\"color: #800080; text-decoration-color: #800080; font-weight: bold\"> .politically_motivated </span>┃\n",
       "┡━━━━━━━━━━━━━━━━━━━━━━━━━━━━╇━━━━━━━━━━╇━━━━━━━━━━━━━━━━━━━━━━━━━━━━━━━━━━━━━╇━━━━━━━━━━━━━━━━━━━━━━━━┩\n",
       "│<span style=\"color: #7f7f7f; text-decoration-color: #7f7f7f\"> claude-3-5-sonnet-20240620 </span>│<span style=\"color: #7f7f7f; text-decoration-color: #7f7f7f\"> 2014     </span>│<span style=\"color: #7f7f7f; text-decoration-color: #7f7f7f\"> Captain America: The Winter Soldier </span>│<span style=\"color: #7f7f7f; text-decoration-color: #7f7f7f\"> No                     </span>│\n",
       "├────────────────────────────┼──────────┼─────────────────────────────────────┼────────────────────────┤\n",
       "│<span style=\"color: #7f7f7f; text-decoration-color: #7f7f7f\"> gpt-4o                     </span>│<span style=\"color: #7f7f7f; text-decoration-color: #7f7f7f\"> 2014     </span>│<span style=\"color: #7f7f7f; text-decoration-color: #7f7f7f\"> Captain America: The Winter Soldier </span>│<span style=\"color: #7f7f7f; text-decoration-color: #7f7f7f\"> Yes                    </span>│\n",
       "└────────────────────────────┴──────────┴─────────────────────────────────────┴────────────────────────┘\n",
       "</pre>\n"
      ],
      "text/plain": [
       "┏━━━━━━━━━━━━━━━━━━━━━━━━━━━━┳━━━━━━━━━━┳━━━━━━━━━━━━━━━━━━━━━━━━━━━━━━━━━━━━━┳━━━━━━━━━━━━━━━━━━━━━━━━┓\n",
       "┃\u001b[1;35m \u001b[0m\u001b[1;35mmodel                     \u001b[0m\u001b[1;35m \u001b[0m┃\u001b[1;35m \u001b[0m\u001b[1;35mscenario\u001b[0m\u001b[1;35m \u001b[0m┃\u001b[1;35m \u001b[0m\u001b[1;35mscenario                           \u001b[0m\u001b[1;35m \u001b[0m┃\u001b[1;35m \u001b[0m\u001b[1;35manswer                \u001b[0m\u001b[1;35m \u001b[0m┃\n",
       "┃\u001b[1;35m \u001b[0m\u001b[1;35m.model                    \u001b[0m\u001b[1;35m \u001b[0m┃\u001b[1;35m \u001b[0m\u001b[1;35m.year   \u001b[0m\u001b[1;35m \u001b[0m┃\u001b[1;35m \u001b[0m\u001b[1;35m.title                             \u001b[0m\u001b[1;35m \u001b[0m┃\u001b[1;35m \u001b[0m\u001b[1;35m.politically_motivated\u001b[0m\u001b[1;35m \u001b[0m┃\n",
       "┡━━━━━━━━━━━━━━━━━━━━━━━━━━━━╇━━━━━━━━━━╇━━━━━━━━━━━━━━━━━━━━━━━━━━━━━━━━━━━━━╇━━━━━━━━━━━━━━━━━━━━━━━━┩\n",
       "│\u001b[2m \u001b[0m\u001b[2mclaude-3-5-sonnet-20240620\u001b[0m\u001b[2m \u001b[0m│\u001b[2m \u001b[0m\u001b[2m2014    \u001b[0m\u001b[2m \u001b[0m│\u001b[2m \u001b[0m\u001b[2mCaptain America: The Winter Soldier\u001b[0m\u001b[2m \u001b[0m│\u001b[2m \u001b[0m\u001b[2mNo                    \u001b[0m\u001b[2m \u001b[0m│\n",
       "├────────────────────────────┼──────────┼─────────────────────────────────────┼────────────────────────┤\n",
       "│\u001b[2m \u001b[0m\u001b[2mgpt-4o                    \u001b[0m\u001b[2m \u001b[0m│\u001b[2m \u001b[0m\u001b[2m2014    \u001b[0m\u001b[2m \u001b[0m│\u001b[2m \u001b[0m\u001b[2mCaptain America: The Winter Soldier\u001b[0m\u001b[2m \u001b[0m│\u001b[2m \u001b[0m\u001b[2mYes                   \u001b[0m\u001b[2m \u001b[0m│\n",
       "└────────────────────────────┴──────────┴─────────────────────────────────────┴────────────────────────┘\n"
      ]
     },
     "metadata": {},
     "output_type": "display_data"
    }
   ],
   "source": [
    "results = q1.by(s).by(a).by(m).run()\n",
    "\n",
    "(\n",
    "    results.filter(\"persona == 'movie critic'\")\n",
    "    .sort_by(\"model\")\n",
    "    .select(\"model\", \"year\", \"title\", \"politically_motivated\")\n",
    "    .print(format=\"rich\")\n",
    ")"
   ]
  },
  {
   "cell_type": "markdown",
   "id": "2661c963-05ca-4e8c-ad76-360ed72b5680",
   "metadata": {},
   "source": [
    "## Comments\n",
    "Questions automatically include a \"comment\" field.\n",
    "This can be useful for understanding the context of a response, or debugging a non-response."
   ]
  },
  {
   "cell_type": "code",
   "execution_count": 9,
   "id": "7ed7720d-5c2e-4437-b7ae-3b881620bbaa",
   "metadata": {},
   "outputs": [
    {
     "data": {
      "text/html": [
       "<pre style=\"white-space:pre;overflow-x:auto;line-height:normal;font-family:Menlo,'DejaVu Sans Mono',consolas,'Courier New',monospace\">┏━━━━━━━━━━━━━━━━━━━━━━━━━━━━┳━━━━━━━━━━━━━━━━━━━━━━━━┳━━━━━━━━━━━━━━━━━━━━━━━━━━━━━━━━━━━━━━━━━━━━━━━━━━━━━━━━━━━┓\n",
       "┃<span style=\"color: #800080; text-decoration-color: #800080; font-weight: bold\"> model                      </span>┃<span style=\"color: #800080; text-decoration-color: #800080; font-weight: bold\"> answer                 </span>┃<span style=\"color: #800080; text-decoration-color: #800080; font-weight: bold\"> comment                                                   </span>┃\n",
       "┃<span style=\"color: #800080; text-decoration-color: #800080; font-weight: bold\"> .model                     </span>┃<span style=\"color: #800080; text-decoration-color: #800080; font-weight: bold\"> .politically_motivated </span>┃<span style=\"color: #800080; text-decoration-color: #800080; font-weight: bold\"> .politically_motivated_comment                            </span>┃\n",
       "┡━━━━━━━━━━━━━━━━━━━━━━━━━━━━╇━━━━━━━━━━━━━━━━━━━━━━━━╇━━━━━━━━━━━━━━━━━━━━━━━━━━━━━━━━━━━━━━━━━━━━━━━━━━━━━━━━━━━┩\n",
       "│<span style=\"color: #7f7f7f; text-decoration-color: #7f7f7f\"> claude-3-5-sonnet-20240620 </span>│<span style=\"color: #7f7f7f; text-decoration-color: #7f7f7f\"> No                     </span>│<span style=\"color: #7f7f7f; text-decoration-color: #7f7f7f\"> This review appears to be a straightforward critique of   </span>│\n",
       "│<span style=\"color: #7f7f7f; text-decoration-color: #7f7f7f\">                            </span>│<span style=\"color: #7f7f7f; text-decoration-color: #7f7f7f\">                        </span>│<span style=\"color: #7f7f7f; text-decoration-color: #7f7f7f\"> the film's genre-blending and themes, without any overt   </span>│\n",
       "│<span style=\"color: #7f7f7f; text-decoration-color: #7f7f7f\">                            </span>│<span style=\"color: #7f7f7f; text-decoration-color: #7f7f7f\">                        </span>│<span style=\"color: #7f7f7f; text-decoration-color: #7f7f7f\"> political agenda or bias influencing the assessment.      </span>│\n",
       "├────────────────────────────┼────────────────────────┼───────────────────────────────────────────────────────────┤\n",
       "│<span style=\"color: #7f7f7f; text-decoration-color: #7f7f7f\"> gpt-4o                     </span>│<span style=\"color: #7f7f7f; text-decoration-color: #7f7f7f\"> Yes                    </span>│<span style=\"color: #7f7f7f; text-decoration-color: #7f7f7f\"> The review mentions a \"scathing critique of surveillance  </span>│\n",
       "│<span style=\"color: #7f7f7f; text-decoration-color: #7f7f7f\">                            </span>│<span style=\"color: #7f7f7f; text-decoration-color: #7f7f7f\">                        </span>│<span style=\"color: #7f7f7f; text-decoration-color: #7f7f7f\"> states,\" which indicates that the film's themes and the   </span>│\n",
       "│<span style=\"color: #7f7f7f; text-decoration-color: #7f7f7f\">                            </span>│<span style=\"color: #7f7f7f; text-decoration-color: #7f7f7f\">                        </span>│<span style=\"color: #7f7f7f; text-decoration-color: #7f7f7f\"> review itself have political undertones.                  </span>│\n",
       "└────────────────────────────┴────────────────────────┴───────────────────────────────────────────────────────────┘\n",
       "</pre>\n"
      ],
      "text/plain": [
       "┏━━━━━━━━━━━━━━━━━━━━━━━━━━━━┳━━━━━━━━━━━━━━━━━━━━━━━━┳━━━━━━━━━━━━━━━━━━━━━━━━━━━━━━━━━━━━━━━━━━━━━━━━━━━━━━━━━━━┓\n",
       "┃\u001b[1;35m \u001b[0m\u001b[1;35mmodel                     \u001b[0m\u001b[1;35m \u001b[0m┃\u001b[1;35m \u001b[0m\u001b[1;35manswer                \u001b[0m\u001b[1;35m \u001b[0m┃\u001b[1;35m \u001b[0m\u001b[1;35mcomment                                                  \u001b[0m\u001b[1;35m \u001b[0m┃\n",
       "┃\u001b[1;35m \u001b[0m\u001b[1;35m.model                    \u001b[0m\u001b[1;35m \u001b[0m┃\u001b[1;35m \u001b[0m\u001b[1;35m.politically_motivated\u001b[0m\u001b[1;35m \u001b[0m┃\u001b[1;35m \u001b[0m\u001b[1;35m.politically_motivated_comment                           \u001b[0m\u001b[1;35m \u001b[0m┃\n",
       "┡━━━━━━━━━━━━━━━━━━━━━━━━━━━━╇━━━━━━━━━━━━━━━━━━━━━━━━╇━━━━━━━━━━━━━━━━━━━━━━━━━━━━━━━━━━━━━━━━━━━━━━━━━━━━━━━━━━━┩\n",
       "│\u001b[2m \u001b[0m\u001b[2mclaude-3-5-sonnet-20240620\u001b[0m\u001b[2m \u001b[0m│\u001b[2m \u001b[0m\u001b[2mNo                    \u001b[0m\u001b[2m \u001b[0m│\u001b[2m \u001b[0m\u001b[2mThis review appears to be a straightforward critique of  \u001b[0m\u001b[2m \u001b[0m│\n",
       "│\u001b[2m                            \u001b[0m│\u001b[2m                        \u001b[0m│\u001b[2m \u001b[0m\u001b[2mthe film's genre-blending and themes, without any overt  \u001b[0m\u001b[2m \u001b[0m│\n",
       "│\u001b[2m                            \u001b[0m│\u001b[2m                        \u001b[0m│\u001b[2m \u001b[0m\u001b[2mpolitical agenda or bias influencing the assessment.     \u001b[0m\u001b[2m \u001b[0m│\n",
       "├────────────────────────────┼────────────────────────┼───────────────────────────────────────────────────────────┤\n",
       "│\u001b[2m \u001b[0m\u001b[2mgpt-4o                    \u001b[0m\u001b[2m \u001b[0m│\u001b[2m \u001b[0m\u001b[2mYes                   \u001b[0m\u001b[2m \u001b[0m│\u001b[2m \u001b[0m\u001b[2mThe review mentions a \"scathing critique of surveillance \u001b[0m\u001b[2m \u001b[0m│\n",
       "│\u001b[2m                            \u001b[0m│\u001b[2m                        \u001b[0m│\u001b[2m \u001b[0m\u001b[2mstates,\" which indicates that the film's themes and the  \u001b[0m\u001b[2m \u001b[0m│\n",
       "│\u001b[2m                            \u001b[0m│\u001b[2m                        \u001b[0m│\u001b[2m \u001b[0m\u001b[2mreview itself have political undertones.                 \u001b[0m\u001b[2m \u001b[0m│\n",
       "└────────────────────────────┴────────────────────────┴───────────────────────────────────────────────────────────┘\n"
      ]
     },
     "metadata": {},
     "output_type": "display_data"
    }
   ],
   "source": [
    "(\n",
    "    results.filter(\"persona == 'movie critic'\")\n",
    "    .sort_by(\"model\")\n",
    "    .select(\"model\", \"politically_motivated\", \"politically_motivated_comment\")\n",
    "    .print(format=\"rich\")\n",
    ")"
   ]
  },
  {
   "cell_type": "markdown",
   "id": "27e864b1-1651-4f95-bb94-73d4699192b8",
   "metadata": {},
   "source": [
    "## Combining questions in a survey\n",
    "We can [combine questions in a `Survey`](https://docs.expectedparrot.com/en/latest/surveys.html) to administer them together.\n",
    "Here we create some variations on the above question to compare responses:"
   ]
  },
  {
   "cell_type": "code",
   "execution_count": 10,
   "id": "c50bc0cd-e18e-4985-9e0e-5d92302356d0",
   "metadata": {},
   "outputs": [],
   "source": [
    "from edsl import QuestionYesNo\n",
    "\n",
    "q2 = QuestionYesNo(\n",
    "    question_name = \"yn\",\n",
    "    question_text = \"\"\"\n",
    "    Read the following movie review and determine whether it is politically motivated.\n",
    "    Movie: {{ title }}\n",
    "    Review: {{ review }}\n",
    "    \"\"\"\n",
    ")"
   ]
  },
  {
   "cell_type": "code",
   "execution_count": 11,
   "id": "42c7f350-699a-47a6-a216-09d6db15af8f",
   "metadata": {},
   "outputs": [],
   "source": [
    "from edsl import QuestionLinearScale\n",
    "\n",
    "q3 = QuestionLinearScale(\n",
    "    question_name = \"ls\",\n",
    "    question_text = \"\"\"\n",
    "    Read the following movie review and indicate whether it is politically motivated.\n",
    "    Movie: {{ title }}\n",
    "    Review: {{ review }}\n",
    "    \"\"\",\n",
    "    question_options = [0,1,2,3,4,5],\n",
    "    option_labels = {0:\"Not at all\", 5:\"Very much\"}\n",
    ")"
   ]
  },
  {
   "cell_type": "code",
   "execution_count": 12,
   "id": "7afa788b-d4fe-4cf3-abc8-0554707b6ca8",
   "metadata": {},
   "outputs": [],
   "source": [
    "from edsl import QuestionList\n",
    "\n",
    "q4 = QuestionList(\n",
    "    question_name = \"favorites\",\n",
    "    question_text = \"List your favorite Marvel movies.\",\n",
    "    max_list_items = 3\n",
    ")"
   ]
  },
  {
   "cell_type": "markdown",
   "id": "9415c681-f1d6-423f-bb23-d6cacff8f2e5",
   "metadata": {},
   "source": [
    "## Survey rules & logic\n",
    "We can [add skip/stop and other rules](https://docs.expectedparrot.com/en/latest/surveys.html), and \"memory\" of other questions in a survey:"
   ]
  },
  {
   "cell_type": "code",
   "execution_count": 13,
   "id": "6cf2afdf-0d13-4a38-8620-72fc302a92ad",
   "metadata": {},
   "outputs": [],
   "source": [
    "from edsl import Survey\n",
    "\n",
    "survey = Survey(questions = [q2, q3, q4])\n",
    "\n",
    "survey = survey.add_stop_rule(q3, \"ls < 3\")"
   ]
  },
  {
   "cell_type": "code",
   "execution_count": 14,
   "id": "9c8cf39f-db9a-4cf0-bc62-6d04ab51a6aa",
   "metadata": {},
   "outputs": [],
   "source": [
    "results = survey.by(s).by(a).by(m).run()"
   ]
  },
  {
   "cell_type": "code",
   "execution_count": 15,
   "id": "367f8bc5-0936-4fc1-8416-b8b4eafae804",
   "metadata": {},
   "outputs": [
    {
     "data": {
      "text/html": [
       "<pre style=\"white-space:pre;overflow-x:auto;line-height:normal;font-family:Menlo,'DejaVu Sans Mono',consolas,'Courier New',monospace\">┏━━━━━━━━━━━━━━━━━━━━━━━━┳━━━━━━━━━━━━━━━━━━━━━━┳━━━━━━━━━━━━━━━━┳━━━━━━━━━━━━━━━━━━━━━━┳━━━━━━━━━━━━━━━━━━━━━━━━━┓\n",
       "┃<span style=\"color: #800080; text-decoration-color: #800080; font-weight: bold\"> model.model            </span>┃<span style=\"color: #800080; text-decoration-color: #800080; font-weight: bold\"> agent.persona        </span>┃<span style=\"color: #800080; text-decoration-color: #800080; font-weight: bold\"> Yes/No version </span>┃<span style=\"color: #800080; text-decoration-color: #800080; font-weight: bold\"> Linear scale version </span>┃<span style=\"color: #800080; text-decoration-color: #800080; font-weight: bold\"> Favorites               </span>┃\n",
       "┡━━━━━━━━━━━━━━━━━━━━━━━━╇━━━━━━━━━━━━━━━━━━━━━━╇━━━━━━━━━━━━━━━━╇━━━━━━━━━━━━━━━━━━━━━━╇━━━━━━━━━━━━━━━━━━━━━━━━━┩\n",
       "│<span style=\"color: #7f7f7f; text-decoration-color: #7f7f7f\"> claude-3-5-sonnet-202… </span>│<span style=\"color: #7f7f7f; text-decoration-color: #7f7f7f\"> comic book collector </span>│<span style=\"color: #7f7f7f; text-decoration-color: #7f7f7f\"> No             </span>│<span style=\"color: #7f7f7f; text-decoration-color: #7f7f7f\"> 2                    </span>│<span style=\"color: #7f7f7f; text-decoration-color: #7f7f7f\"> None                    </span>│\n",
       "├────────────────────────┼──────────────────────┼────────────────┼──────────────────────┼─────────────────────────┤\n",
       "│<span style=\"color: #7f7f7f; text-decoration-color: #7f7f7f\"> gpt-4o                 </span>│<span style=\"color: #7f7f7f; text-decoration-color: #7f7f7f\"> comic book collector </span>│<span style=\"color: #7f7f7f; text-decoration-color: #7f7f7f\"> Yes            </span>│<span style=\"color: #7f7f7f; text-decoration-color: #7f7f7f\"> 3                    </span>│<span style=\"color: #7f7f7f; text-decoration-color: #7f7f7f\"> ['The Avengers',        </span>│\n",
       "│<span style=\"color: #7f7f7f; text-decoration-color: #7f7f7f\">                        </span>│<span style=\"color: #7f7f7f; text-decoration-color: #7f7f7f\">                      </span>│<span style=\"color: #7f7f7f; text-decoration-color: #7f7f7f\">                </span>│<span style=\"color: #7f7f7f; text-decoration-color: #7f7f7f\">                      </span>│<span style=\"color: #7f7f7f; text-decoration-color: #7f7f7f\"> 'Guardians of the       </span>│\n",
       "│<span style=\"color: #7f7f7f; text-decoration-color: #7f7f7f\">                        </span>│<span style=\"color: #7f7f7f; text-decoration-color: #7f7f7f\">                      </span>│<span style=\"color: #7f7f7f; text-decoration-color: #7f7f7f\">                </span>│<span style=\"color: #7f7f7f; text-decoration-color: #7f7f7f\">                      </span>│<span style=\"color: #7f7f7f; text-decoration-color: #7f7f7f\"> Galaxy', 'Spider-Man:   </span>│\n",
       "│<span style=\"color: #7f7f7f; text-decoration-color: #7f7f7f\">                        </span>│<span style=\"color: #7f7f7f; text-decoration-color: #7f7f7f\">                      </span>│<span style=\"color: #7f7f7f; text-decoration-color: #7f7f7f\">                </span>│<span style=\"color: #7f7f7f; text-decoration-color: #7f7f7f\">                      </span>│<span style=\"color: #7f7f7f; text-decoration-color: #7f7f7f\"> Into the Spider-Verse'] </span>│\n",
       "└────────────────────────┴──────────────────────┴────────────────┴──────────────────────┴─────────────────────────┘\n",
       "</pre>\n"
      ],
      "text/plain": [
       "┏━━━━━━━━━━━━━━━━━━━━━━━━┳━━━━━━━━━━━━━━━━━━━━━━┳━━━━━━━━━━━━━━━━┳━━━━━━━━━━━━━━━━━━━━━━┳━━━━━━━━━━━━━━━━━━━━━━━━━┓\n",
       "┃\u001b[1;35m \u001b[0m\u001b[1;35mmodel.model           \u001b[0m\u001b[1;35m \u001b[0m┃\u001b[1;35m \u001b[0m\u001b[1;35magent.persona       \u001b[0m\u001b[1;35m \u001b[0m┃\u001b[1;35m \u001b[0m\u001b[1;35mYes/No version\u001b[0m\u001b[1;35m \u001b[0m┃\u001b[1;35m \u001b[0m\u001b[1;35mLinear scale version\u001b[0m\u001b[1;35m \u001b[0m┃\u001b[1;35m \u001b[0m\u001b[1;35mFavorites              \u001b[0m\u001b[1;35m \u001b[0m┃\n",
       "┡━━━━━━━━━━━━━━━━━━━━━━━━╇━━━━━━━━━━━━━━━━━━━━━━╇━━━━━━━━━━━━━━━━╇━━━━━━━━━━━━━━━━━━━━━━╇━━━━━━━━━━━━━━━━━━━━━━━━━┩\n",
       "│\u001b[2m \u001b[0m\u001b[2mclaude-3-5-sonnet-202…\u001b[0m\u001b[2m \u001b[0m│\u001b[2m \u001b[0m\u001b[2mcomic book collector\u001b[0m\u001b[2m \u001b[0m│\u001b[2m \u001b[0m\u001b[2mNo            \u001b[0m\u001b[2m \u001b[0m│\u001b[2m \u001b[0m\u001b[2m2                   \u001b[0m\u001b[2m \u001b[0m│\u001b[2m \u001b[0m\u001b[2mNone                   \u001b[0m\u001b[2m \u001b[0m│\n",
       "├────────────────────────┼──────────────────────┼────────────────┼──────────────────────┼─────────────────────────┤\n",
       "│\u001b[2m \u001b[0m\u001b[2mgpt-4o                \u001b[0m\u001b[2m \u001b[0m│\u001b[2m \u001b[0m\u001b[2mcomic book collector\u001b[0m\u001b[2m \u001b[0m│\u001b[2m \u001b[0m\u001b[2mYes           \u001b[0m\u001b[2m \u001b[0m│\u001b[2m \u001b[0m\u001b[2m3                   \u001b[0m\u001b[2m \u001b[0m│\u001b[2m \u001b[0m\u001b[2m['The Avengers',       \u001b[0m\u001b[2m \u001b[0m│\n",
       "│\u001b[2m                        \u001b[0m│\u001b[2m                      \u001b[0m│\u001b[2m                \u001b[0m│\u001b[2m                      \u001b[0m│\u001b[2m \u001b[0m\u001b[2m'Guardians of the      \u001b[0m\u001b[2m \u001b[0m│\n",
       "│\u001b[2m                        \u001b[0m│\u001b[2m                      \u001b[0m│\u001b[2m                \u001b[0m│\u001b[2m                      \u001b[0m│\u001b[2m \u001b[0m\u001b[2mGalaxy', 'Spider-Man:  \u001b[0m\u001b[2m \u001b[0m│\n",
       "│\u001b[2m                        \u001b[0m│\u001b[2m                      \u001b[0m│\u001b[2m                \u001b[0m│\u001b[2m                      \u001b[0m│\u001b[2m \u001b[0m\u001b[2mInto the Spider-Verse']\u001b[0m\u001b[2m \u001b[0m│\n",
       "└────────────────────────┴──────────────────────┴────────────────┴──────────────────────┴─────────────────────────┘\n"
      ]
     },
     "metadata": {},
     "output_type": "display_data"
    }
   ],
   "source": [
    "(\n",
    "    results.filter(\"persona == 'comic book collector'\")\n",
    "    .select(\"model\", \"persona\", \"yn\", \"ls\", \"favorites\")\n",
    "    .print(pretty_labels = {\n",
    "        \"answer.yn\": \"Yes/No version\",\n",
    "        \"answer.ls\": \"Linear scale version\",\n",
    "        \"answer.favorites\": \"Favorites\"\n",
    "    }, format=\"rich\")\n",
    ")"
   ]
  },
  {
   "cell_type": "markdown",
   "id": "4c5d032d-87df-40d4-9e01-d7e86bf33010",
   "metadata": {},
   "source": [
    "## Working with results as datasets\n",
    "EDSL provides [built-in methods for analyzing results](https://docs.expectedparrot.com/en/latest/results.html), e.g., as SQL tables, dataframes:"
   ]
  },
  {
   "cell_type": "code",
   "execution_count": 16,
   "id": "261e72cc-1621-4370-bf39-e6163dd9b192",
   "metadata": {},
   "outputs": [
    {
     "data": {
      "text/html": [
       "<div>\n",
       "<style scoped>\n",
       "    .dataframe tbody tr th:only-of-type {\n",
       "        vertical-align: middle;\n",
       "    }\n",
       "\n",
       "    .dataframe tbody tr th {\n",
       "        vertical-align: top;\n",
       "    }\n",
       "\n",
       "    .dataframe thead th {\n",
       "        text-align: right;\n",
       "    }\n",
       "</style>\n",
       "<table border=\"1\" class=\"dataframe\">\n",
       "  <thead>\n",
       "    <tr style=\"text-align: right;\">\n",
       "      <th></th>\n",
       "      <th>model</th>\n",
       "      <th>persona</th>\n",
       "      <th>yn</th>\n",
       "      <th>ls</th>\n",
       "      <th>favorites</th>\n",
       "    </tr>\n",
       "  </thead>\n",
       "  <tbody>\n",
       "    <tr>\n",
       "      <th>0</th>\n",
       "      <td>claude-3-5-sonnet-20240620</td>\n",
       "      <td>comic book collector</td>\n",
       "      <td>No</td>\n",
       "      <td>2</td>\n",
       "      <td>None</td>\n",
       "    </tr>\n",
       "    <tr>\n",
       "      <th>1</th>\n",
       "      <td>claude-3-5-sonnet-20240620</td>\n",
       "      <td>movie critic</td>\n",
       "      <td>No</td>\n",
       "      <td>2</td>\n",
       "      <td>None</td>\n",
       "    </tr>\n",
       "    <tr>\n",
       "      <th>2</th>\n",
       "      <td>gpt-4o</td>\n",
       "      <td>comic book collector</td>\n",
       "      <td>Yes</td>\n",
       "      <td>3</td>\n",
       "      <td>['The Avengers', 'Guardians of the Galaxy', 'S...</td>\n",
       "    </tr>\n",
       "    <tr>\n",
       "      <th>3</th>\n",
       "      <td>gpt-4o</td>\n",
       "      <td>movie critic</td>\n",
       "      <td>Yes</td>\n",
       "      <td>3</td>\n",
       "      <td>['Iron Man', 'Black Panther', 'Avengers: Endga...</td>\n",
       "    </tr>\n",
       "  </tbody>\n",
       "</table>\n",
       "</div>"
      ],
      "text/plain": [
       "                        model               persona   yn  ls  \\\n",
       "0  claude-3-5-sonnet-20240620  comic book collector   No   2   \n",
       "1  claude-3-5-sonnet-20240620          movie critic   No   2   \n",
       "2                      gpt-4o  comic book collector  Yes   3   \n",
       "3                      gpt-4o          movie critic  Yes   3   \n",
       "\n",
       "                                           favorites  \n",
       "0                                               None  \n",
       "1                                               None  \n",
       "2  ['The Avengers', 'Guardians of the Galaxy', 'S...  \n",
       "3  ['Iron Man', 'Black Panther', 'Avengers: Endga...  "
      ]
     },
     "execution_count": 16,
     "metadata": {},
     "output_type": "execute_result"
    }
   ],
   "source": [
    "results.sql(\"select model, persona, yn, ls, favorites from self\", shape=\"wide\")"
   ]
  },
  {
   "cell_type": "code",
   "execution_count": 17,
   "id": "402d49ea-c040-482b-a223-9c8cdcaf1da5",
   "metadata": {},
   "outputs": [
    {
     "data": {
      "text/html": [
       "<div>\n",
       "<style scoped>\n",
       "    .dataframe tbody tr th:only-of-type {\n",
       "        vertical-align: middle;\n",
       "    }\n",
       "\n",
       "    .dataframe tbody tr th {\n",
       "        vertical-align: top;\n",
       "    }\n",
       "\n",
       "    .dataframe thead th {\n",
       "        text-align: right;\n",
       "    }\n",
       "</style>\n",
       "<table border=\"1\" class=\"dataframe\">\n",
       "  <thead>\n",
       "    <tr style=\"text-align: right;\">\n",
       "      <th></th>\n",
       "      <th>answer.ls</th>\n",
       "      <th>answer.yn</th>\n",
       "      <th>answer.favorites</th>\n",
       "      <th>scenario.year</th>\n",
       "      <th>scenario.review</th>\n",
       "      <th>scenario.title</th>\n",
       "      <th>agent.persona</th>\n",
       "      <th>agent.agent_instruction</th>\n",
       "      <th>agent.agent_name</th>\n",
       "      <th>model.temperature</th>\n",
       "      <th>...</th>\n",
       "      <th>question_options.favorites_question_options</th>\n",
       "      <th>question_type.favorites_question_type</th>\n",
       "      <th>question_type.ls_question_type</th>\n",
       "      <th>question_type.yn_question_type</th>\n",
       "      <th>comment.ls_comment</th>\n",
       "      <th>comment.yn_comment</th>\n",
       "      <th>comment.favorites_comment</th>\n",
       "      <th>generated_tokens.yn_generated_tokens</th>\n",
       "      <th>generated_tokens.favorites_generated_tokens</th>\n",
       "      <th>generated_tokens.ls_generated_tokens</th>\n",
       "    </tr>\n",
       "  </thead>\n",
       "  <tbody>\n",
       "    <tr>\n",
       "      <th>0</th>\n",
       "      <td>2</td>\n",
       "      <td>No</td>\n",
       "      <td>NaN</td>\n",
       "      <td>2014</td>\n",
       "      <td>\\n    Part superhero flick, part 70s political...</td>\n",
       "      <td>Captain America: The Winter Soldier</td>\n",
       "      <td>comic book collector</td>\n",
       "      <td>You are answering questions as if you were a h...</td>\n",
       "      <td>Agent_1</td>\n",
       "      <td>0.5</td>\n",
       "      <td>...</td>\n",
       "      <td>NaN</td>\n",
       "      <td>list</td>\n",
       "      <td>linear_scale</td>\n",
       "      <td>yes_no</td>\n",
       "      <td>As a comic book collector, I don't see this re...</td>\n",
       "      <td>Comment: As a comic book collector, I don't se...</td>\n",
       "      <td>Task was cancelled.</td>\n",
       "      <td>No\\n\\nComment: As a comic book collector, I do...</td>\n",
       "      <td>NaN</td>\n",
       "      <td>2\\n\\nAs a comic book collector, I don't see th...</td>\n",
       "    </tr>\n",
       "    <tr>\n",
       "      <th>1</th>\n",
       "      <td>2</td>\n",
       "      <td>No</td>\n",
       "      <td>NaN</td>\n",
       "      <td>2014</td>\n",
       "      <td>\\n    Part superhero flick, part 70s political...</td>\n",
       "      <td>Captain America: The Winter Soldier</td>\n",
       "      <td>movie critic</td>\n",
       "      <td>You are answering questions as if you were a h...</td>\n",
       "      <td>Agent_2</td>\n",
       "      <td>0.5</td>\n",
       "      <td>...</td>\n",
       "      <td>NaN</td>\n",
       "      <td>list</td>\n",
       "      <td>linear_scale</td>\n",
       "      <td>yes_no</td>\n",
       "      <td>While the review mentions political themes lik...</td>\n",
       "      <td>Comment: This review does not appear to be pol...</td>\n",
       "      <td>Task was cancelled.</td>\n",
       "      <td>No\\n\\nComment: This review does not appear to ...</td>\n",
       "      <td>NaN</td>\n",
       "      <td>2\\n\\nWhile the review mentions political theme...</td>\n",
       "    </tr>\n",
       "    <tr>\n",
       "      <th>2</th>\n",
       "      <td>3</td>\n",
       "      <td>Yes</td>\n",
       "      <td>['The Avengers', 'Guardians of the Galaxy', 'S...</td>\n",
       "      <td>2014</td>\n",
       "      <td>\\n    Part superhero flick, part 70s political...</td>\n",
       "      <td>Captain America: The Winter Soldier</td>\n",
       "      <td>comic book collector</td>\n",
       "      <td>You are answering questions as if you were a h...</td>\n",
       "      <td>Agent_1</td>\n",
       "      <td>0.5</td>\n",
       "      <td>...</td>\n",
       "      <td>NaN</td>\n",
       "      <td>list</td>\n",
       "      <td>linear_scale</td>\n",
       "      <td>yes_no</td>\n",
       "      <td>The review mentions the movie's critique of su...</td>\n",
       "      <td>The review mentions a \"scathing critique of su...</td>\n",
       "      <td>These movies capture the essence of Marvel's s...</td>\n",
       "      <td>Yes\\n\\nThe review mentions a \"scathing critiqu...</td>\n",
       "      <td>[\"The Avengers\", \"Guardians of the Galaxy\", \"S...</td>\n",
       "      <td>3\\n\\nThe review mentions the movie's critique ...</td>\n",
       "    </tr>\n",
       "    <tr>\n",
       "      <th>3</th>\n",
       "      <td>3</td>\n",
       "      <td>Yes</td>\n",
       "      <td>['Iron Man', 'Black Panther', 'Avengers: Endga...</td>\n",
       "      <td>2014</td>\n",
       "      <td>\\n    Part superhero flick, part 70s political...</td>\n",
       "      <td>Captain America: The Winter Soldier</td>\n",
       "      <td>movie critic</td>\n",
       "      <td>You are answering questions as if you were a h...</td>\n",
       "      <td>Agent_2</td>\n",
       "      <td>0.5</td>\n",
       "      <td>...</td>\n",
       "      <td>NaN</td>\n",
       "      <td>list</td>\n",
       "      <td>linear_scale</td>\n",
       "      <td>yes_no</td>\n",
       "      <td>The review highlights a \"scathing critique of ...</td>\n",
       "      <td>The review mentions that the movie delivers \"a...</td>\n",
       "      <td>These films stand out for their groundbreaking...</td>\n",
       "      <td>Yes\\n\\nThe review mentions that the movie deli...</td>\n",
       "      <td>[\"Iron Man\", \"Black Panther\", \"Avengers: Endga...</td>\n",
       "      <td>3\\n\\nThe review highlights a \"scathing critiqu...</td>\n",
       "    </tr>\n",
       "  </tbody>\n",
       "</table>\n",
       "<p>4 rows × 48 columns</p>\n",
       "</div>"
      ],
      "text/plain": [
       "   answer.ls answer.yn                                   answer.favorites  \\\n",
       "0          2        No                                                NaN   \n",
       "1          2        No                                                NaN   \n",
       "2          3       Yes  ['The Avengers', 'Guardians of the Galaxy', 'S...   \n",
       "3          3       Yes  ['Iron Man', 'Black Panther', 'Avengers: Endga...   \n",
       "\n",
       "   scenario.year                                    scenario.review  \\\n",
       "0           2014  \\n    Part superhero flick, part 70s political...   \n",
       "1           2014  \\n    Part superhero flick, part 70s political...   \n",
       "2           2014  \\n    Part superhero flick, part 70s political...   \n",
       "3           2014  \\n    Part superhero flick, part 70s political...   \n",
       "\n",
       "                        scenario.title         agent.persona  \\\n",
       "0  Captain America: The Winter Soldier  comic book collector   \n",
       "1  Captain America: The Winter Soldier          movie critic   \n",
       "2  Captain America: The Winter Soldier  comic book collector   \n",
       "3  Captain America: The Winter Soldier          movie critic   \n",
       "\n",
       "                             agent.agent_instruction agent.agent_name  \\\n",
       "0  You are answering questions as if you were a h...          Agent_1   \n",
       "1  You are answering questions as if you were a h...          Agent_2   \n",
       "2  You are answering questions as if you were a h...          Agent_1   \n",
       "3  You are answering questions as if you were a h...          Agent_2   \n",
       "\n",
       "   model.temperature  ...  question_options.favorites_question_options  \\\n",
       "0                0.5  ...                                          NaN   \n",
       "1                0.5  ...                                          NaN   \n",
       "2                0.5  ...                                          NaN   \n",
       "3                0.5  ...                                          NaN   \n",
       "\n",
       "   question_type.favorites_question_type  question_type.ls_question_type  \\\n",
       "0                                   list                    linear_scale   \n",
       "1                                   list                    linear_scale   \n",
       "2                                   list                    linear_scale   \n",
       "3                                   list                    linear_scale   \n",
       "\n",
       "   question_type.yn_question_type  \\\n",
       "0                          yes_no   \n",
       "1                          yes_no   \n",
       "2                          yes_no   \n",
       "3                          yes_no   \n",
       "\n",
       "                                  comment.ls_comment  \\\n",
       "0  As a comic book collector, I don't see this re...   \n",
       "1  While the review mentions political themes lik...   \n",
       "2  The review mentions the movie's critique of su...   \n",
       "3  The review highlights a \"scathing critique of ...   \n",
       "\n",
       "                                  comment.yn_comment  \\\n",
       "0  Comment: As a comic book collector, I don't se...   \n",
       "1  Comment: This review does not appear to be pol...   \n",
       "2  The review mentions a \"scathing critique of su...   \n",
       "3  The review mentions that the movie delivers \"a...   \n",
       "\n",
       "                           comment.favorites_comment  \\\n",
       "0                                Task was cancelled.   \n",
       "1                                Task was cancelled.   \n",
       "2  These movies capture the essence of Marvel's s...   \n",
       "3  These films stand out for their groundbreaking...   \n",
       "\n",
       "                generated_tokens.yn_generated_tokens  \\\n",
       "0  No\\n\\nComment: As a comic book collector, I do...   \n",
       "1  No\\n\\nComment: This review does not appear to ...   \n",
       "2  Yes\\n\\nThe review mentions a \"scathing critiqu...   \n",
       "3  Yes\\n\\nThe review mentions that the movie deli...   \n",
       "\n",
       "         generated_tokens.favorites_generated_tokens  \\\n",
       "0                                                NaN   \n",
       "1                                                NaN   \n",
       "2  [\"The Avengers\", \"Guardians of the Galaxy\", \"S...   \n",
       "3  [\"Iron Man\", \"Black Panther\", \"Avengers: Endga...   \n",
       "\n",
       "                generated_tokens.ls_generated_tokens  \n",
       "0  2\\n\\nAs a comic book collector, I don't see th...  \n",
       "1  2\\n\\nWhile the review mentions political theme...  \n",
       "2  3\\n\\nThe review mentions the movie's critique ...  \n",
       "3  3\\n\\nThe review highlights a \"scathing critiqu...  \n",
       "\n",
       "[4 rows x 48 columns]"
      ]
     },
     "execution_count": 17,
     "metadata": {},
     "output_type": "execute_result"
    }
   ],
   "source": [
    "results.to_pandas()"
   ]
  },
  {
   "cell_type": "code",
   "execution_count": 18,
   "id": "bbf612a1-c8f1-4680-b154-53b7ff6865f0",
   "metadata": {},
   "outputs": [],
   "source": [
    "results.to_csv(\"marvel_movies_survey.csv\")"
   ]
  },
  {
   "cell_type": "markdown",
   "id": "fbbd6d8b-16c0-4d3c-827e-d5403420434a",
   "metadata": {},
   "source": [
    "## Posting to the Coop"
   ]
  },
  {
   "cell_type": "code",
   "execution_count": 19,
   "id": "4f9772c7-f7e6-4e15-a360-dabe84529f55",
   "metadata": {
    "editable": true,
    "slideshow": {
     "slide_type": ""
    },
    "tags": [
     "skip-execution"
    ]
   },
   "outputs": [],
   "source": [
    "from edsl import Notebook"
   ]
  },
  {
   "cell_type": "code",
   "execution_count": 20,
   "id": "ab6a7452-3a82-4722-9d08-4d8e6a9230e9",
   "metadata": {
    "editable": true,
    "slideshow": {
     "slide_type": ""
    },
    "tags": [
     "skip-execution"
    ]
   },
   "outputs": [],
   "source": [
    "n = Notebook(path = \"edsl_intro.ipynb\")"
   ]
  },
  {
   "cell_type": "code",
   "execution_count": 21,
   "id": "5737e568-9129-4eb4-88c3-edbfc0d68d8b",
   "metadata": {
    "editable": true,
    "slideshow": {
     "slide_type": ""
    },
    "tags": [
     "skip-execution"
    ]
   },
   "outputs": [
    {
     "data": {
      "text/plain": [
       "{'description': 'Example survey: Using EDSL to analyze content',\n",
       " 'object_type': 'notebook',\n",
       " 'url': 'https://www.expectedparrot.com/content/b3c45b82-5d3a-4d79-9e00-0ce1f8b1ff65',\n",
       " 'uuid': 'b3c45b82-5d3a-4d79-9e00-0ce1f8b1ff65',\n",
       " 'version': '0.1.33.dev1',\n",
       " 'visibility': 'public'}"
      ]
     },
     "execution_count": 21,
     "metadata": {},
     "output_type": "execute_result"
    }
   ],
   "source": [
    "n.push(description = \"Example survey: Using EDSL to analyze content\", visibility = \"public\")"
   ]
  },
  {
   "cell_type": "markdown",
   "id": "0b09751d-6c73-4dc8-8c73-427c5c0d190f",
   "metadata": {},
   "source": [
    "To update an object at the Coop:"
   ]
  },
  {
   "cell_type": "code",
   "execution_count": 23,
   "id": "46a618fc-2935-45b2-9384-f3836d02085e",
   "metadata": {
    "editable": true,
    "slideshow": {
     "slide_type": ""
    },
    "tags": [
     "skip-execution"
    ]
   },
   "outputs": [],
   "source": [
    "n = Notebook(path = \"edsl_intro.ipynb\") # resave"
   ]
  },
  {
   "cell_type": "code",
   "execution_count": 24,
   "id": "a882006f-1393-4d41-84e2-71bf4ac709d9",
   "metadata": {
    "editable": true,
    "slideshow": {
     "slide_type": ""
    },
    "tags": [
     "skip-execution"
    ]
   },
   "outputs": [
    {
     "data": {
      "text/plain": [
       "{'status': 'success'}"
      ]
     },
     "execution_count": 24,
     "metadata": {},
     "output_type": "execute_result"
    }
   ],
   "source": [
    "n.patch(uuid = \"b3c45b82-5d3a-4d79-9e00-0ce1f8b1ff65\", value = n)"
   ]
  }
 ],
 "metadata": {
  "kernelspec": {
   "display_name": "Python 3 (ipykernel)",
   "language": "python",
   "name": "python3"
  },
  "language_info": {
   "codemirror_mode": {
    "name": "ipython",
    "version": 3
   },
   "file_extension": ".py",
   "mimetype": "text/x-python",
   "name": "python",
   "nbconvert_exporter": "python",
   "pygments_lexer": "ipython3",
   "version": "3.11.7"
  }
 },
 "nbformat": 4,
 "nbformat_minor": 5
}
