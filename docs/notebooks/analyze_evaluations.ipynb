{
 "cells": [
  {
   "cell_type": "markdown",
   "id": "5f7d91f1-d71a-4271-8d2b-0dc770d2deb3",
   "metadata": {
    "editable": true,
    "slideshow": {
     "slide_type": ""
    },
    "tags": []
   },
   "source": [
    "# Analyzing course evaluations\n",
    "This notebook provides sample [EDSL](https://pypi.org/project/edsl/) code for using a language model to analyze course evaluations. The analysis is designed as a survey of questions about the evaluations that we prompt an AI agent to answer, using a language model to generate the responses as a dataset.\n",
    "\n",
    "[EDSL is an open-source library](https://github.com/expectedparrot/edsl) for simulating surveys, experiments and other research with AI agents and large language models. \n",
    "Before running the code below, please ensure that you have [installed the EDSL library](https://docs.expectedparrot.com/en/latest/installation.html) and either [activated remote inference](https://docs.expectedparrot.com/en/latest/remote_inference.html) from your [Coop account](https://docs.expectedparrot.com/en/latest/coop.html) or [stored API keys](https://docs.expectedparrot.com/en/latest/api_keys.html) for the language models that you want to use with EDSL. Please also see our [documentation page](https://docs.expectedparrot.com/) for tips and tutorials on getting started using EDSL."
   ]
  },
  {
   "cell_type": "markdown",
   "id": "1e598a51-452b-4e58-9900-52f3f8701e0b",
   "metadata": {},
   "source": [
    "## Create questions\n",
    "We start by creating questions about a set of course evaluations for an agent to answer. EDSL comes with a [variety of question types](https://docs.expectedparrot.com/en/latest/questions.html) that we can choose from based on the form of the response that we want to get back from a model (multiple choice, linear scale, checkbox, free text, etc.). We can use a `{{ placeholder }}` in the question texts to parameterize them with each evaluation. This allows us to create different \"scenarios\" of the questions that we can administer at once."
   ]
  },
  {
   "cell_type": "markdown",
   "id": "1e5b3bc0-a7b0-423c-a889-44fcbd5284be",
   "metadata": {},
   "source": [
    "We start by importing some question types and composing questions in the relevant templates (see [examples of all types](https://docs.expectedparrot.com/en/latest/questions.html#question-type-classes) in the docs):"
   ]
  },
  {
   "cell_type": "code",
   "execution_count": 1,
   "id": "adb62f9a-55c9-41bf-8d5a-9230de19e85b",
   "metadata": {},
   "outputs": [],
   "source": [
    "from edsl import QuestionList, QuestionMultipleChoice"
   ]
  },
  {
   "cell_type": "code",
   "execution_count": 2,
   "id": "62069678-8864-4a9c-b505-0d107838549e",
   "metadata": {},
   "outputs": [],
   "source": [
    "q_sentiment = QuestionMultipleChoice(\n",
    "    question_name=\"sentiment\",\n",
    "    question_text=\"What is the overall sentiment of this evaluation: {{ evaluation }}\",\n",
    "    question_options=[\"Positive\", \"Neutral\", \"Negative\"],\n",
    ")\n",
    "\n",
    "q_themes = QuestionList(\n",
    "    question_name=\"themes\",\n",
    "    question_text=\"Summarize the key points of this evaluation: {{ evaluation }}\",\n",
    "    max_list_items=3,  # Optional\n",
    ")\n",
    "\n",
    "q_improvements = QuestionList(\n",
    "    question_name=\"improvements\",\n",
    "    question_text=\"Identify areas for improvement based on this evaluation: {{ evaluation }}\",\n",
    "    max_list_items=3,\n",
    ")"
   ]
  },
  {
   "cell_type": "markdown",
   "id": "d09e20f5-284b-4be4-827c-155916aa454c",
   "metadata": {},
   "source": [
    "## Construct a survey\n",
    "Next we combine our questions into a survey. This allows us to administer the questions asynchronously (by default), or according to any desired [survey logic or rules](https://docs.expectedparrot.com/en/latest/surveys.html) that we want to add, such as skip/stop rules or giving an agent \"memories\" of other questions in the survey. Here we create a simple asynchronous survey by passing the list of questions to a `Survey` object:"
   ]
  },
  {
   "cell_type": "code",
   "execution_count": 3,
   "id": "563a34b8-5a2f-4052-b977-7d6df824d723",
   "metadata": {},
   "outputs": [],
   "source": [
    "from edsl import Survey\n",
    "\n",
    "survey = Survey(questions=[q_sentiment, q_themes, q_improvements])"
   ]
  },
  {
   "cell_type": "markdown",
   "id": "cf8b238d-8771-4477-bab9-0c49fe6c9f4b",
   "metadata": {},
   "source": [
    "## Select data for review\n",
    "Next we identify the data to be analyzed. Here we use some mock evaluations for an Econ 101 course stored as a list of texts:"
   ]
  },
  {
   "cell_type": "code",
   "execution_count": 4,
   "id": "a1deaee8-4a95-4708-adcf-754032571652",
   "metadata": {},
   "outputs": [],
   "source": [
    "evaluations = [\n",
    "    \"I found the course very engaging and informative. The professor did an excellent job breaking down complex concepts, making them accessible to those of us new to economics. However, the pace was a bit fast, and I sometimes struggled to keep up with the weekly readings.\",\n",
    "    \"This class was a struggle for me. The material felt dry and difficult to connect with real-world applications, which I think could have made it more interesting. More examples from current events would definitely have helped spark my interest.\",\n",
    "    \"Excellent introductory course! The professor was enthusiastic and always willing to offer extra help during office hours. The interactive lectures and the practical assignments made the theory much more digestible and engaging.\",\n",
    "    \"As someone with a strong background in math, I appreciated the analytical rigor of this course. However, I wish there had been more discussions that connected the theories we learned to everyday economic issues. It felt a bit isolated from practical realities at times.\",\n",
    "    \"I enjoyed the course, especially the group projects, which were both challenging and rewarding. It was great to apply economic concepts to solve real-life problems. I did feel, however, that the feedback on assignments could be more detailed to help us understand our mistakes.\",\n",
    "    \"The course content was well-organized, but the lectures were somewhat monotonous and hard to follow. I would suggest incorporating more visual aids and maybe some guest lectures from industry professionals to liven up the sessions.\",\n",
    "    \"This was my favorite class this semester! The mix of theory and case studies was perfect, and the exams were fair. I also really appreciated the diversity of perspectives we explored in class, especially in terms of global economic policies.\",\n",
    "    \"I found the textbook to be overly complex for an introductory course. It often used jargon that hadn't been explained in lectures, which was confusing. Simpler reading materials or more explanatory lectures would make a big difference for newcomers to economics.\",\n",
    "    \"The professor was knowledgeable and clearly passionate about economics, but I felt the course relied too heavily on tests rather than more creative forms of assessment. More varied assignments would make the course more accessible to students with different learning styles.\",\n",
    "    \"This class was a solid introduction to economics, though it leaned heavily on theoretical aspects. I would have liked more opportunities to discuss the real-world implications of economic theories, which I believe would enhance understanding and retention of the material.\",\n",
    "]"
   ]
  },
  {
   "cell_type": "markdown",
   "id": "d9e3b6a6-af89-428e-82ad-829374cc4d5d",
   "metadata": {},
   "source": [
    "## Add data to the questions\n",
    "Next we create a `ScenarioList` with a `Scenario` containing a key/value for each evaluation that we will add to the questions when we run the survey. EDSL provides [methods for generating scenarios from many data sources](https://docs.expectedparrot.com/en/latest/scenarios.html) (PDFs, CSVs, images, tables, dicts, etc.); here we import a list and match the key to our question texts placeholder:"
   ]
  },
  {
   "cell_type": "code",
   "execution_count": 5,
   "id": "e4145046-278b-4c21-884f-6379108cb6d5",
   "metadata": {},
   "outputs": [],
   "source": [
    "from edsl import ScenarioList\n",
    "\n",
    "scenarios = ScenarioList.from_list(\"evaluation\", evaluations)"
   ]
  },
  {
   "cell_type": "markdown",
   "id": "66effed9-37e5-42c1-8853-65e036ffc127",
   "metadata": {},
   "source": [
    "## Design AI agents\n",
    "Next we design agents with relevant traits and personas for a language model to use in answering the questions. This can be useful if we want to compare responses among different audiences. We do this by passing dictionaries of `traits` to `Agent` objects. We can also choose whether to give an agent additional instructions for answering the survey (independent of individual question texts). Please see documentation for more [details and example code for creating agents to use with surveys](https://docs.expectedparrot.com/en/latest/agents.html).\n",
    "\n",
    "Here we create a persona for the professor of the course and pass it some special instructions:"
   ]
  },
  {
   "cell_type": "code",
   "execution_count": 6,
   "id": "dbc8f766-ce89-4824-8f23-18064ae2a732",
   "metadata": {},
   "outputs": [],
   "source": [
    "from edsl import Agent\n",
    "\n",
    "persona = \"You are a professor reviewing student evaluations for your recent Econ 101 course.\"\n",
    "instruction = \"Be very specific and constructive in providing feedback and suggestions.\"\n",
    "\n",
    "agent = Agent(traits={\"persona\": persona}, instruction=instruction)"
   ]
  },
  {
   "cell_type": "markdown",
   "id": "ded18cb2-99bb-4622-bcd5-1dd4ad2ec0c9",
   "metadata": {},
   "source": [
    "## Select language models\n",
    "[EDSL works with many popular language models](https://docs.expectedparrot.com/en/latest/language_models.html) that we can use to generate responses for our survey. We can see a current list of all available models:"
   ]
  },
  {
   "cell_type": "code",
   "execution_count": 7,
   "id": "d0af932e-a2de-48b2-afea-9960fde8b070",
   "metadata": {},
   "outputs": [],
   "source": [
    "from edsl import Model"
   ]
  },
  {
   "cell_type": "code",
   "execution_count": 8,
   "id": "368018f9-4979-4e63-9f48-fd1ab548d35a",
   "metadata": {},
   "outputs": [],
   "source": [
    "# Model.available() # uncomment and run to see the list"
   ]
  },
  {
   "cell_type": "markdown",
   "id": "7840e3d7-a6cd-4721-bd2d-b0875894c43c",
   "metadata": {},
   "source": [
    "We select models to use with a survey by creating `Model` objects for them. The default model is GPT 4 Preview, meaning that EDSL will use it to run our survey if we do not specify a different model. Here's we'll specify that GPT 4o should be used:"
   ]
  },
  {
   "cell_type": "code",
   "execution_count": 9,
   "id": "4d1b8189-289a-4dce-834d-95acf28c7524",
   "metadata": {},
   "outputs": [],
   "source": [
    "model = Model(\"gpt-4o\")"
   ]
  },
  {
   "cell_type": "markdown",
   "id": "2dab396d-c2fe-4827-8edd-24e9c807fe82",
   "metadata": {},
   "source": [
    "## Run the survey\n",
    "Next we add the scenarios and agent to the survey, and then run it with the specified model. This will generate a dataset of `Results` that we can store and begin analyzing:"
   ]
  },
  {
   "cell_type": "code",
   "execution_count": 10,
   "id": "98980a22-aafd-40f3-b9c0-c2e3de35e320",
   "metadata": {},
   "outputs": [],
   "source": [
    "results = survey.by(scenarios).by(agent).by(model).run(raise_validation_errors=True)"
   ]
  },
  {
   "cell_type": "markdown",
   "id": "5be23620-804f-4543-85c4-13d0ab9071b2",
   "metadata": {},
   "source": [
    "## Analyzing results\n",
    "EDSL comes with [built-in methods for analyzing results](https://docs.expectedparrot.com/en/latest/results.html) in data tables, dataframes, SQL queries and other formats. We can print a list of all the components that can be accessed. Here we will just look at the first 5:"
   ]
  },
  {
   "cell_type": "code",
   "execution_count": 11,
   "id": "0b06995d-fe20-4021-80ee-ca5f62111fa1",
   "metadata": {},
   "outputs": [
    {
     "data": {
      "text/plain": [
       "['agent.agent_instruction',\n",
       " 'agent.agent_name',\n",
       " 'agent.persona',\n",
       " 'answer.improvements',\n",
       " 'answer.sentiment']"
      ]
     },
     "execution_count": 11,
     "metadata": {},
     "output_type": "execute_result"
    }
   ],
   "source": [
    "results.columns[:5]"
   ]
  },
  {
   "cell_type": "markdown",
   "id": "fc7edae4-b34e-417f-9526-1ca0dea2a30b",
   "metadata": {},
   "source": [
    "For example, we can transform the results into a dataframe:"
   ]
  },
  {
   "cell_type": "code",
   "execution_count": 12,
   "id": "d58fab0f-abb9-40be-840d-2ecc6f67138a",
   "metadata": {},
   "outputs": [
    {
     "data": {
      "text/html": [
       "<div>\n",
       "<style scoped>\n",
       "    .dataframe tbody tr th:only-of-type {\n",
       "        vertical-align: middle;\n",
       "    }\n",
       "\n",
       "    .dataframe tbody tr th {\n",
       "        vertical-align: top;\n",
       "    }\n",
       "\n",
       "    .dataframe thead th {\n",
       "        text-align: right;\n",
       "    }\n",
       "</style>\n",
       "<table border=\"1\" class=\"dataframe\">\n",
       "  <thead>\n",
       "    <tr style=\"text-align: right;\">\n",
       "      <th></th>\n",
       "      <th>answer.improvements</th>\n",
       "      <th>answer.sentiment</th>\n",
       "      <th>answer.themes</th>\n",
       "      <th>scenario.evaluation</th>\n",
       "      <th>agent.agent_name</th>\n",
       "      <th>agent.persona</th>\n",
       "      <th>agent.agent_instruction</th>\n",
       "      <th>model.max_tokens</th>\n",
       "      <th>model.temperature</th>\n",
       "      <th>model.frequency_penalty</th>\n",
       "      <th>...</th>\n",
       "      <th>question_options.themes_question_options</th>\n",
       "      <th>question_options.improvements_question_options</th>\n",
       "      <th>question_options.sentiment_question_options</th>\n",
       "      <th>question_type.sentiment_question_type</th>\n",
       "      <th>question_type.improvements_question_type</th>\n",
       "      <th>question_type.themes_question_type</th>\n",
       "      <th>comment.k_comment</th>\n",
       "      <th>generated_tokens.improvements_generated_tokens</th>\n",
       "      <th>generated_tokens.sentiment_generated_tokens</th>\n",
       "      <th>generated_tokens.themes_generated_tokens</th>\n",
       "    </tr>\n",
       "  </thead>\n",
       "  <tbody>\n",
       "    <tr>\n",
       "      <th>0</th>\n",
       "      <td>['Incorporate more real-world examples', 'Rela...</td>\n",
       "      <td>Negative</td>\n",
       "      <td>['Material felt dry', 'Difficult to connect wi...</td>\n",
       "      <td>This class was a struggle for me. The material...</td>\n",
       "      <td>Agent_0</td>\n",
       "      <td>You are a professor reviewing student evaluati...</td>\n",
       "      <td>Be very specific and constructive in providing...</td>\n",
       "      <td>1000</td>\n",
       "      <td>0.5</td>\n",
       "      <td>0</td>\n",
       "      <td>...</td>\n",
       "      <td>NaN</td>\n",
       "      <td>NaN</td>\n",
       "      <td>['Positive', 'Neutral', 'Negative']</td>\n",
       "      <td>multiple_choice</td>\n",
       "      <td>list</td>\n",
       "      <td>list</td>\n",
       "      <td>These suggestions are aimed at making the mate...</td>\n",
       "      <td>[\"Incorporate more real-world examples\", \"Rela...</td>\n",
       "      <td>Negative\\n\\nThe student describes the class as...</td>\n",
       "      <td>[\"Material felt dry\", \"Difficult to connect wi...</td>\n",
       "    </tr>\n",
       "    <tr>\n",
       "      <th>1</th>\n",
       "      <td>['Incorporate more visual aids into lectures',...</td>\n",
       "      <td>Neutral</td>\n",
       "      <td>['Well-organized course content', 'Monotonous ...</td>\n",
       "      <td>The course content was well-organized, but the...</td>\n",
       "      <td>Agent_0</td>\n",
       "      <td>You are a professor reviewing student evaluati...</td>\n",
       "      <td>Be very specific and constructive in providing...</td>\n",
       "      <td>1000</td>\n",
       "      <td>0.5</td>\n",
       "      <td>0</td>\n",
       "      <td>...</td>\n",
       "      <td>NaN</td>\n",
       "      <td>NaN</td>\n",
       "      <td>['Positive', 'Neutral', 'Negative']</td>\n",
       "      <td>multiple_choice</td>\n",
       "      <td>list</td>\n",
       "      <td>list</td>\n",
       "      <td>These suggestions directly address the feedbac...</td>\n",
       "      <td>[\"Incorporate more visual aids into lectures\",...</td>\n",
       "      <td>Neutral\\n\\nThe evaluation acknowledges positiv...</td>\n",
       "      <td>[\"Well-organized course content\", \"Monotonous ...</td>\n",
       "    </tr>\n",
       "    <tr>\n",
       "      <th>2</th>\n",
       "      <td>['Provide more diverse examples in lectures', ...</td>\n",
       "      <td>Positive</td>\n",
       "      <td>['Enthusiastic professor', 'Helpful during off...</td>\n",
       "      <td>Excellent introductory course! The professor w...</td>\n",
       "      <td>Agent_0</td>\n",
       "      <td>You are a professor reviewing student evaluati...</td>\n",
       "      <td>Be very specific and constructive in providing...</td>\n",
       "      <td>1000</td>\n",
       "      <td>0.5</td>\n",
       "      <td>0</td>\n",
       "      <td>...</td>\n",
       "      <td>NaN</td>\n",
       "      <td>NaN</td>\n",
       "      <td>['Positive', 'Neutral', 'Negative']</td>\n",
       "      <td>multiple_choice</td>\n",
       "      <td>list</td>\n",
       "      <td>list</td>\n",
       "      <td>The evaluation is very positive, but to furthe...</td>\n",
       "      <td>[\"Provide more diverse examples in lectures\", ...</td>\n",
       "      <td>Positive\\n\\nThe evaluation highlights several ...</td>\n",
       "      <td>[\"Enthusiastic professor\", \"Helpful during off...</td>\n",
       "    </tr>\n",
       "    <tr>\n",
       "      <th>3</th>\n",
       "      <td>['Incorporate more real-world economic example...</td>\n",
       "      <td>Neutral</td>\n",
       "      <td>['Appreciated analytical rigor', 'Desire for m...</td>\n",
       "      <td>As someone with a strong background in math, I...</td>\n",
       "      <td>Agent_0</td>\n",
       "      <td>You are a professor reviewing student evaluati...</td>\n",
       "      <td>Be very specific and constructive in providing...</td>\n",
       "      <td>1000</td>\n",
       "      <td>0.5</td>\n",
       "      <td>0</td>\n",
       "      <td>...</td>\n",
       "      <td>NaN</td>\n",
       "      <td>NaN</td>\n",
       "      <td>['Positive', 'Neutral', 'Negative']</td>\n",
       "      <td>multiple_choice</td>\n",
       "      <td>list</td>\n",
       "      <td>list</td>\n",
       "      <td>These suggestions aim to bridge the gap betwee...</td>\n",
       "      <td>[\"Incorporate more real-world economic example...</td>\n",
       "      <td>Neutral\\n\\nThe student appreciates the analyti...</td>\n",
       "      <td>[\"Appreciated analytical rigor\", \"Desire for m...</td>\n",
       "    </tr>\n",
       "    <tr>\n",
       "      <th>4</th>\n",
       "      <td>['Increase opportunities for student participa...</td>\n",
       "      <td>Positive</td>\n",
       "      <td>['Perfect mix of theory and case studies', 'Fa...</td>\n",
       "      <td>This was my favorite class this semester! The ...</td>\n",
       "      <td>Agent_0</td>\n",
       "      <td>You are a professor reviewing student evaluati...</td>\n",
       "      <td>Be very specific and constructive in providing...</td>\n",
       "      <td>1000</td>\n",
       "      <td>0.5</td>\n",
       "      <td>0</td>\n",
       "      <td>...</td>\n",
       "      <td>NaN</td>\n",
       "      <td>NaN</td>\n",
       "      <td>['Positive', 'Neutral', 'Negative']</td>\n",
       "      <td>multiple_choice</td>\n",
       "      <td>list</td>\n",
       "      <td>list</td>\n",
       "      <td>These suggestions are aimed at enhancing the o...</td>\n",
       "      <td>[\"Increase opportunities for student participa...</td>\n",
       "      <td>Positive\\n\\nThe student expresses high satisfa...</td>\n",
       "      <td>[\"Perfect mix of theory and case studies\", \"Fa...</td>\n",
       "    </tr>\n",
       "  </tbody>\n",
       "</table>\n",
       "<p>5 rows × 44 columns</p>\n",
       "</div>"
      ],
      "text/plain": [
       "                                 answer.improvements answer.sentiment  \\\n",
       "0  ['Incorporate more real-world examples', 'Rela...         Negative   \n",
       "1  ['Incorporate more visual aids into lectures',...          Neutral   \n",
       "2  ['Provide more diverse examples in lectures', ...         Positive   \n",
       "3  ['Incorporate more real-world economic example...          Neutral   \n",
       "4  ['Increase opportunities for student participa...         Positive   \n",
       "\n",
       "                                       answer.themes  \\\n",
       "0  ['Material felt dry', 'Difficult to connect wi...   \n",
       "1  ['Well-organized course content', 'Monotonous ...   \n",
       "2  ['Enthusiastic professor', 'Helpful during off...   \n",
       "3  ['Appreciated analytical rigor', 'Desire for m...   \n",
       "4  ['Perfect mix of theory and case studies', 'Fa...   \n",
       "\n",
       "                                 scenario.evaluation agent.agent_name  \\\n",
       "0  This class was a struggle for me. The material...          Agent_0   \n",
       "1  The course content was well-organized, but the...          Agent_0   \n",
       "2  Excellent introductory course! The professor w...          Agent_0   \n",
       "3  As someone with a strong background in math, I...          Agent_0   \n",
       "4  This was my favorite class this semester! The ...          Agent_0   \n",
       "\n",
       "                                       agent.persona  \\\n",
       "0  You are a professor reviewing student evaluati...   \n",
       "1  You are a professor reviewing student evaluati...   \n",
       "2  You are a professor reviewing student evaluati...   \n",
       "3  You are a professor reviewing student evaluati...   \n",
       "4  You are a professor reviewing student evaluati...   \n",
       "\n",
       "                             agent.agent_instruction  model.max_tokens  \\\n",
       "0  Be very specific and constructive in providing...              1000   \n",
       "1  Be very specific and constructive in providing...              1000   \n",
       "2  Be very specific and constructive in providing...              1000   \n",
       "3  Be very specific and constructive in providing...              1000   \n",
       "4  Be very specific and constructive in providing...              1000   \n",
       "\n",
       "   model.temperature  model.frequency_penalty  ...  \\\n",
       "0                0.5                        0  ...   \n",
       "1                0.5                        0  ...   \n",
       "2                0.5                        0  ...   \n",
       "3                0.5                        0  ...   \n",
       "4                0.5                        0  ...   \n",
       "\n",
       "   question_options.themes_question_options  \\\n",
       "0                                       NaN   \n",
       "1                                       NaN   \n",
       "2                                       NaN   \n",
       "3                                       NaN   \n",
       "4                                       NaN   \n",
       "\n",
       "   question_options.improvements_question_options  \\\n",
       "0                                             NaN   \n",
       "1                                             NaN   \n",
       "2                                             NaN   \n",
       "3                                             NaN   \n",
       "4                                             NaN   \n",
       "\n",
       "   question_options.sentiment_question_options  \\\n",
       "0          ['Positive', 'Neutral', 'Negative']   \n",
       "1          ['Positive', 'Neutral', 'Negative']   \n",
       "2          ['Positive', 'Neutral', 'Negative']   \n",
       "3          ['Positive', 'Neutral', 'Negative']   \n",
       "4          ['Positive', 'Neutral', 'Negative']   \n",
       "\n",
       "  question_type.sentiment_question_type  \\\n",
       "0                       multiple_choice   \n",
       "1                       multiple_choice   \n",
       "2                       multiple_choice   \n",
       "3                       multiple_choice   \n",
       "4                       multiple_choice   \n",
       "\n",
       "   question_type.improvements_question_type  \\\n",
       "0                                      list   \n",
       "1                                      list   \n",
       "2                                      list   \n",
       "3                                      list   \n",
       "4                                      list   \n",
       "\n",
       "  question_type.themes_question_type  \\\n",
       "0                               list   \n",
       "1                               list   \n",
       "2                               list   \n",
       "3                               list   \n",
       "4                               list   \n",
       "\n",
       "                                   comment.k_comment  \\\n",
       "0  These suggestions are aimed at making the mate...   \n",
       "1  These suggestions directly address the feedbac...   \n",
       "2  The evaluation is very positive, but to furthe...   \n",
       "3  These suggestions aim to bridge the gap betwee...   \n",
       "4  These suggestions are aimed at enhancing the o...   \n",
       "\n",
       "      generated_tokens.improvements_generated_tokens  \\\n",
       "0  [\"Incorporate more real-world examples\", \"Rela...   \n",
       "1  [\"Incorporate more visual aids into lectures\",...   \n",
       "2  [\"Provide more diverse examples in lectures\", ...   \n",
       "3  [\"Incorporate more real-world economic example...   \n",
       "4  [\"Increase opportunities for student participa...   \n",
       "\n",
       "         generated_tokens.sentiment_generated_tokens  \\\n",
       "0  Negative\\n\\nThe student describes the class as...   \n",
       "1  Neutral\\n\\nThe evaluation acknowledges positiv...   \n",
       "2  Positive\\n\\nThe evaluation highlights several ...   \n",
       "3  Neutral\\n\\nThe student appreciates the analyti...   \n",
       "4  Positive\\n\\nThe student expresses high satisfa...   \n",
       "\n",
       "            generated_tokens.themes_generated_tokens  \n",
       "0  [\"Material felt dry\", \"Difficult to connect wi...  \n",
       "1  [\"Well-organized course content\", \"Monotonous ...  \n",
       "2  [\"Enthusiastic professor\", \"Helpful during off...  \n",
       "3  [\"Appreciated analytical rigor\", \"Desire for m...  \n",
       "4  [\"Perfect mix of theory and case studies\", \"Fa...  \n",
       "\n",
       "[5 rows x 44 columns]"
      ]
     },
     "execution_count": 12,
     "metadata": {},
     "output_type": "execute_result"
    }
   ],
   "source": [
    "df = results.to_pandas()\n",
    "df.head()"
   ]
  },
  {
   "cell_type": "markdown",
   "id": "72755341-f2fb-4b93-8467-3a0f57d429c3",
   "metadata": {},
   "source": [
    "Here we select just the responses to the questions and display them in a table:"
   ]
  },
  {
   "cell_type": "code",
   "execution_count": 13,
   "id": "8b105f11-0cb0-45af-a7e7-f77c6d5becd1",
   "metadata": {},
   "outputs": [
    {
     "data": {
      "text/html": [
       "<pre style=\"white-space:pre;overflow-x:auto;line-height:normal;font-family:Menlo,'DejaVu Sans Mono',consolas,'Courier New',monospace\">┏━━━━━━━━━━━━┳━━━━━━━━━━━━━━━━━━━━━━━━━━━━━━━━━┳━━━━━━━━━━━━━━━━━━━━━━━━━━━━━━━━┳━━━━━━━━━━━━━━━━━━━━━━━━━━━━━━━━━┓\n",
       "┃<span style=\"color: #800080; text-decoration-color: #800080; font-weight: bold\"> answer     </span>┃<span style=\"color: #800080; text-decoration-color: #800080; font-weight: bold\"> answer                          </span>┃<span style=\"color: #800080; text-decoration-color: #800080; font-weight: bold\"> generated_tokens               </span>┃<span style=\"color: #800080; text-decoration-color: #800080; font-weight: bold\"> answer                          </span>┃\n",
       "┃<span style=\"color: #800080; text-decoration-color: #800080; font-weight: bold\"> .sentiment </span>┃<span style=\"color: #800080; text-decoration-color: #800080; font-weight: bold\"> .themes                         </span>┃<span style=\"color: #800080; text-decoration-color: #800080; font-weight: bold\"> .themes_generated_tokens       </span>┃<span style=\"color: #800080; text-decoration-color: #800080; font-weight: bold\"> .improvements                   </span>┃\n",
       "┡━━━━━━━━━━━━╇━━━━━━━━━━━━━━━━━━━━━━━━━━━━━━━━━╇━━━━━━━━━━━━━━━━━━━━━━━━━━━━━━━━╇━━━━━━━━━━━━━━━━━━━━━━━━━━━━━━━━━┩\n",
       "│<span style=\"color: #7f7f7f; text-decoration-color: #7f7f7f\"> Negative   </span>│<span style=\"color: #7f7f7f; text-decoration-color: #7f7f7f\"> ['Material felt dry',           </span>│<span style=\"color: #7f7f7f; text-decoration-color: #7f7f7f\"> [\"Material felt dry\",          </span>│<span style=\"color: #7f7f7f; text-decoration-color: #7f7f7f\"> ['Incorporate more real-world   </span>│\n",
       "│<span style=\"color: #7f7f7f; text-decoration-color: #7f7f7f\">            </span>│<span style=\"color: #7f7f7f; text-decoration-color: #7f7f7f\"> 'Difficult to connect with      </span>│<span style=\"color: #7f7f7f; text-decoration-color: #7f7f7f\"> \"Difficult to connect with     </span>│<span style=\"color: #7f7f7f; text-decoration-color: #7f7f7f\"> examples', 'Relate material to  </span>│\n",
       "│<span style=\"color: #7f7f7f; text-decoration-color: #7f7f7f\">            </span>│<span style=\"color: #7f7f7f; text-decoration-color: #7f7f7f\"> real-world applications', 'More </span>│<span style=\"color: #7f7f7f; text-decoration-color: #7f7f7f\"> real-world applications\",      </span>│<span style=\"color: #7f7f7f; text-decoration-color: #7f7f7f\"> current events', 'Increase      </span>│\n",
       "│<span style=\"color: #7f7f7f; text-decoration-color: #7f7f7f\">            </span>│<span style=\"color: #7f7f7f; text-decoration-color: #7f7f7f\"> current event examples needed'] </span>│<span style=\"color: #7f7f7f; text-decoration-color: #7f7f7f\"> \"More current event examples   </span>│<span style=\"color: #7f7f7f; text-decoration-color: #7f7f7f\"> engagement with interactive     </span>│\n",
       "│<span style=\"color: #7f7f7f; text-decoration-color: #7f7f7f\">            </span>│<span style=\"color: #7f7f7f; text-decoration-color: #7f7f7f\">                                 </span>│<span style=\"color: #7f7f7f; text-decoration-color: #7f7f7f\"> needed\"]                       </span>│<span style=\"color: #7f7f7f; text-decoration-color: #7f7f7f\"> activities']                    </span>│\n",
       "│<span style=\"color: #7f7f7f; text-decoration-color: #7f7f7f\">            </span>│<span style=\"color: #7f7f7f; text-decoration-color: #7f7f7f\">                                 </span>│<span style=\"color: #7f7f7f; text-decoration-color: #7f7f7f\">                                </span>│<span style=\"color: #7f7f7f; text-decoration-color: #7f7f7f\">                                 </span>│\n",
       "│<span style=\"color: #7f7f7f; text-decoration-color: #7f7f7f\">            </span>│<span style=\"color: #7f7f7f; text-decoration-color: #7f7f7f\">                                 </span>│<span style=\"color: #7f7f7f; text-decoration-color: #7f7f7f\"> The student found the material </span>│<span style=\"color: #7f7f7f; text-decoration-color: #7f7f7f\">                                 </span>│\n",
       "│<span style=\"color: #7f7f7f; text-decoration-color: #7f7f7f\">            </span>│<span style=\"color: #7f7f7f; text-decoration-color: #7f7f7f\">                                 </span>│<span style=\"color: #7f7f7f; text-decoration-color: #7f7f7f\"> unengaging, struggled to see   </span>│<span style=\"color: #7f7f7f; text-decoration-color: #7f7f7f\">                                 </span>│\n",
       "│<span style=\"color: #7f7f7f; text-decoration-color: #7f7f7f\">            </span>│<span style=\"color: #7f7f7f; text-decoration-color: #7f7f7f\">                                 </span>│<span style=\"color: #7f7f7f; text-decoration-color: #7f7f7f\"> its relevance to real-world    </span>│<span style=\"color: #7f7f7f; text-decoration-color: #7f7f7f\">                                 </span>│\n",
       "│<span style=\"color: #7f7f7f; text-decoration-color: #7f7f7f\">            </span>│<span style=\"color: #7f7f7f; text-decoration-color: #7f7f7f\">                                 </span>│<span style=\"color: #7f7f7f; text-decoration-color: #7f7f7f\"> situations, and suggested that </span>│<span style=\"color: #7f7f7f; text-decoration-color: #7f7f7f\">                                 </span>│\n",
       "│<span style=\"color: #7f7f7f; text-decoration-color: #7f7f7f\">            </span>│<span style=\"color: #7f7f7f; text-decoration-color: #7f7f7f\">                                 </span>│<span style=\"color: #7f7f7f; text-decoration-color: #7f7f7f\"> incorporating examples from    </span>│<span style=\"color: #7f7f7f; text-decoration-color: #7f7f7f\">                                 </span>│\n",
       "│<span style=\"color: #7f7f7f; text-decoration-color: #7f7f7f\">            </span>│<span style=\"color: #7f7f7f; text-decoration-color: #7f7f7f\">                                 </span>│<span style=\"color: #7f7f7f; text-decoration-color: #7f7f7f\"> current events could enhance   </span>│<span style=\"color: #7f7f7f; text-decoration-color: #7f7f7f\">                                 </span>│\n",
       "│<span style=\"color: #7f7f7f; text-decoration-color: #7f7f7f\">            </span>│<span style=\"color: #7f7f7f; text-decoration-color: #7f7f7f\">                                 </span>│<span style=\"color: #7f7f7f; text-decoration-color: #7f7f7f\"> interest and understanding.    </span>│<span style=\"color: #7f7f7f; text-decoration-color: #7f7f7f\">                                 </span>│\n",
       "├────────────┼─────────────────────────────────┼────────────────────────────────┼─────────────────────────────────┤\n",
       "│<span style=\"color: #7f7f7f; text-decoration-color: #7f7f7f\"> Neutral    </span>│<span style=\"color: #7f7f7f; text-decoration-color: #7f7f7f\"> ['Well-organized course         </span>│<span style=\"color: #7f7f7f; text-decoration-color: #7f7f7f\"> [\"Well-organized course        </span>│<span style=\"color: #7f7f7f; text-decoration-color: #7f7f7f\"> ['Incorporate more visual aids  </span>│\n",
       "│<span style=\"color: #7f7f7f; text-decoration-color: #7f7f7f\">            </span>│<span style=\"color: #7f7f7f; text-decoration-color: #7f7f7f\"> content', 'Monotonous and       </span>│<span style=\"color: #7f7f7f; text-decoration-color: #7f7f7f\"> content\", \"Monotonous and      </span>│<span style=\"color: #7f7f7f; text-decoration-color: #7f7f7f\"> into lectures', 'Invite guest   </span>│\n",
       "│<span style=\"color: #7f7f7f; text-decoration-color: #7f7f7f\">            </span>│<span style=\"color: #7f7f7f; text-decoration-color: #7f7f7f\"> hard-to-follow lectures',       </span>│<span style=\"color: #7f7f7f; text-decoration-color: #7f7f7f\"> hard-to-follow lectures\",      </span>│<span style=\"color: #7f7f7f; text-decoration-color: #7f7f7f\"> lecturers from industry         </span>│\n",
       "│<span style=\"color: #7f7f7f; text-decoration-color: #7f7f7f\">            </span>│<span style=\"color: #7f7f7f; text-decoration-color: #7f7f7f\"> 'Suggestion for more visual     </span>│<span style=\"color: #7f7f7f; text-decoration-color: #7f7f7f\"> \"Suggestion for more visual    </span>│<span style=\"color: #7f7f7f; text-decoration-color: #7f7f7f\"> professionals', 'Enhance        </span>│\n",
       "│<span style=\"color: #7f7f7f; text-decoration-color: #7f7f7f\">            </span>│<span style=\"color: #7f7f7f; text-decoration-color: #7f7f7f\"> aids and guest lectures']       </span>│<span style=\"color: #7f7f7f; text-decoration-color: #7f7f7f\"> aids and guest lectures\"]      </span>│<span style=\"color: #7f7f7f; text-decoration-color: #7f7f7f\"> lecture delivery to make it     </span>│\n",
       "│<span style=\"color: #7f7f7f; text-decoration-color: #7f7f7f\">            </span>│<span style=\"color: #7f7f7f; text-decoration-color: #7f7f7f\">                                 </span>│<span style=\"color: #7f7f7f; text-decoration-color: #7f7f7f\">                                </span>│<span style=\"color: #7f7f7f; text-decoration-color: #7f7f7f\"> more engaging']                 </span>│\n",
       "│<span style=\"color: #7f7f7f; text-decoration-color: #7f7f7f\">            </span>│<span style=\"color: #7f7f7f; text-decoration-color: #7f7f7f\">                                 </span>│<span style=\"color: #7f7f7f; text-decoration-color: #7f7f7f\"> These points capture the       </span>│<span style=\"color: #7f7f7f; text-decoration-color: #7f7f7f\">                                 </span>│\n",
       "│<span style=\"color: #7f7f7f; text-decoration-color: #7f7f7f\">            </span>│<span style=\"color: #7f7f7f; text-decoration-color: #7f7f7f\">                                 </span>│<span style=\"color: #7f7f7f; text-decoration-color: #7f7f7f\"> essence of the evaluation: the </span>│<span style=\"color: #7f7f7f; text-decoration-color: #7f7f7f\">                                 </span>│\n",
       "│<span style=\"color: #7f7f7f; text-decoration-color: #7f7f7f\">            </span>│<span style=\"color: #7f7f7f; text-decoration-color: #7f7f7f\">                                 </span>│<span style=\"color: #7f7f7f; text-decoration-color: #7f7f7f\"> positive organization of the   </span>│<span style=\"color: #7f7f7f; text-decoration-color: #7f7f7f\">                                 </span>│\n",
       "│<span style=\"color: #7f7f7f; text-decoration-color: #7f7f7f\">            </span>│<span style=\"color: #7f7f7f; text-decoration-color: #7f7f7f\">                                 </span>│<span style=\"color: #7f7f7f; text-decoration-color: #7f7f7f\"> course, the negative aspect of </span>│<span style=\"color: #7f7f7f; text-decoration-color: #7f7f7f\">                                 </span>│\n",
       "│<span style=\"color: #7f7f7f; text-decoration-color: #7f7f7f\">            </span>│<span style=\"color: #7f7f7f; text-decoration-color: #7f7f7f\">                                 </span>│<span style=\"color: #7f7f7f; text-decoration-color: #7f7f7f\"> the lecture delivery, and the  </span>│<span style=\"color: #7f7f7f; text-decoration-color: #7f7f7f\">                                 </span>│\n",
       "│<span style=\"color: #7f7f7f; text-decoration-color: #7f7f7f\">            </span>│<span style=\"color: #7f7f7f; text-decoration-color: #7f7f7f\">                                 </span>│<span style=\"color: #7f7f7f; text-decoration-color: #7f7f7f\"> constructive suggestions for   </span>│<span style=\"color: #7f7f7f; text-decoration-color: #7f7f7f\">                                 </span>│\n",
       "│<span style=\"color: #7f7f7f; text-decoration-color: #7f7f7f\">            </span>│<span style=\"color: #7f7f7f; text-decoration-color: #7f7f7f\">                                 </span>│<span style=\"color: #7f7f7f; text-decoration-color: #7f7f7f\"> improvement.                   </span>│<span style=\"color: #7f7f7f; text-decoration-color: #7f7f7f\">                                 </span>│\n",
       "├────────────┼─────────────────────────────────┼────────────────────────────────┼─────────────────────────────────┤\n",
       "│<span style=\"color: #7f7f7f; text-decoration-color: #7f7f7f\"> Positive   </span>│<span style=\"color: #7f7f7f; text-decoration-color: #7f7f7f\"> ['Enthusiastic professor',      </span>│<span style=\"color: #7f7f7f; text-decoration-color: #7f7f7f\"> [\"Enthusiastic professor\",     </span>│<span style=\"color: #7f7f7f; text-decoration-color: #7f7f7f\"> ['Provide more diverse examples </span>│\n",
       "│<span style=\"color: #7f7f7f; text-decoration-color: #7f7f7f\">            </span>│<span style=\"color: #7f7f7f; text-decoration-color: #7f7f7f\"> 'Helpful during office hours',  </span>│<span style=\"color: #7f7f7f; text-decoration-color: #7f7f7f\"> \"Helpful during office hours\", </span>│<span style=\"color: #7f7f7f; text-decoration-color: #7f7f7f\"> in lectures', 'Improve the      </span>│\n",
       "│<span style=\"color: #7f7f7f; text-decoration-color: #7f7f7f\">            </span>│<span style=\"color: #7f7f7f; text-decoration-color: #7f7f7f\"> 'Interactive lectures and       </span>│<span style=\"color: #7f7f7f; text-decoration-color: #7f7f7f\"> \"Interactive lectures and      </span>│<span style=\"color: #7f7f7f; text-decoration-color: #7f7f7f\"> pacing of the course material', </span>│\n",
       "│<span style=\"color: #7f7f7f; text-decoration-color: #7f7f7f\">            </span>│<span style=\"color: #7f7f7f; text-decoration-color: #7f7f7f\"> practical assignments']         </span>│<span style=\"color: #7f7f7f; text-decoration-color: #7f7f7f\"> practical assignments\"]        </span>│<span style=\"color: #7f7f7f; text-decoration-color: #7f7f7f\"> 'Incorporate more real-world    </span>│\n",
       "│<span style=\"color: #7f7f7f; text-decoration-color: #7f7f7f\">            </span>│<span style=\"color: #7f7f7f; text-decoration-color: #7f7f7f\">                                 </span>│<span style=\"color: #7f7f7f; text-decoration-color: #7f7f7f\">                                </span>│<span style=\"color: #7f7f7f; text-decoration-color: #7f7f7f\"> case studies']                  </span>│\n",
       "│<span style=\"color: #7f7f7f; text-decoration-color: #7f7f7f\">            </span>│<span style=\"color: #7f7f7f; text-decoration-color: #7f7f7f\">                                 </span>│<span style=\"color: #7f7f7f; text-decoration-color: #7f7f7f\"> The evaluation highlights      </span>│<span style=\"color: #7f7f7f; text-decoration-color: #7f7f7f\">                                 </span>│\n",
       "│<span style=\"color: #7f7f7f; text-decoration-color: #7f7f7f\">            </span>│<span style=\"color: #7f7f7f; text-decoration-color: #7f7f7f\">                                 </span>│<span style=\"color: #7f7f7f; text-decoration-color: #7f7f7f\"> three main points: the         </span>│<span style=\"color: #7f7f7f; text-decoration-color: #7f7f7f\">                                 </span>│\n",
       "│<span style=\"color: #7f7f7f; text-decoration-color: #7f7f7f\">            </span>│<span style=\"color: #7f7f7f; text-decoration-color: #7f7f7f\">                                 </span>│<span style=\"color: #7f7f7f; text-decoration-color: #7f7f7f\"> professor's enthusiasm and     </span>│<span style=\"color: #7f7f7f; text-decoration-color: #7f7f7f\">                                 </span>│\n",
       "│<span style=\"color: #7f7f7f; text-decoration-color: #7f7f7f\">            </span>│<span style=\"color: #7f7f7f; text-decoration-color: #7f7f7f\">                                 </span>│<span style=\"color: #7f7f7f; text-decoration-color: #7f7f7f\"> willingness to help, the       </span>│<span style=\"color: #7f7f7f; text-decoration-color: #7f7f7f\">                                 </span>│\n",
       "│<span style=\"color: #7f7f7f; text-decoration-color: #7f7f7f\">            </span>│<span style=\"color: #7f7f7f; text-decoration-color: #7f7f7f\">                                 </span>│<span style=\"color: #7f7f7f; text-decoration-color: #7f7f7f\"> effectiveness of office hours, </span>│<span style=\"color: #7f7f7f; text-decoration-color: #7f7f7f\">                                 </span>│\n",
       "│<span style=\"color: #7f7f7f; text-decoration-color: #7f7f7f\">            </span>│<span style=\"color: #7f7f7f; text-decoration-color: #7f7f7f\">                                 </span>│<span style=\"color: #7f7f7f; text-decoration-color: #7f7f7f\"> and the engaging nature of the </span>│<span style=\"color: #7f7f7f; text-decoration-color: #7f7f7f\">                                 </span>│\n",
       "│<span style=\"color: #7f7f7f; text-decoration-color: #7f7f7f\">            </span>│<span style=\"color: #7f7f7f; text-decoration-color: #7f7f7f\">                                 </span>│<span style=\"color: #7f7f7f; text-decoration-color: #7f7f7f\"> interactive lectures and       </span>│<span style=\"color: #7f7f7f; text-decoration-color: #7f7f7f\">                                 </span>│\n",
       "│<span style=\"color: #7f7f7f; text-decoration-color: #7f7f7f\">            </span>│<span style=\"color: #7f7f7f; text-decoration-color: #7f7f7f\">                                 </span>│<span style=\"color: #7f7f7f; text-decoration-color: #7f7f7f\"> practical assignments.         </span>│<span style=\"color: #7f7f7f; text-decoration-color: #7f7f7f\">                                 </span>│\n",
       "├────────────┼─────────────────────────────────┼────────────────────────────────┼─────────────────────────────────┤\n",
       "│<span style=\"color: #7f7f7f; text-decoration-color: #7f7f7f\"> Neutral    </span>│<span style=\"color: #7f7f7f; text-decoration-color: #7f7f7f\"> ['Appreciated analytical        </span>│<span style=\"color: #7f7f7f; text-decoration-color: #7f7f7f\"> [\"Appreciated analytical       </span>│<span style=\"color: #7f7f7f; text-decoration-color: #7f7f7f\"> ['Incorporate more real-world   </span>│\n",
       "│<span style=\"color: #7f7f7f; text-decoration-color: #7f7f7f\">            </span>│<span style=\"color: #7f7f7f; text-decoration-color: #7f7f7f\"> rigor', 'Desire for more        </span>│<span style=\"color: #7f7f7f; text-decoration-color: #7f7f7f\"> rigor\", \"Desire for more       </span>│<span style=\"color: #7f7f7f; text-decoration-color: #7f7f7f\"> economic examples into          </span>│\n",
       "│<span style=\"color: #7f7f7f; text-decoration-color: #7f7f7f\">            </span>│<span style=\"color: #7f7f7f; text-decoration-color: #7f7f7f\"> practical discussions', 'Course </span>│<span style=\"color: #7f7f7f; text-decoration-color: #7f7f7f\"> practical discussions\",        </span>│<span style=\"color: #7f7f7f; text-decoration-color: #7f7f7f\"> lectures', 'Facilitate          </span>│\n",
       "│<span style=\"color: #7f7f7f; text-decoration-color: #7f7f7f\">            </span>│<span style=\"color: #7f7f7f; text-decoration-color: #7f7f7f\"> felt isolated from real-world   </span>│<span style=\"color: #7f7f7f; text-decoration-color: #7f7f7f\"> \"Course felt isolated from     </span>│<span style=\"color: #7f7f7f; text-decoration-color: #7f7f7f\"> discussions on the application  </span>│\n",
       "│<span style=\"color: #7f7f7f; text-decoration-color: #7f7f7f\">            </span>│<span style=\"color: #7f7f7f; text-decoration-color: #7f7f7f\"> issues']                        </span>│<span style=\"color: #7f7f7f; text-decoration-color: #7f7f7f\"> real-world issues\"]            </span>│<span style=\"color: #7f7f7f; text-decoration-color: #7f7f7f\"> of theories to current economic </span>│\n",
       "│<span style=\"color: #7f7f7f; text-decoration-color: #7f7f7f\">            </span>│<span style=\"color: #7f7f7f; text-decoration-color: #7f7f7f\">                                 </span>│<span style=\"color: #7f7f7f; text-decoration-color: #7f7f7f\">                                </span>│<span style=\"color: #7f7f7f; text-decoration-color: #7f7f7f\"> issues', 'Include case studies  </span>│\n",
       "│<span style=\"color: #7f7f7f; text-decoration-color: #7f7f7f\">            </span>│<span style=\"color: #7f7f7f; text-decoration-color: #7f7f7f\">                                 </span>│<span style=\"color: #7f7f7f; text-decoration-color: #7f7f7f\"> The student values the         </span>│<span style=\"color: #7f7f7f; text-decoration-color: #7f7f7f\"> or guest speakers from          </span>│\n",
       "│<span style=\"color: #7f7f7f; text-decoration-color: #7f7f7f\">            </span>│<span style=\"color: #7f7f7f; text-decoration-color: #7f7f7f\">                                 </span>│<span style=\"color: #7f7f7f; text-decoration-color: #7f7f7f\"> analytical depth of the course </span>│<span style=\"color: #7f7f7f; text-decoration-color: #7f7f7f\"> industry']                      </span>│\n",
       "│<span style=\"color: #7f7f7f; text-decoration-color: #7f7f7f\">            </span>│<span style=\"color: #7f7f7f; text-decoration-color: #7f7f7f\">                                 </span>│<span style=\"color: #7f7f7f; text-decoration-color: #7f7f7f\"> due to their math background,  </span>│<span style=\"color: #7f7f7f; text-decoration-color: #7f7f7f\">                                 </span>│\n",
       "│<span style=\"color: #7f7f7f; text-decoration-color: #7f7f7f\">            </span>│<span style=\"color: #7f7f7f; text-decoration-color: #7f7f7f\">                                 </span>│<span style=\"color: #7f7f7f; text-decoration-color: #7f7f7f\"> but they expressed a need for  </span>│<span style=\"color: #7f7f7f; text-decoration-color: #7f7f7f\">                                 </span>│\n",
       "│<span style=\"color: #7f7f7f; text-decoration-color: #7f7f7f\">            </span>│<span style=\"color: #7f7f7f; text-decoration-color: #7f7f7f\">                                 </span>│<span style=\"color: #7f7f7f; text-decoration-color: #7f7f7f\"> more practical applications of </span>│<span style=\"color: #7f7f7f; text-decoration-color: #7f7f7f\">                                 </span>│\n",
       "│<span style=\"color: #7f7f7f; text-decoration-color: #7f7f7f\">            </span>│<span style=\"color: #7f7f7f; text-decoration-color: #7f7f7f\">                                 </span>│<span style=\"color: #7f7f7f; text-decoration-color: #7f7f7f\"> the theories discussed,        </span>│<span style=\"color: #7f7f7f; text-decoration-color: #7f7f7f\">                                 </span>│\n",
       "│<span style=\"color: #7f7f7f; text-decoration-color: #7f7f7f\">            </span>│<span style=\"color: #7f7f7f; text-decoration-color: #7f7f7f\">                                 </span>│<span style=\"color: #7f7f7f; text-decoration-color: #7f7f7f\"> indicating a gap between the   </span>│<span style=\"color: #7f7f7f; text-decoration-color: #7f7f7f\">                                 </span>│\n",
       "│<span style=\"color: #7f7f7f; text-decoration-color: #7f7f7f\">            </span>│<span style=\"color: #7f7f7f; text-decoration-color: #7f7f7f\">                                 </span>│<span style=\"color: #7f7f7f; text-decoration-color: #7f7f7f\"> course content and real-world  </span>│<span style=\"color: #7f7f7f; text-decoration-color: #7f7f7f\">                                 </span>│\n",
       "│<span style=\"color: #7f7f7f; text-decoration-color: #7f7f7f\">            </span>│<span style=\"color: #7f7f7f; text-decoration-color: #7f7f7f\">                                 </span>│<span style=\"color: #7f7f7f; text-decoration-color: #7f7f7f\"> economic issues.               </span>│<span style=\"color: #7f7f7f; text-decoration-color: #7f7f7f\">                                 </span>│\n",
       "├────────────┼─────────────────────────────────┼────────────────────────────────┼─────────────────────────────────┤\n",
       "│<span style=\"color: #7f7f7f; text-decoration-color: #7f7f7f\"> Positive   </span>│<span style=\"color: #7f7f7f; text-decoration-color: #7f7f7f\"> ['Perfect mix of theory and     </span>│<span style=\"color: #7f7f7f; text-decoration-color: #7f7f7f\"> [\"Perfect mix of theory and    </span>│<span style=\"color: #7f7f7f; text-decoration-color: #7f7f7f\"> ['Increase opportunities for    </span>│\n",
       "│<span style=\"color: #7f7f7f; text-decoration-color: #7f7f7f\">            </span>│<span style=\"color: #7f7f7f; text-decoration-color: #7f7f7f\"> case studies', 'Fair exams',    </span>│<span style=\"color: #7f7f7f; text-decoration-color: #7f7f7f\"> case studies\", \"Fair exams\",   </span>│<span style=\"color: #7f7f7f; text-decoration-color: #7f7f7f\"> student participation',         </span>│\n",
       "│<span style=\"color: #7f7f7f; text-decoration-color: #7f7f7f\">            </span>│<span style=\"color: #7f7f7f; text-decoration-color: #7f7f7f\"> 'Appreciation for diversity of  </span>│<span style=\"color: #7f7f7f; text-decoration-color: #7f7f7f\"> \"Appreciation for diversity of </span>│<span style=\"color: #7f7f7f; text-decoration-color: #7f7f7f\"> 'Provide additional resources   </span>│\n",
       "│<span style=\"color: #7f7f7f; text-decoration-color: #7f7f7f\">            </span>│<span style=\"color: #7f7f7f; text-decoration-color: #7f7f7f\"> perspectives']                  </span>│<span style=\"color: #7f7f7f; text-decoration-color: #7f7f7f\"> perspectives\"]                 </span>│<span style=\"color: #7f7f7f; text-decoration-color: #7f7f7f\"> for complex topics', 'Offer     </span>│\n",
       "│<span style=\"color: #7f7f7f; text-decoration-color: #7f7f7f\">            </span>│<span style=\"color: #7f7f7f; text-decoration-color: #7f7f7f\">                                 </span>│<span style=\"color: #7f7f7f; text-decoration-color: #7f7f7f\">                                </span>│<span style=\"color: #7f7f7f; text-decoration-color: #7f7f7f\"> more real-world application     </span>│\n",
       "│<span style=\"color: #7f7f7f; text-decoration-color: #7f7f7f\">            </span>│<span style=\"color: #7f7f7f; text-decoration-color: #7f7f7f\">                                 </span>│<span style=\"color: #7f7f7f; text-decoration-color: #7f7f7f\"> These points highlight the     </span>│<span style=\"color: #7f7f7f; text-decoration-color: #7f7f7f\"> projects']                      </span>│\n",
       "│<span style=\"color: #7f7f7f; text-decoration-color: #7f7f7f\">            </span>│<span style=\"color: #7f7f7f; text-decoration-color: #7f7f7f\">                                 </span>│<span style=\"color: #7f7f7f; text-decoration-color: #7f7f7f\"> student's satisfaction with    </span>│<span style=\"color: #7f7f7f; text-decoration-color: #7f7f7f\">                                 </span>│\n",
       "│<span style=\"color: #7f7f7f; text-decoration-color: #7f7f7f\">            </span>│<span style=\"color: #7f7f7f; text-decoration-color: #7f7f7f\">                                 </span>│<span style=\"color: #7f7f7f; text-decoration-color: #7f7f7f\"> the course structure, fairness </span>│<span style=\"color: #7f7f7f; text-decoration-color: #7f7f7f\">                                 </span>│\n",
       "│<span style=\"color: #7f7f7f; text-decoration-color: #7f7f7f\">            </span>│<span style=\"color: #7f7f7f; text-decoration-color: #7f7f7f\">                                 </span>│<span style=\"color: #7f7f7f; text-decoration-color: #7f7f7f\"> of assessments, and the        </span>│<span style=\"color: #7f7f7f; text-decoration-color: #7f7f7f\">                                 </span>│\n",
       "│<span style=\"color: #7f7f7f; text-decoration-color: #7f7f7f\">            </span>│<span style=\"color: #7f7f7f; text-decoration-color: #7f7f7f\">                                 </span>│<span style=\"color: #7f7f7f; text-decoration-color: #7f7f7f\"> inclusion of diverse           </span>│<span style=\"color: #7f7f7f; text-decoration-color: #7f7f7f\">                                 </span>│\n",
       "│<span style=\"color: #7f7f7f; text-decoration-color: #7f7f7f\">            </span>│<span style=\"color: #7f7f7f; text-decoration-color: #7f7f7f\">                                 </span>│<span style=\"color: #7f7f7f; text-decoration-color: #7f7f7f\"> viewpoints, particularly in    </span>│<span style=\"color: #7f7f7f; text-decoration-color: #7f7f7f\">                                 </span>│\n",
       "│<span style=\"color: #7f7f7f; text-decoration-color: #7f7f7f\">            </span>│<span style=\"color: #7f7f7f; text-decoration-color: #7f7f7f\">                                 </span>│<span style=\"color: #7f7f7f; text-decoration-color: #7f7f7f\"> global economic policies.      </span>│<span style=\"color: #7f7f7f; text-decoration-color: #7f7f7f\">                                 </span>│\n",
       "├────────────┼─────────────────────────────────┼────────────────────────────────┼─────────────────────────────────┤\n",
       "│<span style=\"color: #7f7f7f; text-decoration-color: #7f7f7f\"> Negative   </span>│<span style=\"color: #7f7f7f; text-decoration-color: #7f7f7f\"> ['Textbook overly complex for   </span>│<span style=\"color: #7f7f7f; text-decoration-color: #7f7f7f\"> [\"Textbook overly complex for  </span>│<span style=\"color: #7f7f7f; text-decoration-color: #7f7f7f\"> ['Simplify textbook selection', </span>│\n",
       "│<span style=\"color: #7f7f7f; text-decoration-color: #7f7f7f\">            </span>│<span style=\"color: #7f7f7f; text-decoration-color: #7f7f7f\"> an introductory course',        </span>│<span style=\"color: #7f7f7f; text-decoration-color: #7f7f7f\"> an introductory course\",       </span>│<span style=\"color: #7f7f7f; text-decoration-color: #7f7f7f\"> 'Align lecture content with     </span>│\n",
       "│<span style=\"color: #7f7f7f; text-decoration-color: #7f7f7f\">            </span>│<span style=\"color: #7f7f7f; text-decoration-color: #7f7f7f\"> 'Jargon not explained in        </span>│<span style=\"color: #7f7f7f; text-decoration-color: #7f7f7f\"> \"Jargon not explained in       </span>│<span style=\"color: #7f7f7f; text-decoration-color: #7f7f7f\"> textbook', 'Provide             </span>│\n",
       "│<span style=\"color: #7f7f7f; text-decoration-color: #7f7f7f\">            </span>│<span style=\"color: #7f7f7f; text-decoration-color: #7f7f7f\"> lectures', 'Need for simpler    </span>│<span style=\"color: #7f7f7f; text-decoration-color: #7f7f7f\"> lectures\", \"Need for simpler   </span>│<span style=\"color: #7f7f7f; text-decoration-color: #7f7f7f\"> supplementary explanatory       </span>│\n",
       "│<span style=\"color: #7f7f7f; text-decoration-color: #7f7f7f\">            </span>│<span style=\"color: #7f7f7f; text-decoration-color: #7f7f7f\"> reading materials or more       </span>│<span style=\"color: #7f7f7f; text-decoration-color: #7f7f7f\"> reading materials or more      </span>│<span style=\"color: #7f7f7f; text-decoration-color: #7f7f7f\"> materials']                     </span>│\n",
       "│<span style=\"color: #7f7f7f; text-decoration-color: #7f7f7f\">            </span>│<span style=\"color: #7f7f7f; text-decoration-color: #7f7f7f\"> explanatory lectures']          </span>│<span style=\"color: #7f7f7f; text-decoration-color: #7f7f7f\"> explanatory lectures\"]         </span>│<span style=\"color: #7f7f7f; text-decoration-color: #7f7f7f\">                                 </span>│\n",
       "│<span style=\"color: #7f7f7f; text-decoration-color: #7f7f7f\">            </span>│<span style=\"color: #7f7f7f; text-decoration-color: #7f7f7f\">                                 </span>│<span style=\"color: #7f7f7f; text-decoration-color: #7f7f7f\">                                </span>│<span style=\"color: #7f7f7f; text-decoration-color: #7f7f7f\">                                 </span>│\n",
       "│<span style=\"color: #7f7f7f; text-decoration-color: #7f7f7f\">            </span>│<span style=\"color: #7f7f7f; text-decoration-color: #7f7f7f\">                                 </span>│<span style=\"color: #7f7f7f; text-decoration-color: #7f7f7f\"> These points capture the       </span>│<span style=\"color: #7f7f7f; text-decoration-color: #7f7f7f\">                                 </span>│\n",
       "│<span style=\"color: #7f7f7f; text-decoration-color: #7f7f7f\">            </span>│<span style=\"color: #7f7f7f; text-decoration-color: #7f7f7f\">                                 </span>│<span style=\"color: #7f7f7f; text-decoration-color: #7f7f7f\"> student's main concerns about  </span>│<span style=\"color: #7f7f7f; text-decoration-color: #7f7f7f\">                                 </span>│\n",
       "│<span style=\"color: #7f7f7f; text-decoration-color: #7f7f7f\">            </span>│<span style=\"color: #7f7f7f; text-decoration-color: #7f7f7f\">                                 </span>│<span style=\"color: #7f7f7f; text-decoration-color: #7f7f7f\"> the complexity of the          </span>│<span style=\"color: #7f7f7f; text-decoration-color: #7f7f7f\">                                 </span>│\n",
       "│<span style=\"color: #7f7f7f; text-decoration-color: #7f7f7f\">            </span>│<span style=\"color: #7f7f7f; text-decoration-color: #7f7f7f\">                                 </span>│<span style=\"color: #7f7f7f; text-decoration-color: #7f7f7f\"> textbook, the lack of jargon   </span>│<span style=\"color: #7f7f7f; text-decoration-color: #7f7f7f\">                                 </span>│\n",
       "│<span style=\"color: #7f7f7f; text-decoration-color: #7f7f7f\">            </span>│<span style=\"color: #7f7f7f; text-decoration-color: #7f7f7f\">                                 </span>│<span style=\"color: #7f7f7f; text-decoration-color: #7f7f7f\"> explanation in lectures, and   </span>│<span style=\"color: #7f7f7f; text-decoration-color: #7f7f7f\">                                 </span>│\n",
       "│<span style=\"color: #7f7f7f; text-decoration-color: #7f7f7f\">            </span>│<span style=\"color: #7f7f7f; text-decoration-color: #7f7f7f\">                                 </span>│<span style=\"color: #7f7f7f; text-decoration-color: #7f7f7f\"> the suggestion for simpler     </span>│<span style=\"color: #7f7f7f; text-decoration-color: #7f7f7f\">                                 </span>│\n",
       "│<span style=\"color: #7f7f7f; text-decoration-color: #7f7f7f\">            </span>│<span style=\"color: #7f7f7f; text-decoration-color: #7f7f7f\">                                 </span>│<span style=\"color: #7f7f7f; text-decoration-color: #7f7f7f\"> materials or more detailed     </span>│<span style=\"color: #7f7f7f; text-decoration-color: #7f7f7f\">                                 </span>│\n",
       "│<span style=\"color: #7f7f7f; text-decoration-color: #7f7f7f\">            </span>│<span style=\"color: #7f7f7f; text-decoration-color: #7f7f7f\">                                 </span>│<span style=\"color: #7f7f7f; text-decoration-color: #7f7f7f\"> lectures.                      </span>│<span style=\"color: #7f7f7f; text-decoration-color: #7f7f7f\">                                 </span>│\n",
       "├────────────┼─────────────────────────────────┼────────────────────────────────┼─────────────────────────────────┤\n",
       "│<span style=\"color: #7f7f7f; text-decoration-color: #7f7f7f\"> Neutral    </span>│<span style=\"color: #7f7f7f; text-decoration-color: #7f7f7f\"> ['Knowledgeable and passionate  </span>│<span style=\"color: #7f7f7f; text-decoration-color: #7f7f7f\"> [\"Knowledgeable and passionate </span>│<span style=\"color: #7f7f7f; text-decoration-color: #7f7f7f\"> ['Incorporate diverse           </span>│\n",
       "│<span style=\"color: #7f7f7f; text-decoration-color: #7f7f7f\">            </span>│<span style=\"color: #7f7f7f; text-decoration-color: #7f7f7f\"> professor', 'Course relied      </span>│<span style=\"color: #7f7f7f; text-decoration-color: #7f7f7f\"> professor\", \"Course relied     </span>│<span style=\"color: #7f7f7f; text-decoration-color: #7f7f7f\"> assessment methods', 'Include   </span>│\n",
       "│<span style=\"color: #7f7f7f; text-decoration-color: #7f7f7f\">            </span>│<span style=\"color: #7f7f7f; text-decoration-color: #7f7f7f\"> heavily on tests', 'Need for    </span>│<span style=\"color: #7f7f7f; text-decoration-color: #7f7f7f\"> heavily on tests\", \"Need for   </span>│<span style=\"color: #7f7f7f; text-decoration-color: #7f7f7f\"> more project-based              </span>│\n",
       "│<span style=\"color: #7f7f7f; text-decoration-color: #7f7f7f\">            </span>│<span style=\"color: #7f7f7f; text-decoration-color: #7f7f7f\"> more varied assignments']       </span>│<span style=\"color: #7f7f7f; text-decoration-color: #7f7f7f\"> more varied assignments\"]      </span>│<span style=\"color: #7f7f7f; text-decoration-color: #7f7f7f\"> assignments', 'Offer            </span>│\n",
       "│<span style=\"color: #7f7f7f; text-decoration-color: #7f7f7f\">            </span>│<span style=\"color: #7f7f7f; text-decoration-color: #7f7f7f\">                                 </span>│<span style=\"color: #7f7f7f; text-decoration-color: #7f7f7f\">                                </span>│<span style=\"color: #7f7f7f; text-decoration-color: #7f7f7f\"> alternative evaluation          </span>│\n",
       "│<span style=\"color: #7f7f7f; text-decoration-color: #7f7f7f\">            </span>│<span style=\"color: #7f7f7f; text-decoration-color: #7f7f7f\">                                 </span>│<span style=\"color: #7f7f7f; text-decoration-color: #7f7f7f\"> This summary captures the main </span>│<span style=\"color: #7f7f7f; text-decoration-color: #7f7f7f\"> options']                       </span>│\n",
       "│<span style=\"color: #7f7f7f; text-decoration-color: #7f7f7f\">            </span>│<span style=\"color: #7f7f7f; text-decoration-color: #7f7f7f\">                                 </span>│<span style=\"color: #7f7f7f; text-decoration-color: #7f7f7f\"> points: the professor's        </span>│<span style=\"color: #7f7f7f; text-decoration-color: #7f7f7f\">                                 </span>│\n",
       "│<span style=\"color: #7f7f7f; text-decoration-color: #7f7f7f\">            </span>│<span style=\"color: #7f7f7f; text-decoration-color: #7f7f7f\">                                 </span>│<span style=\"color: #7f7f7f; text-decoration-color: #7f7f7f\"> expertise and enthusiasm, the  </span>│<span style=\"color: #7f7f7f; text-decoration-color: #7f7f7f\">                                 </span>│\n",
       "│<span style=\"color: #7f7f7f; text-decoration-color: #7f7f7f\">            </span>│<span style=\"color: #7f7f7f; text-decoration-color: #7f7f7f\">                                 </span>│<span style=\"color: #7f7f7f; text-decoration-color: #7f7f7f\"> heavy reliance on tests, and   </span>│<span style=\"color: #7f7f7f; text-decoration-color: #7f7f7f\">                                 </span>│\n",
       "│<span style=\"color: #7f7f7f; text-decoration-color: #7f7f7f\">            </span>│<span style=\"color: #7f7f7f; text-decoration-color: #7f7f7f\">                                 </span>│<span style=\"color: #7f7f7f; text-decoration-color: #7f7f7f\"> the suggestion for more        </span>│<span style=\"color: #7f7f7f; text-decoration-color: #7f7f7f\">                                 </span>│\n",
       "│<span style=\"color: #7f7f7f; text-decoration-color: #7f7f7f\">            </span>│<span style=\"color: #7f7f7f; text-decoration-color: #7f7f7f\">                                 </span>│<span style=\"color: #7f7f7f; text-decoration-color: #7f7f7f\"> diverse assessments to         </span>│<span style=\"color: #7f7f7f; text-decoration-color: #7f7f7f\">                                 </span>│\n",
       "│<span style=\"color: #7f7f7f; text-decoration-color: #7f7f7f\">            </span>│<span style=\"color: #7f7f7f; text-decoration-color: #7f7f7f\">                                 </span>│<span style=\"color: #7f7f7f; text-decoration-color: #7f7f7f\"> accommodate different learning </span>│<span style=\"color: #7f7f7f; text-decoration-color: #7f7f7f\">                                 </span>│\n",
       "│<span style=\"color: #7f7f7f; text-decoration-color: #7f7f7f\">            </span>│<span style=\"color: #7f7f7f; text-decoration-color: #7f7f7f\">                                 </span>│<span style=\"color: #7f7f7f; text-decoration-color: #7f7f7f\"> styles.                        </span>│<span style=\"color: #7f7f7f; text-decoration-color: #7f7f7f\">                                 </span>│\n",
       "├────────────┼─────────────────────────────────┼────────────────────────────────┼─────────────────────────────────┤\n",
       "│<span style=\"color: #7f7f7f; text-decoration-color: #7f7f7f\"> Neutral    </span>│<span style=\"color: #7f7f7f; text-decoration-color: #7f7f7f\"> ['Solid introduction to         </span>│<span style=\"color: #7f7f7f; text-decoration-color: #7f7f7f\"> [\"Solid introduction to        </span>│<span style=\"color: #7f7f7f; text-decoration-color: #7f7f7f\"> ['Incorporate more real-world   </span>│\n",
       "│<span style=\"color: #7f7f7f; text-decoration-color: #7f7f7f\">            </span>│<span style=\"color: #7f7f7f; text-decoration-color: #7f7f7f\"> economics', 'Heavily            </span>│<span style=\"color: #7f7f7f; text-decoration-color: #7f7f7f\"> economics\", \"Heavily           </span>│<span style=\"color: #7f7f7f; text-decoration-color: #7f7f7f\"> case studies', 'Facilitate      </span>│\n",
       "│<span style=\"color: #7f7f7f; text-decoration-color: #7f7f7f\">            </span>│<span style=\"color: #7f7f7f; text-decoration-color: #7f7f7f\"> theoretical focus', 'Desire for </span>│<span style=\"color: #7f7f7f; text-decoration-color: #7f7f7f\"> theoretical focus\", \"Desire    </span>│<span style=\"color: #7f7f7f; text-decoration-color: #7f7f7f\"> class discussions on current    </span>│\n",
       "│<span style=\"color: #7f7f7f; text-decoration-color: #7f7f7f\">            </span>│<span style=\"color: #7f7f7f; text-decoration-color: #7f7f7f\"> more real-world application']   </span>│<span style=\"color: #7f7f7f; text-decoration-color: #7f7f7f\"> for more real-world            </span>│<span style=\"color: #7f7f7f; text-decoration-color: #7f7f7f\"> economic events', 'Include      </span>│\n",
       "│<span style=\"color: #7f7f7f; text-decoration-color: #7f7f7f\">            </span>│<span style=\"color: #7f7f7f; text-decoration-color: #7f7f7f\">                                 </span>│<span style=\"color: #7f7f7f; text-decoration-color: #7f7f7f\"> application\"]                  </span>│<span style=\"color: #7f7f7f; text-decoration-color: #7f7f7f\"> practical applications in       </span>│\n",
       "│<span style=\"color: #7f7f7f; text-decoration-color: #7f7f7f\">            </span>│<span style=\"color: #7f7f7f; text-decoration-color: #7f7f7f\">                                 </span>│<span style=\"color: #7f7f7f; text-decoration-color: #7f7f7f\">                                </span>│<span style=\"color: #7f7f7f; text-decoration-color: #7f7f7f\"> assignments']                   </span>│\n",
       "│<span style=\"color: #7f7f7f; text-decoration-color: #7f7f7f\">            </span>│<span style=\"color: #7f7f7f; text-decoration-color: #7f7f7f\">                                 </span>│<span style=\"color: #7f7f7f; text-decoration-color: #7f7f7f\"> These points capture the       </span>│<span style=\"color: #7f7f7f; text-decoration-color: #7f7f7f\">                                 </span>│\n",
       "│<span style=\"color: #7f7f7f; text-decoration-color: #7f7f7f\">            </span>│<span style=\"color: #7f7f7f; text-decoration-color: #7f7f7f\">                                 </span>│<span style=\"color: #7f7f7f; text-decoration-color: #7f7f7f\"> student's overall positive     </span>│<span style=\"color: #7f7f7f; text-decoration-color: #7f7f7f\">                                 </span>│\n",
       "│<span style=\"color: #7f7f7f; text-decoration-color: #7f7f7f\">            </span>│<span style=\"color: #7f7f7f; text-decoration-color: #7f7f7f\">                                 </span>│<span style=\"color: #7f7f7f; text-decoration-color: #7f7f7f\"> impression of the course as an </span>│<span style=\"color: #7f7f7f; text-decoration-color: #7f7f7f\">                                 </span>│\n",
       "│<span style=\"color: #7f7f7f; text-decoration-color: #7f7f7f\">            </span>│<span style=\"color: #7f7f7f; text-decoration-color: #7f7f7f\">                                 </span>│<span style=\"color: #7f7f7f; text-decoration-color: #7f7f7f\"> introduction, their            </span>│<span style=\"color: #7f7f7f; text-decoration-color: #7f7f7f\">                                 </span>│\n",
       "│<span style=\"color: #7f7f7f; text-decoration-color: #7f7f7f\">            </span>│<span style=\"color: #7f7f7f; text-decoration-color: #7f7f7f\">                                 </span>│<span style=\"color: #7f7f7f; text-decoration-color: #7f7f7f\"> observation of its theoretical </span>│<span style=\"color: #7f7f7f; text-decoration-color: #7f7f7f\">                                 </span>│\n",
       "│<span style=\"color: #7f7f7f; text-decoration-color: #7f7f7f\">            </span>│<span style=\"color: #7f7f7f; text-decoration-color: #7f7f7f\">                                 </span>│<span style=\"color: #7f7f7f; text-decoration-color: #7f7f7f\"> emphasis, and their suggestion </span>│<span style=\"color: #7f7f7f; text-decoration-color: #7f7f7f\">                                 </span>│\n",
       "│<span style=\"color: #7f7f7f; text-decoration-color: #7f7f7f\">            </span>│<span style=\"color: #7f7f7f; text-decoration-color: #7f7f7f\">                                 </span>│<span style=\"color: #7f7f7f; text-decoration-color: #7f7f7f\"> for incorporating more         </span>│<span style=\"color: #7f7f7f; text-decoration-color: #7f7f7f\">                                 </span>│\n",
       "│<span style=\"color: #7f7f7f; text-decoration-color: #7f7f7f\">            </span>│<span style=\"color: #7f7f7f; text-decoration-color: #7f7f7f\">                                 </span>│<span style=\"color: #7f7f7f; text-decoration-color: #7f7f7f\"> practical discussions to       </span>│<span style=\"color: #7f7f7f; text-decoration-color: #7f7f7f\">                                 </span>│\n",
       "│<span style=\"color: #7f7f7f; text-decoration-color: #7f7f7f\">            </span>│<span style=\"color: #7f7f7f; text-decoration-color: #7f7f7f\">                                 </span>│<span style=\"color: #7f7f7f; text-decoration-color: #7f7f7f\"> enhance learning.              </span>│<span style=\"color: #7f7f7f; text-decoration-color: #7f7f7f\">                                 </span>│\n",
       "├────────────┼─────────────────────────────────┼────────────────────────────────┼─────────────────────────────────┤\n",
       "│<span style=\"color: #7f7f7f; text-decoration-color: #7f7f7f\"> Positive   </span>│<span style=\"color: #7f7f7f; text-decoration-color: #7f7f7f\"> ['Enjoyed the course and group  </span>│<span style=\"color: #7f7f7f; text-decoration-color: #7f7f7f\"> [\"Enjoyed the course and group </span>│<span style=\"color: #7f7f7f; text-decoration-color: #7f7f7f\"> ['Provide more detailed         </span>│\n",
       "│<span style=\"color: #7f7f7f; text-decoration-color: #7f7f7f\">            </span>│<span style=\"color: #7f7f7f; text-decoration-color: #7f7f7f\"> projects', 'Appreciated         </span>│<span style=\"color: #7f7f7f; text-decoration-color: #7f7f7f\"> projects\", \"Appreciated        </span>│<span style=\"color: #7f7f7f; text-decoration-color: #7f7f7f\"> feedback on assignments',       </span>│\n",
       "│<span style=\"color: #7f7f7f; text-decoration-color: #7f7f7f\">            </span>│<span style=\"color: #7f7f7f; text-decoration-color: #7f7f7f\"> applying economic concepts to   </span>│<span style=\"color: #7f7f7f; text-decoration-color: #7f7f7f\"> applying economic concepts to  </span>│<span style=\"color: #7f7f7f; text-decoration-color: #7f7f7f\"> 'Increase clarity on common     </span>│\n",
       "│<span style=\"color: #7f7f7f; text-decoration-color: #7f7f7f\">            </span>│<span style=\"color: #7f7f7f; text-decoration-color: #7f7f7f\"> real-life problems', 'Desire    </span>│<span style=\"color: #7f7f7f; text-decoration-color: #7f7f7f\"> real-life problems\", \"Desire   </span>│<span style=\"color: #7f7f7f; text-decoration-color: #7f7f7f\"> mistakes', 'Offer additional    </span>│\n",
       "│<span style=\"color: #7f7f7f; text-decoration-color: #7f7f7f\">            </span>│<span style=\"color: #7f7f7f; text-decoration-color: #7f7f7f\"> for more detailed feedback on   </span>│<span style=\"color: #7f7f7f; text-decoration-color: #7f7f7f\"> for more detailed feedback on  </span>│<span style=\"color: #7f7f7f; text-decoration-color: #7f7f7f\"> office hours for assignment     </span>│\n",
       "│<span style=\"color: #7f7f7f; text-decoration-color: #7f7f7f\">            </span>│<span style=\"color: #7f7f7f; text-decoration-color: #7f7f7f\"> assignments']                   </span>│<span style=\"color: #7f7f7f; text-decoration-color: #7f7f7f\"> assignments\"]                  </span>│<span style=\"color: #7f7f7f; text-decoration-color: #7f7f7f\"> reviews']                       </span>│\n",
       "│<span style=\"color: #7f7f7f; text-decoration-color: #7f7f7f\">            </span>│<span style=\"color: #7f7f7f; text-decoration-color: #7f7f7f\">                                 </span>│<span style=\"color: #7f7f7f; text-decoration-color: #7f7f7f\">                                </span>│<span style=\"color: #7f7f7f; text-decoration-color: #7f7f7f\">                                 </span>│\n",
       "│<span style=\"color: #7f7f7f; text-decoration-color: #7f7f7f\">            </span>│<span style=\"color: #7f7f7f; text-decoration-color: #7f7f7f\">                                 </span>│<span style=\"color: #7f7f7f; text-decoration-color: #7f7f7f\"> These points capture the       </span>│<span style=\"color: #7f7f7f; text-decoration-color: #7f7f7f\">                                 </span>│\n",
       "│<span style=\"color: #7f7f7f; text-decoration-color: #7f7f7f\">            </span>│<span style=\"color: #7f7f7f; text-decoration-color: #7f7f7f\">                                 </span>│<span style=\"color: #7f7f7f; text-decoration-color: #7f7f7f\"> essence of the student's       </span>│<span style=\"color: #7f7f7f; text-decoration-color: #7f7f7f\">                                 </span>│\n",
       "│<span style=\"color: #7f7f7f; text-decoration-color: #7f7f7f\">            </span>│<span style=\"color: #7f7f7f; text-decoration-color: #7f7f7f\">                                 </span>│<span style=\"color: #7f7f7f; text-decoration-color: #7f7f7f\"> experience, highlighting both  </span>│<span style=\"color: #7f7f7f; text-decoration-color: #7f7f7f\">                                 </span>│\n",
       "│<span style=\"color: #7f7f7f; text-decoration-color: #7f7f7f\">            </span>│<span style=\"color: #7f7f7f; text-decoration-color: #7f7f7f\">                                 </span>│<span style=\"color: #7f7f7f; text-decoration-color: #7f7f7f\"> the positive aspects and the   </span>│<span style=\"color: #7f7f7f; text-decoration-color: #7f7f7f\">                                 </span>│\n",
       "│<span style=\"color: #7f7f7f; text-decoration-color: #7f7f7f\">            </span>│<span style=\"color: #7f7f7f; text-decoration-color: #7f7f7f\">                                 </span>│<span style=\"color: #7f7f7f; text-decoration-color: #7f7f7f\"> area for improvement.          </span>│<span style=\"color: #7f7f7f; text-decoration-color: #7f7f7f\">                                 </span>│\n",
       "├────────────┼─────────────────────────────────┼────────────────────────────────┼─────────────────────────────────┤\n",
       "│<span style=\"color: #7f7f7f; text-decoration-color: #7f7f7f\"> Positive   </span>│<span style=\"color: #7f7f7f; text-decoration-color: #7f7f7f\"> ['Engaging and informative      </span>│<span style=\"color: #7f7f7f; text-decoration-color: #7f7f7f\"> [\"Engaging and informative     </span>│<span style=\"color: #7f7f7f; text-decoration-color: #7f7f7f\"> ['Adjust the pace of the        </span>│\n",
       "│<span style=\"color: #7f7f7f; text-decoration-color: #7f7f7f\">            </span>│<span style=\"color: #7f7f7f; text-decoration-color: #7f7f7f\"> course', 'Professor made        </span>│<span style=\"color: #7f7f7f; text-decoration-color: #7f7f7f\"> course\", \"Professor made       </span>│<span style=\"color: #7f7f7f; text-decoration-color: #7f7f7f\"> course', 'Provide additional    </span>│\n",
       "│<span style=\"color: #7f7f7f; text-decoration-color: #7f7f7f\">            </span>│<span style=\"color: #7f7f7f; text-decoration-color: #7f7f7f\"> complex concepts accessible',   </span>│<span style=\"color: #7f7f7f; text-decoration-color: #7f7f7f\"> complex concepts accessible\",  </span>│<span style=\"color: #7f7f7f; text-decoration-color: #7f7f7f\"> resources for weekly readings', </span>│\n",
       "│<span style=\"color: #7f7f7f; text-decoration-color: #7f7f7f\">            </span>│<span style=\"color: #7f7f7f; text-decoration-color: #7f7f7f\"> 'Pace was a bit fast, struggled </span>│<span style=\"color: #7f7f7f; text-decoration-color: #7f7f7f\"> \"Pace was a bit fast,          </span>│<span style=\"color: #7f7f7f; text-decoration-color: #7f7f7f\"> 'Incorporate more review        </span>│\n",
       "│<span style=\"color: #7f7f7f; text-decoration-color: #7f7f7f\">            </span>│<span style=\"color: #7f7f7f; text-decoration-color: #7f7f7f\"> with weekly readings']          </span>│<span style=\"color: #7f7f7f; text-decoration-color: #7f7f7f\"> struggled with weekly          </span>│<span style=\"color: #7f7f7f; text-decoration-color: #7f7f7f\"> sessions']                      </span>│\n",
       "│<span style=\"color: #7f7f7f; text-decoration-color: #7f7f7f\">            </span>│<span style=\"color: #7f7f7f; text-decoration-color: #7f7f7f\">                                 </span>│<span style=\"color: #7f7f7f; text-decoration-color: #7f7f7f\"> readings\"]                     </span>│<span style=\"color: #7f7f7f; text-decoration-color: #7f7f7f\">                                 </span>│\n",
       "│<span style=\"color: #7f7f7f; text-decoration-color: #7f7f7f\">            </span>│<span style=\"color: #7f7f7f; text-decoration-color: #7f7f7f\">                                 </span>│<span style=\"color: #7f7f7f; text-decoration-color: #7f7f7f\">                                </span>│<span style=\"color: #7f7f7f; text-decoration-color: #7f7f7f\">                                 </span>│\n",
       "│<span style=\"color: #7f7f7f; text-decoration-color: #7f7f7f\">            </span>│<span style=\"color: #7f7f7f; text-decoration-color: #7f7f7f\">                                 </span>│<span style=\"color: #7f7f7f; text-decoration-color: #7f7f7f\"> These key points capture the   </span>│<span style=\"color: #7f7f7f; text-decoration-color: #7f7f7f\">                                 </span>│\n",
       "│<span style=\"color: #7f7f7f; text-decoration-color: #7f7f7f\">            </span>│<span style=\"color: #7f7f7f; text-decoration-color: #7f7f7f\">                                 </span>│<span style=\"color: #7f7f7f; text-decoration-color: #7f7f7f\"> student's overall positive     </span>│<span style=\"color: #7f7f7f; text-decoration-color: #7f7f7f\">                                 </span>│\n",
       "│<span style=\"color: #7f7f7f; text-decoration-color: #7f7f7f\">            </span>│<span style=\"color: #7f7f7f; text-decoration-color: #7f7f7f\">                                 </span>│<span style=\"color: #7f7f7f; text-decoration-color: #7f7f7f\"> experience with the course and </span>│<span style=\"color: #7f7f7f; text-decoration-color: #7f7f7f\">                                 </span>│\n",
       "│<span style=\"color: #7f7f7f; text-decoration-color: #7f7f7f\">            </span>│<span style=\"color: #7f7f7f; text-decoration-color: #7f7f7f\">                                 </span>│<span style=\"color: #7f7f7f; text-decoration-color: #7f7f7f\"> the teaching methods, while    </span>│<span style=\"color: #7f7f7f; text-decoration-color: #7f7f7f\">                                 </span>│\n",
       "│<span style=\"color: #7f7f7f; text-decoration-color: #7f7f7f\">            </span>│<span style=\"color: #7f7f7f; text-decoration-color: #7f7f7f\">                                 </span>│<span style=\"color: #7f7f7f; text-decoration-color: #7f7f7f\"> also highlighting a specific   </span>│<span style=\"color: #7f7f7f; text-decoration-color: #7f7f7f\">                                 </span>│\n",
       "│<span style=\"color: #7f7f7f; text-decoration-color: #7f7f7f\">            </span>│<span style=\"color: #7f7f7f; text-decoration-color: #7f7f7f\">                                 </span>│<span style=\"color: #7f7f7f; text-decoration-color: #7f7f7f\"> area for improvement regarding </span>│<span style=\"color: #7f7f7f; text-decoration-color: #7f7f7f\">                                 </span>│\n",
       "│<span style=\"color: #7f7f7f; text-decoration-color: #7f7f7f\">            </span>│<span style=\"color: #7f7f7f; text-decoration-color: #7f7f7f\">                                 </span>│<span style=\"color: #7f7f7f; text-decoration-color: #7f7f7f\"> the course pace and reading    </span>│<span style=\"color: #7f7f7f; text-decoration-color: #7f7f7f\">                                 </span>│\n",
       "│<span style=\"color: #7f7f7f; text-decoration-color: #7f7f7f\">            </span>│<span style=\"color: #7f7f7f; text-decoration-color: #7f7f7f\">                                 </span>│<span style=\"color: #7f7f7f; text-decoration-color: #7f7f7f\"> workload.                      </span>│<span style=\"color: #7f7f7f; text-decoration-color: #7f7f7f\">                                 </span>│\n",
       "└────────────┴─────────────────────────────────┴────────────────────────────────┴─────────────────────────────────┘\n",
       "</pre>\n"
      ],
      "text/plain": [
       "┏━━━━━━━━━━━━┳━━━━━━━━━━━━━━━━━━━━━━━━━━━━━━━━━┳━━━━━━━━━━━━━━━━━━━━━━━━━━━━━━━━┳━━━━━━━━━━━━━━━━━━━━━━━━━━━━━━━━━┓\n",
       "┃\u001b[1;35m \u001b[0m\u001b[1;35manswer    \u001b[0m\u001b[1;35m \u001b[0m┃\u001b[1;35m \u001b[0m\u001b[1;35manswer                         \u001b[0m\u001b[1;35m \u001b[0m┃\u001b[1;35m \u001b[0m\u001b[1;35mgenerated_tokens              \u001b[0m\u001b[1;35m \u001b[0m┃\u001b[1;35m \u001b[0m\u001b[1;35manswer                         \u001b[0m\u001b[1;35m \u001b[0m┃\n",
       "┃\u001b[1;35m \u001b[0m\u001b[1;35m.sentiment\u001b[0m\u001b[1;35m \u001b[0m┃\u001b[1;35m \u001b[0m\u001b[1;35m.themes                        \u001b[0m\u001b[1;35m \u001b[0m┃\u001b[1;35m \u001b[0m\u001b[1;35m.themes_generated_tokens      \u001b[0m\u001b[1;35m \u001b[0m┃\u001b[1;35m \u001b[0m\u001b[1;35m.improvements                  \u001b[0m\u001b[1;35m \u001b[0m┃\n",
       "┡━━━━━━━━━━━━╇━━━━━━━━━━━━━━━━━━━━━━━━━━━━━━━━━╇━━━━━━━━━━━━━━━━━━━━━━━━━━━━━━━━╇━━━━━━━━━━━━━━━━━━━━━━━━━━━━━━━━━┩\n",
       "│\u001b[2m \u001b[0m\u001b[2mNegative  \u001b[0m\u001b[2m \u001b[0m│\u001b[2m \u001b[0m\u001b[2m['Material felt dry',          \u001b[0m\u001b[2m \u001b[0m│\u001b[2m \u001b[0m\u001b[2m[\"Material felt dry\",         \u001b[0m\u001b[2m \u001b[0m│\u001b[2m \u001b[0m\u001b[2m['Incorporate more real-world  \u001b[0m\u001b[2m \u001b[0m│\n",
       "│\u001b[2m            \u001b[0m│\u001b[2m \u001b[0m\u001b[2m'Difficult to connect with     \u001b[0m\u001b[2m \u001b[0m│\u001b[2m \u001b[0m\u001b[2m\"Difficult to connect with    \u001b[0m\u001b[2m \u001b[0m│\u001b[2m \u001b[0m\u001b[2mexamples', 'Relate material to \u001b[0m\u001b[2m \u001b[0m│\n",
       "│\u001b[2m            \u001b[0m│\u001b[2m \u001b[0m\u001b[2mreal-world applications', 'More\u001b[0m\u001b[2m \u001b[0m│\u001b[2m \u001b[0m\u001b[2mreal-world applications\",     \u001b[0m\u001b[2m \u001b[0m│\u001b[2m \u001b[0m\u001b[2mcurrent events', 'Increase     \u001b[0m\u001b[2m \u001b[0m│\n",
       "│\u001b[2m            \u001b[0m│\u001b[2m \u001b[0m\u001b[2mcurrent event examples needed']\u001b[0m\u001b[2m \u001b[0m│\u001b[2m \u001b[0m\u001b[2m\"More current event examples  \u001b[0m\u001b[2m \u001b[0m│\u001b[2m \u001b[0m\u001b[2mengagement with interactive    \u001b[0m\u001b[2m \u001b[0m│\n",
       "│\u001b[2m            \u001b[0m│\u001b[2m                                 \u001b[0m│\u001b[2m \u001b[0m\u001b[2mneeded\"]                      \u001b[0m\u001b[2m \u001b[0m│\u001b[2m \u001b[0m\u001b[2mactivities']                   \u001b[0m\u001b[2m \u001b[0m│\n",
       "│\u001b[2m            \u001b[0m│\u001b[2m                                 \u001b[0m│\u001b[2m \u001b[0m\u001b[2m                              \u001b[0m\u001b[2m \u001b[0m│\u001b[2m                                 \u001b[0m│\n",
       "│\u001b[2m            \u001b[0m│\u001b[2m                                 \u001b[0m│\u001b[2m \u001b[0m\u001b[2mThe student found the material\u001b[0m\u001b[2m \u001b[0m│\u001b[2m                                 \u001b[0m│\n",
       "│\u001b[2m            \u001b[0m│\u001b[2m                                 \u001b[0m│\u001b[2m \u001b[0m\u001b[2munengaging, struggled to see  \u001b[0m\u001b[2m \u001b[0m│\u001b[2m                                 \u001b[0m│\n",
       "│\u001b[2m            \u001b[0m│\u001b[2m                                 \u001b[0m│\u001b[2m \u001b[0m\u001b[2mits relevance to real-world   \u001b[0m\u001b[2m \u001b[0m│\u001b[2m                                 \u001b[0m│\n",
       "│\u001b[2m            \u001b[0m│\u001b[2m                                 \u001b[0m│\u001b[2m \u001b[0m\u001b[2msituations, and suggested that\u001b[0m\u001b[2m \u001b[0m│\u001b[2m                                 \u001b[0m│\n",
       "│\u001b[2m            \u001b[0m│\u001b[2m                                 \u001b[0m│\u001b[2m \u001b[0m\u001b[2mincorporating examples from   \u001b[0m\u001b[2m \u001b[0m│\u001b[2m                                 \u001b[0m│\n",
       "│\u001b[2m            \u001b[0m│\u001b[2m                                 \u001b[0m│\u001b[2m \u001b[0m\u001b[2mcurrent events could enhance  \u001b[0m\u001b[2m \u001b[0m│\u001b[2m                                 \u001b[0m│\n",
       "│\u001b[2m            \u001b[0m│\u001b[2m                                 \u001b[0m│\u001b[2m \u001b[0m\u001b[2minterest and understanding.   \u001b[0m\u001b[2m \u001b[0m│\u001b[2m                                 \u001b[0m│\n",
       "├────────────┼─────────────────────────────────┼────────────────────────────────┼─────────────────────────────────┤\n",
       "│\u001b[2m \u001b[0m\u001b[2mNeutral   \u001b[0m\u001b[2m \u001b[0m│\u001b[2m \u001b[0m\u001b[2m['Well-organized course        \u001b[0m\u001b[2m \u001b[0m│\u001b[2m \u001b[0m\u001b[2m[\"Well-organized course       \u001b[0m\u001b[2m \u001b[0m│\u001b[2m \u001b[0m\u001b[2m['Incorporate more visual aids \u001b[0m\u001b[2m \u001b[0m│\n",
       "│\u001b[2m            \u001b[0m│\u001b[2m \u001b[0m\u001b[2mcontent', 'Monotonous and      \u001b[0m\u001b[2m \u001b[0m│\u001b[2m \u001b[0m\u001b[2mcontent\", \"Monotonous and     \u001b[0m\u001b[2m \u001b[0m│\u001b[2m \u001b[0m\u001b[2minto lectures', 'Invite guest  \u001b[0m\u001b[2m \u001b[0m│\n",
       "│\u001b[2m            \u001b[0m│\u001b[2m \u001b[0m\u001b[2mhard-to-follow lectures',      \u001b[0m\u001b[2m \u001b[0m│\u001b[2m \u001b[0m\u001b[2mhard-to-follow lectures\",     \u001b[0m\u001b[2m \u001b[0m│\u001b[2m \u001b[0m\u001b[2mlecturers from industry        \u001b[0m\u001b[2m \u001b[0m│\n",
       "│\u001b[2m            \u001b[0m│\u001b[2m \u001b[0m\u001b[2m'Suggestion for more visual    \u001b[0m\u001b[2m \u001b[0m│\u001b[2m \u001b[0m\u001b[2m\"Suggestion for more visual   \u001b[0m\u001b[2m \u001b[0m│\u001b[2m \u001b[0m\u001b[2mprofessionals', 'Enhance       \u001b[0m\u001b[2m \u001b[0m│\n",
       "│\u001b[2m            \u001b[0m│\u001b[2m \u001b[0m\u001b[2maids and guest lectures']      \u001b[0m\u001b[2m \u001b[0m│\u001b[2m \u001b[0m\u001b[2maids and guest lectures\"]     \u001b[0m\u001b[2m \u001b[0m│\u001b[2m \u001b[0m\u001b[2mlecture delivery to make it    \u001b[0m\u001b[2m \u001b[0m│\n",
       "│\u001b[2m            \u001b[0m│\u001b[2m                                 \u001b[0m│\u001b[2m \u001b[0m\u001b[2m                              \u001b[0m\u001b[2m \u001b[0m│\u001b[2m \u001b[0m\u001b[2mmore engaging']                \u001b[0m\u001b[2m \u001b[0m│\n",
       "│\u001b[2m            \u001b[0m│\u001b[2m                                 \u001b[0m│\u001b[2m \u001b[0m\u001b[2mThese points capture the      \u001b[0m\u001b[2m \u001b[0m│\u001b[2m                                 \u001b[0m│\n",
       "│\u001b[2m            \u001b[0m│\u001b[2m                                 \u001b[0m│\u001b[2m \u001b[0m\u001b[2messence of the evaluation: the\u001b[0m\u001b[2m \u001b[0m│\u001b[2m                                 \u001b[0m│\n",
       "│\u001b[2m            \u001b[0m│\u001b[2m                                 \u001b[0m│\u001b[2m \u001b[0m\u001b[2mpositive organization of the  \u001b[0m\u001b[2m \u001b[0m│\u001b[2m                                 \u001b[0m│\n",
       "│\u001b[2m            \u001b[0m│\u001b[2m                                 \u001b[0m│\u001b[2m \u001b[0m\u001b[2mcourse, the negative aspect of\u001b[0m\u001b[2m \u001b[0m│\u001b[2m                                 \u001b[0m│\n",
       "│\u001b[2m            \u001b[0m│\u001b[2m                                 \u001b[0m│\u001b[2m \u001b[0m\u001b[2mthe lecture delivery, and the \u001b[0m\u001b[2m \u001b[0m│\u001b[2m                                 \u001b[0m│\n",
       "│\u001b[2m            \u001b[0m│\u001b[2m                                 \u001b[0m│\u001b[2m \u001b[0m\u001b[2mconstructive suggestions for  \u001b[0m\u001b[2m \u001b[0m│\u001b[2m                                 \u001b[0m│\n",
       "│\u001b[2m            \u001b[0m│\u001b[2m                                 \u001b[0m│\u001b[2m \u001b[0m\u001b[2mimprovement.                  \u001b[0m\u001b[2m \u001b[0m│\u001b[2m                                 \u001b[0m│\n",
       "├────────────┼─────────────────────────────────┼────────────────────────────────┼─────────────────────────────────┤\n",
       "│\u001b[2m \u001b[0m\u001b[2mPositive  \u001b[0m\u001b[2m \u001b[0m│\u001b[2m \u001b[0m\u001b[2m['Enthusiastic professor',     \u001b[0m\u001b[2m \u001b[0m│\u001b[2m \u001b[0m\u001b[2m[\"Enthusiastic professor\",    \u001b[0m\u001b[2m \u001b[0m│\u001b[2m \u001b[0m\u001b[2m['Provide more diverse examples\u001b[0m\u001b[2m \u001b[0m│\n",
       "│\u001b[2m            \u001b[0m│\u001b[2m \u001b[0m\u001b[2m'Helpful during office hours', \u001b[0m\u001b[2m \u001b[0m│\u001b[2m \u001b[0m\u001b[2m\"Helpful during office hours\",\u001b[0m\u001b[2m \u001b[0m│\u001b[2m \u001b[0m\u001b[2min lectures', 'Improve the     \u001b[0m\u001b[2m \u001b[0m│\n",
       "│\u001b[2m            \u001b[0m│\u001b[2m \u001b[0m\u001b[2m'Interactive lectures and      \u001b[0m\u001b[2m \u001b[0m│\u001b[2m \u001b[0m\u001b[2m\"Interactive lectures and     \u001b[0m\u001b[2m \u001b[0m│\u001b[2m \u001b[0m\u001b[2mpacing of the course material',\u001b[0m\u001b[2m \u001b[0m│\n",
       "│\u001b[2m            \u001b[0m│\u001b[2m \u001b[0m\u001b[2mpractical assignments']        \u001b[0m\u001b[2m \u001b[0m│\u001b[2m \u001b[0m\u001b[2mpractical assignments\"]       \u001b[0m\u001b[2m \u001b[0m│\u001b[2m \u001b[0m\u001b[2m'Incorporate more real-world   \u001b[0m\u001b[2m \u001b[0m│\n",
       "│\u001b[2m            \u001b[0m│\u001b[2m                                 \u001b[0m│\u001b[2m \u001b[0m\u001b[2m                              \u001b[0m\u001b[2m \u001b[0m│\u001b[2m \u001b[0m\u001b[2mcase studies']                 \u001b[0m\u001b[2m \u001b[0m│\n",
       "│\u001b[2m            \u001b[0m│\u001b[2m                                 \u001b[0m│\u001b[2m \u001b[0m\u001b[2mThe evaluation highlights     \u001b[0m\u001b[2m \u001b[0m│\u001b[2m                                 \u001b[0m│\n",
       "│\u001b[2m            \u001b[0m│\u001b[2m                                 \u001b[0m│\u001b[2m \u001b[0m\u001b[2mthree main points: the        \u001b[0m\u001b[2m \u001b[0m│\u001b[2m                                 \u001b[0m│\n",
       "│\u001b[2m            \u001b[0m│\u001b[2m                                 \u001b[0m│\u001b[2m \u001b[0m\u001b[2mprofessor's enthusiasm and    \u001b[0m\u001b[2m \u001b[0m│\u001b[2m                                 \u001b[0m│\n",
       "│\u001b[2m            \u001b[0m│\u001b[2m                                 \u001b[0m│\u001b[2m \u001b[0m\u001b[2mwillingness to help, the      \u001b[0m\u001b[2m \u001b[0m│\u001b[2m                                 \u001b[0m│\n",
       "│\u001b[2m            \u001b[0m│\u001b[2m                                 \u001b[0m│\u001b[2m \u001b[0m\u001b[2meffectiveness of office hours,\u001b[0m\u001b[2m \u001b[0m│\u001b[2m                                 \u001b[0m│\n",
       "│\u001b[2m            \u001b[0m│\u001b[2m                                 \u001b[0m│\u001b[2m \u001b[0m\u001b[2mand the engaging nature of the\u001b[0m\u001b[2m \u001b[0m│\u001b[2m                                 \u001b[0m│\n",
       "│\u001b[2m            \u001b[0m│\u001b[2m                                 \u001b[0m│\u001b[2m \u001b[0m\u001b[2minteractive lectures and      \u001b[0m\u001b[2m \u001b[0m│\u001b[2m                                 \u001b[0m│\n",
       "│\u001b[2m            \u001b[0m│\u001b[2m                                 \u001b[0m│\u001b[2m \u001b[0m\u001b[2mpractical assignments.        \u001b[0m\u001b[2m \u001b[0m│\u001b[2m                                 \u001b[0m│\n",
       "├────────────┼─────────────────────────────────┼────────────────────────────────┼─────────────────────────────────┤\n",
       "│\u001b[2m \u001b[0m\u001b[2mNeutral   \u001b[0m\u001b[2m \u001b[0m│\u001b[2m \u001b[0m\u001b[2m['Appreciated analytical       \u001b[0m\u001b[2m \u001b[0m│\u001b[2m \u001b[0m\u001b[2m[\"Appreciated analytical      \u001b[0m\u001b[2m \u001b[0m│\u001b[2m \u001b[0m\u001b[2m['Incorporate more real-world  \u001b[0m\u001b[2m \u001b[0m│\n",
       "│\u001b[2m            \u001b[0m│\u001b[2m \u001b[0m\u001b[2mrigor', 'Desire for more       \u001b[0m\u001b[2m \u001b[0m│\u001b[2m \u001b[0m\u001b[2mrigor\", \"Desire for more      \u001b[0m\u001b[2m \u001b[0m│\u001b[2m \u001b[0m\u001b[2meconomic examples into         \u001b[0m\u001b[2m \u001b[0m│\n",
       "│\u001b[2m            \u001b[0m│\u001b[2m \u001b[0m\u001b[2mpractical discussions', 'Course\u001b[0m\u001b[2m \u001b[0m│\u001b[2m \u001b[0m\u001b[2mpractical discussions\",       \u001b[0m\u001b[2m \u001b[0m│\u001b[2m \u001b[0m\u001b[2mlectures', 'Facilitate         \u001b[0m\u001b[2m \u001b[0m│\n",
       "│\u001b[2m            \u001b[0m│\u001b[2m \u001b[0m\u001b[2mfelt isolated from real-world  \u001b[0m\u001b[2m \u001b[0m│\u001b[2m \u001b[0m\u001b[2m\"Course felt isolated from    \u001b[0m\u001b[2m \u001b[0m│\u001b[2m \u001b[0m\u001b[2mdiscussions on the application \u001b[0m\u001b[2m \u001b[0m│\n",
       "│\u001b[2m            \u001b[0m│\u001b[2m \u001b[0m\u001b[2missues']                       \u001b[0m\u001b[2m \u001b[0m│\u001b[2m \u001b[0m\u001b[2mreal-world issues\"]           \u001b[0m\u001b[2m \u001b[0m│\u001b[2m \u001b[0m\u001b[2mof theories to current economic\u001b[0m\u001b[2m \u001b[0m│\n",
       "│\u001b[2m            \u001b[0m│\u001b[2m                                 \u001b[0m│\u001b[2m \u001b[0m\u001b[2m                              \u001b[0m\u001b[2m \u001b[0m│\u001b[2m \u001b[0m\u001b[2missues', 'Include case studies \u001b[0m\u001b[2m \u001b[0m│\n",
       "│\u001b[2m            \u001b[0m│\u001b[2m                                 \u001b[0m│\u001b[2m \u001b[0m\u001b[2mThe student values the        \u001b[0m\u001b[2m \u001b[0m│\u001b[2m \u001b[0m\u001b[2mor guest speakers from         \u001b[0m\u001b[2m \u001b[0m│\n",
       "│\u001b[2m            \u001b[0m│\u001b[2m                                 \u001b[0m│\u001b[2m \u001b[0m\u001b[2manalytical depth of the course\u001b[0m\u001b[2m \u001b[0m│\u001b[2m \u001b[0m\u001b[2mindustry']                     \u001b[0m\u001b[2m \u001b[0m│\n",
       "│\u001b[2m            \u001b[0m│\u001b[2m                                 \u001b[0m│\u001b[2m \u001b[0m\u001b[2mdue to their math background, \u001b[0m\u001b[2m \u001b[0m│\u001b[2m                                 \u001b[0m│\n",
       "│\u001b[2m            \u001b[0m│\u001b[2m                                 \u001b[0m│\u001b[2m \u001b[0m\u001b[2mbut they expressed a need for \u001b[0m\u001b[2m \u001b[0m│\u001b[2m                                 \u001b[0m│\n",
       "│\u001b[2m            \u001b[0m│\u001b[2m                                 \u001b[0m│\u001b[2m \u001b[0m\u001b[2mmore practical applications of\u001b[0m\u001b[2m \u001b[0m│\u001b[2m                                 \u001b[0m│\n",
       "│\u001b[2m            \u001b[0m│\u001b[2m                                 \u001b[0m│\u001b[2m \u001b[0m\u001b[2mthe theories discussed,       \u001b[0m\u001b[2m \u001b[0m│\u001b[2m                                 \u001b[0m│\n",
       "│\u001b[2m            \u001b[0m│\u001b[2m                                 \u001b[0m│\u001b[2m \u001b[0m\u001b[2mindicating a gap between the  \u001b[0m\u001b[2m \u001b[0m│\u001b[2m                                 \u001b[0m│\n",
       "│\u001b[2m            \u001b[0m│\u001b[2m                                 \u001b[0m│\u001b[2m \u001b[0m\u001b[2mcourse content and real-world \u001b[0m\u001b[2m \u001b[0m│\u001b[2m                                 \u001b[0m│\n",
       "│\u001b[2m            \u001b[0m│\u001b[2m                                 \u001b[0m│\u001b[2m \u001b[0m\u001b[2meconomic issues.              \u001b[0m\u001b[2m \u001b[0m│\u001b[2m                                 \u001b[0m│\n",
       "├────────────┼─────────────────────────────────┼────────────────────────────────┼─────────────────────────────────┤\n",
       "│\u001b[2m \u001b[0m\u001b[2mPositive  \u001b[0m\u001b[2m \u001b[0m│\u001b[2m \u001b[0m\u001b[2m['Perfect mix of theory and    \u001b[0m\u001b[2m \u001b[0m│\u001b[2m \u001b[0m\u001b[2m[\"Perfect mix of theory and   \u001b[0m\u001b[2m \u001b[0m│\u001b[2m \u001b[0m\u001b[2m['Increase opportunities for   \u001b[0m\u001b[2m \u001b[0m│\n",
       "│\u001b[2m            \u001b[0m│\u001b[2m \u001b[0m\u001b[2mcase studies', 'Fair exams',   \u001b[0m\u001b[2m \u001b[0m│\u001b[2m \u001b[0m\u001b[2mcase studies\", \"Fair exams\",  \u001b[0m\u001b[2m \u001b[0m│\u001b[2m \u001b[0m\u001b[2mstudent participation',        \u001b[0m\u001b[2m \u001b[0m│\n",
       "│\u001b[2m            \u001b[0m│\u001b[2m \u001b[0m\u001b[2m'Appreciation for diversity of \u001b[0m\u001b[2m \u001b[0m│\u001b[2m \u001b[0m\u001b[2m\"Appreciation for diversity of\u001b[0m\u001b[2m \u001b[0m│\u001b[2m \u001b[0m\u001b[2m'Provide additional resources  \u001b[0m\u001b[2m \u001b[0m│\n",
       "│\u001b[2m            \u001b[0m│\u001b[2m \u001b[0m\u001b[2mperspectives']                 \u001b[0m\u001b[2m \u001b[0m│\u001b[2m \u001b[0m\u001b[2mperspectives\"]                \u001b[0m\u001b[2m \u001b[0m│\u001b[2m \u001b[0m\u001b[2mfor complex topics', 'Offer    \u001b[0m\u001b[2m \u001b[0m│\n",
       "│\u001b[2m            \u001b[0m│\u001b[2m                                 \u001b[0m│\u001b[2m \u001b[0m\u001b[2m                              \u001b[0m\u001b[2m \u001b[0m│\u001b[2m \u001b[0m\u001b[2mmore real-world application    \u001b[0m\u001b[2m \u001b[0m│\n",
       "│\u001b[2m            \u001b[0m│\u001b[2m                                 \u001b[0m│\u001b[2m \u001b[0m\u001b[2mThese points highlight the    \u001b[0m\u001b[2m \u001b[0m│\u001b[2m \u001b[0m\u001b[2mprojects']                     \u001b[0m\u001b[2m \u001b[0m│\n",
       "│\u001b[2m            \u001b[0m│\u001b[2m                                 \u001b[0m│\u001b[2m \u001b[0m\u001b[2mstudent's satisfaction with   \u001b[0m\u001b[2m \u001b[0m│\u001b[2m                                 \u001b[0m│\n",
       "│\u001b[2m            \u001b[0m│\u001b[2m                                 \u001b[0m│\u001b[2m \u001b[0m\u001b[2mthe course structure, fairness\u001b[0m\u001b[2m \u001b[0m│\u001b[2m                                 \u001b[0m│\n",
       "│\u001b[2m            \u001b[0m│\u001b[2m                                 \u001b[0m│\u001b[2m \u001b[0m\u001b[2mof assessments, and the       \u001b[0m\u001b[2m \u001b[0m│\u001b[2m                                 \u001b[0m│\n",
       "│\u001b[2m            \u001b[0m│\u001b[2m                                 \u001b[0m│\u001b[2m \u001b[0m\u001b[2minclusion of diverse          \u001b[0m\u001b[2m \u001b[0m│\u001b[2m                                 \u001b[0m│\n",
       "│\u001b[2m            \u001b[0m│\u001b[2m                                 \u001b[0m│\u001b[2m \u001b[0m\u001b[2mviewpoints, particularly in   \u001b[0m\u001b[2m \u001b[0m│\u001b[2m                                 \u001b[0m│\n",
       "│\u001b[2m            \u001b[0m│\u001b[2m                                 \u001b[0m│\u001b[2m \u001b[0m\u001b[2mglobal economic policies.     \u001b[0m\u001b[2m \u001b[0m│\u001b[2m                                 \u001b[0m│\n",
       "├────────────┼─────────────────────────────────┼────────────────────────────────┼─────────────────────────────────┤\n",
       "│\u001b[2m \u001b[0m\u001b[2mNegative  \u001b[0m\u001b[2m \u001b[0m│\u001b[2m \u001b[0m\u001b[2m['Textbook overly complex for  \u001b[0m\u001b[2m \u001b[0m│\u001b[2m \u001b[0m\u001b[2m[\"Textbook overly complex for \u001b[0m\u001b[2m \u001b[0m│\u001b[2m \u001b[0m\u001b[2m['Simplify textbook selection',\u001b[0m\u001b[2m \u001b[0m│\n",
       "│\u001b[2m            \u001b[0m│\u001b[2m \u001b[0m\u001b[2man introductory course',       \u001b[0m\u001b[2m \u001b[0m│\u001b[2m \u001b[0m\u001b[2man introductory course\",      \u001b[0m\u001b[2m \u001b[0m│\u001b[2m \u001b[0m\u001b[2m'Align lecture content with    \u001b[0m\u001b[2m \u001b[0m│\n",
       "│\u001b[2m            \u001b[0m│\u001b[2m \u001b[0m\u001b[2m'Jargon not explained in       \u001b[0m\u001b[2m \u001b[0m│\u001b[2m \u001b[0m\u001b[2m\"Jargon not explained in      \u001b[0m\u001b[2m \u001b[0m│\u001b[2m \u001b[0m\u001b[2mtextbook', 'Provide            \u001b[0m\u001b[2m \u001b[0m│\n",
       "│\u001b[2m            \u001b[0m│\u001b[2m \u001b[0m\u001b[2mlectures', 'Need for simpler   \u001b[0m\u001b[2m \u001b[0m│\u001b[2m \u001b[0m\u001b[2mlectures\", \"Need for simpler  \u001b[0m\u001b[2m \u001b[0m│\u001b[2m \u001b[0m\u001b[2msupplementary explanatory      \u001b[0m\u001b[2m \u001b[0m│\n",
       "│\u001b[2m            \u001b[0m│\u001b[2m \u001b[0m\u001b[2mreading materials or more      \u001b[0m\u001b[2m \u001b[0m│\u001b[2m \u001b[0m\u001b[2mreading materials or more     \u001b[0m\u001b[2m \u001b[0m│\u001b[2m \u001b[0m\u001b[2mmaterials']                    \u001b[0m\u001b[2m \u001b[0m│\n",
       "│\u001b[2m            \u001b[0m│\u001b[2m \u001b[0m\u001b[2mexplanatory lectures']         \u001b[0m\u001b[2m \u001b[0m│\u001b[2m \u001b[0m\u001b[2mexplanatory lectures\"]        \u001b[0m\u001b[2m \u001b[0m│\u001b[2m                                 \u001b[0m│\n",
       "│\u001b[2m            \u001b[0m│\u001b[2m                                 \u001b[0m│\u001b[2m \u001b[0m\u001b[2m                              \u001b[0m\u001b[2m \u001b[0m│\u001b[2m                                 \u001b[0m│\n",
       "│\u001b[2m            \u001b[0m│\u001b[2m                                 \u001b[0m│\u001b[2m \u001b[0m\u001b[2mThese points capture the      \u001b[0m\u001b[2m \u001b[0m│\u001b[2m                                 \u001b[0m│\n",
       "│\u001b[2m            \u001b[0m│\u001b[2m                                 \u001b[0m│\u001b[2m \u001b[0m\u001b[2mstudent's main concerns about \u001b[0m\u001b[2m \u001b[0m│\u001b[2m                                 \u001b[0m│\n",
       "│\u001b[2m            \u001b[0m│\u001b[2m                                 \u001b[0m│\u001b[2m \u001b[0m\u001b[2mthe complexity of the         \u001b[0m\u001b[2m \u001b[0m│\u001b[2m                                 \u001b[0m│\n",
       "│\u001b[2m            \u001b[0m│\u001b[2m                                 \u001b[0m│\u001b[2m \u001b[0m\u001b[2mtextbook, the lack of jargon  \u001b[0m\u001b[2m \u001b[0m│\u001b[2m                                 \u001b[0m│\n",
       "│\u001b[2m            \u001b[0m│\u001b[2m                                 \u001b[0m│\u001b[2m \u001b[0m\u001b[2mexplanation in lectures, and  \u001b[0m\u001b[2m \u001b[0m│\u001b[2m                                 \u001b[0m│\n",
       "│\u001b[2m            \u001b[0m│\u001b[2m                                 \u001b[0m│\u001b[2m \u001b[0m\u001b[2mthe suggestion for simpler    \u001b[0m\u001b[2m \u001b[0m│\u001b[2m                                 \u001b[0m│\n",
       "│\u001b[2m            \u001b[0m│\u001b[2m                                 \u001b[0m│\u001b[2m \u001b[0m\u001b[2mmaterials or more detailed    \u001b[0m\u001b[2m \u001b[0m│\u001b[2m                                 \u001b[0m│\n",
       "│\u001b[2m            \u001b[0m│\u001b[2m                                 \u001b[0m│\u001b[2m \u001b[0m\u001b[2mlectures.                     \u001b[0m\u001b[2m \u001b[0m│\u001b[2m                                 \u001b[0m│\n",
       "├────────────┼─────────────────────────────────┼────────────────────────────────┼─────────────────────────────────┤\n",
       "│\u001b[2m \u001b[0m\u001b[2mNeutral   \u001b[0m\u001b[2m \u001b[0m│\u001b[2m \u001b[0m\u001b[2m['Knowledgeable and passionate \u001b[0m\u001b[2m \u001b[0m│\u001b[2m \u001b[0m\u001b[2m[\"Knowledgeable and passionate\u001b[0m\u001b[2m \u001b[0m│\u001b[2m \u001b[0m\u001b[2m['Incorporate diverse          \u001b[0m\u001b[2m \u001b[0m│\n",
       "│\u001b[2m            \u001b[0m│\u001b[2m \u001b[0m\u001b[2mprofessor', 'Course relied     \u001b[0m\u001b[2m \u001b[0m│\u001b[2m \u001b[0m\u001b[2mprofessor\", \"Course relied    \u001b[0m\u001b[2m \u001b[0m│\u001b[2m \u001b[0m\u001b[2massessment methods', 'Include  \u001b[0m\u001b[2m \u001b[0m│\n",
       "│\u001b[2m            \u001b[0m│\u001b[2m \u001b[0m\u001b[2mheavily on tests', 'Need for   \u001b[0m\u001b[2m \u001b[0m│\u001b[2m \u001b[0m\u001b[2mheavily on tests\", \"Need for  \u001b[0m\u001b[2m \u001b[0m│\u001b[2m \u001b[0m\u001b[2mmore project-based             \u001b[0m\u001b[2m \u001b[0m│\n",
       "│\u001b[2m            \u001b[0m│\u001b[2m \u001b[0m\u001b[2mmore varied assignments']      \u001b[0m\u001b[2m \u001b[0m│\u001b[2m \u001b[0m\u001b[2mmore varied assignments\"]     \u001b[0m\u001b[2m \u001b[0m│\u001b[2m \u001b[0m\u001b[2massignments', 'Offer           \u001b[0m\u001b[2m \u001b[0m│\n",
       "│\u001b[2m            \u001b[0m│\u001b[2m                                 \u001b[0m│\u001b[2m \u001b[0m\u001b[2m                              \u001b[0m\u001b[2m \u001b[0m│\u001b[2m \u001b[0m\u001b[2malternative evaluation         \u001b[0m\u001b[2m \u001b[0m│\n",
       "│\u001b[2m            \u001b[0m│\u001b[2m                                 \u001b[0m│\u001b[2m \u001b[0m\u001b[2mThis summary captures the main\u001b[0m\u001b[2m \u001b[0m│\u001b[2m \u001b[0m\u001b[2moptions']                      \u001b[0m\u001b[2m \u001b[0m│\n",
       "│\u001b[2m            \u001b[0m│\u001b[2m                                 \u001b[0m│\u001b[2m \u001b[0m\u001b[2mpoints: the professor's       \u001b[0m\u001b[2m \u001b[0m│\u001b[2m                                 \u001b[0m│\n",
       "│\u001b[2m            \u001b[0m│\u001b[2m                                 \u001b[0m│\u001b[2m \u001b[0m\u001b[2mexpertise and enthusiasm, the \u001b[0m\u001b[2m \u001b[0m│\u001b[2m                                 \u001b[0m│\n",
       "│\u001b[2m            \u001b[0m│\u001b[2m                                 \u001b[0m│\u001b[2m \u001b[0m\u001b[2mheavy reliance on tests, and  \u001b[0m\u001b[2m \u001b[0m│\u001b[2m                                 \u001b[0m│\n",
       "│\u001b[2m            \u001b[0m│\u001b[2m                                 \u001b[0m│\u001b[2m \u001b[0m\u001b[2mthe suggestion for more       \u001b[0m\u001b[2m \u001b[0m│\u001b[2m                                 \u001b[0m│\n",
       "│\u001b[2m            \u001b[0m│\u001b[2m                                 \u001b[0m│\u001b[2m \u001b[0m\u001b[2mdiverse assessments to        \u001b[0m\u001b[2m \u001b[0m│\u001b[2m                                 \u001b[0m│\n",
       "│\u001b[2m            \u001b[0m│\u001b[2m                                 \u001b[0m│\u001b[2m \u001b[0m\u001b[2maccommodate different learning\u001b[0m\u001b[2m \u001b[0m│\u001b[2m                                 \u001b[0m│\n",
       "│\u001b[2m            \u001b[0m│\u001b[2m                                 \u001b[0m│\u001b[2m \u001b[0m\u001b[2mstyles.                       \u001b[0m\u001b[2m \u001b[0m│\u001b[2m                                 \u001b[0m│\n",
       "├────────────┼─────────────────────────────────┼────────────────────────────────┼─────────────────────────────────┤\n",
       "│\u001b[2m \u001b[0m\u001b[2mNeutral   \u001b[0m\u001b[2m \u001b[0m│\u001b[2m \u001b[0m\u001b[2m['Solid introduction to        \u001b[0m\u001b[2m \u001b[0m│\u001b[2m \u001b[0m\u001b[2m[\"Solid introduction to       \u001b[0m\u001b[2m \u001b[0m│\u001b[2m \u001b[0m\u001b[2m['Incorporate more real-world  \u001b[0m\u001b[2m \u001b[0m│\n",
       "│\u001b[2m            \u001b[0m│\u001b[2m \u001b[0m\u001b[2meconomics', 'Heavily           \u001b[0m\u001b[2m \u001b[0m│\u001b[2m \u001b[0m\u001b[2meconomics\", \"Heavily          \u001b[0m\u001b[2m \u001b[0m│\u001b[2m \u001b[0m\u001b[2mcase studies', 'Facilitate     \u001b[0m\u001b[2m \u001b[0m│\n",
       "│\u001b[2m            \u001b[0m│\u001b[2m \u001b[0m\u001b[2mtheoretical focus', 'Desire for\u001b[0m\u001b[2m \u001b[0m│\u001b[2m \u001b[0m\u001b[2mtheoretical focus\", \"Desire   \u001b[0m\u001b[2m \u001b[0m│\u001b[2m \u001b[0m\u001b[2mclass discussions on current   \u001b[0m\u001b[2m \u001b[0m│\n",
       "│\u001b[2m            \u001b[0m│\u001b[2m \u001b[0m\u001b[2mmore real-world application']  \u001b[0m\u001b[2m \u001b[0m│\u001b[2m \u001b[0m\u001b[2mfor more real-world           \u001b[0m\u001b[2m \u001b[0m│\u001b[2m \u001b[0m\u001b[2meconomic events', 'Include     \u001b[0m\u001b[2m \u001b[0m│\n",
       "│\u001b[2m            \u001b[0m│\u001b[2m                                 \u001b[0m│\u001b[2m \u001b[0m\u001b[2mapplication\"]                 \u001b[0m\u001b[2m \u001b[0m│\u001b[2m \u001b[0m\u001b[2mpractical applications in      \u001b[0m\u001b[2m \u001b[0m│\n",
       "│\u001b[2m            \u001b[0m│\u001b[2m                                 \u001b[0m│\u001b[2m \u001b[0m\u001b[2m                              \u001b[0m\u001b[2m \u001b[0m│\u001b[2m \u001b[0m\u001b[2massignments']                  \u001b[0m\u001b[2m \u001b[0m│\n",
       "│\u001b[2m            \u001b[0m│\u001b[2m                                 \u001b[0m│\u001b[2m \u001b[0m\u001b[2mThese points capture the      \u001b[0m\u001b[2m \u001b[0m│\u001b[2m                                 \u001b[0m│\n",
       "│\u001b[2m            \u001b[0m│\u001b[2m                                 \u001b[0m│\u001b[2m \u001b[0m\u001b[2mstudent's overall positive    \u001b[0m\u001b[2m \u001b[0m│\u001b[2m                                 \u001b[0m│\n",
       "│\u001b[2m            \u001b[0m│\u001b[2m                                 \u001b[0m│\u001b[2m \u001b[0m\u001b[2mimpression of the course as an\u001b[0m\u001b[2m \u001b[0m│\u001b[2m                                 \u001b[0m│\n",
       "│\u001b[2m            \u001b[0m│\u001b[2m                                 \u001b[0m│\u001b[2m \u001b[0m\u001b[2mintroduction, their           \u001b[0m\u001b[2m \u001b[0m│\u001b[2m                                 \u001b[0m│\n",
       "│\u001b[2m            \u001b[0m│\u001b[2m                                 \u001b[0m│\u001b[2m \u001b[0m\u001b[2mobservation of its theoretical\u001b[0m\u001b[2m \u001b[0m│\u001b[2m                                 \u001b[0m│\n",
       "│\u001b[2m            \u001b[0m│\u001b[2m                                 \u001b[0m│\u001b[2m \u001b[0m\u001b[2memphasis, and their suggestion\u001b[0m\u001b[2m \u001b[0m│\u001b[2m                                 \u001b[0m│\n",
       "│\u001b[2m            \u001b[0m│\u001b[2m                                 \u001b[0m│\u001b[2m \u001b[0m\u001b[2mfor incorporating more        \u001b[0m\u001b[2m \u001b[0m│\u001b[2m                                 \u001b[0m│\n",
       "│\u001b[2m            \u001b[0m│\u001b[2m                                 \u001b[0m│\u001b[2m \u001b[0m\u001b[2mpractical discussions to      \u001b[0m\u001b[2m \u001b[0m│\u001b[2m                                 \u001b[0m│\n",
       "│\u001b[2m            \u001b[0m│\u001b[2m                                 \u001b[0m│\u001b[2m \u001b[0m\u001b[2menhance learning.             \u001b[0m\u001b[2m \u001b[0m│\u001b[2m                                 \u001b[0m│\n",
       "├────────────┼─────────────────────────────────┼────────────────────────────────┼─────────────────────────────────┤\n",
       "│\u001b[2m \u001b[0m\u001b[2mPositive  \u001b[0m\u001b[2m \u001b[0m│\u001b[2m \u001b[0m\u001b[2m['Enjoyed the course and group \u001b[0m\u001b[2m \u001b[0m│\u001b[2m \u001b[0m\u001b[2m[\"Enjoyed the course and group\u001b[0m\u001b[2m \u001b[0m│\u001b[2m \u001b[0m\u001b[2m['Provide more detailed        \u001b[0m\u001b[2m \u001b[0m│\n",
       "│\u001b[2m            \u001b[0m│\u001b[2m \u001b[0m\u001b[2mprojects', 'Appreciated        \u001b[0m\u001b[2m \u001b[0m│\u001b[2m \u001b[0m\u001b[2mprojects\", \"Appreciated       \u001b[0m\u001b[2m \u001b[0m│\u001b[2m \u001b[0m\u001b[2mfeedback on assignments',      \u001b[0m\u001b[2m \u001b[0m│\n",
       "│\u001b[2m            \u001b[0m│\u001b[2m \u001b[0m\u001b[2mapplying economic concepts to  \u001b[0m\u001b[2m \u001b[0m│\u001b[2m \u001b[0m\u001b[2mapplying economic concepts to \u001b[0m\u001b[2m \u001b[0m│\u001b[2m \u001b[0m\u001b[2m'Increase clarity on common    \u001b[0m\u001b[2m \u001b[0m│\n",
       "│\u001b[2m            \u001b[0m│\u001b[2m \u001b[0m\u001b[2mreal-life problems', 'Desire   \u001b[0m\u001b[2m \u001b[0m│\u001b[2m \u001b[0m\u001b[2mreal-life problems\", \"Desire  \u001b[0m\u001b[2m \u001b[0m│\u001b[2m \u001b[0m\u001b[2mmistakes', 'Offer additional   \u001b[0m\u001b[2m \u001b[0m│\n",
       "│\u001b[2m            \u001b[0m│\u001b[2m \u001b[0m\u001b[2mfor more detailed feedback on  \u001b[0m\u001b[2m \u001b[0m│\u001b[2m \u001b[0m\u001b[2mfor more detailed feedback on \u001b[0m\u001b[2m \u001b[0m│\u001b[2m \u001b[0m\u001b[2moffice hours for assignment    \u001b[0m\u001b[2m \u001b[0m│\n",
       "│\u001b[2m            \u001b[0m│\u001b[2m \u001b[0m\u001b[2massignments']                  \u001b[0m\u001b[2m \u001b[0m│\u001b[2m \u001b[0m\u001b[2massignments\"]                 \u001b[0m\u001b[2m \u001b[0m│\u001b[2m \u001b[0m\u001b[2mreviews']                      \u001b[0m\u001b[2m \u001b[0m│\n",
       "│\u001b[2m            \u001b[0m│\u001b[2m                                 \u001b[0m│\u001b[2m \u001b[0m\u001b[2m                              \u001b[0m\u001b[2m \u001b[0m│\u001b[2m                                 \u001b[0m│\n",
       "│\u001b[2m            \u001b[0m│\u001b[2m                                 \u001b[0m│\u001b[2m \u001b[0m\u001b[2mThese points capture the      \u001b[0m\u001b[2m \u001b[0m│\u001b[2m                                 \u001b[0m│\n",
       "│\u001b[2m            \u001b[0m│\u001b[2m                                 \u001b[0m│\u001b[2m \u001b[0m\u001b[2messence of the student's      \u001b[0m\u001b[2m \u001b[0m│\u001b[2m                                 \u001b[0m│\n",
       "│\u001b[2m            \u001b[0m│\u001b[2m                                 \u001b[0m│\u001b[2m \u001b[0m\u001b[2mexperience, highlighting both \u001b[0m\u001b[2m \u001b[0m│\u001b[2m                                 \u001b[0m│\n",
       "│\u001b[2m            \u001b[0m│\u001b[2m                                 \u001b[0m│\u001b[2m \u001b[0m\u001b[2mthe positive aspects and the  \u001b[0m\u001b[2m \u001b[0m│\u001b[2m                                 \u001b[0m│\n",
       "│\u001b[2m            \u001b[0m│\u001b[2m                                 \u001b[0m│\u001b[2m \u001b[0m\u001b[2marea for improvement.         \u001b[0m\u001b[2m \u001b[0m│\u001b[2m                                 \u001b[0m│\n",
       "├────────────┼─────────────────────────────────┼────────────────────────────────┼─────────────────────────────────┤\n",
       "│\u001b[2m \u001b[0m\u001b[2mPositive  \u001b[0m\u001b[2m \u001b[0m│\u001b[2m \u001b[0m\u001b[2m['Engaging and informative     \u001b[0m\u001b[2m \u001b[0m│\u001b[2m \u001b[0m\u001b[2m[\"Engaging and informative    \u001b[0m\u001b[2m \u001b[0m│\u001b[2m \u001b[0m\u001b[2m['Adjust the pace of the       \u001b[0m\u001b[2m \u001b[0m│\n",
       "│\u001b[2m            \u001b[0m│\u001b[2m \u001b[0m\u001b[2mcourse', 'Professor made       \u001b[0m\u001b[2m \u001b[0m│\u001b[2m \u001b[0m\u001b[2mcourse\", \"Professor made      \u001b[0m\u001b[2m \u001b[0m│\u001b[2m \u001b[0m\u001b[2mcourse', 'Provide additional   \u001b[0m\u001b[2m \u001b[0m│\n",
       "│\u001b[2m            \u001b[0m│\u001b[2m \u001b[0m\u001b[2mcomplex concepts accessible',  \u001b[0m\u001b[2m \u001b[0m│\u001b[2m \u001b[0m\u001b[2mcomplex concepts accessible\", \u001b[0m\u001b[2m \u001b[0m│\u001b[2m \u001b[0m\u001b[2mresources for weekly readings',\u001b[0m\u001b[2m \u001b[0m│\n",
       "│\u001b[2m            \u001b[0m│\u001b[2m \u001b[0m\u001b[2m'Pace was a bit fast, struggled\u001b[0m\u001b[2m \u001b[0m│\u001b[2m \u001b[0m\u001b[2m\"Pace was a bit fast,         \u001b[0m\u001b[2m \u001b[0m│\u001b[2m \u001b[0m\u001b[2m'Incorporate more review       \u001b[0m\u001b[2m \u001b[0m│\n",
       "│\u001b[2m            \u001b[0m│\u001b[2m \u001b[0m\u001b[2mwith weekly readings']         \u001b[0m\u001b[2m \u001b[0m│\u001b[2m \u001b[0m\u001b[2mstruggled with weekly         \u001b[0m\u001b[2m \u001b[0m│\u001b[2m \u001b[0m\u001b[2msessions']                     \u001b[0m\u001b[2m \u001b[0m│\n",
       "│\u001b[2m            \u001b[0m│\u001b[2m                                 \u001b[0m│\u001b[2m \u001b[0m\u001b[2mreadings\"]                    \u001b[0m\u001b[2m \u001b[0m│\u001b[2m                                 \u001b[0m│\n",
       "│\u001b[2m            \u001b[0m│\u001b[2m                                 \u001b[0m│\u001b[2m \u001b[0m\u001b[2m                              \u001b[0m\u001b[2m \u001b[0m│\u001b[2m                                 \u001b[0m│\n",
       "│\u001b[2m            \u001b[0m│\u001b[2m                                 \u001b[0m│\u001b[2m \u001b[0m\u001b[2mThese key points capture the  \u001b[0m\u001b[2m \u001b[0m│\u001b[2m                                 \u001b[0m│\n",
       "│\u001b[2m            \u001b[0m│\u001b[2m                                 \u001b[0m│\u001b[2m \u001b[0m\u001b[2mstudent's overall positive    \u001b[0m\u001b[2m \u001b[0m│\u001b[2m                                 \u001b[0m│\n",
       "│\u001b[2m            \u001b[0m│\u001b[2m                                 \u001b[0m│\u001b[2m \u001b[0m\u001b[2mexperience with the course and\u001b[0m\u001b[2m \u001b[0m│\u001b[2m                                 \u001b[0m│\n",
       "│\u001b[2m            \u001b[0m│\u001b[2m                                 \u001b[0m│\u001b[2m \u001b[0m\u001b[2mthe teaching methods, while   \u001b[0m\u001b[2m \u001b[0m│\u001b[2m                                 \u001b[0m│\n",
       "│\u001b[2m            \u001b[0m│\u001b[2m                                 \u001b[0m│\u001b[2m \u001b[0m\u001b[2malso highlighting a specific  \u001b[0m\u001b[2m \u001b[0m│\u001b[2m                                 \u001b[0m│\n",
       "│\u001b[2m            \u001b[0m│\u001b[2m                                 \u001b[0m│\u001b[2m \u001b[0m\u001b[2marea for improvement regarding\u001b[0m\u001b[2m \u001b[0m│\u001b[2m                                 \u001b[0m│\n",
       "│\u001b[2m            \u001b[0m│\u001b[2m                                 \u001b[0m│\u001b[2m \u001b[0m\u001b[2mthe course pace and reading   \u001b[0m\u001b[2m \u001b[0m│\u001b[2m                                 \u001b[0m│\n",
       "│\u001b[2m            \u001b[0m│\u001b[2m                                 \u001b[0m│\u001b[2m \u001b[0m\u001b[2mworkload.                     \u001b[0m\u001b[2m \u001b[0m│\u001b[2m                                 \u001b[0m│\n",
       "└────────────┴─────────────────────────────────┴────────────────────────────────┴─────────────────────────────────┘\n"
      ]
     },
     "metadata": {},
     "output_type": "display_data"
    }
   ],
   "source": [
    "results.select(\"sentiment\", \"themes\", \"themes_generated_tokens\", \"improvements\").print(format=\"rich\")"
   ]
  },
  {
   "cell_type": "markdown",
   "id": "a9c6b091-42d6-4d62-b7f0-f91eef33c1fe",
   "metadata": {},
   "source": [
    "We can do a quick tally of the sentiments:"
   ]
  },
  {
   "cell_type": "code",
   "execution_count": 14,
   "id": "acd5ca3d",
   "metadata": {},
   "outputs": [
    {
     "data": {
      "text/html": [
       "<pre style=\"white-space:pre;overflow-x:auto;line-height:normal;font-family:Menlo,'DejaVu Sans Mono',consolas,'Courier New',monospace\">┏━━━━━━━━━━┳━━━━━━━┓\n",
       "┃<span style=\"color: #800080; text-decoration-color: #800080; font-weight: bold\"> value    </span>┃<span style=\"color: #800080; text-decoration-color: #800080; font-weight: bold\"> count </span>┃\n",
       "┡━━━━━━━━━━╇━━━━━━━┩\n",
       "│<span style=\"color: #7f7f7f; text-decoration-color: #7f7f7f\"> Neutral  </span>│<span style=\"color: #7f7f7f; text-decoration-color: #7f7f7f\"> 4     </span>│\n",
       "├──────────┼───────┤\n",
       "│<span style=\"color: #7f7f7f; text-decoration-color: #7f7f7f\"> Positive </span>│<span style=\"color: #7f7f7f; text-decoration-color: #7f7f7f\"> 4     </span>│\n",
       "├──────────┼───────┤\n",
       "│<span style=\"color: #7f7f7f; text-decoration-color: #7f7f7f\"> Negative </span>│<span style=\"color: #7f7f7f; text-decoration-color: #7f7f7f\"> 2     </span>│\n",
       "└──────────┴───────┘\n",
       "</pre>\n"
      ],
      "text/plain": [
       "┏━━━━━━━━━━┳━━━━━━━┓\n",
       "┃\u001b[1;35m \u001b[0m\u001b[1;35mvalue   \u001b[0m\u001b[1;35m \u001b[0m┃\u001b[1;35m \u001b[0m\u001b[1;35mcount\u001b[0m\u001b[1;35m \u001b[0m┃\n",
       "┡━━━━━━━━━━╇━━━━━━━┩\n",
       "│\u001b[2m \u001b[0m\u001b[2mNeutral \u001b[0m\u001b[2m \u001b[0m│\u001b[2m \u001b[0m\u001b[2m4    \u001b[0m\u001b[2m \u001b[0m│\n",
       "├──────────┼───────┤\n",
       "│\u001b[2m \u001b[0m\u001b[2mPositive\u001b[0m\u001b[2m \u001b[0m│\u001b[2m \u001b[0m\u001b[2m4    \u001b[0m\u001b[2m \u001b[0m│\n",
       "├──────────┼───────┤\n",
       "│\u001b[2m \u001b[0m\u001b[2mNegative\u001b[0m\u001b[2m \u001b[0m│\u001b[2m \u001b[0m\u001b[2m2    \u001b[0m\u001b[2m \u001b[0m│\n",
       "└──────────┴───────┘\n"
      ]
     },
     "metadata": {},
     "output_type": "display_data"
    }
   ],
   "source": [
    "results.select(\"sentiment\").tally().print(format = \"rich\")"
   ]
  },
  {
   "cell_type": "markdown",
   "id": "5483ecea",
   "metadata": {},
   "source": [
    "We can also use pandas methods by first converting:"
   ]
  },
  {
   "cell_type": "code",
   "execution_count": 15,
   "id": "9f9618fc-3250-4fbe-bddc-cd4cd5c624f7",
   "metadata": {},
   "outputs": [
    {
     "data": {
      "text/plain": [
       "answer.sentiment\n",
       "Neutral     4\n",
       "Positive    4\n",
       "Negative    2\n",
       "Name: count, dtype: int64"
      ]
     },
     "execution_count": 15,
     "metadata": {},
     "output_type": "execute_result"
    }
   ],
   "source": [
    "df_sentiment = results.to_pandas()[\"answer.sentiment\"]\n",
    "df_sentiment.value_counts()"
   ]
  },
  {
   "cell_type": "markdown",
   "id": "bad98c73-b2e8-4b31-89a5-1a85056ba134",
   "metadata": {},
   "source": [
    "## Use responses to construct new questions\n",
    "We can use the responses to our initial questions to construct more questions about the texts. For example, we can prompt a model to condense the individual lists of themes and areas for improvement into short lists, and then use the new lists to quantify the topics across the set of evaluations."
   ]
  },
  {
   "cell_type": "markdown",
   "id": "e3f96f5e-ba68-4660-b876-d3f34b396213",
   "metadata": {},
   "source": [
    "Here we take the lists of themes in each evaluation, flatten them into a (duplicative) list, and then create a new question prompting a model to condense it for us:"
   ]
  },
  {
   "cell_type": "code",
   "execution_count": 16,
   "id": "291c5b98",
   "metadata": {},
   "outputs": [
    {
     "data": {
      "text/html": [
       "<pre style=\"white-space:pre;overflow-x:auto;line-height:normal;font-family:Menlo,'DejaVu Sans Mono',consolas,'Courier New',monospace\">┏━━━━━━━━━━━━━━━━━━━━━━━━━━━━━━━━━━━━━━━━━━━━━━━━━━━━━━━━┳━━━━━━━━━━━━━━━━━━━━━━━━━━━━━━━━━━━━━━━━━━━━━━━━━━━━━━━━┓\n",
       "┃<span style=\"color: #800080; text-decoration-color: #800080; font-weight: bold\"> answer                                                 </span>┃<span style=\"color: #800080; text-decoration-color: #800080; font-weight: bold\"> generated_tokens                                       </span>┃\n",
       "┃<span style=\"color: #800080; text-decoration-color: #800080; font-weight: bold\"> .themes                                                </span>┃<span style=\"color: #800080; text-decoration-color: #800080; font-weight: bold\"> .themes_generated_tokens                               </span>┃\n",
       "┡━━━━━━━━━━━━━━━━━━━━━━━━━━━━━━━━━━━━━━━━━━━━━━━━━━━━━━━━╇━━━━━━━━━━━━━━━━━━━━━━━━━━━━━━━━━━━━━━━━━━━━━━━━━━━━━━━━┩\n",
       "│<span style=\"color: #7f7f7f; text-decoration-color: #7f7f7f\"> ['Material felt dry', 'Difficult to connect with       </span>│<span style=\"color: #7f7f7f; text-decoration-color: #7f7f7f\"> [\"Material felt dry\", \"Difficult to connect with       </span>│\n",
       "│<span style=\"color: #7f7f7f; text-decoration-color: #7f7f7f\"> real-world applications', 'More current event examples </span>│<span style=\"color: #7f7f7f; text-decoration-color: #7f7f7f\"> real-world applications\", \"More current event examples </span>│\n",
       "│<span style=\"color: #7f7f7f; text-decoration-color: #7f7f7f\"> needed']                                               </span>│<span style=\"color: #7f7f7f; text-decoration-color: #7f7f7f\"> needed\"]                                               </span>│\n",
       "│<span style=\"color: #7f7f7f; text-decoration-color: #7f7f7f\">                                                        </span>│<span style=\"color: #7f7f7f; text-decoration-color: #7f7f7f\">                                                        </span>│\n",
       "│<span style=\"color: #7f7f7f; text-decoration-color: #7f7f7f\">                                                        </span>│<span style=\"color: #7f7f7f; text-decoration-color: #7f7f7f\"> The student found the material unengaging, struggled   </span>│\n",
       "│<span style=\"color: #7f7f7f; text-decoration-color: #7f7f7f\">                                                        </span>│<span style=\"color: #7f7f7f; text-decoration-color: #7f7f7f\"> to see its relevance to real-world situations, and     </span>│\n",
       "│<span style=\"color: #7f7f7f; text-decoration-color: #7f7f7f\">                                                        </span>│<span style=\"color: #7f7f7f; text-decoration-color: #7f7f7f\"> suggested that incorporating examples from current     </span>│\n",
       "│<span style=\"color: #7f7f7f; text-decoration-color: #7f7f7f\">                                                        </span>│<span style=\"color: #7f7f7f; text-decoration-color: #7f7f7f\"> events could enhance interest and understanding.       </span>│\n",
       "├────────────────────────────────────────────────────────┼────────────────────────────────────────────────────────┤\n",
       "│<span style=\"color: #7f7f7f; text-decoration-color: #7f7f7f\"> ['Well-organized course content', 'Monotonous and      </span>│<span style=\"color: #7f7f7f; text-decoration-color: #7f7f7f\"> [\"Well-organized course content\", \"Monotonous and      </span>│\n",
       "│<span style=\"color: #7f7f7f; text-decoration-color: #7f7f7f\"> hard-to-follow lectures', 'Suggestion for more visual  </span>│<span style=\"color: #7f7f7f; text-decoration-color: #7f7f7f\"> hard-to-follow lectures\", \"Suggestion for more visual  </span>│\n",
       "│<span style=\"color: #7f7f7f; text-decoration-color: #7f7f7f\"> aids and guest lectures']                              </span>│<span style=\"color: #7f7f7f; text-decoration-color: #7f7f7f\"> aids and guest lectures\"]                              </span>│\n",
       "│<span style=\"color: #7f7f7f; text-decoration-color: #7f7f7f\">                                                        </span>│<span style=\"color: #7f7f7f; text-decoration-color: #7f7f7f\">                                                        </span>│\n",
       "│<span style=\"color: #7f7f7f; text-decoration-color: #7f7f7f\">                                                        </span>│<span style=\"color: #7f7f7f; text-decoration-color: #7f7f7f\"> These points capture the essence of the evaluation:    </span>│\n",
       "│<span style=\"color: #7f7f7f; text-decoration-color: #7f7f7f\">                                                        </span>│<span style=\"color: #7f7f7f; text-decoration-color: #7f7f7f\"> the positive organization of the course, the negative  </span>│\n",
       "│<span style=\"color: #7f7f7f; text-decoration-color: #7f7f7f\">                                                        </span>│<span style=\"color: #7f7f7f; text-decoration-color: #7f7f7f\"> aspect of the lecture delivery, and the constructive   </span>│\n",
       "│<span style=\"color: #7f7f7f; text-decoration-color: #7f7f7f\">                                                        </span>│<span style=\"color: #7f7f7f; text-decoration-color: #7f7f7f\"> suggestions for improvement.                           </span>│\n",
       "├────────────────────────────────────────────────────────┼────────────────────────────────────────────────────────┤\n",
       "│<span style=\"color: #7f7f7f; text-decoration-color: #7f7f7f\"> ['Enthusiastic professor', 'Helpful during office      </span>│<span style=\"color: #7f7f7f; text-decoration-color: #7f7f7f\"> [\"Enthusiastic professor\", \"Helpful during office      </span>│\n",
       "│<span style=\"color: #7f7f7f; text-decoration-color: #7f7f7f\"> hours', 'Interactive lectures and practical            </span>│<span style=\"color: #7f7f7f; text-decoration-color: #7f7f7f\"> hours\", \"Interactive lectures and practical            </span>│\n",
       "│<span style=\"color: #7f7f7f; text-decoration-color: #7f7f7f\"> assignments']                                          </span>│<span style=\"color: #7f7f7f; text-decoration-color: #7f7f7f\"> assignments\"]                                          </span>│\n",
       "│<span style=\"color: #7f7f7f; text-decoration-color: #7f7f7f\">                                                        </span>│<span style=\"color: #7f7f7f; text-decoration-color: #7f7f7f\">                                                        </span>│\n",
       "│<span style=\"color: #7f7f7f; text-decoration-color: #7f7f7f\">                                                        </span>│<span style=\"color: #7f7f7f; text-decoration-color: #7f7f7f\"> The evaluation highlights three main points: the       </span>│\n",
       "│<span style=\"color: #7f7f7f; text-decoration-color: #7f7f7f\">                                                        </span>│<span style=\"color: #7f7f7f; text-decoration-color: #7f7f7f\"> professor's enthusiasm and willingness to help, the    </span>│\n",
       "│<span style=\"color: #7f7f7f; text-decoration-color: #7f7f7f\">                                                        </span>│<span style=\"color: #7f7f7f; text-decoration-color: #7f7f7f\"> effectiveness of office hours, and the engaging nature </span>│\n",
       "│<span style=\"color: #7f7f7f; text-decoration-color: #7f7f7f\">                                                        </span>│<span style=\"color: #7f7f7f; text-decoration-color: #7f7f7f\"> of the interactive lectures and practical assignments. </span>│\n",
       "├────────────────────────────────────────────────────────┼────────────────────────────────────────────────────────┤\n",
       "│<span style=\"color: #7f7f7f; text-decoration-color: #7f7f7f\"> ['Appreciated analytical rigor', 'Desire for more      </span>│<span style=\"color: #7f7f7f; text-decoration-color: #7f7f7f\"> [\"Appreciated analytical rigor\", \"Desire for more      </span>│\n",
       "│<span style=\"color: #7f7f7f; text-decoration-color: #7f7f7f\"> practical discussions', 'Course felt isolated from     </span>│<span style=\"color: #7f7f7f; text-decoration-color: #7f7f7f\"> practical discussions\", \"Course felt isolated from     </span>│\n",
       "│<span style=\"color: #7f7f7f; text-decoration-color: #7f7f7f\"> real-world issues']                                    </span>│<span style=\"color: #7f7f7f; text-decoration-color: #7f7f7f\"> real-world issues\"]                                    </span>│\n",
       "│<span style=\"color: #7f7f7f; text-decoration-color: #7f7f7f\">                                                        </span>│<span style=\"color: #7f7f7f; text-decoration-color: #7f7f7f\">                                                        </span>│\n",
       "│<span style=\"color: #7f7f7f; text-decoration-color: #7f7f7f\">                                                        </span>│<span style=\"color: #7f7f7f; text-decoration-color: #7f7f7f\"> The student values the analytical depth of the course  </span>│\n",
       "│<span style=\"color: #7f7f7f; text-decoration-color: #7f7f7f\">                                                        </span>│<span style=\"color: #7f7f7f; text-decoration-color: #7f7f7f\"> due to their math background, but they expressed a     </span>│\n",
       "│<span style=\"color: #7f7f7f; text-decoration-color: #7f7f7f\">                                                        </span>│<span style=\"color: #7f7f7f; text-decoration-color: #7f7f7f\"> need for more practical applications of the theories   </span>│\n",
       "│<span style=\"color: #7f7f7f; text-decoration-color: #7f7f7f\">                                                        </span>│<span style=\"color: #7f7f7f; text-decoration-color: #7f7f7f\"> discussed, indicating a gap between the course content </span>│\n",
       "│<span style=\"color: #7f7f7f; text-decoration-color: #7f7f7f\">                                                        </span>│<span style=\"color: #7f7f7f; text-decoration-color: #7f7f7f\"> and real-world economic issues.                        </span>│\n",
       "├────────────────────────────────────────────────────────┼────────────────────────────────────────────────────────┤\n",
       "│<span style=\"color: #7f7f7f; text-decoration-color: #7f7f7f\"> ['Perfect mix of theory and case studies', 'Fair       </span>│<span style=\"color: #7f7f7f; text-decoration-color: #7f7f7f\"> [\"Perfect mix of theory and case studies\", \"Fair       </span>│\n",
       "│<span style=\"color: #7f7f7f; text-decoration-color: #7f7f7f\"> exams', 'Appreciation for diversity of perspectives']  </span>│<span style=\"color: #7f7f7f; text-decoration-color: #7f7f7f\"> exams\", \"Appreciation for diversity of perspectives\"]  </span>│\n",
       "│<span style=\"color: #7f7f7f; text-decoration-color: #7f7f7f\">                                                        </span>│<span style=\"color: #7f7f7f; text-decoration-color: #7f7f7f\">                                                        </span>│\n",
       "│<span style=\"color: #7f7f7f; text-decoration-color: #7f7f7f\">                                                        </span>│<span style=\"color: #7f7f7f; text-decoration-color: #7f7f7f\"> These points highlight the student's satisfaction with </span>│\n",
       "│<span style=\"color: #7f7f7f; text-decoration-color: #7f7f7f\">                                                        </span>│<span style=\"color: #7f7f7f; text-decoration-color: #7f7f7f\"> the course structure, fairness of assessments, and the </span>│\n",
       "│<span style=\"color: #7f7f7f; text-decoration-color: #7f7f7f\">                                                        </span>│<span style=\"color: #7f7f7f; text-decoration-color: #7f7f7f\"> inclusion of diverse viewpoints, particularly in       </span>│\n",
       "│<span style=\"color: #7f7f7f; text-decoration-color: #7f7f7f\">                                                        </span>│<span style=\"color: #7f7f7f; text-decoration-color: #7f7f7f\"> global economic policies.                              </span>│\n",
       "├────────────────────────────────────────────────────────┼────────────────────────────────────────────────────────┤\n",
       "│<span style=\"color: #7f7f7f; text-decoration-color: #7f7f7f\"> ['Textbook overly complex for an introductory course', </span>│<span style=\"color: #7f7f7f; text-decoration-color: #7f7f7f\"> [\"Textbook overly complex for an introductory course\", </span>│\n",
       "│<span style=\"color: #7f7f7f; text-decoration-color: #7f7f7f\"> 'Jargon not explained in lectures', 'Need for simpler  </span>│<span style=\"color: #7f7f7f; text-decoration-color: #7f7f7f\"> \"Jargon not explained in lectures\", \"Need for simpler  </span>│\n",
       "│<span style=\"color: #7f7f7f; text-decoration-color: #7f7f7f\"> reading materials or more explanatory lectures']       </span>│<span style=\"color: #7f7f7f; text-decoration-color: #7f7f7f\"> reading materials or more explanatory lectures\"]       </span>│\n",
       "│<span style=\"color: #7f7f7f; text-decoration-color: #7f7f7f\">                                                        </span>│<span style=\"color: #7f7f7f; text-decoration-color: #7f7f7f\">                                                        </span>│\n",
       "│<span style=\"color: #7f7f7f; text-decoration-color: #7f7f7f\">                                                        </span>│<span style=\"color: #7f7f7f; text-decoration-color: #7f7f7f\"> These points capture the student's main concerns about </span>│\n",
       "│<span style=\"color: #7f7f7f; text-decoration-color: #7f7f7f\">                                                        </span>│<span style=\"color: #7f7f7f; text-decoration-color: #7f7f7f\"> the complexity of the textbook, the lack of jargon     </span>│\n",
       "│<span style=\"color: #7f7f7f; text-decoration-color: #7f7f7f\">                                                        </span>│<span style=\"color: #7f7f7f; text-decoration-color: #7f7f7f\"> explanation in lectures, and the suggestion for        </span>│\n",
       "│<span style=\"color: #7f7f7f; text-decoration-color: #7f7f7f\">                                                        </span>│<span style=\"color: #7f7f7f; text-decoration-color: #7f7f7f\"> simpler materials or more detailed lectures.           </span>│\n",
       "├────────────────────────────────────────────────────────┼────────────────────────────────────────────────────────┤\n",
       "│<span style=\"color: #7f7f7f; text-decoration-color: #7f7f7f\"> ['Knowledgeable and passionate professor', 'Course     </span>│<span style=\"color: #7f7f7f; text-decoration-color: #7f7f7f\"> [\"Knowledgeable and passionate professor\", \"Course     </span>│\n",
       "│<span style=\"color: #7f7f7f; text-decoration-color: #7f7f7f\"> relied heavily on tests', 'Need for more varied        </span>│<span style=\"color: #7f7f7f; text-decoration-color: #7f7f7f\"> relied heavily on tests\", \"Need for more varied        </span>│\n",
       "│<span style=\"color: #7f7f7f; text-decoration-color: #7f7f7f\"> assignments']                                          </span>│<span style=\"color: #7f7f7f; text-decoration-color: #7f7f7f\"> assignments\"]                                          </span>│\n",
       "│<span style=\"color: #7f7f7f; text-decoration-color: #7f7f7f\">                                                        </span>│<span style=\"color: #7f7f7f; text-decoration-color: #7f7f7f\">                                                        </span>│\n",
       "│<span style=\"color: #7f7f7f; text-decoration-color: #7f7f7f\">                                                        </span>│<span style=\"color: #7f7f7f; text-decoration-color: #7f7f7f\"> This summary captures the main points: the professor's </span>│\n",
       "│<span style=\"color: #7f7f7f; text-decoration-color: #7f7f7f\">                                                        </span>│<span style=\"color: #7f7f7f; text-decoration-color: #7f7f7f\"> expertise and enthusiasm, the heavy reliance on tests, </span>│\n",
       "│<span style=\"color: #7f7f7f; text-decoration-color: #7f7f7f\">                                                        </span>│<span style=\"color: #7f7f7f; text-decoration-color: #7f7f7f\"> and the suggestion for more diverse assessments to     </span>│\n",
       "│<span style=\"color: #7f7f7f; text-decoration-color: #7f7f7f\">                                                        </span>│<span style=\"color: #7f7f7f; text-decoration-color: #7f7f7f\"> accommodate different learning styles.                 </span>│\n",
       "├────────────────────────────────────────────────────────┼────────────────────────────────────────────────────────┤\n",
       "│<span style=\"color: #7f7f7f; text-decoration-color: #7f7f7f\"> ['Solid introduction to economics', 'Heavily           </span>│<span style=\"color: #7f7f7f; text-decoration-color: #7f7f7f\"> [\"Solid introduction to economics\", \"Heavily           </span>│\n",
       "│<span style=\"color: #7f7f7f; text-decoration-color: #7f7f7f\"> theoretical focus', 'Desire for more real-world        </span>│<span style=\"color: #7f7f7f; text-decoration-color: #7f7f7f\"> theoretical focus\", \"Desire for more real-world        </span>│\n",
       "│<span style=\"color: #7f7f7f; text-decoration-color: #7f7f7f\"> application']                                          </span>│<span style=\"color: #7f7f7f; text-decoration-color: #7f7f7f\"> application\"]                                          </span>│\n",
       "│<span style=\"color: #7f7f7f; text-decoration-color: #7f7f7f\">                                                        </span>│<span style=\"color: #7f7f7f; text-decoration-color: #7f7f7f\">                                                        </span>│\n",
       "│<span style=\"color: #7f7f7f; text-decoration-color: #7f7f7f\">                                                        </span>│<span style=\"color: #7f7f7f; text-decoration-color: #7f7f7f\"> These points capture the student's overall positive    </span>│\n",
       "│<span style=\"color: #7f7f7f; text-decoration-color: #7f7f7f\">                                                        </span>│<span style=\"color: #7f7f7f; text-decoration-color: #7f7f7f\"> impression of the course as an introduction, their     </span>│\n",
       "│<span style=\"color: #7f7f7f; text-decoration-color: #7f7f7f\">                                                        </span>│<span style=\"color: #7f7f7f; text-decoration-color: #7f7f7f\"> observation of its theoretical emphasis, and their     </span>│\n",
       "│<span style=\"color: #7f7f7f; text-decoration-color: #7f7f7f\">                                                        </span>│<span style=\"color: #7f7f7f; text-decoration-color: #7f7f7f\"> suggestion for incorporating more practical            </span>│\n",
       "│<span style=\"color: #7f7f7f; text-decoration-color: #7f7f7f\">                                                        </span>│<span style=\"color: #7f7f7f; text-decoration-color: #7f7f7f\"> discussions to enhance learning.                       </span>│\n",
       "├────────────────────────────────────────────────────────┼────────────────────────────────────────────────────────┤\n",
       "│<span style=\"color: #7f7f7f; text-decoration-color: #7f7f7f\"> ['Enjoyed the course and group projects', 'Appreciated </span>│<span style=\"color: #7f7f7f; text-decoration-color: #7f7f7f\"> [\"Enjoyed the course and group projects\", \"Appreciated </span>│\n",
       "│<span style=\"color: #7f7f7f; text-decoration-color: #7f7f7f\"> applying economic concepts to real-life problems',     </span>│<span style=\"color: #7f7f7f; text-decoration-color: #7f7f7f\"> applying economic concepts to real-life problems\",     </span>│\n",
       "│<span style=\"color: #7f7f7f; text-decoration-color: #7f7f7f\"> 'Desire for more detailed feedback on assignments']    </span>│<span style=\"color: #7f7f7f; text-decoration-color: #7f7f7f\"> \"Desire for more detailed feedback on assignments\"]    </span>│\n",
       "│<span style=\"color: #7f7f7f; text-decoration-color: #7f7f7f\">                                                        </span>│<span style=\"color: #7f7f7f; text-decoration-color: #7f7f7f\">                                                        </span>│\n",
       "│<span style=\"color: #7f7f7f; text-decoration-color: #7f7f7f\">                                                        </span>│<span style=\"color: #7f7f7f; text-decoration-color: #7f7f7f\"> These points capture the essence of the student's      </span>│\n",
       "│<span style=\"color: #7f7f7f; text-decoration-color: #7f7f7f\">                                                        </span>│<span style=\"color: #7f7f7f; text-decoration-color: #7f7f7f\"> experience, highlighting both the positive aspects and </span>│\n",
       "│<span style=\"color: #7f7f7f; text-decoration-color: #7f7f7f\">                                                        </span>│<span style=\"color: #7f7f7f; text-decoration-color: #7f7f7f\"> the area for improvement.                              </span>│\n",
       "├────────────────────────────────────────────────────────┼────────────────────────────────────────────────────────┤\n",
       "│<span style=\"color: #7f7f7f; text-decoration-color: #7f7f7f\"> ['Engaging and informative course', 'Professor made    </span>│<span style=\"color: #7f7f7f; text-decoration-color: #7f7f7f\"> [\"Engaging and informative course\", \"Professor made    </span>│\n",
       "│<span style=\"color: #7f7f7f; text-decoration-color: #7f7f7f\"> complex concepts accessible', 'Pace was a bit fast,    </span>│<span style=\"color: #7f7f7f; text-decoration-color: #7f7f7f\"> complex concepts accessible\", \"Pace was a bit fast,    </span>│\n",
       "│<span style=\"color: #7f7f7f; text-decoration-color: #7f7f7f\"> struggled with weekly readings']                       </span>│<span style=\"color: #7f7f7f; text-decoration-color: #7f7f7f\"> struggled with weekly readings\"]                       </span>│\n",
       "│<span style=\"color: #7f7f7f; text-decoration-color: #7f7f7f\">                                                        </span>│<span style=\"color: #7f7f7f; text-decoration-color: #7f7f7f\">                                                        </span>│\n",
       "│<span style=\"color: #7f7f7f; text-decoration-color: #7f7f7f\">                                                        </span>│<span style=\"color: #7f7f7f; text-decoration-color: #7f7f7f\"> These key points capture the student's overall         </span>│\n",
       "│<span style=\"color: #7f7f7f; text-decoration-color: #7f7f7f\">                                                        </span>│<span style=\"color: #7f7f7f; text-decoration-color: #7f7f7f\"> positive experience with the course and the teaching   </span>│\n",
       "│<span style=\"color: #7f7f7f; text-decoration-color: #7f7f7f\">                                                        </span>│<span style=\"color: #7f7f7f; text-decoration-color: #7f7f7f\"> methods, while also highlighting a specific area for   </span>│\n",
       "│<span style=\"color: #7f7f7f; text-decoration-color: #7f7f7f\">                                                        </span>│<span style=\"color: #7f7f7f; text-decoration-color: #7f7f7f\"> improvement regarding the course pace and reading      </span>│\n",
       "│<span style=\"color: #7f7f7f; text-decoration-color: #7f7f7f\">                                                        </span>│<span style=\"color: #7f7f7f; text-decoration-color: #7f7f7f\"> workload.                                              </span>│\n",
       "└────────────────────────────────────────────────────────┴────────────────────────────────────────────────────────┘\n",
       "</pre>\n"
      ],
      "text/plain": [
       "┏━━━━━━━━━━━━━━━━━━━━━━━━━━━━━━━━━━━━━━━━━━━━━━━━━━━━━━━━┳━━━━━━━━━━━━━━━━━━━━━━━━━━━━━━━━━━━━━━━━━━━━━━━━━━━━━━━━┓\n",
       "┃\u001b[1;35m \u001b[0m\u001b[1;35manswer                                                \u001b[0m\u001b[1;35m \u001b[0m┃\u001b[1;35m \u001b[0m\u001b[1;35mgenerated_tokens                                      \u001b[0m\u001b[1;35m \u001b[0m┃\n",
       "┃\u001b[1;35m \u001b[0m\u001b[1;35m.themes                                               \u001b[0m\u001b[1;35m \u001b[0m┃\u001b[1;35m \u001b[0m\u001b[1;35m.themes_generated_tokens                              \u001b[0m\u001b[1;35m \u001b[0m┃\n",
       "┡━━━━━━━━━━━━━━━━━━━━━━━━━━━━━━━━━━━━━━━━━━━━━━━━━━━━━━━━╇━━━━━━━━━━━━━━━━━━━━━━━━━━━━━━━━━━━━━━━━━━━━━━━━━━━━━━━━┩\n",
       "│\u001b[2m \u001b[0m\u001b[2m['Material felt dry', 'Difficult to connect with      \u001b[0m\u001b[2m \u001b[0m│\u001b[2m \u001b[0m\u001b[2m[\"Material felt dry\", \"Difficult to connect with      \u001b[0m\u001b[2m \u001b[0m│\n",
       "│\u001b[2m \u001b[0m\u001b[2mreal-world applications', 'More current event examples\u001b[0m\u001b[2m \u001b[0m│\u001b[2m \u001b[0m\u001b[2mreal-world applications\", \"More current event examples\u001b[0m\u001b[2m \u001b[0m│\n",
       "│\u001b[2m \u001b[0m\u001b[2mneeded']                                              \u001b[0m\u001b[2m \u001b[0m│\u001b[2m \u001b[0m\u001b[2mneeded\"]                                              \u001b[0m\u001b[2m \u001b[0m│\n",
       "│\u001b[2m                                                        \u001b[0m│\u001b[2m \u001b[0m\u001b[2m                                                      \u001b[0m\u001b[2m \u001b[0m│\n",
       "│\u001b[2m                                                        \u001b[0m│\u001b[2m \u001b[0m\u001b[2mThe student found the material unengaging, struggled  \u001b[0m\u001b[2m \u001b[0m│\n",
       "│\u001b[2m                                                        \u001b[0m│\u001b[2m \u001b[0m\u001b[2mto see its relevance to real-world situations, and    \u001b[0m\u001b[2m \u001b[0m│\n",
       "│\u001b[2m                                                        \u001b[0m│\u001b[2m \u001b[0m\u001b[2msuggested that incorporating examples from current    \u001b[0m\u001b[2m \u001b[0m│\n",
       "│\u001b[2m                                                        \u001b[0m│\u001b[2m \u001b[0m\u001b[2mevents could enhance interest and understanding.      \u001b[0m\u001b[2m \u001b[0m│\n",
       "├────────────────────────────────────────────────────────┼────────────────────────────────────────────────────────┤\n",
       "│\u001b[2m \u001b[0m\u001b[2m['Well-organized course content', 'Monotonous and     \u001b[0m\u001b[2m \u001b[0m│\u001b[2m \u001b[0m\u001b[2m[\"Well-organized course content\", \"Monotonous and     \u001b[0m\u001b[2m \u001b[0m│\n",
       "│\u001b[2m \u001b[0m\u001b[2mhard-to-follow lectures', 'Suggestion for more visual \u001b[0m\u001b[2m \u001b[0m│\u001b[2m \u001b[0m\u001b[2mhard-to-follow lectures\", \"Suggestion for more visual \u001b[0m\u001b[2m \u001b[0m│\n",
       "│\u001b[2m \u001b[0m\u001b[2maids and guest lectures']                             \u001b[0m\u001b[2m \u001b[0m│\u001b[2m \u001b[0m\u001b[2maids and guest lectures\"]                             \u001b[0m\u001b[2m \u001b[0m│\n",
       "│\u001b[2m                                                        \u001b[0m│\u001b[2m \u001b[0m\u001b[2m                                                      \u001b[0m\u001b[2m \u001b[0m│\n",
       "│\u001b[2m                                                        \u001b[0m│\u001b[2m \u001b[0m\u001b[2mThese points capture the essence of the evaluation:   \u001b[0m\u001b[2m \u001b[0m│\n",
       "│\u001b[2m                                                        \u001b[0m│\u001b[2m \u001b[0m\u001b[2mthe positive organization of the course, the negative \u001b[0m\u001b[2m \u001b[0m│\n",
       "│\u001b[2m                                                        \u001b[0m│\u001b[2m \u001b[0m\u001b[2maspect of the lecture delivery, and the constructive  \u001b[0m\u001b[2m \u001b[0m│\n",
       "│\u001b[2m                                                        \u001b[0m│\u001b[2m \u001b[0m\u001b[2msuggestions for improvement.                          \u001b[0m\u001b[2m \u001b[0m│\n",
       "├────────────────────────────────────────────────────────┼────────────────────────────────────────────────────────┤\n",
       "│\u001b[2m \u001b[0m\u001b[2m['Enthusiastic professor', 'Helpful during office     \u001b[0m\u001b[2m \u001b[0m│\u001b[2m \u001b[0m\u001b[2m[\"Enthusiastic professor\", \"Helpful during office     \u001b[0m\u001b[2m \u001b[0m│\n",
       "│\u001b[2m \u001b[0m\u001b[2mhours', 'Interactive lectures and practical           \u001b[0m\u001b[2m \u001b[0m│\u001b[2m \u001b[0m\u001b[2mhours\", \"Interactive lectures and practical           \u001b[0m\u001b[2m \u001b[0m│\n",
       "│\u001b[2m \u001b[0m\u001b[2massignments']                                         \u001b[0m\u001b[2m \u001b[0m│\u001b[2m \u001b[0m\u001b[2massignments\"]                                         \u001b[0m\u001b[2m \u001b[0m│\n",
       "│\u001b[2m                                                        \u001b[0m│\u001b[2m \u001b[0m\u001b[2m                                                      \u001b[0m\u001b[2m \u001b[0m│\n",
       "│\u001b[2m                                                        \u001b[0m│\u001b[2m \u001b[0m\u001b[2mThe evaluation highlights three main points: the      \u001b[0m\u001b[2m \u001b[0m│\n",
       "│\u001b[2m                                                        \u001b[0m│\u001b[2m \u001b[0m\u001b[2mprofessor's enthusiasm and willingness to help, the   \u001b[0m\u001b[2m \u001b[0m│\n",
       "│\u001b[2m                                                        \u001b[0m│\u001b[2m \u001b[0m\u001b[2meffectiveness of office hours, and the engaging nature\u001b[0m\u001b[2m \u001b[0m│\n",
       "│\u001b[2m                                                        \u001b[0m│\u001b[2m \u001b[0m\u001b[2mof the interactive lectures and practical assignments.\u001b[0m\u001b[2m \u001b[0m│\n",
       "├────────────────────────────────────────────────────────┼────────────────────────────────────────────────────────┤\n",
       "│\u001b[2m \u001b[0m\u001b[2m['Appreciated analytical rigor', 'Desire for more     \u001b[0m\u001b[2m \u001b[0m│\u001b[2m \u001b[0m\u001b[2m[\"Appreciated analytical rigor\", \"Desire for more     \u001b[0m\u001b[2m \u001b[0m│\n",
       "│\u001b[2m \u001b[0m\u001b[2mpractical discussions', 'Course felt isolated from    \u001b[0m\u001b[2m \u001b[0m│\u001b[2m \u001b[0m\u001b[2mpractical discussions\", \"Course felt isolated from    \u001b[0m\u001b[2m \u001b[0m│\n",
       "│\u001b[2m \u001b[0m\u001b[2mreal-world issues']                                   \u001b[0m\u001b[2m \u001b[0m│\u001b[2m \u001b[0m\u001b[2mreal-world issues\"]                                   \u001b[0m\u001b[2m \u001b[0m│\n",
       "│\u001b[2m                                                        \u001b[0m│\u001b[2m \u001b[0m\u001b[2m                                                      \u001b[0m\u001b[2m \u001b[0m│\n",
       "│\u001b[2m                                                        \u001b[0m│\u001b[2m \u001b[0m\u001b[2mThe student values the analytical depth of the course \u001b[0m\u001b[2m \u001b[0m│\n",
       "│\u001b[2m                                                        \u001b[0m│\u001b[2m \u001b[0m\u001b[2mdue to their math background, but they expressed a    \u001b[0m\u001b[2m \u001b[0m│\n",
       "│\u001b[2m                                                        \u001b[0m│\u001b[2m \u001b[0m\u001b[2mneed for more practical applications of the theories  \u001b[0m\u001b[2m \u001b[0m│\n",
       "│\u001b[2m                                                        \u001b[0m│\u001b[2m \u001b[0m\u001b[2mdiscussed, indicating a gap between the course content\u001b[0m\u001b[2m \u001b[0m│\n",
       "│\u001b[2m                                                        \u001b[0m│\u001b[2m \u001b[0m\u001b[2mand real-world economic issues.                       \u001b[0m\u001b[2m \u001b[0m│\n",
       "├────────────────────────────────────────────────────────┼────────────────────────────────────────────────────────┤\n",
       "│\u001b[2m \u001b[0m\u001b[2m['Perfect mix of theory and case studies', 'Fair      \u001b[0m\u001b[2m \u001b[0m│\u001b[2m \u001b[0m\u001b[2m[\"Perfect mix of theory and case studies\", \"Fair      \u001b[0m\u001b[2m \u001b[0m│\n",
       "│\u001b[2m \u001b[0m\u001b[2mexams', 'Appreciation for diversity of perspectives'] \u001b[0m\u001b[2m \u001b[0m│\u001b[2m \u001b[0m\u001b[2mexams\", \"Appreciation for diversity of perspectives\"] \u001b[0m\u001b[2m \u001b[0m│\n",
       "│\u001b[2m                                                        \u001b[0m│\u001b[2m \u001b[0m\u001b[2m                                                      \u001b[0m\u001b[2m \u001b[0m│\n",
       "│\u001b[2m                                                        \u001b[0m│\u001b[2m \u001b[0m\u001b[2mThese points highlight the student's satisfaction with\u001b[0m\u001b[2m \u001b[0m│\n",
       "│\u001b[2m                                                        \u001b[0m│\u001b[2m \u001b[0m\u001b[2mthe course structure, fairness of assessments, and the\u001b[0m\u001b[2m \u001b[0m│\n",
       "│\u001b[2m                                                        \u001b[0m│\u001b[2m \u001b[0m\u001b[2minclusion of diverse viewpoints, particularly in      \u001b[0m\u001b[2m \u001b[0m│\n",
       "│\u001b[2m                                                        \u001b[0m│\u001b[2m \u001b[0m\u001b[2mglobal economic policies.                             \u001b[0m\u001b[2m \u001b[0m│\n",
       "├────────────────────────────────────────────────────────┼────────────────────────────────────────────────────────┤\n",
       "│\u001b[2m \u001b[0m\u001b[2m['Textbook overly complex for an introductory course',\u001b[0m\u001b[2m \u001b[0m│\u001b[2m \u001b[0m\u001b[2m[\"Textbook overly complex for an introductory course\",\u001b[0m\u001b[2m \u001b[0m│\n",
       "│\u001b[2m \u001b[0m\u001b[2m'Jargon not explained in lectures', 'Need for simpler \u001b[0m\u001b[2m \u001b[0m│\u001b[2m \u001b[0m\u001b[2m\"Jargon not explained in lectures\", \"Need for simpler \u001b[0m\u001b[2m \u001b[0m│\n",
       "│\u001b[2m \u001b[0m\u001b[2mreading materials or more explanatory lectures']      \u001b[0m\u001b[2m \u001b[0m│\u001b[2m \u001b[0m\u001b[2mreading materials or more explanatory lectures\"]      \u001b[0m\u001b[2m \u001b[0m│\n",
       "│\u001b[2m                                                        \u001b[0m│\u001b[2m \u001b[0m\u001b[2m                                                      \u001b[0m\u001b[2m \u001b[0m│\n",
       "│\u001b[2m                                                        \u001b[0m│\u001b[2m \u001b[0m\u001b[2mThese points capture the student's main concerns about\u001b[0m\u001b[2m \u001b[0m│\n",
       "│\u001b[2m                                                        \u001b[0m│\u001b[2m \u001b[0m\u001b[2mthe complexity of the textbook, the lack of jargon    \u001b[0m\u001b[2m \u001b[0m│\n",
       "│\u001b[2m                                                        \u001b[0m│\u001b[2m \u001b[0m\u001b[2mexplanation in lectures, and the suggestion for       \u001b[0m\u001b[2m \u001b[0m│\n",
       "│\u001b[2m                                                        \u001b[0m│\u001b[2m \u001b[0m\u001b[2msimpler materials or more detailed lectures.          \u001b[0m\u001b[2m \u001b[0m│\n",
       "├────────────────────────────────────────────────────────┼────────────────────────────────────────────────────────┤\n",
       "│\u001b[2m \u001b[0m\u001b[2m['Knowledgeable and passionate professor', 'Course    \u001b[0m\u001b[2m \u001b[0m│\u001b[2m \u001b[0m\u001b[2m[\"Knowledgeable and passionate professor\", \"Course    \u001b[0m\u001b[2m \u001b[0m│\n",
       "│\u001b[2m \u001b[0m\u001b[2mrelied heavily on tests', 'Need for more varied       \u001b[0m\u001b[2m \u001b[0m│\u001b[2m \u001b[0m\u001b[2mrelied heavily on tests\", \"Need for more varied       \u001b[0m\u001b[2m \u001b[0m│\n",
       "│\u001b[2m \u001b[0m\u001b[2massignments']                                         \u001b[0m\u001b[2m \u001b[0m│\u001b[2m \u001b[0m\u001b[2massignments\"]                                         \u001b[0m\u001b[2m \u001b[0m│\n",
       "│\u001b[2m                                                        \u001b[0m│\u001b[2m \u001b[0m\u001b[2m                                                      \u001b[0m\u001b[2m \u001b[0m│\n",
       "│\u001b[2m                                                        \u001b[0m│\u001b[2m \u001b[0m\u001b[2mThis summary captures the main points: the professor's\u001b[0m\u001b[2m \u001b[0m│\n",
       "│\u001b[2m                                                        \u001b[0m│\u001b[2m \u001b[0m\u001b[2mexpertise and enthusiasm, the heavy reliance on tests,\u001b[0m\u001b[2m \u001b[0m│\n",
       "│\u001b[2m                                                        \u001b[0m│\u001b[2m \u001b[0m\u001b[2mand the suggestion for more diverse assessments to    \u001b[0m\u001b[2m \u001b[0m│\n",
       "│\u001b[2m                                                        \u001b[0m│\u001b[2m \u001b[0m\u001b[2maccommodate different learning styles.                \u001b[0m\u001b[2m \u001b[0m│\n",
       "├────────────────────────────────────────────────────────┼────────────────────────────────────────────────────────┤\n",
       "│\u001b[2m \u001b[0m\u001b[2m['Solid introduction to economics', 'Heavily          \u001b[0m\u001b[2m \u001b[0m│\u001b[2m \u001b[0m\u001b[2m[\"Solid introduction to economics\", \"Heavily          \u001b[0m\u001b[2m \u001b[0m│\n",
       "│\u001b[2m \u001b[0m\u001b[2mtheoretical focus', 'Desire for more real-world       \u001b[0m\u001b[2m \u001b[0m│\u001b[2m \u001b[0m\u001b[2mtheoretical focus\", \"Desire for more real-world       \u001b[0m\u001b[2m \u001b[0m│\n",
       "│\u001b[2m \u001b[0m\u001b[2mapplication']                                         \u001b[0m\u001b[2m \u001b[0m│\u001b[2m \u001b[0m\u001b[2mapplication\"]                                         \u001b[0m\u001b[2m \u001b[0m│\n",
       "│\u001b[2m                                                        \u001b[0m│\u001b[2m \u001b[0m\u001b[2m                                                      \u001b[0m\u001b[2m \u001b[0m│\n",
       "│\u001b[2m                                                        \u001b[0m│\u001b[2m \u001b[0m\u001b[2mThese points capture the student's overall positive   \u001b[0m\u001b[2m \u001b[0m│\n",
       "│\u001b[2m                                                        \u001b[0m│\u001b[2m \u001b[0m\u001b[2mimpression of the course as an introduction, their    \u001b[0m\u001b[2m \u001b[0m│\n",
       "│\u001b[2m                                                        \u001b[0m│\u001b[2m \u001b[0m\u001b[2mobservation of its theoretical emphasis, and their    \u001b[0m\u001b[2m \u001b[0m│\n",
       "│\u001b[2m                                                        \u001b[0m│\u001b[2m \u001b[0m\u001b[2msuggestion for incorporating more practical           \u001b[0m\u001b[2m \u001b[0m│\n",
       "│\u001b[2m                                                        \u001b[0m│\u001b[2m \u001b[0m\u001b[2mdiscussions to enhance learning.                      \u001b[0m\u001b[2m \u001b[0m│\n",
       "├────────────────────────────────────────────────────────┼────────────────────────────────────────────────────────┤\n",
       "│\u001b[2m \u001b[0m\u001b[2m['Enjoyed the course and group projects', 'Appreciated\u001b[0m\u001b[2m \u001b[0m│\u001b[2m \u001b[0m\u001b[2m[\"Enjoyed the course and group projects\", \"Appreciated\u001b[0m\u001b[2m \u001b[0m│\n",
       "│\u001b[2m \u001b[0m\u001b[2mapplying economic concepts to real-life problems',    \u001b[0m\u001b[2m \u001b[0m│\u001b[2m \u001b[0m\u001b[2mapplying economic concepts to real-life problems\",    \u001b[0m\u001b[2m \u001b[0m│\n",
       "│\u001b[2m \u001b[0m\u001b[2m'Desire for more detailed feedback on assignments']   \u001b[0m\u001b[2m \u001b[0m│\u001b[2m \u001b[0m\u001b[2m\"Desire for more detailed feedback on assignments\"]   \u001b[0m\u001b[2m \u001b[0m│\n",
       "│\u001b[2m                                                        \u001b[0m│\u001b[2m \u001b[0m\u001b[2m                                                      \u001b[0m\u001b[2m \u001b[0m│\n",
       "│\u001b[2m                                                        \u001b[0m│\u001b[2m \u001b[0m\u001b[2mThese points capture the essence of the student's     \u001b[0m\u001b[2m \u001b[0m│\n",
       "│\u001b[2m                                                        \u001b[0m│\u001b[2m \u001b[0m\u001b[2mexperience, highlighting both the positive aspects and\u001b[0m\u001b[2m \u001b[0m│\n",
       "│\u001b[2m                                                        \u001b[0m│\u001b[2m \u001b[0m\u001b[2mthe area for improvement.                             \u001b[0m\u001b[2m \u001b[0m│\n",
       "├────────────────────────────────────────────────────────┼────────────────────────────────────────────────────────┤\n",
       "│\u001b[2m \u001b[0m\u001b[2m['Engaging and informative course', 'Professor made   \u001b[0m\u001b[2m \u001b[0m│\u001b[2m \u001b[0m\u001b[2m[\"Engaging and informative course\", \"Professor made   \u001b[0m\u001b[2m \u001b[0m│\n",
       "│\u001b[2m \u001b[0m\u001b[2mcomplex concepts accessible', 'Pace was a bit fast,   \u001b[0m\u001b[2m \u001b[0m│\u001b[2m \u001b[0m\u001b[2mcomplex concepts accessible\", \"Pace was a bit fast,   \u001b[0m\u001b[2m \u001b[0m│\n",
       "│\u001b[2m \u001b[0m\u001b[2mstruggled with weekly readings']                      \u001b[0m\u001b[2m \u001b[0m│\u001b[2m \u001b[0m\u001b[2mstruggled with weekly readings\"]                      \u001b[0m\u001b[2m \u001b[0m│\n",
       "│\u001b[2m                                                        \u001b[0m│\u001b[2m \u001b[0m\u001b[2m                                                      \u001b[0m\u001b[2m \u001b[0m│\n",
       "│\u001b[2m                                                        \u001b[0m│\u001b[2m \u001b[0m\u001b[2mThese key points capture the student's overall        \u001b[0m\u001b[2m \u001b[0m│\n",
       "│\u001b[2m                                                        \u001b[0m│\u001b[2m \u001b[0m\u001b[2mpositive experience with the course and the teaching  \u001b[0m\u001b[2m \u001b[0m│\n",
       "│\u001b[2m                                                        \u001b[0m│\u001b[2m \u001b[0m\u001b[2mmethods, while also highlighting a specific area for  \u001b[0m\u001b[2m \u001b[0m│\n",
       "│\u001b[2m                                                        \u001b[0m│\u001b[2m \u001b[0m\u001b[2mimprovement regarding the course pace and reading     \u001b[0m\u001b[2m \u001b[0m│\n",
       "│\u001b[2m                                                        \u001b[0m│\u001b[2m \u001b[0m\u001b[2mworkload.                                             \u001b[0m\u001b[2m \u001b[0m│\n",
       "└────────────────────────────────────────────────────────┴────────────────────────────────────────────────────────┘\n"
      ]
     },
     "metadata": {},
     "output_type": "display_data"
    }
   ],
   "source": [
    "results.select(\"themes\", \"themes_generated_tokens\").print(format = \"rich\")"
   ]
  },
  {
   "cell_type": "code",
   "execution_count": 17,
   "id": "ee81ef77-a2a9-41cb-9472-29e4f8e6797b",
   "metadata": {},
   "outputs": [],
   "source": [
    "themes = results.select(\"themes\").to_list(flatten = True)"
   ]
  },
  {
   "cell_type": "markdown",
   "id": "6b1b042a-0c29-470d-9229-723e6f4a1e33",
   "metadata": {},
   "source": [
    "Next we construct a question to condense the list into a new list:"
   ]
  },
  {
   "cell_type": "code",
   "execution_count": 18,
   "id": "05871e01-eec9-4629-a108-cd9237eca283",
   "metadata": {},
   "outputs": [],
   "source": [
    "q_condensed_themes = QuestionList(\n",
    "    question_name=\"condensed_themes\",\n",
    "    question_text=\"\"\"Combine the following list of themes extracted from the evaluations \n",
    "    into a consolidated, non-redundant list: \"\"\"\n",
    "    + \", \".join(themes),\n",
    "    max_list_items=10,\n",
    ")"
   ]
  },
  {
   "cell_type": "markdown",
   "id": "954a92a0-6a7d-43ad-bed5-35a092fba288",
   "metadata": {},
   "source": [
    "Now we run the question and select the new list. Note that we can choose whether we want to use the agent for this question by not adding it to the question when we run it:"
   ]
  },
  {
   "cell_type": "code",
   "execution_count": 19,
   "id": "f915d9e6-0310-432e-852e-48d63c6e07d8",
   "metadata": {},
   "outputs": [],
   "source": [
    "condensed_themes = q_condensed_themes.run().select(\"condensed_themes\").to_list()[0]\n"
   ]
  },
  {
   "cell_type": "markdown",
   "id": "5636a7f7-56ff-439d-9b5c-b867dff60480",
   "metadata": {},
   "source": [
    "Now we can create a question to identify all the themes in the list that appear in each evaluation (our new list becomes the list of answer options):"
   ]
  },
  {
   "cell_type": "code",
   "execution_count": 20,
   "id": "ff3f7830-6c55-4ee4-8434-374bcee47377",
   "metadata": {},
   "outputs": [],
   "source": [
    "from edsl.questions import QuestionCheckBox\n",
    "\n",
    "q_themes_list = QuestionCheckBox(\n",
    "    question_name=\"themes_list\",\n",
    "    question_text=\"Select all of the themes that are mentioned in this evaluation: {{ evaluation }}\",\n",
    "    question_options=condensed_themes,\n",
    ")"
   ]
  },
  {
   "cell_type": "markdown",
   "id": "3d8e69f7-d9cb-4170-a8b2-d08a857a9441",
   "metadata": {},
   "source": [
    "Here we run the question and show a table listing all the themes for each evaluation in the results:"
   ]
  },
  {
   "cell_type": "code",
   "execution_count": 21,
   "id": "4e8ee9f3-8dda-4047-8850-80dbeb3ce4f0",
   "metadata": {},
   "outputs": [
    {
     "data": {
      "text/html": [
       "<pre style=\"white-space:pre;overflow-x:auto;line-height:normal;font-family:Menlo,'DejaVu Sans Mono',consolas,'Courier New',monospace\">┏━━━━━━━━━━━━━━━━━━━━━━━━━━━━━━━━━━━━━━━━━━━━━━━━━━━━━━━━┳━━━━━━━━━━━━━━━━━━━━━━━━━━━━━━━━━━━━━━━━━━━━━━━━━━━━━━━━┓\n",
       "┃<span style=\"color: #800080; text-decoration-color: #800080; font-weight: bold\"> scenario                                               </span>┃<span style=\"color: #800080; text-decoration-color: #800080; font-weight: bold\"> answer                                                 </span>┃\n",
       "┃<span style=\"color: #800080; text-decoration-color: #800080; font-weight: bold\"> .evaluation                                            </span>┃<span style=\"color: #800080; text-decoration-color: #800080; font-weight: bold\"> .themes_list                                           </span>┃\n",
       "┡━━━━━━━━━━━━━━━━━━━━━━━━━━━━━━━━━━━━━━━━━━━━━━━━━━━━━━━━╇━━━━━━━━━━━━━━━━━━━━━━━━━━━━━━━━━━━━━━━━━━━━━━━━━━━━━━━━┩\n",
       "│<span style=\"color: #7f7f7f; text-decoration-color: #7f7f7f\"> The course content was well-organized, but the         </span>│<span style=\"color: #7f7f7f; text-decoration-color: #7f7f7f\"> ['Material felt dry and lectures were monotonous',     </span>│\n",
       "│<span style=\"color: #7f7f7f; text-decoration-color: #7f7f7f\"> lectures were somewhat monotonous and hard to follow.  </span>│<span style=\"color: #7f7f7f; text-decoration-color: #7f7f7f\"> 'Well-organized course content', 'Need for more visual </span>│\n",
       "│<span style=\"color: #7f7f7f; text-decoration-color: #7f7f7f\"> I would suggest incorporating more visual aids and     </span>│<span style=\"color: #7f7f7f; text-decoration-color: #7f7f7f\"> aids, guest lectures, and varied assignments']         </span>│\n",
       "│<span style=\"color: #7f7f7f; text-decoration-color: #7f7f7f\"> maybe some guest lectures from industry professionals  </span>│<span style=\"color: #7f7f7f; text-decoration-color: #7f7f7f\">                                                        </span>│\n",
       "│<span style=\"color: #7f7f7f; text-decoration-color: #7f7f7f\"> to liven up the sessions.                              </span>│<span style=\"color: #7f7f7f; text-decoration-color: #7f7f7f\">                                                        </span>│\n",
       "├────────────────────────────────────────────────────────┼────────────────────────────────────────────────────────┤\n",
       "│<span style=\"color: #7f7f7f; text-decoration-color: #7f7f7f\"> I found the course very engaging and informative. The  </span>│<span style=\"color: #7f7f7f; text-decoration-color: #7f7f7f\"> ['Helpful and enthusiastic professor', 'Textbook and   </span>│\n",
       "│<span style=\"color: #7f7f7f; text-decoration-color: #7f7f7f\"> professor did an excellent job breaking down complex   </span>│<span style=\"color: #7f7f7f; text-decoration-color: #7f7f7f\"> readings overly complex for an introductory course']   </span>│\n",
       "│<span style=\"color: #7f7f7f; text-decoration-color: #7f7f7f\"> concepts, making them accessible to those of us new to </span>│<span style=\"color: #7f7f7f; text-decoration-color: #7f7f7f\">                                                        </span>│\n",
       "│<span style=\"color: #7f7f7f; text-decoration-color: #7f7f7f\"> economics. However, the pace was a bit fast, and I     </span>│<span style=\"color: #7f7f7f; text-decoration-color: #7f7f7f\">                                                        </span>│\n",
       "│<span style=\"color: #7f7f7f; text-decoration-color: #7f7f7f\"> sometimes struggled to keep up with the weekly         </span>│<span style=\"color: #7f7f7f; text-decoration-color: #7f7f7f\">                                                        </span>│\n",
       "│<span style=\"color: #7f7f7f; text-decoration-color: #7f7f7f\"> readings.                                              </span>│<span style=\"color: #7f7f7f; text-decoration-color: #7f7f7f\">                                                        </span>│\n",
       "├────────────────────────────────────────────────────────┼────────────────────────────────────────────────────────┤\n",
       "│<span style=\"color: #7f7f7f; text-decoration-color: #7f7f7f\"> As someone with a strong background in math, I         </span>│<span style=\"color: #7f7f7f; text-decoration-color: #7f7f7f\"> ['Difficult to connect with real-world applications',  </span>│\n",
       "│<span style=\"color: #7f7f7f; text-decoration-color: #7f7f7f\"> appreciated the analytical rigor of this course.       </span>│<span style=\"color: #7f7f7f; text-decoration-color: #7f7f7f\"> 'More current event examples and practical discussions </span>│\n",
       "│<span style=\"color: #7f7f7f; text-decoration-color: #7f7f7f\"> However, I wish there had been more discussions that   </span>│<span style=\"color: #7f7f7f; text-decoration-color: #7f7f7f\"> needed']                                               </span>│\n",
       "│<span style=\"color: #7f7f7f; text-decoration-color: #7f7f7f\"> connected the theories we learned to everyday economic </span>│<span style=\"color: #7f7f7f; text-decoration-color: #7f7f7f\">                                                        </span>│\n",
       "│<span style=\"color: #7f7f7f; text-decoration-color: #7f7f7f\"> issues. It felt a bit isolated from practical          </span>│<span style=\"color: #7f7f7f; text-decoration-color: #7f7f7f\">                                                        </span>│\n",
       "│<span style=\"color: #7f7f7f; text-decoration-color: #7f7f7f\"> realities at times.                                    </span>│<span style=\"color: #7f7f7f; text-decoration-color: #7f7f7f\">                                                        </span>│\n",
       "├────────────────────────────────────────────────────────┼────────────────────────────────────────────────────────┤\n",
       "│<span style=\"color: #7f7f7f; text-decoration-color: #7f7f7f\"> This class was a solid introduction to economics,      </span>│<span style=\"color: #7f7f7f; text-decoration-color: #7f7f7f\"> ['Difficult to connect with real-world applications',  </span>│\n",
       "│<span style=\"color: #7f7f7f; text-decoration-color: #7f7f7f\"> though it leaned heavily on theoretical aspects. I     </span>│<span style=\"color: #7f7f7f; text-decoration-color: #7f7f7f\"> 'More current event examples and practical discussions </span>│\n",
       "│<span style=\"color: #7f7f7f; text-decoration-color: #7f7f7f\"> would have liked more opportunities to discuss the     </span>│<span style=\"color: #7f7f7f; text-decoration-color: #7f7f7f\"> needed']                                               </span>│\n",
       "│<span style=\"color: #7f7f7f; text-decoration-color: #7f7f7f\"> real-world implications of economic theories, which I  </span>│<span style=\"color: #7f7f7f; text-decoration-color: #7f7f7f\">                                                        </span>│\n",
       "│<span style=\"color: #7f7f7f; text-decoration-color: #7f7f7f\"> believe would enhance understanding and retention of   </span>│<span style=\"color: #7f7f7f; text-decoration-color: #7f7f7f\">                                                        </span>│\n",
       "│<span style=\"color: #7f7f7f; text-decoration-color: #7f7f7f\"> the material.                                          </span>│<span style=\"color: #7f7f7f; text-decoration-color: #7f7f7f\">                                                        </span>│\n",
       "├────────────────────────────────────────────────────────┼────────────────────────────────────────────────────────┤\n",
       "│<span style=\"color: #7f7f7f; text-decoration-color: #7f7f7f\"> The professor was knowledgeable and clearly passionate </span>│<span style=\"color: #7f7f7f; text-decoration-color: #7f7f7f\"> ['Need for more visual aids, guest lectures, and       </span>│\n",
       "│<span style=\"color: #7f7f7f; text-decoration-color: #7f7f7f\"> about economics, but I felt the course relied too      </span>│<span style=\"color: #7f7f7f; text-decoration-color: #7f7f7f\"> varied assignments', 'Helpful and enthusiastic         </span>│\n",
       "│<span style=\"color: #7f7f7f; text-decoration-color: #7f7f7f\"> heavily on tests rather than more creative forms of    </span>│<span style=\"color: #7f7f7f; text-decoration-color: #7f7f7f\"> professor']                                            </span>│\n",
       "│<span style=\"color: #7f7f7f; text-decoration-color: #7f7f7f\"> assessment. More varied assignments would make the     </span>│<span style=\"color: #7f7f7f; text-decoration-color: #7f7f7f\">                                                        </span>│\n",
       "│<span style=\"color: #7f7f7f; text-decoration-color: #7f7f7f\"> course more accessible to students with different      </span>│<span style=\"color: #7f7f7f; text-decoration-color: #7f7f7f\">                                                        </span>│\n",
       "│<span style=\"color: #7f7f7f; text-decoration-color: #7f7f7f\"> learning styles.                                       </span>│<span style=\"color: #7f7f7f; text-decoration-color: #7f7f7f\">                                                        </span>│\n",
       "├────────────────────────────────────────────────────────┼────────────────────────────────────────────────────────┤\n",
       "│<span style=\"color: #7f7f7f; text-decoration-color: #7f7f7f\"> Excellent introductory course! The professor was       </span>│<span style=\"color: #7f7f7f; text-decoration-color: #7f7f7f\"> ['Well-organized course content', 'Helpful and         </span>│\n",
       "│<span style=\"color: #7f7f7f; text-decoration-color: #7f7f7f\"> enthusiastic and always willing to offer extra help    </span>│<span style=\"color: #7f7f7f; text-decoration-color: #7f7f7f\"> enthusiastic professor', 'Fair exams and engaging      </span>│\n",
       "│<span style=\"color: #7f7f7f; text-decoration-color: #7f7f7f\"> during office hours. The interactive lectures and the  </span>│<span style=\"color: #7f7f7f; text-decoration-color: #7f7f7f\"> assignments']                                          </span>│\n",
       "│<span style=\"color: #7f7f7f; text-decoration-color: #7f7f7f\"> practical assignments made the theory much more        </span>│<span style=\"color: #7f7f7f; text-decoration-color: #7f7f7f\">                                                        </span>│\n",
       "│<span style=\"color: #7f7f7f; text-decoration-color: #7f7f7f\"> digestible and engaging.                               </span>│<span style=\"color: #7f7f7f; text-decoration-color: #7f7f7f\">                                                        </span>│\n",
       "├────────────────────────────────────────────────────────┼────────────────────────────────────────────────────────┤\n",
       "│<span style=\"color: #7f7f7f; text-decoration-color: #7f7f7f\"> This was my favorite class this semester! The mix of   </span>│<span style=\"color: #7f7f7f; text-decoration-color: #7f7f7f\"> ['Well-organized course content', 'Appreciated         </span>│\n",
       "│<span style=\"color: #7f7f7f; text-decoration-color: #7f7f7f\"> theory and case studies was perfect, and the exams     </span>│<span style=\"color: #7f7f7f; text-decoration-color: #7f7f7f\"> analytical rigor and diversity of perspectives', 'Fair </span>│\n",
       "│<span style=\"color: #7f7f7f; text-decoration-color: #7f7f7f\"> were fair. I also really appreciated the diversity of  </span>│<span style=\"color: #7f7f7f; text-decoration-color: #7f7f7f\"> exams and engaging assignments']                       </span>│\n",
       "│<span style=\"color: #7f7f7f; text-decoration-color: #7f7f7f\"> perspectives we explored in class, especially in terms </span>│<span style=\"color: #7f7f7f; text-decoration-color: #7f7f7f\">                                                        </span>│\n",
       "│<span style=\"color: #7f7f7f; text-decoration-color: #7f7f7f\"> of global economic policies.                           </span>│<span style=\"color: #7f7f7f; text-decoration-color: #7f7f7f\">                                                        </span>│\n",
       "├────────────────────────────────────────────────────────┼────────────────────────────────────────────────────────┤\n",
       "│<span style=\"color: #7f7f7f; text-decoration-color: #7f7f7f\"> This class was a struggle for me. The material felt    </span>│<span style=\"color: #7f7f7f; text-decoration-color: #7f7f7f\"> ['Material felt dry and lectures were monotonous',     </span>│\n",
       "│<span style=\"color: #7f7f7f; text-decoration-color: #7f7f7f\"> dry and difficult to connect with real-world           </span>│<span style=\"color: #7f7f7f; text-decoration-color: #7f7f7f\"> 'Difficult to connect with real-world applications',   </span>│\n",
       "│<span style=\"color: #7f7f7f; text-decoration-color: #7f7f7f\"> applications, which I think could have made it more    </span>│<span style=\"color: #7f7f7f; text-decoration-color: #7f7f7f\"> 'More current event examples and practical discussions </span>│\n",
       "│<span style=\"color: #7f7f7f; text-decoration-color: #7f7f7f\"> interesting. More examples from current events would   </span>│<span style=\"color: #7f7f7f; text-decoration-color: #7f7f7f\"> needed']                                               </span>│\n",
       "│<span style=\"color: #7f7f7f; text-decoration-color: #7f7f7f\"> definitely have helped spark my interest.              </span>│<span style=\"color: #7f7f7f; text-decoration-color: #7f7f7f\">                                                        </span>│\n",
       "├────────────────────────────────────────────────────────┼────────────────────────────────────────────────────────┤\n",
       "│<span style=\"color: #7f7f7f; text-decoration-color: #7f7f7f\"> I enjoyed the course, especially the group projects,   </span>│<span style=\"color: #7f7f7f; text-decoration-color: #7f7f7f\"> ['Well-organized course content', 'Fair exams and      </span>│\n",
       "│<span style=\"color: #7f7f7f; text-decoration-color: #7f7f7f\"> which were both challenging and rewarding. It was      </span>│<span style=\"color: #7f7f7f; text-decoration-color: #7f7f7f\"> engaging assignments', 'Desire for more detailed       </span>│\n",
       "│<span style=\"color: #7f7f7f; text-decoration-color: #7f7f7f\"> great to apply economic concepts to solve real-life    </span>│<span style=\"color: #7f7f7f; text-decoration-color: #7f7f7f\"> feedback on assignments']                              </span>│\n",
       "│<span style=\"color: #7f7f7f; text-decoration-color: #7f7f7f\"> problems. I did feel, however, that the feedback on    </span>│<span style=\"color: #7f7f7f; text-decoration-color: #7f7f7f\">                                                        </span>│\n",
       "│<span style=\"color: #7f7f7f; text-decoration-color: #7f7f7f\"> assignments could be more detailed to help us          </span>│<span style=\"color: #7f7f7f; text-decoration-color: #7f7f7f\">                                                        </span>│\n",
       "│<span style=\"color: #7f7f7f; text-decoration-color: #7f7f7f\"> understand our mistakes.                               </span>│<span style=\"color: #7f7f7f; text-decoration-color: #7f7f7f\">                                                        </span>│\n",
       "├────────────────────────────────────────────────────────┼────────────────────────────────────────────────────────┤\n",
       "│<span style=\"color: #7f7f7f; text-decoration-color: #7f7f7f\"> I found the textbook to be overly complex for an       </span>│<span style=\"color: #7f7f7f; text-decoration-color: #7f7f7f\"> ['Textbook and readings overly complex for an          </span>│\n",
       "│<span style=\"color: #7f7f7f; text-decoration-color: #7f7f7f\"> introductory course. It often used jargon that hadn't  </span>│<span style=\"color: #7f7f7f; text-decoration-color: #7f7f7f\"> introductory course']                                  </span>│\n",
       "│<span style=\"color: #7f7f7f; text-decoration-color: #7f7f7f\"> been explained in lectures, which was confusing.       </span>│<span style=\"color: #7f7f7f; text-decoration-color: #7f7f7f\">                                                        </span>│\n",
       "│<span style=\"color: #7f7f7f; text-decoration-color: #7f7f7f\"> Simpler reading materials or more explanatory lectures </span>│<span style=\"color: #7f7f7f; text-decoration-color: #7f7f7f\">                                                        </span>│\n",
       "│<span style=\"color: #7f7f7f; text-decoration-color: #7f7f7f\"> would make a big difference for newcomers to           </span>│<span style=\"color: #7f7f7f; text-decoration-color: #7f7f7f\">                                                        </span>│\n",
       "│<span style=\"color: #7f7f7f; text-decoration-color: #7f7f7f\"> economics.                                             </span>│<span style=\"color: #7f7f7f; text-decoration-color: #7f7f7f\">                                                        </span>│\n",
       "└────────────────────────────────────────────────────────┴────────────────────────────────────────────────────────┘\n",
       "</pre>\n"
      ],
      "text/plain": [
       "┏━━━━━━━━━━━━━━━━━━━━━━━━━━━━━━━━━━━━━━━━━━━━━━━━━━━━━━━━┳━━━━━━━━━━━━━━━━━━━━━━━━━━━━━━━━━━━━━━━━━━━━━━━━━━━━━━━━┓\n",
       "┃\u001b[1;35m \u001b[0m\u001b[1;35mscenario                                              \u001b[0m\u001b[1;35m \u001b[0m┃\u001b[1;35m \u001b[0m\u001b[1;35manswer                                                \u001b[0m\u001b[1;35m \u001b[0m┃\n",
       "┃\u001b[1;35m \u001b[0m\u001b[1;35m.evaluation                                           \u001b[0m\u001b[1;35m \u001b[0m┃\u001b[1;35m \u001b[0m\u001b[1;35m.themes_list                                          \u001b[0m\u001b[1;35m \u001b[0m┃\n",
       "┡━━━━━━━━━━━━━━━━━━━━━━━━━━━━━━━━━━━━━━━━━━━━━━━━━━━━━━━━╇━━━━━━━━━━━━━━━━━━━━━━━━━━━━━━━━━━━━━━━━━━━━━━━━━━━━━━━━┩\n",
       "│\u001b[2m \u001b[0m\u001b[2mThe course content was well-organized, but the        \u001b[0m\u001b[2m \u001b[0m│\u001b[2m \u001b[0m\u001b[2m['Material felt dry and lectures were monotonous',    \u001b[0m\u001b[2m \u001b[0m│\n",
       "│\u001b[2m \u001b[0m\u001b[2mlectures were somewhat monotonous and hard to follow. \u001b[0m\u001b[2m \u001b[0m│\u001b[2m \u001b[0m\u001b[2m'Well-organized course content', 'Need for more visual\u001b[0m\u001b[2m \u001b[0m│\n",
       "│\u001b[2m \u001b[0m\u001b[2mI would suggest incorporating more visual aids and    \u001b[0m\u001b[2m \u001b[0m│\u001b[2m \u001b[0m\u001b[2maids, guest lectures, and varied assignments']        \u001b[0m\u001b[2m \u001b[0m│\n",
       "│\u001b[2m \u001b[0m\u001b[2mmaybe some guest lectures from industry professionals \u001b[0m\u001b[2m \u001b[0m│\u001b[2m                                                        \u001b[0m│\n",
       "│\u001b[2m \u001b[0m\u001b[2mto liven up the sessions.                             \u001b[0m\u001b[2m \u001b[0m│\u001b[2m                                                        \u001b[0m│\n",
       "├────────────────────────────────────────────────────────┼────────────────────────────────────────────────────────┤\n",
       "│\u001b[2m \u001b[0m\u001b[2mI found the course very engaging and informative. The \u001b[0m\u001b[2m \u001b[0m│\u001b[2m \u001b[0m\u001b[2m['Helpful and enthusiastic professor', 'Textbook and  \u001b[0m\u001b[2m \u001b[0m│\n",
       "│\u001b[2m \u001b[0m\u001b[2mprofessor did an excellent job breaking down complex  \u001b[0m\u001b[2m \u001b[0m│\u001b[2m \u001b[0m\u001b[2mreadings overly complex for an introductory course']  \u001b[0m\u001b[2m \u001b[0m│\n",
       "│\u001b[2m \u001b[0m\u001b[2mconcepts, making them accessible to those of us new to\u001b[0m\u001b[2m \u001b[0m│\u001b[2m                                                        \u001b[0m│\n",
       "│\u001b[2m \u001b[0m\u001b[2meconomics. However, the pace was a bit fast, and I    \u001b[0m\u001b[2m \u001b[0m│\u001b[2m                                                        \u001b[0m│\n",
       "│\u001b[2m \u001b[0m\u001b[2msometimes struggled to keep up with the weekly        \u001b[0m\u001b[2m \u001b[0m│\u001b[2m                                                        \u001b[0m│\n",
       "│\u001b[2m \u001b[0m\u001b[2mreadings.                                             \u001b[0m\u001b[2m \u001b[0m│\u001b[2m                                                        \u001b[0m│\n",
       "├────────────────────────────────────────────────────────┼────────────────────────────────────────────────────────┤\n",
       "│\u001b[2m \u001b[0m\u001b[2mAs someone with a strong background in math, I        \u001b[0m\u001b[2m \u001b[0m│\u001b[2m \u001b[0m\u001b[2m['Difficult to connect with real-world applications', \u001b[0m\u001b[2m \u001b[0m│\n",
       "│\u001b[2m \u001b[0m\u001b[2mappreciated the analytical rigor of this course.      \u001b[0m\u001b[2m \u001b[0m│\u001b[2m \u001b[0m\u001b[2m'More current event examples and practical discussions\u001b[0m\u001b[2m \u001b[0m│\n",
       "│\u001b[2m \u001b[0m\u001b[2mHowever, I wish there had been more discussions that  \u001b[0m\u001b[2m \u001b[0m│\u001b[2m \u001b[0m\u001b[2mneeded']                                              \u001b[0m\u001b[2m \u001b[0m│\n",
       "│\u001b[2m \u001b[0m\u001b[2mconnected the theories we learned to everyday economic\u001b[0m\u001b[2m \u001b[0m│\u001b[2m                                                        \u001b[0m│\n",
       "│\u001b[2m \u001b[0m\u001b[2missues. It felt a bit isolated from practical         \u001b[0m\u001b[2m \u001b[0m│\u001b[2m                                                        \u001b[0m│\n",
       "│\u001b[2m \u001b[0m\u001b[2mrealities at times.                                   \u001b[0m\u001b[2m \u001b[0m│\u001b[2m                                                        \u001b[0m│\n",
       "├────────────────────────────────────────────────────────┼────────────────────────────────────────────────────────┤\n",
       "│\u001b[2m \u001b[0m\u001b[2mThis class was a solid introduction to economics,     \u001b[0m\u001b[2m \u001b[0m│\u001b[2m \u001b[0m\u001b[2m['Difficult to connect with real-world applications', \u001b[0m\u001b[2m \u001b[0m│\n",
       "│\u001b[2m \u001b[0m\u001b[2mthough it leaned heavily on theoretical aspects. I    \u001b[0m\u001b[2m \u001b[0m│\u001b[2m \u001b[0m\u001b[2m'More current event examples and practical discussions\u001b[0m\u001b[2m \u001b[0m│\n",
       "│\u001b[2m \u001b[0m\u001b[2mwould have liked more opportunities to discuss the    \u001b[0m\u001b[2m \u001b[0m│\u001b[2m \u001b[0m\u001b[2mneeded']                                              \u001b[0m\u001b[2m \u001b[0m│\n",
       "│\u001b[2m \u001b[0m\u001b[2mreal-world implications of economic theories, which I \u001b[0m\u001b[2m \u001b[0m│\u001b[2m                                                        \u001b[0m│\n",
       "│\u001b[2m \u001b[0m\u001b[2mbelieve would enhance understanding and retention of  \u001b[0m\u001b[2m \u001b[0m│\u001b[2m                                                        \u001b[0m│\n",
       "│\u001b[2m \u001b[0m\u001b[2mthe material.                                         \u001b[0m\u001b[2m \u001b[0m│\u001b[2m                                                        \u001b[0m│\n",
       "├────────────────────────────────────────────────────────┼────────────────────────────────────────────────────────┤\n",
       "│\u001b[2m \u001b[0m\u001b[2mThe professor was knowledgeable and clearly passionate\u001b[0m\u001b[2m \u001b[0m│\u001b[2m \u001b[0m\u001b[2m['Need for more visual aids, guest lectures, and      \u001b[0m\u001b[2m \u001b[0m│\n",
       "│\u001b[2m \u001b[0m\u001b[2mabout economics, but I felt the course relied too     \u001b[0m\u001b[2m \u001b[0m│\u001b[2m \u001b[0m\u001b[2mvaried assignments', 'Helpful and enthusiastic        \u001b[0m\u001b[2m \u001b[0m│\n",
       "│\u001b[2m \u001b[0m\u001b[2mheavily on tests rather than more creative forms of   \u001b[0m\u001b[2m \u001b[0m│\u001b[2m \u001b[0m\u001b[2mprofessor']                                           \u001b[0m\u001b[2m \u001b[0m│\n",
       "│\u001b[2m \u001b[0m\u001b[2massessment. More varied assignments would make the    \u001b[0m\u001b[2m \u001b[0m│\u001b[2m                                                        \u001b[0m│\n",
       "│\u001b[2m \u001b[0m\u001b[2mcourse more accessible to students with different     \u001b[0m\u001b[2m \u001b[0m│\u001b[2m                                                        \u001b[0m│\n",
       "│\u001b[2m \u001b[0m\u001b[2mlearning styles.                                      \u001b[0m\u001b[2m \u001b[0m│\u001b[2m                                                        \u001b[0m│\n",
       "├────────────────────────────────────────────────────────┼────────────────────────────────────────────────────────┤\n",
       "│\u001b[2m \u001b[0m\u001b[2mExcellent introductory course! The professor was      \u001b[0m\u001b[2m \u001b[0m│\u001b[2m \u001b[0m\u001b[2m['Well-organized course content', 'Helpful and        \u001b[0m\u001b[2m \u001b[0m│\n",
       "│\u001b[2m \u001b[0m\u001b[2menthusiastic and always willing to offer extra help   \u001b[0m\u001b[2m \u001b[0m│\u001b[2m \u001b[0m\u001b[2menthusiastic professor', 'Fair exams and engaging     \u001b[0m\u001b[2m \u001b[0m│\n",
       "│\u001b[2m \u001b[0m\u001b[2mduring office hours. The interactive lectures and the \u001b[0m\u001b[2m \u001b[0m│\u001b[2m \u001b[0m\u001b[2massignments']                                         \u001b[0m\u001b[2m \u001b[0m│\n",
       "│\u001b[2m \u001b[0m\u001b[2mpractical assignments made the theory much more       \u001b[0m\u001b[2m \u001b[0m│\u001b[2m                                                        \u001b[0m│\n",
       "│\u001b[2m \u001b[0m\u001b[2mdigestible and engaging.                              \u001b[0m\u001b[2m \u001b[0m│\u001b[2m                                                        \u001b[0m│\n",
       "├────────────────────────────────────────────────────────┼────────────────────────────────────────────────────────┤\n",
       "│\u001b[2m \u001b[0m\u001b[2mThis was my favorite class this semester! The mix of  \u001b[0m\u001b[2m \u001b[0m│\u001b[2m \u001b[0m\u001b[2m['Well-organized course content', 'Appreciated        \u001b[0m\u001b[2m \u001b[0m│\n",
       "│\u001b[2m \u001b[0m\u001b[2mtheory and case studies was perfect, and the exams    \u001b[0m\u001b[2m \u001b[0m│\u001b[2m \u001b[0m\u001b[2manalytical rigor and diversity of perspectives', 'Fair\u001b[0m\u001b[2m \u001b[0m│\n",
       "│\u001b[2m \u001b[0m\u001b[2mwere fair. I also really appreciated the diversity of \u001b[0m\u001b[2m \u001b[0m│\u001b[2m \u001b[0m\u001b[2mexams and engaging assignments']                      \u001b[0m\u001b[2m \u001b[0m│\n",
       "│\u001b[2m \u001b[0m\u001b[2mperspectives we explored in class, especially in terms\u001b[0m\u001b[2m \u001b[0m│\u001b[2m                                                        \u001b[0m│\n",
       "│\u001b[2m \u001b[0m\u001b[2mof global economic policies.                          \u001b[0m\u001b[2m \u001b[0m│\u001b[2m                                                        \u001b[0m│\n",
       "├────────────────────────────────────────────────────────┼────────────────────────────────────────────────────────┤\n",
       "│\u001b[2m \u001b[0m\u001b[2mThis class was a struggle for me. The material felt   \u001b[0m\u001b[2m \u001b[0m│\u001b[2m \u001b[0m\u001b[2m['Material felt dry and lectures were monotonous',    \u001b[0m\u001b[2m \u001b[0m│\n",
       "│\u001b[2m \u001b[0m\u001b[2mdry and difficult to connect with real-world          \u001b[0m\u001b[2m \u001b[0m│\u001b[2m \u001b[0m\u001b[2m'Difficult to connect with real-world applications',  \u001b[0m\u001b[2m \u001b[0m│\n",
       "│\u001b[2m \u001b[0m\u001b[2mapplications, which I think could have made it more   \u001b[0m\u001b[2m \u001b[0m│\u001b[2m \u001b[0m\u001b[2m'More current event examples and practical discussions\u001b[0m\u001b[2m \u001b[0m│\n",
       "│\u001b[2m \u001b[0m\u001b[2minteresting. More examples from current events would  \u001b[0m\u001b[2m \u001b[0m│\u001b[2m \u001b[0m\u001b[2mneeded']                                              \u001b[0m\u001b[2m \u001b[0m│\n",
       "│\u001b[2m \u001b[0m\u001b[2mdefinitely have helped spark my interest.             \u001b[0m\u001b[2m \u001b[0m│\u001b[2m                                                        \u001b[0m│\n",
       "├────────────────────────────────────────────────────────┼────────────────────────────────────────────────────────┤\n",
       "│\u001b[2m \u001b[0m\u001b[2mI enjoyed the course, especially the group projects,  \u001b[0m\u001b[2m \u001b[0m│\u001b[2m \u001b[0m\u001b[2m['Well-organized course content', 'Fair exams and     \u001b[0m\u001b[2m \u001b[0m│\n",
       "│\u001b[2m \u001b[0m\u001b[2mwhich were both challenging and rewarding. It was     \u001b[0m\u001b[2m \u001b[0m│\u001b[2m \u001b[0m\u001b[2mengaging assignments', 'Desire for more detailed      \u001b[0m\u001b[2m \u001b[0m│\n",
       "│\u001b[2m \u001b[0m\u001b[2mgreat to apply economic concepts to solve real-life   \u001b[0m\u001b[2m \u001b[0m│\u001b[2m \u001b[0m\u001b[2mfeedback on assignments']                             \u001b[0m\u001b[2m \u001b[0m│\n",
       "│\u001b[2m \u001b[0m\u001b[2mproblems. I did feel, however, that the feedback on   \u001b[0m\u001b[2m \u001b[0m│\u001b[2m                                                        \u001b[0m│\n",
       "│\u001b[2m \u001b[0m\u001b[2massignments could be more detailed to help us         \u001b[0m\u001b[2m \u001b[0m│\u001b[2m                                                        \u001b[0m│\n",
       "│\u001b[2m \u001b[0m\u001b[2munderstand our mistakes.                              \u001b[0m\u001b[2m \u001b[0m│\u001b[2m                                                        \u001b[0m│\n",
       "├────────────────────────────────────────────────────────┼────────────────────────────────────────────────────────┤\n",
       "│\u001b[2m \u001b[0m\u001b[2mI found the textbook to be overly complex for an      \u001b[0m\u001b[2m \u001b[0m│\u001b[2m \u001b[0m\u001b[2m['Textbook and readings overly complex for an         \u001b[0m\u001b[2m \u001b[0m│\n",
       "│\u001b[2m \u001b[0m\u001b[2mintroductory course. It often used jargon that hadn't \u001b[0m\u001b[2m \u001b[0m│\u001b[2m \u001b[0m\u001b[2mintroductory course']                                 \u001b[0m\u001b[2m \u001b[0m│\n",
       "│\u001b[2m \u001b[0m\u001b[2mbeen explained in lectures, which was confusing.      \u001b[0m\u001b[2m \u001b[0m│\u001b[2m                                                        \u001b[0m│\n",
       "│\u001b[2m \u001b[0m\u001b[2mSimpler reading materials or more explanatory lectures\u001b[0m\u001b[2m \u001b[0m│\u001b[2m                                                        \u001b[0m│\n",
       "│\u001b[2m \u001b[0m\u001b[2mwould make a big difference for newcomers to          \u001b[0m\u001b[2m \u001b[0m│\u001b[2m                                                        \u001b[0m│\n",
       "│\u001b[2m \u001b[0m\u001b[2meconomics.                                            \u001b[0m\u001b[2m \u001b[0m│\u001b[2m                                                        \u001b[0m│\n",
       "└────────────────────────────────────────────────────────┴────────────────────────────────────────────────────────┘\n"
      ]
     },
     "metadata": {},
     "output_type": "display_data"
    }
   ],
   "source": [
    "themes_lists = q_themes_list.by(scenarios).by(agent).run()\n",
    "themes_lists.select(\"evaluation\", \"themes_list\").print(format=\"rich\")"
   ]
  },
  {
   "cell_type": "code",
   "execution_count": 22,
   "id": "d6a8123d",
   "metadata": {},
   "outputs": [
    {
     "data": {
      "text/html": [
       "\n",
       "    <style>\n",
       "        table {\n",
       "            width: 100%;\n",
       "            border-collapse: collapse;\n",
       "        }\n",
       "        table, th, td {\n",
       "            border: 1px solid black;\n",
       "        }\n",
       "        th, td {\n",
       "            padding: 10px;\n",
       "            text-align: left;\n",
       "        }\n",
       "    </style>\n",
       "    <table id=\"myTable\" class=\"display\">\n",
       "  <thead>\n",
       "  <tr>\n",
       "    <th>evaluation</th>\n",
       "    <th>theme</th>\n",
       "  </tr>\n",
       "  </thead>\n",
       "</tbody>\n",
       "  <tr>\n",
       "    <td>The course content was well-organized, but the lectures were somewhat monotonous and hard to follow. I would suggest incorporating more visual aids and maybe some guest lectures from industry professionals to liven up the sessions.</td>\n",
       "    <td>Material felt dry and lectures were monotonous</td>\n",
       "  </tr>\n",
       "  <tr>\n",
       "    <td>The course content was well-organized, but the lectures were somewhat monotonous and hard to follow. I would suggest incorporating more visual aids and maybe some guest lectures from industry professionals to liven up the sessions.</td>\n",
       "    <td>Well-organized course content</td>\n",
       "  </tr>\n",
       "  <tr>\n",
       "    <td>The course content was well-organized, but the lectures were somewhat monotonous and hard to follow. I would suggest incorporating more visual aids and maybe some guest lectures from industry professionals to liven up the sessions.</td>\n",
       "    <td>Need for more visual aids, guest lectures, and varied assignments</td>\n",
       "  </tr>\n",
       "  <tr>\n",
       "    <td>I found the course very engaging and informative. The professor did an excellent job breaking down complex concepts, making them accessible to those of us new to economics. However, the pace was a bit fast, and I sometimes struggled to keep up with the weekly readings.</td>\n",
       "    <td>Helpful and enthusiastic professor</td>\n",
       "  </tr>\n",
       "  <tr>\n",
       "    <td>I found the course very engaging and informative. The professor did an excellent job breaking down complex concepts, making them accessible to those of us new to economics. However, the pace was a bit fast, and I sometimes struggled to keep up with the weekly readings.</td>\n",
       "    <td>Textbook and readings overly complex for an introductory course</td>\n",
       "  </tr>\n",
       "  <tr>\n",
       "    <td>As someone with a strong background in math, I appreciated the analytical rigor of this course. However, I wish there had been more discussions that connected the theories we learned to everyday economic issues. It felt a bit isolated from practical realities at times.</td>\n",
       "    <td>Difficult to connect with real-world applications</td>\n",
       "  </tr>\n",
       "  <tr>\n",
       "    <td>As someone with a strong background in math, I appreciated the analytical rigor of this course. However, I wish there had been more discussions that connected the theories we learned to everyday economic issues. It felt a bit isolated from practical realities at times.</td>\n",
       "    <td>More current event examples and practical discussions needed</td>\n",
       "  </tr>\n",
       "  <tr>\n",
       "    <td>This class was a solid introduction to economics, though it leaned heavily on theoretical aspects. I would have liked more opportunities to discuss the real-world implications of economic theories, which I believe would enhance understanding and retention of the material.</td>\n",
       "    <td>Difficult to connect with real-world applications</td>\n",
       "  </tr>\n",
       "  <tr>\n",
       "    <td>This class was a solid introduction to economics, though it leaned heavily on theoretical aspects. I would have liked more opportunities to discuss the real-world implications of economic theories, which I believe would enhance understanding and retention of the material.</td>\n",
       "    <td>More current event examples and practical discussions needed</td>\n",
       "  </tr>\n",
       "  <tr>\n",
       "    <td>The professor was knowledgeable and clearly passionate about economics, but I felt the course relied too heavily on tests rather than more creative forms of assessment. More varied assignments would make the course more accessible to students with different learning styles.</td>\n",
       "    <td>Need for more visual aids, guest lectures, and varied assignments</td>\n",
       "  </tr>\n",
       "</tbody>\n",
       "</table>"
      ],
      "text/plain": [
       "<IPython.core.display.HTML object>"
      ]
     },
     "metadata": {},
     "output_type": "display_data"
    }
   ],
   "source": [
    "wide_evaluation_themes = themes_lists.select(\"evaluation\", \"themes_list\").to_scenario_list().expand(\"themes_list\").rename({\"themes_list\": \"theme\"})\n",
    "wide_evaluation_themes.print(max_rows = 10)"
   ]
  },
  {
   "cell_type": "code",
   "execution_count": 23,
   "id": "b1e5041e",
   "metadata": {},
   "outputs": [
    {
     "data": {
      "text/html": [
       "<pre style=\"white-space:pre;overflow-x:auto;line-height:normal;font-family:Menlo,'DejaVu Sans Mono',consolas,'Courier New',monospace\">┏━━━━━━━━━━━━━━━━━━━━━━━━━━━━━━━━━━━━━━━━━━━━━━━━━━━━━━━━━━━━━━━━━━━┳━━━━━━━┓\n",
       "┃<span style=\"color: #800080; text-decoration-color: #800080; font-weight: bold\"> value                                                             </span>┃<span style=\"color: #800080; text-decoration-color: #800080; font-weight: bold\"> count </span>┃\n",
       "┡━━━━━━━━━━━━━━━━━━━━━━━━━━━━━━━━━━━━━━━━━━━━━━━━━━━━━━━━━━━━━━━━━━━╇━━━━━━━┩\n",
       "│<span style=\"color: #7f7f7f; text-decoration-color: #7f7f7f\"> Well-organized course content                                     </span>│<span style=\"color: #7f7f7f; text-decoration-color: #7f7f7f\"> 4     </span>│\n",
       "├───────────────────────────────────────────────────────────────────┼───────┤\n",
       "│<span style=\"color: #7f7f7f; text-decoration-color: #7f7f7f\"> Helpful and enthusiastic professor                                </span>│<span style=\"color: #7f7f7f; text-decoration-color: #7f7f7f\"> 3     </span>│\n",
       "├───────────────────────────────────────────────────────────────────┼───────┤\n",
       "│<span style=\"color: #7f7f7f; text-decoration-color: #7f7f7f\"> Difficult to connect with real-world applications                 </span>│<span style=\"color: #7f7f7f; text-decoration-color: #7f7f7f\"> 3     </span>│\n",
       "├───────────────────────────────────────────────────────────────────┼───────┤\n",
       "│<span style=\"color: #7f7f7f; text-decoration-color: #7f7f7f\"> More current event examples and practical discussions needed      </span>│<span style=\"color: #7f7f7f; text-decoration-color: #7f7f7f\"> 3     </span>│\n",
       "├───────────────────────────────────────────────────────────────────┼───────┤\n",
       "│<span style=\"color: #7f7f7f; text-decoration-color: #7f7f7f\"> Fair exams and engaging assignments                               </span>│<span style=\"color: #7f7f7f; text-decoration-color: #7f7f7f\"> 3     </span>│\n",
       "├───────────────────────────────────────────────────────────────────┼───────┤\n",
       "│<span style=\"color: #7f7f7f; text-decoration-color: #7f7f7f\"> Material felt dry and lectures were monotonous                    </span>│<span style=\"color: #7f7f7f; text-decoration-color: #7f7f7f\"> 2     </span>│\n",
       "├───────────────────────────────────────────────────────────────────┼───────┤\n",
       "│<span style=\"color: #7f7f7f; text-decoration-color: #7f7f7f\"> Need for more visual aids, guest lectures, and varied assignments </span>│<span style=\"color: #7f7f7f; text-decoration-color: #7f7f7f\"> 2     </span>│\n",
       "├───────────────────────────────────────────────────────────────────┼───────┤\n",
       "│<span style=\"color: #7f7f7f; text-decoration-color: #7f7f7f\"> Textbook and readings overly complex for an introductory course   </span>│<span style=\"color: #7f7f7f; text-decoration-color: #7f7f7f\"> 2     </span>│\n",
       "├───────────────────────────────────────────────────────────────────┼───────┤\n",
       "│<span style=\"color: #7f7f7f; text-decoration-color: #7f7f7f\"> Appreciated analytical rigor and diversity of perspectives        </span>│<span style=\"color: #7f7f7f; text-decoration-color: #7f7f7f\"> 1     </span>│\n",
       "├───────────────────────────────────────────────────────────────────┼───────┤\n",
       "│<span style=\"color: #7f7f7f; text-decoration-color: #7f7f7f\"> Desire for more detailed feedback on assignments                  </span>│<span style=\"color: #7f7f7f; text-decoration-color: #7f7f7f\"> 1     </span>│\n",
       "└───────────────────────────────────────────────────────────────────┴───────┘\n",
       "</pre>\n"
      ],
      "text/plain": [
       "┏━━━━━━━━━━━━━━━━━━━━━━━━━━━━━━━━━━━━━━━━━━━━━━━━━━━━━━━━━━━━━━━━━━━┳━━━━━━━┓\n",
       "┃\u001b[1;35m \u001b[0m\u001b[1;35mvalue                                                            \u001b[0m\u001b[1;35m \u001b[0m┃\u001b[1;35m \u001b[0m\u001b[1;35mcount\u001b[0m\u001b[1;35m \u001b[0m┃\n",
       "┡━━━━━━━━━━━━━━━━━━━━━━━━━━━━━━━━━━━━━━━━━━━━━━━━━━━━━━━━━━━━━━━━━━━╇━━━━━━━┩\n",
       "│\u001b[2m \u001b[0m\u001b[2mWell-organized course content                                    \u001b[0m\u001b[2m \u001b[0m│\u001b[2m \u001b[0m\u001b[2m4    \u001b[0m\u001b[2m \u001b[0m│\n",
       "├───────────────────────────────────────────────────────────────────┼───────┤\n",
       "│\u001b[2m \u001b[0m\u001b[2mHelpful and enthusiastic professor                               \u001b[0m\u001b[2m \u001b[0m│\u001b[2m \u001b[0m\u001b[2m3    \u001b[0m\u001b[2m \u001b[0m│\n",
       "├───────────────────────────────────────────────────────────────────┼───────┤\n",
       "│\u001b[2m \u001b[0m\u001b[2mDifficult to connect with real-world applications                \u001b[0m\u001b[2m \u001b[0m│\u001b[2m \u001b[0m\u001b[2m3    \u001b[0m\u001b[2m \u001b[0m│\n",
       "├───────────────────────────────────────────────────────────────────┼───────┤\n",
       "│\u001b[2m \u001b[0m\u001b[2mMore current event examples and practical discussions needed     \u001b[0m\u001b[2m \u001b[0m│\u001b[2m \u001b[0m\u001b[2m3    \u001b[0m\u001b[2m \u001b[0m│\n",
       "├───────────────────────────────────────────────────────────────────┼───────┤\n",
       "│\u001b[2m \u001b[0m\u001b[2mFair exams and engaging assignments                              \u001b[0m\u001b[2m \u001b[0m│\u001b[2m \u001b[0m\u001b[2m3    \u001b[0m\u001b[2m \u001b[0m│\n",
       "├───────────────────────────────────────────────────────────────────┼───────┤\n",
       "│\u001b[2m \u001b[0m\u001b[2mMaterial felt dry and lectures were monotonous                   \u001b[0m\u001b[2m \u001b[0m│\u001b[2m \u001b[0m\u001b[2m2    \u001b[0m\u001b[2m \u001b[0m│\n",
       "├───────────────────────────────────────────────────────────────────┼───────┤\n",
       "│\u001b[2m \u001b[0m\u001b[2mNeed for more visual aids, guest lectures, and varied assignments\u001b[0m\u001b[2m \u001b[0m│\u001b[2m \u001b[0m\u001b[2m2    \u001b[0m\u001b[2m \u001b[0m│\n",
       "├───────────────────────────────────────────────────────────────────┼───────┤\n",
       "│\u001b[2m \u001b[0m\u001b[2mTextbook and readings overly complex for an introductory course  \u001b[0m\u001b[2m \u001b[0m│\u001b[2m \u001b[0m\u001b[2m2    \u001b[0m\u001b[2m \u001b[0m│\n",
       "├───────────────────────────────────────────────────────────────────┼───────┤\n",
       "│\u001b[2m \u001b[0m\u001b[2mAppreciated analytical rigor and diversity of perspectives       \u001b[0m\u001b[2m \u001b[0m│\u001b[2m \u001b[0m\u001b[2m1    \u001b[0m\u001b[2m \u001b[0m│\n",
       "├───────────────────────────────────────────────────────────────────┼───────┤\n",
       "│\u001b[2m \u001b[0m\u001b[2mDesire for more detailed feedback on assignments                 \u001b[0m\u001b[2m \u001b[0m│\u001b[2m \u001b[0m\u001b[2m1    \u001b[0m\u001b[2m \u001b[0m│\n",
       "└───────────────────────────────────────────────────────────────────┴───────┘\n"
      ]
     },
     "metadata": {},
     "output_type": "display_data"
    }
   ],
   "source": [
    "wide_evaluation_themes.tally(\"theme\").print(format=\"rich\")"
   ]
  },
  {
   "cell_type": "markdown",
   "id": "846d29fd-847d-4352-af7c-ed339519e239",
   "metadata": {},
   "source": [
    "We can do the same thing with the areas of improvement:"
   ]
  },
  {
   "cell_type": "code",
   "execution_count": 24,
   "id": "13a8a2c1-5a8a-4e46-86fc-8ff23c9587a6",
   "metadata": {},
   "outputs": [
    {
     "data": {
      "text/plain": [
       "['Incorporate more real-world examples',\n",
       " 'Relate material to current events',\n",
       " 'Increase engagement with interactive activities',\n",
       " 'Incorporate more visual aids into lectures',\n",
       " 'Invite guest lecturers from industry professionals',\n",
       " 'Enhance lecture delivery to make it more engaging',\n",
       " 'Provide more diverse examples in lectures',\n",
       " 'Improve the pacing of the course material',\n",
       " 'Incorporate more real-world case studies',\n",
       " 'Incorporate more real-world economic examples into lectures',\n",
       " 'Facilitate discussions on the application of theories to current economic issues',\n",
       " 'Include case studies or guest speakers from industry',\n",
       " 'Increase opportunities for student participation',\n",
       " 'Provide additional resources for complex topics',\n",
       " 'Offer more real-world application projects',\n",
       " 'Simplify textbook selection',\n",
       " 'Align lecture content with textbook',\n",
       " 'Provide supplementary explanatory materials',\n",
       " 'Incorporate diverse assessment methods',\n",
       " 'Include more project-based assignments',\n",
       " 'Offer alternative evaluation options',\n",
       " 'Incorporate more real-world case studies',\n",
       " 'Facilitate class discussions on current economic events',\n",
       " 'Include practical applications in assignments',\n",
       " 'Provide more detailed feedback on assignments',\n",
       " 'Increase clarity on common mistakes',\n",
       " 'Offer additional office hours for assignment reviews',\n",
       " 'Adjust the pace of the course',\n",
       " 'Provide additional resources for weekly readings',\n",
       " 'Incorporate more review sessions']"
      ]
     },
     "execution_count": 24,
     "metadata": {},
     "output_type": "execute_result"
    }
   ],
   "source": [
    "improvements = results.select(\"improvements\").to_list(flatten=True)\n",
    "improvements"
   ]
  },
  {
   "cell_type": "code",
   "execution_count": 25,
   "id": "cd346576-9a41-4e15-99ba-ff99fd0d0c06",
   "metadata": {},
   "outputs": [],
   "source": [
    "q_condensed_improvements = QuestionList(\n",
    "    question_name=\"condensed_improvements\",\n",
    "    question_text=\"\"\"Combine the following list of areas for improvement from the evaluations \n",
    "    into a consolidated, non-redundant list: \"\"\"\n",
    "    + \", \".join(improvements),\n",
    "    max_list_items=10,\n",
    ")"
   ]
  },
  {
   "cell_type": "code",
   "execution_count": 26,
   "id": "f8e00a94-1eb0-49a5-b338-5385220ee9a3",
   "metadata": {},
   "outputs": [
    {
     "data": {
      "text/plain": [
       "['Incorporate more real-world examples and case studies',\n",
       " 'Relate material to current events',\n",
       " 'Increase engagement with interactive activities and discussions',\n",
       " 'Incorporate more visual aids into lectures',\n",
       " 'Invite guest lecturers from industry professionals',\n",
       " 'Enhance lecture delivery to make it more engaging',\n",
       " 'Improve the pacing of the course material',\n",
       " 'Provide additional resources and supplementary materials',\n",
       " 'Include diverse assessment methods and project-based assignments',\n",
       " 'Offer additional office hours and detailed feedback on assignments']"
      ]
     },
     "execution_count": 26,
     "metadata": {},
     "output_type": "execute_result"
    }
   ],
   "source": [
    "condensed_improvements = (\n",
    "    q_condensed_improvements.run().select(\"condensed_improvements\").to_list()[0]\n",
    ")\n",
    "condensed_improvements"
   ]
  },
  {
   "cell_type": "code",
   "execution_count": 27,
   "id": "3f59e1e7-559f-4ca8-9f94-9f75ab29d3f6",
   "metadata": {},
   "outputs": [],
   "source": [
    "q_improvements_list = QuestionCheckBox(\n",
    "    question_name=\"improvements_list\",\n",
    "    question_text=\"Select all of the improvements that are mentioned in this evaluation: {{ evaluation }}\",\n",
    "    question_options=condensed_improvements,\n",
    ")"
   ]
  },
  {
   "cell_type": "code",
   "execution_count": 28,
   "id": "89a896d5-2597-4f99-8a34-e8ecb0bf969b",
   "metadata": {},
   "outputs": [
    {
     "data": {
      "text/html": [
       "<pre style=\"white-space:pre;overflow-x:auto;line-height:normal;font-family:Menlo,'DejaVu Sans Mono',consolas,'Courier New',monospace\">┏━━━━━━━━━━━━━━━━━━━━━━━━━━━━━━━━━━━━━━━━━━━━━━━━━━━━━━━━┳━━━━━━━━━━━━━━━━━━━━━━━━━━━━━━━━━━━━━━━━━━━━━━━━━━━━━━━━┓\n",
       "┃<span style=\"color: #800080; text-decoration-color: #800080; font-weight: bold\"> scenario                                               </span>┃<span style=\"color: #800080; text-decoration-color: #800080; font-weight: bold\"> answer                                                 </span>┃\n",
       "┃<span style=\"color: #800080; text-decoration-color: #800080; font-weight: bold\"> .evaluation                                            </span>┃<span style=\"color: #800080; text-decoration-color: #800080; font-weight: bold\"> .improvements_list                                     </span>┃\n",
       "┡━━━━━━━━━━━━━━━━━━━━━━━━━━━━━━━━━━━━━━━━━━━━━━━━━━━━━━━━╇━━━━━━━━━━━━━━━━━━━━━━━━━━━━━━━━━━━━━━━━━━━━━━━━━━━━━━━━┩\n",
       "│<span style=\"color: #7f7f7f; text-decoration-color: #7f7f7f\"> The course content was well-organized, but the         </span>│<span style=\"color: #7f7f7f; text-decoration-color: #7f7f7f\"> ['Incorporate more visual aids into lectures', 'Invite </span>│\n",
       "│<span style=\"color: #7f7f7f; text-decoration-color: #7f7f7f\"> lectures were somewhat monotonous and hard to follow.  </span>│<span style=\"color: #7f7f7f; text-decoration-color: #7f7f7f\"> guest lecturers from industry professionals', 'Enhance </span>│\n",
       "│<span style=\"color: #7f7f7f; text-decoration-color: #7f7f7f\"> I would suggest incorporating more visual aids and     </span>│<span style=\"color: #7f7f7f; text-decoration-color: #7f7f7f\"> lecture delivery to make it more engaging']            </span>│\n",
       "│<span style=\"color: #7f7f7f; text-decoration-color: #7f7f7f\"> maybe some guest lectures from industry professionals  </span>│<span style=\"color: #7f7f7f; text-decoration-color: #7f7f7f\">                                                        </span>│\n",
       "│<span style=\"color: #7f7f7f; text-decoration-color: #7f7f7f\"> to liven up the sessions.                              </span>│<span style=\"color: #7f7f7f; text-decoration-color: #7f7f7f\">                                                        </span>│\n",
       "├────────────────────────────────────────────────────────┼────────────────────────────────────────────────────────┤\n",
       "│<span style=\"color: #7f7f7f; text-decoration-color: #7f7f7f\"> I found the course very engaging and informative. The  </span>│<span style=\"color: #7f7f7f; text-decoration-color: #7f7f7f\"> ['Improve the pacing of the course material', 'Provide </span>│\n",
       "│<span style=\"color: #7f7f7f; text-decoration-color: #7f7f7f\"> professor did an excellent job breaking down complex   </span>│<span style=\"color: #7f7f7f; text-decoration-color: #7f7f7f\"> additional resources and supplementary materials']     </span>│\n",
       "│<span style=\"color: #7f7f7f; text-decoration-color: #7f7f7f\"> concepts, making them accessible to those of us new to </span>│<span style=\"color: #7f7f7f; text-decoration-color: #7f7f7f\">                                                        </span>│\n",
       "│<span style=\"color: #7f7f7f; text-decoration-color: #7f7f7f\"> economics. However, the pace was a bit fast, and I     </span>│<span style=\"color: #7f7f7f; text-decoration-color: #7f7f7f\">                                                        </span>│\n",
       "│<span style=\"color: #7f7f7f; text-decoration-color: #7f7f7f\"> sometimes struggled to keep up with the weekly         </span>│<span style=\"color: #7f7f7f; text-decoration-color: #7f7f7f\">                                                        </span>│\n",
       "│<span style=\"color: #7f7f7f; text-decoration-color: #7f7f7f\"> readings.                                              </span>│<span style=\"color: #7f7f7f; text-decoration-color: #7f7f7f\">                                                        </span>│\n",
       "├────────────────────────────────────────────────────────┼────────────────────────────────────────────────────────┤\n",
       "│<span style=\"color: #7f7f7f; text-decoration-color: #7f7f7f\"> This class was a struggle for me. The material felt    </span>│<span style=\"color: #7f7f7f; text-decoration-color: #7f7f7f\"> ['Incorporate more real-world examples and case        </span>│\n",
       "│<span style=\"color: #7f7f7f; text-decoration-color: #7f7f7f\"> dry and difficult to connect with real-world           </span>│<span style=\"color: #7f7f7f; text-decoration-color: #7f7f7f\"> studies', 'Relate material to current events']         </span>│\n",
       "│<span style=\"color: #7f7f7f; text-decoration-color: #7f7f7f\"> applications, which I think could have made it more    </span>│<span style=\"color: #7f7f7f; text-decoration-color: #7f7f7f\">                                                        </span>│\n",
       "│<span style=\"color: #7f7f7f; text-decoration-color: #7f7f7f\"> interesting. More examples from current events would   </span>│<span style=\"color: #7f7f7f; text-decoration-color: #7f7f7f\">                                                        </span>│\n",
       "│<span style=\"color: #7f7f7f; text-decoration-color: #7f7f7f\"> definitely have helped spark my interest.              </span>│<span style=\"color: #7f7f7f; text-decoration-color: #7f7f7f\">                                                        </span>│\n",
       "├────────────────────────────────────────────────────────┼────────────────────────────────────────────────────────┤\n",
       "│<span style=\"color: #7f7f7f; text-decoration-color: #7f7f7f\"> This was my favorite class this semester! The mix of   </span>│<span style=\"color: #7f7f7f; text-decoration-color: #7f7f7f\"> []                                                     </span>│\n",
       "│<span style=\"color: #7f7f7f; text-decoration-color: #7f7f7f\"> theory and case studies was perfect, and the exams     </span>│<span style=\"color: #7f7f7f; text-decoration-color: #7f7f7f\">                                                        </span>│\n",
       "│<span style=\"color: #7f7f7f; text-decoration-color: #7f7f7f\"> were fair. I also really appreciated the diversity of  </span>│<span style=\"color: #7f7f7f; text-decoration-color: #7f7f7f\">                                                        </span>│\n",
       "│<span style=\"color: #7f7f7f; text-decoration-color: #7f7f7f\"> perspectives we explored in class, especially in terms </span>│<span style=\"color: #7f7f7f; text-decoration-color: #7f7f7f\">                                                        </span>│\n",
       "│<span style=\"color: #7f7f7f; text-decoration-color: #7f7f7f\"> of global economic policies.                           </span>│<span style=\"color: #7f7f7f; text-decoration-color: #7f7f7f\">                                                        </span>│\n",
       "├────────────────────────────────────────────────────────┼────────────────────────────────────────────────────────┤\n",
       "│<span style=\"color: #7f7f7f; text-decoration-color: #7f7f7f\"> As someone with a strong background in math, I         </span>│<span style=\"color: #7f7f7f; text-decoration-color: #7f7f7f\"> ['Incorporate more real-world examples and case        </span>│\n",
       "│<span style=\"color: #7f7f7f; text-decoration-color: #7f7f7f\"> appreciated the analytical rigor of this course.       </span>│<span style=\"color: #7f7f7f; text-decoration-color: #7f7f7f\"> studies', 'Relate material to current events']         </span>│\n",
       "│<span style=\"color: #7f7f7f; text-decoration-color: #7f7f7f\"> However, I wish there had been more discussions that   </span>│<span style=\"color: #7f7f7f; text-decoration-color: #7f7f7f\">                                                        </span>│\n",
       "│<span style=\"color: #7f7f7f; text-decoration-color: #7f7f7f\"> connected the theories we learned to everyday economic </span>│<span style=\"color: #7f7f7f; text-decoration-color: #7f7f7f\">                                                        </span>│\n",
       "│<span style=\"color: #7f7f7f; text-decoration-color: #7f7f7f\"> issues. It felt a bit isolated from practical          </span>│<span style=\"color: #7f7f7f; text-decoration-color: #7f7f7f\">                                                        </span>│\n",
       "│<span style=\"color: #7f7f7f; text-decoration-color: #7f7f7f\"> realities at times.                                    </span>│<span style=\"color: #7f7f7f; text-decoration-color: #7f7f7f\">                                                        </span>│\n",
       "├────────────────────────────────────────────────────────┼────────────────────────────────────────────────────────┤\n",
       "│<span style=\"color: #7f7f7f; text-decoration-color: #7f7f7f\"> Excellent introductory course! The professor was       </span>│<span style=\"color: #7f7f7f; text-decoration-color: #7f7f7f\"> []                                                     </span>│\n",
       "│<span style=\"color: #7f7f7f; text-decoration-color: #7f7f7f\"> enthusiastic and always willing to offer extra help    </span>│<span style=\"color: #7f7f7f; text-decoration-color: #7f7f7f\">                                                        </span>│\n",
       "│<span style=\"color: #7f7f7f; text-decoration-color: #7f7f7f\"> during office hours. The interactive lectures and the  </span>│<span style=\"color: #7f7f7f; text-decoration-color: #7f7f7f\">                                                        </span>│\n",
       "│<span style=\"color: #7f7f7f; text-decoration-color: #7f7f7f\"> practical assignments made the theory much more        </span>│<span style=\"color: #7f7f7f; text-decoration-color: #7f7f7f\">                                                        </span>│\n",
       "│<span style=\"color: #7f7f7f; text-decoration-color: #7f7f7f\"> digestible and engaging.                               </span>│<span style=\"color: #7f7f7f; text-decoration-color: #7f7f7f\">                                                        </span>│\n",
       "├────────────────────────────────────────────────────────┼────────────────────────────────────────────────────────┤\n",
       "│<span style=\"color: #7f7f7f; text-decoration-color: #7f7f7f\"> I found the textbook to be overly complex for an       </span>│<span style=\"color: #7f7f7f; text-decoration-color: #7f7f7f\"> ['Enhance lecture delivery to make it more engaging',  </span>│\n",
       "│<span style=\"color: #7f7f7f; text-decoration-color: #7f7f7f\"> introductory course. It often used jargon that hadn't  </span>│<span style=\"color: #7f7f7f; text-decoration-color: #7f7f7f\"> 'Provide additional resources and supplementary        </span>│\n",
       "│<span style=\"color: #7f7f7f; text-decoration-color: #7f7f7f\"> been explained in lectures, which was confusing.       </span>│<span style=\"color: #7f7f7f; text-decoration-color: #7f7f7f\"> materials']                                            </span>│\n",
       "│<span style=\"color: #7f7f7f; text-decoration-color: #7f7f7f\"> Simpler reading materials or more explanatory lectures </span>│<span style=\"color: #7f7f7f; text-decoration-color: #7f7f7f\">                                                        </span>│\n",
       "│<span style=\"color: #7f7f7f; text-decoration-color: #7f7f7f\"> would make a big difference for newcomers to           </span>│<span style=\"color: #7f7f7f; text-decoration-color: #7f7f7f\">                                                        </span>│\n",
       "│<span style=\"color: #7f7f7f; text-decoration-color: #7f7f7f\"> economics.                                             </span>│<span style=\"color: #7f7f7f; text-decoration-color: #7f7f7f\">                                                        </span>│\n",
       "├────────────────────────────────────────────────────────┼────────────────────────────────────────────────────────┤\n",
       "│<span style=\"color: #7f7f7f; text-decoration-color: #7f7f7f\"> I enjoyed the course, especially the group projects,   </span>│<span style=\"color: #7f7f7f; text-decoration-color: #7f7f7f\"> ['Offer additional office hours and detailed feedback  </span>│\n",
       "│<span style=\"color: #7f7f7f; text-decoration-color: #7f7f7f\"> which were both challenging and rewarding. It was      </span>│<span style=\"color: #7f7f7f; text-decoration-color: #7f7f7f\"> on assignments']                                       </span>│\n",
       "│<span style=\"color: #7f7f7f; text-decoration-color: #7f7f7f\"> great to apply economic concepts to solve real-life    </span>│<span style=\"color: #7f7f7f; text-decoration-color: #7f7f7f\">                                                        </span>│\n",
       "│<span style=\"color: #7f7f7f; text-decoration-color: #7f7f7f\"> problems. I did feel, however, that the feedback on    </span>│<span style=\"color: #7f7f7f; text-decoration-color: #7f7f7f\">                                                        </span>│\n",
       "│<span style=\"color: #7f7f7f; text-decoration-color: #7f7f7f\"> assignments could be more detailed to help us          </span>│<span style=\"color: #7f7f7f; text-decoration-color: #7f7f7f\">                                                        </span>│\n",
       "│<span style=\"color: #7f7f7f; text-decoration-color: #7f7f7f\"> understand our mistakes.                               </span>│<span style=\"color: #7f7f7f; text-decoration-color: #7f7f7f\">                                                        </span>│\n",
       "├────────────────────────────────────────────────────────┼────────────────────────────────────────────────────────┤\n",
       "│<span style=\"color: #7f7f7f; text-decoration-color: #7f7f7f\"> This class was a solid introduction to economics,      </span>│<span style=\"color: #7f7f7f; text-decoration-color: #7f7f7f\"> ['Incorporate more real-world examples and case        </span>│\n",
       "│<span style=\"color: #7f7f7f; text-decoration-color: #7f7f7f\"> though it leaned heavily on theoretical aspects. I     </span>│<span style=\"color: #7f7f7f; text-decoration-color: #7f7f7f\"> studies', 'Increase engagement with interactive        </span>│\n",
       "│<span style=\"color: #7f7f7f; text-decoration-color: #7f7f7f\"> would have liked more opportunities to discuss the     </span>│<span style=\"color: #7f7f7f; text-decoration-color: #7f7f7f\"> activities and discussions']                           </span>│\n",
       "│<span style=\"color: #7f7f7f; text-decoration-color: #7f7f7f\"> real-world implications of economic theories, which I  </span>│<span style=\"color: #7f7f7f; text-decoration-color: #7f7f7f\">                                                        </span>│\n",
       "│<span style=\"color: #7f7f7f; text-decoration-color: #7f7f7f\"> believe would enhance understanding and retention of   </span>│<span style=\"color: #7f7f7f; text-decoration-color: #7f7f7f\">                                                        </span>│\n",
       "│<span style=\"color: #7f7f7f; text-decoration-color: #7f7f7f\"> the material.                                          </span>│<span style=\"color: #7f7f7f; text-decoration-color: #7f7f7f\">                                                        </span>│\n",
       "├────────────────────────────────────────────────────────┼────────────────────────────────────────────────────────┤\n",
       "│<span style=\"color: #7f7f7f; text-decoration-color: #7f7f7f\"> The professor was knowledgeable and clearly passionate </span>│<span style=\"color: #7f7f7f; text-decoration-color: #7f7f7f\"> ['Include diverse assessment methods and project-based </span>│\n",
       "│<span style=\"color: #7f7f7f; text-decoration-color: #7f7f7f\"> about economics, but I felt the course relied too      </span>│<span style=\"color: #7f7f7f; text-decoration-color: #7f7f7f\"> assignments']                                          </span>│\n",
       "│<span style=\"color: #7f7f7f; text-decoration-color: #7f7f7f\"> heavily on tests rather than more creative forms of    </span>│<span style=\"color: #7f7f7f; text-decoration-color: #7f7f7f\">                                                        </span>│\n",
       "│<span style=\"color: #7f7f7f; text-decoration-color: #7f7f7f\"> assessment. More varied assignments would make the     </span>│<span style=\"color: #7f7f7f; text-decoration-color: #7f7f7f\">                                                        </span>│\n",
       "│<span style=\"color: #7f7f7f; text-decoration-color: #7f7f7f\"> course more accessible to students with different      </span>│<span style=\"color: #7f7f7f; text-decoration-color: #7f7f7f\">                                                        </span>│\n",
       "│<span style=\"color: #7f7f7f; text-decoration-color: #7f7f7f\"> learning styles.                                       </span>│<span style=\"color: #7f7f7f; text-decoration-color: #7f7f7f\">                                                        </span>│\n",
       "└────────────────────────────────────────────────────────┴────────────────────────────────────────────────────────┘\n",
       "</pre>\n"
      ],
      "text/plain": [
       "┏━━━━━━━━━━━━━━━━━━━━━━━━━━━━━━━━━━━━━━━━━━━━━━━━━━━━━━━━┳━━━━━━━━━━━━━━━━━━━━━━━━━━━━━━━━━━━━━━━━━━━━━━━━━━━━━━━━┓\n",
       "┃\u001b[1;35m \u001b[0m\u001b[1;35mscenario                                              \u001b[0m\u001b[1;35m \u001b[0m┃\u001b[1;35m \u001b[0m\u001b[1;35manswer                                                \u001b[0m\u001b[1;35m \u001b[0m┃\n",
       "┃\u001b[1;35m \u001b[0m\u001b[1;35m.evaluation                                           \u001b[0m\u001b[1;35m \u001b[0m┃\u001b[1;35m \u001b[0m\u001b[1;35m.improvements_list                                    \u001b[0m\u001b[1;35m \u001b[0m┃\n",
       "┡━━━━━━━━━━━━━━━━━━━━━━━━━━━━━━━━━━━━━━━━━━━━━━━━━━━━━━━━╇━━━━━━━━━━━━━━━━━━━━━━━━━━━━━━━━━━━━━━━━━━━━━━━━━━━━━━━━┩\n",
       "│\u001b[2m \u001b[0m\u001b[2mThe course content was well-organized, but the        \u001b[0m\u001b[2m \u001b[0m│\u001b[2m \u001b[0m\u001b[2m['Incorporate more visual aids into lectures', 'Invite\u001b[0m\u001b[2m \u001b[0m│\n",
       "│\u001b[2m \u001b[0m\u001b[2mlectures were somewhat monotonous and hard to follow. \u001b[0m\u001b[2m \u001b[0m│\u001b[2m \u001b[0m\u001b[2mguest lecturers from industry professionals', 'Enhance\u001b[0m\u001b[2m \u001b[0m│\n",
       "│\u001b[2m \u001b[0m\u001b[2mI would suggest incorporating more visual aids and    \u001b[0m\u001b[2m \u001b[0m│\u001b[2m \u001b[0m\u001b[2mlecture delivery to make it more engaging']           \u001b[0m\u001b[2m \u001b[0m│\n",
       "│\u001b[2m \u001b[0m\u001b[2mmaybe some guest lectures from industry professionals \u001b[0m\u001b[2m \u001b[0m│\u001b[2m                                                        \u001b[0m│\n",
       "│\u001b[2m \u001b[0m\u001b[2mto liven up the sessions.                             \u001b[0m\u001b[2m \u001b[0m│\u001b[2m                                                        \u001b[0m│\n",
       "├────────────────────────────────────────────────────────┼────────────────────────────────────────────────────────┤\n",
       "│\u001b[2m \u001b[0m\u001b[2mI found the course very engaging and informative. The \u001b[0m\u001b[2m \u001b[0m│\u001b[2m \u001b[0m\u001b[2m['Improve the pacing of the course material', 'Provide\u001b[0m\u001b[2m \u001b[0m│\n",
       "│\u001b[2m \u001b[0m\u001b[2mprofessor did an excellent job breaking down complex  \u001b[0m\u001b[2m \u001b[0m│\u001b[2m \u001b[0m\u001b[2madditional resources and supplementary materials']    \u001b[0m\u001b[2m \u001b[0m│\n",
       "│\u001b[2m \u001b[0m\u001b[2mconcepts, making them accessible to those of us new to\u001b[0m\u001b[2m \u001b[0m│\u001b[2m                                                        \u001b[0m│\n",
       "│\u001b[2m \u001b[0m\u001b[2meconomics. However, the pace was a bit fast, and I    \u001b[0m\u001b[2m \u001b[0m│\u001b[2m                                                        \u001b[0m│\n",
       "│\u001b[2m \u001b[0m\u001b[2msometimes struggled to keep up with the weekly        \u001b[0m\u001b[2m \u001b[0m│\u001b[2m                                                        \u001b[0m│\n",
       "│\u001b[2m \u001b[0m\u001b[2mreadings.                                             \u001b[0m\u001b[2m \u001b[0m│\u001b[2m                                                        \u001b[0m│\n",
       "├────────────────────────────────────────────────────────┼────────────────────────────────────────────────────────┤\n",
       "│\u001b[2m \u001b[0m\u001b[2mThis class was a struggle for me. The material felt   \u001b[0m\u001b[2m \u001b[0m│\u001b[2m \u001b[0m\u001b[2m['Incorporate more real-world examples and case       \u001b[0m\u001b[2m \u001b[0m│\n",
       "│\u001b[2m \u001b[0m\u001b[2mdry and difficult to connect with real-world          \u001b[0m\u001b[2m \u001b[0m│\u001b[2m \u001b[0m\u001b[2mstudies', 'Relate material to current events']        \u001b[0m\u001b[2m \u001b[0m│\n",
       "│\u001b[2m \u001b[0m\u001b[2mapplications, which I think could have made it more   \u001b[0m\u001b[2m \u001b[0m│\u001b[2m                                                        \u001b[0m│\n",
       "│\u001b[2m \u001b[0m\u001b[2minteresting. More examples from current events would  \u001b[0m\u001b[2m \u001b[0m│\u001b[2m                                                        \u001b[0m│\n",
       "│\u001b[2m \u001b[0m\u001b[2mdefinitely have helped spark my interest.             \u001b[0m\u001b[2m \u001b[0m│\u001b[2m                                                        \u001b[0m│\n",
       "├────────────────────────────────────────────────────────┼────────────────────────────────────────────────────────┤\n",
       "│\u001b[2m \u001b[0m\u001b[2mThis was my favorite class this semester! The mix of  \u001b[0m\u001b[2m \u001b[0m│\u001b[2m \u001b[0m\u001b[2m[]                                                    \u001b[0m\u001b[2m \u001b[0m│\n",
       "│\u001b[2m \u001b[0m\u001b[2mtheory and case studies was perfect, and the exams    \u001b[0m\u001b[2m \u001b[0m│\u001b[2m                                                        \u001b[0m│\n",
       "│\u001b[2m \u001b[0m\u001b[2mwere fair. I also really appreciated the diversity of \u001b[0m\u001b[2m \u001b[0m│\u001b[2m                                                        \u001b[0m│\n",
       "│\u001b[2m \u001b[0m\u001b[2mperspectives we explored in class, especially in terms\u001b[0m\u001b[2m \u001b[0m│\u001b[2m                                                        \u001b[0m│\n",
       "│\u001b[2m \u001b[0m\u001b[2mof global economic policies.                          \u001b[0m\u001b[2m \u001b[0m│\u001b[2m                                                        \u001b[0m│\n",
       "├────────────────────────────────────────────────────────┼────────────────────────────────────────────────────────┤\n",
       "│\u001b[2m \u001b[0m\u001b[2mAs someone with a strong background in math, I        \u001b[0m\u001b[2m \u001b[0m│\u001b[2m \u001b[0m\u001b[2m['Incorporate more real-world examples and case       \u001b[0m\u001b[2m \u001b[0m│\n",
       "│\u001b[2m \u001b[0m\u001b[2mappreciated the analytical rigor of this course.      \u001b[0m\u001b[2m \u001b[0m│\u001b[2m \u001b[0m\u001b[2mstudies', 'Relate material to current events']        \u001b[0m\u001b[2m \u001b[0m│\n",
       "│\u001b[2m \u001b[0m\u001b[2mHowever, I wish there had been more discussions that  \u001b[0m\u001b[2m \u001b[0m│\u001b[2m                                                        \u001b[0m│\n",
       "│\u001b[2m \u001b[0m\u001b[2mconnected the theories we learned to everyday economic\u001b[0m\u001b[2m \u001b[0m│\u001b[2m                                                        \u001b[0m│\n",
       "│\u001b[2m \u001b[0m\u001b[2missues. It felt a bit isolated from practical         \u001b[0m\u001b[2m \u001b[0m│\u001b[2m                                                        \u001b[0m│\n",
       "│\u001b[2m \u001b[0m\u001b[2mrealities at times.                                   \u001b[0m\u001b[2m \u001b[0m│\u001b[2m                                                        \u001b[0m│\n",
       "├────────────────────────────────────────────────────────┼────────────────────────────────────────────────────────┤\n",
       "│\u001b[2m \u001b[0m\u001b[2mExcellent introductory course! The professor was      \u001b[0m\u001b[2m \u001b[0m│\u001b[2m \u001b[0m\u001b[2m[]                                                    \u001b[0m\u001b[2m \u001b[0m│\n",
       "│\u001b[2m \u001b[0m\u001b[2menthusiastic and always willing to offer extra help   \u001b[0m\u001b[2m \u001b[0m│\u001b[2m                                                        \u001b[0m│\n",
       "│\u001b[2m \u001b[0m\u001b[2mduring office hours. The interactive lectures and the \u001b[0m\u001b[2m \u001b[0m│\u001b[2m                                                        \u001b[0m│\n",
       "│\u001b[2m \u001b[0m\u001b[2mpractical assignments made the theory much more       \u001b[0m\u001b[2m \u001b[0m│\u001b[2m                                                        \u001b[0m│\n",
       "│\u001b[2m \u001b[0m\u001b[2mdigestible and engaging.                              \u001b[0m\u001b[2m \u001b[0m│\u001b[2m                                                        \u001b[0m│\n",
       "├────────────────────────────────────────────────────────┼────────────────────────────────────────────────────────┤\n",
       "│\u001b[2m \u001b[0m\u001b[2mI found the textbook to be overly complex for an      \u001b[0m\u001b[2m \u001b[0m│\u001b[2m \u001b[0m\u001b[2m['Enhance lecture delivery to make it more engaging', \u001b[0m\u001b[2m \u001b[0m│\n",
       "│\u001b[2m \u001b[0m\u001b[2mintroductory course. It often used jargon that hadn't \u001b[0m\u001b[2m \u001b[0m│\u001b[2m \u001b[0m\u001b[2m'Provide additional resources and supplementary       \u001b[0m\u001b[2m \u001b[0m│\n",
       "│\u001b[2m \u001b[0m\u001b[2mbeen explained in lectures, which was confusing.      \u001b[0m\u001b[2m \u001b[0m│\u001b[2m \u001b[0m\u001b[2mmaterials']                                           \u001b[0m\u001b[2m \u001b[0m│\n",
       "│\u001b[2m \u001b[0m\u001b[2mSimpler reading materials or more explanatory lectures\u001b[0m\u001b[2m \u001b[0m│\u001b[2m                                                        \u001b[0m│\n",
       "│\u001b[2m \u001b[0m\u001b[2mwould make a big difference for newcomers to          \u001b[0m\u001b[2m \u001b[0m│\u001b[2m                                                        \u001b[0m│\n",
       "│\u001b[2m \u001b[0m\u001b[2meconomics.                                            \u001b[0m\u001b[2m \u001b[0m│\u001b[2m                                                        \u001b[0m│\n",
       "├────────────────────────────────────────────────────────┼────────────────────────────────────────────────────────┤\n",
       "│\u001b[2m \u001b[0m\u001b[2mI enjoyed the course, especially the group projects,  \u001b[0m\u001b[2m \u001b[0m│\u001b[2m \u001b[0m\u001b[2m['Offer additional office hours and detailed feedback \u001b[0m\u001b[2m \u001b[0m│\n",
       "│\u001b[2m \u001b[0m\u001b[2mwhich were both challenging and rewarding. It was     \u001b[0m\u001b[2m \u001b[0m│\u001b[2m \u001b[0m\u001b[2mon assignments']                                      \u001b[0m\u001b[2m \u001b[0m│\n",
       "│\u001b[2m \u001b[0m\u001b[2mgreat to apply economic concepts to solve real-life   \u001b[0m\u001b[2m \u001b[0m│\u001b[2m                                                        \u001b[0m│\n",
       "│\u001b[2m \u001b[0m\u001b[2mproblems. I did feel, however, that the feedback on   \u001b[0m\u001b[2m \u001b[0m│\u001b[2m                                                        \u001b[0m│\n",
       "│\u001b[2m \u001b[0m\u001b[2massignments could be more detailed to help us         \u001b[0m\u001b[2m \u001b[0m│\u001b[2m                                                        \u001b[0m│\n",
       "│\u001b[2m \u001b[0m\u001b[2munderstand our mistakes.                              \u001b[0m\u001b[2m \u001b[0m│\u001b[2m                                                        \u001b[0m│\n",
       "├────────────────────────────────────────────────────────┼────────────────────────────────────────────────────────┤\n",
       "│\u001b[2m \u001b[0m\u001b[2mThis class was a solid introduction to economics,     \u001b[0m\u001b[2m \u001b[0m│\u001b[2m \u001b[0m\u001b[2m['Incorporate more real-world examples and case       \u001b[0m\u001b[2m \u001b[0m│\n",
       "│\u001b[2m \u001b[0m\u001b[2mthough it leaned heavily on theoretical aspects. I    \u001b[0m\u001b[2m \u001b[0m│\u001b[2m \u001b[0m\u001b[2mstudies', 'Increase engagement with interactive       \u001b[0m\u001b[2m \u001b[0m│\n",
       "│\u001b[2m \u001b[0m\u001b[2mwould have liked more opportunities to discuss the    \u001b[0m\u001b[2m \u001b[0m│\u001b[2m \u001b[0m\u001b[2mactivities and discussions']                          \u001b[0m\u001b[2m \u001b[0m│\n",
       "│\u001b[2m \u001b[0m\u001b[2mreal-world implications of economic theories, which I \u001b[0m\u001b[2m \u001b[0m│\u001b[2m                                                        \u001b[0m│\n",
       "│\u001b[2m \u001b[0m\u001b[2mbelieve would enhance understanding and retention of  \u001b[0m\u001b[2m \u001b[0m│\u001b[2m                                                        \u001b[0m│\n",
       "│\u001b[2m \u001b[0m\u001b[2mthe material.                                         \u001b[0m\u001b[2m \u001b[0m│\u001b[2m                                                        \u001b[0m│\n",
       "├────────────────────────────────────────────────────────┼────────────────────────────────────────────────────────┤\n",
       "│\u001b[2m \u001b[0m\u001b[2mThe professor was knowledgeable and clearly passionate\u001b[0m\u001b[2m \u001b[0m│\u001b[2m \u001b[0m\u001b[2m['Include diverse assessment methods and project-based\u001b[0m\u001b[2m \u001b[0m│\n",
       "│\u001b[2m \u001b[0m\u001b[2mabout economics, but I felt the course relied too     \u001b[0m\u001b[2m \u001b[0m│\u001b[2m \u001b[0m\u001b[2massignments']                                         \u001b[0m\u001b[2m \u001b[0m│\n",
       "│\u001b[2m \u001b[0m\u001b[2mheavily on tests rather than more creative forms of   \u001b[0m\u001b[2m \u001b[0m│\u001b[2m                                                        \u001b[0m│\n",
       "│\u001b[2m \u001b[0m\u001b[2massessment. More varied assignments would make the    \u001b[0m\u001b[2m \u001b[0m│\u001b[2m                                                        \u001b[0m│\n",
       "│\u001b[2m \u001b[0m\u001b[2mcourse more accessible to students with different     \u001b[0m\u001b[2m \u001b[0m│\u001b[2m                                                        \u001b[0m│\n",
       "│\u001b[2m \u001b[0m\u001b[2mlearning styles.                                      \u001b[0m\u001b[2m \u001b[0m│\u001b[2m                                                        \u001b[0m│\n",
       "└────────────────────────────────────────────────────────┴────────────────────────────────────────────────────────┘\n"
      ]
     },
     "metadata": {},
     "output_type": "display_data"
    }
   ],
   "source": [
    "improvements_lists = q_improvements_list.by(scenarios).by(agent).run()\n",
    "improvements_lists.select(\"evaluation\", \"improvements_list\").print(format=\"rich\")"
   ]
  },
  {
   "cell_type": "code",
   "execution_count": 29,
   "id": "c28907c3",
   "metadata": {},
   "outputs": [],
   "source": [
    "wide_themes = (improvements_lists\n",
    "               .select(\"evaluation\", \"improvements_list\")\n",
    "               .to_scenario_list()\n",
    "               .expand(\"improvements_list\")\n",
    "               .rename({\"improvements_list\": \"theme\"})\n",
    ")"
   ]
  },
  {
   "cell_type": "code",
   "execution_count": 30,
   "id": "974ad70b",
   "metadata": {},
   "outputs": [
    {
     "data": {
      "text/html": [
       "<pre style=\"white-space:pre;overflow-x:auto;line-height:normal;font-family:Menlo,'DejaVu Sans Mono',consolas,'Courier New',monospace\">┏━━━━━━━━━━━━━━━━━━━━━━━━━━━━━━━━━━━━━━━━━━━━━━━━━━━━━━━━━━━━━━━━━━━━┳━━━━━━━┓\n",
       "┃<span style=\"color: #800080; text-decoration-color: #800080; font-weight: bold\"> value                                                              </span>┃<span style=\"color: #800080; text-decoration-color: #800080; font-weight: bold\"> count </span>┃\n",
       "┡━━━━━━━━━━━━━━━━━━━━━━━━━━━━━━━━━━━━━━━━━━━━━━━━━━━━━━━━━━━━━━━━━━━━╇━━━━━━━┩\n",
       "│<span style=\"color: #7f7f7f; text-decoration-color: #7f7f7f\"> Incorporate more real-world examples and case studies              </span>│<span style=\"color: #7f7f7f; text-decoration-color: #7f7f7f\"> 3     </span>│\n",
       "├────────────────────────────────────────────────────────────────────┼───────┤\n",
       "│<span style=\"color: #7f7f7f; text-decoration-color: #7f7f7f\"> Enhance lecture delivery to make it more engaging                  </span>│<span style=\"color: #7f7f7f; text-decoration-color: #7f7f7f\"> 2     </span>│\n",
       "├────────────────────────────────────────────────────────────────────┼───────┤\n",
       "│<span style=\"color: #7f7f7f; text-decoration-color: #7f7f7f\"> Provide additional resources and supplementary materials           </span>│<span style=\"color: #7f7f7f; text-decoration-color: #7f7f7f\"> 2     </span>│\n",
       "├────────────────────────────────────────────────────────────────────┼───────┤\n",
       "│<span style=\"color: #7f7f7f; text-decoration-color: #7f7f7f\"> Relate material to current events                                  </span>│<span style=\"color: #7f7f7f; text-decoration-color: #7f7f7f\"> 2     </span>│\n",
       "├────────────────────────────────────────────────────────────────────┼───────┤\n",
       "│<span style=\"color: #7f7f7f; text-decoration-color: #7f7f7f\"> Incorporate more visual aids into lectures                         </span>│<span style=\"color: #7f7f7f; text-decoration-color: #7f7f7f\"> 1     </span>│\n",
       "├────────────────────────────────────────────────────────────────────┼───────┤\n",
       "│<span style=\"color: #7f7f7f; text-decoration-color: #7f7f7f\"> Invite guest lecturers from industry professionals                 </span>│<span style=\"color: #7f7f7f; text-decoration-color: #7f7f7f\"> 1     </span>│\n",
       "├────────────────────────────────────────────────────────────────────┼───────┤\n",
       "│<span style=\"color: #7f7f7f; text-decoration-color: #7f7f7f\"> Improve the pacing of the course material                          </span>│<span style=\"color: #7f7f7f; text-decoration-color: #7f7f7f\"> 1     </span>│\n",
       "├────────────────────────────────────────────────────────────────────┼───────┤\n",
       "│<span style=\"color: #7f7f7f; text-decoration-color: #7f7f7f\"> Offer additional office hours and detailed feedback on assignments </span>│<span style=\"color: #7f7f7f; text-decoration-color: #7f7f7f\"> 1     </span>│\n",
       "├────────────────────────────────────────────────────────────────────┼───────┤\n",
       "│<span style=\"color: #7f7f7f; text-decoration-color: #7f7f7f\"> Increase engagement with interactive activities and discussions    </span>│<span style=\"color: #7f7f7f; text-decoration-color: #7f7f7f\"> 1     </span>│\n",
       "├────────────────────────────────────────────────────────────────────┼───────┤\n",
       "│<span style=\"color: #7f7f7f; text-decoration-color: #7f7f7f\"> Include diverse assessment methods and project-based assignments   </span>│<span style=\"color: #7f7f7f; text-decoration-color: #7f7f7f\"> 1     </span>│\n",
       "└────────────────────────────────────────────────────────────────────┴───────┘\n",
       "</pre>\n"
      ],
      "text/plain": [
       "┏━━━━━━━━━━━━━━━━━━━━━━━━━━━━━━━━━━━━━━━━━━━━━━━━━━━━━━━━━━━━━━━━━━━━┳━━━━━━━┓\n",
       "┃\u001b[1;35m \u001b[0m\u001b[1;35mvalue                                                             \u001b[0m\u001b[1;35m \u001b[0m┃\u001b[1;35m \u001b[0m\u001b[1;35mcount\u001b[0m\u001b[1;35m \u001b[0m┃\n",
       "┡━━━━━━━━━━━━━━━━━━━━━━━━━━━━━━━━━━━━━━━━━━━━━━━━━━━━━━━━━━━━━━━━━━━━╇━━━━━━━┩\n",
       "│\u001b[2m \u001b[0m\u001b[2mIncorporate more real-world examples and case studies             \u001b[0m\u001b[2m \u001b[0m│\u001b[2m \u001b[0m\u001b[2m3    \u001b[0m\u001b[2m \u001b[0m│\n",
       "├────────────────────────────────────────────────────────────────────┼───────┤\n",
       "│\u001b[2m \u001b[0m\u001b[2mEnhance lecture delivery to make it more engaging                 \u001b[0m\u001b[2m \u001b[0m│\u001b[2m \u001b[0m\u001b[2m2    \u001b[0m\u001b[2m \u001b[0m│\n",
       "├────────────────────────────────────────────────────────────────────┼───────┤\n",
       "│\u001b[2m \u001b[0m\u001b[2mProvide additional resources and supplementary materials          \u001b[0m\u001b[2m \u001b[0m│\u001b[2m \u001b[0m\u001b[2m2    \u001b[0m\u001b[2m \u001b[0m│\n",
       "├────────────────────────────────────────────────────────────────────┼───────┤\n",
       "│\u001b[2m \u001b[0m\u001b[2mRelate material to current events                                 \u001b[0m\u001b[2m \u001b[0m│\u001b[2m \u001b[0m\u001b[2m2    \u001b[0m\u001b[2m \u001b[0m│\n",
       "├────────────────────────────────────────────────────────────────────┼───────┤\n",
       "│\u001b[2m \u001b[0m\u001b[2mIncorporate more visual aids into lectures                        \u001b[0m\u001b[2m \u001b[0m│\u001b[2m \u001b[0m\u001b[2m1    \u001b[0m\u001b[2m \u001b[0m│\n",
       "├────────────────────────────────────────────────────────────────────┼───────┤\n",
       "│\u001b[2m \u001b[0m\u001b[2mInvite guest lecturers from industry professionals                \u001b[0m\u001b[2m \u001b[0m│\u001b[2m \u001b[0m\u001b[2m1    \u001b[0m\u001b[2m \u001b[0m│\n",
       "├────────────────────────────────────────────────────────────────────┼───────┤\n",
       "│\u001b[2m \u001b[0m\u001b[2mImprove the pacing of the course material                         \u001b[0m\u001b[2m \u001b[0m│\u001b[2m \u001b[0m\u001b[2m1    \u001b[0m\u001b[2m \u001b[0m│\n",
       "├────────────────────────────────────────────────────────────────────┼───────┤\n",
       "│\u001b[2m \u001b[0m\u001b[2mOffer additional office hours and detailed feedback on assignments\u001b[0m\u001b[2m \u001b[0m│\u001b[2m \u001b[0m\u001b[2m1    \u001b[0m\u001b[2m \u001b[0m│\n",
       "├────────────────────────────────────────────────────────────────────┼───────┤\n",
       "│\u001b[2m \u001b[0m\u001b[2mIncrease engagement with interactive activities and discussions   \u001b[0m\u001b[2m \u001b[0m│\u001b[2m \u001b[0m\u001b[2m1    \u001b[0m\u001b[2m \u001b[0m│\n",
       "├────────────────────────────────────────────────────────────────────┼───────┤\n",
       "│\u001b[2m \u001b[0m\u001b[2mInclude diverse assessment methods and project-based assignments  \u001b[0m\u001b[2m \u001b[0m│\u001b[2m \u001b[0m\u001b[2m1    \u001b[0m\u001b[2m \u001b[0m│\n",
       "└────────────────────────────────────────────────────────────────────┴───────┘\n"
      ]
     },
     "metadata": {},
     "output_type": "display_data"
    }
   ],
   "source": [
    "wide_themes.tally(\"theme\").print(format=\"rich\")"
   ]
  },
  {
   "cell_type": "code",
   "execution_count": 31,
   "id": "fc027f86",
   "metadata": {},
   "outputs": [],
   "source": [
    "improvements_summary = wide_themes.tally(\"theme\")"
   ]
  },
  {
   "cell_type": "code",
   "execution_count": 32,
   "id": "8a331493",
   "metadata": {},
   "outputs": [],
   "source": [
    "summary_string = improvements_summary.print(format = \"markdown\", return_string = True)"
   ]
  },
  {
   "cell_type": "markdown",
   "id": "fd739dc9-da05-4e39-ae23-bce83df78c23",
   "metadata": {},
   "source": [
    "## Summarize the review\n",
    "Here we create another question prompting the agent to summarize the analysis that was done, using the results of the prior steps:"
   ]
  },
  {
   "cell_type": "code",
   "execution_count": 33,
   "id": "4b6ae6f1-9ee6-46fb-a0d8-5e61acacf2e4",
   "metadata": {},
   "outputs": [
    {
     "data": {
      "text/html": [
       "<pre style=\"white-space:pre;overflow-x:auto;line-height:normal;font-family:Menlo,'DejaVu Sans Mono',consolas,'Courier New',monospace\">┏━━━━━━━━━━━━━━━━━━━━━━━━━━━━━━━━━━━━━━━━━━━━━━━━━━━━━━━━━━━━━━━━━━━━━━━━━━━━━━━━━━━━━━━━━━━━━━━━━━━━━━━━━━━━━━━━━┓\n",
       "┃<span style=\"color: #800080; text-decoration-color: #800080; font-weight: bold\"> answer                                                                                                          </span>┃\n",
       "┃<span style=\"color: #800080; text-decoration-color: #800080; font-weight: bold\"> .summary                                                                                                        </span>┃\n",
       "┡━━━━━━━━━━━━━━━━━━━━━━━━━━━━━━━━━━━━━━━━━━━━━━━━━━━━━━━━━━━━━━━━━━━━━━━━━━━━━━━━━━━━━━━━━━━━━━━━━━━━━━━━━━━━━━━━━┩\n",
       "│<span style=\"color: #7f7f7f; text-decoration-color: #7f7f7f\"> The student evaluations for the recent Econ 101 course highlight several key themes and areas for improvement.  </span>│\n",
       "│<span style=\"color: #7f7f7f; text-decoration-color: #7f7f7f\"> A notable number of students appreciated the well-organized course content and found the professor to be        </span>│\n",
       "│<span style=\"color: #7f7f7f; text-decoration-color: #7f7f7f\"> helpful and enthusiastic. However, there was a significant call for more real-world applications, with three    </span>│\n",
       "│<span style=\"color: #7f7f7f; text-decoration-color: #7f7f7f\"> students specifically mentioning the need for current event examples and practical discussions. While the exams </span>│\n",
       "│<span style=\"color: #7f7f7f; text-decoration-color: #7f7f7f\"> and assignments were generally seen as fair and engaging, there were concerns about the dryness of the material </span>│\n",
       "│<span style=\"color: #7f7f7f; text-decoration-color: #7f7f7f\"> and the monotonous nature of the lectures. Suggestions for improvement included incorporating more visual aids, </span>│\n",
       "│<span style=\"color: #7f7f7f; text-decoration-color: #7f7f7f\"> guest lectures, and varied assignments, as well as simplifying the textbook and readings for an introductory    </span>│\n",
       "│<span style=\"color: #7f7f7f; text-decoration-color: #7f7f7f\"> level. Only one student mentioned appreciating the analytical rigor and diversity of perspectives, and another  </span>│\n",
       "│<span style=\"color: #7f7f7f; text-decoration-color: #7f7f7f\"> expressed a desire for more detailed feedback on assignments. Overall, the feedback indicates a strong          </span>│\n",
       "│<span style=\"color: #7f7f7f; text-decoration-color: #7f7f7f\"> foundation but suggests enhancements in connecting theoretical content to real-world contexts and diversifying  </span>│\n",
       "│<span style=\"color: #7f7f7f; text-decoration-color: #7f7f7f\"> teaching methods to increase engagement.                                                                        </span>│\n",
       "└─────────────────────────────────────────────────────────────────────────────────────────────────────────────────┘\n",
       "</pre>\n"
      ],
      "text/plain": [
       "┏━━━━━━━━━━━━━━━━━━━━━━━━━━━━━━━━━━━━━━━━━━━━━━━━━━━━━━━━━━━━━━━━━━━━━━━━━━━━━━━━━━━━━━━━━━━━━━━━━━━━━━━━━━━━━━━━━┓\n",
       "┃\u001b[1;35m \u001b[0m\u001b[1;35manswer                                                                                                         \u001b[0m\u001b[1;35m \u001b[0m┃\n",
       "┃\u001b[1;35m \u001b[0m\u001b[1;35m.summary                                                                                                       \u001b[0m\u001b[1;35m \u001b[0m┃\n",
       "┡━━━━━━━━━━━━━━━━━━━━━━━━━━━━━━━━━━━━━━━━━━━━━━━━━━━━━━━━━━━━━━━━━━━━━━━━━━━━━━━━━━━━━━━━━━━━━━━━━━━━━━━━━━━━━━━━━┩\n",
       "│\u001b[2m \u001b[0m\u001b[2mThe student evaluations for the recent Econ 101 course highlight several key themes and areas for improvement. \u001b[0m\u001b[2m \u001b[0m│\n",
       "│\u001b[2m \u001b[0m\u001b[2mA notable number of students appreciated the well-organized course content and found the professor to be       \u001b[0m\u001b[2m \u001b[0m│\n",
       "│\u001b[2m \u001b[0m\u001b[2mhelpful and enthusiastic. However, there was a significant call for more real-world applications, with three   \u001b[0m\u001b[2m \u001b[0m│\n",
       "│\u001b[2m \u001b[0m\u001b[2mstudents specifically mentioning the need for current event examples and practical discussions. While the exams\u001b[0m\u001b[2m \u001b[0m│\n",
       "│\u001b[2m \u001b[0m\u001b[2mand assignments were generally seen as fair and engaging, there were concerns about the dryness of the material\u001b[0m\u001b[2m \u001b[0m│\n",
       "│\u001b[2m \u001b[0m\u001b[2mand the monotonous nature of the lectures. Suggestions for improvement included incorporating more visual aids,\u001b[0m\u001b[2m \u001b[0m│\n",
       "│\u001b[2m \u001b[0m\u001b[2mguest lectures, and varied assignments, as well as simplifying the textbook and readings for an introductory   \u001b[0m\u001b[2m \u001b[0m│\n",
       "│\u001b[2m \u001b[0m\u001b[2mlevel. Only one student mentioned appreciating the analytical rigor and diversity of perspectives, and another \u001b[0m\u001b[2m \u001b[0m│\n",
       "│\u001b[2m \u001b[0m\u001b[2mexpressed a desire for more detailed feedback on assignments. Overall, the feedback indicates a strong         \u001b[0m\u001b[2m \u001b[0m│\n",
       "│\u001b[2m \u001b[0m\u001b[2mfoundation but suggests enhancements in connecting theoretical content to real-world contexts and diversifying \u001b[0m\u001b[2m \u001b[0m│\n",
       "│\u001b[2m \u001b[0m\u001b[2mteaching methods to increase engagement.                                                                       \u001b[0m\u001b[2m \u001b[0m│\n",
       "└─────────────────────────────────────────────────────────────────────────────────────────────────────────────────┘\n"
      ]
     },
     "metadata": {},
     "output_type": "display_data"
    }
   ],
   "source": [
    "from edsl.questions import QuestionFreeText\n",
    "\n",
    "q_summary = QuestionFreeText(\n",
    "    question_name=\"summary\",\n",
    "    question_text=\"Consider the following analyses of the evaluations and draft a paragraph summarizing them.\"\n",
    "    + \"Evaluation counts by theme: \" + \n",
    "    wide_evaluation_themes.tally(\"theme\").print(format = \"markdown\", return_string = True)\n",
    "    + \"Evaluation counts by area of improvement:\"\n",
    "    + summary_string\n",
    ")\n",
    "\n",
    "summary = q_summary.by(agent).run()\n",
    "summary.select(\"summary\").print(format=\"rich\")"
   ]
  },
  {
   "cell_type": "markdown",
   "id": "f73ef4c2-8cff-4d4a-a081-77f12e3ca60f",
   "metadata": {},
   "source": [
    "## Other examples\n",
    "Please check out the [EDSL Docs](https://docs.expectedparrot.com/en/latest/index.html) for examples of other methods and templates for use cases, and [join our Discord channel](https://discord.com/invite/mxAYkjfy9m) to ask questions and with other users!"
   ]
  },
  {
   "cell_type": "markdown",
   "id": "8d004fb9-f637-408a-b1d6-2f8d46da1a7b",
   "metadata": {},
   "source": [
    "## Posting to the Coop\n",
    "The [Coop](https://www.expectedparrot.com/explore) is a platform for creating, storing and sharing LLM-based research.\n",
    "It is fully integrated with EDSL and accessible from your workspace or Coop account page.\n",
    "Learn more about [creating an account](https://www.expectedparrot.com/login) and [using the Coop](https://docs.expectedparrot.com/en/latest/coop.html).\n",
    "\n",
    "We can post any EDSL object to the Coop by calling the `push()` method on it, including this notebook:"
   ]
  },
  {
   "cell_type": "code",
   "execution_count": 34,
   "id": "1d55e46a-cd9b-4743-bf80-08cc81d18e55",
   "metadata": {
    "editable": true,
    "slideshow": {
     "slide_type": ""
    },
    "tags": [
     "skip-execution"
    ]
   },
   "outputs": [],
   "source": [
    "from edsl import Notebook"
   ]
  },
  {
   "cell_type": "code",
   "execution_count": 35,
   "id": "fdf35b32-a9b4-48b2-8650-2ac8b70f1559",
   "metadata": {
    "editable": true,
    "slideshow": {
     "slide_type": ""
    },
    "tags": [
     "skip-execution"
    ]
   },
   "outputs": [],
   "source": [
    "n = Notebook(path = \"analyze_evaluations.ipynb\")"
   ]
  },
  {
   "cell_type": "code",
   "execution_count": 36,
   "id": "32f42634-5054-4d79-82ed-fa32024626e5",
   "metadata": {
    "editable": true,
    "slideshow": {
     "slide_type": ""
    },
    "tags": [
     "skip-execution"
    ]
   },
   "outputs": [
    {
     "data": {
      "text/plain": [
       "{'description': 'Example code for analyzing course evaluations',\n",
       " 'object_type': 'notebook',\n",
       " 'url': 'https://www.expectedparrot.com/content/62786506-21c2-45cb-9a8e-6103002d314b',\n",
       " 'uuid': '62786506-21c2-45cb-9a8e-6103002d314b',\n",
       " 'version': '0.1.33.dev1',\n",
       " 'visibility': 'public'}"
      ]
     },
     "execution_count": 36,
     "metadata": {},
     "output_type": "execute_result"
    }
   ],
   "source": [
    "n.push(description = \"Example code for analyzing course evaluations\", visibility = \"public\")"
   ]
  },
  {
   "cell_type": "markdown",
   "id": "f227852c-2709-4496-b2d7-56e2ce133b3e",
   "metadata": {},
   "source": [
    "To update an object at the Coop:"
   ]
  },
  {
   "cell_type": "code",
   "execution_count": 37,
   "id": "6dc78f94-9cf7-426e-b449-0868ab61d54c",
   "metadata": {
    "editable": true,
    "slideshow": {
     "slide_type": ""
    },
    "tags": [
     "skip-execution"
    ]
   },
   "outputs": [],
   "source": [
    "n = Notebook(path = \"analyze_evaluations.ipynb\")"
   ]
  },
  {
   "cell_type": "code",
   "execution_count": 38,
   "id": "57c20585-d025-490d-9228-2799aadfae0a",
   "metadata": {
    "editable": true,
    "slideshow": {
     "slide_type": ""
    },
    "tags": [
     "skip-execution"
    ]
   },
   "outputs": [
    {
     "data": {
      "text/plain": [
       "{'status': 'success'}"
      ]
     },
     "execution_count": 38,
     "metadata": {},
     "output_type": "execute_result"
    }
   ],
   "source": [
    "n.patch(uuid = \"62786506-21c2-45cb-9a8e-6103002d314b\", value = n)"
   ]
  }
 ],
 "metadata": {
  "kernelspec": {
   "display_name": "Python 3 (ipykernel)",
   "language": "python",
   "name": "python3"
  },
  "language_info": {
   "codemirror_mode": {
    "name": "ipython",
    "version": 3
   },
   "file_extension": ".py",
   "mimetype": "text/x-python",
   "name": "python",
   "nbconvert_exporter": "python",
   "pygments_lexer": "ipython3",
   "version": "3.11.7"
  }
 },
 "nbformat": 4,
 "nbformat_minor": 5
}
