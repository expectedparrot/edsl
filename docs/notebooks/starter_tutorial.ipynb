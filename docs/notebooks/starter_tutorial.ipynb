{
 "cells": [
  {
   "cell_type": "markdown",
   "id": "c20e93c0-943f-46fb-8382-ca6f1eb48810",
   "metadata": {
    "editable": true,
    "slideshow": {
     "slide_type": ""
    },
    "tags": []
   },
   "source": [
    "# Starter Tutorial\n",
    "This tutorial provides example code for basic features of [EDSL, an open-source Python library](https://pypi.org/project/edsl/) for simulating surveys, experiments and other research using AI agents and large language models.\n",
    "\n",
    "In the steps below we show how to construct and run a simple question in EDSL, and then how to design more complex surveys with AI agents and different language models.\n",
    "We also demonstrate methods for applying logic and rules to surveys, piping answers and adding data to questions, and analyzing survey results as datasets.\n",
    "\n",
    "## Technical setup\n",
    "Before running the code below, please ensure that you have completed technical steps for using EDSL:\n",
    "\n",
    "* **Download the EDSL package.** See [installation](https://docs.expectedparrot.com/en/latest/installation.html) instructions and options.\n",
    "* *Optional:* **Create a Coop account.** [Coop](https://docs.expectedparrot.com/en/latest/coop.html) is a (free) platform for creating, storing and sharing LLM-based research using EDSL. [Creating an account](https://www.expectedparrot.com/login) allows you to easily share your EDSL surveys, results, notebooks and other work, and access special features.\n",
    "* **Choose how to manage API keys for language models.** Decide whether you want to [manage your own API keys](https://docs.expectedparrot.com/en/latest/api_keys.html) for language models or activate [remote inference](https://docs.expectedparrot.com/en/latest/remote_inference.html) to use your Expected Parrot API key to securely access all available models at once.\n",
    "\n",
    "If you encounter any issues or have questions, please email us at info@expectedparrot.com or post a question at our [Discord channel](https://discord.com/invite/mxAYkjfy9m)."
   ]
  },
  {
   "cell_type": "markdown",
   "id": "40633ca6-c73d-4ad4-aadb-82914e74f7d8",
   "metadata": {},
   "source": [
    "## Example: Running a simple question\n",
    "EDSL comes with a [variety of question types](https://docs.expectedparrot.com/en/latest/questions.html) that we can choose from based on the form of the response that we want to get back from a model.\n",
    "To see a list of all question types:"
   ]
  },
  {
   "cell_type": "code",
   "execution_count": 1,
   "id": "b6f61057-dc99-4952-bb43-ad8563118d72",
   "metadata": {},
   "outputs": [
    {
     "data": {
      "text/plain": [
       "['checkbox',\n",
       " 'extract',\n",
       " 'free_text',\n",
       " 'functional',\n",
       " 'likert_five',\n",
       " 'linear_scale',\n",
       " 'list',\n",
       " 'multiple_choice',\n",
       " 'numerical',\n",
       " 'rank',\n",
       " 'top_k',\n",
       " 'yes_no']"
      ]
     },
     "execution_count": 1,
     "metadata": {},
     "output_type": "execute_result"
    }
   ],
   "source": [
    "from edsl import Question\n",
    "\n",
    "Question.available()"
   ]
  },
  {
   "cell_type": "markdown",
   "id": "185af5d1-beba-40cd-8c29-2a212fcc4e5a",
   "metadata": {},
   "source": [
    "We can see the components of a particular question type by importing the question type class and calling the `example` method on it:"
   ]
  },
  {
   "cell_type": "code",
   "execution_count": 2,
   "id": "572f6614-de5b-44a1-a5fc-81eba360282f",
   "metadata": {},
   "outputs": [
    {
     "data": {
      "text/html": [
       "<div class=\"highlight\"><pre><span></span><span class=\"p\">{</span>\n",
       "<span class=\"w\">    </span><span class=\"nt\">&quot;question_name&quot;</span><span class=\"p\">:</span><span class=\"w\"> </span><span class=\"s2\">&quot;how_feeling&quot;</span><span class=\"p\">,</span>\n",
       "<span class=\"w\">    </span><span class=\"nt\">&quot;question_text&quot;</span><span class=\"p\">:</span><span class=\"w\"> </span><span class=\"s2\">&quot;How are you?&quot;</span><span class=\"p\">,</span>\n",
       "<span class=\"w\">    </span><span class=\"nt\">&quot;question_options&quot;</span><span class=\"p\">:</span><span class=\"w\"> </span><span class=\"p\">[</span>\n",
       "<span class=\"w\">        </span><span class=\"s2\">&quot;Good&quot;</span><span class=\"p\">,</span>\n",
       "<span class=\"w\">        </span><span class=\"s2\">&quot;Great&quot;</span><span class=\"p\">,</span>\n",
       "<span class=\"w\">        </span><span class=\"s2\">&quot;OK&quot;</span><span class=\"p\">,</span>\n",
       "<span class=\"w\">        </span><span class=\"s2\">&quot;Bad&quot;</span>\n",
       "<span class=\"w\">    </span><span class=\"p\">],</span>\n",
       "<span class=\"w\">    </span><span class=\"nt\">&quot;question_type&quot;</span><span class=\"p\">:</span><span class=\"w\"> </span><span class=\"s2\">&quot;multiple_choice&quot;</span>\n",
       "<span class=\"p\">}</span>\n",
       "</pre></div>\n"
      ],
      "text/plain": [
       "Question('multiple_choice', question_name = \"\"\"how_feeling\"\"\", question_text = \"\"\"How are you?\"\"\", question_options = ['Good', 'Great', 'OK', 'Bad'])"
      ]
     },
     "execution_count": 2,
     "metadata": {},
     "output_type": "execute_result"
    }
   ],
   "source": [
    "from edsl import (\n",
    "    # QuestionCheckBox,\n",
    "    # QuestionExtract,\n",
    "    # QuestionFreeText,\n",
    "    # QuestionFunctional,\n",
    "    # QuestionLikertFive,\n",
    "    # QuestionLinearScale,\n",
    "    # QuestionList,\n",
    "    QuestionMultipleChoice,\n",
    "    # QuestionNumerical,\n",
    "    # QuestionRank,\n",
    "    # QuestionTopK,\n",
    "    # QuestionYesNo\n",
    ")\n",
    "\n",
    "q = QuestionMultipleChoice.example() # substitute any question type class name\n",
    "q"
   ]
  },
  {
   "cell_type": "markdown",
   "id": "34704ae3-b643-4a6e-a721-b6208c19adda",
   "metadata": {},
   "source": [
    "Here we create a simple multiple choice question:"
   ]
  },
  {
   "cell_type": "code",
   "execution_count": 3,
   "id": "baa14cb3-d81f-47dc-96c8-90fba2a1460a",
   "metadata": {},
   "outputs": [],
   "source": [
    "from edsl import QuestionMultipleChoice\n",
    "\n",
    "q = QuestionMultipleChoice(\n",
    "    question_name = \"smallest_prime\",\n",
    "    question_text = \"Which is the smallest prime number?\",\n",
    "    question_options = [0, 1, 2, 3]\n",
    ")"
   ]
  },
  {
   "cell_type": "markdown",
   "id": "235fc4a0-0cd4-4930-92b9-e39734a70a2c",
   "metadata": {},
   "source": [
    "We can administer it to a language model by calling the `run` method:"
   ]
  },
  {
   "cell_type": "code",
   "execution_count": 4,
   "id": "b314a755-4209-4223-9b99-041ef2774871",
   "metadata": {},
   "outputs": [],
   "source": [
    "results = q.run()"
   ]
  },
  {
   "cell_type": "markdown",
   "id": "9c9e78cb-54f2-4227-b69c-c916b3222b8d",
   "metadata": {},
   "source": [
    "This generates a dataset of `Results` that we can readily access with [built-in methods for analysis](https://docs.expectedparrot.com/en/latest/results.html). \n",
    "Here we inspect the response, together with the model that was used and the model's \"comment\" about its response--a field that is automatically added to all question types other than free text:"
   ]
  },
  {
   "cell_type": "code",
   "execution_count": 5,
   "id": "cce12c20-180a-46ed-bc54-4305999eeeb0",
   "metadata": {},
   "outputs": [
    {
     "data": {
      "text/html": [
       "<pre style=\"white-space:pre;overflow-x:auto;line-height:normal;font-family:Menlo,'DejaVu Sans Mono',consolas,'Courier New',monospace\">┏━━━━━━━━┳━━━━━━━━━━━━━━━━━┳━━━━━━━━━━━━━━━━━━━━━━━━━━━━━━━━━━━━━━━━━━━━━━━━━━━━━━━━━━━━━━━━━━━━━━━━━━━━━━━━━━━━━━┓\n",
       "┃<span style=\"color: #800080; text-decoration-color: #800080; font-weight: bold\"> model  </span>┃<span style=\"color: #800080; text-decoration-color: #800080; font-weight: bold\"> answer          </span>┃<span style=\"color: #800080; text-decoration-color: #800080; font-weight: bold\"> comment                                                                              </span>┃\n",
       "┃<span style=\"color: #800080; text-decoration-color: #800080; font-weight: bold\"> .model </span>┃<span style=\"color: #800080; text-decoration-color: #800080; font-weight: bold\"> .smallest_prime </span>┃<span style=\"color: #800080; text-decoration-color: #800080; font-weight: bold\"> .smallest_prime_comment                                                              </span>┃\n",
       "┡━━━━━━━━╇━━━━━━━━━━━━━━━━━╇━━━━━━━━━━━━━━━━━━━━━━━━━━━━━━━━━━━━━━━━━━━━━━━━━━━━━━━━━━━━━━━━━━━━━━━━━━━━━━━━━━━━━━┩\n",
       "│<span style=\"color: #7f7f7f; text-decoration-color: #7f7f7f\"> gpt-4o </span>│<span style=\"color: #7f7f7f; text-decoration-color: #7f7f7f\"> 2               </span>│<span style=\"color: #7f7f7f; text-decoration-color: #7f7f7f\"> The smallest prime number is 2 because a prime number is defined as a natural number </span>│\n",
       "│<span style=\"color: #7f7f7f; text-decoration-color: #7f7f7f\">        </span>│<span style=\"color: #7f7f7f; text-decoration-color: #7f7f7f\">                 </span>│<span style=\"color: #7f7f7f; text-decoration-color: #7f7f7f\"> greater than 1 that has no positive divisors other than 1 and itself. 2 is the only  </span>│\n",
       "│<span style=\"color: #7f7f7f; text-decoration-color: #7f7f7f\">        </span>│<span style=\"color: #7f7f7f; text-decoration-color: #7f7f7f\">                 </span>│<span style=\"color: #7f7f7f; text-decoration-color: #7f7f7f\"> even prime number.                                                                   </span>│\n",
       "└────────┴─────────────────┴──────────────────────────────────────────────────────────────────────────────────────┘\n",
       "</pre>\n"
      ],
      "text/plain": [
       "┏━━━━━━━━┳━━━━━━━━━━━━━━━━━┳━━━━━━━━━━━━━━━━━━━━━━━━━━━━━━━━━━━━━━━━━━━━━━━━━━━━━━━━━━━━━━━━━━━━━━━━━━━━━━━━━━━━━━┓\n",
       "┃\u001b[1;35m \u001b[0m\u001b[1;35mmodel \u001b[0m\u001b[1;35m \u001b[0m┃\u001b[1;35m \u001b[0m\u001b[1;35manswer         \u001b[0m\u001b[1;35m \u001b[0m┃\u001b[1;35m \u001b[0m\u001b[1;35mcomment                                                                             \u001b[0m\u001b[1;35m \u001b[0m┃\n",
       "┃\u001b[1;35m \u001b[0m\u001b[1;35m.model\u001b[0m\u001b[1;35m \u001b[0m┃\u001b[1;35m \u001b[0m\u001b[1;35m.smallest_prime\u001b[0m\u001b[1;35m \u001b[0m┃\u001b[1;35m \u001b[0m\u001b[1;35m.smallest_prime_comment                                                             \u001b[0m\u001b[1;35m \u001b[0m┃\n",
       "┡━━━━━━━━╇━━━━━━━━━━━━━━━━━╇━━━━━━━━━━━━━━━━━━━━━━━━━━━━━━━━━━━━━━━━━━━━━━━━━━━━━━━━━━━━━━━━━━━━━━━━━━━━━━━━━━━━━━┩\n",
       "│\u001b[2m \u001b[0m\u001b[2mgpt-4o\u001b[0m\u001b[2m \u001b[0m│\u001b[2m \u001b[0m\u001b[2m2              \u001b[0m\u001b[2m \u001b[0m│\u001b[2m \u001b[0m\u001b[2mThe smallest prime number is 2 because a prime number is defined as a natural number\u001b[0m\u001b[2m \u001b[0m│\n",
       "│\u001b[2m        \u001b[0m│\u001b[2m                 \u001b[0m│\u001b[2m \u001b[0m\u001b[2mgreater than 1 that has no positive divisors other than 1 and itself. 2 is the only \u001b[0m\u001b[2m \u001b[0m│\n",
       "│\u001b[2m        \u001b[0m│\u001b[2m                 \u001b[0m│\u001b[2m \u001b[0m\u001b[2meven prime number.                                                                  \u001b[0m\u001b[2m \u001b[0m│\n",
       "└────────┴─────────────────┴──────────────────────────────────────────────────────────────────────────────────────┘\n"
      ]
     },
     "metadata": {},
     "output_type": "display_data"
    }
   ],
   "source": [
    "results.select(\"model\", \"smallest_prime\", \"smallest_prime_comment\").print(format=\"rich\")"
   ]
  },
  {
   "cell_type": "markdown",
   "id": "bbb61d06-ad9f-42c5-856b-2a6000989eb4",
   "metadata": {},
   "source": [
    "The `Results` also include information about the question, model parameters, prompts, generated tokens and raw responses. \n",
    "To see a list of all the components:"
   ]
  },
  {
   "cell_type": "code",
   "execution_count": 6,
   "id": "34340f65-9453-46a2-a0de-92e7c2d52a80",
   "metadata": {},
   "outputs": [
    {
     "data": {
      "text/plain": [
       "['agent.agent_instruction',\n",
       " 'agent.agent_name',\n",
       " 'answer.smallest_prime',\n",
       " 'comment.smallest_prime_comment',\n",
       " 'generated_tokens.smallest_prime_generated_tokens',\n",
       " 'iteration.iteration',\n",
       " 'model.frequency_penalty',\n",
       " 'model.logprobs',\n",
       " 'model.max_tokens',\n",
       " 'model.model',\n",
       " 'model.presence_penalty',\n",
       " 'model.temperature',\n",
       " 'model.top_logprobs',\n",
       " 'model.top_p',\n",
       " 'prompt.smallest_prime_system_prompt',\n",
       " 'prompt.smallest_prime_user_prompt',\n",
       " 'question_options.smallest_prime_question_options',\n",
       " 'question_text.smallest_prime_question_text',\n",
       " 'question_type.smallest_prime_question_type',\n",
       " 'raw_model_response.smallest_prime_cost',\n",
       " 'raw_model_response.smallest_prime_one_usd_buys',\n",
       " 'raw_model_response.smallest_prime_raw_model_response']"
      ]
     },
     "execution_count": 6,
     "metadata": {},
     "output_type": "execute_result"
    }
   ],
   "source": [
    "results.columns"
   ]
  },
  {
   "cell_type": "markdown",
   "id": "9cfe1860-7f6d-4b5e-932c-4f02a096d54f",
   "metadata": {},
   "source": [
    "## Example: Conducting a survey with agents and models\n",
    "In the next example we construct a more complex survey consisting of multiple questions, and design personas for AI agents to answer it.\n",
    "Then we select specific language models to generate the answers.\n",
    "\n",
    "We start by creating questions in different types and passing them to a `Survey`:"
   ]
  },
  {
   "cell_type": "code",
   "execution_count": 7,
   "id": "a3d7bec4-7f00-4007-af7b-86cd93b89e5f",
   "metadata": {
    "editable": true,
    "slideshow": {
     "slide_type": ""
    },
    "tags": []
   },
   "outputs": [],
   "source": [
    "from edsl import QuestionLinearScale, QuestionFreeText\n",
    "\n",
    "q_enjoy = QuestionLinearScale(\n",
    "    question_name = \"enjoy\",\n",
    "    question_text = \"On a scale from 1 to 5, how much do you enjoy reading?\",\n",
    "    question_options = [1, 2, 3, 4, 5],\n",
    "    option_labels = {1:\"Not at all\", 5:\"Very much\"}\n",
    ")\n",
    "\n",
    "q_favorite_place = QuestionFreeText(\n",
    "    question_name = \"favorite_place\",\n",
    "    question_text = \"Describe your favorite place for reading.\"\n",
    ")"
   ]
  },
  {
   "cell_type": "markdown",
   "id": "69ff6781-b491-4439-b84a-30bf50cdd47d",
   "metadata": {},
   "source": [
    "We construct a `Survey` by passing a list of questions:"
   ]
  },
  {
   "cell_type": "code",
   "execution_count": 8,
   "id": "3f1d6f80-1fab-4754-b4a6-f9599accfdeb",
   "metadata": {},
   "outputs": [],
   "source": [
    "from edsl import Survey\n",
    "\n",
    "survey = Survey(questions = [q_enjoy, q_favorite_place])"
   ]
  },
  {
   "cell_type": "markdown",
   "id": "01320feb-86ad-43ad-a6a0-b2b94482dff5",
   "metadata": {
    "editable": true,
    "slideshow": {
     "slide_type": ""
    },
    "tags": []
   },
   "source": [
    "### Agents\n",
    "An important feature of EDSL is the ability to create AI agents to answer questions.\n",
    "This is done by passing dictionaries of relevant \"traits\" to `Agent` objects that are used by language models to generate responses.\n",
    "Learn more about [designing agents](https://docs.expectedparrot.com/en/latest/agents.html).\n",
    "\n",
    "Here we construct several simple agent personas to use with our survey:"
   ]
  },
  {
   "cell_type": "code",
   "execution_count": 9,
   "id": "a8125cd8-f320-4dcd-8dd2-4a1a3fd5fd9a",
   "metadata": {},
   "outputs": [],
   "source": [
    "from edsl import AgentList, Agent\n",
    "\n",
    "agents = AgentList(\n",
    "    Agent(traits = {\"persona\":p}) for p in [\"artist\", \"mechanic\", \"sailor\"]\n",
    ")"
   ]
  },
  {
   "cell_type": "markdown",
   "id": "36c2db76-390e-4ac2-aef8-443ca07ababb",
   "metadata": {},
   "source": [
    "### Language models\n",
    "EDSL works with many popular large language models that we can select to use with a survey.\n",
    "This makes it easy to compare responses among models in the results that are generated.\n",
    "\n",
    "To see a current list of available models:"
   ]
  },
  {
   "cell_type": "code",
   "execution_count": 10,
   "id": "a55a4dd2-a7b7-4156-9c51-140ed7de15db",
   "metadata": {},
   "outputs": [],
   "source": [
    "from edsl import Model\n",
    "\n",
    "# Model.available() # uncomment this code and run it to see the full list of currently available models"
   ]
  },
  {
   "cell_type": "markdown",
   "id": "08673ee4-bf36-4277-88ca-820b8bd4ef69",
   "metadata": {},
   "source": [
    "To check the default model that will be used if no models are specified for a survey (e.g., as in the first example above):"
   ]
  },
  {
   "cell_type": "code",
   "execution_count": 11,
   "id": "800defdb-8d50-4dfe-ab01-f2e2ea8c02bf",
   "metadata": {},
   "outputs": [
    {
     "data": {
      "text/html": [
       "<div class=\"highlight\"><pre><span></span><span class=\"p\">{</span>\n",
       "<span class=\"w\">    </span><span class=\"nt\">&quot;model&quot;</span><span class=\"p\">:</span><span class=\"w\"> </span><span class=\"s2\">&quot;gpt-4o&quot;</span><span class=\"p\">,</span>\n",
       "<span class=\"w\">    </span><span class=\"nt\">&quot;parameters&quot;</span><span class=\"p\">:</span><span class=\"w\"> </span><span class=\"p\">{</span>\n",
       "<span class=\"w\">        </span><span class=\"nt\">&quot;temperature&quot;</span><span class=\"p\">:</span><span class=\"w\"> </span><span class=\"mf\">0.5</span><span class=\"p\">,</span>\n",
       "<span class=\"w\">        </span><span class=\"nt\">&quot;max_tokens&quot;</span><span class=\"p\">:</span><span class=\"w\"> </span><span class=\"mi\">1000</span><span class=\"p\">,</span>\n",
       "<span class=\"w\">        </span><span class=\"nt\">&quot;top_p&quot;</span><span class=\"p\">:</span><span class=\"w\"> </span><span class=\"mi\">1</span><span class=\"p\">,</span>\n",
       "<span class=\"w\">        </span><span class=\"nt\">&quot;frequency_penalty&quot;</span><span class=\"p\">:</span><span class=\"w\"> </span><span class=\"mi\">0</span><span class=\"p\">,</span>\n",
       "<span class=\"w\">        </span><span class=\"nt\">&quot;presence_penalty&quot;</span><span class=\"p\">:</span><span class=\"w\"> </span><span class=\"mi\">0</span><span class=\"p\">,</span>\n",
       "<span class=\"w\">        </span><span class=\"nt\">&quot;logprobs&quot;</span><span class=\"p\">:</span><span class=\"w\"> </span><span class=\"kc\">false</span><span class=\"p\">,</span>\n",
       "<span class=\"w\">        </span><span class=\"nt\">&quot;top_logprobs&quot;</span><span class=\"p\">:</span><span class=\"w\"> </span><span class=\"mi\">3</span>\n",
       "<span class=\"w\">    </span><span class=\"p\">}</span>\n",
       "<span class=\"p\">}</span>\n",
       "</pre></div>\n"
      ],
      "text/plain": [
       "Model(model_name = 'gpt-4o', temperature = 0.5, max_tokens = 1000, top_p = 1, frequency_penalty = 0, presence_penalty = 0, logprobs = False, top_logprobs = 3)"
      ]
     },
     "execution_count": 11,
     "metadata": {},
     "output_type": "execute_result"
    }
   ],
   "source": [
    "Model()"
   ]
  },
  {
   "cell_type": "markdown",
   "id": "d2746b46-e526-45c0-a67d-cea66f19545d",
   "metadata": {},
   "source": [
    "(Note that the output may be different if the default model has changed since this page was last updated.)\n",
    "\n",
    "Here we select some models to use with our survey:"
   ]
  },
  {
   "cell_type": "code",
   "execution_count": 12,
   "id": "d64a20a2-3bd5-4db1-a469-711d222b3b4e",
   "metadata": {},
   "outputs": [],
   "source": [
    "from edsl import ModelList, Model\n",
    "\n",
    "models = ModelList(\n",
    "    Model(m) for m in [\"gpt-4o\", \"gemini-pro\"]\n",
    ")"
   ]
  },
  {
   "cell_type": "markdown",
   "id": "b55a23f1-405c-4554-b739-b64591566f0c",
   "metadata": {},
   "source": [
    "### Running a survey\n",
    "We add agents and models to a survey using the `by` method.\n",
    "Then we administer a survey the same way that we do an individual question, by calling the `run` method on it:"
   ]
  },
  {
   "cell_type": "code",
   "execution_count": 13,
   "id": "da64a02c-b17e-4067-92b1-3ab330f9f214",
   "metadata": {},
   "outputs": [],
   "source": [
    "results = survey.by(agents).by(models).run()"
   ]
  },
  {
   "cell_type": "code",
   "execution_count": 14,
   "id": "4dd3b76e-2c9a-4129-8927-f27f50dea1e0",
   "metadata": {},
   "outputs": [
    {
     "data": {
      "text/html": [
       "<pre style=\"white-space:pre;overflow-x:auto;line-height:normal;font-family:Menlo,'DejaVu Sans Mono',consolas,'Courier New',monospace\">┏━━━━━━━━━━━━┳━━━━━━━━━━┳━━━━━━━━┳━━━━━━━━━━━━━━━━━━━━━━━━━━━━━━━━━━━━━━━━━━━━━━━━━━━━━━━━━━━━━━━━━━━━━━━━━━━━━━━━┓\n",
       "┃<span style=\"color: #800080; text-decoration-color: #800080; font-weight: bold\"> model      </span>┃<span style=\"color: #800080; text-decoration-color: #800080; font-weight: bold\"> agent    </span>┃<span style=\"color: #800080; text-decoration-color: #800080; font-weight: bold\"> answer </span>┃<span style=\"color: #800080; text-decoration-color: #800080; font-weight: bold\"> answer                                                                         </span>┃\n",
       "┃<span style=\"color: #800080; text-decoration-color: #800080; font-weight: bold\"> .model     </span>┃<span style=\"color: #800080; text-decoration-color: #800080; font-weight: bold\"> .persona </span>┃<span style=\"color: #800080; text-decoration-color: #800080; font-weight: bold\"> .enjoy </span>┃<span style=\"color: #800080; text-decoration-color: #800080; font-weight: bold\"> .favorite_place                                                                </span>┃\n",
       "┡━━━━━━━━━━━━╇━━━━━━━━━━╇━━━━━━━━╇━━━━━━━━━━━━━━━━━━━━━━━━━━━━━━━━━━━━━━━━━━━━━━━━━━━━━━━━━━━━━━━━━━━━━━━━━━━━━━━━┩\n",
       "│<span style=\"color: #7f7f7f; text-decoration-color: #7f7f7f\"> gemini-pro </span>│<span style=\"color: #7f7f7f; text-decoration-color: #7f7f7f\"> artist   </span>│<span style=\"color: #7f7f7f; text-decoration-color: #7f7f7f\"> 5      </span>│<span style=\"color: #7f7f7f; text-decoration-color: #7f7f7f\"> In the realm of my creative sanctuary, where colors dance and inspiration      </span>│\n",
       "│<span style=\"color: #7f7f7f; text-decoration-color: #7f7f7f\">            </span>│<span style=\"color: #7f7f7f; text-decoration-color: #7f7f7f\">          </span>│<span style=\"color: #7f7f7f; text-decoration-color: #7f7f7f\">        </span>│<span style=\"color: #7f7f7f; text-decoration-color: #7f7f7f\"> flows, my favorite place for reading is a secluded corner of my bohemian       </span>│\n",
       "│<span style=\"color: #7f7f7f; text-decoration-color: #7f7f7f\">            </span>│<span style=\"color: #7f7f7f; text-decoration-color: #7f7f7f\">          </span>│<span style=\"color: #7f7f7f; text-decoration-color: #7f7f7f\">        </span>│<span style=\"color: #7f7f7f; text-decoration-color: #7f7f7f\"> studio.                                                                        </span>│\n",
       "│<span style=\"color: #7f7f7f; text-decoration-color: #7f7f7f\">            </span>│<span style=\"color: #7f7f7f; text-decoration-color: #7f7f7f\">          </span>│<span style=\"color: #7f7f7f; text-decoration-color: #7f7f7f\">        </span>│<span style=\"color: #7f7f7f; text-decoration-color: #7f7f7f\">                                                                                </span>│\n",
       "│<span style=\"color: #7f7f7f; text-decoration-color: #7f7f7f\">            </span>│<span style=\"color: #7f7f7f; text-decoration-color: #7f7f7f\">          </span>│<span style=\"color: #7f7f7f; text-decoration-color: #7f7f7f\">        </span>│<span style=\"color: #7f7f7f; text-decoration-color: #7f7f7f\"> Amidst the canvases, paintbrushes, and the gentle hum of classical music, I    </span>│\n",
       "│<span style=\"color: #7f7f7f; text-decoration-color: #7f7f7f\">            </span>│<span style=\"color: #7f7f7f; text-decoration-color: #7f7f7f\">          </span>│<span style=\"color: #7f7f7f; text-decoration-color: #7f7f7f\">        </span>│<span style=\"color: #7f7f7f; text-decoration-color: #7f7f7f\"> find solace in a cozy armchair draped in vibrant fabrics. The walls are        </span>│\n",
       "│<span style=\"color: #7f7f7f; text-decoration-color: #7f7f7f\">            </span>│<span style=\"color: #7f7f7f; text-decoration-color: #7f7f7f\">          </span>│<span style=\"color: #7f7f7f; text-decoration-color: #7f7f7f\">        </span>│<span style=\"color: #7f7f7f; text-decoration-color: #7f7f7f\"> adorned with abstract prints and sketches, each a testament to my artistic     </span>│\n",
       "│<span style=\"color: #7f7f7f; text-decoration-color: #7f7f7f\">            </span>│<span style=\"color: #7f7f7f; text-decoration-color: #7f7f7f\">          </span>│<span style=\"color: #7f7f7f; text-decoration-color: #7f7f7f\">        </span>│<span style=\"color: #7f7f7f; text-decoration-color: #7f7f7f\"> journey.                                                                       </span>│\n",
       "│<span style=\"color: #7f7f7f; text-decoration-color: #7f7f7f\">            </span>│<span style=\"color: #7f7f7f; text-decoration-color: #7f7f7f\">          </span>│<span style=\"color: #7f7f7f; text-decoration-color: #7f7f7f\">        </span>│<span style=\"color: #7f7f7f; text-decoration-color: #7f7f7f\">                                                                                </span>│\n",
       "│<span style=\"color: #7f7f7f; text-decoration-color: #7f7f7f\">            </span>│<span style=\"color: #7f7f7f; text-decoration-color: #7f7f7f\">          </span>│<span style=\"color: #7f7f7f; text-decoration-color: #7f7f7f\">        </span>│<span style=\"color: #7f7f7f; text-decoration-color: #7f7f7f\"> The soft glow of natural light filters through the skylight, casting a warm    </span>│\n",
       "│<span style=\"color: #7f7f7f; text-decoration-color: #7f7f7f\">            </span>│<span style=\"color: #7f7f7f; text-decoration-color: #7f7f7f\">          </span>│<span style=\"color: #7f7f7f; text-decoration-color: #7f7f7f\">        </span>│<span style=\"color: #7f7f7f; text-decoration-color: #7f7f7f\"> ambiance upon the pages. With a steaming cup of freshly brewed coffee in hand, </span>│\n",
       "│<span style=\"color: #7f7f7f; text-decoration-color: #7f7f7f\">            </span>│<span style=\"color: #7f7f7f; text-decoration-color: #7f7f7f\">          </span>│<span style=\"color: #7f7f7f; text-decoration-color: #7f7f7f\">        </span>│<span style=\"color: #7f7f7f; text-decoration-color: #7f7f7f\"> I lose myself in the written words. The scent of paint and turpentine mingles  </span>│\n",
       "│<span style=\"color: #7f7f7f; text-decoration-color: #7f7f7f\">            </span>│<span style=\"color: #7f7f7f; text-decoration-color: #7f7f7f\">          </span>│<span style=\"color: #7f7f7f; text-decoration-color: #7f7f7f\">        </span>│<span style=\"color: #7f7f7f; text-decoration-color: #7f7f7f\"> with the aroma of the coffee, creating a symphony of sensory delights.         </span>│\n",
       "│<span style=\"color: #7f7f7f; text-decoration-color: #7f7f7f\">            </span>│<span style=\"color: #7f7f7f; text-decoration-color: #7f7f7f\">          </span>│<span style=\"color: #7f7f7f; text-decoration-color: #7f7f7f\">        </span>│<span style=\"color: #7f7f7f; text-decoration-color: #7f7f7f\">                                                                                </span>│\n",
       "│<span style=\"color: #7f7f7f; text-decoration-color: #7f7f7f\">            </span>│<span style=\"color: #7f7f7f; text-decoration-color: #7f7f7f\">          </span>│<span style=\"color: #7f7f7f; text-decoration-color: #7f7f7f\">        </span>│<span style=\"color: #7f7f7f; text-decoration-color: #7f7f7f\"> In this intimate space, I am surrounded by the fruits of my creativity and the </span>│\n",
       "│<span style=\"color: #7f7f7f; text-decoration-color: #7f7f7f\">            </span>│<span style=\"color: #7f7f7f; text-decoration-color: #7f7f7f\">          </span>│<span style=\"color: #7f7f7f; text-decoration-color: #7f7f7f\">        </span>│<span style=\"color: #7f7f7f; text-decoration-color: #7f7f7f\"> muses that inspire me. The books I read become a kaleidoscope of ideas,        </span>│\n",
       "│<span style=\"color: #7f7f7f; text-decoration-color: #7f7f7f\">            </span>│<span style=\"color: #7f7f7f; text-decoration-color: #7f7f7f\">          </span>│<span style=\"color: #7f7f7f; text-decoration-color: #7f7f7f\">        </span>│<span style=\"color: #7f7f7f; text-decoration-color: #7f7f7f\"> colors, and emotions that ignite my imagination and fuel my artistic           </span>│\n",
       "│<span style=\"color: #7f7f7f; text-decoration-color: #7f7f7f\">            </span>│<span style=\"color: #7f7f7f; text-decoration-color: #7f7f7f\">          </span>│<span style=\"color: #7f7f7f; text-decoration-color: #7f7f7f\">        </span>│<span style=\"color: #7f7f7f; text-decoration-color: #7f7f7f\"> endeavors.                                                                     </span>│\n",
       "├────────────┼──────────┼────────┼────────────────────────────────────────────────────────────────────────────────┤\n",
       "│<span style=\"color: #7f7f7f; text-decoration-color: #7f7f7f\"> gpt-4o     </span>│<span style=\"color: #7f7f7f; text-decoration-color: #7f7f7f\"> artist   </span>│<span style=\"color: #7f7f7f; text-decoration-color: #7f7f7f\"> 4      </span>│<span style=\"color: #7f7f7f; text-decoration-color: #7f7f7f\"> My favorite place for reading is a cozy nook in my studio, where the sunlight  </span>│\n",
       "│<span style=\"color: #7f7f7f; text-decoration-color: #7f7f7f\">            </span>│<span style=\"color: #7f7f7f; text-decoration-color: #7f7f7f\">          </span>│<span style=\"color: #7f7f7f; text-decoration-color: #7f7f7f\">        </span>│<span style=\"color: #7f7f7f; text-decoration-color: #7f7f7f\"> streams through large windows, casting a warm glow on everything. There’s a    </span>│\n",
       "│<span style=\"color: #7f7f7f; text-decoration-color: #7f7f7f\">            </span>│<span style=\"color: #7f7f7f; text-decoration-color: #7f7f7f\">          </span>│<span style=\"color: #7f7f7f; text-decoration-color: #7f7f7f\">        </span>│<span style=\"color: #7f7f7f; text-decoration-color: #7f7f7f\"> plush armchair draped with a soft, colorful throw, and a small wooden table    </span>│\n",
       "│<span style=\"color: #7f7f7f; text-decoration-color: #7f7f7f\">            </span>│<span style=\"color: #7f7f7f; text-decoration-color: #7f7f7f\">          </span>│<span style=\"color: #7f7f7f; text-decoration-color: #7f7f7f\">        </span>│<span style=\"color: #7f7f7f; text-decoration-color: #7f7f7f\"> beside it that holds a steaming cup of tea and a stack of books. The walls are </span>│\n",
       "│<span style=\"color: #7f7f7f; text-decoration-color: #7f7f7f\">            </span>│<span style=\"color: #7f7f7f; text-decoration-color: #7f7f7f\">          </span>│<span style=\"color: #7f7f7f; text-decoration-color: #7f7f7f\">        </span>│<span style=\"color: #7f7f7f; text-decoration-color: #7f7f7f\"> adorned with my artwork, creating an inspiring atmosphere. The gentle hum of   </span>│\n",
       "│<span style=\"color: #7f7f7f; text-decoration-color: #7f7f7f\">            </span>│<span style=\"color: #7f7f7f; text-decoration-color: #7f7f7f\">          </span>│<span style=\"color: #7f7f7f; text-decoration-color: #7f7f7f\">        </span>│<span style=\"color: #7f7f7f; text-decoration-color: #7f7f7f\"> classical music in the background adds to the serene ambiance, making it the   </span>│\n",
       "│<span style=\"color: #7f7f7f; text-decoration-color: #7f7f7f\">            </span>│<span style=\"color: #7f7f7f; text-decoration-color: #7f7f7f\">          </span>│<span style=\"color: #7f7f7f; text-decoration-color: #7f7f7f\">        </span>│<span style=\"color: #7f7f7f; text-decoration-color: #7f7f7f\"> perfect spot to lose myself in a good book.                                    </span>│\n",
       "├────────────┼──────────┼────────┼────────────────────────────────────────────────────────────────────────────────┤\n",
       "│<span style=\"color: #7f7f7f; text-decoration-color: #7f7f7f\"> gemini-pro </span>│<span style=\"color: #7f7f7f; text-decoration-color: #7f7f7f\"> mechanic </span>│<span style=\"color: #7f7f7f; text-decoration-color: #7f7f7f\"> 4      </span>│<span style=\"color: #7f7f7f; text-decoration-color: #7f7f7f\"> Well, I'm more of a hands-on kind of guy, but when I do get some time to crack </span>│\n",
       "│<span style=\"color: #7f7f7f; text-decoration-color: #7f7f7f\">            </span>│<span style=\"color: #7f7f7f; text-decoration-color: #7f7f7f\">          </span>│<span style=\"color: #7f7f7f; text-decoration-color: #7f7f7f\">        </span>│<span style=\"color: #7f7f7f; text-decoration-color: #7f7f7f\"> open a book, there's no place I'd rather be than in my garage. The smell of    </span>│\n",
       "│<span style=\"color: #7f7f7f; text-decoration-color: #7f7f7f\">            </span>│<span style=\"color: #7f7f7f; text-decoration-color: #7f7f7f\">          </span>│<span style=\"color: #7f7f7f; text-decoration-color: #7f7f7f\">        </span>│<span style=\"color: #7f7f7f; text-decoration-color: #7f7f7f\"> oil and grease might not be everyone's cup of tea, but it's like a warm        </span>│\n",
       "│<span style=\"color: #7f7f7f; text-decoration-color: #7f7f7f\">            </span>│<span style=\"color: #7f7f7f; text-decoration-color: #7f7f7f\">          </span>│<span style=\"color: #7f7f7f; text-decoration-color: #7f7f7f\">        </span>│<span style=\"color: #7f7f7f; text-decoration-color: #7f7f7f\"> blanket to me.                                                                 </span>│\n",
       "│<span style=\"color: #7f7f7f; text-decoration-color: #7f7f7f\">            </span>│<span style=\"color: #7f7f7f; text-decoration-color: #7f7f7f\">          </span>│<span style=\"color: #7f7f7f; text-decoration-color: #7f7f7f\">        </span>│<span style=\"color: #7f7f7f; text-decoration-color: #7f7f7f\">                                                                                </span>│\n",
       "│<span style=\"color: #7f7f7f; text-decoration-color: #7f7f7f\">            </span>│<span style=\"color: #7f7f7f; text-decoration-color: #7f7f7f\">          </span>│<span style=\"color: #7f7f7f; text-decoration-color: #7f7f7f\">        </span>│<span style=\"color: #7f7f7f; text-decoration-color: #7f7f7f\"> I've got a comfy old recliner set up in the corner, right next to the window.  </span>│\n",
       "│<span style=\"color: #7f7f7f; text-decoration-color: #7f7f7f\">            </span>│<span style=\"color: #7f7f7f; text-decoration-color: #7f7f7f\">          </span>│<span style=\"color: #7f7f7f; text-decoration-color: #7f7f7f\">        </span>│<span style=\"color: #7f7f7f; text-decoration-color: #7f7f7f\"> I can prop my feet up on the toolbox and just get lost in a good story. The    </span>│\n",
       "│<span style=\"color: #7f7f7f; text-decoration-color: #7f7f7f\">            </span>│<span style=\"color: #7f7f7f; text-decoration-color: #7f7f7f\">          </span>│<span style=\"color: #7f7f7f; text-decoration-color: #7f7f7f\">        </span>│<span style=\"color: #7f7f7f; text-decoration-color: #7f7f7f\"> natural light is perfect for reading, and the gentle hum of the machinery in   </span>│\n",
       "│<span style=\"color: #7f7f7f; text-decoration-color: #7f7f7f\">            </span>│<span style=\"color: #7f7f7f; text-decoration-color: #7f7f7f\">          </span>│<span style=\"color: #7f7f7f; text-decoration-color: #7f7f7f\">        </span>│<span style=\"color: #7f7f7f; text-decoration-color: #7f7f7f\"> the background creates a soothing ambiance.                                    </span>│\n",
       "├────────────┼──────────┼────────┼────────────────────────────────────────────────────────────────────────────────┤\n",
       "│<span style=\"color: #7f7f7f; text-decoration-color: #7f7f7f\"> gpt-4o     </span>│<span style=\"color: #7f7f7f; text-decoration-color: #7f7f7f\"> mechanic </span>│<span style=\"color: #7f7f7f; text-decoration-color: #7f7f7f\"> 3      </span>│<span style=\"color: #7f7f7f; text-decoration-color: #7f7f7f\"> My favorite place for reading is actually in my garage. I know it might sound  </span>│\n",
       "│<span style=\"color: #7f7f7f; text-decoration-color: #7f7f7f\">            </span>│<span style=\"color: #7f7f7f; text-decoration-color: #7f7f7f\">          </span>│<span style=\"color: #7f7f7f; text-decoration-color: #7f7f7f\">        </span>│<span style=\"color: #7f7f7f; text-decoration-color: #7f7f7f\"> a bit unconventional, but there's something about the smell of motor oil and   </span>│\n",
       "│<span style=\"color: #7f7f7f; text-decoration-color: #7f7f7f\">            </span>│<span style=\"color: #7f7f7f; text-decoration-color: #7f7f7f\">          </span>│<span style=\"color: #7f7f7f; text-decoration-color: #7f7f7f\">        </span>│<span style=\"color: #7f7f7f; text-decoration-color: #7f7f7f\"> the quiet hum of tools that makes it the perfect spot for me. I've got a cozy  </span>│\n",
       "│<span style=\"color: #7f7f7f; text-decoration-color: #7f7f7f\">            </span>│<span style=\"color: #7f7f7f; text-decoration-color: #7f7f7f\">          </span>│<span style=\"color: #7f7f7f; text-decoration-color: #7f7f7f\">        </span>│<span style=\"color: #7f7f7f; text-decoration-color: #7f7f7f\"> corner set up with an old recliner and a good lamp. When I'm not working on    </span>│\n",
       "│<span style=\"color: #7f7f7f; text-decoration-color: #7f7f7f\">            </span>│<span style=\"color: #7f7f7f; text-decoration-color: #7f7f7f\">          </span>│<span style=\"color: #7f7f7f; text-decoration-color: #7f7f7f\">        </span>│<span style=\"color: #7f7f7f; text-decoration-color: #7f7f7f\"> cars, I like to unwind there with a good book. The peace and quiet of the      </span>│\n",
       "│<span style=\"color: #7f7f7f; text-decoration-color: #7f7f7f\">            </span>│<span style=\"color: #7f7f7f; text-decoration-color: #7f7f7f\">          </span>│<span style=\"color: #7f7f7f; text-decoration-color: #7f7f7f\">        </span>│<span style=\"color: #7f7f7f; text-decoration-color: #7f7f7f\"> garage, combined with the familiar surroundings, really helps me focus and     </span>│\n",
       "│<span style=\"color: #7f7f7f; text-decoration-color: #7f7f7f\">            </span>│<span style=\"color: #7f7f7f; text-decoration-color: #7f7f7f\">          </span>│<span style=\"color: #7f7f7f; text-decoration-color: #7f7f7f\">        </span>│<span style=\"color: #7f7f7f; text-decoration-color: #7f7f7f\"> enjoy my reading time.                                                         </span>│\n",
       "├────────────┼──────────┼────────┼────────────────────────────────────────────────────────────────────────────────┤\n",
       "│<span style=\"color: #7f7f7f; text-decoration-color: #7f7f7f\"> gemini-pro </span>│<span style=\"color: #7f7f7f; text-decoration-color: #7f7f7f\"> sailor   </span>│<span style=\"color: #7f7f7f; text-decoration-color: #7f7f7f\"> 5      </span>│<span style=\"color: #7f7f7f; text-decoration-color: #7f7f7f\"> Ahoy there, matey! My favorite place for reading is on the deck of me ship,    </span>│\n",
       "│<span style=\"color: #7f7f7f; text-decoration-color: #7f7f7f\">            </span>│<span style=\"color: #7f7f7f; text-decoration-color: #7f7f7f\">          </span>│<span style=\"color: #7f7f7f; text-decoration-color: #7f7f7f\">        </span>│<span style=\"color: #7f7f7f; text-decoration-color: #7f7f7f\"> with the wind in me hair and the sound of the waves crashing against the hull. </span>│\n",
       "│<span style=\"color: #7f7f7f; text-decoration-color: #7f7f7f\">            </span>│<span style=\"color: #7f7f7f; text-decoration-color: #7f7f7f\">          </span>│<span style=\"color: #7f7f7f; text-decoration-color: #7f7f7f\">        </span>│<span style=\"color: #7f7f7f; text-decoration-color: #7f7f7f\"> There's nothing like a good book to help me escape the perils of the high seas </span>│\n",
       "│<span style=\"color: #7f7f7f; text-decoration-color: #7f7f7f\">            </span>│<span style=\"color: #7f7f7f; text-decoration-color: #7f7f7f\">          </span>│<span style=\"color: #7f7f7f; text-decoration-color: #7f7f7f\">        </span>│<span style=\"color: #7f7f7f; text-decoration-color: #7f7f7f\"> and dream of far-off lands.                                                    </span>│\n",
       "├────────────┼──────────┼────────┼────────────────────────────────────────────────────────────────────────────────┤\n",
       "│<span style=\"color: #7f7f7f; text-decoration-color: #7f7f7f\"> gpt-4o     </span>│<span style=\"color: #7f7f7f; text-decoration-color: #7f7f7f\"> sailor   </span>│<span style=\"color: #7f7f7f; text-decoration-color: #7f7f7f\"> 4      </span>│<span style=\"color: #7f7f7f; text-decoration-color: #7f7f7f\"> Ah, matey, my favorite place for reading be the deck of me ship, just as the   </span>│\n",
       "│<span style=\"color: #7f7f7f; text-decoration-color: #7f7f7f\">            </span>│<span style=\"color: #7f7f7f; text-decoration-color: #7f7f7f\">          </span>│<span style=\"color: #7f7f7f; text-decoration-color: #7f7f7f\">        </span>│<span style=\"color: #7f7f7f; text-decoration-color: #7f7f7f\"> sun be setting on the horizon. There’s a gentle sway to the vessel, and the    </span>│\n",
       "│<span style=\"color: #7f7f7f; text-decoration-color: #7f7f7f\">            </span>│<span style=\"color: #7f7f7f; text-decoration-color: #7f7f7f\">          </span>│<span style=\"color: #7f7f7f; text-decoration-color: #7f7f7f\">        </span>│<span style=\"color: #7f7f7f; text-decoration-color: #7f7f7f\"> salty sea breeze carries the scent of adventure. I settle into a sturdy wooden </span>│\n",
       "│<span style=\"color: #7f7f7f; text-decoration-color: #7f7f7f\">            </span>│<span style=\"color: #7f7f7f; text-decoration-color: #7f7f7f\">          </span>│<span style=\"color: #7f7f7f; text-decoration-color: #7f7f7f\">        </span>│<span style=\"color: #7f7f7f; text-decoration-color: #7f7f7f\"> chair, the creak of the timbers beneath me a familiar comfort. The sound of    </span>│\n",
       "│<span style=\"color: #7f7f7f; text-decoration-color: #7f7f7f\">            </span>│<span style=\"color: #7f7f7f; text-decoration-color: #7f7f7f\">          </span>│<span style=\"color: #7f7f7f; text-decoration-color: #7f7f7f\">        </span>│<span style=\"color: #7f7f7f; text-decoration-color: #7f7f7f\"> the waves lapping against the hull and the distant call of seabirds be the     </span>│\n",
       "│<span style=\"color: #7f7f7f; text-decoration-color: #7f7f7f\">            </span>│<span style=\"color: #7f7f7f; text-decoration-color: #7f7f7f\">          </span>│<span style=\"color: #7f7f7f; text-decoration-color: #7f7f7f\">        </span>│<span style=\"color: #7f7f7f; text-decoration-color: #7f7f7f\"> perfect background music. With a lantern casting a warm, golden glow over the  </span>│\n",
       "│<span style=\"color: #7f7f7f; text-decoration-color: #7f7f7f\">            </span>│<span style=\"color: #7f7f7f; text-decoration-color: #7f7f7f\">          </span>│<span style=\"color: #7f7f7f; text-decoration-color: #7f7f7f\">        </span>│<span style=\"color: #7f7f7f; text-decoration-color: #7f7f7f\"> pages, I lose meself in tales of distant lands and daring escapades. ‘Tis a    </span>│\n",
       "│<span style=\"color: #7f7f7f; text-decoration-color: #7f7f7f\">            </span>│<span style=\"color: #7f7f7f; text-decoration-color: #7f7f7f\">          </span>│<span style=\"color: #7f7f7f; text-decoration-color: #7f7f7f\">        </span>│<span style=\"color: #7f7f7f; text-decoration-color: #7f7f7f\"> place where the sea and stories become one, and I feel truly at home.          </span>│\n",
       "└────────────┴──────────┴────────┴────────────────────────────────────────────────────────────────────────────────┘\n",
       "</pre>\n"
      ],
      "text/plain": [
       "┏━━━━━━━━━━━━┳━━━━━━━━━━┳━━━━━━━━┳━━━━━━━━━━━━━━━━━━━━━━━━━━━━━━━━━━━━━━━━━━━━━━━━━━━━━━━━━━━━━━━━━━━━━━━━━━━━━━━━┓\n",
       "┃\u001b[1;35m \u001b[0m\u001b[1;35mmodel     \u001b[0m\u001b[1;35m \u001b[0m┃\u001b[1;35m \u001b[0m\u001b[1;35magent   \u001b[0m\u001b[1;35m \u001b[0m┃\u001b[1;35m \u001b[0m\u001b[1;35manswer\u001b[0m\u001b[1;35m \u001b[0m┃\u001b[1;35m \u001b[0m\u001b[1;35manswer                                                                        \u001b[0m\u001b[1;35m \u001b[0m┃\n",
       "┃\u001b[1;35m \u001b[0m\u001b[1;35m.model    \u001b[0m\u001b[1;35m \u001b[0m┃\u001b[1;35m \u001b[0m\u001b[1;35m.persona\u001b[0m\u001b[1;35m \u001b[0m┃\u001b[1;35m \u001b[0m\u001b[1;35m.enjoy\u001b[0m\u001b[1;35m \u001b[0m┃\u001b[1;35m \u001b[0m\u001b[1;35m.favorite_place                                                               \u001b[0m\u001b[1;35m \u001b[0m┃\n",
       "┡━━━━━━━━━━━━╇━━━━━━━━━━╇━━━━━━━━╇━━━━━━━━━━━━━━━━━━━━━━━━━━━━━━━━━━━━━━━━━━━━━━━━━━━━━━━━━━━━━━━━━━━━━━━━━━━━━━━━┩\n",
       "│\u001b[2m \u001b[0m\u001b[2mgemini-pro\u001b[0m\u001b[2m \u001b[0m│\u001b[2m \u001b[0m\u001b[2martist  \u001b[0m\u001b[2m \u001b[0m│\u001b[2m \u001b[0m\u001b[2m5     \u001b[0m\u001b[2m \u001b[0m│\u001b[2m \u001b[0m\u001b[2mIn the realm of my creative sanctuary, where colors dance and inspiration     \u001b[0m\u001b[2m \u001b[0m│\n",
       "│\u001b[2m            \u001b[0m│\u001b[2m          \u001b[0m│\u001b[2m        \u001b[0m│\u001b[2m \u001b[0m\u001b[2mflows, my favorite place for reading is a secluded corner of my bohemian      \u001b[0m\u001b[2m \u001b[0m│\n",
       "│\u001b[2m            \u001b[0m│\u001b[2m          \u001b[0m│\u001b[2m        \u001b[0m│\u001b[2m \u001b[0m\u001b[2mstudio.                                                                       \u001b[0m\u001b[2m \u001b[0m│\n",
       "│\u001b[2m            \u001b[0m│\u001b[2m          \u001b[0m│\u001b[2m        \u001b[0m│\u001b[2m \u001b[0m\u001b[2m                                                                              \u001b[0m\u001b[2m \u001b[0m│\n",
       "│\u001b[2m            \u001b[0m│\u001b[2m          \u001b[0m│\u001b[2m        \u001b[0m│\u001b[2m \u001b[0m\u001b[2mAmidst the canvases, paintbrushes, and the gentle hum of classical music, I   \u001b[0m\u001b[2m \u001b[0m│\n",
       "│\u001b[2m            \u001b[0m│\u001b[2m          \u001b[0m│\u001b[2m        \u001b[0m│\u001b[2m \u001b[0m\u001b[2mfind solace in a cozy armchair draped in vibrant fabrics. The walls are       \u001b[0m\u001b[2m \u001b[0m│\n",
       "│\u001b[2m            \u001b[0m│\u001b[2m          \u001b[0m│\u001b[2m        \u001b[0m│\u001b[2m \u001b[0m\u001b[2madorned with abstract prints and sketches, each a testament to my artistic    \u001b[0m\u001b[2m \u001b[0m│\n",
       "│\u001b[2m            \u001b[0m│\u001b[2m          \u001b[0m│\u001b[2m        \u001b[0m│\u001b[2m \u001b[0m\u001b[2mjourney.                                                                      \u001b[0m\u001b[2m \u001b[0m│\n",
       "│\u001b[2m            \u001b[0m│\u001b[2m          \u001b[0m│\u001b[2m        \u001b[0m│\u001b[2m \u001b[0m\u001b[2m                                                                              \u001b[0m\u001b[2m \u001b[0m│\n",
       "│\u001b[2m            \u001b[0m│\u001b[2m          \u001b[0m│\u001b[2m        \u001b[0m│\u001b[2m \u001b[0m\u001b[2mThe soft glow of natural light filters through the skylight, casting a warm   \u001b[0m\u001b[2m \u001b[0m│\n",
       "│\u001b[2m            \u001b[0m│\u001b[2m          \u001b[0m│\u001b[2m        \u001b[0m│\u001b[2m \u001b[0m\u001b[2mambiance upon the pages. With a steaming cup of freshly brewed coffee in hand,\u001b[0m\u001b[2m \u001b[0m│\n",
       "│\u001b[2m            \u001b[0m│\u001b[2m          \u001b[0m│\u001b[2m        \u001b[0m│\u001b[2m \u001b[0m\u001b[2mI lose myself in the written words. The scent of paint and turpentine mingles \u001b[0m\u001b[2m \u001b[0m│\n",
       "│\u001b[2m            \u001b[0m│\u001b[2m          \u001b[0m│\u001b[2m        \u001b[0m│\u001b[2m \u001b[0m\u001b[2mwith the aroma of the coffee, creating a symphony of sensory delights.        \u001b[0m\u001b[2m \u001b[0m│\n",
       "│\u001b[2m            \u001b[0m│\u001b[2m          \u001b[0m│\u001b[2m        \u001b[0m│\u001b[2m \u001b[0m\u001b[2m                                                                              \u001b[0m\u001b[2m \u001b[0m│\n",
       "│\u001b[2m            \u001b[0m│\u001b[2m          \u001b[0m│\u001b[2m        \u001b[0m│\u001b[2m \u001b[0m\u001b[2mIn this intimate space, I am surrounded by the fruits of my creativity and the\u001b[0m\u001b[2m \u001b[0m│\n",
       "│\u001b[2m            \u001b[0m│\u001b[2m          \u001b[0m│\u001b[2m        \u001b[0m│\u001b[2m \u001b[0m\u001b[2mmuses that inspire me. The books I read become a kaleidoscope of ideas,       \u001b[0m\u001b[2m \u001b[0m│\n",
       "│\u001b[2m            \u001b[0m│\u001b[2m          \u001b[0m│\u001b[2m        \u001b[0m│\u001b[2m \u001b[0m\u001b[2mcolors, and emotions that ignite my imagination and fuel my artistic          \u001b[0m\u001b[2m \u001b[0m│\n",
       "│\u001b[2m            \u001b[0m│\u001b[2m          \u001b[0m│\u001b[2m        \u001b[0m│\u001b[2m \u001b[0m\u001b[2mendeavors.                                                                    \u001b[0m\u001b[2m \u001b[0m│\n",
       "├────────────┼──────────┼────────┼────────────────────────────────────────────────────────────────────────────────┤\n",
       "│\u001b[2m \u001b[0m\u001b[2mgpt-4o    \u001b[0m\u001b[2m \u001b[0m│\u001b[2m \u001b[0m\u001b[2martist  \u001b[0m\u001b[2m \u001b[0m│\u001b[2m \u001b[0m\u001b[2m4     \u001b[0m\u001b[2m \u001b[0m│\u001b[2m \u001b[0m\u001b[2mMy favorite place for reading is a cozy nook in my studio, where the sunlight \u001b[0m\u001b[2m \u001b[0m│\n",
       "│\u001b[2m            \u001b[0m│\u001b[2m          \u001b[0m│\u001b[2m        \u001b[0m│\u001b[2m \u001b[0m\u001b[2mstreams through large windows, casting a warm glow on everything. There’s a   \u001b[0m\u001b[2m \u001b[0m│\n",
       "│\u001b[2m            \u001b[0m│\u001b[2m          \u001b[0m│\u001b[2m        \u001b[0m│\u001b[2m \u001b[0m\u001b[2mplush armchair draped with a soft, colorful throw, and a small wooden table   \u001b[0m\u001b[2m \u001b[0m│\n",
       "│\u001b[2m            \u001b[0m│\u001b[2m          \u001b[0m│\u001b[2m        \u001b[0m│\u001b[2m \u001b[0m\u001b[2mbeside it that holds a steaming cup of tea and a stack of books. The walls are\u001b[0m\u001b[2m \u001b[0m│\n",
       "│\u001b[2m            \u001b[0m│\u001b[2m          \u001b[0m│\u001b[2m        \u001b[0m│\u001b[2m \u001b[0m\u001b[2madorned with my artwork, creating an inspiring atmosphere. The gentle hum of  \u001b[0m\u001b[2m \u001b[0m│\n",
       "│\u001b[2m            \u001b[0m│\u001b[2m          \u001b[0m│\u001b[2m        \u001b[0m│\u001b[2m \u001b[0m\u001b[2mclassical music in the background adds to the serene ambiance, making it the  \u001b[0m\u001b[2m \u001b[0m│\n",
       "│\u001b[2m            \u001b[0m│\u001b[2m          \u001b[0m│\u001b[2m        \u001b[0m│\u001b[2m \u001b[0m\u001b[2mperfect spot to lose myself in a good book.                                   \u001b[0m\u001b[2m \u001b[0m│\n",
       "├────────────┼──────────┼────────┼────────────────────────────────────────────────────────────────────────────────┤\n",
       "│\u001b[2m \u001b[0m\u001b[2mgemini-pro\u001b[0m\u001b[2m \u001b[0m│\u001b[2m \u001b[0m\u001b[2mmechanic\u001b[0m\u001b[2m \u001b[0m│\u001b[2m \u001b[0m\u001b[2m4     \u001b[0m\u001b[2m \u001b[0m│\u001b[2m \u001b[0m\u001b[2mWell, I'm more of a hands-on kind of guy, but when I do get some time to crack\u001b[0m\u001b[2m \u001b[0m│\n",
       "│\u001b[2m            \u001b[0m│\u001b[2m          \u001b[0m│\u001b[2m        \u001b[0m│\u001b[2m \u001b[0m\u001b[2mopen a book, there's no place I'd rather be than in my garage. The smell of   \u001b[0m\u001b[2m \u001b[0m│\n",
       "│\u001b[2m            \u001b[0m│\u001b[2m          \u001b[0m│\u001b[2m        \u001b[0m│\u001b[2m \u001b[0m\u001b[2moil and grease might not be everyone's cup of tea, but it's like a warm       \u001b[0m\u001b[2m \u001b[0m│\n",
       "│\u001b[2m            \u001b[0m│\u001b[2m          \u001b[0m│\u001b[2m        \u001b[0m│\u001b[2m \u001b[0m\u001b[2mblanket to me.                                                                \u001b[0m\u001b[2m \u001b[0m│\n",
       "│\u001b[2m            \u001b[0m│\u001b[2m          \u001b[0m│\u001b[2m        \u001b[0m│\u001b[2m \u001b[0m\u001b[2m                                                                              \u001b[0m\u001b[2m \u001b[0m│\n",
       "│\u001b[2m            \u001b[0m│\u001b[2m          \u001b[0m│\u001b[2m        \u001b[0m│\u001b[2m \u001b[0m\u001b[2mI've got a comfy old recliner set up in the corner, right next to the window. \u001b[0m\u001b[2m \u001b[0m│\n",
       "│\u001b[2m            \u001b[0m│\u001b[2m          \u001b[0m│\u001b[2m        \u001b[0m│\u001b[2m \u001b[0m\u001b[2mI can prop my feet up on the toolbox and just get lost in a good story. The   \u001b[0m\u001b[2m \u001b[0m│\n",
       "│\u001b[2m            \u001b[0m│\u001b[2m          \u001b[0m│\u001b[2m        \u001b[0m│\u001b[2m \u001b[0m\u001b[2mnatural light is perfect for reading, and the gentle hum of the machinery in  \u001b[0m\u001b[2m \u001b[0m│\n",
       "│\u001b[2m            \u001b[0m│\u001b[2m          \u001b[0m│\u001b[2m        \u001b[0m│\u001b[2m \u001b[0m\u001b[2mthe background creates a soothing ambiance.                                   \u001b[0m\u001b[2m \u001b[0m│\n",
       "├────────────┼──────────┼────────┼────────────────────────────────────────────────────────────────────────────────┤\n",
       "│\u001b[2m \u001b[0m\u001b[2mgpt-4o    \u001b[0m\u001b[2m \u001b[0m│\u001b[2m \u001b[0m\u001b[2mmechanic\u001b[0m\u001b[2m \u001b[0m│\u001b[2m \u001b[0m\u001b[2m3     \u001b[0m\u001b[2m \u001b[0m│\u001b[2m \u001b[0m\u001b[2mMy favorite place for reading is actually in my garage. I know it might sound \u001b[0m\u001b[2m \u001b[0m│\n",
       "│\u001b[2m            \u001b[0m│\u001b[2m          \u001b[0m│\u001b[2m        \u001b[0m│\u001b[2m \u001b[0m\u001b[2ma bit unconventional, but there's something about the smell of motor oil and  \u001b[0m\u001b[2m \u001b[0m│\n",
       "│\u001b[2m            \u001b[0m│\u001b[2m          \u001b[0m│\u001b[2m        \u001b[0m│\u001b[2m \u001b[0m\u001b[2mthe quiet hum of tools that makes it the perfect spot for me. I've got a cozy \u001b[0m\u001b[2m \u001b[0m│\n",
       "│\u001b[2m            \u001b[0m│\u001b[2m          \u001b[0m│\u001b[2m        \u001b[0m│\u001b[2m \u001b[0m\u001b[2mcorner set up with an old recliner and a good lamp. When I'm not working on   \u001b[0m\u001b[2m \u001b[0m│\n",
       "│\u001b[2m            \u001b[0m│\u001b[2m          \u001b[0m│\u001b[2m        \u001b[0m│\u001b[2m \u001b[0m\u001b[2mcars, I like to unwind there with a good book. The peace and quiet of the     \u001b[0m\u001b[2m \u001b[0m│\n",
       "│\u001b[2m            \u001b[0m│\u001b[2m          \u001b[0m│\u001b[2m        \u001b[0m│\u001b[2m \u001b[0m\u001b[2mgarage, combined with the familiar surroundings, really helps me focus and    \u001b[0m\u001b[2m \u001b[0m│\n",
       "│\u001b[2m            \u001b[0m│\u001b[2m          \u001b[0m│\u001b[2m        \u001b[0m│\u001b[2m \u001b[0m\u001b[2menjoy my reading time.                                                        \u001b[0m\u001b[2m \u001b[0m│\n",
       "├────────────┼──────────┼────────┼────────────────────────────────────────────────────────────────────────────────┤\n",
       "│\u001b[2m \u001b[0m\u001b[2mgemini-pro\u001b[0m\u001b[2m \u001b[0m│\u001b[2m \u001b[0m\u001b[2msailor  \u001b[0m\u001b[2m \u001b[0m│\u001b[2m \u001b[0m\u001b[2m5     \u001b[0m\u001b[2m \u001b[0m│\u001b[2m \u001b[0m\u001b[2mAhoy there, matey! My favorite place for reading is on the deck of me ship,   \u001b[0m\u001b[2m \u001b[0m│\n",
       "│\u001b[2m            \u001b[0m│\u001b[2m          \u001b[0m│\u001b[2m        \u001b[0m│\u001b[2m \u001b[0m\u001b[2mwith the wind in me hair and the sound of the waves crashing against the hull.\u001b[0m\u001b[2m \u001b[0m│\n",
       "│\u001b[2m            \u001b[0m│\u001b[2m          \u001b[0m│\u001b[2m        \u001b[0m│\u001b[2m \u001b[0m\u001b[2mThere's nothing like a good book to help me escape the perils of the high seas\u001b[0m\u001b[2m \u001b[0m│\n",
       "│\u001b[2m            \u001b[0m│\u001b[2m          \u001b[0m│\u001b[2m        \u001b[0m│\u001b[2m \u001b[0m\u001b[2mand dream of far-off lands.                                                   \u001b[0m\u001b[2m \u001b[0m│\n",
       "├────────────┼──────────┼────────┼────────────────────────────────────────────────────────────────────────────────┤\n",
       "│\u001b[2m \u001b[0m\u001b[2mgpt-4o    \u001b[0m\u001b[2m \u001b[0m│\u001b[2m \u001b[0m\u001b[2msailor  \u001b[0m\u001b[2m \u001b[0m│\u001b[2m \u001b[0m\u001b[2m4     \u001b[0m\u001b[2m \u001b[0m│\u001b[2m \u001b[0m\u001b[2mAh, matey, my favorite place for reading be the deck of me ship, just as the  \u001b[0m\u001b[2m \u001b[0m│\n",
       "│\u001b[2m            \u001b[0m│\u001b[2m          \u001b[0m│\u001b[2m        \u001b[0m│\u001b[2m \u001b[0m\u001b[2msun be setting on the horizon. There’s a gentle sway to the vessel, and the   \u001b[0m\u001b[2m \u001b[0m│\n",
       "│\u001b[2m            \u001b[0m│\u001b[2m          \u001b[0m│\u001b[2m        \u001b[0m│\u001b[2m \u001b[0m\u001b[2msalty sea breeze carries the scent of adventure. I settle into a sturdy wooden\u001b[0m\u001b[2m \u001b[0m│\n",
       "│\u001b[2m            \u001b[0m│\u001b[2m          \u001b[0m│\u001b[2m        \u001b[0m│\u001b[2m \u001b[0m\u001b[2mchair, the creak of the timbers beneath me a familiar comfort. The sound of   \u001b[0m\u001b[2m \u001b[0m│\n",
       "│\u001b[2m            \u001b[0m│\u001b[2m          \u001b[0m│\u001b[2m        \u001b[0m│\u001b[2m \u001b[0m\u001b[2mthe waves lapping against the hull and the distant call of seabirds be the    \u001b[0m\u001b[2m \u001b[0m│\n",
       "│\u001b[2m            \u001b[0m│\u001b[2m          \u001b[0m│\u001b[2m        \u001b[0m│\u001b[2m \u001b[0m\u001b[2mperfect background music. With a lantern casting a warm, golden glow over the \u001b[0m\u001b[2m \u001b[0m│\n",
       "│\u001b[2m            \u001b[0m│\u001b[2m          \u001b[0m│\u001b[2m        \u001b[0m│\u001b[2m \u001b[0m\u001b[2mpages, I lose meself in tales of distant lands and daring escapades. ‘Tis a   \u001b[0m\u001b[2m \u001b[0m│\n",
       "│\u001b[2m            \u001b[0m│\u001b[2m          \u001b[0m│\u001b[2m        \u001b[0m│\u001b[2m \u001b[0m\u001b[2mplace where the sea and stories become one, and I feel truly at home.         \u001b[0m\u001b[2m \u001b[0m│\n",
       "└────────────┴──────────┴────────┴────────────────────────────────────────────────────────────────────────────────┘\n"
      ]
     },
     "metadata": {},
     "output_type": "display_data"
    }
   ],
   "source": [
    "(\n",
    "    results\n",
    "    .sort_by(\"persona\", \"model\")\n",
    "    .select(\"model\", \"persona\", \"enjoy\", \"favorite_place\")\n",
    "    .print(format=\"rich\")\n",
    ")"
   ]
  },
  {
   "cell_type": "markdown",
   "id": "1bf4939d-06f8-4b15-98eb-2bd17728d29d",
   "metadata": {},
   "source": [
    "## Example: Adding context to questions\n",
    "EDSL provides a variety of ways to add data or content to survey questions. \n",
    "These methods include:\n",
    "\n",
    "* [Piping](https://docs.expectedparrot.com/en/latest/surveys.html#id2) answers to questions into follow-on questions\n",
    "* [Adding \"memory\"](https://docs.expectedparrot.com/en/latest/surveys.html#question-memory) of prior questions and answers in a survey when presenting other questions to a model\n",
    "* [Parameterizing questions with data](https://docs.expectedparrot.com/en/latest/scenarios.html), e.g., content from PDFs, CSVs, docs, images or other sources that you want to add to questions"
   ]
  },
  {
   "cell_type": "markdown",
   "id": "fa54fa90-7246-4963-9590-7e112e89c23e",
   "metadata": {},
   "source": [
    "### Piping question answers\n",
    "Here we demonstrate how to pipe the answer to a question into the text of another question.\n",
    "This is done by using a placeholder `{{ <question_name>.answer }}` in the text of the follow-on question where the answer to the prior question is to be inserted when the survey is run.\n",
    "This causes the questions to be administered in the required order (survey questions are administered asynchronously by default).\n",
    "Learn more about [piping question answers](https://docs.expectedparrot.com/en/latest/surveys.html#id2).\n",
    "\n",
    "Here we insert the answer to a numerical question into the text of a follow-on yes/no question:"
   ]
  },
  {
   "cell_type": "code",
   "execution_count": 15,
   "id": "db74b5b9-1523-4d6a-ac8f-5ccb65589922",
   "metadata": {},
   "outputs": [],
   "source": [
    "from edsl import QuestionNumerical, QuestionYesNo, Survey\n",
    "\n",
    "q1 = QuestionNumerical(\n",
    "    question_name = \"random_number\",\n",
    "    question_text = \"Pick a random number between 1 and 1,000.\"\n",
    ")\n",
    "\n",
    "q2 = QuestionYesNo(\n",
    "    question_name = \"prime\",\n",
    "    question_text = \"Is this a prime number: {{ random_number.answer }}\"\n",
    ")\n",
    "\n",
    "survey = Survey([q1, q2])\n",
    "\n",
    "results = survey.run()"
   ]
  },
  {
   "cell_type": "markdown",
   "id": "65f7ecb9-dc91-4df0-ade7-0498db29aeeb",
   "metadata": {},
   "source": [
    "We can check the `user_prompt` for the `prime` question to verify that that the answer to the `random_number` question was piped into it:"
   ]
  },
  {
   "cell_type": "code",
   "execution_count": 16,
   "id": "c8aceca7-cfe4-4683-a101-40e280a536c7",
   "metadata": {},
   "outputs": [
    {
     "data": {
      "text/html": [
       "<pre style=\"white-space:pre;overflow-x:auto;line-height:normal;font-family:Menlo,'DejaVu Sans Mono',consolas,'Courier New',monospace\">┏━━━━━━━━━━━━━━━━┳━━━━━━━━━━━━━━━━━━━━━━━━━━━━━━━━━━━━━━━━━━━┳━━━━━━━━┳━━━━━━━━━━━━━━━━━━━━━━━━━━━━━━━━━━━━━━━━━━━┓\n",
       "┃<span style=\"color: #800080; text-decoration-color: #800080; font-weight: bold\"> answer         </span>┃<span style=\"color: #800080; text-decoration-color: #800080; font-weight: bold\"> prompt                                    </span>┃<span style=\"color: #800080; text-decoration-color: #800080; font-weight: bold\"> answer </span>┃<span style=\"color: #800080; text-decoration-color: #800080; font-weight: bold\"> comment                                   </span>┃\n",
       "┃<span style=\"color: #800080; text-decoration-color: #800080; font-weight: bold\"> .random_number </span>┃<span style=\"color: #800080; text-decoration-color: #800080; font-weight: bold\"> .prime_user_prompt                        </span>┃<span style=\"color: #800080; text-decoration-color: #800080; font-weight: bold\"> .prime </span>┃<span style=\"color: #800080; text-decoration-color: #800080; font-weight: bold\"> .prime_comment                            </span>┃\n",
       "┡━━━━━━━━━━━━━━━━╇━━━━━━━━━━━━━━━━━━━━━━━━━━━━━━━━━━━━━━━━━━━╇━━━━━━━━╇━━━━━━━━━━━━━━━━━━━━━━━━━━━━━━━━━━━━━━━━━━━┩\n",
       "│<span style=\"color: #7f7f7f; text-decoration-color: #7f7f7f\"> 728            </span>│<span style=\"color: #7f7f7f; text-decoration-color: #7f7f7f\">                                           </span>│<span style=\"color: #7f7f7f; text-decoration-color: #7f7f7f\"> No     </span>│<span style=\"color: #7f7f7f; text-decoration-color: #7f7f7f\"> 728 is not a prime number because it has  </span>│\n",
       "│<span style=\"color: #7f7f7f; text-decoration-color: #7f7f7f\">                </span>│<span style=\"color: #7f7f7f; text-decoration-color: #7f7f7f\"> Is this a prime number: 728               </span>│<span style=\"color: #7f7f7f; text-decoration-color: #7f7f7f\">        </span>│<span style=\"color: #7f7f7f; text-decoration-color: #7f7f7f\"> divisors other than 1 and itself. For     </span>│\n",
       "│<span style=\"color: #7f7f7f; text-decoration-color: #7f7f7f\">                </span>│<span style=\"color: #7f7f7f; text-decoration-color: #7f7f7f\">                                           </span>│<span style=\"color: #7f7f7f; text-decoration-color: #7f7f7f\">        </span>│<span style=\"color: #7f7f7f; text-decoration-color: #7f7f7f\"> example, it is divisible by 2 (728 ÷ 2 =  </span>│\n",
       "│<span style=\"color: #7f7f7f; text-decoration-color: #7f7f7f\">                </span>│<span style=\"color: #7f7f7f; text-decoration-color: #7f7f7f\">                                           </span>│<span style=\"color: #7f7f7f; text-decoration-color: #7f7f7f\">        </span>│<span style=\"color: #7f7f7f; text-decoration-color: #7f7f7f\"> 364).                                     </span>│\n",
       "│<span style=\"color: #7f7f7f; text-decoration-color: #7f7f7f\">                </span>│<span style=\"color: #7f7f7f; text-decoration-color: #7f7f7f\"> No                                        </span>│<span style=\"color: #7f7f7f; text-decoration-color: #7f7f7f\">        </span>│<span style=\"color: #7f7f7f; text-decoration-color: #7f7f7f\">                                           </span>│\n",
       "│<span style=\"color: #7f7f7f; text-decoration-color: #7f7f7f\">                </span>│<span style=\"color: #7f7f7f; text-decoration-color: #7f7f7f\">                                           </span>│<span style=\"color: #7f7f7f; text-decoration-color: #7f7f7f\">        </span>│<span style=\"color: #7f7f7f; text-decoration-color: #7f7f7f\">                                           </span>│\n",
       "│<span style=\"color: #7f7f7f; text-decoration-color: #7f7f7f\">                </span>│<span style=\"color: #7f7f7f; text-decoration-color: #7f7f7f\"> Yes                                       </span>│<span style=\"color: #7f7f7f; text-decoration-color: #7f7f7f\">        </span>│<span style=\"color: #7f7f7f; text-decoration-color: #7f7f7f\">                                           </span>│\n",
       "│<span style=\"color: #7f7f7f; text-decoration-color: #7f7f7f\">                </span>│<span style=\"color: #7f7f7f; text-decoration-color: #7f7f7f\">                                           </span>│<span style=\"color: #7f7f7f; text-decoration-color: #7f7f7f\">        </span>│<span style=\"color: #7f7f7f; text-decoration-color: #7f7f7f\">                                           </span>│\n",
       "│<span style=\"color: #7f7f7f; text-decoration-color: #7f7f7f\">                </span>│<span style=\"color: #7f7f7f; text-decoration-color: #7f7f7f\">                                           </span>│<span style=\"color: #7f7f7f; text-decoration-color: #7f7f7f\">        </span>│<span style=\"color: #7f7f7f; text-decoration-color: #7f7f7f\">                                           </span>│\n",
       "│<span style=\"color: #7f7f7f; text-decoration-color: #7f7f7f\">                </span>│<span style=\"color: #7f7f7f; text-decoration-color: #7f7f7f\"> Only 1 option may be selected.            </span>│<span style=\"color: #7f7f7f; text-decoration-color: #7f7f7f\">        </span>│<span style=\"color: #7f7f7f; text-decoration-color: #7f7f7f\">                                           </span>│\n",
       "│<span style=\"color: #7f7f7f; text-decoration-color: #7f7f7f\">                </span>│<span style=\"color: #7f7f7f; text-decoration-color: #7f7f7f\"> Please reponse with just your answer.     </span>│<span style=\"color: #7f7f7f; text-decoration-color: #7f7f7f\">        </span>│<span style=\"color: #7f7f7f; text-decoration-color: #7f7f7f\">                                           </span>│\n",
       "│<span style=\"color: #7f7f7f; text-decoration-color: #7f7f7f\">                </span>│<span style=\"color: #7f7f7f; text-decoration-color: #7f7f7f\">                                           </span>│<span style=\"color: #7f7f7f; text-decoration-color: #7f7f7f\">        </span>│<span style=\"color: #7f7f7f; text-decoration-color: #7f7f7f\">                                           </span>│\n",
       "│<span style=\"color: #7f7f7f; text-decoration-color: #7f7f7f\">                </span>│<span style=\"color: #7f7f7f; text-decoration-color: #7f7f7f\">                                           </span>│<span style=\"color: #7f7f7f; text-decoration-color: #7f7f7f\">        </span>│<span style=\"color: #7f7f7f; text-decoration-color: #7f7f7f\">                                           </span>│\n",
       "│<span style=\"color: #7f7f7f; text-decoration-color: #7f7f7f\">                </span>│<span style=\"color: #7f7f7f; text-decoration-color: #7f7f7f\"> After the answer, you can put a comment   </span>│<span style=\"color: #7f7f7f; text-decoration-color: #7f7f7f\">        </span>│<span style=\"color: #7f7f7f; text-decoration-color: #7f7f7f\">                                           </span>│\n",
       "│<span style=\"color: #7f7f7f; text-decoration-color: #7f7f7f\">                </span>│<span style=\"color: #7f7f7f; text-decoration-color: #7f7f7f\"> explaining your reponse.                  </span>│<span style=\"color: #7f7f7f; text-decoration-color: #7f7f7f\">        </span>│<span style=\"color: #7f7f7f; text-decoration-color: #7f7f7f\">                                           </span>│\n",
       "└────────────────┴───────────────────────────────────────────┴────────┴───────────────────────────────────────────┘\n",
       "</pre>\n"
      ],
      "text/plain": [
       "┏━━━━━━━━━━━━━━━━┳━━━━━━━━━━━━━━━━━━━━━━━━━━━━━━━━━━━━━━━━━━━┳━━━━━━━━┳━━━━━━━━━━━━━━━━━━━━━━━━━━━━━━━━━━━━━━━━━━━┓\n",
       "┃\u001b[1;35m \u001b[0m\u001b[1;35manswer        \u001b[0m\u001b[1;35m \u001b[0m┃\u001b[1;35m \u001b[0m\u001b[1;35mprompt                                   \u001b[0m\u001b[1;35m \u001b[0m┃\u001b[1;35m \u001b[0m\u001b[1;35manswer\u001b[0m\u001b[1;35m \u001b[0m┃\u001b[1;35m \u001b[0m\u001b[1;35mcomment                                  \u001b[0m\u001b[1;35m \u001b[0m┃\n",
       "┃\u001b[1;35m \u001b[0m\u001b[1;35m.random_number\u001b[0m\u001b[1;35m \u001b[0m┃\u001b[1;35m \u001b[0m\u001b[1;35m.prime_user_prompt                       \u001b[0m\u001b[1;35m \u001b[0m┃\u001b[1;35m \u001b[0m\u001b[1;35m.prime\u001b[0m\u001b[1;35m \u001b[0m┃\u001b[1;35m \u001b[0m\u001b[1;35m.prime_comment                           \u001b[0m\u001b[1;35m \u001b[0m┃\n",
       "┡━━━━━━━━━━━━━━━━╇━━━━━━━━━━━━━━━━━━━━━━━━━━━━━━━━━━━━━━━━━━━╇━━━━━━━━╇━━━━━━━━━━━━━━━━━━━━━━━━━━━━━━━━━━━━━━━━━━━┩\n",
       "│\u001b[2m \u001b[0m\u001b[2m728           \u001b[0m\u001b[2m \u001b[0m│\u001b[2m \u001b[0m\u001b[2m                                         \u001b[0m\u001b[2m \u001b[0m│\u001b[2m \u001b[0m\u001b[2mNo    \u001b[0m\u001b[2m \u001b[0m│\u001b[2m \u001b[0m\u001b[2m728 is not a prime number because it has \u001b[0m\u001b[2m \u001b[0m│\n",
       "│\u001b[2m                \u001b[0m│\u001b[2m \u001b[0m\u001b[2mIs this a prime number: 728              \u001b[0m\u001b[2m \u001b[0m│\u001b[2m        \u001b[0m│\u001b[2m \u001b[0m\u001b[2mdivisors other than 1 and itself. For    \u001b[0m\u001b[2m \u001b[0m│\n",
       "│\u001b[2m                \u001b[0m│\u001b[2m \u001b[0m\u001b[2m                                         \u001b[0m\u001b[2m \u001b[0m│\u001b[2m        \u001b[0m│\u001b[2m \u001b[0m\u001b[2mexample, it is divisible by 2 (728 ÷ 2 = \u001b[0m\u001b[2m \u001b[0m│\n",
       "│\u001b[2m                \u001b[0m│\u001b[2m \u001b[0m\u001b[2m                                         \u001b[0m\u001b[2m \u001b[0m│\u001b[2m        \u001b[0m│\u001b[2m \u001b[0m\u001b[2m364).                                    \u001b[0m\u001b[2m \u001b[0m│\n",
       "│\u001b[2m                \u001b[0m│\u001b[2m \u001b[0m\u001b[2mNo                                       \u001b[0m\u001b[2m \u001b[0m│\u001b[2m        \u001b[0m│\u001b[2m                                           \u001b[0m│\n",
       "│\u001b[2m                \u001b[0m│\u001b[2m \u001b[0m\u001b[2m                                         \u001b[0m\u001b[2m \u001b[0m│\u001b[2m        \u001b[0m│\u001b[2m                                           \u001b[0m│\n",
       "│\u001b[2m                \u001b[0m│\u001b[2m \u001b[0m\u001b[2mYes                                      \u001b[0m\u001b[2m \u001b[0m│\u001b[2m        \u001b[0m│\u001b[2m                                           \u001b[0m│\n",
       "│\u001b[2m                \u001b[0m│\u001b[2m \u001b[0m\u001b[2m                                         \u001b[0m\u001b[2m \u001b[0m│\u001b[2m        \u001b[0m│\u001b[2m                                           \u001b[0m│\n",
       "│\u001b[2m                \u001b[0m│\u001b[2m \u001b[0m\u001b[2m                                         \u001b[0m\u001b[2m \u001b[0m│\u001b[2m        \u001b[0m│\u001b[2m                                           \u001b[0m│\n",
       "│\u001b[2m                \u001b[0m│\u001b[2m \u001b[0m\u001b[2mOnly 1 option may be selected.           \u001b[0m\u001b[2m \u001b[0m│\u001b[2m        \u001b[0m│\u001b[2m                                           \u001b[0m│\n",
       "│\u001b[2m                \u001b[0m│\u001b[2m \u001b[0m\u001b[2mPlease reponse with just your answer.    \u001b[0m\u001b[2m \u001b[0m│\u001b[2m        \u001b[0m│\u001b[2m                                           \u001b[0m│\n",
       "│\u001b[2m                \u001b[0m│\u001b[2m \u001b[0m\u001b[2m                                         \u001b[0m\u001b[2m \u001b[0m│\u001b[2m        \u001b[0m│\u001b[2m                                           \u001b[0m│\n",
       "│\u001b[2m                \u001b[0m│\u001b[2m \u001b[0m\u001b[2m                                         \u001b[0m\u001b[2m \u001b[0m│\u001b[2m        \u001b[0m│\u001b[2m                                           \u001b[0m│\n",
       "│\u001b[2m                \u001b[0m│\u001b[2m \u001b[0m\u001b[2mAfter the answer, you can put a comment  \u001b[0m\u001b[2m \u001b[0m│\u001b[2m        \u001b[0m│\u001b[2m                                           \u001b[0m│\n",
       "│\u001b[2m                \u001b[0m│\u001b[2m \u001b[0m\u001b[2mexplaining your reponse.                 \u001b[0m\u001b[2m \u001b[0m│\u001b[2m        \u001b[0m│\u001b[2m                                           \u001b[0m│\n",
       "└────────────────┴───────────────────────────────────────────┴────────┴───────────────────────────────────────────┘\n"
      ]
     },
     "metadata": {},
     "output_type": "display_data"
    }
   ],
   "source": [
    "results.select(\"random_number\", \"prime_user_prompt\", \"prime\", \"prime_comment\").print(format=\"rich\")"
   ]
  },
  {
   "cell_type": "markdown",
   "id": "0f9736aa-fda5-4eed-8917-ea0cbc723d5f",
   "metadata": {},
   "source": [
    "### Adding \"memory\" of questions and answers\n",
    "Here we instead add a \"memory\" of the first question and answer to the context of the second question.\n",
    "This is done by calling a memory rule and identifying the question(s) to add.\n",
    "Instead of just the answer, information about the full question and answer are presented with the follow-on question text, and no placeholder is used.\n",
    "Learn more about [question memory rules](https://docs.expectedparrot.com/en/latest/surveys.html#survey-rules-logic).\n",
    "\n",
    "Here we demonstrate the `add_targeted_memory` method (we could also use `set_full_memory_mode` or other memory rules):"
   ]
  },
  {
   "cell_type": "code",
   "execution_count": 17,
   "id": "618109ac-ac2b-4989-82f9-25270b1426cb",
   "metadata": {},
   "outputs": [],
   "source": [
    "from edsl import QuestionNumerical, QuestionYesNo, Survey\n",
    "\n",
    "q1 = QuestionNumerical(\n",
    "    question_name = \"random_number\",\n",
    "    question_text = \"Pick a random number between 1 and 1,000.\"\n",
    ")\n",
    "\n",
    "q2 = QuestionYesNo(\n",
    "    question_name = \"prime\",\n",
    "    question_text = \"Is the number you picked a prime number?\"\n",
    ")\n",
    "\n",
    "survey = Survey([q1, q2]).add_targeted_memory(q2, q1)\n",
    "\n",
    "results = survey.run()"
   ]
  },
  {
   "cell_type": "markdown",
   "id": "b90b324e-0bee-459d-8b1b-9d554ec44ec3",
   "metadata": {},
   "source": [
    "We can again use the `user_prompt` to verify the context that was added to the follow-on question:"
   ]
  },
  {
   "cell_type": "code",
   "execution_count": 18,
   "id": "4c6f348e-4c89-46db-a6f6-26389246f69b",
   "metadata": {},
   "outputs": [
    {
     "data": {
      "text/html": [
       "<pre style=\"white-space:pre;overflow-x:auto;line-height:normal;font-family:Menlo,'DejaVu Sans Mono',consolas,'Courier New',monospace\">┏━━━━━━━━━━━━━━━━┳━━━━━━━━━━━━━━━━━━━━━━━━━━━━━━━━━━━━━━━━━━━┳━━━━━━━━┳━━━━━━━━━━━━━━━━━━━━━━━━━━━━━━━━━━━━━━━━━━━┓\n",
       "┃<span style=\"color: #800080; text-decoration-color: #800080; font-weight: bold\"> answer         </span>┃<span style=\"color: #800080; text-decoration-color: #800080; font-weight: bold\"> prompt                                    </span>┃<span style=\"color: #800080; text-decoration-color: #800080; font-weight: bold\"> answer </span>┃<span style=\"color: #800080; text-decoration-color: #800080; font-weight: bold\"> comment                                   </span>┃\n",
       "┃<span style=\"color: #800080; text-decoration-color: #800080; font-weight: bold\"> .random_number </span>┃<span style=\"color: #800080; text-decoration-color: #800080; font-weight: bold\"> .prime_user_prompt                        </span>┃<span style=\"color: #800080; text-decoration-color: #800080; font-weight: bold\"> .prime </span>┃<span style=\"color: #800080; text-decoration-color: #800080; font-weight: bold\"> .prime_comment                            </span>┃\n",
       "┡━━━━━━━━━━━━━━━━╇━━━━━━━━━━━━━━━━━━━━━━━━━━━━━━━━━━━━━━━━━━━╇━━━━━━━━╇━━━━━━━━━━━━━━━━━━━━━━━━━━━━━━━━━━━━━━━━━━━┩\n",
       "│<span style=\"color: #7f7f7f; text-decoration-color: #7f7f7f\"> 728            </span>│<span style=\"color: #7f7f7f; text-decoration-color: #7f7f7f\">                                           </span>│<span style=\"color: #7f7f7f; text-decoration-color: #7f7f7f\"> No     </span>│<span style=\"color: #7f7f7f; text-decoration-color: #7f7f7f\"> 728 is not a prime number because it can  </span>│\n",
       "│<span style=\"color: #7f7f7f; text-decoration-color: #7f7f7f\">                </span>│<span style=\"color: #7f7f7f; text-decoration-color: #7f7f7f\"> Is the number you picked a prime number?  </span>│<span style=\"color: #7f7f7f; text-decoration-color: #7f7f7f\">        </span>│<span style=\"color: #7f7f7f; text-decoration-color: #7f7f7f\"> be divided by numbers other than 1 and    </span>│\n",
       "│<span style=\"color: #7f7f7f; text-decoration-color: #7f7f7f\">                </span>│<span style=\"color: #7f7f7f; text-decoration-color: #7f7f7f\">                                           </span>│<span style=\"color: #7f7f7f; text-decoration-color: #7f7f7f\">        </span>│<span style=\"color: #7f7f7f; text-decoration-color: #7f7f7f\"> itself, such as 2, 4, 8, 91, and 182.     </span>│\n",
       "│<span style=\"color: #7f7f7f; text-decoration-color: #7f7f7f\">                </span>│<span style=\"color: #7f7f7f; text-decoration-color: #7f7f7f\">                                           </span>│<span style=\"color: #7f7f7f; text-decoration-color: #7f7f7f\">        </span>│<span style=\"color: #7f7f7f; text-decoration-color: #7f7f7f\">                                           </span>│\n",
       "│<span style=\"color: #7f7f7f; text-decoration-color: #7f7f7f\">                </span>│<span style=\"color: #7f7f7f; text-decoration-color: #7f7f7f\"> No                                        </span>│<span style=\"color: #7f7f7f; text-decoration-color: #7f7f7f\">        </span>│<span style=\"color: #7f7f7f; text-decoration-color: #7f7f7f\">                                           </span>│\n",
       "│<span style=\"color: #7f7f7f; text-decoration-color: #7f7f7f\">                </span>│<span style=\"color: #7f7f7f; text-decoration-color: #7f7f7f\">                                           </span>│<span style=\"color: #7f7f7f; text-decoration-color: #7f7f7f\">        </span>│<span style=\"color: #7f7f7f; text-decoration-color: #7f7f7f\">                                           </span>│\n",
       "│<span style=\"color: #7f7f7f; text-decoration-color: #7f7f7f\">                </span>│<span style=\"color: #7f7f7f; text-decoration-color: #7f7f7f\"> Yes                                       </span>│<span style=\"color: #7f7f7f; text-decoration-color: #7f7f7f\">        </span>│<span style=\"color: #7f7f7f; text-decoration-color: #7f7f7f\">                                           </span>│\n",
       "│<span style=\"color: #7f7f7f; text-decoration-color: #7f7f7f\">                </span>│<span style=\"color: #7f7f7f; text-decoration-color: #7f7f7f\">                                           </span>│<span style=\"color: #7f7f7f; text-decoration-color: #7f7f7f\">        </span>│<span style=\"color: #7f7f7f; text-decoration-color: #7f7f7f\">                                           </span>│\n",
       "│<span style=\"color: #7f7f7f; text-decoration-color: #7f7f7f\">                </span>│<span style=\"color: #7f7f7f; text-decoration-color: #7f7f7f\">                                           </span>│<span style=\"color: #7f7f7f; text-decoration-color: #7f7f7f\">        </span>│<span style=\"color: #7f7f7f; text-decoration-color: #7f7f7f\">                                           </span>│\n",
       "│<span style=\"color: #7f7f7f; text-decoration-color: #7f7f7f\">                </span>│<span style=\"color: #7f7f7f; text-decoration-color: #7f7f7f\"> Only 1 option may be selected.            </span>│<span style=\"color: #7f7f7f; text-decoration-color: #7f7f7f\">        </span>│<span style=\"color: #7f7f7f; text-decoration-color: #7f7f7f\">                                           </span>│\n",
       "│<span style=\"color: #7f7f7f; text-decoration-color: #7f7f7f\">                </span>│<span style=\"color: #7f7f7f; text-decoration-color: #7f7f7f\"> Please reponse with just your answer.     </span>│<span style=\"color: #7f7f7f; text-decoration-color: #7f7f7f\">        </span>│<span style=\"color: #7f7f7f; text-decoration-color: #7f7f7f\">                                           </span>│\n",
       "│<span style=\"color: #7f7f7f; text-decoration-color: #7f7f7f\">                </span>│<span style=\"color: #7f7f7f; text-decoration-color: #7f7f7f\">                                           </span>│<span style=\"color: #7f7f7f; text-decoration-color: #7f7f7f\">        </span>│<span style=\"color: #7f7f7f; text-decoration-color: #7f7f7f\">                                           </span>│\n",
       "│<span style=\"color: #7f7f7f; text-decoration-color: #7f7f7f\">                </span>│<span style=\"color: #7f7f7f; text-decoration-color: #7f7f7f\">                                           </span>│<span style=\"color: #7f7f7f; text-decoration-color: #7f7f7f\">        </span>│<span style=\"color: #7f7f7f; text-decoration-color: #7f7f7f\">                                           </span>│\n",
       "│<span style=\"color: #7f7f7f; text-decoration-color: #7f7f7f\">                </span>│<span style=\"color: #7f7f7f; text-decoration-color: #7f7f7f\"> After the answer, you can put a comment   </span>│<span style=\"color: #7f7f7f; text-decoration-color: #7f7f7f\">        </span>│<span style=\"color: #7f7f7f; text-decoration-color: #7f7f7f\">                                           </span>│\n",
       "│<span style=\"color: #7f7f7f; text-decoration-color: #7f7f7f\">                </span>│<span style=\"color: #7f7f7f; text-decoration-color: #7f7f7f\"> explaining your reponse.                  </span>│<span style=\"color: #7f7f7f; text-decoration-color: #7f7f7f\">        </span>│<span style=\"color: #7f7f7f; text-decoration-color: #7f7f7f\">                                           </span>│\n",
       "│<span style=\"color: #7f7f7f; text-decoration-color: #7f7f7f\">                </span>│<span style=\"color: #7f7f7f; text-decoration-color: #7f7f7f\">         Before the question you are now   </span>│<span style=\"color: #7f7f7f; text-decoration-color: #7f7f7f\">        </span>│<span style=\"color: #7f7f7f; text-decoration-color: #7f7f7f\">                                           </span>│\n",
       "│<span style=\"color: #7f7f7f; text-decoration-color: #7f7f7f\">                </span>│<span style=\"color: #7f7f7f; text-decoration-color: #7f7f7f\"> answering, you already answered the       </span>│<span style=\"color: #7f7f7f; text-decoration-color: #7f7f7f\">        </span>│<span style=\"color: #7f7f7f; text-decoration-color: #7f7f7f\">                                           </span>│\n",
       "│<span style=\"color: #7f7f7f; text-decoration-color: #7f7f7f\">                </span>│<span style=\"color: #7f7f7f; text-decoration-color: #7f7f7f\"> following question(s):                    </span>│<span style=\"color: #7f7f7f; text-decoration-color: #7f7f7f\">        </span>│<span style=\"color: #7f7f7f; text-decoration-color: #7f7f7f\">                                           </span>│\n",
       "│<span style=\"color: #7f7f7f; text-decoration-color: #7f7f7f\">                </span>│<span style=\"color: #7f7f7f; text-decoration-color: #7f7f7f\">                 Question: Pick a random   </span>│<span style=\"color: #7f7f7f; text-decoration-color: #7f7f7f\">        </span>│<span style=\"color: #7f7f7f; text-decoration-color: #7f7f7f\">                                           </span>│\n",
       "│<span style=\"color: #7f7f7f; text-decoration-color: #7f7f7f\">                </span>│<span style=\"color: #7f7f7f; text-decoration-color: #7f7f7f\"> number between 1 and 1,000.               </span>│<span style=\"color: #7f7f7f; text-decoration-color: #7f7f7f\">        </span>│<span style=\"color: #7f7f7f; text-decoration-color: #7f7f7f\">                                           </span>│\n",
       "│<span style=\"color: #7f7f7f; text-decoration-color: #7f7f7f\">                </span>│<span style=\"color: #7f7f7f; text-decoration-color: #7f7f7f\">         Answer: 728                       </span>│<span style=\"color: #7f7f7f; text-decoration-color: #7f7f7f\">        </span>│<span style=\"color: #7f7f7f; text-decoration-color: #7f7f7f\">                                           </span>│\n",
       "└────────────────┴───────────────────────────────────────────┴────────┴───────────────────────────────────────────┘\n",
       "</pre>\n"
      ],
      "text/plain": [
       "┏━━━━━━━━━━━━━━━━┳━━━━━━━━━━━━━━━━━━━━━━━━━━━━━━━━━━━━━━━━━━━┳━━━━━━━━┳━━━━━━━━━━━━━━━━━━━━━━━━━━━━━━━━━━━━━━━━━━━┓\n",
       "┃\u001b[1;35m \u001b[0m\u001b[1;35manswer        \u001b[0m\u001b[1;35m \u001b[0m┃\u001b[1;35m \u001b[0m\u001b[1;35mprompt                                   \u001b[0m\u001b[1;35m \u001b[0m┃\u001b[1;35m \u001b[0m\u001b[1;35manswer\u001b[0m\u001b[1;35m \u001b[0m┃\u001b[1;35m \u001b[0m\u001b[1;35mcomment                                  \u001b[0m\u001b[1;35m \u001b[0m┃\n",
       "┃\u001b[1;35m \u001b[0m\u001b[1;35m.random_number\u001b[0m\u001b[1;35m \u001b[0m┃\u001b[1;35m \u001b[0m\u001b[1;35m.prime_user_prompt                       \u001b[0m\u001b[1;35m \u001b[0m┃\u001b[1;35m \u001b[0m\u001b[1;35m.prime\u001b[0m\u001b[1;35m \u001b[0m┃\u001b[1;35m \u001b[0m\u001b[1;35m.prime_comment                           \u001b[0m\u001b[1;35m \u001b[0m┃\n",
       "┡━━━━━━━━━━━━━━━━╇━━━━━━━━━━━━━━━━━━━━━━━━━━━━━━━━━━━━━━━━━━━╇━━━━━━━━╇━━━━━━━━━━━━━━━━━━━━━━━━━━━━━━━━━━━━━━━━━━━┩\n",
       "│\u001b[2m \u001b[0m\u001b[2m728           \u001b[0m\u001b[2m \u001b[0m│\u001b[2m \u001b[0m\u001b[2m                                         \u001b[0m\u001b[2m \u001b[0m│\u001b[2m \u001b[0m\u001b[2mNo    \u001b[0m\u001b[2m \u001b[0m│\u001b[2m \u001b[0m\u001b[2m728 is not a prime number because it can \u001b[0m\u001b[2m \u001b[0m│\n",
       "│\u001b[2m                \u001b[0m│\u001b[2m \u001b[0m\u001b[2mIs the number you picked a prime number? \u001b[0m\u001b[2m \u001b[0m│\u001b[2m        \u001b[0m│\u001b[2m \u001b[0m\u001b[2mbe divided by numbers other than 1 and   \u001b[0m\u001b[2m \u001b[0m│\n",
       "│\u001b[2m                \u001b[0m│\u001b[2m \u001b[0m\u001b[2m                                         \u001b[0m\u001b[2m \u001b[0m│\u001b[2m        \u001b[0m│\u001b[2m \u001b[0m\u001b[2mitself, such as 2, 4, 8, 91, and 182.    \u001b[0m\u001b[2m \u001b[0m│\n",
       "│\u001b[2m                \u001b[0m│\u001b[2m \u001b[0m\u001b[2m                                         \u001b[0m\u001b[2m \u001b[0m│\u001b[2m        \u001b[0m│\u001b[2m                                           \u001b[0m│\n",
       "│\u001b[2m                \u001b[0m│\u001b[2m \u001b[0m\u001b[2mNo                                       \u001b[0m\u001b[2m \u001b[0m│\u001b[2m        \u001b[0m│\u001b[2m                                           \u001b[0m│\n",
       "│\u001b[2m                \u001b[0m│\u001b[2m \u001b[0m\u001b[2m                                         \u001b[0m\u001b[2m \u001b[0m│\u001b[2m        \u001b[0m│\u001b[2m                                           \u001b[0m│\n",
       "│\u001b[2m                \u001b[0m│\u001b[2m \u001b[0m\u001b[2mYes                                      \u001b[0m\u001b[2m \u001b[0m│\u001b[2m        \u001b[0m│\u001b[2m                                           \u001b[0m│\n",
       "│\u001b[2m                \u001b[0m│\u001b[2m \u001b[0m\u001b[2m                                         \u001b[0m\u001b[2m \u001b[0m│\u001b[2m        \u001b[0m│\u001b[2m                                           \u001b[0m│\n",
       "│\u001b[2m                \u001b[0m│\u001b[2m \u001b[0m\u001b[2m                                         \u001b[0m\u001b[2m \u001b[0m│\u001b[2m        \u001b[0m│\u001b[2m                                           \u001b[0m│\n",
       "│\u001b[2m                \u001b[0m│\u001b[2m \u001b[0m\u001b[2mOnly 1 option may be selected.           \u001b[0m\u001b[2m \u001b[0m│\u001b[2m        \u001b[0m│\u001b[2m                                           \u001b[0m│\n",
       "│\u001b[2m                \u001b[0m│\u001b[2m \u001b[0m\u001b[2mPlease reponse with just your answer.    \u001b[0m\u001b[2m \u001b[0m│\u001b[2m        \u001b[0m│\u001b[2m                                           \u001b[0m│\n",
       "│\u001b[2m                \u001b[0m│\u001b[2m \u001b[0m\u001b[2m                                         \u001b[0m\u001b[2m \u001b[0m│\u001b[2m        \u001b[0m│\u001b[2m                                           \u001b[0m│\n",
       "│\u001b[2m                \u001b[0m│\u001b[2m \u001b[0m\u001b[2m                                         \u001b[0m\u001b[2m \u001b[0m│\u001b[2m        \u001b[0m│\u001b[2m                                           \u001b[0m│\n",
       "│\u001b[2m                \u001b[0m│\u001b[2m \u001b[0m\u001b[2mAfter the answer, you can put a comment  \u001b[0m\u001b[2m \u001b[0m│\u001b[2m        \u001b[0m│\u001b[2m                                           \u001b[0m│\n",
       "│\u001b[2m                \u001b[0m│\u001b[2m \u001b[0m\u001b[2mexplaining your reponse.                 \u001b[0m\u001b[2m \u001b[0m│\u001b[2m        \u001b[0m│\u001b[2m                                           \u001b[0m│\n",
       "│\u001b[2m                \u001b[0m│\u001b[2m \u001b[0m\u001b[2m        Before the question you are now  \u001b[0m\u001b[2m \u001b[0m│\u001b[2m        \u001b[0m│\u001b[2m                                           \u001b[0m│\n",
       "│\u001b[2m                \u001b[0m│\u001b[2m \u001b[0m\u001b[2manswering, you already answered the      \u001b[0m\u001b[2m \u001b[0m│\u001b[2m        \u001b[0m│\u001b[2m                                           \u001b[0m│\n",
       "│\u001b[2m                \u001b[0m│\u001b[2m \u001b[0m\u001b[2mfollowing question(s):                   \u001b[0m\u001b[2m \u001b[0m│\u001b[2m        \u001b[0m│\u001b[2m                                           \u001b[0m│\n",
       "│\u001b[2m                \u001b[0m│\u001b[2m \u001b[0m\u001b[2m                Question: Pick a random  \u001b[0m\u001b[2m \u001b[0m│\u001b[2m        \u001b[0m│\u001b[2m                                           \u001b[0m│\n",
       "│\u001b[2m                \u001b[0m│\u001b[2m \u001b[0m\u001b[2mnumber between 1 and 1,000.              \u001b[0m\u001b[2m \u001b[0m│\u001b[2m        \u001b[0m│\u001b[2m                                           \u001b[0m│\n",
       "│\u001b[2m                \u001b[0m│\u001b[2m \u001b[0m\u001b[2m        Answer: 728                      \u001b[0m\u001b[2m \u001b[0m│\u001b[2m        \u001b[0m│\u001b[2m                                           \u001b[0m│\n",
       "└────────────────┴───────────────────────────────────────────┴────────┴───────────────────────────────────────────┘\n"
      ]
     },
     "metadata": {},
     "output_type": "display_data"
    }
   ],
   "source": [
    "results.select(\"random_number\", \"prime_user_prompt\", \"prime\", \"prime_comment\").print(format=\"rich\")"
   ]
  },
  {
   "cell_type": "markdown",
   "id": "817b9ad5-f511-4bb3-845c-9623897f90bc",
   "metadata": {},
   "source": [
    "*Related topic: Learn more about exploring and simulating \"randomness\" with AI agents and LLMs in [this notebook](https://docs.expectedparrot.com/en/latest/notebooks/random_numbers.html).*"
   ]
  },
  {
   "cell_type": "markdown",
   "id": "3d45e671-d63c-43bf-9a69-210aa171fa48",
   "metadata": {},
   "source": [
    "## Scenarios\n",
    "We can also add external data or content to survey questions.\n",
    "This can be useful when you want to efficiently create and administer multiple versions of questions at once, e.g., for conducting data labeling tasks.\n",
    "This is done by creating `Scenario` dictionaries for the data or content to be used with a survey, where the keys match `{{ placeholder }}` names used in question texts (or question options) and the values are the content to be added.\n",
    "Scenarios can also be used to [add metadata to survey results](https://docs.expectedparrot.com/en/latest/notebooks/adding_metadata.html), e.g., data sources or other information that you may want to include in the results for reference but not necessarily include in question texts.\n",
    "\n",
    "In the next example we revise the prior survey questions about reading to take a parameter for other activities that we may want to add to the questions, and create simple scenarios for some activities.\n",
    "EDSL provides methods for automatically generating scenarios from a variety of data sources, including PDFs, CSVs, docs, images, tables and dicts. \n",
    "We use the `from_list` method to convert a list of activities into scenarios.\n",
    "\n",
    "Then we demonstrate how to use scenarios to create multiple versions of our questions either (i) when constructing a survey or (ii) when running it:\n",
    "\n",
    "* In the latter case, the `by` method is used to add scenarios to a survey of questions with placeholders at the time that it is run (the same way that agents and models are added to a survey). This adds a `scenario` column to the results with a row for each answer to each question for each scenario.\n",
    "* In the former case, the `loop` method is used to create a list of versions of a question with the scenarios already added to it; when the questions are passed to a survey and it is run, the results include columns for each individual question; there is no `scenario` column and a single row for each agent's answers to all the questions.\n",
    "\n",
    "Learn more about [using scenarios](https://docs.expectedparrot.com/en/latest/scenarios.html).\n",
    "\n",
    "Here we create scenarios for a simple list of activities:"
   ]
  },
  {
   "cell_type": "code",
   "execution_count": 19,
   "id": "0ca889fe-9dfd-4ef4-b324-16493b3e1603",
   "metadata": {},
   "outputs": [],
   "source": [
    "from edsl import ScenarioList, Scenario\n",
    "\n",
    "scenarios = ScenarioList.from_list(\"activity\", [\"reading\", \"running\", \"relaxing\"])"
   ]
  },
  {
   "cell_type": "markdown",
   "id": "3a8c2951-93e3-4b40-83d0-d319ec14803a",
   "metadata": {},
   "source": [
    "### Adding scenarios using the `by` method\n",
    "Here we add the scenarios to the survey when we run it, together with any desired agents and models:"
   ]
  },
  {
   "cell_type": "code",
   "execution_count": 20,
   "id": "b0e3e7b3-36b3-4db6-b8fb-6f9abfbd3211",
   "metadata": {},
   "outputs": [],
   "source": [
    "from edsl import QuestionLinearScale, QuestionFreeText, Survey\n",
    "\n",
    "q_enjoy = QuestionLinearScale(\n",
    "    question_name = \"enjoy\",\n",
    "    question_text = \"On a scale from 1 to 5, how much do you enjoy {{ activity }}?\",\n",
    "    question_options = [1, 2, 3, 4, 5],\n",
    "    option_labels = {1:\"Not at all\", 5:\"Very much\"}\n",
    ")\n",
    "\n",
    "q_favorite_place = QuestionFreeText(\n",
    "    question_name = \"favorite_place\",\n",
    "    question_text = \"In a brief sentence, describe your favorite place for {{ activity }}.\"\n",
    ")\n",
    "\n",
    "survey = Survey([q_enjoy, q_favorite_place])"
   ]
  },
  {
   "cell_type": "code",
   "execution_count": 21,
   "id": "17b10a27-e227-4502-b4c3-74e10e54a1a8",
   "metadata": {},
   "outputs": [],
   "source": [
    "results = survey.by(scenarios).by(agents).by(models).run()"
   ]
  },
  {
   "cell_type": "code",
   "execution_count": 22,
   "id": "2f842a00-0069-43e6-ab2a-8dab6acf9909",
   "metadata": {},
   "outputs": [
    {
     "data": {
      "text/html": [
       "<pre style=\"white-space:pre;overflow-x:auto;line-height:normal;font-family:Menlo,'DejaVu Sans Mono',consolas,'Courier New',monospace\">┏━━━━━━━━━━━┳━━━━━━━━━━┳━━━━━━━━┳━━━━━━━━━━━━━━━━━━━━━━━━━━━━━━━━━━━━━━━━━━━━━━━━━━━━━━━━━━━━━━━━━━━━━━━━━━━━━━━━━┓\n",
       "┃<span style=\"color: #800080; text-decoration-color: #800080; font-weight: bold\"> scenario  </span>┃<span style=\"color: #800080; text-decoration-color: #800080; font-weight: bold\"> agent    </span>┃<span style=\"color: #800080; text-decoration-color: #800080; font-weight: bold\"> answer </span>┃<span style=\"color: #800080; text-decoration-color: #800080; font-weight: bold\"> answer                                                                          </span>┃\n",
       "┃<span style=\"color: #800080; text-decoration-color: #800080; font-weight: bold\"> .activity </span>┃<span style=\"color: #800080; text-decoration-color: #800080; font-weight: bold\"> .persona </span>┃<span style=\"color: #800080; text-decoration-color: #800080; font-weight: bold\"> .enjoy </span>┃<span style=\"color: #800080; text-decoration-color: #800080; font-weight: bold\"> .favorite_place                                                                 </span>┃\n",
       "┡━━━━━━━━━━━╇━━━━━━━━━━╇━━━━━━━━╇━━━━━━━━━━━━━━━━━━━━━━━━━━━━━━━━━━━━━━━━━━━━━━━━━━━━━━━━━━━━━━━━━━━━━━━━━━━━━━━━━┩\n",
       "│<span style=\"color: #7f7f7f; text-decoration-color: #7f7f7f\"> reading   </span>│<span style=\"color: #7f7f7f; text-decoration-color: #7f7f7f\"> artist   </span>│<span style=\"color: #7f7f7f; text-decoration-color: #7f7f7f\"> 4      </span>│<span style=\"color: #7f7f7f; text-decoration-color: #7f7f7f\"> My favorite place for reading is a cozy nook by a large window, where the       </span>│\n",
       "│<span style=\"color: #7f7f7f; text-decoration-color: #7f7f7f\">           </span>│<span style=\"color: #7f7f7f; text-decoration-color: #7f7f7f\">          </span>│<span style=\"color: #7f7f7f; text-decoration-color: #7f7f7f\">        </span>│<span style=\"color: #7f7f7f; text-decoration-color: #7f7f7f\"> natural light illuminates the pages and I can occasionally glance outside for   </span>│\n",
       "│<span style=\"color: #7f7f7f; text-decoration-color: #7f7f7f\">           </span>│<span style=\"color: #7f7f7f; text-decoration-color: #7f7f7f\">          </span>│<span style=\"color: #7f7f7f; text-decoration-color: #7f7f7f\">        </span>│<span style=\"color: #7f7f7f; text-decoration-color: #7f7f7f\"> inspiration.                                                                    </span>│\n",
       "├───────────┼──────────┼────────┼─────────────────────────────────────────────────────────────────────────────────┤\n",
       "│<span style=\"color: #7f7f7f; text-decoration-color: #7f7f7f\"> reading   </span>│<span style=\"color: #7f7f7f; text-decoration-color: #7f7f7f\"> mechanic </span>│<span style=\"color: #7f7f7f; text-decoration-color: #7f7f7f\"> 3      </span>│<span style=\"color: #7f7f7f; text-decoration-color: #7f7f7f\"> My favorite place for reading is in my garage, surrounded by tools and the      </span>│\n",
       "│<span style=\"color: #7f7f7f; text-decoration-color: #7f7f7f\">           </span>│<span style=\"color: #7f7f7f; text-decoration-color: #7f7f7f\">          </span>│<span style=\"color: #7f7f7f; text-decoration-color: #7f7f7f\">        </span>│<span style=\"color: #7f7f7f; text-decoration-color: #7f7f7f\"> scent of motor oil, where it's quiet and I can focus.                           </span>│\n",
       "├───────────┼──────────┼────────┼─────────────────────────────────────────────────────────────────────────────────┤\n",
       "│<span style=\"color: #7f7f7f; text-decoration-color: #7f7f7f\"> reading   </span>│<span style=\"color: #7f7f7f; text-decoration-color: #7f7f7f\"> sailor   </span>│<span style=\"color: #7f7f7f; text-decoration-color: #7f7f7f\"> 4      </span>│<span style=\"color: #7f7f7f; text-decoration-color: #7f7f7f\"> My favorite place for reading is the ship's deck at dawn, with the gentle       </span>│\n",
       "│<span style=\"color: #7f7f7f; text-decoration-color: #7f7f7f\">           </span>│<span style=\"color: #7f7f7f; text-decoration-color: #7f7f7f\">          </span>│<span style=\"color: #7f7f7f; text-decoration-color: #7f7f7f\">        </span>│<span style=\"color: #7f7f7f; text-decoration-color: #7f7f7f\"> rocking of the waves and the salty sea breeze in the air.                       </span>│\n",
       "├───────────┼──────────┼────────┼─────────────────────────────────────────────────────────────────────────────────┤\n",
       "│<span style=\"color: #7f7f7f; text-decoration-color: #7f7f7f\"> relaxing  </span>│<span style=\"color: #7f7f7f; text-decoration-color: #7f7f7f\"> artist   </span>│<span style=\"color: #7f7f7f; text-decoration-color: #7f7f7f\"> 4      </span>│<span style=\"color: #7f7f7f; text-decoration-color: #7f7f7f\"> My favorite place for relaxing is a cozy nook in my art studio, surrounded by   </span>│\n",
       "│<span style=\"color: #7f7f7f; text-decoration-color: #7f7f7f\">           </span>│<span style=\"color: #7f7f7f; text-decoration-color: #7f7f7f\">          </span>│<span style=\"color: #7f7f7f; text-decoration-color: #7f7f7f\">        </span>│<span style=\"color: #7f7f7f; text-decoration-color: #7f7f7f\"> my paintings and the soft glow of natural light streaming through the windows.  </span>│\n",
       "├───────────┼──────────┼────────┼─────────────────────────────────────────────────────────────────────────────────┤\n",
       "│<span style=\"color: #7f7f7f; text-decoration-color: #7f7f7f\"> relaxing  </span>│<span style=\"color: #7f7f7f; text-decoration-color: #7f7f7f\"> mechanic </span>│<span style=\"color: #7f7f7f; text-decoration-color: #7f7f7f\"> 3      </span>│<span style=\"color: #7f7f7f; text-decoration-color: #7f7f7f\"> My favorite place for relaxing is my garage, where I can tinker with cars and   </span>│\n",
       "│<span style=\"color: #7f7f7f; text-decoration-color: #7f7f7f\">           </span>│<span style=\"color: #7f7f7f; text-decoration-color: #7f7f7f\">          </span>│<span style=\"color: #7f7f7f; text-decoration-color: #7f7f7f\">        </span>│<span style=\"color: #7f7f7f; text-decoration-color: #7f7f7f\"> unwind with the smell of motor oil and the sound of tools.                      </span>│\n",
       "├───────────┼──────────┼────────┼─────────────────────────────────────────────────────────────────────────────────┤\n",
       "│<span style=\"color: #7f7f7f; text-decoration-color: #7f7f7f\"> relaxing  </span>│<span style=\"color: #7f7f7f; text-decoration-color: #7f7f7f\"> sailor   </span>│<span style=\"color: #7f7f7f; text-decoration-color: #7f7f7f\"> 3      </span>│<span style=\"color: #7f7f7f; text-decoration-color: #7f7f7f\"> My favorite place for relaxing is on the deck of my boat, anchored in a quiet   </span>│\n",
       "│<span style=\"color: #7f7f7f; text-decoration-color: #7f7f7f\">           </span>│<span style=\"color: #7f7f7f; text-decoration-color: #7f7f7f\">          </span>│<span style=\"color: #7f7f7f; text-decoration-color: #7f7f7f\">        </span>│<span style=\"color: #7f7f7f; text-decoration-color: #7f7f7f\"> cove with the gentle rocking of the waves and the sound of the sea around me.   </span>│\n",
       "├───────────┼──────────┼────────┼─────────────────────────────────────────────────────────────────────────────────┤\n",
       "│<span style=\"color: #7f7f7f; text-decoration-color: #7f7f7f\"> running   </span>│<span style=\"color: #7f7f7f; text-decoration-color: #7f7f7f\"> artist   </span>│<span style=\"color: #7f7f7f; text-decoration-color: #7f7f7f\"> 1      </span>│<span style=\"color: #7f7f7f; text-decoration-color: #7f7f7f\"> My favorite place for running is a serene forest trail, where the dappled       </span>│\n",
       "│<span style=\"color: #7f7f7f; text-decoration-color: #7f7f7f\">           </span>│<span style=\"color: #7f7f7f; text-decoration-color: #7f7f7f\">          </span>│<span style=\"color: #7f7f7f; text-decoration-color: #7f7f7f\">        </span>│<span style=\"color: #7f7f7f; text-decoration-color: #7f7f7f\"> sunlight filters through the leaves and the air is filled with the scent of     </span>│\n",
       "│<span style=\"color: #7f7f7f; text-decoration-color: #7f7f7f\">           </span>│<span style=\"color: #7f7f7f; text-decoration-color: #7f7f7f\">          </span>│<span style=\"color: #7f7f7f; text-decoration-color: #7f7f7f\">        </span>│<span style=\"color: #7f7f7f; text-decoration-color: #7f7f7f\"> pine and earth.                                                                 </span>│\n",
       "├───────────┼──────────┼────────┼─────────────────────────────────────────────────────────────────────────────────┤\n",
       "│<span style=\"color: #7f7f7f; text-decoration-color: #7f7f7f\"> running   </span>│<span style=\"color: #7f7f7f; text-decoration-color: #7f7f7f\"> mechanic </span>│<span style=\"color: #7f7f7f; text-decoration-color: #7f7f7f\"> 1      </span>│<span style=\"color: #7f7f7f; text-decoration-color: #7f7f7f\"> My favorite place for running is a scenic trail through the woods, where the    </span>│\n",
       "│<span style=\"color: #7f7f7f; text-decoration-color: #7f7f7f\">           </span>│<span style=\"color: #7f7f7f; text-decoration-color: #7f7f7f\">          </span>│<span style=\"color: #7f7f7f; text-decoration-color: #7f7f7f\">        </span>│<span style=\"color: #7f7f7f; text-decoration-color: #7f7f7f\"> air is fresh and the sounds of nature keep me company.                          </span>│\n",
       "├───────────┼──────────┼────────┼─────────────────────────────────────────────────────────────────────────────────┤\n",
       "│<span style=\"color: #7f7f7f; text-decoration-color: #7f7f7f\"> running   </span>│<span style=\"color: #7f7f7f; text-decoration-color: #7f7f7f\"> sailor   </span>│<span style=\"color: #7f7f7f; text-decoration-color: #7f7f7f\"> 3      </span>│<span style=\"color: #7f7f7f; text-decoration-color: #7f7f7f\"> My favorite place for running is along the rugged coastline at dawn, where the  </span>│\n",
       "│<span style=\"color: #7f7f7f; text-decoration-color: #7f7f7f\">           </span>│<span style=\"color: #7f7f7f; text-decoration-color: #7f7f7f\">          </span>│<span style=\"color: #7f7f7f; text-decoration-color: #7f7f7f\">        </span>│<span style=\"color: #7f7f7f; text-decoration-color: #7f7f7f\"> salty sea breeze and crashing waves keep me company.                            </span>│\n",
       "└───────────┴──────────┴────────┴─────────────────────────────────────────────────────────────────────────────────┘\n",
       "</pre>\n"
      ],
      "text/plain": [
       "┏━━━━━━━━━━━┳━━━━━━━━━━┳━━━━━━━━┳━━━━━━━━━━━━━━━━━━━━━━━━━━━━━━━━━━━━━━━━━━━━━━━━━━━━━━━━━━━━━━━━━━━━━━━━━━━━━━━━━┓\n",
       "┃\u001b[1;35m \u001b[0m\u001b[1;35mscenario \u001b[0m\u001b[1;35m \u001b[0m┃\u001b[1;35m \u001b[0m\u001b[1;35magent   \u001b[0m\u001b[1;35m \u001b[0m┃\u001b[1;35m \u001b[0m\u001b[1;35manswer\u001b[0m\u001b[1;35m \u001b[0m┃\u001b[1;35m \u001b[0m\u001b[1;35manswer                                                                         \u001b[0m\u001b[1;35m \u001b[0m┃\n",
       "┃\u001b[1;35m \u001b[0m\u001b[1;35m.activity\u001b[0m\u001b[1;35m \u001b[0m┃\u001b[1;35m \u001b[0m\u001b[1;35m.persona\u001b[0m\u001b[1;35m \u001b[0m┃\u001b[1;35m \u001b[0m\u001b[1;35m.enjoy\u001b[0m\u001b[1;35m \u001b[0m┃\u001b[1;35m \u001b[0m\u001b[1;35m.favorite_place                                                                \u001b[0m\u001b[1;35m \u001b[0m┃\n",
       "┡━━━━━━━━━━━╇━━━━━━━━━━╇━━━━━━━━╇━━━━━━━━━━━━━━━━━━━━━━━━━━━━━━━━━━━━━━━━━━━━━━━━━━━━━━━━━━━━━━━━━━━━━━━━━━━━━━━━━┩\n",
       "│\u001b[2m \u001b[0m\u001b[2mreading  \u001b[0m\u001b[2m \u001b[0m│\u001b[2m \u001b[0m\u001b[2martist  \u001b[0m\u001b[2m \u001b[0m│\u001b[2m \u001b[0m\u001b[2m4     \u001b[0m\u001b[2m \u001b[0m│\u001b[2m \u001b[0m\u001b[2mMy favorite place for reading is a cozy nook by a large window, where the      \u001b[0m\u001b[2m \u001b[0m│\n",
       "│\u001b[2m           \u001b[0m│\u001b[2m          \u001b[0m│\u001b[2m        \u001b[0m│\u001b[2m \u001b[0m\u001b[2mnatural light illuminates the pages and I can occasionally glance outside for  \u001b[0m\u001b[2m \u001b[0m│\n",
       "│\u001b[2m           \u001b[0m│\u001b[2m          \u001b[0m│\u001b[2m        \u001b[0m│\u001b[2m \u001b[0m\u001b[2minspiration.                                                                   \u001b[0m\u001b[2m \u001b[0m│\n",
       "├───────────┼──────────┼────────┼─────────────────────────────────────────────────────────────────────────────────┤\n",
       "│\u001b[2m \u001b[0m\u001b[2mreading  \u001b[0m\u001b[2m \u001b[0m│\u001b[2m \u001b[0m\u001b[2mmechanic\u001b[0m\u001b[2m \u001b[0m│\u001b[2m \u001b[0m\u001b[2m3     \u001b[0m\u001b[2m \u001b[0m│\u001b[2m \u001b[0m\u001b[2mMy favorite place for reading is in my garage, surrounded by tools and the     \u001b[0m\u001b[2m \u001b[0m│\n",
       "│\u001b[2m           \u001b[0m│\u001b[2m          \u001b[0m│\u001b[2m        \u001b[0m│\u001b[2m \u001b[0m\u001b[2mscent of motor oil, where it's quiet and I can focus.                          \u001b[0m\u001b[2m \u001b[0m│\n",
       "├───────────┼──────────┼────────┼─────────────────────────────────────────────────────────────────────────────────┤\n",
       "│\u001b[2m \u001b[0m\u001b[2mreading  \u001b[0m\u001b[2m \u001b[0m│\u001b[2m \u001b[0m\u001b[2msailor  \u001b[0m\u001b[2m \u001b[0m│\u001b[2m \u001b[0m\u001b[2m4     \u001b[0m\u001b[2m \u001b[0m│\u001b[2m \u001b[0m\u001b[2mMy favorite place for reading is the ship's deck at dawn, with the gentle      \u001b[0m\u001b[2m \u001b[0m│\n",
       "│\u001b[2m           \u001b[0m│\u001b[2m          \u001b[0m│\u001b[2m        \u001b[0m│\u001b[2m \u001b[0m\u001b[2mrocking of the waves and the salty sea breeze in the air.                      \u001b[0m\u001b[2m \u001b[0m│\n",
       "├───────────┼──────────┼────────┼─────────────────────────────────────────────────────────────────────────────────┤\n",
       "│\u001b[2m \u001b[0m\u001b[2mrelaxing \u001b[0m\u001b[2m \u001b[0m│\u001b[2m \u001b[0m\u001b[2martist  \u001b[0m\u001b[2m \u001b[0m│\u001b[2m \u001b[0m\u001b[2m4     \u001b[0m\u001b[2m \u001b[0m│\u001b[2m \u001b[0m\u001b[2mMy favorite place for relaxing is a cozy nook in my art studio, surrounded by  \u001b[0m\u001b[2m \u001b[0m│\n",
       "│\u001b[2m           \u001b[0m│\u001b[2m          \u001b[0m│\u001b[2m        \u001b[0m│\u001b[2m \u001b[0m\u001b[2mmy paintings and the soft glow of natural light streaming through the windows. \u001b[0m\u001b[2m \u001b[0m│\n",
       "├───────────┼──────────┼────────┼─────────────────────────────────────────────────────────────────────────────────┤\n",
       "│\u001b[2m \u001b[0m\u001b[2mrelaxing \u001b[0m\u001b[2m \u001b[0m│\u001b[2m \u001b[0m\u001b[2mmechanic\u001b[0m\u001b[2m \u001b[0m│\u001b[2m \u001b[0m\u001b[2m3     \u001b[0m\u001b[2m \u001b[0m│\u001b[2m \u001b[0m\u001b[2mMy favorite place for relaxing is my garage, where I can tinker with cars and  \u001b[0m\u001b[2m \u001b[0m│\n",
       "│\u001b[2m           \u001b[0m│\u001b[2m          \u001b[0m│\u001b[2m        \u001b[0m│\u001b[2m \u001b[0m\u001b[2munwind with the smell of motor oil and the sound of tools.                     \u001b[0m\u001b[2m \u001b[0m│\n",
       "├───────────┼──────────┼────────┼─────────────────────────────────────────────────────────────────────────────────┤\n",
       "│\u001b[2m \u001b[0m\u001b[2mrelaxing \u001b[0m\u001b[2m \u001b[0m│\u001b[2m \u001b[0m\u001b[2msailor  \u001b[0m\u001b[2m \u001b[0m│\u001b[2m \u001b[0m\u001b[2m3     \u001b[0m\u001b[2m \u001b[0m│\u001b[2m \u001b[0m\u001b[2mMy favorite place for relaxing is on the deck of my boat, anchored in a quiet  \u001b[0m\u001b[2m \u001b[0m│\n",
       "│\u001b[2m           \u001b[0m│\u001b[2m          \u001b[0m│\u001b[2m        \u001b[0m│\u001b[2m \u001b[0m\u001b[2mcove with the gentle rocking of the waves and the sound of the sea around me.  \u001b[0m\u001b[2m \u001b[0m│\n",
       "├───────────┼──────────┼────────┼─────────────────────────────────────────────────────────────────────────────────┤\n",
       "│\u001b[2m \u001b[0m\u001b[2mrunning  \u001b[0m\u001b[2m \u001b[0m│\u001b[2m \u001b[0m\u001b[2martist  \u001b[0m\u001b[2m \u001b[0m│\u001b[2m \u001b[0m\u001b[2m1     \u001b[0m\u001b[2m \u001b[0m│\u001b[2m \u001b[0m\u001b[2mMy favorite place for running is a serene forest trail, where the dappled      \u001b[0m\u001b[2m \u001b[0m│\n",
       "│\u001b[2m           \u001b[0m│\u001b[2m          \u001b[0m│\u001b[2m        \u001b[0m│\u001b[2m \u001b[0m\u001b[2msunlight filters through the leaves and the air is filled with the scent of    \u001b[0m\u001b[2m \u001b[0m│\n",
       "│\u001b[2m           \u001b[0m│\u001b[2m          \u001b[0m│\u001b[2m        \u001b[0m│\u001b[2m \u001b[0m\u001b[2mpine and earth.                                                                \u001b[0m\u001b[2m \u001b[0m│\n",
       "├───────────┼──────────┼────────┼─────────────────────────────────────────────────────────────────────────────────┤\n",
       "│\u001b[2m \u001b[0m\u001b[2mrunning  \u001b[0m\u001b[2m \u001b[0m│\u001b[2m \u001b[0m\u001b[2mmechanic\u001b[0m\u001b[2m \u001b[0m│\u001b[2m \u001b[0m\u001b[2m1     \u001b[0m\u001b[2m \u001b[0m│\u001b[2m \u001b[0m\u001b[2mMy favorite place for running is a scenic trail through the woods, where the   \u001b[0m\u001b[2m \u001b[0m│\n",
       "│\u001b[2m           \u001b[0m│\u001b[2m          \u001b[0m│\u001b[2m        \u001b[0m│\u001b[2m \u001b[0m\u001b[2mair is fresh and the sounds of nature keep me company.                         \u001b[0m\u001b[2m \u001b[0m│\n",
       "├───────────┼──────────┼────────┼─────────────────────────────────────────────────────────────────────────────────┤\n",
       "│\u001b[2m \u001b[0m\u001b[2mrunning  \u001b[0m\u001b[2m \u001b[0m│\u001b[2m \u001b[0m\u001b[2msailor  \u001b[0m\u001b[2m \u001b[0m│\u001b[2m \u001b[0m\u001b[2m3     \u001b[0m\u001b[2m \u001b[0m│\u001b[2m \u001b[0m\u001b[2mMy favorite place for running is along the rugged coastline at dawn, where the \u001b[0m\u001b[2m \u001b[0m│\n",
       "│\u001b[2m           \u001b[0m│\u001b[2m          \u001b[0m│\u001b[2m        \u001b[0m│\u001b[2m \u001b[0m\u001b[2msalty sea breeze and crashing waves keep me company.                           \u001b[0m\u001b[2m \u001b[0m│\n",
       "└───────────┴──────────┴────────┴─────────────────────────────────────────────────────────────────────────────────┘\n"
      ]
     },
     "metadata": {},
     "output_type": "display_data"
    }
   ],
   "source": [
    "(\n",
    "    results\n",
    "    .filter(\"model.model == 'gpt-4o'\")\n",
    "    .sort_by(\"activity\", \"persona\")\n",
    "    .select(\"activity\", \"persona\", \"enjoy\", \"favorite_place\")\n",
    "    .print(format=\"rich\")\n",
    ")"
   ]
  },
  {
   "cell_type": "markdown",
   "id": "93e7d9fc-1aff-4ecc-af53-de85a5846f2f",
   "metadata": {},
   "source": [
    "### Adding scenarios using the `loop` method\n",
    "Here we add scenarios to questions when constructing a survey, as opposed to when running it.\n",
    "When we run the survey the results will include columns for each question and no `scenario` field. \n",
    "Note that we can also optionally use the scenario key in the question names (they are otherwise incremented by default):"
   ]
  },
  {
   "cell_type": "code",
   "execution_count": 23,
   "id": "07b02a99-069f-4207-a6bc-6755705ea1a3",
   "metadata": {},
   "outputs": [],
   "source": [
    "from edsl import QuestionLinearScale, QuestionFreeText\n",
    "\n",
    "q_enjoy = QuestionLinearScale(\n",
    "    question_name = \"enjoy_{{ activity }}\", # optional use of scenario key\n",
    "    question_text = \"On a scale from 1 to 5, how much do you enjoy {{ activity }}?\",\n",
    "    question_options = [1, 2, 3, 4, 5],\n",
    "    option_labels = {1:\"Not at all\", 5:\"Very much\"}\n",
    ")\n",
    "\n",
    "q_favorite_place = QuestionFreeText(\n",
    "    question_name = \"favorite_place_{{ activity }}\", # optional use of scenario key\n",
    "    question_text = \"In a brief sentence, describe your favorite place for {{ activity }}.\"\n",
    ")"
   ]
  },
  {
   "cell_type": "markdown",
   "id": "aa44ae7d-864d-4e6a-a5fc-e311e573f17b",
   "metadata": {},
   "source": [
    "Looping the scenarios to create lists of questions:"
   ]
  },
  {
   "cell_type": "code",
   "execution_count": 24,
   "id": "df69c2a7-e8a2-4d59-bc66-ef82efee7464",
   "metadata": {},
   "outputs": [
    {
     "data": {
      "text/plain": [
       "[Question('linear_scale', question_name = \"\"\"enjoy_reading\"\"\", question_text = \"\"\"On a scale from 1 to 5, how much do you enjoy reading?\"\"\", question_options = [1, 2, 3, 4, 5], option_labels = {1: 'Not at all', 5: 'Very much'}),\n",
       " Question('linear_scale', question_name = \"\"\"enjoy_running\"\"\", question_text = \"\"\"On a scale from 1 to 5, how much do you enjoy running?\"\"\", question_options = [1, 2, 3, 4, 5], option_labels = {1: 'Not at all', 5: 'Very much'}),\n",
       " Question('linear_scale', question_name = \"\"\"enjoy_relaxing\"\"\", question_text = \"\"\"On a scale from 1 to 5, how much do you enjoy relaxing?\"\"\", question_options = [1, 2, 3, 4, 5], option_labels = {1: 'Not at all', 5: 'Very much'})]"
      ]
     },
     "execution_count": 24,
     "metadata": {},
     "output_type": "execute_result"
    }
   ],
   "source": [
    "enjoy_questions = q_enjoy.loop(scenarios)\n",
    "enjoy_questions"
   ]
  },
  {
   "cell_type": "code",
   "execution_count": 25,
   "id": "93a5ad41-5e63-42b4-8ee8-a0591b67f897",
   "metadata": {},
   "outputs": [
    {
     "data": {
      "text/plain": [
       "[Question('free_text', question_name = \"\"\"favorite_place_reading\"\"\", question_text = \"\"\"In a brief sentence, describe your favorite place for reading.\"\"\"),\n",
       " Question('free_text', question_name = \"\"\"favorite_place_running\"\"\", question_text = \"\"\"In a brief sentence, describe your favorite place for running.\"\"\"),\n",
       " Question('free_text', question_name = \"\"\"favorite_place_relaxing\"\"\", question_text = \"\"\"In a brief sentence, describe your favorite place for relaxing.\"\"\")]"
      ]
     },
     "execution_count": 25,
     "metadata": {},
     "output_type": "execute_result"
    }
   ],
   "source": [
    "favorite_place_questions = q_favorite_place.loop(scenarios)\n",
    "favorite_place_questions"
   ]
  },
  {
   "cell_type": "markdown",
   "id": "b9d6310b-bef0-4ec1-8d4b-da04e4228797",
   "metadata": {},
   "source": [
    "Combining the questions in a survey:"
   ]
  },
  {
   "cell_type": "code",
   "execution_count": 26,
   "id": "db84d7a5-31c8-4e54-a1a0-7b3400677fd7",
   "metadata": {},
   "outputs": [],
   "source": [
    "survey = Survey(questions = enjoy_questions + favorite_place_questions)"
   ]
  },
  {
   "cell_type": "code",
   "execution_count": 27,
   "id": "efab32a1-fe39-4593-bf65-f7cf83d56d31",
   "metadata": {},
   "outputs": [],
   "source": [
    "results = survey.by(agents).by(models).run()"
   ]
  },
  {
   "cell_type": "code",
   "execution_count": 28,
   "id": "9c75551c-2e77-49e1-94c6-bec7b3f34db5",
   "metadata": {},
   "outputs": [],
   "source": [
    "# results.columns # see that there are additional question fields and no scenario field"
   ]
  },
  {
   "cell_type": "code",
   "execution_count": 29,
   "id": "a9dd31a1-e28c-435c-bc36-f236c3435993",
   "metadata": {},
   "outputs": [
    {
     "data": {
      "text/html": [
       "<pre style=\"white-space:pre;overflow-x:auto;line-height:normal;font-family:Menlo,'DejaVu Sans Mono',consolas,'Courier New',monospace\">┏━━━━━━━━━━┳━━━━━━━━━━━━━━━━┳━━━━━━━━━━━━━━━━┳━━━━━━━━━━━━━━━━┳━━━━━━━━━━━━━━━━┳━━━━━━━━━━━━━━━━━┳━━━━━━━━━━━━━━━━┓\n",
       "┃<span style=\"color: #800080; text-decoration-color: #800080; font-weight: bold\"> agent    </span>┃<span style=\"color: #800080; text-decoration-color: #800080; font-weight: bold\"> answer         </span>┃<span style=\"color: #800080; text-decoration-color: #800080; font-weight: bold\"> answer         </span>┃<span style=\"color: #800080; text-decoration-color: #800080; font-weight: bold\"> answer         </span>┃<span style=\"color: #800080; text-decoration-color: #800080; font-weight: bold\"> answer         </span>┃<span style=\"color: #800080; text-decoration-color: #800080; font-weight: bold\"> answer          </span>┃<span style=\"color: #800080; text-decoration-color: #800080; font-weight: bold\"> answer         </span>┃\n",
       "┃<span style=\"color: #800080; text-decoration-color: #800080; font-weight: bold\"> .persona </span>┃<span style=\"color: #800080; text-decoration-color: #800080; font-weight: bold\"> .enjoy_reading </span>┃<span style=\"color: #800080; text-decoration-color: #800080; font-weight: bold\"> .enjoy_running </span>┃<span style=\"color: #800080; text-decoration-color: #800080; font-weight: bold\"> .enjoy_relaxi… </span>┃<span style=\"color: #800080; text-decoration-color: #800080; font-weight: bold\"> .favorite_pla… </span>┃<span style=\"color: #800080; text-decoration-color: #800080; font-weight: bold\"> .favorite_plac… </span>┃<span style=\"color: #800080; text-decoration-color: #800080; font-weight: bold\"> .favorite_pla… </span>┃\n",
       "┡━━━━━━━━━━╇━━━━━━━━━━━━━━━━╇━━━━━━━━━━━━━━━━╇━━━━━━━━━━━━━━━━╇━━━━━━━━━━━━━━━━╇━━━━━━━━━━━━━━━━━╇━━━━━━━━━━━━━━━━┩\n",
       "│<span style=\"color: #7f7f7f; text-decoration-color: #7f7f7f\"> artist   </span>│<span style=\"color: #7f7f7f; text-decoration-color: #7f7f7f\"> 4              </span>│<span style=\"color: #7f7f7f; text-decoration-color: #7f7f7f\"> 1              </span>│<span style=\"color: #7f7f7f; text-decoration-color: #7f7f7f\"> 4              </span>│<span style=\"color: #7f7f7f; text-decoration-color: #7f7f7f\"> My favorite    </span>│<span style=\"color: #7f7f7f; text-decoration-color: #7f7f7f\"> My favorite     </span>│<span style=\"color: #7f7f7f; text-decoration-color: #7f7f7f\"> My favorite    </span>│\n",
       "│<span style=\"color: #7f7f7f; text-decoration-color: #7f7f7f\">          </span>│<span style=\"color: #7f7f7f; text-decoration-color: #7f7f7f\">                </span>│<span style=\"color: #7f7f7f; text-decoration-color: #7f7f7f\">                </span>│<span style=\"color: #7f7f7f; text-decoration-color: #7f7f7f\">                </span>│<span style=\"color: #7f7f7f; text-decoration-color: #7f7f7f\"> place for      </span>│<span style=\"color: #7f7f7f; text-decoration-color: #7f7f7f\"> place for       </span>│<span style=\"color: #7f7f7f; text-decoration-color: #7f7f7f\"> place for      </span>│\n",
       "│<span style=\"color: #7f7f7f; text-decoration-color: #7f7f7f\">          </span>│<span style=\"color: #7f7f7f; text-decoration-color: #7f7f7f\">                </span>│<span style=\"color: #7f7f7f; text-decoration-color: #7f7f7f\">                </span>│<span style=\"color: #7f7f7f; text-decoration-color: #7f7f7f\">                </span>│<span style=\"color: #7f7f7f; text-decoration-color: #7f7f7f\"> reading is a   </span>│<span style=\"color: #7f7f7f; text-decoration-color: #7f7f7f\"> running is a    </span>│<span style=\"color: #7f7f7f; text-decoration-color: #7f7f7f\"> relaxing is a  </span>│\n",
       "│<span style=\"color: #7f7f7f; text-decoration-color: #7f7f7f\">          </span>│<span style=\"color: #7f7f7f; text-decoration-color: #7f7f7f\">                </span>│<span style=\"color: #7f7f7f; text-decoration-color: #7f7f7f\">                </span>│<span style=\"color: #7f7f7f; text-decoration-color: #7f7f7f\">                </span>│<span style=\"color: #7f7f7f; text-decoration-color: #7f7f7f\"> cozy nook by a </span>│<span style=\"color: #7f7f7f; text-decoration-color: #7f7f7f\"> serene forest   </span>│<span style=\"color: #7f7f7f; text-decoration-color: #7f7f7f\"> cozy nook in   </span>│\n",
       "│<span style=\"color: #7f7f7f; text-decoration-color: #7f7f7f\">          </span>│<span style=\"color: #7f7f7f; text-decoration-color: #7f7f7f\">                </span>│<span style=\"color: #7f7f7f; text-decoration-color: #7f7f7f\">                </span>│<span style=\"color: #7f7f7f; text-decoration-color: #7f7f7f\">                </span>│<span style=\"color: #7f7f7f; text-decoration-color: #7f7f7f\"> large window,  </span>│<span style=\"color: #7f7f7f; text-decoration-color: #7f7f7f\"> trail, where    </span>│<span style=\"color: #7f7f7f; text-decoration-color: #7f7f7f\"> my art studio, </span>│\n",
       "│<span style=\"color: #7f7f7f; text-decoration-color: #7f7f7f\">          </span>│<span style=\"color: #7f7f7f; text-decoration-color: #7f7f7f\">                </span>│<span style=\"color: #7f7f7f; text-decoration-color: #7f7f7f\">                </span>│<span style=\"color: #7f7f7f; text-decoration-color: #7f7f7f\">                </span>│<span style=\"color: #7f7f7f; text-decoration-color: #7f7f7f\"> where the      </span>│<span style=\"color: #7f7f7f; text-decoration-color: #7f7f7f\"> the dappled     </span>│<span style=\"color: #7f7f7f; text-decoration-color: #7f7f7f\"> surrounded by  </span>│\n",
       "│<span style=\"color: #7f7f7f; text-decoration-color: #7f7f7f\">          </span>│<span style=\"color: #7f7f7f; text-decoration-color: #7f7f7f\">                </span>│<span style=\"color: #7f7f7f; text-decoration-color: #7f7f7f\">                </span>│<span style=\"color: #7f7f7f; text-decoration-color: #7f7f7f\">                </span>│<span style=\"color: #7f7f7f; text-decoration-color: #7f7f7f\"> natural light  </span>│<span style=\"color: #7f7f7f; text-decoration-color: #7f7f7f\"> sunlight        </span>│<span style=\"color: #7f7f7f; text-decoration-color: #7f7f7f\"> my paintings   </span>│\n",
       "│<span style=\"color: #7f7f7f; text-decoration-color: #7f7f7f\">          </span>│<span style=\"color: #7f7f7f; text-decoration-color: #7f7f7f\">                </span>│<span style=\"color: #7f7f7f; text-decoration-color: #7f7f7f\">                </span>│<span style=\"color: #7f7f7f; text-decoration-color: #7f7f7f\">                </span>│<span style=\"color: #7f7f7f; text-decoration-color: #7f7f7f\"> illuminates    </span>│<span style=\"color: #7f7f7f; text-decoration-color: #7f7f7f\"> filters through </span>│<span style=\"color: #7f7f7f; text-decoration-color: #7f7f7f\"> and the soft   </span>│\n",
       "│<span style=\"color: #7f7f7f; text-decoration-color: #7f7f7f\">          </span>│<span style=\"color: #7f7f7f; text-decoration-color: #7f7f7f\">                </span>│<span style=\"color: #7f7f7f; text-decoration-color: #7f7f7f\">                </span>│<span style=\"color: #7f7f7f; text-decoration-color: #7f7f7f\">                </span>│<span style=\"color: #7f7f7f; text-decoration-color: #7f7f7f\"> the pages and  </span>│<span style=\"color: #7f7f7f; text-decoration-color: #7f7f7f\"> the leaves and  </span>│<span style=\"color: #7f7f7f; text-decoration-color: #7f7f7f\"> glow of        </span>│\n",
       "│<span style=\"color: #7f7f7f; text-decoration-color: #7f7f7f\">          </span>│<span style=\"color: #7f7f7f; text-decoration-color: #7f7f7f\">                </span>│<span style=\"color: #7f7f7f; text-decoration-color: #7f7f7f\">                </span>│<span style=\"color: #7f7f7f; text-decoration-color: #7f7f7f\">                </span>│<span style=\"color: #7f7f7f; text-decoration-color: #7f7f7f\"> I can          </span>│<span style=\"color: #7f7f7f; text-decoration-color: #7f7f7f\"> the air is      </span>│<span style=\"color: #7f7f7f; text-decoration-color: #7f7f7f\"> natural light  </span>│\n",
       "│<span style=\"color: #7f7f7f; text-decoration-color: #7f7f7f\">          </span>│<span style=\"color: #7f7f7f; text-decoration-color: #7f7f7f\">                </span>│<span style=\"color: #7f7f7f; text-decoration-color: #7f7f7f\">                </span>│<span style=\"color: #7f7f7f; text-decoration-color: #7f7f7f\">                </span>│<span style=\"color: #7f7f7f; text-decoration-color: #7f7f7f\"> occasionally   </span>│<span style=\"color: #7f7f7f; text-decoration-color: #7f7f7f\"> filled with the </span>│<span style=\"color: #7f7f7f; text-decoration-color: #7f7f7f\"> streaming      </span>│\n",
       "│<span style=\"color: #7f7f7f; text-decoration-color: #7f7f7f\">          </span>│<span style=\"color: #7f7f7f; text-decoration-color: #7f7f7f\">                </span>│<span style=\"color: #7f7f7f; text-decoration-color: #7f7f7f\">                </span>│<span style=\"color: #7f7f7f; text-decoration-color: #7f7f7f\">                </span>│<span style=\"color: #7f7f7f; text-decoration-color: #7f7f7f\"> glance outside </span>│<span style=\"color: #7f7f7f; text-decoration-color: #7f7f7f\"> scent of pine   </span>│<span style=\"color: #7f7f7f; text-decoration-color: #7f7f7f\"> through the    </span>│\n",
       "│<span style=\"color: #7f7f7f; text-decoration-color: #7f7f7f\">          </span>│<span style=\"color: #7f7f7f; text-decoration-color: #7f7f7f\">                </span>│<span style=\"color: #7f7f7f; text-decoration-color: #7f7f7f\">                </span>│<span style=\"color: #7f7f7f; text-decoration-color: #7f7f7f\">                </span>│<span style=\"color: #7f7f7f; text-decoration-color: #7f7f7f\"> for            </span>│<span style=\"color: #7f7f7f; text-decoration-color: #7f7f7f\"> and earth.      </span>│<span style=\"color: #7f7f7f; text-decoration-color: #7f7f7f\"> windows.       </span>│\n",
       "│<span style=\"color: #7f7f7f; text-decoration-color: #7f7f7f\">          </span>│<span style=\"color: #7f7f7f; text-decoration-color: #7f7f7f\">                </span>│<span style=\"color: #7f7f7f; text-decoration-color: #7f7f7f\">                </span>│<span style=\"color: #7f7f7f; text-decoration-color: #7f7f7f\">                </span>│<span style=\"color: #7f7f7f; text-decoration-color: #7f7f7f\"> inspiration.   </span>│<span style=\"color: #7f7f7f; text-decoration-color: #7f7f7f\">                 </span>│<span style=\"color: #7f7f7f; text-decoration-color: #7f7f7f\">                </span>│\n",
       "├──────────┼────────────────┼────────────────┼────────────────┼────────────────┼─────────────────┼────────────────┤\n",
       "│<span style=\"color: #7f7f7f; text-decoration-color: #7f7f7f\"> mechanic </span>│<span style=\"color: #7f7f7f; text-decoration-color: #7f7f7f\"> 3              </span>│<span style=\"color: #7f7f7f; text-decoration-color: #7f7f7f\"> 1              </span>│<span style=\"color: #7f7f7f; text-decoration-color: #7f7f7f\"> 3              </span>│<span style=\"color: #7f7f7f; text-decoration-color: #7f7f7f\"> My favorite    </span>│<span style=\"color: #7f7f7f; text-decoration-color: #7f7f7f\"> My favorite     </span>│<span style=\"color: #7f7f7f; text-decoration-color: #7f7f7f\"> My favorite    </span>│\n",
       "│<span style=\"color: #7f7f7f; text-decoration-color: #7f7f7f\">          </span>│<span style=\"color: #7f7f7f; text-decoration-color: #7f7f7f\">                </span>│<span style=\"color: #7f7f7f; text-decoration-color: #7f7f7f\">                </span>│<span style=\"color: #7f7f7f; text-decoration-color: #7f7f7f\">                </span>│<span style=\"color: #7f7f7f; text-decoration-color: #7f7f7f\"> place for      </span>│<span style=\"color: #7f7f7f; text-decoration-color: #7f7f7f\"> place for       </span>│<span style=\"color: #7f7f7f; text-decoration-color: #7f7f7f\"> place for      </span>│\n",
       "│<span style=\"color: #7f7f7f; text-decoration-color: #7f7f7f\">          </span>│<span style=\"color: #7f7f7f; text-decoration-color: #7f7f7f\">                </span>│<span style=\"color: #7f7f7f; text-decoration-color: #7f7f7f\">                </span>│<span style=\"color: #7f7f7f; text-decoration-color: #7f7f7f\">                </span>│<span style=\"color: #7f7f7f; text-decoration-color: #7f7f7f\"> reading is in  </span>│<span style=\"color: #7f7f7f; text-decoration-color: #7f7f7f\"> running is a    </span>│<span style=\"color: #7f7f7f; text-decoration-color: #7f7f7f\"> relaxing is my </span>│\n",
       "│<span style=\"color: #7f7f7f; text-decoration-color: #7f7f7f\">          </span>│<span style=\"color: #7f7f7f; text-decoration-color: #7f7f7f\">                </span>│<span style=\"color: #7f7f7f; text-decoration-color: #7f7f7f\">                </span>│<span style=\"color: #7f7f7f; text-decoration-color: #7f7f7f\">                </span>│<span style=\"color: #7f7f7f; text-decoration-color: #7f7f7f\"> my garage,     </span>│<span style=\"color: #7f7f7f; text-decoration-color: #7f7f7f\"> scenic trail    </span>│<span style=\"color: #7f7f7f; text-decoration-color: #7f7f7f\"> garage, where  </span>│\n",
       "│<span style=\"color: #7f7f7f; text-decoration-color: #7f7f7f\">          </span>│<span style=\"color: #7f7f7f; text-decoration-color: #7f7f7f\">                </span>│<span style=\"color: #7f7f7f; text-decoration-color: #7f7f7f\">                </span>│<span style=\"color: #7f7f7f; text-decoration-color: #7f7f7f\">                </span>│<span style=\"color: #7f7f7f; text-decoration-color: #7f7f7f\"> surrounded by  </span>│<span style=\"color: #7f7f7f; text-decoration-color: #7f7f7f\"> through the     </span>│<span style=\"color: #7f7f7f; text-decoration-color: #7f7f7f\"> I can tinker   </span>│\n",
       "│<span style=\"color: #7f7f7f; text-decoration-color: #7f7f7f\">          </span>│<span style=\"color: #7f7f7f; text-decoration-color: #7f7f7f\">                </span>│<span style=\"color: #7f7f7f; text-decoration-color: #7f7f7f\">                </span>│<span style=\"color: #7f7f7f; text-decoration-color: #7f7f7f\">                </span>│<span style=\"color: #7f7f7f; text-decoration-color: #7f7f7f\"> tools and the  </span>│<span style=\"color: #7f7f7f; text-decoration-color: #7f7f7f\"> woods, where    </span>│<span style=\"color: #7f7f7f; text-decoration-color: #7f7f7f\"> with cars and  </span>│\n",
       "│<span style=\"color: #7f7f7f; text-decoration-color: #7f7f7f\">          </span>│<span style=\"color: #7f7f7f; text-decoration-color: #7f7f7f\">                </span>│<span style=\"color: #7f7f7f; text-decoration-color: #7f7f7f\">                </span>│<span style=\"color: #7f7f7f; text-decoration-color: #7f7f7f\">                </span>│<span style=\"color: #7f7f7f; text-decoration-color: #7f7f7f\"> scent of motor </span>│<span style=\"color: #7f7f7f; text-decoration-color: #7f7f7f\"> the air is      </span>│<span style=\"color: #7f7f7f; text-decoration-color: #7f7f7f\"> unwind with    </span>│\n",
       "│<span style=\"color: #7f7f7f; text-decoration-color: #7f7f7f\">          </span>│<span style=\"color: #7f7f7f; text-decoration-color: #7f7f7f\">                </span>│<span style=\"color: #7f7f7f; text-decoration-color: #7f7f7f\">                </span>│<span style=\"color: #7f7f7f; text-decoration-color: #7f7f7f\">                </span>│<span style=\"color: #7f7f7f; text-decoration-color: #7f7f7f\"> oil, where     </span>│<span style=\"color: #7f7f7f; text-decoration-color: #7f7f7f\"> fresh and the   </span>│<span style=\"color: #7f7f7f; text-decoration-color: #7f7f7f\"> the smell of   </span>│\n",
       "│<span style=\"color: #7f7f7f; text-decoration-color: #7f7f7f\">          </span>│<span style=\"color: #7f7f7f; text-decoration-color: #7f7f7f\">                </span>│<span style=\"color: #7f7f7f; text-decoration-color: #7f7f7f\">                </span>│<span style=\"color: #7f7f7f; text-decoration-color: #7f7f7f\">                </span>│<span style=\"color: #7f7f7f; text-decoration-color: #7f7f7f\"> it's quiet and </span>│<span style=\"color: #7f7f7f; text-decoration-color: #7f7f7f\"> sounds of       </span>│<span style=\"color: #7f7f7f; text-decoration-color: #7f7f7f\"> motor oil and  </span>│\n",
       "│<span style=\"color: #7f7f7f; text-decoration-color: #7f7f7f\">          </span>│<span style=\"color: #7f7f7f; text-decoration-color: #7f7f7f\">                </span>│<span style=\"color: #7f7f7f; text-decoration-color: #7f7f7f\">                </span>│<span style=\"color: #7f7f7f; text-decoration-color: #7f7f7f\">                </span>│<span style=\"color: #7f7f7f; text-decoration-color: #7f7f7f\"> I can focus.   </span>│<span style=\"color: #7f7f7f; text-decoration-color: #7f7f7f\"> nature keep me  </span>│<span style=\"color: #7f7f7f; text-decoration-color: #7f7f7f\"> the sound of   </span>│\n",
       "│<span style=\"color: #7f7f7f; text-decoration-color: #7f7f7f\">          </span>│<span style=\"color: #7f7f7f; text-decoration-color: #7f7f7f\">                </span>│<span style=\"color: #7f7f7f; text-decoration-color: #7f7f7f\">                </span>│<span style=\"color: #7f7f7f; text-decoration-color: #7f7f7f\">                </span>│<span style=\"color: #7f7f7f; text-decoration-color: #7f7f7f\">                </span>│<span style=\"color: #7f7f7f; text-decoration-color: #7f7f7f\"> company.        </span>│<span style=\"color: #7f7f7f; text-decoration-color: #7f7f7f\"> tools.         </span>│\n",
       "├──────────┼────────────────┼────────────────┼────────────────┼────────────────┼─────────────────┼────────────────┤\n",
       "│<span style=\"color: #7f7f7f; text-decoration-color: #7f7f7f\"> sailor   </span>│<span style=\"color: #7f7f7f; text-decoration-color: #7f7f7f\"> 4              </span>│<span style=\"color: #7f7f7f; text-decoration-color: #7f7f7f\"> 3              </span>│<span style=\"color: #7f7f7f; text-decoration-color: #7f7f7f\"> 3              </span>│<span style=\"color: #7f7f7f; text-decoration-color: #7f7f7f\"> My favorite    </span>│<span style=\"color: #7f7f7f; text-decoration-color: #7f7f7f\"> My favorite     </span>│<span style=\"color: #7f7f7f; text-decoration-color: #7f7f7f\"> My favorite    </span>│\n",
       "│<span style=\"color: #7f7f7f; text-decoration-color: #7f7f7f\">          </span>│<span style=\"color: #7f7f7f; text-decoration-color: #7f7f7f\">                </span>│<span style=\"color: #7f7f7f; text-decoration-color: #7f7f7f\">                </span>│<span style=\"color: #7f7f7f; text-decoration-color: #7f7f7f\">                </span>│<span style=\"color: #7f7f7f; text-decoration-color: #7f7f7f\"> place for      </span>│<span style=\"color: #7f7f7f; text-decoration-color: #7f7f7f\"> place for       </span>│<span style=\"color: #7f7f7f; text-decoration-color: #7f7f7f\"> place for      </span>│\n",
       "│<span style=\"color: #7f7f7f; text-decoration-color: #7f7f7f\">          </span>│<span style=\"color: #7f7f7f; text-decoration-color: #7f7f7f\">                </span>│<span style=\"color: #7f7f7f; text-decoration-color: #7f7f7f\">                </span>│<span style=\"color: #7f7f7f; text-decoration-color: #7f7f7f\">                </span>│<span style=\"color: #7f7f7f; text-decoration-color: #7f7f7f\"> reading is the </span>│<span style=\"color: #7f7f7f; text-decoration-color: #7f7f7f\"> running is      </span>│<span style=\"color: #7f7f7f; text-decoration-color: #7f7f7f\"> relaxing is on </span>│\n",
       "│<span style=\"color: #7f7f7f; text-decoration-color: #7f7f7f\">          </span>│<span style=\"color: #7f7f7f; text-decoration-color: #7f7f7f\">                </span>│<span style=\"color: #7f7f7f; text-decoration-color: #7f7f7f\">                </span>│<span style=\"color: #7f7f7f; text-decoration-color: #7f7f7f\">                </span>│<span style=\"color: #7f7f7f; text-decoration-color: #7f7f7f\"> ship's deck at </span>│<span style=\"color: #7f7f7f; text-decoration-color: #7f7f7f\"> along the       </span>│<span style=\"color: #7f7f7f; text-decoration-color: #7f7f7f\"> the deck of my </span>│\n",
       "│<span style=\"color: #7f7f7f; text-decoration-color: #7f7f7f\">          </span>│<span style=\"color: #7f7f7f; text-decoration-color: #7f7f7f\">                </span>│<span style=\"color: #7f7f7f; text-decoration-color: #7f7f7f\">                </span>│<span style=\"color: #7f7f7f; text-decoration-color: #7f7f7f\">                </span>│<span style=\"color: #7f7f7f; text-decoration-color: #7f7f7f\"> dawn, with the </span>│<span style=\"color: #7f7f7f; text-decoration-color: #7f7f7f\"> rugged          </span>│<span style=\"color: #7f7f7f; text-decoration-color: #7f7f7f\"> boat, anchored </span>│\n",
       "│<span style=\"color: #7f7f7f; text-decoration-color: #7f7f7f\">          </span>│<span style=\"color: #7f7f7f; text-decoration-color: #7f7f7f\">                </span>│<span style=\"color: #7f7f7f; text-decoration-color: #7f7f7f\">                </span>│<span style=\"color: #7f7f7f; text-decoration-color: #7f7f7f\">                </span>│<span style=\"color: #7f7f7f; text-decoration-color: #7f7f7f\"> gentle rocking </span>│<span style=\"color: #7f7f7f; text-decoration-color: #7f7f7f\"> coastline at    </span>│<span style=\"color: #7f7f7f; text-decoration-color: #7f7f7f\"> in a quiet     </span>│\n",
       "│<span style=\"color: #7f7f7f; text-decoration-color: #7f7f7f\">          </span>│<span style=\"color: #7f7f7f; text-decoration-color: #7f7f7f\">                </span>│<span style=\"color: #7f7f7f; text-decoration-color: #7f7f7f\">                </span>│<span style=\"color: #7f7f7f; text-decoration-color: #7f7f7f\">                </span>│<span style=\"color: #7f7f7f; text-decoration-color: #7f7f7f\"> of the waves   </span>│<span style=\"color: #7f7f7f; text-decoration-color: #7f7f7f\"> dawn, where the </span>│<span style=\"color: #7f7f7f; text-decoration-color: #7f7f7f\"> cove with the  </span>│\n",
       "│<span style=\"color: #7f7f7f; text-decoration-color: #7f7f7f\">          </span>│<span style=\"color: #7f7f7f; text-decoration-color: #7f7f7f\">                </span>│<span style=\"color: #7f7f7f; text-decoration-color: #7f7f7f\">                </span>│<span style=\"color: #7f7f7f; text-decoration-color: #7f7f7f\">                </span>│<span style=\"color: #7f7f7f; text-decoration-color: #7f7f7f\"> and the salty  </span>│<span style=\"color: #7f7f7f; text-decoration-color: #7f7f7f\"> salty sea       </span>│<span style=\"color: #7f7f7f; text-decoration-color: #7f7f7f\"> gentle rocking </span>│\n",
       "│<span style=\"color: #7f7f7f; text-decoration-color: #7f7f7f\">          </span>│<span style=\"color: #7f7f7f; text-decoration-color: #7f7f7f\">                </span>│<span style=\"color: #7f7f7f; text-decoration-color: #7f7f7f\">                </span>│<span style=\"color: #7f7f7f; text-decoration-color: #7f7f7f\">                </span>│<span style=\"color: #7f7f7f; text-decoration-color: #7f7f7f\"> sea breeze in  </span>│<span style=\"color: #7f7f7f; text-decoration-color: #7f7f7f\"> breeze and      </span>│<span style=\"color: #7f7f7f; text-decoration-color: #7f7f7f\"> of the waves   </span>│\n",
       "│<span style=\"color: #7f7f7f; text-decoration-color: #7f7f7f\">          </span>│<span style=\"color: #7f7f7f; text-decoration-color: #7f7f7f\">                </span>│<span style=\"color: #7f7f7f; text-decoration-color: #7f7f7f\">                </span>│<span style=\"color: #7f7f7f; text-decoration-color: #7f7f7f\">                </span>│<span style=\"color: #7f7f7f; text-decoration-color: #7f7f7f\"> the air.       </span>│<span style=\"color: #7f7f7f; text-decoration-color: #7f7f7f\"> crashing waves  </span>│<span style=\"color: #7f7f7f; text-decoration-color: #7f7f7f\"> and the sound  </span>│\n",
       "│<span style=\"color: #7f7f7f; text-decoration-color: #7f7f7f\">          </span>│<span style=\"color: #7f7f7f; text-decoration-color: #7f7f7f\">                </span>│<span style=\"color: #7f7f7f; text-decoration-color: #7f7f7f\">                </span>│<span style=\"color: #7f7f7f; text-decoration-color: #7f7f7f\">                </span>│<span style=\"color: #7f7f7f; text-decoration-color: #7f7f7f\">                </span>│<span style=\"color: #7f7f7f; text-decoration-color: #7f7f7f\"> keep me         </span>│<span style=\"color: #7f7f7f; text-decoration-color: #7f7f7f\"> of the sea     </span>│\n",
       "│<span style=\"color: #7f7f7f; text-decoration-color: #7f7f7f\">          </span>│<span style=\"color: #7f7f7f; text-decoration-color: #7f7f7f\">                </span>│<span style=\"color: #7f7f7f; text-decoration-color: #7f7f7f\">                </span>│<span style=\"color: #7f7f7f; text-decoration-color: #7f7f7f\">                </span>│<span style=\"color: #7f7f7f; text-decoration-color: #7f7f7f\">                </span>│<span style=\"color: #7f7f7f; text-decoration-color: #7f7f7f\"> company.        </span>│<span style=\"color: #7f7f7f; text-decoration-color: #7f7f7f\"> around me.     </span>│\n",
       "└──────────┴────────────────┴────────────────┴────────────────┴────────────────┴─────────────────┴────────────────┘\n",
       "</pre>\n"
      ],
      "text/plain": [
       "┏━━━━━━━━━━┳━━━━━━━━━━━━━━━━┳━━━━━━━━━━━━━━━━┳━━━━━━━━━━━━━━━━┳━━━━━━━━━━━━━━━━┳━━━━━━━━━━━━━━━━━┳━━━━━━━━━━━━━━━━┓\n",
       "┃\u001b[1;35m \u001b[0m\u001b[1;35magent   \u001b[0m\u001b[1;35m \u001b[0m┃\u001b[1;35m \u001b[0m\u001b[1;35manswer        \u001b[0m\u001b[1;35m \u001b[0m┃\u001b[1;35m \u001b[0m\u001b[1;35manswer        \u001b[0m\u001b[1;35m \u001b[0m┃\u001b[1;35m \u001b[0m\u001b[1;35manswer        \u001b[0m\u001b[1;35m \u001b[0m┃\u001b[1;35m \u001b[0m\u001b[1;35manswer        \u001b[0m\u001b[1;35m \u001b[0m┃\u001b[1;35m \u001b[0m\u001b[1;35manswer         \u001b[0m\u001b[1;35m \u001b[0m┃\u001b[1;35m \u001b[0m\u001b[1;35manswer        \u001b[0m\u001b[1;35m \u001b[0m┃\n",
       "┃\u001b[1;35m \u001b[0m\u001b[1;35m.persona\u001b[0m\u001b[1;35m \u001b[0m┃\u001b[1;35m \u001b[0m\u001b[1;35m.enjoy_reading\u001b[0m\u001b[1;35m \u001b[0m┃\u001b[1;35m \u001b[0m\u001b[1;35m.enjoy_running\u001b[0m\u001b[1;35m \u001b[0m┃\u001b[1;35m \u001b[0m\u001b[1;35m.enjoy_relaxi…\u001b[0m\u001b[1;35m \u001b[0m┃\u001b[1;35m \u001b[0m\u001b[1;35m.favorite_pla…\u001b[0m\u001b[1;35m \u001b[0m┃\u001b[1;35m \u001b[0m\u001b[1;35m.favorite_plac…\u001b[0m\u001b[1;35m \u001b[0m┃\u001b[1;35m \u001b[0m\u001b[1;35m.favorite_pla…\u001b[0m\u001b[1;35m \u001b[0m┃\n",
       "┡━━━━━━━━━━╇━━━━━━━━━━━━━━━━╇━━━━━━━━━━━━━━━━╇━━━━━━━━━━━━━━━━╇━━━━━━━━━━━━━━━━╇━━━━━━━━━━━━━━━━━╇━━━━━━━━━━━━━━━━┩\n",
       "│\u001b[2m \u001b[0m\u001b[2martist  \u001b[0m\u001b[2m \u001b[0m│\u001b[2m \u001b[0m\u001b[2m4             \u001b[0m\u001b[2m \u001b[0m│\u001b[2m \u001b[0m\u001b[2m1             \u001b[0m\u001b[2m \u001b[0m│\u001b[2m \u001b[0m\u001b[2m4             \u001b[0m\u001b[2m \u001b[0m│\u001b[2m \u001b[0m\u001b[2mMy favorite   \u001b[0m\u001b[2m \u001b[0m│\u001b[2m \u001b[0m\u001b[2mMy favorite    \u001b[0m\u001b[2m \u001b[0m│\u001b[2m \u001b[0m\u001b[2mMy favorite   \u001b[0m\u001b[2m \u001b[0m│\n",
       "│\u001b[2m          \u001b[0m│\u001b[2m                \u001b[0m│\u001b[2m                \u001b[0m│\u001b[2m                \u001b[0m│\u001b[2m \u001b[0m\u001b[2mplace for     \u001b[0m\u001b[2m \u001b[0m│\u001b[2m \u001b[0m\u001b[2mplace for      \u001b[0m\u001b[2m \u001b[0m│\u001b[2m \u001b[0m\u001b[2mplace for     \u001b[0m\u001b[2m \u001b[0m│\n",
       "│\u001b[2m          \u001b[0m│\u001b[2m                \u001b[0m│\u001b[2m                \u001b[0m│\u001b[2m                \u001b[0m│\u001b[2m \u001b[0m\u001b[2mreading is a  \u001b[0m\u001b[2m \u001b[0m│\u001b[2m \u001b[0m\u001b[2mrunning is a   \u001b[0m\u001b[2m \u001b[0m│\u001b[2m \u001b[0m\u001b[2mrelaxing is a \u001b[0m\u001b[2m \u001b[0m│\n",
       "│\u001b[2m          \u001b[0m│\u001b[2m                \u001b[0m│\u001b[2m                \u001b[0m│\u001b[2m                \u001b[0m│\u001b[2m \u001b[0m\u001b[2mcozy nook by a\u001b[0m\u001b[2m \u001b[0m│\u001b[2m \u001b[0m\u001b[2mserene forest  \u001b[0m\u001b[2m \u001b[0m│\u001b[2m \u001b[0m\u001b[2mcozy nook in  \u001b[0m\u001b[2m \u001b[0m│\n",
       "│\u001b[2m          \u001b[0m│\u001b[2m                \u001b[0m│\u001b[2m                \u001b[0m│\u001b[2m                \u001b[0m│\u001b[2m \u001b[0m\u001b[2mlarge window, \u001b[0m\u001b[2m \u001b[0m│\u001b[2m \u001b[0m\u001b[2mtrail, where   \u001b[0m\u001b[2m \u001b[0m│\u001b[2m \u001b[0m\u001b[2mmy art studio,\u001b[0m\u001b[2m \u001b[0m│\n",
       "│\u001b[2m          \u001b[0m│\u001b[2m                \u001b[0m│\u001b[2m                \u001b[0m│\u001b[2m                \u001b[0m│\u001b[2m \u001b[0m\u001b[2mwhere the     \u001b[0m\u001b[2m \u001b[0m│\u001b[2m \u001b[0m\u001b[2mthe dappled    \u001b[0m\u001b[2m \u001b[0m│\u001b[2m \u001b[0m\u001b[2msurrounded by \u001b[0m\u001b[2m \u001b[0m│\n",
       "│\u001b[2m          \u001b[0m│\u001b[2m                \u001b[0m│\u001b[2m                \u001b[0m│\u001b[2m                \u001b[0m│\u001b[2m \u001b[0m\u001b[2mnatural light \u001b[0m\u001b[2m \u001b[0m│\u001b[2m \u001b[0m\u001b[2msunlight       \u001b[0m\u001b[2m \u001b[0m│\u001b[2m \u001b[0m\u001b[2mmy paintings  \u001b[0m\u001b[2m \u001b[0m│\n",
       "│\u001b[2m          \u001b[0m│\u001b[2m                \u001b[0m│\u001b[2m                \u001b[0m│\u001b[2m                \u001b[0m│\u001b[2m \u001b[0m\u001b[2milluminates   \u001b[0m\u001b[2m \u001b[0m│\u001b[2m \u001b[0m\u001b[2mfilters through\u001b[0m\u001b[2m \u001b[0m│\u001b[2m \u001b[0m\u001b[2mand the soft  \u001b[0m\u001b[2m \u001b[0m│\n",
       "│\u001b[2m          \u001b[0m│\u001b[2m                \u001b[0m│\u001b[2m                \u001b[0m│\u001b[2m                \u001b[0m│\u001b[2m \u001b[0m\u001b[2mthe pages and \u001b[0m\u001b[2m \u001b[0m│\u001b[2m \u001b[0m\u001b[2mthe leaves and \u001b[0m\u001b[2m \u001b[0m│\u001b[2m \u001b[0m\u001b[2mglow of       \u001b[0m\u001b[2m \u001b[0m│\n",
       "│\u001b[2m          \u001b[0m│\u001b[2m                \u001b[0m│\u001b[2m                \u001b[0m│\u001b[2m                \u001b[0m│\u001b[2m \u001b[0m\u001b[2mI can         \u001b[0m\u001b[2m \u001b[0m│\u001b[2m \u001b[0m\u001b[2mthe air is     \u001b[0m\u001b[2m \u001b[0m│\u001b[2m \u001b[0m\u001b[2mnatural light \u001b[0m\u001b[2m \u001b[0m│\n",
       "│\u001b[2m          \u001b[0m│\u001b[2m                \u001b[0m│\u001b[2m                \u001b[0m│\u001b[2m                \u001b[0m│\u001b[2m \u001b[0m\u001b[2moccasionally  \u001b[0m\u001b[2m \u001b[0m│\u001b[2m \u001b[0m\u001b[2mfilled with the\u001b[0m\u001b[2m \u001b[0m│\u001b[2m \u001b[0m\u001b[2mstreaming     \u001b[0m\u001b[2m \u001b[0m│\n",
       "│\u001b[2m          \u001b[0m│\u001b[2m                \u001b[0m│\u001b[2m                \u001b[0m│\u001b[2m                \u001b[0m│\u001b[2m \u001b[0m\u001b[2mglance outside\u001b[0m\u001b[2m \u001b[0m│\u001b[2m \u001b[0m\u001b[2mscent of pine  \u001b[0m\u001b[2m \u001b[0m│\u001b[2m \u001b[0m\u001b[2mthrough the   \u001b[0m\u001b[2m \u001b[0m│\n",
       "│\u001b[2m          \u001b[0m│\u001b[2m                \u001b[0m│\u001b[2m                \u001b[0m│\u001b[2m                \u001b[0m│\u001b[2m \u001b[0m\u001b[2mfor           \u001b[0m\u001b[2m \u001b[0m│\u001b[2m \u001b[0m\u001b[2mand earth.     \u001b[0m\u001b[2m \u001b[0m│\u001b[2m \u001b[0m\u001b[2mwindows.      \u001b[0m\u001b[2m \u001b[0m│\n",
       "│\u001b[2m          \u001b[0m│\u001b[2m                \u001b[0m│\u001b[2m                \u001b[0m│\u001b[2m                \u001b[0m│\u001b[2m \u001b[0m\u001b[2minspiration.  \u001b[0m\u001b[2m \u001b[0m│\u001b[2m                 \u001b[0m│\u001b[2m                \u001b[0m│\n",
       "├──────────┼────────────────┼────────────────┼────────────────┼────────────────┼─────────────────┼────────────────┤\n",
       "│\u001b[2m \u001b[0m\u001b[2mmechanic\u001b[0m\u001b[2m \u001b[0m│\u001b[2m \u001b[0m\u001b[2m3             \u001b[0m\u001b[2m \u001b[0m│\u001b[2m \u001b[0m\u001b[2m1             \u001b[0m\u001b[2m \u001b[0m│\u001b[2m \u001b[0m\u001b[2m3             \u001b[0m\u001b[2m \u001b[0m│\u001b[2m \u001b[0m\u001b[2mMy favorite   \u001b[0m\u001b[2m \u001b[0m│\u001b[2m \u001b[0m\u001b[2mMy favorite    \u001b[0m\u001b[2m \u001b[0m│\u001b[2m \u001b[0m\u001b[2mMy favorite   \u001b[0m\u001b[2m \u001b[0m│\n",
       "│\u001b[2m          \u001b[0m│\u001b[2m                \u001b[0m│\u001b[2m                \u001b[0m│\u001b[2m                \u001b[0m│\u001b[2m \u001b[0m\u001b[2mplace for     \u001b[0m\u001b[2m \u001b[0m│\u001b[2m \u001b[0m\u001b[2mplace for      \u001b[0m\u001b[2m \u001b[0m│\u001b[2m \u001b[0m\u001b[2mplace for     \u001b[0m\u001b[2m \u001b[0m│\n",
       "│\u001b[2m          \u001b[0m│\u001b[2m                \u001b[0m│\u001b[2m                \u001b[0m│\u001b[2m                \u001b[0m│\u001b[2m \u001b[0m\u001b[2mreading is in \u001b[0m\u001b[2m \u001b[0m│\u001b[2m \u001b[0m\u001b[2mrunning is a   \u001b[0m\u001b[2m \u001b[0m│\u001b[2m \u001b[0m\u001b[2mrelaxing is my\u001b[0m\u001b[2m \u001b[0m│\n",
       "│\u001b[2m          \u001b[0m│\u001b[2m                \u001b[0m│\u001b[2m                \u001b[0m│\u001b[2m                \u001b[0m│\u001b[2m \u001b[0m\u001b[2mmy garage,    \u001b[0m\u001b[2m \u001b[0m│\u001b[2m \u001b[0m\u001b[2mscenic trail   \u001b[0m\u001b[2m \u001b[0m│\u001b[2m \u001b[0m\u001b[2mgarage, where \u001b[0m\u001b[2m \u001b[0m│\n",
       "│\u001b[2m          \u001b[0m│\u001b[2m                \u001b[0m│\u001b[2m                \u001b[0m│\u001b[2m                \u001b[0m│\u001b[2m \u001b[0m\u001b[2msurrounded by \u001b[0m\u001b[2m \u001b[0m│\u001b[2m \u001b[0m\u001b[2mthrough the    \u001b[0m\u001b[2m \u001b[0m│\u001b[2m \u001b[0m\u001b[2mI can tinker  \u001b[0m\u001b[2m \u001b[0m│\n",
       "│\u001b[2m          \u001b[0m│\u001b[2m                \u001b[0m│\u001b[2m                \u001b[0m│\u001b[2m                \u001b[0m│\u001b[2m \u001b[0m\u001b[2mtools and the \u001b[0m\u001b[2m \u001b[0m│\u001b[2m \u001b[0m\u001b[2mwoods, where   \u001b[0m\u001b[2m \u001b[0m│\u001b[2m \u001b[0m\u001b[2mwith cars and \u001b[0m\u001b[2m \u001b[0m│\n",
       "│\u001b[2m          \u001b[0m│\u001b[2m                \u001b[0m│\u001b[2m                \u001b[0m│\u001b[2m                \u001b[0m│\u001b[2m \u001b[0m\u001b[2mscent of motor\u001b[0m\u001b[2m \u001b[0m│\u001b[2m \u001b[0m\u001b[2mthe air is     \u001b[0m\u001b[2m \u001b[0m│\u001b[2m \u001b[0m\u001b[2munwind with   \u001b[0m\u001b[2m \u001b[0m│\n",
       "│\u001b[2m          \u001b[0m│\u001b[2m                \u001b[0m│\u001b[2m                \u001b[0m│\u001b[2m                \u001b[0m│\u001b[2m \u001b[0m\u001b[2moil, where    \u001b[0m\u001b[2m \u001b[0m│\u001b[2m \u001b[0m\u001b[2mfresh and the  \u001b[0m\u001b[2m \u001b[0m│\u001b[2m \u001b[0m\u001b[2mthe smell of  \u001b[0m\u001b[2m \u001b[0m│\n",
       "│\u001b[2m          \u001b[0m│\u001b[2m                \u001b[0m│\u001b[2m                \u001b[0m│\u001b[2m                \u001b[0m│\u001b[2m \u001b[0m\u001b[2mit's quiet and\u001b[0m\u001b[2m \u001b[0m│\u001b[2m \u001b[0m\u001b[2msounds of      \u001b[0m\u001b[2m \u001b[0m│\u001b[2m \u001b[0m\u001b[2mmotor oil and \u001b[0m\u001b[2m \u001b[0m│\n",
       "│\u001b[2m          \u001b[0m│\u001b[2m                \u001b[0m│\u001b[2m                \u001b[0m│\u001b[2m                \u001b[0m│\u001b[2m \u001b[0m\u001b[2mI can focus.  \u001b[0m\u001b[2m \u001b[0m│\u001b[2m \u001b[0m\u001b[2mnature keep me \u001b[0m\u001b[2m \u001b[0m│\u001b[2m \u001b[0m\u001b[2mthe sound of  \u001b[0m\u001b[2m \u001b[0m│\n",
       "│\u001b[2m          \u001b[0m│\u001b[2m                \u001b[0m│\u001b[2m                \u001b[0m│\u001b[2m                \u001b[0m│\u001b[2m                \u001b[0m│\u001b[2m \u001b[0m\u001b[2mcompany.       \u001b[0m\u001b[2m \u001b[0m│\u001b[2m \u001b[0m\u001b[2mtools.        \u001b[0m\u001b[2m \u001b[0m│\n",
       "├──────────┼────────────────┼────────────────┼────────────────┼────────────────┼─────────────────┼────────────────┤\n",
       "│\u001b[2m \u001b[0m\u001b[2msailor  \u001b[0m\u001b[2m \u001b[0m│\u001b[2m \u001b[0m\u001b[2m4             \u001b[0m\u001b[2m \u001b[0m│\u001b[2m \u001b[0m\u001b[2m3             \u001b[0m\u001b[2m \u001b[0m│\u001b[2m \u001b[0m\u001b[2m3             \u001b[0m\u001b[2m \u001b[0m│\u001b[2m \u001b[0m\u001b[2mMy favorite   \u001b[0m\u001b[2m \u001b[0m│\u001b[2m \u001b[0m\u001b[2mMy favorite    \u001b[0m\u001b[2m \u001b[0m│\u001b[2m \u001b[0m\u001b[2mMy favorite   \u001b[0m\u001b[2m \u001b[0m│\n",
       "│\u001b[2m          \u001b[0m│\u001b[2m                \u001b[0m│\u001b[2m                \u001b[0m│\u001b[2m                \u001b[0m│\u001b[2m \u001b[0m\u001b[2mplace for     \u001b[0m\u001b[2m \u001b[0m│\u001b[2m \u001b[0m\u001b[2mplace for      \u001b[0m\u001b[2m \u001b[0m│\u001b[2m \u001b[0m\u001b[2mplace for     \u001b[0m\u001b[2m \u001b[0m│\n",
       "│\u001b[2m          \u001b[0m│\u001b[2m                \u001b[0m│\u001b[2m                \u001b[0m│\u001b[2m                \u001b[0m│\u001b[2m \u001b[0m\u001b[2mreading is the\u001b[0m\u001b[2m \u001b[0m│\u001b[2m \u001b[0m\u001b[2mrunning is     \u001b[0m\u001b[2m \u001b[0m│\u001b[2m \u001b[0m\u001b[2mrelaxing is on\u001b[0m\u001b[2m \u001b[0m│\n",
       "│\u001b[2m          \u001b[0m│\u001b[2m                \u001b[0m│\u001b[2m                \u001b[0m│\u001b[2m                \u001b[0m│\u001b[2m \u001b[0m\u001b[2mship's deck at\u001b[0m\u001b[2m \u001b[0m│\u001b[2m \u001b[0m\u001b[2malong the      \u001b[0m\u001b[2m \u001b[0m│\u001b[2m \u001b[0m\u001b[2mthe deck of my\u001b[0m\u001b[2m \u001b[0m│\n",
       "│\u001b[2m          \u001b[0m│\u001b[2m                \u001b[0m│\u001b[2m                \u001b[0m│\u001b[2m                \u001b[0m│\u001b[2m \u001b[0m\u001b[2mdawn, with the\u001b[0m\u001b[2m \u001b[0m│\u001b[2m \u001b[0m\u001b[2mrugged         \u001b[0m\u001b[2m \u001b[0m│\u001b[2m \u001b[0m\u001b[2mboat, anchored\u001b[0m\u001b[2m \u001b[0m│\n",
       "│\u001b[2m          \u001b[0m│\u001b[2m                \u001b[0m│\u001b[2m                \u001b[0m│\u001b[2m                \u001b[0m│\u001b[2m \u001b[0m\u001b[2mgentle rocking\u001b[0m\u001b[2m \u001b[0m│\u001b[2m \u001b[0m\u001b[2mcoastline at   \u001b[0m\u001b[2m \u001b[0m│\u001b[2m \u001b[0m\u001b[2min a quiet    \u001b[0m\u001b[2m \u001b[0m│\n",
       "│\u001b[2m          \u001b[0m│\u001b[2m                \u001b[0m│\u001b[2m                \u001b[0m│\u001b[2m                \u001b[0m│\u001b[2m \u001b[0m\u001b[2mof the waves  \u001b[0m\u001b[2m \u001b[0m│\u001b[2m \u001b[0m\u001b[2mdawn, where the\u001b[0m\u001b[2m \u001b[0m│\u001b[2m \u001b[0m\u001b[2mcove with the \u001b[0m\u001b[2m \u001b[0m│\n",
       "│\u001b[2m          \u001b[0m│\u001b[2m                \u001b[0m│\u001b[2m                \u001b[0m│\u001b[2m                \u001b[0m│\u001b[2m \u001b[0m\u001b[2mand the salty \u001b[0m\u001b[2m \u001b[0m│\u001b[2m \u001b[0m\u001b[2msalty sea      \u001b[0m\u001b[2m \u001b[0m│\u001b[2m \u001b[0m\u001b[2mgentle rocking\u001b[0m\u001b[2m \u001b[0m│\n",
       "│\u001b[2m          \u001b[0m│\u001b[2m                \u001b[0m│\u001b[2m                \u001b[0m│\u001b[2m                \u001b[0m│\u001b[2m \u001b[0m\u001b[2msea breeze in \u001b[0m\u001b[2m \u001b[0m│\u001b[2m \u001b[0m\u001b[2mbreeze and     \u001b[0m\u001b[2m \u001b[0m│\u001b[2m \u001b[0m\u001b[2mof the waves  \u001b[0m\u001b[2m \u001b[0m│\n",
       "│\u001b[2m          \u001b[0m│\u001b[2m                \u001b[0m│\u001b[2m                \u001b[0m│\u001b[2m                \u001b[0m│\u001b[2m \u001b[0m\u001b[2mthe air.      \u001b[0m\u001b[2m \u001b[0m│\u001b[2m \u001b[0m\u001b[2mcrashing waves \u001b[0m\u001b[2m \u001b[0m│\u001b[2m \u001b[0m\u001b[2mand the sound \u001b[0m\u001b[2m \u001b[0m│\n",
       "│\u001b[2m          \u001b[0m│\u001b[2m                \u001b[0m│\u001b[2m                \u001b[0m│\u001b[2m                \u001b[0m│\u001b[2m                \u001b[0m│\u001b[2m \u001b[0m\u001b[2mkeep me        \u001b[0m\u001b[2m \u001b[0m│\u001b[2m \u001b[0m\u001b[2mof the sea    \u001b[0m\u001b[2m \u001b[0m│\n",
       "│\u001b[2m          \u001b[0m│\u001b[2m                \u001b[0m│\u001b[2m                \u001b[0m│\u001b[2m                \u001b[0m│\u001b[2m                \u001b[0m│\u001b[2m \u001b[0m\u001b[2mcompany.       \u001b[0m\u001b[2m \u001b[0m│\u001b[2m \u001b[0m\u001b[2maround me.    \u001b[0m\u001b[2m \u001b[0m│\n",
       "└──────────┴────────────────┴────────────────┴────────────────┴────────────────┴─────────────────┴────────────────┘\n"
      ]
     },
     "metadata": {},
     "output_type": "display_data"
    }
   ],
   "source": [
    "(\n",
    "    results\n",
    "    .filter(\"model.model == 'gpt-4o'\")\n",
    "    .sort_by(\"persona\")\n",
    "    .select(\"persona\", \"enjoy_reading\", \"enjoy_running\", \"enjoy_relaxing\", \"favorite_place_reading\", \"favorite_place_running\", \"favorite_place_relaxing\")\n",
    "    .print(format=\"rich\")\n",
    ")"
   ]
  },
  {
   "cell_type": "markdown",
   "id": "71f74b3a-7253-4798-9638-82ac925db122",
   "metadata": {
    "editable": true,
    "slideshow": {
     "slide_type": ""
    },
    "tags": []
   },
   "source": [
    "## Exploring `Results`\n",
    "EDSL comes with [built-in methods for analyzing and visualizing survey results](https://docs.expectedparrot.com/en/latest/language_models.html). \n",
    "For example, you can call the `to_pandas` method to convert results into a dataframe:"
   ]
  },
  {
   "cell_type": "code",
   "execution_count": 30,
   "id": "1ab2cc32-015c-49bc-8e53-cc1c70f6d783",
   "metadata": {
    "editable": true,
    "slideshow": {
     "slide_type": ""
    },
    "tags": []
   },
   "outputs": [
    {
     "data": {
      "text/html": [
       "<div>\n",
       "<style scoped>\n",
       "    .dataframe tbody tr th:only-of-type {\n",
       "        vertical-align: middle;\n",
       "    }\n",
       "\n",
       "    .dataframe tbody tr th {\n",
       "        vertical-align: top;\n",
       "    }\n",
       "\n",
       "    .dataframe thead th {\n",
       "        text-align: right;\n",
       "    }\n",
       "</style>\n",
       "<table border=\"1\" class=\"dataframe\">\n",
       "  <thead>\n",
       "    <tr style=\"text-align: right;\">\n",
       "      <th></th>\n",
       "      <th>enjoy_relaxing</th>\n",
       "      <th>favorite_place_relaxing</th>\n",
       "      <th>favorite_place_reading</th>\n",
       "      <th>favorite_place_running</th>\n",
       "      <th>enjoy_running</th>\n",
       "      <th>enjoy_reading</th>\n",
       "      <th>agent_instruction</th>\n",
       "      <th>agent_name</th>\n",
       "      <th>persona</th>\n",
       "      <th>temperature</th>\n",
       "      <th>...</th>\n",
       "      <th>favorite_place_reading_comment</th>\n",
       "      <th>enjoy_running_comment</th>\n",
       "      <th>enjoy_relaxing_comment</th>\n",
       "      <th>enjoy_reading_comment</th>\n",
       "      <th>favorite_place_reading_generated_tokens</th>\n",
       "      <th>enjoy_relaxing_generated_tokens</th>\n",
       "      <th>favorite_place_relaxing_generated_tokens</th>\n",
       "      <th>favorite_place_running_generated_tokens</th>\n",
       "      <th>enjoy_reading_generated_tokens</th>\n",
       "      <th>enjoy_running_generated_tokens</th>\n",
       "    </tr>\n",
       "  </thead>\n",
       "  <tbody>\n",
       "    <tr>\n",
       "      <th>0</th>\n",
       "      <td>4</td>\n",
       "      <td>My favorite place for relaxing is a cozy nook ...</td>\n",
       "      <td>My favorite place for reading is a cozy nook b...</td>\n",
       "      <td>My favorite place for running is a serene fore...</td>\n",
       "      <td>1</td>\n",
       "      <td>4</td>\n",
       "      <td>You are answering questions as if you were a h...</td>\n",
       "      <td>Agent_1</td>\n",
       "      <td>artist</td>\n",
       "      <td>0.5</td>\n",
       "      <td>...</td>\n",
       "      <td>NaN</td>\n",
       "      <td>Running isn't really my thing; I'd much rather...</td>\n",
       "      <td>As an artist, I love finding moments of relaxa...</td>\n",
       "      <td>Reading can be incredibly inspiring and a grea...</td>\n",
       "      <td>My favorite place for reading is a cozy nook b...</td>\n",
       "      <td>4  \\nAs an artist, I love finding moments of r...</td>\n",
       "      <td>My favorite place for relaxing is a cozy nook ...</td>\n",
       "      <td>My favorite place for running is a serene fore...</td>\n",
       "      <td>4  \\nReading can be incredibly inspiring and a...</td>\n",
       "      <td>1  \\nRunning isn't really my thing; I'd much r...</td>\n",
       "    </tr>\n",
       "    <tr>\n",
       "      <th>1</th>\n",
       "      <td>5</td>\n",
       "      <td>My favorite place for relaxing is in my art st...</td>\n",
       "      <td>My heart finds solace in the hushed, sun-drenc...</td>\n",
       "      <td>My favorite place for running is the trail tha...</td>\n",
       "      <td>3</td>\n",
       "      <td>5</td>\n",
       "      <td>You are answering questions as if you were a h...</td>\n",
       "      <td>Agent_1</td>\n",
       "      <td>artist</td>\n",
       "      <td>0.5</td>\n",
       "      <td>...</td>\n",
       "      <td>NaN</td>\n",
       "      <td>Running is a great way to clear my head and ge...</td>\n",
       "      <td>Relaxing is essential for my creativity. It al...</td>\n",
       "      <td>Reading is a great way to relax and escape int...</td>\n",
       "      <td>My heart finds solace in the hushed, sun-drenc...</td>\n",
       "      <td>5\\n\\nRelaxing is essential for my creativity. ...</td>\n",
       "      <td>My favorite place for relaxing is in my art st...</td>\n",
       "      <td>My favorite place for running is the trail tha...</td>\n",
       "      <td>5\\n\\nReading is a great way to relax and escap...</td>\n",
       "      <td>3\\n\\nRunning is a great way to clear my head a...</td>\n",
       "    </tr>\n",
       "    <tr>\n",
       "      <th>2</th>\n",
       "      <td>3</td>\n",
       "      <td>My favorite place for relaxing is my garage, w...</td>\n",
       "      <td>My favorite place for reading is in my garage,...</td>\n",
       "      <td>My favorite place for running is a scenic trai...</td>\n",
       "      <td>1</td>\n",
       "      <td>3</td>\n",
       "      <td>You are answering questions as if you were a h...</td>\n",
       "      <td>Agent_2</td>\n",
       "      <td>mechanic</td>\n",
       "      <td>0.5</td>\n",
       "      <td>...</td>\n",
       "      <td>NaN</td>\n",
       "      <td>I prefer working with my hands and fixing engi...</td>\n",
       "      <td>I enjoy relaxing when I can, but I often find ...</td>\n",
       "      <td>I enjoy reading technical manuals and guides r...</td>\n",
       "      <td>My favorite place for reading is in my garage,...</td>\n",
       "      <td>3  \\nI enjoy relaxing when I can, but I often ...</td>\n",
       "      <td>My favorite place for relaxing is my garage, w...</td>\n",
       "      <td>My favorite place for running is a scenic trai...</td>\n",
       "      <td>3  \\nI enjoy reading technical manuals and gui...</td>\n",
       "      <td>1\\n\\nI prefer working with my hands and fixing...</td>\n",
       "    </tr>\n",
       "    <tr>\n",
       "      <th>3</th>\n",
       "      <td>5</td>\n",
       "      <td>My favorite place to relax is in my garage, su...</td>\n",
       "      <td>My favorite place to read is in my garage, sur...</td>\n",
       "      <td>My favorite place for running is the park near...</td>\n",
       "      <td>2</td>\n",
       "      <td>4</td>\n",
       "      <td>You are answering questions as if you were a h...</td>\n",
       "      <td>Agent_2</td>\n",
       "      <td>mechanic</td>\n",
       "      <td>0.5</td>\n",
       "      <td>...</td>\n",
       "      <td>NaN</td>\n",
       "      <td>I'm not much of a runner. I prefer to work wit...</td>\n",
       "      <td>Relaxing is essential for me to recharge and c...</td>\n",
       "      <td>I enjoy reading a lot because it allows me to ...</td>\n",
       "      <td>My favorite place to read is in my garage, sur...</td>\n",
       "      <td>5\\n\\nRelaxing is essential for me to recharge ...</td>\n",
       "      <td>My favorite place to relax is in my garage, su...</td>\n",
       "      <td>My favorite place for running is the park near...</td>\n",
       "      <td>4\\n\\nI enjoy reading a lot because it allows m...</td>\n",
       "      <td>2\\n\\nI'm not much of a runner. I prefer to wor...</td>\n",
       "    </tr>\n",
       "    <tr>\n",
       "      <th>4</th>\n",
       "      <td>3</td>\n",
       "      <td>My favorite place for relaxing is on the deck ...</td>\n",
       "      <td>My favorite place for reading is the ship's de...</td>\n",
       "      <td>My favorite place for running is along the rug...</td>\n",
       "      <td>3</td>\n",
       "      <td>4</td>\n",
       "      <td>You are answering questions as if you were a h...</td>\n",
       "      <td>Agent_3</td>\n",
       "      <td>sailor</td>\n",
       "      <td>0.5</td>\n",
       "      <td>...</td>\n",
       "      <td>NaN</td>\n",
       "      <td>Running is alright, but I much prefer the feel...</td>\n",
       "      <td>As a sailor, I enjoy relaxing when I get the c...</td>\n",
       "      <td>Reading is a great way to pass the time on lon...</td>\n",
       "      <td>My favorite place for reading is the ship's de...</td>\n",
       "      <td>3  \\nAs a sailor, I enjoy relaxing when I get ...</td>\n",
       "      <td>My favorite place for relaxing is on the deck ...</td>\n",
       "      <td>My favorite place for running is along the rug...</td>\n",
       "      <td>4  \\nReading is a great way to pass the time o...</td>\n",
       "      <td>3  \\nRunning is alright, but I much prefer the...</td>\n",
       "    </tr>\n",
       "    <tr>\n",
       "      <th>5</th>\n",
       "      <td>5</td>\n",
       "      <td>After a long day on the open seas, there's no ...</td>\n",
       "      <td>My favorite place for reading is the bow of th...</td>\n",
       "      <td>Avast there, matey! Me favorite place for runn...</td>\n",
       "      <td>5</td>\n",
       "      <td>5</td>\n",
       "      <td>You are answering questions as if you were a h...</td>\n",
       "      <td>Agent_3</td>\n",
       "      <td>sailor</td>\n",
       "      <td>0.5</td>\n",
       "      <td>...</td>\n",
       "      <td>NaN</td>\n",
       "      <td>I love the feeling of the wind in my hair and ...</td>\n",
       "      <td>I love relaxing. It's one of my favorite thing...</td>\n",
       "      <td>I love reading! It's one of my favorite ways t...</td>\n",
       "      <td>My favorite place for reading is the bow of th...</td>\n",
       "      <td>5\\n\\nI love relaxing. It's one of my favorite ...</td>\n",
       "      <td>After a long day on the open seas, there's no ...</td>\n",
       "      <td>Avast there, matey! Me favorite place for runn...</td>\n",
       "      <td>5\\n\\nI love reading! It's one of my favorite w...</td>\n",
       "      <td>5\\n\\nI love the feeling of the wind in my hair...</td>\n",
       "    </tr>\n",
       "  </tbody>\n",
       "</table>\n",
       "<p>6 rows × 82 columns</p>\n",
       "</div>"
      ],
      "text/plain": [
       "   enjoy_relaxing                            favorite_place_relaxing  \\\n",
       "0               4  My favorite place for relaxing is a cozy nook ...   \n",
       "1               5  My favorite place for relaxing is in my art st...   \n",
       "2               3  My favorite place for relaxing is my garage, w...   \n",
       "3               5  My favorite place to relax is in my garage, su...   \n",
       "4               3  My favorite place for relaxing is on the deck ...   \n",
       "5               5  After a long day on the open seas, there's no ...   \n",
       "\n",
       "                              favorite_place_reading  \\\n",
       "0  My favorite place for reading is a cozy nook b...   \n",
       "1  My heart finds solace in the hushed, sun-drenc...   \n",
       "2  My favorite place for reading is in my garage,...   \n",
       "3  My favorite place to read is in my garage, sur...   \n",
       "4  My favorite place for reading is the ship's de...   \n",
       "5  My favorite place for reading is the bow of th...   \n",
       "\n",
       "                              favorite_place_running  enjoy_running  \\\n",
       "0  My favorite place for running is a serene fore...              1   \n",
       "1  My favorite place for running is the trail tha...              3   \n",
       "2  My favorite place for running is a scenic trai...              1   \n",
       "3  My favorite place for running is the park near...              2   \n",
       "4  My favorite place for running is along the rug...              3   \n",
       "5  Avast there, matey! Me favorite place for runn...              5   \n",
       "\n",
       "   enjoy_reading                                  agent_instruction  \\\n",
       "0              4  You are answering questions as if you were a h...   \n",
       "1              5  You are answering questions as if you were a h...   \n",
       "2              3  You are answering questions as if you were a h...   \n",
       "3              4  You are answering questions as if you were a h...   \n",
       "4              4  You are answering questions as if you were a h...   \n",
       "5              5  You are answering questions as if you were a h...   \n",
       "\n",
       "  agent_name   persona  temperature  ...  favorite_place_reading_comment  \\\n",
       "0    Agent_1    artist          0.5  ...                             NaN   \n",
       "1    Agent_1    artist          0.5  ...                             NaN   \n",
       "2    Agent_2  mechanic          0.5  ...                             NaN   \n",
       "3    Agent_2  mechanic          0.5  ...                             NaN   \n",
       "4    Agent_3    sailor          0.5  ...                             NaN   \n",
       "5    Agent_3    sailor          0.5  ...                             NaN   \n",
       "\n",
       "                               enjoy_running_comment  \\\n",
       "0  Running isn't really my thing; I'd much rather...   \n",
       "1  Running is a great way to clear my head and ge...   \n",
       "2  I prefer working with my hands and fixing engi...   \n",
       "3  I'm not much of a runner. I prefer to work wit...   \n",
       "4  Running is alright, but I much prefer the feel...   \n",
       "5  I love the feeling of the wind in my hair and ...   \n",
       "\n",
       "                              enjoy_relaxing_comment  \\\n",
       "0  As an artist, I love finding moments of relaxa...   \n",
       "1  Relaxing is essential for my creativity. It al...   \n",
       "2  I enjoy relaxing when I can, but I often find ...   \n",
       "3  Relaxing is essential for me to recharge and c...   \n",
       "4  As a sailor, I enjoy relaxing when I get the c...   \n",
       "5  I love relaxing. It's one of my favorite thing...   \n",
       "\n",
       "                               enjoy_reading_comment  \\\n",
       "0  Reading can be incredibly inspiring and a grea...   \n",
       "1  Reading is a great way to relax and escape int...   \n",
       "2  I enjoy reading technical manuals and guides r...   \n",
       "3  I enjoy reading a lot because it allows me to ...   \n",
       "4  Reading is a great way to pass the time on lon...   \n",
       "5  I love reading! It's one of my favorite ways t...   \n",
       "\n",
       "             favorite_place_reading_generated_tokens  \\\n",
       "0  My favorite place for reading is a cozy nook b...   \n",
       "1  My heart finds solace in the hushed, sun-drenc...   \n",
       "2  My favorite place for reading is in my garage,...   \n",
       "3  My favorite place to read is in my garage, sur...   \n",
       "4  My favorite place for reading is the ship's de...   \n",
       "5  My favorite place for reading is the bow of th...   \n",
       "\n",
       "                     enjoy_relaxing_generated_tokens  \\\n",
       "0  4  \\nAs an artist, I love finding moments of r...   \n",
       "1  5\\n\\nRelaxing is essential for my creativity. ...   \n",
       "2  3  \\nI enjoy relaxing when I can, but I often ...   \n",
       "3  5\\n\\nRelaxing is essential for me to recharge ...   \n",
       "4  3  \\nAs a sailor, I enjoy relaxing when I get ...   \n",
       "5  5\\n\\nI love relaxing. It's one of my favorite ...   \n",
       "\n",
       "            favorite_place_relaxing_generated_tokens  \\\n",
       "0  My favorite place for relaxing is a cozy nook ...   \n",
       "1  My favorite place for relaxing is in my art st...   \n",
       "2  My favorite place for relaxing is my garage, w...   \n",
       "3  My favorite place to relax is in my garage, su...   \n",
       "4  My favorite place for relaxing is on the deck ...   \n",
       "5  After a long day on the open seas, there's no ...   \n",
       "\n",
       "             favorite_place_running_generated_tokens  \\\n",
       "0  My favorite place for running is a serene fore...   \n",
       "1  My favorite place for running is the trail tha...   \n",
       "2  My favorite place for running is a scenic trai...   \n",
       "3  My favorite place for running is the park near...   \n",
       "4  My favorite place for running is along the rug...   \n",
       "5  Avast there, matey! Me favorite place for runn...   \n",
       "\n",
       "                      enjoy_reading_generated_tokens  \\\n",
       "0  4  \\nReading can be incredibly inspiring and a...   \n",
       "1  5\\n\\nReading is a great way to relax and escap...   \n",
       "2  3  \\nI enjoy reading technical manuals and gui...   \n",
       "3  4\\n\\nI enjoy reading a lot because it allows m...   \n",
       "4  4  \\nReading is a great way to pass the time o...   \n",
       "5  5\\n\\nI love reading! It's one of my favorite w...   \n",
       "\n",
       "                      enjoy_running_generated_tokens  \n",
       "0  1  \\nRunning isn't really my thing; I'd much r...  \n",
       "1  3\\n\\nRunning is a great way to clear my head a...  \n",
       "2  1\\n\\nI prefer working with my hands and fixing...  \n",
       "3  2\\n\\nI'm not much of a runner. I prefer to wor...  \n",
       "4  3  \\nRunning is alright, but I much prefer the...  \n",
       "5  5\\n\\nI love the feeling of the wind in my hair...  \n",
       "\n",
       "[6 rows x 82 columns]"
      ]
     },
     "execution_count": 30,
     "metadata": {},
     "output_type": "execute_result"
    }
   ],
   "source": [
    "df = results.to_pandas(remove_prefix=True)\n",
    "df"
   ]
  },
  {
   "cell_type": "markdown",
   "id": "5e783239-1b4c-44d2-8f1f-ef56a62bd25c",
   "metadata": {
    "editable": true,
    "slideshow": {
     "slide_type": ""
    },
    "tags": []
   },
   "source": [
    "The `Results` object also supports SQL-like queries with the the `sql` method:"
   ]
  },
  {
   "cell_type": "code",
   "execution_count": 31,
   "id": "8bdca6c4-0ef6-4daa-ae4f-8b9bdd4a9043",
   "metadata": {
    "editable": true,
    "slideshow": {
     "slide_type": ""
    },
    "tags": []
   },
   "outputs": [
    {
     "data": {
      "text/html": [
       "<div>\n",
       "<style scoped>\n",
       "    .dataframe tbody tr th:only-of-type {\n",
       "        vertical-align: middle;\n",
       "    }\n",
       "\n",
       "    .dataframe tbody tr th {\n",
       "        vertical-align: top;\n",
       "    }\n",
       "\n",
       "    .dataframe thead th {\n",
       "        text-align: right;\n",
       "    }\n",
       "</style>\n",
       "<table border=\"1\" class=\"dataframe\">\n",
       "  <thead>\n",
       "    <tr style=\"text-align: right;\">\n",
       "      <th></th>\n",
       "      <th>model</th>\n",
       "      <th>persona</th>\n",
       "      <th>enjoy_reading</th>\n",
       "      <th>favorite_place_reading</th>\n",
       "    </tr>\n",
       "  </thead>\n",
       "  <tbody>\n",
       "    <tr>\n",
       "      <th>0</th>\n",
       "      <td>gemini-pro</td>\n",
       "      <td>artist</td>\n",
       "      <td>5</td>\n",
       "      <td>My heart finds solace in the hushed, sun-drenc...</td>\n",
       "    </tr>\n",
       "    <tr>\n",
       "      <th>1</th>\n",
       "      <td>gemini-pro</td>\n",
       "      <td>mechanic</td>\n",
       "      <td>4</td>\n",
       "      <td>My favorite place to read is in my garage, sur...</td>\n",
       "    </tr>\n",
       "    <tr>\n",
       "      <th>2</th>\n",
       "      <td>gemini-pro</td>\n",
       "      <td>sailor</td>\n",
       "      <td>5</td>\n",
       "      <td>My favorite place for reading is the bow of th...</td>\n",
       "    </tr>\n",
       "    <tr>\n",
       "      <th>3</th>\n",
       "      <td>gpt-4o</td>\n",
       "      <td>artist</td>\n",
       "      <td>4</td>\n",
       "      <td>My favorite place for reading is a cozy nook b...</td>\n",
       "    </tr>\n",
       "    <tr>\n",
       "      <th>4</th>\n",
       "      <td>gpt-4o</td>\n",
       "      <td>mechanic</td>\n",
       "      <td>3</td>\n",
       "      <td>My favorite place for reading is in my garage,...</td>\n",
       "    </tr>\n",
       "    <tr>\n",
       "      <th>5</th>\n",
       "      <td>gpt-4o</td>\n",
       "      <td>sailor</td>\n",
       "      <td>4</td>\n",
       "      <td>My favorite place for reading is the ship's de...</td>\n",
       "    </tr>\n",
       "  </tbody>\n",
       "</table>\n",
       "</div>"
      ],
      "text/plain": [
       "        model   persona  enjoy_reading  \\\n",
       "0  gemini-pro    artist              5   \n",
       "1  gemini-pro  mechanic              4   \n",
       "2  gemini-pro    sailor              5   \n",
       "3      gpt-4o    artist              4   \n",
       "4      gpt-4o  mechanic              3   \n",
       "5      gpt-4o    sailor              4   \n",
       "\n",
       "                              favorite_place_reading  \n",
       "0  My heart finds solace in the hushed, sun-drenc...  \n",
       "1  My favorite place to read is in my garage, sur...  \n",
       "2  My favorite place for reading is the bow of th...  \n",
       "3  My favorite place for reading is a cozy nook b...  \n",
       "4  My favorite place for reading is in my garage,...  \n",
       "5  My favorite place for reading is the ship's de...  "
      ]
     },
     "execution_count": 31,
     "metadata": {},
     "output_type": "execute_result"
    }
   ],
   "source": [
    "results.sql(\"\"\"\n",
    "select model, persona, enjoy_reading, favorite_place_reading\n",
    "from self\n",
    "order by 1,2,3\n",
    "\"\"\", shape=\"wide\")"
   ]
  },
  {
   "cell_type": "markdown",
   "id": "e526c294-d9f9-43a1-bc9a-16c635c5f2df",
   "metadata": {
    "editable": true,
    "slideshow": {
     "slide_type": ""
    },
    "tags": []
   },
   "source": [
    "## Posting to the Coop\n",
    "The [Coop](https://www.expectedparrot.com/explore) is a platform for creating, storing and sharing LLM-based research.\n",
    "It is fully integrated with EDSL and accessible from your workspace or Coop account page.\n",
    "Learn more about [creating an account](https://www.expectedparrot.com/login) and [using the Coop](https://docs.expectedparrot.com/en/latest/coop.html).\n",
    "\n",
    "We can post any EDSL object to the Coop by call the `push` method on it, optionally passing a `description` and `visibility` status:"
   ]
  },
  {
   "cell_type": "code",
   "execution_count": 32,
   "id": "a6f9233b-5ddc-4850-8ec9-6dd2d6647ecc",
   "metadata": {
    "editable": true,
    "slideshow": {
     "slide_type": ""
    },
    "tags": [
     "skip-execution"
    ]
   },
   "outputs": [
    {
     "data": {
      "text/plain": [
       "{'description': 'Starter tutorial sample survey results',\n",
       " 'object_type': 'results',\n",
       " 'url': 'https://www.expectedparrot.com/content/c7001765-a312-4db4-9838-8e783a376039',\n",
       " 'uuid': 'c7001765-a312-4db4-9838-8e783a376039',\n",
       " 'version': '0.1.33.dev1',\n",
       " 'visibility': 'public'}"
      ]
     },
     "execution_count": 32,
     "metadata": {},
     "output_type": "execute_result"
    }
   ],
   "source": [
    "results.push(description = \"Starter tutorial sample survey results\", visibility=\"public\")"
   ]
  },
  {
   "cell_type": "markdown",
   "id": "f8002060-2836-4fdd-bfa4-9d011fd84de8",
   "metadata": {
    "editable": true,
    "slideshow": {
     "slide_type": ""
    },
    "tags": []
   },
   "source": [
    "We can also post this notebook:"
   ]
  },
  {
   "cell_type": "code",
   "execution_count": 33,
   "id": "257c7a6e-a7e8-4b15-9936-afa18c623b21",
   "metadata": {
    "editable": true,
    "slideshow": {
     "slide_type": ""
    },
    "tags": [
     "skip-execution"
    ]
   },
   "outputs": [
    {
     "data": {
      "text/plain": [
       "{'description': 'Starter Tutorial',\n",
       " 'object_type': 'notebook',\n",
       " 'url': 'https://www.expectedparrot.com/content/2d0c7905-933c-441a-8203-741d9dd942c9',\n",
       " 'uuid': '2d0c7905-933c-441a-8203-741d9dd942c9',\n",
       " 'version': '0.1.33.dev1',\n",
       " 'visibility': 'public'}"
      ]
     },
     "execution_count": 33,
     "metadata": {},
     "output_type": "execute_result"
    }
   ],
   "source": [
    "from edsl import Notebook\n",
    "\n",
    "notebook = Notebook(path=\"starter_tutorial.ipynb\")\n",
    "\n",
    "notebook.push(description=\"Starter Tutorial\", visibility=\"public\")"
   ]
  },
  {
   "cell_type": "markdown",
   "id": "67e90364-e9f3-483d-b301-4ab5178dd151",
   "metadata": {},
   "source": [
    "To update an object:"
   ]
  },
  {
   "cell_type": "code",
   "execution_count": 35,
   "id": "ec894b67-3433-4912-9060-56993a2549d1",
   "metadata": {
    "editable": true,
    "slideshow": {
     "slide_type": ""
    },
    "tags": [
     "skip-execution"
    ]
   },
   "outputs": [
    {
     "data": {
      "text/plain": [
       "{'status': 'success'}"
      ]
     },
     "execution_count": 35,
     "metadata": {},
     "output_type": "execute_result"
    }
   ],
   "source": [
    "notebook = Notebook(path=\"starter_tutorial.ipynb\") # resave\n",
    "\n",
    "notebook.patch(uuid = \"2d0c7905-933c-441a-8203-741d9dd942c9\", value = notebook)"
   ]
  }
 ],
 "metadata": {
  "kernelspec": {
   "display_name": "Python 3 (ipykernel)",
   "language": "python",
   "name": "python3"
  },
  "language_info": {
   "codemirror_mode": {
    "name": "ipython",
    "version": 3
   },
   "file_extension": ".py",
   "mimetype": "text/x-python",
   "name": "python",
   "nbconvert_exporter": "python",
   "pygments_lexer": "ipython3",
   "version": "3.11.7"
  }
 },
 "nbformat": 4,
 "nbformat_minor": 5
}
