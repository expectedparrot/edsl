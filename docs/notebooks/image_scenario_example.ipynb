{
 "cells": [
  {
   "cell_type": "markdown",
   "id": "aa798e31-fc1e-49ee-bf76-530f37d44c58",
   "metadata": {},
   "source": [
    "# Using images in a survey\n",
    "This notebook provides sample code for using images with an [EDSL](https://docs.expectedparrot.com/) survey.\n",
    "\n",
    "[EDSL is an open-source library](https://github.com/expectedparrot/edsl) for simulating surveys, experiments and other research with AI agents and large language models. \n",
    "Before running the code below, please ensure that you have [installed the EDSL library](https://docs.expectedparrot.com/en/latest/installation.html) and either [activated remote inference](https://docs.expectedparrot.com/en/latest/remote_inference.html) from your [Coop account](https://docs.expectedparrot.com/en/latest/coop.html) or [stored API keys](https://docs.expectedparrot.com/en/latest/api_keys.html) for the language models that you want to use with EDSL. Please also see our [documentation page](https://docs.expectedparrot.com/) for tips and tutorials on getting started using EDSL."
   ]
  },
  {
   "cell_type": "markdown",
   "id": "8d24a5ef-82f6-443d-8b95-43fbe367fe1f",
   "metadata": {},
   "source": [
    "## Scenarios\n",
    "A `Scenario` is a dictionary containing a key/value pair that is used to add data or content to questions in an EDSL survey.\n",
    "Scenarios allow you create variations and versions of questions efficiently, and with data or content from different sources.\n",
    "\n",
    "EDSL provides a variety of methods for automatically generating scenarios from PDFs, CSVs, docs, tables, lists, dicts -- and images.\n",
    "In the steps below we demonstrate how to create a scenario for an image and use it in a survey.\n",
    "\n",
    "[Learn more about working with scenarios](https://docs.expectedparrot.com/en/latest/scenarios.html)."
   ]
  },
  {
   "cell_type": "markdown",
   "id": "74273054-d350-48c5-8c52-fb19acd45530",
   "metadata": {},
   "source": [
    "### Creating a scenario\n",
    "We start by creating a `Scenario` for an image.\n",
    "For purposes of demonstration, we post a PNG image to the Coop, and then retrieve it as a scenario (this can be done by [any user with a Coop account](https://www.expectedparrot.com/login)).\n",
    "\n",
    "Code for posting a PNG file to the Coop (uncomment and replace with your own file):"
   ]
  },
  {
   "cell_type": "code",
   "execution_count": 1,
   "id": "fe5e746e-d0ee-495a-a233-93855953452e",
   "metadata": {},
   "outputs": [],
   "source": [
    "# from edsl.scenarios.FileStore import PNGFileStore\n",
    "# fs = PNGFileStore(\"parrot_logo.png\")\n",
    "# info = fs.push()\n",
    "# print(info)"
   ]
  },
  {
   "cell_type": "markdown",
   "id": "f30809fd-ef5c-48d2-835b-5435100b3a7d",
   "metadata": {},
   "source": [
    "Retrieving a Coop file to use as a scenario (replace with the UUID of a desired object):"
   ]
  },
  {
   "cell_type": "code",
   "execution_count": 2,
   "id": "2a2380a9-0712-4ce9-8390-a1d8ec396bd1",
   "metadata": {},
   "outputs": [],
   "source": [
    "from edsl.scenarios.FileStore import PNGFileStore"
   ]
  },
  {
   "cell_type": "code",
   "execution_count": 3,
   "id": "1f89b60a-bdb4-45b0-9c19-ad1e975cdd5d",
   "metadata": {},
   "outputs": [],
   "source": [
    "png_file = PNGFileStore.pull(\"e9edda74-d493-42df-92bc-34bf49c6d1bf\", expected_parrot_url=\"https://www.expectedparrot.com\")"
   ]
  },
  {
   "cell_type": "markdown",
   "id": "136842bd-757d-409b-a2e6-6805f4447fd1",
   "metadata": {},
   "source": [
    "Converting the retrieved file into a scenario:"
   ]
  },
  {
   "cell_type": "code",
   "execution_count": 4,
   "id": "bfcf703c-7440-4e16-ad91-1def92256962",
   "metadata": {},
   "outputs": [],
   "source": [
    "from edsl import Scenario"
   ]
  },
  {
   "cell_type": "code",
   "execution_count": 5,
   "id": "3cb195af-740c-432b-9fda-f8646b0e295e",
   "metadata": {},
   "outputs": [],
   "source": [
    "s = Scenario.from_image(png_file.to_tempfile(), \"parrot_logo\")"
   ]
  },
  {
   "cell_type": "markdown",
   "id": "93713732-bf8b-465d-85ad-64b41c5a0cfb",
   "metadata": {},
   "source": [
    "Alternative method for creating a scenario from a local file:"
   ]
  },
  {
   "cell_type": "code",
   "execution_count": 6,
   "id": "67285b06-6222-41d8-ac6b-0b6f338bb0f7",
   "metadata": {},
   "outputs": [],
   "source": [
    "# s = Scenario.from_image(\"parrot_logo.png\", \"parrot_logo\")"
   ]
  },
  {
   "cell_type": "markdown",
   "id": "aa90e27a-6ad9-4076-bbe5-884a8a5c3495",
   "metadata": {},
   "source": [
    "Verify the scenario keys to use in questions:"
   ]
  },
  {
   "cell_type": "code",
   "execution_count": 7,
   "id": "feef15a7-9d8e-47e8-ba2f-ae2b2e41c0fe",
   "metadata": {},
   "outputs": [
    {
     "data": {
      "text/plain": [
       "['parrot_logo']"
      ]
     },
     "execution_count": 7,
     "metadata": {},
     "output_type": "execute_result"
    }
   ],
   "source": [
    "s.keys()"
   ]
  },
  {
   "cell_type": "markdown",
   "id": "3d104331-e6ab-44bf-b39a-a07d4826795b",
   "metadata": {},
   "source": [
    "## Creating questions using the image\n",
    "Next we construct questions with the image scenario.\n",
    "Note that we use a `{{ placeholder }}` for the scenario key.\n",
    "We also demonstrate how to pipe an answer into a follow-on question:"
   ]
  },
  {
   "cell_type": "code",
   "execution_count": 8,
   "id": "ba35b5cd-23b7-4259-b571-666aea99ec21",
   "metadata": {},
   "outputs": [],
   "source": [
    "from edsl import QuestionYesNo, QuestionFreeText, QuestionList, Survey"
   ]
  },
  {
   "cell_type": "code",
   "execution_count": 9,
   "id": "c345c14c-d688-43c8-8574-600d62433d85",
   "metadata": {},
   "outputs": [],
   "source": [
    "q1 = QuestionYesNo(\n",
    "    question_name = \"animal\",\n",
    "    question_text = \"Is there an animal in this image? {{ parrot_logo }}\"\n",
    ")"
   ]
  },
  {
   "cell_type": "code",
   "execution_count": 10,
   "id": "3cc43621-13f3-4588-b1ef-ec470794a5df",
   "metadata": {},
   "outputs": [],
   "source": [
    "q2 = QuestionFreeText(\n",
    "    question_name = \"identify\",\n",
    "    question_text = \"Identify the animal in this image: {{ parrot_logo }}\"\n",
    ")"
   ]
  },
  {
   "cell_type": "code",
   "execution_count": 11,
   "id": "950c557d-6ba6-408d-b2e7-be7cf3c858df",
   "metadata": {},
   "outputs": [],
   "source": [
    "q3 = QuestionList(\n",
    "    question_name = \"colors\",\n",
    "    question_text = \"What color(s) is the animal?\", \n",
    ")"
   ]
  },
  {
   "cell_type": "code",
   "execution_count": 12,
   "id": "0f7f0c3d-0a6f-4f68-a357-b302f6807b8d",
   "metadata": {},
   "outputs": [],
   "source": [
    "survey = Survey(questions = [q1, q2, q3])"
   ]
  },
  {
   "cell_type": "markdown",
   "id": "34cb623e-dccb-41cb-9549-65bdc0ef2576",
   "metadata": {},
   "source": [
    "Adding logic and rules for adminitering the questions:"
   ]
  },
  {
   "cell_type": "code",
   "execution_count": 13,
   "id": "736bc61b-7254-4f65-8740-5fbf3d3497c4",
   "metadata": {},
   "outputs": [],
   "source": [
    "survey = (\n",
    "    survey\n",
    "    .add_stop_rule(q1, \"animal == 'No'\")\n",
    "    .add_targeted_memory(q3, q2)\n",
    ")"
   ]
  },
  {
   "cell_type": "markdown",
   "id": "4ac7c7d4-ea0c-4a00-9c52-8bbaec110d64",
   "metadata": {},
   "source": [
    "We use the scenario by adding it to the survey when we run it, as with any other scenarios:"
   ]
  },
  {
   "cell_type": "code",
   "execution_count": 14,
   "id": "d5e4a37a-90f5-4b24-8211-c23d8cb68926",
   "metadata": {},
   "outputs": [],
   "source": [
    "results = survey.by(s).run()"
   ]
  },
  {
   "cell_type": "code",
   "execution_count": 15,
   "id": "acdf9eb5-ebf2-4ea1-991a-8bd69230ea0f",
   "metadata": {},
   "outputs": [
    {
     "data": {
      "text/html": [
       "<pre style=\"white-space:pre;overflow-x:auto;line-height:normal;font-family:Menlo,'DejaVu Sans Mono',consolas,'Courier New',monospace\">┏━━━━━━━━━┳━━━━━━━━━━━━━━━━━━━━━━━━━━━━━━━━━━┳━━━━━━━━━━━━━━━━━━━━━━━━━━━━━━━━━━┳━━━━━━━━━━━━━━━━━━━━━━━━━━━━━━━━━┓\n",
       "┃<span style=\"color: #800080; text-decoration-color: #800080; font-weight: bold\"> answer  </span>┃<span style=\"color: #800080; text-decoration-color: #800080; font-weight: bold\"> answer                           </span>┃<span style=\"color: #800080; text-decoration-color: #800080; font-weight: bold\"> answer                           </span>┃<span style=\"color: #800080; text-decoration-color: #800080; font-weight: bold\"> comment                         </span>┃\n",
       "┃<span style=\"color: #800080; text-decoration-color: #800080; font-weight: bold\"> .animal </span>┃<span style=\"color: #800080; text-decoration-color: #800080; font-weight: bold\"> .identify                        </span>┃<span style=\"color: #800080; text-decoration-color: #800080; font-weight: bold\"> .colors                          </span>┃<span style=\"color: #800080; text-decoration-color: #800080; font-weight: bold\"> .colors_comment                 </span>┃\n",
       "┡━━━━━━━━━╇━━━━━━━━━━━━━━━━━━━━━━━━━━━━━━━━━━╇━━━━━━━━━━━━━━━━━━━━━━━━━━━━━━━━━━╇━━━━━━━━━━━━━━━━━━━━━━━━━━━━━━━━━┩\n",
       "│<span style=\"color: #7f7f7f; text-decoration-color: #7f7f7f\"> Yes     </span>│<span style=\"color: #7f7f7f; text-decoration-color: #7f7f7f\"> The animal in the image is a     </span>│<span style=\"color: #7f7f7f; text-decoration-color: #7f7f7f\"> ['green', 'red', 'blue',         </span>│<span style=\"color: #7f7f7f; text-decoration-color: #7f7f7f\"> Comment: Parrots are often      </span>│\n",
       "│<span style=\"color: #7f7f7f; text-decoration-color: #7f7f7f\">         </span>│<span style=\"color: #7f7f7f; text-decoration-color: #7f7f7f\"> parrot.                          </span>│<span style=\"color: #7f7f7f; text-decoration-color: #7f7f7f\"> 'yellow']                        </span>│<span style=\"color: #7f7f7f; text-decoration-color: #7f7f7f\"> brightly colored, and the most  </span>│\n",
       "│<span style=\"color: #7f7f7f; text-decoration-color: #7f7f7f\">         </span>│<span style=\"color: #7f7f7f; text-decoration-color: #7f7f7f\">                                  </span>│<span style=\"color: #7f7f7f; text-decoration-color: #7f7f7f\">                                  </span>│<span style=\"color: #7f7f7f; text-decoration-color: #7f7f7f\"> common colors for many parrot   </span>│\n",
       "│<span style=\"color: #7f7f7f; text-decoration-color: #7f7f7f\">         </span>│<span style=\"color: #7f7f7f; text-decoration-color: #7f7f7f\">                                  </span>│<span style=\"color: #7f7f7f; text-decoration-color: #7f7f7f\">                                  </span>│<span style=\"color: #7f7f7f; text-decoration-color: #7f7f7f\"> species include green, red,     </span>│\n",
       "│<span style=\"color: #7f7f7f; text-decoration-color: #7f7f7f\">         </span>│<span style=\"color: #7f7f7f; text-decoration-color: #7f7f7f\">                                  </span>│<span style=\"color: #7f7f7f; text-decoration-color: #7f7f7f\">                                  </span>│<span style=\"color: #7f7f7f; text-decoration-color: #7f7f7f\"> blue, and yellow.               </span>│\n",
       "└─────────┴──────────────────────────────────┴──────────────────────────────────┴─────────────────────────────────┘\n",
       "</pre>\n"
      ],
      "text/plain": [
       "┏━━━━━━━━━┳━━━━━━━━━━━━━━━━━━━━━━━━━━━━━━━━━━┳━━━━━━━━━━━━━━━━━━━━━━━━━━━━━━━━━━┳━━━━━━━━━━━━━━━━━━━━━━━━━━━━━━━━━┓\n",
       "┃\u001b[1;35m \u001b[0m\u001b[1;35manswer \u001b[0m\u001b[1;35m \u001b[0m┃\u001b[1;35m \u001b[0m\u001b[1;35manswer                          \u001b[0m\u001b[1;35m \u001b[0m┃\u001b[1;35m \u001b[0m\u001b[1;35manswer                          \u001b[0m\u001b[1;35m \u001b[0m┃\u001b[1;35m \u001b[0m\u001b[1;35mcomment                        \u001b[0m\u001b[1;35m \u001b[0m┃\n",
       "┃\u001b[1;35m \u001b[0m\u001b[1;35m.animal\u001b[0m\u001b[1;35m \u001b[0m┃\u001b[1;35m \u001b[0m\u001b[1;35m.identify                       \u001b[0m\u001b[1;35m \u001b[0m┃\u001b[1;35m \u001b[0m\u001b[1;35m.colors                         \u001b[0m\u001b[1;35m \u001b[0m┃\u001b[1;35m \u001b[0m\u001b[1;35m.colors_comment                \u001b[0m\u001b[1;35m \u001b[0m┃\n",
       "┡━━━━━━━━━╇━━━━━━━━━━━━━━━━━━━━━━━━━━━━━━━━━━╇━━━━━━━━━━━━━━━━━━━━━━━━━━━━━━━━━━╇━━━━━━━━━━━━━━━━━━━━━━━━━━━━━━━━━┩\n",
       "│\u001b[2m \u001b[0m\u001b[2mYes    \u001b[0m\u001b[2m \u001b[0m│\u001b[2m \u001b[0m\u001b[2mThe animal in the image is a    \u001b[0m\u001b[2m \u001b[0m│\u001b[2m \u001b[0m\u001b[2m['green', 'red', 'blue',        \u001b[0m\u001b[2m \u001b[0m│\u001b[2m \u001b[0m\u001b[2mComment: Parrots are often     \u001b[0m\u001b[2m \u001b[0m│\n",
       "│\u001b[2m         \u001b[0m│\u001b[2m \u001b[0m\u001b[2mparrot.                         \u001b[0m\u001b[2m \u001b[0m│\u001b[2m \u001b[0m\u001b[2m'yellow']                       \u001b[0m\u001b[2m \u001b[0m│\u001b[2m \u001b[0m\u001b[2mbrightly colored, and the most \u001b[0m\u001b[2m \u001b[0m│\n",
       "│\u001b[2m         \u001b[0m│\u001b[2m                                  \u001b[0m│\u001b[2m                                  \u001b[0m│\u001b[2m \u001b[0m\u001b[2mcommon colors for many parrot  \u001b[0m\u001b[2m \u001b[0m│\n",
       "│\u001b[2m         \u001b[0m│\u001b[2m                                  \u001b[0m│\u001b[2m                                  \u001b[0m│\u001b[2m \u001b[0m\u001b[2mspecies include green, red,    \u001b[0m\u001b[2m \u001b[0m│\n",
       "│\u001b[2m         \u001b[0m│\u001b[2m                                  \u001b[0m│\u001b[2m                                  \u001b[0m│\u001b[2m \u001b[0m\u001b[2mblue, and yellow.              \u001b[0m\u001b[2m \u001b[0m│\n",
       "└─────────┴──────────────────────────────────┴──────────────────────────────────┴─────────────────────────────────┘\n"
      ]
     },
     "metadata": {},
     "output_type": "display_data"
    }
   ],
   "source": [
    "results.select(\"animal\", \"identify\", \"colors\", \"colors_comment\").print(format=\"rich\")"
   ]
  },
  {
   "cell_type": "code",
   "execution_count": 16,
   "id": "de22063a-6430-4142-bf89-88221ed9bef6",
   "metadata": {
    "editable": true,
    "slideshow": {
     "slide_type": ""
    },
    "tags": [
     "skip-execution"
    ]
   },
   "outputs": [],
   "source": [
    "from edsl import Notebook"
   ]
  },
  {
   "cell_type": "code",
   "execution_count": 17,
   "id": "3f9caf2f-4e27-4e97-ab2a-ac37f735a3e9",
   "metadata": {
    "editable": true,
    "slideshow": {
     "slide_type": ""
    },
    "tags": [
     "skip-execution"
    ]
   },
   "outputs": [],
   "source": [
    "n = Notebook(path = \"image_scenario_example.ipynb\")"
   ]
  },
  {
   "cell_type": "code",
   "execution_count": 18,
   "id": "a434808e-26fd-49c4-80d7-c07aceaf6d6d",
   "metadata": {
    "editable": true,
    "slideshow": {
     "slide_type": ""
    },
    "tags": [
     "skip-execution"
    ]
   },
   "outputs": [
    {
     "data": {
      "text/plain": [
       "{'description': 'Using an image scenario',\n",
       " 'object_type': 'notebook',\n",
       " 'url': 'https://www.expectedparrot.com/content/50a000c8-d48c-49d6-a11b-2e13ad2e5c69',\n",
       " 'uuid': '50a000c8-d48c-49d6-a11b-2e13ad2e5c69',\n",
       " 'version': '0.1.33.dev1',\n",
       " 'visibility': 'public'}"
      ]
     },
     "execution_count": 18,
     "metadata": {},
     "output_type": "execute_result"
    }
   ],
   "source": [
    "n.push(description = \"Using an image scenario\", visibility = \"public\")"
   ]
  },
  {
   "cell_type": "code",
   "execution_count": 19,
   "id": "d9ad14cb-e75c-46e0-9082-ee0f668f8520",
   "metadata": {
    "editable": true,
    "slideshow": {
     "slide_type": ""
    },
    "tags": [
     "skip-execution"
    ]
   },
   "outputs": [],
   "source": [
    "n = Notebook(path = \"image_scenario_example.ipynb\")"
   ]
  },
  {
   "cell_type": "code",
   "execution_count": 20,
   "id": "8fafe297-25e2-47b4-b716-9a910bf3b067",
   "metadata": {
    "editable": true,
    "slideshow": {
     "slide_type": ""
    },
    "tags": [
     "skip-execution"
    ]
   },
   "outputs": [
    {
     "data": {
      "text/plain": [
       "{'status': 'success'}"
      ]
     },
     "execution_count": 20,
     "metadata": {},
     "output_type": "execute_result"
    }
   ],
   "source": [
    "n.patch(uuid = \"50a000c8-d48c-49d6-a11b-2e13ad2e5c69\", value = n)"
   ]
  }
 ],
 "metadata": {
  "kernelspec": {
   "display_name": "Python 3 (ipykernel)",
   "language": "python",
   "name": "python3"
  },
  "language_info": {
   "codemirror_mode": {
    "name": "ipython",
    "version": 3
   },
   "file_extension": ".py",
   "mimetype": "text/x-python",
   "name": "python",
   "nbconvert_exporter": "python",
   "pygments_lexer": "ipython3",
   "version": "3.11.7"
  }
 },
 "nbformat": 4,
 "nbformat_minor": 5
}
