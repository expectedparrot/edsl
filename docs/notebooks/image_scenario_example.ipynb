{
 "cells": [
  {
   "cell_type": "markdown",
   "id": "aa798e31-fc1e-49ee-bf76-530f37d44c58",
   "metadata": {
    "editable": true,
    "slideshow": {
     "slide_type": ""
    },
    "tags": []
   },
   "source": [
    "# Using images in a survey\n",
    "This notebook provides sample code for using images with an [EDSL](https://docs.expectedparrot.com/) survey.\n",
    "\n",
    "[EDSL is an open-source library](https://github.com/expectedparrot/edsl) for simulating surveys, experiments and other research with AI agents and large language models. \n",
    "Before running the code below, please ensure that you have [installed the EDSL library](https://docs.expectedparrot.com/en/latest/installation.html) and either [activated remote inference](https://docs.expectedparrot.com/en/latest/remote_inference.html) from your [Coop account](https://docs.expectedparrot.com/en/latest/coop.html) or [stored API keys](https://docs.expectedparrot.com/en/latest/api_keys.html) for the language models that you want to use with EDSL. Please also see our [documentation page](https://docs.expectedparrot.com/) for tips and tutorials on getting started using EDSL and Coop."
   ]
  },
  {
   "cell_type": "markdown",
   "id": "8d24a5ef-82f6-443d-8b95-43fbe367fe1f",
   "metadata": {
    "editable": true,
    "slideshow": {
     "slide_type": ""
    },
    "tags": []
   },
   "source": [
    "## Scenarios\n",
    "A `Scenario` is a dictionary containing a key/value pair that is used to add data or content to questions in an EDSL survey.\n",
    "Scenarios allow you create variations and versions of questions efficiently, and with data or content from different sources.\n",
    "\n",
    "EDSL provides a variety of methods for automatically generating scenarios from PDFs, CSVs, docs, tables, lists, dicts -- and images.\n",
    "In the steps below we demonstrate how to create a scenario for an image and use it in a survey.\n",
    "\n",
    "*Note:* When using images with questions it is necessary to specify a vision model, and to ensure that the model is capable of viewing each image. Always run test questions to ensure that each image is actually readable by the selected models.\n",
    "\n",
    "[Learn more about working with scenarios](https://docs.expectedparrot.com/en/latest/scenarios.html)."
   ]
  },
  {
   "cell_type": "markdown",
   "id": "74273054-d350-48c5-8c52-fb19acd45530",
   "metadata": {
    "editable": true,
    "slideshow": {
     "slide_type": ""
    },
    "tags": []
   },
   "source": [
    "### Creating a scenario\n",
    "We start by creating a `Scenario` for an image.\n",
    "For purposes of demonstration, we use the `FileStore` module to post a PNG image to the Coop, and then retrieve it and pass it to a `Scenario` (this can be done by [any user with a Coop account](https://www.expectedparrot.com/login)). Note that `FileStore` can be used to post and retrieve all types of files, and will automatically infer the file type.\n",
    "\n",
    "Here we post a file to Coop:"
   ]
  },
  {
   "cell_type": "code",
   "execution_count": 1,
   "id": "fe5e746e-d0ee-495a-a233-93855953452e",
   "metadata": {
    "editable": true,
    "slideshow": {
     "slide_type": ""
    },
    "tags": [
     "skip-execution"
    ]
   },
   "outputs": [
    {
     "data": {
      "text/plain": [
       "{'description': 'My parrot logo image',\n",
       " 'object_type': 'scenario',\n",
       " 'url': 'https://www.expectedparrot.com/content/6bc5aa85-8c58-40b8-ab61-f7b3df9e1409',\n",
       " 'uuid': '6bc5aa85-8c58-40b8-ab61-f7b3df9e1409',\n",
       " 'version': '0.1.47.dev1',\n",
       " 'visibility': 'public'}"
      ]
     },
     "execution_count": 1,
     "metadata": {},
     "output_type": "execute_result"
    }
   ],
   "source": [
    "from edsl import FileStore\n",
    "\n",
    "filename = \"parrot_logo.png\" # file stored locally\n",
    "\n",
    "fs = FileStore(filename)\n",
    "info = fs.push(description = \"My parrot logo image\", alias = \"my-parrot-logo\", visibility = \"public\")\n",
    "info"
   ]
  },
  {
   "cell_type": "markdown",
   "id": "f30809fd-ef5c-48d2-835b-5435100b3a7d",
   "metadata": {
    "editable": true,
    "slideshow": {
     "slide_type": ""
    },
    "tags": []
   },
   "source": [
    "Here we retrieve the file (can be replaced with the alias or UUID of any posted object):"
   ]
  },
  {
   "cell_type": "code",
   "execution_count": 2,
   "id": "8ffe4a8b-73fe-4d2e-a7de-0b5ae218052f",
   "metadata": {
    "editable": true,
    "slideshow": {
     "slide_type": ""
    },
    "tags": []
   },
   "outputs": [],
   "source": [
    "png_file = FileStore.pull(\"https://www.expectedparrot.com/content/RobinHorton/my-parrot-logo\")"
   ]
  },
  {
   "cell_type": "markdown",
   "id": "8418faf9-f905-401a-b9f3-648a2c6f2045",
   "metadata": {
    "editable": true,
    "slideshow": {
     "slide_type": ""
    },
    "tags": []
   },
   "source": [
    "This is equivalent:"
   ]
  },
  {
   "cell_type": "code",
   "execution_count": 3,
   "id": "1f89b60a-bdb4-45b0-9c19-ad1e975cdd5d",
   "metadata": {
    "editable": true,
    "slideshow": {
     "slide_type": ""
    },
    "tags": [
     "skip-execution"
    ]
   },
   "outputs": [],
   "source": [
    "png_file = FileStore.pull(info[\"uuid\"])"
   ]
  },
  {
   "cell_type": "markdown",
   "id": "136842bd-757d-409b-a2e6-6805f4447fd1",
   "metadata": {
    "editable": true,
    "slideshow": {
     "slide_type": ""
    },
    "tags": []
   },
   "source": [
    "Here we use the retrieved file in a `Scenario` by creating a key and passing the file as the value.\n",
    "We also (optionally) create a key/value for metadata about the file that we want to keep with the survey results (more on this below):"
   ]
  },
  {
   "cell_type": "code",
   "execution_count": 4,
   "id": "bfcf703c-7440-4e16-ad91-1def92256962",
   "metadata": {
    "editable": true,
    "slideshow": {
     "slide_type": ""
    },
    "tags": []
   },
   "outputs": [],
   "source": [
    "from edsl import Scenario"
   ]
  },
  {
   "cell_type": "code",
   "execution_count": 5,
   "id": "3cb195af-740c-432b-9fda-f8646b0e295e",
   "metadata": {
    "editable": true,
    "slideshow": {
     "slide_type": ""
    },
    "tags": []
   },
   "outputs": [],
   "source": [
    "s = Scenario({\n",
    "    \"parrot_logo\":png_file,\n",
    "    \"filename\":filename # optional metadata field\n",
    "})"
   ]
  },
  {
   "cell_type": "markdown",
   "id": "3d104331-e6ab-44bf-b39a-a07d4826795b",
   "metadata": {
    "editable": true,
    "slideshow": {
     "slide_type": ""
    },
    "tags": []
   },
   "source": [
    "## Creating questions using the image\n",
    "Next we construct questions with the image scenario.\n",
    "Note that we use a `{{ placeholder }}` for the scenario key for the image file.\n",
    "This will cause the image to be automatically be inserted when the survey is run with the scenario.\n",
    "We also pipe the answer to one question into a follow-on question:"
   ]
  },
  {
   "cell_type": "code",
   "execution_count": 6,
   "id": "ba35b5cd-23b7-4259-b571-666aea99ec21",
   "metadata": {
    "editable": true,
    "slideshow": {
     "slide_type": ""
    },
    "tags": []
   },
   "outputs": [],
   "source": [
    "from edsl import QuestionYesNo, QuestionMultipleChoice, QuestionList, Survey"
   ]
  },
  {
   "cell_type": "code",
   "execution_count": 7,
   "id": "c345c14c-d688-43c8-8574-600d62433d85",
   "metadata": {
    "editable": true,
    "slideshow": {
     "slide_type": ""
    },
    "tags": []
   },
   "outputs": [],
   "source": [
    "q1 = QuestionYesNo(\n",
    "    question_name = \"animal\",\n",
    "    question_text = \"Is there an animal in this image? {{ parrot_logo }}\"\n",
    ")"
   ]
  },
  {
   "cell_type": "code",
   "execution_count": 8,
   "id": "3cc43621-13f3-4588-b1ef-ec470794a5df",
   "metadata": {
    "editable": true,
    "slideshow": {
     "slide_type": ""
    },
    "tags": []
   },
   "outputs": [],
   "source": [
    "q2 = QuestionMultipleChoice(\n",
    "    question_name = \"identify\",\n",
    "    question_text = \"Identify the animal in this image: {{ parrot_logo }}\",\n",
    "    question_options = [\"dog\", \"cat\", \"bird\", \"something else\"]\n",
    ")"
   ]
  },
  {
   "cell_type": "code",
   "execution_count": 9,
   "id": "950c557d-6ba6-408d-b2e7-be7cf3c858df",
   "metadata": {
    "editable": true,
    "slideshow": {
     "slide_type": ""
    },
    "tags": []
   },
   "outputs": [],
   "source": [
    "q3 = QuestionList(\n",
    "    question_name = \"colors\",\n",
    "    question_text = \"What color(s) is this {{ identify.answer }}? {{ parrot_logo }}\", \n",
    ")"
   ]
  },
  {
   "cell_type": "code",
   "execution_count": 10,
   "id": "0f7f0c3d-0a6f-4f68-a357-b302f6807b8d",
   "metadata": {
    "editable": true,
    "slideshow": {
     "slide_type": ""
    },
    "tags": []
   },
   "outputs": [],
   "source": [
    "survey = Survey(questions = [q1, q2, q3])"
   ]
  },
  {
   "cell_type": "markdown",
   "id": "34cb623e-dccb-41cb-9549-65bdc0ef2576",
   "metadata": {
    "editable": true,
    "slideshow": {
     "slide_type": ""
    },
    "tags": []
   },
   "source": [
    "Next we add a rule to stop the survey if the answer to the first question is \"No\".\n",
    "This rule and the piping in the questions that follow will cause the questions to be administered in the required order, instead of asynchronously by default (learn more about [piping](https://docs.expectedparrot.com/en/latest/surveys.html#id2) and applygin [survey rules](https://docs.expectedparrot.com/en/latest/surveys.html#key-methods)):"
   ]
  },
  {
   "cell_type": "code",
   "execution_count": 11,
   "id": "736bc61b-7254-4f65-8740-5fbf3d3497c4",
   "metadata": {
    "editable": true,
    "slideshow": {
     "slide_type": ""
    },
    "tags": []
   },
   "outputs": [],
   "source": [
    "survey = (\n",
    "    survey\n",
    "    .add_stop_rule(q1, \"animal == 'No'\")\n",
    ")"
   ]
  },
  {
   "cell_type": "markdown",
   "id": "4ac7c7d4-ea0c-4a00-9c52-8bbaec110d64",
   "metadata": {
    "editable": true,
    "slideshow": {
     "slide_type": ""
    },
    "tags": []
   },
   "source": [
    "Next we select a model to generate the responses.\n",
    "Note that we need to use a vision model.\n",
    "You can check available vision models at the Coop [model pricing page](https://www.expectedparrot.com/getting-started/coop-pricing)."
   ]
  },
  {
   "cell_type": "code",
   "execution_count": 12,
   "id": "33993353-54e6-41fb-9849-dce66f9b2fbb",
   "metadata": {
    "editable": true,
    "slideshow": {
     "slide_type": ""
    },
    "tags": []
   },
   "outputs": [],
   "source": [
    "from edsl import Model\n",
    "\n",
    "m = Model(\"gemini-1.5-flash\")"
   ]
  },
  {
   "cell_type": "markdown",
   "id": "c8591d83-824d-4eac-8b8d-2f4d075dcf39",
   "metadata": {
    "editable": true,
    "slideshow": {
     "slide_type": ""
    },
    "tags": []
   },
   "source": [
    "We administer the survey in the same way that we do with any other scenarios:"
   ]
  },
  {
   "cell_type": "code",
   "execution_count": 13,
   "id": "d5e4a37a-90f5-4b24-8211-c23d8cb68926",
   "metadata": {
    "editable": true,
    "slideshow": {
     "slide_type": ""
    },
    "tags": []
   },
   "outputs": [
    {
     "data": {
      "text/html": [
       "\n",
       "            <!-- #region Remove Inference Info -->\n",
       "            <div id=\"logger-f0dba8dd-a644-4615-80c4-f3d0ea3c298e\" class=\"job-logger\">\n",
       "                <div class=\"job-logger-header\">\n",
       "                    <span>\n",
       "                        <span id=\"arrow-f0dba8dd-a644-4615-80c4-f3d0ea3c298e\">▼</span> \n",
       "                        Job Status (2025-03-02 10:18:49)\n",
       "                    </span>\n",
       "                </div>\n",
       "                <div id=\"content-f0dba8dd-a644-4615-80c4-f3d0ea3c298e\" style=\"display: block;\">\n",
       "                    <table class=\"job-logger-table\">\n",
       "                        \n",
       "            <tr>\n",
       "                <td class=\"job-logger-cell job-logger-label\">Job UUID</td>\n",
       "                <td class=\"job-logger-cell job-logger-value\">8149ffb4-7a57-4f3e-a163-c6d4bf5a3274</td>\n",
       "            </tr>\n",
       "        \n",
       "            <tr>\n",
       "                <td class=\"job-logger-cell job-logger-label\">Progress Bar URL</td>\n",
       "                <td class=\"job-logger-cell job-logger-value\"><a href=\"https://www.expectedparrot.com/home/remote-job-progress/8149ffb4-7a57-4f3e-a163-c6d4bf5a3274\" target=\"_blank\" class=\"job-logger-link\">https://www.expectedparrot.com/home/remote-job-progress/8149ffb4-7a57-4f3e-a163-c6d4bf5a3274</a></td>\n",
       "            </tr>\n",
       "        \n",
       "            <tr>\n",
       "                <td class=\"job-logger-cell job-logger-label\">Exceptions Report URL</td>\n",
       "                <td class=\"job-logger-cell job-logger-value\">None</td>\n",
       "            </tr>\n",
       "        \n",
       "            <tr>\n",
       "                <td class=\"job-logger-cell job-logger-label\">Results UUID</td>\n",
       "                <td class=\"job-logger-cell job-logger-value\">b5965fec-1645-4210-bb1f-46862d2efdf8</td>\n",
       "            </tr>\n",
       "        \n",
       "            <tr>\n",
       "                <td class=\"job-logger-cell job-logger-label\">Results URL</td>\n",
       "                <td class=\"job-logger-cell job-logger-value\"><a href=\"https://www.expectedparrot.com/content/b5965fec-1645-4210-bb1f-46862d2efdf8\" target=\"_blank\" class=\"job-logger-link\">https://www.expectedparrot.com/content/b5965fec-1645-4210-bb1f-46862d2efdf8</a></td>\n",
       "            </tr>\n",
       "        \n",
       "                    </table>\n",
       "                    \n",
       "                <div class=\"job-logger-status\">\n",
       "                    <span style=\"margin-right: 8px;\" class=\"job-logger-success\">✓</span><strong>Current Status:</strong> Job completed and Results stored on Coop: <a href=\"https://www.expectedparrot.com/content/b5965fec-1645-4210-bb1f-46862d2efdf8\" target=\"_blank\" class=\"job-logger-link\">https://www.expectedparrot.com/content/b5965fec-1645-4210-bb1f-46862d2efdf8</a>\n",
       "                </div>\n",
       "            \n",
       "                </div>\n",
       "            </div>\n",
       "            <!-- # endregion -->\n",
       "        "
      ],
      "text/plain": [
       "<IPython.core.display.HTML object>"
      ]
     },
     "metadata": {},
     "output_type": "display_data"
    },
    {
     "data": {
      "text/html": [
       "\n",
       "        <style>\n",
       "            /* Base theme variables */\n",
       "            :root {\n",
       "                --jl-bg-primary: #ffffff;\n",
       "                --jl-bg-secondary: #f5f5f5;\n",
       "                --jl-border-color: #e0e0e0;\n",
       "                --jl-text-primary: #24292e;\n",
       "                --jl-text-secondary: #586069;\n",
       "                --jl-link-color: #0366d6;\n",
       "                --jl-success-color: #28a745;\n",
       "                --jl-error-color: #d73a49;\n",
       "                --jl-header-bg: #f1f1f1;\n",
       "            }\n",
       "            \n",
       "            /* Dark theme variables */\n",
       "            .theme-dark {\n",
       "                --jl-bg-primary: #1e1e1e;\n",
       "                --jl-bg-secondary: #252526;\n",
       "                --jl-border-color: #2d2d2d;\n",
       "                --jl-text-primary: #cccccc;\n",
       "                --jl-text-secondary: #999999;\n",
       "                --jl-link-color: #4e94ce;\n",
       "                --jl-success-color: #89d185;\n",
       "                --jl-error-color: #f14c4c;\n",
       "                --jl-header-bg: #333333;\n",
       "            }\n",
       "\n",
       "            /* High contrast theme variables */\n",
       "            .theme-high-contrast {\n",
       "                --jl-bg-primary: #000000;\n",
       "                --jl-bg-secondary: #1a1a1a;\n",
       "                --jl-border-color: #404040;\n",
       "                --jl-text-primary: #ffffff;\n",
       "                --jl-text-secondary: #cccccc;\n",
       "                --jl-link-color: #66b3ff;\n",
       "                --jl-success-color: #00ff00;\n",
       "                --jl-error-color: #ff0000;\n",
       "                --jl-header-bg: #262626;\n",
       "            }\n",
       "            \n",
       "            .job-logger {\n",
       "                font-family: system-ui, -apple-system, sans-serif;\n",
       "                max-width: 800px;\n",
       "                margin: 10px 0;\n",
       "                color: var(--jl-text-primary);\n",
       "                box-shadow: 0 1px 3px rgba(0,0,0,0.12);\n",
       "                border-radius: 4px;\n",
       "                overflow: hidden;\n",
       "            }\n",
       "            \n",
       "            .job-logger-header {\n",
       "                padding: 12px 16px;\n",
       "                background: var(--jl-header-bg);\n",
       "                border: none;\n",
       "                border-radius: 4px 4px 0 0;\n",
       "                cursor: pointer;\n",
       "                color: var(--jl-text-primary);\n",
       "                user-select: none;\n",
       "                font-weight: 500;\n",
       "                letter-spacing: 0.3px;\n",
       "                display: flex;\n",
       "                justify-content: space-between;\n",
       "                align-items: center;\n",
       "            }\n",
       "            \n",
       "            .theme-select {\n",
       "                padding: 4px 8px;\n",
       "                border-radius: 4px;\n",
       "                border: 1px solid var(--jl-border-color);\n",
       "                background: var(--jl-bg-primary);\n",
       "                color: var(--jl-text-primary);\n",
       "                font-size: 0.9em;\n",
       "            }\n",
       "            \n",
       "            .job-logger-table {\n",
       "                width: 100%;\n",
       "                border-collapse: separate;\n",
       "                border-spacing: 0;\n",
       "                background: var(--jl-bg-primary);\n",
       "                border: 1px solid var(--jl-border-color);\n",
       "                margin-top: -1px;\n",
       "            }\n",
       "            \n",
       "            .job-logger-cell {\n",
       "                padding: 12px 16px;\n",
       "                border-bottom: 1px solid var(--jl-border-color);\n",
       "                line-height: 1.4;\n",
       "            }\n",
       "            \n",
       "            .job-logger-label {\n",
       "                font-weight: 500;\n",
       "                color: var(--jl-text-primary);\n",
       "                width: 25%;\n",
       "                background: var(--jl-bg-secondary);\n",
       "            }\n",
       "            \n",
       "            .job-logger-value {\n",
       "                color: var(--jl-text-secondary);\n",
       "                word-break: break-word;\n",
       "            }\n",
       "            \n",
       "            .job-logger-status {\n",
       "                margin: 0;\n",
       "                padding: 12px 16px;\n",
       "                background-color: var(--jl-bg-secondary);\n",
       "                border: 1px solid var(--jl-border-color);\n",
       "                border-top: none;\n",
       "                border-radius: 0 0 4px 4px;\n",
       "                color: var(--jl-text-primary);\n",
       "                font-size: 0.95em;\n",
       "            }\n",
       "        </style>\n",
       "        \n",
       "        <script>\n",
       "            class ThemeManager {\n",
       "                constructor(logId, initialTheme = 'auto') {\n",
       "                    this.logId = logId;\n",
       "                    this.currentTheme = initialTheme;\n",
       "                    this.darkModeMediaQuery = window.matchMedia('(prefers-color-scheme: dark)');\n",
       "                    this.init();\n",
       "                }\n",
       "                \n",
       "                init() {\n",
       "                    this.setupThemeSwitcher();\n",
       "                    this.updateTheme(this.currentTheme);\n",
       "                    \n",
       "                    this.darkModeMediaQuery.addListener(() => {\n",
       "                        if (this.currentTheme === 'auto') {\n",
       "                            this.updateTheme('auto');\n",
       "                        }\n",
       "                    });\n",
       "                }\n",
       "                \n",
       "                setupThemeSwitcher() {\n",
       "                    const logger = document.querySelector(`#logger-${this.logId}`);\n",
       "                    if (!logger) return;\n",
       "                    \n",
       "                    const switcher = document.createElement('div');\n",
       "                    switcher.className = 'theme-switcher';\n",
       "                    switcher.innerHTML = `\n",
       "                        <select id=\"theme-select-${this.logId}\" class=\"theme-select\">\n",
       "                            <option value=\"auto\">Auto</option>\n",
       "                            <option value=\"light\">Light</option>\n",
       "                            <option value=\"dark\">Dark</option>\n",
       "                            <option value=\"high-contrast\">High Contrast</option>\n",
       "                        </select>\n",
       "                    `;\n",
       "                    \n",
       "                    const header = logger.querySelector('.job-logger-header');\n",
       "                    header.appendChild(switcher);\n",
       "                    \n",
       "                    const select = switcher.querySelector('select');\n",
       "                    select.value = this.currentTheme;\n",
       "                    select.addEventListener('change', (e) => {\n",
       "                        this.updateTheme(e.target.value);\n",
       "                    });\n",
       "                }\n",
       "                \n",
       "                updateTheme(theme) {\n",
       "                    const logger = document.querySelector(`#logger-${this.logId}`);\n",
       "                    if (!logger) return;\n",
       "                    \n",
       "                    this.currentTheme = theme;\n",
       "                    \n",
       "                    logger.classList.remove('theme-light', 'theme-dark', 'theme-high-contrast');\n",
       "                    \n",
       "                    if (theme === 'auto') {\n",
       "                        const isDark = this.darkModeMediaQuery.matches;\n",
       "                        logger.classList.add(isDark ? 'theme-dark' : 'theme-light');\n",
       "                    } else {\n",
       "                        logger.classList.add(`theme-${theme}`);\n",
       "                    }\n",
       "                    \n",
       "                    try {\n",
       "                        localStorage.setItem('jobLoggerTheme', theme);\n",
       "                    } catch (e) {\n",
       "                        console.warn('Unable to save theme preference:', e);\n",
       "                    }\n",
       "                }\n",
       "            }\n",
       "            \n",
       "            window.initThemeManager = (logId, initialTheme) => {\n",
       "                new ThemeManager(logId, initialTheme);\n",
       "            };\n",
       "        </script>\n",
       "        \n",
       "        <script>\n",
       "            document.addEventListener('DOMContentLoaded', () => {\n",
       "                window.initThemeManager('f0dba8dd-a644-4615-80c4-f3d0ea3c298e', 'auto');\n",
       "            });\n",
       "        </script>\n",
       "        "
      ],
      "text/plain": [
       "<IPython.core.display.HTML object>"
      ]
     },
     "metadata": {},
     "output_type": "display_data"
    }
   ],
   "source": [
    "results = survey.by(s).by(m).run()"
   ]
  },
  {
   "cell_type": "markdown",
   "id": "e229d84f-b7c1-4329-b6ad-426884f0ed0d",
   "metadata": {
    "editable": true,
    "slideshow": {
     "slide_type": ""
    },
    "tags": []
   },
   "source": [
    "We can select any scenario key/value to access in the results that have been generated (e.g., image metadata created):"
   ]
  },
  {
   "cell_type": "code",
   "execution_count": 14,
   "id": "acdf9eb5-ebf2-4ea1-991a-8bd69230ea0f",
   "metadata": {
    "editable": true,
    "slideshow": {
     "slide_type": ""
    },
    "tags": []
   },
   "outputs": [
    {
     "data": {
      "text/html": [
       "\n",
       "            <div style=\"max-height: 500px; overflow-y: auto;\">\n",
       "                <style type=\"text/css\">\n",
       "#T_de8ad_row0_col0, #T_de8ad_row0_col1, #T_de8ad_row0_col2, #T_de8ad_row0_col3, #T_de8ad_row0_col4, #T_de8ad_row0_col5 {\n",
       "  text-align: left;\n",
       "}\n",
       "</style>\n",
       "<table id=\"T_de8ad\">\n",
       "  <thead>\n",
       "    <tr>\n",
       "      <th class=\"blank level0\" >&nbsp;</th>\n",
       "      <th id=\"T_de8ad_level0_col0\" class=\"col_heading level0 col0\" >model.model</th>\n",
       "      <th id=\"T_de8ad_level0_col1\" class=\"col_heading level0 col1\" >scenario.filename</th>\n",
       "      <th id=\"T_de8ad_level0_col2\" class=\"col_heading level0 col2\" >answer.animal</th>\n",
       "      <th id=\"T_de8ad_level0_col3\" class=\"col_heading level0 col3\" >answer.identify</th>\n",
       "      <th id=\"T_de8ad_level0_col4\" class=\"col_heading level0 col4\" >answer.colors</th>\n",
       "      <th id=\"T_de8ad_level0_col5\" class=\"col_heading level0 col5\" >comment.colors_comment</th>\n",
       "    </tr>\n",
       "  </thead>\n",
       "  <tbody>\n",
       "    <tr>\n",
       "      <th id=\"T_de8ad_level0_row0\" class=\"row_heading level0 row0\" >0</th>\n",
       "      <td id=\"T_de8ad_row0_col0\" class=\"data row0 col0\" >gemini-1.5-flash</td>\n",
       "      <td id=\"T_de8ad_row0_col1\" class=\"data row0 col1\" >parrot_logo.png</td>\n",
       "      <td id=\"T_de8ad_row0_col2\" class=\"data row0 col2\" >Yes</td>\n",
       "      <td id=\"T_de8ad_row0_col3\" class=\"data row0 col3\" >bird</td>\n",
       "      <td id=\"T_de8ad_row0_col4\" class=\"data row0 col4\" >['green', 'orange', 'red', 'blue']</td>\n",
       "      <td id=\"T_de8ad_row0_col5\" class=\"data row0 col5\" >The parrot is primarily green, with orange on its beak, red and blue on its underbelly.</td>\n",
       "    </tr>\n",
       "  </tbody>\n",
       "</table>\n",
       "\n",
       "            </div>\n",
       "            "
      ],
      "text/plain": [
       "Dataset([{'model.model': ['gemini-1.5-flash']}, {'scenario.filename': ['parrot_logo.png']}, {'answer.animal': ['Yes']}, {'answer.identify': ['bird']}, {'answer.colors': [['green', 'orange', 'red', 'blue']]}, {'comment.colors_comment': ['The parrot is primarily green, with orange on its beak, red and blue on its underbelly.']}])"
      ]
     },
     "execution_count": 14,
     "metadata": {},
     "output_type": "execute_result"
    }
   ],
   "source": [
    "results.select(\"model\", \"filename\", \"animal\", \"identify\", \"colors\", \"colors_comment\")"
   ]
  },
  {
   "cell_type": "markdown",
   "id": "5504c463-d9d5-49c2-aac0-fc5e6eccf485",
   "metadata": {
    "editable": true,
    "slideshow": {
     "slide_type": ""
    },
    "tags": []
   },
   "source": [
    "## Posting to Coop\n",
    "The results of the survey were automatically posted to Coop using remote inference (see link in the job summary above).\n",
    "Here we also post this notebook, as we can any local objects that we want to push to Coop:"
   ]
  },
  {
   "cell_type": "code",
   "execution_count": 15,
   "id": "110cb636-6e49-4a0a-b721-9f1c9b047ceb",
   "metadata": {
    "editable": true,
    "slideshow": {
     "slide_type": ""
    },
    "tags": [
     "skip-execution"
    ]
   },
   "outputs": [],
   "source": [
    "from edsl import Notebook\n",
    "\n",
    "n = Notebook(path = \"image_scenario_example.ipynb\")"
   ]
  },
  {
   "cell_type": "code",
   "execution_count": 16,
   "id": "580dfdc9-8e68-41b9-ba11-923ab293169d",
   "metadata": {
    "editable": true,
    "slideshow": {
     "slide_type": ""
    },
    "tags": [
     "skip-execution"
    ]
   },
   "outputs": [],
   "source": [
    "info = n.push(description = \"Using an image scenario\", alias = \"my-parrot-logo-notebook\", visibility = \"public\")"
   ]
  },
  {
   "cell_type": "code",
   "execution_count": 17,
   "id": "63028c97-16cc-443c-b261-7faf9164cbc6",
   "metadata": {
    "editable": true,
    "slideshow": {
     "slide_type": ""
    },
    "tags": [
     "skip-execution"
    ]
   },
   "outputs": [
    {
     "data": {
      "text/plain": [
       "{'description': 'Using an image scenario',\n",
       " 'object_type': 'notebook',\n",
       " 'url': 'https://www.expectedparrot.com/content/c1bbdebc-cbb8-41aa-a50c-f3251f9236d6',\n",
       " 'uuid': 'c1bbdebc-cbb8-41aa-a50c-f3251f9236d6',\n",
       " 'version': '0.1.47.dev1',\n",
       " 'visibility': 'public'}"
      ]
     },
     "execution_count": 17,
     "metadata": {},
     "output_type": "execute_result"
    }
   ],
   "source": [
    "info"
   ]
  },
  {
   "cell_type": "markdown",
   "id": "740d4eb3-64b0-4f52-8bcd-22008b7972a9",
   "metadata": {
    "editable": true,
    "slideshow": {
     "slide_type": ""
    },
    "tags": []
   },
   "source": [
    "To update an object at Coop:"
   ]
  },
  {
   "cell_type": "code",
   "execution_count": 18,
   "id": "127e3318-fa75-4233-8775-e911ad078a53",
   "metadata": {
    "editable": true,
    "slideshow": {
     "slide_type": ""
    },
    "tags": [
     "skip-execution"
    ]
   },
   "outputs": [],
   "source": [
    "from edsl import Notebook\n",
    "\n",
    "n = Notebook(path = \"image_scenario_example.ipynb\") # resave"
   ]
  },
  {
   "cell_type": "code",
   "execution_count": 19,
   "id": "366bc873-33b5-4166-9de3-bf4994b1e13f",
   "metadata": {
    "editable": true,
    "slideshow": {
     "slide_type": ""
    },
    "tags": [
     "skip-execution"
    ]
   },
   "outputs": [
    {
     "data": {
      "text/plain": [
       "{'status': 'success'}"
      ]
     },
     "execution_count": 19,
     "metadata": {},
     "output_type": "execute_result"
    }
   ],
   "source": [
    "n.patch(\"https://www.expectedparrot.com/content/RobinHorton/my-parrot-logo-notebook\", value = n)"
   ]
  }
 ],
 "metadata": {
  "kernelspec": {
   "display_name": "Python 3 (ipykernel)",
   "language": "python",
   "name": "python3"
  },
  "language_info": {
   "codemirror_mode": {
    "name": "ipython",
    "version": 3
   },
   "file_extension": ".py",
   "mimetype": "text/x-python",
   "name": "python",
   "nbconvert_exporter": "python",
   "pygments_lexer": "ipython3",
   "version": "3.11.7"
  }
 },
 "nbformat": 4,
 "nbformat_minor": 5
}
