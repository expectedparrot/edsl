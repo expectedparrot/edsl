{
 "cells": [
  {
   "cell_type": "markdown",
   "id": "aa798e31-fc1e-49ee-bf76-530f37d44c58",
   "metadata": {},
   "source": [
    "# Using images in a survey\n",
    "This notebook provides sample code for using images with an [EDSL](https://docs.expectedparrot.com/) survey.\n",
    "\n",
    "[EDSL is an open-source library](https://github.com/expectedparrot/edsl) for simulating surveys, experiments and other research with AI agents and large language models. \n",
    "Before running the code below, please ensure that you have [installed the EDSL library](https://docs.expectedparrot.com/en/latest/installation.html) and either [activated remote inference](https://docs.expectedparrot.com/en/latest/remote_inference.html) from your [Coop account](https://docs.expectedparrot.com/en/latest/coop.html) or [stored API keys](https://docs.expectedparrot.com/en/latest/api_keys.html) for the language models that you want to use with EDSL. Please also see our [documentation page](https://docs.expectedparrot.com/) for tips and tutorials on getting started using EDSL."
   ]
  },
  {
   "cell_type": "markdown",
   "id": "8d24a5ef-82f6-443d-8b95-43fbe367fe1f",
   "metadata": {},
   "source": [
    "## Scenarios\n",
    "A `Scenario` is a dictionary containing a key/value pair that is used to add data or content to questions in an EDSL survey.\n",
    "Scenarios allow you create variations and versions of questions efficiently, and with data or content from different sources.\n",
    "\n",
    "EDSL provides a variety of methods for automatically generating scenarios from PDFs, CSVs, docs, tables, lists, dicts -- and images.\n",
    "In the steps below we demonstrate how to create a scenario for an image and use it in a survey.\n",
    "\n",
    "[Learn more about working with scenarios](https://docs.expectedparrot.com/en/latest/scenarios.html)."
   ]
  },
  {
   "cell_type": "markdown",
   "id": "74273054-d350-48c5-8c52-fb19acd45530",
   "metadata": {},
   "source": [
    "### Creating a scenario\n",
    "We start by creating a `Scenario` for an image.\n",
    "For purposes of demonstration, we post a PNG image to the Coop, and then retrieve it as a scenario (this can be done by [any user with a Coop account](https://www.expectedparrot.com/login)).\n",
    "\n",
    "Code for posting a PNG file to the Coop (uncomment and replace with your own file):"
   ]
  },
  {
   "cell_type": "code",
   "execution_count": 1,
   "id": "fe5e746e-d0ee-495a-a233-93855953452e",
   "metadata": {},
   "outputs": [
    {
     "name": "stdout",
     "output_type": "stream",
     "text": [
      "{'description': 'File: parrot_logo.png', 'object_type': 'scenario', 'url': 'https://www.expectedparrot.com/content/b9632b87-41a4-4a34-ab1e-bd18add8f4a7', 'uuid': 'b9632b87-41a4-4a34-ab1e-bd18add8f4a7', 'version': '0.1.39.dev1', 'visibility': 'unlisted'}\n"
     ]
    }
   ],
   "source": [
    "from edsl.scenarios.FileStore import PNGFileStore\n",
    "fs = PNGFileStore(\"parrot_logo.png\")\n",
    "info = fs.push()\n",
    "print(info)"
   ]
  },
  {
   "cell_type": "markdown",
   "id": "f30809fd-ef5c-48d2-835b-5435100b3a7d",
   "metadata": {},
   "source": [
    "Retrieving a Coop file to use as a scenario (replace with the UUID of a desired object):"
   ]
  },
  {
   "cell_type": "code",
   "execution_count": 2,
   "id": "2a2380a9-0712-4ce9-8390-a1d8ec396bd1",
   "metadata": {},
   "outputs": [],
   "source": [
    "from edsl.scenarios.FileStore import PNGFileStore"
   ]
  },
  {
   "cell_type": "code",
   "execution_count": 3,
   "id": "1f89b60a-bdb4-45b0-9c19-ad1e975cdd5d",
   "metadata": {},
   "outputs": [],
   "source": [
    "png_file = PNGFileStore.pull(info[\"uuid\"])"
   ]
  },
  {
   "cell_type": "markdown",
   "id": "136842bd-757d-409b-a2e6-6805f4447fd1",
   "metadata": {},
   "source": [
    "Converting the retrieved file into a scenario:"
   ]
  },
  {
   "cell_type": "code",
   "execution_count": 4,
   "id": "bfcf703c-7440-4e16-ad91-1def92256962",
   "metadata": {},
   "outputs": [],
   "source": [
    "from edsl import Scenario"
   ]
  },
  {
   "cell_type": "code",
   "execution_count": 5,
   "id": "3cb195af-740c-432b-9fda-f8646b0e295e",
   "metadata": {},
   "outputs": [],
   "source": [
    "s = Scenario.from_image(png_file.to_tempfile(), \"parrot_logo\")"
   ]
  },
  {
   "cell_type": "markdown",
   "id": "93713732-bf8b-465d-85ad-64b41c5a0cfb",
   "metadata": {},
   "source": [
    "Alternative method for creating a scenario from a local file:"
   ]
  },
  {
   "cell_type": "code",
   "execution_count": 6,
   "id": "67285b06-6222-41d8-ac6b-0b6f338bb0f7",
   "metadata": {},
   "outputs": [],
   "source": [
    "# s = Scenario.from_image(\"parrot_logo.png\", \"parrot_logo\")"
   ]
  },
  {
   "cell_type": "markdown",
   "id": "aa90e27a-6ad9-4076-bbe5-884a8a5c3495",
   "metadata": {},
   "source": [
    "Verify the scenario keys to use in questions:"
   ]
  },
  {
   "cell_type": "code",
   "execution_count": 7,
   "id": "feef15a7-9d8e-47e8-ba2f-ae2b2e41c0fe",
   "metadata": {},
   "outputs": [
    {
     "data": {
      "text/plain": [
       "['parrot_logo']"
      ]
     },
     "execution_count": 7,
     "metadata": {},
     "output_type": "execute_result"
    }
   ],
   "source": [
    "s.keys()"
   ]
  },
  {
   "cell_type": "markdown",
   "id": "3d104331-e6ab-44bf-b39a-a07d4826795b",
   "metadata": {},
   "source": [
    "## Creating questions using the image\n",
    "Next we construct questions with the image scenario.\n",
    "Note that we use a `{{ placeholder }}` for the scenario key.\n",
    "We also demonstrate how to pipe an answer into a follow-on question:"
   ]
  },
  {
   "cell_type": "code",
   "execution_count": 8,
   "id": "ba35b5cd-23b7-4259-b571-666aea99ec21",
   "metadata": {},
   "outputs": [],
   "source": [
    "from edsl import QuestionYesNo, QuestionFreeText, QuestionList, Survey"
   ]
  },
  {
   "cell_type": "code",
   "execution_count": 9,
   "id": "c345c14c-d688-43c8-8574-600d62433d85",
   "metadata": {},
   "outputs": [],
   "source": [
    "q1 = QuestionYesNo(\n",
    "    question_name = \"animal\",\n",
    "    question_text = \"Is there an animal in this image? {{ parrot_logo }}\"\n",
    ")"
   ]
  },
  {
   "cell_type": "code",
   "execution_count": 10,
   "id": "3cc43621-13f3-4588-b1ef-ec470794a5df",
   "metadata": {},
   "outputs": [],
   "source": [
    "q2 = QuestionFreeText(\n",
    "    question_name = \"identify\",\n",
    "    question_text = \"Identify the animal in this image: {{ parrot_logo }}\"\n",
    ")"
   ]
  },
  {
   "cell_type": "code",
   "execution_count": 11,
   "id": "950c557d-6ba6-408d-b2e7-be7cf3c858df",
   "metadata": {},
   "outputs": [],
   "source": [
    "q3 = QuestionList(\n",
    "    question_name = \"colors\",\n",
    "    question_text = \"What color(s) is the animal?\", \n",
    ")"
   ]
  },
  {
   "cell_type": "code",
   "execution_count": 12,
   "id": "0f7f0c3d-0a6f-4f68-a357-b302f6807b8d",
   "metadata": {},
   "outputs": [],
   "source": [
    "survey = Survey(questions = [q1, q2, q3])"
   ]
  },
  {
   "cell_type": "markdown",
   "id": "34cb623e-dccb-41cb-9549-65bdc0ef2576",
   "metadata": {},
   "source": [
    "Adding logic and rules for adminitering the questions:"
   ]
  },
  {
   "cell_type": "code",
   "execution_count": 13,
   "id": "736bc61b-7254-4f65-8740-5fbf3d3497c4",
   "metadata": {},
   "outputs": [],
   "source": [
    "survey = (\n",
    "    survey\n",
    "    .add_stop_rule(q1, \"animal == 'No'\")\n",
    "    .add_targeted_memory(q3, q2)\n",
    ")"
   ]
  },
  {
   "cell_type": "markdown",
   "id": "4ac7c7d4-ea0c-4a00-9c52-8bbaec110d64",
   "metadata": {},
   "source": [
    "We use the scenario by adding it to the survey when we run it, as with any other scenarios:"
   ]
  },
  {
   "cell_type": "code",
   "execution_count": 14,
   "id": "d5e4a37a-90f5-4b24-8211-c23d8cb68926",
   "metadata": {},
   "outputs": [],
   "source": [
    "results = survey.by(s).run()"
   ]
  },
  {
   "cell_type": "code",
   "execution_count": 15,
   "id": "acdf9eb5-ebf2-4ea1-991a-8bd69230ea0f",
   "metadata": {},
   "outputs": [
    {
     "data": {
      "text/html": [
       "\n",
       "        <style>\n",
       "            :root {\n",
       "  --containerHeight: 200px;\n",
       "  --headerColor: blue;\n",
       "}\n",
       "\n",
       ".table-container {\n",
       "    height: var(--containerHeight) !important;\n",
       "    width: 100%;\n",
       "    overflow: auto;  /* This enables both horizontal and vertical scrolling */\n",
       "    border: 1px solid #d4d4d4;\n",
       "    background: transparent;\n",
       "    position: relative;  /* Create stacking context for sticky header */\n",
       "}\n",
       "\n",
       ".scroll-table {\n",
       "    /* Remove width: 100% to prevent table from being constrained */\n",
       "    /* min-width: 100% ensures table takes at least full container width */\n",
       "    min-width: 100%;\n",
       "    border-collapse: separate;\n",
       "    border-spacing: 4px;\n",
       "    background: transparent;\n",
       "    table-layout: auto;  /* Allow table to size based on content */\n",
       "}\n",
       "\n",
       ".scroll-table th {\n",
       "    background: transparent;  /* Semi-transparent background to ensure text readability */\n",
       "    position: sticky;\n",
       "    top: 0;\n",
       "    z-index: 1;\n",
       "    text-align: left !important;\n",
       "    padding: 8px;\n",
       "    font-weight: bold;\n",
       "    white-space: nowrap;  /* Prevent header text from wrapping */\n",
       "    min-width: 100px;    /* Ensure minimum column width */\n",
       "    backdrop-filter: blur(8px);  /* Optional: adds extra clarity */\n",
       "    color: var(--headerColor);\n",
       "}\n",
       "\n",
       ".scroll-table td {\n",
       "    padding: 8px;\n",
       "    text-align: left !important;\n",
       "    white-space: pre-wrap;\n",
       "    word-wrap: break-word;\n",
       "    vertical-align: top;\n",
       "    color: inherit;\n",
       "    border-bottom: none;\n",
       "    background: transparent;\n",
       "    min-width: 100px;    /* Match header minimum width */\n",
       "}\n",
       "\n",
       ".scroll-table tbody tr:hover {\n",
       "    background: transparent;\n",
       "}\n",
       "\n",
       "/* Additional rule to ensure header background is truly transparent */\n",
       ".scroll-table thead tr {\n",
       "    background: transparent !important;\n",
       "}\n",
       "\n",
       "/* Add shadow to indicate scrollable content */\n",
       ".table-container::after {\n",
       "    content: '';\n",
       "    position: absolute;\n",
       "    top: 0;\n",
       "    right: 0;\n",
       "    bottom: 0;\n",
       "    width: 5px;\n",
       "    background: linear-gradient(to right, transparent, rgba(242, 6, 6, 0.1));\n",
       "    pointer-events: none;\n",
       "    opacity: 0;\n",
       "    transition: opacity 0.3s;\n",
       "}\n",
       "\n",
       ".table-container:hover::after {\n",
       "    opacity: 1;\n",
       "}\n",
       "\n",
       "/* Handle Jupyter notebook specific styling */\n",
       ".jp-OutputArea-output .table-container {\n",
       "    max-width: 100%;\n",
       "    margin: 0;\n",
       "    overflow-x: auto;\n",
       "}\n",
       "        </style>\n",
       "        <div class=\"table-container\">\n",
       "            <div class=\"scroll-table-wrapper\">\n",
       "                <table class=\"scroll-table\">\n",
       "<thead>\n",
       "<tr><th>answer.animal  </th><th>answer.identify                     </th><th>answer.colors                     </th><th>comment.colors_comment                                                                                   </th></tr>\n",
       "</thead>\n",
       "<tbody>\n",
       "<tr><td>Yes            </td><td>The animal in the image is a parrot.</td><td>[&#x27;green&#x27;, &#x27;red&#x27;, &#x27;blue&#x27;, &#x27;yellow&#x27;]</td><td># Parrots are often brightly colored and can have a combination of green, red, blue, and yellow feathers.</td></tr>\n",
       "</tbody>\n",
       "</table>\n",
       "            </div>\n",
       "        </div>\n",
       "        "
      ],
      "text/plain": [
       "Dataset([{'answer.animal': ['Yes']}, {'answer.identify': ['The animal in the image is a parrot.']}, {'answer.colors': [['green', 'red', 'blue', 'yellow']]}, {'comment.colors_comment': ['# Parrots are often brightly colored and can have a combination of green, red, blue, and yellow feathers.']}])"
      ]
     },
     "execution_count": 15,
     "metadata": {},
     "output_type": "execute_result"
    }
   ],
   "source": [
    "results.select(\"animal\", \"identify\", \"colors\", \"colors_comment\")"
   ]
  },
  {
   "cell_type": "code",
   "execution_count": 16,
   "id": "de22063a-6430-4142-bf89-88221ed9bef6",
   "metadata": {
    "editable": true,
    "slideshow": {
     "slide_type": ""
    },
    "tags": [
     "skip-execution"
    ]
   },
   "outputs": [],
   "source": [
    "from edsl import Notebook"
   ]
  },
  {
   "cell_type": "code",
   "execution_count": 17,
   "id": "a1ccfb44-5767-458e-9d14-86e4f269042b",
   "metadata": {
    "editable": true,
    "slideshow": {
     "slide_type": ""
    },
    "tags": [
     "skip-execution"
    ]
   },
   "outputs": [],
   "source": [
    "n = Notebook(path = \"image_scenario_example.ipynb\")"
   ]
  },
  {
   "cell_type": "code",
   "execution_count": 18,
   "id": "44a96397-3abf-4073-a89b-f6bf26775ee6",
   "metadata": {
    "editable": true,
    "slideshow": {
     "slide_type": ""
    },
    "tags": [
     "skip-execution"
    ]
   },
   "outputs": [
    {
     "data": {
      "text/plain": [
       "{'description': 'Using an image scenario',\n",
       " 'object_type': 'notebook',\n",
       " 'url': 'https://www.expectedparrot.com/content/b72f3990-0630-4aa7-99c8-2230d51376d1',\n",
       " 'uuid': 'b72f3990-0630-4aa7-99c8-2230d51376d1',\n",
       " 'version': '0.1.39.dev1',\n",
       " 'visibility': 'public'}"
      ]
     },
     "execution_count": 18,
     "metadata": {},
     "output_type": "execute_result"
    }
   ],
   "source": [
    "n.push(description = \"Using an image scenario\", visibility = \"public\")"
   ]
  }
 ],
 "metadata": {
  "kernelspec": {
   "display_name": "Python 3 (ipykernel)",
   "language": "python",
   "name": "python3"
  },
  "language_info": {
   "codemirror_mode": {
    "name": "ipython",
    "version": 3
   },
   "file_extension": ".py",
   "mimetype": "text/x-python",
   "name": "python",
   "nbconvert_exporter": "python",
   "pygments_lexer": "ipython3",
   "version": "3.11.7"
  }
 },
 "nbformat": 4,
 "nbformat_minor": 5
}
