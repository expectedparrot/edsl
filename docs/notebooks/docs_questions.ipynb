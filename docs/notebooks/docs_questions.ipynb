{
 "cells": [
  {
   "cell_type": "markdown",
   "metadata": {
    "cell_id": "222dfedff7194fed919240ae6eb7fc9e",
    "deepnote_app_block_visible": true,
    "deepnote_cell_type": "markdown",
    "editable": true,
    "slideshow": {
     "slide_type": ""
    },
    "tags": []
   },
   "source": [
    "# Question types\n",
    "This notebook provides sample [EDSL](https://docs.expectedparrot.com/) code for creating different types of questions and using an AI agent to answer them.\n",
    "\n",
    "[EDSL is an open-source library](https://github.com/expectedparrot/edsl) for simulating surveys, experiments and other research with AI agents and large language models. \n",
    "Before running the code below, please ensure that you have [installed the EDSL library](https://docs.expectedparrot.com/en/latest/installation.html) and either [activated remote inference](https://docs.expectedparrot.com/en/latest/remote_inference.html) from your [Coop account](https://docs.expectedparrot.com/en/latest/coop.html) or [stored API keys](https://docs.expectedparrot.com/en/latest/api_keys.html) for the language models that you want to use with EDSL. Please also see our [documentation page](https://docs.expectedparrot.com/) for tips and tutorials on getting started using EDSL.\n",
    "\n",
    "## Selecting question types\n",
    "EDSL comes with many common question types that we can choose from based on the form of the response that we want to get back from the model: \n",
    "\n",
    "* Free text\n",
    "* Multiple choice\n",
    "* Checkbox\n",
    "* Linear scale\n",
    "* Yes/No\n",
    "* Numerical\n",
    "* List\n",
    "* Rank\n",
    "* Top K\n",
    "* Budget\n",
    "* Extract\n",
    "\n",
    "[Learn more about selecting question types](https://docs.expectedparrot.com/en/latest/questions.html)."
   ]
  },
  {
   "cell_type": "markdown",
   "metadata": {
    "cell_id": "7a57974cd2c54ae389707768e361e55d",
    "deepnote_app_block_visible": true,
    "deepnote_cell_type": "markdown",
    "editable": true,
    "slideshow": {
     "slide_type": ""
    },
    "tags": []
   },
   "source": [
    "### Free Text\n",
    "A `free_text` question prompts the respondent to provide a short unstructured response."
   ]
  },
  {
   "cell_type": "code",
   "execution_count": 1,
   "metadata": {
    "allow_embed": "code",
    "cell_id": "975f947c0b3041a6bb56c2be712ecc5a",
    "deepnote_app_block_visible": true,
    "deepnote_cell_type": "code",
    "deepnote_to_be_reexecuted": false,
    "editable": true,
    "execution_millis": 90,
    "execution_start": 1710805207451,
    "slideshow": {
     "slide_type": ""
    },
    "source_hash": null,
    "tags": []
   },
   "outputs": [],
   "source": [
    "from edsl import QuestionFreeText\n",
    "\n",
    "q_ft = QuestionFreeText(\n",
    "    question_name=\"q_ft\",\n",
    "    question_text=\"What improvements would you like to see in options for clothes shopping?\",\n",
    ")"
   ]
  },
  {
   "cell_type": "markdown",
   "metadata": {
    "cell_id": "a3ba54d1e3f645678813fb4a0b2c48d4",
    "deepnote_app_block_visible": true,
    "deepnote_cell_type": "markdown",
    "editable": true,
    "raw_mimetype": "",
    "slideshow": {
     "slide_type": ""
    },
    "tags": []
   },
   "source": [
    "### Multiple Choice\n",
    "A `multiple_choice` question prompts the respondent to select a single option from a given set of options."
   ]
  },
  {
   "cell_type": "code",
   "execution_count": 2,
   "metadata": {
    "allow_embed": "code",
    "cell_id": "f1ad17f996da45279e7348c06fcf6af4",
    "deepnote_app_block_visible": true,
    "deepnote_cell_type": "code",
    "deepnote_to_be_reexecuted": false,
    "editable": true,
    "execution_millis": 35,
    "execution_start": 1710805156124,
    "slideshow": {
     "slide_type": ""
    },
    "source_hash": null,
    "tags": []
   },
   "outputs": [],
   "source": [
    "from edsl import QuestionMultipleChoice\n",
    "\n",
    "q_mc = QuestionMultipleChoice(\n",
    "    question_name=\"q_mc\",\n",
    "    question_text=\"How often do you shop for clothes?\",\n",
    "    question_options=[\"Rarely or never\", \"Annually\", \"Seasonally\", \"Monthly\", \"Daily\"],\n",
    ")"
   ]
  },
  {
   "cell_type": "markdown",
   "metadata": {
    "cell_id": "92bbc509629f4bb7a9a096c89f717386",
    "deepnote_app_block_visible": true,
    "deepnote_cell_type": "markdown",
    "editable": true,
    "slideshow": {
     "slide_type": ""
    },
    "tags": []
   },
   "source": [
    "### Checkbox\n",
    "A `checkbox` question prompts the respondent to select one or more of the given options, which are returned as a list."
   ]
  },
  {
   "cell_type": "code",
   "execution_count": 3,
   "metadata": {
    "allow_embed": "code",
    "cell_id": "2b17ff3f679b4cb8a84678d8e6604021",
    "deepnote_app_block_visible": true,
    "deepnote_cell_type": "code",
    "deepnote_to_be_reexecuted": false,
    "editable": true,
    "execution_millis": 105,
    "execution_start": 1710805191053,
    "slideshow": {
     "slide_type": ""
    },
    "source_hash": null,
    "tags": []
   },
   "outputs": [],
   "source": [
    "from edsl import QuestionCheckBox\n",
    "\n",
    "q_cb = QuestionCheckBox(\n",
    "    question_name=\"q_cb\",\n",
    "    question_text=\"\"\"Which of the following factors are important to you in making decisions about clothes shopping? \n",
    "    Select all that apply.\"\"\",\n",
    "    question_options=[\n",
    "        \"Price\",\n",
    "        \"Quality\",\n",
    "        \"Brand Reputation\",\n",
    "        \"Style and Design\",\n",
    "        \"Fit and Comfort\",\n",
    "        \"Customer Reviews and Recommendations\",\n",
    "        \"Ethical and Sustainable Practices\",\n",
    "        \"Return Policy\",\n",
    "        \"Convenience\",\n",
    "        \"Other\",\n",
    "    ],\n",
    "    min_selections=1,  # This is optional\n",
    "    max_selections=3,  # This is optional\n",
    ")"
   ]
  },
  {
   "cell_type": "markdown",
   "metadata": {
    "cell_id": "3a34bfaf59dc44d4bb6dd816d77c3c50",
    "deepnote_app_block_visible": true,
    "deepnote_cell_type": "markdown",
    "editable": true,
    "slideshow": {
     "slide_type": ""
    },
    "tags": []
   },
   "source": [
    "### Linear Scale\n",
    "A `linear_scale` question prompts the respondent to choose from a set of numerical options."
   ]
  },
  {
   "cell_type": "code",
   "execution_count": 4,
   "metadata": {
    "allow_embed": "code",
    "cell_id": "ac616cd80351428fa13892e797406490",
    "deepnote_app_block_visible": true,
    "deepnote_cell_type": "code",
    "deepnote_to_be_reexecuted": false,
    "editable": true,
    "execution_millis": 13,
    "execution_start": 1710805218096,
    "slideshow": {
     "slide_type": ""
    },
    "source_hash": null,
    "tags": []
   },
   "outputs": [],
   "source": [
    "from edsl import QuestionLinearScale\n",
    "\n",
    "q_ls = QuestionLinearScale(\n",
    "    question_name=\"q_ls\",\n",
    "    question_text=\"On a scale of 0-10, how much do you typically enjoy clothes shopping?\",\n",
    "    question_options=[0, 1, 2, 3, 4, 5, 6, 7, 8, 9, 10],\n",
    "    option_labels = {0:\"Not at all\", 10:\"Very much\"}\n",
    ")"
   ]
  },
  {
   "cell_type": "markdown",
   "metadata": {
    "cell_id": "73d355c2960d48fe9d5ddba92e899f09",
    "deepnote_app_block_visible": true,
    "deepnote_cell_type": "markdown",
    "editable": true,
    "slideshow": {
     "slide_type": ""
    },
    "tags": []
   },
   "source": [
    "### Yes / No\n",
    "A `yes_no` question requires the respondent to respond \"yes\" or \"no\". Response options are set by default and not modifiable. To include other options use a multiple choice question."
   ]
  },
  {
   "cell_type": "code",
   "execution_count": 5,
   "metadata": {
    "allow_embed": "code",
    "cell_id": "890dc7c0e2f045edb75346c3e764c23a",
    "deepnote_app_block_visible": true,
    "deepnote_cell_type": "code",
    "deepnote_to_be_reexecuted": false,
    "editable": true,
    "execution_millis": 108,
    "execution_start": 1710805223624,
    "slideshow": {
     "slide_type": ""
    },
    "source_hash": null,
    "tags": []
   },
   "outputs": [],
   "source": [
    "from edsl import QuestionYesNo\n",
    "\n",
    "q_yn = QuestionYesNo(\n",
    "    question_name=\"q_yn\",\n",
    "    question_text=\"Have you ever felt excluded or frustrated by the standard sizes of the fashion industry?\",\n",
    ")"
   ]
  },
  {
   "cell_type": "markdown",
   "metadata": {
    "cell_id": "67c81fd8482141489be26434583b8820",
    "deepnote_app_block_visible": true,
    "deepnote_cell_type": "markdown",
    "editable": true,
    "slideshow": {
     "slide_type": ""
    },
    "tags": []
   },
   "source": [
    "### Numerical\n",
    "A `numerical` question prompts the respondent to provide a response that is a number. "
   ]
  },
  {
   "cell_type": "code",
   "execution_count": 6,
   "metadata": {
    "allow_embed": "code",
    "cell_id": "b3c06ee221a54bf3a414049031627352",
    "deepnote_app_block_visible": true,
    "deepnote_cell_type": "code",
    "deepnote_to_be_reexecuted": false,
    "editable": true,
    "execution_millis": 57,
    "execution_start": 1710805369037,
    "slideshow": {
     "slide_type": ""
    },
    "source_hash": null,
    "tags": []
   },
   "outputs": [],
   "source": [
    "from edsl import QuestionNumerical\n",
    "\n",
    "q_nu = QuestionNumerical(\n",
    "    question_name=\"q_nu\",\n",
    "    question_text=\"Estimate the amount of money that you spent on clothing in the past year (in $USD).\",\n",
    ")"
   ]
  },
  {
   "cell_type": "markdown",
   "metadata": {
    "cell_id": "eb3993d8face40e9b34a5b13fd7bcbfb",
    "deepnote_app_block_visible": true,
    "deepnote_cell_type": "markdown",
    "editable": true,
    "slideshow": {
     "slide_type": ""
    },
    "tags": []
   },
   "source": [
    "### List\n",
    "A `list` question prompts the respondent to provide a response in the form of a list. This can be a convenient way to reformat free text questions."
   ]
  },
  {
   "cell_type": "code",
   "execution_count": 7,
   "metadata": {
    "allow_embed": "code",
    "cell_id": "94e430250d3e4468afc353d6d64e92b7",
    "deepnote_app_block_visible": true,
    "deepnote_cell_type": "code",
    "deepnote_to_be_reexecuted": false,
    "editable": true,
    "execution_millis": 35,
    "execution_start": 1710805365304,
    "slideshow": {
     "slide_type": ""
    },
    "source_hash": null,
    "tags": []
   },
   "outputs": [],
   "source": [
    "from edsl import QuestionList\n",
    "\n",
    "q_li = QuestionList(\n",
    "    question_name=\"q_li\",\n",
    "    question_text=\"What considerations are important to you in shopping for clothes?\",\n",
    ")"
   ]
  },
  {
   "cell_type": "markdown",
   "metadata": {
    "editable": true,
    "slideshow": {
     "slide_type": ""
    },
    "tags": []
   },
   "source": [
    "### Rank\n",
    "A `rank` question prompts the respondent to rank the items in a given list. "
   ]
  },
  {
   "cell_type": "code",
   "execution_count": 8,
   "metadata": {
    "editable": true,
    "slideshow": {
     "slide_type": ""
    },
    "tags": []
   },
   "outputs": [],
   "source": [
    "from edsl import QuestionRank\n",
    "\n",
    "q_rk = QuestionRank(\n",
    "    question_name=\"q_rk\",\n",
    "    question_text=\"Rank the following items in terms of how much you enjoy shopping for them.\",\n",
    "    question_options=[\n",
    "        \"Hats\",\n",
    "        \"Scarves\",\n",
    "        \"Shirts\",\n",
    "        \"Jackets\",\n",
    "        \"Pants\",\n",
    "        \"Shoes\"\n",
    "    ],\n",
    "    num_selections=5 # optional\n",
    ")"
   ]
  },
  {
   "cell_type": "markdown",
   "metadata": {
    "editable": true,
    "slideshow": {
     "slide_type": ""
    },
    "tags": []
   },
   "source": [
    "### Top K\n",
    "A `top_k` question prompts the respondent to identify a specified number of options from a list. \n",
    "This type is similar to `checkbox` and `rank` types."
   ]
  },
  {
   "cell_type": "code",
   "execution_count": 9,
   "metadata": {
    "editable": true,
    "slideshow": {
     "slide_type": ""
    },
    "tags": []
   },
   "outputs": [],
   "source": [
    "from edsl import QuestionTopK\n",
    "\n",
    "q_tk = QuestionTopK(\n",
    "    question_name=\"q_tk\",\n",
    "    question_text=\"Which of the following payment methods do you prefer?\",\n",
    "    question_options=[\n",
    "        \"Credit card\", \n",
    "        \"Debit card\", \n",
    "        \"Cash\", \n",
    "        \"Check\", \n",
    "        \"Smartphone app\",\n",
    "        \"Other\"\n",
    "    ],\n",
    "    min_selections=2, # min and max must be equal\n",
    "    max_selections=2\n",
    ")"
   ]
  },
  {
   "cell_type": "markdown",
   "metadata": {
    "cell_id": "1db440afd71d46039490181514578291",
    "deepnote_app_block_visible": true,
    "deepnote_cell_type": "markdown",
    "editable": true,
    "slideshow": {
     "slide_type": ""
    },
    "tags": []
   },
   "source": [
    "### Budget\n",
    "A budget question prompts the respondent to allocation a specified sum among a set of options."
   ]
  },
  {
   "cell_type": "code",
   "execution_count": 10,
   "metadata": {
    "allow_embed": "code",
    "cell_id": "70979438f66f45e79e25796fcea66eb5",
    "deepnote_app_block_visible": true,
    "deepnote_cell_type": "code",
    "deepnote_to_be_reexecuted": false,
    "editable": true,
    "execution_millis": 83,
    "execution_start": 1710805253604,
    "slideshow": {
     "slide_type": ""
    },
    "source_hash": null,
    "tags": []
   },
   "outputs": [],
   "source": [
    "from edsl import QuestionBudget\n",
    "\n",
    "q_bg = QuestionBudget(\n",
    "    question_name=\"q_bg\",\n",
    "    question_text=\"\"\"Estimate the percentage of your total time spent shopping for clothes in each of the \n",
    "    following modes.\"\"\",\n",
    "    question_options=[\n",
    "        \"Online\",\n",
    "        \"Malls\",\n",
    "        \"Freestanding stores\",\n",
    "        \"Mail order catalogs\",\n",
    "        \"Other\",\n",
    "    ],\n",
    "    budget_sum=100,\n",
    ")"
   ]
  },
  {
   "cell_type": "markdown",
   "metadata": {
    "cell_id": "1fdbee5a83b74681843fd3a0673c6930",
    "deepnote_app_block_visible": true,
    "deepnote_cell_type": "markdown",
    "editable": true,
    "slideshow": {
     "slide_type": ""
    },
    "tags": []
   },
   "source": [
    "### Extract\n",
    "A question type thatprompts the respondent to provide a response in the form of a dictionary, where the keys and example values are provided. "
   ]
  },
  {
   "cell_type": "code",
   "execution_count": 11,
   "metadata": {
    "allow_embed": false,
    "cell_id": "4defaa1ba59a417485055349e7c4c037",
    "deepnote_app_block_visible": true,
    "deepnote_cell_type": "code",
    "deepnote_to_be_reexecuted": false,
    "editable": true,
    "execution_millis": 91,
    "execution_start": 1710805405692,
    "slideshow": {
     "slide_type": ""
    },
    "source_hash": null,
    "tags": []
   },
   "outputs": [],
   "source": [
    "from edsl import QuestionExtract\n",
    "\n",
    "q_ex = QuestionExtract(\n",
    "    question_name=\"q_ex\",\n",
    "    question_text=\"\"\"Consider all of the articles of clothing in your closet. \n",
    "    Identify the categories of clothing that are most and least valuable to you.\"\"\",\n",
    "    answer_template={\"most_valuable\": \"socks\", \"least_valuable\": \"shoes\"},\n",
    ")"
   ]
  },
  {
   "cell_type": "markdown",
   "metadata": {
    "editable": true,
    "slideshow": {
     "slide_type": ""
    },
    "tags": []
   },
   "source": [
    "## Designing AI agents\n",
    "Next we can design one or more AI agents for a language model to use in answering the questions. \n",
    "This is done by creating an `Agent` object and passing it a dictionary of relevant `traits`.\n",
    "[Learn more about designing agents to use with surveys](https://docs.expectedparrot.com/en/latest/agents.html)."
   ]
  },
  {
   "cell_type": "code",
   "execution_count": 12,
   "metadata": {
    "cell_id": "df3f54efd5b24d78b3638efb1efe5d0e",
    "deepnote_app_block_visible": true,
    "deepnote_cell_type": "code",
    "deepnote_to_be_reexecuted": false,
    "editable": true,
    "execution_millis": 4860,
    "execution_start": 1710805912804,
    "slideshow": {
     "slide_type": ""
    },
    "source_hash": null,
    "tags": []
   },
   "outputs": [],
   "source": [
    "from edsl import AgentList, Agent\n",
    "\n",
    "agents = AgentList([\n",
    "    Agent(\n",
    "        name=\"Fashion designer\", # optional\n",
    "        traits={\"persona\": \"You are an expert in fashion design.\"},\n",
    "        instruction=\"You are answering a survey about your personal experiences shopping for clothes.\"\n",
    "    ),\n",
    "    Agent(\n",
    "        name=\"College student\", # optional\n",
    "        traits={\"persona\": \"You are an undergraduate student.\"},\n",
    "        instruction=\"You are answering a survey about your personal experiences shopping for clothes.\"\n",
    "    )\n",
    "])"
   ]
  },
  {
   "cell_type": "markdown",
   "metadata": {
    "editable": true,
    "slideshow": {
     "slide_type": ""
    },
    "tags": []
   },
   "source": [
    "## Selecting language models\n",
    "EDSL works with many popular language models that we can select to generate the responses.\n",
    "[Learn more about working with language models](https://docs.expectedparrot.com/en/latest/language_models.html).\n",
    "\n",
    "To see a list of all available models:"
   ]
  },
  {
   "cell_type": "code",
   "execution_count": 13,
   "metadata": {
    "editable": true,
    "slideshow": {
     "slide_type": ""
    },
    "tags": []
   },
   "outputs": [],
   "source": [
    "from edsl import ModelList, Model"
   ]
  },
  {
   "cell_type": "code",
   "execution_count": 14,
   "metadata": {
    "editable": true,
    "slideshow": {
     "slide_type": ""
    },
    "tags": []
   },
   "outputs": [],
   "source": [
    "# Model.available()"
   ]
  },
  {
   "cell_type": "markdown",
   "metadata": {
    "editable": true,
    "slideshow": {
     "slide_type": ""
    },
    "tags": []
   },
   "source": [
    "Here we select models to use with our survey. \n",
    "(If none are selected, the default model GPT 4 preview is used.)"
   ]
  },
  {
   "cell_type": "code",
   "execution_count": 15,
   "metadata": {
    "editable": true,
    "slideshow": {
     "slide_type": ""
    },
    "tags": []
   },
   "outputs": [],
   "source": [
    "models = ModelList(\n",
    "    Model(m) for m in [\"gpt-4o\", \"claude-3-5-sonnet-20240620\"]\n",
    ")"
   ]
  },
  {
   "cell_type": "markdown",
   "metadata": {
    "cell_id": "0735d5d26aa6417696b7ff926952ddb3",
    "deepnote_app_block_visible": true,
    "deepnote_cell_type": "markdown",
    "editable": true,
    "slideshow": {
     "slide_type": ""
    },
    "tags": []
   },
   "source": [
    "## Administering questions\n",
    "We administer a question to a language model by adding any agents and models with the `by()` method, and then calling the `run()` method:"
   ]
  },
  {
   "cell_type": "code",
   "execution_count": 16,
   "metadata": {
    "editable": true,
    "slideshow": {
     "slide_type": ""
    },
    "tags": []
   },
   "outputs": [],
   "source": [
    "result_ft = q_ft.by(agents).by(models).run()"
   ]
  },
  {
   "cell_type": "markdown",
   "metadata": {
    "editable": true,
    "slideshow": {
     "slide_type": ""
    },
    "tags": []
   },
   "source": [
    "We can use built-in methods for inspecting the response:"
   ]
  },
  {
   "cell_type": "code",
   "execution_count": 17,
   "metadata": {
    "editable": true,
    "slideshow": {
     "slide_type": ""
    },
    "tags": []
   },
   "outputs": [
    {
     "data": {
      "text/html": [
       "<pre style=\"white-space:pre;overflow-x:auto;line-height:normal;font-family:Menlo,'DejaVu Sans Mono',consolas,'Courier New',monospace\">┏━━━━━━━━━━━━━━━━━━━━━━━━━━━━┳━━━━━━━━━━━━━━━━━━┳━━━━━━━━━━━━━━━━━━━━━━━━━━━━━━━━━━━━━━━━━━━━━━━━━━━━━━━━━━━━━━━━━┓\n",
       "┃<span style=\"color: #800080; text-decoration-color: #800080; font-weight: bold\"> model                      </span>┃<span style=\"color: #800080; text-decoration-color: #800080; font-weight: bold\"> agent            </span>┃<span style=\"color: #800080; text-decoration-color: #800080; font-weight: bold\"> answer                                                          </span>┃\n",
       "┃<span style=\"color: #800080; text-decoration-color: #800080; font-weight: bold\"> .model                     </span>┃<span style=\"color: #800080; text-decoration-color: #800080; font-weight: bold\"> .agent_name      </span>┃<span style=\"color: #800080; text-decoration-color: #800080; font-weight: bold\"> .q_ft                                                           </span>┃\n",
       "┡━━━━━━━━━━━━━━━━━━━━━━━━━━━━╇━━━━━━━━━━━━━━━━━━╇━━━━━━━━━━━━━━━━━━━━━━━━━━━━━━━━━━━━━━━━━━━━━━━━━━━━━━━━━━━━━━━━━┩\n",
       "│<span style=\"color: #7f7f7f; text-decoration-color: #7f7f7f\"> gpt-4o                     </span>│<span style=\"color: #7f7f7f; text-decoration-color: #7f7f7f\"> Fashion designer </span>│<span style=\"color: #7f7f7f; text-decoration-color: #7f7f7f\"> As a fashion design expert, there are several improvements I    </span>│\n",
       "│<span style=\"color: #7f7f7f; text-decoration-color: #7f7f7f\">                            </span>│<span style=\"color: #7f7f7f; text-decoration-color: #7f7f7f\">                  </span>│<span style=\"color: #7f7f7f; text-decoration-color: #7f7f7f\"> would like to see in options for clothes shopping:              </span>│\n",
       "│<span style=\"color: #7f7f7f; text-decoration-color: #7f7f7f\">                            </span>│<span style=\"color: #7f7f7f; text-decoration-color: #7f7f7f\">                  </span>│<span style=\"color: #7f7f7f; text-decoration-color: #7f7f7f\">                                                                 </span>│\n",
       "│<span style=\"color: #7f7f7f; text-decoration-color: #7f7f7f\">                            </span>│<span style=\"color: #7f7f7f; text-decoration-color: #7f7f7f\">                  </span>│<span style=\"color: #7f7f7f; text-decoration-color: #7f7f7f\"> 1. **Sustainability**: More brands should focus on sustainable  </span>│\n",
       "│<span style=\"color: #7f7f7f; text-decoration-color: #7f7f7f\">                            </span>│<span style=\"color: #7f7f7f; text-decoration-color: #7f7f7f\">                  </span>│<span style=\"color: #7f7f7f; text-decoration-color: #7f7f7f\"> practices, including the use of eco-friendly materials and      </span>│\n",
       "│<span style=\"color: #7f7f7f; text-decoration-color: #7f7f7f\">                            </span>│<span style=\"color: #7f7f7f; text-decoration-color: #7f7f7f\">                  </span>│<span style=\"color: #7f7f7f; text-decoration-color: #7f7f7f\"> ethical manufacturing processes. Transparency in the supply     </span>│\n",
       "│<span style=\"color: #7f7f7f; text-decoration-color: #7f7f7f\">                            </span>│<span style=\"color: #7f7f7f; text-decoration-color: #7f7f7f\">                  </span>│<span style=\"color: #7f7f7f; text-decoration-color: #7f7f7f\"> chain is also crucial.                                          </span>│\n",
       "│<span style=\"color: #7f7f7f; text-decoration-color: #7f7f7f\">                            </span>│<span style=\"color: #7f7f7f; text-decoration-color: #7f7f7f\">                  </span>│<span style=\"color: #7f7f7f; text-decoration-color: #7f7f7f\">                                                                 </span>│\n",
       "│<span style=\"color: #7f7f7f; text-decoration-color: #7f7f7f\">                            </span>│<span style=\"color: #7f7f7f; text-decoration-color: #7f7f7f\">                  </span>│<span style=\"color: #7f7f7f; text-decoration-color: #7f7f7f\"> 2. **Customization**: Offering more personalized clothing       </span>│\n",
       "│<span style=\"color: #7f7f7f; text-decoration-color: #7f7f7f\">                            </span>│<span style=\"color: #7f7f7f; text-decoration-color: #7f7f7f\">                  </span>│<span style=\"color: #7f7f7f; text-decoration-color: #7f7f7f\"> options, such as custom sizing, color choices, and design       </span>│\n",
       "│<span style=\"color: #7f7f7f; text-decoration-color: #7f7f7f\">                            </span>│<span style=\"color: #7f7f7f; text-decoration-color: #7f7f7f\">                  </span>│<span style=\"color: #7f7f7f; text-decoration-color: #7f7f7f\"> elements, would cater to individual preferences and body types  </span>│\n",
       "│<span style=\"color: #7f7f7f; text-decoration-color: #7f7f7f\">                            </span>│<span style=\"color: #7f7f7f; text-decoration-color: #7f7f7f\">                  </span>│<span style=\"color: #7f7f7f; text-decoration-color: #7f7f7f\"> better.                                                         </span>│\n",
       "│<span style=\"color: #7f7f7f; text-decoration-color: #7f7f7f\">                            </span>│<span style=\"color: #7f7f7f; text-decoration-color: #7f7f7f\">                  </span>│<span style=\"color: #7f7f7f; text-decoration-color: #7f7f7f\">                                                                 </span>│\n",
       "│<span style=\"color: #7f7f7f; text-decoration-color: #7f7f7f\">                            </span>│<span style=\"color: #7f7f7f; text-decoration-color: #7f7f7f\">                  </span>│<span style=\"color: #7f7f7f; text-decoration-color: #7f7f7f\"> 3. **Technology Integration**: Enhanced use of technology like  </span>│\n",
       "│<span style=\"color: #7f7f7f; text-decoration-color: #7f7f7f\">                            </span>│<span style=\"color: #7f7f7f; text-decoration-color: #7f7f7f\">                  </span>│<span style=\"color: #7f7f7f; text-decoration-color: #7f7f7f\"> virtual fitting rooms and augmented reality to help customers   </span>│\n",
       "│<span style=\"color: #7f7f7f; text-decoration-color: #7f7f7f\">                            </span>│<span style=\"color: #7f7f7f; text-decoration-color: #7f7f7f\">                  </span>│<span style=\"color: #7f7f7f; text-decoration-color: #7f7f7f\"> visualize how clothes will look and fit on them without trying  </span>│\n",
       "│<span style=\"color: #7f7f7f; text-decoration-color: #7f7f7f\">                            </span>│<span style=\"color: #7f7f7f; text-decoration-color: #7f7f7f\">                  </span>│<span style=\"color: #7f7f7f; text-decoration-color: #7f7f7f\"> them on physically.                                             </span>│\n",
       "│<span style=\"color: #7f7f7f; text-decoration-color: #7f7f7f\">                            </span>│<span style=\"color: #7f7f7f; text-decoration-color: #7f7f7f\">                  </span>│<span style=\"color: #7f7f7f; text-decoration-color: #7f7f7f\">                                                                 </span>│\n",
       "│<span style=\"color: #7f7f7f; text-decoration-color: #7f7f7f\">                            </span>│<span style=\"color: #7f7f7f; text-decoration-color: #7f7f7f\">                  </span>│<span style=\"color: #7f7f7f; text-decoration-color: #7f7f7f\"> 4. **Inclusivity**: A broader range of sizes, styles, and       </span>│\n",
       "│<span style=\"color: #7f7f7f; text-decoration-color: #7f7f7f\">                            </span>│<span style=\"color: #7f7f7f; text-decoration-color: #7f7f7f\">                  </span>│<span style=\"color: #7f7f7f; text-decoration-color: #7f7f7f\"> designs that cater to different body shapes, genders, and       </span>│\n",
       "│<span style=\"color: #7f7f7f; text-decoration-color: #7f7f7f\">                            </span>│<span style=\"color: #7f7f7f; text-decoration-color: #7f7f7f\">                  </span>│<span style=\"color: #7f7f7f; text-decoration-color: #7f7f7f\"> cultural backgrounds. This includes adaptive clothing for       </span>│\n",
       "│<span style=\"color: #7f7f7f; text-decoration-color: #7f7f7f\">                            </span>│<span style=\"color: #7f7f7f; text-decoration-color: #7f7f7f\">                  </span>│<span style=\"color: #7f7f7f; text-decoration-color: #7f7f7f\"> people with disabilities.                                       </span>│\n",
       "│<span style=\"color: #7f7f7f; text-decoration-color: #7f7f7f\">                            </span>│<span style=\"color: #7f7f7f; text-decoration-color: #7f7f7f\">                  </span>│<span style=\"color: #7f7f7f; text-decoration-color: #7f7f7f\">                                                                 </span>│\n",
       "│<span style=\"color: #7f7f7f; text-decoration-color: #7f7f7f\">                            </span>│<span style=\"color: #7f7f7f; text-decoration-color: #7f7f7f\">                  </span>│<span style=\"color: #7f7f7f; text-decoration-color: #7f7f7f\"> 5. **Quality over Quantity**: A shift towards producing         </span>│\n",
       "│<span style=\"color: #7f7f7f; text-decoration-color: #7f7f7f\">                            </span>│<span style=\"color: #7f7f7f; text-decoration-color: #7f7f7f\">                  </span>│<span style=\"color: #7f7f7f; text-decoration-color: #7f7f7f\"> high-quality, durable clothing rather than fast fashion. This   </span>│\n",
       "│<span style=\"color: #7f7f7f; text-decoration-color: #7f7f7f\">                            </span>│<span style=\"color: #7f7f7f; text-decoration-color: #7f7f7f\">                  </span>│<span style=\"color: #7f7f7f; text-decoration-color: #7f7f7f\"> would encourage consumers to invest in pieces that last longer. </span>│\n",
       "│<span style=\"color: #7f7f7f; text-decoration-color: #7f7f7f\">                            </span>│<span style=\"color: #7f7f7f; text-decoration-color: #7f7f7f\">                  </span>│<span style=\"color: #7f7f7f; text-decoration-color: #7f7f7f\">                                                                 </span>│\n",
       "│<span style=\"color: #7f7f7f; text-decoration-color: #7f7f7f\">                            </span>│<span style=\"color: #7f7f7f; text-decoration-color: #7f7f7f\">                  </span>│<span style=\"color: #7f7f7f; text-decoration-color: #7f7f7f\"> 6. **Better Online Experience**: Improved online shopping       </span>│\n",
       "│<span style=\"color: #7f7f7f; text-decoration-color: #7f7f7f\">                            </span>│<span style=\"color: #7f7f7f; text-decoration-color: #7f7f7f\">                  </span>│<span style=\"color: #7f7f7f; text-decoration-color: #7f7f7f\"> experiences with detailed product descriptions, high-resolution </span>│\n",
       "│<span style=\"color: #7f7f7f; text-decoration-color: #7f7f7f\">                            </span>│<span style=\"color: #7f7f7f; text-decoration-color: #7f7f7f\">                  </span>│<span style=\"color: #7f7f7f; text-decoration-color: #7f7f7f\"> images, and comprehensive reviews. Additionally, easy return    </span>│\n",
       "│<span style=\"color: #7f7f7f; text-decoration-color: #7f7f7f\">                            </span>│<span style=\"color: #7f7f7f; text-decoration-color: #7f7f7f\">                  </span>│<span style=\"color: #7f7f7f; text-decoration-color: #7f7f7f\"> policies and customer service are essential.                    </span>│\n",
       "│<span style=\"color: #7f7f7f; text-decoration-color: #7f7f7f\">                            </span>│<span style=\"color: #7f7f7f; text-decoration-color: #7f7f7f\">                  </span>│<span style=\"color: #7f7f7f; text-decoration-color: #7f7f7f\">                                                                 </span>│\n",
       "│<span style=\"color: #7f7f7f; text-decoration-color: #7f7f7f\">                            </span>│<span style=\"color: #7f7f7f; text-decoration-color: #7f7f7f\">                  </span>│<span style=\"color: #7f7f7f; text-decoration-color: #7f7f7f\"> 7. **Local Artisans and Designers**: More platforms that        </span>│\n",
       "│<span style=\"color: #7f7f7f; text-decoration-color: #7f7f7f\">                            </span>│<span style=\"color: #7f7f7f; text-decoration-color: #7f7f7f\">                  </span>│<span style=\"color: #7f7f7f; text-decoration-color: #7f7f7f\"> support and showcase local artisans and emerging designers,     </span>│\n",
       "│<span style=\"color: #7f7f7f; text-decoration-color: #7f7f7f\">                            </span>│<span style=\"color: #7f7f7f; text-decoration-color: #7f7f7f\">                  </span>│<span style=\"color: #7f7f7f; text-decoration-color: #7f7f7f\"> giving consumers unique and diverse options while supporting    </span>│\n",
       "│<span style=\"color: #7f7f7f; text-decoration-color: #7f7f7f\">                            </span>│<span style=\"color: #7f7f7f; text-decoration-color: #7f7f7f\">                  </span>│<span style=\"color: #7f7f7f; text-decoration-color: #7f7f7f\"> small businesses.                                               </span>│\n",
       "│<span style=\"color: #7f7f7f; text-decoration-color: #7f7f7f\">                            </span>│<span style=\"color: #7f7f7f; text-decoration-color: #7f7f7f\">                  </span>│<span style=\"color: #7f7f7f; text-decoration-color: #7f7f7f\">                                                                 </span>│\n",
       "│<span style=\"color: #7f7f7f; text-decoration-color: #7f7f7f\">                            </span>│<span style=\"color: #7f7f7f; text-decoration-color: #7f7f7f\">                  </span>│<span style=\"color: #7f7f7f; text-decoration-color: #7f7f7f\"> 8. **Educational Content**: Providing educational content about </span>│\n",
       "│<span style=\"color: #7f7f7f; text-decoration-color: #7f7f7f\">                            </span>│<span style=\"color: #7f7f7f; text-decoration-color: #7f7f7f\">                  </span>│<span style=\"color: #7f7f7f; text-decoration-color: #7f7f7f\"> fabric care, styling tips, and the impact of fashion choices on </span>│\n",
       "│<span style=\"color: #7f7f7f; text-decoration-color: #7f7f7f\">                            </span>│<span style=\"color: #7f7f7f; text-decoration-color: #7f7f7f\">                  </span>│<span style=\"color: #7f7f7f; text-decoration-color: #7f7f7f\"> the environment can help consumers make more informed           </span>│\n",
       "│<span style=\"color: #7f7f7f; text-decoration-color: #7f7f7f\">                            </span>│<span style=\"color: #7f7f7f; text-decoration-color: #7f7f7f\">                  </span>│<span style=\"color: #7f7f7f; text-decoration-color: #7f7f7f\"> decisions.                                                      </span>│\n",
       "├────────────────────────────┼──────────────────┼─────────────────────────────────────────────────────────────────┤\n",
       "│<span style=\"color: #7f7f7f; text-decoration-color: #7f7f7f\"> claude-3-5-sonnet-20240620 </span>│<span style=\"color: #7f7f7f; text-decoration-color: #7f7f7f\"> Fashion designer </span>│<span style=\"color: #7f7f7f; text-decoration-color: #7f7f7f\"> As an expert in fashion design, I would like to see several     </span>│\n",
       "│<span style=\"color: #7f7f7f; text-decoration-color: #7f7f7f\">                            </span>│<span style=\"color: #7f7f7f; text-decoration-color: #7f7f7f\">                  </span>│<span style=\"color: #7f7f7f; text-decoration-color: #7f7f7f\"> improvements in clothes shopping options:                       </span>│\n",
       "│<span style=\"color: #7f7f7f; text-decoration-color: #7f7f7f\">                            </span>│<span style=\"color: #7f7f7f; text-decoration-color: #7f7f7f\">                  </span>│<span style=\"color: #7f7f7f; text-decoration-color: #7f7f7f\">                                                                 </span>│\n",
       "│<span style=\"color: #7f7f7f; text-decoration-color: #7f7f7f\">                            </span>│<span style=\"color: #7f7f7f; text-decoration-color: #7f7f7f\">                  </span>│<span style=\"color: #7f7f7f; text-decoration-color: #7f7f7f\"> 1. More sustainable and eco-friendly materials: I'd love to see </span>│\n",
       "│<span style=\"color: #7f7f7f; text-decoration-color: #7f7f7f\">                            </span>│<span style=\"color: #7f7f7f; text-decoration-color: #7f7f7f\">                  </span>│<span style=\"color: #7f7f7f; text-decoration-color: #7f7f7f\"> a wider range of clothing made from sustainable fabrics and     </span>│\n",
       "│<span style=\"color: #7f7f7f; text-decoration-color: #7f7f7f\">                            </span>│<span style=\"color: #7f7f7f; text-decoration-color: #7f7f7f\">                  </span>│<span style=\"color: #7f7f7f; text-decoration-color: #7f7f7f\"> recycled materials.                                             </span>│\n",
       "│<span style=\"color: #7f7f7f; text-decoration-color: #7f7f7f\">                            </span>│<span style=\"color: #7f7f7f; text-decoration-color: #7f7f7f\">                  </span>│<span style=\"color: #7f7f7f; text-decoration-color: #7f7f7f\">                                                                 </span>│\n",
       "│<span style=\"color: #7f7f7f; text-decoration-color: #7f7f7f\">                            </span>│<span style=\"color: #7f7f7f; text-decoration-color: #7f7f7f\">                  </span>│<span style=\"color: #7f7f7f; text-decoration-color: #7f7f7f\"> 2. Improved size inclusivity: Many brands still lack a truly    </span>│\n",
       "│<span style=\"color: #7f7f7f; text-decoration-color: #7f7f7f\">                            </span>│<span style=\"color: #7f7f7f; text-decoration-color: #7f7f7f\">                  </span>│<span style=\"color: #7f7f7f; text-decoration-color: #7f7f7f\"> inclusive size range. I'd like to see more options for all body </span>│\n",
       "│<span style=\"color: #7f7f7f; text-decoration-color: #7f7f7f\">                            </span>│<span style=\"color: #7f7f7f; text-decoration-color: #7f7f7f\">                  </span>│<span style=\"color: #7f7f7f; text-decoration-color: #7f7f7f\"> types and sizes.                                                </span>│\n",
       "│<span style=\"color: #7f7f7f; text-decoration-color: #7f7f7f\">                            </span>│<span style=\"color: #7f7f7f; text-decoration-color: #7f7f7f\">                  </span>│<span style=\"color: #7f7f7f; text-decoration-color: #7f7f7f\">                                                                 </span>│\n",
       "│<span style=\"color: #7f7f7f; text-decoration-color: #7f7f7f\">                            </span>│<span style=\"color: #7f7f7f; text-decoration-color: #7f7f7f\">                  </span>│<span style=\"color: #7f7f7f; text-decoration-color: #7f7f7f\"> 3. Better integration of technology: Augmented reality fitting  </span>│\n",
       "│<span style=\"color: #7f7f7f; text-decoration-color: #7f7f7f\">                            </span>│<span style=\"color: #7f7f7f; text-decoration-color: #7f7f7f\">                  </span>│<span style=\"color: #7f7f7f; text-decoration-color: #7f7f7f\"> rooms and more accurate virtual try-on experiences would        </span>│\n",
       "│<span style=\"color: #7f7f7f; text-decoration-color: #7f7f7f\">                            </span>│<span style=\"color: #7f7f7f; text-decoration-color: #7f7f7f\">                  </span>│<span style=\"color: #7f7f7f; text-decoration-color: #7f7f7f\"> greatly enhance online shopping.                                </span>│\n",
       "│<span style=\"color: #7f7f7f; text-decoration-color: #7f7f7f\">                            </span>│<span style=\"color: #7f7f7f; text-decoration-color: #7f7f7f\">                  </span>│<span style=\"color: #7f7f7f; text-decoration-color: #7f7f7f\">                                                                 </span>│\n",
       "│<span style=\"color: #7f7f7f; text-decoration-color: #7f7f7f\">                            </span>│<span style=\"color: #7f7f7f; text-decoration-color: #7f7f7f\">                  </span>│<span style=\"color: #7f7f7f; text-decoration-color: #7f7f7f\"> 4. Increased customization options: Allowing customers to       </span>│\n",
       "│<span style=\"color: #7f7f7f; text-decoration-color: #7f7f7f\">                            </span>│<span style=\"color: #7f7f7f; text-decoration-color: #7f7f7f\">                  </span>│<span style=\"color: #7f7f7f; text-decoration-color: #7f7f7f\"> personalize details like sleeve length, necklines, or fabric    </span>│\n",
       "│<span style=\"color: #7f7f7f; text-decoration-color: #7f7f7f\">                            </span>│<span style=\"color: #7f7f7f; text-decoration-color: #7f7f7f\">                  </span>│<span style=\"color: #7f7f7f; text-decoration-color: #7f7f7f\"> choices would be a great improvement.                           </span>│\n",
       "│<span style=\"color: #7f7f7f; text-decoration-color: #7f7f7f\">                            </span>│<span style=\"color: #7f7f7f; text-decoration-color: #7f7f7f\">                  </span>│<span style=\"color: #7f7f7f; text-decoration-color: #7f7f7f\">                                                                 </span>│\n",
       "│<span style=\"color: #7f7f7f; text-decoration-color: #7f7f7f\">                            </span>│<span style=\"color: #7f7f7f; text-decoration-color: #7f7f7f\">                  </span>│<span style=\"color: #7f7f7f; text-decoration-color: #7f7f7f\"> 5. Transparency in production: More information about where and </span>│\n",
       "│<span style=\"color: #7f7f7f; text-decoration-color: #7f7f7f\">                            </span>│<span style=\"color: #7f7f7f; text-decoration-color: #7f7f7f\">                  </span>│<span style=\"color: #7f7f7f; text-decoration-color: #7f7f7f\"> how clothes are made would help consumers make informed         </span>│\n",
       "│<span style=\"color: #7f7f7f; text-decoration-color: #7f7f7f\">                            </span>│<span style=\"color: #7f7f7f; text-decoration-color: #7f7f7f\">                  </span>│<span style=\"color: #7f7f7f; text-decoration-color: #7f7f7f\"> choices.                                                        </span>│\n",
       "│<span style=\"color: #7f7f7f; text-decoration-color: #7f7f7f\">                            </span>│<span style=\"color: #7f7f7f; text-decoration-color: #7f7f7f\">                  </span>│<span style=\"color: #7f7f7f; text-decoration-color: #7f7f7f\">                                                                 </span>│\n",
       "│<span style=\"color: #7f7f7f; text-decoration-color: #7f7f7f\">                            </span>│<span style=\"color: #7f7f7f; text-decoration-color: #7f7f7f\">                  </span>│<span style=\"color: #7f7f7f; text-decoration-color: #7f7f7f\"> 6. Adaptive clothing options: A greater focus on clothing       </span>│\n",
       "│<span style=\"color: #7f7f7f; text-decoration-color: #7f7f7f\">                            </span>│<span style=\"color: #7f7f7f; text-decoration-color: #7f7f7f\">                  </span>│<span style=\"color: #7f7f7f; text-decoration-color: #7f7f7f\"> designed for people with disabilities or specific needs.        </span>│\n",
       "│<span style=\"color: #7f7f7f; text-decoration-color: #7f7f7f\">                            </span>│<span style=\"color: #7f7f7f; text-decoration-color: #7f7f7f\">                  </span>│<span style=\"color: #7f7f7f; text-decoration-color: #7f7f7f\">                                                                 </span>│\n",
       "│<span style=\"color: #7f7f7f; text-decoration-color: #7f7f7f\">                            </span>│<span style=\"color: #7f7f7f; text-decoration-color: #7f7f7f\">                  </span>│<span style=\"color: #7f7f7f; text-decoration-color: #7f7f7f\"> 7. Seasonless collections: Moving away from strict seasonal     </span>│\n",
       "│<span style=\"color: #7f7f7f; text-decoration-color: #7f7f7f\">                            </span>│<span style=\"color: #7f7f7f; text-decoration-color: #7f7f7f\">                  </span>│<span style=\"color: #7f7f7f; text-decoration-color: #7f7f7f\"> collections to more versatile, year-round pieces.               </span>│\n",
       "│<span style=\"color: #7f7f7f; text-decoration-color: #7f7f7f\">                            </span>│<span style=\"color: #7f7f7f; text-decoration-color: #7f7f7f\">                  </span>│<span style=\"color: #7f7f7f; text-decoration-color: #7f7f7f\">                                                                 </span>│\n",
       "│<span style=\"color: #7f7f7f; text-decoration-color: #7f7f7f\">                            </span>│<span style=\"color: #7f7f7f; text-decoration-color: #7f7f7f\">                  </span>│<span style=\"color: #7f7f7f; text-decoration-color: #7f7f7f\"> 8. Improved durability and quality: A shift towards better-made </span>│\n",
       "│<span style=\"color: #7f7f7f; text-decoration-color: #7f7f7f\">                            </span>│<span style=\"color: #7f7f7f; text-decoration-color: #7f7f7f\">                  </span>│<span style=\"color: #7f7f7f; text-decoration-color: #7f7f7f\"> clothing that lasts longer, reducing fast fashion waste.        </span>│\n",
       "│<span style=\"color: #7f7f7f; text-decoration-color: #7f7f7f\">                            </span>│<span style=\"color: #7f7f7f; text-decoration-color: #7f7f7f\">                  </span>│<span style=\"color: #7f7f7f; text-decoration-color: #7f7f7f\">                                                                 </span>│\n",
       "│<span style=\"color: #7f7f7f; text-decoration-color: #7f7f7f\">                            </span>│<span style=\"color: #7f7f7f; text-decoration-color: #7f7f7f\">                  </span>│<span style=\"color: #7f7f7f; text-decoration-color: #7f7f7f\"> 9. More diverse representation: In marketing, runway shows, and </span>│\n",
       "│<span style=\"color: #7f7f7f; text-decoration-color: #7f7f7f\">                            </span>│<span style=\"color: #7f7f7f; text-decoration-color: #7f7f7f\">                  </span>│<span style=\"color: #7f7f7f; text-decoration-color: #7f7f7f\"> overall brand imagery.                                          </span>│\n",
       "│<span style=\"color: #7f7f7f; text-decoration-color: #7f7f7f\">                            </span>│<span style=\"color: #7f7f7f; text-decoration-color: #7f7f7f\">                  </span>│<span style=\"color: #7f7f7f; text-decoration-color: #7f7f7f\">                                                                 </span>│\n",
       "│<span style=\"color: #7f7f7f; text-decoration-color: #7f7f7f\">                            </span>│<span style=\"color: #7f7f7f; text-decoration-color: #7f7f7f\">                  </span>│<span style=\"color: #7f7f7f; text-decoration-color: #7f7f7f\"> 10. Integration of smart textiles: Incorporating innovative     </span>│\n",
       "│<span style=\"color: #7f7f7f; text-decoration-color: #7f7f7f\">                            </span>│<span style=\"color: #7f7f7f; text-decoration-color: #7f7f7f\">                  </span>│<span style=\"color: #7f7f7f; text-decoration-color: #7f7f7f\"> fabrics that respond to environmental changes or offer enhanced </span>│\n",
       "│<span style=\"color: #7f7f7f; text-decoration-color: #7f7f7f\">                            </span>│<span style=\"color: #7f7f7f; text-decoration-color: #7f7f7f\">                  </span>│<span style=\"color: #7f7f7f; text-decoration-color: #7f7f7f\"> functionality.                                                  </span>│\n",
       "├────────────────────────────┼──────────────────┼─────────────────────────────────────────────────────────────────┤\n",
       "│<span style=\"color: #7f7f7f; text-decoration-color: #7f7f7f\"> gpt-4o                     </span>│<span style=\"color: #7f7f7f; text-decoration-color: #7f7f7f\"> College student  </span>│<span style=\"color: #7f7f7f; text-decoration-color: #7f7f7f\"> As an undergraduate student, I would love to see a few          </span>│\n",
       "│<span style=\"color: #7f7f7f; text-decoration-color: #7f7f7f\">                            </span>│<span style=\"color: #7f7f7f; text-decoration-color: #7f7f7f\">                  </span>│<span style=\"color: #7f7f7f; text-decoration-color: #7f7f7f\"> improvements in options for clothes shopping:                   </span>│\n",
       "│<span style=\"color: #7f7f7f; text-decoration-color: #7f7f7f\">                            </span>│<span style=\"color: #7f7f7f; text-decoration-color: #7f7f7f\">                  </span>│<span style=\"color: #7f7f7f; text-decoration-color: #7f7f7f\">                                                                 </span>│\n",
       "│<span style=\"color: #7f7f7f; text-decoration-color: #7f7f7f\">                            </span>│<span style=\"color: #7f7f7f; text-decoration-color: #7f7f7f\">                  </span>│<span style=\"color: #7f7f7f; text-decoration-color: #7f7f7f\"> 1. **Affordability**: More budget-friendly options or student   </span>│\n",
       "│<span style=\"color: #7f7f7f; text-decoration-color: #7f7f7f\">                            </span>│<span style=\"color: #7f7f7f; text-decoration-color: #7f7f7f\">                  </span>│<span style=\"color: #7f7f7f; text-decoration-color: #7f7f7f\"> discounts would be great. It can be tough to manage expenses on </span>│\n",
       "│<span style=\"color: #7f7f7f; text-decoration-color: #7f7f7f\">                            </span>│<span style=\"color: #7f7f7f; text-decoration-color: #7f7f7f\">                  </span>│<span style=\"color: #7f7f7f; text-decoration-color: #7f7f7f\"> a student budget.                                               </span>│\n",
       "│<span style=\"color: #7f7f7f; text-decoration-color: #7f7f7f\">                            </span>│<span style=\"color: #7f7f7f; text-decoration-color: #7f7f7f\">                  </span>│<span style=\"color: #7f7f7f; text-decoration-color: #7f7f7f\">                                                                 </span>│\n",
       "│<span style=\"color: #7f7f7f; text-decoration-color: #7f7f7f\">                            </span>│<span style=\"color: #7f7f7f; text-decoration-color: #7f7f7f\">                  </span>│<span style=\"color: #7f7f7f; text-decoration-color: #7f7f7f\"> 2. **Sustainability**: More eco-friendly and sustainable        </span>│\n",
       "│<span style=\"color: #7f7f7f; text-decoration-color: #7f7f7f\">                            </span>│<span style=\"color: #7f7f7f; text-decoration-color: #7f7f7f\">                  </span>│<span style=\"color: #7f7f7f; text-decoration-color: #7f7f7f\"> clothing options. It's important to have choices that are not   </span>│\n",
       "│<span style=\"color: #7f7f7f; text-decoration-color: #7f7f7f\">                            </span>│<span style=\"color: #7f7f7f; text-decoration-color: #7f7f7f\">                  </span>│<span style=\"color: #7f7f7f; text-decoration-color: #7f7f7f\"> only stylish but also good for the environment.                 </span>│\n",
       "│<span style=\"color: #7f7f7f; text-decoration-color: #7f7f7f\">                            </span>│<span style=\"color: #7f7f7f; text-decoration-color: #7f7f7f\">                  </span>│<span style=\"color: #7f7f7f; text-decoration-color: #7f7f7f\">                                                                 </span>│\n",
       "│<span style=\"color: #7f7f7f; text-decoration-color: #7f7f7f\">                            </span>│<span style=\"color: #7f7f7f; text-decoration-color: #7f7f7f\">                  </span>│<span style=\"color: #7f7f7f; text-decoration-color: #7f7f7f\"> 3. **Size Inclusivity**: A wider range of sizes to accommodate  </span>│\n",
       "│<span style=\"color: #7f7f7f; text-decoration-color: #7f7f7f\">                            </span>│<span style=\"color: #7f7f7f; text-decoration-color: #7f7f7f\">                  </span>│<span style=\"color: #7f7f7f; text-decoration-color: #7f7f7f\"> different body types. It can be frustrating when stores don't   </span>│\n",
       "│<span style=\"color: #7f7f7f; text-decoration-color: #7f7f7f\">                            </span>│<span style=\"color: #7f7f7f; text-decoration-color: #7f7f7f\">                  </span>│<span style=\"color: #7f7f7f; text-decoration-color: #7f7f7f\"> carry sizes that fit well.                                      </span>│\n",
       "│<span style=\"color: #7f7f7f; text-decoration-color: #7f7f7f\">                            </span>│<span style=\"color: #7f7f7f; text-decoration-color: #7f7f7f\">                  </span>│<span style=\"color: #7f7f7f; text-decoration-color: #7f7f7f\">                                                                 </span>│\n",
       "│<span style=\"color: #7f7f7f; text-decoration-color: #7f7f7f\">                            </span>│<span style=\"color: #7f7f7f; text-decoration-color: #7f7f7f\">                  </span>│<span style=\"color: #7f7f7f; text-decoration-color: #7f7f7f\"> 4. **Convenience**: Enhanced online shopping experiences, like  </span>│\n",
       "│<span style=\"color: #7f7f7f; text-decoration-color: #7f7f7f\">                            </span>│<span style=\"color: #7f7f7f; text-decoration-color: #7f7f7f\">                  </span>│<span style=\"color: #7f7f7f; text-decoration-color: #7f7f7f\"> virtual try-ons or better size guides, to make it easier to     </span>│\n",
       "│<span style=\"color: #7f7f7f; text-decoration-color: #7f7f7f\">                            </span>│<span style=\"color: #7f7f7f; text-decoration-color: #7f7f7f\">                  </span>│<span style=\"color: #7f7f7f; text-decoration-color: #7f7f7f\"> shop without having to go to a physical store.                  </span>│\n",
       "│<span style=\"color: #7f7f7f; text-decoration-color: #7f7f7f\">                            </span>│<span style=\"color: #7f7f7f; text-decoration-color: #7f7f7f\">                  </span>│<span style=\"color: #7f7f7f; text-decoration-color: #7f7f7f\">                                                                 </span>│\n",
       "│<span style=\"color: #7f7f7f; text-decoration-color: #7f7f7f\">                            </span>│<span style=\"color: #7f7f7f; text-decoration-color: #7f7f7f\">                  </span>│<span style=\"color: #7f7f7f; text-decoration-color: #7f7f7f\"> 5. **Trendy and Versatile Styles**: Clothes that are both       </span>│\n",
       "│<span style=\"color: #7f7f7f; text-decoration-color: #7f7f7f\">                            </span>│<span style=\"color: #7f7f7f; text-decoration-color: #7f7f7f\">                  </span>│<span style=\"color: #7f7f7f; text-decoration-color: #7f7f7f\"> trendy and versatile, suitable for different occasions like     </span>│\n",
       "│<span style=\"color: #7f7f7f; text-decoration-color: #7f7f7f\">                            </span>│<span style=\"color: #7f7f7f; text-decoration-color: #7f7f7f\">                  </span>│<span style=\"color: #7f7f7f; text-decoration-color: #7f7f7f\"> classes, internships, and social events.                        </span>│\n",
       "│<span style=\"color: #7f7f7f; text-decoration-color: #7f7f7f\">                            </span>│<span style=\"color: #7f7f7f; text-decoration-color: #7f7f7f\">                  </span>│<span style=\"color: #7f7f7f; text-decoration-color: #7f7f7f\">                                                                 </span>│\n",
       "│<span style=\"color: #7f7f7f; text-decoration-color: #7f7f7f\">                            </span>│<span style=\"color: #7f7f7f; text-decoration-color: #7f7f7f\">                  </span>│<span style=\"color: #7f7f7f; text-decoration-color: #7f7f7f\"> 6. **Quality**: Better quality clothes that last longer, so I   </span>│\n",
       "│<span style=\"color: #7f7f7f; text-decoration-color: #7f7f7f\">                            </span>│<span style=\"color: #7f7f7f; text-decoration-color: #7f7f7f\">                  </span>│<span style=\"color: #7f7f7f; text-decoration-color: #7f7f7f\"> don't have to replace them as often.                            </span>│\n",
       "│<span style=\"color: #7f7f7f; text-decoration-color: #7f7f7f\">                            </span>│<span style=\"color: #7f7f7f; text-decoration-color: #7f7f7f\">                  </span>│<span style=\"color: #7f7f7f; text-decoration-color: #7f7f7f\">                                                                 </span>│\n",
       "│<span style=\"color: #7f7f7f; text-decoration-color: #7f7f7f\">                            </span>│<span style=\"color: #7f7f7f; text-decoration-color: #7f7f7f\">                  </span>│<span style=\"color: #7f7f7f; text-decoration-color: #7f7f7f\"> 7. **Second-Hand Options**: More accessible second-hand or      </span>│\n",
       "│<span style=\"color: #7f7f7f; text-decoration-color: #7f7f7f\">                            </span>│<span style=\"color: #7f7f7f; text-decoration-color: #7f7f7f\">                  </span>│<span style=\"color: #7f7f7f; text-decoration-color: #7f7f7f\"> thrift options, either online or in-store, for those who prefer </span>│\n",
       "│<span style=\"color: #7f7f7f; text-decoration-color: #7f7f7f\">                            </span>│<span style=\"color: #7f7f7f; text-decoration-color: #7f7f7f\">                  </span>│<span style=\"color: #7f7f7f; text-decoration-color: #7f7f7f\"> to shop sustainably and affordably.                             </span>│\n",
       "├────────────────────────────┼──────────────────┼─────────────────────────────────────────────────────────────────┤\n",
       "│<span style=\"color: #7f7f7f; text-decoration-color: #7f7f7f\"> claude-3-5-sonnet-20240620 </span>│<span style=\"color: #7f7f7f; text-decoration-color: #7f7f7f\"> College student  </span>│<span style=\"color: #7f7f7f; text-decoration-color: #7f7f7f\"> As an undergraduate student, I'd like to see a few improvements </span>│\n",
       "│<span style=\"color: #7f7f7f; text-decoration-color: #7f7f7f\">                            </span>│<span style=\"color: #7f7f7f; text-decoration-color: #7f7f7f\">                  </span>│<span style=\"color: #7f7f7f; text-decoration-color: #7f7f7f\"> in clothes shopping options:                                    </span>│\n",
       "│<span style=\"color: #7f7f7f; text-decoration-color: #7f7f7f\">                            </span>│<span style=\"color: #7f7f7f; text-decoration-color: #7f7f7f\">                  </span>│<span style=\"color: #7f7f7f; text-decoration-color: #7f7f7f\">                                                                 </span>│\n",
       "│<span style=\"color: #7f7f7f; text-decoration-color: #7f7f7f\">                            </span>│<span style=\"color: #7f7f7f; text-decoration-color: #7f7f7f\">                  </span>│<span style=\"color: #7f7f7f; text-decoration-color: #7f7f7f\"> 1. More affordable options that are still stylish and good      </span>│\n",
       "│<span style=\"color: #7f7f7f; text-decoration-color: #7f7f7f\">                            </span>│<span style=\"color: #7f7f7f; text-decoration-color: #7f7f7f\">                  </span>│<span style=\"color: #7f7f7f; text-decoration-color: #7f7f7f\"> quality. Student budgets can be tight, so reasonably priced     </span>│\n",
       "│<span style=\"color: #7f7f7f; text-decoration-color: #7f7f7f\">                            </span>│<span style=\"color: #7f7f7f; text-decoration-color: #7f7f7f\">                  </span>│<span style=\"color: #7f7f7f; text-decoration-color: #7f7f7f\"> clothes are important.                                          </span>│\n",
       "│<span style=\"color: #7f7f7f; text-decoration-color: #7f7f7f\">                            </span>│<span style=\"color: #7f7f7f; text-decoration-color: #7f7f7f\">                  </span>│<span style=\"color: #7f7f7f; text-decoration-color: #7f7f7f\">                                                                 </span>│\n",
       "│<span style=\"color: #7f7f7f; text-decoration-color: #7f7f7f\">                            </span>│<span style=\"color: #7f7f7f; text-decoration-color: #7f7f7f\">                  </span>│<span style=\"color: #7f7f7f; text-decoration-color: #7f7f7f\"> 2. Increased size inclusivity, especially for trendy styles. It </span>│\n",
       "│<span style=\"color: #7f7f7f; text-decoration-color: #7f7f7f\">                            </span>│<span style=\"color: #7f7f7f; text-decoration-color: #7f7f7f\">                  </span>│<span style=\"color: #7f7f7f; text-decoration-color: #7f7f7f\"> would be great to see popular designs available in a wider      </span>│\n",
       "│<span style=\"color: #7f7f7f; text-decoration-color: #7f7f7f\">                            </span>│<span style=\"color: #7f7f7f; text-decoration-color: #7f7f7f\">                  </span>│<span style=\"color: #7f7f7f; text-decoration-color: #7f7f7f\"> range of sizes.                                                 </span>│\n",
       "│<span style=\"color: #7f7f7f; text-decoration-color: #7f7f7f\">                            </span>│<span style=\"color: #7f7f7f; text-decoration-color: #7f7f7f\">                  </span>│<span style=\"color: #7f7f7f; text-decoration-color: #7f7f7f\">                                                                 </span>│\n",
       "│<span style=\"color: #7f7f7f; text-decoration-color: #7f7f7f\">                            </span>│<span style=\"color: #7f7f7f; text-decoration-color: #7f7f7f\">                  </span>│<span style=\"color: #7f7f7f; text-decoration-color: #7f7f7f\"> 3. More sustainable and eco-friendly clothing choices. Many     </span>│\n",
       "│<span style=\"color: #7f7f7f; text-decoration-color: #7f7f7f\">                            </span>│<span style=\"color: #7f7f7f; text-decoration-color: #7f7f7f\">                  </span>│<span style=\"color: #7f7f7f; text-decoration-color: #7f7f7f\"> students are environmentally conscious and would appreciate     </span>│\n",
       "│<span style=\"color: #7f7f7f; text-decoration-color: #7f7f7f\">                            </span>│<span style=\"color: #7f7f7f; text-decoration-color: #7f7f7f\">                  </span>│<span style=\"color: #7f7f7f; text-decoration-color: #7f7f7f\"> more ethical options.                                           </span>│\n",
       "│<span style=\"color: #7f7f7f; text-decoration-color: #7f7f7f\">                            </span>│<span style=\"color: #7f7f7f; text-decoration-color: #7f7f7f\">                  </span>│<span style=\"color: #7f7f7f; text-decoration-color: #7f7f7f\">                                                                 </span>│\n",
       "│<span style=\"color: #7f7f7f; text-decoration-color: #7f7f7f\">                            </span>│<span style=\"color: #7f7f7f; text-decoration-color: #7f7f7f\">                  </span>│<span style=\"color: #7f7f7f; text-decoration-color: #7f7f7f\"> 4. Better online shopping experiences with accurate sizing      </span>│\n",
       "│<span style=\"color: #7f7f7f; text-decoration-color: #7f7f7f\">                            </span>│<span style=\"color: #7f7f7f; text-decoration-color: #7f7f7f\">                  </span>│<span style=\"color: #7f7f7f; text-decoration-color: #7f7f7f\"> guides and easy returns. This is especially helpful for busy    </span>│\n",
       "│<span style=\"color: #7f7f7f; text-decoration-color: #7f7f7f\">                            </span>│<span style=\"color: #7f7f7f; text-decoration-color: #7f7f7f\">                  </span>│<span style=\"color: #7f7f7f; text-decoration-color: #7f7f7f\"> students who may not have time to shop in-store.                </span>│\n",
       "│<span style=\"color: #7f7f7f; text-decoration-color: #7f7f7f\">                            </span>│<span style=\"color: #7f7f7f; text-decoration-color: #7f7f7f\">                  </span>│<span style=\"color: #7f7f7f; text-decoration-color: #7f7f7f\">                                                                 </span>│\n",
       "│<span style=\"color: #7f7f7f; text-decoration-color: #7f7f7f\">                            </span>│<span style=\"color: #7f7f7f; text-decoration-color: #7f7f7f\">                  </span>│<span style=\"color: #7f7f7f; text-decoration-color: #7f7f7f\"> 5. More versatile pieces that can transition from casual        </span>│\n",
       "│<span style=\"color: #7f7f7f; text-decoration-color: #7f7f7f\">                            </span>│<span style=\"color: #7f7f7f; text-decoration-color: #7f7f7f\">                  </span>│<span style=\"color: #7f7f7f; text-decoration-color: #7f7f7f\"> classroom wear to internship or part-time job appropriate       </span>│\n",
       "│<span style=\"color: #7f7f7f; text-decoration-color: #7f7f7f\">                            </span>│<span style=\"color: #7f7f7f; text-decoration-color: #7f7f7f\">                  </span>│<span style=\"color: #7f7f7f; text-decoration-color: #7f7f7f\"> attire.                                                         </span>│\n",
       "│<span style=\"color: #7f7f7f; text-decoration-color: #7f7f7f\">                            </span>│<span style=\"color: #7f7f7f; text-decoration-color: #7f7f7f\">                  </span>│<span style=\"color: #7f7f7f; text-decoration-color: #7f7f7f\">                                                                 </span>│\n",
       "│<span style=\"color: #7f7f7f; text-decoration-color: #7f7f7f\">                            </span>│<span style=\"color: #7f7f7f; text-decoration-color: #7f7f7f\">                  </span>│<span style=\"color: #7f7f7f; text-decoration-color: #7f7f7f\"> 6. Student discounts or loyalty programs at popular clothing    </span>│\n",
       "│<span style=\"color: #7f7f7f; text-decoration-color: #7f7f7f\">                            </span>│<span style=\"color: #7f7f7f; text-decoration-color: #7f7f7f\">                  </span>│<span style=\"color: #7f7f7f; text-decoration-color: #7f7f7f\"> retailers to help make shopping more affordable.                </span>│\n",
       "│<span style=\"color: #7f7f7f; text-decoration-color: #7f7f7f\">                            </span>│<span style=\"color: #7f7f7f; text-decoration-color: #7f7f7f\">                  </span>│<span style=\"color: #7f7f7f; text-decoration-color: #7f7f7f\">                                                                 </span>│\n",
       "│<span style=\"color: #7f7f7f; text-decoration-color: #7f7f7f\">                            </span>│<span style=\"color: #7f7f7f; text-decoration-color: #7f7f7f\">                  </span>│<span style=\"color: #7f7f7f; text-decoration-color: #7f7f7f\"> 7. Increased options for gender-neutral or unisex clothing      </span>│\n",
       "│<span style=\"color: #7f7f7f; text-decoration-color: #7f7f7f\">                            </span>│<span style=\"color: #7f7f7f; text-decoration-color: #7f7f7f\">                  </span>│<span style=\"color: #7f7f7f; text-decoration-color: #7f7f7f\"> styles.                                                         </span>│\n",
       "└────────────────────────────┴──────────────────┴─────────────────────────────────────────────────────────────────┘\n",
       "</pre>\n"
      ],
      "text/plain": [
       "┏━━━━━━━━━━━━━━━━━━━━━━━━━━━━┳━━━━━━━━━━━━━━━━━━┳━━━━━━━━━━━━━━━━━━━━━━━━━━━━━━━━━━━━━━━━━━━━━━━━━━━━━━━━━━━━━━━━━┓\n",
       "┃\u001b[1;35m \u001b[0m\u001b[1;35mmodel                     \u001b[0m\u001b[1;35m \u001b[0m┃\u001b[1;35m \u001b[0m\u001b[1;35magent           \u001b[0m\u001b[1;35m \u001b[0m┃\u001b[1;35m \u001b[0m\u001b[1;35manswer                                                         \u001b[0m\u001b[1;35m \u001b[0m┃\n",
       "┃\u001b[1;35m \u001b[0m\u001b[1;35m.model                    \u001b[0m\u001b[1;35m \u001b[0m┃\u001b[1;35m \u001b[0m\u001b[1;35m.agent_name     \u001b[0m\u001b[1;35m \u001b[0m┃\u001b[1;35m \u001b[0m\u001b[1;35m.q_ft                                                          \u001b[0m\u001b[1;35m \u001b[0m┃\n",
       "┡━━━━━━━━━━━━━━━━━━━━━━━━━━━━╇━━━━━━━━━━━━━━━━━━╇━━━━━━━━━━━━━━━━━━━━━━━━━━━━━━━━━━━━━━━━━━━━━━━━━━━━━━━━━━━━━━━━━┩\n",
       "│\u001b[2m \u001b[0m\u001b[2mgpt-4o                    \u001b[0m\u001b[2m \u001b[0m│\u001b[2m \u001b[0m\u001b[2mFashion designer\u001b[0m\u001b[2m \u001b[0m│\u001b[2m \u001b[0m\u001b[2mAs a fashion design expert, there are several improvements I   \u001b[0m\u001b[2m \u001b[0m│\n",
       "│\u001b[2m                            \u001b[0m│\u001b[2m                  \u001b[0m│\u001b[2m \u001b[0m\u001b[2mwould like to see in options for clothes shopping:             \u001b[0m\u001b[2m \u001b[0m│\n",
       "│\u001b[2m                            \u001b[0m│\u001b[2m                  \u001b[0m│\u001b[2m \u001b[0m\u001b[2m                                                               \u001b[0m\u001b[2m \u001b[0m│\n",
       "│\u001b[2m                            \u001b[0m│\u001b[2m                  \u001b[0m│\u001b[2m \u001b[0m\u001b[2m1. **Sustainability**: More brands should focus on sustainable \u001b[0m\u001b[2m \u001b[0m│\n",
       "│\u001b[2m                            \u001b[0m│\u001b[2m                  \u001b[0m│\u001b[2m \u001b[0m\u001b[2mpractices, including the use of eco-friendly materials and     \u001b[0m\u001b[2m \u001b[0m│\n",
       "│\u001b[2m                            \u001b[0m│\u001b[2m                  \u001b[0m│\u001b[2m \u001b[0m\u001b[2methical manufacturing processes. Transparency in the supply    \u001b[0m\u001b[2m \u001b[0m│\n",
       "│\u001b[2m                            \u001b[0m│\u001b[2m                  \u001b[0m│\u001b[2m \u001b[0m\u001b[2mchain is also crucial.                                         \u001b[0m\u001b[2m \u001b[0m│\n",
       "│\u001b[2m                            \u001b[0m│\u001b[2m                  \u001b[0m│\u001b[2m \u001b[0m\u001b[2m                                                               \u001b[0m\u001b[2m \u001b[0m│\n",
       "│\u001b[2m                            \u001b[0m│\u001b[2m                  \u001b[0m│\u001b[2m \u001b[0m\u001b[2m2. **Customization**: Offering more personalized clothing      \u001b[0m\u001b[2m \u001b[0m│\n",
       "│\u001b[2m                            \u001b[0m│\u001b[2m                  \u001b[0m│\u001b[2m \u001b[0m\u001b[2moptions, such as custom sizing, color choices, and design      \u001b[0m\u001b[2m \u001b[0m│\n",
       "│\u001b[2m                            \u001b[0m│\u001b[2m                  \u001b[0m│\u001b[2m \u001b[0m\u001b[2melements, would cater to individual preferences and body types \u001b[0m\u001b[2m \u001b[0m│\n",
       "│\u001b[2m                            \u001b[0m│\u001b[2m                  \u001b[0m│\u001b[2m \u001b[0m\u001b[2mbetter.                                                        \u001b[0m\u001b[2m \u001b[0m│\n",
       "│\u001b[2m                            \u001b[0m│\u001b[2m                  \u001b[0m│\u001b[2m \u001b[0m\u001b[2m                                                               \u001b[0m\u001b[2m \u001b[0m│\n",
       "│\u001b[2m                            \u001b[0m│\u001b[2m                  \u001b[0m│\u001b[2m \u001b[0m\u001b[2m3. **Technology Integration**: Enhanced use of technology like \u001b[0m\u001b[2m \u001b[0m│\n",
       "│\u001b[2m                            \u001b[0m│\u001b[2m                  \u001b[0m│\u001b[2m \u001b[0m\u001b[2mvirtual fitting rooms and augmented reality to help customers  \u001b[0m\u001b[2m \u001b[0m│\n",
       "│\u001b[2m                            \u001b[0m│\u001b[2m                  \u001b[0m│\u001b[2m \u001b[0m\u001b[2mvisualize how clothes will look and fit on them without trying \u001b[0m\u001b[2m \u001b[0m│\n",
       "│\u001b[2m                            \u001b[0m│\u001b[2m                  \u001b[0m│\u001b[2m \u001b[0m\u001b[2mthem on physically.                                            \u001b[0m\u001b[2m \u001b[0m│\n",
       "│\u001b[2m                            \u001b[0m│\u001b[2m                  \u001b[0m│\u001b[2m \u001b[0m\u001b[2m                                                               \u001b[0m\u001b[2m \u001b[0m│\n",
       "│\u001b[2m                            \u001b[0m│\u001b[2m                  \u001b[0m│\u001b[2m \u001b[0m\u001b[2m4. **Inclusivity**: A broader range of sizes, styles, and      \u001b[0m\u001b[2m \u001b[0m│\n",
       "│\u001b[2m                            \u001b[0m│\u001b[2m                  \u001b[0m│\u001b[2m \u001b[0m\u001b[2mdesigns that cater to different body shapes, genders, and      \u001b[0m\u001b[2m \u001b[0m│\n",
       "│\u001b[2m                            \u001b[0m│\u001b[2m                  \u001b[0m│\u001b[2m \u001b[0m\u001b[2mcultural backgrounds. This includes adaptive clothing for      \u001b[0m\u001b[2m \u001b[0m│\n",
       "│\u001b[2m                            \u001b[0m│\u001b[2m                  \u001b[0m│\u001b[2m \u001b[0m\u001b[2mpeople with disabilities.                                      \u001b[0m\u001b[2m \u001b[0m│\n",
       "│\u001b[2m                            \u001b[0m│\u001b[2m                  \u001b[0m│\u001b[2m \u001b[0m\u001b[2m                                                               \u001b[0m\u001b[2m \u001b[0m│\n",
       "│\u001b[2m                            \u001b[0m│\u001b[2m                  \u001b[0m│\u001b[2m \u001b[0m\u001b[2m5. **Quality over Quantity**: A shift towards producing        \u001b[0m\u001b[2m \u001b[0m│\n",
       "│\u001b[2m                            \u001b[0m│\u001b[2m                  \u001b[0m│\u001b[2m \u001b[0m\u001b[2mhigh-quality, durable clothing rather than fast fashion. This  \u001b[0m\u001b[2m \u001b[0m│\n",
       "│\u001b[2m                            \u001b[0m│\u001b[2m                  \u001b[0m│\u001b[2m \u001b[0m\u001b[2mwould encourage consumers to invest in pieces that last longer.\u001b[0m\u001b[2m \u001b[0m│\n",
       "│\u001b[2m                            \u001b[0m│\u001b[2m                  \u001b[0m│\u001b[2m \u001b[0m\u001b[2m                                                               \u001b[0m\u001b[2m \u001b[0m│\n",
       "│\u001b[2m                            \u001b[0m│\u001b[2m                  \u001b[0m│\u001b[2m \u001b[0m\u001b[2m6. **Better Online Experience**: Improved online shopping      \u001b[0m\u001b[2m \u001b[0m│\n",
       "│\u001b[2m                            \u001b[0m│\u001b[2m                  \u001b[0m│\u001b[2m \u001b[0m\u001b[2mexperiences with detailed product descriptions, high-resolution\u001b[0m\u001b[2m \u001b[0m│\n",
       "│\u001b[2m                            \u001b[0m│\u001b[2m                  \u001b[0m│\u001b[2m \u001b[0m\u001b[2mimages, and comprehensive reviews. Additionally, easy return   \u001b[0m\u001b[2m \u001b[0m│\n",
       "│\u001b[2m                            \u001b[0m│\u001b[2m                  \u001b[0m│\u001b[2m \u001b[0m\u001b[2mpolicies and customer service are essential.                   \u001b[0m\u001b[2m \u001b[0m│\n",
       "│\u001b[2m                            \u001b[0m│\u001b[2m                  \u001b[0m│\u001b[2m \u001b[0m\u001b[2m                                                               \u001b[0m\u001b[2m \u001b[0m│\n",
       "│\u001b[2m                            \u001b[0m│\u001b[2m                  \u001b[0m│\u001b[2m \u001b[0m\u001b[2m7. **Local Artisans and Designers**: More platforms that       \u001b[0m\u001b[2m \u001b[0m│\n",
       "│\u001b[2m                            \u001b[0m│\u001b[2m                  \u001b[0m│\u001b[2m \u001b[0m\u001b[2msupport and showcase local artisans and emerging designers,    \u001b[0m\u001b[2m \u001b[0m│\n",
       "│\u001b[2m                            \u001b[0m│\u001b[2m                  \u001b[0m│\u001b[2m \u001b[0m\u001b[2mgiving consumers unique and diverse options while supporting   \u001b[0m\u001b[2m \u001b[0m│\n",
       "│\u001b[2m                            \u001b[0m│\u001b[2m                  \u001b[0m│\u001b[2m \u001b[0m\u001b[2msmall businesses.                                              \u001b[0m\u001b[2m \u001b[0m│\n",
       "│\u001b[2m                            \u001b[0m│\u001b[2m                  \u001b[0m│\u001b[2m \u001b[0m\u001b[2m                                                               \u001b[0m\u001b[2m \u001b[0m│\n",
       "│\u001b[2m                            \u001b[0m│\u001b[2m                  \u001b[0m│\u001b[2m \u001b[0m\u001b[2m8. **Educational Content**: Providing educational content about\u001b[0m\u001b[2m \u001b[0m│\n",
       "│\u001b[2m                            \u001b[0m│\u001b[2m                  \u001b[0m│\u001b[2m \u001b[0m\u001b[2mfabric care, styling tips, and the impact of fashion choices on\u001b[0m\u001b[2m \u001b[0m│\n",
       "│\u001b[2m                            \u001b[0m│\u001b[2m                  \u001b[0m│\u001b[2m \u001b[0m\u001b[2mthe environment can help consumers make more informed          \u001b[0m\u001b[2m \u001b[0m│\n",
       "│\u001b[2m                            \u001b[0m│\u001b[2m                  \u001b[0m│\u001b[2m \u001b[0m\u001b[2mdecisions.                                                     \u001b[0m\u001b[2m \u001b[0m│\n",
       "├────────────────────────────┼──────────────────┼─────────────────────────────────────────────────────────────────┤\n",
       "│\u001b[2m \u001b[0m\u001b[2mclaude-3-5-sonnet-20240620\u001b[0m\u001b[2m \u001b[0m│\u001b[2m \u001b[0m\u001b[2mFashion designer\u001b[0m\u001b[2m \u001b[0m│\u001b[2m \u001b[0m\u001b[2mAs an expert in fashion design, I would like to see several    \u001b[0m\u001b[2m \u001b[0m│\n",
       "│\u001b[2m                            \u001b[0m│\u001b[2m                  \u001b[0m│\u001b[2m \u001b[0m\u001b[2mimprovements in clothes shopping options:                      \u001b[0m\u001b[2m \u001b[0m│\n",
       "│\u001b[2m                            \u001b[0m│\u001b[2m                  \u001b[0m│\u001b[2m \u001b[0m\u001b[2m                                                               \u001b[0m\u001b[2m \u001b[0m│\n",
       "│\u001b[2m                            \u001b[0m│\u001b[2m                  \u001b[0m│\u001b[2m \u001b[0m\u001b[2m1. More sustainable and eco-friendly materials: I'd love to see\u001b[0m\u001b[2m \u001b[0m│\n",
       "│\u001b[2m                            \u001b[0m│\u001b[2m                  \u001b[0m│\u001b[2m \u001b[0m\u001b[2ma wider range of clothing made from sustainable fabrics and    \u001b[0m\u001b[2m \u001b[0m│\n",
       "│\u001b[2m                            \u001b[0m│\u001b[2m                  \u001b[0m│\u001b[2m \u001b[0m\u001b[2mrecycled materials.                                            \u001b[0m\u001b[2m \u001b[0m│\n",
       "│\u001b[2m                            \u001b[0m│\u001b[2m                  \u001b[0m│\u001b[2m \u001b[0m\u001b[2m                                                               \u001b[0m\u001b[2m \u001b[0m│\n",
       "│\u001b[2m                            \u001b[0m│\u001b[2m                  \u001b[0m│\u001b[2m \u001b[0m\u001b[2m2. Improved size inclusivity: Many brands still lack a truly   \u001b[0m\u001b[2m \u001b[0m│\n",
       "│\u001b[2m                            \u001b[0m│\u001b[2m                  \u001b[0m│\u001b[2m \u001b[0m\u001b[2minclusive size range. I'd like to see more options for all body\u001b[0m\u001b[2m \u001b[0m│\n",
       "│\u001b[2m                            \u001b[0m│\u001b[2m                  \u001b[0m│\u001b[2m \u001b[0m\u001b[2mtypes and sizes.                                               \u001b[0m\u001b[2m \u001b[0m│\n",
       "│\u001b[2m                            \u001b[0m│\u001b[2m                  \u001b[0m│\u001b[2m \u001b[0m\u001b[2m                                                               \u001b[0m\u001b[2m \u001b[0m│\n",
       "│\u001b[2m                            \u001b[0m│\u001b[2m                  \u001b[0m│\u001b[2m \u001b[0m\u001b[2m3. Better integration of technology: Augmented reality fitting \u001b[0m\u001b[2m \u001b[0m│\n",
       "│\u001b[2m                            \u001b[0m│\u001b[2m                  \u001b[0m│\u001b[2m \u001b[0m\u001b[2mrooms and more accurate virtual try-on experiences would       \u001b[0m\u001b[2m \u001b[0m│\n",
       "│\u001b[2m                            \u001b[0m│\u001b[2m                  \u001b[0m│\u001b[2m \u001b[0m\u001b[2mgreatly enhance online shopping.                               \u001b[0m\u001b[2m \u001b[0m│\n",
       "│\u001b[2m                            \u001b[0m│\u001b[2m                  \u001b[0m│\u001b[2m \u001b[0m\u001b[2m                                                               \u001b[0m\u001b[2m \u001b[0m│\n",
       "│\u001b[2m                            \u001b[0m│\u001b[2m                  \u001b[0m│\u001b[2m \u001b[0m\u001b[2m4. Increased customization options: Allowing customers to      \u001b[0m\u001b[2m \u001b[0m│\n",
       "│\u001b[2m                            \u001b[0m│\u001b[2m                  \u001b[0m│\u001b[2m \u001b[0m\u001b[2mpersonalize details like sleeve length, necklines, or fabric   \u001b[0m\u001b[2m \u001b[0m│\n",
       "│\u001b[2m                            \u001b[0m│\u001b[2m                  \u001b[0m│\u001b[2m \u001b[0m\u001b[2mchoices would be a great improvement.                          \u001b[0m\u001b[2m \u001b[0m│\n",
       "│\u001b[2m                            \u001b[0m│\u001b[2m                  \u001b[0m│\u001b[2m \u001b[0m\u001b[2m                                                               \u001b[0m\u001b[2m \u001b[0m│\n",
       "│\u001b[2m                            \u001b[0m│\u001b[2m                  \u001b[0m│\u001b[2m \u001b[0m\u001b[2m5. Transparency in production: More information about where and\u001b[0m\u001b[2m \u001b[0m│\n",
       "│\u001b[2m                            \u001b[0m│\u001b[2m                  \u001b[0m│\u001b[2m \u001b[0m\u001b[2mhow clothes are made would help consumers make informed        \u001b[0m\u001b[2m \u001b[0m│\n",
       "│\u001b[2m                            \u001b[0m│\u001b[2m                  \u001b[0m│\u001b[2m \u001b[0m\u001b[2mchoices.                                                       \u001b[0m\u001b[2m \u001b[0m│\n",
       "│\u001b[2m                            \u001b[0m│\u001b[2m                  \u001b[0m│\u001b[2m \u001b[0m\u001b[2m                                                               \u001b[0m\u001b[2m \u001b[0m│\n",
       "│\u001b[2m                            \u001b[0m│\u001b[2m                  \u001b[0m│\u001b[2m \u001b[0m\u001b[2m6. Adaptive clothing options: A greater focus on clothing      \u001b[0m\u001b[2m \u001b[0m│\n",
       "│\u001b[2m                            \u001b[0m│\u001b[2m                  \u001b[0m│\u001b[2m \u001b[0m\u001b[2mdesigned for people with disabilities or specific needs.       \u001b[0m\u001b[2m \u001b[0m│\n",
       "│\u001b[2m                            \u001b[0m│\u001b[2m                  \u001b[0m│\u001b[2m \u001b[0m\u001b[2m                                                               \u001b[0m\u001b[2m \u001b[0m│\n",
       "│\u001b[2m                            \u001b[0m│\u001b[2m                  \u001b[0m│\u001b[2m \u001b[0m\u001b[2m7. Seasonless collections: Moving away from strict seasonal    \u001b[0m\u001b[2m \u001b[0m│\n",
       "│\u001b[2m                            \u001b[0m│\u001b[2m                  \u001b[0m│\u001b[2m \u001b[0m\u001b[2mcollections to more versatile, year-round pieces.              \u001b[0m\u001b[2m \u001b[0m│\n",
       "│\u001b[2m                            \u001b[0m│\u001b[2m                  \u001b[0m│\u001b[2m \u001b[0m\u001b[2m                                                               \u001b[0m\u001b[2m \u001b[0m│\n",
       "│\u001b[2m                            \u001b[0m│\u001b[2m                  \u001b[0m│\u001b[2m \u001b[0m\u001b[2m8. Improved durability and quality: A shift towards better-made\u001b[0m\u001b[2m \u001b[0m│\n",
       "│\u001b[2m                            \u001b[0m│\u001b[2m                  \u001b[0m│\u001b[2m \u001b[0m\u001b[2mclothing that lasts longer, reducing fast fashion waste.       \u001b[0m\u001b[2m \u001b[0m│\n",
       "│\u001b[2m                            \u001b[0m│\u001b[2m                  \u001b[0m│\u001b[2m \u001b[0m\u001b[2m                                                               \u001b[0m\u001b[2m \u001b[0m│\n",
       "│\u001b[2m                            \u001b[0m│\u001b[2m                  \u001b[0m│\u001b[2m \u001b[0m\u001b[2m9. More diverse representation: In marketing, runway shows, and\u001b[0m\u001b[2m \u001b[0m│\n",
       "│\u001b[2m                            \u001b[0m│\u001b[2m                  \u001b[0m│\u001b[2m \u001b[0m\u001b[2moverall brand imagery.                                         \u001b[0m\u001b[2m \u001b[0m│\n",
       "│\u001b[2m                            \u001b[0m│\u001b[2m                  \u001b[0m│\u001b[2m \u001b[0m\u001b[2m                                                               \u001b[0m\u001b[2m \u001b[0m│\n",
       "│\u001b[2m                            \u001b[0m│\u001b[2m                  \u001b[0m│\u001b[2m \u001b[0m\u001b[2m10. Integration of smart textiles: Incorporating innovative    \u001b[0m\u001b[2m \u001b[0m│\n",
       "│\u001b[2m                            \u001b[0m│\u001b[2m                  \u001b[0m│\u001b[2m \u001b[0m\u001b[2mfabrics that respond to environmental changes or offer enhanced\u001b[0m\u001b[2m \u001b[0m│\n",
       "│\u001b[2m                            \u001b[0m│\u001b[2m                  \u001b[0m│\u001b[2m \u001b[0m\u001b[2mfunctionality.                                                 \u001b[0m\u001b[2m \u001b[0m│\n",
       "├────────────────────────────┼──────────────────┼─────────────────────────────────────────────────────────────────┤\n",
       "│\u001b[2m \u001b[0m\u001b[2mgpt-4o                    \u001b[0m\u001b[2m \u001b[0m│\u001b[2m \u001b[0m\u001b[2mCollege student \u001b[0m\u001b[2m \u001b[0m│\u001b[2m \u001b[0m\u001b[2mAs an undergraduate student, I would love to see a few         \u001b[0m\u001b[2m \u001b[0m│\n",
       "│\u001b[2m                            \u001b[0m│\u001b[2m                  \u001b[0m│\u001b[2m \u001b[0m\u001b[2mimprovements in options for clothes shopping:                  \u001b[0m\u001b[2m \u001b[0m│\n",
       "│\u001b[2m                            \u001b[0m│\u001b[2m                  \u001b[0m│\u001b[2m \u001b[0m\u001b[2m                                                               \u001b[0m\u001b[2m \u001b[0m│\n",
       "│\u001b[2m                            \u001b[0m│\u001b[2m                  \u001b[0m│\u001b[2m \u001b[0m\u001b[2m1. **Affordability**: More budget-friendly options or student  \u001b[0m\u001b[2m \u001b[0m│\n",
       "│\u001b[2m                            \u001b[0m│\u001b[2m                  \u001b[0m│\u001b[2m \u001b[0m\u001b[2mdiscounts would be great. It can be tough to manage expenses on\u001b[0m\u001b[2m \u001b[0m│\n",
       "│\u001b[2m                            \u001b[0m│\u001b[2m                  \u001b[0m│\u001b[2m \u001b[0m\u001b[2ma student budget.                                              \u001b[0m\u001b[2m \u001b[0m│\n",
       "│\u001b[2m                            \u001b[0m│\u001b[2m                  \u001b[0m│\u001b[2m \u001b[0m\u001b[2m                                                               \u001b[0m\u001b[2m \u001b[0m│\n",
       "│\u001b[2m                            \u001b[0m│\u001b[2m                  \u001b[0m│\u001b[2m \u001b[0m\u001b[2m2. **Sustainability**: More eco-friendly and sustainable       \u001b[0m\u001b[2m \u001b[0m│\n",
       "│\u001b[2m                            \u001b[0m│\u001b[2m                  \u001b[0m│\u001b[2m \u001b[0m\u001b[2mclothing options. It's important to have choices that are not  \u001b[0m\u001b[2m \u001b[0m│\n",
       "│\u001b[2m                            \u001b[0m│\u001b[2m                  \u001b[0m│\u001b[2m \u001b[0m\u001b[2monly stylish but also good for the environment.                \u001b[0m\u001b[2m \u001b[0m│\n",
       "│\u001b[2m                            \u001b[0m│\u001b[2m                  \u001b[0m│\u001b[2m \u001b[0m\u001b[2m                                                               \u001b[0m\u001b[2m \u001b[0m│\n",
       "│\u001b[2m                            \u001b[0m│\u001b[2m                  \u001b[0m│\u001b[2m \u001b[0m\u001b[2m3. **Size Inclusivity**: A wider range of sizes to accommodate \u001b[0m\u001b[2m \u001b[0m│\n",
       "│\u001b[2m                            \u001b[0m│\u001b[2m                  \u001b[0m│\u001b[2m \u001b[0m\u001b[2mdifferent body types. It can be frustrating when stores don't  \u001b[0m\u001b[2m \u001b[0m│\n",
       "│\u001b[2m                            \u001b[0m│\u001b[2m                  \u001b[0m│\u001b[2m \u001b[0m\u001b[2mcarry sizes that fit well.                                     \u001b[0m\u001b[2m \u001b[0m│\n",
       "│\u001b[2m                            \u001b[0m│\u001b[2m                  \u001b[0m│\u001b[2m \u001b[0m\u001b[2m                                                               \u001b[0m\u001b[2m \u001b[0m│\n",
       "│\u001b[2m                            \u001b[0m│\u001b[2m                  \u001b[0m│\u001b[2m \u001b[0m\u001b[2m4. **Convenience**: Enhanced online shopping experiences, like \u001b[0m\u001b[2m \u001b[0m│\n",
       "│\u001b[2m                            \u001b[0m│\u001b[2m                  \u001b[0m│\u001b[2m \u001b[0m\u001b[2mvirtual try-ons or better size guides, to make it easier to    \u001b[0m\u001b[2m \u001b[0m│\n",
       "│\u001b[2m                            \u001b[0m│\u001b[2m                  \u001b[0m│\u001b[2m \u001b[0m\u001b[2mshop without having to go to a physical store.                 \u001b[0m\u001b[2m \u001b[0m│\n",
       "│\u001b[2m                            \u001b[0m│\u001b[2m                  \u001b[0m│\u001b[2m \u001b[0m\u001b[2m                                                               \u001b[0m\u001b[2m \u001b[0m│\n",
       "│\u001b[2m                            \u001b[0m│\u001b[2m                  \u001b[0m│\u001b[2m \u001b[0m\u001b[2m5. **Trendy and Versatile Styles**: Clothes that are both      \u001b[0m\u001b[2m \u001b[0m│\n",
       "│\u001b[2m                            \u001b[0m│\u001b[2m                  \u001b[0m│\u001b[2m \u001b[0m\u001b[2mtrendy and versatile, suitable for different occasions like    \u001b[0m\u001b[2m \u001b[0m│\n",
       "│\u001b[2m                            \u001b[0m│\u001b[2m                  \u001b[0m│\u001b[2m \u001b[0m\u001b[2mclasses, internships, and social events.                       \u001b[0m\u001b[2m \u001b[0m│\n",
       "│\u001b[2m                            \u001b[0m│\u001b[2m                  \u001b[0m│\u001b[2m \u001b[0m\u001b[2m                                                               \u001b[0m\u001b[2m \u001b[0m│\n",
       "│\u001b[2m                            \u001b[0m│\u001b[2m                  \u001b[0m│\u001b[2m \u001b[0m\u001b[2m6. **Quality**: Better quality clothes that last longer, so I  \u001b[0m\u001b[2m \u001b[0m│\n",
       "│\u001b[2m                            \u001b[0m│\u001b[2m                  \u001b[0m│\u001b[2m \u001b[0m\u001b[2mdon't have to replace them as often.                           \u001b[0m\u001b[2m \u001b[0m│\n",
       "│\u001b[2m                            \u001b[0m│\u001b[2m                  \u001b[0m│\u001b[2m \u001b[0m\u001b[2m                                                               \u001b[0m\u001b[2m \u001b[0m│\n",
       "│\u001b[2m                            \u001b[0m│\u001b[2m                  \u001b[0m│\u001b[2m \u001b[0m\u001b[2m7. **Second-Hand Options**: More accessible second-hand or     \u001b[0m\u001b[2m \u001b[0m│\n",
       "│\u001b[2m                            \u001b[0m│\u001b[2m                  \u001b[0m│\u001b[2m \u001b[0m\u001b[2mthrift options, either online or in-store, for those who prefer\u001b[0m\u001b[2m \u001b[0m│\n",
       "│\u001b[2m                            \u001b[0m│\u001b[2m                  \u001b[0m│\u001b[2m \u001b[0m\u001b[2mto shop sustainably and affordably.                            \u001b[0m\u001b[2m \u001b[0m│\n",
       "├────────────────────────────┼──────────────────┼─────────────────────────────────────────────────────────────────┤\n",
       "│\u001b[2m \u001b[0m\u001b[2mclaude-3-5-sonnet-20240620\u001b[0m\u001b[2m \u001b[0m│\u001b[2m \u001b[0m\u001b[2mCollege student \u001b[0m\u001b[2m \u001b[0m│\u001b[2m \u001b[0m\u001b[2mAs an undergraduate student, I'd like to see a few improvements\u001b[0m\u001b[2m \u001b[0m│\n",
       "│\u001b[2m                            \u001b[0m│\u001b[2m                  \u001b[0m│\u001b[2m \u001b[0m\u001b[2min clothes shopping options:                                   \u001b[0m\u001b[2m \u001b[0m│\n",
       "│\u001b[2m                            \u001b[0m│\u001b[2m                  \u001b[0m│\u001b[2m \u001b[0m\u001b[2m                                                               \u001b[0m\u001b[2m \u001b[0m│\n",
       "│\u001b[2m                            \u001b[0m│\u001b[2m                  \u001b[0m│\u001b[2m \u001b[0m\u001b[2m1. More affordable options that are still stylish and good     \u001b[0m\u001b[2m \u001b[0m│\n",
       "│\u001b[2m                            \u001b[0m│\u001b[2m                  \u001b[0m│\u001b[2m \u001b[0m\u001b[2mquality. Student budgets can be tight, so reasonably priced    \u001b[0m\u001b[2m \u001b[0m│\n",
       "│\u001b[2m                            \u001b[0m│\u001b[2m                  \u001b[0m│\u001b[2m \u001b[0m\u001b[2mclothes are important.                                         \u001b[0m\u001b[2m \u001b[0m│\n",
       "│\u001b[2m                            \u001b[0m│\u001b[2m                  \u001b[0m│\u001b[2m \u001b[0m\u001b[2m                                                               \u001b[0m\u001b[2m \u001b[0m│\n",
       "│\u001b[2m                            \u001b[0m│\u001b[2m                  \u001b[0m│\u001b[2m \u001b[0m\u001b[2m2. Increased size inclusivity, especially for trendy styles. It\u001b[0m\u001b[2m \u001b[0m│\n",
       "│\u001b[2m                            \u001b[0m│\u001b[2m                  \u001b[0m│\u001b[2m \u001b[0m\u001b[2mwould be great to see popular designs available in a wider     \u001b[0m\u001b[2m \u001b[0m│\n",
       "│\u001b[2m                            \u001b[0m│\u001b[2m                  \u001b[0m│\u001b[2m \u001b[0m\u001b[2mrange of sizes.                                                \u001b[0m\u001b[2m \u001b[0m│\n",
       "│\u001b[2m                            \u001b[0m│\u001b[2m                  \u001b[0m│\u001b[2m \u001b[0m\u001b[2m                                                               \u001b[0m\u001b[2m \u001b[0m│\n",
       "│\u001b[2m                            \u001b[0m│\u001b[2m                  \u001b[0m│\u001b[2m \u001b[0m\u001b[2m3. More sustainable and eco-friendly clothing choices. Many    \u001b[0m\u001b[2m \u001b[0m│\n",
       "│\u001b[2m                            \u001b[0m│\u001b[2m                  \u001b[0m│\u001b[2m \u001b[0m\u001b[2mstudents are environmentally conscious and would appreciate    \u001b[0m\u001b[2m \u001b[0m│\n",
       "│\u001b[2m                            \u001b[0m│\u001b[2m                  \u001b[0m│\u001b[2m \u001b[0m\u001b[2mmore ethical options.                                          \u001b[0m\u001b[2m \u001b[0m│\n",
       "│\u001b[2m                            \u001b[0m│\u001b[2m                  \u001b[0m│\u001b[2m \u001b[0m\u001b[2m                                                               \u001b[0m\u001b[2m \u001b[0m│\n",
       "│\u001b[2m                            \u001b[0m│\u001b[2m                  \u001b[0m│\u001b[2m \u001b[0m\u001b[2m4. Better online shopping experiences with accurate sizing     \u001b[0m\u001b[2m \u001b[0m│\n",
       "│\u001b[2m                            \u001b[0m│\u001b[2m                  \u001b[0m│\u001b[2m \u001b[0m\u001b[2mguides and easy returns. This is especially helpful for busy   \u001b[0m\u001b[2m \u001b[0m│\n",
       "│\u001b[2m                            \u001b[0m│\u001b[2m                  \u001b[0m│\u001b[2m \u001b[0m\u001b[2mstudents who may not have time to shop in-store.               \u001b[0m\u001b[2m \u001b[0m│\n",
       "│\u001b[2m                            \u001b[0m│\u001b[2m                  \u001b[0m│\u001b[2m \u001b[0m\u001b[2m                                                               \u001b[0m\u001b[2m \u001b[0m│\n",
       "│\u001b[2m                            \u001b[0m│\u001b[2m                  \u001b[0m│\u001b[2m \u001b[0m\u001b[2m5. More versatile pieces that can transition from casual       \u001b[0m\u001b[2m \u001b[0m│\n",
       "│\u001b[2m                            \u001b[0m│\u001b[2m                  \u001b[0m│\u001b[2m \u001b[0m\u001b[2mclassroom wear to internship or part-time job appropriate      \u001b[0m\u001b[2m \u001b[0m│\n",
       "│\u001b[2m                            \u001b[0m│\u001b[2m                  \u001b[0m│\u001b[2m \u001b[0m\u001b[2mattire.                                                        \u001b[0m\u001b[2m \u001b[0m│\n",
       "│\u001b[2m                            \u001b[0m│\u001b[2m                  \u001b[0m│\u001b[2m \u001b[0m\u001b[2m                                                               \u001b[0m\u001b[2m \u001b[0m│\n",
       "│\u001b[2m                            \u001b[0m│\u001b[2m                  \u001b[0m│\u001b[2m \u001b[0m\u001b[2m6. Student discounts or loyalty programs at popular clothing   \u001b[0m\u001b[2m \u001b[0m│\n",
       "│\u001b[2m                            \u001b[0m│\u001b[2m                  \u001b[0m│\u001b[2m \u001b[0m\u001b[2mretailers to help make shopping more affordable.               \u001b[0m\u001b[2m \u001b[0m│\n",
       "│\u001b[2m                            \u001b[0m│\u001b[2m                  \u001b[0m│\u001b[2m \u001b[0m\u001b[2m                                                               \u001b[0m\u001b[2m \u001b[0m│\n",
       "│\u001b[2m                            \u001b[0m│\u001b[2m                  \u001b[0m│\u001b[2m \u001b[0m\u001b[2m7. Increased options for gender-neutral or unisex clothing     \u001b[0m\u001b[2m \u001b[0m│\n",
       "│\u001b[2m                            \u001b[0m│\u001b[2m                  \u001b[0m│\u001b[2m \u001b[0m\u001b[2mstyles.                                                        \u001b[0m\u001b[2m \u001b[0m│\n",
       "└────────────────────────────┴──────────────────┴─────────────────────────────────────────────────────────────────┘\n"
      ]
     },
     "metadata": {},
     "output_type": "display_data"
    }
   ],
   "source": [
    "result_ft.select(\"model\", \"agent_name\", \"q_ft\").print(format=\"rich\")"
   ]
  },
  {
   "cell_type": "markdown",
   "metadata": {
    "cell_id": "abbdd490e493477da705c316c25072ae",
    "deepnote_app_block_visible": true,
    "deepnote_cell_type": "markdown",
    "editable": true,
    "slideshow": {
     "slide_type": ""
    },
    "tags": []
   },
   "source": [
    "## Creating a survey\n",
    "We can also compile all the questions into a `Survey` to administer them at once:"
   ]
  },
  {
   "cell_type": "code",
   "execution_count": 18,
   "metadata": {
    "editable": true,
    "slideshow": {
     "slide_type": ""
    },
    "tags": []
   },
   "outputs": [],
   "source": [
    "from edsl import Survey\n",
    "\n",
    "survey = Survey(questions=[q_mc, q_cb, q_ls, q_yn, q_nu, q_li, q_rk, q_tk, q_bg, q_ex])"
   ]
  },
  {
   "cell_type": "markdown",
   "metadata": {
    "editable": true,
    "slideshow": {
     "slide_type": ""
    },
    "tags": []
   },
   "source": [
    "We administer a survey the same way that we do an individual question:"
   ]
  },
  {
   "cell_type": "code",
   "execution_count": 19,
   "metadata": {
    "editable": true,
    "slideshow": {
     "slide_type": ""
    },
    "tags": []
   },
   "outputs": [],
   "source": [
    "results = survey.by(agents).by(models).run()"
   ]
  },
  {
   "cell_type": "markdown",
   "metadata": {
    "editable": true,
    "slideshow": {
     "slide_type": ""
    },
    "tags": []
   },
   "source": [
    "We can see a list of all the components of the results that have been generated:"
   ]
  },
  {
   "cell_type": "code",
   "execution_count": 20,
   "metadata": {
    "editable": true,
    "slideshow": {
     "slide_type": ""
    },
    "tags": []
   },
   "outputs": [
    {
     "data": {
      "text/plain": [
       "['agent.agent_instruction',\n",
       " 'agent.agent_name',\n",
       " 'agent.persona',\n",
       " 'answer.q_bg',\n",
       " 'answer.q_cb',\n",
       " 'answer.q_ex',\n",
       " 'answer.q_li',\n",
       " 'answer.q_ls',\n",
       " 'answer.q_mc',\n",
       " 'answer.q_nu',\n",
       " 'answer.q_rk',\n",
       " 'answer.q_tk',\n",
       " 'answer.q_yn',\n",
       " 'comment.q_bg_comment',\n",
       " 'comment.q_cb_comment',\n",
       " 'comment.q_ex_comment',\n",
       " 'comment.q_li_comment',\n",
       " 'comment.q_ls_comment',\n",
       " 'comment.q_mc_comment',\n",
       " 'comment.q_nu_comment',\n",
       " 'comment.q_rk_comment',\n",
       " 'comment.q_tk_comment',\n",
       " 'comment.q_yn_comment',\n",
       " 'generated_tokens.q_bg_generated_tokens',\n",
       " 'generated_tokens.q_cb_generated_tokens',\n",
       " 'generated_tokens.q_ex_generated_tokens',\n",
       " 'generated_tokens.q_li_generated_tokens',\n",
       " 'generated_tokens.q_ls_generated_tokens',\n",
       " 'generated_tokens.q_mc_generated_tokens',\n",
       " 'generated_tokens.q_nu_generated_tokens',\n",
       " 'generated_tokens.q_rk_generated_tokens',\n",
       " 'generated_tokens.q_tk_generated_tokens',\n",
       " 'generated_tokens.q_yn_generated_tokens',\n",
       " 'iteration.iteration',\n",
       " 'model.frequency_penalty',\n",
       " 'model.logprobs',\n",
       " 'model.max_tokens',\n",
       " 'model.model',\n",
       " 'model.presence_penalty',\n",
       " 'model.temperature',\n",
       " 'model.top_logprobs',\n",
       " 'model.top_p',\n",
       " 'prompt.q_bg_system_prompt',\n",
       " 'prompt.q_bg_user_prompt',\n",
       " 'prompt.q_cb_system_prompt',\n",
       " 'prompt.q_cb_user_prompt',\n",
       " 'prompt.q_ex_system_prompt',\n",
       " 'prompt.q_ex_user_prompt',\n",
       " 'prompt.q_li_system_prompt',\n",
       " 'prompt.q_li_user_prompt',\n",
       " 'prompt.q_ls_system_prompt',\n",
       " 'prompt.q_ls_user_prompt',\n",
       " 'prompt.q_mc_system_prompt',\n",
       " 'prompt.q_mc_user_prompt',\n",
       " 'prompt.q_nu_system_prompt',\n",
       " 'prompt.q_nu_user_prompt',\n",
       " 'prompt.q_rk_system_prompt',\n",
       " 'prompt.q_rk_user_prompt',\n",
       " 'prompt.q_tk_system_prompt',\n",
       " 'prompt.q_tk_user_prompt',\n",
       " 'prompt.q_yn_system_prompt',\n",
       " 'prompt.q_yn_user_prompt',\n",
       " 'question_options.q_bg_question_options',\n",
       " 'question_options.q_cb_question_options',\n",
       " 'question_options.q_ex_question_options',\n",
       " 'question_options.q_li_question_options',\n",
       " 'question_options.q_ls_question_options',\n",
       " 'question_options.q_mc_question_options',\n",
       " 'question_options.q_nu_question_options',\n",
       " 'question_options.q_rk_question_options',\n",
       " 'question_options.q_tk_question_options',\n",
       " 'question_options.q_yn_question_options',\n",
       " 'question_text.q_bg_question_text',\n",
       " 'question_text.q_cb_question_text',\n",
       " 'question_text.q_ex_question_text',\n",
       " 'question_text.q_li_question_text',\n",
       " 'question_text.q_ls_question_text',\n",
       " 'question_text.q_mc_question_text',\n",
       " 'question_text.q_nu_question_text',\n",
       " 'question_text.q_rk_question_text',\n",
       " 'question_text.q_tk_question_text',\n",
       " 'question_text.q_yn_question_text',\n",
       " 'question_type.q_bg_question_type',\n",
       " 'question_type.q_cb_question_type',\n",
       " 'question_type.q_ex_question_type',\n",
       " 'question_type.q_li_question_type',\n",
       " 'question_type.q_ls_question_type',\n",
       " 'question_type.q_mc_question_type',\n",
       " 'question_type.q_nu_question_type',\n",
       " 'question_type.q_rk_question_type',\n",
       " 'question_type.q_tk_question_type',\n",
       " 'question_type.q_yn_question_type',\n",
       " 'raw_model_response.q_bg_cost',\n",
       " 'raw_model_response.q_bg_one_usd_buys',\n",
       " 'raw_model_response.q_bg_raw_model_response',\n",
       " 'raw_model_response.q_cb_cost',\n",
       " 'raw_model_response.q_cb_one_usd_buys',\n",
       " 'raw_model_response.q_cb_raw_model_response',\n",
       " 'raw_model_response.q_ex_cost',\n",
       " 'raw_model_response.q_ex_one_usd_buys',\n",
       " 'raw_model_response.q_ex_raw_model_response',\n",
       " 'raw_model_response.q_li_cost',\n",
       " 'raw_model_response.q_li_one_usd_buys',\n",
       " 'raw_model_response.q_li_raw_model_response',\n",
       " 'raw_model_response.q_ls_cost',\n",
       " 'raw_model_response.q_ls_one_usd_buys',\n",
       " 'raw_model_response.q_ls_raw_model_response',\n",
       " 'raw_model_response.q_mc_cost',\n",
       " 'raw_model_response.q_mc_one_usd_buys',\n",
       " 'raw_model_response.q_mc_raw_model_response',\n",
       " 'raw_model_response.q_nu_cost',\n",
       " 'raw_model_response.q_nu_one_usd_buys',\n",
       " 'raw_model_response.q_nu_raw_model_response',\n",
       " 'raw_model_response.q_rk_cost',\n",
       " 'raw_model_response.q_rk_one_usd_buys',\n",
       " 'raw_model_response.q_rk_raw_model_response',\n",
       " 'raw_model_response.q_tk_cost',\n",
       " 'raw_model_response.q_tk_one_usd_buys',\n",
       " 'raw_model_response.q_tk_raw_model_response',\n",
       " 'raw_model_response.q_yn_cost',\n",
       " 'raw_model_response.q_yn_one_usd_buys',\n",
       " 'raw_model_response.q_yn_raw_model_response']"
      ]
     },
     "execution_count": 20,
     "metadata": {},
     "output_type": "execute_result"
    }
   ],
   "source": [
    "results.columns"
   ]
  },
  {
   "cell_type": "markdown",
   "metadata": {
    "editable": true,
    "slideshow": {
     "slide_type": ""
    },
    "tags": []
   },
   "source": [
    "We can filter, sort, select and print any of the components:"
   ]
  },
  {
   "cell_type": "code",
   "execution_count": 21,
   "metadata": {
    "editable": true,
    "slideshow": {
     "slide_type": ""
    },
    "tags": []
   },
   "outputs": [
    {
     "data": {
      "text/html": [
       "<pre style=\"white-space:pre;overflow-x:auto;line-height:normal;font-family:Menlo,'DejaVu Sans Mono',consolas,'Courier New',monospace\">┏━━━━━━━━━━━━━━━━━━┳━━━━━━━━━━━━━━━━━━┳━━━━━━━━━━━━━━━━━━┳━━━━━━━━━━━━━━━━━━┳━━━━━━━━━━━━━━━━━━┳━━━━━━━━━━━━━━━━━━┓\n",
       "┃<span style=\"color: #800080; text-decoration-color: #800080; font-weight: bold\">                  </span>┃<span style=\"color: #800080; text-decoration-color: #800080; font-weight: bold\">                  </span>┃<span style=\"color: #800080; text-decoration-color: #800080; font-weight: bold\"> Which of the     </span>┃<span style=\"color: #800080; text-decoration-color: #800080; font-weight: bold\">                  </span>┃<span style=\"color: #800080; text-decoration-color: #800080; font-weight: bold\">                  </span>┃<span style=\"color: #800080; text-decoration-color: #800080; font-weight: bold\">                  </span>┃\n",
       "┃<span style=\"color: #800080; text-decoration-color: #800080; font-weight: bold\">                  </span>┃<span style=\"color: #800080; text-decoration-color: #800080; font-weight: bold\">                  </span>┃<span style=\"color: #800080; text-decoration-color: #800080; font-weight: bold\"> following        </span>┃<span style=\"color: #800080; text-decoration-color: #800080; font-weight: bold\">                  </span>┃<span style=\"color: #800080; text-decoration-color: #800080; font-weight: bold\">                  </span>┃<span style=\"color: #800080; text-decoration-color: #800080; font-weight: bold\">                  </span>┃\n",
       "┃<span style=\"color: #800080; text-decoration-color: #800080; font-weight: bold\">                  </span>┃<span style=\"color: #800080; text-decoration-color: #800080; font-weight: bold\">                  </span>┃<span style=\"color: #800080; text-decoration-color: #800080; font-weight: bold\"> factors are      </span>┃<span style=\"color: #800080; text-decoration-color: #800080; font-weight: bold\">                  </span>┃<span style=\"color: #800080; text-decoration-color: #800080; font-weight: bold\">                  </span>┃<span style=\"color: #800080; text-decoration-color: #800080; font-weight: bold\">                  </span>┃\n",
       "┃<span style=\"color: #800080; text-decoration-color: #800080; font-weight: bold\">                  </span>┃<span style=\"color: #800080; text-decoration-color: #800080; font-weight: bold\">                  </span>┃<span style=\"color: #800080; text-decoration-color: #800080; font-weight: bold\"> important to you </span>┃<span style=\"color: #800080; text-decoration-color: #800080; font-weight: bold\">                  </span>┃<span style=\"color: #800080; text-decoration-color: #800080; font-weight: bold\"> Have you ever    </span>┃<span style=\"color: #800080; text-decoration-color: #800080; font-weight: bold\">                  </span>┃\n",
       "┃<span style=\"color: #800080; text-decoration-color: #800080; font-weight: bold\">                  </span>┃<span style=\"color: #800080; text-decoration-color: #800080; font-weight: bold\">                  </span>┃<span style=\"color: #800080; text-decoration-color: #800080; font-weight: bold\"> in making        </span>┃<span style=\"color: #800080; text-decoration-color: #800080; font-weight: bold\">                  </span>┃<span style=\"color: #800080; text-decoration-color: #800080; font-weight: bold\"> felt excluded or </span>┃<span style=\"color: #800080; text-decoration-color: #800080; font-weight: bold\"> Estimate the     </span>┃\n",
       "┃<span style=\"color: #800080; text-decoration-color: #800080; font-weight: bold\">                  </span>┃<span style=\"color: #800080; text-decoration-color: #800080; font-weight: bold\">                  </span>┃<span style=\"color: #800080; text-decoration-color: #800080; font-weight: bold\"> decisions about  </span>┃<span style=\"color: #800080; text-decoration-color: #800080; font-weight: bold\"> On a scale of    </span>┃<span style=\"color: #800080; text-decoration-color: #800080; font-weight: bold\"> frustrated by    </span>┃<span style=\"color: #800080; text-decoration-color: #800080; font-weight: bold\"> amount of money  </span>┃\n",
       "┃<span style=\"color: #800080; text-decoration-color: #800080; font-weight: bold\">                  </span>┃<span style=\"color: #800080; text-decoration-color: #800080; font-weight: bold\">                  </span>┃<span style=\"color: #800080; text-decoration-color: #800080; font-weight: bold\"> clothes          </span>┃<span style=\"color: #800080; text-decoration-color: #800080; font-weight: bold\"> 0-10, how much   </span>┃<span style=\"color: #800080; text-decoration-color: #800080; font-weight: bold\"> the standard     </span>┃<span style=\"color: #800080; text-decoration-color: #800080; font-weight: bold\"> that you spent   </span>┃\n",
       "┃<span style=\"color: #800080; text-decoration-color: #800080; font-weight: bold\">                  </span>┃<span style=\"color: #800080; text-decoration-color: #800080; font-weight: bold\"> How often do you </span>┃<span style=\"color: #800080; text-decoration-color: #800080; font-weight: bold\"> shopping?        </span>┃<span style=\"color: #800080; text-decoration-color: #800080; font-weight: bold\"> do you typically </span>┃<span style=\"color: #800080; text-decoration-color: #800080; font-weight: bold\"> sizes of the     </span>┃<span style=\"color: #800080; text-decoration-color: #800080; font-weight: bold\"> on clothing in   </span>┃\n",
       "┃<span style=\"color: #800080; text-decoration-color: #800080; font-weight: bold\">                  </span>┃<span style=\"color: #800080; text-decoration-color: #800080; font-weight: bold\"> shop for         </span>┃<span style=\"color: #800080; text-decoration-color: #800080; font-weight: bold\">     Select all   </span>┃<span style=\"color: #800080; text-decoration-color: #800080; font-weight: bold\"> enjoy clothes    </span>┃<span style=\"color: #800080; text-decoration-color: #800080; font-weight: bold\"> fashion          </span>┃<span style=\"color: #800080; text-decoration-color: #800080; font-weight: bold\"> the past year    </span>┃\n",
       "┃<span style=\"color: #800080; text-decoration-color: #800080; font-weight: bold\"> Agent            </span>┃<span style=\"color: #800080; text-decoration-color: #800080; font-weight: bold\"> clothes?         </span>┃<span style=\"color: #800080; text-decoration-color: #800080; font-weight: bold\"> that apply.      </span>┃<span style=\"color: #800080; text-decoration-color: #800080; font-weight: bold\"> shopping?        </span>┃<span style=\"color: #800080; text-decoration-color: #800080; font-weight: bold\"> industry?        </span>┃<span style=\"color: #800080; text-decoration-color: #800080; font-weight: bold\"> (in $USD).       </span>┃\n",
       "┡━━━━━━━━━━━━━━━━━━╇━━━━━━━━━━━━━━━━━━╇━━━━━━━━━━━━━━━━━━╇━━━━━━━━━━━━━━━━━━╇━━━━━━━━━━━━━━━━━━╇━━━━━━━━━━━━━━━━━━┩\n",
       "│<span style=\"color: #7f7f7f; text-decoration-color: #7f7f7f\"> College student  </span>│<span style=\"color: #7f7f7f; text-decoration-color: #7f7f7f\"> Seasonally       </span>│<span style=\"color: #7f7f7f; text-decoration-color: #7f7f7f\"> ['Price', 'Style </span>│<span style=\"color: #7f7f7f; text-decoration-color: #7f7f7f\"> 6                </span>│<span style=\"color: #7f7f7f; text-decoration-color: #7f7f7f\"> Yes              </span>│<span style=\"color: #7f7f7f; text-decoration-color: #7f7f7f\"> 300              </span>│\n",
       "│<span style=\"color: #7f7f7f; text-decoration-color: #7f7f7f\">                  </span>│<span style=\"color: #7f7f7f; text-decoration-color: #7f7f7f\">                  </span>│<span style=\"color: #7f7f7f; text-decoration-color: #7f7f7f\"> and Design',     </span>│<span style=\"color: #7f7f7f; text-decoration-color: #7f7f7f\">                  </span>│<span style=\"color: #7f7f7f; text-decoration-color: #7f7f7f\">                  </span>│<span style=\"color: #7f7f7f; text-decoration-color: #7f7f7f\">                  </span>│\n",
       "│<span style=\"color: #7f7f7f; text-decoration-color: #7f7f7f\">                  </span>│<span style=\"color: #7f7f7f; text-decoration-color: #7f7f7f\">                  </span>│<span style=\"color: #7f7f7f; text-decoration-color: #7f7f7f\"> 'Fit and         </span>│<span style=\"color: #7f7f7f; text-decoration-color: #7f7f7f\">                  </span>│<span style=\"color: #7f7f7f; text-decoration-color: #7f7f7f\">                  </span>│<span style=\"color: #7f7f7f; text-decoration-color: #7f7f7f\">                  </span>│\n",
       "│<span style=\"color: #7f7f7f; text-decoration-color: #7f7f7f\">                  </span>│<span style=\"color: #7f7f7f; text-decoration-color: #7f7f7f\">                  </span>│<span style=\"color: #7f7f7f; text-decoration-color: #7f7f7f\"> Comfort']        </span>│<span style=\"color: #7f7f7f; text-decoration-color: #7f7f7f\">                  </span>│<span style=\"color: #7f7f7f; text-decoration-color: #7f7f7f\">                  </span>│<span style=\"color: #7f7f7f; text-decoration-color: #7f7f7f\">                  </span>│\n",
       "├──────────────────┼──────────────────┼──────────────────┼──────────────────┼──────────────────┼──────────────────┤\n",
       "│<span style=\"color: #7f7f7f; text-decoration-color: #7f7f7f\"> Fashion designer </span>│<span style=\"color: #7f7f7f; text-decoration-color: #7f7f7f\"> Monthly          </span>│<span style=\"color: #7f7f7f; text-decoration-color: #7f7f7f\"> ['Quality',      </span>│<span style=\"color: #7f7f7f; text-decoration-color: #7f7f7f\"> 8                </span>│<span style=\"color: #7f7f7f; text-decoration-color: #7f7f7f\"> No               </span>│<span style=\"color: #7f7f7f; text-decoration-color: #7f7f7f\"> None             </span>│\n",
       "│<span style=\"color: #7f7f7f; text-decoration-color: #7f7f7f\">                  </span>│<span style=\"color: #7f7f7f; text-decoration-color: #7f7f7f\">                  </span>│<span style=\"color: #7f7f7f; text-decoration-color: #7f7f7f\"> 'Style and       </span>│<span style=\"color: #7f7f7f; text-decoration-color: #7f7f7f\">                  </span>│<span style=\"color: #7f7f7f; text-decoration-color: #7f7f7f\">                  </span>│<span style=\"color: #7f7f7f; text-decoration-color: #7f7f7f\">                  </span>│\n",
       "│<span style=\"color: #7f7f7f; text-decoration-color: #7f7f7f\">                  </span>│<span style=\"color: #7f7f7f; text-decoration-color: #7f7f7f\">                  </span>│<span style=\"color: #7f7f7f; text-decoration-color: #7f7f7f\"> Design', 'Fit    </span>│<span style=\"color: #7f7f7f; text-decoration-color: #7f7f7f\">                  </span>│<span style=\"color: #7f7f7f; text-decoration-color: #7f7f7f\">                  </span>│<span style=\"color: #7f7f7f; text-decoration-color: #7f7f7f\">                  </span>│\n",
       "│<span style=\"color: #7f7f7f; text-decoration-color: #7f7f7f\">                  </span>│<span style=\"color: #7f7f7f; text-decoration-color: #7f7f7f\">                  </span>│<span style=\"color: #7f7f7f; text-decoration-color: #7f7f7f\"> and Comfort']    </span>│<span style=\"color: #7f7f7f; text-decoration-color: #7f7f7f\">                  </span>│<span style=\"color: #7f7f7f; text-decoration-color: #7f7f7f\">                  </span>│<span style=\"color: #7f7f7f; text-decoration-color: #7f7f7f\">                  </span>│\n",
       "└──────────────────┴──────────────────┴──────────────────┴──────────────────┴──────────────────┴──────────────────┘\n",
       "</pre>\n"
      ],
      "text/plain": [
       "┏━━━━━━━━━━━━━━━━━━┳━━━━━━━━━━━━━━━━━━┳━━━━━━━━━━━━━━━━━━┳━━━━━━━━━━━━━━━━━━┳━━━━━━━━━━━━━━━━━━┳━━━━━━━━━━━━━━━━━━┓\n",
       "┃\u001b[1;35m                  \u001b[0m┃\u001b[1;35m                  \u001b[0m┃\u001b[1;35m \u001b[0m\u001b[1;35mWhich of the    \u001b[0m\u001b[1;35m \u001b[0m┃\u001b[1;35m                  \u001b[0m┃\u001b[1;35m                  \u001b[0m┃\u001b[1;35m                  \u001b[0m┃\n",
       "┃\u001b[1;35m                  \u001b[0m┃\u001b[1;35m                  \u001b[0m┃\u001b[1;35m \u001b[0m\u001b[1;35mfollowing       \u001b[0m\u001b[1;35m \u001b[0m┃\u001b[1;35m                  \u001b[0m┃\u001b[1;35m                  \u001b[0m┃\u001b[1;35m                  \u001b[0m┃\n",
       "┃\u001b[1;35m                  \u001b[0m┃\u001b[1;35m                  \u001b[0m┃\u001b[1;35m \u001b[0m\u001b[1;35mfactors are     \u001b[0m\u001b[1;35m \u001b[0m┃\u001b[1;35m                  \u001b[0m┃\u001b[1;35m                  \u001b[0m┃\u001b[1;35m                  \u001b[0m┃\n",
       "┃\u001b[1;35m                  \u001b[0m┃\u001b[1;35m                  \u001b[0m┃\u001b[1;35m \u001b[0m\u001b[1;35mimportant to you\u001b[0m\u001b[1;35m \u001b[0m┃\u001b[1;35m                  \u001b[0m┃\u001b[1;35m \u001b[0m\u001b[1;35mHave you ever   \u001b[0m\u001b[1;35m \u001b[0m┃\u001b[1;35m                  \u001b[0m┃\n",
       "┃\u001b[1;35m                  \u001b[0m┃\u001b[1;35m                  \u001b[0m┃\u001b[1;35m \u001b[0m\u001b[1;35min making       \u001b[0m\u001b[1;35m \u001b[0m┃\u001b[1;35m                  \u001b[0m┃\u001b[1;35m \u001b[0m\u001b[1;35mfelt excluded or\u001b[0m\u001b[1;35m \u001b[0m┃\u001b[1;35m \u001b[0m\u001b[1;35mEstimate the    \u001b[0m\u001b[1;35m \u001b[0m┃\n",
       "┃\u001b[1;35m                  \u001b[0m┃\u001b[1;35m                  \u001b[0m┃\u001b[1;35m \u001b[0m\u001b[1;35mdecisions about \u001b[0m\u001b[1;35m \u001b[0m┃\u001b[1;35m \u001b[0m\u001b[1;35mOn a scale of   \u001b[0m\u001b[1;35m \u001b[0m┃\u001b[1;35m \u001b[0m\u001b[1;35mfrustrated by   \u001b[0m\u001b[1;35m \u001b[0m┃\u001b[1;35m \u001b[0m\u001b[1;35mamount of money \u001b[0m\u001b[1;35m \u001b[0m┃\n",
       "┃\u001b[1;35m                  \u001b[0m┃\u001b[1;35m                  \u001b[0m┃\u001b[1;35m \u001b[0m\u001b[1;35mclothes         \u001b[0m\u001b[1;35m \u001b[0m┃\u001b[1;35m \u001b[0m\u001b[1;35m0-10, how much  \u001b[0m\u001b[1;35m \u001b[0m┃\u001b[1;35m \u001b[0m\u001b[1;35mthe standard    \u001b[0m\u001b[1;35m \u001b[0m┃\u001b[1;35m \u001b[0m\u001b[1;35mthat you spent  \u001b[0m\u001b[1;35m \u001b[0m┃\n",
       "┃\u001b[1;35m                  \u001b[0m┃\u001b[1;35m \u001b[0m\u001b[1;35mHow often do you\u001b[0m\u001b[1;35m \u001b[0m┃\u001b[1;35m \u001b[0m\u001b[1;35mshopping?       \u001b[0m\u001b[1;35m \u001b[0m┃\u001b[1;35m \u001b[0m\u001b[1;35mdo you typically\u001b[0m\u001b[1;35m \u001b[0m┃\u001b[1;35m \u001b[0m\u001b[1;35msizes of the    \u001b[0m\u001b[1;35m \u001b[0m┃\u001b[1;35m \u001b[0m\u001b[1;35mon clothing in  \u001b[0m\u001b[1;35m \u001b[0m┃\n",
       "┃\u001b[1;35m                  \u001b[0m┃\u001b[1;35m \u001b[0m\u001b[1;35mshop for        \u001b[0m\u001b[1;35m \u001b[0m┃\u001b[1;35m \u001b[0m\u001b[1;35m    Select all  \u001b[0m\u001b[1;35m \u001b[0m┃\u001b[1;35m \u001b[0m\u001b[1;35menjoy clothes   \u001b[0m\u001b[1;35m \u001b[0m┃\u001b[1;35m \u001b[0m\u001b[1;35mfashion         \u001b[0m\u001b[1;35m \u001b[0m┃\u001b[1;35m \u001b[0m\u001b[1;35mthe past year   \u001b[0m\u001b[1;35m \u001b[0m┃\n",
       "┃\u001b[1;35m \u001b[0m\u001b[1;35mAgent           \u001b[0m\u001b[1;35m \u001b[0m┃\u001b[1;35m \u001b[0m\u001b[1;35mclothes?        \u001b[0m\u001b[1;35m \u001b[0m┃\u001b[1;35m \u001b[0m\u001b[1;35mthat apply.     \u001b[0m\u001b[1;35m \u001b[0m┃\u001b[1;35m \u001b[0m\u001b[1;35mshopping?       \u001b[0m\u001b[1;35m \u001b[0m┃\u001b[1;35m \u001b[0m\u001b[1;35mindustry?       \u001b[0m\u001b[1;35m \u001b[0m┃\u001b[1;35m \u001b[0m\u001b[1;35m(in $USD).      \u001b[0m\u001b[1;35m \u001b[0m┃\n",
       "┡━━━━━━━━━━━━━━━━━━╇━━━━━━━━━━━━━━━━━━╇━━━━━━━━━━━━━━━━━━╇━━━━━━━━━━━━━━━━━━╇━━━━━━━━━━━━━━━━━━╇━━━━━━━━━━━━━━━━━━┩\n",
       "│\u001b[2m \u001b[0m\u001b[2mCollege student \u001b[0m\u001b[2m \u001b[0m│\u001b[2m \u001b[0m\u001b[2mSeasonally      \u001b[0m\u001b[2m \u001b[0m│\u001b[2m \u001b[0m\u001b[2m['Price', 'Style\u001b[0m\u001b[2m \u001b[0m│\u001b[2m \u001b[0m\u001b[2m6               \u001b[0m\u001b[2m \u001b[0m│\u001b[2m \u001b[0m\u001b[2mYes             \u001b[0m\u001b[2m \u001b[0m│\u001b[2m \u001b[0m\u001b[2m300             \u001b[0m\u001b[2m \u001b[0m│\n",
       "│\u001b[2m                  \u001b[0m│\u001b[2m                  \u001b[0m│\u001b[2m \u001b[0m\u001b[2mand Design',    \u001b[0m\u001b[2m \u001b[0m│\u001b[2m                  \u001b[0m│\u001b[2m                  \u001b[0m│\u001b[2m                  \u001b[0m│\n",
       "│\u001b[2m                  \u001b[0m│\u001b[2m                  \u001b[0m│\u001b[2m \u001b[0m\u001b[2m'Fit and        \u001b[0m\u001b[2m \u001b[0m│\u001b[2m                  \u001b[0m│\u001b[2m                  \u001b[0m│\u001b[2m                  \u001b[0m│\n",
       "│\u001b[2m                  \u001b[0m│\u001b[2m                  \u001b[0m│\u001b[2m \u001b[0m\u001b[2mComfort']       \u001b[0m\u001b[2m \u001b[0m│\u001b[2m                  \u001b[0m│\u001b[2m                  \u001b[0m│\u001b[2m                  \u001b[0m│\n",
       "├──────────────────┼──────────────────┼──────────────────┼──────────────────┼──────────────────┼──────────────────┤\n",
       "│\u001b[2m \u001b[0m\u001b[2mFashion designer\u001b[0m\u001b[2m \u001b[0m│\u001b[2m \u001b[0m\u001b[2mMonthly         \u001b[0m\u001b[2m \u001b[0m│\u001b[2m \u001b[0m\u001b[2m['Quality',     \u001b[0m\u001b[2m \u001b[0m│\u001b[2m \u001b[0m\u001b[2m8               \u001b[0m\u001b[2m \u001b[0m│\u001b[2m \u001b[0m\u001b[2mNo              \u001b[0m\u001b[2m \u001b[0m│\u001b[2m \u001b[0m\u001b[2mNone            \u001b[0m\u001b[2m \u001b[0m│\n",
       "│\u001b[2m                  \u001b[0m│\u001b[2m                  \u001b[0m│\u001b[2m \u001b[0m\u001b[2m'Style and      \u001b[0m\u001b[2m \u001b[0m│\u001b[2m                  \u001b[0m│\u001b[2m                  \u001b[0m│\u001b[2m                  \u001b[0m│\n",
       "│\u001b[2m                  \u001b[0m│\u001b[2m                  \u001b[0m│\u001b[2m \u001b[0m\u001b[2mDesign', 'Fit   \u001b[0m\u001b[2m \u001b[0m│\u001b[2m                  \u001b[0m│\u001b[2m                  \u001b[0m│\u001b[2m                  \u001b[0m│\n",
       "│\u001b[2m                  \u001b[0m│\u001b[2m                  \u001b[0m│\u001b[2m \u001b[0m\u001b[2mand Comfort']   \u001b[0m\u001b[2m \u001b[0m│\u001b[2m                  \u001b[0m│\u001b[2m                  \u001b[0m│\u001b[2m                  \u001b[0m│\n",
       "└──────────────────┴──────────────────┴──────────────────┴──────────────────┴──────────────────┴──────────────────┘\n"
      ]
     },
     "metadata": {},
     "output_type": "display_data"
    }
   ],
   "source": [
    "(\n",
    "    results.filter(\"model.model == 'gpt-4o'\")\n",
    "    .sort_by(\"agent_name\")\n",
    "    .select(\"agent_name\", \"q_mc\", \"q_cb\", \"q_ls\", \"q_yn\", \"q_nu\")\n",
    "    .print(pretty_labels={\n",
    "        \"agent.agent_name\": \"Agent\",\n",
    "        \"answer.q_mc\": q_mc.question_text,\n",
    "        \"answer.q_cb\": q_cb.question_text,\n",
    "        \"answer.q_ls\": q_ls.question_text,\n",
    "        \"answer.q_yn\": q_yn.question_text,\n",
    "        \"answer.q_nu\": q_nu.question_text,\n",
    "    }, format=\"rich\")\n",
    ")"
   ]
  },
  {
   "cell_type": "markdown",
   "metadata": {},
   "source": [
    "[Please see our documentation page](https://docs.expectedparrot.com/en/latest/) for more details on all of the above objects and methods."
   ]
  }
 ],
 "metadata": {
  "deepnote_app_clear_outputs": false,
  "deepnote_app_layout": "powerful-article",
  "deepnote_app_reactivity_enabled": true,
  "deepnote_app_width": "full-width",
  "deepnote_execution_queue": [],
  "deepnote_notebook_id": "17430978a5634fc4ada3127b6b9bcd66",
  "kernelspec": {
   "display_name": "Python 3 (ipykernel)",
   "language": "python",
   "name": "python3"
  },
  "language_info": {
   "codemirror_mode": {
    "name": "ipython",
    "version": 3
   },
   "file_extension": ".py",
   "mimetype": "text/x-python",
   "name": "python",
   "nbconvert_exporter": "python",
   "pygments_lexer": "ipython3",
   "version": "3.11.7"
  }
 },
 "nbformat": 4,
 "nbformat_minor": 4
}
