{
 "cells": [
  {
   "cell_type": "markdown",
   "id": "9ce70928-3ed9-480f-be22-3b4745a3c292",
   "metadata": {
    "editable": true,
    "slideshow": {
     "slide_type": ""
    },
    "tags": []
   },
   "source": [
    "# Using Wikipedia tables in a survey"
   ]
  },
  {
   "cell_type": "code",
   "execution_count": 1,
   "id": "763bd513-3905-44be-9296-a5f075f38dc4",
   "metadata": {},
   "outputs": [],
   "source": [
    "from edsl import ScenarioList"
   ]
  },
  {
   "cell_type": "markdown",
   "id": "145d873f-5de0-49a9-8a22-def8243acbea",
   "metadata": {},
   "source": [
    "Call the `from_wikipedia` method on a `ScenarioList` and pass (i) the URL for the Wikipedia page containing the table and (ii) the number of the table on the page (an integer starting at 0 that can be omitted if there is only 1 table on the page). For example, here we create scenarios for the 4th table at the page about movies of the 1990s:"
   ]
  },
  {
   "cell_type": "code",
   "execution_count": 2,
   "id": "12d7e7b8-da31-4a19-afde-a8be3507b451",
   "metadata": {},
   "outputs": [],
   "source": [
    "scenarios = ScenarioList.from_wikipedia(\"https://en.wikipedia.org/wiki/1990s_in_film\", 3)"
   ]
  },
  {
   "cell_type": "code",
   "execution_count": 3,
   "id": "a3901b2e-8432-49c6-b651-5373d0d42dff",
   "metadata": {},
   "outputs": [
    {
     "data": {
      "text/html": [
       "<pre style=\"white-space:pre;overflow-x:auto;line-height:normal;font-family:Menlo,'DejaVu Sans Mono',consolas,'Courier New',monospace\">┏━━━━━━┳━━━━━━━━━━━━━━━━━━━━━━━━━━━━━━━━━━━━━┳━━━━━━━━━━━━━━━━━━━━━━━━━━━━━━━━━━━━━┳━━━━━━━━━━━━━━━━━┳━━━━━━┳━━━━━┓\n",
       "┃<span style=\"color: #800080; text-decoration-color: #800080; font-weight: bold\">      </span>┃<span style=\"color: #800080; text-decoration-color: #800080; font-weight: bold\">                                     </span>┃<span style=\"color: #800080; text-decoration-color: #800080; font-weight: bold\">                                     </span>┃<span style=\"color: #800080; text-decoration-color: #800080; font-weight: bold\">                 </span>┃<span style=\"color: #800080; text-decoration-color: #800080; font-weight: bold\">      </span>┃<span style=\"color: #800080; text-decoration-color: #800080; font-weight: bold\"> Ref </span>┃\n",
       "┃<span style=\"color: #800080; text-decoration-color: #800080; font-weight: bold\"> Rank </span>┃<span style=\"color: #800080; text-decoration-color: #800080; font-weight: bold\"> Title                               </span>┃<span style=\"color: #800080; text-decoration-color: #800080; font-weight: bold\"> Studios                             </span>┃<span style=\"color: #800080; text-decoration-color: #800080; font-weight: bold\"> Worldwide gross </span>┃<span style=\"color: #800080; text-decoration-color: #800080; font-weight: bold\"> Year </span>┃<span style=\"color: #800080; text-decoration-color: #800080; font-weight: bold\"> .   </span>┃\n",
       "┡━━━━━━╇━━━━━━━━━━━━━━━━━━━━━━━━━━━━━━━━━━━━━╇━━━━━━━━━━━━━━━━━━━━━━━━━━━━━━━━━━━━━╇━━━━━━━━━━━━━━━━━╇━━━━━━╇━━━━━┩\n",
       "│<span style=\"color: #7f7f7f; text-decoration-color: #7f7f7f\"> 1    </span>│<span style=\"color: #7f7f7f; text-decoration-color: #7f7f7f\"> Titanic                             </span>│<span style=\"color: #7f7f7f; text-decoration-color: #7f7f7f\"> Paramount Pictures/20th Century Fox </span>│<span style=\"color: #7f7f7f; text-decoration-color: #7f7f7f\"> $1,843,201,268  </span>│<span style=\"color: #7f7f7f; text-decoration-color: #7f7f7f\"> 1997 </span>│<span style=\"color: #7f7f7f; text-decoration-color: #7f7f7f\">     </span>│\n",
       "├──────┼─────────────────────────────────────┼─────────────────────────────────────┼─────────────────┼──────┼─────┤\n",
       "│<span style=\"color: #7f7f7f; text-decoration-color: #7f7f7f\"> 2    </span>│<span style=\"color: #7f7f7f; text-decoration-color: #7f7f7f\"> Star Wars: Episode I – The Phantom  </span>│<span style=\"color: #7f7f7f; text-decoration-color: #7f7f7f\"> 20th Century Fox                    </span>│<span style=\"color: #7f7f7f; text-decoration-color: #7f7f7f\"> $924,317,558    </span>│<span style=\"color: #7f7f7f; text-decoration-color: #7f7f7f\"> 1999 </span>│<span style=\"color: #7f7f7f; text-decoration-color: #7f7f7f\">     </span>│\n",
       "│<span style=\"color: #7f7f7f; text-decoration-color: #7f7f7f\">      </span>│<span style=\"color: #7f7f7f; text-decoration-color: #7f7f7f\"> Menace                              </span>│<span style=\"color: #7f7f7f; text-decoration-color: #7f7f7f\">                                     </span>│<span style=\"color: #7f7f7f; text-decoration-color: #7f7f7f\">                 </span>│<span style=\"color: #7f7f7f; text-decoration-color: #7f7f7f\">      </span>│<span style=\"color: #7f7f7f; text-decoration-color: #7f7f7f\">     </span>│\n",
       "├──────┼─────────────────────────────────────┼─────────────────────────────────────┼─────────────────┼──────┼─────┤\n",
       "│<span style=\"color: #7f7f7f; text-decoration-color: #7f7f7f\"> 3    </span>│<span style=\"color: #7f7f7f; text-decoration-color: #7f7f7f\"> Jurassic Park                       </span>│<span style=\"color: #7f7f7f; text-decoration-color: #7f7f7f\"> Universal Pictures                  </span>│<span style=\"color: #7f7f7f; text-decoration-color: #7f7f7f\"> $914,691,118    </span>│<span style=\"color: #7f7f7f; text-decoration-color: #7f7f7f\"> 1993 </span>│<span style=\"color: #7f7f7f; text-decoration-color: #7f7f7f\">     </span>│\n",
       "├──────┼─────────────────────────────────────┼─────────────────────────────────────┼─────────────────┼──────┼─────┤\n",
       "│<span style=\"color: #7f7f7f; text-decoration-color: #7f7f7f\"> 4    </span>│<span style=\"color: #7f7f7f; text-decoration-color: #7f7f7f\"> Independence Day                    </span>│<span style=\"color: #7f7f7f; text-decoration-color: #7f7f7f\"> 20th Century Fox                    </span>│<span style=\"color: #7f7f7f; text-decoration-color: #7f7f7f\"> $817,400,891    </span>│<span style=\"color: #7f7f7f; text-decoration-color: #7f7f7f\"> 1996 </span>│<span style=\"color: #7f7f7f; text-decoration-color: #7f7f7f\">     </span>│\n",
       "├──────┼─────────────────────────────────────┼─────────────────────────────────────┼─────────────────┼──────┼─────┤\n",
       "│<span style=\"color: #7f7f7f; text-decoration-color: #7f7f7f\"> 5    </span>│<span style=\"color: #7f7f7f; text-decoration-color: #7f7f7f\"> The Lion King                       </span>│<span style=\"color: #7f7f7f; text-decoration-color: #7f7f7f\"> Walt Disney Studios                 </span>│<span style=\"color: #7f7f7f; text-decoration-color: #7f7f7f\"> $763,455,561    </span>│<span style=\"color: #7f7f7f; text-decoration-color: #7f7f7f\"> 1994 </span>│<span style=\"color: #7f7f7f; text-decoration-color: #7f7f7f\">     </span>│\n",
       "├──────┼─────────────────────────────────────┼─────────────────────────────────────┼─────────────────┼──────┼─────┤\n",
       "│<span style=\"color: #7f7f7f; text-decoration-color: #7f7f7f\"> 6    </span>│<span style=\"color: #7f7f7f; text-decoration-color: #7f7f7f\"> Forrest Gump                        </span>│<span style=\"color: #7f7f7f; text-decoration-color: #7f7f7f\"> Paramount Pictures                  </span>│<span style=\"color: #7f7f7f; text-decoration-color: #7f7f7f\"> $677,387,716    </span>│<span style=\"color: #7f7f7f; text-decoration-color: #7f7f7f\"> 1994 </span>│<span style=\"color: #7f7f7f; text-decoration-color: #7f7f7f\">     </span>│\n",
       "├──────┼─────────────────────────────────────┼─────────────────────────────────────┼─────────────────┼──────┼─────┤\n",
       "│<span style=\"color: #7f7f7f; text-decoration-color: #7f7f7f\"> 7    </span>│<span style=\"color: #7f7f7f; text-decoration-color: #7f7f7f\"> The Sixth Sense                     </span>│<span style=\"color: #7f7f7f; text-decoration-color: #7f7f7f\"> Walt Disney Studios                 </span>│<span style=\"color: #7f7f7f; text-decoration-color: #7f7f7f\"> $672,806,292    </span>│<span style=\"color: #7f7f7f; text-decoration-color: #7f7f7f\"> 1999 </span>│<span style=\"color: #7f7f7f; text-decoration-color: #7f7f7f\">     </span>│\n",
       "├──────┼─────────────────────────────────────┼─────────────────────────────────────┼─────────────────┼──────┼─────┤\n",
       "│<span style=\"color: #7f7f7f; text-decoration-color: #7f7f7f\"> 8    </span>│<span style=\"color: #7f7f7f; text-decoration-color: #7f7f7f\"> The Lost World: Jurassic Park       </span>│<span style=\"color: #7f7f7f; text-decoration-color: #7f7f7f\"> Universal Pictures                  </span>│<span style=\"color: #7f7f7f; text-decoration-color: #7f7f7f\"> $618,638,999    </span>│<span style=\"color: #7f7f7f; text-decoration-color: #7f7f7f\"> 1997 </span>│<span style=\"color: #7f7f7f; text-decoration-color: #7f7f7f\">     </span>│\n",
       "├──────┼─────────────────────────────────────┼─────────────────────────────────────┼─────────────────┼──────┼─────┤\n",
       "│<span style=\"color: #7f7f7f; text-decoration-color: #7f7f7f\"> 9    </span>│<span style=\"color: #7f7f7f; text-decoration-color: #7f7f7f\"> Men in Black                        </span>│<span style=\"color: #7f7f7f; text-decoration-color: #7f7f7f\"> Sony Pictures/Columbia Pictures     </span>│<span style=\"color: #7f7f7f; text-decoration-color: #7f7f7f\"> $589,390,539    </span>│<span style=\"color: #7f7f7f; text-decoration-color: #7f7f7f\"> 1997 </span>│<span style=\"color: #7f7f7f; text-decoration-color: #7f7f7f\">     </span>│\n",
       "├──────┼─────────────────────────────────────┼─────────────────────────────────────┼─────────────────┼──────┼─────┤\n",
       "│<span style=\"color: #7f7f7f; text-decoration-color: #7f7f7f\"> 10   </span>│<span style=\"color: #7f7f7f; text-decoration-color: #7f7f7f\"> Armageddon                          </span>│<span style=\"color: #7f7f7f; text-decoration-color: #7f7f7f\"> Walt Disney Studios                 </span>│<span style=\"color: #7f7f7f; text-decoration-color: #7f7f7f\"> $553,709,788    </span>│<span style=\"color: #7f7f7f; text-decoration-color: #7f7f7f\"> 1998 </span>│<span style=\"color: #7f7f7f; text-decoration-color: #7f7f7f\">     </span>│\n",
       "├──────┼─────────────────────────────────────┼─────────────────────────────────────┼─────────────────┼──────┼─────┤\n",
       "│<span style=\"color: #7f7f7f; text-decoration-color: #7f7f7f\"> 11   </span>│<span style=\"color: #7f7f7f; text-decoration-color: #7f7f7f\"> Terminator 2: Judgment Day          </span>│<span style=\"color: #7f7f7f; text-decoration-color: #7f7f7f\"> TriStar Pictures                    </span>│<span style=\"color: #7f7f7f; text-decoration-color: #7f7f7f\"> $519,843,345    </span>│<span style=\"color: #7f7f7f; text-decoration-color: #7f7f7f\"> 1991 </span>│<span style=\"color: #7f7f7f; text-decoration-color: #7f7f7f\">     </span>│\n",
       "├──────┼─────────────────────────────────────┼─────────────────────────────────────┼─────────────────┼──────┼─────┤\n",
       "│<span style=\"color: #7f7f7f; text-decoration-color: #7f7f7f\"> 12   </span>│<span style=\"color: #7f7f7f; text-decoration-color: #7f7f7f\"> Ghost                               </span>│<span style=\"color: #7f7f7f; text-decoration-color: #7f7f7f\"> Paramount Pictures                  </span>│<span style=\"color: #7f7f7f; text-decoration-color: #7f7f7f\"> $505,702,588    </span>│<span style=\"color: #7f7f7f; text-decoration-color: #7f7f7f\"> 1990 </span>│<span style=\"color: #7f7f7f; text-decoration-color: #7f7f7f\">     </span>│\n",
       "├──────┼─────────────────────────────────────┼─────────────────────────────────────┼─────────────────┼──────┼─────┤\n",
       "│<span style=\"color: #7f7f7f; text-decoration-color: #7f7f7f\"> 13   </span>│<span style=\"color: #7f7f7f; text-decoration-color: #7f7f7f\"> Aladdin                             </span>│<span style=\"color: #7f7f7f; text-decoration-color: #7f7f7f\"> Walt Disney Studios                 </span>│<span style=\"color: #7f7f7f; text-decoration-color: #7f7f7f\"> $504,050,219    </span>│<span style=\"color: #7f7f7f; text-decoration-color: #7f7f7f\"> 1992 </span>│<span style=\"color: #7f7f7f; text-decoration-color: #7f7f7f\">     </span>│\n",
       "├──────┼─────────────────────────────────────┼─────────────────────────────────────┼─────────────────┼──────┼─────┤\n",
       "│<span style=\"color: #7f7f7f; text-decoration-color: #7f7f7f\"> 14   </span>│<span style=\"color: #7f7f7f; text-decoration-color: #7f7f7f\"> Twister                             </span>│<span style=\"color: #7f7f7f; text-decoration-color: #7f7f7f\"> Warner Bros./Universal Pictures     </span>│<span style=\"color: #7f7f7f; text-decoration-color: #7f7f7f\"> $494,471,524    </span>│<span style=\"color: #7f7f7f; text-decoration-color: #7f7f7f\"> 1996 </span>│<span style=\"color: #7f7f7f; text-decoration-color: #7f7f7f\">     </span>│\n",
       "├──────┼─────────────────────────────────────┼─────────────────────────────────────┼─────────────────┼──────┼─────┤\n",
       "│<span style=\"color: #7f7f7f; text-decoration-color: #7f7f7f\"> 15   </span>│<span style=\"color: #7f7f7f; text-decoration-color: #7f7f7f\"> Toy Story 2                         </span>│<span style=\"color: #7f7f7f; text-decoration-color: #7f7f7f\"> Walt Disney Studios                 </span>│<span style=\"color: #7f7f7f; text-decoration-color: #7f7f7f\"> $485,015,179    </span>│<span style=\"color: #7f7f7f; text-decoration-color: #7f7f7f\"> 1999 </span>│<span style=\"color: #7f7f7f; text-decoration-color: #7f7f7f\">     </span>│\n",
       "├──────┼─────────────────────────────────────┼─────────────────────────────────────┼─────────────────┼──────┼─────┤\n",
       "│<span style=\"color: #7f7f7f; text-decoration-color: #7f7f7f\"> 16   </span>│<span style=\"color: #7f7f7f; text-decoration-color: #7f7f7f\"> Saving Private Ryan                 </span>│<span style=\"color: #7f7f7f; text-decoration-color: #7f7f7f\"> DreamWorks Pictures/Paramount       </span>│<span style=\"color: #7f7f7f; text-decoration-color: #7f7f7f\"> $481,840,909    </span>│<span style=\"color: #7f7f7f; text-decoration-color: #7f7f7f\"> 1998 </span>│<span style=\"color: #7f7f7f; text-decoration-color: #7f7f7f\">     </span>│\n",
       "│<span style=\"color: #7f7f7f; text-decoration-color: #7f7f7f\">      </span>│<span style=\"color: #7f7f7f; text-decoration-color: #7f7f7f\">                                     </span>│<span style=\"color: #7f7f7f; text-decoration-color: #7f7f7f\"> Pictures                            </span>│<span style=\"color: #7f7f7f; text-decoration-color: #7f7f7f\">                 </span>│<span style=\"color: #7f7f7f; text-decoration-color: #7f7f7f\">      </span>│<span style=\"color: #7f7f7f; text-decoration-color: #7f7f7f\">     </span>│\n",
       "├──────┼─────────────────────────────────────┼─────────────────────────────────────┼─────────────────┼──────┼─────┤\n",
       "│<span style=\"color: #7f7f7f; text-decoration-color: #7f7f7f\"> 17   </span>│<span style=\"color: #7f7f7f; text-decoration-color: #7f7f7f\"> Home Alone                          </span>│<span style=\"color: #7f7f7f; text-decoration-color: #7f7f7f\"> 20th Century Fox                    </span>│<span style=\"color: #7f7f7f; text-decoration-color: #7f7f7f\"> $476,684,675    </span>│<span style=\"color: #7f7f7f; text-decoration-color: #7f7f7f\"> 1990 </span>│<span style=\"color: #7f7f7f; text-decoration-color: #7f7f7f\">     </span>│\n",
       "├──────┼─────────────────────────────────────┼─────────────────────────────────────┼─────────────────┼──────┼─────┤\n",
       "│<span style=\"color: #7f7f7f; text-decoration-color: #7f7f7f\"> 18   </span>│<span style=\"color: #7f7f7f; text-decoration-color: #7f7f7f\"> The Matrix                          </span>│<span style=\"color: #7f7f7f; text-decoration-color: #7f7f7f\"> Warner Bros.                        </span>│<span style=\"color: #7f7f7f; text-decoration-color: #7f7f7f\"> $463,517,383    </span>│<span style=\"color: #7f7f7f; text-decoration-color: #7f7f7f\"> 1999 </span>│<span style=\"color: #7f7f7f; text-decoration-color: #7f7f7f\">     </span>│\n",
       "├──────┼─────────────────────────────────────┼─────────────────────────────────────┼─────────────────┼──────┼─────┤\n",
       "│<span style=\"color: #7f7f7f; text-decoration-color: #7f7f7f\"> 19   </span>│<span style=\"color: #7f7f7f; text-decoration-color: #7f7f7f\"> Pretty Woman                        </span>│<span style=\"color: #7f7f7f; text-decoration-color: #7f7f7f\"> Walt Disney Studios                 </span>│<span style=\"color: #7f7f7f; text-decoration-color: #7f7f7f\"> $463,406,268    </span>│<span style=\"color: #7f7f7f; text-decoration-color: #7f7f7f\"> 1990 </span>│<span style=\"color: #7f7f7f; text-decoration-color: #7f7f7f\">     </span>│\n",
       "├──────┼─────────────────────────────────────┼─────────────────────────────────────┼─────────────────┼──────┼─────┤\n",
       "│<span style=\"color: #7f7f7f; text-decoration-color: #7f7f7f\"> 20   </span>│<span style=\"color: #7f7f7f; text-decoration-color: #7f7f7f\"> Mission: Impossible                 </span>│<span style=\"color: #7f7f7f; text-decoration-color: #7f7f7f\"> Paramount Pictures                  </span>│<span style=\"color: #7f7f7f; text-decoration-color: #7f7f7f\"> $457,696,359    </span>│<span style=\"color: #7f7f7f; text-decoration-color: #7f7f7f\"> 1996 </span>│<span style=\"color: #7f7f7f; text-decoration-color: #7f7f7f\">     </span>│\n",
       "├──────┼─────────────────────────────────────┼─────────────────────────────────────┼─────────────────┼──────┼─────┤\n",
       "│<span style=\"color: #7f7f7f; text-decoration-color: #7f7f7f\"> 21   </span>│<span style=\"color: #7f7f7f; text-decoration-color: #7f7f7f\"> Tarzan                              </span>│<span style=\"color: #7f7f7f; text-decoration-color: #7f7f7f\"> Walt Disney Studios                 </span>│<span style=\"color: #7f7f7f; text-decoration-color: #7f7f7f\"> $448,191,819    </span>│<span style=\"color: #7f7f7f; text-decoration-color: #7f7f7f\"> 1999 </span>│<span style=\"color: #7f7f7f; text-decoration-color: #7f7f7f\">     </span>│\n",
       "├──────┼─────────────────────────────────────┼─────────────────────────────────────┼─────────────────┼──────┼─────┤\n",
       "│<span style=\"color: #7f7f7f; text-decoration-color: #7f7f7f\"> 22   </span>│<span style=\"color: #7f7f7f; text-decoration-color: #7f7f7f\"> Mrs. Doubtfire                      </span>│<span style=\"color: #7f7f7f; text-decoration-color: #7f7f7f\"> 20th Century Fox                    </span>│<span style=\"color: #7f7f7f; text-decoration-color: #7f7f7f\"> $441,286,195    </span>│<span style=\"color: #7f7f7f; text-decoration-color: #7f7f7f\"> 1993 </span>│<span style=\"color: #7f7f7f; text-decoration-color: #7f7f7f\">     </span>│\n",
       "├──────┼─────────────────────────────────────┼─────────────────────────────────────┼─────────────────┼──────┼─────┤\n",
       "│<span style=\"color: #7f7f7f; text-decoration-color: #7f7f7f\"> 23   </span>│<span style=\"color: #7f7f7f; text-decoration-color: #7f7f7f\"> Dances with Wolves                  </span>│<span style=\"color: #7f7f7f; text-decoration-color: #7f7f7f\"> Orion Pictures                      </span>│<span style=\"color: #7f7f7f; text-decoration-color: #7f7f7f\"> $424,208,848    </span>│<span style=\"color: #7f7f7f; text-decoration-color: #7f7f7f\"> 1990 </span>│<span style=\"color: #7f7f7f; text-decoration-color: #7f7f7f\">     </span>│\n",
       "├──────┼─────────────────────────────────────┼─────────────────────────────────────┼─────────────────┼──────┼─────┤\n",
       "│<span style=\"color: #7f7f7f; text-decoration-color: #7f7f7f\"> 24   </span>│<span style=\"color: #7f7f7f; text-decoration-color: #7f7f7f\"> The Mummy                           </span>│<span style=\"color: #7f7f7f; text-decoration-color: #7f7f7f\"> Universal Pictures                  </span>│<span style=\"color: #7f7f7f; text-decoration-color: #7f7f7f\"> $415,933,406    </span>│<span style=\"color: #7f7f7f; text-decoration-color: #7f7f7f\"> 1999 </span>│<span style=\"color: #7f7f7f; text-decoration-color: #7f7f7f\">     </span>│\n",
       "├──────┼─────────────────────────────────────┼─────────────────────────────────────┼─────────────────┼──────┼─────┤\n",
       "│<span style=\"color: #7f7f7f; text-decoration-color: #7f7f7f\"> 25   </span>│<span style=\"color: #7f7f7f; text-decoration-color: #7f7f7f\"> The Bodyguard                       </span>│<span style=\"color: #7f7f7f; text-decoration-color: #7f7f7f\"> Warner Bros.                        </span>│<span style=\"color: #7f7f7f; text-decoration-color: #7f7f7f\"> $411,006,740    </span>│<span style=\"color: #7f7f7f; text-decoration-color: #7f7f7f\"> 1992 </span>│<span style=\"color: #7f7f7f; text-decoration-color: #7f7f7f\">     </span>│\n",
       "├──────┼─────────────────────────────────────┼─────────────────────────────────────┼─────────────────┼──────┼─────┤\n",
       "│<span style=\"color: #7f7f7f; text-decoration-color: #7f7f7f\"> 26   </span>│<span style=\"color: #7f7f7f; text-decoration-color: #7f7f7f\"> Robin Hood: Prince of Thieves       </span>│<span style=\"color: #7f7f7f; text-decoration-color: #7f7f7f\"> Warner Bros.                        </span>│<span style=\"color: #7f7f7f; text-decoration-color: #7f7f7f\"> $390,493,908    </span>│<span style=\"color: #7f7f7f; text-decoration-color: #7f7f7f\"> 1991 </span>│<span style=\"color: #7f7f7f; text-decoration-color: #7f7f7f\">     </span>│\n",
       "├──────┼─────────────────────────────────────┼─────────────────────────────────────┼─────────────────┼──────┼─────┤\n",
       "│<span style=\"color: #7f7f7f; text-decoration-color: #7f7f7f\"> 27   </span>│<span style=\"color: #7f7f7f; text-decoration-color: #7f7f7f\"> Godzilla                            </span>│<span style=\"color: #7f7f7f; text-decoration-color: #7f7f7f\"> TriStar Pictures                    </span>│<span style=\"color: #7f7f7f; text-decoration-color: #7f7f7f\"> $379,014,294    </span>│<span style=\"color: #7f7f7f; text-decoration-color: #7f7f7f\"> 1998 </span>│<span style=\"color: #7f7f7f; text-decoration-color: #7f7f7f\">     </span>│\n",
       "├──────┼─────────────────────────────────────┼─────────────────────────────────────┼─────────────────┼──────┼─────┤\n",
       "│<span style=\"color: #7f7f7f; text-decoration-color: #7f7f7f\"> 28   </span>│<span style=\"color: #7f7f7f; text-decoration-color: #7f7f7f\"> True Lies                           </span>│<span style=\"color: #7f7f7f; text-decoration-color: #7f7f7f\"> 20th Century Fox                    </span>│<span style=\"color: #7f7f7f; text-decoration-color: #7f7f7f\"> $378,882,411    </span>│<span style=\"color: #7f7f7f; text-decoration-color: #7f7f7f\"> 1994 </span>│<span style=\"color: #7f7f7f; text-decoration-color: #7f7f7f\">     </span>│\n",
       "├──────┼─────────────────────────────────────┼─────────────────────────────────────┼─────────────────┼──────┼─────┤\n",
       "│<span style=\"color: #7f7f7f; text-decoration-color: #7f7f7f\"> 29   </span>│<span style=\"color: #7f7f7f; text-decoration-color: #7f7f7f\"> Toy Story                           </span>│<span style=\"color: #7f7f7f; text-decoration-color: #7f7f7f\"> Walt Disney Studios                 </span>│<span style=\"color: #7f7f7f; text-decoration-color: #7f7f7f\"> $373,554,033    </span>│<span style=\"color: #7f7f7f; text-decoration-color: #7f7f7f\"> 1995 </span>│<span style=\"color: #7f7f7f; text-decoration-color: #7f7f7f\">     </span>│\n",
       "├──────┼─────────────────────────────────────┼─────────────────────────────────────┼─────────────────┼──────┼─────┤\n",
       "│<span style=\"color: #7f7f7f; text-decoration-color: #7f7f7f\"> 30   </span>│<span style=\"color: #7f7f7f; text-decoration-color: #7f7f7f\"> There's Something About Mary        </span>│<span style=\"color: #7f7f7f; text-decoration-color: #7f7f7f\"> 20th Century Fox                    </span>│<span style=\"color: #7f7f7f; text-decoration-color: #7f7f7f\"> $369,884,651    </span>│<span style=\"color: #7f7f7f; text-decoration-color: #7f7f7f\"> 1998 </span>│<span style=\"color: #7f7f7f; text-decoration-color: #7f7f7f\">     </span>│\n",
       "├──────┼─────────────────────────────────────┼─────────────────────────────────────┼─────────────────┼──────┼─────┤\n",
       "│<span style=\"color: #7f7f7f; text-decoration-color: #7f7f7f\"> 31   </span>│<span style=\"color: #7f7f7f; text-decoration-color: #7f7f7f\"> The Fugitive                        </span>│<span style=\"color: #7f7f7f; text-decoration-color: #7f7f7f\"> Warner Bros.                        </span>│<span style=\"color: #7f7f7f; text-decoration-color: #7f7f7f\"> $368,875,760    </span>│<span style=\"color: #7f7f7f; text-decoration-color: #7f7f7f\"> 1993 </span>│<span style=\"color: #7f7f7f; text-decoration-color: #7f7f7f\">     </span>│\n",
       "├──────┼─────────────────────────────────────┼─────────────────────────────────────┼─────────────────┼──────┼─────┤\n",
       "│<span style=\"color: #7f7f7f; text-decoration-color: #7f7f7f\"> 32   </span>│<span style=\"color: #7f7f7f; text-decoration-color: #7f7f7f\"> Die Hard with a Vengeance           </span>│<span style=\"color: #7f7f7f; text-decoration-color: #7f7f7f\"> 20th Century Fox/Cinergi Pictures   </span>│<span style=\"color: #7f7f7f; text-decoration-color: #7f7f7f\"> $366,101,666    </span>│<span style=\"color: #7f7f7f; text-decoration-color: #7f7f7f\"> 1995 </span>│<span style=\"color: #7f7f7f; text-decoration-color: #7f7f7f\">     </span>│\n",
       "├──────┼─────────────────────────────────────┼─────────────────────────────────────┼─────────────────┼──────┼─────┤\n",
       "│<span style=\"color: #7f7f7f; text-decoration-color: #7f7f7f\"> 33   </span>│<span style=\"color: #7f7f7f; text-decoration-color: #7f7f7f\"> Notting Hill                        </span>│<span style=\"color: #7f7f7f; text-decoration-color: #7f7f7f\"> PolyGram Filmed Entertainment       </span>│<span style=\"color: #7f7f7f; text-decoration-color: #7f7f7f\"> $363,889,678    </span>│<span style=\"color: #7f7f7f; text-decoration-color: #7f7f7f\"> 1999 </span>│<span style=\"color: #7f7f7f; text-decoration-color: #7f7f7f\">     </span>│\n",
       "├──────┼─────────────────────────────────────┼─────────────────────────────────────┼─────────────────┼──────┼─────┤\n",
       "│<span style=\"color: #7f7f7f; text-decoration-color: #7f7f7f\"> 34   </span>│<span style=\"color: #7f7f7f; text-decoration-color: #7f7f7f\"> A Bug's Life                        </span>│<span style=\"color: #7f7f7f; text-decoration-color: #7f7f7f\"> Walt Disney Studios                 </span>│<span style=\"color: #7f7f7f; text-decoration-color: #7f7f7f\"> $363,398,565    </span>│<span style=\"color: #7f7f7f; text-decoration-color: #7f7f7f\"> 1998 </span>│<span style=\"color: #7f7f7f; text-decoration-color: #7f7f7f\">     </span>│\n",
       "├──────┼─────────────────────────────────────┼─────────────────────────────────────┼─────────────────┼──────┼─────┤\n",
       "│<span style=\"color: #7f7f7f; text-decoration-color: #7f7f7f\"> 35   </span>│<span style=\"color: #7f7f7f; text-decoration-color: #7f7f7f\"> The World Is Not Enough             </span>│<span style=\"color: #7f7f7f; text-decoration-color: #7f7f7f\"> Metro-Goldwyn-Mayer Pictures        </span>│<span style=\"color: #7f7f7f; text-decoration-color: #7f7f7f\"> $361,832,400    </span>│<span style=\"color: #7f7f7f; text-decoration-color: #7f7f7f\"> 1999 </span>│<span style=\"color: #7f7f7f; text-decoration-color: #7f7f7f\">     </span>│\n",
       "├──────┼─────────────────────────────────────┼─────────────────────────────────────┼─────────────────┼──────┼─────┤\n",
       "│<span style=\"color: #7f7f7f; text-decoration-color: #7f7f7f\"> 36   </span>│<span style=\"color: #7f7f7f; text-decoration-color: #7f7f7f\"> Home Alone 2: Lost in New York      </span>│<span style=\"color: #7f7f7f; text-decoration-color: #7f7f7f\"> 20th Century Fox                    </span>│<span style=\"color: #7f7f7f; text-decoration-color: #7f7f7f\"> $358,994,850    </span>│<span style=\"color: #7f7f7f; text-decoration-color: #7f7f7f\"> 1992 </span>│<span style=\"color: #7f7f7f; text-decoration-color: #7f7f7f\">     </span>│\n",
       "├──────┼─────────────────────────────────────┼─────────────────────────────────────┼─────────────────┼──────┼─────┤\n",
       "│<span style=\"color: #7f7f7f; text-decoration-color: #7f7f7f\"> 37   </span>│<span style=\"color: #7f7f7f; text-decoration-color: #7f7f7f\"> American Beauty                     </span>│<span style=\"color: #7f7f7f; text-decoration-color: #7f7f7f\"> DreamWorks Pictures                 </span>│<span style=\"color: #7f7f7f; text-decoration-color: #7f7f7f\"> $356,296,601    </span>│<span style=\"color: #7f7f7f; text-decoration-color: #7f7f7f\"> 1999 </span>│<span style=\"color: #7f7f7f; text-decoration-color: #7f7f7f\">     </span>│\n",
       "├──────┼─────────────────────────────────────┼─────────────────────────────────────┼─────────────────┼──────┼─────┤\n",
       "│<span style=\"color: #7f7f7f; text-decoration-color: #7f7f7f\"> 38   </span>│<span style=\"color: #7f7f7f; text-decoration-color: #7f7f7f\"> Apollo 13                           </span>│<span style=\"color: #7f7f7f; text-decoration-color: #7f7f7f\"> Universal Pictures/Imagine          </span>│<span style=\"color: #7f7f7f; text-decoration-color: #7f7f7f\"> $355,237,933    </span>│<span style=\"color: #7f7f7f; text-decoration-color: #7f7f7f\"> 1995 </span>│<span style=\"color: #7f7f7f; text-decoration-color: #7f7f7f\">     </span>│\n",
       "│<span style=\"color: #7f7f7f; text-decoration-color: #7f7f7f\">      </span>│<span style=\"color: #7f7f7f; text-decoration-color: #7f7f7f\">                                     </span>│<span style=\"color: #7f7f7f; text-decoration-color: #7f7f7f\"> Entertainment                       </span>│<span style=\"color: #7f7f7f; text-decoration-color: #7f7f7f\">                 </span>│<span style=\"color: #7f7f7f; text-decoration-color: #7f7f7f\">      </span>│<span style=\"color: #7f7f7f; text-decoration-color: #7f7f7f\">     </span>│\n",
       "├──────┼─────────────────────────────────────┼─────────────────────────────────────┼─────────────────┼──────┼─────┤\n",
       "│<span style=\"color: #7f7f7f; text-decoration-color: #7f7f7f\"> 39   </span>│<span style=\"color: #7f7f7f; text-decoration-color: #7f7f7f\"> Basic Instinct                      </span>│<span style=\"color: #7f7f7f; text-decoration-color: #7f7f7f\"> TriStar Pictures                    </span>│<span style=\"color: #7f7f7f; text-decoration-color: #7f7f7f\"> $352,927,224    </span>│<span style=\"color: #7f7f7f; text-decoration-color: #7f7f7f\"> 1992 </span>│<span style=\"color: #7f7f7f; text-decoration-color: #7f7f7f\">     </span>│\n",
       "├──────┼─────────────────────────────────────┼─────────────────────────────────────┼─────────────────┼──────┼─────┤\n",
       "│<span style=\"color: #7f7f7f; text-decoration-color: #7f7f7f\"> 40   </span>│<span style=\"color: #7f7f7f; text-decoration-color: #7f7f7f\"> GoldenEye                           </span>│<span style=\"color: #7f7f7f; text-decoration-color: #7f7f7f\"> MGM/United Artists                  </span>│<span style=\"color: #7f7f7f; text-decoration-color: #7f7f7f\"> $352,194,034    </span>│<span style=\"color: #7f7f7f; text-decoration-color: #7f7f7f\"> 1995 </span>│<span style=\"color: #7f7f7f; text-decoration-color: #7f7f7f\">     </span>│\n",
       "├──────┼─────────────────────────────────────┼─────────────────────────────────────┼─────────────────┼──────┼─────┤\n",
       "│<span style=\"color: #7f7f7f; text-decoration-color: #7f7f7f\"> 41   </span>│<span style=\"color: #7f7f7f; text-decoration-color: #7f7f7f\"> The Mask                            </span>│<span style=\"color: #7f7f7f; text-decoration-color: #7f7f7f\"> New Line Cinema                     </span>│<span style=\"color: #7f7f7f; text-decoration-color: #7f7f7f\"> $351,583,407    </span>│<span style=\"color: #7f7f7f; text-decoration-color: #7f7f7f\"> 1994 </span>│<span style=\"color: #7f7f7f; text-decoration-color: #7f7f7f\">     </span>│\n",
       "├──────┼─────────────────────────────────────┼─────────────────────────────────────┼─────────────────┼──────┼─────┤\n",
       "│<span style=\"color: #7f7f7f; text-decoration-color: #7f7f7f\"> 42   </span>│<span style=\"color: #7f7f7f; text-decoration-color: #7f7f7f\"> Speed                               </span>│<span style=\"color: #7f7f7f; text-decoration-color: #7f7f7f\"> 20th Century Fox                    </span>│<span style=\"color: #7f7f7f; text-decoration-color: #7f7f7f\"> $350,448,145    </span>│<span style=\"color: #7f7f7f; text-decoration-color: #7f7f7f\"> 1994 </span>│<span style=\"color: #7f7f7f; text-decoration-color: #7f7f7f\">     </span>│\n",
       "├──────┼─────────────────────────────────────┼─────────────────────────────────────┼─────────────────┼──────┼─────┤\n",
       "│<span style=\"color: #7f7f7f; text-decoration-color: #7f7f7f\"> 43   </span>│<span style=\"color: #7f7f7f; text-decoration-color: #7f7f7f\"> Deep Impact                         </span>│<span style=\"color: #7f7f7f; text-decoration-color: #7f7f7f\"> Paramount Pictures/DreamWorks       </span>│<span style=\"color: #7f7f7f; text-decoration-color: #7f7f7f\"> $349,464,664    </span>│<span style=\"color: #7f7f7f; text-decoration-color: #7f7f7f\"> 1998 </span>│<span style=\"color: #7f7f7f; text-decoration-color: #7f7f7f\">     </span>│\n",
       "│<span style=\"color: #7f7f7f; text-decoration-color: #7f7f7f\">      </span>│<span style=\"color: #7f7f7f; text-decoration-color: #7f7f7f\">                                     </span>│<span style=\"color: #7f7f7f; text-decoration-color: #7f7f7f\"> Pictures                            </span>│<span style=\"color: #7f7f7f; text-decoration-color: #7f7f7f\">                 </span>│<span style=\"color: #7f7f7f; text-decoration-color: #7f7f7f\">      </span>│<span style=\"color: #7f7f7f; text-decoration-color: #7f7f7f\">     </span>│\n",
       "├──────┼─────────────────────────────────────┼─────────────────────────────────────┼─────────────────┼──────┼─────┤\n",
       "│<span style=\"color: #7f7f7f; text-decoration-color: #7f7f7f\"> 44   </span>│<span style=\"color: #7f7f7f; text-decoration-color: #7f7f7f\"> Beauty and the Beast                </span>│<span style=\"color: #7f7f7f; text-decoration-color: #7f7f7f\"> Walt Disney Studios                 </span>│<span style=\"color: #7f7f7f; text-decoration-color: #7f7f7f\"> $346,317,207    </span>│<span style=\"color: #7f7f7f; text-decoration-color: #7f7f7f\"> 1991 </span>│<span style=\"color: #7f7f7f; text-decoration-color: #7f7f7f\">     </span>│\n",
       "├──────┼─────────────────────────────────────┼─────────────────────────────────────┼─────────────────┼──────┼─────┤\n",
       "│<span style=\"color: #7f7f7f; text-decoration-color: #7f7f7f\"> 45   </span>│<span style=\"color: #7f7f7f; text-decoration-color: #7f7f7f\"> Pocahontas                          </span>│<span style=\"color: #7f7f7f; text-decoration-color: #7f7f7f\"> Walt Disney Studios                 </span>│<span style=\"color: #7f7f7f; text-decoration-color: #7f7f7f\"> $346,079,773    </span>│<span style=\"color: #7f7f7f; text-decoration-color: #7f7f7f\"> 1995 </span>│<span style=\"color: #7f7f7f; text-decoration-color: #7f7f7f\">     </span>│\n",
       "├──────┼─────────────────────────────────────┼─────────────────────────────────────┼─────────────────┼──────┼─────┤\n",
       "│<span style=\"color: #7f7f7f; text-decoration-color: #7f7f7f\"> 46   </span>│<span style=\"color: #7f7f7f; text-decoration-color: #7f7f7f\"> The Flintstones                     </span>│<span style=\"color: #7f7f7f; text-decoration-color: #7f7f7f\"> Universal Pictures                  </span>│<span style=\"color: #7f7f7f; text-decoration-color: #7f7f7f\"> $341,631,208    </span>│<span style=\"color: #7f7f7f; text-decoration-color: #7f7f7f\"> 1994 </span>│<span style=\"color: #7f7f7f; text-decoration-color: #7f7f7f\">     </span>│\n",
       "├──────┼─────────────────────────────────────┼─────────────────────────────────────┼─────────────────┼──────┼─────┤\n",
       "│<span style=\"color: #7f7f7f; text-decoration-color: #7f7f7f\"> 47   </span>│<span style=\"color: #7f7f7f; text-decoration-color: #7f7f7f\"> Batman Forever                      </span>│<span style=\"color: #7f7f7f; text-decoration-color: #7f7f7f\"> Warner Bros.                        </span>│<span style=\"color: #7f7f7f; text-decoration-color: #7f7f7f\"> $336,529,144    </span>│<span style=\"color: #7f7f7f; text-decoration-color: #7f7f7f\"> 1995 </span>│<span style=\"color: #7f7f7f; text-decoration-color: #7f7f7f\">     </span>│\n",
       "├──────┼─────────────────────────────────────┼─────────────────────────────────────┼─────────────────┼──────┼─────┤\n",
       "│<span style=\"color: #7f7f7f; text-decoration-color: #7f7f7f\"> 48   </span>│<span style=\"color: #7f7f7f; text-decoration-color: #7f7f7f\"> The Rock                            </span>│<span style=\"color: #7f7f7f; text-decoration-color: #7f7f7f\"> Walt Disney Studios                 </span>│<span style=\"color: #7f7f7f; text-decoration-color: #7f7f7f\"> $335,062,621    </span>│<span style=\"color: #7f7f7f; text-decoration-color: #7f7f7f\"> 1996 </span>│<span style=\"color: #7f7f7f; text-decoration-color: #7f7f7f\">     </span>│\n",
       "├──────┼─────────────────────────────────────┼─────────────────────────────────────┼─────────────────┼──────┼─────┤\n",
       "│<span style=\"color: #7f7f7f; text-decoration-color: #7f7f7f\"> 49   </span>│<span style=\"color: #7f7f7f; text-decoration-color: #7f7f7f\"> Tomorrow Never Dies                 </span>│<span style=\"color: #7f7f7f; text-decoration-color: #7f7f7f\"> MGM/United Artists                  </span>│<span style=\"color: #7f7f7f; text-decoration-color: #7f7f7f\"> $333,011,068    </span>│<span style=\"color: #7f7f7f; text-decoration-color: #7f7f7f\"> 1997 </span>│<span style=\"color: #7f7f7f; text-decoration-color: #7f7f7f\">     </span>│\n",
       "├──────┼─────────────────────────────────────┼─────────────────────────────────────┼─────────────────┼──────┼─────┤\n",
       "│<span style=\"color: #7f7f7f; text-decoration-color: #7f7f7f\"> 50   </span>│<span style=\"color: #7f7f7f; text-decoration-color: #7f7f7f\"> Seven                               </span>│<span style=\"color: #7f7f7f; text-decoration-color: #7f7f7f\"> New Line Cinema                     </span>│<span style=\"color: #7f7f7f; text-decoration-color: #7f7f7f\"> $327,311,859    </span>│<span style=\"color: #7f7f7f; text-decoration-color: #7f7f7f\"> 1995 </span>│<span style=\"color: #7f7f7f; text-decoration-color: #7f7f7f\">     </span>│\n",
       "└──────┴─────────────────────────────────────┴─────────────────────────────────────┴─────────────────┴──────┴─────┘\n",
       "</pre>\n"
      ],
      "text/plain": [
       "┏━━━━━━┳━━━━━━━━━━━━━━━━━━━━━━━━━━━━━━━━━━━━━┳━━━━━━━━━━━━━━━━━━━━━━━━━━━━━━━━━━━━━┳━━━━━━━━━━━━━━━━━┳━━━━━━┳━━━━━┓\n",
       "┃\u001b[1;35m      \u001b[0m┃\u001b[1;35m                                     \u001b[0m┃\u001b[1;35m                                     \u001b[0m┃\u001b[1;35m                 \u001b[0m┃\u001b[1;35m      \u001b[0m┃\u001b[1;35m \u001b[0m\u001b[1;35mRef\u001b[0m\u001b[1;35m \u001b[0m┃\n",
       "┃\u001b[1;35m \u001b[0m\u001b[1;35mRank\u001b[0m\u001b[1;35m \u001b[0m┃\u001b[1;35m \u001b[0m\u001b[1;35mTitle                              \u001b[0m\u001b[1;35m \u001b[0m┃\u001b[1;35m \u001b[0m\u001b[1;35mStudios                            \u001b[0m\u001b[1;35m \u001b[0m┃\u001b[1;35m \u001b[0m\u001b[1;35mWorldwide gross\u001b[0m\u001b[1;35m \u001b[0m┃\u001b[1;35m \u001b[0m\u001b[1;35mYear\u001b[0m\u001b[1;35m \u001b[0m┃\u001b[1;35m \u001b[0m\u001b[1;35m.  \u001b[0m\u001b[1;35m \u001b[0m┃\n",
       "┡━━━━━━╇━━━━━━━━━━━━━━━━━━━━━━━━━━━━━━━━━━━━━╇━━━━━━━━━━━━━━━━━━━━━━━━━━━━━━━━━━━━━╇━━━━━━━━━━━━━━━━━╇━━━━━━╇━━━━━┩\n",
       "│\u001b[2m \u001b[0m\u001b[2m1   \u001b[0m\u001b[2m \u001b[0m│\u001b[2m \u001b[0m\u001b[2mTitanic                            \u001b[0m\u001b[2m \u001b[0m│\u001b[2m \u001b[0m\u001b[2mParamount Pictures/20th Century Fox\u001b[0m\u001b[2m \u001b[0m│\u001b[2m \u001b[0m\u001b[2m$1,843,201,268 \u001b[0m\u001b[2m \u001b[0m│\u001b[2m \u001b[0m\u001b[2m1997\u001b[0m\u001b[2m \u001b[0m│\u001b[2m \u001b[0m\u001b[2m   \u001b[0m\u001b[2m \u001b[0m│\n",
       "├──────┼─────────────────────────────────────┼─────────────────────────────────────┼─────────────────┼──────┼─────┤\n",
       "│\u001b[2m \u001b[0m\u001b[2m2   \u001b[0m\u001b[2m \u001b[0m│\u001b[2m \u001b[0m\u001b[2mStar Wars: Episode I – The Phantom \u001b[0m\u001b[2m \u001b[0m│\u001b[2m \u001b[0m\u001b[2m20th Century Fox                   \u001b[0m\u001b[2m \u001b[0m│\u001b[2m \u001b[0m\u001b[2m$924,317,558   \u001b[0m\u001b[2m \u001b[0m│\u001b[2m \u001b[0m\u001b[2m1999\u001b[0m\u001b[2m \u001b[0m│\u001b[2m \u001b[0m\u001b[2m   \u001b[0m\u001b[2m \u001b[0m│\n",
       "│\u001b[2m      \u001b[0m│\u001b[2m \u001b[0m\u001b[2mMenace                             \u001b[0m\u001b[2m \u001b[0m│\u001b[2m                                     \u001b[0m│\u001b[2m                 \u001b[0m│\u001b[2m      \u001b[0m│\u001b[2m     \u001b[0m│\n",
       "├──────┼─────────────────────────────────────┼─────────────────────────────────────┼─────────────────┼──────┼─────┤\n",
       "│\u001b[2m \u001b[0m\u001b[2m3   \u001b[0m\u001b[2m \u001b[0m│\u001b[2m \u001b[0m\u001b[2mJurassic Park                      \u001b[0m\u001b[2m \u001b[0m│\u001b[2m \u001b[0m\u001b[2mUniversal Pictures                 \u001b[0m\u001b[2m \u001b[0m│\u001b[2m \u001b[0m\u001b[2m$914,691,118   \u001b[0m\u001b[2m \u001b[0m│\u001b[2m \u001b[0m\u001b[2m1993\u001b[0m\u001b[2m \u001b[0m│\u001b[2m \u001b[0m\u001b[2m   \u001b[0m\u001b[2m \u001b[0m│\n",
       "├──────┼─────────────────────────────────────┼─────────────────────────────────────┼─────────────────┼──────┼─────┤\n",
       "│\u001b[2m \u001b[0m\u001b[2m4   \u001b[0m\u001b[2m \u001b[0m│\u001b[2m \u001b[0m\u001b[2mIndependence Day                   \u001b[0m\u001b[2m \u001b[0m│\u001b[2m \u001b[0m\u001b[2m20th Century Fox                   \u001b[0m\u001b[2m \u001b[0m│\u001b[2m \u001b[0m\u001b[2m$817,400,891   \u001b[0m\u001b[2m \u001b[0m│\u001b[2m \u001b[0m\u001b[2m1996\u001b[0m\u001b[2m \u001b[0m│\u001b[2m \u001b[0m\u001b[2m   \u001b[0m\u001b[2m \u001b[0m│\n",
       "├──────┼─────────────────────────────────────┼─────────────────────────────────────┼─────────────────┼──────┼─────┤\n",
       "│\u001b[2m \u001b[0m\u001b[2m5   \u001b[0m\u001b[2m \u001b[0m│\u001b[2m \u001b[0m\u001b[2mThe Lion King                      \u001b[0m\u001b[2m \u001b[0m│\u001b[2m \u001b[0m\u001b[2mWalt Disney Studios                \u001b[0m\u001b[2m \u001b[0m│\u001b[2m \u001b[0m\u001b[2m$763,455,561   \u001b[0m\u001b[2m \u001b[0m│\u001b[2m \u001b[0m\u001b[2m1994\u001b[0m\u001b[2m \u001b[0m│\u001b[2m \u001b[0m\u001b[2m   \u001b[0m\u001b[2m \u001b[0m│\n",
       "├──────┼─────────────────────────────────────┼─────────────────────────────────────┼─────────────────┼──────┼─────┤\n",
       "│\u001b[2m \u001b[0m\u001b[2m6   \u001b[0m\u001b[2m \u001b[0m│\u001b[2m \u001b[0m\u001b[2mForrest Gump                       \u001b[0m\u001b[2m \u001b[0m│\u001b[2m \u001b[0m\u001b[2mParamount Pictures                 \u001b[0m\u001b[2m \u001b[0m│\u001b[2m \u001b[0m\u001b[2m$677,387,716   \u001b[0m\u001b[2m \u001b[0m│\u001b[2m \u001b[0m\u001b[2m1994\u001b[0m\u001b[2m \u001b[0m│\u001b[2m \u001b[0m\u001b[2m   \u001b[0m\u001b[2m \u001b[0m│\n",
       "├──────┼─────────────────────────────────────┼─────────────────────────────────────┼─────────────────┼──────┼─────┤\n",
       "│\u001b[2m \u001b[0m\u001b[2m7   \u001b[0m\u001b[2m \u001b[0m│\u001b[2m \u001b[0m\u001b[2mThe Sixth Sense                    \u001b[0m\u001b[2m \u001b[0m│\u001b[2m \u001b[0m\u001b[2mWalt Disney Studios                \u001b[0m\u001b[2m \u001b[0m│\u001b[2m \u001b[0m\u001b[2m$672,806,292   \u001b[0m\u001b[2m \u001b[0m│\u001b[2m \u001b[0m\u001b[2m1999\u001b[0m\u001b[2m \u001b[0m│\u001b[2m \u001b[0m\u001b[2m   \u001b[0m\u001b[2m \u001b[0m│\n",
       "├──────┼─────────────────────────────────────┼─────────────────────────────────────┼─────────────────┼──────┼─────┤\n",
       "│\u001b[2m \u001b[0m\u001b[2m8   \u001b[0m\u001b[2m \u001b[0m│\u001b[2m \u001b[0m\u001b[2mThe Lost World: Jurassic Park      \u001b[0m\u001b[2m \u001b[0m│\u001b[2m \u001b[0m\u001b[2mUniversal Pictures                 \u001b[0m\u001b[2m \u001b[0m│\u001b[2m \u001b[0m\u001b[2m$618,638,999   \u001b[0m\u001b[2m \u001b[0m│\u001b[2m \u001b[0m\u001b[2m1997\u001b[0m\u001b[2m \u001b[0m│\u001b[2m \u001b[0m\u001b[2m   \u001b[0m\u001b[2m \u001b[0m│\n",
       "├──────┼─────────────────────────────────────┼─────────────────────────────────────┼─────────────────┼──────┼─────┤\n",
       "│\u001b[2m \u001b[0m\u001b[2m9   \u001b[0m\u001b[2m \u001b[0m│\u001b[2m \u001b[0m\u001b[2mMen in Black                       \u001b[0m\u001b[2m \u001b[0m│\u001b[2m \u001b[0m\u001b[2mSony Pictures/Columbia Pictures    \u001b[0m\u001b[2m \u001b[0m│\u001b[2m \u001b[0m\u001b[2m$589,390,539   \u001b[0m\u001b[2m \u001b[0m│\u001b[2m \u001b[0m\u001b[2m1997\u001b[0m\u001b[2m \u001b[0m│\u001b[2m \u001b[0m\u001b[2m   \u001b[0m\u001b[2m \u001b[0m│\n",
       "├──────┼─────────────────────────────────────┼─────────────────────────────────────┼─────────────────┼──────┼─────┤\n",
       "│\u001b[2m \u001b[0m\u001b[2m10  \u001b[0m\u001b[2m \u001b[0m│\u001b[2m \u001b[0m\u001b[2mArmageddon                         \u001b[0m\u001b[2m \u001b[0m│\u001b[2m \u001b[0m\u001b[2mWalt Disney Studios                \u001b[0m\u001b[2m \u001b[0m│\u001b[2m \u001b[0m\u001b[2m$553,709,788   \u001b[0m\u001b[2m \u001b[0m│\u001b[2m \u001b[0m\u001b[2m1998\u001b[0m\u001b[2m \u001b[0m│\u001b[2m \u001b[0m\u001b[2m   \u001b[0m\u001b[2m \u001b[0m│\n",
       "├──────┼─────────────────────────────────────┼─────────────────────────────────────┼─────────────────┼──────┼─────┤\n",
       "│\u001b[2m \u001b[0m\u001b[2m11  \u001b[0m\u001b[2m \u001b[0m│\u001b[2m \u001b[0m\u001b[2mTerminator 2: Judgment Day         \u001b[0m\u001b[2m \u001b[0m│\u001b[2m \u001b[0m\u001b[2mTriStar Pictures                   \u001b[0m\u001b[2m \u001b[0m│\u001b[2m \u001b[0m\u001b[2m$519,843,345   \u001b[0m\u001b[2m \u001b[0m│\u001b[2m \u001b[0m\u001b[2m1991\u001b[0m\u001b[2m \u001b[0m│\u001b[2m \u001b[0m\u001b[2m   \u001b[0m\u001b[2m \u001b[0m│\n",
       "├──────┼─────────────────────────────────────┼─────────────────────────────────────┼─────────────────┼──────┼─────┤\n",
       "│\u001b[2m \u001b[0m\u001b[2m12  \u001b[0m\u001b[2m \u001b[0m│\u001b[2m \u001b[0m\u001b[2mGhost                              \u001b[0m\u001b[2m \u001b[0m│\u001b[2m \u001b[0m\u001b[2mParamount Pictures                 \u001b[0m\u001b[2m \u001b[0m│\u001b[2m \u001b[0m\u001b[2m$505,702,588   \u001b[0m\u001b[2m \u001b[0m│\u001b[2m \u001b[0m\u001b[2m1990\u001b[0m\u001b[2m \u001b[0m│\u001b[2m \u001b[0m\u001b[2m   \u001b[0m\u001b[2m \u001b[0m│\n",
       "├──────┼─────────────────────────────────────┼─────────────────────────────────────┼─────────────────┼──────┼─────┤\n",
       "│\u001b[2m \u001b[0m\u001b[2m13  \u001b[0m\u001b[2m \u001b[0m│\u001b[2m \u001b[0m\u001b[2mAladdin                            \u001b[0m\u001b[2m \u001b[0m│\u001b[2m \u001b[0m\u001b[2mWalt Disney Studios                \u001b[0m\u001b[2m \u001b[0m│\u001b[2m \u001b[0m\u001b[2m$504,050,219   \u001b[0m\u001b[2m \u001b[0m│\u001b[2m \u001b[0m\u001b[2m1992\u001b[0m\u001b[2m \u001b[0m│\u001b[2m \u001b[0m\u001b[2m   \u001b[0m\u001b[2m \u001b[0m│\n",
       "├──────┼─────────────────────────────────────┼─────────────────────────────────────┼─────────────────┼──────┼─────┤\n",
       "│\u001b[2m \u001b[0m\u001b[2m14  \u001b[0m\u001b[2m \u001b[0m│\u001b[2m \u001b[0m\u001b[2mTwister                            \u001b[0m\u001b[2m \u001b[0m│\u001b[2m \u001b[0m\u001b[2mWarner Bros./Universal Pictures    \u001b[0m\u001b[2m \u001b[0m│\u001b[2m \u001b[0m\u001b[2m$494,471,524   \u001b[0m\u001b[2m \u001b[0m│\u001b[2m \u001b[0m\u001b[2m1996\u001b[0m\u001b[2m \u001b[0m│\u001b[2m \u001b[0m\u001b[2m   \u001b[0m\u001b[2m \u001b[0m│\n",
       "├──────┼─────────────────────────────────────┼─────────────────────────────────────┼─────────────────┼──────┼─────┤\n",
       "│\u001b[2m \u001b[0m\u001b[2m15  \u001b[0m\u001b[2m \u001b[0m│\u001b[2m \u001b[0m\u001b[2mToy Story 2                        \u001b[0m\u001b[2m \u001b[0m│\u001b[2m \u001b[0m\u001b[2mWalt Disney Studios                \u001b[0m\u001b[2m \u001b[0m│\u001b[2m \u001b[0m\u001b[2m$485,015,179   \u001b[0m\u001b[2m \u001b[0m│\u001b[2m \u001b[0m\u001b[2m1999\u001b[0m\u001b[2m \u001b[0m│\u001b[2m \u001b[0m\u001b[2m   \u001b[0m\u001b[2m \u001b[0m│\n",
       "├──────┼─────────────────────────────────────┼─────────────────────────────────────┼─────────────────┼──────┼─────┤\n",
       "│\u001b[2m \u001b[0m\u001b[2m16  \u001b[0m\u001b[2m \u001b[0m│\u001b[2m \u001b[0m\u001b[2mSaving Private Ryan                \u001b[0m\u001b[2m \u001b[0m│\u001b[2m \u001b[0m\u001b[2mDreamWorks Pictures/Paramount      \u001b[0m\u001b[2m \u001b[0m│\u001b[2m \u001b[0m\u001b[2m$481,840,909   \u001b[0m\u001b[2m \u001b[0m│\u001b[2m \u001b[0m\u001b[2m1998\u001b[0m\u001b[2m \u001b[0m│\u001b[2m \u001b[0m\u001b[2m   \u001b[0m\u001b[2m \u001b[0m│\n",
       "│\u001b[2m      \u001b[0m│\u001b[2m                                     \u001b[0m│\u001b[2m \u001b[0m\u001b[2mPictures                           \u001b[0m\u001b[2m \u001b[0m│\u001b[2m                 \u001b[0m│\u001b[2m      \u001b[0m│\u001b[2m     \u001b[0m│\n",
       "├──────┼─────────────────────────────────────┼─────────────────────────────────────┼─────────────────┼──────┼─────┤\n",
       "│\u001b[2m \u001b[0m\u001b[2m17  \u001b[0m\u001b[2m \u001b[0m│\u001b[2m \u001b[0m\u001b[2mHome Alone                         \u001b[0m\u001b[2m \u001b[0m│\u001b[2m \u001b[0m\u001b[2m20th Century Fox                   \u001b[0m\u001b[2m \u001b[0m│\u001b[2m \u001b[0m\u001b[2m$476,684,675   \u001b[0m\u001b[2m \u001b[0m│\u001b[2m \u001b[0m\u001b[2m1990\u001b[0m\u001b[2m \u001b[0m│\u001b[2m \u001b[0m\u001b[2m   \u001b[0m\u001b[2m \u001b[0m│\n",
       "├──────┼─────────────────────────────────────┼─────────────────────────────────────┼─────────────────┼──────┼─────┤\n",
       "│\u001b[2m \u001b[0m\u001b[2m18  \u001b[0m\u001b[2m \u001b[0m│\u001b[2m \u001b[0m\u001b[2mThe Matrix                         \u001b[0m\u001b[2m \u001b[0m│\u001b[2m \u001b[0m\u001b[2mWarner Bros.                       \u001b[0m\u001b[2m \u001b[0m│\u001b[2m \u001b[0m\u001b[2m$463,517,383   \u001b[0m\u001b[2m \u001b[0m│\u001b[2m \u001b[0m\u001b[2m1999\u001b[0m\u001b[2m \u001b[0m│\u001b[2m \u001b[0m\u001b[2m   \u001b[0m\u001b[2m \u001b[0m│\n",
       "├──────┼─────────────────────────────────────┼─────────────────────────────────────┼─────────────────┼──────┼─────┤\n",
       "│\u001b[2m \u001b[0m\u001b[2m19  \u001b[0m\u001b[2m \u001b[0m│\u001b[2m \u001b[0m\u001b[2mPretty Woman                       \u001b[0m\u001b[2m \u001b[0m│\u001b[2m \u001b[0m\u001b[2mWalt Disney Studios                \u001b[0m\u001b[2m \u001b[0m│\u001b[2m \u001b[0m\u001b[2m$463,406,268   \u001b[0m\u001b[2m \u001b[0m│\u001b[2m \u001b[0m\u001b[2m1990\u001b[0m\u001b[2m \u001b[0m│\u001b[2m \u001b[0m\u001b[2m   \u001b[0m\u001b[2m \u001b[0m│\n",
       "├──────┼─────────────────────────────────────┼─────────────────────────────────────┼─────────────────┼──────┼─────┤\n",
       "│\u001b[2m \u001b[0m\u001b[2m20  \u001b[0m\u001b[2m \u001b[0m│\u001b[2m \u001b[0m\u001b[2mMission: Impossible                \u001b[0m\u001b[2m \u001b[0m│\u001b[2m \u001b[0m\u001b[2mParamount Pictures                 \u001b[0m\u001b[2m \u001b[0m│\u001b[2m \u001b[0m\u001b[2m$457,696,359   \u001b[0m\u001b[2m \u001b[0m│\u001b[2m \u001b[0m\u001b[2m1996\u001b[0m\u001b[2m \u001b[0m│\u001b[2m \u001b[0m\u001b[2m   \u001b[0m\u001b[2m \u001b[0m│\n",
       "├──────┼─────────────────────────────────────┼─────────────────────────────────────┼─────────────────┼──────┼─────┤\n",
       "│\u001b[2m \u001b[0m\u001b[2m21  \u001b[0m\u001b[2m \u001b[0m│\u001b[2m \u001b[0m\u001b[2mTarzan                             \u001b[0m\u001b[2m \u001b[0m│\u001b[2m \u001b[0m\u001b[2mWalt Disney Studios                \u001b[0m\u001b[2m \u001b[0m│\u001b[2m \u001b[0m\u001b[2m$448,191,819   \u001b[0m\u001b[2m \u001b[0m│\u001b[2m \u001b[0m\u001b[2m1999\u001b[0m\u001b[2m \u001b[0m│\u001b[2m \u001b[0m\u001b[2m   \u001b[0m\u001b[2m \u001b[0m│\n",
       "├──────┼─────────────────────────────────────┼─────────────────────────────────────┼─────────────────┼──────┼─────┤\n",
       "│\u001b[2m \u001b[0m\u001b[2m22  \u001b[0m\u001b[2m \u001b[0m│\u001b[2m \u001b[0m\u001b[2mMrs. Doubtfire                     \u001b[0m\u001b[2m \u001b[0m│\u001b[2m \u001b[0m\u001b[2m20th Century Fox                   \u001b[0m\u001b[2m \u001b[0m│\u001b[2m \u001b[0m\u001b[2m$441,286,195   \u001b[0m\u001b[2m \u001b[0m│\u001b[2m \u001b[0m\u001b[2m1993\u001b[0m\u001b[2m \u001b[0m│\u001b[2m \u001b[0m\u001b[2m   \u001b[0m\u001b[2m \u001b[0m│\n",
       "├──────┼─────────────────────────────────────┼─────────────────────────────────────┼─────────────────┼──────┼─────┤\n",
       "│\u001b[2m \u001b[0m\u001b[2m23  \u001b[0m\u001b[2m \u001b[0m│\u001b[2m \u001b[0m\u001b[2mDances with Wolves                 \u001b[0m\u001b[2m \u001b[0m│\u001b[2m \u001b[0m\u001b[2mOrion Pictures                     \u001b[0m\u001b[2m \u001b[0m│\u001b[2m \u001b[0m\u001b[2m$424,208,848   \u001b[0m\u001b[2m \u001b[0m│\u001b[2m \u001b[0m\u001b[2m1990\u001b[0m\u001b[2m \u001b[0m│\u001b[2m \u001b[0m\u001b[2m   \u001b[0m\u001b[2m \u001b[0m│\n",
       "├──────┼─────────────────────────────────────┼─────────────────────────────────────┼─────────────────┼──────┼─────┤\n",
       "│\u001b[2m \u001b[0m\u001b[2m24  \u001b[0m\u001b[2m \u001b[0m│\u001b[2m \u001b[0m\u001b[2mThe Mummy                          \u001b[0m\u001b[2m \u001b[0m│\u001b[2m \u001b[0m\u001b[2mUniversal Pictures                 \u001b[0m\u001b[2m \u001b[0m│\u001b[2m \u001b[0m\u001b[2m$415,933,406   \u001b[0m\u001b[2m \u001b[0m│\u001b[2m \u001b[0m\u001b[2m1999\u001b[0m\u001b[2m \u001b[0m│\u001b[2m \u001b[0m\u001b[2m   \u001b[0m\u001b[2m \u001b[0m│\n",
       "├──────┼─────────────────────────────────────┼─────────────────────────────────────┼─────────────────┼──────┼─────┤\n",
       "│\u001b[2m \u001b[0m\u001b[2m25  \u001b[0m\u001b[2m \u001b[0m│\u001b[2m \u001b[0m\u001b[2mThe Bodyguard                      \u001b[0m\u001b[2m \u001b[0m│\u001b[2m \u001b[0m\u001b[2mWarner Bros.                       \u001b[0m\u001b[2m \u001b[0m│\u001b[2m \u001b[0m\u001b[2m$411,006,740   \u001b[0m\u001b[2m \u001b[0m│\u001b[2m \u001b[0m\u001b[2m1992\u001b[0m\u001b[2m \u001b[0m│\u001b[2m \u001b[0m\u001b[2m   \u001b[0m\u001b[2m \u001b[0m│\n",
       "├──────┼─────────────────────────────────────┼─────────────────────────────────────┼─────────────────┼──────┼─────┤\n",
       "│\u001b[2m \u001b[0m\u001b[2m26  \u001b[0m\u001b[2m \u001b[0m│\u001b[2m \u001b[0m\u001b[2mRobin Hood: Prince of Thieves      \u001b[0m\u001b[2m \u001b[0m│\u001b[2m \u001b[0m\u001b[2mWarner Bros.                       \u001b[0m\u001b[2m \u001b[0m│\u001b[2m \u001b[0m\u001b[2m$390,493,908   \u001b[0m\u001b[2m \u001b[0m│\u001b[2m \u001b[0m\u001b[2m1991\u001b[0m\u001b[2m \u001b[0m│\u001b[2m \u001b[0m\u001b[2m   \u001b[0m\u001b[2m \u001b[0m│\n",
       "├──────┼─────────────────────────────────────┼─────────────────────────────────────┼─────────────────┼──────┼─────┤\n",
       "│\u001b[2m \u001b[0m\u001b[2m27  \u001b[0m\u001b[2m \u001b[0m│\u001b[2m \u001b[0m\u001b[2mGodzilla                           \u001b[0m\u001b[2m \u001b[0m│\u001b[2m \u001b[0m\u001b[2mTriStar Pictures                   \u001b[0m\u001b[2m \u001b[0m│\u001b[2m \u001b[0m\u001b[2m$379,014,294   \u001b[0m\u001b[2m \u001b[0m│\u001b[2m \u001b[0m\u001b[2m1998\u001b[0m\u001b[2m \u001b[0m│\u001b[2m \u001b[0m\u001b[2m   \u001b[0m\u001b[2m \u001b[0m│\n",
       "├──────┼─────────────────────────────────────┼─────────────────────────────────────┼─────────────────┼──────┼─────┤\n",
       "│\u001b[2m \u001b[0m\u001b[2m28  \u001b[0m\u001b[2m \u001b[0m│\u001b[2m \u001b[0m\u001b[2mTrue Lies                          \u001b[0m\u001b[2m \u001b[0m│\u001b[2m \u001b[0m\u001b[2m20th Century Fox                   \u001b[0m\u001b[2m \u001b[0m│\u001b[2m \u001b[0m\u001b[2m$378,882,411   \u001b[0m\u001b[2m \u001b[0m│\u001b[2m \u001b[0m\u001b[2m1994\u001b[0m\u001b[2m \u001b[0m│\u001b[2m \u001b[0m\u001b[2m   \u001b[0m\u001b[2m \u001b[0m│\n",
       "├──────┼─────────────────────────────────────┼─────────────────────────────────────┼─────────────────┼──────┼─────┤\n",
       "│\u001b[2m \u001b[0m\u001b[2m29  \u001b[0m\u001b[2m \u001b[0m│\u001b[2m \u001b[0m\u001b[2mToy Story                          \u001b[0m\u001b[2m \u001b[0m│\u001b[2m \u001b[0m\u001b[2mWalt Disney Studios                \u001b[0m\u001b[2m \u001b[0m│\u001b[2m \u001b[0m\u001b[2m$373,554,033   \u001b[0m\u001b[2m \u001b[0m│\u001b[2m \u001b[0m\u001b[2m1995\u001b[0m\u001b[2m \u001b[0m│\u001b[2m \u001b[0m\u001b[2m   \u001b[0m\u001b[2m \u001b[0m│\n",
       "├──────┼─────────────────────────────────────┼─────────────────────────────────────┼─────────────────┼──────┼─────┤\n",
       "│\u001b[2m \u001b[0m\u001b[2m30  \u001b[0m\u001b[2m \u001b[0m│\u001b[2m \u001b[0m\u001b[2mThere's Something About Mary       \u001b[0m\u001b[2m \u001b[0m│\u001b[2m \u001b[0m\u001b[2m20th Century Fox                   \u001b[0m\u001b[2m \u001b[0m│\u001b[2m \u001b[0m\u001b[2m$369,884,651   \u001b[0m\u001b[2m \u001b[0m│\u001b[2m \u001b[0m\u001b[2m1998\u001b[0m\u001b[2m \u001b[0m│\u001b[2m \u001b[0m\u001b[2m   \u001b[0m\u001b[2m \u001b[0m│\n",
       "├──────┼─────────────────────────────────────┼─────────────────────────────────────┼─────────────────┼──────┼─────┤\n",
       "│\u001b[2m \u001b[0m\u001b[2m31  \u001b[0m\u001b[2m \u001b[0m│\u001b[2m \u001b[0m\u001b[2mThe Fugitive                       \u001b[0m\u001b[2m \u001b[0m│\u001b[2m \u001b[0m\u001b[2mWarner Bros.                       \u001b[0m\u001b[2m \u001b[0m│\u001b[2m \u001b[0m\u001b[2m$368,875,760   \u001b[0m\u001b[2m \u001b[0m│\u001b[2m \u001b[0m\u001b[2m1993\u001b[0m\u001b[2m \u001b[0m│\u001b[2m \u001b[0m\u001b[2m   \u001b[0m\u001b[2m \u001b[0m│\n",
       "├──────┼─────────────────────────────────────┼─────────────────────────────────────┼─────────────────┼──────┼─────┤\n",
       "│\u001b[2m \u001b[0m\u001b[2m32  \u001b[0m\u001b[2m \u001b[0m│\u001b[2m \u001b[0m\u001b[2mDie Hard with a Vengeance          \u001b[0m\u001b[2m \u001b[0m│\u001b[2m \u001b[0m\u001b[2m20th Century Fox/Cinergi Pictures  \u001b[0m\u001b[2m \u001b[0m│\u001b[2m \u001b[0m\u001b[2m$366,101,666   \u001b[0m\u001b[2m \u001b[0m│\u001b[2m \u001b[0m\u001b[2m1995\u001b[0m\u001b[2m \u001b[0m│\u001b[2m \u001b[0m\u001b[2m   \u001b[0m\u001b[2m \u001b[0m│\n",
       "├──────┼─────────────────────────────────────┼─────────────────────────────────────┼─────────────────┼──────┼─────┤\n",
       "│\u001b[2m \u001b[0m\u001b[2m33  \u001b[0m\u001b[2m \u001b[0m│\u001b[2m \u001b[0m\u001b[2mNotting Hill                       \u001b[0m\u001b[2m \u001b[0m│\u001b[2m \u001b[0m\u001b[2mPolyGram Filmed Entertainment      \u001b[0m\u001b[2m \u001b[0m│\u001b[2m \u001b[0m\u001b[2m$363,889,678   \u001b[0m\u001b[2m \u001b[0m│\u001b[2m \u001b[0m\u001b[2m1999\u001b[0m\u001b[2m \u001b[0m│\u001b[2m \u001b[0m\u001b[2m   \u001b[0m\u001b[2m \u001b[0m│\n",
       "├──────┼─────────────────────────────────────┼─────────────────────────────────────┼─────────────────┼──────┼─────┤\n",
       "│\u001b[2m \u001b[0m\u001b[2m34  \u001b[0m\u001b[2m \u001b[0m│\u001b[2m \u001b[0m\u001b[2mA Bug's Life                       \u001b[0m\u001b[2m \u001b[0m│\u001b[2m \u001b[0m\u001b[2mWalt Disney Studios                \u001b[0m\u001b[2m \u001b[0m│\u001b[2m \u001b[0m\u001b[2m$363,398,565   \u001b[0m\u001b[2m \u001b[0m│\u001b[2m \u001b[0m\u001b[2m1998\u001b[0m\u001b[2m \u001b[0m│\u001b[2m \u001b[0m\u001b[2m   \u001b[0m\u001b[2m \u001b[0m│\n",
       "├──────┼─────────────────────────────────────┼─────────────────────────────────────┼─────────────────┼──────┼─────┤\n",
       "│\u001b[2m \u001b[0m\u001b[2m35  \u001b[0m\u001b[2m \u001b[0m│\u001b[2m \u001b[0m\u001b[2mThe World Is Not Enough            \u001b[0m\u001b[2m \u001b[0m│\u001b[2m \u001b[0m\u001b[2mMetro-Goldwyn-Mayer Pictures       \u001b[0m\u001b[2m \u001b[0m│\u001b[2m \u001b[0m\u001b[2m$361,832,400   \u001b[0m\u001b[2m \u001b[0m│\u001b[2m \u001b[0m\u001b[2m1999\u001b[0m\u001b[2m \u001b[0m│\u001b[2m \u001b[0m\u001b[2m   \u001b[0m\u001b[2m \u001b[0m│\n",
       "├──────┼─────────────────────────────────────┼─────────────────────────────────────┼─────────────────┼──────┼─────┤\n",
       "│\u001b[2m \u001b[0m\u001b[2m36  \u001b[0m\u001b[2m \u001b[0m│\u001b[2m \u001b[0m\u001b[2mHome Alone 2: Lost in New York     \u001b[0m\u001b[2m \u001b[0m│\u001b[2m \u001b[0m\u001b[2m20th Century Fox                   \u001b[0m\u001b[2m \u001b[0m│\u001b[2m \u001b[0m\u001b[2m$358,994,850   \u001b[0m\u001b[2m \u001b[0m│\u001b[2m \u001b[0m\u001b[2m1992\u001b[0m\u001b[2m \u001b[0m│\u001b[2m \u001b[0m\u001b[2m   \u001b[0m\u001b[2m \u001b[0m│\n",
       "├──────┼─────────────────────────────────────┼─────────────────────────────────────┼─────────────────┼──────┼─────┤\n",
       "│\u001b[2m \u001b[0m\u001b[2m37  \u001b[0m\u001b[2m \u001b[0m│\u001b[2m \u001b[0m\u001b[2mAmerican Beauty                    \u001b[0m\u001b[2m \u001b[0m│\u001b[2m \u001b[0m\u001b[2mDreamWorks Pictures                \u001b[0m\u001b[2m \u001b[0m│\u001b[2m \u001b[0m\u001b[2m$356,296,601   \u001b[0m\u001b[2m \u001b[0m│\u001b[2m \u001b[0m\u001b[2m1999\u001b[0m\u001b[2m \u001b[0m│\u001b[2m \u001b[0m\u001b[2m   \u001b[0m\u001b[2m \u001b[0m│\n",
       "├──────┼─────────────────────────────────────┼─────────────────────────────────────┼─────────────────┼──────┼─────┤\n",
       "│\u001b[2m \u001b[0m\u001b[2m38  \u001b[0m\u001b[2m \u001b[0m│\u001b[2m \u001b[0m\u001b[2mApollo 13                          \u001b[0m\u001b[2m \u001b[0m│\u001b[2m \u001b[0m\u001b[2mUniversal Pictures/Imagine         \u001b[0m\u001b[2m \u001b[0m│\u001b[2m \u001b[0m\u001b[2m$355,237,933   \u001b[0m\u001b[2m \u001b[0m│\u001b[2m \u001b[0m\u001b[2m1995\u001b[0m\u001b[2m \u001b[0m│\u001b[2m \u001b[0m\u001b[2m   \u001b[0m\u001b[2m \u001b[0m│\n",
       "│\u001b[2m      \u001b[0m│\u001b[2m                                     \u001b[0m│\u001b[2m \u001b[0m\u001b[2mEntertainment                      \u001b[0m\u001b[2m \u001b[0m│\u001b[2m                 \u001b[0m│\u001b[2m      \u001b[0m│\u001b[2m     \u001b[0m│\n",
       "├──────┼─────────────────────────────────────┼─────────────────────────────────────┼─────────────────┼──────┼─────┤\n",
       "│\u001b[2m \u001b[0m\u001b[2m39  \u001b[0m\u001b[2m \u001b[0m│\u001b[2m \u001b[0m\u001b[2mBasic Instinct                     \u001b[0m\u001b[2m \u001b[0m│\u001b[2m \u001b[0m\u001b[2mTriStar Pictures                   \u001b[0m\u001b[2m \u001b[0m│\u001b[2m \u001b[0m\u001b[2m$352,927,224   \u001b[0m\u001b[2m \u001b[0m│\u001b[2m \u001b[0m\u001b[2m1992\u001b[0m\u001b[2m \u001b[0m│\u001b[2m \u001b[0m\u001b[2m   \u001b[0m\u001b[2m \u001b[0m│\n",
       "├──────┼─────────────────────────────────────┼─────────────────────────────────────┼─────────────────┼──────┼─────┤\n",
       "│\u001b[2m \u001b[0m\u001b[2m40  \u001b[0m\u001b[2m \u001b[0m│\u001b[2m \u001b[0m\u001b[2mGoldenEye                          \u001b[0m\u001b[2m \u001b[0m│\u001b[2m \u001b[0m\u001b[2mMGM/United Artists                 \u001b[0m\u001b[2m \u001b[0m│\u001b[2m \u001b[0m\u001b[2m$352,194,034   \u001b[0m\u001b[2m \u001b[0m│\u001b[2m \u001b[0m\u001b[2m1995\u001b[0m\u001b[2m \u001b[0m│\u001b[2m \u001b[0m\u001b[2m   \u001b[0m\u001b[2m \u001b[0m│\n",
       "├──────┼─────────────────────────────────────┼─────────────────────────────────────┼─────────────────┼──────┼─────┤\n",
       "│\u001b[2m \u001b[0m\u001b[2m41  \u001b[0m\u001b[2m \u001b[0m│\u001b[2m \u001b[0m\u001b[2mThe Mask                           \u001b[0m\u001b[2m \u001b[0m│\u001b[2m \u001b[0m\u001b[2mNew Line Cinema                    \u001b[0m\u001b[2m \u001b[0m│\u001b[2m \u001b[0m\u001b[2m$351,583,407   \u001b[0m\u001b[2m \u001b[0m│\u001b[2m \u001b[0m\u001b[2m1994\u001b[0m\u001b[2m \u001b[0m│\u001b[2m \u001b[0m\u001b[2m   \u001b[0m\u001b[2m \u001b[0m│\n",
       "├──────┼─────────────────────────────────────┼─────────────────────────────────────┼─────────────────┼──────┼─────┤\n",
       "│\u001b[2m \u001b[0m\u001b[2m42  \u001b[0m\u001b[2m \u001b[0m│\u001b[2m \u001b[0m\u001b[2mSpeed                              \u001b[0m\u001b[2m \u001b[0m│\u001b[2m \u001b[0m\u001b[2m20th Century Fox                   \u001b[0m\u001b[2m \u001b[0m│\u001b[2m \u001b[0m\u001b[2m$350,448,145   \u001b[0m\u001b[2m \u001b[0m│\u001b[2m \u001b[0m\u001b[2m1994\u001b[0m\u001b[2m \u001b[0m│\u001b[2m \u001b[0m\u001b[2m   \u001b[0m\u001b[2m \u001b[0m│\n",
       "├──────┼─────────────────────────────────────┼─────────────────────────────────────┼─────────────────┼──────┼─────┤\n",
       "│\u001b[2m \u001b[0m\u001b[2m43  \u001b[0m\u001b[2m \u001b[0m│\u001b[2m \u001b[0m\u001b[2mDeep Impact                        \u001b[0m\u001b[2m \u001b[0m│\u001b[2m \u001b[0m\u001b[2mParamount Pictures/DreamWorks      \u001b[0m\u001b[2m \u001b[0m│\u001b[2m \u001b[0m\u001b[2m$349,464,664   \u001b[0m\u001b[2m \u001b[0m│\u001b[2m \u001b[0m\u001b[2m1998\u001b[0m\u001b[2m \u001b[0m│\u001b[2m \u001b[0m\u001b[2m   \u001b[0m\u001b[2m \u001b[0m│\n",
       "│\u001b[2m      \u001b[0m│\u001b[2m                                     \u001b[0m│\u001b[2m \u001b[0m\u001b[2mPictures                           \u001b[0m\u001b[2m \u001b[0m│\u001b[2m                 \u001b[0m│\u001b[2m      \u001b[0m│\u001b[2m     \u001b[0m│\n",
       "├──────┼─────────────────────────────────────┼─────────────────────────────────────┼─────────────────┼──────┼─────┤\n",
       "│\u001b[2m \u001b[0m\u001b[2m44  \u001b[0m\u001b[2m \u001b[0m│\u001b[2m \u001b[0m\u001b[2mBeauty and the Beast               \u001b[0m\u001b[2m \u001b[0m│\u001b[2m \u001b[0m\u001b[2mWalt Disney Studios                \u001b[0m\u001b[2m \u001b[0m│\u001b[2m \u001b[0m\u001b[2m$346,317,207   \u001b[0m\u001b[2m \u001b[0m│\u001b[2m \u001b[0m\u001b[2m1991\u001b[0m\u001b[2m \u001b[0m│\u001b[2m \u001b[0m\u001b[2m   \u001b[0m\u001b[2m \u001b[0m│\n",
       "├──────┼─────────────────────────────────────┼─────────────────────────────────────┼─────────────────┼──────┼─────┤\n",
       "│\u001b[2m \u001b[0m\u001b[2m45  \u001b[0m\u001b[2m \u001b[0m│\u001b[2m \u001b[0m\u001b[2mPocahontas                         \u001b[0m\u001b[2m \u001b[0m│\u001b[2m \u001b[0m\u001b[2mWalt Disney Studios                \u001b[0m\u001b[2m \u001b[0m│\u001b[2m \u001b[0m\u001b[2m$346,079,773   \u001b[0m\u001b[2m \u001b[0m│\u001b[2m \u001b[0m\u001b[2m1995\u001b[0m\u001b[2m \u001b[0m│\u001b[2m \u001b[0m\u001b[2m   \u001b[0m\u001b[2m \u001b[0m│\n",
       "├──────┼─────────────────────────────────────┼─────────────────────────────────────┼─────────────────┼──────┼─────┤\n",
       "│\u001b[2m \u001b[0m\u001b[2m46  \u001b[0m\u001b[2m \u001b[0m│\u001b[2m \u001b[0m\u001b[2mThe Flintstones                    \u001b[0m\u001b[2m \u001b[0m│\u001b[2m \u001b[0m\u001b[2mUniversal Pictures                 \u001b[0m\u001b[2m \u001b[0m│\u001b[2m \u001b[0m\u001b[2m$341,631,208   \u001b[0m\u001b[2m \u001b[0m│\u001b[2m \u001b[0m\u001b[2m1994\u001b[0m\u001b[2m \u001b[0m│\u001b[2m \u001b[0m\u001b[2m   \u001b[0m\u001b[2m \u001b[0m│\n",
       "├──────┼─────────────────────────────────────┼─────────────────────────────────────┼─────────────────┼──────┼─────┤\n",
       "│\u001b[2m \u001b[0m\u001b[2m47  \u001b[0m\u001b[2m \u001b[0m│\u001b[2m \u001b[0m\u001b[2mBatman Forever                     \u001b[0m\u001b[2m \u001b[0m│\u001b[2m \u001b[0m\u001b[2mWarner Bros.                       \u001b[0m\u001b[2m \u001b[0m│\u001b[2m \u001b[0m\u001b[2m$336,529,144   \u001b[0m\u001b[2m \u001b[0m│\u001b[2m \u001b[0m\u001b[2m1995\u001b[0m\u001b[2m \u001b[0m│\u001b[2m \u001b[0m\u001b[2m   \u001b[0m\u001b[2m \u001b[0m│\n",
       "├──────┼─────────────────────────────────────┼─────────────────────────────────────┼─────────────────┼──────┼─────┤\n",
       "│\u001b[2m \u001b[0m\u001b[2m48  \u001b[0m\u001b[2m \u001b[0m│\u001b[2m \u001b[0m\u001b[2mThe Rock                           \u001b[0m\u001b[2m \u001b[0m│\u001b[2m \u001b[0m\u001b[2mWalt Disney Studios                \u001b[0m\u001b[2m \u001b[0m│\u001b[2m \u001b[0m\u001b[2m$335,062,621   \u001b[0m\u001b[2m \u001b[0m│\u001b[2m \u001b[0m\u001b[2m1996\u001b[0m\u001b[2m \u001b[0m│\u001b[2m \u001b[0m\u001b[2m   \u001b[0m\u001b[2m \u001b[0m│\n",
       "├──────┼─────────────────────────────────────┼─────────────────────────────────────┼─────────────────┼──────┼─────┤\n",
       "│\u001b[2m \u001b[0m\u001b[2m49  \u001b[0m\u001b[2m \u001b[0m│\u001b[2m \u001b[0m\u001b[2mTomorrow Never Dies                \u001b[0m\u001b[2m \u001b[0m│\u001b[2m \u001b[0m\u001b[2mMGM/United Artists                 \u001b[0m\u001b[2m \u001b[0m│\u001b[2m \u001b[0m\u001b[2m$333,011,068   \u001b[0m\u001b[2m \u001b[0m│\u001b[2m \u001b[0m\u001b[2m1997\u001b[0m\u001b[2m \u001b[0m│\u001b[2m \u001b[0m\u001b[2m   \u001b[0m\u001b[2m \u001b[0m│\n",
       "├──────┼─────────────────────────────────────┼─────────────────────────────────────┼─────────────────┼──────┼─────┤\n",
       "│\u001b[2m \u001b[0m\u001b[2m50  \u001b[0m\u001b[2m \u001b[0m│\u001b[2m \u001b[0m\u001b[2mSeven                              \u001b[0m\u001b[2m \u001b[0m│\u001b[2m \u001b[0m\u001b[2mNew Line Cinema                    \u001b[0m\u001b[2m \u001b[0m│\u001b[2m \u001b[0m\u001b[2m$327,311,859   \u001b[0m\u001b[2m \u001b[0m│\u001b[2m \u001b[0m\u001b[2m1995\u001b[0m\u001b[2m \u001b[0m│\u001b[2m \u001b[0m\u001b[2m   \u001b[0m\u001b[2m \u001b[0m│\n",
       "└──────┴─────────────────────────────────────┴─────────────────────────────────────┴─────────────────┴──────┴─────┘\n"
      ]
     },
     "metadata": {},
     "output_type": "display_data"
    }
   ],
   "source": [
    "scenarios.print(format=\"rich\")"
   ]
  },
  {
   "cell_type": "code",
   "execution_count": 4,
   "id": "35f96e50-0cfd-4adc-82c0-41977fac6b5c",
   "metadata": {},
   "outputs": [
    {
     "data": {
      "text/plain": [
       "{'Rank', 'Ref.', 'Studios', 'Title', 'Worldwide gross', 'Year'}"
      ]
     },
     "execution_count": 4,
     "metadata": {},
     "output_type": "execute_result"
    }
   ],
   "source": [
    "scenarios.parameters"
   ]
  },
  {
   "cell_type": "code",
   "execution_count": 5,
   "id": "b7955b4c-2e9b-4548-9427-c6be13eb111e",
   "metadata": {},
   "outputs": [
    {
     "data": {
      "text/html": [
       "<pre style=\"white-space:pre;overflow-x:auto;line-height:normal;font-family:Menlo,'DejaVu Sans Mono',consolas,'Courier New',monospace\">┏━━━━━━━━━━━━━━━━━━━━━━━━━━━━━━━━━━━━━━━━━━━┳━━━━━━━━━━━━━━━━━━━━━━━━━━━━━━━━━━━━━━━━━━━━━━━━━━━━━━━━━━━━━━━━━━━━━┓\n",
       "┃<span style=\"color: #800080; text-decoration-color: #800080; font-weight: bold\"> scenario                                  </span>┃<span style=\"color: #800080; text-decoration-color: #800080; font-weight: bold\"> answer                                                              </span>┃\n",
       "┃<span style=\"color: #800080; text-decoration-color: #800080; font-weight: bold\"> .Title                                    </span>┃<span style=\"color: #800080; text-decoration-color: #800080; font-weight: bold\"> .leads                                                              </span>┃\n",
       "┡━━━━━━━━━━━━━━━━━━━━━━━━━━━━━━━━━━━━━━━━━━━╇━━━━━━━━━━━━━━━━━━━━━━━━━━━━━━━━━━━━━━━━━━━━━━━━━━━━━━━━━━━━━━━━━━━━━┩\n",
       "│<span style=\"color: #7f7f7f; text-decoration-color: #7f7f7f\"> A Bug's Life                              </span>│<span style=\"color: #7f7f7f; text-decoration-color: #7f7f7f\"> ['Dave Foley', 'Kevin Spacey', 'Julia Louis-Dreyfus', 'Hayden       </span>│\n",
       "│<span style=\"color: #7f7f7f; text-decoration-color: #7f7f7f\">                                           </span>│<span style=\"color: #7f7f7f; text-decoration-color: #7f7f7f\"> Panettiere', 'Phyllis Diller', 'Richard Kind', 'David Hyde Pierce'] </span>│\n",
       "├───────────────────────────────────────────┼─────────────────────────────────────────────────────────────────────┤\n",
       "│<span style=\"color: #7f7f7f; text-decoration-color: #7f7f7f\"> Aladdin                                   </span>│<span style=\"color: #7f7f7f; text-decoration-color: #7f7f7f\"> ['Mena Massoud', 'Naomi Scott', 'Will Smith']                       </span>│\n",
       "├───────────────────────────────────────────┼─────────────────────────────────────────────────────────────────────┤\n",
       "│<span style=\"color: #7f7f7f; text-decoration-color: #7f7f7f\"> American Beauty                           </span>│<span style=\"color: #7f7f7f; text-decoration-color: #7f7f7f\"> ['Kevin Spacey', 'Annette Bening', 'Thora Birch', 'Mena Suvari',    </span>│\n",
       "│<span style=\"color: #7f7f7f; text-decoration-color: #7f7f7f\">                                           </span>│<span style=\"color: #7f7f7f; text-decoration-color: #7f7f7f\"> 'Wes Bentley', 'Chris Cooper']                                      </span>│\n",
       "├───────────────────────────────────────────┼─────────────────────────────────────────────────────────────────────┤\n",
       "│<span style=\"color: #7f7f7f; text-decoration-color: #7f7f7f\"> Apollo 13                                 </span>│<span style=\"color: #7f7f7f; text-decoration-color: #7f7f7f\"> ['Tom Hanks', 'Kevin Bacon', 'Bill Paxton']                         </span>│\n",
       "├───────────────────────────────────────────┼─────────────────────────────────────────────────────────────────────┤\n",
       "│<span style=\"color: #7f7f7f; text-decoration-color: #7f7f7f\"> Armageddon                                </span>│<span style=\"color: #7f7f7f; text-decoration-color: #7f7f7f\"> ['Bruce Willis', 'Billy Bob Thornton', 'Liv Tyler', 'Ben Affleck']  </span>│\n",
       "├───────────────────────────────────────────┼─────────────────────────────────────────────────────────────────────┤\n",
       "│<span style=\"color: #7f7f7f; text-decoration-color: #7f7f7f\"> Basic Instinct                            </span>│<span style=\"color: #7f7f7f; text-decoration-color: #7f7f7f\"> ['Michael Douglas', 'Sharon Stone']                                 </span>│\n",
       "├───────────────────────────────────────────┼─────────────────────────────────────────────────────────────────────┤\n",
       "│<span style=\"color: #7f7f7f; text-decoration-color: #7f7f7f\"> Batman Forever                            </span>│<span style=\"color: #7f7f7f; text-decoration-color: #7f7f7f\"> ['Val Kilmer', 'Tommy Lee Jones', 'Jim Carrey', 'Nicole Kidman',    </span>│\n",
       "│<span style=\"color: #7f7f7f; text-decoration-color: #7f7f7f\">                                           </span>│<span style=\"color: #7f7f7f; text-decoration-color: #7f7f7f\"> \"Chris O'Donnell\"]                                                  </span>│\n",
       "├───────────────────────────────────────────┼─────────────────────────────────────────────────────────────────────┤\n",
       "│<span style=\"color: #7f7f7f; text-decoration-color: #7f7f7f\"> Beauty and the Beast                      </span>│<span style=\"color: #7f7f7f; text-decoration-color: #7f7f7f\"> ['Emma Watson', 'Dan Stevens', 'Luke Evans', 'Kevin Kline', 'Josh   </span>│\n",
       "│<span style=\"color: #7f7f7f; text-decoration-color: #7f7f7f\">                                           </span>│<span style=\"color: #7f7f7f; text-decoration-color: #7f7f7f\"> Gad']                                                               </span>│\n",
       "├───────────────────────────────────────────┼─────────────────────────────────────────────────────────────────────┤\n",
       "│<span style=\"color: #7f7f7f; text-decoration-color: #7f7f7f\"> Dances with Wolves                        </span>│<span style=\"color: #7f7f7f; text-decoration-color: #7f7f7f\"> ['Kevin Costner', 'Mary McDonnell', 'Graham Greene', 'Rodney A.     </span>│\n",
       "│<span style=\"color: #7f7f7f; text-decoration-color: #7f7f7f\">                                           </span>│<span style=\"color: #7f7f7f; text-decoration-color: #7f7f7f\"> Grant']                                                             </span>│\n",
       "├───────────────────────────────────────────┼─────────────────────────────────────────────────────────────────────┤\n",
       "│<span style=\"color: #7f7f7f; text-decoration-color: #7f7f7f\"> Deep Impact                               </span>│<span style=\"color: #7f7f7f; text-decoration-color: #7f7f7f\"> ['Téa Leoni', 'Morgan Freeman', 'Elijah Wood', 'Robert Duvall']     </span>│\n",
       "├───────────────────────────────────────────┼─────────────────────────────────────────────────────────────────────┤\n",
       "│<span style=\"color: #7f7f7f; text-decoration-color: #7f7f7f\"> Die Hard with a Vengeance                 </span>│<span style=\"color: #7f7f7f; text-decoration-color: #7f7f7f\"> ['Bruce Willis', 'Samuel L. Jackson', 'Jeremy Irons']               </span>│\n",
       "├───────────────────────────────────────────┼─────────────────────────────────────────────────────────────────────┤\n",
       "│<span style=\"color: #7f7f7f; text-decoration-color: #7f7f7f\"> Forrest Gump                              </span>│<span style=\"color: #7f7f7f; text-decoration-color: #7f7f7f\"> ['Tom Hanks', 'Robin Wright', 'Gary Sinise', 'Mykelti Williamson',  </span>│\n",
       "│<span style=\"color: #7f7f7f; text-decoration-color: #7f7f7f\">                                           </span>│<span style=\"color: #7f7f7f; text-decoration-color: #7f7f7f\"> 'Sally Field']                                                      </span>│\n",
       "├───────────────────────────────────────────┼─────────────────────────────────────────────────────────────────────┤\n",
       "│<span style=\"color: #7f7f7f; text-decoration-color: #7f7f7f\"> Ghost                                     </span>│<span style=\"color: #7f7f7f; text-decoration-color: #7f7f7f\"> ['Patrick Swayze', 'Demi Moore', 'Whoopi Goldberg']                 </span>│\n",
       "├───────────────────────────────────────────┼─────────────────────────────────────────────────────────────────────┤\n",
       "│<span style=\"color: #7f7f7f; text-decoration-color: #7f7f7f\"> Godzilla                                  </span>│<span style=\"color: #7f7f7f; text-decoration-color: #7f7f7f\"> ['Matthew Broderick', 'Jean Reno', 'Bryan Cranston', 'Aaron         </span>│\n",
       "│<span style=\"color: #7f7f7f; text-decoration-color: #7f7f7f\">                                           </span>│<span style=\"color: #7f7f7f; text-decoration-color: #7f7f7f\"> Taylor-Johnson', 'Elizabeth Olsen', 'Kyle Chandler', 'Vera          </span>│\n",
       "│<span style=\"color: #7f7f7f; text-decoration-color: #7f7f7f\">                                           </span>│<span style=\"color: #7f7f7f; text-decoration-color: #7f7f7f\"> Farmiga', 'Millie Bobby Brown']                                     </span>│\n",
       "├───────────────────────────────────────────┼─────────────────────────────────────────────────────────────────────┤\n",
       "│<span style=\"color: #7f7f7f; text-decoration-color: #7f7f7f\"> GoldenEye                                 </span>│<span style=\"color: #7f7f7f; text-decoration-color: #7f7f7f\"> ['Pierce Brosnan', 'Sean Bean', 'Izabella Scorupco', 'Famke         </span>│\n",
       "│<span style=\"color: #7f7f7f; text-decoration-color: #7f7f7f\">                                           </span>│<span style=\"color: #7f7f7f; text-decoration-color: #7f7f7f\"> Janssen']                                                           </span>│\n",
       "├───────────────────────────────────────────┼─────────────────────────────────────────────────────────────────────┤\n",
       "│<span style=\"color: #7f7f7f; text-decoration-color: #7f7f7f\"> Home Alone                                </span>│<span style=\"color: #7f7f7f; text-decoration-color: #7f7f7f\"> ['Macaulay Culkin', 'Joe Pesci', 'Daniel Stern', \"Catherine         </span>│\n",
       "│<span style=\"color: #7f7f7f; text-decoration-color: #7f7f7f\">                                           </span>│<span style=\"color: #7f7f7f; text-decoration-color: #7f7f7f\"> O'Hara\", 'John Heard']                                              </span>│\n",
       "├───────────────────────────────────────────┼─────────────────────────────────────────────────────────────────────┤\n",
       "│<span style=\"color: #7f7f7f; text-decoration-color: #7f7f7f\"> Home Alone 2: Lost in New York            </span>│<span style=\"color: #7f7f7f; text-decoration-color: #7f7f7f\"> ['Macaulay Culkin', 'Joe Pesci', 'Daniel Stern', \"Catherine         </span>│\n",
       "│<span style=\"color: #7f7f7f; text-decoration-color: #7f7f7f\">                                           </span>│<span style=\"color: #7f7f7f; text-decoration-color: #7f7f7f\"> O'Hara\", 'John Heard']                                              </span>│\n",
       "├───────────────────────────────────────────┼─────────────────────────────────────────────────────────────────────┤\n",
       "│<span style=\"color: #7f7f7f; text-decoration-color: #7f7f7f\"> Independence Day                          </span>│<span style=\"color: #7f7f7f; text-decoration-color: #7f7f7f\"> ['Will Smith', 'Bill Pullman', 'Jeff Goldblum']                     </span>│\n",
       "├───────────────────────────────────────────┼─────────────────────────────────────────────────────────────────────┤\n",
       "│<span style=\"color: #7f7f7f; text-decoration-color: #7f7f7f\"> Jurassic Park                             </span>│<span style=\"color: #7f7f7f; text-decoration-color: #7f7f7f\"> ['Sam Neill', 'Laura Dern', 'Jeff Goldblum', 'Richard               </span>│\n",
       "│<span style=\"color: #7f7f7f; text-decoration-color: #7f7f7f\">                                           </span>│<span style=\"color: #7f7f7f; text-decoration-color: #7f7f7f\"> Attenborough']                                                      </span>│\n",
       "├───────────────────────────────────────────┼─────────────────────────────────────────────────────────────────────┤\n",
       "│<span style=\"color: #7f7f7f; text-decoration-color: #7f7f7f\"> Men in Black                              </span>│<span style=\"color: #7f7f7f; text-decoration-color: #7f7f7f\"> ['Tommy Lee Jones', 'Will Smith']                                   </span>│\n",
       "├───────────────────────────────────────────┼─────────────────────────────────────────────────────────────────────┤\n",
       "│<span style=\"color: #7f7f7f; text-decoration-color: #7f7f7f\"> Mission: Impossible                       </span>│<span style=\"color: #7f7f7f; text-decoration-color: #7f7f7f\"> ['Tom Cruise', 'Ving Rhames', 'Simon Pegg', 'Rebecca Ferguson',     </span>│\n",
       "│<span style=\"color: #7f7f7f; text-decoration-color: #7f7f7f\">                                           </span>│<span style=\"color: #7f7f7f; text-decoration-color: #7f7f7f\"> 'Jeremy Renner']                                                    </span>│\n",
       "├───────────────────────────────────────────┼─────────────────────────────────────────────────────────────────────┤\n",
       "│<span style=\"color: #7f7f7f; text-decoration-color: #7f7f7f\"> Mrs. Doubtfire                            </span>│<span style=\"color: #7f7f7f; text-decoration-color: #7f7f7f\"> ['Robin Williams', 'Sally Field', 'Pierce Brosnan', 'Lisa Jakub',   </span>│\n",
       "│<span style=\"color: #7f7f7f; text-decoration-color: #7f7f7f\">                                           </span>│<span style=\"color: #7f7f7f; text-decoration-color: #7f7f7f\"> 'Matthew Lawrence', 'Mara Wilson']                                  </span>│\n",
       "├───────────────────────────────────────────┼─────────────────────────────────────────────────────────────────────┤\n",
       "│<span style=\"color: #7f7f7f; text-decoration-color: #7f7f7f\"> Notting Hill                              </span>│<span style=\"color: #7f7f7f; text-decoration-color: #7f7f7f\"> ['Julia Roberts', 'Hugh Grant']                                     </span>│\n",
       "├───────────────────────────────────────────┼─────────────────────────────────────────────────────────────────────┤\n",
       "│<span style=\"color: #7f7f7f; text-decoration-color: #7f7f7f\"> Pocahontas                                </span>│<span style=\"color: #7f7f7f; text-decoration-color: #7f7f7f\"> ['Irene Bedard', 'Mel Gibson', 'Judy Kuhn', 'David Ogden Stiers',   </span>│\n",
       "│<span style=\"color: #7f7f7f; text-decoration-color: #7f7f7f\">                                           </span>│<span style=\"color: #7f7f7f; text-decoration-color: #7f7f7f\"> 'Russell Means', 'Christian Bale']                                  </span>│\n",
       "├───────────────────────────────────────────┼─────────────────────────────────────────────────────────────────────┤\n",
       "│<span style=\"color: #7f7f7f; text-decoration-color: #7f7f7f\"> Pretty Woman                              </span>│<span style=\"color: #7f7f7f; text-decoration-color: #7f7f7f\"> ['Richard Gere', 'Julia Roberts']                                   </span>│\n",
       "├───────────────────────────────────────────┼─────────────────────────────────────────────────────────────────────┤\n",
       "│<span style=\"color: #7f7f7f; text-decoration-color: #7f7f7f\"> Robin Hood: Prince of Thieves             </span>│<span style=\"color: #7f7f7f; text-decoration-color: #7f7f7f\"> ['Kevin Costner', 'Morgan Freeman', 'Mary Elizabeth Mastrantonio',  </span>│\n",
       "│<span style=\"color: #7f7f7f; text-decoration-color: #7f7f7f\">                                           </span>│<span style=\"color: #7f7f7f; text-decoration-color: #7f7f7f\"> 'Christian Slater', 'Alan Rickman']                                 </span>│\n",
       "├───────────────────────────────────────────┼─────────────────────────────────────────────────────────────────────┤\n",
       "│<span style=\"color: #7f7f7f; text-decoration-color: #7f7f7f\"> Saving Private Ryan                       </span>│<span style=\"color: #7f7f7f; text-decoration-color: #7f7f7f\"> ['Tom Hanks', 'Matt Damon', 'Tom Sizemore', 'Edward Burns', 'Barry  </span>│\n",
       "│<span style=\"color: #7f7f7f; text-decoration-color: #7f7f7f\">                                           </span>│<span style=\"color: #7f7f7f; text-decoration-color: #7f7f7f\"> Pepper', 'Adam Goldberg', 'Vin Diesel', 'Giovanni Ribisi', 'Jeremy  </span>│\n",
       "│<span style=\"color: #7f7f7f; text-decoration-color: #7f7f7f\">                                           </span>│<span style=\"color: #7f7f7f; text-decoration-color: #7f7f7f\"> Davies']                                                            </span>│\n",
       "├───────────────────────────────────────────┼─────────────────────────────────────────────────────────────────────┤\n",
       "│<span style=\"color: #7f7f7f; text-decoration-color: #7f7f7f\"> Seven                                     </span>│<span style=\"color: #7f7f7f; text-decoration-color: #7f7f7f\"> ['Brad Pitt', 'Morgan Freeman', 'Gwyneth Paltrow']                  </span>│\n",
       "├───────────────────────────────────────────┼─────────────────────────────────────────────────────────────────────┤\n",
       "│<span style=\"color: #7f7f7f; text-decoration-color: #7f7f7f\"> Speed                                     </span>│<span style=\"color: #7f7f7f; text-decoration-color: #7f7f7f\"> ['Keanu Reeves', 'Sandra Bullock', 'Dennis Hopper']                 </span>│\n",
       "├───────────────────────────────────────────┼─────────────────────────────────────────────────────────────────────┤\n",
       "│<span style=\"color: #7f7f7f; text-decoration-color: #7f7f7f\"> Star Wars: Episode I – The Phantom Menace </span>│<span style=\"color: #7f7f7f; text-decoration-color: #7f7f7f\"> ['Liam Neeson', 'Ewan McGregor', 'Natalie Portman', 'Jake Lloyd']   </span>│\n",
       "├───────────────────────────────────────────┼─────────────────────────────────────────────────────────────────────┤\n",
       "│<span style=\"color: #7f7f7f; text-decoration-color: #7f7f7f\"> Tarzan                                    </span>│<span style=\"color: #7f7f7f; text-decoration-color: #7f7f7f\"> ['Johnny Weissmuller', \"Maureen O'Sullivan\"]                        </span>│\n",
       "├───────────────────────────────────────────┼─────────────────────────────────────────────────────────────────────┤\n",
       "│<span style=\"color: #7f7f7f; text-decoration-color: #7f7f7f\"> Terminator 2: Judgment Day                </span>│<span style=\"color: #7f7f7f; text-decoration-color: #7f7f7f\"> ['Arnold Schwarzenegger', 'Linda Hamilton', 'Edward Furlong',       </span>│\n",
       "│<span style=\"color: #7f7f7f; text-decoration-color: #7f7f7f\">                                           </span>│<span style=\"color: #7f7f7f; text-decoration-color: #7f7f7f\"> 'Robert Patrick']                                                   </span>│\n",
       "├───────────────────────────────────────────┼─────────────────────────────────────────────────────────────────────┤\n",
       "│<span style=\"color: #7f7f7f; text-decoration-color: #7f7f7f\"> The Bodyguard                             </span>│<span style=\"color: #7f7f7f; text-decoration-color: #7f7f7f\"> ['Kevin Costner', 'Whitney Houston']                                </span>│\n",
       "├───────────────────────────────────────────┼─────────────────────────────────────────────────────────────────────┤\n",
       "│<span style=\"color: #7f7f7f; text-decoration-color: #7f7f7f\"> The Flintstones                           </span>│<span style=\"color: #7f7f7f; text-decoration-color: #7f7f7f\"> ['John Goodman', 'Elizabeth Perkins', 'Rick Moranis', \"Rosie        </span>│\n",
       "│<span style=\"color: #7f7f7f; text-decoration-color: #7f7f7f\">                                           </span>│<span style=\"color: #7f7f7f; text-decoration-color: #7f7f7f\"> O'Donnell\"]                                                         </span>│\n",
       "├───────────────────────────────────────────┼─────────────────────────────────────────────────────────────────────┤\n",
       "│<span style=\"color: #7f7f7f; text-decoration-color: #7f7f7f\"> The Fugitive                              </span>│<span style=\"color: #7f7f7f; text-decoration-color: #7f7f7f\"> ['Harrison Ford', 'Tommy Lee Jones']                                </span>│\n",
       "├───────────────────────────────────────────┼─────────────────────────────────────────────────────────────────────┤\n",
       "│<span style=\"color: #7f7f7f; text-decoration-color: #7f7f7f\"> The Lion King                             </span>│<span style=\"color: #7f7f7f; text-decoration-color: #7f7f7f\"> ['Matthew Broderick', 'James Earl Jones', 'Jeremy Irons', 'Moira    </span>│\n",
       "│<span style=\"color: #7f7f7f; text-decoration-color: #7f7f7f\">                                           </span>│<span style=\"color: #7f7f7f; text-decoration-color: #7f7f7f\"> Kelly', 'Nathan Lane', 'Ernie Sabella', 'Rowan Atkinson', 'Whoopi   </span>│\n",
       "│<span style=\"color: #7f7f7f; text-decoration-color: #7f7f7f\">                                           </span>│<span style=\"color: #7f7f7f; text-decoration-color: #7f7f7f\"> Goldberg']                                                          </span>│\n",
       "├───────────────────────────────────────────┼─────────────────────────────────────────────────────────────────────┤\n",
       "│<span style=\"color: #7f7f7f; text-decoration-color: #7f7f7f\"> The Lost World: Jurassic Park             </span>│<span style=\"color: #7f7f7f; text-decoration-color: #7f7f7f\"> ['Jeff Goldblum', 'Julianne Moore', 'Pete Postlethwaite']           </span>│\n",
       "├───────────────────────────────────────────┼─────────────────────────────────────────────────────────────────────┤\n",
       "│<span style=\"color: #7f7f7f; text-decoration-color: #7f7f7f\"> The Mask                                  </span>│<span style=\"color: #7f7f7f; text-decoration-color: #7f7f7f\"> ['Jim Carrey', 'Cameron Diaz']                                      </span>│\n",
       "├───────────────────────────────────────────┼─────────────────────────────────────────────────────────────────────┤\n",
       "│<span style=\"color: #7f7f7f; text-decoration-color: #7f7f7f\"> The Matrix                                </span>│<span style=\"color: #7f7f7f; text-decoration-color: #7f7f7f\"> ['Keanu Reeves', 'Laurence Fishburne', 'Carrie-Anne Moss']          </span>│\n",
       "├───────────────────────────────────────────┼─────────────────────────────────────────────────────────────────────┤\n",
       "│<span style=\"color: #7f7f7f; text-decoration-color: #7f7f7f\"> The Mummy                                 </span>│<span style=\"color: #7f7f7f; text-decoration-color: #7f7f7f\"> ['Brendan Fraser', 'Rachel Weisz', 'John Hannah', 'Arnold Vosloo']  </span>│\n",
       "├───────────────────────────────────────────┼─────────────────────────────────────────────────────────────────────┤\n",
       "│<span style=\"color: #7f7f7f; text-decoration-color: #7f7f7f\"> The Rock                                  </span>│<span style=\"color: #7f7f7f; text-decoration-color: #7f7f7f\"> ['Sean Connery', 'Nicolas Cage', 'Ed Harris']                       </span>│\n",
       "├───────────────────────────────────────────┼─────────────────────────────────────────────────────────────────────┤\n",
       "│<span style=\"color: #7f7f7f; text-decoration-color: #7f7f7f\"> The Sixth Sense                           </span>│<span style=\"color: #7f7f7f; text-decoration-color: #7f7f7f\"> ['Bruce Willis', 'Haley Joel Osment', 'Toni Collette', 'Olivia      </span>│\n",
       "│<span style=\"color: #7f7f7f; text-decoration-color: #7f7f7f\">                                           </span>│<span style=\"color: #7f7f7f; text-decoration-color: #7f7f7f\"> Williams']                                                          </span>│\n",
       "├───────────────────────────────────────────┼─────────────────────────────────────────────────────────────────────┤\n",
       "│<span style=\"color: #7f7f7f; text-decoration-color: #7f7f7f\"> The World Is Not Enough                   </span>│<span style=\"color: #7f7f7f; text-decoration-color: #7f7f7f\"> ['Pierce Brosnan', 'Sophie Marceau', 'Denise Richards', 'Robert     </span>│\n",
       "│<span style=\"color: #7f7f7f; text-decoration-color: #7f7f7f\">                                           </span>│<span style=\"color: #7f7f7f; text-decoration-color: #7f7f7f\"> Carlyle']                                                           </span>│\n",
       "├───────────────────────────────────────────┼─────────────────────────────────────────────────────────────────────┤\n",
       "│<span style=\"color: #7f7f7f; text-decoration-color: #7f7f7f\"> There's Something About Mary              </span>│<span style=\"color: #7f7f7f; text-decoration-color: #7f7f7f\"> ['Cameron Diaz', 'Ben Stiller', 'Matt Dillon']                      </span>│\n",
       "├───────────────────────────────────────────┼─────────────────────────────────────────────────────────────────────┤\n",
       "│<span style=\"color: #7f7f7f; text-decoration-color: #7f7f7f\"> Titanic                                   </span>│<span style=\"color: #7f7f7f; text-decoration-color: #7f7f7f\"> ['Leonardo DiCaprio', 'Kate Winslet']                               </span>│\n",
       "├───────────────────────────────────────────┼─────────────────────────────────────────────────────────────────────┤\n",
       "│<span style=\"color: #7f7f7f; text-decoration-color: #7f7f7f\"> Tomorrow Never Dies                       </span>│<span style=\"color: #7f7f7f; text-decoration-color: #7f7f7f\"> ['Pierce Brosnan', 'Michelle Yeoh', 'Jonathan Pryce', 'Teri         </span>│\n",
       "│<span style=\"color: #7f7f7f; text-decoration-color: #7f7f7f\">                                           </span>│<span style=\"color: #7f7f7f; text-decoration-color: #7f7f7f\"> Hatcher']                                                           </span>│\n",
       "├───────────────────────────────────────────┼─────────────────────────────────────────────────────────────────────┤\n",
       "│<span style=\"color: #7f7f7f; text-decoration-color: #7f7f7f\"> Toy Story                                 </span>│<span style=\"color: #7f7f7f; text-decoration-color: #7f7f7f\"> ['Tom Hanks', 'Tim Allen']                                          </span>│\n",
       "├───────────────────────────────────────────┼─────────────────────────────────────────────────────────────────────┤\n",
       "│<span style=\"color: #7f7f7f; text-decoration-color: #7f7f7f\"> Toy Story 2                               </span>│<span style=\"color: #7f7f7f; text-decoration-color: #7f7f7f\"> ['Tom Hanks', 'Tim Allen', 'Joan Cusack']                           </span>│\n",
       "├───────────────────────────────────────────┼─────────────────────────────────────────────────────────────────────┤\n",
       "│<span style=\"color: #7f7f7f; text-decoration-color: #7f7f7f\"> True Lies                                 </span>│<span style=\"color: #7f7f7f; text-decoration-color: #7f7f7f\"> ['Arnold Schwarzenegger', 'Jamie Lee Curtis']                       </span>│\n",
       "├───────────────────────────────────────────┼─────────────────────────────────────────────────────────────────────┤\n",
       "│<span style=\"color: #7f7f7f; text-decoration-color: #7f7f7f\"> Twister                                   </span>│<span style=\"color: #7f7f7f; text-decoration-color: #7f7f7f\"> ['Helen Hunt', 'Bill Paxton']                                       </span>│\n",
       "└───────────────────────────────────────────┴─────────────────────────────────────────────────────────────────────┘\n",
       "</pre>\n"
      ],
      "text/plain": [
       "┏━━━━━━━━━━━━━━━━━━━━━━━━━━━━━━━━━━━━━━━━━━━┳━━━━━━━━━━━━━━━━━━━━━━━━━━━━━━━━━━━━━━━━━━━━━━━━━━━━━━━━━━━━━━━━━━━━━┓\n",
       "┃\u001b[1;35m \u001b[0m\u001b[1;35mscenario                                 \u001b[0m\u001b[1;35m \u001b[0m┃\u001b[1;35m \u001b[0m\u001b[1;35manswer                                                             \u001b[0m\u001b[1;35m \u001b[0m┃\n",
       "┃\u001b[1;35m \u001b[0m\u001b[1;35m.Title                                   \u001b[0m\u001b[1;35m \u001b[0m┃\u001b[1;35m \u001b[0m\u001b[1;35m.leads                                                             \u001b[0m\u001b[1;35m \u001b[0m┃\n",
       "┡━━━━━━━━━━━━━━━━━━━━━━━━━━━━━━━━━━━━━━━━━━━╇━━━━━━━━━━━━━━━━━━━━━━━━━━━━━━━━━━━━━━━━━━━━━━━━━━━━━━━━━━━━━━━━━━━━━┩\n",
       "│\u001b[2m \u001b[0m\u001b[2mA Bug's Life                             \u001b[0m\u001b[2m \u001b[0m│\u001b[2m \u001b[0m\u001b[2m['Dave Foley', 'Kevin Spacey', 'Julia Louis-Dreyfus', 'Hayden      \u001b[0m\u001b[2m \u001b[0m│\n",
       "│\u001b[2m                                           \u001b[0m│\u001b[2m \u001b[0m\u001b[2mPanettiere', 'Phyllis Diller', 'Richard Kind', 'David Hyde Pierce']\u001b[0m\u001b[2m \u001b[0m│\n",
       "├───────────────────────────────────────────┼─────────────────────────────────────────────────────────────────────┤\n",
       "│\u001b[2m \u001b[0m\u001b[2mAladdin                                  \u001b[0m\u001b[2m \u001b[0m│\u001b[2m \u001b[0m\u001b[2m['Mena Massoud', 'Naomi Scott', 'Will Smith']                      \u001b[0m\u001b[2m \u001b[0m│\n",
       "├───────────────────────────────────────────┼─────────────────────────────────────────────────────────────────────┤\n",
       "│\u001b[2m \u001b[0m\u001b[2mAmerican Beauty                          \u001b[0m\u001b[2m \u001b[0m│\u001b[2m \u001b[0m\u001b[2m['Kevin Spacey', 'Annette Bening', 'Thora Birch', 'Mena Suvari',   \u001b[0m\u001b[2m \u001b[0m│\n",
       "│\u001b[2m                                           \u001b[0m│\u001b[2m \u001b[0m\u001b[2m'Wes Bentley', 'Chris Cooper']                                     \u001b[0m\u001b[2m \u001b[0m│\n",
       "├───────────────────────────────────────────┼─────────────────────────────────────────────────────────────────────┤\n",
       "│\u001b[2m \u001b[0m\u001b[2mApollo 13                                \u001b[0m\u001b[2m \u001b[0m│\u001b[2m \u001b[0m\u001b[2m['Tom Hanks', 'Kevin Bacon', 'Bill Paxton']                        \u001b[0m\u001b[2m \u001b[0m│\n",
       "├───────────────────────────────────────────┼─────────────────────────────────────────────────────────────────────┤\n",
       "│\u001b[2m \u001b[0m\u001b[2mArmageddon                               \u001b[0m\u001b[2m \u001b[0m│\u001b[2m \u001b[0m\u001b[2m['Bruce Willis', 'Billy Bob Thornton', 'Liv Tyler', 'Ben Affleck'] \u001b[0m\u001b[2m \u001b[0m│\n",
       "├───────────────────────────────────────────┼─────────────────────────────────────────────────────────────────────┤\n",
       "│\u001b[2m \u001b[0m\u001b[2mBasic Instinct                           \u001b[0m\u001b[2m \u001b[0m│\u001b[2m \u001b[0m\u001b[2m['Michael Douglas', 'Sharon Stone']                                \u001b[0m\u001b[2m \u001b[0m│\n",
       "├───────────────────────────────────────────┼─────────────────────────────────────────────────────────────────────┤\n",
       "│\u001b[2m \u001b[0m\u001b[2mBatman Forever                           \u001b[0m\u001b[2m \u001b[0m│\u001b[2m \u001b[0m\u001b[2m['Val Kilmer', 'Tommy Lee Jones', 'Jim Carrey', 'Nicole Kidman',   \u001b[0m\u001b[2m \u001b[0m│\n",
       "│\u001b[2m                                           \u001b[0m│\u001b[2m \u001b[0m\u001b[2m\"Chris O'Donnell\"]                                                 \u001b[0m\u001b[2m \u001b[0m│\n",
       "├───────────────────────────────────────────┼─────────────────────────────────────────────────────────────────────┤\n",
       "│\u001b[2m \u001b[0m\u001b[2mBeauty and the Beast                     \u001b[0m\u001b[2m \u001b[0m│\u001b[2m \u001b[0m\u001b[2m['Emma Watson', 'Dan Stevens', 'Luke Evans', 'Kevin Kline', 'Josh  \u001b[0m\u001b[2m \u001b[0m│\n",
       "│\u001b[2m                                           \u001b[0m│\u001b[2m \u001b[0m\u001b[2mGad']                                                              \u001b[0m\u001b[2m \u001b[0m│\n",
       "├───────────────────────────────────────────┼─────────────────────────────────────────────────────────────────────┤\n",
       "│\u001b[2m \u001b[0m\u001b[2mDances with Wolves                       \u001b[0m\u001b[2m \u001b[0m│\u001b[2m \u001b[0m\u001b[2m['Kevin Costner', 'Mary McDonnell', 'Graham Greene', 'Rodney A.    \u001b[0m\u001b[2m \u001b[0m│\n",
       "│\u001b[2m                                           \u001b[0m│\u001b[2m \u001b[0m\u001b[2mGrant']                                                            \u001b[0m\u001b[2m \u001b[0m│\n",
       "├───────────────────────────────────────────┼─────────────────────────────────────────────────────────────────────┤\n",
       "│\u001b[2m \u001b[0m\u001b[2mDeep Impact                              \u001b[0m\u001b[2m \u001b[0m│\u001b[2m \u001b[0m\u001b[2m['Téa Leoni', 'Morgan Freeman', 'Elijah Wood', 'Robert Duvall']    \u001b[0m\u001b[2m \u001b[0m│\n",
       "├───────────────────────────────────────────┼─────────────────────────────────────────────────────────────────────┤\n",
       "│\u001b[2m \u001b[0m\u001b[2mDie Hard with a Vengeance                \u001b[0m\u001b[2m \u001b[0m│\u001b[2m \u001b[0m\u001b[2m['Bruce Willis', 'Samuel L. Jackson', 'Jeremy Irons']              \u001b[0m\u001b[2m \u001b[0m│\n",
       "├───────────────────────────────────────────┼─────────────────────────────────────────────────────────────────────┤\n",
       "│\u001b[2m \u001b[0m\u001b[2mForrest Gump                             \u001b[0m\u001b[2m \u001b[0m│\u001b[2m \u001b[0m\u001b[2m['Tom Hanks', 'Robin Wright', 'Gary Sinise', 'Mykelti Williamson', \u001b[0m\u001b[2m \u001b[0m│\n",
       "│\u001b[2m                                           \u001b[0m│\u001b[2m \u001b[0m\u001b[2m'Sally Field']                                                     \u001b[0m\u001b[2m \u001b[0m│\n",
       "├───────────────────────────────────────────┼─────────────────────────────────────────────────────────────────────┤\n",
       "│\u001b[2m \u001b[0m\u001b[2mGhost                                    \u001b[0m\u001b[2m \u001b[0m│\u001b[2m \u001b[0m\u001b[2m['Patrick Swayze', 'Demi Moore', 'Whoopi Goldberg']                \u001b[0m\u001b[2m \u001b[0m│\n",
       "├───────────────────────────────────────────┼─────────────────────────────────────────────────────────────────────┤\n",
       "│\u001b[2m \u001b[0m\u001b[2mGodzilla                                 \u001b[0m\u001b[2m \u001b[0m│\u001b[2m \u001b[0m\u001b[2m['Matthew Broderick', 'Jean Reno', 'Bryan Cranston', 'Aaron        \u001b[0m\u001b[2m \u001b[0m│\n",
       "│\u001b[2m                                           \u001b[0m│\u001b[2m \u001b[0m\u001b[2mTaylor-Johnson', 'Elizabeth Olsen', 'Kyle Chandler', 'Vera         \u001b[0m\u001b[2m \u001b[0m│\n",
       "│\u001b[2m                                           \u001b[0m│\u001b[2m \u001b[0m\u001b[2mFarmiga', 'Millie Bobby Brown']                                    \u001b[0m\u001b[2m \u001b[0m│\n",
       "├───────────────────────────────────────────┼─────────────────────────────────────────────────────────────────────┤\n",
       "│\u001b[2m \u001b[0m\u001b[2mGoldenEye                                \u001b[0m\u001b[2m \u001b[0m│\u001b[2m \u001b[0m\u001b[2m['Pierce Brosnan', 'Sean Bean', 'Izabella Scorupco', 'Famke        \u001b[0m\u001b[2m \u001b[0m│\n",
       "│\u001b[2m                                           \u001b[0m│\u001b[2m \u001b[0m\u001b[2mJanssen']                                                          \u001b[0m\u001b[2m \u001b[0m│\n",
       "├───────────────────────────────────────────┼─────────────────────────────────────────────────────────────────────┤\n",
       "│\u001b[2m \u001b[0m\u001b[2mHome Alone                               \u001b[0m\u001b[2m \u001b[0m│\u001b[2m \u001b[0m\u001b[2m['Macaulay Culkin', 'Joe Pesci', 'Daniel Stern', \"Catherine        \u001b[0m\u001b[2m \u001b[0m│\n",
       "│\u001b[2m                                           \u001b[0m│\u001b[2m \u001b[0m\u001b[2mO'Hara\", 'John Heard']                                             \u001b[0m\u001b[2m \u001b[0m│\n",
       "├───────────────────────────────────────────┼─────────────────────────────────────────────────────────────────────┤\n",
       "│\u001b[2m \u001b[0m\u001b[2mHome Alone 2: Lost in New York           \u001b[0m\u001b[2m \u001b[0m│\u001b[2m \u001b[0m\u001b[2m['Macaulay Culkin', 'Joe Pesci', 'Daniel Stern', \"Catherine        \u001b[0m\u001b[2m \u001b[0m│\n",
       "│\u001b[2m                                           \u001b[0m│\u001b[2m \u001b[0m\u001b[2mO'Hara\", 'John Heard']                                             \u001b[0m\u001b[2m \u001b[0m│\n",
       "├───────────────────────────────────────────┼─────────────────────────────────────────────────────────────────────┤\n",
       "│\u001b[2m \u001b[0m\u001b[2mIndependence Day                         \u001b[0m\u001b[2m \u001b[0m│\u001b[2m \u001b[0m\u001b[2m['Will Smith', 'Bill Pullman', 'Jeff Goldblum']                    \u001b[0m\u001b[2m \u001b[0m│\n",
       "├───────────────────────────────────────────┼─────────────────────────────────────────────────────────────────────┤\n",
       "│\u001b[2m \u001b[0m\u001b[2mJurassic Park                            \u001b[0m\u001b[2m \u001b[0m│\u001b[2m \u001b[0m\u001b[2m['Sam Neill', 'Laura Dern', 'Jeff Goldblum', 'Richard              \u001b[0m\u001b[2m \u001b[0m│\n",
       "│\u001b[2m                                           \u001b[0m│\u001b[2m \u001b[0m\u001b[2mAttenborough']                                                     \u001b[0m\u001b[2m \u001b[0m│\n",
       "├───────────────────────────────────────────┼─────────────────────────────────────────────────────────────────────┤\n",
       "│\u001b[2m \u001b[0m\u001b[2mMen in Black                             \u001b[0m\u001b[2m \u001b[0m│\u001b[2m \u001b[0m\u001b[2m['Tommy Lee Jones', 'Will Smith']                                  \u001b[0m\u001b[2m \u001b[0m│\n",
       "├───────────────────────────────────────────┼─────────────────────────────────────────────────────────────────────┤\n",
       "│\u001b[2m \u001b[0m\u001b[2mMission: Impossible                      \u001b[0m\u001b[2m \u001b[0m│\u001b[2m \u001b[0m\u001b[2m['Tom Cruise', 'Ving Rhames', 'Simon Pegg', 'Rebecca Ferguson',    \u001b[0m\u001b[2m \u001b[0m│\n",
       "│\u001b[2m                                           \u001b[0m│\u001b[2m \u001b[0m\u001b[2m'Jeremy Renner']                                                   \u001b[0m\u001b[2m \u001b[0m│\n",
       "├───────────────────────────────────────────┼─────────────────────────────────────────────────────────────────────┤\n",
       "│\u001b[2m \u001b[0m\u001b[2mMrs. Doubtfire                           \u001b[0m\u001b[2m \u001b[0m│\u001b[2m \u001b[0m\u001b[2m['Robin Williams', 'Sally Field', 'Pierce Brosnan', 'Lisa Jakub',  \u001b[0m\u001b[2m \u001b[0m│\n",
       "│\u001b[2m                                           \u001b[0m│\u001b[2m \u001b[0m\u001b[2m'Matthew Lawrence', 'Mara Wilson']                                 \u001b[0m\u001b[2m \u001b[0m│\n",
       "├───────────────────────────────────────────┼─────────────────────────────────────────────────────────────────────┤\n",
       "│\u001b[2m \u001b[0m\u001b[2mNotting Hill                             \u001b[0m\u001b[2m \u001b[0m│\u001b[2m \u001b[0m\u001b[2m['Julia Roberts', 'Hugh Grant']                                    \u001b[0m\u001b[2m \u001b[0m│\n",
       "├───────────────────────────────────────────┼─────────────────────────────────────────────────────────────────────┤\n",
       "│\u001b[2m \u001b[0m\u001b[2mPocahontas                               \u001b[0m\u001b[2m \u001b[0m│\u001b[2m \u001b[0m\u001b[2m['Irene Bedard', 'Mel Gibson', 'Judy Kuhn', 'David Ogden Stiers',  \u001b[0m\u001b[2m \u001b[0m│\n",
       "│\u001b[2m                                           \u001b[0m│\u001b[2m \u001b[0m\u001b[2m'Russell Means', 'Christian Bale']                                 \u001b[0m\u001b[2m \u001b[0m│\n",
       "├───────────────────────────────────────────┼─────────────────────────────────────────────────────────────────────┤\n",
       "│\u001b[2m \u001b[0m\u001b[2mPretty Woman                             \u001b[0m\u001b[2m \u001b[0m│\u001b[2m \u001b[0m\u001b[2m['Richard Gere', 'Julia Roberts']                                  \u001b[0m\u001b[2m \u001b[0m│\n",
       "├───────────────────────────────────────────┼─────────────────────────────────────────────────────────────────────┤\n",
       "│\u001b[2m \u001b[0m\u001b[2mRobin Hood: Prince of Thieves            \u001b[0m\u001b[2m \u001b[0m│\u001b[2m \u001b[0m\u001b[2m['Kevin Costner', 'Morgan Freeman', 'Mary Elizabeth Mastrantonio', \u001b[0m\u001b[2m \u001b[0m│\n",
       "│\u001b[2m                                           \u001b[0m│\u001b[2m \u001b[0m\u001b[2m'Christian Slater', 'Alan Rickman']                                \u001b[0m\u001b[2m \u001b[0m│\n",
       "├───────────────────────────────────────────┼─────────────────────────────────────────────────────────────────────┤\n",
       "│\u001b[2m \u001b[0m\u001b[2mSaving Private Ryan                      \u001b[0m\u001b[2m \u001b[0m│\u001b[2m \u001b[0m\u001b[2m['Tom Hanks', 'Matt Damon', 'Tom Sizemore', 'Edward Burns', 'Barry \u001b[0m\u001b[2m \u001b[0m│\n",
       "│\u001b[2m                                           \u001b[0m│\u001b[2m \u001b[0m\u001b[2mPepper', 'Adam Goldberg', 'Vin Diesel', 'Giovanni Ribisi', 'Jeremy \u001b[0m\u001b[2m \u001b[0m│\n",
       "│\u001b[2m                                           \u001b[0m│\u001b[2m \u001b[0m\u001b[2mDavies']                                                           \u001b[0m\u001b[2m \u001b[0m│\n",
       "├───────────────────────────────────────────┼─────────────────────────────────────────────────────────────────────┤\n",
       "│\u001b[2m \u001b[0m\u001b[2mSeven                                    \u001b[0m\u001b[2m \u001b[0m│\u001b[2m \u001b[0m\u001b[2m['Brad Pitt', 'Morgan Freeman', 'Gwyneth Paltrow']                 \u001b[0m\u001b[2m \u001b[0m│\n",
       "├───────────────────────────────────────────┼─────────────────────────────────────────────────────────────────────┤\n",
       "│\u001b[2m \u001b[0m\u001b[2mSpeed                                    \u001b[0m\u001b[2m \u001b[0m│\u001b[2m \u001b[0m\u001b[2m['Keanu Reeves', 'Sandra Bullock', 'Dennis Hopper']                \u001b[0m\u001b[2m \u001b[0m│\n",
       "├───────────────────────────────────────────┼─────────────────────────────────────────────────────────────────────┤\n",
       "│\u001b[2m \u001b[0m\u001b[2mStar Wars: Episode I – The Phantom Menace\u001b[0m\u001b[2m \u001b[0m│\u001b[2m \u001b[0m\u001b[2m['Liam Neeson', 'Ewan McGregor', 'Natalie Portman', 'Jake Lloyd']  \u001b[0m\u001b[2m \u001b[0m│\n",
       "├───────────────────────────────────────────┼─────────────────────────────────────────────────────────────────────┤\n",
       "│\u001b[2m \u001b[0m\u001b[2mTarzan                                   \u001b[0m\u001b[2m \u001b[0m│\u001b[2m \u001b[0m\u001b[2m['Johnny Weissmuller', \"Maureen O'Sullivan\"]                       \u001b[0m\u001b[2m \u001b[0m│\n",
       "├───────────────────────────────────────────┼─────────────────────────────────────────────────────────────────────┤\n",
       "│\u001b[2m \u001b[0m\u001b[2mTerminator 2: Judgment Day               \u001b[0m\u001b[2m \u001b[0m│\u001b[2m \u001b[0m\u001b[2m['Arnold Schwarzenegger', 'Linda Hamilton', 'Edward Furlong',      \u001b[0m\u001b[2m \u001b[0m│\n",
       "│\u001b[2m                                           \u001b[0m│\u001b[2m \u001b[0m\u001b[2m'Robert Patrick']                                                  \u001b[0m\u001b[2m \u001b[0m│\n",
       "├───────────────────────────────────────────┼─────────────────────────────────────────────────────────────────────┤\n",
       "│\u001b[2m \u001b[0m\u001b[2mThe Bodyguard                            \u001b[0m\u001b[2m \u001b[0m│\u001b[2m \u001b[0m\u001b[2m['Kevin Costner', 'Whitney Houston']                               \u001b[0m\u001b[2m \u001b[0m│\n",
       "├───────────────────────────────────────────┼─────────────────────────────────────────────────────────────────────┤\n",
       "│\u001b[2m \u001b[0m\u001b[2mThe Flintstones                          \u001b[0m\u001b[2m \u001b[0m│\u001b[2m \u001b[0m\u001b[2m['John Goodman', 'Elizabeth Perkins', 'Rick Moranis', \"Rosie       \u001b[0m\u001b[2m \u001b[0m│\n",
       "│\u001b[2m                                           \u001b[0m│\u001b[2m \u001b[0m\u001b[2mO'Donnell\"]                                                        \u001b[0m\u001b[2m \u001b[0m│\n",
       "├───────────────────────────────────────────┼─────────────────────────────────────────────────────────────────────┤\n",
       "│\u001b[2m \u001b[0m\u001b[2mThe Fugitive                             \u001b[0m\u001b[2m \u001b[0m│\u001b[2m \u001b[0m\u001b[2m['Harrison Ford', 'Tommy Lee Jones']                               \u001b[0m\u001b[2m \u001b[0m│\n",
       "├───────────────────────────────────────────┼─────────────────────────────────────────────────────────────────────┤\n",
       "│\u001b[2m \u001b[0m\u001b[2mThe Lion King                            \u001b[0m\u001b[2m \u001b[0m│\u001b[2m \u001b[0m\u001b[2m['Matthew Broderick', 'James Earl Jones', 'Jeremy Irons', 'Moira   \u001b[0m\u001b[2m \u001b[0m│\n",
       "│\u001b[2m                                           \u001b[0m│\u001b[2m \u001b[0m\u001b[2mKelly', 'Nathan Lane', 'Ernie Sabella', 'Rowan Atkinson', 'Whoopi  \u001b[0m\u001b[2m \u001b[0m│\n",
       "│\u001b[2m                                           \u001b[0m│\u001b[2m \u001b[0m\u001b[2mGoldberg']                                                         \u001b[0m\u001b[2m \u001b[0m│\n",
       "├───────────────────────────────────────────┼─────────────────────────────────────────────────────────────────────┤\n",
       "│\u001b[2m \u001b[0m\u001b[2mThe Lost World: Jurassic Park            \u001b[0m\u001b[2m \u001b[0m│\u001b[2m \u001b[0m\u001b[2m['Jeff Goldblum', 'Julianne Moore', 'Pete Postlethwaite']          \u001b[0m\u001b[2m \u001b[0m│\n",
       "├───────────────────────────────────────────┼─────────────────────────────────────────────────────────────────────┤\n",
       "│\u001b[2m \u001b[0m\u001b[2mThe Mask                                 \u001b[0m\u001b[2m \u001b[0m│\u001b[2m \u001b[0m\u001b[2m['Jim Carrey', 'Cameron Diaz']                                     \u001b[0m\u001b[2m \u001b[0m│\n",
       "├───────────────────────────────────────────┼─────────────────────────────────────────────────────────────────────┤\n",
       "│\u001b[2m \u001b[0m\u001b[2mThe Matrix                               \u001b[0m\u001b[2m \u001b[0m│\u001b[2m \u001b[0m\u001b[2m['Keanu Reeves', 'Laurence Fishburne', 'Carrie-Anne Moss']         \u001b[0m\u001b[2m \u001b[0m│\n",
       "├───────────────────────────────────────────┼─────────────────────────────────────────────────────────────────────┤\n",
       "│\u001b[2m \u001b[0m\u001b[2mThe Mummy                                \u001b[0m\u001b[2m \u001b[0m│\u001b[2m \u001b[0m\u001b[2m['Brendan Fraser', 'Rachel Weisz', 'John Hannah', 'Arnold Vosloo'] \u001b[0m\u001b[2m \u001b[0m│\n",
       "├───────────────────────────────────────────┼─────────────────────────────────────────────────────────────────────┤\n",
       "│\u001b[2m \u001b[0m\u001b[2mThe Rock                                 \u001b[0m\u001b[2m \u001b[0m│\u001b[2m \u001b[0m\u001b[2m['Sean Connery', 'Nicolas Cage', 'Ed Harris']                      \u001b[0m\u001b[2m \u001b[0m│\n",
       "├───────────────────────────────────────────┼─────────────────────────────────────────────────────────────────────┤\n",
       "│\u001b[2m \u001b[0m\u001b[2mThe Sixth Sense                          \u001b[0m\u001b[2m \u001b[0m│\u001b[2m \u001b[0m\u001b[2m['Bruce Willis', 'Haley Joel Osment', 'Toni Collette', 'Olivia     \u001b[0m\u001b[2m \u001b[0m│\n",
       "│\u001b[2m                                           \u001b[0m│\u001b[2m \u001b[0m\u001b[2mWilliams']                                                         \u001b[0m\u001b[2m \u001b[0m│\n",
       "├───────────────────────────────────────────┼─────────────────────────────────────────────────────────────────────┤\n",
       "│\u001b[2m \u001b[0m\u001b[2mThe World Is Not Enough                  \u001b[0m\u001b[2m \u001b[0m│\u001b[2m \u001b[0m\u001b[2m['Pierce Brosnan', 'Sophie Marceau', 'Denise Richards', 'Robert    \u001b[0m\u001b[2m \u001b[0m│\n",
       "│\u001b[2m                                           \u001b[0m│\u001b[2m \u001b[0m\u001b[2mCarlyle']                                                          \u001b[0m\u001b[2m \u001b[0m│\n",
       "├───────────────────────────────────────────┼─────────────────────────────────────────────────────────────────────┤\n",
       "│\u001b[2m \u001b[0m\u001b[2mThere's Something About Mary             \u001b[0m\u001b[2m \u001b[0m│\u001b[2m \u001b[0m\u001b[2m['Cameron Diaz', 'Ben Stiller', 'Matt Dillon']                     \u001b[0m\u001b[2m \u001b[0m│\n",
       "├───────────────────────────────────────────┼─────────────────────────────────────────────────────────────────────┤\n",
       "│\u001b[2m \u001b[0m\u001b[2mTitanic                                  \u001b[0m\u001b[2m \u001b[0m│\u001b[2m \u001b[0m\u001b[2m['Leonardo DiCaprio', 'Kate Winslet']                              \u001b[0m\u001b[2m \u001b[0m│\n",
       "├───────────────────────────────────────────┼─────────────────────────────────────────────────────────────────────┤\n",
       "│\u001b[2m \u001b[0m\u001b[2mTomorrow Never Dies                      \u001b[0m\u001b[2m \u001b[0m│\u001b[2m \u001b[0m\u001b[2m['Pierce Brosnan', 'Michelle Yeoh', 'Jonathan Pryce', 'Teri        \u001b[0m\u001b[2m \u001b[0m│\n",
       "│\u001b[2m                                           \u001b[0m│\u001b[2m \u001b[0m\u001b[2mHatcher']                                                          \u001b[0m\u001b[2m \u001b[0m│\n",
       "├───────────────────────────────────────────┼─────────────────────────────────────────────────────────────────────┤\n",
       "│\u001b[2m \u001b[0m\u001b[2mToy Story                                \u001b[0m\u001b[2m \u001b[0m│\u001b[2m \u001b[0m\u001b[2m['Tom Hanks', 'Tim Allen']                                         \u001b[0m\u001b[2m \u001b[0m│\n",
       "├───────────────────────────────────────────┼─────────────────────────────────────────────────────────────────────┤\n",
       "│\u001b[2m \u001b[0m\u001b[2mToy Story 2                              \u001b[0m\u001b[2m \u001b[0m│\u001b[2m \u001b[0m\u001b[2m['Tom Hanks', 'Tim Allen', 'Joan Cusack']                          \u001b[0m\u001b[2m \u001b[0m│\n",
       "├───────────────────────────────────────────┼─────────────────────────────────────────────────────────────────────┤\n",
       "│\u001b[2m \u001b[0m\u001b[2mTrue Lies                                \u001b[0m\u001b[2m \u001b[0m│\u001b[2m \u001b[0m\u001b[2m['Arnold Schwarzenegger', 'Jamie Lee Curtis']                      \u001b[0m\u001b[2m \u001b[0m│\n",
       "├───────────────────────────────────────────┼─────────────────────────────────────────────────────────────────────┤\n",
       "│\u001b[2m \u001b[0m\u001b[2mTwister                                  \u001b[0m\u001b[2m \u001b[0m│\u001b[2m \u001b[0m\u001b[2m['Helen Hunt', 'Bill Paxton']                                      \u001b[0m\u001b[2m \u001b[0m│\n",
       "└───────────────────────────────────────────┴─────────────────────────────────────────────────────────────────────┘\n"
      ]
     },
     "metadata": {},
     "output_type": "display_data"
    }
   ],
   "source": [
    "from edsl import QuestionList\n",
    "\n",
    "q_leads = QuestionList(\n",
    "    question_name = \"leads\",\n",
    "    question_text = \"Who are the lead actors or actresses in {{ Title }}?\"\n",
    ")\n",
    "\n",
    "results = q_leads.by(scenarios).run()\n",
    "\n",
    "(results\n",
    " .sort_by(\"Title\")\n",
    " .select(\"Title\", \"leads\")\n",
    " .print(format=\"rich\")\n",
    ")"
   ]
  },
  {
   "cell_type": "markdown",
   "id": "920f4021-593d-4db2-aef6-04da2548e427",
   "metadata": {},
   "source": [
    "## Posting to the Coop"
   ]
  },
  {
   "cell_type": "code",
   "execution_count": 6,
   "id": "bdf6e22c-50b1-44a6-bc0c-f7aadd7f3059",
   "metadata": {
    "editable": true,
    "slideshow": {
     "slide_type": ""
    },
    "tags": [
     "skip-execution"
    ]
   },
   "outputs": [
    {
     "data": {
      "text/plain": [
       "{'description': 'Wikipedia: 1990s in film - List of worldwide highest-grossing films',\n",
       " 'object_type': 'scenario_list',\n",
       " 'url': 'https://www.expectedparrot.com/content/c5cd9e64-efcf-4703-b7e0-ebf135f1bd93',\n",
       " 'uuid': 'c5cd9e64-efcf-4703-b7e0-ebf135f1bd93',\n",
       " 'version': '0.1.33.dev1',\n",
       " 'visibility': 'public'}"
      ]
     },
     "execution_count": 6,
     "metadata": {},
     "output_type": "execute_result"
    }
   ],
   "source": [
    "scenarios.push(description = \"Wikipedia: 1990s in film - List of worldwide highest-grossing films\", visibility = \"public\")"
   ]
  },
  {
   "cell_type": "code",
   "execution_count": 7,
   "id": "0dffb41c-0e3a-4128-90f4-326c42b02ebc",
   "metadata": {
    "editable": true,
    "slideshow": {
     "slide_type": ""
    },
    "tags": [
     "skip-execution"
    ]
   },
   "outputs": [],
   "source": [
    "from edsl import Notebook"
   ]
  },
  {
   "cell_type": "code",
   "execution_count": 8,
   "id": "3041df43-1040-40c5-a973-09bebf06c89d",
   "metadata": {
    "editable": true,
    "slideshow": {
     "slide_type": ""
    },
    "tags": [
     "skip-execution"
    ]
   },
   "outputs": [],
   "source": [
    "n = Notebook(path = \"scenario_list_wikipedia.ipynb\")"
   ]
  },
  {
   "cell_type": "code",
   "execution_count": 9,
   "id": "e5db0b71-9a51-45c5-8bc5-2cddf7ae4030",
   "metadata": {
    "editable": true,
    "slideshow": {
     "slide_type": ""
    },
    "tags": [
     "skip-execution"
    ]
   },
   "outputs": [
    {
     "data": {
      "text/plain": [
       "{'description': 'Example code for generating scenarios from Wikipedia tables',\n",
       " 'object_type': 'notebook',\n",
       " 'url': 'https://www.expectedparrot.com/content/6e62c759-ed1c-4b18-9b50-b5753c54baff',\n",
       " 'uuid': '6e62c759-ed1c-4b18-9b50-b5753c54baff',\n",
       " 'version': '0.1.33.dev1',\n",
       " 'visibility': 'public'}"
      ]
     },
     "execution_count": 9,
     "metadata": {},
     "output_type": "execute_result"
    }
   ],
   "source": [
    "n.push(description = \"Example code for generating scenarios from Wikipedia tables\", visibility = \"public\")"
   ]
  },
  {
   "cell_type": "markdown",
   "id": "9a061eb4-dea6-4543-a9f5-bb35b0e9f0d6",
   "metadata": {},
   "source": [
    "## Updating an object at the Coop"
   ]
  },
  {
   "cell_type": "code",
   "execution_count": 10,
   "id": "35e82fb6-2dd2-4be8-9e1a-2443979cb5e3",
   "metadata": {
    "editable": true,
    "slideshow": {
     "slide_type": ""
    },
    "tags": [
     "skip-execution"
    ]
   },
   "outputs": [],
   "source": [
    "n = Notebook(path = \"scenario_list_wikipedia.ipynb\")"
   ]
  },
  {
   "cell_type": "code",
   "execution_count": 11,
   "id": "aee2309b-3c08-4183-ad6b-8a0c98a35557",
   "metadata": {
    "editable": true,
    "slideshow": {
     "slide_type": ""
    },
    "tags": [
     "skip-execution"
    ]
   },
   "outputs": [
    {
     "data": {
      "text/plain": [
       "{'status': 'success'}"
      ]
     },
     "execution_count": 11,
     "metadata": {},
     "output_type": "execute_result"
    }
   ],
   "source": [
    "n.patch(uuid = \"6e62c759-ed1c-4b18-9b50-b5753c54baff\", value = n)"
   ]
  }
 ],
 "metadata": {
  "kernelspec": {
   "display_name": "Python 3 (ipykernel)",
   "language": "python",
   "name": "python3"
  },
  "language_info": {
   "codemirror_mode": {
    "name": "ipython",
    "version": 3
   },
   "file_extension": ".py",
   "mimetype": "text/x-python",
   "name": "python",
   "nbconvert_exporter": "python",
   "pygments_lexer": "ipython3",
   "version": "3.11.7"
  }
 },
 "nbformat": 4,
 "nbformat_minor": 5
}
