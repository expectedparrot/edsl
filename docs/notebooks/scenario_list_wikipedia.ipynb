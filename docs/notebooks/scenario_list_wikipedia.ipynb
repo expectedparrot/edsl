{
 "cells": [
  {
   "cell_type": "markdown",
   "id": "9ce70928-3ed9-480f-be22-3b4745a3c292",
   "metadata": {
    "editable": true,
    "slideshow": {
     "slide_type": ""
    },
    "tags": []
   },
   "source": [
    "# Using Wikipedia tables in a survey"
   ]
  },
  {
   "cell_type": "code",
   "execution_count": 1,
   "id": "763bd513-3905-44be-9296-a5f075f38dc4",
   "metadata": {
    "editable": true,
    "slideshow": {
     "slide_type": ""
    },
    "tags": []
   },
   "outputs": [],
   "source": [
    "from edsl import ScenarioList"
   ]
  },
  {
   "cell_type": "markdown",
   "id": "145d873f-5de0-49a9-8a22-def8243acbea",
   "metadata": {
    "editable": true,
    "slideshow": {
     "slide_type": ""
    },
    "tags": []
   },
   "source": [
    "Call the `from_wikipedia` method on a `ScenarioList` and pass (i) the URL for the Wikipedia page containing the table and (ii) the number of the table on the page (an integer starting at 0 that can be omitted if there is only 1 table on the page). For example, here we create scenarios for the 4th table at the page about movies of the 1990s:"
   ]
  },
  {
   "cell_type": "code",
   "execution_count": 2,
   "id": "12d7e7b8-da31-4a19-afde-a8be3507b451",
   "metadata": {
    "editable": true,
    "slideshow": {
     "slide_type": ""
    },
    "tags": []
   },
   "outputs": [],
   "source": [
    "scenarios = ScenarioList.from_wikipedia(\"https://en.wikipedia.org/wiki/1990s_in_film\", 3)"
   ]
  },
  {
   "cell_type": "code",
   "execution_count": 3,
   "id": "a3901b2e-8432-49c6-b651-5373d0d42dff",
   "metadata": {
    "editable": true,
    "slideshow": {
     "slide_type": ""
    },
    "tags": []
   },
   "outputs": [
    {
     "data": {
      "text/html": [
       "<p><a href='https://docs.expectedparrot.com/en/latest/scenarios.html#scenariolist'>ScenarioList</a> scenarios: 50; keys: ['Rank', 'Worldwide gross', 'Ref.', 'Title', 'Studios', 'Year'];</p>\n",
       "        <style>\n",
       "            :root {\n",
       "  --containerHeight: 400px;\n",
       "  --headerColor: blue;\n",
       "}\n",
       "\n",
       ".table-container {\n",
       "    height: var(--containerHeight) !important;\n",
       "    width: 100%;\n",
       "    overflow: auto;  /* This enables both horizontal and vertical scrolling */\n",
       "    border: 1px solid #d4d4d4;\n",
       "    background: transparent;\n",
       "    position: relative;  /* Create stacking context for sticky header */\n",
       "}\n",
       "\n",
       ".scroll-table {\n",
       "    /* Remove width: 100% to prevent table from being constrained */\n",
       "    /* min-width: 100% ensures table takes at least full container width */\n",
       "    min-width: 100%;\n",
       "    border-collapse: separate;\n",
       "    border-spacing: 4px;\n",
       "    background: transparent;\n",
       "    table-layout: auto;  /* Allow table to size based on content */\n",
       "}\n",
       "\n",
       ".scroll-table th {\n",
       "    background: transparent;  /* Semi-transparent background to ensure text readability */\n",
       "    position: sticky;\n",
       "    top: 0;\n",
       "    z-index: 1;\n",
       "    text-align: left !important;\n",
       "    padding: 8px;\n",
       "    font-weight: bold;\n",
       "    white-space: nowrap;  /* Prevent header text from wrapping */\n",
       "    min-width: 100px;    /* Ensure minimum column width */\n",
       "    backdrop-filter: blur(8px);  /* Optional: adds extra clarity */\n",
       "    color: var(--headerColor);\n",
       "}\n",
       "\n",
       ".scroll-table td {\n",
       "    padding: 8px;\n",
       "    text-align: left !important;\n",
       "    white-space: pre-wrap;\n",
       "    word-wrap: break-word;\n",
       "    vertical-align: top;\n",
       "    color: inherit;\n",
       "    border-bottom: none;\n",
       "    background: transparent;\n",
       "    min-width: 100px;    /* Match header minimum width */\n",
       "}\n",
       "\n",
       ".scroll-table tbody tr:hover {\n",
       "    background: transparent;\n",
       "}\n",
       "\n",
       "/* Additional rule to ensure header background is truly transparent */\n",
       ".scroll-table thead tr {\n",
       "    background: transparent !important;\n",
       "}\n",
       "\n",
       "/* Add shadow to indicate scrollable content */\n",
       ".table-container::after {\n",
       "    content: '';\n",
       "    position: absolute;\n",
       "    top: 0;\n",
       "    right: 0;\n",
       "    bottom: 0;\n",
       "    width: 5px;\n",
       "    background: linear-gradient(to right, transparent, rgba(242, 6, 6, 0.1));\n",
       "    pointer-events: none;\n",
       "    opacity: 0;\n",
       "    transition: opacity 0.3s;\n",
       "}\n",
       "\n",
       ".table-container:hover::after {\n",
       "    opacity: 1;\n",
       "}\n",
       "\n",
       "/* Handle Jupyter notebook specific styling */\n",
       ".jp-OutputArea-output .table-container {\n",
       "    max-width: 100%;\n",
       "    margin: 0;\n",
       "    overflow-x: auto;\n",
       "}\n",
       "        </style>\n",
       "        <div class=\"table-container\">\n",
       "            <div class=\"scroll-table-wrapper\">\n",
       "                <table class=\"scroll-table\">\n",
       "<thead>\n",
       "<tr><th style=\"text-align: right;\">  Rank</th><th>Title                                    </th><th>Studios                                 </th><th>Worldwide gross  </th><th style=\"text-align: right;\">  Year</th><th>Ref.  </th></tr>\n",
       "</thead>\n",
       "<tbody>\n",
       "<tr><td style=\"text-align: right;\">     1</td><td>Titanic                                  </td><td>Paramount Pictures/20th Century Fox     </td><td>$1,843,201,268   </td><td style=\"text-align: right;\">  1997</td><td>[# 1] </td></tr>\n",
       "<tr><td style=\"text-align: right;\">     2</td><td>Star Wars: Episode I – The Phantom Menace</td><td>20th Century Fox                        </td><td>$924,317,558     </td><td style=\"text-align: right;\">  1999</td><td>[# 2] </td></tr>\n",
       "<tr><td style=\"text-align: right;\">     3</td><td>Jurassic Park                            </td><td>Universal Pictures                      </td><td>$914,691,118     </td><td style=\"text-align: right;\">  1993</td><td>[# 3] </td></tr>\n",
       "<tr><td style=\"text-align: right;\">     4</td><td>Independence Day                         </td><td>20th Century Fox                        </td><td>$817,400,891     </td><td style=\"text-align: right;\">  1996</td><td>[# 4] </td></tr>\n",
       "<tr><td style=\"text-align: right;\">     5</td><td>The Lion King                            </td><td>Walt Disney Studios                     </td><td>$763,455,561     </td><td style=\"text-align: right;\">  1994</td><td>[# 5] </td></tr>\n",
       "<tr><td style=\"text-align: right;\">     6</td><td>Forrest Gump                             </td><td>Paramount Pictures                      </td><td>$677,387,716     </td><td style=\"text-align: right;\">  1994</td><td>[# 6] </td></tr>\n",
       "<tr><td style=\"text-align: right;\">     7</td><td>The Sixth Sense                          </td><td>Walt Disney Studios                     </td><td>$672,806,292     </td><td style=\"text-align: right;\">  1999</td><td>[# 7] </td></tr>\n",
       "<tr><td style=\"text-align: right;\">     8</td><td>The Lost World: Jurassic Park            </td><td>Universal Pictures                      </td><td>$618,638,999     </td><td style=\"text-align: right;\">  1997</td><td>[# 8] </td></tr>\n",
       "<tr><td style=\"text-align: right;\">     9</td><td>Men in Black                             </td><td>Sony Pictures/Columbia Pictures         </td><td>$589,390,539     </td><td style=\"text-align: right;\">  1997</td><td>[# 9] </td></tr>\n",
       "<tr><td style=\"text-align: right;\">    10</td><td>Armageddon                               </td><td>Walt Disney Studios                     </td><td>$553,709,788     </td><td style=\"text-align: right;\">  1998</td><td>[# 10]</td></tr>\n",
       "<tr><td style=\"text-align: right;\">    11</td><td>Terminator 2: Judgment Day               </td><td>TriStar Pictures                        </td><td>$519,843,345     </td><td style=\"text-align: right;\">  1991</td><td>[# 11]</td></tr>\n",
       "<tr><td style=\"text-align: right;\">    12</td><td>Ghost                                    </td><td>Paramount Pictures                      </td><td>$505,702,588     </td><td style=\"text-align: right;\">  1990</td><td>[# 12]</td></tr>\n",
       "<tr><td style=\"text-align: right;\">    13</td><td>Aladdin                                  </td><td>Walt Disney Studios                     </td><td>$504,050,219     </td><td style=\"text-align: right;\">  1992</td><td>[# 13]</td></tr>\n",
       "<tr><td style=\"text-align: right;\">    14</td><td>Twister                                  </td><td>Warner Bros./Universal Pictures         </td><td>$494,471,524     </td><td style=\"text-align: right;\">  1996</td><td>[# 14]</td></tr>\n",
       "<tr><td style=\"text-align: right;\">    15</td><td>Toy Story 2                              </td><td>Walt Disney Studios                     </td><td>$485,015,179     </td><td style=\"text-align: right;\">  1999</td><td>[# 15]</td></tr>\n",
       "<tr><td style=\"text-align: right;\">    16</td><td>Saving Private Ryan                      </td><td>DreamWorks Pictures/Paramount Pictures  </td><td>$481,840,909     </td><td style=\"text-align: right;\">  1998</td><td>[# 16]</td></tr>\n",
       "<tr><td style=\"text-align: right;\">    17</td><td>Home Alone                               </td><td>20th Century Fox                        </td><td>$476,684,675     </td><td style=\"text-align: right;\">  1990</td><td>[# 17]</td></tr>\n",
       "<tr><td style=\"text-align: right;\">    18</td><td>The Matrix                               </td><td>Warner Bros.                            </td><td>$463,517,383     </td><td style=\"text-align: right;\">  1999</td><td>[# 18]</td></tr>\n",
       "<tr><td style=\"text-align: right;\">    19</td><td>Pretty Woman                             </td><td>Walt Disney Studios                     </td><td>$463,406,268     </td><td style=\"text-align: right;\">  1990</td><td>[# 19]</td></tr>\n",
       "<tr><td style=\"text-align: right;\">    20</td><td>Mission: Impossible                      </td><td>Paramount Pictures                      </td><td>$457,696,359     </td><td style=\"text-align: right;\">  1996</td><td>[# 20]</td></tr>\n",
       "<tr><td style=\"text-align: right;\">    21</td><td>Tarzan                                   </td><td>Walt Disney Studios                     </td><td>$448,191,819     </td><td style=\"text-align: right;\">  1999</td><td>[# 21]</td></tr>\n",
       "<tr><td style=\"text-align: right;\">    22</td><td>Mrs. Doubtfire                           </td><td>20th Century Fox                        </td><td>$441,286,195     </td><td style=\"text-align: right;\">  1993</td><td>[# 22]</td></tr>\n",
       "<tr><td style=\"text-align: right;\">    23</td><td>Dances with Wolves                       </td><td>Orion Pictures                          </td><td>$424,208,848     </td><td style=\"text-align: right;\">  1990</td><td>[# 23]</td></tr>\n",
       "<tr><td style=\"text-align: right;\">    24</td><td>The Mummy                                </td><td>Universal Pictures                      </td><td>$415,933,406     </td><td style=\"text-align: right;\">  1999</td><td>[# 24]</td></tr>\n",
       "<tr><td style=\"text-align: right;\">    25</td><td>The Bodyguard                            </td><td>Warner Bros.                            </td><td>$411,006,740     </td><td style=\"text-align: right;\">  1992</td><td>[# 25]</td></tr>\n",
       "<tr><td style=\"text-align: right;\">    26</td><td>Robin Hood: Prince of Thieves            </td><td>Warner Bros.                            </td><td>$390,493,908     </td><td style=\"text-align: right;\">  1991</td><td>[# 26]</td></tr>\n",
       "<tr><td style=\"text-align: right;\">    27</td><td>Godzilla                                 </td><td>TriStar Pictures                        </td><td>$379,014,294     </td><td style=\"text-align: right;\">  1998</td><td>[# 27]</td></tr>\n",
       "<tr><td style=\"text-align: right;\">    28</td><td>True Lies                                </td><td>20th Century Fox                        </td><td>$378,882,411     </td><td style=\"text-align: right;\">  1994</td><td>[# 28]</td></tr>\n",
       "<tr><td style=\"text-align: right;\">    29</td><td>Toy Story                                </td><td>Walt Disney Studios                     </td><td>$373,554,033     </td><td style=\"text-align: right;\">  1995</td><td>[# 29]</td></tr>\n",
       "<tr><td style=\"text-align: right;\">    30</td><td>There&#x27;s Something About Mary             </td><td>20th Century Fox                        </td><td>$369,884,651     </td><td style=\"text-align: right;\">  1998</td><td>[# 30]</td></tr>\n",
       "<tr><td style=\"text-align: right;\">    31</td><td>The Fugitive                             </td><td>Warner Bros.                            </td><td>$368,875,760     </td><td style=\"text-align: right;\">  1993</td><td>[# 31]</td></tr>\n",
       "<tr><td style=\"text-align: right;\">    32</td><td>Die Hard with a Vengeance                </td><td>20th Century Fox/Cinergi Pictures       </td><td>$366,101,666     </td><td style=\"text-align: right;\">  1995</td><td>[# 32]</td></tr>\n",
       "<tr><td style=\"text-align: right;\">    33</td><td>Notting Hill                             </td><td>PolyGram Filmed Entertainment           </td><td>$363,889,678     </td><td style=\"text-align: right;\">  1999</td><td>[# 33]</td></tr>\n",
       "<tr><td style=\"text-align: right;\">    34</td><td>A Bug&#x27;s Life                             </td><td>Walt Disney Studios                     </td><td>$363,398,565     </td><td style=\"text-align: right;\">  1998</td><td>[# 34]</td></tr>\n",
       "<tr><td style=\"text-align: right;\">    35</td><td>The World Is Not Enough                  </td><td>Metro-Goldwyn-Mayer Pictures            </td><td>$361,832,400     </td><td style=\"text-align: right;\">  1999</td><td>[# 35]</td></tr>\n",
       "<tr><td style=\"text-align: right;\">    36</td><td>Home Alone 2: Lost in New York           </td><td>20th Century Fox                        </td><td>$358,994,850     </td><td style=\"text-align: right;\">  1992</td><td>[# 36]</td></tr>\n",
       "<tr><td style=\"text-align: right;\">    37</td><td>American Beauty                          </td><td>DreamWorks Pictures                     </td><td>$356,296,601     </td><td style=\"text-align: right;\">  1999</td><td>[# 37]</td></tr>\n",
       "<tr><td style=\"text-align: right;\">    38</td><td>Apollo 13                                </td><td>Universal Pictures/Imagine Entertainment</td><td>$355,237,933     </td><td style=\"text-align: right;\">  1995</td><td>[# 38]</td></tr>\n",
       "<tr><td style=\"text-align: right;\">    39</td><td>Basic Instinct                           </td><td>TriStar Pictures                        </td><td>$352,927,224     </td><td style=\"text-align: right;\">  1992</td><td>[# 39]</td></tr>\n",
       "<tr><td style=\"text-align: right;\">    40</td><td>GoldenEye                                </td><td>MGM/United Artists                      </td><td>$352,194,034     </td><td style=\"text-align: right;\">  1995</td><td>[# 40]</td></tr>\n",
       "<tr><td style=\"text-align: right;\">    41</td><td>The Mask                                 </td><td>New Line Cinema                         </td><td>$351,583,407     </td><td style=\"text-align: right;\">  1994</td><td>[# 41]</td></tr>\n",
       "<tr><td style=\"text-align: right;\">    42</td><td>Speed                                    </td><td>20th Century Fox                        </td><td>$350,448,145     </td><td style=\"text-align: right;\">  1994</td><td>[# 42]</td></tr>\n",
       "<tr><td style=\"text-align: right;\">    43</td><td>Deep Impact                              </td><td>Paramount Pictures/DreamWorks Pictures  </td><td>$349,464,664     </td><td style=\"text-align: right;\">  1998</td><td>[# 43]</td></tr>\n",
       "<tr><td style=\"text-align: right;\">    44</td><td>Beauty and the Beast                     </td><td>Walt Disney Studios                     </td><td>$346,317,207     </td><td style=\"text-align: right;\">  1991</td><td>[# 44]</td></tr>\n",
       "<tr><td style=\"text-align: right;\">    45</td><td>Pocahontas                               </td><td>Walt Disney Studios                     </td><td>$346,079,773     </td><td style=\"text-align: right;\">  1995</td><td>[# 45]</td></tr>\n",
       "<tr><td style=\"text-align: right;\">    46</td><td>The Flintstones                          </td><td>Universal Pictures                      </td><td>$341,631,208     </td><td style=\"text-align: right;\">  1994</td><td>[# 46]</td></tr>\n",
       "<tr><td style=\"text-align: right;\">    47</td><td>Batman Forever                           </td><td>Warner Bros.                            </td><td>$336,529,144     </td><td style=\"text-align: right;\">  1995</td><td>[# 47]</td></tr>\n",
       "<tr><td style=\"text-align: right;\">    48</td><td>The Rock                                 </td><td>Walt Disney Studios                     </td><td>$335,062,621     </td><td style=\"text-align: right;\">  1996</td><td>[# 48]</td></tr>\n",
       "<tr><td style=\"text-align: right;\">    49</td><td>Tomorrow Never Dies                      </td><td>MGM/United Artists                      </td><td>$333,011,068     </td><td style=\"text-align: right;\">  1997</td><td>[# 49]</td></tr>\n",
       "<tr><td style=\"text-align: right;\">    50</td><td>Seven                                    </td><td>New Line Cinema                         </td><td>$327,311,859     </td><td style=\"text-align: right;\">  1995</td><td>[# 50]</td></tr>\n",
       "</tbody>\n",
       "</table>\n",
       "            </div>\n",
       "        </div>\n",
       "        "
      ],
      "text/plain": [
       "ScenarioList([Scenario({'Rank': 1, 'Title': 'Titanic', 'Studios': 'Paramount Pictures/20th Century Fox', 'Worldwide gross': '$1,843,201,268', 'Year': 1997, 'Ref.': '[# 1]'}), Scenario({'Rank': 2, 'Title': 'Star Wars: Episode I – The Phantom Menace', 'Studios': '20th Century Fox', 'Worldwide gross': '$924,317,558', 'Year': 1999, 'Ref.': '[# 2]'}), Scenario({'Rank': 3, 'Title': 'Jurassic Park', 'Studios': 'Universal Pictures', 'Worldwide gross': '$914,691,118', 'Year': 1993, 'Ref.': '[# 3]'}), Scenario({'Rank': 4, 'Title': 'Independence Day', 'Studios': '20th Century Fox', 'Worldwide gross': '$817,400,891', 'Year': 1996, 'Ref.': '[# 4]'}), Scenario({'Rank': 5, 'Title': 'The Lion King', 'Studios': 'Walt Disney Studios', 'Worldwide gross': '$763,455,561', 'Year': 1994, 'Ref.': '[# 5]'}), Scenario({'Rank': 6, 'Title': 'Forrest Gump', 'Studios': 'Paramount Pictures', 'Worldwide gross': '$677,387,716', 'Year': 1994, 'Ref.': '[# 6]'}), Scenario({'Rank': 7, 'Title': 'The Sixth Sense', 'Studios': 'Walt Disney Studios', 'Worldwide gross': '$672,806,292', 'Year': 1999, 'Ref.': '[# 7]'}), Scenario({'Rank': 8, 'Title': 'The Lost World: Jurassic Park', 'Studios': 'Universal Pictures', 'Worldwide gross': '$618,638,999', 'Year': 1997, 'Ref.': '[# 8]'}), Scenario({'Rank': 9, 'Title': 'Men in Black', 'Studios': 'Sony Pictures/Columbia Pictures', 'Worldwide gross': '$589,390,539', 'Year': 1997, 'Ref.': '[# 9]'}), Scenario({'Rank': 10, 'Title': 'Armageddon', 'Studios': 'Walt Disney Studios', 'Worldwide gross': '$553,709,788', 'Year': 1998, 'Ref.': '[# 10]'}), Scenario({'Rank': 11, 'Title': 'Terminator 2: Judgment Day', 'Studios': 'TriStar Pictures', 'Worldwide gross': '$519,843,345', 'Year': 1991, 'Ref.': '[# 11]'}), Scenario({'Rank': 12, 'Title': 'Ghost', 'Studios': 'Paramount Pictures', 'Worldwide gross': '$505,702,588', 'Year': 1990, 'Ref.': '[# 12]'}), Scenario({'Rank': 13, 'Title': 'Aladdin', 'Studios': 'Walt Disney Studios', 'Worldwide gross': '$504,050,219', 'Year': 1992, 'Ref.': '[# 13]'}), Scenario({'Rank': 14, 'Title': 'Twister', 'Studios': 'Warner Bros./Universal Pictures', 'Worldwide gross': '$494,471,524', 'Year': 1996, 'Ref.': '[# 14]'}), Scenario({'Rank': 15, 'Title': 'Toy Story 2', 'Studios': 'Walt Disney Studios', 'Worldwide gross': '$485,015,179', 'Year': 1999, 'Ref.': '[# 15]'}), Scenario({'Rank': 16, 'Title': 'Saving Private Ryan', 'Studios': 'DreamWorks Pictures/Paramount Pictures', 'Worldwide gross': '$481,840,909', 'Year': 1998, 'Ref.': '[# 16]'}), Scenario({'Rank': 17, 'Title': 'Home Alone', 'Studios': '20th Century Fox', 'Worldwide gross': '$476,684,675', 'Year': 1990, 'Ref.': '[# 17]'}), Scenario({'Rank': 18, 'Title': 'The Matrix', 'Studios': 'Warner Bros.', 'Worldwide gross': '$463,517,383', 'Year': 1999, 'Ref.': '[# 18]'}), Scenario({'Rank': 19, 'Title': 'Pretty Woman', 'Studios': 'Walt Disney Studios', 'Worldwide gross': '$463,406,268', 'Year': 1990, 'Ref.': '[# 19]'}), Scenario({'Rank': 20, 'Title': 'Mission: Impossible', 'Studios': 'Paramount Pictures', 'Worldwide gross': '$457,696,359', 'Year': 1996, 'Ref.': '[# 20]'}), Scenario({'Rank': 21, 'Title': 'Tarzan', 'Studios': 'Walt Disney Studios', 'Worldwide gross': '$448,191,819', 'Year': 1999, 'Ref.': '[# 21]'}), Scenario({'Rank': 22, 'Title': 'Mrs. Doubtfire', 'Studios': '20th Century Fox', 'Worldwide gross': '$441,286,195', 'Year': 1993, 'Ref.': '[# 22]'}), Scenario({'Rank': 23, 'Title': 'Dances with Wolves', 'Studios': 'Orion Pictures', 'Worldwide gross': '$424,208,848', 'Year': 1990, 'Ref.': '[# 23]'}), Scenario({'Rank': 24, 'Title': 'The Mummy', 'Studios': 'Universal Pictures', 'Worldwide gross': '$415,933,406', 'Year': 1999, 'Ref.': '[# 24]'}), Scenario({'Rank': 25, 'Title': 'The Bodyguard', 'Studios': 'Warner Bros.', 'Worldwide gross': '$411,006,740', 'Year': 1992, 'Ref.': '[# 25]'}), Scenario({'Rank': 26, 'Title': 'Robin Hood: Prince of Thieves', 'Studios': 'Warner Bros.', 'Worldwide gross': '$390,493,908', 'Year': 1991, 'Ref.': '[# 26]'}), Scenario({'Rank': 27, 'Title': 'Godzilla', 'Studios': 'TriStar Pictures', 'Worldwide gross': '$379,014,294', 'Year': 1998, 'Ref.': '[# 27]'}), Scenario({'Rank': 28, 'Title': 'True Lies', 'Studios': '20th Century Fox', 'Worldwide gross': '$378,882,411', 'Year': 1994, 'Ref.': '[# 28]'}), Scenario({'Rank': 29, 'Title': 'Toy Story', 'Studios': 'Walt Disney Studios', 'Worldwide gross': '$373,554,033', 'Year': 1995, 'Ref.': '[# 29]'}), Scenario({'Rank': 30, 'Title': \"There's Something About Mary\", 'Studios': '20th Century Fox', 'Worldwide gross': '$369,884,651', 'Year': 1998, 'Ref.': '[# 30]'}), Scenario({'Rank': 31, 'Title': 'The Fugitive', 'Studios': 'Warner Bros.', 'Worldwide gross': '$368,875,760', 'Year': 1993, 'Ref.': '[# 31]'}), Scenario({'Rank': 32, 'Title': 'Die Hard with a Vengeance', 'Studios': '20th Century Fox/Cinergi Pictures', 'Worldwide gross': '$366,101,666', 'Year': 1995, 'Ref.': '[# 32]'}), Scenario({'Rank': 33, 'Title': 'Notting Hill', 'Studios': 'PolyGram Filmed Entertainment', 'Worldwide gross': '$363,889,678', 'Year': 1999, 'Ref.': '[# 33]'}), Scenario({'Rank': 34, 'Title': \"A Bug's Life\", 'Studios': 'Walt Disney Studios', 'Worldwide gross': '$363,398,565', 'Year': 1998, 'Ref.': '[# 34]'}), Scenario({'Rank': 35, 'Title': 'The World Is Not Enough', 'Studios': 'Metro-Goldwyn-Mayer Pictures', 'Worldwide gross': '$361,832,400', 'Year': 1999, 'Ref.': '[# 35]'}), Scenario({'Rank': 36, 'Title': 'Home Alone 2: Lost in New York', 'Studios': '20th Century Fox', 'Worldwide gross': '$358,994,850', 'Year': 1992, 'Ref.': '[# 36]'}), Scenario({'Rank': 37, 'Title': 'American Beauty', 'Studios': 'DreamWorks Pictures', 'Worldwide gross': '$356,296,601', 'Year': 1999, 'Ref.': '[# 37]'}), Scenario({'Rank': 38, 'Title': 'Apollo 13', 'Studios': 'Universal Pictures/Imagine Entertainment', 'Worldwide gross': '$355,237,933', 'Year': 1995, 'Ref.': '[# 38]'}), Scenario({'Rank': 39, 'Title': 'Basic Instinct', 'Studios': 'TriStar Pictures', 'Worldwide gross': '$352,927,224', 'Year': 1992, 'Ref.': '[# 39]'}), Scenario({'Rank': 40, 'Title': 'GoldenEye', 'Studios': 'MGM/United Artists', 'Worldwide gross': '$352,194,034', 'Year': 1995, 'Ref.': '[# 40]'}), Scenario({'Rank': 41, 'Title': 'The Mask', 'Studios': 'New Line Cinema', 'Worldwide gross': '$351,583,407', 'Year': 1994, 'Ref.': '[# 41]'}), Scenario({'Rank': 42, 'Title': 'Speed', 'Studios': '20th Century Fox', 'Worldwide gross': '$350,448,145', 'Year': 1994, 'Ref.': '[# 42]'}), Scenario({'Rank': 43, 'Title': 'Deep Impact', 'Studios': 'Paramount Pictures/DreamWorks Pictures', 'Worldwide gross': '$349,464,664', 'Year': 1998, 'Ref.': '[# 43]'}), Scenario({'Rank': 44, 'Title': 'Beauty and the Beast', 'Studios': 'Walt Disney Studios', 'Worldwide gross': '$346,317,207', 'Year': 1991, 'Ref.': '[# 44]'}), Scenario({'Rank': 45, 'Title': 'Pocahontas', 'Studios': 'Walt Disney Studios', 'Worldwide gross': '$346,079,773', 'Year': 1995, 'Ref.': '[# 45]'}), Scenario({'Rank': 46, 'Title': 'The Flintstones', 'Studios': 'Universal Pictures', 'Worldwide gross': '$341,631,208', 'Year': 1994, 'Ref.': '[# 46]'}), Scenario({'Rank': 47, 'Title': 'Batman Forever', 'Studios': 'Warner Bros.', 'Worldwide gross': '$336,529,144', 'Year': 1995, 'Ref.': '[# 47]'}), Scenario({'Rank': 48, 'Title': 'The Rock', 'Studios': 'Walt Disney Studios', 'Worldwide gross': '$335,062,621', 'Year': 1996, 'Ref.': '[# 48]'}), Scenario({'Rank': 49, 'Title': 'Tomorrow Never Dies', 'Studios': 'MGM/United Artists', 'Worldwide gross': '$333,011,068', 'Year': 1997, 'Ref.': '[# 49]'}), Scenario({'Rank': 50, 'Title': 'Seven', 'Studios': 'New Line Cinema', 'Worldwide gross': '$327,311,859', 'Year': 1995, 'Ref.': '[# 50]'})])"
      ]
     },
     "execution_count": 3,
     "metadata": {},
     "output_type": "execute_result"
    }
   ],
   "source": [
    "scenarios"
   ]
  },
  {
   "cell_type": "code",
   "execution_count": 4,
   "id": "35f96e50-0cfd-4adc-82c0-41977fac6b5c",
   "metadata": {
    "editable": true,
    "slideshow": {
     "slide_type": ""
    },
    "tags": []
   },
   "outputs": [
    {
     "data": {
      "text/plain": [
       "{'Rank', 'Ref.', 'Studios', 'Title', 'Worldwide gross', 'Year'}"
      ]
     },
     "execution_count": 4,
     "metadata": {},
     "output_type": "execute_result"
    }
   ],
   "source": [
    "scenarios.parameters"
   ]
  },
  {
   "cell_type": "code",
   "execution_count": 5,
   "id": "b7955b4c-2e9b-4548-9427-c6be13eb111e",
   "metadata": {
    "editable": true,
    "slideshow": {
     "slide_type": ""
    },
    "tags": []
   },
   "outputs": [
    {
     "data": {
      "text/html": [
       "\n",
       "        <style>\n",
       "            :root {\n",
       "  --containerHeight: 400px;\n",
       "  --headerColor: blue;\n",
       "}\n",
       "\n",
       ".table-container {\n",
       "    height: var(--containerHeight) !important;\n",
       "    width: 100%;\n",
       "    overflow: auto;  /* This enables both horizontal and vertical scrolling */\n",
       "    border: 1px solid #d4d4d4;\n",
       "    background: transparent;\n",
       "    position: relative;  /* Create stacking context for sticky header */\n",
       "}\n",
       "\n",
       ".scroll-table {\n",
       "    /* Remove width: 100% to prevent table from being constrained */\n",
       "    /* min-width: 100% ensures table takes at least full container width */\n",
       "    min-width: 100%;\n",
       "    border-collapse: separate;\n",
       "    border-spacing: 4px;\n",
       "    background: transparent;\n",
       "    table-layout: auto;  /* Allow table to size based on content */\n",
       "}\n",
       "\n",
       ".scroll-table th {\n",
       "    background: transparent;  /* Semi-transparent background to ensure text readability */\n",
       "    position: sticky;\n",
       "    top: 0;\n",
       "    z-index: 1;\n",
       "    text-align: left !important;\n",
       "    padding: 8px;\n",
       "    font-weight: bold;\n",
       "    white-space: nowrap;  /* Prevent header text from wrapping */\n",
       "    min-width: 100px;    /* Ensure minimum column width */\n",
       "    backdrop-filter: blur(8px);  /* Optional: adds extra clarity */\n",
       "    color: var(--headerColor);\n",
       "}\n",
       "\n",
       ".scroll-table td {\n",
       "    padding: 8px;\n",
       "    text-align: left !important;\n",
       "    white-space: pre-wrap;\n",
       "    word-wrap: break-word;\n",
       "    vertical-align: top;\n",
       "    color: inherit;\n",
       "    border-bottom: none;\n",
       "    background: transparent;\n",
       "    min-width: 100px;    /* Match header minimum width */\n",
       "}\n",
       "\n",
       ".scroll-table tbody tr:hover {\n",
       "    background: transparent;\n",
       "}\n",
       "\n",
       "/* Additional rule to ensure header background is truly transparent */\n",
       ".scroll-table thead tr {\n",
       "    background: transparent !important;\n",
       "}\n",
       "\n",
       "/* Add shadow to indicate scrollable content */\n",
       ".table-container::after {\n",
       "    content: '';\n",
       "    position: absolute;\n",
       "    top: 0;\n",
       "    right: 0;\n",
       "    bottom: 0;\n",
       "    width: 5px;\n",
       "    background: linear-gradient(to right, transparent, rgba(242, 6, 6, 0.1));\n",
       "    pointer-events: none;\n",
       "    opacity: 0;\n",
       "    transition: opacity 0.3s;\n",
       "}\n",
       "\n",
       ".table-container:hover::after {\n",
       "    opacity: 1;\n",
       "}\n",
       "\n",
       "/* Handle Jupyter notebook specific styling */\n",
       ".jp-OutputArea-output .table-container {\n",
       "    max-width: 100%;\n",
       "    margin: 0;\n",
       "    overflow-x: auto;\n",
       "}\n",
       "        </style>\n",
       "        <div class=\"table-container\">\n",
       "            <div class=\"scroll-table-wrapper\">\n",
       "                <table class=\"scroll-table\">\n",
       "<thead>\n",
       "<tr><th>scenario.Title                           </th><th>answer.leads                                                                                                               </th></tr>\n",
       "</thead>\n",
       "<tbody>\n",
       "<tr><td>A Bug&#x27;s Life                             </td><td>[&#x27;Dave Foley&#x27;, &#x27;Kevin Spacey&#x27;, &#x27;Julia Louis-Dreyfus&#x27;, &#x27;Hayden Panettiere&#x27;]                                                 </td></tr>\n",
       "<tr><td>Aladdin                                  </td><td>[&#x27;Mena Massoud&#x27;, &#x27;Naomi Scott&#x27;, &#x27;Will Smith&#x27;]                                                                              </td></tr>\n",
       "<tr><td>American Beauty                          </td><td>[&#x27;Kevin Spacey&#x27;, &#x27;Annette Bening&#x27;, &#x27;Thora Birch&#x27;, &#x27;Wes Bentley&#x27;, &#x27;Mena Suvari&#x27;]                                            </td></tr>\n",
       "<tr><td>Apollo 13                                </td><td>[&#x27;Tom Hanks&#x27;, &#x27;Bill Paxton&#x27;, &#x27;Kevin Bacon&#x27;]                                                                                </td></tr>\n",
       "<tr><td>Armageddon                               </td><td>[&#x27;Bruce Willis&#x27;, &#x27;Ben Affleck&#x27;, &#x27;Liv Tyler&#x27;, &#x27;Billy Bob Thornton&#x27;]                                                         </td></tr>\n",
       "<tr><td>Basic Instinct                           </td><td>[&#x27;Michael Douglas&#x27;, &#x27;Sharon Stone&#x27;]                                                                                        </td></tr>\n",
       "<tr><td>Batman Forever                           </td><td>[&#x27;Val Kilmer&#x27;, &#x27;Tommy Lee Jones&#x27;, &#x27;Jim Carrey&#x27;, &#x27;Nicole Kidman&#x27;, &quot;Chris O&#x27;Donnell&quot;]                                        </td></tr>\n",
       "<tr><td>Beauty and the Beast                     </td><td>[&#x27;Emma Watson&#x27;, &#x27;Dan Stevens&#x27;]                                                                                             </td></tr>\n",
       "<tr><td>Dances with Wolves                       </td><td>[&#x27;Kevin Costner&#x27;, &#x27;Mary McDonnell&#x27;, &#x27;Graham Greene&#x27;, &#x27;Rodney A. Grant&#x27;]                                                    </td></tr>\n",
       "<tr><td>Deep Impact                              </td><td>[&#x27;Robert Duvall&#x27;, &#x27;Téa Leoni&#x27;, &#x27;Elijah Wood&#x27;, &#x27;Morgan Freeman&#x27;, &#x27;Vanessa Redgrave&#x27;]                                        </td></tr>\n",
       "<tr><td>Die Hard with a Vengeance                </td><td>[&#x27;Bruce Willis&#x27;, &#x27;Samuel L. Jackson&#x27;, &#x27;Jeremy Irons&#x27;]                                                                      </td></tr>\n",
       "<tr><td>Forrest Gump                             </td><td>[&#x27;Tom Hanks&#x27;, &#x27;Robin Wright&#x27;, &#x27;Gary Sinise&#x27;, &#x27;Sally Field&#x27;, &#x27;Mykelti Williamson&#x27;]                                          </td></tr>\n",
       "<tr><td>Ghost                                    </td><td>[&#x27;Patrick Swayze&#x27;, &#x27;Demi Moore&#x27;, &#x27;Whoopi Goldberg&#x27;]                                                                        </td></tr>\n",
       "<tr><td>Godzilla                                 </td><td>[&#x27;Aaron Taylor-Johnson&#x27;, &#x27;Elizabeth Olsen&#x27;, &#x27;Bryan Cranston&#x27;]                                                              </td></tr>\n",
       "<tr><td>GoldenEye                                </td><td>[&#x27;Pierce Brosnan&#x27;, &#x27;Sean Bean&#x27;, &#x27;Izabella Scorupco&#x27;, &#x27;Famke Janssen&#x27;]                                                      </td></tr>\n",
       "<tr><td>Home Alone                               </td><td>[&#x27;Macaulay Culkin&#x27;, &#x27;Joe Pesci&#x27;, &#x27;Daniel Stern&#x27;, &quot;Catherine O&#x27;Hara&quot;, &#x27;John Heard&#x27;]                                         </td></tr>\n",
       "<tr><td>Home Alone 2: Lost in New York           </td><td>[&#x27;Macaulay Culkin&#x27;, &#x27;Joe Pesci&#x27;, &#x27;Daniel Stern&#x27;, &quot;Catherine O&#x27;Hara&quot;, &#x27;John Heard&#x27;]                                         </td></tr>\n",
       "<tr><td>Independence Day                         </td><td>[&#x27;Will Smith&#x27;, &#x27;Bill Pullman&#x27;, &#x27;Jeff Goldblum&#x27;]                                                                            </td></tr>\n",
       "<tr><td>Jurassic Park                            </td><td>[&#x27;Sam Neill&#x27;, &#x27;Laura Dern&#x27;, &#x27;Jeff Goldblum&#x27;, &#x27;Richard Attenborough&#x27;]                                                       </td></tr>\n",
       "<tr><td>Men in Black                             </td><td>[&#x27;Will Smith&#x27;, &#x27;Tommy Lee Jones&#x27;]                                                                                          </td></tr>\n",
       "<tr><td>Mission: Impossible                      </td><td>[&#x27;Tom Cruise&#x27;]                                                                                                             </td></tr>\n",
       "<tr><td>Mrs. Doubtfire                           </td><td>[&#x27;Robin Williams&#x27;, &#x27;Sally Field&#x27;, &#x27;Pierce Brosnan&#x27;, &#x27;Harvey Fierstein&#x27;, &#x27;Lisa Jakub&#x27;]                                      </td></tr>\n",
       "<tr><td>Notting Hill                             </td><td>[&#x27;Hugh Grant&#x27;, &#x27;Julia Roberts&#x27;]                                                                                            </td></tr>\n",
       "<tr><td>Pocahontas                               </td><td>[&#x27;Irene Bedard&#x27;, &#x27;Mel Gibson&#x27;]                                                                                             </td></tr>\n",
       "<tr><td>Pretty Woman                             </td><td>[&#x27;Richard Gere&#x27;, &#x27;Julia Roberts&#x27;]                                                                                          </td></tr>\n",
       "<tr><td>Robin Hood: Prince of Thieves            </td><td>[&#x27;Kevin Costner&#x27;, &#x27;Morgan Freeman&#x27;, &#x27;Mary Elizabeth Mastrantonio&#x27;, &#x27;Christian Slater&#x27;, &#x27;Alan Rickman&#x27;]                     </td></tr>\n",
       "<tr><td>Saving Private Ryan                      </td><td>[&#x27;Tom Hanks&#x27;, &#x27;Matt Damon&#x27;, &#x27;Edward Burns&#x27;, &#x27;Tom Sizemore&#x27;, &#x27;Barry Pepper&#x27;]                                                </td></tr>\n",
       "<tr><td>Seven                                    </td><td>[&#x27;Brad Pitt&#x27;, &#x27;Morgan Freeman&#x27;, &#x27;Gwyneth Paltrow&#x27;]                                                                         </td></tr>\n",
       "<tr><td>Speed                                    </td><td>[&#x27;Keanu Reeves&#x27;, &#x27;Sandra Bullock&#x27;, &#x27;Dennis Hopper&#x27;]                                                                        </td></tr>\n",
       "<tr><td>Star Wars: Episode I – The Phantom Menace</td><td>[&#x27;Liam Neeson&#x27;, &#x27;Ewan McGregor&#x27;, &#x27;Natalie Portman&#x27;, &#x27;Jake Lloyd&#x27;]                                                          </td></tr>\n",
       "<tr><td>Tarzan                                   </td><td>[&#x27;Johnny Weissmuller&#x27;, &quot;Maureen O&#x27;Sullivan&quot;, &#x27;Tony Goldwyn&#x27;, &#x27;Minnie Driver&#x27;]                                              </td></tr>\n",
       "<tr><td>Terminator 2: Judgment Day               </td><td>[&#x27;Arnold Schwarzenegger&#x27;, &#x27;Linda Hamilton&#x27;, &#x27;Edward Furlong&#x27;, &#x27;Robert Patrick&#x27;]                                            </td></tr>\n",
       "<tr><td>The Bodyguard                            </td><td>[&#x27;Kevin Costner&#x27;, &#x27;Whitney Houston&#x27;]                                                                                       </td></tr>\n",
       "<tr><td>The Flintstones                          </td><td>[&#x27;John Goodman&#x27;, &#x27;Elizabeth Perkins&#x27;, &#x27;Rick Moranis&#x27;, &quot;Rosie O&#x27;Donnell&quot;]                                                   </td></tr>\n",
       "<tr><td>The Fugitive                             </td><td>[&#x27;Harrison Ford&#x27;, &#x27;Tommy Lee Jones&#x27;]                                                                                       </td></tr>\n",
       "<tr><td>The Lion King                            </td><td>[&#x27;Matthew Broderick&#x27;, &#x27;James Earl Jones&#x27;, &#x27;Jeremy Irons&#x27;, &#x27;Moira Kelly&#x27;, &#x27;Nathan Lane&#x27;, &#x27;Ernie Sabella&#x27;, &#x27;Whoopi Goldberg&#x27;]</td></tr>\n",
       "<tr><td>The Lost World: Jurassic Park            </td><td>[&#x27;Jeff Goldblum&#x27;, &#x27;Julianne Moore&#x27;, &#x27;Vince Vaughn&#x27;]                                                                        </td></tr>\n",
       "<tr><td>The Mask                                 </td><td>[&#x27;Jim Carrey&#x27;, &#x27;Cameron Diaz&#x27;]                                                                                             </td></tr>\n",
       "<tr><td>The Matrix                               </td><td>[&#x27;Keanu Reeves&#x27;, &#x27;Laurence Fishburne&#x27;, &#x27;Carrie-Anne Moss&#x27;, &#x27;Hugo Weaving&#x27;]                                                 </td></tr>\n",
       "<tr><td>The Mummy                                </td><td>[&#x27;Brendan Fraser&#x27;, &#x27;Rachel Weisz&#x27;, &#x27;John Hannah&#x27;, &#x27;Arnold Vosloo&#x27;]                                                         </td></tr>\n",
       "<tr><td>The Rock                                 </td><td>[&#x27;Sean Connery&#x27;, &#x27;Nicolas Cage&#x27;, &#x27;Ed Harris&#x27;]                                                                              </td></tr>\n",
       "<tr><td>The Sixth Sense                          </td><td>[&#x27;Bruce Willis&#x27;, &#x27;Haley Joel Osment&#x27;, &#x27;Toni Collette&#x27;]                                                                     </td></tr>\n",
       "<tr><td>The World Is Not Enough                  </td><td>[&#x27;Pierce Brosnan&#x27;, &#x27;Sophie Marceau&#x27;, &#x27;Robert Carlyle&#x27;, &#x27;Denise Richards&#x27;]                                                  </td></tr>\n",
       "<tr><td>There&#x27;s Something About Mary             </td><td>[&#x27;Cameron Diaz&#x27;, &#x27;Ben Stiller&#x27;, &#x27;Matt Dillon&#x27;]                                                                             </td></tr>\n",
       "<tr><td>Titanic                                  </td><td>[&#x27;Leonardo DiCaprio&#x27;, &#x27;Kate Winslet&#x27;]                                                                                      </td></tr>\n",
       "<tr><td>Tomorrow Never Dies                      </td><td>[&#x27;Pierce Brosnan&#x27;, &#x27;Michelle Yeoh&#x27;, &#x27;Teri Hatcher&#x27;]                                                                        </td></tr>\n",
       "<tr><td>Toy Story                                </td><td>[&#x27;Tom Hanks&#x27;, &#x27;Tim Allen&#x27;]                                                                                                 </td></tr>\n",
       "<tr><td>Toy Story 2                              </td><td>[&#x27;Tom Hanks&#x27;, &#x27;Tim Allen&#x27;, &#x27;Joan Cusack&#x27;]                                                                                  </td></tr>\n",
       "<tr><td>True Lies                                </td><td>[&#x27;Arnold Schwarzenegger&#x27;, &#x27;Jamie Lee Curtis&#x27;]                                                                              </td></tr>\n",
       "<tr><td>Twister                                  </td><td>[&#x27;Helen Hunt&#x27;, &#x27;Bill Paxton&#x27;]                                                                                              </td></tr>\n",
       "</tbody>\n",
       "</table>\n",
       "            </div>\n",
       "        </div>\n",
       "        "
      ],
      "text/plain": [
       "Dataset([{'scenario.Title': [\"A Bug's Life\", 'Aladdin', 'American Beauty', 'Apollo 13', 'Armageddon', 'Basic Instinct', 'Batman Forever', 'Beauty and the Beast', 'Dances with Wolves', 'Deep Impact', 'Die Hard with a Vengeance', 'Forrest Gump', 'Ghost', 'Godzilla', 'GoldenEye', 'Home Alone', 'Home Alone 2: Lost in New York', 'Independence Day', 'Jurassic Park', 'Men in Black', 'Mission: Impossible', 'Mrs. Doubtfire', 'Notting Hill', 'Pocahontas', 'Pretty Woman', 'Robin Hood: Prince of Thieves', 'Saving Private Ryan', 'Seven', 'Speed', 'Star Wars: Episode I – The Phantom Menace', 'Tarzan', 'Terminator 2: Judgment Day', 'The Bodyguard', 'The Flintstones', 'The Fugitive', 'The Lion King', 'The Lost World: Jurassic Park', 'The Mask', 'The Matrix', 'The Mummy', 'The Rock', 'The Sixth Sense', 'The World Is Not Enough', \"There's Something About Mary\", 'Titanic', 'Tomorrow Never Dies', 'Toy Story', 'Toy Story 2', 'True Lies', 'Twister']}, {'answer.leads': [['Dave Foley', 'Kevin Spacey', 'Julia Louis-Dreyfus', 'Hayden Panettiere'], ['Mena Massoud', 'Naomi Scott', 'Will Smith'], ['Kevin Spacey', 'Annette Bening', 'Thora Birch', 'Wes Bentley', 'Mena Suvari'], ['Tom Hanks', 'Bill Paxton', 'Kevin Bacon'], ['Bruce Willis', 'Ben Affleck', 'Liv Tyler', 'Billy Bob Thornton'], ['Michael Douglas', 'Sharon Stone'], ['Val Kilmer', 'Tommy Lee Jones', 'Jim Carrey', 'Nicole Kidman', \"Chris O'Donnell\"], ['Emma Watson', 'Dan Stevens'], ['Kevin Costner', 'Mary McDonnell', 'Graham Greene', 'Rodney A. Grant'], ['Robert Duvall', 'Téa Leoni', 'Elijah Wood', 'Morgan Freeman', 'Vanessa Redgrave'], ['Bruce Willis', 'Samuel L. Jackson', 'Jeremy Irons'], ['Tom Hanks', 'Robin Wright', 'Gary Sinise', 'Sally Field', 'Mykelti Williamson'], ['Patrick Swayze', 'Demi Moore', 'Whoopi Goldberg'], ['Aaron Taylor-Johnson', 'Elizabeth Olsen', 'Bryan Cranston'], ['Pierce Brosnan', 'Sean Bean', 'Izabella Scorupco', 'Famke Janssen'], ['Macaulay Culkin', 'Joe Pesci', 'Daniel Stern', \"Catherine O'Hara\", 'John Heard'], ['Macaulay Culkin', 'Joe Pesci', 'Daniel Stern', \"Catherine O'Hara\", 'John Heard'], ['Will Smith', 'Bill Pullman', 'Jeff Goldblum'], ['Sam Neill', 'Laura Dern', 'Jeff Goldblum', 'Richard Attenborough'], ['Will Smith', 'Tommy Lee Jones'], ['Tom Cruise'], ['Robin Williams', 'Sally Field', 'Pierce Brosnan', 'Harvey Fierstein', 'Lisa Jakub'], ['Hugh Grant', 'Julia Roberts'], ['Irene Bedard', 'Mel Gibson'], ['Richard Gere', 'Julia Roberts'], ['Kevin Costner', 'Morgan Freeman', 'Mary Elizabeth Mastrantonio', 'Christian Slater', 'Alan Rickman'], ['Tom Hanks', 'Matt Damon', 'Edward Burns', 'Tom Sizemore', 'Barry Pepper'], ['Brad Pitt', 'Morgan Freeman', 'Gwyneth Paltrow'], ['Keanu Reeves', 'Sandra Bullock', 'Dennis Hopper'], ['Liam Neeson', 'Ewan McGregor', 'Natalie Portman', 'Jake Lloyd'], ['Johnny Weissmuller', \"Maureen O'Sullivan\", 'Tony Goldwyn', 'Minnie Driver'], ['Arnold Schwarzenegger', 'Linda Hamilton', 'Edward Furlong', 'Robert Patrick'], ['Kevin Costner', 'Whitney Houston'], ['John Goodman', 'Elizabeth Perkins', 'Rick Moranis', \"Rosie O'Donnell\"], ['Harrison Ford', 'Tommy Lee Jones'], ['Matthew Broderick', 'James Earl Jones', 'Jeremy Irons', 'Moira Kelly', 'Nathan Lane', 'Ernie Sabella', 'Whoopi Goldberg'], ['Jeff Goldblum', 'Julianne Moore', 'Vince Vaughn'], ['Jim Carrey', 'Cameron Diaz'], ['Keanu Reeves', 'Laurence Fishburne', 'Carrie-Anne Moss', 'Hugo Weaving'], ['Brendan Fraser', 'Rachel Weisz', 'John Hannah', 'Arnold Vosloo'], ['Sean Connery', 'Nicolas Cage', 'Ed Harris'], ['Bruce Willis', 'Haley Joel Osment', 'Toni Collette'], ['Pierce Brosnan', 'Sophie Marceau', 'Robert Carlyle', 'Denise Richards'], ['Cameron Diaz', 'Ben Stiller', 'Matt Dillon'], ['Leonardo DiCaprio', 'Kate Winslet'], ['Pierce Brosnan', 'Michelle Yeoh', 'Teri Hatcher'], ['Tom Hanks', 'Tim Allen'], ['Tom Hanks', 'Tim Allen', 'Joan Cusack'], ['Arnold Schwarzenegger', 'Jamie Lee Curtis'], ['Helen Hunt', 'Bill Paxton']]}])"
      ]
     },
     "execution_count": 5,
     "metadata": {},
     "output_type": "execute_result"
    }
   ],
   "source": [
    "from edsl import QuestionList\n",
    "\n",
    "q_leads = QuestionList(\n",
    "    question_name = \"leads\",\n",
    "    question_text = \"Who are the lead actors or actresses in {{ Title }}?\"\n",
    ")\n",
    "\n",
    "results = q_leads.by(scenarios).run()\n",
    "\n",
    "(\n",
    "    results\n",
    "    .sort_by(\"Title\")\n",
    "    .select(\"Title\", \"leads\")\n",
    ")"
   ]
  },
  {
   "cell_type": "markdown",
   "id": "920f4021-593d-4db2-aef6-04da2548e427",
   "metadata": {
    "editable": true,
    "slideshow": {
     "slide_type": ""
    },
    "tags": []
   },
   "source": [
    "## Posting to the Coop"
   ]
  },
  {
   "cell_type": "code",
   "execution_count": 6,
   "id": "a89b1310-3887-42f8-9513-01b0c5b21ed6",
   "metadata": {
    "editable": true,
    "slideshow": {
     "slide_type": ""
    },
    "tags": [
     "skip-execution"
    ]
   },
   "outputs": [
    {
     "data": {
      "text/plain": [
       "{'description': 'Wikipedia: 1990s in film - List of worldwide highest-grossing films',\n",
       " 'object_type': 'scenario_list',\n",
       " 'url': 'https://www.expectedparrot.com/content/a49fe6b4-5638-46e7-aa44-7c970c50975e',\n",
       " 'uuid': 'a49fe6b4-5638-46e7-aa44-7c970c50975e',\n",
       " 'version': '0.1.39.dev1',\n",
       " 'visibility': 'public'}"
      ]
     },
     "execution_count": 6,
     "metadata": {},
     "output_type": "execute_result"
    }
   ],
   "source": [
    "scenarios.push(description = \"Wikipedia: 1990s in film - List of worldwide highest-grossing films\", visibility = \"public\")"
   ]
  },
  {
   "cell_type": "code",
   "execution_count": 7,
   "id": "a23a4f5f-7156-4f98-9283-cfe5a273fe30",
   "metadata": {
    "editable": true,
    "slideshow": {
     "slide_type": ""
    },
    "tags": [
     "skip-execution"
    ]
   },
   "outputs": [],
   "source": [
    "from edsl import Notebook"
   ]
  },
  {
   "cell_type": "code",
   "execution_count": 8,
   "id": "51a68cf6-36d5-4e5c-9bc6-9c7dc3535738",
   "metadata": {
    "editable": true,
    "slideshow": {
     "slide_type": ""
    },
    "tags": [
     "skip-execution"
    ]
   },
   "outputs": [],
   "source": [
    "n = Notebook(path = \"scenario_list_wikipedia.ipynb\")"
   ]
  },
  {
   "cell_type": "code",
   "execution_count": 9,
   "id": "9b47232b-1235-4778-85a2-df2e00fa689c",
   "metadata": {
    "editable": true,
    "slideshow": {
     "slide_type": ""
    },
    "tags": [
     "skip-execution"
    ]
   },
   "outputs": [],
   "source": [
    "info = n.push(description = \"Example code for generating scenarios from Wikipedia tables\", visibility = \"public\")"
   ]
  },
  {
   "cell_type": "markdown",
   "id": "9a061eb4-dea6-4543-a9f5-bb35b0e9f0d6",
   "metadata": {
    "editable": true,
    "slideshow": {
     "slide_type": ""
    },
    "tags": []
   },
   "source": [
    "## Updating an object at the Coop"
   ]
  },
  {
   "cell_type": "code",
   "execution_count": 10,
   "id": "e248187c-0077-4596-b482-cb674e5ed966",
   "metadata": {
    "editable": true,
    "slideshow": {
     "slide_type": ""
    },
    "tags": [
     "skip-execution"
    ]
   },
   "outputs": [],
   "source": [
    "n = Notebook(path = \"scenario_list_wikipedia.ipynb\")"
   ]
  },
  {
   "cell_type": "code",
   "execution_count": 11,
   "id": "d630ef0c-82f1-401a-83f5-43e74d9b1f75",
   "metadata": {
    "editable": true,
    "slideshow": {
     "slide_type": ""
    },
    "tags": [
     "skip-execution"
    ]
   },
   "outputs": [
    {
     "data": {
      "text/plain": [
       "{'status': 'success'}"
      ]
     },
     "execution_count": 11,
     "metadata": {},
     "output_type": "execute_result"
    }
   ],
   "source": [
    "n.patch(info[\"uuid\"], value = n)"
   ]
  }
 ],
 "metadata": {
  "kernelspec": {
   "display_name": "Python 3 (ipykernel)",
   "language": "python",
   "name": "python3"
  },
  "language_info": {
   "codemirror_mode": {
    "name": "ipython",
    "version": 3
   },
   "file_extension": ".py",
   "mimetype": "text/x-python",
   "name": "python",
   "nbconvert_exporter": "python",
   "pygments_lexer": "ipython3",
   "version": "3.11.7"
  }
 },
 "nbformat": 4,
 "nbformat_minor": 5
}
