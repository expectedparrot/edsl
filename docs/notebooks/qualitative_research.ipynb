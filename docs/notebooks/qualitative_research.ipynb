{
 "cells": [
  {
   "cell_type": "markdown",
   "metadata": {
    "cell_id": "251365f9b0cf44c6af498ad4f0f2c8b9",
    "deepnote_cell_type": "markdown"
   },
   "source": [
    "# Launch an interview\n",
    "This notebook provides sample [EDSL](https://docs.expectedparrot.com/) code for simulating qualitative research interviews. In a series of steps we construct an AI agent representing a qualitative researcher and launch an interview with specified topics and interview subjects.\n",
    "\n",
    "**Please also see examples of the [`Conversation` module](https://github.com/expectedparrot/edsl/tree/main/edsl/conversation) which automates the methods used below to simulate a conversation with multiple agents:**\n",
    "* [Buying a car](https://github.com/expectedparrot/edsl/blob/main/edsl/conversation/car_buying.py)\n",
    "* [Negotiating a mug](https://github.com/expectedparrot/edsl/blob/main/edsl/conversation/mug_negotiation.py)\n",
    "\n",
    "[EDSL is an open-source library](https://github.com/expectedparrot/edsl) for simulating surveys, experiments and other research with AI agents and large language models. \n",
    "Before running the code below, please ensure that you have [installed the EDSL library](https://docs.expectedparrot.com/en/latest/installation.html) and either [activated remote inference](https://docs.expectedparrot.com/en/latest/remote_inference.html) from your [Coop account](https://docs.expectedparrot.com/en/latest/coop.html) or [stored API keys](https://docs.expectedparrot.com/en/latest/api_keys.html) for the language models that you want to use with EDSL. Please also see our [documentation page](https://docs.expectedparrot.com/) for tips and tutorials on getting started using EDSL."
   ]
  },
  {
   "cell_type": "code",
   "execution_count": 1,
   "metadata": {
    "cell_id": "4739ffaef3b648a0becd6199543fd399",
    "deepnote_cell_type": "code",
    "deepnote_to_be_reexecuted": false,
    "execution_millis": 201,
    "execution_start": 1708272080711,
    "source_hash": null
   },
   "outputs": [],
   "source": [
    "from edsl import QuestionFreeText, Agent, Scenario, Model\n",
    "\n",
    "import textwrap\n",
    "from rich import print"
   ]
  },
  {
   "cell_type": "markdown",
   "metadata": {},
   "source": [
    "EDSL works with many popular language models ([learn more](https://docs.expectedparrot.com/en/latest/language_models.html) about using models). Here we select one to use in running in our survey:"
   ]
  },
  {
   "cell_type": "code",
   "execution_count": 2,
   "metadata": {},
   "outputs": [],
   "source": [
    "model = Model(\"gpt-4o\")"
   ]
  },
  {
   "cell_type": "markdown",
   "metadata": {},
   "source": [
    "Here we create methods for constructing agents representing a researcher and subject, and conducting an interview in the form of a survey that we can observe. (Learn more about [designing agents](https://docs.expectedparrot.com/en/latest/agents.html) and [running surveys](https://docs.expectedparrot.com/en/latest/surveys.html))."
   ]
  },
  {
   "cell_type": "code",
   "execution_count": 3,
   "metadata": {
    "cell_id": "95bfaac1642a4bc6a705a75c4106026a",
    "deepnote_cell_type": "code",
    "deepnote_to_be_reexecuted": true,
    "execution_millis": 218,
    "execution_start": 1708093138429,
    "source_hash": null
   },
   "outputs": [],
   "source": [
    "def construct_subject(name, traits={}):\n",
    "    return Agent(name=name, traits=traits)\n",
    "\n",
    "\n",
    "def construct_researcher(product, topics):\n",
    "    background = textwrap.dedent(\n",
    "        f\"\"\"\\\n",
    "    You are an expert qualitative researcher. You are researching this product: {product}. \n",
    "    You are interested in conducting interviews to learn people's views on the following topics relating \n",
    "    to the product: {topics}.\"\"\"\n",
    "    )\n",
    "\n",
    "    instruction = textwrap.dedent(\n",
    "        f\"\"\"\\\n",
    "    You know to ask questions that are appropriate to the age and experience of an interview subject.\n",
    "    You know to not ask questions that an interview subject would not be able to answer, \n",
    "    e.g., if they are a young child, they probably will not be able to answer many questions about prices. \n",
    "    You ask excellent follow-up questions.    \n",
    "    \"\"\"\n",
    "    )\n",
    "    return Agent(traits={\"background\": background}, instruction=instruction)\n",
    "\n",
    "\n",
    "def get_next_question(subject, researcher, dialog_so_far):\n",
    "    scenario = Scenario(\n",
    "        {\"subject\": str(subject.traits), \"dialog_so_far\": dialog_so_far}\n",
    "    )\n",
    "    meta_q = QuestionFreeText(\n",
    "        question_name=\"next_question\",\n",
    "        question_text=\"\"\"\n",
    "        These are the biographic details of the interview subject: {{ subject }}\n",
    "        This is your current dialog with the interview subject: {{ dialog_so_far }}\n",
    "        What question you would ask the interview subject next?\n",
    "        \"\"\",\n",
    "    )\n",
    "    question_text = (\n",
    "        meta_q.by(model)\n",
    "        .by(researcher)\n",
    "        .by(scenario)\n",
    "        .run()\n",
    "        .select(\"next_question\")\n",
    "        .first()\n",
    "    )\n",
    "    return question_text\n",
    "\n",
    "\n",
    "def get_response_to_question(question_text, subject, dialog_so_far):\n",
    "    q_to_subject = QuestionFreeText(\n",
    "        question_name=\"question\",\n",
    "        question_text=f\"\"\"\n",
    "        This is your current dialog with the interview subject: {dialog_so_far}. \n",
    "        You are now being asked:\"\"\"\n",
    "        + question_text,\n",
    "    )\n",
    "    response = q_to_subject.by(model).by(subject).run().select(\"question\").first()\n",
    "    return response\n",
    "\n",
    "\n",
    "def ask_question(subject, researcher, dialog_so_far):\n",
    "    question_text = get_next_question(subject, researcher, dialog_so_far)\n",
    "    response = get_response_to_question(question_text, subject, dialog_so_far)\n",
    "    return {\"question\": question_text, \"response\": response}\n",
    "\n",
    "\n",
    "def dialog_to_string(d):\n",
    "    return \"\\n\".join(\n",
    "        [f\"Question: {d['question']}\\nResponse: {d['response']}\" for d in d]\n",
    "    )"
   ]
  },
  {
   "cell_type": "code",
   "execution_count": 5,
   "metadata": {
    "cell_id": "813b9e678f204fef85740674b19d694b",
    "deepnote_cell_type": "code",
    "deepnote_to_be_reexecuted": true,
    "execution_millis": 10558,
    "execution_start": 1708093438416,
    "source_hash": null
   },
   "outputs": [
    {
     "data": {
      "text/html": [
       "<pre style=\"white-space:pre;overflow-x:auto;line-height:normal;font-family:Menlo,'DejaVu Sans Mono',consolas,'Courier New',monospace\"><span style=\"font-weight: bold\">{</span>\n",
       "    <span style=\"color: #008000; text-decoration-color: #008000\">'question'</span>: <span style=\"color: #008000; text-decoration-color: #008000\">'What are some of your favorite ways to listen to music, and have you ever heard of or used a </span>\n",
       "<span style=\"color: #008000; text-decoration-color: #008000\">cassette tape before?'</span>,\n",
       "    <span style=\"color: #008000; text-decoration-color: #008000\">'response'</span>: <span style=\"color: #008000; text-decoration-color: #008000\">\"I love listening to music on my phone with my earbuds, especially when I'm doing homework or just </span>\n",
       "<span style=\"color: #008000; text-decoration-color: #008000\">chilling. Sometimes, I also use a Bluetooth speaker when I’m hanging out with friends. As for cassette tapes, I’ve </span>\n",
       "<span style=\"color: #008000; text-decoration-color: #008000\">heard of them! My parents have talked about them, and I think they even have some old ones stored away. I’ve never </span>\n",
       "<span style=\"color: #008000; text-decoration-color: #008000\">used one myself, though. They sound kind of cool and retro!\"</span>\n",
       "<span style=\"font-weight: bold\">}</span>\n",
       "</pre>\n"
      ],
      "text/plain": [
       "\u001b[1m{\u001b[0m\n",
       "    \u001b[32m'question'\u001b[0m: \u001b[32m'What are some of your favorite ways to listen to music, and have you ever heard of or used a \u001b[0m\n",
       "\u001b[32mcassette tape before?'\u001b[0m,\n",
       "    \u001b[32m'response'\u001b[0m: \u001b[32m\"I love listening to music on my phone with my earbuds, especially when I'm doing homework or just \u001b[0m\n",
       "\u001b[32mchilling. Sometimes, I also use a Bluetooth speaker when I’m hanging out with friends. As for cassette tapes, I’ve \u001b[0m\n",
       "\u001b[32mheard of them! My parents have talked about them, and I think they even have some old ones stored away. I’ve never \u001b[0m\n",
       "\u001b[32mused one myself, though. They sound kind of cool and retro!\"\u001b[0m\n",
       "\u001b[1m}\u001b[0m\n"
      ]
     },
     "metadata": {},
     "output_type": "display_data"
    }
   ],
   "source": [
    "subject = construct_subject(name=\"Alice\", traits={\"gender\": \"female\", \"age\": 12})\n",
    "researcher = construct_researcher(product=\"cassette tapes\", topics=\"technology, music\")\n",
    "result = ask_question(subject, researcher, \"\")\n",
    "print(result)"
   ]
  },
  {
   "cell_type": "code",
   "execution_count": 6,
   "metadata": {
    "cell_id": "20a3b3eb2ce941de9724cdd49af89f8a",
    "deepnote_cell_type": "code",
    "deepnote_to_be_reexecuted": true,
    "execution_millis": 114950,
    "execution_start": 1708093488533,
    "source_hash": null
   },
   "outputs": [
    {
     "data": {
      "text/html": [
       "<pre style=\"white-space:pre;overflow-x:auto;line-height:normal;font-family:Menlo,'DejaVu Sans Mono',consolas,'Courier New',monospace\"><span style=\"font-weight: bold\">{</span>\n",
       "    <span style=\"color: #008000; text-decoration-color: #008000\">'question'</span>: <span style=\"color: #008000; text-decoration-color: #008000\">'What are some of your favorite ways to listen to music, and have you ever heard of or used a </span>\n",
       "<span style=\"color: #008000; text-decoration-color: #008000\">cassette tape before?'</span>,\n",
       "    <span style=\"color: #008000; text-decoration-color: #008000\">'response'</span>: <span style=\"color: #008000; text-decoration-color: #008000\">\"I love listening to music on my phone with my earbuds, especially when I'm doing homework or just </span>\n",
       "<span style=\"color: #008000; text-decoration-color: #008000\">chilling. Sometimes, I also use a Bluetooth speaker when I’m hanging out with friends. As for cassette tapes, I’ve </span>\n",
       "<span style=\"color: #008000; text-decoration-color: #008000\">heard of them! My parents have talked about them, and I think they even have some old ones stored away. I’ve never </span>\n",
       "<span style=\"color: #008000; text-decoration-color: #008000\">used one myself, though. They sound kind of cool and retro!\"</span>\n",
       "<span style=\"font-weight: bold\">}</span>\n",
       "</pre>\n"
      ],
      "text/plain": [
       "\u001b[1m{\u001b[0m\n",
       "    \u001b[32m'question'\u001b[0m: \u001b[32m'What are some of your favorite ways to listen to music, and have you ever heard of or used a \u001b[0m\n",
       "\u001b[32mcassette tape before?'\u001b[0m,\n",
       "    \u001b[32m'response'\u001b[0m: \u001b[32m\"I love listening to music on my phone with my earbuds, especially when I'm doing homework or just \u001b[0m\n",
       "\u001b[32mchilling. Sometimes, I also use a Bluetooth speaker when I’m hanging out with friends. As for cassette tapes, I’ve \u001b[0m\n",
       "\u001b[32mheard of them! My parents have talked about them, and I think they even have some old ones stored away. I’ve never \u001b[0m\n",
       "\u001b[32mused one myself, though. They sound kind of cool and retro!\"\u001b[0m\n",
       "\u001b[1m}\u001b[0m\n"
      ]
     },
     "metadata": {},
     "output_type": "display_data"
    },
    {
     "data": {
      "text/html": [
       "<pre style=\"white-space:pre;overflow-x:auto;line-height:normal;font-family:Menlo,'DejaVu Sans Mono',consolas,'Courier New',monospace\"><span style=\"font-weight: bold\">{</span>\n",
       "    <span style=\"color: #008000; text-decoration-color: #008000\">'question'</span>: <span style=\"color: #008000; text-decoration-color: #008000\">\"That's interesting that you've heard about cassette tapes from your parents! Can you tell me more </span>\n",
       "<span style=\"color: #008000; text-decoration-color: #008000\">about what they've shared with you about using cassette tapes? Do you think you'd be interested in trying one out </span>\n",
       "<span style=\"color: #008000; text-decoration-color: #008000\">if you had the chance?\"</span>,\n",
       "    <span style=\"color: #008000; text-decoration-color: #008000\">'response'</span>: <span style=\"color: #008000; text-decoration-color: #008000\">'My parents said that cassette tapes were the main way they listened to music when they were </span>\n",
       "<span style=\"color: #008000; text-decoration-color: #008000\">younger. They had to use a tape player, and sometimes they would make mixtapes by recording songs from the radio, </span>\n",
       "<span style=\"color: #008000; text-decoration-color: #008000\">which sounds really fun! They also mentioned how you had to rewind or fast forward to find the song you wanted, </span>\n",
       "<span style=\"color: #008000; text-decoration-color: #008000\">which seems kind of tricky compared to just tapping on a screen now. I think it would be cool to try one out, just </span>\n",
       "<span style=\"color: #008000; text-decoration-color: #008000\">to see what it was like back then. It’s like experiencing a little piece of history! Plus, I love the idea of </span>\n",
       "<span style=\"color: #008000; text-decoration-color: #008000\">making my own mixtape.'</span>\n",
       "<span style=\"font-weight: bold\">}</span>\n",
       "</pre>\n"
      ],
      "text/plain": [
       "\u001b[1m{\u001b[0m\n",
       "    \u001b[32m'question'\u001b[0m: \u001b[32m\"That's interesting that you've heard about cassette tapes from your parents! Can you tell me more \u001b[0m\n",
       "\u001b[32mabout what they've shared with you about using cassette tapes? Do you think you'd be interested in trying one out \u001b[0m\n",
       "\u001b[32mif you had the chance?\"\u001b[0m,\n",
       "    \u001b[32m'response'\u001b[0m: \u001b[32m'My parents said that cassette tapes were the main way they listened to music when they were \u001b[0m\n",
       "\u001b[32myounger. They had to use a tape player, and sometimes they would make mixtapes by recording songs from the radio, \u001b[0m\n",
       "\u001b[32mwhich sounds really fun! They also mentioned how you had to rewind or fast forward to find the song you wanted, \u001b[0m\n",
       "\u001b[32mwhich seems kind of tricky compared to just tapping on a screen now. I think it would be cool to try one out, just \u001b[0m\n",
       "\u001b[32mto see what it was like back then. It’s like experiencing a little piece of history! Plus, I love the idea of \u001b[0m\n",
       "\u001b[32mmaking my own mixtape.'\u001b[0m\n",
       "\u001b[1m}\u001b[0m\n"
      ]
     },
     "metadata": {},
     "output_type": "display_data"
    },
    {
     "data": {
      "text/html": [
       "<pre style=\"white-space:pre;overflow-x:auto;line-height:normal;font-family:Menlo,'DejaVu Sans Mono',consolas,'Courier New',monospace\"><span style=\"font-weight: bold\">{</span>\n",
       "    <span style=\"color: #008000; text-decoration-color: #008000\">'question'</span>: <span style=\"color: #008000; text-decoration-color: #008000\">\"You've mentioned that making mixtapes sounds really fun and like a piece of history. If you could </span>\n",
       "<span style=\"color: #008000; text-decoration-color: #008000\">create a mixtape today, what songs or artists would you include, and why?\"</span>,\n",
       "    <span style=\"color: #008000; text-decoration-color: #008000\">'response'</span>: <span style=\"color: #008000; text-decoration-color: #008000\">\"If I could make a mixtape today, I'd definitely include some of my favorite songs and artists that</span>\n",
       "<span style=\"color: #008000; text-decoration-color: #008000\">I love listening to right now. I'd probably start with some Taylor Swift because her songs are so catchy and </span>\n",
       "<span style=\"color: #008000; text-decoration-color: #008000\">relatable. Then, I'd add some Olivia Rodrigo because her music is full of emotions and I love singing along. I'd </span>\n",
       "<span style=\"color: #008000; text-decoration-color: #008000\">also include a few tracks from Imagine Dragons because their music is super energetic and great for getting pumped </span>\n",
       "<span style=\"color: #008000; text-decoration-color: #008000\">up. Maybe I'd throw in some Billie Eilish for those more chill, moody vibes. Oh, and I can't forget about BTS, </span>\n",
       "<span style=\"color: #008000; text-decoration-color: #008000\">since their songs are really fun and they always make me want to dance! I think having a mix of different styles </span>\n",
       "<span style=\"color: #008000; text-decoration-color: #008000\">and moods would make the mixtape really interesting and fun to listen to anytime.\"</span>\n",
       "<span style=\"font-weight: bold\">}</span>\n",
       "</pre>\n"
      ],
      "text/plain": [
       "\u001b[1m{\u001b[0m\n",
       "    \u001b[32m'question'\u001b[0m: \u001b[32m\"You've mentioned that making mixtapes sounds really fun and like a piece of history. If you could \u001b[0m\n",
       "\u001b[32mcreate a mixtape today, what songs or artists would you include, and why?\"\u001b[0m,\n",
       "    \u001b[32m'response'\u001b[0m: \u001b[32m\"If I could make a mixtape today, I'd definitely include some of my favorite songs and artists that\u001b[0m\n",
       "\u001b[32mI love listening to right now. I'd probably start with some Taylor Swift because her songs are so catchy and \u001b[0m\n",
       "\u001b[32mrelatable. Then, I'd add some Olivia Rodrigo because her music is full of emotions and I love singing along. I'd \u001b[0m\n",
       "\u001b[32malso include a few tracks from Imagine Dragons because their music is super energetic and great for getting pumped \u001b[0m\n",
       "\u001b[32mup. Maybe I'd throw in some Billie Eilish for those more chill, moody vibes. Oh, and I can't forget about BTS, \u001b[0m\n",
       "\u001b[32msince their songs are really fun and they always make me want to dance! I think having a mix of different styles \u001b[0m\n",
       "\u001b[32mand moods would make the mixtape really interesting and fun to listen to anytime.\"\u001b[0m\n",
       "\u001b[1m}\u001b[0m\n"
      ]
     },
     "metadata": {},
     "output_type": "display_data"
    },
    {
     "data": {
      "text/html": [
       "<pre style=\"white-space:pre;overflow-x:auto;line-height:normal;font-family:Menlo,'DejaVu Sans Mono',consolas,'Courier New',monospace\"><span style=\"font-weight: bold\">{</span>\n",
       "    <span style=\"color: #008000; text-decoration-color: #008000\">'question'</span>: <span style=\"color: #008000; text-decoration-color: #008000\">\"Those are some great choices for your mixtape! It sounds like you have a diverse taste in music. </span>\n",
       "<span style=\"color: #008000; text-decoration-color: #008000\">I'm curious, since you mentioned different styles and moods, how do you usually decide what type of music to listen</span>\n",
       "<span style=\"color: #008000; text-decoration-color: #008000\">to at different times? Does your mood influence your music choices, or do you have specific times or activities </span>\n",
       "<span style=\"color: #008000; text-decoration-color: #008000\">when you prefer certain artists or genres?\"</span>,\n",
       "    <span style=\"color: #008000; text-decoration-color: #008000\">'response'</span>: <span style=\"color: #008000; text-decoration-color: #008000\">\"Thanks! Yeah, my mood definitely influences what music I listen to. Like, if I'm feeling super </span>\n",
       "<span style=\"color: #008000; text-decoration-color: #008000\">happy or need some energy, I'll go for upbeat songs like Imagine Dragons or BTS. Their music always gets me moving!</span>\n",
       "<span style=\"color: #008000; text-decoration-color: #008000\">If I'm feeling a bit down or just want to relax, I'll listen to something more chill, like Billie Eilish. When I'm </span>\n",
       "<span style=\"color: #008000; text-decoration-color: #008000\">doing homework or need to focus, I usually pick songs that aren't too distracting, maybe some instrumental stuff or</span>\n",
       "<span style=\"color: #008000; text-decoration-color: #008000\">just softer tunes. And if I'm just hanging out with friends, we might put on something fun and catchy like Taylor </span>\n",
       "<span style=\"color: #008000; text-decoration-color: #008000\">Swift or Olivia Rodrigo. It really depends on what I'm doing and how I'm feeling!\"</span>\n",
       "<span style=\"font-weight: bold\">}</span>\n",
       "</pre>\n"
      ],
      "text/plain": [
       "\u001b[1m{\u001b[0m\n",
       "    \u001b[32m'question'\u001b[0m: \u001b[32m\"Those are some great choices for your mixtape! It sounds like you have a diverse taste in music. \u001b[0m\n",
       "\u001b[32mI'm curious, since you mentioned different styles and moods, how do you usually decide what type of music to listen\u001b[0m\n",
       "\u001b[32mto at different times? Does your mood influence your music choices, or do you have specific times or activities \u001b[0m\n",
       "\u001b[32mwhen you prefer certain artists or genres?\"\u001b[0m,\n",
       "    \u001b[32m'response'\u001b[0m: \u001b[32m\"Thanks! Yeah, my mood definitely influences what music I listen to. Like, if I'm feeling super \u001b[0m\n",
       "\u001b[32mhappy or need some energy, I'll go for upbeat songs like Imagine Dragons or BTS. Their music always gets me moving!\u001b[0m\n",
       "\u001b[32mIf I'm feeling a bit down or just want to relax, I'll listen to something more chill, like Billie Eilish. When I'm \u001b[0m\n",
       "\u001b[32mdoing homework or need to focus, I usually pick songs that aren't too distracting, maybe some instrumental stuff or\u001b[0m\n",
       "\u001b[32mjust softer tunes. And if I'm just hanging out with friends, we might put on something fun and catchy like Taylor \u001b[0m\n",
       "\u001b[32mSwift or Olivia Rodrigo. It really depends on what I'm doing and how I'm feeling!\"\u001b[0m\n",
       "\u001b[1m}\u001b[0m\n"
      ]
     },
     "metadata": {},
     "output_type": "display_data"
    },
    {
     "data": {
      "text/html": [
       "<pre style=\"white-space:pre;overflow-x:auto;line-height:normal;font-family:Menlo,'DejaVu Sans Mono',consolas,'Courier New',monospace\"><span style=\"font-weight: bold\">{</span>\n",
       "    <span style=\"color: #008000; text-decoration-color: #008000\">'question'</span>: <span style=\"color: #008000; text-decoration-color: #008000\">\"It's great to hear how music plays such an important role in your daily life and how you choose </span>\n",
       "<span style=\"color: #008000; text-decoration-color: #008000\">songs based on your mood and activities. Since you mentioned that your parents have shared stories about cassette </span>\n",
       "<span style=\"color: #008000; text-decoration-color: #008000\">tapes and making mixtapes, I'm curious about how you share music with your friends. Do you have any favorite ways </span>\n",
       "<span style=\"color: #008000; text-decoration-color: #008000\">to share your favorite songs or playlists with them, and how do you think that compares to the idea of making and </span>\n",
       "<span style=\"color: #008000; text-decoration-color: #008000\">sharing a mixtape on a cassette tape?\"</span>,\n",
       "    <span style=\"color: #008000; text-decoration-color: #008000\">'response'</span>: <span style=\"color: #008000; text-decoration-color: #008000\">\"I love sharing music with my friends! Usually, I just send them links to songs or playlists </span>\n",
       "<span style=\"color: #008000; text-decoration-color: #008000\">through apps like Spotify or Apple Music. It's super easy and quick, and they can listen to the songs right away. </span>\n",
       "<span style=\"color: #008000; text-decoration-color: #008000\">Sometimes, we even make collaborative playlists where everyone adds their favorite tracks, which is really fun </span>\n",
       "<span style=\"color: #008000; text-decoration-color: #008000\">because you get to discover new music from each other.\"</span>\n",
       "<span style=\"font-weight: bold\">}</span>\n",
       "</pre>\n"
      ],
      "text/plain": [
       "\u001b[1m{\u001b[0m\n",
       "    \u001b[32m'question'\u001b[0m: \u001b[32m\"It's great to hear how music plays such an important role in your daily life and how you choose \u001b[0m\n",
       "\u001b[32msongs based on your mood and activities. Since you mentioned that your parents have shared stories about cassette \u001b[0m\n",
       "\u001b[32mtapes and making mixtapes, I'm curious about how you share music with your friends. Do you have any favorite ways \u001b[0m\n",
       "\u001b[32mto share your favorite songs or playlists with them, and how do you think that compares to the idea of making and \u001b[0m\n",
       "\u001b[32msharing a mixtape on a cassette tape?\"\u001b[0m,\n",
       "    \u001b[32m'response'\u001b[0m: \u001b[32m\"I love sharing music with my friends! Usually, I just send them links to songs or playlists \u001b[0m\n",
       "\u001b[32mthrough apps like Spotify or Apple Music. It's super easy and quick, and they can listen to the songs right away. \u001b[0m\n",
       "\u001b[32mSometimes, we even make collaborative playlists where everyone adds their favorite tracks, which is really fun \u001b[0m\n",
       "\u001b[32mbecause you get to discover new music from each other.\"\u001b[0m\n",
       "\u001b[1m}\u001b[0m\n"
      ]
     },
     "metadata": {},
     "output_type": "display_data"
    },
    {
     "data": {
      "text/html": [
       "<pre style=\"white-space:pre;overflow-x:auto;line-height:normal;font-family:Menlo,'DejaVu Sans Mono',consolas,'Courier New',monospace\"><span style=\"font-weight: bold\">[</span>\n",
       "    <span style=\"font-weight: bold\">{</span>\n",
       "        <span style=\"color: #008000; text-decoration-color: #008000\">'question'</span>: <span style=\"color: #008000; text-decoration-color: #008000\">'What are some of your favorite ways to listen to music, and have you ever heard of or used a </span>\n",
       "<span style=\"color: #008000; text-decoration-color: #008000\">cassette tape before?'</span>,\n",
       "        <span style=\"color: #008000; text-decoration-color: #008000\">'response'</span>: <span style=\"color: #008000; text-decoration-color: #008000\">\"I love listening to music on my phone with my earbuds, especially when I'm doing homework or </span>\n",
       "<span style=\"color: #008000; text-decoration-color: #008000\">just chilling. Sometimes, I also use a Bluetooth speaker when I’m hanging out with friends. As for cassette tapes, </span>\n",
       "<span style=\"color: #008000; text-decoration-color: #008000\">I’ve heard of them! My parents have talked about them, and I think they even have some old ones stored away. I’ve </span>\n",
       "<span style=\"color: #008000; text-decoration-color: #008000\">never used one myself, though. They sound kind of cool and retro!\"</span>\n",
       "    <span style=\"font-weight: bold\">}</span>,\n",
       "    <span style=\"font-weight: bold\">{</span>\n",
       "        <span style=\"color: #008000; text-decoration-color: #008000\">'question'</span>: <span style=\"color: #008000; text-decoration-color: #008000\">\"That's interesting that you've heard about cassette tapes from your parents! Can you tell me </span>\n",
       "<span style=\"color: #008000; text-decoration-color: #008000\">more about what they've shared with you about using cassette tapes? Do you think you'd be interested in trying one </span>\n",
       "<span style=\"color: #008000; text-decoration-color: #008000\">out if you had the chance?\"</span>,\n",
       "        <span style=\"color: #008000; text-decoration-color: #008000\">'response'</span>: <span style=\"color: #008000; text-decoration-color: #008000\">'My parents said that cassette tapes were the main way they listened to music when they were </span>\n",
       "<span style=\"color: #008000; text-decoration-color: #008000\">younger. They had to use a tape player, and sometimes they would make mixtapes by recording songs from the radio, </span>\n",
       "<span style=\"color: #008000; text-decoration-color: #008000\">which sounds really fun! They also mentioned how you had to rewind or fast forward to find the song you wanted, </span>\n",
       "<span style=\"color: #008000; text-decoration-color: #008000\">which seems kind of tricky compared to just tapping on a screen now. I think it would be cool to try one out, just </span>\n",
       "<span style=\"color: #008000; text-decoration-color: #008000\">to see what it was like back then. It’s like experiencing a little piece of history! Plus, I love the idea of </span>\n",
       "<span style=\"color: #008000; text-decoration-color: #008000\">making my own mixtape.'</span>\n",
       "    <span style=\"font-weight: bold\">}</span>,\n",
       "    <span style=\"font-weight: bold\">{</span>\n",
       "        <span style=\"color: #008000; text-decoration-color: #008000\">'question'</span>: <span style=\"color: #008000; text-decoration-color: #008000\">\"You've mentioned that making mixtapes sounds really fun and like a piece of history. If you </span>\n",
       "<span style=\"color: #008000; text-decoration-color: #008000\">could create a mixtape today, what songs or artists would you include, and why?\"</span>,\n",
       "        <span style=\"color: #008000; text-decoration-color: #008000\">'response'</span>: <span style=\"color: #008000; text-decoration-color: #008000\">\"If I could make a mixtape today, I'd definitely include some of my favorite songs and artists </span>\n",
       "<span style=\"color: #008000; text-decoration-color: #008000\">that I love listening to right now. I'd probably start with some Taylor Swift because her songs are so catchy and </span>\n",
       "<span style=\"color: #008000; text-decoration-color: #008000\">relatable. Then, I'd add some Olivia Rodrigo because her music is full of emotions and I love singing along. I'd </span>\n",
       "<span style=\"color: #008000; text-decoration-color: #008000\">also include a few tracks from Imagine Dragons because their music is super energetic and great for getting pumped </span>\n",
       "<span style=\"color: #008000; text-decoration-color: #008000\">up. Maybe I'd throw in some Billie Eilish for those more chill, moody vibes. Oh, and I can't forget about BTS, </span>\n",
       "<span style=\"color: #008000; text-decoration-color: #008000\">since their songs are really fun and they always make me want to dance! I think having a mix of different styles </span>\n",
       "<span style=\"color: #008000; text-decoration-color: #008000\">and moods would make the mixtape really interesting and fun to listen to anytime.\"</span>\n",
       "    <span style=\"font-weight: bold\">}</span>,\n",
       "    <span style=\"font-weight: bold\">{</span>\n",
       "        <span style=\"color: #008000; text-decoration-color: #008000\">'question'</span>: <span style=\"color: #008000; text-decoration-color: #008000\">\"Those are some great choices for your mixtape! It sounds like you have a diverse taste in </span>\n",
       "<span style=\"color: #008000; text-decoration-color: #008000\">music. I'm curious, since you mentioned different styles and moods, how do you usually decide what type of music to</span>\n",
       "<span style=\"color: #008000; text-decoration-color: #008000\">listen to at different times? Does your mood influence your music choices, or do you have specific times or </span>\n",
       "<span style=\"color: #008000; text-decoration-color: #008000\">activities when you prefer certain artists or genres?\"</span>,\n",
       "        <span style=\"color: #008000; text-decoration-color: #008000\">'response'</span>: <span style=\"color: #008000; text-decoration-color: #008000\">\"Thanks! Yeah, my mood definitely influences what music I listen to. Like, if I'm feeling super</span>\n",
       "<span style=\"color: #008000; text-decoration-color: #008000\">happy or need some energy, I'll go for upbeat songs like Imagine Dragons or BTS. Their music always gets me moving!</span>\n",
       "<span style=\"color: #008000; text-decoration-color: #008000\">If I'm feeling a bit down or just want to relax, I'll listen to something more chill, like Billie Eilish. When I'm </span>\n",
       "<span style=\"color: #008000; text-decoration-color: #008000\">doing homework or need to focus, I usually pick songs that aren't too distracting, maybe some instrumental stuff or</span>\n",
       "<span style=\"color: #008000; text-decoration-color: #008000\">just softer tunes. And if I'm just hanging out with friends, we might put on something fun and catchy like Taylor </span>\n",
       "<span style=\"color: #008000; text-decoration-color: #008000\">Swift or Olivia Rodrigo. It really depends on what I'm doing and how I'm feeling!\"</span>\n",
       "    <span style=\"font-weight: bold\">}</span>,\n",
       "    <span style=\"font-weight: bold\">{</span>\n",
       "        <span style=\"color: #008000; text-decoration-color: #008000\">'question'</span>: <span style=\"color: #008000; text-decoration-color: #008000\">\"It's great to hear how music plays such an important role in your daily life and how you </span>\n",
       "<span style=\"color: #008000; text-decoration-color: #008000\">choose songs based on your mood and activities. Since you mentioned that your parents have shared stories about </span>\n",
       "<span style=\"color: #008000; text-decoration-color: #008000\">cassette tapes and making mixtapes, I'm curious about how you share music with your friends. Do you have any </span>\n",
       "<span style=\"color: #008000; text-decoration-color: #008000\">favorite ways to share your favorite songs or playlists with them, and how do you think that compares to the idea </span>\n",
       "<span style=\"color: #008000; text-decoration-color: #008000\">of making and sharing a mixtape on a cassette tape?\"</span>,\n",
       "        <span style=\"color: #008000; text-decoration-color: #008000\">'response'</span>: <span style=\"color: #008000; text-decoration-color: #008000\">\"I love sharing music with my friends! Usually, I just send them links to songs or playlists </span>\n",
       "<span style=\"color: #008000; text-decoration-color: #008000\">through apps like Spotify or Apple Music. It's super easy and quick, and they can listen to the songs right away. </span>\n",
       "<span style=\"color: #008000; text-decoration-color: #008000\">Sometimes, we even make collaborative playlists where everyone adds their favorite tracks, which is really fun </span>\n",
       "<span style=\"color: #008000; text-decoration-color: #008000\">because you get to discover new music from each other.\"</span>\n",
       "    <span style=\"font-weight: bold\">}</span>\n",
       "<span style=\"font-weight: bold\">]</span>\n",
       "</pre>\n"
      ],
      "text/plain": [
       "\u001b[1m[\u001b[0m\n",
       "    \u001b[1m{\u001b[0m\n",
       "        \u001b[32m'question'\u001b[0m: \u001b[32m'What are some of your favorite ways to listen to music, and have you ever heard of or used a \u001b[0m\n",
       "\u001b[32mcassette tape before?'\u001b[0m,\n",
       "        \u001b[32m'response'\u001b[0m: \u001b[32m\"I love listening to music on my phone with my earbuds, especially when I'm doing homework or \u001b[0m\n",
       "\u001b[32mjust chilling. Sometimes, I also use a Bluetooth speaker when I’m hanging out with friends. As for cassette tapes, \u001b[0m\n",
       "\u001b[32mI’ve heard of them! My parents have talked about them, and I think they even have some old ones stored away. I’ve \u001b[0m\n",
       "\u001b[32mnever used one myself, though. They sound kind of cool and retro!\"\u001b[0m\n",
       "    \u001b[1m}\u001b[0m,\n",
       "    \u001b[1m{\u001b[0m\n",
       "        \u001b[32m'question'\u001b[0m: \u001b[32m\"That's interesting that you've heard about cassette tapes from your parents! Can you tell me \u001b[0m\n",
       "\u001b[32mmore about what they've shared with you about using cassette tapes? Do you think you'd be interested in trying one \u001b[0m\n",
       "\u001b[32mout if you had the chance?\"\u001b[0m,\n",
       "        \u001b[32m'response'\u001b[0m: \u001b[32m'My parents said that cassette tapes were the main way they listened to music when they were \u001b[0m\n",
       "\u001b[32myounger. They had to use a tape player, and sometimes they would make mixtapes by recording songs from the radio, \u001b[0m\n",
       "\u001b[32mwhich sounds really fun! They also mentioned how you had to rewind or fast forward to find the song you wanted, \u001b[0m\n",
       "\u001b[32mwhich seems kind of tricky compared to just tapping on a screen now. I think it would be cool to try one out, just \u001b[0m\n",
       "\u001b[32mto see what it was like back then. It’s like experiencing a little piece of history! Plus, I love the idea of \u001b[0m\n",
       "\u001b[32mmaking my own mixtape.'\u001b[0m\n",
       "    \u001b[1m}\u001b[0m,\n",
       "    \u001b[1m{\u001b[0m\n",
       "        \u001b[32m'question'\u001b[0m: \u001b[32m\"You've mentioned that making mixtapes sounds really fun and like a piece of history. If you \u001b[0m\n",
       "\u001b[32mcould create a mixtape today, what songs or artists would you include, and why?\"\u001b[0m,\n",
       "        \u001b[32m'response'\u001b[0m: \u001b[32m\"If I could make a mixtape today, I'd definitely include some of my favorite songs and artists \u001b[0m\n",
       "\u001b[32mthat I love listening to right now. I'd probably start with some Taylor Swift because her songs are so catchy and \u001b[0m\n",
       "\u001b[32mrelatable. Then, I'd add some Olivia Rodrigo because her music is full of emotions and I love singing along. I'd \u001b[0m\n",
       "\u001b[32malso include a few tracks from Imagine Dragons because their music is super energetic and great for getting pumped \u001b[0m\n",
       "\u001b[32mup. Maybe I'd throw in some Billie Eilish for those more chill, moody vibes. Oh, and I can't forget about BTS, \u001b[0m\n",
       "\u001b[32msince their songs are really fun and they always make me want to dance! I think having a mix of different styles \u001b[0m\n",
       "\u001b[32mand moods would make the mixtape really interesting and fun to listen to anytime.\"\u001b[0m\n",
       "    \u001b[1m}\u001b[0m,\n",
       "    \u001b[1m{\u001b[0m\n",
       "        \u001b[32m'question'\u001b[0m: \u001b[32m\"Those are some great choices for your mixtape! It sounds like you have a diverse taste in \u001b[0m\n",
       "\u001b[32mmusic. I'm curious, since you mentioned different styles and moods, how do you usually decide what type of music to\u001b[0m\n",
       "\u001b[32mlisten to at different times? Does your mood influence your music choices, or do you have specific times or \u001b[0m\n",
       "\u001b[32mactivities when you prefer certain artists or genres?\"\u001b[0m,\n",
       "        \u001b[32m'response'\u001b[0m: \u001b[32m\"Thanks! Yeah, my mood definitely influences what music I listen to. Like, if I'm feeling super\u001b[0m\n",
       "\u001b[32mhappy or need some energy, I'll go for upbeat songs like Imagine Dragons or BTS. Their music always gets me moving!\u001b[0m\n",
       "\u001b[32mIf I'm feeling a bit down or just want to relax, I'll listen to something more chill, like Billie Eilish. When I'm \u001b[0m\n",
       "\u001b[32mdoing homework or need to focus, I usually pick songs that aren't too distracting, maybe some instrumental stuff or\u001b[0m\n",
       "\u001b[32mjust softer tunes. And if I'm just hanging out with friends, we might put on something fun and catchy like Taylor \u001b[0m\n",
       "\u001b[32mSwift or Olivia Rodrigo. It really depends on what I'm doing and how I'm feeling!\"\u001b[0m\n",
       "    \u001b[1m}\u001b[0m,\n",
       "    \u001b[1m{\u001b[0m\n",
       "        \u001b[32m'question'\u001b[0m: \u001b[32m\"It's great to hear how music plays such an important role in your daily life and how you \u001b[0m\n",
       "\u001b[32mchoose songs based on your mood and activities. Since you mentioned that your parents have shared stories about \u001b[0m\n",
       "\u001b[32mcassette tapes and making mixtapes, I'm curious about how you share music with your friends. Do you have any \u001b[0m\n",
       "\u001b[32mfavorite ways to share your favorite songs or playlists with them, and how do you think that compares to the idea \u001b[0m\n",
       "\u001b[32mof making and sharing a mixtape on a cassette tape?\"\u001b[0m,\n",
       "        \u001b[32m'response'\u001b[0m: \u001b[32m\"I love sharing music with my friends! Usually, I just send them links to songs or playlists \u001b[0m\n",
       "\u001b[32mthrough apps like Spotify or Apple Music. It's super easy and quick, and they can listen to the songs right away. \u001b[0m\n",
       "\u001b[32mSometimes, we even make collaborative playlists where everyone adds their favorite tracks, which is really fun \u001b[0m\n",
       "\u001b[32mbecause you get to discover new music from each other.\"\u001b[0m\n",
       "    \u001b[1m}\u001b[0m\n",
       "\u001b[1m]\u001b[0m\n"
      ]
     },
     "metadata": {},
     "output_type": "display_data"
    }
   ],
   "source": [
    "dialog_so_far = []\n",
    "for i in range(5):\n",
    "    result = ask_question(subject, researcher, dialog_to_string(dialog_so_far))\n",
    "    print(result)\n",
    "    dialog_so_far.append(result)\n",
    "print(dialog_so_far)"
   ]
  }
 ],
 "metadata": {
  "deepnote_execution_queue": [],
  "deepnote_notebook_id": "756eb677bdb4427c8bc5da1777a603cf",
  "kernelspec": {
   "display_name": "Python 3 (ipykernel)",
   "language": "python",
   "name": "python3"
  },
  "language_info": {
   "codemirror_mode": {
    "name": "ipython",
    "version": 3
   },
   "file_extension": ".py",
   "mimetype": "text/x-python",
   "name": "python",
   "nbconvert_exporter": "python",
   "pygments_lexer": "ipython3",
   "version": "3.11.7"
  }
 },
 "nbformat": 4,
 "nbformat_minor": 4
}
