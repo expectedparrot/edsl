{
 "cells": [
  {
   "cell_type": "markdown",
   "id": "6557e99a-2dbb-4e81-aa96-2c3d963c65f5",
   "metadata": {},
   "source": [
    "# Using data with surveys: FileStore\n",
    "This notebook provides example [EDSL](https://github.com/expectedparrot/edsl) code for methods for using data with an EDSL survey.\n",
    "In the steps below we show how to use the [*FileStore*](https://docs.expectedparrot.com/en/latest/filestore.html) module to upload, share and retrieve data files at the [*Coop*](https://docs.expectedparrot.com/en/latest/coop.html), and then create [*Scenario*](https://docs.expectedparrot.com/en/latest/scenarios.html) objects for the data to use it with a survey.\n",
    "\n",
    "[EDSL is an open-source library](https://github.com/expectedparrot/edsl) for simulating surveys, experiments and other research with AI agents and large language models. \n",
    "Before running the code below, please ensure that you have [installed the EDSL library](https://docs.expectedparrot.com/en/latest/installation.html) and either [activated remote inference](https://docs.expectedparrot.com/en/latest/remote_inference.html) from your [Coop account](https://docs.expectedparrot.com/en/latest/coop.html) or [stored API keys](https://docs.expectedparrot.com/en/latest/api_keys.html) for the language models that you want to use with EDSL. Please also see our [documentation page](https://docs.expectedparrot.com/) for tips and tutorials on getting started using EDSL."
   ]
  },
  {
   "cell_type": "markdown",
   "id": "cb603e1d-9b28-41e1-ad04-0dc2ea5f5b41",
   "metadata": {},
   "source": [
    "## What is a *Scenario*?\n",
    "A *Scenario* is a dictionary of one or more key/value pairs representing data or content to be added to questions; a *ScenarioList* is a list of *Scenario* objects. \n",
    "Scenario keys are used as question parameters that get replaced with the values when the scenarios are added to the questions, allowing you to create variants of questions efficiently. Learn more about creating and working with scenarios [here](https://docs.expectedparrot.com/en/latest/scenarios.html) and [here](https://docs.expectedparrot.com/en/latest/notebooks/question_loop_scenarios.html)."
   ]
  },
  {
   "cell_type": "markdown",
   "id": "35a21a95-d1e9-4ce9-b427-c72184e3f552",
   "metadata": {},
   "source": [
    "## What is the *Coop*?\n",
    "[Coop](https://docs.expectedparrot.com/en/latest/coop.html) is a platform for creating, storing and sharing LLM-based research. \n",
    "It is fully integrated with EDSL, allowing you to post, download and update objects directly from your workspace and at the [Coop web app](https://www.expectedparrot.com/login). \n",
    "The Coop also provides access to features for working with EDSL remotely at the Expected Parrot server. \n",
    "Learn more about these features in the [remote inference](https://docs.expectedparrot.com/en/latest/remote_inference.html) and [remote caching](https://docs.expectedparrot.com/en/latest/remote_caching.html) sections of the [documentation page](https://docs.expectedparrot.com/)."
   ]
  },
  {
   "cell_type": "markdown",
   "id": "bdb593cf-304f-4a74-8669-41227d465b9e",
   "metadata": {},
   "source": [
    "## What is *FileStore*?\n",
    "*FileStore* is a [module for storing and sharing data files at the Coop](https://docs.expectedparrot.com/en/latest/filestore.html) to use in EDSL projects, such as survey data, PDFs, CSVs or images. \n",
    "In particular, it is designed for storing files to be used as as scenarios, and allows you to include code for easily retrieving and processing the files in your EDSL project, as we do in the examples below!"
   ]
  },
  {
   "cell_type": "markdown",
   "id": "66424931-600e-464a-95ed-059ddee64881",
   "metadata": {},
   "source": [
    "## Example\n",
    "In the example below we create scenarios for some data (a table at a Wikipedia page) and inspect them. Then we store the scenarios as a CSV and post it to the Coop using the file store. Then we retrieve the file and recreate the scenarios, and use them in a survey. We also post the survey, results and this notebook to the Coop for reference.\n",
    "\n",
    "We start by creating importing the tools that we will use:"
   ]
  },
  {
   "cell_type": "code",
   "execution_count": 1,
   "id": "c8a34852-9ba2-41de-985a-d21c2524e9af",
   "metadata": {},
   "outputs": [],
   "source": [
    "from edsl import ScenarioList, Scenario\n",
    "from edsl.scenarios.FileStore import CSVFileStore"
   ]
  },
  {
   "cell_type": "markdown",
   "id": "9a9bb7ad-2c7f-4f42-a8e3-d1b91e76f736",
   "metadata": {},
   "source": [
    "### Creating a scenario list for a Wikipedia table\n",
    "EDSL comes with many methods for automatically [generating scenarios for various data sources](https://docs.expectedparrot.com/en/latest/scenarios.html), such as PDFs, CSVs, docs, images, lists, dicts, etc.\n",
    "Here we use a method to automatically [create a scenario list for a Wikipedia table](https://docs.expectedparrot.com/en/latest/notebooks/scenario_list_wikipedia.html), passing the URL and the number of the table on the page:"
   ]
  },
  {
   "cell_type": "code",
   "execution_count": 2,
   "id": "3c02ee41-abae-4dbd-b6cb-54831b20c5e5",
   "metadata": {},
   "outputs": [],
   "source": [
    "s = ScenarioList.from_wikipedia(\"https://en.wikipedia.org/wiki/List_of_Billboard_Hot_100_number-one_singles_of_the_1980s\",5)"
   ]
  },
  {
   "cell_type": "markdown",
   "id": "c656c3de-7435-41d3-8321-91027b3b1a2d",
   "metadata": {},
   "source": [
    "We can inspect the scenario list that has been created:"
   ]
  },
  {
   "cell_type": "code",
   "execution_count": 3,
   "id": "6b5465c9-bf43-4c4f-ac43-df7606b9f692",
   "metadata": {},
   "outputs": [
    {
     "data": {
      "text/html": [
       "<pre style=\"white-space:pre;overflow-x:auto;line-height:normal;font-family:Menlo,'DejaVu Sans Mono',consolas,'Courier New',monospace\">┏━━━━━━━━━━━━━━━━━━━━━┳━━━━━━━━━━━━━━━━━━━━━━━━━━━━━━━━┳━━━━━━━━━━━━━━━━━━━━━━━━━━━━━━━━━━━━┓\n",
       "┃<span style=\"color: #800080; text-decoration-color: #800080; font-weight: bold\"> Weeks at number one </span>┃<span style=\"color: #800080; text-decoration-color: #800080; font-weight: bold\"> Song                           </span>┃<span style=\"color: #800080; text-decoration-color: #800080; font-weight: bold\"> Artist(s)                          </span>┃\n",
       "┡━━━━━━━━━━━━━━━━━━━━━╇━━━━━━━━━━━━━━━━━━━━━━━━━━━━━━━━╇━━━━━━━━━━━━━━━━━━━━━━━━━━━━━━━━━━━━┩\n",
       "│<span style=\"color: #7f7f7f; text-decoration-color: #7f7f7f\"> 10                  </span>│<span style=\"color: #7f7f7f; text-decoration-color: #7f7f7f\"> \"Physical\"                     </span>│<span style=\"color: #7f7f7f; text-decoration-color: #7f7f7f\"> Olivia Newton-John                 </span>│\n",
       "├─────────────────────┼────────────────────────────────┼────────────────────────────────────┤\n",
       "│<span style=\"color: #7f7f7f; text-decoration-color: #7f7f7f\"> 9                   </span>│<span style=\"color: #7f7f7f; text-decoration-color: #7f7f7f\"> \"Bette Davis Eyes\"             </span>│<span style=\"color: #7f7f7f; text-decoration-color: #7f7f7f\"> Kim Carnes                         </span>│\n",
       "├─────────────────────┼────────────────────────────────┼────────────────────────────────────┤\n",
       "│<span style=\"color: #7f7f7f; text-decoration-color: #7f7f7f\"> 9                   </span>│<span style=\"color: #7f7f7f; text-decoration-color: #7f7f7f\"> \"Endless Love\"                 </span>│<span style=\"color: #7f7f7f; text-decoration-color: #7f7f7f\"> Diana Ross and Lionel Richie       </span>│\n",
       "├─────────────────────┼────────────────────────────────┼────────────────────────────────────┤\n",
       "│<span style=\"color: #7f7f7f; text-decoration-color: #7f7f7f\"> 8                   </span>│<span style=\"color: #7f7f7f; text-decoration-color: #7f7f7f\"> \"Every Breath You Take\"        </span>│<span style=\"color: #7f7f7f; text-decoration-color: #7f7f7f\"> The Police                         </span>│\n",
       "├─────────────────────┼────────────────────────────────┼────────────────────────────────────┤\n",
       "│<span style=\"color: #7f7f7f; text-decoration-color: #7f7f7f\"> 7                   </span>│<span style=\"color: #7f7f7f; text-decoration-color: #7f7f7f\"> \"I Love Rock 'n' Roll\"         </span>│<span style=\"color: #7f7f7f; text-decoration-color: #7f7f7f\"> Joan Jett and the Blackhearts      </span>│\n",
       "├─────────────────────┼────────────────────────────────┼────────────────────────────────────┤\n",
       "│<span style=\"color: #7f7f7f; text-decoration-color: #7f7f7f\"> 7                   </span>│<span style=\"color: #7f7f7f; text-decoration-color: #7f7f7f\"> \"Ebony and Ivory\"              </span>│<span style=\"color: #7f7f7f; text-decoration-color: #7f7f7f\"> Paul McCartney and Stevie Wonder   </span>│\n",
       "├─────────────────────┼────────────────────────────────┼────────────────────────────────────┤\n",
       "│<span style=\"color: #7f7f7f; text-decoration-color: #7f7f7f\"> 7                   </span>│<span style=\"color: #7f7f7f; text-decoration-color: #7f7f7f\"> \"Billie Jean\"                  </span>│<span style=\"color: #7f7f7f; text-decoration-color: #7f7f7f\"> Michael Jackson                    </span>│\n",
       "├─────────────────────┼────────────────────────────────┼────────────────────────────────────┤\n",
       "│<span style=\"color: #7f7f7f; text-decoration-color: #7f7f7f\"> 6                   </span>│<span style=\"color: #7f7f7f; text-decoration-color: #7f7f7f\"> \"Call Me\"                      </span>│<span style=\"color: #7f7f7f; text-decoration-color: #7f7f7f\"> Blondie                            </span>│\n",
       "├─────────────────────┼────────────────────────────────┼────────────────────────────────────┤\n",
       "│<span style=\"color: #7f7f7f; text-decoration-color: #7f7f7f\"> 6                   </span>│<span style=\"color: #7f7f7f; text-decoration-color: #7f7f7f\"> \"Lady\"                         </span>│<span style=\"color: #7f7f7f; text-decoration-color: #7f7f7f\"> Kenny Rogers                       </span>│\n",
       "├─────────────────────┼────────────────────────────────┼────────────────────────────────────┤\n",
       "│<span style=\"color: #7f7f7f; text-decoration-color: #7f7f7f\"> 6                   </span>│<span style=\"color: #7f7f7f; text-decoration-color: #7f7f7f\"> \"Centerfold\"                   </span>│<span style=\"color: #7f7f7f; text-decoration-color: #7f7f7f\"> The J. Geils Band                  </span>│\n",
       "├─────────────────────┼────────────────────────────────┼────────────────────────────────────┤\n",
       "│<span style=\"color: #7f7f7f; text-decoration-color: #7f7f7f\"> 6                   </span>│<span style=\"color: #7f7f7f; text-decoration-color: #7f7f7f\"> \"Eye of the Tiger\"             </span>│<span style=\"color: #7f7f7f; text-decoration-color: #7f7f7f\"> Survivor                           </span>│\n",
       "├─────────────────────┼────────────────────────────────┼────────────────────────────────────┤\n",
       "│<span style=\"color: #7f7f7f; text-decoration-color: #7f7f7f\"> 6                   </span>│<span style=\"color: #7f7f7f; text-decoration-color: #7f7f7f\"> \"Flashdance... What a Feeling\" </span>│<span style=\"color: #7f7f7f; text-decoration-color: #7f7f7f\"> Irene Cara                         </span>│\n",
       "├─────────────────────┼────────────────────────────────┼────────────────────────────────────┤\n",
       "│<span style=\"color: #7f7f7f; text-decoration-color: #7f7f7f\"> 6                   </span>│<span style=\"color: #7f7f7f; text-decoration-color: #7f7f7f\"> \"Say, Say, Say\"                </span>│<span style=\"color: #7f7f7f; text-decoration-color: #7f7f7f\"> Paul McCartney and Michael Jackson </span>│\n",
       "├─────────────────────┼────────────────────────────────┼────────────────────────────────────┤\n",
       "│<span style=\"color: #7f7f7f; text-decoration-color: #7f7f7f\"> 6                   </span>│<span style=\"color: #7f7f7f; text-decoration-color: #7f7f7f\"> \"Like a Virgin\"                </span>│<span style=\"color: #7f7f7f; text-decoration-color: #7f7f7f\"> Madonna                            </span>│\n",
       "└─────────────────────┴────────────────────────────────┴────────────────────────────────────┘\n",
       "</pre>\n"
      ],
      "text/plain": [
       "┏━━━━━━━━━━━━━━━━━━━━━┳━━━━━━━━━━━━━━━━━━━━━━━━━━━━━━━━┳━━━━━━━━━━━━━━━━━━━━━━━━━━━━━━━━━━━━┓\n",
       "┃\u001b[1;35m \u001b[0m\u001b[1;35mWeeks at number one\u001b[0m\u001b[1;35m \u001b[0m┃\u001b[1;35m \u001b[0m\u001b[1;35mSong                          \u001b[0m\u001b[1;35m \u001b[0m┃\u001b[1;35m \u001b[0m\u001b[1;35mArtist(s)                         \u001b[0m\u001b[1;35m \u001b[0m┃\n",
       "┡━━━━━━━━━━━━━━━━━━━━━╇━━━━━━━━━━━━━━━━━━━━━━━━━━━━━━━━╇━━━━━━━━━━━━━━━━━━━━━━━━━━━━━━━━━━━━┩\n",
       "│\u001b[2m \u001b[0m\u001b[2m10                 \u001b[0m\u001b[2m \u001b[0m│\u001b[2m \u001b[0m\u001b[2m\"Physical\"                    \u001b[0m\u001b[2m \u001b[0m│\u001b[2m \u001b[0m\u001b[2mOlivia Newton-John                \u001b[0m\u001b[2m \u001b[0m│\n",
       "├─────────────────────┼────────────────────────────────┼────────────────────────────────────┤\n",
       "│\u001b[2m \u001b[0m\u001b[2m9                  \u001b[0m\u001b[2m \u001b[0m│\u001b[2m \u001b[0m\u001b[2m\"Bette Davis Eyes\"            \u001b[0m\u001b[2m \u001b[0m│\u001b[2m \u001b[0m\u001b[2mKim Carnes                        \u001b[0m\u001b[2m \u001b[0m│\n",
       "├─────────────────────┼────────────────────────────────┼────────────────────────────────────┤\n",
       "│\u001b[2m \u001b[0m\u001b[2m9                  \u001b[0m\u001b[2m \u001b[0m│\u001b[2m \u001b[0m\u001b[2m\"Endless Love\"                \u001b[0m\u001b[2m \u001b[0m│\u001b[2m \u001b[0m\u001b[2mDiana Ross and Lionel Richie      \u001b[0m\u001b[2m \u001b[0m│\n",
       "├─────────────────────┼────────────────────────────────┼────────────────────────────────────┤\n",
       "│\u001b[2m \u001b[0m\u001b[2m8                  \u001b[0m\u001b[2m \u001b[0m│\u001b[2m \u001b[0m\u001b[2m\"Every Breath You Take\"       \u001b[0m\u001b[2m \u001b[0m│\u001b[2m \u001b[0m\u001b[2mThe Police                        \u001b[0m\u001b[2m \u001b[0m│\n",
       "├─────────────────────┼────────────────────────────────┼────────────────────────────────────┤\n",
       "│\u001b[2m \u001b[0m\u001b[2m7                  \u001b[0m\u001b[2m \u001b[0m│\u001b[2m \u001b[0m\u001b[2m\"I Love Rock 'n' Roll\"        \u001b[0m\u001b[2m \u001b[0m│\u001b[2m \u001b[0m\u001b[2mJoan Jett and the Blackhearts     \u001b[0m\u001b[2m \u001b[0m│\n",
       "├─────────────────────┼────────────────────────────────┼────────────────────────────────────┤\n",
       "│\u001b[2m \u001b[0m\u001b[2m7                  \u001b[0m\u001b[2m \u001b[0m│\u001b[2m \u001b[0m\u001b[2m\"Ebony and Ivory\"             \u001b[0m\u001b[2m \u001b[0m│\u001b[2m \u001b[0m\u001b[2mPaul McCartney and Stevie Wonder  \u001b[0m\u001b[2m \u001b[0m│\n",
       "├─────────────────────┼────────────────────────────────┼────────────────────────────────────┤\n",
       "│\u001b[2m \u001b[0m\u001b[2m7                  \u001b[0m\u001b[2m \u001b[0m│\u001b[2m \u001b[0m\u001b[2m\"Billie Jean\"                 \u001b[0m\u001b[2m \u001b[0m│\u001b[2m \u001b[0m\u001b[2mMichael Jackson                   \u001b[0m\u001b[2m \u001b[0m│\n",
       "├─────────────────────┼────────────────────────────────┼────────────────────────────────────┤\n",
       "│\u001b[2m \u001b[0m\u001b[2m6                  \u001b[0m\u001b[2m \u001b[0m│\u001b[2m \u001b[0m\u001b[2m\"Call Me\"                     \u001b[0m\u001b[2m \u001b[0m│\u001b[2m \u001b[0m\u001b[2mBlondie                           \u001b[0m\u001b[2m \u001b[0m│\n",
       "├─────────────────────┼────────────────────────────────┼────────────────────────────────────┤\n",
       "│\u001b[2m \u001b[0m\u001b[2m6                  \u001b[0m\u001b[2m \u001b[0m│\u001b[2m \u001b[0m\u001b[2m\"Lady\"                        \u001b[0m\u001b[2m \u001b[0m│\u001b[2m \u001b[0m\u001b[2mKenny Rogers                      \u001b[0m\u001b[2m \u001b[0m│\n",
       "├─────────────────────┼────────────────────────────────┼────────────────────────────────────┤\n",
       "│\u001b[2m \u001b[0m\u001b[2m6                  \u001b[0m\u001b[2m \u001b[0m│\u001b[2m \u001b[0m\u001b[2m\"Centerfold\"                  \u001b[0m\u001b[2m \u001b[0m│\u001b[2m \u001b[0m\u001b[2mThe J. Geils Band                 \u001b[0m\u001b[2m \u001b[0m│\n",
       "├─────────────────────┼────────────────────────────────┼────────────────────────────────────┤\n",
       "│\u001b[2m \u001b[0m\u001b[2m6                  \u001b[0m\u001b[2m \u001b[0m│\u001b[2m \u001b[0m\u001b[2m\"Eye of the Tiger\"            \u001b[0m\u001b[2m \u001b[0m│\u001b[2m \u001b[0m\u001b[2mSurvivor                          \u001b[0m\u001b[2m \u001b[0m│\n",
       "├─────────────────────┼────────────────────────────────┼────────────────────────────────────┤\n",
       "│\u001b[2m \u001b[0m\u001b[2m6                  \u001b[0m\u001b[2m \u001b[0m│\u001b[2m \u001b[0m\u001b[2m\"Flashdance... What a Feeling\"\u001b[0m\u001b[2m \u001b[0m│\u001b[2m \u001b[0m\u001b[2mIrene Cara                        \u001b[0m\u001b[2m \u001b[0m│\n",
       "├─────────────────────┼────────────────────────────────┼────────────────────────────────────┤\n",
       "│\u001b[2m \u001b[0m\u001b[2m6                  \u001b[0m\u001b[2m \u001b[0m│\u001b[2m \u001b[0m\u001b[2m\"Say, Say, Say\"               \u001b[0m\u001b[2m \u001b[0m│\u001b[2m \u001b[0m\u001b[2mPaul McCartney and Michael Jackson\u001b[0m\u001b[2m \u001b[0m│\n",
       "├─────────────────────┼────────────────────────────────┼────────────────────────────────────┤\n",
       "│\u001b[2m \u001b[0m\u001b[2m6                  \u001b[0m\u001b[2m \u001b[0m│\u001b[2m \u001b[0m\u001b[2m\"Like a Virgin\"               \u001b[0m\u001b[2m \u001b[0m│\u001b[2m \u001b[0m\u001b[2mMadonna                           \u001b[0m\u001b[2m \u001b[0m│\n",
       "└─────────────────────┴────────────────────────────────┴────────────────────────────────────┘\n"
      ]
     },
     "metadata": {},
     "output_type": "display_data"
    }
   ],
   "source": [
    "s.print(format=\"rich\")"
   ]
  },
  {
   "cell_type": "markdown",
   "id": "ec95f521-c55f-4d61-9224-6b53d8da96f4",
   "metadata": {},
   "source": [
    "We can rename the keys for convenience:"
   ]
  },
  {
   "cell_type": "code",
   "execution_count": 4,
   "id": "fe51f914-a778-4935-a6b6-a535d963eef8",
   "metadata": {},
   "outputs": [
    {
     "data": {
      "text/plain": [
       "{'Artist(s)', 'Song', 'Weeks at number one'}"
      ]
     },
     "execution_count": 4,
     "metadata": {},
     "output_type": "execute_result"
    }
   ],
   "source": [
    "s.parameters"
   ]
  },
  {
   "cell_type": "code",
   "execution_count": 5,
   "id": "1f5f33e3-6463-45af-b60f-8a5f9ff766a0",
   "metadata": {},
   "outputs": [],
   "source": [
    "s = s.rename({'Artist(s)':\"artists\", 'Song':\"song\", 'Weeks at number one':\"weeks\"})"
   ]
  },
  {
   "cell_type": "code",
   "execution_count": 6,
   "id": "ae9b0342-e44a-431c-a710-f3414d82de3d",
   "metadata": {},
   "outputs": [
    {
     "data": {
      "text/html": [
       "<pre style=\"white-space:pre;overflow-x:auto;line-height:normal;font-family:Menlo,'DejaVu Sans Mono',consolas,'Courier New',monospace\">┏━━━━━━━┳━━━━━━━━━━━━━━━━━━━━━━━━━━━━━━━━┳━━━━━━━━━━━━━━━━━━━━━━━━━━━━━━━━━━━━┓\n",
       "┃<span style=\"color: #800080; text-decoration-color: #800080; font-weight: bold\"> weeks </span>┃<span style=\"color: #800080; text-decoration-color: #800080; font-weight: bold\"> song                           </span>┃<span style=\"color: #800080; text-decoration-color: #800080; font-weight: bold\"> artists                            </span>┃\n",
       "┡━━━━━━━╇━━━━━━━━━━━━━━━━━━━━━━━━━━━━━━━━╇━━━━━━━━━━━━━━━━━━━━━━━━━━━━━━━━━━━━┩\n",
       "│<span style=\"color: #7f7f7f; text-decoration-color: #7f7f7f\"> 10    </span>│<span style=\"color: #7f7f7f; text-decoration-color: #7f7f7f\"> \"Physical\"                     </span>│<span style=\"color: #7f7f7f; text-decoration-color: #7f7f7f\"> Olivia Newton-John                 </span>│\n",
       "├───────┼────────────────────────────────┼────────────────────────────────────┤\n",
       "│<span style=\"color: #7f7f7f; text-decoration-color: #7f7f7f\"> 9     </span>│<span style=\"color: #7f7f7f; text-decoration-color: #7f7f7f\"> \"Bette Davis Eyes\"             </span>│<span style=\"color: #7f7f7f; text-decoration-color: #7f7f7f\"> Kim Carnes                         </span>│\n",
       "├───────┼────────────────────────────────┼────────────────────────────────────┤\n",
       "│<span style=\"color: #7f7f7f; text-decoration-color: #7f7f7f\"> 9     </span>│<span style=\"color: #7f7f7f; text-decoration-color: #7f7f7f\"> \"Endless Love\"                 </span>│<span style=\"color: #7f7f7f; text-decoration-color: #7f7f7f\"> Diana Ross and Lionel Richie       </span>│\n",
       "├───────┼────────────────────────────────┼────────────────────────────────────┤\n",
       "│<span style=\"color: #7f7f7f; text-decoration-color: #7f7f7f\"> 8     </span>│<span style=\"color: #7f7f7f; text-decoration-color: #7f7f7f\"> \"Every Breath You Take\"        </span>│<span style=\"color: #7f7f7f; text-decoration-color: #7f7f7f\"> The Police                         </span>│\n",
       "├───────┼────────────────────────────────┼────────────────────────────────────┤\n",
       "│<span style=\"color: #7f7f7f; text-decoration-color: #7f7f7f\"> 7     </span>│<span style=\"color: #7f7f7f; text-decoration-color: #7f7f7f\"> \"I Love Rock 'n' Roll\"         </span>│<span style=\"color: #7f7f7f; text-decoration-color: #7f7f7f\"> Joan Jett and the Blackhearts      </span>│\n",
       "├───────┼────────────────────────────────┼────────────────────────────────────┤\n",
       "│<span style=\"color: #7f7f7f; text-decoration-color: #7f7f7f\"> 7     </span>│<span style=\"color: #7f7f7f; text-decoration-color: #7f7f7f\"> \"Ebony and Ivory\"              </span>│<span style=\"color: #7f7f7f; text-decoration-color: #7f7f7f\"> Paul McCartney and Stevie Wonder   </span>│\n",
       "├───────┼────────────────────────────────┼────────────────────────────────────┤\n",
       "│<span style=\"color: #7f7f7f; text-decoration-color: #7f7f7f\"> 7     </span>│<span style=\"color: #7f7f7f; text-decoration-color: #7f7f7f\"> \"Billie Jean\"                  </span>│<span style=\"color: #7f7f7f; text-decoration-color: #7f7f7f\"> Michael Jackson                    </span>│\n",
       "├───────┼────────────────────────────────┼────────────────────────────────────┤\n",
       "│<span style=\"color: #7f7f7f; text-decoration-color: #7f7f7f\"> 6     </span>│<span style=\"color: #7f7f7f; text-decoration-color: #7f7f7f\"> \"Call Me\"                      </span>│<span style=\"color: #7f7f7f; text-decoration-color: #7f7f7f\"> Blondie                            </span>│\n",
       "├───────┼────────────────────────────────┼────────────────────────────────────┤\n",
       "│<span style=\"color: #7f7f7f; text-decoration-color: #7f7f7f\"> 6     </span>│<span style=\"color: #7f7f7f; text-decoration-color: #7f7f7f\"> \"Lady\"                         </span>│<span style=\"color: #7f7f7f; text-decoration-color: #7f7f7f\"> Kenny Rogers                       </span>│\n",
       "├───────┼────────────────────────────────┼────────────────────────────────────┤\n",
       "│<span style=\"color: #7f7f7f; text-decoration-color: #7f7f7f\"> 6     </span>│<span style=\"color: #7f7f7f; text-decoration-color: #7f7f7f\"> \"Centerfold\"                   </span>│<span style=\"color: #7f7f7f; text-decoration-color: #7f7f7f\"> The J. Geils Band                  </span>│\n",
       "├───────┼────────────────────────────────┼────────────────────────────────────┤\n",
       "│<span style=\"color: #7f7f7f; text-decoration-color: #7f7f7f\"> 6     </span>│<span style=\"color: #7f7f7f; text-decoration-color: #7f7f7f\"> \"Eye of the Tiger\"             </span>│<span style=\"color: #7f7f7f; text-decoration-color: #7f7f7f\"> Survivor                           </span>│\n",
       "├───────┼────────────────────────────────┼────────────────────────────────────┤\n",
       "│<span style=\"color: #7f7f7f; text-decoration-color: #7f7f7f\"> 6     </span>│<span style=\"color: #7f7f7f; text-decoration-color: #7f7f7f\"> \"Flashdance... What a Feeling\" </span>│<span style=\"color: #7f7f7f; text-decoration-color: #7f7f7f\"> Irene Cara                         </span>│\n",
       "├───────┼────────────────────────────────┼────────────────────────────────────┤\n",
       "│<span style=\"color: #7f7f7f; text-decoration-color: #7f7f7f\"> 6     </span>│<span style=\"color: #7f7f7f; text-decoration-color: #7f7f7f\"> \"Say, Say, Say\"                </span>│<span style=\"color: #7f7f7f; text-decoration-color: #7f7f7f\"> Paul McCartney and Michael Jackson </span>│\n",
       "├───────┼────────────────────────────────┼────────────────────────────────────┤\n",
       "│<span style=\"color: #7f7f7f; text-decoration-color: #7f7f7f\"> 6     </span>│<span style=\"color: #7f7f7f; text-decoration-color: #7f7f7f\"> \"Like a Virgin\"                </span>│<span style=\"color: #7f7f7f; text-decoration-color: #7f7f7f\"> Madonna                            </span>│\n",
       "└───────┴────────────────────────────────┴────────────────────────────────────┘\n",
       "</pre>\n"
      ],
      "text/plain": [
       "┏━━━━━━━┳━━━━━━━━━━━━━━━━━━━━━━━━━━━━━━━━┳━━━━━━━━━━━━━━━━━━━━━━━━━━━━━━━━━━━━┓\n",
       "┃\u001b[1;35m \u001b[0m\u001b[1;35mweeks\u001b[0m\u001b[1;35m \u001b[0m┃\u001b[1;35m \u001b[0m\u001b[1;35msong                          \u001b[0m\u001b[1;35m \u001b[0m┃\u001b[1;35m \u001b[0m\u001b[1;35martists                           \u001b[0m\u001b[1;35m \u001b[0m┃\n",
       "┡━━━━━━━╇━━━━━━━━━━━━━━━━━━━━━━━━━━━━━━━━╇━━━━━━━━━━━━━━━━━━━━━━━━━━━━━━━━━━━━┩\n",
       "│\u001b[2m \u001b[0m\u001b[2m10   \u001b[0m\u001b[2m \u001b[0m│\u001b[2m \u001b[0m\u001b[2m\"Physical\"                    \u001b[0m\u001b[2m \u001b[0m│\u001b[2m \u001b[0m\u001b[2mOlivia Newton-John                \u001b[0m\u001b[2m \u001b[0m│\n",
       "├───────┼────────────────────────────────┼────────────────────────────────────┤\n",
       "│\u001b[2m \u001b[0m\u001b[2m9    \u001b[0m\u001b[2m \u001b[0m│\u001b[2m \u001b[0m\u001b[2m\"Bette Davis Eyes\"            \u001b[0m\u001b[2m \u001b[0m│\u001b[2m \u001b[0m\u001b[2mKim Carnes                        \u001b[0m\u001b[2m \u001b[0m│\n",
       "├───────┼────────────────────────────────┼────────────────────────────────────┤\n",
       "│\u001b[2m \u001b[0m\u001b[2m9    \u001b[0m\u001b[2m \u001b[0m│\u001b[2m \u001b[0m\u001b[2m\"Endless Love\"                \u001b[0m\u001b[2m \u001b[0m│\u001b[2m \u001b[0m\u001b[2mDiana Ross and Lionel Richie      \u001b[0m\u001b[2m \u001b[0m│\n",
       "├───────┼────────────────────────────────┼────────────────────────────────────┤\n",
       "│\u001b[2m \u001b[0m\u001b[2m8    \u001b[0m\u001b[2m \u001b[0m│\u001b[2m \u001b[0m\u001b[2m\"Every Breath You Take\"       \u001b[0m\u001b[2m \u001b[0m│\u001b[2m \u001b[0m\u001b[2mThe Police                        \u001b[0m\u001b[2m \u001b[0m│\n",
       "├───────┼────────────────────────────────┼────────────────────────────────────┤\n",
       "│\u001b[2m \u001b[0m\u001b[2m7    \u001b[0m\u001b[2m \u001b[0m│\u001b[2m \u001b[0m\u001b[2m\"I Love Rock 'n' Roll\"        \u001b[0m\u001b[2m \u001b[0m│\u001b[2m \u001b[0m\u001b[2mJoan Jett and the Blackhearts     \u001b[0m\u001b[2m \u001b[0m│\n",
       "├───────┼────────────────────────────────┼────────────────────────────────────┤\n",
       "│\u001b[2m \u001b[0m\u001b[2m7    \u001b[0m\u001b[2m \u001b[0m│\u001b[2m \u001b[0m\u001b[2m\"Ebony and Ivory\"             \u001b[0m\u001b[2m \u001b[0m│\u001b[2m \u001b[0m\u001b[2mPaul McCartney and Stevie Wonder  \u001b[0m\u001b[2m \u001b[0m│\n",
       "├───────┼────────────────────────────────┼────────────────────────────────────┤\n",
       "│\u001b[2m \u001b[0m\u001b[2m7    \u001b[0m\u001b[2m \u001b[0m│\u001b[2m \u001b[0m\u001b[2m\"Billie Jean\"                 \u001b[0m\u001b[2m \u001b[0m│\u001b[2m \u001b[0m\u001b[2mMichael Jackson                   \u001b[0m\u001b[2m \u001b[0m│\n",
       "├───────┼────────────────────────────────┼────────────────────────────────────┤\n",
       "│\u001b[2m \u001b[0m\u001b[2m6    \u001b[0m\u001b[2m \u001b[0m│\u001b[2m \u001b[0m\u001b[2m\"Call Me\"                     \u001b[0m\u001b[2m \u001b[0m│\u001b[2m \u001b[0m\u001b[2mBlondie                           \u001b[0m\u001b[2m \u001b[0m│\n",
       "├───────┼────────────────────────────────┼────────────────────────────────────┤\n",
       "│\u001b[2m \u001b[0m\u001b[2m6    \u001b[0m\u001b[2m \u001b[0m│\u001b[2m \u001b[0m\u001b[2m\"Lady\"                        \u001b[0m\u001b[2m \u001b[0m│\u001b[2m \u001b[0m\u001b[2mKenny Rogers                      \u001b[0m\u001b[2m \u001b[0m│\n",
       "├───────┼────────────────────────────────┼────────────────────────────────────┤\n",
       "│\u001b[2m \u001b[0m\u001b[2m6    \u001b[0m\u001b[2m \u001b[0m│\u001b[2m \u001b[0m\u001b[2m\"Centerfold\"                  \u001b[0m\u001b[2m \u001b[0m│\u001b[2m \u001b[0m\u001b[2mThe J. Geils Band                 \u001b[0m\u001b[2m \u001b[0m│\n",
       "├───────┼────────────────────────────────┼────────────────────────────────────┤\n",
       "│\u001b[2m \u001b[0m\u001b[2m6    \u001b[0m\u001b[2m \u001b[0m│\u001b[2m \u001b[0m\u001b[2m\"Eye of the Tiger\"            \u001b[0m\u001b[2m \u001b[0m│\u001b[2m \u001b[0m\u001b[2mSurvivor                          \u001b[0m\u001b[2m \u001b[0m│\n",
       "├───────┼────────────────────────────────┼────────────────────────────────────┤\n",
       "│\u001b[2m \u001b[0m\u001b[2m6    \u001b[0m\u001b[2m \u001b[0m│\u001b[2m \u001b[0m\u001b[2m\"Flashdance... What a Feeling\"\u001b[0m\u001b[2m \u001b[0m│\u001b[2m \u001b[0m\u001b[2mIrene Cara                        \u001b[0m\u001b[2m \u001b[0m│\n",
       "├───────┼────────────────────────────────┼────────────────────────────────────┤\n",
       "│\u001b[2m \u001b[0m\u001b[2m6    \u001b[0m\u001b[2m \u001b[0m│\u001b[2m \u001b[0m\u001b[2m\"Say, Say, Say\"               \u001b[0m\u001b[2m \u001b[0m│\u001b[2m \u001b[0m\u001b[2mPaul McCartney and Michael Jackson\u001b[0m\u001b[2m \u001b[0m│\n",
       "├───────┼────────────────────────────────┼────────────────────────────────────┤\n",
       "│\u001b[2m \u001b[0m\u001b[2m6    \u001b[0m\u001b[2m \u001b[0m│\u001b[2m \u001b[0m\u001b[2m\"Like a Virgin\"               \u001b[0m\u001b[2m \u001b[0m│\u001b[2m \u001b[0m\u001b[2mMadonna                           \u001b[0m\u001b[2m \u001b[0m│\n",
       "└───────┴────────────────────────────────┴────────────────────────────────────┘\n"
      ]
     },
     "metadata": {},
     "output_type": "display_data"
    }
   ],
   "source": [
    "s.print(format=\"rich\")"
   ]
  },
  {
   "cell_type": "markdown",
   "id": "f3091277-b4a8-4c02-85ea-f4ca14a78420",
   "metadata": {},
   "source": [
    "We can save the scenarios to a CSV:"
   ]
  },
  {
   "cell_type": "code",
   "execution_count": 7,
   "id": "1d5ad700-75b6-4383-9ac0-882f3d4e2379",
   "metadata": {},
   "outputs": [],
   "source": [
    "s.to_csv(\"billboard_100_1980s.csv\")"
   ]
  },
  {
   "cell_type": "markdown",
   "id": "445931be-d370-48fd-9a7f-386fbfea1861",
   "metadata": {},
   "source": [
    "### Storing data at the Coop using the file store\n",
    "Here we use the CSV file store to store the file that we just created:"
   ]
  },
  {
   "cell_type": "code",
   "execution_count": 8,
   "id": "56c7a3ed-3bb7-48f5-9fa5-a3d8352149bc",
   "metadata": {},
   "outputs": [],
   "source": [
    "fs = CSVFileStore(\"billboard_100_1980s.csv\")"
   ]
  },
  {
   "cell_type": "markdown",
   "id": "9b145a60-a712-4577-8a01-59158aa4983e",
   "metadata": {},
   "source": [
    "We can post a `FileStore` object to the Coop by calling the `push()` method on it.\n",
    "We can optionally pass a `description` and a `visibility` setting - *public*, *unlisted* (by default) or *private*:"
   ]
  },
  {
   "cell_type": "code",
   "execution_count": 9,
   "id": "bc8224ee-c998-4595-8aca-76714edbe09e",
   "metadata": {},
   "outputs": [],
   "source": [
    "info = fs.push(description = \"Wikipedia: List of Billboard Hot 100 number-one singles of the 1980s\")"
   ]
  },
  {
   "cell_type": "markdown",
   "id": "c09c446a-d958-401e-8612-121c8f9f9f09",
   "metadata": {},
   "source": [
    "We can print the details of the posted object, including the URL and Coop uuid that we will need to retrieve it later:"
   ]
  },
  {
   "cell_type": "code",
   "execution_count": 10,
   "id": "3cf2980f-83ec-45d0-88ae-a419cd2ebf9d",
   "metadata": {},
   "outputs": [
    {
     "data": {
      "text/plain": [
       "{'description': 'Wikipedia: List of Billboard Hot 100 number-one singles of the 1980s',\n",
       " 'object_type': 'scenario',\n",
       " 'url': 'https://www.expectedparrot.com/content/add0b8ee-b127-4b5e-82ad-cd00ddaf2552',\n",
       " 'uuid': 'add0b8ee-b127-4b5e-82ad-cd00ddaf2552',\n",
       " 'version': '0.1.33',\n",
       " 'visibility': 'unlisted'}"
      ]
     },
     "execution_count": 10,
     "metadata": {},
     "output_type": "execute_result"
    }
   ],
   "source": [
    "info"
   ]
  },
  {
   "cell_type": "markdown",
   "id": "174fd745-c357-47c7-8560-c3b174fd5959",
   "metadata": {},
   "source": [
    "### Retrieving a file and recreating scenarios\n",
    "Here we retrieve the file from the file store and recreate scenarios:"
   ]
  },
  {
   "cell_type": "code",
   "execution_count": 11,
   "id": "b15c5108-6166-4ca4-b244-ddb7b3d6246f",
   "metadata": {},
   "outputs": [],
   "source": [
    "csv_file = CSVFileStore.pull(\"add0b8ee-b127-4b5e-82ad-cd00ddaf2552\", expected_parrot_url=\"https://www.expectedparrot.com\")"
   ]
  },
  {
   "cell_type": "code",
   "execution_count": 12,
   "id": "e435ef56-1fc7-4f6a-8252-a788f779aeb4",
   "metadata": {},
   "outputs": [],
   "source": [
    "s = ScenarioList.from_csv(csv_file.to_tempfile())"
   ]
  },
  {
   "cell_type": "code",
   "execution_count": 13,
   "id": "d8910b50-f627-455c-9b3e-1cada77def69",
   "metadata": {},
   "outputs": [
    {
     "data": {
      "text/html": [
       "<pre style=\"white-space:pre;overflow-x:auto;line-height:normal;font-family:Menlo,'DejaVu Sans Mono',consolas,'Courier New',monospace\">┏━━━━━━━┳━━━━━━━━━━━━━━━━━━━━━━━━━━━━━━━━┳━━━━━━━━━━━━━━━━━━━━━━━━━━━━━━━━━━━━┓\n",
       "┃<span style=\"color: #800080; text-decoration-color: #800080; font-weight: bold\"> weeks </span>┃<span style=\"color: #800080; text-decoration-color: #800080; font-weight: bold\"> song                           </span>┃<span style=\"color: #800080; text-decoration-color: #800080; font-weight: bold\"> artists                            </span>┃\n",
       "┡━━━━━━━╇━━━━━━━━━━━━━━━━━━━━━━━━━━━━━━━━╇━━━━━━━━━━━━━━━━━━━━━━━━━━━━━━━━━━━━┩\n",
       "│<span style=\"color: #7f7f7f; text-decoration-color: #7f7f7f\"> 10    </span>│<span style=\"color: #7f7f7f; text-decoration-color: #7f7f7f\"> \"Physical\"                     </span>│<span style=\"color: #7f7f7f; text-decoration-color: #7f7f7f\"> Olivia Newton-John                 </span>│\n",
       "├───────┼────────────────────────────────┼────────────────────────────────────┤\n",
       "│<span style=\"color: #7f7f7f; text-decoration-color: #7f7f7f\"> 9     </span>│<span style=\"color: #7f7f7f; text-decoration-color: #7f7f7f\"> \"Bette Davis Eyes\"             </span>│<span style=\"color: #7f7f7f; text-decoration-color: #7f7f7f\"> Kim Carnes                         </span>│\n",
       "├───────┼────────────────────────────────┼────────────────────────────────────┤\n",
       "│<span style=\"color: #7f7f7f; text-decoration-color: #7f7f7f\"> 9     </span>│<span style=\"color: #7f7f7f; text-decoration-color: #7f7f7f\"> \"Endless Love\"                 </span>│<span style=\"color: #7f7f7f; text-decoration-color: #7f7f7f\"> Diana Ross and Lionel Richie       </span>│\n",
       "├───────┼────────────────────────────────┼────────────────────────────────────┤\n",
       "│<span style=\"color: #7f7f7f; text-decoration-color: #7f7f7f\"> 8     </span>│<span style=\"color: #7f7f7f; text-decoration-color: #7f7f7f\"> \"Every Breath You Take\"        </span>│<span style=\"color: #7f7f7f; text-decoration-color: #7f7f7f\"> The Police                         </span>│\n",
       "├───────┼────────────────────────────────┼────────────────────────────────────┤\n",
       "│<span style=\"color: #7f7f7f; text-decoration-color: #7f7f7f\"> 7     </span>│<span style=\"color: #7f7f7f; text-decoration-color: #7f7f7f\"> \"I Love Rock 'n' Roll\"         </span>│<span style=\"color: #7f7f7f; text-decoration-color: #7f7f7f\"> Joan Jett and the Blackhearts      </span>│\n",
       "├───────┼────────────────────────────────┼────────────────────────────────────┤\n",
       "│<span style=\"color: #7f7f7f; text-decoration-color: #7f7f7f\"> 7     </span>│<span style=\"color: #7f7f7f; text-decoration-color: #7f7f7f\"> \"Ebony and Ivory\"              </span>│<span style=\"color: #7f7f7f; text-decoration-color: #7f7f7f\"> Paul McCartney and Stevie Wonder   </span>│\n",
       "├───────┼────────────────────────────────┼────────────────────────────────────┤\n",
       "│<span style=\"color: #7f7f7f; text-decoration-color: #7f7f7f\"> 7     </span>│<span style=\"color: #7f7f7f; text-decoration-color: #7f7f7f\"> \"Billie Jean\"                  </span>│<span style=\"color: #7f7f7f; text-decoration-color: #7f7f7f\"> Michael Jackson                    </span>│\n",
       "├───────┼────────────────────────────────┼────────────────────────────────────┤\n",
       "│<span style=\"color: #7f7f7f; text-decoration-color: #7f7f7f\"> 6     </span>│<span style=\"color: #7f7f7f; text-decoration-color: #7f7f7f\"> \"Call Me\"                      </span>│<span style=\"color: #7f7f7f; text-decoration-color: #7f7f7f\"> Blondie                            </span>│\n",
       "├───────┼────────────────────────────────┼────────────────────────────────────┤\n",
       "│<span style=\"color: #7f7f7f; text-decoration-color: #7f7f7f\"> 6     </span>│<span style=\"color: #7f7f7f; text-decoration-color: #7f7f7f\"> \"Lady\"                         </span>│<span style=\"color: #7f7f7f; text-decoration-color: #7f7f7f\"> Kenny Rogers                       </span>│\n",
       "├───────┼────────────────────────────────┼────────────────────────────────────┤\n",
       "│<span style=\"color: #7f7f7f; text-decoration-color: #7f7f7f\"> 6     </span>│<span style=\"color: #7f7f7f; text-decoration-color: #7f7f7f\"> \"Centerfold\"                   </span>│<span style=\"color: #7f7f7f; text-decoration-color: #7f7f7f\"> The J. Geils Band                  </span>│\n",
       "├───────┼────────────────────────────────┼────────────────────────────────────┤\n",
       "│<span style=\"color: #7f7f7f; text-decoration-color: #7f7f7f\"> 6     </span>│<span style=\"color: #7f7f7f; text-decoration-color: #7f7f7f\"> \"Eye of the Tiger\"             </span>│<span style=\"color: #7f7f7f; text-decoration-color: #7f7f7f\"> Survivor                           </span>│\n",
       "├───────┼────────────────────────────────┼────────────────────────────────────┤\n",
       "│<span style=\"color: #7f7f7f; text-decoration-color: #7f7f7f\"> 6     </span>│<span style=\"color: #7f7f7f; text-decoration-color: #7f7f7f\"> \"Flashdance... What a Feeling\" </span>│<span style=\"color: #7f7f7f; text-decoration-color: #7f7f7f\"> Irene Cara                         </span>│\n",
       "├───────┼────────────────────────────────┼────────────────────────────────────┤\n",
       "│<span style=\"color: #7f7f7f; text-decoration-color: #7f7f7f\"> 6     </span>│<span style=\"color: #7f7f7f; text-decoration-color: #7f7f7f\"> \"Say, Say, Say\"                </span>│<span style=\"color: #7f7f7f; text-decoration-color: #7f7f7f\"> Paul McCartney and Michael Jackson </span>│\n",
       "├───────┼────────────────────────────────┼────────────────────────────────────┤\n",
       "│<span style=\"color: #7f7f7f; text-decoration-color: #7f7f7f\"> 6     </span>│<span style=\"color: #7f7f7f; text-decoration-color: #7f7f7f\"> \"Like a Virgin\"                </span>│<span style=\"color: #7f7f7f; text-decoration-color: #7f7f7f\"> Madonna                            </span>│\n",
       "└───────┴────────────────────────────────┴────────────────────────────────────┘\n",
       "</pre>\n"
      ],
      "text/plain": [
       "┏━━━━━━━┳━━━━━━━━━━━━━━━━━━━━━━━━━━━━━━━━┳━━━━━━━━━━━━━━━━━━━━━━━━━━━━━━━━━━━━┓\n",
       "┃\u001b[1;35m \u001b[0m\u001b[1;35mweeks\u001b[0m\u001b[1;35m \u001b[0m┃\u001b[1;35m \u001b[0m\u001b[1;35msong                          \u001b[0m\u001b[1;35m \u001b[0m┃\u001b[1;35m \u001b[0m\u001b[1;35martists                           \u001b[0m\u001b[1;35m \u001b[0m┃\n",
       "┡━━━━━━━╇━━━━━━━━━━━━━━━━━━━━━━━━━━━━━━━━╇━━━━━━━━━━━━━━━━━━━━━━━━━━━━━━━━━━━━┩\n",
       "│\u001b[2m \u001b[0m\u001b[2m10   \u001b[0m\u001b[2m \u001b[0m│\u001b[2m \u001b[0m\u001b[2m\"Physical\"                    \u001b[0m\u001b[2m \u001b[0m│\u001b[2m \u001b[0m\u001b[2mOlivia Newton-John                \u001b[0m\u001b[2m \u001b[0m│\n",
       "├───────┼────────────────────────────────┼────────────────────────────────────┤\n",
       "│\u001b[2m \u001b[0m\u001b[2m9    \u001b[0m\u001b[2m \u001b[0m│\u001b[2m \u001b[0m\u001b[2m\"Bette Davis Eyes\"            \u001b[0m\u001b[2m \u001b[0m│\u001b[2m \u001b[0m\u001b[2mKim Carnes                        \u001b[0m\u001b[2m \u001b[0m│\n",
       "├───────┼────────────────────────────────┼────────────────────────────────────┤\n",
       "│\u001b[2m \u001b[0m\u001b[2m9    \u001b[0m\u001b[2m \u001b[0m│\u001b[2m \u001b[0m\u001b[2m\"Endless Love\"                \u001b[0m\u001b[2m \u001b[0m│\u001b[2m \u001b[0m\u001b[2mDiana Ross and Lionel Richie      \u001b[0m\u001b[2m \u001b[0m│\n",
       "├───────┼────────────────────────────────┼────────────────────────────────────┤\n",
       "│\u001b[2m \u001b[0m\u001b[2m8    \u001b[0m\u001b[2m \u001b[0m│\u001b[2m \u001b[0m\u001b[2m\"Every Breath You Take\"       \u001b[0m\u001b[2m \u001b[0m│\u001b[2m \u001b[0m\u001b[2mThe Police                        \u001b[0m\u001b[2m \u001b[0m│\n",
       "├───────┼────────────────────────────────┼────────────────────────────────────┤\n",
       "│\u001b[2m \u001b[0m\u001b[2m7    \u001b[0m\u001b[2m \u001b[0m│\u001b[2m \u001b[0m\u001b[2m\"I Love Rock 'n' Roll\"        \u001b[0m\u001b[2m \u001b[0m│\u001b[2m \u001b[0m\u001b[2mJoan Jett and the Blackhearts     \u001b[0m\u001b[2m \u001b[0m│\n",
       "├───────┼────────────────────────────────┼────────────────────────────────────┤\n",
       "│\u001b[2m \u001b[0m\u001b[2m7    \u001b[0m\u001b[2m \u001b[0m│\u001b[2m \u001b[0m\u001b[2m\"Ebony and Ivory\"             \u001b[0m\u001b[2m \u001b[0m│\u001b[2m \u001b[0m\u001b[2mPaul McCartney and Stevie Wonder  \u001b[0m\u001b[2m \u001b[0m│\n",
       "├───────┼────────────────────────────────┼────────────────────────────────────┤\n",
       "│\u001b[2m \u001b[0m\u001b[2m7    \u001b[0m\u001b[2m \u001b[0m│\u001b[2m \u001b[0m\u001b[2m\"Billie Jean\"                 \u001b[0m\u001b[2m \u001b[0m│\u001b[2m \u001b[0m\u001b[2mMichael Jackson                   \u001b[0m\u001b[2m \u001b[0m│\n",
       "├───────┼────────────────────────────────┼────────────────────────────────────┤\n",
       "│\u001b[2m \u001b[0m\u001b[2m6    \u001b[0m\u001b[2m \u001b[0m│\u001b[2m \u001b[0m\u001b[2m\"Call Me\"                     \u001b[0m\u001b[2m \u001b[0m│\u001b[2m \u001b[0m\u001b[2mBlondie                           \u001b[0m\u001b[2m \u001b[0m│\n",
       "├───────┼────────────────────────────────┼────────────────────────────────────┤\n",
       "│\u001b[2m \u001b[0m\u001b[2m6    \u001b[0m\u001b[2m \u001b[0m│\u001b[2m \u001b[0m\u001b[2m\"Lady\"                        \u001b[0m\u001b[2m \u001b[0m│\u001b[2m \u001b[0m\u001b[2mKenny Rogers                      \u001b[0m\u001b[2m \u001b[0m│\n",
       "├───────┼────────────────────────────────┼────────────────────────────────────┤\n",
       "│\u001b[2m \u001b[0m\u001b[2m6    \u001b[0m\u001b[2m \u001b[0m│\u001b[2m \u001b[0m\u001b[2m\"Centerfold\"                  \u001b[0m\u001b[2m \u001b[0m│\u001b[2m \u001b[0m\u001b[2mThe J. Geils Band                 \u001b[0m\u001b[2m \u001b[0m│\n",
       "├───────┼────────────────────────────────┼────────────────────────────────────┤\n",
       "│\u001b[2m \u001b[0m\u001b[2m6    \u001b[0m\u001b[2m \u001b[0m│\u001b[2m \u001b[0m\u001b[2m\"Eye of the Tiger\"            \u001b[0m\u001b[2m \u001b[0m│\u001b[2m \u001b[0m\u001b[2mSurvivor                          \u001b[0m\u001b[2m \u001b[0m│\n",
       "├───────┼────────────────────────────────┼────────────────────────────────────┤\n",
       "│\u001b[2m \u001b[0m\u001b[2m6    \u001b[0m\u001b[2m \u001b[0m│\u001b[2m \u001b[0m\u001b[2m\"Flashdance... What a Feeling\"\u001b[0m\u001b[2m \u001b[0m│\u001b[2m \u001b[0m\u001b[2mIrene Cara                        \u001b[0m\u001b[2m \u001b[0m│\n",
       "├───────┼────────────────────────────────┼────────────────────────────────────┤\n",
       "│\u001b[2m \u001b[0m\u001b[2m6    \u001b[0m\u001b[2m \u001b[0m│\u001b[2m \u001b[0m\u001b[2m\"Say, Say, Say\"               \u001b[0m\u001b[2m \u001b[0m│\u001b[2m \u001b[0m\u001b[2mPaul McCartney and Michael Jackson\u001b[0m\u001b[2m \u001b[0m│\n",
       "├───────┼────────────────────────────────┼────────────────────────────────────┤\n",
       "│\u001b[2m \u001b[0m\u001b[2m6    \u001b[0m\u001b[2m \u001b[0m│\u001b[2m \u001b[0m\u001b[2m\"Like a Virgin\"               \u001b[0m\u001b[2m \u001b[0m│\u001b[2m \u001b[0m\u001b[2mMadonna                           \u001b[0m\u001b[2m \u001b[0m│\n",
       "└───────┴────────────────────────────────┴────────────────────────────────────┘\n"
      ]
     },
     "metadata": {},
     "output_type": "display_data"
    }
   ],
   "source": [
    "s.print(format=\"rich\")"
   ]
  },
  {
   "cell_type": "markdown",
   "id": "dae17cb1-8b12-46b0-a953-aa6f53a3c5f8",
   "metadata": {},
   "source": [
    "### Using scenarios in a survey\n",
    "We can use the scenarios with a survey by creating placeholders in the questions for the scenario keys, and adding the scenarios to the survey when we run it:"
   ]
  },
  {
   "cell_type": "code",
   "execution_count": 14,
   "id": "700d81c8-5a66-4a98-94c1-2b3c23632963",
   "metadata": {},
   "outputs": [],
   "source": [
    "from edsl import QuestionFreeText, QuestionMultipleChoice, QuestionCheckBox, QuestionList, Survey\n",
    "\n",
    "q1 = QuestionFreeText(\n",
    "    question_name = \"topic\",\n",
    "    question_text = \"What is the topic of the song {{ song }} by {{ artists }}?\"\n",
    ")\n",
    "\n",
    "q2 = QuestionMultipleChoice(\n",
    "    question_name = \"sentiment\",\n",
    "    question_text = \"What is the sentiment of the song {{ song }} by {{ artists }}?\",\n",
    "    question_options = [\n",
    "        \"Happy\",\n",
    "        \"Sad\",\n",
    "        \"Angry\",\n",
    "        \"Romantic\",\n",
    "        \"Nostalgic\",\n",
    "        \"Empowering\",\n",
    "        \"Melancholic\",\n",
    "        \"Hopeful\"\n",
    "    ]\n",
    ")\n",
    "\n",
    "q3 = QuestionCheckBox(\n",
    "    question_name = \"themes\",\n",
    "    question_text = \"What themes are present in the song {{ song }} by {{ artists }}?\",\n",
    "    question_options = [\n",
    "        \"Love\",\n",
    "        \"Loss\",\n",
    "        \"Struggle\",\n",
    "        \"Celebration\",\n",
    "        \"Social issues\",\n",
    "        \"Other\"\n",
    "    ]\n",
    ")\n",
    "\n",
    "q4 = QuestionList(\n",
    "    question_name = \"other_themes\",\n",
    "    question_text = \"What other themes are present?\"\n",
    ")\n",
    "\n",
    "survey = (\n",
    "    Survey(questions = [q1, q2, q3, q4])\n",
    "    .add_targeted_memory(q4, q3)\n",
    "    .add_stop_rule(q3, \"'Other' not in themes\")\n",
    ")\n",
    "\n",
    "results = survey.by(s).run()"
   ]
  },
  {
   "cell_type": "markdown",
   "id": "18f04c0b-253b-41a4-9eac-53e815e5487e",
   "metadata": {},
   "source": [
    "We can filter, sort, select and print any components of the results that are generated. \n",
    "Note that the results include columns for all scenario keys, whether used in question texts or not:"
   ]
  },
  {
   "cell_type": "code",
   "execution_count": 15,
   "id": "3e5530bf-867e-4ab9-9b19-e93b504f8021",
   "metadata": {},
   "outputs": [
    {
     "data": {
      "text/html": [
       "<pre style=\"white-space:pre;overflow-x:auto;line-height:normal;font-family:Menlo,'DejaVu Sans Mono',consolas,'Courier New',monospace\">┏━━━━━━━━━━━━━━━━━━━━━━━━━━━━━━━━┳━━━━━━━━━━━━━━━━━━━━━━━━━━━━━━━━━━━━┳━━━━━━━━━━━━━━━━━━━━━━━━━━━━━━━━━━━━━━━━━━━┓\n",
       "┃<span style=\"color: #800080; text-decoration-color: #800080; font-weight: bold\"> scenario                       </span>┃<span style=\"color: #800080; text-decoration-color: #800080; font-weight: bold\"> scenario                           </span>┃<span style=\"color: #800080; text-decoration-color: #800080; font-weight: bold\"> answer                                    </span>┃\n",
       "┃<span style=\"color: #800080; text-decoration-color: #800080; font-weight: bold\"> .song                          </span>┃<span style=\"color: #800080; text-decoration-color: #800080; font-weight: bold\"> .artists                           </span>┃<span style=\"color: #800080; text-decoration-color: #800080; font-weight: bold\"> .topic                                    </span>┃\n",
       "┡━━━━━━━━━━━━━━━━━━━━━━━━━━━━━━━━╇━━━━━━━━━━━━━━━━━━━━━━━━━━━━━━━━━━━━╇━━━━━━━━━━━━━━━━━━━━━━━━━━━━━━━━━━━━━━━━━━━┩\n",
       "│<span style=\"color: #7f7f7f; text-decoration-color: #7f7f7f\"> \"Bette Davis Eyes\"             </span>│<span style=\"color: #7f7f7f; text-decoration-color: #7f7f7f\"> Kim Carnes                         </span>│<span style=\"color: #7f7f7f; text-decoration-color: #7f7f7f\"> \"Bette Davis Eyes\" by Kim Carnes is a     </span>│\n",
       "│<span style=\"color: #7f7f7f; text-decoration-color: #7f7f7f\">                                </span>│<span style=\"color: #7f7f7f; text-decoration-color: #7f7f7f\">                                    </span>│<span style=\"color: #7f7f7f; text-decoration-color: #7f7f7f\"> song that describes a woman who is        </span>│\n",
       "│<span style=\"color: #7f7f7f; text-decoration-color: #7f7f7f\">                                </span>│<span style=\"color: #7f7f7f; text-decoration-color: #7f7f7f\">                                    </span>│<span style=\"color: #7f7f7f; text-decoration-color: #7f7f7f\"> captivating, alluring, and somewhat       </span>│\n",
       "│<span style=\"color: #7f7f7f; text-decoration-color: #7f7f7f\">                                </span>│<span style=\"color: #7f7f7f; text-decoration-color: #7f7f7f\">                                    </span>│<span style=\"color: #7f7f7f; text-decoration-color: #7f7f7f\"> mysterious. The lyrics paint a picture of </span>│\n",
       "│<span style=\"color: #7f7f7f; text-decoration-color: #7f7f7f\">                                </span>│<span style=\"color: #7f7f7f; text-decoration-color: #7f7f7f\">                                    </span>│<span style=\"color: #7f7f7f; text-decoration-color: #7f7f7f\"> her as someone who has a magnetic charm   </span>│\n",
       "│<span style=\"color: #7f7f7f; text-decoration-color: #7f7f7f\">                                </span>│<span style=\"color: #7f7f7f; text-decoration-color: #7f7f7f\">                                    </span>│<span style=\"color: #7f7f7f; text-decoration-color: #7f7f7f\"> and a certain allure, much like the       </span>│\n",
       "│<span style=\"color: #7f7f7f; text-decoration-color: #7f7f7f\">                                </span>│<span style=\"color: #7f7f7f; text-decoration-color: #7f7f7f\">                                    </span>│<span style=\"color: #7f7f7f; text-decoration-color: #7f7f7f\"> iconic actress Bette Davis, known for her </span>│\n",
       "│<span style=\"color: #7f7f7f; text-decoration-color: #7f7f7f\">                                </span>│<span style=\"color: #7f7f7f; text-decoration-color: #7f7f7f\">                                    </span>│<span style=\"color: #7f7f7f; text-decoration-color: #7f7f7f\"> distinctive eyes and strong screen        </span>│\n",
       "│<span style=\"color: #7f7f7f; text-decoration-color: #7f7f7f\">                                </span>│<span style=\"color: #7f7f7f; text-decoration-color: #7f7f7f\">                                    </span>│<span style=\"color: #7f7f7f; text-decoration-color: #7f7f7f\"> presence. The song highlights her ability </span>│\n",
       "│<span style=\"color: #7f7f7f; text-decoration-color: #7f7f7f\">                                </span>│<span style=\"color: #7f7f7f; text-decoration-color: #7f7f7f\">                                    </span>│<span style=\"color: #7f7f7f; text-decoration-color: #7f7f7f\"> to enchant and mesmerize those around her </span>│\n",
       "│<span style=\"color: #7f7f7f; text-decoration-color: #7f7f7f\">                                </span>│<span style=\"color: #7f7f7f; text-decoration-color: #7f7f7f\">                                    </span>│<span style=\"color: #7f7f7f; text-decoration-color: #7f7f7f\"> with her unique and striking qualities.   </span>│\n",
       "├────────────────────────────────┼────────────────────────────────────┼───────────────────────────────────────────┤\n",
       "│<span style=\"color: #7f7f7f; text-decoration-color: #7f7f7f\"> \"Billie Jean\"                  </span>│<span style=\"color: #7f7f7f; text-decoration-color: #7f7f7f\"> Michael Jackson                    </span>│<span style=\"color: #7f7f7f; text-decoration-color: #7f7f7f\"> The song \"Billie Jean\" by Michael Jackson </span>│\n",
       "│<span style=\"color: #7f7f7f; text-decoration-color: #7f7f7f\">                                </span>│<span style=\"color: #7f7f7f; text-decoration-color: #7f7f7f\">                                    </span>│<span style=\"color: #7f7f7f; text-decoration-color: #7f7f7f\"> is about a woman named Billie Jean who    </span>│\n",
       "│<span style=\"color: #7f7f7f; text-decoration-color: #7f7f7f\">                                </span>│<span style=\"color: #7f7f7f; text-decoration-color: #7f7f7f\">                                    </span>│<span style=\"color: #7f7f7f; text-decoration-color: #7f7f7f\"> claims that the narrator is the father of </span>│\n",
       "│<span style=\"color: #7f7f7f; text-decoration-color: #7f7f7f\">                                </span>│<span style=\"color: #7f7f7f; text-decoration-color: #7f7f7f\">                                    </span>│<span style=\"color: #7f7f7f; text-decoration-color: #7f7f7f\"> her child, which he denies. The lyrics    </span>│\n",
       "│<span style=\"color: #7f7f7f; text-decoration-color: #7f7f7f\">                                </span>│<span style=\"color: #7f7f7f; text-decoration-color: #7f7f7f\">                                    </span>│<span style=\"color: #7f7f7f; text-decoration-color: #7f7f7f\"> describe the emotional turmoil and        </span>│\n",
       "│<span style=\"color: #7f7f7f; text-decoration-color: #7f7f7f\">                                </span>│<span style=\"color: #7f7f7f; text-decoration-color: #7f7f7f\">                                    </span>│<span style=\"color: #7f7f7f; text-decoration-color: #7f7f7f\"> confusion caused by her accusations, as   </span>│\n",
       "│<span style=\"color: #7f7f7f; text-decoration-color: #7f7f7f\">                                </span>│<span style=\"color: #7f7f7f; text-decoration-color: #7f7f7f\">                                    </span>│<span style=\"color: #7f7f7f; text-decoration-color: #7f7f7f\"> well as the impact on his life and        </span>│\n",
       "│<span style=\"color: #7f7f7f; text-decoration-color: #7f7f7f\">                                </span>│<span style=\"color: #7f7f7f; text-decoration-color: #7f7f7f\">                                    </span>│<span style=\"color: #7f7f7f; text-decoration-color: #7f7f7f\"> reputation. The song addresses themes of  </span>│\n",
       "│<span style=\"color: #7f7f7f; text-decoration-color: #7f7f7f\">                                </span>│<span style=\"color: #7f7f7f; text-decoration-color: #7f7f7f\">                                    </span>│<span style=\"color: #7f7f7f; text-decoration-color: #7f7f7f\"> false accusations, infidelity, and the    </span>│\n",
       "│<span style=\"color: #7f7f7f; text-decoration-color: #7f7f7f\">                                </span>│<span style=\"color: #7f7f7f; text-decoration-color: #7f7f7f\">                                    </span>│<span style=\"color: #7f7f7f; text-decoration-color: #7f7f7f\"> consequences of fame. \"Billie Jean\" is    </span>│\n",
       "│<span style=\"color: #7f7f7f; text-decoration-color: #7f7f7f\">                                </span>│<span style=\"color: #7f7f7f; text-decoration-color: #7f7f7f\">                                    </span>│<span style=\"color: #7f7f7f; text-decoration-color: #7f7f7f\"> one of Michael Jackson's most famous      </span>│\n",
       "│<span style=\"color: #7f7f7f; text-decoration-color: #7f7f7f\">                                </span>│<span style=\"color: #7f7f7f; text-decoration-color: #7f7f7f\">                                    </span>│<span style=\"color: #7f7f7f; text-decoration-color: #7f7f7f\"> tracks and is known for its distinctive   </span>│\n",
       "│<span style=\"color: #7f7f7f; text-decoration-color: #7f7f7f\">                                </span>│<span style=\"color: #7f7f7f; text-decoration-color: #7f7f7f\">                                    </span>│<span style=\"color: #7f7f7f; text-decoration-color: #7f7f7f\"> bassline and compelling narrative.        </span>│\n",
       "├────────────────────────────────┼────────────────────────────────────┼───────────────────────────────────────────┤\n",
       "│<span style=\"color: #7f7f7f; text-decoration-color: #7f7f7f\"> \"Call Me\"                      </span>│<span style=\"color: #7f7f7f; text-decoration-color: #7f7f7f\"> Blondie                            </span>│<span style=\"color: #7f7f7f; text-decoration-color: #7f7f7f\"> The song \"Call Me\" by Blondie is about a  </span>│\n",
       "│<span style=\"color: #7f7f7f; text-decoration-color: #7f7f7f\">                                </span>│<span style=\"color: #7f7f7f; text-decoration-color: #7f7f7f\">                                    </span>│<span style=\"color: #7f7f7f; text-decoration-color: #7f7f7f\"> passionate, whirlwind romance and the     </span>│\n",
       "│<span style=\"color: #7f7f7f; text-decoration-color: #7f7f7f\">                                </span>│<span style=\"color: #7f7f7f; text-decoration-color: #7f7f7f\">                                    </span>│<span style=\"color: #7f7f7f; text-decoration-color: #7f7f7f\"> excitement of a new relationship. The     </span>│\n",
       "│<span style=\"color: #7f7f7f; text-decoration-color: #7f7f7f\">                                </span>│<span style=\"color: #7f7f7f; text-decoration-color: #7f7f7f\">                                    </span>│<span style=\"color: #7f7f7f; text-decoration-color: #7f7f7f\"> lyrics convey a sense of urgency and      </span>│\n",
       "│<span style=\"color: #7f7f7f; text-decoration-color: #7f7f7f\">                                </span>│<span style=\"color: #7f7f7f; text-decoration-color: #7f7f7f\">                                    </span>│<span style=\"color: #7f7f7f; text-decoration-color: #7f7f7f\"> desire, with the protagonist inviting     </span>│\n",
       "│<span style=\"color: #7f7f7f; text-decoration-color: #7f7f7f\">                                </span>│<span style=\"color: #7f7f7f; text-decoration-color: #7f7f7f\">                                    </span>│<span style=\"color: #7f7f7f; text-decoration-color: #7f7f7f\"> their lover to call them anytime, day or  </span>│\n",
       "│<span style=\"color: #7f7f7f; text-decoration-color: #7f7f7f\">                                </span>│<span style=\"color: #7f7f7f; text-decoration-color: #7f7f7f\">                                    </span>│<span style=\"color: #7f7f7f; text-decoration-color: #7f7f7f\"> night. The song captures the intensity    </span>│\n",
       "│<span style=\"color: #7f7f7f; text-decoration-color: #7f7f7f\">                                </span>│<span style=\"color: #7f7f7f; text-decoration-color: #7f7f7f\">                                    </span>│<span style=\"color: #7f7f7f; text-decoration-color: #7f7f7f\"> and immediacy of falling in love and the  </span>│\n",
       "│<span style=\"color: #7f7f7f; text-decoration-color: #7f7f7f\">                                </span>│<span style=\"color: #7f7f7f; text-decoration-color: #7f7f7f\">                                    </span>│<span style=\"color: #7f7f7f; text-decoration-color: #7f7f7f\"> thrill of a deep, emotional connection.   </span>│\n",
       "│<span style=\"color: #7f7f7f; text-decoration-color: #7f7f7f\">                                </span>│<span style=\"color: #7f7f7f; text-decoration-color: #7f7f7f\">                                    </span>│<span style=\"color: #7f7f7f; text-decoration-color: #7f7f7f\"> It was released in 1980 and became one of </span>│\n",
       "│<span style=\"color: #7f7f7f; text-decoration-color: #7f7f7f\">                                </span>│<span style=\"color: #7f7f7f; text-decoration-color: #7f7f7f\">                                    </span>│<span style=\"color: #7f7f7f; text-decoration-color: #7f7f7f\"> Blondie's biggest hits, known for its     </span>│\n",
       "│<span style=\"color: #7f7f7f; text-decoration-color: #7f7f7f\">                                </span>│<span style=\"color: #7f7f7f; text-decoration-color: #7f7f7f\">                                    </span>│<span style=\"color: #7f7f7f; text-decoration-color: #7f7f7f\"> energetic beat and catchy chorus.         </span>│\n",
       "├────────────────────────────────┼────────────────────────────────────┼───────────────────────────────────────────┤\n",
       "│<span style=\"color: #7f7f7f; text-decoration-color: #7f7f7f\"> \"Centerfold\"                   </span>│<span style=\"color: #7f7f7f; text-decoration-color: #7f7f7f\"> The J. Geils Band                  </span>│<span style=\"color: #7f7f7f; text-decoration-color: #7f7f7f\"> The song \"Centerfold\" by The J. Geils     </span>│\n",
       "│<span style=\"color: #7f7f7f; text-decoration-color: #7f7f7f\">                                </span>│<span style=\"color: #7f7f7f; text-decoration-color: #7f7f7f\">                                    </span>│<span style=\"color: #7f7f7f; text-decoration-color: #7f7f7f\"> Band, released in 1981, is about a man    </span>│\n",
       "│<span style=\"color: #7f7f7f; text-decoration-color: #7f7f7f\">                                </span>│<span style=\"color: #7f7f7f; text-decoration-color: #7f7f7f\">                                    </span>│<span style=\"color: #7f7f7f; text-decoration-color: #7f7f7f\"> who is shocked to discover that a girl he </span>│\n",
       "│<span style=\"color: #7f7f7f; text-decoration-color: #7f7f7f\">                                </span>│<span style=\"color: #7f7f7f; text-decoration-color: #7f7f7f\">                                    </span>│<span style=\"color: #7f7f7f; text-decoration-color: #7f7f7f\"> had a crush on in high school has become  </span>│\n",
       "│<span style=\"color: #7f7f7f; text-decoration-color: #7f7f7f\">                                </span>│<span style=\"color: #7f7f7f; text-decoration-color: #7f7f7f\">                                    </span>│<span style=\"color: #7f7f7f; text-decoration-color: #7f7f7f\"> a centerfold model in an adult magazine.  </span>│\n",
       "│<span style=\"color: #7f7f7f; text-decoration-color: #7f7f7f\">                                </span>│<span style=\"color: #7f7f7f; text-decoration-color: #7f7f7f\">                                    </span>│<span style=\"color: #7f7f7f; text-decoration-color: #7f7f7f\"> The lyrics describe his mixed emotions of </span>│\n",
       "│<span style=\"color: #7f7f7f; text-decoration-color: #7f7f7f\">                                </span>│<span style=\"color: #7f7f7f; text-decoration-color: #7f7f7f\">                                    </span>│<span style=\"color: #7f7f7f; text-decoration-color: #7f7f7f\"> surprise, nostalgia, and disillusionment  </span>│\n",
       "│<span style=\"color: #7f7f7f; text-decoration-color: #7f7f7f\">                                </span>│<span style=\"color: #7f7f7f; text-decoration-color: #7f7f7f\">                                    </span>│<span style=\"color: #7f7f7f; text-decoration-color: #7f7f7f\"> as he grapples with the image of the girl </span>│\n",
       "│<span style=\"color: #7f7f7f; text-decoration-color: #7f7f7f\">                                </span>│<span style=\"color: #7f7f7f; text-decoration-color: #7f7f7f\">                                    </span>│<span style=\"color: #7f7f7f; text-decoration-color: #7f7f7f\"> he once admired now being portrayed in a  </span>│\n",
       "│<span style=\"color: #7f7f7f; text-decoration-color: #7f7f7f\">                                </span>│<span style=\"color: #7f7f7f; text-decoration-color: #7f7f7f\">                                    </span>│<span style=\"color: #7f7f7f; text-decoration-color: #7f7f7f\"> provocative manner. The song combines     </span>│\n",
       "│<span style=\"color: #7f7f7f; text-decoration-color: #7f7f7f\">                                </span>│<span style=\"color: #7f7f7f; text-decoration-color: #7f7f7f\">                                    </span>│<span style=\"color: #7f7f7f; text-decoration-color: #7f7f7f\"> these themes with a catchy, upbeat        </span>│\n",
       "│<span style=\"color: #7f7f7f; text-decoration-color: #7f7f7f\">                                </span>│<span style=\"color: #7f7f7f; text-decoration-color: #7f7f7f\">                                    </span>│<span style=\"color: #7f7f7f; text-decoration-color: #7f7f7f\"> melody, making it a memorable hit from    </span>│\n",
       "│<span style=\"color: #7f7f7f; text-decoration-color: #7f7f7f\">                                </span>│<span style=\"color: #7f7f7f; text-decoration-color: #7f7f7f\">                                    </span>│<span style=\"color: #7f7f7f; text-decoration-color: #7f7f7f\"> the early '80s.                           </span>│\n",
       "├────────────────────────────────┼────────────────────────────────────┼───────────────────────────────────────────┤\n",
       "│<span style=\"color: #7f7f7f; text-decoration-color: #7f7f7f\"> \"Ebony and Ivory\"              </span>│<span style=\"color: #7f7f7f; text-decoration-color: #7f7f7f\"> Paul McCartney and Stevie Wonder   </span>│<span style=\"color: #7f7f7f; text-decoration-color: #7f7f7f\"> The song \"Ebony and Ivory\" by Paul        </span>│\n",
       "│<span style=\"color: #7f7f7f; text-decoration-color: #7f7f7f\">                                </span>│<span style=\"color: #7f7f7f; text-decoration-color: #7f7f7f\">                                    </span>│<span style=\"color: #7f7f7f; text-decoration-color: #7f7f7f\"> McCartney and Stevie Wonder addresses     </span>│\n",
       "│<span style=\"color: #7f7f7f; text-decoration-color: #7f7f7f\">                                </span>│<span style=\"color: #7f7f7f; text-decoration-color: #7f7f7f\">                                    </span>│<span style=\"color: #7f7f7f; text-decoration-color: #7f7f7f\"> themes of racial harmony and unity. The   </span>│\n",
       "│<span style=\"color: #7f7f7f; text-decoration-color: #7f7f7f\">                                </span>│<span style=\"color: #7f7f7f; text-decoration-color: #7f7f7f\">                                    </span>│<span style=\"color: #7f7f7f; text-decoration-color: #7f7f7f\"> title metaphorically refers to the black  </span>│\n",
       "│<span style=\"color: #7f7f7f; text-decoration-color: #7f7f7f\">                                </span>│<span style=\"color: #7f7f7f; text-decoration-color: #7f7f7f\">                                    </span>│<span style=\"color: #7f7f7f; text-decoration-color: #7f7f7f\"> and white keys on a piano, symbolizing    </span>│\n",
       "│<span style=\"color: #7f7f7f; text-decoration-color: #7f7f7f\">                                </span>│<span style=\"color: #7f7f7f; text-decoration-color: #7f7f7f\">                                    </span>│<span style=\"color: #7f7f7f; text-decoration-color: #7f7f7f\"> how different races can come together to  </span>│\n",
       "│<span style=\"color: #7f7f7f; text-decoration-color: #7f7f7f\">                                </span>│<span style=\"color: #7f7f7f; text-decoration-color: #7f7f7f\">                                    </span>│<span style=\"color: #7f7f7f; text-decoration-color: #7f7f7f\"> create something beautiful. The lyrics    </span>│\n",
       "│<span style=\"color: #7f7f7f; text-decoration-color: #7f7f7f\">                                </span>│<span style=\"color: #7f7f7f; text-decoration-color: #7f7f7f\">                                    </span>│<span style=\"color: #7f7f7f; text-decoration-color: #7f7f7f\"> emphasize the importance of living        </span>│\n",
       "│<span style=\"color: #7f7f7f; text-decoration-color: #7f7f7f\">                                </span>│<span style=\"color: #7f7f7f; text-decoration-color: #7f7f7f\">                                    </span>│<span style=\"color: #7f7f7f; text-decoration-color: #7f7f7f\"> together in perfect harmony, despite      </span>│\n",
       "│<span style=\"color: #7f7f7f; text-decoration-color: #7f7f7f\">                                </span>│<span style=\"color: #7f7f7f; text-decoration-color: #7f7f7f\">                                    </span>│<span style=\"color: #7f7f7f; text-decoration-color: #7f7f7f\"> differences, and promoting mutual         </span>│\n",
       "│<span style=\"color: #7f7f7f; text-decoration-color: #7f7f7f\">                                </span>│<span style=\"color: #7f7f7f; text-decoration-color: #7f7f7f\">                                    </span>│<span style=\"color: #7f7f7f; text-decoration-color: #7f7f7f\"> understanding and cooperation.            </span>│\n",
       "├────────────────────────────────┼────────────────────────────────────┼───────────────────────────────────────────┤\n",
       "│<span style=\"color: #7f7f7f; text-decoration-color: #7f7f7f\"> \"Endless Love\"                 </span>│<span style=\"color: #7f7f7f; text-decoration-color: #7f7f7f\"> Diana Ross and Lionel Richie       </span>│<span style=\"color: #7f7f7f; text-decoration-color: #7f7f7f\"> The song \"Endless Love\" by Diana Ross and </span>│\n",
       "│<span style=\"color: #7f7f7f; text-decoration-color: #7f7f7f\">                                </span>│<span style=\"color: #7f7f7f; text-decoration-color: #7f7f7f\">                                    </span>│<span style=\"color: #7f7f7f; text-decoration-color: #7f7f7f\"> Lionel Richie is about a deep, unwavering </span>│\n",
       "│<span style=\"color: #7f7f7f; text-decoration-color: #7f7f7f\">                                </span>│<span style=\"color: #7f7f7f; text-decoration-color: #7f7f7f\">                                    </span>│<span style=\"color: #7f7f7f; text-decoration-color: #7f7f7f\"> romantic love between two people. The     </span>│\n",
       "│<span style=\"color: #7f7f7f; text-decoration-color: #7f7f7f\">                                </span>│<span style=\"color: #7f7f7f; text-decoration-color: #7f7f7f\">                                    </span>│<span style=\"color: #7f7f7f; text-decoration-color: #7f7f7f\"> lyrics express a profound and enduring    </span>│\n",
       "│<span style=\"color: #7f7f7f; text-decoration-color: #7f7f7f\">                                </span>│<span style=\"color: #7f7f7f; text-decoration-color: #7f7f7f\">                                    </span>│<span style=\"color: #7f7f7f; text-decoration-color: #7f7f7f\"> affection, with the singers declaring     </span>│\n",
       "│<span style=\"color: #7f7f7f; text-decoration-color: #7f7f7f\">                                </span>│<span style=\"color: #7f7f7f; text-decoration-color: #7f7f7f\">                                    </span>│<span style=\"color: #7f7f7f; text-decoration-color: #7f7f7f\"> their eternal devotion and commitment to  </span>│\n",
       "│<span style=\"color: #7f7f7f; text-decoration-color: #7f7f7f\">                                </span>│<span style=\"color: #7f7f7f; text-decoration-color: #7f7f7f\">                                    </span>│<span style=\"color: #7f7f7f; text-decoration-color: #7f7f7f\"> each other. It's a classic love ballad    </span>│\n",
       "│<span style=\"color: #7f7f7f; text-decoration-color: #7f7f7f\">                                </span>│<span style=\"color: #7f7f7f; text-decoration-color: #7f7f7f\">                                    </span>│<span style=\"color: #7f7f7f; text-decoration-color: #7f7f7f\"> that celebrates the timeless and          </span>│\n",
       "│<span style=\"color: #7f7f7f; text-decoration-color: #7f7f7f\">                                </span>│<span style=\"color: #7f7f7f; text-decoration-color: #7f7f7f\">                                    </span>│<span style=\"color: #7f7f7f; text-decoration-color: #7f7f7f\"> unbreakable bond between lovers.          </span>│\n",
       "├────────────────────────────────┼────────────────────────────────────┼───────────────────────────────────────────┤\n",
       "│<span style=\"color: #7f7f7f; text-decoration-color: #7f7f7f\"> \"Every Breath You Take\"        </span>│<span style=\"color: #7f7f7f; text-decoration-color: #7f7f7f\"> The Police                         </span>│<span style=\"color: #7f7f7f; text-decoration-color: #7f7f7f\"> The song \"Every Breath You Take\" by The   </span>│\n",
       "│<span style=\"color: #7f7f7f; text-decoration-color: #7f7f7f\">                                </span>│<span style=\"color: #7f7f7f; text-decoration-color: #7f7f7f\">                                    </span>│<span style=\"color: #7f7f7f; text-decoration-color: #7f7f7f\"> Police, released in 1983, is often        </span>│\n",
       "│<span style=\"color: #7f7f7f; text-decoration-color: #7f7f7f\">                                </span>│<span style=\"color: #7f7f7f; text-decoration-color: #7f7f7f\">                                    </span>│<span style=\"color: #7f7f7f; text-decoration-color: #7f7f7f\"> interpreted as a love song due to its     </span>│\n",
       "│<span style=\"color: #7f7f7f; text-decoration-color: #7f7f7f\">                                </span>│<span style=\"color: #7f7f7f; text-decoration-color: #7f7f7f\">                                    </span>│<span style=\"color: #7f7f7f; text-decoration-color: #7f7f7f\"> mellow and melodic tune. However, the     </span>│\n",
       "│<span style=\"color: #7f7f7f; text-decoration-color: #7f7f7f\">                                </span>│<span style=\"color: #7f7f7f; text-decoration-color: #7f7f7f\">                                    </span>│<span style=\"color: #7f7f7f; text-decoration-color: #7f7f7f\"> lyrics reveal a much darker theme. The    </span>│\n",
       "│<span style=\"color: #7f7f7f; text-decoration-color: #7f7f7f\">                                </span>│<span style=\"color: #7f7f7f; text-decoration-color: #7f7f7f\">                                    </span>│<span style=\"color: #7f7f7f; text-decoration-color: #7f7f7f\"> song is about obsession and surveillance, </span>│\n",
       "│<span style=\"color: #7f7f7f; text-decoration-color: #7f7f7f\">                                </span>│<span style=\"color: #7f7f7f; text-decoration-color: #7f7f7f\">                                    </span>│<span style=\"color: #7f7f7f; text-decoration-color: #7f7f7f\"> with the narrator expressing an intense   </span>│\n",
       "│<span style=\"color: #7f7f7f; text-decoration-color: #7f7f7f\">                                </span>│<span style=\"color: #7f7f7f; text-decoration-color: #7f7f7f\">                                    </span>│<span style=\"color: #7f7f7f; text-decoration-color: #7f7f7f\"> fixation on someone, watching their every </span>│\n",
       "│<span style=\"color: #7f7f7f; text-decoration-color: #7f7f7f\">                                </span>│<span style=\"color: #7f7f7f; text-decoration-color: #7f7f7f\">                                    </span>│<span style=\"color: #7f7f7f; text-decoration-color: #7f7f7f\"> move. Phrases like \"Every breath you      </span>│\n",
       "│<span style=\"color: #7f7f7f; text-decoration-color: #7f7f7f\">                                </span>│<span style=\"color: #7f7f7f; text-decoration-color: #7f7f7f\">                                    </span>│<span style=\"color: #7f7f7f; text-decoration-color: #7f7f7f\"> take, every move you make, I'll be        </span>│\n",
       "│<span style=\"color: #7f7f7f; text-decoration-color: #7f7f7f\">                                </span>│<span style=\"color: #7f7f7f; text-decoration-color: #7f7f7f\">                                    </span>│<span style=\"color: #7f7f7f; text-decoration-color: #7f7f7f\"> watching you\" suggest a sense of          </span>│\n",
       "│<span style=\"color: #7f7f7f; text-decoration-color: #7f7f7f\">                                </span>│<span style=\"color: #7f7f7f; text-decoration-color: #7f7f7f\">                                    </span>│<span style=\"color: #7f7f7f; text-decoration-color: #7f7f7f\"> possessiveness and control rather than    </span>│\n",
       "│<span style=\"color: #7f7f7f; text-decoration-color: #7f7f7f\">                                </span>│<span style=\"color: #7f7f7f; text-decoration-color: #7f7f7f\">                                    </span>│<span style=\"color: #7f7f7f; text-decoration-color: #7f7f7f\"> romantic love. The song has been widely   </span>│\n",
       "│<span style=\"color: #7f7f7f; text-decoration-color: #7f7f7f\">                                </span>│<span style=\"color: #7f7f7f; text-decoration-color: #7f7f7f\">                                    </span>│<span style=\"color: #7f7f7f; text-decoration-color: #7f7f7f\"> discussed and analyzed for its portrayal  </span>│\n",
       "│<span style=\"color: #7f7f7f; text-decoration-color: #7f7f7f\">                                </span>│<span style=\"color: #7f7f7f; text-decoration-color: #7f7f7f\">                                    </span>│<span style=\"color: #7f7f7f; text-decoration-color: #7f7f7f\"> of unhealthy obsession masked by a        </span>│\n",
       "│<span style=\"color: #7f7f7f; text-decoration-color: #7f7f7f\">                                </span>│<span style=\"color: #7f7f7f; text-decoration-color: #7f7f7f\">                                    </span>│<span style=\"color: #7f7f7f; text-decoration-color: #7f7f7f\"> seemingly gentle melody.                  </span>│\n",
       "├────────────────────────────────┼────────────────────────────────────┼───────────────────────────────────────────┤\n",
       "│<span style=\"color: #7f7f7f; text-decoration-color: #7f7f7f\"> \"Eye of the Tiger\"             </span>│<span style=\"color: #7f7f7f; text-decoration-color: #7f7f7f\"> Survivor                           </span>│<span style=\"color: #7f7f7f; text-decoration-color: #7f7f7f\"> \"Eye of the Tiger\" by Survivor is a song  </span>│\n",
       "│<span style=\"color: #7f7f7f; text-decoration-color: #7f7f7f\">                                </span>│<span style=\"color: #7f7f7f; text-decoration-color: #7f7f7f\">                                    </span>│<span style=\"color: #7f7f7f; text-decoration-color: #7f7f7f\"> about perseverance, determination, and    </span>│\n",
       "│<span style=\"color: #7f7f7f; text-decoration-color: #7f7f7f\">                                </span>│<span style=\"color: #7f7f7f; text-decoration-color: #7f7f7f\">                                    </span>│<span style=\"color: #7f7f7f; text-decoration-color: #7f7f7f\"> fighting spirit. It was famously used as  </span>│\n",
       "│<span style=\"color: #7f7f7f; text-decoration-color: #7f7f7f\">                                </span>│<span style=\"color: #7f7f7f; text-decoration-color: #7f7f7f\">                                    </span>│<span style=\"color: #7f7f7f; text-decoration-color: #7f7f7f\"> the theme song for the movie \"Rocky III,\" </span>│\n",
       "│<span style=\"color: #7f7f7f; text-decoration-color: #7f7f7f\">                                </span>│<span style=\"color: #7f7f7f; text-decoration-color: #7f7f7f\">                                    </span>│<span style=\"color: #7f7f7f; text-decoration-color: #7f7f7f\"> and its lyrics convey the idea of rising  </span>│\n",
       "│<span style=\"color: #7f7f7f; text-decoration-color: #7f7f7f\">                                </span>│<span style=\"color: #7f7f7f; text-decoration-color: #7f7f7f\">                                    </span>│<span style=\"color: #7f7f7f; text-decoration-color: #7f7f7f\"> up to challenges, staying focused, and    </span>│\n",
       "│<span style=\"color: #7f7f7f; text-decoration-color: #7f7f7f\">                                </span>│<span style=\"color: #7f7f7f; text-decoration-color: #7f7f7f\">                                    </span>│<span style=\"color: #7f7f7f; text-decoration-color: #7f7f7f\"> maintaining the will to succeed despite   </span>│\n",
       "│<span style=\"color: #7f7f7f; text-decoration-color: #7f7f7f\">                                </span>│<span style=\"color: #7f7f7f; text-decoration-color: #7f7f7f\">                                    </span>│<span style=\"color: #7f7f7f; text-decoration-color: #7f7f7f\"> obstacles. The \"eye of the tiger\"         </span>│\n",
       "│<span style=\"color: #7f7f7f; text-decoration-color: #7f7f7f\">                                </span>│<span style=\"color: #7f7f7f; text-decoration-color: #7f7f7f\">                                    </span>│<span style=\"color: #7f7f7f; text-decoration-color: #7f7f7f\"> metaphor represents a sharp, unyielding   </span>│\n",
       "│<span style=\"color: #7f7f7f; text-decoration-color: #7f7f7f\">                                </span>│<span style=\"color: #7f7f7f; text-decoration-color: #7f7f7f\">                                    </span>│<span style=\"color: #7f7f7f; text-decoration-color: #7f7f7f\"> focus and readiness to face and overcome  </span>│\n",
       "│<span style=\"color: #7f7f7f; text-decoration-color: #7f7f7f\">                                </span>│<span style=\"color: #7f7f7f; text-decoration-color: #7f7f7f\">                                    </span>│<span style=\"color: #7f7f7f; text-decoration-color: #7f7f7f\"> adversity.                                </span>│\n",
       "├────────────────────────────────┼────────────────────────────────────┼───────────────────────────────────────────┤\n",
       "│<span style=\"color: #7f7f7f; text-decoration-color: #7f7f7f\"> \"Flashdance... What a Feeling\" </span>│<span style=\"color: #7f7f7f; text-decoration-color: #7f7f7f\"> Irene Cara                         </span>│<span style=\"color: #7f7f7f; text-decoration-color: #7f7f7f\"> The song \"Flashdance... What a Feeling\"   </span>│\n",
       "│<span style=\"color: #7f7f7f; text-decoration-color: #7f7f7f\">                                </span>│<span style=\"color: #7f7f7f; text-decoration-color: #7f7f7f\">                                    </span>│<span style=\"color: #7f7f7f; text-decoration-color: #7f7f7f\"> by Irene Cara is about the exhilaration   </span>│\n",
       "│<span style=\"color: #7f7f7f; text-decoration-color: #7f7f7f\">                                </span>│<span style=\"color: #7f7f7f; text-decoration-color: #7f7f7f\">                                    </span>│<span style=\"color: #7f7f7f; text-decoration-color: #7f7f7f\"> and fulfillment that comes from pursuing  </span>│\n",
       "│<span style=\"color: #7f7f7f; text-decoration-color: #7f7f7f\">                                </span>│<span style=\"color: #7f7f7f; text-decoration-color: #7f7f7f\">                                    </span>│<span style=\"color: #7f7f7f; text-decoration-color: #7f7f7f\"> one's dreams with passion and             </span>│\n",
       "│<span style=\"color: #7f7f7f; text-decoration-color: #7f7f7f\">                                </span>│<span style=\"color: #7f7f7f; text-decoration-color: #7f7f7f\">                                    </span>│<span style=\"color: #7f7f7f; text-decoration-color: #7f7f7f\"> determination. The lyrics convey a sense  </span>│\n",
       "│<span style=\"color: #7f7f7f; text-decoration-color: #7f7f7f\">                                </span>│<span style=\"color: #7f7f7f; text-decoration-color: #7f7f7f\">                                    </span>│<span style=\"color: #7f7f7f; text-decoration-color: #7f7f7f\"> of empowerment and the joy of achieving   </span>│\n",
       "│<span style=\"color: #7f7f7f; text-decoration-color: #7f7f7f\">                                </span>│<span style=\"color: #7f7f7f; text-decoration-color: #7f7f7f\">                                    </span>│<span style=\"color: #7f7f7f; text-decoration-color: #7f7f7f\"> one's goals, capturing the essence of     </span>│\n",
       "│<span style=\"color: #7f7f7f; text-decoration-color: #7f7f7f\">                                </span>│<span style=\"color: #7f7f7f; text-decoration-color: #7f7f7f\">                                    </span>│<span style=\"color: #7f7f7f; text-decoration-color: #7f7f7f\"> following one's heart and experiencing    </span>│\n",
       "│<span style=\"color: #7f7f7f; text-decoration-color: #7f7f7f\">                                </span>│<span style=\"color: #7f7f7f; text-decoration-color: #7f7f7f\">                                    </span>│<span style=\"color: #7f7f7f; text-decoration-color: #7f7f7f\"> the euphoria that comes with realizing    </span>│\n",
       "│<span style=\"color: #7f7f7f; text-decoration-color: #7f7f7f\">                                </span>│<span style=\"color: #7f7f7f; text-decoration-color: #7f7f7f\">                                    </span>│<span style=\"color: #7f7f7f; text-decoration-color: #7f7f7f\"> one's ambitions. The song was prominently </span>│\n",
       "│<span style=\"color: #7f7f7f; text-decoration-color: #7f7f7f\">                                </span>│<span style=\"color: #7f7f7f; text-decoration-color: #7f7f7f\">                                    </span>│<span style=\"color: #7f7f7f; text-decoration-color: #7f7f7f\"> featured in the 1983 film \"Flashdance,\"   </span>│\n",
       "│<span style=\"color: #7f7f7f; text-decoration-color: #7f7f7f\">                                </span>│<span style=\"color: #7f7f7f; text-decoration-color: #7f7f7f\">                                    </span>│<span style=\"color: #7f7f7f; text-decoration-color: #7f7f7f\"> which tells the story of a young woman    </span>│\n",
       "│<span style=\"color: #7f7f7f; text-decoration-color: #7f7f7f\">                                </span>│<span style=\"color: #7f7f7f; text-decoration-color: #7f7f7f\">                                    </span>│<span style=\"color: #7f7f7f; text-decoration-color: #7f7f7f\"> aspiring to become a professional dancer. </span>│\n",
       "├────────────────────────────────┼────────────────────────────────────┼───────────────────────────────────────────┤\n",
       "│<span style=\"color: #7f7f7f; text-decoration-color: #7f7f7f\"> \"I Love Rock 'n' Roll\"         </span>│<span style=\"color: #7f7f7f; text-decoration-color: #7f7f7f\"> Joan Jett and the Blackhearts      </span>│<span style=\"color: #7f7f7f; text-decoration-color: #7f7f7f\"> The song \"I Love Rock 'n' Roll\" by Joan   </span>│\n",
       "│<span style=\"color: #7f7f7f; text-decoration-color: #7f7f7f\">                                </span>│<span style=\"color: #7f7f7f; text-decoration-color: #7f7f7f\">                                    </span>│<span style=\"color: #7f7f7f; text-decoration-color: #7f7f7f\"> Jett and the Blackhearts is about the     </span>│\n",
       "│<span style=\"color: #7f7f7f; text-decoration-color: #7f7f7f\">                                </span>│<span style=\"color: #7f7f7f; text-decoration-color: #7f7f7f\">                                    </span>│<span style=\"color: #7f7f7f; text-decoration-color: #7f7f7f\"> excitement and passion for rock and roll  </span>│\n",
       "│<span style=\"color: #7f7f7f; text-decoration-color: #7f7f7f\">                                </span>│<span style=\"color: #7f7f7f; text-decoration-color: #7f7f7f\">                                    </span>│<span style=\"color: #7f7f7f; text-decoration-color: #7f7f7f\"> music. The lyrics describe a scene where  </span>│\n",
       "│<span style=\"color: #7f7f7f; text-decoration-color: #7f7f7f\">                                </span>│<span style=\"color: #7f7f7f; text-decoration-color: #7f7f7f\">                                    </span>│<span style=\"color: #7f7f7f; text-decoration-color: #7f7f7f\"> the narrator spots someone attractive at  </span>│\n",
       "│<span style=\"color: #7f7f7f; text-decoration-color: #7f7f7f\">                                </span>│<span style=\"color: #7f7f7f; text-decoration-color: #7f7f7f\">                                    </span>│<span style=\"color: #7f7f7f; text-decoration-color: #7f7f7f\"> a jukebox, and they bond over their       </span>│\n",
       "│<span style=\"color: #7f7f7f; text-decoration-color: #7f7f7f\">                                </span>│<span style=\"color: #7f7f7f; text-decoration-color: #7f7f7f\">                                    </span>│<span style=\"color: #7f7f7f; text-decoration-color: #7f7f7f\"> shared love for rock music. The song      </span>│\n",
       "│<span style=\"color: #7f7f7f; text-decoration-color: #7f7f7f\">                                </span>│<span style=\"color: #7f7f7f; text-decoration-color: #7f7f7f\">                                    </span>│<span style=\"color: #7f7f7f; text-decoration-color: #7f7f7f\"> captures the rebellious and energetic     </span>│\n",
       "│<span style=\"color: #7f7f7f; text-decoration-color: #7f7f7f\">                                </span>│<span style=\"color: #7f7f7f; text-decoration-color: #7f7f7f\">                                    </span>│<span style=\"color: #7f7f7f; text-decoration-color: #7f7f7f\"> spirit of rock and roll, emphasizing how  </span>│\n",
       "│<span style=\"color: #7f7f7f; text-decoration-color: #7f7f7f\">                                </span>│<span style=\"color: #7f7f7f; text-decoration-color: #7f7f7f\">                                    </span>│<span style=\"color: #7f7f7f; text-decoration-color: #7f7f7f\"> it brings people together and creates a   </span>│\n",
       "│<span style=\"color: #7f7f7f; text-decoration-color: #7f7f7f\">                                </span>│<span style=\"color: #7f7f7f; text-decoration-color: #7f7f7f\">                                    </span>│<span style=\"color: #7f7f7f; text-decoration-color: #7f7f7f\"> sense of fun and freedom.                 </span>│\n",
       "├────────────────────────────────┼────────────────────────────────────┼───────────────────────────────────────────┤\n",
       "│<span style=\"color: #7f7f7f; text-decoration-color: #7f7f7f\"> \"Lady\"                         </span>│<span style=\"color: #7f7f7f; text-decoration-color: #7f7f7f\"> Kenny Rogers                       </span>│<span style=\"color: #7f7f7f; text-decoration-color: #7f7f7f\"> The song \"Lady\" by Kenny Rogers is a      </span>│\n",
       "│<span style=\"color: #7f7f7f; text-decoration-color: #7f7f7f\">                                </span>│<span style=\"color: #7f7f7f; text-decoration-color: #7f7f7f\">                                    </span>│<span style=\"color: #7f7f7f; text-decoration-color: #7f7f7f\"> romantic ballad that expresses deep love  </span>│\n",
       "│<span style=\"color: #7f7f7f; text-decoration-color: #7f7f7f\">                                </span>│<span style=\"color: #7f7f7f; text-decoration-color: #7f7f7f\">                                    </span>│<span style=\"color: #7f7f7f; text-decoration-color: #7f7f7f\"> and devotion. Written by Lionel Richie,   </span>│\n",
       "│<span style=\"color: #7f7f7f; text-decoration-color: #7f7f7f\">                                </span>│<span style=\"color: #7f7f7f; text-decoration-color: #7f7f7f\">                                    </span>│<span style=\"color: #7f7f7f; text-decoration-color: #7f7f7f\"> the song's lyrics convey a man's          </span>│\n",
       "│<span style=\"color: #7f7f7f; text-decoration-color: #7f7f7f\">                                </span>│<span style=\"color: #7f7f7f; text-decoration-color: #7f7f7f\">                                    </span>│<span style=\"color: #7f7f7f; text-decoration-color: #7f7f7f\"> heartfelt emotions and admiration for the </span>│\n",
       "│<span style=\"color: #7f7f7f; text-decoration-color: #7f7f7f\">                                </span>│<span style=\"color: #7f7f7f; text-decoration-color: #7f7f7f\">                                    </span>│<span style=\"color: #7f7f7f; text-decoration-color: #7f7f7f\"> woman he loves. He describes her as the   </span>│\n",
       "│<span style=\"color: #7f7f7f; text-decoration-color: #7f7f7f\">                                </span>│<span style=\"color: #7f7f7f; text-decoration-color: #7f7f7f\">                                    </span>│<span style=\"color: #7f7f7f; text-decoration-color: #7f7f7f\"> light in his life, his inspiration, and   </span>│\n",
       "│<span style=\"color: #7f7f7f; text-decoration-color: #7f7f7f\">                                </span>│<span style=\"color: #7f7f7f; text-decoration-color: #7f7f7f\">                                    </span>│<span style=\"color: #7f7f7f; text-decoration-color: #7f7f7f\"> someone who has filled his life with joy  </span>│\n",
       "│<span style=\"color: #7f7f7f; text-decoration-color: #7f7f7f\">                                </span>│<span style=\"color: #7f7f7f; text-decoration-color: #7f7f7f\">                                    </span>│<span style=\"color: #7f7f7f; text-decoration-color: #7f7f7f\"> and meaning. The song is celebrated for   </span>│\n",
       "│<span style=\"color: #7f7f7f; text-decoration-color: #7f7f7f\">                                </span>│<span style=\"color: #7f7f7f; text-decoration-color: #7f7f7f\">                                    </span>│<span style=\"color: #7f7f7f; text-decoration-color: #7f7f7f\"> its tender and sincere portrayal of love  </span>│\n",
       "│<span style=\"color: #7f7f7f; text-decoration-color: #7f7f7f\">                                </span>│<span style=\"color: #7f7f7f; text-decoration-color: #7f7f7f\">                                    </span>│<span style=\"color: #7f7f7f; text-decoration-color: #7f7f7f\"> and commitment.                           </span>│\n",
       "├────────────────────────────────┼────────────────────────────────────┼───────────────────────────────────────────┤\n",
       "│<span style=\"color: #7f7f7f; text-decoration-color: #7f7f7f\"> \"Like a Virgin\"                </span>│<span style=\"color: #7f7f7f; text-decoration-color: #7f7f7f\"> Madonna                            </span>│<span style=\"color: #7f7f7f; text-decoration-color: #7f7f7f\"> The song \"Like a Virgin\" by Madonna,      </span>│\n",
       "│<span style=\"color: #7f7f7f; text-decoration-color: #7f7f7f\">                                </span>│<span style=\"color: #7f7f7f; text-decoration-color: #7f7f7f\">                                    </span>│<span style=\"color: #7f7f7f; text-decoration-color: #7f7f7f\"> released in 1984, is about the feeling of </span>│\n",
       "│<span style=\"color: #7f7f7f; text-decoration-color: #7f7f7f\">                                </span>│<span style=\"color: #7f7f7f; text-decoration-color: #7f7f7f\">                                    </span>│<span style=\"color: #7f7f7f; text-decoration-color: #7f7f7f\"> starting fresh in a new romantic          </span>│\n",
       "│<span style=\"color: #7f7f7f; text-decoration-color: #7f7f7f\">                                </span>│<span style=\"color: #7f7f7f; text-decoration-color: #7f7f7f\">                                    </span>│<span style=\"color: #7f7f7f; text-decoration-color: #7f7f7f\"> relationship. The lyrics describe the     </span>│\n",
       "│<span style=\"color: #7f7f7f; text-decoration-color: #7f7f7f\">                                </span>│<span style=\"color: #7f7f7f; text-decoration-color: #7f7f7f\">                                    </span>│<span style=\"color: #7f7f7f; text-decoration-color: #7f7f7f\"> excitement and emotional renewal that     </span>│\n",
       "│<span style=\"color: #7f7f7f; text-decoration-color: #7f7f7f\">                                </span>│<span style=\"color: #7f7f7f; text-decoration-color: #7f7f7f\">                                    </span>│<span style=\"color: #7f7f7f; text-decoration-color: #7f7f7f\"> come with falling in love again after     </span>│\n",
       "│<span style=\"color: #7f7f7f; text-decoration-color: #7f7f7f\">                                </span>│<span style=\"color: #7f7f7f; text-decoration-color: #7f7f7f\">                                    </span>│<span style=\"color: #7f7f7f; text-decoration-color: #7f7f7f\"> experiencing past relationships. The      </span>│\n",
       "│<span style=\"color: #7f7f7f; text-decoration-color: #7f7f7f\">                                </span>│<span style=\"color: #7f7f7f; text-decoration-color: #7f7f7f\">                                    </span>│<span style=\"color: #7f7f7f; text-decoration-color: #7f7f7f\"> metaphor of feeling \"like a virgin\"       </span>│\n",
       "│<span style=\"color: #7f7f7f; text-decoration-color: #7f7f7f\">                                </span>│<span style=\"color: #7f7f7f; text-decoration-color: #7f7f7f\">                                    </span>│<span style=\"color: #7f7f7f; text-decoration-color: #7f7f7f\"> suggests a sense of purity and newness,   </span>│\n",
       "│<span style=\"color: #7f7f7f; text-decoration-color: #7f7f7f\">                                </span>│<span style=\"color: #7f7f7f; text-decoration-color: #7f7f7f\">                                    </span>│<span style=\"color: #7f7f7f; text-decoration-color: #7f7f7f\"> as if experiencing love for the first     </span>│\n",
       "│<span style=\"color: #7f7f7f; text-decoration-color: #7f7f7f\">                                </span>│<span style=\"color: #7f7f7f; text-decoration-color: #7f7f7f\">                                    </span>│<span style=\"color: #7f7f7f; text-decoration-color: #7f7f7f\"> time. The song's catchy melody and        </span>│\n",
       "│<span style=\"color: #7f7f7f; text-decoration-color: #7f7f7f\">                                </span>│<span style=\"color: #7f7f7f; text-decoration-color: #7f7f7f\">                                    </span>│<span style=\"color: #7f7f7f; text-decoration-color: #7f7f7f\"> provocative theme contributed to its      </span>│\n",
       "│<span style=\"color: #7f7f7f; text-decoration-color: #7f7f7f\">                                </span>│<span style=\"color: #7f7f7f; text-decoration-color: #7f7f7f\">                                    </span>│<span style=\"color: #7f7f7f; text-decoration-color: #7f7f7f\"> widespread popularity and iconic status   </span>│\n",
       "│<span style=\"color: #7f7f7f; text-decoration-color: #7f7f7f\">                                </span>│<span style=\"color: #7f7f7f; text-decoration-color: #7f7f7f\">                                    </span>│<span style=\"color: #7f7f7f; text-decoration-color: #7f7f7f\"> in pop music.                             </span>│\n",
       "├────────────────────────────────┼────────────────────────────────────┼───────────────────────────────────────────┤\n",
       "│<span style=\"color: #7f7f7f; text-decoration-color: #7f7f7f\"> \"Physical\"                     </span>│<span style=\"color: #7f7f7f; text-decoration-color: #7f7f7f\"> Olivia Newton-John                 </span>│<span style=\"color: #7f7f7f; text-decoration-color: #7f7f7f\"> The song \"Physical\" by Olivia             </span>│\n",
       "│<span style=\"color: #7f7f7f; text-decoration-color: #7f7f7f\">                                </span>│<span style=\"color: #7f7f7f; text-decoration-color: #7f7f7f\">                                    </span>│<span style=\"color: #7f7f7f; text-decoration-color: #7f7f7f\"> Newton-John, released in 1981, is         </span>│\n",
       "│<span style=\"color: #7f7f7f; text-decoration-color: #7f7f7f\">                                </span>│<span style=\"color: #7f7f7f; text-decoration-color: #7f7f7f\">                                    </span>│<span style=\"color: #7f7f7f; text-decoration-color: #7f7f7f\"> primarily about physical attraction and   </span>│\n",
       "│<span style=\"color: #7f7f7f; text-decoration-color: #7f7f7f\">                                </span>│<span style=\"color: #7f7f7f; text-decoration-color: #7f7f7f\">                                    </span>│<span style=\"color: #7f7f7f; text-decoration-color: #7f7f7f\"> desire. The lyrics suggest a strong,      </span>│\n",
       "│<span style=\"color: #7f7f7f; text-decoration-color: #7f7f7f\">                                </span>│<span style=\"color: #7f7f7f; text-decoration-color: #7f7f7f\">                                    </span>│<span style=\"color: #7f7f7f; text-decoration-color: #7f7f7f\"> almost irresistible urge to engage in     </span>│\n",
       "│<span style=\"color: #7f7f7f; text-decoration-color: #7f7f7f\">                                </span>│<span style=\"color: #7f7f7f; text-decoration-color: #7f7f7f\">                                    </span>│<span style=\"color: #7f7f7f; text-decoration-color: #7f7f7f\"> physical intimacy. The song's upbeat      </span>│\n",
       "│<span style=\"color: #7f7f7f; text-decoration-color: #7f7f7f\">                                </span>│<span style=\"color: #7f7f7f; text-decoration-color: #7f7f7f\">                                    </span>│<span style=\"color: #7f7f7f; text-decoration-color: #7f7f7f\"> tempo and catchy melody complement its    </span>│\n",
       "│<span style=\"color: #7f7f7f; text-decoration-color: #7f7f7f\">                                </span>│<span style=\"color: #7f7f7f; text-decoration-color: #7f7f7f\">                                    </span>│<span style=\"color: #7f7f7f; text-decoration-color: #7f7f7f\"> playful and somewhat provocative theme.   </span>│\n",
       "│<span style=\"color: #7f7f7f; text-decoration-color: #7f7f7f\">                                </span>│<span style=\"color: #7f7f7f; text-decoration-color: #7f7f7f\">                                    </span>│<span style=\"color: #7f7f7f; text-decoration-color: #7f7f7f\"> When it was released, \"Physical\" was      </span>│\n",
       "│<span style=\"color: #7f7f7f; text-decoration-color: #7f7f7f\">                                </span>│<span style=\"color: #7f7f7f; text-decoration-color: #7f7f7f\">                                    </span>│<span style=\"color: #7f7f7f; text-decoration-color: #7f7f7f\"> considered quite bold and even            </span>│\n",
       "│<span style=\"color: #7f7f7f; text-decoration-color: #7f7f7f\">                                </span>│<span style=\"color: #7f7f7f; text-decoration-color: #7f7f7f\">                                    </span>│<span style=\"color: #7f7f7f; text-decoration-color: #7f7f7f\"> controversial due to its overt references </span>│\n",
       "│<span style=\"color: #7f7f7f; text-decoration-color: #7f7f7f\">                                </span>│<span style=\"color: #7f7f7f; text-decoration-color: #7f7f7f\">                                    </span>│<span style=\"color: #7f7f7f; text-decoration-color: #7f7f7f\"> to physical relationships. Despite or     </span>│\n",
       "│<span style=\"color: #7f7f7f; text-decoration-color: #7f7f7f\">                                </span>│<span style=\"color: #7f7f7f; text-decoration-color: #7f7f7f\">                                    </span>│<span style=\"color: #7f7f7f; text-decoration-color: #7f7f7f\"> perhaps because of this, it became one of </span>│\n",
       "│<span style=\"color: #7f7f7f; text-decoration-color: #7f7f7f\">                                </span>│<span style=\"color: #7f7f7f; text-decoration-color: #7f7f7f\">                                    </span>│<span style=\"color: #7f7f7f; text-decoration-color: #7f7f7f\"> Olivia Newton-John's most successful      </span>│\n",
       "│<span style=\"color: #7f7f7f; text-decoration-color: #7f7f7f\">                                </span>│<span style=\"color: #7f7f7f; text-decoration-color: #7f7f7f\">                                    </span>│<span style=\"color: #7f7f7f; text-decoration-color: #7f7f7f\"> hits, topping charts and becoming an      </span>│\n",
       "│<span style=\"color: #7f7f7f; text-decoration-color: #7f7f7f\">                                </span>│<span style=\"color: #7f7f7f; text-decoration-color: #7f7f7f\">                                    </span>│<span style=\"color: #7f7f7f; text-decoration-color: #7f7f7f\"> iconic song of the early 1980s.           </span>│\n",
       "├────────────────────────────────┼────────────────────────────────────┼───────────────────────────────────────────┤\n",
       "│<span style=\"color: #7f7f7f; text-decoration-color: #7f7f7f\"> \"Say, Say, Say\"                </span>│<span style=\"color: #7f7f7f; text-decoration-color: #7f7f7f\"> Paul McCartney and Michael Jackson </span>│<span style=\"color: #7f7f7f; text-decoration-color: #7f7f7f\"> The song \"Say, Say, Say\" by Paul          </span>│\n",
       "│<span style=\"color: #7f7f7f; text-decoration-color: #7f7f7f\">                                </span>│<span style=\"color: #7f7f7f; text-decoration-color: #7f7f7f\">                                    </span>│<span style=\"color: #7f7f7f; text-decoration-color: #7f7f7f\"> McCartney and Michael Jackson primarily   </span>│\n",
       "│<span style=\"color: #7f7f7f; text-decoration-color: #7f7f7f\">                                </span>│<span style=\"color: #7f7f7f; text-decoration-color: #7f7f7f\">                                    </span>│<span style=\"color: #7f7f7f; text-decoration-color: #7f7f7f\"> revolves around themes of love and        </span>│\n",
       "│<span style=\"color: #7f7f7f; text-decoration-color: #7f7f7f\">                                </span>│<span style=\"color: #7f7f7f; text-decoration-color: #7f7f7f\">                                    </span>│<span style=\"color: #7f7f7f; text-decoration-color: #7f7f7f\"> longing. The lyrics depict a conversation </span>│\n",
       "│<span style=\"color: #7f7f7f; text-decoration-color: #7f7f7f\">                                </span>│<span style=\"color: #7f7f7f; text-decoration-color: #7f7f7f\">                                    </span>│<span style=\"color: #7f7f7f; text-decoration-color: #7f7f7f\"> between two people, with one expressing   </span>│\n",
       "│<span style=\"color: #7f7f7f; text-decoration-color: #7f7f7f\">                                </span>│<span style=\"color: #7f7f7f; text-decoration-color: #7f7f7f\">                                    </span>│<span style=\"color: #7f7f7f; text-decoration-color: #7f7f7f\"> their feelings and pleading for the       </span>│\n",
       "│<span style=\"color: #7f7f7f; text-decoration-color: #7f7f7f\">                                </span>│<span style=\"color: #7f7f7f; text-decoration-color: #7f7f7f\">                                    </span>│<span style=\"color: #7f7f7f; text-decoration-color: #7f7f7f\"> other's affection and attention. The song </span>│\n",
       "│<span style=\"color: #7f7f7f; text-decoration-color: #7f7f7f\">                                </span>│<span style=\"color: #7f7f7f; text-decoration-color: #7f7f7f\">                                    </span>│<span style=\"color: #7f7f7f; text-decoration-color: #7f7f7f\"> explores the emotional dynamics of a      </span>│\n",
       "│<span style=\"color: #7f7f7f; text-decoration-color: #7f7f7f\">                                </span>│<span style=\"color: #7f7f7f; text-decoration-color: #7f7f7f\">                                    </span>│<span style=\"color: #7f7f7f; text-decoration-color: #7f7f7f\"> romantic relationship, with the singers   </span>│\n",
       "│<span style=\"color: #7f7f7f; text-decoration-color: #7f7f7f\">                                </span>│<span style=\"color: #7f7f7f; text-decoration-color: #7f7f7f\">                                    </span>│<span style=\"color: #7f7f7f; text-decoration-color: #7f7f7f\"> conveying their desires and the           </span>│\n",
       "│<span style=\"color: #7f7f7f; text-decoration-color: #7f7f7f\">                                </span>│<span style=\"color: #7f7f7f; text-decoration-color: #7f7f7f\">                                    </span>│<span style=\"color: #7f7f7f; text-decoration-color: #7f7f7f\"> challenges they face in trying to win     </span>│\n",
       "│<span style=\"color: #7f7f7f; text-decoration-color: #7f7f7f\">                                </span>│<span style=\"color: #7f7f7f; text-decoration-color: #7f7f7f\">                                    </span>│<span style=\"color: #7f7f7f; text-decoration-color: #7f7f7f\"> over the object of their affection.       </span>│\n",
       "└────────────────────────────────┴────────────────────────────────────┴───────────────────────────────────────────┘\n",
       "</pre>\n"
      ],
      "text/plain": [
       "┏━━━━━━━━━━━━━━━━━━━━━━━━━━━━━━━━┳━━━━━━━━━━━━━━━━━━━━━━━━━━━━━━━━━━━━┳━━━━━━━━━━━━━━━━━━━━━━━━━━━━━━━━━━━━━━━━━━━┓\n",
       "┃\u001b[1;35m \u001b[0m\u001b[1;35mscenario                      \u001b[0m\u001b[1;35m \u001b[0m┃\u001b[1;35m \u001b[0m\u001b[1;35mscenario                          \u001b[0m\u001b[1;35m \u001b[0m┃\u001b[1;35m \u001b[0m\u001b[1;35manswer                                   \u001b[0m\u001b[1;35m \u001b[0m┃\n",
       "┃\u001b[1;35m \u001b[0m\u001b[1;35m.song                         \u001b[0m\u001b[1;35m \u001b[0m┃\u001b[1;35m \u001b[0m\u001b[1;35m.artists                          \u001b[0m\u001b[1;35m \u001b[0m┃\u001b[1;35m \u001b[0m\u001b[1;35m.topic                                   \u001b[0m\u001b[1;35m \u001b[0m┃\n",
       "┡━━━━━━━━━━━━━━━━━━━━━━━━━━━━━━━━╇━━━━━━━━━━━━━━━━━━━━━━━━━━━━━━━━━━━━╇━━━━━━━━━━━━━━━━━━━━━━━━━━━━━━━━━━━━━━━━━━━┩\n",
       "│\u001b[2m \u001b[0m\u001b[2m\"Bette Davis Eyes\"            \u001b[0m\u001b[2m \u001b[0m│\u001b[2m \u001b[0m\u001b[2mKim Carnes                        \u001b[0m\u001b[2m \u001b[0m│\u001b[2m \u001b[0m\u001b[2m\"Bette Davis Eyes\" by Kim Carnes is a    \u001b[0m\u001b[2m \u001b[0m│\n",
       "│\u001b[2m                                \u001b[0m│\u001b[2m                                    \u001b[0m│\u001b[2m \u001b[0m\u001b[2msong that describes a woman who is       \u001b[0m\u001b[2m \u001b[0m│\n",
       "│\u001b[2m                                \u001b[0m│\u001b[2m                                    \u001b[0m│\u001b[2m \u001b[0m\u001b[2mcaptivating, alluring, and somewhat      \u001b[0m\u001b[2m \u001b[0m│\n",
       "│\u001b[2m                                \u001b[0m│\u001b[2m                                    \u001b[0m│\u001b[2m \u001b[0m\u001b[2mmysterious. The lyrics paint a picture of\u001b[0m\u001b[2m \u001b[0m│\n",
       "│\u001b[2m                                \u001b[0m│\u001b[2m                                    \u001b[0m│\u001b[2m \u001b[0m\u001b[2mher as someone who has a magnetic charm  \u001b[0m\u001b[2m \u001b[0m│\n",
       "│\u001b[2m                                \u001b[0m│\u001b[2m                                    \u001b[0m│\u001b[2m \u001b[0m\u001b[2mand a certain allure, much like the      \u001b[0m\u001b[2m \u001b[0m│\n",
       "│\u001b[2m                                \u001b[0m│\u001b[2m                                    \u001b[0m│\u001b[2m \u001b[0m\u001b[2miconic actress Bette Davis, known for her\u001b[0m\u001b[2m \u001b[0m│\n",
       "│\u001b[2m                                \u001b[0m│\u001b[2m                                    \u001b[0m│\u001b[2m \u001b[0m\u001b[2mdistinctive eyes and strong screen       \u001b[0m\u001b[2m \u001b[0m│\n",
       "│\u001b[2m                                \u001b[0m│\u001b[2m                                    \u001b[0m│\u001b[2m \u001b[0m\u001b[2mpresence. The song highlights her ability\u001b[0m\u001b[2m \u001b[0m│\n",
       "│\u001b[2m                                \u001b[0m│\u001b[2m                                    \u001b[0m│\u001b[2m \u001b[0m\u001b[2mto enchant and mesmerize those around her\u001b[0m\u001b[2m \u001b[0m│\n",
       "│\u001b[2m                                \u001b[0m│\u001b[2m                                    \u001b[0m│\u001b[2m \u001b[0m\u001b[2mwith her unique and striking qualities.  \u001b[0m\u001b[2m \u001b[0m│\n",
       "├────────────────────────────────┼────────────────────────────────────┼───────────────────────────────────────────┤\n",
       "│\u001b[2m \u001b[0m\u001b[2m\"Billie Jean\"                 \u001b[0m\u001b[2m \u001b[0m│\u001b[2m \u001b[0m\u001b[2mMichael Jackson                   \u001b[0m\u001b[2m \u001b[0m│\u001b[2m \u001b[0m\u001b[2mThe song \"Billie Jean\" by Michael Jackson\u001b[0m\u001b[2m \u001b[0m│\n",
       "│\u001b[2m                                \u001b[0m│\u001b[2m                                    \u001b[0m│\u001b[2m \u001b[0m\u001b[2mis about a woman named Billie Jean who   \u001b[0m\u001b[2m \u001b[0m│\n",
       "│\u001b[2m                                \u001b[0m│\u001b[2m                                    \u001b[0m│\u001b[2m \u001b[0m\u001b[2mclaims that the narrator is the father of\u001b[0m\u001b[2m \u001b[0m│\n",
       "│\u001b[2m                                \u001b[0m│\u001b[2m                                    \u001b[0m│\u001b[2m \u001b[0m\u001b[2mher child, which he denies. The lyrics   \u001b[0m\u001b[2m \u001b[0m│\n",
       "│\u001b[2m                                \u001b[0m│\u001b[2m                                    \u001b[0m│\u001b[2m \u001b[0m\u001b[2mdescribe the emotional turmoil and       \u001b[0m\u001b[2m \u001b[0m│\n",
       "│\u001b[2m                                \u001b[0m│\u001b[2m                                    \u001b[0m│\u001b[2m \u001b[0m\u001b[2mconfusion caused by her accusations, as  \u001b[0m\u001b[2m \u001b[0m│\n",
       "│\u001b[2m                                \u001b[0m│\u001b[2m                                    \u001b[0m│\u001b[2m \u001b[0m\u001b[2mwell as the impact on his life and       \u001b[0m\u001b[2m \u001b[0m│\n",
       "│\u001b[2m                                \u001b[0m│\u001b[2m                                    \u001b[0m│\u001b[2m \u001b[0m\u001b[2mreputation. The song addresses themes of \u001b[0m\u001b[2m \u001b[0m│\n",
       "│\u001b[2m                                \u001b[0m│\u001b[2m                                    \u001b[0m│\u001b[2m \u001b[0m\u001b[2mfalse accusations, infidelity, and the   \u001b[0m\u001b[2m \u001b[0m│\n",
       "│\u001b[2m                                \u001b[0m│\u001b[2m                                    \u001b[0m│\u001b[2m \u001b[0m\u001b[2mconsequences of fame. \"Billie Jean\" is   \u001b[0m\u001b[2m \u001b[0m│\n",
       "│\u001b[2m                                \u001b[0m│\u001b[2m                                    \u001b[0m│\u001b[2m \u001b[0m\u001b[2mone of Michael Jackson's most famous     \u001b[0m\u001b[2m \u001b[0m│\n",
       "│\u001b[2m                                \u001b[0m│\u001b[2m                                    \u001b[0m│\u001b[2m \u001b[0m\u001b[2mtracks and is known for its distinctive  \u001b[0m\u001b[2m \u001b[0m│\n",
       "│\u001b[2m                                \u001b[0m│\u001b[2m                                    \u001b[0m│\u001b[2m \u001b[0m\u001b[2mbassline and compelling narrative.       \u001b[0m\u001b[2m \u001b[0m│\n",
       "├────────────────────────────────┼────────────────────────────────────┼───────────────────────────────────────────┤\n",
       "│\u001b[2m \u001b[0m\u001b[2m\"Call Me\"                     \u001b[0m\u001b[2m \u001b[0m│\u001b[2m \u001b[0m\u001b[2mBlondie                           \u001b[0m\u001b[2m \u001b[0m│\u001b[2m \u001b[0m\u001b[2mThe song \"Call Me\" by Blondie is about a \u001b[0m\u001b[2m \u001b[0m│\n",
       "│\u001b[2m                                \u001b[0m│\u001b[2m                                    \u001b[0m│\u001b[2m \u001b[0m\u001b[2mpassionate, whirlwind romance and the    \u001b[0m\u001b[2m \u001b[0m│\n",
       "│\u001b[2m                                \u001b[0m│\u001b[2m                                    \u001b[0m│\u001b[2m \u001b[0m\u001b[2mexcitement of a new relationship. The    \u001b[0m\u001b[2m \u001b[0m│\n",
       "│\u001b[2m                                \u001b[0m│\u001b[2m                                    \u001b[0m│\u001b[2m \u001b[0m\u001b[2mlyrics convey a sense of urgency and     \u001b[0m\u001b[2m \u001b[0m│\n",
       "│\u001b[2m                                \u001b[0m│\u001b[2m                                    \u001b[0m│\u001b[2m \u001b[0m\u001b[2mdesire, with the protagonist inviting    \u001b[0m\u001b[2m \u001b[0m│\n",
       "│\u001b[2m                                \u001b[0m│\u001b[2m                                    \u001b[0m│\u001b[2m \u001b[0m\u001b[2mtheir lover to call them anytime, day or \u001b[0m\u001b[2m \u001b[0m│\n",
       "│\u001b[2m                                \u001b[0m│\u001b[2m                                    \u001b[0m│\u001b[2m \u001b[0m\u001b[2mnight. The song captures the intensity   \u001b[0m\u001b[2m \u001b[0m│\n",
       "│\u001b[2m                                \u001b[0m│\u001b[2m                                    \u001b[0m│\u001b[2m \u001b[0m\u001b[2mand immediacy of falling in love and the \u001b[0m\u001b[2m \u001b[0m│\n",
       "│\u001b[2m                                \u001b[0m│\u001b[2m                                    \u001b[0m│\u001b[2m \u001b[0m\u001b[2mthrill of a deep, emotional connection.  \u001b[0m\u001b[2m \u001b[0m│\n",
       "│\u001b[2m                                \u001b[0m│\u001b[2m                                    \u001b[0m│\u001b[2m \u001b[0m\u001b[2mIt was released in 1980 and became one of\u001b[0m\u001b[2m \u001b[0m│\n",
       "│\u001b[2m                                \u001b[0m│\u001b[2m                                    \u001b[0m│\u001b[2m \u001b[0m\u001b[2mBlondie's biggest hits, known for its    \u001b[0m\u001b[2m \u001b[0m│\n",
       "│\u001b[2m                                \u001b[0m│\u001b[2m                                    \u001b[0m│\u001b[2m \u001b[0m\u001b[2menergetic beat and catchy chorus.        \u001b[0m\u001b[2m \u001b[0m│\n",
       "├────────────────────────────────┼────────────────────────────────────┼───────────────────────────────────────────┤\n",
       "│\u001b[2m \u001b[0m\u001b[2m\"Centerfold\"                  \u001b[0m\u001b[2m \u001b[0m│\u001b[2m \u001b[0m\u001b[2mThe J. Geils Band                 \u001b[0m\u001b[2m \u001b[0m│\u001b[2m \u001b[0m\u001b[2mThe song \"Centerfold\" by The J. Geils    \u001b[0m\u001b[2m \u001b[0m│\n",
       "│\u001b[2m                                \u001b[0m│\u001b[2m                                    \u001b[0m│\u001b[2m \u001b[0m\u001b[2mBand, released in 1981, is about a man   \u001b[0m\u001b[2m \u001b[0m│\n",
       "│\u001b[2m                                \u001b[0m│\u001b[2m                                    \u001b[0m│\u001b[2m \u001b[0m\u001b[2mwho is shocked to discover that a girl he\u001b[0m\u001b[2m \u001b[0m│\n",
       "│\u001b[2m                                \u001b[0m│\u001b[2m                                    \u001b[0m│\u001b[2m \u001b[0m\u001b[2mhad a crush on in high school has become \u001b[0m\u001b[2m \u001b[0m│\n",
       "│\u001b[2m                                \u001b[0m│\u001b[2m                                    \u001b[0m│\u001b[2m \u001b[0m\u001b[2ma centerfold model in an adult magazine. \u001b[0m\u001b[2m \u001b[0m│\n",
       "│\u001b[2m                                \u001b[0m│\u001b[2m                                    \u001b[0m│\u001b[2m \u001b[0m\u001b[2mThe lyrics describe his mixed emotions of\u001b[0m\u001b[2m \u001b[0m│\n",
       "│\u001b[2m                                \u001b[0m│\u001b[2m                                    \u001b[0m│\u001b[2m \u001b[0m\u001b[2msurprise, nostalgia, and disillusionment \u001b[0m\u001b[2m \u001b[0m│\n",
       "│\u001b[2m                                \u001b[0m│\u001b[2m                                    \u001b[0m│\u001b[2m \u001b[0m\u001b[2mas he grapples with the image of the girl\u001b[0m\u001b[2m \u001b[0m│\n",
       "│\u001b[2m                                \u001b[0m│\u001b[2m                                    \u001b[0m│\u001b[2m \u001b[0m\u001b[2mhe once admired now being portrayed in a \u001b[0m\u001b[2m \u001b[0m│\n",
       "│\u001b[2m                                \u001b[0m│\u001b[2m                                    \u001b[0m│\u001b[2m \u001b[0m\u001b[2mprovocative manner. The song combines    \u001b[0m\u001b[2m \u001b[0m│\n",
       "│\u001b[2m                                \u001b[0m│\u001b[2m                                    \u001b[0m│\u001b[2m \u001b[0m\u001b[2mthese themes with a catchy, upbeat       \u001b[0m\u001b[2m \u001b[0m│\n",
       "│\u001b[2m                                \u001b[0m│\u001b[2m                                    \u001b[0m│\u001b[2m \u001b[0m\u001b[2mmelody, making it a memorable hit from   \u001b[0m\u001b[2m \u001b[0m│\n",
       "│\u001b[2m                                \u001b[0m│\u001b[2m                                    \u001b[0m│\u001b[2m \u001b[0m\u001b[2mthe early '80s.                          \u001b[0m\u001b[2m \u001b[0m│\n",
       "├────────────────────────────────┼────────────────────────────────────┼───────────────────────────────────────────┤\n",
       "│\u001b[2m \u001b[0m\u001b[2m\"Ebony and Ivory\"             \u001b[0m\u001b[2m \u001b[0m│\u001b[2m \u001b[0m\u001b[2mPaul McCartney and Stevie Wonder  \u001b[0m\u001b[2m \u001b[0m│\u001b[2m \u001b[0m\u001b[2mThe song \"Ebony and Ivory\" by Paul       \u001b[0m\u001b[2m \u001b[0m│\n",
       "│\u001b[2m                                \u001b[0m│\u001b[2m                                    \u001b[0m│\u001b[2m \u001b[0m\u001b[2mMcCartney and Stevie Wonder addresses    \u001b[0m\u001b[2m \u001b[0m│\n",
       "│\u001b[2m                                \u001b[0m│\u001b[2m                                    \u001b[0m│\u001b[2m \u001b[0m\u001b[2mthemes of racial harmony and unity. The  \u001b[0m\u001b[2m \u001b[0m│\n",
       "│\u001b[2m                                \u001b[0m│\u001b[2m                                    \u001b[0m│\u001b[2m \u001b[0m\u001b[2mtitle metaphorically refers to the black \u001b[0m\u001b[2m \u001b[0m│\n",
       "│\u001b[2m                                \u001b[0m│\u001b[2m                                    \u001b[0m│\u001b[2m \u001b[0m\u001b[2mand white keys on a piano, symbolizing   \u001b[0m\u001b[2m \u001b[0m│\n",
       "│\u001b[2m                                \u001b[0m│\u001b[2m                                    \u001b[0m│\u001b[2m \u001b[0m\u001b[2mhow different races can come together to \u001b[0m\u001b[2m \u001b[0m│\n",
       "│\u001b[2m                                \u001b[0m│\u001b[2m                                    \u001b[0m│\u001b[2m \u001b[0m\u001b[2mcreate something beautiful. The lyrics   \u001b[0m\u001b[2m \u001b[0m│\n",
       "│\u001b[2m                                \u001b[0m│\u001b[2m                                    \u001b[0m│\u001b[2m \u001b[0m\u001b[2memphasize the importance of living       \u001b[0m\u001b[2m \u001b[0m│\n",
       "│\u001b[2m                                \u001b[0m│\u001b[2m                                    \u001b[0m│\u001b[2m \u001b[0m\u001b[2mtogether in perfect harmony, despite     \u001b[0m\u001b[2m \u001b[0m│\n",
       "│\u001b[2m                                \u001b[0m│\u001b[2m                                    \u001b[0m│\u001b[2m \u001b[0m\u001b[2mdifferences, and promoting mutual        \u001b[0m\u001b[2m \u001b[0m│\n",
       "│\u001b[2m                                \u001b[0m│\u001b[2m                                    \u001b[0m│\u001b[2m \u001b[0m\u001b[2munderstanding and cooperation.           \u001b[0m\u001b[2m \u001b[0m│\n",
       "├────────────────────────────────┼────────────────────────────────────┼───────────────────────────────────────────┤\n",
       "│\u001b[2m \u001b[0m\u001b[2m\"Endless Love\"                \u001b[0m\u001b[2m \u001b[0m│\u001b[2m \u001b[0m\u001b[2mDiana Ross and Lionel Richie      \u001b[0m\u001b[2m \u001b[0m│\u001b[2m \u001b[0m\u001b[2mThe song \"Endless Love\" by Diana Ross and\u001b[0m\u001b[2m \u001b[0m│\n",
       "│\u001b[2m                                \u001b[0m│\u001b[2m                                    \u001b[0m│\u001b[2m \u001b[0m\u001b[2mLionel Richie is about a deep, unwavering\u001b[0m\u001b[2m \u001b[0m│\n",
       "│\u001b[2m                                \u001b[0m│\u001b[2m                                    \u001b[0m│\u001b[2m \u001b[0m\u001b[2mromantic love between two people. The    \u001b[0m\u001b[2m \u001b[0m│\n",
       "│\u001b[2m                                \u001b[0m│\u001b[2m                                    \u001b[0m│\u001b[2m \u001b[0m\u001b[2mlyrics express a profound and enduring   \u001b[0m\u001b[2m \u001b[0m│\n",
       "│\u001b[2m                                \u001b[0m│\u001b[2m                                    \u001b[0m│\u001b[2m \u001b[0m\u001b[2maffection, with the singers declaring    \u001b[0m\u001b[2m \u001b[0m│\n",
       "│\u001b[2m                                \u001b[0m│\u001b[2m                                    \u001b[0m│\u001b[2m \u001b[0m\u001b[2mtheir eternal devotion and commitment to \u001b[0m\u001b[2m \u001b[0m│\n",
       "│\u001b[2m                                \u001b[0m│\u001b[2m                                    \u001b[0m│\u001b[2m \u001b[0m\u001b[2meach other. It's a classic love ballad   \u001b[0m\u001b[2m \u001b[0m│\n",
       "│\u001b[2m                                \u001b[0m│\u001b[2m                                    \u001b[0m│\u001b[2m \u001b[0m\u001b[2mthat celebrates the timeless and         \u001b[0m\u001b[2m \u001b[0m│\n",
       "│\u001b[2m                                \u001b[0m│\u001b[2m                                    \u001b[0m│\u001b[2m \u001b[0m\u001b[2munbreakable bond between lovers.         \u001b[0m\u001b[2m \u001b[0m│\n",
       "├────────────────────────────────┼────────────────────────────────────┼───────────────────────────────────────────┤\n",
       "│\u001b[2m \u001b[0m\u001b[2m\"Every Breath You Take\"       \u001b[0m\u001b[2m \u001b[0m│\u001b[2m \u001b[0m\u001b[2mThe Police                        \u001b[0m\u001b[2m \u001b[0m│\u001b[2m \u001b[0m\u001b[2mThe song \"Every Breath You Take\" by The  \u001b[0m\u001b[2m \u001b[0m│\n",
       "│\u001b[2m                                \u001b[0m│\u001b[2m                                    \u001b[0m│\u001b[2m \u001b[0m\u001b[2mPolice, released in 1983, is often       \u001b[0m\u001b[2m \u001b[0m│\n",
       "│\u001b[2m                                \u001b[0m│\u001b[2m                                    \u001b[0m│\u001b[2m \u001b[0m\u001b[2minterpreted as a love song due to its    \u001b[0m\u001b[2m \u001b[0m│\n",
       "│\u001b[2m                                \u001b[0m│\u001b[2m                                    \u001b[0m│\u001b[2m \u001b[0m\u001b[2mmellow and melodic tune. However, the    \u001b[0m\u001b[2m \u001b[0m│\n",
       "│\u001b[2m                                \u001b[0m│\u001b[2m                                    \u001b[0m│\u001b[2m \u001b[0m\u001b[2mlyrics reveal a much darker theme. The   \u001b[0m\u001b[2m \u001b[0m│\n",
       "│\u001b[2m                                \u001b[0m│\u001b[2m                                    \u001b[0m│\u001b[2m \u001b[0m\u001b[2msong is about obsession and surveillance,\u001b[0m\u001b[2m \u001b[0m│\n",
       "│\u001b[2m                                \u001b[0m│\u001b[2m                                    \u001b[0m│\u001b[2m \u001b[0m\u001b[2mwith the narrator expressing an intense  \u001b[0m\u001b[2m \u001b[0m│\n",
       "│\u001b[2m                                \u001b[0m│\u001b[2m                                    \u001b[0m│\u001b[2m \u001b[0m\u001b[2mfixation on someone, watching their every\u001b[0m\u001b[2m \u001b[0m│\n",
       "│\u001b[2m                                \u001b[0m│\u001b[2m                                    \u001b[0m│\u001b[2m \u001b[0m\u001b[2mmove. Phrases like \"Every breath you     \u001b[0m\u001b[2m \u001b[0m│\n",
       "│\u001b[2m                                \u001b[0m│\u001b[2m                                    \u001b[0m│\u001b[2m \u001b[0m\u001b[2mtake, every move you make, I'll be       \u001b[0m\u001b[2m \u001b[0m│\n",
       "│\u001b[2m                                \u001b[0m│\u001b[2m                                    \u001b[0m│\u001b[2m \u001b[0m\u001b[2mwatching you\" suggest a sense of         \u001b[0m\u001b[2m \u001b[0m│\n",
       "│\u001b[2m                                \u001b[0m│\u001b[2m                                    \u001b[0m│\u001b[2m \u001b[0m\u001b[2mpossessiveness and control rather than   \u001b[0m\u001b[2m \u001b[0m│\n",
       "│\u001b[2m                                \u001b[0m│\u001b[2m                                    \u001b[0m│\u001b[2m \u001b[0m\u001b[2mromantic love. The song has been widely  \u001b[0m\u001b[2m \u001b[0m│\n",
       "│\u001b[2m                                \u001b[0m│\u001b[2m                                    \u001b[0m│\u001b[2m \u001b[0m\u001b[2mdiscussed and analyzed for its portrayal \u001b[0m\u001b[2m \u001b[0m│\n",
       "│\u001b[2m                                \u001b[0m│\u001b[2m                                    \u001b[0m│\u001b[2m \u001b[0m\u001b[2mof unhealthy obsession masked by a       \u001b[0m\u001b[2m \u001b[0m│\n",
       "│\u001b[2m                                \u001b[0m│\u001b[2m                                    \u001b[0m│\u001b[2m \u001b[0m\u001b[2mseemingly gentle melody.                 \u001b[0m\u001b[2m \u001b[0m│\n",
       "├────────────────────────────────┼────────────────────────────────────┼───────────────────────────────────────────┤\n",
       "│\u001b[2m \u001b[0m\u001b[2m\"Eye of the Tiger\"            \u001b[0m\u001b[2m \u001b[0m│\u001b[2m \u001b[0m\u001b[2mSurvivor                          \u001b[0m\u001b[2m \u001b[0m│\u001b[2m \u001b[0m\u001b[2m\"Eye of the Tiger\" by Survivor is a song \u001b[0m\u001b[2m \u001b[0m│\n",
       "│\u001b[2m                                \u001b[0m│\u001b[2m                                    \u001b[0m│\u001b[2m \u001b[0m\u001b[2mabout perseverance, determination, and   \u001b[0m\u001b[2m \u001b[0m│\n",
       "│\u001b[2m                                \u001b[0m│\u001b[2m                                    \u001b[0m│\u001b[2m \u001b[0m\u001b[2mfighting spirit. It was famously used as \u001b[0m\u001b[2m \u001b[0m│\n",
       "│\u001b[2m                                \u001b[0m│\u001b[2m                                    \u001b[0m│\u001b[2m \u001b[0m\u001b[2mthe theme song for the movie \"Rocky III,\"\u001b[0m\u001b[2m \u001b[0m│\n",
       "│\u001b[2m                                \u001b[0m│\u001b[2m                                    \u001b[0m│\u001b[2m \u001b[0m\u001b[2mand its lyrics convey the idea of rising \u001b[0m\u001b[2m \u001b[0m│\n",
       "│\u001b[2m                                \u001b[0m│\u001b[2m                                    \u001b[0m│\u001b[2m \u001b[0m\u001b[2mup to challenges, staying focused, and   \u001b[0m\u001b[2m \u001b[0m│\n",
       "│\u001b[2m                                \u001b[0m│\u001b[2m                                    \u001b[0m│\u001b[2m \u001b[0m\u001b[2mmaintaining the will to succeed despite  \u001b[0m\u001b[2m \u001b[0m│\n",
       "│\u001b[2m                                \u001b[0m│\u001b[2m                                    \u001b[0m│\u001b[2m \u001b[0m\u001b[2mobstacles. The \"eye of the tiger\"        \u001b[0m\u001b[2m \u001b[0m│\n",
       "│\u001b[2m                                \u001b[0m│\u001b[2m                                    \u001b[0m│\u001b[2m \u001b[0m\u001b[2mmetaphor represents a sharp, unyielding  \u001b[0m\u001b[2m \u001b[0m│\n",
       "│\u001b[2m                                \u001b[0m│\u001b[2m                                    \u001b[0m│\u001b[2m \u001b[0m\u001b[2mfocus and readiness to face and overcome \u001b[0m\u001b[2m \u001b[0m│\n",
       "│\u001b[2m                                \u001b[0m│\u001b[2m                                    \u001b[0m│\u001b[2m \u001b[0m\u001b[2madversity.                               \u001b[0m\u001b[2m \u001b[0m│\n",
       "├────────────────────────────────┼────────────────────────────────────┼───────────────────────────────────────────┤\n",
       "│\u001b[2m \u001b[0m\u001b[2m\"Flashdance... What a Feeling\"\u001b[0m\u001b[2m \u001b[0m│\u001b[2m \u001b[0m\u001b[2mIrene Cara                        \u001b[0m\u001b[2m \u001b[0m│\u001b[2m \u001b[0m\u001b[2mThe song \"Flashdance... What a Feeling\"  \u001b[0m\u001b[2m \u001b[0m│\n",
       "│\u001b[2m                                \u001b[0m│\u001b[2m                                    \u001b[0m│\u001b[2m \u001b[0m\u001b[2mby Irene Cara is about the exhilaration  \u001b[0m\u001b[2m \u001b[0m│\n",
       "│\u001b[2m                                \u001b[0m│\u001b[2m                                    \u001b[0m│\u001b[2m \u001b[0m\u001b[2mand fulfillment that comes from pursuing \u001b[0m\u001b[2m \u001b[0m│\n",
       "│\u001b[2m                                \u001b[0m│\u001b[2m                                    \u001b[0m│\u001b[2m \u001b[0m\u001b[2mone's dreams with passion and            \u001b[0m\u001b[2m \u001b[0m│\n",
       "│\u001b[2m                                \u001b[0m│\u001b[2m                                    \u001b[0m│\u001b[2m \u001b[0m\u001b[2mdetermination. The lyrics convey a sense \u001b[0m\u001b[2m \u001b[0m│\n",
       "│\u001b[2m                                \u001b[0m│\u001b[2m                                    \u001b[0m│\u001b[2m \u001b[0m\u001b[2mof empowerment and the joy of achieving  \u001b[0m\u001b[2m \u001b[0m│\n",
       "│\u001b[2m                                \u001b[0m│\u001b[2m                                    \u001b[0m│\u001b[2m \u001b[0m\u001b[2mone's goals, capturing the essence of    \u001b[0m\u001b[2m \u001b[0m│\n",
       "│\u001b[2m                                \u001b[0m│\u001b[2m                                    \u001b[0m│\u001b[2m \u001b[0m\u001b[2mfollowing one's heart and experiencing   \u001b[0m\u001b[2m \u001b[0m│\n",
       "│\u001b[2m                                \u001b[0m│\u001b[2m                                    \u001b[0m│\u001b[2m \u001b[0m\u001b[2mthe euphoria that comes with realizing   \u001b[0m\u001b[2m \u001b[0m│\n",
       "│\u001b[2m                                \u001b[0m│\u001b[2m                                    \u001b[0m│\u001b[2m \u001b[0m\u001b[2mone's ambitions. The song was prominently\u001b[0m\u001b[2m \u001b[0m│\n",
       "│\u001b[2m                                \u001b[0m│\u001b[2m                                    \u001b[0m│\u001b[2m \u001b[0m\u001b[2mfeatured in the 1983 film \"Flashdance,\"  \u001b[0m\u001b[2m \u001b[0m│\n",
       "│\u001b[2m                                \u001b[0m│\u001b[2m                                    \u001b[0m│\u001b[2m \u001b[0m\u001b[2mwhich tells the story of a young woman   \u001b[0m\u001b[2m \u001b[0m│\n",
       "│\u001b[2m                                \u001b[0m│\u001b[2m                                    \u001b[0m│\u001b[2m \u001b[0m\u001b[2maspiring to become a professional dancer.\u001b[0m\u001b[2m \u001b[0m│\n",
       "├────────────────────────────────┼────────────────────────────────────┼───────────────────────────────────────────┤\n",
       "│\u001b[2m \u001b[0m\u001b[2m\"I Love Rock 'n' Roll\"        \u001b[0m\u001b[2m \u001b[0m│\u001b[2m \u001b[0m\u001b[2mJoan Jett and the Blackhearts     \u001b[0m\u001b[2m \u001b[0m│\u001b[2m \u001b[0m\u001b[2mThe song \"I Love Rock 'n' Roll\" by Joan  \u001b[0m\u001b[2m \u001b[0m│\n",
       "│\u001b[2m                                \u001b[0m│\u001b[2m                                    \u001b[0m│\u001b[2m \u001b[0m\u001b[2mJett and the Blackhearts is about the    \u001b[0m\u001b[2m \u001b[0m│\n",
       "│\u001b[2m                                \u001b[0m│\u001b[2m                                    \u001b[0m│\u001b[2m \u001b[0m\u001b[2mexcitement and passion for rock and roll \u001b[0m\u001b[2m \u001b[0m│\n",
       "│\u001b[2m                                \u001b[0m│\u001b[2m                                    \u001b[0m│\u001b[2m \u001b[0m\u001b[2mmusic. The lyrics describe a scene where \u001b[0m\u001b[2m \u001b[0m│\n",
       "│\u001b[2m                                \u001b[0m│\u001b[2m                                    \u001b[0m│\u001b[2m \u001b[0m\u001b[2mthe narrator spots someone attractive at \u001b[0m\u001b[2m \u001b[0m│\n",
       "│\u001b[2m                                \u001b[0m│\u001b[2m                                    \u001b[0m│\u001b[2m \u001b[0m\u001b[2ma jukebox, and they bond over their      \u001b[0m\u001b[2m \u001b[0m│\n",
       "│\u001b[2m                                \u001b[0m│\u001b[2m                                    \u001b[0m│\u001b[2m \u001b[0m\u001b[2mshared love for rock music. The song     \u001b[0m\u001b[2m \u001b[0m│\n",
       "│\u001b[2m                                \u001b[0m│\u001b[2m                                    \u001b[0m│\u001b[2m \u001b[0m\u001b[2mcaptures the rebellious and energetic    \u001b[0m\u001b[2m \u001b[0m│\n",
       "│\u001b[2m                                \u001b[0m│\u001b[2m                                    \u001b[0m│\u001b[2m \u001b[0m\u001b[2mspirit of rock and roll, emphasizing how \u001b[0m\u001b[2m \u001b[0m│\n",
       "│\u001b[2m                                \u001b[0m│\u001b[2m                                    \u001b[0m│\u001b[2m \u001b[0m\u001b[2mit brings people together and creates a  \u001b[0m\u001b[2m \u001b[0m│\n",
       "│\u001b[2m                                \u001b[0m│\u001b[2m                                    \u001b[0m│\u001b[2m \u001b[0m\u001b[2msense of fun and freedom.                \u001b[0m\u001b[2m \u001b[0m│\n",
       "├────────────────────────────────┼────────────────────────────────────┼───────────────────────────────────────────┤\n",
       "│\u001b[2m \u001b[0m\u001b[2m\"Lady\"                        \u001b[0m\u001b[2m \u001b[0m│\u001b[2m \u001b[0m\u001b[2mKenny Rogers                      \u001b[0m\u001b[2m \u001b[0m│\u001b[2m \u001b[0m\u001b[2mThe song \"Lady\" by Kenny Rogers is a     \u001b[0m\u001b[2m \u001b[0m│\n",
       "│\u001b[2m                                \u001b[0m│\u001b[2m                                    \u001b[0m│\u001b[2m \u001b[0m\u001b[2mromantic ballad that expresses deep love \u001b[0m\u001b[2m \u001b[0m│\n",
       "│\u001b[2m                                \u001b[0m│\u001b[2m                                    \u001b[0m│\u001b[2m \u001b[0m\u001b[2mand devotion. Written by Lionel Richie,  \u001b[0m\u001b[2m \u001b[0m│\n",
       "│\u001b[2m                                \u001b[0m│\u001b[2m                                    \u001b[0m│\u001b[2m \u001b[0m\u001b[2mthe song's lyrics convey a man's         \u001b[0m\u001b[2m \u001b[0m│\n",
       "│\u001b[2m                                \u001b[0m│\u001b[2m                                    \u001b[0m│\u001b[2m \u001b[0m\u001b[2mheartfelt emotions and admiration for the\u001b[0m\u001b[2m \u001b[0m│\n",
       "│\u001b[2m                                \u001b[0m│\u001b[2m                                    \u001b[0m│\u001b[2m \u001b[0m\u001b[2mwoman he loves. He describes her as the  \u001b[0m\u001b[2m \u001b[0m│\n",
       "│\u001b[2m                                \u001b[0m│\u001b[2m                                    \u001b[0m│\u001b[2m \u001b[0m\u001b[2mlight in his life, his inspiration, and  \u001b[0m\u001b[2m \u001b[0m│\n",
       "│\u001b[2m                                \u001b[0m│\u001b[2m                                    \u001b[0m│\u001b[2m \u001b[0m\u001b[2msomeone who has filled his life with joy \u001b[0m\u001b[2m \u001b[0m│\n",
       "│\u001b[2m                                \u001b[0m│\u001b[2m                                    \u001b[0m│\u001b[2m \u001b[0m\u001b[2mand meaning. The song is celebrated for  \u001b[0m\u001b[2m \u001b[0m│\n",
       "│\u001b[2m                                \u001b[0m│\u001b[2m                                    \u001b[0m│\u001b[2m \u001b[0m\u001b[2mits tender and sincere portrayal of love \u001b[0m\u001b[2m \u001b[0m│\n",
       "│\u001b[2m                                \u001b[0m│\u001b[2m                                    \u001b[0m│\u001b[2m \u001b[0m\u001b[2mand commitment.                          \u001b[0m\u001b[2m \u001b[0m│\n",
       "├────────────────────────────────┼────────────────────────────────────┼───────────────────────────────────────────┤\n",
       "│\u001b[2m \u001b[0m\u001b[2m\"Like a Virgin\"               \u001b[0m\u001b[2m \u001b[0m│\u001b[2m \u001b[0m\u001b[2mMadonna                           \u001b[0m\u001b[2m \u001b[0m│\u001b[2m \u001b[0m\u001b[2mThe song \"Like a Virgin\" by Madonna,     \u001b[0m\u001b[2m \u001b[0m│\n",
       "│\u001b[2m                                \u001b[0m│\u001b[2m                                    \u001b[0m│\u001b[2m \u001b[0m\u001b[2mreleased in 1984, is about the feeling of\u001b[0m\u001b[2m \u001b[0m│\n",
       "│\u001b[2m                                \u001b[0m│\u001b[2m                                    \u001b[0m│\u001b[2m \u001b[0m\u001b[2mstarting fresh in a new romantic         \u001b[0m\u001b[2m \u001b[0m│\n",
       "│\u001b[2m                                \u001b[0m│\u001b[2m                                    \u001b[0m│\u001b[2m \u001b[0m\u001b[2mrelationship. The lyrics describe the    \u001b[0m\u001b[2m \u001b[0m│\n",
       "│\u001b[2m                                \u001b[0m│\u001b[2m                                    \u001b[0m│\u001b[2m \u001b[0m\u001b[2mexcitement and emotional renewal that    \u001b[0m\u001b[2m \u001b[0m│\n",
       "│\u001b[2m                                \u001b[0m│\u001b[2m                                    \u001b[0m│\u001b[2m \u001b[0m\u001b[2mcome with falling in love again after    \u001b[0m\u001b[2m \u001b[0m│\n",
       "│\u001b[2m                                \u001b[0m│\u001b[2m                                    \u001b[0m│\u001b[2m \u001b[0m\u001b[2mexperiencing past relationships. The     \u001b[0m\u001b[2m \u001b[0m│\n",
       "│\u001b[2m                                \u001b[0m│\u001b[2m                                    \u001b[0m│\u001b[2m \u001b[0m\u001b[2mmetaphor of feeling \"like a virgin\"      \u001b[0m\u001b[2m \u001b[0m│\n",
       "│\u001b[2m                                \u001b[0m│\u001b[2m                                    \u001b[0m│\u001b[2m \u001b[0m\u001b[2msuggests a sense of purity and newness,  \u001b[0m\u001b[2m \u001b[0m│\n",
       "│\u001b[2m                                \u001b[0m│\u001b[2m                                    \u001b[0m│\u001b[2m \u001b[0m\u001b[2mas if experiencing love for the first    \u001b[0m\u001b[2m \u001b[0m│\n",
       "│\u001b[2m                                \u001b[0m│\u001b[2m                                    \u001b[0m│\u001b[2m \u001b[0m\u001b[2mtime. The song's catchy melody and       \u001b[0m\u001b[2m \u001b[0m│\n",
       "│\u001b[2m                                \u001b[0m│\u001b[2m                                    \u001b[0m│\u001b[2m \u001b[0m\u001b[2mprovocative theme contributed to its     \u001b[0m\u001b[2m \u001b[0m│\n",
       "│\u001b[2m                                \u001b[0m│\u001b[2m                                    \u001b[0m│\u001b[2m \u001b[0m\u001b[2mwidespread popularity and iconic status  \u001b[0m\u001b[2m \u001b[0m│\n",
       "│\u001b[2m                                \u001b[0m│\u001b[2m                                    \u001b[0m│\u001b[2m \u001b[0m\u001b[2min pop music.                            \u001b[0m\u001b[2m \u001b[0m│\n",
       "├────────────────────────────────┼────────────────────────────────────┼───────────────────────────────────────────┤\n",
       "│\u001b[2m \u001b[0m\u001b[2m\"Physical\"                    \u001b[0m\u001b[2m \u001b[0m│\u001b[2m \u001b[0m\u001b[2mOlivia Newton-John                \u001b[0m\u001b[2m \u001b[0m│\u001b[2m \u001b[0m\u001b[2mThe song \"Physical\" by Olivia            \u001b[0m\u001b[2m \u001b[0m│\n",
       "│\u001b[2m                                \u001b[0m│\u001b[2m                                    \u001b[0m│\u001b[2m \u001b[0m\u001b[2mNewton-John, released in 1981, is        \u001b[0m\u001b[2m \u001b[0m│\n",
       "│\u001b[2m                                \u001b[0m│\u001b[2m                                    \u001b[0m│\u001b[2m \u001b[0m\u001b[2mprimarily about physical attraction and  \u001b[0m\u001b[2m \u001b[0m│\n",
       "│\u001b[2m                                \u001b[0m│\u001b[2m                                    \u001b[0m│\u001b[2m \u001b[0m\u001b[2mdesire. The lyrics suggest a strong,     \u001b[0m\u001b[2m \u001b[0m│\n",
       "│\u001b[2m                                \u001b[0m│\u001b[2m                                    \u001b[0m│\u001b[2m \u001b[0m\u001b[2malmost irresistible urge to engage in    \u001b[0m\u001b[2m \u001b[0m│\n",
       "│\u001b[2m                                \u001b[0m│\u001b[2m                                    \u001b[0m│\u001b[2m \u001b[0m\u001b[2mphysical intimacy. The song's upbeat     \u001b[0m\u001b[2m \u001b[0m│\n",
       "│\u001b[2m                                \u001b[0m│\u001b[2m                                    \u001b[0m│\u001b[2m \u001b[0m\u001b[2mtempo and catchy melody complement its   \u001b[0m\u001b[2m \u001b[0m│\n",
       "│\u001b[2m                                \u001b[0m│\u001b[2m                                    \u001b[0m│\u001b[2m \u001b[0m\u001b[2mplayful and somewhat provocative theme.  \u001b[0m\u001b[2m \u001b[0m│\n",
       "│\u001b[2m                                \u001b[0m│\u001b[2m                                    \u001b[0m│\u001b[2m \u001b[0m\u001b[2mWhen it was released, \"Physical\" was     \u001b[0m\u001b[2m \u001b[0m│\n",
       "│\u001b[2m                                \u001b[0m│\u001b[2m                                    \u001b[0m│\u001b[2m \u001b[0m\u001b[2mconsidered quite bold and even           \u001b[0m\u001b[2m \u001b[0m│\n",
       "│\u001b[2m                                \u001b[0m│\u001b[2m                                    \u001b[0m│\u001b[2m \u001b[0m\u001b[2mcontroversial due to its overt references\u001b[0m\u001b[2m \u001b[0m│\n",
       "│\u001b[2m                                \u001b[0m│\u001b[2m                                    \u001b[0m│\u001b[2m \u001b[0m\u001b[2mto physical relationships. Despite or    \u001b[0m\u001b[2m \u001b[0m│\n",
       "│\u001b[2m                                \u001b[0m│\u001b[2m                                    \u001b[0m│\u001b[2m \u001b[0m\u001b[2mperhaps because of this, it became one of\u001b[0m\u001b[2m \u001b[0m│\n",
       "│\u001b[2m                                \u001b[0m│\u001b[2m                                    \u001b[0m│\u001b[2m \u001b[0m\u001b[2mOlivia Newton-John's most successful     \u001b[0m\u001b[2m \u001b[0m│\n",
       "│\u001b[2m                                \u001b[0m│\u001b[2m                                    \u001b[0m│\u001b[2m \u001b[0m\u001b[2mhits, topping charts and becoming an     \u001b[0m\u001b[2m \u001b[0m│\n",
       "│\u001b[2m                                \u001b[0m│\u001b[2m                                    \u001b[0m│\u001b[2m \u001b[0m\u001b[2miconic song of the early 1980s.          \u001b[0m\u001b[2m \u001b[0m│\n",
       "├────────────────────────────────┼────────────────────────────────────┼───────────────────────────────────────────┤\n",
       "│\u001b[2m \u001b[0m\u001b[2m\"Say, Say, Say\"               \u001b[0m\u001b[2m \u001b[0m│\u001b[2m \u001b[0m\u001b[2mPaul McCartney and Michael Jackson\u001b[0m\u001b[2m \u001b[0m│\u001b[2m \u001b[0m\u001b[2mThe song \"Say, Say, Say\" by Paul         \u001b[0m\u001b[2m \u001b[0m│\n",
       "│\u001b[2m                                \u001b[0m│\u001b[2m                                    \u001b[0m│\u001b[2m \u001b[0m\u001b[2mMcCartney and Michael Jackson primarily  \u001b[0m\u001b[2m \u001b[0m│\n",
       "│\u001b[2m                                \u001b[0m│\u001b[2m                                    \u001b[0m│\u001b[2m \u001b[0m\u001b[2mrevolves around themes of love and       \u001b[0m\u001b[2m \u001b[0m│\n",
       "│\u001b[2m                                \u001b[0m│\u001b[2m                                    \u001b[0m│\u001b[2m \u001b[0m\u001b[2mlonging. The lyrics depict a conversation\u001b[0m\u001b[2m \u001b[0m│\n",
       "│\u001b[2m                                \u001b[0m│\u001b[2m                                    \u001b[0m│\u001b[2m \u001b[0m\u001b[2mbetween two people, with one expressing  \u001b[0m\u001b[2m \u001b[0m│\n",
       "│\u001b[2m                                \u001b[0m│\u001b[2m                                    \u001b[0m│\u001b[2m \u001b[0m\u001b[2mtheir feelings and pleading for the      \u001b[0m\u001b[2m \u001b[0m│\n",
       "│\u001b[2m                                \u001b[0m│\u001b[2m                                    \u001b[0m│\u001b[2m \u001b[0m\u001b[2mother's affection and attention. The song\u001b[0m\u001b[2m \u001b[0m│\n",
       "│\u001b[2m                                \u001b[0m│\u001b[2m                                    \u001b[0m│\u001b[2m \u001b[0m\u001b[2mexplores the emotional dynamics of a     \u001b[0m\u001b[2m \u001b[0m│\n",
       "│\u001b[2m                                \u001b[0m│\u001b[2m                                    \u001b[0m│\u001b[2m \u001b[0m\u001b[2mromantic relationship, with the singers  \u001b[0m\u001b[2m \u001b[0m│\n",
       "│\u001b[2m                                \u001b[0m│\u001b[2m                                    \u001b[0m│\u001b[2m \u001b[0m\u001b[2mconveying their desires and the          \u001b[0m\u001b[2m \u001b[0m│\n",
       "│\u001b[2m                                \u001b[0m│\u001b[2m                                    \u001b[0m│\u001b[2m \u001b[0m\u001b[2mchallenges they face in trying to win    \u001b[0m\u001b[2m \u001b[0m│\n",
       "│\u001b[2m                                \u001b[0m│\u001b[2m                                    \u001b[0m│\u001b[2m \u001b[0m\u001b[2mover the object of their affection.      \u001b[0m\u001b[2m \u001b[0m│\n",
       "└────────────────────────────────┴────────────────────────────────────┴───────────────────────────────────────────┘\n"
      ]
     },
     "metadata": {},
     "output_type": "display_data"
    }
   ],
   "source": [
    "results.sort_by(\"song\").select(\"song\", \"artists\", \"topic\").print(format=\"rich\")"
   ]
  },
  {
   "cell_type": "code",
   "execution_count": 16,
   "id": "7d568fed-cd4b-4d1b-a35b-fcb01f028a2e",
   "metadata": {},
   "outputs": [
    {
     "data": {
      "text/html": [
       "<pre style=\"white-space:pre;overflow-x:auto;line-height:normal;font-family:Menlo,'DejaVu Sans Mono',consolas,'Courier New',monospace\">┏━━━━━━━━━━┳━━━━━━━━━━━━━━━━━━━━━┳━━━━━━━━━━━━━━━━━━━━━┳━━━━━━━━━━━━━┳━━━━━━━━━━━━━━━━━━━━━━┳━━━━━━━━━━━━━━━━━━━━━┓\n",
       "┃<span style=\"color: #800080; text-decoration-color: #800080; font-weight: bold\"> scenario </span>┃<span style=\"color: #800080; text-decoration-color: #800080; font-weight: bold\"> scenario            </span>┃<span style=\"color: #800080; text-decoration-color: #800080; font-weight: bold\"> scenario            </span>┃<span style=\"color: #800080; text-decoration-color: #800080; font-weight: bold\"> answer      </span>┃<span style=\"color: #800080; text-decoration-color: #800080; font-weight: bold\"> answer               </span>┃<span style=\"color: #800080; text-decoration-color: #800080; font-weight: bold\"> answer              </span>┃\n",
       "┃<span style=\"color: #800080; text-decoration-color: #800080; font-weight: bold\"> .weeks   </span>┃<span style=\"color: #800080; text-decoration-color: #800080; font-weight: bold\"> .song               </span>┃<span style=\"color: #800080; text-decoration-color: #800080; font-weight: bold\"> .artists            </span>┃<span style=\"color: #800080; text-decoration-color: #800080; font-weight: bold\"> .sentiment  </span>┃<span style=\"color: #800080; text-decoration-color: #800080; font-weight: bold\"> .themes              </span>┃<span style=\"color: #800080; text-decoration-color: #800080; font-weight: bold\"> .other_themes       </span>┃\n",
       "┡━━━━━━━━━━╇━━━━━━━━━━━━━━━━━━━━━╇━━━━━━━━━━━━━━━━━━━━━╇━━━━━━━━━━━━━╇━━━━━━━━━━━━━━━━━━━━━━╇━━━━━━━━━━━━━━━━━━━━━┩\n",
       "│<span style=\"color: #7f7f7f; text-decoration-color: #7f7f7f\"> 10       </span>│<span style=\"color: #7f7f7f; text-decoration-color: #7f7f7f\"> \"Physical\"          </span>│<span style=\"color: #7f7f7f; text-decoration-color: #7f7f7f\"> Olivia Newton-John  </span>│<span style=\"color: #7f7f7f; text-decoration-color: #7f7f7f\"> Happy       </span>│<span style=\"color: #7f7f7f; text-decoration-color: #7f7f7f\"> ['Love', 'Other']    </span>│<span style=\"color: #7f7f7f; text-decoration-color: #7f7f7f\"> ['Desire',          </span>│\n",
       "│<span style=\"color: #7f7f7f; text-decoration-color: #7f7f7f\">          </span>│<span style=\"color: #7f7f7f; text-decoration-color: #7f7f7f\">                     </span>│<span style=\"color: #7f7f7f; text-decoration-color: #7f7f7f\">                     </span>│<span style=\"color: #7f7f7f; text-decoration-color: #7f7f7f\">             </span>│<span style=\"color: #7f7f7f; text-decoration-color: #7f7f7f\">                      </span>│<span style=\"color: #7f7f7f; text-decoration-color: #7f7f7f\"> 'Seduction',        </span>│\n",
       "│<span style=\"color: #7f7f7f; text-decoration-color: #7f7f7f\">          </span>│<span style=\"color: #7f7f7f; text-decoration-color: #7f7f7f\">                     </span>│<span style=\"color: #7f7f7f; text-decoration-color: #7f7f7f\">                     </span>│<span style=\"color: #7f7f7f; text-decoration-color: #7f7f7f\">             </span>│<span style=\"color: #7f7f7f; text-decoration-color: #7f7f7f\">                      </span>│<span style=\"color: #7f7f7f; text-decoration-color: #7f7f7f\"> 'Empowerment',      </span>│\n",
       "│<span style=\"color: #7f7f7f; text-decoration-color: #7f7f7f\">          </span>│<span style=\"color: #7f7f7f; text-decoration-color: #7f7f7f\">                     </span>│<span style=\"color: #7f7f7f; text-decoration-color: #7f7f7f\">                     </span>│<span style=\"color: #7f7f7f; text-decoration-color: #7f7f7f\">             </span>│<span style=\"color: #7f7f7f; text-decoration-color: #7f7f7f\">                      </span>│<span style=\"color: #7f7f7f; text-decoration-color: #7f7f7f\"> 'Fun', 'Exercise']  </span>│\n",
       "├──────────┼─────────────────────┼─────────────────────┼─────────────┼──────────────────────┼─────────────────────┤\n",
       "│<span style=\"color: #7f7f7f; text-decoration-color: #7f7f7f\"> 9        </span>│<span style=\"color: #7f7f7f; text-decoration-color: #7f7f7f\"> \"Endless Love\"      </span>│<span style=\"color: #7f7f7f; text-decoration-color: #7f7f7f\"> Diana Ross and      </span>│<span style=\"color: #7f7f7f; text-decoration-color: #7f7f7f\"> Romantic    </span>│<span style=\"color: #7f7f7f; text-decoration-color: #7f7f7f\"> ['Love']             </span>│<span style=\"color: #7f7f7f; text-decoration-color: #7f7f7f\"> None                </span>│\n",
       "│<span style=\"color: #7f7f7f; text-decoration-color: #7f7f7f\">          </span>│<span style=\"color: #7f7f7f; text-decoration-color: #7f7f7f\">                     </span>│<span style=\"color: #7f7f7f; text-decoration-color: #7f7f7f\"> Lionel Richie       </span>│<span style=\"color: #7f7f7f; text-decoration-color: #7f7f7f\">             </span>│<span style=\"color: #7f7f7f; text-decoration-color: #7f7f7f\">                      </span>│<span style=\"color: #7f7f7f; text-decoration-color: #7f7f7f\">                     </span>│\n",
       "├──────────┼─────────────────────┼─────────────────────┼─────────────┼──────────────────────┼─────────────────────┤\n",
       "│<span style=\"color: #7f7f7f; text-decoration-color: #7f7f7f\"> 9        </span>│<span style=\"color: #7f7f7f; text-decoration-color: #7f7f7f\"> \"Bette Davis Eyes\"  </span>│<span style=\"color: #7f7f7f; text-decoration-color: #7f7f7f\"> Kim Carnes          </span>│<span style=\"color: #7f7f7f; text-decoration-color: #7f7f7f\"> Nostalgic   </span>│<span style=\"color: #7f7f7f; text-decoration-color: #7f7f7f\"> ['Love', 'Other']    </span>│<span style=\"color: #7f7f7f; text-decoration-color: #7f7f7f\"> ['Manipulation',    </span>│\n",
       "│<span style=\"color: #7f7f7f; text-decoration-color: #7f7f7f\">          </span>│<span style=\"color: #7f7f7f; text-decoration-color: #7f7f7f\">                     </span>│<span style=\"color: #7f7f7f; text-decoration-color: #7f7f7f\">                     </span>│<span style=\"color: #7f7f7f; text-decoration-color: #7f7f7f\">             </span>│<span style=\"color: #7f7f7f; text-decoration-color: #7f7f7f\">                      </span>│<span style=\"color: #7f7f7f; text-decoration-color: #7f7f7f\"> 'Seduction',        </span>│\n",
       "│<span style=\"color: #7f7f7f; text-decoration-color: #7f7f7f\">          </span>│<span style=\"color: #7f7f7f; text-decoration-color: #7f7f7f\">                     </span>│<span style=\"color: #7f7f7f; text-decoration-color: #7f7f7f\">                     </span>│<span style=\"color: #7f7f7f; text-decoration-color: #7f7f7f\">             </span>│<span style=\"color: #7f7f7f; text-decoration-color: #7f7f7f\">                      </span>│<span style=\"color: #7f7f7f; text-decoration-color: #7f7f7f\"> 'Mystery', 'Power', </span>│\n",
       "│<span style=\"color: #7f7f7f; text-decoration-color: #7f7f7f\">          </span>│<span style=\"color: #7f7f7f; text-decoration-color: #7f7f7f\">                     </span>│<span style=\"color: #7f7f7f; text-decoration-color: #7f7f7f\">                     </span>│<span style=\"color: #7f7f7f; text-decoration-color: #7f7f7f\">             </span>│<span style=\"color: #7f7f7f; text-decoration-color: #7f7f7f\">                      </span>│<span style=\"color: #7f7f7f; text-decoration-color: #7f7f7f\"> 'Intrigue']         </span>│\n",
       "├──────────┼─────────────────────┼─────────────────────┼─────────────┼──────────────────────┼─────────────────────┤\n",
       "│<span style=\"color: #7f7f7f; text-decoration-color: #7f7f7f\"> 8        </span>│<span style=\"color: #7f7f7f; text-decoration-color: #7f7f7f\"> \"Every Breath You   </span>│<span style=\"color: #7f7f7f; text-decoration-color: #7f7f7f\"> The Police          </span>│<span style=\"color: #7f7f7f; text-decoration-color: #7f7f7f\"> Melancholic </span>│<span style=\"color: #7f7f7f; text-decoration-color: #7f7f7f\"> ['Love', 'Loss',     </span>│<span style=\"color: #7f7f7f; text-decoration-color: #7f7f7f\"> ['Obsession',       </span>│\n",
       "│<span style=\"color: #7f7f7f; text-decoration-color: #7f7f7f\">          </span>│<span style=\"color: #7f7f7f; text-decoration-color: #7f7f7f\"> Take\"               </span>│<span style=\"color: #7f7f7f; text-decoration-color: #7f7f7f\">                     </span>│<span style=\"color: #7f7f7f; text-decoration-color: #7f7f7f\">             </span>│<span style=\"color: #7f7f7f; text-decoration-color: #7f7f7f\"> 'Struggle', 'Other'] </span>│<span style=\"color: #7f7f7f; text-decoration-color: #7f7f7f\"> 'Surveillance',     </span>│\n",
       "│<span style=\"color: #7f7f7f; text-decoration-color: #7f7f7f\">          </span>│<span style=\"color: #7f7f7f; text-decoration-color: #7f7f7f\">                     </span>│<span style=\"color: #7f7f7f; text-decoration-color: #7f7f7f\">                     </span>│<span style=\"color: #7f7f7f; text-decoration-color: #7f7f7f\">             </span>│<span style=\"color: #7f7f7f; text-decoration-color: #7f7f7f\">                      </span>│<span style=\"color: #7f7f7f; text-decoration-color: #7f7f7f\"> 'Loneliness',       </span>│\n",
       "│<span style=\"color: #7f7f7f; text-decoration-color: #7f7f7f\">          </span>│<span style=\"color: #7f7f7f; text-decoration-color: #7f7f7f\">                     </span>│<span style=\"color: #7f7f7f; text-decoration-color: #7f7f7f\">                     </span>│<span style=\"color: #7f7f7f; text-decoration-color: #7f7f7f\">             </span>│<span style=\"color: #7f7f7f; text-decoration-color: #7f7f7f\">                      </span>│<span style=\"color: #7f7f7f; text-decoration-color: #7f7f7f\"> 'Control']          </span>│\n",
       "├──────────┼─────────────────────┼─────────────────────┼─────────────┼──────────────────────┼─────────────────────┤\n",
       "│<span style=\"color: #7f7f7f; text-decoration-color: #7f7f7f\"> 7        </span>│<span style=\"color: #7f7f7f; text-decoration-color: #7f7f7f\"> \"I Love Rock 'n'    </span>│<span style=\"color: #7f7f7f; text-decoration-color: #7f7f7f\"> Joan Jett and the   </span>│<span style=\"color: #7f7f7f; text-decoration-color: #7f7f7f\"> Empowering  </span>│<span style=\"color: #7f7f7f; text-decoration-color: #7f7f7f\"> ['Love',             </span>│<span style=\"color: #7f7f7f; text-decoration-color: #7f7f7f\"> None                </span>│\n",
       "│<span style=\"color: #7f7f7f; text-decoration-color: #7f7f7f\">          </span>│<span style=\"color: #7f7f7f; text-decoration-color: #7f7f7f\"> Roll\"               </span>│<span style=\"color: #7f7f7f; text-decoration-color: #7f7f7f\"> Blackhearts         </span>│<span style=\"color: #7f7f7f; text-decoration-color: #7f7f7f\">             </span>│<span style=\"color: #7f7f7f; text-decoration-color: #7f7f7f\"> 'Celebration']       </span>│<span style=\"color: #7f7f7f; text-decoration-color: #7f7f7f\">                     </span>│\n",
       "├──────────┼─────────────────────┼─────────────────────┼─────────────┼──────────────────────┼─────────────────────┤\n",
       "│<span style=\"color: #7f7f7f; text-decoration-color: #7f7f7f\"> 7        </span>│<span style=\"color: #7f7f7f; text-decoration-color: #7f7f7f\"> \"Ebony and Ivory\"   </span>│<span style=\"color: #7f7f7f; text-decoration-color: #7f7f7f\"> Paul McCartney and  </span>│<span style=\"color: #7f7f7f; text-decoration-color: #7f7f7f\"> Hopeful     </span>│<span style=\"color: #7f7f7f; text-decoration-color: #7f7f7f\"> ['Love', 'Social     </span>│<span style=\"color: #7f7f7f; text-decoration-color: #7f7f7f\"> None                </span>│\n",
       "│<span style=\"color: #7f7f7f; text-decoration-color: #7f7f7f\">          </span>│<span style=\"color: #7f7f7f; text-decoration-color: #7f7f7f\">                     </span>│<span style=\"color: #7f7f7f; text-decoration-color: #7f7f7f\"> Stevie Wonder       </span>│<span style=\"color: #7f7f7f; text-decoration-color: #7f7f7f\">             </span>│<span style=\"color: #7f7f7f; text-decoration-color: #7f7f7f\"> issues']             </span>│<span style=\"color: #7f7f7f; text-decoration-color: #7f7f7f\">                     </span>│\n",
       "├──────────┼─────────────────────┼─────────────────────┼─────────────┼──────────────────────┼─────────────────────┤\n",
       "│<span style=\"color: #7f7f7f; text-decoration-color: #7f7f7f\"> 7        </span>│<span style=\"color: #7f7f7f; text-decoration-color: #7f7f7f\"> \"Billie Jean\"       </span>│<span style=\"color: #7f7f7f; text-decoration-color: #7f7f7f\"> Michael Jackson     </span>│<span style=\"color: #7f7f7f; text-decoration-color: #7f7f7f\"> Melancholic </span>│<span style=\"color: #7f7f7f; text-decoration-color: #7f7f7f\"> ['Love', 'Struggle', </span>│<span style=\"color: #7f7f7f; text-decoration-color: #7f7f7f\"> ['Deception',       </span>│\n",
       "│<span style=\"color: #7f7f7f; text-decoration-color: #7f7f7f\">          </span>│<span style=\"color: #7f7f7f; text-decoration-color: #7f7f7f\">                     </span>│<span style=\"color: #7f7f7f; text-decoration-color: #7f7f7f\">                     </span>│<span style=\"color: #7f7f7f; text-decoration-color: #7f7f7f\">             </span>│<span style=\"color: #7f7f7f; text-decoration-color: #7f7f7f\"> 'Other']             </span>│<span style=\"color: #7f7f7f; text-decoration-color: #7f7f7f\"> 'Guilt', 'Fame',    </span>│\n",
       "│<span style=\"color: #7f7f7f; text-decoration-color: #7f7f7f\">          </span>│<span style=\"color: #7f7f7f; text-decoration-color: #7f7f7f\">                     </span>│<span style=\"color: #7f7f7f; text-decoration-color: #7f7f7f\">                     </span>│<span style=\"color: #7f7f7f; text-decoration-color: #7f7f7f\">             </span>│<span style=\"color: #7f7f7f; text-decoration-color: #7f7f7f\">                      </span>│<span style=\"color: #7f7f7f; text-decoration-color: #7f7f7f\"> 'Responsibility']   </span>│\n",
       "├──────────┼─────────────────────┼─────────────────────┼─────────────┼──────────────────────┼─────────────────────┤\n",
       "│<span style=\"color: #7f7f7f; text-decoration-color: #7f7f7f\"> 6        </span>│<span style=\"color: #7f7f7f; text-decoration-color: #7f7f7f\"> \"Call Me\"           </span>│<span style=\"color: #7f7f7f; text-decoration-color: #7f7f7f\"> Blondie             </span>│<span style=\"color: #7f7f7f; text-decoration-color: #7f7f7f\"> Romantic    </span>│<span style=\"color: #7f7f7f; text-decoration-color: #7f7f7f\"> ['Love',             </span>│<span style=\"color: #7f7f7f; text-decoration-color: #7f7f7f\"> None                </span>│\n",
       "│<span style=\"color: #7f7f7f; text-decoration-color: #7f7f7f\">          </span>│<span style=\"color: #7f7f7f; text-decoration-color: #7f7f7f\">                     </span>│<span style=\"color: #7f7f7f; text-decoration-color: #7f7f7f\">                     </span>│<span style=\"color: #7f7f7f; text-decoration-color: #7f7f7f\">             </span>│<span style=\"color: #7f7f7f; text-decoration-color: #7f7f7f\"> 'Celebration']       </span>│<span style=\"color: #7f7f7f; text-decoration-color: #7f7f7f\">                     </span>│\n",
       "├──────────┼─────────────────────┼─────────────────────┼─────────────┼──────────────────────┼─────────────────────┤\n",
       "│<span style=\"color: #7f7f7f; text-decoration-color: #7f7f7f\"> 6        </span>│<span style=\"color: #7f7f7f; text-decoration-color: #7f7f7f\"> \"Lady\"              </span>│<span style=\"color: #7f7f7f; text-decoration-color: #7f7f7f\"> Kenny Rogers        </span>│<span style=\"color: #7f7f7f; text-decoration-color: #7f7f7f\"> Romantic    </span>│<span style=\"color: #7f7f7f; text-decoration-color: #7f7f7f\"> ['Love']             </span>│<span style=\"color: #7f7f7f; text-decoration-color: #7f7f7f\"> None                </span>│\n",
       "├──────────┼─────────────────────┼─────────────────────┼─────────────┼──────────────────────┼─────────────────────┤\n",
       "│<span style=\"color: #7f7f7f; text-decoration-color: #7f7f7f\"> 6        </span>│<span style=\"color: #7f7f7f; text-decoration-color: #7f7f7f\"> \"Centerfold\"        </span>│<span style=\"color: #7f7f7f; text-decoration-color: #7f7f7f\"> The J. Geils Band   </span>│<span style=\"color: #7f7f7f; text-decoration-color: #7f7f7f\"> Nostalgic   </span>│<span style=\"color: #7f7f7f; text-decoration-color: #7f7f7f\"> ['Love', 'Loss']     </span>│<span style=\"color: #7f7f7f; text-decoration-color: #7f7f7f\"> None                </span>│\n",
       "├──────────┼─────────────────────┼─────────────────────┼─────────────┼──────────────────────┼─────────────────────┤\n",
       "│<span style=\"color: #7f7f7f; text-decoration-color: #7f7f7f\"> 6        </span>│<span style=\"color: #7f7f7f; text-decoration-color: #7f7f7f\"> \"Eye of the Tiger\"  </span>│<span style=\"color: #7f7f7f; text-decoration-color: #7f7f7f\"> Survivor            </span>│<span style=\"color: #7f7f7f; text-decoration-color: #7f7f7f\"> Empowering  </span>│<span style=\"color: #7f7f7f; text-decoration-color: #7f7f7f\"> ['Struggle']         </span>│<span style=\"color: #7f7f7f; text-decoration-color: #7f7f7f\"> None                </span>│\n",
       "├──────────┼─────────────────────┼─────────────────────┼─────────────┼──────────────────────┼─────────────────────┤\n",
       "│<span style=\"color: #7f7f7f; text-decoration-color: #7f7f7f\"> 6        </span>│<span style=\"color: #7f7f7f; text-decoration-color: #7f7f7f\"> \"Flashdance... What </span>│<span style=\"color: #7f7f7f; text-decoration-color: #7f7f7f\"> Irene Cara          </span>│<span style=\"color: #7f7f7f; text-decoration-color: #7f7f7f\"> Empowering  </span>│<span style=\"color: #7f7f7f; text-decoration-color: #7f7f7f\"> ['Struggle',         </span>│<span style=\"color: #7f7f7f; text-decoration-color: #7f7f7f\"> None                </span>│\n",
       "│<span style=\"color: #7f7f7f; text-decoration-color: #7f7f7f\">          </span>│<span style=\"color: #7f7f7f; text-decoration-color: #7f7f7f\"> a Feeling\"          </span>│<span style=\"color: #7f7f7f; text-decoration-color: #7f7f7f\">                     </span>│<span style=\"color: #7f7f7f; text-decoration-color: #7f7f7f\">             </span>│<span style=\"color: #7f7f7f; text-decoration-color: #7f7f7f\"> 'Celebration']       </span>│<span style=\"color: #7f7f7f; text-decoration-color: #7f7f7f\">                     </span>│\n",
       "├──────────┼─────────────────────┼─────────────────────┼─────────────┼──────────────────────┼─────────────────────┤\n",
       "│<span style=\"color: #7f7f7f; text-decoration-color: #7f7f7f\"> 6        </span>│<span style=\"color: #7f7f7f; text-decoration-color: #7f7f7f\"> \"Say, Say, Say\"     </span>│<span style=\"color: #7f7f7f; text-decoration-color: #7f7f7f\"> Paul McCartney and  </span>│<span style=\"color: #7f7f7f; text-decoration-color: #7f7f7f\"> Romantic    </span>│<span style=\"color: #7f7f7f; text-decoration-color: #7f7f7f\"> ['Love', 'Struggle'] </span>│<span style=\"color: #7f7f7f; text-decoration-color: #7f7f7f\"> None                </span>│\n",
       "│<span style=\"color: #7f7f7f; text-decoration-color: #7f7f7f\">          </span>│<span style=\"color: #7f7f7f; text-decoration-color: #7f7f7f\">                     </span>│<span style=\"color: #7f7f7f; text-decoration-color: #7f7f7f\"> Michael Jackson     </span>│<span style=\"color: #7f7f7f; text-decoration-color: #7f7f7f\">             </span>│<span style=\"color: #7f7f7f; text-decoration-color: #7f7f7f\">                      </span>│<span style=\"color: #7f7f7f; text-decoration-color: #7f7f7f\">                     </span>│\n",
       "├──────────┼─────────────────────┼─────────────────────┼─────────────┼──────────────────────┼─────────────────────┤\n",
       "│<span style=\"color: #7f7f7f; text-decoration-color: #7f7f7f\"> 6        </span>│<span style=\"color: #7f7f7f; text-decoration-color: #7f7f7f\"> \"Like a Virgin\"     </span>│<span style=\"color: #7f7f7f; text-decoration-color: #7f7f7f\"> Madonna             </span>│<span style=\"color: #7f7f7f; text-decoration-color: #7f7f7f\"> Romantic    </span>│<span style=\"color: #7f7f7f; text-decoration-color: #7f7f7f\"> ['Love',             </span>│<span style=\"color: #7f7f7f; text-decoration-color: #7f7f7f\"> None                </span>│\n",
       "│<span style=\"color: #7f7f7f; text-decoration-color: #7f7f7f\">          </span>│<span style=\"color: #7f7f7f; text-decoration-color: #7f7f7f\">                     </span>│<span style=\"color: #7f7f7f; text-decoration-color: #7f7f7f\">                     </span>│<span style=\"color: #7f7f7f; text-decoration-color: #7f7f7f\">             </span>│<span style=\"color: #7f7f7f; text-decoration-color: #7f7f7f\"> 'Celebration']       </span>│<span style=\"color: #7f7f7f; text-decoration-color: #7f7f7f\">                     </span>│\n",
       "└──────────┴─────────────────────┴─────────────────────┴─────────────┴──────────────────────┴─────────────────────┘\n",
       "</pre>\n"
      ],
      "text/plain": [
       "┏━━━━━━━━━━┳━━━━━━━━━━━━━━━━━━━━━┳━━━━━━━━━━━━━━━━━━━━━┳━━━━━━━━━━━━━┳━━━━━━━━━━━━━━━━━━━━━━┳━━━━━━━━━━━━━━━━━━━━━┓\n",
       "┃\u001b[1;35m \u001b[0m\u001b[1;35mscenario\u001b[0m\u001b[1;35m \u001b[0m┃\u001b[1;35m \u001b[0m\u001b[1;35mscenario           \u001b[0m\u001b[1;35m \u001b[0m┃\u001b[1;35m \u001b[0m\u001b[1;35mscenario           \u001b[0m\u001b[1;35m \u001b[0m┃\u001b[1;35m \u001b[0m\u001b[1;35manswer     \u001b[0m\u001b[1;35m \u001b[0m┃\u001b[1;35m \u001b[0m\u001b[1;35manswer              \u001b[0m\u001b[1;35m \u001b[0m┃\u001b[1;35m \u001b[0m\u001b[1;35manswer             \u001b[0m\u001b[1;35m \u001b[0m┃\n",
       "┃\u001b[1;35m \u001b[0m\u001b[1;35m.weeks  \u001b[0m\u001b[1;35m \u001b[0m┃\u001b[1;35m \u001b[0m\u001b[1;35m.song              \u001b[0m\u001b[1;35m \u001b[0m┃\u001b[1;35m \u001b[0m\u001b[1;35m.artists           \u001b[0m\u001b[1;35m \u001b[0m┃\u001b[1;35m \u001b[0m\u001b[1;35m.sentiment \u001b[0m\u001b[1;35m \u001b[0m┃\u001b[1;35m \u001b[0m\u001b[1;35m.themes             \u001b[0m\u001b[1;35m \u001b[0m┃\u001b[1;35m \u001b[0m\u001b[1;35m.other_themes      \u001b[0m\u001b[1;35m \u001b[0m┃\n",
       "┡━━━━━━━━━━╇━━━━━━━━━━━━━━━━━━━━━╇━━━━━━━━━━━━━━━━━━━━━╇━━━━━━━━━━━━━╇━━━━━━━━━━━━━━━━━━━━━━╇━━━━━━━━━━━━━━━━━━━━━┩\n",
       "│\u001b[2m \u001b[0m\u001b[2m10      \u001b[0m\u001b[2m \u001b[0m│\u001b[2m \u001b[0m\u001b[2m\"Physical\"         \u001b[0m\u001b[2m \u001b[0m│\u001b[2m \u001b[0m\u001b[2mOlivia Newton-John \u001b[0m\u001b[2m \u001b[0m│\u001b[2m \u001b[0m\u001b[2mHappy      \u001b[0m\u001b[2m \u001b[0m│\u001b[2m \u001b[0m\u001b[2m['Love', 'Other']   \u001b[0m\u001b[2m \u001b[0m│\u001b[2m \u001b[0m\u001b[2m['Desire',         \u001b[0m\u001b[2m \u001b[0m│\n",
       "│\u001b[2m          \u001b[0m│\u001b[2m                     \u001b[0m│\u001b[2m                     \u001b[0m│\u001b[2m             \u001b[0m│\u001b[2m                      \u001b[0m│\u001b[2m \u001b[0m\u001b[2m'Seduction',       \u001b[0m\u001b[2m \u001b[0m│\n",
       "│\u001b[2m          \u001b[0m│\u001b[2m                     \u001b[0m│\u001b[2m                     \u001b[0m│\u001b[2m             \u001b[0m│\u001b[2m                      \u001b[0m│\u001b[2m \u001b[0m\u001b[2m'Empowerment',     \u001b[0m\u001b[2m \u001b[0m│\n",
       "│\u001b[2m          \u001b[0m│\u001b[2m                     \u001b[0m│\u001b[2m                     \u001b[0m│\u001b[2m             \u001b[0m│\u001b[2m                      \u001b[0m│\u001b[2m \u001b[0m\u001b[2m'Fun', 'Exercise'] \u001b[0m\u001b[2m \u001b[0m│\n",
       "├──────────┼─────────────────────┼─────────────────────┼─────────────┼──────────────────────┼─────────────────────┤\n",
       "│\u001b[2m \u001b[0m\u001b[2m9       \u001b[0m\u001b[2m \u001b[0m│\u001b[2m \u001b[0m\u001b[2m\"Endless Love\"     \u001b[0m\u001b[2m \u001b[0m│\u001b[2m \u001b[0m\u001b[2mDiana Ross and     \u001b[0m\u001b[2m \u001b[0m│\u001b[2m \u001b[0m\u001b[2mRomantic   \u001b[0m\u001b[2m \u001b[0m│\u001b[2m \u001b[0m\u001b[2m['Love']            \u001b[0m\u001b[2m \u001b[0m│\u001b[2m \u001b[0m\u001b[2mNone               \u001b[0m\u001b[2m \u001b[0m│\n",
       "│\u001b[2m          \u001b[0m│\u001b[2m                     \u001b[0m│\u001b[2m \u001b[0m\u001b[2mLionel Richie      \u001b[0m\u001b[2m \u001b[0m│\u001b[2m             \u001b[0m│\u001b[2m                      \u001b[0m│\u001b[2m                     \u001b[0m│\n",
       "├──────────┼─────────────────────┼─────────────────────┼─────────────┼──────────────────────┼─────────────────────┤\n",
       "│\u001b[2m \u001b[0m\u001b[2m9       \u001b[0m\u001b[2m \u001b[0m│\u001b[2m \u001b[0m\u001b[2m\"Bette Davis Eyes\" \u001b[0m\u001b[2m \u001b[0m│\u001b[2m \u001b[0m\u001b[2mKim Carnes         \u001b[0m\u001b[2m \u001b[0m│\u001b[2m \u001b[0m\u001b[2mNostalgic  \u001b[0m\u001b[2m \u001b[0m│\u001b[2m \u001b[0m\u001b[2m['Love', 'Other']   \u001b[0m\u001b[2m \u001b[0m│\u001b[2m \u001b[0m\u001b[2m['Manipulation',   \u001b[0m\u001b[2m \u001b[0m│\n",
       "│\u001b[2m          \u001b[0m│\u001b[2m                     \u001b[0m│\u001b[2m                     \u001b[0m│\u001b[2m             \u001b[0m│\u001b[2m                      \u001b[0m│\u001b[2m \u001b[0m\u001b[2m'Seduction',       \u001b[0m\u001b[2m \u001b[0m│\n",
       "│\u001b[2m          \u001b[0m│\u001b[2m                     \u001b[0m│\u001b[2m                     \u001b[0m│\u001b[2m             \u001b[0m│\u001b[2m                      \u001b[0m│\u001b[2m \u001b[0m\u001b[2m'Mystery', 'Power',\u001b[0m\u001b[2m \u001b[0m│\n",
       "│\u001b[2m          \u001b[0m│\u001b[2m                     \u001b[0m│\u001b[2m                     \u001b[0m│\u001b[2m             \u001b[0m│\u001b[2m                      \u001b[0m│\u001b[2m \u001b[0m\u001b[2m'Intrigue']        \u001b[0m\u001b[2m \u001b[0m│\n",
       "├──────────┼─────────────────────┼─────────────────────┼─────────────┼──────────────────────┼─────────────────────┤\n",
       "│\u001b[2m \u001b[0m\u001b[2m8       \u001b[0m\u001b[2m \u001b[0m│\u001b[2m \u001b[0m\u001b[2m\"Every Breath You  \u001b[0m\u001b[2m \u001b[0m│\u001b[2m \u001b[0m\u001b[2mThe Police         \u001b[0m\u001b[2m \u001b[0m│\u001b[2m \u001b[0m\u001b[2mMelancholic\u001b[0m\u001b[2m \u001b[0m│\u001b[2m \u001b[0m\u001b[2m['Love', 'Loss',    \u001b[0m\u001b[2m \u001b[0m│\u001b[2m \u001b[0m\u001b[2m['Obsession',      \u001b[0m\u001b[2m \u001b[0m│\n",
       "│\u001b[2m          \u001b[0m│\u001b[2m \u001b[0m\u001b[2mTake\"              \u001b[0m\u001b[2m \u001b[0m│\u001b[2m                     \u001b[0m│\u001b[2m             \u001b[0m│\u001b[2m \u001b[0m\u001b[2m'Struggle', 'Other']\u001b[0m\u001b[2m \u001b[0m│\u001b[2m \u001b[0m\u001b[2m'Surveillance',    \u001b[0m\u001b[2m \u001b[0m│\n",
       "│\u001b[2m          \u001b[0m│\u001b[2m                     \u001b[0m│\u001b[2m                     \u001b[0m│\u001b[2m             \u001b[0m│\u001b[2m                      \u001b[0m│\u001b[2m \u001b[0m\u001b[2m'Loneliness',      \u001b[0m\u001b[2m \u001b[0m│\n",
       "│\u001b[2m          \u001b[0m│\u001b[2m                     \u001b[0m│\u001b[2m                     \u001b[0m│\u001b[2m             \u001b[0m│\u001b[2m                      \u001b[0m│\u001b[2m \u001b[0m\u001b[2m'Control']         \u001b[0m\u001b[2m \u001b[0m│\n",
       "├──────────┼─────────────────────┼─────────────────────┼─────────────┼──────────────────────┼─────────────────────┤\n",
       "│\u001b[2m \u001b[0m\u001b[2m7       \u001b[0m\u001b[2m \u001b[0m│\u001b[2m \u001b[0m\u001b[2m\"I Love Rock 'n'   \u001b[0m\u001b[2m \u001b[0m│\u001b[2m \u001b[0m\u001b[2mJoan Jett and the  \u001b[0m\u001b[2m \u001b[0m│\u001b[2m \u001b[0m\u001b[2mEmpowering \u001b[0m\u001b[2m \u001b[0m│\u001b[2m \u001b[0m\u001b[2m['Love',            \u001b[0m\u001b[2m \u001b[0m│\u001b[2m \u001b[0m\u001b[2mNone               \u001b[0m\u001b[2m \u001b[0m│\n",
       "│\u001b[2m          \u001b[0m│\u001b[2m \u001b[0m\u001b[2mRoll\"              \u001b[0m\u001b[2m \u001b[0m│\u001b[2m \u001b[0m\u001b[2mBlackhearts        \u001b[0m\u001b[2m \u001b[0m│\u001b[2m             \u001b[0m│\u001b[2m \u001b[0m\u001b[2m'Celebration']      \u001b[0m\u001b[2m \u001b[0m│\u001b[2m                     \u001b[0m│\n",
       "├──────────┼─────────────────────┼─────────────────────┼─────────────┼──────────────────────┼─────────────────────┤\n",
       "│\u001b[2m \u001b[0m\u001b[2m7       \u001b[0m\u001b[2m \u001b[0m│\u001b[2m \u001b[0m\u001b[2m\"Ebony and Ivory\"  \u001b[0m\u001b[2m \u001b[0m│\u001b[2m \u001b[0m\u001b[2mPaul McCartney and \u001b[0m\u001b[2m \u001b[0m│\u001b[2m \u001b[0m\u001b[2mHopeful    \u001b[0m\u001b[2m \u001b[0m│\u001b[2m \u001b[0m\u001b[2m['Love', 'Social    \u001b[0m\u001b[2m \u001b[0m│\u001b[2m \u001b[0m\u001b[2mNone               \u001b[0m\u001b[2m \u001b[0m│\n",
       "│\u001b[2m          \u001b[0m│\u001b[2m                     \u001b[0m│\u001b[2m \u001b[0m\u001b[2mStevie Wonder      \u001b[0m\u001b[2m \u001b[0m│\u001b[2m             \u001b[0m│\u001b[2m \u001b[0m\u001b[2missues']            \u001b[0m\u001b[2m \u001b[0m│\u001b[2m                     \u001b[0m│\n",
       "├──────────┼─────────────────────┼─────────────────────┼─────────────┼──────────────────────┼─────────────────────┤\n",
       "│\u001b[2m \u001b[0m\u001b[2m7       \u001b[0m\u001b[2m \u001b[0m│\u001b[2m \u001b[0m\u001b[2m\"Billie Jean\"      \u001b[0m\u001b[2m \u001b[0m│\u001b[2m \u001b[0m\u001b[2mMichael Jackson    \u001b[0m\u001b[2m \u001b[0m│\u001b[2m \u001b[0m\u001b[2mMelancholic\u001b[0m\u001b[2m \u001b[0m│\u001b[2m \u001b[0m\u001b[2m['Love', 'Struggle',\u001b[0m\u001b[2m \u001b[0m│\u001b[2m \u001b[0m\u001b[2m['Deception',      \u001b[0m\u001b[2m \u001b[0m│\n",
       "│\u001b[2m          \u001b[0m│\u001b[2m                     \u001b[0m│\u001b[2m                     \u001b[0m│\u001b[2m             \u001b[0m│\u001b[2m \u001b[0m\u001b[2m'Other']            \u001b[0m\u001b[2m \u001b[0m│\u001b[2m \u001b[0m\u001b[2m'Guilt', 'Fame',   \u001b[0m\u001b[2m \u001b[0m│\n",
       "│\u001b[2m          \u001b[0m│\u001b[2m                     \u001b[0m│\u001b[2m                     \u001b[0m│\u001b[2m             \u001b[0m│\u001b[2m                      \u001b[0m│\u001b[2m \u001b[0m\u001b[2m'Responsibility']  \u001b[0m\u001b[2m \u001b[0m│\n",
       "├──────────┼─────────────────────┼─────────────────────┼─────────────┼──────────────────────┼─────────────────────┤\n",
       "│\u001b[2m \u001b[0m\u001b[2m6       \u001b[0m\u001b[2m \u001b[0m│\u001b[2m \u001b[0m\u001b[2m\"Call Me\"          \u001b[0m\u001b[2m \u001b[0m│\u001b[2m \u001b[0m\u001b[2mBlondie            \u001b[0m\u001b[2m \u001b[0m│\u001b[2m \u001b[0m\u001b[2mRomantic   \u001b[0m\u001b[2m \u001b[0m│\u001b[2m \u001b[0m\u001b[2m['Love',            \u001b[0m\u001b[2m \u001b[0m│\u001b[2m \u001b[0m\u001b[2mNone               \u001b[0m\u001b[2m \u001b[0m│\n",
       "│\u001b[2m          \u001b[0m│\u001b[2m                     \u001b[0m│\u001b[2m                     \u001b[0m│\u001b[2m             \u001b[0m│\u001b[2m \u001b[0m\u001b[2m'Celebration']      \u001b[0m\u001b[2m \u001b[0m│\u001b[2m                     \u001b[0m│\n",
       "├──────────┼─────────────────────┼─────────────────────┼─────────────┼──────────────────────┼─────────────────────┤\n",
       "│\u001b[2m \u001b[0m\u001b[2m6       \u001b[0m\u001b[2m \u001b[0m│\u001b[2m \u001b[0m\u001b[2m\"Lady\"             \u001b[0m\u001b[2m \u001b[0m│\u001b[2m \u001b[0m\u001b[2mKenny Rogers       \u001b[0m\u001b[2m \u001b[0m│\u001b[2m \u001b[0m\u001b[2mRomantic   \u001b[0m\u001b[2m \u001b[0m│\u001b[2m \u001b[0m\u001b[2m['Love']            \u001b[0m\u001b[2m \u001b[0m│\u001b[2m \u001b[0m\u001b[2mNone               \u001b[0m\u001b[2m \u001b[0m│\n",
       "├──────────┼─────────────────────┼─────────────────────┼─────────────┼──────────────────────┼─────────────────────┤\n",
       "│\u001b[2m \u001b[0m\u001b[2m6       \u001b[0m\u001b[2m \u001b[0m│\u001b[2m \u001b[0m\u001b[2m\"Centerfold\"       \u001b[0m\u001b[2m \u001b[0m│\u001b[2m \u001b[0m\u001b[2mThe J. Geils Band  \u001b[0m\u001b[2m \u001b[0m│\u001b[2m \u001b[0m\u001b[2mNostalgic  \u001b[0m\u001b[2m \u001b[0m│\u001b[2m \u001b[0m\u001b[2m['Love', 'Loss']    \u001b[0m\u001b[2m \u001b[0m│\u001b[2m \u001b[0m\u001b[2mNone               \u001b[0m\u001b[2m \u001b[0m│\n",
       "├──────────┼─────────────────────┼─────────────────────┼─────────────┼──────────────────────┼─────────────────────┤\n",
       "│\u001b[2m \u001b[0m\u001b[2m6       \u001b[0m\u001b[2m \u001b[0m│\u001b[2m \u001b[0m\u001b[2m\"Eye of the Tiger\" \u001b[0m\u001b[2m \u001b[0m│\u001b[2m \u001b[0m\u001b[2mSurvivor           \u001b[0m\u001b[2m \u001b[0m│\u001b[2m \u001b[0m\u001b[2mEmpowering \u001b[0m\u001b[2m \u001b[0m│\u001b[2m \u001b[0m\u001b[2m['Struggle']        \u001b[0m\u001b[2m \u001b[0m│\u001b[2m \u001b[0m\u001b[2mNone               \u001b[0m\u001b[2m \u001b[0m│\n",
       "├──────────┼─────────────────────┼─────────────────────┼─────────────┼──────────────────────┼─────────────────────┤\n",
       "│\u001b[2m \u001b[0m\u001b[2m6       \u001b[0m\u001b[2m \u001b[0m│\u001b[2m \u001b[0m\u001b[2m\"Flashdance... What\u001b[0m\u001b[2m \u001b[0m│\u001b[2m \u001b[0m\u001b[2mIrene Cara         \u001b[0m\u001b[2m \u001b[0m│\u001b[2m \u001b[0m\u001b[2mEmpowering \u001b[0m\u001b[2m \u001b[0m│\u001b[2m \u001b[0m\u001b[2m['Struggle',        \u001b[0m\u001b[2m \u001b[0m│\u001b[2m \u001b[0m\u001b[2mNone               \u001b[0m\u001b[2m \u001b[0m│\n",
       "│\u001b[2m          \u001b[0m│\u001b[2m \u001b[0m\u001b[2ma Feeling\"         \u001b[0m\u001b[2m \u001b[0m│\u001b[2m                     \u001b[0m│\u001b[2m             \u001b[0m│\u001b[2m \u001b[0m\u001b[2m'Celebration']      \u001b[0m\u001b[2m \u001b[0m│\u001b[2m                     \u001b[0m│\n",
       "├──────────┼─────────────────────┼─────────────────────┼─────────────┼──────────────────────┼─────────────────────┤\n",
       "│\u001b[2m \u001b[0m\u001b[2m6       \u001b[0m\u001b[2m \u001b[0m│\u001b[2m \u001b[0m\u001b[2m\"Say, Say, Say\"    \u001b[0m\u001b[2m \u001b[0m│\u001b[2m \u001b[0m\u001b[2mPaul McCartney and \u001b[0m\u001b[2m \u001b[0m│\u001b[2m \u001b[0m\u001b[2mRomantic   \u001b[0m\u001b[2m \u001b[0m│\u001b[2m \u001b[0m\u001b[2m['Love', 'Struggle']\u001b[0m\u001b[2m \u001b[0m│\u001b[2m \u001b[0m\u001b[2mNone               \u001b[0m\u001b[2m \u001b[0m│\n",
       "│\u001b[2m          \u001b[0m│\u001b[2m                     \u001b[0m│\u001b[2m \u001b[0m\u001b[2mMichael Jackson    \u001b[0m\u001b[2m \u001b[0m│\u001b[2m             \u001b[0m│\u001b[2m                      \u001b[0m│\u001b[2m                     \u001b[0m│\n",
       "├──────────┼─────────────────────┼─────────────────────┼─────────────┼──────────────────────┼─────────────────────┤\n",
       "│\u001b[2m \u001b[0m\u001b[2m6       \u001b[0m\u001b[2m \u001b[0m│\u001b[2m \u001b[0m\u001b[2m\"Like a Virgin\"    \u001b[0m\u001b[2m \u001b[0m│\u001b[2m \u001b[0m\u001b[2mMadonna            \u001b[0m\u001b[2m \u001b[0m│\u001b[2m \u001b[0m\u001b[2mRomantic   \u001b[0m\u001b[2m \u001b[0m│\u001b[2m \u001b[0m\u001b[2m['Love',            \u001b[0m\u001b[2m \u001b[0m│\u001b[2m \u001b[0m\u001b[2mNone               \u001b[0m\u001b[2m \u001b[0m│\n",
       "│\u001b[2m          \u001b[0m│\u001b[2m                     \u001b[0m│\u001b[2m                     \u001b[0m│\u001b[2m             \u001b[0m│\u001b[2m \u001b[0m\u001b[2m'Celebration']      \u001b[0m\u001b[2m \u001b[0m│\u001b[2m                     \u001b[0m│\n",
       "└──────────┴─────────────────────┴─────────────────────┴─────────────┴──────────────────────┴─────────────────────┘\n"
      ]
     },
     "metadata": {},
     "output_type": "display_data"
    }
   ],
   "source": [
    "results.sort_by(\"weeks\", reverse=True).select(\"weeks\", \"song\", \"artists\", \"sentiment\", \"themes\", \"other_themes\").print(format=\"rich\")"
   ]
  },
  {
   "cell_type": "markdown",
   "id": "0fdb9da9-ddb7-495d-bb1a-7e42962c5916",
   "metadata": {},
   "source": [
    "### Posting a notebook to the Coop\n",
    "Here we post the contents of this notebook to the Coop for anyone to access:"
   ]
  },
  {
   "cell_type": "code",
   "execution_count": 17,
   "id": "026de29e-1ed9-4f4d-bb72-480949dd5346",
   "metadata": {
    "editable": true,
    "slideshow": {
     "slide_type": ""
    },
    "tags": [
     "skip-execution"
    ]
   },
   "outputs": [],
   "source": [
    "from edsl import Notebook"
   ]
  },
  {
   "cell_type": "code",
   "execution_count": 18,
   "id": "4293fd0c-d7ab-4b0b-b604-e3fadb965033",
   "metadata": {
    "editable": true,
    "slideshow": {
     "slide_type": ""
    },
    "tags": [
     "skip-execution"
    ]
   },
   "outputs": [],
   "source": [
    "n = Notebook(path = \"scenarios_filestore_example.ipynb\")"
   ]
  },
  {
   "cell_type": "code",
   "execution_count": 19,
   "id": "b7698b07-9e43-4beb-abc5-c9764750eabf",
   "metadata": {
    "editable": true,
    "slideshow": {
     "slide_type": ""
    },
    "tags": [
     "skip-execution"
    ]
   },
   "outputs": [
    {
     "data": {
      "text/plain": [
       "{'description': 'Example code for using data files for scenarios via file store and Coop',\n",
       " 'object_type': 'notebook',\n",
       " 'url': 'https://www.expectedparrot.com/content/0b0c86b4-7629-428c-8346-03d69a6a76f9',\n",
       " 'uuid': '0b0c86b4-7629-428c-8346-03d69a6a76f9',\n",
       " 'version': '0.1.33',\n",
       " 'visibility': 'public'}"
      ]
     },
     "execution_count": 19,
     "metadata": {},
     "output_type": "execute_result"
    }
   ],
   "source": [
    "n.push(description = \"Example code for using data files for scenarios via file store and Coop\", visibility = \"public\")"
   ]
  },
  {
   "cell_type": "markdown",
   "id": "f1060fe4-7ca2-4afe-85ed-e639da7f4c40",
   "metadata": {},
   "source": [
    "To update an object:"
   ]
  },
  {
   "cell_type": "code",
   "execution_count": 20,
   "id": "15ba638f-eb63-4d70-a6fa-c43aa486bdb1",
   "metadata": {
    "editable": true,
    "slideshow": {
     "slide_type": ""
    },
    "tags": [
     "skip-execution"
    ]
   },
   "outputs": [],
   "source": [
    "n = Notebook(path = \"scenarios_filestore_example.ipynb\") # resave"
   ]
  },
  {
   "cell_type": "code",
   "execution_count": 21,
   "id": "29ba613e-7245-4500-bbd0-8f138e973953",
   "metadata": {
    "editable": true,
    "slideshow": {
     "slide_type": ""
    },
    "tags": [
     "skip-execution"
    ]
   },
   "outputs": [
    {
     "data": {
      "text/plain": [
       "{'status': 'success'}"
      ]
     },
     "execution_count": 21,
     "metadata": {},
     "output_type": "execute_result"
    }
   ],
   "source": [
    "n.patch(uuid = \"0b0c86b4-7629-428c-8346-03d69a6a76f9\", value = n)"
   ]
  }
 ],
 "metadata": {
  "kernelspec": {
   "display_name": "Python 3 (ipykernel)",
   "language": "python",
   "name": "python3"
  },
  "language_info": {
   "codemirror_mode": {
    "name": "ipython",
    "version": 3
   },
   "file_extension": ".py",
   "mimetype": "text/x-python",
   "name": "python",
   "nbconvert_exporter": "python",
   "pygments_lexer": "ipython3",
   "version": "3.11.7"
  }
 },
 "nbformat": 4,
 "nbformat_minor": 5
}
