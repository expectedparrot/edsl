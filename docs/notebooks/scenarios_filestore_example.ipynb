{
 "cells": [
  {
   "cell_type": "markdown",
   "id": "6557e99a-2dbb-4e81-aa96-2c3d963c65f5",
   "metadata": {
    "editable": true,
    "slideshow": {
     "slide_type": ""
    },
    "tags": []
   },
   "source": [
    "# Using data with surveys: FileStore\n",
    "This notebook provides example [EDSL](https://github.com/expectedparrot/edsl) code for methods for using data with an EDSL survey.\n",
    "In the steps below we show how to use the [*FileStore*](https://docs.expectedparrot.com/en/latest/filestore.html) module to upload, share and retrieve data files at the [*Coop*](https://docs.expectedparrot.com/en/latest/coop.html), and then create [*Scenario*](https://docs.expectedparrot.com/en/latest/scenarios.html) objects for the data to use it with a survey.\n",
    "\n",
    "[EDSL is an open-source library](https://github.com/expectedparrot/edsl) for simulating surveys, experiments and other research with AI agents and large language models. \n",
    "Before running the code below, please ensure that you have [installed the EDSL library](https://docs.expectedparrot.com/en/latest/installation.html) and either [activated remote inference](https://docs.expectedparrot.com/en/latest/remote_inference.html) from your [Coop account](https://docs.expectedparrot.com/en/latest/coop.html) or [stored API keys](https://docs.expectedparrot.com/en/latest/api_keys.html) for the language models that you want to use with EDSL. Please also see our [documentation page](https://docs.expectedparrot.com/) for tips and tutorials on getting started using EDSL."
   ]
  },
  {
   "cell_type": "markdown",
   "id": "cb603e1d-9b28-41e1-ad04-0dc2ea5f5b41",
   "metadata": {
    "editable": true,
    "slideshow": {
     "slide_type": ""
    },
    "tags": []
   },
   "source": [
    "## What is a *Scenario*?\n",
    "A *Scenario* is a dictionary of one or more key/value pairs representing data or content to be added to questions; a *ScenarioList* is a list of *Scenario* objects. \n",
    "Scenario keys are used as question parameters that get replaced with the values when the scenarios are added to the questions, allowing you to create variants of questions efficiently. Learn more about creating and working with scenarios [here](https://docs.expectedparrot.com/en/latest/scenarios.html) and [here](https://docs.expectedparrot.com/en/latest/notebooks/question_loop_scenarios.html)."
   ]
  },
  {
   "cell_type": "markdown",
   "id": "35a21a95-d1e9-4ce9-b427-c72184e3f552",
   "metadata": {
    "editable": true,
    "slideshow": {
     "slide_type": ""
    },
    "tags": []
   },
   "source": [
    "## What is the *Coop*?\n",
    "[Coop](https://docs.expectedparrot.com/en/latest/coop.html) is a platform for creating, storing and sharing LLM-based research. \n",
    "It is fully integrated with EDSL, allowing you to post, download and update objects directly from your workspace and at the [Coop web app](https://www.expectedparrot.com/login). \n",
    "The Coop also provides access to features for working with EDSL remotely at the Expected Parrot server. \n",
    "Learn more about these features in the [remote inference](https://docs.expectedparrot.com/en/latest/remote_inference.html) and [remote caching](https://docs.expectedparrot.com/en/latest/remote_caching.html) sections of the [documentation page](https://docs.expectedparrot.com/)."
   ]
  },
  {
   "cell_type": "markdown",
   "id": "bdb593cf-304f-4a74-8669-41227d465b9e",
   "metadata": {
    "editable": true,
    "slideshow": {
     "slide_type": ""
    },
    "tags": []
   },
   "source": [
    "## What is *FileStore*?\n",
    "*FileStore* is a [module for storing and sharing data files at the Coop](https://docs.expectedparrot.com/en/latest/filestore.html) to use in EDSL projects, such as survey data, PDFs, CSVs or images. \n",
    "In particular, it is designed for storing files to be used as as scenarios, and allows you to include code for easily retrieving and processing the files in your EDSL project, as we do in the examples below!"
   ]
  },
  {
   "cell_type": "markdown",
   "id": "66424931-600e-464a-95ed-059ddee64881",
   "metadata": {
    "editable": true,
    "slideshow": {
     "slide_type": ""
    },
    "tags": []
   },
   "source": [
    "## Example\n",
    "In the example below we create scenarios for some data (a table at a Wikipedia page) and inspect them. Then we store the scenarios as a CSV and post it to the Coop using the file store. Then we retrieve the file and recreate the scenarios, and use them in a survey. We also post the survey, results and this notebook to the Coop for reference.\n",
    "\n",
    "We start by creating importing the tools that we will use:"
   ]
  },
  {
   "cell_type": "code",
   "execution_count": 1,
   "id": "c8a34852-9ba2-41de-985a-d21c2524e9af",
   "metadata": {
    "editable": true,
    "slideshow": {
     "slide_type": ""
    },
    "tags": []
   },
   "outputs": [],
   "source": [
    "from edsl import ScenarioList, Scenario\n",
    "from edsl.scenarios.FileStore import CSVFileStore"
   ]
  },
  {
   "cell_type": "markdown",
   "id": "9a9bb7ad-2c7f-4f42-a8e3-d1b91e76f736",
   "metadata": {
    "editable": true,
    "slideshow": {
     "slide_type": ""
    },
    "tags": []
   },
   "source": [
    "### Creating a scenario list for a Wikipedia table\n",
    "EDSL comes with many methods for automatically [generating scenarios for various data sources](https://docs.expectedparrot.com/en/latest/scenarios.html), such as PDFs, CSVs, docs, images, lists, dicts, etc.\n",
    "Here we use a method to automatically [create a scenario list for a Wikipedia table](https://docs.expectedparrot.com/en/latest/notebooks/scenario_list_wikipedia.html), passing the URL and the number of the table on the page:"
   ]
  },
  {
   "cell_type": "code",
   "execution_count": 2,
   "id": "3c02ee41-abae-4dbd-b6cb-54831b20c5e5",
   "metadata": {
    "editable": true,
    "slideshow": {
     "slide_type": ""
    },
    "tags": []
   },
   "outputs": [],
   "source": [
    "s = ScenarioList.from_wikipedia(\"https://en.wikipedia.org/wiki/List_of_Billboard_Hot_100_number-one_singles_of_the_1980s\",5)"
   ]
  },
  {
   "cell_type": "markdown",
   "id": "c656c3de-7435-41d3-8321-91027b3b1a2d",
   "metadata": {
    "editable": true,
    "slideshow": {
     "slide_type": ""
    },
    "tags": []
   },
   "source": [
    "We can inspect the scenario list that has been created:"
   ]
  },
  {
   "cell_type": "code",
   "execution_count": 3,
   "id": "6b5465c9-bf43-4c4f-ac43-df7606b9f692",
   "metadata": {
    "editable": true,
    "slideshow": {
     "slide_type": ""
    },
    "tags": []
   },
   "outputs": [
    {
     "data": {
      "text/html": [
       "<p><a href='https://docs.expectedparrot.com/en/latest/scenarios.html#scenariolist'>ScenarioList</a> scenarios: 14; keys: ['Song', 'Artist(s)', 'Weeks at number one'];</p>\n",
       "        <style>\n",
       "            :root {\n",
       "  --containerHeight: 400px;\n",
       "  --headerColor: blue;\n",
       "}\n",
       "\n",
       ".table-container {\n",
       "    height: var(--containerHeight) !important;\n",
       "    width: 100%;\n",
       "    overflow: auto;  /* This enables both horizontal and vertical scrolling */\n",
       "    border: 1px solid #d4d4d4;\n",
       "    background: transparent;\n",
       "    position: relative;  /* Create stacking context for sticky header */\n",
       "}\n",
       "\n",
       ".scroll-table {\n",
       "    /* Remove width: 100% to prevent table from being constrained */\n",
       "    /* min-width: 100% ensures table takes at least full container width */\n",
       "    min-width: 100%;\n",
       "    border-collapse: separate;\n",
       "    border-spacing: 4px;\n",
       "    background: transparent;\n",
       "    table-layout: auto;  /* Allow table to size based on content */\n",
       "}\n",
       "\n",
       ".scroll-table th {\n",
       "    background: transparent;  /* Semi-transparent background to ensure text readability */\n",
       "    position: sticky;\n",
       "    top: 0;\n",
       "    z-index: 1;\n",
       "    text-align: left !important;\n",
       "    padding: 8px;\n",
       "    font-weight: bold;\n",
       "    white-space: nowrap;  /* Prevent header text from wrapping */\n",
       "    min-width: 100px;    /* Ensure minimum column width */\n",
       "    backdrop-filter: blur(8px);  /* Optional: adds extra clarity */\n",
       "    color: var(--headerColor);\n",
       "}\n",
       "\n",
       ".scroll-table td {\n",
       "    padding: 8px;\n",
       "    text-align: left !important;\n",
       "    white-space: pre-wrap;\n",
       "    word-wrap: break-word;\n",
       "    vertical-align: top;\n",
       "    color: inherit;\n",
       "    border-bottom: none;\n",
       "    background: transparent;\n",
       "    min-width: 100px;    /* Match header minimum width */\n",
       "}\n",
       "\n",
       ".scroll-table tbody tr:hover {\n",
       "    background: transparent;\n",
       "}\n",
       "\n",
       "/* Additional rule to ensure header background is truly transparent */\n",
       ".scroll-table thead tr {\n",
       "    background: transparent !important;\n",
       "}\n",
       "\n",
       "/* Add shadow to indicate scrollable content */\n",
       ".table-container::after {\n",
       "    content: '';\n",
       "    position: absolute;\n",
       "    top: 0;\n",
       "    right: 0;\n",
       "    bottom: 0;\n",
       "    width: 5px;\n",
       "    background: linear-gradient(to right, transparent, rgba(242, 6, 6, 0.1));\n",
       "    pointer-events: none;\n",
       "    opacity: 0;\n",
       "    transition: opacity 0.3s;\n",
       "}\n",
       "\n",
       ".table-container:hover::after {\n",
       "    opacity: 1;\n",
       "}\n",
       "\n",
       "/* Handle Jupyter notebook specific styling */\n",
       ".jp-OutputArea-output .table-container {\n",
       "    max-width: 100%;\n",
       "    margin: 0;\n",
       "    overflow-x: auto;\n",
       "}\n",
       "        </style>\n",
       "        <div class=\"table-container\">\n",
       "            <div class=\"scroll-table-wrapper\">\n",
       "                <table class=\"scroll-table\">\n",
       "<thead>\n",
       "<tr><th style=\"text-align: right;\">  Weeks at number one</th><th>Song                          </th><th>Artist(s)                         </th></tr>\n",
       "</thead>\n",
       "<tbody>\n",
       "<tr><td style=\"text-align: right;\">                   10</td><td>&quot;Physical&quot;                    </td><td>Olivia Newton-John                </td></tr>\n",
       "<tr><td style=\"text-align: right;\">                    9</td><td>&quot;Bette Davis Eyes&quot;            </td><td>Kim Carnes                        </td></tr>\n",
       "<tr><td style=\"text-align: right;\">                    9</td><td>&quot;Endless Love&quot;                </td><td>Diana Ross and Lionel Richie      </td></tr>\n",
       "<tr><td style=\"text-align: right;\">                    8</td><td>&quot;Every Breath You Take&quot;       </td><td>The Police                        </td></tr>\n",
       "<tr><td style=\"text-align: right;\">                    7</td><td>&quot;I Love Rock &#x27;n&#x27; Roll&quot;        </td><td>Joan Jett and the Blackhearts     </td></tr>\n",
       "<tr><td style=\"text-align: right;\">                    7</td><td>&quot;Ebony and Ivory&quot;             </td><td>Paul McCartney and Stevie Wonder  </td></tr>\n",
       "<tr><td style=\"text-align: right;\">                    7</td><td>&quot;Billie Jean&quot;                 </td><td>Michael Jackson                   </td></tr>\n",
       "<tr><td style=\"text-align: right;\">                    6</td><td>&quot;Call Me&quot;                     </td><td>Blondie                           </td></tr>\n",
       "<tr><td style=\"text-align: right;\">                    6</td><td>&quot;Lady&quot;                        </td><td>Kenny Rogers                      </td></tr>\n",
       "<tr><td style=\"text-align: right;\">                    6</td><td>&quot;Centerfold&quot;                  </td><td>The J. Geils Band                 </td></tr>\n",
       "<tr><td style=\"text-align: right;\">                    6</td><td>&quot;Eye of the Tiger&quot;            </td><td>Survivor                          </td></tr>\n",
       "<tr><td style=\"text-align: right;\">                    6</td><td>&quot;Flashdance... What a Feeling&quot;</td><td>Irene Cara                        </td></tr>\n",
       "<tr><td style=\"text-align: right;\">                    6</td><td>&quot;Say, Say, Say&quot;               </td><td>Paul McCartney and Michael Jackson</td></tr>\n",
       "<tr><td style=\"text-align: right;\">                    6</td><td>&quot;Like a Virgin&quot;               </td><td>Madonna                           </td></tr>\n",
       "</tbody>\n",
       "</table>\n",
       "            </div>\n",
       "        </div>\n",
       "        "
      ],
      "text/plain": [
       "ScenarioList([Scenario({'Weeks at number one': 10, 'Song': '\"Physical\"', 'Artist(s)': 'Olivia Newton-John'}), Scenario({'Weeks at number one': 9, 'Song': '\"Bette Davis Eyes\"', 'Artist(s)': 'Kim Carnes'}), Scenario({'Weeks at number one': 9, 'Song': '\"Endless Love\"', 'Artist(s)': 'Diana Ross and Lionel Richie'}), Scenario({'Weeks at number one': 8, 'Song': '\"Every Breath You Take\"', 'Artist(s)': 'The Police'}), Scenario({'Weeks at number one': 7, 'Song': '\"I Love Rock \\'n\\' Roll\"', 'Artist(s)': 'Joan Jett and the Blackhearts'}), Scenario({'Weeks at number one': 7, 'Song': '\"Ebony and Ivory\"', 'Artist(s)': 'Paul McCartney and Stevie Wonder'}), Scenario({'Weeks at number one': 7, 'Song': '\"Billie Jean\"', 'Artist(s)': 'Michael Jackson'}), Scenario({'Weeks at number one': 6, 'Song': '\"Call Me\"', 'Artist(s)': 'Blondie'}), Scenario({'Weeks at number one': 6, 'Song': '\"Lady\"', 'Artist(s)': 'Kenny Rogers'}), Scenario({'Weeks at number one': 6, 'Song': '\"Centerfold\"', 'Artist(s)': 'The J. Geils Band'}), Scenario({'Weeks at number one': 6, 'Song': '\"Eye of the Tiger\"', 'Artist(s)': 'Survivor'}), Scenario({'Weeks at number one': 6, 'Song': '\"Flashdance... What a Feeling\"', 'Artist(s)': 'Irene Cara'}), Scenario({'Weeks at number one': 6, 'Song': '\"Say, Say, Say\"', 'Artist(s)': 'Paul McCartney and Michael Jackson'}), Scenario({'Weeks at number one': 6, 'Song': '\"Like a Virgin\"', 'Artist(s)': 'Madonna'})])"
      ]
     },
     "execution_count": 3,
     "metadata": {},
     "output_type": "execute_result"
    }
   ],
   "source": [
    "s"
   ]
  },
  {
   "cell_type": "markdown",
   "id": "ec95f521-c55f-4d61-9224-6b53d8da96f4",
   "metadata": {
    "editable": true,
    "slideshow": {
     "slide_type": ""
    },
    "tags": []
   },
   "source": [
    "We can rename the keys for convenience:"
   ]
  },
  {
   "cell_type": "code",
   "execution_count": 4,
   "id": "fe51f914-a778-4935-a6b6-a535d963eef8",
   "metadata": {
    "editable": true,
    "slideshow": {
     "slide_type": ""
    },
    "tags": []
   },
   "outputs": [
    {
     "data": {
      "text/plain": [
       "{'Artist(s)', 'Song', 'Weeks at number one'}"
      ]
     },
     "execution_count": 4,
     "metadata": {},
     "output_type": "execute_result"
    }
   ],
   "source": [
    "s.parameters"
   ]
  },
  {
   "cell_type": "code",
   "execution_count": 5,
   "id": "1f5f33e3-6463-45af-b60f-8a5f9ff766a0",
   "metadata": {
    "editable": true,
    "slideshow": {
     "slide_type": ""
    },
    "tags": []
   },
   "outputs": [],
   "source": [
    "s = s.rename({'Artist(s)':\"artists\", 'Song':\"song\", 'Weeks at number one':\"weeks\"})"
   ]
  },
  {
   "cell_type": "code",
   "execution_count": 6,
   "id": "ae9b0342-e44a-431c-a710-f3414d82de3d",
   "metadata": {
    "editable": true,
    "slideshow": {
     "slide_type": ""
    },
    "tags": []
   },
   "outputs": [
    {
     "data": {
      "text/html": [
       "<p><a href='https://docs.expectedparrot.com/en/latest/scenarios.html#scenariolist'>ScenarioList</a> scenarios: 14; keys: ['artists', 'song', 'weeks'];</p>\n",
       "        <style>\n",
       "            :root {\n",
       "  --containerHeight: 400px;\n",
       "  --headerColor: blue;\n",
       "}\n",
       "\n",
       ".table-container {\n",
       "    height: var(--containerHeight) !important;\n",
       "    width: 100%;\n",
       "    overflow: auto;  /* This enables both horizontal and vertical scrolling */\n",
       "    border: 1px solid #d4d4d4;\n",
       "    background: transparent;\n",
       "    position: relative;  /* Create stacking context for sticky header */\n",
       "}\n",
       "\n",
       ".scroll-table {\n",
       "    /* Remove width: 100% to prevent table from being constrained */\n",
       "    /* min-width: 100% ensures table takes at least full container width */\n",
       "    min-width: 100%;\n",
       "    border-collapse: separate;\n",
       "    border-spacing: 4px;\n",
       "    background: transparent;\n",
       "    table-layout: auto;  /* Allow table to size based on content */\n",
       "}\n",
       "\n",
       ".scroll-table th {\n",
       "    background: transparent;  /* Semi-transparent background to ensure text readability */\n",
       "    position: sticky;\n",
       "    top: 0;\n",
       "    z-index: 1;\n",
       "    text-align: left !important;\n",
       "    padding: 8px;\n",
       "    font-weight: bold;\n",
       "    white-space: nowrap;  /* Prevent header text from wrapping */\n",
       "    min-width: 100px;    /* Ensure minimum column width */\n",
       "    backdrop-filter: blur(8px);  /* Optional: adds extra clarity */\n",
       "    color: var(--headerColor);\n",
       "}\n",
       "\n",
       ".scroll-table td {\n",
       "    padding: 8px;\n",
       "    text-align: left !important;\n",
       "    white-space: pre-wrap;\n",
       "    word-wrap: break-word;\n",
       "    vertical-align: top;\n",
       "    color: inherit;\n",
       "    border-bottom: none;\n",
       "    background: transparent;\n",
       "    min-width: 100px;    /* Match header minimum width */\n",
       "}\n",
       "\n",
       ".scroll-table tbody tr:hover {\n",
       "    background: transparent;\n",
       "}\n",
       "\n",
       "/* Additional rule to ensure header background is truly transparent */\n",
       ".scroll-table thead tr {\n",
       "    background: transparent !important;\n",
       "}\n",
       "\n",
       "/* Add shadow to indicate scrollable content */\n",
       ".table-container::after {\n",
       "    content: '';\n",
       "    position: absolute;\n",
       "    top: 0;\n",
       "    right: 0;\n",
       "    bottom: 0;\n",
       "    width: 5px;\n",
       "    background: linear-gradient(to right, transparent, rgba(242, 6, 6, 0.1));\n",
       "    pointer-events: none;\n",
       "    opacity: 0;\n",
       "    transition: opacity 0.3s;\n",
       "}\n",
       "\n",
       ".table-container:hover::after {\n",
       "    opacity: 1;\n",
       "}\n",
       "\n",
       "/* Handle Jupyter notebook specific styling */\n",
       ".jp-OutputArea-output .table-container {\n",
       "    max-width: 100%;\n",
       "    margin: 0;\n",
       "    overflow-x: auto;\n",
       "}\n",
       "        </style>\n",
       "        <div class=\"table-container\">\n",
       "            <div class=\"scroll-table-wrapper\">\n",
       "                <table class=\"scroll-table\">\n",
       "<thead>\n",
       "<tr><th style=\"text-align: right;\">  weeks</th><th>song                          </th><th>artists                           </th></tr>\n",
       "</thead>\n",
       "<tbody>\n",
       "<tr><td style=\"text-align: right;\">     10</td><td>&quot;Physical&quot;                    </td><td>Olivia Newton-John                </td></tr>\n",
       "<tr><td style=\"text-align: right;\">      9</td><td>&quot;Bette Davis Eyes&quot;            </td><td>Kim Carnes                        </td></tr>\n",
       "<tr><td style=\"text-align: right;\">      9</td><td>&quot;Endless Love&quot;                </td><td>Diana Ross and Lionel Richie      </td></tr>\n",
       "<tr><td style=\"text-align: right;\">      8</td><td>&quot;Every Breath You Take&quot;       </td><td>The Police                        </td></tr>\n",
       "<tr><td style=\"text-align: right;\">      7</td><td>&quot;I Love Rock &#x27;n&#x27; Roll&quot;        </td><td>Joan Jett and the Blackhearts     </td></tr>\n",
       "<tr><td style=\"text-align: right;\">      7</td><td>&quot;Ebony and Ivory&quot;             </td><td>Paul McCartney and Stevie Wonder  </td></tr>\n",
       "<tr><td style=\"text-align: right;\">      7</td><td>&quot;Billie Jean&quot;                 </td><td>Michael Jackson                   </td></tr>\n",
       "<tr><td style=\"text-align: right;\">      6</td><td>&quot;Call Me&quot;                     </td><td>Blondie                           </td></tr>\n",
       "<tr><td style=\"text-align: right;\">      6</td><td>&quot;Lady&quot;                        </td><td>Kenny Rogers                      </td></tr>\n",
       "<tr><td style=\"text-align: right;\">      6</td><td>&quot;Centerfold&quot;                  </td><td>The J. Geils Band                 </td></tr>\n",
       "<tr><td style=\"text-align: right;\">      6</td><td>&quot;Eye of the Tiger&quot;            </td><td>Survivor                          </td></tr>\n",
       "<tr><td style=\"text-align: right;\">      6</td><td>&quot;Flashdance... What a Feeling&quot;</td><td>Irene Cara                        </td></tr>\n",
       "<tr><td style=\"text-align: right;\">      6</td><td>&quot;Say, Say, Say&quot;               </td><td>Paul McCartney and Michael Jackson</td></tr>\n",
       "<tr><td style=\"text-align: right;\">      6</td><td>&quot;Like a Virgin&quot;               </td><td>Madonna                           </td></tr>\n",
       "</tbody>\n",
       "</table>\n",
       "            </div>\n",
       "        </div>\n",
       "        "
      ],
      "text/plain": [
       "ScenarioList([Scenario({'weeks': 10, 'song': '\"Physical\"', 'artists': 'Olivia Newton-John'}), Scenario({'weeks': 9, 'song': '\"Bette Davis Eyes\"', 'artists': 'Kim Carnes'}), Scenario({'weeks': 9, 'song': '\"Endless Love\"', 'artists': 'Diana Ross and Lionel Richie'}), Scenario({'weeks': 8, 'song': '\"Every Breath You Take\"', 'artists': 'The Police'}), Scenario({'weeks': 7, 'song': '\"I Love Rock \\'n\\' Roll\"', 'artists': 'Joan Jett and the Blackhearts'}), Scenario({'weeks': 7, 'song': '\"Ebony and Ivory\"', 'artists': 'Paul McCartney and Stevie Wonder'}), Scenario({'weeks': 7, 'song': '\"Billie Jean\"', 'artists': 'Michael Jackson'}), Scenario({'weeks': 6, 'song': '\"Call Me\"', 'artists': 'Blondie'}), Scenario({'weeks': 6, 'song': '\"Lady\"', 'artists': 'Kenny Rogers'}), Scenario({'weeks': 6, 'song': '\"Centerfold\"', 'artists': 'The J. Geils Band'}), Scenario({'weeks': 6, 'song': '\"Eye of the Tiger\"', 'artists': 'Survivor'}), Scenario({'weeks': 6, 'song': '\"Flashdance... What a Feeling\"', 'artists': 'Irene Cara'}), Scenario({'weeks': 6, 'song': '\"Say, Say, Say\"', 'artists': 'Paul McCartney and Michael Jackson'}), Scenario({'weeks': 6, 'song': '\"Like a Virgin\"', 'artists': 'Madonna'})])"
      ]
     },
     "execution_count": 6,
     "metadata": {},
     "output_type": "execute_result"
    }
   ],
   "source": [
    "s"
   ]
  },
  {
   "cell_type": "markdown",
   "id": "f3091277-b4a8-4c02-85ea-f4ca14a78420",
   "metadata": {
    "editable": true,
    "slideshow": {
     "slide_type": ""
    },
    "tags": []
   },
   "source": [
    "We can save the scenarios to a CSV:"
   ]
  },
  {
   "cell_type": "code",
   "execution_count": 7,
   "id": "1d5ad700-75b6-4383-9ac0-882f3d4e2379",
   "metadata": {
    "editable": true,
    "slideshow": {
     "slide_type": ""
    },
    "tags": []
   },
   "outputs": [],
   "source": [
    "s.to_csv(\"billboard_100_1980s.csv\")"
   ]
  },
  {
   "cell_type": "markdown",
   "id": "445931be-d370-48fd-9a7f-386fbfea1861",
   "metadata": {
    "editable": true,
    "slideshow": {
     "slide_type": ""
    },
    "tags": []
   },
   "source": [
    "### Storing data at the Coop using the file store\n",
    "Here we use the CSV file store to store the file that we just created:"
   ]
  },
  {
   "cell_type": "code",
   "execution_count": 8,
   "id": "56c7a3ed-3bb7-48f5-9fa5-a3d8352149bc",
   "metadata": {
    "editable": true,
    "slideshow": {
     "slide_type": ""
    },
    "tags": [
     "skip-execution"
    ]
   },
   "outputs": [],
   "source": [
    "fs = CSVFileStore(\"billboard_100_1980s.csv\")"
   ]
  },
  {
   "cell_type": "markdown",
   "id": "9b145a60-a712-4577-8a01-59158aa4983e",
   "metadata": {
    "editable": true,
    "slideshow": {
     "slide_type": ""
    },
    "tags": []
   },
   "source": [
    "We can post a `FileStore` object to the Coop by calling the `push()` method on it.\n",
    "We can optionally pass a `description` and a `visibility` setting - *public*, *unlisted* (by default) or *private*:"
   ]
  },
  {
   "cell_type": "code",
   "execution_count": 9,
   "id": "bc8224ee-c998-4595-8aca-76714edbe09e",
   "metadata": {
    "editable": true,
    "slideshow": {
     "slide_type": ""
    },
    "tags": [
     "skip-execution"
    ]
   },
   "outputs": [],
   "source": [
    "info = fs.push(description = \"Wikipedia: List of Billboard Hot 100 number-one singles of the 1980s\")"
   ]
  },
  {
   "cell_type": "markdown",
   "id": "c09c446a-d958-401e-8612-121c8f9f9f09",
   "metadata": {
    "editable": true,
    "slideshow": {
     "slide_type": ""
    },
    "tags": []
   },
   "source": [
    "We can print the details of the posted object, including the URL and Coop uuid that we will need to retrieve it later:"
   ]
  },
  {
   "cell_type": "code",
   "execution_count": 10,
   "id": "3cf2980f-83ec-45d0-88ae-a419cd2ebf9d",
   "metadata": {
    "editable": true,
    "slideshow": {
     "slide_type": ""
    },
    "tags": [
     "skip-execution"
    ]
   },
   "outputs": [
    {
     "data": {
      "text/plain": [
       "{'description': 'Wikipedia: List of Billboard Hot 100 number-one singles of the 1980s',\n",
       " 'object_type': 'scenario',\n",
       " 'url': 'https://www.expectedparrot.com/content/5a95a759-c1b9-4db1-81d9-68fc5a360134',\n",
       " 'uuid': '5a95a759-c1b9-4db1-81d9-68fc5a360134',\n",
       " 'version': '0.1.39.dev1',\n",
       " 'visibility': 'unlisted'}"
      ]
     },
     "execution_count": 10,
     "metadata": {},
     "output_type": "execute_result"
    }
   ],
   "source": [
    "info"
   ]
  },
  {
   "cell_type": "markdown",
   "id": "174fd745-c357-47c7-8560-c3b174fd5959",
   "metadata": {
    "editable": true,
    "slideshow": {
     "slide_type": ""
    },
    "tags": []
   },
   "source": [
    "### Retrieving a file and recreating scenarios\n",
    "Here we retrieve the file from the file store and recreate scenarios:"
   ]
  },
  {
   "cell_type": "code",
   "execution_count": 11,
   "id": "2f6da4cd-0b65-421f-a5fb-086acf54ad1c",
   "metadata": {
    "editable": true,
    "slideshow": {
     "slide_type": ""
    },
    "tags": [
     "skip-execution"
    ]
   },
   "outputs": [
    {
     "data": {
      "text/plain": [
       "'5a95a759-c1b9-4db1-81d9-68fc5a360134'"
      ]
     },
     "execution_count": 11,
     "metadata": {},
     "output_type": "execute_result"
    }
   ],
   "source": [
    "uuid = info[\"uuid\"]\n",
    "uuid"
   ]
  },
  {
   "cell_type": "code",
   "execution_count": 12,
   "id": "b15c5108-6166-4ca4-b244-ddb7b3d6246f",
   "metadata": {
    "editable": true,
    "slideshow": {
     "slide_type": ""
    },
    "tags": [
     "skip-execution"
    ]
   },
   "outputs": [],
   "source": [
    "csv_file = CSVFileStore.pull(uuid=uuid)"
   ]
  },
  {
   "cell_type": "code",
   "execution_count": 13,
   "id": "e435ef56-1fc7-4f6a-8252-a788f779aeb4",
   "metadata": {
    "editable": true,
    "slideshow": {
     "slide_type": ""
    },
    "tags": [
     "skip-execution"
    ]
   },
   "outputs": [],
   "source": [
    "s = ScenarioList.from_csv(csv_file.to_tempfile())"
   ]
  },
  {
   "cell_type": "code",
   "execution_count": 14,
   "id": "d8910b50-f627-455c-9b3e-1cada77def69",
   "metadata": {
    "editable": true,
    "slideshow": {
     "slide_type": ""
    },
    "tags": [
     "skip-execution"
    ]
   },
   "outputs": [
    {
     "data": {
      "text/html": [
       "<p><a href='https://docs.expectedparrot.com/en/latest/scenarios.html#scenariolist'>ScenarioList</a> scenarios: 14; keys: ['artists', 'song', 'weeks'];</p>\n",
       "        <style>\n",
       "            :root {\n",
       "  --containerHeight: 400px;\n",
       "  --headerColor: blue;\n",
       "}\n",
       "\n",
       ".table-container {\n",
       "    height: var(--containerHeight) !important;\n",
       "    width: 100%;\n",
       "    overflow: auto;  /* This enables both horizontal and vertical scrolling */\n",
       "    border: 1px solid #d4d4d4;\n",
       "    background: transparent;\n",
       "    position: relative;  /* Create stacking context for sticky header */\n",
       "}\n",
       "\n",
       ".scroll-table {\n",
       "    /* Remove width: 100% to prevent table from being constrained */\n",
       "    /* min-width: 100% ensures table takes at least full container width */\n",
       "    min-width: 100%;\n",
       "    border-collapse: separate;\n",
       "    border-spacing: 4px;\n",
       "    background: transparent;\n",
       "    table-layout: auto;  /* Allow table to size based on content */\n",
       "}\n",
       "\n",
       ".scroll-table th {\n",
       "    background: transparent;  /* Semi-transparent background to ensure text readability */\n",
       "    position: sticky;\n",
       "    top: 0;\n",
       "    z-index: 1;\n",
       "    text-align: left !important;\n",
       "    padding: 8px;\n",
       "    font-weight: bold;\n",
       "    white-space: nowrap;  /* Prevent header text from wrapping */\n",
       "    min-width: 100px;    /* Ensure minimum column width */\n",
       "    backdrop-filter: blur(8px);  /* Optional: adds extra clarity */\n",
       "    color: var(--headerColor);\n",
       "}\n",
       "\n",
       ".scroll-table td {\n",
       "    padding: 8px;\n",
       "    text-align: left !important;\n",
       "    white-space: pre-wrap;\n",
       "    word-wrap: break-word;\n",
       "    vertical-align: top;\n",
       "    color: inherit;\n",
       "    border-bottom: none;\n",
       "    background: transparent;\n",
       "    min-width: 100px;    /* Match header minimum width */\n",
       "}\n",
       "\n",
       ".scroll-table tbody tr:hover {\n",
       "    background: transparent;\n",
       "}\n",
       "\n",
       "/* Additional rule to ensure header background is truly transparent */\n",
       ".scroll-table thead tr {\n",
       "    background: transparent !important;\n",
       "}\n",
       "\n",
       "/* Add shadow to indicate scrollable content */\n",
       ".table-container::after {\n",
       "    content: '';\n",
       "    position: absolute;\n",
       "    top: 0;\n",
       "    right: 0;\n",
       "    bottom: 0;\n",
       "    width: 5px;\n",
       "    background: linear-gradient(to right, transparent, rgba(242, 6, 6, 0.1));\n",
       "    pointer-events: none;\n",
       "    opacity: 0;\n",
       "    transition: opacity 0.3s;\n",
       "}\n",
       "\n",
       ".table-container:hover::after {\n",
       "    opacity: 1;\n",
       "}\n",
       "\n",
       "/* Handle Jupyter notebook specific styling */\n",
       ".jp-OutputArea-output .table-container {\n",
       "    max-width: 100%;\n",
       "    margin: 0;\n",
       "    overflow-x: auto;\n",
       "}\n",
       "        </style>\n",
       "        <div class=\"table-container\">\n",
       "            <div class=\"scroll-table-wrapper\">\n",
       "                <table class=\"scroll-table\">\n",
       "<thead>\n",
       "<tr><th style=\"text-align: right;\">  weeks</th><th>song                          </th><th>artists                           </th></tr>\n",
       "</thead>\n",
       "<tbody>\n",
       "<tr><td style=\"text-align: right;\">     10</td><td>&quot;Physical&quot;                    </td><td>Olivia Newton-John                </td></tr>\n",
       "<tr><td style=\"text-align: right;\">      9</td><td>&quot;Bette Davis Eyes&quot;            </td><td>Kim Carnes                        </td></tr>\n",
       "<tr><td style=\"text-align: right;\">      9</td><td>&quot;Endless Love&quot;                </td><td>Diana Ross and Lionel Richie      </td></tr>\n",
       "<tr><td style=\"text-align: right;\">      8</td><td>&quot;Every Breath You Take&quot;       </td><td>The Police                        </td></tr>\n",
       "<tr><td style=\"text-align: right;\">      7</td><td>&quot;I Love Rock &#x27;n&#x27; Roll&quot;        </td><td>Joan Jett and the Blackhearts     </td></tr>\n",
       "<tr><td style=\"text-align: right;\">      7</td><td>&quot;Ebony and Ivory&quot;             </td><td>Paul McCartney and Stevie Wonder  </td></tr>\n",
       "<tr><td style=\"text-align: right;\">      7</td><td>&quot;Billie Jean&quot;                 </td><td>Michael Jackson                   </td></tr>\n",
       "<tr><td style=\"text-align: right;\">      6</td><td>&quot;Call Me&quot;                     </td><td>Blondie                           </td></tr>\n",
       "<tr><td style=\"text-align: right;\">      6</td><td>&quot;Lady&quot;                        </td><td>Kenny Rogers                      </td></tr>\n",
       "<tr><td style=\"text-align: right;\">      6</td><td>&quot;Centerfold&quot;                  </td><td>The J. Geils Band                 </td></tr>\n",
       "<tr><td style=\"text-align: right;\">      6</td><td>&quot;Eye of the Tiger&quot;            </td><td>Survivor                          </td></tr>\n",
       "<tr><td style=\"text-align: right;\">      6</td><td>&quot;Flashdance... What a Feeling&quot;</td><td>Irene Cara                        </td></tr>\n",
       "<tr><td style=\"text-align: right;\">      6</td><td>&quot;Say, Say, Say&quot;               </td><td>Paul McCartney and Michael Jackson</td></tr>\n",
       "<tr><td style=\"text-align: right;\">      6</td><td>&quot;Like a Virgin&quot;               </td><td>Madonna                           </td></tr>\n",
       "</tbody>\n",
       "</table>\n",
       "            </div>\n",
       "        </div>\n",
       "        "
      ],
      "text/plain": [
       "ScenarioList([Scenario({'weeks': '10', 'song': '\"Physical\"', 'artists': 'Olivia Newton-John'}), Scenario({'weeks': '9', 'song': '\"Bette Davis Eyes\"', 'artists': 'Kim Carnes'}), Scenario({'weeks': '9', 'song': '\"Endless Love\"', 'artists': 'Diana Ross and Lionel Richie'}), Scenario({'weeks': '8', 'song': '\"Every Breath You Take\"', 'artists': 'The Police'}), Scenario({'weeks': '7', 'song': '\"I Love Rock \\'n\\' Roll\"', 'artists': 'Joan Jett and the Blackhearts'}), Scenario({'weeks': '7', 'song': '\"Ebony and Ivory\"', 'artists': 'Paul McCartney and Stevie Wonder'}), Scenario({'weeks': '7', 'song': '\"Billie Jean\"', 'artists': 'Michael Jackson'}), Scenario({'weeks': '6', 'song': '\"Call Me\"', 'artists': 'Blondie'}), Scenario({'weeks': '6', 'song': '\"Lady\"', 'artists': 'Kenny Rogers'}), Scenario({'weeks': '6', 'song': '\"Centerfold\"', 'artists': 'The J. Geils Band'}), Scenario({'weeks': '6', 'song': '\"Eye of the Tiger\"', 'artists': 'Survivor'}), Scenario({'weeks': '6', 'song': '\"Flashdance... What a Feeling\"', 'artists': 'Irene Cara'}), Scenario({'weeks': '6', 'song': '\"Say, Say, Say\"', 'artists': 'Paul McCartney and Michael Jackson'}), Scenario({'weeks': '6', 'song': '\"Like a Virgin\"', 'artists': 'Madonna'})])"
      ]
     },
     "execution_count": 14,
     "metadata": {},
     "output_type": "execute_result"
    }
   ],
   "source": [
    "s"
   ]
  },
  {
   "cell_type": "markdown",
   "id": "dae17cb1-8b12-46b0-a953-aa6f53a3c5f8",
   "metadata": {
    "editable": true,
    "slideshow": {
     "slide_type": ""
    },
    "tags": []
   },
   "source": [
    "### Using scenarios in a survey\n",
    "We can use the scenarios with a survey by creating placeholders in the questions for the scenario keys, and adding the scenarios to the survey when we run it:"
   ]
  },
  {
   "cell_type": "code",
   "execution_count": 15,
   "id": "700d81c8-5a66-4a98-94c1-2b3c23632963",
   "metadata": {
    "editable": true,
    "slideshow": {
     "slide_type": ""
    },
    "tags": [
     "skip-execution"
    ]
   },
   "outputs": [],
   "source": [
    "from edsl import QuestionFreeText, QuestionMultipleChoice, QuestionCheckBox, QuestionList, Survey\n",
    "\n",
    "q1 = QuestionFreeText(\n",
    "    question_name = \"topic\",\n",
    "    question_text = \"What is the topic of the song {{ song }} by {{ artists }}?\"\n",
    ")\n",
    "\n",
    "q2 = QuestionMultipleChoice(\n",
    "    question_name = \"sentiment\",\n",
    "    question_text = \"What is the sentiment of the song {{ song }} by {{ artists }}?\",\n",
    "    question_options = [\n",
    "        \"Happy\",\n",
    "        \"Sad\",\n",
    "        \"Angry\",\n",
    "        \"Romantic\",\n",
    "        \"Nostalgic\",\n",
    "        \"Empowering\",\n",
    "        \"Melancholic\",\n",
    "        \"Hopeful\"\n",
    "    ]\n",
    ")\n",
    "\n",
    "q3 = QuestionCheckBox(\n",
    "    question_name = \"themes\",\n",
    "    question_text = \"What themes are present in the song {{ song }} by {{ artists }}?\",\n",
    "    question_options = [\n",
    "        \"Love\",\n",
    "        \"Loss\",\n",
    "        \"Struggle\",\n",
    "        \"Celebration\",\n",
    "        \"Social issues\",\n",
    "        \"Other\"\n",
    "    ]\n",
    ")\n",
    "\n",
    "q4 = QuestionList(\n",
    "    question_name = \"other_themes\",\n",
    "    question_text = \"What other themes are present?\"\n",
    ")\n",
    "\n",
    "survey = (\n",
    "    Survey(questions = [q1, q2, q3, q4])\n",
    "    .add_targeted_memory(q4, q3)\n",
    "    .add_stop_rule(q3, \"'Other' not in themes\")\n",
    ")\n",
    "\n",
    "results = survey.by(s).run()"
   ]
  },
  {
   "cell_type": "markdown",
   "id": "18f04c0b-253b-41a4-9eac-53e815e5487e",
   "metadata": {
    "editable": true,
    "slideshow": {
     "slide_type": ""
    },
    "tags": []
   },
   "source": [
    "We can filter, sort, select and print any components of the results that are generated. \n",
    "Note that the results include columns for all scenario keys, whether used in question texts or not:"
   ]
  },
  {
   "cell_type": "code",
   "execution_count": 16,
   "id": "3e5530bf-867e-4ab9-9b19-e93b504f8021",
   "metadata": {
    "editable": true,
    "slideshow": {
     "slide_type": ""
    },
    "tags": [
     "skip-execution"
    ]
   },
   "outputs": [
    {
     "data": {
      "text/html": [
       "\n",
       "        <style>\n",
       "            :root {\n",
       "  --containerHeight: 400px;\n",
       "  --headerColor: blue;\n",
       "}\n",
       "\n",
       ".table-container {\n",
       "    height: var(--containerHeight) !important;\n",
       "    width: 100%;\n",
       "    overflow: auto;  /* This enables both horizontal and vertical scrolling */\n",
       "    border: 1px solid #d4d4d4;\n",
       "    background: transparent;\n",
       "    position: relative;  /* Create stacking context for sticky header */\n",
       "}\n",
       "\n",
       ".scroll-table {\n",
       "    /* Remove width: 100% to prevent table from being constrained */\n",
       "    /* min-width: 100% ensures table takes at least full container width */\n",
       "    min-width: 100%;\n",
       "    border-collapse: separate;\n",
       "    border-spacing: 4px;\n",
       "    background: transparent;\n",
       "    table-layout: auto;  /* Allow table to size based on content */\n",
       "}\n",
       "\n",
       ".scroll-table th {\n",
       "    background: transparent;  /* Semi-transparent background to ensure text readability */\n",
       "    position: sticky;\n",
       "    top: 0;\n",
       "    z-index: 1;\n",
       "    text-align: left !important;\n",
       "    padding: 8px;\n",
       "    font-weight: bold;\n",
       "    white-space: nowrap;  /* Prevent header text from wrapping */\n",
       "    min-width: 100px;    /* Ensure minimum column width */\n",
       "    backdrop-filter: blur(8px);  /* Optional: adds extra clarity */\n",
       "    color: var(--headerColor);\n",
       "}\n",
       "\n",
       ".scroll-table td {\n",
       "    padding: 8px;\n",
       "    text-align: left !important;\n",
       "    white-space: pre-wrap;\n",
       "    word-wrap: break-word;\n",
       "    vertical-align: top;\n",
       "    color: inherit;\n",
       "    border-bottom: none;\n",
       "    background: transparent;\n",
       "    min-width: 100px;    /* Match header minimum width */\n",
       "}\n",
       "\n",
       ".scroll-table tbody tr:hover {\n",
       "    background: transparent;\n",
       "}\n",
       "\n",
       "/* Additional rule to ensure header background is truly transparent */\n",
       ".scroll-table thead tr {\n",
       "    background: transparent !important;\n",
       "}\n",
       "\n",
       "/* Add shadow to indicate scrollable content */\n",
       ".table-container::after {\n",
       "    content: '';\n",
       "    position: absolute;\n",
       "    top: 0;\n",
       "    right: 0;\n",
       "    bottom: 0;\n",
       "    width: 5px;\n",
       "    background: linear-gradient(to right, transparent, rgba(242, 6, 6, 0.1));\n",
       "    pointer-events: none;\n",
       "    opacity: 0;\n",
       "    transition: opacity 0.3s;\n",
       "}\n",
       "\n",
       ".table-container:hover::after {\n",
       "    opacity: 1;\n",
       "}\n",
       "\n",
       "/* Handle Jupyter notebook specific styling */\n",
       ".jp-OutputArea-output .table-container {\n",
       "    max-width: 100%;\n",
       "    margin: 0;\n",
       "    overflow-x: auto;\n",
       "}\n",
       "        </style>\n",
       "        <div class=\"table-container\">\n",
       "            <div class=\"scroll-table-wrapper\">\n",
       "                <table class=\"scroll-table\">\n",
       "<thead>\n",
       "<tr><th>scenario.song                 </th><th>scenario.artists                  </th><th>answer.topic                                                                                                                                                                                                                                                                                                                                                                                                                                                                                                         </th></tr>\n",
       "</thead>\n",
       "<tbody>\n",
       "<tr><td>&quot;Bette Davis Eyes&quot;            </td><td>Kim Carnes                        </td><td>The song &quot;Bette Davis Eyes&quot; by Kim Carnes is about a woman who is captivating and alluring, with a mysterious and seductive charm reminiscent of the iconic actress Bette Davis. The lyrics describe how this woman has an intense and mesmerizing presence, with a certain allure that draws people in, much like Bette Davis was known for her distinctive eyes and strong screen presence. The song highlights her ability to enchant and manipulate those around her with her charisma and enigmatic personality.</td></tr>\n",
       "<tr><td>&quot;Billie Jean&quot;                 </td><td>Michael Jackson                   </td><td>The song &quot;Billie Jean&quot; by Michael Jackson is about a man who is confronted by a woman named Billie Jean who claims that he is the father of her son. The lyrics describe his denial of her allegations and his insistence that she is lying. The song explores themes of false accusations, the burden of fame, and the impact of rumors on personal life.                                                                                                                                                           </td></tr>\n",
       "<tr><td>&quot;Call Me&quot;                     </td><td>Blondie                           </td><td>The song &quot;Call Me&quot; by Blondie is about a person expressing their desire for a romantic connection and availability to a potential lover. The lyrics convey a sense of urgency and excitement, inviting the other person to reach out and make contact at any time. The song captures the thrill and anticipation of new love, emphasizing themes of passion and longing.                                                                                                                                             </td></tr>\n",
       "<tr><td>&quot;Centerfold&quot;                  </td><td>The J. Geils Band                 </td><td>The song &quot;Centerfold&quot; by The J. Geils Band is about a man who discovers that a former crush from his school days has become a model featured in a men&#x27;s magazine. The lyrics express his surprise and mixed emotions as he grapples with the contrast between his innocent memories of her and her new, more provocative public image.                                                                                                                                                                               </td></tr>\n",
       "<tr><td>&quot;Ebony and Ivory&quot;             </td><td>Paul McCartney and Stevie Wonder  </td><td>The song &quot;Ebony and Ivory&quot; by Paul McCartney and Stevie Wonder addresses themes of racial harmony and unity. It uses the metaphor of piano keys—ebony (black) and ivory (white)—to symbolize how different races can coexist peacefully and complement each other, just as the keys work together to create beautiful music.                                                                                                                                                                                         </td></tr>\n",
       "<tr><td>&quot;Endless Love&quot;                </td><td>Diana Ross and Lionel Richie      </td><td>The song &quot;Endless Love&quot; by Diana Ross and Lionel Richie is about a deep, romantic love between two people. The lyrics express a commitment to loving each other endlessly and highlight the emotional connection and devotion they share. It&#x27;s often considered a classic love song and is frequently played at weddings and romantic occasions.                                                                                                                                                                     </td></tr>\n",
       "<tr><td>&quot;Every Breath You Take&quot;       </td><td>The Police                        </td><td>The song &quot;Every Breath You Take&quot; by The Police is often interpreted as being about obsession and surveillance. While it is frequently perceived as a romantic song, the lyrics actually convey a sense of possessiveness and control, with the narrator closely watching and monitoring every move of the person they are addressing. This underlying theme of obsession contrasts with the song&#x27;s soothing melody, creating an intriguing dynamic.                                                                  </td></tr>\n",
       "<tr><td>&quot;Eye of the Tiger&quot;            </td><td>Survivor                          </td><td>The song &quot;Eye of the Tiger&quot; by Survivor is about perseverance, determination, and fighting spirit. It was famously used as the theme song for the movie &quot;Rocky III.&quot; The lyrics emphasize staying focused, facing challenges head-on, and having the willpower to overcome obstacles, embodying the mindset of a fighter who is ready to face any opponent.                                                                                                                                                          </td></tr>\n",
       "<tr><td>&quot;Flashdance... What a Feeling&quot;</td><td>Irene Cara                        </td><td>The song &quot;Flashdance... What a Feeling&quot; by Irene Cara is primarily about empowerment, self-expression, and the joy of pursuing one&#x27;s dreams. It captures the emotions of determination and exhilaration that come with following one&#x27;s passion and overcoming obstacles. The song was famously featured in the 1983 film &quot;Flashdance,&quot; where it underscored themes of ambition and the pursuit of artistic fulfillment.                                                                                              </td></tr>\n",
       "<tr><td>&quot;I Love Rock &#x27;n&#x27; Roll&quot;        </td><td>Joan Jett and the Blackhearts     </td><td>The song &quot;I Love Rock &#x27;n&#x27; Roll&quot; by Joan Jett and the Blackhearts is about the excitement and passion for rock and roll music. The lyrics describe a person encountering someone attractive at a jukebox, bonding over their shared love for rock music, and suggesting they spend more time together listening to it. The song captures the rebellious and energetic spirit of rock and roll.                                                                                                                        </td></tr>\n",
       "<tr><td>&quot;Lady&quot;                        </td><td>Kenny Rogers                      </td><td>The song &quot;Lady&quot; by Kenny Rogers is a romantic ballad that expresses deep love and admiration. The lyrics convey a heartfelt message from a man to the woman he loves, emphasizing her importance in his life and his devotion to her. The song highlights themes of love, appreciation, and emotional connection.                                                                                                                                                                                                    </td></tr>\n",
       "<tr><td>&quot;Like a Virgin&quot;               </td><td>Madonna                           </td><td>The song &quot;Like a Virgin&quot; by Madonna is primarily about the feeling of renewal and experiencing something as if it were for the first time. It conveys themes of love and emotional rebirth, using the metaphor of virginity to describe the fresh and transformative nature of a new romantic relationship. The song captures the excitement and vulnerability that can come with falling in love again after past experiences.                                                                                      </td></tr>\n",
       "<tr><td>&quot;Physical&quot;                    </td><td>Olivia Newton-John                </td><td>The song &quot;Physical&quot; by Olivia Newton-John, released in 1981, is primarily about physical attraction and desire. The lyrics suggest a playful and flirtatious approach to romance, emphasizing the singer&#x27;s interest in taking a relationship to a more intimate, physical level. The song&#x27;s upbeat tempo and catchy melody, along with its suggestive lyrics, contributed to its popularity and the somewhat controversial reception it received at the time of its release.                                         </td></tr>\n",
       "<tr><td>&quot;Say, Say, Say&quot;               </td><td>Paul McCartney and Michael Jackson</td><td>The song &quot;Say, Say, Say&quot; by Paul McCartney and Michael Jackson is about a person pleading with their lover to reciprocate their feelings and to communicate openly. The lyrics express themes of love, longing, and the desire for emotional connection. The song captures the emotional struggle of wanting reassurance and clarity in a romantic relationship.                                                                                                                                                     </td></tr>\n",
       "</tbody>\n",
       "</table>\n",
       "            </div>\n",
       "        </div>\n",
       "        "
      ],
      "text/plain": [
       "Dataset([{'scenario.song': ['\"Bette Davis Eyes\"', '\"Billie Jean\"', '\"Call Me\"', '\"Centerfold\"', '\"Ebony and Ivory\"', '\"Endless Love\"', '\"Every Breath You Take\"', '\"Eye of the Tiger\"', '\"Flashdance... What a Feeling\"', '\"I Love Rock \\'n\\' Roll\"', '\"Lady\"', '\"Like a Virgin\"', '\"Physical\"', '\"Say, Say, Say\"']}, {'scenario.artists': ['Kim Carnes', 'Michael Jackson', 'Blondie', 'The J. Geils Band', 'Paul McCartney and Stevie Wonder', 'Diana Ross and Lionel Richie', 'The Police', 'Survivor', 'Irene Cara', 'Joan Jett and the Blackhearts', 'Kenny Rogers', 'Madonna', 'Olivia Newton-John', 'Paul McCartney and Michael Jackson']}, {'answer.topic': ['The song \"Bette Davis Eyes\" by Kim Carnes is about a woman who is captivating and alluring, with a mysterious and seductive charm reminiscent of the iconic actress Bette Davis. The lyrics describe how this woman has an intense and mesmerizing presence, with a certain allure that draws people in, much like Bette Davis was known for her distinctive eyes and strong screen presence. The song highlights her ability to enchant and manipulate those around her with her charisma and enigmatic personality.', 'The song \"Billie Jean\" by Michael Jackson is about a man who is confronted by a woman named Billie Jean who claims that he is the father of her son. The lyrics describe his denial of her allegations and his insistence that she is lying. The song explores themes of false accusations, the burden of fame, and the impact of rumors on personal life.', 'The song \"Call Me\" by Blondie is about a person expressing their desire for a romantic connection and availability to a potential lover. The lyrics convey a sense of urgency and excitement, inviting the other person to reach out and make contact at any time. The song captures the thrill and anticipation of new love, emphasizing themes of passion and longing.', 'The song \"Centerfold\" by The J. Geils Band is about a man who discovers that a former crush from his school days has become a model featured in a men\\'s magazine. The lyrics express his surprise and mixed emotions as he grapples with the contrast between his innocent memories of her and her new, more provocative public image.', 'The song \"Ebony and Ivory\" by Paul McCartney and Stevie Wonder addresses themes of racial harmony and unity. It uses the metaphor of piano keys—ebony (black) and ivory (white)—to symbolize how different races can coexist peacefully and complement each other, just as the keys work together to create beautiful music.', 'The song \"Endless Love\" by Diana Ross and Lionel Richie is about a deep, romantic love between two people. The lyrics express a commitment to loving each other endlessly and highlight the emotional connection and devotion they share. It\\'s often considered a classic love song and is frequently played at weddings and romantic occasions.', 'The song \"Every Breath You Take\" by The Police is often interpreted as being about obsession and surveillance. While it is frequently perceived as a romantic song, the lyrics actually convey a sense of possessiveness and control, with the narrator closely watching and monitoring every move of the person they are addressing. This underlying theme of obsession contrasts with the song\\'s soothing melody, creating an intriguing dynamic.', 'The song \"Eye of the Tiger\" by Survivor is about perseverance, determination, and fighting spirit. It was famously used as the theme song for the movie \"Rocky III.\" The lyrics emphasize staying focused, facing challenges head-on, and having the willpower to overcome obstacles, embodying the mindset of a fighter who is ready to face any opponent.', 'The song \"Flashdance... What a Feeling\" by Irene Cara is primarily about empowerment, self-expression, and the joy of pursuing one\\'s dreams. It captures the emotions of determination and exhilaration that come with following one\\'s passion and overcoming obstacles. The song was famously featured in the 1983 film \"Flashdance,\" where it underscored themes of ambition and the pursuit of artistic fulfillment.', 'The song \"I Love Rock \\'n\\' Roll\" by Joan Jett and the Blackhearts is about the excitement and passion for rock and roll music. The lyrics describe a person encountering someone attractive at a jukebox, bonding over their shared love for rock music, and suggesting they spend more time together listening to it. The song captures the rebellious and energetic spirit of rock and roll.', 'The song \"Lady\" by Kenny Rogers is a romantic ballad that expresses deep love and admiration. The lyrics convey a heartfelt message from a man to the woman he loves, emphasizing her importance in his life and his devotion to her. The song highlights themes of love, appreciation, and emotional connection.', 'The song \"Like a Virgin\" by Madonna is primarily about the feeling of renewal and experiencing something as if it were for the first time. It conveys themes of love and emotional rebirth, using the metaphor of virginity to describe the fresh and transformative nature of a new romantic relationship. The song captures the excitement and vulnerability that can come with falling in love again after past experiences.', 'The song \"Physical\" by Olivia Newton-John, released in 1981, is primarily about physical attraction and desire. The lyrics suggest a playful and flirtatious approach to romance, emphasizing the singer\\'s interest in taking a relationship to a more intimate, physical level. The song\\'s upbeat tempo and catchy melody, along with its suggestive lyrics, contributed to its popularity and the somewhat controversial reception it received at the time of its release.', 'The song \"Say, Say, Say\" by Paul McCartney and Michael Jackson is about a person pleading with their lover to reciprocate their feelings and to communicate openly. The lyrics express themes of love, longing, and the desire for emotional connection. The song captures the emotional struggle of wanting reassurance and clarity in a romantic relationship.']}])"
      ]
     },
     "execution_count": 16,
     "metadata": {},
     "output_type": "execute_result"
    }
   ],
   "source": [
    "results.sort_by(\"song\").select(\"song\", \"artists\", \"topic\")"
   ]
  },
  {
   "cell_type": "code",
   "execution_count": 17,
   "id": "7d568fed-cd4b-4d1b-a35b-fcb01f028a2e",
   "metadata": {
    "editable": true,
    "slideshow": {
     "slide_type": ""
    },
    "tags": [
     "skip-execution"
    ]
   },
   "outputs": [
    {
     "data": {
      "text/html": [
       "\n",
       "        <style>\n",
       "            :root {\n",
       "  --containerHeight: 400px;\n",
       "  --headerColor: blue;\n",
       "}\n",
       "\n",
       ".table-container {\n",
       "    height: var(--containerHeight) !important;\n",
       "    width: 100%;\n",
       "    overflow: auto;  /* This enables both horizontal and vertical scrolling */\n",
       "    border: 1px solid #d4d4d4;\n",
       "    background: transparent;\n",
       "    position: relative;  /* Create stacking context for sticky header */\n",
       "}\n",
       "\n",
       ".scroll-table {\n",
       "    /* Remove width: 100% to prevent table from being constrained */\n",
       "    /* min-width: 100% ensures table takes at least full container width */\n",
       "    min-width: 100%;\n",
       "    border-collapse: separate;\n",
       "    border-spacing: 4px;\n",
       "    background: transparent;\n",
       "    table-layout: auto;  /* Allow table to size based on content */\n",
       "}\n",
       "\n",
       ".scroll-table th {\n",
       "    background: transparent;  /* Semi-transparent background to ensure text readability */\n",
       "    position: sticky;\n",
       "    top: 0;\n",
       "    z-index: 1;\n",
       "    text-align: left !important;\n",
       "    padding: 8px;\n",
       "    font-weight: bold;\n",
       "    white-space: nowrap;  /* Prevent header text from wrapping */\n",
       "    min-width: 100px;    /* Ensure minimum column width */\n",
       "    backdrop-filter: blur(8px);  /* Optional: adds extra clarity */\n",
       "    color: var(--headerColor);\n",
       "}\n",
       "\n",
       ".scroll-table td {\n",
       "    padding: 8px;\n",
       "    text-align: left !important;\n",
       "    white-space: pre-wrap;\n",
       "    word-wrap: break-word;\n",
       "    vertical-align: top;\n",
       "    color: inherit;\n",
       "    border-bottom: none;\n",
       "    background: transparent;\n",
       "    min-width: 100px;    /* Match header minimum width */\n",
       "}\n",
       "\n",
       ".scroll-table tbody tr:hover {\n",
       "    background: transparent;\n",
       "}\n",
       "\n",
       "/* Additional rule to ensure header background is truly transparent */\n",
       ".scroll-table thead tr {\n",
       "    background: transparent !important;\n",
       "}\n",
       "\n",
       "/* Add shadow to indicate scrollable content */\n",
       ".table-container::after {\n",
       "    content: '';\n",
       "    position: absolute;\n",
       "    top: 0;\n",
       "    right: 0;\n",
       "    bottom: 0;\n",
       "    width: 5px;\n",
       "    background: linear-gradient(to right, transparent, rgba(242, 6, 6, 0.1));\n",
       "    pointer-events: none;\n",
       "    opacity: 0;\n",
       "    transition: opacity 0.3s;\n",
       "}\n",
       "\n",
       ".table-container:hover::after {\n",
       "    opacity: 1;\n",
       "}\n",
       "\n",
       "/* Handle Jupyter notebook specific styling */\n",
       ".jp-OutputArea-output .table-container {\n",
       "    max-width: 100%;\n",
       "    margin: 0;\n",
       "    overflow-x: auto;\n",
       "}\n",
       "        </style>\n",
       "        <div class=\"table-container\">\n",
       "            <div class=\"scroll-table-wrapper\">\n",
       "                <table class=\"scroll-table\">\n",
       "<thead>\n",
       "<tr><th style=\"text-align: right;\">  scenario.weeks</th><th>scenario.song                 </th><th>scenario.artists                  </th><th>answer.sentiment  </th><th>answer.themes                   </th><th>answer.other_themes                                   </th></tr>\n",
       "</thead>\n",
       "<tbody>\n",
       "<tr><td style=\"text-align: right;\">              10</td><td>&quot;Physical&quot;                    </td><td>Olivia Newton-John                </td><td>Empowering        </td><td>[&#x27;Love&#x27;, &#x27;Celebration&#x27;, &#x27;Other&#x27;]</td><td>[&#x27;Empowerment&#x27;, &#x27;Desire&#x27;, &#x27;Physical Attraction&#x27;]      </td></tr>\n",
       "<tr><td style=\"text-align: right;\">               9</td><td>&quot;Bette Davis Eyes&quot;            </td><td>Kim Carnes                        </td><td>Nostalgic         </td><td>[&#x27;Love&#x27;, &#x27;Other&#x27;]               </td><td>[&#x27;Fame&#x27;, &#x27;Seduction&#x27;, &#x27;Mystery&#x27;]                      </td></tr>\n",
       "<tr><td style=\"text-align: right;\">               9</td><td>&quot;Endless Love&quot;                </td><td>Diana Ross and Lionel Richie      </td><td>Romantic          </td><td>[&#x27;Love&#x27;, &#x27;Celebration&#x27;]         </td><td>                                                      </td></tr>\n",
       "<tr><td style=\"text-align: right;\">               8</td><td>&quot;Every Breath You Take&quot;       </td><td>The Police                        </td><td>Melancholic       </td><td>[&#x27;Love&#x27;, &#x27;Loss&#x27;, &#x27;Other&#x27;]       </td><td>[&#x27;Obsession&#x27;, &#x27;Possessiveness&#x27;, &#x27;Surveillance&#x27;]       </td></tr>\n",
       "<tr><td style=\"text-align: right;\">               7</td><td>&quot;I Love Rock &#x27;n&#x27; Roll&quot;        </td><td>Joan Jett and the Blackhearts     </td><td>Empowering        </td><td>[&#x27;Love&#x27;, &#x27;Celebration&#x27;, &#x27;Other&#x27;]</td><td>[&#x27;Nostalgia&#x27;, &#x27;Rebellion&#x27;, &#x27;Youthful Energy&#x27;]         </td></tr>\n",
       "<tr><td style=\"text-align: right;\">               7</td><td>&quot;Ebony and Ivory&quot;             </td><td>Paul McCartney and Stevie Wonder  </td><td>Hopeful           </td><td>[&#x27;Love&#x27;, &#x27;Social issues&#x27;]       </td><td>                                                      </td></tr>\n",
       "<tr><td style=\"text-align: right;\">               7</td><td>&quot;Billie Jean&quot;                 </td><td>Michael Jackson                   </td><td>Melancholic       </td><td>[&#x27;Loss&#x27;, &#x27;Struggle&#x27;, &#x27;Other&#x27;]   </td><td>[&#x27;Deception&#x27;, &#x27;Fame&#x27;, &#x27;Paranoia&#x27;, &#x27;Guilt&#x27;, &#x27;Identity&#x27;]</td></tr>\n",
       "<tr><td style=\"text-align: right;\">               6</td><td>&quot;Call Me&quot;                     </td><td>Blondie                           </td><td>Empowering        </td><td>[&#x27;Love&#x27;, &#x27;Celebration&#x27;]         </td><td>                                                      </td></tr>\n",
       "<tr><td style=\"text-align: right;\">               6</td><td>&quot;Lady&quot;                        </td><td>Kenny Rogers                      </td><td>Romantic          </td><td>[&#x27;Love&#x27;]                        </td><td>                                                      </td></tr>\n",
       "<tr><td style=\"text-align: right;\">               6</td><td>&quot;Centerfold&quot;                  </td><td>The J. Geils Band                 </td><td>Nostalgic         </td><td>[&#x27;Love&#x27;, &#x27;Loss&#x27;, &#x27;Other&#x27;]       </td><td>[&#x27;Nostalgia&#x27;, &#x27;Innocence&#x27;, &#x27;Surprise&#x27;, &#x27;Adolescence&#x27;] </td></tr>\n",
       "<tr><td style=\"text-align: right;\">               6</td><td>&quot;Eye of the Tiger&quot;            </td><td>Survivor                          </td><td>Empowering        </td><td>[&#x27;Struggle&#x27;]                    </td><td>                                                      </td></tr>\n",
       "<tr><td style=\"text-align: right;\">               6</td><td>&quot;Flashdance... What a Feeling&quot;</td><td>Irene Cara                        </td><td>Empowering        </td><td>[&#x27;Struggle&#x27;, &#x27;Celebration&#x27;]     </td><td>                                                      </td></tr>\n",
       "<tr><td style=\"text-align: right;\">               6</td><td>&quot;Say, Say, Say&quot;               </td><td>Paul McCartney and Michael Jackson</td><td>Romantic          </td><td>[&#x27;Love&#x27;, &#x27;Struggle&#x27;]            </td><td>                                                      </td></tr>\n",
       "<tr><td style=\"text-align: right;\">               6</td><td>&quot;Like a Virgin&quot;               </td><td>Madonna                           </td><td>Romantic          </td><td>[&#x27;Love&#x27;, &#x27;Celebration&#x27;]         </td><td>                                                      </td></tr>\n",
       "</tbody>\n",
       "</table>\n",
       "            </div>\n",
       "        </div>\n",
       "        "
      ],
      "text/plain": [
       "Dataset([{'scenario.weeks': ['10', '9', '9', '8', '7', '7', '7', '6', '6', '6', '6', '6', '6', '6']}, {'scenario.song': ['\"Physical\"', '\"Bette Davis Eyes\"', '\"Endless Love\"', '\"Every Breath You Take\"', '\"I Love Rock \\'n\\' Roll\"', '\"Ebony and Ivory\"', '\"Billie Jean\"', '\"Call Me\"', '\"Lady\"', '\"Centerfold\"', '\"Eye of the Tiger\"', '\"Flashdance... What a Feeling\"', '\"Say, Say, Say\"', '\"Like a Virgin\"']}, {'scenario.artists': ['Olivia Newton-John', 'Kim Carnes', 'Diana Ross and Lionel Richie', 'The Police', 'Joan Jett and the Blackhearts', 'Paul McCartney and Stevie Wonder', 'Michael Jackson', 'Blondie', 'Kenny Rogers', 'The J. Geils Band', 'Survivor', 'Irene Cara', 'Paul McCartney and Michael Jackson', 'Madonna']}, {'answer.sentiment': ['Empowering', 'Nostalgic', 'Romantic', 'Melancholic', 'Empowering', 'Hopeful', 'Melancholic', 'Empowering', 'Romantic', 'Nostalgic', 'Empowering', 'Empowering', 'Romantic', 'Romantic']}, {'answer.themes': [['Love', 'Celebration', 'Other'], ['Love', 'Other'], ['Love', 'Celebration'], ['Love', 'Loss', 'Other'], ['Love', 'Celebration', 'Other'], ['Love', 'Social issues'], ['Loss', 'Struggle', 'Other'], ['Love', 'Celebration'], ['Love'], ['Love', 'Loss', 'Other'], ['Struggle'], ['Struggle', 'Celebration'], ['Love', 'Struggle'], ['Love', 'Celebration']]}, {'answer.other_themes': [['Empowerment', 'Desire', 'Physical Attraction'], ['Fame', 'Seduction', 'Mystery'], None, ['Obsession', 'Possessiveness', 'Surveillance'], ['Nostalgia', 'Rebellion', 'Youthful Energy'], None, ['Deception', 'Fame', 'Paranoia', 'Guilt', 'Identity'], None, None, ['Nostalgia', 'Innocence', 'Surprise', 'Adolescence'], None, None, None, None]}])"
      ]
     },
     "execution_count": 17,
     "metadata": {},
     "output_type": "execute_result"
    }
   ],
   "source": [
    "results.sort_by(\"weeks\", reverse=True).select(\"weeks\", \"song\", \"artists\", \"sentiment\", \"themes\", \"other_themes\")"
   ]
  },
  {
   "cell_type": "markdown",
   "id": "0fdb9da9-ddb7-495d-bb1a-7e42962c5916",
   "metadata": {
    "editable": true,
    "slideshow": {
     "slide_type": ""
    },
    "tags": []
   },
   "source": [
    "### Posting a notebook to the Coop\n",
    "Here we post the contents of this notebook to the Coop for anyone to access:"
   ]
  },
  {
   "cell_type": "code",
   "execution_count": 18,
   "id": "026de29e-1ed9-4f4d-bb72-480949dd5346",
   "metadata": {
    "editable": true,
    "slideshow": {
     "slide_type": ""
    },
    "tags": [
     "skip-execution"
    ]
   },
   "outputs": [],
   "source": [
    "from edsl import Notebook"
   ]
  },
  {
   "cell_type": "code",
   "execution_count": 19,
   "id": "93af6dcf-1ad1-447c-9c59-066f60383a0c",
   "metadata": {
    "editable": true,
    "slideshow": {
     "slide_type": ""
    },
    "tags": [
     "skip-execution"
    ]
   },
   "outputs": [],
   "source": [
    "n = Notebook(path = \"scenarios_filestore_example.ipynb\")"
   ]
  },
  {
   "cell_type": "code",
   "execution_count": 20,
   "id": "cebfa0b1-ea20-41dd-aa83-bbbd4d626f1c",
   "metadata": {
    "editable": true,
    "slideshow": {
     "slide_type": ""
    },
    "tags": [
     "skip-execution"
    ]
   },
   "outputs": [
    {
     "data": {
      "text/plain": [
       "{'description': 'Example code for using data files for scenarios via file store and Coop',\n",
       " 'object_type': 'notebook',\n",
       " 'url': 'https://www.expectedparrot.com/content/c45b97a0-0e29-4d6b-9f9c-28fb58a810c8',\n",
       " 'uuid': 'c45b97a0-0e29-4d6b-9f9c-28fb58a810c8',\n",
       " 'version': '0.1.39.dev1',\n",
       " 'visibility': 'public'}"
      ]
     },
     "execution_count": 20,
     "metadata": {},
     "output_type": "execute_result"
    }
   ],
   "source": [
    "n.push(description = \"Example code for using data files for scenarios via file store and Coop\", visibility = \"public\")"
   ]
  },
  {
   "cell_type": "markdown",
   "id": "f1060fe4-7ca2-4afe-85ed-e639da7f4c40",
   "metadata": {
    "editable": true,
    "slideshow": {
     "slide_type": ""
    },
    "tags": []
   },
   "source": [
    "To update an object:"
   ]
  },
  {
   "cell_type": "code",
   "execution_count": 21,
   "id": "e738ec8d-1c5c-4407-bb28-70b8355bb1ab",
   "metadata": {
    "editable": true,
    "slideshow": {
     "slide_type": ""
    },
    "tags": [
     "skip-execution"
    ]
   },
   "outputs": [],
   "source": [
    "n = Notebook(path = \"scenarios_filestore_example.ipynb\") # resave"
   ]
  },
  {
   "cell_type": "code",
   "execution_count": 22,
   "id": "775845a7-1145-4e55-bacd-1d0698c72b1a",
   "metadata": {
    "editable": true,
    "slideshow": {
     "slide_type": ""
    },
    "tags": [
     "skip-execution"
    ]
   },
   "outputs": [
    {
     "data": {
      "text/plain": [
       "{'status': 'success'}"
      ]
     },
     "execution_count": 22,
     "metadata": {},
     "output_type": "execute_result"
    }
   ],
   "source": [
    "n.patch(uuid = \"0b0c86b4-7629-428c-8346-03d69a6a76f9\", value = n)"
   ]
  }
 ],
 "metadata": {
  "kernelspec": {
   "display_name": "Python 3 (ipykernel)",
   "language": "python",
   "name": "python3"
  },
  "language_info": {
   "codemirror_mode": {
    "name": "ipython",
    "version": 3
   },
   "file_extension": ".py",
   "mimetype": "text/x-python",
   "name": "python",
   "nbconvert_exporter": "python",
   "pygments_lexer": "ipython3",
   "version": "3.11.7"
  }
 },
 "nbformat": 4,
 "nbformat_minor": 5
}
