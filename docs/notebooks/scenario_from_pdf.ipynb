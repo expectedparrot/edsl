{
 "cells": [
  {
   "cell_type": "markdown",
   "id": "5b2d8e23-4783-4221-95af-0ef5be8c1b31",
   "metadata": {
    "editable": true,
    "slideshow": {
     "slide_type": ""
    },
    "tags": []
   },
   "source": [
    "# Using PDFs in a survey\n",
    "This notebook provides sample [EDSL](https://docs.expectedparrot.com/) code demonstrating a method `from_pdf()` that imports a PDF and automatically creates `Scenario` objects for the pages to use as parameters of survey questions. This can be helpful when using EDSL to extract qualitative information from a large text efficiently. \n",
    "\n",
    "EDSL is an open-source library for simulating surveys and experiments with AI agents and large language models. Please see our [documentation page](https://docs.expectedparrot.com/) for tips and tutorials on getting started.\n",
    "\n",
    "## How it works\n",
    "EDSL comes with a [variety of question types](https://docs.expectedparrot.com/en/latest/questions.html) that we can select from based on the desired form of the response (multiple choice, free text, etc.). We can also parameterize questions with textual content in order to ask questions about it. We do this by creating a `{{ placeholder }}` in a question text, e.g., *What are the key themes of this text: {{ text }}*, and then creating `Scenario` objects for the content to be inserted in the placeholder when we run the survey. This allows us to administer multiple versions of a question with different inputs all at once. A common use case for this is performing [data labeling tasks](https://docs.expectedparrot.com/en/latest/notebooks/data_labeling_example.html) designed as questions about one or more pieces of textual data that can be inserted into the survey question texts. [Learn more about using scenarios](https://docs.expectedparrot.com/en/latest/scenarios.html).\n",
    "\n",
    "## Example\n",
    "For purposes of demonstration we use a PDF copy of the first page of the recent paper [Automated Social Science:\n",
    "Language Models as Scientist and Subjects](https://arxiv.org/pdf/2404.11794) and conduct a survey consisting of several questions about the contents of it:\n",
    "\n",
    "<img src=\"automated_social_science_paper.png\" width=\"300px\">"
   ]
  },
  {
   "cell_type": "markdown",
   "id": "6ca387cf-719c-4c59-a98b-34cea74c3985",
   "metadata": {
    "editable": true,
    "slideshow": {
     "slide_type": ""
    },
    "tags": []
   },
   "source": [
    "We have stored it at the Coop and can re-import it:"
   ]
  },
  {
   "cell_type": "code",
   "execution_count": 1,
   "id": "592d7ac0-60c3-4761-a6ce-036efe0177b8",
   "metadata": {
    "editable": true,
    "slideshow": {
     "slide_type": ""
    },
    "tags": []
   },
   "outputs": [],
   "source": [
    "from edsl.scenarios.FileStore import PDFFileStore"
   ]
  },
  {
   "cell_type": "code",
   "execution_count": 2,
   "id": "ba31188d-d5fa-4a25-99c1-177fe973f46d",
   "metadata": {
    "editable": true,
    "scrolled": true,
    "slideshow": {
     "slide_type": ""
    },
    "tags": []
   },
   "outputs": [],
   "source": [
    "ass_pdf = PDFFileStore.pull('65c1ca0c-35d8-4c57-9186-787522806a1f', expected_parrot_url='https://www.expectedparrot.com')"
   ]
  },
  {
   "cell_type": "code",
   "execution_count": 3,
   "id": "e5071a38-c484-45dc-82e4-9c58ca61edc0",
   "metadata": {
    "editable": true,
    "slideshow": {
     "slide_type": ""
    },
    "tags": []
   },
   "outputs": [],
   "source": [
    "# Code for posting a PDF to Coop file store:\n",
    "# \n",
    "# ass_pdf = PDFFileStore(\"automated_social_scientist.pdf\")\n",
    "# info = ass_pdf.push()\n",
    "# print(info)"
   ]
  },
  {
   "cell_type": "markdown",
   "id": "662e0775-6f54-47fb-b4b4-21d15573ed3d",
   "metadata": {
    "editable": true,
    "slideshow": {
     "slide_type": ""
    },
    "tags": []
   },
   "source": [
    "Here we create a survey of questions that we will administer for each page of the PDF. Note that the `from_pdf()` method requires that the scenario placeholders be `{{ text }}` (for regular scenario objects, you can use any placeholder word that you like):"
   ]
  },
  {
   "cell_type": "code",
   "execution_count": 4,
   "id": "18bf771b-a06e-4737-aad9-4b218479fc4c",
   "metadata": {
    "editable": true,
    "slideshow": {
     "slide_type": ""
    },
    "tags": []
   },
   "outputs": [],
   "source": [
    "from edsl import QuestionFreeText, QuestionList, ScenarioList, Survey"
   ]
  },
  {
   "cell_type": "code",
   "execution_count": 5,
   "id": "e927902f-4c40-4df4-9188-fc2fc11a5943",
   "metadata": {
    "editable": true,
    "slideshow": {
     "slide_type": ""
    },
    "tags": []
   },
   "outputs": [],
   "source": [
    "q_summary = QuestionFreeText(\n",
    "    question_name=\"summary\",\n",
    "    question_text=\"Briefly summarize the abstract of this paper: {{ text }}\",\n",
    ")\n",
    "\n",
    "q_authors = QuestionList(\n",
    "    question_name=\"authors\",\n",
    "    question_text=\"List the names of all the authors of the following paper: {{ text }}\",\n",
    ")\n",
    "\n",
    "q_thanks = QuestionList(\n",
    "    question_name=\"thanks\",\n",
    "    question_text=\"List the names of the people thanked in the following paper: {{ text }}\",\n",
    ")\n",
    "\n",
    "survey = Survey([q_summary, q_authors, q_thanks])"
   ]
  },
  {
   "cell_type": "markdown",
   "id": "3b491c8c-5caf-478f-9343-dc7f1222f18d",
   "metadata": {
    "editable": true,
    "slideshow": {
     "slide_type": ""
    },
    "tags": []
   },
   "source": [
    "Next we create a `ScenarioList` for the PDF using the `from_pdf()` method, which automatically creates a list of `Scenario` objects for the pages of the PDF which will be inserted in our questions (in our example, this is just the first page of the paper):"
   ]
  },
  {
   "cell_type": "code",
   "execution_count": 6,
   "id": "f6f81ce4-7a38-4c81-a0ee-e60ae33f68c5",
   "metadata": {
    "editable": true,
    "slideshow": {
     "slide_type": ""
    },
    "tags": []
   },
   "outputs": [],
   "source": [
    "automated_social_scientist = ScenarioList.from_pdf(ass_pdf.to_tempfile())"
   ]
  },
  {
   "cell_type": "markdown",
   "id": "5cb36dda-838b-42e8-9aee-a9ab3ffb41e8",
   "metadata": {
    "editable": true,
    "slideshow": {
     "slide_type": ""
    },
    "tags": []
   },
   "source": [
    "Alternative method for importing a file locally:"
   ]
  },
  {
   "cell_type": "code",
   "execution_count": 7,
   "id": "87671ddf-dbf2-4ca1-a0f6-cdac428a43c9",
   "metadata": {
    "editable": true,
    "slideshow": {
     "slide_type": ""
    },
    "tags": []
   },
   "outputs": [],
   "source": [
    "# automated_social_scientist = ScenarioList.from_pdf(\"automated_social_scientist.pdf\")"
   ]
  },
  {
   "cell_type": "markdown",
   "id": "600b575c-bc48-4e25-a45a-c9ffb77a4dfc",
   "metadata": {},
   "source": [
    "We can inspect the scenarios:"
   ]
  },
  {
   "cell_type": "code",
   "execution_count": 8,
   "id": "4f011863-c5b9-40dd-9f76-1c07d561ab4c",
   "metadata": {},
   "outputs": [
    {
     "data": {
      "text/html": [
       "<div class=\"highlight\"><pre><span></span><span class=\"p\">{</span>\n",
       "<span class=\"w\">    </span><span class=\"nt\">&quot;scenarios&quot;</span><span class=\"p\">:</span><span class=\"w\"> </span><span class=\"p\">[</span>\n",
       "<span class=\"w\">        </span><span class=\"p\">{</span>\n",
       "<span class=\"w\">            </span><span class=\"nt\">&quot;filename&quot;</span><span class=\"p\">:</span><span class=\"w\"> </span><span class=\"s2\">&quot;tmptw7anub7.pdf&quot;</span><span class=\"p\">,</span>\n",
       "<span class=\"w\">            </span><span class=\"nt\">&quot;page&quot;</span><span class=\"p\">:</span><span class=\"w\"> </span><span class=\"mi\">1</span><span class=\"p\">,</span>\n",
       "<span class=\"w\">            </span><span class=\"nt\">&quot;text&quot;</span><span class=\"p\">:</span><span class=\"w\"> </span><span class=\"s2\">&quot;Automated Social Science:\\nLanguage Models as Scientist and Subjects\\u2217\\nBenjamin S. Manning\\u2020\\nMIT\\nKehang Zhu\\u2020\\nHarvard\\nJohn J. Horton\\nMIT &amp; NBER\\nApril 26, 2024\\nAbstract\\nWe present an approach for automatically generating and testing, in silico,\\nsocial scientific hypotheses. This automation is made possible by recent ad-\\nvances in large language models (LLM), but the key feature of the approach\\nis the use of structural causal models. Structural causal models provide a lan-\\nguage to state hypotheses, a blueprint for constructing LLM-based agents, an\\nexperimental design, and a plan for data analysis. The fitted structural causal\\nmodel becomes an object available for prediction or the planning of follow-on\\nexperiments. We demonstrate the approach with several scenarios: a nego-\\ntiation, a bail hearing, a job interview, and an auction. In each case, causal\\nrelationships are both proposed and tested by the system, finding evidence\\nfor some and not others. We provide evidence that the insights from these\\nsimulations of social interactions are not available to the LLM purely through\\ndirect elicitation. When given its proposed structural causal model for each\\nscenario, the LLM is good at predicting the signs of estimated effects, but\\nit cannot reliably predict the magnitudes of those estimates. In the auction\\nexperiment, the in silico simulation results closely match the predictions of\\nauction theory, but elicited predictions of the clearing prices from the LLM\\nare inaccurate. However, the LLM\\u2019s predictions are dramatically improved if\\nthe model can condition on the fitted structural causal model. In short, the\\nLLM knows more than it can (immediately) tell.\\n\\u2217Thanks to generous support from Drew Houston and his AI for Augmentation and Productivity\\nseed grant. Thanks to Jordan Ellenberg, Benjamin Lira Luttges, David Holtz, Bruce Sacerdote,\\nPaul R\\u00a8ottger, Mohammed Alsobay, Ray Duch, Matt Schwartz, David Autor, and Dean Eckles\\nfor their helpful feedback. Author\\u2019s contact information, code, and data are currently or will be\\navailable at http://www.benjaminmanning.io/.\\n\\u2020Both authors contributed equally to this work.\\n1\\narXiv:2404.11794v2  [econ.GN]  25 Apr 2024\\n&quot;</span>\n",
       "<span class=\"w\">        </span><span class=\"p\">},</span>\n",
       "<span class=\"w\">        </span><span class=\"p\">{</span>\n",
       "<span class=\"w\">            </span><span class=\"nt\">&quot;filename&quot;</span><span class=\"p\">:</span><span class=\"w\"> </span><span class=\"s2\">&quot;tmptw7anub7.pdf&quot;</span><span class=\"p\">,</span>\n",
       "<span class=\"w\">            </span><span class=\"nt\">&quot;page&quot;</span><span class=\"p\">:</span><span class=\"w\"> </span><span class=\"mi\">2</span><span class=\"p\">,</span>\n",
       "<span class=\"w\">            </span><span class=\"nt\">&quot;text&quot;</span><span class=\"p\">:</span><span class=\"w\"> </span><span class=\"s2\">&quot;1\\nIntroduction\\nThere is much work on efficiently estimating econometric models of human behavior\\nbut comparatively little work on efficiently generating and testing those models to\\nestimate. Previously, developing such models and hypotheses to test was exclusively\\na human task. This is changing as researchers have begun to explore automated\\nhypothesis generation through the use of machine learning.1 But even with novel\\nmachine-generated hypotheses, there is still the problem of testing.\\nA potential\\nsolution is simulation. Researchers have shown that Large Language Models (LLM)\\ncan simulate humans as experimental subjects with surprising degrees of realism.2\\nTo the extent that these simulation results carry over to human subjects in out-of-\\nsample tasks, they provide another option for testing (Horton, 2023). In this paper,\\nwe combine these ideas\\u2014automated hypothesis generation and automated in silico\\nhypothesis testing\\u2014by using LLMs for both purposes. We demonstrate that such\\nautomation is possible. We evaluate the approach by comparing results to a setting\\nwhere the real-world predictions are well known and test to see if an LLM can be\\nused to generate information that it cannot access through direct elicitation.\\nThe key innovation in our approach is the use of structural causal models to orga-\\nnize the research process. Structural causal models are mathematical representations\\nof cause and effect (Pearl, 2009b; Wright, 1934) and have long offered a language\\nfor expressing hypotheses.3 What is novel in our paper is the use of these models\\nas a blueprint for the design of agents and experiments. In short, each explanatory\\nvariable describes something about a person or scenario that has to vary for the effect\\nto be identified, so the system \\u201cknows\\u201d it needs to generate agents or scenarios that\\n1A few examples include generative adversarial networks to formulate new hypotheses (Ludwig\\nand Mullainathan, 2023), algorithms to find anomalies in formal theories (Mullainathan and Ram-\\nbachan, 2023), reinforcement learning to propose tax policies (Zheng et al., 2022), random forests\\nto identify heterogenous treatment effects (Wager and Athey, 2018), and several others (Buyalskaya\\net al., 2023; Cai et al., 2023; Enke and Shubatt, 2023; Girotra et al., 2023; Peterson et al., 2021).\\n2(Aher et al., 2023; Argyle et al., 2023; Bakker et al., 2022; Binz and Schulz, 2023b; Brand et\\nal., 2023; Bubeck et al., 2023; Fish et al., 2023; Mei et al., 2024; Park et al., 2023)\\n3In an unfortunate clash of naming conventions, some disciplines have alternative definitions\\nfor the term \\u201cstructural\\u201d when discussing formal models. Here, structural does not refer to the\\ndefinition traditionally used in economics. See Appendix B for a more detailed explanation.\\n2\\n&quot;</span>\n",
       "<span class=\"w\">        </span><span class=\"p\">}</span>\n",
       "<span class=\"w\">    </span><span class=\"p\">]</span>\n",
       "<span class=\"p\">}</span>\n",
       "</pre></div>\n"
      ],
      "text/plain": [
       "ScenarioList([Scenario({'filename': 'tmptw7anub7.pdf', 'page': 1, 'text': 'Automated Social Science:\\nLanguage Models as Scientist and Subjects∗\\nBenjamin S. Manning†\\nMIT\\nKehang Zhu†\\nHarvard\\nJohn J. Horton\\nMIT & NBER\\nApril 26, 2024\\nAbstract\\nWe present an approach for automatically generating and testing, in silico,\\nsocial scientific hypotheses. This automation is made possible by recent ad-\\nvances in large language models (LLM), but the key feature of the approach\\nis the use of structural causal models. Structural causal models provide a lan-\\nguage to state hypotheses, a blueprint for constructing LLM-based agents, an\\nexperimental design, and a plan for data analysis. The fitted structural causal\\nmodel becomes an object available for prediction or the planning of follow-on\\nexperiments. We demonstrate the approach with several scenarios: a nego-\\ntiation, a bail hearing, a job interview, and an auction. In each case, causal\\nrelationships are both proposed and tested by the system, finding evidence\\nfor some and not others. We provide evidence that the insights from these\\nsimulations of social interactions are not available to the LLM purely through\\ndirect elicitation. When given its proposed structural causal model for each\\nscenario, the LLM is good at predicting the signs of estimated effects, but\\nit cannot reliably predict the magnitudes of those estimates. In the auction\\nexperiment, the in silico simulation results closely match the predictions of\\nauction theory, but elicited predictions of the clearing prices from the LLM\\nare inaccurate. However, the LLM’s predictions are dramatically improved if\\nthe model can condition on the fitted structural causal model. In short, the\\nLLM knows more than it can (immediately) tell.\\n∗Thanks to generous support from Drew Houston and his AI for Augmentation and Productivity\\nseed grant. Thanks to Jordan Ellenberg, Benjamin Lira Luttges, David Holtz, Bruce Sacerdote,\\nPaul R¨ottger, Mohammed Alsobay, Ray Duch, Matt Schwartz, David Autor, and Dean Eckles\\nfor their helpful feedback. Author’s contact information, code, and data are currently or will be\\navailable at http://www.benjaminmanning.io/.\\n†Both authors contributed equally to this work.\\n1\\narXiv:2404.11794v2  [econ.GN]  25 Apr 2024\\n'}), Scenario({'filename': 'tmptw7anub7.pdf', 'page': 2, 'text': '1\\nIntroduction\\nThere is much work on efficiently estimating econometric models of human behavior\\nbut comparatively little work on efficiently generating and testing those models to\\nestimate. Previously, developing such models and hypotheses to test was exclusively\\na human task. This is changing as researchers have begun to explore automated\\nhypothesis generation through the use of machine learning.1 But even with novel\\nmachine-generated hypotheses, there is still the problem of testing.\\nA potential\\nsolution is simulation. Researchers have shown that Large Language Models (LLM)\\ncan simulate humans as experimental subjects with surprising degrees of realism.2\\nTo the extent that these simulation results carry over to human subjects in out-of-\\nsample tasks, they provide another option for testing (Horton, 2023). In this paper,\\nwe combine these ideas—automated hypothesis generation and automated in silico\\nhypothesis testing—by using LLMs for both purposes. We demonstrate that such\\nautomation is possible. We evaluate the approach by comparing results to a setting\\nwhere the real-world predictions are well known and test to see if an LLM can be\\nused to generate information that it cannot access through direct elicitation.\\nThe key innovation in our approach is the use of structural causal models to orga-\\nnize the research process. Structural causal models are mathematical representations\\nof cause and effect (Pearl, 2009b; Wright, 1934) and have long offered a language\\nfor expressing hypotheses.3 What is novel in our paper is the use of these models\\nas a blueprint for the design of agents and experiments. In short, each explanatory\\nvariable describes something about a person or scenario that has to vary for the effect\\nto be identified, so the system “knows” it needs to generate agents or scenarios that\\n1A few examples include generative adversarial networks to formulate new hypotheses (Ludwig\\nand Mullainathan, 2023), algorithms to find anomalies in formal theories (Mullainathan and Ram-\\nbachan, 2023), reinforcement learning to propose tax policies (Zheng et al., 2022), random forests\\nto identify heterogenous treatment effects (Wager and Athey, 2018), and several others (Buyalskaya\\net al., 2023; Cai et al., 2023; Enke and Shubatt, 2023; Girotra et al., 2023; Peterson et al., 2021).\\n2(Aher et al., 2023; Argyle et al., 2023; Bakker et al., 2022; Binz and Schulz, 2023b; Brand et\\nal., 2023; Bubeck et al., 2023; Fish et al., 2023; Mei et al., 2024; Park et al., 2023)\\n3In an unfortunate clash of naming conventions, some disciplines have alternative definitions\\nfor the term “structural” when discussing formal models. Here, structural does not refer to the\\ndefinition traditionally used in economics. See Appendix B for a more detailed explanation.\\n2\\n'})])"
      ]
     },
     "execution_count": 8,
     "metadata": {},
     "output_type": "execute_result"
    }
   ],
   "source": [
    "automated_social_scientist[0:2]"
   ]
  },
  {
   "cell_type": "markdown",
   "id": "4fe7f65d-c5cd-410c-9675-2d5df4bc3013",
   "metadata": {},
   "source": [
    "We can select pages to use if we do not want to use all of them -- e.g., here we filter just the first page to use with our survey:"
   ]
  },
  {
   "cell_type": "code",
   "execution_count": 9,
   "id": "1f07e3ae-ca2a-47d0-8f24-12aa6211ee90",
   "metadata": {},
   "outputs": [
    {
     "data": {
      "text/html": [
       "<div class=\"highlight\"><pre><span></span><span class=\"p\">{</span>\n",
       "<span class=\"w\">    </span><span class=\"nt\">&quot;scenarios&quot;</span><span class=\"p\">:</span><span class=\"w\"> </span><span class=\"p\">[</span>\n",
       "<span class=\"w\">        </span><span class=\"p\">{</span>\n",
       "<span class=\"w\">            </span><span class=\"nt\">&quot;filename&quot;</span><span class=\"p\">:</span><span class=\"w\"> </span><span class=\"s2\">&quot;tmptw7anub7.pdf&quot;</span><span class=\"p\">,</span>\n",
       "<span class=\"w\">            </span><span class=\"nt\">&quot;page&quot;</span><span class=\"p\">:</span><span class=\"w\"> </span><span class=\"mi\">1</span><span class=\"p\">,</span>\n",
       "<span class=\"w\">            </span><span class=\"nt\">&quot;text&quot;</span><span class=\"p\">:</span><span class=\"w\"> </span><span class=\"s2\">&quot;Automated Social Science:\\nLanguage Models as Scientist and Subjects\\u2217\\nBenjamin S. Manning\\u2020\\nMIT\\nKehang Zhu\\u2020\\nHarvard\\nJohn J. Horton\\nMIT &amp; NBER\\nApril 26, 2024\\nAbstract\\nWe present an approach for automatically generating and testing, in silico,\\nsocial scientific hypotheses. This automation is made possible by recent ad-\\nvances in large language models (LLM), but the key feature of the approach\\nis the use of structural causal models. Structural causal models provide a lan-\\nguage to state hypotheses, a blueprint for constructing LLM-based agents, an\\nexperimental design, and a plan for data analysis. The fitted structural causal\\nmodel becomes an object available for prediction or the planning of follow-on\\nexperiments. We demonstrate the approach with several scenarios: a nego-\\ntiation, a bail hearing, a job interview, and an auction. In each case, causal\\nrelationships are both proposed and tested by the system, finding evidence\\nfor some and not others. We provide evidence that the insights from these\\nsimulations of social interactions are not available to the LLM purely through\\ndirect elicitation. When given its proposed structural causal model for each\\nscenario, the LLM is good at predicting the signs of estimated effects, but\\nit cannot reliably predict the magnitudes of those estimates. In the auction\\nexperiment, the in silico simulation results closely match the predictions of\\nauction theory, but elicited predictions of the clearing prices from the LLM\\nare inaccurate. However, the LLM\\u2019s predictions are dramatically improved if\\nthe model can condition on the fitted structural causal model. In short, the\\nLLM knows more than it can (immediately) tell.\\n\\u2217Thanks to generous support from Drew Houston and his AI for Augmentation and Productivity\\nseed grant. Thanks to Jordan Ellenberg, Benjamin Lira Luttges, David Holtz, Bruce Sacerdote,\\nPaul R\\u00a8ottger, Mohammed Alsobay, Ray Duch, Matt Schwartz, David Autor, and Dean Eckles\\nfor their helpful feedback. Author\\u2019s contact information, code, and data are currently or will be\\navailable at http://www.benjaminmanning.io/.\\n\\u2020Both authors contributed equally to this work.\\n1\\narXiv:2404.11794v2  [econ.GN]  25 Apr 2024\\n&quot;</span>\n",
       "<span class=\"w\">        </span><span class=\"p\">}</span>\n",
       "<span class=\"w\">    </span><span class=\"p\">]</span>\n",
       "<span class=\"p\">}</span>\n",
       "</pre></div>\n"
      ],
      "text/plain": [
       "ScenarioList([Scenario({'filename': 'tmptw7anub7.pdf', 'page': 1, 'text': 'Automated Social Science:\\nLanguage Models as Scientist and Subjects∗\\nBenjamin S. Manning†\\nMIT\\nKehang Zhu†\\nHarvard\\nJohn J. Horton\\nMIT & NBER\\nApril 26, 2024\\nAbstract\\nWe present an approach for automatically generating and testing, in silico,\\nsocial scientific hypotheses. This automation is made possible by recent ad-\\nvances in large language models (LLM), but the key feature of the approach\\nis the use of structural causal models. Structural causal models provide a lan-\\nguage to state hypotheses, a blueprint for constructing LLM-based agents, an\\nexperimental design, and a plan for data analysis. The fitted structural causal\\nmodel becomes an object available for prediction or the planning of follow-on\\nexperiments. We demonstrate the approach with several scenarios: a nego-\\ntiation, a bail hearing, a job interview, and an auction. In each case, causal\\nrelationships are both proposed and tested by the system, finding evidence\\nfor some and not others. We provide evidence that the insights from these\\nsimulations of social interactions are not available to the LLM purely through\\ndirect elicitation. When given its proposed structural causal model for each\\nscenario, the LLM is good at predicting the signs of estimated effects, but\\nit cannot reliably predict the magnitudes of those estimates. In the auction\\nexperiment, the in silico simulation results closely match the predictions of\\nauction theory, but elicited predictions of the clearing prices from the LLM\\nare inaccurate. However, the LLM’s predictions are dramatically improved if\\nthe model can condition on the fitted structural causal model. In short, the\\nLLM knows more than it can (immediately) tell.\\n∗Thanks to generous support from Drew Houston and his AI for Augmentation and Productivity\\nseed grant. Thanks to Jordan Ellenberg, Benjamin Lira Luttges, David Holtz, Bruce Sacerdote,\\nPaul R¨ottger, Mohammed Alsobay, Ray Duch, Matt Schwartz, David Autor, and Dean Eckles\\nfor their helpful feedback. Author’s contact information, code, and data are currently or will be\\navailable at http://www.benjaminmanning.io/.\\n†Both authors contributed equally to this work.\\n1\\narXiv:2404.11794v2  [econ.GN]  25 Apr 2024\\n'})])"
      ]
     },
     "execution_count": 9,
     "metadata": {},
     "output_type": "execute_result"
    }
   ],
   "source": [
    "automated_social_scientist = automated_social_scientist.filter(\"page == 1\")\n",
    "automated_social_scientist"
   ]
  },
  {
   "cell_type": "markdown",
   "id": "8ccab969-3067-4da0-a81a-a606388da844",
   "metadata": {
    "editable": true,
    "slideshow": {
     "slide_type": ""
    },
    "tags": []
   },
   "source": [
    "Now we can add the list of scenarios to to the survey and run it:"
   ]
  },
  {
   "cell_type": "code",
   "execution_count": 10,
   "id": "179aeda5-bd7b-4a61-9772-af1a18456893",
   "metadata": {
    "editable": true,
    "slideshow": {
     "slide_type": ""
    },
    "tags": []
   },
   "outputs": [],
   "source": [
    "results = survey.by(automated_social_scientist).run()"
   ]
  },
  {
   "cell_type": "markdown",
   "id": "c5523072-8025-499e-a144-4ca2f4574591",
   "metadata": {
    "editable": true,
    "slideshow": {
     "slide_type": ""
    },
    "tags": []
   },
   "source": [
    "We can see a list of all the components of results that are directly accessible:"
   ]
  },
  {
   "cell_type": "code",
   "execution_count": 11,
   "id": "99ffbe92-9155-49f2-b824-03e125ce36ca",
   "metadata": {
    "editable": true,
    "slideshow": {
     "slide_type": ""
    },
    "tags": []
   },
   "outputs": [
    {
     "data": {
      "text/plain": [
       "['agent.agent_instruction',\n",
       " 'agent.agent_name',\n",
       " 'answer.authors',\n",
       " 'answer.summary',\n",
       " 'answer.thanks',\n",
       " 'comment.authors_comment',\n",
       " 'comment.summary_comment',\n",
       " 'comment.thanks_comment',\n",
       " 'generated_tokens.authors_generated_tokens',\n",
       " 'generated_tokens.summary_generated_tokens',\n",
       " 'generated_tokens.thanks_generated_tokens',\n",
       " 'iteration.iteration',\n",
       " 'model.frequency_penalty',\n",
       " 'model.logprobs',\n",
       " 'model.max_tokens',\n",
       " 'model.model',\n",
       " 'model.presence_penalty',\n",
       " 'model.temperature',\n",
       " 'model.top_logprobs',\n",
       " 'model.top_p',\n",
       " 'prompt.authors_system_prompt',\n",
       " 'prompt.authors_user_prompt',\n",
       " 'prompt.summary_system_prompt',\n",
       " 'prompt.summary_user_prompt',\n",
       " 'prompt.thanks_system_prompt',\n",
       " 'prompt.thanks_user_prompt',\n",
       " 'question_options.authors_question_options',\n",
       " 'question_options.summary_question_options',\n",
       " 'question_options.thanks_question_options',\n",
       " 'question_text.authors_question_text',\n",
       " 'question_text.summary_question_text',\n",
       " 'question_text.thanks_question_text',\n",
       " 'question_type.authors_question_type',\n",
       " 'question_type.summary_question_type',\n",
       " 'question_type.thanks_question_type',\n",
       " 'raw_model_response.authors_cost',\n",
       " 'raw_model_response.authors_one_usd_buys',\n",
       " 'raw_model_response.authors_raw_model_response',\n",
       " 'raw_model_response.summary_cost',\n",
       " 'raw_model_response.summary_one_usd_buys',\n",
       " 'raw_model_response.summary_raw_model_response',\n",
       " 'raw_model_response.thanks_cost',\n",
       " 'raw_model_response.thanks_one_usd_buys',\n",
       " 'raw_model_response.thanks_raw_model_response',\n",
       " 'scenario.filename',\n",
       " 'scenario.page',\n",
       " 'scenario.text']"
      ]
     },
     "execution_count": 11,
     "metadata": {},
     "output_type": "execute_result"
    }
   ],
   "source": [
    "results.columns"
   ]
  },
  {
   "cell_type": "markdown",
   "id": "a4219d93-cdb1-493a-8033-7ae18866ad50",
   "metadata": {
    "editable": true,
    "slideshow": {
     "slide_type": ""
    },
    "tags": []
   },
   "source": [
    "We can select components of the results to inspect and print:"
   ]
  },
  {
   "cell_type": "code",
   "execution_count": 12,
   "id": "66a501e9-5d1a-4fe4-819c-db3dc20c0bb6",
   "metadata": {
    "editable": true,
    "slideshow": {
     "slide_type": ""
    },
    "tags": []
   },
   "outputs": [
    {
     "data": {
      "text/html": [
       "<pre style=\"white-space:pre;overflow-x:auto;line-height:normal;font-family:Menlo,'DejaVu Sans Mono',consolas,'Courier New',monospace\">┏━━━━━━━━━━━━━━━━━━━━━━━━━━━━━━━━━━━━━┳━━━━━━━━━━━━━━━━━━━━━━━━━━━━━━━━━━━━━┳━━━━━━━━━━━━━━━━━━━━━━━━━━━━━━━━━━━━━┓\n",
       "┃<span style=\"color: #800080; text-decoration-color: #800080; font-weight: bold\"> answer                              </span>┃<span style=\"color: #800080; text-decoration-color: #800080; font-weight: bold\"> answer                              </span>┃<span style=\"color: #800080; text-decoration-color: #800080; font-weight: bold\"> answer                              </span>┃\n",
       "┃<span style=\"color: #800080; text-decoration-color: #800080; font-weight: bold\"> .summary                            </span>┃<span style=\"color: #800080; text-decoration-color: #800080; font-weight: bold\"> .authors                            </span>┃<span style=\"color: #800080; text-decoration-color: #800080; font-weight: bold\"> .thanks                             </span>┃\n",
       "┡━━━━━━━━━━━━━━━━━━━━━━━━━━━━━━━━━━━━━╇━━━━━━━━━━━━━━━━━━━━━━━━━━━━━━━━━━━━━╇━━━━━━━━━━━━━━━━━━━━━━━━━━━━━━━━━━━━━┩\n",
       "│<span style=\"color: #7f7f7f; text-decoration-color: #7f7f7f\"> The paper presents a method for     </span>│<span style=\"color: #7f7f7f; text-decoration-color: #7f7f7f\"> ['Benjamin S. Manning', 'Kehang     </span>│<span style=\"color: #7f7f7f; text-decoration-color: #7f7f7f\"> ['Drew Houston', 'Jordan            </span>│\n",
       "│<span style=\"color: #7f7f7f; text-decoration-color: #7f7f7f\"> automatically generating and        </span>│<span style=\"color: #7f7f7f; text-decoration-color: #7f7f7f\"> Zhu', 'John J. Horton']             </span>│<span style=\"color: #7f7f7f; text-decoration-color: #7f7f7f\"> Ellenberg', 'Benjamin Lira          </span>│\n",
       "│<span style=\"color: #7f7f7f; text-decoration-color: #7f7f7f\"> testing social science hypotheses   </span>│<span style=\"color: #7f7f7f; text-decoration-color: #7f7f7f\">                                     </span>│<span style=\"color: #7f7f7f; text-decoration-color: #7f7f7f\"> Luttges', 'David Holtz', 'Bruce     </span>│\n",
       "│<span style=\"color: #7f7f7f; text-decoration-color: #7f7f7f\"> using large language models (LLMs)  </span>│<span style=\"color: #7f7f7f; text-decoration-color: #7f7f7f\">                                     </span>│<span style=\"color: #7f7f7f; text-decoration-color: #7f7f7f\"> Sacerdote', 'Paul Röttger',         </span>│\n",
       "│<span style=\"color: #7f7f7f; text-decoration-color: #7f7f7f\"> and structural causal models. These </span>│<span style=\"color: #7f7f7f; text-decoration-color: #7f7f7f\">                                     </span>│<span style=\"color: #7f7f7f; text-decoration-color: #7f7f7f\"> 'Mohammed Alsobay', 'Ray Duch',     </span>│\n",
       "│<span style=\"color: #7f7f7f; text-decoration-color: #7f7f7f\"> structural causal models help in    </span>│<span style=\"color: #7f7f7f; text-decoration-color: #7f7f7f\">                                     </span>│<span style=\"color: #7f7f7f; text-decoration-color: #7f7f7f\"> 'Matt Schwartz', 'David Autor',     </span>│\n",
       "│<span style=\"color: #7f7f7f; text-decoration-color: #7f7f7f\"> formulating hypotheses, designing   </span>│<span style=\"color: #7f7f7f; text-decoration-color: #7f7f7f\">                                     </span>│<span style=\"color: #7f7f7f; text-decoration-color: #7f7f7f\"> 'Dean Eckles']                      </span>│\n",
       "│<span style=\"color: #7f7f7f; text-decoration-color: #7f7f7f\"> LLM-based agents, conducting        </span>│<span style=\"color: #7f7f7f; text-decoration-color: #7f7f7f\">                                     </span>│<span style=\"color: #7f7f7f; text-decoration-color: #7f7f7f\">                                     </span>│\n",
       "│<span style=\"color: #7f7f7f; text-decoration-color: #7f7f7f\"> experiments, and analyzing data.    </span>│<span style=\"color: #7f7f7f; text-decoration-color: #7f7f7f\">                                     </span>│<span style=\"color: #7f7f7f; text-decoration-color: #7f7f7f\">                                     </span>│\n",
       "│<span style=\"color: #7f7f7f; text-decoration-color: #7f7f7f\"> The fitted models can be used for   </span>│<span style=\"color: #7f7f7f; text-decoration-color: #7f7f7f\">                                     </span>│<span style=\"color: #7f7f7f; text-decoration-color: #7f7f7f\">                                     </span>│\n",
       "│<span style=\"color: #7f7f7f; text-decoration-color: #7f7f7f\"> predictions and planning further    </span>│<span style=\"color: #7f7f7f; text-decoration-color: #7f7f7f\">                                     </span>│<span style=\"color: #7f7f7f; text-decoration-color: #7f7f7f\">                                     </span>│\n",
       "│<span style=\"color: #7f7f7f; text-decoration-color: #7f7f7f\"> experiments. The authors            </span>│<span style=\"color: #7f7f7f; text-decoration-color: #7f7f7f\">                                     </span>│<span style=\"color: #7f7f7f; text-decoration-color: #7f7f7f\">                                     </span>│\n",
       "│<span style=\"color: #7f7f7f; text-decoration-color: #7f7f7f\"> demonstrate this approach through   </span>│<span style=\"color: #7f7f7f; text-decoration-color: #7f7f7f\">                                     </span>│<span style=\"color: #7f7f7f; text-decoration-color: #7f7f7f\">                                     </span>│\n",
       "│<span style=\"color: #7f7f7f; text-decoration-color: #7f7f7f\"> scenarios like negotiations, bail   </span>│<span style=\"color: #7f7f7f; text-decoration-color: #7f7f7f\">                                     </span>│<span style=\"color: #7f7f7f; text-decoration-color: #7f7f7f\">                                     </span>│\n",
       "│<span style=\"color: #7f7f7f; text-decoration-color: #7f7f7f\"> hearings, job interviews, and       </span>│<span style=\"color: #7f7f7f; text-decoration-color: #7f7f7f\">                                     </span>│<span style=\"color: #7f7f7f; text-decoration-color: #7f7f7f\">                                     </span>│\n",
       "│<span style=\"color: #7f7f7f; text-decoration-color: #7f7f7f\"> auctions, where causal              </span>│<span style=\"color: #7f7f7f; text-decoration-color: #7f7f7f\">                                     </span>│<span style=\"color: #7f7f7f; text-decoration-color: #7f7f7f\">                                     </span>│\n",
       "│<span style=\"color: #7f7f7f; text-decoration-color: #7f7f7f\"> relationships are tested. The       </span>│<span style=\"color: #7f7f7f; text-decoration-color: #7f7f7f\">                                     </span>│<span style=\"color: #7f7f7f; text-decoration-color: #7f7f7f\">                                     </span>│\n",
       "│<span style=\"color: #7f7f7f; text-decoration-color: #7f7f7f\"> results show that while LLMs can    </span>│<span style=\"color: #7f7f7f; text-decoration-color: #7f7f7f\">                                     </span>│<span style=\"color: #7f7f7f; text-decoration-color: #7f7f7f\">                                     </span>│\n",
       "│<span style=\"color: #7f7f7f; text-decoration-color: #7f7f7f\"> predict the direction of effects,   </span>│<span style=\"color: #7f7f7f; text-decoration-color: #7f7f7f\">                                     </span>│<span style=\"color: #7f7f7f; text-decoration-color: #7f7f7f\">                                     </span>│\n",
       "│<span style=\"color: #7f7f7f; text-decoration-color: #7f7f7f\"> they struggle with estimating       </span>│<span style=\"color: #7f7f7f; text-decoration-color: #7f7f7f\">                                     </span>│<span style=\"color: #7f7f7f; text-decoration-color: #7f7f7f\">                                     </span>│\n",
       "│<span style=\"color: #7f7f7f; text-decoration-color: #7f7f7f\"> magnitudes. However, when           </span>│<span style=\"color: #7f7f7f; text-decoration-color: #7f7f7f\">                                     </span>│<span style=\"color: #7f7f7f; text-decoration-color: #7f7f7f\">                                     </span>│\n",
       "│<span style=\"color: #7f7f7f; text-decoration-color: #7f7f7f\"> conditioned on the fitted           </span>│<span style=\"color: #7f7f7f; text-decoration-color: #7f7f7f\">                                     </span>│<span style=\"color: #7f7f7f; text-decoration-color: #7f7f7f\">                                     </span>│\n",
       "│<span style=\"color: #7f7f7f; text-decoration-color: #7f7f7f\"> structural causal models, the       </span>│<span style=\"color: #7f7f7f; text-decoration-color: #7f7f7f\">                                     </span>│<span style=\"color: #7f7f7f; text-decoration-color: #7f7f7f\">                                     </span>│\n",
       "│<span style=\"color: #7f7f7f; text-decoration-color: #7f7f7f\"> accuracy of LLM predictions         </span>│<span style=\"color: #7f7f7f; text-decoration-color: #7f7f7f\">                                     </span>│<span style=\"color: #7f7f7f; text-decoration-color: #7f7f7f\">                                     </span>│\n",
       "│<span style=\"color: #7f7f7f; text-decoration-color: #7f7f7f\"> improves significantly. The study   </span>│<span style=\"color: #7f7f7f; text-decoration-color: #7f7f7f\">                                     </span>│<span style=\"color: #7f7f7f; text-decoration-color: #7f7f7f\">                                     </span>│\n",
       "│<span style=\"color: #7f7f7f; text-decoration-color: #7f7f7f\"> highlights that LLMs possess more   </span>│<span style=\"color: #7f7f7f; text-decoration-color: #7f7f7f\">                                     </span>│<span style=\"color: #7f7f7f; text-decoration-color: #7f7f7f\">                                     </span>│\n",
       "│<span style=\"color: #7f7f7f; text-decoration-color: #7f7f7f\"> knowledge than they can directly    </span>│<span style=\"color: #7f7f7f; text-decoration-color: #7f7f7f\">                                     </span>│<span style=\"color: #7f7f7f; text-decoration-color: #7f7f7f\">                                     </span>│\n",
       "│<span style=\"color: #7f7f7f; text-decoration-color: #7f7f7f\"> express.                            </span>│<span style=\"color: #7f7f7f; text-decoration-color: #7f7f7f\">                                     </span>│<span style=\"color: #7f7f7f; text-decoration-color: #7f7f7f\">                                     </span>│\n",
       "└─────────────────────────────────────┴─────────────────────────────────────┴─────────────────────────────────────┘\n",
       "</pre>\n"
      ],
      "text/plain": [
       "┏━━━━━━━━━━━━━━━━━━━━━━━━━━━━━━━━━━━━━┳━━━━━━━━━━━━━━━━━━━━━━━━━━━━━━━━━━━━━┳━━━━━━━━━━━━━━━━━━━━━━━━━━━━━━━━━━━━━┓\n",
       "┃\u001b[1;35m \u001b[0m\u001b[1;35manswer                             \u001b[0m\u001b[1;35m \u001b[0m┃\u001b[1;35m \u001b[0m\u001b[1;35manswer                             \u001b[0m\u001b[1;35m \u001b[0m┃\u001b[1;35m \u001b[0m\u001b[1;35manswer                             \u001b[0m\u001b[1;35m \u001b[0m┃\n",
       "┃\u001b[1;35m \u001b[0m\u001b[1;35m.summary                           \u001b[0m\u001b[1;35m \u001b[0m┃\u001b[1;35m \u001b[0m\u001b[1;35m.authors                           \u001b[0m\u001b[1;35m \u001b[0m┃\u001b[1;35m \u001b[0m\u001b[1;35m.thanks                            \u001b[0m\u001b[1;35m \u001b[0m┃\n",
       "┡━━━━━━━━━━━━━━━━━━━━━━━━━━━━━━━━━━━━━╇━━━━━━━━━━━━━━━━━━━━━━━━━━━━━━━━━━━━━╇━━━━━━━━━━━━━━━━━━━━━━━━━━━━━━━━━━━━━┩\n",
       "│\u001b[2m \u001b[0m\u001b[2mThe paper presents a method for    \u001b[0m\u001b[2m \u001b[0m│\u001b[2m \u001b[0m\u001b[2m['Benjamin S. Manning', 'Kehang    \u001b[0m\u001b[2m \u001b[0m│\u001b[2m \u001b[0m\u001b[2m['Drew Houston', 'Jordan           \u001b[0m\u001b[2m \u001b[0m│\n",
       "│\u001b[2m \u001b[0m\u001b[2mautomatically generating and       \u001b[0m\u001b[2m \u001b[0m│\u001b[2m \u001b[0m\u001b[2mZhu', 'John J. Horton']            \u001b[0m\u001b[2m \u001b[0m│\u001b[2m \u001b[0m\u001b[2mEllenberg', 'Benjamin Lira         \u001b[0m\u001b[2m \u001b[0m│\n",
       "│\u001b[2m \u001b[0m\u001b[2mtesting social science hypotheses  \u001b[0m\u001b[2m \u001b[0m│\u001b[2m                                     \u001b[0m│\u001b[2m \u001b[0m\u001b[2mLuttges', 'David Holtz', 'Bruce    \u001b[0m\u001b[2m \u001b[0m│\n",
       "│\u001b[2m \u001b[0m\u001b[2musing large language models (LLMs) \u001b[0m\u001b[2m \u001b[0m│\u001b[2m                                     \u001b[0m│\u001b[2m \u001b[0m\u001b[2mSacerdote', 'Paul Röttger',        \u001b[0m\u001b[2m \u001b[0m│\n",
       "│\u001b[2m \u001b[0m\u001b[2mand structural causal models. These\u001b[0m\u001b[2m \u001b[0m│\u001b[2m                                     \u001b[0m│\u001b[2m \u001b[0m\u001b[2m'Mohammed Alsobay', 'Ray Duch',    \u001b[0m\u001b[2m \u001b[0m│\n",
       "│\u001b[2m \u001b[0m\u001b[2mstructural causal models help in   \u001b[0m\u001b[2m \u001b[0m│\u001b[2m                                     \u001b[0m│\u001b[2m \u001b[0m\u001b[2m'Matt Schwartz', 'David Autor',    \u001b[0m\u001b[2m \u001b[0m│\n",
       "│\u001b[2m \u001b[0m\u001b[2mformulating hypotheses, designing  \u001b[0m\u001b[2m \u001b[0m│\u001b[2m                                     \u001b[0m│\u001b[2m \u001b[0m\u001b[2m'Dean Eckles']                     \u001b[0m\u001b[2m \u001b[0m│\n",
       "│\u001b[2m \u001b[0m\u001b[2mLLM-based agents, conducting       \u001b[0m\u001b[2m \u001b[0m│\u001b[2m                                     \u001b[0m│\u001b[2m                                     \u001b[0m│\n",
       "│\u001b[2m \u001b[0m\u001b[2mexperiments, and analyzing data.   \u001b[0m\u001b[2m \u001b[0m│\u001b[2m                                     \u001b[0m│\u001b[2m                                     \u001b[0m│\n",
       "│\u001b[2m \u001b[0m\u001b[2mThe fitted models can be used for  \u001b[0m\u001b[2m \u001b[0m│\u001b[2m                                     \u001b[0m│\u001b[2m                                     \u001b[0m│\n",
       "│\u001b[2m \u001b[0m\u001b[2mpredictions and planning further   \u001b[0m\u001b[2m \u001b[0m│\u001b[2m                                     \u001b[0m│\u001b[2m                                     \u001b[0m│\n",
       "│\u001b[2m \u001b[0m\u001b[2mexperiments. The authors           \u001b[0m\u001b[2m \u001b[0m│\u001b[2m                                     \u001b[0m│\u001b[2m                                     \u001b[0m│\n",
       "│\u001b[2m \u001b[0m\u001b[2mdemonstrate this approach through  \u001b[0m\u001b[2m \u001b[0m│\u001b[2m                                     \u001b[0m│\u001b[2m                                     \u001b[0m│\n",
       "│\u001b[2m \u001b[0m\u001b[2mscenarios like negotiations, bail  \u001b[0m\u001b[2m \u001b[0m│\u001b[2m                                     \u001b[0m│\u001b[2m                                     \u001b[0m│\n",
       "│\u001b[2m \u001b[0m\u001b[2mhearings, job interviews, and      \u001b[0m\u001b[2m \u001b[0m│\u001b[2m                                     \u001b[0m│\u001b[2m                                     \u001b[0m│\n",
       "│\u001b[2m \u001b[0m\u001b[2mauctions, where causal             \u001b[0m\u001b[2m \u001b[0m│\u001b[2m                                     \u001b[0m│\u001b[2m                                     \u001b[0m│\n",
       "│\u001b[2m \u001b[0m\u001b[2mrelationships are tested. The      \u001b[0m\u001b[2m \u001b[0m│\u001b[2m                                     \u001b[0m│\u001b[2m                                     \u001b[0m│\n",
       "│\u001b[2m \u001b[0m\u001b[2mresults show that while LLMs can   \u001b[0m\u001b[2m \u001b[0m│\u001b[2m                                     \u001b[0m│\u001b[2m                                     \u001b[0m│\n",
       "│\u001b[2m \u001b[0m\u001b[2mpredict the direction of effects,  \u001b[0m\u001b[2m \u001b[0m│\u001b[2m                                     \u001b[0m│\u001b[2m                                     \u001b[0m│\n",
       "│\u001b[2m \u001b[0m\u001b[2mthey struggle with estimating      \u001b[0m\u001b[2m \u001b[0m│\u001b[2m                                     \u001b[0m│\u001b[2m                                     \u001b[0m│\n",
       "│\u001b[2m \u001b[0m\u001b[2mmagnitudes. However, when          \u001b[0m\u001b[2m \u001b[0m│\u001b[2m                                     \u001b[0m│\u001b[2m                                     \u001b[0m│\n",
       "│\u001b[2m \u001b[0m\u001b[2mconditioned on the fitted          \u001b[0m\u001b[2m \u001b[0m│\u001b[2m                                     \u001b[0m│\u001b[2m                                     \u001b[0m│\n",
       "│\u001b[2m \u001b[0m\u001b[2mstructural causal models, the      \u001b[0m\u001b[2m \u001b[0m│\u001b[2m                                     \u001b[0m│\u001b[2m                                     \u001b[0m│\n",
       "│\u001b[2m \u001b[0m\u001b[2maccuracy of LLM predictions        \u001b[0m\u001b[2m \u001b[0m│\u001b[2m                                     \u001b[0m│\u001b[2m                                     \u001b[0m│\n",
       "│\u001b[2m \u001b[0m\u001b[2mimproves significantly. The study  \u001b[0m\u001b[2m \u001b[0m│\u001b[2m                                     \u001b[0m│\u001b[2m                                     \u001b[0m│\n",
       "│\u001b[2m \u001b[0m\u001b[2mhighlights that LLMs possess more  \u001b[0m\u001b[2m \u001b[0m│\u001b[2m                                     \u001b[0m│\u001b[2m                                     \u001b[0m│\n",
       "│\u001b[2m \u001b[0m\u001b[2mknowledge than they can directly   \u001b[0m\u001b[2m \u001b[0m│\u001b[2m                                     \u001b[0m│\u001b[2m                                     \u001b[0m│\n",
       "│\u001b[2m \u001b[0m\u001b[2mexpress.                           \u001b[0m\u001b[2m \u001b[0m│\u001b[2m                                     \u001b[0m│\u001b[2m                                     \u001b[0m│\n",
       "└─────────────────────────────────────┴─────────────────────────────────────┴─────────────────────────────────────┘\n"
      ]
     },
     "metadata": {},
     "output_type": "display_data"
    }
   ],
   "source": [
    "results.select(\"summary\", \"authors\", \"thanks\").print(format=\"rich\")"
   ]
  },
  {
   "cell_type": "markdown",
   "id": "20c98f56-23eb-4f01-a553-152fd75a408a",
   "metadata": {
    "editable": true,
    "slideshow": {
     "slide_type": ""
    },
    "tags": []
   },
   "source": [
    "## Posting to the Coop\n",
    "The [Coop](https://www.expectedparrot.com/explore) is a platform for creating, storing and sharing LLM-based research.\n",
    "It is fully integrated with EDSL and accessible from your workspace or Coop account page.\n",
    "Learn more about [creating an account](https://www.expectedparrot.com/login) and [using the Coop](https://docs.expectedparrot.com/en/latest/coop.html).\n",
    "\n",
    "Here we demonstrate how to post this notebook:"
   ]
  },
  {
   "cell_type": "code",
   "execution_count": 13,
   "id": "e93d1dd5-509d-48e6-93e1-815d2d892764",
   "metadata": {
    "editable": true,
    "slideshow": {
     "slide_type": ""
    },
    "tags": [
     "skip-execution"
    ]
   },
   "outputs": [],
   "source": [
    "from edsl import Notebook"
   ]
  },
  {
   "cell_type": "code",
   "execution_count": 14,
   "id": "bac25057-e032-47c8-b3df-89960d755818",
   "metadata": {
    "editable": true,
    "slideshow": {
     "slide_type": ""
    },
    "tags": [
     "skip-execution"
    ]
   },
   "outputs": [],
   "source": [
    "n = Notebook(path = \"scenario_from_pdf.ipynb\")"
   ]
  },
  {
   "cell_type": "code",
   "execution_count": 15,
   "id": "0ed024d8-db31-494d-a2e8-ca4f3a9507ca",
   "metadata": {
    "editable": true,
    "slideshow": {
     "slide_type": ""
    },
    "tags": [
     "skip-execution"
    ]
   },
   "outputs": [
    {
     "data": {
      "text/plain": [
       "{'description': 'Example code for generating scenarios from PDFs',\n",
       " 'object_type': 'notebook',\n",
       " 'url': 'https://www.expectedparrot.com/content/b9cb2a90-c3e3-4d80-8bb1-0e19b75b535d',\n",
       " 'uuid': 'b9cb2a90-c3e3-4d80-8bb1-0e19b75b535d',\n",
       " 'version': '0.1.33.dev1',\n",
       " 'visibility': 'public'}"
      ]
     },
     "execution_count": 15,
     "metadata": {},
     "output_type": "execute_result"
    }
   ],
   "source": [
    "n.push(description = \"Example code for generating scenarios from PDFs\", visibility = \"public\")"
   ]
  }
 ],
 "metadata": {
  "kernelspec": {
   "display_name": "Python 3 (ipykernel)",
   "language": "python",
   "name": "python3"
  },
  "language_info": {
   "codemirror_mode": {
    "name": "ipython",
    "version": 3
   },
   "file_extension": ".py",
   "mimetype": "text/x-python",
   "name": "python",
   "nbconvert_exporter": "python",
   "pygments_lexer": "ipython3",
   "version": "3.11.7"
  }
 },
 "nbformat": 4,
 "nbformat_minor": 5
}
