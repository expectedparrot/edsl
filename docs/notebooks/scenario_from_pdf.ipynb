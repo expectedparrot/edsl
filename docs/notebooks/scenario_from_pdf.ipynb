{
 "cells": [
  {
   "cell_type": "markdown",
   "id": "5b2d8e23-4783-4221-95af-0ef5be8c1b31",
   "metadata": {
    "editable": true,
    "slideshow": {
     "slide_type": ""
    },
    "tags": []
   },
   "source": [
    "# Using PDFs in a survey\n",
    "This notebook provides sample [EDSL](https://docs.expectedparrot.com/) code demonstrating a method `from_pdf()` that imports a PDF and automatically creates `Scenario` objects for the pages to use as parameters of survey questions. This can be helpful when using EDSL to extract qualitative information from a large text efficiently. \n",
    "\n",
    "EDSL is an open-source library for simulating surveys and experiments with AI agents and large language models. Please see our [documentation page](https://docs.expectedparrot.com/) for tips and tutorials on getting started.\n",
    "\n",
    "## How it works\n",
    "EDSL comes with a [variety of question types](https://docs.expectedparrot.com/en/latest/questions.html) that we can select from based on the desired form of the response (multiple choice, free text, etc.). We can also parameterize questions with textual content in order to ask questions about it. We do this by creating a `{{ placeholder }}` in a question text, e.g., *What are the key themes of this text: {{ text }}*, and then creating `Scenario` objects for the content to be inserted in the placeholder when we run the survey. This allows us to administer multiple versions of a question with different inputs all at once. A common use case for this is performing [data labeling tasks](https://docs.expectedparrot.com/en/latest/notebooks/data_labeling_example.html) designed as questions about one or more pieces of textual data that can be inserted into the survey question texts. [Learn more about using scenarios](https://docs.expectedparrot.com/en/latest/scenarios.html).\n",
    "\n",
    "## Example\n",
    "For purposes of demonstration we use a PDF copy of the first page of the recent paper [Automated Social Science:\n",
    "Language Models as Scientist and Subjects](https://arxiv.org/pdf/2404.11794) and conduct a survey consisting of several questions about the contents of it:\n",
    "\n",
    "<img src=\"automated_social_science_paper.png\" width=\"300px\">"
   ]
  },
  {
   "cell_type": "markdown",
   "id": "b9ed3a0e-82e0-484b-b422-cb52d23e5d5f",
   "metadata": {
    "editable": true,
    "slideshow": {
     "slide_type": ""
    },
    "tags": []
   },
   "source": [
    "Posting a PDF to Coop file store:"
   ]
  },
  {
   "cell_type": "code",
   "execution_count": 1,
   "id": "592d7ac0-60c3-4761-a6ce-036efe0177b8",
   "metadata": {
    "editable": true,
    "slideshow": {
     "slide_type": ""
    },
    "tags": [
     "skip-execution"
    ]
   },
   "outputs": [],
   "source": [
    "from edsl.scenarios.FileStore import PDFFileStore"
   ]
  },
  {
   "cell_type": "code",
   "execution_count": 2,
   "id": "e5071a38-c484-45dc-82e4-9c58ca61edc0",
   "metadata": {
    "editable": true,
    "slideshow": {
     "slide_type": ""
    },
    "tags": [
     "skip-execution"
    ]
   },
   "outputs": [
    {
     "name": "stdout",
     "output_type": "stream",
     "text": [
      "{'description': 'File: automated_social_scientist.pdf', 'object_type': 'scenario', 'url': 'https://www.expectedparrot.com/content/21f84703-03ea-43be-9f93-28fee30edd87', 'uuid': '21f84703-03ea-43be-9f93-28fee30edd87', 'version': '0.1.39.dev1', 'visibility': 'unlisted'}\n"
     ]
    }
   ],
   "source": [
    "ass_pdf = PDFFileStore(\"automated_social_scientist.pdf\")\n",
    "info = ass_pdf.push()\n",
    "print(info)"
   ]
  },
  {
   "cell_type": "markdown",
   "id": "6ca387cf-719c-4c59-a98b-34cea74c3985",
   "metadata": {
    "editable": true,
    "slideshow": {
     "slide_type": ""
    },
    "tags": []
   },
   "source": [
    "Now that we have stored it at the Coop we can re-import it:"
   ]
  },
  {
   "cell_type": "code",
   "execution_count": 3,
   "id": "ba31188d-d5fa-4a25-99c1-177fe973f46d",
   "metadata": {
    "editable": true,
    "scrolled": true,
    "slideshow": {
     "slide_type": ""
    },
    "tags": [
     "skip-execution"
    ]
   },
   "outputs": [],
   "source": [
    "ass_pdf = PDFFileStore.pull(info[\"uuid\"])"
   ]
  },
  {
   "cell_type": "markdown",
   "id": "662e0775-6f54-47fb-b4b4-21d15573ed3d",
   "metadata": {
    "editable": true,
    "slideshow": {
     "slide_type": ""
    },
    "tags": []
   },
   "source": [
    "Here we create a survey of questions that we will administer for each page of the PDF. Note that the `from_pdf()` method requires that the scenario placeholders be `{{ text }}` (for regular scenario objects, you can use any placeholder word that you like):"
   ]
  },
  {
   "cell_type": "code",
   "execution_count": 4,
   "id": "18bf771b-a06e-4737-aad9-4b218479fc4c",
   "metadata": {
    "editable": true,
    "slideshow": {
     "slide_type": ""
    },
    "tags": []
   },
   "outputs": [],
   "source": [
    "from edsl import QuestionFreeText, QuestionList, ScenarioList, Survey"
   ]
  },
  {
   "cell_type": "code",
   "execution_count": 5,
   "id": "e927902f-4c40-4df4-9188-fc2fc11a5943",
   "metadata": {
    "editable": true,
    "slideshow": {
     "slide_type": ""
    },
    "tags": []
   },
   "outputs": [],
   "source": [
    "q_summary = QuestionFreeText(\n",
    "    question_name=\"summary\",\n",
    "    question_text=\"Briefly summarize the abstract of this paper: {{ text }}\",\n",
    ")\n",
    "\n",
    "q_authors = QuestionList(\n",
    "    question_name=\"authors\",\n",
    "    question_text=\"List the names of all the authors of the following paper: {{ text }}\",\n",
    ")\n",
    "\n",
    "q_thanks = QuestionList(\n",
    "    question_name=\"thanks\",\n",
    "    question_text=\"List the names of the people thanked in the following paper: {{ text }}\",\n",
    ")\n",
    "\n",
    "survey = Survey([q_summary, q_authors, q_thanks])"
   ]
  },
  {
   "cell_type": "markdown",
   "id": "3b491c8c-5caf-478f-9343-dc7f1222f18d",
   "metadata": {
    "editable": true,
    "slideshow": {
     "slide_type": ""
    },
    "tags": []
   },
   "source": [
    "Next we create a `ScenarioList` for the PDF using the `from_pdf()` method, which automatically creates a list of `Scenario` objects for the pages of the PDF which will be inserted in our questions (in our example, this is just the first page of the paper):"
   ]
  },
  {
   "cell_type": "code",
   "execution_count": 6,
   "id": "f6f81ce4-7a38-4c81-a0ee-e60ae33f68c5",
   "metadata": {
    "editable": true,
    "slideshow": {
     "slide_type": ""
    },
    "tags": []
   },
   "outputs": [],
   "source": [
    "automated_social_scientist = ScenarioList.from_pdf(ass_pdf.to_tempfile())"
   ]
  },
  {
   "cell_type": "markdown",
   "id": "5cb36dda-838b-42e8-9aee-a9ab3ffb41e8",
   "metadata": {
    "editable": true,
    "slideshow": {
     "slide_type": ""
    },
    "tags": []
   },
   "source": [
    "Alternative method for importing a file locally:"
   ]
  },
  {
   "cell_type": "code",
   "execution_count": 7,
   "id": "87671ddf-dbf2-4ca1-a0f6-cdac428a43c9",
   "metadata": {
    "editable": true,
    "slideshow": {
     "slide_type": ""
    },
    "tags": []
   },
   "outputs": [],
   "source": [
    "# automated_social_scientist = ScenarioList.from_pdf(\"automated_social_scientist.pdf\")"
   ]
  },
  {
   "cell_type": "markdown",
   "id": "600b575c-bc48-4e25-a45a-c9ffb77a4dfc",
   "metadata": {
    "editable": true,
    "slideshow": {
     "slide_type": ""
    },
    "tags": []
   },
   "source": [
    "We can inspect the scenarios:"
   ]
  },
  {
   "cell_type": "code",
   "execution_count": 8,
   "id": "4f011863-c5b9-40dd-9f76-1c07d561ab4c",
   "metadata": {
    "editable": true,
    "slideshow": {
     "slide_type": ""
    },
    "tags": []
   },
   "outputs": [
    {
     "data": {
      "text/html": [
       "<p><a href='https://docs.expectedparrot.com/en/latest/scenarios.html#scenariolist'>ScenarioList</a> scenarios: 2; keys: ['filename', 'text', 'page'];</p>\n",
       "        <style>\n",
       "            :root {\n",
       "  --containerHeight: 200px;\n",
       "  --headerColor: blue;\n",
       "}\n",
       "\n",
       ".table-container {\n",
       "    height: var(--containerHeight) !important;\n",
       "    width: 100%;\n",
       "    overflow: auto;  /* This enables both horizontal and vertical scrolling */\n",
       "    border: 1px solid #d4d4d4;\n",
       "    background: transparent;\n",
       "    position: relative;  /* Create stacking context for sticky header */\n",
       "}\n",
       "\n",
       ".scroll-table {\n",
       "    /* Remove width: 100% to prevent table from being constrained */\n",
       "    /* min-width: 100% ensures table takes at least full container width */\n",
       "    min-width: 100%;\n",
       "    border-collapse: separate;\n",
       "    border-spacing: 4px;\n",
       "    background: transparent;\n",
       "    table-layout: auto;  /* Allow table to size based on content */\n",
       "}\n",
       "\n",
       ".scroll-table th {\n",
       "    background: transparent;  /* Semi-transparent background to ensure text readability */\n",
       "    position: sticky;\n",
       "    top: 0;\n",
       "    z-index: 1;\n",
       "    text-align: left !important;\n",
       "    padding: 8px;\n",
       "    font-weight: bold;\n",
       "    white-space: nowrap;  /* Prevent header text from wrapping */\n",
       "    min-width: 100px;    /* Ensure minimum column width */\n",
       "    backdrop-filter: blur(8px);  /* Optional: adds extra clarity */\n",
       "    color: var(--headerColor);\n",
       "}\n",
       "\n",
       ".scroll-table td {\n",
       "    padding: 8px;\n",
       "    text-align: left !important;\n",
       "    white-space: pre-wrap;\n",
       "    word-wrap: break-word;\n",
       "    vertical-align: top;\n",
       "    color: inherit;\n",
       "    border-bottom: none;\n",
       "    background: transparent;\n",
       "    min-width: 100px;    /* Match header minimum width */\n",
       "}\n",
       "\n",
       ".scroll-table tbody tr:hover {\n",
       "    background: transparent;\n",
       "}\n",
       "\n",
       "/* Additional rule to ensure header background is truly transparent */\n",
       ".scroll-table thead tr {\n",
       "    background: transparent !important;\n",
       "}\n",
       "\n",
       "/* Add shadow to indicate scrollable content */\n",
       ".table-container::after {\n",
       "    content: '';\n",
       "    position: absolute;\n",
       "    top: 0;\n",
       "    right: 0;\n",
       "    bottom: 0;\n",
       "    width: 5px;\n",
       "    background: linear-gradient(to right, transparent, rgba(242, 6, 6, 0.1));\n",
       "    pointer-events: none;\n",
       "    opacity: 0;\n",
       "    transition: opacity 0.3s;\n",
       "}\n",
       "\n",
       ".table-container:hover::after {\n",
       "    opacity: 1;\n",
       "}\n",
       "\n",
       "/* Handle Jupyter notebook specific styling */\n",
       ".jp-OutputArea-output .table-container {\n",
       "    max-width: 100%;\n",
       "    margin: 0;\n",
       "    overflow-x: auto;\n",
       "}\n",
       "        </style>\n",
       "        <div class=\"table-container\">\n",
       "            <div class=\"scroll-table-wrapper\">\n",
       "                <table class=\"scroll-table\">\n",
       "<thead>\n",
       "<tr><th>filename       </th><th style=\"text-align: right;\">  page</th><th>text  </th></tr>\n",
       "</thead>\n",
       "<tbody>\n",
       "<tr><td>tmpop_bxq2r.pdf</td><td style=\"text-align: right;\">     1</td><td>Automated Social Science:\n",
       "Language Models as Scientist and Subjects∗\n",
       "Benjamin S. Manning†\n",
       "MIT\n",
       "Kehang Zhu†\n",
       "Harvard\n",
       "John J. Horton\n",
       "MIT &amp; NBER\n",
       "April 26, 2024\n",
       "Abstract\n",
       "We present an approach for automatically generating and testing, in silico,\n",
       "social scientific hypotheses. This automation is made possible by recent ad-\n",
       "vances in large language models (LLM), but the key feature of the approach\n",
       "is the use of structural causal models. Structural causal models provide a lan-\n",
       "guage to state hypotheses, a blueprint for constructing LLM-based agents, an\n",
       "experimental design, and a plan for data analysis. The fitted structural causal\n",
       "model becomes an object available for prediction or the planning of follow-on\n",
       "experiments. We demonstrate the approach with several scenarios: a nego-\n",
       "tiation, a bail hearing, a job interview, and an auction. In each case, causal\n",
       "relationships are both proposed and tested by the system, finding evidence\n",
       "for some and not others. We provide evidence that the insights from these\n",
       "simulations of social interactions are not available to the LLM purely through\n",
       "direct elicitation. When given its proposed structural causal model for each\n",
       "scenario, the LLM is good at predicting the signs of estimated effects, but\n",
       "it cannot reliably predict the magnitudes of those estimates. In the auction\n",
       "experiment, the in silico simulation results closely match the predictions of\n",
       "auction theory, but elicited predictions of the clearing prices from the LLM\n",
       "are inaccurate. However, the LLM’s predictions are dramatically improved if\n",
       "the model can condition on the fitted structural causal model. In short, the\n",
       "LLM knows more than it can (immediately) tell.\n",
       "∗Thanks to generous support from Drew Houston and his AI for Augmentation and Productivity\n",
       "seed grant. Thanks to Jordan Ellenberg, Benjamin Lira Luttges, David Holtz, Bruce Sacerdote,\n",
       "Paul R¨ottger, Mohammed Alsobay, Ray Duch, Matt Schwartz, David Autor, and Dean Eckles\n",
       "for their helpful feedback. Author’s contact information, code, and data are currently or will be\n",
       "available at http://www.benjaminmanning.io/.\n",
       "†Both authors contributed equally to this work.\n",
       "1\n",
       "arXiv:2404.11794v2  [econ.GN]  25 Apr 2024       </td></tr>\n",
       "<tr><td>tmpop_bxq2r.pdf</td><td style=\"text-align: right;\">     2</td><td>1\n",
       "Introduction\n",
       "There is much work on efficiently estimating econometric models of human behavior\n",
       "but comparatively little work on efficiently generating and testing those models to\n",
       "estimate. Previously, developing such models and hypotheses to test was exclusively\n",
       "a human task. This is changing as researchers have begun to explore automated\n",
       "hypothesis generation through the use of machine learning.1 But even with novel\n",
       "machine-generated hypotheses, there is still the problem of testing.\n",
       "A potential\n",
       "solution is simulation. Researchers have shown that Large Language Models (LLM)\n",
       "can simulate humans as experimental subjects with surprising degrees of realism.2\n",
       "To the extent that these simulation results carry over to human subjects in out-of-\n",
       "sample tasks, they provide another option for testing (Horton, 2023). In this paper,\n",
       "we combine these ideas—automated hypothesis generation and automated in silico\n",
       "hypothesis testing—by using LLMs for both purposes. We demonstrate that such\n",
       "automation is possible. We evaluate the approach by comparing results to a setting\n",
       "where the real-world predictions are well known and test to see if an LLM can be\n",
       "used to generate information that it cannot access through direct elicitation.\n",
       "The key innovation in our approach is the use of structural causal models to orga-\n",
       "nize the research process. Structural causal models are mathematical representations\n",
       "of cause and effect (Pearl, 2009b; Wright, 1934) and have long offered a language\n",
       "for expressing hypotheses.3 What is novel in our paper is the use of these models\n",
       "as a blueprint for the design of agents and experiments. In short, each explanatory\n",
       "variable describes something about a person or scenario that has to vary for the effect\n",
       "to be identified, so the system “knows” it needs to generate agents or scenarios that\n",
       "1A few examples include generative adversarial networks to formulate new hypotheses (Ludwig\n",
       "and Mullainathan, 2023), algorithms to find anomalies in formal theories (Mullainathan and Ram-\n",
       "bachan, 2023), reinforcement learning to propose tax policies (Zheng et al., 2022), random forests\n",
       "to identify heterogenous treatment effects (Wager and Athey, 2018), and several others (Buyalskaya\n",
       "et al., 2023; Cai et al., 2023; Enke and Shubatt, 2023; Girotra et al., 2023; Peterson et al., 2021).\n",
       "2(Aher et al., 2023; Argyle et al., 2023; Bakker et al., 2022; Binz and Schulz, 2023b; Brand et\n",
       "al., 2023; Bubeck et al., 2023; Fish et al., 2023; Mei et al., 2024; Park et al., 2023)\n",
       "3In an unfortunate clash of naming conventions, some disciplines have alternative definitions\n",
       "for the term “structural” when discussing formal models. Here, structural does not refer to the\n",
       "definition traditionally used in economics. See Appendix B for a more detailed explanation.\n",
       "2       </td></tr>\n",
       "</tbody>\n",
       "</table>\n",
       "            </div>\n",
       "        </div>\n",
       "        "
      ],
      "text/plain": [
       "ScenarioList([Scenario({'filename': 'tmpop_bxq2r.pdf', 'page': 1, 'text': 'Automated Social Science:\\nLanguage Models as Scientist and Subjects∗\\nBenjamin S. Manning†\\nMIT\\nKehang Zhu†\\nHarvard\\nJohn J. Horton\\nMIT & NBER\\nApril 26, 2024\\nAbstract\\nWe present an approach for automatically generating and testing, in silico,\\nsocial scientific hypotheses. This automation is made possible by recent ad-\\nvances in large language models (LLM), but the key feature of the approach\\nis the use of structural causal models. Structural causal models provide a lan-\\nguage to state hypotheses, a blueprint for constructing LLM-based agents, an\\nexperimental design, and a plan for data analysis. The fitted structural causal\\nmodel becomes an object available for prediction or the planning of follow-on\\nexperiments. We demonstrate the approach with several scenarios: a nego-\\ntiation, a bail hearing, a job interview, and an auction. In each case, causal\\nrelationships are both proposed and tested by the system, finding evidence\\nfor some and not others. We provide evidence that the insights from these\\nsimulations of social interactions are not available to the LLM purely through\\ndirect elicitation. When given its proposed structural causal model for each\\nscenario, the LLM is good at predicting the signs of estimated effects, but\\nit cannot reliably predict the magnitudes of those estimates. In the auction\\nexperiment, the in silico simulation results closely match the predictions of\\nauction theory, but elicited predictions of the clearing prices from the LLM\\nare inaccurate. However, the LLM’s predictions are dramatically improved if\\nthe model can condition on the fitted structural causal model. In short, the\\nLLM knows more than it can (immediately) tell.\\n∗Thanks to generous support from Drew Houston and his AI for Augmentation and Productivity\\nseed grant. Thanks to Jordan Ellenberg, Benjamin Lira Luttges, David Holtz, Bruce Sacerdote,\\nPaul R¨ottger, Mohammed Alsobay, Ray Duch, Matt Schwartz, David Autor, and Dean Eckles\\nfor their helpful feedback. Author’s contact information, code, and data are currently or will be\\navailable at http://www.benjaminmanning.io/.\\n†Both authors contributed equally to this work.\\n1\\narXiv:2404.11794v2  [econ.GN]  25 Apr 2024\\n'}), Scenario({'filename': 'tmpop_bxq2r.pdf', 'page': 2, 'text': '1\\nIntroduction\\nThere is much work on efficiently estimating econometric models of human behavior\\nbut comparatively little work on efficiently generating and testing those models to\\nestimate. Previously, developing such models and hypotheses to test was exclusively\\na human task. This is changing as researchers have begun to explore automated\\nhypothesis generation through the use of machine learning.1 But even with novel\\nmachine-generated hypotheses, there is still the problem of testing.\\nA potential\\nsolution is simulation. Researchers have shown that Large Language Models (LLM)\\ncan simulate humans as experimental subjects with surprising degrees of realism.2\\nTo the extent that these simulation results carry over to human subjects in out-of-\\nsample tasks, they provide another option for testing (Horton, 2023). In this paper,\\nwe combine these ideas—automated hypothesis generation and automated in silico\\nhypothesis testing—by using LLMs for both purposes. We demonstrate that such\\nautomation is possible. We evaluate the approach by comparing results to a setting\\nwhere the real-world predictions are well known and test to see if an LLM can be\\nused to generate information that it cannot access through direct elicitation.\\nThe key innovation in our approach is the use of structural causal models to orga-\\nnize the research process. Structural causal models are mathematical representations\\nof cause and effect (Pearl, 2009b; Wright, 1934) and have long offered a language\\nfor expressing hypotheses.3 What is novel in our paper is the use of these models\\nas a blueprint for the design of agents and experiments. In short, each explanatory\\nvariable describes something about a person or scenario that has to vary for the effect\\nto be identified, so the system “knows” it needs to generate agents or scenarios that\\n1A few examples include generative adversarial networks to formulate new hypotheses (Ludwig\\nand Mullainathan, 2023), algorithms to find anomalies in formal theories (Mullainathan and Ram-\\nbachan, 2023), reinforcement learning to propose tax policies (Zheng et al., 2022), random forests\\nto identify heterogenous treatment effects (Wager and Athey, 2018), and several others (Buyalskaya\\net al., 2023; Cai et al., 2023; Enke and Shubatt, 2023; Girotra et al., 2023; Peterson et al., 2021).\\n2(Aher et al., 2023; Argyle et al., 2023; Bakker et al., 2022; Binz and Schulz, 2023b; Brand et\\nal., 2023; Bubeck et al., 2023; Fish et al., 2023; Mei et al., 2024; Park et al., 2023)\\n3In an unfortunate clash of naming conventions, some disciplines have alternative definitions\\nfor the term “structural” when discussing formal models. Here, structural does not refer to the\\ndefinition traditionally used in economics. See Appendix B for a more detailed explanation.\\n2\\n'})])"
      ]
     },
     "execution_count": 8,
     "metadata": {},
     "output_type": "execute_result"
    }
   ],
   "source": [
    "automated_social_scientist[0:2]"
   ]
  },
  {
   "cell_type": "markdown",
   "id": "4fe7f65d-c5cd-410c-9675-2d5df4bc3013",
   "metadata": {
    "editable": true,
    "slideshow": {
     "slide_type": ""
    },
    "tags": []
   },
   "source": [
    "We can select pages to use if we do not want to use all of them -- e.g., here we filter just the first page to use with our survey:"
   ]
  },
  {
   "cell_type": "code",
   "execution_count": 9,
   "id": "1f07e3ae-ca2a-47d0-8f24-12aa6211ee90",
   "metadata": {
    "editable": true,
    "slideshow": {
     "slide_type": ""
    },
    "tags": []
   },
   "outputs": [
    {
     "data": {
      "text/html": [
       "<p><a href='https://docs.expectedparrot.com/en/latest/scenarios.html#scenariolist'>ScenarioList</a> scenarios: 1; keys: ['page', 'filename', 'text'];</p>\n",
       "        <style>\n",
       "            :root {\n",
       "  --containerHeight: 200px;\n",
       "  --headerColor: blue;\n",
       "}\n",
       "\n",
       ".table-container {\n",
       "    height: var(--containerHeight) !important;\n",
       "    width: 100%;\n",
       "    overflow: auto;  /* This enables both horizontal and vertical scrolling */\n",
       "    border: 1px solid #d4d4d4;\n",
       "    background: transparent;\n",
       "    position: relative;  /* Create stacking context for sticky header */\n",
       "}\n",
       "\n",
       ".scroll-table {\n",
       "    /* Remove width: 100% to prevent table from being constrained */\n",
       "    /* min-width: 100% ensures table takes at least full container width */\n",
       "    min-width: 100%;\n",
       "    border-collapse: separate;\n",
       "    border-spacing: 4px;\n",
       "    background: transparent;\n",
       "    table-layout: auto;  /* Allow table to size based on content */\n",
       "}\n",
       "\n",
       ".scroll-table th {\n",
       "    background: transparent;  /* Semi-transparent background to ensure text readability */\n",
       "    position: sticky;\n",
       "    top: 0;\n",
       "    z-index: 1;\n",
       "    text-align: left !important;\n",
       "    padding: 8px;\n",
       "    font-weight: bold;\n",
       "    white-space: nowrap;  /* Prevent header text from wrapping */\n",
       "    min-width: 100px;    /* Ensure minimum column width */\n",
       "    backdrop-filter: blur(8px);  /* Optional: adds extra clarity */\n",
       "    color: var(--headerColor);\n",
       "}\n",
       "\n",
       ".scroll-table td {\n",
       "    padding: 8px;\n",
       "    text-align: left !important;\n",
       "    white-space: pre-wrap;\n",
       "    word-wrap: break-word;\n",
       "    vertical-align: top;\n",
       "    color: inherit;\n",
       "    border-bottom: none;\n",
       "    background: transparent;\n",
       "    min-width: 100px;    /* Match header minimum width */\n",
       "}\n",
       "\n",
       ".scroll-table tbody tr:hover {\n",
       "    background: transparent;\n",
       "}\n",
       "\n",
       "/* Additional rule to ensure header background is truly transparent */\n",
       ".scroll-table thead tr {\n",
       "    background: transparent !important;\n",
       "}\n",
       "\n",
       "/* Add shadow to indicate scrollable content */\n",
       ".table-container::after {\n",
       "    content: '';\n",
       "    position: absolute;\n",
       "    top: 0;\n",
       "    right: 0;\n",
       "    bottom: 0;\n",
       "    width: 5px;\n",
       "    background: linear-gradient(to right, transparent, rgba(242, 6, 6, 0.1));\n",
       "    pointer-events: none;\n",
       "    opacity: 0;\n",
       "    transition: opacity 0.3s;\n",
       "}\n",
       "\n",
       ".table-container:hover::after {\n",
       "    opacity: 1;\n",
       "}\n",
       "\n",
       "/* Handle Jupyter notebook specific styling */\n",
       ".jp-OutputArea-output .table-container {\n",
       "    max-width: 100%;\n",
       "    margin: 0;\n",
       "    overflow-x: auto;\n",
       "}\n",
       "        </style>\n",
       "        <div class=\"table-container\">\n",
       "            <div class=\"scroll-table-wrapper\">\n",
       "                <table class=\"scroll-table\">\n",
       "<thead>\n",
       "<tr><th>filename       </th><th style=\"text-align: right;\">  page</th><th>text  </th></tr>\n",
       "</thead>\n",
       "<tbody>\n",
       "<tr><td>tmpop_bxq2r.pdf</td><td style=\"text-align: right;\">     1</td><td>Automated Social Science:\n",
       "Language Models as Scientist and Subjects∗\n",
       "Benjamin S. Manning†\n",
       "MIT\n",
       "Kehang Zhu†\n",
       "Harvard\n",
       "John J. Horton\n",
       "MIT &amp; NBER\n",
       "April 26, 2024\n",
       "Abstract\n",
       "We present an approach for automatically generating and testing, in silico,\n",
       "social scientific hypotheses. This automation is made possible by recent ad-\n",
       "vances in large language models (LLM), but the key feature of the approach\n",
       "is the use of structural causal models. Structural causal models provide a lan-\n",
       "guage to state hypotheses, a blueprint for constructing LLM-based agents, an\n",
       "experimental design, and a plan for data analysis. The fitted structural causal\n",
       "model becomes an object available for prediction or the planning of follow-on\n",
       "experiments. We demonstrate the approach with several scenarios: a nego-\n",
       "tiation, a bail hearing, a job interview, and an auction. In each case, causal\n",
       "relationships are both proposed and tested by the system, finding evidence\n",
       "for some and not others. We provide evidence that the insights from these\n",
       "simulations of social interactions are not available to the LLM purely through\n",
       "direct elicitation. When given its proposed structural causal model for each\n",
       "scenario, the LLM is good at predicting the signs of estimated effects, but\n",
       "it cannot reliably predict the magnitudes of those estimates. In the auction\n",
       "experiment, the in silico simulation results closely match the predictions of\n",
       "auction theory, but elicited predictions of the clearing prices from the LLM\n",
       "are inaccurate. However, the LLM’s predictions are dramatically improved if\n",
       "the model can condition on the fitted structural causal model. In short, the\n",
       "LLM knows more than it can (immediately) tell.\n",
       "∗Thanks to generous support from Drew Houston and his AI for Augmentation and Productivity\n",
       "seed grant. Thanks to Jordan Ellenberg, Benjamin Lira Luttges, David Holtz, Bruce Sacerdote,\n",
       "Paul R¨ottger, Mohammed Alsobay, Ray Duch, Matt Schwartz, David Autor, and Dean Eckles\n",
       "for their helpful feedback. Author’s contact information, code, and data are currently or will be\n",
       "available at http://www.benjaminmanning.io/.\n",
       "†Both authors contributed equally to this work.\n",
       "1\n",
       "arXiv:2404.11794v2  [econ.GN]  25 Apr 2024       </td></tr>\n",
       "</tbody>\n",
       "</table>\n",
       "            </div>\n",
       "        </div>\n",
       "        "
      ],
      "text/plain": [
       "ScenarioList([Scenario({'filename': 'tmpop_bxq2r.pdf', 'page': 1, 'text': 'Automated Social Science:\\nLanguage Models as Scientist and Subjects∗\\nBenjamin S. Manning†\\nMIT\\nKehang Zhu†\\nHarvard\\nJohn J. Horton\\nMIT & NBER\\nApril 26, 2024\\nAbstract\\nWe present an approach for automatically generating and testing, in silico,\\nsocial scientific hypotheses. This automation is made possible by recent ad-\\nvances in large language models (LLM), but the key feature of the approach\\nis the use of structural causal models. Structural causal models provide a lan-\\nguage to state hypotheses, a blueprint for constructing LLM-based agents, an\\nexperimental design, and a plan for data analysis. The fitted structural causal\\nmodel becomes an object available for prediction or the planning of follow-on\\nexperiments. We demonstrate the approach with several scenarios: a nego-\\ntiation, a bail hearing, a job interview, and an auction. In each case, causal\\nrelationships are both proposed and tested by the system, finding evidence\\nfor some and not others. We provide evidence that the insights from these\\nsimulations of social interactions are not available to the LLM purely through\\ndirect elicitation. When given its proposed structural causal model for each\\nscenario, the LLM is good at predicting the signs of estimated effects, but\\nit cannot reliably predict the magnitudes of those estimates. In the auction\\nexperiment, the in silico simulation results closely match the predictions of\\nauction theory, but elicited predictions of the clearing prices from the LLM\\nare inaccurate. However, the LLM’s predictions are dramatically improved if\\nthe model can condition on the fitted structural causal model. In short, the\\nLLM knows more than it can (immediately) tell.\\n∗Thanks to generous support from Drew Houston and his AI for Augmentation and Productivity\\nseed grant. Thanks to Jordan Ellenberg, Benjamin Lira Luttges, David Holtz, Bruce Sacerdote,\\nPaul R¨ottger, Mohammed Alsobay, Ray Duch, Matt Schwartz, David Autor, and Dean Eckles\\nfor their helpful feedback. Author’s contact information, code, and data are currently or will be\\navailable at http://www.benjaminmanning.io/.\\n†Both authors contributed equally to this work.\\n1\\narXiv:2404.11794v2  [econ.GN]  25 Apr 2024\\n'})])"
      ]
     },
     "execution_count": 9,
     "metadata": {},
     "output_type": "execute_result"
    }
   ],
   "source": [
    "automated_social_scientist = automated_social_scientist.filter(\"page == 1\")\n",
    "automated_social_scientist"
   ]
  },
  {
   "cell_type": "markdown",
   "id": "8ccab969-3067-4da0-a81a-a606388da844",
   "metadata": {
    "editable": true,
    "slideshow": {
     "slide_type": ""
    },
    "tags": []
   },
   "source": [
    "Now we can add the list of scenarios to to the survey and run it:"
   ]
  },
  {
   "cell_type": "code",
   "execution_count": 10,
   "id": "179aeda5-bd7b-4a61-9772-af1a18456893",
   "metadata": {
    "editable": true,
    "slideshow": {
     "slide_type": ""
    },
    "tags": []
   },
   "outputs": [],
   "source": [
    "results = survey.by(automated_social_scientist).run()"
   ]
  },
  {
   "cell_type": "markdown",
   "id": "c5523072-8025-499e-a144-4ca2f4574591",
   "metadata": {
    "editable": true,
    "slideshow": {
     "slide_type": ""
    },
    "tags": []
   },
   "source": [
    "We can see a list of all the components of results that are directly accessible:"
   ]
  },
  {
   "cell_type": "code",
   "execution_count": 11,
   "id": "99ffbe92-9155-49f2-b824-03e125ce36ca",
   "metadata": {
    "editable": true,
    "slideshow": {
     "slide_type": ""
    },
    "tags": []
   },
   "outputs": [
    {
     "data": {
      "text/html": [
       "\n",
       "        <style>\n",
       "            :root {\n",
       "  --containerHeight: 400px;\n",
       "  --headerColor: blue;\n",
       "}\n",
       "\n",
       ".table-container {\n",
       "    height: var(--containerHeight) !important;\n",
       "    width: 100%;\n",
       "    overflow: auto;  /* This enables both horizontal and vertical scrolling */\n",
       "    border: 1px solid #d4d4d4;\n",
       "    background: transparent;\n",
       "    position: relative;  /* Create stacking context for sticky header */\n",
       "}\n",
       "\n",
       ".scroll-table {\n",
       "    /* Remove width: 100% to prevent table from being constrained */\n",
       "    /* min-width: 100% ensures table takes at least full container width */\n",
       "    min-width: 100%;\n",
       "    border-collapse: separate;\n",
       "    border-spacing: 4px;\n",
       "    background: transparent;\n",
       "    table-layout: auto;  /* Allow table to size based on content */\n",
       "}\n",
       "\n",
       ".scroll-table th {\n",
       "    background: transparent;  /* Semi-transparent background to ensure text readability */\n",
       "    position: sticky;\n",
       "    top: 0;\n",
       "    z-index: 1;\n",
       "    text-align: left !important;\n",
       "    padding: 8px;\n",
       "    font-weight: bold;\n",
       "    white-space: nowrap;  /* Prevent header text from wrapping */\n",
       "    min-width: 100px;    /* Ensure minimum column width */\n",
       "    backdrop-filter: blur(8px);  /* Optional: adds extra clarity */\n",
       "    color: var(--headerColor);\n",
       "}\n",
       "\n",
       ".scroll-table td {\n",
       "    padding: 8px;\n",
       "    text-align: left !important;\n",
       "    white-space: pre-wrap;\n",
       "    word-wrap: break-word;\n",
       "    vertical-align: top;\n",
       "    color: inherit;\n",
       "    border-bottom: none;\n",
       "    background: transparent;\n",
       "    min-width: 100px;    /* Match header minimum width */\n",
       "}\n",
       "\n",
       ".scroll-table tbody tr:hover {\n",
       "    background: transparent;\n",
       "}\n",
       "\n",
       "/* Additional rule to ensure header background is truly transparent */\n",
       ".scroll-table thead tr {\n",
       "    background: transparent !important;\n",
       "}\n",
       "\n",
       "/* Add shadow to indicate scrollable content */\n",
       ".table-container::after {\n",
       "    content: '';\n",
       "    position: absolute;\n",
       "    top: 0;\n",
       "    right: 0;\n",
       "    bottom: 0;\n",
       "    width: 5px;\n",
       "    background: linear-gradient(to right, transparent, rgba(242, 6, 6, 0.1));\n",
       "    pointer-events: none;\n",
       "    opacity: 0;\n",
       "    transition: opacity 0.3s;\n",
       "}\n",
       "\n",
       ".table-container:hover::after {\n",
       "    opacity: 1;\n",
       "}\n",
       "\n",
       "/* Handle Jupyter notebook specific styling */\n",
       ".jp-OutputArea-output .table-container {\n",
       "    max-width: 100%;\n",
       "    margin: 0;\n",
       "    overflow-x: auto;\n",
       "}\n",
       "        </style>\n",
       "        <div class=\"table-container\">\n",
       "            <div class=\"scroll-table-wrapper\">\n",
       "                <table class=\"scroll-table\">\n",
       "<thead>\n",
       "<tr><th>0                                            </th></tr>\n",
       "</thead>\n",
       "<tbody>\n",
       "<tr><td>agent.agent_index                            </td></tr>\n",
       "<tr><td>agent.agent_instruction                      </td></tr>\n",
       "<tr><td>agent.agent_name                             </td></tr>\n",
       "<tr><td>answer.authors                               </td></tr>\n",
       "<tr><td>answer.summary                               </td></tr>\n",
       "<tr><td>answer.thanks                                </td></tr>\n",
       "<tr><td>comment.authors_comment                      </td></tr>\n",
       "<tr><td>comment.summary_comment                      </td></tr>\n",
       "<tr><td>comment.thanks_comment                       </td></tr>\n",
       "<tr><td>generated_tokens.authors_generated_tokens    </td></tr>\n",
       "<tr><td>generated_tokens.summary_generated_tokens    </td></tr>\n",
       "<tr><td>generated_tokens.thanks_generated_tokens     </td></tr>\n",
       "<tr><td>iteration.iteration                          </td></tr>\n",
       "<tr><td>model.frequency_penalty                      </td></tr>\n",
       "<tr><td>model.logprobs                               </td></tr>\n",
       "<tr><td>model.max_tokens                             </td></tr>\n",
       "<tr><td>model.model                                  </td></tr>\n",
       "<tr><td>model.model_index                            </td></tr>\n",
       "<tr><td>model.presence_penalty                       </td></tr>\n",
       "<tr><td>model.temperature                            </td></tr>\n",
       "<tr><td>model.top_logprobs                           </td></tr>\n",
       "<tr><td>model.top_p                                  </td></tr>\n",
       "<tr><td>prompt.authors_system_prompt                 </td></tr>\n",
       "<tr><td>prompt.authors_user_prompt                   </td></tr>\n",
       "<tr><td>prompt.summary_system_prompt                 </td></tr>\n",
       "<tr><td>prompt.summary_user_prompt                   </td></tr>\n",
       "<tr><td>prompt.thanks_system_prompt                  </td></tr>\n",
       "<tr><td>prompt.thanks_user_prompt                    </td></tr>\n",
       "<tr><td>question_options.authors_question_options    </td></tr>\n",
       "<tr><td>question_options.summary_question_options    </td></tr>\n",
       "<tr><td>question_options.thanks_question_options     </td></tr>\n",
       "<tr><td>question_text.authors_question_text          </td></tr>\n",
       "<tr><td>question_text.summary_question_text          </td></tr>\n",
       "<tr><td>question_text.thanks_question_text           </td></tr>\n",
       "<tr><td>question_type.authors_question_type          </td></tr>\n",
       "<tr><td>question_type.summary_question_type          </td></tr>\n",
       "<tr><td>question_type.thanks_question_type           </td></tr>\n",
       "<tr><td>raw_model_response.authors_cost              </td></tr>\n",
       "<tr><td>raw_model_response.authors_one_usd_buys      </td></tr>\n",
       "<tr><td>raw_model_response.authors_raw_model_response</td></tr>\n",
       "<tr><td>raw_model_response.summary_cost              </td></tr>\n",
       "<tr><td>raw_model_response.summary_one_usd_buys      </td></tr>\n",
       "<tr><td>raw_model_response.summary_raw_model_response</td></tr>\n",
       "<tr><td>raw_model_response.thanks_cost               </td></tr>\n",
       "<tr><td>raw_model_response.thanks_one_usd_buys       </td></tr>\n",
       "<tr><td>raw_model_response.thanks_raw_model_response </td></tr>\n",
       "<tr><td>scenario.filename                            </td></tr>\n",
       "<tr><td>scenario.page                                </td></tr>\n",
       "<tr><td>scenario.scenario_index                      </td></tr>\n",
       "<tr><td>scenario.text                                </td></tr>\n",
       "</tbody>\n",
       "</table>\n",
       "            </div>\n",
       "        </div>\n",
       "        "
      ],
      "text/plain": [
       "PrettyList(['agent.agent_index',\n",
       "            'agent.agent_instruction',\n",
       "            'agent.agent_name',\n",
       "            'answer.authors',\n",
       "            'answer.summary',\n",
       "            'answer.thanks',\n",
       "            'comment.authors_comment',\n",
       "            'comment.summary_comment',\n",
       "            'comment.thanks_comment',\n",
       "            'generated_tokens.authors_generated_tokens',\n",
       "            'generated_tokens.summary_generated_tokens',\n",
       "            'generated_tokens.thanks_generated_tokens',\n",
       "            'iteration.iteration',\n",
       "            'model.frequency_penalty',\n",
       "            'model.logprobs',\n",
       "            'model.max_tokens',\n",
       "            'model.model',\n",
       "            'model.model_index',\n",
       "            'model.presence_penalty',\n",
       "            'model.temperature',\n",
       "            'model.top_logprobs',\n",
       "            'model.top_p',\n",
       "            'prompt.authors_system_prompt',\n",
       "            'prompt.authors_user_prompt',\n",
       "            'prompt.summary_system_prompt',\n",
       "            'prompt.summary_user_prompt',\n",
       "            'prompt.thanks_system_prompt',\n",
       "            'prompt.thanks_user_prompt',\n",
       "            'question_options.authors_question_options',\n",
       "            'question_options.summary_question_options',\n",
       "            'question_options.thanks_question_options',\n",
       "            'question_text.authors_question_text',\n",
       "            'question_text.summary_question_text',\n",
       "            'question_text.thanks_question_text',\n",
       "            'question_type.authors_question_type',\n",
       "            'question_type.summary_question_type',\n",
       "            'question_type.thanks_question_type',\n",
       "            'raw_model_response.authors_cost',\n",
       "            'raw_model_response.authors_one_usd_buys',\n",
       "            'raw_model_response.authors_raw_model_response',\n",
       "            'raw_model_response.summary_cost',\n",
       "            'raw_model_response.summary_one_usd_buys',\n",
       "            'raw_model_response.summary_raw_model_response',\n",
       "            'raw_model_response.thanks_cost',\n",
       "            'raw_model_response.thanks_one_usd_buys',\n",
       "            'raw_model_response.thanks_raw_model_response',\n",
       "            'scenario.filename',\n",
       "            'scenario.page',\n",
       "            'scenario.scenario_index',\n",
       "            'scenario.text'])"
      ]
     },
     "execution_count": 11,
     "metadata": {},
     "output_type": "execute_result"
    }
   ],
   "source": [
    "results.columns"
   ]
  },
  {
   "cell_type": "markdown",
   "id": "a4219d93-cdb1-493a-8033-7ae18866ad50",
   "metadata": {
    "editable": true,
    "slideshow": {
     "slide_type": ""
    },
    "tags": []
   },
   "source": [
    "We can select components of the results to inspect and print:"
   ]
  },
  {
   "cell_type": "code",
   "execution_count": 12,
   "id": "66a501e9-5d1a-4fe4-819c-db3dc20c0bb6",
   "metadata": {
    "editable": true,
    "slideshow": {
     "slide_type": ""
    },
    "tags": []
   },
   "outputs": [
    {
     "data": {
      "text/html": [
       "\n",
       "        <style>\n",
       "            :root {\n",
       "  --containerHeight: 200px;\n",
       "  --headerColor: blue;\n",
       "}\n",
       "\n",
       ".table-container {\n",
       "    height: var(--containerHeight) !important;\n",
       "    width: 100%;\n",
       "    overflow: auto;  /* This enables both horizontal and vertical scrolling */\n",
       "    border: 1px solid #d4d4d4;\n",
       "    background: transparent;\n",
       "    position: relative;  /* Create stacking context for sticky header */\n",
       "}\n",
       "\n",
       ".scroll-table {\n",
       "    /* Remove width: 100% to prevent table from being constrained */\n",
       "    /* min-width: 100% ensures table takes at least full container width */\n",
       "    min-width: 100%;\n",
       "    border-collapse: separate;\n",
       "    border-spacing: 4px;\n",
       "    background: transparent;\n",
       "    table-layout: auto;  /* Allow table to size based on content */\n",
       "}\n",
       "\n",
       ".scroll-table th {\n",
       "    background: transparent;  /* Semi-transparent background to ensure text readability */\n",
       "    position: sticky;\n",
       "    top: 0;\n",
       "    z-index: 1;\n",
       "    text-align: left !important;\n",
       "    padding: 8px;\n",
       "    font-weight: bold;\n",
       "    white-space: nowrap;  /* Prevent header text from wrapping */\n",
       "    min-width: 100px;    /* Ensure minimum column width */\n",
       "    backdrop-filter: blur(8px);  /* Optional: adds extra clarity */\n",
       "    color: var(--headerColor);\n",
       "}\n",
       "\n",
       ".scroll-table td {\n",
       "    padding: 8px;\n",
       "    text-align: left !important;\n",
       "    white-space: pre-wrap;\n",
       "    word-wrap: break-word;\n",
       "    vertical-align: top;\n",
       "    color: inherit;\n",
       "    border-bottom: none;\n",
       "    background: transparent;\n",
       "    min-width: 100px;    /* Match header minimum width */\n",
       "}\n",
       "\n",
       ".scroll-table tbody tr:hover {\n",
       "    background: transparent;\n",
       "}\n",
       "\n",
       "/* Additional rule to ensure header background is truly transparent */\n",
       ".scroll-table thead tr {\n",
       "    background: transparent !important;\n",
       "}\n",
       "\n",
       "/* Add shadow to indicate scrollable content */\n",
       ".table-container::after {\n",
       "    content: '';\n",
       "    position: absolute;\n",
       "    top: 0;\n",
       "    right: 0;\n",
       "    bottom: 0;\n",
       "    width: 5px;\n",
       "    background: linear-gradient(to right, transparent, rgba(242, 6, 6, 0.1));\n",
       "    pointer-events: none;\n",
       "    opacity: 0;\n",
       "    transition: opacity 0.3s;\n",
       "}\n",
       "\n",
       ".table-container:hover::after {\n",
       "    opacity: 1;\n",
       "}\n",
       "\n",
       "/* Handle Jupyter notebook specific styling */\n",
       ".jp-OutputArea-output .table-container {\n",
       "    max-width: 100%;\n",
       "    margin: 0;\n",
       "    overflow-x: auto;\n",
       "}\n",
       "        </style>\n",
       "        <div class=\"table-container\">\n",
       "            <div class=\"scroll-table-wrapper\">\n",
       "                <table class=\"scroll-table\">\n",
       "<thead>\n",
       "<tr><th>answer.summary                                                                                                                                                                                                                                                                                                                                                                                                                                                                                                                                                                                                                                                                                     </th><th>answer.authors                                         </th><th>answer.thanks                                                                                                                                                                                 </th></tr>\n",
       "</thead>\n",
       "<tbody>\n",
       "<tr><td>The paper introduces a method for automating the generation and testing of social science hypotheses using large language models (LLMs) and structural causal models. These models help articulate hypotheses, design experiments, and analyze data. The approach is demonstrated through scenarios like negotiations and auctions, where causal relationships are proposed and tested. The study shows that while LLMs can predict the direction of effects, they struggle with accurately predicting effect sizes unless conditioned on a fitted structural causal model. The findings suggest that LLMs possess implicit knowledge that can be better accessed through structured causal models.</td><td>[&#x27;Benjamin S. Manning&#x27;, &#x27;Kehang Zhu&#x27;, &#x27;John J. Horton&#x27;]</td><td>[&#x27;Drew Houston&#x27;, &#x27;Jordan Ellenberg&#x27;, &#x27;Benjamin Lira Luttges&#x27;, &#x27;David Holtz&#x27;, &#x27;Bruce Sacerdote&#x27;, &#x27;Paul Röttger&#x27;, &#x27;Mohammed Alsobay&#x27;, &#x27;Ray Duch&#x27;, &#x27;Matt Schwartz&#x27;, &#x27;David Autor&#x27;, &#x27;Dean Eckles&#x27;]</td></tr>\n",
       "</tbody>\n",
       "</table>\n",
       "            </div>\n",
       "        </div>\n",
       "        "
      ],
      "text/plain": [
       "Dataset([{'answer.summary': ['The paper introduces a method for automating the generation and testing of social science hypotheses using large language models (LLMs) and structural causal models. These models help articulate hypotheses, design experiments, and analyze data. The approach is demonstrated through scenarios like negotiations and auctions, where causal relationships are proposed and tested. The study shows that while LLMs can predict the direction of effects, they struggle with accurately predicting effect sizes unless conditioned on a fitted structural causal model. The findings suggest that LLMs possess implicit knowledge that can be better accessed through structured causal models.']}, {'answer.authors': [['Benjamin S. Manning', 'Kehang Zhu', 'John J. Horton']]}, {'answer.thanks': [['Drew Houston', 'Jordan Ellenberg', 'Benjamin Lira Luttges', 'David Holtz', 'Bruce Sacerdote', 'Paul Röttger', 'Mohammed Alsobay', 'Ray Duch', 'Matt Schwartz', 'David Autor', 'Dean Eckles']]}])"
      ]
     },
     "execution_count": 12,
     "metadata": {},
     "output_type": "execute_result"
    }
   ],
   "source": [
    "results.select(\"summary\", \"authors\", \"thanks\")"
   ]
  },
  {
   "cell_type": "markdown",
   "id": "20c98f56-23eb-4f01-a553-152fd75a408a",
   "metadata": {
    "editable": true,
    "slideshow": {
     "slide_type": ""
    },
    "tags": []
   },
   "source": [
    "## Posting to the Coop\n",
    "The [Coop](https://www.expectedparrot.com/content/explore) is a platform for creating, storing and sharing LLM-based research.\n",
    "It is fully integrated with EDSL and accessible from your workspace or Coop account page.\n",
    "Learn more about [creating an account](https://www.expectedparrot.com/login) and [using the Coop](https://docs.expectedparrot.com/en/latest/coop.html).\n",
    "\n",
    "Here we demonstrate how to post this notebook:"
   ]
  },
  {
   "cell_type": "code",
   "execution_count": 13,
   "id": "e93d1dd5-509d-48e6-93e1-815d2d892764",
   "metadata": {
    "editable": true,
    "slideshow": {
     "slide_type": ""
    },
    "tags": [
     "skip-execution"
    ]
   },
   "outputs": [],
   "source": [
    "from edsl import Notebook"
   ]
  },
  {
   "cell_type": "code",
   "execution_count": 14,
   "id": "acb305f3-21a7-44b7-be19-b91bbd334fcd",
   "metadata": {
    "editable": true,
    "slideshow": {
     "slide_type": ""
    },
    "tags": [
     "skip-execution"
    ]
   },
   "outputs": [],
   "source": [
    "n = Notebook(path = \"scenario_from_pdf.ipynb\")"
   ]
  },
  {
   "cell_type": "code",
   "execution_count": 15,
   "id": "cc41f2e1-c20e-40c5-af0b-2e679f6ebc21",
   "metadata": {
    "editable": true,
    "slideshow": {
     "slide_type": ""
    },
    "tags": [
     "skip-execution"
    ]
   },
   "outputs": [
    {
     "data": {
      "text/plain": [
       "{'description': 'Example code for generating scenarios from PDFs',\n",
       " 'object_type': 'notebook',\n",
       " 'url': 'https://www.expectedparrot.com/content/37f2034d-6c00-4f29-be23-3b31d3e93e47',\n",
       " 'uuid': '37f2034d-6c00-4f29-be23-3b31d3e93e47',\n",
       " 'version': '0.1.39.dev1',\n",
       " 'visibility': 'public'}"
      ]
     },
     "execution_count": 15,
     "metadata": {},
     "output_type": "execute_result"
    }
   ],
   "source": [
    "n.push(description = \"Example code for generating scenarios from PDFs\", visibility = \"public\")"
   ]
  }
 ],
 "metadata": {
  "kernelspec": {
   "display_name": "Python 3 (ipykernel)",
   "language": "python",
   "name": "python3"
  },
  "language_info": {
   "codemirror_mode": {
    "name": "ipython",
    "version": 3
   },
   "file_extension": ".py",
   "mimetype": "text/x-python",
   "name": "python",
   "nbconvert_exporter": "python",
   "pygments_lexer": "ipython3",
   "version": "3.11.7"
  }
 },
 "nbformat": 4,
 "nbformat_minor": 5
}
