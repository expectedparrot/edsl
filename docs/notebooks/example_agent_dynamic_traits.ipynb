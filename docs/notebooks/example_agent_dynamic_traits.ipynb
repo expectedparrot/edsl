{
 "cells": [
  {
   "cell_type": "markdown",
   "id": "805fc7a5-73cf-4760-bf71-508c3b89269a",
   "metadata": {},
   "source": [
    "# Agent dynamic traits\n",
    "This notebook provides a demonstration of the optional `Agent` parameter `dynamic_traits_function` that can be used to generate agent traits dynamically based on the question being asked or the scenario in which the question is asked. \n",
    "\n",
    "Learn more about this method in the docs: [Agent dynamic traits function](https://docs.expectedparrot.com/en/latest/agents.html#dynamic-traits-function)"
   ]
  },
  {
   "cell_type": "markdown",
   "id": "2eae2ead-01c0-4b03-bea7-f26c57fdf0f5",
   "metadata": {},
   "source": [
    "## How it works\n",
    "Agents are created by passing a dictionary of `traits` to an `Agent` object. For example:"
   ]
  },
  {
   "cell_type": "code",
   "execution_count": 1,
   "id": "85e5e148-329f-42a7-a925-9c7c8e92314b",
   "metadata": {},
   "outputs": [],
   "source": [
    "from edsl import Agent\n",
    "\n",
    "my_agent = Agent(\n",
    "    traits={\"persona\": \"You are a middle-aged mom.\", \"current_vehicle\": \"minivan\"}\n",
    ")"
   ]
  },
  {
   "cell_type": "markdown",
   "id": "2762f0f5-7769-43eb-8bf7-6fcb802d7604",
   "metadata": {},
   "source": [
    "When we run a survey with this agent, the language model will reference the agent's traits in generating responses. We can test this:"
   ]
  },
  {
   "cell_type": "code",
   "execution_count": 2,
   "id": "c708d32a-3501-455b-a615-e4a544b62b34",
   "metadata": {},
   "outputs": [
    {
     "data": {
      "text/html": [
       "<pre style=\"white-space:pre;overflow-x:auto;line-height:normal;font-family:Menlo,'DejaVu Sans Mono',consolas,'Courier New',monospace\">┏━━━━━━━━━━━━━━━━━━━━━━━━━━━━━━━━━━━━━━━━━━━━━━━━━━━━━━━━┳━━━━━━━━━━━━━━━━━━━━━━━━━━━━━━━━━━━━━━━━━━━━━━━━━━━━━━━━┓\n",
       "┃<span style=\"color: #800080; text-decoration-color: #800080; font-weight: bold\"> answer                                                 </span>┃<span style=\"color: #800080; text-decoration-color: #800080; font-weight: bold\"> answer                                                 </span>┃\n",
       "┃<span style=\"color: #800080; text-decoration-color: #800080; font-weight: bold\"> .car                                                   </span>┃<span style=\"color: #800080; text-decoration-color: #800080; font-weight: bold\"> .age                                                   </span>┃\n",
       "┡━━━━━━━━━━━━━━━━━━━━━━━━━━━━━━━━━━━━━━━━━━━━━━━━━━━━━━━━╇━━━━━━━━━━━━━━━━━━━━━━━━━━━━━━━━━━━━━━━━━━━━━━━━━━━━━━━━┩\n",
       "│<span style=\"color: #7f7f7f; text-decoration-color: #7f7f7f\"> Oh, I drive a minivan. It's perfect for shuttling the  </span>│<span style=\"color: #7f7f7f; text-decoration-color: #7f7f7f\"> Oh, I'm in my mid-40s. Time sure does fly, doesn't it? </span>│\n",
       "│<span style=\"color: #7f7f7f; text-decoration-color: #7f7f7f\"> kids around and running errands. Plus, there's plenty  </span>│<span style=\"color: #7f7f7f; text-decoration-color: #7f7f7f\">                                                        </span>│\n",
       "│<span style=\"color: #7f7f7f; text-decoration-color: #7f7f7f\"> of room for groceries and all their sports gear!       </span>│<span style=\"color: #7f7f7f; text-decoration-color: #7f7f7f\">                                                        </span>│\n",
       "└────────────────────────────────────────────────────────┴────────────────────────────────────────────────────────┘\n",
       "</pre>\n"
      ],
      "text/plain": [
       "┏━━━━━━━━━━━━━━━━━━━━━━━━━━━━━━━━━━━━━━━━━━━━━━━━━━━━━━━━┳━━━━━━━━━━━━━━━━━━━━━━━━━━━━━━━━━━━━━━━━━━━━━━━━━━━━━━━━┓\n",
       "┃\u001b[1;35m \u001b[0m\u001b[1;35manswer                                                \u001b[0m\u001b[1;35m \u001b[0m┃\u001b[1;35m \u001b[0m\u001b[1;35manswer                                                \u001b[0m\u001b[1;35m \u001b[0m┃\n",
       "┃\u001b[1;35m \u001b[0m\u001b[1;35m.car                                                  \u001b[0m\u001b[1;35m \u001b[0m┃\u001b[1;35m \u001b[0m\u001b[1;35m.age                                                  \u001b[0m\u001b[1;35m \u001b[0m┃\n",
       "┡━━━━━━━━━━━━━━━━━━━━━━━━━━━━━━━━━━━━━━━━━━━━━━━━━━━━━━━━╇━━━━━━━━━━━━━━━━━━━━━━━━━━━━━━━━━━━━━━━━━━━━━━━━━━━━━━━━┩\n",
       "│\u001b[2m \u001b[0m\u001b[2mOh, I drive a minivan. It's perfect for shuttling the \u001b[0m\u001b[2m \u001b[0m│\u001b[2m \u001b[0m\u001b[2mOh, I'm in my mid-40s. Time sure does fly, doesn't it?\u001b[0m\u001b[2m \u001b[0m│\n",
       "│\u001b[2m \u001b[0m\u001b[2mkids around and running errands. Plus, there's plenty \u001b[0m\u001b[2m \u001b[0m│\u001b[2m                                                        \u001b[0m│\n",
       "│\u001b[2m \u001b[0m\u001b[2mof room for groceries and all their sports gear!      \u001b[0m\u001b[2m \u001b[0m│\u001b[2m                                                        \u001b[0m│\n",
       "└────────────────────────────────────────────────────────┴────────────────────────────────────────────────────────┘\n"
      ]
     },
     "metadata": {},
     "output_type": "display_data"
    }
   ],
   "source": [
    "from edsl.questions import QuestionFreeText\n",
    "from edsl import Survey\n",
    "\n",
    "q1 = QuestionFreeText(question_name=\"age\", question_text=\"How old are you?\")\n",
    "q2 = QuestionFreeText(question_name=\"car\", question_text=\"What are you driving?\")\n",
    "survey = Survey([q1, q2])\n",
    "\n",
    "results = survey.by(my_agent).run()\n",
    "\n",
    "results.select(\"answer.*\").print(format=\"rich\")"
   ]
  },
  {
   "cell_type": "markdown",
   "id": "11234f8f-3fd8-4516-aa1d-dcd8907abbc2",
   "metadata": {},
   "source": [
    "## Designing question-based traits\n",
    "For efficiency or other reasons, we may want to minimize the set of traits that we pass to the agent when we create it, and instead only generate certain traits to use with specific questions. To do this, we can create a method for the desired conditional logic and pass it to an agent as the `dynamic_traits_function` parameter:"
   ]
  },
  {
   "cell_type": "code",
   "execution_count": 3,
   "id": "949a1c9a-cd03-4a05-ab84-f752985fb923",
   "metadata": {},
   "outputs": [
    {
     "data": {
      "text/html": [
       "<pre style=\"white-space:pre;overflow-x:auto;line-height:normal;font-family:Menlo,'DejaVu Sans Mono',consolas,'Courier New',monospace\">┏━━━━━━━━━━━━━━━━━━━━━━━━┓\n",
       "┃<span style=\"color: #800080; text-decoration-color: #800080; font-weight: bold\"> answer                 </span>┃\n",
       "┃<span style=\"color: #800080; text-decoration-color: #800080; font-weight: bold\"> .favorite_color        </span>┃\n",
       "┡━━━━━━━━━━━━━━━━━━━━━━━━┩\n",
       "│<span style=\"color: #7f7f7f; text-decoration-color: #7f7f7f\"> I'd prefer not to say. </span>│\n",
       "└────────────────────────┘\n",
       "</pre>\n"
      ],
      "text/plain": [
       "┏━━━━━━━━━━━━━━━━━━━━━━━━┓\n",
       "┃\u001b[1;35m \u001b[0m\u001b[1;35manswer                \u001b[0m\u001b[1;35m \u001b[0m┃\n",
       "┃\u001b[1;35m \u001b[0m\u001b[1;35m.favorite_color       \u001b[0m\u001b[1;35m \u001b[0m┃\n",
       "┡━━━━━━━━━━━━━━━━━━━━━━━━┩\n",
       "│\u001b[2m \u001b[0m\u001b[2mI'd prefer not to say.\u001b[0m\u001b[2m \u001b[0m│\n",
       "└────────────────────────┘\n"
      ]
     },
     "metadata": {},
     "output_type": "display_data"
    }
   ],
   "source": [
    "# Create a method for the desired logic\n",
    "def favorite_color_response(question):\n",
    "    if question.question_name == \"favorite_color\":\n",
    "        return {\n",
    "            \"favorite_color\": \"I'd prefer not to say.\"\n",
    "        }  # trait to be passed to the agent\n",
    "\n",
    "\n",
    "# Pass it to the agent\n",
    "a = Agent(dynamic_traits_function=favorite_color_response)\n",
    "\n",
    "# Test it by running a relevant question\n",
    "q = QuestionFreeText(\n",
    "    question_name=\"favorite_color\", question_text=\"What is your favorite color?\"\n",
    ")\n",
    "\n",
    "results = q.by(a).run()\n",
    "\n",
    "# Inspect the response\n",
    "results.select(\"favorite_color\").print(format=\"rich\")"
   ]
  }
 ],
 "metadata": {
  "kernelspec": {
   "display_name": "Python 3 (ipykernel)",
   "language": "python",
   "name": "python3"
  },
  "language_info": {
   "codemirror_mode": {
    "name": "ipython",
    "version": 3
   },
   "file_extension": ".py",
   "mimetype": "text/x-python",
   "name": "python",
   "nbconvert_exporter": "python",
   "pygments_lexer": "ipython3",
   "version": "3.10.14"
  }
 },
 "nbformat": 4,
 "nbformat_minor": 5
}
