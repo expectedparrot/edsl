{
 "cells": [
  {
   "cell_type": "markdown",
   "metadata": {
    "cell_id": "d4d5c2583fc14fdb895e689f40ba6737",
    "deepnote_cell_type": "markdown",
    "editable": true,
    "slideshow": {
     "slide_type": ""
    },
    "tags": []
   },
   "source": [
    "# Cognitive testing & LLM biases\n",
    "This notebook provides example code for using [EDSL](https://docs.expectedparrot.com) to investigate biases of large language models. \n",
    "\n",
    "[EDSL is an open-source library](https://github.com/expectedparrot/edsl) for simulating surveys, experiments and other research with AI agents and large language models. \n",
    "Before running the code below, please ensure that you have [installed the EDSL library](https://docs.expectedparrot.com/en/latest/installation.html) and either [activated remote inference](https://docs.expectedparrot.com/en/latest/remote_inference.html) from your [Coop account](https://docs.expectedparrot.com/en/latest/coop.html) or [stored API keys](https://docs.expectedparrot.com/en/latest/api_keys.html) for the language models that you want to use with EDSL. Please also see our [documentation page](https://docs.expectedparrot.com/) for tips and tutorials on getting started using EDSL."
   ]
  },
  {
   "cell_type": "markdown",
   "metadata": {
    "editable": true,
    "slideshow": {
     "slide_type": ""
    },
    "tags": []
   },
   "source": [
    "## Selecting language models\n",
    "To check a list of models currently available to use with EDSL:"
   ]
  },
  {
   "cell_type": "code",
   "execution_count": 1,
   "metadata": {
    "cell_id": "4fa4d5aa948642b1972b84993e35f685",
    "deepnote_cell_type": "code",
    "deepnote_to_be_reexecuted": false,
    "editable": true,
    "execution_millis": 205,
    "execution_start": 1709310900433,
    "slideshow": {
     "slide_type": ""
    },
    "source_hash": null,
    "tags": []
   },
   "outputs": [],
   "source": [
    "from edsl import ModelList, Model\n",
    "\n",
    "# Model.available # uncomment and run this code"
   ]
  },
  {
   "cell_type": "markdown",
   "metadata": {
    "cell_id": "cc1f7bddab344d378e8ce81dfea70a69",
    "deepnote_cell_type": "markdown",
    "editable": true,
    "slideshow": {
     "slide_type": ""
    },
    "tags": []
   },
   "source": [
    "We select models to use by creating `Model` objects that can be added to a survey when when it is run. If we do not specify a model, the default model is used with the survey.\n",
    "\n",
    "To check the current default model:"
   ]
  },
  {
   "cell_type": "code",
   "execution_count": 2,
   "metadata": {},
   "outputs": [],
   "source": [
    "# Model() # uncomment and run this code"
   ]
  },
  {
   "cell_type": "markdown",
   "metadata": {},
   "source": [
    "Here we select several models to compare their responses for the survey that we create in the steps below:"
   ]
  },
  {
   "cell_type": "code",
   "execution_count": 3,
   "metadata": {
    "cell_id": "747d40bea4eb41b5a89d8b374216837e",
    "deepnote_cell_type": "code",
    "editable": true,
    "slideshow": {
     "slide_type": ""
    },
    "tags": []
   },
   "outputs": [],
   "source": [
    "models = ModelList(\n",
    "    Model(m) for m in [\"gemini-pro\", \"gpt-4o\", \"claude-3-5-sonnet-20240620\"]\n",
    ")"
   ]
  },
  {
   "cell_type": "markdown",
   "metadata": {
    "editable": true,
    "slideshow": {
     "slide_type": ""
    },
    "tags": []
   },
   "source": [
    "## Generating content\n",
    "EDSL comes with a variety of standard survey question types, such as multiple choice, free text, etc. These can be selected based on the desired format of the response. See details about all types [here](https://docs.expectedparrot.com/en/latest/questions.html#question-type-classes). We can use `QuestionFreeText` to prompt the models to generate some content for our experiment:"
   ]
  },
  {
   "cell_type": "code",
   "execution_count": 4,
   "metadata": {
    "cell_id": "1325605571cc41a194255b80b2fb2f87",
    "deepnote_cell_type": "code",
    "editable": true,
    "slideshow": {
     "slide_type": ""
    },
    "tags": []
   },
   "outputs": [],
   "source": [
    "from edsl import QuestionFreeText\n",
    "\n",
    "q = QuestionFreeText(\n",
    "    question_name=\"haiku\",\n",
    "    question_text=\"Draft a haiku about the weather in New England. Return only the haiku.\"\n",
    ")"
   ]
  },
  {
   "cell_type": "markdown",
   "metadata": {
    "editable": true,
    "slideshow": {
     "slide_type": ""
    },
    "tags": []
   },
   "source": [
    "We generate a response to the question by adding the models to use with the `by` method and then calling the `run` method. This generates a `Results` object with a `Result` for each response to the question:"
   ]
  },
  {
   "cell_type": "code",
   "execution_count": 5,
   "metadata": {
    "cell_id": "724ca2c7a38f4164a225ed4a8dcc2b1f",
    "deepnote_cell_type": "code",
    "editable": true,
    "slideshow": {
     "slide_type": ""
    },
    "tags": []
   },
   "outputs": [],
   "source": [
    "results = q.by(models).run()"
   ]
  },
  {
   "cell_type": "markdown",
   "metadata": {
    "editable": true,
    "slideshow": {
     "slide_type": ""
    },
    "tags": []
   },
   "source": [
    "To see a list of all components of results:"
   ]
  },
  {
   "cell_type": "code",
   "execution_count": 6,
   "metadata": {
    "cell_id": "054ec708d2f84854b971127f64ff2054",
    "deepnote_cell_type": "code",
    "editable": true,
    "slideshow": {
     "slide_type": ""
    },
    "tags": []
   },
   "outputs": [],
   "source": [
    "# results.columns # uncomment and run this code"
   ]
  },
  {
   "cell_type": "markdown",
   "metadata": {
    "editable": true,
    "slideshow": {
     "slide_type": ""
    },
    "tags": []
   },
   "source": [
    "We can inspect components of the results individually:"
   ]
  },
  {
   "cell_type": "code",
   "execution_count": 7,
   "metadata": {
    "cell_id": "c68d3be8bada402ea17184b978abfa70",
    "deepnote_cell_type": "code",
    "editable": true,
    "slideshow": {
     "slide_type": ""
    },
    "tags": []
   },
   "outputs": [
    {
     "data": {
      "text/html": [
       "<pre style=\"white-space:pre;overflow-x:auto;line-height:normal;font-family:Menlo,'DejaVu Sans Mono',consolas,'Courier New',monospace\">┏━━━━━━━━━━━━━━━━━━━━━━━━━━━━┳━━━━━━━━━━━━━━━━━━━━━━━━━━━━━━━━━━━━┓\n",
       "┃<span style=\"color: #800080; text-decoration-color: #800080; font-weight: bold\"> model                      </span>┃<span style=\"color: #800080; text-decoration-color: #800080; font-weight: bold\"> answer                             </span>┃\n",
       "┃<span style=\"color: #800080; text-decoration-color: #800080; font-weight: bold\"> .model                     </span>┃<span style=\"color: #800080; text-decoration-color: #800080; font-weight: bold\"> .haiku                             </span>┃\n",
       "┡━━━━━━━━━━━━━━━━━━━━━━━━━━━━╇━━━━━━━━━━━━━━━━━━━━━━━━━━━━━━━━━━━━┩\n",
       "│<span style=\"color: #7f7f7f; text-decoration-color: #7f7f7f\"> gpt-4o                     </span>│<span style=\"color: #7f7f7f; text-decoration-color: #7f7f7f\"> Maple leaves flutter,              </span>│\n",
       "│<span style=\"color: #7f7f7f; text-decoration-color: #7f7f7f\">                            </span>│<span style=\"color: #7f7f7f; text-decoration-color: #7f7f7f\"> Mist dances on cool breeze,        </span>│\n",
       "├────────────────────────────┼────────────────────────────────────┤\n",
       "│<span style=\"color: #7f7f7f; text-decoration-color: #7f7f7f\"> gemini-pro                 </span>│<span style=\"color: #7f7f7f; text-decoration-color: #7f7f7f\"> Snow falls soft and white,         </span>│\n",
       "│<span style=\"color: #7f7f7f; text-decoration-color: #7f7f7f\">                            </span>│<span style=\"color: #7f7f7f; text-decoration-color: #7f7f7f\"> Spring brings rain, summer's heat, </span>│\n",
       "├────────────────────────────┼────────────────────────────────────┤\n",
       "│<span style=\"color: #7f7f7f; text-decoration-color: #7f7f7f\"> claude-3-5-sonnet-20240620 </span>│<span style=\"color: #7f7f7f; text-decoration-color: #7f7f7f\"> Fickle winds whisper               </span>│\n",
       "│<span style=\"color: #7f7f7f; text-decoration-color: #7f7f7f\">                            </span>│<span style=\"color: #7f7f7f; text-decoration-color: #7f7f7f\"> Maple leaves dance, snow then sun  </span>│\n",
       "└────────────────────────────┴────────────────────────────────────┘\n",
       "</pre>\n"
      ],
      "text/plain": [
       "┏━━━━━━━━━━━━━━━━━━━━━━━━━━━━┳━━━━━━━━━━━━━━━━━━━━━━━━━━━━━━━━━━━━┓\n",
       "┃\u001b[1;35m \u001b[0m\u001b[1;35mmodel                     \u001b[0m\u001b[1;35m \u001b[0m┃\u001b[1;35m \u001b[0m\u001b[1;35manswer                            \u001b[0m\u001b[1;35m \u001b[0m┃\n",
       "┃\u001b[1;35m \u001b[0m\u001b[1;35m.model                    \u001b[0m\u001b[1;35m \u001b[0m┃\u001b[1;35m \u001b[0m\u001b[1;35m.haiku                            \u001b[0m\u001b[1;35m \u001b[0m┃\n",
       "┡━━━━━━━━━━━━━━━━━━━━━━━━━━━━╇━━━━━━━━━━━━━━━━━━━━━━━━━━━━━━━━━━━━┩\n",
       "│\u001b[2m \u001b[0m\u001b[2mgpt-4o                    \u001b[0m\u001b[2m \u001b[0m│\u001b[2m \u001b[0m\u001b[2mMaple leaves flutter,             \u001b[0m\u001b[2m \u001b[0m│\n",
       "│\u001b[2m                            \u001b[0m│\u001b[2m \u001b[0m\u001b[2mMist dances on cool breeze,       \u001b[0m\u001b[2m \u001b[0m│\n",
       "├────────────────────────────┼────────────────────────────────────┤\n",
       "│\u001b[2m \u001b[0m\u001b[2mgemini-pro                \u001b[0m\u001b[2m \u001b[0m│\u001b[2m \u001b[0m\u001b[2mSnow falls soft and white,        \u001b[0m\u001b[2m \u001b[0m│\n",
       "│\u001b[2m                            \u001b[0m│\u001b[2m \u001b[0m\u001b[2mSpring brings rain, summer's heat,\u001b[0m\u001b[2m \u001b[0m│\n",
       "├────────────────────────────┼────────────────────────────────────┤\n",
       "│\u001b[2m \u001b[0m\u001b[2mclaude-3-5-sonnet-20240620\u001b[0m\u001b[2m \u001b[0m│\u001b[2m \u001b[0m\u001b[2mFickle winds whisper              \u001b[0m\u001b[2m \u001b[0m│\n",
       "│\u001b[2m                            \u001b[0m│\u001b[2m \u001b[0m\u001b[2mMaple leaves dance, snow then sun \u001b[0m\u001b[2m \u001b[0m│\n",
       "└────────────────────────────┴────────────────────────────────────┘\n"
      ]
     },
     "metadata": {},
     "output_type": "display_data"
    }
   ],
   "source": [
    "results.select(\"model\", \"haiku\").print(format=\"rich\")"
   ]
  },
  {
   "cell_type": "markdown",
   "metadata": {
    "cell_id": "09c51c4a264248d3a6ca865d70844279",
    "deepnote_cell_type": "markdown",
    "editable": true,
    "slideshow": {
     "slide_type": ""
    },
    "tags": []
   },
   "source": [
    "## Conducting a review\n",
    "Next we create a question to have a model evaluating a response that we use as an input to the new question:"
   ]
  },
  {
   "cell_type": "code",
   "execution_count": 8,
   "metadata": {
    "editable": true,
    "slideshow": {
     "slide_type": ""
    },
    "tags": []
   },
   "outputs": [],
   "source": [
    "from edsl import QuestionLinearScale\n",
    "\n",
    "q_score = QuestionLinearScale(\n",
    "    question_name=\"score\",\n",
    "    question_text=\"Score the following haiku on a scale from 0 to 10: {{ haiku }}\",\n",
    "    question_options=[0, 1, 2, 3, 4, 5, 6, 7, 8, 9, 10],\n",
    "    option_labels={0: \"Very poor\", 10: \"Excellent\"},\n",
    ")"
   ]
  },
  {
   "cell_type": "markdown",
   "metadata": {
    "editable": true,
    "slideshow": {
     "slide_type": ""
    },
    "tags": []
   },
   "source": [
    "## Parameterizing questions\n",
    "We use `Scenario` objects to add each response to the new question. EDSL comes with many methods for creating scenarios from different data sources (PDFs, CSVs, docs, images, lists, etc.), as well as `Results` objects:"
   ]
  },
  {
   "cell_type": "code",
   "execution_count": 9,
   "metadata": {
    "editable": true,
    "slideshow": {
     "slide_type": ""
    },
    "tags": []
   },
   "outputs": [
    {
     "data": {
      "text/html": [
       "<div class=\"highlight\"><pre><span></span><span class=\"p\">{</span>\n",
       "<span class=\"w\">    </span><span class=\"nt\">&quot;scenarios&quot;</span><span class=\"p\">:</span><span class=\"w\"> </span><span class=\"p\">[</span>\n",
       "<span class=\"w\">        </span><span class=\"p\">{</span>\n",
       "<span class=\"w\">            </span><span class=\"nt\">&quot;drafting_model&quot;</span><span class=\"p\">:</span><span class=\"w\"> </span><span class=\"s2\">&quot;gpt-4o&quot;</span><span class=\"p\">,</span>\n",
       "<span class=\"w\">            </span><span class=\"nt\">&quot;haiku&quot;</span><span class=\"p\">:</span><span class=\"w\"> </span><span class=\"s2\">&quot;Maple leaves flutter,\\nMist dances on cool breeze,&quot;</span>\n",
       "<span class=\"w\">        </span><span class=\"p\">},</span>\n",
       "<span class=\"w\">        </span><span class=\"p\">{</span>\n",
       "<span class=\"w\">            </span><span class=\"nt\">&quot;drafting_model&quot;</span><span class=\"p\">:</span><span class=\"w\"> </span><span class=\"s2\">&quot;gemini-pro&quot;</span><span class=\"p\">,</span>\n",
       "<span class=\"w\">            </span><span class=\"nt\">&quot;haiku&quot;</span><span class=\"p\">:</span><span class=\"w\"> </span><span class=\"s2\">&quot;Snow falls soft and white,\\nSpring brings rain, summer&#39;s heat,&quot;</span>\n",
       "<span class=\"w\">        </span><span class=\"p\">},</span>\n",
       "<span class=\"w\">        </span><span class=\"p\">{</span>\n",
       "<span class=\"w\">            </span><span class=\"nt\">&quot;drafting_model&quot;</span><span class=\"p\">:</span><span class=\"w\"> </span><span class=\"s2\">&quot;claude-3-5-sonnet-20240620&quot;</span><span class=\"p\">,</span>\n",
       "<span class=\"w\">            </span><span class=\"nt\">&quot;haiku&quot;</span><span class=\"p\">:</span><span class=\"w\"> </span><span class=\"s2\">&quot;Fickle winds whisper\\nMaple leaves dance, snow then sun&quot;</span>\n",
       "<span class=\"w\">        </span><span class=\"p\">}</span>\n",
       "<span class=\"w\">    </span><span class=\"p\">]</span>\n",
       "<span class=\"p\">}</span>\n",
       "</pre></div>\n"
      ],
      "text/plain": [
       "ScenarioList([Scenario({'drafting_model': 'gpt-4o', 'haiku': 'Maple leaves flutter,\\nMist dances on cool breeze,'}), Scenario({'drafting_model': 'gemini-pro', 'haiku': \"Snow falls soft and white,\\nSpring brings rain, summer's heat,\"}), Scenario({'drafting_model': 'claude-3-5-sonnet-20240620', 'haiku': 'Fickle winds whisper\\nMaple leaves dance, snow then sun'})])"
      ]
     },
     "execution_count": 9,
     "metadata": {},
     "output_type": "execute_result"
    }
   ],
   "source": [
    "scenarios = (\n",
    "    results.to_scenario_list()\n",
    "    .select(\"model\", \"haiku\")\n",
    "    .rename({\"model\":\"drafting_model\"}) # renaming the 'model' field to distinguish the evaluating model \n",
    ")\n",
    "scenarios"
   ]
  },
  {
   "cell_type": "markdown",
   "metadata": {
    "editable": true,
    "slideshow": {
     "slide_type": ""
    },
    "tags": []
   },
   "source": [
    "Finally, we conduct the evaluation by having each model score each haiku that was generated (without information about whether the model itself was the source):"
   ]
  },
  {
   "cell_type": "code",
   "execution_count": 10,
   "metadata": {
    "editable": true,
    "slideshow": {
     "slide_type": ""
    },
    "tags": []
   },
   "outputs": [],
   "source": [
    "results = q_score.by(scenarios).by(models).run()"
   ]
  },
  {
   "cell_type": "code",
   "execution_count": 11,
   "metadata": {
    "editable": true,
    "slideshow": {
     "slide_type": ""
    },
    "tags": []
   },
   "outputs": [
    {
     "data": {
      "text/plain": [
       "['agent.agent_instruction',\n",
       " 'agent.agent_name',\n",
       " 'answer.score',\n",
       " 'comment.score_comment',\n",
       " 'generated_tokens.score_generated_tokens',\n",
       " 'iteration.iteration',\n",
       " 'model.frequency_penalty',\n",
       " 'model.logprobs',\n",
       " 'model.maxOutputTokens',\n",
       " 'model.max_tokens',\n",
       " 'model.model',\n",
       " 'model.presence_penalty',\n",
       " 'model.stopSequences',\n",
       " 'model.temperature',\n",
       " 'model.topK',\n",
       " 'model.topP',\n",
       " 'model.top_logprobs',\n",
       " 'model.top_p',\n",
       " 'prompt.score_system_prompt',\n",
       " 'prompt.score_user_prompt',\n",
       " 'question_options.score_question_options',\n",
       " 'question_text.score_question_text',\n",
       " 'question_type.score_question_type',\n",
       " 'raw_model_response.score_cost',\n",
       " 'raw_model_response.score_one_usd_buys',\n",
       " 'raw_model_response.score_raw_model_response',\n",
       " 'scenario.drafting_model',\n",
       " 'scenario.haiku']"
      ]
     },
     "execution_count": 11,
     "metadata": {},
     "output_type": "execute_result"
    }
   ],
   "source": [
    "results.columns"
   ]
  },
  {
   "cell_type": "code",
   "execution_count": 12,
   "metadata": {
    "editable": true,
    "slideshow": {
     "slide_type": ""
    },
    "tags": []
   },
   "outputs": [
    {
     "data": {
      "text/html": [
       "<pre style=\"white-space:pre;overflow-x:auto;line-height:normal;font-family:Menlo,'DejaVu Sans Mono',consolas,'Courier New',monospace\">┏━━━━━━━━━━━━━━━━━━━━━━━━━━━━┳━━━━━━━━━━━━━━━━━━━━━━━━━━━━┳━━━━━━━┳━━━━━━━━━━━━━━━━━━━━━━━━━━━━━━━━━━━━┓\n",
       "┃<span style=\"color: #800080; text-decoration-color: #800080; font-weight: bold\"> Drafting model             </span>┃<span style=\"color: #800080; text-decoration-color: #800080; font-weight: bold\"> Scoring model              </span>┃<span style=\"color: #800080; text-decoration-color: #800080; font-weight: bold\"> Score </span>┃<span style=\"color: #800080; text-decoration-color: #800080; font-weight: bold\"> Haiku                              </span>┃\n",
       "┡━━━━━━━━━━━━━━━━━━━━━━━━━━━━╇━━━━━━━━━━━━━━━━━━━━━━━━━━━━╇━━━━━━━╇━━━━━━━━━━━━━━━━━━━━━━━━━━━━━━━━━━━━┩\n",
       "│<span style=\"color: #7f7f7f; text-decoration-color: #7f7f7f\"> claude-3-5-sonnet-20240620 </span>│<span style=\"color: #7f7f7f; text-decoration-color: #7f7f7f\"> claude-3-5-sonnet-20240620 </span>│<span style=\"color: #7f7f7f; text-decoration-color: #7f7f7f\"> 7     </span>│<span style=\"color: #7f7f7f; text-decoration-color: #7f7f7f\"> Fickle winds whisper               </span>│\n",
       "│<span style=\"color: #7f7f7f; text-decoration-color: #7f7f7f\">                            </span>│<span style=\"color: #7f7f7f; text-decoration-color: #7f7f7f\">                            </span>│<span style=\"color: #7f7f7f; text-decoration-color: #7f7f7f\">       </span>│<span style=\"color: #7f7f7f; text-decoration-color: #7f7f7f\"> Maple leaves dance, snow then sun  </span>│\n",
       "├────────────────────────────┼────────────────────────────┼───────┼────────────────────────────────────┤\n",
       "│<span style=\"color: #7f7f7f; text-decoration-color: #7f7f7f\"> claude-3-5-sonnet-20240620 </span>│<span style=\"color: #7f7f7f; text-decoration-color: #7f7f7f\"> gemini-pro                 </span>│<span style=\"color: #7f7f7f; text-decoration-color: #7f7f7f\"> 8     </span>│<span style=\"color: #7f7f7f; text-decoration-color: #7f7f7f\"> Fickle winds whisper               </span>│\n",
       "│<span style=\"color: #7f7f7f; text-decoration-color: #7f7f7f\">                            </span>│<span style=\"color: #7f7f7f; text-decoration-color: #7f7f7f\">                            </span>│<span style=\"color: #7f7f7f; text-decoration-color: #7f7f7f\">       </span>│<span style=\"color: #7f7f7f; text-decoration-color: #7f7f7f\"> Maple leaves dance, snow then sun  </span>│\n",
       "├────────────────────────────┼────────────────────────────┼───────┼────────────────────────────────────┤\n",
       "│<span style=\"color: #7f7f7f; text-decoration-color: #7f7f7f\"> claude-3-5-sonnet-20240620 </span>│<span style=\"color: #7f7f7f; text-decoration-color: #7f7f7f\"> gpt-4o                     </span>│<span style=\"color: #7f7f7f; text-decoration-color: #7f7f7f\"> 7     </span>│<span style=\"color: #7f7f7f; text-decoration-color: #7f7f7f\"> Fickle winds whisper               </span>│\n",
       "│<span style=\"color: #7f7f7f; text-decoration-color: #7f7f7f\">                            </span>│<span style=\"color: #7f7f7f; text-decoration-color: #7f7f7f\">                            </span>│<span style=\"color: #7f7f7f; text-decoration-color: #7f7f7f\">       </span>│<span style=\"color: #7f7f7f; text-decoration-color: #7f7f7f\"> Maple leaves dance, snow then sun  </span>│\n",
       "├────────────────────────────┼────────────────────────────┼───────┼────────────────────────────────────┤\n",
       "│<span style=\"color: #7f7f7f; text-decoration-color: #7f7f7f\"> gemini-pro                 </span>│<span style=\"color: #7f7f7f; text-decoration-color: #7f7f7f\"> claude-3-5-sonnet-20240620 </span>│<span style=\"color: #7f7f7f; text-decoration-color: #7f7f7f\"> 6     </span>│<span style=\"color: #7f7f7f; text-decoration-color: #7f7f7f\"> Snow falls soft and white,         </span>│\n",
       "│<span style=\"color: #7f7f7f; text-decoration-color: #7f7f7f\">                            </span>│<span style=\"color: #7f7f7f; text-decoration-color: #7f7f7f\">                            </span>│<span style=\"color: #7f7f7f; text-decoration-color: #7f7f7f\">       </span>│<span style=\"color: #7f7f7f; text-decoration-color: #7f7f7f\"> Spring brings rain, summer's heat, </span>│\n",
       "├────────────────────────────┼────────────────────────────┼───────┼────────────────────────────────────┤\n",
       "│<span style=\"color: #7f7f7f; text-decoration-color: #7f7f7f\"> gemini-pro                 </span>│<span style=\"color: #7f7f7f; text-decoration-color: #7f7f7f\"> gemini-pro                 </span>│<span style=\"color: #7f7f7f; text-decoration-color: #7f7f7f\"> 5     </span>│<span style=\"color: #7f7f7f; text-decoration-color: #7f7f7f\"> Snow falls soft and white,         </span>│\n",
       "│<span style=\"color: #7f7f7f; text-decoration-color: #7f7f7f\">                            </span>│<span style=\"color: #7f7f7f; text-decoration-color: #7f7f7f\">                            </span>│<span style=\"color: #7f7f7f; text-decoration-color: #7f7f7f\">       </span>│<span style=\"color: #7f7f7f; text-decoration-color: #7f7f7f\"> Spring brings rain, summer's heat, </span>│\n",
       "├────────────────────────────┼────────────────────────────┼───────┼────────────────────────────────────┤\n",
       "│<span style=\"color: #7f7f7f; text-decoration-color: #7f7f7f\"> gemini-pro                 </span>│<span style=\"color: #7f7f7f; text-decoration-color: #7f7f7f\"> gpt-4o                     </span>│<span style=\"color: #7f7f7f; text-decoration-color: #7f7f7f\"> 4     </span>│<span style=\"color: #7f7f7f; text-decoration-color: #7f7f7f\"> Snow falls soft and white,         </span>│\n",
       "│<span style=\"color: #7f7f7f; text-decoration-color: #7f7f7f\">                            </span>│<span style=\"color: #7f7f7f; text-decoration-color: #7f7f7f\">                            </span>│<span style=\"color: #7f7f7f; text-decoration-color: #7f7f7f\">       </span>│<span style=\"color: #7f7f7f; text-decoration-color: #7f7f7f\"> Spring brings rain, summer's heat, </span>│\n",
       "├────────────────────────────┼────────────────────────────┼───────┼────────────────────────────────────┤\n",
       "│<span style=\"color: #7f7f7f; text-decoration-color: #7f7f7f\"> gpt-4o                     </span>│<span style=\"color: #7f7f7f; text-decoration-color: #7f7f7f\"> claude-3-5-sonnet-20240620 </span>│<span style=\"color: #7f7f7f; text-decoration-color: #7f7f7f\"> 6     </span>│<span style=\"color: #7f7f7f; text-decoration-color: #7f7f7f\"> Maple leaves flutter,              </span>│\n",
       "│<span style=\"color: #7f7f7f; text-decoration-color: #7f7f7f\">                            </span>│<span style=\"color: #7f7f7f; text-decoration-color: #7f7f7f\">                            </span>│<span style=\"color: #7f7f7f; text-decoration-color: #7f7f7f\">       </span>│<span style=\"color: #7f7f7f; text-decoration-color: #7f7f7f\"> Mist dances on cool breeze,        </span>│\n",
       "├────────────────────────────┼────────────────────────────┼───────┼────────────────────────────────────┤\n",
       "│<span style=\"color: #7f7f7f; text-decoration-color: #7f7f7f\"> gpt-4o                     </span>│<span style=\"color: #7f7f7f; text-decoration-color: #7f7f7f\"> gemini-pro                 </span>│<span style=\"color: #7f7f7f; text-decoration-color: #7f7f7f\"> 5     </span>│<span style=\"color: #7f7f7f; text-decoration-color: #7f7f7f\"> Maple leaves flutter,              </span>│\n",
       "│<span style=\"color: #7f7f7f; text-decoration-color: #7f7f7f\">                            </span>│<span style=\"color: #7f7f7f; text-decoration-color: #7f7f7f\">                            </span>│<span style=\"color: #7f7f7f; text-decoration-color: #7f7f7f\">       </span>│<span style=\"color: #7f7f7f; text-decoration-color: #7f7f7f\"> Mist dances on cool breeze,        </span>│\n",
       "├────────────────────────────┼────────────────────────────┼───────┼────────────────────────────────────┤\n",
       "│<span style=\"color: #7f7f7f; text-decoration-color: #7f7f7f\"> gpt-4o                     </span>│<span style=\"color: #7f7f7f; text-decoration-color: #7f7f7f\"> gpt-4o                     </span>│<span style=\"color: #7f7f7f; text-decoration-color: #7f7f7f\"> 9     </span>│<span style=\"color: #7f7f7f; text-decoration-color: #7f7f7f\"> Maple leaves flutter,              </span>│\n",
       "│<span style=\"color: #7f7f7f; text-decoration-color: #7f7f7f\">                            </span>│<span style=\"color: #7f7f7f; text-decoration-color: #7f7f7f\">                            </span>│<span style=\"color: #7f7f7f; text-decoration-color: #7f7f7f\">       </span>│<span style=\"color: #7f7f7f; text-decoration-color: #7f7f7f\"> Mist dances on cool breeze,        </span>│\n",
       "└────────────────────────────┴────────────────────────────┴───────┴────────────────────────────────────┘\n",
       "</pre>\n"
      ],
      "text/plain": [
       "┏━━━━━━━━━━━━━━━━━━━━━━━━━━━━┳━━━━━━━━━━━━━━━━━━━━━━━━━━━━┳━━━━━━━┳━━━━━━━━━━━━━━━━━━━━━━━━━━━━━━━━━━━━┓\n",
       "┃\u001b[1;35m \u001b[0m\u001b[1;35mDrafting model            \u001b[0m\u001b[1;35m \u001b[0m┃\u001b[1;35m \u001b[0m\u001b[1;35mScoring model             \u001b[0m\u001b[1;35m \u001b[0m┃\u001b[1;35m \u001b[0m\u001b[1;35mScore\u001b[0m\u001b[1;35m \u001b[0m┃\u001b[1;35m \u001b[0m\u001b[1;35mHaiku                             \u001b[0m\u001b[1;35m \u001b[0m┃\n",
       "┡━━━━━━━━━━━━━━━━━━━━━━━━━━━━╇━━━━━━━━━━━━━━━━━━━━━━━━━━━━╇━━━━━━━╇━━━━━━━━━━━━━━━━━━━━━━━━━━━━━━━━━━━━┩\n",
       "│\u001b[2m \u001b[0m\u001b[2mclaude-3-5-sonnet-20240620\u001b[0m\u001b[2m \u001b[0m│\u001b[2m \u001b[0m\u001b[2mclaude-3-5-sonnet-20240620\u001b[0m\u001b[2m \u001b[0m│\u001b[2m \u001b[0m\u001b[2m7    \u001b[0m\u001b[2m \u001b[0m│\u001b[2m \u001b[0m\u001b[2mFickle winds whisper              \u001b[0m\u001b[2m \u001b[0m│\n",
       "│\u001b[2m                            \u001b[0m│\u001b[2m                            \u001b[0m│\u001b[2m       \u001b[0m│\u001b[2m \u001b[0m\u001b[2mMaple leaves dance, snow then sun \u001b[0m\u001b[2m \u001b[0m│\n",
       "├────────────────────────────┼────────────────────────────┼───────┼────────────────────────────────────┤\n",
       "│\u001b[2m \u001b[0m\u001b[2mclaude-3-5-sonnet-20240620\u001b[0m\u001b[2m \u001b[0m│\u001b[2m \u001b[0m\u001b[2mgemini-pro                \u001b[0m\u001b[2m \u001b[0m│\u001b[2m \u001b[0m\u001b[2m8    \u001b[0m\u001b[2m \u001b[0m│\u001b[2m \u001b[0m\u001b[2mFickle winds whisper              \u001b[0m\u001b[2m \u001b[0m│\n",
       "│\u001b[2m                            \u001b[0m│\u001b[2m                            \u001b[0m│\u001b[2m       \u001b[0m│\u001b[2m \u001b[0m\u001b[2mMaple leaves dance, snow then sun \u001b[0m\u001b[2m \u001b[0m│\n",
       "├────────────────────────────┼────────────────────────────┼───────┼────────────────────────────────────┤\n",
       "│\u001b[2m \u001b[0m\u001b[2mclaude-3-5-sonnet-20240620\u001b[0m\u001b[2m \u001b[0m│\u001b[2m \u001b[0m\u001b[2mgpt-4o                    \u001b[0m\u001b[2m \u001b[0m│\u001b[2m \u001b[0m\u001b[2m7    \u001b[0m\u001b[2m \u001b[0m│\u001b[2m \u001b[0m\u001b[2mFickle winds whisper              \u001b[0m\u001b[2m \u001b[0m│\n",
       "│\u001b[2m                            \u001b[0m│\u001b[2m                            \u001b[0m│\u001b[2m       \u001b[0m│\u001b[2m \u001b[0m\u001b[2mMaple leaves dance, snow then sun \u001b[0m\u001b[2m \u001b[0m│\n",
       "├────────────────────────────┼────────────────────────────┼───────┼────────────────────────────────────┤\n",
       "│\u001b[2m \u001b[0m\u001b[2mgemini-pro                \u001b[0m\u001b[2m \u001b[0m│\u001b[2m \u001b[0m\u001b[2mclaude-3-5-sonnet-20240620\u001b[0m\u001b[2m \u001b[0m│\u001b[2m \u001b[0m\u001b[2m6    \u001b[0m\u001b[2m \u001b[0m│\u001b[2m \u001b[0m\u001b[2mSnow falls soft and white,        \u001b[0m\u001b[2m \u001b[0m│\n",
       "│\u001b[2m                            \u001b[0m│\u001b[2m                            \u001b[0m│\u001b[2m       \u001b[0m│\u001b[2m \u001b[0m\u001b[2mSpring brings rain, summer's heat,\u001b[0m\u001b[2m \u001b[0m│\n",
       "├────────────────────────────┼────────────────────────────┼───────┼────────────────────────────────────┤\n",
       "│\u001b[2m \u001b[0m\u001b[2mgemini-pro                \u001b[0m\u001b[2m \u001b[0m│\u001b[2m \u001b[0m\u001b[2mgemini-pro                \u001b[0m\u001b[2m \u001b[0m│\u001b[2m \u001b[0m\u001b[2m5    \u001b[0m\u001b[2m \u001b[0m│\u001b[2m \u001b[0m\u001b[2mSnow falls soft and white,        \u001b[0m\u001b[2m \u001b[0m│\n",
       "│\u001b[2m                            \u001b[0m│\u001b[2m                            \u001b[0m│\u001b[2m       \u001b[0m│\u001b[2m \u001b[0m\u001b[2mSpring brings rain, summer's heat,\u001b[0m\u001b[2m \u001b[0m│\n",
       "├────────────────────────────┼────────────────────────────┼───────┼────────────────────────────────────┤\n",
       "│\u001b[2m \u001b[0m\u001b[2mgemini-pro                \u001b[0m\u001b[2m \u001b[0m│\u001b[2m \u001b[0m\u001b[2mgpt-4o                    \u001b[0m\u001b[2m \u001b[0m│\u001b[2m \u001b[0m\u001b[2m4    \u001b[0m\u001b[2m \u001b[0m│\u001b[2m \u001b[0m\u001b[2mSnow falls soft and white,        \u001b[0m\u001b[2m \u001b[0m│\n",
       "│\u001b[2m                            \u001b[0m│\u001b[2m                            \u001b[0m│\u001b[2m       \u001b[0m│\u001b[2m \u001b[0m\u001b[2mSpring brings rain, summer's heat,\u001b[0m\u001b[2m \u001b[0m│\n",
       "├────────────────────────────┼────────────────────────────┼───────┼────────────────────────────────────┤\n",
       "│\u001b[2m \u001b[0m\u001b[2mgpt-4o                    \u001b[0m\u001b[2m \u001b[0m│\u001b[2m \u001b[0m\u001b[2mclaude-3-5-sonnet-20240620\u001b[0m\u001b[2m \u001b[0m│\u001b[2m \u001b[0m\u001b[2m6    \u001b[0m\u001b[2m \u001b[0m│\u001b[2m \u001b[0m\u001b[2mMaple leaves flutter,             \u001b[0m\u001b[2m \u001b[0m│\n",
       "│\u001b[2m                            \u001b[0m│\u001b[2m                            \u001b[0m│\u001b[2m       \u001b[0m│\u001b[2m \u001b[0m\u001b[2mMist dances on cool breeze,       \u001b[0m\u001b[2m \u001b[0m│\n",
       "├────────────────────────────┼────────────────────────────┼───────┼────────────────────────────────────┤\n",
       "│\u001b[2m \u001b[0m\u001b[2mgpt-4o                    \u001b[0m\u001b[2m \u001b[0m│\u001b[2m \u001b[0m\u001b[2mgemini-pro                \u001b[0m\u001b[2m \u001b[0m│\u001b[2m \u001b[0m\u001b[2m5    \u001b[0m\u001b[2m \u001b[0m│\u001b[2m \u001b[0m\u001b[2mMaple leaves flutter,             \u001b[0m\u001b[2m \u001b[0m│\n",
       "│\u001b[2m                            \u001b[0m│\u001b[2m                            \u001b[0m│\u001b[2m       \u001b[0m│\u001b[2m \u001b[0m\u001b[2mMist dances on cool breeze,       \u001b[0m\u001b[2m \u001b[0m│\n",
       "├────────────────────────────┼────────────────────────────┼───────┼────────────────────────────────────┤\n",
       "│\u001b[2m \u001b[0m\u001b[2mgpt-4o                    \u001b[0m\u001b[2m \u001b[0m│\u001b[2m \u001b[0m\u001b[2mgpt-4o                    \u001b[0m\u001b[2m \u001b[0m│\u001b[2m \u001b[0m\u001b[2m9    \u001b[0m\u001b[2m \u001b[0m│\u001b[2m \u001b[0m\u001b[2mMaple leaves flutter,             \u001b[0m\u001b[2m \u001b[0m│\n",
       "│\u001b[2m                            \u001b[0m│\u001b[2m                            \u001b[0m│\u001b[2m       \u001b[0m│\u001b[2m \u001b[0m\u001b[2mMist dances on cool breeze,       \u001b[0m\u001b[2m \u001b[0m│\n",
       "└────────────────────────────┴────────────────────────────┴───────┴────────────────────────────────────┘\n"
      ]
     },
     "metadata": {},
     "output_type": "display_data"
    }
   ],
   "source": [
    "(\n",
    "    results.sort_by(\"drafting_model\", \"model\")\n",
    "    .select(\"drafting_model\", \"model\", \"score\", \"haiku\")\n",
    "    .print(\n",
    "        pretty_labels = {\n",
    "            \"scenario.drafting_model\": \"Drafting model\",\n",
    "            \"model.model\": \"Scoring model\",\n",
    "            \"answer.score\": \"Score\",\n",
    "            \"scenario.haiku\": \"Haiku\"\n",
    "        },\n",
    "        format=\"rich\"\n",
    "    )\n",
    ")"
   ]
  },
  {
   "cell_type": "markdown",
   "metadata": {
    "editable": true,
    "slideshow": {
     "slide_type": ""
    },
    "tags": []
   },
   "source": [
    "## Posting to the Coop\n",
    "The [Coop](https://www.expectedparrot.com/explore) is a platform for creating, storing and sharing LLM-based research.\n",
    "It is fully integrated with EDSL and accessible from your workspace or Coop account page.\n",
    "Learn more about [creating an account](https://www.expectedparrot.com/login) and [using the Coop](https://docs.expectedparrot.com/en/latest/coop.html).\n",
    "\n",
    "Here we post this notebook:"
   ]
  },
  {
   "cell_type": "code",
   "execution_count": 13,
   "metadata": {
    "editable": true,
    "slideshow": {
     "slide_type": ""
    },
    "tags": [
     "skip-execution"
    ]
   },
   "outputs": [],
   "source": [
    "from edsl import Notebook"
   ]
  },
  {
   "cell_type": "code",
   "execution_count": 14,
   "metadata": {
    "editable": true,
    "slideshow": {
     "slide_type": ""
    },
    "tags": [
     "skip-execution"
    ]
   },
   "outputs": [],
   "source": [
    "n = Notebook(path = \"explore_llm_biases.ipynb\")"
   ]
  },
  {
   "cell_type": "code",
   "execution_count": 15,
   "metadata": {
    "editable": true,
    "slideshow": {
     "slide_type": ""
    },
    "tags": [
     "skip-execution"
    ]
   },
   "outputs": [
    {
     "data": {
      "text/plain": [
       "{'description': 'Example code for comparing model responses and biases',\n",
       " 'object_type': 'notebook',\n",
       " 'url': 'https://www.expectedparrot.com/content/07ec8176-c07e-4f83-acd5-791e3d9324d2',\n",
       " 'uuid': '07ec8176-c07e-4f83-acd5-791e3d9324d2',\n",
       " 'version': '0.1.33.dev1',\n",
       " 'visibility': 'public'}"
      ]
     },
     "execution_count": 15,
     "metadata": {},
     "output_type": "execute_result"
    }
   ],
   "source": [
    "n.push(description = \"Example code for comparing model responses and biases\", visibility = \"public\")"
   ]
  },
  {
   "cell_type": "markdown",
   "metadata": {
    "editable": true,
    "slideshow": {
     "slide_type": ""
    },
    "tags": []
   },
   "source": [
    "To update an object:"
   ]
  },
  {
   "cell_type": "code",
   "execution_count": 16,
   "metadata": {
    "editable": true,
    "slideshow": {
     "slide_type": ""
    },
    "tags": [
     "skip-execution"
    ]
   },
   "outputs": [],
   "source": [
    "n = Notebook(path = \"explore_llm_biases.ipynb\") # resave it"
   ]
  },
  {
   "cell_type": "code",
   "execution_count": 17,
   "metadata": {
    "editable": true,
    "slideshow": {
     "slide_type": ""
    },
    "tags": [
     "skip-execution"
    ]
   },
   "outputs": [
    {
     "data": {
      "text/plain": [
       "{'status': 'success'}"
      ]
     },
     "execution_count": 17,
     "metadata": {},
     "output_type": "execute_result"
    }
   ],
   "source": [
    "n.patch(uuid = \"07ec8176-c07e-4f83-acd5-791e3d9324d2\", value = n)"
   ]
  }
 ],
 "metadata": {
  "deepnote_execution_queue": [],
  "deepnote_notebook_id": "6d1e666ba52649708894044c2a755567",
  "deepnote_persisted_session": {
   "createdAt": "2024-03-01T17:07:23.650Z"
  },
  "kernelspec": {
   "display_name": "Python 3 (ipykernel)",
   "language": "python",
   "name": "python3"
  },
  "language_info": {
   "codemirror_mode": {
    "name": "ipython",
    "version": 3
   },
   "file_extension": ".py",
   "mimetype": "text/x-python",
   "name": "python",
   "nbconvert_exporter": "python",
   "pygments_lexer": "ipython3",
   "version": "3.11.7"
  }
 },
 "nbformat": 4,
 "nbformat_minor": 4
}
