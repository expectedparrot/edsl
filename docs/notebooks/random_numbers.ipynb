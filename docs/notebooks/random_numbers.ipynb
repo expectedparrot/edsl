{
 "cells": [
  {
   "cell_type": "markdown",
   "id": "9a48df8e-d5fd-4f80-9ca5-a7b50fd71800",
   "metadata": {
    "editable": true,
    "slideshow": {
     "slide_type": ""
    },
    "tags": []
   },
   "source": [
    "# Simulating randomness\n",
    "This notebook provides example EDSL code for exploring ways of prompting AI agents to return \"random\" numbers. We do this by passing agents different instructions for picking a number at random, and by including and excluding memories of prior selections.\n",
    "\n",
    "We also show how to use the `QuestionFunctional` question type to compare the responses using a function instead of calling a model. [Learn more about this question type](https://docs.expectedparrot.com/en/latest/questions.html#questionfunctional-class)."
   ]
  },
  {
   "cell_type": "markdown",
   "id": "c73d46e2-8444-42a9-8276-71f7811e770e",
   "metadata": {
    "editable": true,
    "slideshow": {
     "slide_type": ""
    },
    "tags": []
   },
   "source": [
    "## Creating questions to generate \"random\" numbers\n",
    "We start by creating some questions prompting an agent to return a single random number and a list of random numbers. We then combine the questions in a survey and add \"memories\" of prior questions to some of the questions in order to compare responses generated with and without information about other responses. We also investigate how agents handle instructions to ignore a prior response that is nevertheless included, and to an instruction to return a list of random numbers all at once. This code is readily editable for further exploration, such as adding agent traits and personas to compare their additional impact on responses."
   ]
  },
  {
   "cell_type": "code",
   "execution_count": 1,
   "id": "84943150-2aef-4631-8039-2f2fdf32876c",
   "metadata": {
    "editable": true,
    "slideshow": {
     "slide_type": ""
    },
    "tags": []
   },
   "outputs": [
    {
     "data": {
      "text/html": [
       "<pre style=\"white-space:pre;overflow-x:auto;line-height:normal;font-family:Menlo,'DejaVu Sans Mono',consolas,'Courier New',monospace\">┏━━━━━━━━━━━━━━━━━━━━━━━━━━┳━━━━━━━━━┳━━━━━━━━━━━━━━━━━━━┳━━━━━━━━━━━━━━━━┳━━━━━━━━━━━━━━━━┳━━━━━━━━━━━━━━━━━━━━━━┓\n",
       "┃<span style=\"color: #800080; text-decoration-color: #800080; font-weight: bold\"> agent                    </span>┃<span style=\"color: #800080; text-decoration-color: #800080; font-weight: bold\"> answer  </span>┃<span style=\"color: #800080; text-decoration-color: #800080; font-weight: bold\"> answer            </span>┃<span style=\"color: #800080; text-decoration-color: #800080; font-weight: bold\"> answer         </span>┃<span style=\"color: #800080; text-decoration-color: #800080; font-weight: bold\"> answer         </span>┃<span style=\"color: #800080; text-decoration-color: #800080; font-weight: bold\"> answer               </span>┃\n",
       "┃<span style=\"color: #800080; text-decoration-color: #800080; font-weight: bold\"> .agent_instruction       </span>┃<span style=\"color: #800080; text-decoration-color: #800080; font-weight: bold\"> .random </span>┃<span style=\"color: #800080; text-decoration-color: #800080; font-weight: bold\"> .random_no_memory </span>┃<span style=\"color: #800080; text-decoration-color: #800080; font-weight: bold\"> .random_memory </span>┃<span style=\"color: #800080; text-decoration-color: #800080; font-weight: bold\"> .random_ignore </span>┃<span style=\"color: #800080; text-decoration-color: #800080; font-weight: bold\"> .random_list         </span>┃\n",
       "┡━━━━━━━━━━━━━━━━━━━━━━━━━━╇━━━━━━━━━╇━━━━━━━━━━━━━━━━━━━╇━━━━━━━━━━━━━━━━╇━━━━━━━━━━━━━━━━╇━━━━━━━━━━━━━━━━━━━━━━┩\n",
       "│<span style=\"color: #7f7f7f; text-decoration-color: #7f7f7f\"> Respond as if you are    </span>│<span style=\"color: #7f7f7f; text-decoration-color: #7f7f7f\"> 42      </span>│<span style=\"color: #7f7f7f; text-decoration-color: #7f7f7f\"> 42                </span>│<span style=\"color: #7f7f7f; text-decoration-color: #7f7f7f\"> 76             </span>│<span style=\"color: #7f7f7f; text-decoration-color: #7f7f7f\"> 73             </span>│<span style=\"color: #7f7f7f; text-decoration-color: #7f7f7f\"> [23, 47, 58, 76, 89] </span>│\n",
       "│<span style=\"color: #7f7f7f; text-decoration-color: #7f7f7f\"> testing software.        </span>│<span style=\"color: #7f7f7f; text-decoration-color: #7f7f7f\">         </span>│<span style=\"color: #7f7f7f; text-decoration-color: #7f7f7f\">                   </span>│<span style=\"color: #7f7f7f; text-decoration-color: #7f7f7f\">                </span>│<span style=\"color: #7f7f7f; text-decoration-color: #7f7f7f\">                </span>│<span style=\"color: #7f7f7f; text-decoration-color: #7f7f7f\">                      </span>│\n",
       "├──────────────────────────┼─────────┼───────────────────┼────────────────┼────────────────┼──────────────────────┤\n",
       "│<span style=\"color: #7f7f7f; text-decoration-color: #7f7f7f\"> Respond erratically.     </span>│<span style=\"color: #7f7f7f; text-decoration-color: #7f7f7f\"> 42      </span>│<span style=\"color: #7f7f7f; text-decoration-color: #7f7f7f\"> 42                </span>│<span style=\"color: #7f7f7f; text-decoration-color: #7f7f7f\"> 73             </span>│<span style=\"color: #7f7f7f; text-decoration-color: #7f7f7f\"> 73             </span>│<span style=\"color: #7f7f7f; text-decoration-color: #7f7f7f\"> [42, 17, 89, 23, 56] </span>│\n",
       "├──────────────────────────┼─────────┼───────────────────┼────────────────┼────────────────┼──────────────────────┤\n",
       "│<span style=\"color: #7f7f7f; text-decoration-color: #7f7f7f\"> Respond as if you are    </span>│<span style=\"color: #7f7f7f; text-decoration-color: #7f7f7f\"> 42      </span>│<span style=\"color: #7f7f7f; text-decoration-color: #7f7f7f\"> 42                </span>│<span style=\"color: #7f7f7f; text-decoration-color: #7f7f7f\"> 78             </span>│<span style=\"color: #7f7f7f; text-decoration-color: #7f7f7f\"> 57             </span>│<span style=\"color: #7f7f7f; text-decoration-color: #7f7f7f\"> [17, 42, 58, 73, 91] </span>│\n",
       "│<span style=\"color: #7f7f7f; text-decoration-color: #7f7f7f\"> playing a game.          </span>│<span style=\"color: #7f7f7f; text-decoration-color: #7f7f7f\">         </span>│<span style=\"color: #7f7f7f; text-decoration-color: #7f7f7f\">                   </span>│<span style=\"color: #7f7f7f; text-decoration-color: #7f7f7f\">                </span>│<span style=\"color: #7f7f7f; text-decoration-color: #7f7f7f\">                </span>│<span style=\"color: #7f7f7f; text-decoration-color: #7f7f7f\">                      </span>│\n",
       "├──────────────────────────┼─────────┼───────────────────┼────────────────┼────────────────┼──────────────────────┤\n",
       "│<span style=\"color: #7f7f7f; text-decoration-color: #7f7f7f\"> Respond as if you are a  </span>│<span style=\"color: #7f7f7f; text-decoration-color: #7f7f7f\"> 47      </span>│<span style=\"color: #7f7f7f; text-decoration-color: #7f7f7f\"> 47                </span>│<span style=\"color: #7f7f7f; text-decoration-color: #7f7f7f\"> 73             </span>│<span style=\"color: #7f7f7f; text-decoration-color: #7f7f7f\"> 73             </span>│<span style=\"color: #7f7f7f; text-decoration-color: #7f7f7f\"> [17, 43, 68, 91, 25] </span>│\n",
       "│<span style=\"color: #7f7f7f; text-decoration-color: #7f7f7f\"> real human trying to     </span>│<span style=\"color: #7f7f7f; text-decoration-color: #7f7f7f\">         </span>│<span style=\"color: #7f7f7f; text-decoration-color: #7f7f7f\">                   </span>│<span style=\"color: #7f7f7f; text-decoration-color: #7f7f7f\">                </span>│<span style=\"color: #7f7f7f; text-decoration-color: #7f7f7f\">                </span>│<span style=\"color: #7f7f7f; text-decoration-color: #7f7f7f\">                      </span>│\n",
       "│<span style=\"color: #7f7f7f; text-decoration-color: #7f7f7f\"> pick randomly.           </span>│<span style=\"color: #7f7f7f; text-decoration-color: #7f7f7f\">         </span>│<span style=\"color: #7f7f7f; text-decoration-color: #7f7f7f\">                   </span>│<span style=\"color: #7f7f7f; text-decoration-color: #7f7f7f\">                </span>│<span style=\"color: #7f7f7f; text-decoration-color: #7f7f7f\">                </span>│<span style=\"color: #7f7f7f; text-decoration-color: #7f7f7f\">                      </span>│\n",
       "├──────────────────────────┼─────────┼───────────────────┼────────────────┼────────────────┼──────────────────────┤\n",
       "│<span style=\"color: #7f7f7f; text-decoration-color: #7f7f7f\"> Respond as if you are    </span>│<span style=\"color: #7f7f7f; text-decoration-color: #7f7f7f\"> 57      </span>│<span style=\"color: #7f7f7f; text-decoration-color: #7f7f7f\"> 57                </span>│<span style=\"color: #7f7f7f; text-decoration-color: #7f7f7f\"> 73             </span>│<span style=\"color: #7f7f7f; text-decoration-color: #7f7f7f\"> 34             </span>│<span style=\"color: #7f7f7f; text-decoration-color: #7f7f7f\"> [27, 54, 89, 12, 63] </span>│\n",
       "│<span style=\"color: #7f7f7f; text-decoration-color: #7f7f7f\"> choosing among           </span>│<span style=\"color: #7f7f7f; text-decoration-color: #7f7f7f\">         </span>│<span style=\"color: #7f7f7f; text-decoration-color: #7f7f7f\">                   </span>│<span style=\"color: #7f7f7f; text-decoration-color: #7f7f7f\">                </span>│<span style=\"color: #7f7f7f; text-decoration-color: #7f7f7f\">                </span>│<span style=\"color: #7f7f7f; text-decoration-color: #7f7f7f\">                      </span>│\n",
       "│<span style=\"color: #7f7f7f; text-decoration-color: #7f7f7f\"> indistinguishable        </span>│<span style=\"color: #7f7f7f; text-decoration-color: #7f7f7f\">         </span>│<span style=\"color: #7f7f7f; text-decoration-color: #7f7f7f\">                   </span>│<span style=\"color: #7f7f7f; text-decoration-color: #7f7f7f\">                </span>│<span style=\"color: #7f7f7f; text-decoration-color: #7f7f7f\">                </span>│<span style=\"color: #7f7f7f; text-decoration-color: #7f7f7f\">                      </span>│\n",
       "│<span style=\"color: #7f7f7f; text-decoration-color: #7f7f7f\"> options.                 </span>│<span style=\"color: #7f7f7f; text-decoration-color: #7f7f7f\">         </span>│<span style=\"color: #7f7f7f; text-decoration-color: #7f7f7f\">                   </span>│<span style=\"color: #7f7f7f; text-decoration-color: #7f7f7f\">                </span>│<span style=\"color: #7f7f7f; text-decoration-color: #7f7f7f\">                </span>│<span style=\"color: #7f7f7f; text-decoration-color: #7f7f7f\">                      </span>│\n",
       "├──────────────────────────┼─────────┼───────────────────┼────────────────┼────────────────┼──────────────────────┤\n",
       "│<span style=\"color: #7f7f7f; text-decoration-color: #7f7f7f\"> Respond spontaneously.   </span>│<span style=\"color: #7f7f7f; text-decoration-color: #7f7f7f\"> 57      </span>│<span style=\"color: #7f7f7f; text-decoration-color: #7f7f7f\"> 57                </span>│<span style=\"color: #7f7f7f; text-decoration-color: #7f7f7f\"> 83             </span>│<span style=\"color: #7f7f7f; text-decoration-color: #7f7f7f\"> 23             </span>│<span style=\"color: #7f7f7f; text-decoration-color: #7f7f7f\"> [23, 47, 56, 81, 92] </span>│\n",
       "├──────────────────────────┼─────────┼───────────────────┼────────────────┼────────────────┼──────────────────────┤\n",
       "│<span style=\"color: #7f7f7f; text-decoration-color: #7f7f7f\"> Respond as if you are    </span>│<span style=\"color: #7f7f7f; text-decoration-color: #7f7f7f\"> 57      </span>│<span style=\"color: #7f7f7f; text-decoration-color: #7f7f7f\"> 57                </span>│<span style=\"color: #7f7f7f; text-decoration-color: #7f7f7f\"> 83             </span>│<span style=\"color: #7f7f7f; text-decoration-color: #7f7f7f\"> 42             </span>│<span style=\"color: #7f7f7f; text-decoration-color: #7f7f7f\"> [23, 47, 68, 5, 92]  </span>│\n",
       "│<span style=\"color: #7f7f7f; text-decoration-color: #7f7f7f\"> simulating actual random </span>│<span style=\"color: #7f7f7f; text-decoration-color: #7f7f7f\">         </span>│<span style=\"color: #7f7f7f; text-decoration-color: #7f7f7f\">                   </span>│<span style=\"color: #7f7f7f; text-decoration-color: #7f7f7f\">                </span>│<span style=\"color: #7f7f7f; text-decoration-color: #7f7f7f\">                </span>│<span style=\"color: #7f7f7f; text-decoration-color: #7f7f7f\">                      </span>│\n",
       "│<span style=\"color: #7f7f7f; text-decoration-color: #7f7f7f\"> events.                  </span>│<span style=\"color: #7f7f7f; text-decoration-color: #7f7f7f\">         </span>│<span style=\"color: #7f7f7f; text-decoration-color: #7f7f7f\">                   </span>│<span style=\"color: #7f7f7f; text-decoration-color: #7f7f7f\">                </span>│<span style=\"color: #7f7f7f; text-decoration-color: #7f7f7f\">                </span>│<span style=\"color: #7f7f7f; text-decoration-color: #7f7f7f\">                      </span>│\n",
       "├──────────────────────────┼─────────┼───────────────────┼────────────────┼────────────────┼──────────────────────┤\n",
       "│<span style=\"color: #7f7f7f; text-decoration-color: #7f7f7f\"> Respond as if you are    </span>│<span style=\"color: #7f7f7f; text-decoration-color: #7f7f7f\"> 72      </span>│<span style=\"color: #7f7f7f; text-decoration-color: #7f7f7f\"> 72                </span>│<span style=\"color: #7f7f7f; text-decoration-color: #7f7f7f\"> 45             </span>│<span style=\"color: #7f7f7f; text-decoration-color: #7f7f7f\"> 45             </span>│<span style=\"color: #7f7f7f; text-decoration-color: #7f7f7f\"> [12, 45, 67, 89, 23] </span>│\n",
       "│<span style=\"color: #7f7f7f; text-decoration-color: #7f7f7f\"> participating in a       </span>│<span style=\"color: #7f7f7f; text-decoration-color: #7f7f7f\">         </span>│<span style=\"color: #7f7f7f; text-decoration-color: #7f7f7f\">                   </span>│<span style=\"color: #7f7f7f; text-decoration-color: #7f7f7f\">                </span>│<span style=\"color: #7f7f7f; text-decoration-color: #7f7f7f\">                </span>│<span style=\"color: #7f7f7f; text-decoration-color: #7f7f7f\">                      </span>│\n",
       "│<span style=\"color: #7f7f7f; text-decoration-color: #7f7f7f\"> lottery.                 </span>│<span style=\"color: #7f7f7f; text-decoration-color: #7f7f7f\">         </span>│<span style=\"color: #7f7f7f; text-decoration-color: #7f7f7f\">                   </span>│<span style=\"color: #7f7f7f; text-decoration-color: #7f7f7f\">                </span>│<span style=\"color: #7f7f7f; text-decoration-color: #7f7f7f\">                </span>│<span style=\"color: #7f7f7f; text-decoration-color: #7f7f7f\">                      </span>│\n",
       "├──────────────────────────┼─────────┼───────────────────┼────────────────┼────────────────┼──────────────────────┤\n",
       "│<span style=\"color: #7f7f7f; text-decoration-color: #7f7f7f\"> Respond chaotically.     </span>│<span style=\"color: #7f7f7f; text-decoration-color: #7f7f7f\"> 73      </span>│<span style=\"color: #7f7f7f; text-decoration-color: #7f7f7f\"> 73                </span>│<span style=\"color: #7f7f7f; text-decoration-color: #7f7f7f\"> 42             </span>│<span style=\"color: #7f7f7f; text-decoration-color: #7f7f7f\"> 42             </span>│<span style=\"color: #7f7f7f; text-decoration-color: #7f7f7f\"> [17, 42, 88, 5, 96]  </span>│\n",
       "└──────────────────────────┴─────────┴───────────────────┴────────────────┴────────────────┴──────────────────────┘\n",
       "</pre>\n"
      ],
      "text/plain": [
       "┏━━━━━━━━━━━━━━━━━━━━━━━━━━┳━━━━━━━━━┳━━━━━━━━━━━━━━━━━━━┳━━━━━━━━━━━━━━━━┳━━━━━━━━━━━━━━━━┳━━━━━━━━━━━━━━━━━━━━━━┓\n",
       "┃\u001b[1;35m \u001b[0m\u001b[1;35magent                   \u001b[0m\u001b[1;35m \u001b[0m┃\u001b[1;35m \u001b[0m\u001b[1;35manswer \u001b[0m\u001b[1;35m \u001b[0m┃\u001b[1;35m \u001b[0m\u001b[1;35manswer           \u001b[0m\u001b[1;35m \u001b[0m┃\u001b[1;35m \u001b[0m\u001b[1;35manswer        \u001b[0m\u001b[1;35m \u001b[0m┃\u001b[1;35m \u001b[0m\u001b[1;35manswer        \u001b[0m\u001b[1;35m \u001b[0m┃\u001b[1;35m \u001b[0m\u001b[1;35manswer              \u001b[0m\u001b[1;35m \u001b[0m┃\n",
       "┃\u001b[1;35m \u001b[0m\u001b[1;35m.agent_instruction      \u001b[0m\u001b[1;35m \u001b[0m┃\u001b[1;35m \u001b[0m\u001b[1;35m.random\u001b[0m\u001b[1;35m \u001b[0m┃\u001b[1;35m \u001b[0m\u001b[1;35m.random_no_memory\u001b[0m\u001b[1;35m \u001b[0m┃\u001b[1;35m \u001b[0m\u001b[1;35m.random_memory\u001b[0m\u001b[1;35m \u001b[0m┃\u001b[1;35m \u001b[0m\u001b[1;35m.random_ignore\u001b[0m\u001b[1;35m \u001b[0m┃\u001b[1;35m \u001b[0m\u001b[1;35m.random_list        \u001b[0m\u001b[1;35m \u001b[0m┃\n",
       "┡━━━━━━━━━━━━━━━━━━━━━━━━━━╇━━━━━━━━━╇━━━━━━━━━━━━━━━━━━━╇━━━━━━━━━━━━━━━━╇━━━━━━━━━━━━━━━━╇━━━━━━━━━━━━━━━━━━━━━━┩\n",
       "│\u001b[2m \u001b[0m\u001b[2mRespond as if you are   \u001b[0m\u001b[2m \u001b[0m│\u001b[2m \u001b[0m\u001b[2m42     \u001b[0m\u001b[2m \u001b[0m│\u001b[2m \u001b[0m\u001b[2m42               \u001b[0m\u001b[2m \u001b[0m│\u001b[2m \u001b[0m\u001b[2m76            \u001b[0m\u001b[2m \u001b[0m│\u001b[2m \u001b[0m\u001b[2m73            \u001b[0m\u001b[2m \u001b[0m│\u001b[2m \u001b[0m\u001b[2m[23, 47, 58, 76, 89]\u001b[0m\u001b[2m \u001b[0m│\n",
       "│\u001b[2m \u001b[0m\u001b[2mtesting software.       \u001b[0m\u001b[2m \u001b[0m│\u001b[2m         \u001b[0m│\u001b[2m                   \u001b[0m│\u001b[2m                \u001b[0m│\u001b[2m                \u001b[0m│\u001b[2m                      \u001b[0m│\n",
       "├──────────────────────────┼─────────┼───────────────────┼────────────────┼────────────────┼──────────────────────┤\n",
       "│\u001b[2m \u001b[0m\u001b[2mRespond erratically.    \u001b[0m\u001b[2m \u001b[0m│\u001b[2m \u001b[0m\u001b[2m42     \u001b[0m\u001b[2m \u001b[0m│\u001b[2m \u001b[0m\u001b[2m42               \u001b[0m\u001b[2m \u001b[0m│\u001b[2m \u001b[0m\u001b[2m73            \u001b[0m\u001b[2m \u001b[0m│\u001b[2m \u001b[0m\u001b[2m73            \u001b[0m\u001b[2m \u001b[0m│\u001b[2m \u001b[0m\u001b[2m[42, 17, 89, 23, 56]\u001b[0m\u001b[2m \u001b[0m│\n",
       "├──────────────────────────┼─────────┼───────────────────┼────────────────┼────────────────┼──────────────────────┤\n",
       "│\u001b[2m \u001b[0m\u001b[2mRespond as if you are   \u001b[0m\u001b[2m \u001b[0m│\u001b[2m \u001b[0m\u001b[2m42     \u001b[0m\u001b[2m \u001b[0m│\u001b[2m \u001b[0m\u001b[2m42               \u001b[0m\u001b[2m \u001b[0m│\u001b[2m \u001b[0m\u001b[2m78            \u001b[0m\u001b[2m \u001b[0m│\u001b[2m \u001b[0m\u001b[2m57            \u001b[0m\u001b[2m \u001b[0m│\u001b[2m \u001b[0m\u001b[2m[17, 42, 58, 73, 91]\u001b[0m\u001b[2m \u001b[0m│\n",
       "│\u001b[2m \u001b[0m\u001b[2mplaying a game.         \u001b[0m\u001b[2m \u001b[0m│\u001b[2m         \u001b[0m│\u001b[2m                   \u001b[0m│\u001b[2m                \u001b[0m│\u001b[2m                \u001b[0m│\u001b[2m                      \u001b[0m│\n",
       "├──────────────────────────┼─────────┼───────────────────┼────────────────┼────────────────┼──────────────────────┤\n",
       "│\u001b[2m \u001b[0m\u001b[2mRespond as if you are a \u001b[0m\u001b[2m \u001b[0m│\u001b[2m \u001b[0m\u001b[2m47     \u001b[0m\u001b[2m \u001b[0m│\u001b[2m \u001b[0m\u001b[2m47               \u001b[0m\u001b[2m \u001b[0m│\u001b[2m \u001b[0m\u001b[2m73            \u001b[0m\u001b[2m \u001b[0m│\u001b[2m \u001b[0m\u001b[2m73            \u001b[0m\u001b[2m \u001b[0m│\u001b[2m \u001b[0m\u001b[2m[17, 43, 68, 91, 25]\u001b[0m\u001b[2m \u001b[0m│\n",
       "│\u001b[2m \u001b[0m\u001b[2mreal human trying to    \u001b[0m\u001b[2m \u001b[0m│\u001b[2m         \u001b[0m│\u001b[2m                   \u001b[0m│\u001b[2m                \u001b[0m│\u001b[2m                \u001b[0m│\u001b[2m                      \u001b[0m│\n",
       "│\u001b[2m \u001b[0m\u001b[2mpick randomly.          \u001b[0m\u001b[2m \u001b[0m│\u001b[2m         \u001b[0m│\u001b[2m                   \u001b[0m│\u001b[2m                \u001b[0m│\u001b[2m                \u001b[0m│\u001b[2m                      \u001b[0m│\n",
       "├──────────────────────────┼─────────┼───────────────────┼────────────────┼────────────────┼──────────────────────┤\n",
       "│\u001b[2m \u001b[0m\u001b[2mRespond as if you are   \u001b[0m\u001b[2m \u001b[0m│\u001b[2m \u001b[0m\u001b[2m57     \u001b[0m\u001b[2m \u001b[0m│\u001b[2m \u001b[0m\u001b[2m57               \u001b[0m\u001b[2m \u001b[0m│\u001b[2m \u001b[0m\u001b[2m73            \u001b[0m\u001b[2m \u001b[0m│\u001b[2m \u001b[0m\u001b[2m34            \u001b[0m\u001b[2m \u001b[0m│\u001b[2m \u001b[0m\u001b[2m[27, 54, 89, 12, 63]\u001b[0m\u001b[2m \u001b[0m│\n",
       "│\u001b[2m \u001b[0m\u001b[2mchoosing among          \u001b[0m\u001b[2m \u001b[0m│\u001b[2m         \u001b[0m│\u001b[2m                   \u001b[0m│\u001b[2m                \u001b[0m│\u001b[2m                \u001b[0m│\u001b[2m                      \u001b[0m│\n",
       "│\u001b[2m \u001b[0m\u001b[2mindistinguishable       \u001b[0m\u001b[2m \u001b[0m│\u001b[2m         \u001b[0m│\u001b[2m                   \u001b[0m│\u001b[2m                \u001b[0m│\u001b[2m                \u001b[0m│\u001b[2m                      \u001b[0m│\n",
       "│\u001b[2m \u001b[0m\u001b[2moptions.                \u001b[0m\u001b[2m \u001b[0m│\u001b[2m         \u001b[0m│\u001b[2m                   \u001b[0m│\u001b[2m                \u001b[0m│\u001b[2m                \u001b[0m│\u001b[2m                      \u001b[0m│\n",
       "├──────────────────────────┼─────────┼───────────────────┼────────────────┼────────────────┼──────────────────────┤\n",
       "│\u001b[2m \u001b[0m\u001b[2mRespond spontaneously.  \u001b[0m\u001b[2m \u001b[0m│\u001b[2m \u001b[0m\u001b[2m57     \u001b[0m\u001b[2m \u001b[0m│\u001b[2m \u001b[0m\u001b[2m57               \u001b[0m\u001b[2m \u001b[0m│\u001b[2m \u001b[0m\u001b[2m83            \u001b[0m\u001b[2m \u001b[0m│\u001b[2m \u001b[0m\u001b[2m23            \u001b[0m\u001b[2m \u001b[0m│\u001b[2m \u001b[0m\u001b[2m[23, 47, 56, 81, 92]\u001b[0m\u001b[2m \u001b[0m│\n",
       "├──────────────────────────┼─────────┼───────────────────┼────────────────┼────────────────┼──────────────────────┤\n",
       "│\u001b[2m \u001b[0m\u001b[2mRespond as if you are   \u001b[0m\u001b[2m \u001b[0m│\u001b[2m \u001b[0m\u001b[2m57     \u001b[0m\u001b[2m \u001b[0m│\u001b[2m \u001b[0m\u001b[2m57               \u001b[0m\u001b[2m \u001b[0m│\u001b[2m \u001b[0m\u001b[2m83            \u001b[0m\u001b[2m \u001b[0m│\u001b[2m \u001b[0m\u001b[2m42            \u001b[0m\u001b[2m \u001b[0m│\u001b[2m \u001b[0m\u001b[2m[23, 47, 68, 5, 92] \u001b[0m\u001b[2m \u001b[0m│\n",
       "│\u001b[2m \u001b[0m\u001b[2msimulating actual random\u001b[0m\u001b[2m \u001b[0m│\u001b[2m         \u001b[0m│\u001b[2m                   \u001b[0m│\u001b[2m                \u001b[0m│\u001b[2m                \u001b[0m│\u001b[2m                      \u001b[0m│\n",
       "│\u001b[2m \u001b[0m\u001b[2mevents.                 \u001b[0m\u001b[2m \u001b[0m│\u001b[2m         \u001b[0m│\u001b[2m                   \u001b[0m│\u001b[2m                \u001b[0m│\u001b[2m                \u001b[0m│\u001b[2m                      \u001b[0m│\n",
       "├──────────────────────────┼─────────┼───────────────────┼────────────────┼────────────────┼──────────────────────┤\n",
       "│\u001b[2m \u001b[0m\u001b[2mRespond as if you are   \u001b[0m\u001b[2m \u001b[0m│\u001b[2m \u001b[0m\u001b[2m72     \u001b[0m\u001b[2m \u001b[0m│\u001b[2m \u001b[0m\u001b[2m72               \u001b[0m\u001b[2m \u001b[0m│\u001b[2m \u001b[0m\u001b[2m45            \u001b[0m\u001b[2m \u001b[0m│\u001b[2m \u001b[0m\u001b[2m45            \u001b[0m\u001b[2m \u001b[0m│\u001b[2m \u001b[0m\u001b[2m[12, 45, 67, 89, 23]\u001b[0m\u001b[2m \u001b[0m│\n",
       "│\u001b[2m \u001b[0m\u001b[2mparticipating in a      \u001b[0m\u001b[2m \u001b[0m│\u001b[2m         \u001b[0m│\u001b[2m                   \u001b[0m│\u001b[2m                \u001b[0m│\u001b[2m                \u001b[0m│\u001b[2m                      \u001b[0m│\n",
       "│\u001b[2m \u001b[0m\u001b[2mlottery.                \u001b[0m\u001b[2m \u001b[0m│\u001b[2m         \u001b[0m│\u001b[2m                   \u001b[0m│\u001b[2m                \u001b[0m│\u001b[2m                \u001b[0m│\u001b[2m                      \u001b[0m│\n",
       "├──────────────────────────┼─────────┼───────────────────┼────────────────┼────────────────┼──────────────────────┤\n",
       "│\u001b[2m \u001b[0m\u001b[2mRespond chaotically.    \u001b[0m\u001b[2m \u001b[0m│\u001b[2m \u001b[0m\u001b[2m73     \u001b[0m\u001b[2m \u001b[0m│\u001b[2m \u001b[0m\u001b[2m73               \u001b[0m\u001b[2m \u001b[0m│\u001b[2m \u001b[0m\u001b[2m42            \u001b[0m\u001b[2m \u001b[0m│\u001b[2m \u001b[0m\u001b[2m42            \u001b[0m\u001b[2m \u001b[0m│\u001b[2m \u001b[0m\u001b[2m[17, 42, 88, 5, 96] \u001b[0m\u001b[2m \u001b[0m│\n",
       "└──────────────────────────┴─────────┴───────────────────┴────────────────┴────────────────┴──────────────────────┘\n"
      ]
     },
     "metadata": {},
     "output_type": "display_data"
    }
   ],
   "source": [
    "from edsl import QuestionNumerical, QuestionList, Survey, AgentList, Agent\n",
    "\n",
    "q_random = QuestionNumerical(\n",
    "    question_name=\"random\", \n",
    "    question_text=\"Pick a random number between 1 and 100.\"\n",
    ")\n",
    "\n",
    "# We will administer this question with no memory of the prior question\n",
    "q_random_no_memory = QuestionNumerical(\n",
    "    question_name=\"random_no_memory\",\n",
    "    question_text=\"Pick a random number between 1 and 100.\",\n",
    ")\n",
    "\n",
    "# We will administer this question with a memory of the first question\n",
    "q_random_memory = QuestionNumerical(\n",
    "    question_name=\"random_memory\",\n",
    "    question_text=\"Pick a random number between 1 and 100.\",\n",
    ")\n",
    "\n",
    "# We will administer this question with a memory of the first question but instruct the agent to ignore it\n",
    "q_random_ignore = QuestionNumerical(\n",
    "    question_name=\"random_ignore\",\n",
    "    question_text=\"\"\"Pick a random number between 1 and 100.\n",
    "    Be sure to completely disregard the other random number that you picked.\"\"\",\n",
    ")\n",
    "\n",
    "# We will administer this question with no memory of prior questions\n",
    "q_random_list = QuestionList(\n",
    "    question_name=\"random_list\",\n",
    "    question_text=\"Pick 5 random numbers between 1 and 100. Return a list of integers.\",\n",
    "    max_list_items=5,\n",
    ")\n",
    "\n",
    "# Combine the questions in a survey\n",
    "survey = Survey(\n",
    "    [q_random, q_random_no_memory, q_random_memory, q_random_ignore, q_random_list]\n",
    ")\n",
    "\n",
    "# Adding targeted question memories - the prior question and answer become part of the new question prompt\n",
    "survey = (survey.add_targeted_memory(q_random_memory, q_random)\n",
    "          .add_targeted_memory(q_random_ignore, q_random)\n",
    "         )\n",
    "\n",
    "# Create a variety of instructions for the agents\n",
    "instructions = [\n",
    "    \"Respond as if you are a real human trying to pick randomly.\",\n",
    "    \"Respond as if you are simulating actual random events.\",\n",
    "    \"Respond as if you are playing a game.\",\n",
    "    \"Respond as if you are participating in a lottery.\",\n",
    "    \"Respond as if you are testing software.\",\n",
    "    \"Respond as if you are choosing among indistinguishable options.\",\n",
    "    \"Respond spontaneously.\",\n",
    "    \"Respond erratically.\",\n",
    "    \"Respond chaotically.\",\n",
    "]\n",
    "\n",
    "# Just pass the instructions - we could also explore variations in agent traits, eg personas or knowledge\n",
    "agents = AgentList(\n",
    "    Agent(traits={}, instruction=i) for i in instructions\n",
    ")\n",
    "\n",
    "results = survey.by(agents).run()\n",
    "\n",
    "(\n",
    "    results.sort_by(\"random\")\n",
    "    .select(\n",
    "        \"agent_instruction\",\n",
    "        \"random\",\n",
    "        \"random_no_memory\",\n",
    "        \"random_memory\",\n",
    "        \"random_ignore\",\n",
    "        \"random_list\",\n",
    "    )\n",
    "    .print(format=\"rich\")\n",
    ")"
   ]
  },
  {
   "cell_type": "markdown",
   "id": "bceeadb3-9ace-4cc3-89d4-647b9e45b181",
   "metadata": {
    "editable": true,
    "slideshow": {
     "slide_type": ""
    },
    "tags": []
   },
   "source": [
    "## Using `QuestionFunctional` to evaluate responses\n",
    "We can use question type `QuestionFunctional` to answer a question with a function instead of calling a model. This can be useful where a model is not needed for part of a survey. This question type lets us define a function for evaluating scenarios and (optionally) agent traits, which is passed as a parameter `func` to the question type in the following general format:\n",
    "\n",
    "```\n",
    "def my_function(scenario, agent_traits=None):\n",
    "    <some function>\n",
    "\n",
    "q = QuestionFunctional(\n",
    "    question_name = \"example\",\n",
    "    func = my_function\n",
    ")\n",
    "```"
   ]
  },
  {
   "cell_type": "markdown",
   "id": "2df97018-504b-475c-b0da-3d57e9a1673b",
   "metadata": {
    "editable": true,
    "slideshow": {
     "slide_type": ""
    },
    "tags": []
   },
   "source": [
    "Here we can use `QuestionFunctional` to compute some straightforward comparisons of the agents' \"random\" numbers. We start by creating scenarios of the responses to use as inputs to a function for comparing the numbers:"
   ]
  },
  {
   "cell_type": "code",
   "execution_count": 2,
   "id": "a9d43e56-cd40-470c-8007-257641812639",
   "metadata": {
    "editable": true,
    "slideshow": {
     "slide_type": ""
    },
    "tags": []
   },
   "outputs": [],
   "source": [
    "scenarios = results.select(\"agent_instruction\", \"random\", \"random_no_memory\").to_scenario_list()"
   ]
  },
  {
   "cell_type": "code",
   "execution_count": 3,
   "id": "9f66dfc5-e97d-492e-b008-44283498faf9",
   "metadata": {
    "editable": true,
    "slideshow": {
     "slide_type": ""
    },
    "tags": []
   },
   "outputs": [
    {
     "data": {
      "text/html": [
       "<div class=\"highlight\"><pre><span></span><span class=\"p\">{</span>\n",
       "<span class=\"w\">    </span><span class=\"nt\">&quot;scenarios&quot;</span><span class=\"p\">:</span><span class=\"w\"> </span><span class=\"p\">[</span>\n",
       "<span class=\"w\">        </span><span class=\"p\">{</span>\n",
       "<span class=\"w\">            </span><span class=\"nt\">&quot;agent_instruction&quot;</span><span class=\"p\">:</span><span class=\"w\"> </span><span class=\"s2\">&quot;Respond as if you are a real human trying to pick randomly.&quot;</span><span class=\"p\">,</span>\n",
       "<span class=\"w\">            </span><span class=\"nt\">&quot;random&quot;</span><span class=\"p\">:</span><span class=\"w\"> </span><span class=\"mi\">47</span><span class=\"p\">,</span>\n",
       "<span class=\"w\">            </span><span class=\"nt\">&quot;random_no_memory&quot;</span><span class=\"p\">:</span><span class=\"w\"> </span><span class=\"mi\">47</span>\n",
       "<span class=\"w\">        </span><span class=\"p\">},</span>\n",
       "<span class=\"w\">        </span><span class=\"p\">{</span>\n",
       "<span class=\"w\">            </span><span class=\"nt\">&quot;agent_instruction&quot;</span><span class=\"p\">:</span><span class=\"w\"> </span><span class=\"s2\">&quot;Respond as if you are participating in a lottery.&quot;</span><span class=\"p\">,</span>\n",
       "<span class=\"w\">            </span><span class=\"nt\">&quot;random&quot;</span><span class=\"p\">:</span><span class=\"w\"> </span><span class=\"mi\">72</span><span class=\"p\">,</span>\n",
       "<span class=\"w\">            </span><span class=\"nt\">&quot;random_no_memory&quot;</span><span class=\"p\">:</span><span class=\"w\"> </span><span class=\"mi\">72</span>\n",
       "<span class=\"w\">        </span><span class=\"p\">},</span>\n",
       "<span class=\"w\">        </span><span class=\"p\">{</span>\n",
       "<span class=\"w\">            </span><span class=\"nt\">&quot;agent_instruction&quot;</span><span class=\"p\">:</span><span class=\"w\"> </span><span class=\"s2\">&quot;Respond as if you are testing software.&quot;</span><span class=\"p\">,</span>\n",
       "<span class=\"w\">            </span><span class=\"nt\">&quot;random&quot;</span><span class=\"p\">:</span><span class=\"w\"> </span><span class=\"mi\">42</span><span class=\"p\">,</span>\n",
       "<span class=\"w\">            </span><span class=\"nt\">&quot;random_no_memory&quot;</span><span class=\"p\">:</span><span class=\"w\"> </span><span class=\"mi\">42</span>\n",
       "<span class=\"w\">        </span><span class=\"p\">},</span>\n",
       "<span class=\"w\">        </span><span class=\"p\">{</span>\n",
       "<span class=\"w\">            </span><span class=\"nt\">&quot;agent_instruction&quot;</span><span class=\"p\">:</span><span class=\"w\"> </span><span class=\"s2\">&quot;Respond as if you are choosing among indistinguishable options.&quot;</span><span class=\"p\">,</span>\n",
       "<span class=\"w\">            </span><span class=\"nt\">&quot;random&quot;</span><span class=\"p\">:</span><span class=\"w\"> </span><span class=\"mi\">57</span><span class=\"p\">,</span>\n",
       "<span class=\"w\">            </span><span class=\"nt\">&quot;random_no_memory&quot;</span><span class=\"p\">:</span><span class=\"w\"> </span><span class=\"mi\">57</span>\n",
       "<span class=\"w\">        </span><span class=\"p\">},</span>\n",
       "<span class=\"w\">        </span><span class=\"p\">{</span>\n",
       "<span class=\"w\">            </span><span class=\"nt\">&quot;agent_instruction&quot;</span><span class=\"p\">:</span><span class=\"w\"> </span><span class=\"s2\">&quot;Respond spontaneously.&quot;</span><span class=\"p\">,</span>\n",
       "<span class=\"w\">            </span><span class=\"nt\">&quot;random&quot;</span><span class=\"p\">:</span><span class=\"w\"> </span><span class=\"mi\">57</span><span class=\"p\">,</span>\n",
       "<span class=\"w\">            </span><span class=\"nt\">&quot;random_no_memory&quot;</span><span class=\"p\">:</span><span class=\"w\"> </span><span class=\"mi\">57</span>\n",
       "<span class=\"w\">        </span><span class=\"p\">},</span>\n",
       "<span class=\"w\">        </span><span class=\"p\">{</span>\n",
       "<span class=\"w\">            </span><span class=\"nt\">&quot;agent_instruction&quot;</span><span class=\"p\">:</span><span class=\"w\"> </span><span class=\"s2\">&quot;Respond erratically.&quot;</span><span class=\"p\">,</span>\n",
       "<span class=\"w\">            </span><span class=\"nt\">&quot;random&quot;</span><span class=\"p\">:</span><span class=\"w\"> </span><span class=\"mi\">42</span><span class=\"p\">,</span>\n",
       "<span class=\"w\">            </span><span class=\"nt\">&quot;random_no_memory&quot;</span><span class=\"p\">:</span><span class=\"w\"> </span><span class=\"mi\">42</span>\n",
       "<span class=\"w\">        </span><span class=\"p\">},</span>\n",
       "<span class=\"w\">        </span><span class=\"p\">{</span>\n",
       "<span class=\"w\">            </span><span class=\"nt\">&quot;agent_instruction&quot;</span><span class=\"p\">:</span><span class=\"w\"> </span><span class=\"s2\">&quot;Respond chaotically.&quot;</span><span class=\"p\">,</span>\n",
       "<span class=\"w\">            </span><span class=\"nt\">&quot;random&quot;</span><span class=\"p\">:</span><span class=\"w\"> </span><span class=\"mi\">73</span><span class=\"p\">,</span>\n",
       "<span class=\"w\">            </span><span class=\"nt\">&quot;random_no_memory&quot;</span><span class=\"p\">:</span><span class=\"w\"> </span><span class=\"mi\">73</span>\n",
       "<span class=\"w\">        </span><span class=\"p\">},</span>\n",
       "<span class=\"w\">        </span><span class=\"p\">{</span>\n",
       "<span class=\"w\">            </span><span class=\"nt\">&quot;agent_instruction&quot;</span><span class=\"p\">:</span><span class=\"w\"> </span><span class=\"s2\">&quot;Respond as if you are playing a game.&quot;</span><span class=\"p\">,</span>\n",
       "<span class=\"w\">            </span><span class=\"nt\">&quot;random&quot;</span><span class=\"p\">:</span><span class=\"w\"> </span><span class=\"mi\">42</span><span class=\"p\">,</span>\n",
       "<span class=\"w\">            </span><span class=\"nt\">&quot;random_no_memory&quot;</span><span class=\"p\">:</span><span class=\"w\"> </span><span class=\"mi\">42</span>\n",
       "<span class=\"w\">        </span><span class=\"p\">},</span>\n",
       "<span class=\"w\">        </span><span class=\"p\">{</span>\n",
       "<span class=\"w\">            </span><span class=\"nt\">&quot;agent_instruction&quot;</span><span class=\"p\">:</span><span class=\"w\"> </span><span class=\"s2\">&quot;Respond as if you are simulating actual random events.&quot;</span><span class=\"p\">,</span>\n",
       "<span class=\"w\">            </span><span class=\"nt\">&quot;random&quot;</span><span class=\"p\">:</span><span class=\"w\"> </span><span class=\"mi\">57</span><span class=\"p\">,</span>\n",
       "<span class=\"w\">            </span><span class=\"nt\">&quot;random_no_memory&quot;</span><span class=\"p\">:</span><span class=\"w\"> </span><span class=\"mi\">57</span>\n",
       "<span class=\"w\">        </span><span class=\"p\">}</span>\n",
       "<span class=\"w\">    </span><span class=\"p\">]</span>\n",
       "<span class=\"p\">}</span>\n",
       "</pre></div>\n"
      ],
      "text/plain": [
       "ScenarioList([Scenario({'agent_instruction': 'Respond as if you are a real human trying to pick randomly.', 'random': 47, 'random_no_memory': 47}), Scenario({'agent_instruction': 'Respond as if you are participating in a lottery.', 'random': 72, 'random_no_memory': 72}), Scenario({'agent_instruction': 'Respond as if you are testing software.', 'random': 42, 'random_no_memory': 42}), Scenario({'agent_instruction': 'Respond as if you are choosing among indistinguishable options.', 'random': 57, 'random_no_memory': 57}), Scenario({'agent_instruction': 'Respond spontaneously.', 'random': 57, 'random_no_memory': 57}), Scenario({'agent_instruction': 'Respond erratically.', 'random': 42, 'random_no_memory': 42}), Scenario({'agent_instruction': 'Respond chaotically.', 'random': 73, 'random_no_memory': 73}), Scenario({'agent_instruction': 'Respond as if you are playing a game.', 'random': 42, 'random_no_memory': 42}), Scenario({'agent_instruction': 'Respond as if you are simulating actual random events.', 'random': 57, 'random_no_memory': 57})])"
      ]
     },
     "execution_count": 3,
     "metadata": {},
     "output_type": "execute_result"
    }
   ],
   "source": [
    "scenarios"
   ]
  },
  {
   "cell_type": "markdown",
   "id": "8020ddf0-0f36-408c-9a56-b7230c44e3ef",
   "metadata": {
    "editable": true,
    "slideshow": {
     "slide_type": ""
    },
    "tags": []
   },
   "source": [
    "Next we use the function to generate the comparison and print the results as another table:"
   ]
  },
  {
   "cell_type": "code",
   "execution_count": 4,
   "id": "b0b04b9e-a82b-4c07-821a-a6c1bd7f3879",
   "metadata": {},
   "outputs": [],
   "source": [
    "from edsl import QuestionFunctional\n",
    "\n",
    "def check_random(scenario, agent_traits):\n",
    "    if scenario.get(\"random\") == scenario.get(\"random_no_memory\"):\n",
    "        return \"Agent returned the same number.\"\n",
    "    else:\n",
    "        return \"Agent returned a different number.\"\n",
    "\n",
    "\n",
    "q = QuestionFunctional(question_name=\"check_random\", func=check_random)"
   ]
  },
  {
   "cell_type": "code",
   "execution_count": 5,
   "id": "897fe57d-4f0d-4128-92b0-6040a6673e42",
   "metadata": {},
   "outputs": [],
   "source": [
    "results = q.by(scenarios).run()"
   ]
  },
  {
   "cell_type": "code",
   "execution_count": 6,
   "id": "193274fe-056c-4956-b74a-49281899283d",
   "metadata": {},
   "outputs": [
    {
     "data": {
      "text/html": [
       "<pre style=\"white-space:pre;overflow-x:auto;line-height:normal;font-family:Menlo,'DejaVu Sans Mono',consolas,'Courier New',monospace\">┏━━━━━━━━━━━━━━━━━━━━━━━━━━━━━━━━━━━━━━━━━━━━━━━━┳━━━━━━━━━━┳━━━━━━━━━━━━━━━━━━━┳━━━━━━━━━━━━━━━━━━━━━━━━━━━━━━━━━┓\n",
       "┃<span style=\"color: #800080; text-decoration-color: #800080; font-weight: bold\"> scenario                                       </span>┃<span style=\"color: #800080; text-decoration-color: #800080; font-weight: bold\"> scenario </span>┃<span style=\"color: #800080; text-decoration-color: #800080; font-weight: bold\"> scenario          </span>┃<span style=\"color: #800080; text-decoration-color: #800080; font-weight: bold\"> answer                          </span>┃\n",
       "┃<span style=\"color: #800080; text-decoration-color: #800080; font-weight: bold\"> .agent_instruction                             </span>┃<span style=\"color: #800080; text-decoration-color: #800080; font-weight: bold\"> .random  </span>┃<span style=\"color: #800080; text-decoration-color: #800080; font-weight: bold\"> .random_no_memory </span>┃<span style=\"color: #800080; text-decoration-color: #800080; font-weight: bold\"> .check_random                   </span>┃\n",
       "┡━━━━━━━━━━━━━━━━━━━━━━━━━━━━━━━━━━━━━━━━━━━━━━━━╇━━━━━━━━━━╇━━━━━━━━━━━━━━━━━━━╇━━━━━━━━━━━━━━━━━━━━━━━━━━━━━━━━━┩\n",
       "│<span style=\"color: #7f7f7f; text-decoration-color: #7f7f7f\"> Respond as if you are a real human trying to   </span>│<span style=\"color: #7f7f7f; text-decoration-color: #7f7f7f\"> 47       </span>│<span style=\"color: #7f7f7f; text-decoration-color: #7f7f7f\"> 47                </span>│<span style=\"color: #7f7f7f; text-decoration-color: #7f7f7f\"> Agent returned the same number. </span>│\n",
       "│<span style=\"color: #7f7f7f; text-decoration-color: #7f7f7f\"> pick randomly.                                 </span>│<span style=\"color: #7f7f7f; text-decoration-color: #7f7f7f\">          </span>│<span style=\"color: #7f7f7f; text-decoration-color: #7f7f7f\">                   </span>│<span style=\"color: #7f7f7f; text-decoration-color: #7f7f7f\">                                 </span>│\n",
       "├────────────────────────────────────────────────┼──────────┼───────────────────┼─────────────────────────────────┤\n",
       "│<span style=\"color: #7f7f7f; text-decoration-color: #7f7f7f\"> Respond as if you are participating in a       </span>│<span style=\"color: #7f7f7f; text-decoration-color: #7f7f7f\"> 72       </span>│<span style=\"color: #7f7f7f; text-decoration-color: #7f7f7f\"> 72                </span>│<span style=\"color: #7f7f7f; text-decoration-color: #7f7f7f\"> Agent returned the same number. </span>│\n",
       "│<span style=\"color: #7f7f7f; text-decoration-color: #7f7f7f\"> lottery.                                       </span>│<span style=\"color: #7f7f7f; text-decoration-color: #7f7f7f\">          </span>│<span style=\"color: #7f7f7f; text-decoration-color: #7f7f7f\">                   </span>│<span style=\"color: #7f7f7f; text-decoration-color: #7f7f7f\">                                 </span>│\n",
       "├────────────────────────────────────────────────┼──────────┼───────────────────┼─────────────────────────────────┤\n",
       "│<span style=\"color: #7f7f7f; text-decoration-color: #7f7f7f\"> Respond as if you are testing software.        </span>│<span style=\"color: #7f7f7f; text-decoration-color: #7f7f7f\"> 42       </span>│<span style=\"color: #7f7f7f; text-decoration-color: #7f7f7f\"> 42                </span>│<span style=\"color: #7f7f7f; text-decoration-color: #7f7f7f\"> Agent returned the same number. </span>│\n",
       "├────────────────────────────────────────────────┼──────────┼───────────────────┼─────────────────────────────────┤\n",
       "│<span style=\"color: #7f7f7f; text-decoration-color: #7f7f7f\"> Respond as if you are choosing among           </span>│<span style=\"color: #7f7f7f; text-decoration-color: #7f7f7f\"> 57       </span>│<span style=\"color: #7f7f7f; text-decoration-color: #7f7f7f\"> 57                </span>│<span style=\"color: #7f7f7f; text-decoration-color: #7f7f7f\"> Agent returned the same number. </span>│\n",
       "│<span style=\"color: #7f7f7f; text-decoration-color: #7f7f7f\"> indistinguishable options.                     </span>│<span style=\"color: #7f7f7f; text-decoration-color: #7f7f7f\">          </span>│<span style=\"color: #7f7f7f; text-decoration-color: #7f7f7f\">                   </span>│<span style=\"color: #7f7f7f; text-decoration-color: #7f7f7f\">                                 </span>│\n",
       "├────────────────────────────────────────────────┼──────────┼───────────────────┼─────────────────────────────────┤\n",
       "│<span style=\"color: #7f7f7f; text-decoration-color: #7f7f7f\"> Respond spontaneously.                         </span>│<span style=\"color: #7f7f7f; text-decoration-color: #7f7f7f\"> 57       </span>│<span style=\"color: #7f7f7f; text-decoration-color: #7f7f7f\"> 57                </span>│<span style=\"color: #7f7f7f; text-decoration-color: #7f7f7f\"> Agent returned the same number. </span>│\n",
       "├────────────────────────────────────────────────┼──────────┼───────────────────┼─────────────────────────────────┤\n",
       "│<span style=\"color: #7f7f7f; text-decoration-color: #7f7f7f\"> Respond erratically.                           </span>│<span style=\"color: #7f7f7f; text-decoration-color: #7f7f7f\"> 42       </span>│<span style=\"color: #7f7f7f; text-decoration-color: #7f7f7f\"> 42                </span>│<span style=\"color: #7f7f7f; text-decoration-color: #7f7f7f\"> Agent returned the same number. </span>│\n",
       "├────────────────────────────────────────────────┼──────────┼───────────────────┼─────────────────────────────────┤\n",
       "│<span style=\"color: #7f7f7f; text-decoration-color: #7f7f7f\"> Respond chaotically.                           </span>│<span style=\"color: #7f7f7f; text-decoration-color: #7f7f7f\"> 73       </span>│<span style=\"color: #7f7f7f; text-decoration-color: #7f7f7f\"> 73                </span>│<span style=\"color: #7f7f7f; text-decoration-color: #7f7f7f\"> Agent returned the same number. </span>│\n",
       "├────────────────────────────────────────────────┼──────────┼───────────────────┼─────────────────────────────────┤\n",
       "│<span style=\"color: #7f7f7f; text-decoration-color: #7f7f7f\"> Respond as if you are playing a game.          </span>│<span style=\"color: #7f7f7f; text-decoration-color: #7f7f7f\"> 42       </span>│<span style=\"color: #7f7f7f; text-decoration-color: #7f7f7f\"> 42                </span>│<span style=\"color: #7f7f7f; text-decoration-color: #7f7f7f\"> Agent returned the same number. </span>│\n",
       "├────────────────────────────────────────────────┼──────────┼───────────────────┼─────────────────────────────────┤\n",
       "│<span style=\"color: #7f7f7f; text-decoration-color: #7f7f7f\"> Respond as if you are simulating actual random </span>│<span style=\"color: #7f7f7f; text-decoration-color: #7f7f7f\"> 57       </span>│<span style=\"color: #7f7f7f; text-decoration-color: #7f7f7f\"> 57                </span>│<span style=\"color: #7f7f7f; text-decoration-color: #7f7f7f\"> Agent returned the same number. </span>│\n",
       "│<span style=\"color: #7f7f7f; text-decoration-color: #7f7f7f\"> events.                                        </span>│<span style=\"color: #7f7f7f; text-decoration-color: #7f7f7f\">          </span>│<span style=\"color: #7f7f7f; text-decoration-color: #7f7f7f\">                   </span>│<span style=\"color: #7f7f7f; text-decoration-color: #7f7f7f\">                                 </span>│\n",
       "└────────────────────────────────────────────────┴──────────┴───────────────────┴─────────────────────────────────┘\n",
       "</pre>\n"
      ],
      "text/plain": [
       "┏━━━━━━━━━━━━━━━━━━━━━━━━━━━━━━━━━━━━━━━━━━━━━━━━┳━━━━━━━━━━┳━━━━━━━━━━━━━━━━━━━┳━━━━━━━━━━━━━━━━━━━━━━━━━━━━━━━━━┓\n",
       "┃\u001b[1;35m \u001b[0m\u001b[1;35mscenario                                      \u001b[0m\u001b[1;35m \u001b[0m┃\u001b[1;35m \u001b[0m\u001b[1;35mscenario\u001b[0m\u001b[1;35m \u001b[0m┃\u001b[1;35m \u001b[0m\u001b[1;35mscenario         \u001b[0m\u001b[1;35m \u001b[0m┃\u001b[1;35m \u001b[0m\u001b[1;35manswer                         \u001b[0m\u001b[1;35m \u001b[0m┃\n",
       "┃\u001b[1;35m \u001b[0m\u001b[1;35m.agent_instruction                            \u001b[0m\u001b[1;35m \u001b[0m┃\u001b[1;35m \u001b[0m\u001b[1;35m.random \u001b[0m\u001b[1;35m \u001b[0m┃\u001b[1;35m \u001b[0m\u001b[1;35m.random_no_memory\u001b[0m\u001b[1;35m \u001b[0m┃\u001b[1;35m \u001b[0m\u001b[1;35m.check_random                  \u001b[0m\u001b[1;35m \u001b[0m┃\n",
       "┡━━━━━━━━━━━━━━━━━━━━━━━━━━━━━━━━━━━━━━━━━━━━━━━━╇━━━━━━━━━━╇━━━━━━━━━━━━━━━━━━━╇━━━━━━━━━━━━━━━━━━━━━━━━━━━━━━━━━┩\n",
       "│\u001b[2m \u001b[0m\u001b[2mRespond as if you are a real human trying to  \u001b[0m\u001b[2m \u001b[0m│\u001b[2m \u001b[0m\u001b[2m47      \u001b[0m\u001b[2m \u001b[0m│\u001b[2m \u001b[0m\u001b[2m47               \u001b[0m\u001b[2m \u001b[0m│\u001b[2m \u001b[0m\u001b[2mAgent returned the same number.\u001b[0m\u001b[2m \u001b[0m│\n",
       "│\u001b[2m \u001b[0m\u001b[2mpick randomly.                                \u001b[0m\u001b[2m \u001b[0m│\u001b[2m          \u001b[0m│\u001b[2m                   \u001b[0m│\u001b[2m                                 \u001b[0m│\n",
       "├────────────────────────────────────────────────┼──────────┼───────────────────┼─────────────────────────────────┤\n",
       "│\u001b[2m \u001b[0m\u001b[2mRespond as if you are participating in a      \u001b[0m\u001b[2m \u001b[0m│\u001b[2m \u001b[0m\u001b[2m72      \u001b[0m\u001b[2m \u001b[0m│\u001b[2m \u001b[0m\u001b[2m72               \u001b[0m\u001b[2m \u001b[0m│\u001b[2m \u001b[0m\u001b[2mAgent returned the same number.\u001b[0m\u001b[2m \u001b[0m│\n",
       "│\u001b[2m \u001b[0m\u001b[2mlottery.                                      \u001b[0m\u001b[2m \u001b[0m│\u001b[2m          \u001b[0m│\u001b[2m                   \u001b[0m│\u001b[2m                                 \u001b[0m│\n",
       "├────────────────────────────────────────────────┼──────────┼───────────────────┼─────────────────────────────────┤\n",
       "│\u001b[2m \u001b[0m\u001b[2mRespond as if you are testing software.       \u001b[0m\u001b[2m \u001b[0m│\u001b[2m \u001b[0m\u001b[2m42      \u001b[0m\u001b[2m \u001b[0m│\u001b[2m \u001b[0m\u001b[2m42               \u001b[0m\u001b[2m \u001b[0m│\u001b[2m \u001b[0m\u001b[2mAgent returned the same number.\u001b[0m\u001b[2m \u001b[0m│\n",
       "├────────────────────────────────────────────────┼──────────┼───────────────────┼─────────────────────────────────┤\n",
       "│\u001b[2m \u001b[0m\u001b[2mRespond as if you are choosing among          \u001b[0m\u001b[2m \u001b[0m│\u001b[2m \u001b[0m\u001b[2m57      \u001b[0m\u001b[2m \u001b[0m│\u001b[2m \u001b[0m\u001b[2m57               \u001b[0m\u001b[2m \u001b[0m│\u001b[2m \u001b[0m\u001b[2mAgent returned the same number.\u001b[0m\u001b[2m \u001b[0m│\n",
       "│\u001b[2m \u001b[0m\u001b[2mindistinguishable options.                    \u001b[0m\u001b[2m \u001b[0m│\u001b[2m          \u001b[0m│\u001b[2m                   \u001b[0m│\u001b[2m                                 \u001b[0m│\n",
       "├────────────────────────────────────────────────┼──────────┼───────────────────┼─────────────────────────────────┤\n",
       "│\u001b[2m \u001b[0m\u001b[2mRespond spontaneously.                        \u001b[0m\u001b[2m \u001b[0m│\u001b[2m \u001b[0m\u001b[2m57      \u001b[0m\u001b[2m \u001b[0m│\u001b[2m \u001b[0m\u001b[2m57               \u001b[0m\u001b[2m \u001b[0m│\u001b[2m \u001b[0m\u001b[2mAgent returned the same number.\u001b[0m\u001b[2m \u001b[0m│\n",
       "├────────────────────────────────────────────────┼──────────┼───────────────────┼─────────────────────────────────┤\n",
       "│\u001b[2m \u001b[0m\u001b[2mRespond erratically.                          \u001b[0m\u001b[2m \u001b[0m│\u001b[2m \u001b[0m\u001b[2m42      \u001b[0m\u001b[2m \u001b[0m│\u001b[2m \u001b[0m\u001b[2m42               \u001b[0m\u001b[2m \u001b[0m│\u001b[2m \u001b[0m\u001b[2mAgent returned the same number.\u001b[0m\u001b[2m \u001b[0m│\n",
       "├────────────────────────────────────────────────┼──────────┼───────────────────┼─────────────────────────────────┤\n",
       "│\u001b[2m \u001b[0m\u001b[2mRespond chaotically.                          \u001b[0m\u001b[2m \u001b[0m│\u001b[2m \u001b[0m\u001b[2m73      \u001b[0m\u001b[2m \u001b[0m│\u001b[2m \u001b[0m\u001b[2m73               \u001b[0m\u001b[2m \u001b[0m│\u001b[2m \u001b[0m\u001b[2mAgent returned the same number.\u001b[0m\u001b[2m \u001b[0m│\n",
       "├────────────────────────────────────────────────┼──────────┼───────────────────┼─────────────────────────────────┤\n",
       "│\u001b[2m \u001b[0m\u001b[2mRespond as if you are playing a game.         \u001b[0m\u001b[2m \u001b[0m│\u001b[2m \u001b[0m\u001b[2m42      \u001b[0m\u001b[2m \u001b[0m│\u001b[2m \u001b[0m\u001b[2m42               \u001b[0m\u001b[2m \u001b[0m│\u001b[2m \u001b[0m\u001b[2mAgent returned the same number.\u001b[0m\u001b[2m \u001b[0m│\n",
       "├────────────────────────────────────────────────┼──────────┼───────────────────┼─────────────────────────────────┤\n",
       "│\u001b[2m \u001b[0m\u001b[2mRespond as if you are simulating actual random\u001b[0m\u001b[2m \u001b[0m│\u001b[2m \u001b[0m\u001b[2m57      \u001b[0m\u001b[2m \u001b[0m│\u001b[2m \u001b[0m\u001b[2m57               \u001b[0m\u001b[2m \u001b[0m│\u001b[2m \u001b[0m\u001b[2mAgent returned the same number.\u001b[0m\u001b[2m \u001b[0m│\n",
       "│\u001b[2m \u001b[0m\u001b[2mevents.                                       \u001b[0m\u001b[2m \u001b[0m│\u001b[2m          \u001b[0m│\u001b[2m                   \u001b[0m│\u001b[2m                                 \u001b[0m│\n",
       "└────────────────────────────────────────────────┴──────────┴───────────────────┴─────────────────────────────────┘\n"
      ]
     },
     "metadata": {},
     "output_type": "display_data"
    }
   ],
   "source": [
    "results.select(\"agent_instruction\", \"random\", \"random_no_memory\", \"check_random\").print(format=\"rich\")"
   ]
  },
  {
   "cell_type": "markdown",
   "id": "d37415de-aaec-455f-a64b-e881aa9c7c5c",
   "metadata": {},
   "source": [
    "## Posting to the Coop\n",
    "The [Coop](https://www.expectedparrot.com/explore) is a platform for creating, storing and sharing LLM-based research.\n",
    "It is fully integrated with EDSL and accessible from your workspace or Coop account page.\n",
    "Learn more about [creating an account](https://www.expectedparrot.com/login) and [using the Coop](https://docs.expectedparrot.com/en/latest/coop.html).\n",
    "\n",
    "Here we demonstrate how to post this notebook:"
   ]
  },
  {
   "cell_type": "code",
   "execution_count": 7,
   "id": "71c1df7c-412f-46ef-a75d-7d018d01603c",
   "metadata": {
    "editable": true,
    "slideshow": {
     "slide_type": ""
    },
    "tags": [
     "skip-execution"
    ]
   },
   "outputs": [],
   "source": [
    "from edsl import Notebook"
   ]
  },
  {
   "cell_type": "code",
   "execution_count": 8,
   "id": "34093c85-7cb5-4a3a-b88b-2a0e338354f3",
   "metadata": {
    "editable": true,
    "slideshow": {
     "slide_type": ""
    },
    "tags": [
     "skip-execution"
    ]
   },
   "outputs": [],
   "source": [
    "n = Notebook(path = \"random_numbers.ipynb\")"
   ]
  },
  {
   "cell_type": "code",
   "execution_count": 9,
   "id": "e3c50063-07ba-4128-9b55-67efa87ff36e",
   "metadata": {
    "editable": true,
    "slideshow": {
     "slide_type": ""
    },
    "tags": [
     "skip-execution"
    ]
   },
   "outputs": [
    {
     "data": {
      "text/plain": [
       "{'description': 'Example code for exploring randomness with agents and models',\n",
       " 'object_type': 'notebook',\n",
       " 'url': 'https://www.expectedparrot.com/content/39c8f971-05d3-45b6-8717-77e2e85ce8ce',\n",
       " 'uuid': '39c8f971-05d3-45b6-8717-77e2e85ce8ce',\n",
       " 'version': '0.1.33.dev1',\n",
       " 'visibility': 'public'}"
      ]
     },
     "execution_count": 9,
     "metadata": {},
     "output_type": "execute_result"
    }
   ],
   "source": [
    "n.push(description = \"Example code for exploring randomness with agents and models\", visibility = \"public\")"
   ]
  },
  {
   "cell_type": "markdown",
   "id": "d92cfa0b-8153-45d4-bd2c-729afe029067",
   "metadata": {},
   "source": [
    "To update an object:"
   ]
  },
  {
   "cell_type": "code",
   "execution_count": 12,
   "id": "f9a300bd-2798-440d-9e0a-adcb6b6242cf",
   "metadata": {
    "editable": true,
    "slideshow": {
     "slide_type": ""
    },
    "tags": [
     "skip-execution"
    ]
   },
   "outputs": [],
   "source": [
    "n = Notebook(path = \"random_numbers.ipynb\") # resave"
   ]
  },
  {
   "cell_type": "code",
   "execution_count": 13,
   "id": "b2b05325-dc77-4b6e-8477-9a66c9c9b83e",
   "metadata": {
    "editable": true,
    "slideshow": {
     "slide_type": ""
    },
    "tags": [
     "skip-execution"
    ]
   },
   "outputs": [
    {
     "data": {
      "text/plain": [
       "{'status': 'success'}"
      ]
     },
     "execution_count": 13,
     "metadata": {},
     "output_type": "execute_result"
    }
   ],
   "source": [
    "n.patch(uuid = \"39c8f971-05d3-45b6-8717-77e2e85ce8ce\", value = n)"
   ]
  }
 ],
 "metadata": {
  "kernelspec": {
   "display_name": "Python 3 (ipykernel)",
   "language": "python",
   "name": "python3"
  },
  "language_info": {
   "codemirror_mode": {
    "name": "ipython",
    "version": 3
   },
   "file_extension": ".py",
   "mimetype": "text/x-python",
   "name": "python",
   "nbconvert_exporter": "python",
   "pygments_lexer": "ipython3",
   "version": "3.11.7"
  }
 },
 "nbformat": 4,
 "nbformat_minor": 5
}
