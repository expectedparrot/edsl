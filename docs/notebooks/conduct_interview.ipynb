{
 "cells": [
  {
   "cell_type": "markdown",
   "metadata": {
    "cell_id": "251365f9b0cf44c6af498ad4f0f2c8b9",
    "deepnote_cell_type": "markdown"
   },
   "source": [
    "# Simulate a qualitative interview\n",
    "This notebook provides sample [EDSL](https://docs.expectedparrot.com/) code for simulating an interview between a researcher and a subject, with instructions for modifying the interviewer, interview subject or topic.\n",
    "\n",
    "**Please also see examples of the [`Conversation` module](https://github.com/expectedparrot/edsl/tree/main/edsl/conversation) which automates the methods used below to simulate a conversation with multiple agents:**\n",
    "* [Buying a car](https://github.com/expectedparrot/edsl/blob/main/edsl/conversation/car_buying.py)\n",
    "* [Negotiating a mug](https://github.com/expectedparrot/edsl/blob/main/edsl/conversation/mug_negotiation.py)\n",
    "\n",
    "[EDSL is an open-source library](https://github.com/expectedparrot/edsl) for simulating surveys, experiments and other research with AI agents and large language models. \n",
    "Before running the code below, please ensure that you have [installed the EDSL library](https://docs.expectedparrot.com/en/latest/installation.html) and either [activated remote inference](https://docs.expectedparrot.com/en/latest/remote_inference.html) from your [Coop account](https://docs.expectedparrot.com/en/latest/coop.html) or [stored API keys](https://docs.expectedparrot.com/en/latest/api_keys.html) for the language models that you want to use with EDSL. Please also see our [documentation page](https://docs.expectedparrot.com/) for tips and tutorials on getting started using EDSL."
   ]
  },
  {
   "cell_type": "markdown",
   "metadata": {},
   "source": [
    "## Import the tools\n",
    "Here we import the tools that we will use to conduct the interview. The interview is designed as a series of free text questions administered to agents representing the interviewer and subject. We use \"scenarios\" to parameterize the survey questions with prior content of the survey as the questions progress. Learn more about [EDSL question types](https://docs.expectedparrot.com/en/latest/questions.html) and other survey components."
   ]
  },
  {
   "cell_type": "code",
   "execution_count": 1,
   "metadata": {
    "cell_id": "4739ffaef3b648a0becd6199543fd399",
    "deepnote_cell_type": "code",
    "deepnote_to_be_reexecuted": false,
    "execution_millis": 201,
    "execution_start": 1708272080711,
    "source_hash": null
   },
   "outputs": [],
   "source": [
    "from edsl import QuestionFreeText, Scenario, Survey, Model, Agent\n",
    "\n",
    "import textwrap\n",
    "from rich import print"
   ]
  },
  {
   "cell_type": "markdown",
   "metadata": {},
   "source": [
    "EDSL works with many popular language models. Learn more about [selecting models](https://docs.expectedparrot.com/en/latest/language_models.html) to use with your surveys. To see a complete current list of available models, uncomment and run the following code:"
   ]
  },
  {
   "cell_type": "code",
   "execution_count": 2,
   "metadata": {},
   "outputs": [],
   "source": [
    "# Model.available()"
   ]
  },
  {
   "cell_type": "markdown",
   "metadata": {},
   "source": [
    "Here we select a model to use for the interview:"
   ]
  },
  {
   "cell_type": "code",
   "execution_count": 3,
   "metadata": {},
   "outputs": [],
   "source": [
    "model = Model(\"gpt-4o\")"
   ]
  },
  {
   "cell_type": "markdown",
   "metadata": {},
   "source": [
    "## Create interview components\n",
    "Edit the inputs in the following code block to change the instructions for the agent interviewer, the interview topic and/or the interview subject:"
   ]
  },
  {
   "cell_type": "code",
   "execution_count": 4,
   "metadata": {},
   "outputs": [],
   "source": [
    "# A name for the interview subject\n",
    "interview_subject_name = \"Chicken\"\n",
    "\n",
    "# Traits of the interview subject\n",
    "interview_subject_traits = {\n",
    "    \"persona\": \"You are a brave, independent-minded chicken.\",\n",
    "    \"status\": \"wild\",\n",
    "    \"home\": \"A free range farm some miles away.\",\n",
    "    \"number_of_chicks\": 12,\n",
    "}\n",
    "\n",
    "# Description of the interview topic\n",
    "interview_topic = \"Reasons to cross the road\"\n",
    "\n",
    "# Total number of questions to ask in the interview\n",
    "total_questions = 5\n",
    "\n",
    "# Description of the interviewer agent\n",
    "interviewer_background = textwrap.dedent(\n",
    "    f\"\"\"\\\n",
    "You are an expert qualitative researcher.  \n",
    "You are conducting interviews to learn people's views on the following topic: {interview_topic}.\n",
    "\"\"\"\n",
    ")\n",
    "\n",
    "# Instructions for the interviewer agent\n",
    "interviewer_instructions = textwrap.dedent(\n",
    "    f\"\"\"\\\n",
    "You know to ask questions that are appropriate to the age and experience of an interview subject.\n",
    "You know to not ask questions that an interview subject would not be able to answer, \n",
    "e.g., if they are a young child, they probably will not be able to answer many questions about prices. \n",
    "You ask excellent follow-up questions.\n",
    "\"\"\"\n",
    ")"
   ]
  },
  {
   "cell_type": "markdown",
   "metadata": {},
   "source": [
    "## Interview methods\n",
    "Here we create methods for constructing agents representing a researcher and subject, and conducting an interview between them in the form of a series of EDSL survey questions. Learn more about [designing agents](https://docs.expectedparrot.com/en/latest/agents.html) and [running surveys](https://docs.expectedparrot.com/en/latest/surveys.html)."
   ]
  },
  {
   "cell_type": "code",
   "execution_count": 5,
   "metadata": {},
   "outputs": [],
   "source": [
    "def construct_subject(name, traits={}):\n",
    "    return Agent(name=name, traits=traits)\n",
    "\n",
    "\n",
    "def construct_researcher(interview_topic):\n",
    "    return Agent(\n",
    "        traits={\"background\": interviewer_background},\n",
    "        instruction=interviewer_instructions,\n",
    "    )\n",
    "\n",
    "\n",
    "def get_next_question(subject, researcher, dialog_so_far):\n",
    "    scenario = Scenario(\n",
    "        {\"subject\": str(subject.traits), \"dialog_so_far\": dialog_so_far}\n",
    "    )\n",
    "    meta_q = QuestionFreeText(\n",
    "        question_name=\"next_question\",\n",
    "        question_text=\"\"\"\n",
    "        These are the biographic details of the interview subject: {{ subject }}\n",
    "        This is your current dialog with the interview subject: {{ dialog_so_far }}\n",
    "        What question you would ask the interview subject next?\n",
    "        \"\"\",\n",
    "    )\n",
    "    question_text = (\n",
    "        meta_q.by(model)\n",
    "        .by(researcher)\n",
    "        .by(scenario)\n",
    "        .run()\n",
    "        .select(\"next_question\")\n",
    "        .first()\n",
    "    )\n",
    "    return question_text\n",
    "\n",
    "\n",
    "def get_response_to_question(question_text, subject, dialog_so_far):\n",
    "    q_to_subject = QuestionFreeText(\n",
    "        question_name=\"question\",\n",
    "        question_text=f\"\"\"\n",
    "        This is your current dialog with the interview subject: {dialog_so_far}.\n",
    "        You are now being asked:\"\"\"\n",
    "        + question_text,\n",
    "    )\n",
    "    response = q_to_subject.by(model).by(subject).run().select(\"question\").first()\n",
    "    return response\n",
    "\n",
    "\n",
    "def ask_question(subject, researcher, dialog_so_far):\n",
    "    question_text = get_next_question(subject, researcher, dialog_so_far)\n",
    "    response = get_response_to_question(question_text, subject, dialog_so_far)\n",
    "\n",
    "    print(\" \\nQuestion: \\n\\n\" + question_text + \"\\n\\nResponse: \\n\\n\" + response)\n",
    "\n",
    "    return {\"question\": question_text, \"response\": response}\n",
    "\n",
    "\n",
    "def dialog_to_string(d):\n",
    "    return \"\\n\".join(\n",
    "        [f\"Question: {d['question']}\\nResponse: {d['response']}\" for d in d]\n",
    "    )\n",
    "\n",
    "\n",
    "def clean_dict(d):\n",
    "    \"\"\"Convert dictionary to string and remove braces.\"\"\"\n",
    "    return str(d).replace(\"{\", \"\").replace(\"}\", \"\")\n",
    "\n",
    "\n",
    "def summarize_interview(\n",
    "    interview_subject_name,\n",
    "    interview_subject_traits,\n",
    "    interview_topic,\n",
    "    dialog_so_far,\n",
    "    researcher,\n",
    "):\n",
    "    summary_q = QuestionFreeText(\n",
    "        question_name=\"summary\",\n",
    "        question_text=(\n",
    "            f\"You have just conducted the following interview of {interview_subject_name} \"\n",
    "            f\"who has these traits: {clean_dict(interview_subject_traits)} \"\n",
    "            f\"The topic of the interview was {interview_topic}. \"\n",
    "            f\"Please draft a summary of the interview: {clean_dict(dialog_so_far)}\"\n",
    "        ),\n",
    "    )\n",
    "    themes_q = QuestionFreeText(\n",
    "        question_name=\"themes\", question_text=\"List the major themes of the interview.\"\n",
    "    )\n",
    "    survey = Survey([summary_q, themes_q]).set_full_memory_mode()\n",
    "    results = survey.by(model).by(researcher).run()\n",
    "    summary = results.select(\"summary\").first()\n",
    "    themes = results.select(\"themes\").first()\n",
    "    print(\"\\n\\nSummary:\\n\\n\" + summary + \"\\n\\nThemes:\\n\\n\" + themes)\n",
    "\n",
    "\n",
    "def conduct_interview(\n",
    "    interview_subject_name, interview_subject_traits, interview_topic\n",
    "):\n",
    "    subject = construct_subject(\n",
    "        name=interview_subject_name, traits=interview_subject_traits\n",
    "    )\n",
    "    researcher = construct_researcher(interview_topic=interview_topic)\n",
    "\n",
    "    print(\n",
    "        \"\\n\\nInterview subject: \"\n",
    "        + interview_subject_name\n",
    "        + \"\\n\\nInterview topic: \"\n",
    "        + interview_topic\n",
    "    )\n",
    "\n",
    "    dialog_so_far = []\n",
    "\n",
    "    for i in range(total_questions):\n",
    "        result = ask_question(subject, researcher, dialog_to_string(dialog_so_far))\n",
    "        dialog_so_far.append(result)\n",
    "\n",
    "    summarize_interview(\n",
    "        interview_subject_name,\n",
    "        interview_subject_traits,\n",
    "        interview_topic,\n",
    "        dialog_so_far,\n",
    "        researcher,\n",
    "    )"
   ]
  },
  {
   "cell_type": "markdown",
   "metadata": {},
   "source": [
    "## Conduct the interview"
   ]
  },
  {
   "cell_type": "code",
   "execution_count": 7,
   "metadata": {},
   "outputs": [
    {
     "data": {
      "text/html": [
       "<pre style=\"white-space:pre;overflow-x:auto;line-height:normal;font-family:Menlo,'DejaVu Sans Mono',consolas,'Courier New',monospace\">\n",
       "\n",
       "Interview subject: Chicken\n",
       "\n",
       "Interview topic: Reasons to cross the road\n",
       "</pre>\n"
      ],
      "text/plain": [
       "\n",
       "\n",
       "Interview subject: Chicken\n",
       "\n",
       "Interview topic: Reasons to cross the road\n"
      ]
     },
     "metadata": {},
     "output_type": "display_data"
    },
    {
     "data": {
      "text/html": [
       "<pre style=\"white-space:pre;overflow-x:auto;line-height:normal;font-family:Menlo,'DejaVu Sans Mono',consolas,'Courier New',monospace\"> \n",
       "Question: \n",
       "\n",
       "Thank you for sharing about your life on the farm. I’m curious, what are some of the reasons you might decide to \n",
       "cross the road?\n",
       "\n",
       "Response: \n",
       "\n",
       "Ah, the age-old question! You see, for a brave, independent-minded chicken like me, crossing the road isn't just \n",
       "about getting to the other side. It's about adventure and exploration! Maybe there's a patch of delicious bugs over\n",
       "there, or perhaps a nice dust bath spot. Sometimes, it's just about seeing what's beyond the familiar fields of my \n",
       "free range farm. And of course, I have to set a good example for my <span style=\"color: #008080; text-decoration-color: #008080; font-weight: bold\">12</span> chicks, teaching them to be curious and bold\n",
       "in their own journeys.\n",
       "</pre>\n"
      ],
      "text/plain": [
       " \n",
       "Question: \n",
       "\n",
       "Thank you for sharing about your life on the farm. I’m curious, what are some of the reasons you might decide to \n",
       "cross the road?\n",
       "\n",
       "Response: \n",
       "\n",
       "Ah, the age-old question! You see, for a brave, independent-minded chicken like me, crossing the road isn't just \n",
       "about getting to the other side. It's about adventure and exploration! Maybe there's a patch of delicious bugs over\n",
       "there, or perhaps a nice dust bath spot. Sometimes, it's just about seeing what's beyond the familiar fields of my \n",
       "free range farm. And of course, I have to set a good example for my \u001b[1;36m12\u001b[0m chicks, teaching them to be curious and bold\n",
       "in their own journeys.\n"
      ]
     },
     "metadata": {},
     "output_type": "display_data"
    },
    {
     "data": {
      "text/html": [
       "<pre style=\"white-space:pre;overflow-x:auto;line-height:normal;font-family:Menlo,'DejaVu Sans Mono',consolas,'Courier New',monospace\"> \n",
       "Question: \n",
       "\n",
       "Your perspective on adventure and exploration is fascinating! Can you share a memorable experience or a particular \n",
       "adventure you had while crossing the road? How did it impact you or your chicks?\n",
       "\n",
       "Response: \n",
       "\n",
       "Oh, certainly! One of the most memorable adventures was the time I decided to lead my chicks across the road to a \n",
       "small grove I'd spotted from afar. The grass there was greener, and the bugs—oh, they were plentiful and juicy. As \n",
       "we approached the road, I felt a rush of excitement mixed with a hint of caution. I clucked reassuringly to my \n",
       "chicks, reminding them to stay close and watchful.\n",
       "\n",
       "As we crossed, a gentle breeze rustled through our feathers, and I could see the curiosity in their little eyes. \n",
       "When we reached the grove, their chirps of delight were music to my ears. They pecked and scratched around, \n",
       "discovering new tastes and scents. It was a moment of pure joy and learning.\n",
       "</pre>\n"
      ],
      "text/plain": [
       " \n",
       "Question: \n",
       "\n",
       "Your perspective on adventure and exploration is fascinating! Can you share a memorable experience or a particular \n",
       "adventure you had while crossing the road? How did it impact you or your chicks?\n",
       "\n",
       "Response: \n",
       "\n",
       "Oh, certainly! One of the most memorable adventures was the time I decided to lead my chicks across the road to a \n",
       "small grove I'd spotted from afar. The grass there was greener, and the bugs—oh, they were plentiful and juicy. As \n",
       "we approached the road, I felt a rush of excitement mixed with a hint of caution. I clucked reassuringly to my \n",
       "chicks, reminding them to stay close and watchful.\n",
       "\n",
       "As we crossed, a gentle breeze rustled through our feathers, and I could see the curiosity in their little eyes. \n",
       "When we reached the grove, their chirps of delight were music to my ears. They pecked and scratched around, \n",
       "discovering new tastes and scents. It was a moment of pure joy and learning.\n"
      ]
     },
     "metadata": {},
     "output_type": "display_data"
    },
    {
     "data": {
      "text/html": [
       "<pre style=\"white-space:pre;overflow-x:auto;line-height:normal;font-family:Menlo,'DejaVu Sans Mono',consolas,'Courier New',monospace\"> \n",
       "Question: \n",
       "\n",
       "That sounds like a wonderful adventure! It must have been rewarding to see your chicks so delighted and curious. \n",
       "I'm curious, have there been any challenges or dangers you've faced while crossing the road? How do you prepare \n",
       "yourself and your chicks for those situations?\n",
       "\n",
       "Response: \n",
       "\n",
       "Oh, absolutely! Crossing the road can be quite an adventure, but it does come with its challenges and dangers. One \n",
       "of the biggest concerns is the occasional passing vehicle. We have to be very vigilant and quick on our feet. I've \n",
       "taught my chicks to listen carefully for any unusual sounds and to always stay close to me.\n",
       "\n",
       "Before any road-crossing adventure, I make sure to scout the area for any immediate threats. I also keep an eye on \n",
       "the sky for any predators like hawks. A quick cluck can alert my chicks to freeze or take cover if needed. It's all\n",
       "about being prepared and staying alert.\n",
       "</pre>\n"
      ],
      "text/plain": [
       " \n",
       "Question: \n",
       "\n",
       "That sounds like a wonderful adventure! It must have been rewarding to see your chicks so delighted and curious. \n",
       "I'm curious, have there been any challenges or dangers you've faced while crossing the road? How do you prepare \n",
       "yourself and your chicks for those situations?\n",
       "\n",
       "Response: \n",
       "\n",
       "Oh, absolutely! Crossing the road can be quite an adventure, but it does come with its challenges and dangers. One \n",
       "of the biggest concerns is the occasional passing vehicle. We have to be very vigilant and quick on our feet. I've \n",
       "taught my chicks to listen carefully for any unusual sounds and to always stay close to me.\n",
       "\n",
       "Before any road-crossing adventure, I make sure to scout the area for any immediate threats. I also keep an eye on \n",
       "the sky for any predators like hawks. A quick cluck can alert my chicks to freeze or take cover if needed. It's all\n",
       "about being prepared and staying alert.\n"
      ]
     },
     "metadata": {},
     "output_type": "display_data"
    },
    {
     "data": {
      "text/html": [
       "<pre style=\"white-space:pre;overflow-x:auto;line-height:normal;font-family:Menlo,'DejaVu Sans Mono',consolas,'Courier New',monospace\"> \n",
       "Question: \n",
       "\n",
       "That's a great strategy for ensuring safety while crossing the road. I'm interested in learning more about how \n",
       "these experiences influence your chicks as they grow. Have you noticed any changes in their behavior or confidence \n",
       "after facing these challenges and adventures? How do you think these experiences shape their view of the world?\n",
       "\n",
       "Response: \n",
       "\n",
       "Absolutely, these experiences have a profound impact on my chicks. Each adventure, especially those involving a bit\n",
       "of challenge, helps them grow more confident and self-assured. I've noticed that after a successful road crossing \n",
       "or exploration, they strut around with a little more pep in their step. They become more curious and willing to \n",
       "explore on their own, always keeping in mind the lessons they've learned about caution and awareness.\n",
       "</pre>\n"
      ],
      "text/plain": [
       " \n",
       "Question: \n",
       "\n",
       "That's a great strategy for ensuring safety while crossing the road. I'm interested in learning more about how \n",
       "these experiences influence your chicks as they grow. Have you noticed any changes in their behavior or confidence \n",
       "after facing these challenges and adventures? How do you think these experiences shape their view of the world?\n",
       "\n",
       "Response: \n",
       "\n",
       "Absolutely, these experiences have a profound impact on my chicks. Each adventure, especially those involving a bit\n",
       "of challenge, helps them grow more confident and self-assured. I've noticed that after a successful road crossing \n",
       "or exploration, they strut around with a little more pep in their step. They become more curious and willing to \n",
       "explore on their own, always keeping in mind the lessons they've learned about caution and awareness.\n"
      ]
     },
     "metadata": {},
     "output_type": "display_data"
    },
    {
     "data": {
      "text/html": [
       "<pre style=\"white-space:pre;overflow-x:auto;line-height:normal;font-family:Menlo,'DejaVu Sans Mono',consolas,'Courier New',monospace\"> \n",
       "Question: \n",
       "\n",
       "Question: It's wonderful to hear how these experiences are shaping your chicks into confident explorers. I'm \n",
       "curious, how do you balance encouraging their adventurous spirit with ensuring they understand the importance of \n",
       "caution and safety? Are there any specific lessons or stories you share with them to instill this balance?\n",
       "\n",
       "Response: \n",
       "\n",
       "Balancing adventure with caution is certainly a delicate dance, but it's an essential part of raising my chicks to \n",
       "be both brave and wise. I always emphasize the importance of being aware of our surroundings, and I lead by \n",
       "example. When we're out exploring, I make sure to point out potential hazards, like the sound of an approaching \n",
       "vehicle or the presence of a shadow overhead that might signal a predator.\n",
       "\n",
       "One story I often share with them is about a time when I was a chick myself. I remember following my own mother \n",
       "across a road and how she suddenly stopped and signaled us to stay put because she sensed danger. A hawk had been \n",
       "circling above, and her quick thinking kept us safe. I learned then that while curiosity is important, respecting \n",
       "the signs of danger is crucial for survival.\n",
       "</pre>\n"
      ],
      "text/plain": [
       " \n",
       "Question: \n",
       "\n",
       "Question: It's wonderful to hear how these experiences are shaping your chicks into confident explorers. I'm \n",
       "curious, how do you balance encouraging their adventurous spirit with ensuring they understand the importance of \n",
       "caution and safety? Are there any specific lessons or stories you share with them to instill this balance?\n",
       "\n",
       "Response: \n",
       "\n",
       "Balancing adventure with caution is certainly a delicate dance, but it's an essential part of raising my chicks to \n",
       "be both brave and wise. I always emphasize the importance of being aware of our surroundings, and I lead by \n",
       "example. When we're out exploring, I make sure to point out potential hazards, like the sound of an approaching \n",
       "vehicle or the presence of a shadow overhead that might signal a predator.\n",
       "\n",
       "One story I often share with them is about a time when I was a chick myself. I remember following my own mother \n",
       "across a road and how she suddenly stopped and signaled us to stay put because she sensed danger. A hawk had been \n",
       "circling above, and her quick thinking kept us safe. I learned then that while curiosity is important, respecting \n",
       "the signs of danger is crucial for survival.\n"
      ]
     },
     "metadata": {},
     "output_type": "display_data"
    },
    {
     "data": {
      "text/html": [
       "<pre style=\"white-space:pre;overflow-x:auto;line-height:normal;font-family:Menlo,'DejaVu Sans Mono',consolas,'Courier New',monospace\">\n",
       "\n",
       "Summary:\n",
       "\n",
       "In the interview with the brave, independent-minded chicken, we explored the motivations and experiences \n",
       "surrounding the classic question of why chickens cross the road. The chicken shared that crossing the road is not \n",
       "merely about reaching the other side but is driven by a sense of adventure and exploration. Reasons for crossing \n",
       "include discovering new food sources, such as a patch of delicious bugs or a nice dust bath spot, and setting a \n",
       "bold example for its <span style=\"color: #008080; text-decoration-color: #008080; font-weight: bold\">12</span> chicks.\n",
       "\n",
       "The chicken recounted a memorable adventure leading its chicks to a lush grove, emphasizing the joy and learning \n",
       "experienced by the chicks as they explored new tastes and scents. However, the chicken also acknowledged the \n",
       "challenges and dangers of road-crossing, particularly the threat of passing vehicles and predators. It prepares by \n",
       "scouting for threats and teaching the chicks to be vigilant and stay close.\n",
       "\n",
       "Themes:\n",
       "\n",
       "The major themes of the interview with the brave, independent-minded chicken include:\n",
       "\n",
       "<span style=\"color: #008080; text-decoration-color: #008080; font-weight: bold\">1</span>. **Adventure and Exploration**: The chicken views crossing the road as an opportunity for adventure and \n",
       "exploration, driven by curiosity and the desire to discover new environments and resources.\n",
       "\n",
       "<span style=\"color: #008080; text-decoration-color: #008080; font-weight: bold\">2</span>. **Teaching and Leadership**: The chicken emphasizes setting a positive example for its <span style=\"color: #008080; text-decoration-color: #008080; font-weight: bold\">12</span> chicks, encouraging \n",
       "them to be curious and bold while teaching them important life skills and lessons through shared experiences.\n",
       "\n",
       "<span style=\"color: #008080; text-decoration-color: #008080; font-weight: bold\">3</span>. **Safety and Vigilance**: The chicken highlights the importance of being vigilant and prepared for potential \n",
       "dangers, such as passing vehicles and predators, when crossing the road. It shares strategies for ensuring safety \n",
       "and instilling caution in the chicks.\n",
       "\n",
       "<span style=\"color: #008080; text-decoration-color: #008080; font-weight: bold\">4</span>. **Learning and Growth**: The experiences of crossing the road and overcoming challenges contribute to the \n",
       "chicks' growth, increasing their confidence, curiosity, and understanding of the world.\n",
       "</pre>\n"
      ],
      "text/plain": [
       "\n",
       "\n",
       "Summary:\n",
       "\n",
       "In the interview with the brave, independent-minded chicken, we explored the motivations and experiences \n",
       "surrounding the classic question of why chickens cross the road. The chicken shared that crossing the road is not \n",
       "merely about reaching the other side but is driven by a sense of adventure and exploration. Reasons for crossing \n",
       "include discovering new food sources, such as a patch of delicious bugs or a nice dust bath spot, and setting a \n",
       "bold example for its \u001b[1;36m12\u001b[0m chicks.\n",
       "\n",
       "The chicken recounted a memorable adventure leading its chicks to a lush grove, emphasizing the joy and learning \n",
       "experienced by the chicks as they explored new tastes and scents. However, the chicken also acknowledged the \n",
       "challenges and dangers of road-crossing, particularly the threat of passing vehicles and predators. It prepares by \n",
       "scouting for threats and teaching the chicks to be vigilant and stay close.\n",
       "\n",
       "Themes:\n",
       "\n",
       "The major themes of the interview with the brave, independent-minded chicken include:\n",
       "\n",
       "\u001b[1;36m1\u001b[0m. **Adventure and Exploration**: The chicken views crossing the road as an opportunity for adventure and \n",
       "exploration, driven by curiosity and the desire to discover new environments and resources.\n",
       "\n",
       "\u001b[1;36m2\u001b[0m. **Teaching and Leadership**: The chicken emphasizes setting a positive example for its \u001b[1;36m12\u001b[0m chicks, encouraging \n",
       "them to be curious and bold while teaching them important life skills and lessons through shared experiences.\n",
       "\n",
       "\u001b[1;36m3\u001b[0m. **Safety and Vigilance**: The chicken highlights the importance of being vigilant and prepared for potential \n",
       "dangers, such as passing vehicles and predators, when crossing the road. It shares strategies for ensuring safety \n",
       "and instilling caution in the chicks.\n",
       "\n",
       "\u001b[1;36m4\u001b[0m. **Learning and Growth**: The experiences of crossing the road and overcoming challenges contribute to the \n",
       "chicks' growth, increasing their confidence, curiosity, and understanding of the world.\n"
      ]
     },
     "metadata": {},
     "output_type": "display_data"
    }
   ],
   "source": [
    "conduct_interview(interview_subject_name, interview_subject_traits, interview_topic)"
   ]
  }
 ],
 "metadata": {
  "deepnote_execution_queue": [],
  "deepnote_notebook_id": "756eb677bdb4427c8bc5da1777a603cf",
  "kernelspec": {
   "display_name": "Python 3 (ipykernel)",
   "language": "python",
   "name": "python3"
  },
  "language_info": {
   "codemirror_mode": {
    "name": "ipython",
    "version": 3
   },
   "file_extension": ".py",
   "mimetype": "text/x-python",
   "name": "python",
   "nbconvert_exporter": "python",
   "pygments_lexer": "ipython3",
   "version": "3.11.7"
  }
 },
 "nbformat": 4,
 "nbformat_minor": 4
}
