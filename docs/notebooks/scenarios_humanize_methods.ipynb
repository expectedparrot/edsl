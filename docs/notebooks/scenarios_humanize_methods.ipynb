{
 "cells": [
  {
   "cell_type": "markdown",
   "id": "840ed9bb-5349-42c8-bd8d-e377c57747c8",
   "metadata": {
    "editable": true,
    "slideshow": {
     "slide_type": ""
    },
    "tags": []
   },
   "source": [
    "# Using scenarios with humanize\n",
    "Use scenarios with a survey by passing a parameter to the `humanize()` method:\n",
    "\n",
    "**Single scenario** \n",
    "* Use `survey.by(scenario).humanize(scenario_list_method = \"single_scenario\")`\n",
    "\n",
    "**Multiple scenarios**\n",
    "* Use `survey.by(scenarios).humanize(scenario_list_method = \"loop\")` to add each scenario to each question.\n",
    "* Use `survey.by(scenarios).humanize(scenario_list_method = \"randomize\")` to add a random scenario to each question (selected with replacement)."
   ]
  },
  {
   "cell_type": "code",
   "execution_count": 1,
   "id": "dee9949d-e2da-4d82-9b3f-d672f697d0f8",
   "metadata": {
    "editable": true,
    "slideshow": {
     "slide_type": ""
    },
    "tags": []
   },
   "outputs": [],
   "source": [
    "from edsl import QuestionMultipleChoice, Survey\n",
    "\n",
    "q1 = QuestionMultipleChoice(\n",
    "  question_name = \"enjoy\",\n",
    "  question_text = \"How much do you enjoy {{ scenario.activity }}?\",\n",
    "  question_options = [\"Not at all\", \"Somewhat\", \"Very much\"]\n",
    ")\n",
    "\n",
    "q2 = QuestionMultipleChoice(\n",
    "  question_name = \"friends\",\n",
    "  question_text = \"How much do your friends enjoy {{ scenario.activity }}?\",\n",
    "  question_options = [\"Not at all\", \"Somewhat\", \"Very much\"]\n",
    ")\n",
    "\n",
    "survey = Survey([q1, q2])"
   ]
  },
  {
   "cell_type": "markdown",
   "id": "ca4ddee2-b958-41bb-a712-8a6ab7a1a4b1",
   "metadata": {
    "editable": true,
    "slideshow": {
     "slide_type": ""
    },
    "tags": []
   },
   "source": [
    "## Single scenario"
   ]
  },
  {
   "cell_type": "code",
   "execution_count": 2,
   "id": "60004f2f-f996-4a35-96de-801f593056df",
   "metadata": {
    "editable": true,
    "slideshow": {
     "slide_type": ""
    },
    "tags": [
     "skip-execution"
    ]
   },
   "outputs": [
    {
     "data": {
      "text/plain": [
       "{'project_name': 'Soccer',\n",
       " 'uuid': 'c8a7bdec-8cac-4fad-8452-562b72a2badb',\n",
       " 'admin_url': 'https://www.expectedparrot.com/home/projects/c8a7bdec-8cac-4fad-8452-562b72a2badb',\n",
       " 'respondent_url': 'https://www.expectedparrot.com/respond/c8a7bdec-8cac-4fad-8452-562b72a2badb'}"
      ]
     },
     "execution_count": 2,
     "metadata": {},
     "output_type": "execute_result"
    }
   ],
   "source": [
    "from edsl import Scenario\n",
    "\n",
    "scenario = Scenario({\"activity\": \"soccer\"})\n",
    "\n",
    "job = survey.by(scenario)\n",
    "\n",
    "web_info = job.humanize(project_name=\"Soccer\", scenario_list_method=\"single_scenario\")\n",
    "\n",
    "web_info"
   ]
  },
  {
   "cell_type": "code",
   "execution_count": 3,
   "id": "8303750f-79b8-4cdb-9c27-452168be12b7",
   "metadata": {
    "editable": true,
    "slideshow": {
     "slide_type": ""
    },
    "tags": [
     "skip-execution"
    ]
   },
   "outputs": [],
   "source": [
    "from edsl import Coop\n",
    "\n",
    "coop = Coop()\n",
    "\n",
    "human_results = coop.get_project_human_responses(web_info[\"uuid\"])"
   ]
  },
  {
   "cell_type": "code",
   "execution_count": 4,
   "id": "2ebdb363-14c3-462b-97f5-9fc302d3a83d",
   "metadata": {
    "editable": true,
    "slideshow": {
     "slide_type": ""
    },
    "tags": [
     "skip-execution"
    ]
   },
   "outputs": [
    {
     "data": {
      "text/html": [
       "<p><a href='https://docs.expectedparrot.com/en/latest/results.html'>Results</a> observations: 1; agents: 1; models: 1; scenarios: 1; questions: 2; Survey question names: ['enjoy', 'friends'];</p>\n",
       "            <div style=\"max-height: 500px; overflow-y: auto;\">\n",
       "                <style type=\"text/css\">\n",
       "#T_d915b_row0_col0, #T_d915b_row0_col1, #T_d915b_row0_col2, #T_d915b_row0_col3, #T_d915b_row0_col6, #T_d915b_row0_col8, #T_d915b_row0_col11, #T_d915b_row0_col17, #T_d915b_row0_col18, #T_d915b_row0_col31, #T_d915b_row0_col32, #T_d915b_row0_col33, #T_d915b_row0_col34, #T_d915b_row0_col35, #T_d915b_row0_col36, #T_d915b_row0_col37, #T_d915b_row0_col38, #T_d915b_row0_col39, #T_d915b_row0_col40, #T_d915b_row0_col41, #T_d915b_row0_col42, #T_d915b_row0_col43, #T_d915b_row0_col44 {\n",
       "  text-align: left;\n",
       "  white-space: pre-wrap;\n",
       "  max-width: 300px;\n",
       "  word-wrap: break-word;\n",
       "}\n",
       "#T_d915b_row0_col4, #T_d915b_row0_col7, #T_d915b_row0_col9, #T_d915b_row0_col10, #T_d915b_row0_col30 {\n",
       "  text-align: left;\n",
       "  white-space: pre-wrap;\n",
       "  max-width: 300px;\n",
       "  word-wrap: break-word;\n",
       "  background-color: #fff7fb;\n",
       "  color: #000000;\n",
       "}\n",
       "#T_d915b_row0_col5, #T_d915b_row0_col12, #T_d915b_row0_col13, #T_d915b_row0_col14, #T_d915b_row0_col15, #T_d915b_row0_col16, #T_d915b_row0_col19, #T_d915b_row0_col20, #T_d915b_row0_col21, #T_d915b_row0_col22, #T_d915b_row0_col23, #T_d915b_row0_col24, #T_d915b_row0_col25, #T_d915b_row0_col26, #T_d915b_row0_col27, #T_d915b_row0_col28, #T_d915b_row0_col29, #T_d915b_row0_col45, #T_d915b_row0_col46 {\n",
       "  text-align: left;\n",
       "  white-space: pre-wrap;\n",
       "  max-width: 300px;\n",
       "  word-wrap: break-word;\n",
       "  background-color: #000000;\n",
       "  color: #f1f1f1;\n",
       "}\n",
       "</style>\n",
       "<table id=\"T_d915b\">\n",
       "  <thead>\n",
       "    <tr>\n",
       "      <th class=\"blank level0\" >&nbsp;</th>\n",
       "      <th id=\"T_d915b_level0_col0\" class=\"col_heading level0 col0\" >friends</th>\n",
       "      <th id=\"T_d915b_level0_col1\" class=\"col_heading level0 col1\" >enjoy</th>\n",
       "      <th id=\"T_d915b_level0_col2\" class=\"col_heading level0 col2\" >activity</th>\n",
       "      <th id=\"T_d915b_level0_col3\" class=\"col_heading level0 col3\" >uuid</th>\n",
       "      <th id=\"T_d915b_level0_col4\" class=\"col_heading level0 col4\" >scenario_index</th>\n",
       "      <th id=\"T_d915b_level0_col5\" class=\"col_heading level0 col5\" >agent_instruction</th>\n",
       "      <th id=\"T_d915b_level0_col6\" class=\"col_heading level0 col6\" >agent_name</th>\n",
       "      <th id=\"T_d915b_level0_col7\" class=\"col_heading level0 col7\" >agent_index</th>\n",
       "      <th id=\"T_d915b_level0_col8\" class=\"col_heading level0 col8\" >model</th>\n",
       "      <th id=\"T_d915b_level0_col9\" class=\"col_heading level0 col9\" >temperature</th>\n",
       "      <th id=\"T_d915b_level0_col10\" class=\"col_heading level0 col10\" >model_index</th>\n",
       "      <th id=\"T_d915b_level0_col11\" class=\"col_heading level0 col11\" >inference_service</th>\n",
       "      <th id=\"T_d915b_level0_col12\" class=\"col_heading level0 col12\" >enjoy_user_prompt</th>\n",
       "      <th id=\"T_d915b_level0_col13\" class=\"col_heading level0 col13\" >friends_user_prompt</th>\n",
       "      <th id=\"T_d915b_level0_col14\" class=\"col_heading level0 col14\" >friends_system_prompt</th>\n",
       "      <th id=\"T_d915b_level0_col15\" class=\"col_heading level0 col15\" >enjoy_system_prompt</th>\n",
       "      <th id=\"T_d915b_level0_col16\" class=\"col_heading level0 col16\" >friends_input_price_per_million_tokens</th>\n",
       "      <th id=\"T_d915b_level0_col17\" class=\"col_heading level0 col17\" >friends_raw_model_response</th>\n",
       "      <th id=\"T_d915b_level0_col18\" class=\"col_heading level0 col18\" >enjoy_raw_model_response</th>\n",
       "      <th id=\"T_d915b_level0_col19\" class=\"col_heading level0 col19\" >enjoy_input_tokens</th>\n",
       "      <th id=\"T_d915b_level0_col20\" class=\"col_heading level0 col20\" >enjoy_output_price_per_million_tokens</th>\n",
       "      <th id=\"T_d915b_level0_col21\" class=\"col_heading level0 col21\" >enjoy_output_tokens</th>\n",
       "      <th id=\"T_d915b_level0_col22\" class=\"col_heading level0 col22\" >enjoy_one_usd_buys</th>\n",
       "      <th id=\"T_d915b_level0_col23\" class=\"col_heading level0 col23\" >friends_input_tokens</th>\n",
       "      <th id=\"T_d915b_level0_col24\" class=\"col_heading level0 col24\" >enjoy_cost</th>\n",
       "      <th id=\"T_d915b_level0_col25\" class=\"col_heading level0 col25\" >friends_output_tokens</th>\n",
       "      <th id=\"T_d915b_level0_col26\" class=\"col_heading level0 col26\" >enjoy_input_price_per_million_tokens</th>\n",
       "      <th id=\"T_d915b_level0_col27\" class=\"col_heading level0 col27\" >friends_one_usd_buys</th>\n",
       "      <th id=\"T_d915b_level0_col28\" class=\"col_heading level0 col28\" >friends_cost</th>\n",
       "      <th id=\"T_d915b_level0_col29\" class=\"col_heading level0 col29\" >friends_output_price_per_million_tokens</th>\n",
       "      <th id=\"T_d915b_level0_col30\" class=\"col_heading level0 col30\" >iteration</th>\n",
       "      <th id=\"T_d915b_level0_col31\" class=\"col_heading level0 col31\" >enjoy_question_text</th>\n",
       "      <th id=\"T_d915b_level0_col32\" class=\"col_heading level0 col32\" >friends_question_text</th>\n",
       "      <th id=\"T_d915b_level0_col33\" class=\"col_heading level0 col33\" >friends_question_options</th>\n",
       "      <th id=\"T_d915b_level0_col34\" class=\"col_heading level0 col34\" >enjoy_question_options</th>\n",
       "      <th id=\"T_d915b_level0_col35\" class=\"col_heading level0 col35\" >enjoy_question_type</th>\n",
       "      <th id=\"T_d915b_level0_col36\" class=\"col_heading level0 col36\" >friends_question_type</th>\n",
       "      <th id=\"T_d915b_level0_col37\" class=\"col_heading level0 col37\" >friends_comment</th>\n",
       "      <th id=\"T_d915b_level0_col38\" class=\"col_heading level0 col38\" >enjoy_comment</th>\n",
       "      <th id=\"T_d915b_level0_col39\" class=\"col_heading level0 col39\" >friends_generated_tokens</th>\n",
       "      <th id=\"T_d915b_level0_col40\" class=\"col_heading level0 col40\" >enjoy_generated_tokens</th>\n",
       "      <th id=\"T_d915b_level0_col41\" class=\"col_heading level0 col41\" >enjoy_cache_used</th>\n",
       "      <th id=\"T_d915b_level0_col42\" class=\"col_heading level0 col42\" >friends_cache_used</th>\n",
       "      <th id=\"T_d915b_level0_col43\" class=\"col_heading level0 col43\" >friends_cache_key</th>\n",
       "      <th id=\"T_d915b_level0_col44\" class=\"col_heading level0 col44\" >enjoy_cache_key</th>\n",
       "      <th id=\"T_d915b_level0_col45\" class=\"col_heading level0 col45\" >enjoy_reasoning_summary</th>\n",
       "      <th id=\"T_d915b_level0_col46\" class=\"col_heading level0 col46\" >friends_reasoning_summary</th>\n",
       "    </tr>\n",
       "  </thead>\n",
       "  <tbody>\n",
       "    <tr>\n",
       "      <th id=\"T_d915b_level0_row0\" class=\"row_heading level0 row0\" >0</th>\n",
       "      <td id=\"T_d915b_row0_col0\" class=\"data row0 col0\" >Very much</td>\n",
       "      <td id=\"T_d915b_row0_col1\" class=\"data row0 col1\" >Not at all</td>\n",
       "      <td id=\"T_d915b_row0_col2\" class=\"data row0 col2\" >soccer</td>\n",
       "      <td id=\"T_d915b_row0_col3\" class=\"data row0 col3\" >154c312c-a709-453f-bd70-723090bbdff8</td>\n",
       "      <td id=\"T_d915b_row0_col4\" class=\"data row0 col4\" >0</td>\n",
       "      <td id=\"T_d915b_row0_col5\" class=\"data row0 col5\" >nan</td>\n",
       "      <td id=\"T_d915b_row0_col6\" class=\"data row0 col6\" >b5c91105-84cd-4243-9ae8-868c7a2f2cb1</td>\n",
       "      <td id=\"T_d915b_row0_col7\" class=\"data row0 col7\" >0</td>\n",
       "      <td id=\"T_d915b_row0_col8\" class=\"data row0 col8\" >test</td>\n",
       "      <td id=\"T_d915b_row0_col9\" class=\"data row0 col9\" >0.500000</td>\n",
       "      <td id=\"T_d915b_row0_col10\" class=\"data row0 col10\" >0</td>\n",
       "      <td id=\"T_d915b_row0_col11\" class=\"data row0 col11\" >test</td>\n",
       "      <td id=\"T_d915b_row0_col12\" class=\"data row0 col12\" >nan</td>\n",
       "      <td id=\"T_d915b_row0_col13\" class=\"data row0 col13\" >nan</td>\n",
       "      <td id=\"T_d915b_row0_col14\" class=\"data row0 col14\" >nan</td>\n",
       "      <td id=\"T_d915b_row0_col15\" class=\"data row0 col15\" >nan</td>\n",
       "      <td id=\"T_d915b_row0_col16\" class=\"data row0 col16\" >nan</td>\n",
       "      <td id=\"T_d915b_row0_col17\" class=\"data row0 col17\" >Not Applicable</td>\n",
       "      <td id=\"T_d915b_row0_col18\" class=\"data row0 col18\" >Not Applicable</td>\n",
       "      <td id=\"T_d915b_row0_col19\" class=\"data row0 col19\" >nan</td>\n",
       "      <td id=\"T_d915b_row0_col20\" class=\"data row0 col20\" >nan</td>\n",
       "      <td id=\"T_d915b_row0_col21\" class=\"data row0 col21\" >nan</td>\n",
       "      <td id=\"T_d915b_row0_col22\" class=\"data row0 col22\" >nan</td>\n",
       "      <td id=\"T_d915b_row0_col23\" class=\"data row0 col23\" >nan</td>\n",
       "      <td id=\"T_d915b_row0_col24\" class=\"data row0 col24\" >nan</td>\n",
       "      <td id=\"T_d915b_row0_col25\" class=\"data row0 col25\" >nan</td>\n",
       "      <td id=\"T_d915b_row0_col26\" class=\"data row0 col26\" >nan</td>\n",
       "      <td id=\"T_d915b_row0_col27\" class=\"data row0 col27\" >nan</td>\n",
       "      <td id=\"T_d915b_row0_col28\" class=\"data row0 col28\" >nan</td>\n",
       "      <td id=\"T_d915b_row0_col29\" class=\"data row0 col29\" >nan</td>\n",
       "      <td id=\"T_d915b_row0_col30\" class=\"data row0 col30\" >0</td>\n",
       "      <td id=\"T_d915b_row0_col31\" class=\"data row0 col31\" >How much do you enjoy {{ scenario.activity }}?</td>\n",
       "      <td id=\"T_d915b_row0_col32\" class=\"data row0 col32\" >How much do your friends enjoy {{ scenario.activity }}?</td>\n",
       "      <td id=\"T_d915b_row0_col33\" class=\"data row0 col33\" >['Not at all', 'Somewhat', 'Very much']</td>\n",
       "      <td id=\"T_d915b_row0_col34\" class=\"data row0 col34\" >['Not at all', 'Somewhat', 'Very much']</td>\n",
       "      <td id=\"T_d915b_row0_col35\" class=\"data row0 col35\" >multiple_choice</td>\n",
       "      <td id=\"T_d915b_row0_col36\" class=\"data row0 col36\" >multiple_choice</td>\n",
       "      <td id=\"T_d915b_row0_col37\" class=\"data row0 col37\" >This is a real survey response from a human.</td>\n",
       "      <td id=\"T_d915b_row0_col38\" class=\"data row0 col38\" >This is a real survey response from a human.</td>\n",
       "      <td id=\"T_d915b_row0_col39\" class=\"data row0 col39\" >Not Applicable</td>\n",
       "      <td id=\"T_d915b_row0_col40\" class=\"data row0 col40\" >Not Applicable</td>\n",
       "      <td id=\"T_d915b_row0_col41\" class=\"data row0 col41\" >Not Applicable</td>\n",
       "      <td id=\"T_d915b_row0_col42\" class=\"data row0 col42\" >Not Applicable</td>\n",
       "      <td id=\"T_d915b_row0_col43\" class=\"data row0 col43\" >Not Applicable</td>\n",
       "      <td id=\"T_d915b_row0_col44\" class=\"data row0 col44\" >Not Applicable</td>\n",
       "      <td id=\"T_d915b_row0_col45\" class=\"data row0 col45\" >nan</td>\n",
       "      <td id=\"T_d915b_row0_col46\" class=\"data row0 col46\" >nan</td>\n",
       "    </tr>\n",
       "  </tbody>\n",
       "</table>\n",
       "\n",
       "            </div>\n",
       "            "
      ],
      "text/plain": [
       "Results(data = [Result(agent=Agent(name = \"\"\"b5c91105-84cd-4243-9ae8-868c7a2f2cb1\"\"\", traits = {}, instruction = \"\"\"\"\"\"), scenario=Scenario({'activity': 'soccer', 'uuid': '154c312c-a709-453f-bd70-723090bbdff8', 'scenario_index': 0}), model=Model(model_name = 'test', service_name = 'test', temperature = 0.5), iteration=0, answer={'enjoy': 'Not at all', 'friends': 'Very much'}, prompt={'enjoy_user_prompt': Prompt(text=\"\"\"NA\"\"\"), 'enjoy_system_prompt': Prompt(text=\"\"\"NA\"\"\"), 'friends_user_prompt': Prompt(text=\"\"\"NA\"\"\"), 'friends_system_prompt': Prompt(text=\"\"\"NA\"\"\")}, raw_model_response={'enjoy_raw_model_response': 'Not Applicable', 'enjoy_input_tokens': None, 'enjoy_output_tokens': None, 'enjoy_input_price_per_million_tokens': None, 'enjoy_output_price_per_million_tokens': None, 'enjoy_cost': None, 'enjoy_one_usd_buys': 'NA', 'friends_raw_model_response': 'Not Applicable', 'friends_input_tokens': None, 'friends_output_tokens': None, 'friends_input_price_per_million_tokens': None, 'friends_output_price_per_million_tokens': None, 'friends_cost': None, 'friends_one_usd_buys': 'NA'}, question_to_attributes={'enjoy': {'question_text': 'How much do you enjoy {{ scenario.activity }}?', 'question_type': 'multiple_choice', 'question_options': ['Not at all', 'Somewhat', 'Very much']}, 'friends': {'question_text': 'How much do your friends enjoy {{ scenario.activity }}?', 'question_type': 'multiple_choice', 'question_options': ['Not at all', 'Somewhat', 'Very much']}}, generated_tokens={'enjoy_generated_tokens': 'Not Applicable', 'friends_generated_tokens': 'Not Applicable'}, comments_dict={'enjoy_comment': 'This is a real survey response from a human.', 'friends_comment': 'This is a real survey response from a human.'}, reasoning_summaries_dict={'enjoy_reasoning_summary': None, 'friends_reasoning_summary': None}, cache_used_dict={'enjoy': 'Not Applicable', 'friends': 'Not Applicable'}, cache_keys={'enjoy': 'Not Applicable', 'friends': 'Not Applicable'})], survey = Survey(questions=[Question('multiple_choice', question_name = \"\"\"enjoy\"\"\", question_text = \"\"\"How much do you enjoy {{ scenario.activity }}?\"\"\", question_options = ['Not at all', 'Somewhat', 'Very much']), Question('multiple_choice', question_name = \"\"\"friends\"\"\", question_text = \"\"\"How much do your friends enjoy {{ scenario.activity }}?\"\"\", question_options = ['Not at all', 'Somewhat', 'Very much'])], memory_plan={}, rule_collection=RuleCollection(rules=[Rule(current_q=0, expression=\"True\", next_q=1, priority=-1, question_name_to_index={'enjoy': 0}, before_rule=False), Rule(current_q=1, expression=\"True\", next_q=2, priority=-1, question_name_to_index={'enjoy': 0, 'friends': 1}, before_rule=False)], num_questions=2), question_groups={}, questions_to_randomize=[]), created_columns = [])"
      ]
     },
     "execution_count": 4,
     "metadata": {},
     "output_type": "execute_result"
    }
   ],
   "source": [
    "human_results"
   ]
  },
  {
   "cell_type": "markdown",
   "id": "28429da0-387c-47d5-800b-454d1c61ae88",
   "metadata": {
    "editable": true,
    "slideshow": {
     "slide_type": ""
    },
    "tags": []
   },
   "source": [
    "## Multiple scenarios"
   ]
  },
  {
   "cell_type": "code",
   "execution_count": 5,
   "id": "2f4fb90b-7d7d-4235-8adf-77e3615bd365",
   "metadata": {
    "editable": true,
    "slideshow": {
     "slide_type": ""
    },
    "tags": [
     "skip-execution"
    ]
   },
   "outputs": [
    {
     "data": {
      "text/plain": [
       "{'project_name': 'Tennis and sailing: Loop',\n",
       " 'uuid': '42f7cb55-6de5-4edc-ad9d-03f8a7d2fdd6',\n",
       " 'admin_url': 'https://www.expectedparrot.com/home/projects/42f7cb55-6de5-4edc-ad9d-03f8a7d2fdd6',\n",
       " 'respondent_url': 'https://www.expectedparrot.com/respond/42f7cb55-6de5-4edc-ad9d-03f8a7d2fdd6'}"
      ]
     },
     "execution_count": 5,
     "metadata": {},
     "output_type": "execute_result"
    }
   ],
   "source": [
    "from edsl import ScenarioList\n",
    "\n",
    "scenario_list = ScenarioList([\n",
    "    Scenario({\"activity\": \"tennis\"}),\n",
    "    Scenario({\"activity\": \"sailing\"})\n",
    "])\n",
    "\n",
    "job = survey.by(scenario_list)\n",
    "\n",
    "web_info = job.humanize(project_name=\"Tennis and sailing: Loop\", scenario_list_method=\"loop\")\n",
    "\n",
    "web_info"
   ]
  },
  {
   "cell_type": "code",
   "execution_count": 6,
   "id": "a316f775-5c7d-4a04-b407-b9dba771882a",
   "metadata": {
    "editable": true,
    "slideshow": {
     "slide_type": ""
    },
    "tags": [
     "skip-execution"
    ]
   },
   "outputs": [],
   "source": [
    "from edsl import Coop\n",
    "\n",
    "coop = Coop()\n",
    "\n",
    "human_results = coop.get_project_human_responses(web_info[\"uuid\"])"
   ]
  },
  {
   "cell_type": "code",
   "execution_count": 7,
   "id": "c2d39448-d43f-4a3b-89c6-aa708afdc288",
   "metadata": {
    "editable": true,
    "slideshow": {
     "slide_type": ""
    },
    "tags": [
     "skip-execution"
    ]
   },
   "outputs": [
    {
     "data": {
      "text/html": [
       "<p><a href='https://docs.expectedparrot.com/en/latest/results.html'>Results</a> observations: 1; agents: 1; models: 1; scenarios: 1; questions: 4; Survey question names: ['enjoy_0', 'enjoy_1', 'friends_0', 'friends_1'];</p>\n",
       "            <div style=\"max-height: 500px; overflow-y: auto;\">\n",
       "                <style type=\"text/css\">\n",
       "#T_2c4f9_row0_col0, #T_2c4f9_row0_col1, #T_2c4f9_row0_col2, #T_2c4f9_row0_col3, #T_2c4f9_row0_col4, #T_2c4f9_row0_col5, #T_2c4f9_row0_col6, #T_2c4f9_row0_col9, #T_2c4f9_row0_col11, #T_2c4f9_row0_col14, #T_2c4f9_row0_col26, #T_2c4f9_row0_col28, #T_2c4f9_row0_col44, #T_2c4f9_row0_col46, #T_2c4f9_row0_col52, #T_2c4f9_row0_col53, #T_2c4f9_row0_col54, #T_2c4f9_row0_col55, #T_2c4f9_row0_col56, #T_2c4f9_row0_col57, #T_2c4f9_row0_col58, #T_2c4f9_row0_col59, #T_2c4f9_row0_col60, #T_2c4f9_row0_col61, #T_2c4f9_row0_col62, #T_2c4f9_row0_col63, #T_2c4f9_row0_col64, #T_2c4f9_row0_col65, #T_2c4f9_row0_col66, #T_2c4f9_row0_col67, #T_2c4f9_row0_col68, #T_2c4f9_row0_col69, #T_2c4f9_row0_col70, #T_2c4f9_row0_col71, #T_2c4f9_row0_col72, #T_2c4f9_row0_col73, #T_2c4f9_row0_col74, #T_2c4f9_row0_col75, #T_2c4f9_row0_col76, #T_2c4f9_row0_col77, #T_2c4f9_row0_col78, #T_2c4f9_row0_col79 {\n",
       "  text-align: left;\n",
       "  white-space: pre-wrap;\n",
       "  max-width: 300px;\n",
       "  word-wrap: break-word;\n",
       "}\n",
       "#T_2c4f9_row0_col7, #T_2c4f9_row0_col10, #T_2c4f9_row0_col12, #T_2c4f9_row0_col13, #T_2c4f9_row0_col51 {\n",
       "  text-align: left;\n",
       "  white-space: pre-wrap;\n",
       "  max-width: 300px;\n",
       "  word-wrap: break-word;\n",
       "  background-color: #fff7fb;\n",
       "  color: #000000;\n",
       "}\n",
       "#T_2c4f9_row0_col8, #T_2c4f9_row0_col15, #T_2c4f9_row0_col16, #T_2c4f9_row0_col17, #T_2c4f9_row0_col18, #T_2c4f9_row0_col19, #T_2c4f9_row0_col20, #T_2c4f9_row0_col21, #T_2c4f9_row0_col22, #T_2c4f9_row0_col23, #T_2c4f9_row0_col24, #T_2c4f9_row0_col25, #T_2c4f9_row0_col27, #T_2c4f9_row0_col29, #T_2c4f9_row0_col30, #T_2c4f9_row0_col31, #T_2c4f9_row0_col32, #T_2c4f9_row0_col33, #T_2c4f9_row0_col34, #T_2c4f9_row0_col35, #T_2c4f9_row0_col36, #T_2c4f9_row0_col37, #T_2c4f9_row0_col38, #T_2c4f9_row0_col39, #T_2c4f9_row0_col40, #T_2c4f9_row0_col41, #T_2c4f9_row0_col42, #T_2c4f9_row0_col43, #T_2c4f9_row0_col45, #T_2c4f9_row0_col47, #T_2c4f9_row0_col48, #T_2c4f9_row0_col49, #T_2c4f9_row0_col50, #T_2c4f9_row0_col80, #T_2c4f9_row0_col81, #T_2c4f9_row0_col82, #T_2c4f9_row0_col83 {\n",
       "  text-align: left;\n",
       "  white-space: pre-wrap;\n",
       "  max-width: 300px;\n",
       "  word-wrap: break-word;\n",
       "  background-color: #000000;\n",
       "  color: #f1f1f1;\n",
       "}\n",
       "</style>\n",
       "<table id=\"T_2c4f9\">\n",
       "  <thead>\n",
       "    <tr>\n",
       "      <th class=\"blank level0\" >&nbsp;</th>\n",
       "      <th id=\"T_2c4f9_level0_col0\" class=\"col_heading level0 col0\" >enjoy_1</th>\n",
       "      <th id=\"T_2c4f9_level0_col1\" class=\"col_heading level0 col1\" >friends_1</th>\n",
       "      <th id=\"T_2c4f9_level0_col2\" class=\"col_heading level0 col2\" >friends_0</th>\n",
       "      <th id=\"T_2c4f9_level0_col3\" class=\"col_heading level0 col3\" >enjoy_0</th>\n",
       "      <th id=\"T_2c4f9_level0_col4\" class=\"col_heading level0 col4\" >activity_1</th>\n",
       "      <th id=\"T_2c4f9_level0_col5\" class=\"col_heading level0 col5\" >uuid</th>\n",
       "      <th id=\"T_2c4f9_level0_col6\" class=\"col_heading level0 col6\" >activity_0</th>\n",
       "      <th id=\"T_2c4f9_level0_col7\" class=\"col_heading level0 col7\" >scenario_index</th>\n",
       "      <th id=\"T_2c4f9_level0_col8\" class=\"col_heading level0 col8\" >agent_instruction</th>\n",
       "      <th id=\"T_2c4f9_level0_col9\" class=\"col_heading level0 col9\" >agent_name</th>\n",
       "      <th id=\"T_2c4f9_level0_col10\" class=\"col_heading level0 col10\" >agent_index</th>\n",
       "      <th id=\"T_2c4f9_level0_col11\" class=\"col_heading level0 col11\" >model</th>\n",
       "      <th id=\"T_2c4f9_level0_col12\" class=\"col_heading level0 col12\" >temperature</th>\n",
       "      <th id=\"T_2c4f9_level0_col13\" class=\"col_heading level0 col13\" >model_index</th>\n",
       "      <th id=\"T_2c4f9_level0_col14\" class=\"col_heading level0 col14\" >inference_service</th>\n",
       "      <th id=\"T_2c4f9_level0_col15\" class=\"col_heading level0 col15\" >friends_1_user_prompt</th>\n",
       "      <th id=\"T_2c4f9_level0_col16\" class=\"col_heading level0 col16\" >enjoy_0_user_prompt</th>\n",
       "      <th id=\"T_2c4f9_level0_col17\" class=\"col_heading level0 col17\" >enjoy_0_system_prompt</th>\n",
       "      <th id=\"T_2c4f9_level0_col18\" class=\"col_heading level0 col18\" >friends_1_system_prompt</th>\n",
       "      <th id=\"T_2c4f9_level0_col19\" class=\"col_heading level0 col19\" >friends_0_system_prompt</th>\n",
       "      <th id=\"T_2c4f9_level0_col20\" class=\"col_heading level0 col20\" >enjoy_1_user_prompt</th>\n",
       "      <th id=\"T_2c4f9_level0_col21\" class=\"col_heading level0 col21\" >friends_0_user_prompt</th>\n",
       "      <th id=\"T_2c4f9_level0_col22\" class=\"col_heading level0 col22\" >enjoy_1_system_prompt</th>\n",
       "      <th id=\"T_2c4f9_level0_col23\" class=\"col_heading level0 col23\" >enjoy_1_cost</th>\n",
       "      <th id=\"T_2c4f9_level0_col24\" class=\"col_heading level0 col24\" >friends_0_output_price_per_million_tokens</th>\n",
       "      <th id=\"T_2c4f9_level0_col25\" class=\"col_heading level0 col25\" >enjoy_0_cost</th>\n",
       "      <th id=\"T_2c4f9_level0_col26\" class=\"col_heading level0 col26\" >enjoy_1_raw_model_response</th>\n",
       "      <th id=\"T_2c4f9_level0_col27\" class=\"col_heading level0 col27\" >friends_0_input_tokens</th>\n",
       "      <th id=\"T_2c4f9_level0_col28\" class=\"col_heading level0 col28\" >enjoy_0_raw_model_response</th>\n",
       "      <th id=\"T_2c4f9_level0_col29\" class=\"col_heading level0 col29\" >friends_1_output_tokens</th>\n",
       "      <th id=\"T_2c4f9_level0_col30\" class=\"col_heading level0 col30\" >enjoy_0_one_usd_buys</th>\n",
       "      <th id=\"T_2c4f9_level0_col31\" class=\"col_heading level0 col31\" >friends_1_input_tokens</th>\n",
       "      <th id=\"T_2c4f9_level0_col32\" class=\"col_heading level0 col32\" >friends_0_cost</th>\n",
       "      <th id=\"T_2c4f9_level0_col33\" class=\"col_heading level0 col33\" >friends_1_output_price_per_million_tokens</th>\n",
       "      <th id=\"T_2c4f9_level0_col34\" class=\"col_heading level0 col34\" >friends_1_one_usd_buys</th>\n",
       "      <th id=\"T_2c4f9_level0_col35\" class=\"col_heading level0 col35\" >enjoy_0_output_tokens</th>\n",
       "      <th id=\"T_2c4f9_level0_col36\" class=\"col_heading level0 col36\" >enjoy_1_output_price_per_million_tokens</th>\n",
       "      <th id=\"T_2c4f9_level0_col37\" class=\"col_heading level0 col37\" >enjoy_1_input_price_per_million_tokens</th>\n",
       "      <th id=\"T_2c4f9_level0_col38\" class=\"col_heading level0 col38\" >enjoy_0_input_tokens</th>\n",
       "      <th id=\"T_2c4f9_level0_col39\" class=\"col_heading level0 col39\" >enjoy_0_input_price_per_million_tokens</th>\n",
       "      <th id=\"T_2c4f9_level0_col40\" class=\"col_heading level0 col40\" >friends_1_cost</th>\n",
       "      <th id=\"T_2c4f9_level0_col41\" class=\"col_heading level0 col41\" >enjoy_1_one_usd_buys</th>\n",
       "      <th id=\"T_2c4f9_level0_col42\" class=\"col_heading level0 col42\" >enjoy_0_output_price_per_million_tokens</th>\n",
       "      <th id=\"T_2c4f9_level0_col43\" class=\"col_heading level0 col43\" >friends_0_output_tokens</th>\n",
       "      <th id=\"T_2c4f9_level0_col44\" class=\"col_heading level0 col44\" >friends_1_raw_model_response</th>\n",
       "      <th id=\"T_2c4f9_level0_col45\" class=\"col_heading level0 col45\" >enjoy_1_output_tokens</th>\n",
       "      <th id=\"T_2c4f9_level0_col46\" class=\"col_heading level0 col46\" >friends_0_raw_model_response</th>\n",
       "      <th id=\"T_2c4f9_level0_col47\" class=\"col_heading level0 col47\" >friends_0_input_price_per_million_tokens</th>\n",
       "      <th id=\"T_2c4f9_level0_col48\" class=\"col_heading level0 col48\" >friends_1_input_price_per_million_tokens</th>\n",
       "      <th id=\"T_2c4f9_level0_col49\" class=\"col_heading level0 col49\" >friends_0_one_usd_buys</th>\n",
       "      <th id=\"T_2c4f9_level0_col50\" class=\"col_heading level0 col50\" >enjoy_1_input_tokens</th>\n",
       "      <th id=\"T_2c4f9_level0_col51\" class=\"col_heading level0 col51\" >iteration</th>\n",
       "      <th id=\"T_2c4f9_level0_col52\" class=\"col_heading level0 col52\" >friends_1_question_text</th>\n",
       "      <th id=\"T_2c4f9_level0_col53\" class=\"col_heading level0 col53\" >enjoy_1_question_text</th>\n",
       "      <th id=\"T_2c4f9_level0_col54\" class=\"col_heading level0 col54\" >enjoy_0_question_text</th>\n",
       "      <th id=\"T_2c4f9_level0_col55\" class=\"col_heading level0 col55\" >friends_0_question_text</th>\n",
       "      <th id=\"T_2c4f9_level0_col56\" class=\"col_heading level0 col56\" >enjoy_0_question_options</th>\n",
       "      <th id=\"T_2c4f9_level0_col57\" class=\"col_heading level0 col57\" >friends_1_question_options</th>\n",
       "      <th id=\"T_2c4f9_level0_col58\" class=\"col_heading level0 col58\" >enjoy_1_question_options</th>\n",
       "      <th id=\"T_2c4f9_level0_col59\" class=\"col_heading level0 col59\" >friends_0_question_options</th>\n",
       "      <th id=\"T_2c4f9_level0_col60\" class=\"col_heading level0 col60\" >friends_1_question_type</th>\n",
       "      <th id=\"T_2c4f9_level0_col61\" class=\"col_heading level0 col61\" >friends_0_question_type</th>\n",
       "      <th id=\"T_2c4f9_level0_col62\" class=\"col_heading level0 col62\" >enjoy_1_question_type</th>\n",
       "      <th id=\"T_2c4f9_level0_col63\" class=\"col_heading level0 col63\" >enjoy_0_question_type</th>\n",
       "      <th id=\"T_2c4f9_level0_col64\" class=\"col_heading level0 col64\" >friends_0_comment</th>\n",
       "      <th id=\"T_2c4f9_level0_col65\" class=\"col_heading level0 col65\" >enjoy_0_comment</th>\n",
       "      <th id=\"T_2c4f9_level0_col66\" class=\"col_heading level0 col66\" >enjoy_1_comment</th>\n",
       "      <th id=\"T_2c4f9_level0_col67\" class=\"col_heading level0 col67\" >friends_1_comment</th>\n",
       "      <th id=\"T_2c4f9_level0_col68\" class=\"col_heading level0 col68\" >friends_0_generated_tokens</th>\n",
       "      <th id=\"T_2c4f9_level0_col69\" class=\"col_heading level0 col69\" >enjoy_1_generated_tokens</th>\n",
       "      <th id=\"T_2c4f9_level0_col70\" class=\"col_heading level0 col70\" >friends_1_generated_tokens</th>\n",
       "      <th id=\"T_2c4f9_level0_col71\" class=\"col_heading level0 col71\" >enjoy_0_generated_tokens</th>\n",
       "      <th id=\"T_2c4f9_level0_col72\" class=\"col_heading level0 col72\" >enjoy_1_cache_used</th>\n",
       "      <th id=\"T_2c4f9_level0_col73\" class=\"col_heading level0 col73\" >enjoy_0_cache_used</th>\n",
       "      <th id=\"T_2c4f9_level0_col74\" class=\"col_heading level0 col74\" >friends_1_cache_used</th>\n",
       "      <th id=\"T_2c4f9_level0_col75\" class=\"col_heading level0 col75\" >friends_0_cache_used</th>\n",
       "      <th id=\"T_2c4f9_level0_col76\" class=\"col_heading level0 col76\" >enjoy_0_cache_key</th>\n",
       "      <th id=\"T_2c4f9_level0_col77\" class=\"col_heading level0 col77\" >friends_0_cache_key</th>\n",
       "      <th id=\"T_2c4f9_level0_col78\" class=\"col_heading level0 col78\" >friends_1_cache_key</th>\n",
       "      <th id=\"T_2c4f9_level0_col79\" class=\"col_heading level0 col79\" >enjoy_1_cache_key</th>\n",
       "      <th id=\"T_2c4f9_level0_col80\" class=\"col_heading level0 col80\" >friends_0_reasoning_summary</th>\n",
       "      <th id=\"T_2c4f9_level0_col81\" class=\"col_heading level0 col81\" >enjoy_1_reasoning_summary</th>\n",
       "      <th id=\"T_2c4f9_level0_col82\" class=\"col_heading level0 col82\" >friends_1_reasoning_summary</th>\n",
       "      <th id=\"T_2c4f9_level0_col83\" class=\"col_heading level0 col83\" >enjoy_0_reasoning_summary</th>\n",
       "    </tr>\n",
       "  </thead>\n",
       "  <tbody>\n",
       "    <tr>\n",
       "      <th id=\"T_2c4f9_level0_row0\" class=\"row_heading level0 row0\" >0</th>\n",
       "      <td id=\"T_2c4f9_row0_col0\" class=\"data row0 col0\" >Very much</td>\n",
       "      <td id=\"T_2c4f9_row0_col1\" class=\"data row0 col1\" >Somewhat</td>\n",
       "      <td id=\"T_2c4f9_row0_col2\" class=\"data row0 col2\" >Very much</td>\n",
       "      <td id=\"T_2c4f9_row0_col3\" class=\"data row0 col3\" >Somewhat</td>\n",
       "      <td id=\"T_2c4f9_row0_col4\" class=\"data row0 col4\" >sailing</td>\n",
       "      <td id=\"T_2c4f9_row0_col5\" class=\"data row0 col5\" >d60aa634-c0f4-4f39-94d2-416db99ed225</td>\n",
       "      <td id=\"T_2c4f9_row0_col6\" class=\"data row0 col6\" >tennis</td>\n",
       "      <td id=\"T_2c4f9_row0_col7\" class=\"data row0 col7\" >0</td>\n",
       "      <td id=\"T_2c4f9_row0_col8\" class=\"data row0 col8\" >nan</td>\n",
       "      <td id=\"T_2c4f9_row0_col9\" class=\"data row0 col9\" >77183f5e-aa20-4188-bb98-f5dff8046123</td>\n",
       "      <td id=\"T_2c4f9_row0_col10\" class=\"data row0 col10\" >0</td>\n",
       "      <td id=\"T_2c4f9_row0_col11\" class=\"data row0 col11\" >test</td>\n",
       "      <td id=\"T_2c4f9_row0_col12\" class=\"data row0 col12\" >0.500000</td>\n",
       "      <td id=\"T_2c4f9_row0_col13\" class=\"data row0 col13\" >0</td>\n",
       "      <td id=\"T_2c4f9_row0_col14\" class=\"data row0 col14\" >test</td>\n",
       "      <td id=\"T_2c4f9_row0_col15\" class=\"data row0 col15\" >nan</td>\n",
       "      <td id=\"T_2c4f9_row0_col16\" class=\"data row0 col16\" >nan</td>\n",
       "      <td id=\"T_2c4f9_row0_col17\" class=\"data row0 col17\" >nan</td>\n",
       "      <td id=\"T_2c4f9_row0_col18\" class=\"data row0 col18\" >nan</td>\n",
       "      <td id=\"T_2c4f9_row0_col19\" class=\"data row0 col19\" >nan</td>\n",
       "      <td id=\"T_2c4f9_row0_col20\" class=\"data row0 col20\" >nan</td>\n",
       "      <td id=\"T_2c4f9_row0_col21\" class=\"data row0 col21\" >nan</td>\n",
       "      <td id=\"T_2c4f9_row0_col22\" class=\"data row0 col22\" >nan</td>\n",
       "      <td id=\"T_2c4f9_row0_col23\" class=\"data row0 col23\" >nan</td>\n",
       "      <td id=\"T_2c4f9_row0_col24\" class=\"data row0 col24\" >nan</td>\n",
       "      <td id=\"T_2c4f9_row0_col25\" class=\"data row0 col25\" >nan</td>\n",
       "      <td id=\"T_2c4f9_row0_col26\" class=\"data row0 col26\" >Not Applicable</td>\n",
       "      <td id=\"T_2c4f9_row0_col27\" class=\"data row0 col27\" >nan</td>\n",
       "      <td id=\"T_2c4f9_row0_col28\" class=\"data row0 col28\" >Not Applicable</td>\n",
       "      <td id=\"T_2c4f9_row0_col29\" class=\"data row0 col29\" >nan</td>\n",
       "      <td id=\"T_2c4f9_row0_col30\" class=\"data row0 col30\" >nan</td>\n",
       "      <td id=\"T_2c4f9_row0_col31\" class=\"data row0 col31\" >nan</td>\n",
       "      <td id=\"T_2c4f9_row0_col32\" class=\"data row0 col32\" >nan</td>\n",
       "      <td id=\"T_2c4f9_row0_col33\" class=\"data row0 col33\" >nan</td>\n",
       "      <td id=\"T_2c4f9_row0_col34\" class=\"data row0 col34\" >nan</td>\n",
       "      <td id=\"T_2c4f9_row0_col35\" class=\"data row0 col35\" >nan</td>\n",
       "      <td id=\"T_2c4f9_row0_col36\" class=\"data row0 col36\" >nan</td>\n",
       "      <td id=\"T_2c4f9_row0_col37\" class=\"data row0 col37\" >nan</td>\n",
       "      <td id=\"T_2c4f9_row0_col38\" class=\"data row0 col38\" >nan</td>\n",
       "      <td id=\"T_2c4f9_row0_col39\" class=\"data row0 col39\" >nan</td>\n",
       "      <td id=\"T_2c4f9_row0_col40\" class=\"data row0 col40\" >nan</td>\n",
       "      <td id=\"T_2c4f9_row0_col41\" class=\"data row0 col41\" >nan</td>\n",
       "      <td id=\"T_2c4f9_row0_col42\" class=\"data row0 col42\" >nan</td>\n",
       "      <td id=\"T_2c4f9_row0_col43\" class=\"data row0 col43\" >nan</td>\n",
       "      <td id=\"T_2c4f9_row0_col44\" class=\"data row0 col44\" >Not Applicable</td>\n",
       "      <td id=\"T_2c4f9_row0_col45\" class=\"data row0 col45\" >nan</td>\n",
       "      <td id=\"T_2c4f9_row0_col46\" class=\"data row0 col46\" >Not Applicable</td>\n",
       "      <td id=\"T_2c4f9_row0_col47\" class=\"data row0 col47\" >nan</td>\n",
       "      <td id=\"T_2c4f9_row0_col48\" class=\"data row0 col48\" >nan</td>\n",
       "      <td id=\"T_2c4f9_row0_col49\" class=\"data row0 col49\" >nan</td>\n",
       "      <td id=\"T_2c4f9_row0_col50\" class=\"data row0 col50\" >nan</td>\n",
       "      <td id=\"T_2c4f9_row0_col51\" class=\"data row0 col51\" >0</td>\n",
       "      <td id=\"T_2c4f9_row0_col52\" class=\"data row0 col52\" >How much do your friends enjoy {{ scenario.activity_1 }}?</td>\n",
       "      <td id=\"T_2c4f9_row0_col53\" class=\"data row0 col53\" >How much do you enjoy {{ scenario.activity_1 }}?</td>\n",
       "      <td id=\"T_2c4f9_row0_col54\" class=\"data row0 col54\" >How much do you enjoy {{ scenario.activity_0 }}?</td>\n",
       "      <td id=\"T_2c4f9_row0_col55\" class=\"data row0 col55\" >How much do your friends enjoy {{ scenario.activity_0 }}?</td>\n",
       "      <td id=\"T_2c4f9_row0_col56\" class=\"data row0 col56\" >['Not at all', 'Somewhat', 'Very much']</td>\n",
       "      <td id=\"T_2c4f9_row0_col57\" class=\"data row0 col57\" >['Not at all', 'Somewhat', 'Very much']</td>\n",
       "      <td id=\"T_2c4f9_row0_col58\" class=\"data row0 col58\" >['Not at all', 'Somewhat', 'Very much']</td>\n",
       "      <td id=\"T_2c4f9_row0_col59\" class=\"data row0 col59\" >['Not at all', 'Somewhat', 'Very much']</td>\n",
       "      <td id=\"T_2c4f9_row0_col60\" class=\"data row0 col60\" >multiple_choice</td>\n",
       "      <td id=\"T_2c4f9_row0_col61\" class=\"data row0 col61\" >multiple_choice</td>\n",
       "      <td id=\"T_2c4f9_row0_col62\" class=\"data row0 col62\" >multiple_choice</td>\n",
       "      <td id=\"T_2c4f9_row0_col63\" class=\"data row0 col63\" >multiple_choice</td>\n",
       "      <td id=\"T_2c4f9_row0_col64\" class=\"data row0 col64\" >This is a real survey response from a human.</td>\n",
       "      <td id=\"T_2c4f9_row0_col65\" class=\"data row0 col65\" >This is a real survey response from a human.</td>\n",
       "      <td id=\"T_2c4f9_row0_col66\" class=\"data row0 col66\" >This is a real survey response from a human.</td>\n",
       "      <td id=\"T_2c4f9_row0_col67\" class=\"data row0 col67\" >This is a real survey response from a human.</td>\n",
       "      <td id=\"T_2c4f9_row0_col68\" class=\"data row0 col68\" >Not Applicable</td>\n",
       "      <td id=\"T_2c4f9_row0_col69\" class=\"data row0 col69\" >Not Applicable</td>\n",
       "      <td id=\"T_2c4f9_row0_col70\" class=\"data row0 col70\" >Not Applicable</td>\n",
       "      <td id=\"T_2c4f9_row0_col71\" class=\"data row0 col71\" >Not Applicable</td>\n",
       "      <td id=\"T_2c4f9_row0_col72\" class=\"data row0 col72\" >Not Applicable</td>\n",
       "      <td id=\"T_2c4f9_row0_col73\" class=\"data row0 col73\" >Not Applicable</td>\n",
       "      <td id=\"T_2c4f9_row0_col74\" class=\"data row0 col74\" >Not Applicable</td>\n",
       "      <td id=\"T_2c4f9_row0_col75\" class=\"data row0 col75\" >Not Applicable</td>\n",
       "      <td id=\"T_2c4f9_row0_col76\" class=\"data row0 col76\" >Not Applicable</td>\n",
       "      <td id=\"T_2c4f9_row0_col77\" class=\"data row0 col77\" >Not Applicable</td>\n",
       "      <td id=\"T_2c4f9_row0_col78\" class=\"data row0 col78\" >Not Applicable</td>\n",
       "      <td id=\"T_2c4f9_row0_col79\" class=\"data row0 col79\" >Not Applicable</td>\n",
       "      <td id=\"T_2c4f9_row0_col80\" class=\"data row0 col80\" >nan</td>\n",
       "      <td id=\"T_2c4f9_row0_col81\" class=\"data row0 col81\" >nan</td>\n",
       "      <td id=\"T_2c4f9_row0_col82\" class=\"data row0 col82\" >nan</td>\n",
       "      <td id=\"T_2c4f9_row0_col83\" class=\"data row0 col83\" >nan</td>\n",
       "    </tr>\n",
       "  </tbody>\n",
       "</table>\n",
       "\n",
       "            </div>\n",
       "            "
      ],
      "text/plain": [
       "Results(data = [Result(agent=Agent(name = \"\"\"77183f5e-aa20-4188-bb98-f5dff8046123\"\"\", traits = {}, instruction = \"\"\"\"\"\"), scenario=Scenario({'activity_0': 'tennis', 'activity_1': 'sailing', 'uuid': 'd60aa634-c0f4-4f39-94d2-416db99ed225', 'scenario_index': 0}), model=Model(model_name = 'test', service_name = 'test', temperature = 0.5), iteration=0, answer={'enjoy_0': 'Somewhat', 'enjoy_1': 'Very much', 'friends_0': 'Very much', 'friends_1': 'Somewhat'}, prompt={'enjoy_0_user_prompt': Prompt(text=\"\"\"NA\"\"\"), 'enjoy_0_system_prompt': Prompt(text=\"\"\"NA\"\"\"), 'enjoy_1_user_prompt': Prompt(text=\"\"\"NA\"\"\"), 'enjoy_1_system_prompt': Prompt(text=\"\"\"NA\"\"\"), 'friends_0_user_prompt': Prompt(text=\"\"\"NA\"\"\"), 'friends_0_system_prompt': Prompt(text=\"\"\"NA\"\"\"), 'friends_1_user_prompt': Prompt(text=\"\"\"NA\"\"\"), 'friends_1_system_prompt': Prompt(text=\"\"\"NA\"\"\")}, raw_model_response={'enjoy_0_raw_model_response': 'Not Applicable', 'enjoy_0_input_tokens': None, 'enjoy_0_output_tokens': None, 'enjoy_0_input_price_per_million_tokens': None, 'enjoy_0_output_price_per_million_tokens': None, 'enjoy_0_cost': None, 'enjoy_0_one_usd_buys': 'NA', 'enjoy_1_raw_model_response': 'Not Applicable', 'enjoy_1_input_tokens': None, 'enjoy_1_output_tokens': None, 'enjoy_1_input_price_per_million_tokens': None, 'enjoy_1_output_price_per_million_tokens': None, 'enjoy_1_cost': None, 'enjoy_1_one_usd_buys': 'NA', 'friends_0_raw_model_response': 'Not Applicable', 'friends_0_input_tokens': None, 'friends_0_output_tokens': None, 'friends_0_input_price_per_million_tokens': None, 'friends_0_output_price_per_million_tokens': None, 'friends_0_cost': None, 'friends_0_one_usd_buys': 'NA', 'friends_1_raw_model_response': 'Not Applicable', 'friends_1_input_tokens': None, 'friends_1_output_tokens': None, 'friends_1_input_price_per_million_tokens': None, 'friends_1_output_price_per_million_tokens': None, 'friends_1_cost': None, 'friends_1_one_usd_buys': 'NA'}, question_to_attributes={'enjoy_0': {'question_text': 'How much do you enjoy {{ scenario.activity_0 }}?', 'question_type': 'multiple_choice', 'question_options': ['Not at all', 'Somewhat', 'Very much']}, 'enjoy_1': {'question_text': 'How much do you enjoy {{ scenario.activity_1 }}?', 'question_type': 'multiple_choice', 'question_options': ['Not at all', 'Somewhat', 'Very much']}, 'friends_0': {'question_text': 'How much do your friends enjoy {{ scenario.activity_0 }}?', 'question_type': 'multiple_choice', 'question_options': ['Not at all', 'Somewhat', 'Very much']}, 'friends_1': {'question_text': 'How much do your friends enjoy {{ scenario.activity_1 }}?', 'question_type': 'multiple_choice', 'question_options': ['Not at all', 'Somewhat', 'Very much']}}, generated_tokens={'enjoy_0_generated_tokens': 'Not Applicable', 'enjoy_1_generated_tokens': 'Not Applicable', 'friends_0_generated_tokens': 'Not Applicable', 'friends_1_generated_tokens': 'Not Applicable'}, comments_dict={'enjoy_0_comment': 'This is a real survey response from a human.', 'enjoy_1_comment': 'This is a real survey response from a human.', 'friends_0_comment': 'This is a real survey response from a human.', 'friends_1_comment': 'This is a real survey response from a human.'}, reasoning_summaries_dict={'enjoy_0_reasoning_summary': None, 'enjoy_1_reasoning_summary': None, 'friends_0_reasoning_summary': None, 'friends_1_reasoning_summary': None}, cache_used_dict={'enjoy_0': 'Not Applicable', 'enjoy_1': 'Not Applicable', 'friends_0': 'Not Applicable', 'friends_1': 'Not Applicable'}, cache_keys={'enjoy_0': 'Not Applicable', 'enjoy_1': 'Not Applicable', 'friends_0': 'Not Applicable', 'friends_1': 'Not Applicable'})], survey = Survey(questions=[Question('multiple_choice', question_name = \"\"\"enjoy_0\"\"\", question_text = \"\"\"How much do you enjoy {{ scenario.activity_0 }}?\"\"\", question_options = ['Not at all', 'Somewhat', 'Very much']), Question('multiple_choice', question_name = \"\"\"enjoy_1\"\"\", question_text = \"\"\"How much do you enjoy {{ scenario.activity_1 }}?\"\"\", question_options = ['Not at all', 'Somewhat', 'Very much']), Question('multiple_choice', question_name = \"\"\"friends_0\"\"\", question_text = \"\"\"How much do your friends enjoy {{ scenario.activity_0 }}?\"\"\", question_options = ['Not at all', 'Somewhat', 'Very much']), Question('multiple_choice', question_name = \"\"\"friends_1\"\"\", question_text = \"\"\"How much do your friends enjoy {{ scenario.activity_1 }}?\"\"\", question_options = ['Not at all', 'Somewhat', 'Very much'])], memory_plan={}, rule_collection=RuleCollection(rules=[Rule(current_q=0, expression=\"True\", next_q=1, priority=-1, question_name_to_index={'enjoy_0': 0}, before_rule=False), Rule(current_q=1, expression=\"True\", next_q=2, priority=-1, question_name_to_index={'enjoy_0': 0, 'enjoy_1': 1}, before_rule=False), Rule(current_q=2, expression=\"True\", next_q=3, priority=-1, question_name_to_index={'enjoy_0': 0, 'enjoy_1': 1, 'friends_0': 2}, before_rule=False), Rule(current_q=3, expression=\"True\", next_q=4, priority=-1, question_name_to_index={'enjoy_0': 0, 'enjoy_1': 1, 'friends_0': 2, 'friends_1': 3}, before_rule=False)], num_questions=4), question_groups={}, questions_to_randomize=[]), created_columns = [])"
      ]
     },
     "execution_count": 7,
     "metadata": {},
     "output_type": "execute_result"
    }
   ],
   "source": [
    "human_results"
   ]
  },
  {
   "cell_type": "code",
   "execution_count": 8,
   "id": "9fab56ec-59f9-4de2-98a8-da11dea4ec80",
   "metadata": {
    "editable": true,
    "slideshow": {
     "slide_type": ""
    },
    "tags": [
     "skip-execution"
    ]
   },
   "outputs": [
    {
     "data": {
      "text/plain": [
       "{'project_name': 'Tennis and sailing: Randomize',\n",
       " 'uuid': '1ef9f51c-7aed-4462-a795-737009e950b4',\n",
       " 'admin_url': 'https://www.expectedparrot.com/home/projects/1ef9f51c-7aed-4462-a795-737009e950b4',\n",
       " 'respondent_url': 'https://www.expectedparrot.com/respond/1ef9f51c-7aed-4462-a795-737009e950b4'}"
      ]
     },
     "execution_count": 8,
     "metadata": {},
     "output_type": "execute_result"
    }
   ],
   "source": [
    "job = survey.by(scenario_list)\n",
    "\n",
    "job.humanize(project_name=\"Tennis and sailing: Randomize\", scenario_list_method=\"randomize\")"
   ]
  },
  {
   "cell_type": "code",
   "execution_count": 9,
   "id": "550bd2ff-bb64-4a69-ad04-b74c45920eb4",
   "metadata": {
    "editable": true,
    "slideshow": {
     "slide_type": ""
    },
    "tags": [
     "skip-execution"
    ]
   },
   "outputs": [],
   "source": [
    "from edsl import Coop\n",
    "\n",
    "coop = Coop()\n",
    "\n",
    "human_results = coop.get_project_human_responses(web_info[\"uuid\"])"
   ]
  },
  {
   "cell_type": "code",
   "execution_count": 10,
   "id": "0bcb4f9f-3186-4e6d-81fc-5d9f92cd548e",
   "metadata": {
    "editable": true,
    "slideshow": {
     "slide_type": ""
    },
    "tags": [
     "skip-execution"
    ]
   },
   "outputs": [
    {
     "data": {
      "text/html": [
       "<p><a href='https://docs.expectedparrot.com/en/latest/results.html'>Results</a> observations: 1; agents: 1; models: 1; scenarios: 1; questions: 4; Survey question names: ['enjoy_0', 'enjoy_1', 'friends_0', 'friends_1'];</p>\n",
       "            <div style=\"max-height: 500px; overflow-y: auto;\">\n",
       "                <style type=\"text/css\">\n",
       "#T_42dae_row0_col0, #T_42dae_row0_col1, #T_42dae_row0_col2, #T_42dae_row0_col3, #T_42dae_row0_col4, #T_42dae_row0_col5, #T_42dae_row0_col6, #T_42dae_row0_col9, #T_42dae_row0_col11, #T_42dae_row0_col14, #T_42dae_row0_col26, #T_42dae_row0_col28, #T_42dae_row0_col44, #T_42dae_row0_col46, #T_42dae_row0_col52, #T_42dae_row0_col53, #T_42dae_row0_col54, #T_42dae_row0_col55, #T_42dae_row0_col56, #T_42dae_row0_col57, #T_42dae_row0_col58, #T_42dae_row0_col59, #T_42dae_row0_col60, #T_42dae_row0_col61, #T_42dae_row0_col62, #T_42dae_row0_col63, #T_42dae_row0_col64, #T_42dae_row0_col65, #T_42dae_row0_col66, #T_42dae_row0_col67, #T_42dae_row0_col68, #T_42dae_row0_col69, #T_42dae_row0_col70, #T_42dae_row0_col71, #T_42dae_row0_col72, #T_42dae_row0_col73, #T_42dae_row0_col74, #T_42dae_row0_col75, #T_42dae_row0_col76, #T_42dae_row0_col77, #T_42dae_row0_col78, #T_42dae_row0_col79 {\n",
       "  text-align: left;\n",
       "  white-space: pre-wrap;\n",
       "  max-width: 300px;\n",
       "  word-wrap: break-word;\n",
       "}\n",
       "#T_42dae_row0_col7, #T_42dae_row0_col10, #T_42dae_row0_col12, #T_42dae_row0_col13, #T_42dae_row0_col51 {\n",
       "  text-align: left;\n",
       "  white-space: pre-wrap;\n",
       "  max-width: 300px;\n",
       "  word-wrap: break-word;\n",
       "  background-color: #fff7fb;\n",
       "  color: #000000;\n",
       "}\n",
       "#T_42dae_row0_col8, #T_42dae_row0_col15, #T_42dae_row0_col16, #T_42dae_row0_col17, #T_42dae_row0_col18, #T_42dae_row0_col19, #T_42dae_row0_col20, #T_42dae_row0_col21, #T_42dae_row0_col22, #T_42dae_row0_col23, #T_42dae_row0_col24, #T_42dae_row0_col25, #T_42dae_row0_col27, #T_42dae_row0_col29, #T_42dae_row0_col30, #T_42dae_row0_col31, #T_42dae_row0_col32, #T_42dae_row0_col33, #T_42dae_row0_col34, #T_42dae_row0_col35, #T_42dae_row0_col36, #T_42dae_row0_col37, #T_42dae_row0_col38, #T_42dae_row0_col39, #T_42dae_row0_col40, #T_42dae_row0_col41, #T_42dae_row0_col42, #T_42dae_row0_col43, #T_42dae_row0_col45, #T_42dae_row0_col47, #T_42dae_row0_col48, #T_42dae_row0_col49, #T_42dae_row0_col50, #T_42dae_row0_col80, #T_42dae_row0_col81, #T_42dae_row0_col82, #T_42dae_row0_col83 {\n",
       "  text-align: left;\n",
       "  white-space: pre-wrap;\n",
       "  max-width: 300px;\n",
       "  word-wrap: break-word;\n",
       "  background-color: #000000;\n",
       "  color: #f1f1f1;\n",
       "}\n",
       "</style>\n",
       "<table id=\"T_42dae\">\n",
       "  <thead>\n",
       "    <tr>\n",
       "      <th class=\"blank level0\" >&nbsp;</th>\n",
       "      <th id=\"T_42dae_level0_col0\" class=\"col_heading level0 col0\" >enjoy_1</th>\n",
       "      <th id=\"T_42dae_level0_col1\" class=\"col_heading level0 col1\" >friends_1</th>\n",
       "      <th id=\"T_42dae_level0_col2\" class=\"col_heading level0 col2\" >friends_0</th>\n",
       "      <th id=\"T_42dae_level0_col3\" class=\"col_heading level0 col3\" >enjoy_0</th>\n",
       "      <th id=\"T_42dae_level0_col4\" class=\"col_heading level0 col4\" >activity_1</th>\n",
       "      <th id=\"T_42dae_level0_col5\" class=\"col_heading level0 col5\" >uuid</th>\n",
       "      <th id=\"T_42dae_level0_col6\" class=\"col_heading level0 col6\" >activity_0</th>\n",
       "      <th id=\"T_42dae_level0_col7\" class=\"col_heading level0 col7\" >scenario_index</th>\n",
       "      <th id=\"T_42dae_level0_col8\" class=\"col_heading level0 col8\" >agent_instruction</th>\n",
       "      <th id=\"T_42dae_level0_col9\" class=\"col_heading level0 col9\" >agent_name</th>\n",
       "      <th id=\"T_42dae_level0_col10\" class=\"col_heading level0 col10\" >agent_index</th>\n",
       "      <th id=\"T_42dae_level0_col11\" class=\"col_heading level0 col11\" >model</th>\n",
       "      <th id=\"T_42dae_level0_col12\" class=\"col_heading level0 col12\" >temperature</th>\n",
       "      <th id=\"T_42dae_level0_col13\" class=\"col_heading level0 col13\" >model_index</th>\n",
       "      <th id=\"T_42dae_level0_col14\" class=\"col_heading level0 col14\" >inference_service</th>\n",
       "      <th id=\"T_42dae_level0_col15\" class=\"col_heading level0 col15\" >friends_1_user_prompt</th>\n",
       "      <th id=\"T_42dae_level0_col16\" class=\"col_heading level0 col16\" >enjoy_0_user_prompt</th>\n",
       "      <th id=\"T_42dae_level0_col17\" class=\"col_heading level0 col17\" >enjoy_0_system_prompt</th>\n",
       "      <th id=\"T_42dae_level0_col18\" class=\"col_heading level0 col18\" >friends_1_system_prompt</th>\n",
       "      <th id=\"T_42dae_level0_col19\" class=\"col_heading level0 col19\" >friends_0_system_prompt</th>\n",
       "      <th id=\"T_42dae_level0_col20\" class=\"col_heading level0 col20\" >enjoy_1_user_prompt</th>\n",
       "      <th id=\"T_42dae_level0_col21\" class=\"col_heading level0 col21\" >friends_0_user_prompt</th>\n",
       "      <th id=\"T_42dae_level0_col22\" class=\"col_heading level0 col22\" >enjoy_1_system_prompt</th>\n",
       "      <th id=\"T_42dae_level0_col23\" class=\"col_heading level0 col23\" >enjoy_1_cost</th>\n",
       "      <th id=\"T_42dae_level0_col24\" class=\"col_heading level0 col24\" >friends_0_output_price_per_million_tokens</th>\n",
       "      <th id=\"T_42dae_level0_col25\" class=\"col_heading level0 col25\" >enjoy_0_cost</th>\n",
       "      <th id=\"T_42dae_level0_col26\" class=\"col_heading level0 col26\" >enjoy_1_raw_model_response</th>\n",
       "      <th id=\"T_42dae_level0_col27\" class=\"col_heading level0 col27\" >friends_0_input_tokens</th>\n",
       "      <th id=\"T_42dae_level0_col28\" class=\"col_heading level0 col28\" >enjoy_0_raw_model_response</th>\n",
       "      <th id=\"T_42dae_level0_col29\" class=\"col_heading level0 col29\" >friends_1_output_tokens</th>\n",
       "      <th id=\"T_42dae_level0_col30\" class=\"col_heading level0 col30\" >enjoy_0_one_usd_buys</th>\n",
       "      <th id=\"T_42dae_level0_col31\" class=\"col_heading level0 col31\" >friends_1_input_tokens</th>\n",
       "      <th id=\"T_42dae_level0_col32\" class=\"col_heading level0 col32\" >friends_0_cost</th>\n",
       "      <th id=\"T_42dae_level0_col33\" class=\"col_heading level0 col33\" >friends_1_output_price_per_million_tokens</th>\n",
       "      <th id=\"T_42dae_level0_col34\" class=\"col_heading level0 col34\" >friends_1_one_usd_buys</th>\n",
       "      <th id=\"T_42dae_level0_col35\" class=\"col_heading level0 col35\" >enjoy_0_output_tokens</th>\n",
       "      <th id=\"T_42dae_level0_col36\" class=\"col_heading level0 col36\" >enjoy_1_output_price_per_million_tokens</th>\n",
       "      <th id=\"T_42dae_level0_col37\" class=\"col_heading level0 col37\" >enjoy_1_input_price_per_million_tokens</th>\n",
       "      <th id=\"T_42dae_level0_col38\" class=\"col_heading level0 col38\" >enjoy_0_input_tokens</th>\n",
       "      <th id=\"T_42dae_level0_col39\" class=\"col_heading level0 col39\" >enjoy_0_input_price_per_million_tokens</th>\n",
       "      <th id=\"T_42dae_level0_col40\" class=\"col_heading level0 col40\" >friends_1_cost</th>\n",
       "      <th id=\"T_42dae_level0_col41\" class=\"col_heading level0 col41\" >enjoy_1_one_usd_buys</th>\n",
       "      <th id=\"T_42dae_level0_col42\" class=\"col_heading level0 col42\" >enjoy_0_output_price_per_million_tokens</th>\n",
       "      <th id=\"T_42dae_level0_col43\" class=\"col_heading level0 col43\" >friends_0_output_tokens</th>\n",
       "      <th id=\"T_42dae_level0_col44\" class=\"col_heading level0 col44\" >friends_1_raw_model_response</th>\n",
       "      <th id=\"T_42dae_level0_col45\" class=\"col_heading level0 col45\" >enjoy_1_output_tokens</th>\n",
       "      <th id=\"T_42dae_level0_col46\" class=\"col_heading level0 col46\" >friends_0_raw_model_response</th>\n",
       "      <th id=\"T_42dae_level0_col47\" class=\"col_heading level0 col47\" >friends_0_input_price_per_million_tokens</th>\n",
       "      <th id=\"T_42dae_level0_col48\" class=\"col_heading level0 col48\" >friends_1_input_price_per_million_tokens</th>\n",
       "      <th id=\"T_42dae_level0_col49\" class=\"col_heading level0 col49\" >friends_0_one_usd_buys</th>\n",
       "      <th id=\"T_42dae_level0_col50\" class=\"col_heading level0 col50\" >enjoy_1_input_tokens</th>\n",
       "      <th id=\"T_42dae_level0_col51\" class=\"col_heading level0 col51\" >iteration</th>\n",
       "      <th id=\"T_42dae_level0_col52\" class=\"col_heading level0 col52\" >friends_1_question_text</th>\n",
       "      <th id=\"T_42dae_level0_col53\" class=\"col_heading level0 col53\" >enjoy_1_question_text</th>\n",
       "      <th id=\"T_42dae_level0_col54\" class=\"col_heading level0 col54\" >enjoy_0_question_text</th>\n",
       "      <th id=\"T_42dae_level0_col55\" class=\"col_heading level0 col55\" >friends_0_question_text</th>\n",
       "      <th id=\"T_42dae_level0_col56\" class=\"col_heading level0 col56\" >enjoy_0_question_options</th>\n",
       "      <th id=\"T_42dae_level0_col57\" class=\"col_heading level0 col57\" >friends_1_question_options</th>\n",
       "      <th id=\"T_42dae_level0_col58\" class=\"col_heading level0 col58\" >enjoy_1_question_options</th>\n",
       "      <th id=\"T_42dae_level0_col59\" class=\"col_heading level0 col59\" >friends_0_question_options</th>\n",
       "      <th id=\"T_42dae_level0_col60\" class=\"col_heading level0 col60\" >friends_1_question_type</th>\n",
       "      <th id=\"T_42dae_level0_col61\" class=\"col_heading level0 col61\" >friends_0_question_type</th>\n",
       "      <th id=\"T_42dae_level0_col62\" class=\"col_heading level0 col62\" >enjoy_1_question_type</th>\n",
       "      <th id=\"T_42dae_level0_col63\" class=\"col_heading level0 col63\" >enjoy_0_question_type</th>\n",
       "      <th id=\"T_42dae_level0_col64\" class=\"col_heading level0 col64\" >friends_0_comment</th>\n",
       "      <th id=\"T_42dae_level0_col65\" class=\"col_heading level0 col65\" >enjoy_0_comment</th>\n",
       "      <th id=\"T_42dae_level0_col66\" class=\"col_heading level0 col66\" >enjoy_1_comment</th>\n",
       "      <th id=\"T_42dae_level0_col67\" class=\"col_heading level0 col67\" >friends_1_comment</th>\n",
       "      <th id=\"T_42dae_level0_col68\" class=\"col_heading level0 col68\" >friends_0_generated_tokens</th>\n",
       "      <th id=\"T_42dae_level0_col69\" class=\"col_heading level0 col69\" >enjoy_1_generated_tokens</th>\n",
       "      <th id=\"T_42dae_level0_col70\" class=\"col_heading level0 col70\" >friends_1_generated_tokens</th>\n",
       "      <th id=\"T_42dae_level0_col71\" class=\"col_heading level0 col71\" >enjoy_0_generated_tokens</th>\n",
       "      <th id=\"T_42dae_level0_col72\" class=\"col_heading level0 col72\" >enjoy_1_cache_used</th>\n",
       "      <th id=\"T_42dae_level0_col73\" class=\"col_heading level0 col73\" >enjoy_0_cache_used</th>\n",
       "      <th id=\"T_42dae_level0_col74\" class=\"col_heading level0 col74\" >friends_1_cache_used</th>\n",
       "      <th id=\"T_42dae_level0_col75\" class=\"col_heading level0 col75\" >friends_0_cache_used</th>\n",
       "      <th id=\"T_42dae_level0_col76\" class=\"col_heading level0 col76\" >enjoy_0_cache_key</th>\n",
       "      <th id=\"T_42dae_level0_col77\" class=\"col_heading level0 col77\" >friends_0_cache_key</th>\n",
       "      <th id=\"T_42dae_level0_col78\" class=\"col_heading level0 col78\" >friends_1_cache_key</th>\n",
       "      <th id=\"T_42dae_level0_col79\" class=\"col_heading level0 col79\" >enjoy_1_cache_key</th>\n",
       "      <th id=\"T_42dae_level0_col80\" class=\"col_heading level0 col80\" >friends_0_reasoning_summary</th>\n",
       "      <th id=\"T_42dae_level0_col81\" class=\"col_heading level0 col81\" >enjoy_1_reasoning_summary</th>\n",
       "      <th id=\"T_42dae_level0_col82\" class=\"col_heading level0 col82\" >friends_1_reasoning_summary</th>\n",
       "      <th id=\"T_42dae_level0_col83\" class=\"col_heading level0 col83\" >enjoy_0_reasoning_summary</th>\n",
       "    </tr>\n",
       "  </thead>\n",
       "  <tbody>\n",
       "    <tr>\n",
       "      <th id=\"T_42dae_level0_row0\" class=\"row_heading level0 row0\" >0</th>\n",
       "      <td id=\"T_42dae_row0_col0\" class=\"data row0 col0\" >Very much</td>\n",
       "      <td id=\"T_42dae_row0_col1\" class=\"data row0 col1\" >Somewhat</td>\n",
       "      <td id=\"T_42dae_row0_col2\" class=\"data row0 col2\" >Very much</td>\n",
       "      <td id=\"T_42dae_row0_col3\" class=\"data row0 col3\" >Somewhat</td>\n",
       "      <td id=\"T_42dae_row0_col4\" class=\"data row0 col4\" >sailing</td>\n",
       "      <td id=\"T_42dae_row0_col5\" class=\"data row0 col5\" >d60aa634-c0f4-4f39-94d2-416db99ed225</td>\n",
       "      <td id=\"T_42dae_row0_col6\" class=\"data row0 col6\" >tennis</td>\n",
       "      <td id=\"T_42dae_row0_col7\" class=\"data row0 col7\" >0</td>\n",
       "      <td id=\"T_42dae_row0_col8\" class=\"data row0 col8\" >nan</td>\n",
       "      <td id=\"T_42dae_row0_col9\" class=\"data row0 col9\" >77183f5e-aa20-4188-bb98-f5dff8046123</td>\n",
       "      <td id=\"T_42dae_row0_col10\" class=\"data row0 col10\" >0</td>\n",
       "      <td id=\"T_42dae_row0_col11\" class=\"data row0 col11\" >test</td>\n",
       "      <td id=\"T_42dae_row0_col12\" class=\"data row0 col12\" >0.500000</td>\n",
       "      <td id=\"T_42dae_row0_col13\" class=\"data row0 col13\" >0</td>\n",
       "      <td id=\"T_42dae_row0_col14\" class=\"data row0 col14\" >test</td>\n",
       "      <td id=\"T_42dae_row0_col15\" class=\"data row0 col15\" >nan</td>\n",
       "      <td id=\"T_42dae_row0_col16\" class=\"data row0 col16\" >nan</td>\n",
       "      <td id=\"T_42dae_row0_col17\" class=\"data row0 col17\" >nan</td>\n",
       "      <td id=\"T_42dae_row0_col18\" class=\"data row0 col18\" >nan</td>\n",
       "      <td id=\"T_42dae_row0_col19\" class=\"data row0 col19\" >nan</td>\n",
       "      <td id=\"T_42dae_row0_col20\" class=\"data row0 col20\" >nan</td>\n",
       "      <td id=\"T_42dae_row0_col21\" class=\"data row0 col21\" >nan</td>\n",
       "      <td id=\"T_42dae_row0_col22\" class=\"data row0 col22\" >nan</td>\n",
       "      <td id=\"T_42dae_row0_col23\" class=\"data row0 col23\" >nan</td>\n",
       "      <td id=\"T_42dae_row0_col24\" class=\"data row0 col24\" >nan</td>\n",
       "      <td id=\"T_42dae_row0_col25\" class=\"data row0 col25\" >nan</td>\n",
       "      <td id=\"T_42dae_row0_col26\" class=\"data row0 col26\" >Not Applicable</td>\n",
       "      <td id=\"T_42dae_row0_col27\" class=\"data row0 col27\" >nan</td>\n",
       "      <td id=\"T_42dae_row0_col28\" class=\"data row0 col28\" >Not Applicable</td>\n",
       "      <td id=\"T_42dae_row0_col29\" class=\"data row0 col29\" >nan</td>\n",
       "      <td id=\"T_42dae_row0_col30\" class=\"data row0 col30\" >nan</td>\n",
       "      <td id=\"T_42dae_row0_col31\" class=\"data row0 col31\" >nan</td>\n",
       "      <td id=\"T_42dae_row0_col32\" class=\"data row0 col32\" >nan</td>\n",
       "      <td id=\"T_42dae_row0_col33\" class=\"data row0 col33\" >nan</td>\n",
       "      <td id=\"T_42dae_row0_col34\" class=\"data row0 col34\" >nan</td>\n",
       "      <td id=\"T_42dae_row0_col35\" class=\"data row0 col35\" >nan</td>\n",
       "      <td id=\"T_42dae_row0_col36\" class=\"data row0 col36\" >nan</td>\n",
       "      <td id=\"T_42dae_row0_col37\" class=\"data row0 col37\" >nan</td>\n",
       "      <td id=\"T_42dae_row0_col38\" class=\"data row0 col38\" >nan</td>\n",
       "      <td id=\"T_42dae_row0_col39\" class=\"data row0 col39\" >nan</td>\n",
       "      <td id=\"T_42dae_row0_col40\" class=\"data row0 col40\" >nan</td>\n",
       "      <td id=\"T_42dae_row0_col41\" class=\"data row0 col41\" >nan</td>\n",
       "      <td id=\"T_42dae_row0_col42\" class=\"data row0 col42\" >nan</td>\n",
       "      <td id=\"T_42dae_row0_col43\" class=\"data row0 col43\" >nan</td>\n",
       "      <td id=\"T_42dae_row0_col44\" class=\"data row0 col44\" >Not Applicable</td>\n",
       "      <td id=\"T_42dae_row0_col45\" class=\"data row0 col45\" >nan</td>\n",
       "      <td id=\"T_42dae_row0_col46\" class=\"data row0 col46\" >Not Applicable</td>\n",
       "      <td id=\"T_42dae_row0_col47\" class=\"data row0 col47\" >nan</td>\n",
       "      <td id=\"T_42dae_row0_col48\" class=\"data row0 col48\" >nan</td>\n",
       "      <td id=\"T_42dae_row0_col49\" class=\"data row0 col49\" >nan</td>\n",
       "      <td id=\"T_42dae_row0_col50\" class=\"data row0 col50\" >nan</td>\n",
       "      <td id=\"T_42dae_row0_col51\" class=\"data row0 col51\" >0</td>\n",
       "      <td id=\"T_42dae_row0_col52\" class=\"data row0 col52\" >How much do your friends enjoy {{ scenario.activity_1 }}?</td>\n",
       "      <td id=\"T_42dae_row0_col53\" class=\"data row0 col53\" >How much do you enjoy {{ scenario.activity_1 }}?</td>\n",
       "      <td id=\"T_42dae_row0_col54\" class=\"data row0 col54\" >How much do you enjoy {{ scenario.activity_0 }}?</td>\n",
       "      <td id=\"T_42dae_row0_col55\" class=\"data row0 col55\" >How much do your friends enjoy {{ scenario.activity_0 }}?</td>\n",
       "      <td id=\"T_42dae_row0_col56\" class=\"data row0 col56\" >['Not at all', 'Somewhat', 'Very much']</td>\n",
       "      <td id=\"T_42dae_row0_col57\" class=\"data row0 col57\" >['Not at all', 'Somewhat', 'Very much']</td>\n",
       "      <td id=\"T_42dae_row0_col58\" class=\"data row0 col58\" >['Not at all', 'Somewhat', 'Very much']</td>\n",
       "      <td id=\"T_42dae_row0_col59\" class=\"data row0 col59\" >['Not at all', 'Somewhat', 'Very much']</td>\n",
       "      <td id=\"T_42dae_row0_col60\" class=\"data row0 col60\" >multiple_choice</td>\n",
       "      <td id=\"T_42dae_row0_col61\" class=\"data row0 col61\" >multiple_choice</td>\n",
       "      <td id=\"T_42dae_row0_col62\" class=\"data row0 col62\" >multiple_choice</td>\n",
       "      <td id=\"T_42dae_row0_col63\" class=\"data row0 col63\" >multiple_choice</td>\n",
       "      <td id=\"T_42dae_row0_col64\" class=\"data row0 col64\" >This is a real survey response from a human.</td>\n",
       "      <td id=\"T_42dae_row0_col65\" class=\"data row0 col65\" >This is a real survey response from a human.</td>\n",
       "      <td id=\"T_42dae_row0_col66\" class=\"data row0 col66\" >This is a real survey response from a human.</td>\n",
       "      <td id=\"T_42dae_row0_col67\" class=\"data row0 col67\" >This is a real survey response from a human.</td>\n",
       "      <td id=\"T_42dae_row0_col68\" class=\"data row0 col68\" >Not Applicable</td>\n",
       "      <td id=\"T_42dae_row0_col69\" class=\"data row0 col69\" >Not Applicable</td>\n",
       "      <td id=\"T_42dae_row0_col70\" class=\"data row0 col70\" >Not Applicable</td>\n",
       "      <td id=\"T_42dae_row0_col71\" class=\"data row0 col71\" >Not Applicable</td>\n",
       "      <td id=\"T_42dae_row0_col72\" class=\"data row0 col72\" >Not Applicable</td>\n",
       "      <td id=\"T_42dae_row0_col73\" class=\"data row0 col73\" >Not Applicable</td>\n",
       "      <td id=\"T_42dae_row0_col74\" class=\"data row0 col74\" >Not Applicable</td>\n",
       "      <td id=\"T_42dae_row0_col75\" class=\"data row0 col75\" >Not Applicable</td>\n",
       "      <td id=\"T_42dae_row0_col76\" class=\"data row0 col76\" >Not Applicable</td>\n",
       "      <td id=\"T_42dae_row0_col77\" class=\"data row0 col77\" >Not Applicable</td>\n",
       "      <td id=\"T_42dae_row0_col78\" class=\"data row0 col78\" >Not Applicable</td>\n",
       "      <td id=\"T_42dae_row0_col79\" class=\"data row0 col79\" >Not Applicable</td>\n",
       "      <td id=\"T_42dae_row0_col80\" class=\"data row0 col80\" >nan</td>\n",
       "      <td id=\"T_42dae_row0_col81\" class=\"data row0 col81\" >nan</td>\n",
       "      <td id=\"T_42dae_row0_col82\" class=\"data row0 col82\" >nan</td>\n",
       "      <td id=\"T_42dae_row0_col83\" class=\"data row0 col83\" >nan</td>\n",
       "    </tr>\n",
       "  </tbody>\n",
       "</table>\n",
       "\n",
       "            </div>\n",
       "            "
      ],
      "text/plain": [
       "Results(data = [Result(agent=Agent(name = \"\"\"77183f5e-aa20-4188-bb98-f5dff8046123\"\"\", traits = {}, instruction = \"\"\"\"\"\"), scenario=Scenario({'activity_0': 'tennis', 'activity_1': 'sailing', 'uuid': 'd60aa634-c0f4-4f39-94d2-416db99ed225', 'scenario_index': 0}), model=Model(model_name = 'test', service_name = 'test', temperature = 0.5), iteration=0, answer={'enjoy_0': 'Somewhat', 'enjoy_1': 'Very much', 'friends_0': 'Very much', 'friends_1': 'Somewhat'}, prompt={'enjoy_0_user_prompt': Prompt(text=\"\"\"NA\"\"\"), 'enjoy_0_system_prompt': Prompt(text=\"\"\"NA\"\"\"), 'enjoy_1_user_prompt': Prompt(text=\"\"\"NA\"\"\"), 'enjoy_1_system_prompt': Prompt(text=\"\"\"NA\"\"\"), 'friends_0_user_prompt': Prompt(text=\"\"\"NA\"\"\"), 'friends_0_system_prompt': Prompt(text=\"\"\"NA\"\"\"), 'friends_1_user_prompt': Prompt(text=\"\"\"NA\"\"\"), 'friends_1_system_prompt': Prompt(text=\"\"\"NA\"\"\")}, raw_model_response={'enjoy_0_raw_model_response': 'Not Applicable', 'enjoy_0_input_tokens': None, 'enjoy_0_output_tokens': None, 'enjoy_0_input_price_per_million_tokens': None, 'enjoy_0_output_price_per_million_tokens': None, 'enjoy_0_cost': None, 'enjoy_0_one_usd_buys': 'NA', 'enjoy_1_raw_model_response': 'Not Applicable', 'enjoy_1_input_tokens': None, 'enjoy_1_output_tokens': None, 'enjoy_1_input_price_per_million_tokens': None, 'enjoy_1_output_price_per_million_tokens': None, 'enjoy_1_cost': None, 'enjoy_1_one_usd_buys': 'NA', 'friends_0_raw_model_response': 'Not Applicable', 'friends_0_input_tokens': None, 'friends_0_output_tokens': None, 'friends_0_input_price_per_million_tokens': None, 'friends_0_output_price_per_million_tokens': None, 'friends_0_cost': None, 'friends_0_one_usd_buys': 'NA', 'friends_1_raw_model_response': 'Not Applicable', 'friends_1_input_tokens': None, 'friends_1_output_tokens': None, 'friends_1_input_price_per_million_tokens': None, 'friends_1_output_price_per_million_tokens': None, 'friends_1_cost': None, 'friends_1_one_usd_buys': 'NA'}, question_to_attributes={'enjoy_0': {'question_text': 'How much do you enjoy {{ scenario.activity_0 }}?', 'question_type': 'multiple_choice', 'question_options': ['Not at all', 'Somewhat', 'Very much']}, 'enjoy_1': {'question_text': 'How much do you enjoy {{ scenario.activity_1 }}?', 'question_type': 'multiple_choice', 'question_options': ['Not at all', 'Somewhat', 'Very much']}, 'friends_0': {'question_text': 'How much do your friends enjoy {{ scenario.activity_0 }}?', 'question_type': 'multiple_choice', 'question_options': ['Not at all', 'Somewhat', 'Very much']}, 'friends_1': {'question_text': 'How much do your friends enjoy {{ scenario.activity_1 }}?', 'question_type': 'multiple_choice', 'question_options': ['Not at all', 'Somewhat', 'Very much']}}, generated_tokens={'enjoy_0_generated_tokens': 'Not Applicable', 'enjoy_1_generated_tokens': 'Not Applicable', 'friends_0_generated_tokens': 'Not Applicable', 'friends_1_generated_tokens': 'Not Applicable'}, comments_dict={'enjoy_0_comment': 'This is a real survey response from a human.', 'enjoy_1_comment': 'This is a real survey response from a human.', 'friends_0_comment': 'This is a real survey response from a human.', 'friends_1_comment': 'This is a real survey response from a human.'}, reasoning_summaries_dict={'enjoy_0_reasoning_summary': None, 'enjoy_1_reasoning_summary': None, 'friends_0_reasoning_summary': None, 'friends_1_reasoning_summary': None}, cache_used_dict={'enjoy_0': 'Not Applicable', 'enjoy_1': 'Not Applicable', 'friends_0': 'Not Applicable', 'friends_1': 'Not Applicable'}, cache_keys={'enjoy_0': 'Not Applicable', 'enjoy_1': 'Not Applicable', 'friends_0': 'Not Applicable', 'friends_1': 'Not Applicable'})], survey = Survey(questions=[Question('multiple_choice', question_name = \"\"\"enjoy_0\"\"\", question_text = \"\"\"How much do you enjoy {{ scenario.activity_0 }}?\"\"\", question_options = ['Not at all', 'Somewhat', 'Very much']), Question('multiple_choice', question_name = \"\"\"enjoy_1\"\"\", question_text = \"\"\"How much do you enjoy {{ scenario.activity_1 }}?\"\"\", question_options = ['Not at all', 'Somewhat', 'Very much']), Question('multiple_choice', question_name = \"\"\"friends_0\"\"\", question_text = \"\"\"How much do your friends enjoy {{ scenario.activity_0 }}?\"\"\", question_options = ['Not at all', 'Somewhat', 'Very much']), Question('multiple_choice', question_name = \"\"\"friends_1\"\"\", question_text = \"\"\"How much do your friends enjoy {{ scenario.activity_1 }}?\"\"\", question_options = ['Not at all', 'Somewhat', 'Very much'])], memory_plan={}, rule_collection=RuleCollection(rules=[Rule(current_q=0, expression=\"True\", next_q=1, priority=-1, question_name_to_index={'enjoy_0': 0}, before_rule=False), Rule(current_q=1, expression=\"True\", next_q=2, priority=-1, question_name_to_index={'enjoy_0': 0, 'enjoy_1': 1}, before_rule=False), Rule(current_q=2, expression=\"True\", next_q=3, priority=-1, question_name_to_index={'enjoy_0': 0, 'enjoy_1': 1, 'friends_0': 2}, before_rule=False), Rule(current_q=3, expression=\"True\", next_q=4, priority=-1, question_name_to_index={'enjoy_0': 0, 'enjoy_1': 1, 'friends_0': 2, 'friends_1': 3}, before_rule=False)], num_questions=4), question_groups={}, questions_to_randomize=[]), created_columns = [])"
      ]
     },
     "execution_count": 10,
     "metadata": {},
     "output_type": "execute_result"
    }
   ],
   "source": [
    "human_results"
   ]
  },
  {
   "cell_type": "code",
   "execution_count": null,
   "id": "2121a33d-9a0c-4e8a-b709-f4f96783c61d",
   "metadata": {
    "editable": true,
    "slideshow": {
     "slide_type": ""
    },
    "tags": []
   },
   "outputs": [],
   "source": [
    "from edsl import Notebook\n",
    "\n",
    "nb = Notebook(\"scenarios_humanize_methods.ipynb\")\n",
    "\n",
    "nb.push(\n",
    "    description = \"Scenarios with humanize\",\n",
    "    alias = \"scenarios-humanize-methods\",\n",
    "    visibility = \"public\"\n",
    ")"
   ]
  }
 ],
 "metadata": {
  "kernelspec": {
   "display_name": "Python 3 (ipykernel)",
   "language": "python",
   "name": "python3"
  },
  "language_info": {
   "codemirror_mode": {
    "name": "ipython",
    "version": 3
   },
   "file_extension": ".py",
   "mimetype": "text/x-python",
   "name": "python",
   "nbconvert_exporter": "python",
   "pygments_lexer": "ipython3",
   "version": "3.11.7"
  }
 },
 "nbformat": 4,
 "nbformat_minor": 5
}
