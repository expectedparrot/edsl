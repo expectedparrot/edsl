{
 "cells": [
  {
   "cell_type": "markdown",
   "id": "31ac179c-b556-4c26-b80e-a54ec3aff954",
   "metadata": {
    "editable": true,
    "slideshow": {
     "slide_type": ""
    },
    "tags": []
   },
   "source": [
    "# Working with Notebooks at Coop\n",
    "This notebook shows basic methods for working with notebooks at [Coop](https://docs.expectedparrot.com/en/latest/coop.html): a platform for creating, storing and sharing EDSL objects and AI research.\n",
    "\n",
    "For each operation that we want to perform on a notebook--posting, updating, downloading or deleting it--we can either call a method of `Notebook` objects directly or a method of `Coop` client objects that can be used with any EDSL object type (agents, surveys, results, etc., as well as notebooks).\n",
    "\n",
    "Please see [EDSL documentation](https://docs.expectedparrot.com) for more information about [Coop](https://docs.expectedparrot.com/en/latest/coop.html) and [Notebooks](https://docs.expectedparrot.com/en/latest/notebooks.html)."
   ]
  },
  {
   "cell_type": "markdown",
   "id": "fdb5dbd8-5cdf-4baa-8ef6-86513b37617b",
   "metadata": {},
   "source": [
    "## Create a Notebook\n",
    "We start by creating a `Notebook` object for a notebook by passing it the file `path`:"
   ]
  },
  {
   "cell_type": "code",
   "execution_count": null,
   "id": "cf5bc744-945b-4df1-8a00-be9df637eb34",
   "metadata": {
    "editable": true,
    "slideshow": {
     "slide_type": ""
    },
    "tags": [
     "skip-execution"
    ]
   },
   "outputs": [],
   "source": [
    "from edsl import Notebook\n",
    "\n",
    "notebook = Notebook(\"notebook_coop.ipynb\")"
   ]
  },
  {
   "cell_type": "markdown",
   "id": "b7663795-0e86-434c-9119-4ff37654c667",
   "metadata": {},
   "source": [
    "## Create a Coop client object\n",
    "As mentioned above, we can also create a `Coop` client object for additional methods of working with content at Coop:"
   ]
  },
  {
   "cell_type": "code",
   "execution_count": null,
   "id": "d35b2e0c-3bda-40e4-8978-a2ac05d4360d",
   "metadata": {
    "editable": true,
    "slideshow": {
     "slide_type": ""
    },
    "tags": []
   },
   "outputs": [],
   "source": [
    "from edsl import Coop\n",
    "\n",
    "coop = Coop()"
   ]
  },
  {
   "cell_type": "markdown",
   "id": "50563ff4-1865-4293-bccd-382bc55dbbb4",
   "metadata": {},
   "source": [
    "## Post a notebook\n",
    "There are 2 ways to post a notebook to Coop:\n",
    "* Call the `push()` method on the Notebook object.\n",
    "* Call the `create()` method on the Coop object and pass the Notebook object.\n",
    "\n",
    "Both methods also allow you to optionally pass a `description`, a convenient `alias` for the Coop URL for the object, and a `visibility` setting. The visibility of an object can be `public`, `private` or `unlisted` (by default)."
   ]
  },
  {
   "cell_type": "markdown",
   "id": "9eade9fb-0975-4b69-abac-f1de438d0075",
   "metadata": {
    "editable": true,
    "slideshow": {
     "slide_type": ""
    },
    "tags": []
   },
   "source": [
    "### Direct method\n",
    "Here we call the `push()` method on the Notebook that we created above.\n",
    "We optionally pass a `description`, a convenient `alias` for the Coop URL, and a `visibility` status when we create it. \n",
    "These can all be updated from your workspace or at the Coop page interface for the object:"
   ]
  },
  {
   "cell_type": "code",
   "execution_count": null,
   "id": "95adae15-e519-4636-b704-6856853683b9",
   "metadata": {
    "editable": true,
    "slideshow": {
     "slide_type": ""
    },
    "tags": [
     "skip-execution"
    ]
   },
   "outputs": [],
   "source": [
    "from edsl import Notebook\n",
    "\n",
    "notebook.push(\n",
    "    description = \"This notebook demonstrates basic methods for working with notebooks at Coop.\",\n",
    "    alias = \"example-notebook\",\n",
    "    visibility = \"unlisted\" # default setting\n",
    ")"
   ]
  },
  {
   "cell_type": "markdown",
   "id": "2dcacbb2-9954-4152-b875-17d27fb82db0",
   "metadata": {},
   "source": [
    "### Coop client method\n",
    "Here we instead call the `create()` method on the Coop client, posting a new copy of the notebook:"
   ]
  },
  {
   "cell_type": "code",
   "execution_count": null,
   "id": "2afd5707-d361-44ae-8732-b69a2c818871",
   "metadata": {
    "editable": true,
    "slideshow": {
     "slide_type": ""
    },
    "tags": [
     "skip-execution"
    ]
   },
   "outputs": [],
   "source": [
    "from edsl import Coop\n",
    "\n",
    "coop.create(\n",
    "    notebook, \n",
    "    description = \"This notebook demonstrates basic methods for working with notebooks at Coop.\",\n",
    "    alias = \"notebook-new-copy\",\n",
    "    visibility = \"private\"\n",
    ")"
   ]
  },
  {
   "cell_type": "markdown",
   "id": "c453e56d-fc1e-4a76-9eb8-493292c27d7b",
   "metadata": {},
   "source": [
    "## Update a notebook\n",
    "We can edit an object at the [web app](https://www.expectedparrot.com/content/explore) at any time.\n",
    "\n",
    "Similar to how we posted a notebook above, there are 2 methods from updating an object from your workspace:"
   ]
  },
  {
   "cell_type": "markdown",
   "id": "7cf871b1-482d-424f-95a0-8583f683bd9f",
   "metadata": {},
   "source": [
    "### Direct method\n",
    "We can call the `patch()` method on the `Notebook` class and pass the Coop URL or the `uuid` of the notebook to be updated, together with the fields that we want to edit:"
   ]
  },
  {
   "cell_type": "code",
   "execution_count": null,
   "id": "33ba4011-108f-4f03-81f6-4722f3011850",
   "metadata": {
    "editable": true,
    "slideshow": {
     "slide_type": ""
    },
    "tags": [
     "skip-execution"
    ]
   },
   "outputs": [],
   "source": [
    "from edsl import Notebook\n",
    "\n",
    "Notebook.patch(\n",
    "    \"https://www.expectedparrot.com/content/RobinHorton/example-notebook\",\n",
    "    description = \"Let's make this notebook private now.\",\n",
    "    visibility = \"private\"\n",
    ")"
   ]
  },
  {
   "cell_type": "markdown",
   "id": "7c6e8aa8-0ac6-4e72-bd17-ba9708137e0e",
   "metadata": {},
   "source": [
    "### Coop client method\n",
    "We can call the `patch()` method on the Coop client in the same way:"
   ]
  },
  {
   "cell_type": "code",
   "execution_count": null,
   "id": "65fdeb2a-c078-4963-8c3f-5e9745f80780",
   "metadata": {
    "editable": true,
    "slideshow": {
     "slide_type": ""
    },
    "tags": [
     "skip-execution"
    ]
   },
   "outputs": [],
   "source": [
    "from edsl import Coop\n",
    "\n",
    "coop.patch(\n",
    "    \"https://www.expectedparrot.com/content/RobinHorton/example-notebook\",\n",
    "    description = \"Now let's make it public.\",\n",
    "    visibility = \"public\"\n",
    ")"
   ]
  },
  {
   "cell_type": "markdown",
   "id": "b11484dd-9e25-4751-9be7-2e5bb0d65aab",
   "metadata": {},
   "source": [
    "### Download a notebook\n",
    "We can get copyable code for pulling or reconstructing an object from the Coop web app (see [details on accessing an object's page with copyable code](https://docs.expectedparrot.com/en/latest/coop.html#downloading)).\n",
    "\n",
    "There are 2 methods for downloading a notebook from your workspace:"
   ]
  },
  {
   "cell_type": "markdown",
   "id": "fe67612e-0dc6-4a6a-ae32-71eb7110ac7f",
   "metadata": {},
   "source": [
    "### Direct\n",
    "We can call the `pull()` method on the `Notebook` class and pass the object `uuid`:"
   ]
  },
  {
   "cell_type": "code",
   "execution_count": null,
   "id": "c829c066-67ef-4807-9cdc-af688511157e",
   "metadata": {
    "editable": true,
    "slideshow": {
     "slide_type": ""
    },
    "tags": []
   },
   "outputs": [],
   "source": [
    "#from edsl import Notebook\n",
    "\n",
<<<<<<< HEAD
    "new_notebook = Notebook.pull(\"https://www.expectedparrot.com/content/RobinHorton/example-notebook\")"
=======
    "# new_notebook = Notebook.pull(\"2a61c903-1d31-4300-b9da-5bca550d7f9f\")"
>>>>>>> 165e7d79aacc43ac0bb0124df954a3ca5aa9cab3
   ]
  },
  {
   "cell_type": "markdown",
   "id": "269ace2c-0637-4615-995b-70780d2ea953",
   "metadata": {},
   "source": [
    "### Coop client method\n",
    "We can call the `get()` method on the `Coop` client and pass the object `uuid`:"
   ]
  },
  {
   "cell_type": "code",
   "execution_count": null,
   "id": "9cb3caba-4e6c-405f-9551-b01bbc1bd9a8",
   "metadata": {},
   "outputs": [],
   "source": [
<<<<<<< HEAD
    "new_notebook = coop.get(uuid=\"https://www.expectedparrot.com/content/RobinHorton/example-notebook\")"
=======
    "# new_notebook = coop.get(uuid=\"2a61c903-1d31-4300-b9da-5bca550d7f9f\")"
>>>>>>> 165e7d79aacc43ac0bb0124df954a3ca5aa9cab3
   ]
  },
  {
   "cell_type": "markdown",
   "id": "64e4cacf-8f87-4020-8924-ed5788fdc20d",
   "metadata": {},
   "source": [
    "## Delete a notebook\n",
    "We can delete an object manually at the Coop web app, or call the `delete()` method of `Notebook` or a `Coop` client, passing the object `uuid`:"
   ]
  },
  {
   "cell_type": "code",
   "execution_count": null,
   "id": "503e8717-948c-4890-9080-ee41fd3dac40",
   "metadata": {},
   "outputs": [],
   "source": [
    "# Notebook.delete(\"https://www.expectedparrot.com/content/RobinHorton/example-notebook\")"
   ]
  },
  {
   "cell_type": "markdown",
   "id": "02322bc4-ecbd-40fd-b55e-10b7aaa700fe",
   "metadata": {},
   "source": [
    "We can see that the object has already been deleted if we try to delete it with the Coop client method (this code will generate an exception: *Object not found*):"
   ]
  },
  {
   "cell_type": "code",
   "execution_count": null,
   "id": "62c9706c-9b1d-436f-8855-362597272e80",
   "metadata": {
    "editable": true,
    "slideshow": {
     "slide_type": ""
    },
    "tags": []
   },
   "outputs": [],
   "source": [
    "# coop.delete(uuid = \"https://www.expectedparrot.com/content/RobinHorton/example-notebook\")"
   ]
  }
 ],
 "metadata": {
  "kernelspec": {
   "display_name": "Python 3 (ipykernel)",
   "language": "python",
   "name": "python3"
  },
  "language_info": {
   "codemirror_mode": {
    "name": "ipython",
    "version": 3
   },
   "file_extension": ".py",
   "mimetype": "text/x-python",
   "name": "python",
   "nbconvert_exporter": "python",
   "pygments_lexer": "ipython3",
   "version": "3.11.7"
  }
 },
 "nbformat": 4,
 "nbformat_minor": 5
}
