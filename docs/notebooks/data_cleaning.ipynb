{
 "cells": [
  {
   "cell_type": "markdown",
   "id": "96bdbd4d-b0f9-447f-9f65-cbcf9e1dbe5c",
   "metadata": {
    "editable": true,
    "slideshow": {
     "slide_type": ""
    },
    "tags": []
   },
   "source": [
    "# Data cleaning\n",
    "This notebook provides sample [EDSL](https://docs.expectedparrot.com/) code for using a language model to conduct a data cleaning task. In a series of steps we use EDSL to prompt a language model to generate appropriate sense checks for a dataset and then run the sense checks in the form of a survey about the data, returning a new dataset consisting of the data failing the checks.\n",
    "\n",
    "[EDSL is an open-source library](https://github.com/expectedparrot/edsl) for simulating surveys, experiments and other research with AI agents and large language models. \n",
    "Before running the code below, please ensure that you have [installed the EDSL library](https://docs.expectedparrot.com/en/latest/installation.html) and either [activated remote inference](https://docs.expectedparrot.com/en/latest/remote_inference.html) from your [Coop account](https://docs.expectedparrot.com/en/latest/coop.html) or [stored API keys](https://docs.expectedparrot.com/en/latest/api_keys.html) for the language models that you want to use with EDSL. Please also see our [documentation page](https://docs.expectedparrot.com/) for tips and tutorials on getting started using EDSL."
   ]
  },
  {
   "cell_type": "markdown",
   "id": "8dfba5a0-9ec5-4dc5-aff7-1709a7784998",
   "metadata": {
    "editable": true,
    "slideshow": {
     "slide_type": ""
    },
    "tags": []
   },
   "source": [
    "## Example data\n",
    "Here we construct a dataset for our exercise: a random list of ages between 22 and 85 with some bad values mixed in.\n",
    "Our goal is to identify them:"
   ]
  },
  {
   "cell_type": "code",
   "execution_count": 1,
   "id": "65318ede",
   "metadata": {
    "editable": true,
    "slideshow": {
     "slide_type": ""
    },
    "tags": []
   },
   "outputs": [],
   "source": [
    "ages = [84, 62, 79, 57, 59, 55, 68, 66, 47, 54, 76, 33, 74, 56, 47, 24, 23, 38, 38, 54, 51, 84, 71, \n",
    "        46, 38, 26, 50, 56, 62, 39, 31, 52, 69, 84, 69, 48, 48, 23, 65, 54, 78, 51, 69, 77, 75, 76, \n",
    "        26, 44, 61, 32, 70, 24, 74, 22, 32, 24, 80, 65, 36, 42, 84, 66, 40, 85, 28, 22, 67, 25, 70, \n",
    "        77, 53, 69, 64, 27, 61, 68, 68, 78, 0.99, 83, 58, 33, 46, 43, 50, 85, 28, 82, 50, 61, 66, 32, \n",
    "        45, 70, 56, 50, 43, 30, 43, 55, 33, 72, 43, 43, -5, 32, 43, 45, 67, 84, 37, 63, 52, 53, 58, \n",
    "        79, 79, 80, 62, 75, 57, 60, 39, 79, 49, 60, 60, 37, 45, 36, 1050, 73, 70, 56, 39, 58, 69, 77, \n",
    "        68, 84, 78, 48, 31, 74, 27, 55, 56, 66, 35, 39, 57, 47, 29, 24, 47, 60, 43, 37, 84, 64, 28, \n",
    "        22, 37, 71, 77, 76, 84, 63, 76, 58, 41, 72, 22, 63, 78, 49, 82, 69, \"old\", 37, 27, 29, 54, 83, \n",
    "        80, 74, 48, 76, 49, 26, 38, 35, 36, 25, 23, 71, 33, 39, 40, 35, 85, 24, 57, 85, 63, 53, 62, \n",
    "        47, 69, 76, 71, 48, 62, 23, 25, 84, 32, 63, 75, 31, 25, 50, 85, 36, 58, 85, 34, 62, 43, 2, \n",
    "        50, 83, 44, 73, 81, 44, 43, 82, 84, 30, 24, 63, 63, 59, 46, 30, 62, 25, 52, 23, 100, 1.3, 3]"
   ]
  },
  {
   "cell_type": "markdown",
   "id": "de3ae5d4-126a-42cf-b70c-ebbe0f364fe5",
   "metadata": {},
   "source": [
    "## Quick question\n",
    "With a small dataset, we may be able to design the entire task as a single question where we prompt a model to review all the data at once and flag bad data:"
   ]
  },
  {
   "cell_type": "code",
   "execution_count": 2,
   "id": "9a2ecec5-81e6-4cb8-af61-c063cbc6727c",
   "metadata": {},
   "outputs": [
    {
     "data": {
      "text/html": [
       "<pre style=\"white-space:pre;overflow-x:auto;line-height:normal;font-family:Menlo,'DejaVu Sans Mono',consolas,'Courier New',monospace\">┏━━━━━━━━━━━━━━━━━━━━━━━━━━━━━━━━━┳━━━━━━━━━━━━━━━━━━━━━━━━━━━━━━━━━━━━━━━━━━━━━━━━━━━━━━━━━━━━━━━━━━━━━━━━━━━━━━━┓\n",
       "┃<span style=\"color: #800080; text-decoration-color: #800080; font-weight: bold\"> answer                          </span>┃<span style=\"color: #800080; text-decoration-color: #800080; font-weight: bold\"> comment                                                                       </span>┃\n",
       "┃<span style=\"color: #800080; text-decoration-color: #800080; font-weight: bold\"> .bad_ages                       </span>┃<span style=\"color: #800080; text-decoration-color: #800080; font-weight: bold\"> .bad_ages_comment                                                             </span>┃\n",
       "┡━━━━━━━━━━━━━━━━━━━━━━━━━━━━━━━━━╇━━━━━━━━━━━━━━━━━━━━━━━━━━━━━━━━━━━━━━━━━━━━━━━━━━━━━━━━━━━━━━━━━━━━━━━━━━━━━━━┩\n",
       "│<span style=\"color: #7f7f7f; text-decoration-color: #7f7f7f\"> [0.99, -5, 1050, 'old', 1.3, 3] </span>│<span style=\"color: #7f7f7f; text-decoration-color: #7f7f7f\"> # The problematic ages are those that are non-integer values, negative,       </span>│\n",
       "│<span style=\"color: #7f7f7f; text-decoration-color: #7f7f7f\">                                 </span>│<span style=\"color: #7f7f7f; text-decoration-color: #7f7f7f\"> extremely high (unrealistic for human age), or non-numeric (like \"old\").      </span>│\n",
       "└─────────────────────────────────┴───────────────────────────────────────────────────────────────────────────────┘\n",
       "</pre>\n"
      ],
      "text/plain": [
       "┏━━━━━━━━━━━━━━━━━━━━━━━━━━━━━━━━━┳━━━━━━━━━━━━━━━━━━━━━━━━━━━━━━━━━━━━━━━━━━━━━━━━━━━━━━━━━━━━━━━━━━━━━━━━━━━━━━━┓\n",
       "┃\u001b[1;35m \u001b[0m\u001b[1;35manswer                         \u001b[0m\u001b[1;35m \u001b[0m┃\u001b[1;35m \u001b[0m\u001b[1;35mcomment                                                                      \u001b[0m\u001b[1;35m \u001b[0m┃\n",
       "┃\u001b[1;35m \u001b[0m\u001b[1;35m.bad_ages                      \u001b[0m\u001b[1;35m \u001b[0m┃\u001b[1;35m \u001b[0m\u001b[1;35m.bad_ages_comment                                                            \u001b[0m\u001b[1;35m \u001b[0m┃\n",
       "┡━━━━━━━━━━━━━━━━━━━━━━━━━━━━━━━━━╇━━━━━━━━━━━━━━━━━━━━━━━━━━━━━━━━━━━━━━━━━━━━━━━━━━━━━━━━━━━━━━━━━━━━━━━━━━━━━━━┩\n",
       "│\u001b[2m \u001b[0m\u001b[2m[0.99, -5, 1050, 'old', 1.3, 3]\u001b[0m\u001b[2m \u001b[0m│\u001b[2m \u001b[0m\u001b[2m# The problematic ages are those that are non-integer values, negative,      \u001b[0m\u001b[2m \u001b[0m│\n",
       "│\u001b[2m                                 \u001b[0m│\u001b[2m \u001b[0m\u001b[2mextremely high (unrealistic for human age), or non-numeric (like \"old\").     \u001b[0m\u001b[2m \u001b[0m│\n",
       "└─────────────────────────────────┴───────────────────────────────────────────────────────────────────────────────┘\n"
      ]
     },
     "metadata": {},
     "output_type": "display_data"
    }
   ],
   "source": [
    "from edsl import QuestionList, Scenario\n",
    "\n",
    "q = QuestionList(\n",
    "    question_name = \"bad_ages\",\n",
    "    question_text = \"\"\"\n",
    "    Review the following list of observations of human ages \n",
    "    and return a list of all the problematic ages: {{ ages }}\n",
    "    \"\"\" \n",
    ")\n",
    "\n",
    "s = Scenario({\"ages\":ages})\n",
    "\n",
    "results = q.by(s).run()\n",
    "\n",
    "results.select(\"bad_ages\", \"bad_ages_comment\").print(format=\"rich\")"
   ]
  },
  {
   "cell_type": "markdown",
   "id": "29b6836e-9f56-4cb7-a503-82dac4924f30",
   "metadata": {},
   "source": [
    "This approach may be feasible for a small dataset that is easily checked.\n",
    "For larger datasets, we may encounter problems with input token limits, a model's ability to accurately check a large volume of data at once, and responses that are not usefully formatted.\n",
    "\n",
    "Below we demonstrate some ways of approaching the task in an iterative manner instead."
   ]
  },
  {
   "cell_type": "markdown",
   "id": "4e86b9ad-811a-45c2-80d9-58ebce7ac3be",
   "metadata": {
    "editable": true,
    "slideshow": {
     "slide_type": ""
    },
    "tags": []
   },
   "source": [
    "## Constructing a question\n",
    "We start by creating a question to prompt a model to draft sense check questions for our data. \n",
    "EDSL comes with a [variety of question types](https://docs.expectedparrot.com/en/latest/questions.html) that we can choose from based on the desired form of the response (multiple choice, free text, etc.). \n",
    "Here we use `QuestionList` in order to prompt the model to format its response as a list. \n",
    "We use a `{{ placeholder }}` for content that we will add to the question when we run it (a description of the data and a sample); this allows us to re-use the question with other contexts as desired:"
   ]
  },
  {
   "cell_type": "code",
   "execution_count": 3,
   "id": "cfb35741-0443-4630-9fe4-a763533fde9d",
   "metadata": {},
   "outputs": [],
   "source": [
    "from edsl import QuestionList\n",
    "\n",
    "q1 = QuestionList(\n",
    "    question_name = \"sense_check_questions\",\n",
    "    question_text = \"\"\"\n",
    "    You are being asked to suggest a list of sense checks for a dataset consisting of {{ data_description }}.\n",
    "    Here is a sample of the data: {{ sample_data }}.\n",
    "    Format the sense checks as a list of questions to be answered about each item in the dataset individually,\n",
    "    using '<data>' as a placeholder for an item being reviewed in each question text.\n",
    "    \"\"\",\n",
    "    max_list_items = 4 # optional\n",
    ")"
   ]
  },
  {
   "cell_type": "markdown",
   "id": "1951ba51-ecd6-4bfb-a4c1-4fabb5cea4fc",
   "metadata": {},
   "source": [
    "## Adding context to the question\n",
    "Next we create `Scenario` objects representing the content that we want to add to the question when we run it.\n",
    "Here we create a single scenario for our example data:"
   ]
  },
  {
   "cell_type": "code",
   "execution_count": 4,
   "id": "8579f7f9-9006-4784-9c2c-9d31bf1dc88c",
   "metadata": {},
   "outputs": [],
   "source": [
    "import random\n",
    "\n",
    "sample_data = random.sample(ages, 10)"
   ]
  },
  {
   "cell_type": "code",
   "execution_count": 5,
   "id": "a9172b46-779f-477d-8185-0a6db97a56b7",
   "metadata": {},
   "outputs": [],
   "source": [
    "from edsl import Scenario\n",
    "\n",
    "s = Scenario({\n",
    "    \"data_description\": \"a list of human ages (in years)\",\n",
    "    \"sample_data\": sample_data\n",
    "})"
   ]
  },
  {
   "cell_type": "markdown",
   "id": "bf52373a-f082-4266-bb8e-820e4e6b604e",
   "metadata": {},
   "source": [
    "## Running the question\n",
    "We administer the question to a model by adding the scenarios and calling the `run` method.\n",
    "This generates a formatted dataset of `Results` that we can access with [built-in methods for analysis](https://docs.expectedparrot.com/en/latest/results.html).\n",
    "Here we inspect the answer:"
   ]
  },
  {
   "cell_type": "code",
   "execution_count": 6,
   "id": "081be404-cb76-4c1a-9910-dee6d72905eb",
   "metadata": {},
   "outputs": [],
   "source": [
    "results = q1.by(s).run()"
   ]
  },
  {
   "cell_type": "code",
   "execution_count": 7,
   "id": "625b513d-120f-4303-b036-e7d200095a9b",
   "metadata": {},
   "outputs": [
    {
     "data": {
      "text/html": [
       "<pre style=\"white-space:pre;overflow-x:auto;line-height:normal;font-family:Menlo,'DejaVu Sans Mono',consolas,'Courier New',monospace\">┏━━━━━━━━━━━━━━━━━━━━━━━━━━━━━━━━━━━━━━━━━━━━━━━━━━━━━━━━━━━━━━━━━━━━━━━━━━━━━━━━━━━━━━━━━━━━━━━━━━━━━━━━━━━━━━━━━┓\n",
       "┃<span style=\"color: #800080; text-decoration-color: #800080; font-weight: bold\"> answer                                                                                                          </span>┃\n",
       "┃<span style=\"color: #800080; text-decoration-color: #800080; font-weight: bold\"> .sense_check_questions                                                                                          </span>┃\n",
       "┡━━━━━━━━━━━━━━━━━━━━━━━━━━━━━━━━━━━━━━━━━━━━━━━━━━━━━━━━━━━━━━━━━━━━━━━━━━━━━━━━━━━━━━━━━━━━━━━━━━━━━━━━━━━━━━━━━┩\n",
       "│<span style=\"color: #7f7f7f; text-decoration-color: #7f7f7f\"> ['Is &lt;data&gt; a non-negative number?', 'Is &lt;data&gt; less than or equal to 120?', 'Is &lt;data&gt; an integer?', 'Is       </span>│\n",
       "│<span style=\"color: #7f7f7f; text-decoration-color: #7f7f7f\"> &lt;data&gt; within a plausible human age range?']                                                                    </span>│\n",
       "└─────────────────────────────────────────────────────────────────────────────────────────────────────────────────┘\n",
       "</pre>\n"
      ],
      "text/plain": [
       "┏━━━━━━━━━━━━━━━━━━━━━━━━━━━━━━━━━━━━━━━━━━━━━━━━━━━━━━━━━━━━━━━━━━━━━━━━━━━━━━━━━━━━━━━━━━━━━━━━━━━━━━━━━━━━━━━━━┓\n",
       "┃\u001b[1;35m \u001b[0m\u001b[1;35manswer                                                                                                         \u001b[0m\u001b[1;35m \u001b[0m┃\n",
       "┃\u001b[1;35m \u001b[0m\u001b[1;35m.sense_check_questions                                                                                         \u001b[0m\u001b[1;35m \u001b[0m┃\n",
       "┡━━━━━━━━━━━━━━━━━━━━━━━━━━━━━━━━━━━━━━━━━━━━━━━━━━━━━━━━━━━━━━━━━━━━━━━━━━━━━━━━━━━━━━━━━━━━━━━━━━━━━━━━━━━━━━━━━┩\n",
       "│\u001b[2m \u001b[0m\u001b[2m['Is <data> a non-negative number?', 'Is <data> less than or equal to 120?', 'Is <data> an integer?', 'Is      \u001b[0m\u001b[2m \u001b[0m│\n",
       "│\u001b[2m \u001b[0m\u001b[2m<data> within a plausible human age range?']                                                                   \u001b[0m\u001b[2m \u001b[0m│\n",
       "└─────────────────────────────────────────────────────────────────────────────────────────────────────────────────┘\n"
      ]
     },
     "metadata": {},
     "output_type": "display_data"
    }
   ],
   "source": [
    "results.select(\"sense_check_questions\").print(format=\"rich\")"
   ]
  },
  {
   "cell_type": "markdown",
   "id": "17a74649-971a-4583-9657-ec8d6b3671f1",
   "metadata": {},
   "source": [
    "## Conducting the task\n",
    "Next we want a model to answer each sense check question about each piece of data in the dataset.\n",
    "This can be done by using the sense check questions as scenarios of a new question explaining the task.\n",
    "We can use `QuestionYesNo` to easily filter the responses:"
   ]
  },
  {
   "cell_type": "code",
   "execution_count": 8,
   "id": "c7cf4019-4579-45a6-b2d1-43c50820c22c",
   "metadata": {},
   "outputs": [],
   "source": [
    "from edsl import QuestionYesNo\n",
    "\n",
    "q2 = QuestionYesNo(\n",
    "    question_name = \"check_data\",\n",
    "    question_text = \"\"\"\n",
    "    You are being asked to sense check a dataset consisting of {{ data_description }}.\n",
    "    Consider the following item in the dataset: {{ age }}\n",
    "    {{ sense_check_question }}\n",
    "    \"\"\"\n",
    ")"
   ]
  },
  {
   "cell_type": "markdown",
   "id": "9519bc7a-b750-4363-bbbc-1c70baad50a2",
   "metadata": {},
   "source": [
    "We need to create a new set of scenarios for the question.\n",
    "We use `ScenarioList` objects to create all the combinations of values to add to the question (learn more about [constructing scenarios from different data sources](https://docs.expectedparrot.com/en/latest/scenarios.html)):"
   ]
  },
  {
   "cell_type": "code",
   "execution_count": 9,
   "id": "30cb5e16-faf4-4d84-97a7-d352b189d501",
   "metadata": {},
   "outputs": [],
   "source": [
    "from edsl import ScenarioList\n",
    "\n",
    "sl = ScenarioList(\n",
    "    Scenario({\n",
    "        \"data_description\": \"a list of human ages (in years)\",\n",
    "        \"sample_data\": sample_data,\n",
    "        \"age\": age,\n",
    "        \"sense_check_question\": sense_check_question\n",
    "    }) for age in ages for sense_check_question in results.select(\"sense_check_questions\").to_list()[0]\n",
    ")"
   ]
  },
  {
   "cell_type": "markdown",
   "id": "684c0908-7f00-486b-9777-d72295f79a0f",
   "metadata": {},
   "source": [
    "We can inspect the scenarios that we created:"
   ]
  },
  {
   "cell_type": "code",
   "execution_count": 10,
   "id": "1cf4296a-142f-403c-8d9c-abf9c4951fe1",
   "metadata": {},
   "outputs": [
    {
     "data": {
      "text/html": [
       "<div class=\"highlight\"><pre><span></span><span class=\"p\">{</span>\n",
       "<span class=\"w\">    </span><span class=\"nt\">&quot;scenarios&quot;</span><span class=\"p\">:</span><span class=\"w\"> </span><span class=\"p\">[</span>\n",
       "<span class=\"w\">        </span><span class=\"p\">{</span>\n",
       "<span class=\"w\">            </span><span class=\"nt\">&quot;data_description&quot;</span><span class=\"p\">:</span><span class=\"w\"> </span><span class=\"s2\">&quot;a list of human ages (in years)&quot;</span><span class=\"p\">,</span>\n",
       "<span class=\"w\">            </span><span class=\"nt\">&quot;sample_data&quot;</span><span class=\"p\">:</span><span class=\"w\"> </span><span class=\"p\">[</span>\n",
       "<span class=\"w\">                </span><span class=\"mi\">79</span><span class=\"p\">,</span>\n",
       "<span class=\"w\">                </span><span class=\"mi\">62</span><span class=\"p\">,</span>\n",
       "<span class=\"w\">                </span><span class=\"mi\">62</span><span class=\"p\">,</span>\n",
       "<span class=\"w\">                </span><span class=\"mi\">46</span><span class=\"p\">,</span>\n",
       "<span class=\"w\">                </span><span class=\"mi\">69</span><span class=\"p\">,</span>\n",
       "<span class=\"w\">                </span><span class=\"mi\">43</span><span class=\"p\">,</span>\n",
       "<span class=\"w\">                </span><span class=\"mi\">79</span><span class=\"p\">,</span>\n",
       "<span class=\"w\">                </span><span class=\"mi\">56</span><span class=\"p\">,</span>\n",
       "<span class=\"w\">                </span><span class=\"mi\">24</span><span class=\"p\">,</span>\n",
       "<span class=\"w\">                </span><span class=\"mi\">54</span>\n",
       "<span class=\"w\">            </span><span class=\"p\">],</span>\n",
       "<span class=\"w\">            </span><span class=\"nt\">&quot;age&quot;</span><span class=\"p\">:</span><span class=\"w\"> </span><span class=\"mi\">54</span><span class=\"p\">,</span>\n",
       "<span class=\"w\">            </span><span class=\"nt\">&quot;sense_check_question&quot;</span><span class=\"p\">:</span><span class=\"w\"> </span><span class=\"s2\">&quot;Is &lt;data&gt; an integer?&quot;</span>\n",
       "<span class=\"w\">        </span><span class=\"p\">},</span>\n",
       "<span class=\"w\">        </span><span class=\"p\">{</span>\n",
       "<span class=\"w\">            </span><span class=\"nt\">&quot;data_description&quot;</span><span class=\"p\">:</span><span class=\"w\"> </span><span class=\"s2\">&quot;a list of human ages (in years)&quot;</span><span class=\"p\">,</span>\n",
       "<span class=\"w\">            </span><span class=\"nt\">&quot;sample_data&quot;</span><span class=\"p\">:</span><span class=\"w\"> </span><span class=\"p\">[</span>\n",
       "<span class=\"w\">                </span><span class=\"mi\">79</span><span class=\"p\">,</span>\n",
       "<span class=\"w\">                </span><span class=\"mi\">62</span><span class=\"p\">,</span>\n",
       "<span class=\"w\">                </span><span class=\"mi\">62</span><span class=\"p\">,</span>\n",
       "<span class=\"w\">                </span><span class=\"mi\">46</span><span class=\"p\">,</span>\n",
       "<span class=\"w\">                </span><span class=\"mi\">69</span><span class=\"p\">,</span>\n",
       "<span class=\"w\">                </span><span class=\"mi\">43</span><span class=\"p\">,</span>\n",
       "<span class=\"w\">                </span><span class=\"mi\">79</span><span class=\"p\">,</span>\n",
       "<span class=\"w\">                </span><span class=\"mi\">56</span><span class=\"p\">,</span>\n",
       "<span class=\"w\">                </span><span class=\"mi\">24</span><span class=\"p\">,</span>\n",
       "<span class=\"w\">                </span><span class=\"mi\">54</span>\n",
       "<span class=\"w\">            </span><span class=\"p\">],</span>\n",
       "<span class=\"w\">            </span><span class=\"nt\">&quot;age&quot;</span><span class=\"p\">:</span><span class=\"w\"> </span><span class=\"mi\">54</span><span class=\"p\">,</span>\n",
       "<span class=\"w\">            </span><span class=\"nt\">&quot;sense_check_question&quot;</span><span class=\"p\">:</span><span class=\"w\"> </span><span class=\"s2\">&quot;Is &lt;data&gt; a non-negative number?&quot;</span>\n",
       "<span class=\"w\">        </span><span class=\"p\">},</span>\n",
       "<span class=\"w\">        </span><span class=\"p\">{</span>\n",
       "<span class=\"w\">            </span><span class=\"nt\">&quot;data_description&quot;</span><span class=\"p\">:</span><span class=\"w\"> </span><span class=\"s2\">&quot;a list of human ages (in years)&quot;</span><span class=\"p\">,</span>\n",
       "<span class=\"w\">            </span><span class=\"nt\">&quot;sample_data&quot;</span><span class=\"p\">:</span><span class=\"w\"> </span><span class=\"p\">[</span>\n",
       "<span class=\"w\">                </span><span class=\"mi\">79</span><span class=\"p\">,</span>\n",
       "<span class=\"w\">                </span><span class=\"mi\">62</span><span class=\"p\">,</span>\n",
       "<span class=\"w\">                </span><span class=\"mi\">62</span><span class=\"p\">,</span>\n",
       "<span class=\"w\">                </span><span class=\"mi\">46</span><span class=\"p\">,</span>\n",
       "<span class=\"w\">                </span><span class=\"mi\">69</span><span class=\"p\">,</span>\n",
       "<span class=\"w\">                </span><span class=\"mi\">43</span><span class=\"p\">,</span>\n",
       "<span class=\"w\">                </span><span class=\"mi\">79</span><span class=\"p\">,</span>\n",
       "<span class=\"w\">                </span><span class=\"mi\">56</span><span class=\"p\">,</span>\n",
       "<span class=\"w\">                </span><span class=\"mi\">24</span><span class=\"p\">,</span>\n",
       "<span class=\"w\">                </span><span class=\"mi\">54</span>\n",
       "<span class=\"w\">            </span><span class=\"p\">],</span>\n",
       "<span class=\"w\">            </span><span class=\"nt\">&quot;age&quot;</span><span class=\"p\">:</span><span class=\"w\"> </span><span class=\"mi\">49</span><span class=\"p\">,</span>\n",
       "<span class=\"w\">            </span><span class=\"nt\">&quot;sense_check_question&quot;</span><span class=\"p\">:</span><span class=\"w\"> </span><span class=\"s2\">&quot;Is &lt;data&gt; a non-negative number?&quot;</span>\n",
       "<span class=\"w\">        </span><span class=\"p\">}</span>\n",
       "<span class=\"w\">    </span><span class=\"p\">]</span>\n",
       "<span class=\"p\">}</span>\n",
       "</pre></div>\n"
      ],
      "text/plain": [
       "ScenarioList([Scenario({'data_description': 'a list of human ages (in years)', 'sample_data': [79, 62, 62, 46, 69, 43, 79, 56, 24, 54], 'age': 54, 'sense_check_question': 'Is <data> an integer?'}), Scenario({'data_description': 'a list of human ages (in years)', 'sample_data': [79, 62, 62, 46, 69, 43, 79, 56, 24, 54], 'age': 54, 'sense_check_question': 'Is <data> a non-negative number?'}), Scenario({'data_description': 'a list of human ages (in years)', 'sample_data': [79, 62, 62, 46, 69, 43, 79, 56, 24, 54], 'age': 49, 'sense_check_question': 'Is <data> a non-negative number?'})])"
      ]
     },
     "execution_count": 10,
     "metadata": {},
     "output_type": "execute_result"
    }
   ],
   "source": [
    "sl.sample(3)"
   ]
  },
  {
   "cell_type": "markdown",
   "id": "7d2ae335-5b94-45ad-8f2d-18e7f8210116",
   "metadata": {},
   "source": [
    "Same as with a single scenario, we add all the scenarios to the question at once when we run it:"
   ]
  },
  {
   "cell_type": "code",
   "execution_count": 11,
   "id": "d4a4ff5f-aecc-406c-87b1-cd5d9d4cc004",
   "metadata": {},
   "outputs": [],
   "source": [
    "results = q2.by(sl).run()"
   ]
  },
  {
   "cell_type": "markdown",
   "id": "4bf51612-767c-4de0-87fe-27f26d7559a3",
   "metadata": {},
   "source": [
    "We can filter, sort, select and print any components of the results that are generated:"
   ]
  },
  {
   "cell_type": "code",
   "execution_count": 12,
   "id": "f486fdd9-5a8a-4129-8f8f-c740af5bb4c5",
   "metadata": {},
   "outputs": [
    {
     "data": {
      "text/html": [
       "<pre style=\"white-space:pre;overflow-x:auto;line-height:normal;font-family:Menlo,'DejaVu Sans Mono',consolas,'Courier New',monospace\">┏━━━━━━━━━━━━━━━━━━━━━━━━━━━━━━━━━━━━━━━━━━━━━━━┳━━━━━━━━━━┓\n",
       "┃<span style=\"color: #800080; text-decoration-color: #800080; font-weight: bold\"> scenario                                      </span>┃<span style=\"color: #800080; text-decoration-color: #800080; font-weight: bold\"> scenario </span>┃\n",
       "┃<span style=\"color: #800080; text-decoration-color: #800080; font-weight: bold\"> .sense_check_question                         </span>┃<span style=\"color: #800080; text-decoration-color: #800080; font-weight: bold\"> .age     </span>┃\n",
       "┡━━━━━━━━━━━━━━━━━━━━━━━━━━━━━━━━━━━━━━━━━━━━━━━╇━━━━━━━━━━┩\n",
       "│<span style=\"color: #7f7f7f; text-decoration-color: #7f7f7f\"> Is &lt;data&gt; a non-negative number?              </span>│<span style=\"color: #7f7f7f; text-decoration-color: #7f7f7f\"> old      </span>│\n",
       "├───────────────────────────────────────────────┼──────────┤\n",
       "│<span style=\"color: #7f7f7f; text-decoration-color: #7f7f7f\"> Is &lt;data&gt; a non-negative number?              </span>│<span style=\"color: #7f7f7f; text-decoration-color: #7f7f7f\"> -5       </span>│\n",
       "├───────────────────────────────────────────────┼──────────┤\n",
       "│<span style=\"color: #7f7f7f; text-decoration-color: #7f7f7f\"> Is &lt;data&gt; a non-negative number?              </span>│<span style=\"color: #7f7f7f; text-decoration-color: #7f7f7f\"> 1.3      </span>│\n",
       "├───────────────────────────────────────────────┼──────────┤\n",
       "│<span style=\"color: #7f7f7f; text-decoration-color: #7f7f7f\"> Is &lt;data&gt; an integer?                         </span>│<span style=\"color: #7f7f7f; text-decoration-color: #7f7f7f\"> 1.3      </span>│\n",
       "├───────────────────────────────────────────────┼──────────┤\n",
       "│<span style=\"color: #7f7f7f; text-decoration-color: #7f7f7f\"> Is &lt;data&gt; an integer?                         </span>│<span style=\"color: #7f7f7f; text-decoration-color: #7f7f7f\"> 0.99     </span>│\n",
       "├───────────────────────────────────────────────┼──────────┤\n",
       "│<span style=\"color: #7f7f7f; text-decoration-color: #7f7f7f\"> Is &lt;data&gt; an integer?                         </span>│<span style=\"color: #7f7f7f; text-decoration-color: #7f7f7f\"> old      </span>│\n",
       "├───────────────────────────────────────────────┼──────────┤\n",
       "│<span style=\"color: #7f7f7f; text-decoration-color: #7f7f7f\"> Is &lt;data&gt; less than or equal to 120?          </span>│<span style=\"color: #7f7f7f; text-decoration-color: #7f7f7f\"> -5       </span>│\n",
       "├───────────────────────────────────────────────┼──────────┤\n",
       "│<span style=\"color: #7f7f7f; text-decoration-color: #7f7f7f\"> Is &lt;data&gt; less than or equal to 120?          </span>│<span style=\"color: #7f7f7f; text-decoration-color: #7f7f7f\"> 1050     </span>│\n",
       "├───────────────────────────────────────────────┼──────────┤\n",
       "│<span style=\"color: #7f7f7f; text-decoration-color: #7f7f7f\"> Is &lt;data&gt; less than or equal to 120?          </span>│<span style=\"color: #7f7f7f; text-decoration-color: #7f7f7f\"> old      </span>│\n",
       "├───────────────────────────────────────────────┼──────────┤\n",
       "│<span style=\"color: #7f7f7f; text-decoration-color: #7f7f7f\"> Is &lt;data&gt; less than or equal to 120?          </span>│<span style=\"color: #7f7f7f; text-decoration-color: #7f7f7f\"> 1.3      </span>│\n",
       "├───────────────────────────────────────────────┼──────────┤\n",
       "│<span style=\"color: #7f7f7f; text-decoration-color: #7f7f7f\"> Is &lt;data&gt; within a plausible human age range? </span>│<span style=\"color: #7f7f7f; text-decoration-color: #7f7f7f\"> old      </span>│\n",
       "├───────────────────────────────────────────────┼──────────┤\n",
       "│<span style=\"color: #7f7f7f; text-decoration-color: #7f7f7f\"> Is &lt;data&gt; within a plausible human age range? </span>│<span style=\"color: #7f7f7f; text-decoration-color: #7f7f7f\"> 0.99     </span>│\n",
       "├───────────────────────────────────────────────┼──────────┤\n",
       "│<span style=\"color: #7f7f7f; text-decoration-color: #7f7f7f\"> Is &lt;data&gt; within a plausible human age range? </span>│<span style=\"color: #7f7f7f; text-decoration-color: #7f7f7f\"> -5       </span>│\n",
       "├───────────────────────────────────────────────┼──────────┤\n",
       "│<span style=\"color: #7f7f7f; text-decoration-color: #7f7f7f\"> Is &lt;data&gt; within a plausible human age range? </span>│<span style=\"color: #7f7f7f; text-decoration-color: #7f7f7f\"> 1050     </span>│\n",
       "├───────────────────────────────────────────────┼──────────┤\n",
       "│<span style=\"color: #7f7f7f; text-decoration-color: #7f7f7f\"> Is &lt;data&gt; within a plausible human age range? </span>│<span style=\"color: #7f7f7f; text-decoration-color: #7f7f7f\"> 1.3      </span>│\n",
       "└───────────────────────────────────────────────┴──────────┘\n",
       "</pre>\n"
      ],
      "text/plain": [
       "┏━━━━━━━━━━━━━━━━━━━━━━━━━━━━━━━━━━━━━━━━━━━━━━━┳━━━━━━━━━━┓\n",
       "┃\u001b[1;35m \u001b[0m\u001b[1;35mscenario                                     \u001b[0m\u001b[1;35m \u001b[0m┃\u001b[1;35m \u001b[0m\u001b[1;35mscenario\u001b[0m\u001b[1;35m \u001b[0m┃\n",
       "┃\u001b[1;35m \u001b[0m\u001b[1;35m.sense_check_question                        \u001b[0m\u001b[1;35m \u001b[0m┃\u001b[1;35m \u001b[0m\u001b[1;35m.age    \u001b[0m\u001b[1;35m \u001b[0m┃\n",
       "┡━━━━━━━━━━━━━━━━━━━━━━━━━━━━━━━━━━━━━━━━━━━━━━━╇━━━━━━━━━━┩\n",
       "│\u001b[2m \u001b[0m\u001b[2mIs <data> a non-negative number?             \u001b[0m\u001b[2m \u001b[0m│\u001b[2m \u001b[0m\u001b[2mold     \u001b[0m\u001b[2m \u001b[0m│\n",
       "├───────────────────────────────────────────────┼──────────┤\n",
       "│\u001b[2m \u001b[0m\u001b[2mIs <data> a non-negative number?             \u001b[0m\u001b[2m \u001b[0m│\u001b[2m \u001b[0m\u001b[2m-5      \u001b[0m\u001b[2m \u001b[0m│\n",
       "├───────────────────────────────────────────────┼──────────┤\n",
       "│\u001b[2m \u001b[0m\u001b[2mIs <data> a non-negative number?             \u001b[0m\u001b[2m \u001b[0m│\u001b[2m \u001b[0m\u001b[2m1.3     \u001b[0m\u001b[2m \u001b[0m│\n",
       "├───────────────────────────────────────────────┼──────────┤\n",
       "│\u001b[2m \u001b[0m\u001b[2mIs <data> an integer?                        \u001b[0m\u001b[2m \u001b[0m│\u001b[2m \u001b[0m\u001b[2m1.3     \u001b[0m\u001b[2m \u001b[0m│\n",
       "├───────────────────────────────────────────────┼──────────┤\n",
       "│\u001b[2m \u001b[0m\u001b[2mIs <data> an integer?                        \u001b[0m\u001b[2m \u001b[0m│\u001b[2m \u001b[0m\u001b[2m0.99    \u001b[0m\u001b[2m \u001b[0m│\n",
       "├───────────────────────────────────────────────┼──────────┤\n",
       "│\u001b[2m \u001b[0m\u001b[2mIs <data> an integer?                        \u001b[0m\u001b[2m \u001b[0m│\u001b[2m \u001b[0m\u001b[2mold     \u001b[0m\u001b[2m \u001b[0m│\n",
       "├───────────────────────────────────────────────┼──────────┤\n",
       "│\u001b[2m \u001b[0m\u001b[2mIs <data> less than or equal to 120?         \u001b[0m\u001b[2m \u001b[0m│\u001b[2m \u001b[0m\u001b[2m-5      \u001b[0m\u001b[2m \u001b[0m│\n",
       "├───────────────────────────────────────────────┼──────────┤\n",
       "│\u001b[2m \u001b[0m\u001b[2mIs <data> less than or equal to 120?         \u001b[0m\u001b[2m \u001b[0m│\u001b[2m \u001b[0m\u001b[2m1050    \u001b[0m\u001b[2m \u001b[0m│\n",
       "├───────────────────────────────────────────────┼──────────┤\n",
       "│\u001b[2m \u001b[0m\u001b[2mIs <data> less than or equal to 120?         \u001b[0m\u001b[2m \u001b[0m│\u001b[2m \u001b[0m\u001b[2mold     \u001b[0m\u001b[2m \u001b[0m│\n",
       "├───────────────────────────────────────────────┼──────────┤\n",
       "│\u001b[2m \u001b[0m\u001b[2mIs <data> less than or equal to 120?         \u001b[0m\u001b[2m \u001b[0m│\u001b[2m \u001b[0m\u001b[2m1.3     \u001b[0m\u001b[2m \u001b[0m│\n",
       "├───────────────────────────────────────────────┼──────────┤\n",
       "│\u001b[2m \u001b[0m\u001b[2mIs <data> within a plausible human age range?\u001b[0m\u001b[2m \u001b[0m│\u001b[2m \u001b[0m\u001b[2mold     \u001b[0m\u001b[2m \u001b[0m│\n",
       "├───────────────────────────────────────────────┼──────────┤\n",
       "│\u001b[2m \u001b[0m\u001b[2mIs <data> within a plausible human age range?\u001b[0m\u001b[2m \u001b[0m│\u001b[2m \u001b[0m\u001b[2m0.99    \u001b[0m\u001b[2m \u001b[0m│\n",
       "├───────────────────────────────────────────────┼──────────┤\n",
       "│\u001b[2m \u001b[0m\u001b[2mIs <data> within a plausible human age range?\u001b[0m\u001b[2m \u001b[0m│\u001b[2m \u001b[0m\u001b[2m-5      \u001b[0m\u001b[2m \u001b[0m│\n",
       "├───────────────────────────────────────────────┼──────────┤\n",
       "│\u001b[2m \u001b[0m\u001b[2mIs <data> within a plausible human age range?\u001b[0m\u001b[2m \u001b[0m│\u001b[2m \u001b[0m\u001b[2m1050    \u001b[0m\u001b[2m \u001b[0m│\n",
       "├───────────────────────────────────────────────┼──────────┤\n",
       "│\u001b[2m \u001b[0m\u001b[2mIs <data> within a plausible human age range?\u001b[0m\u001b[2m \u001b[0m│\u001b[2m \u001b[0m\u001b[2m1.3     \u001b[0m\u001b[2m \u001b[0m│\n",
       "└───────────────────────────────────────────────┴──────────┘\n"
      ]
     },
     "metadata": {},
     "output_type": "display_data"
    }
   ],
   "source": [
    "(\n",
    "    results\n",
    "    .filter(\"check_data == 'No'\")\n",
    "    .sort_by(\"sense_check_question\")\n",
    "    .select(\"sense_check_question\", \"age\").print(format=\"rich\")\n",
    ")"
   ]
  },
  {
   "cell_type": "markdown",
   "id": "b2e1a939-d524-4960-bb38-c915864a80c8",
   "metadata": {
    "editable": true,
    "slideshow": {
     "slide_type": ""
    },
    "tags": []
   },
   "source": [
    "## Further exploration\n",
    "This notebook can be readily edited and expanded for other data cleaning and data labeling purposes, or to add personas for AI agents answering the questions with relevant background and expertise. [Learn more about using AI agents for your EDSL surveys](https://docs.expectedparrot.com/en/latest/agents.html). \n",
    "\n",
    "Please see our [documentation page](https://docs.expectedparrot.com/) for examples of other methods and use cases and let us know if you have any questions!"
   ]
  },
  {
   "cell_type": "markdown",
   "id": "77ab4ea4-0faf-4fc4-a047-03a5b56a646c",
   "metadata": {
    "editable": true,
    "slideshow": {
     "slide_type": ""
    },
    "tags": []
   },
   "source": [
    "## Posting to the Coop\n",
    "The [Coop](https://www.expectedparrot.com/explore) is a platform for creating, storing and sharing LLM-based research.\n",
    "It is fully integrated with EDSL and accessible from your workspace or Coop account page.\n",
    "Learn more about [creating an account](https://www.expectedparrot.com/login) and [using the Coop](https://docs.expectedparrot.com/en/latest/coop.html).\n",
    "\n",
    "Here we post this notebook:"
   ]
  },
  {
   "cell_type": "code",
   "execution_count": 13,
   "id": "82b09c3c-af61-4cb8-a0af-58ebd17f5601",
   "metadata": {
    "editable": true,
    "slideshow": {
     "slide_type": ""
    },
    "tags": [
     "skip-execution"
    ]
   },
   "outputs": [],
   "source": [
    "from edsl import Notebook"
   ]
  },
  {
   "cell_type": "code",
   "execution_count": 14,
   "id": "ce0f0adf-9640-440a-959e-8a3f34bd0017",
   "metadata": {
    "editable": true,
    "slideshow": {
     "slide_type": ""
    },
    "tags": [
     "skip-execution"
    ]
   },
   "outputs": [],
   "source": [
    "n = Notebook(path = \"data_cleaning.ipynb\")"
   ]
  },
  {
   "cell_type": "code",
   "execution_count": 15,
   "id": "46345c81-ed07-4514-9cfd-e386dcc44094",
   "metadata": {
    "editable": true,
    "slideshow": {
     "slide_type": ""
    },
    "tags": [
     "skip-execution"
    ]
   },
   "outputs": [
    {
     "data": {
      "text/plain": [
       "{'description': 'Example code for data cleaning',\n",
       " 'object_type': 'notebook',\n",
       " 'url': 'https://www.expectedparrot.com/content/9716dd0c-d587-4a95-817c-624618b4c429',\n",
       " 'uuid': '9716dd0c-d587-4a95-817c-624618b4c429',\n",
       " 'version': '0.1.33',\n",
       " 'visibility': 'public'}"
      ]
     },
     "execution_count": 15,
     "metadata": {},
     "output_type": "execute_result"
    }
   ],
   "source": [
    "n.push(description = \"Example code for data cleaning\", visibility = \"public\")"
   ]
  },
  {
   "cell_type": "markdown",
   "id": "051e4c3c-1300-4121-8f16-e513e0b6f606",
   "metadata": {},
   "source": [
    "To update an object at the Coop:"
   ]
  },
  {
   "cell_type": "code",
   "execution_count": 16,
   "id": "2d05aaf9-8aeb-4582-b037-dcbb03a106a9",
   "metadata": {
    "editable": true,
    "slideshow": {
     "slide_type": ""
    },
    "tags": [
     "skip-execution"
    ]
   },
   "outputs": [],
   "source": [
    "n = Notebook(path = \"data_cleaning.ipynb\") # resave"
   ]
  },
  {
   "cell_type": "code",
   "execution_count": 17,
   "id": "db2c7bef-924a-4856-9ede-aeeeadeef623",
   "metadata": {
    "editable": true,
    "slideshow": {
     "slide_type": ""
    },
    "tags": [
     "skip-execution"
    ]
   },
   "outputs": [
    {
     "data": {
      "text/plain": [
       "{'status': 'success'}"
      ]
     },
     "execution_count": 17,
     "metadata": {},
     "output_type": "execute_result"
    }
   ],
   "source": [
    "n.patch(uuid = \"9716dd0c-d587-4a95-817c-624618b4c429\", value = n)"
   ]
  }
 ],
 "metadata": {
  "kernelspec": {
   "display_name": "Python 3 (ipykernel)",
   "language": "python",
   "name": "python3"
  },
  "language_info": {
   "codemirror_mode": {
    "name": "ipython",
    "version": 3
   },
   "file_extension": ".py",
   "mimetype": "text/x-python",
   "name": "python",
   "nbconvert_exporter": "python",
   "pygments_lexer": "ipython3",
   "version": "3.11.7"
  }
 },
 "nbformat": 4,
 "nbformat_minor": 5
}
