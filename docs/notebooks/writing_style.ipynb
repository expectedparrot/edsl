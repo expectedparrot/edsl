{
 "cells": [
  {
   "cell_type": "markdown",
   "id": "c57a4e42-5866-4a29-9f93-5712c1a3892a",
   "metadata": {
    "editable": true,
    "slideshow": {
     "slide_type": ""
    },
    "tags": []
   },
   "source": [
    "# Stylized content\n",
    "This notebook provides a quick example of how to use [EDSL](https://docs.expectedparrot.com/) to prompt an AI agent to immitate a writing style in drafting some content. \n",
    "\n",
    "EDSL is an open-source library for simulating surveys and experiements with language models. Please see our [documentation page](https://docs.expectedparrot.com/) for tips and tutorials on getting started.\n",
    "*Thanks [Lori Berenberg for inspiring this demo](https://x.com/loriberenberg/status/1794012658271654103)!*"
   ]
  },
  {
   "cell_type": "markdown",
   "id": "a21ba173-07ba-4427-975d-f05304b15dab",
   "metadata": {
    "editable": true,
    "slideshow": {
     "slide_type": ""
    },
    "tags": []
   },
   "source": [
    "## Constructing a question\n",
    "EDSL comes with a variety of question types that we can choose from based on the form of the response that we want to get back from the model (multiple choice, free text, linear scale, etc.). Here we use `QuestionFreeText` to create a question prompt to return a textual response. We compose the question with a writing sample, and then use `Scenario` objects to run the question for any different topics that we want the agent to write about. This allows us to run all the versions of the question at once:"
   ]
  },
  {
   "cell_type": "code",
   "execution_count": 1,
   "id": "0bf0d868-2e58-4fdc-9515-0f0cf359ea52",
   "metadata": {
    "editable": true,
    "slideshow": {
     "slide_type": ""
    },
    "tags": []
   },
   "outputs": [],
   "source": [
    "from edsl import QuestionFreeText, ScenarioList, Scenario\n",
    "\n",
    "my_example = \"\"\"Arrr, matey, let me tell ye about bein' 45! 'Tis a grand age, like a fine rum \n",
    "that's been aged to perfection in the hold of an ol' ship. Ye've sailed through the squalls \n",
    "and storms of life, and now ye're ridin' the calm seas with the wind at yer back. Yer beard \n",
    "may be a bit grayer, and yer joints creak like an old wooden deck, but ye've got the wisdom \n",
    "of the seven seas and the tales to prove it! Ye've charted yer course, found yer treasure, \n",
    "and now ye're ready for new horizons and uncharted waters. So hoist the sails and set a course \n",
    "for adventure, because at 45, the horizon is as bright as a golden sunset over the open ocean. \n",
    "There's a whole world out there still to explore, filled with new treasures and mysteries \n",
    "awaitin' a bold soul like yerself. Aye, it's a fine time to be alive, with the world at yer \n",
    "feet, a hearty 'yo ho ho' in yer heart, and a spirit ready for new explorations!\n",
    "\"\"\"\n",
    "\n",
    "q = QuestionFreeText(\n",
    "    question_name=\"my_style\",\n",
    "    question_text=\"Here's an example of my writing style: \"\n",
    "    + my_example\n",
    "    + \"Draft a paragraph about {{ topic }} in my style.\",\n",
    ")\n",
    "\n",
    "topics = ScenarioList(\n",
    "    Scenario({\"topic\": t}) for t in [\"parrots\", \"holiday weekends\", \"fun with language models\"]\n",
    ")"
   ]
  },
  {
   "cell_type": "markdown",
   "id": "146888b5-fc10-4d25-8162-6821469e9764",
   "metadata": {
    "editable": true,
    "slideshow": {
     "slide_type": ""
    },
    "tags": []
   },
   "source": [
    "## Generating content\n",
    "We simulate responses by adding the scenarios to the question and running it. This generates a `Results` object that we can readily analyze (learn more about [built-in methods for analyzing results](https://docs.expectedparrot.com/en/latest/results.html)):"
   ]
  },
  {
   "cell_type": "code",
   "execution_count": 2,
   "id": "11a1d562-e1a5-4fbe-a97d-647307023d34",
   "metadata": {
    "editable": true,
    "slideshow": {
     "slide_type": ""
    },
    "tags": []
   },
   "outputs": [],
   "source": [
    "results = q.by(topics).run()"
   ]
  },
  {
   "cell_type": "markdown",
   "id": "0ec13041-ce56-4f05-884c-566c59e546e2",
   "metadata": {
    "editable": true,
    "slideshow": {
     "slide_type": ""
    },
    "tags": []
   },
   "source": [
    "Here we select the topics and responses and print them in a table:"
   ]
  },
  {
   "cell_type": "code",
   "execution_count": 3,
   "id": "fa64d9d6-8821-4ec9-b771-3b0b920bee9d",
   "metadata": {
    "editable": true,
    "slideshow": {
     "slide_type": ""
    },
    "tags": []
   },
   "outputs": [
    {
     "data": {
      "text/html": [
       "<pre style=\"white-space:pre;overflow-x:auto;line-height:normal;font-family:Menlo,'DejaVu Sans Mono',consolas,'Courier New',monospace\">┏━━━━━━━━━━━━━━━━━━━━━━━━━━┳━━━━━━━━━━━━━━━━━━━━━━━━━━━━━━━━━━━━━━━━━━━━━━━━━━━━━━━━━━━━━━━━━━━━━━━━━━━━━━━━━━━━━━┓\n",
       "┃<span style=\"color: #800080; text-decoration-color: #800080; font-weight: bold\"> scenario                 </span>┃<span style=\"color: #800080; text-decoration-color: #800080; font-weight: bold\"> answer                                                                               </span>┃\n",
       "┃<span style=\"color: #800080; text-decoration-color: #800080; font-weight: bold\"> .topic                   </span>┃<span style=\"color: #800080; text-decoration-color: #800080; font-weight: bold\"> .my_style                                                                            </span>┃\n",
       "┡━━━━━━━━━━━━━━━━━━━━━━━━━━╇━━━━━━━━━━━━━━━━━━━━━━━━━━━━━━━━━━━━━━━━━━━━━━━━━━━━━━━━━━━━━━━━━━━━━━━━━━━━━━━━━━━━━━┩\n",
       "│<span style=\"color: #7f7f7f; text-decoration-color: #7f7f7f\"> parrots                  </span>│<span style=\"color: #7f7f7f; text-decoration-color: #7f7f7f\"> Arrr, matey, let me spin ye a yarn about them fine feathered friends, the parrots!   </span>│\n",
       "│<span style=\"color: #7f7f7f; text-decoration-color: #7f7f7f\">                          </span>│<span style=\"color: #7f7f7f; text-decoration-color: #7f7f7f\"> Aye, these colorful squawkers be the true companions of any sea-farin' pirate worth  </span>│\n",
       "│<span style=\"color: #7f7f7f; text-decoration-color: #7f7f7f\">                          </span>│<span style=\"color: #7f7f7f; text-decoration-color: #7f7f7f\"> his salt. With feathers as vibrant as a sunset over the Caribbean, they perch upon   </span>│\n",
       "│<span style=\"color: #7f7f7f; text-decoration-color: #7f7f7f\">                          </span>│<span style=\"color: #7f7f7f; text-decoration-color: #7f7f7f\"> yer shoulder, whisperin' secrets of the sea in yer ear. These clever birds can mimic </span>│\n",
       "│<span style=\"color: #7f7f7f; text-decoration-color: #7f7f7f\">                          </span>│<span style=\"color: #7f7f7f; text-decoration-color: #7f7f7f\"> the very voice of the wind, and their squawks be a familiar sound aboard any pirate  </span>│\n",
       "│<span style=\"color: #7f7f7f; text-decoration-color: #7f7f7f\">                          </span>│<span style=\"color: #7f7f7f; text-decoration-color: #7f7f7f\"> ship. Aye, a parrot's loyalty is as steadfast as the North Star, guidin' ye through  </span>│\n",
       "│<span style=\"color: #7f7f7f; text-decoration-color: #7f7f7f\">                          </span>│<span style=\"color: #7f7f7f; text-decoration-color: #7f7f7f\"> the darkest nights and fiercest gales. They be more than just pets; they're trusted  </span>│\n",
       "│<span style=\"color: #7f7f7f; text-decoration-color: #7f7f7f\">                          </span>│<span style=\"color: #7f7f7f; text-decoration-color: #7f7f7f\"> mates who share in the spoils and the stories. So raise a tankard to these avian     </span>│\n",
       "│<span style=\"color: #7f7f7f; text-decoration-color: #7f7f7f\">                          </span>│<span style=\"color: #7f7f7f; text-decoration-color: #7f7f7f\"> adventurers, for they bring color, cheer, and a touch of magic to the pirate's life! </span>│\n",
       "│<span style=\"color: #7f7f7f; text-decoration-color: #7f7f7f\">                          </span>│<span style=\"color: #7f7f7f; text-decoration-color: #7f7f7f\"> Arrr, there's no better companion on the high seas than a trusty parrot by yer side! </span>│\n",
       "├──────────────────────────┼──────────────────────────────────────────────────────────────────────────────────────┤\n",
       "│<span style=\"color: #7f7f7f; text-decoration-color: #7f7f7f\"> fun with language models </span>│<span style=\"color: #7f7f7f; text-decoration-color: #7f7f7f\"> Arrr, matey, let me spin ye a yarn about the jolly good fun ye can have with these   </span>│\n",
       "│<span style=\"color: #7f7f7f; text-decoration-color: #7f7f7f\">                          </span>│<span style=\"color: #7f7f7f; text-decoration-color: #7f7f7f\"> here language models! 'Tis like havin' a trusty parrot on yer shoulder, always ready </span>│\n",
       "│<span style=\"color: #7f7f7f; text-decoration-color: #7f7f7f\">                          </span>│<span style=\"color: #7f7f7f; text-decoration-color: #7f7f7f\"> with a clever quip or a bit of sage advice. These marvels of modern sorcery can spin </span>│\n",
       "│<span style=\"color: #7f7f7f; text-decoration-color: #7f7f7f\">                          </span>│<span style=\"color: #7f7f7f; text-decoration-color: #7f7f7f\"> a tale as grand as the seven seas, fillin' yer sails with words as swift as the      </span>│\n",
       "│<span style=\"color: #7f7f7f; text-decoration-color: #7f7f7f\">                          </span>│<span style=\"color: #7f7f7f; text-decoration-color: #7f7f7f\"> trade winds. Whether ye be chartin' a course for a new adventure or just lookin' to  </span>│\n",
       "│<span style=\"color: #7f7f7f; text-decoration-color: #7f7f7f\">                          </span>│<span style=\"color: #7f7f7f; text-decoration-color: #7f7f7f\"> pass the time in the captain's quarters, these models be yer loyal crew, always      </span>│\n",
       "│<span style=\"color: #7f7f7f; text-decoration-color: #7f7f7f\">                          </span>│<span style=\"color: #7f7f7f; text-decoration-color: #7f7f7f\"> ready to lend a hand. They'll help ye craft messages fit for a king or a pirate,     </span>│\n",
       "│<span style=\"color: #7f7f7f; text-decoration-color: #7f7f7f\">                          </span>│<span style=\"color: #7f7f7f; text-decoration-color: #7f7f7f\"> with a treasure trove of knowledge and wit at their disposal. So hoist the Jolly     </span>│\n",
       "│<span style=\"color: #7f7f7f; text-decoration-color: #7f7f7f\">                          </span>│<span style=\"color: #7f7f7f; text-decoration-color: #7f7f7f\"> Roger and set sail on a voyage of linguistic discovery, for with these language      </span>│\n",
       "│<span style=\"color: #7f7f7f; text-decoration-color: #7f7f7f\">                          </span>│<span style=\"color: #7f7f7f; text-decoration-color: #7f7f7f\"> models at yer side, the world of words is yer oyster, and every sentence be a pearl! </span>│\n",
       "│<span style=\"color: #7f7f7f; text-decoration-color: #7f7f7f\">                          </span>│<span style=\"color: #7f7f7f; text-decoration-color: #7f7f7f\"> Aye, there's no end to the mirth and merriment ye can have, with a hearty 'yo ho ho' </span>│\n",
       "│<span style=\"color: #7f7f7f; text-decoration-color: #7f7f7f\">                          </span>│<span style=\"color: #7f7f7f; text-decoration-color: #7f7f7f\"> and a keyboard at yer fingertips!                                                    </span>│\n",
       "├──────────────────────────┼──────────────────────────────────────────────────────────────────────────────────────┤\n",
       "│<span style=\"color: #7f7f7f; text-decoration-color: #7f7f7f\"> holiday weekends         </span>│<span style=\"color: #7f7f7f; text-decoration-color: #7f7f7f\"> Arrr, matey, let me spin ye a yarn about holiday weekends! These be the times when a </span>│\n",
       "│<span style=\"color: #7f7f7f; text-decoration-color: #7f7f7f\">                          </span>│<span style=\"color: #7f7f7f; text-decoration-color: #7f7f7f\"> pirate's soul truly comes alive, like a ship breakin' free from the doldrums.        </span>│\n",
       "│<span style=\"color: #7f7f7f; text-decoration-color: #7f7f7f\">                          </span>│<span style=\"color: #7f7f7f; text-decoration-color: #7f7f7f\"> Picture this: ye've been laborin' hard, swabbin' the decks and battlin' the daily    </span>│\n",
       "│<span style=\"color: #7f7f7f; text-decoration-color: #7f7f7f\">                          </span>│<span style=\"color: #7f7f7f; text-decoration-color: #7f7f7f\"> grind, but now, the horizon be callin' with promises of leisure and merriment. A     </span>│\n",
       "│<span style=\"color: #7f7f7f; text-decoration-color: #7f7f7f\">                          </span>│<span style=\"color: #7f7f7f; text-decoration-color: #7f7f7f\"> holiday weekend is like findin' a hidden cove filled with gold doubloons and rare    </span>│\n",
       "│<span style=\"color: #7f7f7f; text-decoration-color: #7f7f7f\">                          </span>│<span style=\"color: #7f7f7f; text-decoration-color: #7f7f7f\"> spices. Ye can cast off the lines, let the wind fill yer sails, and set a course for </span>│\n",
       "│<span style=\"color: #7f7f7f; text-decoration-color: #7f7f7f\">                          </span>│<span style=\"color: #7f7f7f; text-decoration-color: #7f7f7f\"> relaxation and revelry. Whether ye be loungin' in a hammock with a tankard of grog   </span>│\n",
       "│<span style=\"color: #7f7f7f; text-decoration-color: #7f7f7f\">                          </span>│<span style=\"color: #7f7f7f; text-decoration-color: #7f7f7f\"> or explorin' new shores with yer trusted crew, these days be a treasure trove of joy </span>│\n",
       "│<span style=\"color: #7f7f7f; text-decoration-color: #7f7f7f\">                          </span>│<span style=\"color: #7f7f7f; text-decoration-color: #7f7f7f\"> and freedom. The sun be shinin', the sea be calm, and the laughter of friends and    </span>│\n",
       "│<span style=\"color: #7f7f7f; text-decoration-color: #7f7f7f\">                          </span>│<span style=\"color: #7f7f7f; text-decoration-color: #7f7f7f\"> family be the finest music to a pirate's ears. So raise yer flagon, me hearties, and </span>│\n",
       "│<span style=\"color: #7f7f7f; text-decoration-color: #7f7f7f\">                          </span>│<span style=\"color: #7f7f7f; text-decoration-color: #7f7f7f\"> toast to the grand adventures that await on these blessed holiday weekends! Aye,     </span>│\n",
       "│<span style=\"color: #7f7f7f; text-decoration-color: #7f7f7f\">                          </span>│<span style=\"color: #7f7f7f; text-decoration-color: #7f7f7f\"> there's no finer time to be a pirate, with the world at yer feet and the promise of  </span>│\n",
       "│<span style=\"color: #7f7f7f; text-decoration-color: #7f7f7f\">                          </span>│<span style=\"color: #7f7f7f; text-decoration-color: #7f7f7f\"> new escapades just beyond the horizon.                                               </span>│\n",
       "└──────────────────────────┴──────────────────────────────────────────────────────────────────────────────────────┘\n",
       "</pre>\n"
      ],
      "text/plain": [
       "┏━━━━━━━━━━━━━━━━━━━━━━━━━━┳━━━━━━━━━━━━━━━━━━━━━━━━━━━━━━━━━━━━━━━━━━━━━━━━━━━━━━━━━━━━━━━━━━━━━━━━━━━━━━━━━━━━━━┓\n",
       "┃\u001b[1;35m \u001b[0m\u001b[1;35mscenario                \u001b[0m\u001b[1;35m \u001b[0m┃\u001b[1;35m \u001b[0m\u001b[1;35manswer                                                                              \u001b[0m\u001b[1;35m \u001b[0m┃\n",
       "┃\u001b[1;35m \u001b[0m\u001b[1;35m.topic                  \u001b[0m\u001b[1;35m \u001b[0m┃\u001b[1;35m \u001b[0m\u001b[1;35m.my_style                                                                           \u001b[0m\u001b[1;35m \u001b[0m┃\n",
       "┡━━━━━━━━━━━━━━━━━━━━━━━━━━╇━━━━━━━━━━━━━━━━━━━━━━━━━━━━━━━━━━━━━━━━━━━━━━━━━━━━━━━━━━━━━━━━━━━━━━━━━━━━━━━━━━━━━━┩\n",
       "│\u001b[2m \u001b[0m\u001b[2mparrots                 \u001b[0m\u001b[2m \u001b[0m│\u001b[2m \u001b[0m\u001b[2mArrr, matey, let me spin ye a yarn about them fine feathered friends, the parrots!  \u001b[0m\u001b[2m \u001b[0m│\n",
       "│\u001b[2m                          \u001b[0m│\u001b[2m \u001b[0m\u001b[2mAye, these colorful squawkers be the true companions of any sea-farin' pirate worth \u001b[0m\u001b[2m \u001b[0m│\n",
       "│\u001b[2m                          \u001b[0m│\u001b[2m \u001b[0m\u001b[2mhis salt. With feathers as vibrant as a sunset over the Caribbean, they perch upon  \u001b[0m\u001b[2m \u001b[0m│\n",
       "│\u001b[2m                          \u001b[0m│\u001b[2m \u001b[0m\u001b[2myer shoulder, whisperin' secrets of the sea in yer ear. These clever birds can mimic\u001b[0m\u001b[2m \u001b[0m│\n",
       "│\u001b[2m                          \u001b[0m│\u001b[2m \u001b[0m\u001b[2mthe very voice of the wind, and their squawks be a familiar sound aboard any pirate \u001b[0m\u001b[2m \u001b[0m│\n",
       "│\u001b[2m                          \u001b[0m│\u001b[2m \u001b[0m\u001b[2mship. Aye, a parrot's loyalty is as steadfast as the North Star, guidin' ye through \u001b[0m\u001b[2m \u001b[0m│\n",
       "│\u001b[2m                          \u001b[0m│\u001b[2m \u001b[0m\u001b[2mthe darkest nights and fiercest gales. They be more than just pets; they're trusted \u001b[0m\u001b[2m \u001b[0m│\n",
       "│\u001b[2m                          \u001b[0m│\u001b[2m \u001b[0m\u001b[2mmates who share in the spoils and the stories. So raise a tankard to these avian    \u001b[0m\u001b[2m \u001b[0m│\n",
       "│\u001b[2m                          \u001b[0m│\u001b[2m \u001b[0m\u001b[2madventurers, for they bring color, cheer, and a touch of magic to the pirate's life!\u001b[0m\u001b[2m \u001b[0m│\n",
       "│\u001b[2m                          \u001b[0m│\u001b[2m \u001b[0m\u001b[2mArrr, there's no better companion on the high seas than a trusty parrot by yer side!\u001b[0m\u001b[2m \u001b[0m│\n",
       "├──────────────────────────┼──────────────────────────────────────────────────────────────────────────────────────┤\n",
       "│\u001b[2m \u001b[0m\u001b[2mfun with language models\u001b[0m\u001b[2m \u001b[0m│\u001b[2m \u001b[0m\u001b[2mArrr, matey, let me spin ye a yarn about the jolly good fun ye can have with these  \u001b[0m\u001b[2m \u001b[0m│\n",
       "│\u001b[2m                          \u001b[0m│\u001b[2m \u001b[0m\u001b[2mhere language models! 'Tis like havin' a trusty parrot on yer shoulder, always ready\u001b[0m\u001b[2m \u001b[0m│\n",
       "│\u001b[2m                          \u001b[0m│\u001b[2m \u001b[0m\u001b[2mwith a clever quip or a bit of sage advice. These marvels of modern sorcery can spin\u001b[0m\u001b[2m \u001b[0m│\n",
       "│\u001b[2m                          \u001b[0m│\u001b[2m \u001b[0m\u001b[2ma tale as grand as the seven seas, fillin' yer sails with words as swift as the     \u001b[0m\u001b[2m \u001b[0m│\n",
       "│\u001b[2m                          \u001b[0m│\u001b[2m \u001b[0m\u001b[2mtrade winds. Whether ye be chartin' a course for a new adventure or just lookin' to \u001b[0m\u001b[2m \u001b[0m│\n",
       "│\u001b[2m                          \u001b[0m│\u001b[2m \u001b[0m\u001b[2mpass the time in the captain's quarters, these models be yer loyal crew, always     \u001b[0m\u001b[2m \u001b[0m│\n",
       "│\u001b[2m                          \u001b[0m│\u001b[2m \u001b[0m\u001b[2mready to lend a hand. They'll help ye craft messages fit for a king or a pirate,    \u001b[0m\u001b[2m \u001b[0m│\n",
       "│\u001b[2m                          \u001b[0m│\u001b[2m \u001b[0m\u001b[2mwith a treasure trove of knowledge and wit at their disposal. So hoist the Jolly    \u001b[0m\u001b[2m \u001b[0m│\n",
       "│\u001b[2m                          \u001b[0m│\u001b[2m \u001b[0m\u001b[2mRoger and set sail on a voyage of linguistic discovery, for with these language     \u001b[0m\u001b[2m \u001b[0m│\n",
       "│\u001b[2m                          \u001b[0m│\u001b[2m \u001b[0m\u001b[2mmodels at yer side, the world of words is yer oyster, and every sentence be a pearl!\u001b[0m\u001b[2m \u001b[0m│\n",
       "│\u001b[2m                          \u001b[0m│\u001b[2m \u001b[0m\u001b[2mAye, there's no end to the mirth and merriment ye can have, with a hearty 'yo ho ho'\u001b[0m\u001b[2m \u001b[0m│\n",
       "│\u001b[2m                          \u001b[0m│\u001b[2m \u001b[0m\u001b[2mand a keyboard at yer fingertips!                                                   \u001b[0m\u001b[2m \u001b[0m│\n",
       "├──────────────────────────┼──────────────────────────────────────────────────────────────────────────────────────┤\n",
       "│\u001b[2m \u001b[0m\u001b[2mholiday weekends        \u001b[0m\u001b[2m \u001b[0m│\u001b[2m \u001b[0m\u001b[2mArrr, matey, let me spin ye a yarn about holiday weekends! These be the times when a\u001b[0m\u001b[2m \u001b[0m│\n",
       "│\u001b[2m                          \u001b[0m│\u001b[2m \u001b[0m\u001b[2mpirate's soul truly comes alive, like a ship breakin' free from the doldrums.       \u001b[0m\u001b[2m \u001b[0m│\n",
       "│\u001b[2m                          \u001b[0m│\u001b[2m \u001b[0m\u001b[2mPicture this: ye've been laborin' hard, swabbin' the decks and battlin' the daily   \u001b[0m\u001b[2m \u001b[0m│\n",
       "│\u001b[2m                          \u001b[0m│\u001b[2m \u001b[0m\u001b[2mgrind, but now, the horizon be callin' with promises of leisure and merriment. A    \u001b[0m\u001b[2m \u001b[0m│\n",
       "│\u001b[2m                          \u001b[0m│\u001b[2m \u001b[0m\u001b[2mholiday weekend is like findin' a hidden cove filled with gold doubloons and rare   \u001b[0m\u001b[2m \u001b[0m│\n",
       "│\u001b[2m                          \u001b[0m│\u001b[2m \u001b[0m\u001b[2mspices. Ye can cast off the lines, let the wind fill yer sails, and set a course for\u001b[0m\u001b[2m \u001b[0m│\n",
       "│\u001b[2m                          \u001b[0m│\u001b[2m \u001b[0m\u001b[2mrelaxation and revelry. Whether ye be loungin' in a hammock with a tankard of grog  \u001b[0m\u001b[2m \u001b[0m│\n",
       "│\u001b[2m                          \u001b[0m│\u001b[2m \u001b[0m\u001b[2mor explorin' new shores with yer trusted crew, these days be a treasure trove of joy\u001b[0m\u001b[2m \u001b[0m│\n",
       "│\u001b[2m                          \u001b[0m│\u001b[2m \u001b[0m\u001b[2mand freedom. The sun be shinin', the sea be calm, and the laughter of friends and   \u001b[0m\u001b[2m \u001b[0m│\n",
       "│\u001b[2m                          \u001b[0m│\u001b[2m \u001b[0m\u001b[2mfamily be the finest music to a pirate's ears. So raise yer flagon, me hearties, and\u001b[0m\u001b[2m \u001b[0m│\n",
       "│\u001b[2m                          \u001b[0m│\u001b[2m \u001b[0m\u001b[2mtoast to the grand adventures that await on these blessed holiday weekends! Aye,    \u001b[0m\u001b[2m \u001b[0m│\n",
       "│\u001b[2m                          \u001b[0m│\u001b[2m \u001b[0m\u001b[2mthere's no finer time to be a pirate, with the world at yer feet and the promise of \u001b[0m\u001b[2m \u001b[0m│\n",
       "│\u001b[2m                          \u001b[0m│\u001b[2m \u001b[0m\u001b[2mnew escapades just beyond the horizon.                                              \u001b[0m\u001b[2m \u001b[0m│\n",
       "└──────────────────────────┴──────────────────────────────────────────────────────────────────────────────────────┘\n"
      ]
     },
     "metadata": {},
     "output_type": "display_data"
    }
   ],
   "source": [
    "results.select(\"topic\", \"my_style\").print(format=\"rich\")"
   ]
  },
  {
   "cell_type": "markdown",
   "id": "bd4337d8-715d-418d-96f0-27293ce31d97",
   "metadata": {
    "editable": true,
    "slideshow": {
     "slide_type": ""
    },
    "tags": []
   },
   "source": [
    "Check out our [documentation page](https://docs.expectedparrot.com/) for many other demo notebooks and tutorials!"
   ]
  }
 ],
 "metadata": {
  "kernelspec": {
   "display_name": "Python 3 (ipykernel)",
   "language": "python",
   "name": "python3"
  },
  "language_info": {
   "codemirror_mode": {
    "name": "ipython",
    "version": 3
   },
   "file_extension": ".py",
   "mimetype": "text/x-python",
   "name": "python",
   "nbconvert_exporter": "python",
   "pygments_lexer": "ipython3",
   "version": "3.11.7"
  }
 },
 "nbformat": 4,
 "nbformat_minor": 5
}
