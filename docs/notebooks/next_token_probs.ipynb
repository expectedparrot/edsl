{
 "cells": [
  {
   "cell_type": "markdown",
   "id": "d9c10634-d54f-489b-b80f-b37d330b3006",
   "metadata": {
    "editable": true,
    "slideshow": {
     "slide_type": ""
    },
    "tags": []
   },
   "source": [
    "# Calculating next token probabilities\n",
    "This notebook provides sample [EDSL](https://docs.expectedparrot.com/) code for using language models to simulate a survey and calculating next token probabilities for models' responses to survey questions.\n",
    "\n",
    "[EDSL is an open-source libary](https://github.com/expectedparrot/edsl) for simulating surveys, experiments and other research with AI agents and large language models. \n",
    "Before running the code below, please ensure that you have [installed the EDSL library](https://docs.expectedparrot.com/en/latest/installation.html) and either [activated remote inference](https://docs.expectedparrot.com/en/latest/remote_inference.html) from your [Coop account](https://docs.expectedparrot.com/en/latest/coop.html) or [stored API keys](https://docs.expectedparrot.com/en/latest/api_keys.html) for the language models that you want to use with EDSL. Please also see our [documentation page](https://docs.expectedparrot.com/) for tips and tutorials on getting started using EDSL. "
   ]
  },
  {
   "cell_type": "markdown",
   "id": "3ef451ab-cd37-4b5d-b386-9a1b38b7c1c6",
   "metadata": {
    "editable": true,
    "slideshow": {
     "slide_type": ""
    },
    "tags": []
   },
   "source": [
    "## Research question"
   ]
  },
  {
   "cell_type": "code",
   "execution_count": 1,
   "id": "024ee414-3c10-433d-a9c7-0cd8492ac6ca",
   "metadata": {
    "editable": true,
    "slideshow": {
     "slide_type": ""
    },
    "tags": []
   },
   "outputs": [
    {
     "data": {
      "text/html": [
       "<blockquote class=\"twitter-tweet\"><p lang=\"en\" dir=\"ltr\">Aspirational wealth...doing better than you parents...an &quot;Opportunity Economy!&quot; <br>NO!<br>All are late 20th century neoliberal tropes.<br>Americans today seek financial security.<br>Decent jobs and government policy that will pay for the needs of life and old age.<br>Understand that Democrats! <a href=\"https://t.co/eR3hbx4wbX\">pic.twitter.com/eR3hbx4wbX</a></p>&mdash; Dan Alpert (@DanielAlpert) <a href=\"https://twitter.com/DanielAlpert/status/1833332263733416127?ref_src=twsrc%5Etfw\">September 10, 2024</a></blockquote> <script async src=\"https://platform.twitter.com/widgets.js\" charset=\"utf-8\"></script>"
      ],
      "text/plain": [
       "<IPython.core.display.HTML object>"
      ]
     },
     "execution_count": 1,
     "metadata": {},
     "output_type": "execute_result"
    }
   ],
   "source": [
    "from IPython.display import HTML\n",
    "HTML(\"\"\"<blockquote class=\"twitter-tweet\"><p lang=\"en\" dir=\"ltr\">Aspirational wealth...doing better than you parents...an &quot;Opportunity Economy!&quot; <br>NO!<br>All are late 20th century neoliberal tropes.<br>Americans today seek financial security.<br>Decent jobs and government policy that will pay for the needs of life and old age.<br>Understand that Democrats! <a href=\"https://t.co/eR3hbx4wbX\">pic.twitter.com/eR3hbx4wbX</a></p>&mdash; Dan Alpert (@DanielAlpert) <a href=\"https://twitter.com/DanielAlpert/status/1833332263733416127?ref_src=twsrc%5Etfw\">September 10, 2024</a></blockquote> <script async src=\"https://platform.twitter.com/widgets.js\" charset=\"utf-8\"></script>\"\"\")"
   ]
  },
  {
   "cell_type": "markdown",
   "id": "517beb9d-6330-4905-bfcf-d9d010eedab7",
   "metadata": {
    "editable": true,
    "slideshow": {
     "slide_type": ""
    },
    "tags": []
   },
   "source": [
    "## Simulating survey responses\n",
    "In the steps below we demonstrate how to use EDSL to simulate responses to the above question: \n",
    "\n",
    "#### *\"Which of the following is more important to you: Financial stability / Moving up the income ladder\"* "
   ]
  },
  {
   "cell_type": "markdown",
   "id": "cd892e03-0a1d-424a-af23-9e2dc82508f5",
   "metadata": {
    "editable": true,
    "slideshow": {
     "slide_type": ""
    },
    "tags": []
   },
   "source": [
    "### Creating questions\n",
    "We start by selecting a question type and constructing a question in the relevant template.\n",
    "[EDSL comes with many common question types](https://docs.expectedparrot.com/en/latest/questions.html) that we can choose from based on the desired form of the response:"
   ]
  },
  {
   "cell_type": "code",
   "execution_count": 2,
   "id": "8c2e8416-32ea-4ce5-94c2-a8af7022d1c1",
   "metadata": {
    "editable": true,
    "slideshow": {
     "slide_type": ""
    },
    "tags": []
   },
   "outputs": [],
   "source": [
    "from edsl import QuestionMultipleChoice"
   ]
  },
  {
   "cell_type": "code",
   "execution_count": 3,
   "id": "0e182ca7-46ac-4661-8182-160cb09f31b4",
   "metadata": {
    "editable": true,
    "slideshow": {
     "slide_type": ""
    },
    "tags": []
   },
   "outputs": [],
   "source": [
    "q = QuestionMultipleChoice(\n",
    "    question_name = \"income_pref\",\n",
    "    question_text = \"Which of the following is more important to you: \",\n",
    "    question_options = [\"Financial stability\", \"Moving up the income ladder\"]\n",
    ")"
   ]
  },
  {
   "cell_type": "markdown",
   "id": "ab0b5222-af12-438c-ade2-4fd48f81a4e3",
   "metadata": {
    "editable": true,
    "slideshow": {
     "slide_type": ""
    },
    "tags": []
   },
   "source": [
    "### Designing AI agents\n",
    "We can design AI agents with relevant `traits` to answer the question:"
   ]
  },
  {
   "cell_type": "code",
   "execution_count": 4,
   "id": "16a064c1-fe04-4797-b958-39c64647db9b",
   "metadata": {
    "editable": true,
    "slideshow": {
     "slide_type": ""
    },
    "tags": []
   },
   "outputs": [],
   "source": [
    "from edsl import Agent"
   ]
  },
  {
   "cell_type": "code",
   "execution_count": 5,
   "id": "4d67f43b-088c-4672-a939-bbacea52adb3",
   "metadata": {
    "editable": true,
    "slideshow": {
     "slide_type": ""
    },
    "tags": []
   },
   "outputs": [],
   "source": [
    "a = Agent(traits = {\"persona\": \"You are an American answering a poll from Pew.\"})"
   ]
  },
  {
   "cell_type": "markdown",
   "id": "1263a421-6749-410b-9b3e-a1c60db6f216",
   "metadata": {
    "editable": true,
    "slideshow": {
     "slide_type": ""
    },
    "tags": []
   },
   "source": [
    "### Selecting language models\n",
    "[EDSL works with many popular models](https://docs.expectedparrot.com/en/latest/language_models.html) that we can use to generate responses:"
   ]
  },
  {
   "cell_type": "code",
   "execution_count": 6,
   "id": "a03320e2-dba7-4ab6-80a5-8f8fb1f5f527",
   "metadata": {
    "editable": true,
    "slideshow": {
     "slide_type": ""
    },
    "tags": []
   },
   "outputs": [],
   "source": [
    "from edsl import Model"
   ]
  },
  {
   "cell_type": "code",
   "execution_count": 7,
   "id": "62bc5526-b035-4599-943b-2c037a6a9a38",
   "metadata": {
    "editable": true,
    "slideshow": {
     "slide_type": ""
    },
    "tags": []
   },
   "outputs": [],
   "source": [
    "m = Model(\"gpt-4o\", temperature = 1)"
   ]
  },
  {
   "cell_type": "markdown",
   "id": "65faeaff-483a-4f6a-bc0f-19e0eeae9908",
   "metadata": {
    "editable": true,
    "slideshow": {
     "slide_type": ""
    },
    "tags": []
   },
   "source": [
    "### Running a survey\n",
    "We administer the question by adding the agent and model and then running it.\n",
    "We can specify the number of times to administer the question:"
   ]
  },
  {
   "cell_type": "code",
   "execution_count": 8,
   "id": "1abbcee9-721f-4397-9689-7684db5a2472",
   "metadata": {
    "editable": true,
    "slideshow": {
     "slide_type": ""
    },
    "tags": []
   },
   "outputs": [],
   "source": [
    "results = q.by(a).by(m).run(n = 20)"
   ]
  },
  {
   "cell_type": "markdown",
   "id": "7e8021e1-a7cf-4965-b9d9-3483707aeb5d",
   "metadata": {
    "editable": true,
    "slideshow": {
     "slide_type": ""
    },
    "tags": []
   },
   "source": [
    "EDSL comes with [built-in methods for analyzing the dataset of `Results`](https://docs.expectedparrot.com/en/latest/results.html) that is generated:"
   ]
  },
  {
   "cell_type": "code",
   "execution_count": 9,
   "id": "9479e0b6-9088-442f-8695-6f0abf5c77e6",
   "metadata": {
    "editable": true,
    "slideshow": {
     "slide_type": ""
    },
    "tags": []
   },
   "outputs": [
    {
     "data": {
      "text/html": [
       "<pre style=\"white-space:pre;overflow-x:auto;line-height:normal;font-family:Menlo,'DejaVu Sans Mono',consolas,'Courier New',monospace\">┏━━━━━━━━━━━━━━━━━━━━━┳━━━━━━━┓\n",
       "┃<span style=\"color: #800080; text-decoration-color: #800080; font-weight: bold\"> value               </span>┃<span style=\"color: #800080; text-decoration-color: #800080; font-weight: bold\"> count </span>┃\n",
       "┡━━━━━━━━━━━━━━━━━━━━━╇━━━━━━━┩\n",
       "│<span style=\"color: #7f7f7f; text-decoration-color: #7f7f7f\"> Financial stability </span>│<span style=\"color: #7f7f7f; text-decoration-color: #7f7f7f\"> 20    </span>│\n",
       "└─────────────────────┴───────┘\n",
       "</pre>\n"
      ],
      "text/plain": [
       "┏━━━━━━━━━━━━━━━━━━━━━┳━━━━━━━┓\n",
       "┃\u001b[1;35m \u001b[0m\u001b[1;35mvalue              \u001b[0m\u001b[1;35m \u001b[0m┃\u001b[1;35m \u001b[0m\u001b[1;35mcount\u001b[0m\u001b[1;35m \u001b[0m┃\n",
       "┡━━━━━━━━━━━━━━━━━━━━━╇━━━━━━━┩\n",
       "│\u001b[2m \u001b[0m\u001b[2mFinancial stability\u001b[0m\u001b[2m \u001b[0m│\u001b[2m \u001b[0m\u001b[2m20   \u001b[0m\u001b[2m \u001b[0m│\n",
       "└─────────────────────┴───────┘\n"
      ]
     },
     "metadata": {},
     "output_type": "display_data"
    }
   ],
   "source": [
    "results.select(\"income_pref\").tally().print(format=\"rich\")"
   ]
  },
  {
   "cell_type": "markdown",
   "id": "bb3b1662-9a7b-4d77-93ab-7968ee1071d1",
   "metadata": {
    "editable": true,
    "slideshow": {
     "slide_type": ""
    },
    "tags": []
   },
   "source": [
    "## Calculating token probabilities\n",
    "In the above example we specified ***n = 20*** to run the question (with the agent and model) 20 times.\n",
    "\n",
    "We can also get the probabilities from the model by passing ***logprobs = True*** to the `Model`.\n",
    "\n",
    "To simplify the token probabilities calculation, we can also specify ***use_code = True*** in the `Question` parameters. \n",
    "This will cause the question to be presented to the model with coded options: 0 for \"Financial stability\" and 1 for \"Moving up the income ladder\":"
   ]
  },
  {
   "cell_type": "code",
   "execution_count": 10,
   "id": "849bd67f-52a0-4b3c-9e3b-0f86cfd676a4",
   "metadata": {
    "editable": true,
    "slideshow": {
     "slide_type": ""
    },
    "tags": []
   },
   "outputs": [],
   "source": [
    "m = Model(\"gpt-4o\", temperature = 1, logprobs = True)"
   ]
  },
  {
   "cell_type": "code",
   "execution_count": 11,
   "id": "d01b21e4-5e5b-4e9e-b72b-d6df1d90ac98",
   "metadata": {
    "editable": true,
    "slideshow": {
     "slide_type": ""
    },
    "tags": []
   },
   "outputs": [],
   "source": [
    "q = QuestionMultipleChoice(\n",
    "    question_name = \"income_pref\", \n",
    "    question_text = \"Which of the following is more important to you: \", \n",
    "    question_options = [\"Financial stability\", \"Moving up the income ladder\"], \n",
    "    use_code = True\n",
    ")"
   ]
  },
  {
   "cell_type": "code",
   "execution_count": 12,
   "id": "760adcd3-df98-4ab9-a3c3-196148a49763",
   "metadata": {
    "editable": true,
    "slideshow": {
     "slide_type": ""
    },
    "tags": []
   },
   "outputs": [],
   "source": [
    "new_results = q.by(a).by(m).run(n = 20)"
   ]
  },
  {
   "cell_type": "code",
   "execution_count": 13,
   "id": "dc213bbb-f962-43d7-bfce-b8dc759308fe",
   "metadata": {
    "editable": true,
    "slideshow": {
     "slide_type": ""
    },
    "tags": []
   },
   "outputs": [
    {
     "data": {
      "text/html": [
       "<pre style=\"white-space:pre;overflow-x:auto;line-height:normal;font-family:Menlo,'DejaVu Sans Mono',consolas,'Courier New',monospace\">┏━━━━━━━━━━━━━━━━━━━━━┳━━━━━━━┓\n",
       "┃<span style=\"color: #800080; text-decoration-color: #800080; font-weight: bold\"> value               </span>┃<span style=\"color: #800080; text-decoration-color: #800080; font-weight: bold\"> count </span>┃\n",
       "┡━━━━━━━━━━━━━━━━━━━━━╇━━━━━━━┩\n",
       "│<span style=\"color: #7f7f7f; text-decoration-color: #7f7f7f\"> Financial stability </span>│<span style=\"color: #7f7f7f; text-decoration-color: #7f7f7f\"> 20    </span>│\n",
       "└─────────────────────┴───────┘\n",
       "</pre>\n"
      ],
      "text/plain": [
       "┏━━━━━━━━━━━━━━━━━━━━━┳━━━━━━━┓\n",
       "┃\u001b[1;35m \u001b[0m\u001b[1;35mvalue              \u001b[0m\u001b[1;35m \u001b[0m┃\u001b[1;35m \u001b[0m\u001b[1;35mcount\u001b[0m\u001b[1;35m \u001b[0m┃\n",
       "┡━━━━━━━━━━━━━━━━━━━━━╇━━━━━━━┩\n",
       "│\u001b[2m \u001b[0m\u001b[2mFinancial stability\u001b[0m\u001b[2m \u001b[0m│\u001b[2m \u001b[0m\u001b[2m20   \u001b[0m\u001b[2m \u001b[0m│\n",
       "└─────────────────────┴───────┘\n"
      ]
     },
     "metadata": {},
     "output_type": "display_data"
    }
   ],
   "source": [
    "new_results.select(\"income_pref\").tally().print(format = \"rich\")"
   ]
  },
  {
   "cell_type": "markdown",
   "id": "b04e14f5-567e-4f73-8f07-587e28ae39fb",
   "metadata": {
    "editable": true,
    "slideshow": {
     "slide_type": ""
    },
    "tags": []
   },
   "source": [
    "## Inspecting results\n",
    "The `Results` include information about all the inputs and outputs relating to the question and response. \n",
    "\n",
    "To see a list of all the components that can be accessed and analyzed: "
   ]
  },
  {
   "cell_type": "code",
   "execution_count": 14,
   "id": "64369291-3993-44f3-8011-6e7e3a039dd1",
   "metadata": {
    "editable": true,
    "slideshow": {
     "slide_type": ""
    },
    "tags": []
   },
   "outputs": [
    {
     "data": {
      "text/plain": [
       "['agent.agent_instruction',\n",
       " 'agent.agent_name',\n",
       " 'agent.persona',\n",
       " 'answer.income_pref',\n",
       " 'comment.income_pref_comment',\n",
       " 'generated_tokens.income_pref_generated_tokens',\n",
       " 'iteration.iteration',\n",
       " 'model.frequency_penalty',\n",
       " 'model.logprobs',\n",
       " 'model.max_tokens',\n",
       " 'model.model',\n",
       " 'model.presence_penalty',\n",
       " 'model.temperature',\n",
       " 'model.top_logprobs',\n",
       " 'model.top_p',\n",
       " 'prompt.income_pref_system_prompt',\n",
       " 'prompt.income_pref_user_prompt',\n",
       " 'question_options.income_pref_question_options',\n",
       " 'question_text.income_pref_question_text',\n",
       " 'question_type.income_pref_question_type',\n",
       " 'raw_model_response.income_pref_cost',\n",
       " 'raw_model_response.income_pref_one_usd_buys',\n",
       " 'raw_model_response.income_pref_raw_model_response']"
      ]
     },
     "execution_count": 14,
     "metadata": {},
     "output_type": "execute_result"
    }
   ],
   "source": [
    "results.columns"
   ]
  },
  {
   "cell_type": "markdown",
   "id": "f098538f-d02b-4335-bcef-d26e7c6a57a6",
   "metadata": {
    "editable": true,
    "slideshow": {
     "slide_type": ""
    },
    "tags": []
   },
   "source": [
    "We can inspect the `raw_model_response.income_pref_raw_model_response` component to identify next token probabilities:"
   ]
  },
  {
   "cell_type": "code",
   "execution_count": 15,
   "id": "7f24658d-25bc-47e3-9348-9415788e6d3d",
   "metadata": {
    "editable": true,
    "slideshow": {
     "slide_type": ""
    },
    "tags": []
   },
   "outputs": [],
   "source": [
    "example = new_results.select(\"raw_model_response.income_pref_raw_model_response\").to_list()[0]"
   ]
  },
  {
   "cell_type": "code",
   "execution_count": 16,
   "id": "7aeda54b-3569-4ee0-9689-f1df41dd0559",
   "metadata": {
    "editable": true,
    "slideshow": {
     "slide_type": ""
    },
    "tags": []
   },
   "outputs": [
    {
     "data": {
      "text/plain": [
       "[{'token': '0', 'bytes': [48], 'logprob': -0.00028982185},\n",
       " {'token': '1', 'bytes': [49], 'logprob': -8.25029},\n",
       " {'token': ' ', 'bytes': [32], 'logprob': -11.50029}]"
      ]
     },
     "execution_count": 16,
     "metadata": {},
     "output_type": "execute_result"
    }
   ],
   "source": [
    "next_token_probs = example['choices'][0]['logprobs']['content'][0]['top_logprobs']\n",
    "next_token_probs"
   ]
  },
  {
   "cell_type": "markdown",
   "id": "3b056519-b81b-4482-a844-a274a676ab0c",
   "metadata": {
    "editable": true,
    "slideshow": {
     "slide_type": ""
    },
    "tags": []
   },
   "source": [
    "### Translating the information"
   ]
  },
  {
   "cell_type": "code",
   "execution_count": 18,
   "id": "0f98ac84",
   "metadata": {},
   "outputs": [
    {
     "data": {
      "text/plain": [
       "{'token': ' ', 'bytes': [32], 'logprob': -11.50029}"
      ]
     },
     "execution_count": 18,
     "metadata": {},
     "output_type": "execute_result"
    }
   ],
   "source": [
    "token_info"
   ]
  },
  {
   "cell_type": "code",
   "execution_count": 19,
   "id": "cf84aecd-60e7-4b9b-88fe-fb9ecfedd592",
   "metadata": {
    "editable": true,
    "slideshow": {
     "slide_type": ""
    },
    "tags": []
   },
   "outputs": [
    {
     "name": "stdout",
     "output_type": "stream",
     "text": [
      "Probability of selecting 'Financial stability' was 1.000\n",
      "Probability of selecting 'Moving up the income ladder' was 0.000\n",
      "Probability of selecting 'Skipped' was 0.000\n"
     ]
    }
   ],
   "source": [
    "import math\n",
    "\n",
    "# Specifying the codes for the answer options and non-responses:\n",
    "options = {'0': \"Financial stability\", '1':\"Moving up the income ladder\", '\\n': \"Skipped\", \" \": \"Skipped\"}\n",
    "\n",
    "for token_info in next_token_probs:\n",
    "    option = options[token_info['token']]\n",
    "    p = math.exp(token_info['logprob'])\n",
    "    \n",
    "    print(f\"Probability of selecting '{option}' was {p:.3f}\")"
   ]
  },
  {
   "cell_type": "markdown",
   "id": "bacfc8d7-0262-4e98-93b2-c1de1077d70a",
   "metadata": {
    "editable": true,
    "slideshow": {
     "slide_type": ""
    },
    "tags": []
   },
   "source": [
    "## Comparing models\n",
    "We can rerun the survey with other available models.\n",
    "\n",
    "To see a list of all available models:"
   ]
  },
  {
   "cell_type": "code",
   "execution_count": 18,
   "id": "1f502108-fb71-4de3-94d7-f60aa7fa15a4",
   "metadata": {
    "editable": true,
    "slideshow": {
     "slide_type": ""
    },
    "tags": []
   },
   "outputs": [],
   "source": [
    "# Model.available()"
   ]
  },
  {
   "cell_type": "code",
   "execution_count": 20,
   "id": "0ae756f8-c55f-45c3-b959-acf23e568812",
   "metadata": {
    "editable": true,
    "slideshow": {
     "slide_type": ""
    },
    "tags": []
   },
   "outputs": [],
   "source": [
    "models = [Model(model_name) for model_name, _, _ in Model.available()]"
   ]
  },
  {
   "cell_type": "code",
   "execution_count": 21,
   "id": "94291287-c56e-4a70-91e4-4bc2ff9e6cf6",
   "metadata": {
    "editable": true,
    "slideshow": {
     "slide_type": ""
    },
    "tags": []
   },
   "outputs": [
    {
     "data": {
      "text/plain": [
       "151"
      ]
     },
     "execution_count": 21,
     "metadata": {},
     "output_type": "execute_result"
    }
   ],
   "source": [
    "len(models)"
   ]
  },
  {
   "cell_type": "markdown",
   "id": "bc840f66-bac0-405b-a93d-99d876a32e5f",
   "metadata": {
    "editable": true,
    "slideshow": {
     "slide_type": ""
    },
    "tags": []
   },
   "source": [
    "We know some models will not be appropriate; we can add `print_exceptions = False` to skip the error report:"
   ]
  },
  {
   "cell_type": "code",
   "execution_count": 21,
   "id": "6738fade-55fb-43f3-b4e3-abfdd0ae8f0b",
   "metadata": {
    "editable": true,
    "slideshow": {
     "slide_type": ""
    },
    "tags": []
   },
   "outputs": [],
   "source": [
    "results_with_many_models = q.by(a).by(models).run(print_exceptions = False)"
   ]
  },
  {
   "cell_type": "markdown",
   "id": "a5950c39-7d68-4e4e-8b1f-5a05a9e90e8b",
   "metadata": {
    "editable": true,
    "slideshow": {
     "slide_type": ""
    },
    "tags": []
   },
   "source": [
    "### Performance\n",
    "We can check which models did/not answer the question, and filter out the non-responses:"
   ]
  },
  {
   "cell_type": "code",
   "execution_count": 22,
   "id": "258af61a-8d1d-472a-b84b-cfdc8b13eb87",
   "metadata": {
    "editable": true,
    "slideshow": {
     "slide_type": ""
    },
    "tags": []
   },
   "outputs": [
    {
     "data": {
      "text/html": [
       "<pre style=\"white-space:pre;overflow-x:auto;line-height:normal;font-family:Menlo,'DejaVu Sans Mono',consolas,'Courier New',monospace\">┏━━━━━━━━━━━━━━━━━━━━━━━━━━━━━┳━━━━━━━┓\n",
       "┃<span style=\"color: #800080; text-decoration-color: #800080; font-weight: bold\"> value                       </span>┃<span style=\"color: #800080; text-decoration-color: #800080; font-weight: bold\"> count </span>┃\n",
       "┡━━━━━━━━━━━━━━━━━━━━━━━━━━━━━╇━━━━━━━┩\n",
       "│<span style=\"color: #7f7f7f; text-decoration-color: #7f7f7f\"> Financial stability         </span>│<span style=\"color: #7f7f7f; text-decoration-color: #7f7f7f\"> 86    </span>│\n",
       "├─────────────────────────────┼───────┤\n",
       "│<span style=\"color: #7f7f7f; text-decoration-color: #7f7f7f\"> Moving up the income ladder </span>│<span style=\"color: #7f7f7f; text-decoration-color: #7f7f7f\"> 8     </span>│\n",
       "└─────────────────────────────┴───────┘\n",
       "</pre>\n"
      ],
      "text/plain": [
       "┏━━━━━━━━━━━━━━━━━━━━━━━━━━━━━┳━━━━━━━┓\n",
       "┃\u001b[1;35m \u001b[0m\u001b[1;35mvalue                      \u001b[0m\u001b[1;35m \u001b[0m┃\u001b[1;35m \u001b[0m\u001b[1;35mcount\u001b[0m\u001b[1;35m \u001b[0m┃\n",
       "┡━━━━━━━━━━━━━━━━━━━━━━━━━━━━━╇━━━━━━━┩\n",
       "│\u001b[2m \u001b[0m\u001b[2mFinancial stability        \u001b[0m\u001b[2m \u001b[0m│\u001b[2m \u001b[0m\u001b[2m86   \u001b[0m\u001b[2m \u001b[0m│\n",
       "├─────────────────────────────┼───────┤\n",
       "│\u001b[2m \u001b[0m\u001b[2mMoving up the income ladder\u001b[0m\u001b[2m \u001b[0m│\u001b[2m \u001b[0m\u001b[2m8    \u001b[0m\u001b[2m \u001b[0m│\n",
       "└─────────────────────────────┴───────┘\n"
      ]
     },
     "metadata": {},
     "output_type": "display_data"
    }
   ],
   "source": [
    "(\n",
    "    results_with_many_models\n",
    "    .filter('income_pref is not None')\n",
    "    .select('income_pref')\n",
    "    .tally()\n",
    "    .print(format = \"rich\")\n",
    ")"
   ]
  },
  {
   "cell_type": "code",
   "execution_count": 23,
   "id": "d3691406-e3d4-472a-ac71-2fa3bfa58421",
   "metadata": {
    "editable": true,
    "slideshow": {
     "slide_type": ""
    },
    "tags": []
   },
   "outputs": [
    {
     "data": {
      "text/html": [
       "\n",
       "    <style>\n",
       "        table {\n",
       "            width: 100%;\n",
       "            border-collapse: collapse;\n",
       "        }\n",
       "        table, th, td {\n",
       "            border: 1px solid black;\n",
       "        }\n",
       "        th, td {\n",
       "            padding: 10px;\n",
       "            text-align: left;\n",
       "        }\n",
       "    </style>\n",
       "    <table id=\"myTable\" class=\"display\">\n",
       "  <thead>\n",
       "  <tr>\n",
       "    <th>model.model</th>\n",
       "  </tr>\n",
       "  </thead>\n",
       "</tbody>\n",
       "  <tr>\n",
       "    <td>01-ai/Yi-34B-Chat</td>\n",
       "  </tr>\n",
       "  <tr>\n",
       "    <td>Austism/chronos-hermes-13b-v2</td>\n",
       "  </tr>\n",
       "  <tr>\n",
       "    <td>Gryphe/MythoMax-L2-13b</td>\n",
       "  </tr>\n",
       "  <tr>\n",
       "    <td>Gryphe/MythoMax-L2-13b-turbo</td>\n",
       "  </tr>\n",
       "  <tr>\n",
       "    <td>HuggingFaceH4/zephyr-orpo-141b-A35b-v0.1</td>\n",
       "  </tr>\n",
       "  <tr>\n",
       "    <td>Phind/Phind-CodeLlama-34B-v2</td>\n",
       "  </tr>\n",
       "  <tr>\n",
       "    <td>Qwen/Qwen2-72B-Instruct</td>\n",
       "  </tr>\n",
       "  <tr>\n",
       "    <td>Qwen/Qwen2-7B-Instruct</td>\n",
       "  </tr>\n",
       "  <tr>\n",
       "    <td>Qwen/Qwen2.5-72B-Instruct</td>\n",
       "  </tr>\n",
       "  <tr>\n",
       "    <td>Sao10K/L3-70B-Euryale-v2.1</td>\n",
       "  </tr>\n",
       "  <tr>\n",
       "    <td>Sao10K/L3.1-70B-Euryale-v2.2</td>\n",
       "  </tr>\n",
       "  <tr>\n",
       "    <td>bigcode/starcoder2-15b</td>\n",
       "  </tr>\n",
       "  <tr>\n",
       "    <td>bigcode/starcoder2-15b-instruct-v0.1</td>\n",
       "  </tr>\n",
       "  <tr>\n",
       "    <td>chatgpt-4o-latest</td>\n",
       "  </tr>\n",
       "  <tr>\n",
       "    <td>claude-3-5-sonnet-20240620</td>\n",
       "  </tr>\n",
       "  <tr>\n",
       "    <td>claude-3-haiku-20240307</td>\n",
       "  </tr>\n",
       "  <tr>\n",
       "    <td>claude-3-opus-20240229</td>\n",
       "  </tr>\n",
       "  <tr>\n",
       "    <td>claude-3-sonnet-20240229</td>\n",
       "  </tr>\n",
       "  <tr>\n",
       "    <td>codellama/CodeLlama-34b-Instruct-hf</td>\n",
       "  </tr>\n",
       "  <tr>\n",
       "    <td>codellama/CodeLlama-70b-Instruct-hf</td>\n",
       "  </tr>\n",
       "  <tr>\n",
       "    <td>codestral-2405</td>\n",
       "  </tr>\n",
       "  <tr>\n",
       "    <td>codestral-latest</td>\n",
       "  </tr>\n",
       "  <tr>\n",
       "    <td>codestral-mamba-2407</td>\n",
       "  </tr>\n",
       "  <tr>\n",
       "    <td>cognitivecomputations/dolphin-2.6-mixtral-8x7b</td>\n",
       "  </tr>\n",
       "  <tr>\n",
       "    <td>cognitivecomputations/dolphin-2.9.1-llama-3-70b</td>\n",
       "  </tr>\n",
       "  <tr>\n",
       "    <td>databricks/dbrx-instruct</td>\n",
       "  </tr>\n",
       "  <tr>\n",
       "    <td>deepinfra/airoboros-70b</td>\n",
       "  </tr>\n",
       "  <tr>\n",
       "    <td>gemini-1.0-pro</td>\n",
       "  </tr>\n",
       "  <tr>\n",
       "    <td>gemini-1.5-flash</td>\n",
       "  </tr>\n",
       "  <tr>\n",
       "    <td>gemini-1.5-pro</td>\n",
       "  </tr>\n",
       "  <tr>\n",
       "    <td>gemini-pro</td>\n",
       "  </tr>\n",
       "  <tr>\n",
       "    <td>gemma-7b-it</td>\n",
       "  </tr>\n",
       "  <tr>\n",
       "    <td>gemma2-9b-it</td>\n",
       "  </tr>\n",
       "  <tr>\n",
       "    <td>google/codegemma-7b-it</td>\n",
       "  </tr>\n",
       "  <tr>\n",
       "    <td>google/gemma-1.1-7b-it</td>\n",
       "  </tr>\n",
       "  <tr>\n",
       "    <td>google/gemma-2-27b-it</td>\n",
       "  </tr>\n",
       "  <tr>\n",
       "    <td>google/gemma-2-9b-it</td>\n",
       "  </tr>\n",
       "  <tr>\n",
       "    <td>gpt-3.5-turbo-0125</td>\n",
       "  </tr>\n",
       "  <tr>\n",
       "    <td>gpt-3.5-turbo-16k</td>\n",
       "  </tr>\n",
       "  <tr>\n",
       "    <td>gpt-4</td>\n",
       "  </tr>\n",
       "  <tr>\n",
       "    <td>gpt-4-0125-preview</td>\n",
       "  </tr>\n",
       "  <tr>\n",
       "    <td>gpt-4-0613</td>\n",
       "  </tr>\n",
       "  <tr>\n",
       "    <td>gpt-4-1106-preview</td>\n",
       "  </tr>\n",
       "  <tr>\n",
       "    <td>gpt-4-turbo</td>\n",
       "  </tr>\n",
       "  <tr>\n",
       "    <td>gpt-4-turbo-2024-04-09</td>\n",
       "  </tr>\n",
       "  <tr>\n",
       "    <td>gpt-4-turbo-preview</td>\n",
       "  </tr>\n",
       "  <tr>\n",
       "    <td>gpt-4o</td>\n",
       "  </tr>\n",
       "  <tr>\n",
       "    <td>gpt-4o-2024-05-13</td>\n",
       "  </tr>\n",
       "  <tr>\n",
       "    <td>gpt-4o-2024-08-06</td>\n",
       "  </tr>\n",
       "  <tr>\n",
       "    <td>gpt-4o-mini</td>\n",
       "  </tr>\n",
       "  <tr>\n",
       "    <td>gpt-4o-mini-2024-07-18</td>\n",
       "  </tr>\n",
       "  <tr>\n",
       "    <td>lizpreciatior/lzlv_70b_fp16_hf</td>\n",
       "  </tr>\n",
       "  <tr>\n",
       "    <td>llama-3.1-70b-versatile</td>\n",
       "  </tr>\n",
       "  <tr>\n",
       "    <td>llama-3.1-8b-instant</td>\n",
       "  </tr>\n",
       "  <tr>\n",
       "    <td>llama3-70b-8192</td>\n",
       "  </tr>\n",
       "  <tr>\n",
       "    <td>llama3-8b-8192</td>\n",
       "  </tr>\n",
       "  <tr>\n",
       "    <td>llama3-groq-70b-8192-tool-use-preview</td>\n",
       "  </tr>\n",
       "  <tr>\n",
       "    <td>llama3-groq-8b-8192-tool-use-preview</td>\n",
       "  </tr>\n",
       "  <tr>\n",
       "    <td>mattshumer/Reflection-Llama-3.1-70B</td>\n",
       "  </tr>\n",
       "  <tr>\n",
       "    <td>meta-llama/Llama-2-13b-chat-hf</td>\n",
       "  </tr>\n",
       "  <tr>\n",
       "    <td>meta-llama/Llama-2-70b-chat-hf</td>\n",
       "  </tr>\n",
       "  <tr>\n",
       "    <td>meta-llama/Llama-2-7b-chat-hf</td>\n",
       "  </tr>\n",
       "  <tr>\n",
       "    <td>meta-llama/Meta-Llama-3-70B-Instruct</td>\n",
       "  </tr>\n",
       "  <tr>\n",
       "    <td>meta-llama/Meta-Llama-3-8B-Instruct</td>\n",
       "  </tr>\n",
       "  <tr>\n",
       "    <td>meta-llama/Meta-Llama-3.1-405B-Instruct</td>\n",
       "  </tr>\n",
       "  <tr>\n",
       "    <td>meta-llama/Meta-Llama-3.1-70B-Instruct</td>\n",
       "  </tr>\n",
       "  <tr>\n",
       "    <td>meta-llama/Meta-Llama-3.1-8B-Instruct</td>\n",
       "  </tr>\n",
       "  <tr>\n",
       "    <td>microsoft/Phi-3-medium-4k-instruct</td>\n",
       "  </tr>\n",
       "  <tr>\n",
       "    <td>mistral-large-2407</td>\n",
       "  </tr>\n",
       "  <tr>\n",
       "    <td>mistral-large-latest</td>\n",
       "  </tr>\n",
       "  <tr>\n",
       "    <td>mistral-medium</td>\n",
       "  </tr>\n",
       "  <tr>\n",
       "    <td>mistral-medium-2312</td>\n",
       "  </tr>\n",
       "  <tr>\n",
       "    <td>mistral-medium-latest</td>\n",
       "  </tr>\n",
       "  <tr>\n",
       "    <td>mistral-small-2402</td>\n",
       "  </tr>\n",
       "  <tr>\n",
       "    <td>mistral-small-2409</td>\n",
       "  </tr>\n",
       "  <tr>\n",
       "    <td>mistral-small-latest</td>\n",
       "  </tr>\n",
       "  <tr>\n",
       "    <td>mistral-tiny</td>\n",
       "  </tr>\n",
       "  <tr>\n",
       "    <td>mistral-tiny-2312</td>\n",
       "  </tr>\n",
       "  <tr>\n",
       "    <td>mistral-tiny-2407</td>\n",
       "  </tr>\n",
       "  <tr>\n",
       "    <td>mistral-tiny-latest</td>\n",
       "  </tr>\n",
       "  <tr>\n",
       "    <td>mistralai/Mistral-Nemo-Instruct-2407</td>\n",
       "  </tr>\n",
       "  <tr>\n",
       "    <td>mistralai/Mixtral-8x22B-v0.1</td>\n",
       "  </tr>\n",
       "  <tr>\n",
       "    <td>mistralai/Mixtral-8x7B-Instruct-v0.1</td>\n",
       "  </tr>\n",
       "  <tr>\n",
       "    <td>nvidia/Nemotron-4-340B-Instruct</td>\n",
       "  </tr>\n",
       "  <tr>\n",
       "    <td>open-mistral-7b</td>\n",
       "  </tr>\n",
       "  <tr>\n",
       "    <td>open-mistral-nemo</td>\n",
       "  </tr>\n",
       "  <tr>\n",
       "    <td>open-mistral-nemo-2407</td>\n",
       "  </tr>\n",
       "  <tr>\n",
       "    <td>open-mixtral-8x22b</td>\n",
       "  </tr>\n",
       "  <tr>\n",
       "    <td>open-mixtral-8x22b-2404</td>\n",
       "  </tr>\n",
       "  <tr>\n",
       "    <td>openchat/openchat-3.6-8b</td>\n",
       "  </tr>\n",
       "  <tr>\n",
       "    <td>pixtral</td>\n",
       "  </tr>\n",
       "  <tr>\n",
       "    <td>pixtral-12b</td>\n",
       "  </tr>\n",
       "  <tr>\n",
       "    <td>pixtral-12b-2409</td>\n",
       "  </tr>\n",
       "  <tr>\n",
       "    <td>pixtral-latest</td>\n",
       "  </tr>\n",
       "</tbody>\n",
       "</table>"
      ],
      "text/plain": [
       "<IPython.core.display.HTML object>"
      ]
     },
     "metadata": {},
     "output_type": "display_data"
    }
   ],
   "source": [
    "results_with_many_models.filter(\"income_pref is not None\").select(\"model\").print()"
   ]
  },
  {
   "cell_type": "markdown",
   "id": "30800f33-9da6-46dd-9340-842f7ff22f2d",
   "metadata": {
    "editable": true,
    "slideshow": {
     "slide_type": ""
    },
    "tags": []
   },
   "source": [
    "## Posting to the Coop\n",
    "The [Coop](https://www.expectedparrot.com/explore) is a platform for creating, storing and sharing LLM-based research.\n",
    "It is fully integrated with EDSL and accessible from your workspace or Coop account page.\n",
    "Learn more about [creating an account](https://www.expectedparrot.com/login) and [using the Coop](https://docs.expectedparrot.com/en/latest/coop.html).\n",
    "\n",
    "Here we demonstrate how to post this notebook:"
   ]
  },
  {
   "cell_type": "code",
   "execution_count": 24,
   "id": "e122ab38-2a3e-482c-8848-35ae00ca0502",
   "metadata": {
    "editable": true,
    "slideshow": {
     "slide_type": ""
    },
    "tags": [
     "skip-execution"
    ]
   },
   "outputs": [],
   "source": [
    "from edsl import Notebook"
   ]
  },
  {
   "cell_type": "code",
   "execution_count": 25,
   "id": "fbfdeec6-a71a-4131-a72c-0afe721328c3",
   "metadata": {
    "editable": true,
    "slideshow": {
     "slide_type": ""
    },
    "tags": [
     "skip-execution"
    ]
   },
   "outputs": [],
   "source": [
    "n = Notebook(path = \"next_token_probs.ipynb\")"
   ]
  },
  {
   "cell_type": "code",
   "execution_count": 26,
   "id": "eea788b6-699b-4197-94cd-b5766f92dea4",
   "metadata": {
    "editable": true,
    "slideshow": {
     "slide_type": ""
    },
    "tags": [
     "skip-execution"
    ]
   },
   "outputs": [
    {
     "data": {
      "text/plain": [
       "{'description': 'Example code for calculating next token probabilities',\n",
       " 'object_type': 'notebook',\n",
       " 'url': 'https://www.expectedparrot.com/content/8be8de45-006c-484a-b677-8e3bb25f8ff7',\n",
       " 'uuid': '8be8de45-006c-484a-b677-8e3bb25f8ff7',\n",
       " 'version': '0.1.33.dev1',\n",
       " 'visibility': 'public'}"
      ]
     },
     "execution_count": 26,
     "metadata": {},
     "output_type": "execute_result"
    }
   ],
   "source": [
    "n.push(description = \"Example code for calculating next token probabilities\", visibility = \"public\")"
   ]
  },
  {
   "cell_type": "markdown",
   "id": "12902cd7-9137-45c2-8e83-ec71cea7d5b9",
   "metadata": {
    "editable": true,
    "slideshow": {
     "slide_type": ""
    },
    "tags": []
   },
   "source": [
    "To update an object at the Coop:"
   ]
  },
  {
   "cell_type": "code",
   "execution_count": 29,
   "id": "eb70666f-ad60-40a5-abf2-da9d75c2a13e",
   "metadata": {
    "editable": true,
    "slideshow": {
     "slide_type": ""
    },
    "tags": [
     "skip-execution"
    ]
   },
   "outputs": [],
   "source": [
    "n = Notebook(path = \"next_token_probs.ipynb\") # resave"
   ]
  },
  {
   "cell_type": "code",
   "execution_count": 30,
   "id": "6c7997a7-7d96-4de5-927d-6442923a7384",
   "metadata": {
    "editable": true,
    "slideshow": {
     "slide_type": ""
    },
    "tags": [
     "skip-execution"
    ]
   },
   "outputs": [
    {
     "data": {
      "text/plain": [
       "{'status': 'success'}"
      ]
     },
     "execution_count": 30,
     "metadata": {},
     "output_type": "execute_result"
    }
   ],
   "source": [
    "n.patch(uuid = \"8be8de45-006c-484a-b677-8e3bb25f8ff7\", value = n)"
   ]
  }
 ],
 "metadata": {
  "kernelspec": {
   "display_name": "Python 3 (ipykernel)",
   "language": "python",
   "name": "python3"
  },
  "language_info": {
   "codemirror_mode": {
    "name": "ipython",
    "version": 3
   },
   "file_extension": ".py",
   "mimetype": "text/x-python",
   "name": "python",
   "nbconvert_exporter": "python",
   "pygments_lexer": "ipython3",
   "version": "3.10.15"
  }
 },
 "nbformat": 4,
 "nbformat_minor": 5
}
