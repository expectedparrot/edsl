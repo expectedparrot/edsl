{
 "cells": [
  {
   "cell_type": "markdown",
   "id": "f3e05c2b-1f28-466d-9a54-8b7c554c9d1e",
   "metadata": {
    "editable": true,
    "slideshow": {
     "slide_type": ""
    },
    "tags": []
   },
   "source": [
    "# Using EDSL to sense check data\n",
    "This notebook provides example code for sense checking survey data using [EDSL](https://docs.expectedparrot.com), an open-source library for simulating surveys, experiments and market research with AI agents and large language models. \n",
    "\n",
    "## Contents\n",
    "Using a set of responses to a survey about online marketplaces as an example, we demonstrate EDSL methods for: \n",
    "\n",
    "1. Evaluating survey questions (e.g., for clarity and improvements)\n",
    "2. Analyzing each respondent's set of answers (e.g., to summarize or identify sentiment, themes, etc.)\n",
    "3. Reviewing each answer individually (e.g., to evaluate its relevance or usefulness)\n",
    "\n",
    "## Coop\n",
    "We also show how to post EDSL questions, surveys, results and notebooks (like this one) to the [Coop: a new platform for creating and sharing LLM-based research](https://www.expectedparrot.com/explore). \n",
    "\n",
    "## How EDSL works\n",
    "EDSL is a flexible library that can be used to perform a broad variety of research tasks. A typical workflow consists of the following steps:\n",
    "\n",
    "* Construct questions in EDSL \n",
    "* Add data to the questions (e.g., for data labeling tasks)\n",
    "* Use an AI agent to answer the questions\n",
    "* Select a language model to generate the answers\n",
    "* Analyze results in a formatted dataset\n",
    "\n",
    "## Technical setup\n",
    "Before running the code below please ensure that you have completed setup:\n",
    "\n",
    "* [Install](https://docs.expectedparrot.com/en/latest/installation.html) the EDSL library.\n",
    "* Create a [Coop account](https://www.expectedparrot.com/login) and activate [remote inference](https://docs.expectedparrot.com/en/latest/remote_inference.html) OR store your own [API Keys](https://docs.expectedparrot.com/en/latest/api_keys.html) for language models that you want to use.\n",
    "\n",
    "Our [Starter Tutorial](https://docs.expectedparrot.com/en/latest/starter_tutorial.html) provides examples of EDSL basic components. "
   ]
  },
  {
   "cell_type": "markdown",
   "id": "f1986963-2a7f-4bd7-9f0b-0e3ccfb00e02",
   "metadata": {},
   "source": [
    "## Example data\n",
    "Our example data is a CSV consisting of several questions and a few rows of responses.\n",
    "We have stored it at the Coop and can re-import it:"
   ]
  },
  {
   "cell_type": "code",
   "execution_count": 1,
   "id": "6f7c3ed3-97c4-4f18-ad0d-4c149a3f844b",
   "metadata": {},
   "outputs": [],
   "source": [
    "from edsl.scenarios.FileStore import CSVFileStore"
   ]
  },
  {
   "cell_type": "code",
   "execution_count": 2,
   "id": "43a3ea5e-d7be-4e13-80e3-a9abfb144ed3",
   "metadata": {},
   "outputs": [],
   "source": [
    "csv_file = CSVFileStore.pull('2e3c4292-8fdb-4d17-9eea-858dadf1e42d', expected_parrot_url='https://www.expectedparrot.com')"
   ]
  },
  {
   "cell_type": "code",
   "execution_count": 3,
   "id": "51927530-fbed-4d80-b280-d54bdcc99cba",
   "metadata": {},
   "outputs": [],
   "source": [
    "# Code for uploading a CSV to the Coop:\n",
    "\n",
    "# refresh = False\n",
    "# if refresh:\n",
    "#     from edsl.scenarios.FileStore import CSVFileStore\n",
    "#     fs = CSVFileStore(\"marketplace_survey_results.csv\")\n",
    "#     info = fs.push()\n",
    "#     print(info)"
   ]
  },
  {
   "cell_type": "markdown",
   "id": "1f73e0f9-1af9-41ae-901e-53fc64a3c545",
   "metadata": {},
   "source": [
    "## Creating questions about the data\n",
    "There are many questions we might want to ask about the data, such as:\n",
    "\n",
    "* Does this survey question have any logical or syntactical problems? {{ *question* }}\n",
    "* What is the overall sentiment of this respondent's answers? {{ *responses* }}\n",
    "* Is this answer responsive to the question that was asked? {{ *question* }} {{ *answer* }}"
   ]
  },
  {
   "cell_type": "markdown",
   "id": "57c30c86-ac26-4d0f-a8be-fc95e5d2ad85",
   "metadata": {},
   "source": [
    "## Question types\n",
    "EDSL comes with many common question types that we can select from based on the form of the response that we want to get back from the model: multiple choice, checkbox, linear scale, free text, etc. [Learn more about EDSL question types](https://docs.expectedparrot.com/en/latest/questions.html).\n",
    "\n",
    "Here we construct `Question` objects for the questions that we want to ask about the data, using `{{ placeholders }}` for the information that we will add to the questions in the steps that follow:"
   ]
  },
  {
   "cell_type": "code",
   "execution_count": 4,
   "id": "d79f413a-ae95-4493-9d2f-ab573b08b635",
   "metadata": {},
   "outputs": [],
   "source": [
    "from edsl import QuestionFreeText, QuestionMultipleChoice, QuestionYesNo"
   ]
  },
  {
   "cell_type": "code",
   "execution_count": 5,
   "id": "21a46fac-9bc6-4fad-9b47-91ea04f896a3",
   "metadata": {},
   "outputs": [],
   "source": [
    "q_logic = QuestionFreeText(\n",
    "    question_name = \"logic\",\n",
    "    question_text = \"Describe any logical or syntactical problems in the following survey question: {{ question }}\"\n",
    ")"
   ]
  },
  {
   "cell_type": "code",
   "execution_count": 6,
   "id": "3f85f392-3807-4672-8b7e-ef83526c46f2",
   "metadata": {},
   "outputs": [],
   "source": [
    "q_sentiment = QuestionMultipleChoice(\n",
    "    question_name = \"sentiment\",\n",
    "    question_text = \"What is the overall sentiment of this respondent's survey answers? {{ responses }}\",\n",
    "    question_options = [\"Very unsatisfied\", \"Somewhat unsatisfied\", \"Somewhat satisfied\", \"Very satisfied\"]\n",
    ")"
   ]
  },
  {
   "cell_type": "code",
   "execution_count": 7,
   "id": "dc72fa3a-a338-4705-9b01-53f461724422",
   "metadata": {},
   "outputs": [],
   "source": [
    "q_responsive = QuestionYesNo(\n",
    "    question_name = \"responsive\",\n",
    "    question_text = \"Is this answer responsive to the question that was asked? Question: {{ question }} Answer: {{ answer }}\"\n",
    ")"
   ]
  },
  {
   "cell_type": "markdown",
   "id": "d0431ad6-62a1-45b1-91ec-6b872e6050c8",
   "metadata": {},
   "source": [
    "## Adding survey data to the questions\n",
    "Next we'll add our data to our questions. This can be done efficiently by creating a `ScenarioList` representing the data. The individual `Scenario` objects in the list can be constructed in a variety of ways depending on the information that we want to include in a particular question.\n",
    "\n",
    "We start by calling the `from_csv()` method to create a `ScenarioList` for the data in its original form. We can see that this generates a `Scenario` dictionary for each respondent's set of answers with key/value pairs for the individual questions and answers: "
   ]
  },
  {
   "cell_type": "code",
   "execution_count": 8,
   "id": "ec4b239d-c991-4e6f-b9ab-c369a990a748",
   "metadata": {},
   "outputs": [],
   "source": [
    "from edsl import ScenarioList"
   ]
  },
  {
   "cell_type": "code",
   "execution_count": 9,
   "id": "d3d88d16-48d7-419a-9562-558825c08fff",
   "metadata": {},
   "outputs": [
    {
     "data": {
      "text/html": [
       "<div class=\"highlight\"><pre><span></span><span class=\"p\">{</span>\n",
       "<span class=\"w\">    </span><span class=\"nt\">&quot;scenarios&quot;</span><span class=\"p\">:</span><span class=\"w\"> </span><span class=\"p\">[</span>\n",
       "<span class=\"w\">        </span><span class=\"p\">{</span>\n",
       "<span class=\"w\">            </span><span class=\"nt\">&quot;Respondent ID&quot;</span><span class=\"p\">:</span><span class=\"w\"> </span><span class=\"s2\">&quot;101&quot;</span><span class=\"p\">,</span>\n",
       "<span class=\"w\">            </span><span class=\"nt\">&quot;What do you like most about using our online marketplace?&quot;</span><span class=\"p\">:</span><span class=\"w\"> </span><span class=\"s2\">&quot;The wide variety of products and the ease of use.&quot;</span><span class=\"p\">,</span>\n",
       "<span class=\"w\">            </span><span class=\"nt\">&quot;What is one feature you would like to see added to improve your shopping experience?&quot;</span><span class=\"p\">:</span><span class=\"w\"> </span><span class=\"s2\">&quot;It would be great to have a personalized recommendation system based on my browsing history.&quot;</span><span class=\"p\">,</span>\n",
       "<span class=\"w\">            </span><span class=\"nt\">&quot;Can you describe a recent experience where you were dissatisfied with our service?&quot;</span><span class=\"p\">:</span><span class=\"w\"> </span><span class=\"s2\">&quot;I was disappointed when an item I ordered arrived damaged, but customer service quickly resolved it.&quot;</span><span class=\"p\">,</span>\n",
       "<span class=\"w\">            </span><span class=\"nt\">&quot;How do you feel about the current product search and filtering options?&quot;</span><span class=\"p\">:</span><span class=\"w\"> </span><span class=\"s2\">&quot;The search and filtering options are intuitive and work well for me.&quot;</span><span class=\"p\">,</span>\n",
       "<span class=\"w\">            </span><span class=\"nt\">&quot;Is there anything else you would like to share about your experience with us?&quot;</span><span class=\"p\">:</span><span class=\"w\"> </span><span class=\"s2\">&quot;No, keep up the great work!&quot;</span>\n",
       "<span class=\"w\">        </span><span class=\"p\">},</span>\n",
       "<span class=\"w\">        </span><span class=\"p\">{</span>\n",
       "<span class=\"w\">            </span><span class=\"nt\">&quot;Respondent ID&quot;</span><span class=\"p\">:</span><span class=\"w\"> </span><span class=\"s2\">&quot;102&quot;</span><span class=\"p\">,</span>\n",
       "<span class=\"w\">            </span><span class=\"nt\">&quot;What do you like most about using our online marketplace?&quot;</span><span class=\"p\">:</span><span class=\"w\"> </span><span class=\"s2\">&quot;I enjoy the simplicity of the interface.&quot;</span><span class=\"p\">,</span>\n",
       "<span class=\"w\">            </span><span class=\"nt\">&quot;What is one feature you would like to see added to improve your shopping experience?&quot;</span><span class=\"p\">:</span><span class=\"w\"> </span><span class=\"s2\">&quot;A feature that helps compare similar products side by side would be useful.&quot;</span><span class=\"p\">,</span>\n",
       "<span class=\"w\">            </span><span class=\"nt\">&quot;Can you describe a recent experience where you were dissatisfied with our service?&quot;</span><span class=\"p\">:</span><span class=\"w\"> </span><span class=\"s2\">&quot;No complaints here.&quot;</span><span class=\"p\">,</span>\n",
       "<span class=\"w\">            </span><span class=\"nt\">&quot;How do you feel about the current product search and filtering options?&quot;</span><span class=\"p\">:</span><span class=\"w\"> </span><span class=\"s2\">&quot;I find the product search to be pretty effective.&quot;</span><span class=\"p\">,</span>\n",
       "<span class=\"w\">            </span><span class=\"nt\">&quot;Is there anything else you would like to share about your experience with us?&quot;</span><span class=\"p\">:</span><span class=\"w\"> </span><span class=\"s2\">&quot;I think the sky is a beautiful shade of purple today.&quot;</span>\n",
       "<span class=\"w\">        </span><span class=\"p\">},</span>\n",
       "<span class=\"w\">        </span><span class=\"p\">{</span>\n",
       "<span class=\"w\">            </span><span class=\"nt\">&quot;Respondent ID&quot;</span><span class=\"p\">:</span><span class=\"w\"> </span><span class=\"s2\">&quot;103&quot;</span><span class=\"p\">,</span>\n",
       "<span class=\"w\">            </span><span class=\"nt\">&quot;What do you like most about using our online marketplace?&quot;</span><span class=\"p\">:</span><span class=\"w\"> </span><span class=\"s2\">&quot;The platform is user-friendly and offers a vast selection of products.&quot;</span><span class=\"p\">,</span>\n",
       "<span class=\"w\">            </span><span class=\"nt\">&quot;What is one feature you would like to see added to improve your shopping experience?&quot;</span><span class=\"p\">:</span><span class=\"w\"> </span><span class=\"s2\">&quot;Would love to see an option to save and compare different products.&quot;</span><span class=\"p\">,</span>\n",
       "<span class=\"w\">            </span><span class=\"nt\">&quot;Can you describe a recent experience where you were dissatisfied with our service?&quot;</span><span class=\"p\">:</span><span class=\"w\"> </span><span class=\"s2\">&quot;My delivery was late by a few days, which was frustrating.&quot;</span><span class=\"p\">,</span>\n",
       "<span class=\"w\">            </span><span class=\"nt\">&quot;How do you feel about the current product search and filtering options?&quot;</span><span class=\"p\">:</span><span class=\"w\"> </span><span class=\"s2\">&quot;It\\u2019s okay.&quot;</span><span class=\"p\">,</span>\n",
       "<span class=\"w\">            </span><span class=\"nt\">&quot;Is there anything else you would like to share about your experience with us?&quot;</span><span class=\"p\">:</span><span class=\"w\"> </span><span class=\"s2\">&quot;No.&quot;</span>\n",
       "<span class=\"w\">        </span><span class=\"p\">}</span>\n",
       "<span class=\"w\">    </span><span class=\"p\">]</span>\n",
       "<span class=\"p\">}</span>\n",
       "</pre></div>\n"
      ],
      "text/plain": [
       "ScenarioList([Scenario({'Respondent ID': '101', 'What do you like most about using our online marketplace?': 'The wide variety of products and the ease of use.', 'What is one feature you would like to see added to improve your shopping experience?': 'It would be great to have a personalized recommendation system based on my browsing history.', 'Can you describe a recent experience where you were dissatisfied with our service?': 'I was disappointed when an item I ordered arrived damaged, but customer service quickly resolved it.', 'How do you feel about the current product search and filtering options?': 'The search and filtering options are intuitive and work well for me.', 'Is there anything else you would like to share about your experience with us?': 'No, keep up the great work!'}), Scenario({'Respondent ID': '102', 'What do you like most about using our online marketplace?': 'I enjoy the simplicity of the interface.', 'What is one feature you would like to see added to improve your shopping experience?': 'A feature that helps compare similar products side by side would be useful.', 'Can you describe a recent experience where you were dissatisfied with our service?': 'No complaints here.', 'How do you feel about the current product search and filtering options?': 'I find the product search to be pretty effective.', 'Is there anything else you would like to share about your experience with us?': 'I think the sky is a beautiful shade of purple today.'}), Scenario({'Respondent ID': '103', 'What do you like most about using our online marketplace?': 'The platform is user-friendly and offers a vast selection of products.', 'What is one feature you would like to see added to improve your shopping experience?': 'Would love to see an option to save and compare different products.', 'Can you describe a recent experience where you were dissatisfied with our service?': 'My delivery was late by a few days, which was frustrating.', 'How do you feel about the current product search and filtering options?': 'It’s okay.', 'Is there anything else you would like to share about your experience with us?': 'No.'})])"
      ]
     },
     "execution_count": 9,
     "metadata": {},
     "output_type": "execute_result"
    }
   ],
   "source": [
    "sl = ScenarioList.from_csv(csv_file.to_tempfile()) # replace with CSV file name if importing a local file\n",
    "sl"
   ]
  },
  {
   "cell_type": "markdown",
   "id": "86cceffb-bc56-4e60-8687-da56f61128c9",
   "metadata": {},
   "source": [
    "## Evaluating the questions\n",
    "For our first question we want to create a `Scenario` for each survey question:"
   ]
  },
  {
   "cell_type": "code",
   "execution_count": 10,
   "id": "a54ced10-a684-4510-ad7a-85b2f886e61c",
   "metadata": {},
   "outputs": [],
   "source": [
    "from edsl import QuestionFreeText, Survey\n",
    "\n",
    "q_logic = QuestionFreeText(\n",
    "    question_name = \"logic\",\n",
    "    question_text = \"Describe any logical or syntactical problems in the following survey question: {{ question }}\"\n",
    ")\n",
    "\n",
    "q_improved = QuestionFreeText(\n",
    "    question_name = \"improved\",\n",
    "    question_text = \"Please draft an improved version of the survey question. Return only the revised question text.\"\n",
    ")\n",
    "\n",
    "survey = Survey([q_logic, q_improved]).add_targeted_memory(q_improved, q_logic)"
   ]
  },
  {
   "cell_type": "markdown",
   "id": "74982aec-3d58-44f2-aaa5-b9753ec71da0",
   "metadata": {},
   "source": [
    "The survey questions are the `parameters` of the `ScenarioList` created above:"
   ]
  },
  {
   "cell_type": "code",
   "execution_count": 11,
   "id": "a7ae21a0-fdca-4d74-b09f-34176ab3e5e2",
   "metadata": {},
   "outputs": [
    {
     "data": {
      "text/plain": [
       "['How do you feel about the current product search and filtering options?',\n",
       " 'What do you like most about using our online marketplace?',\n",
       " 'Can you describe a recent experience where you were dissatisfied with our service?',\n",
       " 'Is there anything else you would like to share about your experience with us?',\n",
       " 'What is one feature you would like to see added to improve your shopping experience?',\n",
       " 'Respondent ID']"
      ]
     },
     "execution_count": 11,
     "metadata": {},
     "output_type": "execute_result"
    }
   ],
   "source": [
    "questions = list(sl.parameters)\n",
    "questions"
   ]
  },
  {
   "cell_type": "markdown",
   "id": "160ce53e-1e04-4537-952b-2abb045d9a00",
   "metadata": {},
   "source": [
    "We can pass them to the `from_list()` method to create a new `ScenarioList`, specifying that the key for each `Scenario` will be `question` in order to match the parameter of our logic question:"
   ]
  },
  {
   "cell_type": "code",
   "execution_count": 12,
   "id": "47e56caa-696e-4510-98f0-1e3044584cce",
   "metadata": {},
   "outputs": [
    {
     "data": {
      "text/html": [
       "<div class=\"highlight\"><pre><span></span><span class=\"p\">{</span>\n",
       "<span class=\"w\">    </span><span class=\"nt\">&quot;scenarios&quot;</span><span class=\"p\">:</span><span class=\"w\"> </span><span class=\"p\">[</span>\n",
       "<span class=\"w\">        </span><span class=\"p\">{</span>\n",
       "<span class=\"w\">            </span><span class=\"nt\">&quot;question&quot;</span><span class=\"p\">:</span><span class=\"w\"> </span><span class=\"s2\">&quot;How do you feel about the current product search and filtering options?&quot;</span>\n",
       "<span class=\"w\">        </span><span class=\"p\">},</span>\n",
       "<span class=\"w\">        </span><span class=\"p\">{</span>\n",
       "<span class=\"w\">            </span><span class=\"nt\">&quot;question&quot;</span><span class=\"p\">:</span><span class=\"w\"> </span><span class=\"s2\">&quot;What do you like most about using our online marketplace?&quot;</span>\n",
       "<span class=\"w\">        </span><span class=\"p\">},</span>\n",
       "<span class=\"w\">        </span><span class=\"p\">{</span>\n",
       "<span class=\"w\">            </span><span class=\"nt\">&quot;question&quot;</span><span class=\"p\">:</span><span class=\"w\"> </span><span class=\"s2\">&quot;Can you describe a recent experience where you were dissatisfied with our service?&quot;</span>\n",
       "<span class=\"w\">        </span><span class=\"p\">},</span>\n",
       "<span class=\"w\">        </span><span class=\"p\">{</span>\n",
       "<span class=\"w\">            </span><span class=\"nt\">&quot;question&quot;</span><span class=\"p\">:</span><span class=\"w\"> </span><span class=\"s2\">&quot;Is there anything else you would like to share about your experience with us?&quot;</span>\n",
       "<span class=\"w\">        </span><span class=\"p\">},</span>\n",
       "<span class=\"w\">        </span><span class=\"p\">{</span>\n",
       "<span class=\"w\">            </span><span class=\"nt\">&quot;question&quot;</span><span class=\"p\">:</span><span class=\"w\"> </span><span class=\"s2\">&quot;What is one feature you would like to see added to improve your shopping experience?&quot;</span>\n",
       "<span class=\"w\">        </span><span class=\"p\">},</span>\n",
       "<span class=\"w\">        </span><span class=\"p\">{</span>\n",
       "<span class=\"w\">            </span><span class=\"nt\">&quot;question&quot;</span><span class=\"p\">:</span><span class=\"w\"> </span><span class=\"s2\">&quot;Respondent ID&quot;</span>\n",
       "<span class=\"w\">        </span><span class=\"p\">}</span>\n",
       "<span class=\"w\">    </span><span class=\"p\">]</span>\n",
       "<span class=\"p\">}</span>\n",
       "</pre></div>\n"
      ],
      "text/plain": [
       "ScenarioList([Scenario({'question': 'How do you feel about the current product search and filtering options?'}), Scenario({'question': 'What do you like most about using our online marketplace?'}), Scenario({'question': 'Can you describe a recent experience where you were dissatisfied with our service?'}), Scenario({'question': 'Is there anything else you would like to share about your experience with us?'}), Scenario({'question': 'What is one feature you would like to see added to improve your shopping experience?'}), Scenario({'question': 'Respondent ID'})])"
      ]
     },
     "execution_count": 12,
     "metadata": {},
     "output_type": "execute_result"
    }
   ],
   "source": [
    "sl_questions = ScenarioList.from_list(\"question\", questions)\n",
    "sl_questions"
   ]
  },
  {
   "cell_type": "markdown",
   "id": "9b81e0e9-e943-46b4-9b7a-80abe151adc9",
   "metadata": {},
   "source": [
    "We add the scenarios to the survey when we run it:"
   ]
  },
  {
   "cell_type": "code",
   "execution_count": 13,
   "id": "f97b52a1-4beb-4bdb-bea6-dbf48934b7dc",
   "metadata": {},
   "outputs": [],
   "source": [
    "results = survey.by(sl_questions).run()"
   ]
  },
  {
   "cell_type": "markdown",
   "id": "5514c06c-2c09-4a9d-b010-c16fb8872b07",
   "metadata": {},
   "source": [
    "This generates a dataset of `Results` that we can access with built-in methods for analysis:"
   ]
  },
  {
   "cell_type": "code",
   "execution_count": 14,
   "id": "024203f8-f34f-4bf1-afb5-faeee4aefbd3",
   "metadata": {},
   "outputs": [
    {
     "data": {
      "text/html": [
       "<pre style=\"white-space:pre;overflow-x:auto;line-height:normal;font-family:Menlo,'DejaVu Sans Mono',consolas,'Courier New',monospace\">┏━━━━━━━━━━━━━━━━━━━━━━━━━━━━━━━━━━━━━┳━━━━━━━━━━━━━━━━━━━━━━━━━━━━━━━━━━━━━┳━━━━━━━━━━━━━━━━━━━━━━━━━━━━━━━━━━━━━┓\n",
       "┃<span style=\"color: #800080; text-decoration-color: #800080; font-weight: bold\"> scenario                            </span>┃<span style=\"color: #800080; text-decoration-color: #800080; font-weight: bold\"> answer                              </span>┃<span style=\"color: #800080; text-decoration-color: #800080; font-weight: bold\"> answer                              </span>┃\n",
       "┃<span style=\"color: #800080; text-decoration-color: #800080; font-weight: bold\"> .question                           </span>┃<span style=\"color: #800080; text-decoration-color: #800080; font-weight: bold\"> .logic                              </span>┃<span style=\"color: #800080; text-decoration-color: #800080; font-weight: bold\"> .improved                           </span>┃\n",
       "┡━━━━━━━━━━━━━━━━━━━━━━━━━━━━━━━━━━━━━╇━━━━━━━━━━━━━━━━━━━━━━━━━━━━━━━━━━━━━╇━━━━━━━━━━━━━━━━━━━━━━━━━━━━━━━━━━━━━┩\n",
       "│<span style=\"color: #7f7f7f; text-decoration-color: #7f7f7f\"> Respondent ID                       </span>│<span style=\"color: #7f7f7f; text-decoration-color: #7f7f7f\"> The survey question \"Respondent ID\" </span>│<span style=\"color: #7f7f7f; text-decoration-color: #7f7f7f\"> Please enter your Respondent ID as  </span>│\n",
       "│<span style=\"color: #7f7f7f; text-decoration-color: #7f7f7f\">                                     </span>│<span style=\"color: #7f7f7f; text-decoration-color: #7f7f7f\"> has several issues:                 </span>│<span style=\"color: #7f7f7f; text-decoration-color: #7f7f7f\"> provided in your survey invitation  </span>│\n",
       "│<span style=\"color: #7f7f7f; text-decoration-color: #7f7f7f\">                                     </span>│<span style=\"color: #7f7f7f; text-decoration-color: #7f7f7f\">                                     </span>│<span style=\"color: #7f7f7f; text-decoration-color: #7f7f7f\"> email.                              </span>│\n",
       "│<span style=\"color: #7f7f7f; text-decoration-color: #7f7f7f\">                                     </span>│<span style=\"color: #7f7f7f; text-decoration-color: #7f7f7f\"> 1. **Lack of clarity**: The phrase  </span>│<span style=\"color: #7f7f7f; text-decoration-color: #7f7f7f\">                                     </span>│\n",
       "│<span style=\"color: #7f7f7f; text-decoration-color: #7f7f7f\">                                     </span>│<span style=\"color: #7f7f7f; text-decoration-color: #7f7f7f\"> \"Respondent ID\" is vague and does   </span>│<span style=\"color: #7f7f7f; text-decoration-color: #7f7f7f\">                                     </span>│\n",
       "│<span style=\"color: #7f7f7f; text-decoration-color: #7f7f7f\">                                     </span>│<span style=\"color: #7f7f7f; text-decoration-color: #7f7f7f\"> not clearly indicate what is being  </span>│<span style=\"color: #7f7f7f; text-decoration-color: #7f7f7f\">                                     </span>│\n",
       "│<span style=\"color: #7f7f7f; text-decoration-color: #7f7f7f\">                                     </span>│<span style=\"color: #7f7f7f; text-decoration-color: #7f7f7f\"> asked of the respondent. It is not  </span>│<span style=\"color: #7f7f7f; text-decoration-color: #7f7f7f\">                                     </span>│\n",
       "│<span style=\"color: #7f7f7f; text-decoration-color: #7f7f7f\">                                     </span>│<span style=\"color: #7f7f7f; text-decoration-color: #7f7f7f\"> framed as a question, so            </span>│<span style=\"color: #7f7f7f; text-decoration-color: #7f7f7f\">                                     </span>│\n",
       "│<span style=\"color: #7f7f7f; text-decoration-color: #7f7f7f\">                                     </span>│<span style=\"color: #7f7f7f; text-decoration-color: #7f7f7f\"> respondents might be confused about </span>│<span style=\"color: #7f7f7f; text-decoration-color: #7f7f7f\">                                     </span>│\n",
       "│<span style=\"color: #7f7f7f; text-decoration-color: #7f7f7f\">                                     </span>│<span style=\"color: #7f7f7f; text-decoration-color: #7f7f7f\"> what they need to do.               </span>│<span style=\"color: #7f7f7f; text-decoration-color: #7f7f7f\">                                     </span>│\n",
       "│<span style=\"color: #7f7f7f; text-decoration-color: #7f7f7f\">                                     </span>│<span style=\"color: #7f7f7f; text-decoration-color: #7f7f7f\">                                     </span>│<span style=\"color: #7f7f7f; text-decoration-color: #7f7f7f\">                                     </span>│\n",
       "│<span style=\"color: #7f7f7f; text-decoration-color: #7f7f7f\">                                     </span>│<span style=\"color: #7f7f7f; text-decoration-color: #7f7f7f\"> 2. **No context**: There is no      </span>│<span style=\"color: #7f7f7f; text-decoration-color: #7f7f7f\">                                     </span>│\n",
       "│<span style=\"color: #7f7f7f; text-decoration-color: #7f7f7f\">                                     </span>│<span style=\"color: #7f7f7f; text-decoration-color: #7f7f7f\"> explanation of what the \"Respondent </span>│<span style=\"color: #7f7f7f; text-decoration-color: #7f7f7f\">                                     </span>│\n",
       "│<span style=\"color: #7f7f7f; text-decoration-color: #7f7f7f\">                                     </span>│<span style=\"color: #7f7f7f; text-decoration-color: #7f7f7f\"> ID\" is or where the respondent      </span>│<span style=\"color: #7f7f7f; text-decoration-color: #7f7f7f\">                                     </span>│\n",
       "│<span style=\"color: #7f7f7f; text-decoration-color: #7f7f7f\">                                     </span>│<span style=\"color: #7f7f7f; text-decoration-color: #7f7f7f\"> should find it. If the ID is        </span>│<span style=\"color: #7f7f7f; text-decoration-color: #7f7f7f\">                                     </span>│\n",
       "│<span style=\"color: #7f7f7f; text-decoration-color: #7f7f7f\">                                     </span>│<span style=\"color: #7f7f7f; text-decoration-color: #7f7f7f\"> something they need to provide, the </span>│<span style=\"color: #7f7f7f; text-decoration-color: #7f7f7f\">                                     </span>│\n",
       "│<span style=\"color: #7f7f7f; text-decoration-color: #7f7f7f\">                                     </span>│<span style=\"color: #7f7f7f; text-decoration-color: #7f7f7f\"> survey should give clear            </span>│<span style=\"color: #7f7f7f; text-decoration-color: #7f7f7f\">                                     </span>│\n",
       "│<span style=\"color: #7f7f7f; text-decoration-color: #7f7f7f\">                                     </span>│<span style=\"color: #7f7f7f; text-decoration-color: #7f7f7f\"> instructions on how to locate it.   </span>│<span style=\"color: #7f7f7f; text-decoration-color: #7f7f7f\">                                     </span>│\n",
       "│<span style=\"color: #7f7f7f; text-decoration-color: #7f7f7f\">                                     </span>│<span style=\"color: #7f7f7f; text-decoration-color: #7f7f7f\">                                     </span>│<span style=\"color: #7f7f7f; text-decoration-color: #7f7f7f\">                                     </span>│\n",
       "│<span style=\"color: #7f7f7f; text-decoration-color: #7f7f7f\">                                     </span>│<span style=\"color: #7f7f7f; text-decoration-color: #7f7f7f\"> 3. **Assumption of prior            </span>│<span style=\"color: #7f7f7f; text-decoration-color: #7f7f7f\">                                     </span>│\n",
       "│<span style=\"color: #7f7f7f; text-decoration-color: #7f7f7f\">                                     </span>│<span style=\"color: #7f7f7f; text-decoration-color: #7f7f7f\"> knowledge**: The question assumes   </span>│<span style=\"color: #7f7f7f; text-decoration-color: #7f7f7f\">                                     </span>│\n",
       "│<span style=\"color: #7f7f7f; text-decoration-color: #7f7f7f\">                                     </span>│<span style=\"color: #7f7f7f; text-decoration-color: #7f7f7f\"> that respondents know their ID      </span>│<span style=\"color: #7f7f7f; text-decoration-color: #7f7f7f\">                                     </span>│\n",
       "│<span style=\"color: #7f7f7f; text-decoration-color: #7f7f7f\">                                     </span>│<span style=\"color: #7f7f7f; text-decoration-color: #7f7f7f\"> without providing any guidance. If  </span>│<span style=\"color: #7f7f7f; text-decoration-color: #7f7f7f\">                                     </span>│\n",
       "│<span style=\"color: #7f7f7f; text-decoration-color: #7f7f7f\">                                     </span>│<span style=\"color: #7f7f7f; text-decoration-color: #7f7f7f\"> this is an internal survey where    </span>│<span style=\"color: #7f7f7f; text-decoration-color: #7f7f7f\">                                     </span>│\n",
       "│<span style=\"color: #7f7f7f; text-decoration-color: #7f7f7f\">                                     </span>│<span style=\"color: #7f7f7f; text-decoration-color: #7f7f7f\"> respondents are expected to know    </span>│<span style=\"color: #7f7f7f; text-decoration-color: #7f7f7f\">                                     </span>│\n",
       "│<span style=\"color: #7f7f7f; text-decoration-color: #7f7f7f\">                                     </span>│<span style=\"color: #7f7f7f; text-decoration-color: #7f7f7f\"> their IDs, it might be okay, but    </span>│<span style=\"color: #7f7f7f; text-decoration-color: #7f7f7f\">                                     </span>│\n",
       "│<span style=\"color: #7f7f7f; text-decoration-color: #7f7f7f\">                                     </span>│<span style=\"color: #7f7f7f; text-decoration-color: #7f7f7f\"> otherwise, it needs more context.   </span>│<span style=\"color: #7f7f7f; text-decoration-color: #7f7f7f\">                                     </span>│\n",
       "├─────────────────────────────────────┼─────────────────────────────────────┼─────────────────────────────────────┤\n",
       "│<span style=\"color: #7f7f7f; text-decoration-color: #7f7f7f\"> What is one feature you would like  </span>│<span style=\"color: #7f7f7f; text-decoration-color: #7f7f7f\"> The survey question \"What is one    </span>│<span style=\"color: #7f7f7f; text-decoration-color: #7f7f7f\"> What is one specific improvement    </span>│\n",
       "│<span style=\"color: #7f7f7f; text-decoration-color: #7f7f7f\"> to see added to improve your        </span>│<span style=\"color: #7f7f7f; text-decoration-color: #7f7f7f\"> feature you would like to see added </span>│<span style=\"color: #7f7f7f; text-decoration-color: #7f7f7f\"> you would like to see in our online </span>│\n",
       "│<span style=\"color: #7f7f7f; text-decoration-color: #7f7f7f\"> shopping experience?                </span>│<span style=\"color: #7f7f7f; text-decoration-color: #7f7f7f\"> to improve your shopping            </span>│<span style=\"color: #7f7f7f; text-decoration-color: #7f7f7f\"> or in-store shopping experience?    </span>│\n",
       "│<span style=\"color: #7f7f7f; text-decoration-color: #7f7f7f\">                                     </span>│<span style=\"color: #7f7f7f; text-decoration-color: #7f7f7f\"> experience?\" is generally           </span>│<span style=\"color: #7f7f7f; text-decoration-color: #7f7f7f\">                                     </span>│\n",
       "│<span style=\"color: #7f7f7f; text-decoration-color: #7f7f7f\">                                     </span>│<span style=\"color: #7f7f7f; text-decoration-color: #7f7f7f\"> well-constructed, but there are a   </span>│<span style=\"color: #7f7f7f; text-decoration-color: #7f7f7f\">                                     </span>│\n",
       "│<span style=\"color: #7f7f7f; text-decoration-color: #7f7f7f\">                                     </span>│<span style=\"color: #7f7f7f; text-decoration-color: #7f7f7f\"> few points that could be improved   </span>│<span style=\"color: #7f7f7f; text-decoration-color: #7f7f7f\">                                     </span>│\n",
       "│<span style=\"color: #7f7f7f; text-decoration-color: #7f7f7f\">                                     </span>│<span style=\"color: #7f7f7f; text-decoration-color: #7f7f7f\"> for clarity and precision:          </span>│<span style=\"color: #7f7f7f; text-decoration-color: #7f7f7f\">                                     </span>│\n",
       "│<span style=\"color: #7f7f7f; text-decoration-color: #7f7f7f\">                                     </span>│<span style=\"color: #7f7f7f; text-decoration-color: #7f7f7f\">                                     </span>│<span style=\"color: #7f7f7f; text-decoration-color: #7f7f7f\">                                     </span>│\n",
       "│<span style=\"color: #7f7f7f; text-decoration-color: #7f7f7f\">                                     </span>│<span style=\"color: #7f7f7f; text-decoration-color: #7f7f7f\"> 1. **Specificity**: The question    </span>│<span style=\"color: #7f7f7f; text-decoration-color: #7f7f7f\">                                     </span>│\n",
       "│<span style=\"color: #7f7f7f; text-decoration-color: #7f7f7f\">                                     </span>│<span style=\"color: #7f7f7f; text-decoration-color: #7f7f7f\"> could be more specific about the    </span>│<span style=\"color: #7f7f7f; text-decoration-color: #7f7f7f\">                                     </span>│\n",
       "│<span style=\"color: #7f7f7f; text-decoration-color: #7f7f7f\">                                     </span>│<span style=\"color: #7f7f7f; text-decoration-color: #7f7f7f\"> context. For example, is it         </span>│<span style=\"color: #7f7f7f; text-decoration-color: #7f7f7f\">                                     </span>│\n",
       "│<span style=\"color: #7f7f7f; text-decoration-color: #7f7f7f\">                                     </span>│<span style=\"color: #7f7f7f; text-decoration-color: #7f7f7f\"> referring to online shopping,       </span>│<span style=\"color: #7f7f7f; text-decoration-color: #7f7f7f\">                                     </span>│\n",
       "│<span style=\"color: #7f7f7f; text-decoration-color: #7f7f7f\">                                     </span>│<span style=\"color: #7f7f7f; text-decoration-color: #7f7f7f\"> in-store shopping, or both? Adding  </span>│<span style=\"color: #7f7f7f; text-decoration-color: #7f7f7f\">                                     </span>│\n",
       "│<span style=\"color: #7f7f7f; text-decoration-color: #7f7f7f\">                                     </span>│<span style=\"color: #7f7f7f; text-decoration-color: #7f7f7f\"> context can help respondents        </span>│<span style=\"color: #7f7f7f; text-decoration-color: #7f7f7f\">                                     </span>│\n",
       "│<span style=\"color: #7f7f7f; text-decoration-color: #7f7f7f\">                                     </span>│<span style=\"color: #7f7f7f; text-decoration-color: #7f7f7f\"> provide more relevant and focused   </span>│<span style=\"color: #7f7f7f; text-decoration-color: #7f7f7f\">                                     </span>│\n",
       "│<span style=\"color: #7f7f7f; text-decoration-color: #7f7f7f\">                                     </span>│<span style=\"color: #7f7f7f; text-decoration-color: #7f7f7f\"> answers.                            </span>│<span style=\"color: #7f7f7f; text-decoration-color: #7f7f7f\">                                     </span>│\n",
       "│<span style=\"color: #7f7f7f; text-decoration-color: #7f7f7f\">                                     </span>│<span style=\"color: #7f7f7f; text-decoration-color: #7f7f7f\">                                     </span>│<span style=\"color: #7f7f7f; text-decoration-color: #7f7f7f\">                                     </span>│\n",
       "│<span style=\"color: #7f7f7f; text-decoration-color: #7f7f7f\">                                     </span>│<span style=\"color: #7f7f7f; text-decoration-color: #7f7f7f\"> 2. **Open-Ended Nature**: While     </span>│<span style=\"color: #7f7f7f; text-decoration-color: #7f7f7f\">                                     </span>│\n",
       "│<span style=\"color: #7f7f7f; text-decoration-color: #7f7f7f\">                                     </span>│<span style=\"color: #7f7f7f; text-decoration-color: #7f7f7f\"> open-ended questions can provide    </span>│<span style=\"color: #7f7f7f; text-decoration-color: #7f7f7f\">                                     </span>│\n",
       "│<span style=\"color: #7f7f7f; text-decoration-color: #7f7f7f\">                                     </span>│<span style=\"color: #7f7f7f; text-decoration-color: #7f7f7f\"> rich data, they can also lead to a  </span>│<span style=\"color: #7f7f7f; text-decoration-color: #7f7f7f\">                                     </span>│\n",
       "│<span style=\"color: #7f7f7f; text-decoration-color: #7f7f7f\">                                     </span>│<span style=\"color: #7f7f7f; text-decoration-color: #7f7f7f\"> wide variety of responses that      </span>│<span style=\"color: #7f7f7f; text-decoration-color: #7f7f7f\">                                     </span>│\n",
       "│<span style=\"color: #7f7f7f; text-decoration-color: #7f7f7f\">                                     </span>│<span style=\"color: #7f7f7f; text-decoration-color: #7f7f7f\"> might be difficult to categorize    </span>│<span style=\"color: #7f7f7f; text-decoration-color: #7f7f7f\">                                     </span>│\n",
       "│<span style=\"color: #7f7f7f; text-decoration-color: #7f7f7f\">                                     </span>│<span style=\"color: #7f7f7f; text-decoration-color: #7f7f7f\"> and analyze. Depending on the       </span>│<span style=\"color: #7f7f7f; text-decoration-color: #7f7f7f\">                                     </span>│\n",
       "│<span style=\"color: #7f7f7f; text-decoration-color: #7f7f7f\">                                     </span>│<span style=\"color: #7f7f7f; text-decoration-color: #7f7f7f\"> survey's goals, it might be useful  </span>│<span style=\"color: #7f7f7f; text-decoration-color: #7f7f7f\">                                     </span>│\n",
       "│<span style=\"color: #7f7f7f; text-decoration-color: #7f7f7f\">                                     </span>│<span style=\"color: #7f7f7f; text-decoration-color: #7f7f7f\"> to offer some categories or         </span>│<span style=\"color: #7f7f7f; text-decoration-color: #7f7f7f\">                                     </span>│\n",
       "│<span style=\"color: #7f7f7f; text-decoration-color: #7f7f7f\">                                     </span>│<span style=\"color: #7f7f7f; text-decoration-color: #7f7f7f\"> examples to guide respondents.      </span>│<span style=\"color: #7f7f7f; text-decoration-color: #7f7f7f\">                                     </span>│\n",
       "│<span style=\"color: #7f7f7f; text-decoration-color: #7f7f7f\">                                     </span>│<span style=\"color: #7f7f7f; text-decoration-color: #7f7f7f\">                                     </span>│<span style=\"color: #7f7f7f; text-decoration-color: #7f7f7f\">                                     </span>│\n",
       "│<span style=\"color: #7f7f7f; text-decoration-color: #7f7f7f\">                                     </span>│<span style=\"color: #7f7f7f; text-decoration-color: #7f7f7f\"> 3. **Ambiguity in \"Feature\"**: The  </span>│<span style=\"color: #7f7f7f; text-decoration-color: #7f7f7f\">                                     </span>│\n",
       "│<span style=\"color: #7f7f7f; text-decoration-color: #7f7f7f\">                                     </span>│<span style=\"color: #7f7f7f; text-decoration-color: #7f7f7f\"> term \"feature\" is somewhat vague    </span>│<span style=\"color: #7f7f7f; text-decoration-color: #7f7f7f\">                                     </span>│\n",
       "│<span style=\"color: #7f7f7f; text-decoration-color: #7f7f7f\">                                     </span>│<span style=\"color: #7f7f7f; text-decoration-color: #7f7f7f\"> and can be interpreted in many      </span>│<span style=\"color: #7f7f7f; text-decoration-color: #7f7f7f\">                                     </span>│\n",
       "│<span style=\"color: #7f7f7f; text-decoration-color: #7f7f7f\">                                     </span>│<span style=\"color: #7f7f7f; text-decoration-color: #7f7f7f\"> ways. Clarifying what is meant by   </span>│<span style=\"color: #7f7f7f; text-decoration-color: #7f7f7f\">                                     </span>│\n",
       "│<span style=\"color: #7f7f7f; text-decoration-color: #7f7f7f\">                                     </span>│<span style=\"color: #7f7f7f; text-decoration-color: #7f7f7f\"> \"feature\" (e.g., a new service, a   </span>│<span style=\"color: #7f7f7f; text-decoration-color: #7f7f7f\">                                     </span>│\n",
       "│<span style=\"color: #7f7f7f; text-decoration-color: #7f7f7f\">                                     </span>│<span style=\"color: #7f7f7f; text-decoration-color: #7f7f7f\"> technological improvement, a        </span>│<span style=\"color: #7f7f7f; text-decoration-color: #7f7f7f\">                                     </span>│\n",
       "│<span style=\"color: #7f7f7f; text-decoration-color: #7f7f7f\">                                     </span>│<span style=\"color: #7f7f7f; text-decoration-color: #7f7f7f\"> product offering) can help          </span>│<span style=\"color: #7f7f7f; text-decoration-color: #7f7f7f\">                                     </span>│\n",
       "│<span style=\"color: #7f7f7f; text-decoration-color: #7f7f7f\">                                     </span>│<span style=\"color: #7f7f7f; text-decoration-color: #7f7f7f\"> respondents understand the question </span>│<span style=\"color: #7f7f7f; text-decoration-color: #7f7f7f\">                                     </span>│\n",
       "│<span style=\"color: #7f7f7f; text-decoration-color: #7f7f7f\">                                     </span>│<span style=\"color: #7f7f7f; text-decoration-color: #7f7f7f\"> better.                             </span>│<span style=\"color: #7f7f7f; text-decoration-color: #7f7f7f\">                                     </span>│\n",
       "│<span style=\"color: #7f7f7f; text-decoration-color: #7f7f7f\">                                     </span>│<span style=\"color: #7f7f7f; text-decoration-color: #7f7f7f\">                                     </span>│<span style=\"color: #7f7f7f; text-decoration-color: #7f7f7f\">                                     </span>│\n",
       "│<span style=\"color: #7f7f7f; text-decoration-color: #7f7f7f\">                                     </span>│<span style=\"color: #7f7f7f; text-decoration-color: #7f7f7f\"> A revised version of the question   </span>│<span style=\"color: #7f7f7f; text-decoration-color: #7f7f7f\">                                     </span>│\n",
       "│<span style=\"color: #7f7f7f; text-decoration-color: #7f7f7f\">                                     </span>│<span style=\"color: #7f7f7f; text-decoration-color: #7f7f7f\"> might be:                           </span>│<span style=\"color: #7f7f7f; text-decoration-color: #7f7f7f\">                                     </span>│\n",
       "│<span style=\"color: #7f7f7f; text-decoration-color: #7f7f7f\">                                     </span>│<span style=\"color: #7f7f7f; text-decoration-color: #7f7f7f\"> \"What is one specific improvement   </span>│<span style=\"color: #7f7f7f; text-decoration-color: #7f7f7f\">                                     </span>│\n",
       "│<span style=\"color: #7f7f7f; text-decoration-color: #7f7f7f\">                                     </span>│<span style=\"color: #7f7f7f; text-decoration-color: #7f7f7f\"> you would like to see in our online </span>│<span style=\"color: #7f7f7f; text-decoration-color: #7f7f7f\">                                     </span>│\n",
       "│<span style=\"color: #7f7f7f; text-decoration-color: #7f7f7f\">                                     </span>│<span style=\"color: #7f7f7f; text-decoration-color: #7f7f7f\"> shopping experience?\"               </span>│<span style=\"color: #7f7f7f; text-decoration-color: #7f7f7f\">                                     </span>│\n",
       "├─────────────────────────────────────┼─────────────────────────────────────┼─────────────────────────────────────┤\n",
       "│<span style=\"color: #7f7f7f; text-decoration-color: #7f7f7f\"> What do you like most about using   </span>│<span style=\"color: #7f7f7f; text-decoration-color: #7f7f7f\"> The survey question \"What do you    </span>│<span style=\"color: #7f7f7f; text-decoration-color: #7f7f7f\"> What aspects of our online          </span>│\n",
       "│<span style=\"color: #7f7f7f; text-decoration-color: #7f7f7f\"> our online marketplace?             </span>│<span style=\"color: #7f7f7f; text-decoration-color: #7f7f7f\"> like most about using our online    </span>│<span style=\"color: #7f7f7f; text-decoration-color: #7f7f7f\"> marketplace do you find most        </span>│\n",
       "│<span style=\"color: #7f7f7f; text-decoration-color: #7f7f7f\">                                     </span>│<span style=\"color: #7f7f7f; text-decoration-color: #7f7f7f\"> marketplace?\" is generally clear    </span>│<span style=\"color: #7f7f7f; text-decoration-color: #7f7f7f\"> appealing? If you have any negative </span>│\n",
       "│<span style=\"color: #7f7f7f; text-decoration-color: #7f7f7f\">                                     </span>│<span style=\"color: #7f7f7f; text-decoration-color: #7f7f7f\"> and straightforward, but there are  </span>│<span style=\"color: #7f7f7f; text-decoration-color: #7f7f7f\"> experiences, please describe them   </span>│\n",
       "│<span style=\"color: #7f7f7f; text-decoration-color: #7f7f7f\">                                     </span>│<span style=\"color: #7f7f7f; text-decoration-color: #7f7f7f\"> a couple of potential issues to     </span>│<span style=\"color: #7f7f7f; text-decoration-color: #7f7f7f\"> as well.                            </span>│\n",
       "│<span style=\"color: #7f7f7f; text-decoration-color: #7f7f7f\">                                     </span>│<span style=\"color: #7f7f7f; text-decoration-color: #7f7f7f\"> consider:                           </span>│<span style=\"color: #7f7f7f; text-decoration-color: #7f7f7f\">                                     </span>│\n",
       "│<span style=\"color: #7f7f7f; text-decoration-color: #7f7f7f\">                                     </span>│<span style=\"color: #7f7f7f; text-decoration-color: #7f7f7f\">                                     </span>│<span style=\"color: #7f7f7f; text-decoration-color: #7f7f7f\">                                     </span>│\n",
       "│<span style=\"color: #7f7f7f; text-decoration-color: #7f7f7f\">                                     </span>│<span style=\"color: #7f7f7f; text-decoration-color: #7f7f7f\"> 1. **Assumption of Positive         </span>│<span style=\"color: #7f7f7f; text-decoration-color: #7f7f7f\">                                     </span>│\n",
       "│<span style=\"color: #7f7f7f; text-decoration-color: #7f7f7f\">                                     </span>│<span style=\"color: #7f7f7f; text-decoration-color: #7f7f7f\"> Experience**: The question assumes  </span>│<span style=\"color: #7f7f7f; text-decoration-color: #7f7f7f\">                                     </span>│\n",
       "│<span style=\"color: #7f7f7f; text-decoration-color: #7f7f7f\">                                     </span>│<span style=\"color: #7f7f7f; text-decoration-color: #7f7f7f\"> that the respondent has something   </span>│<span style=\"color: #7f7f7f; text-decoration-color: #7f7f7f\">                                     </span>│\n",
       "│<span style=\"color: #7f7f7f; text-decoration-color: #7f7f7f\">                                     </span>│<span style=\"color: #7f7f7f; text-decoration-color: #7f7f7f\"> they like about the online          </span>│<span style=\"color: #7f7f7f; text-decoration-color: #7f7f7f\">                                     </span>│\n",
       "│<span style=\"color: #7f7f7f; text-decoration-color: #7f7f7f\">                                     </span>│<span style=\"color: #7f7f7f; text-decoration-color: #7f7f7f\"> marketplace. If a user has had a    </span>│<span style=\"color: #7f7f7f; text-decoration-color: #7f7f7f\">                                     </span>│\n",
       "│<span style=\"color: #7f7f7f; text-decoration-color: #7f7f7f\">                                     </span>│<span style=\"color: #7f7f7f; text-decoration-color: #7f7f7f\"> negative experience, they might     </span>│<span style=\"color: #7f7f7f; text-decoration-color: #7f7f7f\">                                     </span>│\n",
       "│<span style=\"color: #7f7f7f; text-decoration-color: #7f7f7f\">                                     </span>│<span style=\"color: #7f7f7f; text-decoration-color: #7f7f7f\"> find it difficult to answer this    </span>│<span style=\"color: #7f7f7f; text-decoration-color: #7f7f7f\">                                     </span>│\n",
       "│<span style=\"color: #7f7f7f; text-decoration-color: #7f7f7f\">                                     </span>│<span style=\"color: #7f7f7f; text-decoration-color: #7f7f7f\"> question accurately. To address     </span>│<span style=\"color: #7f7f7f; text-decoration-color: #7f7f7f\">                                     </span>│\n",
       "│<span style=\"color: #7f7f7f; text-decoration-color: #7f7f7f\">                                     </span>│<span style=\"color: #7f7f7f; text-decoration-color: #7f7f7f\"> this, you could add an option for   </span>│<span style=\"color: #7f7f7f; text-decoration-color: #7f7f7f\">                                     </span>│\n",
       "│<span style=\"color: #7f7f7f; text-decoration-color: #7f7f7f\">                                     </span>│<span style=\"color: #7f7f7f; text-decoration-color: #7f7f7f\"> users who may not have a positive   </span>│<span style=\"color: #7f7f7f; text-decoration-color: #7f7f7f\">                                     </span>│\n",
       "│<span style=\"color: #7f7f7f; text-decoration-color: #7f7f7f\">                                     </span>│<span style=\"color: #7f7f7f; text-decoration-color: #7f7f7f\"> experience, such as \"If you don't   </span>│<span style=\"color: #7f7f7f; text-decoration-color: #7f7f7f\">                                     </span>│\n",
       "│<span style=\"color: #7f7f7f; text-decoration-color: #7f7f7f\">                                     </span>│<span style=\"color: #7f7f7f; text-decoration-color: #7f7f7f\"> like anything about our online      </span>│<span style=\"color: #7f7f7f; text-decoration-color: #7f7f7f\">                                     </span>│\n",
       "│<span style=\"color: #7f7f7f; text-decoration-color: #7f7f7f\">                                     </span>│<span style=\"color: #7f7f7f; text-decoration-color: #7f7f7f\"> marketplace, please explain why.\"   </span>│<span style=\"color: #7f7f7f; text-decoration-color: #7f7f7f\">                                     </span>│\n",
       "│<span style=\"color: #7f7f7f; text-decoration-color: #7f7f7f\">                                     </span>│<span style=\"color: #7f7f7f; text-decoration-color: #7f7f7f\">                                     </span>│<span style=\"color: #7f7f7f; text-decoration-color: #7f7f7f\">                                     </span>│\n",
       "│<span style=\"color: #7f7f7f; text-decoration-color: #7f7f7f\">                                     </span>│<span style=\"color: #7f7f7f; text-decoration-color: #7f7f7f\"> 2. **Open-Ended Nature**: While     </span>│<span style=\"color: #7f7f7f; text-decoration-color: #7f7f7f\">                                     </span>│\n",
       "│<span style=\"color: #7f7f7f; text-decoration-color: #7f7f7f\">                                     </span>│<span style=\"color: #7f7f7f; text-decoration-color: #7f7f7f\"> open-ended questions can provide    </span>│<span style=\"color: #7f7f7f; text-decoration-color: #7f7f7f\">                                     </span>│\n",
       "│<span style=\"color: #7f7f7f; text-decoration-color: #7f7f7f\">                                     </span>│<span style=\"color: #7f7f7f; text-decoration-color: #7f7f7f\"> valuable qualitative data, they can </span>│<span style=\"color: #7f7f7f; text-decoration-color: #7f7f7f\">                                     </span>│\n",
       "│<span style=\"color: #7f7f7f; text-decoration-color: #7f7f7f\">                                     </span>│<span style=\"color: #7f7f7f; text-decoration-color: #7f7f7f\"> also be more challenging to analyze </span>│<span style=\"color: #7f7f7f; text-decoration-color: #7f7f7f\">                                     </span>│\n",
       "│<span style=\"color: #7f7f7f; text-decoration-color: #7f7f7f\">                                     </span>│<span style=\"color: #7f7f7f; text-decoration-color: #7f7f7f\"> systematically. Depending on the    </span>│<span style=\"color: #7f7f7f; text-decoration-color: #7f7f7f\">                                     </span>│\n",
       "│<span style=\"color: #7f7f7f; text-decoration-color: #7f7f7f\">                                     </span>│<span style=\"color: #7f7f7f; text-decoration-color: #7f7f7f\"> goals of your survey, you might     </span>│<span style=\"color: #7f7f7f; text-decoration-color: #7f7f7f\">                                     </span>│\n",
       "│<span style=\"color: #7f7f7f; text-decoration-color: #7f7f7f\">                                     </span>│<span style=\"color: #7f7f7f; text-decoration-color: #7f7f7f\"> want to include some                </span>│<span style=\"color: #7f7f7f; text-decoration-color: #7f7f7f\">                                     </span>│\n",
       "│<span style=\"color: #7f7f7f; text-decoration-color: #7f7f7f\">                                     </span>│<span style=\"color: #7f7f7f; text-decoration-color: #7f7f7f\"> multiple-choice options or          </span>│<span style=\"color: #7f7f7f; text-decoration-color: #7f7f7f\">                                     </span>│\n",
       "│<span style=\"color: #7f7f7f; text-decoration-color: #7f7f7f\">                                     </span>│<span style=\"color: #7f7f7f; text-decoration-color: #7f7f7f\"> follow-up questions to gather more  </span>│<span style=\"color: #7f7f7f; text-decoration-color: #7f7f7f\">                                     </span>│\n",
       "│<span style=\"color: #7f7f7f; text-decoration-color: #7f7f7f\">                                     </span>│<span style=\"color: #7f7f7f; text-decoration-color: #7f7f7f\"> specific feedback.                  </span>│<span style=\"color: #7f7f7f; text-decoration-color: #7f7f7f\">                                     </span>│\n",
       "│<span style=\"color: #7f7f7f; text-decoration-color: #7f7f7f\">                                     </span>│<span style=\"color: #7f7f7f; text-decoration-color: #7f7f7f\">                                     </span>│<span style=\"color: #7f7f7f; text-decoration-color: #7f7f7f\">                                     </span>│\n",
       "│<span style=\"color: #7f7f7f; text-decoration-color: #7f7f7f\">                                     </span>│<span style=\"color: #7f7f7f; text-decoration-color: #7f7f7f\"> Here’s a revised version that       </span>│<span style=\"color: #7f7f7f; text-decoration-color: #7f7f7f\">                                     </span>│\n",
       "│<span style=\"color: #7f7f7f; text-decoration-color: #7f7f7f\">                                     </span>│<span style=\"color: #7f7f7f; text-decoration-color: #7f7f7f\"> addresses these issues:             </span>│<span style=\"color: #7f7f7f; text-decoration-color: #7f7f7f\">                                     </span>│\n",
       "│<span style=\"color: #7f7f7f; text-decoration-color: #7f7f7f\">                                     </span>│<span style=\"color: #7f7f7f; text-decoration-color: #7f7f7f\"> \"What aspects of our online         </span>│<span style=\"color: #7f7f7f; text-decoration-color: #7f7f7f\">                                     </span>│\n",
       "│<span style=\"color: #7f7f7f; text-decoration-color: #7f7f7f\">                                     </span>│<span style=\"color: #7f7f7f; text-decoration-color: #7f7f7f\"> marketplace do you find most and    </span>│<span style=\"color: #7f7f7f; text-decoration-color: #7f7f7f\">                                     </span>│\n",
       "│<span style=\"color: #7f7f7f; text-decoration-color: #7f7f7f\">                                     </span>│<span style=\"color: #7f7f7f; text-decoration-color: #7f7f7f\"> least appealing? Please provide     </span>│<span style=\"color: #7f7f7f; text-decoration-color: #7f7f7f\">                                     </span>│\n",
       "│<span style=\"color: #7f7f7f; text-decoration-color: #7f7f7f\">                                     </span>│<span style=\"color: #7f7f7f; text-decoration-color: #7f7f7f\"> specific examples.\"                 </span>│<span style=\"color: #7f7f7f; text-decoration-color: #7f7f7f\">                                     </span>│\n",
       "├─────────────────────────────────────┼─────────────────────────────────────┼─────────────────────────────────────┤\n",
       "│<span style=\"color: #7f7f7f; text-decoration-color: #7f7f7f\"> How do you feel about the current   </span>│<span style=\"color: #7f7f7f; text-decoration-color: #7f7f7f\"> The survey question \"How do you     </span>│<span style=\"color: #7f7f7f; text-decoration-color: #7f7f7f\"> On a scale of 1 to 5, how satisfied </span>│\n",
       "│<span style=\"color: #7f7f7f; text-decoration-color: #7f7f7f\"> product search and filtering        </span>│<span style=\"color: #7f7f7f; text-decoration-color: #7f7f7f\"> feel about the current product      </span>│<span style=\"color: #7f7f7f; text-decoration-color: #7f7f7f\"> are you with the ease of use of the </span>│\n",
       "│<span style=\"color: #7f7f7f; text-decoration-color: #7f7f7f\"> options?                            </span>│<span style=\"color: #7f7f7f; text-decoration-color: #7f7f7f\"> search and filtering options?\" is   </span>│<span style=\"color: #7f7f7f; text-decoration-color: #7f7f7f\"> current product search options?     </span>│\n",
       "│<span style=\"color: #7f7f7f; text-decoration-color: #7f7f7f\">                                     </span>│<span style=\"color: #7f7f7f; text-decoration-color: #7f7f7f\"> generally clear, but there could be </span>│<span style=\"color: #7f7f7f; text-decoration-color: #7f7f7f\">                                     </span>│\n",
       "│<span style=\"color: #7f7f7f; text-decoration-color: #7f7f7f\">                                     </span>│<span style=\"color: #7f7f7f; text-decoration-color: #7f7f7f\"> a few improvements:                 </span>│<span style=\"color: #7f7f7f; text-decoration-color: #7f7f7f\">                                     </span>│\n",
       "│<span style=\"color: #7f7f7f; text-decoration-color: #7f7f7f\">                                     </span>│<span style=\"color: #7f7f7f; text-decoration-color: #7f7f7f\">                                     </span>│<span style=\"color: #7f7f7f; text-decoration-color: #7f7f7f\">                                     </span>│\n",
       "│<span style=\"color: #7f7f7f; text-decoration-color: #7f7f7f\">                                     </span>│<span style=\"color: #7f7f7f; text-decoration-color: #7f7f7f\"> 1. **Ambiguity**: The question is   </span>│<span style=\"color: #7f7f7f; text-decoration-color: #7f7f7f\">                                     </span>│\n",
       "│<span style=\"color: #7f7f7f; text-decoration-color: #7f7f7f\">                                     </span>│<span style=\"color: #7f7f7f; text-decoration-color: #7f7f7f\"> somewhat broad and may result in    </span>│<span style=\"color: #7f7f7f; text-decoration-color: #7f7f7f\">                                     </span>│\n",
       "│<span style=\"color: #7f7f7f; text-decoration-color: #7f7f7f\">                                     </span>│<span style=\"color: #7f7f7f; text-decoration-color: #7f7f7f\"> varied interpretations. Respondents </span>│<span style=\"color: #7f7f7f; text-decoration-color: #7f7f7f\">                                     </span>│\n",
       "│<span style=\"color: #7f7f7f; text-decoration-color: #7f7f7f\">                                     </span>│<span style=\"color: #7f7f7f; text-decoration-color: #7f7f7f\"> might focus on different aspects of </span>│<span style=\"color: #7f7f7f; text-decoration-color: #7f7f7f\">                                     </span>│\n",
       "│<span style=\"color: #7f7f7f; text-decoration-color: #7f7f7f\">                                     </span>│<span style=\"color: #7f7f7f; text-decoration-color: #7f7f7f\"> the search and filtering options,   </span>│<span style=\"color: #7f7f7f; text-decoration-color: #7f7f7f\">                                     </span>│\n",
       "│<span style=\"color: #7f7f7f; text-decoration-color: #7f7f7f\">                                     </span>│<span style=\"color: #7f7f7f; text-decoration-color: #7f7f7f\"> such as usability, effectiveness,   </span>│<span style=\"color: #7f7f7f; text-decoration-color: #7f7f7f\">                                     </span>│\n",
       "│<span style=\"color: #7f7f7f; text-decoration-color: #7f7f7f\">                                     </span>│<span style=\"color: #7f7f7f; text-decoration-color: #7f7f7f\"> speed, or interface design.         </span>│<span style=\"color: #7f7f7f; text-decoration-color: #7f7f7f\">                                     </span>│\n",
       "│<span style=\"color: #7f7f7f; text-decoration-color: #7f7f7f\">                                     </span>│<span style=\"color: #7f7f7f; text-decoration-color: #7f7f7f\">                                     </span>│<span style=\"color: #7f7f7f; text-decoration-color: #7f7f7f\">                                     </span>│\n",
       "│<span style=\"color: #7f7f7f; text-decoration-color: #7f7f7f\">                                     </span>│<span style=\"color: #7f7f7f; text-decoration-color: #7f7f7f\"> 2. **Specificity**: It might be     </span>│<span style=\"color: #7f7f7f; text-decoration-color: #7f7f7f\">                                     </span>│\n",
       "│<span style=\"color: #7f7f7f; text-decoration-color: #7f7f7f\">                                     </span>│<span style=\"color: #7f7f7f; text-decoration-color: #7f7f7f\"> beneficial to break this question   </span>│<span style=\"color: #7f7f7f; text-decoration-color: #7f7f7f\">                                     </span>│\n",
       "│<span style=\"color: #7f7f7f; text-decoration-color: #7f7f7f\">                                     </span>│<span style=\"color: #7f7f7f; text-decoration-color: #7f7f7f\"> down into more specific components  </span>│<span style=\"color: #7f7f7f; text-decoration-color: #7f7f7f\">                                     </span>│\n",
       "│<span style=\"color: #7f7f7f; text-decoration-color: #7f7f7f\">                                     </span>│<span style=\"color: #7f7f7f; text-decoration-color: #7f7f7f\"> to get more targeted feedback. For  </span>│<span style=\"color: #7f7f7f; text-decoration-color: #7f7f7f\">                                     </span>│\n",
       "│<span style=\"color: #7f7f7f; text-decoration-color: #7f7f7f\">                                     </span>│<span style=\"color: #7f7f7f; text-decoration-color: #7f7f7f\"> example:                            </span>│<span style=\"color: #7f7f7f; text-decoration-color: #7f7f7f\">                                     </span>│\n",
       "│<span style=\"color: #7f7f7f; text-decoration-color: #7f7f7f\">                                     </span>│<span style=\"color: #7f7f7f; text-decoration-color: #7f7f7f\">    - \"How satisfied are you with    </span>│<span style=\"color: #7f7f7f; text-decoration-color: #7f7f7f\">                                     </span>│\n",
       "│<span style=\"color: #7f7f7f; text-decoration-color: #7f7f7f\">                                     </span>│<span style=\"color: #7f7f7f; text-decoration-color: #7f7f7f\"> the ease of use of the product      </span>│<span style=\"color: #7f7f7f; text-decoration-color: #7f7f7f\">                                     </span>│\n",
       "│<span style=\"color: #7f7f7f; text-decoration-color: #7f7f7f\">                                     </span>│<span style=\"color: #7f7f7f; text-decoration-color: #7f7f7f\"> search options?\"                    </span>│<span style=\"color: #7f7f7f; text-decoration-color: #7f7f7f\">                                     </span>│\n",
       "│<span style=\"color: #7f7f7f; text-decoration-color: #7f7f7f\">                                     </span>│<span style=\"color: #7f7f7f; text-decoration-color: #7f7f7f\">    - \"How effective do you find the </span>│<span style=\"color: #7f7f7f; text-decoration-color: #7f7f7f\">                                     </span>│\n",
       "│<span style=\"color: #7f7f7f; text-decoration-color: #7f7f7f\">                                     </span>│<span style=\"color: #7f7f7f; text-decoration-color: #7f7f7f\"> filtering options in narrowing down </span>│<span style=\"color: #7f7f7f; text-decoration-color: #7f7f7f\">                                     </span>│\n",
       "│<span style=\"color: #7f7f7f; text-decoration-color: #7f7f7f\">                                     </span>│<span style=\"color: #7f7f7f; text-decoration-color: #7f7f7f\"> your search results?\"               </span>│<span style=\"color: #7f7f7f; text-decoration-color: #7f7f7f\">                                     </span>│\n",
       "│<span style=\"color: #7f7f7f; text-decoration-color: #7f7f7f\">                                     </span>│<span style=\"color: #7f7f7f; text-decoration-color: #7f7f7f\">                                     </span>│<span style=\"color: #7f7f7f; text-decoration-color: #7f7f7f\">                                     </span>│\n",
       "│<span style=\"color: #7f7f7f; text-decoration-color: #7f7f7f\">                                     </span>│<span style=\"color: #7f7f7f; text-decoration-color: #7f7f7f\"> 3. **Response Format**: The         </span>│<span style=\"color: #7f7f7f; text-decoration-color: #7f7f7f\">                                     </span>│\n",
       "│<span style=\"color: #7f7f7f; text-decoration-color: #7f7f7f\">                                     </span>│<span style=\"color: #7f7f7f; text-decoration-color: #7f7f7f\"> question does not specify how       </span>│<span style=\"color: #7f7f7f; text-decoration-color: #7f7f7f\">                                     </span>│\n",
       "│<span style=\"color: #7f7f7f; text-decoration-color: #7f7f7f\">                                     </span>│<span style=\"color: #7f7f7f; text-decoration-color: #7f7f7f\"> respondents should answer.          </span>│<span style=\"color: #7f7f7f; text-decoration-color: #7f7f7f\">                                     </span>│\n",
       "│<span style=\"color: #7f7f7f; text-decoration-color: #7f7f7f\">                                     </span>│<span style=\"color: #7f7f7f; text-decoration-color: #7f7f7f\"> Providing a scale or                </span>│<span style=\"color: #7f7f7f; text-decoration-color: #7f7f7f\">                                     </span>│\n",
       "│<span style=\"color: #7f7f7f; text-decoration-color: #7f7f7f\">                                     </span>│<span style=\"color: #7f7f7f; text-decoration-color: #7f7f7f\"> multiple-choice options could help  </span>│<span style=\"color: #7f7f7f; text-decoration-color: #7f7f7f\">                                     </span>│\n",
       "│<span style=\"color: #7f7f7f; text-decoration-color: #7f7f7f\">                                     </span>│<span style=\"color: #7f7f7f; text-decoration-color: #7f7f7f\"> in quantifying the feedback. For    </span>│<span style=\"color: #7f7f7f; text-decoration-color: #7f7f7f\">                                     </span>│\n",
       "│<span style=\"color: #7f7f7f; text-decoration-color: #7f7f7f\">                                     </span>│<span style=\"color: #7f7f7f; text-decoration-color: #7f7f7f\"> example:                            </span>│<span style=\"color: #7f7f7f; text-decoration-color: #7f7f7f\">                                     </span>│\n",
       "│<span style=\"color: #7f7f7f; text-decoration-color: #7f7f7f\">                                     </span>│<span style=\"color: #7f7f7f; text-decoration-color: #7f7f7f\">    - \"On a scale of 1 to 5, how     </span>│<span style=\"color: #7f7f7f; text-decoration-color: #7f7f7f\">                                     </span>│\n",
       "│<span style=\"color: #7f7f7f; text-decoration-color: #7f7f7f\">                                     </span>│<span style=\"color: #7f7f7f; text-decoration-color: #7f7f7f\"> satisfied are you with the current  </span>│<span style=\"color: #7f7f7f; text-decoration-color: #7f7f7f\">                                     </span>│\n",
       "│<span style=\"color: #7f7f7f; text-decoration-color: #7f7f7f\">                                     </span>│<span style=\"color: #7f7f7f; text-decoration-color: #7f7f7f\"> product search options?\"            </span>│<span style=\"color: #7f7f7f; text-decoration-color: #7f7f7f\">                                     </span>│\n",
       "│<span style=\"color: #7f7f7f; text-decoration-color: #7f7f7f\">                                     </span>│<span style=\"color: #7f7f7f; text-decoration-color: #7f7f7f\">    - \"Which of the following best   </span>│<span style=\"color: #7f7f7f; text-decoration-color: #7f7f7f\">                                     </span>│\n",
       "│<span style=\"color: #7f7f7f; text-decoration-color: #7f7f7f\">                                     </span>│<span style=\"color: #7f7f7f; text-decoration-color: #7f7f7f\"> describes your feelings about the   </span>│<span style=\"color: #7f7f7f; text-decoration-color: #7f7f7f\">                                     </span>│\n",
       "│<span style=\"color: #7f7f7f; text-decoration-color: #7f7f7f\">                                     </span>│<span style=\"color: #7f7f7f; text-decoration-color: #7f7f7f\"> current filtering options? (Very    </span>│<span style=\"color: #7f7f7f; text-decoration-color: #7f7f7f\">                                     </span>│\n",
       "│<span style=\"color: #7f7f7f; text-decoration-color: #7f7f7f\">                                     </span>│<span style=\"color: #7f7f7f; text-decoration-color: #7f7f7f\"> satisfied, Satisfied, Neutral,      </span>│<span style=\"color: #7f7f7f; text-decoration-color: #7f7f7f\">                                     </span>│\n",
       "│<span style=\"color: #7f7f7f; text-decoration-color: #7f7f7f\">                                     </span>│<span style=\"color: #7f7f7f; text-decoration-color: #7f7f7f\"> Dissatisfied, Very dissatisfied)\"   </span>│<span style=\"color: #7f7f7f; text-decoration-color: #7f7f7f\">                                     </span>│\n",
       "├─────────────────────────────────────┼─────────────────────────────────────┼─────────────────────────────────────┤\n",
       "│<span style=\"color: #7f7f7f; text-decoration-color: #7f7f7f\"> Is there anything else you would    </span>│<span style=\"color: #7f7f7f; text-decoration-color: #7f7f7f\"> The survey question \"Is there       </span>│<span style=\"color: #7f7f7f; text-decoration-color: #7f7f7f\"> Do you have any additional feedback </span>│\n",
       "│<span style=\"color: #7f7f7f; text-decoration-color: #7f7f7f\"> like to share about your experience </span>│<span style=\"color: #7f7f7f; text-decoration-color: #7f7f7f\"> anything else you would like to     </span>│<span style=\"color: #7f7f7f; text-decoration-color: #7f7f7f\"> about your experience with us?      </span>│\n",
       "│<span style=\"color: #7f7f7f; text-decoration-color: #7f7f7f\"> with us?                            </span>│<span style=\"color: #7f7f7f; text-decoration-color: #7f7f7f\"> share about your experience with    </span>│<span style=\"color: #7f7f7f; text-decoration-color: #7f7f7f\">                                     </span>│\n",
       "│<span style=\"color: #7f7f7f; text-decoration-color: #7f7f7f\">                                     </span>│<span style=\"color: #7f7f7f; text-decoration-color: #7f7f7f\"> us?\" is clear and straightforward,  </span>│<span style=\"color: #7f7f7f; text-decoration-color: #7f7f7f\">                                     </span>│\n",
       "│<span style=\"color: #7f7f7f; text-decoration-color: #7f7f7f\">                                     </span>│<span style=\"color: #7f7f7f; text-decoration-color: #7f7f7f\"> but there are a few potential areas </span>│<span style=\"color: #7f7f7f; text-decoration-color: #7f7f7f\">                                     </span>│\n",
       "│<span style=\"color: #7f7f7f; text-decoration-color: #7f7f7f\">                                     </span>│<span style=\"color: #7f7f7f; text-decoration-color: #7f7f7f\"> for improvement:                    </span>│<span style=\"color: #7f7f7f; text-decoration-color: #7f7f7f\">                                     </span>│\n",
       "│<span style=\"color: #7f7f7f; text-decoration-color: #7f7f7f\">                                     </span>│<span style=\"color: #7f7f7f; text-decoration-color: #7f7f7f\">                                     </span>│<span style=\"color: #7f7f7f; text-decoration-color: #7f7f7f\">                                     </span>│\n",
       "│<span style=\"color: #7f7f7f; text-decoration-color: #7f7f7f\">                                     </span>│<span style=\"color: #7f7f7f; text-decoration-color: #7f7f7f\"> 1. **Open-Ended Nature**: While     </span>│<span style=\"color: #7f7f7f; text-decoration-color: #7f7f7f\">                                     </span>│\n",
       "│<span style=\"color: #7f7f7f; text-decoration-color: #7f7f7f\">                                     </span>│<span style=\"color: #7f7f7f; text-decoration-color: #7f7f7f\"> open-ended questions can provide    </span>│<span style=\"color: #7f7f7f; text-decoration-color: #7f7f7f\">                                     </span>│\n",
       "│<span style=\"color: #7f7f7f; text-decoration-color: #7f7f7f\">                                     </span>│<span style=\"color: #7f7f7f; text-decoration-color: #7f7f7f\"> valuable insights, they can also be </span>│<span style=\"color: #7f7f7f; text-decoration-color: #7f7f7f\">                                     </span>│\n",
       "│<span style=\"color: #7f7f7f; text-decoration-color: #7f7f7f\">                                     </span>│<span style=\"color: #7f7f7f; text-decoration-color: #7f7f7f\"> difficult to analyze                </span>│<span style=\"color: #7f7f7f; text-decoration-color: #7f7f7f\">                                     </span>│\n",
       "│<span style=\"color: #7f7f7f; text-decoration-color: #7f7f7f\">                                     </span>│<span style=\"color: #7f7f7f; text-decoration-color: #7f7f7f\"> quantitatively. Depending on the    </span>│<span style=\"color: #7f7f7f; text-decoration-color: #7f7f7f\">                                     </span>│\n",
       "│<span style=\"color: #7f7f7f; text-decoration-color: #7f7f7f\">                                     </span>│<span style=\"color: #7f7f7f; text-decoration-color: #7f7f7f\"> survey's goals, you might want to   </span>│<span style=\"color: #7f7f7f; text-decoration-color: #7f7f7f\">                                     </span>│\n",
       "│<span style=\"color: #7f7f7f; text-decoration-color: #7f7f7f\">                                     </span>│<span style=\"color: #7f7f7f; text-decoration-color: #7f7f7f\"> follow up with more specific        </span>│<span style=\"color: #7f7f7f; text-decoration-color: #7f7f7f\">                                     </span>│\n",
       "│<span style=\"color: #7f7f7f; text-decoration-color: #7f7f7f\">                                     </span>│<span style=\"color: #7f7f7f; text-decoration-color: #7f7f7f\"> questions or provide categories for </span>│<span style=\"color: #7f7f7f; text-decoration-color: #7f7f7f\">                                     </span>│\n",
       "│<span style=\"color: #7f7f7f; text-decoration-color: #7f7f7f\">                                     </span>│<span style=\"color: #7f7f7f; text-decoration-color: #7f7f7f\"> feedback.                           </span>│<span style=\"color: #7f7f7f; text-decoration-color: #7f7f7f\">                                     </span>│\n",
       "│<span style=\"color: #7f7f7f; text-decoration-color: #7f7f7f\">                                     </span>│<span style=\"color: #7f7f7f; text-decoration-color: #7f7f7f\">                                     </span>│<span style=\"color: #7f7f7f; text-decoration-color: #7f7f7f\">                                     </span>│\n",
       "│<span style=\"color: #7f7f7f; text-decoration-color: #7f7f7f\">                                     </span>│<span style=\"color: #7f7f7f; text-decoration-color: #7f7f7f\"> 2. **Ambiguity**: The term          </span>│<span style=\"color: #7f7f7f; text-decoration-color: #7f7f7f\">                                     </span>│\n",
       "│<span style=\"color: #7f7f7f; text-decoration-color: #7f7f7f\">                                     </span>│<span style=\"color: #7f7f7f; text-decoration-color: #7f7f7f\"> \"experience\" is broad. If you want  </span>│<span style=\"color: #7f7f7f; text-decoration-color: #7f7f7f\">                                     </span>│\n",
       "│<span style=\"color: #7f7f7f; text-decoration-color: #7f7f7f\">                                     </span>│<span style=\"color: #7f7f7f; text-decoration-color: #7f7f7f\"> more targeted feedback, you could   </span>│<span style=\"color: #7f7f7f; text-decoration-color: #7f7f7f\">                                     </span>│\n",
       "│<span style=\"color: #7f7f7f; text-decoration-color: #7f7f7f\">                                     </span>│<span style=\"color: #7f7f7f; text-decoration-color: #7f7f7f\"> specify which aspect of the         </span>│<span style=\"color: #7f7f7f; text-decoration-color: #7f7f7f\">                                     </span>│\n",
       "│<span style=\"color: #7f7f7f; text-decoration-color: #7f7f7f\">                                     </span>│<span style=\"color: #7f7f7f; text-decoration-color: #7f7f7f\"> experience you're interested in     </span>│<span style=\"color: #7f7f7f; text-decoration-color: #7f7f7f\">                                     </span>│\n",
       "│<span style=\"color: #7f7f7f; text-decoration-color: #7f7f7f\">                                     </span>│<span style=\"color: #7f7f7f; text-decoration-color: #7f7f7f\"> (e.g., customer service, product    </span>│<span style=\"color: #7f7f7f; text-decoration-color: #7f7f7f\">                                     </span>│\n",
       "│<span style=\"color: #7f7f7f; text-decoration-color: #7f7f7f\">                                     </span>│<span style=\"color: #7f7f7f; text-decoration-color: #7f7f7f\"> quality, etc.).                     </span>│<span style=\"color: #7f7f7f; text-decoration-color: #7f7f7f\">                                     </span>│\n",
       "│<span style=\"color: #7f7f7f; text-decoration-color: #7f7f7f\">                                     </span>│<span style=\"color: #7f7f7f; text-decoration-color: #7f7f7f\">                                     </span>│<span style=\"color: #7f7f7f; text-decoration-color: #7f7f7f\">                                     </span>│\n",
       "│<span style=\"color: #7f7f7f; text-decoration-color: #7f7f7f\">                                     </span>│<span style=\"color: #7f7f7f; text-decoration-color: #7f7f7f\"> 3. **Politeness**: The question is  </span>│<span style=\"color: #7f7f7f; text-decoration-color: #7f7f7f\">                                     </span>│\n",
       "│<span style=\"color: #7f7f7f; text-decoration-color: #7f7f7f\">                                     </span>│<span style=\"color: #7f7f7f; text-decoration-color: #7f7f7f\"> polite, but adding a \"please\" could </span>│<span style=\"color: #7f7f7f; text-decoration-color: #7f7f7f\">                                     </span>│\n",
       "│<span style=\"color: #7f7f7f; text-decoration-color: #7f7f7f\">                                     </span>│<span style=\"color: #7f7f7f; text-decoration-color: #7f7f7f\"> make it sound even more courteous.  </span>│<span style=\"color: #7f7f7f; text-decoration-color: #7f7f7f\">                                     </span>│\n",
       "│<span style=\"color: #7f7f7f; text-decoration-color: #7f7f7f\">                                     </span>│<span style=\"color: #7f7f7f; text-decoration-color: #7f7f7f\"> For example, \"Is there anything     </span>│<span style=\"color: #7f7f7f; text-decoration-color: #7f7f7f\">                                     </span>│\n",
       "│<span style=\"color: #7f7f7f; text-decoration-color: #7f7f7f\">                                     </span>│<span style=\"color: #7f7f7f; text-decoration-color: #7f7f7f\"> else you would like to share about  </span>│<span style=\"color: #7f7f7f; text-decoration-color: #7f7f7f\">                                     </span>│\n",
       "│<span style=\"color: #7f7f7f; text-decoration-color: #7f7f7f\">                                     </span>│<span style=\"color: #7f7f7f; text-decoration-color: #7f7f7f\"> your experience with us, please?\"   </span>│<span style=\"color: #7f7f7f; text-decoration-color: #7f7f7f\">                                     </span>│\n",
       "│<span style=\"color: #7f7f7f; text-decoration-color: #7f7f7f\">                                     </span>│<span style=\"color: #7f7f7f; text-decoration-color: #7f7f7f\">                                     </span>│<span style=\"color: #7f7f7f; text-decoration-color: #7f7f7f\">                                     </span>│\n",
       "│<span style=\"color: #7f7f7f; text-decoration-color: #7f7f7f\">                                     </span>│<span style=\"color: #7f7f7f; text-decoration-color: #7f7f7f\"> 4. **Length and Complexity**: The   </span>│<span style=\"color: #7f7f7f; text-decoration-color: #7f7f7f\">                                     </span>│\n",
       "│<span style=\"color: #7f7f7f; text-decoration-color: #7f7f7f\">                                     </span>│<span style=\"color: #7f7f7f; text-decoration-color: #7f7f7f\"> question is already simple, but you </span>│<span style=\"color: #7f7f7f; text-decoration-color: #7f7f7f\">                                     </span>│\n",
       "│<span style=\"color: #7f7f7f; text-decoration-color: #7f7f7f\">                                     </span>│<span style=\"color: #7f7f7f; text-decoration-color: #7f7f7f\"> could make it even more concise     </span>│<span style=\"color: #7f7f7f; text-decoration-color: #7f7f7f\">                                     </span>│\n",
       "│<span style=\"color: #7f7f7f; text-decoration-color: #7f7f7f\">                                     </span>│<span style=\"color: #7f7f7f; text-decoration-color: #7f7f7f\"> without losing meaning. For         </span>│<span style=\"color: #7f7f7f; text-decoration-color: #7f7f7f\">                                     </span>│\n",
       "│<span style=\"color: #7f7f7f; text-decoration-color: #7f7f7f\">                                     </span>│<span style=\"color: #7f7f7f; text-decoration-color: #7f7f7f\"> example, \"Do you have any           </span>│<span style=\"color: #7f7f7f; text-decoration-color: #7f7f7f\">                                     </span>│\n",
       "│<span style=\"color: #7f7f7f; text-decoration-color: #7f7f7f\">                                     </span>│<span style=\"color: #7f7f7f; text-decoration-color: #7f7f7f\"> additional feedback about your      </span>│<span style=\"color: #7f7f7f; text-decoration-color: #7f7f7f\">                                     </span>│\n",
       "│<span style=\"color: #7f7f7f; text-decoration-color: #7f7f7f\">                                     </span>│<span style=\"color: #7f7f7f; text-decoration-color: #7f7f7f\"> experience with us?\"                </span>│<span style=\"color: #7f7f7f; text-decoration-color: #7f7f7f\">                                     </span>│\n",
       "├─────────────────────────────────────┼─────────────────────────────────────┼─────────────────────────────────────┤\n",
       "│<span style=\"color: #7f7f7f; text-decoration-color: #7f7f7f\"> Can you describe a recent           </span>│<span style=\"color: #7f7f7f; text-decoration-color: #7f7f7f\"> The survey question \"Can you        </span>│<span style=\"color: #7f7f7f; text-decoration-color: #7f7f7f\"> Could you please describe any       </span>│\n",
       "│<span style=\"color: #7f7f7f; text-decoration-color: #7f7f7f\"> experience where you were           </span>│<span style=\"color: #7f7f7f; text-decoration-color: #7f7f7f\"> describe a recent experience where  </span>│<span style=\"color: #7f7f7f; text-decoration-color: #7f7f7f\"> recent experiences, within the last </span>│\n",
       "│<span style=\"color: #7f7f7f; text-decoration-color: #7f7f7f\"> dissatisfied with our service?      </span>│<span style=\"color: #7f7f7f; text-decoration-color: #7f7f7f\"> you were dissatisfied with our      </span>│<span style=\"color: #7f7f7f; text-decoration-color: #7f7f7f\"> month, where you were either        </span>│\n",
       "│<span style=\"color: #7f7f7f; text-decoration-color: #7f7f7f\">                                     </span>│<span style=\"color: #7f7f7f; text-decoration-color: #7f7f7f\"> service?\" is generally clear and    </span>│<span style=\"color: #7f7f7f; text-decoration-color: #7f7f7f\"> satisfied or dissatisfied with our  </span>│\n",
       "│<span style=\"color: #7f7f7f; text-decoration-color: #7f7f7f\">                                     </span>│<span style=\"color: #7f7f7f; text-decoration-color: #7f7f7f\"> direct, but there are a few         </span>│<span style=\"color: #7f7f7f; text-decoration-color: #7f7f7f\"> service?                            </span>│\n",
       "│<span style=\"color: #7f7f7f; text-decoration-color: #7f7f7f\">                                     </span>│<span style=\"color: #7f7f7f; text-decoration-color: #7f7f7f\"> potential issues to consider:       </span>│<span style=\"color: #7f7f7f; text-decoration-color: #7f7f7f\">                                     </span>│\n",
       "│<span style=\"color: #7f7f7f; text-decoration-color: #7f7f7f\">                                     </span>│<span style=\"color: #7f7f7f; text-decoration-color: #7f7f7f\">                                     </span>│<span style=\"color: #7f7f7f; text-decoration-color: #7f7f7f\">                                     </span>│\n",
       "│<span style=\"color: #7f7f7f; text-decoration-color: #7f7f7f\">                                     </span>│<span style=\"color: #7f7f7f; text-decoration-color: #7f7f7f\"> 1. **Negative Bias**: The question  </span>│<span style=\"color: #7f7f7f; text-decoration-color: #7f7f7f\">                                     </span>│\n",
       "│<span style=\"color: #7f7f7f; text-decoration-color: #7f7f7f\">                                     </span>│<span style=\"color: #7f7f7f; text-decoration-color: #7f7f7f\"> assumes that the respondent had a   </span>│<span style=\"color: #7f7f7f; text-decoration-color: #7f7f7f\">                                     </span>│\n",
       "│<span style=\"color: #7f7f7f; text-decoration-color: #7f7f7f\">                                     </span>│<span style=\"color: #7f7f7f; text-decoration-color: #7f7f7f\"> recent experience that was          </span>│<span style=\"color: #7f7f7f; text-decoration-color: #7f7f7f\">                                     </span>│\n",
       "│<span style=\"color: #7f7f7f; text-decoration-color: #7f7f7f\">                                     </span>│<span style=\"color: #7f7f7f; text-decoration-color: #7f7f7f\"> dissatisfactory. This can introduce </span>│<span style=\"color: #7f7f7f; text-decoration-color: #7f7f7f\">                                     </span>│\n",
       "│<span style=\"color: #7f7f7f; text-decoration-color: #7f7f7f\">                                     </span>│<span style=\"color: #7f7f7f; text-decoration-color: #7f7f7f\"> a negative bias and might not       </span>│<span style=\"color: #7f7f7f; text-decoration-color: #7f7f7f\">                                     </span>│\n",
       "│<span style=\"color: #7f7f7f; text-decoration-color: #7f7f7f\">                                     </span>│<span style=\"color: #7f7f7f; text-decoration-color: #7f7f7f\"> capture the full range of customer  </span>│<span style=\"color: #7f7f7f; text-decoration-color: #7f7f7f\">                                     </span>│\n",
       "│<span style=\"color: #7f7f7f; text-decoration-color: #7f7f7f\">                                     </span>│<span style=\"color: #7f7f7f; text-decoration-color: #7f7f7f\"> experiences.                        </span>│<span style=\"color: #7f7f7f; text-decoration-color: #7f7f7f\">                                     </span>│\n",
       "│<span style=\"color: #7f7f7f; text-decoration-color: #7f7f7f\">                                     </span>│<span style=\"color: #7f7f7f; text-decoration-color: #7f7f7f\">                                     </span>│<span style=\"color: #7f7f7f; text-decoration-color: #7f7f7f\">                                     </span>│\n",
       "│<span style=\"color: #7f7f7f; text-decoration-color: #7f7f7f\">                                     </span>│<span style=\"color: #7f7f7f; text-decoration-color: #7f7f7f\"> 2. **Open-Ended Nature**: While     </span>│<span style=\"color: #7f7f7f; text-decoration-color: #7f7f7f\">                                     </span>│\n",
       "│<span style=\"color: #7f7f7f; text-decoration-color: #7f7f7f\">                                     </span>│<span style=\"color: #7f7f7f; text-decoration-color: #7f7f7f\"> open-ended questions can provide    </span>│<span style=\"color: #7f7f7f; text-decoration-color: #7f7f7f\">                                     </span>│\n",
       "│<span style=\"color: #7f7f7f; text-decoration-color: #7f7f7f\">                                     </span>│<span style=\"color: #7f7f7f; text-decoration-color: #7f7f7f\"> detailed insights, they may also    </span>│<span style=\"color: #7f7f7f; text-decoration-color: #7f7f7f\">                                     </span>│\n",
       "│<span style=\"color: #7f7f7f; text-decoration-color: #7f7f7f\">                                     </span>│<span style=\"color: #7f7f7f; text-decoration-color: #7f7f7f\"> result in varied and lengthy        </span>│<span style=\"color: #7f7f7f; text-decoration-color: #7f7f7f\">                                     </span>│\n",
       "│<span style=\"color: #7f7f7f; text-decoration-color: #7f7f7f\">                                     </span>│<span style=\"color: #7f7f7f; text-decoration-color: #7f7f7f\"> responses that can be difficult to  </span>│<span style=\"color: #7f7f7f; text-decoration-color: #7f7f7f\">                                     </span>│\n",
       "│<span style=\"color: #7f7f7f; text-decoration-color: #7f7f7f\">                                     </span>│<span style=\"color: #7f7f7f; text-decoration-color: #7f7f7f\"> analyze systematically.             </span>│<span style=\"color: #7f7f7f; text-decoration-color: #7f7f7f\">                                     </span>│\n",
       "│<span style=\"color: #7f7f7f; text-decoration-color: #7f7f7f\">                                     </span>│<span style=\"color: #7f7f7f; text-decoration-color: #7f7f7f\">                                     </span>│<span style=\"color: #7f7f7f; text-decoration-color: #7f7f7f\">                                     </span>│\n",
       "│<span style=\"color: #7f7f7f; text-decoration-color: #7f7f7f\">                                     </span>│<span style=\"color: #7f7f7f; text-decoration-color: #7f7f7f\"> 3. **Specificity**: The term        </span>│<span style=\"color: #7f7f7f; text-decoration-color: #7f7f7f\">                                     </span>│\n",
       "│<span style=\"color: #7f7f7f; text-decoration-color: #7f7f7f\">                                     </span>│<span style=\"color: #7f7f7f; text-decoration-color: #7f7f7f\"> \"recent\" is subjective and can vary </span>│<span style=\"color: #7f7f7f; text-decoration-color: #7f7f7f\">                                     </span>│\n",
       "│<span style=\"color: #7f7f7f; text-decoration-color: #7f7f7f\">                                     </span>│<span style=\"color: #7f7f7f; text-decoration-color: #7f7f7f\"> from one respondent to another. It  </span>│<span style=\"color: #7f7f7f; text-decoration-color: #7f7f7f\">                                     </span>│\n",
       "│<span style=\"color: #7f7f7f; text-decoration-color: #7f7f7f\">                                     </span>│<span style=\"color: #7f7f7f; text-decoration-color: #7f7f7f\"> might be helpful to define what you </span>│<span style=\"color: #7f7f7f; text-decoration-color: #7f7f7f\">                                     </span>│\n",
       "│<span style=\"color: #7f7f7f; text-decoration-color: #7f7f7f\">                                     </span>│<span style=\"color: #7f7f7f; text-decoration-color: #7f7f7f\"> mean by \"recent\" (e.g., within the  </span>│<span style=\"color: #7f7f7f; text-decoration-color: #7f7f7f\">                                     </span>│\n",
       "│<span style=\"color: #7f7f7f; text-decoration-color: #7f7f7f\">                                     </span>│<span style=\"color: #7f7f7f; text-decoration-color: #7f7f7f\"> last month).                        </span>│<span style=\"color: #7f7f7f; text-decoration-color: #7f7f7f\">                                     </span>│\n",
       "│<span style=\"color: #7f7f7f; text-decoration-color: #7f7f7f\">                                     </span>│<span style=\"color: #7f7f7f; text-decoration-color: #7f7f7f\">                                     </span>│<span style=\"color: #7f7f7f; text-decoration-color: #7f7f7f\">                                     </span>│\n",
       "│<span style=\"color: #7f7f7f; text-decoration-color: #7f7f7f\">                                     </span>│<span style=\"color: #7f7f7f; text-decoration-color: #7f7f7f\"> 4. **Leading Question**: The        </span>│<span style=\"color: #7f7f7f; text-decoration-color: #7f7f7f\">                                     </span>│\n",
       "│<span style=\"color: #7f7f7f; text-decoration-color: #7f7f7f\">                                     </span>│<span style=\"color: #7f7f7f; text-decoration-color: #7f7f7f\"> question might lead respondents to  </span>│<span style=\"color: #7f7f7f; text-decoration-color: #7f7f7f\">                                     </span>│\n",
       "│<span style=\"color: #7f7f7f; text-decoration-color: #7f7f7f\">                                     </span>│<span style=\"color: #7f7f7f; text-decoration-color: #7f7f7f\"> focus on negative experiences. A    </span>│<span style=\"color: #7f7f7f; text-decoration-color: #7f7f7f\">                                     </span>│\n",
       "│<span style=\"color: #7f7f7f; text-decoration-color: #7f7f7f\">                                     </span>│<span style=\"color: #7f7f7f; text-decoration-color: #7f7f7f\"> more balanced approach could be to  </span>│<span style=\"color: #7f7f7f; text-decoration-color: #7f7f7f\">                                     </span>│\n",
       "│<span style=\"color: #7f7f7f; text-decoration-color: #7f7f7f\">                                     </span>│<span style=\"color: #7f7f7f; text-decoration-color: #7f7f7f\"> ask about both positive and         </span>│<span style=\"color: #7f7f7f; text-decoration-color: #7f7f7f\">                                     </span>│\n",
       "│<span style=\"color: #7f7f7f; text-decoration-color: #7f7f7f\">                                     </span>│<span style=\"color: #7f7f7f; text-decoration-color: #7f7f7f\"> negative experiences.               </span>│<span style=\"color: #7f7f7f; text-decoration-color: #7f7f7f\">                                     </span>│\n",
       "└─────────────────────────────────────┴─────────────────────────────────────┴─────────────────────────────────────┘\n",
       "</pre>\n"
      ],
      "text/plain": [
       "┏━━━━━━━━━━━━━━━━━━━━━━━━━━━━━━━━━━━━━┳━━━━━━━━━━━━━━━━━━━━━━━━━━━━━━━━━━━━━┳━━━━━━━━━━━━━━━━━━━━━━━━━━━━━━━━━━━━━┓\n",
       "┃\u001b[1;35m \u001b[0m\u001b[1;35mscenario                           \u001b[0m\u001b[1;35m \u001b[0m┃\u001b[1;35m \u001b[0m\u001b[1;35manswer                             \u001b[0m\u001b[1;35m \u001b[0m┃\u001b[1;35m \u001b[0m\u001b[1;35manswer                             \u001b[0m\u001b[1;35m \u001b[0m┃\n",
       "┃\u001b[1;35m \u001b[0m\u001b[1;35m.question                          \u001b[0m\u001b[1;35m \u001b[0m┃\u001b[1;35m \u001b[0m\u001b[1;35m.logic                             \u001b[0m\u001b[1;35m \u001b[0m┃\u001b[1;35m \u001b[0m\u001b[1;35m.improved                          \u001b[0m\u001b[1;35m \u001b[0m┃\n",
       "┡━━━━━━━━━━━━━━━━━━━━━━━━━━━━━━━━━━━━━╇━━━━━━━━━━━━━━━━━━━━━━━━━━━━━━━━━━━━━╇━━━━━━━━━━━━━━━━━━━━━━━━━━━━━━━━━━━━━┩\n",
       "│\u001b[2m \u001b[0m\u001b[2mRespondent ID                      \u001b[0m\u001b[2m \u001b[0m│\u001b[2m \u001b[0m\u001b[2mThe survey question \"Respondent ID\"\u001b[0m\u001b[2m \u001b[0m│\u001b[2m \u001b[0m\u001b[2mPlease enter your Respondent ID as \u001b[0m\u001b[2m \u001b[0m│\n",
       "│\u001b[2m                                     \u001b[0m│\u001b[2m \u001b[0m\u001b[2mhas several issues:                \u001b[0m\u001b[2m \u001b[0m│\u001b[2m \u001b[0m\u001b[2mprovided in your survey invitation \u001b[0m\u001b[2m \u001b[0m│\n",
       "│\u001b[2m                                     \u001b[0m│\u001b[2m \u001b[0m\u001b[2m                                   \u001b[0m\u001b[2m \u001b[0m│\u001b[2m \u001b[0m\u001b[2memail.                             \u001b[0m\u001b[2m \u001b[0m│\n",
       "│\u001b[2m                                     \u001b[0m│\u001b[2m \u001b[0m\u001b[2m1. **Lack of clarity**: The phrase \u001b[0m\u001b[2m \u001b[0m│\u001b[2m                                     \u001b[0m│\n",
       "│\u001b[2m                                     \u001b[0m│\u001b[2m \u001b[0m\u001b[2m\"Respondent ID\" is vague and does  \u001b[0m\u001b[2m \u001b[0m│\u001b[2m                                     \u001b[0m│\n",
       "│\u001b[2m                                     \u001b[0m│\u001b[2m \u001b[0m\u001b[2mnot clearly indicate what is being \u001b[0m\u001b[2m \u001b[0m│\u001b[2m                                     \u001b[0m│\n",
       "│\u001b[2m                                     \u001b[0m│\u001b[2m \u001b[0m\u001b[2masked of the respondent. It is not \u001b[0m\u001b[2m \u001b[0m│\u001b[2m                                     \u001b[0m│\n",
       "│\u001b[2m                                     \u001b[0m│\u001b[2m \u001b[0m\u001b[2mframed as a question, so           \u001b[0m\u001b[2m \u001b[0m│\u001b[2m                                     \u001b[0m│\n",
       "│\u001b[2m                                     \u001b[0m│\u001b[2m \u001b[0m\u001b[2mrespondents might be confused about\u001b[0m\u001b[2m \u001b[0m│\u001b[2m                                     \u001b[0m│\n",
       "│\u001b[2m                                     \u001b[0m│\u001b[2m \u001b[0m\u001b[2mwhat they need to do.              \u001b[0m\u001b[2m \u001b[0m│\u001b[2m                                     \u001b[0m│\n",
       "│\u001b[2m                                     \u001b[0m│\u001b[2m \u001b[0m\u001b[2m                                   \u001b[0m\u001b[2m \u001b[0m│\u001b[2m                                     \u001b[0m│\n",
       "│\u001b[2m                                     \u001b[0m│\u001b[2m \u001b[0m\u001b[2m2. **No context**: There is no     \u001b[0m\u001b[2m \u001b[0m│\u001b[2m                                     \u001b[0m│\n",
       "│\u001b[2m                                     \u001b[0m│\u001b[2m \u001b[0m\u001b[2mexplanation of what the \"Respondent\u001b[0m\u001b[2m \u001b[0m│\u001b[2m                                     \u001b[0m│\n",
       "│\u001b[2m                                     \u001b[0m│\u001b[2m \u001b[0m\u001b[2mID\" is or where the respondent     \u001b[0m\u001b[2m \u001b[0m│\u001b[2m                                     \u001b[0m│\n",
       "│\u001b[2m                                     \u001b[0m│\u001b[2m \u001b[0m\u001b[2mshould find it. If the ID is       \u001b[0m\u001b[2m \u001b[0m│\u001b[2m                                     \u001b[0m│\n",
       "│\u001b[2m                                     \u001b[0m│\u001b[2m \u001b[0m\u001b[2msomething they need to provide, the\u001b[0m\u001b[2m \u001b[0m│\u001b[2m                                     \u001b[0m│\n",
       "│\u001b[2m                                     \u001b[0m│\u001b[2m \u001b[0m\u001b[2msurvey should give clear           \u001b[0m\u001b[2m \u001b[0m│\u001b[2m                                     \u001b[0m│\n",
       "│\u001b[2m                                     \u001b[0m│\u001b[2m \u001b[0m\u001b[2minstructions on how to locate it.  \u001b[0m\u001b[2m \u001b[0m│\u001b[2m                                     \u001b[0m│\n",
       "│\u001b[2m                                     \u001b[0m│\u001b[2m \u001b[0m\u001b[2m                                   \u001b[0m\u001b[2m \u001b[0m│\u001b[2m                                     \u001b[0m│\n",
       "│\u001b[2m                                     \u001b[0m│\u001b[2m \u001b[0m\u001b[2m3. **Assumption of prior           \u001b[0m\u001b[2m \u001b[0m│\u001b[2m                                     \u001b[0m│\n",
       "│\u001b[2m                                     \u001b[0m│\u001b[2m \u001b[0m\u001b[2mknowledge**: The question assumes  \u001b[0m\u001b[2m \u001b[0m│\u001b[2m                                     \u001b[0m│\n",
       "│\u001b[2m                                     \u001b[0m│\u001b[2m \u001b[0m\u001b[2mthat respondents know their ID     \u001b[0m\u001b[2m \u001b[0m│\u001b[2m                                     \u001b[0m│\n",
       "│\u001b[2m                                     \u001b[0m│\u001b[2m \u001b[0m\u001b[2mwithout providing any guidance. If \u001b[0m\u001b[2m \u001b[0m│\u001b[2m                                     \u001b[0m│\n",
       "│\u001b[2m                                     \u001b[0m│\u001b[2m \u001b[0m\u001b[2mthis is an internal survey where   \u001b[0m\u001b[2m \u001b[0m│\u001b[2m                                     \u001b[0m│\n",
       "│\u001b[2m                                     \u001b[0m│\u001b[2m \u001b[0m\u001b[2mrespondents are expected to know   \u001b[0m\u001b[2m \u001b[0m│\u001b[2m                                     \u001b[0m│\n",
       "│\u001b[2m                                     \u001b[0m│\u001b[2m \u001b[0m\u001b[2mtheir IDs, it might be okay, but   \u001b[0m\u001b[2m \u001b[0m│\u001b[2m                                     \u001b[0m│\n",
       "│\u001b[2m                                     \u001b[0m│\u001b[2m \u001b[0m\u001b[2motherwise, it needs more context.  \u001b[0m\u001b[2m \u001b[0m│\u001b[2m                                     \u001b[0m│\n",
       "├─────────────────────────────────────┼─────────────────────────────────────┼─────────────────────────────────────┤\n",
       "│\u001b[2m \u001b[0m\u001b[2mWhat is one feature you would like \u001b[0m\u001b[2m \u001b[0m│\u001b[2m \u001b[0m\u001b[2mThe survey question \"What is one   \u001b[0m\u001b[2m \u001b[0m│\u001b[2m \u001b[0m\u001b[2mWhat is one specific improvement   \u001b[0m\u001b[2m \u001b[0m│\n",
       "│\u001b[2m \u001b[0m\u001b[2mto see added to improve your       \u001b[0m\u001b[2m \u001b[0m│\u001b[2m \u001b[0m\u001b[2mfeature you would like to see added\u001b[0m\u001b[2m \u001b[0m│\u001b[2m \u001b[0m\u001b[2myou would like to see in our online\u001b[0m\u001b[2m \u001b[0m│\n",
       "│\u001b[2m \u001b[0m\u001b[2mshopping experience?               \u001b[0m\u001b[2m \u001b[0m│\u001b[2m \u001b[0m\u001b[2mto improve your shopping           \u001b[0m\u001b[2m \u001b[0m│\u001b[2m \u001b[0m\u001b[2mor in-store shopping experience?   \u001b[0m\u001b[2m \u001b[0m│\n",
       "│\u001b[2m                                     \u001b[0m│\u001b[2m \u001b[0m\u001b[2mexperience?\" is generally          \u001b[0m\u001b[2m \u001b[0m│\u001b[2m                                     \u001b[0m│\n",
       "│\u001b[2m                                     \u001b[0m│\u001b[2m \u001b[0m\u001b[2mwell-constructed, but there are a  \u001b[0m\u001b[2m \u001b[0m│\u001b[2m                                     \u001b[0m│\n",
       "│\u001b[2m                                     \u001b[0m│\u001b[2m \u001b[0m\u001b[2mfew points that could be improved  \u001b[0m\u001b[2m \u001b[0m│\u001b[2m                                     \u001b[0m│\n",
       "│\u001b[2m                                     \u001b[0m│\u001b[2m \u001b[0m\u001b[2mfor clarity and precision:         \u001b[0m\u001b[2m \u001b[0m│\u001b[2m                                     \u001b[0m│\n",
       "│\u001b[2m                                     \u001b[0m│\u001b[2m \u001b[0m\u001b[2m                                   \u001b[0m\u001b[2m \u001b[0m│\u001b[2m                                     \u001b[0m│\n",
       "│\u001b[2m                                     \u001b[0m│\u001b[2m \u001b[0m\u001b[2m1. **Specificity**: The question   \u001b[0m\u001b[2m \u001b[0m│\u001b[2m                                     \u001b[0m│\n",
       "│\u001b[2m                                     \u001b[0m│\u001b[2m \u001b[0m\u001b[2mcould be more specific about the   \u001b[0m\u001b[2m \u001b[0m│\u001b[2m                                     \u001b[0m│\n",
       "│\u001b[2m                                     \u001b[0m│\u001b[2m \u001b[0m\u001b[2mcontext. For example, is it        \u001b[0m\u001b[2m \u001b[0m│\u001b[2m                                     \u001b[0m│\n",
       "│\u001b[2m                                     \u001b[0m│\u001b[2m \u001b[0m\u001b[2mreferring to online shopping,      \u001b[0m\u001b[2m \u001b[0m│\u001b[2m                                     \u001b[0m│\n",
       "│\u001b[2m                                     \u001b[0m│\u001b[2m \u001b[0m\u001b[2min-store shopping, or both? Adding \u001b[0m\u001b[2m \u001b[0m│\u001b[2m                                     \u001b[0m│\n",
       "│\u001b[2m                                     \u001b[0m│\u001b[2m \u001b[0m\u001b[2mcontext can help respondents       \u001b[0m\u001b[2m \u001b[0m│\u001b[2m                                     \u001b[0m│\n",
       "│\u001b[2m                                     \u001b[0m│\u001b[2m \u001b[0m\u001b[2mprovide more relevant and focused  \u001b[0m\u001b[2m \u001b[0m│\u001b[2m                                     \u001b[0m│\n",
       "│\u001b[2m                                     \u001b[0m│\u001b[2m \u001b[0m\u001b[2manswers.                           \u001b[0m\u001b[2m \u001b[0m│\u001b[2m                                     \u001b[0m│\n",
       "│\u001b[2m                                     \u001b[0m│\u001b[2m \u001b[0m\u001b[2m                                   \u001b[0m\u001b[2m \u001b[0m│\u001b[2m                                     \u001b[0m│\n",
       "│\u001b[2m                                     \u001b[0m│\u001b[2m \u001b[0m\u001b[2m2. **Open-Ended Nature**: While    \u001b[0m\u001b[2m \u001b[0m│\u001b[2m                                     \u001b[0m│\n",
       "│\u001b[2m                                     \u001b[0m│\u001b[2m \u001b[0m\u001b[2mopen-ended questions can provide   \u001b[0m\u001b[2m \u001b[0m│\u001b[2m                                     \u001b[0m│\n",
       "│\u001b[2m                                     \u001b[0m│\u001b[2m \u001b[0m\u001b[2mrich data, they can also lead to a \u001b[0m\u001b[2m \u001b[0m│\u001b[2m                                     \u001b[0m│\n",
       "│\u001b[2m                                     \u001b[0m│\u001b[2m \u001b[0m\u001b[2mwide variety of responses that     \u001b[0m\u001b[2m \u001b[0m│\u001b[2m                                     \u001b[0m│\n",
       "│\u001b[2m                                     \u001b[0m│\u001b[2m \u001b[0m\u001b[2mmight be difficult to categorize   \u001b[0m\u001b[2m \u001b[0m│\u001b[2m                                     \u001b[0m│\n",
       "│\u001b[2m                                     \u001b[0m│\u001b[2m \u001b[0m\u001b[2mand analyze. Depending on the      \u001b[0m\u001b[2m \u001b[0m│\u001b[2m                                     \u001b[0m│\n",
       "│\u001b[2m                                     \u001b[0m│\u001b[2m \u001b[0m\u001b[2msurvey's goals, it might be useful \u001b[0m\u001b[2m \u001b[0m│\u001b[2m                                     \u001b[0m│\n",
       "│\u001b[2m                                     \u001b[0m│\u001b[2m \u001b[0m\u001b[2mto offer some categories or        \u001b[0m\u001b[2m \u001b[0m│\u001b[2m                                     \u001b[0m│\n",
       "│\u001b[2m                                     \u001b[0m│\u001b[2m \u001b[0m\u001b[2mexamples to guide respondents.     \u001b[0m\u001b[2m \u001b[0m│\u001b[2m                                     \u001b[0m│\n",
       "│\u001b[2m                                     \u001b[0m│\u001b[2m \u001b[0m\u001b[2m                                   \u001b[0m\u001b[2m \u001b[0m│\u001b[2m                                     \u001b[0m│\n",
       "│\u001b[2m                                     \u001b[0m│\u001b[2m \u001b[0m\u001b[2m3. **Ambiguity in \"Feature\"**: The \u001b[0m\u001b[2m \u001b[0m│\u001b[2m                                     \u001b[0m│\n",
       "│\u001b[2m                                     \u001b[0m│\u001b[2m \u001b[0m\u001b[2mterm \"feature\" is somewhat vague   \u001b[0m\u001b[2m \u001b[0m│\u001b[2m                                     \u001b[0m│\n",
       "│\u001b[2m                                     \u001b[0m│\u001b[2m \u001b[0m\u001b[2mand can be interpreted in many     \u001b[0m\u001b[2m \u001b[0m│\u001b[2m                                     \u001b[0m│\n",
       "│\u001b[2m                                     \u001b[0m│\u001b[2m \u001b[0m\u001b[2mways. Clarifying what is meant by  \u001b[0m\u001b[2m \u001b[0m│\u001b[2m                                     \u001b[0m│\n",
       "│\u001b[2m                                     \u001b[0m│\u001b[2m \u001b[0m\u001b[2m\"feature\" (e.g., a new service, a  \u001b[0m\u001b[2m \u001b[0m│\u001b[2m                                     \u001b[0m│\n",
       "│\u001b[2m                                     \u001b[0m│\u001b[2m \u001b[0m\u001b[2mtechnological improvement, a       \u001b[0m\u001b[2m \u001b[0m│\u001b[2m                                     \u001b[0m│\n",
       "│\u001b[2m                                     \u001b[0m│\u001b[2m \u001b[0m\u001b[2mproduct offering) can help         \u001b[0m\u001b[2m \u001b[0m│\u001b[2m                                     \u001b[0m│\n",
       "│\u001b[2m                                     \u001b[0m│\u001b[2m \u001b[0m\u001b[2mrespondents understand the question\u001b[0m\u001b[2m \u001b[0m│\u001b[2m                                     \u001b[0m│\n",
       "│\u001b[2m                                     \u001b[0m│\u001b[2m \u001b[0m\u001b[2mbetter.                            \u001b[0m\u001b[2m \u001b[0m│\u001b[2m                                     \u001b[0m│\n",
       "│\u001b[2m                                     \u001b[0m│\u001b[2m \u001b[0m\u001b[2m                                   \u001b[0m\u001b[2m \u001b[0m│\u001b[2m                                     \u001b[0m│\n",
       "│\u001b[2m                                     \u001b[0m│\u001b[2m \u001b[0m\u001b[2mA revised version of the question  \u001b[0m\u001b[2m \u001b[0m│\u001b[2m                                     \u001b[0m│\n",
       "│\u001b[2m                                     \u001b[0m│\u001b[2m \u001b[0m\u001b[2mmight be:                          \u001b[0m\u001b[2m \u001b[0m│\u001b[2m                                     \u001b[0m│\n",
       "│\u001b[2m                                     \u001b[0m│\u001b[2m \u001b[0m\u001b[2m\"What is one specific improvement  \u001b[0m\u001b[2m \u001b[0m│\u001b[2m                                     \u001b[0m│\n",
       "│\u001b[2m                                     \u001b[0m│\u001b[2m \u001b[0m\u001b[2myou would like to see in our online\u001b[0m\u001b[2m \u001b[0m│\u001b[2m                                     \u001b[0m│\n",
       "│\u001b[2m                                     \u001b[0m│\u001b[2m \u001b[0m\u001b[2mshopping experience?\"              \u001b[0m\u001b[2m \u001b[0m│\u001b[2m                                     \u001b[0m│\n",
       "├─────────────────────────────────────┼─────────────────────────────────────┼─────────────────────────────────────┤\n",
       "│\u001b[2m \u001b[0m\u001b[2mWhat do you like most about using  \u001b[0m\u001b[2m \u001b[0m│\u001b[2m \u001b[0m\u001b[2mThe survey question \"What do you   \u001b[0m\u001b[2m \u001b[0m│\u001b[2m \u001b[0m\u001b[2mWhat aspects of our online         \u001b[0m\u001b[2m \u001b[0m│\n",
       "│\u001b[2m \u001b[0m\u001b[2mour online marketplace?            \u001b[0m\u001b[2m \u001b[0m│\u001b[2m \u001b[0m\u001b[2mlike most about using our online   \u001b[0m\u001b[2m \u001b[0m│\u001b[2m \u001b[0m\u001b[2mmarketplace do you find most       \u001b[0m\u001b[2m \u001b[0m│\n",
       "│\u001b[2m                                     \u001b[0m│\u001b[2m \u001b[0m\u001b[2mmarketplace?\" is generally clear   \u001b[0m\u001b[2m \u001b[0m│\u001b[2m \u001b[0m\u001b[2mappealing? If you have any negative\u001b[0m\u001b[2m \u001b[0m│\n",
       "│\u001b[2m                                     \u001b[0m│\u001b[2m \u001b[0m\u001b[2mand straightforward, but there are \u001b[0m\u001b[2m \u001b[0m│\u001b[2m \u001b[0m\u001b[2mexperiences, please describe them  \u001b[0m\u001b[2m \u001b[0m│\n",
       "│\u001b[2m                                     \u001b[0m│\u001b[2m \u001b[0m\u001b[2ma couple of potential issues to    \u001b[0m\u001b[2m \u001b[0m│\u001b[2m \u001b[0m\u001b[2mas well.                           \u001b[0m\u001b[2m \u001b[0m│\n",
       "│\u001b[2m                                     \u001b[0m│\u001b[2m \u001b[0m\u001b[2mconsider:                          \u001b[0m\u001b[2m \u001b[0m│\u001b[2m                                     \u001b[0m│\n",
       "│\u001b[2m                                     \u001b[0m│\u001b[2m \u001b[0m\u001b[2m                                   \u001b[0m\u001b[2m \u001b[0m│\u001b[2m                                     \u001b[0m│\n",
       "│\u001b[2m                                     \u001b[0m│\u001b[2m \u001b[0m\u001b[2m1. **Assumption of Positive        \u001b[0m\u001b[2m \u001b[0m│\u001b[2m                                     \u001b[0m│\n",
       "│\u001b[2m                                     \u001b[0m│\u001b[2m \u001b[0m\u001b[2mExperience**: The question assumes \u001b[0m\u001b[2m \u001b[0m│\u001b[2m                                     \u001b[0m│\n",
       "│\u001b[2m                                     \u001b[0m│\u001b[2m \u001b[0m\u001b[2mthat the respondent has something  \u001b[0m\u001b[2m \u001b[0m│\u001b[2m                                     \u001b[0m│\n",
       "│\u001b[2m                                     \u001b[0m│\u001b[2m \u001b[0m\u001b[2mthey like about the online         \u001b[0m\u001b[2m \u001b[0m│\u001b[2m                                     \u001b[0m│\n",
       "│\u001b[2m                                     \u001b[0m│\u001b[2m \u001b[0m\u001b[2mmarketplace. If a user has had a   \u001b[0m\u001b[2m \u001b[0m│\u001b[2m                                     \u001b[0m│\n",
       "│\u001b[2m                                     \u001b[0m│\u001b[2m \u001b[0m\u001b[2mnegative experience, they might    \u001b[0m\u001b[2m \u001b[0m│\u001b[2m                                     \u001b[0m│\n",
       "│\u001b[2m                                     \u001b[0m│\u001b[2m \u001b[0m\u001b[2mfind it difficult to answer this   \u001b[0m\u001b[2m \u001b[0m│\u001b[2m                                     \u001b[0m│\n",
       "│\u001b[2m                                     \u001b[0m│\u001b[2m \u001b[0m\u001b[2mquestion accurately. To address    \u001b[0m\u001b[2m \u001b[0m│\u001b[2m                                     \u001b[0m│\n",
       "│\u001b[2m                                     \u001b[0m│\u001b[2m \u001b[0m\u001b[2mthis, you could add an option for  \u001b[0m\u001b[2m \u001b[0m│\u001b[2m                                     \u001b[0m│\n",
       "│\u001b[2m                                     \u001b[0m│\u001b[2m \u001b[0m\u001b[2musers who may not have a positive  \u001b[0m\u001b[2m \u001b[0m│\u001b[2m                                     \u001b[0m│\n",
       "│\u001b[2m                                     \u001b[0m│\u001b[2m \u001b[0m\u001b[2mexperience, such as \"If you don't  \u001b[0m\u001b[2m \u001b[0m│\u001b[2m                                     \u001b[0m│\n",
       "│\u001b[2m                                     \u001b[0m│\u001b[2m \u001b[0m\u001b[2mlike anything about our online     \u001b[0m\u001b[2m \u001b[0m│\u001b[2m                                     \u001b[0m│\n",
       "│\u001b[2m                                     \u001b[0m│\u001b[2m \u001b[0m\u001b[2mmarketplace, please explain why.\"  \u001b[0m\u001b[2m \u001b[0m│\u001b[2m                                     \u001b[0m│\n",
       "│\u001b[2m                                     \u001b[0m│\u001b[2m \u001b[0m\u001b[2m                                   \u001b[0m\u001b[2m \u001b[0m│\u001b[2m                                     \u001b[0m│\n",
       "│\u001b[2m                                     \u001b[0m│\u001b[2m \u001b[0m\u001b[2m2. **Open-Ended Nature**: While    \u001b[0m\u001b[2m \u001b[0m│\u001b[2m                                     \u001b[0m│\n",
       "│\u001b[2m                                     \u001b[0m│\u001b[2m \u001b[0m\u001b[2mopen-ended questions can provide   \u001b[0m\u001b[2m \u001b[0m│\u001b[2m                                     \u001b[0m│\n",
       "│\u001b[2m                                     \u001b[0m│\u001b[2m \u001b[0m\u001b[2mvaluable qualitative data, they can\u001b[0m\u001b[2m \u001b[0m│\u001b[2m                                     \u001b[0m│\n",
       "│\u001b[2m                                     \u001b[0m│\u001b[2m \u001b[0m\u001b[2malso be more challenging to analyze\u001b[0m\u001b[2m \u001b[0m│\u001b[2m                                     \u001b[0m│\n",
       "│\u001b[2m                                     \u001b[0m│\u001b[2m \u001b[0m\u001b[2msystematically. Depending on the   \u001b[0m\u001b[2m \u001b[0m│\u001b[2m                                     \u001b[0m│\n",
       "│\u001b[2m                                     \u001b[0m│\u001b[2m \u001b[0m\u001b[2mgoals of your survey, you might    \u001b[0m\u001b[2m \u001b[0m│\u001b[2m                                     \u001b[0m│\n",
       "│\u001b[2m                                     \u001b[0m│\u001b[2m \u001b[0m\u001b[2mwant to include some               \u001b[0m\u001b[2m \u001b[0m│\u001b[2m                                     \u001b[0m│\n",
       "│\u001b[2m                                     \u001b[0m│\u001b[2m \u001b[0m\u001b[2mmultiple-choice options or         \u001b[0m\u001b[2m \u001b[0m│\u001b[2m                                     \u001b[0m│\n",
       "│\u001b[2m                                     \u001b[0m│\u001b[2m \u001b[0m\u001b[2mfollow-up questions to gather more \u001b[0m\u001b[2m \u001b[0m│\u001b[2m                                     \u001b[0m│\n",
       "│\u001b[2m                                     \u001b[0m│\u001b[2m \u001b[0m\u001b[2mspecific feedback.                 \u001b[0m\u001b[2m \u001b[0m│\u001b[2m                                     \u001b[0m│\n",
       "│\u001b[2m                                     \u001b[0m│\u001b[2m \u001b[0m\u001b[2m                                   \u001b[0m\u001b[2m \u001b[0m│\u001b[2m                                     \u001b[0m│\n",
       "│\u001b[2m                                     \u001b[0m│\u001b[2m \u001b[0m\u001b[2mHere’s a revised version that      \u001b[0m\u001b[2m \u001b[0m│\u001b[2m                                     \u001b[0m│\n",
       "│\u001b[2m                                     \u001b[0m│\u001b[2m \u001b[0m\u001b[2maddresses these issues:            \u001b[0m\u001b[2m \u001b[0m│\u001b[2m                                     \u001b[0m│\n",
       "│\u001b[2m                                     \u001b[0m│\u001b[2m \u001b[0m\u001b[2m\"What aspects of our online        \u001b[0m\u001b[2m \u001b[0m│\u001b[2m                                     \u001b[0m│\n",
       "│\u001b[2m                                     \u001b[0m│\u001b[2m \u001b[0m\u001b[2mmarketplace do you find most and   \u001b[0m\u001b[2m \u001b[0m│\u001b[2m                                     \u001b[0m│\n",
       "│\u001b[2m                                     \u001b[0m│\u001b[2m \u001b[0m\u001b[2mleast appealing? Please provide    \u001b[0m\u001b[2m \u001b[0m│\u001b[2m                                     \u001b[0m│\n",
       "│\u001b[2m                                     \u001b[0m│\u001b[2m \u001b[0m\u001b[2mspecific examples.\"                \u001b[0m\u001b[2m \u001b[0m│\u001b[2m                                     \u001b[0m│\n",
       "├─────────────────────────────────────┼─────────────────────────────────────┼─────────────────────────────────────┤\n",
       "│\u001b[2m \u001b[0m\u001b[2mHow do you feel about the current  \u001b[0m\u001b[2m \u001b[0m│\u001b[2m \u001b[0m\u001b[2mThe survey question \"How do you    \u001b[0m\u001b[2m \u001b[0m│\u001b[2m \u001b[0m\u001b[2mOn a scale of 1 to 5, how satisfied\u001b[0m\u001b[2m \u001b[0m│\n",
       "│\u001b[2m \u001b[0m\u001b[2mproduct search and filtering       \u001b[0m\u001b[2m \u001b[0m│\u001b[2m \u001b[0m\u001b[2mfeel about the current product     \u001b[0m\u001b[2m \u001b[0m│\u001b[2m \u001b[0m\u001b[2mare you with the ease of use of the\u001b[0m\u001b[2m \u001b[0m│\n",
       "│\u001b[2m \u001b[0m\u001b[2moptions?                           \u001b[0m\u001b[2m \u001b[0m│\u001b[2m \u001b[0m\u001b[2msearch and filtering options?\" is  \u001b[0m\u001b[2m \u001b[0m│\u001b[2m \u001b[0m\u001b[2mcurrent product search options?    \u001b[0m\u001b[2m \u001b[0m│\n",
       "│\u001b[2m                                     \u001b[0m│\u001b[2m \u001b[0m\u001b[2mgenerally clear, but there could be\u001b[0m\u001b[2m \u001b[0m│\u001b[2m                                     \u001b[0m│\n",
       "│\u001b[2m                                     \u001b[0m│\u001b[2m \u001b[0m\u001b[2ma few improvements:                \u001b[0m\u001b[2m \u001b[0m│\u001b[2m                                     \u001b[0m│\n",
       "│\u001b[2m                                     \u001b[0m│\u001b[2m \u001b[0m\u001b[2m                                   \u001b[0m\u001b[2m \u001b[0m│\u001b[2m                                     \u001b[0m│\n",
       "│\u001b[2m                                     \u001b[0m│\u001b[2m \u001b[0m\u001b[2m1. **Ambiguity**: The question is  \u001b[0m\u001b[2m \u001b[0m│\u001b[2m                                     \u001b[0m│\n",
       "│\u001b[2m                                     \u001b[0m│\u001b[2m \u001b[0m\u001b[2msomewhat broad and may result in   \u001b[0m\u001b[2m \u001b[0m│\u001b[2m                                     \u001b[0m│\n",
       "│\u001b[2m                                     \u001b[0m│\u001b[2m \u001b[0m\u001b[2mvaried interpretations. Respondents\u001b[0m\u001b[2m \u001b[0m│\u001b[2m                                     \u001b[0m│\n",
       "│\u001b[2m                                     \u001b[0m│\u001b[2m \u001b[0m\u001b[2mmight focus on different aspects of\u001b[0m\u001b[2m \u001b[0m│\u001b[2m                                     \u001b[0m│\n",
       "│\u001b[2m                                     \u001b[0m│\u001b[2m \u001b[0m\u001b[2mthe search and filtering options,  \u001b[0m\u001b[2m \u001b[0m│\u001b[2m                                     \u001b[0m│\n",
       "│\u001b[2m                                     \u001b[0m│\u001b[2m \u001b[0m\u001b[2msuch as usability, effectiveness,  \u001b[0m\u001b[2m \u001b[0m│\u001b[2m                                     \u001b[0m│\n",
       "│\u001b[2m                                     \u001b[0m│\u001b[2m \u001b[0m\u001b[2mspeed, or interface design.        \u001b[0m\u001b[2m \u001b[0m│\u001b[2m                                     \u001b[0m│\n",
       "│\u001b[2m                                     \u001b[0m│\u001b[2m \u001b[0m\u001b[2m                                   \u001b[0m\u001b[2m \u001b[0m│\u001b[2m                                     \u001b[0m│\n",
       "│\u001b[2m                                     \u001b[0m│\u001b[2m \u001b[0m\u001b[2m2. **Specificity**: It might be    \u001b[0m\u001b[2m \u001b[0m│\u001b[2m                                     \u001b[0m│\n",
       "│\u001b[2m                                     \u001b[0m│\u001b[2m \u001b[0m\u001b[2mbeneficial to break this question  \u001b[0m\u001b[2m \u001b[0m│\u001b[2m                                     \u001b[0m│\n",
       "│\u001b[2m                                     \u001b[0m│\u001b[2m \u001b[0m\u001b[2mdown into more specific components \u001b[0m\u001b[2m \u001b[0m│\u001b[2m                                     \u001b[0m│\n",
       "│\u001b[2m                                     \u001b[0m│\u001b[2m \u001b[0m\u001b[2mto get more targeted feedback. For \u001b[0m\u001b[2m \u001b[0m│\u001b[2m                                     \u001b[0m│\n",
       "│\u001b[2m                                     \u001b[0m│\u001b[2m \u001b[0m\u001b[2mexample:                           \u001b[0m\u001b[2m \u001b[0m│\u001b[2m                                     \u001b[0m│\n",
       "│\u001b[2m                                     \u001b[0m│\u001b[2m \u001b[0m\u001b[2m   - \"How satisfied are you with   \u001b[0m\u001b[2m \u001b[0m│\u001b[2m                                     \u001b[0m│\n",
       "│\u001b[2m                                     \u001b[0m│\u001b[2m \u001b[0m\u001b[2mthe ease of use of the product     \u001b[0m\u001b[2m \u001b[0m│\u001b[2m                                     \u001b[0m│\n",
       "│\u001b[2m                                     \u001b[0m│\u001b[2m \u001b[0m\u001b[2msearch options?\"                   \u001b[0m\u001b[2m \u001b[0m│\u001b[2m                                     \u001b[0m│\n",
       "│\u001b[2m                                     \u001b[0m│\u001b[2m \u001b[0m\u001b[2m   - \"How effective do you find the\u001b[0m\u001b[2m \u001b[0m│\u001b[2m                                     \u001b[0m│\n",
       "│\u001b[2m                                     \u001b[0m│\u001b[2m \u001b[0m\u001b[2mfiltering options in narrowing down\u001b[0m\u001b[2m \u001b[0m│\u001b[2m                                     \u001b[0m│\n",
       "│\u001b[2m                                     \u001b[0m│\u001b[2m \u001b[0m\u001b[2myour search results?\"              \u001b[0m\u001b[2m \u001b[0m│\u001b[2m                                     \u001b[0m│\n",
       "│\u001b[2m                                     \u001b[0m│\u001b[2m \u001b[0m\u001b[2m                                   \u001b[0m\u001b[2m \u001b[0m│\u001b[2m                                     \u001b[0m│\n",
       "│\u001b[2m                                     \u001b[0m│\u001b[2m \u001b[0m\u001b[2m3. **Response Format**: The        \u001b[0m\u001b[2m \u001b[0m│\u001b[2m                                     \u001b[0m│\n",
       "│\u001b[2m                                     \u001b[0m│\u001b[2m \u001b[0m\u001b[2mquestion does not specify how      \u001b[0m\u001b[2m \u001b[0m│\u001b[2m                                     \u001b[0m│\n",
       "│\u001b[2m                                     \u001b[0m│\u001b[2m \u001b[0m\u001b[2mrespondents should answer.         \u001b[0m\u001b[2m \u001b[0m│\u001b[2m                                     \u001b[0m│\n",
       "│\u001b[2m                                     \u001b[0m│\u001b[2m \u001b[0m\u001b[2mProviding a scale or               \u001b[0m\u001b[2m \u001b[0m│\u001b[2m                                     \u001b[0m│\n",
       "│\u001b[2m                                     \u001b[0m│\u001b[2m \u001b[0m\u001b[2mmultiple-choice options could help \u001b[0m\u001b[2m \u001b[0m│\u001b[2m                                     \u001b[0m│\n",
       "│\u001b[2m                                     \u001b[0m│\u001b[2m \u001b[0m\u001b[2min quantifying the feedback. For   \u001b[0m\u001b[2m \u001b[0m│\u001b[2m                                     \u001b[0m│\n",
       "│\u001b[2m                                     \u001b[0m│\u001b[2m \u001b[0m\u001b[2mexample:                           \u001b[0m\u001b[2m \u001b[0m│\u001b[2m                                     \u001b[0m│\n",
       "│\u001b[2m                                     \u001b[0m│\u001b[2m \u001b[0m\u001b[2m   - \"On a scale of 1 to 5, how    \u001b[0m\u001b[2m \u001b[0m│\u001b[2m                                     \u001b[0m│\n",
       "│\u001b[2m                                     \u001b[0m│\u001b[2m \u001b[0m\u001b[2msatisfied are you with the current \u001b[0m\u001b[2m \u001b[0m│\u001b[2m                                     \u001b[0m│\n",
       "│\u001b[2m                                     \u001b[0m│\u001b[2m \u001b[0m\u001b[2mproduct search options?\"           \u001b[0m\u001b[2m \u001b[0m│\u001b[2m                                     \u001b[0m│\n",
       "│\u001b[2m                                     \u001b[0m│\u001b[2m \u001b[0m\u001b[2m   - \"Which of the following best  \u001b[0m\u001b[2m \u001b[0m│\u001b[2m                                     \u001b[0m│\n",
       "│\u001b[2m                                     \u001b[0m│\u001b[2m \u001b[0m\u001b[2mdescribes your feelings about the  \u001b[0m\u001b[2m \u001b[0m│\u001b[2m                                     \u001b[0m│\n",
       "│\u001b[2m                                     \u001b[0m│\u001b[2m \u001b[0m\u001b[2mcurrent filtering options? (Very   \u001b[0m\u001b[2m \u001b[0m│\u001b[2m                                     \u001b[0m│\n",
       "│\u001b[2m                                     \u001b[0m│\u001b[2m \u001b[0m\u001b[2msatisfied, Satisfied, Neutral,     \u001b[0m\u001b[2m \u001b[0m│\u001b[2m                                     \u001b[0m│\n",
       "│\u001b[2m                                     \u001b[0m│\u001b[2m \u001b[0m\u001b[2mDissatisfied, Very dissatisfied)\"  \u001b[0m\u001b[2m \u001b[0m│\u001b[2m                                     \u001b[0m│\n",
       "├─────────────────────────────────────┼─────────────────────────────────────┼─────────────────────────────────────┤\n",
       "│\u001b[2m \u001b[0m\u001b[2mIs there anything else you would   \u001b[0m\u001b[2m \u001b[0m│\u001b[2m \u001b[0m\u001b[2mThe survey question \"Is there      \u001b[0m\u001b[2m \u001b[0m│\u001b[2m \u001b[0m\u001b[2mDo you have any additional feedback\u001b[0m\u001b[2m \u001b[0m│\n",
       "│\u001b[2m \u001b[0m\u001b[2mlike to share about your experience\u001b[0m\u001b[2m \u001b[0m│\u001b[2m \u001b[0m\u001b[2manything else you would like to    \u001b[0m\u001b[2m \u001b[0m│\u001b[2m \u001b[0m\u001b[2mabout your experience with us?     \u001b[0m\u001b[2m \u001b[0m│\n",
       "│\u001b[2m \u001b[0m\u001b[2mwith us?                           \u001b[0m\u001b[2m \u001b[0m│\u001b[2m \u001b[0m\u001b[2mshare about your experience with   \u001b[0m\u001b[2m \u001b[0m│\u001b[2m                                     \u001b[0m│\n",
       "│\u001b[2m                                     \u001b[0m│\u001b[2m \u001b[0m\u001b[2mus?\" is clear and straightforward, \u001b[0m\u001b[2m \u001b[0m│\u001b[2m                                     \u001b[0m│\n",
       "│\u001b[2m                                     \u001b[0m│\u001b[2m \u001b[0m\u001b[2mbut there are a few potential areas\u001b[0m\u001b[2m \u001b[0m│\u001b[2m                                     \u001b[0m│\n",
       "│\u001b[2m                                     \u001b[0m│\u001b[2m \u001b[0m\u001b[2mfor improvement:                   \u001b[0m\u001b[2m \u001b[0m│\u001b[2m                                     \u001b[0m│\n",
       "│\u001b[2m                                     \u001b[0m│\u001b[2m \u001b[0m\u001b[2m                                   \u001b[0m\u001b[2m \u001b[0m│\u001b[2m                                     \u001b[0m│\n",
       "│\u001b[2m                                     \u001b[0m│\u001b[2m \u001b[0m\u001b[2m1. **Open-Ended Nature**: While    \u001b[0m\u001b[2m \u001b[0m│\u001b[2m                                     \u001b[0m│\n",
       "│\u001b[2m                                     \u001b[0m│\u001b[2m \u001b[0m\u001b[2mopen-ended questions can provide   \u001b[0m\u001b[2m \u001b[0m│\u001b[2m                                     \u001b[0m│\n",
       "│\u001b[2m                                     \u001b[0m│\u001b[2m \u001b[0m\u001b[2mvaluable insights, they can also be\u001b[0m\u001b[2m \u001b[0m│\u001b[2m                                     \u001b[0m│\n",
       "│\u001b[2m                                     \u001b[0m│\u001b[2m \u001b[0m\u001b[2mdifficult to analyze               \u001b[0m\u001b[2m \u001b[0m│\u001b[2m                                     \u001b[0m│\n",
       "│\u001b[2m                                     \u001b[0m│\u001b[2m \u001b[0m\u001b[2mquantitatively. Depending on the   \u001b[0m\u001b[2m \u001b[0m│\u001b[2m                                     \u001b[0m│\n",
       "│\u001b[2m                                     \u001b[0m│\u001b[2m \u001b[0m\u001b[2msurvey's goals, you might want to  \u001b[0m\u001b[2m \u001b[0m│\u001b[2m                                     \u001b[0m│\n",
       "│\u001b[2m                                     \u001b[0m│\u001b[2m \u001b[0m\u001b[2mfollow up with more specific       \u001b[0m\u001b[2m \u001b[0m│\u001b[2m                                     \u001b[0m│\n",
       "│\u001b[2m                                     \u001b[0m│\u001b[2m \u001b[0m\u001b[2mquestions or provide categories for\u001b[0m\u001b[2m \u001b[0m│\u001b[2m                                     \u001b[0m│\n",
       "│\u001b[2m                                     \u001b[0m│\u001b[2m \u001b[0m\u001b[2mfeedback.                          \u001b[0m\u001b[2m \u001b[0m│\u001b[2m                                     \u001b[0m│\n",
       "│\u001b[2m                                     \u001b[0m│\u001b[2m \u001b[0m\u001b[2m                                   \u001b[0m\u001b[2m \u001b[0m│\u001b[2m                                     \u001b[0m│\n",
       "│\u001b[2m                                     \u001b[0m│\u001b[2m \u001b[0m\u001b[2m2. **Ambiguity**: The term         \u001b[0m\u001b[2m \u001b[0m│\u001b[2m                                     \u001b[0m│\n",
       "│\u001b[2m                                     \u001b[0m│\u001b[2m \u001b[0m\u001b[2m\"experience\" is broad. If you want \u001b[0m\u001b[2m \u001b[0m│\u001b[2m                                     \u001b[0m│\n",
       "│\u001b[2m                                     \u001b[0m│\u001b[2m \u001b[0m\u001b[2mmore targeted feedback, you could  \u001b[0m\u001b[2m \u001b[0m│\u001b[2m                                     \u001b[0m│\n",
       "│\u001b[2m                                     \u001b[0m│\u001b[2m \u001b[0m\u001b[2mspecify which aspect of the        \u001b[0m\u001b[2m \u001b[0m│\u001b[2m                                     \u001b[0m│\n",
       "│\u001b[2m                                     \u001b[0m│\u001b[2m \u001b[0m\u001b[2mexperience you're interested in    \u001b[0m\u001b[2m \u001b[0m│\u001b[2m                                     \u001b[0m│\n",
       "│\u001b[2m                                     \u001b[0m│\u001b[2m \u001b[0m\u001b[2m(e.g., customer service, product   \u001b[0m\u001b[2m \u001b[0m│\u001b[2m                                     \u001b[0m│\n",
       "│\u001b[2m                                     \u001b[0m│\u001b[2m \u001b[0m\u001b[2mquality, etc.).                    \u001b[0m\u001b[2m \u001b[0m│\u001b[2m                                     \u001b[0m│\n",
       "│\u001b[2m                                     \u001b[0m│\u001b[2m \u001b[0m\u001b[2m                                   \u001b[0m\u001b[2m \u001b[0m│\u001b[2m                                     \u001b[0m│\n",
       "│\u001b[2m                                     \u001b[0m│\u001b[2m \u001b[0m\u001b[2m3. **Politeness**: The question is \u001b[0m\u001b[2m \u001b[0m│\u001b[2m                                     \u001b[0m│\n",
       "│\u001b[2m                                     \u001b[0m│\u001b[2m \u001b[0m\u001b[2mpolite, but adding a \"please\" could\u001b[0m\u001b[2m \u001b[0m│\u001b[2m                                     \u001b[0m│\n",
       "│\u001b[2m                                     \u001b[0m│\u001b[2m \u001b[0m\u001b[2mmake it sound even more courteous. \u001b[0m\u001b[2m \u001b[0m│\u001b[2m                                     \u001b[0m│\n",
       "│\u001b[2m                                     \u001b[0m│\u001b[2m \u001b[0m\u001b[2mFor example, \"Is there anything    \u001b[0m\u001b[2m \u001b[0m│\u001b[2m                                     \u001b[0m│\n",
       "│\u001b[2m                                     \u001b[0m│\u001b[2m \u001b[0m\u001b[2melse you would like to share about \u001b[0m\u001b[2m \u001b[0m│\u001b[2m                                     \u001b[0m│\n",
       "│\u001b[2m                                     \u001b[0m│\u001b[2m \u001b[0m\u001b[2myour experience with us, please?\"  \u001b[0m\u001b[2m \u001b[0m│\u001b[2m                                     \u001b[0m│\n",
       "│\u001b[2m                                     \u001b[0m│\u001b[2m \u001b[0m\u001b[2m                                   \u001b[0m\u001b[2m \u001b[0m│\u001b[2m                                     \u001b[0m│\n",
       "│\u001b[2m                                     \u001b[0m│\u001b[2m \u001b[0m\u001b[2m4. **Length and Complexity**: The  \u001b[0m\u001b[2m \u001b[0m│\u001b[2m                                     \u001b[0m│\n",
       "│\u001b[2m                                     \u001b[0m│\u001b[2m \u001b[0m\u001b[2mquestion is already simple, but you\u001b[0m\u001b[2m \u001b[0m│\u001b[2m                                     \u001b[0m│\n",
       "│\u001b[2m                                     \u001b[0m│\u001b[2m \u001b[0m\u001b[2mcould make it even more concise    \u001b[0m\u001b[2m \u001b[0m│\u001b[2m                                     \u001b[0m│\n",
       "│\u001b[2m                                     \u001b[0m│\u001b[2m \u001b[0m\u001b[2mwithout losing meaning. For        \u001b[0m\u001b[2m \u001b[0m│\u001b[2m                                     \u001b[0m│\n",
       "│\u001b[2m                                     \u001b[0m│\u001b[2m \u001b[0m\u001b[2mexample, \"Do you have any          \u001b[0m\u001b[2m \u001b[0m│\u001b[2m                                     \u001b[0m│\n",
       "│\u001b[2m                                     \u001b[0m│\u001b[2m \u001b[0m\u001b[2madditional feedback about your     \u001b[0m\u001b[2m \u001b[0m│\u001b[2m                                     \u001b[0m│\n",
       "│\u001b[2m                                     \u001b[0m│\u001b[2m \u001b[0m\u001b[2mexperience with us?\"               \u001b[0m\u001b[2m \u001b[0m│\u001b[2m                                     \u001b[0m│\n",
       "├─────────────────────────────────────┼─────────────────────────────────────┼─────────────────────────────────────┤\n",
       "│\u001b[2m \u001b[0m\u001b[2mCan you describe a recent          \u001b[0m\u001b[2m \u001b[0m│\u001b[2m \u001b[0m\u001b[2mThe survey question \"Can you       \u001b[0m\u001b[2m \u001b[0m│\u001b[2m \u001b[0m\u001b[2mCould you please describe any      \u001b[0m\u001b[2m \u001b[0m│\n",
       "│\u001b[2m \u001b[0m\u001b[2mexperience where you were          \u001b[0m\u001b[2m \u001b[0m│\u001b[2m \u001b[0m\u001b[2mdescribe a recent experience where \u001b[0m\u001b[2m \u001b[0m│\u001b[2m \u001b[0m\u001b[2mrecent experiences, within the last\u001b[0m\u001b[2m \u001b[0m│\n",
       "│\u001b[2m \u001b[0m\u001b[2mdissatisfied with our service?     \u001b[0m\u001b[2m \u001b[0m│\u001b[2m \u001b[0m\u001b[2myou were dissatisfied with our     \u001b[0m\u001b[2m \u001b[0m│\u001b[2m \u001b[0m\u001b[2mmonth, where you were either       \u001b[0m\u001b[2m \u001b[0m│\n",
       "│\u001b[2m                                     \u001b[0m│\u001b[2m \u001b[0m\u001b[2mservice?\" is generally clear and   \u001b[0m\u001b[2m \u001b[0m│\u001b[2m \u001b[0m\u001b[2msatisfied or dissatisfied with our \u001b[0m\u001b[2m \u001b[0m│\n",
       "│\u001b[2m                                     \u001b[0m│\u001b[2m \u001b[0m\u001b[2mdirect, but there are a few        \u001b[0m\u001b[2m \u001b[0m│\u001b[2m \u001b[0m\u001b[2mservice?                           \u001b[0m\u001b[2m \u001b[0m│\n",
       "│\u001b[2m                                     \u001b[0m│\u001b[2m \u001b[0m\u001b[2mpotential issues to consider:      \u001b[0m\u001b[2m \u001b[0m│\u001b[2m                                     \u001b[0m│\n",
       "│\u001b[2m                                     \u001b[0m│\u001b[2m \u001b[0m\u001b[2m                                   \u001b[0m\u001b[2m \u001b[0m│\u001b[2m                                     \u001b[0m│\n",
       "│\u001b[2m                                     \u001b[0m│\u001b[2m \u001b[0m\u001b[2m1. **Negative Bias**: The question \u001b[0m\u001b[2m \u001b[0m│\u001b[2m                                     \u001b[0m│\n",
       "│\u001b[2m                                     \u001b[0m│\u001b[2m \u001b[0m\u001b[2massumes that the respondent had a  \u001b[0m\u001b[2m \u001b[0m│\u001b[2m                                     \u001b[0m│\n",
       "│\u001b[2m                                     \u001b[0m│\u001b[2m \u001b[0m\u001b[2mrecent experience that was         \u001b[0m\u001b[2m \u001b[0m│\u001b[2m                                     \u001b[0m│\n",
       "│\u001b[2m                                     \u001b[0m│\u001b[2m \u001b[0m\u001b[2mdissatisfactory. This can introduce\u001b[0m\u001b[2m \u001b[0m│\u001b[2m                                     \u001b[0m│\n",
       "│\u001b[2m                                     \u001b[0m│\u001b[2m \u001b[0m\u001b[2ma negative bias and might not      \u001b[0m\u001b[2m \u001b[0m│\u001b[2m                                     \u001b[0m│\n",
       "│\u001b[2m                                     \u001b[0m│\u001b[2m \u001b[0m\u001b[2mcapture the full range of customer \u001b[0m\u001b[2m \u001b[0m│\u001b[2m                                     \u001b[0m│\n",
       "│\u001b[2m                                     \u001b[0m│\u001b[2m \u001b[0m\u001b[2mexperiences.                       \u001b[0m\u001b[2m \u001b[0m│\u001b[2m                                     \u001b[0m│\n",
       "│\u001b[2m                                     \u001b[0m│\u001b[2m \u001b[0m\u001b[2m                                   \u001b[0m\u001b[2m \u001b[0m│\u001b[2m                                     \u001b[0m│\n",
       "│\u001b[2m                                     \u001b[0m│\u001b[2m \u001b[0m\u001b[2m2. **Open-Ended Nature**: While    \u001b[0m\u001b[2m \u001b[0m│\u001b[2m                                     \u001b[0m│\n",
       "│\u001b[2m                                     \u001b[0m│\u001b[2m \u001b[0m\u001b[2mopen-ended questions can provide   \u001b[0m\u001b[2m \u001b[0m│\u001b[2m                                     \u001b[0m│\n",
       "│\u001b[2m                                     \u001b[0m│\u001b[2m \u001b[0m\u001b[2mdetailed insights, they may also   \u001b[0m\u001b[2m \u001b[0m│\u001b[2m                                     \u001b[0m│\n",
       "│\u001b[2m                                     \u001b[0m│\u001b[2m \u001b[0m\u001b[2mresult in varied and lengthy       \u001b[0m\u001b[2m \u001b[0m│\u001b[2m                                     \u001b[0m│\n",
       "│\u001b[2m                                     \u001b[0m│\u001b[2m \u001b[0m\u001b[2mresponses that can be difficult to \u001b[0m\u001b[2m \u001b[0m│\u001b[2m                                     \u001b[0m│\n",
       "│\u001b[2m                                     \u001b[0m│\u001b[2m \u001b[0m\u001b[2manalyze systematically.            \u001b[0m\u001b[2m \u001b[0m│\u001b[2m                                     \u001b[0m│\n",
       "│\u001b[2m                                     \u001b[0m│\u001b[2m \u001b[0m\u001b[2m                                   \u001b[0m\u001b[2m \u001b[0m│\u001b[2m                                     \u001b[0m│\n",
       "│\u001b[2m                                     \u001b[0m│\u001b[2m \u001b[0m\u001b[2m3. **Specificity**: The term       \u001b[0m\u001b[2m \u001b[0m│\u001b[2m                                     \u001b[0m│\n",
       "│\u001b[2m                                     \u001b[0m│\u001b[2m \u001b[0m\u001b[2m\"recent\" is subjective and can vary\u001b[0m\u001b[2m \u001b[0m│\u001b[2m                                     \u001b[0m│\n",
       "│\u001b[2m                                     \u001b[0m│\u001b[2m \u001b[0m\u001b[2mfrom one respondent to another. It \u001b[0m\u001b[2m \u001b[0m│\u001b[2m                                     \u001b[0m│\n",
       "│\u001b[2m                                     \u001b[0m│\u001b[2m \u001b[0m\u001b[2mmight be helpful to define what you\u001b[0m\u001b[2m \u001b[0m│\u001b[2m                                     \u001b[0m│\n",
       "│\u001b[2m                                     \u001b[0m│\u001b[2m \u001b[0m\u001b[2mmean by \"recent\" (e.g., within the \u001b[0m\u001b[2m \u001b[0m│\u001b[2m                                     \u001b[0m│\n",
       "│\u001b[2m                                     \u001b[0m│\u001b[2m \u001b[0m\u001b[2mlast month).                       \u001b[0m\u001b[2m \u001b[0m│\u001b[2m                                     \u001b[0m│\n",
       "│\u001b[2m                                     \u001b[0m│\u001b[2m \u001b[0m\u001b[2m                                   \u001b[0m\u001b[2m \u001b[0m│\u001b[2m                                     \u001b[0m│\n",
       "│\u001b[2m                                     \u001b[0m│\u001b[2m \u001b[0m\u001b[2m4. **Leading Question**: The       \u001b[0m\u001b[2m \u001b[0m│\u001b[2m                                     \u001b[0m│\n",
       "│\u001b[2m                                     \u001b[0m│\u001b[2m \u001b[0m\u001b[2mquestion might lead respondents to \u001b[0m\u001b[2m \u001b[0m│\u001b[2m                                     \u001b[0m│\n",
       "│\u001b[2m                                     \u001b[0m│\u001b[2m \u001b[0m\u001b[2mfocus on negative experiences. A   \u001b[0m\u001b[2m \u001b[0m│\u001b[2m                                     \u001b[0m│\n",
       "│\u001b[2m                                     \u001b[0m│\u001b[2m \u001b[0m\u001b[2mmore balanced approach could be to \u001b[0m\u001b[2m \u001b[0m│\u001b[2m                                     \u001b[0m│\n",
       "│\u001b[2m                                     \u001b[0m│\u001b[2m \u001b[0m\u001b[2mask about both positive and        \u001b[0m\u001b[2m \u001b[0m│\u001b[2m                                     \u001b[0m│\n",
       "│\u001b[2m                                     \u001b[0m│\u001b[2m \u001b[0m\u001b[2mnegative experiences.              \u001b[0m\u001b[2m \u001b[0m│\u001b[2m                                     \u001b[0m│\n",
       "└─────────────────────────────────────┴─────────────────────────────────────┴─────────────────────────────────────┘\n"
      ]
     },
     "metadata": {},
     "output_type": "display_data"
    }
   ],
   "source": [
    "results.select(\"question\", \"logic\", \"improved\").print(format=\"rich\")"
   ]
  },
  {
   "cell_type": "markdown",
   "id": "c3600745-b0d5-46c2-96b6-fcce28e2672a",
   "metadata": {},
   "source": [
    "[Learn more about working with results](https://docs.expectedparrot.com/en/latest/results.html)."
   ]
  },
  {
   "cell_type": "markdown",
   "id": "6b2fbf86-b028-481a-880d-afd4db83a6d9",
   "metadata": {},
   "source": [
    "## Evaluating respondents' collective answers\n",
    "Next we can create a `ScenarioList` for each respondent's answers to use with our question about sentiment:"
   ]
  },
  {
   "cell_type": "code",
   "execution_count": 15,
   "id": "18f7b68d-e1ad-4942-a69c-ed81e2b72e73",
   "metadata": {},
   "outputs": [
    {
     "data": {
      "text/html": [
       "<div class=\"highlight\"><pre><span></span><span class=\"p\">{</span>\n",
       "<span class=\"w\">    </span><span class=\"nt\">&quot;scenarios&quot;</span><span class=\"p\">:</span><span class=\"w\"> </span><span class=\"p\">[</span>\n",
       "<span class=\"w\">        </span><span class=\"p\">{</span>\n",
       "<span class=\"w\">            </span><span class=\"nt\">&quot;responses&quot;</span><span class=\"p\">:</span><span class=\"w\"> </span><span class=\"p\">{</span>\n",
       "<span class=\"w\">                </span><span class=\"nt\">&quot;Respondent ID&quot;</span><span class=\"p\">:</span><span class=\"w\"> </span><span class=\"s2\">&quot;101&quot;</span><span class=\"p\">,</span>\n",
       "<span class=\"w\">                </span><span class=\"nt\">&quot;What do you like most about using our online marketplace?&quot;</span><span class=\"p\">:</span><span class=\"w\"> </span><span class=\"s2\">&quot;The wide variety of products and the ease of use.&quot;</span><span class=\"p\">,</span>\n",
       "<span class=\"w\">                </span><span class=\"nt\">&quot;What is one feature you would like to see added to improve your shopping experience?&quot;</span><span class=\"p\">:</span><span class=\"w\"> </span><span class=\"s2\">&quot;It would be great to have a personalized recommendation system based on my browsing history.&quot;</span><span class=\"p\">,</span>\n",
       "<span class=\"w\">                </span><span class=\"nt\">&quot;Can you describe a recent experience where you were dissatisfied with our service?&quot;</span><span class=\"p\">:</span><span class=\"w\"> </span><span class=\"s2\">&quot;I was disappointed when an item I ordered arrived damaged, but customer service quickly resolved it.&quot;</span><span class=\"p\">,</span>\n",
       "<span class=\"w\">                </span><span class=\"nt\">&quot;How do you feel about the current product search and filtering options?&quot;</span><span class=\"p\">:</span><span class=\"w\"> </span><span class=\"s2\">&quot;The search and filtering options are intuitive and work well for me.&quot;</span><span class=\"p\">,</span>\n",
       "<span class=\"w\">                </span><span class=\"nt\">&quot;Is there anything else you would like to share about your experience with us?&quot;</span><span class=\"p\">:</span><span class=\"w\"> </span><span class=\"s2\">&quot;No, keep up the great work!&quot;</span><span class=\"p\">,</span>\n",
       "<span class=\"w\">                </span><span class=\"nt\">&quot;edsl_version&quot;</span><span class=\"p\">:</span><span class=\"w\"> </span><span class=\"s2\">&quot;0.1.33.dev1&quot;</span><span class=\"p\">,</span>\n",
       "<span class=\"w\">                </span><span class=\"nt\">&quot;edsl_class_name&quot;</span><span class=\"p\">:</span><span class=\"w\"> </span><span class=\"s2\">&quot;Scenario&quot;</span>\n",
       "<span class=\"w\">            </span><span class=\"p\">}</span>\n",
       "<span class=\"w\">        </span><span class=\"p\">},</span>\n",
       "<span class=\"w\">        </span><span class=\"p\">{</span>\n",
       "<span class=\"w\">            </span><span class=\"nt\">&quot;responses&quot;</span><span class=\"p\">:</span><span class=\"w\"> </span><span class=\"p\">{</span>\n",
       "<span class=\"w\">                </span><span class=\"nt\">&quot;Respondent ID&quot;</span><span class=\"p\">:</span><span class=\"w\"> </span><span class=\"s2\">&quot;102&quot;</span><span class=\"p\">,</span>\n",
       "<span class=\"w\">                </span><span class=\"nt\">&quot;What do you like most about using our online marketplace?&quot;</span><span class=\"p\">:</span><span class=\"w\"> </span><span class=\"s2\">&quot;I enjoy the simplicity of the interface.&quot;</span><span class=\"p\">,</span>\n",
       "<span class=\"w\">                </span><span class=\"nt\">&quot;What is one feature you would like to see added to improve your shopping experience?&quot;</span><span class=\"p\">:</span><span class=\"w\"> </span><span class=\"s2\">&quot;A feature that helps compare similar products side by side would be useful.&quot;</span><span class=\"p\">,</span>\n",
       "<span class=\"w\">                </span><span class=\"nt\">&quot;Can you describe a recent experience where you were dissatisfied with our service?&quot;</span><span class=\"p\">:</span><span class=\"w\"> </span><span class=\"s2\">&quot;No complaints here.&quot;</span><span class=\"p\">,</span>\n",
       "<span class=\"w\">                </span><span class=\"nt\">&quot;How do you feel about the current product search and filtering options?&quot;</span><span class=\"p\">:</span><span class=\"w\"> </span><span class=\"s2\">&quot;I find the product search to be pretty effective.&quot;</span><span class=\"p\">,</span>\n",
       "<span class=\"w\">                </span><span class=\"nt\">&quot;Is there anything else you would like to share about your experience with us?&quot;</span><span class=\"p\">:</span><span class=\"w\"> </span><span class=\"s2\">&quot;I think the sky is a beautiful shade of purple today.&quot;</span><span class=\"p\">,</span>\n",
       "<span class=\"w\">                </span><span class=\"nt\">&quot;edsl_version&quot;</span><span class=\"p\">:</span><span class=\"w\"> </span><span class=\"s2\">&quot;0.1.33.dev1&quot;</span><span class=\"p\">,</span>\n",
       "<span class=\"w\">                </span><span class=\"nt\">&quot;edsl_class_name&quot;</span><span class=\"p\">:</span><span class=\"w\"> </span><span class=\"s2\">&quot;Scenario&quot;</span>\n",
       "<span class=\"w\">            </span><span class=\"p\">}</span>\n",
       "<span class=\"w\">        </span><span class=\"p\">},</span>\n",
       "<span class=\"w\">        </span><span class=\"p\">{</span>\n",
       "<span class=\"w\">            </span><span class=\"nt\">&quot;responses&quot;</span><span class=\"p\">:</span><span class=\"w\"> </span><span class=\"p\">{</span>\n",
       "<span class=\"w\">                </span><span class=\"nt\">&quot;Respondent ID&quot;</span><span class=\"p\">:</span><span class=\"w\"> </span><span class=\"s2\">&quot;103&quot;</span><span class=\"p\">,</span>\n",
       "<span class=\"w\">                </span><span class=\"nt\">&quot;What do you like most about using our online marketplace?&quot;</span><span class=\"p\">:</span><span class=\"w\"> </span><span class=\"s2\">&quot;The platform is user-friendly and offers a vast selection of products.&quot;</span><span class=\"p\">,</span>\n",
       "<span class=\"w\">                </span><span class=\"nt\">&quot;What is one feature you would like to see added to improve your shopping experience?&quot;</span><span class=\"p\">:</span><span class=\"w\"> </span><span class=\"s2\">&quot;Would love to see an option to save and compare different products.&quot;</span><span class=\"p\">,</span>\n",
       "<span class=\"w\">                </span><span class=\"nt\">&quot;Can you describe a recent experience where you were dissatisfied with our service?&quot;</span><span class=\"p\">:</span><span class=\"w\"> </span><span class=\"s2\">&quot;My delivery was late by a few days, which was frustrating.&quot;</span><span class=\"p\">,</span>\n",
       "<span class=\"w\">                </span><span class=\"nt\">&quot;How do you feel about the current product search and filtering options?&quot;</span><span class=\"p\">:</span><span class=\"w\"> </span><span class=\"s2\">&quot;It\\u2019s okay.&quot;</span><span class=\"p\">,</span>\n",
       "<span class=\"w\">                </span><span class=\"nt\">&quot;Is there anything else you would like to share about your experience with us?&quot;</span><span class=\"p\">:</span><span class=\"w\"> </span><span class=\"s2\">&quot;No.&quot;</span><span class=\"p\">,</span>\n",
       "<span class=\"w\">                </span><span class=\"nt\">&quot;edsl_version&quot;</span><span class=\"p\">:</span><span class=\"w\"> </span><span class=\"s2\">&quot;0.1.33.dev1&quot;</span><span class=\"p\">,</span>\n",
       "<span class=\"w\">                </span><span class=\"nt\">&quot;edsl_class_name&quot;</span><span class=\"p\">:</span><span class=\"w\"> </span><span class=\"s2\">&quot;Scenario&quot;</span>\n",
       "<span class=\"w\">            </span><span class=\"p\">}</span>\n",
       "<span class=\"w\">        </span><span class=\"p\">}</span>\n",
       "<span class=\"w\">    </span><span class=\"p\">]</span>\n",
       "<span class=\"p\">}</span>\n",
       "</pre></div>\n"
      ],
      "text/plain": [
       "ScenarioList([Scenario({'responses': {'Respondent ID': '101', 'What do you like most about using our online marketplace?': 'The wide variety of products and the ease of use.', 'What is one feature you would like to see added to improve your shopping experience?': 'It would be great to have a personalized recommendation system based on my browsing history.', 'Can you describe a recent experience where you were dissatisfied with our service?': 'I was disappointed when an item I ordered arrived damaged, but customer service quickly resolved it.', 'How do you feel about the current product search and filtering options?': 'The search and filtering options are intuitive and work well for me.', 'Is there anything else you would like to share about your experience with us?': 'No, keep up the great work!', 'edsl_version': '0.1.33.dev1', 'edsl_class_name': 'Scenario'}}), Scenario({'responses': {'Respondent ID': '102', 'What do you like most about using our online marketplace?': 'I enjoy the simplicity of the interface.', 'What is one feature you would like to see added to improve your shopping experience?': 'A feature that helps compare similar products side by side would be useful.', 'Can you describe a recent experience where you were dissatisfied with our service?': 'No complaints here.', 'How do you feel about the current product search and filtering options?': 'I find the product search to be pretty effective.', 'Is there anything else you would like to share about your experience with us?': 'I think the sky is a beautiful shade of purple today.', 'edsl_version': '0.1.33.dev1', 'edsl_class_name': 'Scenario'}}), Scenario({'responses': {'Respondent ID': '103', 'What do you like most about using our online marketplace?': 'The platform is user-friendly and offers a vast selection of products.', 'What is one feature you would like to see added to improve your shopping experience?': 'Would love to see an option to save and compare different products.', 'Can you describe a recent experience where you were dissatisfied with our service?': 'My delivery was late by a few days, which was frustrating.', 'How do you feel about the current product search and filtering options?': 'It’s okay.', 'Is there anything else you would like to share about your experience with us?': 'No.', 'edsl_version': '0.1.33.dev1', 'edsl_class_name': 'Scenario'}})])"
      ]
     },
     "execution_count": 15,
     "metadata": {},
     "output_type": "execute_result"
    }
   ],
   "source": [
    "sl_responses = ScenarioList.from_list(\"responses\", sl['scenarios'])\n",
    "sl_responses"
   ]
  },
  {
   "cell_type": "markdown",
   "id": "da335730-735b-4f20-a901-48a4cadbaf1f",
   "metadata": {},
   "source": [
    "Next we add these scenarios to our sentiment question (and any others we want to add) and run it:"
   ]
  },
  {
   "cell_type": "code",
   "execution_count": 16,
   "id": "7c2a93b2-8e84-46b3-926e-c30bf0e0ce2b",
   "metadata": {},
   "outputs": [],
   "source": [
    "from edsl import QuestionMultipleChoice, QuestionLinearScale, Survey\n",
    "\n",
    "q_sentiment = QuestionMultipleChoice(\n",
    "    question_name = \"sentiment\",\n",
    "    question_text = \"What is the overall sentiment of this respondent's survey answers? {{ responses }}\",\n",
    "    question_options = [\"Very unsatisfied\", \"Somewhat unsatisfied\", \"Somewhat satisfied\", \"Very satisfied\"]\n",
    ")\n",
    "\n",
    "q_recommend = QuestionLinearScale(\n",
    "    question_name = \"recommend\",\n",
    "    question_text = \"On a scale from 1 to 5, how likely do you think this respondent is to recommend the company to a friend? {{ responses }}\",\n",
    "    question_options = [1, 2, 3, 4, 5],\n",
    "    option_labels = {1:\"Not at all likely\", 5:\"Very likely\"}\n",
    ")\n",
    "\n",
    "survey = Survey([q_sentiment, q_recommend])"
   ]
  },
  {
   "cell_type": "code",
   "execution_count": 17,
   "id": "01f51911-d4ea-4acf-9e8d-fb05d2f76e80",
   "metadata": {},
   "outputs": [],
   "source": [
    "results = survey.by(sl_responses).run()"
   ]
  },
  {
   "cell_type": "code",
   "execution_count": 18,
   "id": "826d4a2d-f75f-42e3-8734-fa1b128c212c",
   "metadata": {},
   "outputs": [
    {
     "data": {
      "text/html": [
       "<pre style=\"white-space:pre;overflow-x:auto;line-height:normal;font-family:Menlo,'DejaVu Sans Mono',consolas,'Courier New',monospace\">┏━━━━━━━━━━━━━━━━━━━━━━━━━━━━━━━━━━━━━━━━━━━━━━━━━━━━━━━━━━━━━━━━━━━━━━━━━━━━━━━┳━━━━━━━━━━━━━━━━━━━━┳━━━━━━━━━━━━┓\n",
       "┃<span style=\"color: #800080; text-decoration-color: #800080; font-weight: bold\"> scenario                                                                      </span>┃<span style=\"color: #800080; text-decoration-color: #800080; font-weight: bold\"> answer             </span>┃<span style=\"color: #800080; text-decoration-color: #800080; font-weight: bold\"> answer     </span>┃\n",
       "┃<span style=\"color: #800080; text-decoration-color: #800080; font-weight: bold\"> .responses                                                                    </span>┃<span style=\"color: #800080; text-decoration-color: #800080; font-weight: bold\"> .sentiment         </span>┃<span style=\"color: #800080; text-decoration-color: #800080; font-weight: bold\"> .recommend </span>┃\n",
       "┡━━━━━━━━━━━━━━━━━━━━━━━━━━━━━━━━━━━━━━━━━━━━━━━━━━━━━━━━━━━━━━━━━━━━━━━━━━━━━━━╇━━━━━━━━━━━━━━━━━━━━╇━━━━━━━━━━━━┩\n",
       "│<span style=\"color: #7f7f7f; text-decoration-color: #7f7f7f\"> {'Respondent ID': '101', 'What do you like most about using our online        </span>│<span style=\"color: #7f7f7f; text-decoration-color: #7f7f7f\"> Somewhat satisfied </span>│<span style=\"color: #7f7f7f; text-decoration-color: #7f7f7f\"> 4          </span>│\n",
       "│<span style=\"color: #7f7f7f; text-decoration-color: #7f7f7f\"> marketplace?': 'The wide variety of products and the ease of use.', 'What is  </span>│<span style=\"color: #7f7f7f; text-decoration-color: #7f7f7f\">                    </span>│<span style=\"color: #7f7f7f; text-decoration-color: #7f7f7f\">            </span>│\n",
       "│<span style=\"color: #7f7f7f; text-decoration-color: #7f7f7f\"> one feature you would like to see added to improve your shopping              </span>│<span style=\"color: #7f7f7f; text-decoration-color: #7f7f7f\">                    </span>│<span style=\"color: #7f7f7f; text-decoration-color: #7f7f7f\">            </span>│\n",
       "│<span style=\"color: #7f7f7f; text-decoration-color: #7f7f7f\"> experience?': 'It would be great to have a personalized recommendation system </span>│<span style=\"color: #7f7f7f; text-decoration-color: #7f7f7f\">                    </span>│<span style=\"color: #7f7f7f; text-decoration-color: #7f7f7f\">            </span>│\n",
       "│<span style=\"color: #7f7f7f; text-decoration-color: #7f7f7f\"> based on my browsing history.', 'Can you describe a recent experience where   </span>│<span style=\"color: #7f7f7f; text-decoration-color: #7f7f7f\">                    </span>│<span style=\"color: #7f7f7f; text-decoration-color: #7f7f7f\">            </span>│\n",
       "│<span style=\"color: #7f7f7f; text-decoration-color: #7f7f7f\"> you were dissatisfied with our service?': 'I was disappointed when an item I  </span>│<span style=\"color: #7f7f7f; text-decoration-color: #7f7f7f\">                    </span>│<span style=\"color: #7f7f7f; text-decoration-color: #7f7f7f\">            </span>│\n",
       "│<span style=\"color: #7f7f7f; text-decoration-color: #7f7f7f\"> ordered arrived damaged, but customer service quickly resolved it.', 'How do  </span>│<span style=\"color: #7f7f7f; text-decoration-color: #7f7f7f\">                    </span>│<span style=\"color: #7f7f7f; text-decoration-color: #7f7f7f\">            </span>│\n",
       "│<span style=\"color: #7f7f7f; text-decoration-color: #7f7f7f\"> you feel about the current product search and filtering options?': 'The       </span>│<span style=\"color: #7f7f7f; text-decoration-color: #7f7f7f\">                    </span>│<span style=\"color: #7f7f7f; text-decoration-color: #7f7f7f\">            </span>│\n",
       "│<span style=\"color: #7f7f7f; text-decoration-color: #7f7f7f\"> search and filtering options are intuitive and work well for me.', 'Is there  </span>│<span style=\"color: #7f7f7f; text-decoration-color: #7f7f7f\">                    </span>│<span style=\"color: #7f7f7f; text-decoration-color: #7f7f7f\">            </span>│\n",
       "│<span style=\"color: #7f7f7f; text-decoration-color: #7f7f7f\"> anything else you would like to share about your experience with us?': 'No,   </span>│<span style=\"color: #7f7f7f; text-decoration-color: #7f7f7f\">                    </span>│<span style=\"color: #7f7f7f; text-decoration-color: #7f7f7f\">            </span>│\n",
       "│<span style=\"color: #7f7f7f; text-decoration-color: #7f7f7f\"> keep up the great work!', 'edsl_version': '0.1.33.dev1', 'edsl_class_name':   </span>│<span style=\"color: #7f7f7f; text-decoration-color: #7f7f7f\">                    </span>│<span style=\"color: #7f7f7f; text-decoration-color: #7f7f7f\">            </span>│\n",
       "│<span style=\"color: #7f7f7f; text-decoration-color: #7f7f7f\"> 'Scenario'}                                                                   </span>│<span style=\"color: #7f7f7f; text-decoration-color: #7f7f7f\">                    </span>│<span style=\"color: #7f7f7f; text-decoration-color: #7f7f7f\">            </span>│\n",
       "├───────────────────────────────────────────────────────────────────────────────┼────────────────────┼────────────┤\n",
       "│<span style=\"color: #7f7f7f; text-decoration-color: #7f7f7f\"> {'Respondent ID': '102', 'What do you like most about using our online        </span>│<span style=\"color: #7f7f7f; text-decoration-color: #7f7f7f\"> Very satisfied     </span>│<span style=\"color: #7f7f7f; text-decoration-color: #7f7f7f\"> 4          </span>│\n",
       "│<span style=\"color: #7f7f7f; text-decoration-color: #7f7f7f\"> marketplace?': 'I enjoy the simplicity of the interface.', 'What is one       </span>│<span style=\"color: #7f7f7f; text-decoration-color: #7f7f7f\">                    </span>│<span style=\"color: #7f7f7f; text-decoration-color: #7f7f7f\">            </span>│\n",
       "│<span style=\"color: #7f7f7f; text-decoration-color: #7f7f7f\"> feature you would like to see added to improve your shopping experience?': 'A </span>│<span style=\"color: #7f7f7f; text-decoration-color: #7f7f7f\">                    </span>│<span style=\"color: #7f7f7f; text-decoration-color: #7f7f7f\">            </span>│\n",
       "│<span style=\"color: #7f7f7f; text-decoration-color: #7f7f7f\"> feature that helps compare similar products side by side would be useful.',   </span>│<span style=\"color: #7f7f7f; text-decoration-color: #7f7f7f\">                    </span>│<span style=\"color: #7f7f7f; text-decoration-color: #7f7f7f\">            </span>│\n",
       "│<span style=\"color: #7f7f7f; text-decoration-color: #7f7f7f\"> 'Can you describe a recent experience where you were dissatisfied with our    </span>│<span style=\"color: #7f7f7f; text-decoration-color: #7f7f7f\">                    </span>│<span style=\"color: #7f7f7f; text-decoration-color: #7f7f7f\">            </span>│\n",
       "│<span style=\"color: #7f7f7f; text-decoration-color: #7f7f7f\"> service?': 'No complaints here.', 'How do you feel about the current product  </span>│<span style=\"color: #7f7f7f; text-decoration-color: #7f7f7f\">                    </span>│<span style=\"color: #7f7f7f; text-decoration-color: #7f7f7f\">            </span>│\n",
       "│<span style=\"color: #7f7f7f; text-decoration-color: #7f7f7f\"> search and filtering options?': 'I find the product search to be pretty       </span>│<span style=\"color: #7f7f7f; text-decoration-color: #7f7f7f\">                    </span>│<span style=\"color: #7f7f7f; text-decoration-color: #7f7f7f\">            </span>│\n",
       "│<span style=\"color: #7f7f7f; text-decoration-color: #7f7f7f\"> effective.', 'Is there anything else you would like to share about your       </span>│<span style=\"color: #7f7f7f; text-decoration-color: #7f7f7f\">                    </span>│<span style=\"color: #7f7f7f; text-decoration-color: #7f7f7f\">            </span>│\n",
       "│<span style=\"color: #7f7f7f; text-decoration-color: #7f7f7f\"> experience with us?': 'I think the sky is a beautiful shade of purple         </span>│<span style=\"color: #7f7f7f; text-decoration-color: #7f7f7f\">                    </span>│<span style=\"color: #7f7f7f; text-decoration-color: #7f7f7f\">            </span>│\n",
       "│<span style=\"color: #7f7f7f; text-decoration-color: #7f7f7f\"> today.', 'edsl_version': '0.1.33.dev1', 'edsl_class_name': 'Scenario'}        </span>│<span style=\"color: #7f7f7f; text-decoration-color: #7f7f7f\">                    </span>│<span style=\"color: #7f7f7f; text-decoration-color: #7f7f7f\">            </span>│\n",
       "├───────────────────────────────────────────────────────────────────────────────┼────────────────────┼────────────┤\n",
       "│<span style=\"color: #7f7f7f; text-decoration-color: #7f7f7f\"> {'Respondent ID': '103', 'What do you like most about using our online        </span>│<span style=\"color: #7f7f7f; text-decoration-color: #7f7f7f\"> Somewhat satisfied </span>│<span style=\"color: #7f7f7f; text-decoration-color: #7f7f7f\"> 3          </span>│\n",
       "│<span style=\"color: #7f7f7f; text-decoration-color: #7f7f7f\"> marketplace?': 'The platform is user-friendly and offers a vast selection of  </span>│<span style=\"color: #7f7f7f; text-decoration-color: #7f7f7f\">                    </span>│<span style=\"color: #7f7f7f; text-decoration-color: #7f7f7f\">            </span>│\n",
       "│<span style=\"color: #7f7f7f; text-decoration-color: #7f7f7f\"> products.', 'What is one feature you would like to see added to improve your  </span>│<span style=\"color: #7f7f7f; text-decoration-color: #7f7f7f\">                    </span>│<span style=\"color: #7f7f7f; text-decoration-color: #7f7f7f\">            </span>│\n",
       "│<span style=\"color: #7f7f7f; text-decoration-color: #7f7f7f\"> shopping experience?': 'Would love to see an option to save and compare       </span>│<span style=\"color: #7f7f7f; text-decoration-color: #7f7f7f\">                    </span>│<span style=\"color: #7f7f7f; text-decoration-color: #7f7f7f\">            </span>│\n",
       "│<span style=\"color: #7f7f7f; text-decoration-color: #7f7f7f\"> different products.', 'Can you describe a recent experience where you were    </span>│<span style=\"color: #7f7f7f; text-decoration-color: #7f7f7f\">                    </span>│<span style=\"color: #7f7f7f; text-decoration-color: #7f7f7f\">            </span>│\n",
       "│<span style=\"color: #7f7f7f; text-decoration-color: #7f7f7f\"> dissatisfied with our service?': 'My delivery was late by a few days, which   </span>│<span style=\"color: #7f7f7f; text-decoration-color: #7f7f7f\">                    </span>│<span style=\"color: #7f7f7f; text-decoration-color: #7f7f7f\">            </span>│\n",
       "│<span style=\"color: #7f7f7f; text-decoration-color: #7f7f7f\"> was frustrating.', 'How do you feel about the current product search and      </span>│<span style=\"color: #7f7f7f; text-decoration-color: #7f7f7f\">                    </span>│<span style=\"color: #7f7f7f; text-decoration-color: #7f7f7f\">            </span>│\n",
       "│<span style=\"color: #7f7f7f; text-decoration-color: #7f7f7f\"> filtering options?': 'It’s okay.', 'Is there anything else you would like to  </span>│<span style=\"color: #7f7f7f; text-decoration-color: #7f7f7f\">                    </span>│<span style=\"color: #7f7f7f; text-decoration-color: #7f7f7f\">            </span>│\n",
       "│<span style=\"color: #7f7f7f; text-decoration-color: #7f7f7f\"> share about your experience with us?': 'No.', 'edsl_version': '0.1.33.dev1',  </span>│<span style=\"color: #7f7f7f; text-decoration-color: #7f7f7f\">                    </span>│<span style=\"color: #7f7f7f; text-decoration-color: #7f7f7f\">            </span>│\n",
       "│<span style=\"color: #7f7f7f; text-decoration-color: #7f7f7f\"> 'edsl_class_name': 'Scenario'}                                                </span>│<span style=\"color: #7f7f7f; text-decoration-color: #7f7f7f\">                    </span>│<span style=\"color: #7f7f7f; text-decoration-color: #7f7f7f\">            </span>│\n",
       "└───────────────────────────────────────────────────────────────────────────────┴────────────────────┴────────────┘\n",
       "</pre>\n"
      ],
      "text/plain": [
       "┏━━━━━━━━━━━━━━━━━━━━━━━━━━━━━━━━━━━━━━━━━━━━━━━━━━━━━━━━━━━━━━━━━━━━━━━━━━━━━━━┳━━━━━━━━━━━━━━━━━━━━┳━━━━━━━━━━━━┓\n",
       "┃\u001b[1;35m \u001b[0m\u001b[1;35mscenario                                                                     \u001b[0m\u001b[1;35m \u001b[0m┃\u001b[1;35m \u001b[0m\u001b[1;35manswer            \u001b[0m\u001b[1;35m \u001b[0m┃\u001b[1;35m \u001b[0m\u001b[1;35manswer    \u001b[0m\u001b[1;35m \u001b[0m┃\n",
       "┃\u001b[1;35m \u001b[0m\u001b[1;35m.responses                                                                   \u001b[0m\u001b[1;35m \u001b[0m┃\u001b[1;35m \u001b[0m\u001b[1;35m.sentiment        \u001b[0m\u001b[1;35m \u001b[0m┃\u001b[1;35m \u001b[0m\u001b[1;35m.recommend\u001b[0m\u001b[1;35m \u001b[0m┃\n",
       "┡━━━━━━━━━━━━━━━━━━━━━━━━━━━━━━━━━━━━━━━━━━━━━━━━━━━━━━━━━━━━━━━━━━━━━━━━━━━━━━━╇━━━━━━━━━━━━━━━━━━━━╇━━━━━━━━━━━━┩\n",
       "│\u001b[2m \u001b[0m\u001b[2m{'Respondent ID': '101', 'What do you like most about using our online       \u001b[0m\u001b[2m \u001b[0m│\u001b[2m \u001b[0m\u001b[2mSomewhat satisfied\u001b[0m\u001b[2m \u001b[0m│\u001b[2m \u001b[0m\u001b[2m4         \u001b[0m\u001b[2m \u001b[0m│\n",
       "│\u001b[2m \u001b[0m\u001b[2mmarketplace?': 'The wide variety of products and the ease of use.', 'What is \u001b[0m\u001b[2m \u001b[0m│\u001b[2m                    \u001b[0m│\u001b[2m            \u001b[0m│\n",
       "│\u001b[2m \u001b[0m\u001b[2mone feature you would like to see added to improve your shopping             \u001b[0m\u001b[2m \u001b[0m│\u001b[2m                    \u001b[0m│\u001b[2m            \u001b[0m│\n",
       "│\u001b[2m \u001b[0m\u001b[2mexperience?': 'It would be great to have a personalized recommendation system\u001b[0m\u001b[2m \u001b[0m│\u001b[2m                    \u001b[0m│\u001b[2m            \u001b[0m│\n",
       "│\u001b[2m \u001b[0m\u001b[2mbased on my browsing history.', 'Can you describe a recent experience where  \u001b[0m\u001b[2m \u001b[0m│\u001b[2m                    \u001b[0m│\u001b[2m            \u001b[0m│\n",
       "│\u001b[2m \u001b[0m\u001b[2myou were dissatisfied with our service?': 'I was disappointed when an item I \u001b[0m\u001b[2m \u001b[0m│\u001b[2m                    \u001b[0m│\u001b[2m            \u001b[0m│\n",
       "│\u001b[2m \u001b[0m\u001b[2mordered arrived damaged, but customer service quickly resolved it.', 'How do \u001b[0m\u001b[2m \u001b[0m│\u001b[2m                    \u001b[0m│\u001b[2m            \u001b[0m│\n",
       "│\u001b[2m \u001b[0m\u001b[2myou feel about the current product search and filtering options?': 'The      \u001b[0m\u001b[2m \u001b[0m│\u001b[2m                    \u001b[0m│\u001b[2m            \u001b[0m│\n",
       "│\u001b[2m \u001b[0m\u001b[2msearch and filtering options are intuitive and work well for me.', 'Is there \u001b[0m\u001b[2m \u001b[0m│\u001b[2m                    \u001b[0m│\u001b[2m            \u001b[0m│\n",
       "│\u001b[2m \u001b[0m\u001b[2manything else you would like to share about your experience with us?': 'No,  \u001b[0m\u001b[2m \u001b[0m│\u001b[2m                    \u001b[0m│\u001b[2m            \u001b[0m│\n",
       "│\u001b[2m \u001b[0m\u001b[2mkeep up the great work!', 'edsl_version': '0.1.33.dev1', 'edsl_class_name':  \u001b[0m\u001b[2m \u001b[0m│\u001b[2m                    \u001b[0m│\u001b[2m            \u001b[0m│\n",
       "│\u001b[2m \u001b[0m\u001b[2m'Scenario'}                                                                  \u001b[0m\u001b[2m \u001b[0m│\u001b[2m                    \u001b[0m│\u001b[2m            \u001b[0m│\n",
       "├───────────────────────────────────────────────────────────────────────────────┼────────────────────┼────────────┤\n",
       "│\u001b[2m \u001b[0m\u001b[2m{'Respondent ID': '102', 'What do you like most about using our online       \u001b[0m\u001b[2m \u001b[0m│\u001b[2m \u001b[0m\u001b[2mVery satisfied    \u001b[0m\u001b[2m \u001b[0m│\u001b[2m \u001b[0m\u001b[2m4         \u001b[0m\u001b[2m \u001b[0m│\n",
       "│\u001b[2m \u001b[0m\u001b[2mmarketplace?': 'I enjoy the simplicity of the interface.', 'What is one      \u001b[0m\u001b[2m \u001b[0m│\u001b[2m                    \u001b[0m│\u001b[2m            \u001b[0m│\n",
       "│\u001b[2m \u001b[0m\u001b[2mfeature you would like to see added to improve your shopping experience?': 'A\u001b[0m\u001b[2m \u001b[0m│\u001b[2m                    \u001b[0m│\u001b[2m            \u001b[0m│\n",
       "│\u001b[2m \u001b[0m\u001b[2mfeature that helps compare similar products side by side would be useful.',  \u001b[0m\u001b[2m \u001b[0m│\u001b[2m                    \u001b[0m│\u001b[2m            \u001b[0m│\n",
       "│\u001b[2m \u001b[0m\u001b[2m'Can you describe a recent experience where you were dissatisfied with our   \u001b[0m\u001b[2m \u001b[0m│\u001b[2m                    \u001b[0m│\u001b[2m            \u001b[0m│\n",
       "│\u001b[2m \u001b[0m\u001b[2mservice?': 'No complaints here.', 'How do you feel about the current product \u001b[0m\u001b[2m \u001b[0m│\u001b[2m                    \u001b[0m│\u001b[2m            \u001b[0m│\n",
       "│\u001b[2m \u001b[0m\u001b[2msearch and filtering options?': 'I find the product search to be pretty      \u001b[0m\u001b[2m \u001b[0m│\u001b[2m                    \u001b[0m│\u001b[2m            \u001b[0m│\n",
       "│\u001b[2m \u001b[0m\u001b[2meffective.', 'Is there anything else you would like to share about your      \u001b[0m\u001b[2m \u001b[0m│\u001b[2m                    \u001b[0m│\u001b[2m            \u001b[0m│\n",
       "│\u001b[2m \u001b[0m\u001b[2mexperience with us?': 'I think the sky is a beautiful shade of purple        \u001b[0m\u001b[2m \u001b[0m│\u001b[2m                    \u001b[0m│\u001b[2m            \u001b[0m│\n",
       "│\u001b[2m \u001b[0m\u001b[2mtoday.', 'edsl_version': '0.1.33.dev1', 'edsl_class_name': 'Scenario'}       \u001b[0m\u001b[2m \u001b[0m│\u001b[2m                    \u001b[0m│\u001b[2m            \u001b[0m│\n",
       "├───────────────────────────────────────────────────────────────────────────────┼────────────────────┼────────────┤\n",
       "│\u001b[2m \u001b[0m\u001b[2m{'Respondent ID': '103', 'What do you like most about using our online       \u001b[0m\u001b[2m \u001b[0m│\u001b[2m \u001b[0m\u001b[2mSomewhat satisfied\u001b[0m\u001b[2m \u001b[0m│\u001b[2m \u001b[0m\u001b[2m3         \u001b[0m\u001b[2m \u001b[0m│\n",
       "│\u001b[2m \u001b[0m\u001b[2mmarketplace?': 'The platform is user-friendly and offers a vast selection of \u001b[0m\u001b[2m \u001b[0m│\u001b[2m                    \u001b[0m│\u001b[2m            \u001b[0m│\n",
       "│\u001b[2m \u001b[0m\u001b[2mproducts.', 'What is one feature you would like to see added to improve your \u001b[0m\u001b[2m \u001b[0m│\u001b[2m                    \u001b[0m│\u001b[2m            \u001b[0m│\n",
       "│\u001b[2m \u001b[0m\u001b[2mshopping experience?': 'Would love to see an option to save and compare      \u001b[0m\u001b[2m \u001b[0m│\u001b[2m                    \u001b[0m│\u001b[2m            \u001b[0m│\n",
       "│\u001b[2m \u001b[0m\u001b[2mdifferent products.', 'Can you describe a recent experience where you were   \u001b[0m\u001b[2m \u001b[0m│\u001b[2m                    \u001b[0m│\u001b[2m            \u001b[0m│\n",
       "│\u001b[2m \u001b[0m\u001b[2mdissatisfied with our service?': 'My delivery was late by a few days, which  \u001b[0m\u001b[2m \u001b[0m│\u001b[2m                    \u001b[0m│\u001b[2m            \u001b[0m│\n",
       "│\u001b[2m \u001b[0m\u001b[2mwas frustrating.', 'How do you feel about the current product search and     \u001b[0m\u001b[2m \u001b[0m│\u001b[2m                    \u001b[0m│\u001b[2m            \u001b[0m│\n",
       "│\u001b[2m \u001b[0m\u001b[2mfiltering options?': 'It’s okay.', 'Is there anything else you would like to \u001b[0m\u001b[2m \u001b[0m│\u001b[2m                    \u001b[0m│\u001b[2m            \u001b[0m│\n",
       "│\u001b[2m \u001b[0m\u001b[2mshare about your experience with us?': 'No.', 'edsl_version': '0.1.33.dev1', \u001b[0m\u001b[2m \u001b[0m│\u001b[2m                    \u001b[0m│\u001b[2m            \u001b[0m│\n",
       "│\u001b[2m \u001b[0m\u001b[2m'edsl_class_name': 'Scenario'}                                               \u001b[0m\u001b[2m \u001b[0m│\u001b[2m                    \u001b[0m│\u001b[2m            \u001b[0m│\n",
       "└───────────────────────────────────────────────────────────────────────────────┴────────────────────┴────────────┘\n"
      ]
     },
     "metadata": {},
     "output_type": "display_data"
    }
   ],
   "source": [
    "results.select(\"responses\", \"sentiment\", \"recommend\").print(format=\"rich\")"
   ]
  },
  {
   "cell_type": "markdown",
   "id": "9eab586f-8a28-4992-9fec-d43cbe771c9e",
   "metadata": {},
   "source": [
    "## Evaluating individual answers\n",
    "Next we create a `ScenarioList` for each individual question and answer to use with our question about the responsiveness of each answer. We can use the `unpivot()` method to expand the scenarios by desired identifiers (e.g., respondent ID):"
   ]
  },
  {
   "cell_type": "code",
   "execution_count": 19,
   "id": "b95f76a2-0527-4283-8162-9079db248bd7",
   "metadata": {},
   "outputs": [
    {
     "data": {
      "text/html": [
       "<div class=\"highlight\"><pre><span></span><span class=\"p\">{</span>\n",
       "<span class=\"w\">    </span><span class=\"nt\">&quot;scenarios&quot;</span><span class=\"p\">:</span><span class=\"w\"> </span><span class=\"p\">[</span>\n",
       "<span class=\"w\">        </span><span class=\"p\">{</span>\n",
       "<span class=\"w\">            </span><span class=\"nt\">&quot;Respondent ID&quot;</span><span class=\"p\">:</span><span class=\"w\"> </span><span class=\"s2\">&quot;101&quot;</span><span class=\"p\">,</span>\n",
       "<span class=\"w\">            </span><span class=\"nt\">&quot;variable&quot;</span><span class=\"p\">:</span><span class=\"w\"> </span><span class=\"s2\">&quot;What do you like most about using our online marketplace?&quot;</span><span class=\"p\">,</span>\n",
       "<span class=\"w\">            </span><span class=\"nt\">&quot;value&quot;</span><span class=\"p\">:</span><span class=\"w\"> </span><span class=\"s2\">&quot;The wide variety of products and the ease of use.&quot;</span>\n",
       "<span class=\"w\">        </span><span class=\"p\">},</span>\n",
       "<span class=\"w\">        </span><span class=\"p\">{</span>\n",
       "<span class=\"w\">            </span><span class=\"nt\">&quot;Respondent ID&quot;</span><span class=\"p\">:</span><span class=\"w\"> </span><span class=\"s2\">&quot;101&quot;</span><span class=\"p\">,</span>\n",
       "<span class=\"w\">            </span><span class=\"nt\">&quot;variable&quot;</span><span class=\"p\">:</span><span class=\"w\"> </span><span class=\"s2\">&quot;What is one feature you would like to see added to improve your shopping experience?&quot;</span><span class=\"p\">,</span>\n",
       "<span class=\"w\">            </span><span class=\"nt\">&quot;value&quot;</span><span class=\"p\">:</span><span class=\"w\"> </span><span class=\"s2\">&quot;It would be great to have a personalized recommendation system based on my browsing history.&quot;</span>\n",
       "<span class=\"w\">        </span><span class=\"p\">},</span>\n",
       "<span class=\"w\">        </span><span class=\"p\">{</span>\n",
       "<span class=\"w\">            </span><span class=\"nt\">&quot;Respondent ID&quot;</span><span class=\"p\">:</span><span class=\"w\"> </span><span class=\"s2\">&quot;101&quot;</span><span class=\"p\">,</span>\n",
       "<span class=\"w\">            </span><span class=\"nt\">&quot;variable&quot;</span><span class=\"p\">:</span><span class=\"w\"> </span><span class=\"s2\">&quot;Can you describe a recent experience where you were dissatisfied with our service?&quot;</span><span class=\"p\">,</span>\n",
       "<span class=\"w\">            </span><span class=\"nt\">&quot;value&quot;</span><span class=\"p\">:</span><span class=\"w\"> </span><span class=\"s2\">&quot;I was disappointed when an item I ordered arrived damaged, but customer service quickly resolved it.&quot;</span>\n",
       "<span class=\"w\">        </span><span class=\"p\">},</span>\n",
       "<span class=\"w\">        </span><span class=\"p\">{</span>\n",
       "<span class=\"w\">            </span><span class=\"nt\">&quot;Respondent ID&quot;</span><span class=\"p\">:</span><span class=\"w\"> </span><span class=\"s2\">&quot;101&quot;</span><span class=\"p\">,</span>\n",
       "<span class=\"w\">            </span><span class=\"nt\">&quot;variable&quot;</span><span class=\"p\">:</span><span class=\"w\"> </span><span class=\"s2\">&quot;How do you feel about the current product search and filtering options?&quot;</span><span class=\"p\">,</span>\n",
       "<span class=\"w\">            </span><span class=\"nt\">&quot;value&quot;</span><span class=\"p\">:</span><span class=\"w\"> </span><span class=\"s2\">&quot;The search and filtering options are intuitive and work well for me.&quot;</span>\n",
       "<span class=\"w\">        </span><span class=\"p\">},</span>\n",
       "<span class=\"w\">        </span><span class=\"p\">{</span>\n",
       "<span class=\"w\">            </span><span class=\"nt\">&quot;Respondent ID&quot;</span><span class=\"p\">:</span><span class=\"w\"> </span><span class=\"s2\">&quot;101&quot;</span><span class=\"p\">,</span>\n",
       "<span class=\"w\">            </span><span class=\"nt\">&quot;variable&quot;</span><span class=\"p\">:</span><span class=\"w\"> </span><span class=\"s2\">&quot;Is there anything else you would like to share about your experience with us?&quot;</span><span class=\"p\">,</span>\n",
       "<span class=\"w\">            </span><span class=\"nt\">&quot;value&quot;</span><span class=\"p\">:</span><span class=\"w\"> </span><span class=\"s2\">&quot;No, keep up the great work!&quot;</span>\n",
       "<span class=\"w\">        </span><span class=\"p\">},</span>\n",
       "<span class=\"w\">        </span><span class=\"p\">{</span>\n",
       "<span class=\"w\">            </span><span class=\"nt\">&quot;Respondent ID&quot;</span><span class=\"p\">:</span><span class=\"w\"> </span><span class=\"s2\">&quot;102&quot;</span><span class=\"p\">,</span>\n",
       "<span class=\"w\">            </span><span class=\"nt\">&quot;variable&quot;</span><span class=\"p\">:</span><span class=\"w\"> </span><span class=\"s2\">&quot;What do you like most about using our online marketplace?&quot;</span><span class=\"p\">,</span>\n",
       "<span class=\"w\">            </span><span class=\"nt\">&quot;value&quot;</span><span class=\"p\">:</span><span class=\"w\"> </span><span class=\"s2\">&quot;I enjoy the simplicity of the interface.&quot;</span>\n",
       "<span class=\"w\">        </span><span class=\"p\">},</span>\n",
       "<span class=\"w\">        </span><span class=\"p\">{</span>\n",
       "<span class=\"w\">            </span><span class=\"nt\">&quot;Respondent ID&quot;</span><span class=\"p\">:</span><span class=\"w\"> </span><span class=\"s2\">&quot;102&quot;</span><span class=\"p\">,</span>\n",
       "<span class=\"w\">            </span><span class=\"nt\">&quot;variable&quot;</span><span class=\"p\">:</span><span class=\"w\"> </span><span class=\"s2\">&quot;What is one feature you would like to see added to improve your shopping experience?&quot;</span><span class=\"p\">,</span>\n",
       "<span class=\"w\">            </span><span class=\"nt\">&quot;value&quot;</span><span class=\"p\">:</span><span class=\"w\"> </span><span class=\"s2\">&quot;A feature that helps compare similar products side by side would be useful.&quot;</span>\n",
       "<span class=\"w\">        </span><span class=\"p\">},</span>\n",
       "<span class=\"w\">        </span><span class=\"p\">{</span>\n",
       "<span class=\"w\">            </span><span class=\"nt\">&quot;Respondent ID&quot;</span><span class=\"p\">:</span><span class=\"w\"> </span><span class=\"s2\">&quot;102&quot;</span><span class=\"p\">,</span>\n",
       "<span class=\"w\">            </span><span class=\"nt\">&quot;variable&quot;</span><span class=\"p\">:</span><span class=\"w\"> </span><span class=\"s2\">&quot;Can you describe a recent experience where you were dissatisfied with our service?&quot;</span><span class=\"p\">,</span>\n",
       "<span class=\"w\">            </span><span class=\"nt\">&quot;value&quot;</span><span class=\"p\">:</span><span class=\"w\"> </span><span class=\"s2\">&quot;No complaints here.&quot;</span>\n",
       "<span class=\"w\">        </span><span class=\"p\">},</span>\n",
       "<span class=\"w\">        </span><span class=\"p\">{</span>\n",
       "<span class=\"w\">            </span><span class=\"nt\">&quot;Respondent ID&quot;</span><span class=\"p\">:</span><span class=\"w\"> </span><span class=\"s2\">&quot;102&quot;</span><span class=\"p\">,</span>\n",
       "<span class=\"w\">            </span><span class=\"nt\">&quot;variable&quot;</span><span class=\"p\">:</span><span class=\"w\"> </span><span class=\"s2\">&quot;How do you feel about the current product search and filtering options?&quot;</span><span class=\"p\">,</span>\n",
       "<span class=\"w\">            </span><span class=\"nt\">&quot;value&quot;</span><span class=\"p\">:</span><span class=\"w\"> </span><span class=\"s2\">&quot;I find the product search to be pretty effective.&quot;</span>\n",
       "<span class=\"w\">        </span><span class=\"p\">},</span>\n",
       "<span class=\"w\">        </span><span class=\"p\">{</span>\n",
       "<span class=\"w\">            </span><span class=\"nt\">&quot;Respondent ID&quot;</span><span class=\"p\">:</span><span class=\"w\"> </span><span class=\"s2\">&quot;102&quot;</span><span class=\"p\">,</span>\n",
       "<span class=\"w\">            </span><span class=\"nt\">&quot;variable&quot;</span><span class=\"p\">:</span><span class=\"w\"> </span><span class=\"s2\">&quot;Is there anything else you would like to share about your experience with us?&quot;</span><span class=\"p\">,</span>\n",
       "<span class=\"w\">            </span><span class=\"nt\">&quot;value&quot;</span><span class=\"p\">:</span><span class=\"w\"> </span><span class=\"s2\">&quot;I think the sky is a beautiful shade of purple today.&quot;</span>\n",
       "<span class=\"w\">        </span><span class=\"p\">},</span>\n",
       "<span class=\"w\">        </span><span class=\"p\">{</span>\n",
       "<span class=\"w\">            </span><span class=\"nt\">&quot;Respondent ID&quot;</span><span class=\"p\">:</span><span class=\"w\"> </span><span class=\"s2\">&quot;103&quot;</span><span class=\"p\">,</span>\n",
       "<span class=\"w\">            </span><span class=\"nt\">&quot;variable&quot;</span><span class=\"p\">:</span><span class=\"w\"> </span><span class=\"s2\">&quot;What do you like most about using our online marketplace?&quot;</span><span class=\"p\">,</span>\n",
       "<span class=\"w\">            </span><span class=\"nt\">&quot;value&quot;</span><span class=\"p\">:</span><span class=\"w\"> </span><span class=\"s2\">&quot;The platform is user-friendly and offers a vast selection of products.&quot;</span>\n",
       "<span class=\"w\">        </span><span class=\"p\">},</span>\n",
       "<span class=\"w\">        </span><span class=\"p\">{</span>\n",
       "<span class=\"w\">            </span><span class=\"nt\">&quot;Respondent ID&quot;</span><span class=\"p\">:</span><span class=\"w\"> </span><span class=\"s2\">&quot;103&quot;</span><span class=\"p\">,</span>\n",
       "<span class=\"w\">            </span><span class=\"nt\">&quot;variable&quot;</span><span class=\"p\">:</span><span class=\"w\"> </span><span class=\"s2\">&quot;What is one feature you would like to see added to improve your shopping experience?&quot;</span><span class=\"p\">,</span>\n",
       "<span class=\"w\">            </span><span class=\"nt\">&quot;value&quot;</span><span class=\"p\">:</span><span class=\"w\"> </span><span class=\"s2\">&quot;Would love to see an option to save and compare different products.&quot;</span>\n",
       "<span class=\"w\">        </span><span class=\"p\">},</span>\n",
       "<span class=\"w\">        </span><span class=\"p\">{</span>\n",
       "<span class=\"w\">            </span><span class=\"nt\">&quot;Respondent ID&quot;</span><span class=\"p\">:</span><span class=\"w\"> </span><span class=\"s2\">&quot;103&quot;</span><span class=\"p\">,</span>\n",
       "<span class=\"w\">            </span><span class=\"nt\">&quot;variable&quot;</span><span class=\"p\">:</span><span class=\"w\"> </span><span class=\"s2\">&quot;Can you describe a recent experience where you were dissatisfied with our service?&quot;</span><span class=\"p\">,</span>\n",
       "<span class=\"w\">            </span><span class=\"nt\">&quot;value&quot;</span><span class=\"p\">:</span><span class=\"w\"> </span><span class=\"s2\">&quot;My delivery was late by a few days, which was frustrating.&quot;</span>\n",
       "<span class=\"w\">        </span><span class=\"p\">},</span>\n",
       "<span class=\"w\">        </span><span class=\"p\">{</span>\n",
       "<span class=\"w\">            </span><span class=\"nt\">&quot;Respondent ID&quot;</span><span class=\"p\">:</span><span class=\"w\"> </span><span class=\"s2\">&quot;103&quot;</span><span class=\"p\">,</span>\n",
       "<span class=\"w\">            </span><span class=\"nt\">&quot;variable&quot;</span><span class=\"p\">:</span><span class=\"w\"> </span><span class=\"s2\">&quot;How do you feel about the current product search and filtering options?&quot;</span><span class=\"p\">,</span>\n",
       "<span class=\"w\">            </span><span class=\"nt\">&quot;value&quot;</span><span class=\"p\">:</span><span class=\"w\"> </span><span class=\"s2\">&quot;It\\u2019s okay.&quot;</span>\n",
       "<span class=\"w\">        </span><span class=\"p\">},</span>\n",
       "<span class=\"w\">        </span><span class=\"p\">{</span>\n",
       "<span class=\"w\">            </span><span class=\"nt\">&quot;Respondent ID&quot;</span><span class=\"p\">:</span><span class=\"w\"> </span><span class=\"s2\">&quot;103&quot;</span><span class=\"p\">,</span>\n",
       "<span class=\"w\">            </span><span class=\"nt\">&quot;variable&quot;</span><span class=\"p\">:</span><span class=\"w\"> </span><span class=\"s2\">&quot;Is there anything else you would like to share about your experience with us?&quot;</span><span class=\"p\">,</span>\n",
       "<span class=\"w\">            </span><span class=\"nt\">&quot;value&quot;</span><span class=\"p\">:</span><span class=\"w\"> </span><span class=\"s2\">&quot;No.&quot;</span>\n",
       "<span class=\"w\">        </span><span class=\"p\">}</span>\n",
       "<span class=\"w\">    </span><span class=\"p\">]</span>\n",
       "<span class=\"p\">}</span>\n",
       "</pre></div>\n"
      ],
      "text/plain": [
       "ScenarioList([Scenario({'Respondent ID': '101', 'variable': 'What do you like most about using our online marketplace?', 'value': 'The wide variety of products and the ease of use.'}), Scenario({'Respondent ID': '101', 'variable': 'What is one feature you would like to see added to improve your shopping experience?', 'value': 'It would be great to have a personalized recommendation system based on my browsing history.'}), Scenario({'Respondent ID': '101', 'variable': 'Can you describe a recent experience where you were dissatisfied with our service?', 'value': 'I was disappointed when an item I ordered arrived damaged, but customer service quickly resolved it.'}), Scenario({'Respondent ID': '101', 'variable': 'How do you feel about the current product search and filtering options?', 'value': 'The search and filtering options are intuitive and work well for me.'}), Scenario({'Respondent ID': '101', 'variable': 'Is there anything else you would like to share about your experience with us?', 'value': 'No, keep up the great work!'}), Scenario({'Respondent ID': '102', 'variable': 'What do you like most about using our online marketplace?', 'value': 'I enjoy the simplicity of the interface.'}), Scenario({'Respondent ID': '102', 'variable': 'What is one feature you would like to see added to improve your shopping experience?', 'value': 'A feature that helps compare similar products side by side would be useful.'}), Scenario({'Respondent ID': '102', 'variable': 'Can you describe a recent experience where you were dissatisfied with our service?', 'value': 'No complaints here.'}), Scenario({'Respondent ID': '102', 'variable': 'How do you feel about the current product search and filtering options?', 'value': 'I find the product search to be pretty effective.'}), Scenario({'Respondent ID': '102', 'variable': 'Is there anything else you would like to share about your experience with us?', 'value': 'I think the sky is a beautiful shade of purple today.'}), Scenario({'Respondent ID': '103', 'variable': 'What do you like most about using our online marketplace?', 'value': 'The platform is user-friendly and offers a vast selection of products.'}), Scenario({'Respondent ID': '103', 'variable': 'What is one feature you would like to see added to improve your shopping experience?', 'value': 'Would love to see an option to save and compare different products.'}), Scenario({'Respondent ID': '103', 'variable': 'Can you describe a recent experience where you were dissatisfied with our service?', 'value': 'My delivery was late by a few days, which was frustrating.'}), Scenario({'Respondent ID': '103', 'variable': 'How do you feel about the current product search and filtering options?', 'value': 'It’s okay.'}), Scenario({'Respondent ID': '103', 'variable': 'Is there anything else you would like to share about your experience with us?', 'value': 'No.'})])"
      ]
     },
     "execution_count": 19,
     "metadata": {},
     "output_type": "execute_result"
    }
   ],
   "source": [
    "sl_qa = sl.unpivot(id_vars = [\"Respondent ID\"])\n",
    "sl_qa"
   ]
  },
  {
   "cell_type": "markdown",
   "id": "d42e6d13-aa2a-4f07-890f-5075d40f318e",
   "metadata": {},
   "source": [
    "We can call the `rename()` method to rename the keys as desired to match our question parameters syntax:"
   ]
  },
  {
   "cell_type": "code",
   "execution_count": 20,
   "id": "4dc47dc0-0a8a-4b3f-88ac-6d6f3dea54a8",
   "metadata": {},
   "outputs": [
    {
     "data": {
      "text/html": [
       "<div class=\"highlight\"><pre><span></span><span class=\"p\">{</span>\n",
       "<span class=\"w\">    </span><span class=\"nt\">&quot;scenarios&quot;</span><span class=\"p\">:</span><span class=\"w\"> </span><span class=\"p\">[</span>\n",
       "<span class=\"w\">        </span><span class=\"p\">{</span>\n",
       "<span class=\"w\">            </span><span class=\"nt\">&quot;id&quot;</span><span class=\"p\">:</span><span class=\"w\"> </span><span class=\"s2\">&quot;101&quot;</span><span class=\"p\">,</span>\n",
       "<span class=\"w\">            </span><span class=\"nt\">&quot;question&quot;</span><span class=\"p\">:</span><span class=\"w\"> </span><span class=\"s2\">&quot;What do you like most about using our online marketplace?&quot;</span><span class=\"p\">,</span>\n",
       "<span class=\"w\">            </span><span class=\"nt\">&quot;answer&quot;</span><span class=\"p\">:</span><span class=\"w\"> </span><span class=\"s2\">&quot;The wide variety of products and the ease of use.&quot;</span>\n",
       "<span class=\"w\">        </span><span class=\"p\">},</span>\n",
       "<span class=\"w\">        </span><span class=\"p\">{</span>\n",
       "<span class=\"w\">            </span><span class=\"nt\">&quot;id&quot;</span><span class=\"p\">:</span><span class=\"w\"> </span><span class=\"s2\">&quot;101&quot;</span><span class=\"p\">,</span>\n",
       "<span class=\"w\">            </span><span class=\"nt\">&quot;question&quot;</span><span class=\"p\">:</span><span class=\"w\"> </span><span class=\"s2\">&quot;What is one feature you would like to see added to improve your shopping experience?&quot;</span><span class=\"p\">,</span>\n",
       "<span class=\"w\">            </span><span class=\"nt\">&quot;answer&quot;</span><span class=\"p\">:</span><span class=\"w\"> </span><span class=\"s2\">&quot;It would be great to have a personalized recommendation system based on my browsing history.&quot;</span>\n",
       "<span class=\"w\">        </span><span class=\"p\">},</span>\n",
       "<span class=\"w\">        </span><span class=\"p\">{</span>\n",
       "<span class=\"w\">            </span><span class=\"nt\">&quot;id&quot;</span><span class=\"p\">:</span><span class=\"w\"> </span><span class=\"s2\">&quot;101&quot;</span><span class=\"p\">,</span>\n",
       "<span class=\"w\">            </span><span class=\"nt\">&quot;question&quot;</span><span class=\"p\">:</span><span class=\"w\"> </span><span class=\"s2\">&quot;Can you describe a recent experience where you were dissatisfied with our service?&quot;</span><span class=\"p\">,</span>\n",
       "<span class=\"w\">            </span><span class=\"nt\">&quot;answer&quot;</span><span class=\"p\">:</span><span class=\"w\"> </span><span class=\"s2\">&quot;I was disappointed when an item I ordered arrived damaged, but customer service quickly resolved it.&quot;</span>\n",
       "<span class=\"w\">        </span><span class=\"p\">},</span>\n",
       "<span class=\"w\">        </span><span class=\"p\">{</span>\n",
       "<span class=\"w\">            </span><span class=\"nt\">&quot;id&quot;</span><span class=\"p\">:</span><span class=\"w\"> </span><span class=\"s2\">&quot;101&quot;</span><span class=\"p\">,</span>\n",
       "<span class=\"w\">            </span><span class=\"nt\">&quot;question&quot;</span><span class=\"p\">:</span><span class=\"w\"> </span><span class=\"s2\">&quot;How do you feel about the current product search and filtering options?&quot;</span><span class=\"p\">,</span>\n",
       "<span class=\"w\">            </span><span class=\"nt\">&quot;answer&quot;</span><span class=\"p\">:</span><span class=\"w\"> </span><span class=\"s2\">&quot;The search and filtering options are intuitive and work well for me.&quot;</span>\n",
       "<span class=\"w\">        </span><span class=\"p\">},</span>\n",
       "<span class=\"w\">        </span><span class=\"p\">{</span>\n",
       "<span class=\"w\">            </span><span class=\"nt\">&quot;id&quot;</span><span class=\"p\">:</span><span class=\"w\"> </span><span class=\"s2\">&quot;101&quot;</span><span class=\"p\">,</span>\n",
       "<span class=\"w\">            </span><span class=\"nt\">&quot;question&quot;</span><span class=\"p\">:</span><span class=\"w\"> </span><span class=\"s2\">&quot;Is there anything else you would like to share about your experience with us?&quot;</span><span class=\"p\">,</span>\n",
       "<span class=\"w\">            </span><span class=\"nt\">&quot;answer&quot;</span><span class=\"p\">:</span><span class=\"w\"> </span><span class=\"s2\">&quot;No, keep up the great work!&quot;</span>\n",
       "<span class=\"w\">        </span><span class=\"p\">},</span>\n",
       "<span class=\"w\">        </span><span class=\"p\">{</span>\n",
       "<span class=\"w\">            </span><span class=\"nt\">&quot;id&quot;</span><span class=\"p\">:</span><span class=\"w\"> </span><span class=\"s2\">&quot;102&quot;</span><span class=\"p\">,</span>\n",
       "<span class=\"w\">            </span><span class=\"nt\">&quot;question&quot;</span><span class=\"p\">:</span><span class=\"w\"> </span><span class=\"s2\">&quot;What do you like most about using our online marketplace?&quot;</span><span class=\"p\">,</span>\n",
       "<span class=\"w\">            </span><span class=\"nt\">&quot;answer&quot;</span><span class=\"p\">:</span><span class=\"w\"> </span><span class=\"s2\">&quot;I enjoy the simplicity of the interface.&quot;</span>\n",
       "<span class=\"w\">        </span><span class=\"p\">},</span>\n",
       "<span class=\"w\">        </span><span class=\"p\">{</span>\n",
       "<span class=\"w\">            </span><span class=\"nt\">&quot;id&quot;</span><span class=\"p\">:</span><span class=\"w\"> </span><span class=\"s2\">&quot;102&quot;</span><span class=\"p\">,</span>\n",
       "<span class=\"w\">            </span><span class=\"nt\">&quot;question&quot;</span><span class=\"p\">:</span><span class=\"w\"> </span><span class=\"s2\">&quot;What is one feature you would like to see added to improve your shopping experience?&quot;</span><span class=\"p\">,</span>\n",
       "<span class=\"w\">            </span><span class=\"nt\">&quot;answer&quot;</span><span class=\"p\">:</span><span class=\"w\"> </span><span class=\"s2\">&quot;A feature that helps compare similar products side by side would be useful.&quot;</span>\n",
       "<span class=\"w\">        </span><span class=\"p\">},</span>\n",
       "<span class=\"w\">        </span><span class=\"p\">{</span>\n",
       "<span class=\"w\">            </span><span class=\"nt\">&quot;id&quot;</span><span class=\"p\">:</span><span class=\"w\"> </span><span class=\"s2\">&quot;102&quot;</span><span class=\"p\">,</span>\n",
       "<span class=\"w\">            </span><span class=\"nt\">&quot;question&quot;</span><span class=\"p\">:</span><span class=\"w\"> </span><span class=\"s2\">&quot;Can you describe a recent experience where you were dissatisfied with our service?&quot;</span><span class=\"p\">,</span>\n",
       "<span class=\"w\">            </span><span class=\"nt\">&quot;answer&quot;</span><span class=\"p\">:</span><span class=\"w\"> </span><span class=\"s2\">&quot;No complaints here.&quot;</span>\n",
       "<span class=\"w\">        </span><span class=\"p\">},</span>\n",
       "<span class=\"w\">        </span><span class=\"p\">{</span>\n",
       "<span class=\"w\">            </span><span class=\"nt\">&quot;id&quot;</span><span class=\"p\">:</span><span class=\"w\"> </span><span class=\"s2\">&quot;102&quot;</span><span class=\"p\">,</span>\n",
       "<span class=\"w\">            </span><span class=\"nt\">&quot;question&quot;</span><span class=\"p\">:</span><span class=\"w\"> </span><span class=\"s2\">&quot;How do you feel about the current product search and filtering options?&quot;</span><span class=\"p\">,</span>\n",
       "<span class=\"w\">            </span><span class=\"nt\">&quot;answer&quot;</span><span class=\"p\">:</span><span class=\"w\"> </span><span class=\"s2\">&quot;I find the product search to be pretty effective.&quot;</span>\n",
       "<span class=\"w\">        </span><span class=\"p\">},</span>\n",
       "<span class=\"w\">        </span><span class=\"p\">{</span>\n",
       "<span class=\"w\">            </span><span class=\"nt\">&quot;id&quot;</span><span class=\"p\">:</span><span class=\"w\"> </span><span class=\"s2\">&quot;102&quot;</span><span class=\"p\">,</span>\n",
       "<span class=\"w\">            </span><span class=\"nt\">&quot;question&quot;</span><span class=\"p\">:</span><span class=\"w\"> </span><span class=\"s2\">&quot;Is there anything else you would like to share about your experience with us?&quot;</span><span class=\"p\">,</span>\n",
       "<span class=\"w\">            </span><span class=\"nt\">&quot;answer&quot;</span><span class=\"p\">:</span><span class=\"w\"> </span><span class=\"s2\">&quot;I think the sky is a beautiful shade of purple today.&quot;</span>\n",
       "<span class=\"w\">        </span><span class=\"p\">},</span>\n",
       "<span class=\"w\">        </span><span class=\"p\">{</span>\n",
       "<span class=\"w\">            </span><span class=\"nt\">&quot;id&quot;</span><span class=\"p\">:</span><span class=\"w\"> </span><span class=\"s2\">&quot;103&quot;</span><span class=\"p\">,</span>\n",
       "<span class=\"w\">            </span><span class=\"nt\">&quot;question&quot;</span><span class=\"p\">:</span><span class=\"w\"> </span><span class=\"s2\">&quot;What do you like most about using our online marketplace?&quot;</span><span class=\"p\">,</span>\n",
       "<span class=\"w\">            </span><span class=\"nt\">&quot;answer&quot;</span><span class=\"p\">:</span><span class=\"w\"> </span><span class=\"s2\">&quot;The platform is user-friendly and offers a vast selection of products.&quot;</span>\n",
       "<span class=\"w\">        </span><span class=\"p\">},</span>\n",
       "<span class=\"w\">        </span><span class=\"p\">{</span>\n",
       "<span class=\"w\">            </span><span class=\"nt\">&quot;id&quot;</span><span class=\"p\">:</span><span class=\"w\"> </span><span class=\"s2\">&quot;103&quot;</span><span class=\"p\">,</span>\n",
       "<span class=\"w\">            </span><span class=\"nt\">&quot;question&quot;</span><span class=\"p\">:</span><span class=\"w\"> </span><span class=\"s2\">&quot;What is one feature you would like to see added to improve your shopping experience?&quot;</span><span class=\"p\">,</span>\n",
       "<span class=\"w\">            </span><span class=\"nt\">&quot;answer&quot;</span><span class=\"p\">:</span><span class=\"w\"> </span><span class=\"s2\">&quot;Would love to see an option to save and compare different products.&quot;</span>\n",
       "<span class=\"w\">        </span><span class=\"p\">},</span>\n",
       "<span class=\"w\">        </span><span class=\"p\">{</span>\n",
       "<span class=\"w\">            </span><span class=\"nt\">&quot;id&quot;</span><span class=\"p\">:</span><span class=\"w\"> </span><span class=\"s2\">&quot;103&quot;</span><span class=\"p\">,</span>\n",
       "<span class=\"w\">            </span><span class=\"nt\">&quot;question&quot;</span><span class=\"p\">:</span><span class=\"w\"> </span><span class=\"s2\">&quot;Can you describe a recent experience where you were dissatisfied with our service?&quot;</span><span class=\"p\">,</span>\n",
       "<span class=\"w\">            </span><span class=\"nt\">&quot;answer&quot;</span><span class=\"p\">:</span><span class=\"w\"> </span><span class=\"s2\">&quot;My delivery was late by a few days, which was frustrating.&quot;</span>\n",
       "<span class=\"w\">        </span><span class=\"p\">},</span>\n",
       "<span class=\"w\">        </span><span class=\"p\">{</span>\n",
       "<span class=\"w\">            </span><span class=\"nt\">&quot;id&quot;</span><span class=\"p\">:</span><span class=\"w\"> </span><span class=\"s2\">&quot;103&quot;</span><span class=\"p\">,</span>\n",
       "<span class=\"w\">            </span><span class=\"nt\">&quot;question&quot;</span><span class=\"p\">:</span><span class=\"w\"> </span><span class=\"s2\">&quot;How do you feel about the current product search and filtering options?&quot;</span><span class=\"p\">,</span>\n",
       "<span class=\"w\">            </span><span class=\"nt\">&quot;answer&quot;</span><span class=\"p\">:</span><span class=\"w\"> </span><span class=\"s2\">&quot;It\\u2019s okay.&quot;</span>\n",
       "<span class=\"w\">        </span><span class=\"p\">},</span>\n",
       "<span class=\"w\">        </span><span class=\"p\">{</span>\n",
       "<span class=\"w\">            </span><span class=\"nt\">&quot;id&quot;</span><span class=\"p\">:</span><span class=\"w\"> </span><span class=\"s2\">&quot;103&quot;</span><span class=\"p\">,</span>\n",
       "<span class=\"w\">            </span><span class=\"nt\">&quot;question&quot;</span><span class=\"p\">:</span><span class=\"w\"> </span><span class=\"s2\">&quot;Is there anything else you would like to share about your experience with us?&quot;</span><span class=\"p\">,</span>\n",
       "<span class=\"w\">            </span><span class=\"nt\">&quot;answer&quot;</span><span class=\"p\">:</span><span class=\"w\"> </span><span class=\"s2\">&quot;No.&quot;</span>\n",
       "<span class=\"w\">        </span><span class=\"p\">}</span>\n",
       "<span class=\"w\">    </span><span class=\"p\">]</span>\n",
       "<span class=\"p\">}</span>\n",
       "</pre></div>\n"
      ],
      "text/plain": [
       "ScenarioList([Scenario({'id': '101', 'question': 'What do you like most about using our online marketplace?', 'answer': 'The wide variety of products and the ease of use.'}), Scenario({'id': '101', 'question': 'What is one feature you would like to see added to improve your shopping experience?', 'answer': 'It would be great to have a personalized recommendation system based on my browsing history.'}), Scenario({'id': '101', 'question': 'Can you describe a recent experience where you were dissatisfied with our service?', 'answer': 'I was disappointed when an item I ordered arrived damaged, but customer service quickly resolved it.'}), Scenario({'id': '101', 'question': 'How do you feel about the current product search and filtering options?', 'answer': 'The search and filtering options are intuitive and work well for me.'}), Scenario({'id': '101', 'question': 'Is there anything else you would like to share about your experience with us?', 'answer': 'No, keep up the great work!'}), Scenario({'id': '102', 'question': 'What do you like most about using our online marketplace?', 'answer': 'I enjoy the simplicity of the interface.'}), Scenario({'id': '102', 'question': 'What is one feature you would like to see added to improve your shopping experience?', 'answer': 'A feature that helps compare similar products side by side would be useful.'}), Scenario({'id': '102', 'question': 'Can you describe a recent experience where you were dissatisfied with our service?', 'answer': 'No complaints here.'}), Scenario({'id': '102', 'question': 'How do you feel about the current product search and filtering options?', 'answer': 'I find the product search to be pretty effective.'}), Scenario({'id': '102', 'question': 'Is there anything else you would like to share about your experience with us?', 'answer': 'I think the sky is a beautiful shade of purple today.'}), Scenario({'id': '103', 'question': 'What do you like most about using our online marketplace?', 'answer': 'The platform is user-friendly and offers a vast selection of products.'}), Scenario({'id': '103', 'question': 'What is one feature you would like to see added to improve your shopping experience?', 'answer': 'Would love to see an option to save and compare different products.'}), Scenario({'id': '103', 'question': 'Can you describe a recent experience where you were dissatisfied with our service?', 'answer': 'My delivery was late by a few days, which was frustrating.'}), Scenario({'id': '103', 'question': 'How do you feel about the current product search and filtering options?', 'answer': 'It’s okay.'}), Scenario({'id': '103', 'question': 'Is there anything else you would like to share about your experience with us?', 'answer': 'No.'})])"
      ]
     },
     "execution_count": 20,
     "metadata": {},
     "output_type": "execute_result"
    }
   ],
   "source": [
    "sl_qa = sl_qa.rename({\"Respondent ID\": \"id\", \"variable\": \"question\", \"value\": \"answer\"})\n",
    "sl_qa"
   ]
  },
  {
   "cell_type": "code",
   "execution_count": 21,
   "id": "076719cb-fd16-4f75-90e3-fc1554d6c5ca",
   "metadata": {},
   "outputs": [],
   "source": [
    "from edsl import QuestionYesNo\n",
    "\n",
    "q_responsive = QuestionYesNo(\n",
    "    question_name = \"responsive\",\n",
    "    question_text = \"Is this answer responsive to the question that was asked? Question: {{ question }} Answer: {{ answer }}\"\n",
    ")"
   ]
  },
  {
   "cell_type": "code",
   "execution_count": 22,
   "id": "1f1e524c-9525-4683-aade-4f3bb33b238a",
   "metadata": {},
   "outputs": [],
   "source": [
    "results = q_responsive.by(sl_qa).run()"
   ]
  },
  {
   "cell_type": "code",
   "execution_count": 23,
   "id": "99b90830-46c8-40a8-b1b0-d6bc79c42cbb",
   "metadata": {},
   "outputs": [
    {
     "data": {
      "text/html": [
       "<pre style=\"white-space:pre;overflow-x:auto;line-height:normal;font-family:Menlo,'DejaVu Sans Mono',consolas,'Courier New',monospace\">┏━━━━━━━━━━┳━━━━━━━━━━━━━━━━━━━━━━━━━━━━━━━━━━━━━━━━━━━━━━━━━━━┳━━━━━━━━━━━━━━━━━━━━━━━━━━━━━━━━━━━━━━━━━━━━━━━━━━┓\n",
       "┃<span style=\"color: #800080; text-decoration-color: #800080; font-weight: bold\"> scenario </span>┃<span style=\"color: #800080; text-decoration-color: #800080; font-weight: bold\"> scenario                                          </span>┃<span style=\"color: #800080; text-decoration-color: #800080; font-weight: bold\"> scenario                                         </span>┃\n",
       "┃<span style=\"color: #800080; text-decoration-color: #800080; font-weight: bold\"> .id      </span>┃<span style=\"color: #800080; text-decoration-color: #800080; font-weight: bold\"> .question                                         </span>┃<span style=\"color: #800080; text-decoration-color: #800080; font-weight: bold\"> .answer                                          </span>┃\n",
       "┡━━━━━━━━━━╇━━━━━━━━━━━━━━━━━━━━━━━━━━━━━━━━━━━━━━━━━━━━━━━━━━━╇━━━━━━━━━━━━━━━━━━━━━━━━━━━━━━━━━━━━━━━━━━━━━━━━━━┩\n",
       "│<span style=\"color: #7f7f7f; text-decoration-color: #7f7f7f\"> 102      </span>│<span style=\"color: #7f7f7f; text-decoration-color: #7f7f7f\"> Is there anything else you would like to share    </span>│<span style=\"color: #7f7f7f; text-decoration-color: #7f7f7f\"> I think the sky is a beautiful shade of purple   </span>│\n",
       "│<span style=\"color: #7f7f7f; text-decoration-color: #7f7f7f\">          </span>│<span style=\"color: #7f7f7f; text-decoration-color: #7f7f7f\"> about your experience with us?                    </span>│<span style=\"color: #7f7f7f; text-decoration-color: #7f7f7f\"> today.                                           </span>│\n",
       "├──────────┼───────────────────────────────────────────────────┼──────────────────────────────────────────────────┤\n",
       "│<span style=\"color: #7f7f7f; text-decoration-color: #7f7f7f\"> 103      </span>│<span style=\"color: #7f7f7f; text-decoration-color: #7f7f7f\"> How do you feel about the current product search  </span>│<span style=\"color: #7f7f7f; text-decoration-color: #7f7f7f\"> It’s okay.                                       </span>│\n",
       "│<span style=\"color: #7f7f7f; text-decoration-color: #7f7f7f\">          </span>│<span style=\"color: #7f7f7f; text-decoration-color: #7f7f7f\"> and filtering options?                            </span>│<span style=\"color: #7f7f7f; text-decoration-color: #7f7f7f\">                                                  </span>│\n",
       "├──────────┼───────────────────────────────────────────────────┼──────────────────────────────────────────────────┤\n",
       "│<span style=\"color: #7f7f7f; text-decoration-color: #7f7f7f\"> 102      </span>│<span style=\"color: #7f7f7f; text-decoration-color: #7f7f7f\"> Can you describe a recent experience where you    </span>│<span style=\"color: #7f7f7f; text-decoration-color: #7f7f7f\"> No complaints here.                              </span>│\n",
       "│<span style=\"color: #7f7f7f; text-decoration-color: #7f7f7f\">          </span>│<span style=\"color: #7f7f7f; text-decoration-color: #7f7f7f\"> were dissatisfied with our service?               </span>│<span style=\"color: #7f7f7f; text-decoration-color: #7f7f7f\">                                                  </span>│\n",
       "├──────────┼───────────────────────────────────────────────────┼──────────────────────────────────────────────────┤\n",
       "│<span style=\"color: #7f7f7f; text-decoration-color: #7f7f7f\"> 102      </span>│<span style=\"color: #7f7f7f; text-decoration-color: #7f7f7f\"> How do you feel about the current product search  </span>│<span style=\"color: #7f7f7f; text-decoration-color: #7f7f7f\"> I find the product search to be pretty           </span>│\n",
       "│<span style=\"color: #7f7f7f; text-decoration-color: #7f7f7f\">          </span>│<span style=\"color: #7f7f7f; text-decoration-color: #7f7f7f\"> and filtering options?                            </span>│<span style=\"color: #7f7f7f; text-decoration-color: #7f7f7f\"> effective.                                       </span>│\n",
       "└──────────┴───────────────────────────────────────────────────┴──────────────────────────────────────────────────┘\n",
       "</pre>\n"
      ],
      "text/plain": [
       "┏━━━━━━━━━━┳━━━━━━━━━━━━━━━━━━━━━━━━━━━━━━━━━━━━━━━━━━━━━━━━━━━┳━━━━━━━━━━━━━━━━━━━━━━━━━━━━━━━━━━━━━━━━━━━━━━━━━━┓\n",
       "┃\u001b[1;35m \u001b[0m\u001b[1;35mscenario\u001b[0m\u001b[1;35m \u001b[0m┃\u001b[1;35m \u001b[0m\u001b[1;35mscenario                                         \u001b[0m\u001b[1;35m \u001b[0m┃\u001b[1;35m \u001b[0m\u001b[1;35mscenario                                        \u001b[0m\u001b[1;35m \u001b[0m┃\n",
       "┃\u001b[1;35m \u001b[0m\u001b[1;35m.id     \u001b[0m\u001b[1;35m \u001b[0m┃\u001b[1;35m \u001b[0m\u001b[1;35m.question                                        \u001b[0m\u001b[1;35m \u001b[0m┃\u001b[1;35m \u001b[0m\u001b[1;35m.answer                                         \u001b[0m\u001b[1;35m \u001b[0m┃\n",
       "┡━━━━━━━━━━╇━━━━━━━━━━━━━━━━━━━━━━━━━━━━━━━━━━━━━━━━━━━━━━━━━━━╇━━━━━━━━━━━━━━━━━━━━━━━━━━━━━━━━━━━━━━━━━━━━━━━━━━┩\n",
       "│\u001b[2m \u001b[0m\u001b[2m102     \u001b[0m\u001b[2m \u001b[0m│\u001b[2m \u001b[0m\u001b[2mIs there anything else you would like to share   \u001b[0m\u001b[2m \u001b[0m│\u001b[2m \u001b[0m\u001b[2mI think the sky is a beautiful shade of purple  \u001b[0m\u001b[2m \u001b[0m│\n",
       "│\u001b[2m          \u001b[0m│\u001b[2m \u001b[0m\u001b[2mabout your experience with us?                   \u001b[0m\u001b[2m \u001b[0m│\u001b[2m \u001b[0m\u001b[2mtoday.                                          \u001b[0m\u001b[2m \u001b[0m│\n",
       "├──────────┼───────────────────────────────────────────────────┼──────────────────────────────────────────────────┤\n",
       "│\u001b[2m \u001b[0m\u001b[2m103     \u001b[0m\u001b[2m \u001b[0m│\u001b[2m \u001b[0m\u001b[2mHow do you feel about the current product search \u001b[0m\u001b[2m \u001b[0m│\u001b[2m \u001b[0m\u001b[2mIt’s okay.                                      \u001b[0m\u001b[2m \u001b[0m│\n",
       "│\u001b[2m          \u001b[0m│\u001b[2m \u001b[0m\u001b[2mand filtering options?                           \u001b[0m\u001b[2m \u001b[0m│\u001b[2m                                                  \u001b[0m│\n",
       "├──────────┼───────────────────────────────────────────────────┼──────────────────────────────────────────────────┤\n",
       "│\u001b[2m \u001b[0m\u001b[2m102     \u001b[0m\u001b[2m \u001b[0m│\u001b[2m \u001b[0m\u001b[2mCan you describe a recent experience where you   \u001b[0m\u001b[2m \u001b[0m│\u001b[2m \u001b[0m\u001b[2mNo complaints here.                             \u001b[0m\u001b[2m \u001b[0m│\n",
       "│\u001b[2m          \u001b[0m│\u001b[2m \u001b[0m\u001b[2mwere dissatisfied with our service?              \u001b[0m\u001b[2m \u001b[0m│\u001b[2m                                                  \u001b[0m│\n",
       "├──────────┼───────────────────────────────────────────────────┼──────────────────────────────────────────────────┤\n",
       "│\u001b[2m \u001b[0m\u001b[2m102     \u001b[0m\u001b[2m \u001b[0m│\u001b[2m \u001b[0m\u001b[2mHow do you feel about the current product search \u001b[0m\u001b[2m \u001b[0m│\u001b[2m \u001b[0m\u001b[2mI find the product search to be pretty          \u001b[0m\u001b[2m \u001b[0m│\n",
       "│\u001b[2m          \u001b[0m│\u001b[2m \u001b[0m\u001b[2mand filtering options?                           \u001b[0m\u001b[2m \u001b[0m│\u001b[2m \u001b[0m\u001b[2meffective.                                      \u001b[0m\u001b[2m \u001b[0m│\n",
       "└──────────┴───────────────────────────────────────────────────┴──────────────────────────────────────────────────┘\n"
      ]
     },
     "metadata": {},
     "output_type": "display_data"
    }
   ],
   "source": [
    "(results\n",
    " .filter(\"responsive == 'No'\")\n",
    " .select(\"id\", \"question\", \"answer\")\n",
    " .print(format=\"rich\")\n",
    ")"
   ]
  },
  {
   "cell_type": "markdown",
   "id": "eeac0787-133c-45aa-8abc-4fe40863b1b9",
   "metadata": {},
   "source": [
    "## Uploading content to the Coop\n",
    "[Coop](https://www.expectedparrot.com/explore) is a new platform for creating, storing and sharing LLM-based research. It is fully integrated with EDSL, and a convenient place to post and access surveys, agents, results and notebooks. [Learn more about using the Coop](https://docs.expectedparrot.com/en/latest/coop.html).\n",
    "\n",
    "Here we post the contents of this notebook:"
   ]
  },
  {
   "cell_type": "code",
   "execution_count": 24,
   "id": "495ed72b-9022-4cc4-9515-19dcdd57988e",
   "metadata": {
    "editable": true,
    "slideshow": {
     "slide_type": ""
    },
    "tags": [
     "skip-execution"
    ]
   },
   "outputs": [],
   "source": [
    "from edsl import Notebook"
   ]
  },
  {
   "cell_type": "code",
   "execution_count": 25,
   "id": "92a7eb4c-e270-48f3-8ee8-c2e1c32aa544",
   "metadata": {
    "editable": true,
    "slideshow": {
     "slide_type": ""
    },
    "tags": [
     "skip-execution"
    ]
   },
   "outputs": [],
   "source": [
    "n = Notebook(path = \"scenariolist_unpivot.ipynb\")"
   ]
  },
  {
   "cell_type": "code",
   "execution_count": 26,
   "id": "d50aca26-af5e-4373-a3fd-c09eef210851",
   "metadata": {
    "editable": true,
    "slideshow": {
     "slide_type": ""
    },
    "tags": [
     "skip-execution"
    ]
   },
   "outputs": [
    {
     "data": {
      "text/plain": [
       "{'description': 'ScenarioList methods for sense checking survey data',\n",
       " 'object_type': 'notebook',\n",
       " 'url': 'https://www.expectedparrot.com/content/c4a75b92-1835-4345-b171-42450b876278',\n",
       " 'uuid': 'c4a75b92-1835-4345-b171-42450b876278',\n",
       " 'version': '0.1.33.dev1',\n",
       " 'visibility': 'public'}"
      ]
     },
     "execution_count": 26,
     "metadata": {},
     "output_type": "execute_result"
    }
   ],
   "source": [
    "n.push(description = \"ScenarioList methods for sense checking survey data\", visibility = \"public\")"
   ]
  },
  {
   "cell_type": "markdown",
   "id": "56d44c9f-92dd-4e09-9d18-224acc0972fd",
   "metadata": {},
   "source": [
    "To update an object at the Coop:"
   ]
  },
  {
   "cell_type": "code",
   "execution_count": 27,
   "id": "894d9a3a-13f2-4e07-bc7a-ae646017b724",
   "metadata": {
    "editable": true,
    "slideshow": {
     "slide_type": ""
    },
    "tags": [
     "skip-execution"
    ]
   },
   "outputs": [],
   "source": [
    "n = Notebook(path = \"scenariolist_unpivot.ipynb\") # resave"
   ]
  },
  {
   "cell_type": "code",
   "execution_count": 28,
   "id": "ee7ecbb7-770d-498b-8ce2-cf3b076aeb82",
   "metadata": {
    "editable": true,
    "slideshow": {
     "slide_type": ""
    },
    "tags": [
     "skip-execution"
    ]
   },
   "outputs": [
    {
     "data": {
      "text/plain": [
       "{'status': 'success'}"
      ]
     },
     "execution_count": 28,
     "metadata": {},
     "output_type": "execute_result"
    }
   ],
   "source": [
    "n.patch(uuid = \"c4a75b92-1835-4345-b171-42450b876278\", value = n)"
   ]
  }
 ],
 "metadata": {
  "kernelspec": {
   "display_name": "Python 3 (ipykernel)",
   "language": "python",
   "name": "python3"
  },
  "language_info": {
   "codemirror_mode": {
    "name": "ipython",
    "version": 3
   },
   "file_extension": ".py",
   "mimetype": "text/x-python",
   "name": "python",
   "nbconvert_exporter": "python",
   "pygments_lexer": "ipython3",
   "version": "3.11.7"
  }
 },
 "nbformat": 4,
 "nbformat_minor": 5
}
