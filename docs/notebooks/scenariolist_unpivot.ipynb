{
 "cells": [
  {
   "cell_type": "markdown",
   "id": "f3e05c2b-1f28-466d-9a54-8b7c554c9d1e",
   "metadata": {
    "editable": true,
    "slideshow": {
     "slide_type": ""
    },
    "tags": []
   },
   "source": [
    "# Using EDSL to sense check data\n",
    "This notebook provides example code for sense checking survey data using [EDSL](https://docs.expectedparrot.com), an open-source library for simulating surveys, experiments and market research with AI agents and large language models. \n",
    "\n",
    "## Contents\n",
    "Using a set of responses to a survey about online marketplaces as an example, we demonstrate EDSL methods for: \n",
    "\n",
    "1. Evaluating survey questions (e.g., for clarity and improvements)\n",
    "2. Analyzing each respondent's set of answers (e.g., to summarize or identify sentiment, themes, etc.)\n",
    "3. Reviewing each answer individually (e.g., to evaluate its relevance or usefulness)\n",
    "\n",
    "## Coop\n",
    "We also show how to post EDSL questions, surveys, results and notebooks (like this one) to the [Coop: a new platform for creating and sharing LLM-based research](https://www.expectedparrot.com/explore). \n",
    "\n",
    "## How EDSL works\n",
    "EDSL is a flexible library that can be used to perform a broad variety of research tasks. A typical workflow consists of the following steps:\n",
    "\n",
    "* Construct questions in EDSL \n",
    "* Add data to the questions (e.g., for data labeling tasks)\n",
    "* Use an AI agent to answer the questions\n",
    "* Select a language model to generate the answers\n",
    "* Analyze results in a formatted dataset\n",
    "\n",
    "## Technical setup\n",
    "Before running the code below please ensure that you have completed setup:\n",
    "\n",
    "* [Install](https://docs.expectedparrot.com/en/latest/installation.html) the EDSL library.\n",
    "* Create a [Coop account](https://www.expectedparrot.com/login) and activate [remote inference](https://docs.expectedparrot.com/en/latest/remote_inference.html) OR store your own [API Keys](https://docs.expectedparrot.com/en/latest/api_keys.html) for language models that you want to use.\n",
    "\n",
    "Our [Starter Tutorial](https://docs.expectedparrot.com/en/latest/starter_tutorial.html) provides examples of EDSL basic components. "
   ]
  },
  {
   "cell_type": "markdown",
   "id": "f1986963-2a7f-4bd7-9f0b-0e3ccfb00e02",
   "metadata": {
    "editable": true,
    "slideshow": {
     "slide_type": ""
    },
    "tags": []
   },
   "source": [
    "## Example data\n",
    "Our example data is a CSV consisting of several questions and a few rows of responses.\n",
    "Here we store it at the Coop and then re-import it:"
   ]
  },
  {
   "cell_type": "code",
   "execution_count": 1,
   "id": "6f7c3ed3-97c4-4f18-ad0d-4c149a3f844b",
   "metadata": {
    "editable": true,
    "slideshow": {
     "slide_type": ""
    },
    "tags": []
   },
   "outputs": [],
   "source": [
    "from edsl.scenarios.FileStore import CSVFileStore"
   ]
  },
  {
   "cell_type": "code",
   "execution_count": 2,
   "id": "51927530-fbed-4d80-b280-d54bdcc99cba",
   "metadata": {
    "editable": true,
    "slideshow": {
     "slide_type": ""
    },
    "tags": []
   },
   "outputs": [
    {
     "name": "stdout",
     "output_type": "stream",
     "text": [
      "{'description': 'File: marketplace_survey_results.csv', 'object_type': 'scenario', 'url': 'https://www.expectedparrot.com/content/ba9148ae-ab7c-4630-baa4-046f8d237b28', 'uuid': 'ba9148ae-ab7c-4630-baa4-046f8d237b28', 'version': '0.1.39.dev1', 'visibility': 'unlisted'}\n"
     ]
    }
   ],
   "source": [
    "fs = CSVFileStore(\"marketplace_survey_results.csv\")\n",
    "info = fs.push()\n",
    "print(info)"
   ]
  },
  {
   "cell_type": "code",
   "execution_count": 3,
   "id": "43a3ea5e-d7be-4e13-80e3-a9abfb144ed3",
   "metadata": {
    "editable": true,
    "slideshow": {
     "slide_type": ""
    },
    "tags": []
   },
   "outputs": [],
   "source": [
    "csv_file = CSVFileStore.pull(info[\"uuid\"])"
   ]
  },
  {
   "cell_type": "markdown",
   "id": "1f73e0f9-1af9-41ae-901e-53fc64a3c545",
   "metadata": {
    "editable": true,
    "slideshow": {
     "slide_type": ""
    },
    "tags": []
   },
   "source": [
    "## Creating questions about the data\n",
    "There are many questions we might want to ask about the data, such as:\n",
    "\n",
    "* Does this survey question have any logical or syntactical problems? {{ *question* }}\n",
    "* What is the overall sentiment of this respondent's answers? {{ *responses* }}\n",
    "* Is this answer responsive to the question that was asked? {{ *question* }} {{ *answer* }}"
   ]
  },
  {
   "cell_type": "markdown",
   "id": "57c30c86-ac26-4d0f-a8be-fc95e5d2ad85",
   "metadata": {
    "editable": true,
    "slideshow": {
     "slide_type": ""
    },
    "tags": []
   },
   "source": [
    "## Question types\n",
    "EDSL comes with many common question types that we can select from based on the form of the response that we want to get back from the model: multiple choice, checkbox, linear scale, free text, etc. [Learn more about EDSL question types](https://docs.expectedparrot.com/en/latest/questions.html).\n",
    "\n",
    "Here we construct `Question` objects for the questions that we want to ask about the data, using `{{ placeholders }}` for the information that we will add to the questions in the steps that follow:"
   ]
  },
  {
   "cell_type": "code",
   "execution_count": 4,
   "id": "d79f413a-ae95-4493-9d2f-ab573b08b635",
   "metadata": {
    "editable": true,
    "slideshow": {
     "slide_type": ""
    },
    "tags": []
   },
   "outputs": [],
   "source": [
    "from edsl import QuestionFreeText, QuestionMultipleChoice, QuestionYesNo"
   ]
  },
  {
   "cell_type": "code",
   "execution_count": 5,
   "id": "21a46fac-9bc6-4fad-9b47-91ea04f896a3",
   "metadata": {
    "editable": true,
    "slideshow": {
     "slide_type": ""
    },
    "tags": []
   },
   "outputs": [],
   "source": [
    "q_logic = QuestionFreeText(\n",
    "    question_name = \"logic\",\n",
    "    question_text = \"Describe any logical or syntactical problems in the following survey question: {{ question }}\"\n",
    ")"
   ]
  },
  {
   "cell_type": "code",
   "execution_count": 6,
   "id": "3f85f392-3807-4672-8b7e-ef83526c46f2",
   "metadata": {
    "editable": true,
    "slideshow": {
     "slide_type": ""
    },
    "tags": []
   },
   "outputs": [],
   "source": [
    "q_sentiment = QuestionMultipleChoice(\n",
    "    question_name = \"sentiment\",\n",
    "    question_text = \"What is the overall sentiment of this respondent's survey answers? {{ responses }}\",\n",
    "    question_options = [\"Very unsatisfied\", \"Somewhat unsatisfied\", \"Somewhat satisfied\", \"Very satisfied\"]\n",
    ")"
   ]
  },
  {
   "cell_type": "code",
   "execution_count": 7,
   "id": "dc72fa3a-a338-4705-9b01-53f461724422",
   "metadata": {
    "editable": true,
    "slideshow": {
     "slide_type": ""
    },
    "tags": []
   },
   "outputs": [],
   "source": [
    "q_responsive = QuestionYesNo(\n",
    "    question_name = \"responsive\",\n",
    "    question_text = \"Is this answer responsive to the question that was asked? Question: {{ question }} Answer: {{ answer }}\"\n",
    ")"
   ]
  },
  {
   "cell_type": "markdown",
   "id": "d0431ad6-62a1-45b1-91ec-6b872e6050c8",
   "metadata": {
    "editable": true,
    "slideshow": {
     "slide_type": ""
    },
    "tags": []
   },
   "source": [
    "## Adding survey data to the questions\n",
    "Next we'll add our data to our questions. This can be done efficiently by creating a `ScenarioList` representing the data. The individual `Scenario` objects in the list can be constructed in a variety of ways depending on the information that we want to include in a particular question.\n",
    "\n",
    "We start by calling the `from_csv()` method to create a `ScenarioList` for the data in its original form. We can see that this generates a `Scenario` dictionary for each respondent's set of answers with key/value pairs for the individual questions and answers: "
   ]
  },
  {
   "cell_type": "code",
   "execution_count": 8,
   "id": "ec4b239d-c991-4e6f-b9ab-c369a990a748",
   "metadata": {
    "editable": true,
    "slideshow": {
     "slide_type": ""
    },
    "tags": []
   },
   "outputs": [],
   "source": [
    "from edsl import ScenarioList"
   ]
  },
  {
   "cell_type": "code",
   "execution_count": 9,
   "id": "d3d88d16-48d7-419a-9562-558825c08fff",
   "metadata": {
    "editable": true,
    "slideshow": {
     "slide_type": ""
    },
    "tags": []
   },
   "outputs": [
    {
     "data": {
      "text/html": [
       "<p><a href='https://docs.expectedparrot.com/en/latest/scenarios.html#scenariolist'>ScenarioList</a> scenarios: 3; keys: ['Is there anything else you would like to share about your experience with us?', 'What is one feature you would like to see added to improve your shopping experience?', 'How do you feel about the current product search and filtering options?', 'Respondent ID', 'Can you describe a recent experience where you were dissatisfied with our service?', 'What do you like most about using our online marketplace?'];</p>\n",
       "        <style>\n",
       "            :root {\n",
       "  --containerHeight: 200px;\n",
       "  --headerColor: blue;\n",
       "}\n",
       "\n",
       ".table-container {\n",
       "    height: var(--containerHeight) !important;\n",
       "    width: 100%;\n",
       "    overflow: auto;  /* This enables both horizontal and vertical scrolling */\n",
       "    border: 1px solid #d4d4d4;\n",
       "    background: transparent;\n",
       "    position: relative;  /* Create stacking context for sticky header */\n",
       "}\n",
       "\n",
       ".scroll-table {\n",
       "    /* Remove width: 100% to prevent table from being constrained */\n",
       "    /* min-width: 100% ensures table takes at least full container width */\n",
       "    min-width: 100%;\n",
       "    border-collapse: separate;\n",
       "    border-spacing: 4px;\n",
       "    background: transparent;\n",
       "    table-layout: auto;  /* Allow table to size based on content */\n",
       "}\n",
       "\n",
       ".scroll-table th {\n",
       "    background: transparent;  /* Semi-transparent background to ensure text readability */\n",
       "    position: sticky;\n",
       "    top: 0;\n",
       "    z-index: 1;\n",
       "    text-align: left !important;\n",
       "    padding: 8px;\n",
       "    font-weight: bold;\n",
       "    white-space: nowrap;  /* Prevent header text from wrapping */\n",
       "    min-width: 100px;    /* Ensure minimum column width */\n",
       "    backdrop-filter: blur(8px);  /* Optional: adds extra clarity */\n",
       "    color: var(--headerColor);\n",
       "}\n",
       "\n",
       ".scroll-table td {\n",
       "    padding: 8px;\n",
       "    text-align: left !important;\n",
       "    white-space: pre-wrap;\n",
       "    word-wrap: break-word;\n",
       "    vertical-align: top;\n",
       "    color: inherit;\n",
       "    border-bottom: none;\n",
       "    background: transparent;\n",
       "    min-width: 100px;    /* Match header minimum width */\n",
       "}\n",
       "\n",
       ".scroll-table tbody tr:hover {\n",
       "    background: transparent;\n",
       "}\n",
       "\n",
       "/* Additional rule to ensure header background is truly transparent */\n",
       ".scroll-table thead tr {\n",
       "    background: transparent !important;\n",
       "}\n",
       "\n",
       "/* Add shadow to indicate scrollable content */\n",
       ".table-container::after {\n",
       "    content: '';\n",
       "    position: absolute;\n",
       "    top: 0;\n",
       "    right: 0;\n",
       "    bottom: 0;\n",
       "    width: 5px;\n",
       "    background: linear-gradient(to right, transparent, rgba(242, 6, 6, 0.1));\n",
       "    pointer-events: none;\n",
       "    opacity: 0;\n",
       "    transition: opacity 0.3s;\n",
       "}\n",
       "\n",
       ".table-container:hover::after {\n",
       "    opacity: 1;\n",
       "}\n",
       "\n",
       "/* Handle Jupyter notebook specific styling */\n",
       ".jp-OutputArea-output .table-container {\n",
       "    max-width: 100%;\n",
       "    margin: 0;\n",
       "    overflow-x: auto;\n",
       "}\n",
       "        </style>\n",
       "        <div class=\"table-container\">\n",
       "            <div class=\"scroll-table-wrapper\">\n",
       "                <table class=\"scroll-table\">\n",
       "<thead>\n",
       "<tr><th style=\"text-align: right;\">  Respondent ID</th><th>What do you like most about using our online marketplace?             </th><th>What is one feature you would like to see added to improve your shopping experience?        </th><th>Can you describe a recent experience where you were dissatisfied with our service?                  </th><th>How do you feel about the current product search and filtering options?  </th><th>Is there anything else you would like to share about your experience with us?  </th></tr>\n",
       "</thead>\n",
       "<tbody>\n",
       "<tr><td style=\"text-align: right;\">            101</td><td>The wide variety of products and the ease of use.                     </td><td>It would be great to have a personalized recommendation system based on my browsing history.</td><td>I was disappointed when an item I ordered arrived damaged, but customer service quickly resolved it.</td><td>The search and filtering options are intuitive and work well for me.     </td><td>No, keep up the great work!                                                    </td></tr>\n",
       "<tr><td style=\"text-align: right;\">            102</td><td>I enjoy the simplicity of the interface.                              </td><td>A feature that helps compare similar products side by side would be useful.                 </td><td>No complaints here.                                                                                 </td><td>I find the product search to be pretty effective.                        </td><td>I think the sky is a beautiful shade of purple today.                          </td></tr>\n",
       "<tr><td style=\"text-align: right;\">            103</td><td>The platform is user-friendly and offers a vast selection of products.</td><td>Would love to see an option to save and compare different products.                         </td><td>My delivery was late by a few days, which was frustrating.                                          </td><td>It’s okay.                                                               </td><td>No.                                                                            </td></tr>\n",
       "</tbody>\n",
       "</table>\n",
       "            </div>\n",
       "        </div>\n",
       "        "
      ],
      "text/plain": [
       "ScenarioList([Scenario({'Respondent ID': '101', 'What do you like most about using our online marketplace?': 'The wide variety of products and the ease of use.', 'What is one feature you would like to see added to improve your shopping experience?': 'It would be great to have a personalized recommendation system based on my browsing history.', 'Can you describe a recent experience where you were dissatisfied with our service?': 'I was disappointed when an item I ordered arrived damaged, but customer service quickly resolved it.', 'How do you feel about the current product search and filtering options?': 'The search and filtering options are intuitive and work well for me.', 'Is there anything else you would like to share about your experience with us?': 'No, keep up the great work!'}), Scenario({'Respondent ID': '102', 'What do you like most about using our online marketplace?': 'I enjoy the simplicity of the interface.', 'What is one feature you would like to see added to improve your shopping experience?': 'A feature that helps compare similar products side by side would be useful.', 'Can you describe a recent experience where you were dissatisfied with our service?': 'No complaints here.', 'How do you feel about the current product search and filtering options?': 'I find the product search to be pretty effective.', 'Is there anything else you would like to share about your experience with us?': 'I think the sky is a beautiful shade of purple today.'}), Scenario({'Respondent ID': '103', 'What do you like most about using our online marketplace?': 'The platform is user-friendly and offers a vast selection of products.', 'What is one feature you would like to see added to improve your shopping experience?': 'Would love to see an option to save and compare different products.', 'Can you describe a recent experience where you were dissatisfied with our service?': 'My delivery was late by a few days, which was frustrating.', 'How do you feel about the current product search and filtering options?': 'It’s okay.', 'Is there anything else you would like to share about your experience with us?': 'No.'})])"
      ]
     },
     "execution_count": 9,
     "metadata": {},
     "output_type": "execute_result"
    }
   ],
   "source": [
    "sl = ScenarioList.from_csv(csv_file.to_tempfile()) # replace with CSV file name if importing a local file\n",
    "sl"
   ]
  },
  {
   "cell_type": "markdown",
   "id": "86cceffb-bc56-4e60-8687-da56f61128c9",
   "metadata": {
    "editable": true,
    "slideshow": {
     "slide_type": ""
    },
    "tags": []
   },
   "source": [
    "## Evaluating the questions\n",
    "For our first question we want to create a `Scenario` for each survey question:"
   ]
  },
  {
   "cell_type": "code",
   "execution_count": 10,
   "id": "a54ced10-a684-4510-ad7a-85b2f886e61c",
   "metadata": {
    "editable": true,
    "slideshow": {
     "slide_type": ""
    },
    "tags": []
   },
   "outputs": [],
   "source": [
    "from edsl import QuestionFreeText, Survey\n",
    "\n",
    "q_logic = QuestionFreeText(\n",
    "    question_name = \"logic\",\n",
    "    question_text = \"Describe any logical or syntactical problems in the following survey question: {{ question }}\"\n",
    ")\n",
    "\n",
    "q_improved = QuestionFreeText(\n",
    "    question_name = \"improved\",\n",
    "    question_text = \"Please draft an improved version of the survey question. Return only the revised question text.\"\n",
    ")\n",
    "\n",
    "survey = Survey([q_logic, q_improved]).add_targeted_memory(q_improved, q_logic)"
   ]
  },
  {
   "cell_type": "markdown",
   "id": "74982aec-3d58-44f2-aaa5-b9753ec71da0",
   "metadata": {
    "editable": true,
    "slideshow": {
     "slide_type": ""
    },
    "tags": []
   },
   "source": [
    "The survey questions are the `parameters` of the `ScenarioList` created above:"
   ]
  },
  {
   "cell_type": "code",
   "execution_count": 11,
   "id": "a7ae21a0-fdca-4d74-b09f-34176ab3e5e2",
   "metadata": {
    "editable": true,
    "slideshow": {
     "slide_type": ""
    },
    "tags": []
   },
   "outputs": [
    {
     "data": {
      "text/plain": [
       "['Is there anything else you would like to share about your experience with us?',\n",
       " 'What is one feature you would like to see added to improve your shopping experience?',\n",
       " 'How do you feel about the current product search and filtering options?',\n",
       " 'Respondent ID',\n",
       " 'Can you describe a recent experience where you were dissatisfied with our service?',\n",
       " 'What do you like most about using our online marketplace?']"
      ]
     },
     "execution_count": 11,
     "metadata": {},
     "output_type": "execute_result"
    }
   ],
   "source": [
    "questions = list(sl.parameters)\n",
    "questions"
   ]
  },
  {
   "cell_type": "markdown",
   "id": "160ce53e-1e04-4537-952b-2abb045d9a00",
   "metadata": {
    "editable": true,
    "slideshow": {
     "slide_type": ""
    },
    "tags": []
   },
   "source": [
    "We can pass them to the `from_list()` method to create a new `ScenarioList`, specifying that the key for each `Scenario` will be `question` in order to match the parameter of our logic question:"
   ]
  },
  {
   "cell_type": "code",
   "execution_count": 12,
   "id": "47e56caa-696e-4510-98f0-1e3044584cce",
   "metadata": {
    "editable": true,
    "slideshow": {
     "slide_type": ""
    },
    "tags": []
   },
   "outputs": [
    {
     "data": {
      "text/html": [
       "<p><a href='https://docs.expectedparrot.com/en/latest/scenarios.html#scenariolist'>ScenarioList</a> scenarios: 6; keys: ['question'];</p>\n",
       "        <style>\n",
       "            :root {\n",
       "  --containerHeight: 230px;\n",
       "  --headerColor: blue;\n",
       "}\n",
       "\n",
       ".table-container {\n",
       "    height: var(--containerHeight) !important;\n",
       "    width: 100%;\n",
       "    overflow: auto;  /* This enables both horizontal and vertical scrolling */\n",
       "    border: 1px solid #d4d4d4;\n",
       "    background: transparent;\n",
       "    position: relative;  /* Create stacking context for sticky header */\n",
       "}\n",
       "\n",
       ".scroll-table {\n",
       "    /* Remove width: 100% to prevent table from being constrained */\n",
       "    /* min-width: 100% ensures table takes at least full container width */\n",
       "    min-width: 100%;\n",
       "    border-collapse: separate;\n",
       "    border-spacing: 4px;\n",
       "    background: transparent;\n",
       "    table-layout: auto;  /* Allow table to size based on content */\n",
       "}\n",
       "\n",
       ".scroll-table th {\n",
       "    background: transparent;  /* Semi-transparent background to ensure text readability */\n",
       "    position: sticky;\n",
       "    top: 0;\n",
       "    z-index: 1;\n",
       "    text-align: left !important;\n",
       "    padding: 8px;\n",
       "    font-weight: bold;\n",
       "    white-space: nowrap;  /* Prevent header text from wrapping */\n",
       "    min-width: 100px;    /* Ensure minimum column width */\n",
       "    backdrop-filter: blur(8px);  /* Optional: adds extra clarity */\n",
       "    color: var(--headerColor);\n",
       "}\n",
       "\n",
       ".scroll-table td {\n",
       "    padding: 8px;\n",
       "    text-align: left !important;\n",
       "    white-space: pre-wrap;\n",
       "    word-wrap: break-word;\n",
       "    vertical-align: top;\n",
       "    color: inherit;\n",
       "    border-bottom: none;\n",
       "    background: transparent;\n",
       "    min-width: 100px;    /* Match header minimum width */\n",
       "}\n",
       "\n",
       ".scroll-table tbody tr:hover {\n",
       "    background: transparent;\n",
       "}\n",
       "\n",
       "/* Additional rule to ensure header background is truly transparent */\n",
       ".scroll-table thead tr {\n",
       "    background: transparent !important;\n",
       "}\n",
       "\n",
       "/* Add shadow to indicate scrollable content */\n",
       ".table-container::after {\n",
       "    content: '';\n",
       "    position: absolute;\n",
       "    top: 0;\n",
       "    right: 0;\n",
       "    bottom: 0;\n",
       "    width: 5px;\n",
       "    background: linear-gradient(to right, transparent, rgba(242, 6, 6, 0.1));\n",
       "    pointer-events: none;\n",
       "    opacity: 0;\n",
       "    transition: opacity 0.3s;\n",
       "}\n",
       "\n",
       ".table-container:hover::after {\n",
       "    opacity: 1;\n",
       "}\n",
       "\n",
       "/* Handle Jupyter notebook specific styling */\n",
       ".jp-OutputArea-output .table-container {\n",
       "    max-width: 100%;\n",
       "    margin: 0;\n",
       "    overflow-x: auto;\n",
       "}\n",
       "        </style>\n",
       "        <div class=\"table-container\">\n",
       "            <div class=\"scroll-table-wrapper\">\n",
       "                <table class=\"scroll-table\">\n",
       "<thead>\n",
       "<tr><th>question                                                                            </th></tr>\n",
       "</thead>\n",
       "<tbody>\n",
       "<tr><td>Is there anything else you would like to share about your experience with us?       </td></tr>\n",
       "<tr><td>What is one feature you would like to see added to improve your shopping experience?</td></tr>\n",
       "<tr><td>How do you feel about the current product search and filtering options?             </td></tr>\n",
       "<tr><td>Respondent ID                                                                       </td></tr>\n",
       "<tr><td>Can you describe a recent experience where you were dissatisfied with our service?  </td></tr>\n",
       "<tr><td>What do you like most about using our online marketplace?                           </td></tr>\n",
       "</tbody>\n",
       "</table>\n",
       "            </div>\n",
       "        </div>\n",
       "        "
      ],
      "text/plain": [
       "ScenarioList([Scenario({'question': 'Is there anything else you would like to share about your experience with us?'}), Scenario({'question': 'What is one feature you would like to see added to improve your shopping experience?'}), Scenario({'question': 'How do you feel about the current product search and filtering options?'}), Scenario({'question': 'Respondent ID'}), Scenario({'question': 'Can you describe a recent experience where you were dissatisfied with our service?'}), Scenario({'question': 'What do you like most about using our online marketplace?'})])"
      ]
     },
     "execution_count": 12,
     "metadata": {},
     "output_type": "execute_result"
    }
   ],
   "source": [
    "sl_questions = ScenarioList.from_list(\"question\", questions)\n",
    "sl_questions"
   ]
  },
  {
   "cell_type": "markdown",
   "id": "9b81e0e9-e943-46b4-9b7a-80abe151adc9",
   "metadata": {
    "editable": true,
    "slideshow": {
     "slide_type": ""
    },
    "tags": []
   },
   "source": [
    "We add the scenarios to the survey when we run it:"
   ]
  },
  {
   "cell_type": "code",
   "execution_count": 13,
   "id": "f97b52a1-4beb-4bdb-bea6-dbf48934b7dc",
   "metadata": {
    "editable": true,
    "slideshow": {
     "slide_type": ""
    },
    "tags": []
   },
   "outputs": [],
   "source": [
    "results = survey.by(sl_questions).run()"
   ]
  },
  {
   "cell_type": "markdown",
   "id": "5514c06c-2c09-4a9d-b010-c16fb8872b07",
   "metadata": {
    "editable": true,
    "slideshow": {
     "slide_type": ""
    },
    "tags": []
   },
   "source": [
    "This generates a dataset of `Results` that we can access with built-in methods for analysis:"
   ]
  },
  {
   "cell_type": "code",
   "execution_count": 14,
   "id": "024203f8-f34f-4bf1-afb5-faeee4aefbd3",
   "metadata": {
    "editable": true,
    "slideshow": {
     "slide_type": ""
    },
    "tags": []
   },
   "outputs": [
    {
     "data": {
      "text/html": [
       "\n",
       "        <style>\n",
       "            :root {\n",
       "  --containerHeight: 260px;\n",
       "  --headerColor: blue;\n",
       "}\n",
       "\n",
       ".table-container {\n",
       "    height: var(--containerHeight) !important;\n",
       "    width: 100%;\n",
       "    overflow: auto;  /* This enables both horizontal and vertical scrolling */\n",
       "    border: 1px solid #d4d4d4;\n",
       "    background: transparent;\n",
       "    position: relative;  /* Create stacking context for sticky header */\n",
       "}\n",
       "\n",
       ".scroll-table {\n",
       "    /* Remove width: 100% to prevent table from being constrained */\n",
       "    /* min-width: 100% ensures table takes at least full container width */\n",
       "    min-width: 100%;\n",
       "    border-collapse: separate;\n",
       "    border-spacing: 4px;\n",
       "    background: transparent;\n",
       "    table-layout: auto;  /* Allow table to size based on content */\n",
       "}\n",
       "\n",
       ".scroll-table th {\n",
       "    background: transparent;  /* Semi-transparent background to ensure text readability */\n",
       "    position: sticky;\n",
       "    top: 0;\n",
       "    z-index: 1;\n",
       "    text-align: left !important;\n",
       "    padding: 8px;\n",
       "    font-weight: bold;\n",
       "    white-space: nowrap;  /* Prevent header text from wrapping */\n",
       "    min-width: 100px;    /* Ensure minimum column width */\n",
       "    backdrop-filter: blur(8px);  /* Optional: adds extra clarity */\n",
       "    color: var(--headerColor);\n",
       "}\n",
       "\n",
       ".scroll-table td {\n",
       "    padding: 8px;\n",
       "    text-align: left !important;\n",
       "    white-space: pre-wrap;\n",
       "    word-wrap: break-word;\n",
       "    vertical-align: top;\n",
       "    color: inherit;\n",
       "    border-bottom: none;\n",
       "    background: transparent;\n",
       "    min-width: 100px;    /* Match header minimum width */\n",
       "}\n",
       "\n",
       ".scroll-table tbody tr:hover {\n",
       "    background: transparent;\n",
       "}\n",
       "\n",
       "/* Additional rule to ensure header background is truly transparent */\n",
       ".scroll-table thead tr {\n",
       "    background: transparent !important;\n",
       "}\n",
       "\n",
       "/* Add shadow to indicate scrollable content */\n",
       ".table-container::after {\n",
       "    content: '';\n",
       "    position: absolute;\n",
       "    top: 0;\n",
       "    right: 0;\n",
       "    bottom: 0;\n",
       "    width: 5px;\n",
       "    background: linear-gradient(to right, transparent, rgba(242, 6, 6, 0.1));\n",
       "    pointer-events: none;\n",
       "    opacity: 0;\n",
       "    transition: opacity 0.3s;\n",
       "}\n",
       "\n",
       ".table-container:hover::after {\n",
       "    opacity: 1;\n",
       "}\n",
       "\n",
       "/* Handle Jupyter notebook specific styling */\n",
       ".jp-OutputArea-output .table-container {\n",
       "    max-width: 100%;\n",
       "    margin: 0;\n",
       "    overflow-x: auto;\n",
       "}\n",
       "        </style>\n",
       "        <div class=\"table-container\">\n",
       "            <div class=\"scroll-table-wrapper\">\n",
       "                <table class=\"scroll-table\">\n",
       "<thead>\n",
       "<tr><th>scenario.question                                                                   </th><th>answer.logic  </th><th>answer.improved                                                                                                                                                      </th></tr>\n",
       "</thead>\n",
       "<tbody>\n",
       "<tr><td>Is there anything else you would like to share about your experience with us?       </td><td>The survey question &quot;Is there anything else you would like to share about your experience with us?&quot; is generally clear and straightforward, but there are a few considerations that could be addressed to improve its effectiveness:\n",
       "\n",
       "1. **Open-Ended Nature**: The question is open-ended, which can be beneficial for gathering detailed feedback but may also result in responses that are difficult to categorize or analyze. Depending on the survey&#x27;s goals, it might be helpful to provide some guidance on the type of information being sought.\n",
       "\n",
       "2. **Vagueness**: The phrase &quot;anything else&quot; is quite broad and might lead to a wide range of responses. If the survey aims to gather specific types of feedback, it could be helpful to specify or narrow down the focus.\n",
       "\n",
       "3. **Contextual Clarity**: Without context, respondents might be unsure about what aspects of their experience they should focus on. Adding context or examples could help guide responses.\n",
       "\n",
       "4. **Emotional Tone**: The question assumes a neutral tone, which is generally appropriate, but if the survey aims to capture emotional responses, it might benefit from a more empathetic or inviting wording.               </td><td>Could you please share any additional thoughts or specific feedback about your experience with us, such as areas for improvement or aspects you particularly enjoyed?</td></tr>\n",
       "<tr><td>Is there anything else you would like to share about your experience with us?       </td><td>The survey question &quot;Is there anything else you would like to share about your experience with us?&quot; is generally clear and straightforward, but there are a few considerations that could be addressed to improve its effectiveness:\n",
       "\n",
       "1. **Open-Ended Nature**: The question is open-ended, which can be beneficial for gathering detailed feedback but may also result in responses that are difficult to categorize or analyze. Depending on the survey&#x27;s goals, it might be helpful to provide some guidance on the type of information being sought.\n",
       "\n",
       "2. **Vagueness**: The phrase &quot;anything else&quot; is quite broad and might lead to a wide range of responses. If the survey aims to gather specific types of feedback, it could be helpful to specify or narrow down the focus.\n",
       "\n",
       "3. **Contextual Clarity**: Without context, respondents might be unsure about what aspects of their experience they should focus on. Adding context or examples could help guide responses.\n",
       "\n",
       "4. **Emotional Tone**: The question assumes a neutral tone, which is generally appropriate, but if the survey aims to capture emotional responses, it might benefit from a more empathetic or inviting wording.               </td><td>Could you please share any additional thoughts or specific feedback about your experience with us, such as areas for improvement or aspects you particularly enjoyed?</td></tr>\n",
       "<tr><td>What is one feature you would like to see added to improve your shopping experience?</td><td>The survey question &quot;What is one feature you would like to see added to improve your shopping experience?&quot; is generally clear and straightforward, but there are a few potential issues to consider:\n",
       "\n",
       "1. **Limitation to One Feature**: The question restricts respondents to mentioning only one feature. This might limit the feedback you receive, as respondents may have multiple suggestions or ideas that could be valuable. Consider allowing respondents to list more than one feature or providing an option to elaborate further.\n",
       "\n",
       "2. **Ambiguity in &quot;Feature&quot;**: The term &quot;feature&quot; is somewhat vague and may be interpreted differently by different respondents. Some might think of website or app features, while others might consider in-store features or customer service improvements. Clarifying the context or providing examples could help ensure more focused and useful responses.\n",
       "\n",
       "3. **Assumption of Improvement**: The question assumes that adding a new feature is the best way to improve the shopping experience. However, some respondents might feel that improving existing features, services, or processes could be more beneficial. Consider rephrasing to allow for suggestions related to both new and existing features.\n",
       "\n",
       "4. **Lack of Specificity**: The question does not specify the type of shopping experience (e.g., online, in-store, or both). If the survey is aimed at a specific type of shopping experience, it would be helpful to include that context to gather more relevant feedback.               </td><td>What features or improvements would you suggest to enhance your online or in-store shopping experience? Please feel free to list multiple suggestions.               </td></tr>\n",
       "<tr><td>How do you feel about the current product search and filtering options?             </td><td>The survey question &quot;How do you feel about the current product search and filtering options?&quot; is generally clear, but it has a few potential issues that could be improved:\n",
       "\n",
       "1. **Ambiguity**: The question might be too broad or vague. &quot;Feel&quot; is a subjective term and can lead to varied interpretations. Respondents might not know if they should focus on emotional responses (like satisfaction or frustration) or practical ones (like ease of use or effectiveness).\n",
       "\n",
       "2. **Lack of Specificity**: It combines two different elements—product search and filtering options—into one question. If respondents have different opinions on these two aspects, they may find it difficult to provide a single, coherent answer.\n",
       "\n",
       "3. **Open-ended Format**: While open-ended questions can provide rich data, they can also lead to varied responses that are difficult to analyze quantitatively. If the survey aims to gather quantitative data, it might be better to use a closed-ended question with specific response options.\n",
       "\n",
       "4. **Assumes Familiarity**: The question assumes that the respondent has used the product search and filtering options. If someone hasn&#x27;t used these features, they might not be able to provide a meaningful response.\n",
       "\n",
       "To address these issues, you might consider breaking the question into two separate questions and providing specific response options. For example:\n",
       "\n",
       "1. &quot;How satisfied are you with the current product search options?&quot;\n",
       "   - Very satisfied\n",
       "   - Satisfied\n",
       "   - Neutral\n",
       "   - Dissatisfied\n",
       "   - Very dissatisfied\n",
       "\n",
       "2. &quot;How satisfied are you with the current filtering options?&quot;\n",
       "   - Very satisfied\n",
       "   - Satisfied\n",
       "   - Neutral\n",
       "   - Dissatisfied\n",
       "   - Very dissatisfied               </td><td>1. &quot;How satisfied are you with the current product search options?&quot;  \n",
       "   - Very satisfied  \n",
       "   - Satisfied  \n",
       "   - Neutral  \n",
       "   - Dissatisfied  \n",
       "   - Very dissatisfied  \n",
       "\n",
       "2. &quot;How satisfied are you with the current filtering options?&quot;  \n",
       "   - Very satisfied  \n",
       "   - Satisfied  \n",
       "   - Neutral  \n",
       "   - Dissatisfied                                                                                                                                                                      </td></tr>\n",
       "<tr><td>Respondent ID                                                                       </td><td>The survey question &quot;Respondent ID&quot; has a few issues:\n",
       "\n",
       "1. **Lack of Clarity**: The phrase &quot;Respondent ID&quot; is not a question. It lacks a clear query or prompt for the respondent to answer. In a survey, questions should be formulated to elicit specific information from respondents.\n",
       "\n",
       "2. **Missing Instruction**: There is no instruction on what the respondent is supposed to do with &quot;Respondent ID.&quot; Is it asking them to provide their ID, or is it just a placeholder for the survey administrator to fill in? This ambiguity can lead to confusion.\n",
       "\n",
       "3. **Assumption of Prior Knowledge**: It assumes that respondents know what a &quot;Respondent ID&quot; is and whether they have one. If this is not explained elsewhere in the survey, respondents might not understand what is being asked of them.\n",
       "\n",
       "4. **Syntactical Structure**: As a standalone item, &quot;Respondent ID&quot; does not have a syntactical structure that forms a complete sentence or question, which can make it seem out of place in a survey context.               </td><td>Please enter your Respondent ID below:                                                                                                                               </td></tr>\n",
       "<tr><td>Can you describe a recent experience where you were dissatisfied with our service?  </td><td>The survey question &quot;Can you describe a recent experience where you were dissatisfied with our service?&quot; has a few potential issues:\n",
       "\n",
       "1. **Assumption of Dissatisfaction**: The question assumes that the respondent has had a recent experience of dissatisfaction. If a respondent has not had such an experience, they might find it difficult to answer the question, which could lead to frustration or confusion.\n",
       "\n",
       "2. **Lack of Neutrality**: The question is negatively biased as it specifically asks about dissatisfaction. It doesn&#x27;t provide an opportunity for respondents to share positive or neutral experiences, which could skew the feedback towards negative responses.\n",
       "\n",
       "3. **Open-ended Nature**: While open-ended questions can provide detailed feedback, they can also be difficult to analyze systematically. Respondents might provide varying levels of detail, making it challenging to categorize and quantify the responses.               </td><td>Have you had any recent experiences with our service that you would like to share, whether positive, negative, or neutral? If so, please describe them.              </td></tr>\n",
       "<tr><td>What do you like most about using our online marketplace?                           </td><td>The survey question &quot;What do you like most about using our online marketplace?&quot; is generally clear and straightforward, but there are a few potential issues to consider:\n",
       "\n",
       "1. **Assumption of Positive Experience**: The question assumes that the respondent has a positive experience with the online marketplace and has something they like about it. This may not be the case for all users, and those who have a neutral or negative experience might find it difficult to answer.\n",
       "\n",
       "2. **Lack of Options for Negative Feedback**: By focusing solely on what the respondent likes, the question does not provide an opportunity for users to express dissatisfaction or suggest improvements. Including a way to capture negative feedback can provide a more comprehensive understanding of user experiences.\n",
       "\n",
       "3. **Open-Ended Nature**: While open-ended questions can provide rich qualitative data, they can also lead to varied responses that are difficult to analyze quantitatively. Depending on the survey&#x27;s goals, it might be beneficial to include some structured response options or follow-up questions.\n",
       "\n",
       "4. **Ambiguity in Scope**: The term &quot;online marketplace&quot; might be interpreted differently by respondents. It could refer to the website, the mobile app, the range of products, customer service, or other aspects. Clarifying what aspects are being referred to could help in getting more precise answers.               </td><td>What aspects of our online marketplace do you find most beneficial, and are there any areas where you think we could improve?                                        </td></tr>\n",
       "</tbody>\n",
       "</table>\n",
       "            </div>\n",
       "        </div>\n",
       "        "
      ],
      "text/plain": [
       "Dataset([{'scenario.question': ['Is there anything else you would like to share about your experience with us?', 'Is there anything else you would like to share about your experience with us?', 'What is one feature you would like to see added to improve your shopping experience?', 'How do you feel about the current product search and filtering options?', 'Respondent ID', 'Can you describe a recent experience where you were dissatisfied with our service?', 'What do you like most about using our online marketplace?']}, {'answer.logic': ['The survey question \"Is there anything else you would like to share about your experience with us?\" is generally clear and straightforward, but there are a few considerations that could be addressed to improve its effectiveness:\\n\\n1. **Open-Ended Nature**: The question is open-ended, which can be beneficial for gathering detailed feedback but may also result in responses that are difficult to categorize or analyze. Depending on the survey\\'s goals, it might be helpful to provide some guidance on the type of information being sought.\\n\\n2. **Vagueness**: The phrase \"anything else\" is quite broad and might lead to a wide range of responses. If the survey aims to gather specific types of feedback, it could be helpful to specify or narrow down the focus.\\n\\n3. **Contextual Clarity**: Without context, respondents might be unsure about what aspects of their experience they should focus on. Adding context or examples could help guide responses.\\n\\n4. **Emotional Tone**: The question assumes a neutral tone, which is generally appropriate, but if the survey aims to capture emotional responses, it might benefit from a more empathetic or inviting wording.', 'The survey question \"Is there anything else you would like to share about your experience with us?\" is generally clear and straightforward, but there are a few considerations that could be addressed to improve its effectiveness:\\n\\n1. **Open-Ended Nature**: The question is open-ended, which can be beneficial for gathering detailed feedback but may also result in responses that are difficult to categorize or analyze. Depending on the survey\\'s goals, it might be helpful to provide some guidance on the type of information being sought.\\n\\n2. **Vagueness**: The phrase \"anything else\" is quite broad and might lead to a wide range of responses. If the survey aims to gather specific types of feedback, it could be helpful to specify or narrow down the focus.\\n\\n3. **Contextual Clarity**: Without context, respondents might be unsure about what aspects of their experience they should focus on. Adding context or examples could help guide responses.\\n\\n4. **Emotional Tone**: The question assumes a neutral tone, which is generally appropriate, but if the survey aims to capture emotional responses, it might benefit from a more empathetic or inviting wording.', 'The survey question \"What is one feature you would like to see added to improve your shopping experience?\" is generally clear and straightforward, but there are a few potential issues to consider:\\n\\n1. **Limitation to One Feature**: The question restricts respondents to mentioning only one feature. This might limit the feedback you receive, as respondents may have multiple suggestions or ideas that could be valuable. Consider allowing respondents to list more than one feature or providing an option to elaborate further.\\n\\n2. **Ambiguity in \"Feature\"**: The term \"feature\" is somewhat vague and may be interpreted differently by different respondents. Some might think of website or app features, while others might consider in-store features or customer service improvements. Clarifying the context or providing examples could help ensure more focused and useful responses.\\n\\n3. **Assumption of Improvement**: The question assumes that adding a new feature is the best way to improve the shopping experience. However, some respondents might feel that improving existing features, services, or processes could be more beneficial. Consider rephrasing to allow for suggestions related to both new and existing features.\\n\\n4. **Lack of Specificity**: The question does not specify the type of shopping experience (e.g., online, in-store, or both). If the survey is aimed at a specific type of shopping experience, it would be helpful to include that context to gather more relevant feedback.', 'The survey question \"How do you feel about the current product search and filtering options?\" is generally clear, but it has a few potential issues that could be improved:\\n\\n1. **Ambiguity**: The question might be too broad or vague. \"Feel\" is a subjective term and can lead to varied interpretations. Respondents might not know if they should focus on emotional responses (like satisfaction or frustration) or practical ones (like ease of use or effectiveness).\\n\\n2. **Lack of Specificity**: It combines two different elements—product search and filtering options—into one question. If respondents have different opinions on these two aspects, they may find it difficult to provide a single, coherent answer.\\n\\n3. **Open-ended Format**: While open-ended questions can provide rich data, they can also lead to varied responses that are difficult to analyze quantitatively. If the survey aims to gather quantitative data, it might be better to use a closed-ended question with specific response options.\\n\\n4. **Assumes Familiarity**: The question assumes that the respondent has used the product search and filtering options. If someone hasn\\'t used these features, they might not be able to provide a meaningful response.\\n\\nTo address these issues, you might consider breaking the question into two separate questions and providing specific response options. For example:\\n\\n1. \"How satisfied are you with the current product search options?\"\\n   - Very satisfied\\n   - Satisfied\\n   - Neutral\\n   - Dissatisfied\\n   - Very dissatisfied\\n\\n2. \"How satisfied are you with the current filtering options?\"\\n   - Very satisfied\\n   - Satisfied\\n   - Neutral\\n   - Dissatisfied\\n   - Very dissatisfied', 'The survey question \"Respondent ID\" has a few issues:\\n\\n1. **Lack of Clarity**: The phrase \"Respondent ID\" is not a question. It lacks a clear query or prompt for the respondent to answer. In a survey, questions should be formulated to elicit specific information from respondents.\\n\\n2. **Missing Instruction**: There is no instruction on what the respondent is supposed to do with \"Respondent ID.\" Is it asking them to provide their ID, or is it just a placeholder for the survey administrator to fill in? This ambiguity can lead to confusion.\\n\\n3. **Assumption of Prior Knowledge**: It assumes that respondents know what a \"Respondent ID\" is and whether they have one. If this is not explained elsewhere in the survey, respondents might not understand what is being asked of them.\\n\\n4. **Syntactical Structure**: As a standalone item, \"Respondent ID\" does not have a syntactical structure that forms a complete sentence or question, which can make it seem out of place in a survey context.', 'The survey question \"Can you describe a recent experience where you were dissatisfied with our service?\" has a few potential issues:\\n\\n1. **Assumption of Dissatisfaction**: The question assumes that the respondent has had a recent experience of dissatisfaction. If a respondent has not had such an experience, they might find it difficult to answer the question, which could lead to frustration or confusion.\\n\\n2. **Lack of Neutrality**: The question is negatively biased as it specifically asks about dissatisfaction. It doesn\\'t provide an opportunity for respondents to share positive or neutral experiences, which could skew the feedback towards negative responses.\\n\\n3. **Open-ended Nature**: While open-ended questions can provide detailed feedback, they can also be difficult to analyze systematically. Respondents might provide varying levels of detail, making it challenging to categorize and quantify the responses.', 'The survey question \"What do you like most about using our online marketplace?\" is generally clear and straightforward, but there are a few potential issues to consider:\\n\\n1. **Assumption of Positive Experience**: The question assumes that the respondent has a positive experience with the online marketplace and has something they like about it. This may not be the case for all users, and those who have a neutral or negative experience might find it difficult to answer.\\n\\n2. **Lack of Options for Negative Feedback**: By focusing solely on what the respondent likes, the question does not provide an opportunity for users to express dissatisfaction or suggest improvements. Including a way to capture negative feedback can provide a more comprehensive understanding of user experiences.\\n\\n3. **Open-Ended Nature**: While open-ended questions can provide rich qualitative data, they can also lead to varied responses that are difficult to analyze quantitatively. Depending on the survey\\'s goals, it might be beneficial to include some structured response options or follow-up questions.\\n\\n4. **Ambiguity in Scope**: The term \"online marketplace\" might be interpreted differently by respondents. It could refer to the website, the mobile app, the range of products, customer service, or other aspects. Clarifying what aspects are being referred to could help in getting more precise answers.']}, {'answer.improved': ['Could you please share any additional thoughts or specific feedback about your experience with us, such as areas for improvement or aspects you particularly enjoyed?', 'Could you please share any additional thoughts or specific feedback about your experience with us, such as areas for improvement or aspects you particularly enjoyed?', 'What features or improvements would you suggest to enhance your online or in-store shopping experience? Please feel free to list multiple suggestions.', '1. \"How satisfied are you with the current product search options?\"  \\n   - Very satisfied  \\n   - Satisfied  \\n   - Neutral  \\n   - Dissatisfied  \\n   - Very dissatisfied  \\n\\n2. \"How satisfied are you with the current filtering options?\"  \\n   - Very satisfied  \\n   - Satisfied  \\n   - Neutral  \\n   - Dissatisfied', 'Please enter your Respondent ID below:', 'Have you had any recent experiences with our service that you would like to share, whether positive, negative, or neutral? If so, please describe them.', 'What aspects of our online marketplace do you find most beneficial, and are there any areas where you think we could improve?']}])"
      ]
     },
     "execution_count": 14,
     "metadata": {},
     "output_type": "execute_result"
    }
   ],
   "source": [
    "results.select(\"question\", \"logic\", \"improved\")"
   ]
  },
  {
   "cell_type": "markdown",
   "id": "c3600745-b0d5-46c2-96b6-fcce28e2672a",
   "metadata": {
    "editable": true,
    "slideshow": {
     "slide_type": ""
    },
    "tags": []
   },
   "source": [
    "[Learn more about working with results](https://docs.expectedparrot.com/en/latest/results.html)."
   ]
  },
  {
   "cell_type": "markdown",
   "id": "6b2fbf86-b028-481a-880d-afd4db83a6d9",
   "metadata": {
    "editable": true,
    "slideshow": {
     "slide_type": ""
    },
    "tags": []
   },
   "source": [
    "## Evaluating respondents' collective answers\n",
    "Next we can create a `ScenarioList` for each respondent's answers to use with our question about sentiment:"
   ]
  },
  {
   "cell_type": "code",
   "execution_count": 15,
   "id": "18f7b68d-e1ad-4942-a69c-ed81e2b72e73",
   "metadata": {
    "editable": true,
    "slideshow": {
     "slide_type": ""
    },
    "tags": []
   },
   "outputs": [
    {
     "data": {
      "text/html": [
       "<p><a href='https://docs.expectedparrot.com/en/latest/scenarios.html#scenariolist'>ScenarioList</a> scenarios: 3; keys: ['responses'];</p>\n",
       "        <style>\n",
       "            :root {\n",
       "  --containerHeight: 200px;\n",
       "  --headerColor: blue;\n",
       "}\n",
       "\n",
       ".table-container {\n",
       "    height: var(--containerHeight) !important;\n",
       "    width: 100%;\n",
       "    overflow: auto;  /* This enables both horizontal and vertical scrolling */\n",
       "    border: 1px solid #d4d4d4;\n",
       "    background: transparent;\n",
       "    position: relative;  /* Create stacking context for sticky header */\n",
       "}\n",
       "\n",
       ".scroll-table {\n",
       "    /* Remove width: 100% to prevent table from being constrained */\n",
       "    /* min-width: 100% ensures table takes at least full container width */\n",
       "    min-width: 100%;\n",
       "    border-collapse: separate;\n",
       "    border-spacing: 4px;\n",
       "    background: transparent;\n",
       "    table-layout: auto;  /* Allow table to size based on content */\n",
       "}\n",
       "\n",
       ".scroll-table th {\n",
       "    background: transparent;  /* Semi-transparent background to ensure text readability */\n",
       "    position: sticky;\n",
       "    top: 0;\n",
       "    z-index: 1;\n",
       "    text-align: left !important;\n",
       "    padding: 8px;\n",
       "    font-weight: bold;\n",
       "    white-space: nowrap;  /* Prevent header text from wrapping */\n",
       "    min-width: 100px;    /* Ensure minimum column width */\n",
       "    backdrop-filter: blur(8px);  /* Optional: adds extra clarity */\n",
       "    color: var(--headerColor);\n",
       "}\n",
       "\n",
       ".scroll-table td {\n",
       "    padding: 8px;\n",
       "    text-align: left !important;\n",
       "    white-space: pre-wrap;\n",
       "    word-wrap: break-word;\n",
       "    vertical-align: top;\n",
       "    color: inherit;\n",
       "    border-bottom: none;\n",
       "    background: transparent;\n",
       "    min-width: 100px;    /* Match header minimum width */\n",
       "}\n",
       "\n",
       ".scroll-table tbody tr:hover {\n",
       "    background: transparent;\n",
       "}\n",
       "\n",
       "/* Additional rule to ensure header background is truly transparent */\n",
       ".scroll-table thead tr {\n",
       "    background: transparent !important;\n",
       "}\n",
       "\n",
       "/* Add shadow to indicate scrollable content */\n",
       ".table-container::after {\n",
       "    content: '';\n",
       "    position: absolute;\n",
       "    top: 0;\n",
       "    right: 0;\n",
       "    bottom: 0;\n",
       "    width: 5px;\n",
       "    background: linear-gradient(to right, transparent, rgba(242, 6, 6, 0.1));\n",
       "    pointer-events: none;\n",
       "    opacity: 0;\n",
       "    transition: opacity 0.3s;\n",
       "}\n",
       "\n",
       ".table-container:hover::after {\n",
       "    opacity: 1;\n",
       "}\n",
       "\n",
       "/* Handle Jupyter notebook specific styling */\n",
       ".jp-OutputArea-output .table-container {\n",
       "    max-width: 100%;\n",
       "    margin: 0;\n",
       "    overflow-x: auto;\n",
       "}\n",
       "        </style>\n",
       "        <div class=\"table-container\">\n",
       "            <div class=\"scroll-table-wrapper\">\n",
       "                <table class=\"scroll-table\">\n",
       "<thead>\n",
       "<tr><th>responses                                                                                                                                                                                                                                                                                                                                                                                                                                                                                                                                                                                                                                                                                                                                                                                          </th></tr>\n",
       "</thead>\n",
       "<tbody>\n",
       "<tr><td>{&#x27;Respondent ID&#x27;: &#x27;101&#x27;, &#x27;What do you like most about using our online marketplace?&#x27;: &#x27;The wide variety of products and the ease of use.&#x27;, &#x27;What is one feature you would like to see added to improve your shopping experience?&#x27;: &#x27;It would be great to have a personalized recommendation system based on my browsing history.&#x27;, &#x27;Can you describe a recent experience where you were dissatisfied with our service?&#x27;: &#x27;I was disappointed when an item I ordered arrived damaged, but customer service quickly resolved it.&#x27;, &#x27;How do you feel about the current product search and filtering options?&#x27;: &#x27;The search and filtering options are intuitive and work well for me.&#x27;, &#x27;Is there anything else you would like to share about your experience with us?&#x27;: &#x27;No, keep up the great work!&#x27;}</td></tr>\n",
       "<tr><td>{&#x27;Respondent ID&#x27;: &#x27;102&#x27;, &#x27;What do you like most about using our online marketplace?&#x27;: &#x27;I enjoy the simplicity of the interface.&#x27;, &#x27;What is one feature you would like to see added to improve your shopping experience?&#x27;: &#x27;A feature that helps compare similar products side by side would be useful.&#x27;, &#x27;Can you describe a recent experience where you were dissatisfied with our service?&#x27;: &#x27;No complaints here.&#x27;, &#x27;How do you feel about the current product search and filtering options?&#x27;: &#x27;I find the product search to be pretty effective.&#x27;, &#x27;Is there anything else you would like to share about your experience with us?&#x27;: &#x27;I think the sky is a beautiful shade of purple today.&#x27;}                                                                                                    </td></tr>\n",
       "<tr><td>{&#x27;Respondent ID&#x27;: &#x27;103&#x27;, &#x27;What do you like most about using our online marketplace?&#x27;: &#x27;The platform is user-friendly and offers a vast selection of products.&#x27;, &#x27;What is one feature you would like to see added to improve your shopping experience?&#x27;: &#x27;Would love to see an option to save and compare different products.&#x27;, &#x27;Can you describe a recent experience where you were dissatisfied with our service?&#x27;: &#x27;My delivery was late by a few days, which was frustrating.&#x27;, &#x27;How do you feel about the current product search and filtering options?&#x27;: &#x27;It’s okay.&#x27;, &#x27;Is there anything else you would like to share about your experience with us?&#x27;: &#x27;No.&#x27;}                                                                                                                                </td></tr>\n",
       "</tbody>\n",
       "</table>\n",
       "            </div>\n",
       "        </div>\n",
       "        "
      ],
      "text/plain": [
       "ScenarioList([Scenario({'responses': {'Respondent ID': '101', 'What do you like most about using our online marketplace?': 'The wide variety of products and the ease of use.', 'What is one feature you would like to see added to improve your shopping experience?': 'It would be great to have a personalized recommendation system based on my browsing history.', 'Can you describe a recent experience where you were dissatisfied with our service?': 'I was disappointed when an item I ordered arrived damaged, but customer service quickly resolved it.', 'How do you feel about the current product search and filtering options?': 'The search and filtering options are intuitive and work well for me.', 'Is there anything else you would like to share about your experience with us?': 'No, keep up the great work!'}}), Scenario({'responses': {'Respondent ID': '102', 'What do you like most about using our online marketplace?': 'I enjoy the simplicity of the interface.', 'What is one feature you would like to see added to improve your shopping experience?': 'A feature that helps compare similar products side by side would be useful.', 'Can you describe a recent experience where you were dissatisfied with our service?': 'No complaints here.', 'How do you feel about the current product search and filtering options?': 'I find the product search to be pretty effective.', 'Is there anything else you would like to share about your experience with us?': 'I think the sky is a beautiful shade of purple today.'}}), Scenario({'responses': {'Respondent ID': '103', 'What do you like most about using our online marketplace?': 'The platform is user-friendly and offers a vast selection of products.', 'What is one feature you would like to see added to improve your shopping experience?': 'Would love to see an option to save and compare different products.', 'Can you describe a recent experience where you were dissatisfied with our service?': 'My delivery was late by a few days, which was frustrating.', 'How do you feel about the current product search and filtering options?': 'It’s okay.', 'Is there anything else you would like to share about your experience with us?': 'No.'}})])"
      ]
     },
     "execution_count": 15,
     "metadata": {},
     "output_type": "execute_result"
    }
   ],
   "source": [
    "sl_responses = ScenarioList.from_list(\"responses\", sl['scenarios'])\n",
    "sl_responses"
   ]
  },
  {
   "cell_type": "markdown",
   "id": "da335730-735b-4f20-a901-48a4cadbaf1f",
   "metadata": {
    "editable": true,
    "slideshow": {
     "slide_type": ""
    },
    "tags": []
   },
   "source": [
    "Next we add these scenarios to our sentiment question (and any others we want to add) and run it:"
   ]
  },
  {
   "cell_type": "code",
   "execution_count": 16,
   "id": "7c2a93b2-8e84-46b3-926e-c30bf0e0ce2b",
   "metadata": {
    "editable": true,
    "slideshow": {
     "slide_type": ""
    },
    "tags": []
   },
   "outputs": [],
   "source": [
    "from edsl import QuestionMultipleChoice, QuestionLinearScale, Survey\n",
    "\n",
    "q_sentiment = QuestionMultipleChoice(\n",
    "    question_name = \"sentiment\",\n",
    "    question_text = \"What is the overall sentiment of this respondent's survey answers? {{ responses }}\",\n",
    "    question_options = [\"Very unsatisfied\", \"Somewhat unsatisfied\", \"Somewhat satisfied\", \"Very satisfied\"]\n",
    ")\n",
    "\n",
    "q_recommend = QuestionLinearScale(\n",
    "    question_name = \"recommend\",\n",
    "    question_text = \"On a scale from 1 to 5, how likely do you think this respondent is to recommend the company to a friend? {{ responses }}\",\n",
    "    question_options = [1, 2, 3, 4, 5],\n",
    "    option_labels = {1:\"Not at all likely\", 5:\"Very likely\"}\n",
    ")\n",
    "\n",
    "survey = Survey([q_sentiment, q_recommend])"
   ]
  },
  {
   "cell_type": "code",
   "execution_count": 18,
   "id": "01f51911-d4ea-4acf-9e8d-fb05d2f76e80",
   "metadata": {
    "editable": true,
    "slideshow": {
     "slide_type": ""
    },
    "tags": []
   },
   "outputs": [],
   "source": [
    "results = survey.by(sl_responses).run()"
   ]
  },
  {
   "cell_type": "code",
   "execution_count": 19,
   "id": "826d4a2d-f75f-42e3-8734-fa1b128c212c",
   "metadata": {
    "editable": true,
    "slideshow": {
     "slide_type": ""
    },
    "tags": []
   },
   "outputs": [
    {
     "data": {
      "text/html": [
       "\n",
       "        <style>\n",
       "            :root {\n",
       "  --containerHeight: 200px;\n",
       "  --headerColor: blue;\n",
       "}\n",
       "\n",
       ".table-container {\n",
       "    height: var(--containerHeight) !important;\n",
       "    width: 100%;\n",
       "    overflow: auto;  /* This enables both horizontal and vertical scrolling */\n",
       "    border: 1px solid #d4d4d4;\n",
       "    background: transparent;\n",
       "    position: relative;  /* Create stacking context for sticky header */\n",
       "}\n",
       "\n",
       ".scroll-table {\n",
       "    /* Remove width: 100% to prevent table from being constrained */\n",
       "    /* min-width: 100% ensures table takes at least full container width */\n",
       "    min-width: 100%;\n",
       "    border-collapse: separate;\n",
       "    border-spacing: 4px;\n",
       "    background: transparent;\n",
       "    table-layout: auto;  /* Allow table to size based on content */\n",
       "}\n",
       "\n",
       ".scroll-table th {\n",
       "    background: transparent;  /* Semi-transparent background to ensure text readability */\n",
       "    position: sticky;\n",
       "    top: 0;\n",
       "    z-index: 1;\n",
       "    text-align: left !important;\n",
       "    padding: 8px;\n",
       "    font-weight: bold;\n",
       "    white-space: nowrap;  /* Prevent header text from wrapping */\n",
       "    min-width: 100px;    /* Ensure minimum column width */\n",
       "    backdrop-filter: blur(8px);  /* Optional: adds extra clarity */\n",
       "    color: var(--headerColor);\n",
       "}\n",
       "\n",
       ".scroll-table td {\n",
       "    padding: 8px;\n",
       "    text-align: left !important;\n",
       "    white-space: pre-wrap;\n",
       "    word-wrap: break-word;\n",
       "    vertical-align: top;\n",
       "    color: inherit;\n",
       "    border-bottom: none;\n",
       "    background: transparent;\n",
       "    min-width: 100px;    /* Match header minimum width */\n",
       "}\n",
       "\n",
       ".scroll-table tbody tr:hover {\n",
       "    background: transparent;\n",
       "}\n",
       "\n",
       "/* Additional rule to ensure header background is truly transparent */\n",
       ".scroll-table thead tr {\n",
       "    background: transparent !important;\n",
       "}\n",
       "\n",
       "/* Add shadow to indicate scrollable content */\n",
       ".table-container::after {\n",
       "    content: '';\n",
       "    position: absolute;\n",
       "    top: 0;\n",
       "    right: 0;\n",
       "    bottom: 0;\n",
       "    width: 5px;\n",
       "    background: linear-gradient(to right, transparent, rgba(242, 6, 6, 0.1));\n",
       "    pointer-events: none;\n",
       "    opacity: 0;\n",
       "    transition: opacity 0.3s;\n",
       "}\n",
       "\n",
       ".table-container:hover::after {\n",
       "    opacity: 1;\n",
       "}\n",
       "\n",
       "/* Handle Jupyter notebook specific styling */\n",
       ".jp-OutputArea-output .table-container {\n",
       "    max-width: 100%;\n",
       "    margin: 0;\n",
       "    overflow-x: auto;\n",
       "}\n",
       "        </style>\n",
       "        <div class=\"table-container\">\n",
       "            <div class=\"scroll-table-wrapper\">\n",
       "                <table class=\"scroll-table\">\n",
       "<thead>\n",
       "<tr><th>scenario.responses                                                                                                                                                                                                                                                                                                                                                                                                                                                                                                                                                                                                                                                                                                                                                                                 </th><th>answer.sentiment  </th><th style=\"text-align: right;\">  answer.recommend</th></tr>\n",
       "</thead>\n",
       "<tbody>\n",
       "<tr><td>{&#x27;Respondent ID&#x27;: &#x27;101&#x27;, &#x27;What do you like most about using our online marketplace?&#x27;: &#x27;The wide variety of products and the ease of use.&#x27;, &#x27;What is one feature you would like to see added to improve your shopping experience?&#x27;: &#x27;It would be great to have a personalized recommendation system based on my browsing history.&#x27;, &#x27;Can you describe a recent experience where you were dissatisfied with our service?&#x27;: &#x27;I was disappointed when an item I ordered arrived damaged, but customer service quickly resolved it.&#x27;, &#x27;How do you feel about the current product search and filtering options?&#x27;: &#x27;The search and filtering options are intuitive and work well for me.&#x27;, &#x27;Is there anything else you would like to share about your experience with us?&#x27;: &#x27;No, keep up the great work!&#x27;}</td><td>Somewhat satisfied</td><td style=\"text-align: right;\">                 5</td></tr>\n",
       "<tr><td>{&#x27;Respondent ID&#x27;: &#x27;102&#x27;, &#x27;What do you like most about using our online marketplace?&#x27;: &#x27;I enjoy the simplicity of the interface.&#x27;, &#x27;What is one feature you would like to see added to improve your shopping experience?&#x27;: &#x27;A feature that helps compare similar products side by side would be useful.&#x27;, &#x27;Can you describe a recent experience where you were dissatisfied with our service?&#x27;: &#x27;No complaints here.&#x27;, &#x27;How do you feel about the current product search and filtering options?&#x27;: &#x27;I find the product search to be pretty effective.&#x27;, &#x27;Is there anything else you would like to share about your experience with us?&#x27;: &#x27;I think the sky is a beautiful shade of purple today.&#x27;}                                                                                                    </td><td>Somewhat satisfied</td><td style=\"text-align: right;\">                 5</td></tr>\n",
       "<tr><td>{&#x27;Respondent ID&#x27;: &#x27;103&#x27;, &#x27;What do you like most about using our online marketplace?&#x27;: &#x27;The platform is user-friendly and offers a vast selection of products.&#x27;, &#x27;What is one feature you would like to see added to improve your shopping experience?&#x27;: &#x27;Would love to see an option to save and compare different products.&#x27;, &#x27;Can you describe a recent experience where you were dissatisfied with our service?&#x27;: &#x27;My delivery was late by a few days, which was frustrating.&#x27;, &#x27;How do you feel about the current product search and filtering options?&#x27;: &#x27;It’s okay.&#x27;, &#x27;Is there anything else you would like to share about your experience with us?&#x27;: &#x27;No.&#x27;}                                                                                                                                </td><td>Somewhat satisfied</td><td style=\"text-align: right;\">                 3</td></tr>\n",
       "</tbody>\n",
       "</table>\n",
       "            </div>\n",
       "        </div>\n",
       "        "
      ],
      "text/plain": [
       "Dataset([{'scenario.responses': [{'Respondent ID': '101', 'What do you like most about using our online marketplace?': 'The wide variety of products and the ease of use.', 'What is one feature you would like to see added to improve your shopping experience?': 'It would be great to have a personalized recommendation system based on my browsing history.', 'Can you describe a recent experience where you were dissatisfied with our service?': 'I was disappointed when an item I ordered arrived damaged, but customer service quickly resolved it.', 'How do you feel about the current product search and filtering options?': 'The search and filtering options are intuitive and work well for me.', 'Is there anything else you would like to share about your experience with us?': 'No, keep up the great work!'}, {'Respondent ID': '102', 'What do you like most about using our online marketplace?': 'I enjoy the simplicity of the interface.', 'What is one feature you would like to see added to improve your shopping experience?': 'A feature that helps compare similar products side by side would be useful.', 'Can you describe a recent experience where you were dissatisfied with our service?': 'No complaints here.', 'How do you feel about the current product search and filtering options?': 'I find the product search to be pretty effective.', 'Is there anything else you would like to share about your experience with us?': 'I think the sky is a beautiful shade of purple today.'}, {'Respondent ID': '103', 'What do you like most about using our online marketplace?': 'The platform is user-friendly and offers a vast selection of products.', 'What is one feature you would like to see added to improve your shopping experience?': 'Would love to see an option to save and compare different products.', 'Can you describe a recent experience where you were dissatisfied with our service?': 'My delivery was late by a few days, which was frustrating.', 'How do you feel about the current product search and filtering options?': 'It’s okay.', 'Is there anything else you would like to share about your experience with us?': 'No.'}]}, {'answer.sentiment': ['Somewhat satisfied', 'Somewhat satisfied', 'Somewhat satisfied']}, {'answer.recommend': [5, 5, 3]}])"
      ]
     },
     "execution_count": 19,
     "metadata": {},
     "output_type": "execute_result"
    }
   ],
   "source": [
    "results.select(\"responses\", \"sentiment\", \"recommend\")"
   ]
  },
  {
   "cell_type": "markdown",
   "id": "9eab586f-8a28-4992-9fec-d43cbe771c9e",
   "metadata": {
    "editable": true,
    "slideshow": {
     "slide_type": ""
    },
    "tags": []
   },
   "source": [
    "## Evaluating individual answers\n",
    "Next we create a `ScenarioList` for each individual question and answer to use with our question about the responsiveness of each answer. We can use the `unpivot()` method to expand the scenarios by desired identifiers (e.g., respondent ID):"
   ]
  },
  {
   "cell_type": "code",
   "execution_count": 20,
   "id": "b95f76a2-0527-4283-8162-9079db248bd7",
   "metadata": {
    "editable": true,
    "slideshow": {
     "slide_type": ""
    },
    "tags": []
   },
   "outputs": [
    {
     "data": {
      "text/html": [
       "<p><a href='https://docs.expectedparrot.com/en/latest/scenarios.html#scenariolist'>ScenarioList</a> scenarios: 15; keys: ['variable', 'Respondent ID', 'value'];</p>\n",
       "        <style>\n",
       "            :root {\n",
       "  --containerHeight: 400px;\n",
       "  --headerColor: blue;\n",
       "}\n",
       "\n",
       ".table-container {\n",
       "    height: var(--containerHeight) !important;\n",
       "    width: 100%;\n",
       "    overflow: auto;  /* This enables both horizontal and vertical scrolling */\n",
       "    border: 1px solid #d4d4d4;\n",
       "    background: transparent;\n",
       "    position: relative;  /* Create stacking context for sticky header */\n",
       "}\n",
       "\n",
       ".scroll-table {\n",
       "    /* Remove width: 100% to prevent table from being constrained */\n",
       "    /* min-width: 100% ensures table takes at least full container width */\n",
       "    min-width: 100%;\n",
       "    border-collapse: separate;\n",
       "    border-spacing: 4px;\n",
       "    background: transparent;\n",
       "    table-layout: auto;  /* Allow table to size based on content */\n",
       "}\n",
       "\n",
       ".scroll-table th {\n",
       "    background: transparent;  /* Semi-transparent background to ensure text readability */\n",
       "    position: sticky;\n",
       "    top: 0;\n",
       "    z-index: 1;\n",
       "    text-align: left !important;\n",
       "    padding: 8px;\n",
       "    font-weight: bold;\n",
       "    white-space: nowrap;  /* Prevent header text from wrapping */\n",
       "    min-width: 100px;    /* Ensure minimum column width */\n",
       "    backdrop-filter: blur(8px);  /* Optional: adds extra clarity */\n",
       "    color: var(--headerColor);\n",
       "}\n",
       "\n",
       ".scroll-table td {\n",
       "    padding: 8px;\n",
       "    text-align: left !important;\n",
       "    white-space: pre-wrap;\n",
       "    word-wrap: break-word;\n",
       "    vertical-align: top;\n",
       "    color: inherit;\n",
       "    border-bottom: none;\n",
       "    background: transparent;\n",
       "    min-width: 100px;    /* Match header minimum width */\n",
       "}\n",
       "\n",
       ".scroll-table tbody tr:hover {\n",
       "    background: transparent;\n",
       "}\n",
       "\n",
       "/* Additional rule to ensure header background is truly transparent */\n",
       ".scroll-table thead tr {\n",
       "    background: transparent !important;\n",
       "}\n",
       "\n",
       "/* Add shadow to indicate scrollable content */\n",
       ".table-container::after {\n",
       "    content: '';\n",
       "    position: absolute;\n",
       "    top: 0;\n",
       "    right: 0;\n",
       "    bottom: 0;\n",
       "    width: 5px;\n",
       "    background: linear-gradient(to right, transparent, rgba(242, 6, 6, 0.1));\n",
       "    pointer-events: none;\n",
       "    opacity: 0;\n",
       "    transition: opacity 0.3s;\n",
       "}\n",
       "\n",
       ".table-container:hover::after {\n",
       "    opacity: 1;\n",
       "}\n",
       "\n",
       "/* Handle Jupyter notebook specific styling */\n",
       ".jp-OutputArea-output .table-container {\n",
       "    max-width: 100%;\n",
       "    margin: 0;\n",
       "    overflow-x: auto;\n",
       "}\n",
       "        </style>\n",
       "        <div class=\"table-container\">\n",
       "            <div class=\"scroll-table-wrapper\">\n",
       "                <table class=\"scroll-table\">\n",
       "<thead>\n",
       "<tr><th style=\"text-align: right;\">  Respondent ID</th><th>variable                                                                            </th><th>value                                                                                               </th></tr>\n",
       "</thead>\n",
       "<tbody>\n",
       "<tr><td style=\"text-align: right;\">            101</td><td>What do you like most about using our online marketplace?                           </td><td>The wide variety of products and the ease of use.                                                   </td></tr>\n",
       "<tr><td style=\"text-align: right;\">            101</td><td>What is one feature you would like to see added to improve your shopping experience?</td><td>It would be great to have a personalized recommendation system based on my browsing history.        </td></tr>\n",
       "<tr><td style=\"text-align: right;\">            101</td><td>Can you describe a recent experience where you were dissatisfied with our service?  </td><td>I was disappointed when an item I ordered arrived damaged, but customer service quickly resolved it.</td></tr>\n",
       "<tr><td style=\"text-align: right;\">            101</td><td>How do you feel about the current product search and filtering options?             </td><td>The search and filtering options are intuitive and work well for me.                                </td></tr>\n",
       "<tr><td style=\"text-align: right;\">            101</td><td>Is there anything else you would like to share about your experience with us?       </td><td>No, keep up the great work!                                                                         </td></tr>\n",
       "<tr><td style=\"text-align: right;\">            102</td><td>What do you like most about using our online marketplace?                           </td><td>I enjoy the simplicity of the interface.                                                            </td></tr>\n",
       "<tr><td style=\"text-align: right;\">            102</td><td>What is one feature you would like to see added to improve your shopping experience?</td><td>A feature that helps compare similar products side by side would be useful.                         </td></tr>\n",
       "<tr><td style=\"text-align: right;\">            102</td><td>Can you describe a recent experience where you were dissatisfied with our service?  </td><td>No complaints here.                                                                                 </td></tr>\n",
       "<tr><td style=\"text-align: right;\">            102</td><td>How do you feel about the current product search and filtering options?             </td><td>I find the product search to be pretty effective.                                                   </td></tr>\n",
       "<tr><td style=\"text-align: right;\">            102</td><td>Is there anything else you would like to share about your experience with us?       </td><td>I think the sky is a beautiful shade of purple today.                                               </td></tr>\n",
       "<tr><td style=\"text-align: right;\">            103</td><td>What do you like most about using our online marketplace?                           </td><td>The platform is user-friendly and offers a vast selection of products.                              </td></tr>\n",
       "<tr><td style=\"text-align: right;\">            103</td><td>What is one feature you would like to see added to improve your shopping experience?</td><td>Would love to see an option to save and compare different products.                                 </td></tr>\n",
       "<tr><td style=\"text-align: right;\">            103</td><td>Can you describe a recent experience where you were dissatisfied with our service?  </td><td>My delivery was late by a few days, which was frustrating.                                          </td></tr>\n",
       "<tr><td style=\"text-align: right;\">            103</td><td>How do you feel about the current product search and filtering options?             </td><td>It’s okay.                                                                                          </td></tr>\n",
       "<tr><td style=\"text-align: right;\">            103</td><td>Is there anything else you would like to share about your experience with us?       </td><td>No.                                                                                                 </td></tr>\n",
       "</tbody>\n",
       "</table>\n",
       "            </div>\n",
       "        </div>\n",
       "        "
      ],
      "text/plain": [
       "ScenarioList([Scenario({'Respondent ID': '101', 'variable': 'What do you like most about using our online marketplace?', 'value': 'The wide variety of products and the ease of use.'}), Scenario({'Respondent ID': '101', 'variable': 'What is one feature you would like to see added to improve your shopping experience?', 'value': 'It would be great to have a personalized recommendation system based on my browsing history.'}), Scenario({'Respondent ID': '101', 'variable': 'Can you describe a recent experience where you were dissatisfied with our service?', 'value': 'I was disappointed when an item I ordered arrived damaged, but customer service quickly resolved it.'}), Scenario({'Respondent ID': '101', 'variable': 'How do you feel about the current product search and filtering options?', 'value': 'The search and filtering options are intuitive and work well for me.'}), Scenario({'Respondent ID': '101', 'variable': 'Is there anything else you would like to share about your experience with us?', 'value': 'No, keep up the great work!'}), Scenario({'Respondent ID': '102', 'variable': 'What do you like most about using our online marketplace?', 'value': 'I enjoy the simplicity of the interface.'}), Scenario({'Respondent ID': '102', 'variable': 'What is one feature you would like to see added to improve your shopping experience?', 'value': 'A feature that helps compare similar products side by side would be useful.'}), Scenario({'Respondent ID': '102', 'variable': 'Can you describe a recent experience where you were dissatisfied with our service?', 'value': 'No complaints here.'}), Scenario({'Respondent ID': '102', 'variable': 'How do you feel about the current product search and filtering options?', 'value': 'I find the product search to be pretty effective.'}), Scenario({'Respondent ID': '102', 'variable': 'Is there anything else you would like to share about your experience with us?', 'value': 'I think the sky is a beautiful shade of purple today.'}), Scenario({'Respondent ID': '103', 'variable': 'What do you like most about using our online marketplace?', 'value': 'The platform is user-friendly and offers a vast selection of products.'}), Scenario({'Respondent ID': '103', 'variable': 'What is one feature you would like to see added to improve your shopping experience?', 'value': 'Would love to see an option to save and compare different products.'}), Scenario({'Respondent ID': '103', 'variable': 'Can you describe a recent experience where you were dissatisfied with our service?', 'value': 'My delivery was late by a few days, which was frustrating.'}), Scenario({'Respondent ID': '103', 'variable': 'How do you feel about the current product search and filtering options?', 'value': 'It’s okay.'}), Scenario({'Respondent ID': '103', 'variable': 'Is there anything else you would like to share about your experience with us?', 'value': 'No.'})])"
      ]
     },
     "execution_count": 20,
     "metadata": {},
     "output_type": "execute_result"
    }
   ],
   "source": [
    "sl_qa = sl.unpivot(id_vars = [\"Respondent ID\"])\n",
    "sl_qa"
   ]
  },
  {
   "cell_type": "markdown",
   "id": "d42e6d13-aa2a-4f07-890f-5075d40f318e",
   "metadata": {
    "editable": true,
    "slideshow": {
     "slide_type": ""
    },
    "tags": []
   },
   "source": [
    "We can call the `rename()` method to rename the keys as desired to match our question parameters syntax:"
   ]
  },
  {
   "cell_type": "code",
   "execution_count": 21,
   "id": "4dc47dc0-0a8a-4b3f-88ac-6d6f3dea54a8",
   "metadata": {
    "editable": true,
    "slideshow": {
     "slide_type": ""
    },
    "tags": []
   },
   "outputs": [
    {
     "data": {
      "text/html": [
       "<p><a href='https://docs.expectedparrot.com/en/latest/scenarios.html#scenariolist'>ScenarioList</a> scenarios: 15; keys: ['id', 'question', 'answer'];</p>\n",
       "        <style>\n",
       "            :root {\n",
       "  --containerHeight: 400px;\n",
       "  --headerColor: blue;\n",
       "}\n",
       "\n",
       ".table-container {\n",
       "    height: var(--containerHeight) !important;\n",
       "    width: 100%;\n",
       "    overflow: auto;  /* This enables both horizontal and vertical scrolling */\n",
       "    border: 1px solid #d4d4d4;\n",
       "    background: transparent;\n",
       "    position: relative;  /* Create stacking context for sticky header */\n",
       "}\n",
       "\n",
       ".scroll-table {\n",
       "    /* Remove width: 100% to prevent table from being constrained */\n",
       "    /* min-width: 100% ensures table takes at least full container width */\n",
       "    min-width: 100%;\n",
       "    border-collapse: separate;\n",
       "    border-spacing: 4px;\n",
       "    background: transparent;\n",
       "    table-layout: auto;  /* Allow table to size based on content */\n",
       "}\n",
       "\n",
       ".scroll-table th {\n",
       "    background: transparent;  /* Semi-transparent background to ensure text readability */\n",
       "    position: sticky;\n",
       "    top: 0;\n",
       "    z-index: 1;\n",
       "    text-align: left !important;\n",
       "    padding: 8px;\n",
       "    font-weight: bold;\n",
       "    white-space: nowrap;  /* Prevent header text from wrapping */\n",
       "    min-width: 100px;    /* Ensure minimum column width */\n",
       "    backdrop-filter: blur(8px);  /* Optional: adds extra clarity */\n",
       "    color: var(--headerColor);\n",
       "}\n",
       "\n",
       ".scroll-table td {\n",
       "    padding: 8px;\n",
       "    text-align: left !important;\n",
       "    white-space: pre-wrap;\n",
       "    word-wrap: break-word;\n",
       "    vertical-align: top;\n",
       "    color: inherit;\n",
       "    border-bottom: none;\n",
       "    background: transparent;\n",
       "    min-width: 100px;    /* Match header minimum width */\n",
       "}\n",
       "\n",
       ".scroll-table tbody tr:hover {\n",
       "    background: transparent;\n",
       "}\n",
       "\n",
       "/* Additional rule to ensure header background is truly transparent */\n",
       ".scroll-table thead tr {\n",
       "    background: transparent !important;\n",
       "}\n",
       "\n",
       "/* Add shadow to indicate scrollable content */\n",
       ".table-container::after {\n",
       "    content: '';\n",
       "    position: absolute;\n",
       "    top: 0;\n",
       "    right: 0;\n",
       "    bottom: 0;\n",
       "    width: 5px;\n",
       "    background: linear-gradient(to right, transparent, rgba(242, 6, 6, 0.1));\n",
       "    pointer-events: none;\n",
       "    opacity: 0;\n",
       "    transition: opacity 0.3s;\n",
       "}\n",
       "\n",
       ".table-container:hover::after {\n",
       "    opacity: 1;\n",
       "}\n",
       "\n",
       "/* Handle Jupyter notebook specific styling */\n",
       ".jp-OutputArea-output .table-container {\n",
       "    max-width: 100%;\n",
       "    margin: 0;\n",
       "    overflow-x: auto;\n",
       "}\n",
       "        </style>\n",
       "        <div class=\"table-container\">\n",
       "            <div class=\"scroll-table-wrapper\">\n",
       "                <table class=\"scroll-table\">\n",
       "<thead>\n",
       "<tr><th style=\"text-align: right;\">  id</th><th>question                                                                            </th><th>answer                                                                                              </th></tr>\n",
       "</thead>\n",
       "<tbody>\n",
       "<tr><td style=\"text-align: right;\"> 101</td><td>What do you like most about using our online marketplace?                           </td><td>The wide variety of products and the ease of use.                                                   </td></tr>\n",
       "<tr><td style=\"text-align: right;\"> 101</td><td>What is one feature you would like to see added to improve your shopping experience?</td><td>It would be great to have a personalized recommendation system based on my browsing history.        </td></tr>\n",
       "<tr><td style=\"text-align: right;\"> 101</td><td>Can you describe a recent experience where you were dissatisfied with our service?  </td><td>I was disappointed when an item I ordered arrived damaged, but customer service quickly resolved it.</td></tr>\n",
       "<tr><td style=\"text-align: right;\"> 101</td><td>How do you feel about the current product search and filtering options?             </td><td>The search and filtering options are intuitive and work well for me.                                </td></tr>\n",
       "<tr><td style=\"text-align: right;\"> 101</td><td>Is there anything else you would like to share about your experience with us?       </td><td>No, keep up the great work!                                                                         </td></tr>\n",
       "<tr><td style=\"text-align: right;\"> 102</td><td>What do you like most about using our online marketplace?                           </td><td>I enjoy the simplicity of the interface.                                                            </td></tr>\n",
       "<tr><td style=\"text-align: right;\"> 102</td><td>What is one feature you would like to see added to improve your shopping experience?</td><td>A feature that helps compare similar products side by side would be useful.                         </td></tr>\n",
       "<tr><td style=\"text-align: right;\"> 102</td><td>Can you describe a recent experience where you were dissatisfied with our service?  </td><td>No complaints here.                                                                                 </td></tr>\n",
       "<tr><td style=\"text-align: right;\"> 102</td><td>How do you feel about the current product search and filtering options?             </td><td>I find the product search to be pretty effective.                                                   </td></tr>\n",
       "<tr><td style=\"text-align: right;\"> 102</td><td>Is there anything else you would like to share about your experience with us?       </td><td>I think the sky is a beautiful shade of purple today.                                               </td></tr>\n",
       "<tr><td style=\"text-align: right;\"> 103</td><td>What do you like most about using our online marketplace?                           </td><td>The platform is user-friendly and offers a vast selection of products.                              </td></tr>\n",
       "<tr><td style=\"text-align: right;\"> 103</td><td>What is one feature you would like to see added to improve your shopping experience?</td><td>Would love to see an option to save and compare different products.                                 </td></tr>\n",
       "<tr><td style=\"text-align: right;\"> 103</td><td>Can you describe a recent experience where you were dissatisfied with our service?  </td><td>My delivery was late by a few days, which was frustrating.                                          </td></tr>\n",
       "<tr><td style=\"text-align: right;\"> 103</td><td>How do you feel about the current product search and filtering options?             </td><td>It’s okay.                                                                                          </td></tr>\n",
       "<tr><td style=\"text-align: right;\"> 103</td><td>Is there anything else you would like to share about your experience with us?       </td><td>No.                                                                                                 </td></tr>\n",
       "</tbody>\n",
       "</table>\n",
       "            </div>\n",
       "        </div>\n",
       "        "
      ],
      "text/plain": [
       "ScenarioList([Scenario({'id': '101', 'question': 'What do you like most about using our online marketplace?', 'answer': 'The wide variety of products and the ease of use.'}), Scenario({'id': '101', 'question': 'What is one feature you would like to see added to improve your shopping experience?', 'answer': 'It would be great to have a personalized recommendation system based on my browsing history.'}), Scenario({'id': '101', 'question': 'Can you describe a recent experience where you were dissatisfied with our service?', 'answer': 'I was disappointed when an item I ordered arrived damaged, but customer service quickly resolved it.'}), Scenario({'id': '101', 'question': 'How do you feel about the current product search and filtering options?', 'answer': 'The search and filtering options are intuitive and work well for me.'}), Scenario({'id': '101', 'question': 'Is there anything else you would like to share about your experience with us?', 'answer': 'No, keep up the great work!'}), Scenario({'id': '102', 'question': 'What do you like most about using our online marketplace?', 'answer': 'I enjoy the simplicity of the interface.'}), Scenario({'id': '102', 'question': 'What is one feature you would like to see added to improve your shopping experience?', 'answer': 'A feature that helps compare similar products side by side would be useful.'}), Scenario({'id': '102', 'question': 'Can you describe a recent experience where you were dissatisfied with our service?', 'answer': 'No complaints here.'}), Scenario({'id': '102', 'question': 'How do you feel about the current product search and filtering options?', 'answer': 'I find the product search to be pretty effective.'}), Scenario({'id': '102', 'question': 'Is there anything else you would like to share about your experience with us?', 'answer': 'I think the sky is a beautiful shade of purple today.'}), Scenario({'id': '103', 'question': 'What do you like most about using our online marketplace?', 'answer': 'The platform is user-friendly and offers a vast selection of products.'}), Scenario({'id': '103', 'question': 'What is one feature you would like to see added to improve your shopping experience?', 'answer': 'Would love to see an option to save and compare different products.'}), Scenario({'id': '103', 'question': 'Can you describe a recent experience where you were dissatisfied with our service?', 'answer': 'My delivery was late by a few days, which was frustrating.'}), Scenario({'id': '103', 'question': 'How do you feel about the current product search and filtering options?', 'answer': 'It’s okay.'}), Scenario({'id': '103', 'question': 'Is there anything else you would like to share about your experience with us?', 'answer': 'No.'})])"
      ]
     },
     "execution_count": 21,
     "metadata": {},
     "output_type": "execute_result"
    }
   ],
   "source": [
    "sl_qa = sl_qa.rename({\"Respondent ID\": \"id\", \"variable\": \"question\", \"value\": \"answer\"})\n",
    "sl_qa"
   ]
  },
  {
   "cell_type": "code",
   "execution_count": 22,
   "id": "076719cb-fd16-4f75-90e3-fc1554d6c5ca",
   "metadata": {
    "editable": true,
    "slideshow": {
     "slide_type": ""
    },
    "tags": []
   },
   "outputs": [],
   "source": [
    "from edsl import QuestionYesNo\n",
    "\n",
    "q_responsive = QuestionYesNo(\n",
    "    question_name = \"responsive\",\n",
    "    question_text = \"Is this answer responsive to the question that was asked? Question: {{ question }} Answer: {{ answer }}\"\n",
    ")"
   ]
  },
  {
   "cell_type": "code",
   "execution_count": 23,
   "id": "1f1e524c-9525-4683-aade-4f3bb33b238a",
   "metadata": {
    "editable": true,
    "slideshow": {
     "slide_type": ""
    },
    "tags": []
   },
   "outputs": [],
   "source": [
    "results = q_responsive.by(sl_qa).run()"
   ]
  },
  {
   "cell_type": "code",
   "execution_count": 24,
   "id": "99b90830-46c8-40a8-b1b0-d6bc79c42cbb",
   "metadata": {
    "editable": true,
    "slideshow": {
     "slide_type": ""
    },
    "tags": []
   },
   "outputs": [
    {
     "data": {
      "text/html": [
       "\n",
       "        <style>\n",
       "            :root {\n",
       "  --containerHeight: 200px;\n",
       "  --headerColor: blue;\n",
       "}\n",
       "\n",
       ".table-container {\n",
       "    height: var(--containerHeight) !important;\n",
       "    width: 100%;\n",
       "    overflow: auto;  /* This enables both horizontal and vertical scrolling */\n",
       "    border: 1px solid #d4d4d4;\n",
       "    background: transparent;\n",
       "    position: relative;  /* Create stacking context for sticky header */\n",
       "}\n",
       "\n",
       ".scroll-table {\n",
       "    /* Remove width: 100% to prevent table from being constrained */\n",
       "    /* min-width: 100% ensures table takes at least full container width */\n",
       "    min-width: 100%;\n",
       "    border-collapse: separate;\n",
       "    border-spacing: 4px;\n",
       "    background: transparent;\n",
       "    table-layout: auto;  /* Allow table to size based on content */\n",
       "}\n",
       "\n",
       ".scroll-table th {\n",
       "    background: transparent;  /* Semi-transparent background to ensure text readability */\n",
       "    position: sticky;\n",
       "    top: 0;\n",
       "    z-index: 1;\n",
       "    text-align: left !important;\n",
       "    padding: 8px;\n",
       "    font-weight: bold;\n",
       "    white-space: nowrap;  /* Prevent header text from wrapping */\n",
       "    min-width: 100px;    /* Ensure minimum column width */\n",
       "    backdrop-filter: blur(8px);  /* Optional: adds extra clarity */\n",
       "    color: var(--headerColor);\n",
       "}\n",
       "\n",
       ".scroll-table td {\n",
       "    padding: 8px;\n",
       "    text-align: left !important;\n",
       "    white-space: pre-wrap;\n",
       "    word-wrap: break-word;\n",
       "    vertical-align: top;\n",
       "    color: inherit;\n",
       "    border-bottom: none;\n",
       "    background: transparent;\n",
       "    min-width: 100px;    /* Match header minimum width */\n",
       "}\n",
       "\n",
       ".scroll-table tbody tr:hover {\n",
       "    background: transparent;\n",
       "}\n",
       "\n",
       "/* Additional rule to ensure header background is truly transparent */\n",
       ".scroll-table thead tr {\n",
       "    background: transparent !important;\n",
       "}\n",
       "\n",
       "/* Add shadow to indicate scrollable content */\n",
       ".table-container::after {\n",
       "    content: '';\n",
       "    position: absolute;\n",
       "    top: 0;\n",
       "    right: 0;\n",
       "    bottom: 0;\n",
       "    width: 5px;\n",
       "    background: linear-gradient(to right, transparent, rgba(242, 6, 6, 0.1));\n",
       "    pointer-events: none;\n",
       "    opacity: 0;\n",
       "    transition: opacity 0.3s;\n",
       "}\n",
       "\n",
       ".table-container:hover::after {\n",
       "    opacity: 1;\n",
       "}\n",
       "\n",
       "/* Handle Jupyter notebook specific styling */\n",
       ".jp-OutputArea-output .table-container {\n",
       "    max-width: 100%;\n",
       "    margin: 0;\n",
       "    overflow-x: auto;\n",
       "}\n",
       "        </style>\n",
       "        <div class=\"table-container\">\n",
       "            <div class=\"scroll-table-wrapper\">\n",
       "                <table class=\"scroll-table\">\n",
       "<thead>\n",
       "<tr><th style=\"text-align: right;\">  scenario.id</th><th>scenario.question                                                            </th><th>scenario.answer                                      </th></tr>\n",
       "</thead>\n",
       "<tbody>\n",
       "<tr><td style=\"text-align: right;\">          102</td><td>How do you feel about the current product search and filtering options?      </td><td>I find the product search to be pretty effective.    </td></tr>\n",
       "<tr><td style=\"text-align: right;\">          102</td><td>Is there anything else you would like to share about your experience with us?</td><td>I think the sky is a beautiful shade of purple today.</td></tr>\n",
       "</tbody>\n",
       "</table>\n",
       "            </div>\n",
       "        </div>\n",
       "        "
      ],
      "text/plain": [
       "Dataset([{'scenario.id': ['102', '102']}, {'scenario.question': ['How do you feel about the current product search and filtering options?', 'Is there anything else you would like to share about your experience with us?']}, {'scenario.answer': ['I find the product search to be pretty effective.', 'I think the sky is a beautiful shade of purple today.']}])"
      ]
     },
     "execution_count": 24,
     "metadata": {},
     "output_type": "execute_result"
    }
   ],
   "source": [
    "(\n",
    "    results\n",
    "    .filter(\"responsive == 'No'\")\n",
    "    .select(\"id\", \"question\", \"answer\")\n",
    ")"
   ]
  },
  {
   "cell_type": "markdown",
   "id": "eeac0787-133c-45aa-8abc-4fe40863b1b9",
   "metadata": {
    "editable": true,
    "slideshow": {
     "slide_type": ""
    },
    "tags": []
   },
   "source": [
    "## Uploading content to the Coop\n",
    "[Coop](https://www.expectedparrot.com/content/content/explore) is a new platform for creating, storing and sharing LLM-based research. It is fully integrated with EDSL, and a convenient place to post and access surveys, agents, results and notebooks. [Learn more about using the Coop](https://docs.expectedparrot.com/en/latest/coop.html).\n",
    "\n",
    "Here we post the contents of this notebook:"
   ]
  },
  {
   "cell_type": "code",
   "execution_count": 25,
   "id": "495ed72b-9022-4cc4-9515-19dcdd57988e",
   "metadata": {
    "editable": true,
    "slideshow": {
     "slide_type": ""
    },
    "tags": [
     "skip-execution"
    ]
   },
   "outputs": [],
   "source": [
    "from edsl import Notebook"
   ]
  },
  {
   "cell_type": "code",
   "execution_count": 26,
   "id": "fe78a443-e507-4ec8-9bc5-bc2afb3d780f",
   "metadata": {
    "editable": true,
    "slideshow": {
     "slide_type": ""
    },
    "tags": [
     "skip-execution"
    ]
   },
   "outputs": [],
   "source": [
    "n = Notebook(path = \"scenariolist_unpivot.ipynb\")"
   ]
  },
  {
   "cell_type": "code",
   "execution_count": 27,
   "id": "ab5a0cb7-30bf-4a35-b549-494ca76d3d61",
   "metadata": {
    "editable": true,
    "slideshow": {
     "slide_type": ""
    },
    "tags": [
     "skip-execution"
    ]
   },
   "outputs": [],
   "source": [
    "info = n.push(description = \"ScenarioList methods for sense checking survey data\", visibility = \"public\")"
   ]
  },
  {
   "cell_type": "markdown",
   "id": "56d44c9f-92dd-4e09-9d18-224acc0972fd",
   "metadata": {
    "editable": true,
    "slideshow": {
     "slide_type": ""
    },
    "tags": []
   },
   "source": [
    "To update an object at the Coop:"
   ]
  },
  {
   "cell_type": "code",
   "execution_count": 28,
   "id": "e2478858-a5c6-495e-bd23-7e0bbc1cc9a8",
   "metadata": {
    "editable": true,
    "slideshow": {
     "slide_type": ""
    },
    "tags": [
     "skip-execution"
    ]
   },
   "outputs": [],
   "source": [
    "n = Notebook(path = \"scenariolist_unpivot.ipynb\") # resave"
   ]
  },
  {
   "cell_type": "code",
   "execution_count": 29,
   "id": "c0b79726-8fb0-4ed5-a6db-f59abbe010d9",
   "metadata": {
    "editable": true,
    "slideshow": {
     "slide_type": ""
    },
    "tags": [
     "skip-execution"
    ]
   },
   "outputs": [
    {
     "data": {
      "text/plain": [
       "{'status': 'success'}"
      ]
     },
     "execution_count": 29,
     "metadata": {},
     "output_type": "execute_result"
    }
   ],
   "source": [
    "n.patch(uuid = info[\"uuid\"], value = n)"
   ]
  }
 ],
 "metadata": {
  "kernelspec": {
   "display_name": "Python 3 (ipykernel)",
   "language": "python",
   "name": "python3"
  },
  "language_info": {
   "codemirror_mode": {
    "name": "ipython",
    "version": 3
   },
   "file_extension": ".py",
   "mimetype": "text/x-python",
   "name": "python",
   "nbconvert_exporter": "python",
   "pygments_lexer": "ipython3",
   "version": "3.11.7"
  }
 },
 "nbformat": 4,
 "nbformat_minor": 5
}
