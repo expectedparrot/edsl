{
 "cells": [
  {
   "cell_type": "markdown",
   "id": "f3e05c2b-1f28-466d-9a54-8b7c554c9d1e",
   "metadata": {
    "editable": true,
    "slideshow": {
     "slide_type": ""
    },
    "tags": []
   },
   "source": [
    "# Using EDSL to sense check data\n",
    "This notebook provides example code for sense checking survey data using [EDSL](https://docs.expectedparrot.com), an open-source library for simulating surveys, experiments and market research with AI agents and large language models. \n",
    "\n",
    "## Contents\n",
    "Using a set of responses to a survey about online marketplaces as an example, we demonstrate EDSL methods for: \n",
    "\n",
    "1. Evaluating survey questions (e.g., for clarity and improvements)\n",
    "2. Analyzing each respondent's set of answers (e.g., to summarize or identify sentiment, themes, etc.)\n",
    "3. Reviewing each answer individually (e.g., to evaluate its relevance or usefulness)\n",
    "\n",
    "## Coop\n",
    "We also show how to post EDSL questions, surveys, results and notebooks (like this one) to [Coop: an integrated platform for creating and sharing LLM-based research](https://www.expectedparrot.com/explore). \n",
    "\n",
    "## How EDSL works\n",
    "EDSL is a flexible library that can be used to perform a broad variety of research tasks. A typical workflow consists of the following steps:\n",
    "\n",
    "* Construct questions  \n",
    "* Add data to the questions (e.g., for data labeling tasks)\n",
    "* Use an AI agent to answer the questions\n",
    "* Select a language model to generate the answers\n",
    "* Analyze results in a formatted dataset\n",
    "\n",
    "## Technical setup\n",
    "Before running the code below please ensure that you have completed setup:\n",
    "\n",
    "* [Install](https://docs.expectedparrot.com/en/latest/installation.html) the EDSL library.\n",
    "* Create a [Coop account](https://www.expectedparrot.com/login) and activate [remote inference](https://docs.expectedparrot.com/en/latest/remote_inference.html) OR store your own [API Keys](https://docs.expectedparrot.com/en/latest/api_keys.html) for language models that you want to use.\n",
    "\n",
    "Our [Starter Tutorial](https://docs.expectedparrot.com/en/latest/starter_tutorial.html) provides examples of EDSL basic components. "
   ]
  },
  {
   "cell_type": "markdown",
   "id": "f1986963-2a7f-4bd7-9f0b-0e3ccfb00e02",
   "metadata": {
    "editable": true,
    "slideshow": {
     "slide_type": ""
    },
    "tags": []
   },
   "source": [
    "## Example data\n",
    "Our example data is a CSV consisting of several questions and a few rows of responses.\n",
    "Here we store it at the Coop and then re-import it:"
   ]
  },
  {
   "cell_type": "code",
   "execution_count": 1,
   "id": "6f7c3ed3-97c4-4f18-ad0d-4c149a3f844b",
   "metadata": {
    "editable": true,
    "slideshow": {
     "slide_type": ""
    },
    "tags": []
   },
   "outputs": [],
   "source": [
    "from edsl import FileStore"
   ]
  },
  {
   "cell_type": "code",
   "execution_count": 2,
   "id": "51927530-fbed-4d80-b280-d54bdcc99cba",
   "metadata": {
    "editable": true,
    "slideshow": {
     "slide_type": ""
    },
    "tags": []
   },
   "outputs": [
    {
     "data": {
      "text/plain": [
       "{'description': 'File: marketplace_survey_results.csv',\n",
       " 'object_type': 'scenario',\n",
       " 'url': 'https://www.expectedparrot.com/content/83edbe9f-ff45-4d96-b35d-e388e07f0c4e',\n",
       " 'uuid': '83edbe9f-ff45-4d96-b35d-e388e07f0c4e',\n",
       " 'version': '0.1.45.dev1',\n",
       " 'visibility': 'unlisted'}"
      ]
     },
     "execution_count": 2,
     "metadata": {},
     "output_type": "execute_result"
    }
   ],
   "source": [
    "fs = FileStore(\"marketplace_survey_results.csv\")\n",
    "info = fs.push()\n",
    "info"
   ]
  },
  {
   "cell_type": "code",
   "execution_count": 3,
   "id": "43a3ea5e-d7be-4e13-80e3-a9abfb144ed3",
   "metadata": {
    "editable": true,
    "slideshow": {
     "slide_type": ""
    },
    "tags": []
   },
   "outputs": [],
   "source": [
    "csv_file = FileStore.pull(info[\"uuid\"])"
   ]
  },
  {
   "cell_type": "markdown",
   "id": "1f73e0f9-1af9-41ae-901e-53fc64a3c545",
   "metadata": {
    "editable": true,
    "slideshow": {
     "slide_type": ""
    },
    "tags": []
   },
   "source": [
    "## Creating questions about the data\n",
    "There are many questions we might want to ask about the data, such as:\n",
    "\n",
    "* Does this survey question have any logical or syntactical problems? {{ *question* }}\n",
    "* What is the overall sentiment of this respondent's answers? {{ *responses* }}\n",
    "* Is this answer responsive to the question that was asked? {{ *question* }} {{ *answer* }}"
   ]
  },
  {
   "cell_type": "markdown",
   "id": "57c30c86-ac26-4d0f-a8be-fc95e5d2ad85",
   "metadata": {
    "editable": true,
    "slideshow": {
     "slide_type": ""
    },
    "tags": []
   },
   "source": [
    "## Question types\n",
    "EDSL comes with many common question types that we can select from based on the form of the response that we want to get back from the model: multiple choice, checkbox, linear scale, free text, etc. [Learn more about EDSL question types](https://docs.expectedparrot.com/en/latest/questions.html).\n",
    "\n",
    "Here we construct `Question` objects for the questions that we want to ask about the data, using `{{ placeholders }}` for the information that we will add to the questions in the steps that follow:"
   ]
  },
  {
   "cell_type": "code",
   "execution_count": 4,
   "id": "d79f413a-ae95-4493-9d2f-ab573b08b635",
   "metadata": {
    "editable": true,
    "slideshow": {
     "slide_type": ""
    },
    "tags": []
   },
   "outputs": [],
   "source": [
    "from edsl import QuestionFreeText, QuestionMultipleChoice, QuestionYesNo"
   ]
  },
  {
   "cell_type": "code",
   "execution_count": 5,
   "id": "21a46fac-9bc6-4fad-9b47-91ea04f896a3",
   "metadata": {
    "editable": true,
    "slideshow": {
     "slide_type": ""
    },
    "tags": []
   },
   "outputs": [],
   "source": [
    "q_logic = QuestionFreeText(\n",
    "    question_name = \"logic\",\n",
    "    question_text = \"Describe any logical or syntactical problems in the following survey question: {{ question }}\"\n",
    ")"
   ]
  },
  {
   "cell_type": "code",
   "execution_count": 6,
   "id": "3f85f392-3807-4672-8b7e-ef83526c46f2",
   "metadata": {
    "editable": true,
    "slideshow": {
     "slide_type": ""
    },
    "tags": []
   },
   "outputs": [],
   "source": [
    "q_sentiment = QuestionMultipleChoice(\n",
    "    question_name = \"sentiment\",\n",
    "    question_text = \"What is the overall sentiment of this respondent's survey answers? {{ responses }}\",\n",
    "    question_options = [\"Very unsatisfied\", \"Somewhat unsatisfied\", \"Somewhat satisfied\", \"Very satisfied\"]\n",
    ")"
   ]
  },
  {
   "cell_type": "code",
   "execution_count": 7,
   "id": "dc72fa3a-a338-4705-9b01-53f461724422",
   "metadata": {
    "editable": true,
    "slideshow": {
     "slide_type": ""
    },
    "tags": []
   },
   "outputs": [],
   "source": [
    "q_responsive = QuestionYesNo(\n",
    "    question_name = \"responsive\",\n",
    "    question_text = \"Is this answer responsive to the question that was asked? Question: {{ question }} Answer: {{ answer }}\"\n",
    ")"
   ]
  },
  {
   "cell_type": "markdown",
   "id": "d0431ad6-62a1-45b1-91ec-6b872e6050c8",
   "metadata": {
    "editable": true,
    "slideshow": {
     "slide_type": ""
    },
    "tags": []
   },
   "source": [
    "## Adding survey data to the questions\n",
    "Next we'll add our data to our questions. This can be done efficiently by creating a `ScenarioList` representing the data. The individual `Scenario` objects in the list can be constructed in a variety of ways depending on the information that we want to include in a particular question.\n",
    "\n",
    "We start by calling the `from_csv()` method to create a `ScenarioList` for the data in its original form. We can see that this generates a `Scenario` dictionary for each respondent's set of answers with key/value pairs for the individual questions and answers: "
   ]
  },
  {
   "cell_type": "code",
   "execution_count": 8,
   "id": "ec4b239d-c991-4e6f-b9ab-c369a990a748",
   "metadata": {
    "editable": true,
    "slideshow": {
     "slide_type": ""
    },
    "tags": []
   },
   "outputs": [],
   "source": [
    "from edsl import ScenarioList"
   ]
  },
  {
   "cell_type": "code",
   "execution_count": 9,
   "id": "d3d88d16-48d7-419a-9562-558825c08fff",
   "metadata": {
    "editable": true,
    "slideshow": {
     "slide_type": ""
    },
    "tags": []
   },
   "outputs": [
    {
     "data": {
      "text/html": [
       "<p><a href='https://docs.expectedparrot.com/en/latest/scenarios.html#scenariolist'>ScenarioList</a> scenarios: 3; keys: ['Can you describe a recent experience where you were dissatisfied with our service?', 'Respondent ID', 'What do you like most about using our online marketplace?', 'What is one feature you would like to see added to improve your shopping experience?', 'How do you feel about the current product search and filtering options?', 'Is there anything else you would like to share about your experience with us?'];</p>\n",
       "            <div style=\"max-height: 500px; overflow-y: auto;\">\n",
       "                <style type=\"text/css\">\n",
       "#T_c1839_row0_col0 {\n",
       "  text-align: left;\n",
       "  background-color: #fff7fb;\n",
       "  color: #000000;\n",
       "}\n",
       "#T_c1839_row0_col1, #T_c1839_row0_col2, #T_c1839_row0_col3, #T_c1839_row0_col4, #T_c1839_row0_col5, #T_c1839_row1_col1, #T_c1839_row1_col2, #T_c1839_row1_col3, #T_c1839_row1_col4, #T_c1839_row1_col5, #T_c1839_row2_col1, #T_c1839_row2_col2, #T_c1839_row2_col3, #T_c1839_row2_col4, #T_c1839_row2_col5 {\n",
       "  text-align: left;\n",
       "}\n",
       "#T_c1839_row1_col0 {\n",
       "  text-align: left;\n",
       "  background-color: #73a9cf;\n",
       "  color: #f1f1f1;\n",
       "}\n",
       "#T_c1839_row2_col0 {\n",
       "  text-align: left;\n",
       "  background-color: #023858;\n",
       "  color: #f1f1f1;\n",
       "}\n",
       "</style>\n",
       "<table id=\"T_c1839\">\n",
       "  <thead>\n",
       "    <tr>\n",
       "      <th class=\"blank level0\" >&nbsp;</th>\n",
       "      <th id=\"T_c1839_level0_col0\" class=\"col_heading level0 col0\" >Respondent ID</th>\n",
       "      <th id=\"T_c1839_level0_col1\" class=\"col_heading level0 col1\" >What do you like most about using our online marketplace?</th>\n",
       "      <th id=\"T_c1839_level0_col2\" class=\"col_heading level0 col2\" >What is one feature you would like to see added to improve your shopping experience?</th>\n",
       "      <th id=\"T_c1839_level0_col3\" class=\"col_heading level0 col3\" >Can you describe a recent experience where you were dissatisfied with our service?</th>\n",
       "      <th id=\"T_c1839_level0_col4\" class=\"col_heading level0 col4\" >How do you feel about the current product search and filtering options?</th>\n",
       "      <th id=\"T_c1839_level0_col5\" class=\"col_heading level0 col5\" >Is there anything else you would like to share about your experience with us?</th>\n",
       "    </tr>\n",
       "  </thead>\n",
       "  <tbody>\n",
       "    <tr>\n",
       "      <th id=\"T_c1839_level0_row0\" class=\"row_heading level0 row0\" >0</th>\n",
       "      <td id=\"T_c1839_row0_col0\" class=\"data row0 col0\" >101</td>\n",
       "      <td id=\"T_c1839_row0_col1\" class=\"data row0 col1\" >The wide variety of products and the ease of use.</td>\n",
       "      <td id=\"T_c1839_row0_col2\" class=\"data row0 col2\" >It would be great to have a personalized recommendation system based on my browsing history.</td>\n",
       "      <td id=\"T_c1839_row0_col3\" class=\"data row0 col3\" >I was disappointed when an item I ordered arrived damaged, but customer service quickly resolved it.</td>\n",
       "      <td id=\"T_c1839_row0_col4\" class=\"data row0 col4\" >The search and filtering options are intuitive and work well for me.</td>\n",
       "      <td id=\"T_c1839_row0_col5\" class=\"data row0 col5\" >No, keep up the great work!</td>\n",
       "    </tr>\n",
       "    <tr>\n",
       "      <th id=\"T_c1839_level0_row1\" class=\"row_heading level0 row1\" >1</th>\n",
       "      <td id=\"T_c1839_row1_col0\" class=\"data row1 col0\" >102</td>\n",
       "      <td id=\"T_c1839_row1_col1\" class=\"data row1 col1\" >I enjoy the simplicity of the interface.</td>\n",
       "      <td id=\"T_c1839_row1_col2\" class=\"data row1 col2\" >A feature that helps compare similar products side by side would be useful.</td>\n",
       "      <td id=\"T_c1839_row1_col3\" class=\"data row1 col3\" >No complaints here.</td>\n",
       "      <td id=\"T_c1839_row1_col4\" class=\"data row1 col4\" >I find the product search to be pretty effective.</td>\n",
       "      <td id=\"T_c1839_row1_col5\" class=\"data row1 col5\" >I think the sky is a beautiful shade of purple today.</td>\n",
       "    </tr>\n",
       "    <tr>\n",
       "      <th id=\"T_c1839_level0_row2\" class=\"row_heading level0 row2\" >2</th>\n",
       "      <td id=\"T_c1839_row2_col0\" class=\"data row2 col0\" >103</td>\n",
       "      <td id=\"T_c1839_row2_col1\" class=\"data row2 col1\" >The platform is user-friendly and offers a vast selection of products.</td>\n",
       "      <td id=\"T_c1839_row2_col2\" class=\"data row2 col2\" >Would love to see an option to save and compare different products.</td>\n",
       "      <td id=\"T_c1839_row2_col3\" class=\"data row2 col3\" >My delivery was late by a few days, which was frustrating.</td>\n",
       "      <td id=\"T_c1839_row2_col4\" class=\"data row2 col4\" >It’s okay.</td>\n",
       "      <td id=\"T_c1839_row2_col5\" class=\"data row2 col5\" >No.</td>\n",
       "    </tr>\n",
       "  </tbody>\n",
       "</table>\n",
       "\n",
       "            </div>\n",
       "            "
      ],
      "text/plain": [
       "ScenarioList([Scenario({'Respondent ID': '101', 'What do you like most about using our online marketplace?': 'The wide variety of products and the ease of use.', 'What is one feature you would like to see added to improve your shopping experience?': 'It would be great to have a personalized recommendation system based on my browsing history.', 'Can you describe a recent experience where you were dissatisfied with our service?': 'I was disappointed when an item I ordered arrived damaged, but customer service quickly resolved it.', 'How do you feel about the current product search and filtering options?': 'The search and filtering options are intuitive and work well for me.', 'Is there anything else you would like to share about your experience with us?': 'No, keep up the great work!'}), Scenario({'Respondent ID': '102', 'What do you like most about using our online marketplace?': 'I enjoy the simplicity of the interface.', 'What is one feature you would like to see added to improve your shopping experience?': 'A feature that helps compare similar products side by side would be useful.', 'Can you describe a recent experience where you were dissatisfied with our service?': 'No complaints here.', 'How do you feel about the current product search and filtering options?': 'I find the product search to be pretty effective.', 'Is there anything else you would like to share about your experience with us?': 'I think the sky is a beautiful shade of purple today.'}), Scenario({'Respondent ID': '103', 'What do you like most about using our online marketplace?': 'The platform is user-friendly and offers a vast selection of products.', 'What is one feature you would like to see added to improve your shopping experience?': 'Would love to see an option to save and compare different products.', 'Can you describe a recent experience where you were dissatisfied with our service?': 'My delivery was late by a few days, which was frustrating.', 'How do you feel about the current product search and filtering options?': 'It’s okay.', 'Is there anything else you would like to share about your experience with us?': 'No.'})])"
      ]
     },
     "execution_count": 9,
     "metadata": {},
     "output_type": "execute_result"
    }
   ],
   "source": [
    "sl = ScenarioList.from_csv(csv_file.to_tempfile()) # replace with CSV file name if importing a local file\n",
    "sl"
   ]
  },
  {
   "cell_type": "markdown",
   "id": "86cceffb-bc56-4e60-8687-da56f61128c9",
   "metadata": {
    "editable": true,
    "slideshow": {
     "slide_type": ""
    },
    "tags": []
   },
   "source": [
    "## Evaluating the questions\n",
    "For our first question we want to create a `Scenario` for each survey question:"
   ]
  },
  {
   "cell_type": "code",
   "execution_count": 10,
   "id": "a54ced10-a684-4510-ad7a-85b2f886e61c",
   "metadata": {
    "editable": true,
    "slideshow": {
     "slide_type": ""
    },
    "tags": []
   },
   "outputs": [],
   "source": [
    "from edsl import QuestionFreeText, Survey\n",
    "\n",
    "q_logic = QuestionFreeText(\n",
    "    question_name = \"logic\",\n",
    "    question_text = \"Describe any logical or syntactical problems in the following survey question: {{ question }}\"\n",
    ")\n",
    "\n",
    "q_improved = QuestionFreeText(\n",
    "    question_name = \"improved\",\n",
    "    question_text = \"Please draft an improved version of the survey question. Return only the revised question text.\"\n",
    ")\n",
    "\n",
    "survey = Survey([q_logic, q_improved]).add_targeted_memory(q_improved, q_logic)"
   ]
  },
  {
   "cell_type": "markdown",
   "id": "74982aec-3d58-44f2-aaa5-b9753ec71da0",
   "metadata": {
    "editable": true,
    "slideshow": {
     "slide_type": ""
    },
    "tags": []
   },
   "source": [
    "The survey questions are the `parameters` of the `ScenarioList` created above:"
   ]
  },
  {
   "cell_type": "code",
   "execution_count": 11,
   "id": "a7ae21a0-fdca-4d74-b09f-34176ab3e5e2",
   "metadata": {
    "editable": true,
    "slideshow": {
     "slide_type": ""
    },
    "tags": []
   },
   "outputs": [
    {
     "data": {
      "text/plain": [
       "['Can you describe a recent experience where you were dissatisfied with our service?',\n",
       " 'Respondent ID',\n",
       " 'What do you like most about using our online marketplace?',\n",
       " 'What is one feature you would like to see added to improve your shopping experience?',\n",
       " 'How do you feel about the current product search and filtering options?',\n",
       " 'Is there anything else you would like to share about your experience with us?']"
      ]
     },
     "execution_count": 11,
     "metadata": {},
     "output_type": "execute_result"
    }
   ],
   "source": [
    "questions = list(sl.parameters)\n",
    "questions"
   ]
  },
  {
   "cell_type": "markdown",
   "id": "160ce53e-1e04-4537-952b-2abb045d9a00",
   "metadata": {
    "editable": true,
    "slideshow": {
     "slide_type": ""
    },
    "tags": []
   },
   "source": [
    "We can pass them to the `from_list()` method to create a new `ScenarioList`, specifying that the key for each `Scenario` will be `question` in order to match the parameter of our logic question:"
   ]
  },
  {
   "cell_type": "code",
   "execution_count": 12,
   "id": "47e56caa-696e-4510-98f0-1e3044584cce",
   "metadata": {
    "editable": true,
    "slideshow": {
     "slide_type": ""
    },
    "tags": []
   },
   "outputs": [
    {
     "data": {
      "text/html": [
       "<p><a href='https://docs.expectedparrot.com/en/latest/scenarios.html#scenariolist'>ScenarioList</a> scenarios: 6; keys: ['question'];</p>\n",
       "            <div style=\"max-height: 500px; overflow-y: auto;\">\n",
       "                <style type=\"text/css\">\n",
       "#T_b46b7_row0_col0, #T_b46b7_row1_col0, #T_b46b7_row2_col0, #T_b46b7_row3_col0, #T_b46b7_row4_col0, #T_b46b7_row5_col0 {\n",
       "  text-align: left;\n",
       "}\n",
       "</style>\n",
       "<table id=\"T_b46b7\">\n",
       "  <thead>\n",
       "    <tr>\n",
       "      <th class=\"blank level0\" >&nbsp;</th>\n",
       "      <th id=\"T_b46b7_level0_col0\" class=\"col_heading level0 col0\" >question</th>\n",
       "    </tr>\n",
       "  </thead>\n",
       "  <tbody>\n",
       "    <tr>\n",
       "      <th id=\"T_b46b7_level0_row0\" class=\"row_heading level0 row0\" >0</th>\n",
       "      <td id=\"T_b46b7_row0_col0\" class=\"data row0 col0\" >Can you describe a recent experience where you were dissatisfied with our service?</td>\n",
       "    </tr>\n",
       "    <tr>\n",
       "      <th id=\"T_b46b7_level0_row1\" class=\"row_heading level0 row1\" >1</th>\n",
       "      <td id=\"T_b46b7_row1_col0\" class=\"data row1 col0\" >Respondent ID</td>\n",
       "    </tr>\n",
       "    <tr>\n",
       "      <th id=\"T_b46b7_level0_row2\" class=\"row_heading level0 row2\" >2</th>\n",
       "      <td id=\"T_b46b7_row2_col0\" class=\"data row2 col0\" >What do you like most about using our online marketplace?</td>\n",
       "    </tr>\n",
       "    <tr>\n",
       "      <th id=\"T_b46b7_level0_row3\" class=\"row_heading level0 row3\" >3</th>\n",
       "      <td id=\"T_b46b7_row3_col0\" class=\"data row3 col0\" >What is one feature you would like to see added to improve your shopping experience?</td>\n",
       "    </tr>\n",
       "    <tr>\n",
       "      <th id=\"T_b46b7_level0_row4\" class=\"row_heading level0 row4\" >4</th>\n",
       "      <td id=\"T_b46b7_row4_col0\" class=\"data row4 col0\" >How do you feel about the current product search and filtering options?</td>\n",
       "    </tr>\n",
       "    <tr>\n",
       "      <th id=\"T_b46b7_level0_row5\" class=\"row_heading level0 row5\" >5</th>\n",
       "      <td id=\"T_b46b7_row5_col0\" class=\"data row5 col0\" >Is there anything else you would like to share about your experience with us?</td>\n",
       "    </tr>\n",
       "  </tbody>\n",
       "</table>\n",
       "\n",
       "            </div>\n",
       "            "
      ],
      "text/plain": [
       "ScenarioList([Scenario({'question': 'Can you describe a recent experience where you were dissatisfied with our service?'}), Scenario({'question': 'Respondent ID'}), Scenario({'question': 'What do you like most about using our online marketplace?'}), Scenario({'question': 'What is one feature you would like to see added to improve your shopping experience?'}), Scenario({'question': 'How do you feel about the current product search and filtering options?'}), Scenario({'question': 'Is there anything else you would like to share about your experience with us?'})])"
      ]
     },
     "execution_count": 12,
     "metadata": {},
     "output_type": "execute_result"
    }
   ],
   "source": [
    "sl_questions = ScenarioList.from_list(\"question\", questions)\n",
    "sl_questions"
   ]
  },
  {
   "cell_type": "markdown",
   "id": "9b81e0e9-e943-46b4-9b7a-80abe151adc9",
   "metadata": {
    "editable": true,
    "slideshow": {
     "slide_type": ""
    },
    "tags": []
   },
   "source": [
    "We select a model to use, and then add the scenarios to the survey when we run it:"
   ]
  },
  {
   "cell_type": "code",
   "execution_count": 13,
   "id": "caa10cca-b0c2-4a87-95f0-0682b0f68def",
   "metadata": {
    "editable": true,
    "slideshow": {
     "slide_type": ""
    },
    "tags": []
   },
   "outputs": [],
   "source": [
    "from edsl import Model\n",
    "\n",
    "m = Model(\"gemini-1.5-flash\")"
   ]
  },
  {
   "cell_type": "code",
   "execution_count": 14,
   "id": "f97b52a1-4beb-4bdb-bea6-dbf48934b7dc",
   "metadata": {
    "editable": true,
    "slideshow": {
     "slide_type": ""
    },
    "tags": []
   },
   "outputs": [
    {
     "data": {
      "text/html": [
       "\n",
       "            <!-- #region Remove Inference Info -->\n",
       "            <div id=\"logger-7c31024c-0eae-4d0e-bc9f-22d5d2edfcb2\" class=\"job-logger\">\n",
       "                <div class=\"job-logger-header\">\n",
       "                    <span>\n",
       "                        <span id=\"arrow-7c31024c-0eae-4d0e-bc9f-22d5d2edfcb2\">▼</span> \n",
       "                        Job Status (2025-02-15 06:27:02)\n",
       "                    </span>\n",
       "                </div>\n",
       "                <div id=\"content-7c31024c-0eae-4d0e-bc9f-22d5d2edfcb2\" style=\"display: block;\">\n",
       "                    <table class=\"job-logger-table\">\n",
       "                        \n",
       "            <tr>\n",
       "                <td class=\"job-logger-cell job-logger-label\">Job UUID</td>\n",
       "                <td class=\"job-logger-cell job-logger-value\">cfcdacda-cb1b-4fc0-b030-6cdd0eefa0a0</td>\n",
       "            </tr>\n",
       "        \n",
       "            <tr>\n",
       "                <td class=\"job-logger-cell job-logger-label\">Progress Bar URL</td>\n",
       "                <td class=\"job-logger-cell job-logger-value\"><a href=\"https://www.expectedparrot.com/home/remote-job-progress/cfcdacda-cb1b-4fc0-b030-6cdd0eefa0a0\" target=\"_blank\" class=\"job-logger-link\">https://www.expectedparrot.com/home/remote-job-progress/cfcdacda-cb1b-4fc0-b030-6cdd0eefa0a0</a></td>\n",
       "            </tr>\n",
       "        \n",
       "            <tr>\n",
       "                <td class=\"job-logger-cell job-logger-label\">Exceptions Report URL</td>\n",
       "                <td class=\"job-logger-cell job-logger-value\">None</td>\n",
       "            </tr>\n",
       "        \n",
       "            <tr>\n",
       "                <td class=\"job-logger-cell job-logger-label\">Results UUID</td>\n",
       "                <td class=\"job-logger-cell job-logger-value\">80462061-1956-4414-ba3b-f9ca52104ce3</td>\n",
       "            </tr>\n",
       "        \n",
       "            <tr>\n",
       "                <td class=\"job-logger-cell job-logger-label\">Results URL</td>\n",
       "                <td class=\"job-logger-cell job-logger-value\"><a href=\"https://www.expectedparrot.com/content/80462061-1956-4414-ba3b-f9ca52104ce3\" target=\"_blank\" class=\"job-logger-link\">https://www.expectedparrot.com/content/80462061-1956-4414-ba3b-f9ca52104ce3</a></td>\n",
       "            </tr>\n",
       "        \n",
       "                    </table>\n",
       "                    \n",
       "                <div class=\"job-logger-status\">\n",
       "                    <span style=\"margin-right: 8px;\" class=\"job-logger-success\">✓</span><strong>Current Status:</strong> Job completed and Results stored on Coop: <a href=\"https://www.expectedparrot.com/content/80462061-1956-4414-ba3b-f9ca52104ce3\" target=\"_blank\" class=\"job-logger-link\">https://www.expectedparrot.com/content/80462061-1956-4414-ba3b-f9ca52104ce3</a>\n",
       "                </div>\n",
       "            \n",
       "                </div>\n",
       "            </div>\n",
       "            <!-- # endregion -->\n",
       "        "
      ],
      "text/plain": [
       "<IPython.core.display.HTML object>"
      ]
     },
     "metadata": {},
     "output_type": "display_data"
    },
    {
     "data": {
      "text/html": [
       "\n",
       "        <style>\n",
       "            /* Base theme variables */\n",
       "            :root {\n",
       "                --jl-bg-primary: #ffffff;\n",
       "                --jl-bg-secondary: #f5f5f5;\n",
       "                --jl-border-color: #e0e0e0;\n",
       "                --jl-text-primary: #24292e;\n",
       "                --jl-text-secondary: #586069;\n",
       "                --jl-link-color: #0366d6;\n",
       "                --jl-success-color: #28a745;\n",
       "                --jl-error-color: #d73a49;\n",
       "                --jl-header-bg: #f1f1f1;\n",
       "            }\n",
       "            \n",
       "            /* Dark theme variables */\n",
       "            .theme-dark {\n",
       "                --jl-bg-primary: #1e1e1e;\n",
       "                --jl-bg-secondary: #252526;\n",
       "                --jl-border-color: #2d2d2d;\n",
       "                --jl-text-primary: #cccccc;\n",
       "                --jl-text-secondary: #999999;\n",
       "                --jl-link-color: #4e94ce;\n",
       "                --jl-success-color: #89d185;\n",
       "                --jl-error-color: #f14c4c;\n",
       "                --jl-header-bg: #333333;\n",
       "            }\n",
       "\n",
       "            /* High contrast theme variables */\n",
       "            .theme-high-contrast {\n",
       "                --jl-bg-primary: #000000;\n",
       "                --jl-bg-secondary: #1a1a1a;\n",
       "                --jl-border-color: #404040;\n",
       "                --jl-text-primary: #ffffff;\n",
       "                --jl-text-secondary: #cccccc;\n",
       "                --jl-link-color: #66b3ff;\n",
       "                --jl-success-color: #00ff00;\n",
       "                --jl-error-color: #ff0000;\n",
       "                --jl-header-bg: #262626;\n",
       "            }\n",
       "            \n",
       "            .job-logger {\n",
       "                font-family: system-ui, -apple-system, sans-serif;\n",
       "                max-width: 800px;\n",
       "                margin: 10px 0;\n",
       "                color: var(--jl-text-primary);\n",
       "                box-shadow: 0 1px 3px rgba(0,0,0,0.12);\n",
       "                border-radius: 4px;\n",
       "                overflow: hidden;\n",
       "            }\n",
       "            \n",
       "            .job-logger-header {\n",
       "                padding: 12px 16px;\n",
       "                background: var(--jl-header-bg);\n",
       "                border: none;\n",
       "                border-radius: 4px 4px 0 0;\n",
       "                cursor: pointer;\n",
       "                color: var(--jl-text-primary);\n",
       "                user-select: none;\n",
       "                font-weight: 500;\n",
       "                letter-spacing: 0.3px;\n",
       "                display: flex;\n",
       "                justify-content: space-between;\n",
       "                align-items: center;\n",
       "            }\n",
       "            \n",
       "            .theme-select {\n",
       "                padding: 4px 8px;\n",
       "                border-radius: 4px;\n",
       "                border: 1px solid var(--jl-border-color);\n",
       "                background: var(--jl-bg-primary);\n",
       "                color: var(--jl-text-primary);\n",
       "                font-size: 0.9em;\n",
       "            }\n",
       "            \n",
       "            .job-logger-table {\n",
       "                width: 100%;\n",
       "                border-collapse: separate;\n",
       "                border-spacing: 0;\n",
       "                background: var(--jl-bg-primary);\n",
       "                border: 1px solid var(--jl-border-color);\n",
       "                margin-top: -1px;\n",
       "            }\n",
       "            \n",
       "            .job-logger-cell {\n",
       "                padding: 12px 16px;\n",
       "                border-bottom: 1px solid var(--jl-border-color);\n",
       "                line-height: 1.4;\n",
       "            }\n",
       "            \n",
       "            .job-logger-label {\n",
       "                font-weight: 500;\n",
       "                color: var(--jl-text-primary);\n",
       "                width: 25%;\n",
       "                background: var(--jl-bg-secondary);\n",
       "            }\n",
       "            \n",
       "            .job-logger-value {\n",
       "                color: var(--jl-text-secondary);\n",
       "                word-break: break-word;\n",
       "            }\n",
       "            \n",
       "            .job-logger-status {\n",
       "                margin: 0;\n",
       "                padding: 12px 16px;\n",
       "                background-color: var(--jl-bg-secondary);\n",
       "                border: 1px solid var(--jl-border-color);\n",
       "                border-top: none;\n",
       "                border-radius: 0 0 4px 4px;\n",
       "                color: var(--jl-text-primary);\n",
       "                font-size: 0.95em;\n",
       "            }\n",
       "        </style>\n",
       "        \n",
       "        <script>\n",
       "            class ThemeManager {\n",
       "                constructor(logId, initialTheme = 'auto') {\n",
       "                    this.logId = logId;\n",
       "                    this.currentTheme = initialTheme;\n",
       "                    this.darkModeMediaQuery = window.matchMedia('(prefers-color-scheme: dark)');\n",
       "                    this.init();\n",
       "                }\n",
       "                \n",
       "                init() {\n",
       "                    this.setupThemeSwitcher();\n",
       "                    this.updateTheme(this.currentTheme);\n",
       "                    \n",
       "                    this.darkModeMediaQuery.addListener(() => {\n",
       "                        if (this.currentTheme === 'auto') {\n",
       "                            this.updateTheme('auto');\n",
       "                        }\n",
       "                    });\n",
       "                }\n",
       "                \n",
       "                setupThemeSwitcher() {\n",
       "                    const logger = document.querySelector(`#logger-${this.logId}`);\n",
       "                    if (!logger) return;\n",
       "                    \n",
       "                    const switcher = document.createElement('div');\n",
       "                    switcher.className = 'theme-switcher';\n",
       "                    switcher.innerHTML = `\n",
       "                        <select id=\"theme-select-${this.logId}\" class=\"theme-select\">\n",
       "                            <option value=\"auto\">Auto</option>\n",
       "                            <option value=\"light\">Light</option>\n",
       "                            <option value=\"dark\">Dark</option>\n",
       "                            <option value=\"high-contrast\">High Contrast</option>\n",
       "                        </select>\n",
       "                    `;\n",
       "                    \n",
       "                    const header = logger.querySelector('.job-logger-header');\n",
       "                    header.appendChild(switcher);\n",
       "                    \n",
       "                    const select = switcher.querySelector('select');\n",
       "                    select.value = this.currentTheme;\n",
       "                    select.addEventListener('change', (e) => {\n",
       "                        this.updateTheme(e.target.value);\n",
       "                    });\n",
       "                }\n",
       "                \n",
       "                updateTheme(theme) {\n",
       "                    const logger = document.querySelector(`#logger-${this.logId}`);\n",
       "                    if (!logger) return;\n",
       "                    \n",
       "                    this.currentTheme = theme;\n",
       "                    \n",
       "                    logger.classList.remove('theme-light', 'theme-dark', 'theme-high-contrast');\n",
       "                    \n",
       "                    if (theme === 'auto') {\n",
       "                        const isDark = this.darkModeMediaQuery.matches;\n",
       "                        logger.classList.add(isDark ? 'theme-dark' : 'theme-light');\n",
       "                    } else {\n",
       "                        logger.classList.add(`theme-${theme}`);\n",
       "                    }\n",
       "                    \n",
       "                    try {\n",
       "                        localStorage.setItem('jobLoggerTheme', theme);\n",
       "                    } catch (e) {\n",
       "                        console.warn('Unable to save theme preference:', e);\n",
       "                    }\n",
       "                }\n",
       "            }\n",
       "            \n",
       "            window.initThemeManager = (logId, initialTheme) => {\n",
       "                new ThemeManager(logId, initialTheme);\n",
       "            };\n",
       "        </script>\n",
       "        \n",
       "        <script>\n",
       "            document.addEventListener('DOMContentLoaded', () => {\n",
       "                window.initThemeManager('7c31024c-0eae-4d0e-bc9f-22d5d2edfcb2', 'auto');\n",
       "            });\n",
       "        </script>\n",
       "        "
      ],
      "text/plain": [
       "<IPython.core.display.HTML object>"
      ]
     },
     "metadata": {},
     "output_type": "display_data"
    }
   ],
   "source": [
    "results = survey.by(sl_questions).by(m).run()"
   ]
  },
  {
   "cell_type": "markdown",
   "id": "5514c06c-2c09-4a9d-b010-c16fb8872b07",
   "metadata": {
    "editable": true,
    "slideshow": {
     "slide_type": ""
    },
    "tags": []
   },
   "source": [
    "This generates a dataset of `Results` that we can access with built-in methods for analysis:"
   ]
  },
  {
   "cell_type": "code",
   "execution_count": 15,
   "id": "024203f8-f34f-4bf1-afb5-faeee4aefbd3",
   "metadata": {
    "editable": true,
    "slideshow": {
     "slide_type": ""
    },
    "tags": []
   },
   "outputs": [
    {
     "data": {
      "text/html": [
       "\n",
       "            <div style=\"max-height: 500px; overflow-y: auto;\">\n",
       "                <style type=\"text/css\">\n",
       "#T_f5888_row0_col0, #T_f5888_row0_col1, #T_f5888_row0_col2, #T_f5888_row1_col0, #T_f5888_row1_col1, #T_f5888_row1_col2, #T_f5888_row2_col0, #T_f5888_row2_col1, #T_f5888_row2_col2, #T_f5888_row3_col0, #T_f5888_row3_col1, #T_f5888_row3_col2, #T_f5888_row4_col0, #T_f5888_row4_col1, #T_f5888_row4_col2, #T_f5888_row5_col0, #T_f5888_row5_col1, #T_f5888_row5_col2 {\n",
       "  text-align: left;\n",
       "}\n",
       "</style>\n",
       "<table id=\"T_f5888\">\n",
       "  <thead>\n",
       "    <tr>\n",
       "      <th class=\"blank level0\" >&nbsp;</th>\n",
       "      <th id=\"T_f5888_level0_col0\" class=\"col_heading level0 col0\" >scenario.question</th>\n",
       "      <th id=\"T_f5888_level0_col1\" class=\"col_heading level0 col1\" >answer.logic</th>\n",
       "      <th id=\"T_f5888_level0_col2\" class=\"col_heading level0 col2\" >answer.improved</th>\n",
       "    </tr>\n",
       "  </thead>\n",
       "  <tbody>\n",
       "    <tr>\n",
       "      <th id=\"T_f5888_level0_row0\" class=\"row_heading level0 row0\" >0</th>\n",
       "      <td id=\"T_f5888_row0_col0\" class=\"data row0 col0\" >Can you describe a recent experience where you were dissatisfied with our service?</td>\n",
       "      <td id=\"T_f5888_row0_col1\" class=\"data row0 col1\" >The question \"Can you describe a recent experience where you were dissatisfied with our service?\" has a few potential problems:\n",
       "\n",
       "* **Leading Question:**  It presupposes dissatisfaction exists.  Someone who had a positive experience might not answer honestly, or might struggle to recall a negative one even if a minor issue occurred.  A neutral question would be better.\n",
       "\n",
       "* **Ambiguity of \"recent\":**  \"Recent\" is subjective.  What constitutes \"recent\" for one person (e.g., last week) might be distant for another (e.g., last month).  Defining a timeframe (e.g., \"within the last month,\" \"since your last visit\") would improve clarity and comparability.\n",
       "\n",
       "* **Open-ended nature (potentially problematic):** While open-ended questions allow for rich responses, they can be difficult to analyze quantitatively.  The responses might be too varied to easily categorize and summarize.  Consider including a follow-up question with specific options (e.g., rating scales for different aspects of service).\n",
       "\n",
       "* **Assumes prior service interaction:**  The question assumes the respondent has actually used the service.  It might be beneficial to add a screening question first to determine if they have indeed interacted with the service.</td>\n",
       "      <td id=\"T_f5888_row0_col2\" class=\"data row0 col2\" >In the past month, have you had any experiences with our service? If so, please rate your overall satisfaction.</td>\n",
       "    </tr>\n",
       "    <tr>\n",
       "      <th id=\"T_f5888_level0_row1\" class=\"row_heading level0 row1\" >1</th>\n",
       "      <td id=\"T_f5888_row1_col0\" class=\"data row1 col0\" >Respondent ID</td>\n",
       "      <td id=\"T_f5888_row1_col1\" class=\"data row1 col1\" >\"Respondent ID\" is not a survey question; it's a field for identifying the respondent's data.  It's not meant to elicit an answer from the respondent, but rather to serve as a unique label for their responses.  Therefore, the problem isn't logical or syntactical within the context of a question, but rather its inappropriate placement as a *question*.  It should be treated as a data field, not a question in the survey instrument.</td>\n",
       "      <td id=\"T_f5888_row1_col2\" class=\"data row1 col2\" >How satisfied are you with our product?</td>\n",
       "    </tr>\n",
       "    <tr>\n",
       "      <th id=\"T_f5888_level0_row2\" class=\"row_heading level0 row2\" >2</th>\n",
       "      <td id=\"T_f5888_row2_col0\" class=\"data row2 col0\" >What do you like most about using our online marketplace?</td>\n",
       "      <td id=\"T_f5888_row2_col1\" class=\"data row2 col1\" >The main problem with the question \"What do you like most about using our online marketplace?\" is that it's **open-ended and lacks structure**.  This leads to several potential issues:\n",
       "\n",
       "* **Difficult to analyze:**  Responses will be highly varied and unstructured, making quantitative analysis nearly impossible.  It will be challenging to identify trends or common themes without significant manual coding and interpretation, which is time-consuming and prone to subjective bias.\n",
       "\n",
       "* **Potential for irrelevant answers:** Respondents might focus on aspects unrelated to the marketplace itself (e.g., \"I like online shopping in general\").  This dilutes the data and makes it harder to draw meaningful conclusions about the marketplace's specific strengths.\n",
       "\n",
       "* **Bias towards positive responses:** The question only asks about what people *like* most. It doesn't allow for feedback on negative aspects or areas for improvement.  A more balanced approach would include questions about both positive and negative experiences.\n",
       "\n",
       "* **Difficulty in comparing responses across different demographics:** The unstructured nature makes it hard to compare responses across different user groups (e.g., age, location, purchase frequency).\n",
       "\n",
       "\n",
       "To improve the question, consider using:\n",
       "\n",
       "* **Multiple choice questions:** Offer a pre-defined list of options (e.g., \"Ease of use,\" \"Product selection,\" \"Customer service,\" \"Price\").  This allows for easy quantification and comparison.\n",
       "\n",
       "* **Rating scales:**  Ask respondents to rate different aspects of the marketplace on a scale (e.g., 1-5 stars).\n",
       "\n",
       "* **A combination of open-ended and structured questions:**  Include an open-ended question *after* the structured questions to allow for more detailed feedback on specific aspects.  This approach captures both quantitative and qualitative data.</td>\n",
       "      <td id=\"T_f5888_row2_col2\" class=\"data row2 col2\" >How satisfied are you with the following aspects of our online marketplace? (Please rate each on a scale of 1 to 5, where 1 is very dissatisfied and 5 is very satisfied)</td>\n",
       "    </tr>\n",
       "    <tr>\n",
       "      <th id=\"T_f5888_level0_row3\" class=\"row_heading level0 row3\" >3</th>\n",
       "      <td id=\"T_f5888_row3_col0\" class=\"data row3 col0\" >What is one feature you would like to see added to improve your shopping experience?</td>\n",
       "      <td id=\"T_f5888_row3_col1\" class=\"data row3 col1\" >The main problem is that the question is **too broad and lacks structure**.  Here's a breakdown:\n",
       "\n",
       "* **\"One feature\" is restrictive:**  Respondents might have multiple features they'd like to see added. Limiting them to just one could result in valuable feedback being lost or forcing them to choose arbitrarily between important improvements.\n",
       "\n",
       "* **Lack of guidance:** The question doesn't provide any context or categories.  \"Improve your shopping experience\" is very vague.  A respondent might think of features related to website design, delivery, customer service, product selection, payment options, etc.  The lack of direction makes it difficult to analyze the results meaningfully, as answers will be scattered and difficult to group.\n",
       "\n",
       "* **Potential for open-ended, unanalyzable responses:** While open-ended questions can be valuable, this one is too open.  Responses could be too varied and descriptive, making it challenging to quantify or categorize the feedback effectively.\n",
       "\n",
       "In short, the question needs more structure to be effective.  It would be better to either:\n",
       "\n",
       "* **Use multiple-choice questions:** Offer a list of pre-defined features in different categories.\n",
       "* **Use a combination of multiple-choice and open-ended questions:** Allow respondents to choose from a list of common features and then add any other suggestions in a separate open-ended question.\n",
       "* **Break down the question into smaller, more specific questions:** For example, ask separate questions about website usability, delivery options, customer service, etc.</td>\n",
       "      <td id=\"T_f5888_row3_col2\" class=\"data row3 col2\" >Which of the following features would most improve your shopping experience?  Please select all that apply.  [List of features, including an \"Other\" option with a free-text field]</td>\n",
       "    </tr>\n",
       "    <tr>\n",
       "      <th id=\"T_f5888_level0_row4\" class=\"row_heading level0 row4\" >4</th>\n",
       "      <td id=\"T_f5888_row4_col0\" class=\"data row4 col0\" >How do you feel about the current product search and filtering options?</td>\n",
       "      <td id=\"T_f5888_row4_col1\" class=\"data row4 col1\" >The question \"How do you feel about the current product search and filtering options?\" suffers from several problems:\n",
       "\n",
       "* **Ambiguity and Vagueness:**  \"How do you feel\" is too broad.  It doesn't specify what kind of feeling the respondent should express.  Do they want to know about satisfaction, ease of use, frustration, efficiency, or something else?  The question needs to target a specific feeling or aspect of the experience.\n",
       "\n",
       "* **Lack of Specificity:** \"Current product search and filtering options\" is also vague.  Are there multiple search and filtering options?  If so, the question should either break them down into separate questions or specify which options are being addressed.  Respondents might have different feelings about different aspects (e.g., the autocomplete feature vs. the advanced filters).\n",
       "\n",
       "* **Open-ended nature (potentially problematic):** While open-ended questions can provide rich qualitative data, they can also be difficult to analyze quantitatively and may lead to responses that are too varied to be useful.  For large-scale surveys, this question would be challenging to summarize and analyze effectively.\n",
       "\n",
       "\n",
       "To improve the question, it could be broken down into multiple more specific questions, such as:\n",
       "\n",
       "* \"How easy was it to find the products you were looking for using the search function?\" (Rating scale)\n",
       "* \"How satisfied were you with the available filtering options?\" (Rating scale)\n",
       "* \"Did you find the filtering options to be intuitive and easy to understand?\" (Yes/No or rating scale)\n",
       "* \"What, if anything, could be improved about the product search function?\" (Open-ended, but now more focused)\n",
       "* \"What, if anything, could be improved about the product filtering options?\" (Open-ended, but now more focused)</td>\n",
       "      <td id=\"T_f5888_row4_col2\" class=\"data row4 col2\" >How satisfied were you with the ease of use and effectiveness of the product search and filtering options?</td>\n",
       "    </tr>\n",
       "    <tr>\n",
       "      <th id=\"T_f5888_level0_row5\" class=\"row_heading level0 row5\" >5</th>\n",
       "      <td id=\"T_f5888_row5_col0\" class=\"data row5 col0\" >Is there anything else you would like to share about your experience with us?</td>\n",
       "      <td id=\"T_f5888_row5_col1\" class=\"data row5 col1\" >The question \"Is there anything else you would like to share about your experience with us?\" has a few potential problems, mostly related to its openness and lack of guidance:\n",
       "\n",
       "* **Too broad:**  It's incredibly open-ended.  Respondents might share completely irrelevant information, making the data difficult to analyze and potentially overwhelming for the survey administrator.  It lacks focus.\n",
       "\n",
       "* **Potential for low response rate (or unhelpful responses):**  Many people might simply answer \"no\" or leave it blank because they don't know where to begin or what kind of information is desired.  They might not feel comfortable providing unsolicited feedback without more direction.\n",
       "\n",
       "* **Bias towards positive feedback:** The phrasing is slightly positive (\"share about your experience\").  A more neutral phrasing might elicit a wider range of responses, including negative ones.\n",
       "\n",
       "* **Lack of context:**  \"With us\" is vague.  Depending on the context (company, product, service, etc.), it might be unclear what \"us\" refers to.  More specificity would be helpful.\n",
       "\n",
       "\n",
       "To improve the question, consider:\n",
       "\n",
       "* **Adding a specific focus:** Instead of \"anything else,\" specify the type of information you're looking for (e.g., \"Is there anything else you'd like to share about the ease of use of our product?\", \"What could we have done better to improve your experience?\").\n",
       "\n",
       "* **Using a more neutral tone:** Replace phrases like \"share about your experience\" with something more neutral, such as \"any additional comments\" or \"anything else you would like to comment on.\"\n",
       "\n",
       "* **Providing response options:** Offer a few categories or prompts to guide respondents (e.g., \"Customer service,\" \"Product quality,\" \"Website usability\").  This could be combined with the open-ended question.</td>\n",
       "      <td id=\"T_f5888_row5_col2\" class=\"data row5 col2\" >What could we have done to improve your experience?</td>\n",
       "    </tr>\n",
       "  </tbody>\n",
       "</table>\n",
       "\n",
       "            </div>\n",
       "            "
      ],
      "text/plain": [
       "Dataset([{'scenario.question': ['Can you describe a recent experience where you were dissatisfied with our service?', 'Respondent ID', 'What do you like most about using our online marketplace?', 'What is one feature you would like to see added to improve your shopping experience?', 'How do you feel about the current product search and filtering options?', 'Is there anything else you would like to share about your experience with us?']}, {'answer.logic': ['The question \"Can you describe a recent experience where you were dissatisfied with our service?\" has a few potential problems:\\n\\n* **Leading Question:**  It presupposes dissatisfaction exists.  Someone who had a positive experience might not answer honestly, or might struggle to recall a negative one even if a minor issue occurred.  A neutral question would be better.\\n\\n* **Ambiguity of \"recent\":**  \"Recent\" is subjective.  What constitutes \"recent\" for one person (e.g., last week) might be distant for another (e.g., last month).  Defining a timeframe (e.g., \"within the last month,\" \"since your last visit\") would improve clarity and comparability.\\n\\n* **Open-ended nature (potentially problematic):** While open-ended questions allow for rich responses, they can be difficult to analyze quantitatively.  The responses might be too varied to easily categorize and summarize.  Consider including a follow-up question with specific options (e.g., rating scales for different aspects of service).\\n\\n* **Assumes prior service interaction:**  The question assumes the respondent has actually used the service.  It might be beneficial to add a screening question first to determine if they have indeed interacted with the service.', '\"Respondent ID\" is not a survey question; it\\'s a field for identifying the respondent\\'s data.  It\\'s not meant to elicit an answer from the respondent, but rather to serve as a unique label for their responses.  Therefore, the problem isn\\'t logical or syntactical within the context of a question, but rather its inappropriate placement as a *question*.  It should be treated as a data field, not a question in the survey instrument.', 'The main problem with the question \"What do you like most about using our online marketplace?\" is that it\\'s **open-ended and lacks structure**.  This leads to several potential issues:\\n\\n* **Difficult to analyze:**  Responses will be highly varied and unstructured, making quantitative analysis nearly impossible.  It will be challenging to identify trends or common themes without significant manual coding and interpretation, which is time-consuming and prone to subjective bias.\\n\\n* **Potential for irrelevant answers:** Respondents might focus on aspects unrelated to the marketplace itself (e.g., \"I like online shopping in general\").  This dilutes the data and makes it harder to draw meaningful conclusions about the marketplace\\'s specific strengths.\\n\\n* **Bias towards positive responses:** The question only asks about what people *like* most. It doesn\\'t allow for feedback on negative aspects or areas for improvement.  A more balanced approach would include questions about both positive and negative experiences.\\n\\n* **Difficulty in comparing responses across different demographics:** The unstructured nature makes it hard to compare responses across different user groups (e.g., age, location, purchase frequency).\\n\\n\\nTo improve the question, consider using:\\n\\n* **Multiple choice questions:** Offer a pre-defined list of options (e.g., \"Ease of use,\" \"Product selection,\" \"Customer service,\" \"Price\").  This allows for easy quantification and comparison.\\n\\n* **Rating scales:**  Ask respondents to rate different aspects of the marketplace on a scale (e.g., 1-5 stars).\\n\\n* **A combination of open-ended and structured questions:**  Include an open-ended question *after* the structured questions to allow for more detailed feedback on specific aspects.  This approach captures both quantitative and qualitative data.', 'The main problem is that the question is **too broad and lacks structure**.  Here\\'s a breakdown:\\n\\n* **\"One feature\" is restrictive:**  Respondents might have multiple features they\\'d like to see added. Limiting them to just one could result in valuable feedback being lost or forcing them to choose arbitrarily between important improvements.\\n\\n* **Lack of guidance:** The question doesn\\'t provide any context or categories.  \"Improve your shopping experience\" is very vague.  A respondent might think of features related to website design, delivery, customer service, product selection, payment options, etc.  The lack of direction makes it difficult to analyze the results meaningfully, as answers will be scattered and difficult to group.\\n\\n* **Potential for open-ended, unanalyzable responses:** While open-ended questions can be valuable, this one is too open.  Responses could be too varied and descriptive, making it challenging to quantify or categorize the feedback effectively.\\n\\nIn short, the question needs more structure to be effective.  It would be better to either:\\n\\n* **Use multiple-choice questions:** Offer a list of pre-defined features in different categories.\\n* **Use a combination of multiple-choice and open-ended questions:** Allow respondents to choose from a list of common features and then add any other suggestions in a separate open-ended question.\\n* **Break down the question into smaller, more specific questions:** For example, ask separate questions about website usability, delivery options, customer service, etc.', 'The question \"How do you feel about the current product search and filtering options?\" suffers from several problems:\\n\\n* **Ambiguity and Vagueness:**  \"How do you feel\" is too broad.  It doesn\\'t specify what kind of feeling the respondent should express.  Do they want to know about satisfaction, ease of use, frustration, efficiency, or something else?  The question needs to target a specific feeling or aspect of the experience.\\n\\n* **Lack of Specificity:** \"Current product search and filtering options\" is also vague.  Are there multiple search and filtering options?  If so, the question should either break them down into separate questions or specify which options are being addressed.  Respondents might have different feelings about different aspects (e.g., the autocomplete feature vs. the advanced filters).\\n\\n* **Open-ended nature (potentially problematic):** While open-ended questions can provide rich qualitative data, they can also be difficult to analyze quantitatively and may lead to responses that are too varied to be useful.  For large-scale surveys, this question would be challenging to summarize and analyze effectively.\\n\\n\\nTo improve the question, it could be broken down into multiple more specific questions, such as:\\n\\n* \"How easy was it to find the products you were looking for using the search function?\" (Rating scale)\\n* \"How satisfied were you with the available filtering options?\" (Rating scale)\\n* \"Did you find the filtering options to be intuitive and easy to understand?\" (Yes/No or rating scale)\\n* \"What, if anything, could be improved about the product search function?\" (Open-ended, but now more focused)\\n* \"What, if anything, could be improved about the product filtering options?\" (Open-ended, but now more focused)', 'The question \"Is there anything else you would like to share about your experience with us?\" has a few potential problems, mostly related to its openness and lack of guidance:\\n\\n* **Too broad:**  It\\'s incredibly open-ended.  Respondents might share completely irrelevant information, making the data difficult to analyze and potentially overwhelming for the survey administrator.  It lacks focus.\\n\\n* **Potential for low response rate (or unhelpful responses):**  Many people might simply answer \"no\" or leave it blank because they don\\'t know where to begin or what kind of information is desired.  They might not feel comfortable providing unsolicited feedback without more direction.\\n\\n* **Bias towards positive feedback:** The phrasing is slightly positive (\"share about your experience\").  A more neutral phrasing might elicit a wider range of responses, including negative ones.\\n\\n* **Lack of context:**  \"With us\" is vague.  Depending on the context (company, product, service, etc.), it might be unclear what \"us\" refers to.  More specificity would be helpful.\\n\\n\\nTo improve the question, consider:\\n\\n* **Adding a specific focus:** Instead of \"anything else,\" specify the type of information you\\'re looking for (e.g., \"Is there anything else you\\'d like to share about the ease of use of our product?\", \"What could we have done better to improve your experience?\").\\n\\n* **Using a more neutral tone:** Replace phrases like \"share about your experience\" with something more neutral, such as \"any additional comments\" or \"anything else you would like to comment on.\"\\n\\n* **Providing response options:** Offer a few categories or prompts to guide respondents (e.g., \"Customer service,\" \"Product quality,\" \"Website usability\").  This could be combined with the open-ended question.']}, {'answer.improved': ['In the past month, have you had any experiences with our service? If so, please rate your overall satisfaction.', 'How satisfied are you with our product?', 'How satisfied are you with the following aspects of our online marketplace? (Please rate each on a scale of 1 to 5, where 1 is very dissatisfied and 5 is very satisfied)', 'Which of the following features would most improve your shopping experience?  Please select all that apply.  [List of features, including an \"Other\" option with a free-text field]', 'How satisfied were you with the ease of use and effectiveness of the product search and filtering options?', 'What could we have done to improve your experience?']}])"
      ]
     },
     "execution_count": 15,
     "metadata": {},
     "output_type": "execute_result"
    }
   ],
   "source": [
    "results.select(\"question\", \"logic\", \"improved\")"
   ]
  },
  {
   "cell_type": "markdown",
   "id": "c3600745-b0d5-46c2-96b6-fcce28e2672a",
   "metadata": {
    "editable": true,
    "slideshow": {
     "slide_type": ""
    },
    "tags": []
   },
   "source": [
    "[Learn more about working with results](https://docs.expectedparrot.com/en/latest/results.html)."
   ]
  },
  {
   "cell_type": "markdown",
   "id": "6b2fbf86-b028-481a-880d-afd4db83a6d9",
   "metadata": {
    "editable": true,
    "slideshow": {
     "slide_type": ""
    },
    "tags": []
   },
   "source": [
    "## Evaluating respondents' collective answers\n",
    "Next we can create a `ScenarioList` for each respondent's answers to use with our question about sentiment:"
   ]
  },
  {
   "cell_type": "code",
   "execution_count": 16,
   "id": "18f7b68d-e1ad-4942-a69c-ed81e2b72e73",
   "metadata": {
    "editable": true,
    "slideshow": {
     "slide_type": ""
    },
    "tags": []
   },
   "outputs": [
    {
     "data": {
      "text/html": [
       "<p><a href='https://docs.expectedparrot.com/en/latest/scenarios.html#scenariolist'>ScenarioList</a> scenarios: 3; keys: ['responses'];</p>\n",
       "            <div style=\"max-height: 500px; overflow-y: auto;\">\n",
       "                <style type=\"text/css\">\n",
       "#T_b110f_row0_col0, #T_b110f_row1_col0, #T_b110f_row2_col0 {\n",
       "  text-align: left;\n",
       "}\n",
       "</style>\n",
       "<table id=\"T_b110f\">\n",
       "  <thead>\n",
       "    <tr>\n",
       "      <th class=\"blank level0\" >&nbsp;</th>\n",
       "      <th id=\"T_b110f_level0_col0\" class=\"col_heading level0 col0\" >responses</th>\n",
       "    </tr>\n",
       "  </thead>\n",
       "  <tbody>\n",
       "    <tr>\n",
       "      <th id=\"T_b110f_level0_row0\" class=\"row_heading level0 row0\" >0</th>\n",
       "      <td id=\"T_b110f_row0_col0\" class=\"data row0 col0\" >{'Respondent ID': '101', 'What do you like most about using our online marketplace?': 'The wide variety of products and the ease of use.', 'What is one feature you would like to see added to improve your shopping experience?': 'It would be great to have a personalized recommendation system based on my browsing history.', 'Can you describe a recent experience where you were dissatisfied with our service?': 'I was disappointed when an item I ordered arrived damaged, but customer service quickly resolved it.', 'How do you feel about the current product search and filtering options?': 'The search and filtering options are intuitive and work well for me.', 'Is there anything else you would like to share about your experience with us?': 'No, keep up the great work!'}</td>\n",
       "    </tr>\n",
       "    <tr>\n",
       "      <th id=\"T_b110f_level0_row1\" class=\"row_heading level0 row1\" >1</th>\n",
       "      <td id=\"T_b110f_row1_col0\" class=\"data row1 col0\" >{'Respondent ID': '102', 'What do you like most about using our online marketplace?': 'I enjoy the simplicity of the interface.', 'What is one feature you would like to see added to improve your shopping experience?': 'A feature that helps compare similar products side by side would be useful.', 'Can you describe a recent experience where you were dissatisfied with our service?': 'No complaints here.', 'How do you feel about the current product search and filtering options?': 'I find the product search to be pretty effective.', 'Is there anything else you would like to share about your experience with us?': 'I think the sky is a beautiful shade of purple today.'}</td>\n",
       "    </tr>\n",
       "    <tr>\n",
       "      <th id=\"T_b110f_level0_row2\" class=\"row_heading level0 row2\" >2</th>\n",
       "      <td id=\"T_b110f_row2_col0\" class=\"data row2 col0\" >{'Respondent ID': '103', 'What do you like most about using our online marketplace?': 'The platform is user-friendly and offers a vast selection of products.', 'What is one feature you would like to see added to improve your shopping experience?': 'Would love to see an option to save and compare different products.', 'Can you describe a recent experience where you were dissatisfied with our service?': 'My delivery was late by a few days, which was frustrating.', 'How do you feel about the current product search and filtering options?': 'It’s okay.', 'Is there anything else you would like to share about your experience with us?': 'No.'}</td>\n",
       "    </tr>\n",
       "  </tbody>\n",
       "</table>\n",
       "\n",
       "            </div>\n",
       "            "
      ],
      "text/plain": [
       "ScenarioList([Scenario({'responses': {'Respondent ID': '101', 'What do you like most about using our online marketplace?': 'The wide variety of products and the ease of use.', 'What is one feature you would like to see added to improve your shopping experience?': 'It would be great to have a personalized recommendation system based on my browsing history.', 'Can you describe a recent experience where you were dissatisfied with our service?': 'I was disappointed when an item I ordered arrived damaged, but customer service quickly resolved it.', 'How do you feel about the current product search and filtering options?': 'The search and filtering options are intuitive and work well for me.', 'Is there anything else you would like to share about your experience with us?': 'No, keep up the great work!'}}), Scenario({'responses': {'Respondent ID': '102', 'What do you like most about using our online marketplace?': 'I enjoy the simplicity of the interface.', 'What is one feature you would like to see added to improve your shopping experience?': 'A feature that helps compare similar products side by side would be useful.', 'Can you describe a recent experience where you were dissatisfied with our service?': 'No complaints here.', 'How do you feel about the current product search and filtering options?': 'I find the product search to be pretty effective.', 'Is there anything else you would like to share about your experience with us?': 'I think the sky is a beautiful shade of purple today.'}}), Scenario({'responses': {'Respondent ID': '103', 'What do you like most about using our online marketplace?': 'The platform is user-friendly and offers a vast selection of products.', 'What is one feature you would like to see added to improve your shopping experience?': 'Would love to see an option to save and compare different products.', 'Can you describe a recent experience where you were dissatisfied with our service?': 'My delivery was late by a few days, which was frustrating.', 'How do you feel about the current product search and filtering options?': 'It’s okay.', 'Is there anything else you would like to share about your experience with us?': 'No.'}})])"
      ]
     },
     "execution_count": 16,
     "metadata": {},
     "output_type": "execute_result"
    }
   ],
   "source": [
    "sl_responses = ScenarioList.from_list(\"responses\", sl['scenarios'])\n",
    "sl_responses"
   ]
  },
  {
   "cell_type": "markdown",
   "id": "da335730-735b-4f20-a901-48a4cadbaf1f",
   "metadata": {
    "editable": true,
    "slideshow": {
     "slide_type": ""
    },
    "tags": []
   },
   "source": [
    "Next we add these scenarios to our sentiment question (and any others we want to add) and run it:"
   ]
  },
  {
   "cell_type": "code",
   "execution_count": 17,
   "id": "7c2a93b2-8e84-46b3-926e-c30bf0e0ce2b",
   "metadata": {
    "editable": true,
    "slideshow": {
     "slide_type": ""
    },
    "tags": []
   },
   "outputs": [],
   "source": [
    "from edsl import QuestionMultipleChoice, QuestionLinearScale, Survey\n",
    "\n",
    "q_sentiment = QuestionMultipleChoice(\n",
    "    question_name = \"sentiment\",\n",
    "    question_text = \"What is the overall sentiment of this respondent's survey answers? {{ responses }}\",\n",
    "    question_options = [\"Very unsatisfied\", \"Somewhat unsatisfied\", \"Somewhat satisfied\", \"Very satisfied\"]\n",
    ")\n",
    "\n",
    "q_recommend = QuestionLinearScale(\n",
    "    question_name = \"recommend\",\n",
    "    question_text = \"On a scale from 1 to 5, how likely do you think this respondent is to recommend the company to a friend? {{ responses }}\",\n",
    "    question_options = [1, 2, 3, 4, 5],\n",
    "    option_labels = {1:\"Not at all likely\", 5:\"Very likely\"}\n",
    ")\n",
    "\n",
    "survey = Survey([q_sentiment, q_recommend])"
   ]
  },
  {
   "cell_type": "code",
   "execution_count": 18,
   "id": "01f51911-d4ea-4acf-9e8d-fb05d2f76e80",
   "metadata": {
    "editable": true,
    "slideshow": {
     "slide_type": ""
    },
    "tags": []
   },
   "outputs": [
    {
     "data": {
      "text/html": [
       "\n",
       "            <!-- #region Remove Inference Info -->\n",
       "            <div id=\"logger-a2261346-aa47-42a2-a0aa-a40958223366\" class=\"job-logger\">\n",
       "                <div class=\"job-logger-header\">\n",
       "                    <span>\n",
       "                        <span id=\"arrow-a2261346-aa47-42a2-a0aa-a40958223366\">▼</span> \n",
       "                        Job Status (2025-02-15 06:28:29)\n",
       "                    </span>\n",
       "                </div>\n",
       "                <div id=\"content-a2261346-aa47-42a2-a0aa-a40958223366\" style=\"display: block;\">\n",
       "                    <table class=\"job-logger-table\">\n",
       "                        \n",
       "            <tr>\n",
       "                <td class=\"job-logger-cell job-logger-label\">Job UUID</td>\n",
       "                <td class=\"job-logger-cell job-logger-value\">02b147c1-0143-4ca9-a474-91e2e72a7d46</td>\n",
       "            </tr>\n",
       "        \n",
       "            <tr>\n",
       "                <td class=\"job-logger-cell job-logger-label\">Progress Bar URL</td>\n",
       "                <td class=\"job-logger-cell job-logger-value\"><a href=\"https://www.expectedparrot.com/home/remote-job-progress/02b147c1-0143-4ca9-a474-91e2e72a7d46\" target=\"_blank\" class=\"job-logger-link\">https://www.expectedparrot.com/home/remote-job-progress/02b147c1-0143-4ca9-a474-91e2e72a7d46</a></td>\n",
       "            </tr>\n",
       "        \n",
       "            <tr>\n",
       "                <td class=\"job-logger-cell job-logger-label\">Exceptions Report URL</td>\n",
       "                <td class=\"job-logger-cell job-logger-value\">None</td>\n",
       "            </tr>\n",
       "        \n",
       "            <tr>\n",
       "                <td class=\"job-logger-cell job-logger-label\">Results UUID</td>\n",
       "                <td class=\"job-logger-cell job-logger-value\">822fd422-e065-48df-a245-d1e32d11c9a2</td>\n",
       "            </tr>\n",
       "        \n",
       "            <tr>\n",
       "                <td class=\"job-logger-cell job-logger-label\">Results URL</td>\n",
       "                <td class=\"job-logger-cell job-logger-value\"><a href=\"https://www.expectedparrot.com/content/822fd422-e065-48df-a245-d1e32d11c9a2\" target=\"_blank\" class=\"job-logger-link\">https://www.expectedparrot.com/content/822fd422-e065-48df-a245-d1e32d11c9a2</a></td>\n",
       "            </tr>\n",
       "        \n",
       "                    </table>\n",
       "                    \n",
       "                <div class=\"job-logger-status\">\n",
       "                    <span style=\"margin-right: 8px;\" class=\"job-logger-success\">✓</span><strong>Current Status:</strong> Job completed and Results stored on Coop: <a href=\"https://www.expectedparrot.com/content/822fd422-e065-48df-a245-d1e32d11c9a2\" target=\"_blank\" class=\"job-logger-link\">https://www.expectedparrot.com/content/822fd422-e065-48df-a245-d1e32d11c9a2</a>\n",
       "                </div>\n",
       "            \n",
       "                </div>\n",
       "            </div>\n",
       "            <!-- # endregion -->\n",
       "        "
      ],
      "text/plain": [
       "<IPython.core.display.HTML object>"
      ]
     },
     "metadata": {},
     "output_type": "display_data"
    },
    {
     "data": {
      "text/html": [
       "\n",
       "        <style>\n",
       "            /* Base theme variables */\n",
       "            :root {\n",
       "                --jl-bg-primary: #ffffff;\n",
       "                --jl-bg-secondary: #f5f5f5;\n",
       "                --jl-border-color: #e0e0e0;\n",
       "                --jl-text-primary: #24292e;\n",
       "                --jl-text-secondary: #586069;\n",
       "                --jl-link-color: #0366d6;\n",
       "                --jl-success-color: #28a745;\n",
       "                --jl-error-color: #d73a49;\n",
       "                --jl-header-bg: #f1f1f1;\n",
       "            }\n",
       "            \n",
       "            /* Dark theme variables */\n",
       "            .theme-dark {\n",
       "                --jl-bg-primary: #1e1e1e;\n",
       "                --jl-bg-secondary: #252526;\n",
       "                --jl-border-color: #2d2d2d;\n",
       "                --jl-text-primary: #cccccc;\n",
       "                --jl-text-secondary: #999999;\n",
       "                --jl-link-color: #4e94ce;\n",
       "                --jl-success-color: #89d185;\n",
       "                --jl-error-color: #f14c4c;\n",
       "                --jl-header-bg: #333333;\n",
       "            }\n",
       "\n",
       "            /* High contrast theme variables */\n",
       "            .theme-high-contrast {\n",
       "                --jl-bg-primary: #000000;\n",
       "                --jl-bg-secondary: #1a1a1a;\n",
       "                --jl-border-color: #404040;\n",
       "                --jl-text-primary: #ffffff;\n",
       "                --jl-text-secondary: #cccccc;\n",
       "                --jl-link-color: #66b3ff;\n",
       "                --jl-success-color: #00ff00;\n",
       "                --jl-error-color: #ff0000;\n",
       "                --jl-header-bg: #262626;\n",
       "            }\n",
       "            \n",
       "            .job-logger {\n",
       "                font-family: system-ui, -apple-system, sans-serif;\n",
       "                max-width: 800px;\n",
       "                margin: 10px 0;\n",
       "                color: var(--jl-text-primary);\n",
       "                box-shadow: 0 1px 3px rgba(0,0,0,0.12);\n",
       "                border-radius: 4px;\n",
       "                overflow: hidden;\n",
       "            }\n",
       "            \n",
       "            .job-logger-header {\n",
       "                padding: 12px 16px;\n",
       "                background: var(--jl-header-bg);\n",
       "                border: none;\n",
       "                border-radius: 4px 4px 0 0;\n",
       "                cursor: pointer;\n",
       "                color: var(--jl-text-primary);\n",
       "                user-select: none;\n",
       "                font-weight: 500;\n",
       "                letter-spacing: 0.3px;\n",
       "                display: flex;\n",
       "                justify-content: space-between;\n",
       "                align-items: center;\n",
       "            }\n",
       "            \n",
       "            .theme-select {\n",
       "                padding: 4px 8px;\n",
       "                border-radius: 4px;\n",
       "                border: 1px solid var(--jl-border-color);\n",
       "                background: var(--jl-bg-primary);\n",
       "                color: var(--jl-text-primary);\n",
       "                font-size: 0.9em;\n",
       "            }\n",
       "            \n",
       "            .job-logger-table {\n",
       "                width: 100%;\n",
       "                border-collapse: separate;\n",
       "                border-spacing: 0;\n",
       "                background: var(--jl-bg-primary);\n",
       "                border: 1px solid var(--jl-border-color);\n",
       "                margin-top: -1px;\n",
       "            }\n",
       "            \n",
       "            .job-logger-cell {\n",
       "                padding: 12px 16px;\n",
       "                border-bottom: 1px solid var(--jl-border-color);\n",
       "                line-height: 1.4;\n",
       "            }\n",
       "            \n",
       "            .job-logger-label {\n",
       "                font-weight: 500;\n",
       "                color: var(--jl-text-primary);\n",
       "                width: 25%;\n",
       "                background: var(--jl-bg-secondary);\n",
       "            }\n",
       "            \n",
       "            .job-logger-value {\n",
       "                color: var(--jl-text-secondary);\n",
       "                word-break: break-word;\n",
       "            }\n",
       "            \n",
       "            .job-logger-status {\n",
       "                margin: 0;\n",
       "                padding: 12px 16px;\n",
       "                background-color: var(--jl-bg-secondary);\n",
       "                border: 1px solid var(--jl-border-color);\n",
       "                border-top: none;\n",
       "                border-radius: 0 0 4px 4px;\n",
       "                color: var(--jl-text-primary);\n",
       "                font-size: 0.95em;\n",
       "            }\n",
       "        </style>\n",
       "        \n",
       "        <script>\n",
       "            class ThemeManager {\n",
       "                constructor(logId, initialTheme = 'auto') {\n",
       "                    this.logId = logId;\n",
       "                    this.currentTheme = initialTheme;\n",
       "                    this.darkModeMediaQuery = window.matchMedia('(prefers-color-scheme: dark)');\n",
       "                    this.init();\n",
       "                }\n",
       "                \n",
       "                init() {\n",
       "                    this.setupThemeSwitcher();\n",
       "                    this.updateTheme(this.currentTheme);\n",
       "                    \n",
       "                    this.darkModeMediaQuery.addListener(() => {\n",
       "                        if (this.currentTheme === 'auto') {\n",
       "                            this.updateTheme('auto');\n",
       "                        }\n",
       "                    });\n",
       "                }\n",
       "                \n",
       "                setupThemeSwitcher() {\n",
       "                    const logger = document.querySelector(`#logger-${this.logId}`);\n",
       "                    if (!logger) return;\n",
       "                    \n",
       "                    const switcher = document.createElement('div');\n",
       "                    switcher.className = 'theme-switcher';\n",
       "                    switcher.innerHTML = `\n",
       "                        <select id=\"theme-select-${this.logId}\" class=\"theme-select\">\n",
       "                            <option value=\"auto\">Auto</option>\n",
       "                            <option value=\"light\">Light</option>\n",
       "                            <option value=\"dark\">Dark</option>\n",
       "                            <option value=\"high-contrast\">High Contrast</option>\n",
       "                        </select>\n",
       "                    `;\n",
       "                    \n",
       "                    const header = logger.querySelector('.job-logger-header');\n",
       "                    header.appendChild(switcher);\n",
       "                    \n",
       "                    const select = switcher.querySelector('select');\n",
       "                    select.value = this.currentTheme;\n",
       "                    select.addEventListener('change', (e) => {\n",
       "                        this.updateTheme(e.target.value);\n",
       "                    });\n",
       "                }\n",
       "                \n",
       "                updateTheme(theme) {\n",
       "                    const logger = document.querySelector(`#logger-${this.logId}`);\n",
       "                    if (!logger) return;\n",
       "                    \n",
       "                    this.currentTheme = theme;\n",
       "                    \n",
       "                    logger.classList.remove('theme-light', 'theme-dark', 'theme-high-contrast');\n",
       "                    \n",
       "                    if (theme === 'auto') {\n",
       "                        const isDark = this.darkModeMediaQuery.matches;\n",
       "                        logger.classList.add(isDark ? 'theme-dark' : 'theme-light');\n",
       "                    } else {\n",
       "                        logger.classList.add(`theme-${theme}`);\n",
       "                    }\n",
       "                    \n",
       "                    try {\n",
       "                        localStorage.setItem('jobLoggerTheme', theme);\n",
       "                    } catch (e) {\n",
       "                        console.warn('Unable to save theme preference:', e);\n",
       "                    }\n",
       "                }\n",
       "            }\n",
       "            \n",
       "            window.initThemeManager = (logId, initialTheme) => {\n",
       "                new ThemeManager(logId, initialTheme);\n",
       "            };\n",
       "        </script>\n",
       "        \n",
       "        <script>\n",
       "            document.addEventListener('DOMContentLoaded', () => {\n",
       "                window.initThemeManager('a2261346-aa47-42a2-a0aa-a40958223366', 'auto');\n",
       "            });\n",
       "        </script>\n",
       "        "
      ],
      "text/plain": [
       "<IPython.core.display.HTML object>"
      ]
     },
     "metadata": {},
     "output_type": "display_data"
    }
   ],
   "source": [
    "results = survey.by(sl_responses).by(m).run()"
   ]
  },
  {
   "cell_type": "code",
   "execution_count": 19,
   "id": "826d4a2d-f75f-42e3-8734-fa1b128c212c",
   "metadata": {
    "editable": true,
    "slideshow": {
     "slide_type": ""
    },
    "tags": []
   },
   "outputs": [
    {
     "data": {
      "text/html": [
       "\n",
       "            <div style=\"max-height: 500px; overflow-y: auto;\">\n",
       "                <style type=\"text/css\">\n",
       "#T_b8a85_row0_col0, #T_b8a85_row0_col1, #T_b8a85_row1_col0, #T_b8a85_row1_col1, #T_b8a85_row2_col0, #T_b8a85_row2_col1 {\n",
       "  text-align: left;\n",
       "}\n",
       "#T_b8a85_row0_col2, #T_b8a85_row1_col2 {\n",
       "  text-align: left;\n",
       "  background-color: #023858;\n",
       "  color: #f1f1f1;\n",
       "}\n",
       "#T_b8a85_row2_col2 {\n",
       "  text-align: left;\n",
       "  background-color: #fff7fb;\n",
       "  color: #000000;\n",
       "}\n",
       "</style>\n",
       "<table id=\"T_b8a85\">\n",
       "  <thead>\n",
       "    <tr>\n",
       "      <th class=\"blank level0\" >&nbsp;</th>\n",
       "      <th id=\"T_b8a85_level0_col0\" class=\"col_heading level0 col0\" >scenario.responses</th>\n",
       "      <th id=\"T_b8a85_level0_col1\" class=\"col_heading level0 col1\" >answer.sentiment</th>\n",
       "      <th id=\"T_b8a85_level0_col2\" class=\"col_heading level0 col2\" >answer.recommend</th>\n",
       "    </tr>\n",
       "  </thead>\n",
       "  <tbody>\n",
       "    <tr>\n",
       "      <th id=\"T_b8a85_level0_row0\" class=\"row_heading level0 row0\" >0</th>\n",
       "      <td id=\"T_b8a85_row0_col0\" class=\"data row0 col0\" >{'Respondent ID': '101', 'What do you like most about using our online marketplace?': 'The wide variety of products and the ease of use.', 'What is one feature you would like to see added to improve your shopping experience?': 'It would be great to have a personalized recommendation system based on my browsing history.', 'Can you describe a recent experience where you were dissatisfied with our service?': 'I was disappointed when an item I ordered arrived damaged, but customer service quickly resolved it.', 'How do you feel about the current product search and filtering options?': 'The search and filtering options are intuitive and work well for me.', 'Is there anything else you would like to share about your experience with us?': 'No, keep up the great work!'}</td>\n",
       "      <td id=\"T_b8a85_row0_col1\" class=\"data row0 col1\" >Very satisfied</td>\n",
       "      <td id=\"T_b8a85_row0_col2\" class=\"data row0 col2\" >5</td>\n",
       "    </tr>\n",
       "    <tr>\n",
       "      <th id=\"T_b8a85_level0_row1\" class=\"row_heading level0 row1\" >1</th>\n",
       "      <td id=\"T_b8a85_row1_col0\" class=\"data row1 col0\" >{'Respondent ID': '102', 'What do you like most about using our online marketplace?': 'I enjoy the simplicity of the interface.', 'What is one feature you would like to see added to improve your shopping experience?': 'A feature that helps compare similar products side by side would be useful.', 'Can you describe a recent experience where you were dissatisfied with our service?': 'No complaints here.', 'How do you feel about the current product search and filtering options?': 'I find the product search to be pretty effective.', 'Is there anything else you would like to share about your experience with us?': 'I think the sky is a beautiful shade of purple today.'}</td>\n",
       "      <td id=\"T_b8a85_row1_col1\" class=\"data row1 col1\" >Very satisfied</td>\n",
       "      <td id=\"T_b8a85_row1_col2\" class=\"data row1 col2\" >5</td>\n",
       "    </tr>\n",
       "    <tr>\n",
       "      <th id=\"T_b8a85_level0_row2\" class=\"row_heading level0 row2\" >2</th>\n",
       "      <td id=\"T_b8a85_row2_col0\" class=\"data row2 col0\" >{'Respondent ID': '103', 'What do you like most about using our online marketplace?': 'The platform is user-friendly and offers a vast selection of products.', 'What is one feature you would like to see added to improve your shopping experience?': 'Would love to see an option to save and compare different products.', 'Can you describe a recent experience where you were dissatisfied with our service?': 'My delivery was late by a few days, which was frustrating.', 'How do you feel about the current product search and filtering options?': 'It’s okay.', 'Is there anything else you would like to share about your experience with us?': 'No.'}</td>\n",
       "      <td id=\"T_b8a85_row2_col1\" class=\"data row2 col1\" >Somewhat satisfied</td>\n",
       "      <td id=\"T_b8a85_row2_col2\" class=\"data row2 col2\" >3</td>\n",
       "    </tr>\n",
       "  </tbody>\n",
       "</table>\n",
       "\n",
       "            </div>\n",
       "            "
      ],
      "text/plain": [
       "Dataset([{'scenario.responses': [{'Respondent ID': '101', 'What do you like most about using our online marketplace?': 'The wide variety of products and the ease of use.', 'What is one feature you would like to see added to improve your shopping experience?': 'It would be great to have a personalized recommendation system based on my browsing history.', 'Can you describe a recent experience where you were dissatisfied with our service?': 'I was disappointed when an item I ordered arrived damaged, but customer service quickly resolved it.', 'How do you feel about the current product search and filtering options?': 'The search and filtering options are intuitive and work well for me.', 'Is there anything else you would like to share about your experience with us?': 'No, keep up the great work!'}, {'Respondent ID': '102', 'What do you like most about using our online marketplace?': 'I enjoy the simplicity of the interface.', 'What is one feature you would like to see added to improve your shopping experience?': 'A feature that helps compare similar products side by side would be useful.', 'Can you describe a recent experience where you were dissatisfied with our service?': 'No complaints here.', 'How do you feel about the current product search and filtering options?': 'I find the product search to be pretty effective.', 'Is there anything else you would like to share about your experience with us?': 'I think the sky is a beautiful shade of purple today.'}, {'Respondent ID': '103', 'What do you like most about using our online marketplace?': 'The platform is user-friendly and offers a vast selection of products.', 'What is one feature you would like to see added to improve your shopping experience?': 'Would love to see an option to save and compare different products.', 'Can you describe a recent experience where you were dissatisfied with our service?': 'My delivery was late by a few days, which was frustrating.', 'How do you feel about the current product search and filtering options?': 'It’s okay.', 'Is there anything else you would like to share about your experience with us?': 'No.'}]}, {'answer.sentiment': ['Very satisfied', 'Very satisfied', 'Somewhat satisfied']}, {'answer.recommend': [5, 5, 3]}])"
      ]
     },
     "execution_count": 19,
     "metadata": {},
     "output_type": "execute_result"
    }
   ],
   "source": [
    "results.select(\"responses\", \"sentiment\", \"recommend\")"
   ]
  },
  {
   "cell_type": "markdown",
   "id": "9eab586f-8a28-4992-9fec-d43cbe771c9e",
   "metadata": {
    "editable": true,
    "slideshow": {
     "slide_type": ""
    },
    "tags": []
   },
   "source": [
    "## Evaluating individual answers\n",
    "Next we create a `ScenarioList` for each individual question and answer to use with our question about the responsiveness of each answer. We can use the `unpivot()` method to expand the scenarios by desired identifiers (e.g., respondent ID):"
   ]
  },
  {
   "cell_type": "code",
   "execution_count": 20,
   "id": "b95f76a2-0527-4283-8162-9079db248bd7",
   "metadata": {
    "editable": true,
    "slideshow": {
     "slide_type": ""
    },
    "tags": []
   },
   "outputs": [
    {
     "data": {
      "text/html": [
       "<p><a href='https://docs.expectedparrot.com/en/latest/scenarios.html#scenariolist'>ScenarioList</a> scenarios: 15; keys: ['variable', 'Respondent ID', 'value'];</p>\n",
       "            <div style=\"max-height: 500px; overflow-y: auto;\">\n",
       "                <style type=\"text/css\">\n",
       "#T_87f81_row0_col0, #T_87f81_row1_col0, #T_87f81_row2_col0, #T_87f81_row3_col0, #T_87f81_row4_col0 {\n",
       "  text-align: left;\n",
       "  background-color: #fff7fb;\n",
       "  color: #000000;\n",
       "}\n",
       "#T_87f81_row0_col1, #T_87f81_row0_col2, #T_87f81_row1_col1, #T_87f81_row1_col2, #T_87f81_row2_col1, #T_87f81_row2_col2, #T_87f81_row3_col1, #T_87f81_row3_col2, #T_87f81_row4_col1, #T_87f81_row4_col2, #T_87f81_row5_col1, #T_87f81_row5_col2, #T_87f81_row6_col1, #T_87f81_row6_col2, #T_87f81_row7_col1, #T_87f81_row7_col2, #T_87f81_row8_col1, #T_87f81_row8_col2, #T_87f81_row9_col1, #T_87f81_row9_col2, #T_87f81_row10_col1, #T_87f81_row10_col2, #T_87f81_row11_col1, #T_87f81_row11_col2, #T_87f81_row12_col1, #T_87f81_row12_col2, #T_87f81_row13_col1, #T_87f81_row13_col2, #T_87f81_row14_col1, #T_87f81_row14_col2 {\n",
       "  text-align: left;\n",
       "}\n",
       "#T_87f81_row5_col0, #T_87f81_row6_col0, #T_87f81_row7_col0, #T_87f81_row8_col0, #T_87f81_row9_col0 {\n",
       "  text-align: left;\n",
       "  background-color: #73a9cf;\n",
       "  color: #f1f1f1;\n",
       "}\n",
       "#T_87f81_row10_col0, #T_87f81_row11_col0, #T_87f81_row12_col0, #T_87f81_row13_col0, #T_87f81_row14_col0 {\n",
       "  text-align: left;\n",
       "  background-color: #023858;\n",
       "  color: #f1f1f1;\n",
       "}\n",
       "</style>\n",
       "<table id=\"T_87f81\">\n",
       "  <thead>\n",
       "    <tr>\n",
       "      <th class=\"blank level0\" >&nbsp;</th>\n",
       "      <th id=\"T_87f81_level0_col0\" class=\"col_heading level0 col0\" >Respondent ID</th>\n",
       "      <th id=\"T_87f81_level0_col1\" class=\"col_heading level0 col1\" >variable</th>\n",
       "      <th id=\"T_87f81_level0_col2\" class=\"col_heading level0 col2\" >value</th>\n",
       "    </tr>\n",
       "  </thead>\n",
       "  <tbody>\n",
       "    <tr>\n",
       "      <th id=\"T_87f81_level0_row0\" class=\"row_heading level0 row0\" >0</th>\n",
       "      <td id=\"T_87f81_row0_col0\" class=\"data row0 col0\" >101</td>\n",
       "      <td id=\"T_87f81_row0_col1\" class=\"data row0 col1\" >What do you like most about using our online marketplace?</td>\n",
       "      <td id=\"T_87f81_row0_col2\" class=\"data row0 col2\" >The wide variety of products and the ease of use.</td>\n",
       "    </tr>\n",
       "    <tr>\n",
       "      <th id=\"T_87f81_level0_row1\" class=\"row_heading level0 row1\" >1</th>\n",
       "      <td id=\"T_87f81_row1_col0\" class=\"data row1 col0\" >101</td>\n",
       "      <td id=\"T_87f81_row1_col1\" class=\"data row1 col1\" >What is one feature you would like to see added to improve your shopping experience?</td>\n",
       "      <td id=\"T_87f81_row1_col2\" class=\"data row1 col2\" >It would be great to have a personalized recommendation system based on my browsing history.</td>\n",
       "    </tr>\n",
       "    <tr>\n",
       "      <th id=\"T_87f81_level0_row2\" class=\"row_heading level0 row2\" >2</th>\n",
       "      <td id=\"T_87f81_row2_col0\" class=\"data row2 col0\" >101</td>\n",
       "      <td id=\"T_87f81_row2_col1\" class=\"data row2 col1\" >Can you describe a recent experience where you were dissatisfied with our service?</td>\n",
       "      <td id=\"T_87f81_row2_col2\" class=\"data row2 col2\" >I was disappointed when an item I ordered arrived damaged, but customer service quickly resolved it.</td>\n",
       "    </tr>\n",
       "    <tr>\n",
       "      <th id=\"T_87f81_level0_row3\" class=\"row_heading level0 row3\" >3</th>\n",
       "      <td id=\"T_87f81_row3_col0\" class=\"data row3 col0\" >101</td>\n",
       "      <td id=\"T_87f81_row3_col1\" class=\"data row3 col1\" >How do you feel about the current product search and filtering options?</td>\n",
       "      <td id=\"T_87f81_row3_col2\" class=\"data row3 col2\" >The search and filtering options are intuitive and work well for me.</td>\n",
       "    </tr>\n",
       "    <tr>\n",
       "      <th id=\"T_87f81_level0_row4\" class=\"row_heading level0 row4\" >4</th>\n",
       "      <td id=\"T_87f81_row4_col0\" class=\"data row4 col0\" >101</td>\n",
       "      <td id=\"T_87f81_row4_col1\" class=\"data row4 col1\" >Is there anything else you would like to share about your experience with us?</td>\n",
       "      <td id=\"T_87f81_row4_col2\" class=\"data row4 col2\" >No, keep up the great work!</td>\n",
       "    </tr>\n",
       "    <tr>\n",
       "      <th id=\"T_87f81_level0_row5\" class=\"row_heading level0 row5\" >5</th>\n",
       "      <td id=\"T_87f81_row5_col0\" class=\"data row5 col0\" >102</td>\n",
       "      <td id=\"T_87f81_row5_col1\" class=\"data row5 col1\" >What do you like most about using our online marketplace?</td>\n",
       "      <td id=\"T_87f81_row5_col2\" class=\"data row5 col2\" >I enjoy the simplicity of the interface.</td>\n",
       "    </tr>\n",
       "    <tr>\n",
       "      <th id=\"T_87f81_level0_row6\" class=\"row_heading level0 row6\" >6</th>\n",
       "      <td id=\"T_87f81_row6_col0\" class=\"data row6 col0\" >102</td>\n",
       "      <td id=\"T_87f81_row6_col1\" class=\"data row6 col1\" >What is one feature you would like to see added to improve your shopping experience?</td>\n",
       "      <td id=\"T_87f81_row6_col2\" class=\"data row6 col2\" >A feature that helps compare similar products side by side would be useful.</td>\n",
       "    </tr>\n",
       "    <tr>\n",
       "      <th id=\"T_87f81_level0_row7\" class=\"row_heading level0 row7\" >7</th>\n",
       "      <td id=\"T_87f81_row7_col0\" class=\"data row7 col0\" >102</td>\n",
       "      <td id=\"T_87f81_row7_col1\" class=\"data row7 col1\" >Can you describe a recent experience where you were dissatisfied with our service?</td>\n",
       "      <td id=\"T_87f81_row7_col2\" class=\"data row7 col2\" >No complaints here.</td>\n",
       "    </tr>\n",
       "    <tr>\n",
       "      <th id=\"T_87f81_level0_row8\" class=\"row_heading level0 row8\" >8</th>\n",
       "      <td id=\"T_87f81_row8_col0\" class=\"data row8 col0\" >102</td>\n",
       "      <td id=\"T_87f81_row8_col1\" class=\"data row8 col1\" >How do you feel about the current product search and filtering options?</td>\n",
       "      <td id=\"T_87f81_row8_col2\" class=\"data row8 col2\" >I find the product search to be pretty effective.</td>\n",
       "    </tr>\n",
       "    <tr>\n",
       "      <th id=\"T_87f81_level0_row9\" class=\"row_heading level0 row9\" >9</th>\n",
       "      <td id=\"T_87f81_row9_col0\" class=\"data row9 col0\" >102</td>\n",
       "      <td id=\"T_87f81_row9_col1\" class=\"data row9 col1\" >Is there anything else you would like to share about your experience with us?</td>\n",
       "      <td id=\"T_87f81_row9_col2\" class=\"data row9 col2\" >I think the sky is a beautiful shade of purple today.</td>\n",
       "    </tr>\n",
       "    <tr>\n",
       "      <th id=\"T_87f81_level0_row10\" class=\"row_heading level0 row10\" >10</th>\n",
       "      <td id=\"T_87f81_row10_col0\" class=\"data row10 col0\" >103</td>\n",
       "      <td id=\"T_87f81_row10_col1\" class=\"data row10 col1\" >What do you like most about using our online marketplace?</td>\n",
       "      <td id=\"T_87f81_row10_col2\" class=\"data row10 col2\" >The platform is user-friendly and offers a vast selection of products.</td>\n",
       "    </tr>\n",
       "    <tr>\n",
       "      <th id=\"T_87f81_level0_row11\" class=\"row_heading level0 row11\" >11</th>\n",
       "      <td id=\"T_87f81_row11_col0\" class=\"data row11 col0\" >103</td>\n",
       "      <td id=\"T_87f81_row11_col1\" class=\"data row11 col1\" >What is one feature you would like to see added to improve your shopping experience?</td>\n",
       "      <td id=\"T_87f81_row11_col2\" class=\"data row11 col2\" >Would love to see an option to save and compare different products.</td>\n",
       "    </tr>\n",
       "    <tr>\n",
       "      <th id=\"T_87f81_level0_row12\" class=\"row_heading level0 row12\" >12</th>\n",
       "      <td id=\"T_87f81_row12_col0\" class=\"data row12 col0\" >103</td>\n",
       "      <td id=\"T_87f81_row12_col1\" class=\"data row12 col1\" >Can you describe a recent experience where you were dissatisfied with our service?</td>\n",
       "      <td id=\"T_87f81_row12_col2\" class=\"data row12 col2\" >My delivery was late by a few days, which was frustrating.</td>\n",
       "    </tr>\n",
       "    <tr>\n",
       "      <th id=\"T_87f81_level0_row13\" class=\"row_heading level0 row13\" >13</th>\n",
       "      <td id=\"T_87f81_row13_col0\" class=\"data row13 col0\" >103</td>\n",
       "      <td id=\"T_87f81_row13_col1\" class=\"data row13 col1\" >How do you feel about the current product search and filtering options?</td>\n",
       "      <td id=\"T_87f81_row13_col2\" class=\"data row13 col2\" >It’s okay.</td>\n",
       "    </tr>\n",
       "    <tr>\n",
       "      <th id=\"T_87f81_level0_row14\" class=\"row_heading level0 row14\" >14</th>\n",
       "      <td id=\"T_87f81_row14_col0\" class=\"data row14 col0\" >103</td>\n",
       "      <td id=\"T_87f81_row14_col1\" class=\"data row14 col1\" >Is there anything else you would like to share about your experience with us?</td>\n",
       "      <td id=\"T_87f81_row14_col2\" class=\"data row14 col2\" >No.</td>\n",
       "    </tr>\n",
       "  </tbody>\n",
       "</table>\n",
       "\n",
       "            </div>\n",
       "            "
      ],
      "text/plain": [
       "ScenarioList([Scenario({'Respondent ID': '101', 'variable': 'What do you like most about using our online marketplace?', 'value': 'The wide variety of products and the ease of use.'}), Scenario({'Respondent ID': '101', 'variable': 'What is one feature you would like to see added to improve your shopping experience?', 'value': 'It would be great to have a personalized recommendation system based on my browsing history.'}), Scenario({'Respondent ID': '101', 'variable': 'Can you describe a recent experience where you were dissatisfied with our service?', 'value': 'I was disappointed when an item I ordered arrived damaged, but customer service quickly resolved it.'}), Scenario({'Respondent ID': '101', 'variable': 'How do you feel about the current product search and filtering options?', 'value': 'The search and filtering options are intuitive and work well for me.'}), Scenario({'Respondent ID': '101', 'variable': 'Is there anything else you would like to share about your experience with us?', 'value': 'No, keep up the great work!'}), Scenario({'Respondent ID': '102', 'variable': 'What do you like most about using our online marketplace?', 'value': 'I enjoy the simplicity of the interface.'}), Scenario({'Respondent ID': '102', 'variable': 'What is one feature you would like to see added to improve your shopping experience?', 'value': 'A feature that helps compare similar products side by side would be useful.'}), Scenario({'Respondent ID': '102', 'variable': 'Can you describe a recent experience where you were dissatisfied with our service?', 'value': 'No complaints here.'}), Scenario({'Respondent ID': '102', 'variable': 'How do you feel about the current product search and filtering options?', 'value': 'I find the product search to be pretty effective.'}), Scenario({'Respondent ID': '102', 'variable': 'Is there anything else you would like to share about your experience with us?', 'value': 'I think the sky is a beautiful shade of purple today.'}), Scenario({'Respondent ID': '103', 'variable': 'What do you like most about using our online marketplace?', 'value': 'The platform is user-friendly and offers a vast selection of products.'}), Scenario({'Respondent ID': '103', 'variable': 'What is one feature you would like to see added to improve your shopping experience?', 'value': 'Would love to see an option to save and compare different products.'}), Scenario({'Respondent ID': '103', 'variable': 'Can you describe a recent experience where you were dissatisfied with our service?', 'value': 'My delivery was late by a few days, which was frustrating.'}), Scenario({'Respondent ID': '103', 'variable': 'How do you feel about the current product search and filtering options?', 'value': 'It’s okay.'}), Scenario({'Respondent ID': '103', 'variable': 'Is there anything else you would like to share about your experience with us?', 'value': 'No.'})])"
      ]
     },
     "execution_count": 20,
     "metadata": {},
     "output_type": "execute_result"
    }
   ],
   "source": [
    "sl_qa = sl.unpivot(id_vars = [\"Respondent ID\"])\n",
    "sl_qa"
   ]
  },
  {
   "cell_type": "markdown",
   "id": "d42e6d13-aa2a-4f07-890f-5075d40f318e",
   "metadata": {
    "editable": true,
    "slideshow": {
     "slide_type": ""
    },
    "tags": []
   },
   "source": [
    "We can call the `rename()` method to rename the keys as desired to match our question parameters syntax:"
   ]
  },
  {
   "cell_type": "code",
   "execution_count": 21,
   "id": "4dc47dc0-0a8a-4b3f-88ac-6d6f3dea54a8",
   "metadata": {
    "editable": true,
    "slideshow": {
     "slide_type": ""
    },
    "tags": []
   },
   "outputs": [
    {
     "data": {
      "text/html": [
       "<p><a href='https://docs.expectedparrot.com/en/latest/scenarios.html#scenariolist'>ScenarioList</a> scenarios: 15; keys: ['id', 'question', 'answer'];</p>\n",
       "            <div style=\"max-height: 500px; overflow-y: auto;\">\n",
       "                <style type=\"text/css\">\n",
       "#T_c8c20_row0_col0, #T_c8c20_row1_col0, #T_c8c20_row2_col0, #T_c8c20_row3_col0, #T_c8c20_row4_col0 {\n",
       "  text-align: left;\n",
       "  background-color: #fff7fb;\n",
       "  color: #000000;\n",
       "}\n",
       "#T_c8c20_row0_col1, #T_c8c20_row0_col2, #T_c8c20_row1_col1, #T_c8c20_row1_col2, #T_c8c20_row2_col1, #T_c8c20_row2_col2, #T_c8c20_row3_col1, #T_c8c20_row3_col2, #T_c8c20_row4_col1, #T_c8c20_row4_col2, #T_c8c20_row5_col1, #T_c8c20_row5_col2, #T_c8c20_row6_col1, #T_c8c20_row6_col2, #T_c8c20_row7_col1, #T_c8c20_row7_col2, #T_c8c20_row8_col1, #T_c8c20_row8_col2, #T_c8c20_row9_col1, #T_c8c20_row9_col2, #T_c8c20_row10_col1, #T_c8c20_row10_col2, #T_c8c20_row11_col1, #T_c8c20_row11_col2, #T_c8c20_row12_col1, #T_c8c20_row12_col2, #T_c8c20_row13_col1, #T_c8c20_row13_col2, #T_c8c20_row14_col1, #T_c8c20_row14_col2 {\n",
       "  text-align: left;\n",
       "}\n",
       "#T_c8c20_row5_col0, #T_c8c20_row6_col0, #T_c8c20_row7_col0, #T_c8c20_row8_col0, #T_c8c20_row9_col0 {\n",
       "  text-align: left;\n",
       "  background-color: #73a9cf;\n",
       "  color: #f1f1f1;\n",
       "}\n",
       "#T_c8c20_row10_col0, #T_c8c20_row11_col0, #T_c8c20_row12_col0, #T_c8c20_row13_col0, #T_c8c20_row14_col0 {\n",
       "  text-align: left;\n",
       "  background-color: #023858;\n",
       "  color: #f1f1f1;\n",
       "}\n",
       "</style>\n",
       "<table id=\"T_c8c20\">\n",
       "  <thead>\n",
       "    <tr>\n",
       "      <th class=\"blank level0\" >&nbsp;</th>\n",
       "      <th id=\"T_c8c20_level0_col0\" class=\"col_heading level0 col0\" >id</th>\n",
       "      <th id=\"T_c8c20_level0_col1\" class=\"col_heading level0 col1\" >question</th>\n",
       "      <th id=\"T_c8c20_level0_col2\" class=\"col_heading level0 col2\" >answer</th>\n",
       "    </tr>\n",
       "  </thead>\n",
       "  <tbody>\n",
       "    <tr>\n",
       "      <th id=\"T_c8c20_level0_row0\" class=\"row_heading level0 row0\" >0</th>\n",
       "      <td id=\"T_c8c20_row0_col0\" class=\"data row0 col0\" >101</td>\n",
       "      <td id=\"T_c8c20_row0_col1\" class=\"data row0 col1\" >What do you like most about using our online marketplace?</td>\n",
       "      <td id=\"T_c8c20_row0_col2\" class=\"data row0 col2\" >The wide variety of products and the ease of use.</td>\n",
       "    </tr>\n",
       "    <tr>\n",
       "      <th id=\"T_c8c20_level0_row1\" class=\"row_heading level0 row1\" >1</th>\n",
       "      <td id=\"T_c8c20_row1_col0\" class=\"data row1 col0\" >101</td>\n",
       "      <td id=\"T_c8c20_row1_col1\" class=\"data row1 col1\" >What is one feature you would like to see added to improve your shopping experience?</td>\n",
       "      <td id=\"T_c8c20_row1_col2\" class=\"data row1 col2\" >It would be great to have a personalized recommendation system based on my browsing history.</td>\n",
       "    </tr>\n",
       "    <tr>\n",
       "      <th id=\"T_c8c20_level0_row2\" class=\"row_heading level0 row2\" >2</th>\n",
       "      <td id=\"T_c8c20_row2_col0\" class=\"data row2 col0\" >101</td>\n",
       "      <td id=\"T_c8c20_row2_col1\" class=\"data row2 col1\" >Can you describe a recent experience where you were dissatisfied with our service?</td>\n",
       "      <td id=\"T_c8c20_row2_col2\" class=\"data row2 col2\" >I was disappointed when an item I ordered arrived damaged, but customer service quickly resolved it.</td>\n",
       "    </tr>\n",
       "    <tr>\n",
       "      <th id=\"T_c8c20_level0_row3\" class=\"row_heading level0 row3\" >3</th>\n",
       "      <td id=\"T_c8c20_row3_col0\" class=\"data row3 col0\" >101</td>\n",
       "      <td id=\"T_c8c20_row3_col1\" class=\"data row3 col1\" >How do you feel about the current product search and filtering options?</td>\n",
       "      <td id=\"T_c8c20_row3_col2\" class=\"data row3 col2\" >The search and filtering options are intuitive and work well for me.</td>\n",
       "    </tr>\n",
       "    <tr>\n",
       "      <th id=\"T_c8c20_level0_row4\" class=\"row_heading level0 row4\" >4</th>\n",
       "      <td id=\"T_c8c20_row4_col0\" class=\"data row4 col0\" >101</td>\n",
       "      <td id=\"T_c8c20_row4_col1\" class=\"data row4 col1\" >Is there anything else you would like to share about your experience with us?</td>\n",
       "      <td id=\"T_c8c20_row4_col2\" class=\"data row4 col2\" >No, keep up the great work!</td>\n",
       "    </tr>\n",
       "    <tr>\n",
       "      <th id=\"T_c8c20_level0_row5\" class=\"row_heading level0 row5\" >5</th>\n",
       "      <td id=\"T_c8c20_row5_col0\" class=\"data row5 col0\" >102</td>\n",
       "      <td id=\"T_c8c20_row5_col1\" class=\"data row5 col1\" >What do you like most about using our online marketplace?</td>\n",
       "      <td id=\"T_c8c20_row5_col2\" class=\"data row5 col2\" >I enjoy the simplicity of the interface.</td>\n",
       "    </tr>\n",
       "    <tr>\n",
       "      <th id=\"T_c8c20_level0_row6\" class=\"row_heading level0 row6\" >6</th>\n",
       "      <td id=\"T_c8c20_row6_col0\" class=\"data row6 col0\" >102</td>\n",
       "      <td id=\"T_c8c20_row6_col1\" class=\"data row6 col1\" >What is one feature you would like to see added to improve your shopping experience?</td>\n",
       "      <td id=\"T_c8c20_row6_col2\" class=\"data row6 col2\" >A feature that helps compare similar products side by side would be useful.</td>\n",
       "    </tr>\n",
       "    <tr>\n",
       "      <th id=\"T_c8c20_level0_row7\" class=\"row_heading level0 row7\" >7</th>\n",
       "      <td id=\"T_c8c20_row7_col0\" class=\"data row7 col0\" >102</td>\n",
       "      <td id=\"T_c8c20_row7_col1\" class=\"data row7 col1\" >Can you describe a recent experience where you were dissatisfied with our service?</td>\n",
       "      <td id=\"T_c8c20_row7_col2\" class=\"data row7 col2\" >No complaints here.</td>\n",
       "    </tr>\n",
       "    <tr>\n",
       "      <th id=\"T_c8c20_level0_row8\" class=\"row_heading level0 row8\" >8</th>\n",
       "      <td id=\"T_c8c20_row8_col0\" class=\"data row8 col0\" >102</td>\n",
       "      <td id=\"T_c8c20_row8_col1\" class=\"data row8 col1\" >How do you feel about the current product search and filtering options?</td>\n",
       "      <td id=\"T_c8c20_row8_col2\" class=\"data row8 col2\" >I find the product search to be pretty effective.</td>\n",
       "    </tr>\n",
       "    <tr>\n",
       "      <th id=\"T_c8c20_level0_row9\" class=\"row_heading level0 row9\" >9</th>\n",
       "      <td id=\"T_c8c20_row9_col0\" class=\"data row9 col0\" >102</td>\n",
       "      <td id=\"T_c8c20_row9_col1\" class=\"data row9 col1\" >Is there anything else you would like to share about your experience with us?</td>\n",
       "      <td id=\"T_c8c20_row9_col2\" class=\"data row9 col2\" >I think the sky is a beautiful shade of purple today.</td>\n",
       "    </tr>\n",
       "    <tr>\n",
       "      <th id=\"T_c8c20_level0_row10\" class=\"row_heading level0 row10\" >10</th>\n",
       "      <td id=\"T_c8c20_row10_col0\" class=\"data row10 col0\" >103</td>\n",
       "      <td id=\"T_c8c20_row10_col1\" class=\"data row10 col1\" >What do you like most about using our online marketplace?</td>\n",
       "      <td id=\"T_c8c20_row10_col2\" class=\"data row10 col2\" >The platform is user-friendly and offers a vast selection of products.</td>\n",
       "    </tr>\n",
       "    <tr>\n",
       "      <th id=\"T_c8c20_level0_row11\" class=\"row_heading level0 row11\" >11</th>\n",
       "      <td id=\"T_c8c20_row11_col0\" class=\"data row11 col0\" >103</td>\n",
       "      <td id=\"T_c8c20_row11_col1\" class=\"data row11 col1\" >What is one feature you would like to see added to improve your shopping experience?</td>\n",
       "      <td id=\"T_c8c20_row11_col2\" class=\"data row11 col2\" >Would love to see an option to save and compare different products.</td>\n",
       "    </tr>\n",
       "    <tr>\n",
       "      <th id=\"T_c8c20_level0_row12\" class=\"row_heading level0 row12\" >12</th>\n",
       "      <td id=\"T_c8c20_row12_col0\" class=\"data row12 col0\" >103</td>\n",
       "      <td id=\"T_c8c20_row12_col1\" class=\"data row12 col1\" >Can you describe a recent experience where you were dissatisfied with our service?</td>\n",
       "      <td id=\"T_c8c20_row12_col2\" class=\"data row12 col2\" >My delivery was late by a few days, which was frustrating.</td>\n",
       "    </tr>\n",
       "    <tr>\n",
       "      <th id=\"T_c8c20_level0_row13\" class=\"row_heading level0 row13\" >13</th>\n",
       "      <td id=\"T_c8c20_row13_col0\" class=\"data row13 col0\" >103</td>\n",
       "      <td id=\"T_c8c20_row13_col1\" class=\"data row13 col1\" >How do you feel about the current product search and filtering options?</td>\n",
       "      <td id=\"T_c8c20_row13_col2\" class=\"data row13 col2\" >It’s okay.</td>\n",
       "    </tr>\n",
       "    <tr>\n",
       "      <th id=\"T_c8c20_level0_row14\" class=\"row_heading level0 row14\" >14</th>\n",
       "      <td id=\"T_c8c20_row14_col0\" class=\"data row14 col0\" >103</td>\n",
       "      <td id=\"T_c8c20_row14_col1\" class=\"data row14 col1\" >Is there anything else you would like to share about your experience with us?</td>\n",
       "      <td id=\"T_c8c20_row14_col2\" class=\"data row14 col2\" >No.</td>\n",
       "    </tr>\n",
       "  </tbody>\n",
       "</table>\n",
       "\n",
       "            </div>\n",
       "            "
      ],
      "text/plain": [
       "ScenarioList([Scenario({'id': '101', 'question': 'What do you like most about using our online marketplace?', 'answer': 'The wide variety of products and the ease of use.'}), Scenario({'id': '101', 'question': 'What is one feature you would like to see added to improve your shopping experience?', 'answer': 'It would be great to have a personalized recommendation system based on my browsing history.'}), Scenario({'id': '101', 'question': 'Can you describe a recent experience where you were dissatisfied with our service?', 'answer': 'I was disappointed when an item I ordered arrived damaged, but customer service quickly resolved it.'}), Scenario({'id': '101', 'question': 'How do you feel about the current product search and filtering options?', 'answer': 'The search and filtering options are intuitive and work well for me.'}), Scenario({'id': '101', 'question': 'Is there anything else you would like to share about your experience with us?', 'answer': 'No, keep up the great work!'}), Scenario({'id': '102', 'question': 'What do you like most about using our online marketplace?', 'answer': 'I enjoy the simplicity of the interface.'}), Scenario({'id': '102', 'question': 'What is one feature you would like to see added to improve your shopping experience?', 'answer': 'A feature that helps compare similar products side by side would be useful.'}), Scenario({'id': '102', 'question': 'Can you describe a recent experience where you were dissatisfied with our service?', 'answer': 'No complaints here.'}), Scenario({'id': '102', 'question': 'How do you feel about the current product search and filtering options?', 'answer': 'I find the product search to be pretty effective.'}), Scenario({'id': '102', 'question': 'Is there anything else you would like to share about your experience with us?', 'answer': 'I think the sky is a beautiful shade of purple today.'}), Scenario({'id': '103', 'question': 'What do you like most about using our online marketplace?', 'answer': 'The platform is user-friendly and offers a vast selection of products.'}), Scenario({'id': '103', 'question': 'What is one feature you would like to see added to improve your shopping experience?', 'answer': 'Would love to see an option to save and compare different products.'}), Scenario({'id': '103', 'question': 'Can you describe a recent experience where you were dissatisfied with our service?', 'answer': 'My delivery was late by a few days, which was frustrating.'}), Scenario({'id': '103', 'question': 'How do you feel about the current product search and filtering options?', 'answer': 'It’s okay.'}), Scenario({'id': '103', 'question': 'Is there anything else you would like to share about your experience with us?', 'answer': 'No.'})])"
      ]
     },
     "execution_count": 21,
     "metadata": {},
     "output_type": "execute_result"
    }
   ],
   "source": [
    "sl_qa = sl_qa.rename({\"Respondent ID\": \"id\", \"variable\": \"question\", \"value\": \"answer\"})\n",
    "sl_qa"
   ]
  },
  {
   "cell_type": "code",
   "execution_count": 22,
   "id": "076719cb-fd16-4f75-90e3-fc1554d6c5ca",
   "metadata": {
    "editable": true,
    "slideshow": {
     "slide_type": ""
    },
    "tags": []
   },
   "outputs": [],
   "source": [
    "from edsl import QuestionYesNo\n",
    "\n",
    "q_responsive = QuestionYesNo(\n",
    "    question_name = \"responsive\",\n",
    "    question_text = \"Is this answer responsive to the question that was asked? Question: {{ question }} Answer: {{ answer }}\"\n",
    ")"
   ]
  },
  {
   "cell_type": "code",
   "execution_count": 23,
   "id": "1f1e524c-9525-4683-aade-4f3bb33b238a",
   "metadata": {
    "editable": true,
    "slideshow": {
     "slide_type": ""
    },
    "tags": []
   },
   "outputs": [
    {
     "data": {
      "text/html": [
       "\n",
       "            <!-- #region Remove Inference Info -->\n",
       "            <div id=\"logger-b7fda53a-2b46-457d-898b-24253ac17113\" class=\"job-logger\">\n",
       "                <div class=\"job-logger-header\">\n",
       "                    <span>\n",
       "                        <span id=\"arrow-b7fda53a-2b46-457d-898b-24253ac17113\">▼</span> \n",
       "                        Job Status (2025-02-15 06:29:18)\n",
       "                    </span>\n",
       "                </div>\n",
       "                <div id=\"content-b7fda53a-2b46-457d-898b-24253ac17113\" style=\"display: block;\">\n",
       "                    <table class=\"job-logger-table\">\n",
       "                        \n",
       "            <tr>\n",
       "                <td class=\"job-logger-cell job-logger-label\">Job UUID</td>\n",
       "                <td class=\"job-logger-cell job-logger-value\">ac889886-fd7d-442a-8539-18745981a666</td>\n",
       "            </tr>\n",
       "        \n",
       "            <tr>\n",
       "                <td class=\"job-logger-cell job-logger-label\">Progress Bar URL</td>\n",
       "                <td class=\"job-logger-cell job-logger-value\"><a href=\"https://www.expectedparrot.com/home/remote-job-progress/ac889886-fd7d-442a-8539-18745981a666\" target=\"_blank\" class=\"job-logger-link\">https://www.expectedparrot.com/home/remote-job-progress/ac889886-fd7d-442a-8539-18745981a666</a></td>\n",
       "            </tr>\n",
       "        \n",
       "            <tr>\n",
       "                <td class=\"job-logger-cell job-logger-label\">Exceptions Report URL</td>\n",
       "                <td class=\"job-logger-cell job-logger-value\">None</td>\n",
       "            </tr>\n",
       "        \n",
       "            <tr>\n",
       "                <td class=\"job-logger-cell job-logger-label\">Results UUID</td>\n",
       "                <td class=\"job-logger-cell job-logger-value\">62702f00-9bce-43be-b85e-8f62d0110524</td>\n",
       "            </tr>\n",
       "        \n",
       "            <tr>\n",
       "                <td class=\"job-logger-cell job-logger-label\">Results URL</td>\n",
       "                <td class=\"job-logger-cell job-logger-value\"><a href=\"https://www.expectedparrot.com/content/62702f00-9bce-43be-b85e-8f62d0110524\" target=\"_blank\" class=\"job-logger-link\">https://www.expectedparrot.com/content/62702f00-9bce-43be-b85e-8f62d0110524</a></td>\n",
       "            </tr>\n",
       "        \n",
       "                    </table>\n",
       "                    \n",
       "                <div class=\"job-logger-status\">\n",
       "                    <span style=\"margin-right: 8px;\" class=\"job-logger-success\">✓</span><strong>Current Status:</strong> Job completed and Results stored on Coop: <a href=\"https://www.expectedparrot.com/content/62702f00-9bce-43be-b85e-8f62d0110524\" target=\"_blank\" class=\"job-logger-link\">https://www.expectedparrot.com/content/62702f00-9bce-43be-b85e-8f62d0110524</a>\n",
       "                </div>\n",
       "            \n",
       "                </div>\n",
       "            </div>\n",
       "            <!-- # endregion -->\n",
       "        "
      ],
      "text/plain": [
       "<IPython.core.display.HTML object>"
      ]
     },
     "metadata": {},
     "output_type": "display_data"
    },
    {
     "data": {
      "text/html": [
       "\n",
       "        <style>\n",
       "            /* Base theme variables */\n",
       "            :root {\n",
       "                --jl-bg-primary: #ffffff;\n",
       "                --jl-bg-secondary: #f5f5f5;\n",
       "                --jl-border-color: #e0e0e0;\n",
       "                --jl-text-primary: #24292e;\n",
       "                --jl-text-secondary: #586069;\n",
       "                --jl-link-color: #0366d6;\n",
       "                --jl-success-color: #28a745;\n",
       "                --jl-error-color: #d73a49;\n",
       "                --jl-header-bg: #f1f1f1;\n",
       "            }\n",
       "            \n",
       "            /* Dark theme variables */\n",
       "            .theme-dark {\n",
       "                --jl-bg-primary: #1e1e1e;\n",
       "                --jl-bg-secondary: #252526;\n",
       "                --jl-border-color: #2d2d2d;\n",
       "                --jl-text-primary: #cccccc;\n",
       "                --jl-text-secondary: #999999;\n",
       "                --jl-link-color: #4e94ce;\n",
       "                --jl-success-color: #89d185;\n",
       "                --jl-error-color: #f14c4c;\n",
       "                --jl-header-bg: #333333;\n",
       "            }\n",
       "\n",
       "            /* High contrast theme variables */\n",
       "            .theme-high-contrast {\n",
       "                --jl-bg-primary: #000000;\n",
       "                --jl-bg-secondary: #1a1a1a;\n",
       "                --jl-border-color: #404040;\n",
       "                --jl-text-primary: #ffffff;\n",
       "                --jl-text-secondary: #cccccc;\n",
       "                --jl-link-color: #66b3ff;\n",
       "                --jl-success-color: #00ff00;\n",
       "                --jl-error-color: #ff0000;\n",
       "                --jl-header-bg: #262626;\n",
       "            }\n",
       "            \n",
       "            .job-logger {\n",
       "                font-family: system-ui, -apple-system, sans-serif;\n",
       "                max-width: 800px;\n",
       "                margin: 10px 0;\n",
       "                color: var(--jl-text-primary);\n",
       "                box-shadow: 0 1px 3px rgba(0,0,0,0.12);\n",
       "                border-radius: 4px;\n",
       "                overflow: hidden;\n",
       "            }\n",
       "            \n",
       "            .job-logger-header {\n",
       "                padding: 12px 16px;\n",
       "                background: var(--jl-header-bg);\n",
       "                border: none;\n",
       "                border-radius: 4px 4px 0 0;\n",
       "                cursor: pointer;\n",
       "                color: var(--jl-text-primary);\n",
       "                user-select: none;\n",
       "                font-weight: 500;\n",
       "                letter-spacing: 0.3px;\n",
       "                display: flex;\n",
       "                justify-content: space-between;\n",
       "                align-items: center;\n",
       "            }\n",
       "            \n",
       "            .theme-select {\n",
       "                padding: 4px 8px;\n",
       "                border-radius: 4px;\n",
       "                border: 1px solid var(--jl-border-color);\n",
       "                background: var(--jl-bg-primary);\n",
       "                color: var(--jl-text-primary);\n",
       "                font-size: 0.9em;\n",
       "            }\n",
       "            \n",
       "            .job-logger-table {\n",
       "                width: 100%;\n",
       "                border-collapse: separate;\n",
       "                border-spacing: 0;\n",
       "                background: var(--jl-bg-primary);\n",
       "                border: 1px solid var(--jl-border-color);\n",
       "                margin-top: -1px;\n",
       "            }\n",
       "            \n",
       "            .job-logger-cell {\n",
       "                padding: 12px 16px;\n",
       "                border-bottom: 1px solid var(--jl-border-color);\n",
       "                line-height: 1.4;\n",
       "            }\n",
       "            \n",
       "            .job-logger-label {\n",
       "                font-weight: 500;\n",
       "                color: var(--jl-text-primary);\n",
       "                width: 25%;\n",
       "                background: var(--jl-bg-secondary);\n",
       "            }\n",
       "            \n",
       "            .job-logger-value {\n",
       "                color: var(--jl-text-secondary);\n",
       "                word-break: break-word;\n",
       "            }\n",
       "            \n",
       "            .job-logger-status {\n",
       "                margin: 0;\n",
       "                padding: 12px 16px;\n",
       "                background-color: var(--jl-bg-secondary);\n",
       "                border: 1px solid var(--jl-border-color);\n",
       "                border-top: none;\n",
       "                border-radius: 0 0 4px 4px;\n",
       "                color: var(--jl-text-primary);\n",
       "                font-size: 0.95em;\n",
       "            }\n",
       "        </style>\n",
       "        \n",
       "        <script>\n",
       "            class ThemeManager {\n",
       "                constructor(logId, initialTheme = 'auto') {\n",
       "                    this.logId = logId;\n",
       "                    this.currentTheme = initialTheme;\n",
       "                    this.darkModeMediaQuery = window.matchMedia('(prefers-color-scheme: dark)');\n",
       "                    this.init();\n",
       "                }\n",
       "                \n",
       "                init() {\n",
       "                    this.setupThemeSwitcher();\n",
       "                    this.updateTheme(this.currentTheme);\n",
       "                    \n",
       "                    this.darkModeMediaQuery.addListener(() => {\n",
       "                        if (this.currentTheme === 'auto') {\n",
       "                            this.updateTheme('auto');\n",
       "                        }\n",
       "                    });\n",
       "                }\n",
       "                \n",
       "                setupThemeSwitcher() {\n",
       "                    const logger = document.querySelector(`#logger-${this.logId}`);\n",
       "                    if (!logger) return;\n",
       "                    \n",
       "                    const switcher = document.createElement('div');\n",
       "                    switcher.className = 'theme-switcher';\n",
       "                    switcher.innerHTML = `\n",
       "                        <select id=\"theme-select-${this.logId}\" class=\"theme-select\">\n",
       "                            <option value=\"auto\">Auto</option>\n",
       "                            <option value=\"light\">Light</option>\n",
       "                            <option value=\"dark\">Dark</option>\n",
       "                            <option value=\"high-contrast\">High Contrast</option>\n",
       "                        </select>\n",
       "                    `;\n",
       "                    \n",
       "                    const header = logger.querySelector('.job-logger-header');\n",
       "                    header.appendChild(switcher);\n",
       "                    \n",
       "                    const select = switcher.querySelector('select');\n",
       "                    select.value = this.currentTheme;\n",
       "                    select.addEventListener('change', (e) => {\n",
       "                        this.updateTheme(e.target.value);\n",
       "                    });\n",
       "                }\n",
       "                \n",
       "                updateTheme(theme) {\n",
       "                    const logger = document.querySelector(`#logger-${this.logId}`);\n",
       "                    if (!logger) return;\n",
       "                    \n",
       "                    this.currentTheme = theme;\n",
       "                    \n",
       "                    logger.classList.remove('theme-light', 'theme-dark', 'theme-high-contrast');\n",
       "                    \n",
       "                    if (theme === 'auto') {\n",
       "                        const isDark = this.darkModeMediaQuery.matches;\n",
       "                        logger.classList.add(isDark ? 'theme-dark' : 'theme-light');\n",
       "                    } else {\n",
       "                        logger.classList.add(`theme-${theme}`);\n",
       "                    }\n",
       "                    \n",
       "                    try {\n",
       "                        localStorage.setItem('jobLoggerTheme', theme);\n",
       "                    } catch (e) {\n",
       "                        console.warn('Unable to save theme preference:', e);\n",
       "                    }\n",
       "                }\n",
       "            }\n",
       "            \n",
       "            window.initThemeManager = (logId, initialTheme) => {\n",
       "                new ThemeManager(logId, initialTheme);\n",
       "            };\n",
       "        </script>\n",
       "        \n",
       "        <script>\n",
       "            document.addEventListener('DOMContentLoaded', () => {\n",
       "                window.initThemeManager('b7fda53a-2b46-457d-898b-24253ac17113', 'auto');\n",
       "            });\n",
       "        </script>\n",
       "        "
      ],
      "text/plain": [
       "<IPython.core.display.HTML object>"
      ]
     },
     "metadata": {},
     "output_type": "display_data"
    }
   ],
   "source": [
    "results = q_responsive.by(sl_qa).by(m).run()"
   ]
  },
  {
   "cell_type": "code",
   "execution_count": 24,
   "id": "99b90830-46c8-40a8-b1b0-d6bc79c42cbb",
   "metadata": {
    "editable": true,
    "slideshow": {
     "slide_type": ""
    },
    "tags": []
   },
   "outputs": [
    {
     "data": {
      "text/html": [
       "\n",
       "            <div style=\"max-height: 500px; overflow-y: auto;\">\n",
       "                <style type=\"text/css\">\n",
       "#T_d0e85_row0_col0, #T_d0e85_row1_col0 {\n",
       "  text-align: left;\n",
       "  background-color: #fff7fb;\n",
       "  color: #000000;\n",
       "}\n",
       "#T_d0e85_row0_col1, #T_d0e85_row0_col2, #T_d0e85_row1_col1, #T_d0e85_row1_col2, #T_d0e85_row2_col1, #T_d0e85_row2_col2, #T_d0e85_row3_col1, #T_d0e85_row3_col2, #T_d0e85_row4_col1, #T_d0e85_row4_col2, #T_d0e85_row5_col1, #T_d0e85_row5_col2 {\n",
       "  text-align: left;\n",
       "}\n",
       "#T_d0e85_row2_col0, #T_d0e85_row3_col0, #T_d0e85_row4_col0 {\n",
       "  text-align: left;\n",
       "  background-color: #73a9cf;\n",
       "  color: #f1f1f1;\n",
       "}\n",
       "#T_d0e85_row5_col0 {\n",
       "  text-align: left;\n",
       "  background-color: #023858;\n",
       "  color: #f1f1f1;\n",
       "}\n",
       "</style>\n",
       "<table id=\"T_d0e85\">\n",
       "  <thead>\n",
       "    <tr>\n",
       "      <th class=\"blank level0\" >&nbsp;</th>\n",
       "      <th id=\"T_d0e85_level0_col0\" class=\"col_heading level0 col0\" >scenario.id</th>\n",
       "      <th id=\"T_d0e85_level0_col1\" class=\"col_heading level0 col1\" >scenario.question</th>\n",
       "      <th id=\"T_d0e85_level0_col2\" class=\"col_heading level0 col2\" >scenario.answer</th>\n",
       "    </tr>\n",
       "  </thead>\n",
       "  <tbody>\n",
       "    <tr>\n",
       "      <th id=\"T_d0e85_level0_row0\" class=\"row_heading level0 row0\" >0</th>\n",
       "      <td id=\"T_d0e85_row0_col0\" class=\"data row0 col0\" >101</td>\n",
       "      <td id=\"T_d0e85_row0_col1\" class=\"data row0 col1\" >Can you describe a recent experience where you were dissatisfied with our service?</td>\n",
       "      <td id=\"T_d0e85_row0_col2\" class=\"data row0 col2\" >I was disappointed when an item I ordered arrived damaged, but customer service quickly resolved it.</td>\n",
       "    </tr>\n",
       "    <tr>\n",
       "      <th id=\"T_d0e85_level0_row1\" class=\"row_heading level0 row1\" >1</th>\n",
       "      <td id=\"T_d0e85_row1_col0\" class=\"data row1 col0\" >101</td>\n",
       "      <td id=\"T_d0e85_row1_col1\" class=\"data row1 col1\" >Is there anything else you would like to share about your experience with us?</td>\n",
       "      <td id=\"T_d0e85_row1_col2\" class=\"data row1 col2\" >No, keep up the great work!</td>\n",
       "    </tr>\n",
       "    <tr>\n",
       "      <th id=\"T_d0e85_level0_row2\" class=\"row_heading level0 row2\" >2</th>\n",
       "      <td id=\"T_d0e85_row2_col0\" class=\"data row2 col0\" >102</td>\n",
       "      <td id=\"T_d0e85_row2_col1\" class=\"data row2 col1\" >Can you describe a recent experience where you were dissatisfied with our service?</td>\n",
       "      <td id=\"T_d0e85_row2_col2\" class=\"data row2 col2\" >No complaints here.</td>\n",
       "    </tr>\n",
       "    <tr>\n",
       "      <th id=\"T_d0e85_level0_row3\" class=\"row_heading level0 row3\" >3</th>\n",
       "      <td id=\"T_d0e85_row3_col0\" class=\"data row3 col0\" >102</td>\n",
       "      <td id=\"T_d0e85_row3_col1\" class=\"data row3 col1\" >How do you feel about the current product search and filtering options?</td>\n",
       "      <td id=\"T_d0e85_row3_col2\" class=\"data row3 col2\" >I find the product search to be pretty effective.</td>\n",
       "    </tr>\n",
       "    <tr>\n",
       "      <th id=\"T_d0e85_level0_row4\" class=\"row_heading level0 row4\" >4</th>\n",
       "      <td id=\"T_d0e85_row4_col0\" class=\"data row4 col0\" >102</td>\n",
       "      <td id=\"T_d0e85_row4_col1\" class=\"data row4 col1\" >Is there anything else you would like to share about your experience with us?</td>\n",
       "      <td id=\"T_d0e85_row4_col2\" class=\"data row4 col2\" >I think the sky is a beautiful shade of purple today.</td>\n",
       "    </tr>\n",
       "    <tr>\n",
       "      <th id=\"T_d0e85_level0_row5\" class=\"row_heading level0 row5\" >5</th>\n",
       "      <td id=\"T_d0e85_row5_col0\" class=\"data row5 col0\" >103</td>\n",
       "      <td id=\"T_d0e85_row5_col1\" class=\"data row5 col1\" >How do you feel about the current product search and filtering options?</td>\n",
       "      <td id=\"T_d0e85_row5_col2\" class=\"data row5 col2\" >It’s okay.</td>\n",
       "    </tr>\n",
       "  </tbody>\n",
       "</table>\n",
       "\n",
       "            </div>\n",
       "            "
      ],
      "text/plain": [
       "Dataset([{'scenario.id': ['101', '101', '102', '102', '102', '103']}, {'scenario.question': ['Can you describe a recent experience where you were dissatisfied with our service?', 'Is there anything else you would like to share about your experience with us?', 'Can you describe a recent experience where you were dissatisfied with our service?', 'How do you feel about the current product search and filtering options?', 'Is there anything else you would like to share about your experience with us?', 'How do you feel about the current product search and filtering options?']}, {'scenario.answer': ['I was disappointed when an item I ordered arrived damaged, but customer service quickly resolved it.', 'No, keep up the great work!', 'No complaints here.', 'I find the product search to be pretty effective.', 'I think the sky is a beautiful shade of purple today.', 'It’s okay.']}])"
      ]
     },
     "execution_count": 24,
     "metadata": {},
     "output_type": "execute_result"
    }
   ],
   "source": [
    "(\n",
    "    results\n",
    "    .filter(\"responsive == 'No'\")\n",
    "    .select(\"id\", \"question\", \"answer\")\n",
    ")"
   ]
  },
  {
   "cell_type": "markdown",
   "id": "eeac0787-133c-45aa-8abc-4fe40863b1b9",
   "metadata": {
    "editable": true,
    "slideshow": {
     "slide_type": ""
    },
    "tags": []
   },
   "source": [
    "## Uploading content to Coop\n",
    "[Coop](https://www.expectedparrot.com/content/content/explore) is a new platform for creating, storing and sharing LLM-based research. It is fully integrated with EDSL, and a convenient place to post and access surveys, agents, results and notebooks. [Learn more about using the Coop](https://docs.expectedparrot.com/en/latest/coop.html).\n",
    "\n",
    "Here we post the contents of this notebook:"
   ]
  },
  {
   "cell_type": "code",
   "execution_count": 25,
   "id": "495ed72b-9022-4cc4-9515-19dcdd57988e",
   "metadata": {
    "editable": true,
    "slideshow": {
     "slide_type": ""
    },
    "tags": [
     "skip-execution"
    ]
   },
   "outputs": [],
   "source": [
    "from edsl import Notebook"
   ]
  },
  {
   "cell_type": "code",
   "execution_count": 26,
   "id": "fe78a443-e507-4ec8-9bc5-bc2afb3d780f",
   "metadata": {
    "editable": true,
    "slideshow": {
     "slide_type": ""
    },
    "tags": [
     "skip-execution"
    ]
   },
   "outputs": [],
   "source": [
    "n = Notebook(path = \"scenariolist_unpivot.ipynb\")"
   ]
  },
  {
   "cell_type": "code",
   "execution_count": 27,
   "id": "ab5a0cb7-30bf-4a35-b549-494ca76d3d61",
   "metadata": {
    "editable": true,
    "slideshow": {
     "slide_type": ""
    },
    "tags": [
     "skip-execution"
    ]
   },
   "outputs": [
    {
     "data": {
      "text/plain": [
       "{'description': 'ScenarioList methods for sense checking survey data',\n",
       " 'object_type': 'notebook',\n",
       " 'url': 'https://www.expectedparrot.com/content/1cfaa25a-6559-4e5f-8b71-96dd4662545d',\n",
       " 'uuid': '1cfaa25a-6559-4e5f-8b71-96dd4662545d',\n",
       " 'version': '0.1.45.dev1',\n",
       " 'visibility': 'public'}"
      ]
     },
     "execution_count": 27,
     "metadata": {},
     "output_type": "execute_result"
    }
   ],
   "source": [
    "info = n.push(description = \"ScenarioList methods for sense checking survey data\", visibility = \"public\")\n",
    "info"
   ]
  },
  {
   "cell_type": "markdown",
   "id": "56d44c9f-92dd-4e09-9d18-224acc0972fd",
   "metadata": {
    "editable": true,
    "slideshow": {
     "slide_type": ""
    },
    "tags": []
   },
   "source": [
    "To update an object at Coop:"
   ]
  },
  {
   "cell_type": "code",
   "execution_count": 28,
   "id": "e2478858-a5c6-495e-bd23-7e0bbc1cc9a8",
   "metadata": {
    "editable": true,
    "slideshow": {
     "slide_type": ""
    },
    "tags": [
     "skip-execution"
    ]
   },
   "outputs": [],
   "source": [
    "n = Notebook(path = \"scenariolist_unpivot.ipynb\") # resave"
   ]
  },
  {
   "cell_type": "code",
   "execution_count": 29,
   "id": "c0b79726-8fb0-4ed5-a6db-f59abbe010d9",
   "metadata": {
    "editable": true,
    "slideshow": {
     "slide_type": ""
    },
    "tags": [
     "skip-execution"
    ]
   },
   "outputs": [
    {
     "data": {
      "text/plain": [
       "{'status': 'success'}"
      ]
     },
     "execution_count": 29,
     "metadata": {},
     "output_type": "execute_result"
    }
   ],
   "source": [
    "n.patch(uuid = info[\"uuid\"], value = n)"
   ]
  }
 ],
 "metadata": {
  "kernelspec": {
   "display_name": "Python 3 (ipykernel)",
   "language": "python",
   "name": "python3"
  },
  "language_info": {
   "codemirror_mode": {
    "name": "ipython",
    "version": 3
   },
   "file_extension": ".py",
   "mimetype": "text/x-python",
   "name": "python",
   "nbconvert_exporter": "python",
   "pygments_lexer": "ipython3",
   "version": "3.11.7"
  }
 },
 "nbformat": 4,
 "nbformat_minor": 5
}
