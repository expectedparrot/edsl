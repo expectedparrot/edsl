{
 "cells": [
  {
   "cell_type": "markdown",
   "id": "5047bca0-3702-4511-ac5f-d6b607d4e1d0",
   "metadata": {},
   "source": [
    "# NoneType error for next token probs"
   ]
  },
  {
   "cell_type": "code",
   "execution_count": 1,
   "id": "9230a974-3b45-4bc6-b48c-9589ba174d27",
   "metadata": {},
   "outputs": [],
   "source": [
    "from edsl import QuestionMultipleChoice, Agent, Model"
   ]
  },
  {
   "cell_type": "code",
   "execution_count": 2,
   "id": "3814e779-310b-436c-afa0-07b4b40b95e4",
   "metadata": {},
   "outputs": [],
   "source": [
    "q = QuestionMultipleChoice(\n",
    "    question_name = \"income_pref\", \n",
    "    question_text = \"Which of the following is more important to you: \", \n",
    "    question_options = [\"Financial stability\", \"Moving up the income ladder\"], \n",
    "    use_code = True\n",
    ")"
   ]
  },
  {
   "cell_type": "code",
   "execution_count": 3,
   "id": "d2c2b8eb-ea94-4973-b9ff-59c2945d7739",
   "metadata": {},
   "outputs": [],
   "source": [
    "a = Agent(traits = {\"persona\": \"You are an American answering a poll from Pew.\"})"
   ]
  },
  {
   "cell_type": "code",
   "execution_count": 4,
   "id": "ca9495aa-e350-44aa-bfae-741a52ac4168",
   "metadata": {},
   "outputs": [],
   "source": [
    "m = Model(\"gpt-4o\", temperature = 1, logprobs = True)"
   ]
  },
  {
   "cell_type": "code",
   "execution_count": 5,
   "id": "a60f5d43-5b46-4e7b-9bfe-25ec26c2c161",
   "metadata": {},
   "outputs": [
    {
     "name": "stdout",
     "output_type": "stream",
     "text": [
      "Remote inference started (Job uuid=a397693f-c284-4a74-a151-630ff72e6e0a).\n",
      "Job completed and Results stored on Coop (Results uuid=145fa080-1508-4273-861b-b4b4a42f4b64).\n"
     ]
    }
   ],
   "source": [
    "results = q.by(a).by(m).run(n = 20)"
   ]
  },
  {
   "cell_type": "code",
   "execution_count": 6,
   "id": "4900fbce-3ec2-4696-b179-c984175e271f",
   "metadata": {},
   "outputs": [],
   "source": [
    "example = results.select(\"raw_model_response.income_pref_raw_model_response\").to_list()[0]"
   ]
  },
  {
   "cell_type": "code",
   "execution_count": 7,
   "id": "b8900807-ba4f-4bff-b9bc-20737c151c31",
   "metadata": {},
   "outputs": [
    {
     "ename": "TypeError",
     "evalue": "'NoneType' object is not subscriptable",
     "output_type": "error",
     "traceback": [
      "\u001b[0;31m---------------------------------------------------------------------------\u001b[0m",
      "\u001b[0;31mTypeError\u001b[0m                                 Traceback (most recent call last)",
      "Cell \u001b[0;32mIn[7], line 1\u001b[0m\n\u001b[0;32m----> 1\u001b[0m next_token_probs \u001b[38;5;241m=\u001b[39m \u001b[43mexample\u001b[49m\u001b[43m[\u001b[49m\u001b[38;5;124;43m'\u001b[39;49m\u001b[38;5;124;43mchoices\u001b[39;49m\u001b[38;5;124;43m'\u001b[39;49m\u001b[43m]\u001b[49m\u001b[43m[\u001b[49m\u001b[38;5;241;43m0\u001b[39;49m\u001b[43m]\u001b[49m\u001b[43m[\u001b[49m\u001b[38;5;124;43m'\u001b[39;49m\u001b[38;5;124;43mlogprobs\u001b[39;49m\u001b[38;5;124;43m'\u001b[39;49m\u001b[43m]\u001b[49m\u001b[43m[\u001b[49m\u001b[38;5;124;43m'\u001b[39;49m\u001b[38;5;124;43mcontent\u001b[39;49m\u001b[38;5;124;43m'\u001b[39;49m\u001b[43m]\u001b[49m[\u001b[38;5;241m0\u001b[39m][\u001b[38;5;124m'\u001b[39m\u001b[38;5;124mtop_logprobs\u001b[39m\u001b[38;5;124m'\u001b[39m]\n\u001b[1;32m      2\u001b[0m next_token_probs\n",
      "\u001b[0;31mTypeError\u001b[0m: 'NoneType' object is not subscriptable"
     ]
    }
   ],
   "source": [
    "next_token_probs = example['choices'][0]['logprobs']['content'][0]['top_logprobs']\n",
    "next_token_probs"
   ]
  },
  {
   "cell_type": "code",
   "execution_count": 8,
   "id": "499b8b80-fcd3-47b7-a7d3-a98ca710dc08",
   "metadata": {},
   "outputs": [],
   "source": [
    "from edsl import Notebook"
   ]
  },
  {
   "cell_type": "code",
   "execution_count": null,
   "id": "3a6de63e-97de-48f4-8945-a75d74d07f2f",
   "metadata": {},
   "outputs": [],
   "source": [
    "n = Notebook(path = \"next_token_probs_error.ipynb\")"
   ]
  },
  {
   "cell_type": "code",
   "execution_count": null,
   "id": "b56478c3-9d8a-4934-acce-292e0386f385",
   "metadata": {},
   "outputs": [],
   "source": [
    "n.push(description = \"NoneType error for next token probs\")"
   ]
  }
 ],
 "metadata": {
  "kernelspec": {
   "display_name": "Python 3 (ipykernel)",
   "language": "python",
   "name": "python3"
  },
  "language_info": {
   "codemirror_mode": {
    "name": "ipython",
    "version": 3
   },
   "file_extension": ".py",
   "mimetype": "text/x-python",
   "name": "python",
   "nbconvert_exporter": "python",
   "pygments_lexer": "ipython3",
   "version": "3.11.7"
  }
 },
 "nbformat": 4,
 "nbformat_minor": 5
}
