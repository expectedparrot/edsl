{
 "cells": [
  {
   "cell_type": "markdown",
   "id": "8e3f49b0-e41c-4f4d-8d84-018f7ac5281b",
   "metadata": {
    "editable": true,
    "slideshow": {
     "slide_type": ""
    },
    "tags": []
   },
   "source": [
    "# `FileStore` examples"
   ]
  },
  {
   "cell_type": "markdown",
   "id": "3417519b-7c75-40b0-a6c2-a9a981713083",
   "metadata": {
    "editable": true,
    "slideshow": {
     "slide_type": ""
    },
    "tags": []
   },
   "source": [
    "## CSV example\n",
    "Here we create an example CSV file, post it to Coop using `FileStore`, and then retrieve it and use it to construct a `ScenarioList` and an `AgentList`.\n",
    "\n",
    "To create a CSV file (this step can be skipped and your own file replaced in the following steps):"
   ]
  },
  {
   "cell_type": "code",
   "execution_count": 1,
   "id": "313da787",
   "metadata": {},
   "outputs": [],
   "source": [
    "from edsl import FileStore"
   ]
  },
  {
   "cell_type": "code",
   "execution_count": 2,
   "id": "1e81d443-64c6-44af-a7b4-dac111b123c6",
   "metadata": {
    "editable": true,
    "slideshow": {
     "slide_type": ""
    }
   },
   "outputs": [],
   "source": [
    "data = [\n",
    "    ['Age', 'City', 'Occupation'],\n",
    "    [25, 'New York', 'Software Engineer'],\n",
    "    [30, 'San Francisco', 'Teacher'],\n",
    "    [35, 'Chicago', 'Doctor'],\n",
    "    [28, 'Boston', 'Data Scientist'],\n",
    "    [45, 'Seattle', 'Architect']\n",
    "]\n",
    "\n",
    "# Writing to CSV file\n",
    "with open('data.csv', 'w') as file:\n",
    "    for row in data:\n",
    "        line = ','.join(str(item) for item in row)\n",
    "        file.write(line + '\\n')\n",
    "\n",
    "fs = FileStore(\"data.csv\")"
   ]
  },
  {
   "cell_type": "markdown",
   "id": "fb00bf02-58a1-47fd-852b-8a96fdcff48f",
   "metadata": {
    "editable": true,
    "slideshow": {
     "slide_type": ""
    },
    "tags": []
   },
   "source": [
    "Creating scenarios:"
   ]
  },
  {
   "cell_type": "code",
   "execution_count": 4,
   "id": "ef1d217e-561c-4dd5-8c35-f08a82c73906",
   "metadata": {
    "editable": true,
    "slideshow": {
     "slide_type": ""
    },
    "tags": []
   },
   "outputs": [
    {
     "data": {
      "text/html": [
       "<p><a href='https://docs.expectedparrot.com/en/latest/scenarios.html#scenariolist'>ScenarioList</a> scenarios: 5; keys: ['City', 'Age', 'Occupation'];</p>\n",
       "            <div style=\"max-height: 500px; overflow-y: auto;\">\n",
       "                <style type=\"text/css\">\n",
       "#T_b112d_row0_col0 {\n",
       "  text-align: left;\n",
       "  white-space: pre-wrap;\n",
       "  max-width: 300px;\n",
       "  word-wrap: break-word;\n",
       "  background-color: #fff7fb;\n",
       "  color: #000000;\n",
       "}\n",
       "#T_b112d_row0_col1, #T_b112d_row0_col2, #T_b112d_row1_col1, #T_b112d_row1_col2, #T_b112d_row2_col1, #T_b112d_row2_col2, #T_b112d_row3_col1, #T_b112d_row3_col2, #T_b112d_row4_col1, #T_b112d_row4_col2 {\n",
       "  text-align: left;\n",
       "  white-space: pre-wrap;\n",
       "  max-width: 300px;\n",
       "  word-wrap: break-word;\n",
       "}\n",
       "#T_b112d_row1_col0 {\n",
       "  text-align: left;\n",
       "  white-space: pre-wrap;\n",
       "  max-width: 300px;\n",
       "  word-wrap: break-word;\n",
       "  background-color: #d0d1e6;\n",
       "  color: #000000;\n",
       "}\n",
       "#T_b112d_row2_col0 {\n",
       "  text-align: left;\n",
       "  white-space: pre-wrap;\n",
       "  max-width: 300px;\n",
       "  word-wrap: break-word;\n",
       "  background-color: #73a9cf;\n",
       "  color: #f1f1f1;\n",
       "}\n",
       "#T_b112d_row3_col0 {\n",
       "  text-align: left;\n",
       "  white-space: pre-wrap;\n",
       "  max-width: 300px;\n",
       "  word-wrap: break-word;\n",
       "  background-color: #e7e3f0;\n",
       "  color: #000000;\n",
       "}\n",
       "#T_b112d_row4_col0 {\n",
       "  text-align: left;\n",
       "  white-space: pre-wrap;\n",
       "  max-width: 300px;\n",
       "  word-wrap: break-word;\n",
       "  background-color: #023858;\n",
       "  color: #f1f1f1;\n",
       "}\n",
       "</style>\n",
       "<table id=\"T_b112d\">\n",
       "  <thead>\n",
       "    <tr>\n",
       "      <th class=\"blank level0\" >&nbsp;</th>\n",
       "      <th id=\"T_b112d_level0_col0\" class=\"col_heading level0 col0\" >Age</th>\n",
       "      <th id=\"T_b112d_level0_col1\" class=\"col_heading level0 col1\" >City</th>\n",
       "      <th id=\"T_b112d_level0_col2\" class=\"col_heading level0 col2\" >Occupation</th>\n",
       "    </tr>\n",
       "  </thead>\n",
       "  <tbody>\n",
       "    <tr>\n",
       "      <th id=\"T_b112d_level0_row0\" class=\"row_heading level0 row0\" >0</th>\n",
       "      <td id=\"T_b112d_row0_col0\" class=\"data row0 col0\" >25</td>\n",
       "      <td id=\"T_b112d_row0_col1\" class=\"data row0 col1\" >New York</td>\n",
       "      <td id=\"T_b112d_row0_col2\" class=\"data row0 col2\" >Software Engineer</td>\n",
       "    </tr>\n",
       "    <tr>\n",
       "      <th id=\"T_b112d_level0_row1\" class=\"row_heading level0 row1\" >1</th>\n",
       "      <td id=\"T_b112d_row1_col0\" class=\"data row1 col0\" >30</td>\n",
       "      <td id=\"T_b112d_row1_col1\" class=\"data row1 col1\" >San Francisco</td>\n",
       "      <td id=\"T_b112d_row1_col2\" class=\"data row1 col2\" >Teacher</td>\n",
       "    </tr>\n",
       "    <tr>\n",
       "      <th id=\"T_b112d_level0_row2\" class=\"row_heading level0 row2\" >2</th>\n",
       "      <td id=\"T_b112d_row2_col0\" class=\"data row2 col0\" >35</td>\n",
       "      <td id=\"T_b112d_row2_col1\" class=\"data row2 col1\" >Chicago</td>\n",
       "      <td id=\"T_b112d_row2_col2\" class=\"data row2 col2\" >Doctor</td>\n",
       "    </tr>\n",
       "    <tr>\n",
       "      <th id=\"T_b112d_level0_row3\" class=\"row_heading level0 row3\" >3</th>\n",
       "      <td id=\"T_b112d_row3_col0\" class=\"data row3 col0\" >28</td>\n",
       "      <td id=\"T_b112d_row3_col1\" class=\"data row3 col1\" >Boston</td>\n",
       "      <td id=\"T_b112d_row3_col2\" class=\"data row3 col2\" >Data Scientist</td>\n",
       "    </tr>\n",
       "    <tr>\n",
       "      <th id=\"T_b112d_level0_row4\" class=\"row_heading level0 row4\" >4</th>\n",
       "      <td id=\"T_b112d_row4_col0\" class=\"data row4 col0\" >45</td>\n",
       "      <td id=\"T_b112d_row4_col1\" class=\"data row4 col1\" >Seattle</td>\n",
       "      <td id=\"T_b112d_row4_col2\" class=\"data row4 col2\" >Architect</td>\n",
       "    </tr>\n",
       "  </tbody>\n",
       "</table>\n",
       "\n",
       "            </div>\n",
       "            "
      ],
      "text/plain": [
       "ScenarioList([Scenario({'Age': '25', 'City': 'New York', 'Occupation': 'Software Engineer'}), Scenario({'Age': '30', 'City': 'San Francisco', 'Occupation': 'Teacher'}), Scenario({'Age': '35', 'City': 'Chicago', 'Occupation': 'Doctor'}), Scenario({'Age': '28', 'City': 'Boston', 'Occupation': 'Data Scientist'}), Scenario({'Age': '45', 'City': 'Seattle', 'Occupation': 'Architect'})])"
      ]
     },
     "execution_count": 4,
     "metadata": {},
     "output_type": "execute_result"
    }
   ],
   "source": [
    "from edsl import ScenarioList\n",
    "\n",
    "scenarios = ScenarioList.from_source(\"csv\", fs.to_tempfile())\n",
    "scenarios # display the scenarios"
   ]
  },
  {
   "cell_type": "markdown",
   "id": "541d9e03-3b98-4600-8c0a-52e7d22b9425",
   "metadata": {
    "editable": true,
    "slideshow": {
     "slide_type": ""
    },
    "tags": []
   },
   "source": [
    "Creating agents:"
   ]
  },
  {
   "cell_type": "code",
   "execution_count": 5,
   "id": "1215daba-72c7-4976-81f5-2d543479bb55",
   "metadata": {
    "editable": true,
    "slideshow": {
     "slide_type": ""
    },
    "tags": []
   },
   "outputs": [
    {
     "data": {
      "text/html": [
       "<p><a href='https://docs.expectedparrot.com/en/latest/agents.html#agentlist-class'>AgentList</a> agents: 5;</p>\n",
       "            <div style=\"max-height: 500px; overflow-y: auto;\">\n",
       "                <style type=\"text/css\">\n",
       "#T_fda01_row0_col0 {\n",
       "  text-align: left;\n",
       "  white-space: pre-wrap;\n",
       "  max-width: 300px;\n",
       "  word-wrap: break-word;\n",
       "  background-color: #fff7fb;\n",
       "  color: #000000;\n",
       "}\n",
       "#T_fda01_row0_col1, #T_fda01_row0_col2, #T_fda01_row1_col1, #T_fda01_row1_col2, #T_fda01_row2_col1, #T_fda01_row2_col2, #T_fda01_row3_col1, #T_fda01_row3_col2, #T_fda01_row4_col1, #T_fda01_row4_col2 {\n",
       "  text-align: left;\n",
       "  white-space: pre-wrap;\n",
       "  max-width: 300px;\n",
       "  word-wrap: break-word;\n",
       "}\n",
       "#T_fda01_row1_col0 {\n",
       "  text-align: left;\n",
       "  white-space: pre-wrap;\n",
       "  max-width: 300px;\n",
       "  word-wrap: break-word;\n",
       "  background-color: #d0d1e6;\n",
       "  color: #000000;\n",
       "}\n",
       "#T_fda01_row2_col0 {\n",
       "  text-align: left;\n",
       "  white-space: pre-wrap;\n",
       "  max-width: 300px;\n",
       "  word-wrap: break-word;\n",
       "  background-color: #73a9cf;\n",
       "  color: #f1f1f1;\n",
       "}\n",
       "#T_fda01_row3_col0 {\n",
       "  text-align: left;\n",
       "  white-space: pre-wrap;\n",
       "  max-width: 300px;\n",
       "  word-wrap: break-word;\n",
       "  background-color: #e7e3f0;\n",
       "  color: #000000;\n",
       "}\n",
       "#T_fda01_row4_col0 {\n",
       "  text-align: left;\n",
       "  white-space: pre-wrap;\n",
       "  max-width: 300px;\n",
       "  word-wrap: break-word;\n",
       "  background-color: #023858;\n",
       "  color: #f1f1f1;\n",
       "}\n",
       "</style>\n",
       "<table id=\"T_fda01\">\n",
       "  <thead>\n",
       "    <tr>\n",
       "      <th class=\"blank level0\" >&nbsp;</th>\n",
       "      <th id=\"T_fda01_level0_col0\" class=\"col_heading level0 col0\" >Age</th>\n",
       "      <th id=\"T_fda01_level0_col1\" class=\"col_heading level0 col1\" >City</th>\n",
       "      <th id=\"T_fda01_level0_col2\" class=\"col_heading level0 col2\" >Occupation</th>\n",
       "    </tr>\n",
       "  </thead>\n",
       "  <tbody>\n",
       "    <tr>\n",
       "      <th id=\"T_fda01_level0_row0\" class=\"row_heading level0 row0\" >0</th>\n",
       "      <td id=\"T_fda01_row0_col0\" class=\"data row0 col0\" >25</td>\n",
       "      <td id=\"T_fda01_row0_col1\" class=\"data row0 col1\" >New York</td>\n",
       "      <td id=\"T_fda01_row0_col2\" class=\"data row0 col2\" >Software Engineer</td>\n",
       "    </tr>\n",
       "    <tr>\n",
       "      <th id=\"T_fda01_level0_row1\" class=\"row_heading level0 row1\" >1</th>\n",
       "      <td id=\"T_fda01_row1_col0\" class=\"data row1 col0\" >30</td>\n",
       "      <td id=\"T_fda01_row1_col1\" class=\"data row1 col1\" >San Francisco</td>\n",
       "      <td id=\"T_fda01_row1_col2\" class=\"data row1 col2\" >Teacher</td>\n",
       "    </tr>\n",
       "    <tr>\n",
       "      <th id=\"T_fda01_level0_row2\" class=\"row_heading level0 row2\" >2</th>\n",
       "      <td id=\"T_fda01_row2_col0\" class=\"data row2 col0\" >35</td>\n",
       "      <td id=\"T_fda01_row2_col1\" class=\"data row2 col1\" >Chicago</td>\n",
       "      <td id=\"T_fda01_row2_col2\" class=\"data row2 col2\" >Doctor</td>\n",
       "    </tr>\n",
       "    <tr>\n",
       "      <th id=\"T_fda01_level0_row3\" class=\"row_heading level0 row3\" >3</th>\n",
       "      <td id=\"T_fda01_row3_col0\" class=\"data row3 col0\" >28</td>\n",
       "      <td id=\"T_fda01_row3_col1\" class=\"data row3 col1\" >Boston</td>\n",
       "      <td id=\"T_fda01_row3_col2\" class=\"data row3 col2\" >Data Scientist</td>\n",
       "    </tr>\n",
       "    <tr>\n",
       "      <th id=\"T_fda01_level0_row4\" class=\"row_heading level0 row4\" >4</th>\n",
       "      <td id=\"T_fda01_row4_col0\" class=\"data row4 col0\" >45</td>\n",
       "      <td id=\"T_fda01_row4_col1\" class=\"data row4 col1\" >Seattle</td>\n",
       "      <td id=\"T_fda01_row4_col2\" class=\"data row4 col2\" >Architect</td>\n",
       "    </tr>\n",
       "  </tbody>\n",
       "</table>\n",
       "\n",
       "            </div>\n",
       "            "
      ],
      "text/plain": [
       "AgentList([Agent(traits = {'Age': '25', 'City': 'New York', 'Occupation': 'Software Engineer'}), Agent(traits = {'Age': '30', 'City': 'San Francisco', 'Occupation': 'Teacher'}), Agent(traits = {'Age': '35', 'City': 'Chicago', 'Occupation': 'Doctor'}), Agent(traits = {'Age': '28', 'City': 'Boston', 'Occupation': 'Data Scientist'}), Agent(traits = {'Age': '45', 'City': 'Seattle', 'Occupation': 'Architect'})])"
      ]
     },
     "execution_count": 5,
     "metadata": {},
     "output_type": "execute_result"
    }
   ],
   "source": [
    "from edsl import AgentList\n",
    "\n",
    "agents = AgentList.from_csv(fs.to_tempfile())\n",
    "agents # display the agents"
   ]
  },
  {
   "cell_type": "markdown",
   "id": "5395688e-c6d8-4241-b94a-b0f8538a4ee8",
   "metadata": {
    "editable": true,
    "slideshow": {
     "slide_type": ""
    },
    "tags": []
   },
   "source": [
    "These scenarios and agents can now be used with questions and surveys. "
   ]
  },
  {
   "cell_type": "markdown",
   "id": "80c9728d-e5ce-40ee-be47-686223d6153b",
   "metadata": {
    "editable": true,
    "slideshow": {
     "slide_type": ""
    },
    "tags": []
   },
   "source": [
    "## PNG example\n",
    "Here we post an image file to Coop using `FileStore`, and then retrieve it and use it to construct a `Scenario`.\n",
    "\n",
    "Note that we need to specify the scenario key for the file when we create it (whereas in CSV files the keys are taken from the text of the header row).\n",
    "\n",
    "We also need to ensure that we have specified a vision model when running the survey (e.g., *gpt-4o*).\n",
    "\n",
    "Posting a local file to Coop (replace with your own):"
   ]
  },
  {
   "cell_type": "code",
   "execution_count": 8,
   "id": "b840a7e1-8dbf-4ad0-9a07-df389cd9a851",
   "metadata": {
    "editable": true,
    "slideshow": {
     "slide_type": ""
    }
   },
   "outputs": [],
   "source": [
    "from edsl import FileStore\n",
    "\n",
    "if refresh := False:\n",
    "    fs = FileStore(\"parrot_logo.png\")\n",
    "    png_info = fs.push(description = \"My example PNG file\", alias = \"my-example-png-file\", visibility = \"public\")\n"
   ]
  },
  {
   "cell_type": "markdown",
   "id": "33e2b613-3a1b-4c43-ba61-635a4c7bf2c4",
   "metadata": {
    "editable": true,
    "slideshow": {
     "slide_type": ""
    },
    "tags": []
   },
   "source": [
    "Retrieving the file:"
   ]
  },
  {
   "cell_type": "code",
   "execution_count": 9,
   "id": "0d31aa62-779c-4d4b-a162-55a17b3ef097",
   "metadata": {
    "editable": true,
    "slideshow": {
     "slide_type": ""
    },
    "tags": []
   },
   "outputs": [],
   "source": [
    "fs = FileStore.pull(\"https://www.expectedparrot.com/content/RobinHorton/my-example-png-file\") "
   ]
  },
  {
   "cell_type": "markdown",
   "id": "37b88ba1-6f48-45fe-bf83-24d1c2bb88eb",
   "metadata": {
    "editable": true,
    "slideshow": {
     "slide_type": ""
    },
    "tags": []
   },
   "source": [
    "Creating a scenario:"
   ]
  },
  {
   "cell_type": "code",
   "execution_count": 10,
   "id": "c69251e4-3d3f-419a-8efa-2724319756e0",
   "metadata": {
    "editable": true,
    "slideshow": {
     "slide_type": ""
    },
    "tags": []
   },
   "outputs": [
    {
     "data": {
      "text/plain": [
       "['parrot_logo']"
      ]
     },
     "execution_count": 10,
     "metadata": {},
     "output_type": "execute_result"
    }
   ],
   "source": [
    "from edsl import Scenario\n",
    "\n",
    "image_scenario = Scenario({\"parrot_logo\":fs}) # including a key for the scenario object\n",
    "\n",
    "image_scenario.keys()"
   ]
  },
  {
   "cell_type": "markdown",
   "id": "481ef9e1-0876-4032-9c22-8a768dd1e681",
   "metadata": {
    "editable": true,
    "slideshow": {
     "slide_type": ""
    },
    "tags": []
   },
   "source": [
    "To rename a scenario:"
   ]
  },
  {
   "cell_type": "code",
   "execution_count": 11,
   "id": "9cfefbb4-165b-4463-a8af-f67b1365520d",
   "metadata": {
    "editable": true,
    "slideshow": {
     "slide_type": ""
    },
    "tags": []
   },
   "outputs": [
    {
     "data": {
      "text/plain": [
       "['logo']"
      ]
     },
     "execution_count": 11,
     "metadata": {},
     "output_type": "execute_result"
    }
   ],
   "source": [
    "image_scenario = image_scenario.rename({\"parrot_logo\": \"logo\"}) # key = old name, value = new name\n",
    "image_scenario.keys()"
   ]
  },
  {
   "cell_type": "markdown",
   "id": "325a89f1-c374-4e8e-a602-2877b08e9cee",
   "metadata": {
    "editable": true,
    "slideshow": {
     "slide_type": ""
    },
    "tags": []
   },
   "source": [
    "Using an image scenario:"
   ]
  },
  {
   "cell_type": "code",
   "execution_count": 12,
   "id": "838727fe-baa9-4388-a5ea-1772e7df4c41",
   "metadata": {
    "editable": true,
    "slideshow": {
     "slide_type": ""
    },
    "tags": []
   },
   "outputs": [
    {
     "data": {
      "text/html": [
       "\n",
       "        \n",
       "        <style>\n",
       "            .jobs-container {\n",
       "                font-family: -apple-system, BlinkMacSystemFont, \"Segoe UI\", Roboto, Oxygen, Ubuntu, Cantarell, \"Open Sans\", \"Helvetica Neue\", sans-serif;\n",
       "                max-width: 800px;\n",
       "                margin: 16px 0;\n",
       "                border-radius: 8px;\n",
       "                overflow: hidden;\n",
       "                box-shadow: 0 1px 3px rgba(0,0,0,0.12), 0 1px 2px rgba(0,0,0,0.24);\n",
       "                color: #1a1a1a;\n",
       "            }\n",
       "            .jobs-header {\n",
       "                padding: 8px 12px;\n",
       "                background: linear-gradient(to right, #f7f9fc, #edf2f7);\n",
       "                border-bottom: 1px solid #e2e8f0;\n",
       "                cursor: pointer;\n",
       "                display: flex;\n",
       "                align-items: center;\n",
       "                justify-content: space-between;\n",
       "                font-weight: 500;\n",
       "                font-size: 0.9em;\n",
       "            }\n",
       "            .jobs-content {\n",
       "                background: white;\n",
       "            }\n",
       "            .jobs-table {\n",
       "                width: 100%;\n",
       "                border-collapse: collapse;\n",
       "            }\n",
       "            .jobs-table th, .jobs-table td {\n",
       "                padding: 12px 16px;\n",
       "                text-align: left;\n",
       "                border-bottom: 1px solid #edf2f7;\n",
       "            }\n",
       "            .jobs-table th {\n",
       "                width: 25%;\n",
       "                max-width: 140px;\n",
       "                background-color: #f7fafc;\n",
       "                font-weight: 500;\n",
       "                color: #4a5568;\n",
       "            }\n",
       "            .jobs-table td {\n",
       "                width: 75%;\n",
       "            }\n",
       "            .section-header {\n",
       "                padding: 5px 12px;\n",
       "                font-weight: 600;\n",
       "                color: #1f2937;\n",
       "                background-color: #f7fafc;\n",
       "                border-bottom: 1px solid #cbd5e1;\n",
       "                font-size: 0.85em;\n",
       "            }\n",
       "            .two-column-grid {\n",
       "                display: flex;\n",
       "                flex-wrap: wrap;\n",
       "                gap: 1px;\n",
       "                background-color: #e2e8f0;\n",
       "            }\n",
       "            .column {\n",
       "                background-color: white;\n",
       "            }\n",
       "            .column:first-child {\n",
       "                flex: 1;\n",
       "                min-width: 150px;\n",
       "            }\n",
       "            .column:last-child {\n",
       "                flex: 2;\n",
       "                min-width: 300px;\n",
       "            }\n",
       "            .content-box {\n",
       "                padding: 5px 12px;\n",
       "            }\n",
       "            .link-item {\n",
       "                padding: 3px 0;\n",
       "                border-bottom: 1px solid #f1f5f9;\n",
       "            }\n",
       "            .link-item:last-child {\n",
       "                border-bottom: none;\n",
       "            }\n",
       "            .results-link .pill-link {\n",
       "                color: #059669;\n",
       "                font-weight: 500;\n",
       "            }\n",
       "            .results-link .pill-link:hover {\n",
       "                border-bottom-color: #059669;\n",
       "            }\n",
       "            .progress-link .pill-link {\n",
       "                color: #3b82f6;\n",
       "                font-weight: 500;\n",
       "            }\n",
       "            .progress-link .pill-link:hover {\n",
       "                border-bottom-color: #3b82f6;\n",
       "            }\n",
       "            .uuid-item {\n",
       "                padding: 3px 0;\n",
       "                border-bottom: 1px solid #f1f5f9;\n",
       "                display: flex;\n",
       "                align-items: center;\n",
       "            }\n",
       "            .uuid-item:last-child {\n",
       "                border-bottom: none;\n",
       "            }\n",
       "            .uuid-label {\n",
       "                font-weight: 500;\n",
       "                color: #4b5563;\n",
       "                font-size: 0.75em;\n",
       "                margin-right: 6px;\n",
       "                min-width: 80px;\n",
       "            }\n",
       "            .compact-links {\n",
       "                padding: 8px 16px;\n",
       "                line-height: 1.5;\n",
       "            }\n",
       "            .pill-link {\n",
       "                color: #3b82f6;\n",
       "                font-weight: 500;\n",
       "                text-decoration: none;\n",
       "                border-bottom: 1px dotted #bfdbfe;\n",
       "                transition: border-color 0.2s;\n",
       "                font-size: 0.75em;\n",
       "                display: inline-flex;\n",
       "                align-items: center;\n",
       "                gap: 4px;\n",
       "            }\n",
       "            .pill-link:hover {\n",
       "                border-bottom: 1px solid #3b82f6;\n",
       "            }\n",
       "            .external-link-icon {\n",
       "                width: 12px;\n",
       "                height: 12px;\n",
       "                opacity: 0.7;\n",
       "            }\n",
       "            .status-banner {\n",
       "                display: flex;\n",
       "                align-items: center;\n",
       "                padding: 5px 12px;\n",
       "                background-color: #f7fafc;\n",
       "                border-top: 1px solid #edf2f7;\n",
       "                font-size: 0.85em;\n",
       "            }\n",
       "            .status-running { color: #3b82f6; }\n",
       "            .status-completed { color: #10b981; }\n",
       "            .status-partially-failed { color: #d97706; }\n",
       "            .status-failed { color: #ef4444; }\n",
       "            .status-unknown { color: #6b7280; }\n",
       "            .status-icon {\n",
       "                display: inline-flex;\n",
       "                align-items: center;\n",
       "                justify-content: center;\n",
       "                width: 18px;\n",
       "                height: 18px;\n",
       "                margin-right: 6px;\n",
       "                font-weight: bold;\n",
       "            }\n",
       "            .link {\n",
       "                color: #3b82f6;\n",
       "                text-decoration: none;\n",
       "                border-bottom: 1px dotted #bfdbfe;\n",
       "                transition: border-color 0.2s;\n",
       "            }\n",
       "            .link:hover {\n",
       "                border-bottom: 1px solid #3b82f6;\n",
       "            }\n",
       "            .uuid-container {\n",
       "                display: flex;\n",
       "                align-items: center;\n",
       "                background-color: #f8fafc;\n",
       "                border-radius: 3px;\n",
       "                padding: 2px 6px;\n",
       "                font-family: monospace;\n",
       "                font-size: 0.75em;\n",
       "                flex: 1;\n",
       "            }\n",
       "            .uuid-code {\n",
       "                color: #4b5563;\n",
       "                overflow: hidden;\n",
       "                text-overflow: ellipsis;\n",
       "                flex: 1;\n",
       "            }\n",
       "            .copy-btn {\n",
       "                background-color: #e2e8f0;\n",
       "                border: none;\n",
       "                cursor: pointer;\n",
       "                margin-left: 4px;\n",
       "                padding: 4px;\n",
       "                border-radius: 3px;\n",
       "                transition: all 0.2s ease;\n",
       "                color: #4b5563;\n",
       "                display: flex;\n",
       "                align-items: center;\n",
       "                justify-content: center;\n",
       "                width: 22px;\n",
       "                height: 22px;\n",
       "            }\n",
       "            .copy-btn:hover {\n",
       "                background-color: #cbd5e1;\n",
       "                color: #1f2937;\n",
       "            }\n",
       "            .copy-icon, .check-icon {\n",
       "                display: block;\n",
       "            }\n",
       "            .message-log {\n",
       "                max-height: 120px;\n",
       "                overflow-y: auto;\n",
       "                border-top: 1px solid #edf2f7;\n",
       "                padding: 3px 0;\n",
       "                font-size: 0.85em;\n",
       "            }\n",
       "            .message-item {\n",
       "                display: flex;\n",
       "                padding: 2px 12px;\n",
       "            }\n",
       "            .message-timestamp {\n",
       "                color: #9ca3af;\n",
       "                font-size: 0.85em;\n",
       "                margin-right: 8px;\n",
       "                white-space: nowrap;\n",
       "            }\n",
       "            .status-indicator {\n",
       "                display: inline-block;\n",
       "                width: 8px;\n",
       "                height: 8px;\n",
       "                border-radius: 50%;\n",
       "                margin-right: 8px;\n",
       "            }\n",
       "            .expand-toggle {\n",
       "                display: inline-block;\n",
       "                width: 16px;\n",
       "                text-align: center;\n",
       "                margin-right: 6px;\n",
       "                font-size: 12px;\n",
       "            }\n",
       "            .badge {\n",
       "                display: inline-block;\n",
       "                padding: 2px 6px;\n",
       "                border-radius: 3px;\n",
       "                font-size: 0.8em;\n",
       "                font-weight: 500;\n",
       "            }\n",
       "            .status-running.badge { background-color: #dbeafe; }\n",
       "            .status-completed.badge { background-color: #d1fae5; }\n",
       "            .status-partially-failed.badge { background-color: #fef3c7; }\n",
       "            .status-failed.badge { background-color: #fee2e2; }\n",
       "        </style>\n",
       "        \n",
       "        <div class=\"jobs-container\">\n",
       "            <div class=\"jobs-header\" onclick=\"\n",
       "                const content = document.getElementById('content-2f8b1fbd-c632-4eb9-8ea4-e0412f3b0cba');\n",
       "                const arrow = document.getElementById('arrow-2f8b1fbd-c632-4eb9-8ea4-e0412f3b0cba');\n",
       "                if (content.style.display === 'none') {\n",
       "                    content.style.display = 'block';\n",
       "                    arrow.innerHTML = '&#8963;';\n",
       "                } else {\n",
       "                    content.style.display = 'none';\n",
       "                    arrow.innerHTML = '&#8964;';\n",
       "                }\">\n",
       "                <div>\n",
       "                    <span id=\"arrow-2f8b1fbd-c632-4eb9-8ea4-e0412f3b0cba\" class=\"expand-toggle\">&#8963;</span>\n",
       "                    Job Status 🦜\n",
       "                </div>\n",
       "                <div class=\"status-completed\">Completed</div>\n",
       "            </div>\n",
       "            <div id=\"content-2f8b1fbd-c632-4eb9-8ea4-e0412f3b0cba\" class=\"jobs-content\" style=\"display: block;\">\n",
       "                \n",
       "        <div class=\"two-column-grid\">\n",
       "            <div class=\"column\">\n",
       "                <div class=\"section-header\">Links</div>\n",
       "                <div class=\"content-box\">\n",
       "        \n",
       "            <div class=\"link-item results-link\">\n",
       "                <a href=\"https://www.expectedparrot.com/content/6db300f7-e4e6-4fee-bfbb-08a2a1486e41\" target=\"_blank\" class=\"pill-link\">Results\n",
       "            <svg\n",
       "                xmlns=\"http://www.w3.org/2000/svg\"\n",
       "                width=\"24\"\n",
       "                height=\"24\"\n",
       "                viewBox=\"0 0 24 24\"\n",
       "                fill=\"none\"\n",
       "                stroke=\"currentColor\"\n",
       "                stroke-width=\"2\"\n",
       "                stroke-linecap=\"round\"\n",
       "                stroke-linejoin=\"round\"\n",
       "                class=\"external-link-icon\"\n",
       "            >\n",
       "                <path d=\"M15 3h6v6\" />\n",
       "                <path d=\"M10 14 21 3\" />\n",
       "                <path d=\"M18 13v6a2 2 0 0 1-2 2H5a2 2 0 0 1-2-2V8a2 2 0 0 1 2-2h6\" />\n",
       "            </svg>\n",
       "        </a>\n",
       "            </div>\n",
       "            \n",
       "            <div class=\"link-item progress-link\">\n",
       "                <a href=\"https://www.expectedparrot.com/home/remote-job-progress/2f5e966d-36ea-4aa7-8825-178378e376f1\" target=\"_blank\" class=\"pill-link\">Progress Report\n",
       "            <svg\n",
       "                xmlns=\"http://www.w3.org/2000/svg\"\n",
       "                width=\"24\"\n",
       "                height=\"24\"\n",
       "                viewBox=\"0 0 24 24\"\n",
       "                fill=\"none\"\n",
       "                stroke=\"currentColor\"\n",
       "                stroke-width=\"2\"\n",
       "                stroke-linecap=\"round\"\n",
       "                stroke-linejoin=\"round\"\n",
       "                class=\"external-link-icon\"\n",
       "            >\n",
       "                <path d=\"M15 3h6v6\" />\n",
       "                <path d=\"M10 14 21 3\" />\n",
       "                <path d=\"M18 13v6a2 2 0 0 1-2 2H5a2 2 0 0 1-2-2V8a2 2 0 0 1 2-2h6\" />\n",
       "            </svg>\n",
       "        </a>\n",
       "            </div>\n",
       "            \n",
       "                </div>\n",
       "            </div>\n",
       "            <div class=\"column\">\n",
       "                <div class=\"section-header\">Identifiers</div>\n",
       "                <div class=\"content-box\">\n",
       "        \n",
       "            <div class=\"uuid-item\">\n",
       "                <span class=\"uuid-label\">Results UUID:</span>\n",
       "        <div class=\"uuid-container\" title=\"6db300f7-e4e6-4fee-bfbb-08a2a1486e41\">\n",
       "            <span class=\"uuid-code\">6db300f7...6e41</span>\n",
       "            <button class=\"copy-btn\" onclick=\"navigator.clipboard.writeText('6db300f7-e4e6-4fee-bfbb-08a2a1486e41').then(() => {\n",
       "                const btn = this;\n",
       "                btn.querySelector('.copy-icon').style.display = 'none';\n",
       "                btn.querySelector('.check-icon').style.display = 'block';\n",
       "                setTimeout(() => {\n",
       "                    btn.querySelector('.check-icon').style.display = 'none';\n",
       "                    btn.querySelector('.copy-icon').style.display = 'block';\n",
       "                }, 1000);\n",
       "            })\" title=\"Copy to clipboard\">\n",
       "                <svg class=\"copy-icon\" xmlns=\"http://www.w3.org/2000/svg\" width=\"14\" height=\"14\" viewBox=\"0 0 24 24\" fill=\"none\" stroke=\"currentColor\" stroke-width=\"2\" stroke-linecap=\"round\" stroke-linejoin=\"round\">\n",
       "                    <rect x=\"9\" y=\"9\" width=\"13\" height=\"13\" rx=\"2\" ry=\"2\"></rect>\n",
       "                    <path d=\"M5 15H4a2 2 0 0 1-2-2V4a2 2 0 0 1 2-2h9a2 2 0 0 1 2 2v1\"></path>\n",
       "                </svg>\n",
       "                <svg class=\"check-icon\" style=\"display: none\" xmlns=\"http://www.w3.org/2000/svg\" width=\"14\" height=\"14\" viewBox=\"0 0 24 24\" fill=\"none\" stroke=\"currentColor\" stroke-width=\"2\" stroke-linecap=\"round\" stroke-linejoin=\"round\">\n",
       "                    <polyline points=\"20 6 9 17 4 12\"></polyline>\n",
       "                </svg>\n",
       "            </button>\n",
       "        </div>\n",
       "        \n",
       "            </div>\n",
       "            \n",
       "            <div class=\"uuid-item\">\n",
       "                <span class=\"uuid-label\">Job UUID:</span>\n",
       "        <div class=\"uuid-container\" title=\"2f5e966d-36ea-4aa7-8825-178378e376f1\">\n",
       "            <span class=\"uuid-code\">2f5e966d...76f1</span>\n",
       "            <button class=\"copy-btn\" onclick=\"navigator.clipboard.writeText('2f5e966d-36ea-4aa7-8825-178378e376f1').then(() => {\n",
       "                const btn = this;\n",
       "                btn.querySelector('.copy-icon').style.display = 'none';\n",
       "                btn.querySelector('.check-icon').style.display = 'block';\n",
       "                setTimeout(() => {\n",
       "                    btn.querySelector('.check-icon').style.display = 'none';\n",
       "                    btn.querySelector('.copy-icon').style.display = 'block';\n",
       "                }, 1000);\n",
       "            })\" title=\"Copy to clipboard\">\n",
       "                <svg class=\"copy-icon\" xmlns=\"http://www.w3.org/2000/svg\" width=\"14\" height=\"14\" viewBox=\"0 0 24 24\" fill=\"none\" stroke=\"currentColor\" stroke-width=\"2\" stroke-linecap=\"round\" stroke-linejoin=\"round\">\n",
       "                    <rect x=\"9\" y=\"9\" width=\"13\" height=\"13\" rx=\"2\" ry=\"2\"></rect>\n",
       "                    <path d=\"M5 15H4a2 2 0 0 1-2-2V4a2 2 0 0 1 2-2h9a2 2 0 0 1 2 2v1\"></path>\n",
       "                </svg>\n",
       "                <svg class=\"check-icon\" style=\"display: none\" xmlns=\"http://www.w3.org/2000/svg\" width=\"14\" height=\"14\" viewBox=\"0 0 24 24\" fill=\"none\" stroke=\"currentColor\" stroke-width=\"2\" stroke-linecap=\"round\" stroke-linejoin=\"round\">\n",
       "                    <polyline points=\"20 6 9 17 4 12\"></polyline>\n",
       "                </svg>\n",
       "            </button>\n",
       "        </div>\n",
       "        \n",
       "            </div>\n",
       "            \n",
       "                </div>\n",
       "            </div>\n",
       "        </div>\n",
       "        \n",
       "                \n",
       "        <div class=\"status-banner\">\n",
       "            <span class=\"status-icon status-completed\">✓</span>\n",
       "            <strong>Status:</strong>&nbsp;<span class=\"badge status-completed\">Completed</span>\n",
       "            <span style=\"flex-grow: 1;\"></span>\n",
       "            <span>Last updated: 2025-04-10 09:42:55</span>\n",
       "        </div>\n",
       "        \n",
       "                \n",
       "            <div class=\"message-log\">\n",
       "                \n",
       "                <div class=\"message-item\">\n",
       "                    <span class=\"message-timestamp\">09:42:55</span>\n",
       "                    <span class=\"status-indicator\" style=\"background-color: #10b981;\"></span>\n",
       "                    <div>Job completed and Results stored on Coop. <a href=\"https://www.expectedparrot.com/content/6db300f7-e4e6-4fee-bfbb-08a2a1486e41\" target=\"_blank\" class=\"link\">View Results</a></div>\n",
       "                </div>\n",
       "                \n",
       "                <div class=\"message-item\">\n",
       "                    <span class=\"message-timestamp\">09:42:51</span>\n",
       "                    <span class=\"status-indicator\" style=\"background-color: #3b82f6;\"></span>\n",
       "                    <div>Job status: running - last update: 2025-04-10 09:42:51 AM</div>\n",
       "                </div>\n",
       "                \n",
       "                <div class=\"message-item\">\n",
       "                    <span class=\"message-timestamp\">09:42:46</span>\n",
       "                    <span class=\"status-indicator\" style=\"background-color: #3b82f6;\"></span>\n",
       "                    <div>Job status: queued - last update: 2025-04-10 09:42:46 AM</div>\n",
       "                </div>\n",
       "                \n",
       "                <div class=\"message-item\">\n",
       "                    <span class=\"message-timestamp\">09:42:46</span>\n",
       "                    <span class=\"status-indicator\" style=\"background-color: #3b82f6;\"></span>\n",
       "                    <div>View job progress <a href=\"https://www.expectedparrot.com/home/remote-job-progress/2f5e966d-36ea-4aa7-8825-178378e376f1\" target=\"_blank\" class=\"link\">here</a></div>\n",
       "                </div>\n",
       "                \n",
       "                <div class=\"message-item\">\n",
       "                    <span class=\"message-timestamp\">09:42:46</span>\n",
       "                    <span class=\"status-indicator\" style=\"background-color: #3b82f6;\"></span>\n",
       "                    <div>Job details are available at your Coop account. <a href=\"https://www.expectedparrot.com/home/remote-inference\" target=\"_blank\" class=\"link\">Go to Remote Inference page</a></div>\n",
       "                </div>\n",
       "                \n",
       "                <div class=\"message-item\">\n",
       "                    <span class=\"message-timestamp\">09:42:46</span>\n",
       "                    <span class=\"status-indicator\" style=\"background-color: #3b82f6;\"></span>\n",
       "                    <div>Job sent to server. (Job uuid=2f5e966d-36ea-4aa7-8825-178378e376f1).</div>\n",
       "                </div>\n",
       "                \n",
       "                <div class=\"message-item\">\n",
       "                    <span class=\"message-timestamp\">09:42:46</span>\n",
       "                    <span class=\"status-indicator\" style=\"background-color: #3b82f6;\"></span>\n",
       "                    <div>Your survey is running at the Expected Parrot server...</div>\n",
       "                </div>\n",
       "                \n",
       "                <div class=\"message-item\">\n",
       "                    <span class=\"message-timestamp\">09:42:46</span>\n",
       "                    <span class=\"status-indicator\" style=\"background-color: #6b7280;\"></span>\n",
       "                    <div>Remote inference activated. Sending job to server...</div>\n",
       "                </div>\n",
       "                \n",
       "            </div>\n",
       "            \n",
       "            </div>\n",
       "        </div>\n",
       "        "
      ],
      "text/plain": [
       "<IPython.core.display.HTML object>"
      ]
     },
     "metadata": {},
     "output_type": "display_data"
    }
   ],
   "source": [
    "from edsl import QuestionFreeText, Model\n",
    "\n",
    "model = Model(\"gpt-4o\") # we need to use a vision model\n",
    "\n",
    "q = QuestionFreeText(\n",
    "    question_name = \"test\",\n",
    "    question_text = \"Describe this logo: {{ logo }}\"\n",
    ")\n",
    "\n",
    "results = q.by(image_scenario).by(model).run()"
   ]
  },
  {
   "cell_type": "code",
   "execution_count": 13,
   "id": "b1b390ec-5342-4278-b542-a51e1f0cb231",
   "metadata": {
    "editable": true,
    "slideshow": {
     "slide_type": ""
    },
    "tags": []
   },
   "outputs": [
    {
     "data": {
      "text/html": [
       "\n",
       "            <div style=\"max-height: 500px; overflow-y: auto;\">\n",
       "                <style type=\"text/css\">\n",
       "#T_c927f_row0_col0, #T_c927f_row0_col1, #T_c927f_row0_col2 {\n",
       "  text-align: left;\n",
       "}\n",
       "</style>\n",
       "<table id=\"T_c927f\">\n",
       "  <thead>\n",
       "    <tr>\n",
       "      <th class=\"blank level0\" >&nbsp;</th>\n",
       "      <th id=\"T_c927f_level0_col0\" class=\"col_heading level0 col0\" >model.model</th>\n",
       "      <th id=\"T_c927f_level0_col1\" class=\"col_heading level0 col1\" >scenario.logo</th>\n",
       "      <th id=\"T_c927f_level0_col2\" class=\"col_heading level0 col2\" >answer.test</th>\n",
       "    </tr>\n",
       "  </thead>\n",
       "  <tbody>\n",
       "    <tr>\n",
       "      <th id=\"T_c927f_level0_row0\" class=\"row_heading level0 row0\" >0</th>\n",
       "      <td id=\"T_c927f_row0_col0\" class=\"data row0 col0\" >gpt-4o</td>\n",
       "      <td id=\"T_c927f_row0_col1\" class=\"data row0 col1\" >FileStore: self.path</td>\n",
       "      <td id=\"T_c927f_row0_col2\" class=\"data row0 col2\" >The logo features a large, stylized letter \"E\" in gray on the left. To the right of the \"E\" is an illustration of a parrot. The parrot is primarily green with an orange beak, a red chest, and blue lower body. It is enclosed in square brackets, also in gray.</td>\n",
       "    </tr>\n",
       "  </tbody>\n",
       "</table>\n",
       "\n",
       "            </div>\n",
       "            "
      ],
      "text/plain": [
       "Dataset([{'model.model': ['gpt-4o']}, {'scenario.logo': [FileStore(path='parrot_logo.png', base64_string='iVBORw0...rkJggg==', binary=True, suffix='png', mime_type='image/png', external_locations={}, extracted_text=None)]}, {'answer.test': ['The logo features a large, stylized letter \"E\" in gray on the left. To the right of the \"E\" is an illustration of a parrot. The parrot is primarily green with an orange beak, a red chest, and blue lower body. It is enclosed in square brackets, also in gray.']}])"
      ]
     },
     "execution_count": 13,
     "metadata": {},
     "output_type": "execute_result"
    }
   ],
   "source": [
    "results.select(\"model\", \"logo\", \"test\")"
   ]
  },
  {
   "cell_type": "markdown",
   "id": "a15a8361-e62c-4c6a-a4d0-1cde5f1bbb72",
   "metadata": {
    "editable": true,
    "slideshow": {
     "slide_type": ""
    },
    "tags": []
   },
   "source": [
    "## PDF example\n",
    "\n",
    "Here we save a PDF from the internet, then post it to Coop and retrieve it using `FileStore`, and then use it to construct a `ScenarioList`.\n",
    "\n",
    "Note that the default scenario keys for a PDF are `filename`, `page` and `text`.\n",
    "\n",
    "Selecting a file to use:"
   ]
  },
  {
   "cell_type": "code",
   "execution_count": 14,
   "id": "6fccf7ed-38a0-4ba3-a944-a09ebadf8109",
   "metadata": {
    "editable": true,
    "slideshow": {
     "slide_type": ""
    },
    "tags": [
     "skip-execution"
    ]
   },
   "outputs": [],
   "source": [
    "import requests\n",
    "\n",
    "url = \"https://arxiv.org/pdf/2404.11794\" \n",
    "response = requests.get(url)\n",
    "with open(\"automated_social_scientist.pdf\", \"wb\") as file:\n",
    "    file.write(response.content)"
   ]
  },
  {
   "cell_type": "markdown",
   "id": "0d8b8b59-69ee-45c6-a444-8751ab1583f3",
   "metadata": {
    "editable": true,
    "slideshow": {
     "slide_type": ""
    },
    "tags": []
   },
   "source": [
    "Posting to Coop:"
   ]
  },
  {
   "cell_type": "code",
   "execution_count": 15,
   "id": "f3a3c56e-0e02-4632-93ce-a1f664136454",
   "metadata": {
    "editable": true,
    "slideshow": {
     "slide_type": ""
    },
    "tags": [
     "skip-execution"
    ]
   },
   "outputs": [
    {
     "data": {
      "text/plain": [
       "{'description': 'My example PDF file',\n",
       " 'object_type': 'scenario',\n",
       " 'url': 'https://www.expectedparrot.com/content/e1770915-7e69-436d-b2ca-f0f92c6f56ba',\n",
       " 'uuid': 'e1770915-7e69-436d-b2ca-f0f92c6f56ba',\n",
       " 'version': '0.1.47.dev1',\n",
       " 'visibility': 'public'}"
      ]
     },
     "execution_count": 15,
     "metadata": {},
     "output_type": "execute_result"
    }
   ],
   "source": [
    "from edsl import FileStore\n",
    "\n",
    "if refresh := False:\n",
    "fs = FileStore(\"automated_social_scientist.pdf\")\n",
    "pdf_info = fs.push(description = \"My example PDF file\", alias = \"my-example-pdf-file\", visibility = \"public\")\n",
    "pdf_info # display the URL and Coop uuid of the stored file for retrieving it later"
   ]
  },
  {
   "cell_type": "markdown",
   "id": "4a54a3b7-6a61-45e4-87d6-993978de37ea",
   "metadata": {
    "editable": true,
    "slideshow": {
     "slide_type": ""
    },
    "tags": []
   },
   "source": [
    "Retriving the file:"
   ]
  },
  {
   "cell_type": "code",
   "execution_count": 16,
   "id": "88421c26-8f13-41c9-b8d7-350c71353894",
   "metadata": {
    "editable": true,
    "slideshow": {
     "slide_type": ""
    },
    "tags": []
   },
   "outputs": [],
   "source": [
    "fs = FileStore.pull(\"https://www.expectedparrot.com/content/RobinHorton/my-example-pdf-file\")"
   ]
  },
  {
   "cell_type": "markdown",
   "id": "8829560b-256e-4c77-8a5a-ef8e8b100e56",
   "metadata": {
    "editable": true,
    "slideshow": {
     "slide_type": ""
    },
    "tags": []
   },
   "source": [
    "Creating scenarios:"
   ]
  },
  {
   "cell_type": "code",
   "execution_count": 13,
   "id": "62439272-5a1e-4dad-9029-030fa8759691",
   "metadata": {
    "editable": true,
    "slideshow": {
     "slide_type": ""
    },
    "tags": []
   },
   "outputs": [
    {
     "name": "stderr",
     "output_type": "stream",
     "text": [
      "❌ E[🦃] EDSL ERROR: ScenarioError: Error processing PDF: No module named 'fitz'\n",
      "Documentation: \u001b]8;;https://docs.expectedparrot.com/en/latest/scenarios.html#module-edsl.scenarios.Scenario\u0007https://docs.expectedparrot.com/en/latest/scenarios.html#module-edsl.scenarios.Scenario\u001b]8;;\u0007\n"
     ]
    }
   ],
   "source": [
    "from edsl import ScenarioList\n",
    "\n",
    "scenarios = ScenarioList.from_source(\"pdf\", fs.to_tempfile())"
   ]
  },
  {
   "cell_type": "markdown",
   "id": "86eb3267-0c15-490c-baab-425ea35a9306",
   "metadata": {
    "editable": true,
    "slideshow": {
     "slide_type": ""
    },
    "tags": []
   },
   "source": [
    "Inspecting the default keys:"
   ]
  },
  {
   "cell_type": "code",
   "execution_count": 19,
   "id": "6bc2439a-8040-4279-8a13-942097e0af0d",
   "metadata": {
    "editable": true,
    "slideshow": {
     "slide_type": ""
    },
    "tags": []
   },
   "outputs": [
    {
     "data": {
      "text/plain": [
       "{'filename', 'page', 'text'}"
      ]
     },
     "execution_count": 19,
     "metadata": {},
     "output_type": "execute_result"
    }
   ],
   "source": [
    "scenarios.parameters"
   ]
  },
  {
   "cell_type": "markdown",
   "id": "6fe7cf31-c057-46e7-9d20-569a01fb0394",
   "metadata": {
    "editable": true,
    "slideshow": {
     "slide_type": ""
    },
    "tags": []
   },
   "source": [
    "## Posting to Coop\n",
    "Here we post this notebook to Coop, and show how to update it:"
   ]
  },
  {
   "cell_type": "code",
   "execution_count": 20,
   "id": "a994d4bd-27d3-47c7-9ea6-0615a435da7d",
   "metadata": {
    "editable": true,
    "slideshow": {
     "slide_type": ""
    },
    "tags": [
     "skip-execution"
    ]
   },
   "outputs": [
    {
     "data": {
      "text/plain": [
       "{'description': 'FileStore examples',\n",
       " 'object_type': 'notebook',\n",
       " 'url': 'https://www.expectedparrot.com/content/02d57890-31c2-4bb8-ae7c-f646ac254d5a',\n",
       " 'uuid': '02d57890-31c2-4bb8-ae7c-f646ac254d5a',\n",
       " 'version': '0.1.47.dev1',\n",
       " 'visibility': 'public'}"
      ]
     },
     "execution_count": 20,
     "metadata": {},
     "output_type": "execute_result"
    }
   ],
   "source": [
    "from edsl import Notebook\n",
    "\n",
    "n = Notebook(path = \"filestore_examples_new.ipynb\")\n",
    "\n",
    "info = n.push(description = \"FileStore examples\", alias = \"my-example-filestore-notebook\", visibility = \"public\")\n",
    "info"
   ]
  },
  {
   "cell_type": "markdown",
   "id": "ed617d90-d755-47fc-aa4b-b52422e3d5df",
   "metadata": {
    "editable": true,
    "slideshow": {
     "slide_type": ""
    },
    "tags": []
   },
   "source": [
    "Use the `patch()` method to update an object at Coop:"
   ]
  },
  {
   "cell_type": "code",
   "execution_count": 21,
   "id": "06ced5ee-452a-4107-ac6b-8260e47b5802",
   "metadata": {
    "editable": true,
    "slideshow": {
     "slide_type": ""
    },
    "tags": [
     "skip-execution"
    ]
   },
   "outputs": [
    {
     "data": {
      "text/plain": [
       "{'status': 'success'}"
      ]
     },
     "execution_count": 21,
     "metadata": {},
     "output_type": "execute_result"
    }
   ],
   "source": [
    "n = Notebook(path = \"filestore_examples_new.ipynb\") # resave\n",
    "\n",
    "n.patch(\"https://www.expectedparrot.com/content/RobinHorton/my-example-filestore-notebook\", value = n)"
   ]
  }
 ],
 "metadata": {
  "kernelspec": {
   "display_name": "edsl-EZo3_VAr-py3.11",
   "language": "python",
   "name": "python3"
  },
  "language_info": {
   "codemirror_mode": {
    "name": "ipython",
    "version": 3
   },
   "file_extension": ".py",
   "mimetype": "text/x-python",
   "name": "python",
   "nbconvert_exporter": "python",
   "pygments_lexer": "ipython3",
   "version": "3.11.0"
  }
 },
 "nbformat": 4,
 "nbformat_minor": 5
}
