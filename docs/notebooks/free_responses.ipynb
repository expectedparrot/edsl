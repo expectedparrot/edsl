{
 "cells": [
  {
   "cell_type": "markdown",
   "metadata": {
    "cell_id": "ec7bff9839284f43b232a1f73a1b0d01",
    "deepnote_cell_type": "markdown"
   },
   "source": [
    "# Exploring free text responses\n",
    "This notebook provide sample [EDSL](https://docs.expectedparrot.com/) code demonstrating ways of modifying instructions for free response questions.\n",
    "\n",
    "[EDSL is an open-source library](https://github.com/expectedparrot/edsl) for simulating surveys, experiments and other research with AI agents and large language models. \n",
    "Before running the code below, please ensure that you have [installed the EDSL library](https://docs.expectedparrot.com/en/latest/installation.html) and either [activated remote inference](https://docs.expectedparrot.com/en/latest/remote_inference.html) from your [Coop account](https://docs.expectedparrot.com/en/latest/coop.html) or [stored API keys](https://docs.expectedparrot.com/en/latest/api_keys.html) for the language models that you want to use with EDSL. Please also see our [documentation page](https://docs.expectedparrot.com/) for tips and tutorials on getting started using EDSL."
   ]
  },
  {
   "cell_type": "markdown",
   "metadata": {
    "cell_id": "06a07989c58947478dddc6d468e198c1",
    "deepnote_cell_type": "markdown"
   },
   "source": [
    "## Creating free text questions"
   ]
  },
  {
   "cell_type": "code",
   "execution_count": 1,
   "metadata": {
    "allow_embed": false,
    "cell_id": "3d4afc60ef834467b09651bdb8a6fdee",
    "deepnote_cell_type": "code",
    "deepnote_to_be_reexecuted": false,
    "execution_millis": 44,
    "execution_start": 1709324936969,
    "source_hash": null
   },
   "outputs": [],
   "source": [
    "from edsl import QuestionFreeText\n",
    "\n",
    "q1 = QuestionFreeText(\n",
    "    question_name=\"pasttime\",\n",
    "    question_text=\"What is your favorite pasttime? {{ instruction }}\",\n",
    ")\n",
    "\n",
    "q2 = QuestionFreeText(\n",
    "    question_name=\"vacation\",\n",
    "    question_text=\"What is your favorite vacation destination? {{ instruction }}\",\n",
    ")"
   ]
  },
  {
   "cell_type": "markdown",
   "metadata": {
    "cell_id": "b27cf03d25c74d7c8758924581cacdca",
    "deepnote_cell_type": "markdown"
   },
   "source": [
    "## Parameterizing the questions with special instructions"
   ]
  },
  {
   "cell_type": "code",
   "execution_count": 2,
   "metadata": {
    "allow_embed": false,
    "cell_id": "64f8254d2ad74fa3bfeb9fd4ce1fa146",
    "deepnote_cell_type": "code",
    "deepnote_to_be_reexecuted": false,
    "execution_millis": 28,
    "execution_start": 1709324944828,
    "source_hash": null
   },
   "outputs": [],
   "source": [
    "from edsl import ScenarioList, Scenario\n",
    "\n",
    "special_instructions = [\n",
    "    \"Be as specific as possible.\",\n",
    "    \"Be concise!\",\n",
    "    \"Wax poetic here.\",\n",
    "]\n",
    "\n",
    "scenarios = ScenarioList.from_list(\"instruction\", special_instructions)"
   ]
  },
  {
   "cell_type": "markdown",
   "metadata": {
    "cell_id": "fb5d095500a5483ab4f70f65348517e9",
    "deepnote_cell_type": "markdown"
   },
   "source": [
    "## Creating agent personas with specific survey contexts"
   ]
  },
  {
   "cell_type": "code",
   "execution_count": 3,
   "metadata": {
    "cell_id": "f95e093d35d041cfb67ff36908e4224e",
    "deepnote_cell_type": "code",
    "deepnote_to_be_reexecuted": false,
    "execution_millis": 83,
    "execution_start": 1709325742204,
    "source_hash": null
   },
   "outputs": [],
   "source": [
    "from edsl import AgentList, Agent\n",
    "\n",
    "personas = [\n",
    "    \"You are middle-aged.\",\n",
    "    \"You are a senior citizen.\",\n",
    "    \"You are a young adult.\",\n",
    "]\n",
    "\n",
    "instructions = [\n",
    "    \"You are handwriting answers in a paper survey.\",\n",
    "    \"You are typing answers in an online survey.\",\n",
    "    \"You are providing answers verbally to a researcher in a live interview.\",\n",
    "]\n",
    "\n",
    "agents = AgentList(\n",
    "    Agent(traits={\"persona\": p}, instruction=i) for p in personas for i in instructions\n",
    ")"
   ]
  },
  {
   "cell_type": "markdown",
   "metadata": {
    "cell_id": "d01c6f0aae7b496f8dfdd76f3bf9f5c0",
    "deepnote_cell_type": "markdown"
   },
   "source": [
    "## Selecting LLMs"
   ]
  },
  {
   "cell_type": "code",
   "execution_count": 4,
   "metadata": {
    "cell_id": "ac9e2a4a310a46068524a95d437bd875",
    "deepnote_cell_type": "code",
    "deepnote_to_be_reexecuted": false,
    "execution_millis": 96,
    "execution_start": 1709324959824,
    "source_hash": null
   },
   "outputs": [],
   "source": [
    "from edsl import ModelList, Model\n",
    "\n",
    "models = ModelList(\n",
    "    Model(m) for m in [\"gpt-4o\", \"gemini-pro\"]\n",
    ")"
   ]
  },
  {
   "cell_type": "markdown",
   "metadata": {
    "cell_id": "9a3cf31278ab4302bdd49637524c2e09",
    "deepnote_cell_type": "markdown"
   },
   "source": [
    "## Administering the survey"
   ]
  },
  {
   "cell_type": "code",
   "execution_count": 5,
   "metadata": {
    "cell_id": "b5831de78b6d48eeb1fdd09bf5251b3e",
    "deepnote_cell_type": "code",
    "deepnote_to_be_reexecuted": false,
    "execution_millis": 4404,
    "execution_start": 1709325820925,
    "source_hash": null
   },
   "outputs": [],
   "source": [
    "from edsl import Survey\n",
    "\n",
    "survey = Survey(questions = [q1, q2])\n",
    "\n",
    "results = survey.by(scenarios).by(agents).by(models).run()"
   ]
  },
  {
   "cell_type": "code",
   "execution_count": 6,
   "metadata": {
    "cell_id": "a81cd87d48694257b2acbdf8d4d2440a",
    "deepnote_cell_type": "code",
    "deepnote_to_be_reexecuted": false,
    "execution_millis": 260,
    "execution_start": 1709325838764,
    "source_hash": null
   },
   "outputs": [
    {
     "data": {
      "text/html": [
       "<pre style=\"white-space:pre;overflow-x:auto;line-height:normal;font-family:Menlo,'DejaVu Sans Mono',consolas,'Courier New',monospace\">┏━━━━━━━━┳━━━━━━━━━━━━━━━━━━━━━┳━━━━━━━━━━━━━━━━━━━━━━┳━━━━━━━━━━━━━━┳━━━━━━━━━━━━━━━━━━━━━┳━━━━━━━━━━━━━━━━━━━━━━┓\n",
       "┃<span style=\"color: #800080; text-decoration-color: #800080; font-weight: bold\"> model  </span>┃<span style=\"color: #800080; text-decoration-color: #800080; font-weight: bold\"> agent               </span>┃<span style=\"color: #800080; text-decoration-color: #800080; font-weight: bold\"> agent                </span>┃<span style=\"color: #800080; text-decoration-color: #800080; font-weight: bold\"> scenario     </span>┃<span style=\"color: #800080; text-decoration-color: #800080; font-weight: bold\"> answer              </span>┃<span style=\"color: #800080; text-decoration-color: #800080; font-weight: bold\"> answer               </span>┃\n",
       "┃<span style=\"color: #800080; text-decoration-color: #800080; font-weight: bold\"> .model </span>┃<span style=\"color: #800080; text-decoration-color: #800080; font-weight: bold\"> .persona            </span>┃<span style=\"color: #800080; text-decoration-color: #800080; font-weight: bold\"> .agent_instruction   </span>┃<span style=\"color: #800080; text-decoration-color: #800080; font-weight: bold\"> .instruction </span>┃<span style=\"color: #800080; text-decoration-color: #800080; font-weight: bold\"> .pasttime           </span>┃<span style=\"color: #800080; text-decoration-color: #800080; font-weight: bold\"> .vacation            </span>┃\n",
       "┡━━━━━━━━╇━━━━━━━━━━━━━━━━━━━━━╇━━━━━━━━━━━━━━━━━━━━━━╇━━━━━━━━━━━━━━╇━━━━━━━━━━━━━━━━━━━━━╇━━━━━━━━━━━━━━━━━━━━━━┩\n",
       "│<span style=\"color: #7f7f7f; text-decoration-color: #7f7f7f\"> gpt-4o </span>│<span style=\"color: #7f7f7f; text-decoration-color: #7f7f7f\"> You are a senior    </span>│<span style=\"color: #7f7f7f; text-decoration-color: #7f7f7f\"> You are handwriting  </span>│<span style=\"color: #7f7f7f; text-decoration-color: #7f7f7f\"> Be concise!  </span>│<span style=\"color: #7f7f7f; text-decoration-color: #7f7f7f\"> Reading historical  </span>│<span style=\"color: #7f7f7f; text-decoration-color: #7f7f7f\"> I love visiting the  </span>│\n",
       "│<span style=\"color: #7f7f7f; text-decoration-color: #7f7f7f\">        </span>│<span style=\"color: #7f7f7f; text-decoration-color: #7f7f7f\"> citizen.            </span>│<span style=\"color: #7f7f7f; text-decoration-color: #7f7f7f\"> answers in a paper   </span>│<span style=\"color: #7f7f7f; text-decoration-color: #7f7f7f\">              </span>│<span style=\"color: #7f7f7f; text-decoration-color: #7f7f7f\"> novels.             </span>│<span style=\"color: #7f7f7f; text-decoration-color: #7f7f7f\"> peaceful             </span>│\n",
       "│<span style=\"color: #7f7f7f; text-decoration-color: #7f7f7f\">        </span>│<span style=\"color: #7f7f7f; text-decoration-color: #7f7f7f\">                     </span>│<span style=\"color: #7f7f7f; text-decoration-color: #7f7f7f\"> survey.              </span>│<span style=\"color: #7f7f7f; text-decoration-color: #7f7f7f\">              </span>│<span style=\"color: #7f7f7f; text-decoration-color: #7f7f7f\">                     </span>│<span style=\"color: #7f7f7f; text-decoration-color: #7f7f7f\"> countryside.         </span>│\n",
       "├────────┼─────────────────────┼──────────────────────┼──────────────┼─────────────────────┼──────────────────────┤\n",
       "│<span style=\"color: #7f7f7f; text-decoration-color: #7f7f7f\"> gpt-4o </span>│<span style=\"color: #7f7f7f; text-decoration-color: #7f7f7f\"> You are a senior    </span>│<span style=\"color: #7f7f7f; text-decoration-color: #7f7f7f\"> You are providing    </span>│<span style=\"color: #7f7f7f; text-decoration-color: #7f7f7f\"> Be concise!  </span>│<span style=\"color: #7f7f7f; text-decoration-color: #7f7f7f\"> I enjoy gardening;  </span>│<span style=\"color: #7f7f7f; text-decoration-color: #7f7f7f\"> I love the           </span>│\n",
       "│<span style=\"color: #7f7f7f; text-decoration-color: #7f7f7f\">        </span>│<span style=\"color: #7f7f7f; text-decoration-color: #7f7f7f\"> citizen.            </span>│<span style=\"color: #7f7f7f; text-decoration-color: #7f7f7f\"> answers verbally to  </span>│<span style=\"color: #7f7f7f; text-decoration-color: #7f7f7f\">              </span>│<span style=\"color: #7f7f7f; text-decoration-color: #7f7f7f\"> it keeps me active  </span>│<span style=\"color: #7f7f7f; text-decoration-color: #7f7f7f\"> peacefulness of the  </span>│\n",
       "│<span style=\"color: #7f7f7f; text-decoration-color: #7f7f7f\">        </span>│<span style=\"color: #7f7f7f; text-decoration-color: #7f7f7f\">                     </span>│<span style=\"color: #7f7f7f; text-decoration-color: #7f7f7f\"> a researcher in a    </span>│<span style=\"color: #7f7f7f; text-decoration-color: #7f7f7f\">              </span>│<span style=\"color: #7f7f7f; text-decoration-color: #7f7f7f\"> and connected to    </span>│<span style=\"color: #7f7f7f; text-decoration-color: #7f7f7f\"> countryside,         </span>│\n",
       "│<span style=\"color: #7f7f7f; text-decoration-color: #7f7f7f\">        </span>│<span style=\"color: #7f7f7f; text-decoration-color: #7f7f7f\">                     </span>│<span style=\"color: #7f7f7f; text-decoration-color: #7f7f7f\"> live interview.      </span>│<span style=\"color: #7f7f7f; text-decoration-color: #7f7f7f\">              </span>│<span style=\"color: #7f7f7f; text-decoration-color: #7f7f7f\"> nature.             </span>│<span style=\"color: #7f7f7f; text-decoration-color: #7f7f7f\"> especially the       </span>│\n",
       "│<span style=\"color: #7f7f7f; text-decoration-color: #7f7f7f\">        </span>│<span style=\"color: #7f7f7f; text-decoration-color: #7f7f7f\">                     </span>│<span style=\"color: #7f7f7f; text-decoration-color: #7f7f7f\">                      </span>│<span style=\"color: #7f7f7f; text-decoration-color: #7f7f7f\">              </span>│<span style=\"color: #7f7f7f; text-decoration-color: #7f7f7f\">                     </span>│<span style=\"color: #7f7f7f; text-decoration-color: #7f7f7f\"> rolling hills and    </span>│\n",
       "│<span style=\"color: #7f7f7f; text-decoration-color: #7f7f7f\">        </span>│<span style=\"color: #7f7f7f; text-decoration-color: #7f7f7f\">                     </span>│<span style=\"color: #7f7f7f; text-decoration-color: #7f7f7f\">                      </span>│<span style=\"color: #7f7f7f; text-decoration-color: #7f7f7f\">              </span>│<span style=\"color: #7f7f7f; text-decoration-color: #7f7f7f\">                     </span>│<span style=\"color: #7f7f7f; text-decoration-color: #7f7f7f\"> quaint villages of   </span>│\n",
       "│<span style=\"color: #7f7f7f; text-decoration-color: #7f7f7f\">        </span>│<span style=\"color: #7f7f7f; text-decoration-color: #7f7f7f\">                     </span>│<span style=\"color: #7f7f7f; text-decoration-color: #7f7f7f\">                      </span>│<span style=\"color: #7f7f7f; text-decoration-color: #7f7f7f\">              </span>│<span style=\"color: #7f7f7f; text-decoration-color: #7f7f7f\">                     </span>│<span style=\"color: #7f7f7f; text-decoration-color: #7f7f7f\"> the English          </span>│\n",
       "│<span style=\"color: #7f7f7f; text-decoration-color: #7f7f7f\">        </span>│<span style=\"color: #7f7f7f; text-decoration-color: #7f7f7f\">                     </span>│<span style=\"color: #7f7f7f; text-decoration-color: #7f7f7f\">                      </span>│<span style=\"color: #7f7f7f; text-decoration-color: #7f7f7f\">              </span>│<span style=\"color: #7f7f7f; text-decoration-color: #7f7f7f\">                     </span>│<span style=\"color: #7f7f7f; text-decoration-color: #7f7f7f\"> countryside.         </span>│\n",
       "├────────┼─────────────────────┼──────────────────────┼──────────────┼─────────────────────┼──────────────────────┤\n",
       "│<span style=\"color: #7f7f7f; text-decoration-color: #7f7f7f\"> gpt-4o </span>│<span style=\"color: #7f7f7f; text-decoration-color: #7f7f7f\"> You are a senior    </span>│<span style=\"color: #7f7f7f; text-decoration-color: #7f7f7f\"> You are typing       </span>│<span style=\"color: #7f7f7f; text-decoration-color: #7f7f7f\"> Be concise!  </span>│<span style=\"color: #7f7f7f; text-decoration-color: #7f7f7f\"> Gardening.          </span>│<span style=\"color: #7f7f7f; text-decoration-color: #7f7f7f\"> The Grand Canyon.    </span>│\n",
       "│<span style=\"color: #7f7f7f; text-decoration-color: #7f7f7f\">        </span>│<span style=\"color: #7f7f7f; text-decoration-color: #7f7f7f\"> citizen.            </span>│<span style=\"color: #7f7f7f; text-decoration-color: #7f7f7f\"> answers in an online </span>│<span style=\"color: #7f7f7f; text-decoration-color: #7f7f7f\">              </span>│<span style=\"color: #7f7f7f; text-decoration-color: #7f7f7f\">                     </span>│<span style=\"color: #7f7f7f; text-decoration-color: #7f7f7f\">                      </span>│\n",
       "│<span style=\"color: #7f7f7f; text-decoration-color: #7f7f7f\">        </span>│<span style=\"color: #7f7f7f; text-decoration-color: #7f7f7f\">                     </span>│<span style=\"color: #7f7f7f; text-decoration-color: #7f7f7f\"> survey.              </span>│<span style=\"color: #7f7f7f; text-decoration-color: #7f7f7f\">              </span>│<span style=\"color: #7f7f7f; text-decoration-color: #7f7f7f\">                     </span>│<span style=\"color: #7f7f7f; text-decoration-color: #7f7f7f\">                      </span>│\n",
       "├────────┼─────────────────────┼──────────────────────┼──────────────┼─────────────────────┼──────────────────────┤\n",
       "│<span style=\"color: #7f7f7f; text-decoration-color: #7f7f7f\"> gpt-4o </span>│<span style=\"color: #7f7f7f; text-decoration-color: #7f7f7f\"> You are a young     </span>│<span style=\"color: #7f7f7f; text-decoration-color: #7f7f7f\"> You are handwriting  </span>│<span style=\"color: #7f7f7f; text-decoration-color: #7f7f7f\"> Be concise!  </span>│<span style=\"color: #7f7f7f; text-decoration-color: #7f7f7f\"> Playing video       </span>│<span style=\"color: #7f7f7f; text-decoration-color: #7f7f7f\"> Japan.               </span>│\n",
       "│<span style=\"color: #7f7f7f; text-decoration-color: #7f7f7f\">        </span>│<span style=\"color: #7f7f7f; text-decoration-color: #7f7f7f\"> adult.              </span>│<span style=\"color: #7f7f7f; text-decoration-color: #7f7f7f\"> answers in a paper   </span>│<span style=\"color: #7f7f7f; text-decoration-color: #7f7f7f\">              </span>│<span style=\"color: #7f7f7f; text-decoration-color: #7f7f7f\"> games.              </span>│<span style=\"color: #7f7f7f; text-decoration-color: #7f7f7f\">                      </span>│\n",
       "│<span style=\"color: #7f7f7f; text-decoration-color: #7f7f7f\">        </span>│<span style=\"color: #7f7f7f; text-decoration-color: #7f7f7f\">                     </span>│<span style=\"color: #7f7f7f; text-decoration-color: #7f7f7f\"> survey.              </span>│<span style=\"color: #7f7f7f; text-decoration-color: #7f7f7f\">              </span>│<span style=\"color: #7f7f7f; text-decoration-color: #7f7f7f\">                     </span>│<span style=\"color: #7f7f7f; text-decoration-color: #7f7f7f\">                      </span>│\n",
       "├────────┼─────────────────────┼──────────────────────┼──────────────┼─────────────────────┼──────────────────────┤\n",
       "│<span style=\"color: #7f7f7f; text-decoration-color: #7f7f7f\"> gpt-4o </span>│<span style=\"color: #7f7f7f; text-decoration-color: #7f7f7f\"> You are a young     </span>│<span style=\"color: #7f7f7f; text-decoration-color: #7f7f7f\"> You are providing    </span>│<span style=\"color: #7f7f7f; text-decoration-color: #7f7f7f\"> Be concise!  </span>│<span style=\"color: #7f7f7f; text-decoration-color: #7f7f7f\"> I love playing      </span>│<span style=\"color: #7f7f7f; text-decoration-color: #7f7f7f\"> I love visiting      </span>│\n",
       "│<span style=\"color: #7f7f7f; text-decoration-color: #7f7f7f\">        </span>│<span style=\"color: #7f7f7f; text-decoration-color: #7f7f7f\"> adult.              </span>│<span style=\"color: #7f7f7f; text-decoration-color: #7f7f7f\"> answers verbally to  </span>│<span style=\"color: #7f7f7f; text-decoration-color: #7f7f7f\">              </span>│<span style=\"color: #7f7f7f; text-decoration-color: #7f7f7f\"> video games. It's a </span>│<span style=\"color: #7f7f7f; text-decoration-color: #7f7f7f\"> Japan for its mix of </span>│\n",
       "│<span style=\"color: #7f7f7f; text-decoration-color: #7f7f7f\">        </span>│<span style=\"color: #7f7f7f; text-decoration-color: #7f7f7f\">                     </span>│<span style=\"color: #7f7f7f; text-decoration-color: #7f7f7f\"> a researcher in a    </span>│<span style=\"color: #7f7f7f; text-decoration-color: #7f7f7f\">              </span>│<span style=\"color: #7f7f7f; text-decoration-color: #7f7f7f\"> fun way to relax    </span>│<span style=\"color: #7f7f7f; text-decoration-color: #7f7f7f\"> traditional culture  </span>│\n",
       "│<span style=\"color: #7f7f7f; text-decoration-color: #7f7f7f\">        </span>│<span style=\"color: #7f7f7f; text-decoration-color: #7f7f7f\">                     </span>│<span style=\"color: #7f7f7f; text-decoration-color: #7f7f7f\"> live interview.      </span>│<span style=\"color: #7f7f7f; text-decoration-color: #7f7f7f\">              </span>│<span style=\"color: #7f7f7f; text-decoration-color: #7f7f7f\"> and connect with    </span>│<span style=\"color: #7f7f7f; text-decoration-color: #7f7f7f\"> and modern tech      </span>│\n",
       "│<span style=\"color: #7f7f7f; text-decoration-color: #7f7f7f\">        </span>│<span style=\"color: #7f7f7f; text-decoration-color: #7f7f7f\">                     </span>│<span style=\"color: #7f7f7f; text-decoration-color: #7f7f7f\">                      </span>│<span style=\"color: #7f7f7f; text-decoration-color: #7f7f7f\">              </span>│<span style=\"color: #7f7f7f; text-decoration-color: #7f7f7f\"> friends.            </span>│<span style=\"color: #7f7f7f; text-decoration-color: #7f7f7f\"> vibes.               </span>│\n",
       "├────────┼─────────────────────┼──────────────────────┼──────────────┼─────────────────────┼──────────────────────┤\n",
       "│<span style=\"color: #7f7f7f; text-decoration-color: #7f7f7f\"> gpt-4o </span>│<span style=\"color: #7f7f7f; text-decoration-color: #7f7f7f\"> You are a young     </span>│<span style=\"color: #7f7f7f; text-decoration-color: #7f7f7f\"> You are typing       </span>│<span style=\"color: #7f7f7f; text-decoration-color: #7f7f7f\"> Be concise!  </span>│<span style=\"color: #7f7f7f; text-decoration-color: #7f7f7f\"> Playing video       </span>│<span style=\"color: #7f7f7f; text-decoration-color: #7f7f7f\"> Japan.               </span>│\n",
       "│<span style=\"color: #7f7f7f; text-decoration-color: #7f7f7f\">        </span>│<span style=\"color: #7f7f7f; text-decoration-color: #7f7f7f\"> adult.              </span>│<span style=\"color: #7f7f7f; text-decoration-color: #7f7f7f\"> answers in an online </span>│<span style=\"color: #7f7f7f; text-decoration-color: #7f7f7f\">              </span>│<span style=\"color: #7f7f7f; text-decoration-color: #7f7f7f\"> games.              </span>│<span style=\"color: #7f7f7f; text-decoration-color: #7f7f7f\">                      </span>│\n",
       "│<span style=\"color: #7f7f7f; text-decoration-color: #7f7f7f\">        </span>│<span style=\"color: #7f7f7f; text-decoration-color: #7f7f7f\">                     </span>│<span style=\"color: #7f7f7f; text-decoration-color: #7f7f7f\"> survey.              </span>│<span style=\"color: #7f7f7f; text-decoration-color: #7f7f7f\">              </span>│<span style=\"color: #7f7f7f; text-decoration-color: #7f7f7f\">                     </span>│<span style=\"color: #7f7f7f; text-decoration-color: #7f7f7f\">                      </span>│\n",
       "├────────┼─────────────────────┼──────────────────────┼──────────────┼─────────────────────┼──────────────────────┤\n",
       "│<span style=\"color: #7f7f7f; text-decoration-color: #7f7f7f\"> gpt-4o </span>│<span style=\"color: #7f7f7f; text-decoration-color: #7f7f7f\"> You are             </span>│<span style=\"color: #7f7f7f; text-decoration-color: #7f7f7f\"> You are handwriting  </span>│<span style=\"color: #7f7f7f; text-decoration-color: #7f7f7f\"> Be concise!  </span>│<span style=\"color: #7f7f7f; text-decoration-color: #7f7f7f\"> Reading historical  </span>│<span style=\"color: #7f7f7f; text-decoration-color: #7f7f7f\"> The mountains.       </span>│\n",
       "│<span style=\"color: #7f7f7f; text-decoration-color: #7f7f7f\">        </span>│<span style=\"color: #7f7f7f; text-decoration-color: #7f7f7f\"> middle-aged.        </span>│<span style=\"color: #7f7f7f; text-decoration-color: #7f7f7f\"> answers in a paper   </span>│<span style=\"color: #7f7f7f; text-decoration-color: #7f7f7f\">              </span>│<span style=\"color: #7f7f7f; text-decoration-color: #7f7f7f\"> novels.             </span>│<span style=\"color: #7f7f7f; text-decoration-color: #7f7f7f\">                      </span>│\n",
       "│<span style=\"color: #7f7f7f; text-decoration-color: #7f7f7f\">        </span>│<span style=\"color: #7f7f7f; text-decoration-color: #7f7f7f\">                     </span>│<span style=\"color: #7f7f7f; text-decoration-color: #7f7f7f\"> survey.              </span>│<span style=\"color: #7f7f7f; text-decoration-color: #7f7f7f\">              </span>│<span style=\"color: #7f7f7f; text-decoration-color: #7f7f7f\">                     </span>│<span style=\"color: #7f7f7f; text-decoration-color: #7f7f7f\">                      </span>│\n",
       "├────────┼─────────────────────┼──────────────────────┼──────────────┼─────────────────────┼──────────────────────┤\n",
       "│<span style=\"color: #7f7f7f; text-decoration-color: #7f7f7f\"> gpt-4o </span>│<span style=\"color: #7f7f7f; text-decoration-color: #7f7f7f\"> You are             </span>│<span style=\"color: #7f7f7f; text-decoration-color: #7f7f7f\"> You are providing    </span>│<span style=\"color: #7f7f7f; text-decoration-color: #7f7f7f\"> Be concise!  </span>│<span style=\"color: #7f7f7f; text-decoration-color: #7f7f7f\"> I enjoy reading     </span>│<span style=\"color: #7f7f7f; text-decoration-color: #7f7f7f\"> I love visiting the  </span>│\n",
       "│<span style=\"color: #7f7f7f; text-decoration-color: #7f7f7f\">        </span>│<span style=\"color: #7f7f7f; text-decoration-color: #7f7f7f\"> middle-aged.        </span>│<span style=\"color: #7f7f7f; text-decoration-color: #7f7f7f\"> answers verbally to  </span>│<span style=\"color: #7f7f7f; text-decoration-color: #7f7f7f\">              </span>│<span style=\"color: #7f7f7f; text-decoration-color: #7f7f7f\"> historical novels.  </span>│<span style=\"color: #7f7f7f; text-decoration-color: #7f7f7f\"> serene beaches of    </span>│\n",
       "│<span style=\"color: #7f7f7f; text-decoration-color: #7f7f7f\">        </span>│<span style=\"color: #7f7f7f; text-decoration-color: #7f7f7f\">                     </span>│<span style=\"color: #7f7f7f; text-decoration-color: #7f7f7f\"> a researcher in a    </span>│<span style=\"color: #7f7f7f; text-decoration-color: #7f7f7f\">              </span>│<span style=\"color: #7f7f7f; text-decoration-color: #7f7f7f\">                     </span>│<span style=\"color: #7f7f7f; text-decoration-color: #7f7f7f\"> the Greek Islands.   </span>│\n",
       "│<span style=\"color: #7f7f7f; text-decoration-color: #7f7f7f\">        </span>│<span style=\"color: #7f7f7f; text-decoration-color: #7f7f7f\">                     </span>│<span style=\"color: #7f7f7f; text-decoration-color: #7f7f7f\"> live interview.      </span>│<span style=\"color: #7f7f7f; text-decoration-color: #7f7f7f\">              </span>│<span style=\"color: #7f7f7f; text-decoration-color: #7f7f7f\">                     </span>│<span style=\"color: #7f7f7f; text-decoration-color: #7f7f7f\">                      </span>│\n",
       "├────────┼─────────────────────┼──────────────────────┼──────────────┼─────────────────────┼──────────────────────┤\n",
       "│<span style=\"color: #7f7f7f; text-decoration-color: #7f7f7f\"> gpt-4o </span>│<span style=\"color: #7f7f7f; text-decoration-color: #7f7f7f\"> You are             </span>│<span style=\"color: #7f7f7f; text-decoration-color: #7f7f7f\"> You are typing       </span>│<span style=\"color: #7f7f7f; text-decoration-color: #7f7f7f\"> Be concise!  </span>│<span style=\"color: #7f7f7f; text-decoration-color: #7f7f7f\"> Reading historical  </span>│<span style=\"color: #7f7f7f; text-decoration-color: #7f7f7f\"> The Mediterranean.   </span>│\n",
       "│<span style=\"color: #7f7f7f; text-decoration-color: #7f7f7f\">        </span>│<span style=\"color: #7f7f7f; text-decoration-color: #7f7f7f\"> middle-aged.        </span>│<span style=\"color: #7f7f7f; text-decoration-color: #7f7f7f\"> answers in an online </span>│<span style=\"color: #7f7f7f; text-decoration-color: #7f7f7f\">              </span>│<span style=\"color: #7f7f7f; text-decoration-color: #7f7f7f\"> fiction.            </span>│<span style=\"color: #7f7f7f; text-decoration-color: #7f7f7f\">                      </span>│\n",
       "│<span style=\"color: #7f7f7f; text-decoration-color: #7f7f7f\">        </span>│<span style=\"color: #7f7f7f; text-decoration-color: #7f7f7f\">                     </span>│<span style=\"color: #7f7f7f; text-decoration-color: #7f7f7f\"> survey.              </span>│<span style=\"color: #7f7f7f; text-decoration-color: #7f7f7f\">              </span>│<span style=\"color: #7f7f7f; text-decoration-color: #7f7f7f\">                     </span>│<span style=\"color: #7f7f7f; text-decoration-color: #7f7f7f\">                      </span>│\n",
       "└────────┴─────────────────────┴──────────────────────┴──────────────┴─────────────────────┴──────────────────────┘\n",
       "</pre>\n"
      ],
      "text/plain": [
       "┏━━━━━━━━┳━━━━━━━━━━━━━━━━━━━━━┳━━━━━━━━━━━━━━━━━━━━━━┳━━━━━━━━━━━━━━┳━━━━━━━━━━━━━━━━━━━━━┳━━━━━━━━━━━━━━━━━━━━━━┓\n",
       "┃\u001b[1;35m \u001b[0m\u001b[1;35mmodel \u001b[0m\u001b[1;35m \u001b[0m┃\u001b[1;35m \u001b[0m\u001b[1;35magent              \u001b[0m\u001b[1;35m \u001b[0m┃\u001b[1;35m \u001b[0m\u001b[1;35magent               \u001b[0m\u001b[1;35m \u001b[0m┃\u001b[1;35m \u001b[0m\u001b[1;35mscenario    \u001b[0m\u001b[1;35m \u001b[0m┃\u001b[1;35m \u001b[0m\u001b[1;35manswer             \u001b[0m\u001b[1;35m \u001b[0m┃\u001b[1;35m \u001b[0m\u001b[1;35manswer              \u001b[0m\u001b[1;35m \u001b[0m┃\n",
       "┃\u001b[1;35m \u001b[0m\u001b[1;35m.model\u001b[0m\u001b[1;35m \u001b[0m┃\u001b[1;35m \u001b[0m\u001b[1;35m.persona           \u001b[0m\u001b[1;35m \u001b[0m┃\u001b[1;35m \u001b[0m\u001b[1;35m.agent_instruction  \u001b[0m\u001b[1;35m \u001b[0m┃\u001b[1;35m \u001b[0m\u001b[1;35m.instruction\u001b[0m\u001b[1;35m \u001b[0m┃\u001b[1;35m \u001b[0m\u001b[1;35m.pasttime          \u001b[0m\u001b[1;35m \u001b[0m┃\u001b[1;35m \u001b[0m\u001b[1;35m.vacation           \u001b[0m\u001b[1;35m \u001b[0m┃\n",
       "┡━━━━━━━━╇━━━━━━━━━━━━━━━━━━━━━╇━━━━━━━━━━━━━━━━━━━━━━╇━━━━━━━━━━━━━━╇━━━━━━━━━━━━━━━━━━━━━╇━━━━━━━━━━━━━━━━━━━━━━┩\n",
       "│\u001b[2m \u001b[0m\u001b[2mgpt-4o\u001b[0m\u001b[2m \u001b[0m│\u001b[2m \u001b[0m\u001b[2mYou are a senior   \u001b[0m\u001b[2m \u001b[0m│\u001b[2m \u001b[0m\u001b[2mYou are handwriting \u001b[0m\u001b[2m \u001b[0m│\u001b[2m \u001b[0m\u001b[2mBe concise! \u001b[0m\u001b[2m \u001b[0m│\u001b[2m \u001b[0m\u001b[2mReading historical \u001b[0m\u001b[2m \u001b[0m│\u001b[2m \u001b[0m\u001b[2mI love visiting the \u001b[0m\u001b[2m \u001b[0m│\n",
       "│\u001b[2m        \u001b[0m│\u001b[2m \u001b[0m\u001b[2mcitizen.           \u001b[0m\u001b[2m \u001b[0m│\u001b[2m \u001b[0m\u001b[2manswers in a paper  \u001b[0m\u001b[2m \u001b[0m│\u001b[2m              \u001b[0m│\u001b[2m \u001b[0m\u001b[2mnovels.            \u001b[0m\u001b[2m \u001b[0m│\u001b[2m \u001b[0m\u001b[2mpeaceful            \u001b[0m\u001b[2m \u001b[0m│\n",
       "│\u001b[2m        \u001b[0m│\u001b[2m                     \u001b[0m│\u001b[2m \u001b[0m\u001b[2msurvey.             \u001b[0m\u001b[2m \u001b[0m│\u001b[2m              \u001b[0m│\u001b[2m                     \u001b[0m│\u001b[2m \u001b[0m\u001b[2mcountryside.        \u001b[0m\u001b[2m \u001b[0m│\n",
       "├────────┼─────────────────────┼──────────────────────┼──────────────┼─────────────────────┼──────────────────────┤\n",
       "│\u001b[2m \u001b[0m\u001b[2mgpt-4o\u001b[0m\u001b[2m \u001b[0m│\u001b[2m \u001b[0m\u001b[2mYou are a senior   \u001b[0m\u001b[2m \u001b[0m│\u001b[2m \u001b[0m\u001b[2mYou are providing   \u001b[0m\u001b[2m \u001b[0m│\u001b[2m \u001b[0m\u001b[2mBe concise! \u001b[0m\u001b[2m \u001b[0m│\u001b[2m \u001b[0m\u001b[2mI enjoy gardening; \u001b[0m\u001b[2m \u001b[0m│\u001b[2m \u001b[0m\u001b[2mI love the          \u001b[0m\u001b[2m \u001b[0m│\n",
       "│\u001b[2m        \u001b[0m│\u001b[2m \u001b[0m\u001b[2mcitizen.           \u001b[0m\u001b[2m \u001b[0m│\u001b[2m \u001b[0m\u001b[2manswers verbally to \u001b[0m\u001b[2m \u001b[0m│\u001b[2m              \u001b[0m│\u001b[2m \u001b[0m\u001b[2mit keeps me active \u001b[0m\u001b[2m \u001b[0m│\u001b[2m \u001b[0m\u001b[2mpeacefulness of the \u001b[0m\u001b[2m \u001b[0m│\n",
       "│\u001b[2m        \u001b[0m│\u001b[2m                     \u001b[0m│\u001b[2m \u001b[0m\u001b[2ma researcher in a   \u001b[0m\u001b[2m \u001b[0m│\u001b[2m              \u001b[0m│\u001b[2m \u001b[0m\u001b[2mand connected to   \u001b[0m\u001b[2m \u001b[0m│\u001b[2m \u001b[0m\u001b[2mcountryside,        \u001b[0m\u001b[2m \u001b[0m│\n",
       "│\u001b[2m        \u001b[0m│\u001b[2m                     \u001b[0m│\u001b[2m \u001b[0m\u001b[2mlive interview.     \u001b[0m\u001b[2m \u001b[0m│\u001b[2m              \u001b[0m│\u001b[2m \u001b[0m\u001b[2mnature.            \u001b[0m\u001b[2m \u001b[0m│\u001b[2m \u001b[0m\u001b[2mespecially the      \u001b[0m\u001b[2m \u001b[0m│\n",
       "│\u001b[2m        \u001b[0m│\u001b[2m                     \u001b[0m│\u001b[2m                      \u001b[0m│\u001b[2m              \u001b[0m│\u001b[2m                     \u001b[0m│\u001b[2m \u001b[0m\u001b[2mrolling hills and   \u001b[0m\u001b[2m \u001b[0m│\n",
       "│\u001b[2m        \u001b[0m│\u001b[2m                     \u001b[0m│\u001b[2m                      \u001b[0m│\u001b[2m              \u001b[0m│\u001b[2m                     \u001b[0m│\u001b[2m \u001b[0m\u001b[2mquaint villages of  \u001b[0m\u001b[2m \u001b[0m│\n",
       "│\u001b[2m        \u001b[0m│\u001b[2m                     \u001b[0m│\u001b[2m                      \u001b[0m│\u001b[2m              \u001b[0m│\u001b[2m                     \u001b[0m│\u001b[2m \u001b[0m\u001b[2mthe English         \u001b[0m\u001b[2m \u001b[0m│\n",
       "│\u001b[2m        \u001b[0m│\u001b[2m                     \u001b[0m│\u001b[2m                      \u001b[0m│\u001b[2m              \u001b[0m│\u001b[2m                     \u001b[0m│\u001b[2m \u001b[0m\u001b[2mcountryside.        \u001b[0m\u001b[2m \u001b[0m│\n",
       "├────────┼─────────────────────┼──────────────────────┼──────────────┼─────────────────────┼──────────────────────┤\n",
       "│\u001b[2m \u001b[0m\u001b[2mgpt-4o\u001b[0m\u001b[2m \u001b[0m│\u001b[2m \u001b[0m\u001b[2mYou are a senior   \u001b[0m\u001b[2m \u001b[0m│\u001b[2m \u001b[0m\u001b[2mYou are typing      \u001b[0m\u001b[2m \u001b[0m│\u001b[2m \u001b[0m\u001b[2mBe concise! \u001b[0m\u001b[2m \u001b[0m│\u001b[2m \u001b[0m\u001b[2mGardening.         \u001b[0m\u001b[2m \u001b[0m│\u001b[2m \u001b[0m\u001b[2mThe Grand Canyon.   \u001b[0m\u001b[2m \u001b[0m│\n",
       "│\u001b[2m        \u001b[0m│\u001b[2m \u001b[0m\u001b[2mcitizen.           \u001b[0m\u001b[2m \u001b[0m│\u001b[2m \u001b[0m\u001b[2manswers in an online\u001b[0m\u001b[2m \u001b[0m│\u001b[2m              \u001b[0m│\u001b[2m                     \u001b[0m│\u001b[2m                      \u001b[0m│\n",
       "│\u001b[2m        \u001b[0m│\u001b[2m                     \u001b[0m│\u001b[2m \u001b[0m\u001b[2msurvey.             \u001b[0m\u001b[2m \u001b[0m│\u001b[2m              \u001b[0m│\u001b[2m                     \u001b[0m│\u001b[2m                      \u001b[0m│\n",
       "├────────┼─────────────────────┼──────────────────────┼──────────────┼─────────────────────┼──────────────────────┤\n",
       "│\u001b[2m \u001b[0m\u001b[2mgpt-4o\u001b[0m\u001b[2m \u001b[0m│\u001b[2m \u001b[0m\u001b[2mYou are a young    \u001b[0m\u001b[2m \u001b[0m│\u001b[2m \u001b[0m\u001b[2mYou are handwriting \u001b[0m\u001b[2m \u001b[0m│\u001b[2m \u001b[0m\u001b[2mBe concise! \u001b[0m\u001b[2m \u001b[0m│\u001b[2m \u001b[0m\u001b[2mPlaying video      \u001b[0m\u001b[2m \u001b[0m│\u001b[2m \u001b[0m\u001b[2mJapan.              \u001b[0m\u001b[2m \u001b[0m│\n",
       "│\u001b[2m        \u001b[0m│\u001b[2m \u001b[0m\u001b[2madult.             \u001b[0m\u001b[2m \u001b[0m│\u001b[2m \u001b[0m\u001b[2manswers in a paper  \u001b[0m\u001b[2m \u001b[0m│\u001b[2m              \u001b[0m│\u001b[2m \u001b[0m\u001b[2mgames.             \u001b[0m\u001b[2m \u001b[0m│\u001b[2m                      \u001b[0m│\n",
       "│\u001b[2m        \u001b[0m│\u001b[2m                     \u001b[0m│\u001b[2m \u001b[0m\u001b[2msurvey.             \u001b[0m\u001b[2m \u001b[0m│\u001b[2m              \u001b[0m│\u001b[2m                     \u001b[0m│\u001b[2m                      \u001b[0m│\n",
       "├────────┼─────────────────────┼──────────────────────┼──────────────┼─────────────────────┼──────────────────────┤\n",
       "│\u001b[2m \u001b[0m\u001b[2mgpt-4o\u001b[0m\u001b[2m \u001b[0m│\u001b[2m \u001b[0m\u001b[2mYou are a young    \u001b[0m\u001b[2m \u001b[0m│\u001b[2m \u001b[0m\u001b[2mYou are providing   \u001b[0m\u001b[2m \u001b[0m│\u001b[2m \u001b[0m\u001b[2mBe concise! \u001b[0m\u001b[2m \u001b[0m│\u001b[2m \u001b[0m\u001b[2mI love playing     \u001b[0m\u001b[2m \u001b[0m│\u001b[2m \u001b[0m\u001b[2mI love visiting     \u001b[0m\u001b[2m \u001b[0m│\n",
       "│\u001b[2m        \u001b[0m│\u001b[2m \u001b[0m\u001b[2madult.             \u001b[0m\u001b[2m \u001b[0m│\u001b[2m \u001b[0m\u001b[2manswers verbally to \u001b[0m\u001b[2m \u001b[0m│\u001b[2m              \u001b[0m│\u001b[2m \u001b[0m\u001b[2mvideo games. It's a\u001b[0m\u001b[2m \u001b[0m│\u001b[2m \u001b[0m\u001b[2mJapan for its mix of\u001b[0m\u001b[2m \u001b[0m│\n",
       "│\u001b[2m        \u001b[0m│\u001b[2m                     \u001b[0m│\u001b[2m \u001b[0m\u001b[2ma researcher in a   \u001b[0m\u001b[2m \u001b[0m│\u001b[2m              \u001b[0m│\u001b[2m \u001b[0m\u001b[2mfun way to relax   \u001b[0m\u001b[2m \u001b[0m│\u001b[2m \u001b[0m\u001b[2mtraditional culture \u001b[0m\u001b[2m \u001b[0m│\n",
       "│\u001b[2m        \u001b[0m│\u001b[2m                     \u001b[0m│\u001b[2m \u001b[0m\u001b[2mlive interview.     \u001b[0m\u001b[2m \u001b[0m│\u001b[2m              \u001b[0m│\u001b[2m \u001b[0m\u001b[2mand connect with   \u001b[0m\u001b[2m \u001b[0m│\u001b[2m \u001b[0m\u001b[2mand modern tech     \u001b[0m\u001b[2m \u001b[0m│\n",
       "│\u001b[2m        \u001b[0m│\u001b[2m                     \u001b[0m│\u001b[2m                      \u001b[0m│\u001b[2m              \u001b[0m│\u001b[2m \u001b[0m\u001b[2mfriends.           \u001b[0m\u001b[2m \u001b[0m│\u001b[2m \u001b[0m\u001b[2mvibes.              \u001b[0m\u001b[2m \u001b[0m│\n",
       "├────────┼─────────────────────┼──────────────────────┼──────────────┼─────────────────────┼──────────────────────┤\n",
       "│\u001b[2m \u001b[0m\u001b[2mgpt-4o\u001b[0m\u001b[2m \u001b[0m│\u001b[2m \u001b[0m\u001b[2mYou are a young    \u001b[0m\u001b[2m \u001b[0m│\u001b[2m \u001b[0m\u001b[2mYou are typing      \u001b[0m\u001b[2m \u001b[0m│\u001b[2m \u001b[0m\u001b[2mBe concise! \u001b[0m\u001b[2m \u001b[0m│\u001b[2m \u001b[0m\u001b[2mPlaying video      \u001b[0m\u001b[2m \u001b[0m│\u001b[2m \u001b[0m\u001b[2mJapan.              \u001b[0m\u001b[2m \u001b[0m│\n",
       "│\u001b[2m        \u001b[0m│\u001b[2m \u001b[0m\u001b[2madult.             \u001b[0m\u001b[2m \u001b[0m│\u001b[2m \u001b[0m\u001b[2manswers in an online\u001b[0m\u001b[2m \u001b[0m│\u001b[2m              \u001b[0m│\u001b[2m \u001b[0m\u001b[2mgames.             \u001b[0m\u001b[2m \u001b[0m│\u001b[2m                      \u001b[0m│\n",
       "│\u001b[2m        \u001b[0m│\u001b[2m                     \u001b[0m│\u001b[2m \u001b[0m\u001b[2msurvey.             \u001b[0m\u001b[2m \u001b[0m│\u001b[2m              \u001b[0m│\u001b[2m                     \u001b[0m│\u001b[2m                      \u001b[0m│\n",
       "├────────┼─────────────────────┼──────────────────────┼──────────────┼─────────────────────┼──────────────────────┤\n",
       "│\u001b[2m \u001b[0m\u001b[2mgpt-4o\u001b[0m\u001b[2m \u001b[0m│\u001b[2m \u001b[0m\u001b[2mYou are            \u001b[0m\u001b[2m \u001b[0m│\u001b[2m \u001b[0m\u001b[2mYou are handwriting \u001b[0m\u001b[2m \u001b[0m│\u001b[2m \u001b[0m\u001b[2mBe concise! \u001b[0m\u001b[2m \u001b[0m│\u001b[2m \u001b[0m\u001b[2mReading historical \u001b[0m\u001b[2m \u001b[0m│\u001b[2m \u001b[0m\u001b[2mThe mountains.      \u001b[0m\u001b[2m \u001b[0m│\n",
       "│\u001b[2m        \u001b[0m│\u001b[2m \u001b[0m\u001b[2mmiddle-aged.       \u001b[0m\u001b[2m \u001b[0m│\u001b[2m \u001b[0m\u001b[2manswers in a paper  \u001b[0m\u001b[2m \u001b[0m│\u001b[2m              \u001b[0m│\u001b[2m \u001b[0m\u001b[2mnovels.            \u001b[0m\u001b[2m \u001b[0m│\u001b[2m                      \u001b[0m│\n",
       "│\u001b[2m        \u001b[0m│\u001b[2m                     \u001b[0m│\u001b[2m \u001b[0m\u001b[2msurvey.             \u001b[0m\u001b[2m \u001b[0m│\u001b[2m              \u001b[0m│\u001b[2m                     \u001b[0m│\u001b[2m                      \u001b[0m│\n",
       "├────────┼─────────────────────┼──────────────────────┼──────────────┼─────────────────────┼──────────────────────┤\n",
       "│\u001b[2m \u001b[0m\u001b[2mgpt-4o\u001b[0m\u001b[2m \u001b[0m│\u001b[2m \u001b[0m\u001b[2mYou are            \u001b[0m\u001b[2m \u001b[0m│\u001b[2m \u001b[0m\u001b[2mYou are providing   \u001b[0m\u001b[2m \u001b[0m│\u001b[2m \u001b[0m\u001b[2mBe concise! \u001b[0m\u001b[2m \u001b[0m│\u001b[2m \u001b[0m\u001b[2mI enjoy reading    \u001b[0m\u001b[2m \u001b[0m│\u001b[2m \u001b[0m\u001b[2mI love visiting the \u001b[0m\u001b[2m \u001b[0m│\n",
       "│\u001b[2m        \u001b[0m│\u001b[2m \u001b[0m\u001b[2mmiddle-aged.       \u001b[0m\u001b[2m \u001b[0m│\u001b[2m \u001b[0m\u001b[2manswers verbally to \u001b[0m\u001b[2m \u001b[0m│\u001b[2m              \u001b[0m│\u001b[2m \u001b[0m\u001b[2mhistorical novels. \u001b[0m\u001b[2m \u001b[0m│\u001b[2m \u001b[0m\u001b[2mserene beaches of   \u001b[0m\u001b[2m \u001b[0m│\n",
       "│\u001b[2m        \u001b[0m│\u001b[2m                     \u001b[0m│\u001b[2m \u001b[0m\u001b[2ma researcher in a   \u001b[0m\u001b[2m \u001b[0m│\u001b[2m              \u001b[0m│\u001b[2m                     \u001b[0m│\u001b[2m \u001b[0m\u001b[2mthe Greek Islands.  \u001b[0m\u001b[2m \u001b[0m│\n",
       "│\u001b[2m        \u001b[0m│\u001b[2m                     \u001b[0m│\u001b[2m \u001b[0m\u001b[2mlive interview.     \u001b[0m\u001b[2m \u001b[0m│\u001b[2m              \u001b[0m│\u001b[2m                     \u001b[0m│\u001b[2m                      \u001b[0m│\n",
       "├────────┼─────────────────────┼──────────────────────┼──────────────┼─────────────────────┼──────────────────────┤\n",
       "│\u001b[2m \u001b[0m\u001b[2mgpt-4o\u001b[0m\u001b[2m \u001b[0m│\u001b[2m \u001b[0m\u001b[2mYou are            \u001b[0m\u001b[2m \u001b[0m│\u001b[2m \u001b[0m\u001b[2mYou are typing      \u001b[0m\u001b[2m \u001b[0m│\u001b[2m \u001b[0m\u001b[2mBe concise! \u001b[0m\u001b[2m \u001b[0m│\u001b[2m \u001b[0m\u001b[2mReading historical \u001b[0m\u001b[2m \u001b[0m│\u001b[2m \u001b[0m\u001b[2mThe Mediterranean.  \u001b[0m\u001b[2m \u001b[0m│\n",
       "│\u001b[2m        \u001b[0m│\u001b[2m \u001b[0m\u001b[2mmiddle-aged.       \u001b[0m\u001b[2m \u001b[0m│\u001b[2m \u001b[0m\u001b[2manswers in an online\u001b[0m\u001b[2m \u001b[0m│\u001b[2m              \u001b[0m│\u001b[2m \u001b[0m\u001b[2mfiction.           \u001b[0m\u001b[2m \u001b[0m│\u001b[2m                      \u001b[0m│\n",
       "│\u001b[2m        \u001b[0m│\u001b[2m                     \u001b[0m│\u001b[2m \u001b[0m\u001b[2msurvey.             \u001b[0m\u001b[2m \u001b[0m│\u001b[2m              \u001b[0m│\u001b[2m                     \u001b[0m│\u001b[2m                      \u001b[0m│\n",
       "└────────┴─────────────────────┴──────────────────────┴──────────────┴─────────────────────┴──────────────────────┘\n"
      ]
     },
     "metadata": {},
     "output_type": "display_data"
    }
   ],
   "source": [
    "(\n",
    "    results\n",
    "    .filter(\"instruction == 'Be concise!' and model.model == 'gpt-4o'\")\n",
    "    .sort_by(\"model\", \"persona\", \"agent_instruction\")\n",
    "    .select(\"model\", \"persona\", \"agent_instruction\", \"scenario.*\", \"answer.*\")\n",
    "    .print(format=\"rich\")\n",
    ")"
   ]
  }
 ],
 "metadata": {
  "deepnote_execution_queue": [],
  "deepnote_notebook_id": "d3f154103728408f827c7635320ab93f",
  "kernelspec": {
   "display_name": "Python 3 (ipykernel)",
   "language": "python",
   "name": "python3"
  },
  "language_info": {
   "codemirror_mode": {
    "name": "ipython",
    "version": 3
   },
   "file_extension": ".py",
   "mimetype": "text/x-python",
   "name": "python",
   "nbconvert_exporter": "python",
   "pygments_lexer": "ipython3",
   "version": "3.11.7"
  }
 },
 "nbformat": 4,
 "nbformat_minor": 4
}
