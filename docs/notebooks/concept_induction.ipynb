{
 "cells": [
  {
   "cell_type": "markdown",
   "id": "e267b645-5929-4b8b-bb94-2f15228efc77",
   "metadata": {
    "editable": true,
    "slideshow": {
     "slide_type": ""
    },
    "tags": []
   },
   "source": [
    "# Concept induction\n",
    "This notebook offers sample [EDSL](https://docs.expectedparrot.com) code for using language models to identify concepts in unstructured texts, then generate criteria for the concepts, and then apply the criteria to evaluate the texts.\n",
    "\n",
    "This idea is inspired by the recent paper: [Concept Induction: Analyzing Unstructured Text with High-Level Concepts Using LLooM](https://hci.stanford.edu/publications/2024/Lam_LLooM_CHI24.pdf)\n",
    "\n",
    "## Technical setup\n",
    "Before running the code below, please ensure that you have [installed the EDSL library](https://docs.expectedparrot.com/en/latest/installation.html) and either [activated remote inference](https://docs.expectedparrot.com/en/latest/remote_inference.html) from your [Coop account](https://docs.expectedparrot.com/en/latest/coop.html) or [stored API keys](https://docs.expectedparrot.com/en/latest/api_keys.html) for the language models that you want to use with EDSL. Please also see our [documentation page](https://docs.expectedparrot.com/) for tips and tutorials on getting started using EDSL."
   ]
  },
  {
   "cell_type": "markdown",
   "id": "d1f85f22-297e-4e61-ada4-c28e3ffceffd",
   "metadata": {
    "editable": true,
    "slideshow": {
     "slide_type": ""
    },
    "tags": []
   },
   "source": [
    "## Identify concepts\n",
    "We start by creating a general question prompting the respondent (a language model) to identify concepts in a given text.\n",
    "\n",
    "EDSL comes with a variety of [question types](https://docs.expectedparrot.com/en/latest/questions.html) that we can choose from based on the form of the response that we want to get back from the model. `QuestionList` may be appropriate where we want the response to be formatted as a list of strings:"
   ]
  },
  {
   "cell_type": "code",
   "execution_count": 1,
   "id": "cd9d6fb3-a438-4612-ad64-eec8ddd8781e",
   "metadata": {
    "editable": true,
    "slideshow": {
     "slide_type": ""
    },
    "tags": []
   },
   "outputs": [],
   "source": [
    "from edsl import QuestionList\n",
    "\n",
    "q_concepts = QuestionList(\n",
    "    question_name=\"concepts\",\n",
    "    question_text=\"Identify the key concepts in the following text: {{ text }}\",\n",
    "    # max_list_items = # Optional\n",
    ")"
   ]
  },
  {
   "cell_type": "markdown",
   "id": "a1765671-99fb-4968-96da-bf7fd7dae52d",
   "metadata": {
    "editable": true,
    "slideshow": {
     "slide_type": ""
    },
    "tags": []
   },
   "source": [
    "We might also want to ask some other questions about our data at the same time (a data labeling task). For example:"
   ]
  },
  {
   "cell_type": "code",
   "execution_count": 2,
   "id": "42c8112e-3461-421b-b506-3221895a4079",
   "metadata": {
    "editable": true,
    "slideshow": {
     "slide_type": ""
    },
    "tags": []
   },
   "outputs": [],
   "source": [
    "from edsl import QuestionMultipleChoice\n",
    "\n",
    "q_sentiment = QuestionMultipleChoice(\n",
    "    question_name=\"sentiment\",\n",
    "    question_text=\"Identify the sentiment of this text: {{ text }}\",\n",
    "    question_options=[\"Negative\", \"Neutral\", \"Positive\"],\n",
    ")"
   ]
  },
  {
   "cell_type": "markdown",
   "id": "2bb43199-b610-46ab-b2eb-beb465ce2862",
   "metadata": {
    "editable": true,
    "slideshow": {
     "slide_type": ""
    },
    "tags": []
   },
   "source": [
    "We parameterize the questions in order to run them for each of our texts. This is done with `Scenario` objects that we create for our data (here, some recent tweets by Pres. Biden):"
   ]
  },
  {
   "cell_type": "code",
   "execution_count": 3,
   "id": "3ccd07bc-b658-434f-9689-2d08396c1080",
   "metadata": {
    "editable": true,
    "slideshow": {
     "slide_type": ""
    },
    "tags": []
   },
   "outputs": [
    {
     "data": {
      "text/plain": [
       "10"
      ]
     },
     "execution_count": 3,
     "metadata": {},
     "output_type": "execute_result"
    }
   ],
   "source": [
    "# Replace with your data\n",
    "texts = [  # POTUS recent tweets\n",
    "    \"Tune in as I deliver the keynote address at the U.S. Holocaust Memorial Museum’s Annual Days of Remembrance ceremony in Washington, D.C.\",\n",
    "    \"We’re a nation of immigrants. A nation of dreamers. And as Cinco de Mayo represents, a nation of freedom.\",\n",
    "    \"Medicare is stronger and Social Security remains strong. My economic plan has helped extend Medicare solvency by a decade. And I am committed to extending Social Security solvency by making the rich pay their fair share.\",\n",
    "    \"Today, the Army Black Knights are taking home West Point’s 10th Commander-in-Chief Trophy. They should be proud. I’m proud of them too – not for the wins, but because after every game they hang up their uniforms and put on another: one representing the United States.\",\n",
    "    \"This Holocaust Remembrance Day, we mourn the six million Jews who were killed by the Nazis during one of the darkest chapters in human history. And we recommit to heeding the lessons of the Shoah and realizing the responsibility of 'Never Again.'\",\n",
    "    \"The recipients of the Presidential Medal of Freedom haven't just kept faith in freedom. They kept all of America's faith in a better tomorrow.\",\n",
    "    \"Like Jill says, 'Teaching isn’t just a job. It’s a calling.' She knows that in her bones, and I know every educator who joined us at the White House for the first-ever Teacher State Dinner lives out that truth every day.\",\n",
    "    \"Jill and I send warm wishes to Orthodox Christian communities around the world as they celebrate Easter. May the Lord bless and keep you this Easter Sunday and in the year ahead.\",\n",
    "    \"Dreamers are our loved ones, nurses, teachers, and small business owners – they deserve the promise of health care just like all of us. Today, my Administration is making that real by expanding affordable health coverage through the Affordable Care Act to DACA recipients.\",\n",
    "    \"With today’s report of 175,000 new jobs, the American comeback continues. Congressional Republicans are fighting to cut taxes for billionaires and let special interests rip folks off, I'm focused on job creation and building an economy that works for the families I grew up with.\",\n",
    "]\n",
    "len(texts)"
   ]
  },
  {
   "cell_type": "code",
   "execution_count": 4,
   "id": "92e1ee90-8f1e-41eb-a3aa-3487ec8360e4",
   "metadata": {
    "editable": true,
    "slideshow": {
     "slide_type": ""
    },
    "tags": []
   },
   "outputs": [],
   "source": [
    "from edsl import ScenarioList\n",
    "\n",
    "scenarios = ScenarioList.from_list(\"text\", texts)\n",
    "# scenarios"
   ]
  },
  {
   "cell_type": "markdown",
   "id": "054c28bf-d4b9-45bd-8a74-090f78a0e8a6",
   "metadata": {
    "editable": true,
    "slideshow": {
     "slide_type": ""
    },
    "tags": []
   },
   "source": [
    "Next we combine the questions into a survey in order to administer them together (asynchronously by default, or according to any skip/stop rules or other logic that we want to add--learn more about `Survey` methods in our [documentation](https://docs.expectedparrot.com/en/latest/surveys.html)):"
   ]
  },
  {
   "cell_type": "code",
   "execution_count": 5,
   "id": "98df3e57-e0bb-4612-9f00-4d9b63a28c43",
   "metadata": {
    "editable": true,
    "slideshow": {
     "slide_type": ""
    },
    "tags": []
   },
   "outputs": [],
   "source": [
    "from edsl import Survey\n",
    "\n",
    "survey = Survey(questions=[q_concepts, q_sentiment])"
   ]
  },
  {
   "cell_type": "markdown",
   "id": "dcd603f0-1bc2-4e71-a23b-e5b45d7ba4e2",
   "metadata": {
    "editable": true,
    "slideshow": {
     "slide_type": ""
    },
    "tags": []
   },
   "source": [
    "We add the scenarios to the survey and then run it to generate a dataset of results:"
   ]
  },
  {
   "cell_type": "code",
   "execution_count": 6,
   "id": "8a5eaf93-f0eb-46a4-8cd1-f5afa8f7f335",
   "metadata": {
    "editable": true,
    "slideshow": {
     "slide_type": ""
    },
    "tags": []
   },
   "outputs": [],
   "source": [
    "results = survey.by(scenarios).run()"
   ]
  },
  {
   "cell_type": "markdown",
   "id": "e294ff21-7271-4657-bae3-b5a1c108f000",
   "metadata": {
    "editable": true,
    "slideshow": {
     "slide_type": ""
    },
    "tags": []
   },
   "source": [
    "EDSL comes with [built-in methods](https://docs.expectedparrot.com/en/latest/results.html) for working with results</a> in a variety of forms (data tables, SQL queries, dataframes, JSON, CSV). We can call the `columns` method to see a list of all the components that we can analyze:"
   ]
  },
  {
   "cell_type": "code",
   "execution_count": 7,
   "id": "e441d2a9-1886-43c2-9da9-486888e69dd1",
   "metadata": {
    "editable": true,
    "slideshow": {
     "slide_type": ""
    },
    "tags": []
   },
   "outputs": [
    {
     "data": {
      "text/plain": [
       "['agent.agent_instruction',\n",
       " 'agent.agent_name',\n",
       " 'answer.concepts',\n",
       " 'answer.sentiment',\n",
       " 'comment.k_comment',\n",
       " 'generated_tokens.concepts_generated_tokens',\n",
       " 'generated_tokens.sentiment_generated_tokens',\n",
       " 'iteration.iteration',\n",
       " 'model.frequency_penalty',\n",
       " 'model.logprobs',\n",
       " 'model.max_tokens',\n",
       " 'model.model',\n",
       " 'model.presence_penalty',\n",
       " 'model.temperature',\n",
       " 'model.top_logprobs',\n",
       " 'model.top_p',\n",
       " 'prompt.concepts_system_prompt',\n",
       " 'prompt.concepts_user_prompt',\n",
       " 'prompt.sentiment_system_prompt',\n",
       " 'prompt.sentiment_user_prompt',\n",
       " 'question_options.concepts_question_options',\n",
       " 'question_options.sentiment_question_options',\n",
       " 'question_text.concepts_question_text',\n",
       " 'question_text.sentiment_question_text',\n",
       " 'question_type.concepts_question_type',\n",
       " 'question_type.sentiment_question_type',\n",
       " 'raw_model_response.concepts_cost',\n",
       " 'raw_model_response.concepts_one_usd_buys',\n",
       " 'raw_model_response.concepts_raw_model_response',\n",
       " 'raw_model_response.sentiment_cost',\n",
       " 'raw_model_response.sentiment_one_usd_buys',\n",
       " 'raw_model_response.sentiment_raw_model_response',\n",
       " 'scenario.text']"
      ]
     },
     "execution_count": 7,
     "metadata": {},
     "output_type": "execute_result"
    }
   ],
   "source": [
    "results.columns"
   ]
  },
  {
   "cell_type": "markdown",
   "id": "7d03ca57-a616-43d7-a500-7969288fc70c",
   "metadata": {
    "editable": true,
    "slideshow": {
     "slide_type": ""
    },
    "tags": []
   },
   "source": [
    "We can select and print specific components to inspect in a table:"
   ]
  },
  {
   "cell_type": "code",
   "execution_count": 8,
   "id": "6fe9f5af-f06c-47c4-a9fe-abddbda62c9a",
   "metadata": {
    "editable": true,
    "slideshow": {
     "slide_type": ""
    },
    "tags": []
   },
   "outputs": [
    {
     "data": {
      "text/html": [
       "<pre style=\"white-space:pre;overflow-x:auto;line-height:normal;font-family:Menlo,'DejaVu Sans Mono',consolas,'Courier New',monospace\">┏━━━━━━━━━━━━━━━━━━━━━━━━━━━━━━━━━━━━━━━━━━━━━━━━━┳━━━━━━━━━━━━━━━━━━━━━━━━━━━━━━━━━━━━━━━━━━━━━━━━━━┳━━━━━━━━━━━━┓\n",
       "┃<span style=\"color: #800080; text-decoration-color: #800080; font-weight: bold\"> scenario                                        </span>┃<span style=\"color: #800080; text-decoration-color: #800080; font-weight: bold\"> answer                                           </span>┃<span style=\"color: #800080; text-decoration-color: #800080; font-weight: bold\"> answer     </span>┃\n",
       "┃<span style=\"color: #800080; text-decoration-color: #800080; font-weight: bold\"> .text                                           </span>┃<span style=\"color: #800080; text-decoration-color: #800080; font-weight: bold\"> .concepts                                        </span>┃<span style=\"color: #800080; text-decoration-color: #800080; font-weight: bold\"> .sentiment </span>┃\n",
       "┡━━━━━━━━━━━━━━━━━━━━━━━━━━━━━━━━━━━━━━━━━━━━━━━━━╇━━━━━━━━━━━━━━━━━━━━━━━━━━━━━━━━━━━━━━━━━━━━━━━━━━╇━━━━━━━━━━━━┩\n",
       "│<span style=\"color: #7f7f7f; text-decoration-color: #7f7f7f\"> With today’s report of 175,000 new jobs, the    </span>│<span style=\"color: #7f7f7f; text-decoration-color: #7f7f7f\"> ['175,000 new jobs', 'American comeback',        </span>│<span style=\"color: #7f7f7f; text-decoration-color: #7f7f7f\"> Positive   </span>│\n",
       "│<span style=\"color: #7f7f7f; text-decoration-color: #7f7f7f\"> American comeback continues. Congressional      </span>│<span style=\"color: #7f7f7f; text-decoration-color: #7f7f7f\"> 'Congressional Republicans', 'cut taxes for      </span>│<span style=\"color: #7f7f7f; text-decoration-color: #7f7f7f\">            </span>│\n",
       "│<span style=\"color: #7f7f7f; text-decoration-color: #7f7f7f\"> Republicans are fighting to cut taxes for       </span>│<span style=\"color: #7f7f7f; text-decoration-color: #7f7f7f\"> billionaires', 'special interests', 'job         </span>│<span style=\"color: #7f7f7f; text-decoration-color: #7f7f7f\">            </span>│\n",
       "│<span style=\"color: #7f7f7f; text-decoration-color: #7f7f7f\"> billionaires and let special interests rip      </span>│<span style=\"color: #7f7f7f; text-decoration-color: #7f7f7f\"> creation', 'economy that works for families']    </span>│<span style=\"color: #7f7f7f; text-decoration-color: #7f7f7f\">            </span>│\n",
       "│<span style=\"color: #7f7f7f; text-decoration-color: #7f7f7f\"> folks off, I'm focused on job creation and      </span>│<span style=\"color: #7f7f7f; text-decoration-color: #7f7f7f\">                                                  </span>│<span style=\"color: #7f7f7f; text-decoration-color: #7f7f7f\">            </span>│\n",
       "│<span style=\"color: #7f7f7f; text-decoration-color: #7f7f7f\"> building an economy that works for the families </span>│<span style=\"color: #7f7f7f; text-decoration-color: #7f7f7f\">                                                  </span>│<span style=\"color: #7f7f7f; text-decoration-color: #7f7f7f\">            </span>│\n",
       "│<span style=\"color: #7f7f7f; text-decoration-color: #7f7f7f\"> I grew up with.                                 </span>│<span style=\"color: #7f7f7f; text-decoration-color: #7f7f7f\">                                                  </span>│<span style=\"color: #7f7f7f; text-decoration-color: #7f7f7f\">            </span>│\n",
       "├─────────────────────────────────────────────────┼──────────────────────────────────────────────────┼────────────┤\n",
       "│<span style=\"color: #7f7f7f; text-decoration-color: #7f7f7f\"> Like Jill says, 'Teaching isn’t just a job.     </span>│<span style=\"color: #7f7f7f; text-decoration-color: #7f7f7f\"> ['Teaching is a calling', 'Jill', 'Teacher State </span>│<span style=\"color: #7f7f7f; text-decoration-color: #7f7f7f\"> Positive   </span>│\n",
       "│<span style=\"color: #7f7f7f; text-decoration-color: #7f7f7f\"> It’s a calling.' She knows that in her bones,   </span>│<span style=\"color: #7f7f7f; text-decoration-color: #7f7f7f\"> Dinner', 'White House', 'educator']              </span>│<span style=\"color: #7f7f7f; text-decoration-color: #7f7f7f\">            </span>│\n",
       "│<span style=\"color: #7f7f7f; text-decoration-color: #7f7f7f\"> and I know every educator who joined us at the  </span>│<span style=\"color: #7f7f7f; text-decoration-color: #7f7f7f\">                                                  </span>│<span style=\"color: #7f7f7f; text-decoration-color: #7f7f7f\">            </span>│\n",
       "│<span style=\"color: #7f7f7f; text-decoration-color: #7f7f7f\"> White House for the first-ever Teacher State    </span>│<span style=\"color: #7f7f7f; text-decoration-color: #7f7f7f\">                                                  </span>│<span style=\"color: #7f7f7f; text-decoration-color: #7f7f7f\">            </span>│\n",
       "│<span style=\"color: #7f7f7f; text-decoration-color: #7f7f7f\"> Dinner lives out that truth every day.          </span>│<span style=\"color: #7f7f7f; text-decoration-color: #7f7f7f\">                                                  </span>│<span style=\"color: #7f7f7f; text-decoration-color: #7f7f7f\">            </span>│\n",
       "├─────────────────────────────────────────────────┼──────────────────────────────────────────────────┼────────────┤\n",
       "│<span style=\"color: #7f7f7f; text-decoration-color: #7f7f7f\"> Jill and I send warm wishes to Orthodox         </span>│<span style=\"color: #7f7f7f; text-decoration-color: #7f7f7f\"> ['Jill', 'Orthodox Christian communities',       </span>│<span style=\"color: #7f7f7f; text-decoration-color: #7f7f7f\"> Positive   </span>│\n",
       "│<span style=\"color: #7f7f7f; text-decoration-color: #7f7f7f\"> Christian communities around the world as they  </span>│<span style=\"color: #7f7f7f; text-decoration-color: #7f7f7f\"> 'Easter', 'Lord bless', 'Easter Sunday', 'year   </span>│<span style=\"color: #7f7f7f; text-decoration-color: #7f7f7f\">            </span>│\n",
       "│<span style=\"color: #7f7f7f; text-decoration-color: #7f7f7f\"> celebrate Easter. May the Lord bless and keep   </span>│<span style=\"color: #7f7f7f; text-decoration-color: #7f7f7f\"> ahead']                                          </span>│<span style=\"color: #7f7f7f; text-decoration-color: #7f7f7f\">            </span>│\n",
       "│<span style=\"color: #7f7f7f; text-decoration-color: #7f7f7f\"> you this Easter Sunday and in the year ahead.   </span>│<span style=\"color: #7f7f7f; text-decoration-color: #7f7f7f\">                                                  </span>│<span style=\"color: #7f7f7f; text-decoration-color: #7f7f7f\">            </span>│\n",
       "├─────────────────────────────────────────────────┼──────────────────────────────────────────────────┼────────────┤\n",
       "│<span style=\"color: #7f7f7f; text-decoration-color: #7f7f7f\"> Dreamers are our loved ones, nurses, teachers,  </span>│<span style=\"color: #7f7f7f; text-decoration-color: #7f7f7f\"> ['Dreamers', 'health care', 'Affordable Care     </span>│<span style=\"color: #7f7f7f; text-decoration-color: #7f7f7f\"> Positive   </span>│\n",
       "│<span style=\"color: #7f7f7f; text-decoration-color: #7f7f7f\"> and small business owners – they deserve the    </span>│<span style=\"color: #7f7f7f; text-decoration-color: #7f7f7f\"> Act', 'DACA recipients']                         </span>│<span style=\"color: #7f7f7f; text-decoration-color: #7f7f7f\">            </span>│\n",
       "│<span style=\"color: #7f7f7f; text-decoration-color: #7f7f7f\"> promise of health care just like all of us.     </span>│<span style=\"color: #7f7f7f; text-decoration-color: #7f7f7f\">                                                  </span>│<span style=\"color: #7f7f7f; text-decoration-color: #7f7f7f\">            </span>│\n",
       "│<span style=\"color: #7f7f7f; text-decoration-color: #7f7f7f\"> Today, my Administration is making that real by </span>│<span style=\"color: #7f7f7f; text-decoration-color: #7f7f7f\">                                                  </span>│<span style=\"color: #7f7f7f; text-decoration-color: #7f7f7f\">            </span>│\n",
       "│<span style=\"color: #7f7f7f; text-decoration-color: #7f7f7f\"> expanding affordable health coverage through    </span>│<span style=\"color: #7f7f7f; text-decoration-color: #7f7f7f\">                                                  </span>│<span style=\"color: #7f7f7f; text-decoration-color: #7f7f7f\">            </span>│\n",
       "│<span style=\"color: #7f7f7f; text-decoration-color: #7f7f7f\"> the Affordable Care Act to DACA recipients.     </span>│<span style=\"color: #7f7f7f; text-decoration-color: #7f7f7f\">                                                  </span>│<span style=\"color: #7f7f7f; text-decoration-color: #7f7f7f\">            </span>│\n",
       "├─────────────────────────────────────────────────┼──────────────────────────────────────────────────┼────────────┤\n",
       "│<span style=\"color: #7f7f7f; text-decoration-color: #7f7f7f\"> The recipients of the Presidential Medal of     </span>│<span style=\"color: #7f7f7f; text-decoration-color: #7f7f7f\"> ['Presidential Medal of Freedom', 'faith in      </span>│<span style=\"color: #7f7f7f; text-decoration-color: #7f7f7f\"> Positive   </span>│\n",
       "│<span style=\"color: #7f7f7f; text-decoration-color: #7f7f7f\"> Freedom haven't just kept faith in freedom.     </span>│<span style=\"color: #7f7f7f; text-decoration-color: #7f7f7f\"> freedom', \"America's faith\", 'better tomorrow']  </span>│<span style=\"color: #7f7f7f; text-decoration-color: #7f7f7f\">            </span>│\n",
       "│<span style=\"color: #7f7f7f; text-decoration-color: #7f7f7f\"> They kept all of America's faith in a better    </span>│<span style=\"color: #7f7f7f; text-decoration-color: #7f7f7f\">                                                  </span>│<span style=\"color: #7f7f7f; text-decoration-color: #7f7f7f\">            </span>│\n",
       "│<span style=\"color: #7f7f7f; text-decoration-color: #7f7f7f\"> tomorrow.                                       </span>│<span style=\"color: #7f7f7f; text-decoration-color: #7f7f7f\">                                                  </span>│<span style=\"color: #7f7f7f; text-decoration-color: #7f7f7f\">            </span>│\n",
       "├─────────────────────────────────────────────────┼──────────────────────────────────────────────────┼────────────┤\n",
       "│<span style=\"color: #7f7f7f; text-decoration-color: #7f7f7f\"> This Holocaust Remembrance Day, we mourn the    </span>│<span style=\"color: #7f7f7f; text-decoration-color: #7f7f7f\"> ['Holocaust Remembrance Day', 'six million       </span>│<span style=\"color: #7f7f7f; text-decoration-color: #7f7f7f\"> Neutral    </span>│\n",
       "│<span style=\"color: #7f7f7f; text-decoration-color: #7f7f7f\"> six million Jews who were killed by the Nazis   </span>│<span style=\"color: #7f7f7f; text-decoration-color: #7f7f7f\"> Jews', 'Nazis', 'darkest chapters in human       </span>│<span style=\"color: #7f7f7f; text-decoration-color: #7f7f7f\">            </span>│\n",
       "│<span style=\"color: #7f7f7f; text-decoration-color: #7f7f7f\"> during one of the darkest chapters in human     </span>│<span style=\"color: #7f7f7f; text-decoration-color: #7f7f7f\"> history', 'Shoah', 'Never Again']                </span>│<span style=\"color: #7f7f7f; text-decoration-color: #7f7f7f\">            </span>│\n",
       "│<span style=\"color: #7f7f7f; text-decoration-color: #7f7f7f\"> history. And we recommit to heeding the lessons </span>│<span style=\"color: #7f7f7f; text-decoration-color: #7f7f7f\">                                                  </span>│<span style=\"color: #7f7f7f; text-decoration-color: #7f7f7f\">            </span>│\n",
       "│<span style=\"color: #7f7f7f; text-decoration-color: #7f7f7f\"> of the Shoah and realizing the responsibility   </span>│<span style=\"color: #7f7f7f; text-decoration-color: #7f7f7f\">                                                  </span>│<span style=\"color: #7f7f7f; text-decoration-color: #7f7f7f\">            </span>│\n",
       "│<span style=\"color: #7f7f7f; text-decoration-color: #7f7f7f\"> of 'Never Again.'                               </span>│<span style=\"color: #7f7f7f; text-decoration-color: #7f7f7f\">                                                  </span>│<span style=\"color: #7f7f7f; text-decoration-color: #7f7f7f\">            </span>│\n",
       "├─────────────────────────────────────────────────┼──────────────────────────────────────────────────┼────────────┤\n",
       "│<span style=\"color: #7f7f7f; text-decoration-color: #7f7f7f\"> Medicare is stronger and Social Security        </span>│<span style=\"color: #7f7f7f; text-decoration-color: #7f7f7f\"> ['Medicare', 'Social Security', 'economic plan', </span>│<span style=\"color: #7f7f7f; text-decoration-color: #7f7f7f\"> Positive   </span>│\n",
       "│<span style=\"color: #7f7f7f; text-decoration-color: #7f7f7f\"> remains strong. My economic plan has helped     </span>│<span style=\"color: #7f7f7f; text-decoration-color: #7f7f7f\"> 'Medicare solvency', 'Social Security solvency', </span>│<span style=\"color: #7f7f7f; text-decoration-color: #7f7f7f\">            </span>│\n",
       "│<span style=\"color: #7f7f7f; text-decoration-color: #7f7f7f\"> extend Medicare solvency by a decade. And I am  </span>│<span style=\"color: #7f7f7f; text-decoration-color: #7f7f7f\"> 'rich pay their fair share']                     </span>│<span style=\"color: #7f7f7f; text-decoration-color: #7f7f7f\">            </span>│\n",
       "│<span style=\"color: #7f7f7f; text-decoration-color: #7f7f7f\"> committed to extending Social Security solvency </span>│<span style=\"color: #7f7f7f; text-decoration-color: #7f7f7f\">                                                  </span>│<span style=\"color: #7f7f7f; text-decoration-color: #7f7f7f\">            </span>│\n",
       "│<span style=\"color: #7f7f7f; text-decoration-color: #7f7f7f\"> by making the rich pay their fair share.        </span>│<span style=\"color: #7f7f7f; text-decoration-color: #7f7f7f\">                                                  </span>│<span style=\"color: #7f7f7f; text-decoration-color: #7f7f7f\">            </span>│\n",
       "├─────────────────────────────────────────────────┼──────────────────────────────────────────────────┼────────────┤\n",
       "│<span style=\"color: #7f7f7f; text-decoration-color: #7f7f7f\"> Today, the Army Black Knights are taking home   </span>│<span style=\"color: #7f7f7f; text-decoration-color: #7f7f7f\"> ['Army Black Knights', 'West Point', '10th       </span>│<span style=\"color: #7f7f7f; text-decoration-color: #7f7f7f\"> Positive   </span>│\n",
       "│<span style=\"color: #7f7f7f; text-decoration-color: #7f7f7f\"> West Point’s 10th Commander-in-Chief Trophy.    </span>│<span style=\"color: #7f7f7f; text-decoration-color: #7f7f7f\"> Commander-in-Chief Trophy', 'pride', 'United     </span>│<span style=\"color: #7f7f7f; text-decoration-color: #7f7f7f\">            </span>│\n",
       "│<span style=\"color: #7f7f7f; text-decoration-color: #7f7f7f\"> They should be proud. I’m proud of them too –   </span>│<span style=\"color: #7f7f7f; text-decoration-color: #7f7f7f\"> States']                                         </span>│<span style=\"color: #7f7f7f; text-decoration-color: #7f7f7f\">            </span>│\n",
       "│<span style=\"color: #7f7f7f; text-decoration-color: #7f7f7f\"> not for the wins, but because after every game  </span>│<span style=\"color: #7f7f7f; text-decoration-color: #7f7f7f\">                                                  </span>│<span style=\"color: #7f7f7f; text-decoration-color: #7f7f7f\">            </span>│\n",
       "│<span style=\"color: #7f7f7f; text-decoration-color: #7f7f7f\"> they hang up their uniforms and put on another: </span>│<span style=\"color: #7f7f7f; text-decoration-color: #7f7f7f\">                                                  </span>│<span style=\"color: #7f7f7f; text-decoration-color: #7f7f7f\">            </span>│\n",
       "│<span style=\"color: #7f7f7f; text-decoration-color: #7f7f7f\"> one representing the United States.             </span>│<span style=\"color: #7f7f7f; text-decoration-color: #7f7f7f\">                                                  </span>│<span style=\"color: #7f7f7f; text-decoration-color: #7f7f7f\">            </span>│\n",
       "├─────────────────────────────────────────────────┼──────────────────────────────────────────────────┼────────────┤\n",
       "│<span style=\"color: #7f7f7f; text-decoration-color: #7f7f7f\"> We’re a nation of immigrants. A nation of       </span>│<span style=\"color: #7f7f7f; text-decoration-color: #7f7f7f\"> ['nation of immigrants', 'nation of dreamers',   </span>│<span style=\"color: #7f7f7f; text-decoration-color: #7f7f7f\"> Positive   </span>│\n",
       "│<span style=\"color: #7f7f7f; text-decoration-color: #7f7f7f\"> dreamers. And as Cinco de Mayo represents, a    </span>│<span style=\"color: #7f7f7f; text-decoration-color: #7f7f7f\"> 'Cinco de Mayo', 'nation of freedom']            </span>│<span style=\"color: #7f7f7f; text-decoration-color: #7f7f7f\">            </span>│\n",
       "│<span style=\"color: #7f7f7f; text-decoration-color: #7f7f7f\"> nation of freedom.                              </span>│<span style=\"color: #7f7f7f; text-decoration-color: #7f7f7f\">                                                  </span>│<span style=\"color: #7f7f7f; text-decoration-color: #7f7f7f\">            </span>│\n",
       "├─────────────────────────────────────────────────┼──────────────────────────────────────────────────┼────────────┤\n",
       "│<span style=\"color: #7f7f7f; text-decoration-color: #7f7f7f\"> Tune in as I deliver the keynote address at the </span>│<span style=\"color: #7f7f7f; text-decoration-color: #7f7f7f\"> ['keynote address', 'U.S. Holocaust Memorial     </span>│<span style=\"color: #7f7f7f; text-decoration-color: #7f7f7f\"> Neutral    </span>│\n",
       "│<span style=\"color: #7f7f7f; text-decoration-color: #7f7f7f\"> U.S. Holocaust Memorial Museum’s Annual Days of </span>│<span style=\"color: #7f7f7f; text-decoration-color: #7f7f7f\"> Museum', 'Annual Days of Remembrance',           </span>│<span style=\"color: #7f7f7f; text-decoration-color: #7f7f7f\">            </span>│\n",
       "│<span style=\"color: #7f7f7f; text-decoration-color: #7f7f7f\"> Remembrance ceremony in Washington, D.C.        </span>│<span style=\"color: #7f7f7f; text-decoration-color: #7f7f7f\"> 'Washington, D.C.']                              </span>│<span style=\"color: #7f7f7f; text-decoration-color: #7f7f7f\">            </span>│\n",
       "└─────────────────────────────────────────────────┴──────────────────────────────────────────────────┴────────────┘\n",
       "</pre>\n"
      ],
      "text/plain": [
       "┏━━━━━━━━━━━━━━━━━━━━━━━━━━━━━━━━━━━━━━━━━━━━━━━━━┳━━━━━━━━━━━━━━━━━━━━━━━━━━━━━━━━━━━━━━━━━━━━━━━━━━┳━━━━━━━━━━━━┓\n",
       "┃\u001b[1;35m \u001b[0m\u001b[1;35mscenario                                       \u001b[0m\u001b[1;35m \u001b[0m┃\u001b[1;35m \u001b[0m\u001b[1;35manswer                                          \u001b[0m\u001b[1;35m \u001b[0m┃\u001b[1;35m \u001b[0m\u001b[1;35manswer    \u001b[0m\u001b[1;35m \u001b[0m┃\n",
       "┃\u001b[1;35m \u001b[0m\u001b[1;35m.text                                          \u001b[0m\u001b[1;35m \u001b[0m┃\u001b[1;35m \u001b[0m\u001b[1;35m.concepts                                       \u001b[0m\u001b[1;35m \u001b[0m┃\u001b[1;35m \u001b[0m\u001b[1;35m.sentiment\u001b[0m\u001b[1;35m \u001b[0m┃\n",
       "┡━━━━━━━━━━━━━━━━━━━━━━━━━━━━━━━━━━━━━━━━━━━━━━━━━╇━━━━━━━━━━━━━━━━━━━━━━━━━━━━━━━━━━━━━━━━━━━━━━━━━━╇━━━━━━━━━━━━┩\n",
       "│\u001b[2m \u001b[0m\u001b[2mWith today’s report of 175,000 new jobs, the   \u001b[0m\u001b[2m \u001b[0m│\u001b[2m \u001b[0m\u001b[2m['175,000 new jobs', 'American comeback',       \u001b[0m\u001b[2m \u001b[0m│\u001b[2m \u001b[0m\u001b[2mPositive  \u001b[0m\u001b[2m \u001b[0m│\n",
       "│\u001b[2m \u001b[0m\u001b[2mAmerican comeback continues. Congressional     \u001b[0m\u001b[2m \u001b[0m│\u001b[2m \u001b[0m\u001b[2m'Congressional Republicans', 'cut taxes for     \u001b[0m\u001b[2m \u001b[0m│\u001b[2m            \u001b[0m│\n",
       "│\u001b[2m \u001b[0m\u001b[2mRepublicans are fighting to cut taxes for      \u001b[0m\u001b[2m \u001b[0m│\u001b[2m \u001b[0m\u001b[2mbillionaires', 'special interests', 'job        \u001b[0m\u001b[2m \u001b[0m│\u001b[2m            \u001b[0m│\n",
       "│\u001b[2m \u001b[0m\u001b[2mbillionaires and let special interests rip     \u001b[0m\u001b[2m \u001b[0m│\u001b[2m \u001b[0m\u001b[2mcreation', 'economy that works for families']   \u001b[0m\u001b[2m \u001b[0m│\u001b[2m            \u001b[0m│\n",
       "│\u001b[2m \u001b[0m\u001b[2mfolks off, I'm focused on job creation and     \u001b[0m\u001b[2m \u001b[0m│\u001b[2m                                                  \u001b[0m│\u001b[2m            \u001b[0m│\n",
       "│\u001b[2m \u001b[0m\u001b[2mbuilding an economy that works for the families\u001b[0m\u001b[2m \u001b[0m│\u001b[2m                                                  \u001b[0m│\u001b[2m            \u001b[0m│\n",
       "│\u001b[2m \u001b[0m\u001b[2mI grew up with.                                \u001b[0m\u001b[2m \u001b[0m│\u001b[2m                                                  \u001b[0m│\u001b[2m            \u001b[0m│\n",
       "├─────────────────────────────────────────────────┼──────────────────────────────────────────────────┼────────────┤\n",
       "│\u001b[2m \u001b[0m\u001b[2mLike Jill says, 'Teaching isn’t just a job.    \u001b[0m\u001b[2m \u001b[0m│\u001b[2m \u001b[0m\u001b[2m['Teaching is a calling', 'Jill', 'Teacher State\u001b[0m\u001b[2m \u001b[0m│\u001b[2m \u001b[0m\u001b[2mPositive  \u001b[0m\u001b[2m \u001b[0m│\n",
       "│\u001b[2m \u001b[0m\u001b[2mIt’s a calling.' She knows that in her bones,  \u001b[0m\u001b[2m \u001b[0m│\u001b[2m \u001b[0m\u001b[2mDinner', 'White House', 'educator']             \u001b[0m\u001b[2m \u001b[0m│\u001b[2m            \u001b[0m│\n",
       "│\u001b[2m \u001b[0m\u001b[2mand I know every educator who joined us at the \u001b[0m\u001b[2m \u001b[0m│\u001b[2m                                                  \u001b[0m│\u001b[2m            \u001b[0m│\n",
       "│\u001b[2m \u001b[0m\u001b[2mWhite House for the first-ever Teacher State   \u001b[0m\u001b[2m \u001b[0m│\u001b[2m                                                  \u001b[0m│\u001b[2m            \u001b[0m│\n",
       "│\u001b[2m \u001b[0m\u001b[2mDinner lives out that truth every day.         \u001b[0m\u001b[2m \u001b[0m│\u001b[2m                                                  \u001b[0m│\u001b[2m            \u001b[0m│\n",
       "├─────────────────────────────────────────────────┼──────────────────────────────────────────────────┼────────────┤\n",
       "│\u001b[2m \u001b[0m\u001b[2mJill and I send warm wishes to Orthodox        \u001b[0m\u001b[2m \u001b[0m│\u001b[2m \u001b[0m\u001b[2m['Jill', 'Orthodox Christian communities',      \u001b[0m\u001b[2m \u001b[0m│\u001b[2m \u001b[0m\u001b[2mPositive  \u001b[0m\u001b[2m \u001b[0m│\n",
       "│\u001b[2m \u001b[0m\u001b[2mChristian communities around the world as they \u001b[0m\u001b[2m \u001b[0m│\u001b[2m \u001b[0m\u001b[2m'Easter', 'Lord bless', 'Easter Sunday', 'year  \u001b[0m\u001b[2m \u001b[0m│\u001b[2m            \u001b[0m│\n",
       "│\u001b[2m \u001b[0m\u001b[2mcelebrate Easter. May the Lord bless and keep  \u001b[0m\u001b[2m \u001b[0m│\u001b[2m \u001b[0m\u001b[2mahead']                                         \u001b[0m\u001b[2m \u001b[0m│\u001b[2m            \u001b[0m│\n",
       "│\u001b[2m \u001b[0m\u001b[2myou this Easter Sunday and in the year ahead.  \u001b[0m\u001b[2m \u001b[0m│\u001b[2m                                                  \u001b[0m│\u001b[2m            \u001b[0m│\n",
       "├─────────────────────────────────────────────────┼──────────────────────────────────────────────────┼────────────┤\n",
       "│\u001b[2m \u001b[0m\u001b[2mDreamers are our loved ones, nurses, teachers, \u001b[0m\u001b[2m \u001b[0m│\u001b[2m \u001b[0m\u001b[2m['Dreamers', 'health care', 'Affordable Care    \u001b[0m\u001b[2m \u001b[0m│\u001b[2m \u001b[0m\u001b[2mPositive  \u001b[0m\u001b[2m \u001b[0m│\n",
       "│\u001b[2m \u001b[0m\u001b[2mand small business owners – they deserve the   \u001b[0m\u001b[2m \u001b[0m│\u001b[2m \u001b[0m\u001b[2mAct', 'DACA recipients']                        \u001b[0m\u001b[2m \u001b[0m│\u001b[2m            \u001b[0m│\n",
       "│\u001b[2m \u001b[0m\u001b[2mpromise of health care just like all of us.    \u001b[0m\u001b[2m \u001b[0m│\u001b[2m                                                  \u001b[0m│\u001b[2m            \u001b[0m│\n",
       "│\u001b[2m \u001b[0m\u001b[2mToday, my Administration is making that real by\u001b[0m\u001b[2m \u001b[0m│\u001b[2m                                                  \u001b[0m│\u001b[2m            \u001b[0m│\n",
       "│\u001b[2m \u001b[0m\u001b[2mexpanding affordable health coverage through   \u001b[0m\u001b[2m \u001b[0m│\u001b[2m                                                  \u001b[0m│\u001b[2m            \u001b[0m│\n",
       "│\u001b[2m \u001b[0m\u001b[2mthe Affordable Care Act to DACA recipients.    \u001b[0m\u001b[2m \u001b[0m│\u001b[2m                                                  \u001b[0m│\u001b[2m            \u001b[0m│\n",
       "├─────────────────────────────────────────────────┼──────────────────────────────────────────────────┼────────────┤\n",
       "│\u001b[2m \u001b[0m\u001b[2mThe recipients of the Presidential Medal of    \u001b[0m\u001b[2m \u001b[0m│\u001b[2m \u001b[0m\u001b[2m['Presidential Medal of Freedom', 'faith in     \u001b[0m\u001b[2m \u001b[0m│\u001b[2m \u001b[0m\u001b[2mPositive  \u001b[0m\u001b[2m \u001b[0m│\n",
       "│\u001b[2m \u001b[0m\u001b[2mFreedom haven't just kept faith in freedom.    \u001b[0m\u001b[2m \u001b[0m│\u001b[2m \u001b[0m\u001b[2mfreedom', \"America's faith\", 'better tomorrow'] \u001b[0m\u001b[2m \u001b[0m│\u001b[2m            \u001b[0m│\n",
       "│\u001b[2m \u001b[0m\u001b[2mThey kept all of America's faith in a better   \u001b[0m\u001b[2m \u001b[0m│\u001b[2m                                                  \u001b[0m│\u001b[2m            \u001b[0m│\n",
       "│\u001b[2m \u001b[0m\u001b[2mtomorrow.                                      \u001b[0m\u001b[2m \u001b[0m│\u001b[2m                                                  \u001b[0m│\u001b[2m            \u001b[0m│\n",
       "├─────────────────────────────────────────────────┼──────────────────────────────────────────────────┼────────────┤\n",
       "│\u001b[2m \u001b[0m\u001b[2mThis Holocaust Remembrance Day, we mourn the   \u001b[0m\u001b[2m \u001b[0m│\u001b[2m \u001b[0m\u001b[2m['Holocaust Remembrance Day', 'six million      \u001b[0m\u001b[2m \u001b[0m│\u001b[2m \u001b[0m\u001b[2mNeutral   \u001b[0m\u001b[2m \u001b[0m│\n",
       "│\u001b[2m \u001b[0m\u001b[2msix million Jews who were killed by the Nazis  \u001b[0m\u001b[2m \u001b[0m│\u001b[2m \u001b[0m\u001b[2mJews', 'Nazis', 'darkest chapters in human      \u001b[0m\u001b[2m \u001b[0m│\u001b[2m            \u001b[0m│\n",
       "│\u001b[2m \u001b[0m\u001b[2mduring one of the darkest chapters in human    \u001b[0m\u001b[2m \u001b[0m│\u001b[2m \u001b[0m\u001b[2mhistory', 'Shoah', 'Never Again']               \u001b[0m\u001b[2m \u001b[0m│\u001b[2m            \u001b[0m│\n",
       "│\u001b[2m \u001b[0m\u001b[2mhistory. And we recommit to heeding the lessons\u001b[0m\u001b[2m \u001b[0m│\u001b[2m                                                  \u001b[0m│\u001b[2m            \u001b[0m│\n",
       "│\u001b[2m \u001b[0m\u001b[2mof the Shoah and realizing the responsibility  \u001b[0m\u001b[2m \u001b[0m│\u001b[2m                                                  \u001b[0m│\u001b[2m            \u001b[0m│\n",
       "│\u001b[2m \u001b[0m\u001b[2mof 'Never Again.'                              \u001b[0m\u001b[2m \u001b[0m│\u001b[2m                                                  \u001b[0m│\u001b[2m            \u001b[0m│\n",
       "├─────────────────────────────────────────────────┼──────────────────────────────────────────────────┼────────────┤\n",
       "│\u001b[2m \u001b[0m\u001b[2mMedicare is stronger and Social Security       \u001b[0m\u001b[2m \u001b[0m│\u001b[2m \u001b[0m\u001b[2m['Medicare', 'Social Security', 'economic plan',\u001b[0m\u001b[2m \u001b[0m│\u001b[2m \u001b[0m\u001b[2mPositive  \u001b[0m\u001b[2m \u001b[0m│\n",
       "│\u001b[2m \u001b[0m\u001b[2mremains strong. My economic plan has helped    \u001b[0m\u001b[2m \u001b[0m│\u001b[2m \u001b[0m\u001b[2m'Medicare solvency', 'Social Security solvency',\u001b[0m\u001b[2m \u001b[0m│\u001b[2m            \u001b[0m│\n",
       "│\u001b[2m \u001b[0m\u001b[2mextend Medicare solvency by a decade. And I am \u001b[0m\u001b[2m \u001b[0m│\u001b[2m \u001b[0m\u001b[2m'rich pay their fair share']                    \u001b[0m\u001b[2m \u001b[0m│\u001b[2m            \u001b[0m│\n",
       "│\u001b[2m \u001b[0m\u001b[2mcommitted to extending Social Security solvency\u001b[0m\u001b[2m \u001b[0m│\u001b[2m                                                  \u001b[0m│\u001b[2m            \u001b[0m│\n",
       "│\u001b[2m \u001b[0m\u001b[2mby making the rich pay their fair share.       \u001b[0m\u001b[2m \u001b[0m│\u001b[2m                                                  \u001b[0m│\u001b[2m            \u001b[0m│\n",
       "├─────────────────────────────────────────────────┼──────────────────────────────────────────────────┼────────────┤\n",
       "│\u001b[2m \u001b[0m\u001b[2mToday, the Army Black Knights are taking home  \u001b[0m\u001b[2m \u001b[0m│\u001b[2m \u001b[0m\u001b[2m['Army Black Knights', 'West Point', '10th      \u001b[0m\u001b[2m \u001b[0m│\u001b[2m \u001b[0m\u001b[2mPositive  \u001b[0m\u001b[2m \u001b[0m│\n",
       "│\u001b[2m \u001b[0m\u001b[2mWest Point’s 10th Commander-in-Chief Trophy.   \u001b[0m\u001b[2m \u001b[0m│\u001b[2m \u001b[0m\u001b[2mCommander-in-Chief Trophy', 'pride', 'United    \u001b[0m\u001b[2m \u001b[0m│\u001b[2m            \u001b[0m│\n",
       "│\u001b[2m \u001b[0m\u001b[2mThey should be proud. I’m proud of them too –  \u001b[0m\u001b[2m \u001b[0m│\u001b[2m \u001b[0m\u001b[2mStates']                                        \u001b[0m\u001b[2m \u001b[0m│\u001b[2m            \u001b[0m│\n",
       "│\u001b[2m \u001b[0m\u001b[2mnot for the wins, but because after every game \u001b[0m\u001b[2m \u001b[0m│\u001b[2m                                                  \u001b[0m│\u001b[2m            \u001b[0m│\n",
       "│\u001b[2m \u001b[0m\u001b[2mthey hang up their uniforms and put on another:\u001b[0m\u001b[2m \u001b[0m│\u001b[2m                                                  \u001b[0m│\u001b[2m            \u001b[0m│\n",
       "│\u001b[2m \u001b[0m\u001b[2mone representing the United States.            \u001b[0m\u001b[2m \u001b[0m│\u001b[2m                                                  \u001b[0m│\u001b[2m            \u001b[0m│\n",
       "├─────────────────────────────────────────────────┼──────────────────────────────────────────────────┼────────────┤\n",
       "│\u001b[2m \u001b[0m\u001b[2mWe’re a nation of immigrants. A nation of      \u001b[0m\u001b[2m \u001b[0m│\u001b[2m \u001b[0m\u001b[2m['nation of immigrants', 'nation of dreamers',  \u001b[0m\u001b[2m \u001b[0m│\u001b[2m \u001b[0m\u001b[2mPositive  \u001b[0m\u001b[2m \u001b[0m│\n",
       "│\u001b[2m \u001b[0m\u001b[2mdreamers. And as Cinco de Mayo represents, a   \u001b[0m\u001b[2m \u001b[0m│\u001b[2m \u001b[0m\u001b[2m'Cinco de Mayo', 'nation of freedom']           \u001b[0m\u001b[2m \u001b[0m│\u001b[2m            \u001b[0m│\n",
       "│\u001b[2m \u001b[0m\u001b[2mnation of freedom.                             \u001b[0m\u001b[2m \u001b[0m│\u001b[2m                                                  \u001b[0m│\u001b[2m            \u001b[0m│\n",
       "├─────────────────────────────────────────────────┼──────────────────────────────────────────────────┼────────────┤\n",
       "│\u001b[2m \u001b[0m\u001b[2mTune in as I deliver the keynote address at the\u001b[0m\u001b[2m \u001b[0m│\u001b[2m \u001b[0m\u001b[2m['keynote address', 'U.S. Holocaust Memorial    \u001b[0m\u001b[2m \u001b[0m│\u001b[2m \u001b[0m\u001b[2mNeutral   \u001b[0m\u001b[2m \u001b[0m│\n",
       "│\u001b[2m \u001b[0m\u001b[2mU.S. Holocaust Memorial Museum’s Annual Days of\u001b[0m\u001b[2m \u001b[0m│\u001b[2m \u001b[0m\u001b[2mMuseum', 'Annual Days of Remembrance',          \u001b[0m\u001b[2m \u001b[0m│\u001b[2m            \u001b[0m│\n",
       "│\u001b[2m \u001b[0m\u001b[2mRemembrance ceremony in Washington, D.C.       \u001b[0m\u001b[2m \u001b[0m│\u001b[2m \u001b[0m\u001b[2m'Washington, D.C.']                             \u001b[0m\u001b[2m \u001b[0m│\u001b[2m            \u001b[0m│\n",
       "└─────────────────────────────────────────────────┴──────────────────────────────────────────────────┴────────────┘\n"
      ]
     },
     "metadata": {},
     "output_type": "display_data"
    }
   ],
   "source": [
    "results.select(\"text\", \"concepts\", \"sentiment\").print(format=\"rich\")"
   ]
  },
  {
   "cell_type": "markdown",
   "id": "5e1abcd5-4e84-438b-b7aa-d06608c1b463",
   "metadata": {
    "editable": true,
    "slideshow": {
     "slide_type": ""
    },
    "tags": []
   },
   "source": [
    "If our concepts lists are too long, we can run another question prompting a model to condense it. We can specify the number of concepts that we want to get:"
   ]
  },
  {
   "cell_type": "code",
   "execution_count": 9,
   "id": "8d9918dc-0096-4e51-b2ff-0d11d766511c",
   "metadata": {
    "editable": true,
    "slideshow": {
     "slide_type": ""
    },
    "tags": []
   },
   "outputs": [],
   "source": [
    "# Flattening our list of lists for all the texts to use in a follow-on question:\n",
    "concepts_list = results.select(\"concepts\").to_list(flatten=True)\n",
    "# concepts_list"
   ]
  },
  {
   "cell_type": "code",
   "execution_count": 10,
   "id": "dfdc75b6-96ca-4150-88ff-efffa5ba0001",
   "metadata": {
    "editable": true,
    "slideshow": {
     "slide_type": ""
    },
    "tags": []
   },
   "outputs": [],
   "source": [
    "q_condense = QuestionList(\n",
    "    question_name=\"condense\",\n",
    "    question_text=\"Return a condensed list of the following list of concepts: \"\n",
    "    + \", \".join(concepts_list),\n",
    "    max_list_items=10,\n",
    ")"
   ]
  },
  {
   "cell_type": "markdown",
   "id": "5925616e-a982-4100-a258-c1f5e12b1ef6",
   "metadata": {
    "editable": true,
    "slideshow": {
     "slide_type": ""
    },
    "tags": []
   },
   "source": [
    "Note that we can call the `run()` method on either a survey of questions or an individual question:"
   ]
  },
  {
   "cell_type": "code",
   "execution_count": 11,
   "id": "c64b8d8a-9ce3-4611-9622-059e03a6644d",
   "metadata": {
    "editable": true,
    "slideshow": {
     "slide_type": ""
    },
    "tags": []
   },
   "outputs": [],
   "source": [
    "results = q_condense.run()"
   ]
  },
  {
   "cell_type": "code",
   "execution_count": 12,
   "id": "68b7717a-d62a-43e2-83a7-efbf76fd400d",
   "metadata": {
    "editable": true,
    "slideshow": {
     "slide_type": ""
    },
    "tags": []
   },
   "outputs": [
    {
     "data": {
      "text/html": [
       "<pre style=\"white-space:pre;overflow-x:auto;line-height:normal;font-family:Menlo,'DejaVu Sans Mono',consolas,'Courier New',monospace\">┏━━━━━━━━━━━━━━━━━━━━━━━━━━━━━━━━━━━━━━━━━━━━━━━━━━━━━━━━━━━━━━━━━━━━━━━━━━━━━━━━━━━━━━━━━━━━━━━━━━━━━━━━━━━━━━━━━┓\n",
       "┃<span style=\"color: #800080; text-decoration-color: #800080; font-weight: bold\"> answer                                                                                                          </span>┃\n",
       "┃<span style=\"color: #800080; text-decoration-color: #800080; font-weight: bold\"> .condense                                                                                                       </span>┃\n",
       "┡━━━━━━━━━━━━━━━━━━━━━━━━━━━━━━━━━━━━━━━━━━━━━━━━━━━━━━━━━━━━━━━━━━━━━━━━━━━━━━━━━━━━━━━━━━━━━━━━━━━━━━━━━━━━━━━━━┩\n",
       "│<span style=\"color: #7f7f7f; text-decoration-color: #7f7f7f\"> ['Job creation', 'Economy for families', 'Teaching as a calling', 'Orthodox Christian Easter', 'Affordable Care </span>│\n",
       "│<span style=\"color: #7f7f7f; text-decoration-color: #7f7f7f\"> Act', 'DACA recipients', 'Holocaust Remembrance', 'Medicare and Social Security solvency', 'Nation of           </span>│\n",
       "│<span style=\"color: #7f7f7f; text-decoration-color: #7f7f7f\"> immigrants', 'U.S. Holocaust Memorial Museum']                                                                  </span>│\n",
       "└─────────────────────────────────────────────────────────────────────────────────────────────────────────────────┘\n",
       "</pre>\n"
      ],
      "text/plain": [
       "┏━━━━━━━━━━━━━━━━━━━━━━━━━━━━━━━━━━━━━━━━━━━━━━━━━━━━━━━━━━━━━━━━━━━━━━━━━━━━━━━━━━━━━━━━━━━━━━━━━━━━━━━━━━━━━━━━━┓\n",
       "┃\u001b[1;35m \u001b[0m\u001b[1;35manswer                                                                                                         \u001b[0m\u001b[1;35m \u001b[0m┃\n",
       "┃\u001b[1;35m \u001b[0m\u001b[1;35m.condense                                                                                                      \u001b[0m\u001b[1;35m \u001b[0m┃\n",
       "┡━━━━━━━━━━━━━━━━━━━━━━━━━━━━━━━━━━━━━━━━━━━━━━━━━━━━━━━━━━━━━━━━━━━━━━━━━━━━━━━━━━━━━━━━━━━━━━━━━━━━━━━━━━━━━━━━━┩\n",
       "│\u001b[2m \u001b[0m\u001b[2m['Job creation', 'Economy for families', 'Teaching as a calling', 'Orthodox Christian Easter', 'Affordable Care\u001b[0m\u001b[2m \u001b[0m│\n",
       "│\u001b[2m \u001b[0m\u001b[2mAct', 'DACA recipients', 'Holocaust Remembrance', 'Medicare and Social Security solvency', 'Nation of          \u001b[0m\u001b[2m \u001b[0m│\n",
       "│\u001b[2m \u001b[0m\u001b[2mimmigrants', 'U.S. Holocaust Memorial Museum']                                                                 \u001b[0m\u001b[2m \u001b[0m│\n",
       "└─────────────────────────────────────────────────────────────────────────────────────────────────────────────────┘\n"
      ]
     },
     "metadata": {},
     "output_type": "display_data"
    }
   ],
   "source": [
    "results.select(\"condense\").print(format=\"rich\")"
   ]
  },
  {
   "cell_type": "markdown",
   "id": "2ea27147-7051-4341-b6db-45d40f5cad5d",
   "metadata": {
    "editable": true,
    "slideshow": {
     "slide_type": ""
    },
    "tags": []
   },
   "source": [
    "## Identify criteria for each concept\n",
    "Similar to our first step, next we can run a question prompting the model to generate criteria for each concept. We could use `QuestionFreeText` to generate criteria in an unstructured narrative:"
   ]
  },
  {
   "cell_type": "code",
   "execution_count": 13,
   "id": "7888e26a-a4a5-487f-b26f-c0eb7e170b91",
   "metadata": {
    "editable": true,
    "slideshow": {
     "slide_type": ""
    },
    "tags": []
   },
   "outputs": [],
   "source": [
    "from edsl import QuestionFreeText\n",
    "\n",
    "q_criteria = QuestionFreeText(\n",
    "    question_name=\"criteria\",\n",
    "    question_text=\"\"\"Describe key criteria for determining whether a text is primarily about the \n",
    "    following concept: {{ concept }}\"\"\",\n",
    ")"
   ]
  },
  {
   "cell_type": "markdown",
   "id": "e923ce4b-7201-423f-a706-73f863eaf272",
   "metadata": {
    "editable": true,
    "slideshow": {
     "slide_type": ""
    },
    "tags": []
   },
   "source": [
    "For this question, the scenarios are the concepts that we generated:"
   ]
  },
  {
   "cell_type": "code",
   "execution_count": 14,
   "id": "ac9c51cc-08a5-478f-8082-ba28f994d1c1",
   "metadata": {
    "editable": true,
    "slideshow": {
     "slide_type": ""
    },
    "tags": []
   },
   "outputs": [
    {
     "data": {
      "text/html": [
       "<div class=\"highlight\"><pre><span></span><span class=\"p\">{</span>\n",
       "<span class=\"w\">    </span><span class=\"nt\">&quot;scenarios&quot;</span><span class=\"p\">:</span><span class=\"w\"> </span><span class=\"p\">[</span>\n",
       "<span class=\"w\">        </span><span class=\"p\">{</span>\n",
       "<span class=\"w\">            </span><span class=\"nt\">&quot;concept&quot;</span><span class=\"p\">:</span><span class=\"w\"> </span><span class=\"s2\">&quot;Job creation&quot;</span>\n",
       "<span class=\"w\">        </span><span class=\"p\">},</span>\n",
       "<span class=\"w\">        </span><span class=\"p\">{</span>\n",
       "<span class=\"w\">            </span><span class=\"nt\">&quot;concept&quot;</span><span class=\"p\">:</span><span class=\"w\"> </span><span class=\"s2\">&quot;Economy for families&quot;</span>\n",
       "<span class=\"w\">        </span><span class=\"p\">},</span>\n",
       "<span class=\"w\">        </span><span class=\"p\">{</span>\n",
       "<span class=\"w\">            </span><span class=\"nt\">&quot;concept&quot;</span><span class=\"p\">:</span><span class=\"w\"> </span><span class=\"s2\">&quot;Teaching as a calling&quot;</span>\n",
       "<span class=\"w\">        </span><span class=\"p\">},</span>\n",
       "<span class=\"w\">        </span><span class=\"p\">{</span>\n",
       "<span class=\"w\">            </span><span class=\"nt\">&quot;concept&quot;</span><span class=\"p\">:</span><span class=\"w\"> </span><span class=\"s2\">&quot;Orthodox Christian Easter&quot;</span>\n",
       "<span class=\"w\">        </span><span class=\"p\">},</span>\n",
       "<span class=\"w\">        </span><span class=\"p\">{</span>\n",
       "<span class=\"w\">            </span><span class=\"nt\">&quot;concept&quot;</span><span class=\"p\">:</span><span class=\"w\"> </span><span class=\"s2\">&quot;Affordable Care Act&quot;</span>\n",
       "<span class=\"w\">        </span><span class=\"p\">},</span>\n",
       "<span class=\"w\">        </span><span class=\"p\">{</span>\n",
       "<span class=\"w\">            </span><span class=\"nt\">&quot;concept&quot;</span><span class=\"p\">:</span><span class=\"w\"> </span><span class=\"s2\">&quot;DACA recipients&quot;</span>\n",
       "<span class=\"w\">        </span><span class=\"p\">},</span>\n",
       "<span class=\"w\">        </span><span class=\"p\">{</span>\n",
       "<span class=\"w\">            </span><span class=\"nt\">&quot;concept&quot;</span><span class=\"p\">:</span><span class=\"w\"> </span><span class=\"s2\">&quot;Holocaust Remembrance&quot;</span>\n",
       "<span class=\"w\">        </span><span class=\"p\">},</span>\n",
       "<span class=\"w\">        </span><span class=\"p\">{</span>\n",
       "<span class=\"w\">            </span><span class=\"nt\">&quot;concept&quot;</span><span class=\"p\">:</span><span class=\"w\"> </span><span class=\"s2\">&quot;Medicare and Social Security solvency&quot;</span>\n",
       "<span class=\"w\">        </span><span class=\"p\">},</span>\n",
       "<span class=\"w\">        </span><span class=\"p\">{</span>\n",
       "<span class=\"w\">            </span><span class=\"nt\">&quot;concept&quot;</span><span class=\"p\">:</span><span class=\"w\"> </span><span class=\"s2\">&quot;Nation of immigrants&quot;</span>\n",
       "<span class=\"w\">        </span><span class=\"p\">},</span>\n",
       "<span class=\"w\">        </span><span class=\"p\">{</span>\n",
       "<span class=\"w\">            </span><span class=\"nt\">&quot;concept&quot;</span><span class=\"p\">:</span><span class=\"w\"> </span><span class=\"s2\">&quot;U.S. Holocaust Memorial Museum&quot;</span>\n",
       "<span class=\"w\">        </span><span class=\"p\">}</span>\n",
       "<span class=\"w\">    </span><span class=\"p\">]</span>\n",
       "<span class=\"p\">}</span>\n",
       "</pre></div>\n"
      ],
      "text/plain": [
       "ScenarioList([Scenario({'concept': 'Job creation'}), Scenario({'concept': 'Economy for families'}), Scenario({'concept': 'Teaching as a calling'}), Scenario({'concept': 'Orthodox Christian Easter'}), Scenario({'concept': 'Affordable Care Act'}), Scenario({'concept': 'DACA recipients'}), Scenario({'concept': 'Holocaust Remembrance'}), Scenario({'concept': 'Medicare and Social Security solvency'}), Scenario({'concept': 'Nation of immigrants'}), Scenario({'concept': 'U.S. Holocaust Memorial Museum'})])"
      ]
     },
     "execution_count": 14,
     "metadata": {},
     "output_type": "execute_result"
    }
   ],
   "source": [
    "condensed_concepts_list = results.select(\"condense\").to_list(flatten=True)\n",
    "\n",
    "scenarios = ScenarioList.from_list(\"concept\", condensed_concepts_list)\n",
    "scenarios"
   ]
  },
  {
   "cell_type": "code",
   "execution_count": 15,
   "id": "c31d5d9e-e3f7-4031-b496-caf5dc0b9d04",
   "metadata": {
    "editable": true,
    "slideshow": {
     "slide_type": ""
    },
    "tags": []
   },
   "outputs": [],
   "source": [
    "results = q_criteria.by(scenarios).run()"
   ]
  },
  {
   "cell_type": "code",
   "execution_count": 16,
   "id": "73ec1f46-0314-492c-aefa-ffceb1fab326",
   "metadata": {
    "editable": true,
    "slideshow": {
     "slide_type": ""
    },
    "tags": []
   },
   "outputs": [
    {
     "data": {
      "text/html": [
       "<pre style=\"white-space:pre;overflow-x:auto;line-height:normal;font-family:Menlo,'DejaVu Sans Mono',consolas,'Courier New',monospace\">┏━━━━━━━━━━━━━━━━━━━━━━━━━━━━━━━━━━━━━━━┳━━━━━━━━━━━━━━━━━━━━━━━━━━━━━━━━━━━━━━━━━━━━━━━━━━━━━━━━━━━━━━━━━━━━━━━━━┓\n",
       "┃<span style=\"color: #800080; text-decoration-color: #800080; font-weight: bold\"> scenario                              </span>┃<span style=\"color: #800080; text-decoration-color: #800080; font-weight: bold\"> answer                                                                  </span>┃\n",
       "┃<span style=\"color: #800080; text-decoration-color: #800080; font-weight: bold\"> .concept                              </span>┃<span style=\"color: #800080; text-decoration-color: #800080; font-weight: bold\"> .criteria                                                               </span>┃\n",
       "┡━━━━━━━━━━━━━━━━━━━━━━━━━━━━━━━━━━━━━━━╇━━━━━━━━━━━━━━━━━━━━━━━━━━━━━━━━━━━━━━━━━━━━━━━━━━━━━━━━━━━━━━━━━━━━━━━━━┩\n",
       "│<span style=\"color: #7f7f7f; text-decoration-color: #7f7f7f\"> Job creation                          </span>│<span style=\"color: #7f7f7f; text-decoration-color: #7f7f7f\"> To determine whether a text is primarily about the concept of job       </span>│\n",
       "│<span style=\"color: #7f7f7f; text-decoration-color: #7f7f7f\">                                       </span>│<span style=\"color: #7f7f7f; text-decoration-color: #7f7f7f\"> creation, you can look for several key criteria:                        </span>│\n",
       "│<span style=\"color: #7f7f7f; text-decoration-color: #7f7f7f\">                                       </span>│<span style=\"color: #7f7f7f; text-decoration-color: #7f7f7f\">                                                                         </span>│\n",
       "│<span style=\"color: #7f7f7f; text-decoration-color: #7f7f7f\">                                       </span>│<span style=\"color: #7f7f7f; text-decoration-color: #7f7f7f\"> 1. **Main Topic Focus**: The text should have job creation as its       </span>│\n",
       "│<span style=\"color: #7f7f7f; text-decoration-color: #7f7f7f\">                                       </span>│<span style=\"color: #7f7f7f; text-decoration-color: #7f7f7f\"> central theme. This means the bulk of the content discusses how jobs    </span>│\n",
       "│<span style=\"color: #7f7f7f; text-decoration-color: #7f7f7f\">                                       </span>│<span style=\"color: #7f7f7f; text-decoration-color: #7f7f7f\"> are being created, the factors influencing job creation, or the         </span>│\n",
       "│<span style=\"color: #7f7f7f; text-decoration-color: #7f7f7f\">                                       </span>│<span style=\"color: #7f7f7f; text-decoration-color: #7f7f7f\"> outcomes of job creation efforts.                                       </span>│\n",
       "│<span style=\"color: #7f7f7f; text-decoration-color: #7f7f7f\">                                       </span>│<span style=\"color: #7f7f7f; text-decoration-color: #7f7f7f\">                                                                         </span>│\n",
       "│<span style=\"color: #7f7f7f; text-decoration-color: #7f7f7f\">                                       </span>│<span style=\"color: #7f7f7f; text-decoration-color: #7f7f7f\"> 2. **Economic Indicators**: The text should reference economic          </span>│\n",
       "│<span style=\"color: #7f7f7f; text-decoration-color: #7f7f7f\">                                       </span>│<span style=\"color: #7f7f7f; text-decoration-color: #7f7f7f\"> indicators related to job creation, such as employment rates,           </span>│\n",
       "│<span style=\"color: #7f7f7f; text-decoration-color: #7f7f7f\">                                       </span>│<span style=\"color: #7f7f7f; text-decoration-color: #7f7f7f\"> unemployment rates, new business startups, and job growth statistics.   </span>│\n",
       "│<span style=\"color: #7f7f7f; text-decoration-color: #7f7f7f\">                                       </span>│<span style=\"color: #7f7f7f; text-decoration-color: #7f7f7f\">                                                                         </span>│\n",
       "│<span style=\"color: #7f7f7f; text-decoration-color: #7f7f7f\">                                       </span>│<span style=\"color: #7f7f7f; text-decoration-color: #7f7f7f\"> 3. **Policy and Programs**: Look for discussions about government       </span>│\n",
       "│<span style=\"color: #7f7f7f; text-decoration-color: #7f7f7f\">                                       </span>│<span style=\"color: #7f7f7f; text-decoration-color: #7f7f7f\"> policies, initiatives, or programs designed to stimulate job creation.  </span>│\n",
       "│<span style=\"color: #7f7f7f; text-decoration-color: #7f7f7f\">                                       </span>│<span style=\"color: #7f7f7f; text-decoration-color: #7f7f7f\"> This could include tax incentives for businesses, workforce development </span>│\n",
       "│<span style=\"color: #7f7f7f; text-decoration-color: #7f7f7f\">                                       </span>│<span style=\"color: #7f7f7f; text-decoration-color: #7f7f7f\"> programs, or infrastructure projects.                                   </span>│\n",
       "│<span style=\"color: #7f7f7f; text-decoration-color: #7f7f7f\">                                       </span>│<span style=\"color: #7f7f7f; text-decoration-color: #7f7f7f\">                                                                         </span>│\n",
       "│<span style=\"color: #7f7f7f; text-decoration-color: #7f7f7f\">                                       </span>│<span style=\"color: #7f7f7f; text-decoration-color: #7f7f7f\"> 4. **Case Studies and Examples**: The text should provide examples or   </span>│\n",
       "│<span style=\"color: #7f7f7f; text-decoration-color: #7f7f7f\">                                       </span>│<span style=\"color: #7f7f7f; text-decoration-color: #7f7f7f\"> case studies of successful job creation efforts. This could involve     </span>│\n",
       "│<span style=\"color: #7f7f7f; text-decoration-color: #7f7f7f\">                                       </span>│<span style=\"color: #7f7f7f; text-decoration-color: #7f7f7f\"> specific industries, regions, or companies that have created a          </span>│\n",
       "│<span style=\"color: #7f7f7f; text-decoration-color: #7f7f7f\">                                       </span>│<span style=\"color: #7f7f7f; text-decoration-color: #7f7f7f\"> significant number of jobs.                                             </span>│\n",
       "│<span style=\"color: #7f7f7f; text-decoration-color: #7f7f7f\">                                       </span>│<span style=\"color: #7f7f7f; text-decoration-color: #7f7f7f\">                                                                         </span>│\n",
       "│<span style=\"color: #7f7f7f; text-decoration-color: #7f7f7f\">                                       </span>│<span style=\"color: #7f7f7f; text-decoration-color: #7f7f7f\"> 5. **Challenges and Solutions**: The text might explore challenges to   </span>│\n",
       "│<span style=\"color: #7f7f7f; text-decoration-color: #7f7f7f\">                                       </span>│<span style=\"color: #7f7f7f; text-decoration-color: #7f7f7f\"> job creation, such as economic downturns, automation, or regulatory     </span>│\n",
       "│<span style=\"color: #7f7f7f; text-decoration-color: #7f7f7f\">                                       </span>│<span style=\"color: #7f7f7f; text-decoration-color: #7f7f7f\"> hurdles, and propose solutions to these challenges.                     </span>│\n",
       "│<span style=\"color: #7f7f7f; text-decoration-color: #7f7f7f\">                                       </span>│<span style=\"color: #7f7f7f; text-decoration-color: #7f7f7f\">                                                                         </span>│\n",
       "│<span style=\"color: #7f7f7f; text-decoration-color: #7f7f7f\">                                       </span>│<span style=\"color: #7f7f7f; text-decoration-color: #7f7f7f\"> 6. **Stakeholder Involvement**: The text should mention key             </span>│\n",
       "│<span style=\"color: #7f7f7f; text-decoration-color: #7f7f7f\">                                       </span>│<span style=\"color: #7f7f7f; text-decoration-color: #7f7f7f\"> stakeholders involved in job creation, including government entities,   </span>│\n",
       "│<span style=\"color: #7f7f7f; text-decoration-color: #7f7f7f\">                                       </span>│<span style=\"color: #7f7f7f; text-decoration-color: #7f7f7f\"> private sector companies, non-profits, and educational institutions.    </span>│\n",
       "│<span style=\"color: #7f7f7f; text-decoration-color: #7f7f7f\">                                       </span>│<span style=\"color: #7f7f7f; text-decoration-color: #7f7f7f\">                                                                         </span>│\n",
       "│<span style=\"color: #7f7f7f; text-decoration-color: #7f7f7f\">                                       </span>│<span style=\"color: #7f7f7f; text-decoration-color: #7f7f7f\"> 7. **Future Projections**: Look for discussions about future trends in  </span>│\n",
       "│<span style=\"color: #7f7f7f; text-decoration-color: #7f7f7f\">                                       </span>│<span style=\"color: #7f7f7f; text-decoration-color: #7f7f7f\"> job creation, such as emerging industries, technological advancements,  </span>│\n",
       "│<span style=\"color: #7f7f7f; text-decoration-color: #7f7f7f\">                                       </span>│<span style=\"color: #7f7f7f; text-decoration-color: #7f7f7f\"> or demographic changes that could impact job creation.                  </span>│\n",
       "│<span style=\"color: #7f7f7f; text-decoration-color: #7f7f7f\">                                       </span>│<span style=\"color: #7f7f7f; text-decoration-color: #7f7f7f\">                                                                         </span>│\n",
       "│<span style=\"color: #7f7f7f; text-decoration-color: #7f7f7f\">                                       </span>│<span style=\"color: #7f7f7f; text-decoration-color: #7f7f7f\"> 8. **Impact on Society**: The text should address the broader impact of </span>│\n",
       "│<span style=\"color: #7f7f7f; text-decoration-color: #7f7f7f\">                                       </span>│<span style=\"color: #7f7f7f; text-decoration-color: #7f7f7f\"> job creation on society, such as reducing poverty, improving living     </span>│\n",
       "│<span style=\"color: #7f7f7f; text-decoration-color: #7f7f7f\">                                       </span>│<span style=\"color: #7f7f7f; text-decoration-color: #7f7f7f\"> standards, and fostering economic growth.                               </span>│\n",
       "├───────────────────────────────────────┼─────────────────────────────────────────────────────────────────────────┤\n",
       "│<span style=\"color: #7f7f7f; text-decoration-color: #7f7f7f\"> Nation of immigrants                  </span>│<span style=\"color: #7f7f7f; text-decoration-color: #7f7f7f\"> Determining whether a text is primarily about the concept of a \"Nation  </span>│\n",
       "│<span style=\"color: #7f7f7f; text-decoration-color: #7f7f7f\">                                       </span>│<span style=\"color: #7f7f7f; text-decoration-color: #7f7f7f\"> of Immigrants\" involves examining several key criteria:                 </span>│\n",
       "│<span style=\"color: #7f7f7f; text-decoration-color: #7f7f7f\">                                       </span>│<span style=\"color: #7f7f7f; text-decoration-color: #7f7f7f\">                                                                         </span>│\n",
       "│<span style=\"color: #7f7f7f; text-decoration-color: #7f7f7f\">                                       </span>│<span style=\"color: #7f7f7f; text-decoration-color: #7f7f7f\"> 1. **Historical Context**: Look for references to the history of        </span>│\n",
       "│<span style=\"color: #7f7f7f; text-decoration-color: #7f7f7f\">                                       </span>│<span style=\"color: #7f7f7f; text-decoration-color: #7f7f7f\"> immigration in the nation being discussed. This includes significant    </span>│\n",
       "│<span style=\"color: #7f7f7f; text-decoration-color: #7f7f7f\">                                       </span>│<span style=\"color: #7f7f7f; text-decoration-color: #7f7f7f\"> waves of immigration, key dates, and legislative acts that shaped       </span>│\n",
       "│<span style=\"color: #7f7f7f; text-decoration-color: #7f7f7f\">                                       </span>│<span style=\"color: #7f7f7f; text-decoration-color: #7f7f7f\"> immigration policy.                                                     </span>│\n",
       "│<span style=\"color: #7f7f7f; text-decoration-color: #7f7f7f\">                                       </span>│<span style=\"color: #7f7f7f; text-decoration-color: #7f7f7f\">                                                                         </span>│\n",
       "│<span style=\"color: #7f7f7f; text-decoration-color: #7f7f7f\">                                       </span>│<span style=\"color: #7f7f7f; text-decoration-color: #7f7f7f\"> 2. **Diversity and Demographics**: The text should discuss the diverse  </span>│\n",
       "│<span style=\"color: #7f7f7f; text-decoration-color: #7f7f7f\">                                       </span>│<span style=\"color: #7f7f7f; text-decoration-color: #7f7f7f\"> origins of the population, highlighting the various ethnic, cultural,   </span>│\n",
       "│<span style=\"color: #7f7f7f; text-decoration-color: #7f7f7f\">                                       </span>│<span style=\"color: #7f7f7f; text-decoration-color: #7f7f7f\"> and national backgrounds of the people who have immigrated to the       </span>│\n",
       "│<span style=\"color: #7f7f7f; text-decoration-color: #7f7f7f\">                                       </span>│<span style=\"color: #7f7f7f; text-decoration-color: #7f7f7f\"> nation.                                                                 </span>│\n",
       "│<span style=\"color: #7f7f7f; text-decoration-color: #7f7f7f\">                                       </span>│<span style=\"color: #7f7f7f; text-decoration-color: #7f7f7f\">                                                                         </span>│\n",
       "│<span style=\"color: #7f7f7f; text-decoration-color: #7f7f7f\">                                       </span>│<span style=\"color: #7f7f7f; text-decoration-color: #7f7f7f\"> 3. **Immigration Policy**: Analysis of past and present immigration     </span>│\n",
       "│<span style=\"color: #7f7f7f; text-decoration-color: #7f7f7f\">                                       </span>│<span style=\"color: #7f7f7f; text-decoration-color: #7f7f7f\"> laws, policies, and reforms is crucial. The text should explore how     </span>│\n",
       "│<span style=\"color: #7f7f7f; text-decoration-color: #7f7f7f\">                                       </span>│<span style=\"color: #7f7f7f; text-decoration-color: #7f7f7f\"> these policies have influenced the composition and integration of       </span>│\n",
       "│<span style=\"color: #7f7f7f; text-decoration-color: #7f7f7f\">                                       </span>│<span style=\"color: #7f7f7f; text-decoration-color: #7f7f7f\"> immigrants.                                                             </span>│\n",
       "│<span style=\"color: #7f7f7f; text-decoration-color: #7f7f7f\">                                       </span>│<span style=\"color: #7f7f7f; text-decoration-color: #7f7f7f\">                                                                         </span>│\n",
       "│<span style=\"color: #7f7f7f; text-decoration-color: #7f7f7f\">                                       </span>│<span style=\"color: #7f7f7f; text-decoration-color: #7f7f7f\"> 4. **Cultural Impact**: The text should address how immigration has     </span>│\n",
       "│<span style=\"color: #7f7f7f; text-decoration-color: #7f7f7f\">                                       </span>│<span style=\"color: #7f7f7f; text-decoration-color: #7f7f7f\"> influenced the culture, traditions, and societal norms of the nation.   </span>│\n",
       "│<span style=\"color: #7f7f7f; text-decoration-color: #7f7f7f\">                                       </span>│<span style=\"color: #7f7f7f; text-decoration-color: #7f7f7f\"> This includes contributions to cuisine, language, art, and other        </span>│\n",
       "│<span style=\"color: #7f7f7f; text-decoration-color: #7f7f7f\">                                       </span>│<span style=\"color: #7f7f7f; text-decoration-color: #7f7f7f\"> cultural facets.                                                        </span>│\n",
       "│<span style=\"color: #7f7f7f; text-decoration-color: #7f7f7f\">                                       </span>│<span style=\"color: #7f7f7f; text-decoration-color: #7f7f7f\">                                                                         </span>│\n",
       "│<span style=\"color: #7f7f7f; text-decoration-color: #7f7f7f\">                                       </span>│<span style=\"color: #7f7f7f; text-decoration-color: #7f7f7f\"> 5. **Economic Contributions**: Look for discussions on how immigrants   </span>│\n",
       "│<span style=\"color: #7f7f7f; text-decoration-color: #7f7f7f\">                                       </span>│<span style=\"color: #7f7f7f; text-decoration-color: #7f7f7f\"> have contributed to the economy, including labor force participation,   </span>│\n",
       "│<span style=\"color: #7f7f7f; text-decoration-color: #7f7f7f\">                                       </span>│<span style=\"color: #7f7f7f; text-decoration-color: #7f7f7f\"> entrepreneurship, and innovation.                                       </span>│\n",
       "│<span style=\"color: #7f7f7f; text-decoration-color: #7f7f7f\">                                       </span>│<span style=\"color: #7f7f7f; text-decoration-color: #7f7f7f\">                                                                         </span>│\n",
       "│<span style=\"color: #7f7f7f; text-decoration-color: #7f7f7f\">                                       </span>│<span style=\"color: #7f7f7f; text-decoration-color: #7f7f7f\"> 6. **Challenges and Debates**: The text should cover challenges         </span>│\n",
       "│<span style=\"color: #7f7f7f; text-decoration-color: #7f7f7f\">                                       </span>│<span style=\"color: #7f7f7f; text-decoration-color: #7f7f7f\"> associated with immigration, such as integration, discrimination, and   </span>│\n",
       "│<span style=\"color: #7f7f7f; text-decoration-color: #7f7f7f\">                                       </span>│<span style=\"color: #7f7f7f; text-decoration-color: #7f7f7f\"> political debates surrounding immigration policy.                       </span>│\n",
       "│<span style=\"color: #7f7f7f; text-decoration-color: #7f7f7f\">                                       </span>│<span style=\"color: #7f7f7f; text-decoration-color: #7f7f7f\">                                                                         </span>│\n",
       "│<span style=\"color: #7f7f7f; text-decoration-color: #7f7f7f\">                                       </span>│<span style=\"color: #7f7f7f; text-decoration-color: #7f7f7f\"> 7. **Identity and National Narrative**: The concept of a \"Nation of     </span>│\n",
       "│<span style=\"color: #7f7f7f; text-decoration-color: #7f7f7f\">                                       </span>│<span style=\"color: #7f7f7f; text-decoration-color: #7f7f7f\"> Immigrants\" often ties into the national identity and narrative. The    </span>│\n",
       "│<span style=\"color: #7f7f7f; text-decoration-color: #7f7f7f\">                                       </span>│<span style=\"color: #7f7f7f; text-decoration-color: #7f7f7f\"> text should reflect on how immigration shapes the collective            </span>│\n",
       "│<span style=\"color: #7f7f7f; text-decoration-color: #7f7f7f\">                                       </span>│<span style=\"color: #7f7f7f; text-decoration-color: #7f7f7f\"> understanding of what it means to belong to that nation.                </span>│\n",
       "│<span style=\"color: #7f7f7f; text-decoration-color: #7f7f7f\">                                       </span>│<span style=\"color: #7f7f7f; text-decoration-color: #7f7f7f\">                                                                         </span>│\n",
       "│<span style=\"color: #7f7f7f; text-decoration-color: #7f7f7f\">                                       </span>│<span style=\"color: #7f7f7f; text-decoration-color: #7f7f7f\"> 8. **Personal Stories and Testimonies**: Inclusion of personal stories  </span>│\n",
       "│<span style=\"color: #7f7f7f; text-decoration-color: #7f7f7f\">                                       </span>│<span style=\"color: #7f7f7f; text-decoration-color: #7f7f7f\"> or testimonies from immigrants can highlight the human aspect of        </span>│\n",
       "│<span style=\"color: #7f7f7f; text-decoration-color: #7f7f7f\">                                       </span>│<span style=\"color: #7f7f7f; text-decoration-color: #7f7f7f\"> immigration and its impact on individuals and communities.              </span>│\n",
       "├───────────────────────────────────────┼─────────────────────────────────────────────────────────────────────────┤\n",
       "│<span style=\"color: #7f7f7f; text-decoration-color: #7f7f7f\"> Medicare and Social Security solvency </span>│<span style=\"color: #7f7f7f; text-decoration-color: #7f7f7f\"> When evaluating whether a text is primarily about Medicare and Social   </span>│\n",
       "│<span style=\"color: #7f7f7f; text-decoration-color: #7f7f7f\">                                       </span>│<span style=\"color: #7f7f7f; text-decoration-color: #7f7f7f\"> Security solvency, consider the following key criteria:                 </span>│\n",
       "│<span style=\"color: #7f7f7f; text-decoration-color: #7f7f7f\">                                       </span>│<span style=\"color: #7f7f7f; text-decoration-color: #7f7f7f\">                                                                         </span>│\n",
       "│<span style=\"color: #7f7f7f; text-decoration-color: #7f7f7f\">                                       </span>│<span style=\"color: #7f7f7f; text-decoration-color: #7f7f7f\"> 1. **Central Theme**: The text should focus on the financial health and </span>│\n",
       "│<span style=\"color: #7f7f7f; text-decoration-color: #7f7f7f\">                                       </span>│<span style=\"color: #7f7f7f; text-decoration-color: #7f7f7f\"> sustainability of Medicare and Social Security programs. Look for       </span>│\n",
       "│<span style=\"color: #7f7f7f; text-decoration-color: #7f7f7f\">                                       </span>│<span style=\"color: #7f7f7f; text-decoration-color: #7f7f7f\"> discussions on funding, expenditures, and the long-term viability of    </span>│\n",
       "│<span style=\"color: #7f7f7f; text-decoration-color: #7f7f7f\">                                       </span>│<span style=\"color: #7f7f7f; text-decoration-color: #7f7f7f\"> these programs.                                                         </span>│\n",
       "│<span style=\"color: #7f7f7f; text-decoration-color: #7f7f7f\">                                       </span>│<span style=\"color: #7f7f7f; text-decoration-color: #7f7f7f\">                                                                         </span>│\n",
       "│<span style=\"color: #7f7f7f; text-decoration-color: #7f7f7f\">                                       </span>│<span style=\"color: #7f7f7f; text-decoration-color: #7f7f7f\"> 2. **Statistics and Projections**: The text should include data,        </span>│\n",
       "│<span style=\"color: #7f7f7f; text-decoration-color: #7f7f7f\">                                       </span>│<span style=\"color: #7f7f7f; text-decoration-color: #7f7f7f\"> statistics, or projections related to the solvency of Medicare and      </span>│\n",
       "│<span style=\"color: #7f7f7f; text-decoration-color: #7f7f7f\">                                       </span>│<span style=\"color: #7f7f7f; text-decoration-color: #7f7f7f\"> Social Security. This might involve actuarial reports, trustee reports, </span>│\n",
       "│<span style=\"color: #7f7f7f; text-decoration-color: #7f7f7f\">                                       </span>│<span style=\"color: #7f7f7f; text-decoration-color: #7f7f7f\"> or financial forecasts.                                                 </span>│\n",
       "│<span style=\"color: #7f7f7f; text-decoration-color: #7f7f7f\">                                       </span>│<span style=\"color: #7f7f7f; text-decoration-color: #7f7f7f\">                                                                         </span>│\n",
       "│<span style=\"color: #7f7f7f; text-decoration-color: #7f7f7f\">                                       </span>│<span style=\"color: #7f7f7f; text-decoration-color: #7f7f7f\"> 3. **Policy Discussions**: The text should address policy measures or   </span>│\n",
       "│<span style=\"color: #7f7f7f; text-decoration-color: #7f7f7f\">                                       </span>│<span style=\"color: #7f7f7f; text-decoration-color: #7f7f7f\"> reforms aimed at ensuring the solvency of these programs. This can      </span>│\n",
       "│<span style=\"color: #7f7f7f; text-decoration-color: #7f7f7f\">                                       </span>│<span style=\"color: #7f7f7f; text-decoration-color: #7f7f7f\"> include proposed changes to benefits, taxes, eligibility criteria, or   </span>│\n",
       "│<span style=\"color: #7f7f7f; text-decoration-color: #7f7f7f\">                                       </span>│<span style=\"color: #7f7f7f; text-decoration-color: #7f7f7f\"> other policy interventions.                                             </span>│\n",
       "│<span style=\"color: #7f7f7f; text-decoration-color: #7f7f7f\">                                       </span>│<span style=\"color: #7f7f7f; text-decoration-color: #7f7f7f\">                                                                         </span>│\n",
       "│<span style=\"color: #7f7f7f; text-decoration-color: #7f7f7f\">                                       </span>│<span style=\"color: #7f7f7f; text-decoration-color: #7f7f7f\"> 4. **Challenges and Risks**: The text should outline the challenges and </span>│\n",
       "│<span style=\"color: #7f7f7f; text-decoration-color: #7f7f7f\">                                       </span>│<span style=\"color: #7f7f7f; text-decoration-color: #7f7f7f\"> risks to the solvency of Medicare and Social Security. This could       </span>│\n",
       "│<span style=\"color: #7f7f7f; text-decoration-color: #7f7f7f\">                                       </span>│<span style=\"color: #7f7f7f; text-decoration-color: #7f7f7f\"> involve demographic changes, economic factors, or healthcare cost       </span>│\n",
       "│<span style=\"color: #7f7f7f; text-decoration-color: #7f7f7f\">                                       </span>│<span style=\"color: #7f7f7f; text-decoration-color: #7f7f7f\"> trends that impact the financial stability of these programs.           </span>│\n",
       "│<span style=\"color: #7f7f7f; text-decoration-color: #7f7f7f\">                                       </span>│<span style=\"color: #7f7f7f; text-decoration-color: #7f7f7f\">                                                                         </span>│\n",
       "│<span style=\"color: #7f7f7f; text-decoration-color: #7f7f7f\">                                       </span>│<span style=\"color: #7f7f7f; text-decoration-color: #7f7f7f\"> 5. **Expert Opinions and Analysis**: Look for insights from economists, </span>│\n",
       "│<span style=\"color: #7f7f7f; text-decoration-color: #7f7f7f\">                                       </span>│<span style=\"color: #7f7f7f; text-decoration-color: #7f7f7f\"> policymakers, or experts in the field of social insurance and public    </span>│\n",
       "│<span style=\"color: #7f7f7f; text-decoration-color: #7f7f7f\">                                       </span>│<span style=\"color: #7f7f7f; text-decoration-color: #7f7f7f\"> finance. Their analysis and opinions can be a key indicator that the    </span>│\n",
       "│<span style=\"color: #7f7f7f; text-decoration-color: #7f7f7f\">                                       </span>│<span style=\"color: #7f7f7f; text-decoration-color: #7f7f7f\"> text is centered on solvency issues.                                    </span>│\n",
       "│<span style=\"color: #7f7f7f; text-decoration-color: #7f7f7f\">                                       </span>│<span style=\"color: #7f7f7f; text-decoration-color: #7f7f7f\">                                                                         </span>│\n",
       "│<span style=\"color: #7f7f7f; text-decoration-color: #7f7f7f\">                                       </span>│<span style=\"color: #7f7f7f; text-decoration-color: #7f7f7f\"> 6. **Legislative and Regulatory Context**: The text should reference    </span>│\n",
       "│<span style=\"color: #7f7f7f; text-decoration-color: #7f7f7f\">                                       </span>│<span style=\"color: #7f7f7f; text-decoration-color: #7f7f7f\"> relevant legislative or regulatory frameworks that govern Medicare and  </span>│\n",
       "│<span style=\"color: #7f7f7f; text-decoration-color: #7f7f7f\">                                       </span>│<span style=\"color: #7f7f7f; text-decoration-color: #7f7f7f\"> Social Security. Discussions about past, current, or proposed laws      </span>│\n",
       "│<span style=\"color: #7f7f7f; text-decoration-color: #7f7f7f\">                                       </span>│<span style=\"color: #7f7f7f; text-decoration-color: #7f7f7f\"> impacting these programs are important.                                 </span>│\n",
       "│<span style=\"color: #7f7f7f; text-decoration-color: #7f7f7f\">                                       </span>│<span style=\"color: #7f7f7f; text-decoration-color: #7f7f7f\">                                                                         </span>│\n",
       "│<span style=\"color: #7f7f7f; text-decoration-color: #7f7f7f\">                                       </span>│<span style=\"color: #7f7f7f; text-decoration-color: #7f7f7f\"> 7. **Comparative Analysis**: The text may compare the solvency of       </span>│\n",
       "│<span style=\"color: #7f7f7f; text-decoration-color: #7f7f7f\">                                       </span>│<span style=\"color: #7f7f7f; text-decoration-color: #7f7f7f\"> Medicare and Social Security with other social insurance programs,      </span>│\n",
       "│<span style=\"color: #7f7f7f; text-decoration-color: #7f7f7f\">                                       </span>│<span style=\"color: #7f7f7f; text-decoration-color: #7f7f7f\"> either within the same country or internationally, to provide context   </span>│\n",
       "│<span style=\"color: #7f7f7f; text-decoration-color: #7f7f7f\">                                       </span>│<span style=\"color: #7f7f7f; text-decoration-color: #7f7f7f\"> and highlight solvency issues.                                          </span>│\n",
       "├───────────────────────────────────────┼─────────────────────────────────────────────────────────────────────────┤\n",
       "│<span style=\"color: #7f7f7f; text-decoration-color: #7f7f7f\"> Economy for families                  </span>│<span style=\"color: #7f7f7f; text-decoration-color: #7f7f7f\"> When determining whether a text is primarily about the economy for      </span>│\n",
       "│<span style=\"color: #7f7f7f; text-decoration-color: #7f7f7f\">                                       </span>│<span style=\"color: #7f7f7f; text-decoration-color: #7f7f7f\"> families, you should look for key criteria such as:                     </span>│\n",
       "│<span style=\"color: #7f7f7f; text-decoration-color: #7f7f7f\">                                       </span>│<span style=\"color: #7f7f7f; text-decoration-color: #7f7f7f\">                                                                         </span>│\n",
       "│<span style=\"color: #7f7f7f; text-decoration-color: #7f7f7f\">                                       </span>│<span style=\"color: #7f7f7f; text-decoration-color: #7f7f7f\"> 1. **Financial Management**: Discussions on how families manage their   </span>│\n",
       "│<span style=\"color: #7f7f7f; text-decoration-color: #7f7f7f\">                                       </span>│<span style=\"color: #7f7f7f; text-decoration-color: #7f7f7f\"> finances, including budgeting, saving, and investing.                   </span>│\n",
       "│<span style=\"color: #7f7f7f; text-decoration-color: #7f7f7f\">                                       </span>│<span style=\"color: #7f7f7f; text-decoration-color: #7f7f7f\">                                                                         </span>│\n",
       "│<span style=\"color: #7f7f7f; text-decoration-color: #7f7f7f\">                                       </span>│<span style=\"color: #7f7f7f; text-decoration-color: #7f7f7f\"> 2. **Income and Employment**: Information on family income levels,      </span>│\n",
       "│<span style=\"color: #7f7f7f; text-decoration-color: #7f7f7f\">                                       </span>│<span style=\"color: #7f7f7f; text-decoration-color: #7f7f7f\"> employment rates, job stability, and wage trends that affect family     </span>│\n",
       "│<span style=\"color: #7f7f7f; text-decoration-color: #7f7f7f\">                                       </span>│<span style=\"color: #7f7f7f; text-decoration-color: #7f7f7f\"> economic well-being.                                                    </span>│\n",
       "│<span style=\"color: #7f7f7f; text-decoration-color: #7f7f7f\">                                       </span>│<span style=\"color: #7f7f7f; text-decoration-color: #7f7f7f\">                                                                         </span>│\n",
       "│<span style=\"color: #7f7f7f; text-decoration-color: #7f7f7f\">                                       </span>│<span style=\"color: #7f7f7f; text-decoration-color: #7f7f7f\"> 3. **Cost of Living**: Analysis of expenses that families typically     </span>│\n",
       "│<span style=\"color: #7f7f7f; text-decoration-color: #7f7f7f\">                                       </span>│<span style=\"color: #7f7f7f; text-decoration-color: #7f7f7f\"> face, such as housing, utilities, groceries, transportation, and        </span>│\n",
       "│<span style=\"color: #7f7f7f; text-decoration-color: #7f7f7f\">                                       </span>│<span style=\"color: #7f7f7f; text-decoration-color: #7f7f7f\"> healthcare.                                                             </span>│\n",
       "│<span style=\"color: #7f7f7f; text-decoration-color: #7f7f7f\">                                       </span>│<span style=\"color: #7f7f7f; text-decoration-color: #7f7f7f\">                                                                         </span>│\n",
       "│<span style=\"color: #7f7f7f; text-decoration-color: #7f7f7f\">                                       </span>│<span style=\"color: #7f7f7f; text-decoration-color: #7f7f7f\"> 4. **Government Policies and Benefits**: Examination of policies,       </span>│\n",
       "│<span style=\"color: #7f7f7f; text-decoration-color: #7f7f7f\">                                       </span>│<span style=\"color: #7f7f7f; text-decoration-color: #7f7f7f\"> programs, and benefits designed to support families, like tax credits,  </span>│\n",
       "│<span style=\"color: #7f7f7f; text-decoration-color: #7f7f7f\">                                       </span>│<span style=\"color: #7f7f7f; text-decoration-color: #7f7f7f\"> subsidies, social security, and child care assistance.                  </span>│\n",
       "│<span style=\"color: #7f7f7f; text-decoration-color: #7f7f7f\">                                       </span>│<span style=\"color: #7f7f7f; text-decoration-color: #7f7f7f\">                                                                         </span>│\n",
       "│<span style=\"color: #7f7f7f; text-decoration-color: #7f7f7f\">                                       </span>│<span style=\"color: #7f7f7f; text-decoration-color: #7f7f7f\"> 5. **Education and Childcare Costs**: Insights into the costs           </span>│\n",
       "│<span style=\"color: #7f7f7f; text-decoration-color: #7f7f7f\">                                       </span>│<span style=\"color: #7f7f7f; text-decoration-color: #7f7f7f\"> associated with raising children, including education expenses from     </span>│\n",
       "│<span style=\"color: #7f7f7f; text-decoration-color: #7f7f7f\">                                       </span>│<span style=\"color: #7f7f7f; text-decoration-color: #7f7f7f\"> preschool through college, and childcare services.                      </span>│\n",
       "│<span style=\"color: #7f7f7f; text-decoration-color: #7f7f7f\">                                       </span>│<span style=\"color: #7f7f7f; text-decoration-color: #7f7f7f\">                                                                         </span>│\n",
       "│<span style=\"color: #7f7f7f; text-decoration-color: #7f7f7f\">                                       </span>│<span style=\"color: #7f7f7f; text-decoration-color: #7f7f7f\"> 6. **Debt and Credit**: Discussion on family debt levels, credit usage, </span>│\n",
       "│<span style=\"color: #7f7f7f; text-decoration-color: #7f7f7f\">                                       </span>│<span style=\"color: #7f7f7f; text-decoration-color: #7f7f7f\"> and financial products like mortgages, student loans, and credit cards. </span>│\n",
       "│<span style=\"color: #7f7f7f; text-decoration-color: #7f7f7f\">                                       </span>│<span style=\"color: #7f7f7f; text-decoration-color: #7f7f7f\">                                                                         </span>│\n",
       "│<span style=\"color: #7f7f7f; text-decoration-color: #7f7f7f\">                                       </span>│<span style=\"color: #7f7f7f; text-decoration-color: #7f7f7f\"> 7. **Economic Challenges**: Identification of specific economic         </span>│\n",
       "│<span style=\"color: #7f7f7f; text-decoration-color: #7f7f7f\">                                       </span>│<span style=\"color: #7f7f7f; text-decoration-color: #7f7f7f\"> challenges that families encounter, such as unemployment, inflation,    </span>│\n",
       "│<span style=\"color: #7f7f7f; text-decoration-color: #7f7f7f\">                                       </span>│<span style=\"color: #7f7f7f; text-decoration-color: #7f7f7f\"> and economic downturns.                                                 </span>│\n",
       "│<span style=\"color: #7f7f7f; text-decoration-color: #7f7f7f\">                                       </span>│<span style=\"color: #7f7f7f; text-decoration-color: #7f7f7f\">                                                                         </span>│\n",
       "│<span style=\"color: #7f7f7f; text-decoration-color: #7f7f7f\">                                       </span>│<span style=\"color: #7f7f7f; text-decoration-color: #7f7f7f\"> 8. **Wealth Inequality**: Consideration of how economic disparities and </span>│\n",
       "│<span style=\"color: #7f7f7f; text-decoration-color: #7f7f7f\">                                       </span>│<span style=\"color: #7f7f7f; text-decoration-color: #7f7f7f\"> wealth inequality impact families differently based on socioeconomic    </span>│\n",
       "│<span style=\"color: #7f7f7f; text-decoration-color: #7f7f7f\">                                       </span>│<span style=\"color: #7f7f7f; text-decoration-color: #7f7f7f\"> status.                                                                 </span>│\n",
       "├───────────────────────────────────────┼─────────────────────────────────────────────────────────────────────────┤\n",
       "│<span style=\"color: #7f7f7f; text-decoration-color: #7f7f7f\"> Orthodox Christian Easter             </span>│<span style=\"color: #7f7f7f; text-decoration-color: #7f7f7f\"> To determine whether a text is primarily about Orthodox Christian       </span>│\n",
       "│<span style=\"color: #7f7f7f; text-decoration-color: #7f7f7f\">                                       </span>│<span style=\"color: #7f7f7f; text-decoration-color: #7f7f7f\"> Easter, you can look for several key criteria:                          </span>│\n",
       "│<span style=\"color: #7f7f7f; text-decoration-color: #7f7f7f\">                                       </span>│<span style=\"color: #7f7f7f; text-decoration-color: #7f7f7f\">                                                                         </span>│\n",
       "│<span style=\"color: #7f7f7f; text-decoration-color: #7f7f7f\">                                       </span>│<span style=\"color: #7f7f7f; text-decoration-color: #7f7f7f\"> 1. **Date and Timing**: The text should reference the specific timing   </span>│\n",
       "│<span style=\"color: #7f7f7f; text-decoration-color: #7f7f7f\">                                       </span>│<span style=\"color: #7f7f7f; text-decoration-color: #7f7f7f\"> of Orthodox Easter, which often differs from Western Christian Easter.  </span>│\n",
       "│<span style=\"color: #7f7f7f; text-decoration-color: #7f7f7f\">                                       </span>│<span style=\"color: #7f7f7f; text-decoration-color: #7f7f7f\"> It typically involves the Julian calendar and falls after the Jewish    </span>│\n",
       "│<span style=\"color: #7f7f7f; text-decoration-color: #7f7f7f\">                                       </span>│<span style=\"color: #7f7f7f; text-decoration-color: #7f7f7f\"> Passover.                                                               </span>│\n",
       "│<span style=\"color: #7f7f7f; text-decoration-color: #7f7f7f\">                                       </span>│<span style=\"color: #7f7f7f; text-decoration-color: #7f7f7f\">                                                                         </span>│\n",
       "│<span style=\"color: #7f7f7f; text-decoration-color: #7f7f7f\">                                       </span>│<span style=\"color: #7f7f7f; text-decoration-color: #7f7f7f\"> 2. **Liturgical Practices**: Descriptions of unique Orthodox liturgical </span>│\n",
       "│<span style=\"color: #7f7f7f; text-decoration-color: #7f7f7f\">                                       </span>│<span style=\"color: #7f7f7f; text-decoration-color: #7f7f7f\"> practices such as the Paschal Vigil, the midnight service, and the use  </span>│\n",
       "│<span style=\"color: #7f7f7f; text-decoration-color: #7f7f7f\">                                       </span>│<span style=\"color: #7f7f7f; text-decoration-color: #7f7f7f\"> of the Paschal greeting \"Christ is Risen\" (and its response \"Indeed He  </span>│\n",
       "│<span style=\"color: #7f7f7f; text-decoration-color: #7f7f7f\">                                       </span>│<span style=\"color: #7f7f7f; text-decoration-color: #7f7f7f\"> is Risen\") would indicate a focus on Orthodox Easter.                   </span>│\n",
       "│<span style=\"color: #7f7f7f; text-decoration-color: #7f7f7f\">                                       </span>│<span style=\"color: #7f7f7f; text-decoration-color: #7f7f7f\">                                                                         </span>│\n",
       "│<span style=\"color: #7f7f7f; text-decoration-color: #7f7f7f\">                                       </span>│<span style=\"color: #7f7f7f; text-decoration-color: #7f7f7f\"> 3. **Cultural Traditions**: Look for mentions of cultural and regional  </span>│\n",
       "│<span style=\"color: #7f7f7f; text-decoration-color: #7f7f7f\">                                       </span>│<span style=\"color: #7f7f7f; text-decoration-color: #7f7f7f\"> traditions specific to Orthodox Christian communities, such as the      </span>│\n",
       "│<span style=\"color: #7f7f7f; text-decoration-color: #7f7f7f\">                                       </span>│<span style=\"color: #7f7f7f; text-decoration-color: #7f7f7f\"> preparation and blessing of Paschal foods, the dyeing of red eggs, and  </span>│\n",
       "│<span style=\"color: #7f7f7f; text-decoration-color: #7f7f7f\">                                       </span>│<span style=\"color: #7f7f7f; text-decoration-color: #7f7f7f\"> festive meals.                                                          </span>│\n",
       "│<span style=\"color: #7f7f7f; text-decoration-color: #7f7f7f\">                                       </span>│<span style=\"color: #7f7f7f; text-decoration-color: #7f7f7f\">                                                                         </span>│\n",
       "│<span style=\"color: #7f7f7f; text-decoration-color: #7f7f7f\">                                       </span>│<span style=\"color: #7f7f7f; text-decoration-color: #7f7f7f\"> 4. **Theological Emphasis**: The text should emphasize the theological  </span>│\n",
       "│<span style=\"color: #7f7f7f; text-decoration-color: #7f7f7f\">                                       </span>│<span style=\"color: #7f7f7f; text-decoration-color: #7f7f7f\"> significance of the Resurrection of Jesus Christ within the context of  </span>│\n",
       "│<span style=\"color: #7f7f7f; text-decoration-color: #7f7f7f\">                                       </span>│<span style=\"color: #7f7f7f; text-decoration-color: #7f7f7f\"> Orthodox Christianity, including references to the Paschal Troparion    </span>│\n",
       "│<span style=\"color: #7f7f7f; text-decoration-color: #7f7f7f\">                                       </span>│<span style=\"color: #7f7f7f; text-decoration-color: #7f7f7f\"> and themes of victory over death.                                       </span>│\n",
       "│<span style=\"color: #7f7f7f; text-decoration-color: #7f7f7f\">                                       </span>│<span style=\"color: #7f7f7f; text-decoration-color: #7f7f7f\">                                                                         </span>│\n",
       "│<span style=\"color: #7f7f7f; text-decoration-color: #7f7f7f\">                                       </span>│<span style=\"color: #7f7f7f; text-decoration-color: #7f7f7f\"> 5. **Iconography and Symbols**: References to Orthodox Christian        </span>│\n",
       "│<span style=\"color: #7f7f7f; text-decoration-color: #7f7f7f\">                                       </span>│<span style=\"color: #7f7f7f; text-decoration-color: #7f7f7f\"> iconography related to Easter, such as the icon of the Resurrection or  </span>│\n",
       "│<span style=\"color: #7f7f7f; text-decoration-color: #7f7f7f\">                                       </span>│<span style=\"color: #7f7f7f; text-decoration-color: #7f7f7f\"> the Harrowing of Hell, can be a strong indicator.                       </span>│\n",
       "│<span style=\"color: #7f7f7f; text-decoration-color: #7f7f7f\">                                       </span>│<span style=\"color: #7f7f7f; text-decoration-color: #7f7f7f\">                                                                         </span>│\n",
       "│<span style=\"color: #7f7f7f; text-decoration-color: #7f7f7f\">                                       </span>│<span style=\"color: #7f7f7f; text-decoration-color: #7f7f7f\"> 6. **Historical Context**: The text might include historical context    </span>│\n",
       "│<span style=\"color: #7f7f7f; text-decoration-color: #7f7f7f\">                                       </span>│<span style=\"color: #7f7f7f; text-decoration-color: #7f7f7f\"> about the development and significance of Orthodox Easter within the    </span>│\n",
       "│<span style=\"color: #7f7f7f; text-decoration-color: #7f7f7f\">                                       </span>│<span style=\"color: #7f7f7f; text-decoration-color: #7f7f7f\"> broader history of Christianity, particularly in Eastern Orthodox       </span>│\n",
       "│<span style=\"color: #7f7f7f; text-decoration-color: #7f7f7f\">                                       </span>│<span style=\"color: #7f7f7f; text-decoration-color: #7f7f7f\"> traditions.                                                             </span>│\n",
       "├───────────────────────────────────────┼─────────────────────────────────────────────────────────────────────────┤\n",
       "│<span style=\"color: #7f7f7f; text-decoration-color: #7f7f7f\"> Holocaust Remembrance                 </span>│<span style=\"color: #7f7f7f; text-decoration-color: #7f7f7f\"> To determine whether a text is primarily about Holocaust Remembrance,   </span>│\n",
       "│<span style=\"color: #7f7f7f; text-decoration-color: #7f7f7f\">                                       </span>│<span style=\"color: #7f7f7f; text-decoration-color: #7f7f7f\"> consider the following key criteria:                                    </span>│\n",
       "│<span style=\"color: #7f7f7f; text-decoration-color: #7f7f7f\">                                       </span>│<span style=\"color: #7f7f7f; text-decoration-color: #7f7f7f\">                                                                         </span>│\n",
       "│<span style=\"color: #7f7f7f; text-decoration-color: #7f7f7f\">                                       </span>│<span style=\"color: #7f7f7f; text-decoration-color: #7f7f7f\"> 1. **Subject Matter**: The text should focus on events, experiences,    </span>│\n",
       "│<span style=\"color: #7f7f7f; text-decoration-color: #7f7f7f\">                                       </span>│<span style=\"color: #7f7f7f; text-decoration-color: #7f7f7f\"> and memories related to the Holocaust, including the systematic         </span>│\n",
       "│<span style=\"color: #7f7f7f; text-decoration-color: #7f7f7f\">                                       </span>│<span style=\"color: #7f7f7f; text-decoration-color: #7f7f7f\"> persecution and genocide of six million Jews and millions of others by  </span>│\n",
       "│<span style=\"color: #7f7f7f; text-decoration-color: #7f7f7f\">                                       </span>│<span style=\"color: #7f7f7f; text-decoration-color: #7f7f7f\"> Nazi Germany during World War II.                                       </span>│\n",
       "│<span style=\"color: #7f7f7f; text-decoration-color: #7f7f7f\">                                       </span>│<span style=\"color: #7f7f7f; text-decoration-color: #7f7f7f\">                                                                         </span>│\n",
       "│<span style=\"color: #7f7f7f; text-decoration-color: #7f7f7f\">                                       </span>│<span style=\"color: #7f7f7f; text-decoration-color: #7f7f7f\"> 2. **Purpose**: The primary intent of the text should be to remember,   </span>│\n",
       "│<span style=\"color: #7f7f7f; text-decoration-color: #7f7f7f\">                                       </span>│<span style=\"color: #7f7f7f; text-decoration-color: #7f7f7f\"> honor, and educate about the Holocaust. This can include commemorative  </span>│\n",
       "│<span style=\"color: #7f7f7f; text-decoration-color: #7f7f7f\">                                       </span>│<span style=\"color: #7f7f7f; text-decoration-color: #7f7f7f\"> activities, reflections on the impact of the Holocaust, and efforts to  </span>│\n",
       "│<span style=\"color: #7f7f7f; text-decoration-color: #7f7f7f\">                                       </span>│<span style=\"color: #7f7f7f; text-decoration-color: #7f7f7f\"> ensure such atrocities are never repeated.                              </span>│\n",
       "│<span style=\"color: #7f7f7f; text-decoration-color: #7f7f7f\">                                       </span>│<span style=\"color: #7f7f7f; text-decoration-color: #7f7f7f\">                                                                         </span>│\n",
       "│<span style=\"color: #7f7f7f; text-decoration-color: #7f7f7f\">                                       </span>│<span style=\"color: #7f7f7f; text-decoration-color: #7f7f7f\"> 3. **Historical Context**: The text should provide historical details   </span>│\n",
       "│<span style=\"color: #7f7f7f; text-decoration-color: #7f7f7f\">                                       </span>│<span style=\"color: #7f7f7f; text-decoration-color: #7f7f7f\"> and context about the Holocaust, such as dates, locations, key figures, </span>│\n",
       "│<span style=\"color: #7f7f7f; text-decoration-color: #7f7f7f\">                                       </span>│<span style=\"color: #7f7f7f; text-decoration-color: #7f7f7f\"> and significant events like Kristallnacht, concentration camps, and     </span>│\n",
       "│<span style=\"color: #7f7f7f; text-decoration-color: #7f7f7f\">                                       </span>│<span style=\"color: #7f7f7f; text-decoration-color: #7f7f7f\"> liberation.                                                             </span>│\n",
       "│<span style=\"color: #7f7f7f; text-decoration-color: #7f7f7f\">                                       </span>│<span style=\"color: #7f7f7f; text-decoration-color: #7f7f7f\">                                                                         </span>│\n",
       "│<span style=\"color: #7f7f7f; text-decoration-color: #7f7f7f\">                                       </span>│<span style=\"color: #7f7f7f; text-decoration-color: #7f7f7f\"> 4. **Personal Accounts and Testimonies**: The inclusion of survivor     </span>│\n",
       "│<span style=\"color: #7f7f7f; text-decoration-color: #7f7f7f\">                                       </span>│<span style=\"color: #7f7f7f; text-decoration-color: #7f7f7f\"> stories, witness testimonies, and personal narratives that highlight    </span>│\n",
       "│<span style=\"color: #7f7f7f; text-decoration-color: #7f7f7f\">                                       </span>│<span style=\"color: #7f7f7f; text-decoration-color: #7f7f7f\"> individual experiences during the Holocaust is a strong indicator of a  </span>│\n",
       "│<span style=\"color: #7f7f7f; text-decoration-color: #7f7f7f\">                                       </span>│<span style=\"color: #7f7f7f; text-decoration-color: #7f7f7f\"> focus on remembrance.                                                   </span>│\n",
       "│<span style=\"color: #7f7f7f; text-decoration-color: #7f7f7f\">                                       </span>│<span style=\"color: #7f7f7f; text-decoration-color: #7f7f7f\">                                                                         </span>│\n",
       "│<span style=\"color: #7f7f7f; text-decoration-color: #7f7f7f\">                                       </span>│<span style=\"color: #7f7f7f; text-decoration-color: #7f7f7f\"> 5. **Memorials and Commemorations**: The text may discuss various       </span>│\n",
       "│<span style=\"color: #7f7f7f; text-decoration-color: #7f7f7f\">                                       </span>│<span style=\"color: #7f7f7f; text-decoration-color: #7f7f7f\"> Holocaust memorials, museums, remembrance days (such as Yom HaShoah),   </span>│\n",
       "│<span style=\"color: #7f7f7f; text-decoration-color: #7f7f7f\">                                       </span>│<span style=\"color: #7f7f7f; text-decoration-color: #7f7f7f\"> and other forms of commemoration that aim to keep the memory of the     </span>│\n",
       "│<span style=\"color: #7f7f7f; text-decoration-color: #7f7f7f\">                                       </span>│<span style=\"color: #7f7f7f; text-decoration-color: #7f7f7f\"> Holocaust alive.                                                        </span>│\n",
       "│<span style=\"color: #7f7f7f; text-decoration-color: #7f7f7f\">                                       </span>│<span style=\"color: #7f7f7f; text-decoration-color: #7f7f7f\">                                                                         </span>│\n",
       "│<span style=\"color: #7f7f7f; text-decoration-color: #7f7f7f\">                                       </span>│<span style=\"color: #7f7f7f; text-decoration-color: #7f7f7f\"> 6. **Educational Content**: The presence of educational materials,      </span>│\n",
       "│<span style=\"color: #7f7f7f; text-decoration-color: #7f7f7f\">                                       </span>│<span style=\"color: #7f7f7f; text-decoration-color: #7f7f7f\"> programs, and initiatives designed to teach about the Holocaust and its </span>│\n",
       "│<span style=\"color: #7f7f7f; text-decoration-color: #7f7f7f\">                                       </span>│<span style=\"color: #7f7f7f; text-decoration-color: #7f7f7f\"> lessons for future generations is another key criterion.                </span>│\n",
       "│<span style=\"color: #7f7f7f; text-decoration-color: #7f7f7f\">                                       </span>│<span style=\"color: #7f7f7f; text-decoration-color: #7f7f7f\">                                                                         </span>│\n",
       "│<span style=\"color: #7f7f7f; text-decoration-color: #7f7f7f\">                                       </span>│<span style=\"color: #7f7f7f; text-decoration-color: #7f7f7f\"> 7. **Themes of Memory and Legacy**: Themes related to the preservation  </span>│\n",
       "│<span style=\"color: #7f7f7f; text-decoration-color: #7f7f7f\">                                       </span>│<span style=\"color: #7f7f7f; text-decoration-color: #7f7f7f\"> of memory, the legacy of the Holocaust, and the moral and ethical       </span>│\n",
       "│<span style=\"color: #7f7f7f; text-decoration-color: #7f7f7f\">                                       </span>│<span style=\"color: #7f7f7f; text-decoration-color: #7f7f7f\"> lessons drawn from it are central to texts focused on Holocaust         </span>│\n",
       "│<span style=\"color: #7f7f7f; text-decoration-color: #7f7f7f\">                                       </span>│<span style=\"color: #7f7f7f; text-decoration-color: #7f7f7f\"> Remembrance.                                                            </span>│\n",
       "│<span style=\"color: #7f7f7f; text-decoration-color: #7f7f7f\">                                       </span>│<span style=\"color: #7f7f7f; text-decoration-color: #7f7f7f\">                                                                         </span>│\n",
       "│<span style=\"color: #7f7f7f; text-decoration-color: #7f7f7f\">                                       </span>│<span style=\"color: #7f7f7f; text-decoration-color: #7f7f7f\"> 8. **Calls to Action**: The text may include calls to action for        </span>│\n",
       "│<span style=\"color: #7f7f7f; text-decoration-color: #7f7f7f\">                                       </span>│<span style=\"color: #7f7f7f; text-decoration-color: #7f7f7f\"> remembrance, such as participating in memorial events, supporting       </span>│\n",
       "│<span style=\"color: #7f7f7f; text-decoration-color: #7f7f7f\">                                       </span>│<span style=\"color: #7f7f7f; text-decoration-color: #7f7f7f\"> Holocaust education, and combating Holocaust denial and anti-Semitism.  </span>│\n",
       "├───────────────────────────────────────┼─────────────────────────────────────────────────────────────────────────┤\n",
       "│<span style=\"color: #7f7f7f; text-decoration-color: #7f7f7f\"> Teaching as a calling                 </span>│<span style=\"color: #7f7f7f; text-decoration-color: #7f7f7f\"> To determine whether a text is primarily about the concept of \"Teaching </span>│\n",
       "│<span style=\"color: #7f7f7f; text-decoration-color: #7f7f7f\">                                       </span>│<span style=\"color: #7f7f7f; text-decoration-color: #7f7f7f\"> as a calling,\" you can look for several key criteria:                   </span>│\n",
       "│<span style=\"color: #7f7f7f; text-decoration-color: #7f7f7f\">                                       </span>│<span style=\"color: #7f7f7f; text-decoration-color: #7f7f7f\">                                                                         </span>│\n",
       "│<span style=\"color: #7f7f7f; text-decoration-color: #7f7f7f\">                                       </span>│<span style=\"color: #7f7f7f; text-decoration-color: #7f7f7f\"> 1. **Passion and Dedication**: The text should highlight the teacher's  </span>│\n",
       "│<span style=\"color: #7f7f7f; text-decoration-color: #7f7f7f\">                                       </span>│<span style=\"color: #7f7f7f; text-decoration-color: #7f7f7f\"> deep passion and dedication to the profession. This often includes      </span>│\n",
       "│<span style=\"color: #7f7f7f; text-decoration-color: #7f7f7f\">                                       </span>│<span style=\"color: #7f7f7f; text-decoration-color: #7f7f7f\"> descriptions of teachers going above and beyond their duties, investing </span>│\n",
       "│<span style=\"color: #7f7f7f; text-decoration-color: #7f7f7f\">                                       </span>│<span style=\"color: #7f7f7f; text-decoration-color: #7f7f7f\"> extra time and effort to ensure their students succeed.                 </span>│\n",
       "│<span style=\"color: #7f7f7f; text-decoration-color: #7f7f7f\">                                       </span>│<span style=\"color: #7f7f7f; text-decoration-color: #7f7f7f\">                                                                         </span>│\n",
       "│<span style=\"color: #7f7f7f; text-decoration-color: #7f7f7f\">                                       </span>│<span style=\"color: #7f7f7f; text-decoration-color: #7f7f7f\"> 2. **Intrinsic Motivation**: Look for indications that the teacher is   </span>│\n",
       "│<span style=\"color: #7f7f7f; text-decoration-color: #7f7f7f\">                                       </span>│<span style=\"color: #7f7f7f; text-decoration-color: #7f7f7f\"> motivated by internal rewards rather than external incentives such as   </span>│\n",
       "│<span style=\"color: #7f7f7f; text-decoration-color: #7f7f7f\">                                       </span>│<span style=\"color: #7f7f7f; text-decoration-color: #7f7f7f\"> salary or job security. The text may discuss the personal fulfillment   </span>│\n",
       "│<span style=\"color: #7f7f7f; text-decoration-color: #7f7f7f\">                                       </span>│<span style=\"color: #7f7f7f; text-decoration-color: #7f7f7f\"> and joy derived from teaching and making a difference in students'      </span>│\n",
       "│<span style=\"color: #7f7f7f; text-decoration-color: #7f7f7f\">                                       </span>│<span style=\"color: #7f7f7f; text-decoration-color: #7f7f7f\"> lives.                                                                  </span>│\n",
       "│<span style=\"color: #7f7f7f; text-decoration-color: #7f7f7f\">                                       </span>│<span style=\"color: #7f7f7f; text-decoration-color: #7f7f7f\">                                                                         </span>│\n",
       "│<span style=\"color: #7f7f7f; text-decoration-color: #7f7f7f\">                                       </span>│<span style=\"color: #7f7f7f; text-decoration-color: #7f7f7f\"> 3. **Sense of Purpose**: The text should convey a strong sense of       </span>│\n",
       "│<span style=\"color: #7f7f7f; text-decoration-color: #7f7f7f\">                                       </span>│<span style=\"color: #7f7f7f; text-decoration-color: #7f7f7f\"> purpose and mission. It often includes narratives where teachers feel a </span>│\n",
       "│<span style=\"color: #7f7f7f; text-decoration-color: #7f7f7f\">                                       </span>│<span style=\"color: #7f7f7f; text-decoration-color: #7f7f7f\"> profound responsibility and commitment to educating and nurturing their </span>│\n",
       "│<span style=\"color: #7f7f7f; text-decoration-color: #7f7f7f\">                                       </span>│<span style=\"color: #7f7f7f; text-decoration-color: #7f7f7f\"> students.                                                               </span>│\n",
       "│<span style=\"color: #7f7f7f; text-decoration-color: #7f7f7f\">                                       </span>│<span style=\"color: #7f7f7f; text-decoration-color: #7f7f7f\">                                                                         </span>│\n",
       "│<span style=\"color: #7f7f7f; text-decoration-color: #7f7f7f\">                                       </span>│<span style=\"color: #7f7f7f; text-decoration-color: #7f7f7f\"> 4. **Impact on Students**: There should be an emphasis on the positive  </span>│\n",
       "│<span style=\"color: #7f7f7f; text-decoration-color: #7f7f7f\">                                       </span>│<span style=\"color: #7f7f7f; text-decoration-color: #7f7f7f\"> impact the teacher has on their students. This can include stories of   </span>│\n",
       "│<span style=\"color: #7f7f7f; text-decoration-color: #7f7f7f\">                                       </span>│<span style=\"color: #7f7f7f; text-decoration-color: #7f7f7f\"> students' academic and personal growth, as well as testimonials or      </span>│\n",
       "│<span style=\"color: #7f7f7f; text-decoration-color: #7f7f7f\">                                       </span>│<span style=\"color: #7f7f7f; text-decoration-color: #7f7f7f\"> anecdotes that showcase the teacher's influence.                        </span>│\n",
       "│<span style=\"color: #7f7f7f; text-decoration-color: #7f7f7f\">                                       </span>│<span style=\"color: #7f7f7f; text-decoration-color: #7f7f7f\">                                                                         </span>│\n",
       "│<span style=\"color: #7f7f7f; text-decoration-color: #7f7f7f\">                                       </span>│<span style=\"color: #7f7f7f; text-decoration-color: #7f7f7f\"> 5. **Personal Sacrifice**: The text might mention the sacrifices        </span>│\n",
       "│<span style=\"color: #7f7f7f; text-decoration-color: #7f7f7f\">                                       </span>│<span style=\"color: #7f7f7f; text-decoration-color: #7f7f7f\"> teachers make, such as working long hours, spending their own money on  </span>│\n",
       "│<span style=\"color: #7f7f7f; text-decoration-color: #7f7f7f\">                                       </span>│<span style=\"color: #7f7f7f; text-decoration-color: #7f7f7f\"> classroom supplies, or prioritizing their students' needs over their    </span>│\n",
       "│<span style=\"color: #7f7f7f; text-decoration-color: #7f7f7f\">                                       </span>│<span style=\"color: #7f7f7f; text-decoration-color: #7f7f7f\"> own.                                                                    </span>│\n",
       "│<span style=\"color: #7f7f7f; text-decoration-color: #7f7f7f\">                                       </span>│<span style=\"color: #7f7f7f; text-decoration-color: #7f7f7f\">                                                                         </span>│\n",
       "│<span style=\"color: #7f7f7f; text-decoration-color: #7f7f7f\">                                       </span>│<span style=\"color: #7f7f7f; text-decoration-color: #7f7f7f\"> 6. **Community and Relationships**: Look for discussions about the      </span>│\n",
       "│<span style=\"color: #7f7f7f; text-decoration-color: #7f7f7f\">                                       </span>│<span style=\"color: #7f7f7f; text-decoration-color: #7f7f7f\"> strong relationships teachers build with their students, parents, and   </span>│\n",
       "│<span style=\"color: #7f7f7f; text-decoration-color: #7f7f7f\">                                       </span>│<span style=\"color: #7f7f7f; text-decoration-color: #7f7f7f\"> the community. This can include involvement in extracurricular          </span>│\n",
       "│<span style=\"color: #7f7f7f; text-decoration-color: #7f7f7f\">                                       </span>│<span style=\"color: #7f7f7f; text-decoration-color: #7f7f7f\"> activities, mentoring, and fostering a supportive learning environment. </span>│\n",
       "│<span style=\"color: #7f7f7f; text-decoration-color: #7f7f7f\">                                       </span>│<span style=\"color: #7f7f7f; text-decoration-color: #7f7f7f\">                                                                         </span>│\n",
       "│<span style=\"color: #7f7f7f; text-decoration-color: #7f7f7f\">                                       </span>│<span style=\"color: #7f7f7f; text-decoration-color: #7f7f7f\"> 7. **Spiritual or Ethical Dimensions**: Sometimes, the text may touch   </span>│\n",
       "│<span style=\"color: #7f7f7f; text-decoration-color: #7f7f7f\">                                       </span>│<span style=\"color: #7f7f7f; text-decoration-color: #7f7f7f\"> on spiritual or ethical dimensions of teaching, framing it as a         </span>│\n",
       "│<span style=\"color: #7f7f7f; text-decoration-color: #7f7f7f\">                                       </span>│<span style=\"color: #7f7f7f; text-decoration-color: #7f7f7f\"> vocation or calling with a higher purpose beyond just a job.            </span>│\n",
       "├───────────────────────────────────────┼─────────────────────────────────────────────────────────────────────────┤\n",
       "│<span style=\"color: #7f7f7f; text-decoration-color: #7f7f7f\"> Affordable Care Act                   </span>│<span style=\"color: #7f7f7f; text-decoration-color: #7f7f7f\"> To determine whether a text is primarily about the Affordable Care Act  </span>│\n",
       "│<span style=\"color: #7f7f7f; text-decoration-color: #7f7f7f\">                                       </span>│<span style=\"color: #7f7f7f; text-decoration-color: #7f7f7f\"> (ACA), you should look for several key criteria:                        </span>│\n",
       "│<span style=\"color: #7f7f7f; text-decoration-color: #7f7f7f\">                                       </span>│<span style=\"color: #7f7f7f; text-decoration-color: #7f7f7f\">                                                                         </span>│\n",
       "│<span style=\"color: #7f7f7f; text-decoration-color: #7f7f7f\">                                       </span>│<span style=\"color: #7f7f7f; text-decoration-color: #7f7f7f\"> 1. **Title and Headings**: Check if the title or headings of the text   </span>│\n",
       "│<span style=\"color: #7f7f7f; text-decoration-color: #7f7f7f\">                                       </span>│<span style=\"color: #7f7f7f; text-decoration-color: #7f7f7f\"> explicitly mention the Affordable Care Act, ACA, or related terms like  </span>│\n",
       "│<span style=\"color: #7f7f7f; text-decoration-color: #7f7f7f\">                                       </span>│<span style=\"color: #7f7f7f; text-decoration-color: #7f7f7f\"> \"Obamacare.\"                                                            </span>│\n",
       "│<span style=\"color: #7f7f7f; text-decoration-color: #7f7f7f\">                                       </span>│<span style=\"color: #7f7f7f; text-decoration-color: #7f7f7f\">                                                                         </span>│\n",
       "│<span style=\"color: #7f7f7f; text-decoration-color: #7f7f7f\">                                       </span>│<span style=\"color: #7f7f7f; text-decoration-color: #7f7f7f\"> 2. **Main Focus**: Identify if the central theme of the text revolves   </span>│\n",
       "│<span style=\"color: #7f7f7f; text-decoration-color: #7f7f7f\">                                       </span>│<span style=\"color: #7f7f7f; text-decoration-color: #7f7f7f\"> around healthcare reform, insurance coverage, health policy changes, or </span>│\n",
       "│<span style=\"color: #7f7f7f; text-decoration-color: #7f7f7f\">                                       </span>│<span style=\"color: #7f7f7f; text-decoration-color: #7f7f7f\"> the specific provisions and impacts of the ACA.                         </span>│\n",
       "│<span style=\"color: #7f7f7f; text-decoration-color: #7f7f7f\">                                       </span>│<span style=\"color: #7f7f7f; text-decoration-color: #7f7f7f\">                                                                         </span>│\n",
       "│<span style=\"color: #7f7f7f; text-decoration-color: #7f7f7f\">                                       </span>│<span style=\"color: #7f7f7f; text-decoration-color: #7f7f7f\"> 3. **Legislative Details**: Look for discussions about the legislative  </span>│\n",
       "│<span style=\"color: #7f7f7f; text-decoration-color: #7f7f7f\">                                       </span>│<span style=\"color: #7f7f7f; text-decoration-color: #7f7f7f\"> history, implementation, amendments, or legal challenges related to the </span>│\n",
       "│<span style=\"color: #7f7f7f; text-decoration-color: #7f7f7f\">                                       </span>│<span style=\"color: #7f7f7f; text-decoration-color: #7f7f7f\"> ACA.                                                                    </span>│\n",
       "│<span style=\"color: #7f7f7f; text-decoration-color: #7f7f7f\">                                       </span>│<span style=\"color: #7f7f7f; text-decoration-color: #7f7f7f\">                                                                         </span>│\n",
       "│<span style=\"color: #7f7f7f; text-decoration-color: #7f7f7f\">                                       </span>│<span style=\"color: #7f7f7f; text-decoration-color: #7f7f7f\"> 4. **Healthcare Coverage**: See if the text addresses changes in        </span>│\n",
       "│<span style=\"color: #7f7f7f; text-decoration-color: #7f7f7f\">                                       </span>│<span style=\"color: #7f7f7f; text-decoration-color: #7f7f7f\"> healthcare coverage, such as the expansion of Medicaid, the creation of </span>│\n",
       "│<span style=\"color: #7f7f7f; text-decoration-color: #7f7f7f\">                                       </span>│<span style=\"color: #7f7f7f; text-decoration-color: #7f7f7f\"> health insurance marketplaces, or the individual mandate.               </span>│\n",
       "│<span style=\"color: #7f7f7f; text-decoration-color: #7f7f7f\">                                       </span>│<span style=\"color: #7f7f7f; text-decoration-color: #7f7f7f\">                                                                         </span>│\n",
       "│<span style=\"color: #7f7f7f; text-decoration-color: #7f7f7f\">                                       </span>│<span style=\"color: #7f7f7f; text-decoration-color: #7f7f7f\"> 5. **Impact Analysis**: Determine if the text analyzes the effects of   </span>│\n",
       "│<span style=\"color: #7f7f7f; text-decoration-color: #7f7f7f\">                                       </span>│<span style=\"color: #7f7f7f; text-decoration-color: #7f7f7f\"> the ACA on various stakeholders, including patients, healthcare         </span>│\n",
       "│<span style=\"color: #7f7f7f; text-decoration-color: #7f7f7f\">                                       </span>│<span style=\"color: #7f7f7f; text-decoration-color: #7f7f7f\"> providers, insurers, and the economy.                                   </span>│\n",
       "│<span style=\"color: #7f7f7f; text-decoration-color: #7f7f7f\">                                       </span>│<span style=\"color: #7f7f7f; text-decoration-color: #7f7f7f\">                                                                         </span>│\n",
       "│<span style=\"color: #7f7f7f; text-decoration-color: #7f7f7f\">                                       </span>│<span style=\"color: #7f7f7f; text-decoration-color: #7f7f7f\"> 6. **Policy Debates**: Check if there are debates or discussions about  </span>│\n",
       "│<span style=\"color: #7f7f7f; text-decoration-color: #7f7f7f\">                                       </span>│<span style=\"color: #7f7f7f; text-decoration-color: #7f7f7f\"> the merits, drawbacks, or future of the ACA, including political        </span>│\n",
       "│<span style=\"color: #7f7f7f; text-decoration-color: #7f7f7f\">                                       </span>│<span style=\"color: #7f7f7f; text-decoration-color: #7f7f7f\"> perspectives and public opinion.                                        </span>│\n",
       "│<span style=\"color: #7f7f7f; text-decoration-color: #7f7f7f\">                                       </span>│<span style=\"color: #7f7f7f; text-decoration-color: #7f7f7f\">                                                                         </span>│\n",
       "│<span style=\"color: #7f7f7f; text-decoration-color: #7f7f7f\">                                       </span>│<span style=\"color: #7f7f7f; text-decoration-color: #7f7f7f\"> 7. **Statistical Data**: Look for statistics or data related to         </span>│\n",
       "│<span style=\"color: #7f7f7f; text-decoration-color: #7f7f7f\">                                       </span>│<span style=\"color: #7f7f7f; text-decoration-color: #7f7f7f\"> insurance coverage rates, healthcare costs, or health outcomes that are </span>│\n",
       "│<span style=\"color: #7f7f7f; text-decoration-color: #7f7f7f\">                                       </span>│<span style=\"color: #7f7f7f; text-decoration-color: #7f7f7f\"> directly linked to the ACA.                                             </span>│\n",
       "│<span style=\"color: #7f7f7f; text-decoration-color: #7f7f7f\">                                       </span>│<span style=\"color: #7f7f7f; text-decoration-color: #7f7f7f\">                                                                         </span>│\n",
       "│<span style=\"color: #7f7f7f; text-decoration-color: #7f7f7f\">                                       </span>│<span style=\"color: #7f7f7f; text-decoration-color: #7f7f7f\"> 8. **Expert Opinions**: Identify if the text includes opinions or       </span>│\n",
       "│<span style=\"color: #7f7f7f; text-decoration-color: #7f7f7f\">                                       </span>│<span style=\"color: #7f7f7f; text-decoration-color: #7f7f7f\"> analyses from healthcare experts, policymakers, or economists           </span>│\n",
       "│<span style=\"color: #7f7f7f; text-decoration-color: #7f7f7f\">                                       </span>│<span style=\"color: #7f7f7f; text-decoration-color: #7f7f7f\"> specifically about the ACA.                                             </span>│\n",
       "├───────────────────────────────────────┼─────────────────────────────────────────────────────────────────────────┤\n",
       "│<span style=\"color: #7f7f7f; text-decoration-color: #7f7f7f\"> U.S. Holocaust Memorial Museum        </span>│<span style=\"color: #7f7f7f; text-decoration-color: #7f7f7f\"> To determine whether a text is primarily about the U.S. Holocaust       </span>│\n",
       "│<span style=\"color: #7f7f7f; text-decoration-color: #7f7f7f\">                                       </span>│<span style=\"color: #7f7f7f; text-decoration-color: #7f7f7f\"> Memorial Museum, you should look for the following key criteria:        </span>│\n",
       "│<span style=\"color: #7f7f7f; text-decoration-color: #7f7f7f\">                                       </span>│<span style=\"color: #7f7f7f; text-decoration-color: #7f7f7f\">                                                                         </span>│\n",
       "│<span style=\"color: #7f7f7f; text-decoration-color: #7f7f7f\">                                       </span>│<span style=\"color: #7f7f7f; text-decoration-color: #7f7f7f\"> 1. **Central Focus**: The text should have the U.S. Holocaust Memorial  </span>│\n",
       "│<span style=\"color: #7f7f7f; text-decoration-color: #7f7f7f\">                                       </span>│<span style=\"color: #7f7f7f; text-decoration-color: #7f7f7f\"> Museum as its main subject. This means that the majority of the content </span>│\n",
       "│<span style=\"color: #7f7f7f; text-decoration-color: #7f7f7f\">                                       </span>│<span style=\"color: #7f7f7f; text-decoration-color: #7f7f7f\"> should revolve around the museum itself rather than mentioning it in    </span>│\n",
       "│<span style=\"color: #7f7f7f; text-decoration-color: #7f7f7f\">                                       </span>│<span style=\"color: #7f7f7f; text-decoration-color: #7f7f7f\"> passing.                                                                </span>│\n",
       "│<span style=\"color: #7f7f7f; text-decoration-color: #7f7f7f\">                                       </span>│<span style=\"color: #7f7f7f; text-decoration-color: #7f7f7f\">                                                                         </span>│\n",
       "│<span style=\"color: #7f7f7f; text-decoration-color: #7f7f7f\">                                       </span>│<span style=\"color: #7f7f7f; text-decoration-color: #7f7f7f\"> 2. **Historical Context**: The text should provide background           </span>│\n",
       "│<span style=\"color: #7f7f7f; text-decoration-color: #7f7f7f\">                                       </span>│<span style=\"color: #7f7f7f; text-decoration-color: #7f7f7f\"> information on the establishment of the museum, including its founding, </span>│\n",
       "│<span style=\"color: #7f7f7f; text-decoration-color: #7f7f7f\">                                       </span>│<span style=\"color: #7f7f7f; text-decoration-color: #7f7f7f\"> mission, and significance in preserving the memory of the Holocaust.    </span>│\n",
       "│<span style=\"color: #7f7f7f; text-decoration-color: #7f7f7f\">                                       </span>│<span style=\"color: #7f7f7f; text-decoration-color: #7f7f7f\">                                                                         </span>│\n",
       "│<span style=\"color: #7f7f7f; text-decoration-color: #7f7f7f\">                                       </span>│<span style=\"color: #7f7f7f; text-decoration-color: #7f7f7f\"> 3. **Exhibits and Collections**: Detailed descriptions of the museum's  </span>│\n",
       "│<span style=\"color: #7f7f7f; text-decoration-color: #7f7f7f\">                                       </span>│<span style=\"color: #7f7f7f; text-decoration-color: #7f7f7f\"> exhibits, collections, and artifacts should be present. This can        </span>│\n",
       "│<span style=\"color: #7f7f7f; text-decoration-color: #7f7f7f\">                                       </span>│<span style=\"color: #7f7f7f; text-decoration-color: #7f7f7f\"> include permanent and temporary exhibitions, as well as any notable     </span>│\n",
       "│<span style=\"color: #7f7f7f; text-decoration-color: #7f7f7f\">                                       </span>│<span style=\"color: #7f7f7f; text-decoration-color: #7f7f7f\"> items or displays that are housed within the museum.                    </span>│\n",
       "│<span style=\"color: #7f7f7f; text-decoration-color: #7f7f7f\">                                       </span>│<span style=\"color: #7f7f7f; text-decoration-color: #7f7f7f\">                                                                         </span>│\n",
       "│<span style=\"color: #7f7f7f; text-decoration-color: #7f7f7f\">                                       </span>│<span style=\"color: #7f7f7f; text-decoration-color: #7f7f7f\"> 4. **Educational Programs**: Information about the educational          </span>│\n",
       "│<span style=\"color: #7f7f7f; text-decoration-color: #7f7f7f\">                                       </span>│<span style=\"color: #7f7f7f; text-decoration-color: #7f7f7f\"> programs, workshops, and resources offered by the museum should be      </span>│\n",
       "│<span style=\"color: #7f7f7f; text-decoration-color: #7f7f7f\">                                       </span>│<span style=\"color: #7f7f7f; text-decoration-color: #7f7f7f\"> highlighted. This can include outreach programs, school visits, and     </span>│\n",
       "│<span style=\"color: #7f7f7f; text-decoration-color: #7f7f7f\">                                       </span>│<span style=\"color: #7f7f7f; text-decoration-color: #7f7f7f\"> online educational materials.                                           </span>│\n",
       "│<span style=\"color: #7f7f7f; text-decoration-color: #7f7f7f\">                                       </span>│<span style=\"color: #7f7f7f; text-decoration-color: #7f7f7f\">                                                                         </span>│\n",
       "│<span style=\"color: #7f7f7f; text-decoration-color: #7f7f7f\">                                       </span>│<span style=\"color: #7f7f7f; text-decoration-color: #7f7f7f\"> 5. **Visitor Experience**: The text might describe the visitor          </span>│\n",
       "│<span style=\"color: #7f7f7f; text-decoration-color: #7f7f7f\">                                       </span>│<span style=\"color: #7f7f7f; text-decoration-color: #7f7f7f\"> experience, including the layout of the museum, notable features, and   </span>│\n",
       "│<span style=\"color: #7f7f7f; text-decoration-color: #7f7f7f\">                                       </span>│<span style=\"color: #7f7f7f; text-decoration-color: #7f7f7f\"> any personal accounts or testimonials from visitors.                    </span>│\n",
       "│<span style=\"color: #7f7f7f; text-decoration-color: #7f7f7f\">                                       </span>│<span style=\"color: #7f7f7f; text-decoration-color: #7f7f7f\">                                                                         </span>│\n",
       "│<span style=\"color: #7f7f7f; text-decoration-color: #7f7f7f\">                                       </span>│<span style=\"color: #7f7f7f; text-decoration-color: #7f7f7f\"> 6. **Events and Commemorations**: The text should discuss any           </span>│\n",
       "│<span style=\"color: #7f7f7f; text-decoration-color: #7f7f7f\">                                       </span>│<span style=\"color: #7f7f7f; text-decoration-color: #7f7f7f\"> significant events, commemorations, or ceremonies that are held at the  </span>│\n",
       "│<span style=\"color: #7f7f7f; text-decoration-color: #7f7f7f\">                                       </span>│<span style=\"color: #7f7f7f; text-decoration-color: #7f7f7f\"> museum, such as Holocaust Remembrance Day events.                       </span>│\n",
       "│<span style=\"color: #7f7f7f; text-decoration-color: #7f7f7f\">                                       </span>│<span style=\"color: #7f7f7f; text-decoration-color: #7f7f7f\">                                                                         </span>│\n",
       "│<span style=\"color: #7f7f7f; text-decoration-color: #7f7f7f\">                                       </span>│<span style=\"color: #7f7f7f; text-decoration-color: #7f7f7f\"> 7. **Impact and Influence**: The text should cover the broader impact   </span>│\n",
       "│<span style=\"color: #7f7f7f; text-decoration-color: #7f7f7f\">                                       </span>│<span style=\"color: #7f7f7f; text-decoration-color: #7f7f7f\"> and influence of the museum on public understanding and awareness of    </span>│\n",
       "│<span style=\"color: #7f7f7f; text-decoration-color: #7f7f7f\">                                       </span>│<span style=\"color: #7f7f7f; text-decoration-color: #7f7f7f\"> the Holocaust. This can include its role in promoting historical        </span>│\n",
       "│<span style=\"color: #7f7f7f; text-decoration-color: #7f7f7f\">                                       </span>│<span style=\"color: #7f7f7f; text-decoration-color: #7f7f7f\"> research, human rights, and genocide prevention.                        </span>│\n",
       "│<span style=\"color: #7f7f7f; text-decoration-color: #7f7f7f\">                                       </span>│<span style=\"color: #7f7f7f; text-decoration-color: #7f7f7f\">                                                                         </span>│\n",
       "│<span style=\"color: #7f7f7f; text-decoration-color: #7f7f7f\">                                       </span>│<span style=\"color: #7f7f7f; text-decoration-color: #7f7f7f\"> 8. **Location and Accessibility**: Practical information about the      </span>│\n",
       "│<span style=\"color: #7f7f7f; text-decoration-color: #7f7f7f\">                                       </span>│<span style=\"color: #7f7f7f; text-decoration-color: #7f7f7f\"> museum's location, hours of operation, and accessibility for visitors   </span>│\n",
       "│<span style=\"color: #7f7f7f; text-decoration-color: #7f7f7f\">                                       </span>│<span style=\"color: #7f7f7f; text-decoration-color: #7f7f7f\"> can also indicate that the text is focused on the museum.               </span>│\n",
       "├───────────────────────────────────────┼─────────────────────────────────────────────────────────────────────────┤\n",
       "│<span style=\"color: #7f7f7f; text-decoration-color: #7f7f7f\"> DACA recipients                       </span>│<span style=\"color: #7f7f7f; text-decoration-color: #7f7f7f\"> To determine if a text is primarily about DACA recipients, you can look </span>│\n",
       "│<span style=\"color: #7f7f7f; text-decoration-color: #7f7f7f\">                                       </span>│<span style=\"color: #7f7f7f; text-decoration-color: #7f7f7f\"> for the following key criteria:                                         </span>│\n",
       "│<span style=\"color: #7f7f7f; text-decoration-color: #7f7f7f\">                                       </span>│<span style=\"color: #7f7f7f; text-decoration-color: #7f7f7f\">                                                                         </span>│\n",
       "│<span style=\"color: #7f7f7f; text-decoration-color: #7f7f7f\">                                       </span>│<span style=\"color: #7f7f7f; text-decoration-color: #7f7f7f\"> 1. **Mention of DACA**: The text should explicitly mention Deferred     </span>│\n",
       "│<span style=\"color: #7f7f7f; text-decoration-color: #7f7f7f\">                                       </span>│<span style=\"color: #7f7f7f; text-decoration-color: #7f7f7f\"> Action for Childhood Arrivals (DACA) multiple times. This includes      </span>│\n",
       "│<span style=\"color: #7f7f7f; text-decoration-color: #7f7f7f\">                                       </span>│<span style=\"color: #7f7f7f; text-decoration-color: #7f7f7f\"> references to the program itself, its policies, and its impact.         </span>│\n",
       "│<span style=\"color: #7f7f7f; text-decoration-color: #7f7f7f\">                                       </span>│<span style=\"color: #7f7f7f; text-decoration-color: #7f7f7f\">                                                                         </span>│\n",
       "│<span style=\"color: #7f7f7f; text-decoration-color: #7f7f7f\">                                       </span>│<span style=\"color: #7f7f7f; text-decoration-color: #7f7f7f\"> 2. **Focus on Recipients**: There should be a clear focus on the        </span>│\n",
       "│<span style=\"color: #7f7f7f; text-decoration-color: #7f7f7f\">                                       </span>│<span style=\"color: #7f7f7f; text-decoration-color: #7f7f7f\"> individuals who are DACA recipients. This includes their experiences,   </span>│\n",
       "│<span style=\"color: #7f7f7f; text-decoration-color: #7f7f7f\">                                       </span>│<span style=\"color: #7f7f7f; text-decoration-color: #7f7f7f\"> challenges, and stories.                                                </span>│\n",
       "│<span style=\"color: #7f7f7f; text-decoration-color: #7f7f7f\">                                       </span>│<span style=\"color: #7f7f7f; text-decoration-color: #7f7f7f\">                                                                         </span>│\n",
       "│<span style=\"color: #7f7f7f; text-decoration-color: #7f7f7f\">                                       </span>│<span style=\"color: #7f7f7f; text-decoration-color: #7f7f7f\"> 3. **Legal and Policy Context**: The text should discuss the legal and  </span>│\n",
       "│<span style=\"color: #7f7f7f; text-decoration-color: #7f7f7f\">                                       </span>│<span style=\"color: #7f7f7f; text-decoration-color: #7f7f7f\"> policy framework surrounding DACA, including eligibility criteria,      </span>│\n",
       "│<span style=\"color: #7f7f7f; text-decoration-color: #7f7f7f\">                                       </span>│<span style=\"color: #7f7f7f; text-decoration-color: #7f7f7f\"> application processes, and any changes or challenges to the program.    </span>│\n",
       "│<span style=\"color: #7f7f7f; text-decoration-color: #7f7f7f\">                                       </span>│<span style=\"color: #7f7f7f; text-decoration-color: #7f7f7f\">                                                                         </span>│\n",
       "│<span style=\"color: #7f7f7f; text-decoration-color: #7f7f7f\">                                       </span>│<span style=\"color: #7f7f7f; text-decoration-color: #7f7f7f\"> 4. **Impact and Outcomes**: Look for discussions about the impact of    </span>│\n",
       "│<span style=\"color: #7f7f7f; text-decoration-color: #7f7f7f\">                                       </span>│<span style=\"color: #7f7f7f; text-decoration-color: #7f7f7f\"> DACA on recipients' lives, such as access to education, employment      </span>│\n",
       "│<span style=\"color: #7f7f7f; text-decoration-color: #7f7f7f\">                                       </span>│<span style=\"color: #7f7f7f; text-decoration-color: #7f7f7f\"> opportunities, and protection from deportation.                         </span>│\n",
       "│<span style=\"color: #7f7f7f; text-decoration-color: #7f7f7f\">                                       </span>│<span style=\"color: #7f7f7f; text-decoration-color: #7f7f7f\">                                                                         </span>│\n",
       "│<span style=\"color: #7f7f7f; text-decoration-color: #7f7f7f\">                                       </span>│<span style=\"color: #7f7f7f; text-decoration-color: #7f7f7f\"> 5. **Advocacy and Support**: The text may include information about     </span>│\n",
       "│<span style=\"color: #7f7f7f; text-decoration-color: #7f7f7f\">                                       </span>│<span style=\"color: #7f7f7f; text-decoration-color: #7f7f7f\"> advocacy efforts, support organizations, and community responses        </span>│\n",
       "│<span style=\"color: #7f7f7f; text-decoration-color: #7f7f7f\">                                       </span>│<span style=\"color: #7f7f7f; text-decoration-color: #7f7f7f\"> related to DACA recipients.                                             </span>│\n",
       "│<span style=\"color: #7f7f7f; text-decoration-color: #7f7f7f\">                                       </span>│<span style=\"color: #7f7f7f; text-decoration-color: #7f7f7f\">                                                                         </span>│\n",
       "│<span style=\"color: #7f7f7f; text-decoration-color: #7f7f7f\">                                       </span>│<span style=\"color: #7f7f7f; text-decoration-color: #7f7f7f\"> 6. **Statistical Data**: The presence of statistical data or research   </span>│\n",
       "│<span style=\"color: #7f7f7f; text-decoration-color: #7f7f7f\">                                       </span>│<span style=\"color: #7f7f7f; text-decoration-color: #7f7f7f\"> findings specifically about DACA recipients can indicate that the text  </span>│\n",
       "│<span style=\"color: #7f7f7f; text-decoration-color: #7f7f7f\">                                       </span>│<span style=\"color: #7f7f7f; text-decoration-color: #7f7f7f\"> is focused on this group.                                               </span>│\n",
       "│<span style=\"color: #7f7f7f; text-decoration-color: #7f7f7f\">                                       </span>│<span style=\"color: #7f7f7f; text-decoration-color: #7f7f7f\">                                                                         </span>│\n",
       "│<span style=\"color: #7f7f7f; text-decoration-color: #7f7f7f\">                                       </span>│<span style=\"color: #7f7f7f; text-decoration-color: #7f7f7f\"> 7. **Comparative Analysis**: If the text compares the experiences of    </span>│\n",
       "│<span style=\"color: #7f7f7f; text-decoration-color: #7f7f7f\">                                       </span>│<span style=\"color: #7f7f7f; text-decoration-color: #7f7f7f\"> DACA recipients with other immigrant groups or discusses their unique   </span>│\n",
       "│<span style=\"color: #7f7f7f; text-decoration-color: #7f7f7f\">                                       </span>│<span style=\"color: #7f7f7f; text-decoration-color: #7f7f7f\"> position within the broader immigration system, it is likely focused on </span>│\n",
       "│<span style=\"color: #7f7f7f; text-decoration-color: #7f7f7f\">                                       </span>│<span style=\"color: #7f7f7f; text-decoration-color: #7f7f7f\"> DACA recipients.                                                        </span>│\n",
       "└───────────────────────────────────────┴─────────────────────────────────────────────────────────────────────────┘\n",
       "</pre>\n"
      ],
      "text/plain": [
       "┏━━━━━━━━━━━━━━━━━━━━━━━━━━━━━━━━━━━━━━━┳━━━━━━━━━━━━━━━━━━━━━━━━━━━━━━━━━━━━━━━━━━━━━━━━━━━━━━━━━━━━━━━━━━━━━━━━━┓\n",
       "┃\u001b[1;35m \u001b[0m\u001b[1;35mscenario                             \u001b[0m\u001b[1;35m \u001b[0m┃\u001b[1;35m \u001b[0m\u001b[1;35manswer                                                                 \u001b[0m\u001b[1;35m \u001b[0m┃\n",
       "┃\u001b[1;35m \u001b[0m\u001b[1;35m.concept                             \u001b[0m\u001b[1;35m \u001b[0m┃\u001b[1;35m \u001b[0m\u001b[1;35m.criteria                                                              \u001b[0m\u001b[1;35m \u001b[0m┃\n",
       "┡━━━━━━━━━━━━━━━━━━━━━━━━━━━━━━━━━━━━━━━╇━━━━━━━━━━━━━━━━━━━━━━━━━━━━━━━━━━━━━━━━━━━━━━━━━━━━━━━━━━━━━━━━━━━━━━━━━┩\n",
       "│\u001b[2m \u001b[0m\u001b[2mJob creation                         \u001b[0m\u001b[2m \u001b[0m│\u001b[2m \u001b[0m\u001b[2mTo determine whether a text is primarily about the concept of job      \u001b[0m\u001b[2m \u001b[0m│\n",
       "│\u001b[2m                                       \u001b[0m│\u001b[2m \u001b[0m\u001b[2mcreation, you can look for several key criteria:                       \u001b[0m\u001b[2m \u001b[0m│\n",
       "│\u001b[2m                                       \u001b[0m│\u001b[2m \u001b[0m\u001b[2m                                                                       \u001b[0m\u001b[2m \u001b[0m│\n",
       "│\u001b[2m                                       \u001b[0m│\u001b[2m \u001b[0m\u001b[2m1. **Main Topic Focus**: The text should have job creation as its      \u001b[0m\u001b[2m \u001b[0m│\n",
       "│\u001b[2m                                       \u001b[0m│\u001b[2m \u001b[0m\u001b[2mcentral theme. This means the bulk of the content discusses how jobs   \u001b[0m\u001b[2m \u001b[0m│\n",
       "│\u001b[2m                                       \u001b[0m│\u001b[2m \u001b[0m\u001b[2mare being created, the factors influencing job creation, or the        \u001b[0m\u001b[2m \u001b[0m│\n",
       "│\u001b[2m                                       \u001b[0m│\u001b[2m \u001b[0m\u001b[2moutcomes of job creation efforts.                                      \u001b[0m\u001b[2m \u001b[0m│\n",
       "│\u001b[2m                                       \u001b[0m│\u001b[2m \u001b[0m\u001b[2m                                                                       \u001b[0m\u001b[2m \u001b[0m│\n",
       "│\u001b[2m                                       \u001b[0m│\u001b[2m \u001b[0m\u001b[2m2. **Economic Indicators**: The text should reference economic         \u001b[0m\u001b[2m \u001b[0m│\n",
       "│\u001b[2m                                       \u001b[0m│\u001b[2m \u001b[0m\u001b[2mindicators related to job creation, such as employment rates,          \u001b[0m\u001b[2m \u001b[0m│\n",
       "│\u001b[2m                                       \u001b[0m│\u001b[2m \u001b[0m\u001b[2munemployment rates, new business startups, and job growth statistics.  \u001b[0m\u001b[2m \u001b[0m│\n",
       "│\u001b[2m                                       \u001b[0m│\u001b[2m \u001b[0m\u001b[2m                                                                       \u001b[0m\u001b[2m \u001b[0m│\n",
       "│\u001b[2m                                       \u001b[0m│\u001b[2m \u001b[0m\u001b[2m3. **Policy and Programs**: Look for discussions about government      \u001b[0m\u001b[2m \u001b[0m│\n",
       "│\u001b[2m                                       \u001b[0m│\u001b[2m \u001b[0m\u001b[2mpolicies, initiatives, or programs designed to stimulate job creation. \u001b[0m\u001b[2m \u001b[0m│\n",
       "│\u001b[2m                                       \u001b[0m│\u001b[2m \u001b[0m\u001b[2mThis could include tax incentives for businesses, workforce development\u001b[0m\u001b[2m \u001b[0m│\n",
       "│\u001b[2m                                       \u001b[0m│\u001b[2m \u001b[0m\u001b[2mprograms, or infrastructure projects.                                  \u001b[0m\u001b[2m \u001b[0m│\n",
       "│\u001b[2m                                       \u001b[0m│\u001b[2m \u001b[0m\u001b[2m                                                                       \u001b[0m\u001b[2m \u001b[0m│\n",
       "│\u001b[2m                                       \u001b[0m│\u001b[2m \u001b[0m\u001b[2m4. **Case Studies and Examples**: The text should provide examples or  \u001b[0m\u001b[2m \u001b[0m│\n",
       "│\u001b[2m                                       \u001b[0m│\u001b[2m \u001b[0m\u001b[2mcase studies of successful job creation efforts. This could involve    \u001b[0m\u001b[2m \u001b[0m│\n",
       "│\u001b[2m                                       \u001b[0m│\u001b[2m \u001b[0m\u001b[2mspecific industries, regions, or companies that have created a         \u001b[0m\u001b[2m \u001b[0m│\n",
       "│\u001b[2m                                       \u001b[0m│\u001b[2m \u001b[0m\u001b[2msignificant number of jobs.                                            \u001b[0m\u001b[2m \u001b[0m│\n",
       "│\u001b[2m                                       \u001b[0m│\u001b[2m \u001b[0m\u001b[2m                                                                       \u001b[0m\u001b[2m \u001b[0m│\n",
       "│\u001b[2m                                       \u001b[0m│\u001b[2m \u001b[0m\u001b[2m5. **Challenges and Solutions**: The text might explore challenges to  \u001b[0m\u001b[2m \u001b[0m│\n",
       "│\u001b[2m                                       \u001b[0m│\u001b[2m \u001b[0m\u001b[2mjob creation, such as economic downturns, automation, or regulatory    \u001b[0m\u001b[2m \u001b[0m│\n",
       "│\u001b[2m                                       \u001b[0m│\u001b[2m \u001b[0m\u001b[2mhurdles, and propose solutions to these challenges.                    \u001b[0m\u001b[2m \u001b[0m│\n",
       "│\u001b[2m                                       \u001b[0m│\u001b[2m \u001b[0m\u001b[2m                                                                       \u001b[0m\u001b[2m \u001b[0m│\n",
       "│\u001b[2m                                       \u001b[0m│\u001b[2m \u001b[0m\u001b[2m6. **Stakeholder Involvement**: The text should mention key            \u001b[0m\u001b[2m \u001b[0m│\n",
       "│\u001b[2m                                       \u001b[0m│\u001b[2m \u001b[0m\u001b[2mstakeholders involved in job creation, including government entities,  \u001b[0m\u001b[2m \u001b[0m│\n",
       "│\u001b[2m                                       \u001b[0m│\u001b[2m \u001b[0m\u001b[2mprivate sector companies, non-profits, and educational institutions.   \u001b[0m\u001b[2m \u001b[0m│\n",
       "│\u001b[2m                                       \u001b[0m│\u001b[2m \u001b[0m\u001b[2m                                                                       \u001b[0m\u001b[2m \u001b[0m│\n",
       "│\u001b[2m                                       \u001b[0m│\u001b[2m \u001b[0m\u001b[2m7. **Future Projections**: Look for discussions about future trends in \u001b[0m\u001b[2m \u001b[0m│\n",
       "│\u001b[2m                                       \u001b[0m│\u001b[2m \u001b[0m\u001b[2mjob creation, such as emerging industries, technological advancements, \u001b[0m\u001b[2m \u001b[0m│\n",
       "│\u001b[2m                                       \u001b[0m│\u001b[2m \u001b[0m\u001b[2mor demographic changes that could impact job creation.                 \u001b[0m\u001b[2m \u001b[0m│\n",
       "│\u001b[2m                                       \u001b[0m│\u001b[2m \u001b[0m\u001b[2m                                                                       \u001b[0m\u001b[2m \u001b[0m│\n",
       "│\u001b[2m                                       \u001b[0m│\u001b[2m \u001b[0m\u001b[2m8. **Impact on Society**: The text should address the broader impact of\u001b[0m\u001b[2m \u001b[0m│\n",
       "│\u001b[2m                                       \u001b[0m│\u001b[2m \u001b[0m\u001b[2mjob creation on society, such as reducing poverty, improving living    \u001b[0m\u001b[2m \u001b[0m│\n",
       "│\u001b[2m                                       \u001b[0m│\u001b[2m \u001b[0m\u001b[2mstandards, and fostering economic growth.                              \u001b[0m\u001b[2m \u001b[0m│\n",
       "├───────────────────────────────────────┼─────────────────────────────────────────────────────────────────────────┤\n",
       "│\u001b[2m \u001b[0m\u001b[2mNation of immigrants                 \u001b[0m\u001b[2m \u001b[0m│\u001b[2m \u001b[0m\u001b[2mDetermining whether a text is primarily about the concept of a \"Nation \u001b[0m\u001b[2m \u001b[0m│\n",
       "│\u001b[2m                                       \u001b[0m│\u001b[2m \u001b[0m\u001b[2mof Immigrants\" involves examining several key criteria:                \u001b[0m\u001b[2m \u001b[0m│\n",
       "│\u001b[2m                                       \u001b[0m│\u001b[2m \u001b[0m\u001b[2m                                                                       \u001b[0m\u001b[2m \u001b[0m│\n",
       "│\u001b[2m                                       \u001b[0m│\u001b[2m \u001b[0m\u001b[2m1. **Historical Context**: Look for references to the history of       \u001b[0m\u001b[2m \u001b[0m│\n",
       "│\u001b[2m                                       \u001b[0m│\u001b[2m \u001b[0m\u001b[2mimmigration in the nation being discussed. This includes significant   \u001b[0m\u001b[2m \u001b[0m│\n",
       "│\u001b[2m                                       \u001b[0m│\u001b[2m \u001b[0m\u001b[2mwaves of immigration, key dates, and legislative acts that shaped      \u001b[0m\u001b[2m \u001b[0m│\n",
       "│\u001b[2m                                       \u001b[0m│\u001b[2m \u001b[0m\u001b[2mimmigration policy.                                                    \u001b[0m\u001b[2m \u001b[0m│\n",
       "│\u001b[2m                                       \u001b[0m│\u001b[2m \u001b[0m\u001b[2m                                                                       \u001b[0m\u001b[2m \u001b[0m│\n",
       "│\u001b[2m                                       \u001b[0m│\u001b[2m \u001b[0m\u001b[2m2. **Diversity and Demographics**: The text should discuss the diverse \u001b[0m\u001b[2m \u001b[0m│\n",
       "│\u001b[2m                                       \u001b[0m│\u001b[2m \u001b[0m\u001b[2morigins of the population, highlighting the various ethnic, cultural,  \u001b[0m\u001b[2m \u001b[0m│\n",
       "│\u001b[2m                                       \u001b[0m│\u001b[2m \u001b[0m\u001b[2mand national backgrounds of the people who have immigrated to the      \u001b[0m\u001b[2m \u001b[0m│\n",
       "│\u001b[2m                                       \u001b[0m│\u001b[2m \u001b[0m\u001b[2mnation.                                                                \u001b[0m\u001b[2m \u001b[0m│\n",
       "│\u001b[2m                                       \u001b[0m│\u001b[2m \u001b[0m\u001b[2m                                                                       \u001b[0m\u001b[2m \u001b[0m│\n",
       "│\u001b[2m                                       \u001b[0m│\u001b[2m \u001b[0m\u001b[2m3. **Immigration Policy**: Analysis of past and present immigration    \u001b[0m\u001b[2m \u001b[0m│\n",
       "│\u001b[2m                                       \u001b[0m│\u001b[2m \u001b[0m\u001b[2mlaws, policies, and reforms is crucial. The text should explore how    \u001b[0m\u001b[2m \u001b[0m│\n",
       "│\u001b[2m                                       \u001b[0m│\u001b[2m \u001b[0m\u001b[2mthese policies have influenced the composition and integration of      \u001b[0m\u001b[2m \u001b[0m│\n",
       "│\u001b[2m                                       \u001b[0m│\u001b[2m \u001b[0m\u001b[2mimmigrants.                                                            \u001b[0m\u001b[2m \u001b[0m│\n",
       "│\u001b[2m                                       \u001b[0m│\u001b[2m \u001b[0m\u001b[2m                                                                       \u001b[0m\u001b[2m \u001b[0m│\n",
       "│\u001b[2m                                       \u001b[0m│\u001b[2m \u001b[0m\u001b[2m4. **Cultural Impact**: The text should address how immigration has    \u001b[0m\u001b[2m \u001b[0m│\n",
       "│\u001b[2m                                       \u001b[0m│\u001b[2m \u001b[0m\u001b[2minfluenced the culture, traditions, and societal norms of the nation.  \u001b[0m\u001b[2m \u001b[0m│\n",
       "│\u001b[2m                                       \u001b[0m│\u001b[2m \u001b[0m\u001b[2mThis includes contributions to cuisine, language, art, and other       \u001b[0m\u001b[2m \u001b[0m│\n",
       "│\u001b[2m                                       \u001b[0m│\u001b[2m \u001b[0m\u001b[2mcultural facets.                                                       \u001b[0m\u001b[2m \u001b[0m│\n",
       "│\u001b[2m                                       \u001b[0m│\u001b[2m \u001b[0m\u001b[2m                                                                       \u001b[0m\u001b[2m \u001b[0m│\n",
       "│\u001b[2m                                       \u001b[0m│\u001b[2m \u001b[0m\u001b[2m5. **Economic Contributions**: Look for discussions on how immigrants  \u001b[0m\u001b[2m \u001b[0m│\n",
       "│\u001b[2m                                       \u001b[0m│\u001b[2m \u001b[0m\u001b[2mhave contributed to the economy, including labor force participation,  \u001b[0m\u001b[2m \u001b[0m│\n",
       "│\u001b[2m                                       \u001b[0m│\u001b[2m \u001b[0m\u001b[2mentrepreneurship, and innovation.                                      \u001b[0m\u001b[2m \u001b[0m│\n",
       "│\u001b[2m                                       \u001b[0m│\u001b[2m \u001b[0m\u001b[2m                                                                       \u001b[0m\u001b[2m \u001b[0m│\n",
       "│\u001b[2m                                       \u001b[0m│\u001b[2m \u001b[0m\u001b[2m6. **Challenges and Debates**: The text should cover challenges        \u001b[0m\u001b[2m \u001b[0m│\n",
       "│\u001b[2m                                       \u001b[0m│\u001b[2m \u001b[0m\u001b[2massociated with immigration, such as integration, discrimination, and  \u001b[0m\u001b[2m \u001b[0m│\n",
       "│\u001b[2m                                       \u001b[0m│\u001b[2m \u001b[0m\u001b[2mpolitical debates surrounding immigration policy.                      \u001b[0m\u001b[2m \u001b[0m│\n",
       "│\u001b[2m                                       \u001b[0m│\u001b[2m \u001b[0m\u001b[2m                                                                       \u001b[0m\u001b[2m \u001b[0m│\n",
       "│\u001b[2m                                       \u001b[0m│\u001b[2m \u001b[0m\u001b[2m7. **Identity and National Narrative**: The concept of a \"Nation of    \u001b[0m\u001b[2m \u001b[0m│\n",
       "│\u001b[2m                                       \u001b[0m│\u001b[2m \u001b[0m\u001b[2mImmigrants\" often ties into the national identity and narrative. The   \u001b[0m\u001b[2m \u001b[0m│\n",
       "│\u001b[2m                                       \u001b[0m│\u001b[2m \u001b[0m\u001b[2mtext should reflect on how immigration shapes the collective           \u001b[0m\u001b[2m \u001b[0m│\n",
       "│\u001b[2m                                       \u001b[0m│\u001b[2m \u001b[0m\u001b[2munderstanding of what it means to belong to that nation.               \u001b[0m\u001b[2m \u001b[0m│\n",
       "│\u001b[2m                                       \u001b[0m│\u001b[2m \u001b[0m\u001b[2m                                                                       \u001b[0m\u001b[2m \u001b[0m│\n",
       "│\u001b[2m                                       \u001b[0m│\u001b[2m \u001b[0m\u001b[2m8. **Personal Stories and Testimonies**: Inclusion of personal stories \u001b[0m\u001b[2m \u001b[0m│\n",
       "│\u001b[2m                                       \u001b[0m│\u001b[2m \u001b[0m\u001b[2mor testimonies from immigrants can highlight the human aspect of       \u001b[0m\u001b[2m \u001b[0m│\n",
       "│\u001b[2m                                       \u001b[0m│\u001b[2m \u001b[0m\u001b[2mimmigration and its impact on individuals and communities.             \u001b[0m\u001b[2m \u001b[0m│\n",
       "├───────────────────────────────────────┼─────────────────────────────────────────────────────────────────────────┤\n",
       "│\u001b[2m \u001b[0m\u001b[2mMedicare and Social Security solvency\u001b[0m\u001b[2m \u001b[0m│\u001b[2m \u001b[0m\u001b[2mWhen evaluating whether a text is primarily about Medicare and Social  \u001b[0m\u001b[2m \u001b[0m│\n",
       "│\u001b[2m                                       \u001b[0m│\u001b[2m \u001b[0m\u001b[2mSecurity solvency, consider the following key criteria:                \u001b[0m\u001b[2m \u001b[0m│\n",
       "│\u001b[2m                                       \u001b[0m│\u001b[2m \u001b[0m\u001b[2m                                                                       \u001b[0m\u001b[2m \u001b[0m│\n",
       "│\u001b[2m                                       \u001b[0m│\u001b[2m \u001b[0m\u001b[2m1. **Central Theme**: The text should focus on the financial health and\u001b[0m\u001b[2m \u001b[0m│\n",
       "│\u001b[2m                                       \u001b[0m│\u001b[2m \u001b[0m\u001b[2msustainability of Medicare and Social Security programs. Look for      \u001b[0m\u001b[2m \u001b[0m│\n",
       "│\u001b[2m                                       \u001b[0m│\u001b[2m \u001b[0m\u001b[2mdiscussions on funding, expenditures, and the long-term viability of   \u001b[0m\u001b[2m \u001b[0m│\n",
       "│\u001b[2m                                       \u001b[0m│\u001b[2m \u001b[0m\u001b[2mthese programs.                                                        \u001b[0m\u001b[2m \u001b[0m│\n",
       "│\u001b[2m                                       \u001b[0m│\u001b[2m \u001b[0m\u001b[2m                                                                       \u001b[0m\u001b[2m \u001b[0m│\n",
       "│\u001b[2m                                       \u001b[0m│\u001b[2m \u001b[0m\u001b[2m2. **Statistics and Projections**: The text should include data,       \u001b[0m\u001b[2m \u001b[0m│\n",
       "│\u001b[2m                                       \u001b[0m│\u001b[2m \u001b[0m\u001b[2mstatistics, or projections related to the solvency of Medicare and     \u001b[0m\u001b[2m \u001b[0m│\n",
       "│\u001b[2m                                       \u001b[0m│\u001b[2m \u001b[0m\u001b[2mSocial Security. This might involve actuarial reports, trustee reports,\u001b[0m\u001b[2m \u001b[0m│\n",
       "│\u001b[2m                                       \u001b[0m│\u001b[2m \u001b[0m\u001b[2mor financial forecasts.                                                \u001b[0m\u001b[2m \u001b[0m│\n",
       "│\u001b[2m                                       \u001b[0m│\u001b[2m \u001b[0m\u001b[2m                                                                       \u001b[0m\u001b[2m \u001b[0m│\n",
       "│\u001b[2m                                       \u001b[0m│\u001b[2m \u001b[0m\u001b[2m3. **Policy Discussions**: The text should address policy measures or  \u001b[0m\u001b[2m \u001b[0m│\n",
       "│\u001b[2m                                       \u001b[0m│\u001b[2m \u001b[0m\u001b[2mreforms aimed at ensuring the solvency of these programs. This can     \u001b[0m\u001b[2m \u001b[0m│\n",
       "│\u001b[2m                                       \u001b[0m│\u001b[2m \u001b[0m\u001b[2minclude proposed changes to benefits, taxes, eligibility criteria, or  \u001b[0m\u001b[2m \u001b[0m│\n",
       "│\u001b[2m                                       \u001b[0m│\u001b[2m \u001b[0m\u001b[2mother policy interventions.                                            \u001b[0m\u001b[2m \u001b[0m│\n",
       "│\u001b[2m                                       \u001b[0m│\u001b[2m \u001b[0m\u001b[2m                                                                       \u001b[0m\u001b[2m \u001b[0m│\n",
       "│\u001b[2m                                       \u001b[0m│\u001b[2m \u001b[0m\u001b[2m4. **Challenges and Risks**: The text should outline the challenges and\u001b[0m\u001b[2m \u001b[0m│\n",
       "│\u001b[2m                                       \u001b[0m│\u001b[2m \u001b[0m\u001b[2mrisks to the solvency of Medicare and Social Security. This could      \u001b[0m\u001b[2m \u001b[0m│\n",
       "│\u001b[2m                                       \u001b[0m│\u001b[2m \u001b[0m\u001b[2minvolve demographic changes, economic factors, or healthcare cost      \u001b[0m\u001b[2m \u001b[0m│\n",
       "│\u001b[2m                                       \u001b[0m│\u001b[2m \u001b[0m\u001b[2mtrends that impact the financial stability of these programs.          \u001b[0m\u001b[2m \u001b[0m│\n",
       "│\u001b[2m                                       \u001b[0m│\u001b[2m \u001b[0m\u001b[2m                                                                       \u001b[0m\u001b[2m \u001b[0m│\n",
       "│\u001b[2m                                       \u001b[0m│\u001b[2m \u001b[0m\u001b[2m5. **Expert Opinions and Analysis**: Look for insights from economists,\u001b[0m\u001b[2m \u001b[0m│\n",
       "│\u001b[2m                                       \u001b[0m│\u001b[2m \u001b[0m\u001b[2mpolicymakers, or experts in the field of social insurance and public   \u001b[0m\u001b[2m \u001b[0m│\n",
       "│\u001b[2m                                       \u001b[0m│\u001b[2m \u001b[0m\u001b[2mfinance. Their analysis and opinions can be a key indicator that the   \u001b[0m\u001b[2m \u001b[0m│\n",
       "│\u001b[2m                                       \u001b[0m│\u001b[2m \u001b[0m\u001b[2mtext is centered on solvency issues.                                   \u001b[0m\u001b[2m \u001b[0m│\n",
       "│\u001b[2m                                       \u001b[0m│\u001b[2m \u001b[0m\u001b[2m                                                                       \u001b[0m\u001b[2m \u001b[0m│\n",
       "│\u001b[2m                                       \u001b[0m│\u001b[2m \u001b[0m\u001b[2m6. **Legislative and Regulatory Context**: The text should reference   \u001b[0m\u001b[2m \u001b[0m│\n",
       "│\u001b[2m                                       \u001b[0m│\u001b[2m \u001b[0m\u001b[2mrelevant legislative or regulatory frameworks that govern Medicare and \u001b[0m\u001b[2m \u001b[0m│\n",
       "│\u001b[2m                                       \u001b[0m│\u001b[2m \u001b[0m\u001b[2mSocial Security. Discussions about past, current, or proposed laws     \u001b[0m\u001b[2m \u001b[0m│\n",
       "│\u001b[2m                                       \u001b[0m│\u001b[2m \u001b[0m\u001b[2mimpacting these programs are important.                                \u001b[0m\u001b[2m \u001b[0m│\n",
       "│\u001b[2m                                       \u001b[0m│\u001b[2m \u001b[0m\u001b[2m                                                                       \u001b[0m\u001b[2m \u001b[0m│\n",
       "│\u001b[2m                                       \u001b[0m│\u001b[2m \u001b[0m\u001b[2m7. **Comparative Analysis**: The text may compare the solvency of      \u001b[0m\u001b[2m \u001b[0m│\n",
       "│\u001b[2m                                       \u001b[0m│\u001b[2m \u001b[0m\u001b[2mMedicare and Social Security with other social insurance programs,     \u001b[0m\u001b[2m \u001b[0m│\n",
       "│\u001b[2m                                       \u001b[0m│\u001b[2m \u001b[0m\u001b[2meither within the same country or internationally, to provide context  \u001b[0m\u001b[2m \u001b[0m│\n",
       "│\u001b[2m                                       \u001b[0m│\u001b[2m \u001b[0m\u001b[2mand highlight solvency issues.                                         \u001b[0m\u001b[2m \u001b[0m│\n",
       "├───────────────────────────────────────┼─────────────────────────────────────────────────────────────────────────┤\n",
       "│\u001b[2m \u001b[0m\u001b[2mEconomy for families                 \u001b[0m\u001b[2m \u001b[0m│\u001b[2m \u001b[0m\u001b[2mWhen determining whether a text is primarily about the economy for     \u001b[0m\u001b[2m \u001b[0m│\n",
       "│\u001b[2m                                       \u001b[0m│\u001b[2m \u001b[0m\u001b[2mfamilies, you should look for key criteria such as:                    \u001b[0m\u001b[2m \u001b[0m│\n",
       "│\u001b[2m                                       \u001b[0m│\u001b[2m \u001b[0m\u001b[2m                                                                       \u001b[0m\u001b[2m \u001b[0m│\n",
       "│\u001b[2m                                       \u001b[0m│\u001b[2m \u001b[0m\u001b[2m1. **Financial Management**: Discussions on how families manage their  \u001b[0m\u001b[2m \u001b[0m│\n",
       "│\u001b[2m                                       \u001b[0m│\u001b[2m \u001b[0m\u001b[2mfinances, including budgeting, saving, and investing.                  \u001b[0m\u001b[2m \u001b[0m│\n",
       "│\u001b[2m                                       \u001b[0m│\u001b[2m \u001b[0m\u001b[2m                                                                       \u001b[0m\u001b[2m \u001b[0m│\n",
       "│\u001b[2m                                       \u001b[0m│\u001b[2m \u001b[0m\u001b[2m2. **Income and Employment**: Information on family income levels,     \u001b[0m\u001b[2m \u001b[0m│\n",
       "│\u001b[2m                                       \u001b[0m│\u001b[2m \u001b[0m\u001b[2memployment rates, job stability, and wage trends that affect family    \u001b[0m\u001b[2m \u001b[0m│\n",
       "│\u001b[2m                                       \u001b[0m│\u001b[2m \u001b[0m\u001b[2meconomic well-being.                                                   \u001b[0m\u001b[2m \u001b[0m│\n",
       "│\u001b[2m                                       \u001b[0m│\u001b[2m \u001b[0m\u001b[2m                                                                       \u001b[0m\u001b[2m \u001b[0m│\n",
       "│\u001b[2m                                       \u001b[0m│\u001b[2m \u001b[0m\u001b[2m3. **Cost of Living**: Analysis of expenses that families typically    \u001b[0m\u001b[2m \u001b[0m│\n",
       "│\u001b[2m                                       \u001b[0m│\u001b[2m \u001b[0m\u001b[2mface, such as housing, utilities, groceries, transportation, and       \u001b[0m\u001b[2m \u001b[0m│\n",
       "│\u001b[2m                                       \u001b[0m│\u001b[2m \u001b[0m\u001b[2mhealthcare.                                                            \u001b[0m\u001b[2m \u001b[0m│\n",
       "│\u001b[2m                                       \u001b[0m│\u001b[2m \u001b[0m\u001b[2m                                                                       \u001b[0m\u001b[2m \u001b[0m│\n",
       "│\u001b[2m                                       \u001b[0m│\u001b[2m \u001b[0m\u001b[2m4. **Government Policies and Benefits**: Examination of policies,      \u001b[0m\u001b[2m \u001b[0m│\n",
       "│\u001b[2m                                       \u001b[0m│\u001b[2m \u001b[0m\u001b[2mprograms, and benefits designed to support families, like tax credits, \u001b[0m\u001b[2m \u001b[0m│\n",
       "│\u001b[2m                                       \u001b[0m│\u001b[2m \u001b[0m\u001b[2msubsidies, social security, and child care assistance.                 \u001b[0m\u001b[2m \u001b[0m│\n",
       "│\u001b[2m                                       \u001b[0m│\u001b[2m \u001b[0m\u001b[2m                                                                       \u001b[0m\u001b[2m \u001b[0m│\n",
       "│\u001b[2m                                       \u001b[0m│\u001b[2m \u001b[0m\u001b[2m5. **Education and Childcare Costs**: Insights into the costs          \u001b[0m\u001b[2m \u001b[0m│\n",
       "│\u001b[2m                                       \u001b[0m│\u001b[2m \u001b[0m\u001b[2massociated with raising children, including education expenses from    \u001b[0m\u001b[2m \u001b[0m│\n",
       "│\u001b[2m                                       \u001b[0m│\u001b[2m \u001b[0m\u001b[2mpreschool through college, and childcare services.                     \u001b[0m\u001b[2m \u001b[0m│\n",
       "│\u001b[2m                                       \u001b[0m│\u001b[2m \u001b[0m\u001b[2m                                                                       \u001b[0m\u001b[2m \u001b[0m│\n",
       "│\u001b[2m                                       \u001b[0m│\u001b[2m \u001b[0m\u001b[2m6. **Debt and Credit**: Discussion on family debt levels, credit usage,\u001b[0m\u001b[2m \u001b[0m│\n",
       "│\u001b[2m                                       \u001b[0m│\u001b[2m \u001b[0m\u001b[2mand financial products like mortgages, student loans, and credit cards.\u001b[0m\u001b[2m \u001b[0m│\n",
       "│\u001b[2m                                       \u001b[0m│\u001b[2m \u001b[0m\u001b[2m                                                                       \u001b[0m\u001b[2m \u001b[0m│\n",
       "│\u001b[2m                                       \u001b[0m│\u001b[2m \u001b[0m\u001b[2m7. **Economic Challenges**: Identification of specific economic        \u001b[0m\u001b[2m \u001b[0m│\n",
       "│\u001b[2m                                       \u001b[0m│\u001b[2m \u001b[0m\u001b[2mchallenges that families encounter, such as unemployment, inflation,   \u001b[0m\u001b[2m \u001b[0m│\n",
       "│\u001b[2m                                       \u001b[0m│\u001b[2m \u001b[0m\u001b[2mand economic downturns.                                                \u001b[0m\u001b[2m \u001b[0m│\n",
       "│\u001b[2m                                       \u001b[0m│\u001b[2m \u001b[0m\u001b[2m                                                                       \u001b[0m\u001b[2m \u001b[0m│\n",
       "│\u001b[2m                                       \u001b[0m│\u001b[2m \u001b[0m\u001b[2m8. **Wealth Inequality**: Consideration of how economic disparities and\u001b[0m\u001b[2m \u001b[0m│\n",
       "│\u001b[2m                                       \u001b[0m│\u001b[2m \u001b[0m\u001b[2mwealth inequality impact families differently based on socioeconomic   \u001b[0m\u001b[2m \u001b[0m│\n",
       "│\u001b[2m                                       \u001b[0m│\u001b[2m \u001b[0m\u001b[2mstatus.                                                                \u001b[0m\u001b[2m \u001b[0m│\n",
       "├───────────────────────────────────────┼─────────────────────────────────────────────────────────────────────────┤\n",
       "│\u001b[2m \u001b[0m\u001b[2mOrthodox Christian Easter            \u001b[0m\u001b[2m \u001b[0m│\u001b[2m \u001b[0m\u001b[2mTo determine whether a text is primarily about Orthodox Christian      \u001b[0m\u001b[2m \u001b[0m│\n",
       "│\u001b[2m                                       \u001b[0m│\u001b[2m \u001b[0m\u001b[2mEaster, you can look for several key criteria:                         \u001b[0m\u001b[2m \u001b[0m│\n",
       "│\u001b[2m                                       \u001b[0m│\u001b[2m \u001b[0m\u001b[2m                                                                       \u001b[0m\u001b[2m \u001b[0m│\n",
       "│\u001b[2m                                       \u001b[0m│\u001b[2m \u001b[0m\u001b[2m1. **Date and Timing**: The text should reference the specific timing  \u001b[0m\u001b[2m \u001b[0m│\n",
       "│\u001b[2m                                       \u001b[0m│\u001b[2m \u001b[0m\u001b[2mof Orthodox Easter, which often differs from Western Christian Easter. \u001b[0m\u001b[2m \u001b[0m│\n",
       "│\u001b[2m                                       \u001b[0m│\u001b[2m \u001b[0m\u001b[2mIt typically involves the Julian calendar and falls after the Jewish   \u001b[0m\u001b[2m \u001b[0m│\n",
       "│\u001b[2m                                       \u001b[0m│\u001b[2m \u001b[0m\u001b[2mPassover.                                                              \u001b[0m\u001b[2m \u001b[0m│\n",
       "│\u001b[2m                                       \u001b[0m│\u001b[2m \u001b[0m\u001b[2m                                                                       \u001b[0m\u001b[2m \u001b[0m│\n",
       "│\u001b[2m                                       \u001b[0m│\u001b[2m \u001b[0m\u001b[2m2. **Liturgical Practices**: Descriptions of unique Orthodox liturgical\u001b[0m\u001b[2m \u001b[0m│\n",
       "│\u001b[2m                                       \u001b[0m│\u001b[2m \u001b[0m\u001b[2mpractices such as the Paschal Vigil, the midnight service, and the use \u001b[0m\u001b[2m \u001b[0m│\n",
       "│\u001b[2m                                       \u001b[0m│\u001b[2m \u001b[0m\u001b[2mof the Paschal greeting \"Christ is Risen\" (and its response \"Indeed He \u001b[0m\u001b[2m \u001b[0m│\n",
       "│\u001b[2m                                       \u001b[0m│\u001b[2m \u001b[0m\u001b[2mis Risen\") would indicate a focus on Orthodox Easter.                  \u001b[0m\u001b[2m \u001b[0m│\n",
       "│\u001b[2m                                       \u001b[0m│\u001b[2m \u001b[0m\u001b[2m                                                                       \u001b[0m\u001b[2m \u001b[0m│\n",
       "│\u001b[2m                                       \u001b[0m│\u001b[2m \u001b[0m\u001b[2m3. **Cultural Traditions**: Look for mentions of cultural and regional \u001b[0m\u001b[2m \u001b[0m│\n",
       "│\u001b[2m                                       \u001b[0m│\u001b[2m \u001b[0m\u001b[2mtraditions specific to Orthodox Christian communities, such as the     \u001b[0m\u001b[2m \u001b[0m│\n",
       "│\u001b[2m                                       \u001b[0m│\u001b[2m \u001b[0m\u001b[2mpreparation and blessing of Paschal foods, the dyeing of red eggs, and \u001b[0m\u001b[2m \u001b[0m│\n",
       "│\u001b[2m                                       \u001b[0m│\u001b[2m \u001b[0m\u001b[2mfestive meals.                                                         \u001b[0m\u001b[2m \u001b[0m│\n",
       "│\u001b[2m                                       \u001b[0m│\u001b[2m \u001b[0m\u001b[2m                                                                       \u001b[0m\u001b[2m \u001b[0m│\n",
       "│\u001b[2m                                       \u001b[0m│\u001b[2m \u001b[0m\u001b[2m4. **Theological Emphasis**: The text should emphasize the theological \u001b[0m\u001b[2m \u001b[0m│\n",
       "│\u001b[2m                                       \u001b[0m│\u001b[2m \u001b[0m\u001b[2msignificance of the Resurrection of Jesus Christ within the context of \u001b[0m\u001b[2m \u001b[0m│\n",
       "│\u001b[2m                                       \u001b[0m│\u001b[2m \u001b[0m\u001b[2mOrthodox Christianity, including references to the Paschal Troparion   \u001b[0m\u001b[2m \u001b[0m│\n",
       "│\u001b[2m                                       \u001b[0m│\u001b[2m \u001b[0m\u001b[2mand themes of victory over death.                                      \u001b[0m\u001b[2m \u001b[0m│\n",
       "│\u001b[2m                                       \u001b[0m│\u001b[2m \u001b[0m\u001b[2m                                                                       \u001b[0m\u001b[2m \u001b[0m│\n",
       "│\u001b[2m                                       \u001b[0m│\u001b[2m \u001b[0m\u001b[2m5. **Iconography and Symbols**: References to Orthodox Christian       \u001b[0m\u001b[2m \u001b[0m│\n",
       "│\u001b[2m                                       \u001b[0m│\u001b[2m \u001b[0m\u001b[2miconography related to Easter, such as the icon of the Resurrection or \u001b[0m\u001b[2m \u001b[0m│\n",
       "│\u001b[2m                                       \u001b[0m│\u001b[2m \u001b[0m\u001b[2mthe Harrowing of Hell, can be a strong indicator.                      \u001b[0m\u001b[2m \u001b[0m│\n",
       "│\u001b[2m                                       \u001b[0m│\u001b[2m \u001b[0m\u001b[2m                                                                       \u001b[0m\u001b[2m \u001b[0m│\n",
       "│\u001b[2m                                       \u001b[0m│\u001b[2m \u001b[0m\u001b[2m6. **Historical Context**: The text might include historical context   \u001b[0m\u001b[2m \u001b[0m│\n",
       "│\u001b[2m                                       \u001b[0m│\u001b[2m \u001b[0m\u001b[2mabout the development and significance of Orthodox Easter within the   \u001b[0m\u001b[2m \u001b[0m│\n",
       "│\u001b[2m                                       \u001b[0m│\u001b[2m \u001b[0m\u001b[2mbroader history of Christianity, particularly in Eastern Orthodox      \u001b[0m\u001b[2m \u001b[0m│\n",
       "│\u001b[2m                                       \u001b[0m│\u001b[2m \u001b[0m\u001b[2mtraditions.                                                            \u001b[0m\u001b[2m \u001b[0m│\n",
       "├───────────────────────────────────────┼─────────────────────────────────────────────────────────────────────────┤\n",
       "│\u001b[2m \u001b[0m\u001b[2mHolocaust Remembrance                \u001b[0m\u001b[2m \u001b[0m│\u001b[2m \u001b[0m\u001b[2mTo determine whether a text is primarily about Holocaust Remembrance,  \u001b[0m\u001b[2m \u001b[0m│\n",
       "│\u001b[2m                                       \u001b[0m│\u001b[2m \u001b[0m\u001b[2mconsider the following key criteria:                                   \u001b[0m\u001b[2m \u001b[0m│\n",
       "│\u001b[2m                                       \u001b[0m│\u001b[2m \u001b[0m\u001b[2m                                                                       \u001b[0m\u001b[2m \u001b[0m│\n",
       "│\u001b[2m                                       \u001b[0m│\u001b[2m \u001b[0m\u001b[2m1. **Subject Matter**: The text should focus on events, experiences,   \u001b[0m\u001b[2m \u001b[0m│\n",
       "│\u001b[2m                                       \u001b[0m│\u001b[2m \u001b[0m\u001b[2mand memories related to the Holocaust, including the systematic        \u001b[0m\u001b[2m \u001b[0m│\n",
       "│\u001b[2m                                       \u001b[0m│\u001b[2m \u001b[0m\u001b[2mpersecution and genocide of six million Jews and millions of others by \u001b[0m\u001b[2m \u001b[0m│\n",
       "│\u001b[2m                                       \u001b[0m│\u001b[2m \u001b[0m\u001b[2mNazi Germany during World War II.                                      \u001b[0m\u001b[2m \u001b[0m│\n",
       "│\u001b[2m                                       \u001b[0m│\u001b[2m \u001b[0m\u001b[2m                                                                       \u001b[0m\u001b[2m \u001b[0m│\n",
       "│\u001b[2m                                       \u001b[0m│\u001b[2m \u001b[0m\u001b[2m2. **Purpose**: The primary intent of the text should be to remember,  \u001b[0m\u001b[2m \u001b[0m│\n",
       "│\u001b[2m                                       \u001b[0m│\u001b[2m \u001b[0m\u001b[2mhonor, and educate about the Holocaust. This can include commemorative \u001b[0m\u001b[2m \u001b[0m│\n",
       "│\u001b[2m                                       \u001b[0m│\u001b[2m \u001b[0m\u001b[2mactivities, reflections on the impact of the Holocaust, and efforts to \u001b[0m\u001b[2m \u001b[0m│\n",
       "│\u001b[2m                                       \u001b[0m│\u001b[2m \u001b[0m\u001b[2mensure such atrocities are never repeated.                             \u001b[0m\u001b[2m \u001b[0m│\n",
       "│\u001b[2m                                       \u001b[0m│\u001b[2m \u001b[0m\u001b[2m                                                                       \u001b[0m\u001b[2m \u001b[0m│\n",
       "│\u001b[2m                                       \u001b[0m│\u001b[2m \u001b[0m\u001b[2m3. **Historical Context**: The text should provide historical details  \u001b[0m\u001b[2m \u001b[0m│\n",
       "│\u001b[2m                                       \u001b[0m│\u001b[2m \u001b[0m\u001b[2mand context about the Holocaust, such as dates, locations, key figures,\u001b[0m\u001b[2m \u001b[0m│\n",
       "│\u001b[2m                                       \u001b[0m│\u001b[2m \u001b[0m\u001b[2mand significant events like Kristallnacht, concentration camps, and    \u001b[0m\u001b[2m \u001b[0m│\n",
       "│\u001b[2m                                       \u001b[0m│\u001b[2m \u001b[0m\u001b[2mliberation.                                                            \u001b[0m\u001b[2m \u001b[0m│\n",
       "│\u001b[2m                                       \u001b[0m│\u001b[2m \u001b[0m\u001b[2m                                                                       \u001b[0m\u001b[2m \u001b[0m│\n",
       "│\u001b[2m                                       \u001b[0m│\u001b[2m \u001b[0m\u001b[2m4. **Personal Accounts and Testimonies**: The inclusion of survivor    \u001b[0m\u001b[2m \u001b[0m│\n",
       "│\u001b[2m                                       \u001b[0m│\u001b[2m \u001b[0m\u001b[2mstories, witness testimonies, and personal narratives that highlight   \u001b[0m\u001b[2m \u001b[0m│\n",
       "│\u001b[2m                                       \u001b[0m│\u001b[2m \u001b[0m\u001b[2mindividual experiences during the Holocaust is a strong indicator of a \u001b[0m\u001b[2m \u001b[0m│\n",
       "│\u001b[2m                                       \u001b[0m│\u001b[2m \u001b[0m\u001b[2mfocus on remembrance.                                                  \u001b[0m\u001b[2m \u001b[0m│\n",
       "│\u001b[2m                                       \u001b[0m│\u001b[2m \u001b[0m\u001b[2m                                                                       \u001b[0m\u001b[2m \u001b[0m│\n",
       "│\u001b[2m                                       \u001b[0m│\u001b[2m \u001b[0m\u001b[2m5. **Memorials and Commemorations**: The text may discuss various      \u001b[0m\u001b[2m \u001b[0m│\n",
       "│\u001b[2m                                       \u001b[0m│\u001b[2m \u001b[0m\u001b[2mHolocaust memorials, museums, remembrance days (such as Yom HaShoah),  \u001b[0m\u001b[2m \u001b[0m│\n",
       "│\u001b[2m                                       \u001b[0m│\u001b[2m \u001b[0m\u001b[2mand other forms of commemoration that aim to keep the memory of the    \u001b[0m\u001b[2m \u001b[0m│\n",
       "│\u001b[2m                                       \u001b[0m│\u001b[2m \u001b[0m\u001b[2mHolocaust alive.                                                       \u001b[0m\u001b[2m \u001b[0m│\n",
       "│\u001b[2m                                       \u001b[0m│\u001b[2m \u001b[0m\u001b[2m                                                                       \u001b[0m\u001b[2m \u001b[0m│\n",
       "│\u001b[2m                                       \u001b[0m│\u001b[2m \u001b[0m\u001b[2m6. **Educational Content**: The presence of educational materials,     \u001b[0m\u001b[2m \u001b[0m│\n",
       "│\u001b[2m                                       \u001b[0m│\u001b[2m \u001b[0m\u001b[2mprograms, and initiatives designed to teach about the Holocaust and its\u001b[0m\u001b[2m \u001b[0m│\n",
       "│\u001b[2m                                       \u001b[0m│\u001b[2m \u001b[0m\u001b[2mlessons for future generations is another key criterion.               \u001b[0m\u001b[2m \u001b[0m│\n",
       "│\u001b[2m                                       \u001b[0m│\u001b[2m \u001b[0m\u001b[2m                                                                       \u001b[0m\u001b[2m \u001b[0m│\n",
       "│\u001b[2m                                       \u001b[0m│\u001b[2m \u001b[0m\u001b[2m7. **Themes of Memory and Legacy**: Themes related to the preservation \u001b[0m\u001b[2m \u001b[0m│\n",
       "│\u001b[2m                                       \u001b[0m│\u001b[2m \u001b[0m\u001b[2mof memory, the legacy of the Holocaust, and the moral and ethical      \u001b[0m\u001b[2m \u001b[0m│\n",
       "│\u001b[2m                                       \u001b[0m│\u001b[2m \u001b[0m\u001b[2mlessons drawn from it are central to texts focused on Holocaust        \u001b[0m\u001b[2m \u001b[0m│\n",
       "│\u001b[2m                                       \u001b[0m│\u001b[2m \u001b[0m\u001b[2mRemembrance.                                                           \u001b[0m\u001b[2m \u001b[0m│\n",
       "│\u001b[2m                                       \u001b[0m│\u001b[2m \u001b[0m\u001b[2m                                                                       \u001b[0m\u001b[2m \u001b[0m│\n",
       "│\u001b[2m                                       \u001b[0m│\u001b[2m \u001b[0m\u001b[2m8. **Calls to Action**: The text may include calls to action for       \u001b[0m\u001b[2m \u001b[0m│\n",
       "│\u001b[2m                                       \u001b[0m│\u001b[2m \u001b[0m\u001b[2mremembrance, such as participating in memorial events, supporting      \u001b[0m\u001b[2m \u001b[0m│\n",
       "│\u001b[2m                                       \u001b[0m│\u001b[2m \u001b[0m\u001b[2mHolocaust education, and combating Holocaust denial and anti-Semitism. \u001b[0m\u001b[2m \u001b[0m│\n",
       "├───────────────────────────────────────┼─────────────────────────────────────────────────────────────────────────┤\n",
       "│\u001b[2m \u001b[0m\u001b[2mTeaching as a calling                \u001b[0m\u001b[2m \u001b[0m│\u001b[2m \u001b[0m\u001b[2mTo determine whether a text is primarily about the concept of \"Teaching\u001b[0m\u001b[2m \u001b[0m│\n",
       "│\u001b[2m                                       \u001b[0m│\u001b[2m \u001b[0m\u001b[2mas a calling,\" you can look for several key criteria:                  \u001b[0m\u001b[2m \u001b[0m│\n",
       "│\u001b[2m                                       \u001b[0m│\u001b[2m \u001b[0m\u001b[2m                                                                       \u001b[0m\u001b[2m \u001b[0m│\n",
       "│\u001b[2m                                       \u001b[0m│\u001b[2m \u001b[0m\u001b[2m1. **Passion and Dedication**: The text should highlight the teacher's \u001b[0m\u001b[2m \u001b[0m│\n",
       "│\u001b[2m                                       \u001b[0m│\u001b[2m \u001b[0m\u001b[2mdeep passion and dedication to the profession. This often includes     \u001b[0m\u001b[2m \u001b[0m│\n",
       "│\u001b[2m                                       \u001b[0m│\u001b[2m \u001b[0m\u001b[2mdescriptions of teachers going above and beyond their duties, investing\u001b[0m\u001b[2m \u001b[0m│\n",
       "│\u001b[2m                                       \u001b[0m│\u001b[2m \u001b[0m\u001b[2mextra time and effort to ensure their students succeed.                \u001b[0m\u001b[2m \u001b[0m│\n",
       "│\u001b[2m                                       \u001b[0m│\u001b[2m \u001b[0m\u001b[2m                                                                       \u001b[0m\u001b[2m \u001b[0m│\n",
       "│\u001b[2m                                       \u001b[0m│\u001b[2m \u001b[0m\u001b[2m2. **Intrinsic Motivation**: Look for indications that the teacher is  \u001b[0m\u001b[2m \u001b[0m│\n",
       "│\u001b[2m                                       \u001b[0m│\u001b[2m \u001b[0m\u001b[2mmotivated by internal rewards rather than external incentives such as  \u001b[0m\u001b[2m \u001b[0m│\n",
       "│\u001b[2m                                       \u001b[0m│\u001b[2m \u001b[0m\u001b[2msalary or job security. The text may discuss the personal fulfillment  \u001b[0m\u001b[2m \u001b[0m│\n",
       "│\u001b[2m                                       \u001b[0m│\u001b[2m \u001b[0m\u001b[2mand joy derived from teaching and making a difference in students'     \u001b[0m\u001b[2m \u001b[0m│\n",
       "│\u001b[2m                                       \u001b[0m│\u001b[2m \u001b[0m\u001b[2mlives.                                                                 \u001b[0m\u001b[2m \u001b[0m│\n",
       "│\u001b[2m                                       \u001b[0m│\u001b[2m \u001b[0m\u001b[2m                                                                       \u001b[0m\u001b[2m \u001b[0m│\n",
       "│\u001b[2m                                       \u001b[0m│\u001b[2m \u001b[0m\u001b[2m3. **Sense of Purpose**: The text should convey a strong sense of      \u001b[0m\u001b[2m \u001b[0m│\n",
       "│\u001b[2m                                       \u001b[0m│\u001b[2m \u001b[0m\u001b[2mpurpose and mission. It often includes narratives where teachers feel a\u001b[0m\u001b[2m \u001b[0m│\n",
       "│\u001b[2m                                       \u001b[0m│\u001b[2m \u001b[0m\u001b[2mprofound responsibility and commitment to educating and nurturing their\u001b[0m\u001b[2m \u001b[0m│\n",
       "│\u001b[2m                                       \u001b[0m│\u001b[2m \u001b[0m\u001b[2mstudents.                                                              \u001b[0m\u001b[2m \u001b[0m│\n",
       "│\u001b[2m                                       \u001b[0m│\u001b[2m \u001b[0m\u001b[2m                                                                       \u001b[0m\u001b[2m \u001b[0m│\n",
       "│\u001b[2m                                       \u001b[0m│\u001b[2m \u001b[0m\u001b[2m4. **Impact on Students**: There should be an emphasis on the positive \u001b[0m\u001b[2m \u001b[0m│\n",
       "│\u001b[2m                                       \u001b[0m│\u001b[2m \u001b[0m\u001b[2mimpact the teacher has on their students. This can include stories of  \u001b[0m\u001b[2m \u001b[0m│\n",
       "│\u001b[2m                                       \u001b[0m│\u001b[2m \u001b[0m\u001b[2mstudents' academic and personal growth, as well as testimonials or     \u001b[0m\u001b[2m \u001b[0m│\n",
       "│\u001b[2m                                       \u001b[0m│\u001b[2m \u001b[0m\u001b[2manecdotes that showcase the teacher's influence.                       \u001b[0m\u001b[2m \u001b[0m│\n",
       "│\u001b[2m                                       \u001b[0m│\u001b[2m \u001b[0m\u001b[2m                                                                       \u001b[0m\u001b[2m \u001b[0m│\n",
       "│\u001b[2m                                       \u001b[0m│\u001b[2m \u001b[0m\u001b[2m5. **Personal Sacrifice**: The text might mention the sacrifices       \u001b[0m\u001b[2m \u001b[0m│\n",
       "│\u001b[2m                                       \u001b[0m│\u001b[2m \u001b[0m\u001b[2mteachers make, such as working long hours, spending their own money on \u001b[0m\u001b[2m \u001b[0m│\n",
       "│\u001b[2m                                       \u001b[0m│\u001b[2m \u001b[0m\u001b[2mclassroom supplies, or prioritizing their students' needs over their   \u001b[0m\u001b[2m \u001b[0m│\n",
       "│\u001b[2m                                       \u001b[0m│\u001b[2m \u001b[0m\u001b[2mown.                                                                   \u001b[0m\u001b[2m \u001b[0m│\n",
       "│\u001b[2m                                       \u001b[0m│\u001b[2m \u001b[0m\u001b[2m                                                                       \u001b[0m\u001b[2m \u001b[0m│\n",
       "│\u001b[2m                                       \u001b[0m│\u001b[2m \u001b[0m\u001b[2m6. **Community and Relationships**: Look for discussions about the     \u001b[0m\u001b[2m \u001b[0m│\n",
       "│\u001b[2m                                       \u001b[0m│\u001b[2m \u001b[0m\u001b[2mstrong relationships teachers build with their students, parents, and  \u001b[0m\u001b[2m \u001b[0m│\n",
       "│\u001b[2m                                       \u001b[0m│\u001b[2m \u001b[0m\u001b[2mthe community. This can include involvement in extracurricular         \u001b[0m\u001b[2m \u001b[0m│\n",
       "│\u001b[2m                                       \u001b[0m│\u001b[2m \u001b[0m\u001b[2mactivities, mentoring, and fostering a supportive learning environment.\u001b[0m\u001b[2m \u001b[0m│\n",
       "│\u001b[2m                                       \u001b[0m│\u001b[2m \u001b[0m\u001b[2m                                                                       \u001b[0m\u001b[2m \u001b[0m│\n",
       "│\u001b[2m                                       \u001b[0m│\u001b[2m \u001b[0m\u001b[2m7. **Spiritual or Ethical Dimensions**: Sometimes, the text may touch  \u001b[0m\u001b[2m \u001b[0m│\n",
       "│\u001b[2m                                       \u001b[0m│\u001b[2m \u001b[0m\u001b[2mon spiritual or ethical dimensions of teaching, framing it as a        \u001b[0m\u001b[2m \u001b[0m│\n",
       "│\u001b[2m                                       \u001b[0m│\u001b[2m \u001b[0m\u001b[2mvocation or calling with a higher purpose beyond just a job.           \u001b[0m\u001b[2m \u001b[0m│\n",
       "├───────────────────────────────────────┼─────────────────────────────────────────────────────────────────────────┤\n",
       "│\u001b[2m \u001b[0m\u001b[2mAffordable Care Act                  \u001b[0m\u001b[2m \u001b[0m│\u001b[2m \u001b[0m\u001b[2mTo determine whether a text is primarily about the Affordable Care Act \u001b[0m\u001b[2m \u001b[0m│\n",
       "│\u001b[2m                                       \u001b[0m│\u001b[2m \u001b[0m\u001b[2m(ACA), you should look for several key criteria:                       \u001b[0m\u001b[2m \u001b[0m│\n",
       "│\u001b[2m                                       \u001b[0m│\u001b[2m \u001b[0m\u001b[2m                                                                       \u001b[0m\u001b[2m \u001b[0m│\n",
       "│\u001b[2m                                       \u001b[0m│\u001b[2m \u001b[0m\u001b[2m1. **Title and Headings**: Check if the title or headings of the text  \u001b[0m\u001b[2m \u001b[0m│\n",
       "│\u001b[2m                                       \u001b[0m│\u001b[2m \u001b[0m\u001b[2mexplicitly mention the Affordable Care Act, ACA, or related terms like \u001b[0m\u001b[2m \u001b[0m│\n",
       "│\u001b[2m                                       \u001b[0m│\u001b[2m \u001b[0m\u001b[2m\"Obamacare.\"                                                           \u001b[0m\u001b[2m \u001b[0m│\n",
       "│\u001b[2m                                       \u001b[0m│\u001b[2m \u001b[0m\u001b[2m                                                                       \u001b[0m\u001b[2m \u001b[0m│\n",
       "│\u001b[2m                                       \u001b[0m│\u001b[2m \u001b[0m\u001b[2m2. **Main Focus**: Identify if the central theme of the text revolves  \u001b[0m\u001b[2m \u001b[0m│\n",
       "│\u001b[2m                                       \u001b[0m│\u001b[2m \u001b[0m\u001b[2maround healthcare reform, insurance coverage, health policy changes, or\u001b[0m\u001b[2m \u001b[0m│\n",
       "│\u001b[2m                                       \u001b[0m│\u001b[2m \u001b[0m\u001b[2mthe specific provisions and impacts of the ACA.                        \u001b[0m\u001b[2m \u001b[0m│\n",
       "│\u001b[2m                                       \u001b[0m│\u001b[2m \u001b[0m\u001b[2m                                                                       \u001b[0m\u001b[2m \u001b[0m│\n",
       "│\u001b[2m                                       \u001b[0m│\u001b[2m \u001b[0m\u001b[2m3. **Legislative Details**: Look for discussions about the legislative \u001b[0m\u001b[2m \u001b[0m│\n",
       "│\u001b[2m                                       \u001b[0m│\u001b[2m \u001b[0m\u001b[2mhistory, implementation, amendments, or legal challenges related to the\u001b[0m\u001b[2m \u001b[0m│\n",
       "│\u001b[2m                                       \u001b[0m│\u001b[2m \u001b[0m\u001b[2mACA.                                                                   \u001b[0m\u001b[2m \u001b[0m│\n",
       "│\u001b[2m                                       \u001b[0m│\u001b[2m \u001b[0m\u001b[2m                                                                       \u001b[0m\u001b[2m \u001b[0m│\n",
       "│\u001b[2m                                       \u001b[0m│\u001b[2m \u001b[0m\u001b[2m4. **Healthcare Coverage**: See if the text addresses changes in       \u001b[0m\u001b[2m \u001b[0m│\n",
       "│\u001b[2m                                       \u001b[0m│\u001b[2m \u001b[0m\u001b[2mhealthcare coverage, such as the expansion of Medicaid, the creation of\u001b[0m\u001b[2m \u001b[0m│\n",
       "│\u001b[2m                                       \u001b[0m│\u001b[2m \u001b[0m\u001b[2mhealth insurance marketplaces, or the individual mandate.              \u001b[0m\u001b[2m \u001b[0m│\n",
       "│\u001b[2m                                       \u001b[0m│\u001b[2m \u001b[0m\u001b[2m                                                                       \u001b[0m\u001b[2m \u001b[0m│\n",
       "│\u001b[2m                                       \u001b[0m│\u001b[2m \u001b[0m\u001b[2m5. **Impact Analysis**: Determine if the text analyzes the effects of  \u001b[0m\u001b[2m \u001b[0m│\n",
       "│\u001b[2m                                       \u001b[0m│\u001b[2m \u001b[0m\u001b[2mthe ACA on various stakeholders, including patients, healthcare        \u001b[0m\u001b[2m \u001b[0m│\n",
       "│\u001b[2m                                       \u001b[0m│\u001b[2m \u001b[0m\u001b[2mproviders, insurers, and the economy.                                  \u001b[0m\u001b[2m \u001b[0m│\n",
       "│\u001b[2m                                       \u001b[0m│\u001b[2m \u001b[0m\u001b[2m                                                                       \u001b[0m\u001b[2m \u001b[0m│\n",
       "│\u001b[2m                                       \u001b[0m│\u001b[2m \u001b[0m\u001b[2m6. **Policy Debates**: Check if there are debates or discussions about \u001b[0m\u001b[2m \u001b[0m│\n",
       "│\u001b[2m                                       \u001b[0m│\u001b[2m \u001b[0m\u001b[2mthe merits, drawbacks, or future of the ACA, including political       \u001b[0m\u001b[2m \u001b[0m│\n",
       "│\u001b[2m                                       \u001b[0m│\u001b[2m \u001b[0m\u001b[2mperspectives and public opinion.                                       \u001b[0m\u001b[2m \u001b[0m│\n",
       "│\u001b[2m                                       \u001b[0m│\u001b[2m \u001b[0m\u001b[2m                                                                       \u001b[0m\u001b[2m \u001b[0m│\n",
       "│\u001b[2m                                       \u001b[0m│\u001b[2m \u001b[0m\u001b[2m7. **Statistical Data**: Look for statistics or data related to        \u001b[0m\u001b[2m \u001b[0m│\n",
       "│\u001b[2m                                       \u001b[0m│\u001b[2m \u001b[0m\u001b[2minsurance coverage rates, healthcare costs, or health outcomes that are\u001b[0m\u001b[2m \u001b[0m│\n",
       "│\u001b[2m                                       \u001b[0m│\u001b[2m \u001b[0m\u001b[2mdirectly linked to the ACA.                                            \u001b[0m\u001b[2m \u001b[0m│\n",
       "│\u001b[2m                                       \u001b[0m│\u001b[2m \u001b[0m\u001b[2m                                                                       \u001b[0m\u001b[2m \u001b[0m│\n",
       "│\u001b[2m                                       \u001b[0m│\u001b[2m \u001b[0m\u001b[2m8. **Expert Opinions**: Identify if the text includes opinions or      \u001b[0m\u001b[2m \u001b[0m│\n",
       "│\u001b[2m                                       \u001b[0m│\u001b[2m \u001b[0m\u001b[2manalyses from healthcare experts, policymakers, or economists          \u001b[0m\u001b[2m \u001b[0m│\n",
       "│\u001b[2m                                       \u001b[0m│\u001b[2m \u001b[0m\u001b[2mspecifically about the ACA.                                            \u001b[0m\u001b[2m \u001b[0m│\n",
       "├───────────────────────────────────────┼─────────────────────────────────────────────────────────────────────────┤\n",
       "│\u001b[2m \u001b[0m\u001b[2mU.S. Holocaust Memorial Museum       \u001b[0m\u001b[2m \u001b[0m│\u001b[2m \u001b[0m\u001b[2mTo determine whether a text is primarily about the U.S. Holocaust      \u001b[0m\u001b[2m \u001b[0m│\n",
       "│\u001b[2m                                       \u001b[0m│\u001b[2m \u001b[0m\u001b[2mMemorial Museum, you should look for the following key criteria:       \u001b[0m\u001b[2m \u001b[0m│\n",
       "│\u001b[2m                                       \u001b[0m│\u001b[2m \u001b[0m\u001b[2m                                                                       \u001b[0m\u001b[2m \u001b[0m│\n",
       "│\u001b[2m                                       \u001b[0m│\u001b[2m \u001b[0m\u001b[2m1. **Central Focus**: The text should have the U.S. Holocaust Memorial \u001b[0m\u001b[2m \u001b[0m│\n",
       "│\u001b[2m                                       \u001b[0m│\u001b[2m \u001b[0m\u001b[2mMuseum as its main subject. This means that the majority of the content\u001b[0m\u001b[2m \u001b[0m│\n",
       "│\u001b[2m                                       \u001b[0m│\u001b[2m \u001b[0m\u001b[2mshould revolve around the museum itself rather than mentioning it in   \u001b[0m\u001b[2m \u001b[0m│\n",
       "│\u001b[2m                                       \u001b[0m│\u001b[2m \u001b[0m\u001b[2mpassing.                                                               \u001b[0m\u001b[2m \u001b[0m│\n",
       "│\u001b[2m                                       \u001b[0m│\u001b[2m \u001b[0m\u001b[2m                                                                       \u001b[0m\u001b[2m \u001b[0m│\n",
       "│\u001b[2m                                       \u001b[0m│\u001b[2m \u001b[0m\u001b[2m2. **Historical Context**: The text should provide background          \u001b[0m\u001b[2m \u001b[0m│\n",
       "│\u001b[2m                                       \u001b[0m│\u001b[2m \u001b[0m\u001b[2minformation on the establishment of the museum, including its founding,\u001b[0m\u001b[2m \u001b[0m│\n",
       "│\u001b[2m                                       \u001b[0m│\u001b[2m \u001b[0m\u001b[2mmission, and significance in preserving the memory of the Holocaust.   \u001b[0m\u001b[2m \u001b[0m│\n",
       "│\u001b[2m                                       \u001b[0m│\u001b[2m \u001b[0m\u001b[2m                                                                       \u001b[0m\u001b[2m \u001b[0m│\n",
       "│\u001b[2m                                       \u001b[0m│\u001b[2m \u001b[0m\u001b[2m3. **Exhibits and Collections**: Detailed descriptions of the museum's \u001b[0m\u001b[2m \u001b[0m│\n",
       "│\u001b[2m                                       \u001b[0m│\u001b[2m \u001b[0m\u001b[2mexhibits, collections, and artifacts should be present. This can       \u001b[0m\u001b[2m \u001b[0m│\n",
       "│\u001b[2m                                       \u001b[0m│\u001b[2m \u001b[0m\u001b[2minclude permanent and temporary exhibitions, as well as any notable    \u001b[0m\u001b[2m \u001b[0m│\n",
       "│\u001b[2m                                       \u001b[0m│\u001b[2m \u001b[0m\u001b[2mitems or displays that are housed within the museum.                   \u001b[0m\u001b[2m \u001b[0m│\n",
       "│\u001b[2m                                       \u001b[0m│\u001b[2m \u001b[0m\u001b[2m                                                                       \u001b[0m\u001b[2m \u001b[0m│\n",
       "│\u001b[2m                                       \u001b[0m│\u001b[2m \u001b[0m\u001b[2m4. **Educational Programs**: Information about the educational         \u001b[0m\u001b[2m \u001b[0m│\n",
       "│\u001b[2m                                       \u001b[0m│\u001b[2m \u001b[0m\u001b[2mprograms, workshops, and resources offered by the museum should be     \u001b[0m\u001b[2m \u001b[0m│\n",
       "│\u001b[2m                                       \u001b[0m│\u001b[2m \u001b[0m\u001b[2mhighlighted. This can include outreach programs, school visits, and    \u001b[0m\u001b[2m \u001b[0m│\n",
       "│\u001b[2m                                       \u001b[0m│\u001b[2m \u001b[0m\u001b[2monline educational materials.                                          \u001b[0m\u001b[2m \u001b[0m│\n",
       "│\u001b[2m                                       \u001b[0m│\u001b[2m \u001b[0m\u001b[2m                                                                       \u001b[0m\u001b[2m \u001b[0m│\n",
       "│\u001b[2m                                       \u001b[0m│\u001b[2m \u001b[0m\u001b[2m5. **Visitor Experience**: The text might describe the visitor         \u001b[0m\u001b[2m \u001b[0m│\n",
       "│\u001b[2m                                       \u001b[0m│\u001b[2m \u001b[0m\u001b[2mexperience, including the layout of the museum, notable features, and  \u001b[0m\u001b[2m \u001b[0m│\n",
       "│\u001b[2m                                       \u001b[0m│\u001b[2m \u001b[0m\u001b[2many personal accounts or testimonials from visitors.                   \u001b[0m\u001b[2m \u001b[0m│\n",
       "│\u001b[2m                                       \u001b[0m│\u001b[2m \u001b[0m\u001b[2m                                                                       \u001b[0m\u001b[2m \u001b[0m│\n",
       "│\u001b[2m                                       \u001b[0m│\u001b[2m \u001b[0m\u001b[2m6. **Events and Commemorations**: The text should discuss any          \u001b[0m\u001b[2m \u001b[0m│\n",
       "│\u001b[2m                                       \u001b[0m│\u001b[2m \u001b[0m\u001b[2msignificant events, commemorations, or ceremonies that are held at the \u001b[0m\u001b[2m \u001b[0m│\n",
       "│\u001b[2m                                       \u001b[0m│\u001b[2m \u001b[0m\u001b[2mmuseum, such as Holocaust Remembrance Day events.                      \u001b[0m\u001b[2m \u001b[0m│\n",
       "│\u001b[2m                                       \u001b[0m│\u001b[2m \u001b[0m\u001b[2m                                                                       \u001b[0m\u001b[2m \u001b[0m│\n",
       "│\u001b[2m                                       \u001b[0m│\u001b[2m \u001b[0m\u001b[2m7. **Impact and Influence**: The text should cover the broader impact  \u001b[0m\u001b[2m \u001b[0m│\n",
       "│\u001b[2m                                       \u001b[0m│\u001b[2m \u001b[0m\u001b[2mand influence of the museum on public understanding and awareness of   \u001b[0m\u001b[2m \u001b[0m│\n",
       "│\u001b[2m                                       \u001b[0m│\u001b[2m \u001b[0m\u001b[2mthe Holocaust. This can include its role in promoting historical       \u001b[0m\u001b[2m \u001b[0m│\n",
       "│\u001b[2m                                       \u001b[0m│\u001b[2m \u001b[0m\u001b[2mresearch, human rights, and genocide prevention.                       \u001b[0m\u001b[2m \u001b[0m│\n",
       "│\u001b[2m                                       \u001b[0m│\u001b[2m \u001b[0m\u001b[2m                                                                       \u001b[0m\u001b[2m \u001b[0m│\n",
       "│\u001b[2m                                       \u001b[0m│\u001b[2m \u001b[0m\u001b[2m8. **Location and Accessibility**: Practical information about the     \u001b[0m\u001b[2m \u001b[0m│\n",
       "│\u001b[2m                                       \u001b[0m│\u001b[2m \u001b[0m\u001b[2mmuseum's location, hours of operation, and accessibility for visitors  \u001b[0m\u001b[2m \u001b[0m│\n",
       "│\u001b[2m                                       \u001b[0m│\u001b[2m \u001b[0m\u001b[2mcan also indicate that the text is focused on the museum.              \u001b[0m\u001b[2m \u001b[0m│\n",
       "├───────────────────────────────────────┼─────────────────────────────────────────────────────────────────────────┤\n",
       "│\u001b[2m \u001b[0m\u001b[2mDACA recipients                      \u001b[0m\u001b[2m \u001b[0m│\u001b[2m \u001b[0m\u001b[2mTo determine if a text is primarily about DACA recipients, you can look\u001b[0m\u001b[2m \u001b[0m│\n",
       "│\u001b[2m                                       \u001b[0m│\u001b[2m \u001b[0m\u001b[2mfor the following key criteria:                                        \u001b[0m\u001b[2m \u001b[0m│\n",
       "│\u001b[2m                                       \u001b[0m│\u001b[2m \u001b[0m\u001b[2m                                                                       \u001b[0m\u001b[2m \u001b[0m│\n",
       "│\u001b[2m                                       \u001b[0m│\u001b[2m \u001b[0m\u001b[2m1. **Mention of DACA**: The text should explicitly mention Deferred    \u001b[0m\u001b[2m \u001b[0m│\n",
       "│\u001b[2m                                       \u001b[0m│\u001b[2m \u001b[0m\u001b[2mAction for Childhood Arrivals (DACA) multiple times. This includes     \u001b[0m\u001b[2m \u001b[0m│\n",
       "│\u001b[2m                                       \u001b[0m│\u001b[2m \u001b[0m\u001b[2mreferences to the program itself, its policies, and its impact.        \u001b[0m\u001b[2m \u001b[0m│\n",
       "│\u001b[2m                                       \u001b[0m│\u001b[2m \u001b[0m\u001b[2m                                                                       \u001b[0m\u001b[2m \u001b[0m│\n",
       "│\u001b[2m                                       \u001b[0m│\u001b[2m \u001b[0m\u001b[2m2. **Focus on Recipients**: There should be a clear focus on the       \u001b[0m\u001b[2m \u001b[0m│\n",
       "│\u001b[2m                                       \u001b[0m│\u001b[2m \u001b[0m\u001b[2mindividuals who are DACA recipients. This includes their experiences,  \u001b[0m\u001b[2m \u001b[0m│\n",
       "│\u001b[2m                                       \u001b[0m│\u001b[2m \u001b[0m\u001b[2mchallenges, and stories.                                               \u001b[0m\u001b[2m \u001b[0m│\n",
       "│\u001b[2m                                       \u001b[0m│\u001b[2m \u001b[0m\u001b[2m                                                                       \u001b[0m\u001b[2m \u001b[0m│\n",
       "│\u001b[2m                                       \u001b[0m│\u001b[2m \u001b[0m\u001b[2m3. **Legal and Policy Context**: The text should discuss the legal and \u001b[0m\u001b[2m \u001b[0m│\n",
       "│\u001b[2m                                       \u001b[0m│\u001b[2m \u001b[0m\u001b[2mpolicy framework surrounding DACA, including eligibility criteria,     \u001b[0m\u001b[2m \u001b[0m│\n",
       "│\u001b[2m                                       \u001b[0m│\u001b[2m \u001b[0m\u001b[2mapplication processes, and any changes or challenges to the program.   \u001b[0m\u001b[2m \u001b[0m│\n",
       "│\u001b[2m                                       \u001b[0m│\u001b[2m \u001b[0m\u001b[2m                                                                       \u001b[0m\u001b[2m \u001b[0m│\n",
       "│\u001b[2m                                       \u001b[0m│\u001b[2m \u001b[0m\u001b[2m4. **Impact and Outcomes**: Look for discussions about the impact of   \u001b[0m\u001b[2m \u001b[0m│\n",
       "│\u001b[2m                                       \u001b[0m│\u001b[2m \u001b[0m\u001b[2mDACA on recipients' lives, such as access to education, employment     \u001b[0m\u001b[2m \u001b[0m│\n",
       "│\u001b[2m                                       \u001b[0m│\u001b[2m \u001b[0m\u001b[2mopportunities, and protection from deportation.                        \u001b[0m\u001b[2m \u001b[0m│\n",
       "│\u001b[2m                                       \u001b[0m│\u001b[2m \u001b[0m\u001b[2m                                                                       \u001b[0m\u001b[2m \u001b[0m│\n",
       "│\u001b[2m                                       \u001b[0m│\u001b[2m \u001b[0m\u001b[2m5. **Advocacy and Support**: The text may include information about    \u001b[0m\u001b[2m \u001b[0m│\n",
       "│\u001b[2m                                       \u001b[0m│\u001b[2m \u001b[0m\u001b[2madvocacy efforts, support organizations, and community responses       \u001b[0m\u001b[2m \u001b[0m│\n",
       "│\u001b[2m                                       \u001b[0m│\u001b[2m \u001b[0m\u001b[2mrelated to DACA recipients.                                            \u001b[0m\u001b[2m \u001b[0m│\n",
       "│\u001b[2m                                       \u001b[0m│\u001b[2m \u001b[0m\u001b[2m                                                                       \u001b[0m\u001b[2m \u001b[0m│\n",
       "│\u001b[2m                                       \u001b[0m│\u001b[2m \u001b[0m\u001b[2m6. **Statistical Data**: The presence of statistical data or research  \u001b[0m\u001b[2m \u001b[0m│\n",
       "│\u001b[2m                                       \u001b[0m│\u001b[2m \u001b[0m\u001b[2mfindings specifically about DACA recipients can indicate that the text \u001b[0m\u001b[2m \u001b[0m│\n",
       "│\u001b[2m                                       \u001b[0m│\u001b[2m \u001b[0m\u001b[2mis focused on this group.                                              \u001b[0m\u001b[2m \u001b[0m│\n",
       "│\u001b[2m                                       \u001b[0m│\u001b[2m \u001b[0m\u001b[2m                                                                       \u001b[0m\u001b[2m \u001b[0m│\n",
       "│\u001b[2m                                       \u001b[0m│\u001b[2m \u001b[0m\u001b[2m7. **Comparative Analysis**: If the text compares the experiences of   \u001b[0m\u001b[2m \u001b[0m│\n",
       "│\u001b[2m                                       \u001b[0m│\u001b[2m \u001b[0m\u001b[2mDACA recipients with other immigrant groups or discusses their unique  \u001b[0m\u001b[2m \u001b[0m│\n",
       "│\u001b[2m                                       \u001b[0m│\u001b[2m \u001b[0m\u001b[2mposition within the broader immigration system, it is likely focused on\u001b[0m\u001b[2m \u001b[0m│\n",
       "│\u001b[2m                                       \u001b[0m│\u001b[2m \u001b[0m\u001b[2mDACA recipients.                                                       \u001b[0m\u001b[2m \u001b[0m│\n",
       "└───────────────────────────────────────┴─────────────────────────────────────────────────────────────────────────┘\n"
      ]
     },
     "metadata": {},
     "output_type": "display_data"
    }
   ],
   "source": [
    "results.select(\"concept\", \"criteria\").print(format=\"rich\")"
   ]
  },
  {
   "cell_type": "markdown",
   "id": "bac4f9a8-a33e-4e5b-8a0a-1724289c442f",
   "metadata": {
    "editable": true,
    "slideshow": {
     "slide_type": ""
    },
    "tags": []
   },
   "source": [
    "## Identify the concepts in each text and evaluate based on the criteria\n",
    "Finally, we can use the concepts and the criteria to run another question where we prompt the model to evaulate each text. Question types `QuestionLinearScale`, `QuestionRank` or `QuestionNumerical` may be appropriate where we want to return a score:"
   ]
  },
  {
   "cell_type": "code",
   "execution_count": 17,
   "id": "4d63330d-9014-48e2-98b1-75d3a58eed1c",
   "metadata": {
    "editable": true,
    "slideshow": {
     "slide_type": ""
    },
    "tags": []
   },
   "outputs": [],
   "source": [
    "from edsl import QuestionLinearScale\n",
    "\n",
    "q_score = QuestionLinearScale(\n",
    "    question_name=\"score\",\n",
    "    question_text=\"\"\"Consider the following concept and criteria for determining whether \n",
    "    a given text addresses this concept. Then score how well the following text satisfies\n",
    "    the criteria for the concept.\n",
    "    Concept: {{ concept }}\n",
    "    Criteria: {{ criteria }}\n",
    "    Text: {{ text }}\"\"\",\n",
    "    question_options=[0, 1, 2, 3, 4, 5, 6, 7, 8, 9, 10],\n",
    "    option_labels={0: \"Not at all\", 10: \"Very well\"},  # Optional\n",
    ")"
   ]
  },
  {
   "cell_type": "markdown",
   "id": "375e4826-8e3f-4ba2-b4da-e67607bd5bfa",
   "metadata": {
    "editable": true,
    "slideshow": {
     "slide_type": ""
    },
    "tags": []
   },
   "source": [
    "Here we want to use both the texts and the concepts and corresponding criteria together as scenarios of the question:"
   ]
  },
  {
   "cell_type": "code",
   "execution_count": 18,
   "id": "583506b3-0b7d-4051-bfc6-ebcbf605865c",
   "metadata": {
    "editable": true,
    "slideshow": {
     "slide_type": ""
    },
    "tags": []
   },
   "outputs": [
    {
     "data": {
      "text/plain": [
       "10"
      ]
     },
     "execution_count": 18,
     "metadata": {},
     "output_type": "execute_result"
    }
   ],
   "source": [
    "concepts_criteria = [\n",
    "    list(pair)\n",
    "    for pair in zip(\n",
    "        results.select(\"concept\").to_list(), results.select(\"criteria\").to_list()\n",
    "    )\n",
    "]\n",
    "len(concepts_criteria)"
   ]
  },
  {
   "cell_type": "code",
   "execution_count": 19,
   "id": "5d096830-b6ba-41bf-a829-00368bce4b64",
   "metadata": {
    "editable": true,
    "slideshow": {
     "slide_type": ""
    },
    "tags": []
   },
   "outputs": [],
   "source": [
    "from edsl import ScenarioList, Scenario\n",
    "\n",
    "scenarios = ScenarioList(\n",
    "    Scenario({\"text\": text, \"concept\": concept, \"criteria\": criteria})\n",
    "    for text in texts\n",
    "    for [concept, criteria] in concepts_criteria\n",
    ")"
   ]
  },
  {
   "cell_type": "code",
   "execution_count": 20,
   "id": "d0fb785c-95f9-4514-8f26-37e93e0f8137",
   "metadata": {
    "editable": true,
    "slideshow": {
     "slide_type": ""
    },
    "tags": []
   },
   "outputs": [],
   "source": [
    "results = q_score.by(scenarios).run()"
   ]
  },
  {
   "cell_type": "markdown",
   "id": "f6a68701-36b5-4be2-a0df-3977e152c1c7",
   "metadata": {
    "editable": true,
    "slideshow": {
     "slide_type": ""
    },
    "tags": []
   },
   "source": [
    "We can filter the results based on the responses--e.g., here we just show the non-zero scores:"
   ]
  },
  {
   "cell_type": "code",
   "execution_count": 21,
   "id": "930dd52e-8701-4a54-b8e4-004480887d10",
   "metadata": {
    "editable": true,
    "slideshow": {
     "slide_type": ""
    },
    "tags": []
   },
   "outputs": [
    {
     "data": {
      "text/html": [
       "<pre style=\"white-space:pre;overflow-x:auto;line-height:normal;font-family:Menlo,'DejaVu Sans Mono',consolas,'Courier New',monospace\">┏━━━━━━━━━━━━━━━━━━━━━━━━━━━━━━━━━━━━━━━━━━━━━━━━━━━━━━━━━━━━━━━━┳━━━━━━━━━━━━━━━━━━━━━━━━━━━━━━━━━━━━━━━┳━━━━━━━━┓\n",
       "┃<span style=\"color: #800080; text-decoration-color: #800080; font-weight: bold\"> scenario                                                       </span>┃<span style=\"color: #800080; text-decoration-color: #800080; font-weight: bold\"> scenario                              </span>┃<span style=\"color: #800080; text-decoration-color: #800080; font-weight: bold\"> answer </span>┃\n",
       "┃<span style=\"color: #800080; text-decoration-color: #800080; font-weight: bold\"> .text                                                          </span>┃<span style=\"color: #800080; text-decoration-color: #800080; font-weight: bold\"> .concept                              </span>┃<span style=\"color: #800080; text-decoration-color: #800080; font-weight: bold\"> .score </span>┃\n",
       "┡━━━━━━━━━━━━━━━━━━━━━━━━━━━━━━━━━━━━━━━━━━━━━━━━━━━━━━━━━━━━━━━━╇━━━━━━━━━━━━━━━━━━━━━━━━━━━━━━━━━━━━━━━╇━━━━━━━━┩\n",
       "│<span style=\"color: #7f7f7f; text-decoration-color: #7f7f7f\"> Dreamers are our loved ones, nurses, teachers, and small       </span>│<span style=\"color: #7f7f7f; text-decoration-color: #7f7f7f\"> Economy for families                  </span>│<span style=\"color: #7f7f7f; text-decoration-color: #7f7f7f\"> 2      </span>│\n",
       "│<span style=\"color: #7f7f7f; text-decoration-color: #7f7f7f\"> business owners – they deserve the promise of health care just </span>│<span style=\"color: #7f7f7f; text-decoration-color: #7f7f7f\">                                       </span>│<span style=\"color: #7f7f7f; text-decoration-color: #7f7f7f\">        </span>│\n",
       "│<span style=\"color: #7f7f7f; text-decoration-color: #7f7f7f\"> like all of us. Today, my Administration is making that real   </span>│<span style=\"color: #7f7f7f; text-decoration-color: #7f7f7f\">                                       </span>│<span style=\"color: #7f7f7f; text-decoration-color: #7f7f7f\">        </span>│\n",
       "│<span style=\"color: #7f7f7f; text-decoration-color: #7f7f7f\"> by expanding affordable health coverage through the Affordable </span>│<span style=\"color: #7f7f7f; text-decoration-color: #7f7f7f\">                                       </span>│<span style=\"color: #7f7f7f; text-decoration-color: #7f7f7f\">        </span>│\n",
       "│<span style=\"color: #7f7f7f; text-decoration-color: #7f7f7f\"> Care Act to DACA recipients.                                   </span>│<span style=\"color: #7f7f7f; text-decoration-color: #7f7f7f\">                                       </span>│<span style=\"color: #7f7f7f; text-decoration-color: #7f7f7f\">        </span>│\n",
       "├────────────────────────────────────────────────────────────────┼───────────────────────────────────────┼────────┤\n",
       "│<span style=\"color: #7f7f7f; text-decoration-color: #7f7f7f\"> With today’s report of 175,000 new jobs, the American comeback </span>│<span style=\"color: #7f7f7f; text-decoration-color: #7f7f7f\"> Economy for families                  </span>│<span style=\"color: #7f7f7f; text-decoration-color: #7f7f7f\"> 3      </span>│\n",
       "│<span style=\"color: #7f7f7f; text-decoration-color: #7f7f7f\"> continues. Congressional Republicans are fighting to cut taxes </span>│<span style=\"color: #7f7f7f; text-decoration-color: #7f7f7f\">                                       </span>│<span style=\"color: #7f7f7f; text-decoration-color: #7f7f7f\">        </span>│\n",
       "│<span style=\"color: #7f7f7f; text-decoration-color: #7f7f7f\"> for billionaires and let special interests rip folks off, I'm  </span>│<span style=\"color: #7f7f7f; text-decoration-color: #7f7f7f\">                                       </span>│<span style=\"color: #7f7f7f; text-decoration-color: #7f7f7f\">        </span>│\n",
       "│<span style=\"color: #7f7f7f; text-decoration-color: #7f7f7f\"> focused on job creation and building an economy that works for </span>│<span style=\"color: #7f7f7f; text-decoration-color: #7f7f7f\">                                       </span>│<span style=\"color: #7f7f7f; text-decoration-color: #7f7f7f\">        </span>│\n",
       "│<span style=\"color: #7f7f7f; text-decoration-color: #7f7f7f\"> the families I grew up with.                                   </span>│<span style=\"color: #7f7f7f; text-decoration-color: #7f7f7f\">                                       </span>│<span style=\"color: #7f7f7f; text-decoration-color: #7f7f7f\">        </span>│\n",
       "├────────────────────────────────────────────────────────────────┼───────────────────────────────────────┼────────┤\n",
       "│<span style=\"color: #7f7f7f; text-decoration-color: #7f7f7f\"> With today’s report of 175,000 new jobs, the American comeback </span>│<span style=\"color: #7f7f7f; text-decoration-color: #7f7f7f\"> Job creation                          </span>│<span style=\"color: #7f7f7f; text-decoration-color: #7f7f7f\"> 2      </span>│\n",
       "│<span style=\"color: #7f7f7f; text-decoration-color: #7f7f7f\"> continues. Congressional Republicans are fighting to cut taxes </span>│<span style=\"color: #7f7f7f; text-decoration-color: #7f7f7f\">                                       </span>│<span style=\"color: #7f7f7f; text-decoration-color: #7f7f7f\">        </span>│\n",
       "│<span style=\"color: #7f7f7f; text-decoration-color: #7f7f7f\"> for billionaires and let special interests rip folks off, I'm  </span>│<span style=\"color: #7f7f7f; text-decoration-color: #7f7f7f\">                                       </span>│<span style=\"color: #7f7f7f; text-decoration-color: #7f7f7f\">        </span>│\n",
       "│<span style=\"color: #7f7f7f; text-decoration-color: #7f7f7f\"> focused on job creation and building an economy that works for </span>│<span style=\"color: #7f7f7f; text-decoration-color: #7f7f7f\">                                       </span>│<span style=\"color: #7f7f7f; text-decoration-color: #7f7f7f\">        </span>│\n",
       "│<span style=\"color: #7f7f7f; text-decoration-color: #7f7f7f\"> the families I grew up with.                                   </span>│<span style=\"color: #7f7f7f; text-decoration-color: #7f7f7f\">                                       </span>│<span style=\"color: #7f7f7f; text-decoration-color: #7f7f7f\">        </span>│\n",
       "├────────────────────────────────────────────────────────────────┼───────────────────────────────────────┼────────┤\n",
       "│<span style=\"color: #7f7f7f; text-decoration-color: #7f7f7f\"> Medicare is stronger and Social Security remains strong. My    </span>│<span style=\"color: #7f7f7f; text-decoration-color: #7f7f7f\"> Economy for families                  </span>│<span style=\"color: #7f7f7f; text-decoration-color: #7f7f7f\"> 3      </span>│\n",
       "│<span style=\"color: #7f7f7f; text-decoration-color: #7f7f7f\"> economic plan has helped extend Medicare solvency by a decade. </span>│<span style=\"color: #7f7f7f; text-decoration-color: #7f7f7f\">                                       </span>│<span style=\"color: #7f7f7f; text-decoration-color: #7f7f7f\">        </span>│\n",
       "│<span style=\"color: #7f7f7f; text-decoration-color: #7f7f7f\"> And I am committed to extending Social Security solvency by    </span>│<span style=\"color: #7f7f7f; text-decoration-color: #7f7f7f\">                                       </span>│<span style=\"color: #7f7f7f; text-decoration-color: #7f7f7f\">        </span>│\n",
       "│<span style=\"color: #7f7f7f; text-decoration-color: #7f7f7f\"> making the rich pay their fair share.                          </span>│<span style=\"color: #7f7f7f; text-decoration-color: #7f7f7f\">                                       </span>│<span style=\"color: #7f7f7f; text-decoration-color: #7f7f7f\">        </span>│\n",
       "├────────────────────────────────────────────────────────────────┼───────────────────────────────────────┼────────┤\n",
       "│<span style=\"color: #7f7f7f; text-decoration-color: #7f7f7f\"> Dreamers are our loved ones, nurses, teachers, and small       </span>│<span style=\"color: #7f7f7f; text-decoration-color: #7f7f7f\"> Affordable Care Act                   </span>│<span style=\"color: #7f7f7f; text-decoration-color: #7f7f7f\"> 6      </span>│\n",
       "│<span style=\"color: #7f7f7f; text-decoration-color: #7f7f7f\"> business owners – they deserve the promise of health care just </span>│<span style=\"color: #7f7f7f; text-decoration-color: #7f7f7f\">                                       </span>│<span style=\"color: #7f7f7f; text-decoration-color: #7f7f7f\">        </span>│\n",
       "│<span style=\"color: #7f7f7f; text-decoration-color: #7f7f7f\"> like all of us. Today, my Administration is making that real   </span>│<span style=\"color: #7f7f7f; text-decoration-color: #7f7f7f\">                                       </span>│<span style=\"color: #7f7f7f; text-decoration-color: #7f7f7f\">        </span>│\n",
       "│<span style=\"color: #7f7f7f; text-decoration-color: #7f7f7f\"> by expanding affordable health coverage through the Affordable </span>│<span style=\"color: #7f7f7f; text-decoration-color: #7f7f7f\">                                       </span>│<span style=\"color: #7f7f7f; text-decoration-color: #7f7f7f\">        </span>│\n",
       "│<span style=\"color: #7f7f7f; text-decoration-color: #7f7f7f\"> Care Act to DACA recipients.                                   </span>│<span style=\"color: #7f7f7f; text-decoration-color: #7f7f7f\">                                       </span>│<span style=\"color: #7f7f7f; text-decoration-color: #7f7f7f\">        </span>│\n",
       "├────────────────────────────────────────────────────────────────┼───────────────────────────────────────┼────────┤\n",
       "│<span style=\"color: #7f7f7f; text-decoration-color: #7f7f7f\"> Dreamers are our loved ones, nurses, teachers, and small       </span>│<span style=\"color: #7f7f7f; text-decoration-color: #7f7f7f\"> DACA recipients                       </span>│<span style=\"color: #7f7f7f; text-decoration-color: #7f7f7f\"> 5      </span>│\n",
       "│<span style=\"color: #7f7f7f; text-decoration-color: #7f7f7f\"> business owners – they deserve the promise of health care just </span>│<span style=\"color: #7f7f7f; text-decoration-color: #7f7f7f\">                                       </span>│<span style=\"color: #7f7f7f; text-decoration-color: #7f7f7f\">        </span>│\n",
       "│<span style=\"color: #7f7f7f; text-decoration-color: #7f7f7f\"> like all of us. Today, my Administration is making that real   </span>│<span style=\"color: #7f7f7f; text-decoration-color: #7f7f7f\">                                       </span>│<span style=\"color: #7f7f7f; text-decoration-color: #7f7f7f\">        </span>│\n",
       "│<span style=\"color: #7f7f7f; text-decoration-color: #7f7f7f\"> by expanding affordable health coverage through the Affordable </span>│<span style=\"color: #7f7f7f; text-decoration-color: #7f7f7f\">                                       </span>│<span style=\"color: #7f7f7f; text-decoration-color: #7f7f7f\">        </span>│\n",
       "│<span style=\"color: #7f7f7f; text-decoration-color: #7f7f7f\"> Care Act to DACA recipients.                                   </span>│<span style=\"color: #7f7f7f; text-decoration-color: #7f7f7f\">                                       </span>│<span style=\"color: #7f7f7f; text-decoration-color: #7f7f7f\">        </span>│\n",
       "├────────────────────────────────────────────────────────────────┼───────────────────────────────────────┼────────┤\n",
       "│<span style=\"color: #7f7f7f; text-decoration-color: #7f7f7f\"> Jill and I send warm wishes to Orthodox Christian communities  </span>│<span style=\"color: #7f7f7f; text-decoration-color: #7f7f7f\"> Orthodox Christian Easter             </span>│<span style=\"color: #7f7f7f; text-decoration-color: #7f7f7f\"> 1      </span>│\n",
       "│<span style=\"color: #7f7f7f; text-decoration-color: #7f7f7f\"> around the world as they celebrate Easter. May the Lord bless  </span>│<span style=\"color: #7f7f7f; text-decoration-color: #7f7f7f\">                                       </span>│<span style=\"color: #7f7f7f; text-decoration-color: #7f7f7f\">        </span>│\n",
       "│<span style=\"color: #7f7f7f; text-decoration-color: #7f7f7f\"> and keep you this Easter Sunday and in the year ahead.         </span>│<span style=\"color: #7f7f7f; text-decoration-color: #7f7f7f\">                                       </span>│<span style=\"color: #7f7f7f; text-decoration-color: #7f7f7f\">        </span>│\n",
       "├────────────────────────────────────────────────────────────────┼───────────────────────────────────────┼────────┤\n",
       "│<span style=\"color: #7f7f7f; text-decoration-color: #7f7f7f\"> Tune in as I deliver the keynote address at the U.S. Holocaust </span>│<span style=\"color: #7f7f7f; text-decoration-color: #7f7f7f\"> U.S. Holocaust Memorial Museum        </span>│<span style=\"color: #7f7f7f; text-decoration-color: #7f7f7f\"> 1      </span>│\n",
       "│<span style=\"color: #7f7f7f; text-decoration-color: #7f7f7f\"> Memorial Museum’s Annual Days of Remembrance ceremony in       </span>│<span style=\"color: #7f7f7f; text-decoration-color: #7f7f7f\">                                       </span>│<span style=\"color: #7f7f7f; text-decoration-color: #7f7f7f\">        </span>│\n",
       "│<span style=\"color: #7f7f7f; text-decoration-color: #7f7f7f\"> Washington, D.C.                                               </span>│<span style=\"color: #7f7f7f; text-decoration-color: #7f7f7f\">                                       </span>│<span style=\"color: #7f7f7f; text-decoration-color: #7f7f7f\">        </span>│\n",
       "├────────────────────────────────────────────────────────────────┼───────────────────────────────────────┼────────┤\n",
       "│<span style=\"color: #7f7f7f; text-decoration-color: #7f7f7f\"> Medicare is stronger and Social Security remains strong. My    </span>│<span style=\"color: #7f7f7f; text-decoration-color: #7f7f7f\"> Medicare and Social Security solvency </span>│<span style=\"color: #7f7f7f; text-decoration-color: #7f7f7f\"> 4      </span>│\n",
       "│<span style=\"color: #7f7f7f; text-decoration-color: #7f7f7f\"> economic plan has helped extend Medicare solvency by a decade. </span>│<span style=\"color: #7f7f7f; text-decoration-color: #7f7f7f\">                                       </span>│<span style=\"color: #7f7f7f; text-decoration-color: #7f7f7f\">        </span>│\n",
       "│<span style=\"color: #7f7f7f; text-decoration-color: #7f7f7f\"> And I am committed to extending Social Security solvency by    </span>│<span style=\"color: #7f7f7f; text-decoration-color: #7f7f7f\">                                       </span>│<span style=\"color: #7f7f7f; text-decoration-color: #7f7f7f\">        </span>│\n",
       "│<span style=\"color: #7f7f7f; text-decoration-color: #7f7f7f\"> making the rich pay their fair share.                          </span>│<span style=\"color: #7f7f7f; text-decoration-color: #7f7f7f\">                                       </span>│<span style=\"color: #7f7f7f; text-decoration-color: #7f7f7f\">        </span>│\n",
       "├────────────────────────────────────────────────────────────────┼───────────────────────────────────────┼────────┤\n",
       "│<span style=\"color: #7f7f7f; text-decoration-color: #7f7f7f\"> Dreamers are our loved ones, nurses, teachers, and small       </span>│<span style=\"color: #7f7f7f; text-decoration-color: #7f7f7f\"> Nation of immigrants                  </span>│<span style=\"color: #7f7f7f; text-decoration-color: #7f7f7f\"> 3      </span>│\n",
       "│<span style=\"color: #7f7f7f; text-decoration-color: #7f7f7f\"> business owners – they deserve the promise of health care just </span>│<span style=\"color: #7f7f7f; text-decoration-color: #7f7f7f\">                                       </span>│<span style=\"color: #7f7f7f; text-decoration-color: #7f7f7f\">        </span>│\n",
       "│<span style=\"color: #7f7f7f; text-decoration-color: #7f7f7f\"> like all of us. Today, my Administration is making that real   </span>│<span style=\"color: #7f7f7f; text-decoration-color: #7f7f7f\">                                       </span>│<span style=\"color: #7f7f7f; text-decoration-color: #7f7f7f\">        </span>│\n",
       "│<span style=\"color: #7f7f7f; text-decoration-color: #7f7f7f\"> by expanding affordable health coverage through the Affordable </span>│<span style=\"color: #7f7f7f; text-decoration-color: #7f7f7f\">                                       </span>│<span style=\"color: #7f7f7f; text-decoration-color: #7f7f7f\">        </span>│\n",
       "│<span style=\"color: #7f7f7f; text-decoration-color: #7f7f7f\"> Care Act to DACA recipients.                                   </span>│<span style=\"color: #7f7f7f; text-decoration-color: #7f7f7f\">                                       </span>│<span style=\"color: #7f7f7f; text-decoration-color: #7f7f7f\">        </span>│\n",
       "├────────────────────────────────────────────────────────────────┼───────────────────────────────────────┼────────┤\n",
       "│<span style=\"color: #7f7f7f; text-decoration-color: #7f7f7f\"> This Holocaust Remembrance Day, we mourn the six million Jews  </span>│<span style=\"color: #7f7f7f; text-decoration-color: #7f7f7f\"> Holocaust Remembrance                 </span>│<span style=\"color: #7f7f7f; text-decoration-color: #7f7f7f\"> 6      </span>│\n",
       "│<span style=\"color: #7f7f7f; text-decoration-color: #7f7f7f\"> who were killed by the Nazis during one of the darkest         </span>│<span style=\"color: #7f7f7f; text-decoration-color: #7f7f7f\">                                       </span>│<span style=\"color: #7f7f7f; text-decoration-color: #7f7f7f\">        </span>│\n",
       "│<span style=\"color: #7f7f7f; text-decoration-color: #7f7f7f\"> chapters in human history. And we recommit to heeding the      </span>│<span style=\"color: #7f7f7f; text-decoration-color: #7f7f7f\">                                       </span>│<span style=\"color: #7f7f7f; text-decoration-color: #7f7f7f\">        </span>│\n",
       "│<span style=\"color: #7f7f7f; text-decoration-color: #7f7f7f\"> lessons of the Shoah and realizing the responsibility of       </span>│<span style=\"color: #7f7f7f; text-decoration-color: #7f7f7f\">                                       </span>│<span style=\"color: #7f7f7f; text-decoration-color: #7f7f7f\">        </span>│\n",
       "│<span style=\"color: #7f7f7f; text-decoration-color: #7f7f7f\"> 'Never Again.'                                                 </span>│<span style=\"color: #7f7f7f; text-decoration-color: #7f7f7f\">                                       </span>│<span style=\"color: #7f7f7f; text-decoration-color: #7f7f7f\">        </span>│\n",
       "├────────────────────────────────────────────────────────────────┼───────────────────────────────────────┼────────┤\n",
       "│<span style=\"color: #7f7f7f; text-decoration-color: #7f7f7f\"> Like Jill says, 'Teaching isn’t just a job. It’s a calling.'   </span>│<span style=\"color: #7f7f7f; text-decoration-color: #7f7f7f\"> Teaching as a calling                 </span>│<span style=\"color: #7f7f7f; text-decoration-color: #7f7f7f\"> 3      </span>│\n",
       "│<span style=\"color: #7f7f7f; text-decoration-color: #7f7f7f\"> She knows that in her bones, and I know every educator who     </span>│<span style=\"color: #7f7f7f; text-decoration-color: #7f7f7f\">                                       </span>│<span style=\"color: #7f7f7f; text-decoration-color: #7f7f7f\">        </span>│\n",
       "│<span style=\"color: #7f7f7f; text-decoration-color: #7f7f7f\"> joined us at the White House for the first-ever Teacher State  </span>│<span style=\"color: #7f7f7f; text-decoration-color: #7f7f7f\">                                       </span>│<span style=\"color: #7f7f7f; text-decoration-color: #7f7f7f\">        </span>│\n",
       "│<span style=\"color: #7f7f7f; text-decoration-color: #7f7f7f\"> Dinner lives out that truth every day.                         </span>│<span style=\"color: #7f7f7f; text-decoration-color: #7f7f7f\">                                       </span>│<span style=\"color: #7f7f7f; text-decoration-color: #7f7f7f\">        </span>│\n",
       "├────────────────────────────────────────────────────────────────┼───────────────────────────────────────┼────────┤\n",
       "│<span style=\"color: #7f7f7f; text-decoration-color: #7f7f7f\"> We’re a nation of immigrants. A nation of dreamers. And as     </span>│<span style=\"color: #7f7f7f; text-decoration-color: #7f7f7f\"> Nation of immigrants                  </span>│<span style=\"color: #7f7f7f; text-decoration-color: #7f7f7f\"> 1      </span>│\n",
       "│<span style=\"color: #7f7f7f; text-decoration-color: #7f7f7f\"> Cinco de Mayo represents, a nation of freedom.                 </span>│<span style=\"color: #7f7f7f; text-decoration-color: #7f7f7f\">                                       </span>│<span style=\"color: #7f7f7f; text-decoration-color: #7f7f7f\">        </span>│\n",
       "├────────────────────────────────────────────────────────────────┼───────────────────────────────────────┼────────┤\n",
       "│<span style=\"color: #7f7f7f; text-decoration-color: #7f7f7f\"> Tune in as I deliver the keynote address at the U.S. Holocaust </span>│<span style=\"color: #7f7f7f; text-decoration-color: #7f7f7f\"> Holocaust Remembrance                 </span>│<span style=\"color: #7f7f7f; text-decoration-color: #7f7f7f\"> 3      </span>│\n",
       "│<span style=\"color: #7f7f7f; text-decoration-color: #7f7f7f\"> Memorial Museum’s Annual Days of Remembrance ceremony in       </span>│<span style=\"color: #7f7f7f; text-decoration-color: #7f7f7f\">                                       </span>│<span style=\"color: #7f7f7f; text-decoration-color: #7f7f7f\">        </span>│\n",
       "│<span style=\"color: #7f7f7f; text-decoration-color: #7f7f7f\"> Washington, D.C.                                               </span>│<span style=\"color: #7f7f7f; text-decoration-color: #7f7f7f\">                                       </span>│<span style=\"color: #7f7f7f; text-decoration-color: #7f7f7f\">        </span>│\n",
       "└────────────────────────────────────────────────────────────────┴───────────────────────────────────────┴────────┘\n",
       "</pre>\n"
      ],
      "text/plain": [
       "┏━━━━━━━━━━━━━━━━━━━━━━━━━━━━━━━━━━━━━━━━━━━━━━━━━━━━━━━━━━━━━━━━┳━━━━━━━━━━━━━━━━━━━━━━━━━━━━━━━━━━━━━━━┳━━━━━━━━┓\n",
       "┃\u001b[1;35m \u001b[0m\u001b[1;35mscenario                                                      \u001b[0m\u001b[1;35m \u001b[0m┃\u001b[1;35m \u001b[0m\u001b[1;35mscenario                             \u001b[0m\u001b[1;35m \u001b[0m┃\u001b[1;35m \u001b[0m\u001b[1;35manswer\u001b[0m\u001b[1;35m \u001b[0m┃\n",
       "┃\u001b[1;35m \u001b[0m\u001b[1;35m.text                                                         \u001b[0m\u001b[1;35m \u001b[0m┃\u001b[1;35m \u001b[0m\u001b[1;35m.concept                             \u001b[0m\u001b[1;35m \u001b[0m┃\u001b[1;35m \u001b[0m\u001b[1;35m.score\u001b[0m\u001b[1;35m \u001b[0m┃\n",
       "┡━━━━━━━━━━━━━━━━━━━━━━━━━━━━━━━━━━━━━━━━━━━━━━━━━━━━━━━━━━━━━━━━╇━━━━━━━━━━━━━━━━━━━━━━━━━━━━━━━━━━━━━━━╇━━━━━━━━┩\n",
       "│\u001b[2m \u001b[0m\u001b[2mDreamers are our loved ones, nurses, teachers, and small      \u001b[0m\u001b[2m \u001b[0m│\u001b[2m \u001b[0m\u001b[2mEconomy for families                 \u001b[0m\u001b[2m \u001b[0m│\u001b[2m \u001b[0m\u001b[2m2     \u001b[0m\u001b[2m \u001b[0m│\n",
       "│\u001b[2m \u001b[0m\u001b[2mbusiness owners – they deserve the promise of health care just\u001b[0m\u001b[2m \u001b[0m│\u001b[2m                                       \u001b[0m│\u001b[2m        \u001b[0m│\n",
       "│\u001b[2m \u001b[0m\u001b[2mlike all of us. Today, my Administration is making that real  \u001b[0m\u001b[2m \u001b[0m│\u001b[2m                                       \u001b[0m│\u001b[2m        \u001b[0m│\n",
       "│\u001b[2m \u001b[0m\u001b[2mby expanding affordable health coverage through the Affordable\u001b[0m\u001b[2m \u001b[0m│\u001b[2m                                       \u001b[0m│\u001b[2m        \u001b[0m│\n",
       "│\u001b[2m \u001b[0m\u001b[2mCare Act to DACA recipients.                                  \u001b[0m\u001b[2m \u001b[0m│\u001b[2m                                       \u001b[0m│\u001b[2m        \u001b[0m│\n",
       "├────────────────────────────────────────────────────────────────┼───────────────────────────────────────┼────────┤\n",
       "│\u001b[2m \u001b[0m\u001b[2mWith today’s report of 175,000 new jobs, the American comeback\u001b[0m\u001b[2m \u001b[0m│\u001b[2m \u001b[0m\u001b[2mEconomy for families                 \u001b[0m\u001b[2m \u001b[0m│\u001b[2m \u001b[0m\u001b[2m3     \u001b[0m\u001b[2m \u001b[0m│\n",
       "│\u001b[2m \u001b[0m\u001b[2mcontinues. Congressional Republicans are fighting to cut taxes\u001b[0m\u001b[2m \u001b[0m│\u001b[2m                                       \u001b[0m│\u001b[2m        \u001b[0m│\n",
       "│\u001b[2m \u001b[0m\u001b[2mfor billionaires and let special interests rip folks off, I'm \u001b[0m\u001b[2m \u001b[0m│\u001b[2m                                       \u001b[0m│\u001b[2m        \u001b[0m│\n",
       "│\u001b[2m \u001b[0m\u001b[2mfocused on job creation and building an economy that works for\u001b[0m\u001b[2m \u001b[0m│\u001b[2m                                       \u001b[0m│\u001b[2m        \u001b[0m│\n",
       "│\u001b[2m \u001b[0m\u001b[2mthe families I grew up with.                                  \u001b[0m\u001b[2m \u001b[0m│\u001b[2m                                       \u001b[0m│\u001b[2m        \u001b[0m│\n",
       "├────────────────────────────────────────────────────────────────┼───────────────────────────────────────┼────────┤\n",
       "│\u001b[2m \u001b[0m\u001b[2mWith today’s report of 175,000 new jobs, the American comeback\u001b[0m\u001b[2m \u001b[0m│\u001b[2m \u001b[0m\u001b[2mJob creation                         \u001b[0m\u001b[2m \u001b[0m│\u001b[2m \u001b[0m\u001b[2m2     \u001b[0m\u001b[2m \u001b[0m│\n",
       "│\u001b[2m \u001b[0m\u001b[2mcontinues. Congressional Republicans are fighting to cut taxes\u001b[0m\u001b[2m \u001b[0m│\u001b[2m                                       \u001b[0m│\u001b[2m        \u001b[0m│\n",
       "│\u001b[2m \u001b[0m\u001b[2mfor billionaires and let special interests rip folks off, I'm \u001b[0m\u001b[2m \u001b[0m│\u001b[2m                                       \u001b[0m│\u001b[2m        \u001b[0m│\n",
       "│\u001b[2m \u001b[0m\u001b[2mfocused on job creation and building an economy that works for\u001b[0m\u001b[2m \u001b[0m│\u001b[2m                                       \u001b[0m│\u001b[2m        \u001b[0m│\n",
       "│\u001b[2m \u001b[0m\u001b[2mthe families I grew up with.                                  \u001b[0m\u001b[2m \u001b[0m│\u001b[2m                                       \u001b[0m│\u001b[2m        \u001b[0m│\n",
       "├────────────────────────────────────────────────────────────────┼───────────────────────────────────────┼────────┤\n",
       "│\u001b[2m \u001b[0m\u001b[2mMedicare is stronger and Social Security remains strong. My   \u001b[0m\u001b[2m \u001b[0m│\u001b[2m \u001b[0m\u001b[2mEconomy for families                 \u001b[0m\u001b[2m \u001b[0m│\u001b[2m \u001b[0m\u001b[2m3     \u001b[0m\u001b[2m \u001b[0m│\n",
       "│\u001b[2m \u001b[0m\u001b[2meconomic plan has helped extend Medicare solvency by a decade.\u001b[0m\u001b[2m \u001b[0m│\u001b[2m                                       \u001b[0m│\u001b[2m        \u001b[0m│\n",
       "│\u001b[2m \u001b[0m\u001b[2mAnd I am committed to extending Social Security solvency by   \u001b[0m\u001b[2m \u001b[0m│\u001b[2m                                       \u001b[0m│\u001b[2m        \u001b[0m│\n",
       "│\u001b[2m \u001b[0m\u001b[2mmaking the rich pay their fair share.                         \u001b[0m\u001b[2m \u001b[0m│\u001b[2m                                       \u001b[0m│\u001b[2m        \u001b[0m│\n",
       "├────────────────────────────────────────────────────────────────┼───────────────────────────────────────┼────────┤\n",
       "│\u001b[2m \u001b[0m\u001b[2mDreamers are our loved ones, nurses, teachers, and small      \u001b[0m\u001b[2m \u001b[0m│\u001b[2m \u001b[0m\u001b[2mAffordable Care Act                  \u001b[0m\u001b[2m \u001b[0m│\u001b[2m \u001b[0m\u001b[2m6     \u001b[0m\u001b[2m \u001b[0m│\n",
       "│\u001b[2m \u001b[0m\u001b[2mbusiness owners – they deserve the promise of health care just\u001b[0m\u001b[2m \u001b[0m│\u001b[2m                                       \u001b[0m│\u001b[2m        \u001b[0m│\n",
       "│\u001b[2m \u001b[0m\u001b[2mlike all of us. Today, my Administration is making that real  \u001b[0m\u001b[2m \u001b[0m│\u001b[2m                                       \u001b[0m│\u001b[2m        \u001b[0m│\n",
       "│\u001b[2m \u001b[0m\u001b[2mby expanding affordable health coverage through the Affordable\u001b[0m\u001b[2m \u001b[0m│\u001b[2m                                       \u001b[0m│\u001b[2m        \u001b[0m│\n",
       "│\u001b[2m \u001b[0m\u001b[2mCare Act to DACA recipients.                                  \u001b[0m\u001b[2m \u001b[0m│\u001b[2m                                       \u001b[0m│\u001b[2m        \u001b[0m│\n",
       "├────────────────────────────────────────────────────────────────┼───────────────────────────────────────┼────────┤\n",
       "│\u001b[2m \u001b[0m\u001b[2mDreamers are our loved ones, nurses, teachers, and small      \u001b[0m\u001b[2m \u001b[0m│\u001b[2m \u001b[0m\u001b[2mDACA recipients                      \u001b[0m\u001b[2m \u001b[0m│\u001b[2m \u001b[0m\u001b[2m5     \u001b[0m\u001b[2m \u001b[0m│\n",
       "│\u001b[2m \u001b[0m\u001b[2mbusiness owners – they deserve the promise of health care just\u001b[0m\u001b[2m \u001b[0m│\u001b[2m                                       \u001b[0m│\u001b[2m        \u001b[0m│\n",
       "│\u001b[2m \u001b[0m\u001b[2mlike all of us. Today, my Administration is making that real  \u001b[0m\u001b[2m \u001b[0m│\u001b[2m                                       \u001b[0m│\u001b[2m        \u001b[0m│\n",
       "│\u001b[2m \u001b[0m\u001b[2mby expanding affordable health coverage through the Affordable\u001b[0m\u001b[2m \u001b[0m│\u001b[2m                                       \u001b[0m│\u001b[2m        \u001b[0m│\n",
       "│\u001b[2m \u001b[0m\u001b[2mCare Act to DACA recipients.                                  \u001b[0m\u001b[2m \u001b[0m│\u001b[2m                                       \u001b[0m│\u001b[2m        \u001b[0m│\n",
       "├────────────────────────────────────────────────────────────────┼───────────────────────────────────────┼────────┤\n",
       "│\u001b[2m \u001b[0m\u001b[2mJill and I send warm wishes to Orthodox Christian communities \u001b[0m\u001b[2m \u001b[0m│\u001b[2m \u001b[0m\u001b[2mOrthodox Christian Easter            \u001b[0m\u001b[2m \u001b[0m│\u001b[2m \u001b[0m\u001b[2m1     \u001b[0m\u001b[2m \u001b[0m│\n",
       "│\u001b[2m \u001b[0m\u001b[2maround the world as they celebrate Easter. May the Lord bless \u001b[0m\u001b[2m \u001b[0m│\u001b[2m                                       \u001b[0m│\u001b[2m        \u001b[0m│\n",
       "│\u001b[2m \u001b[0m\u001b[2mand keep you this Easter Sunday and in the year ahead.        \u001b[0m\u001b[2m \u001b[0m│\u001b[2m                                       \u001b[0m│\u001b[2m        \u001b[0m│\n",
       "├────────────────────────────────────────────────────────────────┼───────────────────────────────────────┼────────┤\n",
       "│\u001b[2m \u001b[0m\u001b[2mTune in as I deliver the keynote address at the U.S. Holocaust\u001b[0m\u001b[2m \u001b[0m│\u001b[2m \u001b[0m\u001b[2mU.S. Holocaust Memorial Museum       \u001b[0m\u001b[2m \u001b[0m│\u001b[2m \u001b[0m\u001b[2m1     \u001b[0m\u001b[2m \u001b[0m│\n",
       "│\u001b[2m \u001b[0m\u001b[2mMemorial Museum’s Annual Days of Remembrance ceremony in      \u001b[0m\u001b[2m \u001b[0m│\u001b[2m                                       \u001b[0m│\u001b[2m        \u001b[0m│\n",
       "│\u001b[2m \u001b[0m\u001b[2mWashington, D.C.                                              \u001b[0m\u001b[2m \u001b[0m│\u001b[2m                                       \u001b[0m│\u001b[2m        \u001b[0m│\n",
       "├────────────────────────────────────────────────────────────────┼───────────────────────────────────────┼────────┤\n",
       "│\u001b[2m \u001b[0m\u001b[2mMedicare is stronger and Social Security remains strong. My   \u001b[0m\u001b[2m \u001b[0m│\u001b[2m \u001b[0m\u001b[2mMedicare and Social Security solvency\u001b[0m\u001b[2m \u001b[0m│\u001b[2m \u001b[0m\u001b[2m4     \u001b[0m\u001b[2m \u001b[0m│\n",
       "│\u001b[2m \u001b[0m\u001b[2meconomic plan has helped extend Medicare solvency by a decade.\u001b[0m\u001b[2m \u001b[0m│\u001b[2m                                       \u001b[0m│\u001b[2m        \u001b[0m│\n",
       "│\u001b[2m \u001b[0m\u001b[2mAnd I am committed to extending Social Security solvency by   \u001b[0m\u001b[2m \u001b[0m│\u001b[2m                                       \u001b[0m│\u001b[2m        \u001b[0m│\n",
       "│\u001b[2m \u001b[0m\u001b[2mmaking the rich pay their fair share.                         \u001b[0m\u001b[2m \u001b[0m│\u001b[2m                                       \u001b[0m│\u001b[2m        \u001b[0m│\n",
       "├────────────────────────────────────────────────────────────────┼───────────────────────────────────────┼────────┤\n",
       "│\u001b[2m \u001b[0m\u001b[2mDreamers are our loved ones, nurses, teachers, and small      \u001b[0m\u001b[2m \u001b[0m│\u001b[2m \u001b[0m\u001b[2mNation of immigrants                 \u001b[0m\u001b[2m \u001b[0m│\u001b[2m \u001b[0m\u001b[2m3     \u001b[0m\u001b[2m \u001b[0m│\n",
       "│\u001b[2m \u001b[0m\u001b[2mbusiness owners – they deserve the promise of health care just\u001b[0m\u001b[2m \u001b[0m│\u001b[2m                                       \u001b[0m│\u001b[2m        \u001b[0m│\n",
       "│\u001b[2m \u001b[0m\u001b[2mlike all of us. Today, my Administration is making that real  \u001b[0m\u001b[2m \u001b[0m│\u001b[2m                                       \u001b[0m│\u001b[2m        \u001b[0m│\n",
       "│\u001b[2m \u001b[0m\u001b[2mby expanding affordable health coverage through the Affordable\u001b[0m\u001b[2m \u001b[0m│\u001b[2m                                       \u001b[0m│\u001b[2m        \u001b[0m│\n",
       "│\u001b[2m \u001b[0m\u001b[2mCare Act to DACA recipients.                                  \u001b[0m\u001b[2m \u001b[0m│\u001b[2m                                       \u001b[0m│\u001b[2m        \u001b[0m│\n",
       "├────────────────────────────────────────────────────────────────┼───────────────────────────────────────┼────────┤\n",
       "│\u001b[2m \u001b[0m\u001b[2mThis Holocaust Remembrance Day, we mourn the six million Jews \u001b[0m\u001b[2m \u001b[0m│\u001b[2m \u001b[0m\u001b[2mHolocaust Remembrance                \u001b[0m\u001b[2m \u001b[0m│\u001b[2m \u001b[0m\u001b[2m6     \u001b[0m\u001b[2m \u001b[0m│\n",
       "│\u001b[2m \u001b[0m\u001b[2mwho were killed by the Nazis during one of the darkest        \u001b[0m\u001b[2m \u001b[0m│\u001b[2m                                       \u001b[0m│\u001b[2m        \u001b[0m│\n",
       "│\u001b[2m \u001b[0m\u001b[2mchapters in human history. And we recommit to heeding the     \u001b[0m\u001b[2m \u001b[0m│\u001b[2m                                       \u001b[0m│\u001b[2m        \u001b[0m│\n",
       "│\u001b[2m \u001b[0m\u001b[2mlessons of the Shoah and realizing the responsibility of      \u001b[0m\u001b[2m \u001b[0m│\u001b[2m                                       \u001b[0m│\u001b[2m        \u001b[0m│\n",
       "│\u001b[2m \u001b[0m\u001b[2m'Never Again.'                                                \u001b[0m\u001b[2m \u001b[0m│\u001b[2m                                       \u001b[0m│\u001b[2m        \u001b[0m│\n",
       "├────────────────────────────────────────────────────────────────┼───────────────────────────────────────┼────────┤\n",
       "│\u001b[2m \u001b[0m\u001b[2mLike Jill says, 'Teaching isn’t just a job. It’s a calling.'  \u001b[0m\u001b[2m \u001b[0m│\u001b[2m \u001b[0m\u001b[2mTeaching as a calling                \u001b[0m\u001b[2m \u001b[0m│\u001b[2m \u001b[0m\u001b[2m3     \u001b[0m\u001b[2m \u001b[0m│\n",
       "│\u001b[2m \u001b[0m\u001b[2mShe knows that in her bones, and I know every educator who    \u001b[0m\u001b[2m \u001b[0m│\u001b[2m                                       \u001b[0m│\u001b[2m        \u001b[0m│\n",
       "│\u001b[2m \u001b[0m\u001b[2mjoined us at the White House for the first-ever Teacher State \u001b[0m\u001b[2m \u001b[0m│\u001b[2m                                       \u001b[0m│\u001b[2m        \u001b[0m│\n",
       "│\u001b[2m \u001b[0m\u001b[2mDinner lives out that truth every day.                        \u001b[0m\u001b[2m \u001b[0m│\u001b[2m                                       \u001b[0m│\u001b[2m        \u001b[0m│\n",
       "├────────────────────────────────────────────────────────────────┼───────────────────────────────────────┼────────┤\n",
       "│\u001b[2m \u001b[0m\u001b[2mWe’re a nation of immigrants. A nation of dreamers. And as    \u001b[0m\u001b[2m \u001b[0m│\u001b[2m \u001b[0m\u001b[2mNation of immigrants                 \u001b[0m\u001b[2m \u001b[0m│\u001b[2m \u001b[0m\u001b[2m1     \u001b[0m\u001b[2m \u001b[0m│\n",
       "│\u001b[2m \u001b[0m\u001b[2mCinco de Mayo represents, a nation of freedom.                \u001b[0m\u001b[2m \u001b[0m│\u001b[2m                                       \u001b[0m│\u001b[2m        \u001b[0m│\n",
       "├────────────────────────────────────────────────────────────────┼───────────────────────────────────────┼────────┤\n",
       "│\u001b[2m \u001b[0m\u001b[2mTune in as I deliver the keynote address at the U.S. Holocaust\u001b[0m\u001b[2m \u001b[0m│\u001b[2m \u001b[0m\u001b[2mHolocaust Remembrance                \u001b[0m\u001b[2m \u001b[0m│\u001b[2m \u001b[0m\u001b[2m3     \u001b[0m\u001b[2m \u001b[0m│\n",
       "│\u001b[2m \u001b[0m\u001b[2mMemorial Museum’s Annual Days of Remembrance ceremony in      \u001b[0m\u001b[2m \u001b[0m│\u001b[2m                                       \u001b[0m│\u001b[2m        \u001b[0m│\n",
       "│\u001b[2m \u001b[0m\u001b[2mWashington, D.C.                                              \u001b[0m\u001b[2m \u001b[0m│\u001b[2m                                       \u001b[0m│\u001b[2m        \u001b[0m│\n",
       "└────────────────────────────────────────────────────────────────┴───────────────────────────────────────┴────────┘\n"
      ]
     },
     "metadata": {},
     "output_type": "display_data"
    }
   ],
   "source": [
    "(\n",
    "    results.filter(\"score > 0\")\n",
    "    .select(\"text\", \"concept\", \"score\")\n",
    "    .print(format=\"rich\")\n",
    ")"
   ]
  },
  {
   "cell_type": "markdown",
   "id": "e2006a94-66cd-4924-b82c-7bbf3d3829c9",
   "metadata": {
    "editable": true,
    "slideshow": {
     "slide_type": ""
    },
    "tags": []
   },
   "source": [
    "## Posting to the Coop\n",
    "The [Coop](https://www.expectedparrot.com/explore) is a platform for creating, storing and sharing LLM-based research.\n",
    "It is fully integrated with EDSL and accessible from your workspace or Coop account page.\n",
    "Learn more about [creating an account](https://www.expectedparrot.com/login) and [using the Coop](https://docs.expectedparrot.com/en/latest/coop.html).\n",
    "\n",
    "Here we post the scenarios, survey and results from above, and this notebook:"
   ]
  },
  {
   "cell_type": "code",
   "execution_count": 22,
   "id": "2e02dfeb-2cf6-4396-b174-064b4b81d70f",
   "metadata": {
    "editable": true,
    "slideshow": {
     "slide_type": ""
    },
    "tags": [
     "skip-execution"
    ]
   },
   "outputs": [
    {
     "data": {
      "text/plain": [
       "{'description': 'Example scenarios',\n",
       " 'object_type': 'scenario_list',\n",
       " 'url': 'https://www.expectedparrot.com/content/5c1f6856-32e4-4473-97e6-928541759637',\n",
       " 'uuid': '5c1f6856-32e4-4473-97e6-928541759637',\n",
       " 'version': '0.1.33.dev1',\n",
       " 'visibility': 'public'}"
      ]
     },
     "execution_count": 22,
     "metadata": {},
     "output_type": "execute_result"
    }
   ],
   "source": [
    "scenarios.push(description = \"Example scenarios\", visibility = \"public\")"
   ]
  },
  {
   "cell_type": "code",
   "execution_count": 23,
   "id": "31f8ccc0-f3e2-4e12-ac7e-2cae6d1fdd89",
   "metadata": {
    "editable": true,
    "slideshow": {
     "slide_type": ""
    },
    "tags": [
     "skip-execution"
    ]
   },
   "outputs": [
    {
     "data": {
      "text/plain": [
       "{'description': 'Example survey',\n",
       " 'object_type': 'survey',\n",
       " 'url': 'https://www.expectedparrot.com/content/2cf3c5fd-e6c1-4135-af96-0ce866dc28bb',\n",
       " 'uuid': '2cf3c5fd-e6c1-4135-af96-0ce866dc28bb',\n",
       " 'version': '0.1.33.dev1',\n",
       " 'visibility': 'public'}"
      ]
     },
     "execution_count": 23,
     "metadata": {},
     "output_type": "execute_result"
    }
   ],
   "source": [
    "survey.push(description = \"Example survey\", visibility = \"public\")"
   ]
  },
  {
   "cell_type": "code",
   "execution_count": 24,
   "id": "48bc3869-9452-4fe5-bb47-910eb114fac4",
   "metadata": {
    "editable": true,
    "slideshow": {
     "slide_type": ""
    },
    "tags": [
     "skip-execution"
    ]
   },
   "outputs": [
    {
     "data": {
      "text/plain": [
       "{'description': 'Example results',\n",
       " 'object_type': 'results',\n",
       " 'url': 'https://www.expectedparrot.com/content/4d7b3230-575e-47d0-b321-81b59d2df16f',\n",
       " 'uuid': '4d7b3230-575e-47d0-b321-81b59d2df16f',\n",
       " 'version': '0.1.33.dev1',\n",
       " 'visibility': 'public'}"
      ]
     },
     "execution_count": 24,
     "metadata": {},
     "output_type": "execute_result"
    }
   ],
   "source": [
    "results.push(description = \"Example results\", visibility = \"public\")"
   ]
  },
  {
   "cell_type": "markdown",
   "id": "bcbd9e37-abca-41f8-859d-67dc2ec1176d",
   "metadata": {
    "editable": true,
    "slideshow": {
     "slide_type": ""
    },
    "tags": []
   },
   "source": [
    "We can also post this notebook:"
   ]
  },
  {
   "cell_type": "code",
   "execution_count": 25,
   "id": "907c4366-108d-4cee-987e-2f96904b7c54",
   "metadata": {
    "editable": true,
    "slideshow": {
     "slide_type": ""
    },
    "tags": [
     "skip-execution"
    ]
   },
   "outputs": [],
   "source": [
    "from edsl import Notebook"
   ]
  },
  {
   "cell_type": "code",
   "execution_count": 26,
   "id": "3acdd8b4-2063-4715-9082-68c0e20913b7",
   "metadata": {
    "editable": true,
    "slideshow": {
     "slide_type": ""
    },
    "tags": [
     "skip-execution"
    ]
   },
   "outputs": [],
   "source": [
    "n = Notebook(path = \"concept_induction.ipynb\")"
   ]
  },
  {
   "cell_type": "code",
   "execution_count": 27,
   "id": "94e68984-3fb9-4f82-bff6-fdf341ec3baa",
   "metadata": {
    "editable": true,
    "slideshow": {
     "slide_type": ""
    },
    "tags": [
     "skip-execution"
    ]
   },
   "outputs": [
    {
     "data": {
      "text/plain": [
       "{'description': 'Example code for concept induction',\n",
       " 'object_type': 'notebook',\n",
       " 'url': 'https://www.expectedparrot.com/content/6f29a7b3-6a2e-460b-bf39-baeb7d6c39a1',\n",
       " 'uuid': '6f29a7b3-6a2e-460b-bf39-baeb7d6c39a1',\n",
       " 'version': '0.1.33.dev1',\n",
       " 'visibility': 'public'}"
      ]
     },
     "execution_count": 27,
     "metadata": {},
     "output_type": "execute_result"
    }
   ],
   "source": [
    "n.push(description = \"Example code for concept induction\", visibility = \"public\")"
   ]
  },
  {
   "cell_type": "markdown",
   "id": "f653f592-c57f-44f0-a3fa-dbd35cb6e712",
   "metadata": {
    "editable": true,
    "slideshow": {
     "slide_type": ""
    },
    "tags": []
   },
   "source": [
    "To update an object at the Coop:"
   ]
  },
  {
   "cell_type": "code",
   "execution_count": 28,
   "id": "e880055c-d11a-49d8-b39a-99f170a7500e",
   "metadata": {
    "editable": true,
    "slideshow": {
     "slide_type": ""
    },
    "tags": [
     "skip-execution"
    ]
   },
   "outputs": [],
   "source": [
    "n = Notebook(path = \"concept_induction.ipynb\") # resave it"
   ]
  },
  {
   "cell_type": "code",
   "execution_count": 29,
   "id": "26e51905-f484-4603-9e3d-eba888e840cc",
   "metadata": {
    "editable": true,
    "slideshow": {
     "slide_type": ""
    },
    "tags": [
     "skip-execution"
    ]
   },
   "outputs": [
    {
     "data": {
      "text/plain": [
       "{'status': 'success'}"
      ]
     },
     "execution_count": 29,
     "metadata": {},
     "output_type": "execute_result"
    }
   ],
   "source": [
    "n.patch(uuid = \"6f29a7b3-6a2e-460b-bf39-baeb7d6c39a1\", value = n)"
   ]
  }
 ],
 "metadata": {
  "kernelspec": {
   "display_name": "Python 3 (ipykernel)",
   "language": "python",
   "name": "python3"
  },
  "language_info": {
   "codemirror_mode": {
    "name": "ipython",
    "version": 3
   },
   "file_extension": ".py",
   "mimetype": "text/x-python",
   "name": "python",
   "nbconvert_exporter": "python",
   "pygments_lexer": "ipython3",
   "version": "3.11.7"
  }
 },
 "nbformat": 4,
 "nbformat_minor": 5
}
