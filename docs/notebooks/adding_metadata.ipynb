{
 "cells": [
  {
   "cell_type": "markdown",
   "id": "a446be75-6e41-4418-9cad-0d26e5f2a328",
   "metadata": {
    "editable": true,
    "slideshow": {
     "slide_type": ""
    },
    "tags": []
   },
   "source": [
    "# Adding metadata to survey results\n",
    "This notebook provides sample [EDSL](https://docs.expectedparrot.com/) code for adding metadata to survey [results](https://docs.expectedparrot.com/en/latest/results.html). This can be useful when you are using EDSL to conduct [data labeling](https://docs.expectedparrot.com/en/latest/notebooks/data_labeling_example.html) or similar tasks and want to include information about the data or content that you are using with a survey (e.g., the data source or date), without having to perform post-survey data match up steps.\n",
    "\n",
    "In EDSL this can be done by including fields for metadata in [scenarios](https://docs.expectedparrot.com/en/latest/scenarios.html) that you create for the data/content you are using with a survey. When the scenarios are added to the survey and it is run, columns for the metadata fields are automatically included in the results that are generated.\n",
    "\n",
    "## Example\n",
    "In the steps below we create and run a simple EDSL survey that uses scenarios to add metadata to the results. The steps consist of:\n",
    "\n",
    "* Constructing a survey of questions about some data (mock news stories)\n",
    "* Creating a scenario (dictionary) for each news story\n",
    "* Adding the scenarios to the survey and running it\n",
    "* Inspecting the results\n",
    "\n",
    "## Technical setup\n",
    "Before running the code below, please ensure that you have [installed the EDSL libary](https://docs.expectedparrot.com/en/latest/installation.html) and either [activated remote inference](https://docs.expectedparrot.com/en/latest/remote_inference.html) from your [Coop account](https://docs.expectedparrot.com/en/latest/coop.html) or [stored API keys](https://docs.expectedparrot.com/en/latest/api_keys.html) for the language models that you want to use with EDSL. Please also see our [documentation page](https://docs.expectedparrot.com/) for tips and tutorials on getting started using EDSL."
   ]
  },
  {
   "cell_type": "markdown",
   "id": "fced10dd-08b1-4a51-96eb-3d968bceddb3",
   "metadata": {},
   "source": [
    "## Constructing questions\n",
    "We start by constructing some questions with a `{{ placeholder }}` for data that we will add to the question texts. \n",
    "EDSL comes with a variety of [question types](https://docs.expectedparrot.com/en/latest/questions.html) that we can choose from based on the form of the response that we want to get back from the model:"
   ]
  },
  {
   "cell_type": "code",
   "execution_count": 1,
   "id": "546f0dd4-4ed8-41ce-9de2-083c117a3b5c",
   "metadata": {},
   "outputs": [],
   "source": [
    "from edsl import QuestionFreeText, QuestionMultipleChoice"
   ]
  },
  {
   "cell_type": "code",
   "execution_count": 2,
   "id": "849d728d-c699-4d24-bde4-dea8acefd582",
   "metadata": {},
   "outputs": [],
   "source": [
    "q_reference = QuestionFreeText(\n",
    "    question_name = \"reference\",\n",
    "    question_text = \"What is this headline referring to: {{ headline }}\",\n",
    ")\n",
    "\n",
    "q_section = QuestionMultipleChoice(\n",
    "    question_name = \"section\",\n",
    "    question_text = \"Which section of the paper is most likely to include this story: {{ headline }}\",\n",
    "    question_options = [\n",
    "        \"Front page\",\n",
    "        \"Health\",\n",
    "        \"Politics\",\n",
    "        \"Entertainment\",\n",
    "        \"Local\",\n",
    "        \"Opinion\",\n",
    "        \"Sports\",\n",
    "        \"Culture\",\n",
    "        \"Housing\"\n",
    "    ]\n",
    ")"
   ]
  },
  {
   "cell_type": "markdown",
   "id": "707812eb-e368-435c-89f5-f6c3fd861827",
   "metadata": {},
   "source": [
    "## Creating a survey\n",
    "Next we pass the questions to a survey in order to administer them together:"
   ]
  },
  {
   "cell_type": "code",
   "execution_count": 3,
   "id": "070b140c-c4d2-44c3-9946-3e21b767305d",
   "metadata": {},
   "outputs": [],
   "source": [
    "from edsl import Survey"
   ]
  },
  {
   "cell_type": "code",
   "execution_count": 4,
   "id": "628237c1-652b-4196-8672-3e25c51df3a6",
   "metadata": {},
   "outputs": [],
   "source": [
    "survey = Survey(questions = [q_reference, q_section])"
   ]
  },
  {
   "cell_type": "markdown",
   "id": "e5c2968e-0463-4a86-9206-154192daadd1",
   "metadata": {},
   "source": [
    "## Parameterizing questions with scenarios\n",
    "Next we create a `ScenarioList` with a `Scenario` consisting of a key/value for each piece of data that we want to add to the questions at the `{{ placeholder }}`, with additional key/values for metadata that we want to keep with the results that are generated when the survey is run. \n",
    "EDSL comes with a variety of [methods for generating scenarios from different data sources](https://docs.expectedparrot.com/en/latest/scenarios.html) (PDFs, CSVs, images, tables, lists, etc.); here we generate scenarios from a dictionary:"
   ]
  },
  {
   "cell_type": "code",
   "execution_count": 5,
   "id": "297e2ac8-48ea-47d0-b35a-3a9d84bfe888",
   "metadata": {},
   "outputs": [],
   "source": [
    "from edsl import ScenarioList, Scenario"
   ]
  },
  {
   "cell_type": "code",
   "execution_count": 6,
   "id": "8bd7b6fb-9ab1-4fb5-a75b-02ed3a7a5d6e",
   "metadata": {},
   "outputs": [],
   "source": [
    "data = {\n",
    "    \"headline\": [\n",
    "        \"Armistice Signed, War Over: Celebrations Erupt Across City\",\n",
    "        \"Spanish Flu Pandemic: Hospitals Overwhelmed as Cases Surge\",\n",
    "        \"Women Gain Right to Vote: Historic Amendment Passed\",\n",
    "        \"Broadway Theaters Reopen After Flu Shutdown\",\n",
    "        \"City Welcomes Returning Soldiers with Parade\",\n",
    "        \"Prohibition Debate Heats Up: Public Opinion Divided\",\n",
    "        \"New York Yankees Win First Pennant in Franchise History\",\n",
    "        \"Subway Expansion Project Approved by City Council\",\n",
    "        \"Harlem Renaissance: New Wave of Cultural Expression\",\n",
    "        \"Mayor Announces New Housing Initiative for Veterans\",\n",
    "    ],\n",
    "    \"date\": [\n",
    "        \"1918-11-11\",\n",
    "        \"1918-10-15\",\n",
    "        \"1918-06-05\",\n",
    "        \"1918-12-01\",\n",
    "        \"1918-11-12\",\n",
    "        \"1918-07-20\",\n",
    "        \"1918-09-30\",\n",
    "        \"1918-08-18\",\n",
    "        \"1918-04-25\",\n",
    "        \"1918-11-20\",\n",
    "    ],\n",
    "    \"author\": [\n",
    "        \"John Doe\",\n",
    "        \"Jane Smith\",\n",
    "        \"Robert Johnson\",\n",
    "        \"Mary Lee\",\n",
    "        \"James Brown\",\n",
    "        \"Patricia Green\",\n",
    "        \"William Davis\",\n",
    "        \"Barbara Wilson\",\n",
    "        \"Charles Miller\",\n",
    "        \"Elizabeth Taylor\",\n",
    "    ]\n",
    "}"
   ]
  },
  {
   "cell_type": "code",
   "execution_count": 7,
   "id": "fd356afd-8027-4e7b-979b-47e479848c03",
   "metadata": {},
   "outputs": [],
   "source": [
    "scenarios = ScenarioList.from_nested_dict(data)"
   ]
  },
  {
   "cell_type": "markdown",
   "id": "98fb1b80-f898-451d-9399-050d5ad336de",
   "metadata": {},
   "source": [
    "We can inspect the scenarios that have been created:"
   ]
  },
  {
   "cell_type": "code",
   "execution_count": 8,
   "id": "d1ec1b49-ee7b-487f-b289-65f88d0f9f6d",
   "metadata": {},
   "outputs": [
    {
     "data": {
      "text/html": [
       "<div class=\"highlight\"><pre><span></span><span class=\"p\">{</span>\n",
       "<span class=\"w\">    </span><span class=\"nt\">&quot;scenarios&quot;</span><span class=\"p\">:</span><span class=\"w\"> </span><span class=\"p\">[</span>\n",
       "<span class=\"w\">        </span><span class=\"p\">{</span>\n",
       "<span class=\"w\">            </span><span class=\"nt\">&quot;headline&quot;</span><span class=\"p\">:</span><span class=\"w\"> </span><span class=\"s2\">&quot;Armistice Signed, War Over: Celebrations Erupt Across City&quot;</span><span class=\"p\">,</span>\n",
       "<span class=\"w\">            </span><span class=\"nt\">&quot;date&quot;</span><span class=\"p\">:</span><span class=\"w\"> </span><span class=\"s2\">&quot;1918-11-11&quot;</span><span class=\"p\">,</span>\n",
       "<span class=\"w\">            </span><span class=\"nt\">&quot;author&quot;</span><span class=\"p\">:</span><span class=\"w\"> </span><span class=\"s2\">&quot;John Doe&quot;</span>\n",
       "<span class=\"w\">        </span><span class=\"p\">},</span>\n",
       "<span class=\"w\">        </span><span class=\"p\">{</span>\n",
       "<span class=\"w\">            </span><span class=\"nt\">&quot;headline&quot;</span><span class=\"p\">:</span><span class=\"w\"> </span><span class=\"s2\">&quot;Spanish Flu Pandemic: Hospitals Overwhelmed as Cases Surge&quot;</span><span class=\"p\">,</span>\n",
       "<span class=\"w\">            </span><span class=\"nt\">&quot;date&quot;</span><span class=\"p\">:</span><span class=\"w\"> </span><span class=\"s2\">&quot;1918-10-15&quot;</span><span class=\"p\">,</span>\n",
       "<span class=\"w\">            </span><span class=\"nt\">&quot;author&quot;</span><span class=\"p\">:</span><span class=\"w\"> </span><span class=\"s2\">&quot;Jane Smith&quot;</span>\n",
       "<span class=\"w\">        </span><span class=\"p\">},</span>\n",
       "<span class=\"w\">        </span><span class=\"p\">{</span>\n",
       "<span class=\"w\">            </span><span class=\"nt\">&quot;headline&quot;</span><span class=\"p\">:</span><span class=\"w\"> </span><span class=\"s2\">&quot;Women Gain Right to Vote: Historic Amendment Passed&quot;</span><span class=\"p\">,</span>\n",
       "<span class=\"w\">            </span><span class=\"nt\">&quot;date&quot;</span><span class=\"p\">:</span><span class=\"w\"> </span><span class=\"s2\">&quot;1918-06-05&quot;</span><span class=\"p\">,</span>\n",
       "<span class=\"w\">            </span><span class=\"nt\">&quot;author&quot;</span><span class=\"p\">:</span><span class=\"w\"> </span><span class=\"s2\">&quot;Robert Johnson&quot;</span>\n",
       "<span class=\"w\">        </span><span class=\"p\">},</span>\n",
       "<span class=\"w\">        </span><span class=\"p\">{</span>\n",
       "<span class=\"w\">            </span><span class=\"nt\">&quot;headline&quot;</span><span class=\"p\">:</span><span class=\"w\"> </span><span class=\"s2\">&quot;Broadway Theaters Reopen After Flu Shutdown&quot;</span><span class=\"p\">,</span>\n",
       "<span class=\"w\">            </span><span class=\"nt\">&quot;date&quot;</span><span class=\"p\">:</span><span class=\"w\"> </span><span class=\"s2\">&quot;1918-12-01&quot;</span><span class=\"p\">,</span>\n",
       "<span class=\"w\">            </span><span class=\"nt\">&quot;author&quot;</span><span class=\"p\">:</span><span class=\"w\"> </span><span class=\"s2\">&quot;Mary Lee&quot;</span>\n",
       "<span class=\"w\">        </span><span class=\"p\">},</span>\n",
       "<span class=\"w\">        </span><span class=\"p\">{</span>\n",
       "<span class=\"w\">            </span><span class=\"nt\">&quot;headline&quot;</span><span class=\"p\">:</span><span class=\"w\"> </span><span class=\"s2\">&quot;City Welcomes Returning Soldiers with Parade&quot;</span><span class=\"p\">,</span>\n",
       "<span class=\"w\">            </span><span class=\"nt\">&quot;date&quot;</span><span class=\"p\">:</span><span class=\"w\"> </span><span class=\"s2\">&quot;1918-11-12&quot;</span><span class=\"p\">,</span>\n",
       "<span class=\"w\">            </span><span class=\"nt\">&quot;author&quot;</span><span class=\"p\">:</span><span class=\"w\"> </span><span class=\"s2\">&quot;James Brown&quot;</span>\n",
       "<span class=\"w\">        </span><span class=\"p\">},</span>\n",
       "<span class=\"w\">        </span><span class=\"p\">{</span>\n",
       "<span class=\"w\">            </span><span class=\"nt\">&quot;headline&quot;</span><span class=\"p\">:</span><span class=\"w\"> </span><span class=\"s2\">&quot;Prohibition Debate Heats Up: Public Opinion Divided&quot;</span><span class=\"p\">,</span>\n",
       "<span class=\"w\">            </span><span class=\"nt\">&quot;date&quot;</span><span class=\"p\">:</span><span class=\"w\"> </span><span class=\"s2\">&quot;1918-07-20&quot;</span><span class=\"p\">,</span>\n",
       "<span class=\"w\">            </span><span class=\"nt\">&quot;author&quot;</span><span class=\"p\">:</span><span class=\"w\"> </span><span class=\"s2\">&quot;Patricia Green&quot;</span>\n",
       "<span class=\"w\">        </span><span class=\"p\">},</span>\n",
       "<span class=\"w\">        </span><span class=\"p\">{</span>\n",
       "<span class=\"w\">            </span><span class=\"nt\">&quot;headline&quot;</span><span class=\"p\">:</span><span class=\"w\"> </span><span class=\"s2\">&quot;New York Yankees Win First Pennant in Franchise History&quot;</span><span class=\"p\">,</span>\n",
       "<span class=\"w\">            </span><span class=\"nt\">&quot;date&quot;</span><span class=\"p\">:</span><span class=\"w\"> </span><span class=\"s2\">&quot;1918-09-30&quot;</span><span class=\"p\">,</span>\n",
       "<span class=\"w\">            </span><span class=\"nt\">&quot;author&quot;</span><span class=\"p\">:</span><span class=\"w\"> </span><span class=\"s2\">&quot;William Davis&quot;</span>\n",
       "<span class=\"w\">        </span><span class=\"p\">},</span>\n",
       "<span class=\"w\">        </span><span class=\"p\">{</span>\n",
       "<span class=\"w\">            </span><span class=\"nt\">&quot;headline&quot;</span><span class=\"p\">:</span><span class=\"w\"> </span><span class=\"s2\">&quot;Subway Expansion Project Approved by City Council&quot;</span><span class=\"p\">,</span>\n",
       "<span class=\"w\">            </span><span class=\"nt\">&quot;date&quot;</span><span class=\"p\">:</span><span class=\"w\"> </span><span class=\"s2\">&quot;1918-08-18&quot;</span><span class=\"p\">,</span>\n",
       "<span class=\"w\">            </span><span class=\"nt\">&quot;author&quot;</span><span class=\"p\">:</span><span class=\"w\"> </span><span class=\"s2\">&quot;Barbara Wilson&quot;</span>\n",
       "<span class=\"w\">        </span><span class=\"p\">},</span>\n",
       "<span class=\"w\">        </span><span class=\"p\">{</span>\n",
       "<span class=\"w\">            </span><span class=\"nt\">&quot;headline&quot;</span><span class=\"p\">:</span><span class=\"w\"> </span><span class=\"s2\">&quot;Harlem Renaissance: New Wave of Cultural Expression&quot;</span><span class=\"p\">,</span>\n",
       "<span class=\"w\">            </span><span class=\"nt\">&quot;date&quot;</span><span class=\"p\">:</span><span class=\"w\"> </span><span class=\"s2\">&quot;1918-04-25&quot;</span><span class=\"p\">,</span>\n",
       "<span class=\"w\">            </span><span class=\"nt\">&quot;author&quot;</span><span class=\"p\">:</span><span class=\"w\"> </span><span class=\"s2\">&quot;Charles Miller&quot;</span>\n",
       "<span class=\"w\">        </span><span class=\"p\">},</span>\n",
       "<span class=\"w\">        </span><span class=\"p\">{</span>\n",
       "<span class=\"w\">            </span><span class=\"nt\">&quot;headline&quot;</span><span class=\"p\">:</span><span class=\"w\"> </span><span class=\"s2\">&quot;Mayor Announces New Housing Initiative for Veterans&quot;</span><span class=\"p\">,</span>\n",
       "<span class=\"w\">            </span><span class=\"nt\">&quot;date&quot;</span><span class=\"p\">:</span><span class=\"w\"> </span><span class=\"s2\">&quot;1918-11-20&quot;</span><span class=\"p\">,</span>\n",
       "<span class=\"w\">            </span><span class=\"nt\">&quot;author&quot;</span><span class=\"p\">:</span><span class=\"w\"> </span><span class=\"s2\">&quot;Elizabeth Taylor&quot;</span>\n",
       "<span class=\"w\">        </span><span class=\"p\">}</span>\n",
       "<span class=\"w\">    </span><span class=\"p\">]</span>\n",
       "<span class=\"p\">}</span>\n",
       "</pre></div>\n"
      ],
      "text/plain": [
       "ScenarioList([Scenario({'headline': 'Armistice Signed, War Over: Celebrations Erupt Across City', 'date': '1918-11-11', 'author': 'John Doe'}), Scenario({'headline': 'Spanish Flu Pandemic: Hospitals Overwhelmed as Cases Surge', 'date': '1918-10-15', 'author': 'Jane Smith'}), Scenario({'headline': 'Women Gain Right to Vote: Historic Amendment Passed', 'date': '1918-06-05', 'author': 'Robert Johnson'}), Scenario({'headline': 'Broadway Theaters Reopen After Flu Shutdown', 'date': '1918-12-01', 'author': 'Mary Lee'}), Scenario({'headline': 'City Welcomes Returning Soldiers with Parade', 'date': '1918-11-12', 'author': 'James Brown'}), Scenario({'headline': 'Prohibition Debate Heats Up: Public Opinion Divided', 'date': '1918-07-20', 'author': 'Patricia Green'}), Scenario({'headline': 'New York Yankees Win First Pennant in Franchise History', 'date': '1918-09-30', 'author': 'William Davis'}), Scenario({'headline': 'Subway Expansion Project Approved by City Council', 'date': '1918-08-18', 'author': 'Barbara Wilson'}), Scenario({'headline': 'Harlem Renaissance: New Wave of Cultural Expression', 'date': '1918-04-25', 'author': 'Charles Miller'}), Scenario({'headline': 'Mayor Announces New Housing Initiative for Veterans', 'date': '1918-11-20', 'author': 'Elizabeth Taylor'})])"
      ]
     },
     "execution_count": 8,
     "metadata": {},
     "output_type": "execute_result"
    }
   ],
   "source": [
    "scenarios"
   ]
  },
  {
   "cell_type": "markdown",
   "id": "7d67366f-4c08-4c30-97a8-4e08946267c3",
   "metadata": {},
   "source": [
    "## Running a survey\n",
    "To run the survey, we add the scenarios with the `by()` method and then call the `run()` method:"
   ]
  },
  {
   "cell_type": "code",
   "execution_count": 9,
   "id": "a9f1c721-efbc-4528-979f-d9d66eb73511",
   "metadata": {},
   "outputs": [],
   "source": [
    "results = survey.by(scenarios).run()"
   ]
  },
  {
   "cell_type": "markdown",
   "id": "ebfb309b-92a3-4094-9d8b-6ceac2962180",
   "metadata": {},
   "source": [
    "This generates a dataset of `Results` that we can access with [built-in methods for analysis](https://docs.expectedparrot.com/en/latest/results.html). \n",
    "To see a list of all the components of results:"
   ]
  },
  {
   "cell_type": "code",
   "execution_count": 10,
   "id": "f204979e-2985-4eb1-af76-1ca81c8653d1",
   "metadata": {},
   "outputs": [],
   "source": [
    "# results.columns"
   ]
  },
  {
   "cell_type": "markdown",
   "id": "e0437657-f4ad-4cca-8ce3-b996f5a71d05",
   "metadata": {},
   "source": [
    "For example, we can filter, sort, select and print components of results in a table:"
   ]
  },
  {
   "cell_type": "code",
   "execution_count": 11,
   "id": "e9988f68-50d7-4124-bd15-2986fb287e1c",
   "metadata": {},
   "outputs": [
    {
     "data": {
      "text/html": [
       "<pre style=\"white-space:pre;overflow-x:auto;line-height:normal;font-family:Menlo,'DejaVu Sans Mono',consolas,'Courier New',monospace\">┏━━━━━━━━━━━━━━━━━━━━━━━━━━━━━━━━━━━━┳━━━━━━━━━━━━┳━━━━━━━━━━━━━━━━┳━━━━━━━━━━┳━━━━━━━━━━━━━━━━━━━━━━━━━━━━━━━━━━━┓\n",
       "┃<span style=\"color: #800080; text-decoration-color: #800080; font-weight: bold\"> scenario                           </span>┃<span style=\"color: #800080; text-decoration-color: #800080; font-weight: bold\"> scenario   </span>┃<span style=\"color: #800080; text-decoration-color: #800080; font-weight: bold\"> scenario       </span>┃<span style=\"color: #800080; text-decoration-color: #800080; font-weight: bold\"> answer   </span>┃<span style=\"color: #800080; text-decoration-color: #800080; font-weight: bold\"> answer                            </span>┃\n",
       "┃<span style=\"color: #800080; text-decoration-color: #800080; font-weight: bold\"> .headline                          </span>┃<span style=\"color: #800080; text-decoration-color: #800080; font-weight: bold\"> .date      </span>┃<span style=\"color: #800080; text-decoration-color: #800080; font-weight: bold\"> .author        </span>┃<span style=\"color: #800080; text-decoration-color: #800080; font-weight: bold\"> .section </span>┃<span style=\"color: #800080; text-decoration-color: #800080; font-weight: bold\"> .reference                        </span>┃\n",
       "┡━━━━━━━━━━━━━━━━━━━━━━━━━━━━━━━━━━━━╇━━━━━━━━━━━━╇━━━━━━━━━━━━━━━━╇━━━━━━━━━━╇━━━━━━━━━━━━━━━━━━━━━━━━━━━━━━━━━━━┩\n",
       "│<span style=\"color: #7f7f7f; text-decoration-color: #7f7f7f\"> Spanish Flu Pandemic: Hospitals    </span>│<span style=\"color: #7f7f7f; text-decoration-color: #7f7f7f\"> 1918-10-15 </span>│<span style=\"color: #7f7f7f; text-decoration-color: #7f7f7f\"> Jane Smith     </span>│<span style=\"color: #7f7f7f; text-decoration-color: #7f7f7f\"> Health   </span>│<span style=\"color: #7f7f7f; text-decoration-color: #7f7f7f\"> The headline \"Spanish Flu         </span>│\n",
       "│<span style=\"color: #7f7f7f; text-decoration-color: #7f7f7f\"> Overwhelmed as Cases Surge         </span>│<span style=\"color: #7f7f7f; text-decoration-color: #7f7f7f\">            </span>│<span style=\"color: #7f7f7f; text-decoration-color: #7f7f7f\">                </span>│<span style=\"color: #7f7f7f; text-decoration-color: #7f7f7f\">          </span>│<span style=\"color: #7f7f7f; text-decoration-color: #7f7f7f\"> Pandemic: Hospitals Overwhelmed   </span>│\n",
       "│<span style=\"color: #7f7f7f; text-decoration-color: #7f7f7f\">                                    </span>│<span style=\"color: #7f7f7f; text-decoration-color: #7f7f7f\">            </span>│<span style=\"color: #7f7f7f; text-decoration-color: #7f7f7f\">                </span>│<span style=\"color: #7f7f7f; text-decoration-color: #7f7f7f\">          </span>│<span style=\"color: #7f7f7f; text-decoration-color: #7f7f7f\"> as Cases Surge\" likely refers to  </span>│\n",
       "│<span style=\"color: #7f7f7f; text-decoration-color: #7f7f7f\">                                    </span>│<span style=\"color: #7f7f7f; text-decoration-color: #7f7f7f\">            </span>│<span style=\"color: #7f7f7f; text-decoration-color: #7f7f7f\">                </span>│<span style=\"color: #7f7f7f; text-decoration-color: #7f7f7f\">          </span>│<span style=\"color: #7f7f7f; text-decoration-color: #7f7f7f\"> the historical event of the       </span>│\n",
       "│<span style=\"color: #7f7f7f; text-decoration-color: #7f7f7f\">                                    </span>│<span style=\"color: #7f7f7f; text-decoration-color: #7f7f7f\">            </span>│<span style=\"color: #7f7f7f; text-decoration-color: #7f7f7f\">                </span>│<span style=\"color: #7f7f7f; text-decoration-color: #7f7f7f\">          </span>│<span style=\"color: #7f7f7f; text-decoration-color: #7f7f7f\"> Spanish flu pandemic that         </span>│\n",
       "│<span style=\"color: #7f7f7f; text-decoration-color: #7f7f7f\">                                    </span>│<span style=\"color: #7f7f7f; text-decoration-color: #7f7f7f\">            </span>│<span style=\"color: #7f7f7f; text-decoration-color: #7f7f7f\">                </span>│<span style=\"color: #7f7f7f; text-decoration-color: #7f7f7f\">          </span>│<span style=\"color: #7f7f7f; text-decoration-color: #7f7f7f\"> occurred in 1918-1919. The        </span>│\n",
       "│<span style=\"color: #7f7f7f; text-decoration-color: #7f7f7f\">                                    </span>│<span style=\"color: #7f7f7f; text-decoration-color: #7f7f7f\">            </span>│<span style=\"color: #7f7f7f; text-decoration-color: #7f7f7f\">                </span>│<span style=\"color: #7f7f7f; text-decoration-color: #7f7f7f\">          </span>│<span style=\"color: #7f7f7f; text-decoration-color: #7f7f7f\"> Spanish flu was an unusually      </span>│\n",
       "│<span style=\"color: #7f7f7f; text-decoration-color: #7f7f7f\">                                    </span>│<span style=\"color: #7f7f7f; text-decoration-color: #7f7f7f\">            </span>│<span style=\"color: #7f7f7f; text-decoration-color: #7f7f7f\">                </span>│<span style=\"color: #7f7f7f; text-decoration-color: #7f7f7f\">          </span>│<span style=\"color: #7f7f7f; text-decoration-color: #7f7f7f\"> deadly influenza pandemic caused  </span>│\n",
       "│<span style=\"color: #7f7f7f; text-decoration-color: #7f7f7f\">                                    </span>│<span style=\"color: #7f7f7f; text-decoration-color: #7f7f7f\">            </span>│<span style=\"color: #7f7f7f; text-decoration-color: #7f7f7f\">                </span>│<span style=\"color: #7f7f7f; text-decoration-color: #7f7f7f\">          </span>│<span style=\"color: #7f7f7f; text-decoration-color: #7f7f7f\"> by the H1N1 influenza A virus. It </span>│\n",
       "│<span style=\"color: #7f7f7f; text-decoration-color: #7f7f7f\">                                    </span>│<span style=\"color: #7f7f7f; text-decoration-color: #7f7f7f\">            </span>│<span style=\"color: #7f7f7f; text-decoration-color: #7f7f7f\">                </span>│<span style=\"color: #7f7f7f; text-decoration-color: #7f7f7f\">          </span>│<span style=\"color: #7f7f7f; text-decoration-color: #7f7f7f\"> infected about one-third of the   </span>│\n",
       "│<span style=\"color: #7f7f7f; text-decoration-color: #7f7f7f\">                                    </span>│<span style=\"color: #7f7f7f; text-decoration-color: #7f7f7f\">            </span>│<span style=\"color: #7f7f7f; text-decoration-color: #7f7f7f\">                </span>│<span style=\"color: #7f7f7f; text-decoration-color: #7f7f7f\">          </span>│<span style=\"color: #7f7f7f; text-decoration-color: #7f7f7f\"> world's population and resulted   </span>│\n",
       "│<span style=\"color: #7f7f7f; text-decoration-color: #7f7f7f\">                                    </span>│<span style=\"color: #7f7f7f; text-decoration-color: #7f7f7f\">            </span>│<span style=\"color: #7f7f7f; text-decoration-color: #7f7f7f\">                </span>│<span style=\"color: #7f7f7f; text-decoration-color: #7f7f7f\">          </span>│<span style=\"color: #7f7f7f; text-decoration-color: #7f7f7f\"> in at least 50 million deaths     </span>│\n",
       "│<span style=\"color: #7f7f7f; text-decoration-color: #7f7f7f\">                                    </span>│<span style=\"color: #7f7f7f; text-decoration-color: #7f7f7f\">            </span>│<span style=\"color: #7f7f7f; text-decoration-color: #7f7f7f\">                </span>│<span style=\"color: #7f7f7f; text-decoration-color: #7f7f7f\">          </span>│<span style=\"color: #7f7f7f; text-decoration-color: #7f7f7f\"> worldwide. The headline suggests  </span>│\n",
       "│<span style=\"color: #7f7f7f; text-decoration-color: #7f7f7f\">                                    </span>│<span style=\"color: #7f7f7f; text-decoration-color: #7f7f7f\">            </span>│<span style=\"color: #7f7f7f; text-decoration-color: #7f7f7f\">                </span>│<span style=\"color: #7f7f7f; text-decoration-color: #7f7f7f\">          </span>│<span style=\"color: #7f7f7f; text-decoration-color: #7f7f7f\"> that during this period, the      </span>│\n",
       "│<span style=\"color: #7f7f7f; text-decoration-color: #7f7f7f\">                                    </span>│<span style=\"color: #7f7f7f; text-decoration-color: #7f7f7f\">            </span>│<span style=\"color: #7f7f7f; text-decoration-color: #7f7f7f\">                </span>│<span style=\"color: #7f7f7f; text-decoration-color: #7f7f7f\">          </span>│<span style=\"color: #7f7f7f; text-decoration-color: #7f7f7f\"> number of cases surged            </span>│\n",
       "│<span style=\"color: #7f7f7f; text-decoration-color: #7f7f7f\">                                    </span>│<span style=\"color: #7f7f7f; text-decoration-color: #7f7f7f\">            </span>│<span style=\"color: #7f7f7f; text-decoration-color: #7f7f7f\">                </span>│<span style=\"color: #7f7f7f; text-decoration-color: #7f7f7f\">          </span>│<span style=\"color: #7f7f7f; text-decoration-color: #7f7f7f\"> dramatically, overwhelming        </span>│\n",
       "│<span style=\"color: #7f7f7f; text-decoration-color: #7f7f7f\">                                    </span>│<span style=\"color: #7f7f7f; text-decoration-color: #7f7f7f\">            </span>│<span style=\"color: #7f7f7f; text-decoration-color: #7f7f7f\">                </span>│<span style=\"color: #7f7f7f; text-decoration-color: #7f7f7f\">          </span>│<span style=\"color: #7f7f7f; text-decoration-color: #7f7f7f\"> hospitals and healthcare systems, </span>│\n",
       "│<span style=\"color: #7f7f7f; text-decoration-color: #7f7f7f\">                                    </span>│<span style=\"color: #7f7f7f; text-decoration-color: #7f7f7f\">            </span>│<span style=\"color: #7f7f7f; text-decoration-color: #7f7f7f\">                </span>│<span style=\"color: #7f7f7f; text-decoration-color: #7f7f7f\">          </span>│<span style=\"color: #7f7f7f; text-decoration-color: #7f7f7f\"> which struggled to cope with the  </span>│\n",
       "│<span style=\"color: #7f7f7f; text-decoration-color: #7f7f7f\">                                    </span>│<span style=\"color: #7f7f7f; text-decoration-color: #7f7f7f\">            </span>│<span style=\"color: #7f7f7f; text-decoration-color: #7f7f7f\">                </span>│<span style=\"color: #7f7f7f; text-decoration-color: #7f7f7f\">          </span>│<span style=\"color: #7f7f7f; text-decoration-color: #7f7f7f\"> influx of patients.               </span>│\n",
       "├────────────────────────────────────┼────────────┼────────────────┼──────────┼───────────────────────────────────┤\n",
       "│<span style=\"color: #7f7f7f; text-decoration-color: #7f7f7f\"> Women Gain Right to Vote: Historic </span>│<span style=\"color: #7f7f7f; text-decoration-color: #7f7f7f\"> 1918-06-05 </span>│<span style=\"color: #7f7f7f; text-decoration-color: #7f7f7f\"> Robert Johnson </span>│<span style=\"color: #7f7f7f; text-decoration-color: #7f7f7f\"> Politics </span>│<span style=\"color: #7f7f7f; text-decoration-color: #7f7f7f\"> This headline refers to the       </span>│\n",
       "│<span style=\"color: #7f7f7f; text-decoration-color: #7f7f7f\"> Amendment Passed                   </span>│<span style=\"color: #7f7f7f; text-decoration-color: #7f7f7f\">            </span>│<span style=\"color: #7f7f7f; text-decoration-color: #7f7f7f\">                </span>│<span style=\"color: #7f7f7f; text-decoration-color: #7f7f7f\">          </span>│<span style=\"color: #7f7f7f; text-decoration-color: #7f7f7f\"> passage of the 19th Amendment to  </span>│\n",
       "│<span style=\"color: #7f7f7f; text-decoration-color: #7f7f7f\">                                    </span>│<span style=\"color: #7f7f7f; text-decoration-color: #7f7f7f\">            </span>│<span style=\"color: #7f7f7f; text-decoration-color: #7f7f7f\">                </span>│<span style=\"color: #7f7f7f; text-decoration-color: #7f7f7f\">          </span>│<span style=\"color: #7f7f7f; text-decoration-color: #7f7f7f\"> the United States Constitution,   </span>│\n",
       "│<span style=\"color: #7f7f7f; text-decoration-color: #7f7f7f\">                                    </span>│<span style=\"color: #7f7f7f; text-decoration-color: #7f7f7f\">            </span>│<span style=\"color: #7f7f7f; text-decoration-color: #7f7f7f\">                </span>│<span style=\"color: #7f7f7f; text-decoration-color: #7f7f7f\">          </span>│<span style=\"color: #7f7f7f; text-decoration-color: #7f7f7f\"> which granted women the right to  </span>│\n",
       "│<span style=\"color: #7f7f7f; text-decoration-color: #7f7f7f\">                                    </span>│<span style=\"color: #7f7f7f; text-decoration-color: #7f7f7f\">            </span>│<span style=\"color: #7f7f7f; text-decoration-color: #7f7f7f\">                </span>│<span style=\"color: #7f7f7f; text-decoration-color: #7f7f7f\">          </span>│<span style=\"color: #7f7f7f; text-decoration-color: #7f7f7f\"> vote. The amendment was ratified  </span>│\n",
       "│<span style=\"color: #7f7f7f; text-decoration-color: #7f7f7f\">                                    </span>│<span style=\"color: #7f7f7f; text-decoration-color: #7f7f7f\">            </span>│<span style=\"color: #7f7f7f; text-decoration-color: #7f7f7f\">                </span>│<span style=\"color: #7f7f7f; text-decoration-color: #7f7f7f\">          </span>│<span style=\"color: #7f7f7f; text-decoration-color: #7f7f7f\"> on August 18, 1920, marking a     </span>│\n",
       "│<span style=\"color: #7f7f7f; text-decoration-color: #7f7f7f\">                                    </span>│<span style=\"color: #7f7f7f; text-decoration-color: #7f7f7f\">            </span>│<span style=\"color: #7f7f7f; text-decoration-color: #7f7f7f\">                </span>│<span style=\"color: #7f7f7f; text-decoration-color: #7f7f7f\">          </span>│<span style=\"color: #7f7f7f; text-decoration-color: #7f7f7f\"> significant milestone in the      </span>│\n",
       "│<span style=\"color: #7f7f7f; text-decoration-color: #7f7f7f\">                                    </span>│<span style=\"color: #7f7f7f; text-decoration-color: #7f7f7f\">            </span>│<span style=\"color: #7f7f7f; text-decoration-color: #7f7f7f\">                </span>│<span style=\"color: #7f7f7f; text-decoration-color: #7f7f7f\">          </span>│<span style=\"color: #7f7f7f; text-decoration-color: #7f7f7f\"> women's suffrage movement in the  </span>│\n",
       "│<span style=\"color: #7f7f7f; text-decoration-color: #7f7f7f\">                                    </span>│<span style=\"color: #7f7f7f; text-decoration-color: #7f7f7f\">            </span>│<span style=\"color: #7f7f7f; text-decoration-color: #7f7f7f\">                </span>│<span style=\"color: #7f7f7f; text-decoration-color: #7f7f7f\">          </span>│<span style=\"color: #7f7f7f; text-decoration-color: #7f7f7f\"> United States. This historic      </span>│\n",
       "│<span style=\"color: #7f7f7f; text-decoration-color: #7f7f7f\">                                    </span>│<span style=\"color: #7f7f7f; text-decoration-color: #7f7f7f\">            </span>│<span style=\"color: #7f7f7f; text-decoration-color: #7f7f7f\">                </span>│<span style=\"color: #7f7f7f; text-decoration-color: #7f7f7f\">          </span>│<span style=\"color: #7f7f7f; text-decoration-color: #7f7f7f\"> event followed decades of         </span>│\n",
       "│<span style=\"color: #7f7f7f; text-decoration-color: #7f7f7f\">                                    </span>│<span style=\"color: #7f7f7f; text-decoration-color: #7f7f7f\">            </span>│<span style=\"color: #7f7f7f; text-decoration-color: #7f7f7f\">                </span>│<span style=\"color: #7f7f7f; text-decoration-color: #7f7f7f\">          </span>│<span style=\"color: #7f7f7f; text-decoration-color: #7f7f7f\"> activism and advocacy by          </span>│\n",
       "│<span style=\"color: #7f7f7f; text-decoration-color: #7f7f7f\">                                    </span>│<span style=\"color: #7f7f7f; text-decoration-color: #7f7f7f\">            </span>│<span style=\"color: #7f7f7f; text-decoration-color: #7f7f7f\">                </span>│<span style=\"color: #7f7f7f; text-decoration-color: #7f7f7f\">          </span>│<span style=\"color: #7f7f7f; text-decoration-color: #7f7f7f\"> suffragists who fought for gender </span>│\n",
       "│<span style=\"color: #7f7f7f; text-decoration-color: #7f7f7f\">                                    </span>│<span style=\"color: #7f7f7f; text-decoration-color: #7f7f7f\">            </span>│<span style=\"color: #7f7f7f; text-decoration-color: #7f7f7f\">                </span>│<span style=\"color: #7f7f7f; text-decoration-color: #7f7f7f\">          </span>│<span style=\"color: #7f7f7f; text-decoration-color: #7f7f7f\"> equality in voting rights.        </span>│\n",
       "├────────────────────────────────────┼────────────┼────────────────┼──────────┼───────────────────────────────────┤\n",
       "│<span style=\"color: #7f7f7f; text-decoration-color: #7f7f7f\"> Prohibition Debate Heats Up:       </span>│<span style=\"color: #7f7f7f; text-decoration-color: #7f7f7f\"> 1918-07-20 </span>│<span style=\"color: #7f7f7f; text-decoration-color: #7f7f7f\"> Patricia Green </span>│<span style=\"color: #7f7f7f; text-decoration-color: #7f7f7f\"> Politics </span>│<span style=\"color: #7f7f7f; text-decoration-color: #7f7f7f\"> The headline \"Prohibition Debate  </span>│\n",
       "│<span style=\"color: #7f7f7f; text-decoration-color: #7f7f7f\"> Public Opinion Divided             </span>│<span style=\"color: #7f7f7f; text-decoration-color: #7f7f7f\">            </span>│<span style=\"color: #7f7f7f; text-decoration-color: #7f7f7f\">                </span>│<span style=\"color: #7f7f7f; text-decoration-color: #7f7f7f\">          </span>│<span style=\"color: #7f7f7f; text-decoration-color: #7f7f7f\"> Heats Up: Public Opinion Divided\" </span>│\n",
       "│<span style=\"color: #7f7f7f; text-decoration-color: #7f7f7f\">                                    </span>│<span style=\"color: #7f7f7f; text-decoration-color: #7f7f7f\">            </span>│<span style=\"color: #7f7f7f; text-decoration-color: #7f7f7f\">                </span>│<span style=\"color: #7f7f7f; text-decoration-color: #7f7f7f\">          </span>│<span style=\"color: #7f7f7f; text-decoration-color: #7f7f7f\"> likely refers to a contentious    </span>│\n",
       "│<span style=\"color: #7f7f7f; text-decoration-color: #7f7f7f\">                                    </span>│<span style=\"color: #7f7f7f; text-decoration-color: #7f7f7f\">            </span>│<span style=\"color: #7f7f7f; text-decoration-color: #7f7f7f\">                </span>│<span style=\"color: #7f7f7f; text-decoration-color: #7f7f7f\">          </span>│<span style=\"color: #7f7f7f; text-decoration-color: #7f7f7f\"> discussion regarding the          </span>│\n",
       "│<span style=\"color: #7f7f7f; text-decoration-color: #7f7f7f\">                                    </span>│<span style=\"color: #7f7f7f; text-decoration-color: #7f7f7f\">            </span>│<span style=\"color: #7f7f7f; text-decoration-color: #7f7f7f\">                </span>│<span style=\"color: #7f7f7f; text-decoration-color: #7f7f7f\">          </span>│<span style=\"color: #7f7f7f; text-decoration-color: #7f7f7f\"> enforcement or potential repeal   </span>│\n",
       "│<span style=\"color: #7f7f7f; text-decoration-color: #7f7f7f\">                                    </span>│<span style=\"color: #7f7f7f; text-decoration-color: #7f7f7f\">            </span>│<span style=\"color: #7f7f7f; text-decoration-color: #7f7f7f\">                </span>│<span style=\"color: #7f7f7f; text-decoration-color: #7f7f7f\">          </span>│<span style=\"color: #7f7f7f; text-decoration-color: #7f7f7f\"> of laws prohibiting the           </span>│\n",
       "│<span style=\"color: #7f7f7f; text-decoration-color: #7f7f7f\">                                    </span>│<span style=\"color: #7f7f7f; text-decoration-color: #7f7f7f\">            </span>│<span style=\"color: #7f7f7f; text-decoration-color: #7f7f7f\">                </span>│<span style=\"color: #7f7f7f; text-decoration-color: #7f7f7f\">          </span>│<span style=\"color: #7f7f7f; text-decoration-color: #7f7f7f\"> manufacture, sale, and            </span>│\n",
       "│<span style=\"color: #7f7f7f; text-decoration-color: #7f7f7f\">                                    </span>│<span style=\"color: #7f7f7f; text-decoration-color: #7f7f7f\">            </span>│<span style=\"color: #7f7f7f; text-decoration-color: #7f7f7f\">                </span>│<span style=\"color: #7f7f7f; text-decoration-color: #7f7f7f\">          </span>│<span style=\"color: #7f7f7f; text-decoration-color: #7f7f7f\"> transportation of alcoholic       </span>│\n",
       "│<span style=\"color: #7f7f7f; text-decoration-color: #7f7f7f\">                                    </span>│<span style=\"color: #7f7f7f; text-decoration-color: #7f7f7f\">            </span>│<span style=\"color: #7f7f7f; text-decoration-color: #7f7f7f\">                </span>│<span style=\"color: #7f7f7f; text-decoration-color: #7f7f7f\">          </span>│<span style=\"color: #7f7f7f; text-decoration-color: #7f7f7f\"> beverages. Historically, this     </span>│\n",
       "│<span style=\"color: #7f7f7f; text-decoration-color: #7f7f7f\">                                    </span>│<span style=\"color: #7f7f7f; text-decoration-color: #7f7f7f\">            </span>│<span style=\"color: #7f7f7f; text-decoration-color: #7f7f7f\">                </span>│<span style=\"color: #7f7f7f; text-decoration-color: #7f7f7f\">          </span>│<span style=\"color: #7f7f7f; text-decoration-color: #7f7f7f\"> would relate to the period in the </span>│\n",
       "│<span style=\"color: #7f7f7f; text-decoration-color: #7f7f7f\">                                    </span>│<span style=\"color: #7f7f7f; text-decoration-color: #7f7f7f\">            </span>│<span style=\"color: #7f7f7f; text-decoration-color: #7f7f7f\">                </span>│<span style=\"color: #7f7f7f; text-decoration-color: #7f7f7f\">          </span>│<span style=\"color: #7f7f7f; text-decoration-color: #7f7f7f\"> early 20th century in the United  </span>│\n",
       "│<span style=\"color: #7f7f7f; text-decoration-color: #7f7f7f\">                                    </span>│<span style=\"color: #7f7f7f; text-decoration-color: #7f7f7f\">            </span>│<span style=\"color: #7f7f7f; text-decoration-color: #7f7f7f\">                </span>│<span style=\"color: #7f7f7f; text-decoration-color: #7f7f7f\">          </span>│<span style=\"color: #7f7f7f; text-decoration-color: #7f7f7f\"> States when Prohibition was       </span>│\n",
       "│<span style=\"color: #7f7f7f; text-decoration-color: #7f7f7f\">                                    </span>│<span style=\"color: #7f7f7f; text-decoration-color: #7f7f7f\">            </span>│<span style=\"color: #7f7f7f; text-decoration-color: #7f7f7f\">                </span>│<span style=\"color: #7f7f7f; text-decoration-color: #7f7f7f\">          </span>│<span style=\"color: #7f7f7f; text-decoration-color: #7f7f7f\"> enacted through the 18th          </span>│\n",
       "│<span style=\"color: #7f7f7f; text-decoration-color: #7f7f7f\">                                    </span>│<span style=\"color: #7f7f7f; text-decoration-color: #7f7f7f\">            </span>│<span style=\"color: #7f7f7f; text-decoration-color: #7f7f7f\">                </span>│<span style=\"color: #7f7f7f; text-decoration-color: #7f7f7f\">          </span>│<span style=\"color: #7f7f7f; text-decoration-color: #7f7f7f\"> Amendment and later repealed by   </span>│\n",
       "│<span style=\"color: #7f7f7f; text-decoration-color: #7f7f7f\">                                    </span>│<span style=\"color: #7f7f7f; text-decoration-color: #7f7f7f\">            </span>│<span style=\"color: #7f7f7f; text-decoration-color: #7f7f7f\">                </span>│<span style=\"color: #7f7f7f; text-decoration-color: #7f7f7f\">          </span>│<span style=\"color: #7f7f7f; text-decoration-color: #7f7f7f\"> the 21st Amendment. In a          </span>│\n",
       "│<span style=\"color: #7f7f7f; text-decoration-color: #7f7f7f\">                                    </span>│<span style=\"color: #7f7f7f; text-decoration-color: #7f7f7f\">            </span>│<span style=\"color: #7f7f7f; text-decoration-color: #7f7f7f\">                </span>│<span style=\"color: #7f7f7f; text-decoration-color: #7f7f7f\">          </span>│<span style=\"color: #7f7f7f; text-decoration-color: #7f7f7f\"> contemporary context, it could    </span>│\n",
       "│<span style=\"color: #7f7f7f; text-decoration-color: #7f7f7f\">                                    </span>│<span style=\"color: #7f7f7f; text-decoration-color: #7f7f7f\">            </span>│<span style=\"color: #7f7f7f; text-decoration-color: #7f7f7f\">                </span>│<span style=\"color: #7f7f7f; text-decoration-color: #7f7f7f\">          </span>│<span style=\"color: #7f7f7f; text-decoration-color: #7f7f7f\"> also be referring to debates over </span>│\n",
       "│<span style=\"color: #7f7f7f; text-decoration-color: #7f7f7f\">                                    </span>│<span style=\"color: #7f7f7f; text-decoration-color: #7f7f7f\">            </span>│<span style=\"color: #7f7f7f; text-decoration-color: #7f7f7f\">                </span>│<span style=\"color: #7f7f7f; text-decoration-color: #7f7f7f\">          </span>│<span style=\"color: #7f7f7f; text-decoration-color: #7f7f7f\"> similar restrictions on other     </span>│\n",
       "│<span style=\"color: #7f7f7f; text-decoration-color: #7f7f7f\">                                    </span>│<span style=\"color: #7f7f7f; text-decoration-color: #7f7f7f\">            </span>│<span style=\"color: #7f7f7f; text-decoration-color: #7f7f7f\">                </span>│<span style=\"color: #7f7f7f; text-decoration-color: #7f7f7f\">          </span>│<span style=\"color: #7f7f7f; text-decoration-color: #7f7f7f\"> substances or activities, where   </span>│\n",
       "│<span style=\"color: #7f7f7f; text-decoration-color: #7f7f7f\">                                    </span>│<span style=\"color: #7f7f7f; text-decoration-color: #7f7f7f\">            </span>│<span style=\"color: #7f7f7f; text-decoration-color: #7f7f7f\">                </span>│<span style=\"color: #7f7f7f; text-decoration-color: #7f7f7f\">          </span>│<span style=\"color: #7f7f7f; text-decoration-color: #7f7f7f\"> public opinion is sharply split   </span>│\n",
       "│<span style=\"color: #7f7f7f; text-decoration-color: #7f7f7f\">                                    </span>│<span style=\"color: #7f7f7f; text-decoration-color: #7f7f7f\">            </span>│<span style=\"color: #7f7f7f; text-decoration-color: #7f7f7f\">                </span>│<span style=\"color: #7f7f7f; text-decoration-color: #7f7f7f\">          </span>│<span style=\"color: #7f7f7f; text-decoration-color: #7f7f7f\"> on whether such prohibitions      </span>│\n",
       "│<span style=\"color: #7f7f7f; text-decoration-color: #7f7f7f\">                                    </span>│<span style=\"color: #7f7f7f; text-decoration-color: #7f7f7f\">            </span>│<span style=\"color: #7f7f7f; text-decoration-color: #7f7f7f\">                </span>│<span style=\"color: #7f7f7f; text-decoration-color: #7f7f7f\">          </span>│<span style=\"color: #7f7f7f; text-decoration-color: #7f7f7f\"> should remain in place or be      </span>│\n",
       "│<span style=\"color: #7f7f7f; text-decoration-color: #7f7f7f\">                                    </span>│<span style=\"color: #7f7f7f; text-decoration-color: #7f7f7f\">            </span>│<span style=\"color: #7f7f7f; text-decoration-color: #7f7f7f\">                </span>│<span style=\"color: #7f7f7f; text-decoration-color: #7f7f7f\">          </span>│<span style=\"color: #7f7f7f; text-decoration-color: #7f7f7f\"> lifted.                           </span>│\n",
       "├────────────────────────────────────┼────────────┼────────────────┼──────────┼───────────────────────────────────┤\n",
       "│<span style=\"color: #7f7f7f; text-decoration-color: #7f7f7f\"> New York Yankees Win First Pennant </span>│<span style=\"color: #7f7f7f; text-decoration-color: #7f7f7f\"> 1918-09-30 </span>│<span style=\"color: #7f7f7f; text-decoration-color: #7f7f7f\"> William Davis  </span>│<span style=\"color: #7f7f7f; text-decoration-color: #7f7f7f\"> Sports   </span>│<span style=\"color: #7f7f7f; text-decoration-color: #7f7f7f\"> The headline \"New York Yankees    </span>│\n",
       "│<span style=\"color: #7f7f7f; text-decoration-color: #7f7f7f\"> in Franchise History               </span>│<span style=\"color: #7f7f7f; text-decoration-color: #7f7f7f\">            </span>│<span style=\"color: #7f7f7f; text-decoration-color: #7f7f7f\">                </span>│<span style=\"color: #7f7f7f; text-decoration-color: #7f7f7f\">          </span>│<span style=\"color: #7f7f7f; text-decoration-color: #7f7f7f\"> Win First Pennant in Franchise    </span>│\n",
       "│<span style=\"color: #7f7f7f; text-decoration-color: #7f7f7f\">                                    </span>│<span style=\"color: #7f7f7f; text-decoration-color: #7f7f7f\">            </span>│<span style=\"color: #7f7f7f; text-decoration-color: #7f7f7f\">                </span>│<span style=\"color: #7f7f7f; text-decoration-color: #7f7f7f\">          </span>│<span style=\"color: #7f7f7f; text-decoration-color: #7f7f7f\"> History\" refers to a significant  </span>│\n",
       "│<span style=\"color: #7f7f7f; text-decoration-color: #7f7f7f\">                                    </span>│<span style=\"color: #7f7f7f; text-decoration-color: #7f7f7f\">            </span>│<span style=\"color: #7f7f7f; text-decoration-color: #7f7f7f\">                </span>│<span style=\"color: #7f7f7f; text-decoration-color: #7f7f7f\">          </span>│<span style=\"color: #7f7f7f; text-decoration-color: #7f7f7f\"> milestone in the history of the   </span>│\n",
       "│<span style=\"color: #7f7f7f; text-decoration-color: #7f7f7f\">                                    </span>│<span style=\"color: #7f7f7f; text-decoration-color: #7f7f7f\">            </span>│<span style=\"color: #7f7f7f; text-decoration-color: #7f7f7f\">                </span>│<span style=\"color: #7f7f7f; text-decoration-color: #7f7f7f\">          </span>│<span style=\"color: #7f7f7f; text-decoration-color: #7f7f7f\"> New York Yankees baseball team. A </span>│\n",
       "│<span style=\"color: #7f7f7f; text-decoration-color: #7f7f7f\">                                    </span>│<span style=\"color: #7f7f7f; text-decoration-color: #7f7f7f\">            </span>│<span style=\"color: #7f7f7f; text-decoration-color: #7f7f7f\">                </span>│<span style=\"color: #7f7f7f; text-decoration-color: #7f7f7f\">          </span>│<span style=\"color: #7f7f7f; text-decoration-color: #7f7f7f\"> \"pennant\" in Major League         </span>│\n",
       "│<span style=\"color: #7f7f7f; text-decoration-color: #7f7f7f\">                                    </span>│<span style=\"color: #7f7f7f; text-decoration-color: #7f7f7f\">            </span>│<span style=\"color: #7f7f7f; text-decoration-color: #7f7f7f\">                </span>│<span style=\"color: #7f7f7f; text-decoration-color: #7f7f7f\">          </span>│<span style=\"color: #7f7f7f; text-decoration-color: #7f7f7f\"> Baseball (MLB) is awarded to the  </span>│\n",
       "│<span style=\"color: #7f7f7f; text-decoration-color: #7f7f7f\">                                    </span>│<span style=\"color: #7f7f7f; text-decoration-color: #7f7f7f\">            </span>│<span style=\"color: #7f7f7f; text-decoration-color: #7f7f7f\">                </span>│<span style=\"color: #7f7f7f; text-decoration-color: #7f7f7f\">          </span>│<span style=\"color: #7f7f7f; text-decoration-color: #7f7f7f\"> team that wins their league's     </span>│\n",
       "│<span style=\"color: #7f7f7f; text-decoration-color: #7f7f7f\">                                    </span>│<span style=\"color: #7f7f7f; text-decoration-color: #7f7f7f\">            </span>│<span style=\"color: #7f7f7f; text-decoration-color: #7f7f7f\">                </span>│<span style=\"color: #7f7f7f; text-decoration-color: #7f7f7f\">          </span>│<span style=\"color: #7f7f7f; text-decoration-color: #7f7f7f\"> championship, either the American </span>│\n",
       "│<span style=\"color: #7f7f7f; text-decoration-color: #7f7f7f\">                                    </span>│<span style=\"color: #7f7f7f; text-decoration-color: #7f7f7f\">            </span>│<span style=\"color: #7f7f7f; text-decoration-color: #7f7f7f\">                </span>│<span style=\"color: #7f7f7f; text-decoration-color: #7f7f7f\">          </span>│<span style=\"color: #7f7f7f; text-decoration-color: #7f7f7f\"> League (AL) or the National       </span>│\n",
       "│<span style=\"color: #7f7f7f; text-decoration-color: #7f7f7f\">                                    </span>│<span style=\"color: #7f7f7f; text-decoration-color: #7f7f7f\">            </span>│<span style=\"color: #7f7f7f; text-decoration-color: #7f7f7f\">                </span>│<span style=\"color: #7f7f7f; text-decoration-color: #7f7f7f\">          </span>│<span style=\"color: #7f7f7f; text-decoration-color: #7f7f7f\"> League (NL), thereby earning a    </span>│\n",
       "│<span style=\"color: #7f7f7f; text-decoration-color: #7f7f7f\">                                    </span>│<span style=\"color: #7f7f7f; text-decoration-color: #7f7f7f\">            </span>│<span style=\"color: #7f7f7f; text-decoration-color: #7f7f7f\">                </span>│<span style=\"color: #7f7f7f; text-decoration-color: #7f7f7f\">          </span>│<span style=\"color: #7f7f7f; text-decoration-color: #7f7f7f\"> spot in the World Series, which   </span>│\n",
       "│<span style=\"color: #7f7f7f; text-decoration-color: #7f7f7f\">                                    </span>│<span style=\"color: #7f7f7f; text-decoration-color: #7f7f7f\">            </span>│<span style=\"color: #7f7f7f; text-decoration-color: #7f7f7f\">                </span>│<span style=\"color: #7f7f7f; text-decoration-color: #7f7f7f\">          </span>│<span style=\"color: #7f7f7f; text-decoration-color: #7f7f7f\"> is the championship series of     </span>│\n",
       "│<span style=\"color: #7f7f7f; text-decoration-color: #7f7f7f\">                                    </span>│<span style=\"color: #7f7f7f; text-decoration-color: #7f7f7f\">            </span>│<span style=\"color: #7f7f7f; text-decoration-color: #7f7f7f\">                </span>│<span style=\"color: #7f7f7f; text-decoration-color: #7f7f7f\">          </span>│<span style=\"color: #7f7f7f; text-decoration-color: #7f7f7f\"> MLB.                              </span>│\n",
       "└────────────────────────────────────┴────────────┴────────────────┴──────────┴───────────────────────────────────┘\n",
       "</pre>\n"
      ],
      "text/plain": [
       "┏━━━━━━━━━━━━━━━━━━━━━━━━━━━━━━━━━━━━┳━━━━━━━━━━━━┳━━━━━━━━━━━━━━━━┳━━━━━━━━━━┳━━━━━━━━━━━━━━━━━━━━━━━━━━━━━━━━━━━┓\n",
       "┃\u001b[1;35m \u001b[0m\u001b[1;35mscenario                          \u001b[0m\u001b[1;35m \u001b[0m┃\u001b[1;35m \u001b[0m\u001b[1;35mscenario  \u001b[0m\u001b[1;35m \u001b[0m┃\u001b[1;35m \u001b[0m\u001b[1;35mscenario      \u001b[0m\u001b[1;35m \u001b[0m┃\u001b[1;35m \u001b[0m\u001b[1;35manswer  \u001b[0m\u001b[1;35m \u001b[0m┃\u001b[1;35m \u001b[0m\u001b[1;35manswer                           \u001b[0m\u001b[1;35m \u001b[0m┃\n",
       "┃\u001b[1;35m \u001b[0m\u001b[1;35m.headline                         \u001b[0m\u001b[1;35m \u001b[0m┃\u001b[1;35m \u001b[0m\u001b[1;35m.date     \u001b[0m\u001b[1;35m \u001b[0m┃\u001b[1;35m \u001b[0m\u001b[1;35m.author       \u001b[0m\u001b[1;35m \u001b[0m┃\u001b[1;35m \u001b[0m\u001b[1;35m.section\u001b[0m\u001b[1;35m \u001b[0m┃\u001b[1;35m \u001b[0m\u001b[1;35m.reference                       \u001b[0m\u001b[1;35m \u001b[0m┃\n",
       "┡━━━━━━━━━━━━━━━━━━━━━━━━━━━━━━━━━━━━╇━━━━━━━━━━━━╇━━━━━━━━━━━━━━━━╇━━━━━━━━━━╇━━━━━━━━━━━━━━━━━━━━━━━━━━━━━━━━━━━┩\n",
       "│\u001b[2m \u001b[0m\u001b[2mSpanish Flu Pandemic: Hospitals   \u001b[0m\u001b[2m \u001b[0m│\u001b[2m \u001b[0m\u001b[2m1918-10-15\u001b[0m\u001b[2m \u001b[0m│\u001b[2m \u001b[0m\u001b[2mJane Smith    \u001b[0m\u001b[2m \u001b[0m│\u001b[2m \u001b[0m\u001b[2mHealth  \u001b[0m\u001b[2m \u001b[0m│\u001b[2m \u001b[0m\u001b[2mThe headline \"Spanish Flu        \u001b[0m\u001b[2m \u001b[0m│\n",
       "│\u001b[2m \u001b[0m\u001b[2mOverwhelmed as Cases Surge        \u001b[0m\u001b[2m \u001b[0m│\u001b[2m            \u001b[0m│\u001b[2m                \u001b[0m│\u001b[2m          \u001b[0m│\u001b[2m \u001b[0m\u001b[2mPandemic: Hospitals Overwhelmed  \u001b[0m\u001b[2m \u001b[0m│\n",
       "│\u001b[2m                                    \u001b[0m│\u001b[2m            \u001b[0m│\u001b[2m                \u001b[0m│\u001b[2m          \u001b[0m│\u001b[2m \u001b[0m\u001b[2mas Cases Surge\" likely refers to \u001b[0m\u001b[2m \u001b[0m│\n",
       "│\u001b[2m                                    \u001b[0m│\u001b[2m            \u001b[0m│\u001b[2m                \u001b[0m│\u001b[2m          \u001b[0m│\u001b[2m \u001b[0m\u001b[2mthe historical event of the      \u001b[0m\u001b[2m \u001b[0m│\n",
       "│\u001b[2m                                    \u001b[0m│\u001b[2m            \u001b[0m│\u001b[2m                \u001b[0m│\u001b[2m          \u001b[0m│\u001b[2m \u001b[0m\u001b[2mSpanish flu pandemic that        \u001b[0m\u001b[2m \u001b[0m│\n",
       "│\u001b[2m                                    \u001b[0m│\u001b[2m            \u001b[0m│\u001b[2m                \u001b[0m│\u001b[2m          \u001b[0m│\u001b[2m \u001b[0m\u001b[2moccurred in 1918-1919. The       \u001b[0m\u001b[2m \u001b[0m│\n",
       "│\u001b[2m                                    \u001b[0m│\u001b[2m            \u001b[0m│\u001b[2m                \u001b[0m│\u001b[2m          \u001b[0m│\u001b[2m \u001b[0m\u001b[2mSpanish flu was an unusually     \u001b[0m\u001b[2m \u001b[0m│\n",
       "│\u001b[2m                                    \u001b[0m│\u001b[2m            \u001b[0m│\u001b[2m                \u001b[0m│\u001b[2m          \u001b[0m│\u001b[2m \u001b[0m\u001b[2mdeadly influenza pandemic caused \u001b[0m\u001b[2m \u001b[0m│\n",
       "│\u001b[2m                                    \u001b[0m│\u001b[2m            \u001b[0m│\u001b[2m                \u001b[0m│\u001b[2m          \u001b[0m│\u001b[2m \u001b[0m\u001b[2mby the H1N1 influenza A virus. It\u001b[0m\u001b[2m \u001b[0m│\n",
       "│\u001b[2m                                    \u001b[0m│\u001b[2m            \u001b[0m│\u001b[2m                \u001b[0m│\u001b[2m          \u001b[0m│\u001b[2m \u001b[0m\u001b[2minfected about one-third of the  \u001b[0m\u001b[2m \u001b[0m│\n",
       "│\u001b[2m                                    \u001b[0m│\u001b[2m            \u001b[0m│\u001b[2m                \u001b[0m│\u001b[2m          \u001b[0m│\u001b[2m \u001b[0m\u001b[2mworld's population and resulted  \u001b[0m\u001b[2m \u001b[0m│\n",
       "│\u001b[2m                                    \u001b[0m│\u001b[2m            \u001b[0m│\u001b[2m                \u001b[0m│\u001b[2m          \u001b[0m│\u001b[2m \u001b[0m\u001b[2min at least 50 million deaths    \u001b[0m\u001b[2m \u001b[0m│\n",
       "│\u001b[2m                                    \u001b[0m│\u001b[2m            \u001b[0m│\u001b[2m                \u001b[0m│\u001b[2m          \u001b[0m│\u001b[2m \u001b[0m\u001b[2mworldwide. The headline suggests \u001b[0m\u001b[2m \u001b[0m│\n",
       "│\u001b[2m                                    \u001b[0m│\u001b[2m            \u001b[0m│\u001b[2m                \u001b[0m│\u001b[2m          \u001b[0m│\u001b[2m \u001b[0m\u001b[2mthat during this period, the     \u001b[0m\u001b[2m \u001b[0m│\n",
       "│\u001b[2m                                    \u001b[0m│\u001b[2m            \u001b[0m│\u001b[2m                \u001b[0m│\u001b[2m          \u001b[0m│\u001b[2m \u001b[0m\u001b[2mnumber of cases surged           \u001b[0m\u001b[2m \u001b[0m│\n",
       "│\u001b[2m                                    \u001b[0m│\u001b[2m            \u001b[0m│\u001b[2m                \u001b[0m│\u001b[2m          \u001b[0m│\u001b[2m \u001b[0m\u001b[2mdramatically, overwhelming       \u001b[0m\u001b[2m \u001b[0m│\n",
       "│\u001b[2m                                    \u001b[0m│\u001b[2m            \u001b[0m│\u001b[2m                \u001b[0m│\u001b[2m          \u001b[0m│\u001b[2m \u001b[0m\u001b[2mhospitals and healthcare systems,\u001b[0m\u001b[2m \u001b[0m│\n",
       "│\u001b[2m                                    \u001b[0m│\u001b[2m            \u001b[0m│\u001b[2m                \u001b[0m│\u001b[2m          \u001b[0m│\u001b[2m \u001b[0m\u001b[2mwhich struggled to cope with the \u001b[0m\u001b[2m \u001b[0m│\n",
       "│\u001b[2m                                    \u001b[0m│\u001b[2m            \u001b[0m│\u001b[2m                \u001b[0m│\u001b[2m          \u001b[0m│\u001b[2m \u001b[0m\u001b[2minflux of patients.              \u001b[0m\u001b[2m \u001b[0m│\n",
       "├────────────────────────────────────┼────────────┼────────────────┼──────────┼───────────────────────────────────┤\n",
       "│\u001b[2m \u001b[0m\u001b[2mWomen Gain Right to Vote: Historic\u001b[0m\u001b[2m \u001b[0m│\u001b[2m \u001b[0m\u001b[2m1918-06-05\u001b[0m\u001b[2m \u001b[0m│\u001b[2m \u001b[0m\u001b[2mRobert Johnson\u001b[0m\u001b[2m \u001b[0m│\u001b[2m \u001b[0m\u001b[2mPolitics\u001b[0m\u001b[2m \u001b[0m│\u001b[2m \u001b[0m\u001b[2mThis headline refers to the      \u001b[0m\u001b[2m \u001b[0m│\n",
       "│\u001b[2m \u001b[0m\u001b[2mAmendment Passed                  \u001b[0m\u001b[2m \u001b[0m│\u001b[2m            \u001b[0m│\u001b[2m                \u001b[0m│\u001b[2m          \u001b[0m│\u001b[2m \u001b[0m\u001b[2mpassage of the 19th Amendment to \u001b[0m\u001b[2m \u001b[0m│\n",
       "│\u001b[2m                                    \u001b[0m│\u001b[2m            \u001b[0m│\u001b[2m                \u001b[0m│\u001b[2m          \u001b[0m│\u001b[2m \u001b[0m\u001b[2mthe United States Constitution,  \u001b[0m\u001b[2m \u001b[0m│\n",
       "│\u001b[2m                                    \u001b[0m│\u001b[2m            \u001b[0m│\u001b[2m                \u001b[0m│\u001b[2m          \u001b[0m│\u001b[2m \u001b[0m\u001b[2mwhich granted women the right to \u001b[0m\u001b[2m \u001b[0m│\n",
       "│\u001b[2m                                    \u001b[0m│\u001b[2m            \u001b[0m│\u001b[2m                \u001b[0m│\u001b[2m          \u001b[0m│\u001b[2m \u001b[0m\u001b[2mvote. The amendment was ratified \u001b[0m\u001b[2m \u001b[0m│\n",
       "│\u001b[2m                                    \u001b[0m│\u001b[2m            \u001b[0m│\u001b[2m                \u001b[0m│\u001b[2m          \u001b[0m│\u001b[2m \u001b[0m\u001b[2mon August 18, 1920, marking a    \u001b[0m\u001b[2m \u001b[0m│\n",
       "│\u001b[2m                                    \u001b[0m│\u001b[2m            \u001b[0m│\u001b[2m                \u001b[0m│\u001b[2m          \u001b[0m│\u001b[2m \u001b[0m\u001b[2msignificant milestone in the     \u001b[0m\u001b[2m \u001b[0m│\n",
       "│\u001b[2m                                    \u001b[0m│\u001b[2m            \u001b[0m│\u001b[2m                \u001b[0m│\u001b[2m          \u001b[0m│\u001b[2m \u001b[0m\u001b[2mwomen's suffrage movement in the \u001b[0m\u001b[2m \u001b[0m│\n",
       "│\u001b[2m                                    \u001b[0m│\u001b[2m            \u001b[0m│\u001b[2m                \u001b[0m│\u001b[2m          \u001b[0m│\u001b[2m \u001b[0m\u001b[2mUnited States. This historic     \u001b[0m\u001b[2m \u001b[0m│\n",
       "│\u001b[2m                                    \u001b[0m│\u001b[2m            \u001b[0m│\u001b[2m                \u001b[0m│\u001b[2m          \u001b[0m│\u001b[2m \u001b[0m\u001b[2mevent followed decades of        \u001b[0m\u001b[2m \u001b[0m│\n",
       "│\u001b[2m                                    \u001b[0m│\u001b[2m            \u001b[0m│\u001b[2m                \u001b[0m│\u001b[2m          \u001b[0m│\u001b[2m \u001b[0m\u001b[2mactivism and advocacy by         \u001b[0m\u001b[2m \u001b[0m│\n",
       "│\u001b[2m                                    \u001b[0m│\u001b[2m            \u001b[0m│\u001b[2m                \u001b[0m│\u001b[2m          \u001b[0m│\u001b[2m \u001b[0m\u001b[2msuffragists who fought for gender\u001b[0m\u001b[2m \u001b[0m│\n",
       "│\u001b[2m                                    \u001b[0m│\u001b[2m            \u001b[0m│\u001b[2m                \u001b[0m│\u001b[2m          \u001b[0m│\u001b[2m \u001b[0m\u001b[2mequality in voting rights.       \u001b[0m\u001b[2m \u001b[0m│\n",
       "├────────────────────────────────────┼────────────┼────────────────┼──────────┼───────────────────────────────────┤\n",
       "│\u001b[2m \u001b[0m\u001b[2mProhibition Debate Heats Up:      \u001b[0m\u001b[2m \u001b[0m│\u001b[2m \u001b[0m\u001b[2m1918-07-20\u001b[0m\u001b[2m \u001b[0m│\u001b[2m \u001b[0m\u001b[2mPatricia Green\u001b[0m\u001b[2m \u001b[0m│\u001b[2m \u001b[0m\u001b[2mPolitics\u001b[0m\u001b[2m \u001b[0m│\u001b[2m \u001b[0m\u001b[2mThe headline \"Prohibition Debate \u001b[0m\u001b[2m \u001b[0m│\n",
       "│\u001b[2m \u001b[0m\u001b[2mPublic Opinion Divided            \u001b[0m\u001b[2m \u001b[0m│\u001b[2m            \u001b[0m│\u001b[2m                \u001b[0m│\u001b[2m          \u001b[0m│\u001b[2m \u001b[0m\u001b[2mHeats Up: Public Opinion Divided\"\u001b[0m\u001b[2m \u001b[0m│\n",
       "│\u001b[2m                                    \u001b[0m│\u001b[2m            \u001b[0m│\u001b[2m                \u001b[0m│\u001b[2m          \u001b[0m│\u001b[2m \u001b[0m\u001b[2mlikely refers to a contentious   \u001b[0m\u001b[2m \u001b[0m│\n",
       "│\u001b[2m                                    \u001b[0m│\u001b[2m            \u001b[0m│\u001b[2m                \u001b[0m│\u001b[2m          \u001b[0m│\u001b[2m \u001b[0m\u001b[2mdiscussion regarding the         \u001b[0m\u001b[2m \u001b[0m│\n",
       "│\u001b[2m                                    \u001b[0m│\u001b[2m            \u001b[0m│\u001b[2m                \u001b[0m│\u001b[2m          \u001b[0m│\u001b[2m \u001b[0m\u001b[2menforcement or potential repeal  \u001b[0m\u001b[2m \u001b[0m│\n",
       "│\u001b[2m                                    \u001b[0m│\u001b[2m            \u001b[0m│\u001b[2m                \u001b[0m│\u001b[2m          \u001b[0m│\u001b[2m \u001b[0m\u001b[2mof laws prohibiting the          \u001b[0m\u001b[2m \u001b[0m│\n",
       "│\u001b[2m                                    \u001b[0m│\u001b[2m            \u001b[0m│\u001b[2m                \u001b[0m│\u001b[2m          \u001b[0m│\u001b[2m \u001b[0m\u001b[2mmanufacture, sale, and           \u001b[0m\u001b[2m \u001b[0m│\n",
       "│\u001b[2m                                    \u001b[0m│\u001b[2m            \u001b[0m│\u001b[2m                \u001b[0m│\u001b[2m          \u001b[0m│\u001b[2m \u001b[0m\u001b[2mtransportation of alcoholic      \u001b[0m\u001b[2m \u001b[0m│\n",
       "│\u001b[2m                                    \u001b[0m│\u001b[2m            \u001b[0m│\u001b[2m                \u001b[0m│\u001b[2m          \u001b[0m│\u001b[2m \u001b[0m\u001b[2mbeverages. Historically, this    \u001b[0m\u001b[2m \u001b[0m│\n",
       "│\u001b[2m                                    \u001b[0m│\u001b[2m            \u001b[0m│\u001b[2m                \u001b[0m│\u001b[2m          \u001b[0m│\u001b[2m \u001b[0m\u001b[2mwould relate to the period in the\u001b[0m\u001b[2m \u001b[0m│\n",
       "│\u001b[2m                                    \u001b[0m│\u001b[2m            \u001b[0m│\u001b[2m                \u001b[0m│\u001b[2m          \u001b[0m│\u001b[2m \u001b[0m\u001b[2mearly 20th century in the United \u001b[0m\u001b[2m \u001b[0m│\n",
       "│\u001b[2m                                    \u001b[0m│\u001b[2m            \u001b[0m│\u001b[2m                \u001b[0m│\u001b[2m          \u001b[0m│\u001b[2m \u001b[0m\u001b[2mStates when Prohibition was      \u001b[0m\u001b[2m \u001b[0m│\n",
       "│\u001b[2m                                    \u001b[0m│\u001b[2m            \u001b[0m│\u001b[2m                \u001b[0m│\u001b[2m          \u001b[0m│\u001b[2m \u001b[0m\u001b[2menacted through the 18th         \u001b[0m\u001b[2m \u001b[0m│\n",
       "│\u001b[2m                                    \u001b[0m│\u001b[2m            \u001b[0m│\u001b[2m                \u001b[0m│\u001b[2m          \u001b[0m│\u001b[2m \u001b[0m\u001b[2mAmendment and later repealed by  \u001b[0m\u001b[2m \u001b[0m│\n",
       "│\u001b[2m                                    \u001b[0m│\u001b[2m            \u001b[0m│\u001b[2m                \u001b[0m│\u001b[2m          \u001b[0m│\u001b[2m \u001b[0m\u001b[2mthe 21st Amendment. In a         \u001b[0m\u001b[2m \u001b[0m│\n",
       "│\u001b[2m                                    \u001b[0m│\u001b[2m            \u001b[0m│\u001b[2m                \u001b[0m│\u001b[2m          \u001b[0m│\u001b[2m \u001b[0m\u001b[2mcontemporary context, it could   \u001b[0m\u001b[2m \u001b[0m│\n",
       "│\u001b[2m                                    \u001b[0m│\u001b[2m            \u001b[0m│\u001b[2m                \u001b[0m│\u001b[2m          \u001b[0m│\u001b[2m \u001b[0m\u001b[2malso be referring to debates over\u001b[0m\u001b[2m \u001b[0m│\n",
       "│\u001b[2m                                    \u001b[0m│\u001b[2m            \u001b[0m│\u001b[2m                \u001b[0m│\u001b[2m          \u001b[0m│\u001b[2m \u001b[0m\u001b[2msimilar restrictions on other    \u001b[0m\u001b[2m \u001b[0m│\n",
       "│\u001b[2m                                    \u001b[0m│\u001b[2m            \u001b[0m│\u001b[2m                \u001b[0m│\u001b[2m          \u001b[0m│\u001b[2m \u001b[0m\u001b[2msubstances or activities, where  \u001b[0m\u001b[2m \u001b[0m│\n",
       "│\u001b[2m                                    \u001b[0m│\u001b[2m            \u001b[0m│\u001b[2m                \u001b[0m│\u001b[2m          \u001b[0m│\u001b[2m \u001b[0m\u001b[2mpublic opinion is sharply split  \u001b[0m\u001b[2m \u001b[0m│\n",
       "│\u001b[2m                                    \u001b[0m│\u001b[2m            \u001b[0m│\u001b[2m                \u001b[0m│\u001b[2m          \u001b[0m│\u001b[2m \u001b[0m\u001b[2mon whether such prohibitions     \u001b[0m\u001b[2m \u001b[0m│\n",
       "│\u001b[2m                                    \u001b[0m│\u001b[2m            \u001b[0m│\u001b[2m                \u001b[0m│\u001b[2m          \u001b[0m│\u001b[2m \u001b[0m\u001b[2mshould remain in place or be     \u001b[0m\u001b[2m \u001b[0m│\n",
       "│\u001b[2m                                    \u001b[0m│\u001b[2m            \u001b[0m│\u001b[2m                \u001b[0m│\u001b[2m          \u001b[0m│\u001b[2m \u001b[0m\u001b[2mlifted.                          \u001b[0m\u001b[2m \u001b[0m│\n",
       "├────────────────────────────────────┼────────────┼────────────────┼──────────┼───────────────────────────────────┤\n",
       "│\u001b[2m \u001b[0m\u001b[2mNew York Yankees Win First Pennant\u001b[0m\u001b[2m \u001b[0m│\u001b[2m \u001b[0m\u001b[2m1918-09-30\u001b[0m\u001b[2m \u001b[0m│\u001b[2m \u001b[0m\u001b[2mWilliam Davis \u001b[0m\u001b[2m \u001b[0m│\u001b[2m \u001b[0m\u001b[2mSports  \u001b[0m\u001b[2m \u001b[0m│\u001b[2m \u001b[0m\u001b[2mThe headline \"New York Yankees   \u001b[0m\u001b[2m \u001b[0m│\n",
       "│\u001b[2m \u001b[0m\u001b[2min Franchise History              \u001b[0m\u001b[2m \u001b[0m│\u001b[2m            \u001b[0m│\u001b[2m                \u001b[0m│\u001b[2m          \u001b[0m│\u001b[2m \u001b[0m\u001b[2mWin First Pennant in Franchise   \u001b[0m\u001b[2m \u001b[0m│\n",
       "│\u001b[2m                                    \u001b[0m│\u001b[2m            \u001b[0m│\u001b[2m                \u001b[0m│\u001b[2m          \u001b[0m│\u001b[2m \u001b[0m\u001b[2mHistory\" refers to a significant \u001b[0m\u001b[2m \u001b[0m│\n",
       "│\u001b[2m                                    \u001b[0m│\u001b[2m            \u001b[0m│\u001b[2m                \u001b[0m│\u001b[2m          \u001b[0m│\u001b[2m \u001b[0m\u001b[2mmilestone in the history of the  \u001b[0m\u001b[2m \u001b[0m│\n",
       "│\u001b[2m                                    \u001b[0m│\u001b[2m            \u001b[0m│\u001b[2m                \u001b[0m│\u001b[2m          \u001b[0m│\u001b[2m \u001b[0m\u001b[2mNew York Yankees baseball team. A\u001b[0m\u001b[2m \u001b[0m│\n",
       "│\u001b[2m                                    \u001b[0m│\u001b[2m            \u001b[0m│\u001b[2m                \u001b[0m│\u001b[2m          \u001b[0m│\u001b[2m \u001b[0m\u001b[2m\"pennant\" in Major League        \u001b[0m\u001b[2m \u001b[0m│\n",
       "│\u001b[2m                                    \u001b[0m│\u001b[2m            \u001b[0m│\u001b[2m                \u001b[0m│\u001b[2m          \u001b[0m│\u001b[2m \u001b[0m\u001b[2mBaseball (MLB) is awarded to the \u001b[0m\u001b[2m \u001b[0m│\n",
       "│\u001b[2m                                    \u001b[0m│\u001b[2m            \u001b[0m│\u001b[2m                \u001b[0m│\u001b[2m          \u001b[0m│\u001b[2m \u001b[0m\u001b[2mteam that wins their league's    \u001b[0m\u001b[2m \u001b[0m│\n",
       "│\u001b[2m                                    \u001b[0m│\u001b[2m            \u001b[0m│\u001b[2m                \u001b[0m│\u001b[2m          \u001b[0m│\u001b[2m \u001b[0m\u001b[2mchampionship, either the American\u001b[0m\u001b[2m \u001b[0m│\n",
       "│\u001b[2m                                    \u001b[0m│\u001b[2m            \u001b[0m│\u001b[2m                \u001b[0m│\u001b[2m          \u001b[0m│\u001b[2m \u001b[0m\u001b[2mLeague (AL) or the National      \u001b[0m\u001b[2m \u001b[0m│\n",
       "│\u001b[2m                                    \u001b[0m│\u001b[2m            \u001b[0m│\u001b[2m                \u001b[0m│\u001b[2m          \u001b[0m│\u001b[2m \u001b[0m\u001b[2mLeague (NL), thereby earning a   \u001b[0m\u001b[2m \u001b[0m│\n",
       "│\u001b[2m                                    \u001b[0m│\u001b[2m            \u001b[0m│\u001b[2m                \u001b[0m│\u001b[2m          \u001b[0m│\u001b[2m \u001b[0m\u001b[2mspot in the World Series, which  \u001b[0m\u001b[2m \u001b[0m│\n",
       "│\u001b[2m                                    \u001b[0m│\u001b[2m            \u001b[0m│\u001b[2m                \u001b[0m│\u001b[2m          \u001b[0m│\u001b[2m \u001b[0m\u001b[2mis the championship series of    \u001b[0m\u001b[2m \u001b[0m│\n",
       "│\u001b[2m                                    \u001b[0m│\u001b[2m            \u001b[0m│\u001b[2m                \u001b[0m│\u001b[2m          \u001b[0m│\u001b[2m \u001b[0m\u001b[2mMLB.                             \u001b[0m\u001b[2m \u001b[0m│\n",
       "└────────────────────────────────────┴────────────┴────────────────┴──────────┴───────────────────────────────────┘\n"
      ]
     },
     "metadata": {},
     "output_type": "display_data"
    }
   ],
   "source": [
    "(results\n",
    " .filter(\"section in ['Sports', 'Health', 'Politics']\")\n",
    " .sort_by(\"section\", \"date\")\n",
    " .select(\"headline\", \"date\", \"author\", \"section\", \"reference\")\n",
    " .print(format=\"rich\")\n",
    ")"
   ]
  },
  {
   "cell_type": "markdown",
   "id": "3c774c6f-69c0-400b-bf45-48094944156b",
   "metadata": {},
   "source": [
    "## Posting to the Coop\n",
    "The [Coop](https://www.expectedparrot.com/explore) is a platform for creating, storing and sharing LLM-based research.\n",
    "It is fully integrated with EDSL and accessible from your workspace or Coop account page.\n",
    "Learn more about [creating an account](https://www.expectedparrot.com/login) and [using the Coop](https://docs.expectedparrot.com/en/latest/coop.html).\n",
    "\n",
    "Here we post the scenarios, survey and results from above, and this notebook:"
   ]
  },
  {
   "cell_type": "code",
   "execution_count": 12,
   "id": "aeaa01b0-7bc2-48c8-a5f1-4d39a1dd8a10",
   "metadata": {
    "editable": true,
    "slideshow": {
     "slide_type": ""
    },
    "tags": [
     "skip-execution"
    ]
   },
   "outputs": [
    {
     "data": {
      "text/plain": [
       "{'description': 'Scenarios for example survey using metadata',\n",
       " 'object_type': 'scenario_list',\n",
       " 'url': 'https://www.expectedparrot.com/content/711d3d8d-3e60-4b9b-9b64-9c5c1a5f749d',\n",
       " 'uuid': '711d3d8d-3e60-4b9b-9b64-9c5c1a5f749d',\n",
       " 'version': '0.1.33.dev1',\n",
       " 'visibility': 'public'}"
      ]
     },
     "execution_count": 12,
     "metadata": {},
     "output_type": "execute_result"
    }
   ],
   "source": [
    "scenarios.push(description = \"Scenarios for example survey using metadata\", visibility = \"public\")"
   ]
  },
  {
   "cell_type": "code",
   "execution_count": 13,
   "id": "ca9da47f-ff87-4a51-9a95-b2d6366db869",
   "metadata": {
    "editable": true,
    "slideshow": {
     "slide_type": ""
    },
    "tags": [
     "skip-execution"
    ]
   },
   "outputs": [
    {
     "data": {
      "text/plain": [
       "{'description': 'Example survey using scenarios to add metadata to results',\n",
       " 'object_type': 'survey',\n",
       " 'url': 'https://www.expectedparrot.com/content/333395bb-bfe1-4795-a17f-93cc67da88a9',\n",
       " 'uuid': '333395bb-bfe1-4795-a17f-93cc67da88a9',\n",
       " 'version': '0.1.33.dev1',\n",
       " 'visibility': 'public'}"
      ]
     },
     "execution_count": 13,
     "metadata": {},
     "output_type": "execute_result"
    }
   ],
   "source": [
    "survey.push(description = \"Example survey using scenarios to add metadata to results\", visibility = \"public\")"
   ]
  },
  {
   "cell_type": "code",
   "execution_count": 14,
   "id": "2b916226-357c-4c08-aa78-d25e25de0988",
   "metadata": {
    "editable": true,
    "slideshow": {
     "slide_type": ""
    },
    "tags": [
     "skip-execution"
    ]
   },
   "outputs": [
    {
     "data": {
      "text/plain": [
       "{'description': 'Results for example survey using scenarios to add metadata',\n",
       " 'object_type': 'results',\n",
       " 'url': 'https://www.expectedparrot.com/content/5cdf086d-45cb-4bc4-896a-a48f45621919',\n",
       " 'uuid': '5cdf086d-45cb-4bc4-896a-a48f45621919',\n",
       " 'version': '0.1.33.dev1',\n",
       " 'visibility': 'public'}"
      ]
     },
     "execution_count": 14,
     "metadata": {},
     "output_type": "execute_result"
    }
   ],
   "source": [
    "results.push(description = \"Results for example survey using scenarios to add metadata\", visibility = \"public\")"
   ]
  },
  {
   "cell_type": "code",
   "execution_count": 15,
   "id": "0b80af48-4e24-4066-9ae0-ddea23496e42",
   "metadata": {
    "editable": true,
    "slideshow": {
     "slide_type": ""
    },
    "tags": [
     "skip-execution"
    ]
   },
   "outputs": [],
   "source": [
    "from edsl import Notebook"
   ]
  },
  {
   "cell_type": "code",
   "execution_count": 16,
   "id": "e1118104-211f-4dc5-bce4-b082a0af6003",
   "metadata": {
    "editable": true,
    "slideshow": {
     "slide_type": ""
    },
    "tags": [
     "skip-execution"
    ]
   },
   "outputs": [],
   "source": [
    "n = Notebook(path = \"adding_metadata.ipynb\")"
   ]
  },
  {
   "cell_type": "code",
   "execution_count": 17,
   "id": "71c529cb-93db-4fb0-8012-b916fbfbb03b",
   "metadata": {
    "editable": true,
    "slideshow": {
     "slide_type": ""
    },
    "tags": [
     "skip-execution"
    ]
   },
   "outputs": [
    {
     "data": {
      "text/plain": [
       "{'description': 'Adding metadata to survey results',\n",
       " 'object_type': 'notebook',\n",
       " 'url': 'https://www.expectedparrot.com/content/0837130c-5983-482b-ae1b-a6ba2bbef07e',\n",
       " 'uuid': '0837130c-5983-482b-ae1b-a6ba2bbef07e',\n",
       " 'version': '0.1.33.dev1',\n",
       " 'visibility': 'public'}"
      ]
     },
     "execution_count": 17,
     "metadata": {},
     "output_type": "execute_result"
    }
   ],
   "source": [
    "n.push(description = \"Adding metadata to survey results\", visibility = \"public\")"
   ]
  },
  {
   "cell_type": "markdown",
   "id": "baeb3c9d-6b81-4dbc-b853-b98e0d1f90ed",
   "metadata": {},
   "source": [
    "To update an object at the Coop:"
   ]
  },
  {
   "cell_type": "code",
   "execution_count": 18,
   "id": "cef7fe8a-bacc-4933-81b0-b0839f0f0f2e",
   "metadata": {
    "editable": true,
    "slideshow": {
     "slide_type": ""
    },
    "tags": [
     "skip-execution"
    ]
   },
   "outputs": [],
   "source": [
    "n = Notebook(path = \"adding_metadata.ipynb\")"
   ]
  },
  {
   "cell_type": "code",
   "execution_count": 19,
   "id": "417ee83d-242e-4248-854b-de1e08de5977",
   "metadata": {
    "editable": true,
    "slideshow": {
     "slide_type": ""
    },
    "tags": [
     "skip-execution"
    ]
   },
   "outputs": [
    {
     "data": {
      "text/plain": [
       "{'status': 'success'}"
      ]
     },
     "execution_count": 19,
     "metadata": {},
     "output_type": "execute_result"
    }
   ],
   "source": [
    "n.patch(uuid = \"0837130c-5983-482b-ae1b-a6ba2bbef07e\", value = n)"
   ]
  }
 ],
 "metadata": {
  "kernelspec": {
   "display_name": "Python 3 (ipykernel)",
   "language": "python",
   "name": "python3"
  },
  "language_info": {
   "codemirror_mode": {
    "name": "ipython",
    "version": 3
   },
   "file_extension": ".py",
   "mimetype": "text/x-python",
   "name": "python",
   "nbconvert_exporter": "python",
   "pygments_lexer": "ipython3",
   "version": "3.11.7"
  }
 },
 "nbformat": 4,
 "nbformat_minor": 5
}
