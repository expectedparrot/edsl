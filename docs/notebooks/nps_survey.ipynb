{
 "cells": [
  {
   "cell_type": "markdown",
   "id": "1438e73c-0fff-4437-9d6a-97629366516e",
   "metadata": {
    "editable": true,
    "slideshow": {
     "slide_type": ""
    },
    "tags": []
   },
   "source": [
    "# NPS survey in EDSL\n",
    "This notebook provides sample [EDSL](https://github.com/expectedparrot/edsl) code for simulating a Net Promoter Score (NPS) survey with AI agents and large language models.\n",
    "In the steps below we show how to construct an EDSL survey, create personas for AI agents to answer the questions, and then administer the survey to them. \n",
    "We also demonstrate some built-in [methods for inspecting and analyzing the dataset of results](https://docs.expectedparrot.com/en/latest/results.html) that is generated when an EDSL survey is run.\n",
    "\n",
    "The following questions are used in the sample survey:\n",
    "\n",
    "***On a scale from 0-10, how likely are you to recommend our company to a friend or colleague?*** <br>\n",
    "*(0=Not at all likely, 10=Very likely)* <br>\n",
    "*Please tell us why you gave a rating.*\n",
    "\n",
    "***How satisfied are you with the following experience with our company?*** <br>\n",
    "*Product quality* <br>\n",
    "*Customer support* <br>\n",
    "*Purchasing experience* <br>\n",
    "\n",
    "***Is there anything specific that our company can do to improve your experience?***\n",
    "\n",
    "## Technical setup\n",
    "Before running the code below, ensure that you have (1) [installed the EDSL library](https://docs.expectedparrot.com/en/latest/installation.html) and (2) created a [Coop account](https://docs.expectedparrot.com/en/latest/coop.html) to activate [remote inference](https://docs.expectedparrot.com/en/latest/remote_inference.html) or stored your own [API keys for language models](https://docs.expectedparrot.com/en/latest/api_keys.html) that you want to use with EDSL. Please also see our [tutorials and documentation page](https://docs.expectedparrot.com/en/latest/index.html) on getting started using the EDSL library."
   ]
  },
  {
   "cell_type": "markdown",
   "id": "ea750f2a-e968-4835-8d4e-3c0c936c8e83",
   "metadata": {},
   "source": [
    "## Constructing questions\n",
    "We start by selecting appropriate question types for the above questions. [EDSL comes with a variety of common question types](https://docs.expectedparrot.com/en/latest/questions.html) that we can choose from based on the form of the response that we want to get back from the model. The first quesiton is linear scale; we import the class type and then construct a question in the relevant template:"
   ]
  },
  {
   "cell_type": "code",
   "execution_count": 1,
   "id": "a07a6196-7db4-4fcc-bec2-4707ad63b5a7",
   "metadata": {},
   "outputs": [],
   "source": [
    "from edsl import QuestionLinearScale"
   ]
  },
  {
   "cell_type": "code",
   "execution_count": 2,
   "id": "f2440e38-4c62-47eb-ac8a-0570c684fdb0",
   "metadata": {},
   "outputs": [],
   "source": [
    "q_recommend = QuestionLinearScale(\n",
    "    question_name = \"recommend\",\n",
    "    question_text = \"On a scale from 0-10, how likely are you to recommend our company to a friend or colleague?\",\n",
    "    question_options = [0, 1, 2, 3, 4, 5, 6, 7, 8, 9, 10],\n",
    "    option_labels = {0:\"Not at all likely\", 10:\"Very likely\"}\n",
    ")"
   ]
  },
  {
   "cell_type": "markdown",
   "id": "ba83db0c-b745-4490-8f52-51a35cd9facb",
   "metadata": {},
   "source": [
    "Each question type other than free text automatically includes a \"comment\" field for the model to provide commentary on its response to the main question. When we run the survey, we can check that it has effectively captured the follow-on question from above--*Please tell us why you gave a rating*--and modify or add questions as needed.\n",
    "\n",
    "For the next question, we use a `{{ placeholder }}` for an \"experience\" that we will insert when repeating the base question:"
   ]
  },
  {
   "cell_type": "code",
   "execution_count": 3,
   "id": "e1a00011-0edb-46d9-ab80-aa2b4b980830",
   "metadata": {},
   "outputs": [],
   "source": [
    "from edsl import QuestionMultipleChoice"
   ]
  },
  {
   "cell_type": "code",
   "execution_count": 4,
   "id": "4db814cc-8b3e-464a-8708-6eb562e4f473",
   "metadata": {},
   "outputs": [],
   "source": [
    "q_satisfied = QuestionMultipleChoice(\n",
    "    question_name = \"satisfied\",\n",
    "    question_text = \"How satisfied are you with the following experience with our company: {{ experience }}\",\n",
    "    question_options = [\n",
    "        \"Extremely satisfied\",\n",
    "        \"Moderately satisfied\",\n",
    "        \"Neither satisfied nor dissatisfied\",\n",
    "        \"Moderately dissatisfied\",\n",
    "        \"Extremely dissatisfied\"\n",
    "    ]\n",
    ")"
   ]
  },
  {
   "cell_type": "markdown",
   "id": "d6f90a40-c4ac-49bc-8883-ecab1387eb4a",
   "metadata": {},
   "source": [
    "The third question is a simple free text question that we can choose whether to administer once or individually for each \"experience\" question. In the steps that follow we show how to apply survey logic to achieve this effect:"
   ]
  },
  {
   "cell_type": "code",
   "execution_count": 5,
   "id": "b1880b4f-0234-42fd-a569-0af0024afe76",
   "metadata": {},
   "outputs": [],
   "source": [
    "from edsl import QuestionFreeText"
   ]
  },
  {
   "cell_type": "code",
   "execution_count": 6,
   "id": "944d6f72-8591-4f6f-91de-d53d8c3de777",
   "metadata": {},
   "outputs": [],
   "source": [
    "q_improve = QuestionFreeText(\n",
    "    question_name = \"improve\",\n",
    "    question_text = \"Is there anything specific that our company can do to improve your experience?\"\n",
    ")"
   ]
  },
  {
   "cell_type": "markdown",
   "id": "07b6d574-899f-497e-b68f-ce3c638bbf05",
   "metadata": {},
   "source": [
    "## Creating variants of questions with scenarios\n",
    "Next we want to create a version of the \"satisfied\" question for each \"experience\". This can be done with `Scenario` objects--dictionaries of key/value pairs representing the content to be added to questions. Scenarios can be automatically generated from a variety of data sources (PDFs, CSVs, images, tables, etc.). Here we have import a simple list:"
   ]
  },
  {
   "cell_type": "code",
   "execution_count": 7,
   "id": "7b4e439f-a8d1-433c-a88b-50e56812c767",
   "metadata": {},
   "outputs": [],
   "source": [
    "from edsl import ScenarioList, Scenario"
   ]
  },
  {
   "cell_type": "code",
   "execution_count": 8,
   "id": "4e9993b5-f04f-4c11-b2ac-61fb80a19633",
   "metadata": {},
   "outputs": [],
   "source": [
    "experiences = [\"Product quality\", \"Customer support\", \"Purchasing experience\"]\n",
    "\n",
    "s = ScenarioList(\n",
    "    Scenario({\"experience\":e}) for e in experiences\n",
    ")"
   ]
  },
  {
   "cell_type": "markdown",
   "id": "2a2f7d01-d1c4-4759-8e95-58f48be866ca",
   "metadata": {},
   "source": [
    "We could also use a specific method for creating scenarios from a list:"
   ]
  },
  {
   "cell_type": "code",
   "execution_count": 9,
   "id": "826ced15-27a5-48e6-bd58-4cc5c5557622",
   "metadata": {},
   "outputs": [],
   "source": [
    "s = ScenarioList.from_list(\"experience\", experiences)"
   ]
  },
  {
   "cell_type": "markdown",
   "id": "13712e1d-fa38-4e57-9e90-79d82302c671",
   "metadata": {},
   "source": [
    "We can check the scenarios that have been created:"
   ]
  },
  {
   "cell_type": "code",
   "execution_count": 10,
   "id": "96d4246e-ff51-42b9-a1e6-138683d115be",
   "metadata": {},
   "outputs": [
    {
     "data": {
      "text/html": [
       "<div class=\"highlight\"><pre><span></span><span class=\"p\">{</span>\n",
       "<span class=\"w\">    </span><span class=\"nt\">&quot;scenarios&quot;</span><span class=\"p\">:</span><span class=\"w\"> </span><span class=\"p\">[</span>\n",
       "<span class=\"w\">        </span><span class=\"p\">{</span>\n",
       "<span class=\"w\">            </span><span class=\"nt\">&quot;experience&quot;</span><span class=\"p\">:</span><span class=\"w\"> </span><span class=\"s2\">&quot;Product quality&quot;</span>\n",
       "<span class=\"w\">        </span><span class=\"p\">},</span>\n",
       "<span class=\"w\">        </span><span class=\"p\">{</span>\n",
       "<span class=\"w\">            </span><span class=\"nt\">&quot;experience&quot;</span><span class=\"p\">:</span><span class=\"w\"> </span><span class=\"s2\">&quot;Customer support&quot;</span>\n",
       "<span class=\"w\">        </span><span class=\"p\">},</span>\n",
       "<span class=\"w\">        </span><span class=\"p\">{</span>\n",
       "<span class=\"w\">            </span><span class=\"nt\">&quot;experience&quot;</span><span class=\"p\">:</span><span class=\"w\"> </span><span class=\"s2\">&quot;Purchasing experience&quot;</span>\n",
       "<span class=\"w\">        </span><span class=\"p\">}</span>\n",
       "<span class=\"w\">    </span><span class=\"p\">]</span>\n",
       "<span class=\"p\">}</span>\n",
       "</pre></div>\n"
      ],
      "text/plain": [
       "ScenarioList([Scenario({'experience': 'Product quality'}), Scenario({'experience': 'Customer support'}), Scenario({'experience': 'Purchasing experience'})])"
      ]
     },
     "execution_count": 10,
     "metadata": {},
     "output_type": "execute_result"
    }
   ],
   "source": [
    "s"
   ]
  },
  {
   "cell_type": "markdown",
   "id": "e88affac-b8be-480e-805c-fd2f5af903c3",
   "metadata": {},
   "source": [
    "To create the question variants, we pass the scenario list to the question `loop()` method, which returns a list of new questions.\n",
    "We can see that each question has a new unique name and a question text with the placeholder replaced with an experience:"
   ]
  },
  {
   "cell_type": "code",
   "execution_count": 11,
   "id": "1bd9ea3d-e0fd-4b1a-9fb0-86a0c5bebbbe",
   "metadata": {},
   "outputs": [
    {
     "data": {
      "text/plain": [
       "[Question('multiple_choice', question_name = \"\"\"satisfied_0\"\"\", question_text = \"\"\"How satisfied are you with the following experience with our company: Product quality\"\"\", question_options = ['Extremely satisfied', 'Moderately satisfied', 'Neither satisfied nor dissatisfied', 'Moderately dissatisfied', 'Extremely dissatisfied']),\n",
       " Question('multiple_choice', question_name = \"\"\"satisfied_1\"\"\", question_text = \"\"\"How satisfied are you with the following experience with our company: Customer support\"\"\", question_options = ['Extremely satisfied', 'Moderately satisfied', 'Neither satisfied nor dissatisfied', 'Moderately dissatisfied', 'Extremely dissatisfied']),\n",
       " Question('multiple_choice', question_name = \"\"\"satisfied_2\"\"\", question_text = \"\"\"How satisfied are you with the following experience with our company: Purchasing experience\"\"\", question_options = ['Extremely satisfied', 'Moderately satisfied', 'Neither satisfied nor dissatisfied', 'Moderately dissatisfied', 'Extremely dissatisfied'])]"
      ]
     },
     "execution_count": 11,
     "metadata": {},
     "output_type": "execute_result"
    }
   ],
   "source": [
    "satisfied_questions = q_satisfied.loop(s)\n",
    "satisfied_questions"
   ]
  },
  {
   "cell_type": "markdown",
   "id": "d7a273eb-21b7-4d03-afea-823a702880da",
   "metadata": {},
   "source": [
    "We can also use the `loop()` method to create copies of the \"improve\" question in order to present it as a follow-up question to each of the \"satisfied\" questions that have been parameterized with experiences. Here, we're simply duplicating the base question without a scenario `{{ placeholder }}` because we will instead add a \"memory\" of the relevant \"satisfied\" question when administering each copy of it:"
   ]
  },
  {
   "cell_type": "code",
   "execution_count": 12,
   "id": "5711bd9d-8fc1-4b01-8a3a-f7e5e86a020f",
   "metadata": {},
   "outputs": [
    {
     "data": {
      "text/plain": [
       "[Question('free_text', question_name = \"\"\"improve_0\"\"\", question_text = \"\"\"Is there anything specific that our company can do to improve your experience?\"\"\"),\n",
       " Question('free_text', question_name = \"\"\"improve_1\"\"\", question_text = \"\"\"Is there anything specific that our company can do to improve your experience?\"\"\"),\n",
       " Question('free_text', question_name = \"\"\"improve_2\"\"\", question_text = \"\"\"Is there anything specific that our company can do to improve your experience?\"\"\")]"
      ]
     },
     "execution_count": 12,
     "metadata": {},
     "output_type": "execute_result"
    }
   ],
   "source": [
    "improve_questions = q_improve.loop(s)\n",
    "improve_questions"
   ]
  },
  {
   "cell_type": "markdown",
   "id": "467bdb55-5a66-4a9a-b400-6241779713ce",
   "metadata": {},
   "source": [
    "## Creating a survey\n",
    "Next we pass a list of all the questions to a `Survey` in order to administer them together:"
   ]
  },
  {
   "cell_type": "code",
   "execution_count": 13,
   "id": "fbbb695c-73e4-4401-b727-e9bc5bd3602f",
   "metadata": {},
   "outputs": [],
   "source": [
    "questions = [q_recommend] + satisfied_questions + improve_questions"
   ]
  },
  {
   "cell_type": "code",
   "execution_count": 14,
   "id": "0435ef1b-435e-4d2d-9420-095a8984fad4",
   "metadata": {},
   "outputs": [],
   "source": [
    "from edsl import Survey"
   ]
  },
  {
   "cell_type": "code",
   "execution_count": 15,
   "id": "780d7304-9427-44fe-9b86-50181cdfc2e2",
   "metadata": {},
   "outputs": [],
   "source": [
    "survey = Survey(questions)"
   ]
  },
  {
   "cell_type": "markdown",
   "id": "c2df0c00-6dce-461e-afa0-4f755f65d161",
   "metadata": {},
   "source": [
    "## Adding survey logic \n",
    "In the next step we add logic to the survey specifying that each \"improve\" question should include a \"memory\" of a \"satisfied\" question (the question and answer that was provided):"
   ]
  },
  {
   "cell_type": "code",
   "execution_count": 16,
   "id": "89d4165e-b63a-47a0-b04e-8d7e9ebd64c4",
   "metadata": {},
   "outputs": [],
   "source": [
    "for i in range(len(s)):\n",
    "    survey = survey.add_targeted_memory(f\"improve_{i}\", f\"satisfied_{i}\")"
   ]
  },
  {
   "cell_type": "markdown",
   "id": "f12844b0-2d8b-4f0d-b3f0-1148fa9ea97f",
   "metadata": {},
   "source": [
    "We can inspect the survey details:"
   ]
  },
  {
   "cell_type": "code",
   "execution_count": 17,
   "id": "48aeba75-f5ed-45f6-89f5-ab5100eba8da",
   "metadata": {},
   "outputs": [],
   "source": [
    "# survey"
   ]
  },
  {
   "cell_type": "markdown",
   "id": "ab8cb570-7adc-4859-96cf-7e08a6b0e720",
   "metadata": {},
   "source": [
    "## AI agent personas\n",
    "EDSL comes with a variety of methods for [designing AI agents to answer surveys](https://docs.expectedparrot.com/en/latest/agents.html).\n",
    "An `Agent` is constructed by passing a dictionary of relevant `traits` with optional additional `instructions` for the language model to reference in generating responses for the agent.\n",
    "Agents can be constructed from a variety of data sources, including existing survey data (e.g., a dataset of responses that were provided to some other questions). \n",
    "We can also use an EDSL question to draft some personas for agents. Here, we ask for a list of them:"
   ]
  },
  {
   "cell_type": "code",
   "execution_count": 18,
   "id": "fdb41d96-8dcc-4c0a-8026-7e73bbf7b781",
   "metadata": {},
   "outputs": [],
   "source": [
    "from edsl import QuestionList"
   ]
  },
  {
   "cell_type": "code",
   "execution_count": 19,
   "id": "cfef7dca-7cf7-4a5a-92c0-a3818c931b37",
   "metadata": {},
   "outputs": [],
   "source": [
    "q_personas = QuestionList(\n",
    "    question_name = \"personas\",\n",
    "    question_text = \"Draft 5 personas for diverse customers of landscaping business with varying satisfaction levels.\"\n",
    ")"
   ]
  },
  {
   "cell_type": "markdown",
   "id": "f44ed685-13ad-4f83-b099-3d833cad8daa",
   "metadata": {},
   "source": [
    "We can run this question alone and extract the response list (more on working with results below):"
   ]
  },
  {
   "cell_type": "code",
   "execution_count": 20,
   "id": "ec121942-b3ed-4e9a-9ccb-6cf454aeb083",
   "metadata": {},
   "outputs": [
    {
     "data": {
      "text/plain": [
       "[\"Karen, a meticulous homeowner who is highly satisfied with the precision and attention to detail in her garden's upkeep\",\n",
       " 'Bob, a busy professional who is moderately satisfied but wishes the service was more flexible with scheduling',\n",
       " 'Samantha, a new homeowner who is delighted with the transformative landscaping makeover she received',\n",
       " 'Greg, an environmentally-conscious customer who is dissatisfied with the lack of sustainable options',\n",
       " 'Tina, a retiree who is neutral because she appreciates the friendly service but finds it slightly overpriced']"
      ]
     },
     "execution_count": 20,
     "metadata": {},
     "output_type": "execute_result"
    }
   ],
   "source": [
    "personas = q_personas.run().select(\"personas\").to_list()[0]\n",
    "personas"
   ]
  },
  {
   "cell_type": "markdown",
   "id": "3ea26286-26de-42a8-b0fb-af698a7235df",
   "metadata": {},
   "source": [
    "Next we pass the personas to create a set of agents:"
   ]
  },
  {
   "cell_type": "code",
   "execution_count": 21,
   "id": "14143f43-55c9-4317-a251-7ab9beb0de14",
   "metadata": {},
   "outputs": [],
   "source": [
    "from edsl import AgentList, Agent"
   ]
  },
  {
   "cell_type": "code",
   "execution_count": 22,
   "id": "9f2d8fa1-7f9d-4e3a-9fc1-916c0e4ef498",
   "metadata": {},
   "outputs": [],
   "source": [
    "a = AgentList(\n",
    "    Agent(traits = {\"persona\":p}) for p in personas\n",
    ")"
   ]
  },
  {
   "cell_type": "markdown",
   "id": "580c7bb2-ba95-41af-bd53-583e02f0cf28",
   "metadata": {},
   "source": [
    "## Selecting language models\n",
    "EDSL works with many popular large language models that we can select to use with a survey.\n",
    "To see a list of available models:"
   ]
  },
  {
   "cell_type": "code",
   "execution_count": 23,
   "id": "c0feba37-6f94-419d-af3b-29bc38244660",
   "metadata": {},
   "outputs": [],
   "source": [
    "from edsl import Model"
   ]
  },
  {
   "cell_type": "code",
   "execution_count": 24,
   "id": "faea801d-423d-436f-934a-2f21b881951f",
   "metadata": {},
   "outputs": [],
   "source": [
    "# Model.available()"
   ]
  },
  {
   "cell_type": "markdown",
   "id": "4e431f7e-6a0b-4cf2-aaba-2a6ea2a8d20f",
   "metadata": {},
   "source": [
    "To select a model to use with a survey we pass a model name to a `Model`:"
   ]
  },
  {
   "cell_type": "code",
   "execution_count": 25,
   "id": "a47dbc95-8186-4aac-93a4-06177576a934",
   "metadata": {},
   "outputs": [],
   "source": [
    "m = Model(\"gemini-pro\")"
   ]
  },
  {
   "cell_type": "markdown",
   "id": "46465cb7-e4b9-45b9-91d3-cf6222bfc003",
   "metadata": {},
   "source": [
    "If we want to compare responses for several models, we can use a `ModelList` instead:"
   ]
  },
  {
   "cell_type": "code",
   "execution_count": 26,
   "id": "a665f4b4-59d3-4d44-b7c6-3395e46fde39",
   "metadata": {},
   "outputs": [],
   "source": [
    "from edsl import ModelList"
   ]
  },
  {
   "cell_type": "code",
   "execution_count": 27,
   "id": "e5bbc158-a444-4b41-8079-d9dc5fe4942b",
   "metadata": {},
   "outputs": [],
   "source": [
    "m = ModelList(\n",
    "    Model(model) for model in [\"gemini-pro\", \"gpt-4o\"]\n",
    ")"
   ]
  },
  {
   "cell_type": "markdown",
   "id": "f35861cb-a0f3-4686-831b-2e47761a863f",
   "metadata": {},
   "source": [
    "Note: If no model is specified when running a survey, the default model GPT 4 preview is used (as above when we generated personas)."
   ]
  },
  {
   "cell_type": "markdown",
   "id": "1a6285a5-6ee2-4081-a13c-287f0e715e04",
   "metadata": {},
   "source": [
    "## Running a survey\n",
    "We administer the survey by adding the agents and models with the `by()` method and then calling the `run()` method:"
   ]
  },
  {
   "cell_type": "code",
   "execution_count": 28,
   "id": "55d58687-36c5-4c9b-a63a-ec3d265ff8fd",
   "metadata": {},
   "outputs": [],
   "source": [
    "results = survey.by(a).by(m).run()"
   ]
  },
  {
   "cell_type": "markdown",
   "id": "77d2e183-d127-46f1-977f-7e37a86e2bd6",
   "metadata": {},
   "source": [
    "This generates a dataset of `Results` that includes a response for each agent/model that was used. \n",
    "We can access the results with [built-in methods for analysis](https://docs.expectedparrot.com/en/latest/results.html).\n",
    "To see a list of all the components of the results:"
   ]
  },
  {
   "cell_type": "code",
   "execution_count": 29,
   "id": "228928cf-abb0-411f-a232-05a2e5e25c55",
   "metadata": {},
   "outputs": [],
   "source": [
    "# results.columns"
   ]
  },
  {
   "cell_type": "markdown",
   "id": "1eecb71f-e3b3-44c0-8a8d-bdf83664f5f1",
   "metadata": {},
   "source": [
    "For example, we can filter, sort and display columns of results in a table:"
   ]
  },
  {
   "cell_type": "code",
   "execution_count": 30,
   "id": "aa966334-0736-4876-bfd8-a3f854f19d0b",
   "metadata": {},
   "outputs": [
    {
     "data": {
      "text/html": [
       "<pre style=\"white-space:pre;overflow-x:auto;line-height:normal;font-family:Menlo,'DejaVu Sans Mono',consolas,'Courier New',monospace\">┏━━━━━━━━━━━━┳━━━━━━━━━━━━━━━━━━━━━━━━━━━━━━━━━━━━━━━━━━━┳━━━━━━━━━━━━┳━━━━━━━━━━━━━━━━━━━━━━━━━━━━━━━━━━━━━━━━━━━┓\n",
       "┃<span style=\"color: #800080; text-decoration-color: #800080; font-weight: bold\"> model      </span>┃<span style=\"color: #800080; text-decoration-color: #800080; font-weight: bold\"> agent                                     </span>┃<span style=\"color: #800080; text-decoration-color: #800080; font-weight: bold\"> answer     </span>┃<span style=\"color: #800080; text-decoration-color: #800080; font-weight: bold\"> comment                                   </span>┃\n",
       "┃<span style=\"color: #800080; text-decoration-color: #800080; font-weight: bold\"> .model     </span>┃<span style=\"color: #800080; text-decoration-color: #800080; font-weight: bold\"> .persona                                  </span>┃<span style=\"color: #800080; text-decoration-color: #800080; font-weight: bold\"> .recommend </span>┃<span style=\"color: #800080; text-decoration-color: #800080; font-weight: bold\"> .recommend_comment                        </span>┃\n",
       "┡━━━━━━━━━━━━╇━━━━━━━━━━━━━━━━━━━━━━━━━━━━━━━━━━━━━━━━━━━╇━━━━━━━━━━━━╇━━━━━━━━━━━━━━━━━━━━━━━━━━━━━━━━━━━━━━━━━━━┩\n",
       "│<span style=\"color: #7f7f7f; text-decoration-color: #7f7f7f\"> gemini-pro </span>│<span style=\"color: #7f7f7f; text-decoration-color: #7f7f7f\"> Samantha, a new homeowner who is          </span>│<span style=\"color: #7f7f7f; text-decoration-color: #7f7f7f\"> 10         </span>│<span style=\"color: #7f7f7f; text-decoration-color: #7f7f7f\"> The landscaping makeover completely       </span>│\n",
       "│<span style=\"color: #7f7f7f; text-decoration-color: #7f7f7f\">            </span>│<span style=\"color: #7f7f7f; text-decoration-color: #7f7f7f\"> delighted with the transformative         </span>│<span style=\"color: #7f7f7f; text-decoration-color: #7f7f7f\">            </span>│<span style=\"color: #7f7f7f; text-decoration-color: #7f7f7f\"> transformed my backyard and made it a     </span>│\n",
       "│<span style=\"color: #7f7f7f; text-decoration-color: #7f7f7f\">            </span>│<span style=\"color: #7f7f7f; text-decoration-color: #7f7f7f\"> landscaping makeover she received         </span>│<span style=\"color: #7f7f7f; text-decoration-color: #7f7f7f\">            </span>│<span style=\"color: #7f7f7f; text-decoration-color: #7f7f7f\"> beautiful and relaxing space for my       </span>│\n",
       "│<span style=\"color: #7f7f7f; text-decoration-color: #7f7f7f\">            </span>│<span style=\"color: #7f7f7f; text-decoration-color: #7f7f7f\">                                           </span>│<span style=\"color: #7f7f7f; text-decoration-color: #7f7f7f\">            </span>│<span style=\"color: #7f7f7f; text-decoration-color: #7f7f7f\"> family and friends to enjoy. I'm so happy </span>│\n",
       "│<span style=\"color: #7f7f7f; text-decoration-color: #7f7f7f\">            </span>│<span style=\"color: #7f7f7f; text-decoration-color: #7f7f7f\">                                           </span>│<span style=\"color: #7f7f7f; text-decoration-color: #7f7f7f\">            </span>│<span style=\"color: #7f7f7f; text-decoration-color: #7f7f7f\"> with the results that I've already        </span>│\n",
       "│<span style=\"color: #7f7f7f; text-decoration-color: #7f7f7f\">            </span>│<span style=\"color: #7f7f7f; text-decoration-color: #7f7f7f\">                                           </span>│<span style=\"color: #7f7f7f; text-decoration-color: #7f7f7f\">            </span>│<span style=\"color: #7f7f7f; text-decoration-color: #7f7f7f\"> recommended your company to several       </span>│\n",
       "│<span style=\"color: #7f7f7f; text-decoration-color: #7f7f7f\">            </span>│<span style=\"color: #7f7f7f; text-decoration-color: #7f7f7f\">                                           </span>│<span style=\"color: #7f7f7f; text-decoration-color: #7f7f7f\">            </span>│<span style=\"color: #7f7f7f; text-decoration-color: #7f7f7f\"> people.                                   </span>│\n",
       "├────────────┼───────────────────────────────────────────┼────────────┼───────────────────────────────────────────┤\n",
       "│<span style=\"color: #7f7f7f; text-decoration-color: #7f7f7f\"> gemini-pro </span>│<span style=\"color: #7f7f7f; text-decoration-color: #7f7f7f\"> Karen, a meticulous homeowner who is      </span>│<span style=\"color: #7f7f7f; text-decoration-color: #7f7f7f\"> 10         </span>│<span style=\"color: #7f7f7f; text-decoration-color: #7f7f7f\"> Karen is a meticulous homeowner who is    </span>│\n",
       "│<span style=\"color: #7f7f7f; text-decoration-color: #7f7f7f\">            </span>│<span style=\"color: #7f7f7f; text-decoration-color: #7f7f7f\"> highly satisfied with the precision and   </span>│<span style=\"color: #7f7f7f; text-decoration-color: #7f7f7f\">            </span>│<span style=\"color: #7f7f7f; text-decoration-color: #7f7f7f\"> highly satisfied with the precision and   </span>│\n",
       "│<span style=\"color: #7f7f7f; text-decoration-color: #7f7f7f\">            </span>│<span style=\"color: #7f7f7f; text-decoration-color: #7f7f7f\"> attention to detail in her garden's       </span>│<span style=\"color: #7f7f7f; text-decoration-color: #7f7f7f\">            </span>│<span style=\"color: #7f7f7f; text-decoration-color: #7f7f7f\"> attention to detail in her garden's       </span>│\n",
       "│<span style=\"color: #7f7f7f; text-decoration-color: #7f7f7f\">            </span>│<span style=\"color: #7f7f7f; text-decoration-color: #7f7f7f\"> upkeep                                    </span>│<span style=\"color: #7f7f7f; text-decoration-color: #7f7f7f\">            </span>│<span style=\"color: #7f7f7f; text-decoration-color: #7f7f7f\"> upkeep. She is very likely to recommend   </span>│\n",
       "│<span style=\"color: #7f7f7f; text-decoration-color: #7f7f7f\">            </span>│<span style=\"color: #7f7f7f; text-decoration-color: #7f7f7f\">                                           </span>│<span style=\"color: #7f7f7f; text-decoration-color: #7f7f7f\">            </span>│<span style=\"color: #7f7f7f; text-decoration-color: #7f7f7f\"> the company to a friend or colleague      </span>│\n",
       "│<span style=\"color: #7f7f7f; text-decoration-color: #7f7f7f\">            </span>│<span style=\"color: #7f7f7f; text-decoration-color: #7f7f7f\">                                           </span>│<span style=\"color: #7f7f7f; text-decoration-color: #7f7f7f\">            </span>│<span style=\"color: #7f7f7f; text-decoration-color: #7f7f7f\"> because she is very satisfied with the    </span>│\n",
       "│<span style=\"color: #7f7f7f; text-decoration-color: #7f7f7f\">            </span>│<span style=\"color: #7f7f7f; text-decoration-color: #7f7f7f\">                                           </span>│<span style=\"color: #7f7f7f; text-decoration-color: #7f7f7f\">            </span>│<span style=\"color: #7f7f7f; text-decoration-color: #7f7f7f\"> company's services.                       </span>│\n",
       "├────────────┼───────────────────────────────────────────┼────────────┼───────────────────────────────────────────┤\n",
       "│<span style=\"color: #7f7f7f; text-decoration-color: #7f7f7f\"> gemini-pro </span>│<span style=\"color: #7f7f7f; text-decoration-color: #7f7f7f\"> Tina, a retiree who is neutral because    </span>│<span style=\"color: #7f7f7f; text-decoration-color: #7f7f7f\"> 7          </span>│<span style=\"color: #7f7f7f; text-decoration-color: #7f7f7f\"> I appreciate the friendly service, but I  </span>│\n",
       "│<span style=\"color: #7f7f7f; text-decoration-color: #7f7f7f\">            </span>│<span style=\"color: #7f7f7f; text-decoration-color: #7f7f7f\"> she appreciates the friendly service but  </span>│<span style=\"color: #7f7f7f; text-decoration-color: #7f7f7f\">            </span>│<span style=\"color: #7f7f7f; text-decoration-color: #7f7f7f\"> find the prices to be a bit high.         </span>│\n",
       "│<span style=\"color: #7f7f7f; text-decoration-color: #7f7f7f\">            </span>│<span style=\"color: #7f7f7f; text-decoration-color: #7f7f7f\"> finds it slightly overpriced              </span>│<span style=\"color: #7f7f7f; text-decoration-color: #7f7f7f\">            </span>│<span style=\"color: #7f7f7f; text-decoration-color: #7f7f7f\">                                           </span>│\n",
       "├────────────┼───────────────────────────────────────────┼────────────┼───────────────────────────────────────────┤\n",
       "│<span style=\"color: #7f7f7f; text-decoration-color: #7f7f7f\"> gemini-pro </span>│<span style=\"color: #7f7f7f; text-decoration-color: #7f7f7f\"> Bob, a busy professional who is           </span>│<span style=\"color: #7f7f7f; text-decoration-color: #7f7f7f\"> 7          </span>│<span style=\"color: #7f7f7f; text-decoration-color: #7f7f7f\"> I'm generally happy with the service, but </span>│\n",
       "│<span style=\"color: #7f7f7f; text-decoration-color: #7f7f7f\">            </span>│<span style=\"color: #7f7f7f; text-decoration-color: #7f7f7f\"> moderately satisfied but wishes the       </span>│<span style=\"color: #7f7f7f; text-decoration-color: #7f7f7f\">            </span>│<span style=\"color: #7f7f7f; text-decoration-color: #7f7f7f\"> I wish it was more flexible with          </span>│\n",
       "│<span style=\"color: #7f7f7f; text-decoration-color: #7f7f7f\">            </span>│<span style=\"color: #7f7f7f; text-decoration-color: #7f7f7f\"> service was more flexible with scheduling </span>│<span style=\"color: #7f7f7f; text-decoration-color: #7f7f7f\">            </span>│<span style=\"color: #7f7f7f; text-decoration-color: #7f7f7f\"> scheduling.                               </span>│\n",
       "├────────────┼───────────────────────────────────────────┼────────────┼───────────────────────────────────────────┤\n",
       "│<span style=\"color: #7f7f7f; text-decoration-color: #7f7f7f\"> gemini-pro </span>│<span style=\"color: #7f7f7f; text-decoration-color: #7f7f7f\"> Greg, an environmentally-conscious        </span>│<span style=\"color: #7f7f7f; text-decoration-color: #7f7f7f\"> 2          </span>│<span style=\"color: #7f7f7f; text-decoration-color: #7f7f7f\"> I am not likely to recommend your company </span>│\n",
       "│<span style=\"color: #7f7f7f; text-decoration-color: #7f7f7f\">            </span>│<span style=\"color: #7f7f7f; text-decoration-color: #7f7f7f\"> customer who is dissatisfied with the     </span>│<span style=\"color: #7f7f7f; text-decoration-color: #7f7f7f\">            </span>│<span style=\"color: #7f7f7f; text-decoration-color: #7f7f7f\"> to a friend or colleague because I am     </span>│\n",
       "│<span style=\"color: #7f7f7f; text-decoration-color: #7f7f7f\">            </span>│<span style=\"color: #7f7f7f; text-decoration-color: #7f7f7f\"> lack of sustainable options               </span>│<span style=\"color: #7f7f7f; text-decoration-color: #7f7f7f\">            </span>│<span style=\"color: #7f7f7f; text-decoration-color: #7f7f7f\"> dissatisfied with the lack of sustainable </span>│\n",
       "│<span style=\"color: #7f7f7f; text-decoration-color: #7f7f7f\">            </span>│<span style=\"color: #7f7f7f; text-decoration-color: #7f7f7f\">                                           </span>│<span style=\"color: #7f7f7f; text-decoration-color: #7f7f7f\">            </span>│<span style=\"color: #7f7f7f; text-decoration-color: #7f7f7f\"> options. I am an                          </span>│\n",
       "│<span style=\"color: #7f7f7f; text-decoration-color: #7f7f7f\">            </span>│<span style=\"color: #7f7f7f; text-decoration-color: #7f7f7f\">                                           </span>│<span style=\"color: #7f7f7f; text-decoration-color: #7f7f7f\">            </span>│<span style=\"color: #7f7f7f; text-decoration-color: #7f7f7f\"> environmentally-conscious customer and I  </span>│\n",
       "│<span style=\"color: #7f7f7f; text-decoration-color: #7f7f7f\">            </span>│<span style=\"color: #7f7f7f; text-decoration-color: #7f7f7f\">                                           </span>│<span style=\"color: #7f7f7f; text-decoration-color: #7f7f7f\">            </span>│<span style=\"color: #7f7f7f; text-decoration-color: #7f7f7f\"> believe that companies have a             </span>│\n",
       "│<span style=\"color: #7f7f7f; text-decoration-color: #7f7f7f\">            </span>│<span style=\"color: #7f7f7f; text-decoration-color: #7f7f7f\">                                           </span>│<span style=\"color: #7f7f7f; text-decoration-color: #7f7f7f\">            </span>│<span style=\"color: #7f7f7f; text-decoration-color: #7f7f7f\"> responsibility to reduce their            </span>│\n",
       "│<span style=\"color: #7f7f7f; text-decoration-color: #7f7f7f\">            </span>│<span style=\"color: #7f7f7f; text-decoration-color: #7f7f7f\">                                           </span>│<span style=\"color: #7f7f7f; text-decoration-color: #7f7f7f\">            </span>│<span style=\"color: #7f7f7f; text-decoration-color: #7f7f7f\"> environmental impact.                     </span>│\n",
       "└────────────┴───────────────────────────────────────────┴────────────┴───────────────────────────────────────────┘\n",
       "</pre>\n"
      ],
      "text/plain": [
       "┏━━━━━━━━━━━━┳━━━━━━━━━━━━━━━━━━━━━━━━━━━━━━━━━━━━━━━━━━━┳━━━━━━━━━━━━┳━━━━━━━━━━━━━━━━━━━━━━━━━━━━━━━━━━━━━━━━━━━┓\n",
       "┃\u001b[1;35m \u001b[0m\u001b[1;35mmodel     \u001b[0m\u001b[1;35m \u001b[0m┃\u001b[1;35m \u001b[0m\u001b[1;35magent                                    \u001b[0m\u001b[1;35m \u001b[0m┃\u001b[1;35m \u001b[0m\u001b[1;35manswer    \u001b[0m\u001b[1;35m \u001b[0m┃\u001b[1;35m \u001b[0m\u001b[1;35mcomment                                  \u001b[0m\u001b[1;35m \u001b[0m┃\n",
       "┃\u001b[1;35m \u001b[0m\u001b[1;35m.model    \u001b[0m\u001b[1;35m \u001b[0m┃\u001b[1;35m \u001b[0m\u001b[1;35m.persona                                 \u001b[0m\u001b[1;35m \u001b[0m┃\u001b[1;35m \u001b[0m\u001b[1;35m.recommend\u001b[0m\u001b[1;35m \u001b[0m┃\u001b[1;35m \u001b[0m\u001b[1;35m.recommend_comment                       \u001b[0m\u001b[1;35m \u001b[0m┃\n",
       "┡━━━━━━━━━━━━╇━━━━━━━━━━━━━━━━━━━━━━━━━━━━━━━━━━━━━━━━━━━╇━━━━━━━━━━━━╇━━━━━━━━━━━━━━━━━━━━━━━━━━━━━━━━━━━━━━━━━━━┩\n",
       "│\u001b[2m \u001b[0m\u001b[2mgemini-pro\u001b[0m\u001b[2m \u001b[0m│\u001b[2m \u001b[0m\u001b[2mSamantha, a new homeowner who is         \u001b[0m\u001b[2m \u001b[0m│\u001b[2m \u001b[0m\u001b[2m10        \u001b[0m\u001b[2m \u001b[0m│\u001b[2m \u001b[0m\u001b[2mThe landscaping makeover completely      \u001b[0m\u001b[2m \u001b[0m│\n",
       "│\u001b[2m            \u001b[0m│\u001b[2m \u001b[0m\u001b[2mdelighted with the transformative        \u001b[0m\u001b[2m \u001b[0m│\u001b[2m            \u001b[0m│\u001b[2m \u001b[0m\u001b[2mtransformed my backyard and made it a    \u001b[0m\u001b[2m \u001b[0m│\n",
       "│\u001b[2m            \u001b[0m│\u001b[2m \u001b[0m\u001b[2mlandscaping makeover she received        \u001b[0m\u001b[2m \u001b[0m│\u001b[2m            \u001b[0m│\u001b[2m \u001b[0m\u001b[2mbeautiful and relaxing space for my      \u001b[0m\u001b[2m \u001b[0m│\n",
       "│\u001b[2m            \u001b[0m│\u001b[2m                                           \u001b[0m│\u001b[2m            \u001b[0m│\u001b[2m \u001b[0m\u001b[2mfamily and friends to enjoy. I'm so happy\u001b[0m\u001b[2m \u001b[0m│\n",
       "│\u001b[2m            \u001b[0m│\u001b[2m                                           \u001b[0m│\u001b[2m            \u001b[0m│\u001b[2m \u001b[0m\u001b[2mwith the results that I've already       \u001b[0m\u001b[2m \u001b[0m│\n",
       "│\u001b[2m            \u001b[0m│\u001b[2m                                           \u001b[0m│\u001b[2m            \u001b[0m│\u001b[2m \u001b[0m\u001b[2mrecommended your company to several      \u001b[0m\u001b[2m \u001b[0m│\n",
       "│\u001b[2m            \u001b[0m│\u001b[2m                                           \u001b[0m│\u001b[2m            \u001b[0m│\u001b[2m \u001b[0m\u001b[2mpeople.                                  \u001b[0m\u001b[2m \u001b[0m│\n",
       "├────────────┼───────────────────────────────────────────┼────────────┼───────────────────────────────────────────┤\n",
       "│\u001b[2m \u001b[0m\u001b[2mgemini-pro\u001b[0m\u001b[2m \u001b[0m│\u001b[2m \u001b[0m\u001b[2mKaren, a meticulous homeowner who is     \u001b[0m\u001b[2m \u001b[0m│\u001b[2m \u001b[0m\u001b[2m10        \u001b[0m\u001b[2m \u001b[0m│\u001b[2m \u001b[0m\u001b[2mKaren is a meticulous homeowner who is   \u001b[0m\u001b[2m \u001b[0m│\n",
       "│\u001b[2m            \u001b[0m│\u001b[2m \u001b[0m\u001b[2mhighly satisfied with the precision and  \u001b[0m\u001b[2m \u001b[0m│\u001b[2m            \u001b[0m│\u001b[2m \u001b[0m\u001b[2mhighly satisfied with the precision and  \u001b[0m\u001b[2m \u001b[0m│\n",
       "│\u001b[2m            \u001b[0m│\u001b[2m \u001b[0m\u001b[2mattention to detail in her garden's      \u001b[0m\u001b[2m \u001b[0m│\u001b[2m            \u001b[0m│\u001b[2m \u001b[0m\u001b[2mattention to detail in her garden's      \u001b[0m\u001b[2m \u001b[0m│\n",
       "│\u001b[2m            \u001b[0m│\u001b[2m \u001b[0m\u001b[2mupkeep                                   \u001b[0m\u001b[2m \u001b[0m│\u001b[2m            \u001b[0m│\u001b[2m \u001b[0m\u001b[2mupkeep. She is very likely to recommend  \u001b[0m\u001b[2m \u001b[0m│\n",
       "│\u001b[2m            \u001b[0m│\u001b[2m                                           \u001b[0m│\u001b[2m            \u001b[0m│\u001b[2m \u001b[0m\u001b[2mthe company to a friend or colleague     \u001b[0m\u001b[2m \u001b[0m│\n",
       "│\u001b[2m            \u001b[0m│\u001b[2m                                           \u001b[0m│\u001b[2m            \u001b[0m│\u001b[2m \u001b[0m\u001b[2mbecause she is very satisfied with the   \u001b[0m\u001b[2m \u001b[0m│\n",
       "│\u001b[2m            \u001b[0m│\u001b[2m                                           \u001b[0m│\u001b[2m            \u001b[0m│\u001b[2m \u001b[0m\u001b[2mcompany's services.                      \u001b[0m\u001b[2m \u001b[0m│\n",
       "├────────────┼───────────────────────────────────────────┼────────────┼───────────────────────────────────────────┤\n",
       "│\u001b[2m \u001b[0m\u001b[2mgemini-pro\u001b[0m\u001b[2m \u001b[0m│\u001b[2m \u001b[0m\u001b[2mTina, a retiree who is neutral because   \u001b[0m\u001b[2m \u001b[0m│\u001b[2m \u001b[0m\u001b[2m7         \u001b[0m\u001b[2m \u001b[0m│\u001b[2m \u001b[0m\u001b[2mI appreciate the friendly service, but I \u001b[0m\u001b[2m \u001b[0m│\n",
       "│\u001b[2m            \u001b[0m│\u001b[2m \u001b[0m\u001b[2mshe appreciates the friendly service but \u001b[0m\u001b[2m \u001b[0m│\u001b[2m            \u001b[0m│\u001b[2m \u001b[0m\u001b[2mfind the prices to be a bit high.        \u001b[0m\u001b[2m \u001b[0m│\n",
       "│\u001b[2m            \u001b[0m│\u001b[2m \u001b[0m\u001b[2mfinds it slightly overpriced             \u001b[0m\u001b[2m \u001b[0m│\u001b[2m            \u001b[0m│\u001b[2m                                           \u001b[0m│\n",
       "├────────────┼───────────────────────────────────────────┼────────────┼───────────────────────────────────────────┤\n",
       "│\u001b[2m \u001b[0m\u001b[2mgemini-pro\u001b[0m\u001b[2m \u001b[0m│\u001b[2m \u001b[0m\u001b[2mBob, a busy professional who is          \u001b[0m\u001b[2m \u001b[0m│\u001b[2m \u001b[0m\u001b[2m7         \u001b[0m\u001b[2m \u001b[0m│\u001b[2m \u001b[0m\u001b[2mI'm generally happy with the service, but\u001b[0m\u001b[2m \u001b[0m│\n",
       "│\u001b[2m            \u001b[0m│\u001b[2m \u001b[0m\u001b[2mmoderately satisfied but wishes the      \u001b[0m\u001b[2m \u001b[0m│\u001b[2m            \u001b[0m│\u001b[2m \u001b[0m\u001b[2mI wish it was more flexible with         \u001b[0m\u001b[2m \u001b[0m│\n",
       "│\u001b[2m            \u001b[0m│\u001b[2m \u001b[0m\u001b[2mservice was more flexible with scheduling\u001b[0m\u001b[2m \u001b[0m│\u001b[2m            \u001b[0m│\u001b[2m \u001b[0m\u001b[2mscheduling.                              \u001b[0m\u001b[2m \u001b[0m│\n",
       "├────────────┼───────────────────────────────────────────┼────────────┼───────────────────────────────────────────┤\n",
       "│\u001b[2m \u001b[0m\u001b[2mgemini-pro\u001b[0m\u001b[2m \u001b[0m│\u001b[2m \u001b[0m\u001b[2mGreg, an environmentally-conscious       \u001b[0m\u001b[2m \u001b[0m│\u001b[2m \u001b[0m\u001b[2m2         \u001b[0m\u001b[2m \u001b[0m│\u001b[2m \u001b[0m\u001b[2mI am not likely to recommend your company\u001b[0m\u001b[2m \u001b[0m│\n",
       "│\u001b[2m            \u001b[0m│\u001b[2m \u001b[0m\u001b[2mcustomer who is dissatisfied with the    \u001b[0m\u001b[2m \u001b[0m│\u001b[2m            \u001b[0m│\u001b[2m \u001b[0m\u001b[2mto a friend or colleague because I am    \u001b[0m\u001b[2m \u001b[0m│\n",
       "│\u001b[2m            \u001b[0m│\u001b[2m \u001b[0m\u001b[2mlack of sustainable options              \u001b[0m\u001b[2m \u001b[0m│\u001b[2m            \u001b[0m│\u001b[2m \u001b[0m\u001b[2mdissatisfied with the lack of sustainable\u001b[0m\u001b[2m \u001b[0m│\n",
       "│\u001b[2m            \u001b[0m│\u001b[2m                                           \u001b[0m│\u001b[2m            \u001b[0m│\u001b[2m \u001b[0m\u001b[2moptions. I am an                         \u001b[0m\u001b[2m \u001b[0m│\n",
       "│\u001b[2m            \u001b[0m│\u001b[2m                                           \u001b[0m│\u001b[2m            \u001b[0m│\u001b[2m \u001b[0m\u001b[2menvironmentally-conscious customer and I \u001b[0m\u001b[2m \u001b[0m│\n",
       "│\u001b[2m            \u001b[0m│\u001b[2m                                           \u001b[0m│\u001b[2m            \u001b[0m│\u001b[2m \u001b[0m\u001b[2mbelieve that companies have a            \u001b[0m\u001b[2m \u001b[0m│\n",
       "│\u001b[2m            \u001b[0m│\u001b[2m                                           \u001b[0m│\u001b[2m            \u001b[0m│\u001b[2m \u001b[0m\u001b[2mresponsibility to reduce their           \u001b[0m\u001b[2m \u001b[0m│\n",
       "│\u001b[2m            \u001b[0m│\u001b[2m                                           \u001b[0m│\u001b[2m            \u001b[0m│\u001b[2m \u001b[0m\u001b[2menvironmental impact.                    \u001b[0m\u001b[2m \u001b[0m│\n",
       "└────────────┴───────────────────────────────────────────┴────────────┴───────────────────────────────────────────┘\n"
      ]
     },
     "metadata": {},
     "output_type": "display_data"
    }
   ],
   "source": [
    "(results\n",
    " .filter(\"model.model == 'gemini-pro'\")\n",
    " .sort_by(\"recommend\", reverse=True)\n",
    " .select(\n",
    "     \"model\",\n",
    "     \"persona\",\n",
    "     \"recommend\", \"recommend_comment\"\n",
    " )\n",
    " .print(format=\"rich\")\n",
    ")"
   ]
  },
  {
   "cell_type": "code",
   "execution_count": 31,
   "id": "4d050e1f-d498-40a8-8993-b42411b7efd5",
   "metadata": {},
   "outputs": [
    {
     "data": {
      "text/html": [
       "<pre style=\"white-space:pre;overflow-x:auto;line-height:normal;font-family:Menlo,'DejaVu Sans Mono',consolas,'Courier New',monospace\">┏━━━━━━━━━━━━━━━━━━━━━━━━━┳━━━━━━━━━━━━━━━━━━━━━━━━━━━━━━━━━━━━━━━━━━━┳━━━━━━━━━━━━━━━━━━━━━━━━━━━━━━━━━━━━━━━━━━━┓\n",
       "┃<span style=\"color: #800080; text-decoration-color: #800080; font-weight: bold\"> answer                  </span>┃<span style=\"color: #800080; text-decoration-color: #800080; font-weight: bold\"> comment                                   </span>┃<span style=\"color: #800080; text-decoration-color: #800080; font-weight: bold\"> answer                                    </span>┃\n",
       "┃<span style=\"color: #800080; text-decoration-color: #800080; font-weight: bold\"> .satisfied_0            </span>┃<span style=\"color: #800080; text-decoration-color: #800080; font-weight: bold\"> .satisfied_0_comment                      </span>┃<span style=\"color: #800080; text-decoration-color: #800080; font-weight: bold\"> .improve_0                                </span>┃\n",
       "┡━━━━━━━━━━━━━━━━━━━━━━━━━╇━━━━━━━━━━━━━━━━━━━━━━━━━━━━━━━━━━━━━━━━━━━╇━━━━━━━━━━━━━━━━━━━━━━━━━━━━━━━━━━━━━━━━━━━┩\n",
       "│<span style=\"color: #7f7f7f; text-decoration-color: #7f7f7f\"> Extremely satisfied     </span>│<span style=\"color: #7f7f7f; text-decoration-color: #7f7f7f\"> The quality of the products used in my    </span>│<span style=\"color: #7f7f7f; text-decoration-color: #7f7f7f\"> I am absolutely thrilled with the product </span>│\n",
       "│<span style=\"color: #7f7f7f; text-decoration-color: #7f7f7f\">                         </span>│<span style=\"color: #7f7f7f; text-decoration-color: #7f7f7f\"> landscaping makeover was exceptional. The </span>│<span style=\"color: #7f7f7f; text-decoration-color: #7f7f7f\"> quality and the transformative            </span>│\n",
       "│<span style=\"color: #7f7f7f; text-decoration-color: #7f7f7f\">                         </span>│<span style=\"color: #7f7f7f; text-decoration-color: #7f7f7f\"> plants were healthy and vibrant, and the  </span>│<span style=\"color: #7f7f7f; text-decoration-color: #7f7f7f\"> landscaping makeover I received from your </span>│\n",
       "│<span style=\"color: #7f7f7f; text-decoration-color: #7f7f7f\">                         </span>│<span style=\"color: #7f7f7f; text-decoration-color: #7f7f7f\"> materials used for the hardscaping were   </span>│<span style=\"color: #7f7f7f; text-decoration-color: #7f7f7f\"> company. The results have exceeded my     </span>│\n",
       "│<span style=\"color: #7f7f7f; text-decoration-color: #7f7f7f\">                         </span>│<span style=\"color: #7f7f7f; text-decoration-color: #7f7f7f\"> durable and attractive. I am confident    </span>│<span style=\"color: #7f7f7f; text-decoration-color: #7f7f7f\"> expectations, and I couldn't be happier   </span>│\n",
       "│<span style=\"color: #7f7f7f; text-decoration-color: #7f7f7f\">                         </span>│<span style=\"color: #7f7f7f; text-decoration-color: #7f7f7f\"> that my new landscape will last for many  </span>│<span style=\"color: #7f7f7f; text-decoration-color: #7f7f7f\"> with the outcome.                         </span>│\n",
       "│<span style=\"color: #7f7f7f; text-decoration-color: #7f7f7f\">                         </span>│<span style=\"color: #7f7f7f; text-decoration-color: #7f7f7f\"> years to come.                            </span>│<span style=\"color: #7f7f7f; text-decoration-color: #7f7f7f\">                                           </span>│\n",
       "├─────────────────────────┼───────────────────────────────────────────┼───────────────────────────────────────────┤\n",
       "│<span style=\"color: #7f7f7f; text-decoration-color: #7f7f7f\"> Extremely satisfied     </span>│<span style=\"color: #7f7f7f; text-decoration-color: #7f7f7f\"> As a meticulous homeowner, I am highly    </span>│<span style=\"color: #7f7f7f; text-decoration-color: #7f7f7f\"> As a meticulous homeowner who takes great </span>│\n",
       "│<span style=\"color: #7f7f7f; text-decoration-color: #7f7f7f\">                         </span>│<span style=\"color: #7f7f7f; text-decoration-color: #7f7f7f\"> satisfied with the product quality of my  </span>│<span style=\"color: #7f7f7f; text-decoration-color: #7f7f7f\"> pride in my garden, I am extremely        </span>│\n",
       "│<span style=\"color: #7f7f7f; text-decoration-color: #7f7f7f\">                         </span>│<span style=\"color: #7f7f7f; text-decoration-color: #7f7f7f\"> garden's upkeep. The precision and        </span>│<span style=\"color: #7f7f7f; text-decoration-color: #7f7f7f\"> satisfied with the quality of your        </span>│\n",
       "│<span style=\"color: #7f7f7f; text-decoration-color: #7f7f7f\">                         </span>│<span style=\"color: #7f7f7f; text-decoration-color: #7f7f7f\"> attention to detail are impeccable,       </span>│<span style=\"color: #7f7f7f; text-decoration-color: #7f7f7f\"> products. Your attention to detail and    </span>│\n",
       "│<span style=\"color: #7f7f7f; text-decoration-color: #7f7f7f\">                         </span>│<span style=\"color: #7f7f7f; text-decoration-color: #7f7f7f\"> resulting in a stunning and vibrant       </span>│<span style=\"color: #7f7f7f; text-decoration-color: #7f7f7f\"> commitment to precision have been evident </span>│\n",
       "│<span style=\"color: #7f7f7f; text-decoration-color: #7f7f7f\">                         </span>│<span style=\"color: #7f7f7f; text-decoration-color: #7f7f7f\"> outdoor space.                            </span>│<span style=\"color: #7f7f7f; text-decoration-color: #7f7f7f\"> in every interaction I've had with your   </span>│\n",
       "│<span style=\"color: #7f7f7f; text-decoration-color: #7f7f7f\">                         </span>│<span style=\"color: #7f7f7f; text-decoration-color: #7f7f7f\">                                           </span>│<span style=\"color: #7f7f7f; text-decoration-color: #7f7f7f\"> company.                                  </span>│\n",
       "│<span style=\"color: #7f7f7f; text-decoration-color: #7f7f7f\">                         </span>│<span style=\"color: #7f7f7f; text-decoration-color: #7f7f7f\">                                           </span>│<span style=\"color: #7f7f7f; text-decoration-color: #7f7f7f\">                                           </span>│\n",
       "│<span style=\"color: #7f7f7f; text-decoration-color: #7f7f7f\">                         </span>│<span style=\"color: #7f7f7f; text-decoration-color: #7f7f7f\">                                           </span>│<span style=\"color: #7f7f7f; text-decoration-color: #7f7f7f\"> However, there is one area where I        </span>│\n",
       "│<span style=\"color: #7f7f7f; text-decoration-color: #7f7f7f\">                         </span>│<span style=\"color: #7f7f7f; text-decoration-color: #7f7f7f\">                                           </span>│<span style=\"color: #7f7f7f; text-decoration-color: #7f7f7f\"> believe you could further enhance my      </span>│\n",
       "│<span style=\"color: #7f7f7f; text-decoration-color: #7f7f7f\">                         </span>│<span style=\"color: #7f7f7f; text-decoration-color: #7f7f7f\">                                           </span>│<span style=\"color: #7f7f7f; text-decoration-color: #7f7f7f\"> experience:                               </span>│\n",
       "│<span style=\"color: #7f7f7f; text-decoration-color: #7f7f7f\">                         </span>│<span style=\"color: #7f7f7f; text-decoration-color: #7f7f7f\">                                           </span>│<span style=\"color: #7f7f7f; text-decoration-color: #7f7f7f\">                                           </span>│\n",
       "│<span style=\"color: #7f7f7f; text-decoration-color: #7f7f7f\">                         </span>│<span style=\"color: #7f7f7f; text-decoration-color: #7f7f7f\">                                           </span>│<span style=\"color: #7f7f7f; text-decoration-color: #7f7f7f\"> **Personalized Recommendations:**         </span>│\n",
       "│<span style=\"color: #7f7f7f; text-decoration-color: #7f7f7f\">                         </span>│<span style=\"color: #7f7f7f; text-decoration-color: #7f7f7f\">                                           </span>│<span style=\"color: #7f7f7f; text-decoration-color: #7f7f7f\">                                           </span>│\n",
       "│<span style=\"color: #7f7f7f; text-decoration-color: #7f7f7f\">                         </span>│<span style=\"color: #7f7f7f; text-decoration-color: #7f7f7f\">                                           </span>│<span style=\"color: #7f7f7f; text-decoration-color: #7f7f7f\"> I would appreciate it if you could        </span>│\n",
       "│<span style=\"color: #7f7f7f; text-decoration-color: #7f7f7f\">                         </span>│<span style=\"color: #7f7f7f; text-decoration-color: #7f7f7f\">                                           </span>│<span style=\"color: #7f7f7f; text-decoration-color: #7f7f7f\"> provide personalized recommendations      </span>│\n",
       "│<span style=\"color: #7f7f7f; text-decoration-color: #7f7f7f\">                         </span>│<span style=\"color: #7f7f7f; text-decoration-color: #7f7f7f\">                                           </span>│<span style=\"color: #7f7f7f; text-decoration-color: #7f7f7f\"> based on my specific gardening needs and  </span>│\n",
       "│<span style=\"color: #7f7f7f; text-decoration-color: #7f7f7f\">                         </span>│<span style=\"color: #7f7f7f; text-decoration-color: #7f7f7f\">                                           </span>│<span style=\"color: #7f7f7f; text-decoration-color: #7f7f7f\"> preferences. For example, I would find it </span>│\n",
       "│<span style=\"color: #7f7f7f; text-decoration-color: #7f7f7f\">                         </span>│<span style=\"color: #7f7f7f; text-decoration-color: #7f7f7f\">                                           </span>│<span style=\"color: #7f7f7f; text-decoration-color: #7f7f7f\"> helpful to receive tailored suggestions   </span>│\n",
       "│<span style=\"color: #7f7f7f; text-decoration-color: #7f7f7f\">                         </span>│<span style=\"color: #7f7f7f; text-decoration-color: #7f7f7f\">                                           </span>│<span style=\"color: #7f7f7f; text-decoration-color: #7f7f7f\"> for plants that would thrive in my local  </span>│\n",
       "│<span style=\"color: #7f7f7f; text-decoration-color: #7f7f7f\">                         </span>│<span style=\"color: #7f7f7f; text-decoration-color: #7f7f7f\">                                           </span>│<span style=\"color: #7f7f7f; text-decoration-color: #7f7f7f\"> climate and soil conditions, as well as   </span>│\n",
       "│<span style=\"color: #7f7f7f; text-decoration-color: #7f7f7f\">                         </span>│<span style=\"color: #7f7f7f; text-decoration-color: #7f7f7f\">                                           </span>│<span style=\"color: #7f7f7f; text-decoration-color: #7f7f7f\"> tips on how to optimize their growth.     </span>│\n",
       "├─────────────────────────┼───────────────────────────────────────────┼───────────────────────────────────────────┤\n",
       "│<span style=\"color: #7f7f7f; text-decoration-color: #7f7f7f\"> Moderately dissatisfied </span>│<span style=\"color: #7f7f7f; text-decoration-color: #7f7f7f\"> I am moderately dissatisfied with the     </span>│<span style=\"color: #7f7f7f; text-decoration-color: #7f7f7f\"> Yes, there are a few things your company  </span>│\n",
       "│<span style=\"color: #7f7f7f; text-decoration-color: #7f7f7f\">                         </span>│<span style=\"color: #7f7f7f; text-decoration-color: #7f7f7f\"> product quality because I am concerned    </span>│<span style=\"color: #7f7f7f; text-decoration-color: #7f7f7f\"> can do to improve my experience:          </span>│\n",
       "│<span style=\"color: #7f7f7f; text-decoration-color: #7f7f7f\">                         </span>│<span style=\"color: #7f7f7f; text-decoration-color: #7f7f7f\"> about the environmental impact of the     </span>│<span style=\"color: #7f7f7f; text-decoration-color: #7f7f7f\">                                           </span>│\n",
       "│<span style=\"color: #7f7f7f; text-decoration-color: #7f7f7f\">                         </span>│<span style=\"color: #7f7f7f; text-decoration-color: #7f7f7f\"> products. I would like to see more        </span>│<span style=\"color: #7f7f7f; text-decoration-color: #7f7f7f\"> * **Offer more sustainable products.**    </span>│\n",
       "│<span style=\"color: #7f7f7f; text-decoration-color: #7f7f7f\">                         </span>│<span style=\"color: #7f7f7f; text-decoration-color: #7f7f7f\"> sustainable options available.            </span>│<span style=\"color: #7f7f7f; text-decoration-color: #7f7f7f\"> I'm particularly interested in products   </span>│\n",
       "│<span style=\"color: #7f7f7f; text-decoration-color: #7f7f7f\">                         </span>│<span style=\"color: #7f7f7f; text-decoration-color: #7f7f7f\">                                           </span>│<span style=\"color: #7f7f7f; text-decoration-color: #7f7f7f\"> that are made from recycled materials,    </span>│\n",
       "│<span style=\"color: #7f7f7f; text-decoration-color: #7f7f7f\">                         </span>│<span style=\"color: #7f7f7f; text-decoration-color: #7f7f7f\">                                           </span>│<span style=\"color: #7f7f7f; text-decoration-color: #7f7f7f\"> are biodegradable, or are otherwise       </span>│\n",
       "│<span style=\"color: #7f7f7f; text-decoration-color: #7f7f7f\">                         </span>│<span style=\"color: #7f7f7f; text-decoration-color: #7f7f7f\">                                           </span>│<span style=\"color: #7f7f7f; text-decoration-color: #7f7f7f\"> environmentally friendly.                 </span>│\n",
       "│<span style=\"color: #7f7f7f; text-decoration-color: #7f7f7f\">                         </span>│<span style=\"color: #7f7f7f; text-decoration-color: #7f7f7f\">                                           </span>│<span style=\"color: #7f7f7f; text-decoration-color: #7f7f7f\"> * **Make it easier to find sustainable    </span>│\n",
       "│<span style=\"color: #7f7f7f; text-decoration-color: #7f7f7f\">                         </span>│<span style=\"color: #7f7f7f; text-decoration-color: #7f7f7f\">                                           </span>│<span style=\"color: #7f7f7f; text-decoration-color: #7f7f7f\"> products.** I shouldn't have to dig       </span>│\n",
       "│<span style=\"color: #7f7f7f; text-decoration-color: #7f7f7f\">                         </span>│<span style=\"color: #7f7f7f; text-decoration-color: #7f7f7f\">                                           </span>│<span style=\"color: #7f7f7f; text-decoration-color: #7f7f7f\"> through your website or store to find     </span>│\n",
       "│<span style=\"color: #7f7f7f; text-decoration-color: #7f7f7f\">                         </span>│<span style=\"color: #7f7f7f; text-decoration-color: #7f7f7f\">                                           </span>│<span style=\"color: #7f7f7f; text-decoration-color: #7f7f7f\"> products that meet my needs. You should   </span>│\n",
       "│<span style=\"color: #7f7f7f; text-decoration-color: #7f7f7f\">                         </span>│<span style=\"color: #7f7f7f; text-decoration-color: #7f7f7f\">                                           </span>│<span style=\"color: #7f7f7f; text-decoration-color: #7f7f7f\"> have a dedicated section for sustainable  </span>│\n",
       "│<span style=\"color: #7f7f7f; text-decoration-color: #7f7f7f\">                         </span>│<span style=\"color: #7f7f7f; text-decoration-color: #7f7f7f\">                                           </span>│<span style=\"color: #7f7f7f; text-decoration-color: #7f7f7f\"> products, or at least make it easy to     </span>│\n",
       "│<span style=\"color: #7f7f7f; text-decoration-color: #7f7f7f\">                         </span>│<span style=\"color: #7f7f7f; text-decoration-color: #7f7f7f\">                                           </span>│<span style=\"color: #7f7f7f; text-decoration-color: #7f7f7f\"> filter products by their environmental    </span>│\n",
       "│<span style=\"color: #7f7f7f; text-decoration-color: #7f7f7f\">                         </span>│<span style=\"color: #7f7f7f; text-decoration-color: #7f7f7f\">                                           </span>│<span style=\"color: #7f7f7f; text-decoration-color: #7f7f7f\"> impact.                                   </span>│\n",
       "│<span style=\"color: #7f7f7f; text-decoration-color: #7f7f7f\">                         </span>│<span style=\"color: #7f7f7f; text-decoration-color: #7f7f7f\">                                           </span>│<span style=\"color: #7f7f7f; text-decoration-color: #7f7f7f\"> * **Educate your customers about          </span>│\n",
       "│<span style=\"color: #7f7f7f; text-decoration-color: #7f7f7f\">                         </span>│<span style=\"color: #7f7f7f; text-decoration-color: #7f7f7f\">                                           </span>│<span style=\"color: #7f7f7f; text-decoration-color: #7f7f7f\"> sustainability.** Many people don't       </span>│\n",
       "│<span style=\"color: #7f7f7f; text-decoration-color: #7f7f7f\">                         </span>│<span style=\"color: #7f7f7f; text-decoration-color: #7f7f7f\">                                           </span>│<span style=\"color: #7f7f7f; text-decoration-color: #7f7f7f\"> realize the impact that their purchases   </span>│\n",
       "│<span style=\"color: #7f7f7f; text-decoration-color: #7f7f7f\">                         </span>│<span style=\"color: #7f7f7f; text-decoration-color: #7f7f7f\">                                           </span>│<span style=\"color: #7f7f7f; text-decoration-color: #7f7f7f\"> have on the environment. You can help to  </span>│\n",
       "│<span style=\"color: #7f7f7f; text-decoration-color: #7f7f7f\">                         </span>│<span style=\"color: #7f7f7f; text-decoration-color: #7f7f7f\">                                           </span>│<span style=\"color: #7f7f7f; text-decoration-color: #7f7f7f\"> change that by providing information      </span>│\n",
       "│<span style=\"color: #7f7f7f; text-decoration-color: #7f7f7f\">                         </span>│<span style=\"color: #7f7f7f; text-decoration-color: #7f7f7f\">                                           </span>│<span style=\"color: #7f7f7f; text-decoration-color: #7f7f7f\"> about the environmental benefits of       </span>│\n",
       "│<span style=\"color: #7f7f7f; text-decoration-color: #7f7f7f\">                         </span>│<span style=\"color: #7f7f7f; text-decoration-color: #7f7f7f\">                                           </span>│<span style=\"color: #7f7f7f; text-decoration-color: #7f7f7f\"> sustainable products.                     </span>│\n",
       "├─────────────────────────┼───────────────────────────────────────────┼───────────────────────────────────────────┤\n",
       "│<span style=\"color: #7f7f7f; text-decoration-color: #7f7f7f\"> Moderately satisfied    </span>│<span style=\"color: #7f7f7f; text-decoration-color: #7f7f7f\"> The products are generally of good        </span>│<span style=\"color: #7f7f7f; text-decoration-color: #7f7f7f\"> As a retiree, I'm always looking for ways </span>│\n",
       "│<span style=\"color: #7f7f7f; text-decoration-color: #7f7f7f\">                         </span>│<span style=\"color: #7f7f7f; text-decoration-color: #7f7f7f\"> quality, but I find them to be a bit      </span>│<span style=\"color: #7f7f7f; text-decoration-color: #7f7f7f\"> to save money. While I appreciate the     </span>│\n",
       "│<span style=\"color: #7f7f7f; text-decoration-color: #7f7f7f\">                         </span>│<span style=\"color: #7f7f7f; text-decoration-color: #7f7f7f\"> overpriced.                               </span>│<span style=\"color: #7f7f7f; text-decoration-color: #7f7f7f\"> friendly service your company provides, I </span>│\n",
       "│<span style=\"color: #7f7f7f; text-decoration-color: #7f7f7f\">                         </span>│<span style=\"color: #7f7f7f; text-decoration-color: #7f7f7f\">                                           </span>│<span style=\"color: #7f7f7f; text-decoration-color: #7f7f7f\"> find the prices to be a bit steep. If you </span>│\n",
       "│<span style=\"color: #7f7f7f; text-decoration-color: #7f7f7f\">                         </span>│<span style=\"color: #7f7f7f; text-decoration-color: #7f7f7f\">                                           </span>│<span style=\"color: #7f7f7f; text-decoration-color: #7f7f7f\"> could offer more discounts or promotions, </span>│\n",
       "│<span style=\"color: #7f7f7f; text-decoration-color: #7f7f7f\">                         </span>│<span style=\"color: #7f7f7f; text-decoration-color: #7f7f7f\">                                           </span>│<span style=\"color: #7f7f7f; text-decoration-color: #7f7f7f\"> I would be more likely to make repeat     </span>│\n",
       "│<span style=\"color: #7f7f7f; text-decoration-color: #7f7f7f\">                         </span>│<span style=\"color: #7f7f7f; text-decoration-color: #7f7f7f\">                                           </span>│<span style=\"color: #7f7f7f; text-decoration-color: #7f7f7f\"> purchases. Additionally, I would          </span>│\n",
       "│<span style=\"color: #7f7f7f; text-decoration-color: #7f7f7f\">                         </span>│<span style=\"color: #7f7f7f; text-decoration-color: #7f7f7f\">                                           </span>│<span style=\"color: #7f7f7f; text-decoration-color: #7f7f7f\"> appreciate it if you could expand your    </span>│\n",
       "│<span style=\"color: #7f7f7f; text-decoration-color: #7f7f7f\">                         </span>│<span style=\"color: #7f7f7f; text-decoration-color: #7f7f7f\">                                           </span>│<span style=\"color: #7f7f7f; text-decoration-color: #7f7f7f\"> product line to include more affordable   </span>│\n",
       "│<span style=\"color: #7f7f7f; text-decoration-color: #7f7f7f\">                         </span>│<span style=\"color: #7f7f7f; text-decoration-color: #7f7f7f\">                                           </span>│<span style=\"color: #7f7f7f; text-decoration-color: #7f7f7f\"> options.                                  </span>│\n",
       "├─────────────────────────┼───────────────────────────────────────────┼───────────────────────────────────────────┤\n",
       "│<span style=\"color: #7f7f7f; text-decoration-color: #7f7f7f\"> Moderately satisfied    </span>│<span style=\"color: #7f7f7f; text-decoration-color: #7f7f7f\"> I've been generally happy with the        </span>│<span style=\"color: #7f7f7f; text-decoration-color: #7f7f7f\"> Sure, there are a few things that your    </span>│\n",
       "│<span style=\"color: #7f7f7f; text-decoration-color: #7f7f7f\">                         </span>│<span style=\"color: #7f7f7f; text-decoration-color: #7f7f7f\"> quality of the products I've purchased    </span>│<span style=\"color: #7f7f7f; text-decoration-color: #7f7f7f\"> company can do to improve my experience:  </span>│\n",
       "│<span style=\"color: #7f7f7f; text-decoration-color: #7f7f7f\">                         </span>│<span style=\"color: #7f7f7f; text-decoration-color: #7f7f7f\"> from your company. The materials are      </span>│<span style=\"color: #7f7f7f; text-decoration-color: #7f7f7f\">                                           </span>│\n",
       "│<span style=\"color: #7f7f7f; text-decoration-color: #7f7f7f\">                         </span>│<span style=\"color: #7f7f7f; text-decoration-color: #7f7f7f\"> high-quality, and the construction is     </span>│<span style=\"color: #7f7f7f; text-decoration-color: #7f7f7f\"> * **Offer more flexible scheduling        </span>│\n",
       "│<span style=\"color: #7f7f7f; text-decoration-color: #7f7f7f\">                         </span>│<span style=\"color: #7f7f7f; text-decoration-color: #7f7f7f\"> solid. However, I do wish there was more  </span>│<span style=\"color: #7f7f7f; text-decoration-color: #7f7f7f\"> options.** I'm a busy professional, and   </span>│\n",
       "│<span style=\"color: #7f7f7f; text-decoration-color: #7f7f7f\">                         </span>│<span style=\"color: #7f7f7f; text-decoration-color: #7f7f7f\"> flexibility with scheduling deliveries. I </span>│<span style=\"color: #7f7f7f; text-decoration-color: #7f7f7f\"> it can be difficult to find time to       </span>│\n",
       "│<span style=\"color: #7f7f7f; text-decoration-color: #7f7f7f\">                         </span>│<span style=\"color: #7f7f7f; text-decoration-color: #7f7f7f\"> often have to rearrange my schedule to    </span>│<span style=\"color: #7f7f7f; text-decoration-color: #7f7f7f\"> schedule appointments. If you could offer </span>│\n",
       "│<span style=\"color: #7f7f7f; text-decoration-color: #7f7f7f\">                         </span>│<span style=\"color: #7f7f7f; text-decoration-color: #7f7f7f\"> accommodate your delivery times, which    </span>│<span style=\"color: #7f7f7f; text-decoration-color: #7f7f7f\"> more flexible scheduling options, such as </span>│\n",
       "│<span style=\"color: #7f7f7f; text-decoration-color: #7f7f7f\">                         </span>│<span style=\"color: #7f7f7f; text-decoration-color: #7f7f7f\"> can be inconvenient.                      </span>│<span style=\"color: #7f7f7f; text-decoration-color: #7f7f7f\"> evening or weekend appointments, it would </span>│\n",
       "│<span style=\"color: #7f7f7f; text-decoration-color: #7f7f7f\">                         </span>│<span style=\"color: #7f7f7f; text-decoration-color: #7f7f7f\">                                           </span>│<span style=\"color: #7f7f7f; text-decoration-color: #7f7f7f\"> be much easier for me to get the service  </span>│\n",
       "│<span style=\"color: #7f7f7f; text-decoration-color: #7f7f7f\">                         </span>│<span style=\"color: #7f7f7f; text-decoration-color: #7f7f7f\">                                           </span>│<span style=\"color: #7f7f7f; text-decoration-color: #7f7f7f\"> I need.                                   </span>│\n",
       "│<span style=\"color: #7f7f7f; text-decoration-color: #7f7f7f\">                         </span>│<span style=\"color: #7f7f7f; text-decoration-color: #7f7f7f\">                                           </span>│<span style=\"color: #7f7f7f; text-decoration-color: #7f7f7f\"> * **Improve communication.** I've had a   </span>│\n",
       "│<span style=\"color: #7f7f7f; text-decoration-color: #7f7f7f\">                         </span>│<span style=\"color: #7f7f7f; text-decoration-color: #7f7f7f\">                                           </span>│<span style=\"color: #7f7f7f; text-decoration-color: #7f7f7f\"> few instances where I've had to           </span>│\n",
       "│<span style=\"color: #7f7f7f; text-decoration-color: #7f7f7f\">                         </span>│<span style=\"color: #7f7f7f; text-decoration-color: #7f7f7f\">                                           </span>│<span style=\"color: #7f7f7f; text-decoration-color: #7f7f7f\"> reschedule appointments at the last       </span>│\n",
       "│<span style=\"color: #7f7f7f; text-decoration-color: #7f7f7f\">                         </span>│<span style=\"color: #7f7f7f; text-decoration-color: #7f7f7f\">                                           </span>│<span style=\"color: #7f7f7f; text-decoration-color: #7f7f7f\"> minute, and I've found that the           </span>│\n",
       "│<span style=\"color: #7f7f7f; text-decoration-color: #7f7f7f\">                         </span>│<span style=\"color: #7f7f7f; text-decoration-color: #7f7f7f\">                                           </span>│<span style=\"color: #7f7f7f; text-decoration-color: #7f7f7f\"> communication from your company has been  </span>│\n",
       "│<span style=\"color: #7f7f7f; text-decoration-color: #7f7f7f\">                         </span>│<span style=\"color: #7f7f7f; text-decoration-color: #7f7f7f\">                                           </span>│<span style=\"color: #7f7f7f; text-decoration-color: #7f7f7f\"> lacking. If you could improve             </span>│\n",
       "│<span style=\"color: #7f7f7f; text-decoration-color: #7f7f7f\">                         </span>│<span style=\"color: #7f7f7f; text-decoration-color: #7f7f7f\">                                           </span>│<span style=\"color: #7f7f7f; text-decoration-color: #7f7f7f\"> communication, it would help me to avoid  </span>│\n",
       "│<span style=\"color: #7f7f7f; text-decoration-color: #7f7f7f\">                         </span>│<span style=\"color: #7f7f7f; text-decoration-color: #7f7f7f\">                                           </span>│<span style=\"color: #7f7f7f; text-decoration-color: #7f7f7f\"> these situations in the future.           </span>│\n",
       "└─────────────────────────┴───────────────────────────────────────────┴───────────────────────────────────────────┘\n",
       "</pre>\n"
      ],
      "text/plain": [
       "┏━━━━━━━━━━━━━━━━━━━━━━━━━┳━━━━━━━━━━━━━━━━━━━━━━━━━━━━━━━━━━━━━━━━━━━┳━━━━━━━━━━━━━━━━━━━━━━━━━━━━━━━━━━━━━━━━━━━┓\n",
       "┃\u001b[1;35m \u001b[0m\u001b[1;35manswer                 \u001b[0m\u001b[1;35m \u001b[0m┃\u001b[1;35m \u001b[0m\u001b[1;35mcomment                                  \u001b[0m\u001b[1;35m \u001b[0m┃\u001b[1;35m \u001b[0m\u001b[1;35manswer                                   \u001b[0m\u001b[1;35m \u001b[0m┃\n",
       "┃\u001b[1;35m \u001b[0m\u001b[1;35m.satisfied_0           \u001b[0m\u001b[1;35m \u001b[0m┃\u001b[1;35m \u001b[0m\u001b[1;35m.satisfied_0_comment                     \u001b[0m\u001b[1;35m \u001b[0m┃\u001b[1;35m \u001b[0m\u001b[1;35m.improve_0                               \u001b[0m\u001b[1;35m \u001b[0m┃\n",
       "┡━━━━━━━━━━━━━━━━━━━━━━━━━╇━━━━━━━━━━━━━━━━━━━━━━━━━━━━━━━━━━━━━━━━━━━╇━━━━━━━━━━━━━━━━━━━━━━━━━━━━━━━━━━━━━━━━━━━┩\n",
       "│\u001b[2m \u001b[0m\u001b[2mExtremely satisfied    \u001b[0m\u001b[2m \u001b[0m│\u001b[2m \u001b[0m\u001b[2mThe quality of the products used in my   \u001b[0m\u001b[2m \u001b[0m│\u001b[2m \u001b[0m\u001b[2mI am absolutely thrilled with the product\u001b[0m\u001b[2m \u001b[0m│\n",
       "│\u001b[2m                         \u001b[0m│\u001b[2m \u001b[0m\u001b[2mlandscaping makeover was exceptional. The\u001b[0m\u001b[2m \u001b[0m│\u001b[2m \u001b[0m\u001b[2mquality and the transformative           \u001b[0m\u001b[2m \u001b[0m│\n",
       "│\u001b[2m                         \u001b[0m│\u001b[2m \u001b[0m\u001b[2mplants were healthy and vibrant, and the \u001b[0m\u001b[2m \u001b[0m│\u001b[2m \u001b[0m\u001b[2mlandscaping makeover I received from your\u001b[0m\u001b[2m \u001b[0m│\n",
       "│\u001b[2m                         \u001b[0m│\u001b[2m \u001b[0m\u001b[2mmaterials used for the hardscaping were  \u001b[0m\u001b[2m \u001b[0m│\u001b[2m \u001b[0m\u001b[2mcompany. The results have exceeded my    \u001b[0m\u001b[2m \u001b[0m│\n",
       "│\u001b[2m                         \u001b[0m│\u001b[2m \u001b[0m\u001b[2mdurable and attractive. I am confident   \u001b[0m\u001b[2m \u001b[0m│\u001b[2m \u001b[0m\u001b[2mexpectations, and I couldn't be happier  \u001b[0m\u001b[2m \u001b[0m│\n",
       "│\u001b[2m                         \u001b[0m│\u001b[2m \u001b[0m\u001b[2mthat my new landscape will last for many \u001b[0m\u001b[2m \u001b[0m│\u001b[2m \u001b[0m\u001b[2mwith the outcome.                        \u001b[0m\u001b[2m \u001b[0m│\n",
       "│\u001b[2m                         \u001b[0m│\u001b[2m \u001b[0m\u001b[2myears to come.                           \u001b[0m\u001b[2m \u001b[0m│\u001b[2m                                           \u001b[0m│\n",
       "├─────────────────────────┼───────────────────────────────────────────┼───────────────────────────────────────────┤\n",
       "│\u001b[2m \u001b[0m\u001b[2mExtremely satisfied    \u001b[0m\u001b[2m \u001b[0m│\u001b[2m \u001b[0m\u001b[2mAs a meticulous homeowner, I am highly   \u001b[0m\u001b[2m \u001b[0m│\u001b[2m \u001b[0m\u001b[2mAs a meticulous homeowner who takes great\u001b[0m\u001b[2m \u001b[0m│\n",
       "│\u001b[2m                         \u001b[0m│\u001b[2m \u001b[0m\u001b[2msatisfied with the product quality of my \u001b[0m\u001b[2m \u001b[0m│\u001b[2m \u001b[0m\u001b[2mpride in my garden, I am extremely       \u001b[0m\u001b[2m \u001b[0m│\n",
       "│\u001b[2m                         \u001b[0m│\u001b[2m \u001b[0m\u001b[2mgarden's upkeep. The precision and       \u001b[0m\u001b[2m \u001b[0m│\u001b[2m \u001b[0m\u001b[2msatisfied with the quality of your       \u001b[0m\u001b[2m \u001b[0m│\n",
       "│\u001b[2m                         \u001b[0m│\u001b[2m \u001b[0m\u001b[2mattention to detail are impeccable,      \u001b[0m\u001b[2m \u001b[0m│\u001b[2m \u001b[0m\u001b[2mproducts. Your attention to detail and   \u001b[0m\u001b[2m \u001b[0m│\n",
       "│\u001b[2m                         \u001b[0m│\u001b[2m \u001b[0m\u001b[2mresulting in a stunning and vibrant      \u001b[0m\u001b[2m \u001b[0m│\u001b[2m \u001b[0m\u001b[2mcommitment to precision have been evident\u001b[0m\u001b[2m \u001b[0m│\n",
       "│\u001b[2m                         \u001b[0m│\u001b[2m \u001b[0m\u001b[2moutdoor space.                           \u001b[0m\u001b[2m \u001b[0m│\u001b[2m \u001b[0m\u001b[2min every interaction I've had with your  \u001b[0m\u001b[2m \u001b[0m│\n",
       "│\u001b[2m                         \u001b[0m│\u001b[2m                                           \u001b[0m│\u001b[2m \u001b[0m\u001b[2mcompany.                                 \u001b[0m\u001b[2m \u001b[0m│\n",
       "│\u001b[2m                         \u001b[0m│\u001b[2m                                           \u001b[0m│\u001b[2m \u001b[0m\u001b[2m                                         \u001b[0m\u001b[2m \u001b[0m│\n",
       "│\u001b[2m                         \u001b[0m│\u001b[2m                                           \u001b[0m│\u001b[2m \u001b[0m\u001b[2mHowever, there is one area where I       \u001b[0m\u001b[2m \u001b[0m│\n",
       "│\u001b[2m                         \u001b[0m│\u001b[2m                                           \u001b[0m│\u001b[2m \u001b[0m\u001b[2mbelieve you could further enhance my     \u001b[0m\u001b[2m \u001b[0m│\n",
       "│\u001b[2m                         \u001b[0m│\u001b[2m                                           \u001b[0m│\u001b[2m \u001b[0m\u001b[2mexperience:                              \u001b[0m\u001b[2m \u001b[0m│\n",
       "│\u001b[2m                         \u001b[0m│\u001b[2m                                           \u001b[0m│\u001b[2m \u001b[0m\u001b[2m                                         \u001b[0m\u001b[2m \u001b[0m│\n",
       "│\u001b[2m                         \u001b[0m│\u001b[2m                                           \u001b[0m│\u001b[2m \u001b[0m\u001b[2m**Personalized Recommendations:**        \u001b[0m\u001b[2m \u001b[0m│\n",
       "│\u001b[2m                         \u001b[0m│\u001b[2m                                           \u001b[0m│\u001b[2m \u001b[0m\u001b[2m                                         \u001b[0m\u001b[2m \u001b[0m│\n",
       "│\u001b[2m                         \u001b[0m│\u001b[2m                                           \u001b[0m│\u001b[2m \u001b[0m\u001b[2mI would appreciate it if you could       \u001b[0m\u001b[2m \u001b[0m│\n",
       "│\u001b[2m                         \u001b[0m│\u001b[2m                                           \u001b[0m│\u001b[2m \u001b[0m\u001b[2mprovide personalized recommendations     \u001b[0m\u001b[2m \u001b[0m│\n",
       "│\u001b[2m                         \u001b[0m│\u001b[2m                                           \u001b[0m│\u001b[2m \u001b[0m\u001b[2mbased on my specific gardening needs and \u001b[0m\u001b[2m \u001b[0m│\n",
       "│\u001b[2m                         \u001b[0m│\u001b[2m                                           \u001b[0m│\u001b[2m \u001b[0m\u001b[2mpreferences. For example, I would find it\u001b[0m\u001b[2m \u001b[0m│\n",
       "│\u001b[2m                         \u001b[0m│\u001b[2m                                           \u001b[0m│\u001b[2m \u001b[0m\u001b[2mhelpful to receive tailored suggestions  \u001b[0m\u001b[2m \u001b[0m│\n",
       "│\u001b[2m                         \u001b[0m│\u001b[2m                                           \u001b[0m│\u001b[2m \u001b[0m\u001b[2mfor plants that would thrive in my local \u001b[0m\u001b[2m \u001b[0m│\n",
       "│\u001b[2m                         \u001b[0m│\u001b[2m                                           \u001b[0m│\u001b[2m \u001b[0m\u001b[2mclimate and soil conditions, as well as  \u001b[0m\u001b[2m \u001b[0m│\n",
       "│\u001b[2m                         \u001b[0m│\u001b[2m                                           \u001b[0m│\u001b[2m \u001b[0m\u001b[2mtips on how to optimize their growth.    \u001b[0m\u001b[2m \u001b[0m│\n",
       "├─────────────────────────┼───────────────────────────────────────────┼───────────────────────────────────────────┤\n",
       "│\u001b[2m \u001b[0m\u001b[2mModerately dissatisfied\u001b[0m\u001b[2m \u001b[0m│\u001b[2m \u001b[0m\u001b[2mI am moderately dissatisfied with the    \u001b[0m\u001b[2m \u001b[0m│\u001b[2m \u001b[0m\u001b[2mYes, there are a few things your company \u001b[0m\u001b[2m \u001b[0m│\n",
       "│\u001b[2m                         \u001b[0m│\u001b[2m \u001b[0m\u001b[2mproduct quality because I am concerned   \u001b[0m\u001b[2m \u001b[0m│\u001b[2m \u001b[0m\u001b[2mcan do to improve my experience:         \u001b[0m\u001b[2m \u001b[0m│\n",
       "│\u001b[2m                         \u001b[0m│\u001b[2m \u001b[0m\u001b[2mabout the environmental impact of the    \u001b[0m\u001b[2m \u001b[0m│\u001b[2m \u001b[0m\u001b[2m                                         \u001b[0m\u001b[2m \u001b[0m│\n",
       "│\u001b[2m                         \u001b[0m│\u001b[2m \u001b[0m\u001b[2mproducts. I would like to see more       \u001b[0m\u001b[2m \u001b[0m│\u001b[2m \u001b[0m\u001b[2m* **Offer more sustainable products.**   \u001b[0m\u001b[2m \u001b[0m│\n",
       "│\u001b[2m                         \u001b[0m│\u001b[2m \u001b[0m\u001b[2msustainable options available.           \u001b[0m\u001b[2m \u001b[0m│\u001b[2m \u001b[0m\u001b[2mI'm particularly interested in products  \u001b[0m\u001b[2m \u001b[0m│\n",
       "│\u001b[2m                         \u001b[0m│\u001b[2m                                           \u001b[0m│\u001b[2m \u001b[0m\u001b[2mthat are made from recycled materials,   \u001b[0m\u001b[2m \u001b[0m│\n",
       "│\u001b[2m                         \u001b[0m│\u001b[2m                                           \u001b[0m│\u001b[2m \u001b[0m\u001b[2mare biodegradable, or are otherwise      \u001b[0m\u001b[2m \u001b[0m│\n",
       "│\u001b[2m                         \u001b[0m│\u001b[2m                                           \u001b[0m│\u001b[2m \u001b[0m\u001b[2menvironmentally friendly.                \u001b[0m\u001b[2m \u001b[0m│\n",
       "│\u001b[2m                         \u001b[0m│\u001b[2m                                           \u001b[0m│\u001b[2m \u001b[0m\u001b[2m* **Make it easier to find sustainable   \u001b[0m\u001b[2m \u001b[0m│\n",
       "│\u001b[2m                         \u001b[0m│\u001b[2m                                           \u001b[0m│\u001b[2m \u001b[0m\u001b[2mproducts.** I shouldn't have to dig      \u001b[0m\u001b[2m \u001b[0m│\n",
       "│\u001b[2m                         \u001b[0m│\u001b[2m                                           \u001b[0m│\u001b[2m \u001b[0m\u001b[2mthrough your website or store to find    \u001b[0m\u001b[2m \u001b[0m│\n",
       "│\u001b[2m                         \u001b[0m│\u001b[2m                                           \u001b[0m│\u001b[2m \u001b[0m\u001b[2mproducts that meet my needs. You should  \u001b[0m\u001b[2m \u001b[0m│\n",
       "│\u001b[2m                         \u001b[0m│\u001b[2m                                           \u001b[0m│\u001b[2m \u001b[0m\u001b[2mhave a dedicated section for sustainable \u001b[0m\u001b[2m \u001b[0m│\n",
       "│\u001b[2m                         \u001b[0m│\u001b[2m                                           \u001b[0m│\u001b[2m \u001b[0m\u001b[2mproducts, or at least make it easy to    \u001b[0m\u001b[2m \u001b[0m│\n",
       "│\u001b[2m                         \u001b[0m│\u001b[2m                                           \u001b[0m│\u001b[2m \u001b[0m\u001b[2mfilter products by their environmental   \u001b[0m\u001b[2m \u001b[0m│\n",
       "│\u001b[2m                         \u001b[0m│\u001b[2m                                           \u001b[0m│\u001b[2m \u001b[0m\u001b[2mimpact.                                  \u001b[0m\u001b[2m \u001b[0m│\n",
       "│\u001b[2m                         \u001b[0m│\u001b[2m                                           \u001b[0m│\u001b[2m \u001b[0m\u001b[2m* **Educate your customers about         \u001b[0m\u001b[2m \u001b[0m│\n",
       "│\u001b[2m                         \u001b[0m│\u001b[2m                                           \u001b[0m│\u001b[2m \u001b[0m\u001b[2msustainability.** Many people don't      \u001b[0m\u001b[2m \u001b[0m│\n",
       "│\u001b[2m                         \u001b[0m│\u001b[2m                                           \u001b[0m│\u001b[2m \u001b[0m\u001b[2mrealize the impact that their purchases  \u001b[0m\u001b[2m \u001b[0m│\n",
       "│\u001b[2m                         \u001b[0m│\u001b[2m                                           \u001b[0m│\u001b[2m \u001b[0m\u001b[2mhave on the environment. You can help to \u001b[0m\u001b[2m \u001b[0m│\n",
       "│\u001b[2m                         \u001b[0m│\u001b[2m                                           \u001b[0m│\u001b[2m \u001b[0m\u001b[2mchange that by providing information     \u001b[0m\u001b[2m \u001b[0m│\n",
       "│\u001b[2m                         \u001b[0m│\u001b[2m                                           \u001b[0m│\u001b[2m \u001b[0m\u001b[2mabout the environmental benefits of      \u001b[0m\u001b[2m \u001b[0m│\n",
       "│\u001b[2m                         \u001b[0m│\u001b[2m                                           \u001b[0m│\u001b[2m \u001b[0m\u001b[2msustainable products.                    \u001b[0m\u001b[2m \u001b[0m│\n",
       "├─────────────────────────┼───────────────────────────────────────────┼───────────────────────────────────────────┤\n",
       "│\u001b[2m \u001b[0m\u001b[2mModerately satisfied   \u001b[0m\u001b[2m \u001b[0m│\u001b[2m \u001b[0m\u001b[2mThe products are generally of good       \u001b[0m\u001b[2m \u001b[0m│\u001b[2m \u001b[0m\u001b[2mAs a retiree, I'm always looking for ways\u001b[0m\u001b[2m \u001b[0m│\n",
       "│\u001b[2m                         \u001b[0m│\u001b[2m \u001b[0m\u001b[2mquality, but I find them to be a bit     \u001b[0m\u001b[2m \u001b[0m│\u001b[2m \u001b[0m\u001b[2mto save money. While I appreciate the    \u001b[0m\u001b[2m \u001b[0m│\n",
       "│\u001b[2m                         \u001b[0m│\u001b[2m \u001b[0m\u001b[2moverpriced.                              \u001b[0m\u001b[2m \u001b[0m│\u001b[2m \u001b[0m\u001b[2mfriendly service your company provides, I\u001b[0m\u001b[2m \u001b[0m│\n",
       "│\u001b[2m                         \u001b[0m│\u001b[2m                                           \u001b[0m│\u001b[2m \u001b[0m\u001b[2mfind the prices to be a bit steep. If you\u001b[0m\u001b[2m \u001b[0m│\n",
       "│\u001b[2m                         \u001b[0m│\u001b[2m                                           \u001b[0m│\u001b[2m \u001b[0m\u001b[2mcould offer more discounts or promotions,\u001b[0m\u001b[2m \u001b[0m│\n",
       "│\u001b[2m                         \u001b[0m│\u001b[2m                                           \u001b[0m│\u001b[2m \u001b[0m\u001b[2mI would be more likely to make repeat    \u001b[0m\u001b[2m \u001b[0m│\n",
       "│\u001b[2m                         \u001b[0m│\u001b[2m                                           \u001b[0m│\u001b[2m \u001b[0m\u001b[2mpurchases. Additionally, I would         \u001b[0m\u001b[2m \u001b[0m│\n",
       "│\u001b[2m                         \u001b[0m│\u001b[2m                                           \u001b[0m│\u001b[2m \u001b[0m\u001b[2mappreciate it if you could expand your   \u001b[0m\u001b[2m \u001b[0m│\n",
       "│\u001b[2m                         \u001b[0m│\u001b[2m                                           \u001b[0m│\u001b[2m \u001b[0m\u001b[2mproduct line to include more affordable  \u001b[0m\u001b[2m \u001b[0m│\n",
       "│\u001b[2m                         \u001b[0m│\u001b[2m                                           \u001b[0m│\u001b[2m \u001b[0m\u001b[2moptions.                                 \u001b[0m\u001b[2m \u001b[0m│\n",
       "├─────────────────────────┼───────────────────────────────────────────┼───────────────────────────────────────────┤\n",
       "│\u001b[2m \u001b[0m\u001b[2mModerately satisfied   \u001b[0m\u001b[2m \u001b[0m│\u001b[2m \u001b[0m\u001b[2mI've been generally happy with the       \u001b[0m\u001b[2m \u001b[0m│\u001b[2m \u001b[0m\u001b[2mSure, there are a few things that your   \u001b[0m\u001b[2m \u001b[0m│\n",
       "│\u001b[2m                         \u001b[0m│\u001b[2m \u001b[0m\u001b[2mquality of the products I've purchased   \u001b[0m\u001b[2m \u001b[0m│\u001b[2m \u001b[0m\u001b[2mcompany can do to improve my experience: \u001b[0m\u001b[2m \u001b[0m│\n",
       "│\u001b[2m                         \u001b[0m│\u001b[2m \u001b[0m\u001b[2mfrom your company. The materials are     \u001b[0m\u001b[2m \u001b[0m│\u001b[2m \u001b[0m\u001b[2m                                         \u001b[0m\u001b[2m \u001b[0m│\n",
       "│\u001b[2m                         \u001b[0m│\u001b[2m \u001b[0m\u001b[2mhigh-quality, and the construction is    \u001b[0m\u001b[2m \u001b[0m│\u001b[2m \u001b[0m\u001b[2m* **Offer more flexible scheduling       \u001b[0m\u001b[2m \u001b[0m│\n",
       "│\u001b[2m                         \u001b[0m│\u001b[2m \u001b[0m\u001b[2msolid. However, I do wish there was more \u001b[0m\u001b[2m \u001b[0m│\u001b[2m \u001b[0m\u001b[2moptions.** I'm a busy professional, and  \u001b[0m\u001b[2m \u001b[0m│\n",
       "│\u001b[2m                         \u001b[0m│\u001b[2m \u001b[0m\u001b[2mflexibility with scheduling deliveries. I\u001b[0m\u001b[2m \u001b[0m│\u001b[2m \u001b[0m\u001b[2mit can be difficult to find time to      \u001b[0m\u001b[2m \u001b[0m│\n",
       "│\u001b[2m                         \u001b[0m│\u001b[2m \u001b[0m\u001b[2moften have to rearrange my schedule to   \u001b[0m\u001b[2m \u001b[0m│\u001b[2m \u001b[0m\u001b[2mschedule appointments. If you could offer\u001b[0m\u001b[2m \u001b[0m│\n",
       "│\u001b[2m                         \u001b[0m│\u001b[2m \u001b[0m\u001b[2maccommodate your delivery times, which   \u001b[0m\u001b[2m \u001b[0m│\u001b[2m \u001b[0m\u001b[2mmore flexible scheduling options, such as\u001b[0m\u001b[2m \u001b[0m│\n",
       "│\u001b[2m                         \u001b[0m│\u001b[2m \u001b[0m\u001b[2mcan be inconvenient.                     \u001b[0m\u001b[2m \u001b[0m│\u001b[2m \u001b[0m\u001b[2mevening or weekend appointments, it would\u001b[0m\u001b[2m \u001b[0m│\n",
       "│\u001b[2m                         \u001b[0m│\u001b[2m                                           \u001b[0m│\u001b[2m \u001b[0m\u001b[2mbe much easier for me to get the service \u001b[0m\u001b[2m \u001b[0m│\n",
       "│\u001b[2m                         \u001b[0m│\u001b[2m                                           \u001b[0m│\u001b[2m \u001b[0m\u001b[2mI need.                                  \u001b[0m\u001b[2m \u001b[0m│\n",
       "│\u001b[2m                         \u001b[0m│\u001b[2m                                           \u001b[0m│\u001b[2m \u001b[0m\u001b[2m* **Improve communication.** I've had a  \u001b[0m\u001b[2m \u001b[0m│\n",
       "│\u001b[2m                         \u001b[0m│\u001b[2m                                           \u001b[0m│\u001b[2m \u001b[0m\u001b[2mfew instances where I've had to          \u001b[0m\u001b[2m \u001b[0m│\n",
       "│\u001b[2m                         \u001b[0m│\u001b[2m                                           \u001b[0m│\u001b[2m \u001b[0m\u001b[2mreschedule appointments at the last      \u001b[0m\u001b[2m \u001b[0m│\n",
       "│\u001b[2m                         \u001b[0m│\u001b[2m                                           \u001b[0m│\u001b[2m \u001b[0m\u001b[2mminute, and I've found that the          \u001b[0m\u001b[2m \u001b[0m│\n",
       "│\u001b[2m                         \u001b[0m│\u001b[2m                                           \u001b[0m│\u001b[2m \u001b[0m\u001b[2mcommunication from your company has been \u001b[0m\u001b[2m \u001b[0m│\n",
       "│\u001b[2m                         \u001b[0m│\u001b[2m                                           \u001b[0m│\u001b[2m \u001b[0m\u001b[2mlacking. If you could improve            \u001b[0m\u001b[2m \u001b[0m│\n",
       "│\u001b[2m                         \u001b[0m│\u001b[2m                                           \u001b[0m│\u001b[2m \u001b[0m\u001b[2mcommunication, it would help me to avoid \u001b[0m\u001b[2m \u001b[0m│\n",
       "│\u001b[2m                         \u001b[0m│\u001b[2m                                           \u001b[0m│\u001b[2m \u001b[0m\u001b[2mthese situations in the future.          \u001b[0m\u001b[2m \u001b[0m│\n",
       "└─────────────────────────┴───────────────────────────────────────────┴───────────────────────────────────────────┘\n"
      ]
     },
     "metadata": {},
     "output_type": "display_data"
    }
   ],
   "source": [
    "(results\n",
    " .filter(\"model.model == 'gemini-pro'\")\n",
    " .sort_by(\"satisfied_0\")\n",
    " .select(\"satisfied_0\", \"satisfied_0_comment\", \"improve_0\")\n",
    " .print(format=\"rich\")\n",
    ")"
   ]
  },
  {
   "cell_type": "code",
   "execution_count": 32,
   "id": "e6980c54-b58d-474d-a64c-c7506894778d",
   "metadata": {},
   "outputs": [
    {
     "data": {
      "text/html": [
       "<pre style=\"white-space:pre;overflow-x:auto;line-height:normal;font-family:Menlo,'DejaVu Sans Mono',consolas,'Courier New',monospace\">┏━━━━━━━━━━━━━━━━━━━━━━━━━━━━━━━━┳━━━━━━━━━━━━━━━━━━━━━━━━━━━━━━━━━━━━━━━┳━━━━━━━━━━━━━━━━━━━━━━━━━━━━━━━━━━━━━━━━┓\n",
       "┃<span style=\"color: #800080; text-decoration-color: #800080; font-weight: bold\"> Customer service: satisfaction </span>┃<span style=\"color: #800080; text-decoration-color: #800080; font-weight: bold\"> Customer service: comment             </span>┃<span style=\"color: #800080; text-decoration-color: #800080; font-weight: bold\"> Customer service: improvements         </span>┃\n",
       "┡━━━━━━━━━━━━━━━━━━━━━━━━━━━━━━━━╇━━━━━━━━━━━━━━━━━━━━━━━━━━━━━━━━━━━━━━━╇━━━━━━━━━━━━━━━━━━━━━━━━━━━━━━━━━━━━━━━━┩\n",
       "│<span style=\"color: #7f7f7f; text-decoration-color: #7f7f7f\"> Extremely satisfied            </span>│<span style=\"color: #7f7f7f; text-decoration-color: #7f7f7f\"> I am extremely satisfied with the     </span>│<span style=\"color: #7f7f7f; text-decoration-color: #7f7f7f\"> I'm absolutely thrilled with the       </span>│\n",
       "│<span style=\"color: #7f7f7f; text-decoration-color: #7f7f7f\">                                </span>│<span style=\"color: #7f7f7f; text-decoration-color: #7f7f7f\"> customer support I received. The team </span>│<span style=\"color: #7f7f7f; text-decoration-color: #7f7f7f\"> exceptional customer support I've      </span>│\n",
       "│<span style=\"color: #7f7f7f; text-decoration-color: #7f7f7f\">                                </span>│<span style=\"color: #7f7f7f; text-decoration-color: #7f7f7f\"> was very helpful and responsive to my </span>│<span style=\"color: #7f7f7f; text-decoration-color: #7f7f7f\"> received from your company throughout  </span>│\n",
       "│<span style=\"color: #7f7f7f; text-decoration-color: #7f7f7f\">                                </span>│<span style=\"color: #7f7f7f; text-decoration-color: #7f7f7f\"> questions and concerns. They went     </span>│<span style=\"color: #7f7f7f; text-decoration-color: #7f7f7f\"> my landscaping project. The team has   </span>│\n",
       "│<span style=\"color: #7f7f7f; text-decoration-color: #7f7f7f\">                                </span>│<span style=\"color: #7f7f7f; text-decoration-color: #7f7f7f\"> above and beyond to make sure I was   </span>│<span style=\"color: #7f7f7f; text-decoration-color: #7f7f7f\"> been incredibly responsive, proactive, </span>│\n",
       "│<span style=\"color: #7f7f7f; text-decoration-color: #7f7f7f\">                                </span>│<span style=\"color: #7f7f7f; text-decoration-color: #7f7f7f\"> happy with my experience.             </span>│<span style=\"color: #7f7f7f; text-decoration-color: #7f7f7f\"> and attentive to my every need. I      </span>│\n",
       "│<span style=\"color: #7f7f7f; text-decoration-color: #7f7f7f\">                                </span>│<span style=\"color: #7f7f7f; text-decoration-color: #7f7f7f\">                                       </span>│<span style=\"color: #7f7f7f; text-decoration-color: #7f7f7f\"> couldn't have asked for a better       </span>│\n",
       "│<span style=\"color: #7f7f7f; text-decoration-color: #7f7f7f\">                                </span>│<span style=\"color: #7f7f7f; text-decoration-color: #7f7f7f\">                                       </span>│<span style=\"color: #7f7f7f; text-decoration-color: #7f7f7f\"> experience.                            </span>│\n",
       "│<span style=\"color: #7f7f7f; text-decoration-color: #7f7f7f\">                                </span>│<span style=\"color: #7f7f7f; text-decoration-color: #7f7f7f\">                                       </span>│<span style=\"color: #7f7f7f; text-decoration-color: #7f7f7f\">                                        </span>│\n",
       "│<span style=\"color: #7f7f7f; text-decoration-color: #7f7f7f\">                                </span>│<span style=\"color: #7f7f7f; text-decoration-color: #7f7f7f\">                                       </span>│<span style=\"color: #7f7f7f; text-decoration-color: #7f7f7f\"> However, one area where I believe      </span>│\n",
       "│<span style=\"color: #7f7f7f; text-decoration-color: #7f7f7f\">                                </span>│<span style=\"color: #7f7f7f; text-decoration-color: #7f7f7f\">                                       </span>│<span style=\"color: #7f7f7f; text-decoration-color: #7f7f7f\"> there could be a slight improvement is </span>│\n",
       "│<span style=\"color: #7f7f7f; text-decoration-color: #7f7f7f\">                                </span>│<span style=\"color: #7f7f7f; text-decoration-color: #7f7f7f\">                                       </span>│<span style=\"color: #7f7f7f; text-decoration-color: #7f7f7f\"> in providing more detailed updates on  </span>│\n",
       "│<span style=\"color: #7f7f7f; text-decoration-color: #7f7f7f\">                                </span>│<span style=\"color: #7f7f7f; text-decoration-color: #7f7f7f\">                                       </span>│<span style=\"color: #7f7f7f; text-decoration-color: #7f7f7f\"> the progress of the project. While I   </span>│\n",
       "│<span style=\"color: #7f7f7f; text-decoration-color: #7f7f7f\">                                </span>│<span style=\"color: #7f7f7f; text-decoration-color: #7f7f7f\">                                       </span>│<span style=\"color: #7f7f7f; text-decoration-color: #7f7f7f\"> appreciate the regular check-ins, I    </span>│\n",
       "│<span style=\"color: #7f7f7f; text-decoration-color: #7f7f7f\">                                </span>│<span style=\"color: #7f7f7f; text-decoration-color: #7f7f7f\">                                       </span>│<span style=\"color: #7f7f7f; text-decoration-color: #7f7f7f\"> would find it even more helpful to     </span>│\n",
       "│<span style=\"color: #7f7f7f; text-decoration-color: #7f7f7f\">                                </span>│<span style=\"color: #7f7f7f; text-decoration-color: #7f7f7f\">                                       </span>│<span style=\"color: #7f7f7f; text-decoration-color: #7f7f7f\"> receive more specific information      </span>│\n",
       "│<span style=\"color: #7f7f7f; text-decoration-color: #7f7f7f\">                                </span>│<span style=\"color: #7f7f7f; text-decoration-color: #7f7f7f\">                                       </span>│<span style=\"color: #7f7f7f; text-decoration-color: #7f7f7f\"> about the tasks being completed and    </span>│\n",
       "│<span style=\"color: #7f7f7f; text-decoration-color: #7f7f7f\">                                </span>│<span style=\"color: #7f7f7f; text-decoration-color: #7f7f7f\">                                       </span>│<span style=\"color: #7f7f7f; text-decoration-color: #7f7f7f\"> the estimated timeline for completion. </span>│\n",
       "│<span style=\"color: #7f7f7f; text-decoration-color: #7f7f7f\">                                </span>│<span style=\"color: #7f7f7f; text-decoration-color: #7f7f7f\">                                       </span>│<span style=\"color: #7f7f7f; text-decoration-color: #7f7f7f\"> This would give me a clearer           </span>│\n",
       "│<span style=\"color: #7f7f7f; text-decoration-color: #7f7f7f\">                                </span>│<span style=\"color: #7f7f7f; text-decoration-color: #7f7f7f\">                                       </span>│<span style=\"color: #7f7f7f; text-decoration-color: #7f7f7f\"> understanding of the project's         </span>│\n",
       "│<span style=\"color: #7f7f7f; text-decoration-color: #7f7f7f\">                                </span>│<span style=\"color: #7f7f7f; text-decoration-color: #7f7f7f\">                                       </span>│<span style=\"color: #7f7f7f; text-decoration-color: #7f7f7f\"> progress and allow me to plan          </span>│\n",
       "│<span style=\"color: #7f7f7f; text-decoration-color: #7f7f7f\">                                </span>│<span style=\"color: #7f7f7f; text-decoration-color: #7f7f7f\">                                       </span>│<span style=\"color: #7f7f7f; text-decoration-color: #7f7f7f\"> accordingly.                           </span>│\n",
       "├────────────────────────────────┼───────────────────────────────────────┼────────────────────────────────────────┤\n",
       "│<span style=\"color: #7f7f7f; text-decoration-color: #7f7f7f\"> Moderately dissatisfied        </span>│<span style=\"color: #7f7f7f; text-decoration-color: #7f7f7f\"> I am moderately dissatisfied with the </span>│<span style=\"color: #7f7f7f; text-decoration-color: #7f7f7f\"> I'm moderately dissatisfied with the   </span>│\n",
       "│<span style=\"color: #7f7f7f; text-decoration-color: #7f7f7f\">                                </span>│<span style=\"color: #7f7f7f; text-decoration-color: #7f7f7f\"> customer support I received because I </span>│<span style=\"color: #7f7f7f; text-decoration-color: #7f7f7f\"> customer support I received. I would   </span>│\n",
       "│<span style=\"color: #7f7f7f; text-decoration-color: #7f7f7f\">                                </span>│<span style=\"color: #7f7f7f; text-decoration-color: #7f7f7f\"> was not able to get the information I </span>│<span style=\"color: #7f7f7f; text-decoration-color: #7f7f7f\"> like to see more sustainable options   </span>│\n",
       "│<span style=\"color: #7f7f7f; text-decoration-color: #7f7f7f\">                                </span>│<span style=\"color: #7f7f7f; text-decoration-color: #7f7f7f\"> needed about the company's            </span>│<span style=\"color: #7f7f7f; text-decoration-color: #7f7f7f\"> offered by your company. For example,  </span>│\n",
       "│<span style=\"color: #7f7f7f; text-decoration-color: #7f7f7f\">                                </span>│<span style=\"color: #7f7f7f; text-decoration-color: #7f7f7f\"> sustainability practices. I am very   </span>│<span style=\"color: #7f7f7f; text-decoration-color: #7f7f7f\"> I would like to see more products made </span>│\n",
       "│<span style=\"color: #7f7f7f; text-decoration-color: #7f7f7f\">                                </span>│<span style=\"color: #7f7f7f; text-decoration-color: #7f7f7f\"> concerned about the environment and I </span>│<span style=\"color: #7f7f7f; text-decoration-color: #7f7f7f\"> from recycled materials, and I would   </span>│\n",
       "│<span style=\"color: #7f7f7f; text-decoration-color: #7f7f7f\">                                </span>│<span style=\"color: #7f7f7f; text-decoration-color: #7f7f7f\"> want to make sure that I am doing     </span>│<span style=\"color: #7f7f7f; text-decoration-color: #7f7f7f\"> like to see more options for repairing </span>│\n",
       "│<span style=\"color: #7f7f7f; text-decoration-color: #7f7f7f\">                                </span>│<span style=\"color: #7f7f7f; text-decoration-color: #7f7f7f\"> business with companies that are      </span>│<span style=\"color: #7f7f7f; text-decoration-color: #7f7f7f\"> products instead of replacing them. I  </span>│\n",
       "│<span style=\"color: #7f7f7f; text-decoration-color: #7f7f7f\">                                </span>│<span style=\"color: #7f7f7f; text-decoration-color: #7f7f7f\"> committed to sustainability. I was    </span>│<span style=\"color: #7f7f7f; text-decoration-color: #7f7f7f\"> would also like to see more            </span>│\n",
       "│<span style=\"color: #7f7f7f; text-decoration-color: #7f7f7f\">                                </span>│<span style=\"color: #7f7f7f; text-decoration-color: #7f7f7f\"> hoping to learn more about the        </span>│<span style=\"color: #7f7f7f; text-decoration-color: #7f7f7f\"> information about your company's       </span>│\n",
       "│<span style=\"color: #7f7f7f; text-decoration-color: #7f7f7f\">                                </span>│<span style=\"color: #7f7f7f; text-decoration-color: #7f7f7f\"> company's environmental policies and  </span>│<span style=\"color: #7f7f7f; text-decoration-color: #7f7f7f\"> sustainability initiatives.            </span>│\n",
       "│<span style=\"color: #7f7f7f; text-decoration-color: #7f7f7f\">                                </span>│<span style=\"color: #7f7f7f; text-decoration-color: #7f7f7f\"> practices, but I was not able to get  </span>│<span style=\"color: #7f7f7f; text-decoration-color: #7f7f7f\">                                        </span>│\n",
       "│<span style=\"color: #7f7f7f; text-decoration-color: #7f7f7f\">                                </span>│<span style=\"color: #7f7f7f; text-decoration-color: #7f7f7f\"> that information from customer        </span>│<span style=\"color: #7f7f7f; text-decoration-color: #7f7f7f\">                                        </span>│\n",
       "│<span style=\"color: #7f7f7f; text-decoration-color: #7f7f7f\">                                </span>│<span style=\"color: #7f7f7f; text-decoration-color: #7f7f7f\"> support.                              </span>│<span style=\"color: #7f7f7f; text-decoration-color: #7f7f7f\">                                        </span>│\n",
       "├────────────────────────────────┼───────────────────────────────────────┼────────────────────────────────────────┤\n",
       "│<span style=\"color: #7f7f7f; text-decoration-color: #7f7f7f\"> Extremely satisfied            </span>│<span style=\"color: #7f7f7f; text-decoration-color: #7f7f7f\"> I am incredibly pleased with the      </span>│<span style=\"color: #7f7f7f; text-decoration-color: #7f7f7f\"> As a meticulous homeowner, I am        </span>│\n",
       "│<span style=\"color: #7f7f7f; text-decoration-color: #7f7f7f\">                                </span>│<span style=\"color: #7f7f7f; text-decoration-color: #7f7f7f\"> customer support I have received. The </span>│<span style=\"color: #7f7f7f; text-decoration-color: #7f7f7f\"> extremely satisfied with the customer  </span>│\n",
       "│<span style=\"color: #7f7f7f; text-decoration-color: #7f7f7f\">                                </span>│<span style=\"color: #7f7f7f; text-decoration-color: #7f7f7f\"> representatives are always courteous, </span>│<span style=\"color: #7f7f7f; text-decoration-color: #7f7f7f\"> support I have received from your      </span>│\n",
       "│<span style=\"color: #7f7f7f; text-decoration-color: #7f7f7f\">                                </span>│<span style=\"color: #7f7f7f; text-decoration-color: #7f7f7f\"> knowledgeable, and prompt in          </span>│<span style=\"color: #7f7f7f; text-decoration-color: #7f7f7f\"> company. The representatives have      </span>│\n",
       "│<span style=\"color: #7f7f7f; text-decoration-color: #7f7f7f\">                                </span>│<span style=\"color: #7f7f7f; text-decoration-color: #7f7f7f\"> responding to my inquiries. They have </span>│<span style=\"color: #7f7f7f; text-decoration-color: #7f7f7f\"> always been knowledgeable and helpful, </span>│\n",
       "│<span style=\"color: #7f7f7f; text-decoration-color: #7f7f7f\">                                </span>│<span style=\"color: #7f7f7f; text-decoration-color: #7f7f7f\"> consistently gone above and beyond to </span>│<span style=\"color: #7f7f7f; text-decoration-color: #7f7f7f\"> and they have gone above and beyond to </span>│\n",
       "│<span style=\"color: #7f7f7f; text-decoration-color: #7f7f7f\">                                </span>│<span style=\"color: #7f7f7f; text-decoration-color: #7f7f7f\"> assist me with my gardening needs,    </span>│<span style=\"color: #7f7f7f; text-decoration-color: #7f7f7f\"> ensure that my needs are met. I am     </span>│\n",
       "│<span style=\"color: #7f7f7f; text-decoration-color: #7f7f7f\">                                </span>│<span style=\"color: #7f7f7f; text-decoration-color: #7f7f7f\"> providing personalized advice and     </span>│<span style=\"color: #7f7f7f; text-decoration-color: #7f7f7f\"> particularly impressed with the        </span>│\n",
       "│<span style=\"color: #7f7f7f; text-decoration-color: #7f7f7f\">                                </span>│<span style=\"color: #7f7f7f; text-decoration-color: #7f7f7f\"> recommendations that have helped me   </span>│<span style=\"color: #7f7f7f; text-decoration-color: #7f7f7f\"> company's commitment to precision and  </span>│\n",
       "│<span style=\"color: #7f7f7f; text-decoration-color: #7f7f7f\">                                </span>│<span style=\"color: #7f7f7f; text-decoration-color: #7f7f7f\"> maintain a thriving garden.           </span>│<span style=\"color: #7f7f7f; text-decoration-color: #7f7f7f\"> attention to detail, which is evident  </span>│\n",
       "│<span style=\"color: #7f7f7f; text-decoration-color: #7f7f7f\">                                </span>│<span style=\"color: #7f7f7f; text-decoration-color: #7f7f7f\">                                       </span>│<span style=\"color: #7f7f7f; text-decoration-color: #7f7f7f\"> in all aspects of their customer       </span>│\n",
       "│<span style=\"color: #7f7f7f; text-decoration-color: #7f7f7f\">                                </span>│<span style=\"color: #7f7f7f; text-decoration-color: #7f7f7f\">                                       </span>│<span style=\"color: #7f7f7f; text-decoration-color: #7f7f7f\"> service.                               </span>│\n",
       "│<span style=\"color: #7f7f7f; text-decoration-color: #7f7f7f\">                                </span>│<span style=\"color: #7f7f7f; text-decoration-color: #7f7f7f\">                                       </span>│<span style=\"color: #7f7f7f; text-decoration-color: #7f7f7f\">                                        </span>│\n",
       "│<span style=\"color: #7f7f7f; text-decoration-color: #7f7f7f\">                                </span>│<span style=\"color: #7f7f7f; text-decoration-color: #7f7f7f\">                                       </span>│<span style=\"color: #7f7f7f; text-decoration-color: #7f7f7f\"> However, there is one area where I     </span>│\n",
       "│<span style=\"color: #7f7f7f; text-decoration-color: #7f7f7f\">                                </span>│<span style=\"color: #7f7f7f; text-decoration-color: #7f7f7f\">                                       </span>│<span style=\"color: #7f7f7f; text-decoration-color: #7f7f7f\"> believe your company could improve:    </span>│\n",
       "│<span style=\"color: #7f7f7f; text-decoration-color: #7f7f7f\">                                </span>│<span style=\"color: #7f7f7f; text-decoration-color: #7f7f7f\">                                       </span>│<span style=\"color: #7f7f7f; text-decoration-color: #7f7f7f\"> the speed of response to customer      </span>│\n",
       "│<span style=\"color: #7f7f7f; text-decoration-color: #7f7f7f\">                                </span>│<span style=\"color: #7f7f7f; text-decoration-color: #7f7f7f\">                                       </span>│<span style=\"color: #7f7f7f; text-decoration-color: #7f7f7f\"> inquiries. While I understand that     </span>│\n",
       "│<span style=\"color: #7f7f7f; text-decoration-color: #7f7f7f\">                                </span>│<span style=\"color: #7f7f7f; text-decoration-color: #7f7f7f\">                                       </span>│<span style=\"color: #7f7f7f; text-decoration-color: #7f7f7f\"> your team is busy, I have sometimes    </span>│\n",
       "│<span style=\"color: #7f7f7f; text-decoration-color: #7f7f7f\">                                </span>│<span style=\"color: #7f7f7f; text-decoration-color: #7f7f7f\">                                       </span>│<span style=\"color: #7f7f7f; text-decoration-color: #7f7f7f\"> had to wait several days for a         </span>│\n",
       "│<span style=\"color: #7f7f7f; text-decoration-color: #7f7f7f\">                                </span>│<span style=\"color: #7f7f7f; text-decoration-color: #7f7f7f\">                                       </span>│<span style=\"color: #7f7f7f; text-decoration-color: #7f7f7f\"> response to my emails or phone calls.  </span>│\n",
       "│<span style=\"color: #7f7f7f; text-decoration-color: #7f7f7f\">                                </span>│<span style=\"color: #7f7f7f; text-decoration-color: #7f7f7f\">                                       </span>│<span style=\"color: #7f7f7f; text-decoration-color: #7f7f7f\"> I would appreciate it if your company  </span>│\n",
       "│<span style=\"color: #7f7f7f; text-decoration-color: #7f7f7f\">                                </span>│<span style=\"color: #7f7f7f; text-decoration-color: #7f7f7f\">                                       </span>│<span style=\"color: #7f7f7f; text-decoration-color: #7f7f7f\"> could prioritize responding to         </span>│\n",
       "│<span style=\"color: #7f7f7f; text-decoration-color: #7f7f7f\">                                </span>│<span style=\"color: #7f7f7f; text-decoration-color: #7f7f7f\">                                       </span>│<span style=\"color: #7f7f7f; text-decoration-color: #7f7f7f\"> customer inquiries more quickly, as    </span>│\n",
       "│<span style=\"color: #7f7f7f; text-decoration-color: #7f7f7f\">                                </span>│<span style=\"color: #7f7f7f; text-decoration-color: #7f7f7f\">                                       </span>│<span style=\"color: #7f7f7f; text-decoration-color: #7f7f7f\"> this would help me to resolve any      </span>│\n",
       "│<span style=\"color: #7f7f7f; text-decoration-color: #7f7f7f\">                                </span>│<span style=\"color: #7f7f7f; text-decoration-color: #7f7f7f\">                                       </span>│<span style=\"color: #7f7f7f; text-decoration-color: #7f7f7f\"> issues or concerns I have in a timely  </span>│\n",
       "│<span style=\"color: #7f7f7f; text-decoration-color: #7f7f7f\">                                </span>│<span style=\"color: #7f7f7f; text-decoration-color: #7f7f7f\">                                       </span>│<span style=\"color: #7f7f7f; text-decoration-color: #7f7f7f\"> manner.                                </span>│\n",
       "├────────────────────────────────┼───────────────────────────────────────┼────────────────────────────────────────┤\n",
       "│<span style=\"color: #7f7f7f; text-decoration-color: #7f7f7f\"> Moderately satisfied           </span>│<span style=\"color: #7f7f7f; text-decoration-color: #7f7f7f\"> I appreciate the friendly service,    </span>│<span style=\"color: #7f7f7f; text-decoration-color: #7f7f7f\"> I appreciate the friendly customer     </span>│\n",
       "│<span style=\"color: #7f7f7f; text-decoration-color: #7f7f7f\">                                </span>│<span style=\"color: #7f7f7f; text-decoration-color: #7f7f7f\"> but I find the prices to be a bit     </span>│<span style=\"color: #7f7f7f; text-decoration-color: #7f7f7f\"> support, but I do find the prices to   </span>│\n",
       "│<span style=\"color: #7f7f7f; text-decoration-color: #7f7f7f\">                                </span>│<span style=\"color: #7f7f7f; text-decoration-color: #7f7f7f\"> high.                                 </span>│<span style=\"color: #7f7f7f; text-decoration-color: #7f7f7f\"> be a bit high. If you could lower the  </span>│\n",
       "│<span style=\"color: #7f7f7f; text-decoration-color: #7f7f7f\">                                </span>│<span style=\"color: #7f7f7f; text-decoration-color: #7f7f7f\">                                       </span>│<span style=\"color: #7f7f7f; text-decoration-color: #7f7f7f\"> prices, I would be more likely to use  </span>│\n",
       "│<span style=\"color: #7f7f7f; text-decoration-color: #7f7f7f\">                                </span>│<span style=\"color: #7f7f7f; text-decoration-color: #7f7f7f\">                                       </span>│<span style=\"color: #7f7f7f; text-decoration-color: #7f7f7f\"> your services more often.              </span>│\n",
       "├────────────────────────────────┼───────────────────────────────────────┼────────────────────────────────────────┤\n",
       "│<span style=\"color: #7f7f7f; text-decoration-color: #7f7f7f\"> Moderately satisfied           </span>│<span style=\"color: #7f7f7f; text-decoration-color: #7f7f7f\"> I'm generally happy with the customer </span>│<span style=\"color: #7f7f7f; text-decoration-color: #7f7f7f\"> As a busy professional, I often find   </span>│\n",
       "│<span style=\"color: #7f7f7f; text-decoration-color: #7f7f7f\">                                </span>│<span style=\"color: #7f7f7f; text-decoration-color: #7f7f7f\"> support I've received, but I wish     </span>│<span style=\"color: #7f7f7f; text-decoration-color: #7f7f7f\"> it difficult to schedule appointments  </span>│\n",
       "│<span style=\"color: #7f7f7f; text-decoration-color: #7f7f7f\">                                </span>│<span style=\"color: #7f7f7f; text-decoration-color: #7f7f7f\"> there were more flexibility with      </span>│<span style=\"color: #7f7f7f; text-decoration-color: #7f7f7f\"> during traditional business hours.     </span>│\n",
       "│<span style=\"color: #7f7f7f; text-decoration-color: #7f7f7f\">                                </span>│<span style=\"color: #7f7f7f; text-decoration-color: #7f7f7f\"> scheduling appointments.              </span>│<span style=\"color: #7f7f7f; text-decoration-color: #7f7f7f\"> Offering more flexible scheduling      </span>│\n",
       "│<span style=\"color: #7f7f7f; text-decoration-color: #7f7f7f\">                                </span>│<span style=\"color: #7f7f7f; text-decoration-color: #7f7f7f\">                                       </span>│<span style=\"color: #7f7f7f; text-decoration-color: #7f7f7f\"> options, such as evening or weekend    </span>│\n",
       "│<span style=\"color: #7f7f7f; text-decoration-color: #7f7f7f\">                                </span>│<span style=\"color: #7f7f7f; text-decoration-color: #7f7f7f\">                                       </span>│<span style=\"color: #7f7f7f; text-decoration-color: #7f7f7f\"> appointments, would greatly improve my </span>│\n",
       "│<span style=\"color: #7f7f7f; text-decoration-color: #7f7f7f\">                                </span>│<span style=\"color: #7f7f7f; text-decoration-color: #7f7f7f\">                                       </span>│<span style=\"color: #7f7f7f; text-decoration-color: #7f7f7f\"> experience with your company's         </span>│\n",
       "│<span style=\"color: #7f7f7f; text-decoration-color: #7f7f7f\">                                </span>│<span style=\"color: #7f7f7f; text-decoration-color: #7f7f7f\">                                       </span>│<span style=\"color: #7f7f7f; text-decoration-color: #7f7f7f\"> customer support.                      </span>│\n",
       "└────────────────────────────────┴───────────────────────────────────────┴────────────────────────────────────────┘\n",
       "</pre>\n"
      ],
      "text/plain": [
       "┏━━━━━━━━━━━━━━━━━━━━━━━━━━━━━━━━┳━━━━━━━━━━━━━━━━━━━━━━━━━━━━━━━━━━━━━━━┳━━━━━━━━━━━━━━━━━━━━━━━━━━━━━━━━━━━━━━━━┓\n",
       "┃\u001b[1;35m \u001b[0m\u001b[1;35mCustomer service: satisfaction\u001b[0m\u001b[1;35m \u001b[0m┃\u001b[1;35m \u001b[0m\u001b[1;35mCustomer service: comment            \u001b[0m\u001b[1;35m \u001b[0m┃\u001b[1;35m \u001b[0m\u001b[1;35mCustomer service: improvements        \u001b[0m\u001b[1;35m \u001b[0m┃\n",
       "┡━━━━━━━━━━━━━━━━━━━━━━━━━━━━━━━━╇━━━━━━━━━━━━━━━━━━━━━━━━━━━━━━━━━━━━━━━╇━━━━━━━━━━━━━━━━━━━━━━━━━━━━━━━━━━━━━━━━┩\n",
       "│\u001b[2m \u001b[0m\u001b[2mExtremely satisfied           \u001b[0m\u001b[2m \u001b[0m│\u001b[2m \u001b[0m\u001b[2mI am extremely satisfied with the    \u001b[0m\u001b[2m \u001b[0m│\u001b[2m \u001b[0m\u001b[2mI'm absolutely thrilled with the      \u001b[0m\u001b[2m \u001b[0m│\n",
       "│\u001b[2m                                \u001b[0m│\u001b[2m \u001b[0m\u001b[2mcustomer support I received. The team\u001b[0m\u001b[2m \u001b[0m│\u001b[2m \u001b[0m\u001b[2mexceptional customer support I've     \u001b[0m\u001b[2m \u001b[0m│\n",
       "│\u001b[2m                                \u001b[0m│\u001b[2m \u001b[0m\u001b[2mwas very helpful and responsive to my\u001b[0m\u001b[2m \u001b[0m│\u001b[2m \u001b[0m\u001b[2mreceived from your company throughout \u001b[0m\u001b[2m \u001b[0m│\n",
       "│\u001b[2m                                \u001b[0m│\u001b[2m \u001b[0m\u001b[2mquestions and concerns. They went    \u001b[0m\u001b[2m \u001b[0m│\u001b[2m \u001b[0m\u001b[2mmy landscaping project. The team has  \u001b[0m\u001b[2m \u001b[0m│\n",
       "│\u001b[2m                                \u001b[0m│\u001b[2m \u001b[0m\u001b[2mabove and beyond to make sure I was  \u001b[0m\u001b[2m \u001b[0m│\u001b[2m \u001b[0m\u001b[2mbeen incredibly responsive, proactive,\u001b[0m\u001b[2m \u001b[0m│\n",
       "│\u001b[2m                                \u001b[0m│\u001b[2m \u001b[0m\u001b[2mhappy with my experience.            \u001b[0m\u001b[2m \u001b[0m│\u001b[2m \u001b[0m\u001b[2mand attentive to my every need. I     \u001b[0m\u001b[2m \u001b[0m│\n",
       "│\u001b[2m                                \u001b[0m│\u001b[2m                                       \u001b[0m│\u001b[2m \u001b[0m\u001b[2mcouldn't have asked for a better      \u001b[0m\u001b[2m \u001b[0m│\n",
       "│\u001b[2m                                \u001b[0m│\u001b[2m                                       \u001b[0m│\u001b[2m \u001b[0m\u001b[2mexperience.                           \u001b[0m\u001b[2m \u001b[0m│\n",
       "│\u001b[2m                                \u001b[0m│\u001b[2m                                       \u001b[0m│\u001b[2m \u001b[0m\u001b[2m                                      \u001b[0m\u001b[2m \u001b[0m│\n",
       "│\u001b[2m                                \u001b[0m│\u001b[2m                                       \u001b[0m│\u001b[2m \u001b[0m\u001b[2mHowever, one area where I believe     \u001b[0m\u001b[2m \u001b[0m│\n",
       "│\u001b[2m                                \u001b[0m│\u001b[2m                                       \u001b[0m│\u001b[2m \u001b[0m\u001b[2mthere could be a slight improvement is\u001b[0m\u001b[2m \u001b[0m│\n",
       "│\u001b[2m                                \u001b[0m│\u001b[2m                                       \u001b[0m│\u001b[2m \u001b[0m\u001b[2min providing more detailed updates on \u001b[0m\u001b[2m \u001b[0m│\n",
       "│\u001b[2m                                \u001b[0m│\u001b[2m                                       \u001b[0m│\u001b[2m \u001b[0m\u001b[2mthe progress of the project. While I  \u001b[0m\u001b[2m \u001b[0m│\n",
       "│\u001b[2m                                \u001b[0m│\u001b[2m                                       \u001b[0m│\u001b[2m \u001b[0m\u001b[2mappreciate the regular check-ins, I   \u001b[0m\u001b[2m \u001b[0m│\n",
       "│\u001b[2m                                \u001b[0m│\u001b[2m                                       \u001b[0m│\u001b[2m \u001b[0m\u001b[2mwould find it even more helpful to    \u001b[0m\u001b[2m \u001b[0m│\n",
       "│\u001b[2m                                \u001b[0m│\u001b[2m                                       \u001b[0m│\u001b[2m \u001b[0m\u001b[2mreceive more specific information     \u001b[0m\u001b[2m \u001b[0m│\n",
       "│\u001b[2m                                \u001b[0m│\u001b[2m                                       \u001b[0m│\u001b[2m \u001b[0m\u001b[2mabout the tasks being completed and   \u001b[0m\u001b[2m \u001b[0m│\n",
       "│\u001b[2m                                \u001b[0m│\u001b[2m                                       \u001b[0m│\u001b[2m \u001b[0m\u001b[2mthe estimated timeline for completion.\u001b[0m\u001b[2m \u001b[0m│\n",
       "│\u001b[2m                                \u001b[0m│\u001b[2m                                       \u001b[0m│\u001b[2m \u001b[0m\u001b[2mThis would give me a clearer          \u001b[0m\u001b[2m \u001b[0m│\n",
       "│\u001b[2m                                \u001b[0m│\u001b[2m                                       \u001b[0m│\u001b[2m \u001b[0m\u001b[2munderstanding of the project's        \u001b[0m\u001b[2m \u001b[0m│\n",
       "│\u001b[2m                                \u001b[0m│\u001b[2m                                       \u001b[0m│\u001b[2m \u001b[0m\u001b[2mprogress and allow me to plan         \u001b[0m\u001b[2m \u001b[0m│\n",
       "│\u001b[2m                                \u001b[0m│\u001b[2m                                       \u001b[0m│\u001b[2m \u001b[0m\u001b[2maccordingly.                          \u001b[0m\u001b[2m \u001b[0m│\n",
       "├────────────────────────────────┼───────────────────────────────────────┼────────────────────────────────────────┤\n",
       "│\u001b[2m \u001b[0m\u001b[2mModerately dissatisfied       \u001b[0m\u001b[2m \u001b[0m│\u001b[2m \u001b[0m\u001b[2mI am moderately dissatisfied with the\u001b[0m\u001b[2m \u001b[0m│\u001b[2m \u001b[0m\u001b[2mI'm moderately dissatisfied with the  \u001b[0m\u001b[2m \u001b[0m│\n",
       "│\u001b[2m                                \u001b[0m│\u001b[2m \u001b[0m\u001b[2mcustomer support I received because I\u001b[0m\u001b[2m \u001b[0m│\u001b[2m \u001b[0m\u001b[2mcustomer support I received. I would  \u001b[0m\u001b[2m \u001b[0m│\n",
       "│\u001b[2m                                \u001b[0m│\u001b[2m \u001b[0m\u001b[2mwas not able to get the information I\u001b[0m\u001b[2m \u001b[0m│\u001b[2m \u001b[0m\u001b[2mlike to see more sustainable options  \u001b[0m\u001b[2m \u001b[0m│\n",
       "│\u001b[2m                                \u001b[0m│\u001b[2m \u001b[0m\u001b[2mneeded about the company's           \u001b[0m\u001b[2m \u001b[0m│\u001b[2m \u001b[0m\u001b[2moffered by your company. For example, \u001b[0m\u001b[2m \u001b[0m│\n",
       "│\u001b[2m                                \u001b[0m│\u001b[2m \u001b[0m\u001b[2msustainability practices. I am very  \u001b[0m\u001b[2m \u001b[0m│\u001b[2m \u001b[0m\u001b[2mI would like to see more products made\u001b[0m\u001b[2m \u001b[0m│\n",
       "│\u001b[2m                                \u001b[0m│\u001b[2m \u001b[0m\u001b[2mconcerned about the environment and I\u001b[0m\u001b[2m \u001b[0m│\u001b[2m \u001b[0m\u001b[2mfrom recycled materials, and I would  \u001b[0m\u001b[2m \u001b[0m│\n",
       "│\u001b[2m                                \u001b[0m│\u001b[2m \u001b[0m\u001b[2mwant to make sure that I am doing    \u001b[0m\u001b[2m \u001b[0m│\u001b[2m \u001b[0m\u001b[2mlike to see more options for repairing\u001b[0m\u001b[2m \u001b[0m│\n",
       "│\u001b[2m                                \u001b[0m│\u001b[2m \u001b[0m\u001b[2mbusiness with companies that are     \u001b[0m\u001b[2m \u001b[0m│\u001b[2m \u001b[0m\u001b[2mproducts instead of replacing them. I \u001b[0m\u001b[2m \u001b[0m│\n",
       "│\u001b[2m                                \u001b[0m│\u001b[2m \u001b[0m\u001b[2mcommitted to sustainability. I was   \u001b[0m\u001b[2m \u001b[0m│\u001b[2m \u001b[0m\u001b[2mwould also like to see more           \u001b[0m\u001b[2m \u001b[0m│\n",
       "│\u001b[2m                                \u001b[0m│\u001b[2m \u001b[0m\u001b[2mhoping to learn more about the       \u001b[0m\u001b[2m \u001b[0m│\u001b[2m \u001b[0m\u001b[2minformation about your company's      \u001b[0m\u001b[2m \u001b[0m│\n",
       "│\u001b[2m                                \u001b[0m│\u001b[2m \u001b[0m\u001b[2mcompany's environmental policies and \u001b[0m\u001b[2m \u001b[0m│\u001b[2m \u001b[0m\u001b[2msustainability initiatives.           \u001b[0m\u001b[2m \u001b[0m│\n",
       "│\u001b[2m                                \u001b[0m│\u001b[2m \u001b[0m\u001b[2mpractices, but I was not able to get \u001b[0m\u001b[2m \u001b[0m│\u001b[2m                                        \u001b[0m│\n",
       "│\u001b[2m                                \u001b[0m│\u001b[2m \u001b[0m\u001b[2mthat information from customer       \u001b[0m\u001b[2m \u001b[0m│\u001b[2m                                        \u001b[0m│\n",
       "│\u001b[2m                                \u001b[0m│\u001b[2m \u001b[0m\u001b[2msupport.                             \u001b[0m\u001b[2m \u001b[0m│\u001b[2m                                        \u001b[0m│\n",
       "├────────────────────────────────┼───────────────────────────────────────┼────────────────────────────────────────┤\n",
       "│\u001b[2m \u001b[0m\u001b[2mExtremely satisfied           \u001b[0m\u001b[2m \u001b[0m│\u001b[2m \u001b[0m\u001b[2mI am incredibly pleased with the     \u001b[0m\u001b[2m \u001b[0m│\u001b[2m \u001b[0m\u001b[2mAs a meticulous homeowner, I am       \u001b[0m\u001b[2m \u001b[0m│\n",
       "│\u001b[2m                                \u001b[0m│\u001b[2m \u001b[0m\u001b[2mcustomer support I have received. The\u001b[0m\u001b[2m \u001b[0m│\u001b[2m \u001b[0m\u001b[2mextremely satisfied with the customer \u001b[0m\u001b[2m \u001b[0m│\n",
       "│\u001b[2m                                \u001b[0m│\u001b[2m \u001b[0m\u001b[2mrepresentatives are always courteous,\u001b[0m\u001b[2m \u001b[0m│\u001b[2m \u001b[0m\u001b[2msupport I have received from your     \u001b[0m\u001b[2m \u001b[0m│\n",
       "│\u001b[2m                                \u001b[0m│\u001b[2m \u001b[0m\u001b[2mknowledgeable, and prompt in         \u001b[0m\u001b[2m \u001b[0m│\u001b[2m \u001b[0m\u001b[2mcompany. The representatives have     \u001b[0m\u001b[2m \u001b[0m│\n",
       "│\u001b[2m                                \u001b[0m│\u001b[2m \u001b[0m\u001b[2mresponding to my inquiries. They have\u001b[0m\u001b[2m \u001b[0m│\u001b[2m \u001b[0m\u001b[2malways been knowledgeable and helpful,\u001b[0m\u001b[2m \u001b[0m│\n",
       "│\u001b[2m                                \u001b[0m│\u001b[2m \u001b[0m\u001b[2mconsistently gone above and beyond to\u001b[0m\u001b[2m \u001b[0m│\u001b[2m \u001b[0m\u001b[2mand they have gone above and beyond to\u001b[0m\u001b[2m \u001b[0m│\n",
       "│\u001b[2m                                \u001b[0m│\u001b[2m \u001b[0m\u001b[2massist me with my gardening needs,   \u001b[0m\u001b[2m \u001b[0m│\u001b[2m \u001b[0m\u001b[2mensure that my needs are met. I am    \u001b[0m\u001b[2m \u001b[0m│\n",
       "│\u001b[2m                                \u001b[0m│\u001b[2m \u001b[0m\u001b[2mproviding personalized advice and    \u001b[0m\u001b[2m \u001b[0m│\u001b[2m \u001b[0m\u001b[2mparticularly impressed with the       \u001b[0m\u001b[2m \u001b[0m│\n",
       "│\u001b[2m                                \u001b[0m│\u001b[2m \u001b[0m\u001b[2mrecommendations that have helped me  \u001b[0m\u001b[2m \u001b[0m│\u001b[2m \u001b[0m\u001b[2mcompany's commitment to precision and \u001b[0m\u001b[2m \u001b[0m│\n",
       "│\u001b[2m                                \u001b[0m│\u001b[2m \u001b[0m\u001b[2mmaintain a thriving garden.          \u001b[0m\u001b[2m \u001b[0m│\u001b[2m \u001b[0m\u001b[2mattention to detail, which is evident \u001b[0m\u001b[2m \u001b[0m│\n",
       "│\u001b[2m                                \u001b[0m│\u001b[2m                                       \u001b[0m│\u001b[2m \u001b[0m\u001b[2min all aspects of their customer      \u001b[0m\u001b[2m \u001b[0m│\n",
       "│\u001b[2m                                \u001b[0m│\u001b[2m                                       \u001b[0m│\u001b[2m \u001b[0m\u001b[2mservice.                              \u001b[0m\u001b[2m \u001b[0m│\n",
       "│\u001b[2m                                \u001b[0m│\u001b[2m                                       \u001b[0m│\u001b[2m \u001b[0m\u001b[2m                                      \u001b[0m\u001b[2m \u001b[0m│\n",
       "│\u001b[2m                                \u001b[0m│\u001b[2m                                       \u001b[0m│\u001b[2m \u001b[0m\u001b[2mHowever, there is one area where I    \u001b[0m\u001b[2m \u001b[0m│\n",
       "│\u001b[2m                                \u001b[0m│\u001b[2m                                       \u001b[0m│\u001b[2m \u001b[0m\u001b[2mbelieve your company could improve:   \u001b[0m\u001b[2m \u001b[0m│\n",
       "│\u001b[2m                                \u001b[0m│\u001b[2m                                       \u001b[0m│\u001b[2m \u001b[0m\u001b[2mthe speed of response to customer     \u001b[0m\u001b[2m \u001b[0m│\n",
       "│\u001b[2m                                \u001b[0m│\u001b[2m                                       \u001b[0m│\u001b[2m \u001b[0m\u001b[2minquiries. While I understand that    \u001b[0m\u001b[2m \u001b[0m│\n",
       "│\u001b[2m                                \u001b[0m│\u001b[2m                                       \u001b[0m│\u001b[2m \u001b[0m\u001b[2myour team is busy, I have sometimes   \u001b[0m\u001b[2m \u001b[0m│\n",
       "│\u001b[2m                                \u001b[0m│\u001b[2m                                       \u001b[0m│\u001b[2m \u001b[0m\u001b[2mhad to wait several days for a        \u001b[0m\u001b[2m \u001b[0m│\n",
       "│\u001b[2m                                \u001b[0m│\u001b[2m                                       \u001b[0m│\u001b[2m \u001b[0m\u001b[2mresponse to my emails or phone calls. \u001b[0m\u001b[2m \u001b[0m│\n",
       "│\u001b[2m                                \u001b[0m│\u001b[2m                                       \u001b[0m│\u001b[2m \u001b[0m\u001b[2mI would appreciate it if your company \u001b[0m\u001b[2m \u001b[0m│\n",
       "│\u001b[2m                                \u001b[0m│\u001b[2m                                       \u001b[0m│\u001b[2m \u001b[0m\u001b[2mcould prioritize responding to        \u001b[0m\u001b[2m \u001b[0m│\n",
       "│\u001b[2m                                \u001b[0m│\u001b[2m                                       \u001b[0m│\u001b[2m \u001b[0m\u001b[2mcustomer inquiries more quickly, as   \u001b[0m\u001b[2m \u001b[0m│\n",
       "│\u001b[2m                                \u001b[0m│\u001b[2m                                       \u001b[0m│\u001b[2m \u001b[0m\u001b[2mthis would help me to resolve any     \u001b[0m\u001b[2m \u001b[0m│\n",
       "│\u001b[2m                                \u001b[0m│\u001b[2m                                       \u001b[0m│\u001b[2m \u001b[0m\u001b[2missues or concerns I have in a timely \u001b[0m\u001b[2m \u001b[0m│\n",
       "│\u001b[2m                                \u001b[0m│\u001b[2m                                       \u001b[0m│\u001b[2m \u001b[0m\u001b[2mmanner.                               \u001b[0m\u001b[2m \u001b[0m│\n",
       "├────────────────────────────────┼───────────────────────────────────────┼────────────────────────────────────────┤\n",
       "│\u001b[2m \u001b[0m\u001b[2mModerately satisfied          \u001b[0m\u001b[2m \u001b[0m│\u001b[2m \u001b[0m\u001b[2mI appreciate the friendly service,   \u001b[0m\u001b[2m \u001b[0m│\u001b[2m \u001b[0m\u001b[2mI appreciate the friendly customer    \u001b[0m\u001b[2m \u001b[0m│\n",
       "│\u001b[2m                                \u001b[0m│\u001b[2m \u001b[0m\u001b[2mbut I find the prices to be a bit    \u001b[0m\u001b[2m \u001b[0m│\u001b[2m \u001b[0m\u001b[2msupport, but I do find the prices to  \u001b[0m\u001b[2m \u001b[0m│\n",
       "│\u001b[2m                                \u001b[0m│\u001b[2m \u001b[0m\u001b[2mhigh.                                \u001b[0m\u001b[2m \u001b[0m│\u001b[2m \u001b[0m\u001b[2mbe a bit high. If you could lower the \u001b[0m\u001b[2m \u001b[0m│\n",
       "│\u001b[2m                                \u001b[0m│\u001b[2m                                       \u001b[0m│\u001b[2m \u001b[0m\u001b[2mprices, I would be more likely to use \u001b[0m\u001b[2m \u001b[0m│\n",
       "│\u001b[2m                                \u001b[0m│\u001b[2m                                       \u001b[0m│\u001b[2m \u001b[0m\u001b[2myour services more often.             \u001b[0m\u001b[2m \u001b[0m│\n",
       "├────────────────────────────────┼───────────────────────────────────────┼────────────────────────────────────────┤\n",
       "│\u001b[2m \u001b[0m\u001b[2mModerately satisfied          \u001b[0m\u001b[2m \u001b[0m│\u001b[2m \u001b[0m\u001b[2mI'm generally happy with the customer\u001b[0m\u001b[2m \u001b[0m│\u001b[2m \u001b[0m\u001b[2mAs a busy professional, I often find  \u001b[0m\u001b[2m \u001b[0m│\n",
       "│\u001b[2m                                \u001b[0m│\u001b[2m \u001b[0m\u001b[2msupport I've received, but I wish    \u001b[0m\u001b[2m \u001b[0m│\u001b[2m \u001b[0m\u001b[2mit difficult to schedule appointments \u001b[0m\u001b[2m \u001b[0m│\n",
       "│\u001b[2m                                \u001b[0m│\u001b[2m \u001b[0m\u001b[2mthere were more flexibility with     \u001b[0m\u001b[2m \u001b[0m│\u001b[2m \u001b[0m\u001b[2mduring traditional business hours.    \u001b[0m\u001b[2m \u001b[0m│\n",
       "│\u001b[2m                                \u001b[0m│\u001b[2m \u001b[0m\u001b[2mscheduling appointments.             \u001b[0m\u001b[2m \u001b[0m│\u001b[2m \u001b[0m\u001b[2mOffering more flexible scheduling     \u001b[0m\u001b[2m \u001b[0m│\n",
       "│\u001b[2m                                \u001b[0m│\u001b[2m                                       \u001b[0m│\u001b[2m \u001b[0m\u001b[2moptions, such as evening or weekend   \u001b[0m\u001b[2m \u001b[0m│\n",
       "│\u001b[2m                                \u001b[0m│\u001b[2m                                       \u001b[0m│\u001b[2m \u001b[0m\u001b[2mappointments, would greatly improve my\u001b[0m\u001b[2m \u001b[0m│\n",
       "│\u001b[2m                                \u001b[0m│\u001b[2m                                       \u001b[0m│\u001b[2m \u001b[0m\u001b[2mexperience with your company's        \u001b[0m\u001b[2m \u001b[0m│\n",
       "│\u001b[2m                                \u001b[0m│\u001b[2m                                       \u001b[0m│\u001b[2m \u001b[0m\u001b[2mcustomer support.                     \u001b[0m\u001b[2m \u001b[0m│\n",
       "└────────────────────────────────┴───────────────────────────────────────┴────────────────────────────────────────┘\n"
      ]
     },
     "metadata": {},
     "output_type": "display_data"
    }
   ],
   "source": [
    "(results\n",
    " .filter(\"model.model == 'gemini-pro'\")\n",
    " .select(\"satisfied_1\", \"satisfied_1_comment\", \"improve_1\")\n",
    " .print(pretty_labels = {\n",
    "     \"answer.satisfied_1\": \"Customer service: satisfaction\",\n",
    "     \"comment.satisfied_1_comment\": \"Customer service: comment\",\n",
    "     \"answer.improve_1\": \"Customer service: improvements\"\n",
    " },\n",
    "        format=\"rich\")\n",
    ")"
   ]
  },
  {
   "cell_type": "markdown",
   "id": "09e8fd7a-5b38-49ef-9efd-4f5a667a2419",
   "metadata": {},
   "source": [
    "## Posting to the Coop\n",
    "The Coop is a platform for creating, storing and sharing LLM-based research.\n",
    "It is fully integrated with EDSL, allowing you to access objects from your workspace or Coop account interface.\n",
    "[Learn more about creating an account and using the Coop](https://docs.expectedparrot.com/en/latest/coop.html).\n",
    "Here we post the survey and results publicly:"
   ]
  },
  {
   "cell_type": "code",
   "execution_count": 33,
   "id": "2eac16e0-b753-4140-ace1-c2be293bc8cb",
   "metadata": {
    "editable": true,
    "slideshow": {
     "slide_type": ""
    },
    "tags": [
     "skip-execution"
    ]
   },
   "outputs": [
    {
     "data": {
      "text/plain": [
       "{'description': 'Example NPS survey',\n",
       " 'object_type': 'survey',\n",
       " 'url': 'https://www.expectedparrot.com/content/581044a0-1a97-410b-be5d-9f1b52655112',\n",
       " 'uuid': '581044a0-1a97-410b-be5d-9f1b52655112',\n",
       " 'version': '0.1.33.dev1',\n",
       " 'visibility': 'public'}"
      ]
     },
     "execution_count": 33,
     "metadata": {},
     "output_type": "execute_result"
    }
   ],
   "source": [
    "survey.push(description = \"Example NPS survey\", visibility = \"public\")"
   ]
  },
  {
   "cell_type": "code",
   "execution_count": 34,
   "id": "17e2937b-eab5-4c5f-8b9e-b121887f7eea",
   "metadata": {
    "editable": true,
    "slideshow": {
     "slide_type": ""
    },
    "tags": [
     "skip-execution"
    ]
   },
   "outputs": [
    {
     "data": {
      "text/plain": [
       "{'description': 'Results of example NPS survey',\n",
       " 'object_type': 'results',\n",
       " 'url': 'https://www.expectedparrot.com/content/1322aa3f-1816-41d2-815c-9417f20a2499',\n",
       " 'uuid': '1322aa3f-1816-41d2-815c-9417f20a2499',\n",
       " 'version': '0.1.33.dev1',\n",
       " 'visibility': 'public'}"
      ]
     },
     "execution_count": 34,
     "metadata": {},
     "output_type": "execute_result"
    }
   ],
   "source": [
    "results.push(description = \"Results of example NPS survey\", visibility = \"public\")"
   ]
  },
  {
   "cell_type": "markdown",
   "id": "a64a493c-5411-4573-87f2-2a2ab76957e5",
   "metadata": {},
   "source": [
    "We can also post a notebook, such as this one:"
   ]
  },
  {
   "cell_type": "code",
   "execution_count": 35,
   "id": "7784e69b-66ae-4411-b04d-a18bc5ceb0c1",
   "metadata": {
    "editable": true,
    "slideshow": {
     "slide_type": ""
    },
    "tags": [
     "skip-execution"
    ]
   },
   "outputs": [],
   "source": [
    "from edsl import Notebook"
   ]
  },
  {
   "cell_type": "code",
   "execution_count": 36,
   "id": "e52b8469-0f97-4b45-b40d-e054ed1e12fc",
   "metadata": {
    "editable": true,
    "slideshow": {
     "slide_type": ""
    },
    "tags": [
     "skip-execution"
    ]
   },
   "outputs": [],
   "source": [
    "n = Notebook(path = \"nps_survey.ipynb\")"
   ]
  },
  {
   "cell_type": "code",
   "execution_count": 37,
   "id": "9ff2d838-8cdf-45c7-86a1-15c9039c5dc6",
   "metadata": {
    "editable": true,
    "slideshow": {
     "slide_type": ""
    },
    "tags": [
     "skip-execution"
    ]
   },
   "outputs": [
    {
     "data": {
      "text/plain": [
       "{'description': 'Notebook for simulating an NPS survey',\n",
       " 'object_type': 'notebook',\n",
       " 'url': 'https://www.expectedparrot.com/content/0f12162f-474f-446e-9456-32b14bc87591',\n",
       " 'uuid': '0f12162f-474f-446e-9456-32b14bc87591',\n",
       " 'version': '0.1.33.dev1',\n",
       " 'visibility': 'unlisted'}"
      ]
     },
     "execution_count": 37,
     "metadata": {},
     "output_type": "execute_result"
    }
   ],
   "source": [
    "n.push(description = \"Notebook for simulating an NPS survey\")"
   ]
  },
  {
   "cell_type": "markdown",
   "id": "9a183046-f290-40aa-8c82-881def48935e",
   "metadata": {},
   "source": [
    "To update an object at the Coop:"
   ]
  },
  {
   "cell_type": "code",
   "execution_count": 40,
   "id": "41bf9e0c-6f02-4652-974d-6f0288c11af7",
   "metadata": {
    "editable": true,
    "slideshow": {
     "slide_type": ""
    },
    "tags": [
     "skip-execution"
    ]
   },
   "outputs": [],
   "source": [
    "n = Notebook(path = \"nps_survey.ipynb\")"
   ]
  },
  {
   "cell_type": "code",
   "execution_count": 41,
   "id": "5641f25a-156d-4de6-8453-7e7564648551",
   "metadata": {
    "editable": true,
    "slideshow": {
     "slide_type": ""
    },
    "tags": [
     "skip-execution"
    ]
   },
   "outputs": [
    {
     "data": {
      "text/plain": [
       "{'status': 'success'}"
      ]
     },
     "execution_count": 41,
     "metadata": {},
     "output_type": "execute_result"
    }
   ],
   "source": [
    "n.patch(uuid = \"0f12162f-474f-446e-9456-32b14bc87591\", visibility = \"public\", value = n)"
   ]
  }
 ],
 "metadata": {
  "kernelspec": {
   "display_name": "Python 3 (ipykernel)",
   "language": "python",
   "name": "python3"
  },
  "language_info": {
   "codemirror_mode": {
    "name": "ipython",
    "version": 3
   },
   "file_extension": ".py",
   "mimetype": "text/x-python",
   "name": "python",
   "nbconvert_exporter": "python",
   "pygments_lexer": "ipython3",
   "version": "3.11.7"
  }
 },
 "nbformat": 4,
 "nbformat_minor": 5
}
