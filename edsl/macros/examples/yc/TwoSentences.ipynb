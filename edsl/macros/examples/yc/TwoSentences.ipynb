{
 "cells": [
  {
   "cell_type": "markdown",
   "id": "9c425139-ab03-4c87-b1c3-6ec3f07917a3",
   "metadata": {},
   "source": [
    "# Finding a better 2 sentence description using an Expected Parrot 'App'\n",
    "\n",
    "This notebook demonstrates how you can use EDSL to: \n",
    "1. Turn textual advice about something into a checklist of Yes/No questions in EDSL format\n",
    "2. Apply that checklist to candidates and get a tally of scores\n",
    "\n",
    "We'll use YC's advice to founders about how to create a two sentence description. Note that it is not structured as a checklist---paragraph of advice and some examples."
   ]
  },
  {
   "cell_type": "markdown",
   "id": "7715d7bb-77b1-4f89-bc85-970eb2a20bb1",
   "metadata": {},
   "source": [
    "### Loading the text"
   ]
  },
  {
   "cell_type": "code",
   "execution_count": 1,
   "id": "e51351fa-2a64-4a7d-a7cf-c19dc5aaec77",
   "metadata": {},
   "outputs": [],
   "source": [
    "import textwrap\n",
    "yc_advice = textwrap.dedent(\"\"\"\\\n",
    "Your two sentence description is a concise explanation of your company for investors.\n",
    "You'll practice using it during YC to introduce your company to other founders in the batch.\n",
    "\n",
    "Your Group Partners will help you perfect your two sentence description.\n",
    "A great two sentence description is a powerful tool that signals you're a clear thinker and succinct communicator.\n",
    "This impresses investors and other useful people like potential hires or press.\n",
    "\n",
    "Here are some examples of a good two sentence description:\n",
    "\n",
    "    Stripe (S09) - Stripe is the easiest way for developers to process payments online. \n",
    "    In just 7 lines of code, you can start accepting payments from customers in 135+ currencies \n",
    "    without dealing with banks, compliance, or security headaches that normally take months to figure out.\n",
    "\n",
    "    PostHog (W20) - PostHog is open source product analytics. Unlike closed-source alternatives that charge \n",
    "    $30K+/year and lock away your data, we give you complete control, unlimited events, and the ability to \n",
    "    deploy on your own infrastructure in under 5 minutes.\n",
    "\n",
    "    Airbnb (W09) - Airbnb is a marketplace where you can book a home or apartment when traveling. \n",
    "    You get 3x more space for half the price of hotels, plus a kitchen, local neighborhood feel, and \n",
    "    unique stays like treehouses and castles that make your trip unforgettable.\n",
    "\n",
    "A good two sentence description is memorable, creates a clear mental image of what your company does and \n",
    "makes the listener curious to learn more. Test it during the batch by asking a \n",
    "new founder each week to explain what your company does after hearing your two sentence description.\n",
    "\n",
    "The three most common mistakes founders make when creating their two sentence pitch are making \n",
    "it too long, using too many buzzwords and failing to include traction.\n",
    "\n",
    "Recommended structure\n",
    "\n",
    "The first sentence plainly explains what the startup does. \n",
    "Anyone who hears it should have a clear sense for what it is used for, and ideally by whom. \n",
    "Nobody can engage with your startup if they don’t even understand what it is.\n",
    "\n",
    "The second sentence plainly makes people understand why your startup is awesome and better than everything else. \n",
    "There are a bunch of ways to do this: \n",
    "specific user story that sounds way better, \n",
    "experience the founding team has that emphasizes they’re the ones to fix it, \n",
    "or even super fast growth during the YC batch.\n",
    "\n",
    "It's not meant to be all-encompassing of the whole pitch\n",
    "\n",
    "Think of your two sentence description like the trailer to a movie. \n",
    "It's goal is to pluck out just the most interesting things about your company \n",
    "to convince investors they should spend more time with you. Don’t try and cram everything \n",
    "about your company into it — investors are impressed by clear and concise communication, \n",
    "and the two sentence pitch is the appetizer not the main course.\n",
    "\n",
    "Use plain English\n",
    "\n",
    "Sometimes founders try and impress investors by stringing together popular buzzwords they think investors want to hear. \n",
    "It usually sounds something like this: \n",
    "<bad_example>\n",
    "“QuantumAI is an AI-powered platform revolutionizing the \n",
    "future of business by streamlining complex workflows to drive efficiency for our customers.” \n",
    "</bad_example>\n",
    "Don’t do this. Instead use informal, simple language your mother would understand.\n",
    "\"\"\").strip()"
   ]
  },
  {
   "cell_type": "markdown",
   "id": "a5a91f0a-d741-45e8-8d6d-2b464f4353d8",
   "metadata": {},
   "source": [
    "### Loading the EDSL apps \n",
    "\n",
    "We have a collection of \"apps\" that we have created that take inputs (structured as an EDSL survey for eventual graphical usage on our website) and can return other EDSL objects (such as Surveys) that can then be used. Apps are composable so one app can feed into to another: "
   ]
  },
  {
   "cell_type": "code",
   "execution_count": 2,
   "id": "df2d9c61-7bbe-4438-8aed-ee0f79cd49dc",
   "metadata": {},
   "outputs": [
    {
     "data": {
      "text/html": [
       "<p><a href='https://docs.expectedparrot.com/en/latest/scenarios.html'>Scenario</a></p>\n",
       "            <div style=\"max-height: 500px; overflow-y: auto;\">\n",
       "                <style type=\"text/css\">\n",
       "#T_79fb1_row0_col0, #T_79fb1_row0_col1, #T_79fb1_row1_col0, #T_79fb1_row1_col1, #T_79fb1_row2_col0, #T_79fb1_row2_col1 {\n",
       "  text-align: left;\n",
       "  white-space: pre-wrap;\n",
       "  max-width: 300px;\n",
       "  word-wrap: break-word;\n",
       "}\n",
       "</style>\n",
       "<table id=\"T_79fb1\">\n",
       "  <thead>\n",
       "    <tr>\n",
       "      <th class=\"blank level0\" >&nbsp;</th>\n",
       "      <th id=\"T_79fb1_level0_col0\" class=\"col_heading level0 col0\" >key</th>\n",
       "      <th id=\"T_79fb1_level0_col1\" class=\"col_heading level0 col1\" >value</th>\n",
       "    </tr>\n",
       "  </thead>\n",
       "  <tbody>\n",
       "    <tr>\n",
       "      <th id=\"T_79fb1_level0_row0\" class=\"row_heading level0 row0\" >0</th>\n",
       "      <td id=\"T_79fb1_row0_col0\" class=\"data row0 col0\" >name</td>\n",
       "      <td id=\"T_79fb1_row0_col1\" class=\"data row0 col1\" >advice_to_checklist</td>\n",
       "    </tr>\n",
       "    <tr>\n",
       "      <th id=\"T_79fb1_level0_row1\" class=\"row_heading level0 row1\" >1</th>\n",
       "      <td id=\"T_79fb1_row1_col0\" class=\"data row1 col0\" >description</td>\n",
       "      <td id=\"T_79fb1_row1_col1\" class=\"data row1 col1\" >\n",
       "An advice-to-checklist converter.\n",
       "\n",
       "This app takes a block of textual advice and converts it into a checklist of yes/no questions. \n",
       "Each question can be applied to a specific item by using {{ scenario.item }} in the question text.\n",
       "\n",
       "For example, if you provide advice like \"Make sure your code is well-tested\", it will generate questions like:\n",
       "- Does the code have unit tests: {{ scenario.item }}\n",
       "- Does the code have integration tests: {{ scenario.item }}\n",
       "\n",
       "This allows you to apply the same checklist to multiple items by creating scenarios with different values for 'item'.\n",
       "</td>\n",
       "    </tr>\n",
       "    <tr>\n",
       "      <th id=\"T_79fb1_level0_row2\" class=\"row_heading level0 row2\" >2</th>\n",
       "      <td id=\"T_79fb1_row2_col0\" class=\"data row2 col0\" >parameters:0</td>\n",
       "      <td id=\"T_79fb1_row2_col1\" class=\"data row2 col1\" >('advice_text', 'free_text', 'What advice would you like to convert into a checklist?')</td>\n",
       "    </tr>\n",
       "  </tbody>\n",
       "</table>\n",
       "\n",
       "            </div>\n",
       "            "
      ],
      "text/plain": [
       "Scenario({'name': 'advice_to_checklist', 'description': '\\nAn advice-to-checklist converter.\\n\\nThis app takes a block of textual advice and converts it into a checklist of yes/no questions. \\nEach question can be applied to a specific item by using {{ scenario.item }} in the question text.\\n\\nFor example, if you provide advice like \"Make sure your code is well-tested\", it will generate questions like:\\n- Does the code have unit tests: {{ scenario.item }}\\n- Does the code have integration tests: {{ scenario.item }}\\n\\nThis allows you to apply the same checklist to multiple items by creating scenarios with different values for \\'item\\'.\\n', 'parameters': [('advice_text', 'free_text', 'What advice would you like to convert into a checklist?')]})"
      ]
     },
     "execution_count": 2,
     "metadata": {},
     "output_type": "execute_result"
    }
   ],
   "source": [
    "from edsl.app import AppRegistry\n",
    "AppRegistry.from_package('edsl.app.examples')\n",
    "AppRegistry.list()[0]"
   ]
  },
  {
   "cell_type": "markdown",
   "id": "5041346b-a076-49a2-85d0-75624d23eeac",
   "metadata": {},
   "source": [
    "### Calling the \"Advice-to-Checklist\" app\n",
    "We pass the YC advice as a string and get back an EDSL survey. Note that it already has the {{ }} moustache braces so it's ready to be used agains some 'item' we want to assess against the checklist. "
   ]
  },
  {
   "cell_type": "code",
   "execution_count": 3,
   "id": "952d0104-148a-46fd-8ee6-6e057472a0a2",
   "metadata": {},
   "outputs": [
    {
     "data": {
      "text/html": [
       "<p><a href='https://docs.expectedparrot.com/en/latest/surveys.html'>Survey</a> # questions: 10; question_name list: ['question_0', 'question_1', 'question_2', 'question_3', 'question_4', 'question_5', 'question_6', 'question_7', 'question_8', 'question_9'];</p>\n",
       "            <div style=\"max-height: 500px; overflow-y: auto;\">\n",
       "                <style type=\"text/css\">\n",
       "#T_829a0_row0_col0, #T_829a0_row0_col1, #T_829a0_row0_col2, #T_829a0_row0_col3, #T_829a0_row1_col0, #T_829a0_row1_col1, #T_829a0_row1_col2, #T_829a0_row1_col3, #T_829a0_row2_col0, #T_829a0_row2_col1, #T_829a0_row2_col2, #T_829a0_row2_col3, #T_829a0_row3_col0, #T_829a0_row3_col1, #T_829a0_row3_col2, #T_829a0_row3_col3, #T_829a0_row4_col0, #T_829a0_row4_col1, #T_829a0_row4_col2, #T_829a0_row4_col3, #T_829a0_row5_col0, #T_829a0_row5_col1, #T_829a0_row5_col2, #T_829a0_row5_col3, #T_829a0_row6_col0, #T_829a0_row6_col1, #T_829a0_row6_col2, #T_829a0_row6_col3, #T_829a0_row7_col0, #T_829a0_row7_col1, #T_829a0_row7_col2, #T_829a0_row7_col3, #T_829a0_row8_col0, #T_829a0_row8_col1, #T_829a0_row8_col2, #T_829a0_row8_col3, #T_829a0_row9_col0, #T_829a0_row9_col1, #T_829a0_row9_col2, #T_829a0_row9_col3 {\n",
       "  text-align: left;\n",
       "  white-space: pre-wrap;\n",
       "  max-width: 300px;\n",
       "  word-wrap: break-word;\n",
       "}\n",
       "</style>\n",
       "<table id=\"T_829a0\">\n",
       "  <thead>\n",
       "    <tr>\n",
       "      <th class=\"blank level0\" >&nbsp;</th>\n",
       "      <th id=\"T_829a0_level0_col0\" class=\"col_heading level0 col0\" >question_name</th>\n",
       "      <th id=\"T_829a0_level0_col1\" class=\"col_heading level0 col1\" >question_text</th>\n",
       "      <th id=\"T_829a0_level0_col2\" class=\"col_heading level0 col2\" >question_options</th>\n",
       "      <th id=\"T_829a0_level0_col3\" class=\"col_heading level0 col3\" >question_type</th>\n",
       "    </tr>\n",
       "  </thead>\n",
       "  <tbody>\n",
       "    <tr>\n",
       "      <th id=\"T_829a0_level0_row0\" class=\"row_heading level0 row0\" >0</th>\n",
       "      <td id=\"T_829a0_row0_col0\" class=\"data row0 col0\" >question_0</td>\n",
       "      <td id=\"T_829a0_row0_col1\" class=\"data row0 col1\" >Does the first sentence clearly explain what the startup does?: {{ scenario.item }}</td>\n",
       "      <td id=\"T_829a0_row0_col2\" class=\"data row0 col2\" >['No', 'Yes']</td>\n",
       "      <td id=\"T_829a0_row0_col3\" class=\"data row0 col3\" >yes_no</td>\n",
       "    </tr>\n",
       "    <tr>\n",
       "      <th id=\"T_829a0_level0_row1\" class=\"row_heading level0 row1\" >1</th>\n",
       "      <td id=\"T_829a0_row1_col0\" class=\"data row1 col0\" >question_1</td>\n",
       "      <td id=\"T_829a0_row1_col1\" class=\"data row1 col1\" >Is the target user or customer clearly identified in the first sentence?: {{ scenario.item }}</td>\n",
       "      <td id=\"T_829a0_row1_col2\" class=\"data row1 col2\" >['No', 'Yes']</td>\n",
       "      <td id=\"T_829a0_row1_col3\" class=\"data row1 col3\" >yes_no</td>\n",
       "    </tr>\n",
       "    <tr>\n",
       "      <th id=\"T_829a0_level0_row2\" class=\"row_heading level0 row2\" >2</th>\n",
       "      <td id=\"T_829a0_row2_col0\" class=\"data row2 col0\" >question_2</td>\n",
       "      <td id=\"T_829a0_row2_col1\" class=\"data row2 col1\" >Does the second sentence explain why the startup is awesome or better than competitors?: {{ scenario.item }}</td>\n",
       "      <td id=\"T_829a0_row2_col2\" class=\"data row2 col2\" >['No', 'Yes']</td>\n",
       "      <td id=\"T_829a0_row2_col3\" class=\"data row2 col3\" >yes_no</td>\n",
       "    </tr>\n",
       "    <tr>\n",
       "      <th id=\"T_829a0_level0_row3\" class=\"row_heading level0 row3\" >3</th>\n",
       "      <td id=\"T_829a0_row3_col0\" class=\"data row3 col0\" >question_3</td>\n",
       "      <td id=\"T_829a0_row3_col1\" class=\"data row3 col1\" >Is the language used simple and free of buzzwords?: {{ scenario.item }}</td>\n",
       "      <td id=\"T_829a0_row3_col2\" class=\"data row3 col2\" >['No', 'Yes']</td>\n",
       "      <td id=\"T_829a0_row3_col3\" class=\"data row3 col3\" >yes_no</td>\n",
       "    </tr>\n",
       "    <tr>\n",
       "      <th id=\"T_829a0_level0_row4\" class=\"row_heading level0 row4\" >4</th>\n",
       "      <td id=\"T_829a0_row4_col0\" class=\"data row4 col0\" >question_4</td>\n",
       "      <td id=\"T_829a0_row4_col1\" class=\"data row4 col1\" >Is the description concise and limited to two sentences?: {{ scenario.item }}</td>\n",
       "      <td id=\"T_829a0_row4_col2\" class=\"data row4 col2\" >['No', 'Yes']</td>\n",
       "      <td id=\"T_829a0_row4_col3\" class=\"data row4 col3\" >yes_no</td>\n",
       "    </tr>\n",
       "    <tr>\n",
       "      <th id=\"T_829a0_level0_row5\" class=\"row_heading level0 row5\" >5</th>\n",
       "      <td id=\"T_829a0_row5_col0\" class=\"data row5 col0\" >question_5</td>\n",
       "      <td id=\"T_829a0_row5_col1\" class=\"data row5 col1\" >Does the description avoid trying to include everything about the company?: {{ scenario.item }}</td>\n",
       "      <td id=\"T_829a0_row5_col2\" class=\"data row5 col2\" >['No', 'Yes']</td>\n",
       "      <td id=\"T_829a0_row5_col3\" class=\"data row5 col3\" >yes_no</td>\n",
       "    </tr>\n",
       "    <tr>\n",
       "      <th id=\"T_829a0_level0_row6\" class=\"row_heading level0 row6\" >6</th>\n",
       "      <td id=\"T_829a0_row6_col0\" class=\"data row6 col0\" >question_6</td>\n",
       "      <td id=\"T_829a0_row6_col1\" class=\"data row6 col1\" >Does the description make the listener curious to learn more?: {{ scenario.item }}</td>\n",
       "      <td id=\"T_829a0_row6_col2\" class=\"data row6 col2\" >['No', 'Yes']</td>\n",
       "      <td id=\"T_829a0_row6_col3\" class=\"data row6 col3\" >yes_no</td>\n",
       "    </tr>\n",
       "    <tr>\n",
       "      <th id=\"T_829a0_level0_row7\" class=\"row_heading level0 row7\" >7</th>\n",
       "      <td id=\"T_829a0_row7_col0\" class=\"data row7 col0\" >question_7</td>\n",
       "      <td id=\"T_829a0_row7_col1\" class=\"data row7 col1\" >Is there a specific user story or unique selling point included?: {{ scenario.item }}</td>\n",
       "      <td id=\"T_829a0_row7_col2\" class=\"data row7 col2\" >['No', 'Yes']</td>\n",
       "      <td id=\"T_829a0_row7_col3\" class=\"data row7 col3\" >yes_no</td>\n",
       "    </tr>\n",
       "    <tr>\n",
       "      <th id=\"T_829a0_level0_row8\" class=\"row_heading level0 row8\" >8</th>\n",
       "      <td id=\"T_829a0_row8_col0\" class=\"data row8 col0\" >question_8</td>\n",
       "      <td id=\"T_829a0_row8_col1\" class=\"data row8 col1\" >Is the description memorable and easy to repeat?: {{ scenario.item }}</td>\n",
       "      <td id=\"T_829a0_row8_col2\" class=\"data row8 col2\" >['No', 'Yes']</td>\n",
       "      <td id=\"T_829a0_row8_col3\" class=\"data row8 col3\" >yes_no</td>\n",
       "    </tr>\n",
       "    <tr>\n",
       "      <th id=\"T_829a0_level0_row9\" class=\"row_heading level0 row9\" >9</th>\n",
       "      <td id=\"T_829a0_row9_col0\" class=\"data row9 col0\" >question_9</td>\n",
       "      <td id=\"T_829a0_row9_col1\" class=\"data row9 col1\" >Has the description been tested with new founders for clarity and understanding?: {{ scenario.item }}</td>\n",
       "      <td id=\"T_829a0_row9_col2\" class=\"data row9 col2\" >['No', 'Yes']</td>\n",
       "      <td id=\"T_829a0_row9_col3\" class=\"data row9 col3\" >yes_no</td>\n",
       "    </tr>\n",
       "  </tbody>\n",
       "</table>\n",
       "\n",
       "            </div>\n",
       "            "
      ],
      "text/plain": [
       "Survey(questions=[Question('yes_no', question_name = \"\"\"question_0\"\"\", question_text = \"\"\"Does the first sentence clearly explain what the startup does?: {{ scenario.item }}\"\"\", question_options = ['No', 'Yes']), Question('yes_no', question_name = \"\"\"question_1\"\"\", question_text = \"\"\"Is the target user or customer clearly identified in the first sentence?: {{ scenario.item }}\"\"\", question_options = ['No', 'Yes']), Question('yes_no', question_name = \"\"\"question_2\"\"\", question_text = \"\"\"Does the second sentence explain why the startup is awesome or better than competitors?: {{ scenario.item }}\"\"\", question_options = ['No', 'Yes']), Question('yes_no', question_name = \"\"\"question_3\"\"\", question_text = \"\"\"Is the language used simple and free of buzzwords?: {{ scenario.item }}\"\"\", question_options = ['No', 'Yes']), Question('yes_no', question_name = \"\"\"question_4\"\"\", question_text = \"\"\"Is the description concise and limited to two sentences?: {{ scenario.item }}\"\"\", question_options = ['No', 'Yes']), Question('yes_no', question_name = \"\"\"question_5\"\"\", question_text = \"\"\"Does the description avoid trying to include everything about the company?: {{ scenario.item }}\"\"\", question_options = ['No', 'Yes']), Question('yes_no', question_name = \"\"\"question_6\"\"\", question_text = \"\"\"Does the description make the listener curious to learn more?: {{ scenario.item }}\"\"\", question_options = ['No', 'Yes']), Question('yes_no', question_name = \"\"\"question_7\"\"\", question_text = \"\"\"Is there a specific user story or unique selling point included?: {{ scenario.item }}\"\"\", question_options = ['No', 'Yes']), Question('yes_no', question_name = \"\"\"question_8\"\"\", question_text = \"\"\"Is the description memorable and easy to repeat?: {{ scenario.item }}\"\"\", question_options = ['No', 'Yes']), Question('yes_no', question_name = \"\"\"question_9\"\"\", question_text = \"\"\"Has the description been tested with new founders for clarity and understanding?: {{ scenario.item }}\"\"\", question_options = ['No', 'Yes'])], memory_plan={}, rule_collection=RuleCollection(rules=[Rule(current_q=0, expression=\"True\", next_q=1, priority=-1, question_name_to_index={'question_0': 0}, before_rule=False), Rule(current_q=1, expression=\"True\", next_q=2, priority=-1, question_name_to_index={'question_0': 0, 'question_1': 1}, before_rule=False), Rule(current_q=2, expression=\"True\", next_q=3, priority=-1, question_name_to_index={'question_0': 0, 'question_1': 1, 'question_2': 2}, before_rule=False), Rule(current_q=3, expression=\"True\", next_q=4, priority=-1, question_name_to_index={'question_0': 0, 'question_1': 1, 'question_2': 2, 'question_3': 3}, before_rule=False), Rule(current_q=4, expression=\"True\", next_q=5, priority=-1, question_name_to_index={'question_0': 0, 'question_1': 1, 'question_2': 2, 'question_3': 3, 'question_4': 4}, before_rule=False), Rule(current_q=5, expression=\"True\", next_q=6, priority=-1, question_name_to_index={'question_0': 0, 'question_1': 1, 'question_2': 2, 'question_3': 3, 'question_4': 4, 'question_5': 5}, before_rule=False), Rule(current_q=6, expression=\"True\", next_q=7, priority=-1, question_name_to_index={'question_0': 0, 'question_1': 1, 'question_2': 2, 'question_3': 3, 'question_4': 4, 'question_5': 5, 'question_6': 6}, before_rule=False), Rule(current_q=7, expression=\"True\", next_q=8, priority=-1, question_name_to_index={'question_0': 0, 'question_1': 1, 'question_2': 2, 'question_3': 3, 'question_4': 4, 'question_5': 5, 'question_6': 6, 'question_7': 7}, before_rule=False), Rule(current_q=8, expression=\"True\", next_q=9, priority=-1, question_name_to_index={'question_0': 0, 'question_1': 1, 'question_2': 2, 'question_3': 3, 'question_4': 4, 'question_5': 5, 'question_6': 6, 'question_7': 7, 'question_8': 8}, before_rule=False), Rule(current_q=9, expression=\"True\", next_q=10, priority=-1, question_name_to_index={'question_0': 0, 'question_1': 1, 'question_2': 2, 'question_3': 3, 'question_4': 4, 'question_5': 5, 'question_6': 6, 'question_7': 7, 'question_8': 8, 'question_9': 9}, before_rule=False)], num_questions=None), question_groups={}, questions_to_randomize=[])"
      ]
     },
     "execution_count": 3,
     "metadata": {},
     "output_type": "execute_result"
    }
   ],
   "source": [
    "app = AppRegistry.get_app(\"advice_to_checklist\")\n",
    "survey = app(advice_text = yc_advice)\n",
    "survey"
   ]
  },
  {
   "cell_type": "markdown",
   "id": "d62e4a49-cf19-4efd-ba89-56884cadb64c",
   "metadata": {},
   "source": [
    "## Let's try a really crappy 2 sentence description\n",
    "\n",
    "An EDSL survey can be used like a function directly (it's a little syntactical sugar) where the parameters get turned into an EDSL Scenario object, which an EDSL Survey expects. q_and_a just gives each question & the model's answer. "
   ]
  },
  {
   "cell_type": "code",
   "execution_count": 4,
   "id": "d8d13d69-287a-4818-adb1-9503cee6109f",
   "metadata": {},
   "outputs": [],
   "source": [
    "bad_results = survey(item = \"Expected Parrot is Bringing About the Quantum Singularity. It's made with Love.\")\n",
    "cutsheet = bad_results[0].q_and_a(include_scenario = True).filter(\"answer == 'No'\")"
   ]
  },
  {
   "cell_type": "markdown",
   "id": "912f07ed-34c9-4ddc-ac7e-563157fc4209",
   "metadata": {},
   "source": [
    "We can see do quite poorly, basically only getting points for brevity, strict compliance with the 2 sentence thing and maybe, generously, that the listener is curious: "
   ]
  },
  {
   "cell_type": "code",
   "execution_count": 5,
   "id": "3b70f0c0-09fa-43fb-aec8-9f3b4eee1a67",
   "metadata": {},
   "outputs": [
    {
     "data": {
      "text/html": [
       "\n",
       "            <div style=\"max-height: 500px; overflow-y: auto;\">\n",
       "                <style type=\"text/css\">\n",
       "#T_5bf89_row0_col0, #T_5bf89_row1_col0 {\n",
       "  text-align: left;\n",
       "  white-space: pre-wrap;\n",
       "  max-width: 300px;\n",
       "  word-wrap: break-word;\n",
       "}\n",
       "#T_5bf89_row0_col1 {\n",
       "  text-align: left;\n",
       "  white-space: pre-wrap;\n",
       "  max-width: 300px;\n",
       "  word-wrap: break-word;\n",
       "  background-color: #023858;\n",
       "  color: #f1f1f1;\n",
       "}\n",
       "#T_5bf89_row1_col1 {\n",
       "  text-align: left;\n",
       "  white-space: pre-wrap;\n",
       "  max-width: 300px;\n",
       "  word-wrap: break-word;\n",
       "  background-color: #fff7fb;\n",
       "  color: #000000;\n",
       "}\n",
       "</style>\n",
       "<table id=\"T_5bf89\">\n",
       "  <thead>\n",
       "    <tr>\n",
       "      <th class=\"blank level0\" >&nbsp;</th>\n",
       "      <th id=\"T_5bf89_level0_col0\" class=\"col_heading level0 col0\" >answer</th>\n",
       "      <th id=\"T_5bf89_level0_col1\" class=\"col_heading level0 col1\" >count</th>\n",
       "    </tr>\n",
       "  </thead>\n",
       "  <tbody>\n",
       "    <tr>\n",
       "      <th id=\"T_5bf89_level0_row0\" class=\"row_heading level0 row0\" >0</th>\n",
       "      <td id=\"T_5bf89_row0_col0\" class=\"data row0 col0\" >No</td>\n",
       "      <td id=\"T_5bf89_row0_col1\" class=\"data row0 col1\" >6</td>\n",
       "    </tr>\n",
       "    <tr>\n",
       "      <th id=\"T_5bf89_level0_row1\" class=\"row_heading level0 row1\" >1</th>\n",
       "      <td id=\"T_5bf89_row1_col0\" class=\"data row1 col0\" >Yes</td>\n",
       "      <td id=\"T_5bf89_row1_col1\" class=\"data row1 col1\" >4</td>\n",
       "    </tr>\n",
       "  </tbody>\n",
       "</table>\n",
       "\n",
       "            </div>\n",
       "            "
      ],
      "text/plain": [
       "Dataset([{'answer': ['No', 'Yes']}, {'count': [6, 4]}])"
      ]
     },
     "execution_count": 5,
     "metadata": {},
     "output_type": "execute_result"
    }
   ],
   "source": [
    "bad_results[0].q_and_a().tally('answer')"
   ]
  },
  {
   "cell_type": "markdown",
   "id": "adc18e9e-b9ae-4dc0-8ac7-0a0afbe8ac51",
   "metadata": {},
   "source": [
    "## Let's try a better one"
   ]
  },
  {
   "cell_type": "code",
   "execution_count": 6,
   "id": "da29ba43-934d-491a-91a3-9cec1164bb58",
   "metadata": {},
   "outputs": [
    {
     "data": {
      "text/html": [
       "<p><a href='https://docs.expectedparrot.com/en/latest/scenarios.html#scenariolist'>ScenarioList</a> scenarios: 10; keys: ['question_text', 'comment', 'answer'];</p>\n",
       "            <div style=\"max-height: 500px; overflow-y: auto;\">\n",
       "                <style type=\"text/css\">\n",
       "#T_ed427_row0_col0, #T_ed427_row0_col1, #T_ed427_row0_col2, #T_ed427_row1_col0, #T_ed427_row1_col1, #T_ed427_row1_col2, #T_ed427_row2_col0, #T_ed427_row2_col1, #T_ed427_row2_col2, #T_ed427_row3_col0, #T_ed427_row3_col1, #T_ed427_row3_col2, #T_ed427_row4_col0, #T_ed427_row4_col1, #T_ed427_row4_col2, #T_ed427_row5_col0, #T_ed427_row5_col1, #T_ed427_row5_col2, #T_ed427_row6_col0, #T_ed427_row6_col1, #T_ed427_row6_col2, #T_ed427_row7_col0, #T_ed427_row7_col1, #T_ed427_row7_col2, #T_ed427_row8_col0, #T_ed427_row8_col1, #T_ed427_row8_col2, #T_ed427_row9_col0, #T_ed427_row9_col1, #T_ed427_row9_col2 {\n",
       "  text-align: left;\n",
       "  white-space: pre-wrap;\n",
       "  max-width: 300px;\n",
       "  word-wrap: break-word;\n",
       "}\n",
       "</style>\n",
       "<table id=\"T_ed427\">\n",
       "  <thead>\n",
       "    <tr>\n",
       "      <th class=\"blank level0\" >&nbsp;</th>\n",
       "      <th id=\"T_ed427_level0_col0\" class=\"col_heading level0 col0\" >question_text</th>\n",
       "      <th id=\"T_ed427_level0_col1\" class=\"col_heading level0 col1\" >answer</th>\n",
       "      <th id=\"T_ed427_level0_col2\" class=\"col_heading level0 col2\" >comment</th>\n",
       "    </tr>\n",
       "  </thead>\n",
       "  <tbody>\n",
       "    <tr>\n",
       "      <th id=\"T_ed427_level0_row0\" class=\"row_heading level0 row0\" >0</th>\n",
       "      <td id=\"T_ed427_row0_col0\" class=\"data row0 col0\" >Does the first sentence clearly explain what the startup does?: {{ scenario.item }}</td>\n",
       "      <td id=\"T_ed427_row0_col1\" class=\"data row0 col1\" >Yes</td>\n",
       "      <td id=\"T_ed427_row0_col2\" class=\"data row0 col2\" >The first sentence clearly explains that Expected Parrot assists companies in simulating their customers using open source tools.</td>\n",
       "    </tr>\n",
       "    <tr>\n",
       "      <th id=\"T_ed427_level0_row1\" class=\"row_heading level0 row1\" >1</th>\n",
       "      <td id=\"T_ed427_row1_col0\" class=\"data row1 col0\" >Is the target user or customer clearly identified in the first sentence?: {{ scenario.item }}</td>\n",
       "      <td id=\"T_ed427_row1_col1\" class=\"data row1 col1\" >Yes</td>\n",
       "      <td id=\"T_ed427_row1_col2\" class=\"data row1 col2\" >The first sentence clearly identifies the target user or customer as \"companies\" that are interested in simulating their customers using open source tools.</td>\n",
       "    </tr>\n",
       "    <tr>\n",
       "      <th id=\"T_ed427_level0_row2\" class=\"row_heading level0 row2\" >2</th>\n",
       "      <td id=\"T_ed427_row2_col0\" class=\"data row2 col0\" >Does the second sentence explain why the startup is awesome or better than competitors?: {{ scenario.item }}</td>\n",
       "      <td id=\"T_ed427_row2_col1\" class=\"data row2 col1\" >No</td>\n",
       "      <td id=\"T_ed427_row2_col2\" class=\"data row2 col2\" >The second sentence provides information about the startup's success and adoption but does not explicitly explain why it is awesome or better than competitors.</td>\n",
       "    </tr>\n",
       "    <tr>\n",
       "      <th id=\"T_ed427_level0_row3\" class=\"row_heading level0 row3\" >3</th>\n",
       "      <td id=\"T_ed427_row3_col0\" class=\"data row3 col0\" >Is the language used simple and free of buzzwords?: {{ scenario.item }}</td>\n",
       "      <td id=\"T_ed427_row3_col1\" class=\"data row3 col1\" >No</td>\n",
       "      <td id=\"T_ed427_row3_col2\" class=\"data row3 col2\" >nan</td>\n",
       "    </tr>\n",
       "    <tr>\n",
       "      <th id=\"T_ed427_level0_row4\" class=\"row_heading level0 row4\" >4</th>\n",
       "      <td id=\"T_ed427_row4_col0\" class=\"data row4 col0\" >Is the description concise and limited to two sentences?: {{ scenario.item }}</td>\n",
       "      <td id=\"T_ed427_row4_col1\" class=\"data row4 col1\" >Yes</td>\n",
       "      <td id=\"T_ed427_row4_col2\" class=\"data row4 col2\" >The description is concise and limited to two sentences, as it clearly and succinctly communicates the main features and achievements of Expected Parrot in two complete sentences.</td>\n",
       "    </tr>\n",
       "    <tr>\n",
       "      <th id=\"T_ed427_level0_row5\" class=\"row_heading level0 row5\" >5</th>\n",
       "      <td id=\"T_ed427_row5_col0\" class=\"data row5 col0\" >Does the description avoid trying to include everything about the company?: {{ scenario.item }}</td>\n",
       "      <td id=\"T_ed427_row5_col1\" class=\"data row5 col1\" >Yes</td>\n",
       "      <td id=\"T_ed427_row5_col2\" class=\"data row5 col2\" >The description provides a concise overview of what Expected Parrot does and highlights its achievements without attempting to cover every aspect of the company.</td>\n",
       "    </tr>\n",
       "    <tr>\n",
       "      <th id=\"T_ed427_level0_row6\" class=\"row_heading level0 row6\" >6</th>\n",
       "      <td id=\"T_ed427_row6_col0\" class=\"data row6 col0\" >Does the description make the listener curious to learn more?: {{ scenario.item }}</td>\n",
       "      <td id=\"T_ed427_row6_col1\" class=\"data row6 col1\" >Yes</td>\n",
       "      <td id=\"T_ed427_row6_col2\" class=\"data row6 col2\" >The description provides intriguing information about Expected Parrot's capabilities, its adoption by researchers, and its financial success with enterprise contracts. This combination of technical and business success can pique curiosity, encouraging the listener to learn more about how the company simulates customers and what specific tools they use.</td>\n",
       "    </tr>\n",
       "    <tr>\n",
       "      <th id=\"T_ed427_level0_row7\" class=\"row_heading level0 row7\" >7</th>\n",
       "      <td id=\"T_ed427_row7_col0\" class=\"data row7 col0\" >Is there a specific user story or unique selling point included?: {{ scenario.item }}</td>\n",
       "      <td id=\"T_ed427_row7_col1\" class=\"data row7 col1\" >Yes</td>\n",
       "      <td id=\"T_ed427_row7_col2\" class=\"data row7 col2\" >The unique selling point included is that Expected Parrot helps companies simulate their customers using open source tools, and it also mentions its success in gaining enterprise contracts and adoption among researchers at top companies.</td>\n",
       "    </tr>\n",
       "    <tr>\n",
       "      <th id=\"T_ed427_level0_row8\" class=\"row_heading level0 row8\" >8</th>\n",
       "      <td id=\"T_ed427_row8_col0\" class=\"data row8 col0\" >Is the description memorable and easy to repeat?: {{ scenario.item }}</td>\n",
       "      <td id=\"T_ed427_row8_col1\" class=\"data row8 col1\" >No</td>\n",
       "      <td id=\"T_ed427_row8_col2\" class=\"data row8 col2\" >The description, while informative, includes specific details such as the exact amount in enterprise contracts and mentions of researchers at top companies, which may not be easy to remember or repeat. A more memorable description might focus on the core function or unique aspect of the service in a simplified manner.</td>\n",
       "    </tr>\n",
       "    <tr>\n",
       "      <th id=\"T_ed427_level0_row9\" class=\"row_heading level0 row9\" >9</th>\n",
       "      <td id=\"T_ed427_row9_col0\" class=\"data row9 col0\" >Has the description been tested with new founders for clarity and understanding?: {{ scenario.item }}</td>\n",
       "      <td id=\"T_ed427_row9_col1\" class=\"data row9 col1\" >No</td>\n",
       "      <td id=\"T_ed427_row9_col2\" class=\"data row9 col2\" >The description provided is quite brief and may not be entirely clear to new founders without additional context. It mentions that Expected Parrot helps companies simulate their customers using open source tools and highlights its financial success and adoption, but it doesn't explain how the simulation works, what specific tools are used, or how it benefits the companies. Testing this description with new founders could help ensure that it is easily understood and conveys the necessary information about the service.</td>\n",
       "    </tr>\n",
       "  </tbody>\n",
       "</table>\n",
       "\n",
       "            </div>\n",
       "            "
      ],
      "text/plain": [
       "ScenarioList([Scenario({'question_text': 'Does the first sentence clearly explain what the startup does?: {{ scenario.item }}', 'answer': 'Yes', 'comment': 'The first sentence clearly explains that Expected Parrot assists companies in simulating their customers using open source tools.'}), Scenario({'question_text': 'Is the target user or customer clearly identified in the first sentence?: {{ scenario.item }}', 'answer': 'Yes', 'comment': 'The first sentence clearly identifies the target user or customer as \"companies\" that are interested in simulating their customers using open source tools.'}), Scenario({'question_text': 'Does the second sentence explain why the startup is awesome or better than competitors?: {{ scenario.item }}', 'answer': 'No', 'comment': \"The second sentence provides information about the startup's success and adoption but does not explicitly explain why it is awesome or better than competitors.\"}), Scenario({'question_text': 'Is the language used simple and free of buzzwords?: {{ scenario.item }}', 'answer': 'No', 'comment': None}), Scenario({'question_text': 'Is the description concise and limited to two sentences?: {{ scenario.item }}', 'answer': 'Yes', 'comment': 'The description is concise and limited to two sentences, as it clearly and succinctly communicates the main features and achievements of Expected Parrot in two complete sentences.'}), Scenario({'question_text': 'Does the description avoid trying to include everything about the company?: {{ scenario.item }}', 'answer': 'Yes', 'comment': 'The description provides a concise overview of what Expected Parrot does and highlights its achievements without attempting to cover every aspect of the company.'}), Scenario({'question_text': 'Does the description make the listener curious to learn more?: {{ scenario.item }}', 'answer': 'Yes', 'comment': \"The description provides intriguing information about Expected Parrot's capabilities, its adoption by researchers, and its financial success with enterprise contracts. This combination of technical and business success can pique curiosity, encouraging the listener to learn more about how the company simulates customers and what specific tools they use.\"}), Scenario({'question_text': 'Is there a specific user story or unique selling point included?: {{ scenario.item }}', 'answer': 'Yes', 'comment': 'The unique selling point included is that Expected Parrot helps companies simulate their customers using open source tools, and it also mentions its success in gaining enterprise contracts and adoption among researchers at top companies.'}), Scenario({'question_text': 'Is the description memorable and easy to repeat?: {{ scenario.item }}', 'answer': 'No', 'comment': 'The description, while informative, includes specific details such as the exact amount in enterprise contracts and mentions of researchers at top companies, which may not be easy to remember or repeat. A more memorable description might focus on the core function or unique aspect of the service in a simplified manner.'}), Scenario({'question_text': 'Has the description been tested with new founders for clarity and understanding?: {{ scenario.item }}', 'answer': 'No', 'comment': \"The description provided is quite brief and may not be entirely clear to new founders without additional context. It mentions that Expected Parrot helps companies simulate their customers using open source tools and highlights its financial success and adoption, but it doesn't explain how the simulation works, what specific tools are used, or how it benefits the companies. Testing this description with new founders could help ensure that it is easily understood and conveys the necessary information about the service.\"})])"
      ]
     },
     "execution_count": 6,
     "metadata": {},
     "output_type": "execute_result"
    }
   ],
   "source": [
    "good_results = survey(item = \"\"\"Expected Parrot helps companies simulate their customers using open source tools. \n",
    "It has over 120K in enterprise contracts as well as growing adoption among researchers at top companies.\"\"\")\n",
    "good_results[0].q_and_a()"
   ]
  },
  {
   "cell_type": "markdown",
   "id": "e9785738-1f29-4ca2-b2ea-dfd1c90fc517",
   "metadata": {},
   "source": [
    "OK! This is a bit better:"
   ]
  },
  {
   "cell_type": "code",
   "execution_count": 7,
   "id": "54c13d89-0a8e-4a12-87e3-9bdf849b8cf8",
   "metadata": {},
   "outputs": [
    {
     "data": {
      "text/html": [
       "\n",
       "            <div style=\"max-height: 500px; overflow-y: auto;\">\n",
       "                <style type=\"text/css\">\n",
       "#T_22aa5_row0_col0, #T_22aa5_row1_col0 {\n",
       "  text-align: left;\n",
       "  white-space: pre-wrap;\n",
       "  max-width: 300px;\n",
       "  word-wrap: break-word;\n",
       "}\n",
       "#T_22aa5_row0_col1 {\n",
       "  text-align: left;\n",
       "  white-space: pre-wrap;\n",
       "  max-width: 300px;\n",
       "  word-wrap: break-word;\n",
       "  background-color: #023858;\n",
       "  color: #f1f1f1;\n",
       "}\n",
       "#T_22aa5_row1_col1 {\n",
       "  text-align: left;\n",
       "  white-space: pre-wrap;\n",
       "  max-width: 300px;\n",
       "  word-wrap: break-word;\n",
       "  background-color: #fff7fb;\n",
       "  color: #000000;\n",
       "}\n",
       "</style>\n",
       "<table id=\"T_22aa5\">\n",
       "  <thead>\n",
       "    <tr>\n",
       "      <th class=\"blank level0\" >&nbsp;</th>\n",
       "      <th id=\"T_22aa5_level0_col0\" class=\"col_heading level0 col0\" >answer</th>\n",
       "      <th id=\"T_22aa5_level0_col1\" class=\"col_heading level0 col1\" >count</th>\n",
       "    </tr>\n",
       "  </thead>\n",
       "  <tbody>\n",
       "    <tr>\n",
       "      <th id=\"T_22aa5_level0_row0\" class=\"row_heading level0 row0\" >0</th>\n",
       "      <td id=\"T_22aa5_row0_col0\" class=\"data row0 col0\" >Yes</td>\n",
       "      <td id=\"T_22aa5_row0_col1\" class=\"data row0 col1\" >6</td>\n",
       "    </tr>\n",
       "    <tr>\n",
       "      <th id=\"T_22aa5_level0_row1\" class=\"row_heading level0 row1\" >1</th>\n",
       "      <td id=\"T_22aa5_row1_col0\" class=\"data row1 col0\" >No</td>\n",
       "      <td id=\"T_22aa5_row1_col1\" class=\"data row1 col1\" >4</td>\n",
       "    </tr>\n",
       "  </tbody>\n",
       "</table>\n",
       "\n",
       "            </div>\n",
       "            "
      ],
      "text/plain": [
       "Dataset([{'answer': ['Yes', 'No']}, {'count': [6, 4]}])"
      ]
     },
     "execution_count": 7,
     "metadata": {},
     "output_type": "execute_result"
    }
   ],
   "source": [
    "good_results[0].q_and_a().tally('answer')"
   ]
  },
  {
   "cell_type": "markdown",
   "id": "53c3c0f3-bcb0-47a7-a846-d0f95c2085c8",
   "metadata": {},
   "source": [
    "### Let's see where we failed: "
   ]
  },
  {
   "cell_type": "code",
   "execution_count": 8,
   "id": "2a7a9bb9-6468-4720-ab24-48a0e2144021",
   "metadata": {},
   "outputs": [
    {
     "data": {
      "text/html": [
       "<p><a href='https://docs.expectedparrot.com/en/latest/scenarios.html#scenariolist'>ScenarioList</a> scenarios: 4; keys: ['question_text', 'comment', 'answer'];</p>\n",
       "            <div style=\"max-height: 500px; overflow-y: auto;\">\n",
       "                <style type=\"text/css\">\n",
       "#T_f0d9b_row0_col0, #T_f0d9b_row0_col1, #T_f0d9b_row0_col2, #T_f0d9b_row1_col0, #T_f0d9b_row1_col1, #T_f0d9b_row1_col2, #T_f0d9b_row2_col0, #T_f0d9b_row2_col1, #T_f0d9b_row2_col2, #T_f0d9b_row3_col0, #T_f0d9b_row3_col1, #T_f0d9b_row3_col2 {\n",
       "  text-align: left;\n",
       "  white-space: pre-wrap;\n",
       "  max-width: 300px;\n",
       "  word-wrap: break-word;\n",
       "}\n",
       "</style>\n",
       "<table id=\"T_f0d9b\">\n",
       "  <thead>\n",
       "    <tr>\n",
       "      <th class=\"blank level0\" >&nbsp;</th>\n",
       "      <th id=\"T_f0d9b_level0_col0\" class=\"col_heading level0 col0\" >question_text</th>\n",
       "      <th id=\"T_f0d9b_level0_col1\" class=\"col_heading level0 col1\" >answer</th>\n",
       "      <th id=\"T_f0d9b_level0_col2\" class=\"col_heading level0 col2\" >comment</th>\n",
       "    </tr>\n",
       "  </thead>\n",
       "  <tbody>\n",
       "    <tr>\n",
       "      <th id=\"T_f0d9b_level0_row0\" class=\"row_heading level0 row0\" >0</th>\n",
       "      <td id=\"T_f0d9b_row0_col0\" class=\"data row0 col0\" >Does the second sentence explain why the startup is awesome or better than competitors?: {{ scenario.item }}</td>\n",
       "      <td id=\"T_f0d9b_row0_col1\" class=\"data row0 col1\" >No</td>\n",
       "      <td id=\"T_f0d9b_row0_col2\" class=\"data row0 col2\" >The second sentence provides information about the startup's success and adoption but does not explicitly explain why it is awesome or better than competitors.</td>\n",
       "    </tr>\n",
       "    <tr>\n",
       "      <th id=\"T_f0d9b_level0_row1\" class=\"row_heading level0 row1\" >1</th>\n",
       "      <td id=\"T_f0d9b_row1_col0\" class=\"data row1 col0\" >Is the language used simple and free of buzzwords?: {{ scenario.item }}</td>\n",
       "      <td id=\"T_f0d9b_row1_col1\" class=\"data row1 col1\" >No</td>\n",
       "      <td id=\"T_f0d9b_row1_col2\" class=\"data row1 col2\" >nan</td>\n",
       "    </tr>\n",
       "    <tr>\n",
       "      <th id=\"T_f0d9b_level0_row2\" class=\"row_heading level0 row2\" >2</th>\n",
       "      <td id=\"T_f0d9b_row2_col0\" class=\"data row2 col0\" >Is the description memorable and easy to repeat?: {{ scenario.item }}</td>\n",
       "      <td id=\"T_f0d9b_row2_col1\" class=\"data row2 col1\" >No</td>\n",
       "      <td id=\"T_f0d9b_row2_col2\" class=\"data row2 col2\" >The description, while informative, includes specific details such as the exact amount in enterprise contracts and mentions of researchers at top companies, which may not be easy to remember or repeat. A more memorable description might focus on the core function or unique aspect of the service in a simplified manner.</td>\n",
       "    </tr>\n",
       "    <tr>\n",
       "      <th id=\"T_f0d9b_level0_row3\" class=\"row_heading level0 row3\" >3</th>\n",
       "      <td id=\"T_f0d9b_row3_col0\" class=\"data row3 col0\" >Has the description been tested with new founders for clarity and understanding?: {{ scenario.item }}</td>\n",
       "      <td id=\"T_f0d9b_row3_col1\" class=\"data row3 col1\" >No</td>\n",
       "      <td id=\"T_f0d9b_row3_col2\" class=\"data row3 col2\" >The description provided is quite brief and may not be entirely clear to new founders without additional context. It mentions that Expected Parrot helps companies simulate their customers using open source tools and highlights its financial success and adoption, but it doesn't explain how the simulation works, what specific tools are used, or how it benefits the companies. Testing this description with new founders could help ensure that it is easily understood and conveys the necessary information about the service.</td>\n",
       "    </tr>\n",
       "  </tbody>\n",
       "</table>\n",
       "\n",
       "            </div>\n",
       "            "
      ],
      "text/plain": [
       "ScenarioList([Scenario({'question_text': 'Does the second sentence explain why the startup is awesome or better than competitors?: {{ scenario.item }}', 'answer': 'No', 'comment': \"The second sentence provides information about the startup's success and adoption but does not explicitly explain why it is awesome or better than competitors.\"}), Scenario({'question_text': 'Is the language used simple and free of buzzwords?: {{ scenario.item }}', 'answer': 'No', 'comment': None}), Scenario({'question_text': 'Is the description memorable and easy to repeat?: {{ scenario.item }}', 'answer': 'No', 'comment': 'The description, while informative, includes specific details such as the exact amount in enterprise contracts and mentions of researchers at top companies, which may not be easy to remember or repeat. A more memorable description might focus on the core function or unique aspect of the service in a simplified manner.'}), Scenario({'question_text': 'Has the description been tested with new founders for clarity and understanding?: {{ scenario.item }}', 'answer': 'No', 'comment': \"The description provided is quite brief and may not be entirely clear to new founders without additional context. It mentions that Expected Parrot helps companies simulate their customers using open source tools and highlights its financial success and adoption, but it doesn't explain how the simulation works, what specific tools are used, or how it benefits the companies. Testing this description with new founders could help ensure that it is easily understood and conveys the necessary information about the service.\"})])"
      ]
     },
     "execution_count": 8,
     "metadata": {},
     "output_type": "execute_result"
    }
   ],
   "source": [
    "good_results[0].q_and_a().filter(\"answer == 'No'\")"
   ]
  },
  {
   "cell_type": "markdown",
   "id": "f6c33d7f-e072-49bb-bc23-07c27ad519b9",
   "metadata": {},
   "source": [
    "### Hill Climb Time! \n",
    "\n",
    "I think I can deal with the \"awesomeness\" critique by adding a bit more detail. I'll do this by hand but it would be easy to create another EDSL app that could take checklist results and propose new candidates that would address flaws. "
   ]
  },
  {
   "cell_type": "code",
   "execution_count": 9,
   "id": "20292056-4bc5-410b-8de5-1fc3c41a7cb1",
   "metadata": {},
   "outputs": [
    {
     "data": {
      "text/html": [
       "\n",
       "            <div style=\"max-height: 500px; overflow-y: auto;\">\n",
       "                <style type=\"text/css\">\n",
       "#T_aea2a_row0_col0, #T_aea2a_row1_col0 {\n",
       "  text-align: left;\n",
       "  white-space: pre-wrap;\n",
       "  max-width: 300px;\n",
       "  word-wrap: break-word;\n",
       "}\n",
       "#T_aea2a_row0_col1 {\n",
       "  text-align: left;\n",
       "  white-space: pre-wrap;\n",
       "  max-width: 300px;\n",
       "  word-wrap: break-word;\n",
       "  background-color: #023858;\n",
       "  color: #f1f1f1;\n",
       "}\n",
       "#T_aea2a_row1_col1 {\n",
       "  text-align: left;\n",
       "  white-space: pre-wrap;\n",
       "  max-width: 300px;\n",
       "  word-wrap: break-word;\n",
       "  background-color: #fff7fb;\n",
       "  color: #000000;\n",
       "}\n",
       "</style>\n",
       "<table id=\"T_aea2a\">\n",
       "  <thead>\n",
       "    <tr>\n",
       "      <th class=\"blank level0\" >&nbsp;</th>\n",
       "      <th id=\"T_aea2a_level0_col0\" class=\"col_heading level0 col0\" >answer</th>\n",
       "      <th id=\"T_aea2a_level0_col1\" class=\"col_heading level0 col1\" >count</th>\n",
       "    </tr>\n",
       "  </thead>\n",
       "  <tbody>\n",
       "    <tr>\n",
       "      <th id=\"T_aea2a_level0_row0\" class=\"row_heading level0 row0\" >0</th>\n",
       "      <td id=\"T_aea2a_row0_col0\" class=\"data row0 col0\" >Yes</td>\n",
       "      <td id=\"T_aea2a_row0_col1\" class=\"data row0 col1\" >7</td>\n",
       "    </tr>\n",
       "    <tr>\n",
       "      <th id=\"T_aea2a_level0_row1\" class=\"row_heading level0 row1\" >1</th>\n",
       "      <td id=\"T_aea2a_row1_col0\" class=\"data row1 col0\" >No</td>\n",
       "      <td id=\"T_aea2a_row1_col1\" class=\"data row1 col1\" >3</td>\n",
       "    </tr>\n",
       "  </tbody>\n",
       "</table>\n",
       "\n",
       "            </div>\n",
       "            "
      ],
      "text/plain": [
       "Dataset([{'answer': ['Yes', 'No']}, {'count': [7, 3]}])"
      ]
     },
     "execution_count": 9,
     "metadata": {},
     "output_type": "execute_result"
    }
   ],
   "source": [
    "good_results_v2 = survey(item = \"\"\"Expected Parrot helps companies simulate their customers using open source tools faster, cheaper and more transparently than anyone else. \n",
    "It has over 120K in enterprise contracts as well as growing adoption among researchers at top companies.\"\"\")\n",
    "good_results_v2[0].q_and_a().tally('answer')"
   ]
  },
  {
   "cell_type": "markdown",
   "id": "236f3168-acb0-417d-94f8-e27cb7da89c8",
   "metadata": {},
   "source": [
    "We're still failing on simple and free of buzzwords and GPT4o doesn't think it's memorable enough. Fair. We'll work on it. "
   ]
  },
  {
   "cell_type": "code",
   "execution_count": 10,
   "id": "c836b1bf-7ea5-45d3-9c27-a19da39ce08e",
   "metadata": {},
   "outputs": [
    {
     "data": {
      "text/html": [
       "<p><a href='https://docs.expectedparrot.com/en/latest/scenarios.html#scenariolist'>ScenarioList</a> scenarios: 3; keys: ['question_text', 'comment', 'answer'];</p>\n",
       "            <div style=\"max-height: 500px; overflow-y: auto;\">\n",
       "                <style type=\"text/css\">\n",
       "#T_7baf4_row0_col0, #T_7baf4_row0_col1, #T_7baf4_row0_col2, #T_7baf4_row1_col0, #T_7baf4_row1_col1, #T_7baf4_row1_col2, #T_7baf4_row2_col0, #T_7baf4_row2_col1, #T_7baf4_row2_col2 {\n",
       "  text-align: left;\n",
       "  white-space: pre-wrap;\n",
       "  max-width: 300px;\n",
       "  word-wrap: break-word;\n",
       "}\n",
       "</style>\n",
       "<table id=\"T_7baf4\">\n",
       "  <thead>\n",
       "    <tr>\n",
       "      <th class=\"blank level0\" >&nbsp;</th>\n",
       "      <th id=\"T_7baf4_level0_col0\" class=\"col_heading level0 col0\" >question_text</th>\n",
       "      <th id=\"T_7baf4_level0_col1\" class=\"col_heading level0 col1\" >answer</th>\n",
       "      <th id=\"T_7baf4_level0_col2\" class=\"col_heading level0 col2\" >comment</th>\n",
       "    </tr>\n",
       "  </thead>\n",
       "  <tbody>\n",
       "    <tr>\n",
       "      <th id=\"T_7baf4_level0_row0\" class=\"row_heading level0 row0\" >0</th>\n",
       "      <td id=\"T_7baf4_row0_col0\" class=\"data row0 col0\" >Is the language used simple and free of buzzwords?: {{ scenario.item }}</td>\n",
       "      <td id=\"T_7baf4_row0_col1\" class=\"data row0 col1\" >No</td>\n",
       "      <td id=\"T_7baf4_row0_col2\" class=\"data row0 col2\" >The statement uses buzzwords and jargon such as \"simulate their customers,\" \"open source tools,\" \"faster, cheaper and more transparently,\" and \"enterprise contracts,\" which can be considered complex and not straightforward.</td>\n",
       "    </tr>\n",
       "    <tr>\n",
       "      <th id=\"T_7baf4_level0_row1\" class=\"row_heading level0 row1\" >1</th>\n",
       "      <td id=\"T_7baf4_row1_col0\" class=\"data row1 col0\" >Is the description memorable and easy to repeat?: {{ scenario.item }}</td>\n",
       "      <td id=\"T_7baf4_row1_col1\" class=\"data row1 col1\" >No</td>\n",
       "      <td id=\"T_7baf4_row1_col2\" class=\"data row1 col2\" >The description contains several elements that might be difficult to remember and repeat easily. It includes specific details like \"120K in enterprise contracts\" and \"growing adoption among researchers at top companies,\" which can be challenging to recall accurately. Additionally, the phrasing is somewhat complex, which can make it harder to repeat word-for-word.</td>\n",
       "    </tr>\n",
       "    <tr>\n",
       "      <th id=\"T_7baf4_level0_row2\" class=\"row_heading level0 row2\" >2</th>\n",
       "      <td id=\"T_7baf4_row2_col0\" class=\"data row2 col0\" >Has the description been tested with new founders for clarity and understanding?: {{ scenario.item }}</td>\n",
       "      <td id=\"T_7baf4_row2_col1\" class=\"data row2 col1\" >No</td>\n",
       "      <td id=\"T_7baf4_row2_col2\" class=\"data row2 col2\" >The description does not clearly convey its meaning in a way that would be easily understood by new founders. It uses jargon like \"simulate their customers\" and \"open source tools\" without explaining what these terms mean in the context of Expected Parrot's services. Additionally, the mention of \"120K in enterprise contracts\" and \"growing adoption among researchers at top companies\" is more about credibility than clarity of service description.</td>\n",
       "    </tr>\n",
       "  </tbody>\n",
       "</table>\n",
       "\n",
       "            </div>\n",
       "            "
      ],
      "text/plain": [
       "ScenarioList([Scenario({'question_text': 'Is the language used simple and free of buzzwords?: {{ scenario.item }}', 'answer': 'No', 'comment': 'The statement uses buzzwords and jargon such as \"simulate their customers,\" \"open source tools,\" \"faster, cheaper and more transparently,\" and \"enterprise contracts,\" which can be considered complex and not straightforward.'}), Scenario({'question_text': 'Is the description memorable and easy to repeat?: {{ scenario.item }}', 'answer': 'No', 'comment': 'The description contains several elements that might be difficult to remember and repeat easily. It includes specific details like \"120K in enterprise contracts\" and \"growing adoption among researchers at top companies,\" which can be challenging to recall accurately. Additionally, the phrasing is somewhat complex, which can make it harder to repeat word-for-word.'}), Scenario({'question_text': 'Has the description been tested with new founders for clarity and understanding?: {{ scenario.item }}', 'answer': 'No', 'comment': 'The description does not clearly convey its meaning in a way that would be easily understood by new founders. It uses jargon like \"simulate their customers\" and \"open source tools\" without explaining what these terms mean in the context of Expected Parrot\\'s services. Additionally, the mention of \"120K in enterprise contracts\" and \"growing adoption among researchers at top companies\" is more about credibility than clarity of service description.'})])"
      ]
     },
     "execution_count": 10,
     "metadata": {},
     "output_type": "execute_result"
    }
   ],
   "source": [
    "good_results_v2[0].q_and_a().filter(\"answer == 'No'\")"
   ]
  },
  {
   "cell_type": "code",
   "execution_count": 11,
   "id": "5959758f-d2ec-485c-9658-89450a2bbb55",
   "metadata": {},
   "outputs": [],
   "source": [
    "#from edsl import Notebook\n",
    "#nb = Notebook(path = \"TwoSentences.ipynb\")\n",
    "#info = nb.push(visibility = \"unlisted\", description = \"Demonstration of using EDSL App to improve 2 sentence description\", alias = 'two-sentence-demo')\n",
    "#print(info)"
   ]
  },
  {
   "cell_type": "code",
   "execution_count": 12,
   "id": "6dbcc533-4db1-403b-a337-27f863a7af26",
   "metadata": {},
   "outputs": [
    {
     "data": {
      "text/html": [
       "\n",
       "            <div style=\"max-height: 500px; overflow-y: auto;\">\n",
       "                <style type=\"text/css\">\n",
       "#T_3d24c_row0_col0, #T_3d24c_row0_col1, #T_3d24c_row0_col2, #T_3d24c_row0_col3, #T_3d24c_row0_col4, #T_3d24c_row0_col5, #T_3d24c_row0_col6, #T_3d24c_row0_col7, #T_3d24c_row0_col8, #T_3d24c_row0_col9, #T_3d24c_row0_col10, #T_3d24c_row0_col11, #T_3d24c_row0_col12, #T_3d24c_row0_col13, #T_3d24c_row0_col14, #T_3d24c_row0_col15, #T_3d24c_row0_col16, #T_3d24c_row0_col17, #T_3d24c_row0_col18, #T_3d24c_row0_col19 {\n",
       "  text-align: left;\n",
       "  white-space: pre-wrap;\n",
       "  max-width: 300px;\n",
       "  word-wrap: break-word;\n",
       "}\n",
       "</style>\n",
       "<table id=\"T_3d24c\">\n",
       "  <thead>\n",
       "    <tr>\n",
       "      <th class=\"blank level0\" >&nbsp;</th>\n",
       "      <th id=\"T_3d24c_level0_col0\" class=\"col_heading level0 col0\" >answer.question_0</th>\n",
       "      <th id=\"T_3d24c_level0_col1\" class=\"col_heading level0 col1\" >answer.question_1</th>\n",
       "      <th id=\"T_3d24c_level0_col2\" class=\"col_heading level0 col2\" >answer.question_2</th>\n",
       "      <th id=\"T_3d24c_level0_col3\" class=\"col_heading level0 col3\" >answer.question_3</th>\n",
       "      <th id=\"T_3d24c_level0_col4\" class=\"col_heading level0 col4\" >answer.question_4</th>\n",
       "      <th id=\"T_3d24c_level0_col5\" class=\"col_heading level0 col5\" >answer.question_5</th>\n",
       "      <th id=\"T_3d24c_level0_col6\" class=\"col_heading level0 col6\" >answer.question_6</th>\n",
       "      <th id=\"T_3d24c_level0_col7\" class=\"col_heading level0 col7\" >answer.question_7</th>\n",
       "      <th id=\"T_3d24c_level0_col8\" class=\"col_heading level0 col8\" >answer.question_8</th>\n",
       "      <th id=\"T_3d24c_level0_col9\" class=\"col_heading level0 col9\" >answer.question_9</th>\n",
       "      <th id=\"T_3d24c_level0_col10\" class=\"col_heading level0 col10\" >comment.question_9_comment</th>\n",
       "      <th id=\"T_3d24c_level0_col11\" class=\"col_heading level0 col11\" >comment.question_4_comment</th>\n",
       "      <th id=\"T_3d24c_level0_col12\" class=\"col_heading level0 col12\" >comment.question_8_comment</th>\n",
       "      <th id=\"T_3d24c_level0_col13\" class=\"col_heading level0 col13\" >comment.question_5_comment</th>\n",
       "      <th id=\"T_3d24c_level0_col14\" class=\"col_heading level0 col14\" >comment.question_6_comment</th>\n",
       "      <th id=\"T_3d24c_level0_col15\" class=\"col_heading level0 col15\" >comment.question_0_comment</th>\n",
       "      <th id=\"T_3d24c_level0_col16\" class=\"col_heading level0 col16\" >comment.question_1_comment</th>\n",
       "      <th id=\"T_3d24c_level0_col17\" class=\"col_heading level0 col17\" >comment.question_7_comment</th>\n",
       "      <th id=\"T_3d24c_level0_col18\" class=\"col_heading level0 col18\" >comment.question_2_comment</th>\n",
       "      <th id=\"T_3d24c_level0_col19\" class=\"col_heading level0 col19\" >comment.question_3_comment</th>\n",
       "    </tr>\n",
       "  </thead>\n",
       "  <tbody>\n",
       "    <tr>\n",
       "      <th id=\"T_3d24c_level0_row0\" class=\"row_heading level0 row0\" >0</th>\n",
       "      <td id=\"T_3d24c_row0_col0\" class=\"data row0 col0\" >No</td>\n",
       "      <td id=\"T_3d24c_row0_col1\" class=\"data row0 col1\" >No</td>\n",
       "      <td id=\"T_3d24c_row0_col2\" class=\"data row0 col2\" >No</td>\n",
       "      <td id=\"T_3d24c_row0_col3\" class=\"data row0 col3\" >No</td>\n",
       "      <td id=\"T_3d24c_row0_col4\" class=\"data row0 col4\" >Yes</td>\n",
       "      <td id=\"T_3d24c_row0_col5\" class=\"data row0 col5\" >Yes</td>\n",
       "      <td id=\"T_3d24c_row0_col6\" class=\"data row0 col6\" >Yes</td>\n",
       "      <td id=\"T_3d24c_row0_col7\" class=\"data row0 col7\" >Yes</td>\n",
       "      <td id=\"T_3d24c_row0_col8\" class=\"data row0 col8\" >No</td>\n",
       "      <td id=\"T_3d24c_row0_col9\" class=\"data row0 col9\" >No</td>\n",
       "      <td id=\"T_3d24c_row0_col10\" class=\"data row0 col10\" >The description \"Expected Parrot is Bringing About the Quantum Singularity. It's made with Love.\" is quite abstract and potentially confusing. It would be beneficial to test it with new founders to ensure it clearly communicates the intended message.</td>\n",
       "      <td id=\"T_3d24c_row0_col11\" class=\"data row0 col11\" >The description consists of two sentences, making it concise and meeting the requirement of being limited to two sentences.</td>\n",
       "      <td id=\"T_3d24c_row0_col12\" class=\"data row0 col12\" >The description is somewhat abstract and vague, making it less memorable and harder to repeat. It combines unrelated concepts like a \"Parrot\" and \"Quantum Singularity,\" which might not create a clear or lasting impression.</td>\n",
       "      <td id=\"T_3d24c_row0_col13\" class=\"data row0 col13\" >The description \"Expected Parrot is Bringing About the Quantum Singularity. It's made with Love.\" does not attempt to include everything about the company. It is brief and focuses on a specific aspect or mission of the company, rather than providing a comprehensive overview of all its activities, products, or services.</td>\n",
       "      <td id=\"T_3d24c_row0_col14\" class=\"data row0 col14\" >The description is intriguing and unusual, combining elements that are not typically associated with each other, such as a parrot and a quantum singularity. The phrase \"It's made with Love\" adds an additional layer of curiosity, making the listener wonder about the nature of the project or concept being described.</td>\n",
       "      <td id=\"T_3d24c_row0_col15\" class=\"data row0 col15\" >The first sentence, \"Expected Parrot is Bringing About the Quantum Singularity,\" is vague and does not clearly explain what the startup does. It uses abstract and possibly metaphorical language without providing specific information about the company's activities, products, or services.</td>\n",
       "      <td id=\"T_3d24c_row0_col16\" class=\"data row0 col16\" >The first sentence, \"Expected Parrot is Bringing About the Quantum Singularity,\" does not clearly identify a target user or customer. It mentions \"Expected Parrot\" and \"Quantum Singularity,\" but these terms do not specify a particular audience or user group.</td>\n",
       "      <td id=\"T_3d24c_row0_col17\" class=\"data row0 col17\" >The unique selling point included is \"Expected Parrot is Bringing About the Quantum Singularity. It's made with Love.\" This statement highlights a distinctive feature or concept related to the product or service, which is its association with the \"Quantum Singularity\" and the fact that it is \"made with Love.\"</td>\n",
       "      <td id=\"T_3d24c_row0_col18\" class=\"data row0 col18\" >The second sentence, \"It's made with Love,\" does not explain why the startup is awesome or better than competitors. It suggests a positive sentiment or a caring approach in the creation of the product but does not provide a comparative advantage or specific reason that makes the startup superior to its competitors.</td>\n",
       "      <td id=\"T_3d24c_row0_col19\" class=\"data row0 col19\" >The language used in the statement includes buzzwords like \"Quantum Singularity\" and phrases like \"It's made with Love,\" which are not simple and can be perceived as jargon or marketing language rather than straightforward communication.</td>\n",
       "    </tr>\n",
       "  </tbody>\n",
       "</table>\n",
       "\n",
       "            </div>\n",
       "            "
      ],
      "text/plain": [
       "Dataset([{'answer.question_0': ['No']}, {'answer.question_1': ['No']}, {'answer.question_2': ['No']}, {'answer.question_3': ['No']}, {'answer.question_4': ['Yes']}, {'answer.question_5': ['Yes']}, {'answer.question_6': ['Yes']}, {'answer.question_7': ['Yes']}, {'answer.question_8': ['No']}, {'answer.question_9': ['No']}, {'comment.question_9_comment': ['The description \"Expected Parrot is Bringing About the Quantum Singularity. It\\'s made with Love.\" is quite abstract and potentially confusing. It would be beneficial to test it with new founders to ensure it clearly communicates the intended message.']}, {'comment.question_4_comment': ['The description consists of two sentences, making it concise and meeting the requirement of being limited to two sentences.']}, {'comment.question_8_comment': ['The description is somewhat abstract and vague, making it less memorable and harder to repeat. It combines unrelated concepts like a \"Parrot\" and \"Quantum Singularity,\" which might not create a clear or lasting impression.']}, {'comment.question_5_comment': ['The description \"Expected Parrot is Bringing About the Quantum Singularity. It\\'s made with Love.\" does not attempt to include everything about the company. It is brief and focuses on a specific aspect or mission of the company, rather than providing a comprehensive overview of all its activities, products, or services.']}, {'comment.question_6_comment': ['The description is intriguing and unusual, combining elements that are not typically associated with each other, such as a parrot and a quantum singularity. The phrase \"It\\'s made with Love\" adds an additional layer of curiosity, making the listener wonder about the nature of the project or concept being described.']}, {'comment.question_0_comment': ['The first sentence, \"Expected Parrot is Bringing About the Quantum Singularity,\" is vague and does not clearly explain what the startup does. It uses abstract and possibly metaphorical language without providing specific information about the company\\'s activities, products, or services.']}, {'comment.question_1_comment': ['The first sentence, \"Expected Parrot is Bringing About the Quantum Singularity,\" does not clearly identify a target user or customer. It mentions \"Expected Parrot\" and \"Quantum Singularity,\" but these terms do not specify a particular audience or user group.']}, {'comment.question_7_comment': ['The unique selling point included is \"Expected Parrot is Bringing About the Quantum Singularity. It\\'s made with Love.\" This statement highlights a distinctive feature or concept related to the product or service, which is its association with the \"Quantum Singularity\" and the fact that it is \"made with Love.\"']}, {'comment.question_2_comment': ['The second sentence, \"It\\'s made with Love,\" does not explain why the startup is awesome or better than competitors. It suggests a positive sentiment or a caring approach in the creation of the product but does not provide a comparative advantage or specific reason that makes the startup superior to its competitors.']}, {'comment.question_3_comment': ['The language used in the statement includes buzzwords like \"Quantum Singularity\" and phrases like \"It\\'s made with Love,\" which are not simple and can be perceived as jargon or marketing language rather than straightforward communication.']}])"
      ]
     },
     "execution_count": 12,
     "metadata": {},
     "output_type": "execute_result"
    }
   ],
   "source": [
    "bad_results.select('answer.*', 'comment.*')"
   ]
  },
  {
   "cell_type": "code",
   "execution_count": 13,
   "id": "81676ddc-ee69-45f9-a4bd-f77bb699b109",
   "metadata": {},
   "outputs": [
    {
     "data": {
      "text/html": [
       "\n",
       "            <div style=\"max-height: 500px; overflow-y: auto;\">\n",
       "                <style type=\"text/css\">\n",
       "#T_17087_row0_col0, #T_17087_row0_col1, #T_17087_row0_col2, #T_17087_row0_col3, #T_17087_row0_col4, #T_17087_row0_col5, #T_17087_row0_col6, #T_17087_row0_col7, #T_17087_row0_col8, #T_17087_row0_col9, #T_17087_row0_col10 {\n",
       "  text-align: left;\n",
       "  white-space: pre-wrap;\n",
       "  max-width: 300px;\n",
       "  word-wrap: break-word;\n",
       "}\n",
       "</style>\n",
       "<table id=\"T_17087\">\n",
       "  <thead>\n",
       "    <tr>\n",
       "      <th class=\"blank level0\" >&nbsp;</th>\n",
       "      <th id=\"T_17087_level0_col0\" class=\"col_heading level0 col0\" >question_text.question_2_question_text</th>\n",
       "      <th id=\"T_17087_level0_col1\" class=\"col_heading level0 col1\" >question_text.question_9_question_text</th>\n",
       "      <th id=\"T_17087_level0_col2\" class=\"col_heading level0 col2\" >question_text.question_1_question_text</th>\n",
       "      <th id=\"T_17087_level0_col3\" class=\"col_heading level0 col3\" >question_text.question_5_question_text</th>\n",
       "      <th id=\"T_17087_level0_col4\" class=\"col_heading level0 col4\" >question_text.question_3_question_text</th>\n",
       "      <th id=\"T_17087_level0_col5\" class=\"col_heading level0 col5\" >question_text.question_4_question_text</th>\n",
       "      <th id=\"T_17087_level0_col6\" class=\"col_heading level0 col6\" >question_text.question_0_question_text</th>\n",
       "      <th id=\"T_17087_level0_col7\" class=\"col_heading level0 col7\" >question_text.question_6_question_text</th>\n",
       "      <th id=\"T_17087_level0_col8\" class=\"col_heading level0 col8\" >question_text.question_7_question_text</th>\n",
       "      <th id=\"T_17087_level0_col9\" class=\"col_heading level0 col9\" >question_text.question_8_question_text</th>\n",
       "      <th id=\"T_17087_level0_col10\" class=\"col_heading level0 col10\" >scenario.item</th>\n",
       "    </tr>\n",
       "  </thead>\n",
       "  <tbody>\n",
       "    <tr>\n",
       "      <th id=\"T_17087_level0_row0\" class=\"row_heading level0 row0\" >0</th>\n",
       "      <td id=\"T_17087_row0_col0\" class=\"data row0 col0\" >Does the second sentence explain why the startup is awesome or better than competitors?: {{ scenario.item }}</td>\n",
       "      <td id=\"T_17087_row0_col1\" class=\"data row0 col1\" >Has the description been tested with new founders for clarity and understanding?: {{ scenario.item }}</td>\n",
       "      <td id=\"T_17087_row0_col2\" class=\"data row0 col2\" >Is the target user or customer clearly identified in the first sentence?: {{ scenario.item }}</td>\n",
       "      <td id=\"T_17087_row0_col3\" class=\"data row0 col3\" >Does the description avoid trying to include everything about the company?: {{ scenario.item }}</td>\n",
       "      <td id=\"T_17087_row0_col4\" class=\"data row0 col4\" >Is the language used simple and free of buzzwords?: {{ scenario.item }}</td>\n",
       "      <td id=\"T_17087_row0_col5\" class=\"data row0 col5\" >Is the description concise and limited to two sentences?: {{ scenario.item }}</td>\n",
       "      <td id=\"T_17087_row0_col6\" class=\"data row0 col6\" >Does the first sentence clearly explain what the startup does?: {{ scenario.item }}</td>\n",
       "      <td id=\"T_17087_row0_col7\" class=\"data row0 col7\" >Does the description make the listener curious to learn more?: {{ scenario.item }}</td>\n",
       "      <td id=\"T_17087_row0_col8\" class=\"data row0 col8\" >Is there a specific user story or unique selling point included?: {{ scenario.item }}</td>\n",
       "      <td id=\"T_17087_row0_col9\" class=\"data row0 col9\" >Is the description memorable and easy to repeat?: {{ scenario.item }}</td>\n",
       "      <td id=\"T_17087_row0_col10\" class=\"data row0 col10\" >Expected Parrot is Bringing About the Quantum Singularity. It's made with Love.</td>\n",
       "    </tr>\n",
       "  </tbody>\n",
       "</table>\n",
       "\n",
       "            </div>\n",
       "            "
      ],
      "text/plain": [
       "Dataset([{'question_text.question_2_question_text': ['Does the second sentence explain why the startup is awesome or better than competitors?: {{ scenario.item }}']}, {'question_text.question_9_question_text': ['Has the description been tested with new founders for clarity and understanding?: {{ scenario.item }}']}, {'question_text.question_1_question_text': ['Is the target user or customer clearly identified in the first sentence?: {{ scenario.item }}']}, {'question_text.question_5_question_text': ['Does the description avoid trying to include everything about the company?: {{ scenario.item }}']}, {'question_text.question_3_question_text': ['Is the language used simple and free of buzzwords?: {{ scenario.item }}']}, {'question_text.question_4_question_text': ['Is the description concise and limited to two sentences?: {{ scenario.item }}']}, {'question_text.question_0_question_text': ['Does the first sentence clearly explain what the startup does?: {{ scenario.item }}']}, {'question_text.question_6_question_text': ['Does the description make the listener curious to learn more?: {{ scenario.item }}']}, {'question_text.question_7_question_text': ['Is there a specific user story or unique selling point included?: {{ scenario.item }}']}, {'question_text.question_8_question_text': ['Is the description memorable and easy to repeat?: {{ scenario.item }}']}, {'scenario.item': [\"Expected Parrot is Bringing About the Quantum Singularity. It's made with Love.\"]}])"
      ]
     },
     "execution_count": 13,
     "metadata": {},
     "output_type": "execute_result"
    }
   ],
   "source": [
    "bad_results.select('question_text.*', 'scenario.item')"
   ]
  },
  {
   "cell_type": "code",
   "execution_count": 14,
   "id": "cc80b4a5-d72f-49c7-8e95-c73b32886b5a",
   "metadata": {},
   "outputs": [],
   "source": [
    "from edsl import QuestionFreeText\n",
    "q_improve = QuestionFreeText(question_name = \"improve\", \n",
    "                     question_text = \"\"\" \n",
    "                     This 2 sentence startup description: {{ scenario.item }} \n",
    "                     was evaluated on the criterion {{ scenario.question_text }}\n",
    "                     It was judged {{ scenario.answer }}\n",
    "                     The comment was {{ scenario.comment }}\n",
    "                     Please come up with an improved version that might help pass this criterion.\n",
    "                     \"\"\")\n"
   ]
  },
  {
   "cell_type": "code",
   "execution_count": 15,
   "id": "c596fc0e-e020-46e5-9cd5-f5771c101154",
   "metadata": {},
   "outputs": [],
   "source": [
    "cutsheet = good_results_v2[0].q_and_a(include_scenario = True).filter(\"answer == 'No'\")"
   ]
  },
  {
   "cell_type": "code",
   "execution_count": 16,
   "id": "d90f8dd6-e628-47cf-987c-a913af1893fe",
   "metadata": {},
   "outputs": [],
   "source": [
    "improved = q_improve.by(cutsheet).run()"
   ]
  },
  {
   "cell_type": "code",
   "execution_count": 20,
   "id": "c8c39b9d-6a57-48e4-a003-86cacc2e5b2d",
   "metadata": {},
   "outputs": [
    {
     "data": {
      "text/html": [
       "<p><a href='https://docs.expectedparrot.com/en/latest/scenarios.html'>Scenario</a></p>\n",
       "            <div style=\"max-height: 500px; overflow-y: auto;\">\n",
       "                <style type=\"text/css\">\n",
       "#T_cc100_row0_col0, #T_cc100_row0_col1, #T_cc100_row1_col0, #T_cc100_row1_col1, #T_cc100_row2_col0, #T_cc100_row2_col1, #T_cc100_row3_col0, #T_cc100_row3_col1, #T_cc100_row4_col0, #T_cc100_row4_col1 {\n",
       "  text-align: left;\n",
       "  white-space: pre-wrap;\n",
       "  max-width: 300px;\n",
       "  word-wrap: break-word;\n",
       "}\n",
       "</style>\n",
       "<table id=\"T_cc100\">\n",
       "  <thead>\n",
       "    <tr>\n",
       "      <th class=\"blank level0\" >&nbsp;</th>\n",
       "      <th id=\"T_cc100_level0_col0\" class=\"col_heading level0 col0\" >key</th>\n",
       "      <th id=\"T_cc100_level0_col1\" class=\"col_heading level0 col1\" >value</th>\n",
       "    </tr>\n",
       "  </thead>\n",
       "  <tbody>\n",
       "    <tr>\n",
       "      <th id=\"T_cc100_level0_row0\" class=\"row_heading level0 row0\" >0</th>\n",
       "      <td id=\"T_cc100_row0_col0\" class=\"data row0 col0\" >question_text</td>\n",
       "      <td id=\"T_cc100_row0_col1\" class=\"data row0 col1\" >Is the language used simple and free of buzzwords?: {{ scenario.item }}</td>\n",
       "    </tr>\n",
       "    <tr>\n",
       "      <th id=\"T_cc100_level0_row1\" class=\"row_heading level0 row1\" >1</th>\n",
       "      <td id=\"T_cc100_row1_col0\" class=\"data row1 col0\" >answer</td>\n",
       "      <td id=\"T_cc100_row1_col1\" class=\"data row1 col1\" >No</td>\n",
       "    </tr>\n",
       "    <tr>\n",
       "      <th id=\"T_cc100_level0_row2\" class=\"row_heading level0 row2\" >2</th>\n",
       "      <td id=\"T_cc100_row2_col0\" class=\"data row2 col0\" >comment</td>\n",
       "      <td id=\"T_cc100_row2_col1\" class=\"data row2 col1\" >The statement uses buzzwords and jargon such as \"simulate their customers,\" \"open source tools,\" \"faster, cheaper and more transparently,\" and \"enterprise contracts,\" which can be considered complex and not straightforward.</td>\n",
       "    </tr>\n",
       "    <tr>\n",
       "      <th id=\"T_cc100_level0_row3\" class=\"row_heading level0 row3\" >3</th>\n",
       "      <td id=\"T_cc100_row3_col0\" class=\"data row3 col0\" >item</td>\n",
       "      <td id=\"T_cc100_row3_col1\" class=\"data row3 col1\" >Expected Parrot helps companies simulate their customers using open source tools faster, cheaper and more transparently than anyone else. \n",
       "It has over 120K in enterprise contracts as well as growing adoption among researchers at top companies.</td>\n",
       "    </tr>\n",
       "    <tr>\n",
       "      <th id=\"T_cc100_level0_row4\" class=\"row_heading level0 row4\" >4</th>\n",
       "      <td id=\"T_cc100_row4_col0\" class=\"data row4 col0\" >scenario_index</td>\n",
       "      <td id=\"T_cc100_row4_col1\" class=\"data row4 col1\" >0</td>\n",
       "    </tr>\n",
       "  </tbody>\n",
       "</table>\n",
       "\n",
       "            </div>\n",
       "            "
      ],
      "text/plain": [
       "Scenario({'question_text': 'Is the language used simple and free of buzzwords?: {{ scenario.item }}', 'answer': 'No', 'comment': 'The statement uses buzzwords and jargon such as \"simulate their customers,\" \"open source tools,\" \"faster, cheaper and more transparently,\" and \"enterprise contracts,\" which can be considered complex and not straightforward.', 'item': 'Expected Parrot helps companies simulate their customers using open source tools faster, cheaper and more transparently than anyone else. \\nIt has over 120K in enterprise contracts as well as growing adoption among researchers at top companies.', 'scenario_index': 0})"
      ]
     },
     "execution_count": 20,
     "metadata": {},
     "output_type": "execute_result"
    }
   ],
   "source": [
    "cutsheet[0]"
   ]
  },
  {
   "cell_type": "code",
   "execution_count": 23,
   "id": "6e3f6c90-2b95-4f5a-a160-928bdc58708c",
   "metadata": {},
   "outputs": [
    {
     "data": {
      "text/html": [
       "\n",
       "            <div style=\"max-height: 500px; overflow-y: auto;\">\n",
       "                <style type=\"text/css\">\n",
       "#T_ea76c_row0_col0, #T_ea76c_row0_col1, #T_ea76c_row1_col0, #T_ea76c_row1_col1, #T_ea76c_row2_col0, #T_ea76c_row2_col1, #T_ea76c_row3_col0, #T_ea76c_row3_col1 {\n",
       "  text-align: left;\n",
       "  white-space: pre-wrap;\n",
       "  max-width: 300px;\n",
       "  word-wrap: break-word;\n",
       "}\n",
       "</style>\n",
       "<table id=\"T_ea76c\">\n",
       "  <thead>\n",
       "    <tr>\n",
       "      <th class=\"blank level0\" >&nbsp;</th>\n",
       "      <th id=\"T_ea76c_level0_col0\" class=\"col_heading level0 col0\" >scenario.question_text</th>\n",
       "      <th id=\"T_ea76c_level0_col1\" class=\"col_heading level0 col1\" >answer.improve</th>\n",
       "    </tr>\n",
       "  </thead>\n",
       "  <tbody>\n",
       "    <tr>\n",
       "      <th id=\"T_ea76c_level0_row0\" class=\"row_heading level0 row0\" >0</th>\n",
       "      <td id=\"T_ea76c_row0_col0\" class=\"data row0 col0\" >Is the language used simple and free of buzzwords?: {{ scenario.item }}</td>\n",
       "      <td id=\"T_ea76c_row0_col1\" class=\"data row0 col1\" >Expected Parrot provides companies with easy-to-use tools to better understand their customers. Our approach is cost-effective, efficient, and open for everyone to see. We have secured over $120,000 in business contracts and are increasingly popular with researchers at leading companies.</td>\n",
       "    </tr>\n",
       "    <tr>\n",
       "      <th id=\"T_ea76c_level0_row1\" class=\"row_heading level0 row1\" >1</th>\n",
       "      <td id=\"T_ea76c_row1_col0\" class=\"data row1 col0\" >Is the description memorable and easy to repeat?: {{ scenario.item }}</td>\n",
       "      <td id=\"T_ea76c_row1_col1\" class=\"data row1 col1\" >Expected Parrot empowers companies to simulate their customers quickly and transparently using open-source tools. With over $120K in contracts and growing interest from top researchers, we're a trusted choice for innovation.</td>\n",
       "    </tr>\n",
       "    <tr>\n",
       "      <th id=\"T_ea76c_level0_row2\" class=\"row_heading level0 row2\" >2</th>\n",
       "      <td id=\"T_ea76c_row2_col0\" class=\"data row2 col0\" >Has the description been tested with new founders for clarity and understanding?: {{ scenario.item }}</td>\n",
       "      <td id=\"T_ea76c_row2_col1\" class=\"data row2 col1\" >Expected Parrot enables businesses to better understand and predict customer behavior using accessible and cost-effective technology. By leveraging open source software, we provide a transparent and efficient way to analyze customer interactions. With over $120,000 in contracts from major enterprises and increasing interest from leading researchers, our solution is trusted by top companies to enhance their customer insights.</td>\n",
       "    </tr>\n",
       "    <tr>\n",
       "      <th id=\"T_ea76c_level0_row3\" class=\"row_heading level0 row3\" >3</th>\n",
       "      <td id=\"T_ea76c_row3_col0\" class=\"data row3 col0\" >Does it mention ducks?</td>\n",
       "      <td id=\"T_ea76c_row3_col1\" class=\"data row3 col1\" >Expected Parrot helps companies simulate their customers using open source tools faster, cheaper, and more transparently than anyone else, with the precision of a duck navigating water. It has over 120K in enterprise contracts, as well as growing adoption among researchers at top companies who appreciate the adaptability and efficiency akin to a duck's streamlined movements.</td>\n",
       "    </tr>\n",
       "  </tbody>\n",
       "</table>\n",
       "\n",
       "            </div>\n",
       "            "
      ],
      "text/plain": [
       "Dataset([{'scenario.question_text': ['Is the language used simple and free of buzzwords?: {{ scenario.item }}', 'Is the description memorable and easy to repeat?: {{ scenario.item }}', 'Has the description been tested with new founders for clarity and understanding?: {{ scenario.item }}', 'Does it mention ducks?']}, {'answer.improve': ['Expected Parrot provides companies with easy-to-use tools to better understand their customers. Our approach is cost-effective, efficient, and open for everyone to see. We have secured over $120,000 in business contracts and are increasingly popular with researchers at leading companies.', \"Expected Parrot empowers companies to simulate their customers quickly and transparently using open-source tools. With over $120K in contracts and growing interest from top researchers, we're a trusted choice for innovation.\", 'Expected Parrot enables businesses to better understand and predict customer behavior using accessible and cost-effective technology. By leveraging open source software, we provide a transparent and efficient way to analyze customer interactions. With over $120,000 in contracts from major enterprises and increasing interest from leading researchers, our solution is trusted by top companies to enhance their customer insights.', \"Expected Parrot helps companies simulate their customers using open source tools faster, cheaper, and more transparently than anyone else, with the precision of a duck navigating water. It has over 120K in enterprise contracts, as well as growing adoption among researchers at top companies who appreciate the adaptability and efficiency akin to a duck's streamlined movements.\"]}])"
      ]
     },
     "execution_count": 23,
     "metadata": {},
     "output_type": "execute_result"
    }
   ],
   "source": [
    "improved.select('scenario.question_text', 'answer.*')"
   ]
  },
  {
   "cell_type": "code",
   "execution_count": 25,
   "id": "5b500051-58da-4802-9b0e-656017db3ba3",
   "metadata": {},
   "outputs": [
    {
     "data": {
      "text/html": [
       "\n",
       "            <div style=\"max-height: 500px; overflow-y: auto;\">\n",
       "                <style type=\"text/css\">\n",
       "#T_d3c58_row0_col0 {\n",
       "  text-align: left;\n",
       "  white-space: pre-wrap;\n",
       "  max-width: 300px;\n",
       "  word-wrap: break-word;\n",
       "}\n",
       "</style>\n",
       "<table id=\"T_d3c58\">\n",
       "  <thead>\n",
       "    <tr>\n",
       "      <th class=\"blank level0\" >&nbsp;</th>\n",
       "      <th id=\"T_d3c58_level0_col0\" class=\"col_heading level0 col0\" >improve</th>\n",
       "    </tr>\n",
       "  </thead>\n",
       "  <tbody>\n",
       "    <tr>\n",
       "      <th id=\"T_d3c58_level0_row0\" class=\"row_heading level0 row0\" >0</th>\n",
       "      <td id=\"T_d3c58_row0_col0\" class=\"data row0 col0\" >Expected Parrot helps companies simulate their customers using open source tools faster, cheaper, and more transparently than anyone else, with the precision of a duck navigating water. It has over 120K in enterprise contracts, as well as growing adoption among researchers at top companies who appreciate the adaptability and efficiency akin to a duck's streamlined movements.</td>\n",
       "    </tr>\n",
       "  </tbody>\n",
       "</table>\n",
       "\n",
       "            </div>\n",
       "            "
      ],
      "text/plain": [
       "Dataset([{'improve': [\"Expected Parrot helps companies simulate their customers using open source tools faster, cheaper, and more transparently than anyone else, with the precision of a duck navigating water. It has over 120K in enterprise contracts, as well as growing adoption among researchers at top companies who appreciate the adaptability and efficiency akin to a duck's streamlined movements.\"]}])"
      ]
     },
     "execution_count": 25,
     "metadata": {},
     "output_type": "execute_result"
    }
   ],
   "source": [
    "improved = q_improve.by(cutsheet.tack_on({'question_text': \"Does it mention ducks?\", \n",
    "                                          'answer': 'No', \n",
    "                                          'comment': \"It must mention ducks\"})).run()\n",
    "improved.select('answer.*').filter(\"'duck' in improve\")"
   ]
  },
  {
   "cell_type": "code",
   "execution_count": null,
   "id": "5a17ff9f-4e79-4aed-bd27-ea8ed2475b5c",
   "metadata": {},
   "outputs": [],
   "source": []
  }
 ],
 "metadata": {
  "kernelspec": {
   "display_name": "Python 3 (ipykernel)",
   "language": "python",
   "name": "python3"
  },
  "language_info": {
   "codemirror_mode": {
    "name": "ipython",
    "version": 3
   },
   "file_extension": ".py",
   "mimetype": "text/x-python",
   "name": "python",
   "nbconvert_exporter": "python",
   "pygments_lexer": "ipython3",
   "version": "3.11.0"
  }
 },
 "nbformat": 4,
 "nbformat_minor": 5
}
