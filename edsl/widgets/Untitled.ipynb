{
 "cells": [
  {
   "cell_type": "code",
   "execution_count": 1,
   "id": "f692d2b6-ee6f-48c2-afea-c519fd42c5a9",
   "metadata": {},
   "outputs": [],
   "source": [
    "from edsl.widgets.result_inspector import ResultInspectorWidget"
   ]
  },
  {
   "cell_type": "code",
   "execution_count": 3,
   "id": "357b5c96-2e8f-4cb4-b782-06fe23e41931",
   "metadata": {},
   "outputs": [
    {
     "name": "stdout",
     "output_type": "stream",
     "text": [
      "Error loading assets from coop: Failed to load widget 'result_inspector': Widget not found.\n",
      "\n",
      "\n",
      "Exception raised when the server returns an error response.\n",
      "\n",
      "    This exception is raised when the Expected Parrot API returns an error\n",
      "    response, such as authentication failures, rate limits, or server errors.\n",
      "    The exception message typically includes the error details from the server.\n",
      "\n",
      "    To fix this error:\n",
      "    1. Check the exception message for specific error details from the server\n",
      "    2. For authentication errors (401), verify your API key is correct and not expired\n",
      "    3. For rate limit errors (429), reduce the frequency of your requests\n",
      "    4. For server errors (500+), the issue may be temporary - wait and try again\n",
      "    5. Check your network connection if you're getting connection timeout errors\n",
      "\n",
      "    Example:\n",
      "        ```python\n",
      "        coop = Coop(api_key=\"invalid-key\")\n",
      "        coop.get(\"valid-uuid\")  # Raises CoopServerResponseError with 401 Unauthorized\n",
      "        ```\n",
      "\n",
      "\n",
      "For more information, see: https://docs.expectedparrot.com/en/latest/api_keys.html\n"
     ]
    },
    {
     "data": {
      "application/vnd.jupyter.widget-view+json": {
       "model_id": "b345ad2dfdda4491b755a9babf03ae81",
       "version_major": 2,
       "version_minor": 1
      },
      "text/plain": [
       "ResultInspectorWidget(copy_request={'is_default': True}, expanded_sections=['answers'], result_data={'agent': …"
      ]
     },
     "execution_count": 3,
     "metadata": {},
     "output_type": "execute_result"
    }
   ],
   "source": [
    "from edsl import Results\n",
    "\n",
    "ResultInspectorWidget(Results.example())"
   ]
  },
  {
   "cell_type": "code",
   "execution_count": null,
   "id": "77712817-3ec4-422e-8642-74b802b30c02",
   "metadata": {},
   "outputs": [],
   "source": []
  }
 ],
 "metadata": {
  "kernelspec": {
   "display_name": "Python 3 (ipykernel)",
   "language": "python",
   "name": "python3"
  },
  "language_info": {
   "codemirror_mode": {
    "name": "ipython",
    "version": 3
   },
   "file_extension": ".py",
   "mimetype": "text/x-python",
   "name": "python",
   "nbconvert_exporter": "python",
   "pygments_lexer": "ipython3",
   "version": "3.11.0"
  }
 },
 "nbformat": 4,
 "nbformat_minor": 5
}
