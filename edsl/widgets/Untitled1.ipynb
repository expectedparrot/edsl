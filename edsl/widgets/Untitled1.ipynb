{
 "cells": [
  {
   "cell_type": "code",
   "execution_count": 4,
   "id": "93de1517-06eb-42e3-badb-11f91377ed9d",
   "metadata": {},
   "outputs": [],
   "source": []
  },
  {
   "cell_type": "code",
   "execution_count": 1,
   "id": "6a28cb1e-fab8-463b-9e99-d24db0457d36",
   "metadata": {},
   "outputs": [
    {
     "data": {
      "application/vnd.jupyter.widget-view+json": {
       "model_id": "38d5889768f1484581f57fd13c9a7f33",
       "version_major": 2,
       "version_minor": 1
      },
      "text/plain": [
       "DataFrameGridChartsWidget(categorical_columns=['period', 'status', 'agent_instruction', 'canned_response', 'in…"
      ]
     },
     "execution_count": 1,
     "metadata": {},
     "output_type": "execute_result"
    }
   ],
   "source": [
    "from edsl.widgets.dataframe_grid_charts_widget import DataFrameGridChartsWidget as W\n",
    "import pandas as pd\n",
    "#from edsl.widgets import DataFrameGridChartsWidget as W\n",
    "from edsl import Results\n",
    "df = Results.example().to_pandas(remove_prefix = True)\n",
    "W(dataframe=df)"
   ]
  },
  {
   "cell_type": "code",
   "execution_count": 8,
   "id": "7d1f9b1c-bb05-4e82-be19-32fb585bffcc",
   "metadata": {
    "scrolled": true
   },
   "outputs": [
    {
     "data": {
      "application/vnd.jupyter.widget-view+json": {
       "model_id": "b70e235d9c884b468f94778393052e89",
       "version_major": 2,
       "version_minor": 1
      },
      "text/plain": [
       "DataFrameGridWidget(columns=[{'field': '_row_index', 'headerName': 'Index', 'hide': True, 'suppressMenu': True…"
      ]
     },
     "execution_count": 8,
     "metadata": {},
     "output_type": "execute_result"
    }
   ],
   "source": [
    "df = Results.example().to_pandas(remove_prefix=True)\n",
    "widget = DataFrameGridWidget(dataframe=df)\n",
    "widget"
   ]
  },
  {
   "cell_type": "code",
   "execution_count": 2,
   "id": "5f3df120-5f0d-4338-9c16-117091d43aa0",
   "metadata": {},
   "outputs": [
    {
     "ename": "NameError",
     "evalue": "name 'DataFrameGridWidget' is not defined",
     "output_type": "error",
     "traceback": [
      "\u001b[0;31m---------------------------------------------------------------------------\u001b[0m",
      "\u001b[0;31mNameError\u001b[0m                                 Traceback (most recent call last)",
      "Cell \u001b[0;32mIn[2], line 2\u001b[0m\n\u001b[1;32m      1\u001b[0m df \u001b[38;5;241m=\u001b[39m Results\u001b[38;5;241m.\u001b[39mexample()\u001b[38;5;241m.\u001b[39mto_pandas(remove_prefix\u001b[38;5;241m=\u001b[39m\u001b[38;5;28;01mTrue\u001b[39;00m)\n\u001b[0;32m----> 2\u001b[0m widget \u001b[38;5;241m=\u001b[39m \u001b[43mDataFrameGridWidget\u001b[49m(dataframe\u001b[38;5;241m=\u001b[39mdf)\n\u001b[1;32m      3\u001b[0m widget\n",
      "\u001b[0;31mNameError\u001b[0m: name 'DataFrameGridWidget' is not defined"
     ]
    }
   ],
   "source": [
    "df = Results.example().to_pandas(remove_prefix=True)\n",
    "widget = DataFrameGridWidget(dataframe=df)\n",
    "widget"
   ]
  },
  {
   "cell_type": "code",
   "execution_count": 1,
   "id": "75d3e184-dec7-413f-90d3-95d912e50da2",
   "metadata": {},
   "outputs": [
    {
     "data": {
      "application/vnd.jupyter.widget-view+json": {
       "model_id": "4c770e7e43664717b4d38184fe38de52",
       "version_major": 2,
       "version_minor": 1
      },
      "text/plain": [
       "DataFrameGridChartsEnterpriseWidget(categorical_columns=['period', 'agent_instruction', 'status', 'inference_s…"
      ]
     },
     "execution_count": 1,
     "metadata": {},
     "output_type": "execute_result"
    }
   ],
   "source": [
    "from dataframe_grid_charts_enterprise_widget import DataFrameGridChartsEnterpriseWidget as W\n",
    "import pandas as pd\n",
    "from edsl import Results\n",
    "df = Results.example().to_pandas(remove_prefix = True)\n",
    "W(dataframe=df)"
   ]
  },
  {
   "cell_type": "code",
   "execution_count": null,
   "id": "19b677ea-b9d6-4445-b3f3-82d67fbdec56",
   "metadata": {},
   "outputs": [],
   "source": []
  },
  {
   "cell_type": "code",
   "execution_count": null,
   "id": "2e40ad32-b078-4373-bf0c-0a09522033e3",
   "metadata": {},
   "outputs": [],
   "source": []
  }
 ],
 "metadata": {
  "kernelspec": {
   "display_name": "Python 3 (ipykernel)",
   "language": "python",
   "name": "python3"
  },
  "language_info": {
   "codemirror_mode": {
    "name": "ipython",
    "version": 3
   },
   "file_extension": ".py",
   "mimetype": "text/x-python",
   "name": "python",
   "nbconvert_exporter": "python",
   "pygments_lexer": "ipython3",
   "version": "3.11.0"
  }
 },
 "nbformat": 4,
 "nbformat_minor": 5
}
