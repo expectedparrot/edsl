{
 "cells": [
  {
   "cell_type": "code",
   "execution_count": 4,
   "id": "be8a0aca-7eee-468d-b4ed-261749f2afe4",
   "metadata": {},
   "outputs": [],
   "source": [
    "from edsl.widgets import SurveyWidget"
   ]
  },
  {
   "cell_type": "code",
   "execution_count": null,
   "id": "eafd9f07-a1d0-4cbc-86a7-7842d38b700e",
   "metadata": {},
   "outputs": [],
   "source": [
    "from edsl import Survey\n",
    "SurveyWidget(Survey.example())"
   ]
  }
 ],
 "metadata": {
  "kernelspec": {
   "display_name": "Python 3 (ipykernel)",
   "language": "python",
   "name": "python3"
  },
  "language_info": {
   "codemirror_mode": {
    "name": "ipython",
    "version": 3
   },
   "file_extension": ".py",
   "mimetype": "text/x-python",
   "name": "python",
   "nbconvert_exporter": "python",
   "pygments_lexer": "ipython3",
   "version": "3.11.0"
  }
 },
 "nbformat": 4,
 "nbformat_minor": 5
}
