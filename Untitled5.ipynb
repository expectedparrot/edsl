{
 "cells": [
  {
   "cell_type": "code",
   "execution_count": 1,
   "id": "f3556f06-2820-477c-8d2f-3f506030a1e2",
   "metadata": {},
   "outputs": [],
   "source": [
    "from edsl import QuestionMultipleChoice, Survey\n",
    "\n",
    "q1 = QuestionMultipleChoice(\n",
    "    question_text = \"\"\"\n",
    "You and another player are playing a game in which each player requests an amount\n",
    "of money. The amount must be (an integer) between 11 and 20 shekels. Each player\n",
    "will receive the amount he requests. A player will receive an additional amount of 20\n",
    "shekels if he asks for exactly one shekel less than the other player. \n",
    "\n",
    "What amount of money would you request?\"\"\", \n",
    "                      question_options = [11,12,13,14,15,16,17,18,19,20], \n",
    "                      question_name = \"amount\")\n",
    "\n",
    "q2 = QuestionFreeText(question_text = \"Any comments on how you decided?\", \n",
    "                      question_name = \"reasoning\")\n",
    "Survey([q1, q2])"
   ]
  },
  {
   "cell_type": "code",
   "execution_count": 2,
   "id": "73ce8c38-8094-4f13-ab13-515dadb8acf8",
   "metadata": {},
   "outputs": [
    {
     "data": {
      "text/plain": [
       "{'project_name': 'Project',\n",
       " 'uuid': '73ac1887-c148-4ae6-a532-49aee880991e',\n",
       " 'admin_url': 'http://localhost:1234/home/projects/73ac1887-c148-4ae6-a532-49aee880991e',\n",
       " 'respondent_url': 'http://localhost:1234/respond/projects/73ac1887-c148-4ae6-a532-49aee880991e/runs/88fc3507-cd7f-4546-823e-0a0772ad18ab'}"
      ]
     },
     "execution_count": 2,
     "metadata": {},
     "output_type": "execute_result"
    }
   ],
   "source": [
    "q.humanize()"
   ]
  },
  {
   "cell_type": "code",
   "execution_count": null,
   "id": "7877cf30-10aa-4b64-ad4f-77d42eeef390",
   "metadata": {},
   "outputs": [],
   "source": [
    "from edsl import Survey\n",
    "\n",
    "survey = Survey.pull(\"b8d34103-7fe1-4bf2-bdba-3df825079ff8\")"
   ]
  }
 ],
 "metadata": {
  "kernelspec": {
   "display_name": "Python 3 (ipykernel)",
   "language": "python",
   "name": "python3"
  },
  "language_info": {
   "codemirror_mode": {
    "name": "ipython",
    "version": 3
   },
   "file_extension": ".py",
   "mimetype": "text/x-python",
   "name": "python",
   "nbconvert_exporter": "python",
   "pygments_lexer": "ipython3",
   "version": "3.11.0"
  }
 },
 "nbformat": 4,
 "nbformat_minor": 5
}
